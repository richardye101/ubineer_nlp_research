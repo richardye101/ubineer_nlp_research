{
 "cells": [
  {
   "cell_type": "markdown",
   "metadata": {},
   "source": [
    "## Topic Modelling Introduction\n",
    "\n",
    "The goal of this section is to explore topic modelling techniques, namely Latent Dirichlet Allocation (LDA), and Latent Semantic Analysis (LSA). \n",
    "\n",
    "These two methods share a very important characteristic: they detect _latent_ topics/meaning. This means that from the data we feed the models are all thats used to determine and shape topics.\n",
    "\n",
    "These are very powerful tools that can help us identify what kind of data we're dealing with, but a limitation to these techniques is that if our data is skewed in a certain direction, ie data which only belongs to subcategories of a topic, or only a few niche topics.\n",
    "\n",
    "In the next couple pages, we explore what these techniques can produce for us, and whether their reesults are any good.\n",
    "\n",
    "1. [LDA](https://richardye101.github.io/ubineer_nlp_research/content/richard/2_LDA_topic_modelling.html)\n",
    "\n",
    "2. [LSA](https://richardye101.github.io/ubineer_nlp_research/content/richard/3_LSA_topic_modelling.html)\n"
   ]
  }
 ],
 "metadata": {
  "kernelspec": {
   "display_name": "Python 3 (ipykernel)",
   "language": "python",
   "name": "python3"
  },
  "language_info": {
   "codemirror_mode": {
    "name": "ipython",
    "version": 3
   },
   "file_extension": ".py",
   "mimetype": "text/x-python",
   "name": "python",
   "nbconvert_exporter": "python",
   "pygments_lexer": "ipython3",
   "version": "3.9.12"
  }
 },
 "nbformat": 4,
 "nbformat_minor": 4
}

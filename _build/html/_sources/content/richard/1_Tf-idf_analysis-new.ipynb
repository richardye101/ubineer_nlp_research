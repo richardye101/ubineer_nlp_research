{
 "cells": [
  {
   "cell_type": "markdown",
   "id": "965bf8f3-cd5f-4c98-ae16-9b6ad2a2a131",
   "metadata": {},
   "source": [
    "# Word embedding using tf-idf matrices\n",
    "\n",
    "This notebook uses tf-idf matrices to create word embeddings for companies. \n",
    "\n",
    "Tf-Idf stands for _term frequency - inverse document frequency_. Each row in this matrix represents one document (in this case, one company) and each column represents a word (or n-gram, a sequence of words like \"University of Toronto\"). A term frequency matrix has the count of occurences of a given word for each document, while a tf-idf matrix performs a transformation on that term frequency matrix. The computation for each cell uses:\n",
    "\n",
    "\\begin{align*}\n",
    "\\text{tf-idf}(t,d) &= \\text{tf}(t,d) \\cdot \\text{idf}(t,d)\\\\ \\\\\n",
    "\\text{Where: } \\quad \\text{tf}(t,d) &= |t| \\text{ in } d\\\\ \\\\\n",
    "\\text{idf}(t,d) &= \\log\\frac{N}{\\text{df}(t)}\\\\\n",
    "\\end{align*}\n",
    "\n",
    "- Where **t** is the current term we are process, and **d** is the current document we are looking in\n",
    "- Where **N** is the total number of documents in the document set and **df(t)** is the document frequency of t;\n",
    "    - The document frequency is the number of documents in the document set that contain the term t  \n",
    "^ From [sklearn](https://scikit-learn.org/stable/modules/generated/sklearn.feature_extraction.text.TfidfTransformer.html)\n",
    "\n",
    "We'll be training a model from `sklearn`'s `feature_extraction` class, first using a `CountVectorizer` to obtain term-frequencies of terms of size 2-4 (we do this as some terms such as \"cloud computing\" carry more meaning than those words do separately. We also only select the top 600 words by freqeuncy as the columns. This is then piped into a `TfidfTransformer`, augmenting the values so the values more accurately represent the **importance** of a given term."
   ]
  },
  {
   "cell_type": "code",
   "execution_count": 5,
   "id": "0cb7a0e7-1c1d-4afa-88e3-77482ed74c78",
   "metadata": {},
   "outputs": [],
   "source": [
    "import pandas as pd\n",
    "import numpy as np\n",
    "import sys\n",
    "sys.path.insert(0, '..')\n",
    "%load_ext autoreload\n",
    "%autoreload 2\n",
    "%aimport std_func\n",
    "\n",
    "from sklearn.feature_extraction.text import TfidfTransformer\n",
    "from sklearn.feature_extraction.text import CountVectorizer\n",
    "from sklearn.pipeline import Pipeline\n",
    "\n",
    "df = pd.read_csv(\"../data/preprocessed.csv\")\n",
    "pipe = Pipeline([('count', CountVectorizer(ngram_range = (2,4),\n",
    "                                           stop_words = 'english', max_features = 600)),\n",
    "                  ('tfidf', TfidfTransformer())]).fit(df[\"coDescription_stopwords\"])"
   ]
  },
  {
   "cell_type": "markdown",
   "id": "928ef94a-685f-4ee0-9974-243ce6f05587",
   "metadata": {},
   "source": [
    "Here are some of the terms we are left with after passing all our documents through the `CountVectorizer` and `TfidfTransformer`."
   ]
  },
  {
   "cell_type": "code",
   "execution_count": 6,
   "id": "f341ba1d-f812-4d83-84b6-430d639d66f1",
   "metadata": {},
   "outputs": [
    {
     "data": {
      "text/html": [
       "<div>\n",
       "<style scoped>\n",
       "    .dataframe tbody tr th:only-of-type {\n",
       "        vertical-align: middle;\n",
       "    }\n",
       "\n",
       "    .dataframe tbody tr th {\n",
       "        vertical-align: top;\n",
       "    }\n",
       "\n",
       "    .dataframe thead th {\n",
       "        text-align: right;\n",
       "    }\n",
       "</style>\n",
       "<table border=\"1\" class=\"dataframe\">\n",
       "  <thead>\n",
       "    <tr style=\"text-align: right;\">\n",
       "      <th></th>\n",
       "      <th>0</th>\n",
       "    </tr>\n",
       "  </thead>\n",
       "  <tbody>\n",
       "    <tr>\n",
       "      <th>63</th>\n",
       "      <td>business financial</td>\n",
       "    </tr>\n",
       "    <tr>\n",
       "      <th>523</th>\n",
       "      <td>sale product</td>\n",
       "    </tr>\n",
       "    <tr>\n",
       "      <th>40</th>\n",
       "      <td>available free charge</td>\n",
       "    </tr>\n",
       "    <tr>\n",
       "      <th>316</th>\n",
       "      <td>internal revenue</td>\n",
       "    </tr>\n",
       "    <tr>\n",
       "      <th>26</th>\n",
       "      <td>applicable law</td>\n",
       "    </tr>\n",
       "  </tbody>\n",
       "</table>\n",
       "</div>"
      ],
      "text/plain": [
       "                         0\n",
       "63      business financial\n",
       "523           sale product\n",
       "40   available free charge\n",
       "316       internal revenue\n",
       "26          applicable law"
      ]
     },
     "execution_count": 6,
     "metadata": {},
     "output_type": "execute_result"
    }
   ],
   "source": [
    "feature_names = pd.DataFrame(pipe['count'].get_feature_names_out())\n",
    "feature_names.sample(5)"
   ]
  },
  {
   "cell_type": "markdown",
   "id": "bd03ed33-a92c-4669-b47d-910b4e28fc3b",
   "metadata": {},
   "source": [
    "As you can see, the matrix is still quite sparse since some documents/filings don't contain any occurrences of a given term."
   ]
  },
  {
   "cell_type": "code",
   "execution_count": 7,
   "id": "413a5d02-ce42-4f42-ad5e-37c74f467b59",
   "metadata": {},
   "outputs": [
    {
     "data": {
      "text/html": [
       "<div>\n",
       "<style scoped>\n",
       "    .dataframe tbody tr th:only-of-type {\n",
       "        vertical-align: middle;\n",
       "    }\n",
       "\n",
       "    .dataframe tbody tr th {\n",
       "        vertical-align: top;\n",
       "    }\n",
       "\n",
       "    .dataframe thead th {\n",
       "        text-align: right;\n",
       "    }\n",
       "</style>\n",
       "<table border=\"1\" class=\"dataframe\">\n",
       "  <thead>\n",
       "    <tr style=\"text-align: right;\">\n",
       "      <th></th>\n",
       "      <th>0</th>\n",
       "      <th>1</th>\n",
       "      <th>2</th>\n",
       "      <th>3</th>\n",
       "      <th>4</th>\n",
       "      <th>5</th>\n",
       "      <th>6</th>\n",
       "      <th>7</th>\n",
       "      <th>8</th>\n",
       "      <th>9</th>\n",
       "      <th>...</th>\n",
       "      <th>590</th>\n",
       "      <th>591</th>\n",
       "      <th>592</th>\n",
       "      <th>593</th>\n",
       "      <th>594</th>\n",
       "      <th>595</th>\n",
       "      <th>596</th>\n",
       "      <th>597</th>\n",
       "      <th>598</th>\n",
       "      <th>599</th>\n",
       "    </tr>\n",
       "  </thead>\n",
       "  <tbody>\n",
       "    <tr>\n",
       "      <th>0</th>\n",
       "      <td>0.0</td>\n",
       "      <td>0.000000</td>\n",
       "      <td>0.0</td>\n",
       "      <td>0.000000</td>\n",
       "      <td>0.000000</td>\n",
       "      <td>0.000000</td>\n",
       "      <td>0.000000</td>\n",
       "      <td>0.0</td>\n",
       "      <td>0.000000</td>\n",
       "      <td>0.000000</td>\n",
       "      <td>...</td>\n",
       "      <td>0.0</td>\n",
       "      <td>0.0</td>\n",
       "      <td>0.000000</td>\n",
       "      <td>0.000000</td>\n",
       "      <td>0.0</td>\n",
       "      <td>0.0</td>\n",
       "      <td>0.142196</td>\n",
       "      <td>0.159010</td>\n",
       "      <td>0.0</td>\n",
       "      <td>0.000000</td>\n",
       "    </tr>\n",
       "    <tr>\n",
       "      <th>1</th>\n",
       "      <td>0.0</td>\n",
       "      <td>0.000000</td>\n",
       "      <td>0.0</td>\n",
       "      <td>0.000000</td>\n",
       "      <td>0.000000</td>\n",
       "      <td>0.000000</td>\n",
       "      <td>0.000000</td>\n",
       "      <td>0.0</td>\n",
       "      <td>0.000000</td>\n",
       "      <td>0.000000</td>\n",
       "      <td>...</td>\n",
       "      <td>0.0</td>\n",
       "      <td>0.0</td>\n",
       "      <td>0.000000</td>\n",
       "      <td>0.000000</td>\n",
       "      <td>0.0</td>\n",
       "      <td>0.0</td>\n",
       "      <td>0.000000</td>\n",
       "      <td>0.000000</td>\n",
       "      <td>0.0</td>\n",
       "      <td>0.000000</td>\n",
       "    </tr>\n",
       "    <tr>\n",
       "      <th>2</th>\n",
       "      <td>0.0</td>\n",
       "      <td>0.000000</td>\n",
       "      <td>0.0</td>\n",
       "      <td>0.000000</td>\n",
       "      <td>0.030074</td>\n",
       "      <td>0.000000</td>\n",
       "      <td>0.068363</td>\n",
       "      <td>0.0</td>\n",
       "      <td>0.000000</td>\n",
       "      <td>0.000000</td>\n",
       "      <td>...</td>\n",
       "      <td>0.0</td>\n",
       "      <td>0.0</td>\n",
       "      <td>0.000000</td>\n",
       "      <td>0.000000</td>\n",
       "      <td>0.0</td>\n",
       "      <td>0.0</td>\n",
       "      <td>0.000000</td>\n",
       "      <td>0.000000</td>\n",
       "      <td>0.0</td>\n",
       "      <td>0.000000</td>\n",
       "    </tr>\n",
       "    <tr>\n",
       "      <th>3</th>\n",
       "      <td>0.0</td>\n",
       "      <td>0.000000</td>\n",
       "      <td>0.0</td>\n",
       "      <td>0.000000</td>\n",
       "      <td>0.000000</td>\n",
       "      <td>0.000000</td>\n",
       "      <td>0.059925</td>\n",
       "      <td>0.0</td>\n",
       "      <td>0.000000</td>\n",
       "      <td>0.000000</td>\n",
       "      <td>...</td>\n",
       "      <td>0.0</td>\n",
       "      <td>0.0</td>\n",
       "      <td>0.000000</td>\n",
       "      <td>0.000000</td>\n",
       "      <td>0.0</td>\n",
       "      <td>0.0</td>\n",
       "      <td>0.070304</td>\n",
       "      <td>0.047170</td>\n",
       "      <td>0.0</td>\n",
       "      <td>0.000000</td>\n",
       "    </tr>\n",
       "    <tr>\n",
       "      <th>4</th>\n",
       "      <td>0.0</td>\n",
       "      <td>0.037094</td>\n",
       "      <td>0.0</td>\n",
       "      <td>0.002481</td>\n",
       "      <td>0.006809</td>\n",
       "      <td>0.010094</td>\n",
       "      <td>0.001935</td>\n",
       "      <td>0.0</td>\n",
       "      <td>0.010972</td>\n",
       "      <td>0.009869</td>\n",
       "      <td>...</td>\n",
       "      <td>0.0</td>\n",
       "      <td>0.0</td>\n",
       "      <td>0.050738</td>\n",
       "      <td>0.010656</td>\n",
       "      <td>0.0</td>\n",
       "      <td>0.0</td>\n",
       "      <td>0.000000</td>\n",
       "      <td>0.155342</td>\n",
       "      <td>0.0</td>\n",
       "      <td>0.011082</td>\n",
       "    </tr>\n",
       "  </tbody>\n",
       "</table>\n",
       "<p>5 rows × 600 columns</p>\n",
       "</div>"
      ],
      "text/plain": [
       "   0         1    2         3         4         5         6    7         8    \\\n",
       "0  0.0  0.000000  0.0  0.000000  0.000000  0.000000  0.000000  0.0  0.000000   \n",
       "1  0.0  0.000000  0.0  0.000000  0.000000  0.000000  0.000000  0.0  0.000000   \n",
       "2  0.0  0.000000  0.0  0.000000  0.030074  0.000000  0.068363  0.0  0.000000   \n",
       "3  0.0  0.000000  0.0  0.000000  0.000000  0.000000  0.059925  0.0  0.000000   \n",
       "4  0.0  0.037094  0.0  0.002481  0.006809  0.010094  0.001935  0.0  0.010972   \n",
       "\n",
       "        9    ...  590  591       592       593  594  595       596       597  \\\n",
       "0  0.000000  ...  0.0  0.0  0.000000  0.000000  0.0  0.0  0.142196  0.159010   \n",
       "1  0.000000  ...  0.0  0.0  0.000000  0.000000  0.0  0.0  0.000000  0.000000   \n",
       "2  0.000000  ...  0.0  0.0  0.000000  0.000000  0.0  0.0  0.000000  0.000000   \n",
       "3  0.000000  ...  0.0  0.0  0.000000  0.000000  0.0  0.0  0.070304  0.047170   \n",
       "4  0.009869  ...  0.0  0.0  0.050738  0.010656  0.0  0.0  0.000000  0.155342   \n",
       "\n",
       "   598       599  \n",
       "0  0.0  0.000000  \n",
       "1  0.0  0.000000  \n",
       "2  0.0  0.000000  \n",
       "3  0.0  0.000000  \n",
       "4  0.0  0.011082  \n",
       "\n",
       "[5 rows x 600 columns]"
      ]
     },
     "execution_count": 7,
     "metadata": {},
     "output_type": "execute_result"
    }
   ],
   "source": [
    "# The tf-idf matrix\n",
    "tfidf =  pd.DataFrame(pipe.transform(df[\"coDescription_stopwords\"]).toarray())\n",
    "tfidf.head()"
   ]
  },
  {
   "cell_type": "markdown",
   "id": "078cb3f6-3567-4ab4-ab53-0925d4a4f79a",
   "metadata": {},
   "source": [
    "This is a 2D PCA reduction of that 600 dimensional space. We're plotting the first two dimensions, which capture the most variance."
   ]
  },
  {
   "cell_type": "code",
   "execution_count": 15,
   "id": "d49a2da5-19f7-4eaf-a4a9-11b469bb4065",
   "metadata": {},
   "outputs": [
    {
     "data": {
      "text/html": [
       "<div>\n",
       "<style scoped>\n",
       "    .dataframe tbody tr th:only-of-type {\n",
       "        vertical-align: middle;\n",
       "    }\n",
       "\n",
       "    .dataframe tbody tr th {\n",
       "        vertical-align: top;\n",
       "    }\n",
       "\n",
       "    .dataframe thead th {\n",
       "        text-align: right;\n",
       "    }\n",
       "</style>\n",
       "<table border=\"1\" class=\"dataframe\">\n",
       "  <thead>\n",
       "    <tr style=\"text-align: right;\">\n",
       "      <th></th>\n",
       "      <th></th>\n",
       "      <th>0</th>\n",
       "      <th>1</th>\n",
       "      <th>2</th>\n",
       "      <th>3</th>\n",
       "      <th>4</th>\n",
       "      <th>5</th>\n",
       "      <th>6</th>\n",
       "      <th>7</th>\n",
       "      <th>8</th>\n",
       "      <th>9</th>\n",
       "    </tr>\n",
       "    <tr>\n",
       "      <th>name</th>\n",
       "      <th>industry</th>\n",
       "      <th></th>\n",
       "      <th></th>\n",
       "      <th></th>\n",
       "      <th></th>\n",
       "      <th></th>\n",
       "      <th></th>\n",
       "      <th></th>\n",
       "      <th></th>\n",
       "      <th></th>\n",
       "      <th></th>\n",
       "    </tr>\n",
       "  </thead>\n",
       "  <tbody>\n",
       "    <tr>\n",
       "      <th>MONGODB, INC.</th>\n",
       "      <th>Prepackaged Software (mass reproduction of software)</th>\n",
       "      <td>-0.088989</td>\n",
       "      <td>-0.106974</td>\n",
       "      <td>-0.069775</td>\n",
       "      <td>0.572224</td>\n",
       "      <td>-0.097997</td>\n",
       "      <td>-0.118187</td>\n",
       "      <td>-0.126751</td>\n",
       "      <td>0.041559</td>\n",
       "      <td>0.071758</td>\n",
       "      <td>0.000618</td>\n",
       "    </tr>\n",
       "    <tr>\n",
       "      <th>SALESFORCE COM INC</th>\n",
       "      <th>Prepackaged Software (mass reproduction of software)</th>\n",
       "      <td>-0.021610</td>\n",
       "      <td>-0.120672</td>\n",
       "      <td>-0.076344</td>\n",
       "      <td>0.476277</td>\n",
       "      <td>0.009900</td>\n",
       "      <td>-0.317044</td>\n",
       "      <td>-0.066872</td>\n",
       "      <td>0.111725</td>\n",
       "      <td>0.000434</td>\n",
       "      <td>0.162225</td>\n",
       "    </tr>\n",
       "    <tr>\n",
       "      <th>SPLUNK INC</th>\n",
       "      <th>Prepackaged Software (mass reproduction of software)</th>\n",
       "      <td>-0.048425</td>\n",
       "      <td>-0.117160</td>\n",
       "      <td>-0.058604</td>\n",
       "      <td>0.576538</td>\n",
       "      <td>-0.015746</td>\n",
       "      <td>-0.252310</td>\n",
       "      <td>-0.087626</td>\n",
       "      <td>0.115715</td>\n",
       "      <td>0.053912</td>\n",
       "      <td>0.051272</td>\n",
       "    </tr>\n",
       "    <tr>\n",
       "      <th>OKTA, INC.</th>\n",
       "      <th>Prepackaged Software (mass reproduction of software)</th>\n",
       "      <td>-0.088510</td>\n",
       "      <td>-0.095404</td>\n",
       "      <td>-0.068004</td>\n",
       "      <td>0.532633</td>\n",
       "      <td>-0.100116</td>\n",
       "      <td>-0.171010</td>\n",
       "      <td>-0.020538</td>\n",
       "      <td>0.049269</td>\n",
       "      <td>0.147000</td>\n",
       "      <td>-0.034091</td>\n",
       "    </tr>\n",
       "    <tr>\n",
       "      <th>VEEVA SYSTEMS INC</th>\n",
       "      <th>Prepackaged Software (mass reproduction of software)</th>\n",
       "      <td>0.006314</td>\n",
       "      <td>-0.181254</td>\n",
       "      <td>-0.065167</td>\n",
       "      <td>0.235320</td>\n",
       "      <td>0.110181</td>\n",
       "      <td>0.313160</td>\n",
       "      <td>-0.302087</td>\n",
       "      <td>-0.047507</td>\n",
       "      <td>-0.088114</td>\n",
       "      <td>-0.060900</td>\n",
       "    </tr>\n",
       "  </tbody>\n",
       "</table>\n",
       "</div>"
      ],
      "text/plain": [
       "                                                                              0  \\\n",
       "name               industry                                                       \n",
       "MONGODB, INC.      Prepackaged Software (mass reproduction of soft... -0.088989   \n",
       "SALESFORCE COM INC Prepackaged Software (mass reproduction of soft... -0.021610   \n",
       "SPLUNK INC         Prepackaged Software (mass reproduction of soft... -0.048425   \n",
       "OKTA, INC.         Prepackaged Software (mass reproduction of soft... -0.088510   \n",
       "VEEVA SYSTEMS INC  Prepackaged Software (mass reproduction of soft...  0.006314   \n",
       "\n",
       "                                                                              1  \\\n",
       "name               industry                                                       \n",
       "MONGODB, INC.      Prepackaged Software (mass reproduction of soft... -0.106974   \n",
       "SALESFORCE COM INC Prepackaged Software (mass reproduction of soft... -0.120672   \n",
       "SPLUNK INC         Prepackaged Software (mass reproduction of soft... -0.117160   \n",
       "OKTA, INC.         Prepackaged Software (mass reproduction of soft... -0.095404   \n",
       "VEEVA SYSTEMS INC  Prepackaged Software (mass reproduction of soft... -0.181254   \n",
       "\n",
       "                                                                              2  \\\n",
       "name               industry                                                       \n",
       "MONGODB, INC.      Prepackaged Software (mass reproduction of soft... -0.069775   \n",
       "SALESFORCE COM INC Prepackaged Software (mass reproduction of soft... -0.076344   \n",
       "SPLUNK INC         Prepackaged Software (mass reproduction of soft... -0.058604   \n",
       "OKTA, INC.         Prepackaged Software (mass reproduction of soft... -0.068004   \n",
       "VEEVA SYSTEMS INC  Prepackaged Software (mass reproduction of soft... -0.065167   \n",
       "\n",
       "                                                                              3  \\\n",
       "name               industry                                                       \n",
       "MONGODB, INC.      Prepackaged Software (mass reproduction of soft...  0.572224   \n",
       "SALESFORCE COM INC Prepackaged Software (mass reproduction of soft...  0.476277   \n",
       "SPLUNK INC         Prepackaged Software (mass reproduction of soft...  0.576538   \n",
       "OKTA, INC.         Prepackaged Software (mass reproduction of soft...  0.532633   \n",
       "VEEVA SYSTEMS INC  Prepackaged Software (mass reproduction of soft...  0.235320   \n",
       "\n",
       "                                                                              4  \\\n",
       "name               industry                                                       \n",
       "MONGODB, INC.      Prepackaged Software (mass reproduction of soft... -0.097997   \n",
       "SALESFORCE COM INC Prepackaged Software (mass reproduction of soft...  0.009900   \n",
       "SPLUNK INC         Prepackaged Software (mass reproduction of soft... -0.015746   \n",
       "OKTA, INC.         Prepackaged Software (mass reproduction of soft... -0.100116   \n",
       "VEEVA SYSTEMS INC  Prepackaged Software (mass reproduction of soft...  0.110181   \n",
       "\n",
       "                                                                              5  \\\n",
       "name               industry                                                       \n",
       "MONGODB, INC.      Prepackaged Software (mass reproduction of soft... -0.118187   \n",
       "SALESFORCE COM INC Prepackaged Software (mass reproduction of soft... -0.317044   \n",
       "SPLUNK INC         Prepackaged Software (mass reproduction of soft... -0.252310   \n",
       "OKTA, INC.         Prepackaged Software (mass reproduction of soft... -0.171010   \n",
       "VEEVA SYSTEMS INC  Prepackaged Software (mass reproduction of soft...  0.313160   \n",
       "\n",
       "                                                                              6  \\\n",
       "name               industry                                                       \n",
       "MONGODB, INC.      Prepackaged Software (mass reproduction of soft... -0.126751   \n",
       "SALESFORCE COM INC Prepackaged Software (mass reproduction of soft... -0.066872   \n",
       "SPLUNK INC         Prepackaged Software (mass reproduction of soft... -0.087626   \n",
       "OKTA, INC.         Prepackaged Software (mass reproduction of soft... -0.020538   \n",
       "VEEVA SYSTEMS INC  Prepackaged Software (mass reproduction of soft... -0.302087   \n",
       "\n",
       "                                                                              7  \\\n",
       "name               industry                                                       \n",
       "MONGODB, INC.      Prepackaged Software (mass reproduction of soft...  0.041559   \n",
       "SALESFORCE COM INC Prepackaged Software (mass reproduction of soft...  0.111725   \n",
       "SPLUNK INC         Prepackaged Software (mass reproduction of soft...  0.115715   \n",
       "OKTA, INC.         Prepackaged Software (mass reproduction of soft...  0.049269   \n",
       "VEEVA SYSTEMS INC  Prepackaged Software (mass reproduction of soft... -0.047507   \n",
       "\n",
       "                                                                              8  \\\n",
       "name               industry                                                       \n",
       "MONGODB, INC.      Prepackaged Software (mass reproduction of soft...  0.071758   \n",
       "SALESFORCE COM INC Prepackaged Software (mass reproduction of soft...  0.000434   \n",
       "SPLUNK INC         Prepackaged Software (mass reproduction of soft...  0.053912   \n",
       "OKTA, INC.         Prepackaged Software (mass reproduction of soft...  0.147000   \n",
       "VEEVA SYSTEMS INC  Prepackaged Software (mass reproduction of soft... -0.088114   \n",
       "\n",
       "                                                                              9  \n",
       "name               industry                                                      \n",
       "MONGODB, INC.      Prepackaged Software (mass reproduction of soft...  0.000618  \n",
       "SALESFORCE COM INC Prepackaged Software (mass reproduction of soft...  0.162225  \n",
       "SPLUNK INC         Prepackaged Software (mass reproduction of soft...  0.051272  \n",
       "OKTA, INC.         Prepackaged Software (mass reproduction of soft... -0.034091  \n",
       "VEEVA SYSTEMS INC  Prepackaged Software (mass reproduction of soft... -0.060900  "
      ]
     },
     "execution_count": 15,
     "metadata": {},
     "output_type": "execute_result"
    }
   ],
   "source": [
    "from sklearn.decomposition import PCA\n",
    "import plotly.express as px\n",
    "if(df.loc[:,[\"name\",\"SIC_desc\"]].shape[1] ==2):\n",
    "        multi_index = pd.MultiIndex.from_frame(df.loc[:,[\"name\",\"SIC_desc\"]], names=[\"name\", \"industry\"])\n",
    "else:\n",
    "    multi_index = pd.Index(df.loc[:,[\"name\",\"SIC_desc\"]].iloc[:,0])\n",
    "pca = PCA(n_components = min(10,tfidf.shape[1]))\n",
    "pca_embedding = pca.fit_transform(tfidf)\n",
    "pca_embedding = pd.DataFrame(pca_embedding, index = multi_index)\n",
    "pca_embedding.head()"
   ]
  },
  {
   "cell_type": "code",
   "execution_count": 18,
   "id": "0cdb6a9a-f00d-4299-a10a-f406b2871180",
   "metadata": {},
   "outputs": [
    {
     "data": {
      "application/vnd.plotly.v1+json": {
       "config": {
        "plotlyServerURL": "https://plot.ly"
       },
       "data": [
        {
         "customdata": [
          [
           "MONGODB, INC.",
           "Prepackaged Software (mass reproduction of software)"
          ],
          [
           "SALESFORCE COM INC",
           "Prepackaged Software (mass reproduction of software)"
          ],
          [
           "SPLUNK INC",
           "Prepackaged Software (mass reproduction of software)"
          ],
          [
           "OKTA, INC.",
           "Prepackaged Software (mass reproduction of software)"
          ],
          [
           "VEEVA SYSTEMS INC",
           "Prepackaged Software (mass reproduction of software)"
          ],
          [
           "AUTODESK INC",
           "Prepackaged Software (mass reproduction of software)"
          ],
          [
           "ETERNAL SPEECH, INC.",
           "Prepackaged Software (mass reproduction of software)"
          ],
          [
           "ETERNAL SPEECH, INC.",
           "Prepackaged Software (mass reproduction of software)"
          ],
          [
           "MAJESCO",
           "Prepackaged Software (mass reproduction of software)"
          ],
          [
           "DUO WORLD INC",
           "Prepackaged Software (mass reproduction of software)"
          ],
          [
           "COMMVAULT SYSTEMS INC",
           "Prepackaged Software (mass reproduction of software)"
          ],
          [
           "UPPERSOLUTION.COM",
           "Prepackaged Software (mass reproduction of software)"
          ],
          [
           "ORACLE CORP",
           "Prepackaged Software (mass reproduction of software)"
          ],
          [
           "SAVMOBI TECHNOLOGY INC.",
           "Prepackaged Software (mass reproduction of software)"
          ],
          [
           "ZEDGE, INC.",
           "Prepackaged Software (mass reproduction of software)"
          ],
          [
           "DESTINY MEDIA TECHNOLOGIES INC",
           "Prepackaged Software (mass reproduction of software)"
          ],
          [
           "TRAQER CORP",
           "Prepackaged Software (mass reproduction of software)"
          ],
          [
           "VISIBER57 CORP.",
           "Prepackaged Software (mass reproduction of software)"
          ],
          [
           "GH CAPITAL INC.",
           "Prepackaged Software (mass reproduction of software)"
          ],
          [
           "BRIDGELINE DIGITAL, INC.",
           "Prepackaged Software (mass reproduction of software)"
          ],
          [
           "NUANCE COMMUNICATIONS, INC.",
           "Prepackaged Software (mass reproduction of software)"
          ],
          [
           "DATAWATCH CORP",
           "Prepackaged Software (mass reproduction of software)"
          ],
          [
           "POLARITYTE, INC.",
           "Prepackaged Software (mass reproduction of software)"
          ],
          [
           "POLARITYTE, INC.",
           "Prepackaged Software (mass reproduction of software)"
          ],
          [
           "VGRAB COMMUNICATIONS INC.",
           "Prepackaged Software (mass reproduction of software)"
          ],
          [
           "VGRAB COMMUNICATIONS INC.",
           "Prepackaged Software (mass reproduction of software)"
          ],
          [
           "ADAIAH DISTRIBUTION INC",
           "Prepackaged Software (mass reproduction of software)"
          ],
          [
           "ADAIAH DISTRIBUTION INC",
           "Prepackaged Software (mass reproduction of software)"
          ],
          [
           "PROGRESS SOFTWARE CORP /MA",
           "Prepackaged Software (mass reproduction of software)"
          ],
          [
           "MEDICAL INFORMATION TECHNOLOGY, INC.",
           "Prepackaged Software (mass reproduction of software)"
          ],
          [
           "SPS COMMERCE INC",
           "Prepackaged Software (mass reproduction of software)"
          ],
          [
           "ALTERYX, INC.",
           "Prepackaged Software (mass reproduction of software)"
          ],
          [
           "INTELLIGENT SYSTEMS CORP",
           "Prepackaged Software (mass reproduction of software)"
          ],
          [
           "ALARM.COM HOLDINGS, INC.",
           "Prepackaged Software (mass reproduction of software)"
          ],
          [
           "LIGHTNING GAMING, INC.",
           "Prepackaged Software (mass reproduction of software)"
          ],
          [
           "ENDURANCE INTERNATIONAL GROUP HOLDINGS, INC.",
           "Prepackaged Software (mass reproduction of software)"
          ],
          [
           "2U, INC.",
           "Prepackaged Software (mass reproduction of software)"
          ],
          [
           "CISION LTD.",
           "Prepackaged Software (mass reproduction of software)"
          ],
          [
           "BTCS INC.",
           "Prepackaged Software (mass reproduction of software)"
          ],
          [
           "BTCS INC.",
           "Prepackaged Software (mass reproduction of software)"
          ],
          [
           "BTCS INC.",
           "Prepackaged Software (mass reproduction of software)"
          ],
          [
           "INTELLICHECK, INC.",
           "Prepackaged Software (mass reproduction of software)"
          ],
          [
           "REALPAGE INC",
           "Prepackaged Software (mass reproduction of software)"
          ],
          [
           "Q2 HOLDINGS, INC.",
           "Prepackaged Software (mass reproduction of software)"
          ],
          [
           "MCORPCX, INC.",
           "Prepackaged Software (mass reproduction of software)"
          ],
          [
           "QUALYS, INC.",
           "Prepackaged Software (mass reproduction of software)"
          ],
          [
           "MEDICAL TRANSCRIPTION BILLING, CORP",
           "Prepackaged Software (mass reproduction of software)"
          ],
          [
           "SMITH MICRO SOFTWARE INC",
           "Prepackaged Software (mass reproduction of software)"
          ],
          [
           "SHOTSPOTTER, INC",
           "Prepackaged Software (mass reproduction of software)"
          ],
          [
           "LONGWEN GROUP CORP.",
           "Prepackaged Software (mass reproduction of software)"
          ],
          [
           "ELLIE MAE INC",
           "Prepackaged Software (mass reproduction of software)"
          ],
          [
           "ROSETTA STONE INC",
           "Prepackaged Software (mass reproduction of software)"
          ],
          [
           "BLACK KNIGHT, INC.",
           "Prepackaged Software (mass reproduction of software)"
          ],
          [
           "MICROSTRATEGY INC",
           "Prepackaged Software (mass reproduction of software)"
          ],
          [
           "EMR TECHNOLOGY SOLUTIONS, INC.",
           "Prepackaged Software (mass reproduction of software)"
          ],
          [
           "PAYCOM SOFTWARE, INC.",
           "Prepackaged Software (mass reproduction of software)"
          ],
          [
           "3D SYSTEMS CORP",
           "Prepackaged Software (mass reproduction of software)"
          ],
          [
           "APPIAN CORP",
           "Prepackaged Software (mass reproduction of software)"
          ],
          [
           "UPLAND SOFTWARE, INC.",
           "Prepackaged Software (mass reproduction of software)"
          ],
          [
           "LIVEPERSON INC",
           "Prepackaged Software (mass reproduction of software)"
          ],
          [
           "AWARE INC /MA/",
           "Prepackaged Software (mass reproduction of software)"
          ],
          [
           "ULTIMATE SOFTWARE GROUP INC",
           "Prepackaged Software (mass reproduction of software)"
          ],
          [
           "ANSYS INC",
           "Prepackaged Software (mass reproduction of software)"
          ],
          [
           "AVID TECHNOLOGY, INC.",
           "Prepackaged Software (mass reproduction of software)"
          ],
          [
           "NATIONAL INSTRUMENTS CORP",
           "Prepackaged Software (mass reproduction of software)"
          ],
          [
           "INSPRO TECHNOLOGIES CORP",
           "Prepackaged Software (mass reproduction of software)"
          ],
          [
           "QUMU CORP",
           "Prepackaged Software (mass reproduction of software)"
          ],
          [
           "ACI WORLDWIDE, INC.",
           "Prepackaged Software (mass reproduction of software)"
          ],
          [
           "SQUARE, INC.",
           "Prepackaged Software (mass reproduction of software)"
          ],
          [
           "ALTAIR ENGINEERING INC.",
           "Prepackaged Software (mass reproduction of software)"
          ],
          [
           "TALEND SA",
           "Prepackaged Software (mass reproduction of software)"
          ],
          [
           "APPFOLIO INC",
           "Prepackaged Software (mass reproduction of software)"
          ],
          [
           "GSE SYSTEMS INC",
           "Prepackaged Software (mass reproduction of software)"
          ],
          [
           "IPSIDY INC.",
           "Prepackaged Software (mass reproduction of software)"
          ],
          [
           "INTELLINETICS, INC.",
           "Prepackaged Software (mass reproduction of software)"
          ],
          [
           "INTELLINETICS, INC.",
           "Prepackaged Software (mass reproduction of software)"
          ],
          [
           "IIOT-OXYS, INC.",
           "Prepackaged Software (mass reproduction of software)"
          ],
          [
           "NEWGIOCO GROUP, INC.",
           "Prepackaged Software (mass reproduction of software)"
          ],
          [
           "WORKIVA INC",
           "Prepackaged Software (mass reproduction of software)"
          ],
          [
           "TABLEAU SOFTWARE INC",
           "Prepackaged Software (mass reproduction of software)"
          ]
         ],
         "hovertemplate": "color=Prepackaged Software (mass reproduction of software)<br>0=%{x}<br>1=%{y}<br>name=%{customdata[0]}<br>industry=%{customdata[1]}<extra></extra>",
         "legendgroup": "Prepackaged Software (mass reproduction of software)",
         "marker": {
          "color": "#636efa",
          "symbol": "circle"
         },
         "mode": "markers",
         "name": "Prepackaged Software (mass reproduction of software)",
         "orientation": "v",
         "showlegend": true,
         "type": "scatter",
         "x": [
          -0.08898937978973583,
          -0.021609908222655582,
          -0.04842527418529175,
          -0.08850959442441342,
          0.006313930805014114,
          -0.05722920921165006,
          -0.01332283405420014,
          -0.01332283405420014,
          -0.01567430532916401,
          -0.043156981556178024,
          -0.06625018851155405,
          -0.05841227122265393,
          -0.009891943779325894,
          -0.00248067744873075,
          -0.0070232681386471416,
          -0.08390229001795217,
          0.047815690814295694,
          -0.002117309638818209,
          0.012012383907442924,
          -0.03371382213705791,
          -0.04572020029999881,
          -0.03401106253436104,
          -0.3420714159495408,
          -0.3420714159495408,
          0.04865799521732679,
          0.04865799521732679,
          0.03443329937947592,
          0.03443329937947592,
          -0.03127621653938834,
          -0.03641931190554598,
          -0.0012882190383169784,
          -0.10411965559919086,
          0.024665818558234288,
          -0.03237568839552828,
          -0.07814868790758547,
          -0.05453489063712535,
          -0.018351071688947517,
          -0.053734478571904554,
          0.06920153762497437,
          0.06920153762497437,
          0.06920153762497437,
          0.011206670624685161,
          0.10482441000592677,
          0.0433983342270207,
          -0.022676673029796146,
          -0.07094765284632186,
          0.003976317607756217,
          -0.09282992801215731,
          -0.10170562258516844,
          0.038081729553083095,
          0.023998120172777044,
          -0.03877453067873137,
          0.21211960221501258,
          -0.031121271447139175,
          -0.10323671978731573,
          -0.04981221899807227,
          -0.011015207161585766,
          -0.05034796418928464,
          -0.025409329399087046,
          -0.09023224906849238,
          -0.06440710249337118,
          -0.01483035598635714,
          0.0172115269357763,
          -0.07455515239744097,
          -0.044455462234885244,
          0.004165270496661372,
          -0.054719786304822625,
          0.0026298452924340163,
          -0.035399474951563016,
          -0.08486730201423394,
          -0.08000825033530412,
          0.10366818638015247,
          0.04123147707525165,
          -0.04730750918480071,
          0.03031506063791246,
          0.03031506063791246,
          -0.09210886271725337,
          -0.02682404017281219,
          -0.032670771760166556,
          -0.11655779014520859
         ],
         "xaxis": "x",
         "y": [
          -0.10697408397108636,
          -0.1206719909088437,
          -0.11716038023743035,
          -0.09540365921128442,
          -0.18125409548157462,
          -0.07497790042065222,
          -0.06586281136228178,
          -0.06586281136228178,
          -0.17099483345844035,
          -0.1186855502319227,
          -0.07042301432058995,
          -0.1230392311571063,
          -0.0983293666881709,
          -0.14514030888364066,
          -0.06439515134340995,
          -0.06640364913986944,
          -0.06334028908349647,
          -0.0974052694942266,
          -0.08287461709442735,
          -0.1257943816670925,
          -0.08894379881133767,
          -0.09336839229749504,
          0.1413139744293012,
          0.1413139744293012,
          -0.08739322212850756,
          -0.08739322212850756,
          -0.16953535848050272,
          -0.16953535848050272,
          -0.13295702681119034,
          -0.0831269572478726,
          -0.12659335193735446,
          -0.07730605123896739,
          -0.1400047999896817,
          -0.06186758857598563,
          -0.04758158649158303,
          -0.14844535300931988,
          -0.10032744769035729,
          -0.10444187992592506,
          -0.09463441799961393,
          -0.09463441799961393,
          -0.09463441799961393,
          -0.06828140402375059,
          -0.2584833561433083,
          -0.010320017877231092,
          -0.17668208832715301,
          -0.09332526143869194,
          -0.14488703499896088,
          -0.06348430557160015,
          -0.11040695036303869,
          -0.15123835802949498,
          -0.08885297625966497,
          -0.1258969145125537,
          -0.11804360681746115,
          -0.12107701758637213,
          -0.016428557579427135,
          -0.141469218120297,
          -0.0705701433506633,
          -0.08670471663826398,
          -0.13635893117276593,
          -0.07650531662495764,
          -0.0491498999279785,
          -0.10579372543048084,
          -0.08933987040358958,
          -0.08160274812616608,
          -0.11650962434258332,
          -0.11393494834843379,
          -0.13593976502957375,
          -0.033474946327393756,
          -0.052807189467307,
          -0.07327665441175264,
          -0.0926145377304991,
          -0.267843540612688,
          -0.17736972891867572,
          -0.05575362901535134,
          -0.10221769340245107,
          -0.10221769340245107,
          -0.06890295184400752,
          -0.11798829941635476,
          -0.05703883326071302,
          -0.07783727843412952
         ],
         "yaxis": "y"
        },
        {
         "customdata": [
          [
           "INTERNATIONAL WESTERN PETROLEUM, INC.",
           "Crude Petroleum and Natural Gas"
          ],
          [
           "DAYBREAK OIL & GAS, INC.",
           "Crude Petroleum and Natural Gas"
          ],
          [
           "GB SCIENCES INC",
           "Crude Petroleum and Natural Gas"
          ],
          [
           "FREEDOM HOLDING CORP.",
           "Crude Petroleum and Natural Gas"
          ],
          [
           "MEXCO ENERGY CORP",
           "Crude Petroleum and Natural Gas"
          ],
          [
           "SUSTAINABLE PROJECTS GROUP INC.",
           "Crude Petroleum and Natural Gas"
          ],
          [
           "AMERICAN ENERGY GROUP LTD",
           "Crude Petroleum and Natural Gas"
          ],
          [
           "REDHAWK HOLDINGS CORP.",
           "Crude Petroleum and Natural Gas"
          ],
          [
           "TIANCI INTERNATIONAL, INC.",
           "Crude Petroleum and Natural Gas"
          ],
          [
           "AMAZING ENERGY OIL & GAS, CO.",
           "Crude Petroleum and Natural Gas"
          ],
          [
           "ALTEX INDUSTRIES INC",
           "Crude Petroleum and Natural Gas"
          ],
          [
           "BARNWELL INDUSTRIES INC",
           "Crude Petroleum and Natural Gas"
          ],
          [
           "PANHANDLE OIL & GAS INC",
           "Crude Petroleum and Natural Gas"
          ],
          [
           "ENERGY 11, L.P.",
           "Crude Petroleum and Natural Gas"
          ],
          [
           "ABRAXAS PETROLEUM CORP",
           "Crude Petroleum and Natural Gas"
          ],
          [
           "SEARS OIL & GAS",
           "Crude Petroleum and Natural Gas"
          ],
          [
           "APACHE CORP",
           "Crude Petroleum and Natural Gas"
          ],
          [
           "GULFPORT ENERGY CORP",
           "Crude Petroleum and Natural Gas"
          ],
          [
           "CONTINENTAL RESOURCES, INC",
           "Crude Petroleum and Natural Gas"
          ],
          [
           "ISRAMCO INC",
           "Crude Petroleum and Natural Gas"
          ],
          [
           "CHAPARRAL ENERGY, INC.",
           "Crude Petroleum and Natural Gas"
          ],
          [
           "WHITING PETROLEUM CORP",
           "Crude Petroleum and Natural Gas"
          ],
          [
           "CONTANGO OIL & GAS CO",
           "Crude Petroleum and Natural Gas"
          ],
          [
           "EARTHSTONE ENERGY INC",
           "Crude Petroleum and Natural Gas"
          ],
          [
           "CLEAN COAL TECHNOLOGIES INC.",
           "Crude Petroleum and Natural Gas"
          ],
          [
           "NORTHERN OIL & GAS, INC.",
           "Crude Petroleum and Natural Gas"
          ],
          [
           "SRC ENERGY INC.",
           "Crude Petroleum and Natural Gas"
          ],
          [
           "JONES ENERGY, INC.",
           "Crude Petroleum and Natural Gas"
          ],
          [
           "GOODRICH PETROLEUM CORP",
           "Crude Petroleum and Natural Gas"
          ],
          [
           "OCCIDENTAL PETROLEUM CORP /DE/",
           "Crude Petroleum and Natural Gas"
          ],
          [
           "LONESTAR RESOURCES US INC.",
           "Crude Petroleum and Natural Gas"
          ],
          [
           "NOBLE ENERGY INC",
           "Crude Petroleum and Natural Gas"
          ],
          [
           "PIONEER NATURAL RESOURCES CO",
           "Crude Petroleum and Natural Gas"
          ],
          [
           "BONANZA CREEK ENERGY, INC.",
           "Crude Petroleum and Natural Gas"
          ],
          [
           "DEVON ENERGY CORP/DE",
           "Crude Petroleum and Natural Gas"
          ],
          [
           "CALIFORNIA RESOURCES CORP",
           "Crude Petroleum and Natural Gas"
          ],
          [
           "PARK PLACE ENERGY INC.",
           "Crude Petroleum and Natural Gas"
          ],
          [
           "ANTERO RESOURCES CORP",
           "Crude Petroleum and Natural Gas"
          ],
          [
           "LAREDO PETROLEUM, INC.",
           "Crude Petroleum and Natural Gas"
          ],
          [
           "CIMAREX ENERGY CO",
           "Crude Petroleum and Natural Gas"
          ],
          [
           "ALTA MESA HOLDINGS, LP",
           "Crude Petroleum and Natural Gas"
          ],
          [
           "US ENERGY CORP",
           "Crude Petroleum and Natural Gas"
          ],
          [
           "VICTORY ENERGY CORP",
           "Crude Petroleum and Natural Gas"
          ],
          [
           "VICTORY ENERGY CORP",
           "Crude Petroleum and Natural Gas"
          ],
          [
           "GRAN TIERRA ENERGY INC.",
           "Crude Petroleum and Natural Gas"
          ],
          [
           "MIDSTATES PETROLEUM COMPANY, INC.",
           "Crude Petroleum and Natural Gas"
          ],
          [
           "WILDHORSE RESOURCE DEVELOPMENT CORP",
           "Crude Petroleum and Natural Gas"
          ],
          [
           "SM ENERGY CO",
           "Crude Petroleum and Natural Gas"
          ],
          [
           "SANDRIDGE ENERGY INC",
           "Crude Petroleum and Natural Gas"
          ],
          [
           "RING ENERGY, INC.",
           "Crude Petroleum and Natural Gas"
          ],
          [
           "SANCHEZ ENERGY CORP",
           "Crude Petroleum and Natural Gas"
          ],
          [
           "TETRA TECHNOLOGIES INC",
           "Crude Petroleum and Natural Gas"
          ],
          [
           "RESERVE PETROLEUM CO",
           "Crude Petroleum and Natural Gas"
          ],
          [
           "HESS MIDSTREAM PARTNERS LP",
           "Crude Petroleum and Natural Gas"
          ],
          [
           "TORCHLIGHT ENERGY RESOURCES INC",
           "Crude Petroleum and Natural Gas"
          ],
          [
           "LINN ENERGY, INC.",
           "Crude Petroleum and Natural Gas"
          ],
          [
           "KOSMOS ENERGY LTD.",
           "Crude Petroleum and Natural Gas"
          ],
          [
           "SILVERBOW RESOURCES, INC.",
           "Crude Petroleum and Natural Gas"
          ],
          [
           "TELLURIAN INC. /DE/",
           "Crude Petroleum and Natural Gas"
          ],
          [
           "DORCHESTER MINERALS, L.P.",
           "Crude Petroleum and Natural Gas"
          ],
          [
           "MATADOR RESOURCES CO",
           "Crude Petroleum and Natural Gas"
          ],
          [
           "PDC ENERGY, INC.",
           "Crude Petroleum and Natural Gas"
          ],
          [
           "TEXAS SOUTH ENERGY, INC.",
           "Crude Petroleum and Natural Gas"
          ],
          [
           "PEDEVCO CORP",
           "Crude Petroleum and Natural Gas"
          ],
          [
           "VIPER ENERGY PARTNERS LP",
           "Crude Petroleum and Natural Gas"
          ],
          [
           "ENERJEX RESOURCES, INC.",
           "Crude Petroleum and Natural Gas"
          ],
          [
           "TENGASCO INC",
           "Crude Petroleum and Natural Gas"
          ],
          [
           "KIMBELL ROYALTY PARTNERS, LP",
           "Crude Petroleum and Natural Gas"
          ],
          [
           "CONCHO RESOURCES INC",
           "Crude Petroleum and Natural Gas"
          ],
          [
           "APACHE OFFSHORE INVESTMENT PARTNERSHIP",
           "Crude Petroleum and Natural Gas"
          ],
          [
           "EVERFLOW EASTERN PARTNERS LP",
           "Crude Petroleum and Natural Gas"
          ],
          [
           "CHESAPEAKE ENERGY CORP",
           "Crude Petroleum and Natural Gas"
          ],
          [
           "CARRIZO OIL & GAS INC",
           "Crude Petroleum and Natural Gas"
          ],
          [
           "CALLON PETROLEUM CO",
           "Crude Petroleum and Natural Gas"
          ],
          [
           "PENN VIRGINIA CORP",
           "Crude Petroleum and Natural Gas"
          ],
          [
           "DIAMONDBACK ENERGY, INC.",
           "Crude Petroleum and Natural Gas"
          ],
          [
           "COMSTOCK RESOURCES INC",
           "Crude Petroleum and Natural Gas"
          ],
          [
           "DALA PETROLEUM CORP.",
           "Crude Petroleum and Natural Gas"
          ],
          [
           "WPX ENERGY, INC.",
           "Crude Petroleum and Natural Gas"
          ],
          [
           "LILIS ENERGY, INC.",
           "Crude Petroleum and Natural Gas"
          ]
         ],
         "hovertemplate": "color=Crude Petroleum and Natural Gas<br>0=%{x}<br>1=%{y}<br>name=%{customdata[0]}<br>industry=%{customdata[1]}<extra></extra>",
         "legendgroup": "Crude Petroleum and Natural Gas",
         "marker": {
          "color": "#EF553B",
          "symbol": "circle"
         },
         "mode": "markers",
         "name": "Crude Petroleum and Natural Gas",
         "orientation": "v",
         "showlegend": true,
         "type": "scatter",
         "x": [
          -0.009021144718053629,
          -0.013546412726446523,
          -0.2496763402579444,
          0.09788243613840922,
          -0.0031122515567360205,
          0.0034266032352562757,
          0.040437792164216724,
          0.011748670908117305,
          0.019131209069991537,
          -0.01512397433157834,
          0.025445740218285447,
          -0.008826422771685688,
          -0.01124153175887439,
          -0.01324684889603788,
          -0.004223236808979259,
          -0.01441664365539503,
          -0.005633236525131909,
          -0.01437807617920665,
          -0.011195578161203774,
          -0.014619002211161799,
          0.0034176722894019187,
          -0.005647614228947529,
          -0.014283445875352047,
          -0.001690698744375399,
          -0.13655428723727026,
          -0.011288326469775938,
          -0.01221319760427733,
          -0.0031029869295303592,
          0.0012035376958503428,
          -0.008729376218300168,
          -0.011498109541779754,
          0.029837148560608172,
          0.0011156772775832125,
          -0.008245616105894728,
          0.008738816476281826,
          0.03978278484570391,
          -0.03979370696701265,
          0.009851167256240708,
          -0.0021997282484566725,
          0.007737970490937337,
          -0.004188890090656205,
          -0.0072897137530609285,
          -0.011810672618118792,
          -0.011810672618118792,
          -0.00720991684718849,
          -0.003173679753282972,
          -0.0029891314168475386,
          -0.0034050362866890577,
          -0.012834248417464458,
          -0.013876176137091268,
          -0.011594633476482638,
          -0.03205645664440672,
          0.0048996939223669,
          0.011567645995574827,
          -0.02559475492617153,
          0.0016887658398788408,
          -0.0029192858666650025,
          -0.008803990672323111,
          -0.009870832223279231,
          -0.004146247081563428,
          -0.009844578159105413,
          0.007773211105305017,
          0.0009587262600703238,
          -0.004460117232320842,
          -0.0012751780141952353,
          -0.07671438586820145,
          0.012924677032693685,
          -0.012681532878072466,
          -0.00667885429212187,
          0.01535511776516932,
          -0.005768676913859351,
          -0.0026135407788130402,
          -0.0025087608634724824,
          0.006898341653507647,
          -0.009809779507736958,
          0.0011176443064404402,
          -0.0058824405513115035,
          0.02433831240164245,
          -0.0029335147414073473,
          -0.0009419875601947078
         ],
         "xaxis": "x",
         "y": [
          -0.3554288591218365,
          -0.24759243369933512,
          0.06597001708626875,
          0.011670096727697284,
          -0.3106990746297928,
          -0.12787572770221814,
          -0.0847074467197965,
          -0.12526502959389735,
          -0.1655251360346301,
          -0.3499119419620213,
          -0.12842132823948246,
          -0.3353996478139063,
          -0.33032099575524837,
          -0.3450330785920991,
          -0.21541234234653664,
          -0.1463307665647912,
          -0.3256140945804887,
          -0.34198105848711163,
          -0.29174642613894614,
          -0.35374691906255523,
          -0.3745691545166586,
          -0.3212166151529883,
          -0.047246922169259735,
          -0.30342121419123574,
          -0.0713909869855988,
          -0.35595569229260904,
          -0.3494068641798173,
          -0.34792718417851376,
          -0.36980005584410625,
          -0.34045703639052477,
          -0.3197394952016708,
          -0.32093354858996564,
          -0.22216302908953056,
          -0.3551828639704639,
          -0.20260498995530385,
          -0.27247446105173634,
          -0.3157705257862265,
          -0.33384101302221325,
          -0.34888546250385755,
          -0.24151755215600432,
          -0.2995282194566997,
          -0.3492054385004831,
          -0.27845195977846793,
          -0.27845195977846793,
          -0.35385915522500877,
          -0.35951036432148015,
          -0.3434024692428871,
          -0.20440167436621326,
          -0.3400556620381276,
          -0.33725711910673906,
          -0.3348351990802542,
          -0.24104553515054664,
          -0.22628746492173843,
          -0.2558544417054471,
          -0.20022518339423295,
          -0.351924096587067,
          -0.3313408559792742,
          -0.3407227463304169,
          -0.3328143891014762,
          -0.32386510226146303,
          -0.33348487808896776,
          -0.2938525636710908,
          -0.19302067841398665,
          -0.08178639976997215,
          -0.3408868938930468,
          -0.07862529801627838,
          -0.20642007227886702,
          -0.3540037711963725,
          -0.3524850301906813,
          -0.30571958287846,
          -0.31649383410675846,
          -0.3122317467226302,
          -0.29389209910192055,
          -0.3505351855348009,
          -0.2442127196928665,
          -0.3651248158509365,
          -0.34635003027243655,
          -0.1993674220640365,
          -0.36738822021560374,
          -0.3520745449627863
         ],
         "yaxis": "y"
        },
        {
         "customdata": [
          [
           "ULURU INC.",
           "Pharmaceutical Preparations"
          ],
          [
           "CHINA YCT INTERNATIONAL GROUP, INC.",
           "Pharmaceutical Preparations"
          ],
          [
           "AXOVANT SCIENCES LTD.",
           "Pharmaceutical Preparations"
          ],
          [
           "MYOVANT SCIENCES LTD.",
           "Pharmaceutical Preparations"
          ],
          [
           "PRESTIGE BRANDS HOLDINGS, INC.",
           "Pharmaceutical Preparations"
          ],
          [
           "HYPGEN INC",
           "Pharmaceutical Preparations"
          ],
          [
           "HYPGEN INC",
           "Pharmaceutical Preparations"
          ],
          [
           "DANDRIT BIOTECH USA, INC.",
           "Pharmaceutical Preparations"
          ],
          [
           "REZOLUTE, INC.",
           "Pharmaceutical Preparations"
          ],
          [
           "OPTEC INTERNATIONAL, INC.",
           "Pharmaceutical Preparations"
          ],
          [
           "OPTEC INTERNATIONAL, INC.",
           "Pharmaceutical Preparations"
          ],
          [
           "BIOVIE INC.",
           "Pharmaceutical Preparations"
          ],
          [
           "ONCOSEC MEDICAL INC",
           "Pharmaceutical Preparations"
          ],
          [
           "CANNABICS PHARMACEUTICALS INC.",
           "Pharmaceutical Preparations"
          ],
          [
           "ORAMED PHARMACEUTICALS INC.",
           "Pharmaceutical Preparations"
          ],
          [
           "ENTEST BIOMEDICAL, INC.",
           "Pharmaceutical Preparations"
          ],
          [
           "MY CLOUDZ, INC.",
           "Pharmaceutical Preparations"
          ],
          [
           "MY CLOUDZ, INC.",
           "Pharmaceutical Preparations"
          ],
          [
           "ENANTA PHARMACEUTICALS INC",
           "Pharmaceutical Preparations"
          ],
          [
           "CITIUS PHARMACEUTICALS, INC.",
           "Pharmaceutical Preparations"
          ],
          [
           "STELLAR BIOTECHNOLOGIES, INC.",
           "Pharmaceutical Preparations"
          ],
          [
           "REGEN BIOPHARMA INC",
           "Pharmaceutical Preparations"
          ],
          [
           "REGEN BIOPHARMA INC",
           "Pharmaceutical Preparations"
          ],
          [
           "ADVAXIS, INC.",
           "Pharmaceutical Preparations"
          ],
          [
           "ORGENESIS INC.",
           "Pharmaceutical Preparations"
          ],
          [
           "Q BIOMED INC.",
           "Pharmaceutical Preparations"
          ],
          [
           "JOHNSON & JOHNSON",
           "Pharmaceutical Preparations"
          ],
          [
           "BRISTOL MYERS SQUIBB CO",
           "Pharmaceutical Preparations"
          ],
          [
           "VBI VACCINES INC/BC",
           "Pharmaceutical Preparations"
          ],
          [
           "INTRA-CELLULAR THERAPIES, INC.",
           "Pharmaceutical Preparations"
          ],
          [
           "ROCKET PHARMACEUTICALS, INC.",
           "Pharmaceutical Preparations"
          ],
          [
           "ATLAS HOLDINGS, INC.",
           "Pharmaceutical Preparations"
          ],
          [
           "NEMUS BIOSCIENCE, INC.",
           "Pharmaceutical Preparations"
          ],
          [
           "NEMUS BIOSCIENCE, INC.",
           "Pharmaceutical Preparations"
          ],
          [
           "OVASCIENCE, INC.",
           "Pharmaceutical Preparations"
          ],
          [
           "CONCERT PHARMACEUTICALS, INC.",
           "Pharmaceutical Preparations"
          ],
          [
           "AKCEA THERAPEUTICS, INC.",
           "Pharmaceutical Preparations"
          ],
          [
           "ARQULE INC",
           "Pharmaceutical Preparations"
          ],
          [
           "AXIM BIOTECHNOLOGIES, INC.",
           "Pharmaceutical Preparations"
          ],
          [
           "GUARDION HEALTH SCIENCES, INC.",
           "Pharmaceutical Preparations"
          ],
          [
           "RETROPHIN, INC.",
           "Pharmaceutical Preparations"
          ],
          [
           "SYNDAX PHARMACEUTICALS INC",
           "Pharmaceutical Preparations"
          ],
          [
           "FIBROGEN INC",
           "Pharmaceutical Preparations"
          ],
          [
           "PROTOKINETIX, INC.",
           "Pharmaceutical Preparations"
          ],
          [
           "PROGENICS PHARMACEUTICALS INC",
           "Pharmaceutical Preparations"
          ],
          [
           "CHECKPOINT THERAPEUTICS, INC.",
           "Pharmaceutical Preparations"
          ],
          [
           "PFENEX INC.",
           "Pharmaceutical Preparations"
          ],
          [
           "PAIN THERAPEUTICS INC",
           "Pharmaceutical Preparations"
          ],
          [
           "ZOMEDICA PHARMACEUTICALS CORP.",
           "Pharmaceutical Preparations"
          ],
          [
           "ZOMEDICA PHARMACEUTICALS CORP.",
           "Pharmaceutical Preparations"
          ],
          [
           "MOLECULAR TEMPLATES, INC.",
           "Pharmaceutical Preparations"
          ],
          [
           "WAVE LIFE SCIENCES LTD.",
           "Pharmaceutical Preparations"
          ],
          [
           "CYMABAY THERAPEUTICS, INC.",
           "Pharmaceutical Preparations"
          ],
          [
           "AMICUS THERAPEUTICS INC",
           "Pharmaceutical Preparations"
          ],
          [
           "EVOKE PHARMA INC",
           "Pharmaceutical Preparations"
          ],
          [
           "CHEMBIO DIAGNOSTICS, INC.",
           "Pharmaceutical Preparations"
          ],
          [
           "CARA THERAPEUTICS, INC.",
           "Pharmaceutical Preparations"
          ],
          [
           "CYTOMX THERAPEUTICS, INC.",
           "Pharmaceutical Preparations"
          ],
          [
           "XENCOR INC",
           "Pharmaceutical Preparations"
          ],
          [
           "CATABASIS PHARMACEUTICALS INC",
           "Pharmaceutical Preparations"
          ],
          [
           "SERES THERAPEUTICS, INC.",
           "Pharmaceutical Preparations"
          ],
          [
           "EYEGATE PHARMACEUTICALS INC",
           "Pharmaceutical Preparations"
          ],
          [
           "ARENA PHARMACEUTICALS INC",
           "Pharmaceutical Preparations"
          ],
          [
           "ALEXION PHARMACEUTICALS INC",
           "Pharmaceutical Preparations"
          ],
          [
           "MELINTA THERAPEUTICS, INC. /NEW/",
           "Pharmaceutical Preparations"
          ],
          [
           "FIVE PRIME THERAPEUTICS INC",
           "Pharmaceutical Preparations"
          ],
          [
           "LIXTE BIOTECHNOLOGY HOLDINGS, INC.",
           "Pharmaceutical Preparations"
          ],
          [
           "ARATANA THERAPEUTICS, INC.",
           "Pharmaceutical Preparations"
          ],
          [
           "CHIASMA, INC",
           "Pharmaceutical Preparations"
          ],
          [
           "CELGENE CORP /DE/",
           "Pharmaceutical Preparations"
          ],
          [
           "NEWLINK GENETICS CORP",
           "Pharmaceutical Preparations"
          ],
          [
           "LIGAND PHARMACEUTICALS INC",
           "Pharmaceutical Preparations"
          ],
          [
           "PORTOLA PHARMACEUTICALS INC",
           "Pharmaceutical Preparations"
          ],
          [
           "PLX PHARMA INC.",
           "Pharmaceutical Preparations"
          ],
          [
           "ARDELYX, INC.",
           "Pharmaceutical Preparations"
          ],
          [
           "PROTAGONIST THERAPEUTICS, INC",
           "Pharmaceutical Preparations"
          ],
          [
           "MOLECULIN BIOTECH, INC.",
           "Pharmaceutical Preparations"
          ],
          [
           "IRONWOOD PHARMACEUTICALS INC",
           "Pharmaceutical Preparations"
          ],
          [
           "FORTRESS BIOTECH, INC.",
           "Pharmaceutical Preparations"
          ],
          [
           "SYNTHETIC BIOLOGICS, INC.",
           "Pharmaceutical Preparations"
          ],
          [
           "OPTINOSE, INC.",
           "Pharmaceutical Preparations"
          ],
          [
           "CORMEDIX INC.",
           "Pharmaceutical Preparations"
          ],
          [
           "HEAT BIOLOGICS, INC.",
           "Pharmaceutical Preparations"
          ],
          [
           "SUN BIOPHARMA, INC.",
           "Pharmaceutical Preparations"
          ],
          [
           "BELLEROPHON THERAPEUTICS, INC.",
           "Pharmaceutical Preparations"
          ],
          [
           "BIOSPECIFICS TECHNOLOGIES CORP",
           "Pharmaceutical Preparations"
          ],
          [
           "ZOSANO PHARMA CORP",
           "Pharmaceutical Preparations"
          ],
          [
           "CV SCIENCES, INC.",
           "Pharmaceutical Preparations"
          ],
          [
           "LILLY ELI & CO",
           "Pharmaceutical Preparations"
          ],
          [
           "SAREPTA THERAPEUTICS, INC.",
           "Pharmaceutical Preparations"
          ],
          [
           "EXICURE, INC.",
           "Pharmaceutical Preparations"
          ],
          [
           "OVID THERAPEUTICS INC.",
           "Pharmaceutical Preparations"
          ],
          [
           "IMPRIMIS PHARMACEUTICALS, INC.",
           "Pharmaceutical Preparations"
          ],
          [
           "IONIS PHARMACEUTICALS INC",
           "Pharmaceutical Preparations"
          ],
          [
           "ONCOMED PHARMACEUTICALS INC",
           "Pharmaceutical Preparations"
          ],
          [
           "TONIX PHARMACEUTICALS HOLDING CORP.",
           "Pharmaceutical Preparations"
          ],
          [
           "TEVA PHARMACEUTICAL INDUSTRIES LTD",
           "Pharmaceutical Preparations"
          ],
          [
           "RHYTHM PHARMACEUTICALS, INC.",
           "Pharmaceutical Preparations"
          ],
          [
           "COCRYSTAL PHARMA, INC.",
           "Pharmaceutical Preparations"
          ],
          [
           "REGENERON PHARMACEUTICALS INC",
           "Pharmaceutical Preparations"
          ],
          [
           "ANI PHARMACEUTICALS INC",
           "Pharmaceutical Preparations"
          ],
          [
           "CLEARSIDE BIOMEDICAL, INC.",
           "Pharmaceutical Preparations"
          ],
          [
           "LIPOCINE INC.",
           "Pharmaceutical Preparations"
          ],
          [
           "GALECTIN THERAPEUTICS INC",
           "Pharmaceutical Preparations"
          ],
          [
           "STEMLINE THERAPEUTICS INC",
           "Pharmaceutical Preparations"
          ],
          [
           "DOVA PHARMACEUTICALS, INC.",
           "Pharmaceutical Preparations"
          ],
          [
           "ABBVIE INC.",
           "Pharmaceutical Preparations"
          ],
          [
           "AKORN INC",
           "Pharmaceutical Preparations"
          ],
          [
           "VALEANT PHARMACEUTICALS INTERNATIONAL, INC.",
           "Pharmaceutical Preparations"
          ],
          [
           "INTELGENX TECHNOLOGIES CORP.",
           "Pharmaceutical Preparations"
          ],
          [
           "PFIZER INC",
           "Pharmaceutical Preparations"
          ],
          [
           "SKINVISIBLE INC",
           "Pharmaceutical Preparations"
          ],
          [
           "TAPIMMUNE INC.",
           "Pharmaceutical Preparations"
          ],
          [
           "THERAPEUTICSMD, INC.",
           "Pharmaceutical Preparations"
          ],
          [
           "AQUINOX PHARMACEUTICALS, INC",
           "Pharmaceutical Preparations"
          ],
          [
           "GLOBAL BLOOD THERAPEUTICS, INC.",
           "Pharmaceutical Preparations"
          ],
          [
           "RIGEL PHARMACEUTICALS INC",
           "Pharmaceutical Preparations"
          ],
          [
           "PARATEK PHARMACEUTICALS, INC.",
           "Pharmaceutical Preparations"
          ],
          [
           "PERRIGO CO PLC",
           "Pharmaceutical Preparations"
          ],
          [
           "ZAFGEN, INC.",
           "Pharmaceutical Preparations"
          ],
          [
           "OPHTHOTECH CORP.",
           "Pharmaceutical Preparations"
          ],
          [
           "ACHILLION PHARMACEUTICALS INC",
           "Pharmaceutical Preparations"
          ],
          [
           "KEMPHARM, INC",
           "Pharmaceutical Preparations"
          ],
          [
           "INTERCEPT PHARMACEUTICALS INC",
           "Pharmaceutical Preparations"
          ],
          [
           "ULTRAGENYX PHARMACEUTICAL INC.",
           "Pharmaceutical Preparations"
          ],
          [
           "EMERGENT BIOSOLUTIONS INC.",
           "Pharmaceutical Preparations"
          ],
          [
           "ACER THERAPEUTICS INC.",
           "Pharmaceutical Preparations"
          ],
          [
           "HERON THERAPEUTICS, INC. /DE/",
           "Pharmaceutical Preparations"
          ],
          [
           "ADAMIS PHARMACEUTICALS CORP",
           "Pharmaceutical Preparations"
          ],
          [
           "GT BIOPHARMA, INC.",
           "Pharmaceutical Preparations"
          ],
          [
           "GT BIOPHARMA, INC.",
           "Pharmaceutical Preparations"
          ],
          [
           "GT BIOPHARMA, INC.",
           "Pharmaceutical Preparations"
          ],
          [
           "GT BIOPHARMA, INC.",
           "Pharmaceutical Preparations"
          ],
          [
           "GT BIOPHARMA, INC.",
           "Pharmaceutical Preparations"
          ],
          [
           "GT BIOPHARMA, INC.",
           "Pharmaceutical Preparations"
          ],
          [
           "IMMUNOGEN INC",
           "Pharmaceutical Preparations"
          ],
          [
           "PTC THERAPEUTICS, INC.",
           "Pharmaceutical Preparations"
          ],
          [
           "MANNKIND CORP",
           "Pharmaceutical Preparations"
          ],
          [
           "CARDAX, INC.",
           "Pharmaceutical Preparations"
          ],
          [
           "SYROS PHARMACEUTICALS, INC.",
           "Pharmaceutical Preparations"
          ],
          [
           "ADURO BIOTECH, INC.",
           "Pharmaceutical Preparations"
          ],
          [
           "SIENNA BIOPHARMACEUTICALS, INC.",
           "Pharmaceutical Preparations"
          ],
          [
           "ACHAOGEN INC",
           "Pharmaceutical Preparations"
          ],
          [
           "UNITED CANNABIS CORP",
           "Pharmaceutical Preparations"
          ],
          [
           "UNITED CANNABIS CORP",
           "Pharmaceutical Preparations"
          ],
          [
           "RXI PHARMACEUTICALS CORP",
           "Pharmaceutical Preparations"
          ],
          [
           "RXI PHARMACEUTICALS CORP",
           "Pharmaceutical Preparations"
          ],
          [
           "RXI PHARMACEUTICALS CORP",
           "Pharmaceutical Preparations"
          ],
          [
           "RXI PHARMACEUTICALS CORP",
           "Pharmaceutical Preparations"
          ],
          [
           "SOLIGENIX, INC.",
           "Pharmaceutical Preparations"
          ],
          [
           "XOMA CORP",
           "Pharmaceutical Preparations"
          ],
          [
           "SIERRA ONCOLOGY, INC.",
           "Pharmaceutical Preparations"
          ],
          [
           "ACTINIUM PHARMACEUTICALS, INC.",
           "Pharmaceutical Preparations"
          ],
          [
           "ORAGENICS INC",
           "Pharmaceutical Preparations"
          ],
          [
           "ATHERSYS, INC / NEW",
           "Pharmaceutical Preparations"
          ],
          [
           "PULMATRIX, INC.",
           "Pharmaceutical Preparations"
          ],
          [
           "ACADIA PHARMACEUTICALS INC",
           "Pharmaceutical Preparations"
          ],
          [
           "TREVENA INC",
           "Pharmaceutical Preparations"
          ],
          [
           "NATURES SUNSHINE PRODUCTS INC",
           "Pharmaceutical Preparations"
          ],
          [
           "FLEXION THERAPEUTICS INC",
           "Pharmaceutical Preparations"
          ],
          [
           "VERASTEM, INC.",
           "Pharmaceutical Preparations"
          ],
          [
           "XENON PHARMACEUTICALS INC.",
           "Pharmaceutical Preparations"
          ],
          [
           "SUNESIS PHARMACEUTICALS INC",
           "Pharmaceutical Preparations"
          ],
          [
           "CORVUS PHARMACEUTICALS, INC.",
           "Pharmaceutical Preparations"
          ],
          [
           "MERCK & CO., INC.",
           "Pharmaceutical Preparations"
          ],
          [
           "STRONGBRIDGE BIOPHARMA PLC",
           "Pharmaceutical Preparations"
          ],
          [
           "CATALYST PHARMACEUTICALS, INC.",
           "Pharmaceutical Preparations"
          ],
          [
           "ASSEMBLY BIOSCIENCES, INC.",
           "Pharmaceutical Preparations"
          ],
          [
           "APRICUS BIOSCIENCES, INC.",
           "Pharmaceutical Preparations"
          ],
          [
           "CATALYST BIOSCIENCES, INC.",
           "Pharmaceutical Preparations"
          ],
          [
           "MIRATI THERAPEUTICS, INC.",
           "Pharmaceutical Preparations"
          ],
          [
           "MUSTANG BIO, INC.",
           "Pharmaceutical Preparations"
          ],
          [
           "ACELRX PHARMACEUTICALS INC",
           "Pharmaceutical Preparations"
          ],
          [
           "BLUEPRINT MEDICINES CORP",
           "Pharmaceutical Preparations"
          ],
          [
           "ATHENEX, INC.",
           "Pharmaceutical Preparations"
          ],
          [
           "ATHENEX, INC.",
           "Pharmaceutical Preparations"
          ],
          [
           "RECRO PHARMA, INC.",
           "Pharmaceutical Preparations"
          ],
          [
           "BIOHAVEN PHARMACEUTICAL HOLDING CO LTD.",
           "Pharmaceutical Preparations"
          ],
          [
           "PROTHENA CORP PLC",
           "Pharmaceutical Preparations"
          ],
          [
           "AVENUE THERAPEUTICS, INC.",
           "Pharmaceutical Preparations"
          ],
          [
           "VTV THERAPEUTICS INC.",
           "Pharmaceutical Preparations"
          ],
          [
           "ZYNERBA PHARMACEUTICALS, INC.",
           "Pharmaceutical Preparations"
          ],
          [
           "BIOMARIN PHARMACEUTICAL INC",
           "Pharmaceutical Preparations"
          ],
          [
           "KARYOPHARM THERAPEUTICS INC.",
           "Pharmaceutical Preparations"
          ],
          [
           "LEXICON PHARMACEUTICALS, INC.",
           "Pharmaceutical Preparations"
          ],
          [
           "ENDO INTERNATIONAL PLC",
           "Pharmaceutical Preparations"
          ],
          [
           "PROPHASE LABS, INC.",
           "Pharmaceutical Preparations"
          ],
          [
           "CELLECTAR BIOSCIENCES, INC.",
           "Pharmaceutical Preparations"
          ],
          [
           "RITTER PHARMACEUTICALS INC",
           "Pharmaceutical Preparations"
          ],
          [
           "MARINUS PHARMACEUTICALS INC",
           "Pharmaceutical Preparations"
          ],
          [
           "CORCEPT THERAPEUTICS INC",
           "Pharmaceutical Preparations"
          ],
          [
           "ALNYLAM PHARMACEUTICALS, INC.",
           "Pharmaceutical Preparations"
          ],
          [
           "DARE BIOSCIENCE, INC.",
           "Pharmaceutical Preparations"
          ],
          [
           "TELIGENT, INC.",
           "Pharmaceutical Preparations"
          ],
          [
           "TELIGENT, INC.",
           "Pharmaceutical Preparations"
          ],
          [
           "ACLARIS THERAPEUTICS, INC.",
           "Pharmaceutical Preparations"
          ],
          [
           "VITAL THERAPIES INC",
           "Pharmaceutical Preparations"
          ],
          [
           "DECIPHERA PHARMACEUTICALS, INC.",
           "Pharmaceutical Preparations"
          ],
          [
           "CAPSTONE THERAPEUTICS CORP.",
           "Pharmaceutical Preparations"
          ],
          [
           "PACIRA PHARMACEUTICALS, INC.",
           "Pharmaceutical Preparations"
          ],
          [
           "UROGEN PHARMA LTD.",
           "Pharmaceutical Preparations"
          ],
          [
           "FIBROCELL SCIENCE, INC.",
           "Pharmaceutical Preparations"
          ],
          [
           "FLEX PHARMA, INC.",
           "Pharmaceutical Preparations"
          ],
          [
           "BIODELIVERY SCIENCES INTERNATIONAL INC",
           "Pharmaceutical Preparations"
          ],
          [
           "HORIZON PHARMA PLC",
           "Pharmaceutical Preparations"
          ],
          [
           "MERRIMACK PHARMACEUTICALS INC",
           "Pharmaceutical Preparations"
          ],
          [
           "CYCLACEL PHARMACEUTICALS, INC.",
           "Pharmaceutical Preparations"
          ],
          [
           "ZOETIS INC.",
           "Pharmaceutical Preparations"
          ]
         ],
         "hovertemplate": "color=Pharmaceutical Preparations<br>0=%{x}<br>1=%{y}<br>name=%{customdata[0]}<br>industry=%{customdata[1]}<extra></extra>",
         "legendgroup": "Pharmaceutical Preparations",
         "marker": {
          "color": "#00cc96",
          "symbol": "circle"
         },
         "mode": "markers",
         "name": "Pharmaceutical Preparations",
         "orientation": "v",
         "showlegend": true,
         "type": "scatter",
         "x": [
          -0.17144485584557373,
          -0.12291314520087936,
          -0.5236846254887507,
          -0.4513584322686184,
          -0.07678094731731118,
          -0.1745212503843134,
          -0.1745212503843134,
          -0.4697054906737585,
          -0.3621578876631284,
          -0.031066418856186356,
          -0.031066418856186356,
          -0.3850974101743535,
          -0.5534099091439872,
          -0.15237158692388722,
          -0.4683990601305086,
          0.025599725003364274,
          0.019936893994048507,
          0.019936893994048507,
          -0.6263991837319317,
          -0.15474300887778936,
          -0.3020727341064707,
          -0.01963611871520992,
          -0.01963611871520992,
          -0.44805212418345036,
          -0.26195658062893323,
          -0.4693150574533317,
          -0.059764134218948405,
          -0.1159041360860257,
          -0.4357193459087995,
          -0.5300570371618128,
          -0.0863639673544246,
          -0.1541860614367126,
          -0.5216059149233435,
          -0.5216059149233435,
          -0.5656199924064721,
          -0.3355457988880262,
          -0.18172681823731435,
          -0.26296022242523265,
          -0.33199901584340363,
          -0.05257378737381029,
          -0.5471905569866804,
          -0.6050931034848064,
          -0.4421944225781313,
          -0.28908727457436195,
          -0.0691668696799751,
          -0.46697010887800505,
          -0.46004968108327565,
          -0.3414430934751526,
          -0.3358108159338371,
          -0.3358108159338371,
          -0.53852947804454,
          -0.5680550434097853,
          -0.26693111035553707,
          -0.321227980327948,
          -0.48163666823356904,
          -0.2832657719686389,
          -0.30307364967415185,
          -0.570766202394213,
          -0.021889732134869094,
          -0.19454000508130934,
          -0.4001347066385684,
          -0.49006405436988565,
          -0.4268903047825333,
          -0.3306712798114845,
          -0.36229176664195895,
          0.04157753513494116,
          -0.5177401219758662,
          -0.20130389997318118,
          -0.5090366123224719,
          -0.463974220969305,
          -0.5582650384583867,
          -0.4826450947655411,
          -0.5051446567059645,
          -0.540794820388959,
          -0.46884125528342263,
          -0.6136097217590196,
          -0.4567436452655012,
          -0.4121016040384018,
          -0.14533107172551088,
          -0.45928572557298736,
          -0.5393745774998038,
          -0.5139690039103,
          -0.4267844572437733,
          -0.4370248782894884,
          -0.3926975005362325,
          -0.3273174141193737,
          -0.25836087153170467,
          -0.2243277720590167,
          -0.25614605635810184,
          -0.5359703888529855,
          -0.4368820283512388,
          -0.30992372211860986,
          -0.16700158524725264,
          -0.24966457645916754,
          -0.5520979420594799,
          -0.3653966028171319,
          -0.3012870935829797,
          -0.509352683591942,
          -0.3182468532406362,
          -0.4360039059951204,
          -0.15068699244975414,
          -0.5466898940944762,
          -0.36258240891131505,
          -0.4837726162772917,
          -0.5102907980322512,
          -0.33301706608837556,
          -0.2913345982391311,
          -0.10114763563841143,
          -0.20019498000016514,
          -0.3650876300703105,
          -0.08259421302035105,
          -0.05505590699977148,
          -0.5401114600225977,
          -0.4536644661013946,
          -0.544198147597333,
          -0.4481261880633946,
          -0.5381392299862588,
          -0.27657539984631285,
          -0.0722824895945806,
          -0.007872148402598776,
          -0.507301916886579,
          -0.5248956572237903,
          -0.5910101984074368,
          -0.3876748649840314,
          -0.2909406248069579,
          -0.4627589476309245,
          -0.47805715153376926,
          -0.25723653822040893,
          -0.508798730981746,
          -0.35212078240467876,
          -0.35212078240467876,
          -0.35212078240467876,
          -0.35212078240467876,
          -0.35212078240467876,
          -0.35212078240467876,
          -0.5543010225281513,
          -0.304013220026071,
          -0.4968640363019983,
          -0.3773238959437188,
          -0.6040313382975908,
          -0.5733343891859138,
          -0.5638752220994244,
          -0.5531526365192483,
          -0.1476388737521419,
          -0.1476388737521419,
          -0.5171833813162457,
          -0.5171833813162457,
          -0.5171833813162457,
          -0.5171833813162457,
          -0.43256521602813075,
          -0.23498728128019764,
          -0.45755598695424626,
          -0.490717847406908,
          -0.5700169398114523,
          -0.29127697323279034,
          -0.5484975380998073,
          -0.4858033805046679,
          -0.27921216821005684,
          -0.04904405205549942,
          -0.3708037243110651,
          -0.3410135956846729,
          -0.49257333441045664,
          -0.5788802120400705,
          -0.5452052868708829,
          -0.3250833639667126,
          -0.6115097899236025,
          -0.5511363934233063,
          -0.2426827588690404,
          -0.5449747628795427,
          -0.5619685760909785,
          -0.5864441045227577,
          -0.5254642541262191,
          -0.1748957800547619,
          -0.4684798347416297,
          -0.5233904731890229,
          -0.5233904731890229,
          -0.5238078859732467,
          -0.5203281813366063,
          -0.3340452489649961,
          -0.5870061870436613,
          -0.38959709569933637,
          -0.48360338679056925,
          -0.2987923894614394,
          -0.3503033962998269,
          -0.41109994433446073,
          -0.3332580966931967,
          -0.16420646011993953,
          -0.3307067090341787,
          -0.566026011212569,
          -0.23915857042293256,
          -0.45399594613343897,
          -0.5314154004139161,
          -0.5157197177565759,
          -0.1621498859625541,
          -0.1621498859625541,
          -0.2899026648184668,
          -0.43668182662001487,
          -0.4637216857104449,
          -0.5010161868045077,
          -0.011619112905721018,
          -0.6238518323477406,
          -0.5569271582667228,
          -0.4560816217217969,
          -0.5046371503457567,
          -0.3329645073789973,
          -0.5733842029983734,
          -0.469821702470021,
          0.02426360918218158
         ],
         "xaxis": "x",
         "y": [
          0.002950265048185883,
          -0.027878051783715288,
          0.3346994080759916,
          0.2728202639857633,
          -0.09938604551187899,
          -0.01130813660673338,
          -0.01130813660673338,
          0.2665816575097172,
          0.18924454114317849,
          -0.10530212638349247,
          -0.10530212638349247,
          0.2222941200089092,
          0.3304391494489714,
          0.0036407516199087222,
          0.26553605470338554,
          -0.15138557048529583,
          -0.14583871198393672,
          -0.14583871198393672,
          0.3704450426549787,
          0.043299522981995464,
          0.09380452115281827,
          -0.11521635052745512,
          -0.11521635052745512,
          0.27242025018658694,
          0.09822153711578836,
          0.2546286899364587,
          -0.011172760447144475,
          -0.01860890371083821,
          0.22586720540230631,
          0.3255151304443757,
          -0.0017416107687715599,
          0.018585624995630823,
          0.2945027438890257,
          0.2945027438890257,
          0.3427815685691024,
          0.18997034438377736,
          0.06957805743830081,
          0.13924460554648865,
          0.13525059535101414,
          -0.10253654890916945,
          0.3178580614213934,
          0.3753852493832271,
          0.2756879534886024,
          0.08954077304940046,
          -0.06949256270467422,
          0.24916595612624035,
          0.2534409953226131,
          0.19028891605897838,
          0.16526384201299205,
          0.16526384201299205,
          0.32044831087239845,
          0.34083356544836224,
          0.1232691335599847,
          0.16007642372505587,
          0.2730769981143204,
          0.1067111580235396,
          0.08932577139493532,
          0.34762405774120336,
          -0.06142062683302793,
          0.07788298616528198,
          0.2291894224823208,
          0.29680531369635693,
          0.21474835569129905,
          0.16816997390628835,
          0.15578709695335038,
          -0.09627079933676305,
          0.3209224106857718,
          0.030723649708527027,
          0.3212754796110308,
          0.2537149988532817,
          0.3188517856128833,
          0.2971977434351707,
          0.2728150147058649,
          0.3280210940025681,
          0.2837520734181589,
          0.3766997164183725,
          0.24075422446062758,
          0.20742833220759374,
          -0.05861759566225059,
          0.2916986015360424,
          0.34161128577727773,
          0.30018335911821803,
          0.2582502904356401,
          0.24281071764250822,
          0.2429178808377759,
          0.1727562961742702,
          0.1152909129109904,
          0.059723735588676684,
          0.08555208493254536,
          0.3285689186886579,
          0.2685571181312657,
          0.16809844826253303,
          0.018662094970353003,
          0.10682433561853646,
          0.31750393081326445,
          0.18916147249374338,
          0.12030806231148042,
          0.32312121627810336,
          0.13098721399863303,
          0.22628517126569173,
          -0.021704614291166494,
          0.32746579104436185,
          0.18701505485328737,
          0.30079875107589127,
          0.2985179818678845,
          0.15451113382591108,
          0.10198291296142742,
          -0.08043463598789131,
          0.03720105906341761,
          0.1726820507500663,
          -0.05610077803543972,
          -0.04604942942698535,
          0.31281851061016275,
          0.21445085887885265,
          0.32309784463599944,
          0.2777631193133189,
          0.30078455320987946,
          0.13086616647329727,
          -0.07670723210096927,
          -0.16427829802680283,
          0.3081465120870908,
          0.32046977213779226,
          0.35611760196319897,
          0.1668456962756363,
          0.15151338674819678,
          0.25221305824253987,
          0.226821192631324,
          0.1277157005643628,
          0.2954922480097081,
          0.19647936042168418,
          0.19647936042168418,
          0.19647936042168418,
          0.19647936042168418,
          0.19647936042168418,
          0.19647936042168418,
          0.3409704546159947,
          0.16225411048089716,
          0.2759975218688539,
          0.1885634395490343,
          0.37735756572236523,
          0.3480751603324164,
          0.36106969009815626,
          0.3106692358224277,
          -0.05200611486553334,
          -0.05200611486553334,
          0.2574811573440752,
          0.2574811573440752,
          0.2574811573440752,
          0.2574811573440752,
          0.26377313000958735,
          0.03489126302792399,
          0.2810123689978345,
          0.292073078569584,
          0.3404344336311701,
          0.1397247004063989,
          0.3185658192389185,
          0.27012877708247224,
          0.14070621987135484,
          -0.12936129014467673,
          0.21153168280139384,
          0.1807481603923597,
          0.3156712632961263,
          0.35651106033944024,
          0.34980296592667226,
          0.13998406183013332,
          0.3809346722713869,
          0.3314364129528021,
          0.10743418805595878,
          0.32244441731635465,
          0.3408577858021847,
          0.3679759101560116,
          0.29882905538851384,
          0.03321683057163557,
          0.2943762187692213,
          0.33582803265246797,
          0.33582803265246797,
          0.31658996658052485,
          0.33077313833459676,
          0.17899899135598157,
          0.34978249539858414,
          0.23618395940940826,
          0.3065064534726482,
          0.1538314823266973,
          0.19448162787337264,
          0.22349442658635452,
          0.11983517830169292,
          -0.01587988120558537,
          0.1687790238950068,
          0.33623215684939706,
          0.11661666273746721,
          0.24570003175541338,
          0.3126592623276184,
          0.29599085114151635,
          -0.011731427288449923,
          -0.011731427288449923,
          0.12382080942516818,
          0.23991619881820203,
          0.2668063831286875,
          0.2765080794178766,
          -0.012082778510051198,
          0.3930196732799231,
          0.34674590597029237,
          0.21128872905461235,
          0.26246185557549856,
          0.13416448693801256,
          0.3559146102208385,
          0.2788267248588317,
          -0.16639613464103023
         ],
         "yaxis": "y"
        },
        {
         "customdata": [
          [
           "INVESTORS REAL ESTATE TRUST",
           "Real Estate Investment Trusts"
          ],
          [
           "BRT APARTMENTS CORP.",
           "Real Estate Investment Trusts"
          ],
          [
           "MONMOUTH REAL ESTATE INVESTMENT CORP",
           "Real Estate Investment Trusts"
          ],
          [
           "FIRST REAL ESTATE INVESTMENT TRUST OF NEW JERSEY",
           "Real Estate Investment Trusts"
          ],
          [
           "FIRST REAL ESTATE INVESTMENT TRUST OF NEW JERSEY",
           "Real Estate Investment Trusts"
          ],
          [
           "URSTADT BIDDLE PROPERTIES INC",
           "Real Estate Investment Trusts"
          ],
          [
           "URSTADT BIDDLE PROPERTIES INC",
           "Real Estate Investment Trusts"
          ],
          [
           "PHILLIPS EDISON & COMPANY, INC.",
           "Real Estate Investment Trusts"
          ],
          [
           "SL GREEN REALTY CORP",
           "Real Estate Investment Trusts"
          ],
          [
           "CUBESMART",
           "Real Estate Investment Trusts"
          ],
          [
           "CIM COMMERCIAL TRUST CORP",
           "Real Estate Investment Trusts"
          ],
          [
           "CERES TACTICAL SYSTEMATIC L.P.",
           "Real Estate Investment Trusts"
          ],
          [
           "PS BUSINESS PARKS INC/CA",
           "Real Estate Investment Trusts"
          ],
          [
           "STEADFAST INCOME REIT, INC.",
           "Real Estate Investment Trusts"
          ],
          [
           "RETAIL OPPORTUNITY INVESTMENTS CORP",
           "Real Estate Investment Trusts"
          ],
          [
           "MORGAN STANLEY SMITH BARNEY SPECTRUM SELECT LP",
           "Real Estate Investment Trusts"
          ],
          [
           "NEW YORK MORTGAGE TRUST INC",
           "Real Estate Investment Trusts"
          ],
          [
           "CBL & ASSOCIATES PROPERTIES INC",
           "Real Estate Investment Trusts"
          ],
          [
           "LEXINGTON REALTY TRUST",
           "Real Estate Investment Trusts"
          ],
          [
           "BRANDYWINE REALTY TRUST",
           "Real Estate Investment Trusts"
          ],
          [
           "LAMAR ADVERTISING CO/NEW",
           "Real Estate Investment Trusts"
          ],
          [
           "JBG SMITH PROPERTIES",
           "Real Estate Investment Trusts"
          ],
          [
           "KBS REAL ESTATE INVESTMENT TRUST III, INC.",
           "Real Estate Investment Trusts"
          ],
          [
           "CAPSTEAD MORTGAGE CORP",
           "Real Estate Investment Trusts"
          ],
          [
           "GGP INC.",
           "Real Estate Investment Trusts"
          ],
          [
           "QTS REALTY TRUST, INC.",
           "Real Estate Investment Trusts"
          ],
          [
           "WELLS FARGO REAL ESTATE INVESTMENT CORP.",
           "Real Estate Investment Trusts"
          ],
          [
           "LIGHTSTONE VALUE PLUS REAL ESTATE INVESTMENT TRUST V, INC.",
           "Real Estate Investment Trusts"
          ],
          [
           "RESOURCE APARTMENT REIT III, INC.",
           "Real Estate Investment Trusts"
          ],
          [
           "CNL HEALTHCARE PROPERTIES, INC.",
           "Real Estate Investment Trusts"
          ],
          [
           "RETAIL PROPERTIES OF AMERICA, INC.",
           "Real Estate Investment Trusts"
          ],
          [
           "BOSTON PROPERTIES INC",
           "Real Estate Investment Trusts"
          ],
          [
           "REGENCY CENTERS CORP",
           "Real Estate Investment Trusts"
          ],
          [
           "NATIONAL HEALTH INVESTORS INC",
           "Real Estate Investment Trusts"
          ],
          [
           "DRIVE SHACK INC.",
           "Real Estate Investment Trusts"
          ],
          [
           "COLE CREDIT PROPERTY TRUST V, INC.",
           "Real Estate Investment Trusts"
          ],
          [
           "EQUITY RESIDENTIAL",
           "Real Estate Investment Trusts"
          ],
          [
           "KITE REALTY GROUP TRUST",
           "Real Estate Investment Trusts"
          ],
          [
           "OUTFRONT MEDIA INC.",
           "Real Estate Investment Trusts"
          ],
          [
           "PENNSYLVANIA REAL ESTATE INVESTMENT TRUST",
           "Real Estate Investment Trusts"
          ],
          [
           "COLE REAL ESTATE INCOME STRATEGY (DAILY NAV), INC.",
           "Real Estate Investment Trusts"
          ],
          [
           "REALTY INCOME CORP",
           "Real Estate Investment Trusts"
          ],
          [
           "GLOBAL MEDICAL REIT INC.",
           "Real Estate Investment Trusts"
          ],
          [
           "PILLARSTONE CAPITAL REIT",
           "Real Estate Investment Trusts"
          ],
          [
           "CLIPPER REALTY INC.",
           "Real Estate Investment Trusts"
          ],
          [
           "BLACK CREEK INDUSTRIAL REIT IV INC.",
           "Real Estate Investment Trusts"
          ],
          [
           "LIGHTSTONE VALUE PLUS REAL ESTATE INVESTMENT TRUST, INC.",
           "Real Estate Investment Trusts"
          ],
          [
           "KKR REAL ESTATE FINANCE TRUST INC.",
           "Real Estate Investment Trusts"
          ],
          [
           "GEO GROUP INC",
           "Real Estate Investment Trusts"
          ],
          [
           "AMERICAN ASSETS TRUST, INC.",
           "Real Estate Investment Trusts"
          ],
          [
           "IMPAC MORTGAGE HOLDINGS INC",
           "Real Estate Investment Trusts"
          ],
          [
           "CNL HEALTHCARE PROPERTIES II, INC.",
           "Real Estate Investment Trusts"
          ],
          [
           "ANWORTH MORTGAGE ASSET CORP",
           "Real Estate Investment Trusts"
          ],
          [
           "LIGHTSTONE VALUE PLUS REAL ESTATE INVESTMENT TRUST III, INC.",
           "Real Estate Investment Trusts"
          ],
          [
           "AMERICAN FINANCE TRUST, INC",
           "Real Estate Investment Trusts"
          ],
          [
           "EQUITY COMMONWEALTH",
           "Real Estate Investment Trusts"
          ],
          [
           "FOUR CORNERS PROPERTY TRUST, INC.",
           "Real Estate Investment Trusts"
          ],
          [
           "RAYONIER INC",
           "Real Estate Investment Trusts"
          ],
          [
           "HOST HOTELS & RESORTS, INC.",
           "Real Estate Investment Trusts"
          ],
          [
           "GAMING & LEISURE PROPERTIES, INC.",
           "Real Estate Investment Trusts"
          ],
          [
           "NATIONAL RETAIL PROPERTIES, INC.",
           "Real Estate Investment Trusts"
          ],
          [
           "SENIOR HOUSING PROPERTIES TRUST",
           "Real Estate Investment Trusts"
          ],
          [
           "SUTHERLAND ASSET MANAGEMENT CORP",
           "Real Estate Investment Trusts"
          ],
          [
           "TAUBMAN CENTERS INC",
           "Real Estate Investment Trusts"
          ],
          [
           "RESOURCE REAL ESTATE OPPORTUNITY REIT, INC.",
           "Real Estate Investment Trusts"
          ],
          [
           "TANGER FACTORY OUTLET CENTERS INC",
           "Real Estate Investment Trusts"
          ],
          [
           "MFA FINANCIAL, INC.",
           "Real Estate Investment Trusts"
          ],
          [
           "TERRA SECURED INCOME FUND 5, LLC",
           "Real Estate Investment Trusts"
          ],
          [
           "SBA COMMUNICATIONS CORP",
           "Real Estate Investment Trusts"
          ],
          [
           "LIGHTSTONE VALUE PLUS REAL ESTATE INVESTMENT TRUST II INC",
           "Real Estate Investment Trusts"
          ],
          [
           "JONES LANG LASALLE INCOME PROPERTY TRUST, INC.",
           "Real Estate Investment Trusts"
          ],
          [
           "AVALONBAY COMMUNITIES INC",
           "Real Estate Investment Trusts"
          ],
          [
           "ARES COMMERCIAL REAL ESTATE CORP",
           "Real Estate Investment Trusts"
          ],
          [
           "CARTER VALIDUS MISSION CRITICAL REIT II, INC.",
           "Real Estate Investment Trusts"
          ],
          [
           "PHYSICIANS REALTY TRUST",
           "Real Estate Investment Trusts"
          ],
          [
           "PROLOGIS, INC.",
           "Real Estate Investment Trusts"
          ],
          [
           "ARMOUR RESIDENTIAL REIT, INC.",
           "Real Estate Investment Trusts"
          ],
          [
           "CHERRY HILL MORTGAGE INVESTMENT CORP",
           "Real Estate Investment Trusts"
          ],
          [
           "EMPIRE STATE REALTY TRUST, INC.",
           "Real Estate Investment Trusts"
          ],
          [
           "PUBLIC STORAGE",
           "Real Estate Investment Trusts"
          ],
          [
           "APARTMENT INVESTMENT & MANAGEMENT CO",
           "Real Estate Investment Trusts"
          ],
          [
           "CEDAR REALTY TRUST, INC.",
           "Real Estate Investment Trusts"
          ],
          [
           "HIGHLANDS REIT, INC.",
           "Real Estate Investment Trusts"
          ],
          [
           "IRON MOUNTAIN INC",
           "Real Estate Investment Trusts"
          ],
          [
           "SOTHERLY HOTELS INC.",
           "Real Estate Investment Trusts"
          ],
          [
           "EMPIRE STATE REALTY OP, L.P.",
           "Real Estate Investment Trusts"
          ],
          [
           "ESSEX PROPERTY TRUST INC",
           "Real Estate Investment Trusts"
          ],
          [
           "WEINGARTEN REALTY INVESTORS /TX/",
           "Real Estate Investment Trusts"
          ],
          [
           "CONDOR HOSPITALITY TRUST, INC.",
           "Real Estate Investment Trusts"
          ],
          [
           "CITY OFFICE REIT, INC.",
           "Real Estate Investment Trusts"
          ],
          [
           "BENEFIT STREET PARTNERS REALTY TRUST, INC.",
           "Real Estate Investment Trusts"
          ],
          [
           "LIGHTSTONE REAL ESTATE INCOME TRUST INC.",
           "Real Estate Investment Trusts"
          ],
          [
           "AMERICAN CAMPUS COMMUNITIES INC",
           "Real Estate Investment Trusts"
          ],
          [
           "STARWOOD PROPERTY TRUST, INC.",
           "Real Estate Investment Trusts"
          ],
          [
           "CORESITE REALTY CORP",
           "Real Estate Investment Trusts"
          ],
          [
           "POTLATCH CORP",
           "Real Estate Investment Trusts"
          ],
          [
           "CORPORATE OFFICE PROPERTIES TRUST",
           "Real Estate Investment Trusts"
          ],
          [
           "RAMCO GERSHENSON PROPERTIES TRUST",
           "Real Estate Investment Trusts"
          ],
          [
           "NATIONAL STORAGE AFFILIATES TRUST",
           "Real Estate Investment Trusts"
          ],
          [
           "HERSHA HOSPITALITY TRUST",
           "Real Estate Investment Trusts"
          ],
          [
           "JERNIGAN CAPITAL, INC.",
           "Real Estate Investment Trusts"
          ],
          [
           "VORNADO REALTY TRUST",
           "Real Estate Investment Trusts"
          ],
          [
           "ISTAR INC.",
           "Real Estate Investment Trusts"
          ],
          [
           "ALEXANDER & BALDWIN, INC.",
           "Real Estate Investment Trusts"
          ],
          [
           "HOSPITALITY INVESTORS TRUST, INC.",
           "Real Estate Investment Trusts"
          ],
          [
           "SAUL CENTERS INC",
           "Real Estate Investment Trusts"
          ],
          [
           "KBS GROWTH & INCOME REIT, INC.",
           "Real Estate Investment Trusts"
          ],
          [
           "EXTRA SPACE STORAGE INC.",
           "Real Estate Investment Trusts"
          ],
          [
           "CHESAPEAKE LODGING TRUST",
           "Real Estate Investment Trusts"
          ],
          [
           "LTC PROPERTIES INC",
           "Real Estate Investment Trusts"
          ],
          [
           "EASTERLY GOVERNMENT PROPERTIES, INC.",
           "Real Estate Investment Trusts"
          ],
          [
           "PLYMOUTH INDUSTRIAL REIT INC.",
           "Real Estate Investment Trusts"
          ],
          [
           "FRANKLIN STREET PROPERTIES CORP /MA/",
           "Real Estate Investment Trusts"
          ],
          [
           "HEALTHCARE TRUST OF AMERICA, INC.",
           "Real Estate Investment Trusts"
          ],
          [
           "REALSOURCE RESIDENTIAL, INC",
           "Real Estate Investment Trusts"
          ],
          [
           "CARTER VALIDUS MISSION CRITICAL REIT, INC.",
           "Real Estate Investment Trusts"
          ],
          [
           "SUN COMMUNITIES INC",
           "Real Estate Investment Trusts"
          ],
          [
           "FIRST EQUITY PROPERTIES INC",
           "Real Estate Investment Trusts"
          ],
          [
           "MID AMERICA APARTMENT COMMUNITIES INC",
           "Real Estate Investment Trusts"
          ],
          [
           "BROOKFIELD DTLA FUND OFFICE TRUST INVESTOR INC.",
           "Real Estate Investment Trusts"
          ],
          [
           "ANNALY CAPITAL MANAGEMENT INC",
           "Real Estate Investment Trusts"
          ],
          [
           "WHEELER REAL ESTATE INVESTMENT TRUST, INC.",
           "Real Estate Investment Trusts"
          ],
          [
           "ALEXANDRIA REAL ESTATE EQUITIES INC",
           "Real Estate Investment Trusts"
          ],
          [
           "HIGHWOODS PROPERTIES INC",
           "Real Estate Investment Trusts"
          ],
          [
           "KIMCO REALTY CORP",
           "Real Estate Investment Trusts"
          ],
          [
           "INDEPENDENCE REALTY TRUST, INC.",
           "Real Estate Investment Trusts"
          ],
          [
           "PREFERRED APARTMENT COMMUNITIES INC",
           "Real Estate Investment Trusts"
          ],
          [
           "ELLINGTON RESIDENTIAL MORTGAGE REIT",
           "Real Estate Investment Trusts"
          ],
          [
           "CORECIVIC, INC.",
           "Real Estate Investment Trusts"
          ],
          [
           "ASHFORD HOSPITALITY PRIME, INC.",
           "Real Estate Investment Trusts"
          ],
          [
           "LIFE STORAGE, INC.",
           "Real Estate Investment Trusts"
          ],
          [
           "HEALTHCARE REALTY TRUST INC",
           "Real Estate Investment Trusts"
          ],
          [
           "WINTHROP REALTY LIQUIDATING TRUST",
           "Real Estate Investment Trusts"
          ],
          [
           "CORENERGY INFRASTRUCTURE TRUST, INC.",
           "Real Estate Investment Trusts"
          ],
          [
           "KBS STRATEGIC OPPORTUNITY REIT II, INC.",
           "Real Estate Investment Trusts"
          ],
          [
           "PEBBLEBROOK HOTEL TRUST",
           "Real Estate Investment Trusts"
          ],
          [
           "SABRA HEALTH CARE REIT, INC.",
           "Real Estate Investment Trusts"
          ],
          [
           "POWER REIT",
           "Real Estate Investment Trusts"
          ],
          [
           "DYNEX CAPITAL INC",
           "Real Estate Investment Trusts"
          ],
          [
           "DIGITAL REALTY TRUST, INC.",
           "Real Estate Investment Trusts"
          ],
          [
           "STRATEGIC REALTY TRUST, INC.",
           "Real Estate Investment Trusts"
          ],
          [
           "COLE OFFICE & INDUSTRIAL REIT (CCIT III), INC.",
           "Real Estate Investment Trusts"
          ],
          [
           "HEALTHCARE TRUST, INC.",
           "Real Estate Investment Trusts"
          ],
          [
           "LADDER CAPITAL CORP",
           "Real Estate Investment Trusts"
          ],
          [
           "CROWN CASTLE INTERNATIONAL CORP",
           "Real Estate Investment Trusts"
          ],
          [
           "HOWARD HUGHES CORP",
           "Real Estate Investment Trusts"
          ],
          [
           "ALEXANDERS INC",
           "Real Estate Investment Trusts"
          ],
          [
           "MANHATTAN BRIDGE CAPITAL, INC",
           "Real Estate Investment Trusts"
          ],
          [
           "INLAND REAL ESTATE INCOME TRUST, INC.",
           "Real Estate Investment Trusts"
          ],
          [
           "INLAND RESIDENTIAL PROPERTIES TRUST, INC.",
           "Real Estate Investment Trusts"
          ],
          [
           "INLAND RESIDENTIAL PROPERTIES TRUST, INC.",
           "Real Estate Investment Trusts"
          ],
          [
           "KBS REAL ESTATE INVESTMENT TRUST II, INC.",
           "Real Estate Investment Trusts"
          ],
          [
           "RESOURCE REAL ESTATE OPPORTUNITY REIT II, INC.",
           "Real Estate Investment Trusts"
          ],
          [
           "STEADFAST APARTMENT REIT III, INC.",
           "Real Estate Investment Trusts"
          ],
          [
           "ACADIA REALTY TRUST",
           "Real Estate Investment Trusts"
          ],
          [
           "HMG COURTLAND PROPERTIES INC",
           "Real Estate Investment Trusts"
          ],
          [
           "COLE CREDIT PROPERTY TRUST IV, INC.",
           "Real Estate Investment Trusts"
          ],
          [
           "FIVE OAKS INVESTMENT CORP.",
           "Real Estate Investment Trusts"
          ],
          [
           "NEXPOINT RESIDENTIAL TRUST, INC.",
           "Real Estate Investment Trusts"
          ],
          [
           "TWO HARBORS INVESTMENT CORP.",
           "Real Estate Investment Trusts"
          ],
          [
           "WASHINGTON PRIME GROUP INC.",
           "Real Estate Investment Trusts"
          ],
          [
           "TIER REIT INC",
           "Real Estate Investment Trusts"
          ],
          [
           "GRANITE POINT MORTGAGE TRUST INC.",
           "Real Estate Investment Trusts"
          ],
          [
           "GREAT AJAX CORP.",
           "Real Estate Investment Trusts"
          ],
          [
           "DUKE REALTY CORP",
           "Real Estate Investment Trusts"
          ],
          [
           "EASTGROUP PROPERTIES INC",
           "Real Estate Investment Trusts"
          ],
          [
           "STEADFAST APARTMENT REIT, INC.",
           "Real Estate Investment Trusts"
          ],
          [
           "RECKSON OPERATING PARTNERSHIP LP",
           "Real Estate Investment Trusts"
          ],
          [
           "GLOBAL NET LEASE, INC.",
           "Real Estate Investment Trusts"
          ],
          [
           "KBS STRATEGIC OPPORTUNITY REIT, INC.",
           "Real Estate Investment Trusts"
          ],
          [
           "WHITESTONE REIT",
           "Real Estate Investment Trusts"
          ],
          [
           "GRIFFIN CAPITAL ESSENTIAL ASSET REIT II, INC.",
           "Real Estate Investment Trusts"
          ],
          [
           "UDR, INC.",
           "Real Estate Investment Trusts"
          ],
          [
           "COMMUNITY HEALTHCARE TRUST INC",
           "Real Estate Investment Trusts"
          ],
          [
           "VENTAS INC",
           "Real Estate Investment Trusts"
          ],
          [
           "OWENS REALTY MORTGAGE, INC.",
           "Real Estate Investment Trusts"
          ],
          [
           "KILROY REALTY CORP",
           "Real Estate Investment Trusts"
          ],
          [
           "SUMMIT HOTEL PROPERTIES, INC.",
           "Real Estate Investment Trusts"
          ],
          [
           "CORPORATE PROPERTY ASSOCIATES 18 GLOBAL INC",
           "Real Estate Investment Trusts"
          ],
          [
           "CYRUSONE INC.",
           "Real Estate Investment Trusts"
          ],
          [
           "COLONY NORTHSTAR, INC.",
           "Real Estate Investment Trusts"
          ],
          [
           "FEDERAL REALTY INVESTMENT TRUST",
           "Real Estate Investment Trusts"
          ],
          [
           "NEW SENIOR INVESTMENT GROUP INC.",
           "Real Estate Investment Trusts"
          ],
          [
           "RYMAN HOSPITALITY PROPERTIES, INC.",
           "Real Estate Investment Trusts"
          ],
          [
           "BRIXMOR PROPERTY GROUP INC.",
           "Real Estate Investment Trusts"
          ],
          [
           "COLE OFFICE & INDUSTRIAL REIT (CCIT II), INC.",
           "Real Estate Investment Trusts"
          ],
          [
           "OMEGA HEALTHCARE INVESTORS INC",
           "Real Estate Investment Trusts"
          ],
          [
           "REVEN HOUSING REIT, INC.",
           "Real Estate Investment Trusts"
          ],
          [
           "AMERICAN REALTY CAPITAL NEW YORK CITY REIT, INC.",
           "Real Estate Investment Trusts"
          ],
          [
           "STAG INDUSTRIAL, INC.",
           "Real Estate Investment Trusts"
          ],
          [
           "EQUINIX INC",
           "Real Estate Investment Trusts"
          ]
         ],
         "hovertemplate": "color=Real Estate Investment Trusts<br>0=%{x}<br>1=%{y}<br>name=%{customdata[0]}<br>industry=%{customdata[1]}<extra></extra>",
         "legendgroup": "Real Estate Investment Trusts",
         "marker": {
          "color": "#ab63fa",
          "symbol": "circle"
         },
         "mode": "markers",
         "name": "Real Estate Investment Trusts",
         "orientation": "v",
         "showlegend": true,
         "type": "scatter",
         "x": [
          0.10824096537785584,
          0.09526978839327388,
          0.09526441032692004,
          0.10228461821769892,
          0.10228461821769892,
          0.12275051805787453,
          0.12275051805787453,
          0.10120672283746418,
          0.10809425747323656,
          0.07015267441824578,
          0.1424587521278443,
          0.011467218075741732,
          0.09225437947318743,
          0.10444617662087913,
          0.07239236710399903,
          0.011478306298807932,
          0.13214870129718936,
          0.08758722845104921,
          0.09698489400808091,
          0.1807645776169926,
          0.07550797804142949,
          0.11882615149720444,
          0.1662967016289241,
          0.11282678301346236,
          0.09373145240766098,
          0.00552358221466425,
          0.24393360525062424,
          0.15517984049538322,
          0.10688615680776409,
          0.08148430488600746,
          0.07380691143315106,
          0.03046712944854326,
          0.06813030940082217,
          0.11059968076759774,
          0.06389719052342654,
          0.1597305602491381,
          0.07680011583311012,
          0.07388715255093646,
          0.05405539734982033,
          0.12779642705016475,
          0.16860347466254255,
          0.10685867429192243,
          0.0157914808285974,
          0.10559185277921587,
          0.12066801212468749,
          0.15373085938573514,
          0.036009461681635345,
          0.2127157518572141,
          0.00909141098868639,
          0.15090675556428423,
          0.15931585051744668,
          0.09675390643474092,
          0.1061204866809254,
          0.036009461681635345,
          0.10058663805138407,
          0.09327191607176846,
          0.11763287069785816,
          0.08516988937345973,
          0.07957430611596165,
          0.09445879225617883,
          0.12400400107706673,
          0.0668076797285867,
          0.19864287152144663,
          0.047801538742491385,
          0.17039478637816174,
          0.08488177826788364,
          0.15069102865257727,
          0.13867407092802853,
          0.05607826073188876,
          0.036009461681635345,
          0.1460424136663622,
          0.15263195066010432,
          0.16860239327872648,
          0.11561812314636687,
          0.018317084605214563,
          0.13816748147787844,
          0.10969107465816241,
          0.1117572071924565,
          0.10269823082064833,
          -0.0014294980854273659,
          0.09648982881961152,
          0.11340116744117087,
          0.11832603772856341,
          0.00037477405992258385,
          0.05069330521805004,
          0.10060971856165335,
          0.10668853288979226,
          0.1174151713915779,
          0.07574097436407554,
          0.12019833539751718,
          0.1975757377099725,
          0.036009461681635345,
          0.07695495812503472,
          0.21615058116555352,
          0.002297010611791526,
          0.136607626434063,
          0.04759255077237556,
          0.03336175515543171,
          0.08584017734847747,
          0.09250663014388302,
          0.09736556008456472,
          0.0652243837619752,
          0.18180457579129067,
          0.1546521308029776,
          0.09638639228516337,
          0.06621554976263316,
          0.1273829826295491,
          0.07561880800738421,
          0.0643463109784913,
          0.004808061076188882,
          0.05761818206307347,
          0.09807359247660527,
          0.12937481748598187,
          0.013885246046541174,
          0.02447606897775081,
          0.1594530348091334,
          0.005433949033468342,
          0.10725755493333625,
          0.130967955003197,
          0.061116762116294326,
          0.016884387133999135,
          0.090266345210057,
          0.1308197443608647,
          0.0462653049308515,
          0.09829945209653992,
          0.11049165398740825,
          0.17557111316570856,
          0.10892418900522276,
          0.08595302077795412,
          0.03616126993851054,
          0.10606782150671332,
          0.020143861408890105,
          0.07764632635489731,
          0.0858961409293459,
          0.12767826223722323,
          0.04277660552959682,
          0.1227461209750624,
          0.1378795688559256,
          0.14402192446865952,
          0.00883811013497704,
          0.13137128427151115,
          0.15656234096936325,
          0.03456809105522665,
          0.1990528003573244,
          0.045942723278465464,
          0.16618643160464325,
          0.037743295338589576,
          0.18521336242971048,
          0.17105721614911176,
          0.13029625089511498,
          0.13029625089511498,
          0.14723338084488452,
          0.18514722687615293,
          0.03596099271844916,
          0.13169009121669714,
          0.03490686936238115,
          0.16302242973018957,
          0.19991449532093689,
          0.12532655314682414,
          0.18020518592808552,
          0.12057464393727617,
          0.060772739712869686,
          0.18399195645981506,
          0.14713007410749535,
          0.0388833507936204,
          0.05511002638558652,
          0.1254858076582949,
          0.0720163641581743,
          0.12516649928637874,
          0.14326538989336124,
          0.15116184787994552,
          0.11013822766181103,
          0.12956245743553346,
          0.08109010250779437,
          0.10166247618275819,
          0.1359822160223459,
          0.09547121047573398,
          0.06645606041704721,
          0.07077364392786287,
          0.00949390352964074,
          0.17778345928731726,
          0.125588313695305,
          0.05804433444645488,
          0.043821872867553915,
          0.06016335133467396,
          0.15920224332715235,
          0.03736313247521559,
          0.1458006388801395,
          0.1659068084893236,
          0.0599308743189147,
          -0.007771750814152511
         ],
         "xaxis": "x",
         "y": [
          -0.30692146098384676,
          -0.2941430921429397,
          -0.2594327385428786,
          -0.2218097443222749,
          -0.2218097443222749,
          -0.302340597707958,
          -0.302340597707958,
          -0.33762952284755515,
          -0.31066181718273245,
          -0.31904040550828455,
          -0.3541157378277195,
          -0.14262149838474072,
          -0.3102360880667781,
          -0.36063531598965476,
          -0.2883232190564838,
          -0.135880431114571,
          -0.15010184870818355,
          -0.2874449987702553,
          -0.2941881033031819,
          -0.36098555817931643,
          -0.22313968850670798,
          -0.2981661518033791,
          -0.3856278119393847,
          -0.20145242799482746,
          -0.2877558323021031,
          -0.13831386359772835,
          -0.1627290784437943,
          -0.3826914764796241,
          -0.316621435769203,
          -0.31212833391122674,
          -0.31558499654278305,
          -0.15794033714087066,
          -0.22030619351824,
          -0.24588260227877626,
          -0.2643752047193573,
          -0.3659460739546484,
          -0.2801611523073502,
          -0.30074994765967233,
          -0.26864456582431734,
          -0.2969305180910965,
          -0.3633406874783222,
          -0.2889995184786922,
          -0.22254123127432177,
          -0.29366076723828916,
          -0.3877695785445213,
          -0.4120737390261135,
          -0.07392443464486019,
          -0.33072779049642553,
          -0.1510884840312861,
          -0.35331665482009916,
          -0.17475626458486473,
          -0.3393071864475373,
          -0.20859602485653286,
          -0.07392443464486019,
          -0.3274002159881003,
          -0.28296372082952653,
          -0.35187536556503074,
          -0.2210030704294493,
          -0.27616841241537743,
          -0.2473410763378172,
          -0.29509289135073635,
          -0.2488746533068797,
          -0.1761695741468504,
          -0.22661903083311163,
          -0.36246459796936265,
          -0.2905315482838683,
          -0.10836999720002503,
          -0.1955332773010456,
          -0.24074631815944408,
          -0.07392443464486019,
          -0.33631142283086096,
          -0.37332438665617224,
          -0.28160100100376156,
          -0.3169335351185655,
          -0.18141082138079986,
          -0.3037838177792056,
          -0.30530458184490017,
          -0.21370079843326842,
          -0.35036048214795384,
          -0.12327006699245938,
          -0.34484964539161067,
          -0.34419175207582786,
          -0.33381396487201453,
          -0.13924776516871595,
          -0.25532179930514665,
          -0.33479179516129337,
          -0.34398526179172634,
          -0.30049833777902324,
          -0.3206954245488966,
          -0.3110152212931032,
          -0.2103538287852506,
          -0.07392443464486019,
          -0.2853497141396139,
          -0.27741661199264256,
          -0.12006074896205124,
          -0.30366887722243263,
          -0.2340252139636031,
          -0.23727158478643645,
          -0.3317277133320406,
          -0.34480408944379526,
          -0.2548274731063442,
          -0.2781161806892266,
          -0.3132455113822613,
          -0.32259241507703657,
          -0.3366160192175773,
          -0.2494386156143364,
          -0.33208657890416093,
          -0.3062755109034897,
          -0.27545412461777635,
          -0.12249506378187358,
          -0.31716893343119196,
          -0.33166302625888405,
          -0.25832714127106493,
          -0.20086576276917956,
          -0.17406183547734264,
          -0.3760466386365297,
          -0.12360316179179828,
          -0.24646557254032223,
          -0.3786242612658523,
          -0.2648531819662504,
          -0.14710966103120576,
          -0.29568742613485494,
          -0.328718405062739,
          -0.11210583481116693,
          -0.2462856622517258,
          -0.3293210811613852,
          -0.3531133647734743,
          -0.2022186316958421,
          -0.2931808132602287,
          -0.2114572155441362,
          -0.3466202548335084,
          -0.18270099701105325,
          -0.25199651145944185,
          -0.27154993122516413,
          -0.35664548649681027,
          -0.2761620620629261,
          -0.3072971177649916,
          -0.23804526195550074,
          -0.19902695768312662,
          -0.12913027123597734,
          -0.3937605309920765,
          -0.374197949761853,
          -0.2268528672490284,
          -0.21139825875759488,
          -0.20914773021515393,
          -0.3456010931840011,
          -0.21416687824697,
          -0.2651421363223347,
          -0.3949279559513483,
          -0.3527950192344364,
          -0.3527950192344364,
          -0.3774597860861411,
          -0.35547776999908237,
          -0.20845552497333383,
          -0.27122826371012854,
          -0.10602790705622982,
          -0.36876158191234365,
          -0.2624275259550667,
          -0.3463209406982513,
          -0.22839001232069361,
          -0.3299042318455843,
          -0.2746344981769085,
          -0.24874422229477994,
          -0.2816123272404762,
          -0.16344044522794934,
          -0.2358304927551108,
          -0.3627709241230966,
          -0.31515073733067994,
          -0.35055798843239533,
          -0.35055675615023724,
          -0.33144027399890075,
          -0.35915411442960865,
          -0.39936453512110015,
          -0.2748661768610912,
          -0.2686807701721565,
          -0.24309710199470128,
          -0.26563203565502197,
          -0.3025163333847416,
          -0.23476248970692615,
          -0.13491489655036853,
          -0.29953948059080737,
          -0.3578772562437183,
          -0.25819504952274397,
          -0.2508059580160152,
          -0.30275812429229504,
          -0.3674073715143629,
          -0.22024556464149614,
          -0.3335812703286197,
          -0.35620351276165463,
          -0.30651793420228646,
          -0.09389785889913072
         ],
         "yaxis": "y"
        },
        {
         "customdata": [
          [
           "TOMPKINS FINANCIAL CORP",
           "State Commercial Banks (commercial banking)"
          ],
          [
           "TRIUMPH BANCORP, INC.",
           "State Commercial Banks (commercial banking)"
          ],
          [
           "GREAT SOUTHERN BANCORP, INC.",
           "State Commercial Banks (commercial banking)"
          ],
          [
           "SOUTH STATE CORP",
           "State Commercial Banks (commercial banking)"
          ],
          [
           "OLD LINE BANCSHARES INC",
           "State Commercial Banks (commercial banking)"
          ],
          [
           "SEACOAST BANKING CORP OF FLORIDA",
           "State Commercial Banks (commercial banking)"
          ],
          [
           "CITIZENS FINANCIAL GROUP INC/RI",
           "State Commercial Banks (commercial banking)"
          ],
          [
           "COMMUNITY WEST BANCSHARES /",
           "State Commercial Banks (commercial banking)"
          ],
          [
           "MACKINAC FINANCIAL CORP /MI/",
           "State Commercial Banks (commercial banking)"
          ],
          [
           "UNITY BANCORP INC /NJ/",
           "State Commercial Banks (commercial banking)"
          ],
          [
           "UNITY BANCORP INC /NJ/",
           "State Commercial Banks (commercial banking)"
          ],
          [
           "EAST WEST BANCORP INC",
           "State Commercial Banks (commercial banking)"
          ],
          [
           "HEARTLAND FINANCIAL USA INC",
           "State Commercial Banks (commercial banking)"
          ],
          [
           "COUNTY BANCORP, INC.",
           "State Commercial Banks (commercial banking)"
          ],
          [
           "CHEMUNG FINANCIAL CORP",
           "State Commercial Banks (commercial banking)"
          ],
          [
           "BRYN MAWR BANK CORP",
           "State Commercial Banks (commercial banking)"
          ],
          [
           "EAGLE BANCORP MONTANA, INC.",
           "State Commercial Banks (commercial banking)"
          ],
          [
           "1ST SOURCE CORP",
           "State Commercial Banks (commercial banking)"
          ],
          [
           "SERVISFIRST BANCSHARES, INC.",
           "State Commercial Banks (commercial banking)"
          ],
          [
           "SIERRA BANCORP",
           "State Commercial Banks (commercial banking)"
          ],
          [
           "HOPFED BANCORP INC",
           "State Commercial Banks (commercial banking)"
          ],
          [
           "HOPFED BANCORP INC",
           "State Commercial Banks (commercial banking)"
          ],
          [
           "FIRST FINANCIAL BANKSHARES INC",
           "State Commercial Banks (commercial banking)"
          ],
          [
           "CHEMICAL FINANCIAL CORP",
           "State Commercial Banks (commercial banking)"
          ],
          [
           "SECURITY FEDERAL CORP",
           "State Commercial Banks (commercial banking)"
          ],
          [
           "FIRST FINANCIAL CORP /IN/",
           "State Commercial Banks (commercial banking)"
          ],
          [
           "WESTERN ALLIANCE BANCORPORATION",
           "State Commercial Banks (commercial banking)"
          ],
          [
           "TRISTATE CAPITAL HOLDINGS, INC.",
           "State Commercial Banks (commercial banking)"
          ],
          [
           "UNION BANKSHARES CORP",
           "State Commercial Banks (commercial banking)"
          ],
          [
           "CAROLINA TRUST BANCSHARES, INC.",
           "State Commercial Banks (commercial banking)"
          ],
          [
           "COMMUNITY TRUST BANCORP INC /KY/",
           "State Commercial Banks (commercial banking)"
          ],
          [
           "HILLS BANCORPORATION",
           "State Commercial Banks (commercial banking)"
          ],
          [
           "MACATAWA BANK CORP",
           "State Commercial Banks (commercial banking)"
          ],
          [
           "PREMIER FINANCIAL BANCORP INC",
           "State Commercial Banks (commercial banking)"
          ],
          [
           "KENTUCKY BANCSHARES INC /KY/",
           "State Commercial Banks (commercial banking)"
          ],
          [
           "RIVER FINANCIAL CORP",
           "State Commercial Banks (commercial banking)"
          ],
          [
           "BAR HARBOR BANKSHARES",
           "State Commercial Banks (commercial banking)"
          ],
          [
           "PARKE BANCORP, INC.",
           "State Commercial Banks (commercial banking)"
          ],
          [
           "RANDOLPH BANCORP, INC.",
           "State Commercial Banks (commercial banking)"
          ],
          [
           "BANK OF HAWAII CORP",
           "State Commercial Banks (commercial banking)"
          ],
          [
           "BSB BANCORP, INC.",
           "State Commercial Banks (commercial banking)"
          ],
          [
           "INDEPENDENT BANK CORP /MI/",
           "State Commercial Banks (commercial banking)"
          ],
          [
           "PACIFIC PREMIER BANCORP INC",
           "State Commercial Banks (commercial banking)"
          ],
          [
           "OHIO VALLEY BANC CORP",
           "State Commercial Banks (commercial banking)"
          ],
          [
           "CVB FINANCIAL CORP",
           "State Commercial Banks (commercial banking)"
          ],
          [
           "BANK OF NEW YORK MELLON CORP",
           "State Commercial Banks (commercial banking)"
          ],
          [
           "TWO RIVER BANCORP",
           "State Commercial Banks (commercial banking)"
          ],
          [
           "STEWARDSHIP FINANCIAL CORP",
           "State Commercial Banks (commercial banking)"
          ],
          [
           "LAKELAND FINANCIAL CORP",
           "State Commercial Banks (commercial banking)"
          ],
          [
           "FAUQUIER BANKSHARES, INC.",
           "State Commercial Banks (commercial banking)"
          ],
          [
           "LIVE OAK BANCSHARES, INC.",
           "State Commercial Banks (commercial banking)"
          ],
          [
           "M&T BANK CORP",
           "State Commercial Banks (commercial banking)"
          ],
          [
           "INTERNATIONAL BANCSHARES CORP",
           "State Commercial Banks (commercial banking)"
          ],
          [
           "SUMMIT FINANCIAL GROUP INC",
           "State Commercial Banks (commercial banking)"
          ],
          [
           "SUSSEX BANCORP",
           "State Commercial Banks (commercial banking)"
          ],
          [
           "PRIME MERIDIAN HOLDING CO",
           "State Commercial Banks (commercial banking)"
          ],
          [
           "BANKWELL FINANCIAL GROUP, INC.",
           "State Commercial Banks (commercial banking)"
          ],
          [
           "SOUTHWEST GEORGIA FINANCIAL CORP",
           "State Commercial Banks (commercial banking)"
          ],
          [
           "BANK OF COMMERCE HOLDINGS",
           "State Commercial Banks (commercial banking)"
          ],
          [
           "BANK OF COMMERCE HOLDINGS",
           "State Commercial Banks (commercial banking)"
          ],
          [
           "UNITED BANCORP INC /OH/",
           "State Commercial Banks (commercial banking)"
          ],
          [
           "PARKWAY ACQUISITION CORP.",
           "State Commercial Banks (commercial banking)"
          ],
          [
           "INVESTAR HOLDING CORP",
           "State Commercial Banks (commercial banking)"
          ],
          [
           "RENASANT CORP",
           "State Commercial Banks (commercial banking)"
          ],
          [
           "RELIANT BANCORP, INC.",
           "State Commercial Banks (commercial banking)"
          ],
          [
           "FIRST COMMUNITY CORP /SC/",
           "State Commercial Banks (commercial banking)"
          ],
          [
           "FIRST FINANCIAL NORTHWEST, INC.",
           "State Commercial Banks (commercial banking)"
          ],
          [
           "COMMERCE BANCSHARES INC /MO/",
           "State Commercial Banks (commercial banking)"
          ],
          [
           "JUNIATA VALLEY FINANCIAL CORP",
           "State Commercial Banks (commercial banking)"
          ],
          [
           "HOWARD BANCORP INC",
           "State Commercial Banks (commercial banking)"
          ],
          [
           "EAGLE FINANCIAL SERVICES INC",
           "State Commercial Banks (commercial banking)"
          ],
          [
           "MVB FINANCIAL CORP",
           "State Commercial Banks (commercial banking)"
          ],
          [
           "INDEPENDENT BANK GROUP, INC.",
           "State Commercial Banks (commercial banking)"
          ],
          [
           "CONNECTONE BANCORP, INC.",
           "State Commercial Banks (commercial banking)"
          ],
          [
           "REPUBLIC BANCORP INC /KY/",
           "State Commercial Banks (commercial banking)"
          ],
          [
           "SOUTHSIDE BANCSHARES INC",
           "State Commercial Banks (commercial banking)"
          ],
          [
           "FIRST HAWAIIAN, INC.",
           "State Commercial Banks (commercial banking)"
          ],
          [
           "FIRST US BANCSHARES INC",
           "State Commercial Banks (commercial banking)"
          ],
          [
           "COMMUNITY FINANCIAL CORP /MD/",
           "State Commercial Banks (commercial banking)"
          ],
          [
           "BANNER CORP",
           "State Commercial Banks (commercial banking)"
          ],
          [
           "SVB FINANCIAL GROUP",
           "State Commercial Banks (commercial banking)"
          ],
          [
           "CATHAY GENERAL BANCORP",
           "State Commercial Banks (commercial banking)"
          ],
          [
           "BANK OF THE JAMES FINANCIAL GROUP INC",
           "State Commercial Banks (commercial banking)"
          ],
          [
           "FLUSHING FINANCIAL CORP",
           "State Commercial Banks (commercial banking)"
          ],
          [
           "FRANKLIN FINANCIAL SERVICES CORP /PA/",
           "State Commercial Banks (commercial banking)"
          ],
          [
           "CENTRAL PACIFIC FINANCIAL CORP",
           "State Commercial Banks (commercial banking)"
          ],
          [
           "CENTRAL PACIFIC FINANCIAL CORP",
           "State Commercial Banks (commercial banking)"
          ],
          [
           "CENTRAL VALLEY COMMUNITY BANCORP",
           "State Commercial Banks (commercial banking)"
          ],
          [
           "F&M BANK CORP",
           "State Commercial Banks (commercial banking)"
          ],
          [
           "FARMERS NATIONAL BANC CORP /OH/",
           "State Commercial Banks (commercial banking)"
          ],
          [
           "CITIZENS & NORTHERN CORP",
           "State Commercial Banks (commercial banking)"
          ],
          [
           "GUARANTY FEDERAL BANCSHARES INC",
           "State Commercial Banks (commercial banking)"
          ],
          [
           "CAROLINA FINANCIAL CORP",
           "State Commercial Banks (commercial banking)"
          ],
          [
           "FIRST INTERNET BANCORP",
           "State Commercial Banks (commercial banking)"
          ],
          [
           "HARBORONE BANCORP, INC.",
           "State Commercial Banks (commercial banking)"
          ],
          [
           "UNITED BANKSHARES INC/WV",
           "State Commercial Banks (commercial banking)"
          ],
          [
           "INDEPENDENT BANK CORP",
           "State Commercial Banks (commercial banking)"
          ],
          [
           "CITIZENS FINANCIAL SERVICES INC",
           "State Commercial Banks (commercial banking)"
          ],
          [
           "NORWOOD FINANCIAL CORP",
           "State Commercial Banks (commercial banking)"
          ],
          [
           "WEST BANCORPORATION INC",
           "State Commercial Banks (commercial banking)"
          ],
          [
           "CUSTOMERS BANCORP, INC.",
           "State Commercial Banks (commercial banking)"
          ],
          [
           "WEST END INDIANA BANCSHARES, INC.",
           "State Commercial Banks (commercial banking)"
          ],
          [
           "ATLANTIC CAPITAL BANCSHARES, INC.",
           "State Commercial Banks (commercial banking)"
          ],
          [
           "IBERIABANK CORP",
           "State Commercial Banks (commercial banking)"
          ],
          [
           "MERCANTILE BANK CORP",
           "State Commercial Banks (commercial banking)"
          ],
          [
           "GERMAN AMERICAN BANCORP, INC.",
           "State Commercial Banks (commercial banking)"
          ],
          [
           "S&T BANCORP INC",
           "State Commercial Banks (commercial banking)"
          ],
          [
           "HILLTOP HOLDINGS INC.",
           "State Commercial Banks (commercial banking)"
          ],
          [
           "CB FINANCIAL SERVICES, INC.",
           "State Commercial Banks (commercial banking)"
          ],
          [
           "ENTERPRISE FINANCIAL SERVICES CORP",
           "State Commercial Banks (commercial banking)"
          ],
          [
           "AUBURN NATIONAL BANCORPORATION, INC",
           "State Commercial Banks (commercial banking)"
          ],
          [
           "FIRST KEYSTONE CORP",
           "State Commercial Banks (commercial banking)"
          ],
          [
           "TEXAS CAPITAL BANCSHARES INC/TX",
           "State Commercial Banks (commercial banking)"
          ],
          [
           "VILLAGE BANK & TRUST FINANCIAL CORP.",
           "State Commercial Banks (commercial banking)"
          ],
          [
           "STOCK YARDS BANCORP, INC.",
           "State Commercial Banks (commercial banking)"
          ],
          [
           "BUSINESS FIRST BANCSHARES, INC.",
           "State Commercial Banks (commercial banking)"
          ]
         ],
         "hovertemplate": "color=State Commercial Banks (commercial banking)<br>0=%{x}<br>1=%{y}<br>name=%{customdata[0]}<br>industry=%{customdata[1]}<extra></extra>",
         "legendgroup": "State Commercial Banks (commercial banking)",
         "marker": {
          "color": "#FFA15A",
          "symbol": "circle"
         },
         "mode": "markers",
         "name": "State Commercial Banks (commercial banking)",
         "orientation": "v",
         "showlegend": true,
         "type": "scatter",
         "x": [
          0.567478182459492,
          0.5085795057788681,
          0.41912852828294717,
          0.6333840493649935,
          0.5778981679766647,
          0.6219978366871133,
          0.5693434534891734,
          0.3089058802570243,
          0.5261838768596041,
          0.5193351211415866,
          0.5193351211415866,
          0.012632032687585022,
          0.623250600233062,
          0.61069436877603,
          0.5709179846601178,
          0.536473771123437,
          0.4861403413860935,
          0.6119849784325342,
          0.5732983061357179,
          0.5672701655625386,
          0.5772384858220803,
          0.5772384858220803,
          0.5461570261631821,
          0.6275374953850803,
          0.529101350850026,
          0.6224765962895318,
          0.2806686572577031,
          0.6145907604453894,
          0.585827114337032,
          0.5927514323367349,
          0.4787871705950628,
          0.6136609328166991,
          0.5156144643073088,
          0.5857670600613507,
          0.5518097365083362,
          0.6146016702153595,
          0.61320038820646,
          0.6070849121219727,
          0.5339653309659926,
          0.3641658998731677,
          0.45516735815301224,
          0.0700649621399506,
          0.6322261010581555,
          0.5645376444609917,
          0.5510286313387085,
          0.09619417116352977,
          0.5105386928483565,
          0.572205796037685,
          0.5977204376340974,
          0.6284233309097402,
          0.6143224963754604,
          0.5387180540865265,
          0.5742632625443366,
          0.4984540202680545,
          0.5600712235044609,
          0.5857116496738975,
          0.5937949636522905,
          0.46183812357092235,
          0.5947910864922654,
          0.5947910864922654,
          0.556612090914092,
          0.5986764071494728,
          0.6505695299979289,
          0.6039222172225561,
          0.5676033032362884,
          0.6322831373878686,
          0.5160752052377313,
          0.5721188043011304,
          0.559720921983669,
          0.26854983828324896,
          0.5866682354108206,
          0.5629385953351934,
          0.6220402661980299,
          0.5763584745680886,
          0.4592284512159552,
          0.5882745074838805,
          0.605647584592934,
          0.5344945391213155,
          0.4775423682931669,
          -0.014283445875352047,
          0.5416425221316854,
          0.5824621868210845,
          0.5926427127571106,
          0.4037259843925443,
          0.5988682966272306,
          0.6193209483129118,
          0.6193209483129118,
          0.6126640225960697,
          0.00873249891264023,
          0.5360106524111804,
          0.21978862940529786,
          0.5219975193658319,
          0.6422150254023907,
          0.5919811968388359,
          0.5937815901811705,
          0.5718041881988076,
          0.46709817804458964,
          0.5593720777721468,
          0.5885106566691062,
          0.5909456483019755,
          0.5720047798339088,
          0.4511263787558062,
          0.6308158096848526,
          0.5901177252252037,
          0.5280323894583716,
          0.5313234503428249,
          0.20250211046838254,
          0.5759753484968924,
          0.3955455290254846,
          0.07691154042777253,
          0.6168180713041156,
          0.5214460938377011,
          0.5670267863176943,
          0.6092776707773552,
          0.4931646085967025,
          0.6592038188270383
         ],
         "xaxis": "x",
         "y": [
          0.45071951723531145,
          0.3087113369247196,
          0.06359153657889999,
          0.5073753494600107,
          0.41510903945374844,
          0.5335225360501605,
          0.47669407780362344,
          0.09944273996833561,
          0.3553663397022543,
          0.4644042816640708,
          0.4644042816640708,
          -0.09894980148063603,
          0.4944624423848947,
          0.4466209599018134,
          0.4097789688200874,
          0.44424701143867956,
          0.2429684810286649,
          0.5057228187045962,
          0.4047930705797074,
          0.4342553411405171,
          0.4107866950500756,
          0.4107866950500756,
          0.4525800671943892,
          0.40578345993029946,
          0.21373930715277237,
          0.5010072332176109,
          0.0077030829888489255,
          0.41998890778748094,
          0.5100358221930306,
          0.49808444670440555,
          0.3994202779018372,
          0.4428088754041901,
          0.2945221113374277,
          0.49539135565630943,
          0.42140319675193155,
          0.4991025143077027,
          0.47553157712762073,
          0.3998011499305185,
          0.2831508728414722,
          0.24136959009612882,
          0.13883499758361237,
          -0.07345605595903283,
          0.4642878950211911,
          0.3894185516292256,
          0.4060733318745993,
          -0.03479002648237053,
          0.30463057120948167,
          0.48804822748391335,
          0.4977268202299333,
          0.4732444344596276,
          0.5171875833202675,
          0.4267315827218904,
          0.5006515416068362,
          0.3725265425697876,
          0.49008150336300116,
          0.3948710519562041,
          0.4099081755811948,
          0.2988303860147158,
          0.4965172189232106,
          0.4965172189232106,
          0.40470455362519436,
          0.5049330946909465,
          0.47340602509427127,
          0.35249419267596976,
          0.4962625051794354,
          0.5189477443347352,
          0.1877921575228038,
          0.4864426663751774,
          0.4237552832833733,
          -0.04839506511828017,
          0.4873995186523489,
          0.44382296283400496,
          0.503788785931329,
          0.4690975262877894,
          0.27509209959881636,
          0.49453969287059807,
          0.5108236729240097,
          0.43504146411963057,
          0.21125338366390845,
          -0.047246922169259735,
          0.4725238094685518,
          0.4152136868093492,
          0.48514401960244496,
          0.09531898570815434,
          0.3978211690687533,
          0.4596629609082196,
          0.4596629609082196,
          0.4854411416562519,
          -0.0490628704156047,
          0.4422841929037448,
          0.11650918717024654,
          0.26639352534130917,
          0.48572831147679335,
          0.4779153539577353,
          0.361798875278446,
          0.3647923841898211,
          0.14847237732144747,
          0.4682950612819822,
          0.40123227375593074,
          0.49673672385657586,
          0.45540092554617967,
          0.19198488850943715,
          0.4650308258368939,
          0.49224597372834966,
          0.2938262468024271,
          0.41929522154905324,
          0.124667664408355,
          0.44804373464295744,
          0.08820141803450672,
          -0.0312968091248865,
          0.5260692869203895,
          0.4281986980621192,
          0.47733605369735344,
          0.48601679781462215,
          0.4086776029915572,
          0.4870147514226131
         ],
         "yaxis": "y"
        }
       ],
       "layout": {
        "height": 700,
        "legend": {
         "orientation": "h",
         "title": {
          "text": "color"
         },
         "tracegroupgap": 0,
         "x": 0.5,
         "xanchor": "center",
         "y": -0.25,
         "yanchor": "bottom"
        },
        "margin": {
         "t": 60
        },
        "template": {
         "data": {
          "bar": [
           {
            "error_x": {
             "color": "#2a3f5f"
            },
            "error_y": {
             "color": "#2a3f5f"
            },
            "marker": {
             "line": {
              "color": "#E5ECF6",
              "width": 0.5
             },
             "pattern": {
              "fillmode": "overlay",
              "size": 10,
              "solidity": 0.2
             }
            },
            "type": "bar"
           }
          ],
          "barpolar": [
           {
            "marker": {
             "line": {
              "color": "#E5ECF6",
              "width": 0.5
             },
             "pattern": {
              "fillmode": "overlay",
              "size": 10,
              "solidity": 0.2
             }
            },
            "type": "barpolar"
           }
          ],
          "carpet": [
           {
            "aaxis": {
             "endlinecolor": "#2a3f5f",
             "gridcolor": "white",
             "linecolor": "white",
             "minorgridcolor": "white",
             "startlinecolor": "#2a3f5f"
            },
            "baxis": {
             "endlinecolor": "#2a3f5f",
             "gridcolor": "white",
             "linecolor": "white",
             "minorgridcolor": "white",
             "startlinecolor": "#2a3f5f"
            },
            "type": "carpet"
           }
          ],
          "choropleth": [
           {
            "colorbar": {
             "outlinewidth": 0,
             "ticks": ""
            },
            "type": "choropleth"
           }
          ],
          "contour": [
           {
            "colorbar": {
             "outlinewidth": 0,
             "ticks": ""
            },
            "colorscale": [
             [
              0,
              "#0d0887"
             ],
             [
              0.1111111111111111,
              "#46039f"
             ],
             [
              0.2222222222222222,
              "#7201a8"
             ],
             [
              0.3333333333333333,
              "#9c179e"
             ],
             [
              0.4444444444444444,
              "#bd3786"
             ],
             [
              0.5555555555555556,
              "#d8576b"
             ],
             [
              0.6666666666666666,
              "#ed7953"
             ],
             [
              0.7777777777777778,
              "#fb9f3a"
             ],
             [
              0.8888888888888888,
              "#fdca26"
             ],
             [
              1,
              "#f0f921"
             ]
            ],
            "type": "contour"
           }
          ],
          "contourcarpet": [
           {
            "colorbar": {
             "outlinewidth": 0,
             "ticks": ""
            },
            "type": "contourcarpet"
           }
          ],
          "heatmap": [
           {
            "colorbar": {
             "outlinewidth": 0,
             "ticks": ""
            },
            "colorscale": [
             [
              0,
              "#0d0887"
             ],
             [
              0.1111111111111111,
              "#46039f"
             ],
             [
              0.2222222222222222,
              "#7201a8"
             ],
             [
              0.3333333333333333,
              "#9c179e"
             ],
             [
              0.4444444444444444,
              "#bd3786"
             ],
             [
              0.5555555555555556,
              "#d8576b"
             ],
             [
              0.6666666666666666,
              "#ed7953"
             ],
             [
              0.7777777777777778,
              "#fb9f3a"
             ],
             [
              0.8888888888888888,
              "#fdca26"
             ],
             [
              1,
              "#f0f921"
             ]
            ],
            "type": "heatmap"
           }
          ],
          "heatmapgl": [
           {
            "colorbar": {
             "outlinewidth": 0,
             "ticks": ""
            },
            "colorscale": [
             [
              0,
              "#0d0887"
             ],
             [
              0.1111111111111111,
              "#46039f"
             ],
             [
              0.2222222222222222,
              "#7201a8"
             ],
             [
              0.3333333333333333,
              "#9c179e"
             ],
             [
              0.4444444444444444,
              "#bd3786"
             ],
             [
              0.5555555555555556,
              "#d8576b"
             ],
             [
              0.6666666666666666,
              "#ed7953"
             ],
             [
              0.7777777777777778,
              "#fb9f3a"
             ],
             [
              0.8888888888888888,
              "#fdca26"
             ],
             [
              1,
              "#f0f921"
             ]
            ],
            "type": "heatmapgl"
           }
          ],
          "histogram": [
           {
            "marker": {
             "pattern": {
              "fillmode": "overlay",
              "size": 10,
              "solidity": 0.2
             }
            },
            "type": "histogram"
           }
          ],
          "histogram2d": [
           {
            "colorbar": {
             "outlinewidth": 0,
             "ticks": ""
            },
            "colorscale": [
             [
              0,
              "#0d0887"
             ],
             [
              0.1111111111111111,
              "#46039f"
             ],
             [
              0.2222222222222222,
              "#7201a8"
             ],
             [
              0.3333333333333333,
              "#9c179e"
             ],
             [
              0.4444444444444444,
              "#bd3786"
             ],
             [
              0.5555555555555556,
              "#d8576b"
             ],
             [
              0.6666666666666666,
              "#ed7953"
             ],
             [
              0.7777777777777778,
              "#fb9f3a"
             ],
             [
              0.8888888888888888,
              "#fdca26"
             ],
             [
              1,
              "#f0f921"
             ]
            ],
            "type": "histogram2d"
           }
          ],
          "histogram2dcontour": [
           {
            "colorbar": {
             "outlinewidth": 0,
             "ticks": ""
            },
            "colorscale": [
             [
              0,
              "#0d0887"
             ],
             [
              0.1111111111111111,
              "#46039f"
             ],
             [
              0.2222222222222222,
              "#7201a8"
             ],
             [
              0.3333333333333333,
              "#9c179e"
             ],
             [
              0.4444444444444444,
              "#bd3786"
             ],
             [
              0.5555555555555556,
              "#d8576b"
             ],
             [
              0.6666666666666666,
              "#ed7953"
             ],
             [
              0.7777777777777778,
              "#fb9f3a"
             ],
             [
              0.8888888888888888,
              "#fdca26"
             ],
             [
              1,
              "#f0f921"
             ]
            ],
            "type": "histogram2dcontour"
           }
          ],
          "mesh3d": [
           {
            "colorbar": {
             "outlinewidth": 0,
             "ticks": ""
            },
            "type": "mesh3d"
           }
          ],
          "parcoords": [
           {
            "line": {
             "colorbar": {
              "outlinewidth": 0,
              "ticks": ""
             }
            },
            "type": "parcoords"
           }
          ],
          "pie": [
           {
            "automargin": true,
            "type": "pie"
           }
          ],
          "scatter": [
           {
            "fillpattern": {
             "fillmode": "overlay",
             "size": 10,
             "solidity": 0.2
            },
            "type": "scatter"
           }
          ],
          "scatter3d": [
           {
            "line": {
             "colorbar": {
              "outlinewidth": 0,
              "ticks": ""
             }
            },
            "marker": {
             "colorbar": {
              "outlinewidth": 0,
              "ticks": ""
             }
            },
            "type": "scatter3d"
           }
          ],
          "scattercarpet": [
           {
            "marker": {
             "colorbar": {
              "outlinewidth": 0,
              "ticks": ""
             }
            },
            "type": "scattercarpet"
           }
          ],
          "scattergeo": [
           {
            "marker": {
             "colorbar": {
              "outlinewidth": 0,
              "ticks": ""
             }
            },
            "type": "scattergeo"
           }
          ],
          "scattergl": [
           {
            "marker": {
             "colorbar": {
              "outlinewidth": 0,
              "ticks": ""
             }
            },
            "type": "scattergl"
           }
          ],
          "scattermapbox": [
           {
            "marker": {
             "colorbar": {
              "outlinewidth": 0,
              "ticks": ""
             }
            },
            "type": "scattermapbox"
           }
          ],
          "scatterpolar": [
           {
            "marker": {
             "colorbar": {
              "outlinewidth": 0,
              "ticks": ""
             }
            },
            "type": "scatterpolar"
           }
          ],
          "scatterpolargl": [
           {
            "marker": {
             "colorbar": {
              "outlinewidth": 0,
              "ticks": ""
             }
            },
            "type": "scatterpolargl"
           }
          ],
          "scatterternary": [
           {
            "marker": {
             "colorbar": {
              "outlinewidth": 0,
              "ticks": ""
             }
            },
            "type": "scatterternary"
           }
          ],
          "surface": [
           {
            "colorbar": {
             "outlinewidth": 0,
             "ticks": ""
            },
            "colorscale": [
             [
              0,
              "#0d0887"
             ],
             [
              0.1111111111111111,
              "#46039f"
             ],
             [
              0.2222222222222222,
              "#7201a8"
             ],
             [
              0.3333333333333333,
              "#9c179e"
             ],
             [
              0.4444444444444444,
              "#bd3786"
             ],
             [
              0.5555555555555556,
              "#d8576b"
             ],
             [
              0.6666666666666666,
              "#ed7953"
             ],
             [
              0.7777777777777778,
              "#fb9f3a"
             ],
             [
              0.8888888888888888,
              "#fdca26"
             ],
             [
              1,
              "#f0f921"
             ]
            ],
            "type": "surface"
           }
          ],
          "table": [
           {
            "cells": {
             "fill": {
              "color": "#EBF0F8"
             },
             "line": {
              "color": "white"
             }
            },
            "header": {
             "fill": {
              "color": "#C8D4E3"
             },
             "line": {
              "color": "white"
             }
            },
            "type": "table"
           }
          ]
         },
         "layout": {
          "annotationdefaults": {
           "arrowcolor": "#2a3f5f",
           "arrowhead": 0,
           "arrowwidth": 1
          },
          "autotypenumbers": "strict",
          "coloraxis": {
           "colorbar": {
            "outlinewidth": 0,
            "ticks": ""
           }
          },
          "colorscale": {
           "diverging": [
            [
             0,
             "#8e0152"
            ],
            [
             0.1,
             "#c51b7d"
            ],
            [
             0.2,
             "#de77ae"
            ],
            [
             0.3,
             "#f1b6da"
            ],
            [
             0.4,
             "#fde0ef"
            ],
            [
             0.5,
             "#f7f7f7"
            ],
            [
             0.6,
             "#e6f5d0"
            ],
            [
             0.7,
             "#b8e186"
            ],
            [
             0.8,
             "#7fbc41"
            ],
            [
             0.9,
             "#4d9221"
            ],
            [
             1,
             "#276419"
            ]
           ],
           "sequential": [
            [
             0,
             "#0d0887"
            ],
            [
             0.1111111111111111,
             "#46039f"
            ],
            [
             0.2222222222222222,
             "#7201a8"
            ],
            [
             0.3333333333333333,
             "#9c179e"
            ],
            [
             0.4444444444444444,
             "#bd3786"
            ],
            [
             0.5555555555555556,
             "#d8576b"
            ],
            [
             0.6666666666666666,
             "#ed7953"
            ],
            [
             0.7777777777777778,
             "#fb9f3a"
            ],
            [
             0.8888888888888888,
             "#fdca26"
            ],
            [
             1,
             "#f0f921"
            ]
           ],
           "sequentialminus": [
            [
             0,
             "#0d0887"
            ],
            [
             0.1111111111111111,
             "#46039f"
            ],
            [
             0.2222222222222222,
             "#7201a8"
            ],
            [
             0.3333333333333333,
             "#9c179e"
            ],
            [
             0.4444444444444444,
             "#bd3786"
            ],
            [
             0.5555555555555556,
             "#d8576b"
            ],
            [
             0.6666666666666666,
             "#ed7953"
            ],
            [
             0.7777777777777778,
             "#fb9f3a"
            ],
            [
             0.8888888888888888,
             "#fdca26"
            ],
            [
             1,
             "#f0f921"
            ]
           ]
          },
          "colorway": [
           "#636efa",
           "#EF553B",
           "#00cc96",
           "#ab63fa",
           "#FFA15A",
           "#19d3f3",
           "#FF6692",
           "#B6E880",
           "#FF97FF",
           "#FECB52"
          ],
          "font": {
           "color": "#2a3f5f"
          },
          "geo": {
           "bgcolor": "white",
           "lakecolor": "white",
           "landcolor": "#E5ECF6",
           "showlakes": true,
           "showland": true,
           "subunitcolor": "white"
          },
          "hoverlabel": {
           "align": "left"
          },
          "hovermode": "closest",
          "mapbox": {
           "style": "light"
          },
          "paper_bgcolor": "white",
          "plot_bgcolor": "#E5ECF6",
          "polar": {
           "angularaxis": {
            "gridcolor": "white",
            "linecolor": "white",
            "ticks": ""
           },
           "bgcolor": "#E5ECF6",
           "radialaxis": {
            "gridcolor": "white",
            "linecolor": "white",
            "ticks": ""
           }
          },
          "scene": {
           "xaxis": {
            "backgroundcolor": "#E5ECF6",
            "gridcolor": "white",
            "gridwidth": 2,
            "linecolor": "white",
            "showbackground": true,
            "ticks": "",
            "zerolinecolor": "white"
           },
           "yaxis": {
            "backgroundcolor": "#E5ECF6",
            "gridcolor": "white",
            "gridwidth": 2,
            "linecolor": "white",
            "showbackground": true,
            "ticks": "",
            "zerolinecolor": "white"
           },
           "zaxis": {
            "backgroundcolor": "#E5ECF6",
            "gridcolor": "white",
            "gridwidth": 2,
            "linecolor": "white",
            "showbackground": true,
            "ticks": "",
            "zerolinecolor": "white"
           }
          },
          "shapedefaults": {
           "line": {
            "color": "#2a3f5f"
           }
          },
          "ternary": {
           "aaxis": {
            "gridcolor": "white",
            "linecolor": "white",
            "ticks": ""
           },
           "baxis": {
            "gridcolor": "white",
            "linecolor": "white",
            "ticks": ""
           },
           "bgcolor": "#E5ECF6",
           "caxis": {
            "gridcolor": "white",
            "linecolor": "white",
            "ticks": ""
           }
          },
          "title": {
           "x": 0.05
          },
          "xaxis": {
           "automargin": true,
           "gridcolor": "white",
           "linecolor": "white",
           "ticks": "",
           "title": {
            "standoff": 15
           },
           "zerolinecolor": "white",
           "zerolinewidth": 2
          },
          "yaxis": {
           "automargin": true,
           "gridcolor": "white",
           "linecolor": "white",
           "ticks": "",
           "title": {
            "standoff": 15
           },
           "zerolinecolor": "white",
           "zerolinewidth": 2
          }
         }
        },
        "width": 1100,
        "xaxis": {
         "anchor": "y",
         "autorange": true,
         "domain": [
          0,
          1
         ],
         "range": [
          -0.704209979653062,
          0.7370146147481685
         ],
         "title": {
          "text": "0"
         },
         "type": "linear"
        },
        "yaxis": {
         "anchor": "x",
         "autorange": true,
         "domain": [
          0,
          1
         ],
         "range": [
          -0.4734747125483969,
          0.5949235095724439
         ],
         "title": {
          "text": "1"
         },
         "type": "linear"
        }
       }
      },
      "image/png": "[encoded data removed]",
      "text/html": [
       "<div>                            <div id=\"92f96097-5685-42d9-85f5-f7a36247622e\" class=\"plotly-graph-div\" style=\"height:700px; width:1100px;\"></div>            <script type=\"text/javascript\">                require([\"plotly\"], function(Plotly) {                    window.PLOTLYENV=window.PLOTLYENV || {};                                    if (document.getElementById(\"92f96097-5685-42d9-85f5-f7a36247622e\")) {                    Plotly.newPlot(                        \"92f96097-5685-42d9-85f5-f7a36247622e\",                        [{\"customdata\":[[\"MONGODB, INC.\",\"Prepackaged Software (mass reproduction of software)\"],[\"SALESFORCE COM INC\",\"Prepackaged Software (mass reproduction of software)\"],[\"SPLUNK INC\",\"Prepackaged Software (mass reproduction of software)\"],[\"OKTA, INC.\",\"Prepackaged Software (mass reproduction of software)\"],[\"VEEVA SYSTEMS INC\",\"Prepackaged Software (mass reproduction of software)\"],[\"AUTODESK INC\",\"Prepackaged Software (mass reproduction of software)\"],[\"ETERNAL SPEECH, INC.\",\"Prepackaged Software (mass reproduction of software)\"],[\"ETERNAL SPEECH, INC.\",\"Prepackaged Software (mass reproduction of software)\"],[\"MAJESCO\",\"Prepackaged Software (mass reproduction of software)\"],[\"DUO WORLD INC\",\"Prepackaged Software (mass reproduction of software)\"],[\"COMMVAULT SYSTEMS INC\",\"Prepackaged Software (mass reproduction of software)\"],[\"UPPERSOLUTION.COM\",\"Prepackaged Software (mass reproduction of software)\"],[\"ORACLE CORP\",\"Prepackaged Software (mass reproduction of software)\"],[\"SAVMOBI TECHNOLOGY INC.\",\"Prepackaged Software (mass reproduction of software)\"],[\"ZEDGE, INC.\",\"Prepackaged Software (mass reproduction of software)\"],[\"DESTINY MEDIA TECHNOLOGIES INC\",\"Prepackaged Software (mass reproduction of software)\"],[\"TRAQER CORP\",\"Prepackaged Software (mass reproduction of software)\"],[\"VISIBER57 CORP.\",\"Prepackaged Software (mass reproduction of software)\"],[\"GH CAPITAL INC.\",\"Prepackaged Software (mass reproduction of software)\"],[\"BRIDGELINE DIGITAL, INC.\",\"Prepackaged Software (mass reproduction of software)\"],[\"NUANCE COMMUNICATIONS, INC.\",\"Prepackaged Software (mass reproduction of software)\"],[\"DATAWATCH CORP\",\"Prepackaged Software (mass reproduction of software)\"],[\"POLARITYTE, INC.\",\"Prepackaged Software (mass reproduction of software)\"],[\"POLARITYTE, INC.\",\"Prepackaged Software (mass reproduction of software)\"],[\"VGRAB COMMUNICATIONS INC.\",\"Prepackaged Software (mass reproduction of software)\"],[\"VGRAB COMMUNICATIONS INC.\",\"Prepackaged Software (mass reproduction of software)\"],[\"ADAIAH DISTRIBUTION INC\",\"Prepackaged Software (mass reproduction of software)\"],[\"ADAIAH DISTRIBUTION INC\",\"Prepackaged Software (mass reproduction of software)\"],[\"PROGRESS SOFTWARE CORP /MA\",\"Prepackaged Software (mass reproduction of software)\"],[\"MEDICAL INFORMATION TECHNOLOGY, INC.\",\"Prepackaged Software (mass reproduction of software)\"],[\"SPS COMMERCE INC\",\"Prepackaged Software (mass reproduction of software)\"],[\"ALTERYX, INC.\",\"Prepackaged Software (mass reproduction of software)\"],[\"INTELLIGENT SYSTEMS CORP\",\"Prepackaged Software (mass reproduction of software)\"],[\"ALARM.COM HOLDINGS, INC.\",\"Prepackaged Software (mass reproduction of software)\"],[\"LIGHTNING GAMING, INC.\",\"Prepackaged Software (mass reproduction of software)\"],[\"ENDURANCE INTERNATIONAL GROUP HOLDINGS, INC.\",\"Prepackaged Software (mass reproduction of software)\"],[\"2U, INC.\",\"Prepackaged Software (mass reproduction of software)\"],[\"CISION LTD.\",\"Prepackaged Software (mass reproduction of software)\"],[\"BTCS INC.\",\"Prepackaged Software (mass reproduction of software)\"],[\"BTCS INC.\",\"Prepackaged Software (mass reproduction of software)\"],[\"BTCS INC.\",\"Prepackaged Software (mass reproduction of software)\"],[\"INTELLICHECK, INC.\",\"Prepackaged Software (mass reproduction of software)\"],[\"REALPAGE INC\",\"Prepackaged Software (mass reproduction of software)\"],[\"Q2 HOLDINGS, INC.\",\"Prepackaged Software (mass reproduction of software)\"],[\"MCORPCX, INC.\",\"Prepackaged Software (mass reproduction of software)\"],[\"QUALYS, INC.\",\"Prepackaged Software (mass reproduction of software)\"],[\"MEDICAL TRANSCRIPTION BILLING, CORP\",\"Prepackaged Software (mass reproduction of software)\"],[\"SMITH MICRO SOFTWARE INC\",\"Prepackaged Software (mass reproduction of software)\"],[\"SHOTSPOTTER, INC\",\"Prepackaged Software (mass reproduction of software)\"],[\"LONGWEN GROUP CORP.\",\"Prepackaged Software (mass reproduction of software)\"],[\"ELLIE MAE INC\",\"Prepackaged Software (mass reproduction of software)\"],[\"ROSETTA STONE INC\",\"Prepackaged Software (mass reproduction of software)\"],[\"BLACK KNIGHT, INC.\",\"Prepackaged Software (mass reproduction of software)\"],[\"MICROSTRATEGY INC\",\"Prepackaged Software (mass reproduction of software)\"],[\"EMR TECHNOLOGY SOLUTIONS, INC.\",\"Prepackaged Software (mass reproduction of software)\"],[\"PAYCOM SOFTWARE, INC.\",\"Prepackaged Software (mass reproduction of software)\"],[\"3D SYSTEMS CORP\",\"Prepackaged Software (mass reproduction of software)\"],[\"APPIAN CORP\",\"Prepackaged Software (mass reproduction of software)\"],[\"UPLAND SOFTWARE, INC.\",\"Prepackaged Software (mass reproduction of software)\"],[\"LIVEPERSON INC\",\"Prepackaged Software (mass reproduction of software)\"],[\"AWARE INC /MA/\",\"Prepackaged Software (mass reproduction of software)\"],[\"ULTIMATE SOFTWARE GROUP INC\",\"Prepackaged Software (mass reproduction of software)\"],[\"ANSYS INC\",\"Prepackaged Software (mass reproduction of software)\"],[\"AVID TECHNOLOGY, INC.\",\"Prepackaged Software (mass reproduction of software)\"],[\"NATIONAL INSTRUMENTS CORP\",\"Prepackaged Software (mass reproduction of software)\"],[\"INSPRO TECHNOLOGIES CORP\",\"Prepackaged Software (mass reproduction of software)\"],[\"QUMU CORP\",\"Prepackaged Software (mass reproduction of software)\"],[\"ACI WORLDWIDE, INC.\",\"Prepackaged Software (mass reproduction of software)\"],[\"SQUARE, INC.\",\"Prepackaged Software (mass reproduction of software)\"],[\"ALTAIR ENGINEERING INC.\",\"Prepackaged Software (mass reproduction of software)\"],[\"TALEND SA\",\"Prepackaged Software (mass reproduction of software)\"],[\"APPFOLIO INC\",\"Prepackaged Software (mass reproduction of software)\"],[\"GSE SYSTEMS INC\",\"Prepackaged Software (mass reproduction of software)\"],[\"IPSIDY INC.\",\"Prepackaged Software (mass reproduction of software)\"],[\"INTELLINETICS, INC.\",\"Prepackaged Software (mass reproduction of software)\"],[\"INTELLINETICS, INC.\",\"Prepackaged Software (mass reproduction of software)\"],[\"IIOT-OXYS, INC.\",\"Prepackaged Software (mass reproduction of software)\"],[\"NEWGIOCO GROUP, INC.\",\"Prepackaged Software (mass reproduction of software)\"],[\"WORKIVA INC\",\"Prepackaged Software (mass reproduction of software)\"],[\"TABLEAU SOFTWARE INC\",\"Prepackaged Software (mass reproduction of software)\"]],\"hovertemplate\":\"color=Prepackaged Software (mass reproduction of software)<br>0=%{x}<br>1=%{y}<br>name=%{customdata[0]}<br>industry=%{customdata[1]}<extra></extra>\",\"legendgroup\":\"Prepackaged Software (mass reproduction of software)\",\"marker\":{\"color\":\"#636efa\",\"symbol\":\"circle\"},\"mode\":\"markers\",\"name\":\"Prepackaged Software (mass reproduction of software)\",\"orientation\":\"v\",\"showlegend\":true,\"x\":[-0.08898937978973583,-0.021609908222655582,-0.04842527418529175,-0.08850959442441342,0.006313930805014114,-0.05722920921165006,-0.01332283405420014,-0.01332283405420014,-0.01567430532916401,-0.043156981556178024,-0.06625018851155405,-0.05841227122265393,-0.009891943779325894,-0.00248067744873075,-0.0070232681386471416,-0.08390229001795217,0.047815690814295694,-0.002117309638818209,0.012012383907442924,-0.03371382213705791,-0.04572020029999881,-0.03401106253436104,-0.3420714159495408,-0.3420714159495408,0.04865799521732679,0.04865799521732679,0.03443329937947592,0.03443329937947592,-0.03127621653938834,-0.03641931190554598,-0.0012882190383169784,-0.10411965559919086,0.024665818558234288,-0.03237568839552828,-0.07814868790758547,-0.05453489063712535,-0.018351071688947517,-0.053734478571904554,0.06920153762497437,0.06920153762497437,0.06920153762497437,0.011206670624685161,0.10482441000592677,0.0433983342270207,-0.022676673029796146,-0.07094765284632186,0.003976317607756217,-0.09282992801215731,-0.10170562258516844,0.038081729553083095,0.023998120172777044,-0.03877453067873137,0.21211960221501258,-0.031121271447139175,-0.10323671978731573,-0.04981221899807227,-0.011015207161585766,-0.05034796418928464,-0.025409329399087046,-0.09023224906849238,-0.06440710249337118,-0.01483035598635714,0.0172115269357763,-0.07455515239744097,-0.044455462234885244,0.004165270496661372,-0.054719786304822625,0.0026298452924340163,-0.035399474951563016,-0.08486730201423394,-0.08000825033530412,0.10366818638015247,0.04123147707525165,-0.04730750918480071,0.03031506063791246,0.03031506063791246,-0.09210886271725337,-0.02682404017281219,-0.032670771760166556,-0.11655779014520859],\"xaxis\":\"x\",\"y\":[-0.10697408397108636,-0.1206719909088437,-0.11716038023743035,-0.09540365921128442,-0.18125409548157462,-0.07497790042065222,-0.06586281136228178,-0.06586281136228178,-0.17099483345844035,-0.1186855502319227,-0.07042301432058995,-0.1230392311571063,-0.0983293666881709,-0.14514030888364066,-0.06439515134340995,-0.06640364913986944,-0.06334028908349647,-0.0974052694942266,-0.08287461709442735,-0.1257943816670925,-0.08894379881133767,-0.09336839229749504,0.1413139744293012,0.1413139744293012,-0.08739322212850756,-0.08739322212850756,-0.16953535848050272,-0.16953535848050272,-0.13295702681119034,-0.0831269572478726,-0.12659335193735446,-0.07730605123896739,-0.1400047999896817,-0.06186758857598563,-0.04758158649158303,-0.14844535300931988,-0.10032744769035729,-0.10444187992592506,-0.09463441799961393,-0.09463441799961393,-0.09463441799961393,-0.06828140402375059,-0.2584833561433083,-0.010320017877231092,-0.17668208832715301,-0.09332526143869194,-0.14488703499896088,-0.06348430557160015,-0.11040695036303869,-0.15123835802949498,-0.08885297625966497,-0.1258969145125537,-0.11804360681746115,-0.12107701758637213,-0.016428557579427135,-0.141469218120297,-0.0705701433506633,-0.08670471663826398,-0.13635893117276593,-0.07650531662495764,-0.0491498999279785,-0.10579372543048084,-0.08933987040358958,-0.08160274812616608,-0.11650962434258332,-0.11393494834843379,-0.13593976502957375,-0.033474946327393756,-0.052807189467307,-0.07327665441175264,-0.0926145377304991,-0.267843540612688,-0.17736972891867572,-0.05575362901535134,-0.10221769340245107,-0.10221769340245107,-0.06890295184400752,-0.11798829941635476,-0.05703883326071302,-0.07783727843412952],\"yaxis\":\"y\",\"type\":\"scatter\"},{\"customdata\":[[\"INTERNATIONAL WESTERN PETROLEUM, INC.\",\"Crude Petroleum and Natural Gas\"],[\"DAYBREAK OIL & GAS, INC.\",\"Crude Petroleum and Natural Gas\"],[\"GB SCIENCES INC\",\"Crude Petroleum and Natural Gas\"],[\"FREEDOM HOLDING CORP.\",\"Crude Petroleum and Natural Gas\"],[\"MEXCO ENERGY CORP\",\"Crude Petroleum and Natural Gas\"],[\"SUSTAINABLE PROJECTS GROUP INC.\",\"Crude Petroleum and Natural Gas\"],[\"AMERICAN ENERGY GROUP LTD\",\"Crude Petroleum and Natural Gas\"],[\"REDHAWK HOLDINGS CORP.\",\"Crude Petroleum and Natural Gas\"],[\"TIANCI INTERNATIONAL, INC.\",\"Crude Petroleum and Natural Gas\"],[\"AMAZING ENERGY OIL & GAS, CO.\",\"Crude Petroleum and Natural Gas\"],[\"ALTEX INDUSTRIES INC\",\"Crude Petroleum and Natural Gas\"],[\"BARNWELL INDUSTRIES INC\",\"Crude Petroleum and Natural Gas\"],[\"PANHANDLE OIL & GAS INC\",\"Crude Petroleum and Natural Gas\"],[\"ENERGY 11, L.P.\",\"Crude Petroleum and Natural Gas\"],[\"ABRAXAS PETROLEUM CORP\",\"Crude Petroleum and Natural Gas\"],[\"SEARS OIL & GAS\",\"Crude Petroleum and Natural Gas\"],[\"APACHE CORP\",\"Crude Petroleum and Natural Gas\"],[\"GULFPORT ENERGY CORP\",\"Crude Petroleum and Natural Gas\"],[\"CONTINENTAL RESOURCES, INC\",\"Crude Petroleum and Natural Gas\"],[\"ISRAMCO INC\",\"Crude Petroleum and Natural Gas\"],[\"CHAPARRAL ENERGY, INC.\",\"Crude Petroleum and Natural Gas\"],[\"WHITING PETROLEUM CORP\",\"Crude Petroleum and Natural Gas\"],[\"CONTANGO OIL & GAS CO\",\"Crude Petroleum and Natural Gas\"],[\"EARTHSTONE ENERGY INC\",\"Crude Petroleum and Natural Gas\"],[\"CLEAN COAL TECHNOLOGIES INC.\",\"Crude Petroleum and Natural Gas\"],[\"NORTHERN OIL & GAS, INC.\",\"Crude Petroleum and Natural Gas\"],[\"SRC ENERGY INC.\",\"Crude Petroleum and Natural Gas\"],[\"JONES ENERGY, INC.\",\"Crude Petroleum and Natural Gas\"],[\"GOODRICH PETROLEUM CORP\",\"Crude Petroleum and Natural Gas\"],[\"OCCIDENTAL PETROLEUM CORP /DE/\",\"Crude Petroleum and Natural Gas\"],[\"LONESTAR RESOURCES US INC.\",\"Crude Petroleum and Natural Gas\"],[\"NOBLE ENERGY INC\",\"Crude Petroleum and Natural Gas\"],[\"PIONEER NATURAL RESOURCES CO\",\"Crude Petroleum and Natural Gas\"],[\"BONANZA CREEK ENERGY, INC.\",\"Crude Petroleum and Natural Gas\"],[\"DEVON ENERGY CORP/DE\",\"Crude Petroleum and Natural Gas\"],[\"CALIFORNIA RESOURCES CORP\",\"Crude Petroleum and Natural Gas\"],[\"PARK PLACE ENERGY INC.\",\"Crude Petroleum and Natural Gas\"],[\"ANTERO RESOURCES CORP\",\"Crude Petroleum and Natural Gas\"],[\"LAREDO PETROLEUM, INC.\",\"Crude Petroleum and Natural Gas\"],[\"CIMAREX ENERGY CO\",\"Crude Petroleum and Natural Gas\"],[\"ALTA MESA HOLDINGS, LP\",\"Crude Petroleum and Natural Gas\"],[\"US ENERGY CORP\",\"Crude Petroleum and Natural Gas\"],[\"VICTORY ENERGY CORP\",\"Crude Petroleum and Natural Gas\"],[\"VICTORY ENERGY CORP\",\"Crude Petroleum and Natural Gas\"],[\"GRAN TIERRA ENERGY INC.\",\"Crude Petroleum and Natural Gas\"],[\"MIDSTATES PETROLEUM COMPANY, INC.\",\"Crude Petroleum and Natural Gas\"],[\"WILDHORSE RESOURCE DEVELOPMENT CORP\",\"Crude Petroleum and Natural Gas\"],[\"SM ENERGY CO\",\"Crude Petroleum and Natural Gas\"],[\"SANDRIDGE ENERGY INC\",\"Crude Petroleum and Natural Gas\"],[\"RING ENERGY, INC.\",\"Crude Petroleum and Natural Gas\"],[\"SANCHEZ ENERGY CORP\",\"Crude Petroleum and Natural Gas\"],[\"TETRA TECHNOLOGIES INC\",\"Crude Petroleum and Natural Gas\"],[\"RESERVE PETROLEUM CO\",\"Crude Petroleum and Natural Gas\"],[\"HESS MIDSTREAM PARTNERS LP\",\"Crude Petroleum and Natural Gas\"],[\"TORCHLIGHT ENERGY RESOURCES INC\",\"Crude Petroleum and Natural Gas\"],[\"LINN ENERGY, INC.\",\"Crude Petroleum and Natural Gas\"],[\"KOSMOS ENERGY LTD.\",\"Crude Petroleum and Natural Gas\"],[\"SILVERBOW RESOURCES, INC.\",\"Crude Petroleum and Natural Gas\"],[\"TELLURIAN INC. /DE/\",\"Crude Petroleum and Natural Gas\"],[\"DORCHESTER MINERALS, L.P.\",\"Crude Petroleum and Natural Gas\"],[\"MATADOR RESOURCES CO\",\"Crude Petroleum and Natural Gas\"],[\"PDC ENERGY, INC.\",\"Crude Petroleum and Natural Gas\"],[\"TEXAS SOUTH ENERGY, INC.\",\"Crude Petroleum and Natural Gas\"],[\"PEDEVCO CORP\",\"Crude Petroleum and Natural Gas\"],[\"VIPER ENERGY PARTNERS LP\",\"Crude Petroleum and Natural Gas\"],[\"ENERJEX RESOURCES, INC.\",\"Crude Petroleum and Natural Gas\"],[\"TENGASCO INC\",\"Crude Petroleum and Natural Gas\"],[\"KIMBELL ROYALTY PARTNERS, LP\",\"Crude Petroleum and Natural Gas\"],[\"CONCHO RESOURCES INC\",\"Crude Petroleum and Natural Gas\"],[\"APACHE OFFSHORE INVESTMENT PARTNERSHIP\",\"Crude Petroleum and Natural Gas\"],[\"EVERFLOW EASTERN PARTNERS LP\",\"Crude Petroleum and Natural Gas\"],[\"CHESAPEAKE ENERGY CORP\",\"Crude Petroleum and Natural Gas\"],[\"CARRIZO OIL & GAS INC\",\"Crude Petroleum and Natural Gas\"],[\"CALLON PETROLEUM CO\",\"Crude Petroleum and Natural Gas\"],[\"PENN VIRGINIA CORP\",\"Crude Petroleum and Natural Gas\"],[\"DIAMONDBACK ENERGY, INC.\",\"Crude Petroleum and Natural Gas\"],[\"COMSTOCK RESOURCES INC\",\"Crude Petroleum and Natural Gas\"],[\"DALA PETROLEUM CORP.\",\"Crude Petroleum and Natural Gas\"],[\"WPX ENERGY, INC.\",\"Crude Petroleum and Natural Gas\"],[\"LILIS ENERGY, INC.\",\"Crude Petroleum and Natural Gas\"]],\"hovertemplate\":\"color=Crude Petroleum and Natural Gas<br>0=%{x}<br>1=%{y}<br>name=%{customdata[0]}<br>industry=%{customdata[1]}<extra></extra>\",\"legendgroup\":\"Crude Petroleum and Natural Gas\",\"marker\":{\"color\":\"#EF553B\",\"symbol\":\"circle\"},\"mode\":\"markers\",\"name\":\"Crude Petroleum and Natural Gas\",\"orientation\":\"v\",\"showlegend\":true,\"x\":[-0.009021144718053629,-0.013546412726446523,-0.2496763402579444,0.09788243613840922,-0.0031122515567360205,0.0034266032352562757,0.040437792164216724,0.011748670908117305,0.019131209069991537,-0.01512397433157834,0.025445740218285447,-0.008826422771685688,-0.01124153175887439,-0.01324684889603788,-0.004223236808979259,-0.01441664365539503,-0.005633236525131909,-0.01437807617920665,-0.011195578161203774,-0.014619002211161799,0.0034176722894019187,-0.005647614228947529,-0.014283445875352047,-0.001690698744375399,-0.13655428723727026,-0.011288326469775938,-0.01221319760427733,-0.0031029869295303592,0.0012035376958503428,-0.008729376218300168,-0.011498109541779754,0.029837148560608172,0.0011156772775832125,-0.008245616105894728,0.008738816476281826,0.03978278484570391,-0.03979370696701265,0.009851167256240708,-0.0021997282484566725,0.007737970490937337,-0.004188890090656205,-0.0072897137530609285,-0.011810672618118792,-0.011810672618118792,-0.00720991684718849,-0.003173679753282972,-0.0029891314168475386,-0.0034050362866890577,-0.012834248417464458,-0.013876176137091268,-0.011594633476482638,-0.03205645664440672,0.0048996939223669,0.011567645995574827,-0.02559475492617153,0.0016887658398788408,-0.0029192858666650025,-0.008803990672323111,-0.009870832223279231,-0.004146247081563428,-0.009844578159105413,0.007773211105305017,0.0009587262600703238,-0.004460117232320842,-0.0012751780141952353,-0.07671438586820145,0.012924677032693685,-0.012681532878072466,-0.00667885429212187,0.01535511776516932,-0.005768676913859351,-0.0026135407788130402,-0.0025087608634724824,0.006898341653507647,-0.009809779507736958,0.0011176443064404402,-0.0058824405513115035,0.02433831240164245,-0.0029335147414073473,-0.0009419875601947078],\"xaxis\":\"x\",\"y\":[-0.3554288591218365,-0.24759243369933512,0.06597001708626875,0.011670096727697284,-0.3106990746297928,-0.12787572770221814,-0.0847074467197965,-0.12526502959389735,-0.1655251360346301,-0.3499119419620213,-0.12842132823948246,-0.3353996478139063,-0.33032099575524837,-0.3450330785920991,-0.21541234234653664,-0.1463307665647912,-0.3256140945804887,-0.34198105848711163,-0.29174642613894614,-0.35374691906255523,-0.3745691545166586,-0.3212166151529883,-0.047246922169259735,-0.30342121419123574,-0.0713909869855988,-0.35595569229260904,-0.3494068641798173,-0.34792718417851376,-0.36980005584410625,-0.34045703639052477,-0.3197394952016708,-0.32093354858996564,-0.22216302908953056,-0.3551828639704639,-0.20260498995530385,-0.27247446105173634,-0.3157705257862265,-0.33384101302221325,-0.34888546250385755,-0.24151755215600432,-0.2995282194566997,-0.3492054385004831,-0.27845195977846793,-0.27845195977846793,-0.35385915522500877,-0.35951036432148015,-0.3434024692428871,-0.20440167436621326,-0.3400556620381276,-0.33725711910673906,-0.3348351990802542,-0.24104553515054664,-0.22628746492173843,-0.2558544417054471,-0.20022518339423295,-0.351924096587067,-0.3313408559792742,-0.3407227463304169,-0.3328143891014762,-0.32386510226146303,-0.33348487808896776,-0.2938525636710908,-0.19302067841398665,-0.08178639976997215,-0.3408868938930468,-0.07862529801627838,-0.20642007227886702,-0.3540037711963725,-0.3524850301906813,-0.30571958287846,-0.31649383410675846,-0.3122317467226302,-0.29389209910192055,-0.3505351855348009,-0.2442127196928665,-0.3651248158509365,-0.34635003027243655,-0.1993674220640365,-0.36738822021560374,-0.3520745449627863],\"yaxis\":\"y\",\"type\":\"scatter\"},{\"customdata\":[[\"ULURU INC.\",\"Pharmaceutical Preparations\"],[\"CHINA YCT INTERNATIONAL GROUP, INC.\",\"Pharmaceutical Preparations\"],[\"AXOVANT SCIENCES LTD.\",\"Pharmaceutical Preparations\"],[\"MYOVANT SCIENCES LTD.\",\"Pharmaceutical Preparations\"],[\"PRESTIGE BRANDS HOLDINGS, INC.\",\"Pharmaceutical Preparations\"],[\"HYPGEN INC\",\"Pharmaceutical Preparations\"],[\"HYPGEN INC\",\"Pharmaceutical Preparations\"],[\"DANDRIT BIOTECH USA, INC.\",\"Pharmaceutical Preparations\"],[\"REZOLUTE, INC.\",\"Pharmaceutical Preparations\"],[\"OPTEC INTERNATIONAL, INC.\",\"Pharmaceutical Preparations\"],[\"OPTEC INTERNATIONAL, INC.\",\"Pharmaceutical Preparations\"],[\"BIOVIE INC.\",\"Pharmaceutical Preparations\"],[\"ONCOSEC MEDICAL INC\",\"Pharmaceutical Preparations\"],[\"CANNABICS PHARMACEUTICALS INC.\",\"Pharmaceutical Preparations\"],[\"ORAMED PHARMACEUTICALS INC.\",\"Pharmaceutical Preparations\"],[\"ENTEST BIOMEDICAL, INC.\",\"Pharmaceutical Preparations\"],[\"MY CLOUDZ, INC.\",\"Pharmaceutical Preparations\"],[\"MY CLOUDZ, INC.\",\"Pharmaceutical Preparations\"],[\"ENANTA PHARMACEUTICALS INC\",\"Pharmaceutical Preparations\"],[\"CITIUS PHARMACEUTICALS, INC.\",\"Pharmaceutical Preparations\"],[\"STELLAR BIOTECHNOLOGIES, INC.\",\"Pharmaceutical Preparations\"],[\"REGEN BIOPHARMA INC\",\"Pharmaceutical Preparations\"],[\"REGEN BIOPHARMA INC\",\"Pharmaceutical Preparations\"],[\"ADVAXIS, INC.\",\"Pharmaceutical Preparations\"],[\"ORGENESIS INC.\",\"Pharmaceutical Preparations\"],[\"Q BIOMED INC.\",\"Pharmaceutical Preparations\"],[\"JOHNSON & JOHNSON\",\"Pharmaceutical Preparations\"],[\"BRISTOL MYERS SQUIBB CO\",\"Pharmaceutical Preparations\"],[\"VBI VACCINES INC/BC\",\"Pharmaceutical Preparations\"],[\"INTRA-CELLULAR THERAPIES, INC.\",\"Pharmaceutical Preparations\"],[\"ROCKET PHARMACEUTICALS, INC.\",\"Pharmaceutical Preparations\"],[\"ATLAS HOLDINGS, INC.\",\"Pharmaceutical Preparations\"],[\"NEMUS BIOSCIENCE, INC.\",\"Pharmaceutical Preparations\"],[\"NEMUS BIOSCIENCE, INC.\",\"Pharmaceutical Preparations\"],[\"OVASCIENCE, INC.\",\"Pharmaceutical Preparations\"],[\"CONCERT PHARMACEUTICALS, INC.\",\"Pharmaceutical Preparations\"],[\"AKCEA THERAPEUTICS, INC.\",\"Pharmaceutical Preparations\"],[\"ARQULE INC\",\"Pharmaceutical Preparations\"],[\"AXIM BIOTECHNOLOGIES, INC.\",\"Pharmaceutical Preparations\"],[\"GUARDION HEALTH SCIENCES, INC.\",\"Pharmaceutical Preparations\"],[\"RETROPHIN, INC.\",\"Pharmaceutical Preparations\"],[\"SYNDAX PHARMACEUTICALS INC\",\"Pharmaceutical Preparations\"],[\"FIBROGEN INC\",\"Pharmaceutical Preparations\"],[\"PROTOKINETIX, INC.\",\"Pharmaceutical Preparations\"],[\"PROGENICS PHARMACEUTICALS INC\",\"Pharmaceutical Preparations\"],[\"CHECKPOINT THERAPEUTICS, INC.\",\"Pharmaceutical Preparations\"],[\"PFENEX INC.\",\"Pharmaceutical Preparations\"],[\"PAIN THERAPEUTICS INC\",\"Pharmaceutical Preparations\"],[\"ZOMEDICA PHARMACEUTICALS CORP.\",\"Pharmaceutical Preparations\"],[\"ZOMEDICA PHARMACEUTICALS CORP.\",\"Pharmaceutical Preparations\"],[\"MOLECULAR TEMPLATES, INC.\",\"Pharmaceutical Preparations\"],[\"WAVE LIFE SCIENCES LTD.\",\"Pharmaceutical Preparations\"],[\"CYMABAY THERAPEUTICS, INC.\",\"Pharmaceutical Preparations\"],[\"AMICUS THERAPEUTICS INC\",\"Pharmaceutical Preparations\"],[\"EVOKE PHARMA INC\",\"Pharmaceutical Preparations\"],[\"CHEMBIO DIAGNOSTICS, INC.\",\"Pharmaceutical Preparations\"],[\"CARA THERAPEUTICS, INC.\",\"Pharmaceutical Preparations\"],[\"CYTOMX THERAPEUTICS, INC.\",\"Pharmaceutical Preparations\"],[\"XENCOR INC\",\"Pharmaceutical Preparations\"],[\"CATABASIS PHARMACEUTICALS INC\",\"Pharmaceutical Preparations\"],[\"SERES THERAPEUTICS, INC.\",\"Pharmaceutical Preparations\"],[\"EYEGATE PHARMACEUTICALS INC\",\"Pharmaceutical Preparations\"],[\"ARENA PHARMACEUTICALS INC\",\"Pharmaceutical Preparations\"],[\"ALEXION PHARMACEUTICALS INC\",\"Pharmaceutical Preparations\"],[\"MELINTA THERAPEUTICS, INC. /NEW/\",\"Pharmaceutical Preparations\"],[\"FIVE PRIME THERAPEUTICS INC\",\"Pharmaceutical Preparations\"],[\"LIXTE BIOTECHNOLOGY HOLDINGS, INC.\",\"Pharmaceutical Preparations\"],[\"ARATANA THERAPEUTICS, INC.\",\"Pharmaceutical Preparations\"],[\"CHIASMA, INC\",\"Pharmaceutical Preparations\"],[\"CELGENE CORP /DE/\",\"Pharmaceutical Preparations\"],[\"NEWLINK GENETICS CORP\",\"Pharmaceutical Preparations\"],[\"LIGAND PHARMACEUTICALS INC\",\"Pharmaceutical Preparations\"],[\"PORTOLA PHARMACEUTICALS INC\",\"Pharmaceutical Preparations\"],[\"PLX PHARMA INC.\",\"Pharmaceutical Preparations\"],[\"ARDELYX, INC.\",\"Pharmaceutical Preparations\"],[\"PROTAGONIST THERAPEUTICS, INC\",\"Pharmaceutical Preparations\"],[\"MOLECULIN BIOTECH, INC.\",\"Pharmaceutical Preparations\"],[\"IRONWOOD PHARMACEUTICALS INC\",\"Pharmaceutical Preparations\"],[\"FORTRESS BIOTECH, INC.\",\"Pharmaceutical Preparations\"],[\"SYNTHETIC BIOLOGICS, INC.\",\"Pharmaceutical Preparations\"],[\"OPTINOSE, INC.\",\"Pharmaceutical Preparations\"],[\"CORMEDIX INC.\",\"Pharmaceutical Preparations\"],[\"HEAT BIOLOGICS, INC.\",\"Pharmaceutical Preparations\"],[\"SUN BIOPHARMA, INC.\",\"Pharmaceutical Preparations\"],[\"BELLEROPHON THERAPEUTICS, INC.\",\"Pharmaceutical Preparations\"],[\"BIOSPECIFICS TECHNOLOGIES CORP\",\"Pharmaceutical Preparations\"],[\"ZOSANO PHARMA CORP\",\"Pharmaceutical Preparations\"],[\"CV SCIENCES, INC.\",\"Pharmaceutical Preparations\"],[\"LILLY ELI & CO\",\"Pharmaceutical Preparations\"],[\"SAREPTA THERAPEUTICS, INC.\",\"Pharmaceutical Preparations\"],[\"EXICURE, INC.\",\"Pharmaceutical Preparations\"],[\"OVID THERAPEUTICS INC.\",\"Pharmaceutical Preparations\"],[\"IMPRIMIS PHARMACEUTICALS, INC.\",\"Pharmaceutical Preparations\"],[\"IONIS PHARMACEUTICALS INC\",\"Pharmaceutical Preparations\"],[\"ONCOMED PHARMACEUTICALS INC\",\"Pharmaceutical Preparations\"],[\"TONIX PHARMACEUTICALS HOLDING CORP.\",\"Pharmaceutical Preparations\"],[\"TEVA PHARMACEUTICAL INDUSTRIES LTD\",\"Pharmaceutical Preparations\"],[\"RHYTHM PHARMACEUTICALS, INC.\",\"Pharmaceutical Preparations\"],[\"COCRYSTAL PHARMA, INC.\",\"Pharmaceutical Preparations\"],[\"REGENERON PHARMACEUTICALS INC\",\"Pharmaceutical Preparations\"],[\"ANI PHARMACEUTICALS INC\",\"Pharmaceutical Preparations\"],[\"CLEARSIDE BIOMEDICAL, INC.\",\"Pharmaceutical Preparations\"],[\"LIPOCINE INC.\",\"Pharmaceutical Preparations\"],[\"GALECTIN THERAPEUTICS INC\",\"Pharmaceutical Preparations\"],[\"STEMLINE THERAPEUTICS INC\",\"Pharmaceutical Preparations\"],[\"DOVA PHARMACEUTICALS, INC.\",\"Pharmaceutical Preparations\"],[\"ABBVIE INC.\",\"Pharmaceutical Preparations\"],[\"AKORN INC\",\"Pharmaceutical Preparations\"],[\"VALEANT PHARMACEUTICALS INTERNATIONAL, INC.\",\"Pharmaceutical Preparations\"],[\"INTELGENX TECHNOLOGIES CORP.\",\"Pharmaceutical Preparations\"],[\"PFIZER INC\",\"Pharmaceutical Preparations\"],[\"SKINVISIBLE INC\",\"Pharmaceutical Preparations\"],[\"TAPIMMUNE INC.\",\"Pharmaceutical Preparations\"],[\"THERAPEUTICSMD, INC.\",\"Pharmaceutical Preparations\"],[\"AQUINOX PHARMACEUTICALS, INC\",\"Pharmaceutical Preparations\"],[\"GLOBAL BLOOD THERAPEUTICS, INC.\",\"Pharmaceutical Preparations\"],[\"RIGEL PHARMACEUTICALS INC\",\"Pharmaceutical Preparations\"],[\"PARATEK PHARMACEUTICALS, INC.\",\"Pharmaceutical Preparations\"],[\"PERRIGO CO PLC\",\"Pharmaceutical Preparations\"],[\"ZAFGEN, INC.\",\"Pharmaceutical Preparations\"],[\"OPHTHOTECH CORP.\",\"Pharmaceutical Preparations\"],[\"ACHILLION PHARMACEUTICALS INC\",\"Pharmaceutical Preparations\"],[\"KEMPHARM, INC\",\"Pharmaceutical Preparations\"],[\"INTERCEPT PHARMACEUTICALS INC\",\"Pharmaceutical Preparations\"],[\"ULTRAGENYX PHARMACEUTICAL INC.\",\"Pharmaceutical Preparations\"],[\"EMERGENT BIOSOLUTIONS INC.\",\"Pharmaceutical Preparations\"],[\"ACER THERAPEUTICS INC.\",\"Pharmaceutical Preparations\"],[\"HERON THERAPEUTICS, INC. /DE/\",\"Pharmaceutical Preparations\"],[\"ADAMIS PHARMACEUTICALS CORP\",\"Pharmaceutical Preparations\"],[\"GT BIOPHARMA, INC.\",\"Pharmaceutical Preparations\"],[\"GT BIOPHARMA, INC.\",\"Pharmaceutical Preparations\"],[\"GT BIOPHARMA, INC.\",\"Pharmaceutical Preparations\"],[\"GT BIOPHARMA, INC.\",\"Pharmaceutical Preparations\"],[\"GT BIOPHARMA, INC.\",\"Pharmaceutical Preparations\"],[\"GT BIOPHARMA, INC.\",\"Pharmaceutical Preparations\"],[\"IMMUNOGEN INC\",\"Pharmaceutical Preparations\"],[\"PTC THERAPEUTICS, INC.\",\"Pharmaceutical Preparations\"],[\"MANNKIND CORP\",\"Pharmaceutical Preparations\"],[\"CARDAX, INC.\",\"Pharmaceutical Preparations\"],[\"SYROS PHARMACEUTICALS, INC.\",\"Pharmaceutical Preparations\"],[\"ADURO BIOTECH, INC.\",\"Pharmaceutical Preparations\"],[\"SIENNA BIOPHARMACEUTICALS, INC.\",\"Pharmaceutical Preparations\"],[\"ACHAOGEN INC\",\"Pharmaceutical Preparations\"],[\"UNITED CANNABIS CORP\",\"Pharmaceutical Preparations\"],[\"UNITED CANNABIS CORP\",\"Pharmaceutical Preparations\"],[\"RXI PHARMACEUTICALS CORP\",\"Pharmaceutical Preparations\"],[\"RXI PHARMACEUTICALS CORP\",\"Pharmaceutical Preparations\"],[\"RXI PHARMACEUTICALS CORP\",\"Pharmaceutical Preparations\"],[\"RXI PHARMACEUTICALS CORP\",\"Pharmaceutical Preparations\"],[\"SOLIGENIX, INC.\",\"Pharmaceutical Preparations\"],[\"XOMA CORP\",\"Pharmaceutical Preparations\"],[\"SIERRA ONCOLOGY, INC.\",\"Pharmaceutical Preparations\"],[\"ACTINIUM PHARMACEUTICALS, INC.\",\"Pharmaceutical Preparations\"],[\"ORAGENICS INC\",\"Pharmaceutical Preparations\"],[\"ATHERSYS, INC / NEW\",\"Pharmaceutical Preparations\"],[\"PULMATRIX, INC.\",\"Pharmaceutical Preparations\"],[\"ACADIA PHARMACEUTICALS INC\",\"Pharmaceutical Preparations\"],[\"TREVENA INC\",\"Pharmaceutical Preparations\"],[\"NATURES SUNSHINE PRODUCTS INC\",\"Pharmaceutical Preparations\"],[\"FLEXION THERAPEUTICS INC\",\"Pharmaceutical Preparations\"],[\"VERASTEM, INC.\",\"Pharmaceutical Preparations\"],[\"XENON PHARMACEUTICALS INC.\",\"Pharmaceutical Preparations\"],[\"SUNESIS PHARMACEUTICALS INC\",\"Pharmaceutical Preparations\"],[\"CORVUS PHARMACEUTICALS, INC.\",\"Pharmaceutical Preparations\"],[\"MERCK & CO., INC.\",\"Pharmaceutical Preparations\"],[\"STRONGBRIDGE BIOPHARMA PLC\",\"Pharmaceutical Preparations\"],[\"CATALYST PHARMACEUTICALS, INC.\",\"Pharmaceutical Preparations\"],[\"ASSEMBLY BIOSCIENCES, INC.\",\"Pharmaceutical Preparations\"],[\"APRICUS BIOSCIENCES, INC.\",\"Pharmaceutical Preparations\"],[\"CATALYST BIOSCIENCES, INC.\",\"Pharmaceutical Preparations\"],[\"MIRATI THERAPEUTICS, INC.\",\"Pharmaceutical Preparations\"],[\"MUSTANG BIO, INC.\",\"Pharmaceutical Preparations\"],[\"ACELRX PHARMACEUTICALS INC\",\"Pharmaceutical Preparations\"],[\"BLUEPRINT MEDICINES CORP\",\"Pharmaceutical Preparations\"],[\"ATHENEX, INC.\",\"Pharmaceutical Preparations\"],[\"ATHENEX, INC.\",\"Pharmaceutical Preparations\"],[\"RECRO PHARMA, INC.\",\"Pharmaceutical Preparations\"],[\"BIOHAVEN PHARMACEUTICAL HOLDING CO LTD.\",\"Pharmaceutical Preparations\"],[\"PROTHENA CORP PLC\",\"Pharmaceutical Preparations\"],[\"AVENUE THERAPEUTICS, INC.\",\"Pharmaceutical Preparations\"],[\"VTV THERAPEUTICS INC.\",\"Pharmaceutical Preparations\"],[\"ZYNERBA PHARMACEUTICALS, INC.\",\"Pharmaceutical Preparations\"],[\"BIOMARIN PHARMACEUTICAL INC\",\"Pharmaceutical Preparations\"],[\"KARYOPHARM THERAPEUTICS INC.\",\"Pharmaceutical Preparations\"],[\"LEXICON PHARMACEUTICALS, INC.\",\"Pharmaceutical Preparations\"],[\"ENDO INTERNATIONAL PLC\",\"Pharmaceutical Preparations\"],[\"PROPHASE LABS, INC.\",\"Pharmaceutical Preparations\"],[\"CELLECTAR BIOSCIENCES, INC.\",\"Pharmaceutical Preparations\"],[\"RITTER PHARMACEUTICALS INC\",\"Pharmaceutical Preparations\"],[\"MARINUS PHARMACEUTICALS INC\",\"Pharmaceutical Preparations\"],[\"CORCEPT THERAPEUTICS INC\",\"Pharmaceutical Preparations\"],[\"ALNYLAM PHARMACEUTICALS, INC.\",\"Pharmaceutical Preparations\"],[\"DARE BIOSCIENCE, INC.\",\"Pharmaceutical Preparations\"],[\"TELIGENT, INC.\",\"Pharmaceutical Preparations\"],[\"TELIGENT, INC.\",\"Pharmaceutical Preparations\"],[\"ACLARIS THERAPEUTICS, INC.\",\"Pharmaceutical Preparations\"],[\"VITAL THERAPIES INC\",\"Pharmaceutical Preparations\"],[\"DECIPHERA PHARMACEUTICALS, INC.\",\"Pharmaceutical Preparations\"],[\"CAPSTONE THERAPEUTICS CORP.\",\"Pharmaceutical Preparations\"],[\"PACIRA PHARMACEUTICALS, INC.\",\"Pharmaceutical Preparations\"],[\"UROGEN PHARMA LTD.\",\"Pharmaceutical Preparations\"],[\"FIBROCELL SCIENCE, INC.\",\"Pharmaceutical Preparations\"],[\"FLEX PHARMA, INC.\",\"Pharmaceutical Preparations\"],[\"BIODELIVERY SCIENCES INTERNATIONAL INC\",\"Pharmaceutical Preparations\"],[\"HORIZON PHARMA PLC\",\"Pharmaceutical Preparations\"],[\"MERRIMACK PHARMACEUTICALS INC\",\"Pharmaceutical Preparations\"],[\"CYCLACEL PHARMACEUTICALS, INC.\",\"Pharmaceutical Preparations\"],[\"ZOETIS INC.\",\"Pharmaceutical Preparations\"]],\"hovertemplate\":\"color=Pharmaceutical Preparations<br>0=%{x}<br>1=%{y}<br>name=%{customdata[0]}<br>industry=%{customdata[1]}<extra></extra>\",\"legendgroup\":\"Pharmaceutical Preparations\",\"marker\":{\"color\":\"#00cc96\",\"symbol\":\"circle\"},\"mode\":\"markers\",\"name\":\"Pharmaceutical Preparations\",\"orientation\":\"v\",\"showlegend\":true,\"x\":[-0.17144485584557373,-0.12291314520087936,-0.5236846254887507,-0.4513584322686184,-0.07678094731731118,-0.1745212503843134,-0.1745212503843134,-0.4697054906737585,-0.3621578876631284,-0.031066418856186356,-0.031066418856186356,-0.3850974101743535,-0.5534099091439872,-0.15237158692388722,-0.4683990601305086,0.025599725003364274,0.019936893994048507,0.019936893994048507,-0.6263991837319317,-0.15474300887778936,-0.3020727341064707,-0.01963611871520992,-0.01963611871520992,-0.44805212418345036,-0.26195658062893323,-0.4693150574533317,-0.059764134218948405,-0.1159041360860257,-0.4357193459087995,-0.5300570371618128,-0.0863639673544246,-0.1541860614367126,-0.5216059149233435,-0.5216059149233435,-0.5656199924064721,-0.3355457988880262,-0.18172681823731435,-0.26296022242523265,-0.33199901584340363,-0.05257378737381029,-0.5471905569866804,-0.6050931034848064,-0.4421944225781313,-0.28908727457436195,-0.0691668696799751,-0.46697010887800505,-0.46004968108327565,-0.3414430934751526,-0.3358108159338371,-0.3358108159338371,-0.53852947804454,-0.5680550434097853,-0.26693111035553707,-0.321227980327948,-0.48163666823356904,-0.2832657719686389,-0.30307364967415185,-0.570766202394213,-0.021889732134869094,-0.19454000508130934,-0.4001347066385684,-0.49006405436988565,-0.4268903047825333,-0.3306712798114845,-0.36229176664195895,0.04157753513494116,-0.5177401219758662,-0.20130389997318118,-0.5090366123224719,-0.463974220969305,-0.5582650384583867,-0.4826450947655411,-0.5051446567059645,-0.540794820388959,-0.46884125528342263,-0.6136097217590196,-0.4567436452655012,-0.4121016040384018,-0.14533107172551088,-0.45928572557298736,-0.5393745774998038,-0.5139690039103,-0.4267844572437733,-0.4370248782894884,-0.3926975005362325,-0.3273174141193737,-0.25836087153170467,-0.2243277720590167,-0.25614605635810184,-0.5359703888529855,-0.4368820283512388,-0.30992372211860986,-0.16700158524725264,-0.24966457645916754,-0.5520979420594799,-0.3653966028171319,-0.3012870935829797,-0.509352683591942,-0.3182468532406362,-0.4360039059951204,-0.15068699244975414,-0.5466898940944762,-0.36258240891131505,-0.4837726162772917,-0.5102907980322512,-0.33301706608837556,-0.2913345982391311,-0.10114763563841143,-0.20019498000016514,-0.3650876300703105,-0.08259421302035105,-0.05505590699977148,-0.5401114600225977,-0.4536644661013946,-0.544198147597333,-0.4481261880633946,-0.5381392299862588,-0.27657539984631285,-0.0722824895945806,-0.007872148402598776,-0.507301916886579,-0.5248956572237903,-0.5910101984074368,-0.3876748649840314,-0.2909406248069579,-0.4627589476309245,-0.47805715153376926,-0.25723653822040893,-0.508798730981746,-0.35212078240467876,-0.35212078240467876,-0.35212078240467876,-0.35212078240467876,-0.35212078240467876,-0.35212078240467876,-0.5543010225281513,-0.304013220026071,-0.4968640363019983,-0.3773238959437188,-0.6040313382975908,-0.5733343891859138,-0.5638752220994244,-0.5531526365192483,-0.1476388737521419,-0.1476388737521419,-0.5171833813162457,-0.5171833813162457,-0.5171833813162457,-0.5171833813162457,-0.43256521602813075,-0.23498728128019764,-0.45755598695424626,-0.490717847406908,-0.5700169398114523,-0.29127697323279034,-0.5484975380998073,-0.4858033805046679,-0.27921216821005684,-0.04904405205549942,-0.3708037243110651,-0.3410135956846729,-0.49257333441045664,-0.5788802120400705,-0.5452052868708829,-0.3250833639667126,-0.6115097899236025,-0.5511363934233063,-0.2426827588690404,-0.5449747628795427,-0.5619685760909785,-0.5864441045227577,-0.5254642541262191,-0.1748957800547619,-0.4684798347416297,-0.5233904731890229,-0.5233904731890229,-0.5238078859732467,-0.5203281813366063,-0.3340452489649961,-0.5870061870436613,-0.38959709569933637,-0.48360338679056925,-0.2987923894614394,-0.3503033962998269,-0.41109994433446073,-0.3332580966931967,-0.16420646011993953,-0.3307067090341787,-0.566026011212569,-0.23915857042293256,-0.45399594613343897,-0.5314154004139161,-0.5157197177565759,-0.1621498859625541,-0.1621498859625541,-0.2899026648184668,-0.43668182662001487,-0.4637216857104449,-0.5010161868045077,-0.011619112905721018,-0.6238518323477406,-0.5569271582667228,-0.4560816217217969,-0.5046371503457567,-0.3329645073789973,-0.5733842029983734,-0.469821702470021,0.02426360918218158],\"xaxis\":\"x\",\"y\":[0.002950265048185883,-0.027878051783715288,0.3346994080759916,0.2728202639857633,-0.09938604551187899,-0.01130813660673338,-0.01130813660673338,0.2665816575097172,0.18924454114317849,-0.10530212638349247,-0.10530212638349247,0.2222941200089092,0.3304391494489714,0.0036407516199087222,0.26553605470338554,-0.15138557048529583,-0.14583871198393672,-0.14583871198393672,0.3704450426549787,0.043299522981995464,0.09380452115281827,-0.11521635052745512,-0.11521635052745512,0.27242025018658694,0.09822153711578836,0.2546286899364587,-0.011172760447144475,-0.01860890371083821,0.22586720540230631,0.3255151304443757,-0.0017416107687715599,0.018585624995630823,0.2945027438890257,0.2945027438890257,0.3427815685691024,0.18997034438377736,0.06957805743830081,0.13924460554648865,0.13525059535101414,-0.10253654890916945,0.3178580614213934,0.3753852493832271,0.2756879534886024,0.08954077304940046,-0.06949256270467422,0.24916595612624035,0.2534409953226131,0.19028891605897838,0.16526384201299205,0.16526384201299205,0.32044831087239845,0.34083356544836224,0.1232691335599847,0.16007642372505587,0.2730769981143204,0.1067111580235396,0.08932577139493532,0.34762405774120336,-0.06142062683302793,0.07788298616528198,0.2291894224823208,0.29680531369635693,0.21474835569129905,0.16816997390628835,0.15578709695335038,-0.09627079933676305,0.3209224106857718,0.030723649708527027,0.3212754796110308,0.2537149988532817,0.3188517856128833,0.2971977434351707,0.2728150147058649,0.3280210940025681,0.2837520734181589,0.3766997164183725,0.24075422446062758,0.20742833220759374,-0.05861759566225059,0.2916986015360424,0.34161128577727773,0.30018335911821803,0.2582502904356401,0.24281071764250822,0.2429178808377759,0.1727562961742702,0.1152909129109904,0.059723735588676684,0.08555208493254536,0.3285689186886579,0.2685571181312657,0.16809844826253303,0.018662094970353003,0.10682433561853646,0.31750393081326445,0.18916147249374338,0.12030806231148042,0.32312121627810336,0.13098721399863303,0.22628517126569173,-0.021704614291166494,0.32746579104436185,0.18701505485328737,0.30079875107589127,0.2985179818678845,0.15451113382591108,0.10198291296142742,-0.08043463598789131,0.03720105906341761,0.1726820507500663,-0.05610077803543972,-0.04604942942698535,0.31281851061016275,0.21445085887885265,0.32309784463599944,0.2777631193133189,0.30078455320987946,0.13086616647329727,-0.07670723210096927,-0.16427829802680283,0.3081465120870908,0.32046977213779226,0.35611760196319897,0.1668456962756363,0.15151338674819678,0.25221305824253987,0.226821192631324,0.1277157005643628,0.2954922480097081,0.19647936042168418,0.19647936042168418,0.19647936042168418,0.19647936042168418,0.19647936042168418,0.19647936042168418,0.3409704546159947,0.16225411048089716,0.2759975218688539,0.1885634395490343,0.37735756572236523,0.3480751603324164,0.36106969009815626,0.3106692358224277,-0.05200611486553334,-0.05200611486553334,0.2574811573440752,0.2574811573440752,0.2574811573440752,0.2574811573440752,0.26377313000958735,0.03489126302792399,0.2810123689978345,0.292073078569584,0.3404344336311701,0.1397247004063989,0.3185658192389185,0.27012877708247224,0.14070621987135484,-0.12936129014467673,0.21153168280139384,0.1807481603923597,0.3156712632961263,0.35651106033944024,0.34980296592667226,0.13998406183013332,0.3809346722713869,0.3314364129528021,0.10743418805595878,0.32244441731635465,0.3408577858021847,0.3679759101560116,0.29882905538851384,0.03321683057163557,0.2943762187692213,0.33582803265246797,0.33582803265246797,0.31658996658052485,0.33077313833459676,0.17899899135598157,0.34978249539858414,0.23618395940940826,0.3065064534726482,0.1538314823266973,0.19448162787337264,0.22349442658635452,0.11983517830169292,-0.01587988120558537,0.1687790238950068,0.33623215684939706,0.11661666273746721,0.24570003175541338,0.3126592623276184,0.29599085114151635,-0.011731427288449923,-0.011731427288449923,0.12382080942516818,0.23991619881820203,0.2668063831286875,0.2765080794178766,-0.012082778510051198,0.3930196732799231,0.34674590597029237,0.21128872905461235,0.26246185557549856,0.13416448693801256,0.3559146102208385,0.2788267248588317,-0.16639613464103023],\"yaxis\":\"y\",\"type\":\"scatter\"},{\"customdata\":[[\"INVESTORS REAL ESTATE TRUST\",\"Real Estate Investment Trusts\"],[\"BRT APARTMENTS CORP.\",\"Real Estate Investment Trusts\"],[\"MONMOUTH REAL ESTATE INVESTMENT CORP\",\"Real Estate Investment Trusts\"],[\"FIRST REAL ESTATE INVESTMENT TRUST OF NEW JERSEY\",\"Real Estate Investment Trusts\"],[\"FIRST REAL ESTATE INVESTMENT TRUST OF NEW JERSEY\",\"Real Estate Investment Trusts\"],[\"URSTADT BIDDLE PROPERTIES INC\",\"Real Estate Investment Trusts\"],[\"URSTADT BIDDLE PROPERTIES INC\",\"Real Estate Investment Trusts\"],[\"PHILLIPS EDISON & COMPANY, INC.\",\"Real Estate Investment Trusts\"],[\"SL GREEN REALTY CORP\",\"Real Estate Investment Trusts\"],[\"CUBESMART\",\"Real Estate Investment Trusts\"],[\"CIM COMMERCIAL TRUST CORP\",\"Real Estate Investment Trusts\"],[\"CERES TACTICAL SYSTEMATIC L.P.\",\"Real Estate Investment Trusts\"],[\"PS BUSINESS PARKS INC/CA\",\"Real Estate Investment Trusts\"],[\"STEADFAST INCOME REIT, INC.\",\"Real Estate Investment Trusts\"],[\"RETAIL OPPORTUNITY INVESTMENTS CORP\",\"Real Estate Investment Trusts\"],[\"MORGAN STANLEY SMITH BARNEY SPECTRUM SELECT LP\",\"Real Estate Investment Trusts\"],[\"NEW YORK MORTGAGE TRUST INC\",\"Real Estate Investment Trusts\"],[\"CBL & ASSOCIATES PROPERTIES INC\",\"Real Estate Investment Trusts\"],[\"LEXINGTON REALTY TRUST\",\"Real Estate Investment Trusts\"],[\"BRANDYWINE REALTY TRUST\",\"Real Estate Investment Trusts\"],[\"LAMAR ADVERTISING CO/NEW\",\"Real Estate Investment Trusts\"],[\"JBG SMITH PROPERTIES\",\"Real Estate Investment Trusts\"],[\"KBS REAL ESTATE INVESTMENT TRUST III, INC.\",\"Real Estate Investment Trusts\"],[\"CAPSTEAD MORTGAGE CORP\",\"Real Estate Investment Trusts\"],[\"GGP INC.\",\"Real Estate Investment Trusts\"],[\"QTS REALTY TRUST, INC.\",\"Real Estate Investment Trusts\"],[\"WELLS FARGO REAL ESTATE INVESTMENT CORP.\",\"Real Estate Investment Trusts\"],[\"LIGHTSTONE VALUE PLUS REAL ESTATE INVESTMENT TRUST V, INC.\",\"Real Estate Investment Trusts\"],[\"RESOURCE APARTMENT REIT III, INC.\",\"Real Estate Investment Trusts\"],[\"CNL HEALTHCARE PROPERTIES, INC.\",\"Real Estate Investment Trusts\"],[\"RETAIL PROPERTIES OF AMERICA, INC.\",\"Real Estate Investment Trusts\"],[\"BOSTON PROPERTIES INC\",\"Real Estate Investment Trusts\"],[\"REGENCY CENTERS CORP\",\"Real Estate Investment Trusts\"],[\"NATIONAL HEALTH INVESTORS INC\",\"Real Estate Investment Trusts\"],[\"DRIVE SHACK INC.\",\"Real Estate Investment Trusts\"],[\"COLE CREDIT PROPERTY TRUST V, INC.\",\"Real Estate Investment Trusts\"],[\"EQUITY RESIDENTIAL\",\"Real Estate Investment Trusts\"],[\"KITE REALTY GROUP TRUST\",\"Real Estate Investment Trusts\"],[\"OUTFRONT MEDIA INC.\",\"Real Estate Investment Trusts\"],[\"PENNSYLVANIA REAL ESTATE INVESTMENT TRUST\",\"Real Estate Investment Trusts\"],[\"COLE REAL ESTATE INCOME STRATEGY (DAILY NAV), INC.\",\"Real Estate Investment Trusts\"],[\"REALTY INCOME CORP\",\"Real Estate Investment Trusts\"],[\"GLOBAL MEDICAL REIT INC.\",\"Real Estate Investment Trusts\"],[\"PILLARSTONE CAPITAL REIT\",\"Real Estate Investment Trusts\"],[\"CLIPPER REALTY INC.\",\"Real Estate Investment Trusts\"],[\"BLACK CREEK INDUSTRIAL REIT IV INC.\",\"Real Estate Investment Trusts\"],[\"LIGHTSTONE VALUE PLUS REAL ESTATE INVESTMENT TRUST, INC.\",\"Real Estate Investment Trusts\"],[\"KKR REAL ESTATE FINANCE TRUST INC.\",\"Real Estate Investment Trusts\"],[\"GEO GROUP INC\",\"Real Estate Investment Trusts\"],[\"AMERICAN ASSETS TRUST, INC.\",\"Real Estate Investment Trusts\"],[\"IMPAC MORTGAGE HOLDINGS INC\",\"Real Estate Investment Trusts\"],[\"CNL HEALTHCARE PROPERTIES II, INC.\",\"Real Estate Investment Trusts\"],[\"ANWORTH MORTGAGE ASSET CORP\",\"Real Estate Investment Trusts\"],[\"LIGHTSTONE VALUE PLUS REAL ESTATE INVESTMENT TRUST III, INC.\",\"Real Estate Investment Trusts\"],[\"AMERICAN FINANCE TRUST, INC\",\"Real Estate Investment Trusts\"],[\"EQUITY COMMONWEALTH\",\"Real Estate Investment Trusts\"],[\"FOUR CORNERS PROPERTY TRUST, INC.\",\"Real Estate Investment Trusts\"],[\"RAYONIER INC\",\"Real Estate Investment Trusts\"],[\"HOST HOTELS & RESORTS, INC.\",\"Real Estate Investment Trusts\"],[\"GAMING & LEISURE PROPERTIES, INC.\",\"Real Estate Investment Trusts\"],[\"NATIONAL RETAIL PROPERTIES, INC.\",\"Real Estate Investment Trusts\"],[\"SENIOR HOUSING PROPERTIES TRUST\",\"Real Estate Investment Trusts\"],[\"SUTHERLAND ASSET MANAGEMENT CORP\",\"Real Estate Investment Trusts\"],[\"TAUBMAN CENTERS INC\",\"Real Estate Investment Trusts\"],[\"RESOURCE REAL ESTATE OPPORTUNITY REIT, INC.\",\"Real Estate Investment Trusts\"],[\"TANGER FACTORY OUTLET CENTERS INC\",\"Real Estate Investment Trusts\"],[\"MFA FINANCIAL, INC.\",\"Real Estate Investment Trusts\"],[\"TERRA SECURED INCOME FUND 5, LLC\",\"Real Estate Investment Trusts\"],[\"SBA COMMUNICATIONS CORP\",\"Real Estate Investment Trusts\"],[\"LIGHTSTONE VALUE PLUS REAL ESTATE INVESTMENT TRUST II INC\",\"Real Estate Investment Trusts\"],[\"JONES LANG LASALLE INCOME PROPERTY TRUST, INC.\",\"Real Estate Investment Trusts\"],[\"AVALONBAY COMMUNITIES INC\",\"Real Estate Investment Trusts\"],[\"ARES COMMERCIAL REAL ESTATE CORP\",\"Real Estate Investment Trusts\"],[\"CARTER VALIDUS MISSION CRITICAL REIT II, INC.\",\"Real Estate Investment Trusts\"],[\"PHYSICIANS REALTY TRUST\",\"Real Estate Investment Trusts\"],[\"PROLOGIS, INC.\",\"Real Estate Investment Trusts\"],[\"ARMOUR RESIDENTIAL REIT, INC.\",\"Real Estate Investment Trusts\"],[\"CHERRY HILL MORTGAGE INVESTMENT CORP\",\"Real Estate Investment Trusts\"],[\"EMPIRE STATE REALTY TRUST, INC.\",\"Real Estate Investment Trusts\"],[\"PUBLIC STORAGE\",\"Real Estate Investment Trusts\"],[\"APARTMENT INVESTMENT & MANAGEMENT CO\",\"Real Estate Investment Trusts\"],[\"CEDAR REALTY TRUST, INC.\",\"Real Estate Investment Trusts\"],[\"HIGHLANDS REIT, INC.\",\"Real Estate Investment Trusts\"],[\"IRON MOUNTAIN INC\",\"Real Estate Investment Trusts\"],[\"SOTHERLY HOTELS INC.\",\"Real Estate Investment Trusts\"],[\"EMPIRE STATE REALTY OP, L.P.\",\"Real Estate Investment Trusts\"],[\"ESSEX PROPERTY TRUST INC\",\"Real Estate Investment Trusts\"],[\"WEINGARTEN REALTY INVESTORS /TX/\",\"Real Estate Investment Trusts\"],[\"CONDOR HOSPITALITY TRUST, INC.\",\"Real Estate Investment Trusts\"],[\"CITY OFFICE REIT, INC.\",\"Real Estate Investment Trusts\"],[\"BENEFIT STREET PARTNERS REALTY TRUST, INC.\",\"Real Estate Investment Trusts\"],[\"LIGHTSTONE REAL ESTATE INCOME TRUST INC.\",\"Real Estate Investment Trusts\"],[\"AMERICAN CAMPUS COMMUNITIES INC\",\"Real Estate Investment Trusts\"],[\"STARWOOD PROPERTY TRUST, INC.\",\"Real Estate Investment Trusts\"],[\"CORESITE REALTY CORP\",\"Real Estate Investment Trusts\"],[\"POTLATCH CORP\",\"Real Estate Investment Trusts\"],[\"CORPORATE OFFICE PROPERTIES TRUST\",\"Real Estate Investment Trusts\"],[\"RAMCO GERSHENSON PROPERTIES TRUST\",\"Real Estate Investment Trusts\"],[\"NATIONAL STORAGE AFFILIATES TRUST\",\"Real Estate Investment Trusts\"],[\"HERSHA HOSPITALITY TRUST\",\"Real Estate Investment Trusts\"],[\"JERNIGAN CAPITAL, INC.\",\"Real Estate Investment Trusts\"],[\"VORNADO REALTY TRUST\",\"Real Estate Investment Trusts\"],[\"ISTAR INC.\",\"Real Estate Investment Trusts\"],[\"ALEXANDER & BALDWIN, INC.\",\"Real Estate Investment Trusts\"],[\"HOSPITALITY INVESTORS TRUST, INC.\",\"Real Estate Investment Trusts\"],[\"SAUL CENTERS INC\",\"Real Estate Investment Trusts\"],[\"KBS GROWTH & INCOME REIT, INC.\",\"Real Estate Investment Trusts\"],[\"EXTRA SPACE STORAGE INC.\",\"Real Estate Investment Trusts\"],[\"CHESAPEAKE LODGING TRUST\",\"Real Estate Investment Trusts\"],[\"LTC PROPERTIES INC\",\"Real Estate Investment Trusts\"],[\"EASTERLY GOVERNMENT PROPERTIES, INC.\",\"Real Estate Investment Trusts\"],[\"PLYMOUTH INDUSTRIAL REIT INC.\",\"Real Estate Investment Trusts\"],[\"FRANKLIN STREET PROPERTIES CORP /MA/\",\"Real Estate Investment Trusts\"],[\"HEALTHCARE TRUST OF AMERICA, INC.\",\"Real Estate Investment Trusts\"],[\"REALSOURCE RESIDENTIAL, INC\",\"Real Estate Investment Trusts\"],[\"CARTER VALIDUS MISSION CRITICAL REIT, INC.\",\"Real Estate Investment Trusts\"],[\"SUN COMMUNITIES INC\",\"Real Estate Investment Trusts\"],[\"FIRST EQUITY PROPERTIES INC\",\"Real Estate Investment Trusts\"],[\"MID AMERICA APARTMENT COMMUNITIES INC\",\"Real Estate Investment Trusts\"],[\"BROOKFIELD DTLA FUND OFFICE TRUST INVESTOR INC.\",\"Real Estate Investment Trusts\"],[\"ANNALY CAPITAL MANAGEMENT INC\",\"Real Estate Investment Trusts\"],[\"WHEELER REAL ESTATE INVESTMENT TRUST, INC.\",\"Real Estate Investment Trusts\"],[\"ALEXANDRIA REAL ESTATE EQUITIES INC\",\"Real Estate Investment Trusts\"],[\"HIGHWOODS PROPERTIES INC\",\"Real Estate Investment Trusts\"],[\"KIMCO REALTY CORP\",\"Real Estate Investment Trusts\"],[\"INDEPENDENCE REALTY TRUST, INC.\",\"Real Estate Investment Trusts\"],[\"PREFERRED APARTMENT COMMUNITIES INC\",\"Real Estate Investment Trusts\"],[\"ELLINGTON RESIDENTIAL MORTGAGE REIT\",\"Real Estate Investment Trusts\"],[\"CORECIVIC, INC.\",\"Real Estate Investment Trusts\"],[\"ASHFORD HOSPITALITY PRIME, INC.\",\"Real Estate Investment Trusts\"],[\"LIFE STORAGE, INC.\",\"Real Estate Investment Trusts\"],[\"HEALTHCARE REALTY TRUST INC\",\"Real Estate Investment Trusts\"],[\"WINTHROP REALTY LIQUIDATING TRUST\",\"Real Estate Investment Trusts\"],[\"CORENERGY INFRASTRUCTURE TRUST, INC.\",\"Real Estate Investment Trusts\"],[\"KBS STRATEGIC OPPORTUNITY REIT II, INC.\",\"Real Estate Investment Trusts\"],[\"PEBBLEBROOK HOTEL TRUST\",\"Real Estate Investment Trusts\"],[\"SABRA HEALTH CARE REIT, INC.\",\"Real Estate Investment Trusts\"],[\"POWER REIT\",\"Real Estate Investment Trusts\"],[\"DYNEX CAPITAL INC\",\"Real Estate Investment Trusts\"],[\"DIGITAL REALTY TRUST, INC.\",\"Real Estate Investment Trusts\"],[\"STRATEGIC REALTY TRUST, INC.\",\"Real Estate Investment Trusts\"],[\"COLE OFFICE & INDUSTRIAL REIT (CCIT III), INC.\",\"Real Estate Investment Trusts\"],[\"HEALTHCARE TRUST, INC.\",\"Real Estate Investment Trusts\"],[\"LADDER CAPITAL CORP\",\"Real Estate Investment Trusts\"],[\"CROWN CASTLE INTERNATIONAL CORP\",\"Real Estate Investment Trusts\"],[\"HOWARD HUGHES CORP\",\"Real Estate Investment Trusts\"],[\"ALEXANDERS INC\",\"Real Estate Investment Trusts\"],[\"MANHATTAN BRIDGE CAPITAL, INC\",\"Real Estate Investment Trusts\"],[\"INLAND REAL ESTATE INCOME TRUST, INC.\",\"Real Estate Investment Trusts\"],[\"INLAND RESIDENTIAL PROPERTIES TRUST, INC.\",\"Real Estate Investment Trusts\"],[\"INLAND RESIDENTIAL PROPERTIES TRUST, INC.\",\"Real Estate Investment Trusts\"],[\"KBS REAL ESTATE INVESTMENT TRUST II, INC.\",\"Real Estate Investment Trusts\"],[\"RESOURCE REAL ESTATE OPPORTUNITY REIT II, INC.\",\"Real Estate Investment Trusts\"],[\"STEADFAST APARTMENT REIT III, INC.\",\"Real Estate Investment Trusts\"],[\"ACADIA REALTY TRUST\",\"Real Estate Investment Trusts\"],[\"HMG COURTLAND PROPERTIES INC\",\"Real Estate Investment Trusts\"],[\"COLE CREDIT PROPERTY TRUST IV, INC.\",\"Real Estate Investment Trusts\"],[\"FIVE OAKS INVESTMENT CORP.\",\"Real Estate Investment Trusts\"],[\"NEXPOINT RESIDENTIAL TRUST, INC.\",\"Real Estate Investment Trusts\"],[\"TWO HARBORS INVESTMENT CORP.\",\"Real Estate Investment Trusts\"],[\"WASHINGTON PRIME GROUP INC.\",\"Real Estate Investment Trusts\"],[\"TIER REIT INC\",\"Real Estate Investment Trusts\"],[\"GRANITE POINT MORTGAGE TRUST INC.\",\"Real Estate Investment Trusts\"],[\"GREAT AJAX CORP.\",\"Real Estate Investment Trusts\"],[\"DUKE REALTY CORP\",\"Real Estate Investment Trusts\"],[\"EASTGROUP PROPERTIES INC\",\"Real Estate Investment Trusts\"],[\"STEADFAST APARTMENT REIT, INC.\",\"Real Estate Investment Trusts\"],[\"RECKSON OPERATING PARTNERSHIP LP\",\"Real Estate Investment Trusts\"],[\"GLOBAL NET LEASE, INC.\",\"Real Estate Investment Trusts\"],[\"KBS STRATEGIC OPPORTUNITY REIT, INC.\",\"Real Estate Investment Trusts\"],[\"WHITESTONE REIT\",\"Real Estate Investment Trusts\"],[\"GRIFFIN CAPITAL ESSENTIAL ASSET REIT II, INC.\",\"Real Estate Investment Trusts\"],[\"UDR, INC.\",\"Real Estate Investment Trusts\"],[\"COMMUNITY HEALTHCARE TRUST INC\",\"Real Estate Investment Trusts\"],[\"VENTAS INC\",\"Real Estate Investment Trusts\"],[\"OWENS REALTY MORTGAGE, INC.\",\"Real Estate Investment Trusts\"],[\"KILROY REALTY CORP\",\"Real Estate Investment Trusts\"],[\"SUMMIT HOTEL PROPERTIES, INC.\",\"Real Estate Investment Trusts\"],[\"CORPORATE PROPERTY ASSOCIATES 18 GLOBAL INC\",\"Real Estate Investment Trusts\"],[\"CYRUSONE INC.\",\"Real Estate Investment Trusts\"],[\"COLONY NORTHSTAR, INC.\",\"Real Estate Investment Trusts\"],[\"FEDERAL REALTY INVESTMENT TRUST\",\"Real Estate Investment Trusts\"],[\"NEW SENIOR INVESTMENT GROUP INC.\",\"Real Estate Investment Trusts\"],[\"RYMAN HOSPITALITY PROPERTIES, INC.\",\"Real Estate Investment Trusts\"],[\"BRIXMOR PROPERTY GROUP INC.\",\"Real Estate Investment Trusts\"],[\"COLE OFFICE & INDUSTRIAL REIT (CCIT II), INC.\",\"Real Estate Investment Trusts\"],[\"OMEGA HEALTHCARE INVESTORS INC\",\"Real Estate Investment Trusts\"],[\"REVEN HOUSING REIT, INC.\",\"Real Estate Investment Trusts\"],[\"AMERICAN REALTY CAPITAL NEW YORK CITY REIT, INC.\",\"Real Estate Investment Trusts\"],[\"STAG INDUSTRIAL, INC.\",\"Real Estate Investment Trusts\"],[\"EQUINIX INC\",\"Real Estate Investment Trusts\"]],\"hovertemplate\":\"color=Real Estate Investment Trusts<br>0=%{x}<br>1=%{y}<br>name=%{customdata[0]}<br>industry=%{customdata[1]}<extra></extra>\",\"legendgroup\":\"Real Estate Investment Trusts\",\"marker\":{\"color\":\"#ab63fa\",\"symbol\":\"circle\"},\"mode\":\"markers\",\"name\":\"Real Estate Investment Trusts\",\"orientation\":\"v\",\"showlegend\":true,\"x\":[0.10824096537785584,0.09526978839327388,0.09526441032692004,0.10228461821769892,0.10228461821769892,0.12275051805787453,0.12275051805787453,0.10120672283746418,0.10809425747323656,0.07015267441824578,0.1424587521278443,0.011467218075741732,0.09225437947318743,0.10444617662087913,0.07239236710399903,0.011478306298807932,0.13214870129718936,0.08758722845104921,0.09698489400808091,0.1807645776169926,0.07550797804142949,0.11882615149720444,0.1662967016289241,0.11282678301346236,0.09373145240766098,0.00552358221466425,0.24393360525062424,0.15517984049538322,0.10688615680776409,0.08148430488600746,0.07380691143315106,0.03046712944854326,0.06813030940082217,0.11059968076759774,0.06389719052342654,0.1597305602491381,0.07680011583311012,0.07388715255093646,0.05405539734982033,0.12779642705016475,0.16860347466254255,0.10685867429192243,0.0157914808285974,0.10559185277921587,0.12066801212468749,0.15373085938573514,0.036009461681635345,0.2127157518572141,0.00909141098868639,0.15090675556428423,0.15931585051744668,0.09675390643474092,0.1061204866809254,0.036009461681635345,0.10058663805138407,0.09327191607176846,0.11763287069785816,0.08516988937345973,0.07957430611596165,0.09445879225617883,0.12400400107706673,0.0668076797285867,0.19864287152144663,0.047801538742491385,0.17039478637816174,0.08488177826788364,0.15069102865257727,0.13867407092802853,0.05607826073188876,0.036009461681635345,0.1460424136663622,0.15263195066010432,0.16860239327872648,0.11561812314636687,0.018317084605214563,0.13816748147787844,0.10969107465816241,0.1117572071924565,0.10269823082064833,-0.0014294980854273659,0.09648982881961152,0.11340116744117087,0.11832603772856341,0.00037477405992258385,0.05069330521805004,0.10060971856165335,0.10668853288979226,0.1174151713915779,0.07574097436407554,0.12019833539751718,0.1975757377099725,0.036009461681635345,0.07695495812503472,0.21615058116555352,0.002297010611791526,0.136607626434063,0.04759255077237556,0.03336175515543171,0.08584017734847747,0.09250663014388302,0.09736556008456472,0.0652243837619752,0.18180457579129067,0.1546521308029776,0.09638639228516337,0.06621554976263316,0.1273829826295491,0.07561880800738421,0.0643463109784913,0.004808061076188882,0.05761818206307347,0.09807359247660527,0.12937481748598187,0.013885246046541174,0.02447606897775081,0.1594530348091334,0.005433949033468342,0.10725755493333625,0.130967955003197,0.061116762116294326,0.016884387133999135,0.090266345210057,0.1308197443608647,0.0462653049308515,0.09829945209653992,0.11049165398740825,0.17557111316570856,0.10892418900522276,0.08595302077795412,0.03616126993851054,0.10606782150671332,0.020143861408890105,0.07764632635489731,0.0858961409293459,0.12767826223722323,0.04277660552959682,0.1227461209750624,0.1378795688559256,0.14402192446865952,0.00883811013497704,0.13137128427151115,0.15656234096936325,0.03456809105522665,0.1990528003573244,0.045942723278465464,0.16618643160464325,0.037743295338589576,0.18521336242971048,0.17105721614911176,0.13029625089511498,0.13029625089511498,0.14723338084488452,0.18514722687615293,0.03596099271844916,0.13169009121669714,0.03490686936238115,0.16302242973018957,0.19991449532093689,0.12532655314682414,0.18020518592808552,0.12057464393727617,0.060772739712869686,0.18399195645981506,0.14713007410749535,0.0388833507936204,0.05511002638558652,0.1254858076582949,0.0720163641581743,0.12516649928637874,0.14326538989336124,0.15116184787994552,0.11013822766181103,0.12956245743553346,0.08109010250779437,0.10166247618275819,0.1359822160223459,0.09547121047573398,0.06645606041704721,0.07077364392786287,0.00949390352964074,0.17778345928731726,0.125588313695305,0.05804433444645488,0.043821872867553915,0.06016335133467396,0.15920224332715235,0.03736313247521559,0.1458006388801395,0.1659068084893236,0.0599308743189147,-0.007771750814152511],\"xaxis\":\"x\",\"y\":[-0.30692146098384676,-0.2941430921429397,-0.2594327385428786,-0.2218097443222749,-0.2218097443222749,-0.302340597707958,-0.302340597707958,-0.33762952284755515,-0.31066181718273245,-0.31904040550828455,-0.3541157378277195,-0.14262149838474072,-0.3102360880667781,-0.36063531598965476,-0.2883232190564838,-0.135880431114571,-0.15010184870818355,-0.2874449987702553,-0.2941881033031819,-0.36098555817931643,-0.22313968850670798,-0.2981661518033791,-0.3856278119393847,-0.20145242799482746,-0.2877558323021031,-0.13831386359772835,-0.1627290784437943,-0.3826914764796241,-0.316621435769203,-0.31212833391122674,-0.31558499654278305,-0.15794033714087066,-0.22030619351824,-0.24588260227877626,-0.2643752047193573,-0.3659460739546484,-0.2801611523073502,-0.30074994765967233,-0.26864456582431734,-0.2969305180910965,-0.3633406874783222,-0.2889995184786922,-0.22254123127432177,-0.29366076723828916,-0.3877695785445213,-0.4120737390261135,-0.07392443464486019,-0.33072779049642553,-0.1510884840312861,-0.35331665482009916,-0.17475626458486473,-0.3393071864475373,-0.20859602485653286,-0.07392443464486019,-0.3274002159881003,-0.28296372082952653,-0.35187536556503074,-0.2210030704294493,-0.27616841241537743,-0.2473410763378172,-0.29509289135073635,-0.2488746533068797,-0.1761695741468504,-0.22661903083311163,-0.36246459796936265,-0.2905315482838683,-0.10836999720002503,-0.1955332773010456,-0.24074631815944408,-0.07392443464486019,-0.33631142283086096,-0.37332438665617224,-0.28160100100376156,-0.3169335351185655,-0.18141082138079986,-0.3037838177792056,-0.30530458184490017,-0.21370079843326842,-0.35036048214795384,-0.12327006699245938,-0.34484964539161067,-0.34419175207582786,-0.33381396487201453,-0.13924776516871595,-0.25532179930514665,-0.33479179516129337,-0.34398526179172634,-0.30049833777902324,-0.3206954245488966,-0.3110152212931032,-0.2103538287852506,-0.07392443464486019,-0.2853497141396139,-0.27741661199264256,-0.12006074896205124,-0.30366887722243263,-0.2340252139636031,-0.23727158478643645,-0.3317277133320406,-0.34480408944379526,-0.2548274731063442,-0.2781161806892266,-0.3132455113822613,-0.32259241507703657,-0.3366160192175773,-0.2494386156143364,-0.33208657890416093,-0.3062755109034897,-0.27545412461777635,-0.12249506378187358,-0.31716893343119196,-0.33166302625888405,-0.25832714127106493,-0.20086576276917956,-0.17406183547734264,-0.3760466386365297,-0.12360316179179828,-0.24646557254032223,-0.3786242612658523,-0.2648531819662504,-0.14710966103120576,-0.29568742613485494,-0.328718405062739,-0.11210583481116693,-0.2462856622517258,-0.3293210811613852,-0.3531133647734743,-0.2022186316958421,-0.2931808132602287,-0.2114572155441362,-0.3466202548335084,-0.18270099701105325,-0.25199651145944185,-0.27154993122516413,-0.35664548649681027,-0.2761620620629261,-0.3072971177649916,-0.23804526195550074,-0.19902695768312662,-0.12913027123597734,-0.3937605309920765,-0.374197949761853,-0.2268528672490284,-0.21139825875759488,-0.20914773021515393,-0.3456010931840011,-0.21416687824697,-0.2651421363223347,-0.3949279559513483,-0.3527950192344364,-0.3527950192344364,-0.3774597860861411,-0.35547776999908237,-0.20845552497333383,-0.27122826371012854,-0.10602790705622982,-0.36876158191234365,-0.2624275259550667,-0.3463209406982513,-0.22839001232069361,-0.3299042318455843,-0.2746344981769085,-0.24874422229477994,-0.2816123272404762,-0.16344044522794934,-0.2358304927551108,-0.3627709241230966,-0.31515073733067994,-0.35055798843239533,-0.35055675615023724,-0.33144027399890075,-0.35915411442960865,-0.39936453512110015,-0.2748661768610912,-0.2686807701721565,-0.24309710199470128,-0.26563203565502197,-0.3025163333847416,-0.23476248970692615,-0.13491489655036853,-0.29953948059080737,-0.3578772562437183,-0.25819504952274397,-0.2508059580160152,-0.30275812429229504,-0.3674073715143629,-0.22024556464149614,-0.3335812703286197,-0.35620351276165463,-0.30651793420228646,-0.09389785889913072],\"yaxis\":\"y\",\"type\":\"scatter\"},{\"customdata\":[[\"TOMPKINS FINANCIAL CORP\",\"State Commercial Banks (commercial banking)\"],[\"TRIUMPH BANCORP, INC.\",\"State Commercial Banks (commercial banking)\"],[\"GREAT SOUTHERN BANCORP, INC.\",\"State Commercial Banks (commercial banking)\"],[\"SOUTH STATE CORP\",\"State Commercial Banks (commercial banking)\"],[\"OLD LINE BANCSHARES INC\",\"State Commercial Banks (commercial banking)\"],[\"SEACOAST BANKING CORP OF FLORIDA\",\"State Commercial Banks (commercial banking)\"],[\"CITIZENS FINANCIAL GROUP INC/RI\",\"State Commercial Banks (commercial banking)\"],[\"COMMUNITY WEST BANCSHARES /\",\"State Commercial Banks (commercial banking)\"],[\"MACKINAC FINANCIAL CORP /MI/\",\"State Commercial Banks (commercial banking)\"],[\"UNITY BANCORP INC /NJ/\",\"State Commercial Banks (commercial banking)\"],[\"UNITY BANCORP INC /NJ/\",\"State Commercial Banks (commercial banking)\"],[\"EAST WEST BANCORP INC\",\"State Commercial Banks (commercial banking)\"],[\"HEARTLAND FINANCIAL USA INC\",\"State Commercial Banks (commercial banking)\"],[\"COUNTY BANCORP, INC.\",\"State Commercial Banks (commercial banking)\"],[\"CHEMUNG FINANCIAL CORP\",\"State Commercial Banks (commercial banking)\"],[\"BRYN MAWR BANK CORP\",\"State Commercial Banks (commercial banking)\"],[\"EAGLE BANCORP MONTANA, INC.\",\"State Commercial Banks (commercial banking)\"],[\"1ST SOURCE CORP\",\"State Commercial Banks (commercial banking)\"],[\"SERVISFIRST BANCSHARES, INC.\",\"State Commercial Banks (commercial banking)\"],[\"SIERRA BANCORP\",\"State Commercial Banks (commercial banking)\"],[\"HOPFED BANCORP INC\",\"State Commercial Banks (commercial banking)\"],[\"HOPFED BANCORP INC\",\"State Commercial Banks (commercial banking)\"],[\"FIRST FINANCIAL BANKSHARES INC\",\"State Commercial Banks (commercial banking)\"],[\"CHEMICAL FINANCIAL CORP\",\"State Commercial Banks (commercial banking)\"],[\"SECURITY FEDERAL CORP\",\"State Commercial Banks (commercial banking)\"],[\"FIRST FINANCIAL CORP /IN/\",\"State Commercial Banks (commercial banking)\"],[\"WESTERN ALLIANCE BANCORPORATION\",\"State Commercial Banks (commercial banking)\"],[\"TRISTATE CAPITAL HOLDINGS, INC.\",\"State Commercial Banks (commercial banking)\"],[\"UNION BANKSHARES CORP\",\"State Commercial Banks (commercial banking)\"],[\"CAROLINA TRUST BANCSHARES, INC.\",\"State Commercial Banks (commercial banking)\"],[\"COMMUNITY TRUST BANCORP INC /KY/\",\"State Commercial Banks (commercial banking)\"],[\"HILLS BANCORPORATION\",\"State Commercial Banks (commercial banking)\"],[\"MACATAWA BANK CORP\",\"State Commercial Banks (commercial banking)\"],[\"PREMIER FINANCIAL BANCORP INC\",\"State Commercial Banks (commercial banking)\"],[\"KENTUCKY BANCSHARES INC /KY/\",\"State Commercial Banks (commercial banking)\"],[\"RIVER FINANCIAL CORP\",\"State Commercial Banks (commercial banking)\"],[\"BAR HARBOR BANKSHARES\",\"State Commercial Banks (commercial banking)\"],[\"PARKE BANCORP, INC.\",\"State Commercial Banks (commercial banking)\"],[\"RANDOLPH BANCORP, INC.\",\"State Commercial Banks (commercial banking)\"],[\"BANK OF HAWAII CORP\",\"State Commercial Banks (commercial banking)\"],[\"BSB BANCORP, INC.\",\"State Commercial Banks (commercial banking)\"],[\"INDEPENDENT BANK CORP /MI/\",\"State Commercial Banks (commercial banking)\"],[\"PACIFIC PREMIER BANCORP INC\",\"State Commercial Banks (commercial banking)\"],[\"OHIO VALLEY BANC CORP\",\"State Commercial Banks (commercial banking)\"],[\"CVB FINANCIAL CORP\",\"State Commercial Banks (commercial banking)\"],[\"BANK OF NEW YORK MELLON CORP\",\"State Commercial Banks (commercial banking)\"],[\"TWO RIVER BANCORP\",\"State Commercial Banks (commercial banking)\"],[\"STEWARDSHIP FINANCIAL CORP\",\"State Commercial Banks (commercial banking)\"],[\"LAKELAND FINANCIAL CORP\",\"State Commercial Banks (commercial banking)\"],[\"FAUQUIER BANKSHARES, INC.\",\"State Commercial Banks (commercial banking)\"],[\"LIVE OAK BANCSHARES, INC.\",\"State Commercial Banks (commercial banking)\"],[\"M&T BANK CORP\",\"State Commercial Banks (commercial banking)\"],[\"INTERNATIONAL BANCSHARES CORP\",\"State Commercial Banks (commercial banking)\"],[\"SUMMIT FINANCIAL GROUP INC\",\"State Commercial Banks (commercial banking)\"],[\"SUSSEX BANCORP\",\"State Commercial Banks (commercial banking)\"],[\"PRIME MERIDIAN HOLDING CO\",\"State Commercial Banks (commercial banking)\"],[\"BANKWELL FINANCIAL GROUP, INC.\",\"State Commercial Banks (commercial banking)\"],[\"SOUTHWEST GEORGIA FINANCIAL CORP\",\"State Commercial Banks (commercial banking)\"],[\"BANK OF COMMERCE HOLDINGS\",\"State Commercial Banks (commercial banking)\"],[\"BANK OF COMMERCE HOLDINGS\",\"State Commercial Banks (commercial banking)\"],[\"UNITED BANCORP INC /OH/\",\"State Commercial Banks (commercial banking)\"],[\"PARKWAY ACQUISITION CORP.\",\"State Commercial Banks (commercial banking)\"],[\"INVESTAR HOLDING CORP\",\"State Commercial Banks (commercial banking)\"],[\"RENASANT CORP\",\"State Commercial Banks (commercial banking)\"],[\"RELIANT BANCORP, INC.\",\"State Commercial Banks (commercial banking)\"],[\"FIRST COMMUNITY CORP /SC/\",\"State Commercial Banks (commercial banking)\"],[\"FIRST FINANCIAL NORTHWEST, INC.\",\"State Commercial Banks (commercial banking)\"],[\"COMMERCE BANCSHARES INC /MO/\",\"State Commercial Banks (commercial banking)\"],[\"JUNIATA VALLEY FINANCIAL CORP\",\"State Commercial Banks (commercial banking)\"],[\"HOWARD BANCORP INC\",\"State Commercial Banks (commercial banking)\"],[\"EAGLE FINANCIAL SERVICES INC\",\"State Commercial Banks (commercial banking)\"],[\"MVB FINANCIAL CORP\",\"State Commercial Banks (commercial banking)\"],[\"INDEPENDENT BANK GROUP, INC.\",\"State Commercial Banks (commercial banking)\"],[\"CONNECTONE BANCORP, INC.\",\"State Commercial Banks (commercial banking)\"],[\"REPUBLIC BANCORP INC /KY/\",\"State Commercial Banks (commercial banking)\"],[\"SOUTHSIDE BANCSHARES INC\",\"State Commercial Banks (commercial banking)\"],[\"FIRST HAWAIIAN, INC.\",\"State Commercial Banks (commercial banking)\"],[\"FIRST US BANCSHARES INC\",\"State Commercial Banks (commercial banking)\"],[\"COMMUNITY FINANCIAL CORP /MD/\",\"State Commercial Banks (commercial banking)\"],[\"BANNER CORP\",\"State Commercial Banks (commercial banking)\"],[\"SVB FINANCIAL GROUP\",\"State Commercial Banks (commercial banking)\"],[\"CATHAY GENERAL BANCORP\",\"State Commercial Banks (commercial banking)\"],[\"BANK OF THE JAMES FINANCIAL GROUP INC\",\"State Commercial Banks (commercial banking)\"],[\"FLUSHING FINANCIAL CORP\",\"State Commercial Banks (commercial banking)\"],[\"FRANKLIN FINANCIAL SERVICES CORP /PA/\",\"State Commercial Banks (commercial banking)\"],[\"CENTRAL PACIFIC FINANCIAL CORP\",\"State Commercial Banks (commercial banking)\"],[\"CENTRAL PACIFIC FINANCIAL CORP\",\"State Commercial Banks (commercial banking)\"],[\"CENTRAL VALLEY COMMUNITY BANCORP\",\"State Commercial Banks (commercial banking)\"],[\"F&M BANK CORP\",\"State Commercial Banks (commercial banking)\"],[\"FARMERS NATIONAL BANC CORP /OH/\",\"State Commercial Banks (commercial banking)\"],[\"CITIZENS & NORTHERN CORP\",\"State Commercial Banks (commercial banking)\"],[\"GUARANTY FEDERAL BANCSHARES INC\",\"State Commercial Banks (commercial banking)\"],[\"CAROLINA FINANCIAL CORP\",\"State Commercial Banks (commercial banking)\"],[\"FIRST INTERNET BANCORP\",\"State Commercial Banks (commercial banking)\"],[\"HARBORONE BANCORP, INC.\",\"State Commercial Banks (commercial banking)\"],[\"UNITED BANKSHARES INC/WV\",\"State Commercial Banks (commercial banking)\"],[\"INDEPENDENT BANK CORP\",\"State Commercial Banks (commercial banking)\"],[\"CITIZENS FINANCIAL SERVICES INC\",\"State Commercial Banks (commercial banking)\"],[\"NORWOOD FINANCIAL CORP\",\"State Commercial Banks (commercial banking)\"],[\"WEST BANCORPORATION INC\",\"State Commercial Banks (commercial banking)\"],[\"CUSTOMERS BANCORP, INC.\",\"State Commercial Banks (commercial banking)\"],[\"WEST END INDIANA BANCSHARES, INC.\",\"State Commercial Banks (commercial banking)\"],[\"ATLANTIC CAPITAL BANCSHARES, INC.\",\"State Commercial Banks (commercial banking)\"],[\"IBERIABANK CORP\",\"State Commercial Banks (commercial banking)\"],[\"MERCANTILE BANK CORP\",\"State Commercial Banks (commercial banking)\"],[\"GERMAN AMERICAN BANCORP, INC.\",\"State Commercial Banks (commercial banking)\"],[\"S&T BANCORP INC\",\"State Commercial Banks (commercial banking)\"],[\"HILLTOP HOLDINGS INC.\",\"State Commercial Banks (commercial banking)\"],[\"CB FINANCIAL SERVICES, INC.\",\"State Commercial Banks (commercial banking)\"],[\"ENTERPRISE FINANCIAL SERVICES CORP\",\"State Commercial Banks (commercial banking)\"],[\"AUBURN NATIONAL BANCORPORATION, INC\",\"State Commercial Banks (commercial banking)\"],[\"FIRST KEYSTONE CORP\",\"State Commercial Banks (commercial banking)\"],[\"TEXAS CAPITAL BANCSHARES INC/TX\",\"State Commercial Banks (commercial banking)\"],[\"VILLAGE BANK & TRUST FINANCIAL CORP.\",\"State Commercial Banks (commercial banking)\"],[\"STOCK YARDS BANCORP, INC.\",\"State Commercial Banks (commercial banking)\"],[\"BUSINESS FIRST BANCSHARES, INC.\",\"State Commercial Banks (commercial banking)\"]],\"hovertemplate\":\"color=State Commercial Banks (commercial banking)<br>0=%{x}<br>1=%{y}<br>name=%{customdata[0]}<br>industry=%{customdata[1]}<extra></extra>\",\"legendgroup\":\"State Commercial Banks (commercial banking)\",\"marker\":{\"color\":\"#FFA15A\",\"symbol\":\"circle\"},\"mode\":\"markers\",\"name\":\"State Commercial Banks (commercial banking)\",\"orientation\":\"v\",\"showlegend\":true,\"x\":[0.567478182459492,0.5085795057788681,0.41912852828294717,0.6333840493649935,0.5778981679766647,0.6219978366871133,0.5693434534891734,0.3089058802570243,0.5261838768596041,0.5193351211415866,0.5193351211415866,0.012632032687585022,0.623250600233062,0.61069436877603,0.5709179846601178,0.536473771123437,0.4861403413860935,0.6119849784325342,0.5732983061357179,0.5672701655625386,0.5772384858220803,0.5772384858220803,0.5461570261631821,0.6275374953850803,0.529101350850026,0.6224765962895318,0.2806686572577031,0.6145907604453894,0.585827114337032,0.5927514323367349,0.4787871705950628,0.6136609328166991,0.5156144643073088,0.5857670600613507,0.5518097365083362,0.6146016702153595,0.61320038820646,0.6070849121219727,0.5339653309659926,0.3641658998731677,0.45516735815301224,0.0700649621399506,0.6322261010581555,0.5645376444609917,0.5510286313387085,0.09619417116352977,0.5105386928483565,0.572205796037685,0.5977204376340974,0.6284233309097402,0.6143224963754604,0.5387180540865265,0.5742632625443366,0.4984540202680545,0.5600712235044609,0.5857116496738975,0.5937949636522905,0.46183812357092235,0.5947910864922654,0.5947910864922654,0.556612090914092,0.5986764071494728,0.6505695299979289,0.6039222172225561,0.5676033032362884,0.6322831373878686,0.5160752052377313,0.5721188043011304,0.559720921983669,0.26854983828324896,0.5866682354108206,0.5629385953351934,0.6220402661980299,0.5763584745680886,0.4592284512159552,0.5882745074838805,0.605647584592934,0.5344945391213155,0.4775423682931669,-0.014283445875352047,0.5416425221316854,0.5824621868210845,0.5926427127571106,0.4037259843925443,0.5988682966272306,0.6193209483129118,0.6193209483129118,0.6126640225960697,0.00873249891264023,0.5360106524111804,0.21978862940529786,0.5219975193658319,0.6422150254023907,0.5919811968388359,0.5937815901811705,0.5718041881988076,0.46709817804458964,0.5593720777721468,0.5885106566691062,0.5909456483019755,0.5720047798339088,0.4511263787558062,0.6308158096848526,0.5901177252252037,0.5280323894583716,0.5313234503428249,0.20250211046838254,0.5759753484968924,0.3955455290254846,0.07691154042777253,0.6168180713041156,0.5214460938377011,0.5670267863176943,0.6092776707773552,0.4931646085967025,0.6592038188270383],\"xaxis\":\"x\",\"y\":[0.45071951723531145,0.3087113369247196,0.06359153657889999,0.5073753494600107,0.41510903945374844,0.5335225360501605,0.47669407780362344,0.09944273996833561,0.3553663397022543,0.4644042816640708,0.4644042816640708,-0.09894980148063603,0.4944624423848947,0.4466209599018134,0.4097789688200874,0.44424701143867956,0.2429684810286649,0.5057228187045962,0.4047930705797074,0.4342553411405171,0.4107866950500756,0.4107866950500756,0.4525800671943892,0.40578345993029946,0.21373930715277237,0.5010072332176109,0.0077030829888489255,0.41998890778748094,0.5100358221930306,0.49808444670440555,0.3994202779018372,0.4428088754041901,0.2945221113374277,0.49539135565630943,0.42140319675193155,0.4991025143077027,0.47553157712762073,0.3998011499305185,0.2831508728414722,0.24136959009612882,0.13883499758361237,-0.07345605595903283,0.4642878950211911,0.3894185516292256,0.4060733318745993,-0.03479002648237053,0.30463057120948167,0.48804822748391335,0.4977268202299333,0.4732444344596276,0.5171875833202675,0.4267315827218904,0.5006515416068362,0.3725265425697876,0.49008150336300116,0.3948710519562041,0.4099081755811948,0.2988303860147158,0.4965172189232106,0.4965172189232106,0.40470455362519436,0.5049330946909465,0.47340602509427127,0.35249419267596976,0.4962625051794354,0.5189477443347352,0.1877921575228038,0.4864426663751774,0.4237552832833733,-0.04839506511828017,0.4873995186523489,0.44382296283400496,0.503788785931329,0.4690975262877894,0.27509209959881636,0.49453969287059807,0.5108236729240097,0.43504146411963057,0.21125338366390845,-0.047246922169259735,0.4725238094685518,0.4152136868093492,0.48514401960244496,0.09531898570815434,0.3978211690687533,0.4596629609082196,0.4596629609082196,0.4854411416562519,-0.0490628704156047,0.4422841929037448,0.11650918717024654,0.26639352534130917,0.48572831147679335,0.4779153539577353,0.361798875278446,0.3647923841898211,0.14847237732144747,0.4682950612819822,0.40123227375593074,0.49673672385657586,0.45540092554617967,0.19198488850943715,0.4650308258368939,0.49224597372834966,0.2938262468024271,0.41929522154905324,0.124667664408355,0.44804373464295744,0.08820141803450672,-0.0312968091248865,0.5260692869203895,0.4281986980621192,0.47733605369735344,0.48601679781462215,0.4086776029915572,0.4870147514226131],\"yaxis\":\"y\",\"type\":\"scatter\"}],                        {\"template\":{\"data\":{\"histogram2dcontour\":[{\"type\":\"histogram2dcontour\",\"colorbar\":{\"outlinewidth\":0,\"ticks\":\"\"},\"colorscale\":[[0.0,\"#0d0887\"],[0.1111111111111111,\"#46039f\"],[0.2222222222222222,\"#7201a8\"],[0.3333333333333333,\"#9c179e\"],[0.4444444444444444,\"#bd3786\"],[0.5555555555555556,\"#d8576b\"],[0.6666666666666666,\"#ed7953\"],[0.7777777777777778,\"#fb9f3a\"],[0.8888888888888888,\"#fdca26\"],[1.0,\"#f0f921\"]]}],\"choropleth\":[{\"type\":\"choropleth\",\"colorbar\":{\"outlinewidth\":0,\"ticks\":\"\"}}],\"histogram2d\":[{\"type\":\"histogram2d\",\"colorbar\":{\"outlinewidth\":0,\"ticks\":\"\"},\"colorscale\":[[0.0,\"#0d0887\"],[0.1111111111111111,\"#46039f\"],[0.2222222222222222,\"#7201a8\"],[0.3333333333333333,\"#9c179e\"],[0.4444444444444444,\"#bd3786\"],[0.5555555555555556,\"#d8576b\"],[0.6666666666666666,\"#ed7953\"],[0.7777777777777778,\"#fb9f3a\"],[0.8888888888888888,\"#fdca26\"],[1.0,\"#f0f921\"]]}],\"heatmap\":[{\"type\":\"heatmap\",\"colorbar\":{\"outlinewidth\":0,\"ticks\":\"\"},\"colorscale\":[[0.0,\"#0d0887\"],[0.1111111111111111,\"#46039f\"],[0.2222222222222222,\"#7201a8\"],[0.3333333333333333,\"#9c179e\"],[0.4444444444444444,\"#bd3786\"],[0.5555555555555556,\"#d8576b\"],[0.6666666666666666,\"#ed7953\"],[0.7777777777777778,\"#fb9f3a\"],[0.8888888888888888,\"#fdca26\"],[1.0,\"#f0f921\"]]}],\"heatmapgl\":[{\"type\":\"heatmapgl\",\"colorbar\":{\"outlinewidth\":0,\"ticks\":\"\"},\"colorscale\":[[0.0,\"#0d0887\"],[0.1111111111111111,\"#46039f\"],[0.2222222222222222,\"#7201a8\"],[0.3333333333333333,\"#9c179e\"],[0.4444444444444444,\"#bd3786\"],[0.5555555555555556,\"#d8576b\"],[0.6666666666666666,\"#ed7953\"],[0.7777777777777778,\"#fb9f3a\"],[0.8888888888888888,\"#fdca26\"],[1.0,\"#f0f921\"]]}],\"contourcarpet\":[{\"type\":\"contourcarpet\",\"colorbar\":{\"outlinewidth\":0,\"ticks\":\"\"}}],\"contour\":[{\"type\":\"contour\",\"colorbar\":{\"outlinewidth\":0,\"ticks\":\"\"},\"colorscale\":[[0.0,\"#0d0887\"],[0.1111111111111111,\"#46039f\"],[0.2222222222222222,\"#7201a8\"],[0.3333333333333333,\"#9c179e\"],[0.4444444444444444,\"#bd3786\"],[0.5555555555555556,\"#d8576b\"],[0.6666666666666666,\"#ed7953\"],[0.7777777777777778,\"#fb9f3a\"],[0.8888888888888888,\"#fdca26\"],[1.0,\"#f0f921\"]]}],\"surface\":[{\"type\":\"surface\",\"colorbar\":{\"outlinewidth\":0,\"ticks\":\"\"},\"colorscale\":[[0.0,\"#0d0887\"],[0.1111111111111111,\"#46039f\"],[0.2222222222222222,\"#7201a8\"],[0.3333333333333333,\"#9c179e\"],[0.4444444444444444,\"#bd3786\"],[0.5555555555555556,\"#d8576b\"],[0.6666666666666666,\"#ed7953\"],[0.7777777777777778,\"#fb9f3a\"],[0.8888888888888888,\"#fdca26\"],[1.0,\"#f0f921\"]]}],\"mesh3d\":[{\"type\":\"mesh3d\",\"colorbar\":{\"outlinewidth\":0,\"ticks\":\"\"}}],\"scatter\":[{\"fillpattern\":{\"fillmode\":\"overlay\",\"size\":10,\"solidity\":0.2},\"type\":\"scatter\"}],\"parcoords\":[{\"type\":\"parcoords\",\"line\":{\"colorbar\":{\"outlinewidth\":0,\"ticks\":\"\"}}}],\"scatterpolargl\":[{\"type\":\"scatterpolargl\",\"marker\":{\"colorbar\":{\"outlinewidth\":0,\"ticks\":\"\"}}}],\"bar\":[{\"error_x\":{\"color\":\"#2a3f5f\"},\"error_y\":{\"color\":\"#2a3f5f\"},\"marker\":{\"line\":{\"color\":\"#E5ECF6\",\"width\":0.5},\"pattern\":{\"fillmode\":\"overlay\",\"size\":10,\"solidity\":0.2}},\"type\":\"bar\"}],\"scattergeo\":[{\"type\":\"scattergeo\",\"marker\":{\"colorbar\":{\"outlinewidth\":0,\"ticks\":\"\"}}}],\"scatterpolar\":[{\"type\":\"scatterpolar\",\"marker\":{\"colorbar\":{\"outlinewidth\":0,\"ticks\":\"\"}}}],\"histogram\":[{\"marker\":{\"pattern\":{\"fillmode\":\"overlay\",\"size\":10,\"solidity\":0.2}},\"type\":\"histogram\"}],\"scattergl\":[{\"type\":\"scattergl\",\"marker\":{\"colorbar\":{\"outlinewidth\":0,\"ticks\":\"\"}}}],\"scatter3d\":[{\"type\":\"scatter3d\",\"line\":{\"colorbar\":{\"outlinewidth\":0,\"ticks\":\"\"}},\"marker\":{\"colorbar\":{\"outlinewidth\":0,\"ticks\":\"\"}}}],\"scattermapbox\":[{\"type\":\"scattermapbox\",\"marker\":{\"colorbar\":{\"outlinewidth\":0,\"ticks\":\"\"}}}],\"scatterternary\":[{\"type\":\"scatterternary\",\"marker\":{\"colorbar\":{\"outlinewidth\":0,\"ticks\":\"\"}}}],\"scattercarpet\":[{\"type\":\"scattercarpet\",\"marker\":{\"colorbar\":{\"outlinewidth\":0,\"ticks\":\"\"}}}],\"carpet\":[{\"aaxis\":{\"endlinecolor\":\"#2a3f5f\",\"gridcolor\":\"white\",\"linecolor\":\"white\",\"minorgridcolor\":\"white\",\"startlinecolor\":\"#2a3f5f\"},\"baxis\":{\"endlinecolor\":\"#2a3f5f\",\"gridcolor\":\"white\",\"linecolor\":\"white\",\"minorgridcolor\":\"white\",\"startlinecolor\":\"#2a3f5f\"},\"type\":\"carpet\"}],\"table\":[{\"cells\":{\"fill\":{\"color\":\"#EBF0F8\"},\"line\":{\"color\":\"white\"}},\"header\":{\"fill\":{\"color\":\"#C8D4E3\"},\"line\":{\"color\":\"white\"}},\"type\":\"table\"}],\"barpolar\":[{\"marker\":{\"line\":{\"color\":\"#E5ECF6\",\"width\":0.5},\"pattern\":{\"fillmode\":\"overlay\",\"size\":10,\"solidity\":0.2}},\"type\":\"barpolar\"}],\"pie\":[{\"automargin\":true,\"type\":\"pie\"}]},\"layout\":{\"autotypenumbers\":\"strict\",\"colorway\":[\"#636efa\",\"#EF553B\",\"#00cc96\",\"#ab63fa\",\"#FFA15A\",\"#19d3f3\",\"#FF6692\",\"#B6E880\",\"#FF97FF\",\"#FECB52\"],\"font\":{\"color\":\"#2a3f5f\"},\"hovermode\":\"closest\",\"hoverlabel\":{\"align\":\"left\"},\"paper_bgcolor\":\"white\",\"plot_bgcolor\":\"#E5ECF6\",\"polar\":{\"bgcolor\":\"#E5ECF6\",\"angularaxis\":{\"gridcolor\":\"white\",\"linecolor\":\"white\",\"ticks\":\"\"},\"radialaxis\":{\"gridcolor\":\"white\",\"linecolor\":\"white\",\"ticks\":\"\"}},\"ternary\":{\"bgcolor\":\"#E5ECF6\",\"aaxis\":{\"gridcolor\":\"white\",\"linecolor\":\"white\",\"ticks\":\"\"},\"baxis\":{\"gridcolor\":\"white\",\"linecolor\":\"white\",\"ticks\":\"\"},\"caxis\":{\"gridcolor\":\"white\",\"linecolor\":\"white\",\"ticks\":\"\"}},\"coloraxis\":{\"colorbar\":{\"outlinewidth\":0,\"ticks\":\"\"}},\"colorscale\":{\"sequential\":[[0.0,\"#0d0887\"],[0.1111111111111111,\"#46039f\"],[0.2222222222222222,\"#7201a8\"],[0.3333333333333333,\"#9c179e\"],[0.4444444444444444,\"#bd3786\"],[0.5555555555555556,\"#d8576b\"],[0.6666666666666666,\"#ed7953\"],[0.7777777777777778,\"#fb9f3a\"],[0.8888888888888888,\"#fdca26\"],[1.0,\"#f0f921\"]],\"sequentialminus\":[[0.0,\"#0d0887\"],[0.1111111111111111,\"#46039f\"],[0.2222222222222222,\"#7201a8\"],[0.3333333333333333,\"#9c179e\"],[0.4444444444444444,\"#bd3786\"],[0.5555555555555556,\"#d8576b\"],[0.6666666666666666,\"#ed7953\"],[0.7777777777777778,\"#fb9f3a\"],[0.8888888888888888,\"#fdca26\"],[1.0,\"#f0f921\"]],\"diverging\":[[0,\"#8e0152\"],[0.1,\"#c51b7d\"],[0.2,\"#de77ae\"],[0.3,\"#f1b6da\"],[0.4,\"#fde0ef\"],[0.5,\"#f7f7f7\"],[0.6,\"#e6f5d0\"],[0.7,\"#b8e186\"],[0.8,\"#7fbc41\"],[0.9,\"#4d9221\"],[1,\"#276419\"]]},\"xaxis\":{\"gridcolor\":\"white\",\"linecolor\":\"white\",\"ticks\":\"\",\"title\":{\"standoff\":15},\"zerolinecolor\":\"white\",\"automargin\":true,\"zerolinewidth\":2},\"yaxis\":{\"gridcolor\":\"white\",\"linecolor\":\"white\",\"ticks\":\"\",\"title\":{\"standoff\":15},\"zerolinecolor\":\"white\",\"automargin\":true,\"zerolinewidth\":2},\"scene\":{\"xaxis\":{\"backgroundcolor\":\"#E5ECF6\",\"gridcolor\":\"white\",\"linecolor\":\"white\",\"showbackground\":true,\"ticks\":\"\",\"zerolinecolor\":\"white\",\"gridwidth\":2},\"yaxis\":{\"backgroundcolor\":\"#E5ECF6\",\"gridcolor\":\"white\",\"linecolor\":\"white\",\"showbackground\":true,\"ticks\":\"\",\"zerolinecolor\":\"white\",\"gridwidth\":2},\"zaxis\":{\"backgroundcolor\":\"#E5ECF6\",\"gridcolor\":\"white\",\"linecolor\":\"white\",\"showbackground\":true,\"ticks\":\"\",\"zerolinecolor\":\"white\",\"gridwidth\":2}},\"shapedefaults\":{\"line\":{\"color\":\"#2a3f5f\"}},\"annotationdefaults\":{\"arrowcolor\":\"#2a3f5f\",\"arrowhead\":0,\"arrowwidth\":1},\"geo\":{\"bgcolor\":\"white\",\"landcolor\":\"#E5ECF6\",\"subunitcolor\":\"white\",\"showland\":true,\"showlakes\":true,\"lakecolor\":\"white\"},\"title\":{\"x\":0.05},\"mapbox\":{\"style\":\"light\"}}},\"xaxis\":{\"anchor\":\"y\",\"domain\":[0.0,1.0],\"title\":{\"text\":\"0\"}},\"yaxis\":{\"anchor\":\"x\",\"domain\":[0.0,1.0],\"title\":{\"text\":\"1\"}},\"legend\":{\"title\":{\"text\":\"color\"},\"tracegroupgap\":0,\"orientation\":\"h\",\"yanchor\":\"bottom\",\"y\":-0.25,\"xanchor\":\"center\",\"x\":0.5},\"margin\":{\"t\":60},\"height\":700,\"width\":1100},                        {\"responsive\": true}                    ).then(function(){\n",
       "                            \n",
       "var gd = document.getElementById('92f96097-5685-42d9-85f5-f7a36247622e');\n",
       "var x = new MutationObserver(function (mutations, observer) {{\n",
       "        var display = window.getComputedStyle(gd).display;\n",
       "        if (!display || display === 'none') {{\n",
       "            console.log([gd, 'removed!']);\n",
       "            Plotly.purge(gd);\n",
       "            observer.disconnect();\n",
       "        }}\n",
       "}});\n",
       "\n",
       "// Listen for the removal of the full notebook cells\n",
       "var notebookContainer = gd.closest('#notebook-container');\n",
       "if (notebookContainer) {{\n",
       "    x.observe(notebookContainer, {childList: true});\n",
       "}}\n",
       "\n",
       "// Listen for the clearing of the current output cell\n",
       "var outputEl = gd.closest('.output');\n",
       "if (outputEl) {{\n",
       "    x.observe(outputEl, {childList: true});\n",
       "}}\n",
       "\n",
       "                        })                };                });            </script>        </div>"
      ]
     },
     "metadata": {},
     "output_type": "display_data"
    }
   ],
   "source": [
    "from sklearn.feature_extraction.text import TfidfTransformer\n",
    "from sklearn.feature_extraction.text import CountVectorizer\n",
    "from sklearn.pipeline import Pipeline\n",
    "\n",
    "df = pd.read_csv(\"../data/preprocessed.csv\")\n",
    "pipe = Pipeline([('count', CountVectorizer(ngram_range = (2,4),\n",
    "                                           stop_words = 'english', max_features = 600)),\n",
    "                  ('tfidf', TfidfTransformer())]).fit(df[\"coDescription_stopwords\"])\n",
    "tfidf =  pd.DataFrame(pipe.transform(df[\"coDescription_stopwords\"]).toarray())\n",
    "plot = std_func.pca_visualize_2d(tfidf, df.loc[:,[\"name\",\"SIC_desc\"]])\n",
    "std_func.pca_visualize_3d(plot)"
   ]
  },
  {
   "cell_type": "markdown",
   "id": "aced136f-e571-46d4-9871-80ae2437240d",
   "metadata": {},
   "source": [
    "And this is a 3-dimensional plot which plots the first three dimensions. You can interact with it and enhance your view of it as well."
   ]
  },
  {
   "cell_type": "code",
   "execution_count": 13,
   "id": "8682ebdb-2861-4e16-b828-34aba9967260",
   "metadata": {},
   "outputs": [
    {
     "ename": "IndentationError",
     "evalue": "unindent does not match any outer indentation level (<tokenize>, line 4)",
     "output_type": "error",
     "traceback": [
      "\u001b[0;36m  File \u001b[0;32m<tokenize>:4\u001b[0;36m\u001b[0m\n\u001b[0;31m    else:\u001b[0m\n\u001b[0m    ^\u001b[0m\n\u001b[0;31mIndentationError\u001b[0m\u001b[0;31m:\u001b[0m unindent does not match any outer indentation level\n"
     ]
    }
   ],
   "source": [
    "# std_func.pca_visualize_3d(plot)"
   ]
  }
 ],
 "metadata": {
  "kernelspec": {
   "display_name": "Python 3 (ipykernel)",
   "language": "python",
   "name": "python3"
  },
  "language_info": {
   "codemirror_mode": {
    "name": "ipython",
    "version": 3
   },
   "file_extension": ".py",
   "mimetype": "text/x-python",
   "name": "python",
   "nbconvert_exporter": "python",
   "pygments_lexer": "ipython3",
   "version": "3.9.12"
  }
 },
 "nbformat": 4,
 "nbformat_minor": 5
}

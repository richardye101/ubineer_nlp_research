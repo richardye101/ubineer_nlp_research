{
 "cells": [
  {
   "cell_type": "code",
   "execution_count": 1,
   "id": "1bcaa702",
   "metadata": {
    "tags": [
     "remove-input"
    ]
   },
   "outputs": [
    {
     "ename": "ModuleNotFoundError",
     "evalue": "No module named 'pattern'",
     "output_type": "error",
     "traceback": [
      "\u001b[0;31m---------------------------------------------------------------------------\u001b[0m",
      "\u001b[0;31mModuleNotFoundError\u001b[0m                       Traceback (most recent call last)",
      "Input \u001b[0;32mIn [1]\u001b[0m, in \u001b[0;36m<cell line: 5>\u001b[0;34m()\u001b[0m\n\u001b[1;32m      3\u001b[0m get_ipython()\u001b[38;5;241m.\u001b[39mrun_line_magic(\u001b[38;5;124m'\u001b[39m\u001b[38;5;124mload_ext\u001b[39m\u001b[38;5;124m'\u001b[39m, \u001b[38;5;124m'\u001b[39m\u001b[38;5;124mautoreload\u001b[39m\u001b[38;5;124m'\u001b[39m)\n\u001b[1;32m      4\u001b[0m get_ipython()\u001b[38;5;241m.\u001b[39mrun_line_magic(\u001b[38;5;124m'\u001b[39m\u001b[38;5;124mautoreload\u001b[39m\u001b[38;5;124m'\u001b[39m, \u001b[38;5;124m'\u001b[39m\u001b[38;5;124m2\u001b[39m\u001b[38;5;124m'\u001b[39m)\n\u001b[0;32m----> 5\u001b[0m \u001b[43mget_ipython\u001b[49m\u001b[43m(\u001b[49m\u001b[43m)\u001b[49m\u001b[38;5;241;43m.\u001b[39;49m\u001b[43mrun_line_magic\u001b[49m\u001b[43m(\u001b[49m\u001b[38;5;124;43m'\u001b[39;49m\u001b[38;5;124;43maimport\u001b[39;49m\u001b[38;5;124;43m'\u001b[39;49m\u001b[43m,\u001b[49m\u001b[43m \u001b[49m\u001b[38;5;124;43m'\u001b[39;49m\u001b[38;5;124;43mstd_func\u001b[39;49m\u001b[38;5;124;43m'\u001b[39;49m\u001b[43m)\u001b[49m\n\u001b[1;32m      7\u001b[0m \u001b[38;5;66;03m# Hide warnings\u001b[39;00m\n\u001b[1;32m      8\u001b[0m \u001b[38;5;28;01mimport\u001b[39;00m \u001b[38;5;21;01mwarnings\u001b[39;00m\n",
      "File \u001b[0;32m/usr/local/lib/python3.9/site-packages/IPython/core/interactiveshell.py:2294\u001b[0m, in \u001b[0;36mInteractiveShell.run_line_magic\u001b[0;34m(self, magic_name, line, _stack_depth)\u001b[0m\n\u001b[1;32m   2292\u001b[0m     kwargs[\u001b[38;5;124m'\u001b[39m\u001b[38;5;124mlocal_ns\u001b[39m\u001b[38;5;124m'\u001b[39m] \u001b[38;5;241m=\u001b[39m \u001b[38;5;28mself\u001b[39m\u001b[38;5;241m.\u001b[39mget_local_scope(stack_depth)\n\u001b[1;32m   2293\u001b[0m \u001b[38;5;28;01mwith\u001b[39;00m \u001b[38;5;28mself\u001b[39m\u001b[38;5;241m.\u001b[39mbuiltin_trap:\n\u001b[0;32m-> 2294\u001b[0m     result \u001b[38;5;241m=\u001b[39m \u001b[43mfn\u001b[49m\u001b[43m(\u001b[49m\u001b[38;5;241;43m*\u001b[39;49m\u001b[43margs\u001b[49m\u001b[43m,\u001b[49m\u001b[43m \u001b[49m\u001b[38;5;241;43m*\u001b[39;49m\u001b[38;5;241;43m*\u001b[39;49m\u001b[43mkwargs\u001b[49m\u001b[43m)\u001b[49m\n\u001b[1;32m   2295\u001b[0m \u001b[38;5;28;01mreturn\u001b[39;00m result\n",
      "File \u001b[0;32m/usr/local/lib/python3.9/site-packages/IPython/extensions/autoreload.py:599\u001b[0m, in \u001b[0;36mAutoreloadMagics.aimport\u001b[0;34m(self, parameter_s, stream)\u001b[0m\n\u001b[1;32m    597\u001b[0m \u001b[38;5;28;01melse\u001b[39;00m:\n\u001b[1;32m    598\u001b[0m     \u001b[38;5;28;01mfor\u001b[39;00m _module \u001b[38;5;129;01min\u001b[39;00m [_\u001b[38;5;241m.\u001b[39mstrip() \u001b[38;5;28;01mfor\u001b[39;00m _ \u001b[38;5;129;01min\u001b[39;00m modname\u001b[38;5;241m.\u001b[39msplit(\u001b[38;5;124m\"\u001b[39m\u001b[38;5;124m,\u001b[39m\u001b[38;5;124m\"\u001b[39m)]:\n\u001b[0;32m--> 599\u001b[0m         top_module, top_name \u001b[38;5;241m=\u001b[39m \u001b[38;5;28;43mself\u001b[39;49m\u001b[38;5;241;43m.\u001b[39;49m\u001b[43m_reloader\u001b[49m\u001b[38;5;241;43m.\u001b[39;49m\u001b[43maimport_module\u001b[49m\u001b[43m(\u001b[49m\u001b[43m_module\u001b[49m\u001b[43m)\u001b[49m\n\u001b[1;32m    601\u001b[0m         \u001b[38;5;66;03m# Inject module to user namespace\u001b[39;00m\n\u001b[1;32m    602\u001b[0m         \u001b[38;5;28mself\u001b[39m\u001b[38;5;241m.\u001b[39mshell\u001b[38;5;241m.\u001b[39mpush({top_name: top_module})\n",
      "File \u001b[0;32m/usr/local/lib/python3.9/site-packages/IPython/extensions/autoreload.py:187\u001b[0m, in \u001b[0;36mModuleReloader.aimport_module\u001b[0;34m(self, module_name)\u001b[0m\n\u001b[1;32m    175\u001b[0m \u001b[38;5;124;03m\"\"\"Import a module, and mark it reloadable\u001b[39;00m\n\u001b[1;32m    176\u001b[0m \n\u001b[1;32m    177\u001b[0m \u001b[38;5;124;03mReturns\u001b[39;00m\n\u001b[0;32m   (...)\u001b[0m\n\u001b[1;32m    183\u001b[0m \n\u001b[1;32m    184\u001b[0m \u001b[38;5;124;03m\"\"\"\u001b[39;00m\n\u001b[1;32m    185\u001b[0m \u001b[38;5;28mself\u001b[39m\u001b[38;5;241m.\u001b[39mmark_module_reloadable(module_name)\n\u001b[0;32m--> 187\u001b[0m \u001b[43mimport_module\u001b[49m\u001b[43m(\u001b[49m\u001b[43mmodule_name\u001b[49m\u001b[43m)\u001b[49m\n\u001b[1;32m    188\u001b[0m top_name \u001b[38;5;241m=\u001b[39m module_name\u001b[38;5;241m.\u001b[39msplit(\u001b[38;5;124m\"\u001b[39m\u001b[38;5;124m.\u001b[39m\u001b[38;5;124m\"\u001b[39m)[\u001b[38;5;241m0\u001b[39m]\n\u001b[1;32m    189\u001b[0m top_module \u001b[38;5;241m=\u001b[39m sys\u001b[38;5;241m.\u001b[39mmodules[top_name]\n",
      "File \u001b[0;32m/usr/local/Cellar/python@3.9/3.9.12/Frameworks/Python.framework/Versions/3.9/lib/python3.9/importlib/__init__.py:127\u001b[0m, in \u001b[0;36mimport_module\u001b[0;34m(name, package)\u001b[0m\n\u001b[1;32m    125\u001b[0m             \u001b[38;5;28;01mbreak\u001b[39;00m\n\u001b[1;32m    126\u001b[0m         level \u001b[38;5;241m+\u001b[39m\u001b[38;5;241m=\u001b[39m \u001b[38;5;241m1\u001b[39m\n\u001b[0;32m--> 127\u001b[0m \u001b[38;5;28;01mreturn\u001b[39;00m \u001b[43m_bootstrap\u001b[49m\u001b[38;5;241;43m.\u001b[39;49m\u001b[43m_gcd_import\u001b[49m\u001b[43m(\u001b[49m\u001b[43mname\u001b[49m\u001b[43m[\u001b[49m\u001b[43mlevel\u001b[49m\u001b[43m:\u001b[49m\u001b[43m]\u001b[49m\u001b[43m,\u001b[49m\u001b[43m \u001b[49m\u001b[43mpackage\u001b[49m\u001b[43m,\u001b[49m\u001b[43m \u001b[49m\u001b[43mlevel\u001b[49m\u001b[43m)\u001b[49m\n",
      "File \u001b[0;32m<frozen importlib._bootstrap>:1030\u001b[0m, in \u001b[0;36m_gcd_import\u001b[0;34m(name, package, level)\u001b[0m\n",
      "File \u001b[0;32m<frozen importlib._bootstrap>:1007\u001b[0m, in \u001b[0;36m_find_and_load\u001b[0;34m(name, import_)\u001b[0m\n",
      "File \u001b[0;32m<frozen importlib._bootstrap>:986\u001b[0m, in \u001b[0;36m_find_and_load_unlocked\u001b[0;34m(name, import_)\u001b[0m\n",
      "File \u001b[0;32m<frozen importlib._bootstrap>:680\u001b[0m, in \u001b[0;36m_load_unlocked\u001b[0;34m(spec)\u001b[0m\n",
      "File \u001b[0;32m<frozen importlib._bootstrap_external>:850\u001b[0m, in \u001b[0;36mexec_module\u001b[0;34m(self, module)\u001b[0m\n",
      "File \u001b[0;32m<frozen importlib._bootstrap>:228\u001b[0m, in \u001b[0;36m_call_with_frames_removed\u001b[0;34m(f, *args, **kwds)\u001b[0m\n",
      "File \u001b[0;32m~/Documents/GitHub/ubineer_nlp_research/content/peitong/../std_func.py:19\u001b[0m, in \u001b[0;36m<module>\u001b[0;34m\u001b[0m\n\u001b[1;32m     17\u001b[0m \u001b[38;5;28;01mfrom\u001b[39;00m \u001b[38;5;21;01msklearn\u001b[39;00m\u001b[38;5;21;01m.\u001b[39;00m\u001b[38;5;21;01mcluster\u001b[39;00m \u001b[38;5;28;01mimport\u001b[39;00m KMeans\n\u001b[1;32m     18\u001b[0m \u001b[38;5;28;01mimport\u001b[39;00m \u001b[38;5;21;01mplotly\u001b[39;00m\u001b[38;5;21;01m.\u001b[39;00m\u001b[38;5;21;01mexpress\u001b[39;00m \u001b[38;5;28;01mas\u001b[39;00m \u001b[38;5;21;01mpx\u001b[39;00m\n\u001b[0;32m---> 19\u001b[0m \u001b[38;5;28;01mimport\u001b[39;00m \u001b[38;5;21;01mpattern\u001b[39;00m\n\u001b[1;32m     20\u001b[0m \u001b[38;5;28;01mimport\u001b[39;00m \u001b[38;5;21;01mcollections\u001b[39;00m\n\u001b[1;32m     21\u001b[0m \u001b[38;5;28;01mfrom\u001b[39;00m \u001b[38;5;21;01mpattern\u001b[39;00m\u001b[38;5;21;01m.\u001b[39;00m\u001b[38;5;21;01men\u001b[39;00m \u001b[38;5;28;01mimport\u001b[39;00m parsetree, singularize\n",
      "\u001b[0;31mModuleNotFoundError\u001b[0m: No module named 'pattern'"
     ]
    }
   ],
   "source": [
    "import sys\n",
    "sys.path.insert(0, '..')\n",
    "%load_ext autoreload\n",
    "%autoreload 2\n",
    "%aimport std_func\n",
    "\n",
    "# Hide warnings\n",
    "import warnings\n",
    "warnings.filterwarnings(\"ignore\")"
   ]
  },
  {
   "cell_type": "markdown",
   "id": "d9148826",
   "metadata": {},
   "source": [
    "## Estimates from Sample Covariance\n",
    "\n",
    "The portfolios we constructed in this notebook serve as reference to the portfolios using cosine similarity estimates and factor model estimates. Here, we simply use the sample return and sample covariance to generate portfolios for each industry."
   ]
  },
  {
   "cell_type": "code",
   "execution_count": 2,
   "id": "12347323",
   "metadata": {
    "tags": [
     "hide-input"
    ]
   },
   "outputs": [],
   "source": [
    "import pandas as pd\n",
    "import numpy as np\n",
    "import matplotlib.pyplot as plt\n",
    "import seaborn as sns"
   ]
  },
  {
   "cell_type": "code",
   "execution_count": 3,
   "id": "89f2f46b",
   "metadata": {
    "tags": [
     "remove-input"
    ]
   },
   "outputs": [],
   "source": [
    "r_selected = pd.read_csv(\"data/filtered_r.csv\")\n",
    "# get the mean of all \n",
    "r_selected.set_index(\"name\", inplace = True)\n",
    "mu = r_selected.mean(axis = 1)\n",
    "# compute the covariance matrix \n",
    "cov = r_selected.T.cov()"
   ]
  },
  {
   "cell_type": "markdown",
   "id": "70db3425",
   "metadata": {},
   "source": [
    "### Perform Mean-Variance Analysis\n",
    "We will use one industry per time to generate a minimum-variance portfolio. In our demonstration of mean-variance analysis process, we use the industry `pharmaceutical preparations` whose SIC code is `2834`. At the end, we will show the results for other industries. \n",
    "\n",
    "We first get the name list of `pharmaceutical preparations` companies and match the names with the companies in returns data. Then, we get the sample mean and sample covariance for this specific industry. We get the efficient frontier, the set of optimal portfolios, for the industry; and recognize the minimum-variance portfolio."
   ]
  },
  {
   "cell_type": "code",
   "execution_count": 4,
   "id": "a1bce350",
   "metadata": {
    "scrolled": true,
    "tags": [
     "remove-input",
     "remove-output"
    ]
   },
   "outputs": [],
   "source": [
    "#!pip install dataframe_image"
   ]
  },
  {
   "cell_type": "code",
   "execution_count": 5,
   "id": "585c801a",
   "metadata": {
    "tags": [
     "remove-input",
     "remove-output"
    ]
   },
   "outputs": [
    {
     "name": "stdout",
     "output_type": "stream",
     "text": [
      "Requirement already satisfied: PyPortfolioOpt in /Users/richardye/anaconda3/lib/python3.9/site-packages (1.5.2)\r\n"
     ]
    },
    {
     "name": "stdout",
     "output_type": "stream",
     "text": [
      "Requirement already satisfied: pandas>=0.19 in /Users/richardye/anaconda3/lib/python3.9/site-packages (from PyPortfolioOpt) (1.3.4)\r\n",
      "Requirement already satisfied: cvxpy<2.0.0,>=1.1.10 in /Users/richardye/anaconda3/lib/python3.9/site-packages (from PyPortfolioOpt) (1.2.0)\r\n",
      "Requirement already satisfied: scipy<2.0,>=1.3 in /Users/richardye/anaconda3/lib/python3.9/site-packages (from PyPortfolioOpt) (1.7.1)\r\n",
      "Requirement already satisfied: numpy<2.0,>=1.12 in /Users/richardye/anaconda3/lib/python3.9/site-packages (from PyPortfolioOpt) (1.20.3)\r\n",
      "Requirement already satisfied: scs>=1.1.6 in /Users/richardye/anaconda3/lib/python3.9/site-packages (from cvxpy<2.0.0,>=1.1.10->PyPortfolioOpt) (3.2.0)\r\n",
      "Requirement already satisfied: ecos>=2 in /Users/richardye/anaconda3/lib/python3.9/site-packages (from cvxpy<2.0.0,>=1.1.10->PyPortfolioOpt) (2.0.10)\r\n",
      "Requirement already satisfied: osqp>=0.4.1 in /Users/richardye/anaconda3/lib/python3.9/site-packages (from cvxpy<2.0.0,>=1.1.10->PyPortfolioOpt) (0.6.2.post5)\r\n",
      "Requirement already satisfied: qdldl in /Users/richardye/anaconda3/lib/python3.9/site-packages (from osqp>=0.4.1->cvxpy<2.0.0,>=1.1.10->PyPortfolioOpt) (0.1.5.post2)\r\n"
     ]
    },
    {
     "name": "stdout",
     "output_type": "stream",
     "text": [
      "Requirement already satisfied: python-dateutil>=2.7.3 in /Users/richardye/anaconda3/lib/python3.9/site-packages (from pandas>=0.19->PyPortfolioOpt) (2.8.2)\r\n",
      "Requirement already satisfied: pytz>=2017.3 in /Users/richardye/anaconda3/lib/python3.9/site-packages (from pandas>=0.19->PyPortfolioOpt) (2021.3)\r\n",
      "Requirement already satisfied: six>=1.5 in /Users/richardye/anaconda3/lib/python3.9/site-packages (from python-dateutil>=2.7.3->pandas>=0.19->PyPortfolioOpt) (1.16.0)\r\n"
     ]
    }
   ],
   "source": [
    "!pip install PyPortfolioOpt"
   ]
  },
  {
   "cell_type": "code",
   "execution_count": 6,
   "id": "f245cf2e",
   "metadata": {
    "tags": [
     "hide-input"
    ]
   },
   "outputs": [
    {
     "ename": "ModuleNotFoundError",
     "evalue": "No module named 'pypfopt'",
     "output_type": "error",
     "traceback": [
      "\u001b[0;31m---------------------------------------------------------------------------\u001b[0m",
      "\u001b[0;31mModuleNotFoundError\u001b[0m                       Traceback (most recent call last)",
      "Input \u001b[0;32mIn [6]\u001b[0m, in \u001b[0;36m<cell line: 1>\u001b[0;34m()\u001b[0m\n\u001b[0;32m----> 1\u001b[0m \u001b[38;5;28;01mfrom\u001b[39;00m \u001b[38;5;21;01mpypfopt\u001b[39;00m \u001b[38;5;28;01mimport\u001b[39;00m EfficientFrontier\n\u001b[1;32m      2\u001b[0m \u001b[38;5;28;01mfrom\u001b[39;00m \u001b[38;5;21;01mpypfopt\u001b[39;00m \u001b[38;5;28;01mimport\u001b[39;00m risk_models\n\u001b[1;32m      3\u001b[0m \u001b[38;5;28;01mfrom\u001b[39;00m \u001b[38;5;21;01mpypfopt\u001b[39;00m \u001b[38;5;28;01mimport\u001b[39;00m expected_returns\n",
      "\u001b[0;31mModuleNotFoundError\u001b[0m: No module named 'pypfopt'"
     ]
    }
   ],
   "source": [
    "from pypfopt import EfficientFrontier\n",
    "from pypfopt import risk_models\n",
    "from pypfopt import expected_returns\n",
    "from pypfopt import objective_functions\n",
    "from pypfopt import plotting"
   ]
  },
  {
   "cell_type": "code",
   "execution_count": 7,
   "id": "bd7b3ef3",
   "metadata": {
    "tags": [
     "hide-input"
    ]
   },
   "outputs": [],
   "source": [
    "df = pd.read_csv('../data/preprocessed.csv',\n",
    "                 usecols = ['reportingDate', 'name', 'CIK',\n",
    "                           'coDescription_stopwords', 'SIC', 'SIC_desc'])\n",
    "df = df.set_index(df.name)"
   ]
  },
  {
   "cell_type": "code",
   "execution_count": 8,
   "id": "b9f6cdc4",
   "metadata": {
    "tags": [
     "hide-input"
    ]
   },
   "outputs": [],
   "source": [
    "# get the names of the companies in the pharmaceutical preparations industry\n",
    "Pharm = df[df.SIC == 2834]\n",
    "Pharm_list = Pharm.index"
   ]
  },
  {
   "cell_type": "code",
   "execution_count": 9,
   "id": "98c532c4",
   "metadata": {
    "scrolled": true,
    "tags": [
     "hide-input"
    ]
   },
   "outputs": [],
   "source": [
    "# get the companies name that match return data and business description data\n",
    "SET = (set(Pharm_list) & set(r_selected.index))\n",
    "LIST = [*SET, ]"
   ]
  },
  {
   "cell_type": "markdown",
   "id": "270561f4",
   "metadata": {},
   "source": [
    "#### Sample Mean for the Pharmaceutical Preparations Industry"
   ]
  },
  {
   "cell_type": "code",
   "execution_count": 10,
   "id": "7b6da842",
   "metadata": {
    "tags": [
     "remove-input"
    ]
   },
   "outputs": [
    {
     "data": {
      "text/plain": [
       "name\n",
       "ACADIA PHARMACEUTICALS INC       -0.013054\n",
       "BIOMARIN PHARMACEUTICAL INC       0.001661\n",
       "PRESTIGE BRANDS HOLDINGS, INC.   -0.014350\n",
       "ANI PHARMACEUTICALS INC          -0.000895\n",
       "EVOKE PHARMA INC                  0.001337\n",
       "                                    ...   \n",
       "CATALYST PHARMACEUTICALS, INC.    0.058129\n",
       "STRONGBRIDGE BIOPHARMA PLC        0.016958\n",
       "NATURES SUNSHINE PRODUCTS INC     0.003125\n",
       "HEAT BIOLOGICS, INC.             -0.010232\n",
       "ACELRX PHARMACEUTICALS INC        0.020838\n",
       "Length: 124, dtype: float64"
      ]
     },
     "execution_count": 10,
     "metadata": {},
     "output_type": "execute_result"
    }
   ],
   "source": [
    "mu_Pharm = mu[LIST]\n",
    "mu_Pharm"
   ]
  },
  {
   "cell_type": "markdown",
   "id": "c3bcd217",
   "metadata": {},
   "source": [
    "#### Sample Covariance for the Pharmaceutical Preparations Industry"
   ]
  },
  {
   "cell_type": "code",
   "execution_count": 11,
   "id": "8e72a50e",
   "metadata": {
    "tags": [
     "remove-input"
    ]
   },
   "outputs": [
    {
     "data": {
      "text/html": [
       "<div>\n",
       "<style scoped>\n",
       "    .dataframe tbody tr th:only-of-type {\n",
       "        vertical-align: middle;\n",
       "    }\n",
       "\n",
       "    .dataframe tbody tr th {\n",
       "        vertical-align: top;\n",
       "    }\n",
       "\n",
       "    .dataframe thead th {\n",
       "        text-align: right;\n",
       "    }\n",
       "</style>\n",
       "<table border=\"1\" class=\"dataframe\">\n",
       "  <thead>\n",
       "    <tr style=\"text-align: right;\">\n",
       "      <th>name</th>\n",
       "      <th>ACADIA PHARMACEUTICALS INC</th>\n",
       "      <th>BIOMARIN PHARMACEUTICAL INC</th>\n",
       "      <th>PRESTIGE BRANDS HOLDINGS, INC.</th>\n",
       "      <th>ANI PHARMACEUTICALS INC</th>\n",
       "      <th>EVOKE PHARMA INC</th>\n",
       "      <th>CHIASMA, INC</th>\n",
       "      <th>CATABASIS PHARMACEUTICALS INC</th>\n",
       "      <th>CELLECTAR BIOSCIENCES, INC.</th>\n",
       "      <th>XOMA CORP</th>\n",
       "      <th>CORMEDIX INC.</th>\n",
       "      <th>...</th>\n",
       "      <th>ENDO INTERNATIONAL PLC</th>\n",
       "      <th>ADVAXIS, INC.</th>\n",
       "      <th>SIERRA ONCOLOGY, INC.</th>\n",
       "      <th>ACTINIUM PHARMACEUTICALS, INC.</th>\n",
       "      <th>GLOBAL BLOOD THERAPEUTICS, INC.</th>\n",
       "      <th>CATALYST PHARMACEUTICALS, INC.</th>\n",
       "      <th>STRONGBRIDGE BIOPHARMA PLC</th>\n",
       "      <th>NATURES SUNSHINE PRODUCTS INC</th>\n",
       "      <th>HEAT BIOLOGICS, INC.</th>\n",
       "      <th>ACELRX PHARMACEUTICALS INC</th>\n",
       "    </tr>\n",
       "    <tr>\n",
       "      <th>name</th>\n",
       "      <th></th>\n",
       "      <th></th>\n",
       "      <th></th>\n",
       "      <th></th>\n",
       "      <th></th>\n",
       "      <th></th>\n",
       "      <th></th>\n",
       "      <th></th>\n",
       "      <th></th>\n",
       "      <th></th>\n",
       "      <th></th>\n",
       "      <th></th>\n",
       "      <th></th>\n",
       "      <th></th>\n",
       "      <th></th>\n",
       "      <th></th>\n",
       "      <th></th>\n",
       "      <th></th>\n",
       "      <th></th>\n",
       "      <th></th>\n",
       "      <th></th>\n",
       "    </tr>\n",
       "  </thead>\n",
       "  <tbody>\n",
       "    <tr>\n",
       "      <th>ACADIA PHARMACEUTICALS INC</th>\n",
       "      <td>0.025091</td>\n",
       "      <td>0.005883</td>\n",
       "      <td>0.005519</td>\n",
       "      <td>0.003747</td>\n",
       "      <td>0.008868</td>\n",
       "      <td>0.015785</td>\n",
       "      <td>0.010595</td>\n",
       "      <td>0.007735</td>\n",
       "      <td>0.009431</td>\n",
       "      <td>0.013532</td>\n",
       "      <td>...</td>\n",
       "      <td>-0.004392</td>\n",
       "      <td>0.004847</td>\n",
       "      <td>0.006682</td>\n",
       "      <td>0.006830</td>\n",
       "      <td>0.004106</td>\n",
       "      <td>-0.000628</td>\n",
       "      <td>-0.002626</td>\n",
       "      <td>-0.000312</td>\n",
       "      <td>0.004212</td>\n",
       "      <td>0.014184</td>\n",
       "    </tr>\n",
       "    <tr>\n",
       "      <th>BIOMARIN PHARMACEUTICAL INC</th>\n",
       "      <td>0.005883</td>\n",
       "      <td>0.007078</td>\n",
       "      <td>0.002762</td>\n",
       "      <td>0.003723</td>\n",
       "      <td>-0.001490</td>\n",
       "      <td>0.001363</td>\n",
       "      <td>0.001731</td>\n",
       "      <td>-0.000337</td>\n",
       "      <td>0.008034</td>\n",
       "      <td>0.003980</td>\n",
       "      <td>...</td>\n",
       "      <td>0.004369</td>\n",
       "      <td>0.006369</td>\n",
       "      <td>0.005543</td>\n",
       "      <td>0.007147</td>\n",
       "      <td>0.002449</td>\n",
       "      <td>-0.001136</td>\n",
       "      <td>0.000501</td>\n",
       "      <td>0.002889</td>\n",
       "      <td>0.003687</td>\n",
       "      <td>0.009018</td>\n",
       "    </tr>\n",
       "    <tr>\n",
       "      <th>PRESTIGE BRANDS HOLDINGS, INC.</th>\n",
       "      <td>0.005519</td>\n",
       "      <td>0.002762</td>\n",
       "      <td>0.007043</td>\n",
       "      <td>0.003118</td>\n",
       "      <td>0.005310</td>\n",
       "      <td>0.003855</td>\n",
       "      <td>-0.002394</td>\n",
       "      <td>0.001340</td>\n",
       "      <td>-0.000104</td>\n",
       "      <td>-0.001771</td>\n",
       "      <td>...</td>\n",
       "      <td>0.005259</td>\n",
       "      <td>0.003874</td>\n",
       "      <td>0.003125</td>\n",
       "      <td>0.008591</td>\n",
       "      <td>-0.000874</td>\n",
       "      <td>0.001227</td>\n",
       "      <td>-0.000254</td>\n",
       "      <td>0.001547</td>\n",
       "      <td>-0.000372</td>\n",
       "      <td>0.005980</td>\n",
       "    </tr>\n",
       "    <tr>\n",
       "      <th>ANI PHARMACEUTICALS INC</th>\n",
       "      <td>0.003747</td>\n",
       "      <td>0.003723</td>\n",
       "      <td>0.003118</td>\n",
       "      <td>0.010194</td>\n",
       "      <td>0.002785</td>\n",
       "      <td>-0.001768</td>\n",
       "      <td>0.002830</td>\n",
       "      <td>0.000586</td>\n",
       "      <td>0.008308</td>\n",
       "      <td>0.005124</td>\n",
       "      <td>...</td>\n",
       "      <td>0.000802</td>\n",
       "      <td>0.003035</td>\n",
       "      <td>0.009495</td>\n",
       "      <td>0.004878</td>\n",
       "      <td>-0.001194</td>\n",
       "      <td>0.002672</td>\n",
       "      <td>-0.005220</td>\n",
       "      <td>0.003865</td>\n",
       "      <td>0.001947</td>\n",
       "      <td>0.003685</td>\n",
       "    </tr>\n",
       "    <tr>\n",
       "      <th>EVOKE PHARMA INC</th>\n",
       "      <td>0.008868</td>\n",
       "      <td>-0.001490</td>\n",
       "      <td>0.005310</td>\n",
       "      <td>0.002785</td>\n",
       "      <td>0.044894</td>\n",
       "      <td>0.011879</td>\n",
       "      <td>0.005690</td>\n",
       "      <td>0.017206</td>\n",
       "      <td>0.007935</td>\n",
       "      <td>0.020902</td>\n",
       "      <td>...</td>\n",
       "      <td>-0.008416</td>\n",
       "      <td>0.003388</td>\n",
       "      <td>-0.006534</td>\n",
       "      <td>0.006544</td>\n",
       "      <td>0.007635</td>\n",
       "      <td>-0.000906</td>\n",
       "      <td>-0.010274</td>\n",
       "      <td>-0.008648</td>\n",
       "      <td>-0.001646</td>\n",
       "      <td>0.001968</td>\n",
       "    </tr>\n",
       "    <tr>\n",
       "      <th>...</th>\n",
       "      <td>...</td>\n",
       "      <td>...</td>\n",
       "      <td>...</td>\n",
       "      <td>...</td>\n",
       "      <td>...</td>\n",
       "      <td>...</td>\n",
       "      <td>...</td>\n",
       "      <td>...</td>\n",
       "      <td>...</td>\n",
       "      <td>...</td>\n",
       "      <td>...</td>\n",
       "      <td>...</td>\n",
       "      <td>...</td>\n",
       "      <td>...</td>\n",
       "      <td>...</td>\n",
       "      <td>...</td>\n",
       "      <td>...</td>\n",
       "      <td>...</td>\n",
       "      <td>...</td>\n",
       "      <td>...</td>\n",
       "      <td>...</td>\n",
       "    </tr>\n",
       "    <tr>\n",
       "      <th>CATALYST PHARMACEUTICALS, INC.</th>\n",
       "      <td>-0.000628</td>\n",
       "      <td>-0.001136</td>\n",
       "      <td>0.001227</td>\n",
       "      <td>0.002672</td>\n",
       "      <td>-0.000906</td>\n",
       "      <td>0.002478</td>\n",
       "      <td>0.017590</td>\n",
       "      <td>0.008495</td>\n",
       "      <td>0.013079</td>\n",
       "      <td>-0.000194</td>\n",
       "      <td>...</td>\n",
       "      <td>0.003559</td>\n",
       "      <td>0.016339</td>\n",
       "      <td>0.012708</td>\n",
       "      <td>0.006623</td>\n",
       "      <td>0.005350</td>\n",
       "      <td>0.049876</td>\n",
       "      <td>0.019141</td>\n",
       "      <td>0.007510</td>\n",
       "      <td>0.024567</td>\n",
       "      <td>0.007830</td>\n",
       "    </tr>\n",
       "    <tr>\n",
       "      <th>STRONGBRIDGE BIOPHARMA PLC</th>\n",
       "      <td>-0.002626</td>\n",
       "      <td>0.000501</td>\n",
       "      <td>-0.000254</td>\n",
       "      <td>-0.005220</td>\n",
       "      <td>-0.010274</td>\n",
       "      <td>0.001311</td>\n",
       "      <td>0.012113</td>\n",
       "      <td>0.012295</td>\n",
       "      <td>0.007632</td>\n",
       "      <td>-0.015399</td>\n",
       "      <td>...</td>\n",
       "      <td>0.000747</td>\n",
       "      <td>0.000674</td>\n",
       "      <td>0.003890</td>\n",
       "      <td>-0.002259</td>\n",
       "      <td>0.014406</td>\n",
       "      <td>0.019141</td>\n",
       "      <td>0.044082</td>\n",
       "      <td>0.004545</td>\n",
       "      <td>-0.001532</td>\n",
       "      <td>0.014582</td>\n",
       "    </tr>\n",
       "    <tr>\n",
       "      <th>NATURES SUNSHINE PRODUCTS INC</th>\n",
       "      <td>-0.000312</td>\n",
       "      <td>0.002889</td>\n",
       "      <td>0.001547</td>\n",
       "      <td>0.003865</td>\n",
       "      <td>-0.008648</td>\n",
       "      <td>0.000256</td>\n",
       "      <td>0.007587</td>\n",
       "      <td>-0.001865</td>\n",
       "      <td>-0.003559</td>\n",
       "      <td>-0.011241</td>\n",
       "      <td>...</td>\n",
       "      <td>0.008621</td>\n",
       "      <td>0.004654</td>\n",
       "      <td>0.001700</td>\n",
       "      <td>0.003263</td>\n",
       "      <td>0.000219</td>\n",
       "      <td>0.007510</td>\n",
       "      <td>0.004545</td>\n",
       "      <td>0.018088</td>\n",
       "      <td>0.010699</td>\n",
       "      <td>0.007317</td>\n",
       "    </tr>\n",
       "    <tr>\n",
       "      <th>HEAT BIOLOGICS, INC.</th>\n",
       "      <td>0.004212</td>\n",
       "      <td>0.003687</td>\n",
       "      <td>-0.000372</td>\n",
       "      <td>0.001947</td>\n",
       "      <td>-0.001646</td>\n",
       "      <td>0.000472</td>\n",
       "      <td>0.023285</td>\n",
       "      <td>-0.001913</td>\n",
       "      <td>0.015210</td>\n",
       "      <td>0.015341</td>\n",
       "      <td>...</td>\n",
       "      <td>0.001185</td>\n",
       "      <td>0.031221</td>\n",
       "      <td>-0.009181</td>\n",
       "      <td>0.014973</td>\n",
       "      <td>0.005784</td>\n",
       "      <td>0.024567</td>\n",
       "      <td>-0.001532</td>\n",
       "      <td>0.010699</td>\n",
       "      <td>0.114481</td>\n",
       "      <td>0.008267</td>\n",
       "    </tr>\n",
       "    <tr>\n",
       "      <th>ACELRX PHARMACEUTICALS INC</th>\n",
       "      <td>0.014184</td>\n",
       "      <td>0.009018</td>\n",
       "      <td>0.005980</td>\n",
       "      <td>0.003685</td>\n",
       "      <td>0.001968</td>\n",
       "      <td>0.011748</td>\n",
       "      <td>0.016256</td>\n",
       "      <td>0.011892</td>\n",
       "      <td>0.008969</td>\n",
       "      <td>-0.004703</td>\n",
       "      <td>...</td>\n",
       "      <td>0.013467</td>\n",
       "      <td>0.007826</td>\n",
       "      <td>0.016477</td>\n",
       "      <td>-0.003141</td>\n",
       "      <td>0.002657</td>\n",
       "      <td>0.007830</td>\n",
       "      <td>0.014582</td>\n",
       "      <td>0.007317</td>\n",
       "      <td>0.008267</td>\n",
       "      <td>0.070031</td>\n",
       "    </tr>\n",
       "  </tbody>\n",
       "</table>\n",
       "<p>124 rows × 124 columns</p>\n",
       "</div>"
      ],
      "text/plain": [
       "name                            ACADIA PHARMACEUTICALS INC  \\\n",
       "name                                                         \n",
       "ACADIA PHARMACEUTICALS INC                        0.025091   \n",
       "BIOMARIN PHARMACEUTICAL INC                       0.005883   \n",
       "PRESTIGE BRANDS HOLDINGS, INC.                    0.005519   \n",
       "ANI PHARMACEUTICALS INC                           0.003747   \n",
       "EVOKE PHARMA INC                                  0.008868   \n",
       "...                                                    ...   \n",
       "CATALYST PHARMACEUTICALS, INC.                   -0.000628   \n",
       "STRONGBRIDGE BIOPHARMA PLC                       -0.002626   \n",
       "NATURES SUNSHINE PRODUCTS INC                    -0.000312   \n",
       "HEAT BIOLOGICS, INC.                              0.004212   \n",
       "ACELRX PHARMACEUTICALS INC                        0.014184   \n",
       "\n",
       "name                            BIOMARIN PHARMACEUTICAL INC  \\\n",
       "name                                                          \n",
       "ACADIA PHARMACEUTICALS INC                         0.005883   \n",
       "BIOMARIN PHARMACEUTICAL INC                        0.007078   \n",
       "PRESTIGE BRANDS HOLDINGS, INC.                     0.002762   \n",
       "ANI PHARMACEUTICALS INC                            0.003723   \n",
       "EVOKE PHARMA INC                                  -0.001490   \n",
       "...                                                     ...   \n",
       "CATALYST PHARMACEUTICALS, INC.                    -0.001136   \n",
       "STRONGBRIDGE BIOPHARMA PLC                         0.000501   \n",
       "NATURES SUNSHINE PRODUCTS INC                      0.002889   \n",
       "HEAT BIOLOGICS, INC.                               0.003687   \n",
       "ACELRX PHARMACEUTICALS INC                         0.009018   \n",
       "\n",
       "name                            PRESTIGE BRANDS HOLDINGS, INC.  \\\n",
       "name                                                             \n",
       "ACADIA PHARMACEUTICALS INC                            0.005519   \n",
       "BIOMARIN PHARMACEUTICAL INC                           0.002762   \n",
       "PRESTIGE BRANDS HOLDINGS, INC.                        0.007043   \n",
       "ANI PHARMACEUTICALS INC                               0.003118   \n",
       "EVOKE PHARMA INC                                      0.005310   \n",
       "...                                                        ...   \n",
       "CATALYST PHARMACEUTICALS, INC.                        0.001227   \n",
       "STRONGBRIDGE BIOPHARMA PLC                           -0.000254   \n",
       "NATURES SUNSHINE PRODUCTS INC                         0.001547   \n",
       "HEAT BIOLOGICS, INC.                                 -0.000372   \n",
       "ACELRX PHARMACEUTICALS INC                            0.005980   \n",
       "\n",
       "name                            ANI PHARMACEUTICALS INC  EVOKE PHARMA INC  \\\n",
       "name                                                                        \n",
       "ACADIA PHARMACEUTICALS INC                     0.003747          0.008868   \n",
       "BIOMARIN PHARMACEUTICAL INC                    0.003723         -0.001490   \n",
       "PRESTIGE BRANDS HOLDINGS, INC.                 0.003118          0.005310   \n",
       "ANI PHARMACEUTICALS INC                        0.010194          0.002785   \n",
       "EVOKE PHARMA INC                               0.002785          0.044894   \n",
       "...                                                 ...               ...   \n",
       "CATALYST PHARMACEUTICALS, INC.                 0.002672         -0.000906   \n",
       "STRONGBRIDGE BIOPHARMA PLC                    -0.005220         -0.010274   \n",
       "NATURES SUNSHINE PRODUCTS INC                  0.003865         -0.008648   \n",
       "HEAT BIOLOGICS, INC.                           0.001947         -0.001646   \n",
       "ACELRX PHARMACEUTICALS INC                     0.003685          0.001968   \n",
       "\n",
       "name                            CHIASMA, INC  CATABASIS PHARMACEUTICALS INC  \\\n",
       "name                                                                          \n",
       "ACADIA PHARMACEUTICALS INC          0.015785                       0.010595   \n",
       "BIOMARIN PHARMACEUTICAL INC         0.001363                       0.001731   \n",
       "PRESTIGE BRANDS HOLDINGS, INC.      0.003855                      -0.002394   \n",
       "ANI PHARMACEUTICALS INC            -0.001768                       0.002830   \n",
       "EVOKE PHARMA INC                    0.011879                       0.005690   \n",
       "...                                      ...                            ...   \n",
       "CATALYST PHARMACEUTICALS, INC.      0.002478                       0.017590   \n",
       "STRONGBRIDGE BIOPHARMA PLC          0.001311                       0.012113   \n",
       "NATURES SUNSHINE PRODUCTS INC       0.000256                       0.007587   \n",
       "HEAT BIOLOGICS, INC.                0.000472                       0.023285   \n",
       "ACELRX PHARMACEUTICALS INC          0.011748                       0.016256   \n",
       "\n",
       "name                            CELLECTAR BIOSCIENCES, INC.  XOMA CORP  \\\n",
       "name                                                                     \n",
       "ACADIA PHARMACEUTICALS INC                         0.007735   0.009431   \n",
       "BIOMARIN PHARMACEUTICAL INC                       -0.000337   0.008034   \n",
       "PRESTIGE BRANDS HOLDINGS, INC.                     0.001340  -0.000104   \n",
       "ANI PHARMACEUTICALS INC                            0.000586   0.008308   \n",
       "EVOKE PHARMA INC                                   0.017206   0.007935   \n",
       "...                                                     ...        ...   \n",
       "CATALYST PHARMACEUTICALS, INC.                     0.008495   0.013079   \n",
       "STRONGBRIDGE BIOPHARMA PLC                         0.012295   0.007632   \n",
       "NATURES SUNSHINE PRODUCTS INC                     -0.001865  -0.003559   \n",
       "HEAT BIOLOGICS, INC.                              -0.001913   0.015210   \n",
       "ACELRX PHARMACEUTICALS INC                         0.011892   0.008969   \n",
       "\n",
       "name                            CORMEDIX INC.  ...  ENDO INTERNATIONAL PLC  \\\n",
       "name                                           ...                           \n",
       "ACADIA PHARMACEUTICALS INC           0.013532  ...               -0.004392   \n",
       "BIOMARIN PHARMACEUTICAL INC          0.003980  ...                0.004369   \n",
       "PRESTIGE BRANDS HOLDINGS, INC.      -0.001771  ...                0.005259   \n",
       "ANI PHARMACEUTICALS INC              0.005124  ...                0.000802   \n",
       "EVOKE PHARMA INC                     0.020902  ...               -0.008416   \n",
       "...                                       ...  ...                     ...   \n",
       "CATALYST PHARMACEUTICALS, INC.      -0.000194  ...                0.003559   \n",
       "STRONGBRIDGE BIOPHARMA PLC          -0.015399  ...                0.000747   \n",
       "NATURES SUNSHINE PRODUCTS INC       -0.011241  ...                0.008621   \n",
       "HEAT BIOLOGICS, INC.                 0.015341  ...                0.001185   \n",
       "ACELRX PHARMACEUTICALS INC          -0.004703  ...                0.013467   \n",
       "\n",
       "name                            ADVAXIS, INC.  SIERRA ONCOLOGY, INC.  \\\n",
       "name                                                                   \n",
       "ACADIA PHARMACEUTICALS INC           0.004847               0.006682   \n",
       "BIOMARIN PHARMACEUTICAL INC          0.006369               0.005543   \n",
       "PRESTIGE BRANDS HOLDINGS, INC.       0.003874               0.003125   \n",
       "ANI PHARMACEUTICALS INC              0.003035               0.009495   \n",
       "EVOKE PHARMA INC                     0.003388              -0.006534   \n",
       "...                                       ...                    ...   \n",
       "CATALYST PHARMACEUTICALS, INC.       0.016339               0.012708   \n",
       "STRONGBRIDGE BIOPHARMA PLC           0.000674               0.003890   \n",
       "NATURES SUNSHINE PRODUCTS INC        0.004654               0.001700   \n",
       "HEAT BIOLOGICS, INC.                 0.031221              -0.009181   \n",
       "ACELRX PHARMACEUTICALS INC           0.007826               0.016477   \n",
       "\n",
       "name                            ACTINIUM PHARMACEUTICALS, INC.  \\\n",
       "name                                                             \n",
       "ACADIA PHARMACEUTICALS INC                            0.006830   \n",
       "BIOMARIN PHARMACEUTICAL INC                           0.007147   \n",
       "PRESTIGE BRANDS HOLDINGS, INC.                        0.008591   \n",
       "ANI PHARMACEUTICALS INC                               0.004878   \n",
       "EVOKE PHARMA INC                                      0.006544   \n",
       "...                                                        ...   \n",
       "CATALYST PHARMACEUTICALS, INC.                        0.006623   \n",
       "STRONGBRIDGE BIOPHARMA PLC                           -0.002259   \n",
       "NATURES SUNSHINE PRODUCTS INC                         0.003263   \n",
       "HEAT BIOLOGICS, INC.                                  0.014973   \n",
       "ACELRX PHARMACEUTICALS INC                           -0.003141   \n",
       "\n",
       "name                            GLOBAL BLOOD THERAPEUTICS, INC.  \\\n",
       "name                                                              \n",
       "ACADIA PHARMACEUTICALS INC                             0.004106   \n",
       "BIOMARIN PHARMACEUTICAL INC                            0.002449   \n",
       "PRESTIGE BRANDS HOLDINGS, INC.                        -0.000874   \n",
       "ANI PHARMACEUTICALS INC                               -0.001194   \n",
       "EVOKE PHARMA INC                                       0.007635   \n",
       "...                                                         ...   \n",
       "CATALYST PHARMACEUTICALS, INC.                         0.005350   \n",
       "STRONGBRIDGE BIOPHARMA PLC                             0.014406   \n",
       "NATURES SUNSHINE PRODUCTS INC                          0.000219   \n",
       "HEAT BIOLOGICS, INC.                                   0.005784   \n",
       "ACELRX PHARMACEUTICALS INC                             0.002657   \n",
       "\n",
       "name                            CATALYST PHARMACEUTICALS, INC.  \\\n",
       "name                                                             \n",
       "ACADIA PHARMACEUTICALS INC                           -0.000628   \n",
       "BIOMARIN PHARMACEUTICAL INC                          -0.001136   \n",
       "PRESTIGE BRANDS HOLDINGS, INC.                        0.001227   \n",
       "ANI PHARMACEUTICALS INC                               0.002672   \n",
       "EVOKE PHARMA INC                                     -0.000906   \n",
       "...                                                        ...   \n",
       "CATALYST PHARMACEUTICALS, INC.                        0.049876   \n",
       "STRONGBRIDGE BIOPHARMA PLC                            0.019141   \n",
       "NATURES SUNSHINE PRODUCTS INC                         0.007510   \n",
       "HEAT BIOLOGICS, INC.                                  0.024567   \n",
       "ACELRX PHARMACEUTICALS INC                            0.007830   \n",
       "\n",
       "name                            STRONGBRIDGE BIOPHARMA PLC  \\\n",
       "name                                                         \n",
       "ACADIA PHARMACEUTICALS INC                       -0.002626   \n",
       "BIOMARIN PHARMACEUTICAL INC                       0.000501   \n",
       "PRESTIGE BRANDS HOLDINGS, INC.                   -0.000254   \n",
       "ANI PHARMACEUTICALS INC                          -0.005220   \n",
       "EVOKE PHARMA INC                                 -0.010274   \n",
       "...                                                    ...   \n",
       "CATALYST PHARMACEUTICALS, INC.                    0.019141   \n",
       "STRONGBRIDGE BIOPHARMA PLC                        0.044082   \n",
       "NATURES SUNSHINE PRODUCTS INC                     0.004545   \n",
       "HEAT BIOLOGICS, INC.                             -0.001532   \n",
       "ACELRX PHARMACEUTICALS INC                        0.014582   \n",
       "\n",
       "name                            NATURES SUNSHINE PRODUCTS INC  \\\n",
       "name                                                            \n",
       "ACADIA PHARMACEUTICALS INC                          -0.000312   \n",
       "BIOMARIN PHARMACEUTICAL INC                          0.002889   \n",
       "PRESTIGE BRANDS HOLDINGS, INC.                       0.001547   \n",
       "ANI PHARMACEUTICALS INC                              0.003865   \n",
       "EVOKE PHARMA INC                                    -0.008648   \n",
       "...                                                       ...   \n",
       "CATALYST PHARMACEUTICALS, INC.                       0.007510   \n",
       "STRONGBRIDGE BIOPHARMA PLC                           0.004545   \n",
       "NATURES SUNSHINE PRODUCTS INC                        0.018088   \n",
       "HEAT BIOLOGICS, INC.                                 0.010699   \n",
       "ACELRX PHARMACEUTICALS INC                           0.007317   \n",
       "\n",
       "name                            HEAT BIOLOGICS, INC.  \\\n",
       "name                                                   \n",
       "ACADIA PHARMACEUTICALS INC                  0.004212   \n",
       "BIOMARIN PHARMACEUTICAL INC                 0.003687   \n",
       "PRESTIGE BRANDS HOLDINGS, INC.             -0.000372   \n",
       "ANI PHARMACEUTICALS INC                     0.001947   \n",
       "EVOKE PHARMA INC                           -0.001646   \n",
       "...                                              ...   \n",
       "CATALYST PHARMACEUTICALS, INC.              0.024567   \n",
       "STRONGBRIDGE BIOPHARMA PLC                 -0.001532   \n",
       "NATURES SUNSHINE PRODUCTS INC               0.010699   \n",
       "HEAT BIOLOGICS, INC.                        0.114481   \n",
       "ACELRX PHARMACEUTICALS INC                  0.008267   \n",
       "\n",
       "name                            ACELRX PHARMACEUTICALS INC  \n",
       "name                                                        \n",
       "ACADIA PHARMACEUTICALS INC                        0.014184  \n",
       "BIOMARIN PHARMACEUTICAL INC                       0.009018  \n",
       "PRESTIGE BRANDS HOLDINGS, INC.                    0.005980  \n",
       "ANI PHARMACEUTICALS INC                           0.003685  \n",
       "EVOKE PHARMA INC                                  0.001968  \n",
       "...                                                    ...  \n",
       "CATALYST PHARMACEUTICALS, INC.                    0.007830  \n",
       "STRONGBRIDGE BIOPHARMA PLC                        0.014582  \n",
       "NATURES SUNSHINE PRODUCTS INC                     0.007317  \n",
       "HEAT BIOLOGICS, INC.                              0.008267  \n",
       "ACELRX PHARMACEUTICALS INC                        0.070031  \n",
       "\n",
       "[124 rows x 124 columns]"
      ]
     },
     "execution_count": 11,
     "metadata": {},
     "output_type": "execute_result"
    }
   ],
   "source": [
    "tmp = cov[LIST].T\n",
    "cov_Pharm = tmp[LIST]\n",
    "cov_Pharm"
   ]
  },
  {
   "cell_type": "markdown",
   "id": "fc1b6a4c",
   "metadata": {},
   "source": [
    "#### Efficient Frontier - Pharmaceutical Preparations"
   ]
  },
  {
   "cell_type": "code",
   "execution_count": 12,
   "id": "7429ef48",
   "metadata": {
    "tags": [
     "hide-input"
    ]
   },
   "outputs": [
    {
     "ename": "NameError",
     "evalue": "name 'EfficientFrontier' is not defined",
     "output_type": "error",
     "traceback": [
      "\u001b[0;31m---------------------------------------------------------------------------\u001b[0m",
      "\u001b[0;31mNameError\u001b[0m                                 Traceback (most recent call last)",
      "Input \u001b[0;32mIn [12]\u001b[0m, in \u001b[0;36m<cell line: 1>\u001b[0;34m()\u001b[0m\n\u001b[0;32m----> 1\u001b[0m ef1 \u001b[38;5;241m=\u001b[39m \u001b[43mEfficientFrontier\u001b[49m(mu_Pharm, cov_Pharm, weight_bounds\u001b[38;5;241m=\u001b[39m(\u001b[38;5;241m0\u001b[39m, \u001b[38;5;241m0.2\u001b[39m))\n\u001b[1;32m      3\u001b[0m fig, ax \u001b[38;5;241m=\u001b[39m plt\u001b[38;5;241m.\u001b[39msubplots()\n\u001b[1;32m      4\u001b[0m plotting\u001b[38;5;241m.\u001b[39mplot_efficient_frontier(ef1, ax\u001b[38;5;241m=\u001b[39max, show_assets\u001b[38;5;241m=\u001b[39m\u001b[38;5;28;01mTrue\u001b[39;00m)\n",
      "\u001b[0;31mNameError\u001b[0m: name 'EfficientFrontier' is not defined"
     ]
    }
   ],
   "source": [
    "ef1 = EfficientFrontier(mu_Pharm, cov_Pharm, weight_bounds=(0, 0.2))\n",
    "\n",
    "fig, ax = plt.subplots()\n",
    "plotting.plot_efficient_frontier(ef1, ax=ax, show_assets=True)\n",
    "\n",
    "# Find and plot the tangency portfolio\n",
    "ef2 = EfficientFrontier(mu_Pharm, cov_Pharm, weight_bounds=(0, 0.2))\n",
    "# min volatility\n",
    "ef2.min_volatility()\n",
    "ret_tangent, std_tangent, _ = ef2.portfolio_performance()\n",
    "ax.scatter(std_tangent, ret_tangent, marker=\"*\", s=100, c=\"r\", label=\"Min Volatility\")\n",
    "\n",
    "# Format\n",
    "ax.set_title(\"Efficient Frontier - Pharmaceutical Preparations \\n Sample Covariance Estimates\")\n",
    "ax.legend()\n",
    "plt.tight_layout()\n",
    "plt.savefig('images/Efficient_Frontier_Returns.png', dpi=200, bbox_inches='tight')\n",
    "plt.show()"
   ]
  },
  {
   "cell_type": "markdown",
   "id": "342e7542",
   "metadata": {},
   "source": [
    "##### Min Volatility Portfolio"
   ]
  },
  {
   "cell_type": "markdown",
   "id": "01cb24cd",
   "metadata": {},
   "source": [
    "###### Performance"
   ]
  },
  {
   "cell_type": "code",
   "execution_count": 13,
   "id": "b34e4df3",
   "metadata": {
    "tags": [
     "hide-input"
    ]
   },
   "outputs": [
    {
     "ename": "NameError",
     "evalue": "name 'ef2' is not defined",
     "output_type": "error",
     "traceback": [
      "\u001b[0;31m---------------------------------------------------------------------------\u001b[0m",
      "\u001b[0;31mNameError\u001b[0m                                 Traceback (most recent call last)",
      "Input \u001b[0;32mIn [13]\u001b[0m, in \u001b[0;36m<cell line: 1>\u001b[0;34m()\u001b[0m\n\u001b[0;32m----> 1\u001b[0m \u001b[43mef2\u001b[49m\u001b[38;5;241m.\u001b[39mportfolio_performance(verbose\u001b[38;5;241m=\u001b[39m\u001b[38;5;28;01mTrue\u001b[39;00m)\n",
      "\u001b[0;31mNameError\u001b[0m: name 'ef2' is not defined"
     ]
    }
   ],
   "source": [
    "ef2.portfolio_performance(verbose=True);"
   ]
  },
  {
   "cell_type": "markdown",
   "id": "4b77c2f6",
   "metadata": {},
   "source": [
    "###### Weights"
   ]
  },
  {
   "cell_type": "code",
   "execution_count": 14,
   "id": "ede83875",
   "metadata": {
    "tags": [
     "hide-input"
    ]
   },
   "outputs": [
    {
     "ename": "NameError",
     "evalue": "name 'ef2' is not defined",
     "output_type": "error",
     "traceback": [
      "\u001b[0;31m---------------------------------------------------------------------------\u001b[0m",
      "\u001b[0;31mNameError\u001b[0m                                 Traceback (most recent call last)",
      "Input \u001b[0;32mIn [14]\u001b[0m, in \u001b[0;36m<cell line: 3>\u001b[0;34m()\u001b[0m\n\u001b[1;32m      1\u001b[0m companies \u001b[38;5;241m=\u001b[39m []\n\u001b[1;32m      2\u001b[0m weights \u001b[38;5;241m=\u001b[39m []\n\u001b[0;32m----> 3\u001b[0m \u001b[38;5;28;01mfor\u001b[39;00m company, weight \u001b[38;5;129;01min\u001b[39;00m \u001b[43mef2\u001b[49m\u001b[38;5;241m.\u001b[39mclean_weights()\u001b[38;5;241m.\u001b[39mitems():\n\u001b[1;32m      4\u001b[0m     \u001b[38;5;28;01mif\u001b[39;00m weight \u001b[38;5;241m!=\u001b[39m \u001b[38;5;241m0\u001b[39m:\n\u001b[1;32m      5\u001b[0m         companies\u001b[38;5;241m.\u001b[39mappend(company)\n",
      "\u001b[0;31mNameError\u001b[0m: name 'ef2' is not defined"
     ]
    }
   ],
   "source": [
    "companies = []\n",
    "weights = []\n",
    "for company, weight in ef2.clean_weights().items():\n",
    "    if weight != 0:\n",
    "        companies.append(company)\n",
    "        weights.append(weight)\n",
    "        \n",
    "dic = {'Company_Name':companies,'Weight':weights}\n",
    "min_vol = pd.DataFrame(dic)"
   ]
  },
  {
   "cell_type": "code",
   "execution_count": 15,
   "id": "8c912f1e",
   "metadata": {
    "tags": [
     "remove-input"
    ]
   },
   "outputs": [
    {
     "data": {
      "text/html": [
       "<div>\n",
       "<style scoped>\n",
       "    .dataframe tbody tr th:only-of-type {\n",
       "        vertical-align: middle;\n",
       "    }\n",
       "\n",
       "    .dataframe tbody tr th {\n",
       "        vertical-align: top;\n",
       "    }\n",
       "\n",
       "    .dataframe thead th {\n",
       "        text-align: right;\n",
       "    }\n",
       "</style>\n",
       "<table border=\"1\" class=\"dataframe\">\n",
       "  <thead>\n",
       "    <tr style=\"text-align: right;\">\n",
       "      <th></th>\n",
       "      <th>Company_Name</th>\n",
       "      <th>Weight</th>\n",
       "    </tr>\n",
       "  </thead>\n",
       "  <tbody>\n",
       "    <tr>\n",
       "      <th>0</th>\n",
       "      <td>CHEMBIO DIAGNOSTICS, INC.</td>\n",
       "      <td>0.02843</td>\n",
       "    </tr>\n",
       "    <tr>\n",
       "      <th>1</th>\n",
       "      <td>JOHNSON &amp; JOHNSON</td>\n",
       "      <td>0.17878</td>\n",
       "    </tr>\n",
       "    <tr>\n",
       "      <th>2</th>\n",
       "      <td>BIODELIVERY SCIENCES INTERNATIONAL INC</td>\n",
       "      <td>0.03680</td>\n",
       "    </tr>\n",
       "    <tr>\n",
       "      <th>3</th>\n",
       "      <td>PROPHASE LABS, INC.</td>\n",
       "      <td>0.05120</td>\n",
       "    </tr>\n",
       "    <tr>\n",
       "      <th>4</th>\n",
       "      <td>ORAMED PHARMACEUTICALS INC.</td>\n",
       "      <td>0.04982</td>\n",
       "    </tr>\n",
       "    <tr>\n",
       "      <th>5</th>\n",
       "      <td>XENON PHARMACEUTICALS INC.</td>\n",
       "      <td>0.01350</td>\n",
       "    </tr>\n",
       "    <tr>\n",
       "      <th>6</th>\n",
       "      <td>BRISTOL MYERS SQUIBB CO</td>\n",
       "      <td>0.12824</td>\n",
       "    </tr>\n",
       "    <tr>\n",
       "      <th>7</th>\n",
       "      <td>PFENEX INC.</td>\n",
       "      <td>0.03777</td>\n",
       "    </tr>\n",
       "    <tr>\n",
       "      <th>8</th>\n",
       "      <td>ACHAOGEN INC</td>\n",
       "      <td>0.00515</td>\n",
       "    </tr>\n",
       "    <tr>\n",
       "      <th>9</th>\n",
       "      <td>ZOETIS INC.</td>\n",
       "      <td>0.01195</td>\n",
       "    </tr>\n",
       "    <tr>\n",
       "      <th>10</th>\n",
       "      <td>MANNKIND CORP</td>\n",
       "      <td>0.02048</td>\n",
       "    </tr>\n",
       "    <tr>\n",
       "      <th>11</th>\n",
       "      <td>ASSEMBLY BIOSCIENCES, INC.</td>\n",
       "      <td>0.05775</td>\n",
       "    </tr>\n",
       "    <tr>\n",
       "      <th>12</th>\n",
       "      <td>ARATANA THERAPEUTICS, INC.</td>\n",
       "      <td>0.03678</td>\n",
       "    </tr>\n",
       "    <tr>\n",
       "      <th>13</th>\n",
       "      <td>IMPRIMIS PHARMACEUTICALS, INC.</td>\n",
       "      <td>0.04181</td>\n",
       "    </tr>\n",
       "    <tr>\n",
       "      <th>14</th>\n",
       "      <td>LIPOCINE INC.</td>\n",
       "      <td>0.00683</td>\n",
       "    </tr>\n",
       "    <tr>\n",
       "      <th>15</th>\n",
       "      <td>VTV THERAPEUTICS INC.</td>\n",
       "      <td>0.02372</td>\n",
       "    </tr>\n",
       "    <tr>\n",
       "      <th>16</th>\n",
       "      <td>MERCK &amp; CO., INC.</td>\n",
       "      <td>0.20000</td>\n",
       "    </tr>\n",
       "    <tr>\n",
       "      <th>17</th>\n",
       "      <td>STEMLINE THERAPEUTICS INC</td>\n",
       "      <td>0.04273</td>\n",
       "    </tr>\n",
       "    <tr>\n",
       "      <th>18</th>\n",
       "      <td>CYTOMX THERAPEUTICS, INC.</td>\n",
       "      <td>0.00520</td>\n",
       "    </tr>\n",
       "    <tr>\n",
       "      <th>19</th>\n",
       "      <td>HEAT BIOLOGICS, INC.</td>\n",
       "      <td>0.00297</td>\n",
       "    </tr>\n",
       "    <tr>\n",
       "      <th>20</th>\n",
       "      <td>RECRO PHARMA, INC.</td>\n",
       "      <td>0.02010</td>\n",
       "    </tr>\n",
       "  </tbody>\n",
       "</table>\n",
       "</div>"
      ],
      "text/plain": [
       "                              Company_Name   Weight\n",
       "0                CHEMBIO DIAGNOSTICS, INC.  0.02843\n",
       "1                        JOHNSON & JOHNSON  0.17878\n",
       "2   BIODELIVERY SCIENCES INTERNATIONAL INC  0.03680\n",
       "3                      PROPHASE LABS, INC.  0.05120\n",
       "4              ORAMED PHARMACEUTICALS INC.  0.04982\n",
       "5               XENON PHARMACEUTICALS INC.  0.01350\n",
       "6                  BRISTOL MYERS SQUIBB CO  0.12824\n",
       "7                              PFENEX INC.  0.03777\n",
       "8                             ACHAOGEN INC  0.00515\n",
       "9                              ZOETIS INC.  0.01195\n",
       "10                           MANNKIND CORP  0.02048\n",
       "11              ASSEMBLY BIOSCIENCES, INC.  0.05775\n",
       "12              ARATANA THERAPEUTICS, INC.  0.03678\n",
       "13          IMPRIMIS PHARMACEUTICALS, INC.  0.04181\n",
       "14                           LIPOCINE INC.  0.00683\n",
       "15                   VTV THERAPEUTICS INC.  0.02372\n",
       "16                       MERCK & CO., INC.  0.20000\n",
       "17               STEMLINE THERAPEUTICS INC  0.04273\n",
       "18               CYTOMX THERAPEUTICS, INC.  0.00520\n",
       "19                    HEAT BIOLOGICS, INC.  0.00297\n",
       "20                      RECRO PHARMA, INC.  0.02010"
      ]
     },
     "execution_count": 15,
     "metadata": {},
     "output_type": "execute_result"
    }
   ],
   "source": [
    "pd.read_csv(\"data/min_vol_sample_Pharmaceutical_Preparations.csv\")"
   ]
  },
  {
   "cell_type": "markdown",
   "id": "d1959343",
   "metadata": {},
   "source": [
    "### Results for the Other 4 Industries"
   ]
  },
  {
   "cell_type": "code",
   "execution_count": 16,
   "id": "be7bbb78",
   "metadata": {
    "tags": [
     "remove-input"
    ]
   },
   "outputs": [],
   "source": [
    "SIC_list = [7372, 1311, 6798, 6022]\n",
    "SIC_desc = ['Prepackaged Software (mass reproduction of software)', 'Crude Petroleum and Natural Gas', \n",
    "           'Real Estate Investment Trusts', 'State Commercial Banks (commercial banking)']"
   ]
  },
  {
   "cell_type": "markdown",
   "id": "1dc7e46a",
   "metadata": {},
   "source": [
    "#### Prepackaged Software (mass reproduction of software)"
   ]
  },
  {
   "cell_type": "code",
   "execution_count": 17,
   "id": "f9066d2b",
   "metadata": {
    "tags": [
     "remove-input"
    ]
   },
   "outputs": [
    {
     "ename": "NameError",
     "evalue": "name 'EfficientFrontier' is not defined",
     "output_type": "error",
     "traceback": [
      "\u001b[0;31m---------------------------------------------------------------------------\u001b[0m",
      "\u001b[0;31mNameError\u001b[0m                                 Traceback (most recent call last)",
      "Input \u001b[0;32mIn [17]\u001b[0m, in \u001b[0;36m<cell line: 23>\u001b[0;34m()\u001b[0m\n\u001b[1;32m     20\u001b[0m cov_sample \u001b[38;5;241m=\u001b[39m tmp[LIST]\n\u001b[1;32m     22\u001b[0m \u001b[38;5;66;03m# perform minimum variance analysis\u001b[39;00m\n\u001b[0;32m---> 23\u001b[0m ef1 \u001b[38;5;241m=\u001b[39m \u001b[43mEfficientFrontier\u001b[49m(mu_sample, cov_sample, weight_bounds\u001b[38;5;241m=\u001b[39m(\u001b[38;5;241m0\u001b[39m, \u001b[38;5;241m0.2\u001b[39m))\n\u001b[1;32m     25\u001b[0m fig, ax \u001b[38;5;241m=\u001b[39m plt\u001b[38;5;241m.\u001b[39msubplots()\n\u001b[1;32m     26\u001b[0m plotting\u001b[38;5;241m.\u001b[39mplot_efficient_frontier(ef1, ax\u001b[38;5;241m=\u001b[39max, show_assets\u001b[38;5;241m=\u001b[39m\u001b[38;5;28;01mTrue\u001b[39;00m)\n",
      "\u001b[0;31mNameError\u001b[0m: name 'EfficientFrontier' is not defined"
     ]
    }
   ],
   "source": [
    "SIC = SIC_list[0]\n",
    "    \n",
    "industry_name = SIC_desc[SIC_list.index(SIC)]\n",
    "    \n",
    "# get the names of the companies in the other industries\n",
    "Companies = df[df.SIC == SIC]\n",
    "Company_list = Companies.index\n",
    "\n",
    "# get the companies name that match return data and business description data\n",
    "SET = (set(Company_list) & set(r_selected.index))\n",
    "LIST = [*SET, ]\n",
    "\n",
    "mu_sample = mu[LIST]\n",
    "# get the outliers\n",
    "outlier = mu_sample[mu_sample>1].index\n",
    "mu_sample = mu_sample.drop(outlier)\n",
    "LIST = mu_sample.index\n",
    "\n",
    "tmp = cov[LIST].T\n",
    "cov_sample = tmp[LIST]\n",
    "\n",
    "# perform minimum variance analysis\n",
    "ef1 = EfficientFrontier(mu_sample, cov_sample, weight_bounds=(0, 0.2))\n",
    "\n",
    "fig, ax = plt.subplots()\n",
    "plotting.plot_efficient_frontier(ef1, ax=ax, show_assets=True)\n",
    "\n",
    "# Find and plot the tangency portfolio\n",
    "ef2 = EfficientFrontier(mu_sample, cov_sample, weight_bounds=(0, 0.2))\n",
    "# min volatility\n",
    "ef2.min_volatility()\n",
    "ret_tangent, std_tangent, _ = ef2.portfolio_performance()\n",
    "ax.scatter(std_tangent, ret_tangent, marker=\"*\", s=100, c=\"r\", label=\"Min Volatility\")\n",
    "\n",
    "# Format\n",
    "ax.set_title(\"Efficient Frontier - %s \\n Sample Covariance Estimates\" %industry_name)\n",
    "ax.legend()\n",
    "plt.tight_layout()\n",
    "plt.savefig('images/Efficient_Frontier_Sample_Covariance_Estimates' + str(industry_name) + '.png', dpi=200, bbox_inches='tight')\n",
    "plt.show()"
   ]
  },
  {
   "cell_type": "markdown",
   "id": "32f1139f",
   "metadata": {},
   "source": [
    "##### Min Volatility Portfolio"
   ]
  },
  {
   "cell_type": "markdown",
   "id": "16830a0f",
   "metadata": {},
   "source": [
    "###### Performance"
   ]
  },
  {
   "cell_type": "code",
   "execution_count": 18,
   "id": "5d45e1d6",
   "metadata": {
    "tags": [
     "remove-input"
    ]
   },
   "outputs": [
    {
     "ename": "NameError",
     "evalue": "name 'ef2' is not defined",
     "output_type": "error",
     "traceback": [
      "\u001b[0;31m---------------------------------------------------------------------------\u001b[0m",
      "\u001b[0;31mNameError\u001b[0m                                 Traceback (most recent call last)",
      "Input \u001b[0;32mIn [18]\u001b[0m, in \u001b[0;36m<cell line: 1>\u001b[0;34m()\u001b[0m\n\u001b[0;32m----> 1\u001b[0m \u001b[43mef2\u001b[49m\u001b[38;5;241m.\u001b[39mportfolio_performance(verbose\u001b[38;5;241m=\u001b[39m\u001b[38;5;28;01mTrue\u001b[39;00m)\n",
      "\u001b[0;31mNameError\u001b[0m: name 'ef2' is not defined"
     ]
    }
   ],
   "source": [
    "ef2.portfolio_performance(verbose=True);"
   ]
  },
  {
   "cell_type": "markdown",
   "id": "38ee9c2a",
   "metadata": {},
   "source": [
    "###### Weights"
   ]
  },
  {
   "cell_type": "code",
   "execution_count": 19,
   "id": "d3cf439d",
   "metadata": {
    "tags": [
     "remove-input"
    ]
   },
   "outputs": [
    {
     "data": {
      "text/html": [
       "<div>\n",
       "<style scoped>\n",
       "    .dataframe tbody tr th:only-of-type {\n",
       "        vertical-align: middle;\n",
       "    }\n",
       "\n",
       "    .dataframe tbody tr th {\n",
       "        vertical-align: top;\n",
       "    }\n",
       "\n",
       "    .dataframe thead th {\n",
       "        text-align: right;\n",
       "    }\n",
       "</style>\n",
       "<table border=\"1\" class=\"dataframe\">\n",
       "  <thead>\n",
       "    <tr style=\"text-align: right;\">\n",
       "      <th></th>\n",
       "      <th>Company_Name</th>\n",
       "      <th>Weight</th>\n",
       "    </tr>\n",
       "  </thead>\n",
       "  <tbody>\n",
       "    <tr>\n",
       "      <th>0</th>\n",
       "      <td>MAJESCO</td>\n",
       "      <td>0.01906</td>\n",
       "    </tr>\n",
       "    <tr>\n",
       "      <th>1</th>\n",
       "      <td>NUANCE COMMUNICATIONS, INC.</td>\n",
       "      <td>0.08608</td>\n",
       "    </tr>\n",
       "    <tr>\n",
       "      <th>2</th>\n",
       "      <td>AWARE INC /MA/</td>\n",
       "      <td>0.20000</td>\n",
       "    </tr>\n",
       "    <tr>\n",
       "      <th>3</th>\n",
       "      <td>MICROSTRATEGY INC</td>\n",
       "      <td>0.02160</td>\n",
       "    </tr>\n",
       "    <tr>\n",
       "      <th>4</th>\n",
       "      <td>QUMU CORP</td>\n",
       "      <td>0.05153</td>\n",
       "    </tr>\n",
       "    <tr>\n",
       "      <th>5</th>\n",
       "      <td>ROSETTA STONE INC</td>\n",
       "      <td>0.01647</td>\n",
       "    </tr>\n",
       "    <tr>\n",
       "      <th>6</th>\n",
       "      <td>COMMVAULT SYSTEMS INC</td>\n",
       "      <td>0.07381</td>\n",
       "    </tr>\n",
       "    <tr>\n",
       "      <th>7</th>\n",
       "      <td>ENDURANCE INTERNATIONAL GROUP HOLDINGS, INC.</td>\n",
       "      <td>0.02554</td>\n",
       "    </tr>\n",
       "    <tr>\n",
       "      <th>8</th>\n",
       "      <td>QUALYS, INC.</td>\n",
       "      <td>0.06668</td>\n",
       "    </tr>\n",
       "    <tr>\n",
       "      <th>9</th>\n",
       "      <td>LIVEPERSON INC</td>\n",
       "      <td>0.01519</td>\n",
       "    </tr>\n",
       "    <tr>\n",
       "      <th>10</th>\n",
       "      <td>ZEDGE, INC.</td>\n",
       "      <td>0.01792</td>\n",
       "    </tr>\n",
       "    <tr>\n",
       "      <th>11</th>\n",
       "      <td>AVID TECHNOLOGY, INC.</td>\n",
       "      <td>0.00129</td>\n",
       "    </tr>\n",
       "    <tr>\n",
       "      <th>12</th>\n",
       "      <td>BLACK KNIGHT, INC.</td>\n",
       "      <td>0.20000</td>\n",
       "    </tr>\n",
       "    <tr>\n",
       "      <th>13</th>\n",
       "      <td>ACI WORLDWIDE, INC.</td>\n",
       "      <td>0.11314</td>\n",
       "    </tr>\n",
       "    <tr>\n",
       "      <th>14</th>\n",
       "      <td>ORACLE CORP</td>\n",
       "      <td>0.09170</td>\n",
       "    </tr>\n",
       "  </tbody>\n",
       "</table>\n",
       "</div>"
      ],
      "text/plain": [
       "                                    Company_Name   Weight\n",
       "0                                        MAJESCO  0.01906\n",
       "1                    NUANCE COMMUNICATIONS, INC.  0.08608\n",
       "2                                 AWARE INC /MA/  0.20000\n",
       "3                              MICROSTRATEGY INC  0.02160\n",
       "4                                      QUMU CORP  0.05153\n",
       "5                              ROSETTA STONE INC  0.01647\n",
       "6                          COMMVAULT SYSTEMS INC  0.07381\n",
       "7   ENDURANCE INTERNATIONAL GROUP HOLDINGS, INC.  0.02554\n",
       "8                                   QUALYS, INC.  0.06668\n",
       "9                                 LIVEPERSON INC  0.01519\n",
       "10                                   ZEDGE, INC.  0.01792\n",
       "11                         AVID TECHNOLOGY, INC.  0.00129\n",
       "12                            BLACK KNIGHT, INC.  0.20000\n",
       "13                           ACI WORLDWIDE, INC.  0.11314\n",
       "14                                   ORACLE CORP  0.09170"
      ]
     },
     "execution_count": 19,
     "metadata": {},
     "output_type": "execute_result"
    }
   ],
   "source": [
    "pd.read_csv(\"data/min_vol_sample_Prepackaged_Software.csv\")"
   ]
  },
  {
   "cell_type": "markdown",
   "id": "70faca0a",
   "metadata": {},
   "source": [
    "#### Crude Petroleum and Natural Gas\n",
    "When we conduct the same analysis, there is no weight shown. Efficient frontier cannot be found."
   ]
  },
  {
   "cell_type": "markdown",
   "id": "b647a7f7",
   "metadata": {},
   "source": [
    "#### Real Estate Investment Trusts"
   ]
  },
  {
   "cell_type": "code",
   "execution_count": 20,
   "id": "2548ca70",
   "metadata": {
    "tags": [
     "remove-input"
    ]
   },
   "outputs": [
    {
     "ename": "NameError",
     "evalue": "name 'EfficientFrontier' is not defined",
     "output_type": "error",
     "traceback": [
      "\u001b[0;31m---------------------------------------------------------------------------\u001b[0m",
      "\u001b[0;31mNameError\u001b[0m                                 Traceback (most recent call last)",
      "Input \u001b[0;32mIn [20]\u001b[0m, in \u001b[0;36m<cell line: 23>\u001b[0;34m()\u001b[0m\n\u001b[1;32m     20\u001b[0m cov_sample \u001b[38;5;241m=\u001b[39m tmp[LIST]\n\u001b[1;32m     22\u001b[0m \u001b[38;5;66;03m# perform minimum variance analysis\u001b[39;00m\n\u001b[0;32m---> 23\u001b[0m ef1 \u001b[38;5;241m=\u001b[39m \u001b[43mEfficientFrontier\u001b[49m(mu_sample, cov_sample, weight_bounds\u001b[38;5;241m=\u001b[39m(\u001b[38;5;241m0\u001b[39m, \u001b[38;5;241m0.2\u001b[39m))\n\u001b[1;32m     25\u001b[0m fig, ax \u001b[38;5;241m=\u001b[39m plt\u001b[38;5;241m.\u001b[39msubplots()\n\u001b[1;32m     26\u001b[0m plotting\u001b[38;5;241m.\u001b[39mplot_efficient_frontier(ef1, ax\u001b[38;5;241m=\u001b[39max, show_assets\u001b[38;5;241m=\u001b[39m\u001b[38;5;28;01mTrue\u001b[39;00m)\n",
      "\u001b[0;31mNameError\u001b[0m: name 'EfficientFrontier' is not defined"
     ]
    }
   ],
   "source": [
    "SIC = SIC_list[2]\n",
    "    \n",
    "industry_name = SIC_desc[SIC_list.index(SIC)]\n",
    "    \n",
    "# get the names of the companies in the other industries\n",
    "Companies = df[df.SIC == SIC]\n",
    "Company_list = Companies.index\n",
    "\n",
    "# get the companies name that match return data and business description data\n",
    "SET = (set(Company_list) & set(r_selected.index))\n",
    "LIST = [*SET, ]\n",
    "\n",
    "mu_sample = mu[LIST]\n",
    "# get the outliers\n",
    "outlier = mu_sample[mu_sample>1].index\n",
    "mu_sample = mu_sample.drop(outlier)\n",
    "LIST = mu_sample.index\n",
    "\n",
    "tmp = cov[LIST].T\n",
    "cov_sample = tmp[LIST]\n",
    "\n",
    "# perform minimum variance analysis\n",
    "ef1 = EfficientFrontier(mu_sample, cov_sample, weight_bounds=(0, 0.2))\n",
    "\n",
    "fig, ax = plt.subplots()\n",
    "plotting.plot_efficient_frontier(ef1, ax=ax, show_assets=True)\n",
    "\n",
    "# Find and plot the tangency portfolio\n",
    "ef2 = EfficientFrontier(mu_sample, cov_sample, weight_bounds=(0, 0.2))\n",
    "# min volatility\n",
    "ef2.min_volatility()\n",
    "ret_tangent, std_tangent, _ = ef2.portfolio_performance()\n",
    "ax.scatter(std_tangent, ret_tangent, marker=\"*\", s=100, c=\"r\", label=\"Min Volatility\")\n",
    "\n",
    "# Format\n",
    "ax.set_title(\"Efficient Frontier - %s \\n Sample Covariance Estimates\" %industry_name)\n",
    "ax.legend()\n",
    "plt.tight_layout()\n",
    "plt.savefig('images/Efficient_Frontier_Sample_Covariance_Estimates' + str(industry_name) + '.png', dpi=200, bbox_inches='tight')\n",
    "plt.show()"
   ]
  },
  {
   "cell_type": "markdown",
   "id": "460672e3",
   "metadata": {},
   "source": [
    "##### Min Volatility Portfolio"
   ]
  },
  {
   "cell_type": "markdown",
   "id": "4f94fd2b",
   "metadata": {},
   "source": [
    "###### Performance"
   ]
  },
  {
   "cell_type": "code",
   "execution_count": 21,
   "id": "85ee33ba",
   "metadata": {
    "tags": [
     "remove-input"
    ]
   },
   "outputs": [
    {
     "ename": "NameError",
     "evalue": "name 'ef2' is not defined",
     "output_type": "error",
     "traceback": [
      "\u001b[0;31m---------------------------------------------------------------------------\u001b[0m",
      "\u001b[0;31mNameError\u001b[0m                                 Traceback (most recent call last)",
      "Input \u001b[0;32mIn [21]\u001b[0m, in \u001b[0;36m<cell line: 1>\u001b[0;34m()\u001b[0m\n\u001b[0;32m----> 1\u001b[0m \u001b[43mef2\u001b[49m\u001b[38;5;241m.\u001b[39mportfolio_performance(verbose\u001b[38;5;241m=\u001b[39m\u001b[38;5;28;01mTrue\u001b[39;00m)\n",
      "\u001b[0;31mNameError\u001b[0m: name 'ef2' is not defined"
     ]
    }
   ],
   "source": [
    "ef2.portfolio_performance(verbose=True);"
   ]
  },
  {
   "cell_type": "markdown",
   "id": "b41571c6",
   "metadata": {},
   "source": [
    "###### Weights"
   ]
  },
  {
   "cell_type": "code",
   "execution_count": 22,
   "id": "9717278d",
   "metadata": {
    "tags": [
     "remove-input"
    ]
   },
   "outputs": [
    {
     "data": {
      "text/html": [
       "<div>\n",
       "<style scoped>\n",
       "    .dataframe tbody tr th:only-of-type {\n",
       "        vertical-align: middle;\n",
       "    }\n",
       "\n",
       "    .dataframe tbody tr th {\n",
       "        vertical-align: top;\n",
       "    }\n",
       "\n",
       "    .dataframe thead th {\n",
       "        text-align: right;\n",
       "    }\n",
       "</style>\n",
       "<table border=\"1\" class=\"dataframe\">\n",
       "  <thead>\n",
       "    <tr style=\"text-align: right;\">\n",
       "      <th></th>\n",
       "      <th>Company_Name</th>\n",
       "      <th>Weight</th>\n",
       "    </tr>\n",
       "  </thead>\n",
       "  <tbody>\n",
       "    <tr>\n",
       "      <th>0</th>\n",
       "      <td>BRT APARTMENTS CORP.</td>\n",
       "      <td>0.01724</td>\n",
       "    </tr>\n",
       "    <tr>\n",
       "      <th>1</th>\n",
       "      <td>PUBLIC STORAGE</td>\n",
       "      <td>0.10938</td>\n",
       "    </tr>\n",
       "    <tr>\n",
       "      <th>2</th>\n",
       "      <td>GREAT AJAX CORP.</td>\n",
       "      <td>0.20000</td>\n",
       "    </tr>\n",
       "    <tr>\n",
       "      <th>3</th>\n",
       "      <td>ALEXANDERS INC</td>\n",
       "      <td>0.02285</td>\n",
       "    </tr>\n",
       "    <tr>\n",
       "      <th>4</th>\n",
       "      <td>LADDER CAPITAL CORP</td>\n",
       "      <td>0.04420</td>\n",
       "    </tr>\n",
       "    <tr>\n",
       "      <th>5</th>\n",
       "      <td>CIM COMMERCIAL TRUST CORP</td>\n",
       "      <td>0.05461</td>\n",
       "    </tr>\n",
       "    <tr>\n",
       "      <th>6</th>\n",
       "      <td>ARES COMMERCIAL REAL ESTATE CORP</td>\n",
       "      <td>0.09107</td>\n",
       "    </tr>\n",
       "    <tr>\n",
       "      <th>7</th>\n",
       "      <td>MANHATTAN BRIDGE CAPITAL, INC</td>\n",
       "      <td>0.01483</td>\n",
       "    </tr>\n",
       "    <tr>\n",
       "      <th>8</th>\n",
       "      <td>HMG COURTLAND PROPERTIES INC</td>\n",
       "      <td>0.12513</td>\n",
       "    </tr>\n",
       "    <tr>\n",
       "      <th>9</th>\n",
       "      <td>NEW YORK MORTGAGE TRUST INC</td>\n",
       "      <td>0.02084</td>\n",
       "    </tr>\n",
       "    <tr>\n",
       "      <th>10</th>\n",
       "      <td>EQUITY COMMONWEALTH</td>\n",
       "      <td>0.20000</td>\n",
       "    </tr>\n",
       "    <tr>\n",
       "      <th>11</th>\n",
       "      <td>CROWN CASTLE INTERNATIONAL CORP</td>\n",
       "      <td>0.04875</td>\n",
       "    </tr>\n",
       "    <tr>\n",
       "      <th>12</th>\n",
       "      <td>IMPAC MORTGAGE HOLDINGS INC</td>\n",
       "      <td>0.05108</td>\n",
       "    </tr>\n",
       "  </tbody>\n",
       "</table>\n",
       "</div>"
      ],
      "text/plain": [
       "                        Company_Name   Weight\n",
       "0               BRT APARTMENTS CORP.  0.01724\n",
       "1                     PUBLIC STORAGE  0.10938\n",
       "2                   GREAT AJAX CORP.  0.20000\n",
       "3                     ALEXANDERS INC  0.02285\n",
       "4                LADDER CAPITAL CORP  0.04420\n",
       "5          CIM COMMERCIAL TRUST CORP  0.05461\n",
       "6   ARES COMMERCIAL REAL ESTATE CORP  0.09107\n",
       "7      MANHATTAN BRIDGE CAPITAL, INC  0.01483\n",
       "8       HMG COURTLAND PROPERTIES INC  0.12513\n",
       "9        NEW YORK MORTGAGE TRUST INC  0.02084\n",
       "10               EQUITY COMMONWEALTH  0.20000\n",
       "11   CROWN CASTLE INTERNATIONAL CORP  0.04875\n",
       "12       IMPAC MORTGAGE HOLDINGS INC  0.05108"
      ]
     },
     "execution_count": 22,
     "metadata": {},
     "output_type": "execute_result"
    }
   ],
   "source": [
    "pd.read_csv(\"data/min_vol_sample_Real_Estate_Investment_Trusts.csv\")"
   ]
  },
  {
   "cell_type": "markdown",
   "id": "2969d194",
   "metadata": {},
   "source": [
    "#### State Commercial Banks (commercial banking)"
   ]
  },
  {
   "cell_type": "code",
   "execution_count": 23,
   "id": "d5f19af6",
   "metadata": {
    "tags": [
     "remove-input"
    ]
   },
   "outputs": [
    {
     "ename": "NameError",
     "evalue": "name 'EfficientFrontier' is not defined",
     "output_type": "error",
     "traceback": [
      "\u001b[0;31m---------------------------------------------------------------------------\u001b[0m",
      "\u001b[0;31mNameError\u001b[0m                                 Traceback (most recent call last)",
      "Input \u001b[0;32mIn [23]\u001b[0m, in \u001b[0;36m<cell line: 23>\u001b[0;34m()\u001b[0m\n\u001b[1;32m     20\u001b[0m cov_sample \u001b[38;5;241m=\u001b[39m tmp[LIST]\n\u001b[1;32m     22\u001b[0m \u001b[38;5;66;03m# perform minimum variance analysis\u001b[39;00m\n\u001b[0;32m---> 23\u001b[0m ef1 \u001b[38;5;241m=\u001b[39m \u001b[43mEfficientFrontier\u001b[49m(mu_sample, cov_sample, weight_bounds\u001b[38;5;241m=\u001b[39m(\u001b[38;5;241m0\u001b[39m, \u001b[38;5;241m0.2\u001b[39m))\n\u001b[1;32m     25\u001b[0m fig, ax \u001b[38;5;241m=\u001b[39m plt\u001b[38;5;241m.\u001b[39msubplots()\n\u001b[1;32m     26\u001b[0m plotting\u001b[38;5;241m.\u001b[39mplot_efficient_frontier(ef1, ax\u001b[38;5;241m=\u001b[39max, show_assets\u001b[38;5;241m=\u001b[39m\u001b[38;5;28;01mTrue\u001b[39;00m)\n",
      "\u001b[0;31mNameError\u001b[0m: name 'EfficientFrontier' is not defined"
     ]
    }
   ],
   "source": [
    "SIC = SIC_list[3]\n",
    "    \n",
    "industry_name = SIC_desc[SIC_list.index(SIC)]\n",
    "    \n",
    "# get the names of the companies in the other industries\n",
    "Companies = df[df.SIC == SIC]\n",
    "Company_list = Companies.index\n",
    "\n",
    "# get the companies name that match return data and business description data\n",
    "SET = (set(Company_list) & set(r_selected.index))\n",
    "LIST = [*SET, ]\n",
    "\n",
    "mu_sample = mu[LIST]\n",
    "# get the outliers\n",
    "outlier = mu_sample[mu_sample>1].index\n",
    "mu_sample = mu_sample.drop(outlier)\n",
    "LIST = mu_sample.index\n",
    "\n",
    "tmp = cov[LIST].T\n",
    "cov_sample = tmp[LIST]\n",
    "\n",
    "# perform minimum variance analysis\n",
    "ef1 = EfficientFrontier(mu_sample, cov_sample, weight_bounds=(0, 0.2))\n",
    "\n",
    "fig, ax = plt.subplots()\n",
    "plotting.plot_efficient_frontier(ef1, ax=ax, show_assets=True)\n",
    "\n",
    "# Find and plot the tangency portfolio\n",
    "ef2 = EfficientFrontier(mu_sample, cov_sample, weight_bounds=(0, 0.2))\n",
    "# min volatility\n",
    "ef2.min_volatility()\n",
    "ret_tangent, std_tangent, _ = ef2.portfolio_performance()\n",
    "ax.scatter(std_tangent, ret_tangent, marker=\"*\", s=100, c=\"r\", label=\"Min Volatility\")\n",
    "\n",
    "# Format\n",
    "ax.set_title(\"Efficient Frontier - %s \\n Sample Covariance Estimates\" %industry_name)\n",
    "ax.legend()\n",
    "plt.tight_layout()\n",
    "plt.savefig('images/Efficient_Frontier_Sample_Covariance_Estimates' + str(industry_name) + '.png', dpi=200, bbox_inches='tight')\n",
    "plt.show()"
   ]
  },
  {
   "cell_type": "markdown",
   "id": "16606fec",
   "metadata": {},
   "source": [
    "##### Min Volatility Portfolio"
   ]
  },
  {
   "cell_type": "markdown",
   "id": "514ee9d9",
   "metadata": {},
   "source": [
    "###### Performance"
   ]
  },
  {
   "cell_type": "code",
   "execution_count": 24,
   "id": "20cfa5e9",
   "metadata": {
    "tags": [
     "remove-input"
    ]
   },
   "outputs": [
    {
     "ename": "NameError",
     "evalue": "name 'ef2' is not defined",
     "output_type": "error",
     "traceback": [
      "\u001b[0;31m---------------------------------------------------------------------------\u001b[0m",
      "\u001b[0;31mNameError\u001b[0m                                 Traceback (most recent call last)",
      "Input \u001b[0;32mIn [24]\u001b[0m, in \u001b[0;36m<cell line: 1>\u001b[0;34m()\u001b[0m\n\u001b[0;32m----> 1\u001b[0m \u001b[43mef2\u001b[49m\u001b[38;5;241m.\u001b[39mportfolio_performance(verbose\u001b[38;5;241m=\u001b[39m\u001b[38;5;28;01mTrue\u001b[39;00m)\n",
      "\u001b[0;31mNameError\u001b[0m: name 'ef2' is not defined"
     ]
    }
   ],
   "source": [
    "ef2.portfolio_performance(verbose=True);"
   ]
  },
  {
   "cell_type": "markdown",
   "id": "6f6a25ce",
   "metadata": {},
   "source": [
    "###### Weights"
   ]
  },
  {
   "cell_type": "code",
   "execution_count": 25,
   "id": "4cdfa66e",
   "metadata": {
    "tags": [
     "remove-input"
    ]
   },
   "outputs": [
    {
     "data": {
      "text/html": [
       "<div>\n",
       "<style scoped>\n",
       "    .dataframe tbody tr th:only-of-type {\n",
       "        vertical-align: middle;\n",
       "    }\n",
       "\n",
       "    .dataframe tbody tr th {\n",
       "        vertical-align: top;\n",
       "    }\n",
       "\n",
       "    .dataframe thead th {\n",
       "        text-align: right;\n",
       "    }\n",
       "</style>\n",
       "<table border=\"1\" class=\"dataframe\">\n",
       "  <thead>\n",
       "    <tr style=\"text-align: right;\">\n",
       "      <th></th>\n",
       "      <th>Company_Name</th>\n",
       "      <th>Weight</th>\n",
       "    </tr>\n",
       "  </thead>\n",
       "  <tbody>\n",
       "    <tr>\n",
       "      <th>0</th>\n",
       "      <td>RELIANT BANCORP, INC.</td>\n",
       "      <td>0.12273</td>\n",
       "    </tr>\n",
       "    <tr>\n",
       "      <th>1</th>\n",
       "      <td>CAROLINA TRUST BANCSHARES, INC.</td>\n",
       "      <td>0.11786</td>\n",
       "    </tr>\n",
       "    <tr>\n",
       "      <th>2</th>\n",
       "      <td>INVESTAR HOLDING CORP</td>\n",
       "      <td>0.19440</td>\n",
       "    </tr>\n",
       "    <tr>\n",
       "      <th>3</th>\n",
       "      <td>FIRST COMMUNITY CORP /SC/</td>\n",
       "      <td>0.05076</td>\n",
       "    </tr>\n",
       "    <tr>\n",
       "      <th>4</th>\n",
       "      <td>VILLAGE BANK &amp; TRUST FINANCIAL CORP.</td>\n",
       "      <td>0.13994</td>\n",
       "    </tr>\n",
       "    <tr>\n",
       "      <th>5</th>\n",
       "      <td>BANK OF THE JAMES FINANCIAL GROUP INC</td>\n",
       "      <td>0.00178</td>\n",
       "    </tr>\n",
       "    <tr>\n",
       "      <th>6</th>\n",
       "      <td>CITIZENS &amp; NORTHERN CORP</td>\n",
       "      <td>0.05375</td>\n",
       "    </tr>\n",
       "    <tr>\n",
       "      <th>7</th>\n",
       "      <td>BANK OF NEW YORK MELLON CORP</td>\n",
       "      <td>0.09533</td>\n",
       "    </tr>\n",
       "    <tr>\n",
       "      <th>8</th>\n",
       "      <td>FAUQUIER BANKSHARES, INC.</td>\n",
       "      <td>0.02143</td>\n",
       "    </tr>\n",
       "    <tr>\n",
       "      <th>9</th>\n",
       "      <td>MACKINAC FINANCIAL CORP /MI/</td>\n",
       "      <td>0.02478</td>\n",
       "    </tr>\n",
       "    <tr>\n",
       "      <th>10</th>\n",
       "      <td>GUARANTY FEDERAL BANCSHARES INC</td>\n",
       "      <td>0.17724</td>\n",
       "    </tr>\n",
       "  </tbody>\n",
       "</table>\n",
       "</div>"
      ],
      "text/plain": [
       "                             Company_Name   Weight\n",
       "0                   RELIANT BANCORP, INC.  0.12273\n",
       "1         CAROLINA TRUST BANCSHARES, INC.  0.11786\n",
       "2                   INVESTAR HOLDING CORP  0.19440\n",
       "3               FIRST COMMUNITY CORP /SC/  0.05076\n",
       "4    VILLAGE BANK & TRUST FINANCIAL CORP.  0.13994\n",
       "5   BANK OF THE JAMES FINANCIAL GROUP INC  0.00178\n",
       "6                CITIZENS & NORTHERN CORP  0.05375\n",
       "7            BANK OF NEW YORK MELLON CORP  0.09533\n",
       "8               FAUQUIER BANKSHARES, INC.  0.02143\n",
       "9            MACKINAC FINANCIAL CORP /MI/  0.02478\n",
       "10        GUARANTY FEDERAL BANCSHARES INC  0.17724"
      ]
     },
     "execution_count": 25,
     "metadata": {},
     "output_type": "execute_result"
    }
   ],
   "source": [
    "pd.read_csv(\"data/min_vol_sample_State_Commercial_Banks.csv\")"
   ]
  }
 ],
 "metadata": {
  "celltoolbar": "Edit Metadata",
  "kernelspec": {
   "display_name": "Python 3 (ipykernel)",
   "language": "python",
   "name": "python3"
  },
  "language_info": {
   "codemirror_mode": {
    "name": "ipython",
    "version": 3
   },
   "file_extension": ".py",
   "mimetype": "text/x-python",
   "name": "python",
   "nbconvert_exporter": "python",
   "pygments_lexer": "ipython3",
   "version": "3.9.12"
  }
 },
 "nbformat": 4,
 "nbformat_minor": 5
}
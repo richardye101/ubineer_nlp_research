{
 "cells": [
  {
   "cell_type": "markdown",
   "id": "07436507-b3a7-49ff-86ec-bae209ae6e2d",
   "metadata": {
    "tags": [
     "remove-output",
     "remove-input"
    ]
   },
   "source": [
    "# Dynamic Company Embedding\n",
    "\n",
    "This notebook aims to look at the word embeddings for companies and look at whats changed between the years 2016 to 2018, using techniques we've explored earlier such as\n",
    "\n",
    "- [tf-idf (term frequency - inverse document frequency)](#tf-idf-(term-frequency---inverse-document-frequency))\n",
    "- [word2vec](#word2vec)\n",
    "- [doc2vec](#doc2vec)"
   ]
  },
  {
   "cell_type": "code",
   "execution_count": 1,
   "id": "976d94f9-3448-4382-8e39-2482dda4cadb",
   "metadata": {
    "tags": [
     "hide-input",
     "remove-output"
    ]
   },
   "outputs": [
    {
     "ename": "ModuleNotFoundError",
     "evalue": "No module named 'pattern'",
     "output_type": "error",
     "traceback": [
      "\u001b[0;31m---------------------------------------------------------------------------\u001b[0m",
      "\u001b[0;31mModuleNotFoundError\u001b[0m                       Traceback (most recent call last)",
      "Input \u001b[0;32mIn [1]\u001b[0m, in \u001b[0;36m<cell line: 9>\u001b[0;34m()\u001b[0m\n\u001b[1;32m      7\u001b[0m get_ipython()\u001b[38;5;241m.\u001b[39mrun_line_magic(\u001b[38;5;124m'\u001b[39m\u001b[38;5;124mload_ext\u001b[39m\u001b[38;5;124m'\u001b[39m, \u001b[38;5;124m'\u001b[39m\u001b[38;5;124mautoreload\u001b[39m\u001b[38;5;124m'\u001b[39m)\n\u001b[1;32m      8\u001b[0m get_ipython()\u001b[38;5;241m.\u001b[39mrun_line_magic(\u001b[38;5;124m'\u001b[39m\u001b[38;5;124mautoreload\u001b[39m\u001b[38;5;124m'\u001b[39m, \u001b[38;5;124m'\u001b[39m\u001b[38;5;124m2\u001b[39m\u001b[38;5;124m'\u001b[39m)\n\u001b[0;32m----> 9\u001b[0m \u001b[43mget_ipython\u001b[49m\u001b[43m(\u001b[49m\u001b[43m)\u001b[49m\u001b[38;5;241;43m.\u001b[39;49m\u001b[43mrun_line_magic\u001b[49m\u001b[43m(\u001b[49m\u001b[38;5;124;43m'\u001b[39;49m\u001b[38;5;124;43maimport\u001b[39;49m\u001b[38;5;124;43m'\u001b[39;49m\u001b[43m,\u001b[49m\u001b[43m \u001b[49m\u001b[38;5;124;43m'\u001b[39;49m\u001b[38;5;124;43mstd_func\u001b[39;49m\u001b[38;5;124;43m'\u001b[39;49m\u001b[43m)\u001b[49m\n\u001b[1;32m     11\u001b[0m \u001b[38;5;66;03m# Hide warnings\u001b[39;00m\n\u001b[1;32m     12\u001b[0m \u001b[38;5;28;01mimport\u001b[39;00m \u001b[38;5;21;01mwarnings\u001b[39;00m\n",
      "File \u001b[0;32m/usr/local/lib/python3.9/site-packages/IPython/core/interactiveshell.py:2294\u001b[0m, in \u001b[0;36mInteractiveShell.run_line_magic\u001b[0;34m(self, magic_name, line, _stack_depth)\u001b[0m\n\u001b[1;32m   2292\u001b[0m     kwargs[\u001b[38;5;124m'\u001b[39m\u001b[38;5;124mlocal_ns\u001b[39m\u001b[38;5;124m'\u001b[39m] \u001b[38;5;241m=\u001b[39m \u001b[38;5;28mself\u001b[39m\u001b[38;5;241m.\u001b[39mget_local_scope(stack_depth)\n\u001b[1;32m   2293\u001b[0m \u001b[38;5;28;01mwith\u001b[39;00m \u001b[38;5;28mself\u001b[39m\u001b[38;5;241m.\u001b[39mbuiltin_trap:\n\u001b[0;32m-> 2294\u001b[0m     result \u001b[38;5;241m=\u001b[39m \u001b[43mfn\u001b[49m\u001b[43m(\u001b[49m\u001b[38;5;241;43m*\u001b[39;49m\u001b[43margs\u001b[49m\u001b[43m,\u001b[49m\u001b[43m \u001b[49m\u001b[38;5;241;43m*\u001b[39;49m\u001b[38;5;241;43m*\u001b[39;49m\u001b[43mkwargs\u001b[49m\u001b[43m)\u001b[49m\n\u001b[1;32m   2295\u001b[0m \u001b[38;5;28;01mreturn\u001b[39;00m result\n",
      "File \u001b[0;32m/usr/local/lib/python3.9/site-packages/IPython/extensions/autoreload.py:599\u001b[0m, in \u001b[0;36mAutoreloadMagics.aimport\u001b[0;34m(self, parameter_s, stream)\u001b[0m\n\u001b[1;32m    597\u001b[0m \u001b[38;5;28;01melse\u001b[39;00m:\n\u001b[1;32m    598\u001b[0m     \u001b[38;5;28;01mfor\u001b[39;00m _module \u001b[38;5;129;01min\u001b[39;00m [_\u001b[38;5;241m.\u001b[39mstrip() \u001b[38;5;28;01mfor\u001b[39;00m _ \u001b[38;5;129;01min\u001b[39;00m modname\u001b[38;5;241m.\u001b[39msplit(\u001b[38;5;124m\"\u001b[39m\u001b[38;5;124m,\u001b[39m\u001b[38;5;124m\"\u001b[39m)]:\n\u001b[0;32m--> 599\u001b[0m         top_module, top_name \u001b[38;5;241m=\u001b[39m \u001b[38;5;28;43mself\u001b[39;49m\u001b[38;5;241;43m.\u001b[39;49m\u001b[43m_reloader\u001b[49m\u001b[38;5;241;43m.\u001b[39;49m\u001b[43maimport_module\u001b[49m\u001b[43m(\u001b[49m\u001b[43m_module\u001b[49m\u001b[43m)\u001b[49m\n\u001b[1;32m    601\u001b[0m         \u001b[38;5;66;03m# Inject module to user namespace\u001b[39;00m\n\u001b[1;32m    602\u001b[0m         \u001b[38;5;28mself\u001b[39m\u001b[38;5;241m.\u001b[39mshell\u001b[38;5;241m.\u001b[39mpush({top_name: top_module})\n",
      "File \u001b[0;32m/usr/local/lib/python3.9/site-packages/IPython/extensions/autoreload.py:187\u001b[0m, in \u001b[0;36mModuleReloader.aimport_module\u001b[0;34m(self, module_name)\u001b[0m\n\u001b[1;32m    175\u001b[0m \u001b[38;5;124;03m\"\"\"Import a module, and mark it reloadable\u001b[39;00m\n\u001b[1;32m    176\u001b[0m \n\u001b[1;32m    177\u001b[0m \u001b[38;5;124;03mReturns\u001b[39;00m\n\u001b[0;32m   (...)\u001b[0m\n\u001b[1;32m    183\u001b[0m \n\u001b[1;32m    184\u001b[0m \u001b[38;5;124;03m\"\"\"\u001b[39;00m\n\u001b[1;32m    185\u001b[0m \u001b[38;5;28mself\u001b[39m\u001b[38;5;241m.\u001b[39mmark_module_reloadable(module_name)\n\u001b[0;32m--> 187\u001b[0m \u001b[43mimport_module\u001b[49m\u001b[43m(\u001b[49m\u001b[43mmodule_name\u001b[49m\u001b[43m)\u001b[49m\n\u001b[1;32m    188\u001b[0m top_name \u001b[38;5;241m=\u001b[39m module_name\u001b[38;5;241m.\u001b[39msplit(\u001b[38;5;124m\"\u001b[39m\u001b[38;5;124m.\u001b[39m\u001b[38;5;124m\"\u001b[39m)[\u001b[38;5;241m0\u001b[39m]\n\u001b[1;32m    189\u001b[0m top_module \u001b[38;5;241m=\u001b[39m sys\u001b[38;5;241m.\u001b[39mmodules[top_name]\n",
      "File \u001b[0;32m/usr/local/Cellar/python@3.9/3.9.12/Frameworks/Python.framework/Versions/3.9/lib/python3.9/importlib/__init__.py:127\u001b[0m, in \u001b[0;36mimport_module\u001b[0;34m(name, package)\u001b[0m\n\u001b[1;32m    125\u001b[0m             \u001b[38;5;28;01mbreak\u001b[39;00m\n\u001b[1;32m    126\u001b[0m         level \u001b[38;5;241m+\u001b[39m\u001b[38;5;241m=\u001b[39m \u001b[38;5;241m1\u001b[39m\n\u001b[0;32m--> 127\u001b[0m \u001b[38;5;28;01mreturn\u001b[39;00m \u001b[43m_bootstrap\u001b[49m\u001b[38;5;241;43m.\u001b[39;49m\u001b[43m_gcd_import\u001b[49m\u001b[43m(\u001b[49m\u001b[43mname\u001b[49m\u001b[43m[\u001b[49m\u001b[43mlevel\u001b[49m\u001b[43m:\u001b[49m\u001b[43m]\u001b[49m\u001b[43m,\u001b[49m\u001b[43m \u001b[49m\u001b[43mpackage\u001b[49m\u001b[43m,\u001b[49m\u001b[43m \u001b[49m\u001b[43mlevel\u001b[49m\u001b[43m)\u001b[49m\n",
      "File \u001b[0;32m<frozen importlib._bootstrap>:1030\u001b[0m, in \u001b[0;36m_gcd_import\u001b[0;34m(name, package, level)\u001b[0m\n",
      "File \u001b[0;32m<frozen importlib._bootstrap>:1007\u001b[0m, in \u001b[0;36m_find_and_load\u001b[0;34m(name, import_)\u001b[0m\n",
      "File \u001b[0;32m<frozen importlib._bootstrap>:986\u001b[0m, in \u001b[0;36m_find_and_load_unlocked\u001b[0;34m(name, import_)\u001b[0m\n",
      "File \u001b[0;32m<frozen importlib._bootstrap>:680\u001b[0m, in \u001b[0;36m_load_unlocked\u001b[0;34m(spec)\u001b[0m\n",
      "File \u001b[0;32m<frozen importlib._bootstrap_external>:850\u001b[0m, in \u001b[0;36mexec_module\u001b[0;34m(self, module)\u001b[0m\n",
      "File \u001b[0;32m<frozen importlib._bootstrap>:228\u001b[0m, in \u001b[0;36m_call_with_frames_removed\u001b[0;34m(f, *args, **kwds)\u001b[0m\n",
      "File \u001b[0;32m~/Documents/GitHub/ubineer_nlp_research/content/richard/../std_func.py:19\u001b[0m, in \u001b[0;36m<module>\u001b[0;34m\u001b[0m\n\u001b[1;32m     17\u001b[0m \u001b[38;5;28;01mfrom\u001b[39;00m \u001b[38;5;21;01msklearn\u001b[39;00m\u001b[38;5;21;01m.\u001b[39;00m\u001b[38;5;21;01mcluster\u001b[39;00m \u001b[38;5;28;01mimport\u001b[39;00m KMeans\n\u001b[1;32m     18\u001b[0m \u001b[38;5;28;01mimport\u001b[39;00m \u001b[38;5;21;01mplotly\u001b[39;00m\u001b[38;5;21;01m.\u001b[39;00m\u001b[38;5;21;01mexpress\u001b[39;00m \u001b[38;5;28;01mas\u001b[39;00m \u001b[38;5;21;01mpx\u001b[39;00m\n\u001b[0;32m---> 19\u001b[0m \u001b[38;5;28;01mimport\u001b[39;00m \u001b[38;5;21;01mpattern\u001b[39;00m\n\u001b[1;32m     20\u001b[0m \u001b[38;5;28;01mimport\u001b[39;00m \u001b[38;5;21;01mcollections\u001b[39;00m\n\u001b[1;32m     21\u001b[0m \u001b[38;5;28;01mfrom\u001b[39;00m \u001b[38;5;21;01mpattern\u001b[39;00m\u001b[38;5;21;01m.\u001b[39;00m\u001b[38;5;21;01men\u001b[39;00m \u001b[38;5;28;01mimport\u001b[39;00m parsetree, singularize\n",
      "\u001b[0;31mModuleNotFoundError\u001b[0m: No module named 'pattern'"
     ]
    }
   ],
   "source": [
    "import os\n",
    "import json\n",
    "import pandas as pd\n",
    "import numpy as np\n",
    "import sys\n",
    "sys.path.insert(0, '..')\n",
    "%load_ext autoreload\n",
    "%autoreload 2\n",
    "%aimport std_func\n",
    "\n",
    "# Hide warnings\n",
    "import warnings\n",
    "warnings.filterwarnings(\"ignore\")\n",
    "\n",
    "data = pd.read_csv(\"../data/preprocessed.csv\")\n",
    "data_t = pd.read_csv(\"../mary/filtered_timeseries_data.csv\")"
   ]
  },
  {
   "cell_type": "markdown",
   "id": "6c7c210a-2e3f-470e-86d6-2be173aac1e9",
   "metadata": {},
   "source": [
    "\n",
    "We will examine these five companies and their sequential annual reports: \n",
    "- `OKTA`\n",
    "- `Z-Scaler`\n",
    "- `NFLX`\n",
    "- `IBM`\n",
    "- `GE`"
   ]
  },
  {
   "cell_type": "code",
   "execution_count": 2,
   "id": "0d60cd3e-a212-4d5d-b232-1ec47ef3d375",
   "metadata": {
    "tags": [
     "remove-input",
     "remove-output"
    ]
   },
   "outputs": [
    {
     "ename": "NameError",
     "evalue": "name 'std_func' is not defined",
     "output_type": "error",
     "traceback": [
      "\u001b[0;31m---------------------------------------------------------------------------\u001b[0m",
      "\u001b[0;31mNameError\u001b[0m                                 Traceback (most recent call last)",
      "Input \u001b[0;32mIn [2]\u001b[0m, in \u001b[0;36m<cell line: 7>\u001b[0;34m()\u001b[0m\n\u001b[1;32m      5\u001b[0m data_five_raw \u001b[38;5;241m=\u001b[39m pd\u001b[38;5;241m.\u001b[39mread_csv(\u001b[38;5;124m\"\u001b[39m\u001b[38;5;124m../data/bq_dynamic_five.csv\u001b[39m\u001b[38;5;124m\"\u001b[39m)\n\u001b[1;32m      6\u001b[0m data_five_raw[\u001b[38;5;124m\"\u001b[39m\u001b[38;5;124mCIK\u001b[39m\u001b[38;5;124m\"\u001b[39m] \u001b[38;5;241m=\u001b[39m data_five_raw[\u001b[38;5;124m\"\u001b[39m\u001b[38;5;124mfinancialEntity\u001b[39m\u001b[38;5;124m\"\u001b[39m]\u001b[38;5;241m.\u001b[39mstr\u001b[38;5;241m.\u001b[39msplit(\u001b[38;5;124m\"\u001b[39m\u001b[38;5;124m=\u001b[39m\u001b[38;5;124m\"\u001b[39m, expand \u001b[38;5;241m=\u001b[39m \u001b[38;5;28;01mTrue\u001b[39;00m)\u001b[38;5;241m.\u001b[39miloc[:,\u001b[38;5;241m1\u001b[39m]\n\u001b[0;32m----> 7\u001b[0m data_five \u001b[38;5;241m=\u001b[39m \u001b[43mstd_func\u001b[49m\u001b[38;5;241m.\u001b[39mclean(data_five_raw)\u001b[38;5;241m.\u001b[39mdrop(columns \u001b[38;5;241m=\u001b[39m [\u001b[38;5;124m\"\u001b[39m\u001b[38;5;124mcoDescription\u001b[39m\u001b[38;5;124m\"\u001b[39m, \u001b[38;5;124m\"\u001b[39m\u001b[38;5;124mcoDescription_lemmatized\u001b[39m\u001b[38;5;124m\"\u001b[39m])\n\u001b[1;32m      8\u001b[0m data_five \u001b[38;5;241m=\u001b[39m pd\u001b[38;5;241m.\u001b[39mmerge(data_five, the_five, how \u001b[38;5;241m=\u001b[39m \u001b[38;5;124m\"\u001b[39m\u001b[38;5;124mleft\u001b[39m\u001b[38;5;124m\"\u001b[39m, on \u001b[38;5;241m=\u001b[39m \u001b[38;5;124m\"\u001b[39m\u001b[38;5;124mCIK\u001b[39m\u001b[38;5;124m\"\u001b[39m)\n",
      "\u001b[0;31mNameError\u001b[0m: name 'std_func' is not defined"
     ]
    }
   ],
   "source": [
    "the_five = pd.DataFrame.from_dict(\n",
    "    {1660134:\"OKTA\",1713683:\"Z-Scaler\",1065280:\"NFLX\",51143:\"IBM\",40545:\"GE\"},\n",
    "    orient = \"index\").reset_index().rename(columns={\"index\":\"CIK\",0:\"Name\"})\n",
    "\n",
    "data_five_raw = pd.read_csv(\"../data/bq_dynamic_five.csv\")\n",
    "data_five_raw[\"CIK\"] = data_five_raw[\"financialEntity\"].str.split(\"=\", expand = True).iloc[:,1]\n",
    "data_five = std_func.clean(data_five_raw).drop(columns = [\"coDescription\", \"coDescription_lemmatized\"])\n",
    "data_five = pd.merge(data_five, the_five, how = \"left\", on = \"CIK\")"
   ]
  },
  {
   "cell_type": "code",
   "execution_count": 3,
   "id": "51204bb4-2f24-432e-9ce0-38f83454fc3f",
   "metadata": {
    "tags": [
     "remove-input"
    ]
   },
   "outputs": [
    {
     "ename": "NameError",
     "evalue": "name 'data_t' is not defined",
     "output_type": "error",
     "traceback": [
      "\u001b[0;31m---------------------------------------------------------------------------\u001b[0m",
      "\u001b[0;31mNameError\u001b[0m                                 Traceback (most recent call last)",
      "Input \u001b[0;32mIn [3]\u001b[0m, in \u001b[0;36m<cell line: 1>\u001b[0;34m()\u001b[0m\n\u001b[0;32m----> 1\u001b[0m \u001b[38;5;28mprint\u001b[39m(\u001b[38;5;124m\"\u001b[39m\u001b[38;5;124mWe have \u001b[39m\u001b[38;5;132;01m{}\u001b[39;00m\u001b[38;5;124m unique companies that are within the corpus of data we will examine.\u001b[39m\u001b[38;5;124m\"\u001b[39m\u001b[38;5;241m.\u001b[39mformat(\u001b[38;5;28mlen\u001b[39m(pd\u001b[38;5;241m.\u001b[39munique(\u001b[43mdata_t\u001b[49m[\u001b[38;5;124m\"\u001b[39m\u001b[38;5;124mCIK\u001b[39m\u001b[38;5;124m\"\u001b[39m]))))\n",
      "\u001b[0;31mNameError\u001b[0m: name 'data_t' is not defined"
     ]
    }
   ],
   "source": [
    "print(\"We have {} unique companies that are within the corpus of data we will examine.\".format(len(pd.unique(data_t[\"CIK\"]))))"
   ]
  },
  {
   "cell_type": "code",
   "execution_count": 4,
   "id": "0a189077-ac81-40a7-bcf8-b26e3ce3f5b0",
   "metadata": {
    "tags": [
     "remove-input",
     "remove-output"
    ]
   },
   "outputs": [
    {
     "ename": "NameError",
     "evalue": "name 'data_t' is not defined",
     "output_type": "error",
     "traceback": [
      "\u001b[0;31m---------------------------------------------------------------------------\u001b[0m",
      "\u001b[0;31mNameError\u001b[0m                                 Traceback (most recent call last)",
      "Input \u001b[0;32mIn [4]\u001b[0m, in \u001b[0;36m<cell line: 2>\u001b[0;34m()\u001b[0m\n\u001b[1;32m      1\u001b[0m \u001b[38;5;66;03m# The companies with names have them, the ones that don't are NaN\u001b[39;00m\n\u001b[0;32m----> 2\u001b[0m clean \u001b[38;5;241m=\u001b[39m pd\u001b[38;5;241m.\u001b[39mmerge(\u001b[43mdata_t\u001b[49m,\n\u001b[1;32m      3\u001b[0m     data_five, how \u001b[38;5;241m=\u001b[39m \u001b[38;5;124m\"\u001b[39m\u001b[38;5;124mleft\u001b[39m\u001b[38;5;124m\"\u001b[39m, on\u001b[38;5;241m=\u001b[39m\u001b[38;5;124m\"\u001b[39m\u001b[38;5;124mCIK\u001b[39m\u001b[38;5;124m\"\u001b[39m)\n\u001b[1;32m      5\u001b[0m clean[\u001b[38;5;124m'\u001b[39m\u001b[38;5;124mName\u001b[39m\u001b[38;5;124m'\u001b[39m] \u001b[38;5;241m=\u001b[39m clean[\u001b[38;5;124m'\u001b[39m\u001b[38;5;124mName_y\u001b[39m\u001b[38;5;124m'\u001b[39m]\u001b[38;5;241m.\u001b[39mfillna(clean[\u001b[38;5;124m'\u001b[39m\u001b[38;5;124mName_x\u001b[39m\u001b[38;5;124m'\u001b[39m])\n\u001b[1;32m      6\u001b[0m clean \u001b[38;5;241m=\u001b[39m clean\u001b[38;5;241m.\u001b[39mdrop([\u001b[38;5;124m\"\u001b[39m\u001b[38;5;124m...1\u001b[39m\u001b[38;5;124m\"\u001b[39m,\u001b[38;5;124m\"\u001b[39m\u001b[38;5;124mUnnamed: 0\u001b[39m\u001b[38;5;124m\"\u001b[39m,\u001b[38;5;124m\"\u001b[39m\u001b[38;5;124mreports\u001b[39m\u001b[38;5;124m\"\u001b[39m],axis \u001b[38;5;241m=\u001b[39m \u001b[38;5;241m1\u001b[39m)\n",
      "\u001b[0;31mNameError\u001b[0m: name 'data_t' is not defined"
     ]
    }
   ],
   "source": [
    "# The companies with names have them, the ones that don't are NaN\n",
    "clean = pd.merge(data_t,\n",
    "    data_five, how = \"left\", on=\"CIK\")\n",
    "\n",
    "clean['Name'] = clean['Name_y'].fillna(clean['Name_x'])\n",
    "clean = clean.drop([\"...1\",\"Unnamed: 0\",\"reports\"],axis = 1)\n",
    "# clean\n",
    "# final = clean\n",
    "# Adding on the data from the 5 companies\n",
    "final = pd.concat([data_t,data_five]).reset_index()\n",
    "# final = final.merge(pd.Series(final.groupby(\"CIK\").size(), name = \"reports\"), how = \"left\", on = \"CIK\") \\\n",
    "    # .sort_values([\"CIK\",\"filingDate\"]).reset_index()\n",
    "final"
   ]
  },
  {
   "cell_type": "markdown",
   "id": "a86c6f12-dea9-4b96-9612-43786663e9ec",
   "metadata": {},
   "source": [
    "## Diving into the embeddings\n",
    "\n",
    "In this section, we look at the three embedding techniques employed earlier and how they can help us analyze how four companies have changed year after year.\n",
    "\n",
    "### tf-idf (term frequency - inverse document frequency)\n",
    "For tf-idf we can look directly at the terms extracted and analyze how they've changed over time."
   ]
  },
  {
   "cell_type": "markdown",
   "id": "9187f5ac-65db-4cc6-af6b-a07cf7b42155",
   "metadata": {},
   "source": [
    "We have written a function that computes the 20 terms that experienced the largest changes in value year over year, for each company and each year. Below are the results after running our data through it."
   ]
  },
  {
   "cell_type": "code",
   "execution_count": 5,
   "id": "51463540-831c-4824-b100-287fdeccc86d",
   "metadata": {
    "tags": [
     "remove-input",
     "remove-output"
    ]
   },
   "outputs": [
    {
     "ename": "NameError",
     "evalue": "name 'final' is not defined",
     "output_type": "error",
     "traceback": [
      "\u001b[0;31m---------------------------------------------------------------------------\u001b[0m",
      "\u001b[0;31mNameError\u001b[0m                                 Traceback (most recent call last)",
      "Input \u001b[0;32mIn [5]\u001b[0m, in \u001b[0;36m<cell line: 6>\u001b[0;34m()\u001b[0m\n\u001b[1;32m      3\u001b[0m \u001b[38;5;28;01mfrom\u001b[39;00m \u001b[38;5;21;01msklearn\u001b[39;00m\u001b[38;5;21;01m.\u001b[39;00m\u001b[38;5;21;01mpipeline\u001b[39;00m \u001b[38;5;28;01mimport\u001b[39;00m Pipeline\n\u001b[1;32m      5\u001b[0m \u001b[38;5;66;03m# combine the techniques since tf-idf only augments count vectorized documents\u001b[39;00m\n\u001b[1;32m      6\u001b[0m pipe \u001b[38;5;241m=\u001b[39m Pipeline([(\u001b[38;5;124m'\u001b[39m\u001b[38;5;124mcount\u001b[39m\u001b[38;5;124m'\u001b[39m, CountVectorizer(ngram_range \u001b[38;5;241m=\u001b[39m (\u001b[38;5;241m2\u001b[39m,\u001b[38;5;241m4\u001b[39m), max_features \u001b[38;5;241m=\u001b[39m \u001b[38;5;241m1000\u001b[39m)),\n\u001b[0;32m----> 7\u001b[0m                   (\u001b[38;5;124m'\u001b[39m\u001b[38;5;124mtfidf\u001b[39m\u001b[38;5;124m'\u001b[39m, TfidfTransformer())])\u001b[38;5;241m.\u001b[39mfit(\u001b[43mfinal\u001b[49m[\u001b[38;5;124m\"\u001b[39m\u001b[38;5;124mcoDescription_stopwords\u001b[39m\u001b[38;5;124m\"\u001b[39m])\n\u001b[1;32m      9\u001b[0m tfidf \u001b[38;5;241m=\u001b[39m pd\u001b[38;5;241m.\u001b[39mDataFrame(pipe\u001b[38;5;241m.\u001b[39mtransform(final[\u001b[38;5;124m\"\u001b[39m\u001b[38;5;124mcoDescription_stopwords\u001b[39m\u001b[38;5;124m\"\u001b[39m])\u001b[38;5;241m.\u001b[39mtoarray())\n\u001b[1;32m     10\u001b[0m data_tfidf \u001b[38;5;241m=\u001b[39m pd\u001b[38;5;241m.\u001b[39mconcat([final\u001b[38;5;241m.\u001b[39mloc[:,[\u001b[38;5;124m\"\u001b[39m\u001b[38;5;124mfilingDate\u001b[39m\u001b[38;5;124m\"\u001b[39m,\u001b[38;5;124m\"\u001b[39m\u001b[38;5;124mCIK\u001b[39m\u001b[38;5;124m\"\u001b[39m, \u001b[38;5;124m\"\u001b[39m\u001b[38;5;124mName\u001b[39m\u001b[38;5;124m\"\u001b[39m]],tfidf], axis \u001b[38;5;241m=\u001b[39m \u001b[38;5;241m1\u001b[39m)\n",
      "\u001b[0;31mNameError\u001b[0m: name 'final' is not defined"
     ]
    }
   ],
   "source": [
    "from sklearn.feature_extraction.text import CountVectorizer\n",
    "from sklearn.feature_extraction.text import TfidfTransformer\n",
    "from sklearn.pipeline import Pipeline\n",
    "\n",
    "# combine the techniques since tf-idf only augments count vectorized documents\n",
    "pipe = Pipeline([('count', CountVectorizer(ngram_range = (2,4), max_features = 1000)),\n",
    "                  ('tfidf', TfidfTransformer())]).fit(final[\"coDescription_stopwords\"])\n",
    "\n",
    "tfidf = pd.DataFrame(pipe.transform(final[\"coDescription_stopwords\"]).toarray())\n",
    "data_tfidf = pd.concat([final.loc[:,[\"filingDate\",\"CIK\", \"Name\"]],tfidf], axis = 1)\n",
    "delta_tfidf = std_func.deltas(final, data_tfidf, pipe.get_feature_names_out().tolist()) \\\n",
    "    .rename(columns = {0:\"CIK\", 1:\"Name\", 2: \"YoY\", 3:\"Term\", 4:\"Delta\"})\n",
    "delta_tfidf"
   ]
  },
  {
   "cell_type": "markdown",
   "id": "2b4b4f5d-15d7-41fb-a1c2-b3f69a58856f",
   "metadata": {},
   "source": [
    "#### OKTA\n",
    "\n",
    "We can now examine OKTA and which terms experienced the largest changes in value year over year."
   ]
  },
  {
   "cell_type": "code",
   "execution_count": 6,
   "id": "3ee81438-5a0e-4eb8-8309-ab571185bbd5",
   "metadata": {
    "tags": [
     "remove-output",
     "hide-input"
    ]
   },
   "outputs": [
    {
     "ename": "NameError",
     "evalue": "name 'delta_tfidf' is not defined",
     "output_type": "error",
     "traceback": [
      "\u001b[0;31m---------------------------------------------------------------------------\u001b[0m",
      "\u001b[0;31mNameError\u001b[0m                                 Traceback (most recent call last)",
      "Input \u001b[0;32mIn [6]\u001b[0m, in \u001b[0;36m<cell line: 2>\u001b[0;34m()\u001b[0m\n\u001b[1;32m      1\u001b[0m \u001b[38;5;66;03m# OKTA\u001b[39;00m\n\u001b[0;32m----> 2\u001b[0m OKTA \u001b[38;5;241m=\u001b[39m \u001b[43mdelta_tfidf\u001b[49m[delta_tfidf\u001b[38;5;241m.\u001b[39miloc[:,\u001b[38;5;241m0\u001b[39m] \u001b[38;5;241m==\u001b[39m \u001b[38;5;241m1660134\u001b[39m]\u001b[38;5;241m.\u001b[39miloc[:\u001b[38;5;241m60\u001b[39m,:]\u001b[38;5;241m.\u001b[39mgroupby(\u001b[38;5;124m\"\u001b[39m\u001b[38;5;124mYoY\u001b[39m\u001b[38;5;124m\"\u001b[39m)\u001b[38;5;241m.\u001b[39mhead(\u001b[38;5;241m5\u001b[39m)\n",
      "\u001b[0;31mNameError\u001b[0m: name 'delta_tfidf' is not defined"
     ]
    }
   ],
   "source": [
    "# OKTA\n",
    "OKTA = delta_tfidf[delta_tfidf.iloc[:,0] == 1660134].iloc[:60,:].groupby(\"YoY\").head(5)"
   ]
  },
  {
   "cell_type": "markdown",
   "id": "c4996491-9027-4a69-9335-ff15fb652b8c",
   "metadata": {},
   "source": [
    "##### 2018 - 2019\n",
    "\n",
    "The earliest filing on OKTA available is in 2018. We can see from this analysis that between 2018 and 2019, the largets decrease in tf-idf value (term importance) was _\"mobile application\"_. But on the rise of importance were terms such as _\"help customer\"_ and _\"customer support\"_. \n",
    "\n",
    "From Wikipedia, \n",
    "\n",
    ">It provides cloud software that helps companies manage and secure user authentication into applications, and for developers to build identity controls into applications, website web services and devices.\n",
    "\n",
    "We can reason that throughout 2019, Okta shifted their focus away from mobile applications to some degree, and increased their focus on customer care.\n",
    "\n",
    "Assuming they have many business customers with a variety of applications, we could consider this the year Okta **shifted their services a little further from mobile**."
   ]
  },
  {
   "cell_type": "code",
   "execution_count": 7,
   "id": "4ed29c7d-7caa-428a-a0cd-ccdaba71b7f9",
   "metadata": {
    "tags": [
     "hide-input"
    ]
   },
   "outputs": [
    {
     "ename": "NameError",
     "evalue": "name 'OKTA' is not defined",
     "output_type": "error",
     "traceback": [
      "\u001b[0;31m---------------------------------------------------------------------------\u001b[0m",
      "\u001b[0;31mNameError\u001b[0m                                 Traceback (most recent call last)",
      "Input \u001b[0;32mIn [7]\u001b[0m, in \u001b[0;36m<cell line: 1>\u001b[0;34m()\u001b[0m\n\u001b[0;32m----> 1\u001b[0m \u001b[43mOKTA\u001b[49m[:\u001b[38;5;241m5\u001b[39m]\n",
      "\u001b[0;31mNameError\u001b[0m: name 'OKTA' is not defined"
     ]
    }
   ],
   "source": [
    "OKTA[:5]"
   ]
  },
  {
   "cell_type": "markdown",
   "id": "e164c65f-0946-4e96-b4bb-05c5afb076a4",
   "metadata": {},
   "source": [
    "##### 2019 - 2020\n",
    "\n",
    "In 2020, it seems the _\"end user\"_ became a largest importance to Okta, supported by the increased importance of _\"customer need\"_ as well.\n",
    "\n",
    "This year could be categorized as a shift toward focusing on **users**."
   ]
  },
  {
   "cell_type": "code",
   "execution_count": 8,
   "id": "f693082c-472e-498b-a1e0-c7a507306ea7",
   "metadata": {
    "tags": [
     "hide-input"
    ]
   },
   "outputs": [
    {
     "ename": "NameError",
     "evalue": "name 'OKTA' is not defined",
     "output_type": "error",
     "traceback": [
      "\u001b[0;31m---------------------------------------------------------------------------\u001b[0m",
      "\u001b[0;31mNameError\u001b[0m                                 Traceback (most recent call last)",
      "Input \u001b[0;32mIn [8]\u001b[0m, in \u001b[0;36m<cell line: 1>\u001b[0;34m()\u001b[0m\n\u001b[0;32m----> 1\u001b[0m \u001b[43mOKTA\u001b[49m[\u001b[38;5;241m5\u001b[39m:\u001b[38;5;241m10\u001b[39m]\n",
      "\u001b[0;31mNameError\u001b[0m: name 'OKTA' is not defined"
     ]
    }
   ],
   "source": [
    "OKTA[5:10]"
   ]
  },
  {
   "cell_type": "markdown",
   "id": "4fe8fe40-4c93-4612-915c-775aad178f0d",
   "metadata": {},
   "source": [
    "##### 2020 - 2021\n",
    "\n",
    "We see an increase in importance of terms like _\"merger agreement\"_, _\"common stock\"_, _\"per share\"_, and _\"equity interest\"_. These terms are all related to mergers and acquisitions and a quick search reveals that in May of 2021, they successfully completed a merger with another company named auth0.\n",
    "\n",
    "You could consider **this M&A event to carry the most importance to Okta's shareholders** at the end of 2021, which is why it was given such importance in the the Business Description section."
   ]
  },
  {
   "cell_type": "code",
   "execution_count": 9,
   "id": "4755d8df-d5db-4950-85f3-2f989db251ba",
   "metadata": {
    "tags": [
     "hide-input"
    ]
   },
   "outputs": [
    {
     "ename": "NameError",
     "evalue": "name 'OKTA' is not defined",
     "output_type": "error",
     "traceback": [
      "\u001b[0;31m---------------------------------------------------------------------------\u001b[0m",
      "\u001b[0;31mNameError\u001b[0m                                 Traceback (most recent call last)",
      "Input \u001b[0;32mIn [9]\u001b[0m, in \u001b[0;36m<cell line: 1>\u001b[0;34m()\u001b[0m\n\u001b[0;32m----> 1\u001b[0m \u001b[43mOKTA\u001b[49m[\u001b[38;5;241m10\u001b[39m:\u001b[38;5;241m15\u001b[39m]\n",
      "\u001b[0;31mNameError\u001b[0m: name 'OKTA' is not defined"
     ]
    }
   ],
   "source": [
    "OKTA[10:15]"
   ]
  },
  {
   "cell_type": "markdown",
   "id": "1d4c0c65-b3d3-4ea1-9199-0a47f03b07f7",
   "metadata": {},
   "source": [
    "#### Z-Scaler\n",
    "\n",
    "> Z-scaler is a cloud security company, headquartered in San Jose, California. The company’s cloud-native technology platform, the Zscaler Zero Trust Exchange, is designed to help enterprise customers secure their employees, applications, and data as infrastructure and applications move to the cloud and as employees connect to work remotely, off the traditional corporate network.\n",
    "\n",
    "- Wikipedia\n",
    "\n",
    "Knowing what kind of company Z-Scaler is now, lets try to infer what these changes in term importances mean.\n",
    "\n",
    "##### 2019-2020\n",
    "\n",
    "Unfortunately, we only have 2 years of data for Z-Scaler. In 2020, it seems they had a large focus on _\"data center\"_, and increases in importance for terms that included _\"service\"_. We could infer that in 2020, the company which provides security to its clients in the pulic cloud or private data centers had an increased focus on the latter group of services. "
   ]
  },
  {
   "cell_type": "code",
   "execution_count": 10,
   "id": "2dd9cf30-fc3d-4d31-ab99-3547456d7346",
   "metadata": {
    "tags": [
     "hide-input"
    ]
   },
   "outputs": [
    {
     "ename": "NameError",
     "evalue": "name 'delta_tfidf' is not defined",
     "output_type": "error",
     "traceback": [
      "\u001b[0;31m---------------------------------------------------------------------------\u001b[0m",
      "\u001b[0;31mNameError\u001b[0m                                 Traceback (most recent call last)",
      "Input \u001b[0;32mIn [10]\u001b[0m, in \u001b[0;36m<cell line: 2>\u001b[0;34m()\u001b[0m\n\u001b[1;32m      1\u001b[0m \u001b[38;5;66;03m# Z-Scaler\u001b[39;00m\n\u001b[0;32m----> 2\u001b[0m \u001b[43mdelta_tfidf\u001b[49m[delta_tfidf\u001b[38;5;241m.\u001b[39miloc[:,\u001b[38;5;241m0\u001b[39m] \u001b[38;5;241m==\u001b[39m \u001b[38;5;241m1713683\u001b[39m]\u001b[38;5;241m.\u001b[39miloc[:\u001b[38;5;241m60\u001b[39m,:]\u001b[38;5;241m.\u001b[39mgroupby(\u001b[38;5;124m\"\u001b[39m\u001b[38;5;124mYoY\u001b[39m\u001b[38;5;124m\"\u001b[39m)\u001b[38;5;241m.\u001b[39mhead(\u001b[38;5;241m5\u001b[39m)\n",
      "\u001b[0;31mNameError\u001b[0m: name 'delta_tfidf' is not defined"
     ]
    }
   ],
   "source": [
    "# Z-Scaler\n",
    "delta_tfidf[delta_tfidf.iloc[:,0] == 1713683].iloc[:60,:].groupby(\"YoY\").head(5)"
   ]
  },
  {
   "cell_type": "markdown",
   "id": "81190992-7be0-4a41-8236-85d0b166b518",
   "metadata": {},
   "source": [
    "#### Netflix\n",
    "\n",
    "Netflix is a company that usually needs no introduction, but I will give one regardless.\n",
    "\n",
    "> Netflix, Inc. is an American subscription streaming service and production company. Launched on August 29, 1997, it offers a film and television series library through distribution deals as well as its own productions, known as Netflix Originals.\n",
    "\n",
    "Lets look at what changes Netflix as a company went through over the years.\n",
    "\n",
    "##### 2008 - 2009\n",
    "\n",
    "As you recall, these are the terms that experienced the largest absolute changes in tf-idf value year over year. This implies that in 2009, Netflix talked about their _\"business model\"_, _\"customer support\" and \"proprietary technology\"_ less. It's hard to guage what this translated into but is interesting nonetheless."
   ]
  },
  {
   "cell_type": "code",
   "execution_count": 11,
   "id": "5b280fca-9229-42ef-b82d-3db5ed7e69f6",
   "metadata": {
    "tags": [
     "hide-input"
    ]
   },
   "outputs": [
    {
     "ename": "NameError",
     "evalue": "name 'delta_tfidf' is not defined",
     "output_type": "error",
     "traceback": [
      "\u001b[0;31m---------------------------------------------------------------------------\u001b[0m",
      "\u001b[0;31mNameError\u001b[0m                                 Traceback (most recent call last)",
      "Input \u001b[0;32mIn [11]\u001b[0m, in \u001b[0;36m<cell line: 2>\u001b[0;34m()\u001b[0m\n\u001b[1;32m      1\u001b[0m \u001b[38;5;66;03m# Netflix\u001b[39;00m\n\u001b[0;32m----> 2\u001b[0m nlfx \u001b[38;5;241m=\u001b[39m \u001b[43mdelta_tfidf\u001b[49m[delta_tfidf\u001b[38;5;241m.\u001b[39miloc[:,\u001b[38;5;241m0\u001b[39m] \u001b[38;5;241m==\u001b[39m \u001b[38;5;241m1065280\u001b[39m]\u001b[38;5;241m.\u001b[39miloc[:\u001b[38;5;241m80\u001b[39m,:]\u001b[38;5;241m.\u001b[39mgroupby(\u001b[38;5;124m\"\u001b[39m\u001b[38;5;124mYoY\u001b[39m\u001b[38;5;124m\"\u001b[39m)\u001b[38;5;241m.\u001b[39mhead(\u001b[38;5;241m5\u001b[39m)\n\u001b[1;32m      3\u001b[0m nlfx[:\u001b[38;5;241m5\u001b[39m]\n",
      "\u001b[0;31mNameError\u001b[0m: name 'delta_tfidf' is not defined"
     ]
    }
   ],
   "source": [
    "# Netflix\n",
    "nlfx = delta_tfidf[delta_tfidf.iloc[:,0] == 1065280].iloc[:80,:].groupby(\"YoY\").head(5)\n",
    "nlfx[:5]"
   ]
  },
  {
   "cell_type": "markdown",
   "id": "b6b64eb4-03be-4f1f-bb1c-83263804361b",
   "metadata": {},
   "source": [
    "##### 2009 - 2010\n",
    "\n",
    "In 2010, it seems as though an emphasis of _\"license agreement\"_, _\"third party\"_, and _\"intellectual property\"_ all increased in importance. \n",
    "\n",
    "This is quite important, as according to Britannica,\n",
    "\n",
    "> In 2010 Netflix introduced a streaming-only plan that offered unlimited streaming service but no DVDs. Netflix then expanded beyond the United States by offering the streaming-only plan in Canada in 2010, in Latin America and the Caribbean in 2011, and in the United Kingdom, Ireland, and Scandinavia in 2012.\n",
    "\n",
    "This year marked a huge change in Netflix's business model, and of course their company business description shows this."
   ]
  },
  {
   "cell_type": "code",
   "execution_count": 12,
   "id": "b15d7d72-a97a-4229-a538-92ce1add5a75",
   "metadata": {
    "tags": [
     "hide-input"
    ]
   },
   "outputs": [
    {
     "ename": "NameError",
     "evalue": "name 'nlfx' is not defined",
     "output_type": "error",
     "traceback": [
      "\u001b[0;31m---------------------------------------------------------------------------\u001b[0m",
      "\u001b[0;31mNameError\u001b[0m                                 Traceback (most recent call last)",
      "Input \u001b[0;32mIn [12]\u001b[0m, in \u001b[0;36m<cell line: 1>\u001b[0;34m()\u001b[0m\n\u001b[0;32m----> 1\u001b[0m \u001b[43mnlfx\u001b[49m[\u001b[38;5;241m5\u001b[39m:\u001b[38;5;241m10\u001b[39m]\n",
      "\u001b[0;31mNameError\u001b[0m: name 'nlfx' is not defined"
     ]
    }
   ],
   "source": [
    "nlfx[5:10]"
   ]
  },
  {
   "cell_type": "markdown",
   "id": "b5de6d53-09c1-49ed-b2b1-c2bae85a10be",
   "metadata": {},
   "source": [
    "##### 2010 - 2011\n",
    "\n",
    "As Netflix's new business venture started to take off, so did their investments into it and its importance to the business, as highlighted by the increased importance in terms such as _\"web site\"_ and _\"united state\"_ as they first released the streaming service in the United States. Throughout 2011, Netflix experienced quite poor demand as consumers were still recovering from the 2008 economic crash, so Netflix had to assure it's investors of it's ability to stay in business. That could explain why _\"investor relation\"_ gained a high degree of importance."
   ]
  },
  {
   "cell_type": "code",
   "execution_count": 13,
   "id": "585f203f-f2e1-4c55-95dd-ebf653508c1f",
   "metadata": {
    "tags": [
     "hide-input"
    ]
   },
   "outputs": [
    {
     "ename": "NameError",
     "evalue": "name 'nlfx' is not defined",
     "output_type": "error",
     "traceback": [
      "\u001b[0;31m---------------------------------------------------------------------------\u001b[0m",
      "\u001b[0;31mNameError\u001b[0m                                 Traceback (most recent call last)",
      "Input \u001b[0;32mIn [13]\u001b[0m, in \u001b[0;36m<cell line: 1>\u001b[0;34m()\u001b[0m\n\u001b[0;32m----> 1\u001b[0m \u001b[43mnlfx\u001b[49m[\u001b[38;5;241m10\u001b[39m:\u001b[38;5;241m15\u001b[39m]\n",
      "\u001b[0;31mNameError\u001b[0m: name 'nlfx' is not defined"
     ]
    }
   ],
   "source": [
    "nlfx[10:15]"
   ]
  },
  {
   "cell_type": "markdown",
   "id": "eb931571-db77-49e6-8fe0-51a243404496",
   "metadata": {},
   "source": [
    "##### 2011 - 2012\n",
    "\n",
    "According to above, Netflix expanded to the United Kingdom among other countries in 2012, which may explain the decrease in focus/importance of _\"united state\"_. The rest of the changes to term importance seem quite unexplainable at a glance, so make of it what you will. :)"
   ]
  },
  {
   "cell_type": "code",
   "execution_count": 14,
   "id": "8716ed34-58e8-4bb5-95b1-54030c281754",
   "metadata": {
    "tags": [
     "hide-input"
    ]
   },
   "outputs": [
    {
     "ename": "NameError",
     "evalue": "name 'nlfx' is not defined",
     "output_type": "error",
     "traceback": [
      "\u001b[0;31m---------------------------------------------------------------------------\u001b[0m",
      "\u001b[0;31mNameError\u001b[0m                                 Traceback (most recent call last)",
      "Input \u001b[0;32mIn [14]\u001b[0m, in \u001b[0;36m<cell line: 1>\u001b[0;34m()\u001b[0m\n\u001b[0;32m----> 1\u001b[0m \u001b[43mnlfx\u001b[49m[\u001b[38;5;241m15\u001b[39m:\u001b[38;5;241m20\u001b[39m]\n",
      "\u001b[0;31mNameError\u001b[0m: name 'nlfx' is not defined"
     ]
    }
   ],
   "source": [
    "nlfx[15:20]"
   ]
  },
  {
   "cell_type": "markdown",
   "id": "777b8475-939f-4b7f-9a33-5e6215755d71",
   "metadata": {},
   "source": [
    "#### General Electric\n",
    "\n",
    "General Electric is a household brand that manufacturers everything from washing machines to jet engines. As per Wikipedia,\n",
    "\n",
    "> General Electric Company (GE) is an American multinational conglomerate incorporated in New York State and headquartered in Boston. Until 2021, the company operated in sectors including aviation, power, renewable energy, digital industry, additive manufacturing, locomotives, and venture capital and finance but has since divested from several areas, now primarily consisting of the first four segments.\n",
    "\n",
    "So they have their hands in many basics, what can changes in the words used in their annual reports tell us about what they're doing, as a company year to year?\n",
    "\n",
    "##### 2011 - 2012\n",
    "\n",
    "In 2012, terms such as _\"oil gas\"_, _\"financial service\"_, and _\"completed acquisition\"_ increased in importance implying GE may have made significant investements into the Oil & Gas industry as well as the Financial Services industry, perhaps through acquisitions.\n",
    "\n",
    "From the Acquisitions section on their Wikipedia page, during 2011 and 2012,\n",
    "\n",
    "> In March 2011, GE announced that it had completed the acquisition of privately held Lineage Power Holdings from The Gores Group. In April 2011, GE announced it had completed its purchase of John Wood plc's Well Support Division for $2.8 billion.\n",
    "\n",
    "> In 2011, GE Capital sold its $2 billion Mexican assets to Santander for 162 million and exit the business in Mexico. Santander additionally assumed the portfolio debts of GE Capital in the country. Following this, GE Capital focused in its core business and shed its non-core assets.\n",
    "\n",
    "> In June 2012, CEO and President of GE Jeff Immelt said that the company would invest ₹3 billion to accelerate its businesses in Karnataka. In October 2012, GE acquired $7 billion worth of bank deposits from MetLife Inc.\n",
    "\n",
    "All transactions were related to the energy sector (related to Oil & Gas) or finance (Santander is a large Spanish bank)"
   ]
  },
  {
   "cell_type": "code",
   "execution_count": 15,
   "id": "956ba57b-1b3a-431f-ae59-8f5e72270468",
   "metadata": {
    "tags": [
     "hide-input"
    ]
   },
   "outputs": [
    {
     "ename": "NameError",
     "evalue": "name 'delta_tfidf' is not defined",
     "output_type": "error",
     "traceback": [
      "\u001b[0;31m---------------------------------------------------------------------------\u001b[0m",
      "\u001b[0;31mNameError\u001b[0m                                 Traceback (most recent call last)",
      "Input \u001b[0;32mIn [15]\u001b[0m, in \u001b[0;36m<cell line: 2>\u001b[0;34m()\u001b[0m\n\u001b[1;32m      1\u001b[0m \u001b[38;5;66;03m# GE\u001b[39;00m\n\u001b[0;32m----> 2\u001b[0m ge \u001b[38;5;241m=\u001b[39m \u001b[43mdelta_tfidf\u001b[49m[delta_tfidf\u001b[38;5;241m.\u001b[39miloc[:,\u001b[38;5;241m0\u001b[39m] \u001b[38;5;241m==\u001b[39m \u001b[38;5;241m40545\u001b[39m]\u001b[38;5;241m.\u001b[39miloc[:\u001b[38;5;241m60\u001b[39m,:]\u001b[38;5;241m.\u001b[39mgroupby(\u001b[38;5;124m\"\u001b[39m\u001b[38;5;124mYoY\u001b[39m\u001b[38;5;124m\"\u001b[39m)\u001b[38;5;241m.\u001b[39mhead(\u001b[38;5;241m5\u001b[39m)\n\u001b[1;32m      3\u001b[0m ge[:\u001b[38;5;241m5\u001b[39m]\n",
      "\u001b[0;31mNameError\u001b[0m: name 'delta_tfidf' is not defined"
     ]
    }
   ],
   "source": [
    "# GE\n",
    "ge = delta_tfidf[delta_tfidf.iloc[:,0] == 40545].iloc[:60,:].groupby(\"YoY\").head(5)\n",
    "ge[:5]"
   ]
  },
  {
   "cell_type": "markdown",
   "id": "9c21b6a5-4d98-4847-bd7b-0c17b75582bd",
   "metadata": {},
   "source": [
    "##### 2012 - 2013\n",
    "\n",
    "In 2013, it seems GE made further divestments in financial services as terms such as _\"credit card\"_ and _\"financial service\"_ have decreased in importance,as well as _\"power generation\"_ and _\"real estate\"_ to a lesser extent. A quick Google search lends no meaning to these changes in General Electric's business, so there are currently no conclusions to draw from this."
   ]
  },
  {
   "cell_type": "code",
   "execution_count": 16,
   "id": "22167dbd-ebee-401d-a1d6-5f8d28a65113",
   "metadata": {
    "tags": [
     "hide-input"
    ]
   },
   "outputs": [
    {
     "ename": "NameError",
     "evalue": "name 'ge' is not defined",
     "output_type": "error",
     "traceback": [
      "\u001b[0;31m---------------------------------------------------------------------------\u001b[0m",
      "\u001b[0;31mNameError\u001b[0m                                 Traceback (most recent call last)",
      "Input \u001b[0;32mIn [16]\u001b[0m, in \u001b[0;36m<cell line: 1>\u001b[0;34m()\u001b[0m\n\u001b[0;32m----> 1\u001b[0m \u001b[43mge\u001b[49m[\u001b[38;5;241m5\u001b[39m:\u001b[38;5;241m10\u001b[39m]\n",
      "\u001b[0;31mNameError\u001b[0m: name 'ge' is not defined"
     ]
    }
   ],
   "source": [
    "ge[5:10]"
   ]
  },
  {
   "cell_type": "markdown",
   "id": "53e3e83b-e771-4e2b-87dc-c782d57e6708",
   "metadata": {},
   "source": [
    "##### 2013 - 2014\n",
    "\n",
    "As with 2013, it seems these changes in term importance are quite broad for 2014. One term that does stand out however is that _\"north american\"_ as they opened a new facility in Cincinnati this year.\n",
    "\n",
    "> Later in 2014, General Electric announced plans to open its global operations center in Cincinnati, Ohio. The Global Operations Center opened in October 2016 as home to GE's multifunctional shared services organization. It supports the company's finance/accounting, human resources, information technology, supply chain, legal and commercial operations, and is one of GE's four multifunctional shared services centers worldwide in Pudong, China; Budapest, Hungary; and Monterrey, Mexico."
   ]
  },
  {
   "cell_type": "code",
   "execution_count": 17,
   "id": "85ac68e4-c565-4e98-90ae-c907fe2d7974",
   "metadata": {
    "tags": [
     "hide-input"
    ]
   },
   "outputs": [
    {
     "ename": "NameError",
     "evalue": "name 'ge' is not defined",
     "output_type": "error",
     "traceback": [
      "\u001b[0;31m---------------------------------------------------------------------------\u001b[0m",
      "\u001b[0;31mNameError\u001b[0m                                 Traceback (most recent call last)",
      "Input \u001b[0;32mIn [17]\u001b[0m, in \u001b[0;36m<cell line: 1>\u001b[0;34m()\u001b[0m\n\u001b[0;32m----> 1\u001b[0m \u001b[43mge\u001b[49m[\u001b[38;5;241m10\u001b[39m:\u001b[38;5;241m15\u001b[39m]\n",
      "\u001b[0;31mNameError\u001b[0m: name 'ge' is not defined"
     ]
    }
   ],
   "source": [
    "ge[10:15]"
   ]
  },
  {
   "cell_type": "markdown",
   "id": "b0617cf8-7d17-4362-9aab-97b4b644d63e",
   "metadata": {},
   "source": [
    "### word2vec"
   ]
  },
  {
   "cell_type": "markdown",
   "id": "d44adbe7-9c2d-4a65-9b61-e5c2356b8974",
   "metadata": {},
   "source": [
    "Now the issue with word2vec, is that the output feature columns don't represent a term or topic. Luckily most of our data is already labelled and comes with industry classifications."
   ]
  },
  {
   "cell_type": "code",
   "execution_count": 18,
   "id": "0cfb21b0-04d4-44a3-9daa-7d2c07ade20e",
   "metadata": {
    "tags": [
     "remove-input"
    ]
   },
   "outputs": [
    {
     "ename": "NameError",
     "evalue": "name 'final' is not defined",
     "output_type": "error",
     "traceback": [
      "\u001b[0;31m---------------------------------------------------------------------------\u001b[0m",
      "\u001b[0;31mNameError\u001b[0m                                 Traceback (most recent call last)",
      "Input \u001b[0;32mIn [18]\u001b[0m, in \u001b[0;36m<cell line: 1>\u001b[0;34m()\u001b[0m\n\u001b[0;32m----> 1\u001b[0m \u001b[38;5;28mprint\u001b[39m(\u001b[38;5;124m\"\u001b[39m\u001b[38;5;124mThere are \u001b[39m\u001b[38;5;132;01m{}\u001b[39;00m\u001b[38;5;124m industries listed in our data of 564 companies.\u001b[39m\u001b[38;5;124m\"\u001b[39m\u001b[38;5;241m.\u001b[39mformat(\u001b[38;5;28mlen\u001b[39m(\u001b[43mfinal\u001b[49m[\u001b[38;5;124m\"\u001b[39m\u001b[38;5;124mSIC_Descrip\u001b[39m\u001b[38;5;124m\"\u001b[39m]\u001b[38;5;241m.\u001b[39munique())))\n",
      "\u001b[0;31mNameError\u001b[0m: name 'final' is not defined"
     ]
    }
   ],
   "source": [
    "print(\"There are {} industries listed in our data of 564 companies.\".format(len(final[\"SIC_Descrip\"].unique())))"
   ]
  },
  {
   "cell_type": "markdown",
   "id": "3a39f42f-bed3-40a1-9199-e2c1d4b6a4d5",
   "metadata": {},
   "source": [
    "Lets perform word2vec on this data. Once we have embeddings for each company, we can find a median vector of each industry which we can use as a pseudo-industry embedding. This vector is what we will use to compare companies to and infer whether they've moved away or toward any given industries. This will be calculated on the entire time series of company filings. \n",
    "\n",
    "Below is the code that extracts this information."
   ]
  },
  {
   "cell_type": "code",
   "execution_count": 19,
   "id": "a90cf58f-af19-49b3-8745-1163801cac62",
   "metadata": {
    "tags": [
     "hide-input"
    ]
   },
   "outputs": [
    {
     "ename": "NameError",
     "evalue": "name 'final' is not defined",
     "output_type": "error",
     "traceback": [
      "\u001b[0;31m---------------------------------------------------------------------------\u001b[0m",
      "\u001b[0;31mNameError\u001b[0m                                 Traceback (most recent call last)",
      "Input \u001b[0;32mIn [19]\u001b[0m, in \u001b[0;36m<cell line: 5>\u001b[0;34m()\u001b[0m\n\u001b[1;32m      2\u001b[0m \u001b[38;5;28;01mfrom\u001b[39;00m \u001b[38;5;21;01mgensim\u001b[39;00m \u001b[38;5;28;01mimport\u001b[39;00m utils\n\u001b[1;32m      3\u001b[0m \u001b[38;5;28;01mfrom\u001b[39;00m \u001b[38;5;21;01msklearn\u001b[39;00m\u001b[38;5;21;01m.\u001b[39;00m\u001b[38;5;21;01mmetrics\u001b[39;00m\u001b[38;5;21;01m.\u001b[39;00m\u001b[38;5;21;01mpairwise\u001b[39;00m \u001b[38;5;28;01mimport\u001b[39;00m cosine_similarity\n\u001b[0;32m----> 5\u001b[0m time_processed \u001b[38;5;241m=\u001b[39m \u001b[43mfinal\u001b[49m[\u001b[38;5;124m\"\u001b[39m\u001b[38;5;124mcoDescription_stopwords\u001b[39m\u001b[38;5;124m\"\u001b[39m]\u001b[38;5;241m.\u001b[39mapply(\u001b[38;5;28;01mlambda\u001b[39;00m x: utils\u001b[38;5;241m.\u001b[39msimple_preprocess(x))\n\u001b[1;32m      7\u001b[0m \u001b[38;5;66;03m# https://stackoverflow.com/questions/46560861/relation-between-word2vec-vector-size-and-total-number-of-words-scanned\u001b[39;00m\n\u001b[1;32m      8\u001b[0m model_w \u001b[38;5;241m=\u001b[39m Word2Vec(time_processed, vector_size \u001b[38;5;241m=\u001b[39m \u001b[38;5;241m300\u001b[39m)\n",
      "\u001b[0;31mNameError\u001b[0m: name 'final' is not defined"
     ]
    }
   ],
   "source": [
    "from gensim.models.word2vec import Word2Vec\n",
    "from gensim import utils\n",
    "from sklearn.metrics.pairwise import cosine_similarity\n",
    "\n",
    "time_processed = final[\"coDescription_stopwords\"].apply(lambda x: utils.simple_preprocess(x))\n",
    "\n",
    "# https://stackoverflow.com/questions/46560861/relation-between-word2vec-vector-size-and-total-number-of-words-scanned\n",
    "model_w = Word2Vec(time_processed, vector_size = 300)\n",
    "\n",
    "def doc_to_vec(text):\n",
    "    word_vecs = [model_w.wv[w] for w in text if w in model_w.wv]\n",
    "    \n",
    "    if len(word_vecs) == 0:\n",
    "        return np.zeros(model_w.vector_size)\n",
    "    \n",
    "    return np.mean(word_vecs, axis = 0)\n",
    "\n",
    "doc_vec = pd.DataFrame(time_processed.apply(doc_to_vec).tolist())\n",
    "\n",
    "data_w2v = pd.concat([final.loc[:,[\"filingDate\",\"CIK\", \"Name\", \"SIC_Descrip\"]],doc_vec],axis = 1)\n",
    "\n",
    "industry_vectors = data_w2v.iloc[:,3:].groupby(\"SIC_Descrip\").mean()"
   ]
  },
  {
   "cell_type": "markdown",
   "id": "65d732fb-ba85-4830-bede-4ea80b368f74",
   "metadata": {
    "tags": []
   },
   "source": [
    "To calculate distance between the annual reports of our five companies and the industries, we will compute the cosine similarity scores.\n",
    "\n",
    "For each year of filings, we only care about the industries with the smallest distance (greatest consine similarity) and how these top industries have changed over time.\n",
    "\n",
    "The inner workings of this are quite simple. \n",
    "\n",
    "1. For each year, we extract the top 5 industries with the highest similarity scores. These indsutry names are stored and this step is repeated.\n",
    "2. Since companies change year over year, different industries could appear in the top 5, which is why some figures below will have more than 5 industries visualized.\n",
    "\n",
    "#### Okta"
   ]
  },
  {
   "cell_type": "code",
   "execution_count": 20,
   "id": "52116888-14e6-40df-8e4d-5387c763dd14",
   "metadata": {
    "tags": [
     "hide-input"
    ]
   },
   "outputs": [
    {
     "ename": "NameError",
     "evalue": "name 'data_w2v' is not defined",
     "output_type": "error",
     "traceback": [
      "\u001b[0;31m---------------------------------------------------------------------------\u001b[0m",
      "\u001b[0;31mNameError\u001b[0m                                 Traceback (most recent call last)",
      "Input \u001b[0;32mIn [20]\u001b[0m, in \u001b[0;36m<cell line: 1>\u001b[0;34m()\u001b[0m\n\u001b[0;32m----> 1\u001b[0m okta_w2v \u001b[38;5;241m=\u001b[39m pd\u001b[38;5;241m.\u001b[39mconcat([\u001b[43mdata_w2v\u001b[49m[data_w2v\u001b[38;5;241m.\u001b[39mloc[:,\u001b[38;5;124m\"\u001b[39m\u001b[38;5;124mCIK\u001b[39m\u001b[38;5;124m\"\u001b[39m] \u001b[38;5;241m==\u001b[39m \u001b[38;5;241m1660134\u001b[39m]\u001b[38;5;241m.\u001b[39miloc[:,\u001b[38;5;241m0\u001b[39m]\u001b[38;5;241m.\u001b[39mreset_index(drop\u001b[38;5;241m=\u001b[39m\u001b[38;5;28;01mTrue\u001b[39;00m),\n\u001b[1;32m      2\u001b[0m            pd\u001b[38;5;241m.\u001b[39mDataFrame(cosine_similarity(data_w2v[data_w2v\u001b[38;5;241m.\u001b[39mloc[:,\u001b[38;5;124m\"\u001b[39m\u001b[38;5;124mCIK\u001b[39m\u001b[38;5;124m\"\u001b[39m] \u001b[38;5;241m==\u001b[39m \u001b[38;5;241m1660134\u001b[39m]\u001b[38;5;241m.\u001b[39miloc[:,\u001b[38;5;241m4\u001b[39m:], industry_vectors),\n\u001b[1;32m      3\u001b[0m                         columns \u001b[38;5;241m=\u001b[39m industry_vectors\u001b[38;5;241m.\u001b[39mindex\u001b[38;5;241m.\u001b[39mtolist())],\n\u001b[1;32m      4\u001b[0m           axis \u001b[38;5;241m=\u001b[39m \u001b[38;5;241m1\u001b[39m)\n\u001b[1;32m      6\u001b[0m \u001b[38;5;66;03m# Gets the list of top industries associated with okta throughout it's history\u001b[39;00m\n\u001b[1;32m      7\u001b[0m okta_industries \u001b[38;5;241m=\u001b[39m \u001b[38;5;28mset\u001b[39m((okta_w2v\u001b[38;5;241m.\u001b[39miloc[\u001b[38;5;241m0\u001b[39m,\u001b[38;5;241m1\u001b[39m:]\u001b[38;5;241m.\u001b[39msort_values(ascending \u001b[38;5;241m=\u001b[39m \u001b[38;5;28;01mFalse\u001b[39;00m)\u001b[38;5;241m.\u001b[39mhead(\u001b[38;5;241m5\u001b[39m)\u001b[38;5;241m.\u001b[39mindex\u001b[38;5;241m.\u001b[39mtolist()))\n",
      "\u001b[0;31mNameError\u001b[0m: name 'data_w2v' is not defined"
     ]
    }
   ],
   "source": [
    "okta_w2v = pd.concat([data_w2v[data_w2v.loc[:,\"CIK\"] == 1660134].iloc[:,0].reset_index(drop=True),\n",
    "           pd.DataFrame(cosine_similarity(data_w2v[data_w2v.loc[:,\"CIK\"] == 1660134].iloc[:,4:], industry_vectors),\n",
    "                        columns = industry_vectors.index.tolist())],\n",
    "          axis = 1)\n",
    "\n",
    "# Gets the list of top industries associated with okta throughout it's history\n",
    "okta_industries = set((okta_w2v.iloc[0,1:].sort_values(ascending = False).head(5).index.tolist()))\n",
    "for i in np.arange(1,okta_w2v.shape[0]):\n",
    "    okta_industries.update(okta_w2v.iloc[i,1:].sort_values(ascending = False).head(5).index.tolist())\n",
    "\n",
    "std_func.dynamic_plt(okta_w2v, okta_industries, \"Okta\")"
   ]
  },
  {
   "cell_type": "markdown",
   "id": "6e868d3c-d154-4727-8fed-7ad629412067",
   "metadata": {},
   "source": [
    "The above plot illustrates for the top 5 closest industries to Okta, its distance to its closest five industries stayed quite consistent over the 4 time points, while between 2020 to 2021 its similarity to **Computer Integrated Systems Design** increased greatly and its similarity to **\"Computer and Office Equipment\"** increased a bit less.\n",
    "\n",
    "Okta's main service is to handle identity and access management, so naturally integrating into it's client's services and internal systems is expected.\n",
    "\n",
    "The increase in similarity to **\"Computer and Office Equipment\"** is harder to interpret, but perhaps it was due to the increased mentions of work from home setups within many companies and how Okta's services should adapt/have adapted to it."
   ]
  },
  {
   "cell_type": "markdown",
   "id": "12f751e0-dad3-4cff-a5c3-9fcc9057fccd",
   "metadata": {},
   "source": [
    "#### Z-Scaler"
   ]
  },
  {
   "cell_type": "code",
   "execution_count": 21,
   "id": "8d41a6c6-cf66-4e3f-83b0-668730b41ab5",
   "metadata": {
    "tags": [
     "hide-input"
    ]
   },
   "outputs": [
    {
     "ename": "NameError",
     "evalue": "name 'data_w2v' is not defined",
     "output_type": "error",
     "traceback": [
      "\u001b[0;31m---------------------------------------------------------------------------\u001b[0m",
      "\u001b[0;31mNameError\u001b[0m                                 Traceback (most recent call last)",
      "Input \u001b[0;32mIn [21]\u001b[0m, in \u001b[0;36m<cell line: 1>\u001b[0;34m()\u001b[0m\n\u001b[0;32m----> 1\u001b[0m zs_w2v \u001b[38;5;241m=\u001b[39m pd\u001b[38;5;241m.\u001b[39mconcat([\u001b[43mdata_w2v\u001b[49m[data_w2v\u001b[38;5;241m.\u001b[39mloc[:,\u001b[38;5;124m\"\u001b[39m\u001b[38;5;124mCIK\u001b[39m\u001b[38;5;124m\"\u001b[39m] \u001b[38;5;241m==\u001b[39m \u001b[38;5;241m1713683\u001b[39m]\u001b[38;5;241m.\u001b[39miloc[:,\u001b[38;5;241m0\u001b[39m]\u001b[38;5;241m.\u001b[39mreset_index(drop\u001b[38;5;241m=\u001b[39m\u001b[38;5;28;01mTrue\u001b[39;00m),\n\u001b[1;32m      2\u001b[0m            pd\u001b[38;5;241m.\u001b[39mDataFrame(cosine_similarity(data_w2v[data_w2v\u001b[38;5;241m.\u001b[39mloc[:,\u001b[38;5;124m\"\u001b[39m\u001b[38;5;124mCIK\u001b[39m\u001b[38;5;124m\"\u001b[39m] \u001b[38;5;241m==\u001b[39m \u001b[38;5;241m1713683\u001b[39m]\u001b[38;5;241m.\u001b[39miloc[:,\u001b[38;5;241m4\u001b[39m:], industry_vectors),\n\u001b[1;32m      3\u001b[0m                         columns \u001b[38;5;241m=\u001b[39m industry_vectors\u001b[38;5;241m.\u001b[39mindex\u001b[38;5;241m.\u001b[39mtolist())],\n\u001b[1;32m      4\u001b[0m           axis \u001b[38;5;241m=\u001b[39m \u001b[38;5;241m1\u001b[39m)\n\u001b[1;32m      6\u001b[0m \u001b[38;5;66;03m# Gets the list of top industries associated with okta throughout it's history\u001b[39;00m\n\u001b[1;32m      7\u001b[0m zs_industries \u001b[38;5;241m=\u001b[39m \u001b[38;5;28mset\u001b[39m((zs_w2v\u001b[38;5;241m.\u001b[39miloc[\u001b[38;5;241m0\u001b[39m,\u001b[38;5;241m1\u001b[39m:]\u001b[38;5;241m.\u001b[39msort_values(ascending \u001b[38;5;241m=\u001b[39m \u001b[38;5;28;01mFalse\u001b[39;00m)\u001b[38;5;241m.\u001b[39mhead(\u001b[38;5;241m5\u001b[39m)\u001b[38;5;241m.\u001b[39mindex\u001b[38;5;241m.\u001b[39mtolist()))\n",
      "\u001b[0;31mNameError\u001b[0m: name 'data_w2v' is not defined"
     ]
    }
   ],
   "source": [
    "zs_w2v = pd.concat([data_w2v[data_w2v.loc[:,\"CIK\"] == 1713683].iloc[:,0].reset_index(drop=True),\n",
    "           pd.DataFrame(cosine_similarity(data_w2v[data_w2v.loc[:,\"CIK\"] == 1713683].iloc[:,4:], industry_vectors),\n",
    "                        columns = industry_vectors.index.tolist())],\n",
    "          axis = 1)\n",
    "\n",
    "# Gets the list of top industries associated with okta throughout it's history\n",
    "zs_industries = set((zs_w2v.iloc[0,1:].sort_values(ascending = False).head(5).index.tolist()))\n",
    "for i in np.arange(1,zs_w2v.shape[0]):\n",
    "    zs_industries.update(zs_w2v.iloc[i,1:].sort_values(ascending = False).head(5).index.tolist())\n",
    "\n",
    "std_func.dynamic_plt(zs_w2v, zs_industries, \"Z-Scaler\")"
   ]
  },
  {
   "cell_type": "markdown",
   "id": "bc77d3ff-983d-4aed-866b-b979fbf4084c",
   "metadata": {},
   "source": [
    "Across the board, it seems Z-Scaler's similarity to it's closest industries decreased. This suggests that Z-Scaler is potentially moving away from the computer/software related industry as a whole.\n",
    "\n",
    "This interpretation should be taken with a large grain of salt, as we are only visualizing changes over one year."
   ]
  },
  {
   "cell_type": "markdown",
   "id": "33863feb-11b1-4aa6-85c0-5587a6748308",
   "metadata": {},
   "source": [
    "#### Netflix"
   ]
  },
  {
   "cell_type": "code",
   "execution_count": 22,
   "id": "aebcd688-1cac-4a32-bfcd-1555ef5c651a",
   "metadata": {
    "tags": [
     "hide-input"
    ]
   },
   "outputs": [
    {
     "ename": "NameError",
     "evalue": "name 'data_w2v' is not defined",
     "output_type": "error",
     "traceback": [
      "\u001b[0;31m---------------------------------------------------------------------------\u001b[0m",
      "\u001b[0;31mNameError\u001b[0m                                 Traceback (most recent call last)",
      "Input \u001b[0;32mIn [22]\u001b[0m, in \u001b[0;36m<cell line: 1>\u001b[0;34m()\u001b[0m\n\u001b[0;32m----> 1\u001b[0m nlfx_w2v \u001b[38;5;241m=\u001b[39m pd\u001b[38;5;241m.\u001b[39mconcat([\u001b[43mdata_w2v\u001b[49m[data_w2v\u001b[38;5;241m.\u001b[39mloc[:,\u001b[38;5;124m\"\u001b[39m\u001b[38;5;124mCIK\u001b[39m\u001b[38;5;124m\"\u001b[39m] \u001b[38;5;241m==\u001b[39m \u001b[38;5;241m1065280\u001b[39m]\u001b[38;5;241m.\u001b[39miloc[:,\u001b[38;5;241m0\u001b[39m]\u001b[38;5;241m.\u001b[39mreset_index(drop\u001b[38;5;241m=\u001b[39m\u001b[38;5;28;01mTrue\u001b[39;00m),\n\u001b[1;32m      2\u001b[0m            pd\u001b[38;5;241m.\u001b[39mDataFrame(cosine_similarity(data_w2v[data_w2v\u001b[38;5;241m.\u001b[39mloc[:,\u001b[38;5;124m\"\u001b[39m\u001b[38;5;124mCIK\u001b[39m\u001b[38;5;124m\"\u001b[39m] \u001b[38;5;241m==\u001b[39m \u001b[38;5;241m1065280\u001b[39m]\u001b[38;5;241m.\u001b[39miloc[:,\u001b[38;5;241m4\u001b[39m:], industry_vectors),\n\u001b[1;32m      3\u001b[0m                         columns \u001b[38;5;241m=\u001b[39m industry_vectors\u001b[38;5;241m.\u001b[39mindex\u001b[38;5;241m.\u001b[39mtolist())],\n\u001b[1;32m      4\u001b[0m           axis \u001b[38;5;241m=\u001b[39m \u001b[38;5;241m1\u001b[39m)\n\u001b[1;32m      6\u001b[0m \u001b[38;5;66;03m# Gets the list of top industries associated with okta throughout it's history\u001b[39;00m\n\u001b[1;32m      7\u001b[0m nlfx_industries \u001b[38;5;241m=\u001b[39m \u001b[38;5;28mset\u001b[39m((nlfx_w2v\u001b[38;5;241m.\u001b[39miloc[\u001b[38;5;241m0\u001b[39m,\u001b[38;5;241m1\u001b[39m:]\u001b[38;5;241m.\u001b[39msort_values(ascending \u001b[38;5;241m=\u001b[39m \u001b[38;5;28;01mFalse\u001b[39;00m)\u001b[38;5;241m.\u001b[39mhead(\u001b[38;5;241m5\u001b[39m)\u001b[38;5;241m.\u001b[39mindex\u001b[38;5;241m.\u001b[39mtolist()))\n",
      "\u001b[0;31mNameError\u001b[0m: name 'data_w2v' is not defined"
     ]
    }
   ],
   "source": [
    "nlfx_w2v = pd.concat([data_w2v[data_w2v.loc[:,\"CIK\"] == 1065280].iloc[:,0].reset_index(drop=True),\n",
    "           pd.DataFrame(cosine_similarity(data_w2v[data_w2v.loc[:,\"CIK\"] == 1065280].iloc[:,4:], industry_vectors),\n",
    "                        columns = industry_vectors.index.tolist())],\n",
    "          axis = 1)\n",
    "\n",
    "# Gets the list of top industries associated with okta throughout it's history\n",
    "nlfx_industries = set((nlfx_w2v.iloc[0,1:].sort_values(ascending = False).head(5).index.tolist()))\n",
    "for i in np.arange(1,nlfx_w2v.shape[0]):\n",
    "    nlfx_industries.update(nlfx_w2v.iloc[i,1:].sort_values(ascending = False).head(5).index.tolist())\n",
    "\n",
    "std_func.dynamic_plt(nlfx_w2v, nlfx_industries, \"Netflix\")"
   ]
  },
  {
   "cell_type": "markdown",
   "id": "8349120b-c3a4-4fdb-b4ac-5ebdc536e0ad",
   "metadata": {},
   "source": [
    "Netflix has experiences quite a tumultuous 5 years, which is no surprise as this was the exact turning point when they first released their streaming service.\n",
    "\n",
    "This chart quite splendidly depicts how Netflix moved away from industries such as **\"Electronic Computers\"**, **\"Computer and Office Equipment\"** and **\"Electronic Parts and Equipment\"** significantly. In 2008, they released a home set top box device manufactured by Roku which allowed cusotmers to play movies and shows all for one fee. As most people are familiar, they moved away from that and started offering their streaming services online starting 2010.\n",
    "\n",
    "What can't be easily explained are the dramatic increases in the **\"Catalog and mail-order houses (electronic shopping websites)\"** and **\"Household Audio and Video Equipment\"** industries. Presumably their sale of streaming services could be purchased on Netflix's website, thereby making them an electronic shopping website but that still doesn't explain the increase in the latter industry. At this stage of the company, Netflix was moving away from physical products and toward their streaming service business."
   ]
  },
  {
   "cell_type": "markdown",
   "id": "ef168656-9187-496b-9aaf-7569e7775ce9",
   "metadata": {},
   "source": [
    "#### General Electric"
   ]
  },
  {
   "cell_type": "code",
   "execution_count": 23,
   "id": "d3122492-8563-40b7-a4f7-161ff425878d",
   "metadata": {
    "tags": [
     "hide-input"
    ]
   },
   "outputs": [
    {
     "ename": "NameError",
     "evalue": "name 'data_w2v' is not defined",
     "output_type": "error",
     "traceback": [
      "\u001b[0;31m---------------------------------------------------------------------------\u001b[0m",
      "\u001b[0;31mNameError\u001b[0m                                 Traceback (most recent call last)",
      "Input \u001b[0;32mIn [23]\u001b[0m, in \u001b[0;36m<cell line: 1>\u001b[0;34m()\u001b[0m\n\u001b[0;32m----> 1\u001b[0m ge_w2v \u001b[38;5;241m=\u001b[39m pd\u001b[38;5;241m.\u001b[39mconcat([\u001b[43mdata_w2v\u001b[49m[data_w2v\u001b[38;5;241m.\u001b[39mloc[:,\u001b[38;5;124m\"\u001b[39m\u001b[38;5;124mCIK\u001b[39m\u001b[38;5;124m\"\u001b[39m] \u001b[38;5;241m==\u001b[39m \u001b[38;5;241m40545\u001b[39m]\u001b[38;5;241m.\u001b[39miloc[:,\u001b[38;5;241m0\u001b[39m]\u001b[38;5;241m.\u001b[39mreset_index(drop\u001b[38;5;241m=\u001b[39m\u001b[38;5;28;01mTrue\u001b[39;00m),\n\u001b[1;32m      2\u001b[0m            pd\u001b[38;5;241m.\u001b[39mDataFrame(cosine_similarity(data_w2v[data_w2v\u001b[38;5;241m.\u001b[39mloc[:,\u001b[38;5;124m\"\u001b[39m\u001b[38;5;124mCIK\u001b[39m\u001b[38;5;124m\"\u001b[39m] \u001b[38;5;241m==\u001b[39m \u001b[38;5;241m40545\u001b[39m]\u001b[38;5;241m.\u001b[39miloc[:,\u001b[38;5;241m4\u001b[39m:], industry_vectors),\n\u001b[1;32m      3\u001b[0m                         columns \u001b[38;5;241m=\u001b[39m industry_vectors\u001b[38;5;241m.\u001b[39mindex\u001b[38;5;241m.\u001b[39mtolist())],\n\u001b[1;32m      4\u001b[0m           axis \u001b[38;5;241m=\u001b[39m \u001b[38;5;241m1\u001b[39m)\n\u001b[1;32m      6\u001b[0m \u001b[38;5;66;03m# Gets the list of top industries associated with okta throughout it's history\u001b[39;00m\n\u001b[1;32m      7\u001b[0m ge_industries \u001b[38;5;241m=\u001b[39m \u001b[38;5;28mset\u001b[39m((ge_w2v\u001b[38;5;241m.\u001b[39miloc[\u001b[38;5;241m0\u001b[39m,\u001b[38;5;241m1\u001b[39m:]\u001b[38;5;241m.\u001b[39msort_values(ascending \u001b[38;5;241m=\u001b[39m \u001b[38;5;28;01mFalse\u001b[39;00m)\u001b[38;5;241m.\u001b[39mhead(\u001b[38;5;241m5\u001b[39m)\u001b[38;5;241m.\u001b[39mindex\u001b[38;5;241m.\u001b[39mtolist()))\n",
      "\u001b[0;31mNameError\u001b[0m: name 'data_w2v' is not defined"
     ]
    }
   ],
   "source": [
    "ge_w2v = pd.concat([data_w2v[data_w2v.loc[:,\"CIK\"] == 40545].iloc[:,0].reset_index(drop=True),\n",
    "           pd.DataFrame(cosine_similarity(data_w2v[data_w2v.loc[:,\"CIK\"] == 40545].iloc[:,4:], industry_vectors),\n",
    "                        columns = industry_vectors.index.tolist())],\n",
    "          axis = 1)\n",
    "\n",
    "# Gets the list of top industries associated with okta throughout it's history\n",
    "ge_industries = set((ge_w2v.iloc[0,1:].sort_values(ascending = False).head(5).index.tolist()))\n",
    "for i in np.arange(1,ge_w2v.shape[0]):\n",
    "    ge_industries.update(ge_w2v.iloc[i,1:].sort_values(ascending = False).head(5).index.tolist())\n",
    "\n",
    "std_func.dynamic_plt(ge_w2v, ge_industries, \"General Electric\")"
   ]
  },
  {
   "cell_type": "markdown",
   "id": "88eccff9-478f-4add-8db5-bb9fab3c3712",
   "metadata": {},
   "source": [
    "Finally, we have General Electric. It's quite interesting to see how its top industries year over year have declined consistently. The movement of this graph implies General Electric was in a large divestment stage in its top related industries."
   ]
  },
  {
   "cell_type": "markdown",
   "id": "2035a1ac-3f6f-4063-a934-5fec4736604e",
   "metadata": {},
   "source": [
    "#### Notes on how the analysis was performed\n",
    "\n",
    "In the above word2vec section, one aspect of some companies may have been missed. That is for companies with large divestments in its top related industries, what did they move **toward**? Our analysis here focused primarily on the industries identifies as being the most similar as its quite informative to speak to industries a company operates within. But for some companies such as Netflix and General Electric, they could have experience large increases in similarity with industries that are very far from where their embeddings are. \n",
    "\n",
    "For example, Netflix could be moving very close to the **\"Prepackaged Software industry\"**, but because its similarity is very low (say .50), even large increases to say 0.75 would go unnoticed because that is still too low to be considered one of Netflix's top 5 industries."
   ]
  },
  {
   "cell_type": "markdown",
   "id": "ad4bb23a-0260-4ee0-9505-3a52e4886194",
   "metadata": {},
   "source": [
    "### doc2vec"
   ]
  },
  {
   "cell_type": "markdown",
   "id": "253fee55-731d-43a2-a36c-d0a26616b533",
   "metadata": {},
   "source": [
    "Now we'll look at how embeddings created using doc2vec have changed over time for our four companies."
   ]
  },
  {
   "cell_type": "code",
   "execution_count": 24,
   "id": "ea3c9c81-d0ca-4a3c-999e-3a140ebc8c2e",
   "metadata": {
    "tags": [
     "hide-input"
    ]
   },
   "outputs": [
    {
     "ename": "NameError",
     "evalue": "name 'final' is not defined",
     "output_type": "error",
     "traceback": [
      "\u001b[0;31m---------------------------------------------------------------------------\u001b[0m",
      "\u001b[0;31mNameError\u001b[0m                                 Traceback (most recent call last)",
      "Input \u001b[0;32mIn [24]\u001b[0m, in \u001b[0;36m<cell line: 6>\u001b[0;34m()\u001b[0m\n\u001b[1;32m      4\u001b[0m docs \u001b[38;5;241m=\u001b[39m []\n\u001b[1;32m      5\u001b[0m analyzedDocument \u001b[38;5;241m=\u001b[39m namedtuple(\u001b[38;5;124m'\u001b[39m\u001b[38;5;124mAnalyzedDocument\u001b[39m\u001b[38;5;124m'\u001b[39m, \u001b[38;5;124m'\u001b[39m\u001b[38;5;124mwords tags\u001b[39m\u001b[38;5;124m'\u001b[39m)\n\u001b[0;32m----> 6\u001b[0m \u001b[38;5;28;01mfor\u001b[39;00m i, text \u001b[38;5;129;01min\u001b[39;00m \u001b[38;5;28menumerate\u001b[39m(\u001b[43mfinal\u001b[49m[\u001b[38;5;124m\"\u001b[39m\u001b[38;5;124mcoDescription_stopwords\u001b[39m\u001b[38;5;124m\"\u001b[39m]):\n\u001b[1;32m      7\u001b[0m     words \u001b[38;5;241m=\u001b[39m text\u001b[38;5;241m.\u001b[39mlower()\u001b[38;5;241m.\u001b[39msplit()\n\u001b[1;32m      8\u001b[0m     tags \u001b[38;5;241m=\u001b[39m [i]\n",
      "\u001b[0;31mNameError\u001b[0m: name 'final' is not defined"
     ]
    }
   ],
   "source": [
    "from gensim.models import doc2vec\n",
    "from collections import namedtuple\n",
    "\n",
    "docs = []\n",
    "analyzedDocument = namedtuple('AnalyzedDocument', 'words tags')\n",
    "for i, text in enumerate(final[\"coDescription_stopwords\"]):\n",
    "    words = text.lower().split()\n",
    "    tags = [i]\n",
    "    docs.append(analyzedDocument(words, tags))\n",
    "\n",
    "# Train model (set min_count = 1, if you want the model to work with the provided example data set)\n",
    "\n",
    "model = doc2vec.Doc2Vec(docs, vector_size = 100, window = 10, min_count = 1, workers = 4)\n",
    "\n",
    "doc_vec_2 = pd.DataFrame([model.dv[doc] for doc in np.arange(0,len(docs))])\n",
    "data_d2v = pd.concat([final.loc[:,[\"filingDate\",\"CIK\", \"Name\", \"SIC_Descrip\"]],doc_vec_2],axis = 1)\n",
    "\n",
    "industry_vectors_d2v = data_d2v.iloc[:,3:].groupby(\"SIC_Descrip\").mean()"
   ]
  },
  {
   "cell_type": "markdown",
   "id": "b758bed7-83d5-4a09-98b6-128c1f7db896",
   "metadata": {},
   "source": [
    "#### Okta"
   ]
  },
  {
   "cell_type": "code",
   "execution_count": 25,
   "id": "f74e3d20-207b-43b3-84bc-04fae514da59",
   "metadata": {
    "tags": [
     "hide-input"
    ]
   },
   "outputs": [
    {
     "ename": "NameError",
     "evalue": "name 'data_d2v' is not defined",
     "output_type": "error",
     "traceback": [
      "\u001b[0;31m---------------------------------------------------------------------------\u001b[0m",
      "\u001b[0;31mNameError\u001b[0m                                 Traceback (most recent call last)",
      "Input \u001b[0;32mIn [25]\u001b[0m, in \u001b[0;36m<cell line: 1>\u001b[0;34m()\u001b[0m\n\u001b[0;32m----> 1\u001b[0m okta_d2v \u001b[38;5;241m=\u001b[39m pd\u001b[38;5;241m.\u001b[39mconcat([\u001b[43mdata_d2v\u001b[49m[data_d2v\u001b[38;5;241m.\u001b[39mloc[:,\u001b[38;5;124m\"\u001b[39m\u001b[38;5;124mCIK\u001b[39m\u001b[38;5;124m\"\u001b[39m] \u001b[38;5;241m==\u001b[39m \u001b[38;5;241m1660134\u001b[39m]\u001b[38;5;241m.\u001b[39miloc[:,\u001b[38;5;241m0\u001b[39m]\u001b[38;5;241m.\u001b[39mreset_index(drop\u001b[38;5;241m=\u001b[39m\u001b[38;5;28;01mTrue\u001b[39;00m),\n\u001b[1;32m      2\u001b[0m            pd\u001b[38;5;241m.\u001b[39mDataFrame(cosine_similarity(data_d2v[data_d2v\u001b[38;5;241m.\u001b[39mloc[:,\u001b[38;5;124m\"\u001b[39m\u001b[38;5;124mCIK\u001b[39m\u001b[38;5;124m\"\u001b[39m] \u001b[38;5;241m==\u001b[39m \u001b[38;5;241m1660134\u001b[39m]\u001b[38;5;241m.\u001b[39miloc[:,\u001b[38;5;241m4\u001b[39m:], industry_vectors_d2v),\n\u001b[1;32m      3\u001b[0m                         columns \u001b[38;5;241m=\u001b[39m industry_vectors\u001b[38;5;241m.\u001b[39mindex\u001b[38;5;241m.\u001b[39mtolist())],\n\u001b[1;32m      4\u001b[0m           axis \u001b[38;5;241m=\u001b[39m \u001b[38;5;241m1\u001b[39m)\n\u001b[1;32m      6\u001b[0m \u001b[38;5;66;03m# Gets the list of top industries associated with okta throughout it's history\u001b[39;00m\n\u001b[1;32m      7\u001b[0m okta_industries_d2v \u001b[38;5;241m=\u001b[39m \u001b[38;5;28mset\u001b[39m((okta_d2v\u001b[38;5;241m.\u001b[39miloc[\u001b[38;5;241m0\u001b[39m,\u001b[38;5;241m1\u001b[39m:]\u001b[38;5;241m.\u001b[39msort_values(ascending \u001b[38;5;241m=\u001b[39m \u001b[38;5;28;01mFalse\u001b[39;00m)\u001b[38;5;241m.\u001b[39mhead(\u001b[38;5;241m5\u001b[39m)\u001b[38;5;241m.\u001b[39mindex\u001b[38;5;241m.\u001b[39mtolist()))\n",
      "\u001b[0;31mNameError\u001b[0m: name 'data_d2v' is not defined"
     ]
    }
   ],
   "source": [
    "okta_d2v = pd.concat([data_d2v[data_d2v.loc[:,\"CIK\"] == 1660134].iloc[:,0].reset_index(drop=True),\n",
    "           pd.DataFrame(cosine_similarity(data_d2v[data_d2v.loc[:,\"CIK\"] == 1660134].iloc[:,4:], industry_vectors_d2v),\n",
    "                        columns = industry_vectors.index.tolist())],\n",
    "          axis = 1)\n",
    "\n",
    "# Gets the list of top industries associated with okta throughout it's history\n",
    "okta_industries_d2v = set((okta_d2v.iloc[0,1:].sort_values(ascending = False).head(5).index.tolist()))\n",
    "for i in np.arange(1,okta_d2v.shape[0]):\n",
    "    okta_industries_d2v.update(okta_d2v.iloc[i,1:].sort_values(ascending = False).head(5).index.tolist())\n",
    "\n",
    "std_func.dynamic_plt(okta_d2v, okta_industries_d2v, \"Okta\")"
   ]
  },
  {
   "cell_type": "markdown",
   "id": "20bc3306-0a65-4338-a981-f2adbae3d89c",
   "metadata": {},
   "source": [
    "The above plot illustrates for the top 5 closest industries to Okta, calculated using doc2vec embeddings. It's quite interesting to see \"Business Services, NEC (tobacco sheeting service)\" as an industry be so highly ranked as an industry for Okta here."
   ]
  },
  {
   "cell_type": "markdown",
   "id": "e3ddce99-745c-42ea-87a2-aa991590521c",
   "metadata": {},
   "source": [
    "#### Z-Scaler"
   ]
  },
  {
   "cell_type": "code",
   "execution_count": 26,
   "id": "ea34c9a0-e8ac-4737-b199-40d8aba960ec",
   "metadata": {},
   "outputs": [
    {
     "ename": "NameError",
     "evalue": "name 'data_d2v' is not defined",
     "output_type": "error",
     "traceback": [
      "\u001b[0;31m---------------------------------------------------------------------------\u001b[0m",
      "\u001b[0;31mNameError\u001b[0m                                 Traceback (most recent call last)",
      "Input \u001b[0;32mIn [26]\u001b[0m, in \u001b[0;36m<cell line: 1>\u001b[0;34m()\u001b[0m\n\u001b[0;32m----> 1\u001b[0m zs_d2v \u001b[38;5;241m=\u001b[39m pd\u001b[38;5;241m.\u001b[39mconcat([\u001b[43mdata_d2v\u001b[49m[data_d2v\u001b[38;5;241m.\u001b[39mloc[:,\u001b[38;5;124m\"\u001b[39m\u001b[38;5;124mCIK\u001b[39m\u001b[38;5;124m\"\u001b[39m] \u001b[38;5;241m==\u001b[39m \u001b[38;5;241m1713683\u001b[39m]\u001b[38;5;241m.\u001b[39miloc[:,\u001b[38;5;241m0\u001b[39m]\u001b[38;5;241m.\u001b[39mreset_index(drop\u001b[38;5;241m=\u001b[39m\u001b[38;5;28;01mTrue\u001b[39;00m),\n\u001b[1;32m      2\u001b[0m            pd\u001b[38;5;241m.\u001b[39mDataFrame(cosine_similarity(data_d2v[data_d2v\u001b[38;5;241m.\u001b[39mloc[:,\u001b[38;5;124m\"\u001b[39m\u001b[38;5;124mCIK\u001b[39m\u001b[38;5;124m\"\u001b[39m] \u001b[38;5;241m==\u001b[39m \u001b[38;5;241m1713683\u001b[39m]\u001b[38;5;241m.\u001b[39miloc[:,\u001b[38;5;241m4\u001b[39m:], industry_vectors_d2v),\n\u001b[1;32m      3\u001b[0m                         columns \u001b[38;5;241m=\u001b[39m industry_vectors\u001b[38;5;241m.\u001b[39mindex\u001b[38;5;241m.\u001b[39mtolist())],\n\u001b[1;32m      4\u001b[0m           axis \u001b[38;5;241m=\u001b[39m \u001b[38;5;241m1\u001b[39m)\n\u001b[1;32m      6\u001b[0m \u001b[38;5;66;03m# Gets the list of top industries associated with okta throughout it's history\u001b[39;00m\n\u001b[1;32m      7\u001b[0m zs_industries \u001b[38;5;241m=\u001b[39m \u001b[38;5;28mset\u001b[39m((zs_d2v\u001b[38;5;241m.\u001b[39miloc[\u001b[38;5;241m0\u001b[39m,\u001b[38;5;241m1\u001b[39m:]\u001b[38;5;241m.\u001b[39msort_values(ascending \u001b[38;5;241m=\u001b[39m \u001b[38;5;28;01mFalse\u001b[39;00m)\u001b[38;5;241m.\u001b[39mhead(\u001b[38;5;241m5\u001b[39m)\u001b[38;5;241m.\u001b[39mindex\u001b[38;5;241m.\u001b[39mtolist()))\n",
      "\u001b[0;31mNameError\u001b[0m: name 'data_d2v' is not defined"
     ]
    }
   ],
   "source": [
    "zs_d2v = pd.concat([data_d2v[data_d2v.loc[:,\"CIK\"] == 1713683].iloc[:,0].reset_index(drop=True),\n",
    "           pd.DataFrame(cosine_similarity(data_d2v[data_d2v.loc[:,\"CIK\"] == 1713683].iloc[:,4:], industry_vectors_d2v),\n",
    "                        columns = industry_vectors.index.tolist())],\n",
    "          axis = 1)\n",
    "\n",
    "# Gets the list of top industries associated with okta throughout it's history\n",
    "zs_industries = set((zs_d2v.iloc[0,1:].sort_values(ascending = False).head(5).index.tolist()))\n",
    "for i in np.arange(1,zs_d2v.shape[0]):\n",
    "    zs_industries.update(zs_d2v.iloc[i,1:].sort_values(ascending = False).head(5).index.tolist())\n",
    "\n",
    "std_func.dynamic_plt(zs_d2v, zs_industries, \"Z-Scaler\")"
   ]
  },
  {
   "cell_type": "markdown",
   "id": "c06871a7-bee2-4958-bf08-0b8f01d46b3a",
   "metadata": {},
   "source": [
    "Across the board, it seems Z-Scaler's similarity to it's closest industries increased, in contrast to our word2vec results. This suggests that Z-Scaler is moving closer to the computer integrated systems design/modem related industries.\n",
    "\n",
    "This interpretation should be taken with a large grain of salt as well, as we are only visualizing changes over one year and the results are not consistent with our word2vec results."
   ]
  },
  {
   "cell_type": "markdown",
   "id": "a45c9297-b16f-4164-b774-f8c44549aee7",
   "metadata": {},
   "source": [
    "#### Netflix"
   ]
  },
  {
   "cell_type": "code",
   "execution_count": 27,
   "id": "6df23bb8-86d5-4da6-b01c-3888c99b288e",
   "metadata": {
    "tags": [
     "hide-input"
    ]
   },
   "outputs": [
    {
     "ename": "NameError",
     "evalue": "name 'data_d2v' is not defined",
     "output_type": "error",
     "traceback": [
      "\u001b[0;31m---------------------------------------------------------------------------\u001b[0m",
      "\u001b[0;31mNameError\u001b[0m                                 Traceback (most recent call last)",
      "Input \u001b[0;32mIn [27]\u001b[0m, in \u001b[0;36m<cell line: 1>\u001b[0;34m()\u001b[0m\n\u001b[0;32m----> 1\u001b[0m nlfx_d2v \u001b[38;5;241m=\u001b[39m pd\u001b[38;5;241m.\u001b[39mconcat([\u001b[43mdata_d2v\u001b[49m[data_d2v\u001b[38;5;241m.\u001b[39mloc[:,\u001b[38;5;124m\"\u001b[39m\u001b[38;5;124mCIK\u001b[39m\u001b[38;5;124m\"\u001b[39m] \u001b[38;5;241m==\u001b[39m \u001b[38;5;241m1065280\u001b[39m]\u001b[38;5;241m.\u001b[39miloc[:,\u001b[38;5;241m0\u001b[39m]\u001b[38;5;241m.\u001b[39mreset_index(drop\u001b[38;5;241m=\u001b[39m\u001b[38;5;28;01mTrue\u001b[39;00m),\n\u001b[1;32m      2\u001b[0m            pd\u001b[38;5;241m.\u001b[39mDataFrame(cosine_similarity(data_d2v[data_d2v\u001b[38;5;241m.\u001b[39mloc[:,\u001b[38;5;124m\"\u001b[39m\u001b[38;5;124mCIK\u001b[39m\u001b[38;5;124m\"\u001b[39m] \u001b[38;5;241m==\u001b[39m \u001b[38;5;241m1065280\u001b[39m]\u001b[38;5;241m.\u001b[39miloc[:,\u001b[38;5;241m4\u001b[39m:], industry_vectors_d2v),\n\u001b[1;32m      3\u001b[0m                         columns \u001b[38;5;241m=\u001b[39m industry_vectors\u001b[38;5;241m.\u001b[39mindex\u001b[38;5;241m.\u001b[39mtolist())],\n\u001b[1;32m      4\u001b[0m           axis \u001b[38;5;241m=\u001b[39m \u001b[38;5;241m1\u001b[39m)\n\u001b[1;32m      6\u001b[0m \u001b[38;5;66;03m# Gets the list of top industries associated with okta throughout it's history\u001b[39;00m\n\u001b[1;32m      7\u001b[0m nlfx_industries \u001b[38;5;241m=\u001b[39m \u001b[38;5;28mset\u001b[39m((nlfx_d2v\u001b[38;5;241m.\u001b[39miloc[\u001b[38;5;241m0\u001b[39m,\u001b[38;5;241m1\u001b[39m:]\u001b[38;5;241m.\u001b[39msort_values(ascending \u001b[38;5;241m=\u001b[39m \u001b[38;5;28;01mFalse\u001b[39;00m)\u001b[38;5;241m.\u001b[39mhead(\u001b[38;5;241m5\u001b[39m)\u001b[38;5;241m.\u001b[39mindex\u001b[38;5;241m.\u001b[39mtolist()))\n",
      "\u001b[0;31mNameError\u001b[0m: name 'data_d2v' is not defined"
     ]
    }
   ],
   "source": [
    "nlfx_d2v = pd.concat([data_d2v[data_d2v.loc[:,\"CIK\"] == 1065280].iloc[:,0].reset_index(drop=True),\n",
    "           pd.DataFrame(cosine_similarity(data_d2v[data_d2v.loc[:,\"CIK\"] == 1065280].iloc[:,4:], industry_vectors_d2v),\n",
    "                        columns = industry_vectors.index.tolist())],\n",
    "          axis = 1)\n",
    "\n",
    "# Gets the list of top industries associated with okta throughout it's history\n",
    "nlfx_industries = set((nlfx_d2v.iloc[0,1:].sort_values(ascending = False).head(5).index.tolist()))\n",
    "for i in np.arange(1,nlfx_d2v.shape[0]):\n",
    "    nlfx_industries.update(nlfx_d2v.iloc[i,1:].sort_values(ascending = False).head(5).index.tolist())\n",
    "\n",
    "std_func.dynamic_plt(nlfx_d2v, nlfx_industries, \"Netflix\")"
   ]
  },
  {
   "cell_type": "markdown",
   "id": "7a1a20ef-a6b1-4b3c-92bb-79c31568c2fc",
   "metadata": {},
   "source": [
    "A quick look at the largest increases in cosine similarity tells us that this graph is quite meaningless, although fun to look at. The largest jumps in cosine similarity occurred with the **\"Wholesale Trade--Durable Goods\"** industry and the **\"Business Services, NEC (tobacco sheeting service)\"** industry which are far crys from what Netflix's products and services are. \n",
    "\n",
    "As per definition,\n",
    ">Industries in the Wholesale Trade, Durable Goods subsector sell or arrange the purchase or sale of capital or durable goods to other businesses. Durable goods are new or used items generally with a normal life expectancy of three years or more. Durable goods wholesale trade establishments are engaged in wholesaling products, such as motor vehicles, furniture, construction materials, machinery and equipment (including household-type appliances), metals and minerals (except petroleum), sporting goods, toys and hobby goods, recyclable materials, and parts.\n",
    "\n",
    "This result is unfortunately not very interpretable."
   ]
  },
  {
   "cell_type": "markdown",
   "id": "b3e07fec-d09e-4443-929f-fbefbdb5e892",
   "metadata": {},
   "source": [
    "#### General Electric"
   ]
  },
  {
   "cell_type": "code",
   "execution_count": 28,
   "id": "046f13c8-4061-4d7a-b150-a49c29dd1fb7",
   "metadata": {
    "tags": [
     "hide-input"
    ]
   },
   "outputs": [
    {
     "ename": "NameError",
     "evalue": "name 'data_d2v' is not defined",
     "output_type": "error",
     "traceback": [
      "\u001b[0;31m---------------------------------------------------------------------------\u001b[0m",
      "\u001b[0;31mNameError\u001b[0m                                 Traceback (most recent call last)",
      "Input \u001b[0;32mIn [28]\u001b[0m, in \u001b[0;36m<cell line: 1>\u001b[0;34m()\u001b[0m\n\u001b[0;32m----> 1\u001b[0m ge_d2v \u001b[38;5;241m=\u001b[39m pd\u001b[38;5;241m.\u001b[39mconcat([\u001b[43mdata_d2v\u001b[49m[data_d2v\u001b[38;5;241m.\u001b[39mloc[:,\u001b[38;5;124m\"\u001b[39m\u001b[38;5;124mCIK\u001b[39m\u001b[38;5;124m\"\u001b[39m] \u001b[38;5;241m==\u001b[39m \u001b[38;5;241m40545\u001b[39m]\u001b[38;5;241m.\u001b[39miloc[:,\u001b[38;5;241m0\u001b[39m]\u001b[38;5;241m.\u001b[39mreset_index(drop\u001b[38;5;241m=\u001b[39m\u001b[38;5;28;01mTrue\u001b[39;00m),\n\u001b[1;32m      2\u001b[0m            pd\u001b[38;5;241m.\u001b[39mDataFrame(cosine_similarity(data_d2v[data_d2v\u001b[38;5;241m.\u001b[39mloc[:,\u001b[38;5;124m\"\u001b[39m\u001b[38;5;124mCIK\u001b[39m\u001b[38;5;124m\"\u001b[39m] \u001b[38;5;241m==\u001b[39m \u001b[38;5;241m40545\u001b[39m]\u001b[38;5;241m.\u001b[39miloc[:,\u001b[38;5;241m4\u001b[39m:], industry_vectors_d2v),\n\u001b[1;32m      3\u001b[0m                         columns \u001b[38;5;241m=\u001b[39m industry_vectors\u001b[38;5;241m.\u001b[39mindex\u001b[38;5;241m.\u001b[39mtolist())],\n\u001b[1;32m      4\u001b[0m           axis \u001b[38;5;241m=\u001b[39m \u001b[38;5;241m1\u001b[39m)\n\u001b[1;32m      6\u001b[0m \u001b[38;5;66;03m# Gets the list of top industries associated with okta throughout it's history\u001b[39;00m\n\u001b[1;32m      7\u001b[0m ge_industries \u001b[38;5;241m=\u001b[39m \u001b[38;5;28mset\u001b[39m((ge_d2v\u001b[38;5;241m.\u001b[39miloc[\u001b[38;5;241m0\u001b[39m,\u001b[38;5;241m1\u001b[39m:]\u001b[38;5;241m.\u001b[39msort_values(ascending \u001b[38;5;241m=\u001b[39m \u001b[38;5;28;01mFalse\u001b[39;00m)\u001b[38;5;241m.\u001b[39mhead(\u001b[38;5;241m5\u001b[39m)\u001b[38;5;241m.\u001b[39mindex\u001b[38;5;241m.\u001b[39mtolist()))\n",
      "\u001b[0;31mNameError\u001b[0m: name 'data_d2v' is not defined"
     ]
    }
   ],
   "source": [
    "ge_d2v = pd.concat([data_d2v[data_d2v.loc[:,\"CIK\"] == 40545].iloc[:,0].reset_index(drop=True),\n",
    "           pd.DataFrame(cosine_similarity(data_d2v[data_d2v.loc[:,\"CIK\"] == 40545].iloc[:,4:], industry_vectors_d2v),\n",
    "                        columns = industry_vectors.index.tolist())],\n",
    "          axis = 1)\n",
    "\n",
    "# Gets the list of top industries associated with okta throughout it's history\n",
    "ge_industries = set((ge_d2v.iloc[0,1:].sort_values(ascending = False).head(5).index.tolist()))\n",
    "for i in np.arange(1,ge_d2v.shape[0]):\n",
    "    ge_industries.update(ge_d2v.iloc[i,1:].sort_values(ascending = False).head(5).index.tolist())\n",
    "\n",
    "std_func.dynamic_plt(ge_d2v, ge_industries, \"General Electric\")"
   ]
  },
  {
   "cell_type": "markdown",
   "id": "d09ff840-21d6-4a48-8be7-e91784c6b494",
   "metadata": {},
   "source": [
    "Finally, we have General Electric. This graph is quite interesting, as GE is a multinational conglomerate which has it's hands in many industries. This graph illustrates this aspect of GE quite well, as its most similar industries are quite unrelated to eachother. Due to the scale of this company, it is also quite difficult to interpret why certain industries increased in similarity, and as we've seen above it may be best to take dynamic analysis results using doc2vec with a grain of salt.\n",
    "\n",
    "## Conclusion\n",
    "\n",
    "On this page, you've learned about our methodology of measuring and analyzing the changes in business descriptions. These changes helped us identify what the largest changes in each of these companies were, whether it was a increase or decrease of importance of certain terms, or a shift closer toward or further from its closest industries.\n",
    "\n",
    "As this work is unsupervised and exploratory, its quite hard to extract any concrete results that could lead to actionable insight. This is more a look into the techniques available to perform NLP analysis. We hope this was informative to how time series data and text embeddings have mayn novel applications waiting to be explored."
   ]
  }
 ],
 "metadata": {
  "kernelspec": {
   "display_name": "Python 3 (ipykernel)",
   "language": "python",
   "name": "python3"
  },
  "language_info": {
   "codemirror_mode": {
    "name": "ipython",
    "version": 3
   },
   "file_extension": ".py",
   "mimetype": "text/x-python",
   "name": "python",
   "nbconvert_exporter": "python",
   "pygments_lexer": "ipython3",
   "version": "3.9.12"
  }
 },
 "nbformat": 4,
 "nbformat_minor": 5
}
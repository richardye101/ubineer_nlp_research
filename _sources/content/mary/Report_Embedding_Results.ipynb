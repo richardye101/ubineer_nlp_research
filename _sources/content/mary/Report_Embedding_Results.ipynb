{
 "cells": [
  {
   "cell_type": "markdown",
   "metadata": {},
   "source": [
    "## Document Embedding Results \n",
    "\n",
    "The table below illustrates an overview of the results of all the techniques we explored to create document embeddings. "
   ]
  },
  {
   "cell_type": "markdown",
   "metadata": {},
   "source": [
    "|Embedding Technique | Prepackaged Software(Recall) |  Crude Petroleum and Natural Gas(Recall) |  Pharmaceutical Preparations(Recall) | Real Estate Investment Trusts(Recall) | State Commercial Banks(Recall) | Weighted Average(Recall) \n",
    "|--------------------|------------------------------|------------------------------|------------------------------|------------------------------|------------------------------|------------------------------|\n",
    "|TF-IDF|   |   |   |   |   |   |\n",
    "|N-grams - Cosine Similarity|  0.85 | 0.93  |  0.76 |  0.95 |  0.94 |  0.91 |\n",
    "|POS Tagging - Cosine Similarity| 0.86  |  0.96 |  0.91 |  0.97 | 0.97  | 0.95  |\n",
    "|Word2Vec|   |   |   |   |   |   |\n",
    "|Doc2Vec|   |   |   |   |   |   |\n",
    "|TwoTowers| 0.67  | 0.56  |0.60   |0.68   |0.65   |0.63   |\n",
    "|Universal Sentence Encoder| 0.83  |0.96  |0.90   |0.96   |0.96 |0.94 |"
   ]
  },
  {
   "cell_type": "markdown",
   "metadata": {},
   "source": [
    "## Conclusion\n",
    "To be added when we have all results.\n",
    "probably conclude that most of our model done well and is good at classifying xxx category."
   ]
  }
 ],
 "metadata": {
  "kernelspec": {
   "display_name": "Python 3 (ipykernel)",
   "language": "python",
   "name": "python3"
  },
  "language_info": {
   "codemirror_mode": {
    "name": "ipython",
    "version": 3
   },
   "file_extension": ".py",
   "mimetype": "text/x-python",
   "name": "python",
   "nbconvert_exporter": "python",
   "pygments_lexer": "ipython3",
   "version": "3.9.7"
  }
 },
 "nbformat": 4,
 "nbformat_minor": 2
}

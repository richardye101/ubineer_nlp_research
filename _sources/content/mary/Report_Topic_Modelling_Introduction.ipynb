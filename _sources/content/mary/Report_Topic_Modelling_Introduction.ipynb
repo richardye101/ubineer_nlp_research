{
 "cells": [
  {
   "cell_type": "markdown",
   "metadata": {},
   "source": [
    "## Dynamic Topic Modelling Introduction\n",
    "\n",
    "The goal of this section is to explore topic modelling techniques, namely Latent Dirichlet Allocation (LDA), and Latent Semantic Analysis (LSA). \n",
    "\n",
    "*__ Add more details?__*\n",
    "\n",
    "1. [LDA](https://richardye101.github.io/ubineer_nlp_research/content/richard/2_LDA_topic_modelling.html)\n",
    "\n",
    "2.[LSA] (https://richardye101.github.io/ubineer_nlp_research/content/richard/3_LSA_topic_modelling.html)\n"
   ]
  }
 ],
 "metadata": {
  "language_info": {
   "name": "python"
  },
  "orig_nbformat": 4
 },
 "nbformat": 4,
 "nbformat_minor": 2
}

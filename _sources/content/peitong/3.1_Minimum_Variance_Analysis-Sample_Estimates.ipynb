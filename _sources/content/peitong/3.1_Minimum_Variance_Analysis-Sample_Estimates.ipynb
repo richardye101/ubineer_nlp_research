{
 "cells": [
  {
   "cell_type": "code",
   "execution_count": 1,
   "id": "1bcaa702",
   "metadata": {
    "tags": [
     "remove-input"
    ]
   },
   "outputs": [],
   "source": [
    "import sys\n",
    "sys.path.insert(0, '..')\n",
    "%load_ext autoreload\n",
    "%autoreload 2\n",
    "%aimport std_func\n",
    "\n",
    "# Hide warnings\n",
    "import warnings\n",
    "warnings.filterwarnings(\"ignore\")"
   ]
  },
  {
   "cell_type": "markdown",
   "id": "d9148826",
   "metadata": {},
   "source": [
    "## Estimates from Sample Covariance\n",
    "\n",
    "The portfolios we constructed in this notebook serve as reference to the portfolios using cosine similarity estimates and factor model estimates. Here, we simply use the sample return and sample covariance to generate portfolios for each industry."
   ]
  },
  {
   "cell_type": "code",
   "execution_count": 2,
   "id": "12347323",
   "metadata": {
    "tags": [
     "hide-input"
    ]
   },
   "outputs": [],
   "source": [
    "import pandas as pd\n",
    "import numpy as np\n",
    "import matplotlib.pyplot as plt\n",
    "import seaborn as sns"
   ]
  },
  {
   "cell_type": "code",
   "execution_count": 3,
   "id": "89f2f46b",
   "metadata": {
    "tags": [
     "hide-input"
    ]
   },
   "outputs": [],
   "source": [
    "r_selected = pd.read_csv(\"data/filtered_r.csv\")\n",
    "# get the mean of all \n",
    "r_selected.set_index(\"name\", inplace = True)\n",
    "mu = r_selected.mean(axis = 1)\n",
    "# compute the covariance matrix \n",
    "cov = r_selected.T.cov()"
   ]
  },
  {
   "cell_type": "markdown",
   "id": "70db3425",
   "metadata": {},
   "source": [
    "### Perform Mean-Variance Analysis\n",
    "We will use one industry per time to generate a minimum-variance portfolio. In our demonstration of mean-variance analysis process, we use the industry `pharmaceutical preparations` whose SIC code is `2834`. At the end, we will show the results for other industries. \n",
    "\n",
    "We first get the name list of `pharmaceutical preparations` companies and match the names with the companies in returns data. Then, we get the sample mean and sample covariance for this specific industry. We get the efficient frontier, the set of optimal portfolios, for the industry; and recognize the minimum-variance portfolio with its performance and its weights for selected companies."
   ]
  },
  {
   "cell_type": "code",
   "execution_count": 4,
   "id": "a1bce350",
   "metadata": {
    "scrolled": true,
    "tags": [
     "remove-input",
     "remove-output"
    ]
   },
   "outputs": [],
   "source": [
    "#!pip install dataframe_image"
   ]
  },
  {
   "cell_type": "code",
   "execution_count": 5,
   "id": "585c801a",
   "metadata": {
    "tags": [
     "remove-input",
     "remove-output"
    ]
   },
   "outputs": [
    {
     "name": "stdout",
     "output_type": "stream",
     "text": [
      "Requirement already satisfied: PyPortfolioOpt in /Users/lulu/opt/anaconda3/lib/python3.9/site-packages (1.5.1)\n",
      "Requirement already satisfied: numpy<2.0,>=1.12 in /Users/lulu/opt/anaconda3/lib/python3.9/site-packages (from PyPortfolioOpt) (1.20.3)\n",
      "Requirement already satisfied: scipy<2.0,>=1.3 in /Users/lulu/opt/anaconda3/lib/python3.9/site-packages (from PyPortfolioOpt) (1.7.3)\n",
      "Requirement already satisfied: pandas>=0.19 in /Users/lulu/opt/anaconda3/lib/python3.9/site-packages (from PyPortfolioOpt) (1.4.1)\n",
      "Requirement already satisfied: cvxpy<2.0.0,>=1.1.10 in /Users/lulu/opt/anaconda3/lib/python3.9/site-packages (from PyPortfolioOpt) (1.1.18)\n",
      "Requirement already satisfied: scs>=1.1.6 in /Users/lulu/opt/anaconda3/lib/python3.9/site-packages (from cvxpy<2.0.0,>=1.1.10->PyPortfolioOpt) (3.2.0)\n",
      "Requirement already satisfied: ecos>=2 in /Users/lulu/opt/anaconda3/lib/python3.9/site-packages (from cvxpy<2.0.0,>=1.1.10->PyPortfolioOpt) (2.0.10)\n",
      "Requirement already satisfied: osqp>=0.4.1 in /Users/lulu/opt/anaconda3/lib/python3.9/site-packages (from cvxpy<2.0.0,>=1.1.10->PyPortfolioOpt) (0.6.2.post5)\n",
      "Requirement already satisfied: qdldl in /Users/lulu/opt/anaconda3/lib/python3.9/site-packages (from osqp>=0.4.1->cvxpy<2.0.0,>=1.1.10->PyPortfolioOpt) (0.1.5.post0)\n",
      "Requirement already satisfied: python-dateutil>=2.8.1 in /Users/lulu/opt/anaconda3/lib/python3.9/site-packages (from pandas>=0.19->PyPortfolioOpt) (2.8.2)\n",
      "Requirement already satisfied: pytz>=2020.1 in /Users/lulu/opt/anaconda3/lib/python3.9/site-packages (from pandas>=0.19->PyPortfolioOpt) (2021.3)\n",
      "Requirement already satisfied: six>=1.5 in /Users/lulu/opt/anaconda3/lib/python3.9/site-packages (from python-dateutil>=2.8.1->pandas>=0.19->PyPortfolioOpt) (1.16.0)\n"
     ]
    }
   ],
   "source": [
    "!pip install PyPortfolioOpt"
   ]
  },
  {
   "cell_type": "code",
   "execution_count": 6,
   "id": "f245cf2e",
   "metadata": {
    "tags": [
     "hide-input"
    ]
   },
   "outputs": [],
   "source": [
    "from pypfopt import EfficientFrontier\n",
    "from pypfopt import risk_models\n",
    "from pypfopt import expected_returns\n",
    "from pypfopt import objective_functions\n",
    "from pypfopt import plotting"
   ]
  },
  {
   "cell_type": "code",
   "execution_count": 7,
   "id": "bd7b3ef3",
   "metadata": {
    "tags": [
     "hide-input"
    ]
   },
   "outputs": [],
   "source": [
    "df = pd.read_csv('../data/preprocessed.csv',\n",
    "                 usecols = ['reportingDate', 'name', 'CIK',\n",
    "                           'coDescription_stopwords', 'SIC', 'SIC_desc'])\n",
    "df = df.set_index(df.name)"
   ]
  },
  {
   "cell_type": "code",
   "execution_count": 8,
   "id": "b9f6cdc4",
   "metadata": {
    "tags": [
     "hide-input"
    ]
   },
   "outputs": [],
   "source": [
    "# get the names of the companies in the pharmaceutical preparations industry\n",
    "Pharm = df[df.SIC == 2834]\n",
    "Pharm_list = Pharm.index"
   ]
  },
  {
   "cell_type": "code",
   "execution_count": 9,
   "id": "98c532c4",
   "metadata": {
    "scrolled": true,
    "tags": [
     "hide-input"
    ]
   },
   "outputs": [],
   "source": [
    "# get the companies name that match return data and business description data\n",
    "SET = (set(Pharm_list) & set(r_selected.index))\n",
    "LIST = [*SET, ]"
   ]
  },
  {
   "cell_type": "markdown",
   "id": "270561f4",
   "metadata": {},
   "source": [
    "#### Sample Mean for the Pharmaceutical Preparations Industry"
   ]
  },
  {
   "cell_type": "code",
   "execution_count": 10,
   "id": "7b6da842",
   "metadata": {
    "tags": [
     "remove-input"
    ]
   },
   "outputs": [
    {
     "data": {
      "text/plain": [
       "name\n",
       "JOHNSON & JOHNSON                0.007494\n",
       "SYNTHETIC BIOLOGICS, INC.       -0.117010\n",
       "FORTRESS BIOTECH, INC.          -0.019867\n",
       "PARATEK PHARMACEUTICALS, INC.   -0.024066\n",
       "ARQULE INC                       0.043046\n",
       "                                   ...   \n",
       "ZOSANO PHARMA CORP              -0.045029\n",
       "ONCOMED PHARMACEUTICALS INC     -0.065967\n",
       "PTC THERAPEUTICS, INC.           0.081859\n",
       "WAVE LIFE SCIENCES LTD.          0.048065\n",
       "ONCOSEC MEDICAL INC             -0.009135\n",
       "Length: 124, dtype: float64"
      ]
     },
     "execution_count": 10,
     "metadata": {},
     "output_type": "execute_result"
    }
   ],
   "source": [
    "mu_Pharm = mu[LIST]\n",
    "mu_Pharm"
   ]
  },
  {
   "cell_type": "markdown",
   "id": "c3bcd217",
   "metadata": {},
   "source": [
    "#### Sample Covariance for the Pharmaceutical Preparations Industry"
   ]
  },
  {
   "cell_type": "code",
   "execution_count": 11,
   "id": "8e72a50e",
   "metadata": {
    "tags": [
     "remove-input"
    ]
   },
   "outputs": [
    {
     "data": {
      "text/html": [
       "<div>\n",
       "<style scoped>\n",
       "    .dataframe tbody tr th:only-of-type {\n",
       "        vertical-align: middle;\n",
       "    }\n",
       "\n",
       "    .dataframe tbody tr th {\n",
       "        vertical-align: top;\n",
       "    }\n",
       "\n",
       "    .dataframe thead th {\n",
       "        text-align: right;\n",
       "    }\n",
       "</style>\n",
       "<table border=\"1\" class=\"dataframe\">\n",
       "  <thead>\n",
       "    <tr style=\"text-align: right;\">\n",
       "      <th>name</th>\n",
       "      <th>JOHNSON &amp; JOHNSON</th>\n",
       "      <th>SYNTHETIC BIOLOGICS, INC.</th>\n",
       "      <th>FORTRESS BIOTECH, INC.</th>\n",
       "      <th>PARATEK PHARMACEUTICALS, INC.</th>\n",
       "      <th>ARQULE INC</th>\n",
       "      <th>OPHTHOTECH CORP.</th>\n",
       "      <th>FIBROCELL SCIENCE, INC.</th>\n",
       "      <th>ENANTA PHARMACEUTICALS INC</th>\n",
       "      <th>PORTOLA PHARMACEUTICALS INC</th>\n",
       "      <th>ARATANA THERAPEUTICS, INC.</th>\n",
       "      <th>...</th>\n",
       "      <th>FLEXION THERAPEUTICS INC</th>\n",
       "      <th>PRESTIGE BRANDS HOLDINGS, INC.</th>\n",
       "      <th>GALECTIN THERAPEUTICS INC</th>\n",
       "      <th>CATABASIS PHARMACEUTICALS INC</th>\n",
       "      <th>TELIGENT, INC.</th>\n",
       "      <th>ZOSANO PHARMA CORP</th>\n",
       "      <th>ONCOMED PHARMACEUTICALS INC</th>\n",
       "      <th>PTC THERAPEUTICS, INC.</th>\n",
       "      <th>WAVE LIFE SCIENCES LTD.</th>\n",
       "      <th>ONCOSEC MEDICAL INC</th>\n",
       "    </tr>\n",
       "    <tr>\n",
       "      <th>name</th>\n",
       "      <th></th>\n",
       "      <th></th>\n",
       "      <th></th>\n",
       "      <th></th>\n",
       "      <th></th>\n",
       "      <th></th>\n",
       "      <th></th>\n",
       "      <th></th>\n",
       "      <th></th>\n",
       "      <th></th>\n",
       "      <th></th>\n",
       "      <th></th>\n",
       "      <th></th>\n",
       "      <th></th>\n",
       "      <th></th>\n",
       "      <th></th>\n",
       "      <th></th>\n",
       "      <th></th>\n",
       "      <th></th>\n",
       "      <th></th>\n",
       "      <th></th>\n",
       "    </tr>\n",
       "  </thead>\n",
       "  <tbody>\n",
       "    <tr>\n",
       "      <th>JOHNSON &amp; JOHNSON</th>\n",
       "      <td>0.001999</td>\n",
       "      <td>0.000114</td>\n",
       "      <td>0.002340</td>\n",
       "      <td>0.001234</td>\n",
       "      <td>-0.001739</td>\n",
       "      <td>0.000064</td>\n",
       "      <td>-0.000474</td>\n",
       "      <td>-0.001219</td>\n",
       "      <td>0.001758</td>\n",
       "      <td>0.000081</td>\n",
       "      <td>...</td>\n",
       "      <td>0.000971</td>\n",
       "      <td>0.001312</td>\n",
       "      <td>0.002841</td>\n",
       "      <td>-0.003584</td>\n",
       "      <td>0.002300</td>\n",
       "      <td>0.005264</td>\n",
       "      <td>0.001195</td>\n",
       "      <td>-0.002392</td>\n",
       "      <td>-0.000148</td>\n",
       "      <td>0.001495</td>\n",
       "    </tr>\n",
       "    <tr>\n",
       "      <th>SYNTHETIC BIOLOGICS, INC.</th>\n",
       "      <td>0.000114</td>\n",
       "      <td>0.047660</td>\n",
       "      <td>0.014484</td>\n",
       "      <td>0.013074</td>\n",
       "      <td>0.010385</td>\n",
       "      <td>0.006243</td>\n",
       "      <td>0.008238</td>\n",
       "      <td>0.006687</td>\n",
       "      <td>0.013118</td>\n",
       "      <td>-0.000307</td>\n",
       "      <td>...</td>\n",
       "      <td>0.010925</td>\n",
       "      <td>0.001726</td>\n",
       "      <td>0.006691</td>\n",
       "      <td>0.017695</td>\n",
       "      <td>0.002601</td>\n",
       "      <td>0.002134</td>\n",
       "      <td>0.017007</td>\n",
       "      <td>0.005679</td>\n",
       "      <td>-0.001993</td>\n",
       "      <td>-0.003392</td>\n",
       "    </tr>\n",
       "    <tr>\n",
       "      <th>FORTRESS BIOTECH, INC.</th>\n",
       "      <td>0.002340</td>\n",
       "      <td>0.014484</td>\n",
       "      <td>0.034730</td>\n",
       "      <td>0.015315</td>\n",
       "      <td>0.004847</td>\n",
       "      <td>0.001813</td>\n",
       "      <td>0.011941</td>\n",
       "      <td>0.007231</td>\n",
       "      <td>0.019865</td>\n",
       "      <td>0.000885</td>\n",
       "      <td>...</td>\n",
       "      <td>0.019194</td>\n",
       "      <td>0.004825</td>\n",
       "      <td>0.021772</td>\n",
       "      <td>0.007904</td>\n",
       "      <td>0.001940</td>\n",
       "      <td>0.020079</td>\n",
       "      <td>0.010251</td>\n",
       "      <td>0.007095</td>\n",
       "      <td>0.001004</td>\n",
       "      <td>-0.005132</td>\n",
       "    </tr>\n",
       "    <tr>\n",
       "      <th>PARATEK PHARMACEUTICALS, INC.</th>\n",
       "      <td>0.001234</td>\n",
       "      <td>0.013074</td>\n",
       "      <td>0.015315</td>\n",
       "      <td>0.026534</td>\n",
       "      <td>0.002726</td>\n",
       "      <td>0.004201</td>\n",
       "      <td>0.014456</td>\n",
       "      <td>0.006998</td>\n",
       "      <td>0.011105</td>\n",
       "      <td>0.000014</td>\n",
       "      <td>...</td>\n",
       "      <td>0.010004</td>\n",
       "      <td>0.005227</td>\n",
       "      <td>0.012742</td>\n",
       "      <td>0.014110</td>\n",
       "      <td>0.008246</td>\n",
       "      <td>0.005180</td>\n",
       "      <td>0.013125</td>\n",
       "      <td>0.012638</td>\n",
       "      <td>-0.002179</td>\n",
       "      <td>-0.007654</td>\n",
       "    </tr>\n",
       "    <tr>\n",
       "      <th>ARQULE INC</th>\n",
       "      <td>-0.001739</td>\n",
       "      <td>0.010385</td>\n",
       "      <td>0.004847</td>\n",
       "      <td>0.002726</td>\n",
       "      <td>0.072106</td>\n",
       "      <td>0.018259</td>\n",
       "      <td>0.002874</td>\n",
       "      <td>0.006279</td>\n",
       "      <td>0.000991</td>\n",
       "      <td>0.007196</td>\n",
       "      <td>...</td>\n",
       "      <td>0.005015</td>\n",
       "      <td>0.008378</td>\n",
       "      <td>0.019332</td>\n",
       "      <td>0.013532</td>\n",
       "      <td>0.008357</td>\n",
       "      <td>0.000944</td>\n",
       "      <td>0.024511</td>\n",
       "      <td>0.017331</td>\n",
       "      <td>0.010765</td>\n",
       "      <td>0.014953</td>\n",
       "    </tr>\n",
       "    <tr>\n",
       "      <th>...</th>\n",
       "      <td>...</td>\n",
       "      <td>...</td>\n",
       "      <td>...</td>\n",
       "      <td>...</td>\n",
       "      <td>...</td>\n",
       "      <td>...</td>\n",
       "      <td>...</td>\n",
       "      <td>...</td>\n",
       "      <td>...</td>\n",
       "      <td>...</td>\n",
       "      <td>...</td>\n",
       "      <td>...</td>\n",
       "      <td>...</td>\n",
       "      <td>...</td>\n",
       "      <td>...</td>\n",
       "      <td>...</td>\n",
       "      <td>...</td>\n",
       "      <td>...</td>\n",
       "      <td>...</td>\n",
       "      <td>...</td>\n",
       "      <td>...</td>\n",
       "    </tr>\n",
       "    <tr>\n",
       "      <th>ZOSANO PHARMA CORP</th>\n",
       "      <td>0.005264</td>\n",
       "      <td>0.002134</td>\n",
       "      <td>0.020079</td>\n",
       "      <td>0.005180</td>\n",
       "      <td>0.000944</td>\n",
       "      <td>-0.001984</td>\n",
       "      <td>0.018302</td>\n",
       "      <td>-0.004360</td>\n",
       "      <td>0.025531</td>\n",
       "      <td>0.000189</td>\n",
       "      <td>...</td>\n",
       "      <td>0.006360</td>\n",
       "      <td>0.011443</td>\n",
       "      <td>0.045296</td>\n",
       "      <td>-0.022670</td>\n",
       "      <td>0.013413</td>\n",
       "      <td>0.106290</td>\n",
       "      <td>0.020324</td>\n",
       "      <td>0.011539</td>\n",
       "      <td>-0.002791</td>\n",
       "      <td>0.007832</td>\n",
       "    </tr>\n",
       "    <tr>\n",
       "      <th>ONCOMED PHARMACEUTICALS INC</th>\n",
       "      <td>0.001195</td>\n",
       "      <td>0.017007</td>\n",
       "      <td>0.010251</td>\n",
       "      <td>0.013125</td>\n",
       "      <td>0.024511</td>\n",
       "      <td>0.019946</td>\n",
       "      <td>0.001846</td>\n",
       "      <td>-0.000963</td>\n",
       "      <td>0.007101</td>\n",
       "      <td>0.001275</td>\n",
       "      <td>...</td>\n",
       "      <td>0.014779</td>\n",
       "      <td>0.002398</td>\n",
       "      <td>0.002101</td>\n",
       "      <td>0.009534</td>\n",
       "      <td>0.005586</td>\n",
       "      <td>0.020324</td>\n",
       "      <td>0.048878</td>\n",
       "      <td>0.001692</td>\n",
       "      <td>0.015326</td>\n",
       "      <td>0.017584</td>\n",
       "    </tr>\n",
       "    <tr>\n",
       "      <th>PTC THERAPEUTICS, INC.</th>\n",
       "      <td>-0.002392</td>\n",
       "      <td>0.005679</td>\n",
       "      <td>0.007095</td>\n",
       "      <td>0.012638</td>\n",
       "      <td>0.017331</td>\n",
       "      <td>-0.001052</td>\n",
       "      <td>0.024321</td>\n",
       "      <td>0.023870</td>\n",
       "      <td>0.014432</td>\n",
       "      <td>0.008186</td>\n",
       "      <td>...</td>\n",
       "      <td>-0.002383</td>\n",
       "      <td>0.004181</td>\n",
       "      <td>0.011845</td>\n",
       "      <td>0.021288</td>\n",
       "      <td>0.008459</td>\n",
       "      <td>0.011539</td>\n",
       "      <td>0.001692</td>\n",
       "      <td>0.077202</td>\n",
       "      <td>0.009859</td>\n",
       "      <td>-0.011324</td>\n",
       "    </tr>\n",
       "    <tr>\n",
       "      <th>WAVE LIFE SCIENCES LTD.</th>\n",
       "      <td>-0.000148</td>\n",
       "      <td>-0.001993</td>\n",
       "      <td>0.001004</td>\n",
       "      <td>-0.002179</td>\n",
       "      <td>0.010765</td>\n",
       "      <td>0.017766</td>\n",
       "      <td>-0.012897</td>\n",
       "      <td>0.000024</td>\n",
       "      <td>-0.002345</td>\n",
       "      <td>-0.001452</td>\n",
       "      <td>...</td>\n",
       "      <td>0.008684</td>\n",
       "      <td>-0.002675</td>\n",
       "      <td>-0.008727</td>\n",
       "      <td>0.003615</td>\n",
       "      <td>-0.006795</td>\n",
       "      <td>-0.002791</td>\n",
       "      <td>0.015326</td>\n",
       "      <td>0.009859</td>\n",
       "      <td>0.037018</td>\n",
       "      <td>0.019476</td>\n",
       "    </tr>\n",
       "    <tr>\n",
       "      <th>ONCOSEC MEDICAL INC</th>\n",
       "      <td>0.001495</td>\n",
       "      <td>-0.003392</td>\n",
       "      <td>-0.005132</td>\n",
       "      <td>-0.007654</td>\n",
       "      <td>0.014953</td>\n",
       "      <td>0.017661</td>\n",
       "      <td>-0.001775</td>\n",
       "      <td>-0.005072</td>\n",
       "      <td>-0.001130</td>\n",
       "      <td>0.001973</td>\n",
       "      <td>...</td>\n",
       "      <td>0.002549</td>\n",
       "      <td>-0.000115</td>\n",
       "      <td>0.006347</td>\n",
       "      <td>-0.005080</td>\n",
       "      <td>-0.002892</td>\n",
       "      <td>0.007832</td>\n",
       "      <td>0.017584</td>\n",
       "      <td>-0.011324</td>\n",
       "      <td>0.019476</td>\n",
       "      <td>0.050130</td>\n",
       "    </tr>\n",
       "  </tbody>\n",
       "</table>\n",
       "<p>124 rows × 124 columns</p>\n",
       "</div>"
      ],
      "text/plain": [
       "name                           JOHNSON & JOHNSON  SYNTHETIC BIOLOGICS, INC.  \\\n",
       "name                                                                          \n",
       "JOHNSON & JOHNSON                       0.001999                   0.000114   \n",
       "SYNTHETIC BIOLOGICS, INC.               0.000114                   0.047660   \n",
       "FORTRESS BIOTECH, INC.                  0.002340                   0.014484   \n",
       "PARATEK PHARMACEUTICALS, INC.           0.001234                   0.013074   \n",
       "ARQULE INC                             -0.001739                   0.010385   \n",
       "...                                          ...                        ...   \n",
       "ZOSANO PHARMA CORP                      0.005264                   0.002134   \n",
       "ONCOMED PHARMACEUTICALS INC             0.001195                   0.017007   \n",
       "PTC THERAPEUTICS, INC.                 -0.002392                   0.005679   \n",
       "WAVE LIFE SCIENCES LTD.                -0.000148                  -0.001993   \n",
       "ONCOSEC MEDICAL INC                     0.001495                  -0.003392   \n",
       "\n",
       "name                           FORTRESS BIOTECH, INC.  \\\n",
       "name                                                    \n",
       "JOHNSON & JOHNSON                            0.002340   \n",
       "SYNTHETIC BIOLOGICS, INC.                    0.014484   \n",
       "FORTRESS BIOTECH, INC.                       0.034730   \n",
       "PARATEK PHARMACEUTICALS, INC.                0.015315   \n",
       "ARQULE INC                                   0.004847   \n",
       "...                                               ...   \n",
       "ZOSANO PHARMA CORP                           0.020079   \n",
       "ONCOMED PHARMACEUTICALS INC                  0.010251   \n",
       "PTC THERAPEUTICS, INC.                       0.007095   \n",
       "WAVE LIFE SCIENCES LTD.                      0.001004   \n",
       "ONCOSEC MEDICAL INC                         -0.005132   \n",
       "\n",
       "name                           PARATEK PHARMACEUTICALS, INC.  ARQULE INC  \\\n",
       "name                                                                       \n",
       "JOHNSON & JOHNSON                                   0.001234   -0.001739   \n",
       "SYNTHETIC BIOLOGICS, INC.                           0.013074    0.010385   \n",
       "FORTRESS BIOTECH, INC.                              0.015315    0.004847   \n",
       "PARATEK PHARMACEUTICALS, INC.                       0.026534    0.002726   \n",
       "ARQULE INC                                          0.002726    0.072106   \n",
       "...                                                      ...         ...   \n",
       "ZOSANO PHARMA CORP                                  0.005180    0.000944   \n",
       "ONCOMED PHARMACEUTICALS INC                         0.013125    0.024511   \n",
       "PTC THERAPEUTICS, INC.                              0.012638    0.017331   \n",
       "WAVE LIFE SCIENCES LTD.                            -0.002179    0.010765   \n",
       "ONCOSEC MEDICAL INC                                -0.007654    0.014953   \n",
       "\n",
       "name                           OPHTHOTECH CORP.  FIBROCELL SCIENCE, INC.  \\\n",
       "name                                                                       \n",
       "JOHNSON & JOHNSON                      0.000064                -0.000474   \n",
       "SYNTHETIC BIOLOGICS, INC.              0.006243                 0.008238   \n",
       "FORTRESS BIOTECH, INC.                 0.001813                 0.011941   \n",
       "PARATEK PHARMACEUTICALS, INC.          0.004201                 0.014456   \n",
       "ARQULE INC                             0.018259                 0.002874   \n",
       "...                                         ...                      ...   \n",
       "ZOSANO PHARMA CORP                    -0.001984                 0.018302   \n",
       "ONCOMED PHARMACEUTICALS INC            0.019946                 0.001846   \n",
       "PTC THERAPEUTICS, INC.                -0.001052                 0.024321   \n",
       "WAVE LIFE SCIENCES LTD.                0.017766                -0.012897   \n",
       "ONCOSEC MEDICAL INC                    0.017661                -0.001775   \n",
       "\n",
       "name                           ENANTA PHARMACEUTICALS INC  \\\n",
       "name                                                        \n",
       "JOHNSON & JOHNSON                               -0.001219   \n",
       "SYNTHETIC BIOLOGICS, INC.                        0.006687   \n",
       "FORTRESS BIOTECH, INC.                           0.007231   \n",
       "PARATEK PHARMACEUTICALS, INC.                    0.006998   \n",
       "ARQULE INC                                       0.006279   \n",
       "...                                                   ...   \n",
       "ZOSANO PHARMA CORP                              -0.004360   \n",
       "ONCOMED PHARMACEUTICALS INC                     -0.000963   \n",
       "PTC THERAPEUTICS, INC.                           0.023870   \n",
       "WAVE LIFE SCIENCES LTD.                          0.000024   \n",
       "ONCOSEC MEDICAL INC                             -0.005072   \n",
       "\n",
       "name                           PORTOLA PHARMACEUTICALS INC  \\\n",
       "name                                                         \n",
       "JOHNSON & JOHNSON                                 0.001758   \n",
       "SYNTHETIC BIOLOGICS, INC.                         0.013118   \n",
       "FORTRESS BIOTECH, INC.                            0.019865   \n",
       "PARATEK PHARMACEUTICALS, INC.                     0.011105   \n",
       "ARQULE INC                                        0.000991   \n",
       "...                                                    ...   \n",
       "ZOSANO PHARMA CORP                                0.025531   \n",
       "ONCOMED PHARMACEUTICALS INC                       0.007101   \n",
       "PTC THERAPEUTICS, INC.                            0.014432   \n",
       "WAVE LIFE SCIENCES LTD.                          -0.002345   \n",
       "ONCOSEC MEDICAL INC                              -0.001130   \n",
       "\n",
       "name                           ARATANA THERAPEUTICS, INC.  ...  \\\n",
       "name                                                       ...   \n",
       "JOHNSON & JOHNSON                                0.000081  ...   \n",
       "SYNTHETIC BIOLOGICS, INC.                       -0.000307  ...   \n",
       "FORTRESS BIOTECH, INC.                           0.000885  ...   \n",
       "PARATEK PHARMACEUTICALS, INC.                    0.000014  ...   \n",
       "ARQULE INC                                       0.007196  ...   \n",
       "...                                                   ...  ...   \n",
       "ZOSANO PHARMA CORP                               0.000189  ...   \n",
       "ONCOMED PHARMACEUTICALS INC                      0.001275  ...   \n",
       "PTC THERAPEUTICS, INC.                           0.008186  ...   \n",
       "WAVE LIFE SCIENCES LTD.                         -0.001452  ...   \n",
       "ONCOSEC MEDICAL INC                              0.001973  ...   \n",
       "\n",
       "name                           FLEXION THERAPEUTICS INC  \\\n",
       "name                                                      \n",
       "JOHNSON & JOHNSON                              0.000971   \n",
       "SYNTHETIC BIOLOGICS, INC.                      0.010925   \n",
       "FORTRESS BIOTECH, INC.                         0.019194   \n",
       "PARATEK PHARMACEUTICALS, INC.                  0.010004   \n",
       "ARQULE INC                                     0.005015   \n",
       "...                                                 ...   \n",
       "ZOSANO PHARMA CORP                             0.006360   \n",
       "ONCOMED PHARMACEUTICALS INC                    0.014779   \n",
       "PTC THERAPEUTICS, INC.                        -0.002383   \n",
       "WAVE LIFE SCIENCES LTD.                        0.008684   \n",
       "ONCOSEC MEDICAL INC                            0.002549   \n",
       "\n",
       "name                           PRESTIGE BRANDS HOLDINGS, INC.  \\\n",
       "name                                                            \n",
       "JOHNSON & JOHNSON                                    0.001312   \n",
       "SYNTHETIC BIOLOGICS, INC.                            0.001726   \n",
       "FORTRESS BIOTECH, INC.                               0.004825   \n",
       "PARATEK PHARMACEUTICALS, INC.                        0.005227   \n",
       "ARQULE INC                                           0.008378   \n",
       "...                                                       ...   \n",
       "ZOSANO PHARMA CORP                                   0.011443   \n",
       "ONCOMED PHARMACEUTICALS INC                          0.002398   \n",
       "PTC THERAPEUTICS, INC.                               0.004181   \n",
       "WAVE LIFE SCIENCES LTD.                             -0.002675   \n",
       "ONCOSEC MEDICAL INC                                 -0.000115   \n",
       "\n",
       "name                           GALECTIN THERAPEUTICS INC  \\\n",
       "name                                                       \n",
       "JOHNSON & JOHNSON                               0.002841   \n",
       "SYNTHETIC BIOLOGICS, INC.                       0.006691   \n",
       "FORTRESS BIOTECH, INC.                          0.021772   \n",
       "PARATEK PHARMACEUTICALS, INC.                   0.012742   \n",
       "ARQULE INC                                      0.019332   \n",
       "...                                                  ...   \n",
       "ZOSANO PHARMA CORP                              0.045296   \n",
       "ONCOMED PHARMACEUTICALS INC                     0.002101   \n",
       "PTC THERAPEUTICS, INC.                          0.011845   \n",
       "WAVE LIFE SCIENCES LTD.                        -0.008727   \n",
       "ONCOSEC MEDICAL INC                             0.006347   \n",
       "\n",
       "name                           CATABASIS PHARMACEUTICALS INC  TELIGENT, INC.  \\\n",
       "name                                                                           \n",
       "JOHNSON & JOHNSON                                  -0.003584        0.002300   \n",
       "SYNTHETIC BIOLOGICS, INC.                           0.017695        0.002601   \n",
       "FORTRESS BIOTECH, INC.                              0.007904        0.001940   \n",
       "PARATEK PHARMACEUTICALS, INC.                       0.014110        0.008246   \n",
       "ARQULE INC                                          0.013532        0.008357   \n",
       "...                                                      ...             ...   \n",
       "ZOSANO PHARMA CORP                                 -0.022670        0.013413   \n",
       "ONCOMED PHARMACEUTICALS INC                         0.009534        0.005586   \n",
       "PTC THERAPEUTICS, INC.                              0.021288        0.008459   \n",
       "WAVE LIFE SCIENCES LTD.                             0.003615       -0.006795   \n",
       "ONCOSEC MEDICAL INC                                -0.005080       -0.002892   \n",
       "\n",
       "name                           ZOSANO PHARMA CORP  \\\n",
       "name                                                \n",
       "JOHNSON & JOHNSON                        0.005264   \n",
       "SYNTHETIC BIOLOGICS, INC.                0.002134   \n",
       "FORTRESS BIOTECH, INC.                   0.020079   \n",
       "PARATEK PHARMACEUTICALS, INC.            0.005180   \n",
       "ARQULE INC                               0.000944   \n",
       "...                                           ...   \n",
       "ZOSANO PHARMA CORP                       0.106290   \n",
       "ONCOMED PHARMACEUTICALS INC              0.020324   \n",
       "PTC THERAPEUTICS, INC.                   0.011539   \n",
       "WAVE LIFE SCIENCES LTD.                 -0.002791   \n",
       "ONCOSEC MEDICAL INC                      0.007832   \n",
       "\n",
       "name                           ONCOMED PHARMACEUTICALS INC  \\\n",
       "name                                                         \n",
       "JOHNSON & JOHNSON                                 0.001195   \n",
       "SYNTHETIC BIOLOGICS, INC.                         0.017007   \n",
       "FORTRESS BIOTECH, INC.                            0.010251   \n",
       "PARATEK PHARMACEUTICALS, INC.                     0.013125   \n",
       "ARQULE INC                                        0.024511   \n",
       "...                                                    ...   \n",
       "ZOSANO PHARMA CORP                                0.020324   \n",
       "ONCOMED PHARMACEUTICALS INC                       0.048878   \n",
       "PTC THERAPEUTICS, INC.                            0.001692   \n",
       "WAVE LIFE SCIENCES LTD.                           0.015326   \n",
       "ONCOSEC MEDICAL INC                               0.017584   \n",
       "\n",
       "name                           PTC THERAPEUTICS, INC.  \\\n",
       "name                                                    \n",
       "JOHNSON & JOHNSON                           -0.002392   \n",
       "SYNTHETIC BIOLOGICS, INC.                    0.005679   \n",
       "FORTRESS BIOTECH, INC.                       0.007095   \n",
       "PARATEK PHARMACEUTICALS, INC.                0.012638   \n",
       "ARQULE INC                                   0.017331   \n",
       "...                                               ...   \n",
       "ZOSANO PHARMA CORP                           0.011539   \n",
       "ONCOMED PHARMACEUTICALS INC                  0.001692   \n",
       "PTC THERAPEUTICS, INC.                       0.077202   \n",
       "WAVE LIFE SCIENCES LTD.                      0.009859   \n",
       "ONCOSEC MEDICAL INC                         -0.011324   \n",
       "\n",
       "name                           WAVE LIFE SCIENCES LTD.  ONCOSEC MEDICAL INC  \n",
       "name                                                                         \n",
       "JOHNSON & JOHNSON                            -0.000148             0.001495  \n",
       "SYNTHETIC BIOLOGICS, INC.                    -0.001993            -0.003392  \n",
       "FORTRESS BIOTECH, INC.                        0.001004            -0.005132  \n",
       "PARATEK PHARMACEUTICALS, INC.                -0.002179            -0.007654  \n",
       "ARQULE INC                                    0.010765             0.014953  \n",
       "...                                                ...                  ...  \n",
       "ZOSANO PHARMA CORP                           -0.002791             0.007832  \n",
       "ONCOMED PHARMACEUTICALS INC                   0.015326             0.017584  \n",
       "PTC THERAPEUTICS, INC.                        0.009859            -0.011324  \n",
       "WAVE LIFE SCIENCES LTD.                       0.037018             0.019476  \n",
       "ONCOSEC MEDICAL INC                           0.019476             0.050130  \n",
       "\n",
       "[124 rows x 124 columns]"
      ]
     },
     "execution_count": 11,
     "metadata": {},
     "output_type": "execute_result"
    }
   ],
   "source": [
    "tmp = cov[LIST].T\n",
    "cov_Pharm = tmp[LIST]\n",
    "cov_Pharm"
   ]
  },
  {
   "cell_type": "markdown",
   "id": "fc1b6a4c",
   "metadata": {},
   "source": [
    "#### Efficient Frontier - Pharmaceutical Preparations"
   ]
  },
  {
   "cell_type": "code",
   "execution_count": 12,
   "id": "7429ef48",
   "metadata": {
    "tags": [
     "hide-input",
     "remove-output"
    ]
   },
   "outputs": [
    {
     "data": {
      "image/png": "[encoded data removed]",
      "text/plain": [
       "<Figure size 432x288 with 1 Axes>"
      ]
     },
     "metadata": {
      "needs_background": "light"
     },
     "output_type": "display_data"
    }
   ],
   "source": [
    "ef1 = EfficientFrontier(mu_Pharm, cov_Pharm, weight_bounds=(0, 0.2))\n",
    "\n",
    "fig, ax = plt.subplots()\n",
    "plotting.plot_efficient_frontier(ef1, ax=ax, show_assets=True)\n",
    "\n",
    "# Find and plot the tangency portfolio\n",
    "ef2 = EfficientFrontier(mu_Pharm, cov_Pharm, weight_bounds=(0, 0.2))\n",
    "# min volatility\n",
    "ef2.min_volatility()\n",
    "ret_tangent, std_tangent, _ = ef2.portfolio_performance()\n",
    "ax.scatter(std_tangent, ret_tangent, marker=\"*\", s=100, c=\"r\", label=\"Min Volatility\")\n",
    "\n",
    "# Format\n",
    "ax.set_title(\"Efficient Frontier - Pharmaceutical Preparations \\n Sample Covariance Estimates\")\n",
    "ax.legend()\n",
    "plt.tight_layout()\n",
    "plt.savefig('images/Efficient_Frontier_Sample_Pharmaceutical_Preparations.png', dpi=200, bbox_inches='tight')\n",
    "plt.show()"
   ]
  },
  {
   "cell_type": "markdown",
   "id": "6bdcd64a",
   "metadata": {},
   "source": [
    "![Efficient_Frontier_Sample_Pharmaceutical_Preparations.png](images/Efficient_Frontier_Sample_Pharmaceutical_Preparations.png)"
   ]
  },
  {
   "cell_type": "markdown",
   "id": "342e7542",
   "metadata": {},
   "source": [
    "##### Min Volatility Portfolio"
   ]
  },
  {
   "cell_type": "markdown",
   "id": "01cb24cd",
   "metadata": {},
   "source": [
    "###### Performance"
   ]
  },
  {
   "cell_type": "code",
   "execution_count": 13,
   "id": "b34e4df3",
   "metadata": {
    "tags": [
     "hide-input"
    ]
   },
   "outputs": [
    {
     "name": "stdout",
     "output_type": "stream",
     "text": [
      "Expected annual return: 1.2%\n",
      "Annual volatility: 2.1%\n",
      "Sharpe Ratio: -0.35\n"
     ]
    }
   ],
   "source": [
    "ef2.portfolio_performance(verbose=True);"
   ]
  },
  {
   "cell_type": "markdown",
   "id": "4b77c2f6",
   "metadata": {},
   "source": [
    "###### Weights"
   ]
  },
  {
   "cell_type": "code",
   "execution_count": 14,
   "id": "ede83875",
   "metadata": {
    "tags": [
     "hide-input"
    ]
   },
   "outputs": [],
   "source": [
    "companies = []\n",
    "weights = []\n",
    "for company, weight in ef2.clean_weights().items():\n",
    "    if weight != 0:\n",
    "        companies.append(company)\n",
    "        weights.append(weight)\n",
    "        \n",
    "dic = {'Company_Name':companies,'Weight':weights}\n",
    "min_vol = pd.DataFrame(dic)\n",
    "min_vol.to_csv(\"data/min_vol_sample_Pharmaceutical_Preparations.csv\", index = False)"
   ]
  },
  {
   "cell_type": "code",
   "execution_count": 15,
   "id": "8c912f1e",
   "metadata": {
    "tags": [
     "hide-input"
    ]
   },
   "outputs": [
    {
     "data": {
      "text/html": [
       "<div>\n",
       "<style scoped>\n",
       "    .dataframe tbody tr th:only-of-type {\n",
       "        vertical-align: middle;\n",
       "    }\n",
       "\n",
       "    .dataframe tbody tr th {\n",
       "        vertical-align: top;\n",
       "    }\n",
       "\n",
       "    .dataframe thead th {\n",
       "        text-align: right;\n",
       "    }\n",
       "</style>\n",
       "<table border=\"1\" class=\"dataframe\">\n",
       "  <thead>\n",
       "    <tr style=\"text-align: right;\">\n",
       "      <th></th>\n",
       "      <th>Company_Name</th>\n",
       "      <th>Weight</th>\n",
       "    </tr>\n",
       "  </thead>\n",
       "  <tbody>\n",
       "    <tr>\n",
       "      <th>0</th>\n",
       "      <td>JOHNSON &amp; JOHNSON</td>\n",
       "      <td>0.17878</td>\n",
       "    </tr>\n",
       "    <tr>\n",
       "      <th>1</th>\n",
       "      <td>ARATANA THERAPEUTICS, INC.</td>\n",
       "      <td>0.03678</td>\n",
       "    </tr>\n",
       "    <tr>\n",
       "      <th>2</th>\n",
       "      <td>PFENEX INC.</td>\n",
       "      <td>0.03777</td>\n",
       "    </tr>\n",
       "    <tr>\n",
       "      <th>3</th>\n",
       "      <td>MERCK &amp; CO., INC.</td>\n",
       "      <td>0.20000</td>\n",
       "    </tr>\n",
       "    <tr>\n",
       "      <th>4</th>\n",
       "      <td>ZOETIS INC.</td>\n",
       "      <td>0.01195</td>\n",
       "    </tr>\n",
       "    <tr>\n",
       "      <th>5</th>\n",
       "      <td>LIPOCINE INC.</td>\n",
       "      <td>0.00683</td>\n",
       "    </tr>\n",
       "    <tr>\n",
       "      <th>6</th>\n",
       "      <td>RECRO PHARMA, INC.</td>\n",
       "      <td>0.02010</td>\n",
       "    </tr>\n",
       "    <tr>\n",
       "      <th>7</th>\n",
       "      <td>VTV THERAPEUTICS INC.</td>\n",
       "      <td>0.02372</td>\n",
       "    </tr>\n",
       "    <tr>\n",
       "      <th>8</th>\n",
       "      <td>ACHAOGEN INC</td>\n",
       "      <td>0.00515</td>\n",
       "    </tr>\n",
       "    <tr>\n",
       "      <th>9</th>\n",
       "      <td>HEAT BIOLOGICS, INC.</td>\n",
       "      <td>0.00297</td>\n",
       "    </tr>\n",
       "    <tr>\n",
       "      <th>10</th>\n",
       "      <td>MANNKIND CORP</td>\n",
       "      <td>0.02048</td>\n",
       "    </tr>\n",
       "    <tr>\n",
       "      <th>11</th>\n",
       "      <td>XENON PHARMACEUTICALS INC.</td>\n",
       "      <td>0.01350</td>\n",
       "    </tr>\n",
       "    <tr>\n",
       "      <th>12</th>\n",
       "      <td>ASSEMBLY BIOSCIENCES, INC.</td>\n",
       "      <td>0.05775</td>\n",
       "    </tr>\n",
       "    <tr>\n",
       "      <th>13</th>\n",
       "      <td>STEMLINE THERAPEUTICS INC</td>\n",
       "      <td>0.04273</td>\n",
       "    </tr>\n",
       "    <tr>\n",
       "      <th>14</th>\n",
       "      <td>BRISTOL MYERS SQUIBB CO</td>\n",
       "      <td>0.12824</td>\n",
       "    </tr>\n",
       "    <tr>\n",
       "      <th>15</th>\n",
       "      <td>ORAMED PHARMACEUTICALS INC.</td>\n",
       "      <td>0.04982</td>\n",
       "    </tr>\n",
       "    <tr>\n",
       "      <th>16</th>\n",
       "      <td>CHEMBIO DIAGNOSTICS, INC.</td>\n",
       "      <td>0.02843</td>\n",
       "    </tr>\n",
       "    <tr>\n",
       "      <th>17</th>\n",
       "      <td>BIODELIVERY SCIENCES INTERNATIONAL INC</td>\n",
       "      <td>0.03680</td>\n",
       "    </tr>\n",
       "    <tr>\n",
       "      <th>18</th>\n",
       "      <td>CYTOMX THERAPEUTICS, INC.</td>\n",
       "      <td>0.00520</td>\n",
       "    </tr>\n",
       "    <tr>\n",
       "      <th>19</th>\n",
       "      <td>IMPRIMIS PHARMACEUTICALS, INC.</td>\n",
       "      <td>0.04181</td>\n",
       "    </tr>\n",
       "    <tr>\n",
       "      <th>20</th>\n",
       "      <td>PROPHASE LABS, INC.</td>\n",
       "      <td>0.05120</td>\n",
       "    </tr>\n",
       "  </tbody>\n",
       "</table>\n",
       "</div>"
      ],
      "text/plain": [
       "                              Company_Name   Weight\n",
       "0                        JOHNSON & JOHNSON  0.17878\n",
       "1               ARATANA THERAPEUTICS, INC.  0.03678\n",
       "2                              PFENEX INC.  0.03777\n",
       "3                        MERCK & CO., INC.  0.20000\n",
       "4                              ZOETIS INC.  0.01195\n",
       "5                            LIPOCINE INC.  0.00683\n",
       "6                       RECRO PHARMA, INC.  0.02010\n",
       "7                    VTV THERAPEUTICS INC.  0.02372\n",
       "8                             ACHAOGEN INC  0.00515\n",
       "9                     HEAT BIOLOGICS, INC.  0.00297\n",
       "10                           MANNKIND CORP  0.02048\n",
       "11              XENON PHARMACEUTICALS INC.  0.01350\n",
       "12              ASSEMBLY BIOSCIENCES, INC.  0.05775\n",
       "13               STEMLINE THERAPEUTICS INC  0.04273\n",
       "14                 BRISTOL MYERS SQUIBB CO  0.12824\n",
       "15             ORAMED PHARMACEUTICALS INC.  0.04982\n",
       "16               CHEMBIO DIAGNOSTICS, INC.  0.02843\n",
       "17  BIODELIVERY SCIENCES INTERNATIONAL INC  0.03680\n",
       "18               CYTOMX THERAPEUTICS, INC.  0.00520\n",
       "19          IMPRIMIS PHARMACEUTICALS, INC.  0.04181\n",
       "20                     PROPHASE LABS, INC.  0.05120"
      ]
     },
     "execution_count": 15,
     "metadata": {},
     "output_type": "execute_result"
    }
   ],
   "source": [
    "pd.read_csv(\"data/min_vol_sample_Pharmaceutical_Preparations.csv\")"
   ]
  },
  {
   "cell_type": "markdown",
   "id": "d1959343",
   "metadata": {},
   "source": [
    "### Results for the Other 4 Industries"
   ]
  },
  {
   "cell_type": "code",
   "execution_count": 16,
   "id": "be7bbb78",
   "metadata": {
    "tags": [
     "remove-input"
    ]
   },
   "outputs": [],
   "source": [
    "SIC_list = [7372, 1311, 6798, 6022]\n",
    "SIC_desc = ['Prepackaged Software (mass reproduction of software)', 'Crude Petroleum and Natural Gas', \n",
    "           'Real Estate Investment Trusts', 'State Commercial Banks (commercial banking)']"
   ]
  },
  {
   "cell_type": "markdown",
   "id": "1dc7e46a",
   "metadata": {},
   "source": [
    "#### Prepackaged Software (mass reproduction of software)"
   ]
  },
  {
   "cell_type": "code",
   "execution_count": 17,
   "id": "f9066d2b",
   "metadata": {
    "scrolled": true,
    "tags": [
     "remove-input",
     "remove-output"
    ]
   },
   "outputs": [
    {
     "data": {
      "image/png": "[encoded data removed]",
      "text/plain": [
       "<Figure size 432x288 with 1 Axes>"
      ]
     },
     "metadata": {
      "needs_background": "light"
     },
     "output_type": "display_data"
    }
   ],
   "source": [
    "SIC = SIC_list[0]\n",
    "    \n",
    "industry_name = SIC_desc[SIC_list.index(SIC)]\n",
    "    \n",
    "# get the names of the companies in the other industries\n",
    "Companies = df[df.SIC == SIC]\n",
    "Company_list = Companies.index\n",
    "\n",
    "# get the companies name that match return data and business description data\n",
    "SET = (set(Company_list) & set(r_selected.index))\n",
    "LIST = [*SET, ]\n",
    "\n",
    "mu_sample = mu[LIST]\n",
    "# get the outliers\n",
    "outlier = mu_sample[mu_sample>1].index\n",
    "mu_sample = mu_sample.drop(outlier)\n",
    "LIST = mu_sample.index\n",
    "\n",
    "tmp = cov[LIST].T\n",
    "cov_sample = tmp[LIST]\n",
    "\n",
    "# perform minimum variance analysis\n",
    "ef1 = EfficientFrontier(mu_sample, cov_sample, weight_bounds=(0, 0.2))\n",
    "\n",
    "fig, ax = plt.subplots()\n",
    "plotting.plot_efficient_frontier(ef1, ax=ax, show_assets=True)\n",
    "\n",
    "# Find and plot the tangency portfolio\n",
    "ef2 = EfficientFrontier(mu_sample, cov_sample, weight_bounds=(0, 0.2))\n",
    "# min volatility\n",
    "ef2.min_volatility()\n",
    "ret_tangent, std_tangent, _ = ef2.portfolio_performance()\n",
    "ax.scatter(std_tangent, ret_tangent, marker=\"*\", s=100, c=\"r\", label=\"Min Volatility\")\n",
    "\n",
    "# Format\n",
    "ax.set_title(\"Efficient Frontier - %s \\n Sample Covariance Estimates\" %industry_name)\n",
    "ax.legend()\n",
    "plt.tight_layout()\n",
    "plt.savefig('images/Efficient_Frontier_Sample_Covariance_Estimates_Prepackaged_Software.png', dpi=200, bbox_inches='tight')\n",
    "plt.show()"
   ]
  },
  {
   "cell_type": "markdown",
   "id": "c8be9b2e",
   "metadata": {},
   "source": [
    "![Efficient_Frontier_Sample_Covariance_Estimates_Prepackaged_Software.png](images/Efficient_Frontier_Sample_Covariance_Estimates_Prepackaged_Software.png)"
   ]
  },
  {
   "cell_type": "markdown",
   "id": "32f1139f",
   "metadata": {},
   "source": [
    "##### Min Volatility Portfolio"
   ]
  },
  {
   "cell_type": "markdown",
   "id": "16830a0f",
   "metadata": {},
   "source": [
    "###### Performance"
   ]
  },
  {
   "cell_type": "code",
   "execution_count": 18,
   "id": "5d45e1d6",
   "metadata": {
    "tags": [
     "remove-input"
    ]
   },
   "outputs": [
    {
     "name": "stdout",
     "output_type": "stream",
     "text": [
      "Expected annual return: 0.6%\n",
      "Annual volatility: 2.4%\n",
      "Sharpe Ratio: -0.57\n"
     ]
    }
   ],
   "source": [
    "ef2.portfolio_performance(verbose=True);"
   ]
  },
  {
   "cell_type": "markdown",
   "id": "38ee9c2a",
   "metadata": {},
   "source": [
    "###### Weights"
   ]
  },
  {
   "cell_type": "code",
   "execution_count": 19,
   "id": "6985f09c",
   "metadata": {
    "tags": [
     "remove-input"
    ]
   },
   "outputs": [],
   "source": [
    "companies = []\n",
    "weights = []\n",
    "for company, weight in ef2.clean_weights().items():\n",
    "    if weight != 0:\n",
    "        companies.append(company)\n",
    "        weights.append(weight)\n",
    "        \n",
    "dic = {'Company_Name':companies,'Weight':weights}\n",
    "min_vol = pd.DataFrame(dic)\n",
    "min_vol.to_csv(\"data/min_vol_sample_Prepackaged_Software.csv\", index = False)"
   ]
  },
  {
   "cell_type": "code",
   "execution_count": 20,
   "id": "d3cf439d",
   "metadata": {
    "tags": [
     "remove-input"
    ]
   },
   "outputs": [
    {
     "data": {
      "text/html": [
       "<div>\n",
       "<style scoped>\n",
       "    .dataframe tbody tr th:only-of-type {\n",
       "        vertical-align: middle;\n",
       "    }\n",
       "\n",
       "    .dataframe tbody tr th {\n",
       "        vertical-align: top;\n",
       "    }\n",
       "\n",
       "    .dataframe thead th {\n",
       "        text-align: right;\n",
       "    }\n",
       "</style>\n",
       "<table border=\"1\" class=\"dataframe\">\n",
       "  <thead>\n",
       "    <tr style=\"text-align: right;\">\n",
       "      <th></th>\n",
       "      <th>Company_Name</th>\n",
       "      <th>Weight</th>\n",
       "    </tr>\n",
       "  </thead>\n",
       "  <tbody>\n",
       "    <tr>\n",
       "      <th>0</th>\n",
       "      <td>AWARE INC /MA/</td>\n",
       "      <td>0.20000</td>\n",
       "    </tr>\n",
       "    <tr>\n",
       "      <th>1</th>\n",
       "      <td>AVID TECHNOLOGY, INC.</td>\n",
       "      <td>0.00129</td>\n",
       "    </tr>\n",
       "    <tr>\n",
       "      <th>2</th>\n",
       "      <td>ENDURANCE INTERNATIONAL GROUP HOLDINGS, INC.</td>\n",
       "      <td>0.02554</td>\n",
       "    </tr>\n",
       "    <tr>\n",
       "      <th>3</th>\n",
       "      <td>ROSETTA STONE INC</td>\n",
       "      <td>0.01647</td>\n",
       "    </tr>\n",
       "    <tr>\n",
       "      <th>4</th>\n",
       "      <td>COMMVAULT SYSTEMS INC</td>\n",
       "      <td>0.07381</td>\n",
       "    </tr>\n",
       "    <tr>\n",
       "      <th>5</th>\n",
       "      <td>ORACLE CORP</td>\n",
       "      <td>0.09170</td>\n",
       "    </tr>\n",
       "    <tr>\n",
       "      <th>6</th>\n",
       "      <td>MAJESCO</td>\n",
       "      <td>0.01906</td>\n",
       "    </tr>\n",
       "    <tr>\n",
       "      <th>7</th>\n",
       "      <td>QUALYS, INC.</td>\n",
       "      <td>0.06668</td>\n",
       "    </tr>\n",
       "    <tr>\n",
       "      <th>8</th>\n",
       "      <td>BLACK KNIGHT, INC.</td>\n",
       "      <td>0.20000</td>\n",
       "    </tr>\n",
       "    <tr>\n",
       "      <th>9</th>\n",
       "      <td>QUMU CORP</td>\n",
       "      <td>0.05153</td>\n",
       "    </tr>\n",
       "    <tr>\n",
       "      <th>10</th>\n",
       "      <td>NUANCE COMMUNICATIONS, INC.</td>\n",
       "      <td>0.08608</td>\n",
       "    </tr>\n",
       "    <tr>\n",
       "      <th>11</th>\n",
       "      <td>MICROSTRATEGY INC</td>\n",
       "      <td>0.02160</td>\n",
       "    </tr>\n",
       "    <tr>\n",
       "      <th>12</th>\n",
       "      <td>LIVEPERSON INC</td>\n",
       "      <td>0.01519</td>\n",
       "    </tr>\n",
       "    <tr>\n",
       "      <th>13</th>\n",
       "      <td>ZEDGE, INC.</td>\n",
       "      <td>0.01792</td>\n",
       "    </tr>\n",
       "    <tr>\n",
       "      <th>14</th>\n",
       "      <td>ACI WORLDWIDE, INC.</td>\n",
       "      <td>0.11314</td>\n",
       "    </tr>\n",
       "  </tbody>\n",
       "</table>\n",
       "</div>"
      ],
      "text/plain": [
       "                                    Company_Name   Weight\n",
       "0                                 AWARE INC /MA/  0.20000\n",
       "1                          AVID TECHNOLOGY, INC.  0.00129\n",
       "2   ENDURANCE INTERNATIONAL GROUP HOLDINGS, INC.  0.02554\n",
       "3                              ROSETTA STONE INC  0.01647\n",
       "4                          COMMVAULT SYSTEMS INC  0.07381\n",
       "5                                    ORACLE CORP  0.09170\n",
       "6                                        MAJESCO  0.01906\n",
       "7                                   QUALYS, INC.  0.06668\n",
       "8                             BLACK KNIGHT, INC.  0.20000\n",
       "9                                      QUMU CORP  0.05153\n",
       "10                   NUANCE COMMUNICATIONS, INC.  0.08608\n",
       "11                             MICROSTRATEGY INC  0.02160\n",
       "12                                LIVEPERSON INC  0.01519\n",
       "13                                   ZEDGE, INC.  0.01792\n",
       "14                           ACI WORLDWIDE, INC.  0.11314"
      ]
     },
     "execution_count": 20,
     "metadata": {},
     "output_type": "execute_result"
    }
   ],
   "source": [
    "pd.read_csv(\"data/min_vol_sample_Prepackaged_Software.csv\")"
   ]
  },
  {
   "cell_type": "markdown",
   "id": "70faca0a",
   "metadata": {},
   "source": [
    "#### Crude Petroleum and Natural Gas\n",
    "When we conduct the same analysis, there is no weight shown. Efficient frontier cannot be found."
   ]
  },
  {
   "cell_type": "markdown",
   "id": "b647a7f7",
   "metadata": {},
   "source": [
    "#### Real Estate Investment Trusts"
   ]
  },
  {
   "cell_type": "code",
   "execution_count": 21,
   "id": "2548ca70",
   "metadata": {
    "tags": [
     "remove-input",
     "remove-output"
    ]
   },
   "outputs": [],
   "source": [
    "SIC = SIC_list[2]\n",
    "    \n",
    "industry_name = SIC_desc[SIC_list.index(SIC)]\n",
    "    \n",
    "# get the names of the companies in the other industries\n",
    "Companies = df[df.SIC == SIC]\n",
    "Company_list = Companies.index\n",
    "\n",
    "# get the companies name that match return data and business description data\n",
    "SET = (set(Company_list) & set(r_selected.index))\n",
    "LIST = [*SET, ]\n",
    "\n",
    "mu_sample = mu[LIST]\n",
    "# get the outliers\n",
    "outlier = mu_sample[mu_sample>1].index\n",
    "mu_sample = mu_sample.drop(outlier)\n",
    "LIST = mu_sample.index\n",
    "\n",
    "tmp = cov[LIST].T\n",
    "cov_sample = tmp[LIST]"
   ]
  },
  {
   "cell_type": "code",
   "execution_count": 22,
   "id": "b509bd99",
   "metadata": {
    "tags": [
     "remove-input",
     "remove-output"
    ]
   },
   "outputs": [
    {
     "data": {
      "image/png": "[encoded data removed]",
      "text/plain": [
       "<Figure size 432x288 with 1 Axes>"
      ]
     },
     "metadata": {
      "needs_background": "light"
     },
     "output_type": "display_data"
    }
   ],
   "source": [
    "# perform minimum variance analysis\n",
    "ef1 = EfficientFrontier(mu_sample, cov_sample, weight_bounds=(0, 0.2))\n",
    "\n",
    "fig, ax = plt.subplots()\n",
    "plotting.plot_efficient_frontier(ef1, ax=ax, show_assets=True)\n",
    "\n",
    "# Find and plot the tangency portfolio\n",
    "ef2 = EfficientFrontier(mu_sample, cov_sample, weight_bounds=(0, 0.2))\n",
    "# min volatility\n",
    "ef2.min_volatility()\n",
    "ret_tangent, std_tangent, _ = ef2.portfolio_performance()\n",
    "ax.scatter(std_tangent, ret_tangent, marker=\"*\", s=100, c=\"r\", label=\"Min Volatility\")\n",
    "\n",
    "# Format\n",
    "ax.set_title(\"Efficient Frontier - %s \\n Sample Covariance Estimates\" %industry_name)\n",
    "ax.legend()\n",
    "plt.tight_layout()\n",
    "plt.savefig('images/Efficient_Frontier_Sample_Covariance_Estimates_Real_Estate_Investment_Trusts.png', dpi=200, bbox_inches='tight')\n",
    "plt.show()"
   ]
  },
  {
   "cell_type": "markdown",
   "id": "bd9017f6",
   "metadata": {},
   "source": [
    "![Efficient_Frontier_Sample_Covariance_Estimates_Real_Estate_Investment_Trusts.png](images/Efficient_Frontier_Sample_Covariance_Estimates_Real_Estate_Investment_Trusts.png)"
   ]
  },
  {
   "cell_type": "markdown",
   "id": "460672e3",
   "metadata": {},
   "source": [
    "##### Min Volatility Portfolio"
   ]
  },
  {
   "cell_type": "markdown",
   "id": "4f94fd2b",
   "metadata": {},
   "source": [
    "###### Performance"
   ]
  },
  {
   "cell_type": "code",
   "execution_count": 23,
   "id": "85ee33ba",
   "metadata": {
    "tags": [
     "remove-input"
    ]
   },
   "outputs": [
    {
     "name": "stdout",
     "output_type": "stream",
     "text": [
      "Expected annual return: 0.5%\n",
      "Annual volatility: 1.8%\n",
      "Sharpe Ratio: -0.80\n"
     ]
    }
   ],
   "source": [
    "ef2.portfolio_performance(verbose=True);"
   ]
  },
  {
   "cell_type": "markdown",
   "id": "b41571c6",
   "metadata": {},
   "source": [
    "###### Weights"
   ]
  },
  {
   "cell_type": "code",
   "execution_count": 24,
   "id": "f1e07692",
   "metadata": {
    "tags": [
     "remove-input"
    ]
   },
   "outputs": [],
   "source": [
    "companies = []\n",
    "weights = []\n",
    "for company, weight in ef2.clean_weights().items():\n",
    "    if weight != 0:\n",
    "        companies.append(company)\n",
    "        weights.append(weight)\n",
    "        \n",
    "dic = {'Company_Name':companies,'Weight':weights}\n",
    "min_vol = pd.DataFrame(dic)\n",
    "min_vol.to_csv(\"data/min_vol_sample_Real_Estate_Investment_Trusts.csv\", index = False)"
   ]
  },
  {
   "cell_type": "code",
   "execution_count": 25,
   "id": "9717278d",
   "metadata": {
    "tags": [
     "remove-input"
    ]
   },
   "outputs": [
    {
     "data": {
      "text/html": [
       "<div>\n",
       "<style scoped>\n",
       "    .dataframe tbody tr th:only-of-type {\n",
       "        vertical-align: middle;\n",
       "    }\n",
       "\n",
       "    .dataframe tbody tr th {\n",
       "        vertical-align: top;\n",
       "    }\n",
       "\n",
       "    .dataframe thead th {\n",
       "        text-align: right;\n",
       "    }\n",
       "</style>\n",
       "<table border=\"1\" class=\"dataframe\">\n",
       "  <thead>\n",
       "    <tr style=\"text-align: right;\">\n",
       "      <th></th>\n",
       "      <th>Company_Name</th>\n",
       "      <th>Weight</th>\n",
       "    </tr>\n",
       "  </thead>\n",
       "  <tbody>\n",
       "    <tr>\n",
       "      <th>0</th>\n",
       "      <td>PUBLIC STORAGE</td>\n",
       "      <td>0.10938</td>\n",
       "    </tr>\n",
       "    <tr>\n",
       "      <th>1</th>\n",
       "      <td>NEW YORK MORTGAGE TRUST INC</td>\n",
       "      <td>0.02084</td>\n",
       "    </tr>\n",
       "    <tr>\n",
       "      <th>2</th>\n",
       "      <td>MANHATTAN BRIDGE CAPITAL, INC</td>\n",
       "      <td>0.01483</td>\n",
       "    </tr>\n",
       "    <tr>\n",
       "      <th>3</th>\n",
       "      <td>EQUITY COMMONWEALTH</td>\n",
       "      <td>0.20000</td>\n",
       "    </tr>\n",
       "    <tr>\n",
       "      <th>4</th>\n",
       "      <td>BRT APARTMENTS CORP.</td>\n",
       "      <td>0.01724</td>\n",
       "    </tr>\n",
       "    <tr>\n",
       "      <th>5</th>\n",
       "      <td>ALEXANDERS INC</td>\n",
       "      <td>0.02285</td>\n",
       "    </tr>\n",
       "    <tr>\n",
       "      <th>6</th>\n",
       "      <td>CROWN CASTLE INTERNATIONAL CORP</td>\n",
       "      <td>0.04875</td>\n",
       "    </tr>\n",
       "    <tr>\n",
       "      <th>7</th>\n",
       "      <td>IMPAC MORTGAGE HOLDINGS INC</td>\n",
       "      <td>0.05108</td>\n",
       "    </tr>\n",
       "    <tr>\n",
       "      <th>8</th>\n",
       "      <td>CIM COMMERCIAL TRUST CORP</td>\n",
       "      <td>0.05461</td>\n",
       "    </tr>\n",
       "    <tr>\n",
       "      <th>9</th>\n",
       "      <td>GREAT AJAX CORP.</td>\n",
       "      <td>0.20000</td>\n",
       "    </tr>\n",
       "    <tr>\n",
       "      <th>10</th>\n",
       "      <td>ARES COMMERCIAL REAL ESTATE CORP</td>\n",
       "      <td>0.09107</td>\n",
       "    </tr>\n",
       "    <tr>\n",
       "      <th>11</th>\n",
       "      <td>HMG COURTLAND PROPERTIES INC</td>\n",
       "      <td>0.12513</td>\n",
       "    </tr>\n",
       "    <tr>\n",
       "      <th>12</th>\n",
       "      <td>LADDER CAPITAL CORP</td>\n",
       "      <td>0.04420</td>\n",
       "    </tr>\n",
       "  </tbody>\n",
       "</table>\n",
       "</div>"
      ],
      "text/plain": [
       "                        Company_Name   Weight\n",
       "0                     PUBLIC STORAGE  0.10938\n",
       "1        NEW YORK MORTGAGE TRUST INC  0.02084\n",
       "2      MANHATTAN BRIDGE CAPITAL, INC  0.01483\n",
       "3                EQUITY COMMONWEALTH  0.20000\n",
       "4               BRT APARTMENTS CORP.  0.01724\n",
       "5                     ALEXANDERS INC  0.02285\n",
       "6    CROWN CASTLE INTERNATIONAL CORP  0.04875\n",
       "7        IMPAC MORTGAGE HOLDINGS INC  0.05108\n",
       "8          CIM COMMERCIAL TRUST CORP  0.05461\n",
       "9                   GREAT AJAX CORP.  0.20000\n",
       "10  ARES COMMERCIAL REAL ESTATE CORP  0.09107\n",
       "11      HMG COURTLAND PROPERTIES INC  0.12513\n",
       "12               LADDER CAPITAL CORP  0.04420"
      ]
     },
     "execution_count": 25,
     "metadata": {},
     "output_type": "execute_result"
    }
   ],
   "source": [
    "pd.read_csv(\"data/min_vol_sample_Real_Estate_Investment_Trusts.csv\")"
   ]
  },
  {
   "cell_type": "markdown",
   "id": "2969d194",
   "metadata": {},
   "source": [
    "#### State Commercial Banks (commercial banking)"
   ]
  },
  {
   "cell_type": "code",
   "execution_count": 26,
   "id": "d5f19af6",
   "metadata": {
    "tags": [
     "remove-input",
     "remove-output"
    ]
   },
   "outputs": [
    {
     "data": {
      "image/png": "[encoded data removed]",
      "text/plain": [
       "<Figure size 432x288 with 1 Axes>"
      ]
     },
     "metadata": {
      "needs_background": "light"
     },
     "output_type": "display_data"
    }
   ],
   "source": [
    "SIC = SIC_list[3]\n",
    "    \n",
    "industry_name = SIC_desc[SIC_list.index(SIC)]\n",
    "    \n",
    "# get the names of the companies in the other industries\n",
    "Companies = df[df.SIC == SIC]\n",
    "Company_list = Companies.index\n",
    "\n",
    "# get the companies name that match return data and business description data\n",
    "SET = (set(Company_list) & set(r_selected.index))\n",
    "LIST = [*SET, ]\n",
    "\n",
    "mu_sample = mu[LIST]\n",
    "# get the outliers\n",
    "outlier = mu_sample[mu_sample>1].index\n",
    "mu_sample = mu_sample.drop(outlier)\n",
    "LIST = mu_sample.index\n",
    "\n",
    "tmp = cov[LIST].T\n",
    "cov_sample = tmp[LIST]\n",
    "\n",
    "# perform minimum variance analysis\n",
    "ef1 = EfficientFrontier(mu_sample, cov_sample, weight_bounds=(0, 0.2))\n",
    "\n",
    "fig, ax = plt.subplots()\n",
    "plotting.plot_efficient_frontier(ef1, ax=ax, show_assets=True)\n",
    "\n",
    "# Find and plot the tangency portfolio\n",
    "ef2 = EfficientFrontier(mu_sample, cov_sample, weight_bounds=(0, 0.2))\n",
    "# min volatility\n",
    "ef2.min_volatility()\n",
    "ret_tangent, std_tangent, _ = ef2.portfolio_performance()\n",
    "ax.scatter(std_tangent, ret_tangent, marker=\"*\", s=100, c=\"r\", label=\"Min Volatility\")\n",
    "\n",
    "# Format\n",
    "ax.set_title(\"Efficient Frontier - %s \\n Sample Covariance Estimates\" %industry_name)\n",
    "ax.legend()\n",
    "plt.tight_layout()\n",
    "plt.savefig('images/Efficient_Frontier_Sample_Covariance_Estimates_State_Commercial_Banks.png', dpi=200, bbox_inches='tight')\n",
    "plt.show()"
   ]
  },
  {
   "cell_type": "markdown",
   "id": "5bd88181",
   "metadata": {},
   "source": [
    "![Efficient_Frontier_Sample_Covariance_Estimates_State_Commercial_Banks.png](images/Efficient_Frontier_Sample_Covariance_Estimates_State_Commercial_Banks.png)"
   ]
  },
  {
   "cell_type": "markdown",
   "id": "16606fec",
   "metadata": {},
   "source": [
    "##### Min Volatility Portfolio"
   ]
  },
  {
   "cell_type": "markdown",
   "id": "514ee9d9",
   "metadata": {},
   "source": [
    "###### Performance"
   ]
  },
  {
   "cell_type": "code",
   "execution_count": 27,
   "id": "20cfa5e9",
   "metadata": {
    "tags": [
     "remove-input",
     "remove-output"
    ]
   },
   "outputs": [
    {
     "name": "stdout",
     "output_type": "stream",
     "text": [
      "Expected annual return: 1.2%\n",
      "Annual volatility: 2.7%\n",
      "Sharpe Ratio: -0.28\n"
     ]
    }
   ],
   "source": [
    "ef2.portfolio_performance(verbose=True);"
   ]
  },
  {
   "cell_type": "markdown",
   "id": "6f6a25ce",
   "metadata": {},
   "source": [
    "###### Weights"
   ]
  },
  {
   "cell_type": "code",
   "execution_count": 28,
   "id": "141cb5a6",
   "metadata": {
    "tags": [
     "remove-input"
    ]
   },
   "outputs": [],
   "source": [
    "companies = []\n",
    "weights = []\n",
    "for company, weight in ef2.clean_weights().items():\n",
    "    if weight != 0:\n",
    "        companies.append(company)\n",
    "        weights.append(weight)\n",
    "        \n",
    "dic = {'Company_Name':companies,'Weight':weights}\n",
    "min_vol = pd.DataFrame(dic)\n",
    "min_vol.to_csv(\"data/min_vol_sample_State_Commercial_Banks.csv\", index = False)"
   ]
  },
  {
   "cell_type": "code",
   "execution_count": 29,
   "id": "4cdfa66e",
   "metadata": {
    "tags": [
     "remove-input"
    ]
   },
   "outputs": [
    {
     "data": {
      "text/html": [
       "<div>\n",
       "<style scoped>\n",
       "    .dataframe tbody tr th:only-of-type {\n",
       "        vertical-align: middle;\n",
       "    }\n",
       "\n",
       "    .dataframe tbody tr th {\n",
       "        vertical-align: top;\n",
       "    }\n",
       "\n",
       "    .dataframe thead th {\n",
       "        text-align: right;\n",
       "    }\n",
       "</style>\n",
       "<table border=\"1\" class=\"dataframe\">\n",
       "  <thead>\n",
       "    <tr style=\"text-align: right;\">\n",
       "      <th></th>\n",
       "      <th>Company_Name</th>\n",
       "      <th>Weight</th>\n",
       "    </tr>\n",
       "  </thead>\n",
       "  <tbody>\n",
       "    <tr>\n",
       "      <th>0</th>\n",
       "      <td>BANK OF THE JAMES FINANCIAL GROUP INC</td>\n",
       "      <td>0.00178</td>\n",
       "    </tr>\n",
       "    <tr>\n",
       "      <th>1</th>\n",
       "      <td>BANK OF NEW YORK MELLON CORP</td>\n",
       "      <td>0.09533</td>\n",
       "    </tr>\n",
       "    <tr>\n",
       "      <th>2</th>\n",
       "      <td>CITIZENS &amp; NORTHERN CORP</td>\n",
       "      <td>0.05375</td>\n",
       "    </tr>\n",
       "    <tr>\n",
       "      <th>3</th>\n",
       "      <td>FAUQUIER BANKSHARES, INC.</td>\n",
       "      <td>0.02143</td>\n",
       "    </tr>\n",
       "    <tr>\n",
       "      <th>4</th>\n",
       "      <td>VILLAGE BANK &amp; TRUST FINANCIAL CORP.</td>\n",
       "      <td>0.13994</td>\n",
       "    </tr>\n",
       "    <tr>\n",
       "      <th>5</th>\n",
       "      <td>FIRST COMMUNITY CORP /SC/</td>\n",
       "      <td>0.05076</td>\n",
       "    </tr>\n",
       "    <tr>\n",
       "      <th>6</th>\n",
       "      <td>GUARANTY FEDERAL BANCSHARES INC</td>\n",
       "      <td>0.17724</td>\n",
       "    </tr>\n",
       "    <tr>\n",
       "      <th>7</th>\n",
       "      <td>RELIANT BANCORP, INC.</td>\n",
       "      <td>0.12273</td>\n",
       "    </tr>\n",
       "    <tr>\n",
       "      <th>8</th>\n",
       "      <td>CAROLINA TRUST BANCSHARES, INC.</td>\n",
       "      <td>0.11786</td>\n",
       "    </tr>\n",
       "    <tr>\n",
       "      <th>9</th>\n",
       "      <td>MACKINAC FINANCIAL CORP /MI/</td>\n",
       "      <td>0.02478</td>\n",
       "    </tr>\n",
       "    <tr>\n",
       "      <th>10</th>\n",
       "      <td>INVESTAR HOLDING CORP</td>\n",
       "      <td>0.19440</td>\n",
       "    </tr>\n",
       "  </tbody>\n",
       "</table>\n",
       "</div>"
      ],
      "text/plain": [
       "                             Company_Name   Weight\n",
       "0   BANK OF THE JAMES FINANCIAL GROUP INC  0.00178\n",
       "1            BANK OF NEW YORK MELLON CORP  0.09533\n",
       "2                CITIZENS & NORTHERN CORP  0.05375\n",
       "3               FAUQUIER BANKSHARES, INC.  0.02143\n",
       "4    VILLAGE BANK & TRUST FINANCIAL CORP.  0.13994\n",
       "5               FIRST COMMUNITY CORP /SC/  0.05076\n",
       "6         GUARANTY FEDERAL BANCSHARES INC  0.17724\n",
       "7                   RELIANT BANCORP, INC.  0.12273\n",
       "8         CAROLINA TRUST BANCSHARES, INC.  0.11786\n",
       "9            MACKINAC FINANCIAL CORP /MI/  0.02478\n",
       "10                  INVESTAR HOLDING CORP  0.19440"
      ]
     },
     "execution_count": 29,
     "metadata": {},
     "output_type": "execute_result"
    }
   ],
   "source": [
    "pd.read_csv(\"data/min_vol_sample_State_Commercial_Banks.csv\")"
   ]
  }
 ],
 "metadata": {
  "celltoolbar": "Edit Metadata",
  "kernelspec": {
   "display_name": "Python 3 (ipykernel)",
   "language": "python",
   "name": "python3"
  },
  "language_info": {
   "codemirror_mode": {
    "name": "ipython",
    "version": 3
   },
   "file_extension": ".py",
   "mimetype": "text/x-python",
   "name": "python",
   "nbconvert_exporter": "python",
   "pygments_lexer": "ipython3",
   "version": "3.9.7"
  }
 },
 "nbformat": 4,
 "nbformat_minor": 5
}

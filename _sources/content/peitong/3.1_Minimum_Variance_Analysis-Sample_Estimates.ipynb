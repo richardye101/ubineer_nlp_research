{
 "cells": [
  {
   "cell_type": "code",
   "execution_count": 1,
   "id": "1bcaa702",
   "metadata": {
    "tags": [
     "remove-input"
    ]
   },
   "outputs": [],
   "source": [
    "import sys\n",
    "sys.path.insert(0, '..')\n",
    "%load_ext autoreload\n",
    "%autoreload 2\n",
    "%aimport std_func\n",
    "\n",
    "# Hide warnings\n",
    "import warnings\n",
    "warnings.filterwarnings(\"ignore\")"
   ]
  },
  {
   "cell_type": "markdown",
   "id": "d9148826",
   "metadata": {},
   "source": [
    "## Estimates from Sample Covariance\n",
    "\n",
    "The portfolios we constructed in this notebook serve as reference to the portfolios using cosine similarity estimates and factor model estimates. Here, we simply use the sample return and sample covariance to generate portfolios for each industry."
   ]
  },
  {
   "cell_type": "code",
   "execution_count": 2,
   "id": "12347323",
   "metadata": {
    "tags": [
     "hide-input"
    ]
   },
   "outputs": [],
   "source": [
    "import pandas as pd\n",
    "import numpy as np\n",
    "import matplotlib.pyplot as plt\n",
    "import seaborn as sns"
   ]
  },
  {
   "cell_type": "code",
   "execution_count": 3,
   "id": "89f2f46b",
   "metadata": {
    "tags": [
     "remove-input"
    ]
   },
   "outputs": [],
   "source": [
    "r_selected = pd.read_csv(\"data/filtered_r.csv\")\n",
    "# get the mean of all \n",
    "r_selected.set_index(\"name\", inplace = True)\n",
    "mu = r_selected.mean(axis = 1)\n",
    "# compute the covariance matrix \n",
    "cov = r_selected.T.cov()"
   ]
  },
  {
   "cell_type": "markdown",
   "id": "70db3425",
   "metadata": {},
   "source": [
    "### Perform Mean-Variance Analysis\n",
    "We will use one industry per time to generate a minimum-variance portfolio. In our demonstration of mean-variance analysis process, we use the industry `pharmaceutical preparations` whose SIC code is `2834`. At the end, we will show the results for other industries. \n",
    "\n",
    "We first get the name list of `pharmaceutical preparations` companies and match the names with the companies in returns data. Then, we get the sample mean and sample covariance for this specific industry. We get the efficient frontier, the set of optimal portfolios, for the industry; and recognize the minimum-variance portfolio."
   ]
  },
  {
   "cell_type": "code",
   "execution_count": 4,
   "id": "a1bce350",
   "metadata": {
    "scrolled": true,
    "tags": [
     "remove-input",
     "remove-output"
    ]
   },
   "outputs": [],
   "source": [
    "#!pip install dataframe_image"
   ]
  },
  {
   "cell_type": "code",
   "execution_count": 5,
   "id": "585c801a",
   "metadata": {
    "tags": [
     "remove-input",
     "remove-output"
    ]
   },
   "outputs": [
    {
     "name": "stdout",
     "output_type": "stream",
     "text": [
      "Requirement already satisfied: PyPortfolioOpt in /Users/lulu/opt/anaconda3/lib/python3.9/site-packages (1.5.1)\n",
      "Requirement already satisfied: numpy<2.0,>=1.12 in /Users/lulu/opt/anaconda3/lib/python3.9/site-packages (from PyPortfolioOpt) (1.20.3)\n",
      "Requirement already satisfied: cvxpy<2.0.0,>=1.1.10 in /Users/lulu/opt/anaconda3/lib/python3.9/site-packages (from PyPortfolioOpt) (1.1.18)\n",
      "Requirement already satisfied: scipy<2.0,>=1.3 in /Users/lulu/opt/anaconda3/lib/python3.9/site-packages (from PyPortfolioOpt) (1.7.3)\n",
      "Requirement already satisfied: pandas>=0.19 in /Users/lulu/opt/anaconda3/lib/python3.9/site-packages (from PyPortfolioOpt) (1.4.1)\n",
      "Requirement already satisfied: scs>=1.1.6 in /Users/lulu/opt/anaconda3/lib/python3.9/site-packages (from cvxpy<2.0.0,>=1.1.10->PyPortfolioOpt) (3.2.0)\n",
      "Requirement already satisfied: osqp>=0.4.1 in /Users/lulu/opt/anaconda3/lib/python3.9/site-packages (from cvxpy<2.0.0,>=1.1.10->PyPortfolioOpt) (0.6.2.post5)\n",
      "Requirement already satisfied: ecos>=2 in /Users/lulu/opt/anaconda3/lib/python3.9/site-packages (from cvxpy<2.0.0,>=1.1.10->PyPortfolioOpt) (2.0.10)\n",
      "Requirement already satisfied: qdldl in /Users/lulu/opt/anaconda3/lib/python3.9/site-packages (from osqp>=0.4.1->cvxpy<2.0.0,>=1.1.10->PyPortfolioOpt) (0.1.5.post0)\n",
      "Requirement already satisfied: python-dateutil>=2.8.1 in /Users/lulu/opt/anaconda3/lib/python3.9/site-packages (from pandas>=0.19->PyPortfolioOpt) (2.8.2)\n",
      "Requirement already satisfied: pytz>=2020.1 in /Users/lulu/opt/anaconda3/lib/python3.9/site-packages (from pandas>=0.19->PyPortfolioOpt) (2021.3)\n",
      "Requirement already satisfied: six>=1.5 in /Users/lulu/opt/anaconda3/lib/python3.9/site-packages (from python-dateutil>=2.8.1->pandas>=0.19->PyPortfolioOpt) (1.16.0)\n"
     ]
    }
   ],
   "source": [
    "!pip install PyPortfolioOpt"
   ]
  },
  {
   "cell_type": "code",
   "execution_count": 6,
   "id": "f245cf2e",
   "metadata": {
    "tags": [
     "hide-input"
    ]
   },
   "outputs": [],
   "source": [
    "from pypfopt import EfficientFrontier\n",
    "from pypfopt import risk_models\n",
    "from pypfopt import expected_returns\n",
    "from pypfopt import objective_functions\n",
    "from pypfopt import plotting"
   ]
  },
  {
   "cell_type": "code",
   "execution_count": 7,
   "id": "bd7b3ef3",
   "metadata": {
    "tags": [
     "hide-input"
    ]
   },
   "outputs": [],
   "source": [
    "df = pd.read_csv('../data/preprocessed.csv',\n",
    "                 usecols = ['reportingDate', 'name', 'CIK',\n",
    "                           'coDescription_stopwords', 'SIC', 'SIC_desc'])\n",
    "df = df.set_index(df.name)"
   ]
  },
  {
   "cell_type": "code",
   "execution_count": 8,
   "id": "b9f6cdc4",
   "metadata": {
    "tags": [
     "hide-input"
    ]
   },
   "outputs": [],
   "source": [
    "# get the names of the companies in the pharmaceutical preparations industry\n",
    "Pharm = df[df.SIC == 2834]\n",
    "Pharm_list = Pharm.index"
   ]
  },
  {
   "cell_type": "code",
   "execution_count": 9,
   "id": "98c532c4",
   "metadata": {
    "scrolled": true,
    "tags": [
     "hide-input"
    ]
   },
   "outputs": [],
   "source": [
    "# get the companies name that match return data and business description data\n",
    "SET = (set(Pharm_list) & set(r_selected.index))\n",
    "LIST = [*SET, ]"
   ]
  },
  {
   "cell_type": "markdown",
   "id": "270561f4",
   "metadata": {},
   "source": [
    "#### Sample Mean for the Pharmaceutical Preparations Industry"
   ]
  },
  {
   "cell_type": "code",
   "execution_count": 10,
   "id": "7b6da842",
   "metadata": {
    "tags": [
     "remove-input"
    ]
   },
   "outputs": [
    {
     "data": {
      "text/plain": [
       "name\n",
       "XENCOR INC                       0.040986\n",
       "ZOETIS INC.                      0.020733\n",
       "STEMLINE THERAPEUTICS INC        0.016350\n",
       "CORCEPT THERAPEUTICS INC         0.038624\n",
       "ACADIA PHARMACEUTICALS INC      -0.013054\n",
       "                                   ...   \n",
       "GALECTIN THERAPEUTICS INC        0.064165\n",
       "PARATEK PHARMACEUTICALS, INC.   -0.024066\n",
       "STRONGBRIDGE BIOPHARMA PLC       0.016958\n",
       "MERRIMACK PHARMACEUTICALS INC   -0.058560\n",
       "VBI VACCINES INC/BC             -0.015673\n",
       "Length: 124, dtype: float64"
      ]
     },
     "execution_count": 10,
     "metadata": {},
     "output_type": "execute_result"
    }
   ],
   "source": [
    "mu_Pharm = mu[LIST]\n",
    "mu_Pharm"
   ]
  },
  {
   "cell_type": "markdown",
   "id": "c3bcd217",
   "metadata": {},
   "source": [
    "#### Sample Covariance for the Pharmaceutical Preparations Industry"
   ]
  },
  {
   "cell_type": "code",
   "execution_count": 11,
   "id": "8e72a50e",
   "metadata": {
    "tags": [
     "remove-input"
    ]
   },
   "outputs": [
    {
     "data": {
      "text/html": [
       "<div>\n",
       "<style scoped>\n",
       "    .dataframe tbody tr th:only-of-type {\n",
       "        vertical-align: middle;\n",
       "    }\n",
       "\n",
       "    .dataframe tbody tr th {\n",
       "        vertical-align: top;\n",
       "    }\n",
       "\n",
       "    .dataframe thead th {\n",
       "        text-align: right;\n",
       "    }\n",
       "</style>\n",
       "<table border=\"1\" class=\"dataframe\">\n",
       "  <thead>\n",
       "    <tr style=\"text-align: right;\">\n",
       "      <th>name</th>\n",
       "      <th>XENCOR INC</th>\n",
       "      <th>ZOETIS INC.</th>\n",
       "      <th>STEMLINE THERAPEUTICS INC</th>\n",
       "      <th>CORCEPT THERAPEUTICS INC</th>\n",
       "      <th>ACADIA PHARMACEUTICALS INC</th>\n",
       "      <th>ALEXION PHARMACEUTICALS INC</th>\n",
       "      <th>ANI PHARMACEUTICALS INC</th>\n",
       "      <th>ADAMIS PHARMACEUTICALS CORP</th>\n",
       "      <th>CHIASMA, INC</th>\n",
       "      <th>EVOKE PHARMA INC</th>\n",
       "      <th>...</th>\n",
       "      <th>FLEXION THERAPEUTICS INC</th>\n",
       "      <th>ORAGENICS INC</th>\n",
       "      <th>RETROPHIN, INC.</th>\n",
       "      <th>PORTOLA PHARMACEUTICALS INC</th>\n",
       "      <th>KARYOPHARM THERAPEUTICS INC.</th>\n",
       "      <th>GALECTIN THERAPEUTICS INC</th>\n",
       "      <th>PARATEK PHARMACEUTICALS, INC.</th>\n",
       "      <th>STRONGBRIDGE BIOPHARMA PLC</th>\n",
       "      <th>MERRIMACK PHARMACEUTICALS INC</th>\n",
       "      <th>VBI VACCINES INC/BC</th>\n",
       "    </tr>\n",
       "    <tr>\n",
       "      <th>name</th>\n",
       "      <th></th>\n",
       "      <th></th>\n",
       "      <th></th>\n",
       "      <th></th>\n",
       "      <th></th>\n",
       "      <th></th>\n",
       "      <th></th>\n",
       "      <th></th>\n",
       "      <th></th>\n",
       "      <th></th>\n",
       "      <th></th>\n",
       "      <th></th>\n",
       "      <th></th>\n",
       "      <th></th>\n",
       "      <th></th>\n",
       "      <th></th>\n",
       "      <th></th>\n",
       "      <th></th>\n",
       "      <th></th>\n",
       "      <th></th>\n",
       "      <th></th>\n",
       "    </tr>\n",
       "  </thead>\n",
       "  <tbody>\n",
       "    <tr>\n",
       "      <th>XENCOR INC</th>\n",
       "      <td>0.022963</td>\n",
       "      <td>0.001551</td>\n",
       "      <td>0.002471</td>\n",
       "      <td>-0.001174</td>\n",
       "      <td>0.002738</td>\n",
       "      <td>0.001170</td>\n",
       "      <td>0.006463</td>\n",
       "      <td>-0.002207</td>\n",
       "      <td>0.000640</td>\n",
       "      <td>0.005330</td>\n",
       "      <td>...</td>\n",
       "      <td>0.007494</td>\n",
       "      <td>0.002165</td>\n",
       "      <td>0.006962</td>\n",
       "      <td>0.002308</td>\n",
       "      <td>0.012727</td>\n",
       "      <td>0.012501</td>\n",
       "      <td>0.002137</td>\n",
       "      <td>-0.003926</td>\n",
       "      <td>0.011386</td>\n",
       "      <td>0.002928</td>\n",
       "    </tr>\n",
       "    <tr>\n",
       "      <th>ZOETIS INC.</th>\n",
       "      <td>0.001551</td>\n",
       "      <td>0.002037</td>\n",
       "      <td>0.000673</td>\n",
       "      <td>-0.000177</td>\n",
       "      <td>0.000304</td>\n",
       "      <td>-0.000242</td>\n",
       "      <td>0.001700</td>\n",
       "      <td>0.000497</td>\n",
       "      <td>0.001032</td>\n",
       "      <td>-0.000383</td>\n",
       "      <td>...</td>\n",
       "      <td>0.001282</td>\n",
       "      <td>0.004184</td>\n",
       "      <td>0.000010</td>\n",
       "      <td>0.000756</td>\n",
       "      <td>0.002240</td>\n",
       "      <td>0.001560</td>\n",
       "      <td>0.001507</td>\n",
       "      <td>0.000066</td>\n",
       "      <td>0.001440</td>\n",
       "      <td>0.001620</td>\n",
       "    </tr>\n",
       "    <tr>\n",
       "      <th>STEMLINE THERAPEUTICS INC</th>\n",
       "      <td>0.002471</td>\n",
       "      <td>0.000673</td>\n",
       "      <td>0.024243</td>\n",
       "      <td>0.003672</td>\n",
       "      <td>-0.000192</td>\n",
       "      <td>0.001339</td>\n",
       "      <td>0.003419</td>\n",
       "      <td>0.007401</td>\n",
       "      <td>0.004466</td>\n",
       "      <td>-0.003649</td>\n",
       "      <td>...</td>\n",
       "      <td>0.006783</td>\n",
       "      <td>-0.002972</td>\n",
       "      <td>0.007555</td>\n",
       "      <td>0.000614</td>\n",
       "      <td>0.012833</td>\n",
       "      <td>-0.006926</td>\n",
       "      <td>0.003049</td>\n",
       "      <td>0.009303</td>\n",
       "      <td>0.010800</td>\n",
       "      <td>0.001152</td>\n",
       "    </tr>\n",
       "    <tr>\n",
       "      <th>CORCEPT THERAPEUTICS INC</th>\n",
       "      <td>-0.001174</td>\n",
       "      <td>-0.000177</td>\n",
       "      <td>0.003672</td>\n",
       "      <td>0.025131</td>\n",
       "      <td>0.005017</td>\n",
       "      <td>0.000098</td>\n",
       "      <td>-0.000579</td>\n",
       "      <td>0.014328</td>\n",
       "      <td>0.009794</td>\n",
       "      <td>0.009619</td>\n",
       "      <td>...</td>\n",
       "      <td>0.005888</td>\n",
       "      <td>0.003179</td>\n",
       "      <td>0.006838</td>\n",
       "      <td>0.007806</td>\n",
       "      <td>0.008333</td>\n",
       "      <td>0.011843</td>\n",
       "      <td>0.009533</td>\n",
       "      <td>0.004781</td>\n",
       "      <td>0.010683</td>\n",
       "      <td>0.001857</td>\n",
       "    </tr>\n",
       "    <tr>\n",
       "      <th>ACADIA PHARMACEUTICALS INC</th>\n",
       "      <td>0.002738</td>\n",
       "      <td>0.000304</td>\n",
       "      <td>-0.000192</td>\n",
       "      <td>0.005017</td>\n",
       "      <td>0.025091</td>\n",
       "      <td>0.007672</td>\n",
       "      <td>0.003747</td>\n",
       "      <td>0.014549</td>\n",
       "      <td>0.015785</td>\n",
       "      <td>0.008868</td>\n",
       "      <td>...</td>\n",
       "      <td>0.000647</td>\n",
       "      <td>0.039078</td>\n",
       "      <td>0.005817</td>\n",
       "      <td>0.009577</td>\n",
       "      <td>0.006466</td>\n",
       "      <td>0.014137</td>\n",
       "      <td>0.009841</td>\n",
       "      <td>-0.002626</td>\n",
       "      <td>0.003530</td>\n",
       "      <td>0.006204</td>\n",
       "    </tr>\n",
       "    <tr>\n",
       "      <th>...</th>\n",
       "      <td>...</td>\n",
       "      <td>...</td>\n",
       "      <td>...</td>\n",
       "      <td>...</td>\n",
       "      <td>...</td>\n",
       "      <td>...</td>\n",
       "      <td>...</td>\n",
       "      <td>...</td>\n",
       "      <td>...</td>\n",
       "      <td>...</td>\n",
       "      <td>...</td>\n",
       "      <td>...</td>\n",
       "      <td>...</td>\n",
       "      <td>...</td>\n",
       "      <td>...</td>\n",
       "      <td>...</td>\n",
       "      <td>...</td>\n",
       "      <td>...</td>\n",
       "      <td>...</td>\n",
       "      <td>...</td>\n",
       "      <td>...</td>\n",
       "    </tr>\n",
       "    <tr>\n",
       "      <th>GALECTIN THERAPEUTICS INC</th>\n",
       "      <td>0.012501</td>\n",
       "      <td>0.001560</td>\n",
       "      <td>-0.006926</td>\n",
       "      <td>0.011843</td>\n",
       "      <td>0.014137</td>\n",
       "      <td>0.005003</td>\n",
       "      <td>0.005475</td>\n",
       "      <td>0.014718</td>\n",
       "      <td>-0.001683</td>\n",
       "      <td>0.010841</td>\n",
       "      <td>...</td>\n",
       "      <td>0.004009</td>\n",
       "      <td>0.005519</td>\n",
       "      <td>0.003543</td>\n",
       "      <td>0.014962</td>\n",
       "      <td>0.018646</td>\n",
       "      <td>0.083509</td>\n",
       "      <td>0.012742</td>\n",
       "      <td>0.007412</td>\n",
       "      <td>-0.000766</td>\n",
       "      <td>0.008689</td>\n",
       "    </tr>\n",
       "    <tr>\n",
       "      <th>PARATEK PHARMACEUTICALS, INC.</th>\n",
       "      <td>0.002137</td>\n",
       "      <td>0.001507</td>\n",
       "      <td>0.003049</td>\n",
       "      <td>0.009533</td>\n",
       "      <td>0.009841</td>\n",
       "      <td>0.005154</td>\n",
       "      <td>0.000739</td>\n",
       "      <td>0.020043</td>\n",
       "      <td>0.014608</td>\n",
       "      <td>0.005279</td>\n",
       "      <td>...</td>\n",
       "      <td>0.010004</td>\n",
       "      <td>0.000901</td>\n",
       "      <td>0.005313</td>\n",
       "      <td>0.011105</td>\n",
       "      <td>0.014319</td>\n",
       "      <td>0.012742</td>\n",
       "      <td>0.026534</td>\n",
       "      <td>0.004989</td>\n",
       "      <td>0.001591</td>\n",
       "      <td>-0.000708</td>\n",
       "    </tr>\n",
       "    <tr>\n",
       "      <th>STRONGBRIDGE BIOPHARMA PLC</th>\n",
       "      <td>-0.003926</td>\n",
       "      <td>0.000066</td>\n",
       "      <td>0.009303</td>\n",
       "      <td>0.004781</td>\n",
       "      <td>-0.002626</td>\n",
       "      <td>0.000551</td>\n",
       "      <td>-0.005220</td>\n",
       "      <td>0.010391</td>\n",
       "      <td>0.001311</td>\n",
       "      <td>-0.010274</td>\n",
       "      <td>...</td>\n",
       "      <td>0.008945</td>\n",
       "      <td>-0.013175</td>\n",
       "      <td>0.000317</td>\n",
       "      <td>0.006320</td>\n",
       "      <td>0.004229</td>\n",
       "      <td>0.007412</td>\n",
       "      <td>0.004989</td>\n",
       "      <td>0.044082</td>\n",
       "      <td>-0.001935</td>\n",
       "      <td>0.007307</td>\n",
       "    </tr>\n",
       "    <tr>\n",
       "      <th>MERRIMACK PHARMACEUTICALS INC</th>\n",
       "      <td>0.011386</td>\n",
       "      <td>0.001440</td>\n",
       "      <td>0.010800</td>\n",
       "      <td>0.010683</td>\n",
       "      <td>0.003530</td>\n",
       "      <td>0.001409</td>\n",
       "      <td>0.004187</td>\n",
       "      <td>0.005903</td>\n",
       "      <td>0.010060</td>\n",
       "      <td>0.002903</td>\n",
       "      <td>...</td>\n",
       "      <td>0.007634</td>\n",
       "      <td>0.000038</td>\n",
       "      <td>0.011346</td>\n",
       "      <td>0.002594</td>\n",
       "      <td>0.010564</td>\n",
       "      <td>-0.000766</td>\n",
       "      <td>0.001591</td>\n",
       "      <td>-0.001935</td>\n",
       "      <td>0.029222</td>\n",
       "      <td>0.000311</td>\n",
       "    </tr>\n",
       "    <tr>\n",
       "      <th>VBI VACCINES INC/BC</th>\n",
       "      <td>0.002928</td>\n",
       "      <td>0.001620</td>\n",
       "      <td>0.001152</td>\n",
       "      <td>0.001857</td>\n",
       "      <td>0.006204</td>\n",
       "      <td>0.000457</td>\n",
       "      <td>0.004175</td>\n",
       "      <td>0.000894</td>\n",
       "      <td>-0.001631</td>\n",
       "      <td>0.008821</td>\n",
       "      <td>...</td>\n",
       "      <td>0.008660</td>\n",
       "      <td>0.022847</td>\n",
       "      <td>-0.001572</td>\n",
       "      <td>0.010209</td>\n",
       "      <td>0.005147</td>\n",
       "      <td>0.008689</td>\n",
       "      <td>-0.000708</td>\n",
       "      <td>0.007307</td>\n",
       "      <td>0.000311</td>\n",
       "      <td>0.024086</td>\n",
       "    </tr>\n",
       "  </tbody>\n",
       "</table>\n",
       "<p>124 rows × 124 columns</p>\n",
       "</div>"
      ],
      "text/plain": [
       "name                           XENCOR INC  ZOETIS INC.  \\\n",
       "name                                                     \n",
       "XENCOR INC                       0.022963     0.001551   \n",
       "ZOETIS INC.                      0.001551     0.002037   \n",
       "STEMLINE THERAPEUTICS INC        0.002471     0.000673   \n",
       "CORCEPT THERAPEUTICS INC        -0.001174    -0.000177   \n",
       "ACADIA PHARMACEUTICALS INC       0.002738     0.000304   \n",
       "...                                   ...          ...   \n",
       "GALECTIN THERAPEUTICS INC        0.012501     0.001560   \n",
       "PARATEK PHARMACEUTICALS, INC.    0.002137     0.001507   \n",
       "STRONGBRIDGE BIOPHARMA PLC      -0.003926     0.000066   \n",
       "MERRIMACK PHARMACEUTICALS INC    0.011386     0.001440   \n",
       "VBI VACCINES INC/BC              0.002928     0.001620   \n",
       "\n",
       "name                           STEMLINE THERAPEUTICS INC  \\\n",
       "name                                                       \n",
       "XENCOR INC                                      0.002471   \n",
       "ZOETIS INC.                                     0.000673   \n",
       "STEMLINE THERAPEUTICS INC                       0.024243   \n",
       "CORCEPT THERAPEUTICS INC                        0.003672   \n",
       "ACADIA PHARMACEUTICALS INC                     -0.000192   \n",
       "...                                                  ...   \n",
       "GALECTIN THERAPEUTICS INC                      -0.006926   \n",
       "PARATEK PHARMACEUTICALS, INC.                   0.003049   \n",
       "STRONGBRIDGE BIOPHARMA PLC                      0.009303   \n",
       "MERRIMACK PHARMACEUTICALS INC                   0.010800   \n",
       "VBI VACCINES INC/BC                             0.001152   \n",
       "\n",
       "name                           CORCEPT THERAPEUTICS INC  \\\n",
       "name                                                      \n",
       "XENCOR INC                                    -0.001174   \n",
       "ZOETIS INC.                                   -0.000177   \n",
       "STEMLINE THERAPEUTICS INC                      0.003672   \n",
       "CORCEPT THERAPEUTICS INC                       0.025131   \n",
       "ACADIA PHARMACEUTICALS INC                     0.005017   \n",
       "...                                                 ...   \n",
       "GALECTIN THERAPEUTICS INC                      0.011843   \n",
       "PARATEK PHARMACEUTICALS, INC.                  0.009533   \n",
       "STRONGBRIDGE BIOPHARMA PLC                     0.004781   \n",
       "MERRIMACK PHARMACEUTICALS INC                  0.010683   \n",
       "VBI VACCINES INC/BC                            0.001857   \n",
       "\n",
       "name                           ACADIA PHARMACEUTICALS INC  \\\n",
       "name                                                        \n",
       "XENCOR INC                                       0.002738   \n",
       "ZOETIS INC.                                      0.000304   \n",
       "STEMLINE THERAPEUTICS INC                       -0.000192   \n",
       "CORCEPT THERAPEUTICS INC                         0.005017   \n",
       "ACADIA PHARMACEUTICALS INC                       0.025091   \n",
       "...                                                   ...   \n",
       "GALECTIN THERAPEUTICS INC                        0.014137   \n",
       "PARATEK PHARMACEUTICALS, INC.                    0.009841   \n",
       "STRONGBRIDGE BIOPHARMA PLC                      -0.002626   \n",
       "MERRIMACK PHARMACEUTICALS INC                    0.003530   \n",
       "VBI VACCINES INC/BC                              0.006204   \n",
       "\n",
       "name                           ALEXION PHARMACEUTICALS INC  \\\n",
       "name                                                         \n",
       "XENCOR INC                                        0.001170   \n",
       "ZOETIS INC.                                      -0.000242   \n",
       "STEMLINE THERAPEUTICS INC                         0.001339   \n",
       "CORCEPT THERAPEUTICS INC                          0.000098   \n",
       "ACADIA PHARMACEUTICALS INC                        0.007672   \n",
       "...                                                    ...   \n",
       "GALECTIN THERAPEUTICS INC                         0.005003   \n",
       "PARATEK PHARMACEUTICALS, INC.                     0.005154   \n",
       "STRONGBRIDGE BIOPHARMA PLC                        0.000551   \n",
       "MERRIMACK PHARMACEUTICALS INC                     0.001409   \n",
       "VBI VACCINES INC/BC                               0.000457   \n",
       "\n",
       "name                           ANI PHARMACEUTICALS INC  \\\n",
       "name                                                     \n",
       "XENCOR INC                                    0.006463   \n",
       "ZOETIS INC.                                   0.001700   \n",
       "STEMLINE THERAPEUTICS INC                     0.003419   \n",
       "CORCEPT THERAPEUTICS INC                     -0.000579   \n",
       "ACADIA PHARMACEUTICALS INC                    0.003747   \n",
       "...                                                ...   \n",
       "GALECTIN THERAPEUTICS INC                     0.005475   \n",
       "PARATEK PHARMACEUTICALS, INC.                 0.000739   \n",
       "STRONGBRIDGE BIOPHARMA PLC                   -0.005220   \n",
       "MERRIMACK PHARMACEUTICALS INC                 0.004187   \n",
       "VBI VACCINES INC/BC                           0.004175   \n",
       "\n",
       "name                           ADAMIS PHARMACEUTICALS CORP  CHIASMA, INC  \\\n",
       "name                                                                       \n",
       "XENCOR INC                                       -0.002207      0.000640   \n",
       "ZOETIS INC.                                       0.000497      0.001032   \n",
       "STEMLINE THERAPEUTICS INC                         0.007401      0.004466   \n",
       "CORCEPT THERAPEUTICS INC                          0.014328      0.009794   \n",
       "ACADIA PHARMACEUTICALS INC                        0.014549      0.015785   \n",
       "...                                                    ...           ...   \n",
       "GALECTIN THERAPEUTICS INC                         0.014718     -0.001683   \n",
       "PARATEK PHARMACEUTICALS, INC.                     0.020043      0.014608   \n",
       "STRONGBRIDGE BIOPHARMA PLC                        0.010391      0.001311   \n",
       "MERRIMACK PHARMACEUTICALS INC                     0.005903      0.010060   \n",
       "VBI VACCINES INC/BC                               0.000894     -0.001631   \n",
       "\n",
       "name                           EVOKE PHARMA INC  ...  \\\n",
       "name                                             ...   \n",
       "XENCOR INC                             0.005330  ...   \n",
       "ZOETIS INC.                           -0.000383  ...   \n",
       "STEMLINE THERAPEUTICS INC             -0.003649  ...   \n",
       "CORCEPT THERAPEUTICS INC               0.009619  ...   \n",
       "ACADIA PHARMACEUTICALS INC             0.008868  ...   \n",
       "...                                         ...  ...   \n",
       "GALECTIN THERAPEUTICS INC              0.010841  ...   \n",
       "PARATEK PHARMACEUTICALS, INC.          0.005279  ...   \n",
       "STRONGBRIDGE BIOPHARMA PLC            -0.010274  ...   \n",
       "MERRIMACK PHARMACEUTICALS INC          0.002903  ...   \n",
       "VBI VACCINES INC/BC                    0.008821  ...   \n",
       "\n",
       "name                           FLEXION THERAPEUTICS INC  ORAGENICS INC  \\\n",
       "name                                                                     \n",
       "XENCOR INC                                     0.007494       0.002165   \n",
       "ZOETIS INC.                                    0.001282       0.004184   \n",
       "STEMLINE THERAPEUTICS INC                      0.006783      -0.002972   \n",
       "CORCEPT THERAPEUTICS INC                       0.005888       0.003179   \n",
       "ACADIA PHARMACEUTICALS INC                     0.000647       0.039078   \n",
       "...                                                 ...            ...   \n",
       "GALECTIN THERAPEUTICS INC                      0.004009       0.005519   \n",
       "PARATEK PHARMACEUTICALS, INC.                  0.010004       0.000901   \n",
       "STRONGBRIDGE BIOPHARMA PLC                     0.008945      -0.013175   \n",
       "MERRIMACK PHARMACEUTICALS INC                  0.007634       0.000038   \n",
       "VBI VACCINES INC/BC                            0.008660       0.022847   \n",
       "\n",
       "name                           RETROPHIN, INC.  PORTOLA PHARMACEUTICALS INC  \\\n",
       "name                                                                          \n",
       "XENCOR INC                            0.006962                     0.002308   \n",
       "ZOETIS INC.                           0.000010                     0.000756   \n",
       "STEMLINE THERAPEUTICS INC             0.007555                     0.000614   \n",
       "CORCEPT THERAPEUTICS INC              0.006838                     0.007806   \n",
       "ACADIA PHARMACEUTICALS INC            0.005817                     0.009577   \n",
       "...                                        ...                          ...   \n",
       "GALECTIN THERAPEUTICS INC             0.003543                     0.014962   \n",
       "PARATEK PHARMACEUTICALS, INC.         0.005313                     0.011105   \n",
       "STRONGBRIDGE BIOPHARMA PLC            0.000317                     0.006320   \n",
       "MERRIMACK PHARMACEUTICALS INC         0.011346                     0.002594   \n",
       "VBI VACCINES INC/BC                  -0.001572                     0.010209   \n",
       "\n",
       "name                           KARYOPHARM THERAPEUTICS INC.  \\\n",
       "name                                                          \n",
       "XENCOR INC                                         0.012727   \n",
       "ZOETIS INC.                                        0.002240   \n",
       "STEMLINE THERAPEUTICS INC                          0.012833   \n",
       "CORCEPT THERAPEUTICS INC                           0.008333   \n",
       "ACADIA PHARMACEUTICALS INC                         0.006466   \n",
       "...                                                     ...   \n",
       "GALECTIN THERAPEUTICS INC                          0.018646   \n",
       "PARATEK PHARMACEUTICALS, INC.                      0.014319   \n",
       "STRONGBRIDGE BIOPHARMA PLC                         0.004229   \n",
       "MERRIMACK PHARMACEUTICALS INC                      0.010564   \n",
       "VBI VACCINES INC/BC                                0.005147   \n",
       "\n",
       "name                           GALECTIN THERAPEUTICS INC  \\\n",
       "name                                                       \n",
       "XENCOR INC                                      0.012501   \n",
       "ZOETIS INC.                                     0.001560   \n",
       "STEMLINE THERAPEUTICS INC                      -0.006926   \n",
       "CORCEPT THERAPEUTICS INC                        0.011843   \n",
       "ACADIA PHARMACEUTICALS INC                      0.014137   \n",
       "...                                                  ...   \n",
       "GALECTIN THERAPEUTICS INC                       0.083509   \n",
       "PARATEK PHARMACEUTICALS, INC.                   0.012742   \n",
       "STRONGBRIDGE BIOPHARMA PLC                      0.007412   \n",
       "MERRIMACK PHARMACEUTICALS INC                  -0.000766   \n",
       "VBI VACCINES INC/BC                             0.008689   \n",
       "\n",
       "name                           PARATEK PHARMACEUTICALS, INC.  \\\n",
       "name                                                           \n",
       "XENCOR INC                                          0.002137   \n",
       "ZOETIS INC.                                         0.001507   \n",
       "STEMLINE THERAPEUTICS INC                           0.003049   \n",
       "CORCEPT THERAPEUTICS INC                            0.009533   \n",
       "ACADIA PHARMACEUTICALS INC                          0.009841   \n",
       "...                                                      ...   \n",
       "GALECTIN THERAPEUTICS INC                           0.012742   \n",
       "PARATEK PHARMACEUTICALS, INC.                       0.026534   \n",
       "STRONGBRIDGE BIOPHARMA PLC                          0.004989   \n",
       "MERRIMACK PHARMACEUTICALS INC                       0.001591   \n",
       "VBI VACCINES INC/BC                                -0.000708   \n",
       "\n",
       "name                           STRONGBRIDGE BIOPHARMA PLC  \\\n",
       "name                                                        \n",
       "XENCOR INC                                      -0.003926   \n",
       "ZOETIS INC.                                      0.000066   \n",
       "STEMLINE THERAPEUTICS INC                        0.009303   \n",
       "CORCEPT THERAPEUTICS INC                         0.004781   \n",
       "ACADIA PHARMACEUTICALS INC                      -0.002626   \n",
       "...                                                   ...   \n",
       "GALECTIN THERAPEUTICS INC                        0.007412   \n",
       "PARATEK PHARMACEUTICALS, INC.                    0.004989   \n",
       "STRONGBRIDGE BIOPHARMA PLC                       0.044082   \n",
       "MERRIMACK PHARMACEUTICALS INC                   -0.001935   \n",
       "VBI VACCINES INC/BC                              0.007307   \n",
       "\n",
       "name                           MERRIMACK PHARMACEUTICALS INC  \\\n",
       "name                                                           \n",
       "XENCOR INC                                          0.011386   \n",
       "ZOETIS INC.                                         0.001440   \n",
       "STEMLINE THERAPEUTICS INC                           0.010800   \n",
       "CORCEPT THERAPEUTICS INC                            0.010683   \n",
       "ACADIA PHARMACEUTICALS INC                          0.003530   \n",
       "...                                                      ...   \n",
       "GALECTIN THERAPEUTICS INC                          -0.000766   \n",
       "PARATEK PHARMACEUTICALS, INC.                       0.001591   \n",
       "STRONGBRIDGE BIOPHARMA PLC                         -0.001935   \n",
       "MERRIMACK PHARMACEUTICALS INC                       0.029222   \n",
       "VBI VACCINES INC/BC                                 0.000311   \n",
       "\n",
       "name                           VBI VACCINES INC/BC  \n",
       "name                                                \n",
       "XENCOR INC                                0.002928  \n",
       "ZOETIS INC.                               0.001620  \n",
       "STEMLINE THERAPEUTICS INC                 0.001152  \n",
       "CORCEPT THERAPEUTICS INC                  0.001857  \n",
       "ACADIA PHARMACEUTICALS INC                0.006204  \n",
       "...                                            ...  \n",
       "GALECTIN THERAPEUTICS INC                 0.008689  \n",
       "PARATEK PHARMACEUTICALS, INC.            -0.000708  \n",
       "STRONGBRIDGE BIOPHARMA PLC                0.007307  \n",
       "MERRIMACK PHARMACEUTICALS INC             0.000311  \n",
       "VBI VACCINES INC/BC                       0.024086  \n",
       "\n",
       "[124 rows x 124 columns]"
      ]
     },
     "execution_count": 11,
     "metadata": {},
     "output_type": "execute_result"
    }
   ],
   "source": [
    "tmp = cov[LIST].T\n",
    "cov_Pharm = tmp[LIST]\n",
    "cov_Pharm"
   ]
  },
  {
   "cell_type": "markdown",
   "id": "fc1b6a4c",
   "metadata": {},
   "source": [
    "#### Efficient Frontier - Pharmaceutical Preparations"
   ]
  },
  {
   "cell_type": "code",
   "execution_count": 12,
   "id": "7429ef48",
   "metadata": {
    "tags": [
     "hide-input"
    ]
   },
   "outputs": [
    {
     "data": {
      "image/png": "[encoded data removed]",
      "text/plain": [
       "<Figure size 432x288 with 1 Axes>"
      ]
     },
     "metadata": {
      "needs_background": "light"
     },
     "output_type": "display_data"
    }
   ],
   "source": [
    "ef1 = EfficientFrontier(mu_Pharm, cov_Pharm, weight_bounds=(0, 0.2))\n",
    "\n",
    "fig, ax = plt.subplots()\n",
    "plotting.plot_efficient_frontier(ef1, ax=ax, show_assets=True)\n",
    "\n",
    "# Find and plot the tangency portfolio\n",
    "ef2 = EfficientFrontier(mu_Pharm, cov_Pharm, weight_bounds=(0, 0.2))\n",
    "# min volatility\n",
    "ef2.min_volatility()\n",
    "ret_tangent, std_tangent, _ = ef2.portfolio_performance()\n",
    "ax.scatter(std_tangent, ret_tangent, marker=\"*\", s=100, c=\"r\", label=\"Min Volatility\")\n",
    "\n",
    "# Format\n",
    "ax.set_title(\"Efficient Frontier - Pharmaceutical Preparations \\n Sample Covariance Estimates\")\n",
    "ax.legend()\n",
    "plt.tight_layout()\n",
    "plt.savefig('images/Efficient_Frontier_Returns.png', dpi=200, bbox_inches='tight')\n",
    "plt.show()"
   ]
  },
  {
   "cell_type": "markdown",
   "id": "342e7542",
   "metadata": {},
   "source": [
    "##### Min Volatility Portfolio"
   ]
  },
  {
   "cell_type": "markdown",
   "id": "01cb24cd",
   "metadata": {},
   "source": [
    "###### Performance"
   ]
  },
  {
   "cell_type": "code",
   "execution_count": 13,
   "id": "b34e4df3",
   "metadata": {
    "tags": [
     "hide-input"
    ]
   },
   "outputs": [
    {
     "name": "stdout",
     "output_type": "stream",
     "text": [
      "Expected annual return: 1.2%\n",
      "Annual volatility: 2.1%\n",
      "Sharpe Ratio: -0.35\n"
     ]
    }
   ],
   "source": [
    "ef2.portfolio_performance(verbose=True);"
   ]
  },
  {
   "cell_type": "markdown",
   "id": "4b77c2f6",
   "metadata": {},
   "source": [
    "###### Weights"
   ]
  },
  {
   "cell_type": "code",
   "execution_count": 25,
   "id": "ede83875",
   "metadata": {
    "tags": [
     "hide-input"
    ]
   },
   "outputs": [],
   "source": [
    "companies = []\n",
    "weights = []\n",
    "for company, weight in ef2.clean_weights().items():\n",
    "    if weight != 0:\n",
    "        companies.append(company)\n",
    "        weights.append(weight)\n",
    "        \n",
    "dic = {'Company_Name':companies,'Weight':weights}\n",
    "min_vol = pd.DataFrame(dic)"
   ]
  },
  {
   "cell_type": "code",
   "execution_count": 14,
   "id": "8c912f1e",
   "metadata": {
    "tags": [
     "remove-input"
    ]
   },
   "outputs": [
    {
     "data": {
      "text/html": [
       "<div>\n",
       "<style scoped>\n",
       "    .dataframe tbody tr th:only-of-type {\n",
       "        vertical-align: middle;\n",
       "    }\n",
       "\n",
       "    .dataframe tbody tr th {\n",
       "        vertical-align: top;\n",
       "    }\n",
       "\n",
       "    .dataframe thead th {\n",
       "        text-align: right;\n",
       "    }\n",
       "</style>\n",
       "<table border=\"1\" class=\"dataframe\">\n",
       "  <thead>\n",
       "    <tr style=\"text-align: right;\">\n",
       "      <th></th>\n",
       "      <th>Company_Name</th>\n",
       "      <th>Weight</th>\n",
       "    </tr>\n",
       "  </thead>\n",
       "  <tbody>\n",
       "    <tr>\n",
       "      <th>0</th>\n",
       "      <td>CHEMBIO DIAGNOSTICS, INC.</td>\n",
       "      <td>0.02843</td>\n",
       "    </tr>\n",
       "    <tr>\n",
       "      <th>1</th>\n",
       "      <td>JOHNSON &amp; JOHNSON</td>\n",
       "      <td>0.17878</td>\n",
       "    </tr>\n",
       "    <tr>\n",
       "      <th>2</th>\n",
       "      <td>BIODELIVERY SCIENCES INTERNATIONAL INC</td>\n",
       "      <td>0.03680</td>\n",
       "    </tr>\n",
       "    <tr>\n",
       "      <th>3</th>\n",
       "      <td>PROPHASE LABS, INC.</td>\n",
       "      <td>0.05120</td>\n",
       "    </tr>\n",
       "    <tr>\n",
       "      <th>4</th>\n",
       "      <td>ORAMED PHARMACEUTICALS INC.</td>\n",
       "      <td>0.04982</td>\n",
       "    </tr>\n",
       "    <tr>\n",
       "      <th>5</th>\n",
       "      <td>XENON PHARMACEUTICALS INC.</td>\n",
       "      <td>0.01350</td>\n",
       "    </tr>\n",
       "    <tr>\n",
       "      <th>6</th>\n",
       "      <td>BRISTOL MYERS SQUIBB CO</td>\n",
       "      <td>0.12824</td>\n",
       "    </tr>\n",
       "    <tr>\n",
       "      <th>7</th>\n",
       "      <td>PFENEX INC.</td>\n",
       "      <td>0.03777</td>\n",
       "    </tr>\n",
       "    <tr>\n",
       "      <th>8</th>\n",
       "      <td>ACHAOGEN INC</td>\n",
       "      <td>0.00515</td>\n",
       "    </tr>\n",
       "    <tr>\n",
       "      <th>9</th>\n",
       "      <td>ZOETIS INC.</td>\n",
       "      <td>0.01195</td>\n",
       "    </tr>\n",
       "    <tr>\n",
       "      <th>10</th>\n",
       "      <td>MANNKIND CORP</td>\n",
       "      <td>0.02048</td>\n",
       "    </tr>\n",
       "    <tr>\n",
       "      <th>11</th>\n",
       "      <td>ASSEMBLY BIOSCIENCES, INC.</td>\n",
       "      <td>0.05775</td>\n",
       "    </tr>\n",
       "    <tr>\n",
       "      <th>12</th>\n",
       "      <td>ARATANA THERAPEUTICS, INC.</td>\n",
       "      <td>0.03678</td>\n",
       "    </tr>\n",
       "    <tr>\n",
       "      <th>13</th>\n",
       "      <td>IMPRIMIS PHARMACEUTICALS, INC.</td>\n",
       "      <td>0.04181</td>\n",
       "    </tr>\n",
       "    <tr>\n",
       "      <th>14</th>\n",
       "      <td>LIPOCINE INC.</td>\n",
       "      <td>0.00683</td>\n",
       "    </tr>\n",
       "    <tr>\n",
       "      <th>15</th>\n",
       "      <td>VTV THERAPEUTICS INC.</td>\n",
       "      <td>0.02372</td>\n",
       "    </tr>\n",
       "    <tr>\n",
       "      <th>16</th>\n",
       "      <td>MERCK &amp; CO., INC.</td>\n",
       "      <td>0.20000</td>\n",
       "    </tr>\n",
       "    <tr>\n",
       "      <th>17</th>\n",
       "      <td>STEMLINE THERAPEUTICS INC</td>\n",
       "      <td>0.04273</td>\n",
       "    </tr>\n",
       "    <tr>\n",
       "      <th>18</th>\n",
       "      <td>CYTOMX THERAPEUTICS, INC.</td>\n",
       "      <td>0.00520</td>\n",
       "    </tr>\n",
       "    <tr>\n",
       "      <th>19</th>\n",
       "      <td>HEAT BIOLOGICS, INC.</td>\n",
       "      <td>0.00297</td>\n",
       "    </tr>\n",
       "    <tr>\n",
       "      <th>20</th>\n",
       "      <td>RECRO PHARMA, INC.</td>\n",
       "      <td>0.02010</td>\n",
       "    </tr>\n",
       "  </tbody>\n",
       "</table>\n",
       "</div>"
      ],
      "text/plain": [
       "                              Company_Name   Weight\n",
       "0                CHEMBIO DIAGNOSTICS, INC.  0.02843\n",
       "1                        JOHNSON & JOHNSON  0.17878\n",
       "2   BIODELIVERY SCIENCES INTERNATIONAL INC  0.03680\n",
       "3                      PROPHASE LABS, INC.  0.05120\n",
       "4              ORAMED PHARMACEUTICALS INC.  0.04982\n",
       "5               XENON PHARMACEUTICALS INC.  0.01350\n",
       "6                  BRISTOL MYERS SQUIBB CO  0.12824\n",
       "7                              PFENEX INC.  0.03777\n",
       "8                             ACHAOGEN INC  0.00515\n",
       "9                              ZOETIS INC.  0.01195\n",
       "10                           MANNKIND CORP  0.02048\n",
       "11              ASSEMBLY BIOSCIENCES, INC.  0.05775\n",
       "12              ARATANA THERAPEUTICS, INC.  0.03678\n",
       "13          IMPRIMIS PHARMACEUTICALS, INC.  0.04181\n",
       "14                           LIPOCINE INC.  0.00683\n",
       "15                   VTV THERAPEUTICS INC.  0.02372\n",
       "16                       MERCK & CO., INC.  0.20000\n",
       "17               STEMLINE THERAPEUTICS INC  0.04273\n",
       "18               CYTOMX THERAPEUTICS, INC.  0.00520\n",
       "19                    HEAT BIOLOGICS, INC.  0.00297\n",
       "20                      RECRO PHARMA, INC.  0.02010"
      ]
     },
     "execution_count": 14,
     "metadata": {},
     "output_type": "execute_result"
    }
   ],
   "source": [
    "pd.read_csv(\"data/min_vol_sample_Pharmaceutical_Preparations.csv\")"
   ]
  },
  {
   "cell_type": "markdown",
   "id": "d1959343",
   "metadata": {},
   "source": [
    "### Results for the Other 4 Industries"
   ]
  },
  {
   "cell_type": "code",
   "execution_count": 15,
   "id": "be7bbb78",
   "metadata": {
    "tags": [
     "remove-input"
    ]
   },
   "outputs": [],
   "source": [
    "SIC_list = [7372, 1311, 6798, 6022]\n",
    "SIC_desc = ['Prepackaged Software (mass reproduction of software)', 'Crude Petroleum and Natural Gas', \n",
    "           'Real Estate Investment Trusts', 'State Commercial Banks (commercial banking)']"
   ]
  },
  {
   "cell_type": "markdown",
   "id": "1dc7e46a",
   "metadata": {},
   "source": [
    "#### Prepackaged Software (mass reproduction of software)"
   ]
  },
  {
   "cell_type": "code",
   "execution_count": 16,
   "id": "f9066d2b",
   "metadata": {
    "tags": [
     "remove-input"
    ]
   },
   "outputs": [
    {
     "data": {
      "image/png": "[encoded data removed]",
      "text/plain": [
       "<Figure size 432x288 with 1 Axes>"
      ]
     },
     "metadata": {
      "needs_background": "light"
     },
     "output_type": "display_data"
    }
   ],
   "source": [
    "SIC = SIC_list[0]\n",
    "    \n",
    "industry_name = SIC_desc[SIC_list.index(SIC)]\n",
    "    \n",
    "# get the names of the companies in the other industries\n",
    "Companies = df[df.SIC == SIC]\n",
    "Company_list = Companies.index\n",
    "\n",
    "# get the companies name that match return data and business description data\n",
    "SET = (set(Company_list) & set(r_selected.index))\n",
    "LIST = [*SET, ]\n",
    "\n",
    "mu_sample = mu[LIST]\n",
    "# get the outliers\n",
    "outlier = mu_sample[mu_sample>1].index\n",
    "mu_sample = mu_sample.drop(outlier)\n",
    "LIST = mu_sample.index\n",
    "\n",
    "tmp = cov[LIST].T\n",
    "cov_sample = tmp[LIST]\n",
    "\n",
    "# perform minimum variance analysis\n",
    "ef1 = EfficientFrontier(mu_sample, cov_sample, weight_bounds=(0, 0.2))\n",
    "\n",
    "fig, ax = plt.subplots()\n",
    "plotting.plot_efficient_frontier(ef1, ax=ax, show_assets=True)\n",
    "\n",
    "# Find and plot the tangency portfolio\n",
    "ef2 = EfficientFrontier(mu_sample, cov_sample, weight_bounds=(0, 0.2))\n",
    "# min volatility\n",
    "ef2.min_volatility()\n",
    "ret_tangent, std_tangent, _ = ef2.portfolio_performance()\n",
    "ax.scatter(std_tangent, ret_tangent, marker=\"*\", s=100, c=\"r\", label=\"Min Volatility\")\n",
    "\n",
    "# Format\n",
    "ax.set_title(\"Efficient Frontier - %s \\n Sample Covariance Estimates\" %industry_name)\n",
    "ax.legend()\n",
    "plt.tight_layout()\n",
    "plt.savefig('images/Efficient_Frontier_Sample_Covariance_Estimates' + str(industry_name) + '.png', dpi=200, bbox_inches='tight')\n",
    "plt.show()"
   ]
  },
  {
   "cell_type": "markdown",
   "id": "32f1139f",
   "metadata": {},
   "source": [
    "##### Min Volatility Portfolio"
   ]
  },
  {
   "cell_type": "markdown",
   "id": "16830a0f",
   "metadata": {},
   "source": [
    "###### Performance"
   ]
  },
  {
   "cell_type": "code",
   "execution_count": 17,
   "id": "5d45e1d6",
   "metadata": {
    "tags": [
     "remove-input"
    ]
   },
   "outputs": [
    {
     "name": "stdout",
     "output_type": "stream",
     "text": [
      "Expected annual return: 0.6%\n",
      "Annual volatility: 2.4%\n",
      "Sharpe Ratio: -0.57\n"
     ]
    }
   ],
   "source": [
    "ef2.portfolio_performance(verbose=True);"
   ]
  },
  {
   "cell_type": "markdown",
   "id": "38ee9c2a",
   "metadata": {},
   "source": [
    "###### Weights"
   ]
  },
  {
   "cell_type": "code",
   "execution_count": 18,
   "id": "d3cf439d",
   "metadata": {
    "tags": [
     "remove-input"
    ]
   },
   "outputs": [
    {
     "data": {
      "text/html": [
       "<div>\n",
       "<style scoped>\n",
       "    .dataframe tbody tr th:only-of-type {\n",
       "        vertical-align: middle;\n",
       "    }\n",
       "\n",
       "    .dataframe tbody tr th {\n",
       "        vertical-align: top;\n",
       "    }\n",
       "\n",
       "    .dataframe thead th {\n",
       "        text-align: right;\n",
       "    }\n",
       "</style>\n",
       "<table border=\"1\" class=\"dataframe\">\n",
       "  <thead>\n",
       "    <tr style=\"text-align: right;\">\n",
       "      <th></th>\n",
       "      <th>Company_Name</th>\n",
       "      <th>Weight</th>\n",
       "    </tr>\n",
       "  </thead>\n",
       "  <tbody>\n",
       "    <tr>\n",
       "      <th>0</th>\n",
       "      <td>MAJESCO</td>\n",
       "      <td>0.01906</td>\n",
       "    </tr>\n",
       "    <tr>\n",
       "      <th>1</th>\n",
       "      <td>NUANCE COMMUNICATIONS, INC.</td>\n",
       "      <td>0.08608</td>\n",
       "    </tr>\n",
       "    <tr>\n",
       "      <th>2</th>\n",
       "      <td>AWARE INC /MA/</td>\n",
       "      <td>0.20000</td>\n",
       "    </tr>\n",
       "    <tr>\n",
       "      <th>3</th>\n",
       "      <td>MICROSTRATEGY INC</td>\n",
       "      <td>0.02160</td>\n",
       "    </tr>\n",
       "    <tr>\n",
       "      <th>4</th>\n",
       "      <td>QUMU CORP</td>\n",
       "      <td>0.05153</td>\n",
       "    </tr>\n",
       "    <tr>\n",
       "      <th>5</th>\n",
       "      <td>ROSETTA STONE INC</td>\n",
       "      <td>0.01647</td>\n",
       "    </tr>\n",
       "    <tr>\n",
       "      <th>6</th>\n",
       "      <td>COMMVAULT SYSTEMS INC</td>\n",
       "      <td>0.07381</td>\n",
       "    </tr>\n",
       "    <tr>\n",
       "      <th>7</th>\n",
       "      <td>ENDURANCE INTERNATIONAL GROUP HOLDINGS, INC.</td>\n",
       "      <td>0.02554</td>\n",
       "    </tr>\n",
       "    <tr>\n",
       "      <th>8</th>\n",
       "      <td>QUALYS, INC.</td>\n",
       "      <td>0.06668</td>\n",
       "    </tr>\n",
       "    <tr>\n",
       "      <th>9</th>\n",
       "      <td>LIVEPERSON INC</td>\n",
       "      <td>0.01519</td>\n",
       "    </tr>\n",
       "    <tr>\n",
       "      <th>10</th>\n",
       "      <td>ZEDGE, INC.</td>\n",
       "      <td>0.01792</td>\n",
       "    </tr>\n",
       "    <tr>\n",
       "      <th>11</th>\n",
       "      <td>AVID TECHNOLOGY, INC.</td>\n",
       "      <td>0.00129</td>\n",
       "    </tr>\n",
       "    <tr>\n",
       "      <th>12</th>\n",
       "      <td>BLACK KNIGHT, INC.</td>\n",
       "      <td>0.20000</td>\n",
       "    </tr>\n",
       "    <tr>\n",
       "      <th>13</th>\n",
       "      <td>ACI WORLDWIDE, INC.</td>\n",
       "      <td>0.11314</td>\n",
       "    </tr>\n",
       "    <tr>\n",
       "      <th>14</th>\n",
       "      <td>ORACLE CORP</td>\n",
       "      <td>0.09170</td>\n",
       "    </tr>\n",
       "  </tbody>\n",
       "</table>\n",
       "</div>"
      ],
      "text/plain": [
       "                                    Company_Name   Weight\n",
       "0                                        MAJESCO  0.01906\n",
       "1                    NUANCE COMMUNICATIONS, INC.  0.08608\n",
       "2                                 AWARE INC /MA/  0.20000\n",
       "3                              MICROSTRATEGY INC  0.02160\n",
       "4                                      QUMU CORP  0.05153\n",
       "5                              ROSETTA STONE INC  0.01647\n",
       "6                          COMMVAULT SYSTEMS INC  0.07381\n",
       "7   ENDURANCE INTERNATIONAL GROUP HOLDINGS, INC.  0.02554\n",
       "8                                   QUALYS, INC.  0.06668\n",
       "9                                 LIVEPERSON INC  0.01519\n",
       "10                                   ZEDGE, INC.  0.01792\n",
       "11                         AVID TECHNOLOGY, INC.  0.00129\n",
       "12                            BLACK KNIGHT, INC.  0.20000\n",
       "13                           ACI WORLDWIDE, INC.  0.11314\n",
       "14                                   ORACLE CORP  0.09170"
      ]
     },
     "execution_count": 18,
     "metadata": {},
     "output_type": "execute_result"
    }
   ],
   "source": [
    "pd.read_csv(\"data/min_vol_sample_Prepackaged_Software.csv\")"
   ]
  },
  {
   "cell_type": "markdown",
   "id": "fc5e7a17",
   "metadata": {},
   "source": [
    "#### Crude Petroleum and Natural Gas\n",
    "When we conduct the same analysis, there is no weight shown. Efficient frontier cannot be found."
   ]
  },
  {
   "cell_type": "markdown",
   "id": "b647a7f7",
   "metadata": {},
   "source": [
    "#### Real Estate Investment Trusts"
   ]
  },
  {
   "cell_type": "code",
   "execution_count": 19,
   "id": "2548ca70",
   "metadata": {
    "tags": [
     "remove-input"
    ]
   },
   "outputs": [
    {
     "data": {
      "image/png": "[encoded data removed]",
      "text/plain": [
       "<Figure size 432x288 with 1 Axes>"
      ]
     },
     "metadata": {
      "needs_background": "light"
     },
     "output_type": "display_data"
    }
   ],
   "source": [
    "SIC = SIC_list[2]\n",
    "    \n",
    "industry_name = SIC_desc[SIC_list.index(SIC)]\n",
    "    \n",
    "# get the names of the companies in the other industries\n",
    "Companies = df[df.SIC == SIC]\n",
    "Company_list = Companies.index\n",
    "\n",
    "# get the companies name that match return data and business description data\n",
    "SET = (set(Company_list) & set(r_selected.index))\n",
    "LIST = [*SET, ]\n",
    "\n",
    "mu_sample = mu[LIST]\n",
    "# get the outliers\n",
    "outlier = mu_sample[mu_sample>1].index\n",
    "mu_sample = mu_sample.drop(outlier)\n",
    "LIST = mu_sample.index\n",
    "\n",
    "tmp = cov[LIST].T\n",
    "cov_sample = tmp[LIST]\n",
    "\n",
    "# perform minimum variance analysis\n",
    "ef1 = EfficientFrontier(mu_sample, cov_sample, weight_bounds=(0, 0.2))\n",
    "\n",
    "fig, ax = plt.subplots()\n",
    "plotting.plot_efficient_frontier(ef1, ax=ax, show_assets=True)\n",
    "\n",
    "# Find and plot the tangency portfolio\n",
    "ef2 = EfficientFrontier(mu_sample, cov_sample, weight_bounds=(0, 0.2))\n",
    "# min volatility\n",
    "ef2.min_volatility()\n",
    "ret_tangent, std_tangent, _ = ef2.portfolio_performance()\n",
    "ax.scatter(std_tangent, ret_tangent, marker=\"*\", s=100, c=\"r\", label=\"Min Volatility\")\n",
    "\n",
    "# Format\n",
    "ax.set_title(\"Efficient Frontier - %s \\n Sample Covariance Estimates\" %industry_name)\n",
    "ax.legend()\n",
    "plt.tight_layout()\n",
    "plt.savefig('images/Efficient_Frontier_Sample_Covariance_Estimates' + str(industry_name) + '.png', dpi=200, bbox_inches='tight')\n",
    "plt.show()"
   ]
  },
  {
   "cell_type": "markdown",
   "id": "460672e3",
   "metadata": {},
   "source": [
    "##### Min Volatility Portfolio"
   ]
  },
  {
   "cell_type": "markdown",
   "id": "4f94fd2b",
   "metadata": {},
   "source": [
    "###### Performance"
   ]
  },
  {
   "cell_type": "code",
   "execution_count": 20,
   "id": "85ee33ba",
   "metadata": {
    "tags": [
     "remove-input"
    ]
   },
   "outputs": [
    {
     "name": "stdout",
     "output_type": "stream",
     "text": [
      "Expected annual return: 0.5%\n",
      "Annual volatility: 1.8%\n",
      "Sharpe Ratio: -0.80\n"
     ]
    }
   ],
   "source": [
    "ef2.portfolio_performance(verbose=True);"
   ]
  },
  {
   "cell_type": "markdown",
   "id": "b41571c6",
   "metadata": {},
   "source": [
    "###### Weights"
   ]
  },
  {
   "cell_type": "code",
   "execution_count": 21,
   "id": "9717278d",
   "metadata": {
    "tags": [
     "remove-input"
    ]
   },
   "outputs": [
    {
     "data": {
      "text/html": [
       "<div>\n",
       "<style scoped>\n",
       "    .dataframe tbody tr th:only-of-type {\n",
       "        vertical-align: middle;\n",
       "    }\n",
       "\n",
       "    .dataframe tbody tr th {\n",
       "        vertical-align: top;\n",
       "    }\n",
       "\n",
       "    .dataframe thead th {\n",
       "        text-align: right;\n",
       "    }\n",
       "</style>\n",
       "<table border=\"1\" class=\"dataframe\">\n",
       "  <thead>\n",
       "    <tr style=\"text-align: right;\">\n",
       "      <th></th>\n",
       "      <th>Company_Name</th>\n",
       "      <th>Weight</th>\n",
       "    </tr>\n",
       "  </thead>\n",
       "  <tbody>\n",
       "    <tr>\n",
       "      <th>0</th>\n",
       "      <td>BRT APARTMENTS CORP.</td>\n",
       "      <td>0.01724</td>\n",
       "    </tr>\n",
       "    <tr>\n",
       "      <th>1</th>\n",
       "      <td>PUBLIC STORAGE</td>\n",
       "      <td>0.10938</td>\n",
       "    </tr>\n",
       "    <tr>\n",
       "      <th>2</th>\n",
       "      <td>GREAT AJAX CORP.</td>\n",
       "      <td>0.20000</td>\n",
       "    </tr>\n",
       "    <tr>\n",
       "      <th>3</th>\n",
       "      <td>ALEXANDERS INC</td>\n",
       "      <td>0.02285</td>\n",
       "    </tr>\n",
       "    <tr>\n",
       "      <th>4</th>\n",
       "      <td>LADDER CAPITAL CORP</td>\n",
       "      <td>0.04420</td>\n",
       "    </tr>\n",
       "    <tr>\n",
       "      <th>5</th>\n",
       "      <td>CIM COMMERCIAL TRUST CORP</td>\n",
       "      <td>0.05461</td>\n",
       "    </tr>\n",
       "    <tr>\n",
       "      <th>6</th>\n",
       "      <td>ARES COMMERCIAL REAL ESTATE CORP</td>\n",
       "      <td>0.09107</td>\n",
       "    </tr>\n",
       "    <tr>\n",
       "      <th>7</th>\n",
       "      <td>MANHATTAN BRIDGE CAPITAL, INC</td>\n",
       "      <td>0.01483</td>\n",
       "    </tr>\n",
       "    <tr>\n",
       "      <th>8</th>\n",
       "      <td>HMG COURTLAND PROPERTIES INC</td>\n",
       "      <td>0.12513</td>\n",
       "    </tr>\n",
       "    <tr>\n",
       "      <th>9</th>\n",
       "      <td>NEW YORK MORTGAGE TRUST INC</td>\n",
       "      <td>0.02084</td>\n",
       "    </tr>\n",
       "    <tr>\n",
       "      <th>10</th>\n",
       "      <td>EQUITY COMMONWEALTH</td>\n",
       "      <td>0.20000</td>\n",
       "    </tr>\n",
       "    <tr>\n",
       "      <th>11</th>\n",
       "      <td>CROWN CASTLE INTERNATIONAL CORP</td>\n",
       "      <td>0.04875</td>\n",
       "    </tr>\n",
       "    <tr>\n",
       "      <th>12</th>\n",
       "      <td>IMPAC MORTGAGE HOLDINGS INC</td>\n",
       "      <td>0.05108</td>\n",
       "    </tr>\n",
       "  </tbody>\n",
       "</table>\n",
       "</div>"
      ],
      "text/plain": [
       "                        Company_Name   Weight\n",
       "0               BRT APARTMENTS CORP.  0.01724\n",
       "1                     PUBLIC STORAGE  0.10938\n",
       "2                   GREAT AJAX CORP.  0.20000\n",
       "3                     ALEXANDERS INC  0.02285\n",
       "4                LADDER CAPITAL CORP  0.04420\n",
       "5          CIM COMMERCIAL TRUST CORP  0.05461\n",
       "6   ARES COMMERCIAL REAL ESTATE CORP  0.09107\n",
       "7      MANHATTAN BRIDGE CAPITAL, INC  0.01483\n",
       "8       HMG COURTLAND PROPERTIES INC  0.12513\n",
       "9        NEW YORK MORTGAGE TRUST INC  0.02084\n",
       "10               EQUITY COMMONWEALTH  0.20000\n",
       "11   CROWN CASTLE INTERNATIONAL CORP  0.04875\n",
       "12       IMPAC MORTGAGE HOLDINGS INC  0.05108"
      ]
     },
     "execution_count": 21,
     "metadata": {},
     "output_type": "execute_result"
    }
   ],
   "source": [
    "pd.read_csv(\"data/min_vol_sample_Real_Estate_Investment_Trusts.csv\")"
   ]
  },
  {
   "cell_type": "markdown",
   "id": "2969d194",
   "metadata": {},
   "source": [
    "#### State Commercial Banks (commercial banking)"
   ]
  },
  {
   "cell_type": "code",
   "execution_count": 22,
   "id": "d5f19af6",
   "metadata": {
    "tags": [
     "remove-input"
    ]
   },
   "outputs": [
    {
     "data": {
      "image/png": "[encoded data removed]",
      "text/plain": [
       "<Figure size 432x288 with 1 Axes>"
      ]
     },
     "metadata": {
      "needs_background": "light"
     },
     "output_type": "display_data"
    }
   ],
   "source": [
    "SIC = SIC_list[3]\n",
    "    \n",
    "industry_name = SIC_desc[SIC_list.index(SIC)]\n",
    "    \n",
    "# get the names of the companies in the other industries\n",
    "Companies = df[df.SIC == SIC]\n",
    "Company_list = Companies.index\n",
    "\n",
    "# get the companies name that match return data and business description data\n",
    "SET = (set(Company_list) & set(r_selected.index))\n",
    "LIST = [*SET, ]\n",
    "\n",
    "mu_sample = mu[LIST]\n",
    "# get the outliers\n",
    "outlier = mu_sample[mu_sample>1].index\n",
    "mu_sample = mu_sample.drop(outlier)\n",
    "LIST = mu_sample.index\n",
    "\n",
    "tmp = cov[LIST].T\n",
    "cov_sample = tmp[LIST]\n",
    "\n",
    "# perform minimum variance analysis\n",
    "ef1 = EfficientFrontier(mu_sample, cov_sample, weight_bounds=(0, 0.2))\n",
    "\n",
    "fig, ax = plt.subplots()\n",
    "plotting.plot_efficient_frontier(ef1, ax=ax, show_assets=True)\n",
    "\n",
    "# Find and plot the tangency portfolio\n",
    "ef2 = EfficientFrontier(mu_sample, cov_sample, weight_bounds=(0, 0.2))\n",
    "# min volatility\n",
    "ef2.min_volatility()\n",
    "ret_tangent, std_tangent, _ = ef2.portfolio_performance()\n",
    "ax.scatter(std_tangent, ret_tangent, marker=\"*\", s=100, c=\"r\", label=\"Min Volatility\")\n",
    "\n",
    "# Format\n",
    "ax.set_title(\"Efficient Frontier - %s \\n Sample Covariance Estimates\" %industry_name)\n",
    "ax.legend()\n",
    "plt.tight_layout()\n",
    "plt.savefig('images/Efficient_Frontier_Sample_Covariance_Estimates' + str(industry_name) + '.png', dpi=200, bbox_inches='tight')\n",
    "plt.show()"
   ]
  },
  {
   "cell_type": "markdown",
   "id": "16606fec",
   "metadata": {},
   "source": [
    "##### Min Volatility Portfolio"
   ]
  },
  {
   "cell_type": "markdown",
   "id": "514ee9d9",
   "metadata": {},
   "source": [
    "###### Performance"
   ]
  },
  {
   "cell_type": "code",
   "execution_count": 23,
   "id": "20cfa5e9",
   "metadata": {
    "tags": [
     "remove-input"
    ]
   },
   "outputs": [
    {
     "name": "stdout",
     "output_type": "stream",
     "text": [
      "Expected annual return: 1.2%\n",
      "Annual volatility: 2.7%\n",
      "Sharpe Ratio: -0.28\n"
     ]
    }
   ],
   "source": [
    "ef2.portfolio_performance(verbose=True);"
   ]
  },
  {
   "cell_type": "markdown",
   "id": "6f6a25ce",
   "metadata": {},
   "source": [
    "###### Weights"
   ]
  },
  {
   "cell_type": "code",
   "execution_count": 24,
   "id": "4cdfa66e",
   "metadata": {
    "tags": [
     "remove-input"
    ]
   },
   "outputs": [
    {
     "data": {
      "text/html": [
       "<div>\n",
       "<style scoped>\n",
       "    .dataframe tbody tr th:only-of-type {\n",
       "        vertical-align: middle;\n",
       "    }\n",
       "\n",
       "    .dataframe tbody tr th {\n",
       "        vertical-align: top;\n",
       "    }\n",
       "\n",
       "    .dataframe thead th {\n",
       "        text-align: right;\n",
       "    }\n",
       "</style>\n",
       "<table border=\"1\" class=\"dataframe\">\n",
       "  <thead>\n",
       "    <tr style=\"text-align: right;\">\n",
       "      <th></th>\n",
       "      <th>Company_Name</th>\n",
       "      <th>Weight</th>\n",
       "    </tr>\n",
       "  </thead>\n",
       "  <tbody>\n",
       "    <tr>\n",
       "      <th>0</th>\n",
       "      <td>RELIANT BANCORP, INC.</td>\n",
       "      <td>0.12273</td>\n",
       "    </tr>\n",
       "    <tr>\n",
       "      <th>1</th>\n",
       "      <td>CAROLINA TRUST BANCSHARES, INC.</td>\n",
       "      <td>0.11786</td>\n",
       "    </tr>\n",
       "    <tr>\n",
       "      <th>2</th>\n",
       "      <td>INVESTAR HOLDING CORP</td>\n",
       "      <td>0.19440</td>\n",
       "    </tr>\n",
       "    <tr>\n",
       "      <th>3</th>\n",
       "      <td>FIRST COMMUNITY CORP /SC/</td>\n",
       "      <td>0.05076</td>\n",
       "    </tr>\n",
       "    <tr>\n",
       "      <th>4</th>\n",
       "      <td>VILLAGE BANK &amp; TRUST FINANCIAL CORP.</td>\n",
       "      <td>0.13994</td>\n",
       "    </tr>\n",
       "    <tr>\n",
       "      <th>5</th>\n",
       "      <td>BANK OF THE JAMES FINANCIAL GROUP INC</td>\n",
       "      <td>0.00178</td>\n",
       "    </tr>\n",
       "    <tr>\n",
       "      <th>6</th>\n",
       "      <td>CITIZENS &amp; NORTHERN CORP</td>\n",
       "      <td>0.05375</td>\n",
       "    </tr>\n",
       "    <tr>\n",
       "      <th>7</th>\n",
       "      <td>BANK OF NEW YORK MELLON CORP</td>\n",
       "      <td>0.09533</td>\n",
       "    </tr>\n",
       "    <tr>\n",
       "      <th>8</th>\n",
       "      <td>FAUQUIER BANKSHARES, INC.</td>\n",
       "      <td>0.02143</td>\n",
       "    </tr>\n",
       "    <tr>\n",
       "      <th>9</th>\n",
       "      <td>MACKINAC FINANCIAL CORP /MI/</td>\n",
       "      <td>0.02478</td>\n",
       "    </tr>\n",
       "    <tr>\n",
       "      <th>10</th>\n",
       "      <td>GUARANTY FEDERAL BANCSHARES INC</td>\n",
       "      <td>0.17724</td>\n",
       "    </tr>\n",
       "  </tbody>\n",
       "</table>\n",
       "</div>"
      ],
      "text/plain": [
       "                             Company_Name   Weight\n",
       "0                   RELIANT BANCORP, INC.  0.12273\n",
       "1         CAROLINA TRUST BANCSHARES, INC.  0.11786\n",
       "2                   INVESTAR HOLDING CORP  0.19440\n",
       "3               FIRST COMMUNITY CORP /SC/  0.05076\n",
       "4    VILLAGE BANK & TRUST FINANCIAL CORP.  0.13994\n",
       "5   BANK OF THE JAMES FINANCIAL GROUP INC  0.00178\n",
       "6                CITIZENS & NORTHERN CORP  0.05375\n",
       "7            BANK OF NEW YORK MELLON CORP  0.09533\n",
       "8               FAUQUIER BANKSHARES, INC.  0.02143\n",
       "9            MACKINAC FINANCIAL CORP /MI/  0.02478\n",
       "10        GUARANTY FEDERAL BANCSHARES INC  0.17724"
      ]
     },
     "execution_count": 24,
     "metadata": {},
     "output_type": "execute_result"
    }
   ],
   "source": [
    "pd.read_csv(\"data/min_vol_sample_State_Commercial_Banks.csv\")"
   ]
  }
 ],
 "metadata": {
  "celltoolbar": "Edit Metadata",
  "kernelspec": {
   "display_name": "Python 3 (ipykernel)",
   "language": "python",
   "name": "python3"
  },
  "language_info": {
   "codemirror_mode": {
    "name": "ipython",
    "version": 3
   },
   "file_extension": ".py",
   "mimetype": "text/x-python",
   "name": "python",
   "nbconvert_exporter": "python",
   "pygments_lexer": "ipython3",
   "version": "3.9.7"
  }
 },
 "nbformat": 4,
 "nbformat_minor": 5
}

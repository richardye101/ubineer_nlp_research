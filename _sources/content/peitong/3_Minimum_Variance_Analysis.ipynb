{
 "cells": [
  {
   "cell_type": "code",
   "execution_count": 1,
   "id": "1bcaa702",
   "metadata": {
    "tags": [
     "remove-input"
    ]
   },
   "outputs": [],
   "source": [
    "import sys\n",
    "sys.path.insert(0, '..')\n",
    "%load_ext autoreload\n",
    "%autoreload 2\n",
    "%aimport std_func"
   ]
  },
  {
   "cell_type": "code",
   "execution_count": 2,
   "id": "ac5e5cb6",
   "metadata": {
    "tags": [
     "hide-input"
    ]
   },
   "outputs": [],
   "source": [
    "import pandas as pd\n",
    "import numpy as np\n",
    "import matplotlib.pyplot as plt\n",
    "import seaborn as sns"
   ]
  },
  {
   "cell_type": "markdown",
   "id": "d9148826",
   "metadata": {},
   "source": [
    "## Mean-Variance Analysis - Minimum Variance\n",
    "\n",
    "Mean-variance analysis is a mathematical framework that examplifies the trade-off between return and risk. It is used to create diversified portfolios based on investors’ expectation. There are one main approach used in this report. We have the minimum volatility portfolio that concentrates on minimizing the risk of the portfolio. Mimimum variance portfolio can help us compare the correlation of simple sample covariance, covariance generated using cosine similarity distances and covariance generated using factor model in Sent-LDA."
   ]
  },
  {
   "cell_type": "markdown",
   "id": "26343f60",
   "metadata": {},
   "source": [
    "### Monthly Returns\n",
    "Since we will generate cosine similarity estimates in the next notebook using business description of companies from 2016 to 2018. We only consider monthly returns before 2019."
   ]
  },
  {
   "cell_type": "code",
   "execution_count": 3,
   "id": "66f11a5d",
   "metadata": {
    "tags": [
     "remove-input"
    ]
   },
   "outputs": [],
   "source": [
    "#returns_data = pd.read_csv('../data/returns_2018_top5_SIC.csv', \n",
    "#                      parse_dates = ['DATE'], \n",
    "#                      usecols = [\"trt1m\", \"CIK\", \"name\", \"DATE\"])"
   ]
  },
  {
   "cell_type": "code",
   "execution_count": 4,
   "id": "d054cea0",
   "metadata": {
    "tags": [
     "remove-input"
    ]
   },
   "outputs": [],
   "source": [
    "# TAKE OUT THE DATA before 2019 and reset index\n",
    "#end_date = pd.to_datetime('2019-01-01')\n",
    "#returns = returns_data.loc[returns_data['DATE'] < end_date]\n",
    "\n",
    "# drop the missing value\n",
    "#returns = returns.dropna()\n",
    "# group the data by name and date\n",
    "#group_returns = returns.groupby(['name', 'DATE'])\n",
    "# calculate the percentage return\n",
    "#group_returns_pct = group_returns.agg({\"trt1m\": (lambda x:  x/100)})\n",
    "#r_selected = group_returns_pct.unstack()\n",
    "# drop the first index\n",
    "#r_selected.columns = r_selected.columns.droplevel(0)"
   ]
  },
  {
   "cell_type": "code",
   "execution_count": 5,
   "id": "233c60c5",
   "metadata": {
    "tags": [
     "remove-input"
    ]
   },
   "outputs": [],
   "source": [
    "# there are some rows containing more than one float number (array of multiple returns)\n",
    "#for i in range(len(r_selected)):\n",
    "#    if type(r_selected.iloc[i,1]) == np.ndarray:\n",
    "#        r_selected = r_selected.drop(index = r_selected.index[i])\n",
    "# convert object to float\n",
    "#r_selected = r_selected.astype(float)\n",
    "# drop missing values rows\n",
    "#r_selected = r_selected.dropna()\n",
    "#r_selected.to_csv(\"filtered_r.csv\")\n",
    "# get the mean of all \n",
    "#mu = r_selected.mean(axis = 1)\n",
    "# compute the covariance matrix \n",
    "#cov = r_selected.T.cov()"
   ]
  },
  {
   "cell_type": "code",
   "execution_count": 6,
   "id": "bd502542",
   "metadata": {
    "tags": [
     "hide-input"
    ]
   },
   "outputs": [],
   "source": [
    "r_selected = pd.read_csv(\"filtered_r.csv\")\n",
    "# get the mean of all \n",
    "r_selected.set_index(\"name\", inplace = True)\n",
    "mu = r_selected.mean(axis = 1)\n",
    "# compute the covariance matrix \n",
    "cov = r_selected.T.cov()"
   ]
  },
  {
   "cell_type": "code",
   "execution_count": 7,
   "id": "3406d469",
   "metadata": {
    "tags": [
     "remove-input"
    ]
   },
   "outputs": [],
   "source": [
    "## Cosine Similarity"
   ]
  },
  {
   "cell_type": "code",
   "execution_count": 8,
   "id": "12637e4f",
   "metadata": {
    "tags": [
     "remove-input"
    ]
   },
   "outputs": [],
   "source": [
    "df = pd.read_csv('../data/preprocessed.csv',\n",
    "                 usecols = ['reportingDate', 'name', 'CIK',\n",
    "                           'coDescription_stopwords', 'SIC', 'SIC_desc'])\n",
    "df = df.set_index(df.name)"
   ]
  },
  {
   "cell_type": "code",
   "execution_count": 9,
   "id": "dac58bb7",
   "metadata": {
    "tags": [
     "remove-input"
    ]
   },
   "outputs": [],
   "source": [
    "from sklearn.feature_extraction.text import CountVectorizer\n",
    "\n",
    "Vectorizer = CountVectorizer(ngram_range = (2,4), \n",
    "                             max_features = 600)\n",
    "\n",
    "count_data = Vectorizer.fit_transform(df['coDescription_stopwords'])\n",
    "wordsCount = pd.DataFrame(count_data.toarray(),columns=Vectorizer.get_feature_names_out())\n",
    "wordsCount = wordsCount.set_index(df['name'])"
   ]
  },
  {
   "cell_type": "code",
   "execution_count": 10,
   "id": "4d76062d",
   "metadata": {
    "tags": [
     "remove-input"
    ]
   },
   "outputs": [],
   "source": [
    "#### Cosine Similarity Computation"
   ]
  },
  {
   "cell_type": "code",
   "execution_count": 11,
   "id": "d993e48d",
   "metadata": {
    "tags": [
     "remove-input"
    ]
   },
   "outputs": [],
   "source": [
    "# Compute Cosine Similarity\n",
    "from sklearn.metrics.pairwise import cosine_similarity\n",
    "cosine_sim = pd.DataFrame(cosine_similarity(wordsCount, wordsCount))\n",
    "cosine_sim = cosine_sim.set_index(df['name'])\n",
    "cosine_sim.columns = df['name']\n",
    "#cosine_sim"
   ]
  },
  {
   "cell_type": "markdown",
   "id": "70db3425",
   "metadata": {},
   "source": [
    "### Perform Mean-Variance Analysis"
   ]
  },
  {
   "cell_type": "code",
   "execution_count": 12,
   "id": "f245cf2e",
   "metadata": {
    "tags": [
     "hide-input"
    ]
   },
   "outputs": [],
   "source": [
    "from pypfopt import EfficientFrontier\n",
    "from pypfopt import risk_models\n",
    "from pypfopt import expected_returns\n",
    "from pypfopt import objective_functions\n",
    "from pypfopt import plotting"
   ]
  },
  {
   "cell_type": "code",
   "execution_count": 13,
   "id": "b9f6cdc4",
   "metadata": {
    "tags": [
     "hide-input"
    ]
   },
   "outputs": [],
   "source": [
    "# get the names of the companies in the pharmaceutical preparations industry\n",
    "Pharm = df[df.SIC == 2834]\n",
    "Pharm_list = Pharm.index"
   ]
  },
  {
   "cell_type": "code",
   "execution_count": 14,
   "id": "98c532c4",
   "metadata": {
    "scrolled": true,
    "tags": [
     "hide-input"
    ]
   },
   "outputs": [],
   "source": [
    "# get the companies name that match return data and business description data\n",
    "SET = (set(Pharm_list) & set(r_selected.index))\n",
    "LIST = [*SET, ]"
   ]
  },
  {
   "cell_type": "markdown",
   "id": "270561f4",
   "metadata": {},
   "source": [
    "#### Mean and Covariance for Returns in the Pharmaceutical Preparations Industry"
   ]
  },
  {
   "cell_type": "code",
   "execution_count": 15,
   "id": "7b6da842",
   "metadata": {
    "tags": [
     "hide-input"
    ]
   },
   "outputs": [
    {
     "data": {
      "text/plain": [
       "name\n",
       "EYEGATE PHARMACEUTICALS INC      -0.034348\n",
       "IMMUNOGEN INC                     0.021513\n",
       "PULMATRIX, INC.                   0.009480\n",
       "XENCOR INC                        0.040986\n",
       "HORIZON PHARMA PLC                0.011321\n",
       "                                    ...   \n",
       "AQUINOX PHARMACEUTICALS, INC     -0.004622\n",
       "FIVE PRIME THERAPEUTICS INC      -0.038194\n",
       "ULTRAGENYX PHARMACEUTICAL INC.   -0.000979\n",
       "ENDO INTERNATIONAL PLC           -0.006443\n",
       "RECRO PHARMA, INC.                0.008656\n",
       "Length: 124, dtype: float64"
      ]
     },
     "execution_count": 15,
     "metadata": {},
     "output_type": "execute_result"
    }
   ],
   "source": [
    "mu_Pharm = mu[LIST]\n",
    "mu_Pharm"
   ]
  },
  {
   "cell_type": "code",
   "execution_count": 16,
   "id": "8e72a50e",
   "metadata": {
    "tags": [
     "hide-input"
    ]
   },
   "outputs": [
    {
     "data": {
      "text/html": [
       "<div>\n",
       "<style scoped>\n",
       "    .dataframe tbody tr th:only-of-type {\n",
       "        vertical-align: middle;\n",
       "    }\n",
       "\n",
       "    .dataframe tbody tr th {\n",
       "        vertical-align: top;\n",
       "    }\n",
       "\n",
       "    .dataframe thead th {\n",
       "        text-align: right;\n",
       "    }\n",
       "</style>\n",
       "<table border=\"1\" class=\"dataframe\">\n",
       "  <thead>\n",
       "    <tr style=\"text-align: right;\">\n",
       "      <th>name</th>\n",
       "      <th>EYEGATE PHARMACEUTICALS INC</th>\n",
       "      <th>IMMUNOGEN INC</th>\n",
       "      <th>PULMATRIX, INC.</th>\n",
       "      <th>XENCOR INC</th>\n",
       "      <th>HORIZON PHARMA PLC</th>\n",
       "      <th>LILLY ELI &amp; CO</th>\n",
       "      <th>ALNYLAM PHARMACEUTICALS, INC.</th>\n",
       "      <th>CHEMBIO DIAGNOSTICS, INC.</th>\n",
       "      <th>IMPRIMIS PHARMACEUTICALS, INC.</th>\n",
       "      <th>LIGAND PHARMACEUTICALS INC</th>\n",
       "      <th>...</th>\n",
       "      <th>HERON THERAPEUTICS, INC. /DE/</th>\n",
       "      <th>CELGENE CORP /DE/</th>\n",
       "      <th>IRONWOOD PHARMACEUTICALS INC</th>\n",
       "      <th>XENON PHARMACEUTICALS INC.</th>\n",
       "      <th>OPHTHOTECH CORP.</th>\n",
       "      <th>AQUINOX PHARMACEUTICALS, INC</th>\n",
       "      <th>FIVE PRIME THERAPEUTICS INC</th>\n",
       "      <th>ULTRAGENYX PHARMACEUTICAL INC.</th>\n",
       "      <th>ENDO INTERNATIONAL PLC</th>\n",
       "      <th>RECRO PHARMA, INC.</th>\n",
       "    </tr>\n",
       "    <tr>\n",
       "      <th>name</th>\n",
       "      <th></th>\n",
       "      <th></th>\n",
       "      <th></th>\n",
       "      <th></th>\n",
       "      <th></th>\n",
       "      <th></th>\n",
       "      <th></th>\n",
       "      <th></th>\n",
       "      <th></th>\n",
       "      <th></th>\n",
       "      <th></th>\n",
       "      <th></th>\n",
       "      <th></th>\n",
       "      <th></th>\n",
       "      <th></th>\n",
       "      <th></th>\n",
       "      <th></th>\n",
       "      <th></th>\n",
       "      <th></th>\n",
       "      <th></th>\n",
       "      <th></th>\n",
       "    </tr>\n",
       "  </thead>\n",
       "  <tbody>\n",
       "    <tr>\n",
       "      <th>EYEGATE PHARMACEUTICALS INC</th>\n",
       "      <td>0.067765</td>\n",
       "      <td>0.008265</td>\n",
       "      <td>0.036116</td>\n",
       "      <td>0.003707</td>\n",
       "      <td>0.000763</td>\n",
       "      <td>0.005505</td>\n",
       "      <td>0.014804</td>\n",
       "      <td>0.001487</td>\n",
       "      <td>0.014236</td>\n",
       "      <td>-0.003018</td>\n",
       "      <td>...</td>\n",
       "      <td>0.006248</td>\n",
       "      <td>0.004158</td>\n",
       "      <td>0.010305</td>\n",
       "      <td>-0.005188</td>\n",
       "      <td>-0.011197</td>\n",
       "      <td>-0.002083</td>\n",
       "      <td>0.002977</td>\n",
       "      <td>0.012935</td>\n",
       "      <td>0.001302</td>\n",
       "      <td>0.000540</td>\n",
       "    </tr>\n",
       "    <tr>\n",
       "      <th>IMMUNOGEN INC</th>\n",
       "      <td>0.008265</td>\n",
       "      <td>0.054333</td>\n",
       "      <td>0.031164</td>\n",
       "      <td>0.002613</td>\n",
       "      <td>0.005660</td>\n",
       "      <td>0.001418</td>\n",
       "      <td>0.017972</td>\n",
       "      <td>0.002480</td>\n",
       "      <td>-0.000511</td>\n",
       "      <td>0.010364</td>\n",
       "      <td>...</td>\n",
       "      <td>0.009876</td>\n",
       "      <td>0.008285</td>\n",
       "      <td>0.008481</td>\n",
       "      <td>0.000785</td>\n",
       "      <td>0.005605</td>\n",
       "      <td>0.016301</td>\n",
       "      <td>0.003954</td>\n",
       "      <td>0.016139</td>\n",
       "      <td>-0.003940</td>\n",
       "      <td>0.001424</td>\n",
       "    </tr>\n",
       "    <tr>\n",
       "      <th>PULMATRIX, INC.</th>\n",
       "      <td>0.036116</td>\n",
       "      <td>0.031164</td>\n",
       "      <td>0.306222</td>\n",
       "      <td>-0.011031</td>\n",
       "      <td>-0.001549</td>\n",
       "      <td>0.009467</td>\n",
       "      <td>0.020250</td>\n",
       "      <td>-0.012933</td>\n",
       "      <td>-0.007801</td>\n",
       "      <td>0.005065</td>\n",
       "      <td>...</td>\n",
       "      <td>-0.002842</td>\n",
       "      <td>0.003889</td>\n",
       "      <td>-0.000049</td>\n",
       "      <td>0.002778</td>\n",
       "      <td>0.001751</td>\n",
       "      <td>0.008470</td>\n",
       "      <td>0.002333</td>\n",
       "      <td>0.014681</td>\n",
       "      <td>-0.009912</td>\n",
       "      <td>-0.012627</td>\n",
       "    </tr>\n",
       "    <tr>\n",
       "      <th>XENCOR INC</th>\n",
       "      <td>0.003707</td>\n",
       "      <td>0.002613</td>\n",
       "      <td>-0.011031</td>\n",
       "      <td>0.022963</td>\n",
       "      <td>0.007579</td>\n",
       "      <td>0.001555</td>\n",
       "      <td>0.002949</td>\n",
       "      <td>0.004722</td>\n",
       "      <td>-0.001048</td>\n",
       "      <td>0.004592</td>\n",
       "      <td>...</td>\n",
       "      <td>0.002171</td>\n",
       "      <td>0.002003</td>\n",
       "      <td>0.006714</td>\n",
       "      <td>-0.000965</td>\n",
       "      <td>0.002433</td>\n",
       "      <td>0.011319</td>\n",
       "      <td>0.005985</td>\n",
       "      <td>0.011092</td>\n",
       "      <td>0.001781</td>\n",
       "      <td>-0.003559</td>\n",
       "    </tr>\n",
       "    <tr>\n",
       "      <th>HORIZON PHARMA PLC</th>\n",
       "      <td>0.000763</td>\n",
       "      <td>0.005660</td>\n",
       "      <td>-0.001549</td>\n",
       "      <td>0.007579</td>\n",
       "      <td>0.014189</td>\n",
       "      <td>0.000764</td>\n",
       "      <td>0.006950</td>\n",
       "      <td>0.000456</td>\n",
       "      <td>0.001518</td>\n",
       "      <td>0.007058</td>\n",
       "      <td>...</td>\n",
       "      <td>0.004239</td>\n",
       "      <td>0.003863</td>\n",
       "      <td>0.001926</td>\n",
       "      <td>0.004863</td>\n",
       "      <td>0.013270</td>\n",
       "      <td>0.006688</td>\n",
       "      <td>0.007463</td>\n",
       "      <td>0.013208</td>\n",
       "      <td>-0.000178</td>\n",
       "      <td>-0.000387</td>\n",
       "    </tr>\n",
       "    <tr>\n",
       "      <th>...</th>\n",
       "      <td>...</td>\n",
       "      <td>...</td>\n",
       "      <td>...</td>\n",
       "      <td>...</td>\n",
       "      <td>...</td>\n",
       "      <td>...</td>\n",
       "      <td>...</td>\n",
       "      <td>...</td>\n",
       "      <td>...</td>\n",
       "      <td>...</td>\n",
       "      <td>...</td>\n",
       "      <td>...</td>\n",
       "      <td>...</td>\n",
       "      <td>...</td>\n",
       "      <td>...</td>\n",
       "      <td>...</td>\n",
       "      <td>...</td>\n",
       "      <td>...</td>\n",
       "      <td>...</td>\n",
       "      <td>...</td>\n",
       "      <td>...</td>\n",
       "    </tr>\n",
       "    <tr>\n",
       "      <th>AQUINOX PHARMACEUTICALS, INC</th>\n",
       "      <td>-0.002083</td>\n",
       "      <td>0.016301</td>\n",
       "      <td>0.008470</td>\n",
       "      <td>0.011319</td>\n",
       "      <td>0.006688</td>\n",
       "      <td>0.000891</td>\n",
       "      <td>0.009848</td>\n",
       "      <td>-0.001749</td>\n",
       "      <td>-0.000662</td>\n",
       "      <td>0.003048</td>\n",
       "      <td>...</td>\n",
       "      <td>-0.002289</td>\n",
       "      <td>0.006112</td>\n",
       "      <td>0.004297</td>\n",
       "      <td>-0.008879</td>\n",
       "      <td>-0.000505</td>\n",
       "      <td>0.044662</td>\n",
       "      <td>0.009508</td>\n",
       "      <td>0.015377</td>\n",
       "      <td>-0.008580</td>\n",
       "      <td>0.002959</td>\n",
       "    </tr>\n",
       "    <tr>\n",
       "      <th>FIVE PRIME THERAPEUTICS INC</th>\n",
       "      <td>0.002977</td>\n",
       "      <td>0.003954</td>\n",
       "      <td>0.002333</td>\n",
       "      <td>0.005985</td>\n",
       "      <td>0.007463</td>\n",
       "      <td>0.000214</td>\n",
       "      <td>0.007634</td>\n",
       "      <td>-0.002594</td>\n",
       "      <td>-0.010837</td>\n",
       "      <td>0.007070</td>\n",
       "      <td>...</td>\n",
       "      <td>-0.003428</td>\n",
       "      <td>0.003060</td>\n",
       "      <td>0.004857</td>\n",
       "      <td>0.006868</td>\n",
       "      <td>0.003760</td>\n",
       "      <td>0.009508</td>\n",
       "      <td>0.022705</td>\n",
       "      <td>0.009038</td>\n",
       "      <td>-0.004608</td>\n",
       "      <td>0.000236</td>\n",
       "    </tr>\n",
       "    <tr>\n",
       "      <th>ULTRAGENYX PHARMACEUTICAL INC.</th>\n",
       "      <td>0.012935</td>\n",
       "      <td>0.016139</td>\n",
       "      <td>0.014681</td>\n",
       "      <td>0.011092</td>\n",
       "      <td>0.013208</td>\n",
       "      <td>0.001649</td>\n",
       "      <td>0.015535</td>\n",
       "      <td>0.007680</td>\n",
       "      <td>-0.004799</td>\n",
       "      <td>0.012549</td>\n",
       "      <td>...</td>\n",
       "      <td>0.010569</td>\n",
       "      <td>0.008968</td>\n",
       "      <td>0.012150</td>\n",
       "      <td>0.012548</td>\n",
       "      <td>0.009574</td>\n",
       "      <td>0.015377</td>\n",
       "      <td>0.009038</td>\n",
       "      <td>0.031959</td>\n",
       "      <td>0.006636</td>\n",
       "      <td>-0.001879</td>\n",
       "    </tr>\n",
       "    <tr>\n",
       "      <th>ENDO INTERNATIONAL PLC</th>\n",
       "      <td>0.001302</td>\n",
       "      <td>-0.003940</td>\n",
       "      <td>-0.009912</td>\n",
       "      <td>0.001781</td>\n",
       "      <td>-0.000178</td>\n",
       "      <td>0.003087</td>\n",
       "      <td>0.006411</td>\n",
       "      <td>0.010691</td>\n",
       "      <td>0.000449</td>\n",
       "      <td>0.002724</td>\n",
       "      <td>...</td>\n",
       "      <td>0.004021</td>\n",
       "      <td>0.004700</td>\n",
       "      <td>0.004758</td>\n",
       "      <td>0.021544</td>\n",
       "      <td>0.004510</td>\n",
       "      <td>-0.008580</td>\n",
       "      <td>-0.004608</td>\n",
       "      <td>0.006636</td>\n",
       "      <td>0.037921</td>\n",
       "      <td>-0.000460</td>\n",
       "    </tr>\n",
       "    <tr>\n",
       "      <th>RECRO PHARMA, INC.</th>\n",
       "      <td>0.000540</td>\n",
       "      <td>0.001424</td>\n",
       "      <td>-0.012627</td>\n",
       "      <td>-0.003559</td>\n",
       "      <td>-0.000387</td>\n",
       "      <td>0.001061</td>\n",
       "      <td>0.007710</td>\n",
       "      <td>-0.005178</td>\n",
       "      <td>0.007558</td>\n",
       "      <td>-0.000395</td>\n",
       "      <td>...</td>\n",
       "      <td>0.002239</td>\n",
       "      <td>0.005652</td>\n",
       "      <td>0.004060</td>\n",
       "      <td>0.005044</td>\n",
       "      <td>0.003631</td>\n",
       "      <td>0.002959</td>\n",
       "      <td>0.000236</td>\n",
       "      <td>-0.001879</td>\n",
       "      <td>-0.000460</td>\n",
       "      <td>0.022964</td>\n",
       "    </tr>\n",
       "  </tbody>\n",
       "</table>\n",
       "<p>124 rows × 124 columns</p>\n",
       "</div>"
      ],
      "text/plain": [
       "name                            EYEGATE PHARMACEUTICALS INC  IMMUNOGEN INC  \\\n",
       "name                                                                         \n",
       "EYEGATE PHARMACEUTICALS INC                        0.067765       0.008265   \n",
       "IMMUNOGEN INC                                      0.008265       0.054333   \n",
       "PULMATRIX, INC.                                    0.036116       0.031164   \n",
       "XENCOR INC                                         0.003707       0.002613   \n",
       "HORIZON PHARMA PLC                                 0.000763       0.005660   \n",
       "...                                                     ...            ...   \n",
       "AQUINOX PHARMACEUTICALS, INC                      -0.002083       0.016301   \n",
       "FIVE PRIME THERAPEUTICS INC                        0.002977       0.003954   \n",
       "ULTRAGENYX PHARMACEUTICAL INC.                     0.012935       0.016139   \n",
       "ENDO INTERNATIONAL PLC                             0.001302      -0.003940   \n",
       "RECRO PHARMA, INC.                                 0.000540       0.001424   \n",
       "\n",
       "name                            PULMATRIX, INC.  XENCOR INC  \\\n",
       "name                                                          \n",
       "EYEGATE PHARMACEUTICALS INC            0.036116    0.003707   \n",
       "IMMUNOGEN INC                          0.031164    0.002613   \n",
       "PULMATRIX, INC.                        0.306222   -0.011031   \n",
       "XENCOR INC                            -0.011031    0.022963   \n",
       "HORIZON PHARMA PLC                    -0.001549    0.007579   \n",
       "...                                         ...         ...   \n",
       "AQUINOX PHARMACEUTICALS, INC           0.008470    0.011319   \n",
       "FIVE PRIME THERAPEUTICS INC            0.002333    0.005985   \n",
       "ULTRAGENYX PHARMACEUTICAL INC.         0.014681    0.011092   \n",
       "ENDO INTERNATIONAL PLC                -0.009912    0.001781   \n",
       "RECRO PHARMA, INC.                    -0.012627   -0.003559   \n",
       "\n",
       "name                            HORIZON PHARMA PLC  LILLY ELI & CO  \\\n",
       "name                                                                 \n",
       "EYEGATE PHARMACEUTICALS INC               0.000763        0.005505   \n",
       "IMMUNOGEN INC                             0.005660        0.001418   \n",
       "PULMATRIX, INC.                          -0.001549        0.009467   \n",
       "XENCOR INC                                0.007579        0.001555   \n",
       "HORIZON PHARMA PLC                        0.014189        0.000764   \n",
       "...                                            ...             ...   \n",
       "AQUINOX PHARMACEUTICALS, INC              0.006688        0.000891   \n",
       "FIVE PRIME THERAPEUTICS INC               0.007463        0.000214   \n",
       "ULTRAGENYX PHARMACEUTICAL INC.            0.013208        0.001649   \n",
       "ENDO INTERNATIONAL PLC                   -0.000178        0.003087   \n",
       "RECRO PHARMA, INC.                       -0.000387        0.001061   \n",
       "\n",
       "name                            ALNYLAM PHARMACEUTICALS, INC.  \\\n",
       "name                                                            \n",
       "EYEGATE PHARMACEUTICALS INC                          0.014804   \n",
       "IMMUNOGEN INC                                        0.017972   \n",
       "PULMATRIX, INC.                                      0.020250   \n",
       "XENCOR INC                                           0.002949   \n",
       "HORIZON PHARMA PLC                                   0.006950   \n",
       "...                                                       ...   \n",
       "AQUINOX PHARMACEUTICALS, INC                         0.009848   \n",
       "FIVE PRIME THERAPEUTICS INC                          0.007634   \n",
       "ULTRAGENYX PHARMACEUTICAL INC.                       0.015535   \n",
       "ENDO INTERNATIONAL PLC                               0.006411   \n",
       "RECRO PHARMA, INC.                                   0.007710   \n",
       "\n",
       "name                            CHEMBIO DIAGNOSTICS, INC.  \\\n",
       "name                                                        \n",
       "EYEGATE PHARMACEUTICALS INC                      0.001487   \n",
       "IMMUNOGEN INC                                    0.002480   \n",
       "PULMATRIX, INC.                                 -0.012933   \n",
       "XENCOR INC                                       0.004722   \n",
       "HORIZON PHARMA PLC                               0.000456   \n",
       "...                                                   ...   \n",
       "AQUINOX PHARMACEUTICALS, INC                    -0.001749   \n",
       "FIVE PRIME THERAPEUTICS INC                     -0.002594   \n",
       "ULTRAGENYX PHARMACEUTICAL INC.                   0.007680   \n",
       "ENDO INTERNATIONAL PLC                           0.010691   \n",
       "RECRO PHARMA, INC.                              -0.005178   \n",
       "\n",
       "name                            IMPRIMIS PHARMACEUTICALS, INC.  \\\n",
       "name                                                             \n",
       "EYEGATE PHARMACEUTICALS INC                           0.014236   \n",
       "IMMUNOGEN INC                                        -0.000511   \n",
       "PULMATRIX, INC.                                      -0.007801   \n",
       "XENCOR INC                                           -0.001048   \n",
       "HORIZON PHARMA PLC                                    0.001518   \n",
       "...                                                        ...   \n",
       "AQUINOX PHARMACEUTICALS, INC                         -0.000662   \n",
       "FIVE PRIME THERAPEUTICS INC                          -0.010837   \n",
       "ULTRAGENYX PHARMACEUTICAL INC.                       -0.004799   \n",
       "ENDO INTERNATIONAL PLC                                0.000449   \n",
       "RECRO PHARMA, INC.                                    0.007558   \n",
       "\n",
       "name                            LIGAND PHARMACEUTICALS INC  ...  \\\n",
       "name                                                        ...   \n",
       "EYEGATE PHARMACEUTICALS INC                      -0.003018  ...   \n",
       "IMMUNOGEN INC                                     0.010364  ...   \n",
       "PULMATRIX, INC.                                   0.005065  ...   \n",
       "XENCOR INC                                        0.004592  ...   \n",
       "HORIZON PHARMA PLC                                0.007058  ...   \n",
       "...                                                    ...  ...   \n",
       "AQUINOX PHARMACEUTICALS, INC                      0.003048  ...   \n",
       "FIVE PRIME THERAPEUTICS INC                       0.007070  ...   \n",
       "ULTRAGENYX PHARMACEUTICAL INC.                    0.012549  ...   \n",
       "ENDO INTERNATIONAL PLC                            0.002724  ...   \n",
       "RECRO PHARMA, INC.                               -0.000395  ...   \n",
       "\n",
       "name                            HERON THERAPEUTICS, INC. /DE/  \\\n",
       "name                                                            \n",
       "EYEGATE PHARMACEUTICALS INC                          0.006248   \n",
       "IMMUNOGEN INC                                        0.009876   \n",
       "PULMATRIX, INC.                                     -0.002842   \n",
       "XENCOR INC                                           0.002171   \n",
       "HORIZON PHARMA PLC                                   0.004239   \n",
       "...                                                       ...   \n",
       "AQUINOX PHARMACEUTICALS, INC                        -0.002289   \n",
       "FIVE PRIME THERAPEUTICS INC                         -0.003428   \n",
       "ULTRAGENYX PHARMACEUTICAL INC.                       0.010569   \n",
       "ENDO INTERNATIONAL PLC                               0.004021   \n",
       "RECRO PHARMA, INC.                                   0.002239   \n",
       "\n",
       "name                            CELGENE CORP /DE/  \\\n",
       "name                                                \n",
       "EYEGATE PHARMACEUTICALS INC              0.004158   \n",
       "IMMUNOGEN INC                            0.008285   \n",
       "PULMATRIX, INC.                          0.003889   \n",
       "XENCOR INC                               0.002003   \n",
       "HORIZON PHARMA PLC                       0.003863   \n",
       "...                                           ...   \n",
       "AQUINOX PHARMACEUTICALS, INC             0.006112   \n",
       "FIVE PRIME THERAPEUTICS INC              0.003060   \n",
       "ULTRAGENYX PHARMACEUTICAL INC.           0.008968   \n",
       "ENDO INTERNATIONAL PLC                   0.004700   \n",
       "RECRO PHARMA, INC.                       0.005652   \n",
       "\n",
       "name                            IRONWOOD PHARMACEUTICALS INC  \\\n",
       "name                                                           \n",
       "EYEGATE PHARMACEUTICALS INC                         0.010305   \n",
       "IMMUNOGEN INC                                       0.008481   \n",
       "PULMATRIX, INC.                                    -0.000049   \n",
       "XENCOR INC                                          0.006714   \n",
       "HORIZON PHARMA PLC                                  0.001926   \n",
       "...                                                      ...   \n",
       "AQUINOX PHARMACEUTICALS, INC                        0.004297   \n",
       "FIVE PRIME THERAPEUTICS INC                         0.004857   \n",
       "ULTRAGENYX PHARMACEUTICAL INC.                      0.012150   \n",
       "ENDO INTERNATIONAL PLC                              0.004758   \n",
       "RECRO PHARMA, INC.                                  0.004060   \n",
       "\n",
       "name                            XENON PHARMACEUTICALS INC.  OPHTHOTECH CORP.  \\\n",
       "name                                                                           \n",
       "EYEGATE PHARMACEUTICALS INC                      -0.005188         -0.011197   \n",
       "IMMUNOGEN INC                                     0.000785          0.005605   \n",
       "PULMATRIX, INC.                                   0.002778          0.001751   \n",
       "XENCOR INC                                       -0.000965          0.002433   \n",
       "HORIZON PHARMA PLC                                0.004863          0.013270   \n",
       "...                                                    ...               ...   \n",
       "AQUINOX PHARMACEUTICALS, INC                     -0.008879         -0.000505   \n",
       "FIVE PRIME THERAPEUTICS INC                       0.006868          0.003760   \n",
       "ULTRAGENYX PHARMACEUTICAL INC.                    0.012548          0.009574   \n",
       "ENDO INTERNATIONAL PLC                            0.021544          0.004510   \n",
       "RECRO PHARMA, INC.                                0.005044          0.003631   \n",
       "\n",
       "name                            AQUINOX PHARMACEUTICALS, INC  \\\n",
       "name                                                           \n",
       "EYEGATE PHARMACEUTICALS INC                        -0.002083   \n",
       "IMMUNOGEN INC                                       0.016301   \n",
       "PULMATRIX, INC.                                     0.008470   \n",
       "XENCOR INC                                          0.011319   \n",
       "HORIZON PHARMA PLC                                  0.006688   \n",
       "...                                                      ...   \n",
       "AQUINOX PHARMACEUTICALS, INC                        0.044662   \n",
       "FIVE PRIME THERAPEUTICS INC                         0.009508   \n",
       "ULTRAGENYX PHARMACEUTICAL INC.                      0.015377   \n",
       "ENDO INTERNATIONAL PLC                             -0.008580   \n",
       "RECRO PHARMA, INC.                                  0.002959   \n",
       "\n",
       "name                            FIVE PRIME THERAPEUTICS INC  \\\n",
       "name                                                          \n",
       "EYEGATE PHARMACEUTICALS INC                        0.002977   \n",
       "IMMUNOGEN INC                                      0.003954   \n",
       "PULMATRIX, INC.                                    0.002333   \n",
       "XENCOR INC                                         0.005985   \n",
       "HORIZON PHARMA PLC                                 0.007463   \n",
       "...                                                     ...   \n",
       "AQUINOX PHARMACEUTICALS, INC                       0.009508   \n",
       "FIVE PRIME THERAPEUTICS INC                        0.022705   \n",
       "ULTRAGENYX PHARMACEUTICAL INC.                     0.009038   \n",
       "ENDO INTERNATIONAL PLC                            -0.004608   \n",
       "RECRO PHARMA, INC.                                 0.000236   \n",
       "\n",
       "name                            ULTRAGENYX PHARMACEUTICAL INC.  \\\n",
       "name                                                             \n",
       "EYEGATE PHARMACEUTICALS INC                           0.012935   \n",
       "IMMUNOGEN INC                                         0.016139   \n",
       "PULMATRIX, INC.                                       0.014681   \n",
       "XENCOR INC                                            0.011092   \n",
       "HORIZON PHARMA PLC                                    0.013208   \n",
       "...                                                        ...   \n",
       "AQUINOX PHARMACEUTICALS, INC                          0.015377   \n",
       "FIVE PRIME THERAPEUTICS INC                           0.009038   \n",
       "ULTRAGENYX PHARMACEUTICAL INC.                        0.031959   \n",
       "ENDO INTERNATIONAL PLC                                0.006636   \n",
       "RECRO PHARMA, INC.                                   -0.001879   \n",
       "\n",
       "name                            ENDO INTERNATIONAL PLC  RECRO PHARMA, INC.  \n",
       "name                                                                        \n",
       "EYEGATE PHARMACEUTICALS INC                   0.001302            0.000540  \n",
       "IMMUNOGEN INC                                -0.003940            0.001424  \n",
       "PULMATRIX, INC.                              -0.009912           -0.012627  \n",
       "XENCOR INC                                    0.001781           -0.003559  \n",
       "HORIZON PHARMA PLC                           -0.000178           -0.000387  \n",
       "...                                                ...                 ...  \n",
       "AQUINOX PHARMACEUTICALS, INC                 -0.008580            0.002959  \n",
       "FIVE PRIME THERAPEUTICS INC                  -0.004608            0.000236  \n",
       "ULTRAGENYX PHARMACEUTICAL INC.                0.006636           -0.001879  \n",
       "ENDO INTERNATIONAL PLC                        0.037921           -0.000460  \n",
       "RECRO PHARMA, INC.                           -0.000460            0.022964  \n",
       "\n",
       "[124 rows x 124 columns]"
      ]
     },
     "execution_count": 16,
     "metadata": {},
     "output_type": "execute_result"
    }
   ],
   "source": [
    "tmp = cov[LIST].T\n",
    "cov_Pharm = tmp[LIST]\n",
    "cov_Pharm"
   ]
  },
  {
   "cell_type": "code",
   "execution_count": 17,
   "id": "10387d9d",
   "metadata": {},
   "outputs": [],
   "source": [
    "#### Cosine Similarity Distances in the Pharmaceutical Preparations Industry"
   ]
  },
  {
   "cell_type": "code",
   "execution_count": 18,
   "id": "0b815891",
   "metadata": {
    "scrolled": true,
    "tags": [
     "remove-input"
    ]
   },
   "outputs": [],
   "source": [
    "tmp = cosine_sim[LIST].drop_duplicates().T\n",
    "Pharm_cos_sim = tmp[LIST].drop_duplicates()"
   ]
  },
  {
   "cell_type": "code",
   "execution_count": 19,
   "id": "35f7cb70",
   "metadata": {},
   "outputs": [],
   "source": [
    "#### Covariance for Cosine Similarity"
   ]
  },
  {
   "cell_type": "code",
   "execution_count": 20,
   "id": "3f704079",
   "metadata": {
    "tags": [
     "remove-input"
    ]
   },
   "outputs": [],
   "source": [
    "cos_sim_sd = pd.DataFrame(np.sqrt(np.diag(np.diagonal(cov_Pharm))))\n",
    "cos_sim_sd = cos_sim_sd.set_index(cov_Pharm.index)\n",
    "cos_sim_sd.columns = cov_Pharm.index"
   ]
  },
  {
   "cell_type": "code",
   "execution_count": 21,
   "id": "82b2dc8a",
   "metadata": {
    "tags": [
     "remove-input"
    ]
   },
   "outputs": [],
   "source": [
    "cos_sim_cov = pd.DataFrame((np.dot(np.dot(cos_sim_sd, Pharm_cos_sim),cos_sim_sd)))"
   ]
  }
 ],
 "metadata": {
  "celltoolbar": "Edit Metadata",
  "kernelspec": {
   "display_name": "Python 3 (ipykernel)",
   "language": "python",
   "name": "python3"
  },
  "language_info": {
   "codemirror_mode": {
    "name": "ipython",
    "version": 3
   },
   "file_extension": ".py",
   "mimetype": "text/x-python",
   "name": "python",
   "nbconvert_exporter": "python",
   "pygments_lexer": "ipython3",
   "version": "3.9.7"
  }
 },
 "nbformat": 4,
 "nbformat_minor": 5
}

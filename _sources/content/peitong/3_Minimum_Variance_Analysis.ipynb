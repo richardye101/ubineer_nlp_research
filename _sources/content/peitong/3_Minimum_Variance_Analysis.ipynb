{
 "cells": [
  {
   "cell_type": "code",
   "execution_count": 1,
   "id": "1bcaa702",
   "metadata": {
    "tags": [
     "remove-input"
    ]
   },
   "outputs": [],
   "source": [
    "import sys\n",
    "sys.path.insert(0, '..')\n",
    "%load_ext autoreload\n",
    "%autoreload 2\n",
    "%aimport std_func"
   ]
  },
  {
   "cell_type": "code",
   "execution_count": 2,
   "id": "ac5e5cb6",
   "metadata": {
    "tags": [
     "hide-input"
    ]
   },
   "outputs": [],
   "source": [
    "import pandas as pd\n",
    "import numpy as np\n",
    "import matplotlib.pyplot as plt\n",
    "import seaborn as sns"
   ]
  },
  {
   "cell_type": "markdown",
   "id": "d9148826",
   "metadata": {},
   "source": [
    "## Mean-Variance Analysis - Minimum Variance\n",
    "\n",
    "Mean-variance analysis is a mathematical framework that examplifies the trade-off between return and risk. It is used to create diversified portfolios based on investors’ expectation. There are one main approach used in this report. We have the minimum volatility portfolio that concentrates on minimizing the risk of the portfolio. Mimimum variance portfolio can help us compare the correlation of simple sample covariance, covariance generated using cosine similarity distances and covariance generated using factor model in Sent-LDA."
   ]
  },
  {
   "cell_type": "markdown",
   "id": "26343f60",
   "metadata": {},
   "source": [
    "### Monthly Returns\n",
    "Since we are comparing companies' business description based on 2018's SEC fillings, we filter the returns dataset and use only return"
   ]
  },
  {
   "cell_type": "code",
   "execution_count": 3,
   "id": "66f11a5d",
   "metadata": {
    "tags": [
     "hide-input"
    ]
   },
   "outputs": [],
   "source": [
    "returns_data = pd.read_csv('../data/returns_2018_top5_SIC.csv', \n",
    "                      parse_dates = ['DATE'], \n",
    "                      usecols = [\"trt1m\", \"CIK\", \"name\", \"DATE\"])"
   ]
  },
  {
   "cell_type": "code",
   "execution_count": 5,
   "id": "d054cea0",
   "metadata": {
    "tags": [
     "hide-input"
    ]
   },
   "outputs": [],
   "source": [
    "# TAKE OUT THE DATA before 2019 and reset index\n",
    "#end_date = pd.to_datetime('2019-01-01')\n",
    "#returns = returns_data.loc[(returns_data['DATE'] < end_date)]\n",
    "\n",
    "# drop the missing value\n",
    "returns = returns_data.dropna()\n",
    "# group the data by name and date\n",
    "group_returns = returns.groupby(['name', 'DATE'])\n",
    "# calculate the percentage return\n",
    "group_returns_pct = group_returns.agg({\"trt1m\": (lambda x:  x/100)})\n",
    "r_selected = group_returns_pct.unstack()\n",
    "# drop the first index\n",
    "r_selected.columns = r_selected.columns.droplevel(0)"
   ]
  },
  {
   "cell_type": "code",
   "execution_count": 7,
   "id": "233c60c5",
   "metadata": {
    "tags": [
     "hide-input"
    ]
   },
   "outputs": [],
   "source": [
    "# there are some rows containing more than one float number (array of multiple returns)\n",
    "for i in range(len(r_selected)):\n",
    "    if type(r_selected.iloc[i,1]) == np.ndarray:\n",
    "        r_selected = r_selected.drop(index = r_selected.index[i])\n",
    "# convert object to float\n",
    "r_selected = r_selected.astype(float)\n",
    "# drop missing values rows\n",
    "r_selected = r_selected.dropna()\n",
    "# get the mean of all \n",
    "mu = r_selected.mean(axis = 1)\n",
    "# compute the covariance matrix \n",
    "cov = r_selected.T.cov()"
   ]
  },
  {
   "cell_type": "code",
   "execution_count": 29,
   "id": "3406d469",
   "metadata": {
    "tags": [
     "remove-input"
    ]
   },
   "outputs": [],
   "source": [
    "## Cosine Similarity"
   ]
  },
  {
   "cell_type": "code",
   "execution_count": 8,
   "id": "12637e4f",
   "metadata": {
    "tags": [
     "remove-input"
    ]
   },
   "outputs": [],
   "source": [
    "df = pd.read_csv('../data/preprocessed.csv',\n",
    "                 usecols = ['reportingDate', 'name', 'CIK',\n",
    "                           'coDescription_stopwords', 'SIC', 'SIC_desc'])\n",
    "df = df.set_index(df.name)"
   ]
  },
  {
   "cell_type": "code",
   "execution_count": 30,
   "id": "dac58bb7",
   "metadata": {
    "tags": [
     "remove-input"
    ]
   },
   "outputs": [
    {
     "name": "stderr",
     "output_type": "stream",
     "text": [
      "/Users/lulu/opt/anaconda3/lib/python3.9/site-packages/sklearn/utils/deprecation.py:87: FutureWarning: Function get_feature_names is deprecated; get_feature_names is deprecated in 1.0 and will be removed in 1.2. Please use get_feature_names_out instead.\n",
      "  warnings.warn(msg, category=FutureWarning)\n"
     ]
    }
   ],
   "source": [
    "from sklearn.feature_extraction.text import CountVectorizer\n",
    "\n",
    "Vectorizer = CountVectorizer(ngram_range = (2,4), \n",
    "                             max_features = 600)\n",
    "\n",
    "count_data = Vectorizer.fit_transform(df['coDescription_stopwords'])\n",
    "wordsCount = pd.DataFrame(count_data.toarray(),columns=Vectorizer.get_feature_names())\n",
    "wordsCount = wordsCount.set_index(df['name'])"
   ]
  },
  {
   "cell_type": "code",
   "execution_count": 31,
   "id": "4d76062d",
   "metadata": {
    "tags": [
     "remove-input"
    ]
   },
   "outputs": [],
   "source": [
    "#### Cosine Similarity Computation"
   ]
  },
  {
   "cell_type": "code",
   "execution_count": 32,
   "id": "d993e48d",
   "metadata": {
    "tags": [
     "remove-input"
    ]
   },
   "outputs": [],
   "source": [
    "# Compute Cosine Similarity\n",
    "from sklearn.metrics.pairwise import cosine_similarity\n",
    "cosine_sim = pd.DataFrame(cosine_similarity(wordsCount, wordsCount))\n",
    "cosine_sim = cosine_sim.set_index(df['name'])\n",
    "cosine_sim.columns = df['name']\n",
    "#cosine_sim"
   ]
  },
  {
   "cell_type": "markdown",
   "id": "70db3425",
   "metadata": {},
   "source": [
    "### Perform Mean-Variance Analysis"
   ]
  },
  {
   "cell_type": "code",
   "execution_count": 11,
   "id": "f245cf2e",
   "metadata": {
    "tags": [
     "hide-input"
    ]
   },
   "outputs": [],
   "source": [
    "from pypfopt import EfficientFrontier\n",
    "from pypfopt import risk_models\n",
    "from pypfopt import expected_returns\n",
    "from pypfopt import objective_functions\n",
    "from pypfopt import plotting"
   ]
  },
  {
   "cell_type": "code",
   "execution_count": 12,
   "id": "b9f6cdc4",
   "metadata": {
    "tags": [
     "hide-input"
    ]
   },
   "outputs": [],
   "source": [
    "# get the names of the companies in the pharmaceutical preparations industry\n",
    "Pharm = df[df.SIC == 2834]\n",
    "Pharm_list = Pharm.index"
   ]
  },
  {
   "cell_type": "code",
   "execution_count": 13,
   "id": "98c532c4",
   "metadata": {
    "scrolled": true,
    "tags": [
     "hide-input"
    ]
   },
   "outputs": [],
   "source": [
    "# get the companies name that match return data and business description data\n",
    "SET = (set(Pharm_list) & set(r_selected.index))\n",
    "LIST = [*SET, ]"
   ]
  },
  {
   "cell_type": "markdown",
   "id": "270561f4",
   "metadata": {},
   "source": [
    "#### Mean and Covariance for Returns in the Pharmaceutical Preparations Industry"
   ]
  },
  {
   "cell_type": "code",
   "execution_count": 14,
   "id": "7b6da842",
   "metadata": {
    "tags": [
     "hide-input"
    ]
   },
   "outputs": [],
   "source": [
    "mu_Pharm = mu[LIST]"
   ]
  },
  {
   "cell_type": "code",
   "execution_count": 15,
   "id": "8e72a50e",
   "metadata": {
    "tags": [
     "hide-input"
    ]
   },
   "outputs": [],
   "source": [
    "tmp = cov[LIST].T\n",
    "cov_Pharm = tmp[LIST]"
   ]
  },
  {
   "cell_type": "markdown",
   "id": "33da382f",
   "metadata": {},
   "source": [
    "#### Cosine Similarity Distances in the Pharmaceutical Preparations Industry"
   ]
  },
  {
   "cell_type": "code",
   "execution_count": 16,
   "id": "0b815891",
   "metadata": {
    "scrolled": true,
    "tags": [
     "hide-input"
    ]
   },
   "outputs": [],
   "source": [
    "tmp = cosine_sim[LIST].drop_duplicates().T\n",
    "Pharm_cos_sim = tmp[LIST].drop_duplicates()"
   ]
  },
  {
   "cell_type": "markdown",
   "id": "352a1a21",
   "metadata": {},
   "source": [
    "#### Covariance for Cosine Similarity"
   ]
  },
  {
   "cell_type": "code",
   "execution_count": 17,
   "id": "3f704079",
   "metadata": {
    "tags": [
     "hide-input"
    ]
   },
   "outputs": [],
   "source": [
    "cos_sim_sd = pd.DataFrame(np.sqrt(np.diag(np.diagonal(cov_Pharm))))\n",
    "cos_sim_sd = cos_sim_sd.set_index(cov_Pharm.index)\n",
    "cos_sim_sd.columns = cov_Pharm.index"
   ]
  },
  {
   "cell_type": "code",
   "execution_count": 18,
   "id": "82b2dc8a",
   "metadata": {
    "tags": [
     "hide-input"
    ]
   },
   "outputs": [],
   "source": [
    "cos_sim_cov = pd.DataFrame((np.dot(np.dot(cos_sim_sd, Pharm_cos_sim),cos_sim_sd)))"
   ]
  },
  {
   "cell_type": "markdown",
   "id": "db23e564",
   "metadata": {},
   "source": [
    "### Minmum Volatility Portfolio Weights "
   ]
  },
  {
   "cell_type": "markdown",
   "id": "fc1b6a4c",
   "metadata": {},
   "source": [
    "#### Comparing sample mean and covariance"
   ]
  },
  {
   "cell_type": "code",
   "execution_count": 19,
   "id": "7429ef48",
   "metadata": {
    "tags": [
     "hide-input"
    ]
   },
   "outputs": [
    {
     "name": "stderr",
     "output_type": "stream",
     "text": [
      "/Users/lulu/opt/anaconda3/lib/python3.9/site-packages/cvxpy/problems/problem.py:1296: UserWarning: Solution may be inaccurate. Try another solver, adjusting the solver settings, or solve with verbose=True for more information.\n",
      "  warnings.warn(\n"
     ]
    },
    {
     "data": {
      "image/png": "[encoded data removed]",
      "text/plain": [
       "<Figure size 432x288 with 1 Axes>"
      ]
     },
     "metadata": {
      "needs_background": "light"
     },
     "output_type": "display_data"
    }
   ],
   "source": [
    "ef1 = EfficientFrontier(mu_Pharm, cov_Pharm, weight_bounds=(0, 0.2))\n",
    "\n",
    "fig, ax = plt.subplots()\n",
    "plotting.plot_efficient_frontier(ef1, ax=ax, show_assets=True)\n",
    "\n",
    "# Find and plot the tangency portfolio\n",
    "ef2 = EfficientFrontier(mu_Pharm, cov_Pharm, weight_bounds=(0, 0.2))\n",
    "# min volatility\n",
    "ef2.min_volatility()\n",
    "ret_tangent, std_tangent, _ = ef2.portfolio_performance()\n",
    "ax.scatter(std_tangent, ret_tangent, marker=\"*\", s=100, c=\"y\", label=\"Min Volatility\")\n",
    "\n",
    "# Format\n",
    "ax.set_title(\"Efficient Frontier\")\n",
    "ax.legend()\n",
    "plt.tight_layout()\n",
    "plt.savefig('images/Efficient_Frontier_Returns.png', dpi=200, bbox_inches='tight')\n",
    "plt.show()"
   ]
  },
  {
   "cell_type": "markdown",
   "id": "342e7542",
   "metadata": {},
   "source": [
    "##### min volatility"
   ]
  },
  {
   "cell_type": "code",
   "execution_count": 20,
   "id": "b34e4df3",
   "metadata": {
    "tags": [
     "hide-input"
    ]
   },
   "outputs": [
    {
     "name": "stdout",
     "output_type": "stream",
     "text": [
      "Expected annual return: 1.8%\n",
      "Annual volatility: 2.7%\n",
      "Sharpe Ratio: -0.08\n"
     ]
    }
   ],
   "source": [
    "ef2.portfolio_performance(verbose=True);"
   ]
  },
  {
   "cell_type": "code",
   "execution_count": 21,
   "id": "2251dc5e",
   "metadata": {
    "tags": [
     "hide-input"
    ]
   },
   "outputs": [
    {
     "name": "stdout",
     "output_type": "stream",
     "text": [
      "XENCOR INC 0.02028\n",
      "ATHERSYS, INC / NEW 0.04453\n",
      "ARENA PHARMACEUTICALS INC 0.03982\n",
      "LILLY ELI & CO 0.02763\n",
      "VTV THERAPEUTICS INC. 0.03609\n",
      "ANI PHARMACEUTICALS INC 0.00444\n",
      "ACTINIUM PHARMACEUTICALS, INC. 0.00031\n",
      "MERCK & CO., INC. 0.2\n",
      "RECRO PHARMA, INC. 0.00826\n",
      "BRISTOL MYERS SQUIBB CO 0.08558\n",
      "XENON PHARMACEUTICALS INC. 0.01629\n",
      "ABBVIE INC. 0.01108\n",
      "KARYOPHARM THERAPEUTICS INC. 0.00495\n",
      "ZOETIS INC. 0.2\n",
      "ASSEMBLY BIOSCIENCES, INC. 0.0271\n",
      "CATALYST PHARMACEUTICALS, INC. 0.02193\n",
      "JOHNSON & JOHNSON 0.1571\n",
      "REGENERON PHARMACEUTICALS INC 0.01155\n",
      "ORAGENICS INC 0.0061\n",
      "ACHAOGEN INC 0.01319\n",
      "PROPHASE LABS, INC. 0.05081\n",
      "BLUEPRINT MEDICINES CORP 0.01296\n"
     ]
    }
   ],
   "source": [
    "companies = []\n",
    "weights = []\n",
    "for company, weight in ef2.clean_weights().items():\n",
    "    if weight != 0:\n",
    "        companies.append(company)\n",
    "        weights.append(weight)\n",
    "        print(company, weight)"
   ]
  },
  {
   "cell_type": "code",
   "execution_count": 22,
   "id": "07b18fbf",
   "metadata": {
    "tags": [
     "hide-input"
    ]
   },
   "outputs": [
    {
     "name": "stderr",
     "output_type": "stream",
     "text": [
      "[0416/201424.351321:INFO:headless_shell.cc(659)] Written to file /var/folders/6t/0lh6qmkn1zg8fhlp984cpxrr0000gn/T/tmpz3pe4nk9/temp.png.\n"
     ]
    }
   ],
   "source": [
    "dic = {'Company_Name':companies,'Weight':weights}\n",
    "min_vol = pd.DataFrame(dic)\n",
    "import dataframe_image as dfi\n",
    "min_vol.dfi.export('min_vol_returns.png')"
   ]
  },
  {
   "cell_type": "code",
   "execution_count": 23,
   "id": "162bb1f9",
   "metadata": {
    "tags": [
     "hide-input"
    ]
   },
   "outputs": [
    {
     "data": {
      "text/html": [
       "<div>\n",
       "<style scoped>\n",
       "    .dataframe tbody tr th:only-of-type {\n",
       "        vertical-align: middle;\n",
       "    }\n",
       "\n",
       "    .dataframe tbody tr th {\n",
       "        vertical-align: top;\n",
       "    }\n",
       "\n",
       "    .dataframe thead th {\n",
       "        text-align: right;\n",
       "    }\n",
       "</style>\n",
       "<table border=\"1\" class=\"dataframe\">\n",
       "  <thead>\n",
       "    <tr style=\"text-align: right;\">\n",
       "      <th></th>\n",
       "      <th>Company_Name</th>\n",
       "      <th>Weight</th>\n",
       "    </tr>\n",
       "  </thead>\n",
       "  <tbody>\n",
       "    <tr>\n",
       "      <th>0</th>\n",
       "      <td>XENCOR INC</td>\n",
       "      <td>0.02028</td>\n",
       "    </tr>\n",
       "    <tr>\n",
       "      <th>1</th>\n",
       "      <td>ATHERSYS, INC / NEW</td>\n",
       "      <td>0.04453</td>\n",
       "    </tr>\n",
       "    <tr>\n",
       "      <th>2</th>\n",
       "      <td>ARENA PHARMACEUTICALS INC</td>\n",
       "      <td>0.03982</td>\n",
       "    </tr>\n",
       "    <tr>\n",
       "      <th>3</th>\n",
       "      <td>LILLY ELI &amp; CO</td>\n",
       "      <td>0.02763</td>\n",
       "    </tr>\n",
       "    <tr>\n",
       "      <th>4</th>\n",
       "      <td>VTV THERAPEUTICS INC.</td>\n",
       "      <td>0.03609</td>\n",
       "    </tr>\n",
       "    <tr>\n",
       "      <th>5</th>\n",
       "      <td>ANI PHARMACEUTICALS INC</td>\n",
       "      <td>0.00444</td>\n",
       "    </tr>\n",
       "    <tr>\n",
       "      <th>6</th>\n",
       "      <td>ACTINIUM PHARMACEUTICALS, INC.</td>\n",
       "      <td>0.00031</td>\n",
       "    </tr>\n",
       "    <tr>\n",
       "      <th>7</th>\n",
       "      <td>MERCK &amp; CO., INC.</td>\n",
       "      <td>0.20000</td>\n",
       "    </tr>\n",
       "    <tr>\n",
       "      <th>8</th>\n",
       "      <td>RECRO PHARMA, INC.</td>\n",
       "      <td>0.00826</td>\n",
       "    </tr>\n",
       "    <tr>\n",
       "      <th>9</th>\n",
       "      <td>BRISTOL MYERS SQUIBB CO</td>\n",
       "      <td>0.08558</td>\n",
       "    </tr>\n",
       "    <tr>\n",
       "      <th>10</th>\n",
       "      <td>XENON PHARMACEUTICALS INC.</td>\n",
       "      <td>0.01629</td>\n",
       "    </tr>\n",
       "    <tr>\n",
       "      <th>11</th>\n",
       "      <td>ABBVIE INC.</td>\n",
       "      <td>0.01108</td>\n",
       "    </tr>\n",
       "    <tr>\n",
       "      <th>12</th>\n",
       "      <td>KARYOPHARM THERAPEUTICS INC.</td>\n",
       "      <td>0.00495</td>\n",
       "    </tr>\n",
       "    <tr>\n",
       "      <th>13</th>\n",
       "      <td>ZOETIS INC.</td>\n",
       "      <td>0.20000</td>\n",
       "    </tr>\n",
       "    <tr>\n",
       "      <th>14</th>\n",
       "      <td>ASSEMBLY BIOSCIENCES, INC.</td>\n",
       "      <td>0.02710</td>\n",
       "    </tr>\n",
       "    <tr>\n",
       "      <th>15</th>\n",
       "      <td>CATALYST PHARMACEUTICALS, INC.</td>\n",
       "      <td>0.02193</td>\n",
       "    </tr>\n",
       "    <tr>\n",
       "      <th>16</th>\n",
       "      <td>JOHNSON &amp; JOHNSON</td>\n",
       "      <td>0.15710</td>\n",
       "    </tr>\n",
       "    <tr>\n",
       "      <th>17</th>\n",
       "      <td>REGENERON PHARMACEUTICALS INC</td>\n",
       "      <td>0.01155</td>\n",
       "    </tr>\n",
       "    <tr>\n",
       "      <th>18</th>\n",
       "      <td>ORAGENICS INC</td>\n",
       "      <td>0.00610</td>\n",
       "    </tr>\n",
       "    <tr>\n",
       "      <th>19</th>\n",
       "      <td>ACHAOGEN INC</td>\n",
       "      <td>0.01319</td>\n",
       "    </tr>\n",
       "    <tr>\n",
       "      <th>20</th>\n",
       "      <td>PROPHASE LABS, INC.</td>\n",
       "      <td>0.05081</td>\n",
       "    </tr>\n",
       "    <tr>\n",
       "      <th>21</th>\n",
       "      <td>BLUEPRINT MEDICINES CORP</td>\n",
       "      <td>0.01296</td>\n",
       "    </tr>\n",
       "  </tbody>\n",
       "</table>\n",
       "</div>"
      ],
      "text/plain": [
       "                      Company_Name   Weight\n",
       "0                       XENCOR INC  0.02028\n",
       "1              ATHERSYS, INC / NEW  0.04453\n",
       "2        ARENA PHARMACEUTICALS INC  0.03982\n",
       "3                   LILLY ELI & CO  0.02763\n",
       "4            VTV THERAPEUTICS INC.  0.03609\n",
       "5          ANI PHARMACEUTICALS INC  0.00444\n",
       "6   ACTINIUM PHARMACEUTICALS, INC.  0.00031\n",
       "7                MERCK & CO., INC.  0.20000\n",
       "8               RECRO PHARMA, INC.  0.00826\n",
       "9          BRISTOL MYERS SQUIBB CO  0.08558\n",
       "10      XENON PHARMACEUTICALS INC.  0.01629\n",
       "11                     ABBVIE INC.  0.01108\n",
       "12    KARYOPHARM THERAPEUTICS INC.  0.00495\n",
       "13                     ZOETIS INC.  0.20000\n",
       "14      ASSEMBLY BIOSCIENCES, INC.  0.02710\n",
       "15  CATALYST PHARMACEUTICALS, INC.  0.02193\n",
       "16               JOHNSON & JOHNSON  0.15710\n",
       "17   REGENERON PHARMACEUTICALS INC  0.01155\n",
       "18                   ORAGENICS INC  0.00610\n",
       "19                    ACHAOGEN INC  0.01319\n",
       "20             PROPHASE LABS, INC.  0.05081\n",
       "21        BLUEPRINT MEDICINES CORP  0.01296"
      ]
     },
     "execution_count": 23,
     "metadata": {},
     "output_type": "execute_result"
    }
   ],
   "source": [
    "min_vol"
   ]
  }
 ],
 "metadata": {
  "celltoolbar": "Edit Metadata",
  "kernelspec": {
   "display_name": "Python 3 (ipykernel)",
   "language": "python",
   "name": "python3"
  },
  "language_info": {
   "codemirror_mode": {
    "name": "ipython",
    "version": 3
   },
   "file_extension": ".py",
   "mimetype": "text/x-python",
   "name": "python",
   "nbconvert_exporter": "python",
   "pygments_lexer": "ipython3",
   "version": "3.9.7"
  }
 },
 "nbformat": 4,
 "nbformat_minor": 5
}

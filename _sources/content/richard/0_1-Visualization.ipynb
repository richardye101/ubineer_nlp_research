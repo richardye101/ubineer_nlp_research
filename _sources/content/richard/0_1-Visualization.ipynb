{
 "cells": [
  {
   "cell_type": "markdown",
   "id": "ba08db11-3e1b-4ce3-b1a0-afc31a3c00f9",
   "metadata": {},
   "source": [
    "## Visualizing our work\n",
    "\n",
    "Most of the analyses and work done in this report has been to perform unsupervised techniques to extract information from our data. As a result, many conclusions are in the form of document vector matrices, containing locations of each company filing in some n-dimensional space or its membership probability in m topics/industries. To accomplish this, we've devised a simple function that utilizes principle components analysis (PCA) to reduce our dimensions, condensing information into 2 and 3 dimensions for easy representation. Choosing to reduce to 10 dimensions (or less depending on the application) is simply arbitrary. We select the top 2-3 dimensions for representation, and (if available) use it's industry name to color code them.\n",
    "\n",
    "The code can be found [here](https://github.com/richardye101/ubineer_nlp_research/blob/5a16caf65a0d2d21e8f377bd8b5f0d6b2435ad84/content/std_func.py#L20-L62).\n",
    "\n",
    "An example you will see later on of both 2D and 3D representations of a tf-idf matrix (the very first topic):"
   ]
  },
  {
   "cell_type": "code",
   "execution_count": null,
   "id": "d2a208c2-fa03-43a4-95c7-365669a3f290",
   "metadata": {
    "tags": [
     "remove-input"
    ]
   },
   "outputs": [],
   "source": [
    "from sklearn.feature_extraction.text import TfidfTransformer\n",
    "from sklearn.feature_extraction.text import CountVectorizer\n",
    "from sklearn.pipeline import Pipeline\n",
    "\n",
    "df = pd.read_csv(\"../data/preprocessed.csv\")\n",
    "pipe = Pipeline([('count', CountVectorizer(ngram_range = (2,4),\n",
    "                                           stop_words = 'english', max_features = 600)),\n",
    "                  ('tfidf', TfidfTransformer())]).fit(df[\"coDescription_stopwords\"])\n",
    "tfidf =  pd.DataFrame(pipe.transform(df[\"coDescription_stopwords\"]).toarray())\n",
    "plot = std_func.pca_visualize_2d(tfidf, df.loc[:,[\"name\",\"SIC_desc\"]])\n",
    "std_func.pca_visualize_3d(plot)"
   ]
  }
 ],
 "metadata": {
  "kernelspec": {
   "display_name": "Python 3 (ipykernel)",
   "language": "python",
   "name": "python3"
  },
  "language_info": {
   "codemirror_mode": {
    "name": "ipython",
    "version": 3
   },
   "file_extension": ".py",
   "mimetype": "text/x-python",
   "name": "python",
   "nbconvert_exporter": "python",
   "pygments_lexer": "ipython3",
   "version": "3.9.12"
  }
 },
 "nbformat": 4,
 "nbformat_minor": 5
}

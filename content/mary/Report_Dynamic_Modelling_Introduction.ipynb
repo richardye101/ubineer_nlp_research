{
 "cells": [
  {
   "cell_type": "markdown",
   "metadata": {},
   "source": [
    "## Dynamic Topic Modelling Introduction\n",
    "\n",
    "The goal of this section is to analyse multiple annual reports per company to understand how companies may have changed in business direction or target industries over multiple years.\n"
   ]
  },
  {
   "cell_type": "code",
   "execution_count": null,
   "metadata": {
    "vscode": {
     "languageId": "plaintext"
    }
   },
   "outputs": [],
   "source": []
  }
 ],
 "metadata": {
  "language_info": {
   "name": "python"
  },
  "orig_nbformat": 4
 },
 "nbformat": 4,
 "nbformat_minor": 2
}

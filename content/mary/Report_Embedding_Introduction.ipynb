{
 "cells": [
  {
   "cell_type": "markdown",
   "metadata": {},
   "source": [
    "## Document Embedding\n",
    "\n",
    "The goal of this section is to find representations (embeddings) of company descriptions in a n-dimensional space that is able to cluster similar companies together, and separate dissimilar companies. \n",
    "\n",
    "We will implement the following techniques: \n",
    "1. [TF-IDF](https://richardye101.github.io/ubineer_nlp_research/content/richard/1_Tf-idf_analysis.html)\n",
    "2. [Cosine Similarity](https://richardye101.github.io/ubineer_nlp_research/content/peitong/1_Cosine_Similarity_Distances.html)\n",
    "3. [Part-Of-Speech (POS) Tagging](https://richardye101.github.io/ubineer_nlp_research/content/peitong/2_Part_of_Speech_Tagging.html)\n",
    "4. [Word2Vec](https://richardye101.github.io/ubineer_nlp_research/content/richard/4_Word2Vec.html)\n",
    "5. [Doc2Vec](https://richardye101.github.io/ubineer_nlp_research/content/richard/5_Doc2Vec.html)\n",
    "6. [Two Towers](https://richardye101.github.io/ubineer_nlp_research/content/mary/Report_TwoTowers.html)\n",
    "7. [Universal Sentence Encoder](https://richardye101.github.io/ubineer_nlp_research/content/mary/Report_USE.html)\n",
    "\n",
    "At the end of this section, you can find a summary of the results for each of the techniques that we have used."
   ]
  }
 ],
 "metadata": {
  "kernelspec": {
   "display_name": "Python 3 (ipykernel)",
   "language": "python",
   "name": "python3"
  },
  "language_info": {
   "codemirror_mode": {
    "name": "ipython",
    "version": 3
   },
   "file_extension": ".py",
   "mimetype": "text/x-python",
   "name": "python",
   "nbconvert_exporter": "python",
   "pygments_lexer": "ipython3",
   "version": "3.9.7"
  }
 },
 "nbformat": 4,
 "nbformat_minor": 2
}

{
 "cells": [
  {
   "cell_type": "markdown",
   "id": "a4465546",
   "metadata": {},
   "source": [
    "## Cosine Similarity Distances\n",
    "Cosine similarity measures the similarity between two vectors of an inner product space. In text analysis, a document can be represented by its elements (words) and the frequency of each element. Comparing the frequency of words in different documents, which is the company description for companies in our case, would generate cosine similarity distance between documents. Each description generates a vector containing the frequency of each word. It measures the similarity between these companies in terms of their business description."
   ]
  },
  {
   "cell_type": "code",
   "execution_count": 1,
   "id": "e0ecdbeb",
   "metadata": {},
   "outputs": [],
   "source": [
    "import pandas as pd\n",
    "import numpy as np\n",
    "import matplotlib.pyplot as plt\n",
    "import seaborn as sns"
   ]
  },
  {
   "cell_type": "code",
   "execution_count": 2,
   "id": "426f6823",
   "metadata": {
    "scrolled": true
   },
   "outputs": [
    {
     "data": {
      "text/html": [
       "<div>\n",
       "<style scoped>\n",
       "    .dataframe tbody tr th:only-of-type {\n",
       "        vertical-align: middle;\n",
       "    }\n",
       "\n",
       "    .dataframe tbody tr th {\n",
       "        vertical-align: top;\n",
       "    }\n",
       "\n",
       "    .dataframe thead th {\n",
       "        text-align: right;\n",
       "    }\n",
       "</style>\n",
       "<table border=\"1\" class=\"dataframe\">\n",
       "  <thead>\n",
       "    <tr style=\"text-align: right;\">\n",
       "      <th></th>\n",
       "      <th>reportingDate</th>\n",
       "      <th>name</th>\n",
       "      <th>SIC</th>\n",
       "      <th>SIC_desc</th>\n",
       "      <th>coDescription_stopwords</th>\n",
       "    </tr>\n",
       "  </thead>\n",
       "  <tbody>\n",
       "    <tr>\n",
       "      <th>0</th>\n",
       "      <td>2018-02-01</td>\n",
       "      <td>MONGODB, INC.</td>\n",
       "      <td>7372</td>\n",
       "      <td>Prepackaged Software (mass reproduction of sof...</td>\n",
       "      <td>mongodb leading modern general purpose databas...</td>\n",
       "    </tr>\n",
       "    <tr>\n",
       "      <th>1</th>\n",
       "      <td>2018-02-01</td>\n",
       "      <td>SALESFORCE COM INC</td>\n",
       "      <td>7372</td>\n",
       "      <td>Prepackaged Software (mass reproduction of sof...</td>\n",
       "      <td>salesforce global leader customer relationship...</td>\n",
       "    </tr>\n",
       "    <tr>\n",
       "      <th>2</th>\n",
       "      <td>2018-02-01</td>\n",
       "      <td>SPLUNK INC</td>\n",
       "      <td>7372</td>\n",
       "      <td>Prepackaged Software (mass reproduction of sof...</td>\n",
       "      <td>splunk provides innovative software solution e...</td>\n",
       "    </tr>\n",
       "    <tr>\n",
       "      <th>3</th>\n",
       "      <td>2018-02-01</td>\n",
       "      <td>OKTA, INC.</td>\n",
       "      <td>7372</td>\n",
       "      <td>Prepackaged Software (mass reproduction of sof...</td>\n",
       "      <td>okta leading independent provider identity ent...</td>\n",
       "    </tr>\n",
       "    <tr>\n",
       "      <th>4</th>\n",
       "      <td>2018-02-01</td>\n",
       "      <td>VEEVA SYSTEMS INC</td>\n",
       "      <td>7372</td>\n",
       "      <td>Prepackaged Software (mass reproduction of sof...</td>\n",
       "      <td>veeva leading provider industry cloud solution...</td>\n",
       "    </tr>\n",
       "    <tr>\n",
       "      <th>...</th>\n",
       "      <td>...</td>\n",
       "      <td>...</td>\n",
       "      <td>...</td>\n",
       "      <td>...</td>\n",
       "      <td>...</td>\n",
       "    </tr>\n",
       "    <tr>\n",
       "      <th>670</th>\n",
       "      <td>2019-01-01</td>\n",
       "      <td>AMERICAN REALTY CAPITAL NEW YORK CITY REIT, INC.</td>\n",
       "      <td>6798</td>\n",
       "      <td>Real Estate Investment Trusts</td>\n",
       "      <td>ationwe incorporated december maryland corpora...</td>\n",
       "    </tr>\n",
       "    <tr>\n",
       "      <th>671</th>\n",
       "      <td>2019-01-01</td>\n",
       "      <td>CYCLACEL PHARMACEUTICALS, INC.</td>\n",
       "      <td>2834</td>\n",
       "      <td>Pharmaceutical Preparations</td>\n",
       "      <td>llowing business section contains statement ac...</td>\n",
       "    </tr>\n",
       "    <tr>\n",
       "      <th>672</th>\n",
       "      <td>2019-01-01</td>\n",
       "      <td>ZOETIS INC.</td>\n",
       "      <td>2834</td>\n",
       "      <td>Pharmaceutical Preparations</td>\n",
       "      <td>expense cost sale consist primarily cost mater...</td>\n",
       "    </tr>\n",
       "    <tr>\n",
       "      <th>673</th>\n",
       "      <td>2019-01-01</td>\n",
       "      <td>STAG INDUSTRIAL, INC.</td>\n",
       "      <td>6798</td>\n",
       "      <td>Real Estate Investment Trusts</td>\n",
       "      <td>certain definitionsin report define gaap gener...</td>\n",
       "    </tr>\n",
       "    <tr>\n",
       "      <th>674</th>\n",
       "      <td>2019-01-01</td>\n",
       "      <td>EQUINIX INC</td>\n",
       "      <td>6798</td>\n",
       "      <td>Real Estate Investment Trusts</td>\n",
       "      <td>word equinix u company refer equinix statement...</td>\n",
       "    </tr>\n",
       "  </tbody>\n",
       "</table>\n",
       "<p>675 rows × 5 columns</p>\n",
       "</div>"
      ],
      "text/plain": [
       "    reportingDate                                              name   SIC  \\\n",
       "0      2018-02-01                                     MONGODB, INC.  7372   \n",
       "1      2018-02-01                                SALESFORCE COM INC  7372   \n",
       "2      2018-02-01                                        SPLUNK INC  7372   \n",
       "3      2018-02-01                                        OKTA, INC.  7372   \n",
       "4      2018-02-01                                 VEEVA SYSTEMS INC  7372   \n",
       "..            ...                                               ...   ...   \n",
       "670    2019-01-01  AMERICAN REALTY CAPITAL NEW YORK CITY REIT, INC.  6798   \n",
       "671    2019-01-01                    CYCLACEL PHARMACEUTICALS, INC.  2834   \n",
       "672    2019-01-01                                       ZOETIS INC.  2834   \n",
       "673    2019-01-01                             STAG INDUSTRIAL, INC.  6798   \n",
       "674    2019-01-01                                       EQUINIX INC  6798   \n",
       "\n",
       "                                              SIC_desc  \\\n",
       "0    Prepackaged Software (mass reproduction of sof...   \n",
       "1    Prepackaged Software (mass reproduction of sof...   \n",
       "2    Prepackaged Software (mass reproduction of sof...   \n",
       "3    Prepackaged Software (mass reproduction of sof...   \n",
       "4    Prepackaged Software (mass reproduction of sof...   \n",
       "..                                                 ...   \n",
       "670                      Real Estate Investment Trusts   \n",
       "671                        Pharmaceutical Preparations   \n",
       "672                        Pharmaceutical Preparations   \n",
       "673                      Real Estate Investment Trusts   \n",
       "674                      Real Estate Investment Trusts   \n",
       "\n",
       "                               coDescription_stopwords  \n",
       "0    mongodb leading modern general purpose databas...  \n",
       "1    salesforce global leader customer relationship...  \n",
       "2    splunk provides innovative software solution e...  \n",
       "3    okta leading independent provider identity ent...  \n",
       "4    veeva leading provider industry cloud solution...  \n",
       "..                                                 ...  \n",
       "670  ationwe incorporated december maryland corpora...  \n",
       "671  llowing business section contains statement ac...  \n",
       "672  expense cost sale consist primarily cost mater...  \n",
       "673  certain definitionsin report define gaap gener...  \n",
       "674  word equinix u company refer equinix statement...  \n",
       "\n",
       "[675 rows x 5 columns]"
      ]
     },
     "execution_count": 2,
     "metadata": {},
     "output_type": "execute_result"
    }
   ],
   "source": [
    "df = pd.read_csv('../data/preprocessed.csv', \n",
    "                usecols = ['reportingDate', 'name', \n",
    "                           'coDescription_stopwords', 'SIC', 'SIC_desc'])"
   ]
  },
  {
   "cell_type": "markdown",
   "id": "9eeff1e1",
   "metadata": {},
   "source": [
    "### Words Counting"
   ]
  },
  {
   "cell_type": "code",
   "execution_count": 4,
   "id": "99da14a6",
   "metadata": {},
   "outputs": [],
   "source": [
    "from sklearn.feature_extraction.text import CountVectorizer\n",
    "\n",
    "Vectorizer = CountVectorizer(ngram_range = (2,4), \n",
    "                             max_features = 600)\n",
    "\n",
    "count_data = Vectorizer.fit_transform(df['coDescription_stopwords'])"
   ]
  },
  {
   "cell_type": "code",
   "execution_count": 5,
   "id": "8058095d",
   "metadata": {},
   "outputs": [
    {
     "name": "stderr",
     "output_type": "stream",
     "text": [
      "/Users/lulu/opt/anaconda3/lib/python3.9/site-packages/sklearn/utils/deprecation.py:87: FutureWarning: Function get_feature_names is deprecated; get_feature_names is deprecated in 1.0 and will be removed in 1.2. Please use get_feature_names_out instead.\n",
      "  warnings.warn(msg, category=FutureWarning)\n"
     ]
    }
   ],
   "source": [
    "wordsCount = pd.DataFrame(count_data.toarray(),columns=Vectorizer.get_feature_names())"
   ]
  },
  {
   "cell_type": "code",
   "execution_count": 6,
   "id": "35fe6ee4",
   "metadata": {},
   "outputs": [],
   "source": [
    "wordsCount = wordsCount.set_index(df['name'])"
   ]
  },
  {
   "cell_type": "code",
   "execution_count": 7,
   "id": "9d845496",
   "metadata": {
    "scrolled": false
   },
   "outputs": [
    {
     "data": {
      "text/html": [
       "<div>\n",
       "<style scoped>\n",
       "    .dataframe tbody tr th:only-of-type {\n",
       "        vertical-align: middle;\n",
       "    }\n",
       "\n",
       "    .dataframe tbody tr th {\n",
       "        vertical-align: top;\n",
       "    }\n",
       "\n",
       "    .dataframe thead th {\n",
       "        text-align: right;\n",
       "    }\n",
       "</style>\n",
       "<table border=\"1\" class=\"dataframe\">\n",
       "  <thead>\n",
       "    <tr style=\"text-align: right;\">\n",
       "      <th></th>\n",
       "      <th>ability make</th>\n",
       "      <th>accounting standard</th>\n",
       "      <th>acquire property</th>\n",
       "      <th>act act</th>\n",
       "      <th>act amended</th>\n",
       "      <th>additional information</th>\n",
       "      <th>adequately capitalized</th>\n",
       "      <th>adverse effect</th>\n",
       "      <th>adverse effect business</th>\n",
       "      <th>adverse event</th>\n",
       "      <th>...</th>\n",
       "      <th>wa million</th>\n",
       "      <th>weighted average</th>\n",
       "      <th>well capitalized</th>\n",
       "      <th>wholly owned</th>\n",
       "      <th>wholly owned subsidiary</th>\n",
       "      <th>wide range</th>\n",
       "      <th>within day</th>\n",
       "      <th>working interest</th>\n",
       "      <th>year ended</th>\n",
       "      <th>year ended december</th>\n",
       "    </tr>\n",
       "    <tr>\n",
       "      <th>name</th>\n",
       "      <th></th>\n",
       "      <th></th>\n",
       "      <th></th>\n",
       "      <th></th>\n",
       "      <th></th>\n",
       "      <th></th>\n",
       "      <th></th>\n",
       "      <th></th>\n",
       "      <th></th>\n",
       "      <th></th>\n",
       "      <th></th>\n",
       "      <th></th>\n",
       "      <th></th>\n",
       "      <th></th>\n",
       "      <th></th>\n",
       "      <th></th>\n",
       "      <th></th>\n",
       "      <th></th>\n",
       "      <th></th>\n",
       "      <th></th>\n",
       "      <th></th>\n",
       "    </tr>\n",
       "  </thead>\n",
       "  <tbody>\n",
       "    <tr>\n",
       "      <th>MONGODB, INC.</th>\n",
       "      <td>0</td>\n",
       "      <td>0</td>\n",
       "      <td>0</td>\n",
       "      <td>0</td>\n",
       "      <td>0</td>\n",
       "      <td>0</td>\n",
       "      <td>0</td>\n",
       "      <td>0</td>\n",
       "      <td>0</td>\n",
       "      <td>0</td>\n",
       "      <td>...</td>\n",
       "      <td>0</td>\n",
       "      <td>0</td>\n",
       "      <td>0</td>\n",
       "      <td>0</td>\n",
       "      <td>0</td>\n",
       "      <td>3</td>\n",
       "      <td>0</td>\n",
       "      <td>0</td>\n",
       "      <td>5</td>\n",
       "      <td>0</td>\n",
       "    </tr>\n",
       "    <tr>\n",
       "      <th>SALESFORCE COM INC</th>\n",
       "      <td>0</td>\n",
       "      <td>0</td>\n",
       "      <td>0</td>\n",
       "      <td>0</td>\n",
       "      <td>0</td>\n",
       "      <td>0</td>\n",
       "      <td>0</td>\n",
       "      <td>0</td>\n",
       "      <td>0</td>\n",
       "      <td>0</td>\n",
       "      <td>...</td>\n",
       "      <td>0</td>\n",
       "      <td>0</td>\n",
       "      <td>0</td>\n",
       "      <td>0</td>\n",
       "      <td>0</td>\n",
       "      <td>0</td>\n",
       "      <td>0</td>\n",
       "      <td>0</td>\n",
       "      <td>0</td>\n",
       "      <td>0</td>\n",
       "    </tr>\n",
       "    <tr>\n",
       "      <th>SPLUNK INC</th>\n",
       "      <td>0</td>\n",
       "      <td>0</td>\n",
       "      <td>0</td>\n",
       "      <td>0</td>\n",
       "      <td>1</td>\n",
       "      <td>2</td>\n",
       "      <td>0</td>\n",
       "      <td>0</td>\n",
       "      <td>0</td>\n",
       "      <td>0</td>\n",
       "      <td>...</td>\n",
       "      <td>0</td>\n",
       "      <td>0</td>\n",
       "      <td>0</td>\n",
       "      <td>0</td>\n",
       "      <td>0</td>\n",
       "      <td>0</td>\n",
       "      <td>0</td>\n",
       "      <td>0</td>\n",
       "      <td>0</td>\n",
       "      <td>0</td>\n",
       "    </tr>\n",
       "    <tr>\n",
       "      <th>OKTA, INC.</th>\n",
       "      <td>0</td>\n",
       "      <td>0</td>\n",
       "      <td>0</td>\n",
       "      <td>0</td>\n",
       "      <td>0</td>\n",
       "      <td>1</td>\n",
       "      <td>0</td>\n",
       "      <td>0</td>\n",
       "      <td>0</td>\n",
       "      <td>0</td>\n",
       "      <td>...</td>\n",
       "      <td>0</td>\n",
       "      <td>0</td>\n",
       "      <td>0</td>\n",
       "      <td>0</td>\n",
       "      <td>0</td>\n",
       "      <td>1</td>\n",
       "      <td>0</td>\n",
       "      <td>0</td>\n",
       "      <td>1</td>\n",
       "      <td>0</td>\n",
       "    </tr>\n",
       "    <tr>\n",
       "      <th>VEEVA SYSTEMS INC</th>\n",
       "      <td>0</td>\n",
       "      <td>12</td>\n",
       "      <td>0</td>\n",
       "      <td>1</td>\n",
       "      <td>4</td>\n",
       "      <td>1</td>\n",
       "      <td>0</td>\n",
       "      <td>7</td>\n",
       "      <td>4</td>\n",
       "      <td>0</td>\n",
       "      <td>...</td>\n",
       "      <td>18</td>\n",
       "      <td>4</td>\n",
       "      <td>0</td>\n",
       "      <td>0</td>\n",
       "      <td>0</td>\n",
       "      <td>0</td>\n",
       "      <td>1</td>\n",
       "      <td>0</td>\n",
       "      <td>102</td>\n",
       "      <td>0</td>\n",
       "    </tr>\n",
       "    <tr>\n",
       "      <th>...</th>\n",
       "      <td>...</td>\n",
       "      <td>...</td>\n",
       "      <td>...</td>\n",
       "      <td>...</td>\n",
       "      <td>...</td>\n",
       "      <td>...</td>\n",
       "      <td>...</td>\n",
       "      <td>...</td>\n",
       "      <td>...</td>\n",
       "      <td>...</td>\n",
       "      <td>...</td>\n",
       "      <td>...</td>\n",
       "      <td>...</td>\n",
       "      <td>...</td>\n",
       "      <td>...</td>\n",
       "      <td>...</td>\n",
       "      <td>...</td>\n",
       "      <td>...</td>\n",
       "      <td>...</td>\n",
       "      <td>...</td>\n",
       "      <td>...</td>\n",
       "    </tr>\n",
       "    <tr>\n",
       "      <th>AMERICAN REALTY CAPITAL NEW YORK CITY REIT, INC.</th>\n",
       "      <td>0</td>\n",
       "      <td>0</td>\n",
       "      <td>1</td>\n",
       "      <td>0</td>\n",
       "      <td>0</td>\n",
       "      <td>1</td>\n",
       "      <td>0</td>\n",
       "      <td>1</td>\n",
       "      <td>0</td>\n",
       "      <td>0</td>\n",
       "      <td>...</td>\n",
       "      <td>0</td>\n",
       "      <td>0</td>\n",
       "      <td>0</td>\n",
       "      <td>0</td>\n",
       "      <td>0</td>\n",
       "      <td>0</td>\n",
       "      <td>0</td>\n",
       "      <td>0</td>\n",
       "      <td>2</td>\n",
       "      <td>2</td>\n",
       "    </tr>\n",
       "    <tr>\n",
       "      <th>CYCLACEL PHARMACEUTICALS, INC.</th>\n",
       "      <td>0</td>\n",
       "      <td>0</td>\n",
       "      <td>0</td>\n",
       "      <td>0</td>\n",
       "      <td>0</td>\n",
       "      <td>1</td>\n",
       "      <td>0</td>\n",
       "      <td>1</td>\n",
       "      <td>0</td>\n",
       "      <td>1</td>\n",
       "      <td>...</td>\n",
       "      <td>0</td>\n",
       "      <td>0</td>\n",
       "      <td>0</td>\n",
       "      <td>0</td>\n",
       "      <td>0</td>\n",
       "      <td>0</td>\n",
       "      <td>1</td>\n",
       "      <td>0</td>\n",
       "      <td>0</td>\n",
       "      <td>0</td>\n",
       "    </tr>\n",
       "    <tr>\n",
       "      <th>ZOETIS INC.</th>\n",
       "      <td>0</td>\n",
       "      <td>17</td>\n",
       "      <td>0</td>\n",
       "      <td>0</td>\n",
       "      <td>0</td>\n",
       "      <td>12</td>\n",
       "      <td>0</td>\n",
       "      <td>3</td>\n",
       "      <td>0</td>\n",
       "      <td>0</td>\n",
       "      <td>...</td>\n",
       "      <td>20</td>\n",
       "      <td>5</td>\n",
       "      <td>0</td>\n",
       "      <td>1</td>\n",
       "      <td>1</td>\n",
       "      <td>0</td>\n",
       "      <td>2</td>\n",
       "      <td>0</td>\n",
       "      <td>84</td>\n",
       "      <td>83</td>\n",
       "    </tr>\n",
       "    <tr>\n",
       "      <th>STAG INDUSTRIAL, INC.</th>\n",
       "      <td>0</td>\n",
       "      <td>0</td>\n",
       "      <td>1</td>\n",
       "      <td>0</td>\n",
       "      <td>1</td>\n",
       "      <td>0</td>\n",
       "      <td>0</td>\n",
       "      <td>1</td>\n",
       "      <td>1</td>\n",
       "      <td>0</td>\n",
       "      <td>...</td>\n",
       "      <td>0</td>\n",
       "      <td>0</td>\n",
       "      <td>0</td>\n",
       "      <td>0</td>\n",
       "      <td>0</td>\n",
       "      <td>0</td>\n",
       "      <td>0</td>\n",
       "      <td>0</td>\n",
       "      <td>2</td>\n",
       "      <td>2</td>\n",
       "    </tr>\n",
       "    <tr>\n",
       "      <th>EQUINIX INC</th>\n",
       "      <td>0</td>\n",
       "      <td>0</td>\n",
       "      <td>0</td>\n",
       "      <td>0</td>\n",
       "      <td>2</td>\n",
       "      <td>0</td>\n",
       "      <td>0</td>\n",
       "      <td>0</td>\n",
       "      <td>0</td>\n",
       "      <td>0</td>\n",
       "      <td>...</td>\n",
       "      <td>0</td>\n",
       "      <td>0</td>\n",
       "      <td>0</td>\n",
       "      <td>0</td>\n",
       "      <td>0</td>\n",
       "      <td>0</td>\n",
       "      <td>0</td>\n",
       "      <td>0</td>\n",
       "      <td>2</td>\n",
       "      <td>2</td>\n",
       "    </tr>\n",
       "  </tbody>\n",
       "</table>\n",
       "<p>675 rows × 600 columns</p>\n",
       "</div>"
      ],
      "text/plain": [
       "                                                  ability make  \\\n",
       "name                                                             \n",
       "MONGODB, INC.                                                0   \n",
       "SALESFORCE COM INC                                           0   \n",
       "SPLUNK INC                                                   0   \n",
       "OKTA, INC.                                                   0   \n",
       "VEEVA SYSTEMS INC                                            0   \n",
       "...                                                        ...   \n",
       "AMERICAN REALTY CAPITAL NEW YORK CITY REIT, INC.             0   \n",
       "CYCLACEL PHARMACEUTICALS, INC.                               0   \n",
       "ZOETIS INC.                                                  0   \n",
       "STAG INDUSTRIAL, INC.                                        0   \n",
       "EQUINIX INC                                                  0   \n",
       "\n",
       "                                                  accounting standard  \\\n",
       "name                                                                    \n",
       "MONGODB, INC.                                                       0   \n",
       "SALESFORCE COM INC                                                  0   \n",
       "SPLUNK INC                                                          0   \n",
       "OKTA, INC.                                                          0   \n",
       "VEEVA SYSTEMS INC                                                  12   \n",
       "...                                                               ...   \n",
       "AMERICAN REALTY CAPITAL NEW YORK CITY REIT, INC.                    0   \n",
       "CYCLACEL PHARMACEUTICALS, INC.                                      0   \n",
       "ZOETIS INC.                                                        17   \n",
       "STAG INDUSTRIAL, INC.                                               0   \n",
       "EQUINIX INC                                                         0   \n",
       "\n",
       "                                                  acquire property  act act  \\\n",
       "name                                                                          \n",
       "MONGODB, INC.                                                    0        0   \n",
       "SALESFORCE COM INC                                               0        0   \n",
       "SPLUNK INC                                                       0        0   \n",
       "OKTA, INC.                                                       0        0   \n",
       "VEEVA SYSTEMS INC                                                0        1   \n",
       "...                                                            ...      ...   \n",
       "AMERICAN REALTY CAPITAL NEW YORK CITY REIT, INC.                 1        0   \n",
       "CYCLACEL PHARMACEUTICALS, INC.                                   0        0   \n",
       "ZOETIS INC.                                                      0        0   \n",
       "STAG INDUSTRIAL, INC.                                            1        0   \n",
       "EQUINIX INC                                                      0        0   \n",
       "\n",
       "                                                  act amended  \\\n",
       "name                                                            \n",
       "MONGODB, INC.                                               0   \n",
       "SALESFORCE COM INC                                          0   \n",
       "SPLUNK INC                                                  1   \n",
       "OKTA, INC.                                                  0   \n",
       "VEEVA SYSTEMS INC                                           4   \n",
       "...                                                       ...   \n",
       "AMERICAN REALTY CAPITAL NEW YORK CITY REIT, INC.            0   \n",
       "CYCLACEL PHARMACEUTICALS, INC.                              0   \n",
       "ZOETIS INC.                                                 0   \n",
       "STAG INDUSTRIAL, INC.                                       1   \n",
       "EQUINIX INC                                                 2   \n",
       "\n",
       "                                                  additional information  \\\n",
       "name                                                                       \n",
       "MONGODB, INC.                                                          0   \n",
       "SALESFORCE COM INC                                                     0   \n",
       "SPLUNK INC                                                             2   \n",
       "OKTA, INC.                                                             1   \n",
       "VEEVA SYSTEMS INC                                                      1   \n",
       "...                                                                  ...   \n",
       "AMERICAN REALTY CAPITAL NEW YORK CITY REIT, INC.                       1   \n",
       "CYCLACEL PHARMACEUTICALS, INC.                                         1   \n",
       "ZOETIS INC.                                                           12   \n",
       "STAG INDUSTRIAL, INC.                                                  0   \n",
       "EQUINIX INC                                                            0   \n",
       "\n",
       "                                                  adequately capitalized  \\\n",
       "name                                                                       \n",
       "MONGODB, INC.                                                          0   \n",
       "SALESFORCE COM INC                                                     0   \n",
       "SPLUNK INC                                                             0   \n",
       "OKTA, INC.                                                             0   \n",
       "VEEVA SYSTEMS INC                                                      0   \n",
       "...                                                                  ...   \n",
       "AMERICAN REALTY CAPITAL NEW YORK CITY REIT, INC.                       0   \n",
       "CYCLACEL PHARMACEUTICALS, INC.                                         0   \n",
       "ZOETIS INC.                                                            0   \n",
       "STAG INDUSTRIAL, INC.                                                  0   \n",
       "EQUINIX INC                                                            0   \n",
       "\n",
       "                                                  adverse effect  \\\n",
       "name                                                               \n",
       "MONGODB, INC.                                                  0   \n",
       "SALESFORCE COM INC                                             0   \n",
       "SPLUNK INC                                                     0   \n",
       "OKTA, INC.                                                     0   \n",
       "VEEVA SYSTEMS INC                                              7   \n",
       "...                                                          ...   \n",
       "AMERICAN REALTY CAPITAL NEW YORK CITY REIT, INC.               1   \n",
       "CYCLACEL PHARMACEUTICALS, INC.                                 1   \n",
       "ZOETIS INC.                                                    3   \n",
       "STAG INDUSTRIAL, INC.                                          1   \n",
       "EQUINIX INC                                                    0   \n",
       "\n",
       "                                                  adverse effect business  \\\n",
       "name                                                                        \n",
       "MONGODB, INC.                                                           0   \n",
       "SALESFORCE COM INC                                                      0   \n",
       "SPLUNK INC                                                              0   \n",
       "OKTA, INC.                                                              0   \n",
       "VEEVA SYSTEMS INC                                                       4   \n",
       "...                                                                   ...   \n",
       "AMERICAN REALTY CAPITAL NEW YORK CITY REIT, INC.                        0   \n",
       "CYCLACEL PHARMACEUTICALS, INC.                                          0   \n",
       "ZOETIS INC.                                                             0   \n",
       "STAG INDUSTRIAL, INC.                                                   1   \n",
       "EQUINIX INC                                                             0   \n",
       "\n",
       "                                                  adverse event  ...  \\\n",
       "name                                                             ...   \n",
       "MONGODB, INC.                                                 0  ...   \n",
       "SALESFORCE COM INC                                            0  ...   \n",
       "SPLUNK INC                                                    0  ...   \n",
       "OKTA, INC.                                                    0  ...   \n",
       "VEEVA SYSTEMS INC                                             0  ...   \n",
       "...                                                         ...  ...   \n",
       "AMERICAN REALTY CAPITAL NEW YORK CITY REIT, INC.              0  ...   \n",
       "CYCLACEL PHARMACEUTICALS, INC.                                1  ...   \n",
       "ZOETIS INC.                                                   0  ...   \n",
       "STAG INDUSTRIAL, INC.                                         0  ...   \n",
       "EQUINIX INC                                                   0  ...   \n",
       "\n",
       "                                                  wa million  \\\n",
       "name                                                           \n",
       "MONGODB, INC.                                              0   \n",
       "SALESFORCE COM INC                                         0   \n",
       "SPLUNK INC                                                 0   \n",
       "OKTA, INC.                                                 0   \n",
       "VEEVA SYSTEMS INC                                         18   \n",
       "...                                                      ...   \n",
       "AMERICAN REALTY CAPITAL NEW YORK CITY REIT, INC.           0   \n",
       "CYCLACEL PHARMACEUTICALS, INC.                             0   \n",
       "ZOETIS INC.                                               20   \n",
       "STAG INDUSTRIAL, INC.                                      0   \n",
       "EQUINIX INC                                                0   \n",
       "\n",
       "                                                  weighted average  \\\n",
       "name                                                                 \n",
       "MONGODB, INC.                                                    0   \n",
       "SALESFORCE COM INC                                               0   \n",
       "SPLUNK INC                                                       0   \n",
       "OKTA, INC.                                                       0   \n",
       "VEEVA SYSTEMS INC                                                4   \n",
       "...                                                            ...   \n",
       "AMERICAN REALTY CAPITAL NEW YORK CITY REIT, INC.                 0   \n",
       "CYCLACEL PHARMACEUTICALS, INC.                                   0   \n",
       "ZOETIS INC.                                                      5   \n",
       "STAG INDUSTRIAL, INC.                                            0   \n",
       "EQUINIX INC                                                      0   \n",
       "\n",
       "                                                  well capitalized  \\\n",
       "name                                                                 \n",
       "MONGODB, INC.                                                    0   \n",
       "SALESFORCE COM INC                                               0   \n",
       "SPLUNK INC                                                       0   \n",
       "OKTA, INC.                                                       0   \n",
       "VEEVA SYSTEMS INC                                                0   \n",
       "...                                                            ...   \n",
       "AMERICAN REALTY CAPITAL NEW YORK CITY REIT, INC.                 0   \n",
       "CYCLACEL PHARMACEUTICALS, INC.                                   0   \n",
       "ZOETIS INC.                                                      0   \n",
       "STAG INDUSTRIAL, INC.                                            0   \n",
       "EQUINIX INC                                                      0   \n",
       "\n",
       "                                                  wholly owned  \\\n",
       "name                                                             \n",
       "MONGODB, INC.                                                0   \n",
       "SALESFORCE COM INC                                           0   \n",
       "SPLUNK INC                                                   0   \n",
       "OKTA, INC.                                                   0   \n",
       "VEEVA SYSTEMS INC                                            0   \n",
       "...                                                        ...   \n",
       "AMERICAN REALTY CAPITAL NEW YORK CITY REIT, INC.             0   \n",
       "CYCLACEL PHARMACEUTICALS, INC.                               0   \n",
       "ZOETIS INC.                                                  1   \n",
       "STAG INDUSTRIAL, INC.                                        0   \n",
       "EQUINIX INC                                                  0   \n",
       "\n",
       "                                                  wholly owned subsidiary  \\\n",
       "name                                                                        \n",
       "MONGODB, INC.                                                           0   \n",
       "SALESFORCE COM INC                                                      0   \n",
       "SPLUNK INC                                                              0   \n",
       "OKTA, INC.                                                              0   \n",
       "VEEVA SYSTEMS INC                                                       0   \n",
       "...                                                                   ...   \n",
       "AMERICAN REALTY CAPITAL NEW YORK CITY REIT, INC.                        0   \n",
       "CYCLACEL PHARMACEUTICALS, INC.                                          0   \n",
       "ZOETIS INC.                                                             1   \n",
       "STAG INDUSTRIAL, INC.                                                   0   \n",
       "EQUINIX INC                                                             0   \n",
       "\n",
       "                                                  wide range  within day  \\\n",
       "name                                                                       \n",
       "MONGODB, INC.                                              3           0   \n",
       "SALESFORCE COM INC                                         0           0   \n",
       "SPLUNK INC                                                 0           0   \n",
       "OKTA, INC.                                                 1           0   \n",
       "VEEVA SYSTEMS INC                                          0           1   \n",
       "...                                                      ...         ...   \n",
       "AMERICAN REALTY CAPITAL NEW YORK CITY REIT, INC.           0           0   \n",
       "CYCLACEL PHARMACEUTICALS, INC.                             0           1   \n",
       "ZOETIS INC.                                                0           2   \n",
       "STAG INDUSTRIAL, INC.                                      0           0   \n",
       "EQUINIX INC                                                0           0   \n",
       "\n",
       "                                                  working interest  \\\n",
       "name                                                                 \n",
       "MONGODB, INC.                                                    0   \n",
       "SALESFORCE COM INC                                               0   \n",
       "SPLUNK INC                                                       0   \n",
       "OKTA, INC.                                                       0   \n",
       "VEEVA SYSTEMS INC                                                0   \n",
       "...                                                            ...   \n",
       "AMERICAN REALTY CAPITAL NEW YORK CITY REIT, INC.                 0   \n",
       "CYCLACEL PHARMACEUTICALS, INC.                                   0   \n",
       "ZOETIS INC.                                                      0   \n",
       "STAG INDUSTRIAL, INC.                                            0   \n",
       "EQUINIX INC                                                      0   \n",
       "\n",
       "                                                  year ended  \\\n",
       "name                                                           \n",
       "MONGODB, INC.                                              5   \n",
       "SALESFORCE COM INC                                         0   \n",
       "SPLUNK INC                                                 0   \n",
       "OKTA, INC.                                                 1   \n",
       "VEEVA SYSTEMS INC                                        102   \n",
       "...                                                      ...   \n",
       "AMERICAN REALTY CAPITAL NEW YORK CITY REIT, INC.           2   \n",
       "CYCLACEL PHARMACEUTICALS, INC.                             0   \n",
       "ZOETIS INC.                                               84   \n",
       "STAG INDUSTRIAL, INC.                                      2   \n",
       "EQUINIX INC                                                2   \n",
       "\n",
       "                                                  year ended december  \n",
       "name                                                                   \n",
       "MONGODB, INC.                                                       0  \n",
       "SALESFORCE COM INC                                                  0  \n",
       "SPLUNK INC                                                          0  \n",
       "OKTA, INC.                                                          0  \n",
       "VEEVA SYSTEMS INC                                                   0  \n",
       "...                                                               ...  \n",
       "AMERICAN REALTY CAPITAL NEW YORK CITY REIT, INC.                    2  \n",
       "CYCLACEL PHARMACEUTICALS, INC.                                      0  \n",
       "ZOETIS INC.                                                        83  \n",
       "STAG INDUSTRIAL, INC.                                               2  \n",
       "EQUINIX INC                                                         2  \n",
       "\n",
       "[675 rows x 600 columns]"
      ]
     },
     "execution_count": 7,
     "metadata": {},
     "output_type": "execute_result"
    }
   ],
   "source": [
    "wordsCount"
   ]
  },
  {
   "cell_type": "markdown",
   "id": "87c1cdc5",
   "metadata": {},
   "source": [
    "## Compute Cosine Similarity"
   ]
  },
  {
   "cell_type": "code",
   "execution_count": 8,
   "id": "c4e6cf8d",
   "metadata": {},
   "outputs": [],
   "source": [
    "# Compute Cosine Similarity\n",
    "from sklearn.metrics.pairwise import cosine_similarity\n",
    "cosine_sim = pd.DataFrame(cosine_similarity(wordsCount, wordsCount))"
   ]
  },
  {
   "cell_type": "code",
   "execution_count": 9,
   "id": "996cac36",
   "metadata": {},
   "outputs": [],
   "source": [
    "cosine_sim = cosine_sim.set_index(df['name'])\n",
    "cosine_sim.columns = df['name']"
   ]
  },
  {
   "cell_type": "code",
   "execution_count": 10,
   "id": "b788d270",
   "metadata": {},
   "outputs": [
    {
     "data": {
      "text/html": [
       "<div>\n",
       "<style scoped>\n",
       "    .dataframe tbody tr th:only-of-type {\n",
       "        vertical-align: middle;\n",
       "    }\n",
       "\n",
       "    .dataframe tbody tr th {\n",
       "        vertical-align: top;\n",
       "    }\n",
       "\n",
       "    .dataframe thead th {\n",
       "        text-align: right;\n",
       "    }\n",
       "</style>\n",
       "<table border=\"1\" class=\"dataframe\">\n",
       "  <thead>\n",
       "    <tr style=\"text-align: right;\">\n",
       "      <th>name</th>\n",
       "      <th>MONGODB, INC.</th>\n",
       "      <th>SALESFORCE COM INC</th>\n",
       "      <th>SPLUNK INC</th>\n",
       "      <th>OKTA, INC.</th>\n",
       "      <th>VEEVA SYSTEMS INC</th>\n",
       "      <th>AUTODESK INC</th>\n",
       "      <th>INTERNATIONAL WESTERN PETROLEUM, INC.</th>\n",
       "      <th>DAYBREAK OIL &amp; GAS, INC.</th>\n",
       "      <th>ETERNAL SPEECH, INC.</th>\n",
       "      <th>ETERNAL SPEECH, INC.</th>\n",
       "      <th>...</th>\n",
       "      <th>OMEGA HEALTHCARE INVESTORS INC</th>\n",
       "      <th>TABLEAU SOFTWARE INC</th>\n",
       "      <th>HORIZON PHARMA PLC</th>\n",
       "      <th>MERRIMACK PHARMACEUTICALS INC</th>\n",
       "      <th>REVEN HOUSING REIT, INC.</th>\n",
       "      <th>AMERICAN REALTY CAPITAL NEW YORK CITY REIT, INC.</th>\n",
       "      <th>CYCLACEL PHARMACEUTICALS, INC.</th>\n",
       "      <th>ZOETIS INC.</th>\n",
       "      <th>STAG INDUSTRIAL, INC.</th>\n",
       "      <th>EQUINIX INC</th>\n",
       "    </tr>\n",
       "    <tr>\n",
       "      <th>name</th>\n",
       "      <th></th>\n",
       "      <th></th>\n",
       "      <th></th>\n",
       "      <th></th>\n",
       "      <th></th>\n",
       "      <th></th>\n",
       "      <th></th>\n",
       "      <th></th>\n",
       "      <th></th>\n",
       "      <th></th>\n",
       "      <th></th>\n",
       "      <th></th>\n",
       "      <th></th>\n",
       "      <th></th>\n",
       "      <th></th>\n",
       "      <th></th>\n",
       "      <th></th>\n",
       "      <th></th>\n",
       "      <th></th>\n",
       "      <th></th>\n",
       "      <th></th>\n",
       "    </tr>\n",
       "  </thead>\n",
       "  <tbody>\n",
       "    <tr>\n",
       "      <th>MONGODB, INC.</th>\n",
       "      <td>1.000000</td>\n",
       "      <td>0.445455</td>\n",
       "      <td>0.610272</td>\n",
       "      <td>0.620961</td>\n",
       "      <td>0.500762</td>\n",
       "      <td>0.338268</td>\n",
       "      <td>0.065380</td>\n",
       "      <td>0.052345</td>\n",
       "      <td>0.000000</td>\n",
       "      <td>0.000000</td>\n",
       "      <td>...</td>\n",
       "      <td>0.050935</td>\n",
       "      <td>0.630465</td>\n",
       "      <td>0.436327</td>\n",
       "      <td>0.143385</td>\n",
       "      <td>0.066598</td>\n",
       "      <td>0.135839</td>\n",
       "      <td>0.144678</td>\n",
       "      <td>0.189609</td>\n",
       "      <td>0.178397</td>\n",
       "      <td>0.102958</td>\n",
       "    </tr>\n",
       "    <tr>\n",
       "      <th>SALESFORCE COM INC</th>\n",
       "      <td>0.445455</td>\n",
       "      <td>1.000000</td>\n",
       "      <td>0.635969</td>\n",
       "      <td>0.455189</td>\n",
       "      <td>0.196053</td>\n",
       "      <td>0.418546</td>\n",
       "      <td>0.043515</td>\n",
       "      <td>0.064999</td>\n",
       "      <td>0.000000</td>\n",
       "      <td>0.000000</td>\n",
       "      <td>...</td>\n",
       "      <td>0.029326</td>\n",
       "      <td>0.492079</td>\n",
       "      <td>0.300027</td>\n",
       "      <td>0.133831</td>\n",
       "      <td>0.201221</td>\n",
       "      <td>0.201230</td>\n",
       "      <td>0.145089</td>\n",
       "      <td>0.075038</td>\n",
       "      <td>0.277952</td>\n",
       "      <td>0.354856</td>\n",
       "    </tr>\n",
       "    <tr>\n",
       "      <th>SPLUNK INC</th>\n",
       "      <td>0.610272</td>\n",
       "      <td>0.635969</td>\n",
       "      <td>1.000000</td>\n",
       "      <td>0.665648</td>\n",
       "      <td>0.274023</td>\n",
       "      <td>0.373142</td>\n",
       "      <td>0.019112</td>\n",
       "      <td>0.073553</td>\n",
       "      <td>0.000000</td>\n",
       "      <td>0.000000</td>\n",
       "      <td>...</td>\n",
       "      <td>0.018032</td>\n",
       "      <td>0.569939</td>\n",
       "      <td>0.330028</td>\n",
       "      <td>0.116923</td>\n",
       "      <td>0.109538</td>\n",
       "      <td>0.142041</td>\n",
       "      <td>0.128467</td>\n",
       "      <td>0.136418</td>\n",
       "      <td>0.194072</td>\n",
       "      <td>0.273502</td>\n",
       "    </tr>\n",
       "    <tr>\n",
       "      <th>OKTA, INC.</th>\n",
       "      <td>0.620961</td>\n",
       "      <td>0.455189</td>\n",
       "      <td>0.665648</td>\n",
       "      <td>1.000000</td>\n",
       "      <td>0.195672</td>\n",
       "      <td>0.399874</td>\n",
       "      <td>0.013240</td>\n",
       "      <td>0.093942</td>\n",
       "      <td>0.000000</td>\n",
       "      <td>0.000000</td>\n",
       "      <td>...</td>\n",
       "      <td>0.013905</td>\n",
       "      <td>0.579884</td>\n",
       "      <td>0.541775</td>\n",
       "      <td>0.163709</td>\n",
       "      <td>0.109948</td>\n",
       "      <td>0.144051</td>\n",
       "      <td>0.170361</td>\n",
       "      <td>0.111937</td>\n",
       "      <td>0.163588</td>\n",
       "      <td>0.074624</td>\n",
       "    </tr>\n",
       "    <tr>\n",
       "      <th>VEEVA SYSTEMS INC</th>\n",
       "      <td>0.500762</td>\n",
       "      <td>0.196053</td>\n",
       "      <td>0.274023</td>\n",
       "      <td>0.195672</td>\n",
       "      <td>1.000000</td>\n",
       "      <td>0.079927</td>\n",
       "      <td>0.074096</td>\n",
       "      <td>0.030179</td>\n",
       "      <td>0.075713</td>\n",
       "      <td>0.075713</td>\n",
       "      <td>...</td>\n",
       "      <td>0.424046</td>\n",
       "      <td>0.280852</td>\n",
       "      <td>0.153335</td>\n",
       "      <td>0.083683</td>\n",
       "      <td>0.128762</td>\n",
       "      <td>0.211695</td>\n",
       "      <td>0.060273</td>\n",
       "      <td>0.501041</td>\n",
       "      <td>0.332207</td>\n",
       "      <td>0.064207</td>\n",
       "    </tr>\n",
       "    <tr>\n",
       "      <th>...</th>\n",
       "      <td>...</td>\n",
       "      <td>...</td>\n",
       "      <td>...</td>\n",
       "      <td>...</td>\n",
       "      <td>...</td>\n",
       "      <td>...</td>\n",
       "      <td>...</td>\n",
       "      <td>...</td>\n",
       "      <td>...</td>\n",
       "      <td>...</td>\n",
       "      <td>...</td>\n",
       "      <td>...</td>\n",
       "      <td>...</td>\n",
       "      <td>...</td>\n",
       "      <td>...</td>\n",
       "      <td>...</td>\n",
       "      <td>...</td>\n",
       "      <td>...</td>\n",
       "      <td>...</td>\n",
       "      <td>...</td>\n",
       "      <td>...</td>\n",
       "    </tr>\n",
       "    <tr>\n",
       "      <th>AMERICAN REALTY CAPITAL NEW YORK CITY REIT, INC.</th>\n",
       "      <td>0.135839</td>\n",
       "      <td>0.201230</td>\n",
       "      <td>0.142041</td>\n",
       "      <td>0.144051</td>\n",
       "      <td>0.211695</td>\n",
       "      <td>0.106627</td>\n",
       "      <td>0.027594</td>\n",
       "      <td>0.048087</td>\n",
       "      <td>0.000000</td>\n",
       "      <td>0.000000</td>\n",
       "      <td>...</td>\n",
       "      <td>0.284525</td>\n",
       "      <td>0.114080</td>\n",
       "      <td>0.075274</td>\n",
       "      <td>0.048741</td>\n",
       "      <td>0.578793</td>\n",
       "      <td>1.000000</td>\n",
       "      <td>0.039971</td>\n",
       "      <td>0.136184</td>\n",
       "      <td>0.471651</td>\n",
       "      <td>0.042298</td>\n",
       "    </tr>\n",
       "    <tr>\n",
       "      <th>CYCLACEL PHARMACEUTICALS, INC.</th>\n",
       "      <td>0.144678</td>\n",
       "      <td>0.145089</td>\n",
       "      <td>0.128467</td>\n",
       "      <td>0.170361</td>\n",
       "      <td>0.060273</td>\n",
       "      <td>0.094262</td>\n",
       "      <td>0.010770</td>\n",
       "      <td>0.025407</td>\n",
       "      <td>0.000000</td>\n",
       "      <td>0.000000</td>\n",
       "      <td>...</td>\n",
       "      <td>0.015318</td>\n",
       "      <td>0.193458</td>\n",
       "      <td>0.462759</td>\n",
       "      <td>0.683597</td>\n",
       "      <td>0.047288</td>\n",
       "      <td>0.039971</td>\n",
       "      <td>1.000000</td>\n",
       "      <td>0.035694</td>\n",
       "      <td>0.080139</td>\n",
       "      <td>0.013121</td>\n",
       "    </tr>\n",
       "    <tr>\n",
       "      <th>ZOETIS INC.</th>\n",
       "      <td>0.189609</td>\n",
       "      <td>0.075038</td>\n",
       "      <td>0.136418</td>\n",
       "      <td>0.111937</td>\n",
       "      <td>0.501041</td>\n",
       "      <td>0.069267</td>\n",
       "      <td>0.039015</td>\n",
       "      <td>0.022235</td>\n",
       "      <td>0.065917</td>\n",
       "      <td>0.065917</td>\n",
       "      <td>...</td>\n",
       "      <td>0.159082</td>\n",
       "      <td>0.327556</td>\n",
       "      <td>0.148224</td>\n",
       "      <td>0.051060</td>\n",
       "      <td>0.163391</td>\n",
       "      <td>0.136184</td>\n",
       "      <td>0.035694</td>\n",
       "      <td>1.000000</td>\n",
       "      <td>0.207232</td>\n",
       "      <td>0.031911</td>\n",
       "    </tr>\n",
       "    <tr>\n",
       "      <th>STAG INDUSTRIAL, INC.</th>\n",
       "      <td>0.178397</td>\n",
       "      <td>0.277952</td>\n",
       "      <td>0.194072</td>\n",
       "      <td>0.163588</td>\n",
       "      <td>0.332207</td>\n",
       "      <td>0.169739</td>\n",
       "      <td>0.044467</td>\n",
       "      <td>0.057905</td>\n",
       "      <td>0.000000</td>\n",
       "      <td>0.000000</td>\n",
       "      <td>...</td>\n",
       "      <td>0.424106</td>\n",
       "      <td>0.242169</td>\n",
       "      <td>0.179394</td>\n",
       "      <td>0.068313</td>\n",
       "      <td>0.407758</td>\n",
       "      <td>0.471651</td>\n",
       "      <td>0.080139</td>\n",
       "      <td>0.207232</td>\n",
       "      <td>1.000000</td>\n",
       "      <td>0.038365</td>\n",
       "    </tr>\n",
       "    <tr>\n",
       "      <th>EQUINIX INC</th>\n",
       "      <td>0.102958</td>\n",
       "      <td>0.354856</td>\n",
       "      <td>0.273502</td>\n",
       "      <td>0.074624</td>\n",
       "      <td>0.064207</td>\n",
       "      <td>0.060531</td>\n",
       "      <td>0.002205</td>\n",
       "      <td>0.013749</td>\n",
       "      <td>0.000000</td>\n",
       "      <td>0.000000</td>\n",
       "      <td>...</td>\n",
       "      <td>0.018944</td>\n",
       "      <td>0.068787</td>\n",
       "      <td>0.035503</td>\n",
       "      <td>0.011838</td>\n",
       "      <td>0.043938</td>\n",
       "      <td>0.042298</td>\n",
       "      <td>0.013121</td>\n",
       "      <td>0.031911</td>\n",
       "      <td>0.038365</td>\n",
       "      <td>1.000000</td>\n",
       "    </tr>\n",
       "  </tbody>\n",
       "</table>\n",
       "<p>675 rows × 675 columns</p>\n",
       "</div>"
      ],
      "text/plain": [
       "name                                              MONGODB, INC.  \\\n",
       "name                                                              \n",
       "MONGODB, INC.                                          1.000000   \n",
       "SALESFORCE COM INC                                     0.445455   \n",
       "SPLUNK INC                                             0.610272   \n",
       "OKTA, INC.                                             0.620961   \n",
       "VEEVA SYSTEMS INC                                      0.500762   \n",
       "...                                                         ...   \n",
       "AMERICAN REALTY CAPITAL NEW YORK CITY REIT, INC.       0.135839   \n",
       "CYCLACEL PHARMACEUTICALS, INC.                         0.144678   \n",
       "ZOETIS INC.                                            0.189609   \n",
       "STAG INDUSTRIAL, INC.                                  0.178397   \n",
       "EQUINIX INC                                            0.102958   \n",
       "\n",
       "name                                              SALESFORCE COM INC  \\\n",
       "name                                                                   \n",
       "MONGODB, INC.                                               0.445455   \n",
       "SALESFORCE COM INC                                          1.000000   \n",
       "SPLUNK INC                                                  0.635969   \n",
       "OKTA, INC.                                                  0.455189   \n",
       "VEEVA SYSTEMS INC                                           0.196053   \n",
       "...                                                              ...   \n",
       "AMERICAN REALTY CAPITAL NEW YORK CITY REIT, INC.            0.201230   \n",
       "CYCLACEL PHARMACEUTICALS, INC.                              0.145089   \n",
       "ZOETIS INC.                                                 0.075038   \n",
       "STAG INDUSTRIAL, INC.                                       0.277952   \n",
       "EQUINIX INC                                                 0.354856   \n",
       "\n",
       "name                                              SPLUNK INC  OKTA, INC.  \\\n",
       "name                                                                       \n",
       "MONGODB, INC.                                       0.610272    0.620961   \n",
       "SALESFORCE COM INC                                  0.635969    0.455189   \n",
       "SPLUNK INC                                          1.000000    0.665648   \n",
       "OKTA, INC.                                          0.665648    1.000000   \n",
       "VEEVA SYSTEMS INC                                   0.274023    0.195672   \n",
       "...                                                      ...         ...   \n",
       "AMERICAN REALTY CAPITAL NEW YORK CITY REIT, INC.    0.142041    0.144051   \n",
       "CYCLACEL PHARMACEUTICALS, INC.                      0.128467    0.170361   \n",
       "ZOETIS INC.                                         0.136418    0.111937   \n",
       "STAG INDUSTRIAL, INC.                               0.194072    0.163588   \n",
       "EQUINIX INC                                         0.273502    0.074624   \n",
       "\n",
       "name                                              VEEVA SYSTEMS INC  \\\n",
       "name                                                                  \n",
       "MONGODB, INC.                                              0.500762   \n",
       "SALESFORCE COM INC                                         0.196053   \n",
       "SPLUNK INC                                                 0.274023   \n",
       "OKTA, INC.                                                 0.195672   \n",
       "VEEVA SYSTEMS INC                                          1.000000   \n",
       "...                                                             ...   \n",
       "AMERICAN REALTY CAPITAL NEW YORK CITY REIT, INC.           0.211695   \n",
       "CYCLACEL PHARMACEUTICALS, INC.                             0.060273   \n",
       "ZOETIS INC.                                                0.501041   \n",
       "STAG INDUSTRIAL, INC.                                      0.332207   \n",
       "EQUINIX INC                                                0.064207   \n",
       "\n",
       "name                                              AUTODESK INC  \\\n",
       "name                                                             \n",
       "MONGODB, INC.                                         0.338268   \n",
       "SALESFORCE COM INC                                    0.418546   \n",
       "SPLUNK INC                                            0.373142   \n",
       "OKTA, INC.                                            0.399874   \n",
       "VEEVA SYSTEMS INC                                     0.079927   \n",
       "...                                                        ...   \n",
       "AMERICAN REALTY CAPITAL NEW YORK CITY REIT, INC.      0.106627   \n",
       "CYCLACEL PHARMACEUTICALS, INC.                        0.094262   \n",
       "ZOETIS INC.                                           0.069267   \n",
       "STAG INDUSTRIAL, INC.                                 0.169739   \n",
       "EQUINIX INC                                           0.060531   \n",
       "\n",
       "name                                              INTERNATIONAL WESTERN PETROLEUM, INC.  \\\n",
       "name                                                                                      \n",
       "MONGODB, INC.                                                                  0.065380   \n",
       "SALESFORCE COM INC                                                             0.043515   \n",
       "SPLUNK INC                                                                     0.019112   \n",
       "OKTA, INC.                                                                     0.013240   \n",
       "VEEVA SYSTEMS INC                                                              0.074096   \n",
       "...                                                                                 ...   \n",
       "AMERICAN REALTY CAPITAL NEW YORK CITY REIT, INC.                               0.027594   \n",
       "CYCLACEL PHARMACEUTICALS, INC.                                                 0.010770   \n",
       "ZOETIS INC.                                                                    0.039015   \n",
       "STAG INDUSTRIAL, INC.                                                          0.044467   \n",
       "EQUINIX INC                                                                    0.002205   \n",
       "\n",
       "name                                              DAYBREAK OIL & GAS, INC.  \\\n",
       "name                                                                         \n",
       "MONGODB, INC.                                                     0.052345   \n",
       "SALESFORCE COM INC                                                0.064999   \n",
       "SPLUNK INC                                                        0.073553   \n",
       "OKTA, INC.                                                        0.093942   \n",
       "VEEVA SYSTEMS INC                                                 0.030179   \n",
       "...                                                                    ...   \n",
       "AMERICAN REALTY CAPITAL NEW YORK CITY REIT, INC.                  0.048087   \n",
       "CYCLACEL PHARMACEUTICALS, INC.                                    0.025407   \n",
       "ZOETIS INC.                                                       0.022235   \n",
       "STAG INDUSTRIAL, INC.                                             0.057905   \n",
       "EQUINIX INC                                                       0.013749   \n",
       "\n",
       "name                                              ETERNAL SPEECH, INC.  \\\n",
       "name                                                                     \n",
       "MONGODB, INC.                                                 0.000000   \n",
       "SALESFORCE COM INC                                            0.000000   \n",
       "SPLUNK INC                                                    0.000000   \n",
       "OKTA, INC.                                                    0.000000   \n",
       "VEEVA SYSTEMS INC                                             0.075713   \n",
       "...                                                                ...   \n",
       "AMERICAN REALTY CAPITAL NEW YORK CITY REIT, INC.              0.000000   \n",
       "CYCLACEL PHARMACEUTICALS, INC.                                0.000000   \n",
       "ZOETIS INC.                                                   0.065917   \n",
       "STAG INDUSTRIAL, INC.                                         0.000000   \n",
       "EQUINIX INC                                                   0.000000   \n",
       "\n",
       "name                                              ETERNAL SPEECH, INC.  ...  \\\n",
       "name                                                                    ...   \n",
       "MONGODB, INC.                                                 0.000000  ...   \n",
       "SALESFORCE COM INC                                            0.000000  ...   \n",
       "SPLUNK INC                                                    0.000000  ...   \n",
       "OKTA, INC.                                                    0.000000  ...   \n",
       "VEEVA SYSTEMS INC                                             0.075713  ...   \n",
       "...                                                                ...  ...   \n",
       "AMERICAN REALTY CAPITAL NEW YORK CITY REIT, INC.              0.000000  ...   \n",
       "CYCLACEL PHARMACEUTICALS, INC.                                0.000000  ...   \n",
       "ZOETIS INC.                                                   0.065917  ...   \n",
       "STAG INDUSTRIAL, INC.                                         0.000000  ...   \n",
       "EQUINIX INC                                                   0.000000  ...   \n",
       "\n",
       "name                                              OMEGA HEALTHCARE INVESTORS INC  \\\n",
       "name                                                                               \n",
       "MONGODB, INC.                                                           0.050935   \n",
       "SALESFORCE COM INC                                                      0.029326   \n",
       "SPLUNK INC                                                              0.018032   \n",
       "OKTA, INC.                                                              0.013905   \n",
       "VEEVA SYSTEMS INC                                                       0.424046   \n",
       "...                                                                          ...   \n",
       "AMERICAN REALTY CAPITAL NEW YORK CITY REIT, INC.                        0.284525   \n",
       "CYCLACEL PHARMACEUTICALS, INC.                                          0.015318   \n",
       "ZOETIS INC.                                                             0.159082   \n",
       "STAG INDUSTRIAL, INC.                                                   0.424106   \n",
       "EQUINIX INC                                                             0.018944   \n",
       "\n",
       "name                                              TABLEAU SOFTWARE INC  \\\n",
       "name                                                                     \n",
       "MONGODB, INC.                                                 0.630465   \n",
       "SALESFORCE COM INC                                            0.492079   \n",
       "SPLUNK INC                                                    0.569939   \n",
       "OKTA, INC.                                                    0.579884   \n",
       "VEEVA SYSTEMS INC                                             0.280852   \n",
       "...                                                                ...   \n",
       "AMERICAN REALTY CAPITAL NEW YORK CITY REIT, INC.              0.114080   \n",
       "CYCLACEL PHARMACEUTICALS, INC.                                0.193458   \n",
       "ZOETIS INC.                                                   0.327556   \n",
       "STAG INDUSTRIAL, INC.                                         0.242169   \n",
       "EQUINIX INC                                                   0.068787   \n",
       "\n",
       "name                                              HORIZON PHARMA PLC  \\\n",
       "name                                                                   \n",
       "MONGODB, INC.                                               0.436327   \n",
       "SALESFORCE COM INC                                          0.300027   \n",
       "SPLUNK INC                                                  0.330028   \n",
       "OKTA, INC.                                                  0.541775   \n",
       "VEEVA SYSTEMS INC                                           0.153335   \n",
       "...                                                              ...   \n",
       "AMERICAN REALTY CAPITAL NEW YORK CITY REIT, INC.            0.075274   \n",
       "CYCLACEL PHARMACEUTICALS, INC.                              0.462759   \n",
       "ZOETIS INC.                                                 0.148224   \n",
       "STAG INDUSTRIAL, INC.                                       0.179394   \n",
       "EQUINIX INC                                                 0.035503   \n",
       "\n",
       "name                                              MERRIMACK PHARMACEUTICALS INC  \\\n",
       "name                                                                              \n",
       "MONGODB, INC.                                                          0.143385   \n",
       "SALESFORCE COM INC                                                     0.133831   \n",
       "SPLUNK INC                                                             0.116923   \n",
       "OKTA, INC.                                                             0.163709   \n",
       "VEEVA SYSTEMS INC                                                      0.083683   \n",
       "...                                                                         ...   \n",
       "AMERICAN REALTY CAPITAL NEW YORK CITY REIT, INC.                       0.048741   \n",
       "CYCLACEL PHARMACEUTICALS, INC.                                         0.683597   \n",
       "ZOETIS INC.                                                            0.051060   \n",
       "STAG INDUSTRIAL, INC.                                                  0.068313   \n",
       "EQUINIX INC                                                            0.011838   \n",
       "\n",
       "name                                              REVEN HOUSING REIT, INC.  \\\n",
       "name                                                                         \n",
       "MONGODB, INC.                                                     0.066598   \n",
       "SALESFORCE COM INC                                                0.201221   \n",
       "SPLUNK INC                                                        0.109538   \n",
       "OKTA, INC.                                                        0.109948   \n",
       "VEEVA SYSTEMS INC                                                 0.128762   \n",
       "...                                                                    ...   \n",
       "AMERICAN REALTY CAPITAL NEW YORK CITY REIT, INC.                  0.578793   \n",
       "CYCLACEL PHARMACEUTICALS, INC.                                    0.047288   \n",
       "ZOETIS INC.                                                       0.163391   \n",
       "STAG INDUSTRIAL, INC.                                             0.407758   \n",
       "EQUINIX INC                                                       0.043938   \n",
       "\n",
       "name                                              AMERICAN REALTY CAPITAL NEW YORK CITY REIT, INC.  \\\n",
       "name                                                                                                 \n",
       "MONGODB, INC.                                                                             0.135839   \n",
       "SALESFORCE COM INC                                                                        0.201230   \n",
       "SPLUNK INC                                                                                0.142041   \n",
       "OKTA, INC.                                                                                0.144051   \n",
       "VEEVA SYSTEMS INC                                                                         0.211695   \n",
       "...                                                                                            ...   \n",
       "AMERICAN REALTY CAPITAL NEW YORK CITY REIT, INC.                                          1.000000   \n",
       "CYCLACEL PHARMACEUTICALS, INC.                                                            0.039971   \n",
       "ZOETIS INC.                                                                               0.136184   \n",
       "STAG INDUSTRIAL, INC.                                                                     0.471651   \n",
       "EQUINIX INC                                                                               0.042298   \n",
       "\n",
       "name                                              CYCLACEL PHARMACEUTICALS, INC.  \\\n",
       "name                                                                               \n",
       "MONGODB, INC.                                                           0.144678   \n",
       "SALESFORCE COM INC                                                      0.145089   \n",
       "SPLUNK INC                                                              0.128467   \n",
       "OKTA, INC.                                                              0.170361   \n",
       "VEEVA SYSTEMS INC                                                       0.060273   \n",
       "...                                                                          ...   \n",
       "AMERICAN REALTY CAPITAL NEW YORK CITY REIT, INC.                        0.039971   \n",
       "CYCLACEL PHARMACEUTICALS, INC.                                          1.000000   \n",
       "ZOETIS INC.                                                             0.035694   \n",
       "STAG INDUSTRIAL, INC.                                                   0.080139   \n",
       "EQUINIX INC                                                             0.013121   \n",
       "\n",
       "name                                              ZOETIS INC.  \\\n",
       "name                                                            \n",
       "MONGODB, INC.                                        0.189609   \n",
       "SALESFORCE COM INC                                   0.075038   \n",
       "SPLUNK INC                                           0.136418   \n",
       "OKTA, INC.                                           0.111937   \n",
       "VEEVA SYSTEMS INC                                    0.501041   \n",
       "...                                                       ...   \n",
       "AMERICAN REALTY CAPITAL NEW YORK CITY REIT, INC.     0.136184   \n",
       "CYCLACEL PHARMACEUTICALS, INC.                       0.035694   \n",
       "ZOETIS INC.                                          1.000000   \n",
       "STAG INDUSTRIAL, INC.                                0.207232   \n",
       "EQUINIX INC                                          0.031911   \n",
       "\n",
       "name                                              STAG INDUSTRIAL, INC.  \\\n",
       "name                                                                      \n",
       "MONGODB, INC.                                                  0.178397   \n",
       "SALESFORCE COM INC                                             0.277952   \n",
       "SPLUNK INC                                                     0.194072   \n",
       "OKTA, INC.                                                     0.163588   \n",
       "VEEVA SYSTEMS INC                                              0.332207   \n",
       "...                                                                 ...   \n",
       "AMERICAN REALTY CAPITAL NEW YORK CITY REIT, INC.               0.471651   \n",
       "CYCLACEL PHARMACEUTICALS, INC.                                 0.080139   \n",
       "ZOETIS INC.                                                    0.207232   \n",
       "STAG INDUSTRIAL, INC.                                          1.000000   \n",
       "EQUINIX INC                                                    0.038365   \n",
       "\n",
       "name                                              EQUINIX INC  \n",
       "name                                                           \n",
       "MONGODB, INC.                                        0.102958  \n",
       "SALESFORCE COM INC                                   0.354856  \n",
       "SPLUNK INC                                           0.273502  \n",
       "OKTA, INC.                                           0.074624  \n",
       "VEEVA SYSTEMS INC                                    0.064207  \n",
       "...                                                       ...  \n",
       "AMERICAN REALTY CAPITAL NEW YORK CITY REIT, INC.     0.042298  \n",
       "CYCLACEL PHARMACEUTICALS, INC.                       0.013121  \n",
       "ZOETIS INC.                                          0.031911  \n",
       "STAG INDUSTRIAL, INC.                                0.038365  \n",
       "EQUINIX INC                                          1.000000  \n",
       "\n",
       "[675 rows x 675 columns]"
      ]
     },
     "execution_count": 10,
     "metadata": {},
     "output_type": "execute_result"
    }
   ],
   "source": [
    "cosine_sim"
   ]
  },
  {
   "cell_type": "markdown",
   "id": "ded0b365",
   "metadata": {},
   "source": [
    "## Accuracy - Confusion Matrix / ROC Curves\n",
    "### Predictions Based on the Closest Cosine Similarity Distance"
   ]
  },
  {
   "cell_type": "code",
   "execution_count": 77,
   "id": "6d4c55de",
   "metadata": {},
   "outputs": [],
   "source": [
    "from sklearn.metrics import confusion_matrix, ConfusionMatrixDisplay\n",
    "def get_accuracy(cosine_matrix):\n",
    "    \"\"\"calculates percentage of correct category predictions based on 1-NN using dot product\n",
    "    \n",
    "    args: embedding matrix of size nxm (n companies each with an embedding of size m). NOTE: embeddings should be normalized.\n",
    "    \n",
    "    returns: float representation of percentage of correct category predictions\n",
    "    \"\"\"\n",
    "    np.fill_diagonal(cosine_matrix.values, 0)\n",
    "    cosine_matrix.index = df[\"SIC_desc\"]\n",
    "    cosine_matrix.columns = df[\"SIC_desc\"]\n",
    "    prediction = pd.DataFrame(cosine_matrix.idxmax(axis=1))\n",
    "    prediction.reset_index(level=0, inplace=True)\n",
    "    prediction.columns = [\"y_true\",\"y_pred\"]\n",
    "    return (prediction, np.sum(np.where(prediction.iloc[:,1] == prediction.iloc[:,0], 1, 0))/\n",
    "                            len(prediction), confusion_matrix(prediction[\"y_true\"], prediction[\"y_pred\"], \n",
    "                                                                    labels=None, sample_weight=None, normalize='true'))\n",
    "\n",
    "def conf_mat(matrix):\n",
    "    prediction, accuracy, cm = get_accuracy(matrix)\n",
    "    disp = ConfusionMatrixDisplay(confusion_matrix=cm,display_labels=df[\"SIC_desc\"].unique())\n",
    "    disp.plot(xticks_rotation='vertical')\n",
    "    disp.figure_.savefig('conf_mat.png', dpi=200, bbox_inches='tight')\n",
    "\n",
    "    return prediction"
   ]
  },
  {
   "cell_type": "markdown",
   "id": "e927c79e",
   "metadata": {},
   "source": []
  },
  {
   "cell_type": "code",
   "execution_count": 78,
   "id": "703fc4c4",
   "metadata": {
    "scrolled": true
   },
   "outputs": [
    {
     "data": {
      "image/png": "[encoded data removed]",
      "text/plain": [
       "<Figure size 432x288 with 2 Axes>"
      ]
     },
     "metadata": {
      "needs_background": "light"
     },
     "output_type": "display_data"
    }
   ],
   "source": [
    "cosine_conf = conf_mat(cosine_sim)"
   ]
  },
  {
   "cell_type": "code",
   "execution_count": 54,
   "id": "4032fd4b",
   "metadata": {},
   "outputs": [],
   "source": [
    "import matplotlib.pyplot as plt\n",
    "from sklearn.metrics import roc_curve\n",
    "from sklearn.metrics import auc\n",
    "def show_ROC_curves(df, similarity_matrix):\n",
    "    for i in df[\"SIC_desc\"].unique():\n",
    "        y_true = similarity_matrix[\"y_true\"] == i\n",
    "        y_pred = similarity_matrix[\"y_pred\"] == i\n",
    "        fpr,tpr, _ = roc_curve(y_true, y_pred)\n",
    "        roc_auc = auc(fpr, tpr)\n",
    "\n",
    "        plt.plot(\n",
    "            fpr,\n",
    "            tpr,\n",
    "            label=\"ROC curve of class {0} (area = {1:0.2f})\".format(i, roc_auc),\n",
    "        )\n",
    "    plt.plot([0, 1], [0, 1], \"k--\")\n",
    "    plt.xlim([0.0, 1.0])\n",
    "    plt.ylim([0.0, 1.05])\n",
    "    plt.xlabel(\"False Positive Rate\")\n",
    "    plt.ylabel(\"True Positive Rate\")\n",
    "    plt.title(\"Some extension of Receiver operating characteristic to multiclass\")\n",
    "    plt.legend(loc=\"lower right\")\n",
    "    plt.savefig(\"ROC.png\")\n",
    "    plt.show()"
   ]
  },
  {
   "cell_type": "code",
   "execution_count": 55,
   "id": "588b7bce",
   "metadata": {},
   "outputs": [
    {
     "data": {
      "image/png": "[encoded data removed]",
      "text/plain": [
       "<Figure size 432x288 with 1 Axes>"
      ]
     },
     "metadata": {
      "needs_background": "light"
     },
     "output_type": "display_data"
    }
   ],
   "source": [
    "show_ROC_curves(df, cosine_conf)"
   ]
  },
  {
   "cell_type": "markdown",
   "id": "7d7700a1",
   "metadata": {},
   "source": [
    "## Plotting"
   ]
  },
  {
   "cell_type": "markdown",
   "id": "4e0d978a",
   "metadata": {},
   "source": [
    "### Plotting on the Cosine Similarity Matrix"
   ]
  },
  {
   "cell_type": "code",
   "execution_count": 21,
   "id": "210bf53d",
   "metadata": {},
   "outputs": [],
   "source": [
    "#pip install -U kaleido"
   ]
  },
  {
   "cell_type": "code",
   "execution_count": 79,
   "id": "c5e1d5b5",
   "metadata": {},
   "outputs": [],
   "source": [
    "import os\n",
    "\n",
    "if not os.path.exists(\"images\"):\n",
    "    os.mkdir(\"images\")"
   ]
  },
  {
   "cell_type": "code",
   "execution_count": 80,
   "id": "6c757c15",
   "metadata": {},
   "outputs": [],
   "source": [
    "from sklearn.decomposition import PCA\n",
    "import plotly.express as px\n",
    "\n",
    "# Referenced from Richard's CSCD25 course\n",
    "def visualize(vectors, index, category):\n",
    "    pca = PCA(n_components=10)\n",
    "    pca_embedding = pca.fit_transform(vectors)\n",
    "    pca_embedding = pd.DataFrame(pca_embedding, index = index)\n",
    "    \n",
    "    pca_embedding['SIC'] = list(category)\n",
    "    pca_embedding['SIC'] = pca_embedding['SIC'].astype('category')\n",
    "    \n",
    "    fig = px.scatter(pca_embedding, x =0 , y = 1, \n",
    "                     hover_data={\"Name\": pca_embedding.index}, \n",
    "                     color = 'SIC', width=1200, height=750)\n",
    "    fig.show()\n",
    "    \n",
    "    return [pca, pca_embedding]"
   ]
  },
  {
   "cell_type": "code",
   "execution_count": 81,
   "id": "62bd4ea7",
   "metadata": {},
   "outputs": [
    {
     "data": {
      "application/vnd.plotly.v1+json": {
       "config": {
        "plotlyServerURL": "https://plot.ly"
       },
       "data": [
        {
         "customdata": [
          [
           "Prepackaged Software (mass reproduction of software)"
          ],
          [
           "Prepackaged Software (mass reproduction of software)"
          ],
          [
           "Prepackaged Software (mass reproduction of software)"
          ],
          [
           "Prepackaged Software (mass reproduction of software)"
          ],
          [
           "Prepackaged Software (mass reproduction of software)"
          ],
          [
           "Prepackaged Software (mass reproduction of software)"
          ],
          [
           "Prepackaged Software (mass reproduction of software)"
          ],
          [
           "Prepackaged Software (mass reproduction of software)"
          ],
          [
           "Prepackaged Software (mass reproduction of software)"
          ],
          [
           "Prepackaged Software (mass reproduction of software)"
          ],
          [
           "Prepackaged Software (mass reproduction of software)"
          ],
          [
           "Prepackaged Software (mass reproduction of software)"
          ],
          [
           "Prepackaged Software (mass reproduction of software)"
          ],
          [
           "Prepackaged Software (mass reproduction of software)"
          ],
          [
           "Prepackaged Software (mass reproduction of software)"
          ],
          [
           "Prepackaged Software (mass reproduction of software)"
          ],
          [
           "Prepackaged Software (mass reproduction of software)"
          ],
          [
           "Prepackaged Software (mass reproduction of software)"
          ],
          [
           "Prepackaged Software (mass reproduction of software)"
          ],
          [
           "Prepackaged Software (mass reproduction of software)"
          ],
          [
           "Prepackaged Software (mass reproduction of software)"
          ],
          [
           "Prepackaged Software (mass reproduction of software)"
          ],
          [
           "Prepackaged Software (mass reproduction of software)"
          ],
          [
           "Prepackaged Software (mass reproduction of software)"
          ],
          [
           "Prepackaged Software (mass reproduction of software)"
          ],
          [
           "Prepackaged Software (mass reproduction of software)"
          ],
          [
           "Prepackaged Software (mass reproduction of software)"
          ],
          [
           "Prepackaged Software (mass reproduction of software)"
          ],
          [
           "Prepackaged Software (mass reproduction of software)"
          ],
          [
           "Prepackaged Software (mass reproduction of software)"
          ],
          [
           "Prepackaged Software (mass reproduction of software)"
          ],
          [
           "Prepackaged Software (mass reproduction of software)"
          ],
          [
           "Prepackaged Software (mass reproduction of software)"
          ],
          [
           "Prepackaged Software (mass reproduction of software)"
          ],
          [
           "Prepackaged Software (mass reproduction of software)"
          ],
          [
           "Prepackaged Software (mass reproduction of software)"
          ],
          [
           "Prepackaged Software (mass reproduction of software)"
          ],
          [
           "Prepackaged Software (mass reproduction of software)"
          ],
          [
           "Prepackaged Software (mass reproduction of software)"
          ],
          [
           "Prepackaged Software (mass reproduction of software)"
          ],
          [
           "Prepackaged Software (mass reproduction of software)"
          ],
          [
           "Prepackaged Software (mass reproduction of software)"
          ],
          [
           "Prepackaged Software (mass reproduction of software)"
          ],
          [
           "Prepackaged Software (mass reproduction of software)"
          ],
          [
           "Prepackaged Software (mass reproduction of software)"
          ],
          [
           "Prepackaged Software (mass reproduction of software)"
          ],
          [
           "Prepackaged Software (mass reproduction of software)"
          ],
          [
           "Prepackaged Software (mass reproduction of software)"
          ],
          [
           "Prepackaged Software (mass reproduction of software)"
          ],
          [
           "Prepackaged Software (mass reproduction of software)"
          ],
          [
           "Prepackaged Software (mass reproduction of software)"
          ],
          [
           "Prepackaged Software (mass reproduction of software)"
          ],
          [
           "Prepackaged Software (mass reproduction of software)"
          ],
          [
           "Prepackaged Software (mass reproduction of software)"
          ],
          [
           "Prepackaged Software (mass reproduction of software)"
          ],
          [
           "Prepackaged Software (mass reproduction of software)"
          ],
          [
           "Prepackaged Software (mass reproduction of software)"
          ],
          [
           "Prepackaged Software (mass reproduction of software)"
          ],
          [
           "Prepackaged Software (mass reproduction of software)"
          ],
          [
           "Prepackaged Software (mass reproduction of software)"
          ],
          [
           "Prepackaged Software (mass reproduction of software)"
          ],
          [
           "Prepackaged Software (mass reproduction of software)"
          ],
          [
           "Prepackaged Software (mass reproduction of software)"
          ],
          [
           "Prepackaged Software (mass reproduction of software)"
          ],
          [
           "Prepackaged Software (mass reproduction of software)"
          ],
          [
           "Prepackaged Software (mass reproduction of software)"
          ],
          [
           "Prepackaged Software (mass reproduction of software)"
          ],
          [
           "Prepackaged Software (mass reproduction of software)"
          ],
          [
           "Prepackaged Software (mass reproduction of software)"
          ],
          [
           "Prepackaged Software (mass reproduction of software)"
          ],
          [
           "Prepackaged Software (mass reproduction of software)"
          ],
          [
           "Prepackaged Software (mass reproduction of software)"
          ],
          [
           "Prepackaged Software (mass reproduction of software)"
          ],
          [
           "Prepackaged Software (mass reproduction of software)"
          ],
          [
           "Prepackaged Software (mass reproduction of software)"
          ],
          [
           "Prepackaged Software (mass reproduction of software)"
          ],
          [
           "Prepackaged Software (mass reproduction of software)"
          ],
          [
           "Prepackaged Software (mass reproduction of software)"
          ],
          [
           "Prepackaged Software (mass reproduction of software)"
          ],
          [
           "Prepackaged Software (mass reproduction of software)"
          ]
         ],
         "hovertemplate": "SIC=Prepackaged Software (mass reproduction of software)<br>0=%{x}<br>1=%{y}<br>Name=%{customdata[0]}<extra></extra>",
         "legendgroup": "Prepackaged Software (mass reproduction of software)",
         "marker": {
          "color": "#636efa",
          "symbol": "circle"
         },
         "mode": "markers",
         "name": "Prepackaged Software (mass reproduction of software)",
         "orientation": "v",
         "showlegend": true,
         "type": "scatter",
         "x": [
          0.99902083586378,
          0.2633929490367165,
          0.4213714880747363,
          0.8408999670994839,
          -0.314020820139444,
          0.44383655552053436,
          0.24461226250361495,
          0.24461226250361495,
          -0.20375924508780605,
          0.48013177364470894,
          0.602472186306059,
          1.0832274771968615,
          0.20564790692239804,
          -0.12768301844822424,
          0.19780650724212592,
          0.7897911283159998,
          -0.7319978963096139,
          0.24029833822228003,
          0.026291545807584235,
          0.035188012227533365,
          0.46676651496381716,
          0.36170397290799955,
          3.2356415564231056,
          3.2356415564231056,
          -0.6235680331860215,
          -0.6235680331860215,
          -0.5426275806806736,
          -0.5426275806806736,
          0.051911614096377276,
          0.25462932458032844,
          -0.22988740669821572,
          1.2692121452586926,
          -0.37916636008586735,
          0.5218016529842566,
          1.174196046909015,
          0.4533003469873675,
          0.15417335647669,
          0.8314784638744157,
          -0.24876054983537016,
          -0.24876054983537016,
          -0.24876054983537016,
          -0.03031216148050678,
          -2.0500915784564535,
          -0.1518713541187608,
          -0.08493199887058257,
          1.0063555006407041,
          -0.32681586002957913,
          0.9116805334072703,
          1.3084889970693656,
          -0.42416014163437327,
          -0.13988951933947197,
          0.21066498642586237,
          -2.4587979688709996,
          0.2921568203266982,
          1.6904793543459424,
          0.4525945755770244,
          0.03231583312387489,
          0.6946424165201935,
          0.21165735966537322,
          1.2294392904237919,
          0.641984421595404,
          0.07496736614047247,
          -0.06833848315182407,
          0.8319369103405994,
          0.09182207738004372,
          -0.06660250053853632,
          0.10944637085090154,
          0.47448157021547965,
          0.8349961180047687,
          0.6694108767942832,
          0.8007467925060232,
          -1.8313201897097997,
          -0.5602114867184956,
          1.024831328653117,
          -0.46225420599326306,
          -0.46225420599326306,
          0.6345831175948964,
          0.6002347837004046,
          0.6877975084980418,
          1.3788373616546734
         ],
         "xaxis": "x",
         "y": [
          -0.8081412816567027,
          -0.8345257152642733,
          -0.9700765223336089,
          -0.8349584304780023,
          -1.4491223650822682,
          -0.829108738157137,
          -0.6564444769568673,
          -0.6564444769568673,
          -1.4772808231648322,
          -0.8436621621710374,
          -0.6037733682052067,
          -0.8228473517880255,
          -0.6822871099987157,
          -1.2969781405974719,
          -0.6148601860706217,
          -0.6209653170908773,
          -0.5469737660782067,
          -0.7991990820882522,
          -0.738183934331296,
          -1.074579130271178,
          -0.8474335325568021,
          -0.7826386380472855,
          0.718605204903303,
          0.718605204903303,
          -0.8312918096681043,
          -0.8312918096681043,
          -1.4404420980567183,
          -1.4404420980567183,
          -1.400706792606163,
          -0.920658096049448,
          -1.3435448176617724,
          -0.6158468582713016,
          -1.0684558342265962,
          -0.597102961227967,
          -0.3910137441497246,
          -1.143098308590258,
          -0.9202882177879069,
          -0.6623034574866236,
          -0.3355923314115906,
          -0.3355923314115906,
          -0.3355923314115906,
          -0.5568378607838673,
          -1.8501208886645517,
          -0.029377502638718196,
          -1.458302943970184,
          -0.715303754860741,
          -1.2803107380418148,
          -0.668858420960851,
          -0.8169238603470922,
          -1.0344425206787033,
          -0.6012655173964568,
          -1.077318850921422,
          -0.6638984444533799,
          -1.0055651587218282,
          -0.12146931661505588,
          -1.15076396170579,
          -0.727556643788486,
          -0.7282528376614694,
          -1.217022326871119,
          -0.4665881214535827,
          -0.5270431896975821,
          -1.0960446868901352,
          -0.7438750374007146,
          -0.6934319075362491,
          -1.112548310706302,
          -1.0228168082306932,
          -1.373839183920253,
          -0.12024514225010728,
          -0.2498463651695474,
          -0.8149718798574908,
          -0.7799434143802201,
          -1.782893719893872,
          -1.523774151864927,
          -0.4010346878107438,
          -0.869027645996582,
          -0.869027645996582,
          -0.8918554009256495,
          -0.8586002893788286,
          -0.454004451766724,
          -0.7088864037110348
         ],
         "yaxis": "y"
        },
        {
         "customdata": [
          [
           "Crude Petroleum and Natural Gas"
          ],
          [
           "Crude Petroleum and Natural Gas"
          ],
          [
           "Crude Petroleum and Natural Gas"
          ],
          [
           "Crude Petroleum and Natural Gas"
          ],
          [
           "Crude Petroleum and Natural Gas"
          ],
          [
           "Crude Petroleum and Natural Gas"
          ],
          [
           "Crude Petroleum and Natural Gas"
          ],
          [
           "Crude Petroleum and Natural Gas"
          ],
          [
           "Crude Petroleum and Natural Gas"
          ],
          [
           "Crude Petroleum and Natural Gas"
          ],
          [
           "Crude Petroleum and Natural Gas"
          ],
          [
           "Crude Petroleum and Natural Gas"
          ],
          [
           "Crude Petroleum and Natural Gas"
          ],
          [
           "Crude Petroleum and Natural Gas"
          ],
          [
           "Crude Petroleum and Natural Gas"
          ],
          [
           "Crude Petroleum and Natural Gas"
          ],
          [
           "Crude Petroleum and Natural Gas"
          ],
          [
           "Crude Petroleum and Natural Gas"
          ],
          [
           "Crude Petroleum and Natural Gas"
          ],
          [
           "Crude Petroleum and Natural Gas"
          ],
          [
           "Crude Petroleum and Natural Gas"
          ],
          [
           "Crude Petroleum and Natural Gas"
          ],
          [
           "Crude Petroleum and Natural Gas"
          ],
          [
           "Crude Petroleum and Natural Gas"
          ],
          [
           "Crude Petroleum and Natural Gas"
          ],
          [
           "Crude Petroleum and Natural Gas"
          ],
          [
           "Crude Petroleum and Natural Gas"
          ],
          [
           "Crude Petroleum and Natural Gas"
          ],
          [
           "Crude Petroleum and Natural Gas"
          ],
          [
           "Crude Petroleum and Natural Gas"
          ],
          [
           "Crude Petroleum and Natural Gas"
          ],
          [
           "Crude Petroleum and Natural Gas"
          ],
          [
           "Crude Petroleum and Natural Gas"
          ],
          [
           "Crude Petroleum and Natural Gas"
          ],
          [
           "Crude Petroleum and Natural Gas"
          ],
          [
           "Crude Petroleum and Natural Gas"
          ],
          [
           "Crude Petroleum and Natural Gas"
          ],
          [
           "Crude Petroleum and Natural Gas"
          ],
          [
           "Crude Petroleum and Natural Gas"
          ],
          [
           "Crude Petroleum and Natural Gas"
          ],
          [
           "Crude Petroleum and Natural Gas"
          ],
          [
           "Crude Petroleum and Natural Gas"
          ],
          [
           "Crude Petroleum and Natural Gas"
          ],
          [
           "Crude Petroleum and Natural Gas"
          ],
          [
           "Crude Petroleum and Natural Gas"
          ],
          [
           "Crude Petroleum and Natural Gas"
          ],
          [
           "Crude Petroleum and Natural Gas"
          ],
          [
           "Crude Petroleum and Natural Gas"
          ],
          [
           "Crude Petroleum and Natural Gas"
          ],
          [
           "Crude Petroleum and Natural Gas"
          ],
          [
           "Crude Petroleum and Natural Gas"
          ],
          [
           "Crude Petroleum and Natural Gas"
          ],
          [
           "Crude Petroleum and Natural Gas"
          ],
          [
           "Crude Petroleum and Natural Gas"
          ],
          [
           "Crude Petroleum and Natural Gas"
          ],
          [
           "Crude Petroleum and Natural Gas"
          ],
          [
           "Crude Petroleum and Natural Gas"
          ],
          [
           "Crude Petroleum and Natural Gas"
          ],
          [
           "Crude Petroleum and Natural Gas"
          ],
          [
           "Crude Petroleum and Natural Gas"
          ],
          [
           "Crude Petroleum and Natural Gas"
          ],
          [
           "Crude Petroleum and Natural Gas"
          ],
          [
           "Crude Petroleum and Natural Gas"
          ],
          [
           "Crude Petroleum and Natural Gas"
          ],
          [
           "Crude Petroleum and Natural Gas"
          ],
          [
           "Crude Petroleum and Natural Gas"
          ],
          [
           "Crude Petroleum and Natural Gas"
          ],
          [
           "Crude Petroleum and Natural Gas"
          ],
          [
           "Crude Petroleum and Natural Gas"
          ],
          [
           "Crude Petroleum and Natural Gas"
          ],
          [
           "Crude Petroleum and Natural Gas"
          ],
          [
           "Crude Petroleum and Natural Gas"
          ],
          [
           "Crude Petroleum and Natural Gas"
          ],
          [
           "Crude Petroleum and Natural Gas"
          ],
          [
           "Crude Petroleum and Natural Gas"
          ],
          [
           "Crude Petroleum and Natural Gas"
          ],
          [
           "Crude Petroleum and Natural Gas"
          ],
          [
           "Crude Petroleum and Natural Gas"
          ],
          [
           "Crude Petroleum and Natural Gas"
          ],
          [
           "Crude Petroleum and Natural Gas"
          ]
         ],
         "hovertemplate": "SIC=Crude Petroleum and Natural Gas<br>0=%{x}<br>1=%{y}<br>Name=%{customdata[0]}<extra></extra>",
         "legendgroup": "Crude Petroleum and Natural Gas",
         "marker": {
          "color": "#EF553B",
          "symbol": "circle"
         },
         "mode": "markers",
         "name": "Crude Petroleum and Natural Gas",
         "orientation": "v",
         "showlegend": true,
         "type": "scatter",
         "x": [
          -0.011016359999416967,
          0.08155386206843893,
          2.462099851337894,
          -0.2869700487294932,
          -0.12271166860608135,
          -0.09151559034040137,
          -0.39587715008798324,
          -0.7110852888687128,
          -0.4287861299198289,
          0.09617126229125603,
          -0.18712579069684945,
          -0.06893906122791153,
          0.0055705729882574466,
          0.09464786606727216,
          0.035601845827749244,
          0.5109616399268474,
          0.0623380851414523,
          0.09054483600459028,
          0.031010922276034907,
          0.04953400784377222,
          -0.37438195034439686,
          -0.06708215011839107,
          0.2983247895641911,
          -0.12205889947896252,
          2.0458749271028607,
          -0.007289827711719037,
          0.00853808498611321,
          -0.16890359317694367,
          -0.4072840817573875,
          0.015602160189028382,
          0.04346074933256249,
          -0.6697155800154901,
          -0.12235821283873387,
          -0.008694633780534856,
          -0.2689273258048832,
          -0.8187277664172513,
          0.3763793265877963,
          -0.3787073577729853,
          -0.1945637119811069,
          -0.2421053774226648,
          -0.12575158790680332,
          -0.141607227204885,
          -0.3932492539840476,
          -0.3932492539840476,
          -0.11148811359179253,
          -0.10621646148439381,
          -0.23227827007747723,
          0.004080862008604532,
          0.07361253698856077,
          0.0031906416194938145,
          -0.012128982113756969,
          0.5824285596818094,
          -0.18027824948338037,
          -0.3517178723463208,
          0.4728563072340271,
          -0.25976861827540143,
          -0.3073786948301747,
          0.015290330080393858,
          -0.003990228024910569,
          -0.10951741038078801,
          -0.06755645741309757,
          -0.38046175990009284,
          -0.039652192307210406,
          -0.12133498686550648,
          -0.17736654694695764,
          0.7300781038836458,
          -0.21177117435553858,
          0.10366216005670072,
          -0.07735142540926214,
          -0.4297678465119225,
          -0.05545683157331409,
          -0.13273448093555068,
          -0.1742489424661251,
          -0.35689033641190704,
          0.19005831479159968,
          -0.3264930509825932,
          -0.15374297521622962,
          -0.4930387393656726,
          -0.22029189453503198,
          -0.2692615701297458
         ],
         "xaxis": "x",
         "y": [
          -2.159120773497071,
          -1.7237457683298283,
          0.22049976134949947,
          0.44969182300698046,
          -1.9755533429980292,
          -0.8060442510236067,
          -0.6607071186145254,
          -1.2547921814557743,
          -1.302260335108059,
          -2.1054540846714382,
          -0.7757140214177956,
          -2.1488603057442197,
          -2.110554357354412,
          -2.1328116249588303,
          -1.4056534129841565,
          -0.9777923260433926,
          -1.9602969318956893,
          -2.0884417777715067,
          -1.9462526527739272,
          -2.128860574481517,
          -2.2571857899846552,
          -2.0037367454076214,
          -0.6071135414581919,
          -2.0533961714253715,
          -0.2466764899858321,
          -2.20744286759202,
          -2.2172476340236154,
          -2.2467439393861817,
          -2.414468116824447,
          -2.0887852200639436,
          -2.0585670984181603,
          -2.1479388654012825,
          -1.395073153083531,
          -2.1551103063560553,
          -1.3217588865357928,
          -2.0005406215692885,
          -1.8841731380089384,
          -2.014108667247413,
          -2.1515214574754356,
          -1.5677609992040167,
          -1.835587202625731,
          -2.2769041615473333,
          -1.9529168824700507,
          -1.9529168824700507,
          -2.178146121609078,
          -2.1514572500564353,
          -2.2548094023692045,
          -1.3838597962533612,
          -2.0954654619943134,
          -2.1619866837558757,
          -2.1285816952954417,
          -1.3498816223451253,
          -1.3058365881853584,
          -1.7879166308329324,
          -1.2780669237317892,
          -2.1986201117869757,
          -2.233787307584407,
          -2.0821756160994367,
          -2.0735639458158497,
          -2.081274430660057,
          -2.199450076430902,
          -2.0351573298705086,
          -1.2088592796701603,
          -1.0655042526750356,
          -2.1091201998726405,
          -0.8847276181989797,
          -1.2454952442954514,
          -2.165628962047599,
          -2.2338785495609934,
          -1.9174319652460177,
          -1.9351396482537635,
          -2.078389081408197,
          -2.01506311818582,
          -2.152616258712187,
          -1.4970149757729758,
          -2.309795296597899,
          -2.1644002483211433,
          -1.5349431506220166,
          -2.304473820164861,
          -2.251545039231
         ],
         "yaxis": "y"
        },
        {
         "customdata": [
          [
           "Pharmaceutical Preparations"
          ],
          [
           "Pharmaceutical Preparations"
          ],
          [
           "Pharmaceutical Preparations"
          ],
          [
           "Pharmaceutical Preparations"
          ],
          [
           "Pharmaceutical Preparations"
          ],
          [
           "Pharmaceutical Preparations"
          ],
          [
           "Pharmaceutical Preparations"
          ],
          [
           "Pharmaceutical Preparations"
          ],
          [
           "Pharmaceutical Preparations"
          ],
          [
           "Pharmaceutical Preparations"
          ],
          [
           "Pharmaceutical Preparations"
          ],
          [
           "Pharmaceutical Preparations"
          ],
          [
           "Pharmaceutical Preparations"
          ],
          [
           "Pharmaceutical Preparations"
          ],
          [
           "Pharmaceutical Preparations"
          ],
          [
           "Pharmaceutical Preparations"
          ],
          [
           "Pharmaceutical Preparations"
          ],
          [
           "Pharmaceutical Preparations"
          ],
          [
           "Pharmaceutical Preparations"
          ],
          [
           "Pharmaceutical Preparations"
          ],
          [
           "Pharmaceutical Preparations"
          ],
          [
           "Pharmaceutical Preparations"
          ],
          [
           "Pharmaceutical Preparations"
          ],
          [
           "Pharmaceutical Preparations"
          ],
          [
           "Pharmaceutical Preparations"
          ],
          [
           "Pharmaceutical Preparations"
          ],
          [
           "Pharmaceutical Preparations"
          ],
          [
           "Pharmaceutical Preparations"
          ],
          [
           "Pharmaceutical Preparations"
          ],
          [
           "Pharmaceutical Preparations"
          ],
          [
           "Pharmaceutical Preparations"
          ],
          [
           "Pharmaceutical Preparations"
          ],
          [
           "Pharmaceutical Preparations"
          ],
          [
           "Pharmaceutical Preparations"
          ],
          [
           "Pharmaceutical Preparations"
          ],
          [
           "Pharmaceutical Preparations"
          ],
          [
           "Pharmaceutical Preparations"
          ],
          [
           "Pharmaceutical Preparations"
          ],
          [
           "Pharmaceutical Preparations"
          ],
          [
           "Pharmaceutical Preparations"
          ],
          [
           "Pharmaceutical Preparations"
          ],
          [
           "Pharmaceutical Preparations"
          ],
          [
           "Pharmaceutical Preparations"
          ],
          [
           "Pharmaceutical Preparations"
          ],
          [
           "Pharmaceutical Preparations"
          ],
          [
           "Pharmaceutical Preparations"
          ],
          [
           "Pharmaceutical Preparations"
          ],
          [
           "Pharmaceutical Preparations"
          ],
          [
           "Pharmaceutical Preparations"
          ],
          [
           "Pharmaceutical Preparations"
          ],
          [
           "Pharmaceutical Preparations"
          ],
          [
           "Pharmaceutical Preparations"
          ],
          [
           "Pharmaceutical Preparations"
          ],
          [
           "Pharmaceutical Preparations"
          ],
          [
           "Pharmaceutical Preparations"
          ],
          [
           "Pharmaceutical Preparations"
          ],
          [
           "Pharmaceutical Preparations"
          ],
          [
           "Pharmaceutical Preparations"
          ],
          [
           "Pharmaceutical Preparations"
          ],
          [
           "Pharmaceutical Preparations"
          ],
          [
           "Pharmaceutical Preparations"
          ],
          [
           "Pharmaceutical Preparations"
          ],
          [
           "Pharmaceutical Preparations"
          ],
          [
           "Pharmaceutical Preparations"
          ],
          [
           "Pharmaceutical Preparations"
          ],
          [
           "Pharmaceutical Preparations"
          ],
          [
           "Pharmaceutical Preparations"
          ],
          [
           "Pharmaceutical Preparations"
          ],
          [
           "Pharmaceutical Preparations"
          ],
          [
           "Pharmaceutical Preparations"
          ],
          [
           "Pharmaceutical Preparations"
          ],
          [
           "Pharmaceutical Preparations"
          ],
          [
           "Pharmaceutical Preparations"
          ],
          [
           "Pharmaceutical Preparations"
          ],
          [
           "Pharmaceutical Preparations"
          ],
          [
           "Pharmaceutical Preparations"
          ],
          [
           "Pharmaceutical Preparations"
          ],
          [
           "Pharmaceutical Preparations"
          ],
          [
           "Pharmaceutical Preparations"
          ],
          [
           "Pharmaceutical Preparations"
          ],
          [
           "Pharmaceutical Preparations"
          ],
          [
           "Pharmaceutical Preparations"
          ],
          [
           "Pharmaceutical Preparations"
          ],
          [
           "Pharmaceutical Preparations"
          ],
          [
           "Pharmaceutical Preparations"
          ],
          [
           "Pharmaceutical Preparations"
          ],
          [
           "Pharmaceutical Preparations"
          ],
          [
           "Pharmaceutical Preparations"
          ],
          [
           "Pharmaceutical Preparations"
          ],
          [
           "Pharmaceutical Preparations"
          ],
          [
           "Pharmaceutical Preparations"
          ],
          [
           "Pharmaceutical Preparations"
          ],
          [
           "Pharmaceutical Preparations"
          ],
          [
           "Pharmaceutical Preparations"
          ],
          [
           "Pharmaceutical Preparations"
          ],
          [
           "Pharmaceutical Preparations"
          ],
          [
           "Pharmaceutical Preparations"
          ],
          [
           "Pharmaceutical Preparations"
          ],
          [
           "Pharmaceutical Preparations"
          ],
          [
           "Pharmaceutical Preparations"
          ],
          [
           "Pharmaceutical Preparations"
          ],
          [
           "Pharmaceutical Preparations"
          ],
          [
           "Pharmaceutical Preparations"
          ],
          [
           "Pharmaceutical Preparations"
          ],
          [
           "Pharmaceutical Preparations"
          ],
          [
           "Pharmaceutical Preparations"
          ],
          [
           "Pharmaceutical Preparations"
          ],
          [
           "Pharmaceutical Preparations"
          ],
          [
           "Pharmaceutical Preparations"
          ],
          [
           "Pharmaceutical Preparations"
          ],
          [
           "Pharmaceutical Preparations"
          ],
          [
           "Pharmaceutical Preparations"
          ],
          [
           "Pharmaceutical Preparations"
          ],
          [
           "Pharmaceutical Preparations"
          ],
          [
           "Pharmaceutical Preparations"
          ],
          [
           "Pharmaceutical Preparations"
          ],
          [
           "Pharmaceutical Preparations"
          ],
          [
           "Pharmaceutical Preparations"
          ],
          [
           "Pharmaceutical Preparations"
          ],
          [
           "Pharmaceutical Preparations"
          ],
          [
           "Pharmaceutical Preparations"
          ],
          [
           "Pharmaceutical Preparations"
          ],
          [
           "Pharmaceutical Preparations"
          ],
          [
           "Pharmaceutical Preparations"
          ],
          [
           "Pharmaceutical Preparations"
          ],
          [
           "Pharmaceutical Preparations"
          ],
          [
           "Pharmaceutical Preparations"
          ],
          [
           "Pharmaceutical Preparations"
          ],
          [
           "Pharmaceutical Preparations"
          ],
          [
           "Pharmaceutical Preparations"
          ],
          [
           "Pharmaceutical Preparations"
          ],
          [
           "Pharmaceutical Preparations"
          ],
          [
           "Pharmaceutical Preparations"
          ],
          [
           "Pharmaceutical Preparations"
          ],
          [
           "Pharmaceutical Preparations"
          ],
          [
           "Pharmaceutical Preparations"
          ],
          [
           "Pharmaceutical Preparations"
          ],
          [
           "Pharmaceutical Preparations"
          ],
          [
           "Pharmaceutical Preparations"
          ],
          [
           "Pharmaceutical Preparations"
          ],
          [
           "Pharmaceutical Preparations"
          ],
          [
           "Pharmaceutical Preparations"
          ],
          [
           "Pharmaceutical Preparations"
          ],
          [
           "Pharmaceutical Preparations"
          ],
          [
           "Pharmaceutical Preparations"
          ],
          [
           "Pharmaceutical Preparations"
          ],
          [
           "Pharmaceutical Preparations"
          ],
          [
           "Pharmaceutical Preparations"
          ],
          [
           "Pharmaceutical Preparations"
          ],
          [
           "Pharmaceutical Preparations"
          ],
          [
           "Pharmaceutical Preparations"
          ],
          [
           "Pharmaceutical Preparations"
          ],
          [
           "Pharmaceutical Preparations"
          ],
          [
           "Pharmaceutical Preparations"
          ],
          [
           "Pharmaceutical Preparations"
          ],
          [
           "Pharmaceutical Preparations"
          ],
          [
           "Pharmaceutical Preparations"
          ],
          [
           "Pharmaceutical Preparations"
          ],
          [
           "Pharmaceutical Preparations"
          ],
          [
           "Pharmaceutical Preparations"
          ],
          [
           "Pharmaceutical Preparations"
          ],
          [
           "Pharmaceutical Preparations"
          ],
          [
           "Pharmaceutical Preparations"
          ],
          [
           "Pharmaceutical Preparations"
          ],
          [
           "Pharmaceutical Preparations"
          ],
          [
           "Pharmaceutical Preparations"
          ],
          [
           "Pharmaceutical Preparations"
          ],
          [
           "Pharmaceutical Preparations"
          ],
          [
           "Pharmaceutical Preparations"
          ],
          [
           "Pharmaceutical Preparations"
          ],
          [
           "Pharmaceutical Preparations"
          ],
          [
           "Pharmaceutical Preparations"
          ],
          [
           "Pharmaceutical Preparations"
          ],
          [
           "Pharmaceutical Preparations"
          ],
          [
           "Pharmaceutical Preparations"
          ],
          [
           "Pharmaceutical Preparations"
          ],
          [
           "Pharmaceutical Preparations"
          ],
          [
           "Pharmaceutical Preparations"
          ],
          [
           "Pharmaceutical Preparations"
          ],
          [
           "Pharmaceutical Preparations"
          ],
          [
           "Pharmaceutical Preparations"
          ],
          [
           "Pharmaceutical Preparations"
          ],
          [
           "Pharmaceutical Preparations"
          ],
          [
           "Pharmaceutical Preparations"
          ],
          [
           "Pharmaceutical Preparations"
          ],
          [
           "Pharmaceutical Preparations"
          ],
          [
           "Pharmaceutical Preparations"
          ],
          [
           "Pharmaceutical Preparations"
          ],
          [
           "Pharmaceutical Preparations"
          ],
          [
           "Pharmaceutical Preparations"
          ],
          [
           "Pharmaceutical Preparations"
          ],
          [
           "Pharmaceutical Preparations"
          ],
          [
           "Pharmaceutical Preparations"
          ],
          [
           "Pharmaceutical Preparations"
          ],
          [
           "Pharmaceutical Preparations"
          ],
          [
           "Pharmaceutical Preparations"
          ],
          [
           "Pharmaceutical Preparations"
          ],
          [
           "Pharmaceutical Preparations"
          ],
          [
           "Pharmaceutical Preparations"
          ],
          [
           "Pharmaceutical Preparations"
          ],
          [
           "Pharmaceutical Preparations"
          ],
          [
           "Pharmaceutical Preparations"
          ],
          [
           "Pharmaceutical Preparations"
          ],
          [
           "Pharmaceutical Preparations"
          ],
          [
           "Pharmaceutical Preparations"
          ],
          [
           "Pharmaceutical Preparations"
          ],
          [
           "Pharmaceutical Preparations"
          ],
          [
           "Pharmaceutical Preparations"
          ]
         ],
         "hovertemplate": "SIC=Pharmaceutical Preparations<br>0=%{x}<br>1=%{y}<br>Name=%{customdata[0]}<extra></extra>",
         "legendgroup": "Pharmaceutical Preparations",
         "marker": {
          "color": "#00cc96",
          "symbol": "circle"
         },
         "mode": "markers",
         "name": "Pharmaceutical Preparations",
         "orientation": "v",
         "showlegend": true,
         "type": "scatter",
         "x": [
          1.7908186901404914,
          1.0484285607775217,
          5.244782795286609,
          4.093085366795752,
          0.6159656824688959,
          1.2751516347823209,
          1.2751516347823209,
          4.891433821577185,
          3.205526396547889,
          0.40851714222209057,
          0.40851714222209057,
          4.323478747304625,
          5.043622732762974,
          1.755532140469376,
          4.760336823727886,
          -0.563782066404927,
          -0.323568650859879,
          -0.323568650859879,
          5.836282667357343,
          1.4157949715407074,
          2.770902875681686,
          0.04519229116169646,
          0.04519229116169646,
          4.3487114533434355,
          3.8315916579780303,
          4.5019995022729775,
          0.43354755060984984,
          1.28211345738902,
          4.033518371485877,
          4.869688504858677,
          1.0485964070163714,
          1.5736980554049822,
          4.937634862090019,
          4.937634862090019,
          5.357694893113876,
          3.876074805491831,
          2.0225308621673044,
          2.5218752185612745,
          3.1517580456730236,
          0.08731936352727956,
          5.196216047416219,
          5.6845042890999915,
          4.327543315607518,
          2.6958796623551184,
          0.571477580633364,
          4.380801192255789,
          4.432520250630039,
          3.2808017718340436,
          3.384269895478231,
          3.384269895478231,
          5.23583319245596,
          5.484822122184722,
          2.2499561516758106,
          3.4017659856499467,
          4.659195092941714,
          3.295789011590088,
          2.7301532164097777,
          5.146815552252817,
          0.23377933599230835,
          2.03037312394584,
          4.0036962636831985,
          4.466554694126057,
          4.070954244278153,
          3.084125542173879,
          3.5158295529856214,
          -0.45028080289901057,
          4.92330294147822,
          2.0537822460943356,
          5.118284222376242,
          4.433588069676685,
          5.152755600465696,
          4.603511354649557,
          4.760978496047274,
          5.232347388904843,
          4.499525675932837,
          5.536660389707824,
          4.43187808145654,
          3.691168808287401,
          0.8048082439409735,
          4.421125354161756,
          4.977357982620855,
          4.961728821603581,
          4.124819692638047,
          4.369129188020195,
          3.988699085185556,
          3.1013137562587354,
          2.8165696557526227,
          2.468852717217854,
          2.1030629087281505,
          5.270155101643845,
          4.241110714714472,
          3.08299223216296,
          1.4961862122283245,
          2.136255727314266,
          5.192797418870214,
          3.0467719740284833,
          3.037221557221368,
          5.043130921263239,
          2.596808340313993,
          4.133410291969365,
          1.2874258341023612,
          5.369870107720952,
          3.6123492126496446,
          4.507412481121622,
          5.114429848731505,
          3.4836761726253216,
          3.0446597814777134,
          0.5934241994420296,
          1.5123798576216831,
          3.710628261561916,
          0.6685286397998169,
          1.1766041340505606,
          5.364905067978208,
          3.9438097867324275,
          5.230664494938542,
          4.02273537050879,
          5.006201341102266,
          2.884340098889671,
          0.501682728571793,
          -0.29211930518515117,
          5.432531185745807,
          5.066242525215664,
          5.519676611570667,
          3.731616881801761,
          2.8307123200466062,
          4.3742132017238,
          4.185797153725112,
          2.384661246949927,
          4.698829961724799,
          3.929995446182427,
          3.929995446182427,
          3.929995446182427,
          3.929995446182427,
          3.929995446182427,
          3.929995446182427,
          5.220508495395297,
          3.5329920089228852,
          4.804777031654606,
          3.829042687213144,
          5.718111059841505,
          5.484576215117563,
          5.2879218649501905,
          5.017614406383119,
          1.342266802906622,
          1.342266802906622,
          4.328491839465725,
          4.328491839465725,
          4.328491839465725,
          4.328491839465725,
          3.9356591462499946,
          1.778969920563177,
          4.477990138512587,
          5.6750759569994935,
          5.526225341284728,
          5.265173055881339,
          5.099805256950033,
          4.3801955129812455,
          3.1071649850731013,
          0.6321043381349842,
          4.129435723477058,
          3.96857563481067,
          4.598673368404444,
          5.39853448719333,
          5.210490051691673,
          3.11783354669051,
          5.731312151851518,
          5.3331788454198135,
          2.5435369207154537,
          5.2926404113280405,
          5.49333756109204,
          5.565435137692021,
          5.12546439911996,
          1.950531469374892,
          4.6406736415438345,
          5.003695534788378,
          5.003695534788378,
          5.078807717869153,
          5.0889962564355615,
          3.303594132389555,
          5.402561758379413,
          3.8428316480820994,
          4.779693900814412,
          2.7811701434020546,
          4.4997960064100555,
          3.956873894144973,
          2.612944914737129,
          1.6401823901770827,
          2.888090050316758,
          5.415653055360651,
          2.0434014211687828,
          4.45080860830071,
          4.849367575728937,
          4.76059445432188,
          1.4868810793901912,
          1.4868810793901912,
          3.2367838472727444,
          4.262078829446076,
          4.54848769539544,
          4.2764868193365375,
          0.0015653756258793895,
          5.8657828763740945,
          5.471118305551617,
          3.7400885311572725,
          4.759239256014758,
          3.427157089838645,
          5.443639880105011,
          5.004415982142547,
          -0.4591340482920444
         ],
         "xaxis": "x",
         "y": [
          -0.16877905704419705,
          -0.4941908293043193,
          1.892773930677559,
          1.2418693972523607,
          -0.9170205402466695,
          -0.4487021003576981,
          -0.4487021003576981,
          1.6183128369338318,
          0.8129055809446604,
          -0.7216136143327788,
          -0.7216136143327788,
          1.4229301204759401,
          1.792287713789112,
          -0.3187863635094991,
          1.3997773997472496,
          -1.2616287301342197,
          -1.131147511756538,
          -1.131147511756538,
          1.9811150720158963,
          -0.10602138964078793,
          0.30715371513250406,
          -1.1544379988595717,
          -1.1544379988595717,
          1.3986763940140148,
          0.8482685543823265,
          1.2731686644943814,
          -0.2741432646298538,
          -0.3957522988255501,
          1.0265386570254749,
          1.6177298210547362,
          -0.28408777387269357,
          -0.22554020150285023,
          1.6092604381054167,
          1.6092604381054167,
          1.885959913727498,
          1.151845611583541,
          0.1868574452764292,
          0.5300149770425603,
          0.5500986595853263,
          -0.9329833462060989,
          1.6996996704670515,
          2.0505356180448713,
          1.4555991160580826,
          0.20506462004852546,
          -0.7335177987841611,
          1.1983708410610117,
          1.3703683691293582,
          0.8696341259230435,
          0.789484214385753,
          0.789484214385753,
          1.7202548083466735,
          1.8711761961834519,
          0.260356364045915,
          0.8213878048558138,
          1.315013412491369,
          0.5992340188990076,
          0.08182527084984328,
          1.775222688997639,
          -0.716064656679107,
          0.1742228060592903,
          1.1616841652565613,
          1.4603862892926918,
          1.0698879840091653,
          0.7807676382520428,
          0.6841265723027107,
          -0.7399911986714616,
          1.6718872081057634,
          -0.016987062509871913,
          1.7440031921255703,
          1.3592475885762068,
          1.6672585455006967,
          1.5489292637982026,
          1.4083924503347705,
          1.8687586025927283,
          1.4381505020187662,
          1.9731162973195728,
          1.2155127817415368,
          0.923994610022123,
          -1.0175369571972668,
          1.5090689242275233,
          1.7569512723074776,
          1.5783702516133225,
          1.327198712834133,
          1.1498727026107658,
          1.3077549830574737,
          0.7305360891826957,
          0.4679338016548881,
          0.1509771333373057,
          0.153627138522864,
          1.8821079891272257,
          1.389970143161689,
          0.7971487866558775,
          -0.2564116286663222,
          0.2887787271284218,
          1.694507115311845,
          0.6485397603862759,
          0.5085811276043264,
          1.744887173987127,
          0.22502439358601947,
          1.0980675760839658,
          -0.5069533070988024,
          1.8850360733256972,
          0.8811992575724104,
          1.501581477521073,
          1.7152557274306202,
          0.6804214019860272,
          0.45164717524964093,
          -1.017393922437947,
          -0.057173010095485366,
          0.8434281009418894,
          -0.684038344331945,
          -0.3530610233452935,
          1.7805930955835294,
          0.9800424594335645,
          1.8216579864459417,
          1.2721170456762039,
          1.5789379896060858,
          0.5092856405909878,
          -0.9078972726807202,
          -1.510105773205241,
          1.9062812273974965,
          1.8150304589456225,
          1.8937656677116361,
          0.7627785499238009,
          0.6651322315468519,
          1.2522482704355014,
          0.9428767053418388,
          0.42394432733813414,
          1.6077752531049088,
          1.191031062531925,
          1.191031062531925,
          1.191031062531925,
          1.191031062531925,
          1.191031062531925,
          1.191031062531925,
          1.851266612575681,
          0.9479794049455569,
          1.5432254401419334,
          0.9539228608019167,
          2.0868738783859793,
          1.9254315482362736,
          1.9296528210006367,
          1.5840080237962826,
          -0.5050998590680609,
          -0.5050998590680609,
          1.0074185300671572,
          1.0074185300671572,
          1.0074185300671572,
          1.0074185300671572,
          1.2029856282706644,
          -0.39725767965996406,
          1.4881869164223485,
          1.9143268138310874,
          1.898224783191009,
          1.6229918900325082,
          1.6354812274179507,
          1.313828455094768,
          0.6962445037714339,
          -0.8634465205339809,
          1.1920749422606878,
          1.035805251952468,
          1.610380946710097,
          1.9212916886096296,
          1.8727354027537515,
          0.5839687784567399,
          2.0137449513319905,
          1.7823866027006816,
          0.3989831949429801,
          1.8176987500030006,
          1.921252326121256,
          2.023731952955005,
          1.6389213602187813,
          -0.0032556644278478055,
          1.5668940322023417,
          1.7595444102620263,
          1.7595444102620263,
          1.6886581725370295,
          1.791019246642402,
          0.8438533249679162,
          1.8110580696258016,
          1.2032410895325227,
          1.6488346724825012,
          0.5634027737354143,
          1.3971632371545697,
          1.0068980537153025,
          0.2077297577261043,
          -0.4082924425094373,
          0.6338313457646458,
          1.7638449751301002,
          0.2706185553200755,
          1.3043057652453085,
          1.6151509191979607,
          1.5602077812161192,
          -0.34442976207575654,
          -0.34442976207575654,
          0.5544177826318721,
          1.2250068418113234,
          1.4599388805571194,
          1.218692984678819,
          -0.6791668646431223,
          2.149232236565569,
          2.024299258563989,
          0.8711906860724414,
          1.306403923339775,
          0.5306494358133764,
          1.9921710151410748,
          1.6372117977657483,
          -1.4320473259074549
         ],
         "yaxis": "y"
        },
        {
         "customdata": [
          [
           "Real Estate Investment Trusts"
          ],
          [
           "Real Estate Investment Trusts"
          ],
          [
           "Real Estate Investment Trusts"
          ],
          [
           "Real Estate Investment Trusts"
          ],
          [
           "Real Estate Investment Trusts"
          ],
          [
           "Real Estate Investment Trusts"
          ],
          [
           "Real Estate Investment Trusts"
          ],
          [
           "Real Estate Investment Trusts"
          ],
          [
           "Real Estate Investment Trusts"
          ],
          [
           "Real Estate Investment Trusts"
          ],
          [
           "Real Estate Investment Trusts"
          ],
          [
           "Real Estate Investment Trusts"
          ],
          [
           "Real Estate Investment Trusts"
          ],
          [
           "Real Estate Investment Trusts"
          ],
          [
           "Real Estate Investment Trusts"
          ],
          [
           "Real Estate Investment Trusts"
          ],
          [
           "Real Estate Investment Trusts"
          ],
          [
           "Real Estate Investment Trusts"
          ],
          [
           "Real Estate Investment Trusts"
          ],
          [
           "Real Estate Investment Trusts"
          ],
          [
           "Real Estate Investment Trusts"
          ],
          [
           "Real Estate Investment Trusts"
          ],
          [
           "Real Estate Investment Trusts"
          ],
          [
           "Real Estate Investment Trusts"
          ],
          [
           "Real Estate Investment Trusts"
          ],
          [
           "Real Estate Investment Trusts"
          ],
          [
           "Real Estate Investment Trusts"
          ],
          [
           "Real Estate Investment Trusts"
          ],
          [
           "Real Estate Investment Trusts"
          ],
          [
           "Real Estate Investment Trusts"
          ],
          [
           "Real Estate Investment Trusts"
          ],
          [
           "Real Estate Investment Trusts"
          ],
          [
           "Real Estate Investment Trusts"
          ],
          [
           "Real Estate Investment Trusts"
          ],
          [
           "Real Estate Investment Trusts"
          ],
          [
           "Real Estate Investment Trusts"
          ],
          [
           "Real Estate Investment Trusts"
          ],
          [
           "Real Estate Investment Trusts"
          ],
          [
           "Real Estate Investment Trusts"
          ],
          [
           "Real Estate Investment Trusts"
          ],
          [
           "Real Estate Investment Trusts"
          ],
          [
           "Real Estate Investment Trusts"
          ],
          [
           "Real Estate Investment Trusts"
          ],
          [
           "Real Estate Investment Trusts"
          ],
          [
           "Real Estate Investment Trusts"
          ],
          [
           "Real Estate Investment Trusts"
          ],
          [
           "Real Estate Investment Trusts"
          ],
          [
           "Real Estate Investment Trusts"
          ],
          [
           "Real Estate Investment Trusts"
          ],
          [
           "Real Estate Investment Trusts"
          ],
          [
           "Real Estate Investment Trusts"
          ],
          [
           "Real Estate Investment Trusts"
          ],
          [
           "Real Estate Investment Trusts"
          ],
          [
           "Real Estate Investment Trusts"
          ],
          [
           "Real Estate Investment Trusts"
          ],
          [
           "Real Estate Investment Trusts"
          ],
          [
           "Real Estate Investment Trusts"
          ],
          [
           "Real Estate Investment Trusts"
          ],
          [
           "Real Estate Investment Trusts"
          ],
          [
           "Real Estate Investment Trusts"
          ],
          [
           "Real Estate Investment Trusts"
          ],
          [
           "Real Estate Investment Trusts"
          ],
          [
           "Real Estate Investment Trusts"
          ],
          [
           "Real Estate Investment Trusts"
          ],
          [
           "Real Estate Investment Trusts"
          ],
          [
           "Real Estate Investment Trusts"
          ],
          [
           "Real Estate Investment Trusts"
          ],
          [
           "Real Estate Investment Trusts"
          ],
          [
           "Real Estate Investment Trusts"
          ],
          [
           "Real Estate Investment Trusts"
          ],
          [
           "Real Estate Investment Trusts"
          ],
          [
           "Real Estate Investment Trusts"
          ],
          [
           "Real Estate Investment Trusts"
          ],
          [
           "Real Estate Investment Trusts"
          ],
          [
           "Real Estate Investment Trusts"
          ],
          [
           "Real Estate Investment Trusts"
          ],
          [
           "Real Estate Investment Trusts"
          ],
          [
           "Real Estate Investment Trusts"
          ],
          [
           "Real Estate Investment Trusts"
          ],
          [
           "Real Estate Investment Trusts"
          ],
          [
           "Real Estate Investment Trusts"
          ],
          [
           "Real Estate Investment Trusts"
          ],
          [
           "Real Estate Investment Trusts"
          ],
          [
           "Real Estate Investment Trusts"
          ],
          [
           "Real Estate Investment Trusts"
          ],
          [
           "Real Estate Investment Trusts"
          ],
          [
           "Real Estate Investment Trusts"
          ],
          [
           "Real Estate Investment Trusts"
          ],
          [
           "Real Estate Investment Trusts"
          ],
          [
           "Real Estate Investment Trusts"
          ],
          [
           "Real Estate Investment Trusts"
          ],
          [
           "Real Estate Investment Trusts"
          ],
          [
           "Real Estate Investment Trusts"
          ],
          [
           "Real Estate Investment Trusts"
          ],
          [
           "Real Estate Investment Trusts"
          ],
          [
           "Real Estate Investment Trusts"
          ],
          [
           "Real Estate Investment Trusts"
          ],
          [
           "Real Estate Investment Trusts"
          ],
          [
           "Real Estate Investment Trusts"
          ],
          [
           "Real Estate Investment Trusts"
          ],
          [
           "Real Estate Investment Trusts"
          ],
          [
           "Real Estate Investment Trusts"
          ],
          [
           "Real Estate Investment Trusts"
          ],
          [
           "Real Estate Investment Trusts"
          ],
          [
           "Real Estate Investment Trusts"
          ],
          [
           "Real Estate Investment Trusts"
          ],
          [
           "Real Estate Investment Trusts"
          ],
          [
           "Real Estate Investment Trusts"
          ],
          [
           "Real Estate Investment Trusts"
          ],
          [
           "Real Estate Investment Trusts"
          ],
          [
           "Real Estate Investment Trusts"
          ],
          [
           "Real Estate Investment Trusts"
          ],
          [
           "Real Estate Investment Trusts"
          ],
          [
           "Real Estate Investment Trusts"
          ],
          [
           "Real Estate Investment Trusts"
          ],
          [
           "Real Estate Investment Trusts"
          ],
          [
           "Real Estate Investment Trusts"
          ],
          [
           "Real Estate Investment Trusts"
          ],
          [
           "Real Estate Investment Trusts"
          ],
          [
           "Real Estate Investment Trusts"
          ],
          [
           "Real Estate Investment Trusts"
          ],
          [
           "Real Estate Investment Trusts"
          ],
          [
           "Real Estate Investment Trusts"
          ],
          [
           "Real Estate Investment Trusts"
          ],
          [
           "Real Estate Investment Trusts"
          ],
          [
           "Real Estate Investment Trusts"
          ],
          [
           "Real Estate Investment Trusts"
          ],
          [
           "Real Estate Investment Trusts"
          ],
          [
           "Real Estate Investment Trusts"
          ],
          [
           "Real Estate Investment Trusts"
          ],
          [
           "Real Estate Investment Trusts"
          ],
          [
           "Real Estate Investment Trusts"
          ],
          [
           "Real Estate Investment Trusts"
          ],
          [
           "Real Estate Investment Trusts"
          ],
          [
           "Real Estate Investment Trusts"
          ],
          [
           "Real Estate Investment Trusts"
          ],
          [
           "Real Estate Investment Trusts"
          ],
          [
           "Real Estate Investment Trusts"
          ],
          [
           "Real Estate Investment Trusts"
          ],
          [
           "Real Estate Investment Trusts"
          ],
          [
           "Real Estate Investment Trusts"
          ],
          [
           "Real Estate Investment Trusts"
          ],
          [
           "Real Estate Investment Trusts"
          ],
          [
           "Real Estate Investment Trusts"
          ],
          [
           "Real Estate Investment Trusts"
          ],
          [
           "Real Estate Investment Trusts"
          ],
          [
           "Real Estate Investment Trusts"
          ],
          [
           "Real Estate Investment Trusts"
          ],
          [
           "Real Estate Investment Trusts"
          ],
          [
           "Real Estate Investment Trusts"
          ],
          [
           "Real Estate Investment Trusts"
          ],
          [
           "Real Estate Investment Trusts"
          ],
          [
           "Real Estate Investment Trusts"
          ],
          [
           "Real Estate Investment Trusts"
          ],
          [
           "Real Estate Investment Trusts"
          ],
          [
           "Real Estate Investment Trusts"
          ],
          [
           "Real Estate Investment Trusts"
          ],
          [
           "Real Estate Investment Trusts"
          ],
          [
           "Real Estate Investment Trusts"
          ],
          [
           "Real Estate Investment Trusts"
          ],
          [
           "Real Estate Investment Trusts"
          ],
          [
           "Real Estate Investment Trusts"
          ],
          [
           "Real Estate Investment Trusts"
          ],
          [
           "Real Estate Investment Trusts"
          ],
          [
           "Real Estate Investment Trusts"
          ],
          [
           "Real Estate Investment Trusts"
          ],
          [
           "Real Estate Investment Trusts"
          ],
          [
           "Real Estate Investment Trusts"
          ],
          [
           "Real Estate Investment Trusts"
          ],
          [
           "Real Estate Investment Trusts"
          ],
          [
           "Real Estate Investment Trusts"
          ],
          [
           "Real Estate Investment Trusts"
          ],
          [
           "Real Estate Investment Trusts"
          ],
          [
           "Real Estate Investment Trusts"
          ],
          [
           "Real Estate Investment Trusts"
          ],
          [
           "Real Estate Investment Trusts"
          ],
          [
           "Real Estate Investment Trusts"
          ],
          [
           "Real Estate Investment Trusts"
          ],
          [
           "Real Estate Investment Trusts"
          ],
          [
           "Real Estate Investment Trusts"
          ],
          [
           "Real Estate Investment Trusts"
          ],
          [
           "Real Estate Investment Trusts"
          ],
          [
           "Real Estate Investment Trusts"
          ],
          [
           "Real Estate Investment Trusts"
          ],
          [
           "Real Estate Investment Trusts"
          ],
          [
           "Real Estate Investment Trusts"
          ],
          [
           "Real Estate Investment Trusts"
          ],
          [
           "Real Estate Investment Trusts"
          ],
          [
           "Real Estate Investment Trusts"
          ],
          [
           "Real Estate Investment Trusts"
          ],
          [
           "Real Estate Investment Trusts"
          ]
         ],
         "hovertemplate": "SIC=Real Estate Investment Trusts<br>0=%{x}<br>1=%{y}<br>Name=%{customdata[0]}<extra></extra>",
         "legendgroup": "Real Estate Investment Trusts",
         "marker": {
          "color": "#ab63fa",
          "symbol": "circle"
         },
         "mode": "markers",
         "name": "Real Estate Investment Trusts",
         "orientation": "v",
         "showlegend": true,
         "type": "scatter",
         "x": [
          -1.9422746133043793,
          -1.5528748687666687,
          -1.6701301272280042,
          -1.5521577710041787,
          -1.5521577710041787,
          -2.304062101894386,
          -2.304062101894386,
          -1.772006521337941,
          -1.8396780241278934,
          -1.1684284079654639,
          -2.323978747436551,
          -0.12886668328603393,
          -1.748248133963038,
          -1.726264787564089,
          -1.337494744483605,
          -0.07766674207577874,
          -1.5549390872976911,
          -1.4045462908136679,
          -1.9855835427176178,
          -2.781668681083865,
          -0.7182570482601416,
          -2.1040976531916837,
          -2.7993718937731282,
          -1.692434970058155,
          -1.6549824071176842,
          -0.21590618479935084,
          -2.8324219687760874,
          -2.3154851890760306,
          -1.9500663279389514,
          -1.2657694863033586,
          -0.9171584520856154,
          -0.6028196970002656,
          -1.3845962634899813,
          -2.065628958284691,
          -0.8890035786309421,
          -2.4978434271699337,
          -1.4145449305606013,
          -1.3449839047710386,
          -0.488516936176841,
          -2.14564638883138,
          -2.6052598175664334,
          -1.997122259451111,
          -0.8776339802829,
          -2.058250564940226,
          -1.9326064790749593,
          -2.507770322359345,
          -0.31547236610649315,
          -3.073168525631264,
          -0.3342436376140775,
          -2.482141574031453,
          -2.265291544977026,
          -1.684830520233409,
          -1.483340350510655,
          -0.31547236610649315,
          -1.9934325526589982,
          -1.6574768197675094,
          -2.022815667869913,
          -1.5781427592804507,
          -1.3902459747414808,
          -1.4332913646152887,
          -2.469019082322508,
          -0.9740004601246406,
          -2.433691240927694,
          -1.0563086399372688,
          -2.6850169913667097,
          -1.3063072960089939,
          -1.7955952633938133,
          -2.1067822799896727,
          -0.9960158052104786,
          -0.3154723661064932,
          -2.219334461418313,
          -2.3670782413145712,
          -2.278487894943387,
          -2.1340266565192803,
          -1.1483304168986534,
          -2.239155099625544,
          -1.8387101729691244,
          -1.5646979865689323,
          -1.755589501775618,
          -0.17423475660105006,
          -1.3521529087454405,
          -1.790667824042406,
          -2.0315909088277535,
          0.07877619952686118,
          -0.8424253573024373,
          -1.7315632688479092,
          -1.8399326003014158,
          -1.9625616449639967,
          -1.1650655396882406,
          -1.7136943131316273,
          -2.4872281559364686,
          -0.31547236610649315,
          -1.4434866451209158,
          -2.9094545050598923,
          -0.23884176699288232,
          -2.091447819308088,
          -1.0931178943118465,
          -0.6035298352281249,
          -1.434384702211297,
          -1.5036319454860796,
          -1.3899522793638248,
          -1.2232640029046005,
          -2.722248475937275,
          -2.088577010679124,
          -1.6113143722583685,
          -1.2210942668476066,
          -2.5306573165210127,
          -1.359073786979557,
          -0.9592746393009481,
          -0.5794542378182809,
          -0.8399238796111952,
          -1.6921723112402651,
          -2.3343224978609607,
          -0.8370529260138077,
          -0.6028650938884595,
          -2.477122113771869,
          -0.2001227655068818,
          -1.8451010213316779,
          -2.0550406774090115,
          -1.110071803346205,
          -0.4286014950476482,
          -1.6466319107640166,
          -2.220042949341092,
          -0.5721722346055405,
          -1.8883292254444881,
          -1.857703607693063,
          -2.552878533632181,
          -1.5528325830507184,
          -1.4501540964014115,
          -0.6631894908755847,
          -1.6347168366419003,
          -0.9706625191515992,
          -1.3331722608392071,
          -1.5623327794525361,
          -2.294581997544781,
          -0.6221622836983567,
          -2.3356215278343777,
          -1.76780697718598,
          -1.7069041856253557,
          -0.40401309559774123,
          -2.1468024337863483,
          -2.4695264936528574,
          -0.8324071167746513,
          -2.5535359213880433,
          -0.9020117762271364,
          -2.5931875295910585,
          -0.7249444941420066,
          -2.6707477289918917,
          -2.508001643895564,
          -2.2972571998014817,
          -2.2972571998014817,
          -2.6554229346066727,
          -2.754317805457098,
          -0.8190191306218191,
          -1.9392053299592356,
          -0.3145520060254937,
          -2.586651946659614,
          -2.812388631365952,
          -2.3778210647278315,
          -2.3427489860947013,
          -1.7503281808321605,
          -0.33287191553217116,
          -2.4668281176516653,
          -2.16499794560943,
          -0.7967544897335814,
          -0.6390980555843849,
          -1.9662650110668314,
          -1.3124357401998403,
          -2.164866550724044,
          -2.678187978198264,
          -2.411965885785799,
          -1.8776891791224066,
          -2.214915524917549,
          -2.023784668253832,
          -1.8201585080166338,
          -2.2692691285989715,
          -1.8360998549848933,
          -0.9644339806143017,
          -1.2926483685767254,
          -0.37911486374711634,
          -2.5684905698897036,
          -2.0543938411449956,
          -1.3021480563862493,
          -0.5924972160559084,
          -1.1639176839662089,
          -2.5450232612435877,
          -0.612776762570669,
          -2.237127657772859,
          -2.6656301678596686,
          -1.10166116192255,
          0.060492076295895314
         ],
         "xaxis": "x",
         "y": [
          -2.1174304895647404,
          -1.8713219802036114,
          -1.9877765924580018,
          -1.2298713037315008,
          -1.2298713037315008,
          -2.1725392234242884,
          -2.1725392234242884,
          -2.2919621672175707,
          -2.12536779122547,
          -2.1456808779869645,
          -2.4343551903315794,
          -1.1495601944760199,
          -2.1776717308632776,
          -2.4180598929781136,
          -1.994712106454227,
          -1.0423589929908699,
          -0.951410106347715,
          -2.0707027087174152,
          -2.1443168634984637,
          -2.23971728425036,
          -1.497045885242628,
          -2.1181118220349986,
          -2.337554045970564,
          -1.2966395767481838,
          -2.050534576293007,
          -1.157418251790713,
          -1.017586614746603,
          -2.493398160327004,
          -2.364776670166183,
          -2.1484759537169658,
          -1.979335033808977,
          -1.3839415702765394,
          -1.7692868329475084,
          -1.7387531857533092,
          -1.708070762261027,
          -2.408915686505884,
          -1.8832507114819446,
          -1.9355128277548486,
          -1.7282658674193099,
          -1.9938235651805674,
          -2.337966193012762,
          -1.9867881549107422,
          -1.7928414855109318,
          -2.0787180155566487,
          -2.515018830704512,
          -2.6591858973465077,
          -0.5914040973371353,
          -1.9317567321809255,
          -1.4431206992705543,
          -2.334701616346205,
          -1.2496102568290834,
          -2.3326668258005623,
          -1.320910349571577,
          -0.5914040973371353,
          -2.390379471884166,
          -1.9336980759660858,
          -2.339368361607603,
          -1.7063049324385924,
          -2.0209367846155812,
          -1.6844870017060043,
          -2.115142955996077,
          -1.6638530481909053,
          -1.2471627972773123,
          -1.7863360295553852,
          -2.366542808020539,
          -1.6489035911405203,
          -0.594701044181359,
          -1.4143211975667234,
          -1.7488115568149498,
          -0.5914040973371353,
          -2.0648404731002037,
          -2.3640480577646903,
          -1.7638068833937037,
          -2.322853193544355,
          -1.4515483086113048,
          -1.902374831606701,
          -2.1572978127398823,
          -1.3665667260041392,
          -2.306288767898911,
          -1.2110551754098224,
          -2.0992366106142,
          -2.2323268291899954,
          -2.257032291389081,
          -1.1366130795952156,
          -1.8740392324197614,
          -2.2230199535624156,
          -2.210426587988966,
          -2.0579540983805553,
          -2.1563993269342516,
          -1.879687775143382,
          -1.3186039963389513,
          -0.5914040973371353,
          -1.9622819700903584,
          -1.683783149197993,
          -1.161052902168597,
          -1.7937852043721638,
          -1.739892928489708,
          -1.7570190625398563,
          -2.3039380545232424,
          -2.2894900898024297,
          -1.7920760561060172,
          -2.0009926737953285,
          -1.7379575604307984,
          -1.92327885671456,
          -2.206949172133774,
          -1.7823420952078437,
          -2.288783583007229,
          -2.2731903608478166,
          -1.7333805074714586,
          -1.0870872063906816,
          -2.0298688683682924,
          -2.199343219930845,
          -1.8733793540742056,
          -1.7252309799525611,
          -1.4184196172061199,
          -2.4702243869950085,
          -1.174440193134105,
          -1.8846716337952085,
          -2.4634230678347713,
          -1.8739761576906726,
          -1.2551765054057198,
          -2.097805467678647,
          -2.1680516539535306,
          -0.9024098515612451,
          -1.7319811775218537,
          -2.3022298240795545,
          -2.3710450628480286,
          -1.1647087250423438,
          -1.889868770212492,
          -1.6443736547833874,
          -2.1538265257495643,
          -1.4757326346212407,
          -1.8150860028299833,
          -1.949657995558825,
          -2.473540781962603,
          -1.9275856244974097,
          -1.9563444814921573,
          -1.7358215040094163,
          -0.9167534483970871,
          -1.2154644648100605,
          -2.549746440066059,
          -2.4810498972816957,
          -1.4608069465473899,
          -1.2203402402528643,
          -1.7834663220051663,
          -2.1867982311214282,
          -1.6210743693160723,
          -1.72698055747379,
          -2.4384535786413593,
          -2.414924118590305,
          -2.414924118590305,
          -2.426323107922496,
          -2.2937794553579094,
          -1.7604736608972646,
          -1.6656136861594355,
          -0.8365241804787278,
          -2.463066054928145,
          -1.629888379869895,
          -2.400071472419552,
          -1.2177523735780784,
          -1.8791686501840328,
          -1.4693998087898317,
          -1.4937916378505156,
          -1.7110233272115174,
          -1.3190792805867328,
          -1.5938355855190123,
          -2.403045548110458,
          -2.2769089050108384,
          -2.411866700356036,
          -2.330526619658264,
          -2.191963901863839,
          -2.3919958663985863,
          -2.646210238561045,
          -2.0573771842990043,
          -1.9594918856705588,
          -1.7692802567183272,
          -1.8275464155547658,
          -2.0271725036858554,
          -1.9323195376604718,
          -1.210316720076166,
          -1.6959349540309565,
          -2.27920183404755,
          -1.6706973430473153,
          -1.746978591277423,
          -2.2147181038870927,
          -2.4438557296444796,
          -1.716165515755942,
          -2.0976315416530915,
          -2.328698418308598,
          -2.2483714323895,
          -0.8988746105567803
         ],
         "yaxis": "y"
        },
        {
         "customdata": [
          [
           "State Commercial Banks (commercial banking)"
          ],
          [
           "State Commercial Banks (commercial banking)"
          ],
          [
           "State Commercial Banks (commercial banking)"
          ],
          [
           "State Commercial Banks (commercial banking)"
          ],
          [
           "State Commercial Banks (commercial banking)"
          ],
          [
           "State Commercial Banks (commercial banking)"
          ],
          [
           "State Commercial Banks (commercial banking)"
          ],
          [
           "State Commercial Banks (commercial banking)"
          ],
          [
           "State Commercial Banks (commercial banking)"
          ],
          [
           "State Commercial Banks (commercial banking)"
          ],
          [
           "State Commercial Banks (commercial banking)"
          ],
          [
           "State Commercial Banks (commercial banking)"
          ],
          [
           "State Commercial Banks (commercial banking)"
          ],
          [
           "State Commercial Banks (commercial banking)"
          ],
          [
           "State Commercial Banks (commercial banking)"
          ],
          [
           "State Commercial Banks (commercial banking)"
          ],
          [
           "State Commercial Banks (commercial banking)"
          ],
          [
           "State Commercial Banks (commercial banking)"
          ],
          [
           "State Commercial Banks (commercial banking)"
          ],
          [
           "State Commercial Banks (commercial banking)"
          ],
          [
           "State Commercial Banks (commercial banking)"
          ],
          [
           "State Commercial Banks (commercial banking)"
          ],
          [
           "State Commercial Banks (commercial banking)"
          ],
          [
           "State Commercial Banks (commercial banking)"
          ],
          [
           "State Commercial Banks (commercial banking)"
          ],
          [
           "State Commercial Banks (commercial banking)"
          ],
          [
           "State Commercial Banks (commercial banking)"
          ],
          [
           "State Commercial Banks (commercial banking)"
          ],
          [
           "State Commercial Banks (commercial banking)"
          ],
          [
           "State Commercial Banks (commercial banking)"
          ],
          [
           "State Commercial Banks (commercial banking)"
          ],
          [
           "State Commercial Banks (commercial banking)"
          ],
          [
           "State Commercial Banks (commercial banking)"
          ],
          [
           "State Commercial Banks (commercial banking)"
          ],
          [
           "State Commercial Banks (commercial banking)"
          ],
          [
           "State Commercial Banks (commercial banking)"
          ],
          [
           "State Commercial Banks (commercial banking)"
          ],
          [
           "State Commercial Banks (commercial banking)"
          ],
          [
           "State Commercial Banks (commercial banking)"
          ],
          [
           "State Commercial Banks (commercial banking)"
          ],
          [
           "State Commercial Banks (commercial banking)"
          ],
          [
           "State Commercial Banks (commercial banking)"
          ],
          [
           "State Commercial Banks (commercial banking)"
          ],
          [
           "State Commercial Banks (commercial banking)"
          ],
          [
           "State Commercial Banks (commercial banking)"
          ],
          [
           "State Commercial Banks (commercial banking)"
          ],
          [
           "State Commercial Banks (commercial banking)"
          ],
          [
           "State Commercial Banks (commercial banking)"
          ],
          [
           "State Commercial Banks (commercial banking)"
          ],
          [
           "State Commercial Banks (commercial banking)"
          ],
          [
           "State Commercial Banks (commercial banking)"
          ],
          [
           "State Commercial Banks (commercial banking)"
          ],
          [
           "State Commercial Banks (commercial banking)"
          ],
          [
           "State Commercial Banks (commercial banking)"
          ],
          [
           "State Commercial Banks (commercial banking)"
          ],
          [
           "State Commercial Banks (commercial banking)"
          ],
          [
           "State Commercial Banks (commercial banking)"
          ],
          [
           "State Commercial Banks (commercial banking)"
          ],
          [
           "State Commercial Banks (commercial banking)"
          ],
          [
           "State Commercial Banks (commercial banking)"
          ],
          [
           "State Commercial Banks (commercial banking)"
          ],
          [
           "State Commercial Banks (commercial banking)"
          ],
          [
           "State Commercial Banks (commercial banking)"
          ],
          [
           "State Commercial Banks (commercial banking)"
          ],
          [
           "State Commercial Banks (commercial banking)"
          ],
          [
           "State Commercial Banks (commercial banking)"
          ],
          [
           "State Commercial Banks (commercial banking)"
          ],
          [
           "State Commercial Banks (commercial banking)"
          ],
          [
           "State Commercial Banks (commercial banking)"
          ],
          [
           "State Commercial Banks (commercial banking)"
          ],
          [
           "State Commercial Banks (commercial banking)"
          ],
          [
           "State Commercial Banks (commercial banking)"
          ],
          [
           "State Commercial Banks (commercial banking)"
          ],
          [
           "State Commercial Banks (commercial banking)"
          ],
          [
           "State Commercial Banks (commercial banking)"
          ],
          [
           "State Commercial Banks (commercial banking)"
          ],
          [
           "State Commercial Banks (commercial banking)"
          ],
          [
           "State Commercial Banks (commercial banking)"
          ],
          [
           "State Commercial Banks (commercial banking)"
          ],
          [
           "State Commercial Banks (commercial banking)"
          ],
          [
           "State Commercial Banks (commercial banking)"
          ],
          [
           "State Commercial Banks (commercial banking)"
          ],
          [
           "State Commercial Banks (commercial banking)"
          ],
          [
           "State Commercial Banks (commercial banking)"
          ],
          [
           "State Commercial Banks (commercial banking)"
          ],
          [
           "State Commercial Banks (commercial banking)"
          ],
          [
           "State Commercial Banks (commercial banking)"
          ],
          [
           "State Commercial Banks (commercial banking)"
          ],
          [
           "State Commercial Banks (commercial banking)"
          ],
          [
           "State Commercial Banks (commercial banking)"
          ],
          [
           "State Commercial Banks (commercial banking)"
          ],
          [
           "State Commercial Banks (commercial banking)"
          ],
          [
           "State Commercial Banks (commercial banking)"
          ],
          [
           "State Commercial Banks (commercial banking)"
          ],
          [
           "State Commercial Banks (commercial banking)"
          ],
          [
           "State Commercial Banks (commercial banking)"
          ],
          [
           "State Commercial Banks (commercial banking)"
          ],
          [
           "State Commercial Banks (commercial banking)"
          ],
          [
           "State Commercial Banks (commercial banking)"
          ],
          [
           "State Commercial Banks (commercial banking)"
          ],
          [
           "State Commercial Banks (commercial banking)"
          ],
          [
           "State Commercial Banks (commercial banking)"
          ],
          [
           "State Commercial Banks (commercial banking)"
          ],
          [
           "State Commercial Banks (commercial banking)"
          ],
          [
           "State Commercial Banks (commercial banking)"
          ],
          [
           "State Commercial Banks (commercial banking)"
          ],
          [
           "State Commercial Banks (commercial banking)"
          ],
          [
           "State Commercial Banks (commercial banking)"
          ],
          [
           "State Commercial Banks (commercial banking)"
          ],
          [
           "State Commercial Banks (commercial banking)"
          ],
          [
           "State Commercial Banks (commercial banking)"
          ],
          [
           "State Commercial Banks (commercial banking)"
          ],
          [
           "State Commercial Banks (commercial banking)"
          ],
          [
           "State Commercial Banks (commercial banking)"
          ],
          [
           "State Commercial Banks (commercial banking)"
          ],
          [
           "State Commercial Banks (commercial banking)"
          ]
         ],
         "hovertemplate": "SIC=State Commercial Banks (commercial banking)<br>0=%{x}<br>1=%{y}<br>Name=%{customdata[0]}<extra></extra>",
         "legendgroup": "State Commercial Banks (commercial banking)",
         "marker": {
          "color": "#FFA15A",
          "symbol": "circle"
         },
         "mode": "markers",
         "name": "State Commercial Banks (commercial banking)",
         "orientation": "v",
         "showlegend": true,
         "type": "scatter",
         "x": [
          -4.023756570416365,
          -3.6781274784491846,
          -3.869691978306723,
          -4.619383788810301,
          -4.388034144202361,
          -4.3314305047336905,
          -3.988969126931991,
          -2.5209550005538914,
          -4.005694171249952,
          -3.45900778314967,
          -3.45900778314967,
          -0.17459478766670067,
          -4.421612372771849,
          -4.648247542114976,
          -4.222062012246356,
          -3.8180118410864323,
          -4.1417974161394,
          -4.350706227854217,
          -4.223389132777689,
          -4.1113880237390745,
          -4.295157655979312,
          -4.295157655979312,
          -3.965286826010836,
          -4.833804227635881,
          -4.526283758564343,
          -4.455210457424443,
          -2.6724699538592565,
          -4.602260141226025,
          -3.972828140437981,
          -4.119438418171428,
          -3.1721380375864174,
          -4.591504431053599,
          -4.061470749195452,
          -4.062122747760024,
          -4.062952781683165,
          -4.36243723165261,
          -4.566076054810421,
          -4.802590440923284,
          -4.408690849046,
          -2.7211195437261058,
          -4.022333939061975,
          -0.6729422340282188,
          -4.6753832681350485,
          -4.35392856908921,
          -4.2156326666551145,
          -0.612131836204601,
          -4.301404945901643,
          -3.977899393593817,
          -4.226626499848538,
          -4.6607942764081045,
          -4.204192807641344,
          -3.9368993738879174,
          -3.8746963789640336,
          -3.8208811025923826,
          -3.802463992355667,
          -4.56167893128951,
          -4.6072119074164615,
          -3.6802203973675067,
          -4.2488911980639354,
          -4.2488911980639354,
          -4.251228701300932,
          -4.228967075022963,
          -4.91497072989771,
          -4.797060201544395,
          -3.8993746981959245,
          -4.530410271804393,
          -4.478935665402989,
          -3.954164079104137,
          -4.082963583240437,
          -2.4659879639171125,
          -4.093829620963372,
          -4.15192302653103,
          -4.430113296877535,
          -4.0732115568571015,
          -3.3903653143304693,
          -4.162064888372787,
          -4.249427661218275,
          -3.5931321829933522,
          -4.073250916624723,
          0.2983247895641911,
          -3.707618173053623,
          -4.331561064094431,
          -4.118411519944015,
          -3.570208753268173,
          -4.626591645318796,
          -4.530599043097745,
          -4.530599043097745,
          -4.49761790005423,
          0.0782920660852776,
          -3.8073539961819587,
          -1.7305097106821845,
          -4.357748213704423,
          -4.766495039928411,
          -4.0796640586948305,
          -4.749903516280848,
          -4.5134573288533,
          -4.178980738676666,
          -3.927810956516915,
          -4.560888853825129,
          -4.16563290532867,
          -4.155468694546192,
          -3.970474786755189,
          -4.748332831783209,
          -4.148468696117777,
          -4.389361690774168,
          -3.6355196947379325,
          -1.1647549281369363,
          -4.069943359026233,
          -3.7798301444465876,
          -0.6592807639539378,
          -4.336106793880197,
          -3.6963310202611845,
          -3.915144803292087,
          -4.285662775181583,
          -3.2833534792182144,
          -4.942550654930896
         ],
         "xaxis": "x",
         "y": [
          3.924060932685492,
          2.4430186474389015,
          0.505229052256993,
          4.459343162268793,
          3.7270373979302858,
          4.701139536702419,
          4.2622835107542025,
          0.8130301961574401,
          3.03935064998424,
          4.086283830058508,
          4.086283830058508,
          -0.9760158879788488,
          4.364997190397984,
          3.904784230320007,
          3.5382320084200574,
          4.009359323831771,
          2.114560957608347,
          4.4385177259981985,
          3.5919460180570244,
          3.8753251698414966,
          3.486156635265222,
          3.486156635265222,
          4.121720503297599,
          3.388053345999051,
          1.862792889508944,
          4.408319172234432,
          0.22724805691142647,
          3.7027015725782695,
          4.518691217597511,
          4.4323864025331945,
          3.348249319976917,
          3.846230843652091,
          2.6333402004011797,
          4.316727323511386,
          3.6195627971453277,
          4.38452359562944,
          4.180428884282551,
          3.44123363112212,
          2.497355458615874,
          2.1048812617666557,
          1.1989780552713236,
          -0.8809655185297111,
          4.03859825482197,
          3.358601780199797,
          3.7839500513161166,
          -0.32524995865909856,
          2.7663858202882095,
          4.328099027526854,
          4.3490532719301545,
          4.203509765194657,
          4.586998682872335,
          3.82648311081641,
          4.449307526690871,
          3.400458010664483,
          4.301236809322684,
          3.441321949437344,
          3.730976677125648,
          2.731874843787345,
          4.428903925515031,
          4.428903925515031,
          3.6872322189517406,
          4.417424731118963,
          4.0986170870612835,
          2.995592861353293,
          4.465046689724038,
          4.562522149011847,
          1.5885931090100622,
          4.25314139924616,
          3.711964182414217,
          -0.3184314743938876,
          4.233343340955479,
          3.951274468280887,
          4.469160986528332,
          4.173721026696263,
          2.401894966131502,
          4.3973052590015325,
          4.435820929399635,
          3.7962044188741655,
          1.932243890371315,
          -0.6071135414581919,
          4.225022063547593,
          3.7281771795657614,
          4.315765145208869,
          0.8527930297289718,
          3.4073025863908097,
          4.040913272869346,
          4.040913272869346,
          4.289890911873465,
          -0.5130070417388931,
          3.924201104051321,
          0.8159438976336765,
          2.383717203193203,
          4.2803481244443535,
          4.180496201086484,
          3.119734805052692,
          3.2146412803971516,
          1.2543955056803413,
          4.084269180695706,
          3.51282412242527,
          4.343618966340758,
          4.0707445862366844,
          1.6936999852302204,
          4.058246789750719,
          4.33525482275922,
          2.5084242723278596,
          3.517765614864498,
          0.9664336174958764,
          4.041388939804482,
          0.8592200574433019,
          -0.5063204968813805,
          4.654294539894872,
          3.746769512860925,
          4.188454632013639,
          4.2560809062230165,
          3.2250013383933736,
          4.247110544084465
         ],
         "yaxis": "y"
        }
       ],
       "layout": {
        "height": 750,
        "legend": {
         "title": {
          "text": "SIC"
         },
         "tracegroupgap": 0
        },
        "margin": {
         "t": 60
        },
        "template": {
         "data": {
          "bar": [
           {
            "error_x": {
             "color": "#2a3f5f"
            },
            "error_y": {
             "color": "#2a3f5f"
            },
            "marker": {
             "line": {
              "color": "#E5ECF6",
              "width": 0.5
             },
             "pattern": {
              "fillmode": "overlay",
              "size": 10,
              "solidity": 0.2
             }
            },
            "type": "bar"
           }
          ],
          "barpolar": [
           {
            "marker": {
             "line": {
              "color": "#E5ECF6",
              "width": 0.5
             },
             "pattern": {
              "fillmode": "overlay",
              "size": 10,
              "solidity": 0.2
             }
            },
            "type": "barpolar"
           }
          ],
          "carpet": [
           {
            "aaxis": {
             "endlinecolor": "#2a3f5f",
             "gridcolor": "white",
             "linecolor": "white",
             "minorgridcolor": "white",
             "startlinecolor": "#2a3f5f"
            },
            "baxis": {
             "endlinecolor": "#2a3f5f",
             "gridcolor": "white",
             "linecolor": "white",
             "minorgridcolor": "white",
             "startlinecolor": "#2a3f5f"
            },
            "type": "carpet"
           }
          ],
          "choropleth": [
           {
            "colorbar": {
             "outlinewidth": 0,
             "ticks": ""
            },
            "type": "choropleth"
           }
          ],
          "contour": [
           {
            "colorbar": {
             "outlinewidth": 0,
             "ticks": ""
            },
            "colorscale": [
             [
              0,
              "#0d0887"
             ],
             [
              0.1111111111111111,
              "#46039f"
             ],
             [
              0.2222222222222222,
              "#7201a8"
             ],
             [
              0.3333333333333333,
              "#9c179e"
             ],
             [
              0.4444444444444444,
              "#bd3786"
             ],
             [
              0.5555555555555556,
              "#d8576b"
             ],
             [
              0.6666666666666666,
              "#ed7953"
             ],
             [
              0.7777777777777778,
              "#fb9f3a"
             ],
             [
              0.8888888888888888,
              "#fdca26"
             ],
             [
              1,
              "#f0f921"
             ]
            ],
            "type": "contour"
           }
          ],
          "contourcarpet": [
           {
            "colorbar": {
             "outlinewidth": 0,
             "ticks": ""
            },
            "type": "contourcarpet"
           }
          ],
          "heatmap": [
           {
            "colorbar": {
             "outlinewidth": 0,
             "ticks": ""
            },
            "colorscale": [
             [
              0,
              "#0d0887"
             ],
             [
              0.1111111111111111,
              "#46039f"
             ],
             [
              0.2222222222222222,
              "#7201a8"
             ],
             [
              0.3333333333333333,
              "#9c179e"
             ],
             [
              0.4444444444444444,
              "#bd3786"
             ],
             [
              0.5555555555555556,
              "#d8576b"
             ],
             [
              0.6666666666666666,
              "#ed7953"
             ],
             [
              0.7777777777777778,
              "#fb9f3a"
             ],
             [
              0.8888888888888888,
              "#fdca26"
             ],
             [
              1,
              "#f0f921"
             ]
            ],
            "type": "heatmap"
           }
          ],
          "heatmapgl": [
           {
            "colorbar": {
             "outlinewidth": 0,
             "ticks": ""
            },
            "colorscale": [
             [
              0,
              "#0d0887"
             ],
             [
              0.1111111111111111,
              "#46039f"
             ],
             [
              0.2222222222222222,
              "#7201a8"
             ],
             [
              0.3333333333333333,
              "#9c179e"
             ],
             [
              0.4444444444444444,
              "#bd3786"
             ],
             [
              0.5555555555555556,
              "#d8576b"
             ],
             [
              0.6666666666666666,
              "#ed7953"
             ],
             [
              0.7777777777777778,
              "#fb9f3a"
             ],
             [
              0.8888888888888888,
              "#fdca26"
             ],
             [
              1,
              "#f0f921"
             ]
            ],
            "type": "heatmapgl"
           }
          ],
          "histogram": [
           {
            "marker": {
             "pattern": {
              "fillmode": "overlay",
              "size": 10,
              "solidity": 0.2
             }
            },
            "type": "histogram"
           }
          ],
          "histogram2d": [
           {
            "colorbar": {
             "outlinewidth": 0,
             "ticks": ""
            },
            "colorscale": [
             [
              0,
              "#0d0887"
             ],
             [
              0.1111111111111111,
              "#46039f"
             ],
             [
              0.2222222222222222,
              "#7201a8"
             ],
             [
              0.3333333333333333,
              "#9c179e"
             ],
             [
              0.4444444444444444,
              "#bd3786"
             ],
             [
              0.5555555555555556,
              "#d8576b"
             ],
             [
              0.6666666666666666,
              "#ed7953"
             ],
             [
              0.7777777777777778,
              "#fb9f3a"
             ],
             [
              0.8888888888888888,
              "#fdca26"
             ],
             [
              1,
              "#f0f921"
             ]
            ],
            "type": "histogram2d"
           }
          ],
          "histogram2dcontour": [
           {
            "colorbar": {
             "outlinewidth": 0,
             "ticks": ""
            },
            "colorscale": [
             [
              0,
              "#0d0887"
             ],
             [
              0.1111111111111111,
              "#46039f"
             ],
             [
              0.2222222222222222,
              "#7201a8"
             ],
             [
              0.3333333333333333,
              "#9c179e"
             ],
             [
              0.4444444444444444,
              "#bd3786"
             ],
             [
              0.5555555555555556,
              "#d8576b"
             ],
             [
              0.6666666666666666,
              "#ed7953"
             ],
             [
              0.7777777777777778,
              "#fb9f3a"
             ],
             [
              0.8888888888888888,
              "#fdca26"
             ],
             [
              1,
              "#f0f921"
             ]
            ],
            "type": "histogram2dcontour"
           }
          ],
          "mesh3d": [
           {
            "colorbar": {
             "outlinewidth": 0,
             "ticks": ""
            },
            "type": "mesh3d"
           }
          ],
          "parcoords": [
           {
            "line": {
             "colorbar": {
              "outlinewidth": 0,
              "ticks": ""
             }
            },
            "type": "parcoords"
           }
          ],
          "pie": [
           {
            "automargin": true,
            "type": "pie"
           }
          ],
          "scatter": [
           {
            "marker": {
             "colorbar": {
              "outlinewidth": 0,
              "ticks": ""
             }
            },
            "type": "scatter"
           }
          ],
          "scatter3d": [
           {
            "line": {
             "colorbar": {
              "outlinewidth": 0,
              "ticks": ""
             }
            },
            "marker": {
             "colorbar": {
              "outlinewidth": 0,
              "ticks": ""
             }
            },
            "type": "scatter3d"
           }
          ],
          "scattercarpet": [
           {
            "marker": {
             "colorbar": {
              "outlinewidth": 0,
              "ticks": ""
             }
            },
            "type": "scattercarpet"
           }
          ],
          "scattergeo": [
           {
            "marker": {
             "colorbar": {
              "outlinewidth": 0,
              "ticks": ""
             }
            },
            "type": "scattergeo"
           }
          ],
          "scattergl": [
           {
            "marker": {
             "colorbar": {
              "outlinewidth": 0,
              "ticks": ""
             }
            },
            "type": "scattergl"
           }
          ],
          "scattermapbox": [
           {
            "marker": {
             "colorbar": {
              "outlinewidth": 0,
              "ticks": ""
             }
            },
            "type": "scattermapbox"
           }
          ],
          "scatterpolar": [
           {
            "marker": {
             "colorbar": {
              "outlinewidth": 0,
              "ticks": ""
             }
            },
            "type": "scatterpolar"
           }
          ],
          "scatterpolargl": [
           {
            "marker": {
             "colorbar": {
              "outlinewidth": 0,
              "ticks": ""
             }
            },
            "type": "scatterpolargl"
           }
          ],
          "scatterternary": [
           {
            "marker": {
             "colorbar": {
              "outlinewidth": 0,
              "ticks": ""
             }
            },
            "type": "scatterternary"
           }
          ],
          "surface": [
           {
            "colorbar": {
             "outlinewidth": 0,
             "ticks": ""
            },
            "colorscale": [
             [
              0,
              "#0d0887"
             ],
             [
              0.1111111111111111,
              "#46039f"
             ],
             [
              0.2222222222222222,
              "#7201a8"
             ],
             [
              0.3333333333333333,
              "#9c179e"
             ],
             [
              0.4444444444444444,
              "#bd3786"
             ],
             [
              0.5555555555555556,
              "#d8576b"
             ],
             [
              0.6666666666666666,
              "#ed7953"
             ],
             [
              0.7777777777777778,
              "#fb9f3a"
             ],
             [
              0.8888888888888888,
              "#fdca26"
             ],
             [
              1,
              "#f0f921"
             ]
            ],
            "type": "surface"
           }
          ],
          "table": [
           {
            "cells": {
             "fill": {
              "color": "#EBF0F8"
             },
             "line": {
              "color": "white"
             }
            },
            "header": {
             "fill": {
              "color": "#C8D4E3"
             },
             "line": {
              "color": "white"
             }
            },
            "type": "table"
           }
          ]
         },
         "layout": {
          "annotationdefaults": {
           "arrowcolor": "#2a3f5f",
           "arrowhead": 0,
           "arrowwidth": 1
          },
          "autotypenumbers": "strict",
          "coloraxis": {
           "colorbar": {
            "outlinewidth": 0,
            "ticks": ""
           }
          },
          "colorscale": {
           "diverging": [
            [
             0,
             "#8e0152"
            ],
            [
             0.1,
             "#c51b7d"
            ],
            [
             0.2,
             "#de77ae"
            ],
            [
             0.3,
             "#f1b6da"
            ],
            [
             0.4,
             "#fde0ef"
            ],
            [
             0.5,
             "#f7f7f7"
            ],
            [
             0.6,
             "#e6f5d0"
            ],
            [
             0.7,
             "#b8e186"
            ],
            [
             0.8,
             "#7fbc41"
            ],
            [
             0.9,
             "#4d9221"
            ],
            [
             1,
             "#276419"
            ]
           ],
           "sequential": [
            [
             0,
             "#0d0887"
            ],
            [
             0.1111111111111111,
             "#46039f"
            ],
            [
             0.2222222222222222,
             "#7201a8"
            ],
            [
             0.3333333333333333,
             "#9c179e"
            ],
            [
             0.4444444444444444,
             "#bd3786"
            ],
            [
             0.5555555555555556,
             "#d8576b"
            ],
            [
             0.6666666666666666,
             "#ed7953"
            ],
            [
             0.7777777777777778,
             "#fb9f3a"
            ],
            [
             0.8888888888888888,
             "#fdca26"
            ],
            [
             1,
             "#f0f921"
            ]
           ],
           "sequentialminus": [
            [
             0,
             "#0d0887"
            ],
            [
             0.1111111111111111,
             "#46039f"
            ],
            [
             0.2222222222222222,
             "#7201a8"
            ],
            [
             0.3333333333333333,
             "#9c179e"
            ],
            [
             0.4444444444444444,
             "#bd3786"
            ],
            [
             0.5555555555555556,
             "#d8576b"
            ],
            [
             0.6666666666666666,
             "#ed7953"
            ],
            [
             0.7777777777777778,
             "#fb9f3a"
            ],
            [
             0.8888888888888888,
             "#fdca26"
            ],
            [
             1,
             "#f0f921"
            ]
           ]
          },
          "colorway": [
           "#636efa",
           "#EF553B",
           "#00cc96",
           "#ab63fa",
           "#FFA15A",
           "#19d3f3",
           "#FF6692",
           "#B6E880",
           "#FF97FF",
           "#FECB52"
          ],
          "font": {
           "color": "#2a3f5f"
          },
          "geo": {
           "bgcolor": "white",
           "lakecolor": "white",
           "landcolor": "#E5ECF6",
           "showlakes": true,
           "showland": true,
           "subunitcolor": "white"
          },
          "hoverlabel": {
           "align": "left"
          },
          "hovermode": "closest",
          "mapbox": {
           "style": "light"
          },
          "paper_bgcolor": "white",
          "plot_bgcolor": "#E5ECF6",
          "polar": {
           "angularaxis": {
            "gridcolor": "white",
            "linecolor": "white",
            "ticks": ""
           },
           "bgcolor": "#E5ECF6",
           "radialaxis": {
            "gridcolor": "white",
            "linecolor": "white",
            "ticks": ""
           }
          },
          "scene": {
           "xaxis": {
            "backgroundcolor": "#E5ECF6",
            "gridcolor": "white",
            "gridwidth": 2,
            "linecolor": "white",
            "showbackground": true,
            "ticks": "",
            "zerolinecolor": "white"
           },
           "yaxis": {
            "backgroundcolor": "#E5ECF6",
            "gridcolor": "white",
            "gridwidth": 2,
            "linecolor": "white",
            "showbackground": true,
            "ticks": "",
            "zerolinecolor": "white"
           },
           "zaxis": {
            "backgroundcolor": "#E5ECF6",
            "gridcolor": "white",
            "gridwidth": 2,
            "linecolor": "white",
            "showbackground": true,
            "ticks": "",
            "zerolinecolor": "white"
           }
          },
          "shapedefaults": {
           "line": {
            "color": "#2a3f5f"
           }
          },
          "ternary": {
           "aaxis": {
            "gridcolor": "white",
            "linecolor": "white",
            "ticks": ""
           },
           "baxis": {
            "gridcolor": "white",
            "linecolor": "white",
            "ticks": ""
           },
           "bgcolor": "#E5ECF6",
           "caxis": {
            "gridcolor": "white",
            "linecolor": "white",
            "ticks": ""
           }
          },
          "title": {
           "x": 0.05
          },
          "xaxis": {
           "automargin": true,
           "gridcolor": "white",
           "linecolor": "white",
           "ticks": "",
           "title": {
            "standoff": 15
           },
           "zerolinecolor": "white",
           "zerolinewidth": 2
          },
          "yaxis": {
           "automargin": true,
           "gridcolor": "white",
           "linecolor": "white",
           "ticks": "",
           "title": {
            "standoff": 15
           },
           "zerolinecolor": "white",
           "zerolinewidth": 2
          }
         }
        },
        "width": 1200,
        "xaxis": {
         "anchor": "y",
         "domain": [
          0,
          1
         ],
         "title": {
          "text": "0"
         }
        },
        "yaxis": {
         "anchor": "x",
         "domain": [
          0,
          1
         ],
         "title": {
          "text": "1"
         }
        }
       }
      },
      "text/html": [
       "<div>                            <div id=\"f8002223-2639-4bed-b60f-47a14e0738aa\" class=\"plotly-graph-div\" style=\"height:750px; width:1200px;\"></div>            <script type=\"text/javascript\">                require([\"plotly\"], function(Plotly) {                    window.PLOTLYENV=window.PLOTLYENV || {};                                    if (document.getElementById(\"f8002223-2639-4bed-b60f-47a14e0738aa\")) {                    Plotly.newPlot(                        \"f8002223-2639-4bed-b60f-47a14e0738aa\",                        [{\"customdata\":[[\"Prepackaged Software (mass reproduction of software)\"],[\"Prepackaged Software (mass reproduction of software)\"],[\"Prepackaged Software (mass reproduction of software)\"],[\"Prepackaged Software (mass reproduction of software)\"],[\"Prepackaged Software (mass reproduction of software)\"],[\"Prepackaged Software (mass reproduction of software)\"],[\"Prepackaged Software (mass reproduction of software)\"],[\"Prepackaged Software (mass reproduction of software)\"],[\"Prepackaged Software (mass reproduction of software)\"],[\"Prepackaged Software (mass reproduction of software)\"],[\"Prepackaged Software (mass reproduction of software)\"],[\"Prepackaged Software (mass reproduction of software)\"],[\"Prepackaged Software (mass reproduction of software)\"],[\"Prepackaged Software (mass reproduction of software)\"],[\"Prepackaged Software (mass reproduction of software)\"],[\"Prepackaged Software (mass reproduction of software)\"],[\"Prepackaged Software (mass reproduction of software)\"],[\"Prepackaged Software (mass reproduction of software)\"],[\"Prepackaged Software (mass reproduction of software)\"],[\"Prepackaged Software (mass reproduction of software)\"],[\"Prepackaged Software (mass reproduction of software)\"],[\"Prepackaged Software (mass reproduction of software)\"],[\"Prepackaged Software (mass reproduction of software)\"],[\"Prepackaged Software (mass reproduction of software)\"],[\"Prepackaged Software (mass reproduction of software)\"],[\"Prepackaged Software (mass reproduction of software)\"],[\"Prepackaged Software (mass reproduction of software)\"],[\"Prepackaged Software (mass reproduction of software)\"],[\"Prepackaged Software (mass reproduction of software)\"],[\"Prepackaged Software (mass reproduction of software)\"],[\"Prepackaged Software (mass reproduction of software)\"],[\"Prepackaged Software (mass reproduction of software)\"],[\"Prepackaged Software (mass reproduction of software)\"],[\"Prepackaged Software (mass reproduction of software)\"],[\"Prepackaged Software (mass reproduction of software)\"],[\"Prepackaged Software (mass reproduction of software)\"],[\"Prepackaged Software (mass reproduction of software)\"],[\"Prepackaged Software (mass reproduction of software)\"],[\"Prepackaged Software (mass reproduction of software)\"],[\"Prepackaged Software (mass reproduction of software)\"],[\"Prepackaged Software (mass reproduction of software)\"],[\"Prepackaged Software (mass reproduction of software)\"],[\"Prepackaged Software (mass reproduction of software)\"],[\"Prepackaged Software (mass reproduction of software)\"],[\"Prepackaged Software (mass reproduction of software)\"],[\"Prepackaged Software (mass reproduction of software)\"],[\"Prepackaged Software (mass reproduction of software)\"],[\"Prepackaged Software (mass reproduction of software)\"],[\"Prepackaged Software (mass reproduction of software)\"],[\"Prepackaged Software (mass reproduction of software)\"],[\"Prepackaged Software (mass reproduction of software)\"],[\"Prepackaged Software (mass reproduction of software)\"],[\"Prepackaged Software (mass reproduction of software)\"],[\"Prepackaged Software (mass reproduction of software)\"],[\"Prepackaged Software (mass reproduction of software)\"],[\"Prepackaged Software (mass reproduction of software)\"],[\"Prepackaged Software (mass reproduction of software)\"],[\"Prepackaged Software (mass reproduction of software)\"],[\"Prepackaged Software (mass reproduction of software)\"],[\"Prepackaged Software (mass reproduction of software)\"],[\"Prepackaged Software (mass reproduction of software)\"],[\"Prepackaged Software (mass reproduction of software)\"],[\"Prepackaged Software (mass reproduction of software)\"],[\"Prepackaged Software (mass reproduction of software)\"],[\"Prepackaged Software (mass reproduction of software)\"],[\"Prepackaged Software (mass reproduction of software)\"],[\"Prepackaged Software (mass reproduction of software)\"],[\"Prepackaged Software (mass reproduction of software)\"],[\"Prepackaged Software (mass reproduction of software)\"],[\"Prepackaged Software (mass reproduction of software)\"],[\"Prepackaged Software (mass reproduction of software)\"],[\"Prepackaged Software (mass reproduction of software)\"],[\"Prepackaged Software (mass reproduction of software)\"],[\"Prepackaged Software (mass reproduction of software)\"],[\"Prepackaged Software (mass reproduction of software)\"],[\"Prepackaged Software (mass reproduction of software)\"],[\"Prepackaged Software (mass reproduction of software)\"],[\"Prepackaged Software (mass reproduction of software)\"],[\"Prepackaged Software (mass reproduction of software)\"],[\"Prepackaged Software (mass reproduction of software)\"]],\"hovertemplate\":\"SIC=Prepackaged Software (mass reproduction of software)<br>0=%{x}<br>1=%{y}<br>Name=%{customdata[0]}<extra></extra>\",\"legendgroup\":\"Prepackaged Software (mass reproduction of software)\",\"marker\":{\"color\":\"#636efa\",\"symbol\":\"circle\"},\"mode\":\"markers\",\"name\":\"Prepackaged Software (mass reproduction of software)\",\"orientation\":\"v\",\"showlegend\":true,\"x\":[0.99902083586378,0.2633929490367165,0.4213714880747363,0.8408999670994839,-0.314020820139444,0.44383655552053436,0.24461226250361495,0.24461226250361495,-0.20375924508780605,0.48013177364470894,0.602472186306059,1.0832274771968615,0.20564790692239804,-0.12768301844822424,0.19780650724212592,0.7897911283159998,-0.7319978963096139,0.24029833822228003,0.026291545807584235,0.035188012227533365,0.46676651496381716,0.36170397290799955,3.2356415564231056,3.2356415564231056,-0.6235680331860215,-0.6235680331860215,-0.5426275806806736,-0.5426275806806736,0.051911614096377276,0.25462932458032844,-0.22988740669821572,1.2692121452586926,-0.37916636008586735,0.5218016529842566,1.174196046909015,0.4533003469873675,0.15417335647669,0.8314784638744157,-0.24876054983537016,-0.24876054983537016,-0.24876054983537016,-0.03031216148050678,-2.0500915784564535,-0.1518713541187608,-0.08493199887058257,1.0063555006407041,-0.32681586002957913,0.9116805334072703,1.3084889970693656,-0.42416014163437327,-0.13988951933947197,0.21066498642586237,-2.4587979688709996,0.2921568203266982,1.6904793543459424,0.4525945755770244,0.03231583312387489,0.6946424165201935,0.21165735966537322,1.2294392904237919,0.641984421595404,0.07496736614047247,-0.06833848315182407,0.8319369103405994,0.09182207738004372,-0.06660250053853632,0.10944637085090154,0.47448157021547965,0.8349961180047687,0.6694108767942832,0.8007467925060232,-1.8313201897097997,-0.5602114867184956,1.024831328653117,-0.46225420599326306,-0.46225420599326306,0.6345831175948964,0.6002347837004046,0.6877975084980418,1.3788373616546734],\"xaxis\":\"x\",\"y\":[-0.8081412816567027,-0.8345257152642733,-0.9700765223336089,-0.8349584304780023,-1.4491223650822682,-0.829108738157137,-0.6564444769568673,-0.6564444769568673,-1.4772808231648322,-0.8436621621710374,-0.6037733682052067,-0.8228473517880255,-0.6822871099987157,-1.2969781405974719,-0.6148601860706217,-0.6209653170908773,-0.5469737660782067,-0.7991990820882522,-0.738183934331296,-1.074579130271178,-0.8474335325568021,-0.7826386380472855,0.718605204903303,0.718605204903303,-0.8312918096681043,-0.8312918096681043,-1.4404420980567183,-1.4404420980567183,-1.400706792606163,-0.920658096049448,-1.3435448176617724,-0.6158468582713016,-1.0684558342265962,-0.597102961227967,-0.3910137441497246,-1.143098308590258,-0.9202882177879069,-0.6623034574866236,-0.3355923314115906,-0.3355923314115906,-0.3355923314115906,-0.5568378607838673,-1.8501208886645517,-0.029377502638718196,-1.458302943970184,-0.715303754860741,-1.2803107380418148,-0.668858420960851,-0.8169238603470922,-1.0344425206787033,-0.6012655173964568,-1.077318850921422,-0.6638984444533799,-1.0055651587218282,-0.12146931661505588,-1.15076396170579,-0.727556643788486,-0.7282528376614694,-1.217022326871119,-0.4665881214535827,-0.5270431896975821,-1.0960446868901352,-0.7438750374007146,-0.6934319075362491,-1.112548310706302,-1.0228168082306932,-1.373839183920253,-0.12024514225010728,-0.2498463651695474,-0.8149718798574908,-0.7799434143802201,-1.782893719893872,-1.523774151864927,-0.4010346878107438,-0.869027645996582,-0.869027645996582,-0.8918554009256495,-0.8586002893788286,-0.454004451766724,-0.7088864037110348],\"yaxis\":\"y\",\"type\":\"scatter\"},{\"customdata\":[[\"Crude Petroleum and Natural Gas\"],[\"Crude Petroleum and Natural Gas\"],[\"Crude Petroleum and Natural Gas\"],[\"Crude Petroleum and Natural Gas\"],[\"Crude Petroleum and Natural Gas\"],[\"Crude Petroleum and Natural Gas\"],[\"Crude Petroleum and Natural Gas\"],[\"Crude Petroleum and Natural Gas\"],[\"Crude Petroleum and Natural Gas\"],[\"Crude Petroleum and Natural Gas\"],[\"Crude Petroleum and Natural Gas\"],[\"Crude Petroleum and Natural Gas\"],[\"Crude Petroleum and Natural Gas\"],[\"Crude Petroleum and Natural Gas\"],[\"Crude Petroleum and Natural Gas\"],[\"Crude Petroleum and Natural Gas\"],[\"Crude Petroleum and Natural Gas\"],[\"Crude Petroleum and Natural Gas\"],[\"Crude Petroleum and Natural Gas\"],[\"Crude Petroleum and Natural Gas\"],[\"Crude Petroleum and Natural Gas\"],[\"Crude Petroleum and Natural Gas\"],[\"Crude Petroleum and Natural Gas\"],[\"Crude Petroleum and Natural Gas\"],[\"Crude Petroleum and Natural Gas\"],[\"Crude Petroleum and Natural Gas\"],[\"Crude Petroleum and Natural Gas\"],[\"Crude Petroleum and Natural Gas\"],[\"Crude Petroleum and Natural Gas\"],[\"Crude Petroleum and Natural Gas\"],[\"Crude Petroleum and Natural Gas\"],[\"Crude Petroleum and Natural Gas\"],[\"Crude Petroleum and Natural Gas\"],[\"Crude Petroleum and Natural Gas\"],[\"Crude Petroleum and Natural Gas\"],[\"Crude Petroleum and Natural Gas\"],[\"Crude Petroleum and Natural Gas\"],[\"Crude Petroleum and Natural Gas\"],[\"Crude Petroleum and Natural Gas\"],[\"Crude Petroleum and Natural Gas\"],[\"Crude Petroleum and Natural Gas\"],[\"Crude Petroleum and Natural Gas\"],[\"Crude Petroleum and Natural Gas\"],[\"Crude Petroleum and Natural Gas\"],[\"Crude Petroleum and Natural Gas\"],[\"Crude Petroleum and Natural Gas\"],[\"Crude Petroleum and Natural Gas\"],[\"Crude Petroleum and Natural Gas\"],[\"Crude Petroleum and Natural Gas\"],[\"Crude Petroleum and Natural Gas\"],[\"Crude Petroleum and Natural Gas\"],[\"Crude Petroleum and Natural Gas\"],[\"Crude Petroleum and Natural Gas\"],[\"Crude Petroleum and Natural Gas\"],[\"Crude Petroleum and Natural Gas\"],[\"Crude Petroleum and Natural Gas\"],[\"Crude Petroleum and Natural Gas\"],[\"Crude Petroleum and Natural Gas\"],[\"Crude Petroleum and Natural Gas\"],[\"Crude Petroleum and Natural Gas\"],[\"Crude Petroleum and Natural Gas\"],[\"Crude Petroleum and Natural Gas\"],[\"Crude Petroleum and Natural Gas\"],[\"Crude Petroleum and Natural Gas\"],[\"Crude Petroleum and Natural Gas\"],[\"Crude Petroleum and Natural Gas\"],[\"Crude Petroleum and Natural Gas\"],[\"Crude Petroleum and Natural Gas\"],[\"Crude Petroleum and Natural Gas\"],[\"Crude Petroleum and Natural Gas\"],[\"Crude Petroleum and Natural Gas\"],[\"Crude Petroleum and Natural Gas\"],[\"Crude Petroleum and Natural Gas\"],[\"Crude Petroleum and Natural Gas\"],[\"Crude Petroleum and Natural Gas\"],[\"Crude Petroleum and Natural Gas\"],[\"Crude Petroleum and Natural Gas\"],[\"Crude Petroleum and Natural Gas\"],[\"Crude Petroleum and Natural Gas\"],[\"Crude Petroleum and Natural Gas\"]],\"hovertemplate\":\"SIC=Crude Petroleum and Natural Gas<br>0=%{x}<br>1=%{y}<br>Name=%{customdata[0]}<extra></extra>\",\"legendgroup\":\"Crude Petroleum and Natural Gas\",\"marker\":{\"color\":\"#EF553B\",\"symbol\":\"circle\"},\"mode\":\"markers\",\"name\":\"Crude Petroleum and Natural Gas\",\"orientation\":\"v\",\"showlegend\":true,\"x\":[-0.011016359999416967,0.08155386206843893,2.462099851337894,-0.2869700487294932,-0.12271166860608135,-0.09151559034040137,-0.39587715008798324,-0.7110852888687128,-0.4287861299198289,0.09617126229125603,-0.18712579069684945,-0.06893906122791153,0.0055705729882574466,0.09464786606727216,0.035601845827749244,0.5109616399268474,0.0623380851414523,0.09054483600459028,0.031010922276034907,0.04953400784377222,-0.37438195034439686,-0.06708215011839107,0.2983247895641911,-0.12205889947896252,2.0458749271028607,-0.007289827711719037,0.00853808498611321,-0.16890359317694367,-0.4072840817573875,0.015602160189028382,0.04346074933256249,-0.6697155800154901,-0.12235821283873387,-0.008694633780534856,-0.2689273258048832,-0.8187277664172513,0.3763793265877963,-0.3787073577729853,-0.1945637119811069,-0.2421053774226648,-0.12575158790680332,-0.141607227204885,-0.3932492539840476,-0.3932492539840476,-0.11148811359179253,-0.10621646148439381,-0.23227827007747723,0.004080862008604532,0.07361253698856077,0.0031906416194938145,-0.012128982113756969,0.5824285596818094,-0.18027824948338037,-0.3517178723463208,0.4728563072340271,-0.25976861827540143,-0.3073786948301747,0.015290330080393858,-0.003990228024910569,-0.10951741038078801,-0.06755645741309757,-0.38046175990009284,-0.039652192307210406,-0.12133498686550648,-0.17736654694695764,0.7300781038836458,-0.21177117435553858,0.10366216005670072,-0.07735142540926214,-0.4297678465119225,-0.05545683157331409,-0.13273448093555068,-0.1742489424661251,-0.35689033641190704,0.19005831479159968,-0.3264930509825932,-0.15374297521622962,-0.4930387393656726,-0.22029189453503198,-0.2692615701297458],\"xaxis\":\"x\",\"y\":[-2.159120773497071,-1.7237457683298283,0.22049976134949947,0.44969182300698046,-1.9755533429980292,-0.8060442510236067,-0.6607071186145254,-1.2547921814557743,-1.302260335108059,-2.1054540846714382,-0.7757140214177956,-2.1488603057442197,-2.110554357354412,-2.1328116249588303,-1.4056534129841565,-0.9777923260433926,-1.9602969318956893,-2.0884417777715067,-1.9462526527739272,-2.128860574481517,-2.2571857899846552,-2.0037367454076214,-0.6071135414581919,-2.0533961714253715,-0.2466764899858321,-2.20744286759202,-2.2172476340236154,-2.2467439393861817,-2.414468116824447,-2.0887852200639436,-2.0585670984181603,-2.1479388654012825,-1.395073153083531,-2.1551103063560553,-1.3217588865357928,-2.0005406215692885,-1.8841731380089384,-2.014108667247413,-2.1515214574754356,-1.5677609992040167,-1.835587202625731,-2.2769041615473333,-1.9529168824700507,-1.9529168824700507,-2.178146121609078,-2.1514572500564353,-2.2548094023692045,-1.3838597962533612,-2.0954654619943134,-2.1619866837558757,-2.1285816952954417,-1.3498816223451253,-1.3058365881853584,-1.7879166308329324,-1.2780669237317892,-2.1986201117869757,-2.233787307584407,-2.0821756160994367,-2.0735639458158497,-2.081274430660057,-2.199450076430902,-2.0351573298705086,-1.2088592796701603,-1.0655042526750356,-2.1091201998726405,-0.8847276181989797,-1.2454952442954514,-2.165628962047599,-2.2338785495609934,-1.9174319652460177,-1.9351396482537635,-2.078389081408197,-2.01506311818582,-2.152616258712187,-1.4970149757729758,-2.309795296597899,-2.1644002483211433,-1.5349431506220166,-2.304473820164861,-2.251545039231],\"yaxis\":\"y\",\"type\":\"scatter\"},{\"customdata\":[[\"Pharmaceutical Preparations\"],[\"Pharmaceutical Preparations\"],[\"Pharmaceutical Preparations\"],[\"Pharmaceutical Preparations\"],[\"Pharmaceutical Preparations\"],[\"Pharmaceutical Preparations\"],[\"Pharmaceutical Preparations\"],[\"Pharmaceutical Preparations\"],[\"Pharmaceutical Preparations\"],[\"Pharmaceutical Preparations\"],[\"Pharmaceutical Preparations\"],[\"Pharmaceutical Preparations\"],[\"Pharmaceutical Preparations\"],[\"Pharmaceutical Preparations\"],[\"Pharmaceutical Preparations\"],[\"Pharmaceutical Preparations\"],[\"Pharmaceutical Preparations\"],[\"Pharmaceutical Preparations\"],[\"Pharmaceutical Preparations\"],[\"Pharmaceutical Preparations\"],[\"Pharmaceutical Preparations\"],[\"Pharmaceutical Preparations\"],[\"Pharmaceutical Preparations\"],[\"Pharmaceutical Preparations\"],[\"Pharmaceutical Preparations\"],[\"Pharmaceutical Preparations\"],[\"Pharmaceutical Preparations\"],[\"Pharmaceutical Preparations\"],[\"Pharmaceutical Preparations\"],[\"Pharmaceutical Preparations\"],[\"Pharmaceutical Preparations\"],[\"Pharmaceutical Preparations\"],[\"Pharmaceutical Preparations\"],[\"Pharmaceutical Preparations\"],[\"Pharmaceutical Preparations\"],[\"Pharmaceutical Preparations\"],[\"Pharmaceutical Preparations\"],[\"Pharmaceutical Preparations\"],[\"Pharmaceutical Preparations\"],[\"Pharmaceutical Preparations\"],[\"Pharmaceutical Preparations\"],[\"Pharmaceutical Preparations\"],[\"Pharmaceutical Preparations\"],[\"Pharmaceutical Preparations\"],[\"Pharmaceutical Preparations\"],[\"Pharmaceutical Preparations\"],[\"Pharmaceutical Preparations\"],[\"Pharmaceutical Preparations\"],[\"Pharmaceutical Preparations\"],[\"Pharmaceutical Preparations\"],[\"Pharmaceutical Preparations\"],[\"Pharmaceutical Preparations\"],[\"Pharmaceutical Preparations\"],[\"Pharmaceutical Preparations\"],[\"Pharmaceutical Preparations\"],[\"Pharmaceutical Preparations\"],[\"Pharmaceutical Preparations\"],[\"Pharmaceutical Preparations\"],[\"Pharmaceutical Preparations\"],[\"Pharmaceutical Preparations\"],[\"Pharmaceutical Preparations\"],[\"Pharmaceutical Preparations\"],[\"Pharmaceutical Preparations\"],[\"Pharmaceutical Preparations\"],[\"Pharmaceutical Preparations\"],[\"Pharmaceutical Preparations\"],[\"Pharmaceutical Preparations\"],[\"Pharmaceutical Preparations\"],[\"Pharmaceutical Preparations\"],[\"Pharmaceutical Preparations\"],[\"Pharmaceutical Preparations\"],[\"Pharmaceutical Preparations\"],[\"Pharmaceutical Preparations\"],[\"Pharmaceutical Preparations\"],[\"Pharmaceutical Preparations\"],[\"Pharmaceutical Preparations\"],[\"Pharmaceutical Preparations\"],[\"Pharmaceutical Preparations\"],[\"Pharmaceutical Preparations\"],[\"Pharmaceutical Preparations\"],[\"Pharmaceutical Preparations\"],[\"Pharmaceutical Preparations\"],[\"Pharmaceutical Preparations\"],[\"Pharmaceutical Preparations\"],[\"Pharmaceutical Preparations\"],[\"Pharmaceutical Preparations\"],[\"Pharmaceutical Preparations\"],[\"Pharmaceutical Preparations\"],[\"Pharmaceutical Preparations\"],[\"Pharmaceutical Preparations\"],[\"Pharmaceutical Preparations\"],[\"Pharmaceutical Preparations\"],[\"Pharmaceutical Preparations\"],[\"Pharmaceutical Preparations\"],[\"Pharmaceutical Preparations\"],[\"Pharmaceutical Preparations\"],[\"Pharmaceutical Preparations\"],[\"Pharmaceutical Preparations\"],[\"Pharmaceutical Preparations\"],[\"Pharmaceutical Preparations\"],[\"Pharmaceutical Preparations\"],[\"Pharmaceutical Preparations\"],[\"Pharmaceutical Preparations\"],[\"Pharmaceutical Preparations\"],[\"Pharmaceutical Preparations\"],[\"Pharmaceutical Preparations\"],[\"Pharmaceutical Preparations\"],[\"Pharmaceutical Preparations\"],[\"Pharmaceutical Preparations\"],[\"Pharmaceutical Preparations\"],[\"Pharmaceutical Preparations\"],[\"Pharmaceutical Preparations\"],[\"Pharmaceutical Preparations\"],[\"Pharmaceutical Preparations\"],[\"Pharmaceutical Preparations\"],[\"Pharmaceutical Preparations\"],[\"Pharmaceutical Preparations\"],[\"Pharmaceutical Preparations\"],[\"Pharmaceutical Preparations\"],[\"Pharmaceutical Preparations\"],[\"Pharmaceutical Preparations\"],[\"Pharmaceutical Preparations\"],[\"Pharmaceutical Preparations\"],[\"Pharmaceutical Preparations\"],[\"Pharmaceutical Preparations\"],[\"Pharmaceutical Preparations\"],[\"Pharmaceutical Preparations\"],[\"Pharmaceutical Preparations\"],[\"Pharmaceutical Preparations\"],[\"Pharmaceutical Preparations\"],[\"Pharmaceutical Preparations\"],[\"Pharmaceutical Preparations\"],[\"Pharmaceutical Preparations\"],[\"Pharmaceutical Preparations\"],[\"Pharmaceutical Preparations\"],[\"Pharmaceutical Preparations\"],[\"Pharmaceutical Preparations\"],[\"Pharmaceutical Preparations\"],[\"Pharmaceutical Preparations\"],[\"Pharmaceutical Preparations\"],[\"Pharmaceutical Preparations\"],[\"Pharmaceutical Preparations\"],[\"Pharmaceutical Preparations\"],[\"Pharmaceutical Preparations\"],[\"Pharmaceutical Preparations\"],[\"Pharmaceutical Preparations\"],[\"Pharmaceutical Preparations\"],[\"Pharmaceutical Preparations\"],[\"Pharmaceutical Preparations\"],[\"Pharmaceutical Preparations\"],[\"Pharmaceutical Preparations\"],[\"Pharmaceutical Preparations\"],[\"Pharmaceutical Preparations\"],[\"Pharmaceutical Preparations\"],[\"Pharmaceutical Preparations\"],[\"Pharmaceutical Preparations\"],[\"Pharmaceutical Preparations\"],[\"Pharmaceutical Preparations\"],[\"Pharmaceutical Preparations\"],[\"Pharmaceutical Preparations\"],[\"Pharmaceutical Preparations\"],[\"Pharmaceutical Preparations\"],[\"Pharmaceutical Preparations\"],[\"Pharmaceutical Preparations\"],[\"Pharmaceutical Preparations\"],[\"Pharmaceutical Preparations\"],[\"Pharmaceutical Preparations\"],[\"Pharmaceutical Preparations\"],[\"Pharmaceutical Preparations\"],[\"Pharmaceutical Preparations\"],[\"Pharmaceutical Preparations\"],[\"Pharmaceutical Preparations\"],[\"Pharmaceutical Preparations\"],[\"Pharmaceutical Preparations\"],[\"Pharmaceutical Preparations\"],[\"Pharmaceutical Preparations\"],[\"Pharmaceutical Preparations\"],[\"Pharmaceutical Preparations\"],[\"Pharmaceutical Preparations\"],[\"Pharmaceutical Preparations\"],[\"Pharmaceutical Preparations\"],[\"Pharmaceutical Preparations\"],[\"Pharmaceutical Preparations\"],[\"Pharmaceutical Preparations\"],[\"Pharmaceutical Preparations\"],[\"Pharmaceutical Preparations\"],[\"Pharmaceutical Preparations\"],[\"Pharmaceutical Preparations\"],[\"Pharmaceutical Preparations\"],[\"Pharmaceutical Preparations\"],[\"Pharmaceutical Preparations\"],[\"Pharmaceutical Preparations\"],[\"Pharmaceutical Preparations\"],[\"Pharmaceutical Preparations\"],[\"Pharmaceutical Preparations\"],[\"Pharmaceutical Preparations\"],[\"Pharmaceutical Preparations\"],[\"Pharmaceutical Preparations\"],[\"Pharmaceutical Preparations\"],[\"Pharmaceutical Preparations\"],[\"Pharmaceutical Preparations\"],[\"Pharmaceutical Preparations\"],[\"Pharmaceutical Preparations\"],[\"Pharmaceutical Preparations\"],[\"Pharmaceutical Preparations\"],[\"Pharmaceutical Preparations\"],[\"Pharmaceutical Preparations\"],[\"Pharmaceutical Preparations\"]],\"hovertemplate\":\"SIC=Pharmaceutical Preparations<br>0=%{x}<br>1=%{y}<br>Name=%{customdata[0]}<extra></extra>\",\"legendgroup\":\"Pharmaceutical Preparations\",\"marker\":{\"color\":\"#00cc96\",\"symbol\":\"circle\"},\"mode\":\"markers\",\"name\":\"Pharmaceutical Preparations\",\"orientation\":\"v\",\"showlegend\":true,\"x\":[1.7908186901404914,1.0484285607775217,5.244782795286609,4.093085366795752,0.6159656824688959,1.2751516347823209,1.2751516347823209,4.891433821577185,3.205526396547889,0.40851714222209057,0.40851714222209057,4.323478747304625,5.043622732762974,1.755532140469376,4.760336823727886,-0.563782066404927,-0.323568650859879,-0.323568650859879,5.836282667357343,1.4157949715407074,2.770902875681686,0.04519229116169646,0.04519229116169646,4.3487114533434355,3.8315916579780303,4.5019995022729775,0.43354755060984984,1.28211345738902,4.033518371485877,4.869688504858677,1.0485964070163714,1.5736980554049822,4.937634862090019,4.937634862090019,5.357694893113876,3.876074805491831,2.0225308621673044,2.5218752185612745,3.1517580456730236,0.08731936352727956,5.196216047416219,5.6845042890999915,4.327543315607518,2.6958796623551184,0.571477580633364,4.380801192255789,4.432520250630039,3.2808017718340436,3.384269895478231,3.384269895478231,5.23583319245596,5.484822122184722,2.2499561516758106,3.4017659856499467,4.659195092941714,3.295789011590088,2.7301532164097777,5.146815552252817,0.23377933599230835,2.03037312394584,4.0036962636831985,4.466554694126057,4.070954244278153,3.084125542173879,3.5158295529856214,-0.45028080289901057,4.92330294147822,2.0537822460943356,5.118284222376242,4.433588069676685,5.152755600465696,4.603511354649557,4.760978496047274,5.232347388904843,4.499525675932837,5.536660389707824,4.43187808145654,3.691168808287401,0.8048082439409735,4.421125354161756,4.977357982620855,4.961728821603581,4.124819692638047,4.369129188020195,3.988699085185556,3.1013137562587354,2.8165696557526227,2.468852717217854,2.1030629087281505,5.270155101643845,4.241110714714472,3.08299223216296,1.4961862122283245,2.136255727314266,5.192797418870214,3.0467719740284833,3.037221557221368,5.043130921263239,2.596808340313993,4.133410291969365,1.2874258341023612,5.369870107720952,3.6123492126496446,4.507412481121622,5.114429848731505,3.4836761726253216,3.0446597814777134,0.5934241994420296,1.5123798576216831,3.710628261561916,0.6685286397998169,1.1766041340505606,5.364905067978208,3.9438097867324275,5.230664494938542,4.02273537050879,5.006201341102266,2.884340098889671,0.501682728571793,-0.29211930518515117,5.432531185745807,5.066242525215664,5.519676611570667,3.731616881801761,2.8307123200466062,4.3742132017238,4.185797153725112,2.384661246949927,4.698829961724799,3.929995446182427,3.929995446182427,3.929995446182427,3.929995446182427,3.929995446182427,3.929995446182427,5.220508495395297,3.5329920089228852,4.804777031654606,3.829042687213144,5.718111059841505,5.484576215117563,5.2879218649501905,5.017614406383119,1.342266802906622,1.342266802906622,4.328491839465725,4.328491839465725,4.328491839465725,4.328491839465725,3.9356591462499946,1.778969920563177,4.477990138512587,5.6750759569994935,5.526225341284728,5.265173055881339,5.099805256950033,4.3801955129812455,3.1071649850731013,0.6321043381349842,4.129435723477058,3.96857563481067,4.598673368404444,5.39853448719333,5.210490051691673,3.11783354669051,5.731312151851518,5.3331788454198135,2.5435369207154537,5.2926404113280405,5.49333756109204,5.565435137692021,5.12546439911996,1.950531469374892,4.6406736415438345,5.003695534788378,5.003695534788378,5.078807717869153,5.0889962564355615,3.303594132389555,5.402561758379413,3.8428316480820994,4.779693900814412,2.7811701434020546,4.4997960064100555,3.956873894144973,2.612944914737129,1.6401823901770827,2.888090050316758,5.415653055360651,2.0434014211687828,4.45080860830071,4.849367575728937,4.76059445432188,1.4868810793901912,1.4868810793901912,3.2367838472727444,4.262078829446076,4.54848769539544,4.2764868193365375,0.0015653756258793895,5.8657828763740945,5.471118305551617,3.7400885311572725,4.759239256014758,3.427157089838645,5.443639880105011,5.004415982142547,-0.4591340482920444],\"xaxis\":\"x\",\"y\":[-0.16877905704419705,-0.4941908293043193,1.892773930677559,1.2418693972523607,-0.9170205402466695,-0.4487021003576981,-0.4487021003576981,1.6183128369338318,0.8129055809446604,-0.7216136143327788,-0.7216136143327788,1.4229301204759401,1.792287713789112,-0.3187863635094991,1.3997773997472496,-1.2616287301342197,-1.131147511756538,-1.131147511756538,1.9811150720158963,-0.10602138964078793,0.30715371513250406,-1.1544379988595717,-1.1544379988595717,1.3986763940140148,0.8482685543823265,1.2731686644943814,-0.2741432646298538,-0.3957522988255501,1.0265386570254749,1.6177298210547362,-0.28408777387269357,-0.22554020150285023,1.6092604381054167,1.6092604381054167,1.885959913727498,1.151845611583541,0.1868574452764292,0.5300149770425603,0.5500986595853263,-0.9329833462060989,1.6996996704670515,2.0505356180448713,1.4555991160580826,0.20506462004852546,-0.7335177987841611,1.1983708410610117,1.3703683691293582,0.8696341259230435,0.789484214385753,0.789484214385753,1.7202548083466735,1.8711761961834519,0.260356364045915,0.8213878048558138,1.315013412491369,0.5992340188990076,0.08182527084984328,1.775222688997639,-0.716064656679107,0.1742228060592903,1.1616841652565613,1.4603862892926918,1.0698879840091653,0.7807676382520428,0.6841265723027107,-0.7399911986714616,1.6718872081057634,-0.016987062509871913,1.7440031921255703,1.3592475885762068,1.6672585455006967,1.5489292637982026,1.4083924503347705,1.8687586025927283,1.4381505020187662,1.9731162973195728,1.2155127817415368,0.923994610022123,-1.0175369571972668,1.5090689242275233,1.7569512723074776,1.5783702516133225,1.327198712834133,1.1498727026107658,1.3077549830574737,0.7305360891826957,0.4679338016548881,0.1509771333373057,0.153627138522864,1.8821079891272257,1.389970143161689,0.7971487866558775,-0.2564116286663222,0.2887787271284218,1.694507115311845,0.6485397603862759,0.5085811276043264,1.744887173987127,0.22502439358601947,1.0980675760839658,-0.5069533070988024,1.8850360733256972,0.8811992575724104,1.501581477521073,1.7152557274306202,0.6804214019860272,0.45164717524964093,-1.017393922437947,-0.057173010095485366,0.8434281009418894,-0.684038344331945,-0.3530610233452935,1.7805930955835294,0.9800424594335645,1.8216579864459417,1.2721170456762039,1.5789379896060858,0.5092856405909878,-0.9078972726807202,-1.510105773205241,1.9062812273974965,1.8150304589456225,1.8937656677116361,0.7627785499238009,0.6651322315468519,1.2522482704355014,0.9428767053418388,0.42394432733813414,1.6077752531049088,1.191031062531925,1.191031062531925,1.191031062531925,1.191031062531925,1.191031062531925,1.191031062531925,1.851266612575681,0.9479794049455569,1.5432254401419334,0.9539228608019167,2.0868738783859793,1.9254315482362736,1.9296528210006367,1.5840080237962826,-0.5050998590680609,-0.5050998590680609,1.0074185300671572,1.0074185300671572,1.0074185300671572,1.0074185300671572,1.2029856282706644,-0.39725767965996406,1.4881869164223485,1.9143268138310874,1.898224783191009,1.6229918900325082,1.6354812274179507,1.313828455094768,0.6962445037714339,-0.8634465205339809,1.1920749422606878,1.035805251952468,1.610380946710097,1.9212916886096296,1.8727354027537515,0.5839687784567399,2.0137449513319905,1.7823866027006816,0.3989831949429801,1.8176987500030006,1.921252326121256,2.023731952955005,1.6389213602187813,-0.0032556644278478055,1.5668940322023417,1.7595444102620263,1.7595444102620263,1.6886581725370295,1.791019246642402,0.8438533249679162,1.8110580696258016,1.2032410895325227,1.6488346724825012,0.5634027737354143,1.3971632371545697,1.0068980537153025,0.2077297577261043,-0.4082924425094373,0.6338313457646458,1.7638449751301002,0.2706185553200755,1.3043057652453085,1.6151509191979607,1.5602077812161192,-0.34442976207575654,-0.34442976207575654,0.5544177826318721,1.2250068418113234,1.4599388805571194,1.218692984678819,-0.6791668646431223,2.149232236565569,2.024299258563989,0.8711906860724414,1.306403923339775,0.5306494358133764,1.9921710151410748,1.6372117977657483,-1.4320473259074549],\"yaxis\":\"y\",\"type\":\"scatter\"},{\"customdata\":[[\"Real Estate Investment Trusts\"],[\"Real Estate Investment Trusts\"],[\"Real Estate Investment Trusts\"],[\"Real Estate Investment Trusts\"],[\"Real Estate Investment Trusts\"],[\"Real Estate Investment Trusts\"],[\"Real Estate Investment Trusts\"],[\"Real Estate Investment Trusts\"],[\"Real Estate Investment Trusts\"],[\"Real Estate Investment Trusts\"],[\"Real Estate Investment Trusts\"],[\"Real Estate Investment Trusts\"],[\"Real Estate Investment Trusts\"],[\"Real Estate Investment Trusts\"],[\"Real Estate Investment Trusts\"],[\"Real Estate Investment Trusts\"],[\"Real Estate Investment Trusts\"],[\"Real Estate Investment Trusts\"],[\"Real Estate Investment Trusts\"],[\"Real Estate Investment Trusts\"],[\"Real Estate Investment Trusts\"],[\"Real Estate Investment Trusts\"],[\"Real Estate Investment Trusts\"],[\"Real Estate Investment Trusts\"],[\"Real Estate Investment Trusts\"],[\"Real Estate Investment Trusts\"],[\"Real Estate Investment Trusts\"],[\"Real Estate Investment Trusts\"],[\"Real Estate Investment Trusts\"],[\"Real Estate Investment Trusts\"],[\"Real Estate Investment Trusts\"],[\"Real Estate Investment Trusts\"],[\"Real Estate Investment Trusts\"],[\"Real Estate Investment Trusts\"],[\"Real Estate Investment Trusts\"],[\"Real Estate Investment Trusts\"],[\"Real Estate Investment Trusts\"],[\"Real Estate Investment Trusts\"],[\"Real Estate Investment Trusts\"],[\"Real Estate Investment Trusts\"],[\"Real Estate Investment Trusts\"],[\"Real Estate Investment Trusts\"],[\"Real Estate Investment Trusts\"],[\"Real Estate Investment Trusts\"],[\"Real Estate Investment Trusts\"],[\"Real Estate Investment Trusts\"],[\"Real Estate Investment Trusts\"],[\"Real Estate Investment Trusts\"],[\"Real Estate Investment Trusts\"],[\"Real Estate Investment Trusts\"],[\"Real Estate Investment Trusts\"],[\"Real Estate Investment Trusts\"],[\"Real Estate Investment Trusts\"],[\"Real Estate Investment Trusts\"],[\"Real Estate Investment Trusts\"],[\"Real Estate Investment Trusts\"],[\"Real Estate Investment Trusts\"],[\"Real Estate Investment Trusts\"],[\"Real Estate Investment Trusts\"],[\"Real Estate Investment Trusts\"],[\"Real Estate Investment Trusts\"],[\"Real Estate Investment Trusts\"],[\"Real Estate Investment Trusts\"],[\"Real Estate Investment Trusts\"],[\"Real Estate Investment Trusts\"],[\"Real Estate Investment Trusts\"],[\"Real Estate Investment Trusts\"],[\"Real Estate Investment Trusts\"],[\"Real Estate Investment Trusts\"],[\"Real Estate Investment Trusts\"],[\"Real Estate Investment Trusts\"],[\"Real Estate Investment Trusts\"],[\"Real Estate Investment Trusts\"],[\"Real Estate Investment Trusts\"],[\"Real Estate Investment Trusts\"],[\"Real Estate Investment Trusts\"],[\"Real Estate Investment Trusts\"],[\"Real Estate Investment Trusts\"],[\"Real Estate Investment Trusts\"],[\"Real Estate Investment Trusts\"],[\"Real Estate Investment Trusts\"],[\"Real Estate Investment Trusts\"],[\"Real Estate Investment Trusts\"],[\"Real Estate Investment Trusts\"],[\"Real Estate Investment Trusts\"],[\"Real Estate Investment Trusts\"],[\"Real Estate Investment Trusts\"],[\"Real Estate Investment Trusts\"],[\"Real Estate Investment Trusts\"],[\"Real Estate Investment Trusts\"],[\"Real Estate Investment Trusts\"],[\"Real Estate Investment Trusts\"],[\"Real Estate Investment Trusts\"],[\"Real Estate Investment Trusts\"],[\"Real Estate Investment Trusts\"],[\"Real Estate Investment Trusts\"],[\"Real Estate Investment Trusts\"],[\"Real Estate Investment Trusts\"],[\"Real Estate Investment Trusts\"],[\"Real Estate Investment Trusts\"],[\"Real Estate Investment Trusts\"],[\"Real Estate Investment Trusts\"],[\"Real Estate Investment Trusts\"],[\"Real Estate Investment Trusts\"],[\"Real Estate Investment Trusts\"],[\"Real Estate Investment Trusts\"],[\"Real Estate Investment Trusts\"],[\"Real Estate Investment Trusts\"],[\"Real Estate Investment Trusts\"],[\"Real Estate Investment Trusts\"],[\"Real Estate Investment Trusts\"],[\"Real Estate Investment Trusts\"],[\"Real Estate Investment Trusts\"],[\"Real Estate Investment Trusts\"],[\"Real Estate Investment Trusts\"],[\"Real Estate Investment Trusts\"],[\"Real Estate Investment Trusts\"],[\"Real Estate Investment Trusts\"],[\"Real Estate Investment Trusts\"],[\"Real Estate Investment Trusts\"],[\"Real Estate Investment Trusts\"],[\"Real Estate Investment Trusts\"],[\"Real Estate Investment Trusts\"],[\"Real Estate Investment Trusts\"],[\"Real Estate Investment Trusts\"],[\"Real Estate Investment Trusts\"],[\"Real Estate Investment Trusts\"],[\"Real Estate Investment Trusts\"],[\"Real Estate Investment Trusts\"],[\"Real Estate Investment Trusts\"],[\"Real Estate Investment Trusts\"],[\"Real Estate Investment Trusts\"],[\"Real Estate Investment Trusts\"],[\"Real Estate Investment Trusts\"],[\"Real Estate Investment Trusts\"],[\"Real Estate Investment Trusts\"],[\"Real Estate Investment Trusts\"],[\"Real Estate Investment Trusts\"],[\"Real Estate Investment Trusts\"],[\"Real Estate Investment Trusts\"],[\"Real Estate Investment Trusts\"],[\"Real Estate Investment Trusts\"],[\"Real Estate Investment Trusts\"],[\"Real Estate Investment Trusts\"],[\"Real Estate Investment Trusts\"],[\"Real Estate Investment Trusts\"],[\"Real Estate Investment Trusts\"],[\"Real Estate Investment Trusts\"],[\"Real Estate Investment Trusts\"],[\"Real Estate Investment Trusts\"],[\"Real Estate Investment Trusts\"],[\"Real Estate Investment Trusts\"],[\"Real Estate Investment Trusts\"],[\"Real Estate Investment Trusts\"],[\"Real Estate Investment Trusts\"],[\"Real Estate Investment Trusts\"],[\"Real Estate Investment Trusts\"],[\"Real Estate Investment Trusts\"],[\"Real Estate Investment Trusts\"],[\"Real Estate Investment Trusts\"],[\"Real Estate Investment Trusts\"],[\"Real Estate Investment Trusts\"],[\"Real Estate Investment Trusts\"],[\"Real Estate Investment Trusts\"],[\"Real Estate Investment Trusts\"],[\"Real Estate Investment Trusts\"],[\"Real Estate Investment Trusts\"],[\"Real Estate Investment Trusts\"],[\"Real Estate Investment Trusts\"],[\"Real Estate Investment Trusts\"],[\"Real Estate Investment Trusts\"],[\"Real Estate Investment Trusts\"],[\"Real Estate Investment Trusts\"],[\"Real Estate Investment Trusts\"],[\"Real Estate Investment Trusts\"],[\"Real Estate Investment Trusts\"],[\"Real Estate Investment Trusts\"],[\"Real Estate Investment Trusts\"],[\"Real Estate Investment Trusts\"],[\"Real Estate Investment Trusts\"],[\"Real Estate Investment Trusts\"],[\"Real Estate Investment Trusts\"],[\"Real Estate Investment Trusts\"],[\"Real Estate Investment Trusts\"],[\"Real Estate Investment Trusts\"],[\"Real Estate Investment Trusts\"],[\"Real Estate Investment Trusts\"],[\"Real Estate Investment Trusts\"],[\"Real Estate Investment Trusts\"],[\"Real Estate Investment Trusts\"],[\"Real Estate Investment Trusts\"]],\"hovertemplate\":\"SIC=Real Estate Investment Trusts<br>0=%{x}<br>1=%{y}<br>Name=%{customdata[0]}<extra></extra>\",\"legendgroup\":\"Real Estate Investment Trusts\",\"marker\":{\"color\":\"#ab63fa\",\"symbol\":\"circle\"},\"mode\":\"markers\",\"name\":\"Real Estate Investment Trusts\",\"orientation\":\"v\",\"showlegend\":true,\"x\":[-1.9422746133043793,-1.5528748687666687,-1.6701301272280042,-1.5521577710041787,-1.5521577710041787,-2.304062101894386,-2.304062101894386,-1.772006521337941,-1.8396780241278934,-1.1684284079654639,-2.323978747436551,-0.12886668328603393,-1.748248133963038,-1.726264787564089,-1.337494744483605,-0.07766674207577874,-1.5549390872976911,-1.4045462908136679,-1.9855835427176178,-2.781668681083865,-0.7182570482601416,-2.1040976531916837,-2.7993718937731282,-1.692434970058155,-1.6549824071176842,-0.21590618479935084,-2.8324219687760874,-2.3154851890760306,-1.9500663279389514,-1.2657694863033586,-0.9171584520856154,-0.6028196970002656,-1.3845962634899813,-2.065628958284691,-0.8890035786309421,-2.4978434271699337,-1.4145449305606013,-1.3449839047710386,-0.488516936176841,-2.14564638883138,-2.6052598175664334,-1.997122259451111,-0.8776339802829,-2.058250564940226,-1.9326064790749593,-2.507770322359345,-0.31547236610649315,-3.073168525631264,-0.3342436376140775,-2.482141574031453,-2.265291544977026,-1.684830520233409,-1.483340350510655,-0.31547236610649315,-1.9934325526589982,-1.6574768197675094,-2.022815667869913,-1.5781427592804507,-1.3902459747414808,-1.4332913646152887,-2.469019082322508,-0.9740004601246406,-2.433691240927694,-1.0563086399372688,-2.6850169913667097,-1.3063072960089939,-1.7955952633938133,-2.1067822799896727,-0.9960158052104786,-0.3154723661064932,-2.219334461418313,-2.3670782413145712,-2.278487894943387,-2.1340266565192803,-1.1483304168986534,-2.239155099625544,-1.8387101729691244,-1.5646979865689323,-1.755589501775618,-0.17423475660105006,-1.3521529087454405,-1.790667824042406,-2.0315909088277535,0.07877619952686118,-0.8424253573024373,-1.7315632688479092,-1.8399326003014158,-1.9625616449639967,-1.1650655396882406,-1.7136943131316273,-2.4872281559364686,-0.31547236610649315,-1.4434866451209158,-2.9094545050598923,-0.23884176699288232,-2.091447819308088,-1.0931178943118465,-0.6035298352281249,-1.434384702211297,-1.5036319454860796,-1.3899522793638248,-1.2232640029046005,-2.722248475937275,-2.088577010679124,-1.6113143722583685,-1.2210942668476066,-2.5306573165210127,-1.359073786979557,-0.9592746393009481,-0.5794542378182809,-0.8399238796111952,-1.6921723112402651,-2.3343224978609607,-0.8370529260138077,-0.6028650938884595,-2.477122113771869,-0.2001227655068818,-1.8451010213316779,-2.0550406774090115,-1.110071803346205,-0.4286014950476482,-1.6466319107640166,-2.220042949341092,-0.5721722346055405,-1.8883292254444881,-1.857703607693063,-2.552878533632181,-1.5528325830507184,-1.4501540964014115,-0.6631894908755847,-1.6347168366419003,-0.9706625191515992,-1.3331722608392071,-1.5623327794525361,-2.294581997544781,-0.6221622836983567,-2.3356215278343777,-1.76780697718598,-1.7069041856253557,-0.40401309559774123,-2.1468024337863483,-2.4695264936528574,-0.8324071167746513,-2.5535359213880433,-0.9020117762271364,-2.5931875295910585,-0.7249444941420066,-2.6707477289918917,-2.508001643895564,-2.2972571998014817,-2.2972571998014817,-2.6554229346066727,-2.754317805457098,-0.8190191306218191,-1.9392053299592356,-0.3145520060254937,-2.586651946659614,-2.812388631365952,-2.3778210647278315,-2.3427489860947013,-1.7503281808321605,-0.33287191553217116,-2.4668281176516653,-2.16499794560943,-0.7967544897335814,-0.6390980555843849,-1.9662650110668314,-1.3124357401998403,-2.164866550724044,-2.678187978198264,-2.411965885785799,-1.8776891791224066,-2.214915524917549,-2.023784668253832,-1.8201585080166338,-2.2692691285989715,-1.8360998549848933,-0.9644339806143017,-1.2926483685767254,-0.37911486374711634,-2.5684905698897036,-2.0543938411449956,-1.3021480563862493,-0.5924972160559084,-1.1639176839662089,-2.5450232612435877,-0.612776762570669,-2.237127657772859,-2.6656301678596686,-1.10166116192255,0.060492076295895314],\"xaxis\":\"x\",\"y\":[-2.1174304895647404,-1.8713219802036114,-1.9877765924580018,-1.2298713037315008,-1.2298713037315008,-2.1725392234242884,-2.1725392234242884,-2.2919621672175707,-2.12536779122547,-2.1456808779869645,-2.4343551903315794,-1.1495601944760199,-2.1776717308632776,-2.4180598929781136,-1.994712106454227,-1.0423589929908699,-0.951410106347715,-2.0707027087174152,-2.1443168634984637,-2.23971728425036,-1.497045885242628,-2.1181118220349986,-2.337554045970564,-1.2966395767481838,-2.050534576293007,-1.157418251790713,-1.017586614746603,-2.493398160327004,-2.364776670166183,-2.1484759537169658,-1.979335033808977,-1.3839415702765394,-1.7692868329475084,-1.7387531857533092,-1.708070762261027,-2.408915686505884,-1.8832507114819446,-1.9355128277548486,-1.7282658674193099,-1.9938235651805674,-2.337966193012762,-1.9867881549107422,-1.7928414855109318,-2.0787180155566487,-2.515018830704512,-2.6591858973465077,-0.5914040973371353,-1.9317567321809255,-1.4431206992705543,-2.334701616346205,-1.2496102568290834,-2.3326668258005623,-1.320910349571577,-0.5914040973371353,-2.390379471884166,-1.9336980759660858,-2.339368361607603,-1.7063049324385924,-2.0209367846155812,-1.6844870017060043,-2.115142955996077,-1.6638530481909053,-1.2471627972773123,-1.7863360295553852,-2.366542808020539,-1.6489035911405203,-0.594701044181359,-1.4143211975667234,-1.7488115568149498,-0.5914040973371353,-2.0648404731002037,-2.3640480577646903,-1.7638068833937037,-2.322853193544355,-1.4515483086113048,-1.902374831606701,-2.1572978127398823,-1.3665667260041392,-2.306288767898911,-1.2110551754098224,-2.0992366106142,-2.2323268291899954,-2.257032291389081,-1.1366130795952156,-1.8740392324197614,-2.2230199535624156,-2.210426587988966,-2.0579540983805553,-2.1563993269342516,-1.879687775143382,-1.3186039963389513,-0.5914040973371353,-1.9622819700903584,-1.683783149197993,-1.161052902168597,-1.7937852043721638,-1.739892928489708,-1.7570190625398563,-2.3039380545232424,-2.2894900898024297,-1.7920760561060172,-2.0009926737953285,-1.7379575604307984,-1.92327885671456,-2.206949172133774,-1.7823420952078437,-2.288783583007229,-2.2731903608478166,-1.7333805074714586,-1.0870872063906816,-2.0298688683682924,-2.199343219930845,-1.8733793540742056,-1.7252309799525611,-1.4184196172061199,-2.4702243869950085,-1.174440193134105,-1.8846716337952085,-2.4634230678347713,-1.8739761576906726,-1.2551765054057198,-2.097805467678647,-2.1680516539535306,-0.9024098515612451,-1.7319811775218537,-2.3022298240795545,-2.3710450628480286,-1.1647087250423438,-1.889868770212492,-1.6443736547833874,-2.1538265257495643,-1.4757326346212407,-1.8150860028299833,-1.949657995558825,-2.473540781962603,-1.9275856244974097,-1.9563444814921573,-1.7358215040094163,-0.9167534483970871,-1.2154644648100605,-2.549746440066059,-2.4810498972816957,-1.4608069465473899,-1.2203402402528643,-1.7834663220051663,-2.1867982311214282,-1.6210743693160723,-1.72698055747379,-2.4384535786413593,-2.414924118590305,-2.414924118590305,-2.426323107922496,-2.2937794553579094,-1.7604736608972646,-1.6656136861594355,-0.8365241804787278,-2.463066054928145,-1.629888379869895,-2.400071472419552,-1.2177523735780784,-1.8791686501840328,-1.4693998087898317,-1.4937916378505156,-1.7110233272115174,-1.3190792805867328,-1.5938355855190123,-2.403045548110458,-2.2769089050108384,-2.411866700356036,-2.330526619658264,-2.191963901863839,-2.3919958663985863,-2.646210238561045,-2.0573771842990043,-1.9594918856705588,-1.7692802567183272,-1.8275464155547658,-2.0271725036858554,-1.9323195376604718,-1.210316720076166,-1.6959349540309565,-2.27920183404755,-1.6706973430473153,-1.746978591277423,-2.2147181038870927,-2.4438557296444796,-1.716165515755942,-2.0976315416530915,-2.328698418308598,-2.2483714323895,-0.8988746105567803],\"yaxis\":\"y\",\"type\":\"scatter\"},{\"customdata\":[[\"State Commercial Banks (commercial banking)\"],[\"State Commercial Banks (commercial banking)\"],[\"State Commercial Banks (commercial banking)\"],[\"State Commercial Banks (commercial banking)\"],[\"State Commercial Banks (commercial banking)\"],[\"State Commercial Banks (commercial banking)\"],[\"State Commercial Banks (commercial banking)\"],[\"State Commercial Banks (commercial banking)\"],[\"State Commercial Banks (commercial banking)\"],[\"State Commercial Banks (commercial banking)\"],[\"State Commercial Banks (commercial banking)\"],[\"State Commercial Banks (commercial banking)\"],[\"State Commercial Banks (commercial banking)\"],[\"State Commercial Banks (commercial banking)\"],[\"State Commercial Banks (commercial banking)\"],[\"State Commercial Banks (commercial banking)\"],[\"State Commercial Banks (commercial banking)\"],[\"State Commercial Banks (commercial banking)\"],[\"State Commercial Banks (commercial banking)\"],[\"State Commercial Banks (commercial banking)\"],[\"State Commercial Banks (commercial banking)\"],[\"State Commercial Banks (commercial banking)\"],[\"State Commercial Banks (commercial banking)\"],[\"State Commercial Banks (commercial banking)\"],[\"State Commercial Banks (commercial banking)\"],[\"State Commercial Banks (commercial banking)\"],[\"State Commercial Banks (commercial banking)\"],[\"State Commercial Banks (commercial banking)\"],[\"State Commercial Banks (commercial banking)\"],[\"State Commercial Banks (commercial banking)\"],[\"State Commercial Banks (commercial banking)\"],[\"State Commercial Banks (commercial banking)\"],[\"State Commercial Banks (commercial banking)\"],[\"State Commercial Banks (commercial banking)\"],[\"State Commercial Banks (commercial banking)\"],[\"State Commercial Banks (commercial banking)\"],[\"State Commercial Banks (commercial banking)\"],[\"State Commercial Banks (commercial banking)\"],[\"State Commercial Banks (commercial banking)\"],[\"State Commercial Banks (commercial banking)\"],[\"State Commercial Banks (commercial banking)\"],[\"State Commercial Banks (commercial banking)\"],[\"State Commercial Banks (commercial banking)\"],[\"State Commercial Banks (commercial banking)\"],[\"State Commercial Banks (commercial banking)\"],[\"State Commercial Banks (commercial banking)\"],[\"State Commercial Banks (commercial banking)\"],[\"State Commercial Banks (commercial banking)\"],[\"State Commercial Banks (commercial banking)\"],[\"State Commercial Banks (commercial banking)\"],[\"State Commercial Banks (commercial banking)\"],[\"State Commercial Banks (commercial banking)\"],[\"State Commercial Banks (commercial banking)\"],[\"State Commercial Banks (commercial banking)\"],[\"State Commercial Banks (commercial banking)\"],[\"State Commercial Banks (commercial banking)\"],[\"State Commercial Banks (commercial banking)\"],[\"State Commercial Banks (commercial banking)\"],[\"State Commercial Banks (commercial banking)\"],[\"State Commercial Banks (commercial banking)\"],[\"State Commercial Banks (commercial banking)\"],[\"State Commercial Banks (commercial banking)\"],[\"State Commercial Banks (commercial banking)\"],[\"State Commercial Banks (commercial banking)\"],[\"State Commercial Banks (commercial banking)\"],[\"State Commercial Banks (commercial banking)\"],[\"State Commercial Banks (commercial banking)\"],[\"State Commercial Banks (commercial banking)\"],[\"State Commercial Banks (commercial banking)\"],[\"State Commercial Banks (commercial banking)\"],[\"State Commercial Banks (commercial banking)\"],[\"State Commercial Banks (commercial banking)\"],[\"State Commercial Banks (commercial banking)\"],[\"State Commercial Banks (commercial banking)\"],[\"State Commercial Banks (commercial banking)\"],[\"State Commercial Banks (commercial banking)\"],[\"State Commercial Banks (commercial banking)\"],[\"State Commercial Banks (commercial banking)\"],[\"State Commercial Banks (commercial banking)\"],[\"State Commercial Banks (commercial banking)\"],[\"State Commercial Banks (commercial banking)\"],[\"State Commercial Banks (commercial banking)\"],[\"State Commercial Banks (commercial banking)\"],[\"State Commercial Banks (commercial banking)\"],[\"State Commercial Banks (commercial banking)\"],[\"State Commercial Banks (commercial banking)\"],[\"State Commercial Banks (commercial banking)\"],[\"State Commercial Banks (commercial banking)\"],[\"State Commercial Banks (commercial banking)\"],[\"State Commercial Banks (commercial banking)\"],[\"State Commercial Banks (commercial banking)\"],[\"State Commercial Banks (commercial banking)\"],[\"State Commercial Banks (commercial banking)\"],[\"State Commercial Banks (commercial banking)\"],[\"State Commercial Banks (commercial banking)\"],[\"State Commercial Banks (commercial banking)\"],[\"State Commercial Banks (commercial banking)\"],[\"State Commercial Banks (commercial banking)\"],[\"State Commercial Banks (commercial banking)\"],[\"State Commercial Banks (commercial banking)\"],[\"State Commercial Banks (commercial banking)\"],[\"State Commercial Banks (commercial banking)\"],[\"State Commercial Banks (commercial banking)\"],[\"State Commercial Banks (commercial banking)\"],[\"State Commercial Banks (commercial banking)\"],[\"State Commercial Banks (commercial banking)\"],[\"State Commercial Banks (commercial banking)\"],[\"State Commercial Banks (commercial banking)\"],[\"State Commercial Banks (commercial banking)\"],[\"State Commercial Banks (commercial banking)\"],[\"State Commercial Banks (commercial banking)\"],[\"State Commercial Banks (commercial banking)\"],[\"State Commercial Banks (commercial banking)\"],[\"State Commercial Banks (commercial banking)\"],[\"State Commercial Banks (commercial banking)\"],[\"State Commercial Banks (commercial banking)\"]],\"hovertemplate\":\"SIC=State Commercial Banks (commercial banking)<br>0=%{x}<br>1=%{y}<br>Name=%{customdata[0]}<extra></extra>\",\"legendgroup\":\"State Commercial Banks (commercial banking)\",\"marker\":{\"color\":\"#FFA15A\",\"symbol\":\"circle\"},\"mode\":\"markers\",\"name\":\"State Commercial Banks (commercial banking)\",\"orientation\":\"v\",\"showlegend\":true,\"x\":[-4.023756570416365,-3.6781274784491846,-3.869691978306723,-4.619383788810301,-4.388034144202361,-4.3314305047336905,-3.988969126931991,-2.5209550005538914,-4.005694171249952,-3.45900778314967,-3.45900778314967,-0.17459478766670067,-4.421612372771849,-4.648247542114976,-4.222062012246356,-3.8180118410864323,-4.1417974161394,-4.350706227854217,-4.223389132777689,-4.1113880237390745,-4.295157655979312,-4.295157655979312,-3.965286826010836,-4.833804227635881,-4.526283758564343,-4.455210457424443,-2.6724699538592565,-4.602260141226025,-3.972828140437981,-4.119438418171428,-3.1721380375864174,-4.591504431053599,-4.061470749195452,-4.062122747760024,-4.062952781683165,-4.36243723165261,-4.566076054810421,-4.802590440923284,-4.408690849046,-2.7211195437261058,-4.022333939061975,-0.6729422340282188,-4.6753832681350485,-4.35392856908921,-4.2156326666551145,-0.612131836204601,-4.301404945901643,-3.977899393593817,-4.226626499848538,-4.6607942764081045,-4.204192807641344,-3.9368993738879174,-3.8746963789640336,-3.8208811025923826,-3.802463992355667,-4.56167893128951,-4.6072119074164615,-3.6802203973675067,-4.2488911980639354,-4.2488911980639354,-4.251228701300932,-4.228967075022963,-4.91497072989771,-4.797060201544395,-3.8993746981959245,-4.530410271804393,-4.478935665402989,-3.954164079104137,-4.082963583240437,-2.4659879639171125,-4.093829620963372,-4.15192302653103,-4.430113296877535,-4.0732115568571015,-3.3903653143304693,-4.162064888372787,-4.249427661218275,-3.5931321829933522,-4.073250916624723,0.2983247895641911,-3.707618173053623,-4.331561064094431,-4.118411519944015,-3.570208753268173,-4.626591645318796,-4.530599043097745,-4.530599043097745,-4.49761790005423,0.0782920660852776,-3.8073539961819587,-1.7305097106821845,-4.357748213704423,-4.766495039928411,-4.0796640586948305,-4.749903516280848,-4.5134573288533,-4.178980738676666,-3.927810956516915,-4.560888853825129,-4.16563290532867,-4.155468694546192,-3.970474786755189,-4.748332831783209,-4.148468696117777,-4.389361690774168,-3.6355196947379325,-1.1647549281369363,-4.069943359026233,-3.7798301444465876,-0.6592807639539378,-4.336106793880197,-3.6963310202611845,-3.915144803292087,-4.285662775181583,-3.2833534792182144,-4.942550654930896],\"xaxis\":\"x\",\"y\":[3.924060932685492,2.4430186474389015,0.505229052256993,4.459343162268793,3.7270373979302858,4.701139536702419,4.2622835107542025,0.8130301961574401,3.03935064998424,4.086283830058508,4.086283830058508,-0.9760158879788488,4.364997190397984,3.904784230320007,3.5382320084200574,4.009359323831771,2.114560957608347,4.4385177259981985,3.5919460180570244,3.8753251698414966,3.486156635265222,3.486156635265222,4.121720503297599,3.388053345999051,1.862792889508944,4.408319172234432,0.22724805691142647,3.7027015725782695,4.518691217597511,4.4323864025331945,3.348249319976917,3.846230843652091,2.6333402004011797,4.316727323511386,3.6195627971453277,4.38452359562944,4.180428884282551,3.44123363112212,2.497355458615874,2.1048812617666557,1.1989780552713236,-0.8809655185297111,4.03859825482197,3.358601780199797,3.7839500513161166,-0.32524995865909856,2.7663858202882095,4.328099027526854,4.3490532719301545,4.203509765194657,4.586998682872335,3.82648311081641,4.449307526690871,3.400458010664483,4.301236809322684,3.441321949437344,3.730976677125648,2.731874843787345,4.428903925515031,4.428903925515031,3.6872322189517406,4.417424731118963,4.0986170870612835,2.995592861353293,4.465046689724038,4.562522149011847,1.5885931090100622,4.25314139924616,3.711964182414217,-0.3184314743938876,4.233343340955479,3.951274468280887,4.469160986528332,4.173721026696263,2.401894966131502,4.3973052590015325,4.435820929399635,3.7962044188741655,1.932243890371315,-0.6071135414581919,4.225022063547593,3.7281771795657614,4.315765145208869,0.8527930297289718,3.4073025863908097,4.040913272869346,4.040913272869346,4.289890911873465,-0.5130070417388931,3.924201104051321,0.8159438976336765,2.383717203193203,4.2803481244443535,4.180496201086484,3.119734805052692,3.2146412803971516,1.2543955056803413,4.084269180695706,3.51282412242527,4.343618966340758,4.0707445862366844,1.6936999852302204,4.058246789750719,4.33525482275922,2.5084242723278596,3.517765614864498,0.9664336174958764,4.041388939804482,0.8592200574433019,-0.5063204968813805,4.654294539894872,3.746769512860925,4.188454632013639,4.2560809062230165,3.2250013383933736,4.247110544084465],\"yaxis\":\"y\",\"type\":\"scatter\"}],                        {\"template\":{\"data\":{\"bar\":[{\"error_x\":{\"color\":\"#2a3f5f\"},\"error_y\":{\"color\":\"#2a3f5f\"},\"marker\":{\"line\":{\"color\":\"#E5ECF6\",\"width\":0.5},\"pattern\":{\"fillmode\":\"overlay\",\"size\":10,\"solidity\":0.2}},\"type\":\"bar\"}],\"barpolar\":[{\"marker\":{\"line\":{\"color\":\"#E5ECF6\",\"width\":0.5},\"pattern\":{\"fillmode\":\"overlay\",\"size\":10,\"solidity\":0.2}},\"type\":\"barpolar\"}],\"carpet\":[{\"aaxis\":{\"endlinecolor\":\"#2a3f5f\",\"gridcolor\":\"white\",\"linecolor\":\"white\",\"minorgridcolor\":\"white\",\"startlinecolor\":\"#2a3f5f\"},\"baxis\":{\"endlinecolor\":\"#2a3f5f\",\"gridcolor\":\"white\",\"linecolor\":\"white\",\"minorgridcolor\":\"white\",\"startlinecolor\":\"#2a3f5f\"},\"type\":\"carpet\"}],\"choropleth\":[{\"colorbar\":{\"outlinewidth\":0,\"ticks\":\"\"},\"type\":\"choropleth\"}],\"contour\":[{\"colorbar\":{\"outlinewidth\":0,\"ticks\":\"\"},\"colorscale\":[[0.0,\"#0d0887\"],[0.1111111111111111,\"#46039f\"],[0.2222222222222222,\"#7201a8\"],[0.3333333333333333,\"#9c179e\"],[0.4444444444444444,\"#bd3786\"],[0.5555555555555556,\"#d8576b\"],[0.6666666666666666,\"#ed7953\"],[0.7777777777777778,\"#fb9f3a\"],[0.8888888888888888,\"#fdca26\"],[1.0,\"#f0f921\"]],\"type\":\"contour\"}],\"contourcarpet\":[{\"colorbar\":{\"outlinewidth\":0,\"ticks\":\"\"},\"type\":\"contourcarpet\"}],\"heatmap\":[{\"colorbar\":{\"outlinewidth\":0,\"ticks\":\"\"},\"colorscale\":[[0.0,\"#0d0887\"],[0.1111111111111111,\"#46039f\"],[0.2222222222222222,\"#7201a8\"],[0.3333333333333333,\"#9c179e\"],[0.4444444444444444,\"#bd3786\"],[0.5555555555555556,\"#d8576b\"],[0.6666666666666666,\"#ed7953\"],[0.7777777777777778,\"#fb9f3a\"],[0.8888888888888888,\"#fdca26\"],[1.0,\"#f0f921\"]],\"type\":\"heatmap\"}],\"heatmapgl\":[{\"colorbar\":{\"outlinewidth\":0,\"ticks\":\"\"},\"colorscale\":[[0.0,\"#0d0887\"],[0.1111111111111111,\"#46039f\"],[0.2222222222222222,\"#7201a8\"],[0.3333333333333333,\"#9c179e\"],[0.4444444444444444,\"#bd3786\"],[0.5555555555555556,\"#d8576b\"],[0.6666666666666666,\"#ed7953\"],[0.7777777777777778,\"#fb9f3a\"],[0.8888888888888888,\"#fdca26\"],[1.0,\"#f0f921\"]],\"type\":\"heatmapgl\"}],\"histogram\":[{\"marker\":{\"pattern\":{\"fillmode\":\"overlay\",\"size\":10,\"solidity\":0.2}},\"type\":\"histogram\"}],\"histogram2d\":[{\"colorbar\":{\"outlinewidth\":0,\"ticks\":\"\"},\"colorscale\":[[0.0,\"#0d0887\"],[0.1111111111111111,\"#46039f\"],[0.2222222222222222,\"#7201a8\"],[0.3333333333333333,\"#9c179e\"],[0.4444444444444444,\"#bd3786\"],[0.5555555555555556,\"#d8576b\"],[0.6666666666666666,\"#ed7953\"],[0.7777777777777778,\"#fb9f3a\"],[0.8888888888888888,\"#fdca26\"],[1.0,\"#f0f921\"]],\"type\":\"histogram2d\"}],\"histogram2dcontour\":[{\"colorbar\":{\"outlinewidth\":0,\"ticks\":\"\"},\"colorscale\":[[0.0,\"#0d0887\"],[0.1111111111111111,\"#46039f\"],[0.2222222222222222,\"#7201a8\"],[0.3333333333333333,\"#9c179e\"],[0.4444444444444444,\"#bd3786\"],[0.5555555555555556,\"#d8576b\"],[0.6666666666666666,\"#ed7953\"],[0.7777777777777778,\"#fb9f3a\"],[0.8888888888888888,\"#fdca26\"],[1.0,\"#f0f921\"]],\"type\":\"histogram2dcontour\"}],\"mesh3d\":[{\"colorbar\":{\"outlinewidth\":0,\"ticks\":\"\"},\"type\":\"mesh3d\"}],\"parcoords\":[{\"line\":{\"colorbar\":{\"outlinewidth\":0,\"ticks\":\"\"}},\"type\":\"parcoords\"}],\"pie\":[{\"automargin\":true,\"type\":\"pie\"}],\"scatter\":[{\"marker\":{\"colorbar\":{\"outlinewidth\":0,\"ticks\":\"\"}},\"type\":\"scatter\"}],\"scatter3d\":[{\"line\":{\"colorbar\":{\"outlinewidth\":0,\"ticks\":\"\"}},\"marker\":{\"colorbar\":{\"outlinewidth\":0,\"ticks\":\"\"}},\"type\":\"scatter3d\"}],\"scattercarpet\":[{\"marker\":{\"colorbar\":{\"outlinewidth\":0,\"ticks\":\"\"}},\"type\":\"scattercarpet\"}],\"scattergeo\":[{\"marker\":{\"colorbar\":{\"outlinewidth\":0,\"ticks\":\"\"}},\"type\":\"scattergeo\"}],\"scattergl\":[{\"marker\":{\"colorbar\":{\"outlinewidth\":0,\"ticks\":\"\"}},\"type\":\"scattergl\"}],\"scattermapbox\":[{\"marker\":{\"colorbar\":{\"outlinewidth\":0,\"ticks\":\"\"}},\"type\":\"scattermapbox\"}],\"scatterpolar\":[{\"marker\":{\"colorbar\":{\"outlinewidth\":0,\"ticks\":\"\"}},\"type\":\"scatterpolar\"}],\"scatterpolargl\":[{\"marker\":{\"colorbar\":{\"outlinewidth\":0,\"ticks\":\"\"}},\"type\":\"scatterpolargl\"}],\"scatterternary\":[{\"marker\":{\"colorbar\":{\"outlinewidth\":0,\"ticks\":\"\"}},\"type\":\"scatterternary\"}],\"surface\":[{\"colorbar\":{\"outlinewidth\":0,\"ticks\":\"\"},\"colorscale\":[[0.0,\"#0d0887\"],[0.1111111111111111,\"#46039f\"],[0.2222222222222222,\"#7201a8\"],[0.3333333333333333,\"#9c179e\"],[0.4444444444444444,\"#bd3786\"],[0.5555555555555556,\"#d8576b\"],[0.6666666666666666,\"#ed7953\"],[0.7777777777777778,\"#fb9f3a\"],[0.8888888888888888,\"#fdca26\"],[1.0,\"#f0f921\"]],\"type\":\"surface\"}],\"table\":[{\"cells\":{\"fill\":{\"color\":\"#EBF0F8\"},\"line\":{\"color\":\"white\"}},\"header\":{\"fill\":{\"color\":\"#C8D4E3\"},\"line\":{\"color\":\"white\"}},\"type\":\"table\"}]},\"layout\":{\"annotationdefaults\":{\"arrowcolor\":\"#2a3f5f\",\"arrowhead\":0,\"arrowwidth\":1},\"autotypenumbers\":\"strict\",\"coloraxis\":{\"colorbar\":{\"outlinewidth\":0,\"ticks\":\"\"}},\"colorscale\":{\"diverging\":[[0,\"#8e0152\"],[0.1,\"#c51b7d\"],[0.2,\"#de77ae\"],[0.3,\"#f1b6da\"],[0.4,\"#fde0ef\"],[0.5,\"#f7f7f7\"],[0.6,\"#e6f5d0\"],[0.7,\"#b8e186\"],[0.8,\"#7fbc41\"],[0.9,\"#4d9221\"],[1,\"#276419\"]],\"sequential\":[[0.0,\"#0d0887\"],[0.1111111111111111,\"#46039f\"],[0.2222222222222222,\"#7201a8\"],[0.3333333333333333,\"#9c179e\"],[0.4444444444444444,\"#bd3786\"],[0.5555555555555556,\"#d8576b\"],[0.6666666666666666,\"#ed7953\"],[0.7777777777777778,\"#fb9f3a\"],[0.8888888888888888,\"#fdca26\"],[1.0,\"#f0f921\"]],\"sequentialminus\":[[0.0,\"#0d0887\"],[0.1111111111111111,\"#46039f\"],[0.2222222222222222,\"#7201a8\"],[0.3333333333333333,\"#9c179e\"],[0.4444444444444444,\"#bd3786\"],[0.5555555555555556,\"#d8576b\"],[0.6666666666666666,\"#ed7953\"],[0.7777777777777778,\"#fb9f3a\"],[0.8888888888888888,\"#fdca26\"],[1.0,\"#f0f921\"]]},\"colorway\":[\"#636efa\",\"#EF553B\",\"#00cc96\",\"#ab63fa\",\"#FFA15A\",\"#19d3f3\",\"#FF6692\",\"#B6E880\",\"#FF97FF\",\"#FECB52\"],\"font\":{\"color\":\"#2a3f5f\"},\"geo\":{\"bgcolor\":\"white\",\"lakecolor\":\"white\",\"landcolor\":\"#E5ECF6\",\"showlakes\":true,\"showland\":true,\"subunitcolor\":\"white\"},\"hoverlabel\":{\"align\":\"left\"},\"hovermode\":\"closest\",\"mapbox\":{\"style\":\"light\"},\"paper_bgcolor\":\"white\",\"plot_bgcolor\":\"#E5ECF6\",\"polar\":{\"angularaxis\":{\"gridcolor\":\"white\",\"linecolor\":\"white\",\"ticks\":\"\"},\"bgcolor\":\"#E5ECF6\",\"radialaxis\":{\"gridcolor\":\"white\",\"linecolor\":\"white\",\"ticks\":\"\"}},\"scene\":{\"xaxis\":{\"backgroundcolor\":\"#E5ECF6\",\"gridcolor\":\"white\",\"gridwidth\":2,\"linecolor\":\"white\",\"showbackground\":true,\"ticks\":\"\",\"zerolinecolor\":\"white\"},\"yaxis\":{\"backgroundcolor\":\"#E5ECF6\",\"gridcolor\":\"white\",\"gridwidth\":2,\"linecolor\":\"white\",\"showbackground\":true,\"ticks\":\"\",\"zerolinecolor\":\"white\"},\"zaxis\":{\"backgroundcolor\":\"#E5ECF6\",\"gridcolor\":\"white\",\"gridwidth\":2,\"linecolor\":\"white\",\"showbackground\":true,\"ticks\":\"\",\"zerolinecolor\":\"white\"}},\"shapedefaults\":{\"line\":{\"color\":\"#2a3f5f\"}},\"ternary\":{\"aaxis\":{\"gridcolor\":\"white\",\"linecolor\":\"white\",\"ticks\":\"\"},\"baxis\":{\"gridcolor\":\"white\",\"linecolor\":\"white\",\"ticks\":\"\"},\"bgcolor\":\"#E5ECF6\",\"caxis\":{\"gridcolor\":\"white\",\"linecolor\":\"white\",\"ticks\":\"\"}},\"title\":{\"x\":0.05},\"xaxis\":{\"automargin\":true,\"gridcolor\":\"white\",\"linecolor\":\"white\",\"ticks\":\"\",\"title\":{\"standoff\":15},\"zerolinecolor\":\"white\",\"zerolinewidth\":2},\"yaxis\":{\"automargin\":true,\"gridcolor\":\"white\",\"linecolor\":\"white\",\"ticks\":\"\",\"title\":{\"standoff\":15},\"zerolinecolor\":\"white\",\"zerolinewidth\":2}}},\"xaxis\":{\"anchor\":\"y\",\"domain\":[0.0,1.0],\"title\":{\"text\":\"0\"}},\"yaxis\":{\"anchor\":\"x\",\"domain\":[0.0,1.0],\"title\":{\"text\":\"1\"}},\"legend\":{\"title\":{\"text\":\"SIC\"},\"tracegroupgap\":0},\"margin\":{\"t\":60},\"height\":750,\"width\":1200},                        {\"responsive\": true}                    ).then(function(){\n",
       "                            \n",
       "var gd = document.getElementById('f8002223-2639-4bed-b60f-47a14e0738aa');\n",
       "var x = new MutationObserver(function (mutations, observer) {{\n",
       "        var display = window.getComputedStyle(gd).display;\n",
       "        if (!display || display === 'none') {{\n",
       "            console.log([gd, 'removed!']);\n",
       "            Plotly.purge(gd);\n",
       "            observer.disconnect();\n",
       "        }}\n",
       "}});\n",
       "\n",
       "// Listen for the removal of the full notebook cells\n",
       "var notebookContainer = gd.closest('#notebook-container');\n",
       "if (notebookContainer) {{\n",
       "    x.observe(notebookContainer, {childList: true});\n",
       "}}\n",
       "\n",
       "// Listen for the clearing of the current output cell\n",
       "var outputEl = gd.closest('.output');\n",
       "if (outputEl) {{\n",
       "    x.observe(outputEl, {childList: true});\n",
       "}}\n",
       "\n",
       "                        })                };                });            </script>        </div>"
      ]
     },
     "metadata": {},
     "output_type": "display_data"
    }
   ],
   "source": [
    "plot_cos = visualize(cosine_sim, cosine_sim.index, df['SIC_desc'])"
   ]
  },
  {
   "cell_type": "code",
   "execution_count": 82,
   "id": "af933218",
   "metadata": {},
   "outputs": [
    {
     "data": {
      "application/vnd.plotly.v1+json": {
       "config": {
        "plotlyServerURL": "https://plot.ly"
       },
       "data": [
        {
         "customdata": [
          [
           "Prepackaged Software (mass reproduction of software)"
          ],
          [
           "Prepackaged Software (mass reproduction of software)"
          ],
          [
           "Prepackaged Software (mass reproduction of software)"
          ],
          [
           "Prepackaged Software (mass reproduction of software)"
          ],
          [
           "Prepackaged Software (mass reproduction of software)"
          ],
          [
           "Prepackaged Software (mass reproduction of software)"
          ],
          [
           "Prepackaged Software (mass reproduction of software)"
          ],
          [
           "Prepackaged Software (mass reproduction of software)"
          ],
          [
           "Prepackaged Software (mass reproduction of software)"
          ],
          [
           "Prepackaged Software (mass reproduction of software)"
          ],
          [
           "Prepackaged Software (mass reproduction of software)"
          ],
          [
           "Prepackaged Software (mass reproduction of software)"
          ],
          [
           "Prepackaged Software (mass reproduction of software)"
          ],
          [
           "Prepackaged Software (mass reproduction of software)"
          ],
          [
           "Prepackaged Software (mass reproduction of software)"
          ],
          [
           "Prepackaged Software (mass reproduction of software)"
          ],
          [
           "Prepackaged Software (mass reproduction of software)"
          ],
          [
           "Prepackaged Software (mass reproduction of software)"
          ],
          [
           "Prepackaged Software (mass reproduction of software)"
          ],
          [
           "Prepackaged Software (mass reproduction of software)"
          ],
          [
           "Prepackaged Software (mass reproduction of software)"
          ],
          [
           "Prepackaged Software (mass reproduction of software)"
          ],
          [
           "Prepackaged Software (mass reproduction of software)"
          ],
          [
           "Prepackaged Software (mass reproduction of software)"
          ],
          [
           "Prepackaged Software (mass reproduction of software)"
          ],
          [
           "Prepackaged Software (mass reproduction of software)"
          ],
          [
           "Prepackaged Software (mass reproduction of software)"
          ],
          [
           "Prepackaged Software (mass reproduction of software)"
          ],
          [
           "Prepackaged Software (mass reproduction of software)"
          ],
          [
           "Prepackaged Software (mass reproduction of software)"
          ],
          [
           "Prepackaged Software (mass reproduction of software)"
          ],
          [
           "Prepackaged Software (mass reproduction of software)"
          ],
          [
           "Prepackaged Software (mass reproduction of software)"
          ],
          [
           "Prepackaged Software (mass reproduction of software)"
          ],
          [
           "Prepackaged Software (mass reproduction of software)"
          ],
          [
           "Prepackaged Software (mass reproduction of software)"
          ],
          [
           "Prepackaged Software (mass reproduction of software)"
          ],
          [
           "Prepackaged Software (mass reproduction of software)"
          ],
          [
           "Prepackaged Software (mass reproduction of software)"
          ],
          [
           "Prepackaged Software (mass reproduction of software)"
          ],
          [
           "Prepackaged Software (mass reproduction of software)"
          ],
          [
           "Prepackaged Software (mass reproduction of software)"
          ],
          [
           "Prepackaged Software (mass reproduction of software)"
          ],
          [
           "Prepackaged Software (mass reproduction of software)"
          ],
          [
           "Prepackaged Software (mass reproduction of software)"
          ],
          [
           "Prepackaged Software (mass reproduction of software)"
          ],
          [
           "Prepackaged Software (mass reproduction of software)"
          ],
          [
           "Prepackaged Software (mass reproduction of software)"
          ],
          [
           "Prepackaged Software (mass reproduction of software)"
          ],
          [
           "Prepackaged Software (mass reproduction of software)"
          ],
          [
           "Prepackaged Software (mass reproduction of software)"
          ],
          [
           "Prepackaged Software (mass reproduction of software)"
          ],
          [
           "Prepackaged Software (mass reproduction of software)"
          ],
          [
           "Prepackaged Software (mass reproduction of software)"
          ],
          [
           "Prepackaged Software (mass reproduction of software)"
          ],
          [
           "Prepackaged Software (mass reproduction of software)"
          ],
          [
           "Prepackaged Software (mass reproduction of software)"
          ],
          [
           "Prepackaged Software (mass reproduction of software)"
          ],
          [
           "Prepackaged Software (mass reproduction of software)"
          ],
          [
           "Prepackaged Software (mass reproduction of software)"
          ],
          [
           "Prepackaged Software (mass reproduction of software)"
          ],
          [
           "Prepackaged Software (mass reproduction of software)"
          ],
          [
           "Prepackaged Software (mass reproduction of software)"
          ],
          [
           "Prepackaged Software (mass reproduction of software)"
          ],
          [
           "Prepackaged Software (mass reproduction of software)"
          ],
          [
           "Prepackaged Software (mass reproduction of software)"
          ],
          [
           "Prepackaged Software (mass reproduction of software)"
          ],
          [
           "Prepackaged Software (mass reproduction of software)"
          ],
          [
           "Prepackaged Software (mass reproduction of software)"
          ],
          [
           "Prepackaged Software (mass reproduction of software)"
          ],
          [
           "Prepackaged Software (mass reproduction of software)"
          ],
          [
           "Prepackaged Software (mass reproduction of software)"
          ],
          [
           "Prepackaged Software (mass reproduction of software)"
          ],
          [
           "Prepackaged Software (mass reproduction of software)"
          ],
          [
           "Prepackaged Software (mass reproduction of software)"
          ],
          [
           "Prepackaged Software (mass reproduction of software)"
          ],
          [
           "Prepackaged Software (mass reproduction of software)"
          ],
          [
           "Prepackaged Software (mass reproduction of software)"
          ],
          [
           "Prepackaged Software (mass reproduction of software)"
          ],
          [
           "Prepackaged Software (mass reproduction of software)"
          ]
         ],
         "hovertemplate": "SIC=Prepackaged Software (mass reproduction of software)<br>0=%{x}<br>1=%{y}<br>2=%{z}<br>name=%{customdata[0]}<extra></extra>",
         "legendgroup": "Prepackaged Software (mass reproduction of software)",
         "marker": {
          "color": "#636efa",
          "symbol": "circle"
         },
         "mode": "markers",
         "name": "Prepackaged Software (mass reproduction of software)",
         "scene": "scene",
         "showlegend": true,
         "type": "scatter3d",
         "x": [
          0.99902083586378,
          0.2633929490367165,
          0.4213714880747363,
          0.8408999670994839,
          -0.314020820139444,
          0.44383655552053436,
          0.24461226250361495,
          0.24461226250361495,
          -0.20375924508780605,
          0.48013177364470894,
          0.602472186306059,
          1.0832274771968615,
          0.20564790692239804,
          -0.12768301844822424,
          0.19780650724212592,
          0.7897911283159998,
          -0.7319978963096139,
          0.24029833822228003,
          0.026291545807584235,
          0.035188012227533365,
          0.46676651496381716,
          0.36170397290799955,
          3.2356415564231056,
          3.2356415564231056,
          -0.6235680331860215,
          -0.6235680331860215,
          -0.5426275806806736,
          -0.5426275806806736,
          0.051911614096377276,
          0.25462932458032844,
          -0.22988740669821572,
          1.2692121452586926,
          -0.37916636008586735,
          0.5218016529842566,
          1.174196046909015,
          0.4533003469873675,
          0.15417335647669,
          0.8314784638744157,
          -0.24876054983537016,
          -0.24876054983537016,
          -0.24876054983537016,
          -0.03031216148050678,
          -2.0500915784564535,
          -0.1518713541187608,
          -0.08493199887058257,
          1.0063555006407041,
          -0.32681586002957913,
          0.9116805334072703,
          1.3084889970693656,
          -0.42416014163437327,
          -0.13988951933947197,
          0.21066498642586237,
          -2.4587979688709996,
          0.2921568203266982,
          1.6904793543459424,
          0.4525945755770244,
          0.03231583312387489,
          0.6946424165201935,
          0.21165735966537322,
          1.2294392904237919,
          0.641984421595404,
          0.07496736614047247,
          -0.06833848315182407,
          0.8319369103405994,
          0.09182207738004372,
          -0.06660250053853632,
          0.10944637085090154,
          0.47448157021547965,
          0.8349961180047687,
          0.6694108767942832,
          0.8007467925060232,
          -1.8313201897097997,
          -0.5602114867184956,
          1.024831328653117,
          -0.46225420599326306,
          -0.46225420599326306,
          0.6345831175948964,
          0.6002347837004046,
          0.6877975084980418,
          1.3788373616546734
         ],
         "y": [
          -0.8081412816567027,
          -0.8345257152642733,
          -0.9700765223336089,
          -0.8349584304780023,
          -1.4491223650822682,
          -0.829108738157137,
          -0.6564444769568673,
          -0.6564444769568673,
          -1.4772808231648322,
          -0.8436621621710374,
          -0.6037733682052067,
          -0.8228473517880255,
          -0.6822871099987157,
          -1.2969781405974719,
          -0.6148601860706217,
          -0.6209653170908773,
          -0.5469737660782067,
          -0.7991990820882522,
          -0.738183934331296,
          -1.074579130271178,
          -0.8474335325568021,
          -0.7826386380472855,
          0.718605204903303,
          0.718605204903303,
          -0.8312918096681043,
          -0.8312918096681043,
          -1.4404420980567183,
          -1.4404420980567183,
          -1.400706792606163,
          -0.920658096049448,
          -1.3435448176617724,
          -0.6158468582713016,
          -1.0684558342265962,
          -0.597102961227967,
          -0.3910137441497246,
          -1.143098308590258,
          -0.9202882177879069,
          -0.6623034574866236,
          -0.3355923314115906,
          -0.3355923314115906,
          -0.3355923314115906,
          -0.5568378607838673,
          -1.8501208886645517,
          -0.029377502638718196,
          -1.458302943970184,
          -0.715303754860741,
          -1.2803107380418148,
          -0.668858420960851,
          -0.8169238603470922,
          -1.0344425206787033,
          -0.6012655173964568,
          -1.077318850921422,
          -0.6638984444533799,
          -1.0055651587218282,
          -0.12146931661505588,
          -1.15076396170579,
          -0.727556643788486,
          -0.7282528376614694,
          -1.217022326871119,
          -0.4665881214535827,
          -0.5270431896975821,
          -1.0960446868901352,
          -0.7438750374007146,
          -0.6934319075362491,
          -1.112548310706302,
          -1.0228168082306932,
          -1.373839183920253,
          -0.12024514225010728,
          -0.2498463651695474,
          -0.8149718798574908,
          -0.7799434143802201,
          -1.782893719893872,
          -1.523774151864927,
          -0.4010346878107438,
          -0.869027645996582,
          -0.869027645996582,
          -0.8918554009256495,
          -0.8586002893788286,
          -0.454004451766724,
          -0.7088864037110348
         ],
         "z": [
          -0.30876129641517147,
          -0.6072244198629473,
          -0.23513875805348383,
          -0.43428806527006525,
          -0.05724471301252727,
          0.3403472519671554,
          2.217530041251087,
          2.217530041251087,
          -0.644508073245014,
          -0.4557906307678198,
          0.23984215797164404,
          -0.6779446920286812,
          0.5043464312968934,
          0.5109741460392175,
          1.912226019549389,
          0.4462292037491212,
          0.24426422671230197,
          0.8240683847970413,
          1.2855909278141657,
          0.03581504972635582,
          0.5785050516066943,
          0.6427797665034094,
          -1.2067706732284516,
          -1.2067706732284516,
          0.31481298811936403,
          0.31481298811936403,
          0.299904768797607,
          0.299904768797607,
          -0.5131404328265321,
          0.2689957884912013,
          0.330071094440916,
          -0.5628128408587054,
          0.2504933569459506,
          1.4924810015530436,
          0.47169178784766735,
          -0.9875326553423286,
          0.021511937159411017,
          -0.6416286344792056,
          0.06053701065808523,
          0.06053701065808523,
          0.06053701065808523,
          1.8594672375445391,
          -1.9250083023610598,
          1.5692675830080356,
          -0.689485093476189,
          -0.5734736380148444,
          -0.10227985151662675,
          0.7629179069054687,
          -0.8952009465805056,
          0.13335228966025497,
          0.6317664385899786,
          -0.30014586531242,
          -1.751568620045139,
          -0.2573126460406286,
          0.7870588835009178,
          -0.2955604203266652,
          0.5759331281881265,
          -0.04476729778572882,
          -0.051843124866985384,
          -0.5031504758879837,
          0.4551118620775685,
          0.5238807355953481,
          2.083117766866825,
          0.02256233211342677,
          -0.15237874446936178,
          0.07124024734223228,
          -0.24977435342262058,
          -0.14204773282357458,
          -0.5367842182506921,
          -0.16252820203251436,
          -0.4041979185431028,
          -2.305721195904327,
          0.40962821432183744,
          0.6463855123613244,
          0.424217516402116,
          0.424217516402116,
          0.21680923753582654,
          -1.095009473711452,
          0.05658363401045412,
          -0.6523178644096876
         ]
        },
        {
         "customdata": [
          [
           "Crude Petroleum and Natural Gas"
          ],
          [
           "Crude Petroleum and Natural Gas"
          ],
          [
           "Crude Petroleum and Natural Gas"
          ],
          [
           "Crude Petroleum and Natural Gas"
          ],
          [
           "Crude Petroleum and Natural Gas"
          ],
          [
           "Crude Petroleum and Natural Gas"
          ],
          [
           "Crude Petroleum and Natural Gas"
          ],
          [
           "Crude Petroleum and Natural Gas"
          ],
          [
           "Crude Petroleum and Natural Gas"
          ],
          [
           "Crude Petroleum and Natural Gas"
          ],
          [
           "Crude Petroleum and Natural Gas"
          ],
          [
           "Crude Petroleum and Natural Gas"
          ],
          [
           "Crude Petroleum and Natural Gas"
          ],
          [
           "Crude Petroleum and Natural Gas"
          ],
          [
           "Crude Petroleum and Natural Gas"
          ],
          [
           "Crude Petroleum and Natural Gas"
          ],
          [
           "Crude Petroleum and Natural Gas"
          ],
          [
           "Crude Petroleum and Natural Gas"
          ],
          [
           "Crude Petroleum and Natural Gas"
          ],
          [
           "Crude Petroleum and Natural Gas"
          ],
          [
           "Crude Petroleum and Natural Gas"
          ],
          [
           "Crude Petroleum and Natural Gas"
          ],
          [
           "Crude Petroleum and Natural Gas"
          ],
          [
           "Crude Petroleum and Natural Gas"
          ],
          [
           "Crude Petroleum and Natural Gas"
          ],
          [
           "Crude Petroleum and Natural Gas"
          ],
          [
           "Crude Petroleum and Natural Gas"
          ],
          [
           "Crude Petroleum and Natural Gas"
          ],
          [
           "Crude Petroleum and Natural Gas"
          ],
          [
           "Crude Petroleum and Natural Gas"
          ],
          [
           "Crude Petroleum and Natural Gas"
          ],
          [
           "Crude Petroleum and Natural Gas"
          ],
          [
           "Crude Petroleum and Natural Gas"
          ],
          [
           "Crude Petroleum and Natural Gas"
          ],
          [
           "Crude Petroleum and Natural Gas"
          ],
          [
           "Crude Petroleum and Natural Gas"
          ],
          [
           "Crude Petroleum and Natural Gas"
          ],
          [
           "Crude Petroleum and Natural Gas"
          ],
          [
           "Crude Petroleum and Natural Gas"
          ],
          [
           "Crude Petroleum and Natural Gas"
          ],
          [
           "Crude Petroleum and Natural Gas"
          ],
          [
           "Crude Petroleum and Natural Gas"
          ],
          [
           "Crude Petroleum and Natural Gas"
          ],
          [
           "Crude Petroleum and Natural Gas"
          ],
          [
           "Crude Petroleum and Natural Gas"
          ],
          [
           "Crude Petroleum and Natural Gas"
          ],
          [
           "Crude Petroleum and Natural Gas"
          ],
          [
           "Crude Petroleum and Natural Gas"
          ],
          [
           "Crude Petroleum and Natural Gas"
          ],
          [
           "Crude Petroleum and Natural Gas"
          ],
          [
           "Crude Petroleum and Natural Gas"
          ],
          [
           "Crude Petroleum and Natural Gas"
          ],
          [
           "Crude Petroleum and Natural Gas"
          ],
          [
           "Crude Petroleum and Natural Gas"
          ],
          [
           "Crude Petroleum and Natural Gas"
          ],
          [
           "Crude Petroleum and Natural Gas"
          ],
          [
           "Crude Petroleum and Natural Gas"
          ],
          [
           "Crude Petroleum and Natural Gas"
          ],
          [
           "Crude Petroleum and Natural Gas"
          ],
          [
           "Crude Petroleum and Natural Gas"
          ],
          [
           "Crude Petroleum and Natural Gas"
          ],
          [
           "Crude Petroleum and Natural Gas"
          ],
          [
           "Crude Petroleum and Natural Gas"
          ],
          [
           "Crude Petroleum and Natural Gas"
          ],
          [
           "Crude Petroleum and Natural Gas"
          ],
          [
           "Crude Petroleum and Natural Gas"
          ],
          [
           "Crude Petroleum and Natural Gas"
          ],
          [
           "Crude Petroleum and Natural Gas"
          ],
          [
           "Crude Petroleum and Natural Gas"
          ],
          [
           "Crude Petroleum and Natural Gas"
          ],
          [
           "Crude Petroleum and Natural Gas"
          ],
          [
           "Crude Petroleum and Natural Gas"
          ],
          [
           "Crude Petroleum and Natural Gas"
          ],
          [
           "Crude Petroleum and Natural Gas"
          ],
          [
           "Crude Petroleum and Natural Gas"
          ],
          [
           "Crude Petroleum and Natural Gas"
          ],
          [
           "Crude Petroleum and Natural Gas"
          ],
          [
           "Crude Petroleum and Natural Gas"
          ],
          [
           "Crude Petroleum and Natural Gas"
          ],
          [
           "Crude Petroleum and Natural Gas"
          ]
         ],
         "hovertemplate": "SIC=Crude Petroleum and Natural Gas<br>0=%{x}<br>1=%{y}<br>2=%{z}<br>name=%{customdata[0]}<extra></extra>",
         "legendgroup": "Crude Petroleum and Natural Gas",
         "marker": {
          "color": "#EF553B",
          "symbol": "circle"
         },
         "mode": "markers",
         "name": "Crude Petroleum and Natural Gas",
         "scene": "scene",
         "showlegend": true,
         "type": "scatter3d",
         "x": [
          -0.011016359999416967,
          0.08155386206843893,
          2.462099851337894,
          -0.2869700487294932,
          -0.12271166860608135,
          -0.09151559034040137,
          -0.39587715008798324,
          -0.7110852888687128,
          -0.4287861299198289,
          0.09617126229125603,
          -0.18712579069684945,
          -0.06893906122791153,
          0.0055705729882574466,
          0.09464786606727216,
          0.035601845827749244,
          0.5109616399268474,
          0.0623380851414523,
          0.09054483600459028,
          0.031010922276034907,
          0.04953400784377222,
          -0.37438195034439686,
          -0.06708215011839107,
          0.2983247895641911,
          -0.12205889947896252,
          2.0458749271028607,
          -0.007289827711719037,
          0.00853808498611321,
          -0.16890359317694367,
          -0.4072840817573875,
          0.015602160189028382,
          0.04346074933256249,
          -0.6697155800154901,
          -0.12235821283873387,
          -0.008694633780534856,
          -0.2689273258048832,
          -0.8187277664172513,
          0.3763793265877963,
          -0.3787073577729853,
          -0.1945637119811069,
          -0.2421053774226648,
          -0.12575158790680332,
          -0.141607227204885,
          -0.3932492539840476,
          -0.3932492539840476,
          -0.11148811359179253,
          -0.10621646148439381,
          -0.23227827007747723,
          0.004080862008604532,
          0.07361253698856077,
          0.0031906416194938145,
          -0.012128982113756969,
          0.5824285596818094,
          -0.18027824948338037,
          -0.3517178723463208,
          0.4728563072340271,
          -0.25976861827540143,
          -0.3073786948301747,
          0.015290330080393858,
          -0.003990228024910569,
          -0.10951741038078801,
          -0.06755645741309757,
          -0.38046175990009284,
          -0.039652192307210406,
          -0.12133498686550648,
          -0.17736654694695764,
          0.7300781038836458,
          -0.21177117435553858,
          0.10366216005670072,
          -0.07735142540926214,
          -0.4297678465119225,
          -0.05545683157331409,
          -0.13273448093555068,
          -0.1742489424661251,
          -0.35689033641190704,
          0.19005831479159968,
          -0.3264930509825932,
          -0.15374297521622962,
          -0.4930387393656726,
          -0.22029189453503198,
          -0.2692615701297458
         ],
         "y": [
          -2.159120773497071,
          -1.7237457683298283,
          0.22049976134949947,
          0.44969182300698046,
          -1.9755533429980292,
          -0.8060442510236067,
          -0.6607071186145254,
          -1.2547921814557743,
          -1.302260335108059,
          -2.1054540846714382,
          -0.7757140214177956,
          -2.1488603057442197,
          -2.110554357354412,
          -2.1328116249588303,
          -1.4056534129841565,
          -0.9777923260433926,
          -1.9602969318956893,
          -2.0884417777715067,
          -1.9462526527739272,
          -2.128860574481517,
          -2.2571857899846552,
          -2.0037367454076214,
          -0.6071135414581919,
          -2.0533961714253715,
          -0.2466764899858321,
          -2.20744286759202,
          -2.2172476340236154,
          -2.2467439393861817,
          -2.414468116824447,
          -2.0887852200639436,
          -2.0585670984181603,
          -2.1479388654012825,
          -1.395073153083531,
          -2.1551103063560553,
          -1.3217588865357928,
          -2.0005406215692885,
          -1.8841731380089384,
          -2.014108667247413,
          -2.1515214574754356,
          -1.5677609992040167,
          -1.835587202625731,
          -2.2769041615473333,
          -1.9529168824700507,
          -1.9529168824700507,
          -2.178146121609078,
          -2.1514572500564353,
          -2.2548094023692045,
          -1.3838597962533612,
          -2.0954654619943134,
          -2.1619866837558757,
          -2.1285816952954417,
          -1.3498816223451253,
          -1.3058365881853584,
          -1.7879166308329324,
          -1.2780669237317892,
          -2.1986201117869757,
          -2.233787307584407,
          -2.0821756160994367,
          -2.0735639458158497,
          -2.081274430660057,
          -2.199450076430902,
          -2.0351573298705086,
          -1.2088592796701603,
          -1.0655042526750356,
          -2.1091201998726405,
          -0.8847276181989797,
          -1.2454952442954514,
          -2.165628962047599,
          -2.2338785495609934,
          -1.9174319652460177,
          -1.9351396482537635,
          -2.078389081408197,
          -2.01506311818582,
          -2.152616258712187,
          -1.4970149757729758,
          -2.309795296597899,
          -2.1644002483211433,
          -1.5349431506220166,
          -2.304473820164861,
          -2.251545039231
         ],
         "z": [
          4.563717975757887,
          3.9388686384494904,
          -0.36052125311657196,
          0.9507637157642954,
          3.5795040682876498,
          0.04360932653113321,
          1.771152850344198,
          -1.098986217515969,
          0.5910242668019258,
          4.7145843045373885,
          2.5067619857566625,
          5.017965262146573,
          4.791354023846562,
          4.886838386062327,
          2.166181186650659,
          0.48433028604824885,
          3.6849075258405355,
          4.725480271085032,
          4.293631449694975,
          4.368730691226055,
          4.11619506970349,
          4.064488744459561,
          2.4088648773432113,
          3.0802551011488433,
          0.7384005541138648,
          4.816602495361894,
          4.558499732815272,
          4.084074620968301,
          3.9246849548204263,
          4.693154629250549,
          4.729497958462894,
          2.002297793210924,
          1.4824567914261906,
          4.319568070410267,
          2.5857000041911378,
          0.8884399241020766,
          4.3220781370063746,
          3.3159435285307515,
          4.1807366452811365,
          2.4524506531134915,
          3.2176868124067672,
          4.6911850286457595,
          1.2993973227655646,
          1.2993973227655646,
          3.95488211327555,
          4.155303849461593,
          3.9176480221063152,
          2.7196017623247717,
          4.834804184227487,
          4.742217147959312,
          4.688555667943524,
          2.347102547124382,
          2.887470687053317,
          2.613478282318241,
          3.348507494685689,
          3.9567741411269868,
          3.45405324409379,
          4.574732126382147,
          4.087159280183462,
          4.158338508602592,
          4.620045418187563,
          3.392584317946049,
          2.448862130631676,
          1.1369564371408083,
          4.266280273649228,
          0.20127352549436556,
          2.366172394532424,
          4.6364841609651,
          4.299763108395488,
          2.5512459323338943,
          4.467620982570675,
          3.7304419950626375,
          3.340587535184337,
          4.34503045513419,
          2.3208343566785237,
          4.064821944851498,
          4.572557762118651,
          0.06156651810838783,
          4.186090109192126,
          4.26211922438509
         ]
        },
        {
         "customdata": [
          [
           "Pharmaceutical Preparations"
          ],
          [
           "Pharmaceutical Preparations"
          ],
          [
           "Pharmaceutical Preparations"
          ],
          [
           "Pharmaceutical Preparations"
          ],
          [
           "Pharmaceutical Preparations"
          ],
          [
           "Pharmaceutical Preparations"
          ],
          [
           "Pharmaceutical Preparations"
          ],
          [
           "Pharmaceutical Preparations"
          ],
          [
           "Pharmaceutical Preparations"
          ],
          [
           "Pharmaceutical Preparations"
          ],
          [
           "Pharmaceutical Preparations"
          ],
          [
           "Pharmaceutical Preparations"
          ],
          [
           "Pharmaceutical Preparations"
          ],
          [
           "Pharmaceutical Preparations"
          ],
          [
           "Pharmaceutical Preparations"
          ],
          [
           "Pharmaceutical Preparations"
          ],
          [
           "Pharmaceutical Preparations"
          ],
          [
           "Pharmaceutical Preparations"
          ],
          [
           "Pharmaceutical Preparations"
          ],
          [
           "Pharmaceutical Preparations"
          ],
          [
           "Pharmaceutical Preparations"
          ],
          [
           "Pharmaceutical Preparations"
          ],
          [
           "Pharmaceutical Preparations"
          ],
          [
           "Pharmaceutical Preparations"
          ],
          [
           "Pharmaceutical Preparations"
          ],
          [
           "Pharmaceutical Preparations"
          ],
          [
           "Pharmaceutical Preparations"
          ],
          [
           "Pharmaceutical Preparations"
          ],
          [
           "Pharmaceutical Preparations"
          ],
          [
           "Pharmaceutical Preparations"
          ],
          [
           "Pharmaceutical Preparations"
          ],
          [
           "Pharmaceutical Preparations"
          ],
          [
           "Pharmaceutical Preparations"
          ],
          [
           "Pharmaceutical Preparations"
          ],
          [
           "Pharmaceutical Preparations"
          ],
          [
           "Pharmaceutical Preparations"
          ],
          [
           "Pharmaceutical Preparations"
          ],
          [
           "Pharmaceutical Preparations"
          ],
          [
           "Pharmaceutical Preparations"
          ],
          [
           "Pharmaceutical Preparations"
          ],
          [
           "Pharmaceutical Preparations"
          ],
          [
           "Pharmaceutical Preparations"
          ],
          [
           "Pharmaceutical Preparations"
          ],
          [
           "Pharmaceutical Preparations"
          ],
          [
           "Pharmaceutical Preparations"
          ],
          [
           "Pharmaceutical Preparations"
          ],
          [
           "Pharmaceutical Preparations"
          ],
          [
           "Pharmaceutical Preparations"
          ],
          [
           "Pharmaceutical Preparations"
          ],
          [
           "Pharmaceutical Preparations"
          ],
          [
           "Pharmaceutical Preparations"
          ],
          [
           "Pharmaceutical Preparations"
          ],
          [
           "Pharmaceutical Preparations"
          ],
          [
           "Pharmaceutical Preparations"
          ],
          [
           "Pharmaceutical Preparations"
          ],
          [
           "Pharmaceutical Preparations"
          ],
          [
           "Pharmaceutical Preparations"
          ],
          [
           "Pharmaceutical Preparations"
          ],
          [
           "Pharmaceutical Preparations"
          ],
          [
           "Pharmaceutical Preparations"
          ],
          [
           "Pharmaceutical Preparations"
          ],
          [
           "Pharmaceutical Preparations"
          ],
          [
           "Pharmaceutical Preparations"
          ],
          [
           "Pharmaceutical Preparations"
          ],
          [
           "Pharmaceutical Preparations"
          ],
          [
           "Pharmaceutical Preparations"
          ],
          [
           "Pharmaceutical Preparations"
          ],
          [
           "Pharmaceutical Preparations"
          ],
          [
           "Pharmaceutical Preparations"
          ],
          [
           "Pharmaceutical Preparations"
          ],
          [
           "Pharmaceutical Preparations"
          ],
          [
           "Pharmaceutical Preparations"
          ],
          [
           "Pharmaceutical Preparations"
          ],
          [
           "Pharmaceutical Preparations"
          ],
          [
           "Pharmaceutical Preparations"
          ],
          [
           "Pharmaceutical Preparations"
          ],
          [
           "Pharmaceutical Preparations"
          ],
          [
           "Pharmaceutical Preparations"
          ],
          [
           "Pharmaceutical Preparations"
          ],
          [
           "Pharmaceutical Preparations"
          ],
          [
           "Pharmaceutical Preparations"
          ],
          [
           "Pharmaceutical Preparations"
          ],
          [
           "Pharmaceutical Preparations"
          ],
          [
           "Pharmaceutical Preparations"
          ],
          [
           "Pharmaceutical Preparations"
          ],
          [
           "Pharmaceutical Preparations"
          ],
          [
           "Pharmaceutical Preparations"
          ],
          [
           "Pharmaceutical Preparations"
          ],
          [
           "Pharmaceutical Preparations"
          ],
          [
           "Pharmaceutical Preparations"
          ],
          [
           "Pharmaceutical Preparations"
          ],
          [
           "Pharmaceutical Preparations"
          ],
          [
           "Pharmaceutical Preparations"
          ],
          [
           "Pharmaceutical Preparations"
          ],
          [
           "Pharmaceutical Preparations"
          ],
          [
           "Pharmaceutical Preparations"
          ],
          [
           "Pharmaceutical Preparations"
          ],
          [
           "Pharmaceutical Preparations"
          ],
          [
           "Pharmaceutical Preparations"
          ],
          [
           "Pharmaceutical Preparations"
          ],
          [
           "Pharmaceutical Preparations"
          ],
          [
           "Pharmaceutical Preparations"
          ],
          [
           "Pharmaceutical Preparations"
          ],
          [
           "Pharmaceutical Preparations"
          ],
          [
           "Pharmaceutical Preparations"
          ],
          [
           "Pharmaceutical Preparations"
          ],
          [
           "Pharmaceutical Preparations"
          ],
          [
           "Pharmaceutical Preparations"
          ],
          [
           "Pharmaceutical Preparations"
          ],
          [
           "Pharmaceutical Preparations"
          ],
          [
           "Pharmaceutical Preparations"
          ],
          [
           "Pharmaceutical Preparations"
          ],
          [
           "Pharmaceutical Preparations"
          ],
          [
           "Pharmaceutical Preparations"
          ],
          [
           "Pharmaceutical Preparations"
          ],
          [
           "Pharmaceutical Preparations"
          ],
          [
           "Pharmaceutical Preparations"
          ],
          [
           "Pharmaceutical Preparations"
          ],
          [
           "Pharmaceutical Preparations"
          ],
          [
           "Pharmaceutical Preparations"
          ],
          [
           "Pharmaceutical Preparations"
          ],
          [
           "Pharmaceutical Preparations"
          ],
          [
           "Pharmaceutical Preparations"
          ],
          [
           "Pharmaceutical Preparations"
          ],
          [
           "Pharmaceutical Preparations"
          ],
          [
           "Pharmaceutical Preparations"
          ],
          [
           "Pharmaceutical Preparations"
          ],
          [
           "Pharmaceutical Preparations"
          ],
          [
           "Pharmaceutical Preparations"
          ],
          [
           "Pharmaceutical Preparations"
          ],
          [
           "Pharmaceutical Preparations"
          ],
          [
           "Pharmaceutical Preparations"
          ],
          [
           "Pharmaceutical Preparations"
          ],
          [
           "Pharmaceutical Preparations"
          ],
          [
           "Pharmaceutical Preparations"
          ],
          [
           "Pharmaceutical Preparations"
          ],
          [
           "Pharmaceutical Preparations"
          ],
          [
           "Pharmaceutical Preparations"
          ],
          [
           "Pharmaceutical Preparations"
          ],
          [
           "Pharmaceutical Preparations"
          ],
          [
           "Pharmaceutical Preparations"
          ],
          [
           "Pharmaceutical Preparations"
          ],
          [
           "Pharmaceutical Preparations"
          ],
          [
           "Pharmaceutical Preparations"
          ],
          [
           "Pharmaceutical Preparations"
          ],
          [
           "Pharmaceutical Preparations"
          ],
          [
           "Pharmaceutical Preparations"
          ],
          [
           "Pharmaceutical Preparations"
          ],
          [
           "Pharmaceutical Preparations"
          ],
          [
           "Pharmaceutical Preparations"
          ],
          [
           "Pharmaceutical Preparations"
          ],
          [
           "Pharmaceutical Preparations"
          ],
          [
           "Pharmaceutical Preparations"
          ],
          [
           "Pharmaceutical Preparations"
          ],
          [
           "Pharmaceutical Preparations"
          ],
          [
           "Pharmaceutical Preparations"
          ],
          [
           "Pharmaceutical Preparations"
          ],
          [
           "Pharmaceutical Preparations"
          ],
          [
           "Pharmaceutical Preparations"
          ],
          [
           "Pharmaceutical Preparations"
          ],
          [
           "Pharmaceutical Preparations"
          ],
          [
           "Pharmaceutical Preparations"
          ],
          [
           "Pharmaceutical Preparations"
          ],
          [
           "Pharmaceutical Preparations"
          ],
          [
           "Pharmaceutical Preparations"
          ],
          [
           "Pharmaceutical Preparations"
          ],
          [
           "Pharmaceutical Preparations"
          ],
          [
           "Pharmaceutical Preparations"
          ],
          [
           "Pharmaceutical Preparations"
          ],
          [
           "Pharmaceutical Preparations"
          ],
          [
           "Pharmaceutical Preparations"
          ],
          [
           "Pharmaceutical Preparations"
          ],
          [
           "Pharmaceutical Preparations"
          ],
          [
           "Pharmaceutical Preparations"
          ],
          [
           "Pharmaceutical Preparations"
          ],
          [
           "Pharmaceutical Preparations"
          ],
          [
           "Pharmaceutical Preparations"
          ],
          [
           "Pharmaceutical Preparations"
          ],
          [
           "Pharmaceutical Preparations"
          ],
          [
           "Pharmaceutical Preparations"
          ],
          [
           "Pharmaceutical Preparations"
          ],
          [
           "Pharmaceutical Preparations"
          ],
          [
           "Pharmaceutical Preparations"
          ],
          [
           "Pharmaceutical Preparations"
          ],
          [
           "Pharmaceutical Preparations"
          ],
          [
           "Pharmaceutical Preparations"
          ],
          [
           "Pharmaceutical Preparations"
          ],
          [
           "Pharmaceutical Preparations"
          ],
          [
           "Pharmaceutical Preparations"
          ],
          [
           "Pharmaceutical Preparations"
          ],
          [
           "Pharmaceutical Preparations"
          ],
          [
           "Pharmaceutical Preparations"
          ],
          [
           "Pharmaceutical Preparations"
          ],
          [
           "Pharmaceutical Preparations"
          ],
          [
           "Pharmaceutical Preparations"
          ],
          [
           "Pharmaceutical Preparations"
          ],
          [
           "Pharmaceutical Preparations"
          ],
          [
           "Pharmaceutical Preparations"
          ],
          [
           "Pharmaceutical Preparations"
          ],
          [
           "Pharmaceutical Preparations"
          ],
          [
           "Pharmaceutical Preparations"
          ],
          [
           "Pharmaceutical Preparations"
          ],
          [
           "Pharmaceutical Preparations"
          ],
          [
           "Pharmaceutical Preparations"
          ],
          [
           "Pharmaceutical Preparations"
          ],
          [
           "Pharmaceutical Preparations"
          ],
          [
           "Pharmaceutical Preparations"
          ],
          [
           "Pharmaceutical Preparations"
          ]
         ],
         "hovertemplate": "SIC=Pharmaceutical Preparations<br>0=%{x}<br>1=%{y}<br>2=%{z}<br>name=%{customdata[0]}<extra></extra>",
         "legendgroup": "Pharmaceutical Preparations",
         "marker": {
          "color": "#00cc96",
          "symbol": "circle"
         },
         "mode": "markers",
         "name": "Pharmaceutical Preparations",
         "scene": "scene",
         "showlegend": true,
         "type": "scatter3d",
         "x": [
          1.7908186901404914,
          1.0484285607775217,
          5.244782795286609,
          4.093085366795752,
          0.6159656824688959,
          1.2751516347823209,
          1.2751516347823209,
          4.891433821577185,
          3.205526396547889,
          0.40851714222209057,
          0.40851714222209057,
          4.323478747304625,
          5.043622732762974,
          1.755532140469376,
          4.760336823727886,
          -0.563782066404927,
          -0.323568650859879,
          -0.323568650859879,
          5.836282667357343,
          1.4157949715407074,
          2.770902875681686,
          0.04519229116169646,
          0.04519229116169646,
          4.3487114533434355,
          3.8315916579780303,
          4.5019995022729775,
          0.43354755060984984,
          1.28211345738902,
          4.033518371485877,
          4.869688504858677,
          1.0485964070163714,
          1.5736980554049822,
          4.937634862090019,
          4.937634862090019,
          5.357694893113876,
          3.876074805491831,
          2.0225308621673044,
          2.5218752185612745,
          3.1517580456730236,
          0.08731936352727956,
          5.196216047416219,
          5.6845042890999915,
          4.327543315607518,
          2.6958796623551184,
          0.571477580633364,
          4.380801192255789,
          4.432520250630039,
          3.2808017718340436,
          3.384269895478231,
          3.384269895478231,
          5.23583319245596,
          5.484822122184722,
          2.2499561516758106,
          3.4017659856499467,
          4.659195092941714,
          3.295789011590088,
          2.7301532164097777,
          5.146815552252817,
          0.23377933599230835,
          2.03037312394584,
          4.0036962636831985,
          4.466554694126057,
          4.070954244278153,
          3.084125542173879,
          3.5158295529856214,
          -0.45028080289901057,
          4.92330294147822,
          2.0537822460943356,
          5.118284222376242,
          4.433588069676685,
          5.152755600465696,
          4.603511354649557,
          4.760978496047274,
          5.232347388904843,
          4.499525675932837,
          5.536660389707824,
          4.43187808145654,
          3.691168808287401,
          0.8048082439409735,
          4.421125354161756,
          4.977357982620855,
          4.961728821603581,
          4.124819692638047,
          4.369129188020195,
          3.988699085185556,
          3.1013137562587354,
          2.8165696557526227,
          2.468852717217854,
          2.1030629087281505,
          5.270155101643845,
          4.241110714714472,
          3.08299223216296,
          1.4961862122283245,
          2.136255727314266,
          5.192797418870214,
          3.0467719740284833,
          3.037221557221368,
          5.043130921263239,
          2.596808340313993,
          4.133410291969365,
          1.2874258341023612,
          5.369870107720952,
          3.6123492126496446,
          4.507412481121622,
          5.114429848731505,
          3.4836761726253216,
          3.0446597814777134,
          0.5934241994420296,
          1.5123798576216831,
          3.710628261561916,
          0.6685286397998169,
          1.1766041340505606,
          5.364905067978208,
          3.9438097867324275,
          5.230664494938542,
          4.02273537050879,
          5.006201341102266,
          2.884340098889671,
          0.501682728571793,
          -0.29211930518515117,
          5.432531185745807,
          5.066242525215664,
          5.519676611570667,
          3.731616881801761,
          2.8307123200466062,
          4.3742132017238,
          4.185797153725112,
          2.384661246949927,
          4.698829961724799,
          3.929995446182427,
          3.929995446182427,
          3.929995446182427,
          3.929995446182427,
          3.929995446182427,
          3.929995446182427,
          5.220508495395297,
          3.5329920089228852,
          4.804777031654606,
          3.829042687213144,
          5.718111059841505,
          5.484576215117563,
          5.2879218649501905,
          5.017614406383119,
          1.342266802906622,
          1.342266802906622,
          4.328491839465725,
          4.328491839465725,
          4.328491839465725,
          4.328491839465725,
          3.9356591462499946,
          1.778969920563177,
          4.477990138512587,
          5.6750759569994935,
          5.526225341284728,
          5.265173055881339,
          5.099805256950033,
          4.3801955129812455,
          3.1071649850731013,
          0.6321043381349842,
          4.129435723477058,
          3.96857563481067,
          4.598673368404444,
          5.39853448719333,
          5.210490051691673,
          3.11783354669051,
          5.731312151851518,
          5.3331788454198135,
          2.5435369207154537,
          5.2926404113280405,
          5.49333756109204,
          5.565435137692021,
          5.12546439911996,
          1.950531469374892,
          4.6406736415438345,
          5.003695534788378,
          5.003695534788378,
          5.078807717869153,
          5.0889962564355615,
          3.303594132389555,
          5.402561758379413,
          3.8428316480820994,
          4.779693900814412,
          2.7811701434020546,
          4.4997960064100555,
          3.956873894144973,
          2.612944914737129,
          1.6401823901770827,
          2.888090050316758,
          5.415653055360651,
          2.0434014211687828,
          4.45080860830071,
          4.849367575728937,
          4.76059445432188,
          1.4868810793901912,
          1.4868810793901912,
          3.2367838472727444,
          4.262078829446076,
          4.54848769539544,
          4.2764868193365375,
          0.0015653756258793895,
          5.8657828763740945,
          5.471118305551617,
          3.7400885311572725,
          4.759239256014758,
          3.427157089838645,
          5.443639880105011,
          5.004415982142547,
          -0.4591340482920444
         ],
         "y": [
          -0.16877905704419705,
          -0.4941908293043193,
          1.892773930677559,
          1.2418693972523607,
          -0.9170205402466695,
          -0.4487021003576981,
          -0.4487021003576981,
          1.6183128369338318,
          0.8129055809446604,
          -0.7216136143327788,
          -0.7216136143327788,
          1.4229301204759401,
          1.792287713789112,
          -0.3187863635094991,
          1.3997773997472496,
          -1.2616287301342197,
          -1.131147511756538,
          -1.131147511756538,
          1.9811150720158963,
          -0.10602138964078793,
          0.30715371513250406,
          -1.1544379988595717,
          -1.1544379988595717,
          1.3986763940140148,
          0.8482685543823265,
          1.2731686644943814,
          -0.2741432646298538,
          -0.3957522988255501,
          1.0265386570254749,
          1.6177298210547362,
          -0.28408777387269357,
          -0.22554020150285023,
          1.6092604381054167,
          1.6092604381054167,
          1.885959913727498,
          1.151845611583541,
          0.1868574452764292,
          0.5300149770425603,
          0.5500986595853263,
          -0.9329833462060989,
          1.6996996704670515,
          2.0505356180448713,
          1.4555991160580826,
          0.20506462004852546,
          -0.7335177987841611,
          1.1983708410610117,
          1.3703683691293582,
          0.8696341259230435,
          0.789484214385753,
          0.789484214385753,
          1.7202548083466735,
          1.8711761961834519,
          0.260356364045915,
          0.8213878048558138,
          1.315013412491369,
          0.5992340188990076,
          0.08182527084984328,
          1.775222688997639,
          -0.716064656679107,
          0.1742228060592903,
          1.1616841652565613,
          1.4603862892926918,
          1.0698879840091653,
          0.7807676382520428,
          0.6841265723027107,
          -0.7399911986714616,
          1.6718872081057634,
          -0.016987062509871913,
          1.7440031921255703,
          1.3592475885762068,
          1.6672585455006967,
          1.5489292637982026,
          1.4083924503347705,
          1.8687586025927283,
          1.4381505020187662,
          1.9731162973195728,
          1.2155127817415368,
          0.923994610022123,
          -1.0175369571972668,
          1.5090689242275233,
          1.7569512723074776,
          1.5783702516133225,
          1.327198712834133,
          1.1498727026107658,
          1.3077549830574737,
          0.7305360891826957,
          0.4679338016548881,
          0.1509771333373057,
          0.153627138522864,
          1.8821079891272257,
          1.389970143161689,
          0.7971487866558775,
          -0.2564116286663222,
          0.2887787271284218,
          1.694507115311845,
          0.6485397603862759,
          0.5085811276043264,
          1.744887173987127,
          0.22502439358601947,
          1.0980675760839658,
          -0.5069533070988024,
          1.8850360733256972,
          0.8811992575724104,
          1.501581477521073,
          1.7152557274306202,
          0.6804214019860272,
          0.45164717524964093,
          -1.017393922437947,
          -0.057173010095485366,
          0.8434281009418894,
          -0.684038344331945,
          -0.3530610233452935,
          1.7805930955835294,
          0.9800424594335645,
          1.8216579864459417,
          1.2721170456762039,
          1.5789379896060858,
          0.5092856405909878,
          -0.9078972726807202,
          -1.510105773205241,
          1.9062812273974965,
          1.8150304589456225,
          1.8937656677116361,
          0.7627785499238009,
          0.6651322315468519,
          1.2522482704355014,
          0.9428767053418388,
          0.42394432733813414,
          1.6077752531049088,
          1.191031062531925,
          1.191031062531925,
          1.191031062531925,
          1.191031062531925,
          1.191031062531925,
          1.191031062531925,
          1.851266612575681,
          0.9479794049455569,
          1.5432254401419334,
          0.9539228608019167,
          2.0868738783859793,
          1.9254315482362736,
          1.9296528210006367,
          1.5840080237962826,
          -0.5050998590680609,
          -0.5050998590680609,
          1.0074185300671572,
          1.0074185300671572,
          1.0074185300671572,
          1.0074185300671572,
          1.2029856282706644,
          -0.39725767965996406,
          1.4881869164223485,
          1.9143268138310874,
          1.898224783191009,
          1.6229918900325082,
          1.6354812274179507,
          1.313828455094768,
          0.6962445037714339,
          -0.8634465205339809,
          1.1920749422606878,
          1.035805251952468,
          1.610380946710097,
          1.9212916886096296,
          1.8727354027537515,
          0.5839687784567399,
          2.0137449513319905,
          1.7823866027006816,
          0.3989831949429801,
          1.8176987500030006,
          1.921252326121256,
          2.023731952955005,
          1.6389213602187813,
          -0.0032556644278478055,
          1.5668940322023417,
          1.7595444102620263,
          1.7595444102620263,
          1.6886581725370295,
          1.791019246642402,
          0.8438533249679162,
          1.8110580696258016,
          1.2032410895325227,
          1.6488346724825012,
          0.5634027737354143,
          1.3971632371545697,
          1.0068980537153025,
          0.2077297577261043,
          -0.4082924425094373,
          0.6338313457646458,
          1.7638449751301002,
          0.2706185553200755,
          1.3043057652453085,
          1.6151509191979607,
          1.5602077812161192,
          -0.34442976207575654,
          -0.34442976207575654,
          0.5544177826318721,
          1.2250068418113234,
          1.4599388805571194,
          1.218692984678819,
          -0.6791668646431223,
          2.149232236565569,
          2.024299258563989,
          0.8711906860724414,
          1.306403923339775,
          0.5306494358133764,
          1.9921710151410748,
          1.6372117977657483,
          -1.4320473259074549
         ],
         "z": [
          -0.6262199455778809,
          0.28981160721449806,
          -0.1769712574406733,
          0.14027055247840695,
          -0.5410898191141486,
          -0.561063291624412,
          -0.561063291624412,
          -0.7660227219463166,
          0.2536645263680117,
          0.5219465896195103,
          0.5219465896195103,
          -0.1773593881024962,
          -1.0435446227796152,
          0.22132388690150853,
          -0.5407903873967681,
          0.6386125370869036,
          0.003021880605267645,
          0.003021880605267645,
          -1.5704366652236077,
          1.6179482511689205,
          -0.9916761757549526,
          0.6416877056571859,
          0.6416877056571859,
          0.10817302633346623,
          -1.2115347892744857,
          -0.803292797884611,
          0.8121750547504761,
          1.560778763501665,
          -1.0566294203551754,
          -0.4128496343319597,
          1.6346696184836245,
          0.6648195709729012,
          -1.1011589184800867,
          -1.1011589184800867,
          -1.168810417859003,
          0.41445168012268274,
          1.2466366248626382,
          1.303025181703962,
          0.002140897855090771,
          0.3446090921619618,
          -1.3822209612622698,
          -1.1669970873773925,
          0.296171397181865,
          -1.087546333615531,
          0.6755595671119957,
          -0.8570948380337942,
          -0.8664125408704206,
          0.7760622248640321,
          0.31217936707472854,
          0.31217936707472854,
          -1.1128734485041838,
          -1.2321875905566428,
          1.047038369294267,
          0.04079320416392052,
          -0.7759210115079694,
          -0.6047943286276888,
          -0.4074370573022331,
          -0.8428639045260927,
          1.7992280176010638,
          1.27869749504943,
          0.15386454086847712,
          0.13424270834678667,
          -1.0248004333030654,
          -0.27619892586425443,
          -0.7956286384291724,
          1.6789375494869225,
          -0.46454256271538363,
          -0.6278274905679962,
          -0.501846685713518,
          -1.4144731049972088,
          -1.3731316658466906,
          0.12121455577830674,
          -1.5621485102078154,
          -0.9002158731819908,
          0.08383866460905556,
          -1.3779580549774992,
          -0.8380047567240153,
          -0.9076610389497736,
          -0.049338638454314486,
          0.2796928524654682,
          -0.21829293241797904,
          -1.2632482740666047,
          0.4085234887305186,
          -0.6022842721951868,
          0.5551511524974203,
          0.847300610131269,
          0.46961081210021666,
          0.2252285257483644,
          -0.28211042608517856,
          -0.7066353121017277,
          0.3153083511734502,
          0.6230942060176283,
          0.5214706885573133,
          0.8054361507589693,
          -1.4509100017283765,
          -0.02564987049569137,
          -0.38041484769353084,
          -0.30280924854101193,
          -0.18258879504478778,
          -0.8846963895164602,
          0.019839921175596915,
          -1.1667288617265137,
          0.09935257751525456,
          0.11537599161825009,
          -1.0128002725190468,
          -0.12460542168768184,
          -0.590529490472125,
          -0.07532466340744239,
          0.04770343984526339,
          -0.28538023895158643,
          1.144034294898798,
          0.877498346950375,
          -1.2578690648898263,
          -1.3927338722726947,
          -1.0415855524457238,
          0.42533491426514636,
          -1.4192768346241809,
          0.4875226867547535,
          0.9643642731407103,
          -0.12686322162039387,
          -0.8084149956929203,
          -0.8236694005680902,
          -1.19454048033141,
          -1.0312308749784684,
          0.901424681896769,
          -1.245759528782862,
          -1.6698929750736118,
          1.339094171793591,
          -0.9681261605496313,
          0.4194931411151731,
          0.4194931411151731,
          0.4194931411151731,
          0.4194931411151731,
          0.4194931411151731,
          0.4194931411151731,
          -0.5672697026602367,
          0.34628292124624793,
          -1.4285167341473275,
          -0.9509287790441674,
          -1.1044650645745737,
          -1.0612145017407444,
          -0.32826029251763106,
          -1.5102822003342236,
          -0.6143026664039185,
          -0.6143026664039185,
          -1.596012324467985,
          -1.596012324467985,
          -1.596012324467985,
          -1.596012324467985,
          0.02560199386341924,
          -0.2601224512770887,
          0.1269859192054475,
          -0.9176724508709059,
          -1.1967185045996853,
          -1.2627463920444124,
          -1.1192597018153845,
          -0.8648706543391146,
          0.6386591595865821,
          -0.3887827848771024,
          -0.08755084932320441,
          -0.11793963890952139,
          0.19773304002681022,
          -1.1338071866628965,
          -0.26194373258532055,
          -0.5754451078896876,
          -1.311466837542959,
          -1.1388938902932886,
          0.771138491628318,
          -1.2276437105786908,
          -1.0654060140164272,
          -1.0136755668045554,
          -0.9919155984173967,
          0.4787647795031393,
          -0.03531511191895719,
          -0.07880759009743231,
          -0.07880759009743231,
          -0.46176253485891616,
          -0.24785238447621766,
          0.7248150918006644,
          -1.3780652641746245,
          0.5008528742381356,
          -0.09946719500426483,
          0.842712312764414,
          -0.2244436663210418,
          -0.8307533010668372,
          -0.3655112736540197,
          -0.5779094298285451,
          0.5954672994479215,
          -1.276375339935941,
          1.4945525442885372,
          -1.0217084449333005,
          -0.9117407347888524,
          -0.8498383083090953,
          -0.15606731239384547,
          -0.15606731239384547,
          0.06738389823157277,
          -0.7399595989170845,
          -0.7436926122044525,
          -0.8118983484641362,
          0.3670242097982399,
          -1.2701452572383078,
          -0.8289549323264629,
          -1.5377603457169042,
          -1.3525694574831144,
          -0.9301734090133033,
          -1.0760531456891171,
          -0.7093764240251538,
          0.2761233447232202
         ]
        },
        {
         "customdata": [
          [
           "Real Estate Investment Trusts"
          ],
          [
           "Real Estate Investment Trusts"
          ],
          [
           "Real Estate Investment Trusts"
          ],
          [
           "Real Estate Investment Trusts"
          ],
          [
           "Real Estate Investment Trusts"
          ],
          [
           "Real Estate Investment Trusts"
          ],
          [
           "Real Estate Investment Trusts"
          ],
          [
           "Real Estate Investment Trusts"
          ],
          [
           "Real Estate Investment Trusts"
          ],
          [
           "Real Estate Investment Trusts"
          ],
          [
           "Real Estate Investment Trusts"
          ],
          [
           "Real Estate Investment Trusts"
          ],
          [
           "Real Estate Investment Trusts"
          ],
          [
           "Real Estate Investment Trusts"
          ],
          [
           "Real Estate Investment Trusts"
          ],
          [
           "Real Estate Investment Trusts"
          ],
          [
           "Real Estate Investment Trusts"
          ],
          [
           "Real Estate Investment Trusts"
          ],
          [
           "Real Estate Investment Trusts"
          ],
          [
           "Real Estate Investment Trusts"
          ],
          [
           "Real Estate Investment Trusts"
          ],
          [
           "Real Estate Investment Trusts"
          ],
          [
           "Real Estate Investment Trusts"
          ],
          [
           "Real Estate Investment Trusts"
          ],
          [
           "Real Estate Investment Trusts"
          ],
          [
           "Real Estate Investment Trusts"
          ],
          [
           "Real Estate Investment Trusts"
          ],
          [
           "Real Estate Investment Trusts"
          ],
          [
           "Real Estate Investment Trusts"
          ],
          [
           "Real Estate Investment Trusts"
          ],
          [
           "Real Estate Investment Trusts"
          ],
          [
           "Real Estate Investment Trusts"
          ],
          [
           "Real Estate Investment Trusts"
          ],
          [
           "Real Estate Investment Trusts"
          ],
          [
           "Real Estate Investment Trusts"
          ],
          [
           "Real Estate Investment Trusts"
          ],
          [
           "Real Estate Investment Trusts"
          ],
          [
           "Real Estate Investment Trusts"
          ],
          [
           "Real Estate Investment Trusts"
          ],
          [
           "Real Estate Investment Trusts"
          ],
          [
           "Real Estate Investment Trusts"
          ],
          [
           "Real Estate Investment Trusts"
          ],
          [
           "Real Estate Investment Trusts"
          ],
          [
           "Real Estate Investment Trusts"
          ],
          [
           "Real Estate Investment Trusts"
          ],
          [
           "Real Estate Investment Trusts"
          ],
          [
           "Real Estate Investment Trusts"
          ],
          [
           "Real Estate Investment Trusts"
          ],
          [
           "Real Estate Investment Trusts"
          ],
          [
           "Real Estate Investment Trusts"
          ],
          [
           "Real Estate Investment Trusts"
          ],
          [
           "Real Estate Investment Trusts"
          ],
          [
           "Real Estate Investment Trusts"
          ],
          [
           "Real Estate Investment Trusts"
          ],
          [
           "Real Estate Investment Trusts"
          ],
          [
           "Real Estate Investment Trusts"
          ],
          [
           "Real Estate Investment Trusts"
          ],
          [
           "Real Estate Investment Trusts"
          ],
          [
           "Real Estate Investment Trusts"
          ],
          [
           "Real Estate Investment Trusts"
          ],
          [
           "Real Estate Investment Trusts"
          ],
          [
           "Real Estate Investment Trusts"
          ],
          [
           "Real Estate Investment Trusts"
          ],
          [
           "Real Estate Investment Trusts"
          ],
          [
           "Real Estate Investment Trusts"
          ],
          [
           "Real Estate Investment Trusts"
          ],
          [
           "Real Estate Investment Trusts"
          ],
          [
           "Real Estate Investment Trusts"
          ],
          [
           "Real Estate Investment Trusts"
          ],
          [
           "Real Estate Investment Trusts"
          ],
          [
           "Real Estate Investment Trusts"
          ],
          [
           "Real Estate Investment Trusts"
          ],
          [
           "Real Estate Investment Trusts"
          ],
          [
           "Real Estate Investment Trusts"
          ],
          [
           "Real Estate Investment Trusts"
          ],
          [
           "Real Estate Investment Trusts"
          ],
          [
           "Real Estate Investment Trusts"
          ],
          [
           "Real Estate Investment Trusts"
          ],
          [
           "Real Estate Investment Trusts"
          ],
          [
           "Real Estate Investment Trusts"
          ],
          [
           "Real Estate Investment Trusts"
          ],
          [
           "Real Estate Investment Trusts"
          ],
          [
           "Real Estate Investment Trusts"
          ],
          [
           "Real Estate Investment Trusts"
          ],
          [
           "Real Estate Investment Trusts"
          ],
          [
           "Real Estate Investment Trusts"
          ],
          [
           "Real Estate Investment Trusts"
          ],
          [
           "Real Estate Investment Trusts"
          ],
          [
           "Real Estate Investment Trusts"
          ],
          [
           "Real Estate Investment Trusts"
          ],
          [
           "Real Estate Investment Trusts"
          ],
          [
           "Real Estate Investment Trusts"
          ],
          [
           "Real Estate Investment Trusts"
          ],
          [
           "Real Estate Investment Trusts"
          ],
          [
           "Real Estate Investment Trusts"
          ],
          [
           "Real Estate Investment Trusts"
          ],
          [
           "Real Estate Investment Trusts"
          ],
          [
           "Real Estate Investment Trusts"
          ],
          [
           "Real Estate Investment Trusts"
          ],
          [
           "Real Estate Investment Trusts"
          ],
          [
           "Real Estate Investment Trusts"
          ],
          [
           "Real Estate Investment Trusts"
          ],
          [
           "Real Estate Investment Trusts"
          ],
          [
           "Real Estate Investment Trusts"
          ],
          [
           "Real Estate Investment Trusts"
          ],
          [
           "Real Estate Investment Trusts"
          ],
          [
           "Real Estate Investment Trusts"
          ],
          [
           "Real Estate Investment Trusts"
          ],
          [
           "Real Estate Investment Trusts"
          ],
          [
           "Real Estate Investment Trusts"
          ],
          [
           "Real Estate Investment Trusts"
          ],
          [
           "Real Estate Investment Trusts"
          ],
          [
           "Real Estate Investment Trusts"
          ],
          [
           "Real Estate Investment Trusts"
          ],
          [
           "Real Estate Investment Trusts"
          ],
          [
           "Real Estate Investment Trusts"
          ],
          [
           "Real Estate Investment Trusts"
          ],
          [
           "Real Estate Investment Trusts"
          ],
          [
           "Real Estate Investment Trusts"
          ],
          [
           "Real Estate Investment Trusts"
          ],
          [
           "Real Estate Investment Trusts"
          ],
          [
           "Real Estate Investment Trusts"
          ],
          [
           "Real Estate Investment Trusts"
          ],
          [
           "Real Estate Investment Trusts"
          ],
          [
           "Real Estate Investment Trusts"
          ],
          [
           "Real Estate Investment Trusts"
          ],
          [
           "Real Estate Investment Trusts"
          ],
          [
           "Real Estate Investment Trusts"
          ],
          [
           "Real Estate Investment Trusts"
          ],
          [
           "Real Estate Investment Trusts"
          ],
          [
           "Real Estate Investment Trusts"
          ],
          [
           "Real Estate Investment Trusts"
          ],
          [
           "Real Estate Investment Trusts"
          ],
          [
           "Real Estate Investment Trusts"
          ],
          [
           "Real Estate Investment Trusts"
          ],
          [
           "Real Estate Investment Trusts"
          ],
          [
           "Real Estate Investment Trusts"
          ],
          [
           "Real Estate Investment Trusts"
          ],
          [
           "Real Estate Investment Trusts"
          ],
          [
           "Real Estate Investment Trusts"
          ],
          [
           "Real Estate Investment Trusts"
          ],
          [
           "Real Estate Investment Trusts"
          ],
          [
           "Real Estate Investment Trusts"
          ],
          [
           "Real Estate Investment Trusts"
          ],
          [
           "Real Estate Investment Trusts"
          ],
          [
           "Real Estate Investment Trusts"
          ],
          [
           "Real Estate Investment Trusts"
          ],
          [
           "Real Estate Investment Trusts"
          ],
          [
           "Real Estate Investment Trusts"
          ],
          [
           "Real Estate Investment Trusts"
          ],
          [
           "Real Estate Investment Trusts"
          ],
          [
           "Real Estate Investment Trusts"
          ],
          [
           "Real Estate Investment Trusts"
          ],
          [
           "Real Estate Investment Trusts"
          ],
          [
           "Real Estate Investment Trusts"
          ],
          [
           "Real Estate Investment Trusts"
          ],
          [
           "Real Estate Investment Trusts"
          ],
          [
           "Real Estate Investment Trusts"
          ],
          [
           "Real Estate Investment Trusts"
          ],
          [
           "Real Estate Investment Trusts"
          ],
          [
           "Real Estate Investment Trusts"
          ],
          [
           "Real Estate Investment Trusts"
          ],
          [
           "Real Estate Investment Trusts"
          ],
          [
           "Real Estate Investment Trusts"
          ],
          [
           "Real Estate Investment Trusts"
          ],
          [
           "Real Estate Investment Trusts"
          ],
          [
           "Real Estate Investment Trusts"
          ],
          [
           "Real Estate Investment Trusts"
          ],
          [
           "Real Estate Investment Trusts"
          ],
          [
           "Real Estate Investment Trusts"
          ],
          [
           "Real Estate Investment Trusts"
          ],
          [
           "Real Estate Investment Trusts"
          ],
          [
           "Real Estate Investment Trusts"
          ],
          [
           "Real Estate Investment Trusts"
          ],
          [
           "Real Estate Investment Trusts"
          ],
          [
           "Real Estate Investment Trusts"
          ],
          [
           "Real Estate Investment Trusts"
          ],
          [
           "Real Estate Investment Trusts"
          ],
          [
           "Real Estate Investment Trusts"
          ],
          [
           "Real Estate Investment Trusts"
          ],
          [
           "Real Estate Investment Trusts"
          ],
          [
           "Real Estate Investment Trusts"
          ],
          [
           "Real Estate Investment Trusts"
          ],
          [
           "Real Estate Investment Trusts"
          ],
          [
           "Real Estate Investment Trusts"
          ],
          [
           "Real Estate Investment Trusts"
          ],
          [
           "Real Estate Investment Trusts"
          ],
          [
           "Real Estate Investment Trusts"
          ],
          [
           "Real Estate Investment Trusts"
          ],
          [
           "Real Estate Investment Trusts"
          ],
          [
           "Real Estate Investment Trusts"
          ]
         ],
         "hovertemplate": "SIC=Real Estate Investment Trusts<br>0=%{x}<br>1=%{y}<br>2=%{z}<br>name=%{customdata[0]}<extra></extra>",
         "legendgroup": "Real Estate Investment Trusts",
         "marker": {
          "color": "#ab63fa",
          "symbol": "circle"
         },
         "mode": "markers",
         "name": "Real Estate Investment Trusts",
         "scene": "scene",
         "showlegend": true,
         "type": "scatter3d",
         "x": [
          -1.9422746133043793,
          -1.5528748687666687,
          -1.6701301272280042,
          -1.5521577710041787,
          -1.5521577710041787,
          -2.304062101894386,
          -2.304062101894386,
          -1.772006521337941,
          -1.8396780241278934,
          -1.1684284079654639,
          -2.323978747436551,
          -0.12886668328603393,
          -1.748248133963038,
          -1.726264787564089,
          -1.337494744483605,
          -0.07766674207577874,
          -1.5549390872976911,
          -1.4045462908136679,
          -1.9855835427176178,
          -2.781668681083865,
          -0.7182570482601416,
          -2.1040976531916837,
          -2.7993718937731282,
          -1.692434970058155,
          -1.6549824071176842,
          -0.21590618479935084,
          -2.8324219687760874,
          -2.3154851890760306,
          -1.9500663279389514,
          -1.2657694863033586,
          -0.9171584520856154,
          -0.6028196970002656,
          -1.3845962634899813,
          -2.065628958284691,
          -0.8890035786309421,
          -2.4978434271699337,
          -1.4145449305606013,
          -1.3449839047710386,
          -0.488516936176841,
          -2.14564638883138,
          -2.6052598175664334,
          -1.997122259451111,
          -0.8776339802829,
          -2.058250564940226,
          -1.9326064790749593,
          -2.507770322359345,
          -0.31547236610649315,
          -3.073168525631264,
          -0.3342436376140775,
          -2.482141574031453,
          -2.265291544977026,
          -1.684830520233409,
          -1.483340350510655,
          -0.31547236610649315,
          -1.9934325526589982,
          -1.6574768197675094,
          -2.022815667869913,
          -1.5781427592804507,
          -1.3902459747414808,
          -1.4332913646152887,
          -2.469019082322508,
          -0.9740004601246406,
          -2.433691240927694,
          -1.0563086399372688,
          -2.6850169913667097,
          -1.3063072960089939,
          -1.7955952633938133,
          -2.1067822799896727,
          -0.9960158052104786,
          -0.3154723661064932,
          -2.219334461418313,
          -2.3670782413145712,
          -2.278487894943387,
          -2.1340266565192803,
          -1.1483304168986534,
          -2.239155099625544,
          -1.8387101729691244,
          -1.5646979865689323,
          -1.755589501775618,
          -0.17423475660105006,
          -1.3521529087454405,
          -1.790667824042406,
          -2.0315909088277535,
          0.07877619952686118,
          -0.8424253573024373,
          -1.7315632688479092,
          -1.8399326003014158,
          -1.9625616449639967,
          -1.1650655396882406,
          -1.7136943131316273,
          -2.4872281559364686,
          -0.31547236610649315,
          -1.4434866451209158,
          -2.9094545050598923,
          -0.23884176699288232,
          -2.091447819308088,
          -1.0931178943118465,
          -0.6035298352281249,
          -1.434384702211297,
          -1.5036319454860796,
          -1.3899522793638248,
          -1.2232640029046005,
          -2.722248475937275,
          -2.088577010679124,
          -1.6113143722583685,
          -1.2210942668476066,
          -2.5306573165210127,
          -1.359073786979557,
          -0.9592746393009481,
          -0.5794542378182809,
          -0.8399238796111952,
          -1.6921723112402651,
          -2.3343224978609607,
          -0.8370529260138077,
          -0.6028650938884595,
          -2.477122113771869,
          -0.2001227655068818,
          -1.8451010213316779,
          -2.0550406774090115,
          -1.110071803346205,
          -0.4286014950476482,
          -1.6466319107640166,
          -2.220042949341092,
          -0.5721722346055405,
          -1.8883292254444881,
          -1.857703607693063,
          -2.552878533632181,
          -1.5528325830507184,
          -1.4501540964014115,
          -0.6631894908755847,
          -1.6347168366419003,
          -0.9706625191515992,
          -1.3331722608392071,
          -1.5623327794525361,
          -2.294581997544781,
          -0.6221622836983567,
          -2.3356215278343777,
          -1.76780697718598,
          -1.7069041856253557,
          -0.40401309559774123,
          -2.1468024337863483,
          -2.4695264936528574,
          -0.8324071167746513,
          -2.5535359213880433,
          -0.9020117762271364,
          -2.5931875295910585,
          -0.7249444941420066,
          -2.6707477289918917,
          -2.508001643895564,
          -2.2972571998014817,
          -2.2972571998014817,
          -2.6554229346066727,
          -2.754317805457098,
          -0.8190191306218191,
          -1.9392053299592356,
          -0.3145520060254937,
          -2.586651946659614,
          -2.812388631365952,
          -2.3778210647278315,
          -2.3427489860947013,
          -1.7503281808321605,
          -0.33287191553217116,
          -2.4668281176516653,
          -2.16499794560943,
          -0.7967544897335814,
          -0.6390980555843849,
          -1.9662650110668314,
          -1.3124357401998403,
          -2.164866550724044,
          -2.678187978198264,
          -2.411965885785799,
          -1.8776891791224066,
          -2.214915524917549,
          -2.023784668253832,
          -1.8201585080166338,
          -2.2692691285989715,
          -1.8360998549848933,
          -0.9644339806143017,
          -1.2926483685767254,
          -0.37911486374711634,
          -2.5684905698897036,
          -2.0543938411449956,
          -1.3021480563862493,
          -0.5924972160559084,
          -1.1639176839662089,
          -2.5450232612435877,
          -0.612776762570669,
          -2.237127657772859,
          -2.6656301678596686,
          -1.10166116192255,
          0.060492076295895314
         ],
         "y": [
          -2.1174304895647404,
          -1.8713219802036114,
          -1.9877765924580018,
          -1.2298713037315008,
          -1.2298713037315008,
          -2.1725392234242884,
          -2.1725392234242884,
          -2.2919621672175707,
          -2.12536779122547,
          -2.1456808779869645,
          -2.4343551903315794,
          -1.1495601944760199,
          -2.1776717308632776,
          -2.4180598929781136,
          -1.994712106454227,
          -1.0423589929908699,
          -0.951410106347715,
          -2.0707027087174152,
          -2.1443168634984637,
          -2.23971728425036,
          -1.497045885242628,
          -2.1181118220349986,
          -2.337554045970564,
          -1.2966395767481838,
          -2.050534576293007,
          -1.157418251790713,
          -1.017586614746603,
          -2.493398160327004,
          -2.364776670166183,
          -2.1484759537169658,
          -1.979335033808977,
          -1.3839415702765394,
          -1.7692868329475084,
          -1.7387531857533092,
          -1.708070762261027,
          -2.408915686505884,
          -1.8832507114819446,
          -1.9355128277548486,
          -1.7282658674193099,
          -1.9938235651805674,
          -2.337966193012762,
          -1.9867881549107422,
          -1.7928414855109318,
          -2.0787180155566487,
          -2.515018830704512,
          -2.6591858973465077,
          -0.5914040973371353,
          -1.9317567321809255,
          -1.4431206992705543,
          -2.334701616346205,
          -1.2496102568290834,
          -2.3326668258005623,
          -1.320910349571577,
          -0.5914040973371353,
          -2.390379471884166,
          -1.9336980759660858,
          -2.339368361607603,
          -1.7063049324385924,
          -2.0209367846155812,
          -1.6844870017060043,
          -2.115142955996077,
          -1.6638530481909053,
          -1.2471627972773123,
          -1.7863360295553852,
          -2.366542808020539,
          -1.6489035911405203,
          -0.594701044181359,
          -1.4143211975667234,
          -1.7488115568149498,
          -0.5914040973371353,
          -2.0648404731002037,
          -2.3640480577646903,
          -1.7638068833937037,
          -2.322853193544355,
          -1.4515483086113048,
          -1.902374831606701,
          -2.1572978127398823,
          -1.3665667260041392,
          -2.306288767898911,
          -1.2110551754098224,
          -2.0992366106142,
          -2.2323268291899954,
          -2.257032291389081,
          -1.1366130795952156,
          -1.8740392324197614,
          -2.2230199535624156,
          -2.210426587988966,
          -2.0579540983805553,
          -2.1563993269342516,
          -1.879687775143382,
          -1.3186039963389513,
          -0.5914040973371353,
          -1.9622819700903584,
          -1.683783149197993,
          -1.161052902168597,
          -1.7937852043721638,
          -1.739892928489708,
          -1.7570190625398563,
          -2.3039380545232424,
          -2.2894900898024297,
          -1.7920760561060172,
          -2.0009926737953285,
          -1.7379575604307984,
          -1.92327885671456,
          -2.206949172133774,
          -1.7823420952078437,
          -2.288783583007229,
          -2.2731903608478166,
          -1.7333805074714586,
          -1.0870872063906816,
          -2.0298688683682924,
          -2.199343219930845,
          -1.8733793540742056,
          -1.7252309799525611,
          -1.4184196172061199,
          -2.4702243869950085,
          -1.174440193134105,
          -1.8846716337952085,
          -2.4634230678347713,
          -1.8739761576906726,
          -1.2551765054057198,
          -2.097805467678647,
          -2.1680516539535306,
          -0.9024098515612451,
          -1.7319811775218537,
          -2.3022298240795545,
          -2.3710450628480286,
          -1.1647087250423438,
          -1.889868770212492,
          -1.6443736547833874,
          -2.1538265257495643,
          -1.4757326346212407,
          -1.8150860028299833,
          -1.949657995558825,
          -2.473540781962603,
          -1.9275856244974097,
          -1.9563444814921573,
          -1.7358215040094163,
          -0.9167534483970871,
          -1.2154644648100605,
          -2.549746440066059,
          -2.4810498972816957,
          -1.4608069465473899,
          -1.2203402402528643,
          -1.7834663220051663,
          -2.1867982311214282,
          -1.6210743693160723,
          -1.72698055747379,
          -2.4384535786413593,
          -2.414924118590305,
          -2.414924118590305,
          -2.426323107922496,
          -2.2937794553579094,
          -1.7604736608972646,
          -1.6656136861594355,
          -0.8365241804787278,
          -2.463066054928145,
          -1.629888379869895,
          -2.400071472419552,
          -1.2177523735780784,
          -1.8791686501840328,
          -1.4693998087898317,
          -1.4937916378505156,
          -1.7110233272115174,
          -1.3190792805867328,
          -1.5938355855190123,
          -2.403045548110458,
          -2.2769089050108384,
          -2.411866700356036,
          -2.330526619658264,
          -2.191963901863839,
          -2.3919958663985863,
          -2.646210238561045,
          -2.0573771842990043,
          -1.9594918856705588,
          -1.7692802567183272,
          -1.8275464155547658,
          -2.0271725036858554,
          -1.9323195376604718,
          -1.210316720076166,
          -1.6959349540309565,
          -2.27920183404755,
          -1.6706973430473153,
          -1.746978591277423,
          -2.2147181038870927,
          -2.4438557296444796,
          -1.716165515755942,
          -2.0976315416530915,
          -2.328698418308598,
          -2.2483714323895,
          -0.8988746105567803
         ],
         "z": [
          -1.5501162542852105,
          -0.6988069843162584,
          -1.1870075801583553,
          -0.20848391873009192,
          -0.20848391873009192,
          -1.9685848890199402,
          -1.9685848890199402,
          -2.180293151385511,
          -1.478392888525102,
          -1.529287708159874,
          -2.4876005024424903,
          1.424683740575959,
          -1.4764522327675191,
          -1.7868341697651897,
          -0.8990225583828724,
          1.4221313179189567,
          -0.3392037367722433,
          -0.6567310966998432,
          -1.591918078154965,
          -2.548234172505342,
          -1.5319483827332012,
          -1.766197974616793,
          -2.650834380517132,
          -0.7199157725570415,
          -2.0135459056464393,
          0.5734595930659165,
          -1.5472439466623706,
          -2.2098359427767362,
          -2.0212531521966386,
          -0.5896534784711818,
          -1.5314169890361076,
          0.25255760417618783,
          -1.0062706438567282,
          -1.8843114338238203,
          -1.2084803236692854,
          -2.511491986959928,
          -1.5151158150089843,
          -1.666248095969796,
          -1.0877090738128345,
          -1.7608032661748414,
          -2.782978572786245,
          -1.21965736207196,
          -1.2805617522603903,
          -1.668383303428933,
          -1.5618877371433415,
          -2.754681421670331,
          1.9603244549503716,
          -2.539859817249535,
          -0.4901755130172678,
          -2.1197375784396275,
          -1.2268388631919467,
          -1.8395079384080402,
          -0.3570549241112086,
          1.9603244549503716,
          -2.272472666047999,
          -1.6616456710998782,
          -2.3210981560412627,
          -0.5610010064741606,
          -0.9468615421260862,
          -0.5378183572021314,
          -1.7159629805277914,
          -0.5216226240798392,
          -1.293294710059808,
          -0.42141030155978176,
          -2.8736061459013142,
          -1.1258457207665193,
          -0.04480609936128517,
          -1.2059618656194553,
          -0.24972691899938632,
          1.9603244549503716,
          -2.642824329975838,
          -2.274224518609971,
          -2.0293963146566125,
          -1.9278540061799256,
          -1.0018299670652495,
          -1.4970486038032031,
          -1.5948238716497962,
          -0.6049185976378947,
          -1.6157319956706993,
          0.6486566081145954,
          -2.0405291176366003,
          -1.2091470399236943,
          -1.86292361202357,
          -0.39665920932164966,
          -0.5890152154963392,
          -1.5646355859123857,
          -1.7111652224677565,
          -1.8178737576446267,
          -0.8235306423351606,
          -0.7113459805638994,
          -1.5524250057466351,
          1.9603244549503716,
          -1.5027178305447222,
          -2.0061925403182594,
          1.2212216280739159,
          -2.2361077696925817,
          -1.467390210709616,
          -0.23741155556071944,
          -1.339250987235137,
          -1.291197911467269,
          -1.0050666659757828,
          -0.7554050323994173,
          -2.403032172906793,
          -1.1068315819212413,
          -2.159957214812358,
          -0.5234843962822874,
          -2.3602818093373834,
          -1.6644422651402948,
          -0.37728273334699375,
          0.00793576039292819,
          -1.1502500899344203,
          -1.745107642150859,
          -1.9052403424502498,
          -0.44548144374664983,
          -0.30844913680544733,
          -2.4866320037009904,
          1.329222802227525,
          -1.0189088757134115,
          -2.6299320651076186,
          -0.9831580230270477,
          0.1560519741653289,
          -1.0294496498995935,
          -2.013951162529786,
          1.3144042540597924,
          -1.0666107478969655,
          -1.551202437036159,
          -2.2950230349908884,
          -0.26161693966612,
          -2.10842871401138,
          0.2857135230972842,
          -1.7333502288877094,
          -0.814363324505046,
          -1.1084927870110837,
          -0.9761504129751748,
          -2.452156337065022,
          0.07631882522690402,
          -2.293983375481651,
          -1.3148890180747306,
          -0.3776880639436865,
          0.7243769491008765,
          -2.3335985658629035,
          -2.565416323945866,
          -1.0796049283392872,
          -1.5727862161864645,
          0.07154684451518867,
          -2.4899015469486923,
          0.034142246304514685,
          -2.097313327956166,
          -3.0243084894769234,
          -2.641414636171962,
          -2.641414636171962,
          -2.4245410006603025,
          -2.9906256562519977,
          -0.11917394508012642,
          -0.8902355237522204,
          1.5006314680797197,
          -2.75603619424693,
          -2.030482002440161,
          -2.489917132076551,
          -1.5216056968233251,
          -1.092185111869752,
          -1.4280502036756244,
          -1.9677001743007627,
          -1.306935036000801,
          0.6984010481812222,
          -0.3179769002159494,
          -2.160141065013512,
          -1.2881681622966559,
          -2.318440386166757,
          -2.5387018545430204,
          -2.485805691555164,
          -1.6183640028736839,
          -2.401729714021257,
          -1.9908130667200281,
          -1.4495615159627457,
          -1.7353236532655496,
          -0.7374219749950095,
          -0.27075058685364384,
          -0.36047881537100956,
          1.0175169090487415,
          -2.119593535874594,
          -2.0053155610177797,
          -1.799388318666295,
          -0.46411992549515646,
          -1.01787302285872,
          -2.6230986569085077,
          0.317671308654743,
          -2.1694928962370423,
          -2.639931558141027,
          -1.6021658069787408,
          1.6616764831422142
         ]
        },
        {
         "customdata": [
          [
           "State Commercial Banks (commercial banking)"
          ],
          [
           "State Commercial Banks (commercial banking)"
          ],
          [
           "State Commercial Banks (commercial banking)"
          ],
          [
           "State Commercial Banks (commercial banking)"
          ],
          [
           "State Commercial Banks (commercial banking)"
          ],
          [
           "State Commercial Banks (commercial banking)"
          ],
          [
           "State Commercial Banks (commercial banking)"
          ],
          [
           "State Commercial Banks (commercial banking)"
          ],
          [
           "State Commercial Banks (commercial banking)"
          ],
          [
           "State Commercial Banks (commercial banking)"
          ],
          [
           "State Commercial Banks (commercial banking)"
          ],
          [
           "State Commercial Banks (commercial banking)"
          ],
          [
           "State Commercial Banks (commercial banking)"
          ],
          [
           "State Commercial Banks (commercial banking)"
          ],
          [
           "State Commercial Banks (commercial banking)"
          ],
          [
           "State Commercial Banks (commercial banking)"
          ],
          [
           "State Commercial Banks (commercial banking)"
          ],
          [
           "State Commercial Banks (commercial banking)"
          ],
          [
           "State Commercial Banks (commercial banking)"
          ],
          [
           "State Commercial Banks (commercial banking)"
          ],
          [
           "State Commercial Banks (commercial banking)"
          ],
          [
           "State Commercial Banks (commercial banking)"
          ],
          [
           "State Commercial Banks (commercial banking)"
          ],
          [
           "State Commercial Banks (commercial banking)"
          ],
          [
           "State Commercial Banks (commercial banking)"
          ],
          [
           "State Commercial Banks (commercial banking)"
          ],
          [
           "State Commercial Banks (commercial banking)"
          ],
          [
           "State Commercial Banks (commercial banking)"
          ],
          [
           "State Commercial Banks (commercial banking)"
          ],
          [
           "State Commercial Banks (commercial banking)"
          ],
          [
           "State Commercial Banks (commercial banking)"
          ],
          [
           "State Commercial Banks (commercial banking)"
          ],
          [
           "State Commercial Banks (commercial banking)"
          ],
          [
           "State Commercial Banks (commercial banking)"
          ],
          [
           "State Commercial Banks (commercial banking)"
          ],
          [
           "State Commercial Banks (commercial banking)"
          ],
          [
           "State Commercial Banks (commercial banking)"
          ],
          [
           "State Commercial Banks (commercial banking)"
          ],
          [
           "State Commercial Banks (commercial banking)"
          ],
          [
           "State Commercial Banks (commercial banking)"
          ],
          [
           "State Commercial Banks (commercial banking)"
          ],
          [
           "State Commercial Banks (commercial banking)"
          ],
          [
           "State Commercial Banks (commercial banking)"
          ],
          [
           "State Commercial Banks (commercial banking)"
          ],
          [
           "State Commercial Banks (commercial banking)"
          ],
          [
           "State Commercial Banks (commercial banking)"
          ],
          [
           "State Commercial Banks (commercial banking)"
          ],
          [
           "State Commercial Banks (commercial banking)"
          ],
          [
           "State Commercial Banks (commercial banking)"
          ],
          [
           "State Commercial Banks (commercial banking)"
          ],
          [
           "State Commercial Banks (commercial banking)"
          ],
          [
           "State Commercial Banks (commercial banking)"
          ],
          [
           "State Commercial Banks (commercial banking)"
          ],
          [
           "State Commercial Banks (commercial banking)"
          ],
          [
           "State Commercial Banks (commercial banking)"
          ],
          [
           "State Commercial Banks (commercial banking)"
          ],
          [
           "State Commercial Banks (commercial banking)"
          ],
          [
           "State Commercial Banks (commercial banking)"
          ],
          [
           "State Commercial Banks (commercial banking)"
          ],
          [
           "State Commercial Banks (commercial banking)"
          ],
          [
           "State Commercial Banks (commercial banking)"
          ],
          [
           "State Commercial Banks (commercial banking)"
          ],
          [
           "State Commercial Banks (commercial banking)"
          ],
          [
           "State Commercial Banks (commercial banking)"
          ],
          [
           "State Commercial Banks (commercial banking)"
          ],
          [
           "State Commercial Banks (commercial banking)"
          ],
          [
           "State Commercial Banks (commercial banking)"
          ],
          [
           "State Commercial Banks (commercial banking)"
          ],
          [
           "State Commercial Banks (commercial banking)"
          ],
          [
           "State Commercial Banks (commercial banking)"
          ],
          [
           "State Commercial Banks (commercial banking)"
          ],
          [
           "State Commercial Banks (commercial banking)"
          ],
          [
           "State Commercial Banks (commercial banking)"
          ],
          [
           "State Commercial Banks (commercial banking)"
          ],
          [
           "State Commercial Banks (commercial banking)"
          ],
          [
           "State Commercial Banks (commercial banking)"
          ],
          [
           "State Commercial Banks (commercial banking)"
          ],
          [
           "State Commercial Banks (commercial banking)"
          ],
          [
           "State Commercial Banks (commercial banking)"
          ],
          [
           "State Commercial Banks (commercial banking)"
          ],
          [
           "State Commercial Banks (commercial banking)"
          ],
          [
           "State Commercial Banks (commercial banking)"
          ],
          [
           "State Commercial Banks (commercial banking)"
          ],
          [
           "State Commercial Banks (commercial banking)"
          ],
          [
           "State Commercial Banks (commercial banking)"
          ],
          [
           "State Commercial Banks (commercial banking)"
          ],
          [
           "State Commercial Banks (commercial banking)"
          ],
          [
           "State Commercial Banks (commercial banking)"
          ],
          [
           "State Commercial Banks (commercial banking)"
          ],
          [
           "State Commercial Banks (commercial banking)"
          ],
          [
           "State Commercial Banks (commercial banking)"
          ],
          [
           "State Commercial Banks (commercial banking)"
          ],
          [
           "State Commercial Banks (commercial banking)"
          ],
          [
           "State Commercial Banks (commercial banking)"
          ],
          [
           "State Commercial Banks (commercial banking)"
          ],
          [
           "State Commercial Banks (commercial banking)"
          ],
          [
           "State Commercial Banks (commercial banking)"
          ],
          [
           "State Commercial Banks (commercial banking)"
          ],
          [
           "State Commercial Banks (commercial banking)"
          ],
          [
           "State Commercial Banks (commercial banking)"
          ],
          [
           "State Commercial Banks (commercial banking)"
          ],
          [
           "State Commercial Banks (commercial banking)"
          ],
          [
           "State Commercial Banks (commercial banking)"
          ],
          [
           "State Commercial Banks (commercial banking)"
          ],
          [
           "State Commercial Banks (commercial banking)"
          ],
          [
           "State Commercial Banks (commercial banking)"
          ],
          [
           "State Commercial Banks (commercial banking)"
          ],
          [
           "State Commercial Banks (commercial banking)"
          ],
          [
           "State Commercial Banks (commercial banking)"
          ],
          [
           "State Commercial Banks (commercial banking)"
          ],
          [
           "State Commercial Banks (commercial banking)"
          ],
          [
           "State Commercial Banks (commercial banking)"
          ],
          [
           "State Commercial Banks (commercial banking)"
          ],
          [
           "State Commercial Banks (commercial banking)"
          ],
          [
           "State Commercial Banks (commercial banking)"
          ],
          [
           "State Commercial Banks (commercial banking)"
          ]
         ],
         "hovertemplate": "SIC=State Commercial Banks (commercial banking)<br>0=%{x}<br>1=%{y}<br>2=%{z}<br>name=%{customdata[0]}<extra></extra>",
         "legendgroup": "State Commercial Banks (commercial banking)",
         "marker": {
          "color": "#FFA15A",
          "symbol": "circle"
         },
         "mode": "markers",
         "name": "State Commercial Banks (commercial banking)",
         "scene": "scene",
         "showlegend": true,
         "type": "scatter3d",
         "x": [
          -4.023756570416365,
          -3.6781274784491846,
          -3.869691978306723,
          -4.619383788810301,
          -4.388034144202361,
          -4.3314305047336905,
          -3.988969126931991,
          -2.5209550005538914,
          -4.005694171249952,
          -3.45900778314967,
          -3.45900778314967,
          -0.17459478766670067,
          -4.421612372771849,
          -4.648247542114976,
          -4.222062012246356,
          -3.8180118410864323,
          -4.1417974161394,
          -4.350706227854217,
          -4.223389132777689,
          -4.1113880237390745,
          -4.295157655979312,
          -4.295157655979312,
          -3.965286826010836,
          -4.833804227635881,
          -4.526283758564343,
          -4.455210457424443,
          -2.6724699538592565,
          -4.602260141226025,
          -3.972828140437981,
          -4.119438418171428,
          -3.1721380375864174,
          -4.591504431053599,
          -4.061470749195452,
          -4.062122747760024,
          -4.062952781683165,
          -4.36243723165261,
          -4.566076054810421,
          -4.802590440923284,
          -4.408690849046,
          -2.7211195437261058,
          -4.022333939061975,
          -0.6729422340282188,
          -4.6753832681350485,
          -4.35392856908921,
          -4.2156326666551145,
          -0.612131836204601,
          -4.301404945901643,
          -3.977899393593817,
          -4.226626499848538,
          -4.6607942764081045,
          -4.204192807641344,
          -3.9368993738879174,
          -3.8746963789640336,
          -3.8208811025923826,
          -3.802463992355667,
          -4.56167893128951,
          -4.6072119074164615,
          -3.6802203973675067,
          -4.2488911980639354,
          -4.2488911980639354,
          -4.251228701300932,
          -4.228967075022963,
          -4.91497072989771,
          -4.797060201544395,
          -3.8993746981959245,
          -4.530410271804393,
          -4.478935665402989,
          -3.954164079104137,
          -4.082963583240437,
          -2.4659879639171125,
          -4.093829620963372,
          -4.15192302653103,
          -4.430113296877535,
          -4.0732115568571015,
          -3.3903653143304693,
          -4.162064888372787,
          -4.249427661218275,
          -3.5931321829933522,
          -4.073250916624723,
          0.2983247895641911,
          -3.707618173053623,
          -4.331561064094431,
          -4.118411519944015,
          -3.570208753268173,
          -4.626591645318796,
          -4.530599043097745,
          -4.530599043097745,
          -4.49761790005423,
          0.0782920660852776,
          -3.8073539961819587,
          -1.7305097106821845,
          -4.357748213704423,
          -4.766495039928411,
          -4.0796640586948305,
          -4.749903516280848,
          -4.5134573288533,
          -4.178980738676666,
          -3.927810956516915,
          -4.560888853825129,
          -4.16563290532867,
          -4.155468694546192,
          -3.970474786755189,
          -4.748332831783209,
          -4.148468696117777,
          -4.389361690774168,
          -3.6355196947379325,
          -1.1647549281369363,
          -4.069943359026233,
          -3.7798301444465876,
          -0.6592807639539378,
          -4.336106793880197,
          -3.6963310202611845,
          -3.915144803292087,
          -4.285662775181583,
          -3.2833534792182144,
          -4.942550654930896
         ],
         "y": [
          3.924060932685492,
          2.4430186474389015,
          0.505229052256993,
          4.459343162268793,
          3.7270373979302858,
          4.701139536702419,
          4.2622835107542025,
          0.8130301961574401,
          3.03935064998424,
          4.086283830058508,
          4.086283830058508,
          -0.9760158879788488,
          4.364997190397984,
          3.904784230320007,
          3.5382320084200574,
          4.009359323831771,
          2.114560957608347,
          4.4385177259981985,
          3.5919460180570244,
          3.8753251698414966,
          3.486156635265222,
          3.486156635265222,
          4.121720503297599,
          3.388053345999051,
          1.862792889508944,
          4.408319172234432,
          0.22724805691142647,
          3.7027015725782695,
          4.518691217597511,
          4.4323864025331945,
          3.348249319976917,
          3.846230843652091,
          2.6333402004011797,
          4.316727323511386,
          3.6195627971453277,
          4.38452359562944,
          4.180428884282551,
          3.44123363112212,
          2.497355458615874,
          2.1048812617666557,
          1.1989780552713236,
          -0.8809655185297111,
          4.03859825482197,
          3.358601780199797,
          3.7839500513161166,
          -0.32524995865909856,
          2.7663858202882095,
          4.328099027526854,
          4.3490532719301545,
          4.203509765194657,
          4.586998682872335,
          3.82648311081641,
          4.449307526690871,
          3.400458010664483,
          4.301236809322684,
          3.441321949437344,
          3.730976677125648,
          2.731874843787345,
          4.428903925515031,
          4.428903925515031,
          3.6872322189517406,
          4.417424731118963,
          4.0986170870612835,
          2.995592861353293,
          4.465046689724038,
          4.562522149011847,
          1.5885931090100622,
          4.25314139924616,
          3.711964182414217,
          -0.3184314743938876,
          4.233343340955479,
          3.951274468280887,
          4.469160986528332,
          4.173721026696263,
          2.401894966131502,
          4.3973052590015325,
          4.435820929399635,
          3.7962044188741655,
          1.932243890371315,
          -0.6071135414581919,
          4.225022063547593,
          3.7281771795657614,
          4.315765145208869,
          0.8527930297289718,
          3.4073025863908097,
          4.040913272869346,
          4.040913272869346,
          4.289890911873465,
          -0.5130070417388931,
          3.924201104051321,
          0.8159438976336765,
          2.383717203193203,
          4.2803481244443535,
          4.180496201086484,
          3.119734805052692,
          3.2146412803971516,
          1.2543955056803413,
          4.084269180695706,
          3.51282412242527,
          4.343618966340758,
          4.0707445862366844,
          1.6936999852302204,
          4.058246789750719,
          4.33525482275922,
          2.5084242723278596,
          3.517765614864498,
          0.9664336174958764,
          4.041388939804482,
          0.8592200574433019,
          -0.5063204968813805,
          4.654294539894872,
          3.746769512860925,
          4.188454632013639,
          4.2560809062230165,
          3.2250013383933736,
          4.247110544084465
         ],
         "z": [
          0.5687561828997407,
          0.06659028460111828,
          -1.607602172557811,
          0.40955988625793655,
          0.01939393629397126,
          0.8202705962834055,
          1.0770961488003294,
          -0.38652354431290437,
          0.10292389322388984,
          1.637680596323057,
          1.637680596323057,
          1.5440417034372544,
          0.19098709303653805,
          -0.035051097128110074,
          0.29759571742484703,
          0.6454533162254156,
          -0.7515984750814494,
          0.6185632128246598,
          -0.13217915692069993,
          0.522715793640039,
          -0.056919315189946466,
          -0.056919315189946466,
          0.9357401944727308,
          -0.9099111414071951,
          -1.3942124277839394,
          0.37837527260848214,
          -0.47695862594911426,
          -0.3535257937403786,
          1.127740439361682,
          0.8908000795330817,
          1.0570156353111426,
          -0.1751050979496157,
          -0.7286687341319646,
          0.850819012951643,
          0.3634039155267287,
          0.5041056006824766,
          0.19574796267699554,
          -0.352288315171776,
          -0.653599171387395,
          0.348262907405133,
          -1.2911086879790292,
          0.9697596620896355,
          -0.1316802775373375,
          -0.03224479102325657,
          0.24695968836130458,
          0.8315872146039446,
          -0.3948504177628601,
          1.1229923003061393,
          0.7172336654612239,
          0.1646283972646569,
          0.7747385393263395,
          0.6122764630168643,
          1.1615199872218793,
          0.4200850009289922,
          1.1944281152936367,
          -0.28775190199509804,
          -0.18384306870132203,
          0.11563031058742439,
          0.9228617289760297,
          0.9228617289760297,
          0.2633967308678174,
          0.775425526870847,
          -0.1366212686537819,
          -0.8908339403118031,
          1.0410471369310075,
          0.6063326459895177,
          -1.3895692674709628,
          0.7344385824314976,
          0.37319397385961367,
          -0.5437980896055317,
          0.8231321374176586,
          0.24914118621235345,
          0.6568520918905262,
          0.6087302075964177,
          -0.3163337663658453,
          0.9929346304871229,
          0.6890261914865786,
          0.619522233150935,
          -0.7089305539682204,
          2.4088648773432113,
          1.1660538291726539,
          0.1519634303367144,
          0.5303085087958637,
          -1.0116385109773138,
          -0.31927496069391686,
          0.1431871618824596,
          0.1431871618824596,
          0.4595766167170503,
          2.1262348737688628,
          0.86794493552282,
          0.7393740520260456,
          -0.7289576248521735,
          0.054664235112363194,
          0.5575373897606959,
          -0.595453241603816,
          -0.28713333758861675,
          -1.2978070371870871,
          0.9854241715591906,
          -0.09100805795934185,
          0.8638803572995963,
          0.45284030380632884,
          -0.842424041895986,
          0.00528812284647949,
          0.8298524289508438,
          -0.8828202372273021,
          0.315399318094239,
          1.8149007697084318,
          0.3859702069944242,
          -1.1039534476007695,
          1.2462744870378348,
          0.9843744330374458,
          0.7478326359220813,
          0.8438137762710579,
          0.2907397647555097,
          0.6271294119572718,
          -0.038262574573971746
         ]
        }
       ],
       "layout": {
        "height": 700,
        "legend": {
         "title": {
          "text": "SIC"
         },
         "tracegroupgap": 0
        },
        "margin": {
         "t": 60
        },
        "scene": {
         "domain": {
          "x": [
           0,
           1
          ],
          "y": [
           0,
           1
          ]
         },
         "xaxis": {
          "title": {
           "text": "0"
          }
         },
         "yaxis": {
          "title": {
           "text": "1"
          }
         },
         "zaxis": {
          "title": {
           "text": "2"
          }
         }
        },
        "template": {
         "data": {
          "bar": [
           {
            "error_x": {
             "color": "#2a3f5f"
            },
            "error_y": {
             "color": "#2a3f5f"
            },
            "marker": {
             "line": {
              "color": "#E5ECF6",
              "width": 0.5
             },
             "pattern": {
              "fillmode": "overlay",
              "size": 10,
              "solidity": 0.2
             }
            },
            "type": "bar"
           }
          ],
          "barpolar": [
           {
            "marker": {
             "line": {
              "color": "#E5ECF6",
              "width": 0.5
             },
             "pattern": {
              "fillmode": "overlay",
              "size": 10,
              "solidity": 0.2
             }
            },
            "type": "barpolar"
           }
          ],
          "carpet": [
           {
            "aaxis": {
             "endlinecolor": "#2a3f5f",
             "gridcolor": "white",
             "linecolor": "white",
             "minorgridcolor": "white",
             "startlinecolor": "#2a3f5f"
            },
            "baxis": {
             "endlinecolor": "#2a3f5f",
             "gridcolor": "white",
             "linecolor": "white",
             "minorgridcolor": "white",
             "startlinecolor": "#2a3f5f"
            },
            "type": "carpet"
           }
          ],
          "choropleth": [
           {
            "colorbar": {
             "outlinewidth": 0,
             "ticks": ""
            },
            "type": "choropleth"
           }
          ],
          "contour": [
           {
            "colorbar": {
             "outlinewidth": 0,
             "ticks": ""
            },
            "colorscale": [
             [
              0,
              "#0d0887"
             ],
             [
              0.1111111111111111,
              "#46039f"
             ],
             [
              0.2222222222222222,
              "#7201a8"
             ],
             [
              0.3333333333333333,
              "#9c179e"
             ],
             [
              0.4444444444444444,
              "#bd3786"
             ],
             [
              0.5555555555555556,
              "#d8576b"
             ],
             [
              0.6666666666666666,
              "#ed7953"
             ],
             [
              0.7777777777777778,
              "#fb9f3a"
             ],
             [
              0.8888888888888888,
              "#fdca26"
             ],
             [
              1,
              "#f0f921"
             ]
            ],
            "type": "contour"
           }
          ],
          "contourcarpet": [
           {
            "colorbar": {
             "outlinewidth": 0,
             "ticks": ""
            },
            "type": "contourcarpet"
           }
          ],
          "heatmap": [
           {
            "colorbar": {
             "outlinewidth": 0,
             "ticks": ""
            },
            "colorscale": [
             [
              0,
              "#0d0887"
             ],
             [
              0.1111111111111111,
              "#46039f"
             ],
             [
              0.2222222222222222,
              "#7201a8"
             ],
             [
              0.3333333333333333,
              "#9c179e"
             ],
             [
              0.4444444444444444,
              "#bd3786"
             ],
             [
              0.5555555555555556,
              "#d8576b"
             ],
             [
              0.6666666666666666,
              "#ed7953"
             ],
             [
              0.7777777777777778,
              "#fb9f3a"
             ],
             [
              0.8888888888888888,
              "#fdca26"
             ],
             [
              1,
              "#f0f921"
             ]
            ],
            "type": "heatmap"
           }
          ],
          "heatmapgl": [
           {
            "colorbar": {
             "outlinewidth": 0,
             "ticks": ""
            },
            "colorscale": [
             [
              0,
              "#0d0887"
             ],
             [
              0.1111111111111111,
              "#46039f"
             ],
             [
              0.2222222222222222,
              "#7201a8"
             ],
             [
              0.3333333333333333,
              "#9c179e"
             ],
             [
              0.4444444444444444,
              "#bd3786"
             ],
             [
              0.5555555555555556,
              "#d8576b"
             ],
             [
              0.6666666666666666,
              "#ed7953"
             ],
             [
              0.7777777777777778,
              "#fb9f3a"
             ],
             [
              0.8888888888888888,
              "#fdca26"
             ],
             [
              1,
              "#f0f921"
             ]
            ],
            "type": "heatmapgl"
           }
          ],
          "histogram": [
           {
            "marker": {
             "pattern": {
              "fillmode": "overlay",
              "size": 10,
              "solidity": 0.2
             }
            },
            "type": "histogram"
           }
          ],
          "histogram2d": [
           {
            "colorbar": {
             "outlinewidth": 0,
             "ticks": ""
            },
            "colorscale": [
             [
              0,
              "#0d0887"
             ],
             [
              0.1111111111111111,
              "#46039f"
             ],
             [
              0.2222222222222222,
              "#7201a8"
             ],
             [
              0.3333333333333333,
              "#9c179e"
             ],
             [
              0.4444444444444444,
              "#bd3786"
             ],
             [
              0.5555555555555556,
              "#d8576b"
             ],
             [
              0.6666666666666666,
              "#ed7953"
             ],
             [
              0.7777777777777778,
              "#fb9f3a"
             ],
             [
              0.8888888888888888,
              "#fdca26"
             ],
             [
              1,
              "#f0f921"
             ]
            ],
            "type": "histogram2d"
           }
          ],
          "histogram2dcontour": [
           {
            "colorbar": {
             "outlinewidth": 0,
             "ticks": ""
            },
            "colorscale": [
             [
              0,
              "#0d0887"
             ],
             [
              0.1111111111111111,
              "#46039f"
             ],
             [
              0.2222222222222222,
              "#7201a8"
             ],
             [
              0.3333333333333333,
              "#9c179e"
             ],
             [
              0.4444444444444444,
              "#bd3786"
             ],
             [
              0.5555555555555556,
              "#d8576b"
             ],
             [
              0.6666666666666666,
              "#ed7953"
             ],
             [
              0.7777777777777778,
              "#fb9f3a"
             ],
             [
              0.8888888888888888,
              "#fdca26"
             ],
             [
              1,
              "#f0f921"
             ]
            ],
            "type": "histogram2dcontour"
           }
          ],
          "mesh3d": [
           {
            "colorbar": {
             "outlinewidth": 0,
             "ticks": ""
            },
            "type": "mesh3d"
           }
          ],
          "parcoords": [
           {
            "line": {
             "colorbar": {
              "outlinewidth": 0,
              "ticks": ""
             }
            },
            "type": "parcoords"
           }
          ],
          "pie": [
           {
            "automargin": true,
            "type": "pie"
           }
          ],
          "scatter": [
           {
            "marker": {
             "colorbar": {
              "outlinewidth": 0,
              "ticks": ""
             }
            },
            "type": "scatter"
           }
          ],
          "scatter3d": [
           {
            "line": {
             "colorbar": {
              "outlinewidth": 0,
              "ticks": ""
             }
            },
            "marker": {
             "colorbar": {
              "outlinewidth": 0,
              "ticks": ""
             }
            },
            "type": "scatter3d"
           }
          ],
          "scattercarpet": [
           {
            "marker": {
             "colorbar": {
              "outlinewidth": 0,
              "ticks": ""
             }
            },
            "type": "scattercarpet"
           }
          ],
          "scattergeo": [
           {
            "marker": {
             "colorbar": {
              "outlinewidth": 0,
              "ticks": ""
             }
            },
            "type": "scattergeo"
           }
          ],
          "scattergl": [
           {
            "marker": {
             "colorbar": {
              "outlinewidth": 0,
              "ticks": ""
             }
            },
            "type": "scattergl"
           }
          ],
          "scattermapbox": [
           {
            "marker": {
             "colorbar": {
              "outlinewidth": 0,
              "ticks": ""
             }
            },
            "type": "scattermapbox"
           }
          ],
          "scatterpolar": [
           {
            "marker": {
             "colorbar": {
              "outlinewidth": 0,
              "ticks": ""
             }
            },
            "type": "scatterpolar"
           }
          ],
          "scatterpolargl": [
           {
            "marker": {
             "colorbar": {
              "outlinewidth": 0,
              "ticks": ""
             }
            },
            "type": "scatterpolargl"
           }
          ],
          "scatterternary": [
           {
            "marker": {
             "colorbar": {
              "outlinewidth": 0,
              "ticks": ""
             }
            },
            "type": "scatterternary"
           }
          ],
          "surface": [
           {
            "colorbar": {
             "outlinewidth": 0,
             "ticks": ""
            },
            "colorscale": [
             [
              0,
              "#0d0887"
             ],
             [
              0.1111111111111111,
              "#46039f"
             ],
             [
              0.2222222222222222,
              "#7201a8"
             ],
             [
              0.3333333333333333,
              "#9c179e"
             ],
             [
              0.4444444444444444,
              "#bd3786"
             ],
             [
              0.5555555555555556,
              "#d8576b"
             ],
             [
              0.6666666666666666,
              "#ed7953"
             ],
             [
              0.7777777777777778,
              "#fb9f3a"
             ],
             [
              0.8888888888888888,
              "#fdca26"
             ],
             [
              1,
              "#f0f921"
             ]
            ],
            "type": "surface"
           }
          ],
          "table": [
           {
            "cells": {
             "fill": {
              "color": "#EBF0F8"
             },
             "line": {
              "color": "white"
             }
            },
            "header": {
             "fill": {
              "color": "#C8D4E3"
             },
             "line": {
              "color": "white"
             }
            },
            "type": "table"
           }
          ]
         },
         "layout": {
          "annotationdefaults": {
           "arrowcolor": "#2a3f5f",
           "arrowhead": 0,
           "arrowwidth": 1
          },
          "autotypenumbers": "strict",
          "coloraxis": {
           "colorbar": {
            "outlinewidth": 0,
            "ticks": ""
           }
          },
          "colorscale": {
           "diverging": [
            [
             0,
             "#8e0152"
            ],
            [
             0.1,
             "#c51b7d"
            ],
            [
             0.2,
             "#de77ae"
            ],
            [
             0.3,
             "#f1b6da"
            ],
            [
             0.4,
             "#fde0ef"
            ],
            [
             0.5,
             "#f7f7f7"
            ],
            [
             0.6,
             "#e6f5d0"
            ],
            [
             0.7,
             "#b8e186"
            ],
            [
             0.8,
             "#7fbc41"
            ],
            [
             0.9,
             "#4d9221"
            ],
            [
             1,
             "#276419"
            ]
           ],
           "sequential": [
            [
             0,
             "#0d0887"
            ],
            [
             0.1111111111111111,
             "#46039f"
            ],
            [
             0.2222222222222222,
             "#7201a8"
            ],
            [
             0.3333333333333333,
             "#9c179e"
            ],
            [
             0.4444444444444444,
             "#bd3786"
            ],
            [
             0.5555555555555556,
             "#d8576b"
            ],
            [
             0.6666666666666666,
             "#ed7953"
            ],
            [
             0.7777777777777778,
             "#fb9f3a"
            ],
            [
             0.8888888888888888,
             "#fdca26"
            ],
            [
             1,
             "#f0f921"
            ]
           ],
           "sequentialminus": [
            [
             0,
             "#0d0887"
            ],
            [
             0.1111111111111111,
             "#46039f"
            ],
            [
             0.2222222222222222,
             "#7201a8"
            ],
            [
             0.3333333333333333,
             "#9c179e"
            ],
            [
             0.4444444444444444,
             "#bd3786"
            ],
            [
             0.5555555555555556,
             "#d8576b"
            ],
            [
             0.6666666666666666,
             "#ed7953"
            ],
            [
             0.7777777777777778,
             "#fb9f3a"
            ],
            [
             0.8888888888888888,
             "#fdca26"
            ],
            [
             1,
             "#f0f921"
            ]
           ]
          },
          "colorway": [
           "#636efa",
           "#EF553B",
           "#00cc96",
           "#ab63fa",
           "#FFA15A",
           "#19d3f3",
           "#FF6692",
           "#B6E880",
           "#FF97FF",
           "#FECB52"
          ],
          "font": {
           "color": "#2a3f5f"
          },
          "geo": {
           "bgcolor": "white",
           "lakecolor": "white",
           "landcolor": "#E5ECF6",
           "showlakes": true,
           "showland": true,
           "subunitcolor": "white"
          },
          "hoverlabel": {
           "align": "left"
          },
          "hovermode": "closest",
          "mapbox": {
           "style": "light"
          },
          "paper_bgcolor": "white",
          "plot_bgcolor": "#E5ECF6",
          "polar": {
           "angularaxis": {
            "gridcolor": "white",
            "linecolor": "white",
            "ticks": ""
           },
           "bgcolor": "#E5ECF6",
           "radialaxis": {
            "gridcolor": "white",
            "linecolor": "white",
            "ticks": ""
           }
          },
          "scene": {
           "xaxis": {
            "backgroundcolor": "#E5ECF6",
            "gridcolor": "white",
            "gridwidth": 2,
            "linecolor": "white",
            "showbackground": true,
            "ticks": "",
            "zerolinecolor": "white"
           },
           "yaxis": {
            "backgroundcolor": "#E5ECF6",
            "gridcolor": "white",
            "gridwidth": 2,
            "linecolor": "white",
            "showbackground": true,
            "ticks": "",
            "zerolinecolor": "white"
           },
           "zaxis": {
            "backgroundcolor": "#E5ECF6",
            "gridcolor": "white",
            "gridwidth": 2,
            "linecolor": "white",
            "showbackground": true,
            "ticks": "",
            "zerolinecolor": "white"
           }
          },
          "shapedefaults": {
           "line": {
            "color": "#2a3f5f"
           }
          },
          "ternary": {
           "aaxis": {
            "gridcolor": "white",
            "linecolor": "white",
            "ticks": ""
           },
           "baxis": {
            "gridcolor": "white",
            "linecolor": "white",
            "ticks": ""
           },
           "bgcolor": "#E5ECF6",
           "caxis": {
            "gridcolor": "white",
            "linecolor": "white",
            "ticks": ""
           }
          },
          "title": {
           "x": 0.05
          },
          "xaxis": {
           "automargin": true,
           "gridcolor": "white",
           "linecolor": "white",
           "ticks": "",
           "title": {
            "standoff": 15
           },
           "zerolinecolor": "white",
           "zerolinewidth": 2
          },
          "yaxis": {
           "automargin": true,
           "gridcolor": "white",
           "linecolor": "white",
           "ticks": "",
           "title": {
            "standoff": 15
           },
           "zerolinecolor": "white",
           "zerolinewidth": 2
          }
         }
        },
        "width": 1200
       }
      },
      "text/html": [
       "<div>                            <div id=\"84e0fbd2-cc83-49b2-a182-fb587f2126a2\" class=\"plotly-graph-div\" style=\"height:700px; width:1200px;\"></div>            <script type=\"text/javascript\">                require([\"plotly\"], function(Plotly) {                    window.PLOTLYENV=window.PLOTLYENV || {};                                    if (document.getElementById(\"84e0fbd2-cc83-49b2-a182-fb587f2126a2\")) {                    Plotly.newPlot(                        \"84e0fbd2-cc83-49b2-a182-fb587f2126a2\",                        [{\"customdata\":[[\"Prepackaged Software (mass reproduction of software)\"],[\"Prepackaged Software (mass reproduction of software)\"],[\"Prepackaged Software (mass reproduction of software)\"],[\"Prepackaged Software (mass reproduction of software)\"],[\"Prepackaged Software (mass reproduction of software)\"],[\"Prepackaged Software (mass reproduction of software)\"],[\"Prepackaged Software (mass reproduction of software)\"],[\"Prepackaged Software (mass reproduction of software)\"],[\"Prepackaged Software (mass reproduction of software)\"],[\"Prepackaged Software (mass reproduction of software)\"],[\"Prepackaged Software (mass reproduction of software)\"],[\"Prepackaged Software (mass reproduction of software)\"],[\"Prepackaged Software (mass reproduction of software)\"],[\"Prepackaged Software (mass reproduction of software)\"],[\"Prepackaged Software (mass reproduction of software)\"],[\"Prepackaged Software (mass reproduction of software)\"],[\"Prepackaged Software (mass reproduction of software)\"],[\"Prepackaged Software (mass reproduction of software)\"],[\"Prepackaged Software (mass reproduction of software)\"],[\"Prepackaged Software (mass reproduction of software)\"],[\"Prepackaged Software (mass reproduction of software)\"],[\"Prepackaged Software (mass reproduction of software)\"],[\"Prepackaged Software (mass reproduction of software)\"],[\"Prepackaged Software (mass reproduction of software)\"],[\"Prepackaged Software (mass reproduction of software)\"],[\"Prepackaged Software (mass reproduction of software)\"],[\"Prepackaged Software (mass reproduction of software)\"],[\"Prepackaged Software (mass reproduction of software)\"],[\"Prepackaged Software (mass reproduction of software)\"],[\"Prepackaged Software (mass reproduction of software)\"],[\"Prepackaged Software (mass reproduction of software)\"],[\"Prepackaged Software (mass reproduction of software)\"],[\"Prepackaged Software (mass reproduction of software)\"],[\"Prepackaged Software (mass reproduction of software)\"],[\"Prepackaged Software (mass reproduction of software)\"],[\"Prepackaged Software (mass reproduction of software)\"],[\"Prepackaged Software (mass reproduction of software)\"],[\"Prepackaged Software (mass reproduction of software)\"],[\"Prepackaged Software (mass reproduction of software)\"],[\"Prepackaged Software (mass reproduction of software)\"],[\"Prepackaged Software (mass reproduction of software)\"],[\"Prepackaged Software (mass reproduction of software)\"],[\"Prepackaged Software (mass reproduction of software)\"],[\"Prepackaged Software (mass reproduction of software)\"],[\"Prepackaged Software (mass reproduction of software)\"],[\"Prepackaged Software (mass reproduction of software)\"],[\"Prepackaged Software (mass reproduction of software)\"],[\"Prepackaged Software (mass reproduction of software)\"],[\"Prepackaged Software (mass reproduction of software)\"],[\"Prepackaged Software (mass reproduction of software)\"],[\"Prepackaged Software (mass reproduction of software)\"],[\"Prepackaged Software (mass reproduction of software)\"],[\"Prepackaged Software (mass reproduction of software)\"],[\"Prepackaged Software (mass reproduction of software)\"],[\"Prepackaged Software (mass reproduction of software)\"],[\"Prepackaged Software (mass reproduction of software)\"],[\"Prepackaged Software (mass reproduction of software)\"],[\"Prepackaged Software (mass reproduction of software)\"],[\"Prepackaged Software (mass reproduction of software)\"],[\"Prepackaged Software (mass reproduction of software)\"],[\"Prepackaged Software (mass reproduction of software)\"],[\"Prepackaged Software (mass reproduction of software)\"],[\"Prepackaged Software (mass reproduction of software)\"],[\"Prepackaged Software (mass reproduction of software)\"],[\"Prepackaged Software (mass reproduction of software)\"],[\"Prepackaged Software (mass reproduction of software)\"],[\"Prepackaged Software (mass reproduction of software)\"],[\"Prepackaged Software (mass reproduction of software)\"],[\"Prepackaged Software (mass reproduction of software)\"],[\"Prepackaged Software (mass reproduction of software)\"],[\"Prepackaged Software (mass reproduction of software)\"],[\"Prepackaged Software (mass reproduction of software)\"],[\"Prepackaged Software (mass reproduction of software)\"],[\"Prepackaged Software (mass reproduction of software)\"],[\"Prepackaged Software (mass reproduction of software)\"],[\"Prepackaged Software (mass reproduction of software)\"],[\"Prepackaged Software (mass reproduction of software)\"],[\"Prepackaged Software (mass reproduction of software)\"],[\"Prepackaged Software (mass reproduction of software)\"],[\"Prepackaged Software (mass reproduction of software)\"]],\"hovertemplate\":\"SIC=Prepackaged Software (mass reproduction of software)<br>0=%{x}<br>1=%{y}<br>2=%{z}<br>name=%{customdata[0]}<extra></extra>\",\"legendgroup\":\"Prepackaged Software (mass reproduction of software)\",\"marker\":{\"color\":\"#636efa\",\"symbol\":\"circle\"},\"mode\":\"markers\",\"name\":\"Prepackaged Software (mass reproduction of software)\",\"scene\":\"scene\",\"showlegend\":true,\"x\":[0.99902083586378,0.2633929490367165,0.4213714880747363,0.8408999670994839,-0.314020820139444,0.44383655552053436,0.24461226250361495,0.24461226250361495,-0.20375924508780605,0.48013177364470894,0.602472186306059,1.0832274771968615,0.20564790692239804,-0.12768301844822424,0.19780650724212592,0.7897911283159998,-0.7319978963096139,0.24029833822228003,0.026291545807584235,0.035188012227533365,0.46676651496381716,0.36170397290799955,3.2356415564231056,3.2356415564231056,-0.6235680331860215,-0.6235680331860215,-0.5426275806806736,-0.5426275806806736,0.051911614096377276,0.25462932458032844,-0.22988740669821572,1.2692121452586926,-0.37916636008586735,0.5218016529842566,1.174196046909015,0.4533003469873675,0.15417335647669,0.8314784638744157,-0.24876054983537016,-0.24876054983537016,-0.24876054983537016,-0.03031216148050678,-2.0500915784564535,-0.1518713541187608,-0.08493199887058257,1.0063555006407041,-0.32681586002957913,0.9116805334072703,1.3084889970693656,-0.42416014163437327,-0.13988951933947197,0.21066498642586237,-2.4587979688709996,0.2921568203266982,1.6904793543459424,0.4525945755770244,0.03231583312387489,0.6946424165201935,0.21165735966537322,1.2294392904237919,0.641984421595404,0.07496736614047247,-0.06833848315182407,0.8319369103405994,0.09182207738004372,-0.06660250053853632,0.10944637085090154,0.47448157021547965,0.8349961180047687,0.6694108767942832,0.8007467925060232,-1.8313201897097997,-0.5602114867184956,1.024831328653117,-0.46225420599326306,-0.46225420599326306,0.6345831175948964,0.6002347837004046,0.6877975084980418,1.3788373616546734],\"y\":[-0.8081412816567027,-0.8345257152642733,-0.9700765223336089,-0.8349584304780023,-1.4491223650822682,-0.829108738157137,-0.6564444769568673,-0.6564444769568673,-1.4772808231648322,-0.8436621621710374,-0.6037733682052067,-0.8228473517880255,-0.6822871099987157,-1.2969781405974719,-0.6148601860706217,-0.6209653170908773,-0.5469737660782067,-0.7991990820882522,-0.738183934331296,-1.074579130271178,-0.8474335325568021,-0.7826386380472855,0.718605204903303,0.718605204903303,-0.8312918096681043,-0.8312918096681043,-1.4404420980567183,-1.4404420980567183,-1.400706792606163,-0.920658096049448,-1.3435448176617724,-0.6158468582713016,-1.0684558342265962,-0.597102961227967,-0.3910137441497246,-1.143098308590258,-0.9202882177879069,-0.6623034574866236,-0.3355923314115906,-0.3355923314115906,-0.3355923314115906,-0.5568378607838673,-1.8501208886645517,-0.029377502638718196,-1.458302943970184,-0.715303754860741,-1.2803107380418148,-0.668858420960851,-0.8169238603470922,-1.0344425206787033,-0.6012655173964568,-1.077318850921422,-0.6638984444533799,-1.0055651587218282,-0.12146931661505588,-1.15076396170579,-0.727556643788486,-0.7282528376614694,-1.217022326871119,-0.4665881214535827,-0.5270431896975821,-1.0960446868901352,-0.7438750374007146,-0.6934319075362491,-1.112548310706302,-1.0228168082306932,-1.373839183920253,-0.12024514225010728,-0.2498463651695474,-0.8149718798574908,-0.7799434143802201,-1.782893719893872,-1.523774151864927,-0.4010346878107438,-0.869027645996582,-0.869027645996582,-0.8918554009256495,-0.8586002893788286,-0.454004451766724,-0.7088864037110348],\"z\":[-0.30876129641517147,-0.6072244198629473,-0.23513875805348383,-0.43428806527006525,-0.05724471301252727,0.3403472519671554,2.217530041251087,2.217530041251087,-0.644508073245014,-0.4557906307678198,0.23984215797164404,-0.6779446920286812,0.5043464312968934,0.5109741460392175,1.912226019549389,0.4462292037491212,0.24426422671230197,0.8240683847970413,1.2855909278141657,0.03581504972635582,0.5785050516066943,0.6427797665034094,-1.2067706732284516,-1.2067706732284516,0.31481298811936403,0.31481298811936403,0.299904768797607,0.299904768797607,-0.5131404328265321,0.2689957884912013,0.330071094440916,-0.5628128408587054,0.2504933569459506,1.4924810015530436,0.47169178784766735,-0.9875326553423286,0.021511937159411017,-0.6416286344792056,0.06053701065808523,0.06053701065808523,0.06053701065808523,1.8594672375445391,-1.9250083023610598,1.5692675830080356,-0.689485093476189,-0.5734736380148444,-0.10227985151662675,0.7629179069054687,-0.8952009465805056,0.13335228966025497,0.6317664385899786,-0.30014586531242,-1.751568620045139,-0.2573126460406286,0.7870588835009178,-0.2955604203266652,0.5759331281881265,-0.04476729778572882,-0.051843124866985384,-0.5031504758879837,0.4551118620775685,0.5238807355953481,2.083117766866825,0.02256233211342677,-0.15237874446936178,0.07124024734223228,-0.24977435342262058,-0.14204773282357458,-0.5367842182506921,-0.16252820203251436,-0.4041979185431028,-2.305721195904327,0.40962821432183744,0.6463855123613244,0.424217516402116,0.424217516402116,0.21680923753582654,-1.095009473711452,0.05658363401045412,-0.6523178644096876],\"type\":\"scatter3d\"},{\"customdata\":[[\"Crude Petroleum and Natural Gas\"],[\"Crude Petroleum and Natural Gas\"],[\"Crude Petroleum and Natural Gas\"],[\"Crude Petroleum and Natural Gas\"],[\"Crude Petroleum and Natural Gas\"],[\"Crude Petroleum and Natural Gas\"],[\"Crude Petroleum and Natural Gas\"],[\"Crude Petroleum and Natural Gas\"],[\"Crude Petroleum and Natural Gas\"],[\"Crude Petroleum and Natural Gas\"],[\"Crude Petroleum and Natural Gas\"],[\"Crude Petroleum and Natural Gas\"],[\"Crude Petroleum and Natural Gas\"],[\"Crude Petroleum and Natural Gas\"],[\"Crude Petroleum and Natural Gas\"],[\"Crude Petroleum and Natural Gas\"],[\"Crude Petroleum and Natural Gas\"],[\"Crude Petroleum and Natural Gas\"],[\"Crude Petroleum and Natural Gas\"],[\"Crude Petroleum and Natural Gas\"],[\"Crude Petroleum and Natural Gas\"],[\"Crude Petroleum and Natural Gas\"],[\"Crude Petroleum and Natural Gas\"],[\"Crude Petroleum and Natural Gas\"],[\"Crude Petroleum and Natural Gas\"],[\"Crude Petroleum and Natural Gas\"],[\"Crude Petroleum and Natural Gas\"],[\"Crude Petroleum and Natural Gas\"],[\"Crude Petroleum and Natural Gas\"],[\"Crude Petroleum and Natural Gas\"],[\"Crude Petroleum and Natural Gas\"],[\"Crude Petroleum and Natural Gas\"],[\"Crude Petroleum and Natural Gas\"],[\"Crude Petroleum and Natural Gas\"],[\"Crude Petroleum and Natural Gas\"],[\"Crude Petroleum and Natural Gas\"],[\"Crude Petroleum and Natural Gas\"],[\"Crude Petroleum and Natural Gas\"],[\"Crude Petroleum and Natural Gas\"],[\"Crude Petroleum and Natural Gas\"],[\"Crude Petroleum and Natural Gas\"],[\"Crude Petroleum and Natural Gas\"],[\"Crude Petroleum and Natural Gas\"],[\"Crude Petroleum and Natural Gas\"],[\"Crude Petroleum and Natural Gas\"],[\"Crude Petroleum and Natural Gas\"],[\"Crude Petroleum and Natural Gas\"],[\"Crude Petroleum and Natural Gas\"],[\"Crude Petroleum and Natural Gas\"],[\"Crude Petroleum and Natural Gas\"],[\"Crude Petroleum and Natural Gas\"],[\"Crude Petroleum and Natural Gas\"],[\"Crude Petroleum and Natural Gas\"],[\"Crude Petroleum and Natural Gas\"],[\"Crude Petroleum and Natural Gas\"],[\"Crude Petroleum and Natural Gas\"],[\"Crude Petroleum and Natural Gas\"],[\"Crude Petroleum and Natural Gas\"],[\"Crude Petroleum and Natural Gas\"],[\"Crude Petroleum and Natural Gas\"],[\"Crude Petroleum and Natural Gas\"],[\"Crude Petroleum and Natural Gas\"],[\"Crude Petroleum and Natural Gas\"],[\"Crude Petroleum and Natural Gas\"],[\"Crude Petroleum and Natural Gas\"],[\"Crude Petroleum and Natural Gas\"],[\"Crude Petroleum and Natural Gas\"],[\"Crude Petroleum and Natural Gas\"],[\"Crude Petroleum and Natural Gas\"],[\"Crude Petroleum and Natural Gas\"],[\"Crude Petroleum and Natural Gas\"],[\"Crude Petroleum and Natural Gas\"],[\"Crude Petroleum and Natural Gas\"],[\"Crude Petroleum and Natural Gas\"],[\"Crude Petroleum and Natural Gas\"],[\"Crude Petroleum and Natural Gas\"],[\"Crude Petroleum and Natural Gas\"],[\"Crude Petroleum and Natural Gas\"],[\"Crude Petroleum and Natural Gas\"],[\"Crude Petroleum and Natural Gas\"]],\"hovertemplate\":\"SIC=Crude Petroleum and Natural Gas<br>0=%{x}<br>1=%{y}<br>2=%{z}<br>name=%{customdata[0]}<extra></extra>\",\"legendgroup\":\"Crude Petroleum and Natural Gas\",\"marker\":{\"color\":\"#EF553B\",\"symbol\":\"circle\"},\"mode\":\"markers\",\"name\":\"Crude Petroleum and Natural Gas\",\"scene\":\"scene\",\"showlegend\":true,\"x\":[-0.011016359999416967,0.08155386206843893,2.462099851337894,-0.2869700487294932,-0.12271166860608135,-0.09151559034040137,-0.39587715008798324,-0.7110852888687128,-0.4287861299198289,0.09617126229125603,-0.18712579069684945,-0.06893906122791153,0.0055705729882574466,0.09464786606727216,0.035601845827749244,0.5109616399268474,0.0623380851414523,0.09054483600459028,0.031010922276034907,0.04953400784377222,-0.37438195034439686,-0.06708215011839107,0.2983247895641911,-0.12205889947896252,2.0458749271028607,-0.007289827711719037,0.00853808498611321,-0.16890359317694367,-0.4072840817573875,0.015602160189028382,0.04346074933256249,-0.6697155800154901,-0.12235821283873387,-0.008694633780534856,-0.2689273258048832,-0.8187277664172513,0.3763793265877963,-0.3787073577729853,-0.1945637119811069,-0.2421053774226648,-0.12575158790680332,-0.141607227204885,-0.3932492539840476,-0.3932492539840476,-0.11148811359179253,-0.10621646148439381,-0.23227827007747723,0.004080862008604532,0.07361253698856077,0.0031906416194938145,-0.012128982113756969,0.5824285596818094,-0.18027824948338037,-0.3517178723463208,0.4728563072340271,-0.25976861827540143,-0.3073786948301747,0.015290330080393858,-0.003990228024910569,-0.10951741038078801,-0.06755645741309757,-0.38046175990009284,-0.039652192307210406,-0.12133498686550648,-0.17736654694695764,0.7300781038836458,-0.21177117435553858,0.10366216005670072,-0.07735142540926214,-0.4297678465119225,-0.05545683157331409,-0.13273448093555068,-0.1742489424661251,-0.35689033641190704,0.19005831479159968,-0.3264930509825932,-0.15374297521622962,-0.4930387393656726,-0.22029189453503198,-0.2692615701297458],\"y\":[-2.159120773497071,-1.7237457683298283,0.22049976134949947,0.44969182300698046,-1.9755533429980292,-0.8060442510236067,-0.6607071186145254,-1.2547921814557743,-1.302260335108059,-2.1054540846714382,-0.7757140214177956,-2.1488603057442197,-2.110554357354412,-2.1328116249588303,-1.4056534129841565,-0.9777923260433926,-1.9602969318956893,-2.0884417777715067,-1.9462526527739272,-2.128860574481517,-2.2571857899846552,-2.0037367454076214,-0.6071135414581919,-2.0533961714253715,-0.2466764899858321,-2.20744286759202,-2.2172476340236154,-2.2467439393861817,-2.414468116824447,-2.0887852200639436,-2.0585670984181603,-2.1479388654012825,-1.395073153083531,-2.1551103063560553,-1.3217588865357928,-2.0005406215692885,-1.8841731380089384,-2.014108667247413,-2.1515214574754356,-1.5677609992040167,-1.835587202625731,-2.2769041615473333,-1.9529168824700507,-1.9529168824700507,-2.178146121609078,-2.1514572500564353,-2.2548094023692045,-1.3838597962533612,-2.0954654619943134,-2.1619866837558757,-2.1285816952954417,-1.3498816223451253,-1.3058365881853584,-1.7879166308329324,-1.2780669237317892,-2.1986201117869757,-2.233787307584407,-2.0821756160994367,-2.0735639458158497,-2.081274430660057,-2.199450076430902,-2.0351573298705086,-1.2088592796701603,-1.0655042526750356,-2.1091201998726405,-0.8847276181989797,-1.2454952442954514,-2.165628962047599,-2.2338785495609934,-1.9174319652460177,-1.9351396482537635,-2.078389081408197,-2.01506311818582,-2.152616258712187,-1.4970149757729758,-2.309795296597899,-2.1644002483211433,-1.5349431506220166,-2.304473820164861,-2.251545039231],\"z\":[4.563717975757887,3.9388686384494904,-0.36052125311657196,0.9507637157642954,3.5795040682876498,0.04360932653113321,1.771152850344198,-1.098986217515969,0.5910242668019258,4.7145843045373885,2.5067619857566625,5.017965262146573,4.791354023846562,4.886838386062327,2.166181186650659,0.48433028604824885,3.6849075258405355,4.725480271085032,4.293631449694975,4.368730691226055,4.11619506970349,4.064488744459561,2.4088648773432113,3.0802551011488433,0.7384005541138648,4.816602495361894,4.558499732815272,4.084074620968301,3.9246849548204263,4.693154629250549,4.729497958462894,2.002297793210924,1.4824567914261906,4.319568070410267,2.5857000041911378,0.8884399241020766,4.3220781370063746,3.3159435285307515,4.1807366452811365,2.4524506531134915,3.2176868124067672,4.6911850286457595,1.2993973227655646,1.2993973227655646,3.95488211327555,4.155303849461593,3.9176480221063152,2.7196017623247717,4.834804184227487,4.742217147959312,4.688555667943524,2.347102547124382,2.887470687053317,2.613478282318241,3.348507494685689,3.9567741411269868,3.45405324409379,4.574732126382147,4.087159280183462,4.158338508602592,4.620045418187563,3.392584317946049,2.448862130631676,1.1369564371408083,4.266280273649228,0.20127352549436556,2.366172394532424,4.6364841609651,4.299763108395488,2.5512459323338943,4.467620982570675,3.7304419950626375,3.340587535184337,4.34503045513419,2.3208343566785237,4.064821944851498,4.572557762118651,0.06156651810838783,4.186090109192126,4.26211922438509],\"type\":\"scatter3d\"},{\"customdata\":[[\"Pharmaceutical Preparations\"],[\"Pharmaceutical Preparations\"],[\"Pharmaceutical Preparations\"],[\"Pharmaceutical Preparations\"],[\"Pharmaceutical Preparations\"],[\"Pharmaceutical Preparations\"],[\"Pharmaceutical Preparations\"],[\"Pharmaceutical Preparations\"],[\"Pharmaceutical Preparations\"],[\"Pharmaceutical Preparations\"],[\"Pharmaceutical Preparations\"],[\"Pharmaceutical Preparations\"],[\"Pharmaceutical Preparations\"],[\"Pharmaceutical Preparations\"],[\"Pharmaceutical Preparations\"],[\"Pharmaceutical Preparations\"],[\"Pharmaceutical Preparations\"],[\"Pharmaceutical Preparations\"],[\"Pharmaceutical Preparations\"],[\"Pharmaceutical Preparations\"],[\"Pharmaceutical Preparations\"],[\"Pharmaceutical Preparations\"],[\"Pharmaceutical Preparations\"],[\"Pharmaceutical Preparations\"],[\"Pharmaceutical Preparations\"],[\"Pharmaceutical Preparations\"],[\"Pharmaceutical Preparations\"],[\"Pharmaceutical Preparations\"],[\"Pharmaceutical Preparations\"],[\"Pharmaceutical Preparations\"],[\"Pharmaceutical Preparations\"],[\"Pharmaceutical Preparations\"],[\"Pharmaceutical Preparations\"],[\"Pharmaceutical Preparations\"],[\"Pharmaceutical Preparations\"],[\"Pharmaceutical Preparations\"],[\"Pharmaceutical Preparations\"],[\"Pharmaceutical Preparations\"],[\"Pharmaceutical Preparations\"],[\"Pharmaceutical Preparations\"],[\"Pharmaceutical Preparations\"],[\"Pharmaceutical Preparations\"],[\"Pharmaceutical Preparations\"],[\"Pharmaceutical Preparations\"],[\"Pharmaceutical Preparations\"],[\"Pharmaceutical Preparations\"],[\"Pharmaceutical Preparations\"],[\"Pharmaceutical Preparations\"],[\"Pharmaceutical Preparations\"],[\"Pharmaceutical Preparations\"],[\"Pharmaceutical Preparations\"],[\"Pharmaceutical Preparations\"],[\"Pharmaceutical Preparations\"],[\"Pharmaceutical Preparations\"],[\"Pharmaceutical Preparations\"],[\"Pharmaceutical Preparations\"],[\"Pharmaceutical Preparations\"],[\"Pharmaceutical Preparations\"],[\"Pharmaceutical Preparations\"],[\"Pharmaceutical Preparations\"],[\"Pharmaceutical Preparations\"],[\"Pharmaceutical Preparations\"],[\"Pharmaceutical Preparations\"],[\"Pharmaceutical Preparations\"],[\"Pharmaceutical Preparations\"],[\"Pharmaceutical Preparations\"],[\"Pharmaceutical Preparations\"],[\"Pharmaceutical Preparations\"],[\"Pharmaceutical Preparations\"],[\"Pharmaceutical Preparations\"],[\"Pharmaceutical Preparations\"],[\"Pharmaceutical Preparations\"],[\"Pharmaceutical Preparations\"],[\"Pharmaceutical Preparations\"],[\"Pharmaceutical Preparations\"],[\"Pharmaceutical Preparations\"],[\"Pharmaceutical Preparations\"],[\"Pharmaceutical Preparations\"],[\"Pharmaceutical Preparations\"],[\"Pharmaceutical Preparations\"],[\"Pharmaceutical Preparations\"],[\"Pharmaceutical Preparations\"],[\"Pharmaceutical Preparations\"],[\"Pharmaceutical Preparations\"],[\"Pharmaceutical Preparations\"],[\"Pharmaceutical Preparations\"],[\"Pharmaceutical Preparations\"],[\"Pharmaceutical Preparations\"],[\"Pharmaceutical Preparations\"],[\"Pharmaceutical Preparations\"],[\"Pharmaceutical Preparations\"],[\"Pharmaceutical Preparations\"],[\"Pharmaceutical Preparations\"],[\"Pharmaceutical Preparations\"],[\"Pharmaceutical Preparations\"],[\"Pharmaceutical Preparations\"],[\"Pharmaceutical Preparations\"],[\"Pharmaceutical Preparations\"],[\"Pharmaceutical Preparations\"],[\"Pharmaceutical Preparations\"],[\"Pharmaceutical Preparations\"],[\"Pharmaceutical Preparations\"],[\"Pharmaceutical Preparations\"],[\"Pharmaceutical Preparations\"],[\"Pharmaceutical Preparations\"],[\"Pharmaceutical Preparations\"],[\"Pharmaceutical Preparations\"],[\"Pharmaceutical Preparations\"],[\"Pharmaceutical Preparations\"],[\"Pharmaceutical Preparations\"],[\"Pharmaceutical Preparations\"],[\"Pharmaceutical Preparations\"],[\"Pharmaceutical Preparations\"],[\"Pharmaceutical Preparations\"],[\"Pharmaceutical Preparations\"],[\"Pharmaceutical Preparations\"],[\"Pharmaceutical Preparations\"],[\"Pharmaceutical Preparations\"],[\"Pharmaceutical Preparations\"],[\"Pharmaceutical Preparations\"],[\"Pharmaceutical Preparations\"],[\"Pharmaceutical Preparations\"],[\"Pharmaceutical Preparations\"],[\"Pharmaceutical Preparations\"],[\"Pharmaceutical Preparations\"],[\"Pharmaceutical Preparations\"],[\"Pharmaceutical Preparations\"],[\"Pharmaceutical Preparations\"],[\"Pharmaceutical Preparations\"],[\"Pharmaceutical Preparations\"],[\"Pharmaceutical Preparations\"],[\"Pharmaceutical Preparations\"],[\"Pharmaceutical Preparations\"],[\"Pharmaceutical Preparations\"],[\"Pharmaceutical Preparations\"],[\"Pharmaceutical Preparations\"],[\"Pharmaceutical Preparations\"],[\"Pharmaceutical Preparations\"],[\"Pharmaceutical Preparations\"],[\"Pharmaceutical Preparations\"],[\"Pharmaceutical Preparations\"],[\"Pharmaceutical Preparations\"],[\"Pharmaceutical Preparations\"],[\"Pharmaceutical Preparations\"],[\"Pharmaceutical Preparations\"],[\"Pharmaceutical Preparations\"],[\"Pharmaceutical Preparations\"],[\"Pharmaceutical Preparations\"],[\"Pharmaceutical Preparations\"],[\"Pharmaceutical Preparations\"],[\"Pharmaceutical Preparations\"],[\"Pharmaceutical Preparations\"],[\"Pharmaceutical Preparations\"],[\"Pharmaceutical Preparations\"],[\"Pharmaceutical Preparations\"],[\"Pharmaceutical Preparations\"],[\"Pharmaceutical Preparations\"],[\"Pharmaceutical Preparations\"],[\"Pharmaceutical Preparations\"],[\"Pharmaceutical Preparations\"],[\"Pharmaceutical Preparations\"],[\"Pharmaceutical Preparations\"],[\"Pharmaceutical Preparations\"],[\"Pharmaceutical Preparations\"],[\"Pharmaceutical Preparations\"],[\"Pharmaceutical Preparations\"],[\"Pharmaceutical Preparations\"],[\"Pharmaceutical Preparations\"],[\"Pharmaceutical Preparations\"],[\"Pharmaceutical Preparations\"],[\"Pharmaceutical Preparations\"],[\"Pharmaceutical Preparations\"],[\"Pharmaceutical Preparations\"],[\"Pharmaceutical Preparations\"],[\"Pharmaceutical Preparations\"],[\"Pharmaceutical Preparations\"],[\"Pharmaceutical Preparations\"],[\"Pharmaceutical Preparations\"],[\"Pharmaceutical Preparations\"],[\"Pharmaceutical Preparations\"],[\"Pharmaceutical Preparations\"],[\"Pharmaceutical Preparations\"],[\"Pharmaceutical Preparations\"],[\"Pharmaceutical Preparations\"],[\"Pharmaceutical Preparations\"],[\"Pharmaceutical Preparations\"],[\"Pharmaceutical Preparations\"],[\"Pharmaceutical Preparations\"],[\"Pharmaceutical Preparations\"],[\"Pharmaceutical Preparations\"],[\"Pharmaceutical Preparations\"],[\"Pharmaceutical Preparations\"],[\"Pharmaceutical Preparations\"],[\"Pharmaceutical Preparations\"],[\"Pharmaceutical Preparations\"],[\"Pharmaceutical Preparations\"],[\"Pharmaceutical Preparations\"],[\"Pharmaceutical Preparations\"],[\"Pharmaceutical Preparations\"],[\"Pharmaceutical Preparations\"],[\"Pharmaceutical Preparations\"],[\"Pharmaceutical Preparations\"],[\"Pharmaceutical Preparations\"],[\"Pharmaceutical Preparations\"],[\"Pharmaceutical Preparations\"],[\"Pharmaceutical Preparations\"],[\"Pharmaceutical Preparations\"],[\"Pharmaceutical Preparations\"]],\"hovertemplate\":\"SIC=Pharmaceutical Preparations<br>0=%{x}<br>1=%{y}<br>2=%{z}<br>name=%{customdata[0]}<extra></extra>\",\"legendgroup\":\"Pharmaceutical Preparations\",\"marker\":{\"color\":\"#00cc96\",\"symbol\":\"circle\"},\"mode\":\"markers\",\"name\":\"Pharmaceutical Preparations\",\"scene\":\"scene\",\"showlegend\":true,\"x\":[1.7908186901404914,1.0484285607775217,5.244782795286609,4.093085366795752,0.6159656824688959,1.2751516347823209,1.2751516347823209,4.891433821577185,3.205526396547889,0.40851714222209057,0.40851714222209057,4.323478747304625,5.043622732762974,1.755532140469376,4.760336823727886,-0.563782066404927,-0.323568650859879,-0.323568650859879,5.836282667357343,1.4157949715407074,2.770902875681686,0.04519229116169646,0.04519229116169646,4.3487114533434355,3.8315916579780303,4.5019995022729775,0.43354755060984984,1.28211345738902,4.033518371485877,4.869688504858677,1.0485964070163714,1.5736980554049822,4.937634862090019,4.937634862090019,5.357694893113876,3.876074805491831,2.0225308621673044,2.5218752185612745,3.1517580456730236,0.08731936352727956,5.196216047416219,5.6845042890999915,4.327543315607518,2.6958796623551184,0.571477580633364,4.380801192255789,4.432520250630039,3.2808017718340436,3.384269895478231,3.384269895478231,5.23583319245596,5.484822122184722,2.2499561516758106,3.4017659856499467,4.659195092941714,3.295789011590088,2.7301532164097777,5.146815552252817,0.23377933599230835,2.03037312394584,4.0036962636831985,4.466554694126057,4.070954244278153,3.084125542173879,3.5158295529856214,-0.45028080289901057,4.92330294147822,2.0537822460943356,5.118284222376242,4.433588069676685,5.152755600465696,4.603511354649557,4.760978496047274,5.232347388904843,4.499525675932837,5.536660389707824,4.43187808145654,3.691168808287401,0.8048082439409735,4.421125354161756,4.977357982620855,4.961728821603581,4.124819692638047,4.369129188020195,3.988699085185556,3.1013137562587354,2.8165696557526227,2.468852717217854,2.1030629087281505,5.270155101643845,4.241110714714472,3.08299223216296,1.4961862122283245,2.136255727314266,5.192797418870214,3.0467719740284833,3.037221557221368,5.043130921263239,2.596808340313993,4.133410291969365,1.2874258341023612,5.369870107720952,3.6123492126496446,4.507412481121622,5.114429848731505,3.4836761726253216,3.0446597814777134,0.5934241994420296,1.5123798576216831,3.710628261561916,0.6685286397998169,1.1766041340505606,5.364905067978208,3.9438097867324275,5.230664494938542,4.02273537050879,5.006201341102266,2.884340098889671,0.501682728571793,-0.29211930518515117,5.432531185745807,5.066242525215664,5.519676611570667,3.731616881801761,2.8307123200466062,4.3742132017238,4.185797153725112,2.384661246949927,4.698829961724799,3.929995446182427,3.929995446182427,3.929995446182427,3.929995446182427,3.929995446182427,3.929995446182427,5.220508495395297,3.5329920089228852,4.804777031654606,3.829042687213144,5.718111059841505,5.484576215117563,5.2879218649501905,5.017614406383119,1.342266802906622,1.342266802906622,4.328491839465725,4.328491839465725,4.328491839465725,4.328491839465725,3.9356591462499946,1.778969920563177,4.477990138512587,5.6750759569994935,5.526225341284728,5.265173055881339,5.099805256950033,4.3801955129812455,3.1071649850731013,0.6321043381349842,4.129435723477058,3.96857563481067,4.598673368404444,5.39853448719333,5.210490051691673,3.11783354669051,5.731312151851518,5.3331788454198135,2.5435369207154537,5.2926404113280405,5.49333756109204,5.565435137692021,5.12546439911996,1.950531469374892,4.6406736415438345,5.003695534788378,5.003695534788378,5.078807717869153,5.0889962564355615,3.303594132389555,5.402561758379413,3.8428316480820994,4.779693900814412,2.7811701434020546,4.4997960064100555,3.956873894144973,2.612944914737129,1.6401823901770827,2.888090050316758,5.415653055360651,2.0434014211687828,4.45080860830071,4.849367575728937,4.76059445432188,1.4868810793901912,1.4868810793901912,3.2367838472727444,4.262078829446076,4.54848769539544,4.2764868193365375,0.0015653756258793895,5.8657828763740945,5.471118305551617,3.7400885311572725,4.759239256014758,3.427157089838645,5.443639880105011,5.004415982142547,-0.4591340482920444],\"y\":[-0.16877905704419705,-0.4941908293043193,1.892773930677559,1.2418693972523607,-0.9170205402466695,-0.4487021003576981,-0.4487021003576981,1.6183128369338318,0.8129055809446604,-0.7216136143327788,-0.7216136143327788,1.4229301204759401,1.792287713789112,-0.3187863635094991,1.3997773997472496,-1.2616287301342197,-1.131147511756538,-1.131147511756538,1.9811150720158963,-0.10602138964078793,0.30715371513250406,-1.1544379988595717,-1.1544379988595717,1.3986763940140148,0.8482685543823265,1.2731686644943814,-0.2741432646298538,-0.3957522988255501,1.0265386570254749,1.6177298210547362,-0.28408777387269357,-0.22554020150285023,1.6092604381054167,1.6092604381054167,1.885959913727498,1.151845611583541,0.1868574452764292,0.5300149770425603,0.5500986595853263,-0.9329833462060989,1.6996996704670515,2.0505356180448713,1.4555991160580826,0.20506462004852546,-0.7335177987841611,1.1983708410610117,1.3703683691293582,0.8696341259230435,0.789484214385753,0.789484214385753,1.7202548083466735,1.8711761961834519,0.260356364045915,0.8213878048558138,1.315013412491369,0.5992340188990076,0.08182527084984328,1.775222688997639,-0.716064656679107,0.1742228060592903,1.1616841652565613,1.4603862892926918,1.0698879840091653,0.7807676382520428,0.6841265723027107,-0.7399911986714616,1.6718872081057634,-0.016987062509871913,1.7440031921255703,1.3592475885762068,1.6672585455006967,1.5489292637982026,1.4083924503347705,1.8687586025927283,1.4381505020187662,1.9731162973195728,1.2155127817415368,0.923994610022123,-1.0175369571972668,1.5090689242275233,1.7569512723074776,1.5783702516133225,1.327198712834133,1.1498727026107658,1.3077549830574737,0.7305360891826957,0.4679338016548881,0.1509771333373057,0.153627138522864,1.8821079891272257,1.389970143161689,0.7971487866558775,-0.2564116286663222,0.2887787271284218,1.694507115311845,0.6485397603862759,0.5085811276043264,1.744887173987127,0.22502439358601947,1.0980675760839658,-0.5069533070988024,1.8850360733256972,0.8811992575724104,1.501581477521073,1.7152557274306202,0.6804214019860272,0.45164717524964093,-1.017393922437947,-0.057173010095485366,0.8434281009418894,-0.684038344331945,-0.3530610233452935,1.7805930955835294,0.9800424594335645,1.8216579864459417,1.2721170456762039,1.5789379896060858,0.5092856405909878,-0.9078972726807202,-1.510105773205241,1.9062812273974965,1.8150304589456225,1.8937656677116361,0.7627785499238009,0.6651322315468519,1.2522482704355014,0.9428767053418388,0.42394432733813414,1.6077752531049088,1.191031062531925,1.191031062531925,1.191031062531925,1.191031062531925,1.191031062531925,1.191031062531925,1.851266612575681,0.9479794049455569,1.5432254401419334,0.9539228608019167,2.0868738783859793,1.9254315482362736,1.9296528210006367,1.5840080237962826,-0.5050998590680609,-0.5050998590680609,1.0074185300671572,1.0074185300671572,1.0074185300671572,1.0074185300671572,1.2029856282706644,-0.39725767965996406,1.4881869164223485,1.9143268138310874,1.898224783191009,1.6229918900325082,1.6354812274179507,1.313828455094768,0.6962445037714339,-0.8634465205339809,1.1920749422606878,1.035805251952468,1.610380946710097,1.9212916886096296,1.8727354027537515,0.5839687784567399,2.0137449513319905,1.7823866027006816,0.3989831949429801,1.8176987500030006,1.921252326121256,2.023731952955005,1.6389213602187813,-0.0032556644278478055,1.5668940322023417,1.7595444102620263,1.7595444102620263,1.6886581725370295,1.791019246642402,0.8438533249679162,1.8110580696258016,1.2032410895325227,1.6488346724825012,0.5634027737354143,1.3971632371545697,1.0068980537153025,0.2077297577261043,-0.4082924425094373,0.6338313457646458,1.7638449751301002,0.2706185553200755,1.3043057652453085,1.6151509191979607,1.5602077812161192,-0.34442976207575654,-0.34442976207575654,0.5544177826318721,1.2250068418113234,1.4599388805571194,1.218692984678819,-0.6791668646431223,2.149232236565569,2.024299258563989,0.8711906860724414,1.306403923339775,0.5306494358133764,1.9921710151410748,1.6372117977657483,-1.4320473259074549],\"z\":[-0.6262199455778809,0.28981160721449806,-0.1769712574406733,0.14027055247840695,-0.5410898191141486,-0.561063291624412,-0.561063291624412,-0.7660227219463166,0.2536645263680117,0.5219465896195103,0.5219465896195103,-0.1773593881024962,-1.0435446227796152,0.22132388690150853,-0.5407903873967681,0.6386125370869036,0.003021880605267645,0.003021880605267645,-1.5704366652236077,1.6179482511689205,-0.9916761757549526,0.6416877056571859,0.6416877056571859,0.10817302633346623,-1.2115347892744857,-0.803292797884611,0.8121750547504761,1.560778763501665,-1.0566294203551754,-0.4128496343319597,1.6346696184836245,0.6648195709729012,-1.1011589184800867,-1.1011589184800867,-1.168810417859003,0.41445168012268274,1.2466366248626382,1.303025181703962,0.002140897855090771,0.3446090921619618,-1.3822209612622698,-1.1669970873773925,0.296171397181865,-1.087546333615531,0.6755595671119957,-0.8570948380337942,-0.8664125408704206,0.7760622248640321,0.31217936707472854,0.31217936707472854,-1.1128734485041838,-1.2321875905566428,1.047038369294267,0.04079320416392052,-0.7759210115079694,-0.6047943286276888,-0.4074370573022331,-0.8428639045260927,1.7992280176010638,1.27869749504943,0.15386454086847712,0.13424270834678667,-1.0248004333030654,-0.27619892586425443,-0.7956286384291724,1.6789375494869225,-0.46454256271538363,-0.6278274905679962,-0.501846685713518,-1.4144731049972088,-1.3731316658466906,0.12121455577830674,-1.5621485102078154,-0.9002158731819908,0.08383866460905556,-1.3779580549774992,-0.8380047567240153,-0.9076610389497736,-0.049338638454314486,0.2796928524654682,-0.21829293241797904,-1.2632482740666047,0.4085234887305186,-0.6022842721951868,0.5551511524974203,0.847300610131269,0.46961081210021666,0.2252285257483644,-0.28211042608517856,-0.7066353121017277,0.3153083511734502,0.6230942060176283,0.5214706885573133,0.8054361507589693,-1.4509100017283765,-0.02564987049569137,-0.38041484769353084,-0.30280924854101193,-0.18258879504478778,-0.8846963895164602,0.019839921175596915,-1.1667288617265137,0.09935257751525456,0.11537599161825009,-1.0128002725190468,-0.12460542168768184,-0.590529490472125,-0.07532466340744239,0.04770343984526339,-0.28538023895158643,1.144034294898798,0.877498346950375,-1.2578690648898263,-1.3927338722726947,-1.0415855524457238,0.42533491426514636,-1.4192768346241809,0.4875226867547535,0.9643642731407103,-0.12686322162039387,-0.8084149956929203,-0.8236694005680902,-1.19454048033141,-1.0312308749784684,0.901424681896769,-1.245759528782862,-1.6698929750736118,1.339094171793591,-0.9681261605496313,0.4194931411151731,0.4194931411151731,0.4194931411151731,0.4194931411151731,0.4194931411151731,0.4194931411151731,-0.5672697026602367,0.34628292124624793,-1.4285167341473275,-0.9509287790441674,-1.1044650645745737,-1.0612145017407444,-0.32826029251763106,-1.5102822003342236,-0.6143026664039185,-0.6143026664039185,-1.596012324467985,-1.596012324467985,-1.596012324467985,-1.596012324467985,0.02560199386341924,-0.2601224512770887,0.1269859192054475,-0.9176724508709059,-1.1967185045996853,-1.2627463920444124,-1.1192597018153845,-0.8648706543391146,0.6386591595865821,-0.3887827848771024,-0.08755084932320441,-0.11793963890952139,0.19773304002681022,-1.1338071866628965,-0.26194373258532055,-0.5754451078896876,-1.311466837542959,-1.1388938902932886,0.771138491628318,-1.2276437105786908,-1.0654060140164272,-1.0136755668045554,-0.9919155984173967,0.4787647795031393,-0.03531511191895719,-0.07880759009743231,-0.07880759009743231,-0.46176253485891616,-0.24785238447621766,0.7248150918006644,-1.3780652641746245,0.5008528742381356,-0.09946719500426483,0.842712312764414,-0.2244436663210418,-0.8307533010668372,-0.3655112736540197,-0.5779094298285451,0.5954672994479215,-1.276375339935941,1.4945525442885372,-1.0217084449333005,-0.9117407347888524,-0.8498383083090953,-0.15606731239384547,-0.15606731239384547,0.06738389823157277,-0.7399595989170845,-0.7436926122044525,-0.8118983484641362,0.3670242097982399,-1.2701452572383078,-0.8289549323264629,-1.5377603457169042,-1.3525694574831144,-0.9301734090133033,-1.0760531456891171,-0.7093764240251538,0.2761233447232202],\"type\":\"scatter3d\"},{\"customdata\":[[\"Real Estate Investment Trusts\"],[\"Real Estate Investment Trusts\"],[\"Real Estate Investment Trusts\"],[\"Real Estate Investment Trusts\"],[\"Real Estate Investment Trusts\"],[\"Real Estate Investment Trusts\"],[\"Real Estate Investment Trusts\"],[\"Real Estate Investment Trusts\"],[\"Real Estate Investment Trusts\"],[\"Real Estate Investment Trusts\"],[\"Real Estate Investment Trusts\"],[\"Real Estate Investment Trusts\"],[\"Real Estate Investment Trusts\"],[\"Real Estate Investment Trusts\"],[\"Real Estate Investment Trusts\"],[\"Real Estate Investment Trusts\"],[\"Real Estate Investment Trusts\"],[\"Real Estate Investment Trusts\"],[\"Real Estate Investment Trusts\"],[\"Real Estate Investment Trusts\"],[\"Real Estate Investment Trusts\"],[\"Real Estate Investment Trusts\"],[\"Real Estate Investment Trusts\"],[\"Real Estate Investment Trusts\"],[\"Real Estate Investment Trusts\"],[\"Real Estate Investment Trusts\"],[\"Real Estate Investment Trusts\"],[\"Real Estate Investment Trusts\"],[\"Real Estate Investment Trusts\"],[\"Real Estate Investment Trusts\"],[\"Real Estate Investment Trusts\"],[\"Real Estate Investment Trusts\"],[\"Real Estate Investment Trusts\"],[\"Real Estate Investment Trusts\"],[\"Real Estate Investment Trusts\"],[\"Real Estate Investment Trusts\"],[\"Real Estate Investment Trusts\"],[\"Real Estate Investment Trusts\"],[\"Real Estate Investment Trusts\"],[\"Real Estate Investment Trusts\"],[\"Real Estate Investment Trusts\"],[\"Real Estate Investment Trusts\"],[\"Real Estate Investment Trusts\"],[\"Real Estate Investment Trusts\"],[\"Real Estate Investment Trusts\"],[\"Real Estate Investment Trusts\"],[\"Real Estate Investment Trusts\"],[\"Real Estate Investment Trusts\"],[\"Real Estate Investment Trusts\"],[\"Real Estate Investment Trusts\"],[\"Real Estate Investment Trusts\"],[\"Real Estate Investment Trusts\"],[\"Real Estate Investment Trusts\"],[\"Real Estate Investment Trusts\"],[\"Real Estate Investment Trusts\"],[\"Real Estate Investment Trusts\"],[\"Real Estate Investment Trusts\"],[\"Real Estate Investment Trusts\"],[\"Real Estate Investment Trusts\"],[\"Real Estate Investment Trusts\"],[\"Real Estate Investment Trusts\"],[\"Real Estate Investment Trusts\"],[\"Real Estate Investment Trusts\"],[\"Real Estate Investment Trusts\"],[\"Real Estate Investment Trusts\"],[\"Real Estate Investment Trusts\"],[\"Real Estate Investment Trusts\"],[\"Real Estate Investment Trusts\"],[\"Real Estate Investment Trusts\"],[\"Real Estate Investment Trusts\"],[\"Real Estate Investment Trusts\"],[\"Real Estate Investment Trusts\"],[\"Real Estate Investment Trusts\"],[\"Real Estate Investment Trusts\"],[\"Real Estate Investment Trusts\"],[\"Real Estate Investment Trusts\"],[\"Real Estate Investment Trusts\"],[\"Real Estate Investment Trusts\"],[\"Real Estate Investment Trusts\"],[\"Real Estate Investment Trusts\"],[\"Real Estate Investment Trusts\"],[\"Real Estate Investment Trusts\"],[\"Real Estate Investment Trusts\"],[\"Real Estate Investment Trusts\"],[\"Real Estate Investment Trusts\"],[\"Real Estate Investment Trusts\"],[\"Real Estate Investment Trusts\"],[\"Real Estate Investment Trusts\"],[\"Real Estate Investment Trusts\"],[\"Real Estate Investment Trusts\"],[\"Real Estate Investment Trusts\"],[\"Real Estate Investment Trusts\"],[\"Real Estate Investment Trusts\"],[\"Real Estate Investment Trusts\"],[\"Real Estate Investment Trusts\"],[\"Real Estate Investment Trusts\"],[\"Real Estate Investment Trusts\"],[\"Real Estate Investment Trusts\"],[\"Real Estate Investment Trusts\"],[\"Real Estate Investment Trusts\"],[\"Real Estate Investment Trusts\"],[\"Real Estate Investment Trusts\"],[\"Real Estate Investment Trusts\"],[\"Real Estate Investment Trusts\"],[\"Real Estate Investment Trusts\"],[\"Real Estate Investment Trusts\"],[\"Real Estate Investment Trusts\"],[\"Real Estate Investment Trusts\"],[\"Real Estate Investment Trusts\"],[\"Real Estate Investment Trusts\"],[\"Real Estate Investment Trusts\"],[\"Real Estate Investment Trusts\"],[\"Real Estate Investment Trusts\"],[\"Real Estate Investment Trusts\"],[\"Real Estate Investment Trusts\"],[\"Real Estate Investment Trusts\"],[\"Real Estate Investment Trusts\"],[\"Real Estate Investment Trusts\"],[\"Real Estate Investment Trusts\"],[\"Real Estate Investment Trusts\"],[\"Real Estate Investment Trusts\"],[\"Real Estate Investment Trusts\"],[\"Real Estate Investment Trusts\"],[\"Real Estate Investment Trusts\"],[\"Real Estate Investment Trusts\"],[\"Real Estate Investment Trusts\"],[\"Real Estate Investment Trusts\"],[\"Real Estate Investment Trusts\"],[\"Real Estate Investment Trusts\"],[\"Real Estate Investment Trusts\"],[\"Real Estate Investment Trusts\"],[\"Real Estate Investment Trusts\"],[\"Real Estate Investment Trusts\"],[\"Real Estate Investment Trusts\"],[\"Real Estate Investment Trusts\"],[\"Real Estate Investment Trusts\"],[\"Real Estate Investment Trusts\"],[\"Real Estate Investment Trusts\"],[\"Real Estate Investment Trusts\"],[\"Real Estate Investment Trusts\"],[\"Real Estate Investment Trusts\"],[\"Real Estate Investment Trusts\"],[\"Real Estate Investment Trusts\"],[\"Real Estate Investment Trusts\"],[\"Real Estate Investment Trusts\"],[\"Real Estate Investment Trusts\"],[\"Real Estate Investment Trusts\"],[\"Real Estate Investment Trusts\"],[\"Real Estate Investment Trusts\"],[\"Real Estate Investment Trusts\"],[\"Real Estate Investment Trusts\"],[\"Real Estate Investment Trusts\"],[\"Real Estate Investment Trusts\"],[\"Real Estate Investment Trusts\"],[\"Real Estate Investment Trusts\"],[\"Real Estate Investment Trusts\"],[\"Real Estate Investment Trusts\"],[\"Real Estate Investment Trusts\"],[\"Real Estate Investment Trusts\"],[\"Real Estate Investment Trusts\"],[\"Real Estate Investment Trusts\"],[\"Real Estate Investment Trusts\"],[\"Real Estate Investment Trusts\"],[\"Real Estate Investment Trusts\"],[\"Real Estate Investment Trusts\"],[\"Real Estate Investment Trusts\"],[\"Real Estate Investment Trusts\"],[\"Real Estate Investment Trusts\"],[\"Real Estate Investment Trusts\"],[\"Real Estate Investment Trusts\"],[\"Real Estate Investment Trusts\"],[\"Real Estate Investment Trusts\"],[\"Real Estate Investment Trusts\"],[\"Real Estate Investment Trusts\"],[\"Real Estate Investment Trusts\"],[\"Real Estate Investment Trusts\"],[\"Real Estate Investment Trusts\"],[\"Real Estate Investment Trusts\"],[\"Real Estate Investment Trusts\"],[\"Real Estate Investment Trusts\"],[\"Real Estate Investment Trusts\"],[\"Real Estate Investment Trusts\"],[\"Real Estate Investment Trusts\"],[\"Real Estate Investment Trusts\"],[\"Real Estate Investment Trusts\"],[\"Real Estate Investment Trusts\"],[\"Real Estate Investment Trusts\"],[\"Real Estate Investment Trusts\"],[\"Real Estate Investment Trusts\"],[\"Real Estate Investment Trusts\"],[\"Real Estate Investment Trusts\"]],\"hovertemplate\":\"SIC=Real Estate Investment Trusts<br>0=%{x}<br>1=%{y}<br>2=%{z}<br>name=%{customdata[0]}<extra></extra>\",\"legendgroup\":\"Real Estate Investment Trusts\",\"marker\":{\"color\":\"#ab63fa\",\"symbol\":\"circle\"},\"mode\":\"markers\",\"name\":\"Real Estate Investment Trusts\",\"scene\":\"scene\",\"showlegend\":true,\"x\":[-1.9422746133043793,-1.5528748687666687,-1.6701301272280042,-1.5521577710041787,-1.5521577710041787,-2.304062101894386,-2.304062101894386,-1.772006521337941,-1.8396780241278934,-1.1684284079654639,-2.323978747436551,-0.12886668328603393,-1.748248133963038,-1.726264787564089,-1.337494744483605,-0.07766674207577874,-1.5549390872976911,-1.4045462908136679,-1.9855835427176178,-2.781668681083865,-0.7182570482601416,-2.1040976531916837,-2.7993718937731282,-1.692434970058155,-1.6549824071176842,-0.21590618479935084,-2.8324219687760874,-2.3154851890760306,-1.9500663279389514,-1.2657694863033586,-0.9171584520856154,-0.6028196970002656,-1.3845962634899813,-2.065628958284691,-0.8890035786309421,-2.4978434271699337,-1.4145449305606013,-1.3449839047710386,-0.488516936176841,-2.14564638883138,-2.6052598175664334,-1.997122259451111,-0.8776339802829,-2.058250564940226,-1.9326064790749593,-2.507770322359345,-0.31547236610649315,-3.073168525631264,-0.3342436376140775,-2.482141574031453,-2.265291544977026,-1.684830520233409,-1.483340350510655,-0.31547236610649315,-1.9934325526589982,-1.6574768197675094,-2.022815667869913,-1.5781427592804507,-1.3902459747414808,-1.4332913646152887,-2.469019082322508,-0.9740004601246406,-2.433691240927694,-1.0563086399372688,-2.6850169913667097,-1.3063072960089939,-1.7955952633938133,-2.1067822799896727,-0.9960158052104786,-0.3154723661064932,-2.219334461418313,-2.3670782413145712,-2.278487894943387,-2.1340266565192803,-1.1483304168986534,-2.239155099625544,-1.8387101729691244,-1.5646979865689323,-1.755589501775618,-0.17423475660105006,-1.3521529087454405,-1.790667824042406,-2.0315909088277535,0.07877619952686118,-0.8424253573024373,-1.7315632688479092,-1.8399326003014158,-1.9625616449639967,-1.1650655396882406,-1.7136943131316273,-2.4872281559364686,-0.31547236610649315,-1.4434866451209158,-2.9094545050598923,-0.23884176699288232,-2.091447819308088,-1.0931178943118465,-0.6035298352281249,-1.434384702211297,-1.5036319454860796,-1.3899522793638248,-1.2232640029046005,-2.722248475937275,-2.088577010679124,-1.6113143722583685,-1.2210942668476066,-2.5306573165210127,-1.359073786979557,-0.9592746393009481,-0.5794542378182809,-0.8399238796111952,-1.6921723112402651,-2.3343224978609607,-0.8370529260138077,-0.6028650938884595,-2.477122113771869,-0.2001227655068818,-1.8451010213316779,-2.0550406774090115,-1.110071803346205,-0.4286014950476482,-1.6466319107640166,-2.220042949341092,-0.5721722346055405,-1.8883292254444881,-1.857703607693063,-2.552878533632181,-1.5528325830507184,-1.4501540964014115,-0.6631894908755847,-1.6347168366419003,-0.9706625191515992,-1.3331722608392071,-1.5623327794525361,-2.294581997544781,-0.6221622836983567,-2.3356215278343777,-1.76780697718598,-1.7069041856253557,-0.40401309559774123,-2.1468024337863483,-2.4695264936528574,-0.8324071167746513,-2.5535359213880433,-0.9020117762271364,-2.5931875295910585,-0.7249444941420066,-2.6707477289918917,-2.508001643895564,-2.2972571998014817,-2.2972571998014817,-2.6554229346066727,-2.754317805457098,-0.8190191306218191,-1.9392053299592356,-0.3145520060254937,-2.586651946659614,-2.812388631365952,-2.3778210647278315,-2.3427489860947013,-1.7503281808321605,-0.33287191553217116,-2.4668281176516653,-2.16499794560943,-0.7967544897335814,-0.6390980555843849,-1.9662650110668314,-1.3124357401998403,-2.164866550724044,-2.678187978198264,-2.411965885785799,-1.8776891791224066,-2.214915524917549,-2.023784668253832,-1.8201585080166338,-2.2692691285989715,-1.8360998549848933,-0.9644339806143017,-1.2926483685767254,-0.37911486374711634,-2.5684905698897036,-2.0543938411449956,-1.3021480563862493,-0.5924972160559084,-1.1639176839662089,-2.5450232612435877,-0.612776762570669,-2.237127657772859,-2.6656301678596686,-1.10166116192255,0.060492076295895314],\"y\":[-2.1174304895647404,-1.8713219802036114,-1.9877765924580018,-1.2298713037315008,-1.2298713037315008,-2.1725392234242884,-2.1725392234242884,-2.2919621672175707,-2.12536779122547,-2.1456808779869645,-2.4343551903315794,-1.1495601944760199,-2.1776717308632776,-2.4180598929781136,-1.994712106454227,-1.0423589929908699,-0.951410106347715,-2.0707027087174152,-2.1443168634984637,-2.23971728425036,-1.497045885242628,-2.1181118220349986,-2.337554045970564,-1.2966395767481838,-2.050534576293007,-1.157418251790713,-1.017586614746603,-2.493398160327004,-2.364776670166183,-2.1484759537169658,-1.979335033808977,-1.3839415702765394,-1.7692868329475084,-1.7387531857533092,-1.708070762261027,-2.408915686505884,-1.8832507114819446,-1.9355128277548486,-1.7282658674193099,-1.9938235651805674,-2.337966193012762,-1.9867881549107422,-1.7928414855109318,-2.0787180155566487,-2.515018830704512,-2.6591858973465077,-0.5914040973371353,-1.9317567321809255,-1.4431206992705543,-2.334701616346205,-1.2496102568290834,-2.3326668258005623,-1.320910349571577,-0.5914040973371353,-2.390379471884166,-1.9336980759660858,-2.339368361607603,-1.7063049324385924,-2.0209367846155812,-1.6844870017060043,-2.115142955996077,-1.6638530481909053,-1.2471627972773123,-1.7863360295553852,-2.366542808020539,-1.6489035911405203,-0.594701044181359,-1.4143211975667234,-1.7488115568149498,-0.5914040973371353,-2.0648404731002037,-2.3640480577646903,-1.7638068833937037,-2.322853193544355,-1.4515483086113048,-1.902374831606701,-2.1572978127398823,-1.3665667260041392,-2.306288767898911,-1.2110551754098224,-2.0992366106142,-2.2323268291899954,-2.257032291389081,-1.1366130795952156,-1.8740392324197614,-2.2230199535624156,-2.210426587988966,-2.0579540983805553,-2.1563993269342516,-1.879687775143382,-1.3186039963389513,-0.5914040973371353,-1.9622819700903584,-1.683783149197993,-1.161052902168597,-1.7937852043721638,-1.739892928489708,-1.7570190625398563,-2.3039380545232424,-2.2894900898024297,-1.7920760561060172,-2.0009926737953285,-1.7379575604307984,-1.92327885671456,-2.206949172133774,-1.7823420952078437,-2.288783583007229,-2.2731903608478166,-1.7333805074714586,-1.0870872063906816,-2.0298688683682924,-2.199343219930845,-1.8733793540742056,-1.7252309799525611,-1.4184196172061199,-2.4702243869950085,-1.174440193134105,-1.8846716337952085,-2.4634230678347713,-1.8739761576906726,-1.2551765054057198,-2.097805467678647,-2.1680516539535306,-0.9024098515612451,-1.7319811775218537,-2.3022298240795545,-2.3710450628480286,-1.1647087250423438,-1.889868770212492,-1.6443736547833874,-2.1538265257495643,-1.4757326346212407,-1.8150860028299833,-1.949657995558825,-2.473540781962603,-1.9275856244974097,-1.9563444814921573,-1.7358215040094163,-0.9167534483970871,-1.2154644648100605,-2.549746440066059,-2.4810498972816957,-1.4608069465473899,-1.2203402402528643,-1.7834663220051663,-2.1867982311214282,-1.6210743693160723,-1.72698055747379,-2.4384535786413593,-2.414924118590305,-2.414924118590305,-2.426323107922496,-2.2937794553579094,-1.7604736608972646,-1.6656136861594355,-0.8365241804787278,-2.463066054928145,-1.629888379869895,-2.400071472419552,-1.2177523735780784,-1.8791686501840328,-1.4693998087898317,-1.4937916378505156,-1.7110233272115174,-1.3190792805867328,-1.5938355855190123,-2.403045548110458,-2.2769089050108384,-2.411866700356036,-2.330526619658264,-2.191963901863839,-2.3919958663985863,-2.646210238561045,-2.0573771842990043,-1.9594918856705588,-1.7692802567183272,-1.8275464155547658,-2.0271725036858554,-1.9323195376604718,-1.210316720076166,-1.6959349540309565,-2.27920183404755,-1.6706973430473153,-1.746978591277423,-2.2147181038870927,-2.4438557296444796,-1.716165515755942,-2.0976315416530915,-2.328698418308598,-2.2483714323895,-0.8988746105567803],\"z\":[-1.5501162542852105,-0.6988069843162584,-1.1870075801583553,-0.20848391873009192,-0.20848391873009192,-1.9685848890199402,-1.9685848890199402,-2.180293151385511,-1.478392888525102,-1.529287708159874,-2.4876005024424903,1.424683740575959,-1.4764522327675191,-1.7868341697651897,-0.8990225583828724,1.4221313179189567,-0.3392037367722433,-0.6567310966998432,-1.591918078154965,-2.548234172505342,-1.5319483827332012,-1.766197974616793,-2.650834380517132,-0.7199157725570415,-2.0135459056464393,0.5734595930659165,-1.5472439466623706,-2.2098359427767362,-2.0212531521966386,-0.5896534784711818,-1.5314169890361076,0.25255760417618783,-1.0062706438567282,-1.8843114338238203,-1.2084803236692854,-2.511491986959928,-1.5151158150089843,-1.666248095969796,-1.0877090738128345,-1.7608032661748414,-2.782978572786245,-1.21965736207196,-1.2805617522603903,-1.668383303428933,-1.5618877371433415,-2.754681421670331,1.9603244549503716,-2.539859817249535,-0.4901755130172678,-2.1197375784396275,-1.2268388631919467,-1.8395079384080402,-0.3570549241112086,1.9603244549503716,-2.272472666047999,-1.6616456710998782,-2.3210981560412627,-0.5610010064741606,-0.9468615421260862,-0.5378183572021314,-1.7159629805277914,-0.5216226240798392,-1.293294710059808,-0.42141030155978176,-2.8736061459013142,-1.1258457207665193,-0.04480609936128517,-1.2059618656194553,-0.24972691899938632,1.9603244549503716,-2.642824329975838,-2.274224518609971,-2.0293963146566125,-1.9278540061799256,-1.0018299670652495,-1.4970486038032031,-1.5948238716497962,-0.6049185976378947,-1.6157319956706993,0.6486566081145954,-2.0405291176366003,-1.2091470399236943,-1.86292361202357,-0.39665920932164966,-0.5890152154963392,-1.5646355859123857,-1.7111652224677565,-1.8178737576446267,-0.8235306423351606,-0.7113459805638994,-1.5524250057466351,1.9603244549503716,-1.5027178305447222,-2.0061925403182594,1.2212216280739159,-2.2361077696925817,-1.467390210709616,-0.23741155556071944,-1.339250987235137,-1.291197911467269,-1.0050666659757828,-0.7554050323994173,-2.403032172906793,-1.1068315819212413,-2.159957214812358,-0.5234843962822874,-2.3602818093373834,-1.6644422651402948,-0.37728273334699375,0.00793576039292819,-1.1502500899344203,-1.745107642150859,-1.9052403424502498,-0.44548144374664983,-0.30844913680544733,-2.4866320037009904,1.329222802227525,-1.0189088757134115,-2.6299320651076186,-0.9831580230270477,0.1560519741653289,-1.0294496498995935,-2.013951162529786,1.3144042540597924,-1.0666107478969655,-1.551202437036159,-2.2950230349908884,-0.26161693966612,-2.10842871401138,0.2857135230972842,-1.7333502288877094,-0.814363324505046,-1.1084927870110837,-0.9761504129751748,-2.452156337065022,0.07631882522690402,-2.293983375481651,-1.3148890180747306,-0.3776880639436865,0.7243769491008765,-2.3335985658629035,-2.565416323945866,-1.0796049283392872,-1.5727862161864645,0.07154684451518867,-2.4899015469486923,0.034142246304514685,-2.097313327956166,-3.0243084894769234,-2.641414636171962,-2.641414636171962,-2.4245410006603025,-2.9906256562519977,-0.11917394508012642,-0.8902355237522204,1.5006314680797197,-2.75603619424693,-2.030482002440161,-2.489917132076551,-1.5216056968233251,-1.092185111869752,-1.4280502036756244,-1.9677001743007627,-1.306935036000801,0.6984010481812222,-0.3179769002159494,-2.160141065013512,-1.2881681622966559,-2.318440386166757,-2.5387018545430204,-2.485805691555164,-1.6183640028736839,-2.401729714021257,-1.9908130667200281,-1.4495615159627457,-1.7353236532655496,-0.7374219749950095,-0.27075058685364384,-0.36047881537100956,1.0175169090487415,-2.119593535874594,-2.0053155610177797,-1.799388318666295,-0.46411992549515646,-1.01787302285872,-2.6230986569085077,0.317671308654743,-2.1694928962370423,-2.639931558141027,-1.6021658069787408,1.6616764831422142],\"type\":\"scatter3d\"},{\"customdata\":[[\"State Commercial Banks (commercial banking)\"],[\"State Commercial Banks (commercial banking)\"],[\"State Commercial Banks (commercial banking)\"],[\"State Commercial Banks (commercial banking)\"],[\"State Commercial Banks (commercial banking)\"],[\"State Commercial Banks (commercial banking)\"],[\"State Commercial Banks (commercial banking)\"],[\"State Commercial Banks (commercial banking)\"],[\"State Commercial Banks (commercial banking)\"],[\"State Commercial Banks (commercial banking)\"],[\"State Commercial Banks (commercial banking)\"],[\"State Commercial Banks (commercial banking)\"],[\"State Commercial Banks (commercial banking)\"],[\"State Commercial Banks (commercial banking)\"],[\"State Commercial Banks (commercial banking)\"],[\"State Commercial Banks (commercial banking)\"],[\"State Commercial Banks (commercial banking)\"],[\"State Commercial Banks (commercial banking)\"],[\"State Commercial Banks (commercial banking)\"],[\"State Commercial Banks (commercial banking)\"],[\"State Commercial Banks (commercial banking)\"],[\"State Commercial Banks (commercial banking)\"],[\"State Commercial Banks (commercial banking)\"],[\"State Commercial Banks (commercial banking)\"],[\"State Commercial Banks (commercial banking)\"],[\"State Commercial Banks (commercial banking)\"],[\"State Commercial Banks (commercial banking)\"],[\"State Commercial Banks (commercial banking)\"],[\"State Commercial Banks (commercial banking)\"],[\"State Commercial Banks (commercial banking)\"],[\"State Commercial Banks (commercial banking)\"],[\"State Commercial Banks (commercial banking)\"],[\"State Commercial Banks (commercial banking)\"],[\"State Commercial Banks (commercial banking)\"],[\"State Commercial Banks (commercial banking)\"],[\"State Commercial Banks (commercial banking)\"],[\"State Commercial Banks (commercial banking)\"],[\"State Commercial Banks (commercial banking)\"],[\"State Commercial Banks (commercial banking)\"],[\"State Commercial Banks (commercial banking)\"],[\"State Commercial Banks (commercial banking)\"],[\"State Commercial Banks (commercial banking)\"],[\"State Commercial Banks (commercial banking)\"],[\"State Commercial Banks (commercial banking)\"],[\"State Commercial Banks (commercial banking)\"],[\"State Commercial Banks (commercial banking)\"],[\"State Commercial Banks (commercial banking)\"],[\"State Commercial Banks (commercial banking)\"],[\"State Commercial Banks (commercial banking)\"],[\"State Commercial Banks (commercial banking)\"],[\"State Commercial Banks (commercial banking)\"],[\"State Commercial Banks (commercial banking)\"],[\"State Commercial Banks (commercial banking)\"],[\"State Commercial Banks (commercial banking)\"],[\"State Commercial Banks (commercial banking)\"],[\"State Commercial Banks (commercial banking)\"],[\"State Commercial Banks (commercial banking)\"],[\"State Commercial Banks (commercial banking)\"],[\"State Commercial Banks (commercial banking)\"],[\"State Commercial Banks (commercial banking)\"],[\"State Commercial Banks (commercial banking)\"],[\"State Commercial Banks (commercial banking)\"],[\"State Commercial Banks (commercial banking)\"],[\"State Commercial Banks (commercial banking)\"],[\"State Commercial Banks (commercial banking)\"],[\"State Commercial Banks (commercial banking)\"],[\"State Commercial Banks (commercial banking)\"],[\"State Commercial Banks (commercial banking)\"],[\"State Commercial Banks (commercial banking)\"],[\"State Commercial Banks (commercial banking)\"],[\"State Commercial Banks (commercial banking)\"],[\"State Commercial Banks (commercial banking)\"],[\"State Commercial Banks (commercial banking)\"],[\"State Commercial Banks (commercial banking)\"],[\"State Commercial Banks (commercial banking)\"],[\"State Commercial Banks (commercial banking)\"],[\"State Commercial Banks (commercial banking)\"],[\"State Commercial Banks (commercial banking)\"],[\"State Commercial Banks (commercial banking)\"],[\"State Commercial Banks (commercial banking)\"],[\"State Commercial Banks (commercial banking)\"],[\"State Commercial Banks (commercial banking)\"],[\"State Commercial Banks (commercial banking)\"],[\"State Commercial Banks (commercial banking)\"],[\"State Commercial Banks (commercial banking)\"],[\"State Commercial Banks (commercial banking)\"],[\"State Commercial Banks (commercial banking)\"],[\"State Commercial Banks (commercial banking)\"],[\"State Commercial Banks (commercial banking)\"],[\"State Commercial Banks (commercial banking)\"],[\"State Commercial Banks (commercial banking)\"],[\"State Commercial Banks (commercial banking)\"],[\"State Commercial Banks (commercial banking)\"],[\"State Commercial Banks (commercial banking)\"],[\"State Commercial Banks (commercial banking)\"],[\"State Commercial Banks (commercial banking)\"],[\"State Commercial Banks (commercial banking)\"],[\"State Commercial Banks (commercial banking)\"],[\"State Commercial Banks (commercial banking)\"],[\"State Commercial Banks (commercial banking)\"],[\"State Commercial Banks (commercial banking)\"],[\"State Commercial Banks (commercial banking)\"],[\"State Commercial Banks (commercial banking)\"],[\"State Commercial Banks (commercial banking)\"],[\"State Commercial Banks (commercial banking)\"],[\"State Commercial Banks (commercial banking)\"],[\"State Commercial Banks (commercial banking)\"],[\"State Commercial Banks (commercial banking)\"],[\"State Commercial Banks (commercial banking)\"],[\"State Commercial Banks (commercial banking)\"],[\"State Commercial Banks (commercial banking)\"],[\"State Commercial Banks (commercial banking)\"],[\"State Commercial Banks (commercial banking)\"],[\"State Commercial Banks (commercial banking)\"],[\"State Commercial Banks (commercial banking)\"],[\"State Commercial Banks (commercial banking)\"]],\"hovertemplate\":\"SIC=State Commercial Banks (commercial banking)<br>0=%{x}<br>1=%{y}<br>2=%{z}<br>name=%{customdata[0]}<extra></extra>\",\"legendgroup\":\"State Commercial Banks (commercial banking)\",\"marker\":{\"color\":\"#FFA15A\",\"symbol\":\"circle\"},\"mode\":\"markers\",\"name\":\"State Commercial Banks (commercial banking)\",\"scene\":\"scene\",\"showlegend\":true,\"x\":[-4.023756570416365,-3.6781274784491846,-3.869691978306723,-4.619383788810301,-4.388034144202361,-4.3314305047336905,-3.988969126931991,-2.5209550005538914,-4.005694171249952,-3.45900778314967,-3.45900778314967,-0.17459478766670067,-4.421612372771849,-4.648247542114976,-4.222062012246356,-3.8180118410864323,-4.1417974161394,-4.350706227854217,-4.223389132777689,-4.1113880237390745,-4.295157655979312,-4.295157655979312,-3.965286826010836,-4.833804227635881,-4.526283758564343,-4.455210457424443,-2.6724699538592565,-4.602260141226025,-3.972828140437981,-4.119438418171428,-3.1721380375864174,-4.591504431053599,-4.061470749195452,-4.062122747760024,-4.062952781683165,-4.36243723165261,-4.566076054810421,-4.802590440923284,-4.408690849046,-2.7211195437261058,-4.022333939061975,-0.6729422340282188,-4.6753832681350485,-4.35392856908921,-4.2156326666551145,-0.612131836204601,-4.301404945901643,-3.977899393593817,-4.226626499848538,-4.6607942764081045,-4.204192807641344,-3.9368993738879174,-3.8746963789640336,-3.8208811025923826,-3.802463992355667,-4.56167893128951,-4.6072119074164615,-3.6802203973675067,-4.2488911980639354,-4.2488911980639354,-4.251228701300932,-4.228967075022963,-4.91497072989771,-4.797060201544395,-3.8993746981959245,-4.530410271804393,-4.478935665402989,-3.954164079104137,-4.082963583240437,-2.4659879639171125,-4.093829620963372,-4.15192302653103,-4.430113296877535,-4.0732115568571015,-3.3903653143304693,-4.162064888372787,-4.249427661218275,-3.5931321829933522,-4.073250916624723,0.2983247895641911,-3.707618173053623,-4.331561064094431,-4.118411519944015,-3.570208753268173,-4.626591645318796,-4.530599043097745,-4.530599043097745,-4.49761790005423,0.0782920660852776,-3.8073539961819587,-1.7305097106821845,-4.357748213704423,-4.766495039928411,-4.0796640586948305,-4.749903516280848,-4.5134573288533,-4.178980738676666,-3.927810956516915,-4.560888853825129,-4.16563290532867,-4.155468694546192,-3.970474786755189,-4.748332831783209,-4.148468696117777,-4.389361690774168,-3.6355196947379325,-1.1647549281369363,-4.069943359026233,-3.7798301444465876,-0.6592807639539378,-4.336106793880197,-3.6963310202611845,-3.915144803292087,-4.285662775181583,-3.2833534792182144,-4.942550654930896],\"y\":[3.924060932685492,2.4430186474389015,0.505229052256993,4.459343162268793,3.7270373979302858,4.701139536702419,4.2622835107542025,0.8130301961574401,3.03935064998424,4.086283830058508,4.086283830058508,-0.9760158879788488,4.364997190397984,3.904784230320007,3.5382320084200574,4.009359323831771,2.114560957608347,4.4385177259981985,3.5919460180570244,3.8753251698414966,3.486156635265222,3.486156635265222,4.121720503297599,3.388053345999051,1.862792889508944,4.408319172234432,0.22724805691142647,3.7027015725782695,4.518691217597511,4.4323864025331945,3.348249319976917,3.846230843652091,2.6333402004011797,4.316727323511386,3.6195627971453277,4.38452359562944,4.180428884282551,3.44123363112212,2.497355458615874,2.1048812617666557,1.1989780552713236,-0.8809655185297111,4.03859825482197,3.358601780199797,3.7839500513161166,-0.32524995865909856,2.7663858202882095,4.328099027526854,4.3490532719301545,4.203509765194657,4.586998682872335,3.82648311081641,4.449307526690871,3.400458010664483,4.301236809322684,3.441321949437344,3.730976677125648,2.731874843787345,4.428903925515031,4.428903925515031,3.6872322189517406,4.417424731118963,4.0986170870612835,2.995592861353293,4.465046689724038,4.562522149011847,1.5885931090100622,4.25314139924616,3.711964182414217,-0.3184314743938876,4.233343340955479,3.951274468280887,4.469160986528332,4.173721026696263,2.401894966131502,4.3973052590015325,4.435820929399635,3.7962044188741655,1.932243890371315,-0.6071135414581919,4.225022063547593,3.7281771795657614,4.315765145208869,0.8527930297289718,3.4073025863908097,4.040913272869346,4.040913272869346,4.289890911873465,-0.5130070417388931,3.924201104051321,0.8159438976336765,2.383717203193203,4.2803481244443535,4.180496201086484,3.119734805052692,3.2146412803971516,1.2543955056803413,4.084269180695706,3.51282412242527,4.343618966340758,4.0707445862366844,1.6936999852302204,4.058246789750719,4.33525482275922,2.5084242723278596,3.517765614864498,0.9664336174958764,4.041388939804482,0.8592200574433019,-0.5063204968813805,4.654294539894872,3.746769512860925,4.188454632013639,4.2560809062230165,3.2250013383933736,4.247110544084465],\"z\":[0.5687561828997407,0.06659028460111828,-1.607602172557811,0.40955988625793655,0.01939393629397126,0.8202705962834055,1.0770961488003294,-0.38652354431290437,0.10292389322388984,1.637680596323057,1.637680596323057,1.5440417034372544,0.19098709303653805,-0.035051097128110074,0.29759571742484703,0.6454533162254156,-0.7515984750814494,0.6185632128246598,-0.13217915692069993,0.522715793640039,-0.056919315189946466,-0.056919315189946466,0.9357401944727308,-0.9099111414071951,-1.3942124277839394,0.37837527260848214,-0.47695862594911426,-0.3535257937403786,1.127740439361682,0.8908000795330817,1.0570156353111426,-0.1751050979496157,-0.7286687341319646,0.850819012951643,0.3634039155267287,0.5041056006824766,0.19574796267699554,-0.352288315171776,-0.653599171387395,0.348262907405133,-1.2911086879790292,0.9697596620896355,-0.1316802775373375,-0.03224479102325657,0.24695968836130458,0.8315872146039446,-0.3948504177628601,1.1229923003061393,0.7172336654612239,0.1646283972646569,0.7747385393263395,0.6122764630168643,1.1615199872218793,0.4200850009289922,1.1944281152936367,-0.28775190199509804,-0.18384306870132203,0.11563031058742439,0.9228617289760297,0.9228617289760297,0.2633967308678174,0.775425526870847,-0.1366212686537819,-0.8908339403118031,1.0410471369310075,0.6063326459895177,-1.3895692674709628,0.7344385824314976,0.37319397385961367,-0.5437980896055317,0.8231321374176586,0.24914118621235345,0.6568520918905262,0.6087302075964177,-0.3163337663658453,0.9929346304871229,0.6890261914865786,0.619522233150935,-0.7089305539682204,2.4088648773432113,1.1660538291726539,0.1519634303367144,0.5303085087958637,-1.0116385109773138,-0.31927496069391686,0.1431871618824596,0.1431871618824596,0.4595766167170503,2.1262348737688628,0.86794493552282,0.7393740520260456,-0.7289576248521735,0.054664235112363194,0.5575373897606959,-0.595453241603816,-0.28713333758861675,-1.2978070371870871,0.9854241715591906,-0.09100805795934185,0.8638803572995963,0.45284030380632884,-0.842424041895986,0.00528812284647949,0.8298524289508438,-0.8828202372273021,0.315399318094239,1.8149007697084318,0.3859702069944242,-1.1039534476007695,1.2462744870378348,0.9843744330374458,0.7478326359220813,0.8438137762710579,0.2907397647555097,0.6271294119572718,-0.038262574573971746],\"type\":\"scatter3d\"}],                        {\"template\":{\"data\":{\"bar\":[{\"error_x\":{\"color\":\"#2a3f5f\"},\"error_y\":{\"color\":\"#2a3f5f\"},\"marker\":{\"line\":{\"color\":\"#E5ECF6\",\"width\":0.5},\"pattern\":{\"fillmode\":\"overlay\",\"size\":10,\"solidity\":0.2}},\"type\":\"bar\"}],\"barpolar\":[{\"marker\":{\"line\":{\"color\":\"#E5ECF6\",\"width\":0.5},\"pattern\":{\"fillmode\":\"overlay\",\"size\":10,\"solidity\":0.2}},\"type\":\"barpolar\"}],\"carpet\":[{\"aaxis\":{\"endlinecolor\":\"#2a3f5f\",\"gridcolor\":\"white\",\"linecolor\":\"white\",\"minorgridcolor\":\"white\",\"startlinecolor\":\"#2a3f5f\"},\"baxis\":{\"endlinecolor\":\"#2a3f5f\",\"gridcolor\":\"white\",\"linecolor\":\"white\",\"minorgridcolor\":\"white\",\"startlinecolor\":\"#2a3f5f\"},\"type\":\"carpet\"}],\"choropleth\":[{\"colorbar\":{\"outlinewidth\":0,\"ticks\":\"\"},\"type\":\"choropleth\"}],\"contour\":[{\"colorbar\":{\"outlinewidth\":0,\"ticks\":\"\"},\"colorscale\":[[0.0,\"#0d0887\"],[0.1111111111111111,\"#46039f\"],[0.2222222222222222,\"#7201a8\"],[0.3333333333333333,\"#9c179e\"],[0.4444444444444444,\"#bd3786\"],[0.5555555555555556,\"#d8576b\"],[0.6666666666666666,\"#ed7953\"],[0.7777777777777778,\"#fb9f3a\"],[0.8888888888888888,\"#fdca26\"],[1.0,\"#f0f921\"]],\"type\":\"contour\"}],\"contourcarpet\":[{\"colorbar\":{\"outlinewidth\":0,\"ticks\":\"\"},\"type\":\"contourcarpet\"}],\"heatmap\":[{\"colorbar\":{\"outlinewidth\":0,\"ticks\":\"\"},\"colorscale\":[[0.0,\"#0d0887\"],[0.1111111111111111,\"#46039f\"],[0.2222222222222222,\"#7201a8\"],[0.3333333333333333,\"#9c179e\"],[0.4444444444444444,\"#bd3786\"],[0.5555555555555556,\"#d8576b\"],[0.6666666666666666,\"#ed7953\"],[0.7777777777777778,\"#fb9f3a\"],[0.8888888888888888,\"#fdca26\"],[1.0,\"#f0f921\"]],\"type\":\"heatmap\"}],\"heatmapgl\":[{\"colorbar\":{\"outlinewidth\":0,\"ticks\":\"\"},\"colorscale\":[[0.0,\"#0d0887\"],[0.1111111111111111,\"#46039f\"],[0.2222222222222222,\"#7201a8\"],[0.3333333333333333,\"#9c179e\"],[0.4444444444444444,\"#bd3786\"],[0.5555555555555556,\"#d8576b\"],[0.6666666666666666,\"#ed7953\"],[0.7777777777777778,\"#fb9f3a\"],[0.8888888888888888,\"#fdca26\"],[1.0,\"#f0f921\"]],\"type\":\"heatmapgl\"}],\"histogram\":[{\"marker\":{\"pattern\":{\"fillmode\":\"overlay\",\"size\":10,\"solidity\":0.2}},\"type\":\"histogram\"}],\"histogram2d\":[{\"colorbar\":{\"outlinewidth\":0,\"ticks\":\"\"},\"colorscale\":[[0.0,\"#0d0887\"],[0.1111111111111111,\"#46039f\"],[0.2222222222222222,\"#7201a8\"],[0.3333333333333333,\"#9c179e\"],[0.4444444444444444,\"#bd3786\"],[0.5555555555555556,\"#d8576b\"],[0.6666666666666666,\"#ed7953\"],[0.7777777777777778,\"#fb9f3a\"],[0.8888888888888888,\"#fdca26\"],[1.0,\"#f0f921\"]],\"type\":\"histogram2d\"}],\"histogram2dcontour\":[{\"colorbar\":{\"outlinewidth\":0,\"ticks\":\"\"},\"colorscale\":[[0.0,\"#0d0887\"],[0.1111111111111111,\"#46039f\"],[0.2222222222222222,\"#7201a8\"],[0.3333333333333333,\"#9c179e\"],[0.4444444444444444,\"#bd3786\"],[0.5555555555555556,\"#d8576b\"],[0.6666666666666666,\"#ed7953\"],[0.7777777777777778,\"#fb9f3a\"],[0.8888888888888888,\"#fdca26\"],[1.0,\"#f0f921\"]],\"type\":\"histogram2dcontour\"}],\"mesh3d\":[{\"colorbar\":{\"outlinewidth\":0,\"ticks\":\"\"},\"type\":\"mesh3d\"}],\"parcoords\":[{\"line\":{\"colorbar\":{\"outlinewidth\":0,\"ticks\":\"\"}},\"type\":\"parcoords\"}],\"pie\":[{\"automargin\":true,\"type\":\"pie\"}],\"scatter\":[{\"marker\":{\"colorbar\":{\"outlinewidth\":0,\"ticks\":\"\"}},\"type\":\"scatter\"}],\"scatter3d\":[{\"line\":{\"colorbar\":{\"outlinewidth\":0,\"ticks\":\"\"}},\"marker\":{\"colorbar\":{\"outlinewidth\":0,\"ticks\":\"\"}},\"type\":\"scatter3d\"}],\"scattercarpet\":[{\"marker\":{\"colorbar\":{\"outlinewidth\":0,\"ticks\":\"\"}},\"type\":\"scattercarpet\"}],\"scattergeo\":[{\"marker\":{\"colorbar\":{\"outlinewidth\":0,\"ticks\":\"\"}},\"type\":\"scattergeo\"}],\"scattergl\":[{\"marker\":{\"colorbar\":{\"outlinewidth\":0,\"ticks\":\"\"}},\"type\":\"scattergl\"}],\"scattermapbox\":[{\"marker\":{\"colorbar\":{\"outlinewidth\":0,\"ticks\":\"\"}},\"type\":\"scattermapbox\"}],\"scatterpolar\":[{\"marker\":{\"colorbar\":{\"outlinewidth\":0,\"ticks\":\"\"}},\"type\":\"scatterpolar\"}],\"scatterpolargl\":[{\"marker\":{\"colorbar\":{\"outlinewidth\":0,\"ticks\":\"\"}},\"type\":\"scatterpolargl\"}],\"scatterternary\":[{\"marker\":{\"colorbar\":{\"outlinewidth\":0,\"ticks\":\"\"}},\"type\":\"scatterternary\"}],\"surface\":[{\"colorbar\":{\"outlinewidth\":0,\"ticks\":\"\"},\"colorscale\":[[0.0,\"#0d0887\"],[0.1111111111111111,\"#46039f\"],[0.2222222222222222,\"#7201a8\"],[0.3333333333333333,\"#9c179e\"],[0.4444444444444444,\"#bd3786\"],[0.5555555555555556,\"#d8576b\"],[0.6666666666666666,\"#ed7953\"],[0.7777777777777778,\"#fb9f3a\"],[0.8888888888888888,\"#fdca26\"],[1.0,\"#f0f921\"]],\"type\":\"surface\"}],\"table\":[{\"cells\":{\"fill\":{\"color\":\"#EBF0F8\"},\"line\":{\"color\":\"white\"}},\"header\":{\"fill\":{\"color\":\"#C8D4E3\"},\"line\":{\"color\":\"white\"}},\"type\":\"table\"}]},\"layout\":{\"annotationdefaults\":{\"arrowcolor\":\"#2a3f5f\",\"arrowhead\":0,\"arrowwidth\":1},\"autotypenumbers\":\"strict\",\"coloraxis\":{\"colorbar\":{\"outlinewidth\":0,\"ticks\":\"\"}},\"colorscale\":{\"diverging\":[[0,\"#8e0152\"],[0.1,\"#c51b7d\"],[0.2,\"#de77ae\"],[0.3,\"#f1b6da\"],[0.4,\"#fde0ef\"],[0.5,\"#f7f7f7\"],[0.6,\"#e6f5d0\"],[0.7,\"#b8e186\"],[0.8,\"#7fbc41\"],[0.9,\"#4d9221\"],[1,\"#276419\"]],\"sequential\":[[0.0,\"#0d0887\"],[0.1111111111111111,\"#46039f\"],[0.2222222222222222,\"#7201a8\"],[0.3333333333333333,\"#9c179e\"],[0.4444444444444444,\"#bd3786\"],[0.5555555555555556,\"#d8576b\"],[0.6666666666666666,\"#ed7953\"],[0.7777777777777778,\"#fb9f3a\"],[0.8888888888888888,\"#fdca26\"],[1.0,\"#f0f921\"]],\"sequentialminus\":[[0.0,\"#0d0887\"],[0.1111111111111111,\"#46039f\"],[0.2222222222222222,\"#7201a8\"],[0.3333333333333333,\"#9c179e\"],[0.4444444444444444,\"#bd3786\"],[0.5555555555555556,\"#d8576b\"],[0.6666666666666666,\"#ed7953\"],[0.7777777777777778,\"#fb9f3a\"],[0.8888888888888888,\"#fdca26\"],[1.0,\"#f0f921\"]]},\"colorway\":[\"#636efa\",\"#EF553B\",\"#00cc96\",\"#ab63fa\",\"#FFA15A\",\"#19d3f3\",\"#FF6692\",\"#B6E880\",\"#FF97FF\",\"#FECB52\"],\"font\":{\"color\":\"#2a3f5f\"},\"geo\":{\"bgcolor\":\"white\",\"lakecolor\":\"white\",\"landcolor\":\"#E5ECF6\",\"showlakes\":true,\"showland\":true,\"subunitcolor\":\"white\"},\"hoverlabel\":{\"align\":\"left\"},\"hovermode\":\"closest\",\"mapbox\":{\"style\":\"light\"},\"paper_bgcolor\":\"white\",\"plot_bgcolor\":\"#E5ECF6\",\"polar\":{\"angularaxis\":{\"gridcolor\":\"white\",\"linecolor\":\"white\",\"ticks\":\"\"},\"bgcolor\":\"#E5ECF6\",\"radialaxis\":{\"gridcolor\":\"white\",\"linecolor\":\"white\",\"ticks\":\"\"}},\"scene\":{\"xaxis\":{\"backgroundcolor\":\"#E5ECF6\",\"gridcolor\":\"white\",\"gridwidth\":2,\"linecolor\":\"white\",\"showbackground\":true,\"ticks\":\"\",\"zerolinecolor\":\"white\"},\"yaxis\":{\"backgroundcolor\":\"#E5ECF6\",\"gridcolor\":\"white\",\"gridwidth\":2,\"linecolor\":\"white\",\"showbackground\":true,\"ticks\":\"\",\"zerolinecolor\":\"white\"},\"zaxis\":{\"backgroundcolor\":\"#E5ECF6\",\"gridcolor\":\"white\",\"gridwidth\":2,\"linecolor\":\"white\",\"showbackground\":true,\"ticks\":\"\",\"zerolinecolor\":\"white\"}},\"shapedefaults\":{\"line\":{\"color\":\"#2a3f5f\"}},\"ternary\":{\"aaxis\":{\"gridcolor\":\"white\",\"linecolor\":\"white\",\"ticks\":\"\"},\"baxis\":{\"gridcolor\":\"white\",\"linecolor\":\"white\",\"ticks\":\"\"},\"bgcolor\":\"#E5ECF6\",\"caxis\":{\"gridcolor\":\"white\",\"linecolor\":\"white\",\"ticks\":\"\"}},\"title\":{\"x\":0.05},\"xaxis\":{\"automargin\":true,\"gridcolor\":\"white\",\"linecolor\":\"white\",\"ticks\":\"\",\"title\":{\"standoff\":15},\"zerolinecolor\":\"white\",\"zerolinewidth\":2},\"yaxis\":{\"automargin\":true,\"gridcolor\":\"white\",\"linecolor\":\"white\",\"ticks\":\"\",\"title\":{\"standoff\":15},\"zerolinecolor\":\"white\",\"zerolinewidth\":2}}},\"scene\":{\"domain\":{\"x\":[0.0,1.0],\"y\":[0.0,1.0]},\"xaxis\":{\"title\":{\"text\":\"0\"}},\"yaxis\":{\"title\":{\"text\":\"1\"}},\"zaxis\":{\"title\":{\"text\":\"2\"}}},\"legend\":{\"title\":{\"text\":\"SIC\"},\"tracegroupgap\":0},\"margin\":{\"t\":60},\"height\":700,\"width\":1200},                        {\"responsive\": true}                    ).then(function(){\n",
       "                            \n",
       "var gd = document.getElementById('84e0fbd2-cc83-49b2-a182-fb587f2126a2');\n",
       "var x = new MutationObserver(function (mutations, observer) {{\n",
       "        var display = window.getComputedStyle(gd).display;\n",
       "        if (!display || display === 'none') {{\n",
       "            console.log([gd, 'removed!']);\n",
       "            Plotly.purge(gd);\n",
       "            observer.disconnect();\n",
       "        }}\n",
       "}});\n",
       "\n",
       "// Listen for the removal of the full notebook cells\n",
       "var notebookContainer = gd.closest('#notebook-container');\n",
       "if (notebookContainer) {{\n",
       "    x.observe(notebookContainer, {childList: true});\n",
       "}}\n",
       "\n",
       "// Listen for the clearing of the current output cell\n",
       "var outputEl = gd.closest('.output');\n",
       "if (outputEl) {{\n",
       "    x.observe(outputEl, {childList: true});\n",
       "}}\n",
       "\n",
       "                        })                };                });            </script>        </div>"
      ]
     },
     "metadata": {},
     "output_type": "display_data"
    }
   ],
   "source": [
    "fig = px.scatter_3d(plot_cos[1], x =0 , y = 1, z = 2, hover_data={\"name\": plot_cos[1].index}, color = 'SIC', width=1200, height=700)\n",
    "fig.write_image(\"images/fig_cos.png\")\n",
    "fig.show()"
   ]
  },
  {
   "cell_type": "markdown",
   "id": "f40af709",
   "metadata": {},
   "source": [
    "We can look at the explained variance of each dimension the PCA embedding of our cosine similatiry matrix produced below:"
   ]
  },
  {
   "cell_type": "code",
   "execution_count": 26,
   "id": "a089a9a5",
   "metadata": {},
   "outputs": [
    {
     "data": {
      "text/plain": [
       "array([0.43705121, 0.21549028, 0.13752174, 0.05257744, 0.03654605,\n",
       "       0.01467293, 0.00914707, 0.00835553, 0.0072873 , 0.00633825])"
      ]
     },
     "execution_count": 26,
     "metadata": {},
     "output_type": "execute_result"
    }
   ],
   "source": [
    "plot_cos[0].explained_variance_ratio_"
   ]
  },
  {
   "cell_type": "markdown",
   "id": "d7e1faf5",
   "metadata": {},
   "source": [
    "The total explained variance of the first three dimensions are:"
   ]
  },
  {
   "cell_type": "code",
   "execution_count": null,
   "id": "b057df9e",
   "metadata": {},
   "outputs": [],
   "source": [
    "plot_cos[0].explained_variance_ratio_[0:3].sum()"
   ]
  },
  {
   "cell_type": "code",
   "execution_count": null,
   "id": "a483e61e",
   "metadata": {},
   "outputs": [],
   "source": []
  }
 ],
 "metadata": {
  "kernelspec": {
   "display_name": "Python 3 (ipykernel)",
   "language": "python",
   "name": "python3"
  },
  "language_info": {
   "codemirror_mode": {
    "name": "ipython",
    "version": 3
   },
   "file_extension": ".py",
   "mimetype": "text/x-python",
   "name": "python",
   "nbconvert_exporter": "python",
   "pygments_lexer": "ipython3",
   "version": "3.9.7"
  }
 },
 "nbformat": 4,
 "nbformat_minor": 5
}

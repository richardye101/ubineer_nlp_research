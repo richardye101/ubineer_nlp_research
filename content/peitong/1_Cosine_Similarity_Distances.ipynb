{
 "cells": [
  {
   "cell_type": "code",
   "execution_count": 23,
   "id": "e2ccd1f6",
   "metadata": {},
   "outputs": [
    {
     "name": "stderr",
     "output_type": "stream",
     "text": [
      "[nltk_data] Downloading package stopwords to /Users/lulu/nltk_data...\n",
      "[nltk_data]   Package stopwords is already up-to-date!\n",
      "[nltk_data] Downloading package wordnet to /Users/lulu/nltk_data...\n",
      "[nltk_data]   Package wordnet is already up-to-date!\n",
      "[nltk_data] Downloading package punkt to /Users/lulu/nltk_data...\n",
      "[nltk_data]   Package punkt is already up-to-date!\n"
     ]
    }
   ],
   "source": [
    "import sys\n",
    "sys.path.insert(0,'..')\n",
    "\n",
    "import std_func"
   ]
  },
  {
   "cell_type": "markdown",
   "id": "a4465546",
   "metadata": {},
   "source": [
    "## Cosine Similarity Distances\n",
    "Cosine similarity measures the similarity between two vectors of an inner product space. In text analysis, a document can be represented by its elements (words) and the frequency of each element. Comparing the frequency of words in different documents, which is the company description for companies in our case, would generate cosine similarity distance between documents. Each description generates a vector containing the frequency of each word. It measures the similarity between these companies in terms of their business description."
   ]
  },
  {
   "cell_type": "code",
   "execution_count": 1,
   "id": "e0ecdbeb",
   "metadata": {},
   "outputs": [],
   "source": [
    "import pandas as pd\n",
    "import numpy as np\n",
    "import matplotlib.pyplot as plt\n",
    "import seaborn as sns"
   ]
  },
  {
   "cell_type": "code",
   "execution_count": 2,
   "id": "426f6823",
   "metadata": {
    "scrolled": true
   },
   "outputs": [],
   "source": [
    "df = pd.read_csv('../data/preprocessed.csv', \n",
    "                usecols = ['reportingDate', 'name', \n",
    "                           'coDescription_stopwords', 'SIC', 'SIC_desc'])"
   ]
  },
  {
   "cell_type": "markdown",
   "id": "9eeff1e1",
   "metadata": {},
   "source": [
    "### Words Counting"
   ]
  },
  {
   "cell_type": "code",
   "execution_count": 3,
   "id": "99da14a6",
   "metadata": {},
   "outputs": [],
   "source": [
    "from sklearn.feature_extraction.text import CountVectorizer\n",
    "\n",
    "Vectorizer = CountVectorizer(ngram_range = (2,4), \n",
    "                             max_features = 600)\n",
    "\n",
    "count_data = Vectorizer.fit_transform(df['coDescription_stopwords'])"
   ]
  },
  {
   "cell_type": "code",
   "execution_count": 4,
   "id": "8058095d",
   "metadata": {},
   "outputs": [
    {
     "name": "stderr",
     "output_type": "stream",
     "text": [
      "/Users/lulu/opt/anaconda3/lib/python3.9/site-packages/sklearn/utils/deprecation.py:87: FutureWarning: Function get_feature_names is deprecated; get_feature_names is deprecated in 1.0 and will be removed in 1.2. Please use get_feature_names_out instead.\n",
      "  warnings.warn(msg, category=FutureWarning)\n"
     ]
    }
   ],
   "source": [
    "wordsCount = pd.DataFrame(count_data.toarray(),columns=Vectorizer.get_feature_names())"
   ]
  },
  {
   "cell_type": "code",
   "execution_count": 5,
   "id": "35fe6ee4",
   "metadata": {},
   "outputs": [],
   "source": [
    "wordsCount = wordsCount.set_index(df['name'])"
   ]
  },
  {
   "cell_type": "code",
   "execution_count": 6,
   "id": "9d845496",
   "metadata": {
    "scrolled": false
   },
   "outputs": [
    {
     "data": {
      "text/html": [
       "<div>\n",
       "<style scoped>\n",
       "    .dataframe tbody tr th:only-of-type {\n",
       "        vertical-align: middle;\n",
       "    }\n",
       "\n",
       "    .dataframe tbody tr th {\n",
       "        vertical-align: top;\n",
       "    }\n",
       "\n",
       "    .dataframe thead th {\n",
       "        text-align: right;\n",
       "    }\n",
       "</style>\n",
       "<table border=\"1\" class=\"dataframe\">\n",
       "  <thead>\n",
       "    <tr style=\"text-align: right;\">\n",
       "      <th></th>\n",
       "      <th>ability make</th>\n",
       "      <th>accounting standard</th>\n",
       "      <th>acquire property</th>\n",
       "      <th>act act</th>\n",
       "      <th>act amended</th>\n",
       "      <th>additional information</th>\n",
       "      <th>adequately capitalized</th>\n",
       "      <th>adverse effect</th>\n",
       "      <th>adverse effect business</th>\n",
       "      <th>adverse event</th>\n",
       "      <th>...</th>\n",
       "      <th>wa million</th>\n",
       "      <th>weighted average</th>\n",
       "      <th>well capitalized</th>\n",
       "      <th>wholly owned</th>\n",
       "      <th>wholly owned subsidiary</th>\n",
       "      <th>wide range</th>\n",
       "      <th>within day</th>\n",
       "      <th>working interest</th>\n",
       "      <th>year ended</th>\n",
       "      <th>year ended december</th>\n",
       "    </tr>\n",
       "    <tr>\n",
       "      <th>name</th>\n",
       "      <th></th>\n",
       "      <th></th>\n",
       "      <th></th>\n",
       "      <th></th>\n",
       "      <th></th>\n",
       "      <th></th>\n",
       "      <th></th>\n",
       "      <th></th>\n",
       "      <th></th>\n",
       "      <th></th>\n",
       "      <th></th>\n",
       "      <th></th>\n",
       "      <th></th>\n",
       "      <th></th>\n",
       "      <th></th>\n",
       "      <th></th>\n",
       "      <th></th>\n",
       "      <th></th>\n",
       "      <th></th>\n",
       "      <th></th>\n",
       "      <th></th>\n",
       "    </tr>\n",
       "  </thead>\n",
       "  <tbody>\n",
       "    <tr>\n",
       "      <th>MONGODB, INC.</th>\n",
       "      <td>0</td>\n",
       "      <td>0</td>\n",
       "      <td>0</td>\n",
       "      <td>0</td>\n",
       "      <td>0</td>\n",
       "      <td>0</td>\n",
       "      <td>0</td>\n",
       "      <td>0</td>\n",
       "      <td>0</td>\n",
       "      <td>0</td>\n",
       "      <td>...</td>\n",
       "      <td>0</td>\n",
       "      <td>0</td>\n",
       "      <td>0</td>\n",
       "      <td>0</td>\n",
       "      <td>0</td>\n",
       "      <td>3</td>\n",
       "      <td>0</td>\n",
       "      <td>0</td>\n",
       "      <td>5</td>\n",
       "      <td>0</td>\n",
       "    </tr>\n",
       "    <tr>\n",
       "      <th>SALESFORCE COM INC</th>\n",
       "      <td>0</td>\n",
       "      <td>0</td>\n",
       "      <td>0</td>\n",
       "      <td>0</td>\n",
       "      <td>0</td>\n",
       "      <td>0</td>\n",
       "      <td>0</td>\n",
       "      <td>0</td>\n",
       "      <td>0</td>\n",
       "      <td>0</td>\n",
       "      <td>...</td>\n",
       "      <td>0</td>\n",
       "      <td>0</td>\n",
       "      <td>0</td>\n",
       "      <td>0</td>\n",
       "      <td>0</td>\n",
       "      <td>0</td>\n",
       "      <td>0</td>\n",
       "      <td>0</td>\n",
       "      <td>0</td>\n",
       "      <td>0</td>\n",
       "    </tr>\n",
       "    <tr>\n",
       "      <th>SPLUNK INC</th>\n",
       "      <td>0</td>\n",
       "      <td>0</td>\n",
       "      <td>0</td>\n",
       "      <td>0</td>\n",
       "      <td>1</td>\n",
       "      <td>2</td>\n",
       "      <td>0</td>\n",
       "      <td>0</td>\n",
       "      <td>0</td>\n",
       "      <td>0</td>\n",
       "      <td>...</td>\n",
       "      <td>0</td>\n",
       "      <td>0</td>\n",
       "      <td>0</td>\n",
       "      <td>0</td>\n",
       "      <td>0</td>\n",
       "      <td>0</td>\n",
       "      <td>0</td>\n",
       "      <td>0</td>\n",
       "      <td>0</td>\n",
       "      <td>0</td>\n",
       "    </tr>\n",
       "    <tr>\n",
       "      <th>OKTA, INC.</th>\n",
       "      <td>0</td>\n",
       "      <td>0</td>\n",
       "      <td>0</td>\n",
       "      <td>0</td>\n",
       "      <td>0</td>\n",
       "      <td>1</td>\n",
       "      <td>0</td>\n",
       "      <td>0</td>\n",
       "      <td>0</td>\n",
       "      <td>0</td>\n",
       "      <td>...</td>\n",
       "      <td>0</td>\n",
       "      <td>0</td>\n",
       "      <td>0</td>\n",
       "      <td>0</td>\n",
       "      <td>0</td>\n",
       "      <td>1</td>\n",
       "      <td>0</td>\n",
       "      <td>0</td>\n",
       "      <td>1</td>\n",
       "      <td>0</td>\n",
       "    </tr>\n",
       "    <tr>\n",
       "      <th>VEEVA SYSTEMS INC</th>\n",
       "      <td>0</td>\n",
       "      <td>12</td>\n",
       "      <td>0</td>\n",
       "      <td>1</td>\n",
       "      <td>4</td>\n",
       "      <td>1</td>\n",
       "      <td>0</td>\n",
       "      <td>7</td>\n",
       "      <td>4</td>\n",
       "      <td>0</td>\n",
       "      <td>...</td>\n",
       "      <td>18</td>\n",
       "      <td>4</td>\n",
       "      <td>0</td>\n",
       "      <td>0</td>\n",
       "      <td>0</td>\n",
       "      <td>0</td>\n",
       "      <td>1</td>\n",
       "      <td>0</td>\n",
       "      <td>102</td>\n",
       "      <td>0</td>\n",
       "    </tr>\n",
       "    <tr>\n",
       "      <th>...</th>\n",
       "      <td>...</td>\n",
       "      <td>...</td>\n",
       "      <td>...</td>\n",
       "      <td>...</td>\n",
       "      <td>...</td>\n",
       "      <td>...</td>\n",
       "      <td>...</td>\n",
       "      <td>...</td>\n",
       "      <td>...</td>\n",
       "      <td>...</td>\n",
       "      <td>...</td>\n",
       "      <td>...</td>\n",
       "      <td>...</td>\n",
       "      <td>...</td>\n",
       "      <td>...</td>\n",
       "      <td>...</td>\n",
       "      <td>...</td>\n",
       "      <td>...</td>\n",
       "      <td>...</td>\n",
       "      <td>...</td>\n",
       "      <td>...</td>\n",
       "    </tr>\n",
       "    <tr>\n",
       "      <th>AMERICAN REALTY CAPITAL NEW YORK CITY REIT, INC.</th>\n",
       "      <td>0</td>\n",
       "      <td>0</td>\n",
       "      <td>1</td>\n",
       "      <td>0</td>\n",
       "      <td>0</td>\n",
       "      <td>1</td>\n",
       "      <td>0</td>\n",
       "      <td>1</td>\n",
       "      <td>0</td>\n",
       "      <td>0</td>\n",
       "      <td>...</td>\n",
       "      <td>0</td>\n",
       "      <td>0</td>\n",
       "      <td>0</td>\n",
       "      <td>0</td>\n",
       "      <td>0</td>\n",
       "      <td>0</td>\n",
       "      <td>0</td>\n",
       "      <td>0</td>\n",
       "      <td>2</td>\n",
       "      <td>2</td>\n",
       "    </tr>\n",
       "    <tr>\n",
       "      <th>CYCLACEL PHARMACEUTICALS, INC.</th>\n",
       "      <td>0</td>\n",
       "      <td>0</td>\n",
       "      <td>0</td>\n",
       "      <td>0</td>\n",
       "      <td>0</td>\n",
       "      <td>1</td>\n",
       "      <td>0</td>\n",
       "      <td>1</td>\n",
       "      <td>0</td>\n",
       "      <td>1</td>\n",
       "      <td>...</td>\n",
       "      <td>0</td>\n",
       "      <td>0</td>\n",
       "      <td>0</td>\n",
       "      <td>0</td>\n",
       "      <td>0</td>\n",
       "      <td>0</td>\n",
       "      <td>1</td>\n",
       "      <td>0</td>\n",
       "      <td>0</td>\n",
       "      <td>0</td>\n",
       "    </tr>\n",
       "    <tr>\n",
       "      <th>ZOETIS INC.</th>\n",
       "      <td>0</td>\n",
       "      <td>17</td>\n",
       "      <td>0</td>\n",
       "      <td>0</td>\n",
       "      <td>0</td>\n",
       "      <td>12</td>\n",
       "      <td>0</td>\n",
       "      <td>3</td>\n",
       "      <td>0</td>\n",
       "      <td>0</td>\n",
       "      <td>...</td>\n",
       "      <td>20</td>\n",
       "      <td>5</td>\n",
       "      <td>0</td>\n",
       "      <td>1</td>\n",
       "      <td>1</td>\n",
       "      <td>0</td>\n",
       "      <td>2</td>\n",
       "      <td>0</td>\n",
       "      <td>84</td>\n",
       "      <td>83</td>\n",
       "    </tr>\n",
       "    <tr>\n",
       "      <th>STAG INDUSTRIAL, INC.</th>\n",
       "      <td>0</td>\n",
       "      <td>0</td>\n",
       "      <td>1</td>\n",
       "      <td>0</td>\n",
       "      <td>1</td>\n",
       "      <td>0</td>\n",
       "      <td>0</td>\n",
       "      <td>1</td>\n",
       "      <td>1</td>\n",
       "      <td>0</td>\n",
       "      <td>...</td>\n",
       "      <td>0</td>\n",
       "      <td>0</td>\n",
       "      <td>0</td>\n",
       "      <td>0</td>\n",
       "      <td>0</td>\n",
       "      <td>0</td>\n",
       "      <td>0</td>\n",
       "      <td>0</td>\n",
       "      <td>2</td>\n",
       "      <td>2</td>\n",
       "    </tr>\n",
       "    <tr>\n",
       "      <th>EQUINIX INC</th>\n",
       "      <td>0</td>\n",
       "      <td>0</td>\n",
       "      <td>0</td>\n",
       "      <td>0</td>\n",
       "      <td>2</td>\n",
       "      <td>0</td>\n",
       "      <td>0</td>\n",
       "      <td>0</td>\n",
       "      <td>0</td>\n",
       "      <td>0</td>\n",
       "      <td>...</td>\n",
       "      <td>0</td>\n",
       "      <td>0</td>\n",
       "      <td>0</td>\n",
       "      <td>0</td>\n",
       "      <td>0</td>\n",
       "      <td>0</td>\n",
       "      <td>0</td>\n",
       "      <td>0</td>\n",
       "      <td>2</td>\n",
       "      <td>2</td>\n",
       "    </tr>\n",
       "  </tbody>\n",
       "</table>\n",
       "<p>675 rows × 600 columns</p>\n",
       "</div>"
      ],
      "text/plain": [
       "                                                  ability make  \\\n",
       "name                                                             \n",
       "MONGODB, INC.                                                0   \n",
       "SALESFORCE COM INC                                           0   \n",
       "SPLUNK INC                                                   0   \n",
       "OKTA, INC.                                                   0   \n",
       "VEEVA SYSTEMS INC                                            0   \n",
       "...                                                        ...   \n",
       "AMERICAN REALTY CAPITAL NEW YORK CITY REIT, INC.             0   \n",
       "CYCLACEL PHARMACEUTICALS, INC.                               0   \n",
       "ZOETIS INC.                                                  0   \n",
       "STAG INDUSTRIAL, INC.                                        0   \n",
       "EQUINIX INC                                                  0   \n",
       "\n",
       "                                                  accounting standard  \\\n",
       "name                                                                    \n",
       "MONGODB, INC.                                                       0   \n",
       "SALESFORCE COM INC                                                  0   \n",
       "SPLUNK INC                                                          0   \n",
       "OKTA, INC.                                                          0   \n",
       "VEEVA SYSTEMS INC                                                  12   \n",
       "...                                                               ...   \n",
       "AMERICAN REALTY CAPITAL NEW YORK CITY REIT, INC.                    0   \n",
       "CYCLACEL PHARMACEUTICALS, INC.                                      0   \n",
       "ZOETIS INC.                                                        17   \n",
       "STAG INDUSTRIAL, INC.                                               0   \n",
       "EQUINIX INC                                                         0   \n",
       "\n",
       "                                                  acquire property  act act  \\\n",
       "name                                                                          \n",
       "MONGODB, INC.                                                    0        0   \n",
       "SALESFORCE COM INC                                               0        0   \n",
       "SPLUNK INC                                                       0        0   \n",
       "OKTA, INC.                                                       0        0   \n",
       "VEEVA SYSTEMS INC                                                0        1   \n",
       "...                                                            ...      ...   \n",
       "AMERICAN REALTY CAPITAL NEW YORK CITY REIT, INC.                 1        0   \n",
       "CYCLACEL PHARMACEUTICALS, INC.                                   0        0   \n",
       "ZOETIS INC.                                                      0        0   \n",
       "STAG INDUSTRIAL, INC.                                            1        0   \n",
       "EQUINIX INC                                                      0        0   \n",
       "\n",
       "                                                  act amended  \\\n",
       "name                                                            \n",
       "MONGODB, INC.                                               0   \n",
       "SALESFORCE COM INC                                          0   \n",
       "SPLUNK INC                                                  1   \n",
       "OKTA, INC.                                                  0   \n",
       "VEEVA SYSTEMS INC                                           4   \n",
       "...                                                       ...   \n",
       "AMERICAN REALTY CAPITAL NEW YORK CITY REIT, INC.            0   \n",
       "CYCLACEL PHARMACEUTICALS, INC.                              0   \n",
       "ZOETIS INC.                                                 0   \n",
       "STAG INDUSTRIAL, INC.                                       1   \n",
       "EQUINIX INC                                                 2   \n",
       "\n",
       "                                                  additional information  \\\n",
       "name                                                                       \n",
       "MONGODB, INC.                                                          0   \n",
       "SALESFORCE COM INC                                                     0   \n",
       "SPLUNK INC                                                             2   \n",
       "OKTA, INC.                                                             1   \n",
       "VEEVA SYSTEMS INC                                                      1   \n",
       "...                                                                  ...   \n",
       "AMERICAN REALTY CAPITAL NEW YORK CITY REIT, INC.                       1   \n",
       "CYCLACEL PHARMACEUTICALS, INC.                                         1   \n",
       "ZOETIS INC.                                                           12   \n",
       "STAG INDUSTRIAL, INC.                                                  0   \n",
       "EQUINIX INC                                                            0   \n",
       "\n",
       "                                                  adequately capitalized  \\\n",
       "name                                                                       \n",
       "MONGODB, INC.                                                          0   \n",
       "SALESFORCE COM INC                                                     0   \n",
       "SPLUNK INC                                                             0   \n",
       "OKTA, INC.                                                             0   \n",
       "VEEVA SYSTEMS INC                                                      0   \n",
       "...                                                                  ...   \n",
       "AMERICAN REALTY CAPITAL NEW YORK CITY REIT, INC.                       0   \n",
       "CYCLACEL PHARMACEUTICALS, INC.                                         0   \n",
       "ZOETIS INC.                                                            0   \n",
       "STAG INDUSTRIAL, INC.                                                  0   \n",
       "EQUINIX INC                                                            0   \n",
       "\n",
       "                                                  adverse effect  \\\n",
       "name                                                               \n",
       "MONGODB, INC.                                                  0   \n",
       "SALESFORCE COM INC                                             0   \n",
       "SPLUNK INC                                                     0   \n",
       "OKTA, INC.                                                     0   \n",
       "VEEVA SYSTEMS INC                                              7   \n",
       "...                                                          ...   \n",
       "AMERICAN REALTY CAPITAL NEW YORK CITY REIT, INC.               1   \n",
       "CYCLACEL PHARMACEUTICALS, INC.                                 1   \n",
       "ZOETIS INC.                                                    3   \n",
       "STAG INDUSTRIAL, INC.                                          1   \n",
       "EQUINIX INC                                                    0   \n",
       "\n",
       "                                                  adverse effect business  \\\n",
       "name                                                                        \n",
       "MONGODB, INC.                                                           0   \n",
       "SALESFORCE COM INC                                                      0   \n",
       "SPLUNK INC                                                              0   \n",
       "OKTA, INC.                                                              0   \n",
       "VEEVA SYSTEMS INC                                                       4   \n",
       "...                                                                   ...   \n",
       "AMERICAN REALTY CAPITAL NEW YORK CITY REIT, INC.                        0   \n",
       "CYCLACEL PHARMACEUTICALS, INC.                                          0   \n",
       "ZOETIS INC.                                                             0   \n",
       "STAG INDUSTRIAL, INC.                                                   1   \n",
       "EQUINIX INC                                                             0   \n",
       "\n",
       "                                                  adverse event  ...  \\\n",
       "name                                                             ...   \n",
       "MONGODB, INC.                                                 0  ...   \n",
       "SALESFORCE COM INC                                            0  ...   \n",
       "SPLUNK INC                                                    0  ...   \n",
       "OKTA, INC.                                                    0  ...   \n",
       "VEEVA SYSTEMS INC                                             0  ...   \n",
       "...                                                         ...  ...   \n",
       "AMERICAN REALTY CAPITAL NEW YORK CITY REIT, INC.              0  ...   \n",
       "CYCLACEL PHARMACEUTICALS, INC.                                1  ...   \n",
       "ZOETIS INC.                                                   0  ...   \n",
       "STAG INDUSTRIAL, INC.                                         0  ...   \n",
       "EQUINIX INC                                                   0  ...   \n",
       "\n",
       "                                                  wa million  \\\n",
       "name                                                           \n",
       "MONGODB, INC.                                              0   \n",
       "SALESFORCE COM INC                                         0   \n",
       "SPLUNK INC                                                 0   \n",
       "OKTA, INC.                                                 0   \n",
       "VEEVA SYSTEMS INC                                         18   \n",
       "...                                                      ...   \n",
       "AMERICAN REALTY CAPITAL NEW YORK CITY REIT, INC.           0   \n",
       "CYCLACEL PHARMACEUTICALS, INC.                             0   \n",
       "ZOETIS INC.                                               20   \n",
       "STAG INDUSTRIAL, INC.                                      0   \n",
       "EQUINIX INC                                                0   \n",
       "\n",
       "                                                  weighted average  \\\n",
       "name                                                                 \n",
       "MONGODB, INC.                                                    0   \n",
       "SALESFORCE COM INC                                               0   \n",
       "SPLUNK INC                                                       0   \n",
       "OKTA, INC.                                                       0   \n",
       "VEEVA SYSTEMS INC                                                4   \n",
       "...                                                            ...   \n",
       "AMERICAN REALTY CAPITAL NEW YORK CITY REIT, INC.                 0   \n",
       "CYCLACEL PHARMACEUTICALS, INC.                                   0   \n",
       "ZOETIS INC.                                                      5   \n",
       "STAG INDUSTRIAL, INC.                                            0   \n",
       "EQUINIX INC                                                      0   \n",
       "\n",
       "                                                  well capitalized  \\\n",
       "name                                                                 \n",
       "MONGODB, INC.                                                    0   \n",
       "SALESFORCE COM INC                                               0   \n",
       "SPLUNK INC                                                       0   \n",
       "OKTA, INC.                                                       0   \n",
       "VEEVA SYSTEMS INC                                                0   \n",
       "...                                                            ...   \n",
       "AMERICAN REALTY CAPITAL NEW YORK CITY REIT, INC.                 0   \n",
       "CYCLACEL PHARMACEUTICALS, INC.                                   0   \n",
       "ZOETIS INC.                                                      0   \n",
       "STAG INDUSTRIAL, INC.                                            0   \n",
       "EQUINIX INC                                                      0   \n",
       "\n",
       "                                                  wholly owned  \\\n",
       "name                                                             \n",
       "MONGODB, INC.                                                0   \n",
       "SALESFORCE COM INC                                           0   \n",
       "SPLUNK INC                                                   0   \n",
       "OKTA, INC.                                                   0   \n",
       "VEEVA SYSTEMS INC                                            0   \n",
       "...                                                        ...   \n",
       "AMERICAN REALTY CAPITAL NEW YORK CITY REIT, INC.             0   \n",
       "CYCLACEL PHARMACEUTICALS, INC.                               0   \n",
       "ZOETIS INC.                                                  1   \n",
       "STAG INDUSTRIAL, INC.                                        0   \n",
       "EQUINIX INC                                                  0   \n",
       "\n",
       "                                                  wholly owned subsidiary  \\\n",
       "name                                                                        \n",
       "MONGODB, INC.                                                           0   \n",
       "SALESFORCE COM INC                                                      0   \n",
       "SPLUNK INC                                                              0   \n",
       "OKTA, INC.                                                              0   \n",
       "VEEVA SYSTEMS INC                                                       0   \n",
       "...                                                                   ...   \n",
       "AMERICAN REALTY CAPITAL NEW YORK CITY REIT, INC.                        0   \n",
       "CYCLACEL PHARMACEUTICALS, INC.                                          0   \n",
       "ZOETIS INC.                                                             1   \n",
       "STAG INDUSTRIAL, INC.                                                   0   \n",
       "EQUINIX INC                                                             0   \n",
       "\n",
       "                                                  wide range  within day  \\\n",
       "name                                                                       \n",
       "MONGODB, INC.                                              3           0   \n",
       "SALESFORCE COM INC                                         0           0   \n",
       "SPLUNK INC                                                 0           0   \n",
       "OKTA, INC.                                                 1           0   \n",
       "VEEVA SYSTEMS INC                                          0           1   \n",
       "...                                                      ...         ...   \n",
       "AMERICAN REALTY CAPITAL NEW YORK CITY REIT, INC.           0           0   \n",
       "CYCLACEL PHARMACEUTICALS, INC.                             0           1   \n",
       "ZOETIS INC.                                                0           2   \n",
       "STAG INDUSTRIAL, INC.                                      0           0   \n",
       "EQUINIX INC                                                0           0   \n",
       "\n",
       "                                                  working interest  \\\n",
       "name                                                                 \n",
       "MONGODB, INC.                                                    0   \n",
       "SALESFORCE COM INC                                               0   \n",
       "SPLUNK INC                                                       0   \n",
       "OKTA, INC.                                                       0   \n",
       "VEEVA SYSTEMS INC                                                0   \n",
       "...                                                            ...   \n",
       "AMERICAN REALTY CAPITAL NEW YORK CITY REIT, INC.                 0   \n",
       "CYCLACEL PHARMACEUTICALS, INC.                                   0   \n",
       "ZOETIS INC.                                                      0   \n",
       "STAG INDUSTRIAL, INC.                                            0   \n",
       "EQUINIX INC                                                      0   \n",
       "\n",
       "                                                  year ended  \\\n",
       "name                                                           \n",
       "MONGODB, INC.                                              5   \n",
       "SALESFORCE COM INC                                         0   \n",
       "SPLUNK INC                                                 0   \n",
       "OKTA, INC.                                                 1   \n",
       "VEEVA SYSTEMS INC                                        102   \n",
       "...                                                      ...   \n",
       "AMERICAN REALTY CAPITAL NEW YORK CITY REIT, INC.           2   \n",
       "CYCLACEL PHARMACEUTICALS, INC.                             0   \n",
       "ZOETIS INC.                                               84   \n",
       "STAG INDUSTRIAL, INC.                                      2   \n",
       "EQUINIX INC                                                2   \n",
       "\n",
       "                                                  year ended december  \n",
       "name                                                                   \n",
       "MONGODB, INC.                                                       0  \n",
       "SALESFORCE COM INC                                                  0  \n",
       "SPLUNK INC                                                          0  \n",
       "OKTA, INC.                                                          0  \n",
       "VEEVA SYSTEMS INC                                                   0  \n",
       "...                                                               ...  \n",
       "AMERICAN REALTY CAPITAL NEW YORK CITY REIT, INC.                    2  \n",
       "CYCLACEL PHARMACEUTICALS, INC.                                      0  \n",
       "ZOETIS INC.                                                        83  \n",
       "STAG INDUSTRIAL, INC.                                               2  \n",
       "EQUINIX INC                                                         2  \n",
       "\n",
       "[675 rows x 600 columns]"
      ]
     },
     "execution_count": 6,
     "metadata": {},
     "output_type": "execute_result"
    }
   ],
   "source": [
    "wordsCount"
   ]
  },
  {
   "cell_type": "markdown",
   "id": "87c1cdc5",
   "metadata": {},
   "source": [
    "## Compute Cosine Similarity"
   ]
  },
  {
   "cell_type": "code",
   "execution_count": 7,
   "id": "c4e6cf8d",
   "metadata": {},
   "outputs": [],
   "source": [
    "# Compute Cosine Similarity\n",
    "from sklearn.metrics.pairwise import cosine_similarity\n",
    "cosine_sim = pd.DataFrame(cosine_similarity(wordsCount, wordsCount))"
   ]
  },
  {
   "cell_type": "code",
   "execution_count": 8,
   "id": "996cac36",
   "metadata": {},
   "outputs": [],
   "source": [
    "cosine_sim = cosine_sim.set_index(df['name'])\n",
    "cosine_sim.columns = df['name']"
   ]
  },
  {
   "cell_type": "code",
   "execution_count": 9,
   "id": "b788d270",
   "metadata": {},
   "outputs": [
    {
     "data": {
      "text/html": [
       "<div>\n",
       "<style scoped>\n",
       "    .dataframe tbody tr th:only-of-type {\n",
       "        vertical-align: middle;\n",
       "    }\n",
       "\n",
       "    .dataframe tbody tr th {\n",
       "        vertical-align: top;\n",
       "    }\n",
       "\n",
       "    .dataframe thead th {\n",
       "        text-align: right;\n",
       "    }\n",
       "</style>\n",
       "<table border=\"1\" class=\"dataframe\">\n",
       "  <thead>\n",
       "    <tr style=\"text-align: right;\">\n",
       "      <th>name</th>\n",
       "      <th>MONGODB, INC.</th>\n",
       "      <th>SALESFORCE COM INC</th>\n",
       "      <th>SPLUNK INC</th>\n",
       "      <th>OKTA, INC.</th>\n",
       "      <th>VEEVA SYSTEMS INC</th>\n",
       "      <th>AUTODESK INC</th>\n",
       "      <th>INTERNATIONAL WESTERN PETROLEUM, INC.</th>\n",
       "      <th>DAYBREAK OIL &amp; GAS, INC.</th>\n",
       "      <th>ETERNAL SPEECH, INC.</th>\n",
       "      <th>ETERNAL SPEECH, INC.</th>\n",
       "      <th>...</th>\n",
       "      <th>OMEGA HEALTHCARE INVESTORS INC</th>\n",
       "      <th>TABLEAU SOFTWARE INC</th>\n",
       "      <th>HORIZON PHARMA PLC</th>\n",
       "      <th>MERRIMACK PHARMACEUTICALS INC</th>\n",
       "      <th>REVEN HOUSING REIT, INC.</th>\n",
       "      <th>AMERICAN REALTY CAPITAL NEW YORK CITY REIT, INC.</th>\n",
       "      <th>CYCLACEL PHARMACEUTICALS, INC.</th>\n",
       "      <th>ZOETIS INC.</th>\n",
       "      <th>STAG INDUSTRIAL, INC.</th>\n",
       "      <th>EQUINIX INC</th>\n",
       "    </tr>\n",
       "    <tr>\n",
       "      <th>name</th>\n",
       "      <th></th>\n",
       "      <th></th>\n",
       "      <th></th>\n",
       "      <th></th>\n",
       "      <th></th>\n",
       "      <th></th>\n",
       "      <th></th>\n",
       "      <th></th>\n",
       "      <th></th>\n",
       "      <th></th>\n",
       "      <th></th>\n",
       "      <th></th>\n",
       "      <th></th>\n",
       "      <th></th>\n",
       "      <th></th>\n",
       "      <th></th>\n",
       "      <th></th>\n",
       "      <th></th>\n",
       "      <th></th>\n",
       "      <th></th>\n",
       "      <th></th>\n",
       "    </tr>\n",
       "  </thead>\n",
       "  <tbody>\n",
       "    <tr>\n",
       "      <th>MONGODB, INC.</th>\n",
       "      <td>1.000000</td>\n",
       "      <td>0.445455</td>\n",
       "      <td>0.610272</td>\n",
       "      <td>0.620961</td>\n",
       "      <td>0.500762</td>\n",
       "      <td>0.338268</td>\n",
       "      <td>0.065380</td>\n",
       "      <td>0.052345</td>\n",
       "      <td>0.000000</td>\n",
       "      <td>0.000000</td>\n",
       "      <td>...</td>\n",
       "      <td>0.050935</td>\n",
       "      <td>0.630465</td>\n",
       "      <td>0.436327</td>\n",
       "      <td>0.143385</td>\n",
       "      <td>0.066598</td>\n",
       "      <td>0.135839</td>\n",
       "      <td>0.144678</td>\n",
       "      <td>0.189609</td>\n",
       "      <td>0.178397</td>\n",
       "      <td>0.102958</td>\n",
       "    </tr>\n",
       "    <tr>\n",
       "      <th>SALESFORCE COM INC</th>\n",
       "      <td>0.445455</td>\n",
       "      <td>1.000000</td>\n",
       "      <td>0.635969</td>\n",
       "      <td>0.455189</td>\n",
       "      <td>0.196053</td>\n",
       "      <td>0.418546</td>\n",
       "      <td>0.043515</td>\n",
       "      <td>0.064999</td>\n",
       "      <td>0.000000</td>\n",
       "      <td>0.000000</td>\n",
       "      <td>...</td>\n",
       "      <td>0.029326</td>\n",
       "      <td>0.492079</td>\n",
       "      <td>0.300027</td>\n",
       "      <td>0.133831</td>\n",
       "      <td>0.201221</td>\n",
       "      <td>0.201230</td>\n",
       "      <td>0.145089</td>\n",
       "      <td>0.075038</td>\n",
       "      <td>0.277952</td>\n",
       "      <td>0.354856</td>\n",
       "    </tr>\n",
       "    <tr>\n",
       "      <th>SPLUNK INC</th>\n",
       "      <td>0.610272</td>\n",
       "      <td>0.635969</td>\n",
       "      <td>1.000000</td>\n",
       "      <td>0.665648</td>\n",
       "      <td>0.274023</td>\n",
       "      <td>0.373142</td>\n",
       "      <td>0.019112</td>\n",
       "      <td>0.073553</td>\n",
       "      <td>0.000000</td>\n",
       "      <td>0.000000</td>\n",
       "      <td>...</td>\n",
       "      <td>0.018032</td>\n",
       "      <td>0.569939</td>\n",
       "      <td>0.330028</td>\n",
       "      <td>0.116923</td>\n",
       "      <td>0.109538</td>\n",
       "      <td>0.142041</td>\n",
       "      <td>0.128467</td>\n",
       "      <td>0.136418</td>\n",
       "      <td>0.194072</td>\n",
       "      <td>0.273502</td>\n",
       "    </tr>\n",
       "    <tr>\n",
       "      <th>OKTA, INC.</th>\n",
       "      <td>0.620961</td>\n",
       "      <td>0.455189</td>\n",
       "      <td>0.665648</td>\n",
       "      <td>1.000000</td>\n",
       "      <td>0.195672</td>\n",
       "      <td>0.399874</td>\n",
       "      <td>0.013240</td>\n",
       "      <td>0.093942</td>\n",
       "      <td>0.000000</td>\n",
       "      <td>0.000000</td>\n",
       "      <td>...</td>\n",
       "      <td>0.013905</td>\n",
       "      <td>0.579884</td>\n",
       "      <td>0.541775</td>\n",
       "      <td>0.163709</td>\n",
       "      <td>0.109948</td>\n",
       "      <td>0.144051</td>\n",
       "      <td>0.170361</td>\n",
       "      <td>0.111937</td>\n",
       "      <td>0.163588</td>\n",
       "      <td>0.074624</td>\n",
       "    </tr>\n",
       "    <tr>\n",
       "      <th>VEEVA SYSTEMS INC</th>\n",
       "      <td>0.500762</td>\n",
       "      <td>0.196053</td>\n",
       "      <td>0.274023</td>\n",
       "      <td>0.195672</td>\n",
       "      <td>1.000000</td>\n",
       "      <td>0.079927</td>\n",
       "      <td>0.074096</td>\n",
       "      <td>0.030179</td>\n",
       "      <td>0.075713</td>\n",
       "      <td>0.075713</td>\n",
       "      <td>...</td>\n",
       "      <td>0.424046</td>\n",
       "      <td>0.280852</td>\n",
       "      <td>0.153335</td>\n",
       "      <td>0.083683</td>\n",
       "      <td>0.128762</td>\n",
       "      <td>0.211695</td>\n",
       "      <td>0.060273</td>\n",
       "      <td>0.501041</td>\n",
       "      <td>0.332207</td>\n",
       "      <td>0.064207</td>\n",
       "    </tr>\n",
       "    <tr>\n",
       "      <th>...</th>\n",
       "      <td>...</td>\n",
       "      <td>...</td>\n",
       "      <td>...</td>\n",
       "      <td>...</td>\n",
       "      <td>...</td>\n",
       "      <td>...</td>\n",
       "      <td>...</td>\n",
       "      <td>...</td>\n",
       "      <td>...</td>\n",
       "      <td>...</td>\n",
       "      <td>...</td>\n",
       "      <td>...</td>\n",
       "      <td>...</td>\n",
       "      <td>...</td>\n",
       "      <td>...</td>\n",
       "      <td>...</td>\n",
       "      <td>...</td>\n",
       "      <td>...</td>\n",
       "      <td>...</td>\n",
       "      <td>...</td>\n",
       "      <td>...</td>\n",
       "    </tr>\n",
       "    <tr>\n",
       "      <th>AMERICAN REALTY CAPITAL NEW YORK CITY REIT, INC.</th>\n",
       "      <td>0.135839</td>\n",
       "      <td>0.201230</td>\n",
       "      <td>0.142041</td>\n",
       "      <td>0.144051</td>\n",
       "      <td>0.211695</td>\n",
       "      <td>0.106627</td>\n",
       "      <td>0.027594</td>\n",
       "      <td>0.048087</td>\n",
       "      <td>0.000000</td>\n",
       "      <td>0.000000</td>\n",
       "      <td>...</td>\n",
       "      <td>0.284525</td>\n",
       "      <td>0.114080</td>\n",
       "      <td>0.075274</td>\n",
       "      <td>0.048741</td>\n",
       "      <td>0.578793</td>\n",
       "      <td>1.000000</td>\n",
       "      <td>0.039971</td>\n",
       "      <td>0.136184</td>\n",
       "      <td>0.471651</td>\n",
       "      <td>0.042298</td>\n",
       "    </tr>\n",
       "    <tr>\n",
       "      <th>CYCLACEL PHARMACEUTICALS, INC.</th>\n",
       "      <td>0.144678</td>\n",
       "      <td>0.145089</td>\n",
       "      <td>0.128467</td>\n",
       "      <td>0.170361</td>\n",
       "      <td>0.060273</td>\n",
       "      <td>0.094262</td>\n",
       "      <td>0.010770</td>\n",
       "      <td>0.025407</td>\n",
       "      <td>0.000000</td>\n",
       "      <td>0.000000</td>\n",
       "      <td>...</td>\n",
       "      <td>0.015318</td>\n",
       "      <td>0.193458</td>\n",
       "      <td>0.462759</td>\n",
       "      <td>0.683597</td>\n",
       "      <td>0.047288</td>\n",
       "      <td>0.039971</td>\n",
       "      <td>1.000000</td>\n",
       "      <td>0.035694</td>\n",
       "      <td>0.080139</td>\n",
       "      <td>0.013121</td>\n",
       "    </tr>\n",
       "    <tr>\n",
       "      <th>ZOETIS INC.</th>\n",
       "      <td>0.189609</td>\n",
       "      <td>0.075038</td>\n",
       "      <td>0.136418</td>\n",
       "      <td>0.111937</td>\n",
       "      <td>0.501041</td>\n",
       "      <td>0.069267</td>\n",
       "      <td>0.039015</td>\n",
       "      <td>0.022235</td>\n",
       "      <td>0.065917</td>\n",
       "      <td>0.065917</td>\n",
       "      <td>...</td>\n",
       "      <td>0.159082</td>\n",
       "      <td>0.327556</td>\n",
       "      <td>0.148224</td>\n",
       "      <td>0.051060</td>\n",
       "      <td>0.163391</td>\n",
       "      <td>0.136184</td>\n",
       "      <td>0.035694</td>\n",
       "      <td>1.000000</td>\n",
       "      <td>0.207232</td>\n",
       "      <td>0.031911</td>\n",
       "    </tr>\n",
       "    <tr>\n",
       "      <th>STAG INDUSTRIAL, INC.</th>\n",
       "      <td>0.178397</td>\n",
       "      <td>0.277952</td>\n",
       "      <td>0.194072</td>\n",
       "      <td>0.163588</td>\n",
       "      <td>0.332207</td>\n",
       "      <td>0.169739</td>\n",
       "      <td>0.044467</td>\n",
       "      <td>0.057905</td>\n",
       "      <td>0.000000</td>\n",
       "      <td>0.000000</td>\n",
       "      <td>...</td>\n",
       "      <td>0.424106</td>\n",
       "      <td>0.242169</td>\n",
       "      <td>0.179394</td>\n",
       "      <td>0.068313</td>\n",
       "      <td>0.407758</td>\n",
       "      <td>0.471651</td>\n",
       "      <td>0.080139</td>\n",
       "      <td>0.207232</td>\n",
       "      <td>1.000000</td>\n",
       "      <td>0.038365</td>\n",
       "    </tr>\n",
       "    <tr>\n",
       "      <th>EQUINIX INC</th>\n",
       "      <td>0.102958</td>\n",
       "      <td>0.354856</td>\n",
       "      <td>0.273502</td>\n",
       "      <td>0.074624</td>\n",
       "      <td>0.064207</td>\n",
       "      <td>0.060531</td>\n",
       "      <td>0.002205</td>\n",
       "      <td>0.013749</td>\n",
       "      <td>0.000000</td>\n",
       "      <td>0.000000</td>\n",
       "      <td>...</td>\n",
       "      <td>0.018944</td>\n",
       "      <td>0.068787</td>\n",
       "      <td>0.035503</td>\n",
       "      <td>0.011838</td>\n",
       "      <td>0.043938</td>\n",
       "      <td>0.042298</td>\n",
       "      <td>0.013121</td>\n",
       "      <td>0.031911</td>\n",
       "      <td>0.038365</td>\n",
       "      <td>1.000000</td>\n",
       "    </tr>\n",
       "  </tbody>\n",
       "</table>\n",
       "<p>675 rows × 675 columns</p>\n",
       "</div>"
      ],
      "text/plain": [
       "name                                              MONGODB, INC.  \\\n",
       "name                                                              \n",
       "MONGODB, INC.                                          1.000000   \n",
       "SALESFORCE COM INC                                     0.445455   \n",
       "SPLUNK INC                                             0.610272   \n",
       "OKTA, INC.                                             0.620961   \n",
       "VEEVA SYSTEMS INC                                      0.500762   \n",
       "...                                                         ...   \n",
       "AMERICAN REALTY CAPITAL NEW YORK CITY REIT, INC.       0.135839   \n",
       "CYCLACEL PHARMACEUTICALS, INC.                         0.144678   \n",
       "ZOETIS INC.                                            0.189609   \n",
       "STAG INDUSTRIAL, INC.                                  0.178397   \n",
       "EQUINIX INC                                            0.102958   \n",
       "\n",
       "name                                              SALESFORCE COM INC  \\\n",
       "name                                                                   \n",
       "MONGODB, INC.                                               0.445455   \n",
       "SALESFORCE COM INC                                          1.000000   \n",
       "SPLUNK INC                                                  0.635969   \n",
       "OKTA, INC.                                                  0.455189   \n",
       "VEEVA SYSTEMS INC                                           0.196053   \n",
       "...                                                              ...   \n",
       "AMERICAN REALTY CAPITAL NEW YORK CITY REIT, INC.            0.201230   \n",
       "CYCLACEL PHARMACEUTICALS, INC.                              0.145089   \n",
       "ZOETIS INC.                                                 0.075038   \n",
       "STAG INDUSTRIAL, INC.                                       0.277952   \n",
       "EQUINIX INC                                                 0.354856   \n",
       "\n",
       "name                                              SPLUNK INC  OKTA, INC.  \\\n",
       "name                                                                       \n",
       "MONGODB, INC.                                       0.610272    0.620961   \n",
       "SALESFORCE COM INC                                  0.635969    0.455189   \n",
       "SPLUNK INC                                          1.000000    0.665648   \n",
       "OKTA, INC.                                          0.665648    1.000000   \n",
       "VEEVA SYSTEMS INC                                   0.274023    0.195672   \n",
       "...                                                      ...         ...   \n",
       "AMERICAN REALTY CAPITAL NEW YORK CITY REIT, INC.    0.142041    0.144051   \n",
       "CYCLACEL PHARMACEUTICALS, INC.                      0.128467    0.170361   \n",
       "ZOETIS INC.                                         0.136418    0.111937   \n",
       "STAG INDUSTRIAL, INC.                               0.194072    0.163588   \n",
       "EQUINIX INC                                         0.273502    0.074624   \n",
       "\n",
       "name                                              VEEVA SYSTEMS INC  \\\n",
       "name                                                                  \n",
       "MONGODB, INC.                                              0.500762   \n",
       "SALESFORCE COM INC                                         0.196053   \n",
       "SPLUNK INC                                                 0.274023   \n",
       "OKTA, INC.                                                 0.195672   \n",
       "VEEVA SYSTEMS INC                                          1.000000   \n",
       "...                                                             ...   \n",
       "AMERICAN REALTY CAPITAL NEW YORK CITY REIT, INC.           0.211695   \n",
       "CYCLACEL PHARMACEUTICALS, INC.                             0.060273   \n",
       "ZOETIS INC.                                                0.501041   \n",
       "STAG INDUSTRIAL, INC.                                      0.332207   \n",
       "EQUINIX INC                                                0.064207   \n",
       "\n",
       "name                                              AUTODESK INC  \\\n",
       "name                                                             \n",
       "MONGODB, INC.                                         0.338268   \n",
       "SALESFORCE COM INC                                    0.418546   \n",
       "SPLUNK INC                                            0.373142   \n",
       "OKTA, INC.                                            0.399874   \n",
       "VEEVA SYSTEMS INC                                     0.079927   \n",
       "...                                                        ...   \n",
       "AMERICAN REALTY CAPITAL NEW YORK CITY REIT, INC.      0.106627   \n",
       "CYCLACEL PHARMACEUTICALS, INC.                        0.094262   \n",
       "ZOETIS INC.                                           0.069267   \n",
       "STAG INDUSTRIAL, INC.                                 0.169739   \n",
       "EQUINIX INC                                           0.060531   \n",
       "\n",
       "name                                              INTERNATIONAL WESTERN PETROLEUM, INC.  \\\n",
       "name                                                                                      \n",
       "MONGODB, INC.                                                                  0.065380   \n",
       "SALESFORCE COM INC                                                             0.043515   \n",
       "SPLUNK INC                                                                     0.019112   \n",
       "OKTA, INC.                                                                     0.013240   \n",
       "VEEVA SYSTEMS INC                                                              0.074096   \n",
       "...                                                                                 ...   \n",
       "AMERICAN REALTY CAPITAL NEW YORK CITY REIT, INC.                               0.027594   \n",
       "CYCLACEL PHARMACEUTICALS, INC.                                                 0.010770   \n",
       "ZOETIS INC.                                                                    0.039015   \n",
       "STAG INDUSTRIAL, INC.                                                          0.044467   \n",
       "EQUINIX INC                                                                    0.002205   \n",
       "\n",
       "name                                              DAYBREAK OIL & GAS, INC.  \\\n",
       "name                                                                         \n",
       "MONGODB, INC.                                                     0.052345   \n",
       "SALESFORCE COM INC                                                0.064999   \n",
       "SPLUNK INC                                                        0.073553   \n",
       "OKTA, INC.                                                        0.093942   \n",
       "VEEVA SYSTEMS INC                                                 0.030179   \n",
       "...                                                                    ...   \n",
       "AMERICAN REALTY CAPITAL NEW YORK CITY REIT, INC.                  0.048087   \n",
       "CYCLACEL PHARMACEUTICALS, INC.                                    0.025407   \n",
       "ZOETIS INC.                                                       0.022235   \n",
       "STAG INDUSTRIAL, INC.                                             0.057905   \n",
       "EQUINIX INC                                                       0.013749   \n",
       "\n",
       "name                                              ETERNAL SPEECH, INC.  \\\n",
       "name                                                                     \n",
       "MONGODB, INC.                                                 0.000000   \n",
       "SALESFORCE COM INC                                            0.000000   \n",
       "SPLUNK INC                                                    0.000000   \n",
       "OKTA, INC.                                                    0.000000   \n",
       "VEEVA SYSTEMS INC                                             0.075713   \n",
       "...                                                                ...   \n",
       "AMERICAN REALTY CAPITAL NEW YORK CITY REIT, INC.              0.000000   \n",
       "CYCLACEL PHARMACEUTICALS, INC.                                0.000000   \n",
       "ZOETIS INC.                                                   0.065917   \n",
       "STAG INDUSTRIAL, INC.                                         0.000000   \n",
       "EQUINIX INC                                                   0.000000   \n",
       "\n",
       "name                                              ETERNAL SPEECH, INC.  ...  \\\n",
       "name                                                                    ...   \n",
       "MONGODB, INC.                                                 0.000000  ...   \n",
       "SALESFORCE COM INC                                            0.000000  ...   \n",
       "SPLUNK INC                                                    0.000000  ...   \n",
       "OKTA, INC.                                                    0.000000  ...   \n",
       "VEEVA SYSTEMS INC                                             0.075713  ...   \n",
       "...                                                                ...  ...   \n",
       "AMERICAN REALTY CAPITAL NEW YORK CITY REIT, INC.              0.000000  ...   \n",
       "CYCLACEL PHARMACEUTICALS, INC.                                0.000000  ...   \n",
       "ZOETIS INC.                                                   0.065917  ...   \n",
       "STAG INDUSTRIAL, INC.                                         0.000000  ...   \n",
       "EQUINIX INC                                                   0.000000  ...   \n",
       "\n",
       "name                                              OMEGA HEALTHCARE INVESTORS INC  \\\n",
       "name                                                                               \n",
       "MONGODB, INC.                                                           0.050935   \n",
       "SALESFORCE COM INC                                                      0.029326   \n",
       "SPLUNK INC                                                              0.018032   \n",
       "OKTA, INC.                                                              0.013905   \n",
       "VEEVA SYSTEMS INC                                                       0.424046   \n",
       "...                                                                          ...   \n",
       "AMERICAN REALTY CAPITAL NEW YORK CITY REIT, INC.                        0.284525   \n",
       "CYCLACEL PHARMACEUTICALS, INC.                                          0.015318   \n",
       "ZOETIS INC.                                                             0.159082   \n",
       "STAG INDUSTRIAL, INC.                                                   0.424106   \n",
       "EQUINIX INC                                                             0.018944   \n",
       "\n",
       "name                                              TABLEAU SOFTWARE INC  \\\n",
       "name                                                                     \n",
       "MONGODB, INC.                                                 0.630465   \n",
       "SALESFORCE COM INC                                            0.492079   \n",
       "SPLUNK INC                                                    0.569939   \n",
       "OKTA, INC.                                                    0.579884   \n",
       "VEEVA SYSTEMS INC                                             0.280852   \n",
       "...                                                                ...   \n",
       "AMERICAN REALTY CAPITAL NEW YORK CITY REIT, INC.              0.114080   \n",
       "CYCLACEL PHARMACEUTICALS, INC.                                0.193458   \n",
       "ZOETIS INC.                                                   0.327556   \n",
       "STAG INDUSTRIAL, INC.                                         0.242169   \n",
       "EQUINIX INC                                                   0.068787   \n",
       "\n",
       "name                                              HORIZON PHARMA PLC  \\\n",
       "name                                                                   \n",
       "MONGODB, INC.                                               0.436327   \n",
       "SALESFORCE COM INC                                          0.300027   \n",
       "SPLUNK INC                                                  0.330028   \n",
       "OKTA, INC.                                                  0.541775   \n",
       "VEEVA SYSTEMS INC                                           0.153335   \n",
       "...                                                              ...   \n",
       "AMERICAN REALTY CAPITAL NEW YORK CITY REIT, INC.            0.075274   \n",
       "CYCLACEL PHARMACEUTICALS, INC.                              0.462759   \n",
       "ZOETIS INC.                                                 0.148224   \n",
       "STAG INDUSTRIAL, INC.                                       0.179394   \n",
       "EQUINIX INC                                                 0.035503   \n",
       "\n",
       "name                                              MERRIMACK PHARMACEUTICALS INC  \\\n",
       "name                                                                              \n",
       "MONGODB, INC.                                                          0.143385   \n",
       "SALESFORCE COM INC                                                     0.133831   \n",
       "SPLUNK INC                                                             0.116923   \n",
       "OKTA, INC.                                                             0.163709   \n",
       "VEEVA SYSTEMS INC                                                      0.083683   \n",
       "...                                                                         ...   \n",
       "AMERICAN REALTY CAPITAL NEW YORK CITY REIT, INC.                       0.048741   \n",
       "CYCLACEL PHARMACEUTICALS, INC.                                         0.683597   \n",
       "ZOETIS INC.                                                            0.051060   \n",
       "STAG INDUSTRIAL, INC.                                                  0.068313   \n",
       "EQUINIX INC                                                            0.011838   \n",
       "\n",
       "name                                              REVEN HOUSING REIT, INC.  \\\n",
       "name                                                                         \n",
       "MONGODB, INC.                                                     0.066598   \n",
       "SALESFORCE COM INC                                                0.201221   \n",
       "SPLUNK INC                                                        0.109538   \n",
       "OKTA, INC.                                                        0.109948   \n",
       "VEEVA SYSTEMS INC                                                 0.128762   \n",
       "...                                                                    ...   \n",
       "AMERICAN REALTY CAPITAL NEW YORK CITY REIT, INC.                  0.578793   \n",
       "CYCLACEL PHARMACEUTICALS, INC.                                    0.047288   \n",
       "ZOETIS INC.                                                       0.163391   \n",
       "STAG INDUSTRIAL, INC.                                             0.407758   \n",
       "EQUINIX INC                                                       0.043938   \n",
       "\n",
       "name                                              AMERICAN REALTY CAPITAL NEW YORK CITY REIT, INC.  \\\n",
       "name                                                                                                 \n",
       "MONGODB, INC.                                                                             0.135839   \n",
       "SALESFORCE COM INC                                                                        0.201230   \n",
       "SPLUNK INC                                                                                0.142041   \n",
       "OKTA, INC.                                                                                0.144051   \n",
       "VEEVA SYSTEMS INC                                                                         0.211695   \n",
       "...                                                                                            ...   \n",
       "AMERICAN REALTY CAPITAL NEW YORK CITY REIT, INC.                                          1.000000   \n",
       "CYCLACEL PHARMACEUTICALS, INC.                                                            0.039971   \n",
       "ZOETIS INC.                                                                               0.136184   \n",
       "STAG INDUSTRIAL, INC.                                                                     0.471651   \n",
       "EQUINIX INC                                                                               0.042298   \n",
       "\n",
       "name                                              CYCLACEL PHARMACEUTICALS, INC.  \\\n",
       "name                                                                               \n",
       "MONGODB, INC.                                                           0.144678   \n",
       "SALESFORCE COM INC                                                      0.145089   \n",
       "SPLUNK INC                                                              0.128467   \n",
       "OKTA, INC.                                                              0.170361   \n",
       "VEEVA SYSTEMS INC                                                       0.060273   \n",
       "...                                                                          ...   \n",
       "AMERICAN REALTY CAPITAL NEW YORK CITY REIT, INC.                        0.039971   \n",
       "CYCLACEL PHARMACEUTICALS, INC.                                          1.000000   \n",
       "ZOETIS INC.                                                             0.035694   \n",
       "STAG INDUSTRIAL, INC.                                                   0.080139   \n",
       "EQUINIX INC                                                             0.013121   \n",
       "\n",
       "name                                              ZOETIS INC.  \\\n",
       "name                                                            \n",
       "MONGODB, INC.                                        0.189609   \n",
       "SALESFORCE COM INC                                   0.075038   \n",
       "SPLUNK INC                                           0.136418   \n",
       "OKTA, INC.                                           0.111937   \n",
       "VEEVA SYSTEMS INC                                    0.501041   \n",
       "...                                                       ...   \n",
       "AMERICAN REALTY CAPITAL NEW YORK CITY REIT, INC.     0.136184   \n",
       "CYCLACEL PHARMACEUTICALS, INC.                       0.035694   \n",
       "ZOETIS INC.                                          1.000000   \n",
       "STAG INDUSTRIAL, INC.                                0.207232   \n",
       "EQUINIX INC                                          0.031911   \n",
       "\n",
       "name                                              STAG INDUSTRIAL, INC.  \\\n",
       "name                                                                      \n",
       "MONGODB, INC.                                                  0.178397   \n",
       "SALESFORCE COM INC                                             0.277952   \n",
       "SPLUNK INC                                                     0.194072   \n",
       "OKTA, INC.                                                     0.163588   \n",
       "VEEVA SYSTEMS INC                                              0.332207   \n",
       "...                                                                 ...   \n",
       "AMERICAN REALTY CAPITAL NEW YORK CITY REIT, INC.               0.471651   \n",
       "CYCLACEL PHARMACEUTICALS, INC.                                 0.080139   \n",
       "ZOETIS INC.                                                    0.207232   \n",
       "STAG INDUSTRIAL, INC.                                          1.000000   \n",
       "EQUINIX INC                                                    0.038365   \n",
       "\n",
       "name                                              EQUINIX INC  \n",
       "name                                                           \n",
       "MONGODB, INC.                                        0.102958  \n",
       "SALESFORCE COM INC                                   0.354856  \n",
       "SPLUNK INC                                           0.273502  \n",
       "OKTA, INC.                                           0.074624  \n",
       "VEEVA SYSTEMS INC                                    0.064207  \n",
       "...                                                       ...  \n",
       "AMERICAN REALTY CAPITAL NEW YORK CITY REIT, INC.     0.042298  \n",
       "CYCLACEL PHARMACEUTICALS, INC.                       0.013121  \n",
       "ZOETIS INC.                                          0.031911  \n",
       "STAG INDUSTRIAL, INC.                                0.038365  \n",
       "EQUINIX INC                                          1.000000  \n",
       "\n",
       "[675 rows x 675 columns]"
      ]
     },
     "execution_count": 9,
     "metadata": {},
     "output_type": "execute_result"
    }
   ],
   "source": [
    "cosine_sim"
   ]
  },
  {
   "cell_type": "markdown",
   "id": "ded0b365",
   "metadata": {},
   "source": [
    "## Accuracy - Confusion Matrix / ROC Curves\n",
    "### Predictions Based on the Closest Cosine Similarity Distance"
   ]
  },
  {
   "cell_type": "code",
   "execution_count": 10,
   "id": "6d4c55de",
   "metadata": {},
   "outputs": [],
   "source": [
    "from sklearn.metrics import confusion_matrix, ConfusionMatrixDisplay\n",
    "def get_accuracy(cosine_matrix):\n",
    "    np.fill_diagonal(cosine_matrix.values, 0)\n",
    "    cosine_matrix.index = df[\"SIC_desc\"]\n",
    "    cosine_matrix.columns = df[\"SIC_desc\"]\n",
    "    prediction = pd.DataFrame(cosine_matrix.idxmax(axis=1))\n",
    "    prediction.reset_index(level=0, inplace=True)\n",
    "    prediction.columns = [\"y_true\",\"y_pred\"]\n",
    "    return (prediction, np.sum(np.where(prediction.iloc[:,1] == prediction.iloc[:,0], 1, 0))/\n",
    "                            len(prediction), confusion_matrix(prediction[\"y_true\"], prediction[\"y_pred\"], \n",
    "                                                                    labels=None, sample_weight=None, normalize='true'))\n",
    "\n",
    "def conf_mat_cosine(matrix):\n",
    "    prediction, accuracy, cm = get_accuracy(matrix)\n",
    "    disp = ConfusionMatrixDisplay(confusion_matrix=cm,display_labels=df[\"SIC_desc\"].unique())\n",
    "    disp.plot(xticks_rotation='vertical')\n",
    "    disp.figure_.savefig('conf_mat.png', dpi=200, bbox_inches='tight')\n",
    "\n",
    "    return prediction"
   ]
  },
  {
   "cell_type": "code",
   "execution_count": 27,
   "id": "e7d5fc31",
   "metadata": {},
   "outputs": [
    {
     "ename": "AttributeError",
     "evalue": "module 'std_func' has no attribute 'conf_mat_cosine'",
     "output_type": "error",
     "traceback": [
      "\u001b[0;31m---------------------------------------------------------------------------\u001b[0m",
      "\u001b[0;31mAttributeError\u001b[0m                            Traceback (most recent call last)",
      "\u001b[0;32m/var/folders/6t/0lh6qmkn1zg8fhlp984cpxrr0000gn/T/ipykernel_95930/2573515659.py\u001b[0m in \u001b[0;36m<module>\u001b[0;34m\u001b[0m\n\u001b[0;32m----> 1\u001b[0;31m \u001b[0mstd_func\u001b[0m\u001b[0;34m.\u001b[0m\u001b[0mconf_mat_cosine\u001b[0m\u001b[0;34m(\u001b[0m\u001b[0mcosine_sim\u001b[0m\u001b[0;34m)\u001b[0m\u001b[0;34m\u001b[0m\u001b[0;34m\u001b[0m\u001b[0m\n\u001b[0m",
      "\u001b[0;31mAttributeError\u001b[0m: module 'std_func' has no attribute 'conf_mat_cosine'"
     ]
    }
   ],
   "source": [
    "std_func.conf_mat_cosine(cosine_sim)"
   ]
  },
  {
   "cell_type": "code",
   "execution_count": 11,
   "id": "703fc4c4",
   "metadata": {
    "scrolled": true
   },
   "outputs": [
    {
     "data": {
      "image/png": "[encoded data removed]",
      "text/plain": [
       "<Figure size 432x288 with 2 Axes>"
      ]
     },
     "metadata": {
      "needs_background": "light"
     },
     "output_type": "display_data"
    }
   ],
   "source": [
    "cosine_conf = conf_mat_cosine(cosine_sim)"
   ]
  },
  {
   "cell_type": "code",
   "execution_count": 12,
   "id": "4032fd4b",
   "metadata": {},
   "outputs": [],
   "source": [
    "import matplotlib.pyplot as plt\n",
    "from sklearn.metrics import roc_curve\n",
    "from sklearn.metrics import auc\n",
    "def show_ROC_curves(df, similarity_matrix):\n",
    "    for i in df[\"SIC_desc\"].unique():\n",
    "        y_true = similarity_matrix[\"y_true\"] == i\n",
    "        y_pred = similarity_matrix[\"y_pred\"] == i\n",
    "        fpr,tpr, _ = roc_curve(y_true, y_pred)\n",
    "        roc_auc = auc(fpr, tpr)\n",
    "\n",
    "        plt.plot(\n",
    "            fpr,\n",
    "            tpr,\n",
    "            label=\"ROC curve of class {0} (area = {1:0.2f})\".format(i, roc_auc),\n",
    "        )\n",
    "    plt.plot([0, 1], [0, 1], \"k--\")\n",
    "    plt.xlim([0.0, 1.0])\n",
    "    plt.ylim([0.0, 1.05])\n",
    "    plt.xlabel(\"False Positive Rate\")\n",
    "    plt.ylabel(\"True Positive Rate\")\n",
    "    plt.title(\"Some extension of Receiver operating characteristic to multiclass\")\n",
    "    plt.legend(loc=\"lower right\")\n",
    "    plt.savefig(\"ROC.png\")\n",
    "    plt.show()"
   ]
  },
  {
   "cell_type": "code",
   "execution_count": 13,
   "id": "588b7bce",
   "metadata": {},
   "outputs": [
    {
     "data": {
      "image/png": "[encoded data removed]",
      "text/plain": [
       "<Figure size 432x288 with 1 Axes>"
      ]
     },
     "metadata": {
      "needs_background": "light"
     },
     "output_type": "display_data"
    }
   ],
   "source": [
    "show_ROC_curves(df, cosine_conf)"
   ]
  },
  {
   "cell_type": "markdown",
   "id": "7d7700a1",
   "metadata": {},
   "source": [
    "## Plotting"
   ]
  },
  {
   "cell_type": "markdown",
   "id": "4e0d978a",
   "metadata": {},
   "source": [
    "### Plotting on the Cosine Similarity Matrix"
   ]
  },
  {
   "cell_type": "code",
   "execution_count": 24,
   "id": "f7db19bc",
   "metadata": {},
   "outputs": [
    {
     "data": {
      "application/vnd.plotly.v1+json": {
       "config": {
        "plotlyServerURL": "https://plot.ly"
       },
       "data": [
        {
         "customdata": [
          [
           "MONGODB, INC.",
           "Prepackaged Software (mass reproduction of software)"
          ],
          [
           "SALESFORCE COM INC",
           "Prepackaged Software (mass reproduction of software)"
          ],
          [
           "SPLUNK INC",
           "Prepackaged Software (mass reproduction of software)"
          ],
          [
           "OKTA, INC.",
           "Prepackaged Software (mass reproduction of software)"
          ],
          [
           "VEEVA SYSTEMS INC",
           "Prepackaged Software (mass reproduction of software)"
          ],
          [
           "AUTODESK INC",
           "Prepackaged Software (mass reproduction of software)"
          ],
          [
           "ETERNAL SPEECH, INC.",
           "Prepackaged Software (mass reproduction of software)"
          ],
          [
           "ETERNAL SPEECH, INC.",
           "Prepackaged Software (mass reproduction of software)"
          ],
          [
           "MAJESCO",
           "Prepackaged Software (mass reproduction of software)"
          ],
          [
           "DUO WORLD INC",
           "Prepackaged Software (mass reproduction of software)"
          ],
          [
           "COMMVAULT SYSTEMS INC",
           "Prepackaged Software (mass reproduction of software)"
          ],
          [
           "UPPERSOLUTION.COM",
           "Prepackaged Software (mass reproduction of software)"
          ],
          [
           "ORACLE CORP",
           "Prepackaged Software (mass reproduction of software)"
          ],
          [
           "SAVMOBI TECHNOLOGY INC.",
           "Prepackaged Software (mass reproduction of software)"
          ],
          [
           "ZEDGE, INC.",
           "Prepackaged Software (mass reproduction of software)"
          ],
          [
           "DESTINY MEDIA TECHNOLOGIES INC",
           "Prepackaged Software (mass reproduction of software)"
          ],
          [
           "TRAQER CORP",
           "Prepackaged Software (mass reproduction of software)"
          ],
          [
           "VISIBER57 CORP.",
           "Prepackaged Software (mass reproduction of software)"
          ],
          [
           "GH CAPITAL INC.",
           "Prepackaged Software (mass reproduction of software)"
          ],
          [
           "BRIDGELINE DIGITAL, INC.",
           "Prepackaged Software (mass reproduction of software)"
          ],
          [
           "NUANCE COMMUNICATIONS, INC.",
           "Prepackaged Software (mass reproduction of software)"
          ],
          [
           "DATAWATCH CORP",
           "Prepackaged Software (mass reproduction of software)"
          ],
          [
           "POLARITYTE, INC.",
           "Prepackaged Software (mass reproduction of software)"
          ],
          [
           "POLARITYTE, INC.",
           "Prepackaged Software (mass reproduction of software)"
          ],
          [
           "VGRAB COMMUNICATIONS INC.",
           "Prepackaged Software (mass reproduction of software)"
          ],
          [
           "VGRAB COMMUNICATIONS INC.",
           "Prepackaged Software (mass reproduction of software)"
          ],
          [
           "ADAIAH DISTRIBUTION INC",
           "Prepackaged Software (mass reproduction of software)"
          ],
          [
           "ADAIAH DISTRIBUTION INC",
           "Prepackaged Software (mass reproduction of software)"
          ],
          [
           "PROGRESS SOFTWARE CORP /MA",
           "Prepackaged Software (mass reproduction of software)"
          ],
          [
           "MEDICAL INFORMATION TECHNOLOGY, INC.",
           "Prepackaged Software (mass reproduction of software)"
          ],
          [
           "SPS COMMERCE INC",
           "Prepackaged Software (mass reproduction of software)"
          ],
          [
           "ALTERYX, INC.",
           "Prepackaged Software (mass reproduction of software)"
          ],
          [
           "INTELLIGENT SYSTEMS CORP",
           "Prepackaged Software (mass reproduction of software)"
          ],
          [
           "ALARM.COM HOLDINGS, INC.",
           "Prepackaged Software (mass reproduction of software)"
          ],
          [
           "LIGHTNING GAMING, INC.",
           "Prepackaged Software (mass reproduction of software)"
          ],
          [
           "ENDURANCE INTERNATIONAL GROUP HOLDINGS, INC.",
           "Prepackaged Software (mass reproduction of software)"
          ],
          [
           "2U, INC.",
           "Prepackaged Software (mass reproduction of software)"
          ],
          [
           "CISION LTD.",
           "Prepackaged Software (mass reproduction of software)"
          ],
          [
           "BTCS INC.",
           "Prepackaged Software (mass reproduction of software)"
          ],
          [
           "BTCS INC.",
           "Prepackaged Software (mass reproduction of software)"
          ],
          [
           "BTCS INC.",
           "Prepackaged Software (mass reproduction of software)"
          ],
          [
           "INTELLICHECK, INC.",
           "Prepackaged Software (mass reproduction of software)"
          ],
          [
           "REALPAGE INC",
           "Prepackaged Software (mass reproduction of software)"
          ],
          [
           "Q2 HOLDINGS, INC.",
           "Prepackaged Software (mass reproduction of software)"
          ],
          [
           "MCORPCX, INC.",
           "Prepackaged Software (mass reproduction of software)"
          ],
          [
           "QUALYS, INC.",
           "Prepackaged Software (mass reproduction of software)"
          ],
          [
           "MEDICAL TRANSCRIPTION BILLING, CORP",
           "Prepackaged Software (mass reproduction of software)"
          ],
          [
           "SMITH MICRO SOFTWARE INC",
           "Prepackaged Software (mass reproduction of software)"
          ],
          [
           "SHOTSPOTTER, INC",
           "Prepackaged Software (mass reproduction of software)"
          ],
          [
           "LONGWEN GROUP CORP.",
           "Prepackaged Software (mass reproduction of software)"
          ],
          [
           "ELLIE MAE INC",
           "Prepackaged Software (mass reproduction of software)"
          ],
          [
           "ROSETTA STONE INC",
           "Prepackaged Software (mass reproduction of software)"
          ],
          [
           "BLACK KNIGHT, INC.",
           "Prepackaged Software (mass reproduction of software)"
          ],
          [
           "MICROSTRATEGY INC",
           "Prepackaged Software (mass reproduction of software)"
          ],
          [
           "EMR TECHNOLOGY SOLUTIONS, INC.",
           "Prepackaged Software (mass reproduction of software)"
          ],
          [
           "PAYCOM SOFTWARE, INC.",
           "Prepackaged Software (mass reproduction of software)"
          ],
          [
           "3D SYSTEMS CORP",
           "Prepackaged Software (mass reproduction of software)"
          ],
          [
           "APPIAN CORP",
           "Prepackaged Software (mass reproduction of software)"
          ],
          [
           "UPLAND SOFTWARE, INC.",
           "Prepackaged Software (mass reproduction of software)"
          ],
          [
           "LIVEPERSON INC",
           "Prepackaged Software (mass reproduction of software)"
          ],
          [
           "AWARE INC /MA/",
           "Prepackaged Software (mass reproduction of software)"
          ],
          [
           "ULTIMATE SOFTWARE GROUP INC",
           "Prepackaged Software (mass reproduction of software)"
          ],
          [
           "ANSYS INC",
           "Prepackaged Software (mass reproduction of software)"
          ],
          [
           "AVID TECHNOLOGY, INC.",
           "Prepackaged Software (mass reproduction of software)"
          ],
          [
           "NATIONAL INSTRUMENTS CORP",
           "Prepackaged Software (mass reproduction of software)"
          ],
          [
           "INSPRO TECHNOLOGIES CORP",
           "Prepackaged Software (mass reproduction of software)"
          ],
          [
           "QUMU CORP",
           "Prepackaged Software (mass reproduction of software)"
          ],
          [
           "ACI WORLDWIDE, INC.",
           "Prepackaged Software (mass reproduction of software)"
          ],
          [
           "SQUARE, INC.",
           "Prepackaged Software (mass reproduction of software)"
          ],
          [
           "ALTAIR ENGINEERING INC.",
           "Prepackaged Software (mass reproduction of software)"
          ],
          [
           "TALEND SA",
           "Prepackaged Software (mass reproduction of software)"
          ],
          [
           "APPFOLIO INC",
           "Prepackaged Software (mass reproduction of software)"
          ],
          [
           "GSE SYSTEMS INC",
           "Prepackaged Software (mass reproduction of software)"
          ],
          [
           "IPSIDY INC.",
           "Prepackaged Software (mass reproduction of software)"
          ],
          [
           "INTELLINETICS, INC.",
           "Prepackaged Software (mass reproduction of software)"
          ],
          [
           "INTELLINETICS, INC.",
           "Prepackaged Software (mass reproduction of software)"
          ],
          [
           "IIOT-OXYS, INC.",
           "Prepackaged Software (mass reproduction of software)"
          ],
          [
           "NEWGIOCO GROUP, INC.",
           "Prepackaged Software (mass reproduction of software)"
          ],
          [
           "WORKIVA INC",
           "Prepackaged Software (mass reproduction of software)"
          ],
          [
           "TABLEAU SOFTWARE INC",
           "Prepackaged Software (mass reproduction of software)"
          ]
         ],
         "hovertemplate": "color=Prepackaged Software (mass reproduction of software)<br>0=%{x}<br>1=%{y}<br>name=%{customdata[0]}<br>industry=%{customdata[1]}<extra></extra>",
         "legendgroup": "Prepackaged Software (mass reproduction of software)",
         "marker": {
          "color": "#636efa",
          "symbol": "circle"
         },
         "mode": "markers",
         "name": "Prepackaged Software (mass reproduction of software)",
         "orientation": "v",
         "showlegend": true,
         "type": "scatter",
         "x": [
          0.9990208358637881,
          0.2633929490367154,
          0.4213714880747349,
          0.8408999670994822,
          -0.3140208201394431,
          0.44383655552053347,
          0.24461226250361423,
          0.24461226250361423,
          -0.20375924508780566,
          0.4801317736447076,
          0.6024721863060573,
          1.083227477196859,
          0.20564790692239732,
          -0.12768301844822375,
          0.19780650724212548,
          0.7897911283159984,
          -0.731997896309612,
          0.24029833822227997,
          0.026291545807584214,
          0.035188012227532976,
          0.4667665149638161,
          0.36170397290799844,
          3.2356415564231007,
          3.2356415564231007,
          -0.62356803318602,
          -0.62356803318602,
          -0.5426275806806721,
          -0.5426275806806721,
          0.05191161409637732,
          0.25462932458032833,
          -0.2298874066982151,
          1.2692121452586895,
          -0.3791663600858667,
          0.5218016529842551,
          1.1741960469090127,
          0.4533003469873668,
          0.15417335647668987,
          0.8314784638744139,
          -0.24876054983537005,
          -0.24876054983537005,
          -0.24876054983537005,
          -0.030312161480506725,
          -2.0500915784564504,
          -0.15187135411876096,
          -0.08493199887058224,
          1.0063555006407017,
          -0.32681586002957835,
          0.9116805334072674,
          1.3084889970693634,
          -0.4241601416343725,
          -0.13988951933947186,
          0.2106649864258616,
          -2.4587979688709956,
          0.29215682032669776,
          1.6904793543459395,
          0.452594575577024,
          0.032315833123874496,
          0.694642416520192,
          0.21165735966537277,
          1.2294392904237899,
          0.6419844215954025,
          0.07496736614047288,
          -0.06833848315182355,
          0.8319369103405979,
          0.09182207738004337,
          -0.06660250053853613,
          0.10944637085090124,
          0.47448157021547815,
          0.8349961180047674,
          0.6694108767942818,
          0.8007467925060211,
          -1.8313201897097962,
          -0.5602114867184941,
          1.024831328653115,
          -0.4622542059932623,
          -0.4622542059932623,
          0.6345831175948949,
          0.600234783700404,
          0.6877975084980401,
          1.37883736165467
         ],
         "xaxis": "x",
         "y": [
          -0.8081412816566874,
          -0.8345257152642801,
          -0.9700765223336082,
          -0.8349584304780017,
          -1.4491223650822667,
          -0.8291087381571366,
          -0.6564444769568664,
          -0.6564444769568664,
          -1.4772808231648307,
          -0.8436621621710368,
          -0.6037733682052067,
          -0.822847351788025,
          -0.6822871099987156,
          -1.2969781405974687,
          -0.6148601860706211,
          -0.6209653170908748,
          -0.5469737660782055,
          -0.7991990820882505,
          -0.7381839343312948,
          -1.0745791302711767,
          -0.8474335325568003,
          -0.782638638047285,
          0.7186052049033034,
          0.7186052049033034,
          -0.8312918096681027,
          -0.8312918096681027,
          -1.4404420980567163,
          -1.4404420980567163,
          -1.4007067926061612,
          -0.9206580960494465,
          -1.3435448176617706,
          -0.6158468582713007,
          -1.0684558342265948,
          -0.5971029612279671,
          -0.39101374414972484,
          -1.1430983085902577,
          -0.9202882177879063,
          -0.6623034574866224,
          -0.33559233141159106,
          -0.33559233141159106,
          -0.33559233141159106,
          -0.5568378607838663,
          -1.8501208886645504,
          -0.029377502638719237,
          -1.4583029439701816,
          -0.7153037548607409,
          -1.2803107380418126,
          -0.6688584209608508,
          -0.816923860347091,
          -1.0344425206787018,
          -0.6012655173964573,
          -1.0773188509214209,
          -0.6638984444533793,
          -1.0055651587218266,
          -0.1214693166150553,
          -1.1507639617057892,
          -0.7275566437884842,
          -0.728252837661469,
          -1.2170223268711178,
          -0.4665881214535821,
          -0.5270431896975827,
          -1.0960446868901346,
          -0.743875037400714,
          -0.693431907536249,
          -1.1125483107063003,
          -1.022816808230693,
          -1.3738391839202513,
          -0.12024514225010735,
          -0.24984636516954803,
          -0.8149718798574903,
          -0.7799434143802196,
          -1.7828937198938704,
          -1.5237741518649233,
          -0.40103468781074353,
          -0.869027645996581,
          -0.869027645996581,
          -0.8918554009256474,
          -0.8586002893788278,
          -0.45400445176672344,
          -0.7088864037110341
         ],
         "yaxis": "y"
        },
        {
         "customdata": [
          [
           "INTERNATIONAL WESTERN PETROLEUM, INC.",
           "Crude Petroleum and Natural Gas"
          ],
          [
           "DAYBREAK OIL & GAS, INC.",
           "Crude Petroleum and Natural Gas"
          ],
          [
           "GB SCIENCES INC",
           "Crude Petroleum and Natural Gas"
          ],
          [
           "FREEDOM HOLDING CORP.",
           "Crude Petroleum and Natural Gas"
          ],
          [
           "MEXCO ENERGY CORP",
           "Crude Petroleum and Natural Gas"
          ],
          [
           "SUSTAINABLE PROJECTS GROUP INC.",
           "Crude Petroleum and Natural Gas"
          ],
          [
           "AMERICAN ENERGY GROUP LTD",
           "Crude Petroleum and Natural Gas"
          ],
          [
           "REDHAWK HOLDINGS CORP.",
           "Crude Petroleum and Natural Gas"
          ],
          [
           "TIANCI INTERNATIONAL, INC.",
           "Crude Petroleum and Natural Gas"
          ],
          [
           "AMAZING ENERGY OIL & GAS, CO.",
           "Crude Petroleum and Natural Gas"
          ],
          [
           "ALTEX INDUSTRIES INC",
           "Crude Petroleum and Natural Gas"
          ],
          [
           "BARNWELL INDUSTRIES INC",
           "Crude Petroleum and Natural Gas"
          ],
          [
           "PANHANDLE OIL & GAS INC",
           "Crude Petroleum and Natural Gas"
          ],
          [
           "ENERGY 11, L.P.",
           "Crude Petroleum and Natural Gas"
          ],
          [
           "ABRAXAS PETROLEUM CORP",
           "Crude Petroleum and Natural Gas"
          ],
          [
           "SEARS OIL & GAS",
           "Crude Petroleum and Natural Gas"
          ],
          [
           "APACHE CORP",
           "Crude Petroleum and Natural Gas"
          ],
          [
           "GULFPORT ENERGY CORP",
           "Crude Petroleum and Natural Gas"
          ],
          [
           "CONTINENTAL RESOURCES, INC",
           "Crude Petroleum and Natural Gas"
          ],
          [
           "ISRAMCO INC",
           "Crude Petroleum and Natural Gas"
          ],
          [
           "CHAPARRAL ENERGY, INC.",
           "Crude Petroleum and Natural Gas"
          ],
          [
           "WHITING PETROLEUM CORP",
           "Crude Petroleum and Natural Gas"
          ],
          [
           "CONTANGO OIL & GAS CO",
           "Crude Petroleum and Natural Gas"
          ],
          [
           "EARTHSTONE ENERGY INC",
           "Crude Petroleum and Natural Gas"
          ],
          [
           "CLEAN COAL TECHNOLOGIES INC.",
           "Crude Petroleum and Natural Gas"
          ],
          [
           "NORTHERN OIL & GAS, INC.",
           "Crude Petroleum and Natural Gas"
          ],
          [
           "SRC ENERGY INC.",
           "Crude Petroleum and Natural Gas"
          ],
          [
           "JONES ENERGY, INC.",
           "Crude Petroleum and Natural Gas"
          ],
          [
           "GOODRICH PETROLEUM CORP",
           "Crude Petroleum and Natural Gas"
          ],
          [
           "OCCIDENTAL PETROLEUM CORP /DE/",
           "Crude Petroleum and Natural Gas"
          ],
          [
           "LONESTAR RESOURCES US INC.",
           "Crude Petroleum and Natural Gas"
          ],
          [
           "NOBLE ENERGY INC",
           "Crude Petroleum and Natural Gas"
          ],
          [
           "PIONEER NATURAL RESOURCES CO",
           "Crude Petroleum and Natural Gas"
          ],
          [
           "BONANZA CREEK ENERGY, INC.",
           "Crude Petroleum and Natural Gas"
          ],
          [
           "DEVON ENERGY CORP/DE",
           "Crude Petroleum and Natural Gas"
          ],
          [
           "CALIFORNIA RESOURCES CORP",
           "Crude Petroleum and Natural Gas"
          ],
          [
           "PARK PLACE ENERGY INC.",
           "Crude Petroleum and Natural Gas"
          ],
          [
           "ANTERO RESOURCES CORP",
           "Crude Petroleum and Natural Gas"
          ],
          [
           "LAREDO PETROLEUM, INC.",
           "Crude Petroleum and Natural Gas"
          ],
          [
           "CIMAREX ENERGY CO",
           "Crude Petroleum and Natural Gas"
          ],
          [
           "ALTA MESA HOLDINGS, LP",
           "Crude Petroleum and Natural Gas"
          ],
          [
           "US ENERGY CORP",
           "Crude Petroleum and Natural Gas"
          ],
          [
           "VICTORY ENERGY CORP",
           "Crude Petroleum and Natural Gas"
          ],
          [
           "VICTORY ENERGY CORP",
           "Crude Petroleum and Natural Gas"
          ],
          [
           "GRAN TIERRA ENERGY INC.",
           "Crude Petroleum and Natural Gas"
          ],
          [
           "MIDSTATES PETROLEUM COMPANY, INC.",
           "Crude Petroleum and Natural Gas"
          ],
          [
           "WILDHORSE RESOURCE DEVELOPMENT CORP",
           "Crude Petroleum and Natural Gas"
          ],
          [
           "SM ENERGY CO",
           "Crude Petroleum and Natural Gas"
          ],
          [
           "SANDRIDGE ENERGY INC",
           "Crude Petroleum and Natural Gas"
          ],
          [
           "RING ENERGY, INC.",
           "Crude Petroleum and Natural Gas"
          ],
          [
           "SANCHEZ ENERGY CORP",
           "Crude Petroleum and Natural Gas"
          ],
          [
           "TETRA TECHNOLOGIES INC",
           "Crude Petroleum and Natural Gas"
          ],
          [
           "RESERVE PETROLEUM CO",
           "Crude Petroleum and Natural Gas"
          ],
          [
           "HESS MIDSTREAM PARTNERS LP",
           "Crude Petroleum and Natural Gas"
          ],
          [
           "TORCHLIGHT ENERGY RESOURCES INC",
           "Crude Petroleum and Natural Gas"
          ],
          [
           "LINN ENERGY, INC.",
           "Crude Petroleum and Natural Gas"
          ],
          [
           "KOSMOS ENERGY LTD.",
           "Crude Petroleum and Natural Gas"
          ],
          [
           "SILVERBOW RESOURCES, INC.",
           "Crude Petroleum and Natural Gas"
          ],
          [
           "TELLURIAN INC. /DE/",
           "Crude Petroleum and Natural Gas"
          ],
          [
           "DORCHESTER MINERALS, L.P.",
           "Crude Petroleum and Natural Gas"
          ],
          [
           "MATADOR RESOURCES CO",
           "Crude Petroleum and Natural Gas"
          ],
          [
           "PDC ENERGY, INC.",
           "Crude Petroleum and Natural Gas"
          ],
          [
           "TEXAS SOUTH ENERGY, INC.",
           "Crude Petroleum and Natural Gas"
          ],
          [
           "PEDEVCO CORP",
           "Crude Petroleum and Natural Gas"
          ],
          [
           "VIPER ENERGY PARTNERS LP",
           "Crude Petroleum and Natural Gas"
          ],
          [
           "ENERJEX RESOURCES, INC.",
           "Crude Petroleum and Natural Gas"
          ],
          [
           "TENGASCO INC",
           "Crude Petroleum and Natural Gas"
          ],
          [
           "KIMBELL ROYALTY PARTNERS, LP",
           "Crude Petroleum and Natural Gas"
          ],
          [
           "CONCHO RESOURCES INC",
           "Crude Petroleum and Natural Gas"
          ],
          [
           "APACHE OFFSHORE INVESTMENT PARTNERSHIP",
           "Crude Petroleum and Natural Gas"
          ],
          [
           "EVERFLOW EASTERN PARTNERS LP",
           "Crude Petroleum and Natural Gas"
          ],
          [
           "CHESAPEAKE ENERGY CORP",
           "Crude Petroleum and Natural Gas"
          ],
          [
           "CARRIZO OIL & GAS INC",
           "Crude Petroleum and Natural Gas"
          ],
          [
           "CALLON PETROLEUM CO",
           "Crude Petroleum and Natural Gas"
          ],
          [
           "PENN VIRGINIA CORP",
           "Crude Petroleum and Natural Gas"
          ],
          [
           "DIAMONDBACK ENERGY, INC.",
           "Crude Petroleum and Natural Gas"
          ],
          [
           "COMSTOCK RESOURCES INC",
           "Crude Petroleum and Natural Gas"
          ],
          [
           "DALA PETROLEUM CORP.",
           "Crude Petroleum and Natural Gas"
          ],
          [
           "WPX ENERGY, INC.",
           "Crude Petroleum and Natural Gas"
          ],
          [
           "LILIS ENERGY, INC.",
           "Crude Petroleum and Natural Gas"
          ]
         ],
         "hovertemplate": "color=Crude Petroleum and Natural Gas<br>0=%{x}<br>1=%{y}<br>name=%{customdata[0]}<br>industry=%{customdata[1]}<extra></extra>",
         "legendgroup": "Crude Petroleum and Natural Gas",
         "marker": {
          "color": "#EF553B",
          "symbol": "circle"
         },
         "mode": "markers",
         "name": "Crude Petroleum and Natural Gas",
         "orientation": "v",
         "showlegend": true,
         "type": "scatter",
         "x": [
          -0.011016359999416544,
          0.08155386206843944,
          2.462099851337891,
          -0.28697004872949294,
          -0.12271166860608067,
          -0.09151559034040195,
          -0.39587715008798335,
          -0.7110852888687117,
          -0.42878612991982784,
          0.09617126229125686,
          -0.1871257906968486,
          -0.06893906122791099,
          0.005570572988258235,
          0.09464786606727274,
          0.03560184582774969,
          0.5109616399268468,
          0.06233808514145307,
          0.09054483600459116,
          0.031010922276035576,
          0.04953400784377289,
          -0.37438195034439525,
          -0.06708215011839007,
          0.29832478956419073,
          -0.12205889947896169,
          2.0458749271028576,
          -0.007289827711718093,
          0.008538084986114114,
          -0.16890359317694262,
          -0.40728408175738534,
          0.015602160189029022,
          0.04346074933256323,
          -0.6697155800154887,
          -0.12235821283873294,
          -0.008694633780533995,
          -0.26892732580488216,
          -0.8187277664172493,
          0.37637932658779616,
          -0.37870735777298353,
          -0.19456371198110567,
          -0.24210537742266366,
          -0.12575158790680216,
          -0.14160722720488364,
          -0.39324925398404675,
          -0.39324925398404675,
          -0.1114881135917915,
          -0.10621646148439282,
          -0.2322782700774762,
          0.004080862008604937,
          0.07361253698856135,
          0.0031906416194942226,
          -0.01212898211375629,
          0.5824285596818084,
          -0.1802782494833803,
          -0.35171787234631946,
          0.4728563072340267,
          -0.2597686182753997,
          -0.3073786948301735,
          0.01529033008039482,
          -0.003990228024909538,
          -0.10951741038078724,
          -0.06755645741309664,
          -0.3804617599000915,
          -0.03965219230720992,
          -0.12133498686550591,
          -0.17736654694695664,
          0.7300781038836445,
          -0.21177117435553786,
          0.10366216005670133,
          -0.07735142540926114,
          -0.4297678465119215,
          -0.05545683157331381,
          -0.1327344809355501,
          -0.17424894246612416,
          -0.35689033641190526,
          0.19005831479159993,
          -0.3264930509825914,
          -0.15374297521622832,
          -0.49303873936567116,
          -0.2202918945350306,
          -0.26926157012974444
         ],
         "xaxis": "x",
         "y": [
          -2.159120773497067,
          -1.7237457683298263,
          0.22049976134949964,
          0.44969182300697924,
          -1.975553342998026,
          -0.8060442510236057,
          -0.6607071186145245,
          -1.2547921814557723,
          -1.3022603351080568,
          -2.1054540846714347,
          -0.7757140214177942,
          -2.148860305744213,
          -2.110554357354409,
          -2.132811624958826,
          -1.4056534129841551,
          -0.9777923260433907,
          -1.9602969318956849,
          -2.0884417777715027,
          -1.946252652773925,
          -2.128860574481513,
          -2.2571857899846526,
          -2.00373674540762,
          -0.6071135414581916,
          -2.053396171425369,
          -0.24667648998583172,
          -2.2074428675920177,
          -2.2172476340236114,
          -2.2467439393861803,
          -2.414468116824446,
          -2.0887852200639414,
          -2.0585670984181554,
          -2.14793886540128,
          -1.3950731530835287,
          -2.1551103063560535,
          -1.3217588865357903,
          -2.0005406215692845,
          -1.884173138008936,
          -2.0141086672474104,
          -2.151521457475432,
          -1.5677609992040142,
          -1.8355872026257285,
          -2.2769041615473316,
          -1.952916882470048,
          -1.952916882470048,
          -2.1781461216090756,
          -2.1514572500564344,
          -2.254809402369203,
          -1.3838597962533603,
          -2.0954654619943107,
          -2.1619866837558734,
          -2.128581695295441,
          -1.3498816223451227,
          -1.3058365881853564,
          -1.7879166308329313,
          -1.2780669237317865,
          -2.1986201117869726,
          -2.233787307584405,
          -2.0821756160994362,
          -2.0735639458158475,
          -2.0812744306600535,
          -2.199450076430899,
          -2.0351573298705055,
          -1.2088592796701596,
          -1.065504252675034,
          -2.109120199872637,
          -0.8847276181989782,
          -1.2454952442954512,
          -2.1656289620475957,
          -2.2338785495609907,
          -1.9174319652460148,
          -1.935139648253761,
          -2.0783890814081953,
          -2.0150631181858167,
          -2.1526162587121815,
          -1.4970149757729743,
          -2.3097952965978963,
          -2.164400248321141,
          -1.5349431506220133,
          -2.304473820164859,
          -2.251545039230996
         ],
         "yaxis": "y"
        },
        {
         "customdata": [
          [
           "ULURU INC.",
           "Pharmaceutical Preparations"
          ],
          [
           "CHINA YCT INTERNATIONAL GROUP, INC.",
           "Pharmaceutical Preparations"
          ],
          [
           "AXOVANT SCIENCES LTD.",
           "Pharmaceutical Preparations"
          ],
          [
           "MYOVANT SCIENCES LTD.",
           "Pharmaceutical Preparations"
          ],
          [
           "PRESTIGE BRANDS HOLDINGS, INC.",
           "Pharmaceutical Preparations"
          ],
          [
           "HYPGEN INC",
           "Pharmaceutical Preparations"
          ],
          [
           "HYPGEN INC",
           "Pharmaceutical Preparations"
          ],
          [
           "DANDRIT BIOTECH USA, INC.",
           "Pharmaceutical Preparations"
          ],
          [
           "REZOLUTE, INC.",
           "Pharmaceutical Preparations"
          ],
          [
           "OPTEC INTERNATIONAL, INC.",
           "Pharmaceutical Preparations"
          ],
          [
           "OPTEC INTERNATIONAL, INC.",
           "Pharmaceutical Preparations"
          ],
          [
           "BIOVIE INC.",
           "Pharmaceutical Preparations"
          ],
          [
           "ONCOSEC MEDICAL INC",
           "Pharmaceutical Preparations"
          ],
          [
           "CANNABICS PHARMACEUTICALS INC.",
           "Pharmaceutical Preparations"
          ],
          [
           "ORAMED PHARMACEUTICALS INC.",
           "Pharmaceutical Preparations"
          ],
          [
           "ENTEST BIOMEDICAL, INC.",
           "Pharmaceutical Preparations"
          ],
          [
           "MY CLOUDZ, INC.",
           "Pharmaceutical Preparations"
          ],
          [
           "MY CLOUDZ, INC.",
           "Pharmaceutical Preparations"
          ],
          [
           "ENANTA PHARMACEUTICALS INC",
           "Pharmaceutical Preparations"
          ],
          [
           "CITIUS PHARMACEUTICALS, INC.",
           "Pharmaceutical Preparations"
          ],
          [
           "STELLAR BIOTECHNOLOGIES, INC.",
           "Pharmaceutical Preparations"
          ],
          [
           "REGEN BIOPHARMA INC",
           "Pharmaceutical Preparations"
          ],
          [
           "REGEN BIOPHARMA INC",
           "Pharmaceutical Preparations"
          ],
          [
           "ADVAXIS, INC.",
           "Pharmaceutical Preparations"
          ],
          [
           "ORGENESIS INC.",
           "Pharmaceutical Preparations"
          ],
          [
           "Q BIOMED INC.",
           "Pharmaceutical Preparations"
          ],
          [
           "JOHNSON & JOHNSON",
           "Pharmaceutical Preparations"
          ],
          [
           "BRISTOL MYERS SQUIBB CO",
           "Pharmaceutical Preparations"
          ],
          [
           "VBI VACCINES INC/BC",
           "Pharmaceutical Preparations"
          ],
          [
           "INTRA-CELLULAR THERAPIES, INC.",
           "Pharmaceutical Preparations"
          ],
          [
           "ROCKET PHARMACEUTICALS, INC.",
           "Pharmaceutical Preparations"
          ],
          [
           "ATLAS HOLDINGS, INC.",
           "Pharmaceutical Preparations"
          ],
          [
           "NEMUS BIOSCIENCE, INC.",
           "Pharmaceutical Preparations"
          ],
          [
           "NEMUS BIOSCIENCE, INC.",
           "Pharmaceutical Preparations"
          ],
          [
           "OVASCIENCE, INC.",
           "Pharmaceutical Preparations"
          ],
          [
           "CONCERT PHARMACEUTICALS, INC.",
           "Pharmaceutical Preparations"
          ],
          [
           "AKCEA THERAPEUTICS, INC.",
           "Pharmaceutical Preparations"
          ],
          [
           "ARQULE INC",
           "Pharmaceutical Preparations"
          ],
          [
           "AXIM BIOTECHNOLOGIES, INC.",
           "Pharmaceutical Preparations"
          ],
          [
           "GUARDION HEALTH SCIENCES, INC.",
           "Pharmaceutical Preparations"
          ],
          [
           "RETROPHIN, INC.",
           "Pharmaceutical Preparations"
          ],
          [
           "SYNDAX PHARMACEUTICALS INC",
           "Pharmaceutical Preparations"
          ],
          [
           "FIBROGEN INC",
           "Pharmaceutical Preparations"
          ],
          [
           "PROTOKINETIX, INC.",
           "Pharmaceutical Preparations"
          ],
          [
           "PROGENICS PHARMACEUTICALS INC",
           "Pharmaceutical Preparations"
          ],
          [
           "CHECKPOINT THERAPEUTICS, INC.",
           "Pharmaceutical Preparations"
          ],
          [
           "PFENEX INC.",
           "Pharmaceutical Preparations"
          ],
          [
           "PAIN THERAPEUTICS INC",
           "Pharmaceutical Preparations"
          ],
          [
           "ZOMEDICA PHARMACEUTICALS CORP.",
           "Pharmaceutical Preparations"
          ],
          [
           "ZOMEDICA PHARMACEUTICALS CORP.",
           "Pharmaceutical Preparations"
          ],
          [
           "MOLECULAR TEMPLATES, INC.",
           "Pharmaceutical Preparations"
          ],
          [
           "WAVE LIFE SCIENCES LTD.",
           "Pharmaceutical Preparations"
          ],
          [
           "CYMABAY THERAPEUTICS, INC.",
           "Pharmaceutical Preparations"
          ],
          [
           "AMICUS THERAPEUTICS INC",
           "Pharmaceutical Preparations"
          ],
          [
           "EVOKE PHARMA INC",
           "Pharmaceutical Preparations"
          ],
          [
           "CHEMBIO DIAGNOSTICS, INC.",
           "Pharmaceutical Preparations"
          ],
          [
           "CARA THERAPEUTICS, INC.",
           "Pharmaceutical Preparations"
          ],
          [
           "CYTOMX THERAPEUTICS, INC.",
           "Pharmaceutical Preparations"
          ],
          [
           "XENCOR INC",
           "Pharmaceutical Preparations"
          ],
          [
           "CATABASIS PHARMACEUTICALS INC",
           "Pharmaceutical Preparations"
          ],
          [
           "SERES THERAPEUTICS, INC.",
           "Pharmaceutical Preparations"
          ],
          [
           "EYEGATE PHARMACEUTICALS INC",
           "Pharmaceutical Preparations"
          ],
          [
           "ARENA PHARMACEUTICALS INC",
           "Pharmaceutical Preparations"
          ],
          [
           "ALEXION PHARMACEUTICALS INC",
           "Pharmaceutical Preparations"
          ],
          [
           "MELINTA THERAPEUTICS, INC. /NEW/",
           "Pharmaceutical Preparations"
          ],
          [
           "FIVE PRIME THERAPEUTICS INC",
           "Pharmaceutical Preparations"
          ],
          [
           "LIXTE BIOTECHNOLOGY HOLDINGS, INC.",
           "Pharmaceutical Preparations"
          ],
          [
           "ARATANA THERAPEUTICS, INC.",
           "Pharmaceutical Preparations"
          ],
          [
           "CHIASMA, INC",
           "Pharmaceutical Preparations"
          ],
          [
           "CELGENE CORP /DE/",
           "Pharmaceutical Preparations"
          ],
          [
           "NEWLINK GENETICS CORP",
           "Pharmaceutical Preparations"
          ],
          [
           "LIGAND PHARMACEUTICALS INC",
           "Pharmaceutical Preparations"
          ],
          [
           "PORTOLA PHARMACEUTICALS INC",
           "Pharmaceutical Preparations"
          ],
          [
           "PLX PHARMA INC.",
           "Pharmaceutical Preparations"
          ],
          [
           "ARDELYX, INC.",
           "Pharmaceutical Preparations"
          ],
          [
           "PROTAGONIST THERAPEUTICS, INC",
           "Pharmaceutical Preparations"
          ],
          [
           "MOLECULIN BIOTECH, INC.",
           "Pharmaceutical Preparations"
          ],
          [
           "IRONWOOD PHARMACEUTICALS INC",
           "Pharmaceutical Preparations"
          ],
          [
           "FORTRESS BIOTECH, INC.",
           "Pharmaceutical Preparations"
          ],
          [
           "SYNTHETIC BIOLOGICS, INC.",
           "Pharmaceutical Preparations"
          ],
          [
           "OPTINOSE, INC.",
           "Pharmaceutical Preparations"
          ],
          [
           "CORMEDIX INC.",
           "Pharmaceutical Preparations"
          ],
          [
           "HEAT BIOLOGICS, INC.",
           "Pharmaceutical Preparations"
          ],
          [
           "SUN BIOPHARMA, INC.",
           "Pharmaceutical Preparations"
          ],
          [
           "BELLEROPHON THERAPEUTICS, INC.",
           "Pharmaceutical Preparations"
          ],
          [
           "BIOSPECIFICS TECHNOLOGIES CORP",
           "Pharmaceutical Preparations"
          ],
          [
           "ZOSANO PHARMA CORP",
           "Pharmaceutical Preparations"
          ],
          [
           "CV SCIENCES, INC.",
           "Pharmaceutical Preparations"
          ],
          [
           "LILLY ELI & CO",
           "Pharmaceutical Preparations"
          ],
          [
           "SAREPTA THERAPEUTICS, INC.",
           "Pharmaceutical Preparations"
          ],
          [
           "EXICURE, INC.",
           "Pharmaceutical Preparations"
          ],
          [
           "OVID THERAPEUTICS INC.",
           "Pharmaceutical Preparations"
          ],
          [
           "IMPRIMIS PHARMACEUTICALS, INC.",
           "Pharmaceutical Preparations"
          ],
          [
           "IONIS PHARMACEUTICALS INC",
           "Pharmaceutical Preparations"
          ],
          [
           "ONCOMED PHARMACEUTICALS INC",
           "Pharmaceutical Preparations"
          ],
          [
           "TONIX PHARMACEUTICALS HOLDING CORP.",
           "Pharmaceutical Preparations"
          ],
          [
           "TEVA PHARMACEUTICAL INDUSTRIES LTD",
           "Pharmaceutical Preparations"
          ],
          [
           "RHYTHM PHARMACEUTICALS, INC.",
           "Pharmaceutical Preparations"
          ],
          [
           "COCRYSTAL PHARMA, INC.",
           "Pharmaceutical Preparations"
          ],
          [
           "REGENERON PHARMACEUTICALS INC",
           "Pharmaceutical Preparations"
          ],
          [
           "ANI PHARMACEUTICALS INC",
           "Pharmaceutical Preparations"
          ],
          [
           "CLEARSIDE BIOMEDICAL, INC.",
           "Pharmaceutical Preparations"
          ],
          [
           "LIPOCINE INC.",
           "Pharmaceutical Preparations"
          ],
          [
           "GALECTIN THERAPEUTICS INC",
           "Pharmaceutical Preparations"
          ],
          [
           "STEMLINE THERAPEUTICS INC",
           "Pharmaceutical Preparations"
          ],
          [
           "DOVA PHARMACEUTICALS, INC.",
           "Pharmaceutical Preparations"
          ],
          [
           "ABBVIE INC.",
           "Pharmaceutical Preparations"
          ],
          [
           "AKORN INC",
           "Pharmaceutical Preparations"
          ],
          [
           "VALEANT PHARMACEUTICALS INTERNATIONAL, INC.",
           "Pharmaceutical Preparations"
          ],
          [
           "INTELGENX TECHNOLOGIES CORP.",
           "Pharmaceutical Preparations"
          ],
          [
           "PFIZER INC",
           "Pharmaceutical Preparations"
          ],
          [
           "SKINVISIBLE INC",
           "Pharmaceutical Preparations"
          ],
          [
           "TAPIMMUNE INC.",
           "Pharmaceutical Preparations"
          ],
          [
           "THERAPEUTICSMD, INC.",
           "Pharmaceutical Preparations"
          ],
          [
           "AQUINOX PHARMACEUTICALS, INC",
           "Pharmaceutical Preparations"
          ],
          [
           "GLOBAL BLOOD THERAPEUTICS, INC.",
           "Pharmaceutical Preparations"
          ],
          [
           "RIGEL PHARMACEUTICALS INC",
           "Pharmaceutical Preparations"
          ],
          [
           "PARATEK PHARMACEUTICALS, INC.",
           "Pharmaceutical Preparations"
          ],
          [
           "PERRIGO CO PLC",
           "Pharmaceutical Preparations"
          ],
          [
           "ZAFGEN, INC.",
           "Pharmaceutical Preparations"
          ],
          [
           "OPHTHOTECH CORP.",
           "Pharmaceutical Preparations"
          ],
          [
           "ACHILLION PHARMACEUTICALS INC",
           "Pharmaceutical Preparations"
          ],
          [
           "KEMPHARM, INC",
           "Pharmaceutical Preparations"
          ],
          [
           "INTERCEPT PHARMACEUTICALS INC",
           "Pharmaceutical Preparations"
          ],
          [
           "ULTRAGENYX PHARMACEUTICAL INC.",
           "Pharmaceutical Preparations"
          ],
          [
           "EMERGENT BIOSOLUTIONS INC.",
           "Pharmaceutical Preparations"
          ],
          [
           "ACER THERAPEUTICS INC.",
           "Pharmaceutical Preparations"
          ],
          [
           "HERON THERAPEUTICS, INC. /DE/",
           "Pharmaceutical Preparations"
          ],
          [
           "ADAMIS PHARMACEUTICALS CORP",
           "Pharmaceutical Preparations"
          ],
          [
           "GT BIOPHARMA, INC.",
           "Pharmaceutical Preparations"
          ],
          [
           "GT BIOPHARMA, INC.",
           "Pharmaceutical Preparations"
          ],
          [
           "GT BIOPHARMA, INC.",
           "Pharmaceutical Preparations"
          ],
          [
           "GT BIOPHARMA, INC.",
           "Pharmaceutical Preparations"
          ],
          [
           "GT BIOPHARMA, INC.",
           "Pharmaceutical Preparations"
          ],
          [
           "GT BIOPHARMA, INC.",
           "Pharmaceutical Preparations"
          ],
          [
           "IMMUNOGEN INC",
           "Pharmaceutical Preparations"
          ],
          [
           "PTC THERAPEUTICS, INC.",
           "Pharmaceutical Preparations"
          ],
          [
           "MANNKIND CORP",
           "Pharmaceutical Preparations"
          ],
          [
           "CARDAX, INC.",
           "Pharmaceutical Preparations"
          ],
          [
           "SYROS PHARMACEUTICALS, INC.",
           "Pharmaceutical Preparations"
          ],
          [
           "ADURO BIOTECH, INC.",
           "Pharmaceutical Preparations"
          ],
          [
           "SIENNA BIOPHARMACEUTICALS, INC.",
           "Pharmaceutical Preparations"
          ],
          [
           "ACHAOGEN INC",
           "Pharmaceutical Preparations"
          ],
          [
           "UNITED CANNABIS CORP",
           "Pharmaceutical Preparations"
          ],
          [
           "UNITED CANNABIS CORP",
           "Pharmaceutical Preparations"
          ],
          [
           "RXI PHARMACEUTICALS CORP",
           "Pharmaceutical Preparations"
          ],
          [
           "RXI PHARMACEUTICALS CORP",
           "Pharmaceutical Preparations"
          ],
          [
           "RXI PHARMACEUTICALS CORP",
           "Pharmaceutical Preparations"
          ],
          [
           "RXI PHARMACEUTICALS CORP",
           "Pharmaceutical Preparations"
          ],
          [
           "SOLIGENIX, INC.",
           "Pharmaceutical Preparations"
          ],
          [
           "XOMA CORP",
           "Pharmaceutical Preparations"
          ],
          [
           "SIERRA ONCOLOGY, INC.",
           "Pharmaceutical Preparations"
          ],
          [
           "ACTINIUM PHARMACEUTICALS, INC.",
           "Pharmaceutical Preparations"
          ],
          [
           "ORAGENICS INC",
           "Pharmaceutical Preparations"
          ],
          [
           "ATHERSYS, INC / NEW",
           "Pharmaceutical Preparations"
          ],
          [
           "PULMATRIX, INC.",
           "Pharmaceutical Preparations"
          ],
          [
           "ACADIA PHARMACEUTICALS INC",
           "Pharmaceutical Preparations"
          ],
          [
           "TREVENA INC",
           "Pharmaceutical Preparations"
          ],
          [
           "NATURES SUNSHINE PRODUCTS INC",
           "Pharmaceutical Preparations"
          ],
          [
           "FLEXION THERAPEUTICS INC",
           "Pharmaceutical Preparations"
          ],
          [
           "VERASTEM, INC.",
           "Pharmaceutical Preparations"
          ],
          [
           "XENON PHARMACEUTICALS INC.",
           "Pharmaceutical Preparations"
          ],
          [
           "SUNESIS PHARMACEUTICALS INC",
           "Pharmaceutical Preparations"
          ],
          [
           "CORVUS PHARMACEUTICALS, INC.",
           "Pharmaceutical Preparations"
          ],
          [
           "MERCK & CO., INC.",
           "Pharmaceutical Preparations"
          ],
          [
           "STRONGBRIDGE BIOPHARMA PLC",
           "Pharmaceutical Preparations"
          ],
          [
           "CATALYST PHARMACEUTICALS, INC.",
           "Pharmaceutical Preparations"
          ],
          [
           "ASSEMBLY BIOSCIENCES, INC.",
           "Pharmaceutical Preparations"
          ],
          [
           "APRICUS BIOSCIENCES, INC.",
           "Pharmaceutical Preparations"
          ],
          [
           "CATALYST BIOSCIENCES, INC.",
           "Pharmaceutical Preparations"
          ],
          [
           "MIRATI THERAPEUTICS, INC.",
           "Pharmaceutical Preparations"
          ],
          [
           "MUSTANG BIO, INC.",
           "Pharmaceutical Preparations"
          ],
          [
           "ACELRX PHARMACEUTICALS INC",
           "Pharmaceutical Preparations"
          ],
          [
           "BLUEPRINT MEDICINES CORP",
           "Pharmaceutical Preparations"
          ],
          [
           "ATHENEX, INC.",
           "Pharmaceutical Preparations"
          ],
          [
           "ATHENEX, INC.",
           "Pharmaceutical Preparations"
          ],
          [
           "RECRO PHARMA, INC.",
           "Pharmaceutical Preparations"
          ],
          [
           "BIOHAVEN PHARMACEUTICAL HOLDING CO LTD.",
           "Pharmaceutical Preparations"
          ],
          [
           "PROTHENA CORP PLC",
           "Pharmaceutical Preparations"
          ],
          [
           "AVENUE THERAPEUTICS, INC.",
           "Pharmaceutical Preparations"
          ],
          [
           "VTV THERAPEUTICS INC.",
           "Pharmaceutical Preparations"
          ],
          [
           "ZYNERBA PHARMACEUTICALS, INC.",
           "Pharmaceutical Preparations"
          ],
          [
           "BIOMARIN PHARMACEUTICAL INC",
           "Pharmaceutical Preparations"
          ],
          [
           "KARYOPHARM THERAPEUTICS INC.",
           "Pharmaceutical Preparations"
          ],
          [
           "LEXICON PHARMACEUTICALS, INC.",
           "Pharmaceutical Preparations"
          ],
          [
           "ENDO INTERNATIONAL PLC",
           "Pharmaceutical Preparations"
          ],
          [
           "PROPHASE LABS, INC.",
           "Pharmaceutical Preparations"
          ],
          [
           "CELLECTAR BIOSCIENCES, INC.",
           "Pharmaceutical Preparations"
          ],
          [
           "RITTER PHARMACEUTICALS INC",
           "Pharmaceutical Preparations"
          ],
          [
           "MARINUS PHARMACEUTICALS INC",
           "Pharmaceutical Preparations"
          ],
          [
           "CORCEPT THERAPEUTICS INC",
           "Pharmaceutical Preparations"
          ],
          [
           "ALNYLAM PHARMACEUTICALS, INC.",
           "Pharmaceutical Preparations"
          ],
          [
           "DARE BIOSCIENCE, INC.",
           "Pharmaceutical Preparations"
          ],
          [
           "TELIGENT, INC.",
           "Pharmaceutical Preparations"
          ],
          [
           "TELIGENT, INC.",
           "Pharmaceutical Preparations"
          ],
          [
           "ACLARIS THERAPEUTICS, INC.",
           "Pharmaceutical Preparations"
          ],
          [
           "VITAL THERAPIES INC",
           "Pharmaceutical Preparations"
          ],
          [
           "DECIPHERA PHARMACEUTICALS, INC.",
           "Pharmaceutical Preparations"
          ],
          [
           "CAPSTONE THERAPEUTICS CORP.",
           "Pharmaceutical Preparations"
          ],
          [
           "PACIRA PHARMACEUTICALS, INC.",
           "Pharmaceutical Preparations"
          ],
          [
           "UROGEN PHARMA LTD.",
           "Pharmaceutical Preparations"
          ],
          [
           "FIBROCELL SCIENCE, INC.",
           "Pharmaceutical Preparations"
          ],
          [
           "FLEX PHARMA, INC.",
           "Pharmaceutical Preparations"
          ],
          [
           "BIODELIVERY SCIENCES INTERNATIONAL INC",
           "Pharmaceutical Preparations"
          ],
          [
           "HORIZON PHARMA PLC",
           "Pharmaceutical Preparations"
          ],
          [
           "MERRIMACK PHARMACEUTICALS INC",
           "Pharmaceutical Preparations"
          ],
          [
           "CYCLACEL PHARMACEUTICALS, INC.",
           "Pharmaceutical Preparations"
          ],
          [
           "ZOETIS INC.",
           "Pharmaceutical Preparations"
          ]
         ],
         "hovertemplate": "color=Pharmaceutical Preparations<br>0=%{x}<br>1=%{y}<br>name=%{customdata[0]}<br>industry=%{customdata[1]}<extra></extra>",
         "legendgroup": "Pharmaceutical Preparations",
         "marker": {
          "color": "#00cc96",
          "symbol": "circle"
         },
         "mode": "markers",
         "name": "Pharmaceutical Preparations",
         "orientation": "v",
         "showlegend": true,
         "type": "scatter",
         "x": [
          1.7908186901404886,
          1.04842856077752,
          5.244782795286597,
          4.093085366795744,
          0.6159656824688952,
          1.275151634782319,
          1.275151634782319,
          4.891433821577179,
          3.2055263965478815,
          0.40851714222209,
          0.40851714222209,
          4.323478747304614,
          5.043622732762966,
          1.7555321404693722,
          4.760336823727878,
          -0.563782066404926,
          -0.32356865085987807,
          -0.32356865085987807,
          5.836282667357333,
          1.4157949715407052,
          2.77090287568168,
          0.04519229116169658,
          0.04519229116169658,
          4.3487114533434275,
          3.8315916579780236,
          4.501999502272968,
          0.43354755060984906,
          1.2821134573890172,
          4.033518371485869,
          4.8696885048586696,
          1.0485964070163694,
          1.573698055404979,
          4.937634862090006,
          4.937634862090006,
          5.357694893113865,
          3.876074805491826,
          2.0225308621672995,
          2.5218752185612723,
          3.1517580456730165,
          0.08731936352727998,
          5.196216047416212,
          5.684504289099977,
          4.3275433156075085,
          2.695879662355113,
          0.5714775806333628,
          4.380801192255778,
          4.432520250630029,
          3.280801771834039,
          3.3842698954782233,
          3.3842698954782233,
          5.235833192455948,
          5.484822122184713,
          2.249956151675806,
          3.401765985649941,
          4.659195092941705,
          3.295789011590081,
          2.7301532164097715,
          5.146815552252807,
          0.2337793359923079,
          2.0303731239458362,
          4.00369626368319,
          4.466554694126046,
          4.070954244278144,
          3.084125542173873,
          3.5158295529856125,
          -0.45028080289901073,
          4.92330294147821,
          2.053782246094331,
          5.1182842223762295,
          4.433588069676677,
          5.152755600465686,
          4.603511354649548,
          4.760978496047265,
          5.232347388904833,
          4.499525675932828,
          5.536660389707816,
          4.431878081456533,
          3.691168808287395,
          0.8048082439409726,
          4.4211253541617515,
          4.977357982620846,
          4.961728821603568,
          4.124819692638039,
          4.369129188020187,
          3.988699085185551,
          3.1013137562587283,
          2.8165696557526188,
          2.468852717217848,
          2.103062908728146,
          5.270155101643839,
          4.241110714714461,
          3.082992232162955,
          1.4961862122283232,
          2.136255727314262,
          5.1927974188702075,
          3.0467719740284775,
          3.0372215572213612,
          5.043130921263229,
          2.596808340313988,
          4.133410291969357,
          1.2874258341023603,
          5.36987010772094,
          3.612349212649637,
          4.507412481121615,
          5.114429848731493,
          3.483676172625316,
          3.044659781477708,
          0.59342419944203,
          1.512379857621682,
          3.7106282615619084,
          0.6685286397998156,
          1.176604134050558,
          5.364905067978196,
          3.9438097867324213,
          5.230664494938538,
          4.022735370508782,
          5.006201341102254,
          2.8843400988896644,
          0.5016827285717921,
          -0.2921193051851502,
          5.432531185745795,
          5.0662425252156575,
          5.519676611570656,
          3.731616881801753,
          2.8307123200465987,
          4.3742132017237925,
          4.185797153725103,
          2.3846612469499213,
          4.698829961724789,
          3.929995446182421,
          3.9299954461824216,
          3.9299954461824216,
          3.9299954461824216,
          3.9299954461824216,
          3.9299954461824216,
          5.220508495395286,
          3.5329920089228803,
          4.804777031654602,
          3.8290426872131356,
          5.718111059841494,
          5.484576215117552,
          5.28792186495018,
          5.017614406383108,
          1.3422668029066191,
          1.3422668029066191,
          4.328491839465719,
          4.328491839465719,
          4.328491839465719,
          4.328491839465719,
          3.935659146249988,
          1.7789699205631733,
          4.47799013851258,
          5.675075956999482,
          5.526225341284716,
          5.265173055881332,
          5.099805256950018,
          4.380195512981237,
          3.107164985073095,
          0.6321043381349833,
          4.12943572347705,
          3.9685756348106636,
          4.598673368404435,
          5.39853448719332,
          5.210490051691663,
          3.1178335466905036,
          5.731312151851505,
          5.333178845419804,
          2.543536920715446,
          5.292640411328031,
          5.493337561092028,
          5.565435137692008,
          5.1254643991199496,
          1.9505314693748876,
          4.64067364154383,
          5.00369553478837,
          5.00369553478837,
          5.078807717869145,
          5.088996256435547,
          3.3035941323895472,
          5.4025617583794014,
          3.842831648082093,
          4.779693900814406,
          2.78117014340205,
          4.4997960064100475,
          3.9568738941449646,
          2.6129449147371226,
          1.6401823901770805,
          2.8880900503167526,
          5.415653055360639,
          2.0434014211687788,
          4.450808608300703,
          4.8493675757289285,
          4.760594454321871,
          1.4868810793901897,
          1.4868810793901897,
          3.236783847272738,
          4.262078829446069,
          4.54848769539543,
          4.27648681933653,
          0.0015653756258796315,
          5.865782876374084,
          5.471118305551603,
          3.7400885311572662,
          4.759239256014748,
          3.42715708983864,
          5.443639880104999,
          5.004415982142539,
          -0.45913404829204296
         ],
         "xaxis": "x",
         "y": [
          -0.16877905704419663,
          -0.4941908293043176,
          1.8927739306775546,
          1.2418693972523582,
          -0.9170205402466686,
          -0.44870210035769703,
          -0.44870210035769703,
          1.618312836933831,
          0.812905580944659,
          -0.721613614332778,
          -0.721613614332778,
          1.4229301204759384,
          1.7922877137891111,
          -0.3187863635094989,
          1.399777399747248,
          -1.2616287301342175,
          -1.1311475117565353,
          -1.1311475117565353,
          1.9811150720158952,
          -0.10602138964078726,
          0.3071537151325042,
          -1.1544379988595694,
          -1.1544379988595694,
          1.3986763940140141,
          0.8482685543823262,
          1.2731686644943787,
          -0.2741432646298527,
          -0.3957522988255489,
          1.0265386570254735,
          1.617729821054734,
          -0.2840877738726928,
          -0.22554020150284948,
          1.6092604381054136,
          1.6092604381054136,
          1.8859599137274952,
          1.1518456115835392,
          0.1868574452764291,
          0.5300149770425601,
          0.5500986595853256,
          -0.9329833462060979,
          1.69969967046705,
          2.0505356180448655,
          1.4555991160580806,
          0.20506462004852533,
          -0.7335177987841605,
          1.198370841061009,
          1.3703683691293551,
          0.8696341259230432,
          0.7894842143857514,
          0.7894842143857514,
          1.7202548083466715,
          1.8711761961834492,
          0.2603563640459142,
          0.8213878048558132,
          1.3150134124913684,
          0.5992340188990063,
          0.08182527084984255,
          1.7752226889976368,
          -0.7160646566791057,
          0.17422280605929102,
          1.1616841652565584,
          1.460386289292688,
          1.0698879840091635,
          0.780767638252043,
          0.68412657230271,
          -0.7399911986714607,
          1.67188720810576,
          -0.01698706250987195,
          1.7440031921255674,
          1.359247588576206,
          1.6672585455006945,
          1.548929263798201,
          1.4083924503347702,
          1.868758602592727,
          1.4381505020187637,
          1.9731162973195722,
          1.2155127817415368,
          0.9239946100221222,
          -1.0175369571972643,
          1.5090689242275237,
          1.756951272307476,
          1.57837025161332,
          1.32719871283413,
          1.149872702610765,
          1.3077549830574726,
          0.7305360891826943,
          0.4679338016548879,
          0.15097713333730461,
          0.1536271385228643,
          1.8821079891272254,
          1.3899701431616855,
          0.7971487866558765,
          -0.25641162866632095,
          0.2887787271284215,
          1.6945071153118445,
          0.6485397603862744,
          0.5085811276043251,
          1.7448871739871252,
          0.22502439358601922,
          1.0980675760839633,
          -0.5069533070988015,
          1.885036073325696,
          0.8811992575724084,
          1.5015814775210712,
          1.7152557274306164,
          0.6804214019860263,
          0.45164717524963977,
          -1.0173939224379447,
          -0.05717301009548457,
          0.8434281009418888,
          -0.6840383443319434,
          -0.35306102334529277,
          1.7805930955835265,
          0.9800424594335636,
          1.821657986445941,
          1.2721170456762023,
          1.5789379896060831,
          0.5092856405909867,
          -0.907897272680719,
          -1.5101057732052379,
          1.9062812273974934,
          1.815030458945622,
          1.8937656677116332,
          0.7627785499237993,
          0.6651322315468501,
          1.2522482704355007,
          0.942876705341837,
          0.42394432733813237,
          1.6077752531049059,
          1.1910310625319247,
          1.191031062531925,
          1.191031062531925,
          1.191031062531925,
          1.191031062531925,
          1.191031062531925,
          1.8512666125756791,
          0.9479794049455567,
          1.5432254401419332,
          0.9539228608019147,
          2.086873878385975,
          1.92543154823627,
          1.9296528210006343,
          1.5840080237962806,
          -0.5050998590680601,
          -0.5050998590680601,
          1.007418530067156,
          1.007418530067156,
          1.007418530067156,
          1.007418530067156,
          1.2029856282706628,
          -0.3972576796599638,
          1.4881869164223462,
          1.914326813831083,
          1.8982247831910075,
          1.6229918900325064,
          1.6354812274179469,
          1.3138284550947665,
          0.6962445037714328,
          -0.8634465205339803,
          1.1920749422606858,
          1.035805251952467,
          1.6103809467100947,
          1.9212916886096263,
          1.872735402753749,
          0.583968778456739,
          2.0137449513319887,
          1.7823866027006796,
          0.3989831949429787,
          1.8176987500029977,
          1.9212523261212529,
          2.023731952955003,
          1.6389213602187789,
          -0.0032556644278481667,
          1.5668940322023417,
          1.7595444102620243,
          1.7595444102620243,
          1.688658172537027,
          1.7910192466423978,
          0.8438533249679139,
          1.8110580696257996,
          1.2032410895325205,
          1.648834672482498,
          0.5634027737354144,
          1.3971632371545684,
          1.0068980537153012,
          0.20772975772610422,
          -0.4082924425094366,
          0.6338313457646446,
          1.763844975130097,
          0.27061855532007595,
          1.3043057652453067,
          1.615150919197959,
          1.5602077812161186,
          -0.34442976207575465,
          -0.34442976207575465,
          0.5544177826318709,
          1.2250068418113227,
          1.459938880557116,
          1.218692984678817,
          -0.6791668646431217,
          2.1492322365655663,
          2.0242992585639867,
          0.8711906860724414,
          1.3064039233397724,
          0.5306494358133759,
          1.9921710151410725,
          1.6372117977657463,
          -1.4320473259074515
         ],
         "yaxis": "y"
        },
        {
         "customdata": [
          [
           "INVESTORS REAL ESTATE TRUST",
           "Real Estate Investment Trusts"
          ],
          [
           "BRT APARTMENTS CORP.",
           "Real Estate Investment Trusts"
          ],
          [
           "MONMOUTH REAL ESTATE INVESTMENT CORP",
           "Real Estate Investment Trusts"
          ],
          [
           "FIRST REAL ESTATE INVESTMENT TRUST OF NEW JERSEY",
           "Real Estate Investment Trusts"
          ],
          [
           "FIRST REAL ESTATE INVESTMENT TRUST OF NEW JERSEY",
           "Real Estate Investment Trusts"
          ],
          [
           "URSTADT BIDDLE PROPERTIES INC",
           "Real Estate Investment Trusts"
          ],
          [
           "URSTADT BIDDLE PROPERTIES INC",
           "Real Estate Investment Trusts"
          ],
          [
           "PHILLIPS EDISON & COMPANY, INC.",
           "Real Estate Investment Trusts"
          ],
          [
           "SL GREEN REALTY CORP",
           "Real Estate Investment Trusts"
          ],
          [
           "CUBESMART",
           "Real Estate Investment Trusts"
          ],
          [
           "CIM COMMERCIAL TRUST CORP",
           "Real Estate Investment Trusts"
          ],
          [
           "CERES TACTICAL SYSTEMATIC L.P.",
           "Real Estate Investment Trusts"
          ],
          [
           "PS BUSINESS PARKS INC/CA",
           "Real Estate Investment Trusts"
          ],
          [
           "STEADFAST INCOME REIT, INC.",
           "Real Estate Investment Trusts"
          ],
          [
           "RETAIL OPPORTUNITY INVESTMENTS CORP",
           "Real Estate Investment Trusts"
          ],
          [
           "MORGAN STANLEY SMITH BARNEY SPECTRUM SELECT LP",
           "Real Estate Investment Trusts"
          ],
          [
           "NEW YORK MORTGAGE TRUST INC",
           "Real Estate Investment Trusts"
          ],
          [
           "CBL & ASSOCIATES PROPERTIES INC",
           "Real Estate Investment Trusts"
          ],
          [
           "LEXINGTON REALTY TRUST",
           "Real Estate Investment Trusts"
          ],
          [
           "BRANDYWINE REALTY TRUST",
           "Real Estate Investment Trusts"
          ],
          [
           "LAMAR ADVERTISING CO/NEW",
           "Real Estate Investment Trusts"
          ],
          [
           "JBG SMITH PROPERTIES",
           "Real Estate Investment Trusts"
          ],
          [
           "KBS REAL ESTATE INVESTMENT TRUST III, INC.",
           "Real Estate Investment Trusts"
          ],
          [
           "CAPSTEAD MORTGAGE CORP",
           "Real Estate Investment Trusts"
          ],
          [
           "GGP INC.",
           "Real Estate Investment Trusts"
          ],
          [
           "QTS REALTY TRUST, INC.",
           "Real Estate Investment Trusts"
          ],
          [
           "WELLS FARGO REAL ESTATE INVESTMENT CORP.",
           "Real Estate Investment Trusts"
          ],
          [
           "LIGHTSTONE VALUE PLUS REAL ESTATE INVESTMENT TRUST V, INC.",
           "Real Estate Investment Trusts"
          ],
          [
           "RESOURCE APARTMENT REIT III, INC.",
           "Real Estate Investment Trusts"
          ],
          [
           "CNL HEALTHCARE PROPERTIES, INC.",
           "Real Estate Investment Trusts"
          ],
          [
           "RETAIL PROPERTIES OF AMERICA, INC.",
           "Real Estate Investment Trusts"
          ],
          [
           "BOSTON PROPERTIES INC",
           "Real Estate Investment Trusts"
          ],
          [
           "REGENCY CENTERS CORP",
           "Real Estate Investment Trusts"
          ],
          [
           "NATIONAL HEALTH INVESTORS INC",
           "Real Estate Investment Trusts"
          ],
          [
           "DRIVE SHACK INC.",
           "Real Estate Investment Trusts"
          ],
          [
           "COLE CREDIT PROPERTY TRUST V, INC.",
           "Real Estate Investment Trusts"
          ],
          [
           "EQUITY RESIDENTIAL",
           "Real Estate Investment Trusts"
          ],
          [
           "KITE REALTY GROUP TRUST",
           "Real Estate Investment Trusts"
          ],
          [
           "OUTFRONT MEDIA INC.",
           "Real Estate Investment Trusts"
          ],
          [
           "PENNSYLVANIA REAL ESTATE INVESTMENT TRUST",
           "Real Estate Investment Trusts"
          ],
          [
           "COLE REAL ESTATE INCOME STRATEGY (DAILY NAV), INC.",
           "Real Estate Investment Trusts"
          ],
          [
           "REALTY INCOME CORP",
           "Real Estate Investment Trusts"
          ],
          [
           "GLOBAL MEDICAL REIT INC.",
           "Real Estate Investment Trusts"
          ],
          [
           "PILLARSTONE CAPITAL REIT",
           "Real Estate Investment Trusts"
          ],
          [
           "CLIPPER REALTY INC.",
           "Real Estate Investment Trusts"
          ],
          [
           "BLACK CREEK INDUSTRIAL REIT IV INC.",
           "Real Estate Investment Trusts"
          ],
          [
           "LIGHTSTONE VALUE PLUS REAL ESTATE INVESTMENT TRUST, INC.",
           "Real Estate Investment Trusts"
          ],
          [
           "KKR REAL ESTATE FINANCE TRUST INC.",
           "Real Estate Investment Trusts"
          ],
          [
           "GEO GROUP INC",
           "Real Estate Investment Trusts"
          ],
          [
           "AMERICAN ASSETS TRUST, INC.",
           "Real Estate Investment Trusts"
          ],
          [
           "IMPAC MORTGAGE HOLDINGS INC",
           "Real Estate Investment Trusts"
          ],
          [
           "CNL HEALTHCARE PROPERTIES II, INC.",
           "Real Estate Investment Trusts"
          ],
          [
           "ANWORTH MORTGAGE ASSET CORP",
           "Real Estate Investment Trusts"
          ],
          [
           "LIGHTSTONE VALUE PLUS REAL ESTATE INVESTMENT TRUST III, INC.",
           "Real Estate Investment Trusts"
          ],
          [
           "AMERICAN FINANCE TRUST, INC",
           "Real Estate Investment Trusts"
          ],
          [
           "EQUITY COMMONWEALTH",
           "Real Estate Investment Trusts"
          ],
          [
           "FOUR CORNERS PROPERTY TRUST, INC.",
           "Real Estate Investment Trusts"
          ],
          [
           "RAYONIER INC",
           "Real Estate Investment Trusts"
          ],
          [
           "HOST HOTELS & RESORTS, INC.",
           "Real Estate Investment Trusts"
          ],
          [
           "GAMING & LEISURE PROPERTIES, INC.",
           "Real Estate Investment Trusts"
          ],
          [
           "NATIONAL RETAIL PROPERTIES, INC.",
           "Real Estate Investment Trusts"
          ],
          [
           "SENIOR HOUSING PROPERTIES TRUST",
           "Real Estate Investment Trusts"
          ],
          [
           "SUTHERLAND ASSET MANAGEMENT CORP",
           "Real Estate Investment Trusts"
          ],
          [
           "TAUBMAN CENTERS INC",
           "Real Estate Investment Trusts"
          ],
          [
           "RESOURCE REAL ESTATE OPPORTUNITY REIT, INC.",
           "Real Estate Investment Trusts"
          ],
          [
           "TANGER FACTORY OUTLET CENTERS INC",
           "Real Estate Investment Trusts"
          ],
          [
           "MFA FINANCIAL, INC.",
           "Real Estate Investment Trusts"
          ],
          [
           "TERRA SECURED INCOME FUND 5, LLC",
           "Real Estate Investment Trusts"
          ],
          [
           "SBA COMMUNICATIONS CORP",
           "Real Estate Investment Trusts"
          ],
          [
           "LIGHTSTONE VALUE PLUS REAL ESTATE INVESTMENT TRUST II INC",
           "Real Estate Investment Trusts"
          ],
          [
           "JONES LANG LASALLE INCOME PROPERTY TRUST, INC.",
           "Real Estate Investment Trusts"
          ],
          [
           "AVALONBAY COMMUNITIES INC",
           "Real Estate Investment Trusts"
          ],
          [
           "ARES COMMERCIAL REAL ESTATE CORP",
           "Real Estate Investment Trusts"
          ],
          [
           "CARTER VALIDUS MISSION CRITICAL REIT II, INC.",
           "Real Estate Investment Trusts"
          ],
          [
           "PHYSICIANS REALTY TRUST",
           "Real Estate Investment Trusts"
          ],
          [
           "PROLOGIS, INC.",
           "Real Estate Investment Trusts"
          ],
          [
           "ARMOUR RESIDENTIAL REIT, INC.",
           "Real Estate Investment Trusts"
          ],
          [
           "CHERRY HILL MORTGAGE INVESTMENT CORP",
           "Real Estate Investment Trusts"
          ],
          [
           "EMPIRE STATE REALTY TRUST, INC.",
           "Real Estate Investment Trusts"
          ],
          [
           "PUBLIC STORAGE",
           "Real Estate Investment Trusts"
          ],
          [
           "APARTMENT INVESTMENT & MANAGEMENT CO",
           "Real Estate Investment Trusts"
          ],
          [
           "CEDAR REALTY TRUST, INC.",
           "Real Estate Investment Trusts"
          ],
          [
           "HIGHLANDS REIT, INC.",
           "Real Estate Investment Trusts"
          ],
          [
           "IRON MOUNTAIN INC",
           "Real Estate Investment Trusts"
          ],
          [
           "SOTHERLY HOTELS INC.",
           "Real Estate Investment Trusts"
          ],
          [
           "EMPIRE STATE REALTY OP, L.P.",
           "Real Estate Investment Trusts"
          ],
          [
           "ESSEX PROPERTY TRUST INC",
           "Real Estate Investment Trusts"
          ],
          [
           "WEINGARTEN REALTY INVESTORS /TX/",
           "Real Estate Investment Trusts"
          ],
          [
           "CONDOR HOSPITALITY TRUST, INC.",
           "Real Estate Investment Trusts"
          ],
          [
           "CITY OFFICE REIT, INC.",
           "Real Estate Investment Trusts"
          ],
          [
           "BENEFIT STREET PARTNERS REALTY TRUST, INC.",
           "Real Estate Investment Trusts"
          ],
          [
           "LIGHTSTONE REAL ESTATE INCOME TRUST INC.",
           "Real Estate Investment Trusts"
          ],
          [
           "AMERICAN CAMPUS COMMUNITIES INC",
           "Real Estate Investment Trusts"
          ],
          [
           "STARWOOD PROPERTY TRUST, INC.",
           "Real Estate Investment Trusts"
          ],
          [
           "CORESITE REALTY CORP",
           "Real Estate Investment Trusts"
          ],
          [
           "POTLATCH CORP",
           "Real Estate Investment Trusts"
          ],
          [
           "CORPORATE OFFICE PROPERTIES TRUST",
           "Real Estate Investment Trusts"
          ],
          [
           "RAMCO GERSHENSON PROPERTIES TRUST",
           "Real Estate Investment Trusts"
          ],
          [
           "NATIONAL STORAGE AFFILIATES TRUST",
           "Real Estate Investment Trusts"
          ],
          [
           "HERSHA HOSPITALITY TRUST",
           "Real Estate Investment Trusts"
          ],
          [
           "JERNIGAN CAPITAL, INC.",
           "Real Estate Investment Trusts"
          ],
          [
           "VORNADO REALTY TRUST",
           "Real Estate Investment Trusts"
          ],
          [
           "ISTAR INC.",
           "Real Estate Investment Trusts"
          ],
          [
           "ALEXANDER & BALDWIN, INC.",
           "Real Estate Investment Trusts"
          ],
          [
           "HOSPITALITY INVESTORS TRUST, INC.",
           "Real Estate Investment Trusts"
          ],
          [
           "SAUL CENTERS INC",
           "Real Estate Investment Trusts"
          ],
          [
           "KBS GROWTH & INCOME REIT, INC.",
           "Real Estate Investment Trusts"
          ],
          [
           "EXTRA SPACE STORAGE INC.",
           "Real Estate Investment Trusts"
          ],
          [
           "CHESAPEAKE LODGING TRUST",
           "Real Estate Investment Trusts"
          ],
          [
           "LTC PROPERTIES INC",
           "Real Estate Investment Trusts"
          ],
          [
           "EASTERLY GOVERNMENT PROPERTIES, INC.",
           "Real Estate Investment Trusts"
          ],
          [
           "PLYMOUTH INDUSTRIAL REIT INC.",
           "Real Estate Investment Trusts"
          ],
          [
           "FRANKLIN STREET PROPERTIES CORP /MA/",
           "Real Estate Investment Trusts"
          ],
          [
           "HEALTHCARE TRUST OF AMERICA, INC.",
           "Real Estate Investment Trusts"
          ],
          [
           "REALSOURCE RESIDENTIAL, INC",
           "Real Estate Investment Trusts"
          ],
          [
           "CARTER VALIDUS MISSION CRITICAL REIT, INC.",
           "Real Estate Investment Trusts"
          ],
          [
           "SUN COMMUNITIES INC",
           "Real Estate Investment Trusts"
          ],
          [
           "FIRST EQUITY PROPERTIES INC",
           "Real Estate Investment Trusts"
          ],
          [
           "MID AMERICA APARTMENT COMMUNITIES INC",
           "Real Estate Investment Trusts"
          ],
          [
           "BROOKFIELD DTLA FUND OFFICE TRUST INVESTOR INC.",
           "Real Estate Investment Trusts"
          ],
          [
           "ANNALY CAPITAL MANAGEMENT INC",
           "Real Estate Investment Trusts"
          ],
          [
           "WHEELER REAL ESTATE INVESTMENT TRUST, INC.",
           "Real Estate Investment Trusts"
          ],
          [
           "ALEXANDRIA REAL ESTATE EQUITIES INC",
           "Real Estate Investment Trusts"
          ],
          [
           "HIGHWOODS PROPERTIES INC",
           "Real Estate Investment Trusts"
          ],
          [
           "KIMCO REALTY CORP",
           "Real Estate Investment Trusts"
          ],
          [
           "INDEPENDENCE REALTY TRUST, INC.",
           "Real Estate Investment Trusts"
          ],
          [
           "PREFERRED APARTMENT COMMUNITIES INC",
           "Real Estate Investment Trusts"
          ],
          [
           "ELLINGTON RESIDENTIAL MORTGAGE REIT",
           "Real Estate Investment Trusts"
          ],
          [
           "CORECIVIC, INC.",
           "Real Estate Investment Trusts"
          ],
          [
           "ASHFORD HOSPITALITY PRIME, INC.",
           "Real Estate Investment Trusts"
          ],
          [
           "LIFE STORAGE, INC.",
           "Real Estate Investment Trusts"
          ],
          [
           "HEALTHCARE REALTY TRUST INC",
           "Real Estate Investment Trusts"
          ],
          [
           "WINTHROP REALTY LIQUIDATING TRUST",
           "Real Estate Investment Trusts"
          ],
          [
           "CORENERGY INFRASTRUCTURE TRUST, INC.",
           "Real Estate Investment Trusts"
          ],
          [
           "KBS STRATEGIC OPPORTUNITY REIT II, INC.",
           "Real Estate Investment Trusts"
          ],
          [
           "PEBBLEBROOK HOTEL TRUST",
           "Real Estate Investment Trusts"
          ],
          [
           "SABRA HEALTH CARE REIT, INC.",
           "Real Estate Investment Trusts"
          ],
          [
           "POWER REIT",
           "Real Estate Investment Trusts"
          ],
          [
           "DYNEX CAPITAL INC",
           "Real Estate Investment Trusts"
          ],
          [
           "DIGITAL REALTY TRUST, INC.",
           "Real Estate Investment Trusts"
          ],
          [
           "STRATEGIC REALTY TRUST, INC.",
           "Real Estate Investment Trusts"
          ],
          [
           "COLE OFFICE & INDUSTRIAL REIT (CCIT III), INC.",
           "Real Estate Investment Trusts"
          ],
          [
           "HEALTHCARE TRUST, INC.",
           "Real Estate Investment Trusts"
          ],
          [
           "LADDER CAPITAL CORP",
           "Real Estate Investment Trusts"
          ],
          [
           "CROWN CASTLE INTERNATIONAL CORP",
           "Real Estate Investment Trusts"
          ],
          [
           "HOWARD HUGHES CORP",
           "Real Estate Investment Trusts"
          ],
          [
           "ALEXANDERS INC",
           "Real Estate Investment Trusts"
          ],
          [
           "MANHATTAN BRIDGE CAPITAL, INC",
           "Real Estate Investment Trusts"
          ],
          [
           "INLAND REAL ESTATE INCOME TRUST, INC.",
           "Real Estate Investment Trusts"
          ],
          [
           "INLAND RESIDENTIAL PROPERTIES TRUST, INC.",
           "Real Estate Investment Trusts"
          ],
          [
           "INLAND RESIDENTIAL PROPERTIES TRUST, INC.",
           "Real Estate Investment Trusts"
          ],
          [
           "KBS REAL ESTATE INVESTMENT TRUST II, INC.",
           "Real Estate Investment Trusts"
          ],
          [
           "RESOURCE REAL ESTATE OPPORTUNITY REIT II, INC.",
           "Real Estate Investment Trusts"
          ],
          [
           "STEADFAST APARTMENT REIT III, INC.",
           "Real Estate Investment Trusts"
          ],
          [
           "ACADIA REALTY TRUST",
           "Real Estate Investment Trusts"
          ],
          [
           "HMG COURTLAND PROPERTIES INC",
           "Real Estate Investment Trusts"
          ],
          [
           "COLE CREDIT PROPERTY TRUST IV, INC.",
           "Real Estate Investment Trusts"
          ],
          [
           "FIVE OAKS INVESTMENT CORP.",
           "Real Estate Investment Trusts"
          ],
          [
           "NEXPOINT RESIDENTIAL TRUST, INC.",
           "Real Estate Investment Trusts"
          ],
          [
           "TWO HARBORS INVESTMENT CORP.",
           "Real Estate Investment Trusts"
          ],
          [
           "WASHINGTON PRIME GROUP INC.",
           "Real Estate Investment Trusts"
          ],
          [
           "TIER REIT INC",
           "Real Estate Investment Trusts"
          ],
          [
           "GRANITE POINT MORTGAGE TRUST INC.",
           "Real Estate Investment Trusts"
          ],
          [
           "GREAT AJAX CORP.",
           "Real Estate Investment Trusts"
          ],
          [
           "DUKE REALTY CORP",
           "Real Estate Investment Trusts"
          ],
          [
           "EASTGROUP PROPERTIES INC",
           "Real Estate Investment Trusts"
          ],
          [
           "STEADFAST APARTMENT REIT, INC.",
           "Real Estate Investment Trusts"
          ],
          [
           "RECKSON OPERATING PARTNERSHIP LP",
           "Real Estate Investment Trusts"
          ],
          [
           "GLOBAL NET LEASE, INC.",
           "Real Estate Investment Trusts"
          ],
          [
           "KBS STRATEGIC OPPORTUNITY REIT, INC.",
           "Real Estate Investment Trusts"
          ],
          [
           "WHITESTONE REIT",
           "Real Estate Investment Trusts"
          ],
          [
           "GRIFFIN CAPITAL ESSENTIAL ASSET REIT II, INC.",
           "Real Estate Investment Trusts"
          ],
          [
           "UDR, INC.",
           "Real Estate Investment Trusts"
          ],
          [
           "COMMUNITY HEALTHCARE TRUST INC",
           "Real Estate Investment Trusts"
          ],
          [
           "VENTAS INC",
           "Real Estate Investment Trusts"
          ],
          [
           "OWENS REALTY MORTGAGE, INC.",
           "Real Estate Investment Trusts"
          ],
          [
           "KILROY REALTY CORP",
           "Real Estate Investment Trusts"
          ],
          [
           "SUMMIT HOTEL PROPERTIES, INC.",
           "Real Estate Investment Trusts"
          ],
          [
           "CORPORATE PROPERTY ASSOCIATES 18 GLOBAL INC",
           "Real Estate Investment Trusts"
          ],
          [
           "CYRUSONE INC.",
           "Real Estate Investment Trusts"
          ],
          [
           "COLONY NORTHSTAR, INC.",
           "Real Estate Investment Trusts"
          ],
          [
           "FEDERAL REALTY INVESTMENT TRUST",
           "Real Estate Investment Trusts"
          ],
          [
           "NEW SENIOR INVESTMENT GROUP INC.",
           "Real Estate Investment Trusts"
          ],
          [
           "RYMAN HOSPITALITY PROPERTIES, INC.",
           "Real Estate Investment Trusts"
          ],
          [
           "BRIXMOR PROPERTY GROUP INC.",
           "Real Estate Investment Trusts"
          ],
          [
           "COLE OFFICE & INDUSTRIAL REIT (CCIT II), INC.",
           "Real Estate Investment Trusts"
          ],
          [
           "OMEGA HEALTHCARE INVESTORS INC",
           "Real Estate Investment Trusts"
          ],
          [
           "REVEN HOUSING REIT, INC.",
           "Real Estate Investment Trusts"
          ],
          [
           "AMERICAN REALTY CAPITAL NEW YORK CITY REIT, INC.",
           "Real Estate Investment Trusts"
          ],
          [
           "STAG INDUSTRIAL, INC.",
           "Real Estate Investment Trusts"
          ],
          [
           "EQUINIX INC",
           "Real Estate Investment Trusts"
          ]
         ],
         "hovertemplate": "color=Real Estate Investment Trusts<br>0=%{x}<br>1=%{y}<br>name=%{customdata[0]}<br>industry=%{customdata[1]}<extra></extra>",
         "legendgroup": "Real Estate Investment Trusts",
         "marker": {
          "color": "#ab63fa",
          "symbol": "circle"
         },
         "mode": "markers",
         "name": "Real Estate Investment Trusts",
         "orientation": "v",
         "showlegend": true,
         "type": "scatter",
         "x": [
          -1.9422746133043758,
          -1.5528748687666656,
          -1.6701301272280018,
          -1.5521577710041756,
          -1.5521577710041756,
          -2.3040621018943814,
          -2.3040621018943814,
          -1.7720065213379383,
          -1.8396780241278887,
          -1.1684284079654612,
          -2.323978747436547,
          -0.12886668328603343,
          -1.7482481339630347,
          -1.726264787564086,
          -1.3374947444836016,
          -0.07766674207577869,
          -1.554939087297689,
          -1.4045462908136652,
          -1.9855835427176152,
          -2.7816686810838616,
          -0.7182570482601394,
          -2.1040976531916793,
          -2.7993718937731233,
          -1.6924349700581518,
          -1.6549824071176806,
          -0.21590618479934995,
          -2.8324219687760843,
          -2.315485189076028,
          -1.9500663279389472,
          -1.2657694863033557,
          -0.9171584520856129,
          -0.6028196970002644,
          -1.3845962634899789,
          -2.065628958284688,
          -0.8890035786309396,
          -2.4978434271699284,
          -1.4145449305605986,
          -1.3449839047710364,
          -0.48851693617684,
          -2.1456463888313775,
          -2.6052598175664268,
          -1.9971222594511067,
          -0.8776339802828975,
          -2.0582505649402227,
          -1.9326064790749544,
          -2.507770322359339,
          -0.31547236610649365,
          -3.07316852563126,
          -0.33424363761407627,
          -2.482141574031448,
          -2.2652915449770212,
          -1.6848305202334064,
          -1.483340350510652,
          -0.31547236610649365,
          -1.993432552658994,
          -1.6574768197675058,
          -2.0228156678699087,
          -1.578142759280447,
          -1.3902459747414773,
          -1.4332913646152865,
          -2.469019082322505,
          -0.9740004601246386,
          -2.43369124092769,
          -1.0563086399372672,
          -2.685016991366706,
          -1.306307296008991,
          -1.7955952633938106,
          -2.1067822799896683,
          -0.9960158052104764,
          -0.31547236610649365,
          -2.219334461418308,
          -2.3670782413145677,
          -2.278487894943383,
          -2.1340266565192754,
          -1.14833041689865,
          -2.23915509962554,
          -1.8387101729691213,
          -1.5646979865689297,
          -1.7555895017756131,
          -0.17423475660104915,
          -1.3521529087454376,
          -1.790667824042401,
          -2.031590908827749,
          0.0787761995268612,
          -0.842425357302435,
          -1.7315632688479052,
          -1.8399326003014134,
          -1.9625616449639922,
          -1.165065539688238,
          -1.7136943131316225,
          -2.487228155936464,
          -0.31547236610649365,
          -1.4434866451209134,
          -2.909454505059886,
          -0.23884176699288176,
          -2.091447819308084,
          -1.093117894311844,
          -0.6035298352281232,
          -1.4343847022112926,
          -1.5036319454860763,
          -1.3899522793638215,
          -1.2232640029045978,
          -2.722248475937272,
          -2.088577010679119,
          -1.6113143722583647,
          -1.221094266847604,
          -2.5306573165210087,
          -1.3590737869795553,
          -0.9592746393009457,
          -0.5794542378182787,
          -0.8399238796111921,
          -1.6921723112402614,
          -2.3343224978609562,
          -0.837052926013805,
          -0.6028650938884581,
          -2.477122113771864,
          -0.20012276550688105,
          -1.845101021331675,
          -2.055040677409007,
          -1.1100718033462025,
          -0.42860149504764694,
          -1.6466319107640144,
          -2.220042949341087,
          -0.57217223460554,
          -1.8883292254444848,
          -1.8577036076930586,
          -2.5528785336321764,
          -1.5528325830507157,
          -1.4501540964014081,
          -0.6631894908755829,
          -1.6347168366418956,
          -0.9706625191515964,
          -1.3331722608392031,
          -1.562332779452533,
          -2.294581997544777,
          -0.6221622836983549,
          -2.335621527834373,
          -1.7678069771859772,
          -1.7069041856253526,
          -0.40401309559774057,
          -2.1468024337863447,
          -2.4695264936528507,
          -0.8324071167746485,
          -2.55353592138804,
          -0.9020117762271342,
          -2.5931875295910536,
          -0.7249444941420042,
          -2.670747728991888,
          -2.5080016438955597,
          -2.2972571998014772,
          -2.2972571998014772,
          -2.6554229346066665,
          -2.7543178054570943,
          -0.8190191306218173,
          -1.9392053299592313,
          -0.3145520060254937,
          -2.5866519466596096,
          -2.8123886313659474,
          -2.3778210647278284,
          -2.342748986094696,
          -1.7503281808321567,
          -0.33287191553217005,
          -2.466828117651659,
          -2.1649979456094246,
          -0.7967544897335805,
          -0.6390980555843835,
          -1.9662650110668278,
          -1.3124357401998383,
          -2.16486655072404,
          -2.6781879781982605,
          -2.4119658857857944,
          -1.8776891791224029,
          -2.2149155249175454,
          -2.023784668253827,
          -1.8201585080166314,
          -2.269269128598966,
          -1.8360998549848901,
          -0.9644339806142987,
          -1.292648368576723,
          -0.37911486374711545,
          -2.568490569889699,
          -2.054393841144992,
          -1.3021480563862464,
          -0.5924972160559067,
          -1.1639176839662064,
          -2.5450232612435832,
          -0.6127767625706672,
          -2.2371276577728514,
          -2.6656301678596637,
          -1.1016611619225476,
          0.060492076295895286
         ],
         "xaxis": "x",
         "y": [
          -2.117430489564738,
          -1.871321980203611,
          -1.987776592457999,
          -1.2298713037314988,
          -1.2298713037314988,
          -2.172539223424285,
          -2.172539223424285,
          -2.2919621672175667,
          -2.1253677912254654,
          -2.145680877986963,
          -2.4343551903315763,
          -1.1495601944760183,
          -2.177671730863275,
          -2.418059892978109,
          -1.994712106454224,
          -1.0423589929908688,
          -0.9514101063477137,
          -2.070702708717413,
          -2.1443168634984597,
          -2.239717284250358,
          -1.497045885242626,
          -2.1181118220349964,
          -2.3375540459705615,
          -1.2966395767481818,
          -2.0505345762930047,
          -1.1574182517907126,
          -1.0175866147466022,
          -2.493398160327001,
          -2.36477667016618,
          -2.1484759537169613,
          -1.9793350338089755,
          -1.3839415702765379,
          -1.7692868329475047,
          -1.7387531857533054,
          -1.7080707622610243,
          -2.4089156865058796,
          -1.8832507114819426,
          -1.935512827754847,
          -1.7282658674193074,
          -1.9938235651805654,
          -2.337966193012758,
          -1.9867881549107378,
          -1.7928414855109285,
          -2.0787180155566465,
          -2.515018830704507,
          -2.6591858973465023,
          -0.5914040973371343,
          -1.9317567321809221,
          -1.4431206992705523,
          -2.3347016163462015,
          -1.249610256829081,
          -2.332666825800559,
          -1.320910349571575,
          -0.5914040973371343,
          -2.3903794718841627,
          -1.9336980759660836,
          -2.339368361607599,
          -1.7063049324385882,
          -2.0209367846155786,
          -1.6844870017060025,
          -2.1151429559960735,
          -1.6638530481909029,
          -1.247162797277311,
          -1.7863360295553832,
          -2.366542808020534,
          -1.6489035911405179,
          -0.5947010441813585,
          -1.4143211975667205,
          -1.7488115568149496,
          -0.5914040973371344,
          -2.0648404731002006,
          -2.3640480577646867,
          -1.7638068833937006,
          -2.3228531935443515,
          -1.4515483086113028,
          -1.902374831606696,
          -2.1572978127398788,
          -1.3665667260041374,
          -2.3062887678989066,
          -1.2110551754098207,
          -2.099236610614197,
          -2.2323268291899923,
          -2.257032291389077,
          -1.136613079595216,
          -1.8740392324197575,
          -2.223019953562412,
          -2.2104265879889633,
          -2.057954098380551,
          -2.1563993269342485,
          -1.8796877751433796,
          -1.31860399633895,
          -0.5914040973371343,
          -1.9622819700903555,
          -1.6837831491979895,
          -1.1610529021685976,
          -1.793785204372161,
          -1.739892928489706,
          -1.7570190625398545,
          -2.3039380545232375,
          -2.2894900898024253,
          -1.7920760561060152,
          -2.000992673795328,
          -1.7379575604307957,
          -1.9232788567145565,
          -2.20694917213377,
          -1.7823420952078415,
          -2.2887835830072247,
          -2.2731903608478135,
          -1.733380507471456,
          -1.08708720639068,
          -2.029868868368289,
          -2.1993432199308423,
          -1.873379354074202,
          -1.7252309799525578,
          -1.4184196172061174,
          -2.4702243869950054,
          -1.1744401931341026,
          -1.8846716337952052,
          -2.4634230678347673,
          -1.8739761576906708,
          -1.2551765054057187,
          -2.0978054676786444,
          -2.168051653953527,
          -0.9024098515612446,
          -1.7319811775218514,
          -2.302229824079551,
          -2.371045062848025,
          -1.1647087250423427,
          -1.8898687702124874,
          -1.6443736547833847,
          -2.1538265257495603,
          -1.4757326346212378,
          -1.8150860028299804,
          -1.9496579955588216,
          -2.4735407819626003,
          -1.927585624497407,
          -1.956344481492153,
          -1.7358215040094134,
          -0.9167534483970865,
          -1.2154644648100605,
          -2.549746440066056,
          -2.4810498972816917,
          -1.460806946547388,
          -1.2203402402528625,
          -1.7834663220051648,
          -2.186798231121425,
          -1.6210743693160707,
          -1.7269805574737873,
          -2.438453578641356,
          -2.4149241185903008,
          -2.4149241185903008,
          -2.426323107922492,
          -2.293779455357907,
          -1.7604736608972607,
          -1.6656136861594324,
          -0.8365241804787268,
          -2.4630660549281416,
          -1.6298883798698927,
          -2.4000714724195493,
          -1.2177523735780766,
          -1.879168650184029,
          -1.4693998087898301,
          -1.493791637850512,
          -1.7110233272115152,
          -1.31907928058673,
          -1.5938355855190105,
          -2.4030455481104536,
          -2.2769089050108366,
          -2.411866700356032,
          -2.3305266196582606,
          -2.1919639018638377,
          -2.3919958663985814,
          -2.64621023856104,
          -2.0573771842990007,
          -1.9594918856705559,
          -1.7692802567183241,
          -1.8275464155547636,
          -2.0271725036858523,
          -1.93231953766047,
          -1.2103167200761664,
          -1.6959349540309547,
          -2.279201834047547,
          -1.670697343047313,
          -1.7469785912774196,
          -2.214718103887089,
          -2.4438557296444774,
          -1.7161655157559397,
          -2.097631541653087,
          -2.328698418308594,
          -2.2483714323894968,
          -0.8988746105567815
         ],
         "yaxis": "y"
        },
        {
         "customdata": [
          [
           "TOMPKINS FINANCIAL CORP",
           "State Commercial Banks (commercial banking)"
          ],
          [
           "TRIUMPH BANCORP, INC.",
           "State Commercial Banks (commercial banking)"
          ],
          [
           "GREAT SOUTHERN BANCORP, INC.",
           "State Commercial Banks (commercial banking)"
          ],
          [
           "SOUTH STATE CORP",
           "State Commercial Banks (commercial banking)"
          ],
          [
           "OLD LINE BANCSHARES INC",
           "State Commercial Banks (commercial banking)"
          ],
          [
           "SEACOAST BANKING CORP OF FLORIDA",
           "State Commercial Banks (commercial banking)"
          ],
          [
           "CITIZENS FINANCIAL GROUP INC/RI",
           "State Commercial Banks (commercial banking)"
          ],
          [
           "COMMUNITY WEST BANCSHARES /",
           "State Commercial Banks (commercial banking)"
          ],
          [
           "MACKINAC FINANCIAL CORP /MI/",
           "State Commercial Banks (commercial banking)"
          ],
          [
           "UNITY BANCORP INC /NJ/",
           "State Commercial Banks (commercial banking)"
          ],
          [
           "UNITY BANCORP INC /NJ/",
           "State Commercial Banks (commercial banking)"
          ],
          [
           "EAST WEST BANCORP INC",
           "State Commercial Banks (commercial banking)"
          ],
          [
           "HEARTLAND FINANCIAL USA INC",
           "State Commercial Banks (commercial banking)"
          ],
          [
           "COUNTY BANCORP, INC.",
           "State Commercial Banks (commercial banking)"
          ],
          [
           "CHEMUNG FINANCIAL CORP",
           "State Commercial Banks (commercial banking)"
          ],
          [
           "BRYN MAWR BANK CORP",
           "State Commercial Banks (commercial banking)"
          ],
          [
           "EAGLE BANCORP MONTANA, INC.",
           "State Commercial Banks (commercial banking)"
          ],
          [
           "1ST SOURCE CORP",
           "State Commercial Banks (commercial banking)"
          ],
          [
           "SERVISFIRST BANCSHARES, INC.",
           "State Commercial Banks (commercial banking)"
          ],
          [
           "SIERRA BANCORP",
           "State Commercial Banks (commercial banking)"
          ],
          [
           "HOPFED BANCORP INC",
           "State Commercial Banks (commercial banking)"
          ],
          [
           "HOPFED BANCORP INC",
           "State Commercial Banks (commercial banking)"
          ],
          [
           "FIRST FINANCIAL BANKSHARES INC",
           "State Commercial Banks (commercial banking)"
          ],
          [
           "CHEMICAL FINANCIAL CORP",
           "State Commercial Banks (commercial banking)"
          ],
          [
           "SECURITY FEDERAL CORP",
           "State Commercial Banks (commercial banking)"
          ],
          [
           "FIRST FINANCIAL CORP /IN/",
           "State Commercial Banks (commercial banking)"
          ],
          [
           "WESTERN ALLIANCE BANCORPORATION",
           "State Commercial Banks (commercial banking)"
          ],
          [
           "TRISTATE CAPITAL HOLDINGS, INC.",
           "State Commercial Banks (commercial banking)"
          ],
          [
           "UNION BANKSHARES CORP",
           "State Commercial Banks (commercial banking)"
          ],
          [
           "CAROLINA TRUST BANCSHARES, INC.",
           "State Commercial Banks (commercial banking)"
          ],
          [
           "COMMUNITY TRUST BANCORP INC /KY/",
           "State Commercial Banks (commercial banking)"
          ],
          [
           "HILLS BANCORPORATION",
           "State Commercial Banks (commercial banking)"
          ],
          [
           "MACATAWA BANK CORP",
           "State Commercial Banks (commercial banking)"
          ],
          [
           "PREMIER FINANCIAL BANCORP INC",
           "State Commercial Banks (commercial banking)"
          ],
          [
           "KENTUCKY BANCSHARES INC /KY/",
           "State Commercial Banks (commercial banking)"
          ],
          [
           "RIVER FINANCIAL CORP",
           "State Commercial Banks (commercial banking)"
          ],
          [
           "BAR HARBOR BANKSHARES",
           "State Commercial Banks (commercial banking)"
          ],
          [
           "PARKE BANCORP, INC.",
           "State Commercial Banks (commercial banking)"
          ],
          [
           "RANDOLPH BANCORP, INC.",
           "State Commercial Banks (commercial banking)"
          ],
          [
           "BANK OF HAWAII CORP",
           "State Commercial Banks (commercial banking)"
          ],
          [
           "BSB BANCORP, INC.",
           "State Commercial Banks (commercial banking)"
          ],
          [
           "INDEPENDENT BANK CORP /MI/",
           "State Commercial Banks (commercial banking)"
          ],
          [
           "PACIFIC PREMIER BANCORP INC",
           "State Commercial Banks (commercial banking)"
          ],
          [
           "OHIO VALLEY BANC CORP",
           "State Commercial Banks (commercial banking)"
          ],
          [
           "CVB FINANCIAL CORP",
           "State Commercial Banks (commercial banking)"
          ],
          [
           "BANK OF NEW YORK MELLON CORP",
           "State Commercial Banks (commercial banking)"
          ],
          [
           "TWO RIVER BANCORP",
           "State Commercial Banks (commercial banking)"
          ],
          [
           "STEWARDSHIP FINANCIAL CORP",
           "State Commercial Banks (commercial banking)"
          ],
          [
           "LAKELAND FINANCIAL CORP",
           "State Commercial Banks (commercial banking)"
          ],
          [
           "FAUQUIER BANKSHARES, INC.",
           "State Commercial Banks (commercial banking)"
          ],
          [
           "LIVE OAK BANCSHARES, INC.",
           "State Commercial Banks (commercial banking)"
          ],
          [
           "M&T BANK CORP",
           "State Commercial Banks (commercial banking)"
          ],
          [
           "INTERNATIONAL BANCSHARES CORP",
           "State Commercial Banks (commercial banking)"
          ],
          [
           "SUMMIT FINANCIAL GROUP INC",
           "State Commercial Banks (commercial banking)"
          ],
          [
           "SUSSEX BANCORP",
           "State Commercial Banks (commercial banking)"
          ],
          [
           "PRIME MERIDIAN HOLDING CO",
           "State Commercial Banks (commercial banking)"
          ],
          [
           "BANKWELL FINANCIAL GROUP, INC.",
           "State Commercial Banks (commercial banking)"
          ],
          [
           "SOUTHWEST GEORGIA FINANCIAL CORP",
           "State Commercial Banks (commercial banking)"
          ],
          [
           "BANK OF COMMERCE HOLDINGS",
           "State Commercial Banks (commercial banking)"
          ],
          [
           "BANK OF COMMERCE HOLDINGS",
           "State Commercial Banks (commercial banking)"
          ],
          [
           "UNITED BANCORP INC /OH/",
           "State Commercial Banks (commercial banking)"
          ],
          [
           "PARKWAY ACQUISITION CORP.",
           "State Commercial Banks (commercial banking)"
          ],
          [
           "INVESTAR HOLDING CORP",
           "State Commercial Banks (commercial banking)"
          ],
          [
           "RENASANT CORP",
           "State Commercial Banks (commercial banking)"
          ],
          [
           "RELIANT BANCORP, INC.",
           "State Commercial Banks (commercial banking)"
          ],
          [
           "FIRST COMMUNITY CORP /SC/",
           "State Commercial Banks (commercial banking)"
          ],
          [
           "FIRST FINANCIAL NORTHWEST, INC.",
           "State Commercial Banks (commercial banking)"
          ],
          [
           "COMMERCE BANCSHARES INC /MO/",
           "State Commercial Banks (commercial banking)"
          ],
          [
           "JUNIATA VALLEY FINANCIAL CORP",
           "State Commercial Banks (commercial banking)"
          ],
          [
           "HOWARD BANCORP INC",
           "State Commercial Banks (commercial banking)"
          ],
          [
           "EAGLE FINANCIAL SERVICES INC",
           "State Commercial Banks (commercial banking)"
          ],
          [
           "MVB FINANCIAL CORP",
           "State Commercial Banks (commercial banking)"
          ],
          [
           "INDEPENDENT BANK GROUP, INC.",
           "State Commercial Banks (commercial banking)"
          ],
          [
           "CONNECTONE BANCORP, INC.",
           "State Commercial Banks (commercial banking)"
          ],
          [
           "REPUBLIC BANCORP INC /KY/",
           "State Commercial Banks (commercial banking)"
          ],
          [
           "SOUTHSIDE BANCSHARES INC",
           "State Commercial Banks (commercial banking)"
          ],
          [
           "FIRST HAWAIIAN, INC.",
           "State Commercial Banks (commercial banking)"
          ],
          [
           "FIRST US BANCSHARES INC",
           "State Commercial Banks (commercial banking)"
          ],
          [
           "COMMUNITY FINANCIAL CORP /MD/",
           "State Commercial Banks (commercial banking)"
          ],
          [
           "BANNER CORP",
           "State Commercial Banks (commercial banking)"
          ],
          [
           "SVB FINANCIAL GROUP",
           "State Commercial Banks (commercial banking)"
          ],
          [
           "CATHAY GENERAL BANCORP",
           "State Commercial Banks (commercial banking)"
          ],
          [
           "BANK OF THE JAMES FINANCIAL GROUP INC",
           "State Commercial Banks (commercial banking)"
          ],
          [
           "FLUSHING FINANCIAL CORP",
           "State Commercial Banks (commercial banking)"
          ],
          [
           "FRANKLIN FINANCIAL SERVICES CORP /PA/",
           "State Commercial Banks (commercial banking)"
          ],
          [
           "CENTRAL PACIFIC FINANCIAL CORP",
           "State Commercial Banks (commercial banking)"
          ],
          [
           "CENTRAL PACIFIC FINANCIAL CORP",
           "State Commercial Banks (commercial banking)"
          ],
          [
           "CENTRAL VALLEY COMMUNITY BANCORP",
           "State Commercial Banks (commercial banking)"
          ],
          [
           "F&M BANK CORP",
           "State Commercial Banks (commercial banking)"
          ],
          [
           "FARMERS NATIONAL BANC CORP /OH/",
           "State Commercial Banks (commercial banking)"
          ],
          [
           "CITIZENS & NORTHERN CORP",
           "State Commercial Banks (commercial banking)"
          ],
          [
           "GUARANTY FEDERAL BANCSHARES INC",
           "State Commercial Banks (commercial banking)"
          ],
          [
           "CAROLINA FINANCIAL CORP",
           "State Commercial Banks (commercial banking)"
          ],
          [
           "FIRST INTERNET BANCORP",
           "State Commercial Banks (commercial banking)"
          ],
          [
           "HARBORONE BANCORP, INC.",
           "State Commercial Banks (commercial banking)"
          ],
          [
           "UNITED BANKSHARES INC/WV",
           "State Commercial Banks (commercial banking)"
          ],
          [
           "INDEPENDENT BANK CORP",
           "State Commercial Banks (commercial banking)"
          ],
          [
           "CITIZENS FINANCIAL SERVICES INC",
           "State Commercial Banks (commercial banking)"
          ],
          [
           "NORWOOD FINANCIAL CORP",
           "State Commercial Banks (commercial banking)"
          ],
          [
           "WEST BANCORPORATION INC",
           "State Commercial Banks (commercial banking)"
          ],
          [
           "CUSTOMERS BANCORP, INC.",
           "State Commercial Banks (commercial banking)"
          ],
          [
           "WEST END INDIANA BANCSHARES, INC.",
           "State Commercial Banks (commercial banking)"
          ],
          [
           "ATLANTIC CAPITAL BANCSHARES, INC.",
           "State Commercial Banks (commercial banking)"
          ],
          [
           "IBERIABANK CORP",
           "State Commercial Banks (commercial banking)"
          ],
          [
           "MERCANTILE BANK CORP",
           "State Commercial Banks (commercial banking)"
          ],
          [
           "GERMAN AMERICAN BANCORP, INC.",
           "State Commercial Banks (commercial banking)"
          ],
          [
           "S&T BANCORP INC",
           "State Commercial Banks (commercial banking)"
          ],
          [
           "HILLTOP HOLDINGS INC.",
           "State Commercial Banks (commercial banking)"
          ],
          [
           "CB FINANCIAL SERVICES, INC.",
           "State Commercial Banks (commercial banking)"
          ],
          [
           "ENTERPRISE FINANCIAL SERVICES CORP",
           "State Commercial Banks (commercial banking)"
          ],
          [
           "AUBURN NATIONAL BANCORPORATION, INC",
           "State Commercial Banks (commercial banking)"
          ],
          [
           "FIRST KEYSTONE CORP",
           "State Commercial Banks (commercial banking)"
          ],
          [
           "TEXAS CAPITAL BANCSHARES INC/TX",
           "State Commercial Banks (commercial banking)"
          ],
          [
           "VILLAGE BANK & TRUST FINANCIAL CORP.",
           "State Commercial Banks (commercial banking)"
          ],
          [
           "STOCK YARDS BANCORP, INC.",
           "State Commercial Banks (commercial banking)"
          ],
          [
           "BUSINESS FIRST BANCSHARES, INC.",
           "State Commercial Banks (commercial banking)"
          ]
         ],
         "hovertemplate": "color=State Commercial Banks (commercial banking)<br>0=%{x}<br>1=%{y}<br>name=%{customdata[0]}<br>industry=%{customdata[1]}<extra></extra>",
         "legendgroup": "State Commercial Banks (commercial banking)",
         "marker": {
          "color": "#FFA15A",
          "symbol": "circle"
         },
         "mode": "markers",
         "name": "State Commercial Banks (commercial banking)",
         "orientation": "v",
         "showlegend": true,
         "type": "scatter",
         "x": [
          -4.023756570416359,
          -3.6781274784491784,
          -3.8696919783067183,
          -4.619383788810296,
          -4.388034144202354,
          -4.331430504733681,
          -3.9889691269319827,
          -2.5209550005538874,
          -4.005694171249945,
          -3.459007783149663,
          -3.459007783149663,
          -0.1745947876667001,
          -4.4216123727718415,
          -4.648247542114968,
          -4.222062012246348,
          -3.8180118410864226,
          -4.141797416139393,
          -4.350706227854212,
          -4.223389132777682,
          -4.111388023739069,
          -4.295157655979305,
          -4.295157655979305,
          -3.965286826010829,
          -4.833804227635872,
          -4.526283758564334,
          -4.455210457424435,
          -2.672469953859252,
          -4.602260141226016,
          -3.9728281404379744,
          -4.119438418171419,
          -3.172138037586414,
          -4.5915044310535915,
          -4.061470749195447,
          -4.062122747760022,
          -4.0629527816831565,
          -4.362437231652606,
          -4.566076054810415,
          -4.8025904409232805,
          -4.408690849045993,
          -2.721119543726101,
          -4.022333939061965,
          -0.6729422340282174,
          -4.675383268135045,
          -4.353928569089201,
          -4.215632666655105,
          -0.6121318362045994,
          -4.301404945901637,
          -3.977899393593809,
          -4.226626499848532,
          -4.660794276408096,
          -4.204192807641338,
          -3.936899373887912,
          -3.8746963789640243,
          -3.820881102592377,
          -3.802463992355659,
          -4.5616789312895,
          -4.6072119074164535,
          -3.6802203973674987,
          -4.2488911980639275,
          -4.2488911980639275,
          -4.251228701300925,
          -4.228967075022957,
          -4.914970729897699,
          -4.797060201544386,
          -3.899374698195918,
          -4.530410271804386,
          -4.47893566540298,
          -3.954164079104129,
          -4.082963583240428,
          -2.465987963917107,
          -4.093829620963365,
          -4.151923026531023,
          -4.430113296877528,
          -4.073211556857097,
          -3.390365314330462,
          -4.162064888372782,
          -4.24942766121827,
          -3.593132182993346,
          -4.0732509166247155,
          0.29832478956419073,
          -3.707618173053617,
          -4.331561064094423,
          -4.11841151994401,
          -3.5702087532681688,
          -4.626591645318788,
          -4.5305990430977365,
          -4.5305990430977365,
          -4.497617900054223,
          0.07829206608527729,
          -3.8073539961819525,
          -1.7305097106821807,
          -4.357748213704418,
          -4.766495039928403,
          -4.079664058694823,
          -4.74990351628084,
          -4.513457328853292,
          -4.178980738676656,
          -3.9278109565169066,
          -4.56088885382512,
          -4.165632905328663,
          -4.155468694546185,
          -3.970474786755181,
          -4.748332831783202,
          -4.14846869611777,
          -4.38936169077416,
          -3.6355196947379285,
          -1.1647549281369336,
          -4.069943359026229,
          -3.779830144446583,
          -0.659280763953936,
          -4.336106793880191,
          -3.696331020261178,
          -3.915144803292081,
          -4.285662775181575,
          -3.283353479218211,
          -4.942550654930888
         ],
         "xaxis": "x",
         "y": [
          3.9240609326854843,
          2.443018647438898,
          0.505229052256992,
          4.4593431622687865,
          3.727037397930279,
          4.701139536702413,
          4.262283510754199,
          0.8130301961574382,
          3.0393506499842364,
          4.086283830058506,
          4.086283830058506,
          -0.9760158879788482,
          4.364997190397979,
          3.904784230320001,
          3.538232008420053,
          4.009359323831771,
          2.114560957608344,
          4.4385177259981905,
          3.5919460180570177,
          3.875325169841488,
          3.486156635265217,
          3.486156635265217,
          4.12172050329759,
          3.3880533459990456,
          1.8627928895089385,
          4.408319172234421,
          0.22724805691142602,
          3.7027015725782615,
          4.518691217597507,
          4.432386402533187,
          3.3482493199769117,
          3.8462308436520845,
          2.6333402004011743,
          4.3167273235113806,
          3.619562797145325,
          4.384523595629433,
          4.180428884282544,
          3.4412336311221132,
          2.4973554586158713,
          2.104881261766653,
          1.1989780552713225,
          -0.8809655185297102,
          4.038598254821965,
          3.3586017801997943,
          3.7839500513161104,
          -0.3252499586590983,
          2.7663858202882046,
          4.328099027526849,
          4.3490532719301465,
          4.203509765194647,
          4.586998682872333,
          3.826483110816404,
          4.449307526690866,
          3.4004580106644773,
          4.301236809322677,
          3.4413219494373393,
          3.7309766771256427,
          2.731874843787341,
          4.42890392551502,
          4.42890392551502,
          3.687232218951738,
          4.417424731118958,
          4.098617087061278,
          2.995592861353291,
          4.4650466897240335,
          4.5625221490118415,
          1.588593109010062,
          4.253141399246155,
          3.7119641824142118,
          -0.3184314743938862,
          4.2333433409554715,
          3.9512744682808774,
          4.469160986528324,
          4.173721026696259,
          2.4018949661314988,
          4.397305259001523,
          4.435820929399627,
          3.796204418874162,
          1.9322438903713148,
          -0.6071135414581916,
          4.225022063547589,
          3.7281771795657557,
          4.315765145208861,
          0.8527930297289699,
          3.407302586390805,
          4.04091327286934,
          4.04091327286934,
          4.28989091187346,
          -0.513007041738892,
          3.9242011040513116,
          0.8159438976336755,
          2.383717203193201,
          4.280348124444347,
          4.180496201086475,
          3.119734805052687,
          3.214641280397151,
          1.2543955056803406,
          4.084269180695699,
          3.5128241224252608,
          4.34361896634075,
          4.070744586236677,
          1.6936999852302184,
          4.058246789750709,
          4.33525482275921,
          2.508424272327857,
          3.5177656148644916,
          0.9664336174958755,
          4.041388939804474,
          0.8592200574433,
          -0.5063204968813798,
          4.654294539894868,
          3.7467695128609146,
          4.188454632013632,
          4.256080906223009,
          3.2250013383933647,
          4.247110544084456
         ],
         "yaxis": "y"
        }
       ],
       "layout": {
        "height": 600,
        "legend": {
         "title": {
          "text": "color"
         },
         "tracegroupgap": 0
        },
        "margin": {
         "t": 60
        },
        "template": {
         "data": {
          "bar": [
           {
            "error_x": {
             "color": "#2a3f5f"
            },
            "error_y": {
             "color": "#2a3f5f"
            },
            "marker": {
             "line": {
              "color": "#E5ECF6",
              "width": 0.5
             },
             "pattern": {
              "fillmode": "overlay",
              "size": 10,
              "solidity": 0.2
             }
            },
            "type": "bar"
           }
          ],
          "barpolar": [
           {
            "marker": {
             "line": {
              "color": "#E5ECF6",
              "width": 0.5
             },
             "pattern": {
              "fillmode": "overlay",
              "size": 10,
              "solidity": 0.2
             }
            },
            "type": "barpolar"
           }
          ],
          "carpet": [
           {
            "aaxis": {
             "endlinecolor": "#2a3f5f",
             "gridcolor": "white",
             "linecolor": "white",
             "minorgridcolor": "white",
             "startlinecolor": "#2a3f5f"
            },
            "baxis": {
             "endlinecolor": "#2a3f5f",
             "gridcolor": "white",
             "linecolor": "white",
             "minorgridcolor": "white",
             "startlinecolor": "#2a3f5f"
            },
            "type": "carpet"
           }
          ],
          "choropleth": [
           {
            "colorbar": {
             "outlinewidth": 0,
             "ticks": ""
            },
            "type": "choropleth"
           }
          ],
          "contour": [
           {
            "colorbar": {
             "outlinewidth": 0,
             "ticks": ""
            },
            "colorscale": [
             [
              0,
              "#0d0887"
             ],
             [
              0.1111111111111111,
              "#46039f"
             ],
             [
              0.2222222222222222,
              "#7201a8"
             ],
             [
              0.3333333333333333,
              "#9c179e"
             ],
             [
              0.4444444444444444,
              "#bd3786"
             ],
             [
              0.5555555555555556,
              "#d8576b"
             ],
             [
              0.6666666666666666,
              "#ed7953"
             ],
             [
              0.7777777777777778,
              "#fb9f3a"
             ],
             [
              0.8888888888888888,
              "#fdca26"
             ],
             [
              1,
              "#f0f921"
             ]
            ],
            "type": "contour"
           }
          ],
          "contourcarpet": [
           {
            "colorbar": {
             "outlinewidth": 0,
             "ticks": ""
            },
            "type": "contourcarpet"
           }
          ],
          "heatmap": [
           {
            "colorbar": {
             "outlinewidth": 0,
             "ticks": ""
            },
            "colorscale": [
             [
              0,
              "#0d0887"
             ],
             [
              0.1111111111111111,
              "#46039f"
             ],
             [
              0.2222222222222222,
              "#7201a8"
             ],
             [
              0.3333333333333333,
              "#9c179e"
             ],
             [
              0.4444444444444444,
              "#bd3786"
             ],
             [
              0.5555555555555556,
              "#d8576b"
             ],
             [
              0.6666666666666666,
              "#ed7953"
             ],
             [
              0.7777777777777778,
              "#fb9f3a"
             ],
             [
              0.8888888888888888,
              "#fdca26"
             ],
             [
              1,
              "#f0f921"
             ]
            ],
            "type": "heatmap"
           }
          ],
          "heatmapgl": [
           {
            "colorbar": {
             "outlinewidth": 0,
             "ticks": ""
            },
            "colorscale": [
             [
              0,
              "#0d0887"
             ],
             [
              0.1111111111111111,
              "#46039f"
             ],
             [
              0.2222222222222222,
              "#7201a8"
             ],
             [
              0.3333333333333333,
              "#9c179e"
             ],
             [
              0.4444444444444444,
              "#bd3786"
             ],
             [
              0.5555555555555556,
              "#d8576b"
             ],
             [
              0.6666666666666666,
              "#ed7953"
             ],
             [
              0.7777777777777778,
              "#fb9f3a"
             ],
             [
              0.8888888888888888,
              "#fdca26"
             ],
             [
              1,
              "#f0f921"
             ]
            ],
            "type": "heatmapgl"
           }
          ],
          "histogram": [
           {
            "marker": {
             "pattern": {
              "fillmode": "overlay",
              "size": 10,
              "solidity": 0.2
             }
            },
            "type": "histogram"
           }
          ],
          "histogram2d": [
           {
            "colorbar": {
             "outlinewidth": 0,
             "ticks": ""
            },
            "colorscale": [
             [
              0,
              "#0d0887"
             ],
             [
              0.1111111111111111,
              "#46039f"
             ],
             [
              0.2222222222222222,
              "#7201a8"
             ],
             [
              0.3333333333333333,
              "#9c179e"
             ],
             [
              0.4444444444444444,
              "#bd3786"
             ],
             [
              0.5555555555555556,
              "#d8576b"
             ],
             [
              0.6666666666666666,
              "#ed7953"
             ],
             [
              0.7777777777777778,
              "#fb9f3a"
             ],
             [
              0.8888888888888888,
              "#fdca26"
             ],
             [
              1,
              "#f0f921"
             ]
            ],
            "type": "histogram2d"
           }
          ],
          "histogram2dcontour": [
           {
            "colorbar": {
             "outlinewidth": 0,
             "ticks": ""
            },
            "colorscale": [
             [
              0,
              "#0d0887"
             ],
             [
              0.1111111111111111,
              "#46039f"
             ],
             [
              0.2222222222222222,
              "#7201a8"
             ],
             [
              0.3333333333333333,
              "#9c179e"
             ],
             [
              0.4444444444444444,
              "#bd3786"
             ],
             [
              0.5555555555555556,
              "#d8576b"
             ],
             [
              0.6666666666666666,
              "#ed7953"
             ],
             [
              0.7777777777777778,
              "#fb9f3a"
             ],
             [
              0.8888888888888888,
              "#fdca26"
             ],
             [
              1,
              "#f0f921"
             ]
            ],
            "type": "histogram2dcontour"
           }
          ],
          "mesh3d": [
           {
            "colorbar": {
             "outlinewidth": 0,
             "ticks": ""
            },
            "type": "mesh3d"
           }
          ],
          "parcoords": [
           {
            "line": {
             "colorbar": {
              "outlinewidth": 0,
              "ticks": ""
             }
            },
            "type": "parcoords"
           }
          ],
          "pie": [
           {
            "automargin": true,
            "type": "pie"
           }
          ],
          "scatter": [
           {
            "marker": {
             "colorbar": {
              "outlinewidth": 0,
              "ticks": ""
             }
            },
            "type": "scatter"
           }
          ],
          "scatter3d": [
           {
            "line": {
             "colorbar": {
              "outlinewidth": 0,
              "ticks": ""
             }
            },
            "marker": {
             "colorbar": {
              "outlinewidth": 0,
              "ticks": ""
             }
            },
            "type": "scatter3d"
           }
          ],
          "scattercarpet": [
           {
            "marker": {
             "colorbar": {
              "outlinewidth": 0,
              "ticks": ""
             }
            },
            "type": "scattercarpet"
           }
          ],
          "scattergeo": [
           {
            "marker": {
             "colorbar": {
              "outlinewidth": 0,
              "ticks": ""
             }
            },
            "type": "scattergeo"
           }
          ],
          "scattergl": [
           {
            "marker": {
             "colorbar": {
              "outlinewidth": 0,
              "ticks": ""
             }
            },
            "type": "scattergl"
           }
          ],
          "scattermapbox": [
           {
            "marker": {
             "colorbar": {
              "outlinewidth": 0,
              "ticks": ""
             }
            },
            "type": "scattermapbox"
           }
          ],
          "scatterpolar": [
           {
            "marker": {
             "colorbar": {
              "outlinewidth": 0,
              "ticks": ""
             }
            },
            "type": "scatterpolar"
           }
          ],
          "scatterpolargl": [
           {
            "marker": {
             "colorbar": {
              "outlinewidth": 0,
              "ticks": ""
             }
            },
            "type": "scatterpolargl"
           }
          ],
          "scatterternary": [
           {
            "marker": {
             "colorbar": {
              "outlinewidth": 0,
              "ticks": ""
             }
            },
            "type": "scatterternary"
           }
          ],
          "surface": [
           {
            "colorbar": {
             "outlinewidth": 0,
             "ticks": ""
            },
            "colorscale": [
             [
              0,
              "#0d0887"
             ],
             [
              0.1111111111111111,
              "#46039f"
             ],
             [
              0.2222222222222222,
              "#7201a8"
             ],
             [
              0.3333333333333333,
              "#9c179e"
             ],
             [
              0.4444444444444444,
              "#bd3786"
             ],
             [
              0.5555555555555556,
              "#d8576b"
             ],
             [
              0.6666666666666666,
              "#ed7953"
             ],
             [
              0.7777777777777778,
              "#fb9f3a"
             ],
             [
              0.8888888888888888,
              "#fdca26"
             ],
             [
              1,
              "#f0f921"
             ]
            ],
            "type": "surface"
           }
          ],
          "table": [
           {
            "cells": {
             "fill": {
              "color": "#EBF0F8"
             },
             "line": {
              "color": "white"
             }
            },
            "header": {
             "fill": {
              "color": "#C8D4E3"
             },
             "line": {
              "color": "white"
             }
            },
            "type": "table"
           }
          ]
         },
         "layout": {
          "annotationdefaults": {
           "arrowcolor": "#2a3f5f",
           "arrowhead": 0,
           "arrowwidth": 1
          },
          "autotypenumbers": "strict",
          "coloraxis": {
           "colorbar": {
            "outlinewidth": 0,
            "ticks": ""
           }
          },
          "colorscale": {
           "diverging": [
            [
             0,
             "#8e0152"
            ],
            [
             0.1,
             "#c51b7d"
            ],
            [
             0.2,
             "#de77ae"
            ],
            [
             0.3,
             "#f1b6da"
            ],
            [
             0.4,
             "#fde0ef"
            ],
            [
             0.5,
             "#f7f7f7"
            ],
            [
             0.6,
             "#e6f5d0"
            ],
            [
             0.7,
             "#b8e186"
            ],
            [
             0.8,
             "#7fbc41"
            ],
            [
             0.9,
             "#4d9221"
            ],
            [
             1,
             "#276419"
            ]
           ],
           "sequential": [
            [
             0,
             "#0d0887"
            ],
            [
             0.1111111111111111,
             "#46039f"
            ],
            [
             0.2222222222222222,
             "#7201a8"
            ],
            [
             0.3333333333333333,
             "#9c179e"
            ],
            [
             0.4444444444444444,
             "#bd3786"
            ],
            [
             0.5555555555555556,
             "#d8576b"
            ],
            [
             0.6666666666666666,
             "#ed7953"
            ],
            [
             0.7777777777777778,
             "#fb9f3a"
            ],
            [
             0.8888888888888888,
             "#fdca26"
            ],
            [
             1,
             "#f0f921"
            ]
           ],
           "sequentialminus": [
            [
             0,
             "#0d0887"
            ],
            [
             0.1111111111111111,
             "#46039f"
            ],
            [
             0.2222222222222222,
             "#7201a8"
            ],
            [
             0.3333333333333333,
             "#9c179e"
            ],
            [
             0.4444444444444444,
             "#bd3786"
            ],
            [
             0.5555555555555556,
             "#d8576b"
            ],
            [
             0.6666666666666666,
             "#ed7953"
            ],
            [
             0.7777777777777778,
             "#fb9f3a"
            ],
            [
             0.8888888888888888,
             "#fdca26"
            ],
            [
             1,
             "#f0f921"
            ]
           ]
          },
          "colorway": [
           "#636efa",
           "#EF553B",
           "#00cc96",
           "#ab63fa",
           "#FFA15A",
           "#19d3f3",
           "#FF6692",
           "#B6E880",
           "#FF97FF",
           "#FECB52"
          ],
          "font": {
           "color": "#2a3f5f"
          },
          "geo": {
           "bgcolor": "white",
           "lakecolor": "white",
           "landcolor": "#E5ECF6",
           "showlakes": true,
           "showland": true,
           "subunitcolor": "white"
          },
          "hoverlabel": {
           "align": "left"
          },
          "hovermode": "closest",
          "mapbox": {
           "style": "light"
          },
          "paper_bgcolor": "white",
          "plot_bgcolor": "#E5ECF6",
          "polar": {
           "angularaxis": {
            "gridcolor": "white",
            "linecolor": "white",
            "ticks": ""
           },
           "bgcolor": "#E5ECF6",
           "radialaxis": {
            "gridcolor": "white",
            "linecolor": "white",
            "ticks": ""
           }
          },
          "scene": {
           "xaxis": {
            "backgroundcolor": "#E5ECF6",
            "gridcolor": "white",
            "gridwidth": 2,
            "linecolor": "white",
            "showbackground": true,
            "ticks": "",
            "zerolinecolor": "white"
           },
           "yaxis": {
            "backgroundcolor": "#E5ECF6",
            "gridcolor": "white",
            "gridwidth": 2,
            "linecolor": "white",
            "showbackground": true,
            "ticks": "",
            "zerolinecolor": "white"
           },
           "zaxis": {
            "backgroundcolor": "#E5ECF6",
            "gridcolor": "white",
            "gridwidth": 2,
            "linecolor": "white",
            "showbackground": true,
            "ticks": "",
            "zerolinecolor": "white"
           }
          },
          "shapedefaults": {
           "line": {
            "color": "#2a3f5f"
           }
          },
          "ternary": {
           "aaxis": {
            "gridcolor": "white",
            "linecolor": "white",
            "ticks": ""
           },
           "baxis": {
            "gridcolor": "white",
            "linecolor": "white",
            "ticks": ""
           },
           "bgcolor": "#E5ECF6",
           "caxis": {
            "gridcolor": "white",
            "linecolor": "white",
            "ticks": ""
           }
          },
          "title": {
           "x": 0.05
          },
          "xaxis": {
           "automargin": true,
           "gridcolor": "white",
           "linecolor": "white",
           "ticks": "",
           "title": {
            "standoff": 15
           },
           "zerolinecolor": "white",
           "zerolinewidth": 2
          },
          "yaxis": {
           "automargin": true,
           "gridcolor": "white",
           "linecolor": "white",
           "ticks": "",
           "title": {
            "standoff": 15
           },
           "zerolinecolor": "white",
           "zerolinewidth": 2
          }
         }
        },
        "width": 1200,
        "xaxis": {
         "anchor": "y",
         "domain": [
          0,
          1
         ],
         "title": {
          "text": "0"
         }
        },
        "yaxis": {
         "anchor": "x",
         "domain": [
          0,
          1
         ],
         "title": {
          "text": "1"
         }
        }
       }
      },
      "text/html": [
       "<div>                            <div id=\"88662791-4c17-47ce-a3f0-c9f39ecefe30\" class=\"plotly-graph-div\" style=\"height:600px; width:1200px;\"></div>            <script type=\"text/javascript\">                require([\"plotly\"], function(Plotly) {                    window.PLOTLYENV=window.PLOTLYENV || {};                                    if (document.getElementById(\"88662791-4c17-47ce-a3f0-c9f39ecefe30\")) {                    Plotly.newPlot(                        \"88662791-4c17-47ce-a3f0-c9f39ecefe30\",                        [{\"customdata\":[[\"MONGODB, INC.\",\"Prepackaged Software (mass reproduction of software)\"],[\"SALESFORCE COM INC\",\"Prepackaged Software (mass reproduction of software)\"],[\"SPLUNK INC\",\"Prepackaged Software (mass reproduction of software)\"],[\"OKTA, INC.\",\"Prepackaged Software (mass reproduction of software)\"],[\"VEEVA SYSTEMS INC\",\"Prepackaged Software (mass reproduction of software)\"],[\"AUTODESK INC\",\"Prepackaged Software (mass reproduction of software)\"],[\"ETERNAL SPEECH, INC.\",\"Prepackaged Software (mass reproduction of software)\"],[\"ETERNAL SPEECH, INC.\",\"Prepackaged Software (mass reproduction of software)\"],[\"MAJESCO\",\"Prepackaged Software (mass reproduction of software)\"],[\"DUO WORLD INC\",\"Prepackaged Software (mass reproduction of software)\"],[\"COMMVAULT SYSTEMS INC\",\"Prepackaged Software (mass reproduction of software)\"],[\"UPPERSOLUTION.COM\",\"Prepackaged Software (mass reproduction of software)\"],[\"ORACLE CORP\",\"Prepackaged Software (mass reproduction of software)\"],[\"SAVMOBI TECHNOLOGY INC.\",\"Prepackaged Software (mass reproduction of software)\"],[\"ZEDGE, INC.\",\"Prepackaged Software (mass reproduction of software)\"],[\"DESTINY MEDIA TECHNOLOGIES INC\",\"Prepackaged Software (mass reproduction of software)\"],[\"TRAQER CORP\",\"Prepackaged Software (mass reproduction of software)\"],[\"VISIBER57 CORP.\",\"Prepackaged Software (mass reproduction of software)\"],[\"GH CAPITAL INC.\",\"Prepackaged Software (mass reproduction of software)\"],[\"BRIDGELINE DIGITAL, INC.\",\"Prepackaged Software (mass reproduction of software)\"],[\"NUANCE COMMUNICATIONS, INC.\",\"Prepackaged Software (mass reproduction of software)\"],[\"DATAWATCH CORP\",\"Prepackaged Software (mass reproduction of software)\"],[\"POLARITYTE, INC.\",\"Prepackaged Software (mass reproduction of software)\"],[\"POLARITYTE, INC.\",\"Prepackaged Software (mass reproduction of software)\"],[\"VGRAB COMMUNICATIONS INC.\",\"Prepackaged Software (mass reproduction of software)\"],[\"VGRAB COMMUNICATIONS INC.\",\"Prepackaged Software (mass reproduction of software)\"],[\"ADAIAH DISTRIBUTION INC\",\"Prepackaged Software (mass reproduction of software)\"],[\"ADAIAH DISTRIBUTION INC\",\"Prepackaged Software (mass reproduction of software)\"],[\"PROGRESS SOFTWARE CORP /MA\",\"Prepackaged Software (mass reproduction of software)\"],[\"MEDICAL INFORMATION TECHNOLOGY, INC.\",\"Prepackaged Software (mass reproduction of software)\"],[\"SPS COMMERCE INC\",\"Prepackaged Software (mass reproduction of software)\"],[\"ALTERYX, INC.\",\"Prepackaged Software (mass reproduction of software)\"],[\"INTELLIGENT SYSTEMS CORP\",\"Prepackaged Software (mass reproduction of software)\"],[\"ALARM.COM HOLDINGS, INC.\",\"Prepackaged Software (mass reproduction of software)\"],[\"LIGHTNING GAMING, INC.\",\"Prepackaged Software (mass reproduction of software)\"],[\"ENDURANCE INTERNATIONAL GROUP HOLDINGS, INC.\",\"Prepackaged Software (mass reproduction of software)\"],[\"2U, INC.\",\"Prepackaged Software (mass reproduction of software)\"],[\"CISION LTD.\",\"Prepackaged Software (mass reproduction of software)\"],[\"BTCS INC.\",\"Prepackaged Software (mass reproduction of software)\"],[\"BTCS INC.\",\"Prepackaged Software (mass reproduction of software)\"],[\"BTCS INC.\",\"Prepackaged Software (mass reproduction of software)\"],[\"INTELLICHECK, INC.\",\"Prepackaged Software (mass reproduction of software)\"],[\"REALPAGE INC\",\"Prepackaged Software (mass reproduction of software)\"],[\"Q2 HOLDINGS, INC.\",\"Prepackaged Software (mass reproduction of software)\"],[\"MCORPCX, INC.\",\"Prepackaged Software (mass reproduction of software)\"],[\"QUALYS, INC.\",\"Prepackaged Software (mass reproduction of software)\"],[\"MEDICAL TRANSCRIPTION BILLING, CORP\",\"Prepackaged Software (mass reproduction of software)\"],[\"SMITH MICRO SOFTWARE INC\",\"Prepackaged Software (mass reproduction of software)\"],[\"SHOTSPOTTER, INC\",\"Prepackaged Software (mass reproduction of software)\"],[\"LONGWEN GROUP CORP.\",\"Prepackaged Software (mass reproduction of software)\"],[\"ELLIE MAE INC\",\"Prepackaged Software (mass reproduction of software)\"],[\"ROSETTA STONE INC\",\"Prepackaged Software (mass reproduction of software)\"],[\"BLACK KNIGHT, INC.\",\"Prepackaged Software (mass reproduction of software)\"],[\"MICROSTRATEGY INC\",\"Prepackaged Software (mass reproduction of software)\"],[\"EMR TECHNOLOGY SOLUTIONS, INC.\",\"Prepackaged Software (mass reproduction of software)\"],[\"PAYCOM SOFTWARE, INC.\",\"Prepackaged Software (mass reproduction of software)\"],[\"3D SYSTEMS CORP\",\"Prepackaged Software (mass reproduction of software)\"],[\"APPIAN CORP\",\"Prepackaged Software (mass reproduction of software)\"],[\"UPLAND SOFTWARE, INC.\",\"Prepackaged Software (mass reproduction of software)\"],[\"LIVEPERSON INC\",\"Prepackaged Software (mass reproduction of software)\"],[\"AWARE INC /MA/\",\"Prepackaged Software (mass reproduction of software)\"],[\"ULTIMATE SOFTWARE GROUP INC\",\"Prepackaged Software (mass reproduction of software)\"],[\"ANSYS INC\",\"Prepackaged Software (mass reproduction of software)\"],[\"AVID TECHNOLOGY, INC.\",\"Prepackaged Software (mass reproduction of software)\"],[\"NATIONAL INSTRUMENTS CORP\",\"Prepackaged Software (mass reproduction of software)\"],[\"INSPRO TECHNOLOGIES CORP\",\"Prepackaged Software (mass reproduction of software)\"],[\"QUMU CORP\",\"Prepackaged Software (mass reproduction of software)\"],[\"ACI WORLDWIDE, INC.\",\"Prepackaged Software (mass reproduction of software)\"],[\"SQUARE, INC.\",\"Prepackaged Software (mass reproduction of software)\"],[\"ALTAIR ENGINEERING INC.\",\"Prepackaged Software (mass reproduction of software)\"],[\"TALEND SA\",\"Prepackaged Software (mass reproduction of software)\"],[\"APPFOLIO INC\",\"Prepackaged Software (mass reproduction of software)\"],[\"GSE SYSTEMS INC\",\"Prepackaged Software (mass reproduction of software)\"],[\"IPSIDY INC.\",\"Prepackaged Software (mass reproduction of software)\"],[\"INTELLINETICS, INC.\",\"Prepackaged Software (mass reproduction of software)\"],[\"INTELLINETICS, INC.\",\"Prepackaged Software (mass reproduction of software)\"],[\"IIOT-OXYS, INC.\",\"Prepackaged Software (mass reproduction of software)\"],[\"NEWGIOCO GROUP, INC.\",\"Prepackaged Software (mass reproduction of software)\"],[\"WORKIVA INC\",\"Prepackaged Software (mass reproduction of software)\"],[\"TABLEAU SOFTWARE INC\",\"Prepackaged Software (mass reproduction of software)\"]],\"hovertemplate\":\"color=Prepackaged Software (mass reproduction of software)<br>0=%{x}<br>1=%{y}<br>name=%{customdata[0]}<br>industry=%{customdata[1]}<extra></extra>\",\"legendgroup\":\"Prepackaged Software (mass reproduction of software)\",\"marker\":{\"color\":\"#636efa\",\"symbol\":\"circle\"},\"mode\":\"markers\",\"name\":\"Prepackaged Software (mass reproduction of software)\",\"orientation\":\"v\",\"showlegend\":true,\"x\":[0.9990208358637881,0.2633929490367154,0.4213714880747349,0.8408999670994822,-0.3140208201394431,0.44383655552053347,0.24461226250361423,0.24461226250361423,-0.20375924508780566,0.4801317736447076,0.6024721863060573,1.083227477196859,0.20564790692239732,-0.12768301844822375,0.19780650724212548,0.7897911283159984,-0.731997896309612,0.24029833822227997,0.026291545807584214,0.035188012227532976,0.4667665149638161,0.36170397290799844,3.2356415564231007,3.2356415564231007,-0.62356803318602,-0.62356803318602,-0.5426275806806721,-0.5426275806806721,0.05191161409637732,0.25462932458032833,-0.2298874066982151,1.2692121452586895,-0.3791663600858667,0.5218016529842551,1.1741960469090127,0.4533003469873668,0.15417335647668987,0.8314784638744139,-0.24876054983537005,-0.24876054983537005,-0.24876054983537005,-0.030312161480506725,-2.0500915784564504,-0.15187135411876096,-0.08493199887058224,1.0063555006407017,-0.32681586002957835,0.9116805334072674,1.3084889970693634,-0.4241601416343725,-0.13988951933947186,0.2106649864258616,-2.4587979688709956,0.29215682032669776,1.6904793543459395,0.452594575577024,0.032315833123874496,0.694642416520192,0.21165735966537277,1.2294392904237899,0.6419844215954025,0.07496736614047288,-0.06833848315182355,0.8319369103405979,0.09182207738004337,-0.06660250053853613,0.10944637085090124,0.47448157021547815,0.8349961180047674,0.6694108767942818,0.8007467925060211,-1.8313201897097962,-0.5602114867184941,1.024831328653115,-0.4622542059932623,-0.4622542059932623,0.6345831175948949,0.600234783700404,0.6877975084980401,1.37883736165467],\"xaxis\":\"x\",\"y\":[-0.8081412816566874,-0.8345257152642801,-0.9700765223336082,-0.8349584304780017,-1.4491223650822667,-0.8291087381571366,-0.6564444769568664,-0.6564444769568664,-1.4772808231648307,-0.8436621621710368,-0.6037733682052067,-0.822847351788025,-0.6822871099987156,-1.2969781405974687,-0.6148601860706211,-0.6209653170908748,-0.5469737660782055,-0.7991990820882505,-0.7381839343312948,-1.0745791302711767,-0.8474335325568003,-0.782638638047285,0.7186052049033034,0.7186052049033034,-0.8312918096681027,-0.8312918096681027,-1.4404420980567163,-1.4404420980567163,-1.4007067926061612,-0.9206580960494465,-1.3435448176617706,-0.6158468582713007,-1.0684558342265948,-0.5971029612279671,-0.39101374414972484,-1.1430983085902577,-0.9202882177879063,-0.6623034574866224,-0.33559233141159106,-0.33559233141159106,-0.33559233141159106,-0.5568378607838663,-1.8501208886645504,-0.029377502638719237,-1.4583029439701816,-0.7153037548607409,-1.2803107380418126,-0.6688584209608508,-0.816923860347091,-1.0344425206787018,-0.6012655173964573,-1.0773188509214209,-0.6638984444533793,-1.0055651587218266,-0.1214693166150553,-1.1507639617057892,-0.7275566437884842,-0.728252837661469,-1.2170223268711178,-0.4665881214535821,-0.5270431896975827,-1.0960446868901346,-0.743875037400714,-0.693431907536249,-1.1125483107063003,-1.022816808230693,-1.3738391839202513,-0.12024514225010735,-0.24984636516954803,-0.8149718798574903,-0.7799434143802196,-1.7828937198938704,-1.5237741518649233,-0.40103468781074353,-0.869027645996581,-0.869027645996581,-0.8918554009256474,-0.8586002893788278,-0.45400445176672344,-0.7088864037110341],\"yaxis\":\"y\",\"type\":\"scatter\"},{\"customdata\":[[\"INTERNATIONAL WESTERN PETROLEUM, INC.\",\"Crude Petroleum and Natural Gas\"],[\"DAYBREAK OIL & GAS, INC.\",\"Crude Petroleum and Natural Gas\"],[\"GB SCIENCES INC\",\"Crude Petroleum and Natural Gas\"],[\"FREEDOM HOLDING CORP.\",\"Crude Petroleum and Natural Gas\"],[\"MEXCO ENERGY CORP\",\"Crude Petroleum and Natural Gas\"],[\"SUSTAINABLE PROJECTS GROUP INC.\",\"Crude Petroleum and Natural Gas\"],[\"AMERICAN ENERGY GROUP LTD\",\"Crude Petroleum and Natural Gas\"],[\"REDHAWK HOLDINGS CORP.\",\"Crude Petroleum and Natural Gas\"],[\"TIANCI INTERNATIONAL, INC.\",\"Crude Petroleum and Natural Gas\"],[\"AMAZING ENERGY OIL & GAS, CO.\",\"Crude Petroleum and Natural Gas\"],[\"ALTEX INDUSTRIES INC\",\"Crude Petroleum and Natural Gas\"],[\"BARNWELL INDUSTRIES INC\",\"Crude Petroleum and Natural Gas\"],[\"PANHANDLE OIL & GAS INC\",\"Crude Petroleum and Natural Gas\"],[\"ENERGY 11, L.P.\",\"Crude Petroleum and Natural Gas\"],[\"ABRAXAS PETROLEUM CORP\",\"Crude Petroleum and Natural Gas\"],[\"SEARS OIL & GAS\",\"Crude Petroleum and Natural Gas\"],[\"APACHE CORP\",\"Crude Petroleum and Natural Gas\"],[\"GULFPORT ENERGY CORP\",\"Crude Petroleum and Natural Gas\"],[\"CONTINENTAL RESOURCES, INC\",\"Crude Petroleum and Natural Gas\"],[\"ISRAMCO INC\",\"Crude Petroleum and Natural Gas\"],[\"CHAPARRAL ENERGY, INC.\",\"Crude Petroleum and Natural Gas\"],[\"WHITING PETROLEUM CORP\",\"Crude Petroleum and Natural Gas\"],[\"CONTANGO OIL & GAS CO\",\"Crude Petroleum and Natural Gas\"],[\"EARTHSTONE ENERGY INC\",\"Crude Petroleum and Natural Gas\"],[\"CLEAN COAL TECHNOLOGIES INC.\",\"Crude Petroleum and Natural Gas\"],[\"NORTHERN OIL & GAS, INC.\",\"Crude Petroleum and Natural Gas\"],[\"SRC ENERGY INC.\",\"Crude Petroleum and Natural Gas\"],[\"JONES ENERGY, INC.\",\"Crude Petroleum and Natural Gas\"],[\"GOODRICH PETROLEUM CORP\",\"Crude Petroleum and Natural Gas\"],[\"OCCIDENTAL PETROLEUM CORP /DE/\",\"Crude Petroleum and Natural Gas\"],[\"LONESTAR RESOURCES US INC.\",\"Crude Petroleum and Natural Gas\"],[\"NOBLE ENERGY INC\",\"Crude Petroleum and Natural Gas\"],[\"PIONEER NATURAL RESOURCES CO\",\"Crude Petroleum and Natural Gas\"],[\"BONANZA CREEK ENERGY, INC.\",\"Crude Petroleum and Natural Gas\"],[\"DEVON ENERGY CORP/DE\",\"Crude Petroleum and Natural Gas\"],[\"CALIFORNIA RESOURCES CORP\",\"Crude Petroleum and Natural Gas\"],[\"PARK PLACE ENERGY INC.\",\"Crude Petroleum and Natural Gas\"],[\"ANTERO RESOURCES CORP\",\"Crude Petroleum and Natural Gas\"],[\"LAREDO PETROLEUM, INC.\",\"Crude Petroleum and Natural Gas\"],[\"CIMAREX ENERGY CO\",\"Crude Petroleum and Natural Gas\"],[\"ALTA MESA HOLDINGS, LP\",\"Crude Petroleum and Natural Gas\"],[\"US ENERGY CORP\",\"Crude Petroleum and Natural Gas\"],[\"VICTORY ENERGY CORP\",\"Crude Petroleum and Natural Gas\"],[\"VICTORY ENERGY CORP\",\"Crude Petroleum and Natural Gas\"],[\"GRAN TIERRA ENERGY INC.\",\"Crude Petroleum and Natural Gas\"],[\"MIDSTATES PETROLEUM COMPANY, INC.\",\"Crude Petroleum and Natural Gas\"],[\"WILDHORSE RESOURCE DEVELOPMENT CORP\",\"Crude Petroleum and Natural Gas\"],[\"SM ENERGY CO\",\"Crude Petroleum and Natural Gas\"],[\"SANDRIDGE ENERGY INC\",\"Crude Petroleum and Natural Gas\"],[\"RING ENERGY, INC.\",\"Crude Petroleum and Natural Gas\"],[\"SANCHEZ ENERGY CORP\",\"Crude Petroleum and Natural Gas\"],[\"TETRA TECHNOLOGIES INC\",\"Crude Petroleum and Natural Gas\"],[\"RESERVE PETROLEUM CO\",\"Crude Petroleum and Natural Gas\"],[\"HESS MIDSTREAM PARTNERS LP\",\"Crude Petroleum and Natural Gas\"],[\"TORCHLIGHT ENERGY RESOURCES INC\",\"Crude Petroleum and Natural Gas\"],[\"LINN ENERGY, INC.\",\"Crude Petroleum and Natural Gas\"],[\"KOSMOS ENERGY LTD.\",\"Crude Petroleum and Natural Gas\"],[\"SILVERBOW RESOURCES, INC.\",\"Crude Petroleum and Natural Gas\"],[\"TELLURIAN INC. /DE/\",\"Crude Petroleum and Natural Gas\"],[\"DORCHESTER MINERALS, L.P.\",\"Crude Petroleum and Natural Gas\"],[\"MATADOR RESOURCES CO\",\"Crude Petroleum and Natural Gas\"],[\"PDC ENERGY, INC.\",\"Crude Petroleum and Natural Gas\"],[\"TEXAS SOUTH ENERGY, INC.\",\"Crude Petroleum and Natural Gas\"],[\"PEDEVCO CORP\",\"Crude Petroleum and Natural Gas\"],[\"VIPER ENERGY PARTNERS LP\",\"Crude Petroleum and Natural Gas\"],[\"ENERJEX RESOURCES, INC.\",\"Crude Petroleum and Natural Gas\"],[\"TENGASCO INC\",\"Crude Petroleum and Natural Gas\"],[\"KIMBELL ROYALTY PARTNERS, LP\",\"Crude Petroleum and Natural Gas\"],[\"CONCHO RESOURCES INC\",\"Crude Petroleum and Natural Gas\"],[\"APACHE OFFSHORE INVESTMENT PARTNERSHIP\",\"Crude Petroleum and Natural Gas\"],[\"EVERFLOW EASTERN PARTNERS LP\",\"Crude Petroleum and Natural Gas\"],[\"CHESAPEAKE ENERGY CORP\",\"Crude Petroleum and Natural Gas\"],[\"CARRIZO OIL & GAS INC\",\"Crude Petroleum and Natural Gas\"],[\"CALLON PETROLEUM CO\",\"Crude Petroleum and Natural Gas\"],[\"PENN VIRGINIA CORP\",\"Crude Petroleum and Natural Gas\"],[\"DIAMONDBACK ENERGY, INC.\",\"Crude Petroleum and Natural Gas\"],[\"COMSTOCK RESOURCES INC\",\"Crude Petroleum and Natural Gas\"],[\"DALA PETROLEUM CORP.\",\"Crude Petroleum and Natural Gas\"],[\"WPX ENERGY, INC.\",\"Crude Petroleum and Natural Gas\"],[\"LILIS ENERGY, INC.\",\"Crude Petroleum and Natural Gas\"]],\"hovertemplate\":\"color=Crude Petroleum and Natural Gas<br>0=%{x}<br>1=%{y}<br>name=%{customdata[0]}<br>industry=%{customdata[1]}<extra></extra>\",\"legendgroup\":\"Crude Petroleum and Natural Gas\",\"marker\":{\"color\":\"#EF553B\",\"symbol\":\"circle\"},\"mode\":\"markers\",\"name\":\"Crude Petroleum and Natural Gas\",\"orientation\":\"v\",\"showlegend\":true,\"x\":[-0.011016359999416544,0.08155386206843944,2.462099851337891,-0.28697004872949294,-0.12271166860608067,-0.09151559034040195,-0.39587715008798335,-0.7110852888687117,-0.42878612991982784,0.09617126229125686,-0.1871257906968486,-0.06893906122791099,0.005570572988258235,0.09464786606727274,0.03560184582774969,0.5109616399268468,0.06233808514145307,0.09054483600459116,0.031010922276035576,0.04953400784377289,-0.37438195034439525,-0.06708215011839007,0.29832478956419073,-0.12205889947896169,2.0458749271028576,-0.007289827711718093,0.008538084986114114,-0.16890359317694262,-0.40728408175738534,0.015602160189029022,0.04346074933256323,-0.6697155800154887,-0.12235821283873294,-0.008694633780533995,-0.26892732580488216,-0.8187277664172493,0.37637932658779616,-0.37870735777298353,-0.19456371198110567,-0.24210537742266366,-0.12575158790680216,-0.14160722720488364,-0.39324925398404675,-0.39324925398404675,-0.1114881135917915,-0.10621646148439282,-0.2322782700774762,0.004080862008604937,0.07361253698856135,0.0031906416194942226,-0.01212898211375629,0.5824285596818084,-0.1802782494833803,-0.35171787234631946,0.4728563072340267,-0.2597686182753997,-0.3073786948301735,0.01529033008039482,-0.003990228024909538,-0.10951741038078724,-0.06755645741309664,-0.3804617599000915,-0.03965219230720992,-0.12133498686550591,-0.17736654694695664,0.7300781038836445,-0.21177117435553786,0.10366216005670133,-0.07735142540926114,-0.4297678465119215,-0.05545683157331381,-0.1327344809355501,-0.17424894246612416,-0.35689033641190526,0.19005831479159993,-0.3264930509825914,-0.15374297521622832,-0.49303873936567116,-0.2202918945350306,-0.26926157012974444],\"xaxis\":\"x\",\"y\":[-2.159120773497067,-1.7237457683298263,0.22049976134949964,0.44969182300697924,-1.975553342998026,-0.8060442510236057,-0.6607071186145245,-1.2547921814557723,-1.3022603351080568,-2.1054540846714347,-0.7757140214177942,-2.148860305744213,-2.110554357354409,-2.132811624958826,-1.4056534129841551,-0.9777923260433907,-1.9602969318956849,-2.0884417777715027,-1.946252652773925,-2.128860574481513,-2.2571857899846526,-2.00373674540762,-0.6071135414581916,-2.053396171425369,-0.24667648998583172,-2.2074428675920177,-2.2172476340236114,-2.2467439393861803,-2.414468116824446,-2.0887852200639414,-2.0585670984181554,-2.14793886540128,-1.3950731530835287,-2.1551103063560535,-1.3217588865357903,-2.0005406215692845,-1.884173138008936,-2.0141086672474104,-2.151521457475432,-1.5677609992040142,-1.8355872026257285,-2.2769041615473316,-1.952916882470048,-1.952916882470048,-2.1781461216090756,-2.1514572500564344,-2.254809402369203,-1.3838597962533603,-2.0954654619943107,-2.1619866837558734,-2.128581695295441,-1.3498816223451227,-1.3058365881853564,-1.7879166308329313,-1.2780669237317865,-2.1986201117869726,-2.233787307584405,-2.0821756160994362,-2.0735639458158475,-2.0812744306600535,-2.199450076430899,-2.0351573298705055,-1.2088592796701596,-1.065504252675034,-2.109120199872637,-0.8847276181989782,-1.2454952442954512,-2.1656289620475957,-2.2338785495609907,-1.9174319652460148,-1.935139648253761,-2.0783890814081953,-2.0150631181858167,-2.1526162587121815,-1.4970149757729743,-2.3097952965978963,-2.164400248321141,-1.5349431506220133,-2.304473820164859,-2.251545039230996],\"yaxis\":\"y\",\"type\":\"scatter\"},{\"customdata\":[[\"ULURU INC.\",\"Pharmaceutical Preparations\"],[\"CHINA YCT INTERNATIONAL GROUP, INC.\",\"Pharmaceutical Preparations\"],[\"AXOVANT SCIENCES LTD.\",\"Pharmaceutical Preparations\"],[\"MYOVANT SCIENCES LTD.\",\"Pharmaceutical Preparations\"],[\"PRESTIGE BRANDS HOLDINGS, INC.\",\"Pharmaceutical Preparations\"],[\"HYPGEN INC\",\"Pharmaceutical Preparations\"],[\"HYPGEN INC\",\"Pharmaceutical Preparations\"],[\"DANDRIT BIOTECH USA, INC.\",\"Pharmaceutical Preparations\"],[\"REZOLUTE, INC.\",\"Pharmaceutical Preparations\"],[\"OPTEC INTERNATIONAL, INC.\",\"Pharmaceutical Preparations\"],[\"OPTEC INTERNATIONAL, INC.\",\"Pharmaceutical Preparations\"],[\"BIOVIE INC.\",\"Pharmaceutical Preparations\"],[\"ONCOSEC MEDICAL INC\",\"Pharmaceutical Preparations\"],[\"CANNABICS PHARMACEUTICALS INC.\",\"Pharmaceutical Preparations\"],[\"ORAMED PHARMACEUTICALS INC.\",\"Pharmaceutical Preparations\"],[\"ENTEST BIOMEDICAL, INC.\",\"Pharmaceutical Preparations\"],[\"MY CLOUDZ, INC.\",\"Pharmaceutical Preparations\"],[\"MY CLOUDZ, INC.\",\"Pharmaceutical Preparations\"],[\"ENANTA PHARMACEUTICALS INC\",\"Pharmaceutical Preparations\"],[\"CITIUS PHARMACEUTICALS, INC.\",\"Pharmaceutical Preparations\"],[\"STELLAR BIOTECHNOLOGIES, INC.\",\"Pharmaceutical Preparations\"],[\"REGEN BIOPHARMA INC\",\"Pharmaceutical Preparations\"],[\"REGEN BIOPHARMA INC\",\"Pharmaceutical Preparations\"],[\"ADVAXIS, INC.\",\"Pharmaceutical Preparations\"],[\"ORGENESIS INC.\",\"Pharmaceutical Preparations\"],[\"Q BIOMED INC.\",\"Pharmaceutical Preparations\"],[\"JOHNSON & JOHNSON\",\"Pharmaceutical Preparations\"],[\"BRISTOL MYERS SQUIBB CO\",\"Pharmaceutical Preparations\"],[\"VBI VACCINES INC/BC\",\"Pharmaceutical Preparations\"],[\"INTRA-CELLULAR THERAPIES, INC.\",\"Pharmaceutical Preparations\"],[\"ROCKET PHARMACEUTICALS, INC.\",\"Pharmaceutical Preparations\"],[\"ATLAS HOLDINGS, INC.\",\"Pharmaceutical Preparations\"],[\"NEMUS BIOSCIENCE, INC.\",\"Pharmaceutical Preparations\"],[\"NEMUS BIOSCIENCE, INC.\",\"Pharmaceutical Preparations\"],[\"OVASCIENCE, INC.\",\"Pharmaceutical Preparations\"],[\"CONCERT PHARMACEUTICALS, INC.\",\"Pharmaceutical Preparations\"],[\"AKCEA THERAPEUTICS, INC.\",\"Pharmaceutical Preparations\"],[\"ARQULE INC\",\"Pharmaceutical Preparations\"],[\"AXIM BIOTECHNOLOGIES, INC.\",\"Pharmaceutical Preparations\"],[\"GUARDION HEALTH SCIENCES, INC.\",\"Pharmaceutical Preparations\"],[\"RETROPHIN, INC.\",\"Pharmaceutical Preparations\"],[\"SYNDAX PHARMACEUTICALS INC\",\"Pharmaceutical Preparations\"],[\"FIBROGEN INC\",\"Pharmaceutical Preparations\"],[\"PROTOKINETIX, INC.\",\"Pharmaceutical Preparations\"],[\"PROGENICS PHARMACEUTICALS INC\",\"Pharmaceutical Preparations\"],[\"CHECKPOINT THERAPEUTICS, INC.\",\"Pharmaceutical Preparations\"],[\"PFENEX INC.\",\"Pharmaceutical Preparations\"],[\"PAIN THERAPEUTICS INC\",\"Pharmaceutical Preparations\"],[\"ZOMEDICA PHARMACEUTICALS CORP.\",\"Pharmaceutical Preparations\"],[\"ZOMEDICA PHARMACEUTICALS CORP.\",\"Pharmaceutical Preparations\"],[\"MOLECULAR TEMPLATES, INC.\",\"Pharmaceutical Preparations\"],[\"WAVE LIFE SCIENCES LTD.\",\"Pharmaceutical Preparations\"],[\"CYMABAY THERAPEUTICS, INC.\",\"Pharmaceutical Preparations\"],[\"AMICUS THERAPEUTICS INC\",\"Pharmaceutical Preparations\"],[\"EVOKE PHARMA INC\",\"Pharmaceutical Preparations\"],[\"CHEMBIO DIAGNOSTICS, INC.\",\"Pharmaceutical Preparations\"],[\"CARA THERAPEUTICS, INC.\",\"Pharmaceutical Preparations\"],[\"CYTOMX THERAPEUTICS, INC.\",\"Pharmaceutical Preparations\"],[\"XENCOR INC\",\"Pharmaceutical Preparations\"],[\"CATABASIS PHARMACEUTICALS INC\",\"Pharmaceutical Preparations\"],[\"SERES THERAPEUTICS, INC.\",\"Pharmaceutical Preparations\"],[\"EYEGATE PHARMACEUTICALS INC\",\"Pharmaceutical Preparations\"],[\"ARENA PHARMACEUTICALS INC\",\"Pharmaceutical Preparations\"],[\"ALEXION PHARMACEUTICALS INC\",\"Pharmaceutical Preparations\"],[\"MELINTA THERAPEUTICS, INC. /NEW/\",\"Pharmaceutical Preparations\"],[\"FIVE PRIME THERAPEUTICS INC\",\"Pharmaceutical Preparations\"],[\"LIXTE BIOTECHNOLOGY HOLDINGS, INC.\",\"Pharmaceutical Preparations\"],[\"ARATANA THERAPEUTICS, INC.\",\"Pharmaceutical Preparations\"],[\"CHIASMA, INC\",\"Pharmaceutical Preparations\"],[\"CELGENE CORP /DE/\",\"Pharmaceutical Preparations\"],[\"NEWLINK GENETICS CORP\",\"Pharmaceutical Preparations\"],[\"LIGAND PHARMACEUTICALS INC\",\"Pharmaceutical Preparations\"],[\"PORTOLA PHARMACEUTICALS INC\",\"Pharmaceutical Preparations\"],[\"PLX PHARMA INC.\",\"Pharmaceutical Preparations\"],[\"ARDELYX, INC.\",\"Pharmaceutical Preparations\"],[\"PROTAGONIST THERAPEUTICS, INC\",\"Pharmaceutical Preparations\"],[\"MOLECULIN BIOTECH, INC.\",\"Pharmaceutical Preparations\"],[\"IRONWOOD PHARMACEUTICALS INC\",\"Pharmaceutical Preparations\"],[\"FORTRESS BIOTECH, INC.\",\"Pharmaceutical Preparations\"],[\"SYNTHETIC BIOLOGICS, INC.\",\"Pharmaceutical Preparations\"],[\"OPTINOSE, INC.\",\"Pharmaceutical Preparations\"],[\"CORMEDIX INC.\",\"Pharmaceutical Preparations\"],[\"HEAT BIOLOGICS, INC.\",\"Pharmaceutical Preparations\"],[\"SUN BIOPHARMA, INC.\",\"Pharmaceutical Preparations\"],[\"BELLEROPHON THERAPEUTICS, INC.\",\"Pharmaceutical Preparations\"],[\"BIOSPECIFICS TECHNOLOGIES CORP\",\"Pharmaceutical Preparations\"],[\"ZOSANO PHARMA CORP\",\"Pharmaceutical Preparations\"],[\"CV SCIENCES, INC.\",\"Pharmaceutical Preparations\"],[\"LILLY ELI & CO\",\"Pharmaceutical Preparations\"],[\"SAREPTA THERAPEUTICS, INC.\",\"Pharmaceutical Preparations\"],[\"EXICURE, INC.\",\"Pharmaceutical Preparations\"],[\"OVID THERAPEUTICS INC.\",\"Pharmaceutical Preparations\"],[\"IMPRIMIS PHARMACEUTICALS, INC.\",\"Pharmaceutical Preparations\"],[\"IONIS PHARMACEUTICALS INC\",\"Pharmaceutical Preparations\"],[\"ONCOMED PHARMACEUTICALS INC\",\"Pharmaceutical Preparations\"],[\"TONIX PHARMACEUTICALS HOLDING CORP.\",\"Pharmaceutical Preparations\"],[\"TEVA PHARMACEUTICAL INDUSTRIES LTD\",\"Pharmaceutical Preparations\"],[\"RHYTHM PHARMACEUTICALS, INC.\",\"Pharmaceutical Preparations\"],[\"COCRYSTAL PHARMA, INC.\",\"Pharmaceutical Preparations\"],[\"REGENERON PHARMACEUTICALS INC\",\"Pharmaceutical Preparations\"],[\"ANI PHARMACEUTICALS INC\",\"Pharmaceutical Preparations\"],[\"CLEARSIDE BIOMEDICAL, INC.\",\"Pharmaceutical Preparations\"],[\"LIPOCINE INC.\",\"Pharmaceutical Preparations\"],[\"GALECTIN THERAPEUTICS INC\",\"Pharmaceutical Preparations\"],[\"STEMLINE THERAPEUTICS INC\",\"Pharmaceutical Preparations\"],[\"DOVA PHARMACEUTICALS, INC.\",\"Pharmaceutical Preparations\"],[\"ABBVIE INC.\",\"Pharmaceutical Preparations\"],[\"AKORN INC\",\"Pharmaceutical Preparations\"],[\"VALEANT PHARMACEUTICALS INTERNATIONAL, INC.\",\"Pharmaceutical Preparations\"],[\"INTELGENX TECHNOLOGIES CORP.\",\"Pharmaceutical Preparations\"],[\"PFIZER INC\",\"Pharmaceutical Preparations\"],[\"SKINVISIBLE INC\",\"Pharmaceutical Preparations\"],[\"TAPIMMUNE INC.\",\"Pharmaceutical Preparations\"],[\"THERAPEUTICSMD, INC.\",\"Pharmaceutical Preparations\"],[\"AQUINOX PHARMACEUTICALS, INC\",\"Pharmaceutical Preparations\"],[\"GLOBAL BLOOD THERAPEUTICS, INC.\",\"Pharmaceutical Preparations\"],[\"RIGEL PHARMACEUTICALS INC\",\"Pharmaceutical Preparations\"],[\"PARATEK PHARMACEUTICALS, INC.\",\"Pharmaceutical Preparations\"],[\"PERRIGO CO PLC\",\"Pharmaceutical Preparations\"],[\"ZAFGEN, INC.\",\"Pharmaceutical Preparations\"],[\"OPHTHOTECH CORP.\",\"Pharmaceutical Preparations\"],[\"ACHILLION PHARMACEUTICALS INC\",\"Pharmaceutical Preparations\"],[\"KEMPHARM, INC\",\"Pharmaceutical Preparations\"],[\"INTERCEPT PHARMACEUTICALS INC\",\"Pharmaceutical Preparations\"],[\"ULTRAGENYX PHARMACEUTICAL INC.\",\"Pharmaceutical Preparations\"],[\"EMERGENT BIOSOLUTIONS INC.\",\"Pharmaceutical Preparations\"],[\"ACER THERAPEUTICS INC.\",\"Pharmaceutical Preparations\"],[\"HERON THERAPEUTICS, INC. /DE/\",\"Pharmaceutical Preparations\"],[\"ADAMIS PHARMACEUTICALS CORP\",\"Pharmaceutical Preparations\"],[\"GT BIOPHARMA, INC.\",\"Pharmaceutical Preparations\"],[\"GT BIOPHARMA, INC.\",\"Pharmaceutical Preparations\"],[\"GT BIOPHARMA, INC.\",\"Pharmaceutical Preparations\"],[\"GT BIOPHARMA, INC.\",\"Pharmaceutical Preparations\"],[\"GT BIOPHARMA, INC.\",\"Pharmaceutical Preparations\"],[\"GT BIOPHARMA, INC.\",\"Pharmaceutical Preparations\"],[\"IMMUNOGEN INC\",\"Pharmaceutical Preparations\"],[\"PTC THERAPEUTICS, INC.\",\"Pharmaceutical Preparations\"],[\"MANNKIND CORP\",\"Pharmaceutical Preparations\"],[\"CARDAX, INC.\",\"Pharmaceutical Preparations\"],[\"SYROS PHARMACEUTICALS, INC.\",\"Pharmaceutical Preparations\"],[\"ADURO BIOTECH, INC.\",\"Pharmaceutical Preparations\"],[\"SIENNA BIOPHARMACEUTICALS, INC.\",\"Pharmaceutical Preparations\"],[\"ACHAOGEN INC\",\"Pharmaceutical Preparations\"],[\"UNITED CANNABIS CORP\",\"Pharmaceutical Preparations\"],[\"UNITED CANNABIS CORP\",\"Pharmaceutical Preparations\"],[\"RXI PHARMACEUTICALS CORP\",\"Pharmaceutical Preparations\"],[\"RXI PHARMACEUTICALS CORP\",\"Pharmaceutical Preparations\"],[\"RXI PHARMACEUTICALS CORP\",\"Pharmaceutical Preparations\"],[\"RXI PHARMACEUTICALS CORP\",\"Pharmaceutical Preparations\"],[\"SOLIGENIX, INC.\",\"Pharmaceutical Preparations\"],[\"XOMA CORP\",\"Pharmaceutical Preparations\"],[\"SIERRA ONCOLOGY, INC.\",\"Pharmaceutical Preparations\"],[\"ACTINIUM PHARMACEUTICALS, INC.\",\"Pharmaceutical Preparations\"],[\"ORAGENICS INC\",\"Pharmaceutical Preparations\"],[\"ATHERSYS, INC / NEW\",\"Pharmaceutical Preparations\"],[\"PULMATRIX, INC.\",\"Pharmaceutical Preparations\"],[\"ACADIA PHARMACEUTICALS INC\",\"Pharmaceutical Preparations\"],[\"TREVENA INC\",\"Pharmaceutical Preparations\"],[\"NATURES SUNSHINE PRODUCTS INC\",\"Pharmaceutical Preparations\"],[\"FLEXION THERAPEUTICS INC\",\"Pharmaceutical Preparations\"],[\"VERASTEM, INC.\",\"Pharmaceutical Preparations\"],[\"XENON PHARMACEUTICALS INC.\",\"Pharmaceutical Preparations\"],[\"SUNESIS PHARMACEUTICALS INC\",\"Pharmaceutical Preparations\"],[\"CORVUS PHARMACEUTICALS, INC.\",\"Pharmaceutical Preparations\"],[\"MERCK & CO., INC.\",\"Pharmaceutical Preparations\"],[\"STRONGBRIDGE BIOPHARMA PLC\",\"Pharmaceutical Preparations\"],[\"CATALYST PHARMACEUTICALS, INC.\",\"Pharmaceutical Preparations\"],[\"ASSEMBLY BIOSCIENCES, INC.\",\"Pharmaceutical Preparations\"],[\"APRICUS BIOSCIENCES, INC.\",\"Pharmaceutical Preparations\"],[\"CATALYST BIOSCIENCES, INC.\",\"Pharmaceutical Preparations\"],[\"MIRATI THERAPEUTICS, INC.\",\"Pharmaceutical Preparations\"],[\"MUSTANG BIO, INC.\",\"Pharmaceutical Preparations\"],[\"ACELRX PHARMACEUTICALS INC\",\"Pharmaceutical Preparations\"],[\"BLUEPRINT MEDICINES CORP\",\"Pharmaceutical Preparations\"],[\"ATHENEX, INC.\",\"Pharmaceutical Preparations\"],[\"ATHENEX, INC.\",\"Pharmaceutical Preparations\"],[\"RECRO PHARMA, INC.\",\"Pharmaceutical Preparations\"],[\"BIOHAVEN PHARMACEUTICAL HOLDING CO LTD.\",\"Pharmaceutical Preparations\"],[\"PROTHENA CORP PLC\",\"Pharmaceutical Preparations\"],[\"AVENUE THERAPEUTICS, INC.\",\"Pharmaceutical Preparations\"],[\"VTV THERAPEUTICS INC.\",\"Pharmaceutical Preparations\"],[\"ZYNERBA PHARMACEUTICALS, INC.\",\"Pharmaceutical Preparations\"],[\"BIOMARIN PHARMACEUTICAL INC\",\"Pharmaceutical Preparations\"],[\"KARYOPHARM THERAPEUTICS INC.\",\"Pharmaceutical Preparations\"],[\"LEXICON PHARMACEUTICALS, INC.\",\"Pharmaceutical Preparations\"],[\"ENDO INTERNATIONAL PLC\",\"Pharmaceutical Preparations\"],[\"PROPHASE LABS, INC.\",\"Pharmaceutical Preparations\"],[\"CELLECTAR BIOSCIENCES, INC.\",\"Pharmaceutical Preparations\"],[\"RITTER PHARMACEUTICALS INC\",\"Pharmaceutical Preparations\"],[\"MARINUS PHARMACEUTICALS INC\",\"Pharmaceutical Preparations\"],[\"CORCEPT THERAPEUTICS INC\",\"Pharmaceutical Preparations\"],[\"ALNYLAM PHARMACEUTICALS, INC.\",\"Pharmaceutical Preparations\"],[\"DARE BIOSCIENCE, INC.\",\"Pharmaceutical Preparations\"],[\"TELIGENT, INC.\",\"Pharmaceutical Preparations\"],[\"TELIGENT, INC.\",\"Pharmaceutical Preparations\"],[\"ACLARIS THERAPEUTICS, INC.\",\"Pharmaceutical Preparations\"],[\"VITAL THERAPIES INC\",\"Pharmaceutical Preparations\"],[\"DECIPHERA PHARMACEUTICALS, INC.\",\"Pharmaceutical Preparations\"],[\"CAPSTONE THERAPEUTICS CORP.\",\"Pharmaceutical Preparations\"],[\"PACIRA PHARMACEUTICALS, INC.\",\"Pharmaceutical Preparations\"],[\"UROGEN PHARMA LTD.\",\"Pharmaceutical Preparations\"],[\"FIBROCELL SCIENCE, INC.\",\"Pharmaceutical Preparations\"],[\"FLEX PHARMA, INC.\",\"Pharmaceutical Preparations\"],[\"BIODELIVERY SCIENCES INTERNATIONAL INC\",\"Pharmaceutical Preparations\"],[\"HORIZON PHARMA PLC\",\"Pharmaceutical Preparations\"],[\"MERRIMACK PHARMACEUTICALS INC\",\"Pharmaceutical Preparations\"],[\"CYCLACEL PHARMACEUTICALS, INC.\",\"Pharmaceutical Preparations\"],[\"ZOETIS INC.\",\"Pharmaceutical Preparations\"]],\"hovertemplate\":\"color=Pharmaceutical Preparations<br>0=%{x}<br>1=%{y}<br>name=%{customdata[0]}<br>industry=%{customdata[1]}<extra></extra>\",\"legendgroup\":\"Pharmaceutical Preparations\",\"marker\":{\"color\":\"#00cc96\",\"symbol\":\"circle\"},\"mode\":\"markers\",\"name\":\"Pharmaceutical Preparations\",\"orientation\":\"v\",\"showlegend\":true,\"x\":[1.7908186901404886,1.04842856077752,5.244782795286597,4.093085366795744,0.6159656824688952,1.275151634782319,1.275151634782319,4.891433821577179,3.2055263965478815,0.40851714222209,0.40851714222209,4.323478747304614,5.043622732762966,1.7555321404693722,4.760336823727878,-0.563782066404926,-0.32356865085987807,-0.32356865085987807,5.836282667357333,1.4157949715407052,2.77090287568168,0.04519229116169658,0.04519229116169658,4.3487114533434275,3.8315916579780236,4.501999502272968,0.43354755060984906,1.2821134573890172,4.033518371485869,4.8696885048586696,1.0485964070163694,1.573698055404979,4.937634862090006,4.937634862090006,5.357694893113865,3.876074805491826,2.0225308621672995,2.5218752185612723,3.1517580456730165,0.08731936352727998,5.196216047416212,5.684504289099977,4.3275433156075085,2.695879662355113,0.5714775806333628,4.380801192255778,4.432520250630029,3.280801771834039,3.3842698954782233,3.3842698954782233,5.235833192455948,5.484822122184713,2.249956151675806,3.401765985649941,4.659195092941705,3.295789011590081,2.7301532164097715,5.146815552252807,0.2337793359923079,2.0303731239458362,4.00369626368319,4.466554694126046,4.070954244278144,3.084125542173873,3.5158295529856125,-0.45028080289901073,4.92330294147821,2.053782246094331,5.1182842223762295,4.433588069676677,5.152755600465686,4.603511354649548,4.760978496047265,5.232347388904833,4.499525675932828,5.536660389707816,4.431878081456533,3.691168808287395,0.8048082439409726,4.4211253541617515,4.977357982620846,4.961728821603568,4.124819692638039,4.369129188020187,3.988699085185551,3.1013137562587283,2.8165696557526188,2.468852717217848,2.103062908728146,5.270155101643839,4.241110714714461,3.082992232162955,1.4961862122283232,2.136255727314262,5.1927974188702075,3.0467719740284775,3.0372215572213612,5.043130921263229,2.596808340313988,4.133410291969357,1.2874258341023603,5.36987010772094,3.612349212649637,4.507412481121615,5.114429848731493,3.483676172625316,3.044659781477708,0.59342419944203,1.512379857621682,3.7106282615619084,0.6685286397998156,1.176604134050558,5.364905067978196,3.9438097867324213,5.230664494938538,4.022735370508782,5.006201341102254,2.8843400988896644,0.5016827285717921,-0.2921193051851502,5.432531185745795,5.0662425252156575,5.519676611570656,3.731616881801753,2.8307123200465987,4.3742132017237925,4.185797153725103,2.3846612469499213,4.698829961724789,3.929995446182421,3.9299954461824216,3.9299954461824216,3.9299954461824216,3.9299954461824216,3.9299954461824216,5.220508495395286,3.5329920089228803,4.804777031654602,3.8290426872131356,5.718111059841494,5.484576215117552,5.28792186495018,5.017614406383108,1.3422668029066191,1.3422668029066191,4.328491839465719,4.328491839465719,4.328491839465719,4.328491839465719,3.935659146249988,1.7789699205631733,4.47799013851258,5.675075956999482,5.526225341284716,5.265173055881332,5.099805256950018,4.380195512981237,3.107164985073095,0.6321043381349833,4.12943572347705,3.9685756348106636,4.598673368404435,5.39853448719332,5.210490051691663,3.1178335466905036,5.731312151851505,5.333178845419804,2.543536920715446,5.292640411328031,5.493337561092028,5.565435137692008,5.1254643991199496,1.9505314693748876,4.64067364154383,5.00369553478837,5.00369553478837,5.078807717869145,5.088996256435547,3.3035941323895472,5.4025617583794014,3.842831648082093,4.779693900814406,2.78117014340205,4.4997960064100475,3.9568738941449646,2.6129449147371226,1.6401823901770805,2.8880900503167526,5.415653055360639,2.0434014211687788,4.450808608300703,4.8493675757289285,4.760594454321871,1.4868810793901897,1.4868810793901897,3.236783847272738,4.262078829446069,4.54848769539543,4.27648681933653,0.0015653756258796315,5.865782876374084,5.471118305551603,3.7400885311572662,4.759239256014748,3.42715708983864,5.443639880104999,5.004415982142539,-0.45913404829204296],\"xaxis\":\"x\",\"y\":[-0.16877905704419663,-0.4941908293043176,1.8927739306775546,1.2418693972523582,-0.9170205402466686,-0.44870210035769703,-0.44870210035769703,1.618312836933831,0.812905580944659,-0.721613614332778,-0.721613614332778,1.4229301204759384,1.7922877137891111,-0.3187863635094989,1.399777399747248,-1.2616287301342175,-1.1311475117565353,-1.1311475117565353,1.9811150720158952,-0.10602138964078726,0.3071537151325042,-1.1544379988595694,-1.1544379988595694,1.3986763940140141,0.8482685543823262,1.2731686644943787,-0.2741432646298527,-0.3957522988255489,1.0265386570254735,1.617729821054734,-0.2840877738726928,-0.22554020150284948,1.6092604381054136,1.6092604381054136,1.8859599137274952,1.1518456115835392,0.1868574452764291,0.5300149770425601,0.5500986595853256,-0.9329833462060979,1.69969967046705,2.0505356180448655,1.4555991160580806,0.20506462004852533,-0.7335177987841605,1.198370841061009,1.3703683691293551,0.8696341259230432,0.7894842143857514,0.7894842143857514,1.7202548083466715,1.8711761961834492,0.2603563640459142,0.8213878048558132,1.3150134124913684,0.5992340188990063,0.08182527084984255,1.7752226889976368,-0.7160646566791057,0.17422280605929102,1.1616841652565584,1.460386289292688,1.0698879840091635,0.780767638252043,0.68412657230271,-0.7399911986714607,1.67188720810576,-0.01698706250987195,1.7440031921255674,1.359247588576206,1.6672585455006945,1.548929263798201,1.4083924503347702,1.868758602592727,1.4381505020187637,1.9731162973195722,1.2155127817415368,0.9239946100221222,-1.0175369571972643,1.5090689242275237,1.756951272307476,1.57837025161332,1.32719871283413,1.149872702610765,1.3077549830574726,0.7305360891826943,0.4679338016548879,0.15097713333730461,0.1536271385228643,1.8821079891272254,1.3899701431616855,0.7971487866558765,-0.25641162866632095,0.2887787271284215,1.6945071153118445,0.6485397603862744,0.5085811276043251,1.7448871739871252,0.22502439358601922,1.0980675760839633,-0.5069533070988015,1.885036073325696,0.8811992575724084,1.5015814775210712,1.7152557274306164,0.6804214019860263,0.45164717524963977,-1.0173939224379447,-0.05717301009548457,0.8434281009418888,-0.6840383443319434,-0.35306102334529277,1.7805930955835265,0.9800424594335636,1.821657986445941,1.2721170456762023,1.5789379896060831,0.5092856405909867,-0.907897272680719,-1.5101057732052379,1.9062812273974934,1.815030458945622,1.8937656677116332,0.7627785499237993,0.6651322315468501,1.2522482704355007,0.942876705341837,0.42394432733813237,1.6077752531049059,1.1910310625319247,1.191031062531925,1.191031062531925,1.191031062531925,1.191031062531925,1.191031062531925,1.8512666125756791,0.9479794049455567,1.5432254401419332,0.9539228608019147,2.086873878385975,1.92543154823627,1.9296528210006343,1.5840080237962806,-0.5050998590680601,-0.5050998590680601,1.007418530067156,1.007418530067156,1.007418530067156,1.007418530067156,1.2029856282706628,-0.3972576796599638,1.4881869164223462,1.914326813831083,1.8982247831910075,1.6229918900325064,1.6354812274179469,1.3138284550947665,0.6962445037714328,-0.8634465205339803,1.1920749422606858,1.035805251952467,1.6103809467100947,1.9212916886096263,1.872735402753749,0.583968778456739,2.0137449513319887,1.7823866027006796,0.3989831949429787,1.8176987500029977,1.9212523261212529,2.023731952955003,1.6389213602187789,-0.0032556644278481667,1.5668940322023417,1.7595444102620243,1.7595444102620243,1.688658172537027,1.7910192466423978,0.8438533249679139,1.8110580696257996,1.2032410895325205,1.648834672482498,0.5634027737354144,1.3971632371545684,1.0068980537153012,0.20772975772610422,-0.4082924425094366,0.6338313457646446,1.763844975130097,0.27061855532007595,1.3043057652453067,1.615150919197959,1.5602077812161186,-0.34442976207575465,-0.34442976207575465,0.5544177826318709,1.2250068418113227,1.459938880557116,1.218692984678817,-0.6791668646431217,2.1492322365655663,2.0242992585639867,0.8711906860724414,1.3064039233397724,0.5306494358133759,1.9921710151410725,1.6372117977657463,-1.4320473259074515],\"yaxis\":\"y\",\"type\":\"scatter\"},{\"customdata\":[[\"INVESTORS REAL ESTATE TRUST\",\"Real Estate Investment Trusts\"],[\"BRT APARTMENTS CORP.\",\"Real Estate Investment Trusts\"],[\"MONMOUTH REAL ESTATE INVESTMENT CORP\",\"Real Estate Investment Trusts\"],[\"FIRST REAL ESTATE INVESTMENT TRUST OF NEW JERSEY\",\"Real Estate Investment Trusts\"],[\"FIRST REAL ESTATE INVESTMENT TRUST OF NEW JERSEY\",\"Real Estate Investment Trusts\"],[\"URSTADT BIDDLE PROPERTIES INC\",\"Real Estate Investment Trusts\"],[\"URSTADT BIDDLE PROPERTIES INC\",\"Real Estate Investment Trusts\"],[\"PHILLIPS EDISON & COMPANY, INC.\",\"Real Estate Investment Trusts\"],[\"SL GREEN REALTY CORP\",\"Real Estate Investment Trusts\"],[\"CUBESMART\",\"Real Estate Investment Trusts\"],[\"CIM COMMERCIAL TRUST CORP\",\"Real Estate Investment Trusts\"],[\"CERES TACTICAL SYSTEMATIC L.P.\",\"Real Estate Investment Trusts\"],[\"PS BUSINESS PARKS INC/CA\",\"Real Estate Investment Trusts\"],[\"STEADFAST INCOME REIT, INC.\",\"Real Estate Investment Trusts\"],[\"RETAIL OPPORTUNITY INVESTMENTS CORP\",\"Real Estate Investment Trusts\"],[\"MORGAN STANLEY SMITH BARNEY SPECTRUM SELECT LP\",\"Real Estate Investment Trusts\"],[\"NEW YORK MORTGAGE TRUST INC\",\"Real Estate Investment Trusts\"],[\"CBL & ASSOCIATES PROPERTIES INC\",\"Real Estate Investment Trusts\"],[\"LEXINGTON REALTY TRUST\",\"Real Estate Investment Trusts\"],[\"BRANDYWINE REALTY TRUST\",\"Real Estate Investment Trusts\"],[\"LAMAR ADVERTISING CO/NEW\",\"Real Estate Investment Trusts\"],[\"JBG SMITH PROPERTIES\",\"Real Estate Investment Trusts\"],[\"KBS REAL ESTATE INVESTMENT TRUST III, INC.\",\"Real Estate Investment Trusts\"],[\"CAPSTEAD MORTGAGE CORP\",\"Real Estate Investment Trusts\"],[\"GGP INC.\",\"Real Estate Investment Trusts\"],[\"QTS REALTY TRUST, INC.\",\"Real Estate Investment Trusts\"],[\"WELLS FARGO REAL ESTATE INVESTMENT CORP.\",\"Real Estate Investment Trusts\"],[\"LIGHTSTONE VALUE PLUS REAL ESTATE INVESTMENT TRUST V, INC.\",\"Real Estate Investment Trusts\"],[\"RESOURCE APARTMENT REIT III, INC.\",\"Real Estate Investment Trusts\"],[\"CNL HEALTHCARE PROPERTIES, INC.\",\"Real Estate Investment Trusts\"],[\"RETAIL PROPERTIES OF AMERICA, INC.\",\"Real Estate Investment Trusts\"],[\"BOSTON PROPERTIES INC\",\"Real Estate Investment Trusts\"],[\"REGENCY CENTERS CORP\",\"Real Estate Investment Trusts\"],[\"NATIONAL HEALTH INVESTORS INC\",\"Real Estate Investment Trusts\"],[\"DRIVE SHACK INC.\",\"Real Estate Investment Trusts\"],[\"COLE CREDIT PROPERTY TRUST V, INC.\",\"Real Estate Investment Trusts\"],[\"EQUITY RESIDENTIAL\",\"Real Estate Investment Trusts\"],[\"KITE REALTY GROUP TRUST\",\"Real Estate Investment Trusts\"],[\"OUTFRONT MEDIA INC.\",\"Real Estate Investment Trusts\"],[\"PENNSYLVANIA REAL ESTATE INVESTMENT TRUST\",\"Real Estate Investment Trusts\"],[\"COLE REAL ESTATE INCOME STRATEGY (DAILY NAV), INC.\",\"Real Estate Investment Trusts\"],[\"REALTY INCOME CORP\",\"Real Estate Investment Trusts\"],[\"GLOBAL MEDICAL REIT INC.\",\"Real Estate Investment Trusts\"],[\"PILLARSTONE CAPITAL REIT\",\"Real Estate Investment Trusts\"],[\"CLIPPER REALTY INC.\",\"Real Estate Investment Trusts\"],[\"BLACK CREEK INDUSTRIAL REIT IV INC.\",\"Real Estate Investment Trusts\"],[\"LIGHTSTONE VALUE PLUS REAL ESTATE INVESTMENT TRUST, INC.\",\"Real Estate Investment Trusts\"],[\"KKR REAL ESTATE FINANCE TRUST INC.\",\"Real Estate Investment Trusts\"],[\"GEO GROUP INC\",\"Real Estate Investment Trusts\"],[\"AMERICAN ASSETS TRUST, INC.\",\"Real Estate Investment Trusts\"],[\"IMPAC MORTGAGE HOLDINGS INC\",\"Real Estate Investment Trusts\"],[\"CNL HEALTHCARE PROPERTIES II, INC.\",\"Real Estate Investment Trusts\"],[\"ANWORTH MORTGAGE ASSET CORP\",\"Real Estate Investment Trusts\"],[\"LIGHTSTONE VALUE PLUS REAL ESTATE INVESTMENT TRUST III, INC.\",\"Real Estate Investment Trusts\"],[\"AMERICAN FINANCE TRUST, INC\",\"Real Estate Investment Trusts\"],[\"EQUITY COMMONWEALTH\",\"Real Estate Investment Trusts\"],[\"FOUR CORNERS PROPERTY TRUST, INC.\",\"Real Estate Investment Trusts\"],[\"RAYONIER INC\",\"Real Estate Investment Trusts\"],[\"HOST HOTELS & RESORTS, INC.\",\"Real Estate Investment Trusts\"],[\"GAMING & LEISURE PROPERTIES, INC.\",\"Real Estate Investment Trusts\"],[\"NATIONAL RETAIL PROPERTIES, INC.\",\"Real Estate Investment Trusts\"],[\"SENIOR HOUSING PROPERTIES TRUST\",\"Real Estate Investment Trusts\"],[\"SUTHERLAND ASSET MANAGEMENT CORP\",\"Real Estate Investment Trusts\"],[\"TAUBMAN CENTERS INC\",\"Real Estate Investment Trusts\"],[\"RESOURCE REAL ESTATE OPPORTUNITY REIT, INC.\",\"Real Estate Investment Trusts\"],[\"TANGER FACTORY OUTLET CENTERS INC\",\"Real Estate Investment Trusts\"],[\"MFA FINANCIAL, INC.\",\"Real Estate Investment Trusts\"],[\"TERRA SECURED INCOME FUND 5, LLC\",\"Real Estate Investment Trusts\"],[\"SBA COMMUNICATIONS CORP\",\"Real Estate Investment Trusts\"],[\"LIGHTSTONE VALUE PLUS REAL ESTATE INVESTMENT TRUST II INC\",\"Real Estate Investment Trusts\"],[\"JONES LANG LASALLE INCOME PROPERTY TRUST, INC.\",\"Real Estate Investment Trusts\"],[\"AVALONBAY COMMUNITIES INC\",\"Real Estate Investment Trusts\"],[\"ARES COMMERCIAL REAL ESTATE CORP\",\"Real Estate Investment Trusts\"],[\"CARTER VALIDUS MISSION CRITICAL REIT II, INC.\",\"Real Estate Investment Trusts\"],[\"PHYSICIANS REALTY TRUST\",\"Real Estate Investment Trusts\"],[\"PROLOGIS, INC.\",\"Real Estate Investment Trusts\"],[\"ARMOUR RESIDENTIAL REIT, INC.\",\"Real Estate Investment Trusts\"],[\"CHERRY HILL MORTGAGE INVESTMENT CORP\",\"Real Estate Investment Trusts\"],[\"EMPIRE STATE REALTY TRUST, INC.\",\"Real Estate Investment Trusts\"],[\"PUBLIC STORAGE\",\"Real Estate Investment Trusts\"],[\"APARTMENT INVESTMENT & MANAGEMENT CO\",\"Real Estate Investment Trusts\"],[\"CEDAR REALTY TRUST, INC.\",\"Real Estate Investment Trusts\"],[\"HIGHLANDS REIT, INC.\",\"Real Estate Investment Trusts\"],[\"IRON MOUNTAIN INC\",\"Real Estate Investment Trusts\"],[\"SOTHERLY HOTELS INC.\",\"Real Estate Investment Trusts\"],[\"EMPIRE STATE REALTY OP, L.P.\",\"Real Estate Investment Trusts\"],[\"ESSEX PROPERTY TRUST INC\",\"Real Estate Investment Trusts\"],[\"WEINGARTEN REALTY INVESTORS /TX/\",\"Real Estate Investment Trusts\"],[\"CONDOR HOSPITALITY TRUST, INC.\",\"Real Estate Investment Trusts\"],[\"CITY OFFICE REIT, INC.\",\"Real Estate Investment Trusts\"],[\"BENEFIT STREET PARTNERS REALTY TRUST, INC.\",\"Real Estate Investment Trusts\"],[\"LIGHTSTONE REAL ESTATE INCOME TRUST INC.\",\"Real Estate Investment Trusts\"],[\"AMERICAN CAMPUS COMMUNITIES INC\",\"Real Estate Investment Trusts\"],[\"STARWOOD PROPERTY TRUST, INC.\",\"Real Estate Investment Trusts\"],[\"CORESITE REALTY CORP\",\"Real Estate Investment Trusts\"],[\"POTLATCH CORP\",\"Real Estate Investment Trusts\"],[\"CORPORATE OFFICE PROPERTIES TRUST\",\"Real Estate Investment Trusts\"],[\"RAMCO GERSHENSON PROPERTIES TRUST\",\"Real Estate Investment Trusts\"],[\"NATIONAL STORAGE AFFILIATES TRUST\",\"Real Estate Investment Trusts\"],[\"HERSHA HOSPITALITY TRUST\",\"Real Estate Investment Trusts\"],[\"JERNIGAN CAPITAL, INC.\",\"Real Estate Investment Trusts\"],[\"VORNADO REALTY TRUST\",\"Real Estate Investment Trusts\"],[\"ISTAR INC.\",\"Real Estate Investment Trusts\"],[\"ALEXANDER & BALDWIN, INC.\",\"Real Estate Investment Trusts\"],[\"HOSPITALITY INVESTORS TRUST, INC.\",\"Real Estate Investment Trusts\"],[\"SAUL CENTERS INC\",\"Real Estate Investment Trusts\"],[\"KBS GROWTH & INCOME REIT, INC.\",\"Real Estate Investment Trusts\"],[\"EXTRA SPACE STORAGE INC.\",\"Real Estate Investment Trusts\"],[\"CHESAPEAKE LODGING TRUST\",\"Real Estate Investment Trusts\"],[\"LTC PROPERTIES INC\",\"Real Estate Investment Trusts\"],[\"EASTERLY GOVERNMENT PROPERTIES, INC.\",\"Real Estate Investment Trusts\"],[\"PLYMOUTH INDUSTRIAL REIT INC.\",\"Real Estate Investment Trusts\"],[\"FRANKLIN STREET PROPERTIES CORP /MA/\",\"Real Estate Investment Trusts\"],[\"HEALTHCARE TRUST OF AMERICA, INC.\",\"Real Estate Investment Trusts\"],[\"REALSOURCE RESIDENTIAL, INC\",\"Real Estate Investment Trusts\"],[\"CARTER VALIDUS MISSION CRITICAL REIT, INC.\",\"Real Estate Investment Trusts\"],[\"SUN COMMUNITIES INC\",\"Real Estate Investment Trusts\"],[\"FIRST EQUITY PROPERTIES INC\",\"Real Estate Investment Trusts\"],[\"MID AMERICA APARTMENT COMMUNITIES INC\",\"Real Estate Investment Trusts\"],[\"BROOKFIELD DTLA FUND OFFICE TRUST INVESTOR INC.\",\"Real Estate Investment Trusts\"],[\"ANNALY CAPITAL MANAGEMENT INC\",\"Real Estate Investment Trusts\"],[\"WHEELER REAL ESTATE INVESTMENT TRUST, INC.\",\"Real Estate Investment Trusts\"],[\"ALEXANDRIA REAL ESTATE EQUITIES INC\",\"Real Estate Investment Trusts\"],[\"HIGHWOODS PROPERTIES INC\",\"Real Estate Investment Trusts\"],[\"KIMCO REALTY CORP\",\"Real Estate Investment Trusts\"],[\"INDEPENDENCE REALTY TRUST, INC.\",\"Real Estate Investment Trusts\"],[\"PREFERRED APARTMENT COMMUNITIES INC\",\"Real Estate Investment Trusts\"],[\"ELLINGTON RESIDENTIAL MORTGAGE REIT\",\"Real Estate Investment Trusts\"],[\"CORECIVIC, INC.\",\"Real Estate Investment Trusts\"],[\"ASHFORD HOSPITALITY PRIME, INC.\",\"Real Estate Investment Trusts\"],[\"LIFE STORAGE, INC.\",\"Real Estate Investment Trusts\"],[\"HEALTHCARE REALTY TRUST INC\",\"Real Estate Investment Trusts\"],[\"WINTHROP REALTY LIQUIDATING TRUST\",\"Real Estate Investment Trusts\"],[\"CORENERGY INFRASTRUCTURE TRUST, INC.\",\"Real Estate Investment Trusts\"],[\"KBS STRATEGIC OPPORTUNITY REIT II, INC.\",\"Real Estate Investment Trusts\"],[\"PEBBLEBROOK HOTEL TRUST\",\"Real Estate Investment Trusts\"],[\"SABRA HEALTH CARE REIT, INC.\",\"Real Estate Investment Trusts\"],[\"POWER REIT\",\"Real Estate Investment Trusts\"],[\"DYNEX CAPITAL INC\",\"Real Estate Investment Trusts\"],[\"DIGITAL REALTY TRUST, INC.\",\"Real Estate Investment Trusts\"],[\"STRATEGIC REALTY TRUST, INC.\",\"Real Estate Investment Trusts\"],[\"COLE OFFICE & INDUSTRIAL REIT (CCIT III), INC.\",\"Real Estate Investment Trusts\"],[\"HEALTHCARE TRUST, INC.\",\"Real Estate Investment Trusts\"],[\"LADDER CAPITAL CORP\",\"Real Estate Investment Trusts\"],[\"CROWN CASTLE INTERNATIONAL CORP\",\"Real Estate Investment Trusts\"],[\"HOWARD HUGHES CORP\",\"Real Estate Investment Trusts\"],[\"ALEXANDERS INC\",\"Real Estate Investment Trusts\"],[\"MANHATTAN BRIDGE CAPITAL, INC\",\"Real Estate Investment Trusts\"],[\"INLAND REAL ESTATE INCOME TRUST, INC.\",\"Real Estate Investment Trusts\"],[\"INLAND RESIDENTIAL PROPERTIES TRUST, INC.\",\"Real Estate Investment Trusts\"],[\"INLAND RESIDENTIAL PROPERTIES TRUST, INC.\",\"Real Estate Investment Trusts\"],[\"KBS REAL ESTATE INVESTMENT TRUST II, INC.\",\"Real Estate Investment Trusts\"],[\"RESOURCE REAL ESTATE OPPORTUNITY REIT II, INC.\",\"Real Estate Investment Trusts\"],[\"STEADFAST APARTMENT REIT III, INC.\",\"Real Estate Investment Trusts\"],[\"ACADIA REALTY TRUST\",\"Real Estate Investment Trusts\"],[\"HMG COURTLAND PROPERTIES INC\",\"Real Estate Investment Trusts\"],[\"COLE CREDIT PROPERTY TRUST IV, INC.\",\"Real Estate Investment Trusts\"],[\"FIVE OAKS INVESTMENT CORP.\",\"Real Estate Investment Trusts\"],[\"NEXPOINT RESIDENTIAL TRUST, INC.\",\"Real Estate Investment Trusts\"],[\"TWO HARBORS INVESTMENT CORP.\",\"Real Estate Investment Trusts\"],[\"WASHINGTON PRIME GROUP INC.\",\"Real Estate Investment Trusts\"],[\"TIER REIT INC\",\"Real Estate Investment Trusts\"],[\"GRANITE POINT MORTGAGE TRUST INC.\",\"Real Estate Investment Trusts\"],[\"GREAT AJAX CORP.\",\"Real Estate Investment Trusts\"],[\"DUKE REALTY CORP\",\"Real Estate Investment Trusts\"],[\"EASTGROUP PROPERTIES INC\",\"Real Estate Investment Trusts\"],[\"STEADFAST APARTMENT REIT, INC.\",\"Real Estate Investment Trusts\"],[\"RECKSON OPERATING PARTNERSHIP LP\",\"Real Estate Investment Trusts\"],[\"GLOBAL NET LEASE, INC.\",\"Real Estate Investment Trusts\"],[\"KBS STRATEGIC OPPORTUNITY REIT, INC.\",\"Real Estate Investment Trusts\"],[\"WHITESTONE REIT\",\"Real Estate Investment Trusts\"],[\"GRIFFIN CAPITAL ESSENTIAL ASSET REIT II, INC.\",\"Real Estate Investment Trusts\"],[\"UDR, INC.\",\"Real Estate Investment Trusts\"],[\"COMMUNITY HEALTHCARE TRUST INC\",\"Real Estate Investment Trusts\"],[\"VENTAS INC\",\"Real Estate Investment Trusts\"],[\"OWENS REALTY MORTGAGE, INC.\",\"Real Estate Investment Trusts\"],[\"KILROY REALTY CORP\",\"Real Estate Investment Trusts\"],[\"SUMMIT HOTEL PROPERTIES, INC.\",\"Real Estate Investment Trusts\"],[\"CORPORATE PROPERTY ASSOCIATES 18 GLOBAL INC\",\"Real Estate Investment Trusts\"],[\"CYRUSONE INC.\",\"Real Estate Investment Trusts\"],[\"COLONY NORTHSTAR, INC.\",\"Real Estate Investment Trusts\"],[\"FEDERAL REALTY INVESTMENT TRUST\",\"Real Estate Investment Trusts\"],[\"NEW SENIOR INVESTMENT GROUP INC.\",\"Real Estate Investment Trusts\"],[\"RYMAN HOSPITALITY PROPERTIES, INC.\",\"Real Estate Investment Trusts\"],[\"BRIXMOR PROPERTY GROUP INC.\",\"Real Estate Investment Trusts\"],[\"COLE OFFICE & INDUSTRIAL REIT (CCIT II), INC.\",\"Real Estate Investment Trusts\"],[\"OMEGA HEALTHCARE INVESTORS INC\",\"Real Estate Investment Trusts\"],[\"REVEN HOUSING REIT, INC.\",\"Real Estate Investment Trusts\"],[\"AMERICAN REALTY CAPITAL NEW YORK CITY REIT, INC.\",\"Real Estate Investment Trusts\"],[\"STAG INDUSTRIAL, INC.\",\"Real Estate Investment Trusts\"],[\"EQUINIX INC\",\"Real Estate Investment Trusts\"]],\"hovertemplate\":\"color=Real Estate Investment Trusts<br>0=%{x}<br>1=%{y}<br>name=%{customdata[0]}<br>industry=%{customdata[1]}<extra></extra>\",\"legendgroup\":\"Real Estate Investment Trusts\",\"marker\":{\"color\":\"#ab63fa\",\"symbol\":\"circle\"},\"mode\":\"markers\",\"name\":\"Real Estate Investment Trusts\",\"orientation\":\"v\",\"showlegend\":true,\"x\":[-1.9422746133043758,-1.5528748687666656,-1.6701301272280018,-1.5521577710041756,-1.5521577710041756,-2.3040621018943814,-2.3040621018943814,-1.7720065213379383,-1.8396780241278887,-1.1684284079654612,-2.323978747436547,-0.12886668328603343,-1.7482481339630347,-1.726264787564086,-1.3374947444836016,-0.07766674207577869,-1.554939087297689,-1.4045462908136652,-1.9855835427176152,-2.7816686810838616,-0.7182570482601394,-2.1040976531916793,-2.7993718937731233,-1.6924349700581518,-1.6549824071176806,-0.21590618479934995,-2.8324219687760843,-2.315485189076028,-1.9500663279389472,-1.2657694863033557,-0.9171584520856129,-0.6028196970002644,-1.3845962634899789,-2.065628958284688,-0.8890035786309396,-2.4978434271699284,-1.4145449305605986,-1.3449839047710364,-0.48851693617684,-2.1456463888313775,-2.6052598175664268,-1.9971222594511067,-0.8776339802828975,-2.0582505649402227,-1.9326064790749544,-2.507770322359339,-0.31547236610649365,-3.07316852563126,-0.33424363761407627,-2.482141574031448,-2.2652915449770212,-1.6848305202334064,-1.483340350510652,-0.31547236610649365,-1.993432552658994,-1.6574768197675058,-2.0228156678699087,-1.578142759280447,-1.3902459747414773,-1.4332913646152865,-2.469019082322505,-0.9740004601246386,-2.43369124092769,-1.0563086399372672,-2.685016991366706,-1.306307296008991,-1.7955952633938106,-2.1067822799896683,-0.9960158052104764,-0.31547236610649365,-2.219334461418308,-2.3670782413145677,-2.278487894943383,-2.1340266565192754,-1.14833041689865,-2.23915509962554,-1.8387101729691213,-1.5646979865689297,-1.7555895017756131,-0.17423475660104915,-1.3521529087454376,-1.790667824042401,-2.031590908827749,0.0787761995268612,-0.842425357302435,-1.7315632688479052,-1.8399326003014134,-1.9625616449639922,-1.165065539688238,-1.7136943131316225,-2.487228155936464,-0.31547236610649365,-1.4434866451209134,-2.909454505059886,-0.23884176699288176,-2.091447819308084,-1.093117894311844,-0.6035298352281232,-1.4343847022112926,-1.5036319454860763,-1.3899522793638215,-1.2232640029045978,-2.722248475937272,-2.088577010679119,-1.6113143722583647,-1.221094266847604,-2.5306573165210087,-1.3590737869795553,-0.9592746393009457,-0.5794542378182787,-0.8399238796111921,-1.6921723112402614,-2.3343224978609562,-0.837052926013805,-0.6028650938884581,-2.477122113771864,-0.20012276550688105,-1.845101021331675,-2.055040677409007,-1.1100718033462025,-0.42860149504764694,-1.6466319107640144,-2.220042949341087,-0.57217223460554,-1.8883292254444848,-1.8577036076930586,-2.5528785336321764,-1.5528325830507157,-1.4501540964014081,-0.6631894908755829,-1.6347168366418956,-0.9706625191515964,-1.3331722608392031,-1.562332779452533,-2.294581997544777,-0.6221622836983549,-2.335621527834373,-1.7678069771859772,-1.7069041856253526,-0.40401309559774057,-2.1468024337863447,-2.4695264936528507,-0.8324071167746485,-2.55353592138804,-0.9020117762271342,-2.5931875295910536,-0.7249444941420042,-2.670747728991888,-2.5080016438955597,-2.2972571998014772,-2.2972571998014772,-2.6554229346066665,-2.7543178054570943,-0.8190191306218173,-1.9392053299592313,-0.3145520060254937,-2.5866519466596096,-2.8123886313659474,-2.3778210647278284,-2.342748986094696,-1.7503281808321567,-0.33287191553217005,-2.466828117651659,-2.1649979456094246,-0.7967544897335805,-0.6390980555843835,-1.9662650110668278,-1.3124357401998383,-2.16486655072404,-2.6781879781982605,-2.4119658857857944,-1.8776891791224029,-2.2149155249175454,-2.023784668253827,-1.8201585080166314,-2.269269128598966,-1.8360998549848901,-0.9644339806142987,-1.292648368576723,-0.37911486374711545,-2.568490569889699,-2.054393841144992,-1.3021480563862464,-0.5924972160559067,-1.1639176839662064,-2.5450232612435832,-0.6127767625706672,-2.2371276577728514,-2.6656301678596637,-1.1016611619225476,0.060492076295895286],\"xaxis\":\"x\",\"y\":[-2.117430489564738,-1.871321980203611,-1.987776592457999,-1.2298713037314988,-1.2298713037314988,-2.172539223424285,-2.172539223424285,-2.2919621672175667,-2.1253677912254654,-2.145680877986963,-2.4343551903315763,-1.1495601944760183,-2.177671730863275,-2.418059892978109,-1.994712106454224,-1.0423589929908688,-0.9514101063477137,-2.070702708717413,-2.1443168634984597,-2.239717284250358,-1.497045885242626,-2.1181118220349964,-2.3375540459705615,-1.2966395767481818,-2.0505345762930047,-1.1574182517907126,-1.0175866147466022,-2.493398160327001,-2.36477667016618,-2.1484759537169613,-1.9793350338089755,-1.3839415702765379,-1.7692868329475047,-1.7387531857533054,-1.7080707622610243,-2.4089156865058796,-1.8832507114819426,-1.935512827754847,-1.7282658674193074,-1.9938235651805654,-2.337966193012758,-1.9867881549107378,-1.7928414855109285,-2.0787180155566465,-2.515018830704507,-2.6591858973465023,-0.5914040973371343,-1.9317567321809221,-1.4431206992705523,-2.3347016163462015,-1.249610256829081,-2.332666825800559,-1.320910349571575,-0.5914040973371343,-2.3903794718841627,-1.9336980759660836,-2.339368361607599,-1.7063049324385882,-2.0209367846155786,-1.6844870017060025,-2.1151429559960735,-1.6638530481909029,-1.247162797277311,-1.7863360295553832,-2.366542808020534,-1.6489035911405179,-0.5947010441813585,-1.4143211975667205,-1.7488115568149496,-0.5914040973371344,-2.0648404731002006,-2.3640480577646867,-1.7638068833937006,-2.3228531935443515,-1.4515483086113028,-1.902374831606696,-2.1572978127398788,-1.3665667260041374,-2.3062887678989066,-1.2110551754098207,-2.099236610614197,-2.2323268291899923,-2.257032291389077,-1.136613079595216,-1.8740392324197575,-2.223019953562412,-2.2104265879889633,-2.057954098380551,-2.1563993269342485,-1.8796877751433796,-1.31860399633895,-0.5914040973371343,-1.9622819700903555,-1.6837831491979895,-1.1610529021685976,-1.793785204372161,-1.739892928489706,-1.7570190625398545,-2.3039380545232375,-2.2894900898024253,-1.7920760561060152,-2.000992673795328,-1.7379575604307957,-1.9232788567145565,-2.20694917213377,-1.7823420952078415,-2.2887835830072247,-2.2731903608478135,-1.733380507471456,-1.08708720639068,-2.029868868368289,-2.1993432199308423,-1.873379354074202,-1.7252309799525578,-1.4184196172061174,-2.4702243869950054,-1.1744401931341026,-1.8846716337952052,-2.4634230678347673,-1.8739761576906708,-1.2551765054057187,-2.0978054676786444,-2.168051653953527,-0.9024098515612446,-1.7319811775218514,-2.302229824079551,-2.371045062848025,-1.1647087250423427,-1.8898687702124874,-1.6443736547833847,-2.1538265257495603,-1.4757326346212378,-1.8150860028299804,-1.9496579955588216,-2.4735407819626003,-1.927585624497407,-1.956344481492153,-1.7358215040094134,-0.9167534483970865,-1.2154644648100605,-2.549746440066056,-2.4810498972816917,-1.460806946547388,-1.2203402402528625,-1.7834663220051648,-2.186798231121425,-1.6210743693160707,-1.7269805574737873,-2.438453578641356,-2.4149241185903008,-2.4149241185903008,-2.426323107922492,-2.293779455357907,-1.7604736608972607,-1.6656136861594324,-0.8365241804787268,-2.4630660549281416,-1.6298883798698927,-2.4000714724195493,-1.2177523735780766,-1.879168650184029,-1.4693998087898301,-1.493791637850512,-1.7110233272115152,-1.31907928058673,-1.5938355855190105,-2.4030455481104536,-2.2769089050108366,-2.411866700356032,-2.3305266196582606,-2.1919639018638377,-2.3919958663985814,-2.64621023856104,-2.0573771842990007,-1.9594918856705559,-1.7692802567183241,-1.8275464155547636,-2.0271725036858523,-1.93231953766047,-1.2103167200761664,-1.6959349540309547,-2.279201834047547,-1.670697343047313,-1.7469785912774196,-2.214718103887089,-2.4438557296444774,-1.7161655157559397,-2.097631541653087,-2.328698418308594,-2.2483714323894968,-0.8988746105567815],\"yaxis\":\"y\",\"type\":\"scatter\"},{\"customdata\":[[\"TOMPKINS FINANCIAL CORP\",\"State Commercial Banks (commercial banking)\"],[\"TRIUMPH BANCORP, INC.\",\"State Commercial Banks (commercial banking)\"],[\"GREAT SOUTHERN BANCORP, INC.\",\"State Commercial Banks (commercial banking)\"],[\"SOUTH STATE CORP\",\"State Commercial Banks (commercial banking)\"],[\"OLD LINE BANCSHARES INC\",\"State Commercial Banks (commercial banking)\"],[\"SEACOAST BANKING CORP OF FLORIDA\",\"State Commercial Banks (commercial banking)\"],[\"CITIZENS FINANCIAL GROUP INC/RI\",\"State Commercial Banks (commercial banking)\"],[\"COMMUNITY WEST BANCSHARES /\",\"State Commercial Banks (commercial banking)\"],[\"MACKINAC FINANCIAL CORP /MI/\",\"State Commercial Banks (commercial banking)\"],[\"UNITY BANCORP INC /NJ/\",\"State Commercial Banks (commercial banking)\"],[\"UNITY BANCORP INC /NJ/\",\"State Commercial Banks (commercial banking)\"],[\"EAST WEST BANCORP INC\",\"State Commercial Banks (commercial banking)\"],[\"HEARTLAND FINANCIAL USA INC\",\"State Commercial Banks (commercial banking)\"],[\"COUNTY BANCORP, INC.\",\"State Commercial Banks (commercial banking)\"],[\"CHEMUNG FINANCIAL CORP\",\"State Commercial Banks (commercial banking)\"],[\"BRYN MAWR BANK CORP\",\"State Commercial Banks (commercial banking)\"],[\"EAGLE BANCORP MONTANA, INC.\",\"State Commercial Banks (commercial banking)\"],[\"1ST SOURCE CORP\",\"State Commercial Banks (commercial banking)\"],[\"SERVISFIRST BANCSHARES, INC.\",\"State Commercial Banks (commercial banking)\"],[\"SIERRA BANCORP\",\"State Commercial Banks (commercial banking)\"],[\"HOPFED BANCORP INC\",\"State Commercial Banks (commercial banking)\"],[\"HOPFED BANCORP INC\",\"State Commercial Banks (commercial banking)\"],[\"FIRST FINANCIAL BANKSHARES INC\",\"State Commercial Banks (commercial banking)\"],[\"CHEMICAL FINANCIAL CORP\",\"State Commercial Banks (commercial banking)\"],[\"SECURITY FEDERAL CORP\",\"State Commercial Banks (commercial banking)\"],[\"FIRST FINANCIAL CORP /IN/\",\"State Commercial Banks (commercial banking)\"],[\"WESTERN ALLIANCE BANCORPORATION\",\"State Commercial Banks (commercial banking)\"],[\"TRISTATE CAPITAL HOLDINGS, INC.\",\"State Commercial Banks (commercial banking)\"],[\"UNION BANKSHARES CORP\",\"State Commercial Banks (commercial banking)\"],[\"CAROLINA TRUST BANCSHARES, INC.\",\"State Commercial Banks (commercial banking)\"],[\"COMMUNITY TRUST BANCORP INC /KY/\",\"State Commercial Banks (commercial banking)\"],[\"HILLS BANCORPORATION\",\"State Commercial Banks (commercial banking)\"],[\"MACATAWA BANK CORP\",\"State Commercial Banks (commercial banking)\"],[\"PREMIER FINANCIAL BANCORP INC\",\"State Commercial Banks (commercial banking)\"],[\"KENTUCKY BANCSHARES INC /KY/\",\"State Commercial Banks (commercial banking)\"],[\"RIVER FINANCIAL CORP\",\"State Commercial Banks (commercial banking)\"],[\"BAR HARBOR BANKSHARES\",\"State Commercial Banks (commercial banking)\"],[\"PARKE BANCORP, INC.\",\"State Commercial Banks (commercial banking)\"],[\"RANDOLPH BANCORP, INC.\",\"State Commercial Banks (commercial banking)\"],[\"BANK OF HAWAII CORP\",\"State Commercial Banks (commercial banking)\"],[\"BSB BANCORP, INC.\",\"State Commercial Banks (commercial banking)\"],[\"INDEPENDENT BANK CORP /MI/\",\"State Commercial Banks (commercial banking)\"],[\"PACIFIC PREMIER BANCORP INC\",\"State Commercial Banks (commercial banking)\"],[\"OHIO VALLEY BANC CORP\",\"State Commercial Banks (commercial banking)\"],[\"CVB FINANCIAL CORP\",\"State Commercial Banks (commercial banking)\"],[\"BANK OF NEW YORK MELLON CORP\",\"State Commercial Banks (commercial banking)\"],[\"TWO RIVER BANCORP\",\"State Commercial Banks (commercial banking)\"],[\"STEWARDSHIP FINANCIAL CORP\",\"State Commercial Banks (commercial banking)\"],[\"LAKELAND FINANCIAL CORP\",\"State Commercial Banks (commercial banking)\"],[\"FAUQUIER BANKSHARES, INC.\",\"State Commercial Banks (commercial banking)\"],[\"LIVE OAK BANCSHARES, INC.\",\"State Commercial Banks (commercial banking)\"],[\"M&T BANK CORP\",\"State Commercial Banks (commercial banking)\"],[\"INTERNATIONAL BANCSHARES CORP\",\"State Commercial Banks (commercial banking)\"],[\"SUMMIT FINANCIAL GROUP INC\",\"State Commercial Banks (commercial banking)\"],[\"SUSSEX BANCORP\",\"State Commercial Banks (commercial banking)\"],[\"PRIME MERIDIAN HOLDING CO\",\"State Commercial Banks (commercial banking)\"],[\"BANKWELL FINANCIAL GROUP, INC.\",\"State Commercial Banks (commercial banking)\"],[\"SOUTHWEST GEORGIA FINANCIAL CORP\",\"State Commercial Banks (commercial banking)\"],[\"BANK OF COMMERCE HOLDINGS\",\"State Commercial Banks (commercial banking)\"],[\"BANK OF COMMERCE HOLDINGS\",\"State Commercial Banks (commercial banking)\"],[\"UNITED BANCORP INC /OH/\",\"State Commercial Banks (commercial banking)\"],[\"PARKWAY ACQUISITION CORP.\",\"State Commercial Banks (commercial banking)\"],[\"INVESTAR HOLDING CORP\",\"State Commercial Banks (commercial banking)\"],[\"RENASANT CORP\",\"State Commercial Banks (commercial banking)\"],[\"RELIANT BANCORP, INC.\",\"State Commercial Banks (commercial banking)\"],[\"FIRST COMMUNITY CORP /SC/\",\"State Commercial Banks (commercial banking)\"],[\"FIRST FINANCIAL NORTHWEST, INC.\",\"State Commercial Banks (commercial banking)\"],[\"COMMERCE BANCSHARES INC /MO/\",\"State Commercial Banks (commercial banking)\"],[\"JUNIATA VALLEY FINANCIAL CORP\",\"State Commercial Banks (commercial banking)\"],[\"HOWARD BANCORP INC\",\"State Commercial Banks (commercial banking)\"],[\"EAGLE FINANCIAL SERVICES INC\",\"State Commercial Banks (commercial banking)\"],[\"MVB FINANCIAL CORP\",\"State Commercial Banks (commercial banking)\"],[\"INDEPENDENT BANK GROUP, INC.\",\"State Commercial Banks (commercial banking)\"],[\"CONNECTONE BANCORP, INC.\",\"State Commercial Banks (commercial banking)\"],[\"REPUBLIC BANCORP INC /KY/\",\"State Commercial Banks (commercial banking)\"],[\"SOUTHSIDE BANCSHARES INC\",\"State Commercial Banks (commercial banking)\"],[\"FIRST HAWAIIAN, INC.\",\"State Commercial Banks (commercial banking)\"],[\"FIRST US BANCSHARES INC\",\"State Commercial Banks (commercial banking)\"],[\"COMMUNITY FINANCIAL CORP /MD/\",\"State Commercial Banks (commercial banking)\"],[\"BANNER CORP\",\"State Commercial Banks (commercial banking)\"],[\"SVB FINANCIAL GROUP\",\"State Commercial Banks (commercial banking)\"],[\"CATHAY GENERAL BANCORP\",\"State Commercial Banks (commercial banking)\"],[\"BANK OF THE JAMES FINANCIAL GROUP INC\",\"State Commercial Banks (commercial banking)\"],[\"FLUSHING FINANCIAL CORP\",\"State Commercial Banks (commercial banking)\"],[\"FRANKLIN FINANCIAL SERVICES CORP /PA/\",\"State Commercial Banks (commercial banking)\"],[\"CENTRAL PACIFIC FINANCIAL CORP\",\"State Commercial Banks (commercial banking)\"],[\"CENTRAL PACIFIC FINANCIAL CORP\",\"State Commercial Banks (commercial banking)\"],[\"CENTRAL VALLEY COMMUNITY BANCORP\",\"State Commercial Banks (commercial banking)\"],[\"F&M BANK CORP\",\"State Commercial Banks (commercial banking)\"],[\"FARMERS NATIONAL BANC CORP /OH/\",\"State Commercial Banks (commercial banking)\"],[\"CITIZENS & NORTHERN CORP\",\"State Commercial Banks (commercial banking)\"],[\"GUARANTY FEDERAL BANCSHARES INC\",\"State Commercial Banks (commercial banking)\"],[\"CAROLINA FINANCIAL CORP\",\"State Commercial Banks (commercial banking)\"],[\"FIRST INTERNET BANCORP\",\"State Commercial Banks (commercial banking)\"],[\"HARBORONE BANCORP, INC.\",\"State Commercial Banks (commercial banking)\"],[\"UNITED BANKSHARES INC/WV\",\"State Commercial Banks (commercial banking)\"],[\"INDEPENDENT BANK CORP\",\"State Commercial Banks (commercial banking)\"],[\"CITIZENS FINANCIAL SERVICES INC\",\"State Commercial Banks (commercial banking)\"],[\"NORWOOD FINANCIAL CORP\",\"State Commercial Banks (commercial banking)\"],[\"WEST BANCORPORATION INC\",\"State Commercial Banks (commercial banking)\"],[\"CUSTOMERS BANCORP, INC.\",\"State Commercial Banks (commercial banking)\"],[\"WEST END INDIANA BANCSHARES, INC.\",\"State Commercial Banks (commercial banking)\"],[\"ATLANTIC CAPITAL BANCSHARES, INC.\",\"State Commercial Banks (commercial banking)\"],[\"IBERIABANK CORP\",\"State Commercial Banks (commercial banking)\"],[\"MERCANTILE BANK CORP\",\"State Commercial Banks (commercial banking)\"],[\"GERMAN AMERICAN BANCORP, INC.\",\"State Commercial Banks (commercial banking)\"],[\"S&T BANCORP INC\",\"State Commercial Banks (commercial banking)\"],[\"HILLTOP HOLDINGS INC.\",\"State Commercial Banks (commercial banking)\"],[\"CB FINANCIAL SERVICES, INC.\",\"State Commercial Banks (commercial banking)\"],[\"ENTERPRISE FINANCIAL SERVICES CORP\",\"State Commercial Banks (commercial banking)\"],[\"AUBURN NATIONAL BANCORPORATION, INC\",\"State Commercial Banks (commercial banking)\"],[\"FIRST KEYSTONE CORP\",\"State Commercial Banks (commercial banking)\"],[\"TEXAS CAPITAL BANCSHARES INC/TX\",\"State Commercial Banks (commercial banking)\"],[\"VILLAGE BANK & TRUST FINANCIAL CORP.\",\"State Commercial Banks (commercial banking)\"],[\"STOCK YARDS BANCORP, INC.\",\"State Commercial Banks (commercial banking)\"],[\"BUSINESS FIRST BANCSHARES, INC.\",\"State Commercial Banks (commercial banking)\"]],\"hovertemplate\":\"color=State Commercial Banks (commercial banking)<br>0=%{x}<br>1=%{y}<br>name=%{customdata[0]}<br>industry=%{customdata[1]}<extra></extra>\",\"legendgroup\":\"State Commercial Banks (commercial banking)\",\"marker\":{\"color\":\"#FFA15A\",\"symbol\":\"circle\"},\"mode\":\"markers\",\"name\":\"State Commercial Banks (commercial banking)\",\"orientation\":\"v\",\"showlegend\":true,\"x\":[-4.023756570416359,-3.6781274784491784,-3.8696919783067183,-4.619383788810296,-4.388034144202354,-4.331430504733681,-3.9889691269319827,-2.5209550005538874,-4.005694171249945,-3.459007783149663,-3.459007783149663,-0.1745947876667001,-4.4216123727718415,-4.648247542114968,-4.222062012246348,-3.8180118410864226,-4.141797416139393,-4.350706227854212,-4.223389132777682,-4.111388023739069,-4.295157655979305,-4.295157655979305,-3.965286826010829,-4.833804227635872,-4.526283758564334,-4.455210457424435,-2.672469953859252,-4.602260141226016,-3.9728281404379744,-4.119438418171419,-3.172138037586414,-4.5915044310535915,-4.061470749195447,-4.062122747760022,-4.0629527816831565,-4.362437231652606,-4.566076054810415,-4.8025904409232805,-4.408690849045993,-2.721119543726101,-4.022333939061965,-0.6729422340282174,-4.675383268135045,-4.353928569089201,-4.215632666655105,-0.6121318362045994,-4.301404945901637,-3.977899393593809,-4.226626499848532,-4.660794276408096,-4.204192807641338,-3.936899373887912,-3.8746963789640243,-3.820881102592377,-3.802463992355659,-4.5616789312895,-4.6072119074164535,-3.6802203973674987,-4.2488911980639275,-4.2488911980639275,-4.251228701300925,-4.228967075022957,-4.914970729897699,-4.797060201544386,-3.899374698195918,-4.530410271804386,-4.47893566540298,-3.954164079104129,-4.082963583240428,-2.465987963917107,-4.093829620963365,-4.151923026531023,-4.430113296877528,-4.073211556857097,-3.390365314330462,-4.162064888372782,-4.24942766121827,-3.593132182993346,-4.0732509166247155,0.29832478956419073,-3.707618173053617,-4.331561064094423,-4.11841151994401,-3.5702087532681688,-4.626591645318788,-4.5305990430977365,-4.5305990430977365,-4.497617900054223,0.07829206608527729,-3.8073539961819525,-1.7305097106821807,-4.357748213704418,-4.766495039928403,-4.079664058694823,-4.74990351628084,-4.513457328853292,-4.178980738676656,-3.9278109565169066,-4.56088885382512,-4.165632905328663,-4.155468694546185,-3.970474786755181,-4.748332831783202,-4.14846869611777,-4.38936169077416,-3.6355196947379285,-1.1647549281369336,-4.069943359026229,-3.779830144446583,-0.659280763953936,-4.336106793880191,-3.696331020261178,-3.915144803292081,-4.285662775181575,-3.283353479218211,-4.942550654930888],\"xaxis\":\"x\",\"y\":[3.9240609326854843,2.443018647438898,0.505229052256992,4.4593431622687865,3.727037397930279,4.701139536702413,4.262283510754199,0.8130301961574382,3.0393506499842364,4.086283830058506,4.086283830058506,-0.9760158879788482,4.364997190397979,3.904784230320001,3.538232008420053,4.009359323831771,2.114560957608344,4.4385177259981905,3.5919460180570177,3.875325169841488,3.486156635265217,3.486156635265217,4.12172050329759,3.3880533459990456,1.8627928895089385,4.408319172234421,0.22724805691142602,3.7027015725782615,4.518691217597507,4.432386402533187,3.3482493199769117,3.8462308436520845,2.6333402004011743,4.3167273235113806,3.619562797145325,4.384523595629433,4.180428884282544,3.4412336311221132,2.4973554586158713,2.104881261766653,1.1989780552713225,-0.8809655185297102,4.038598254821965,3.3586017801997943,3.7839500513161104,-0.3252499586590983,2.7663858202882046,4.328099027526849,4.3490532719301465,4.203509765194647,4.586998682872333,3.826483110816404,4.449307526690866,3.4004580106644773,4.301236809322677,3.4413219494373393,3.7309766771256427,2.731874843787341,4.42890392551502,4.42890392551502,3.687232218951738,4.417424731118958,4.098617087061278,2.995592861353291,4.4650466897240335,4.5625221490118415,1.588593109010062,4.253141399246155,3.7119641824142118,-0.3184314743938862,4.2333433409554715,3.9512744682808774,4.469160986528324,4.173721026696259,2.4018949661314988,4.397305259001523,4.435820929399627,3.796204418874162,1.9322438903713148,-0.6071135414581916,4.225022063547589,3.7281771795657557,4.315765145208861,0.8527930297289699,3.407302586390805,4.04091327286934,4.04091327286934,4.28989091187346,-0.513007041738892,3.9242011040513116,0.8159438976336755,2.383717203193201,4.280348124444347,4.180496201086475,3.119734805052687,3.214641280397151,1.2543955056803406,4.084269180695699,3.5128241224252608,4.34361896634075,4.070744586236677,1.6936999852302184,4.058246789750709,4.33525482275921,2.508424272327857,3.5177656148644916,0.9664336174958755,4.041388939804474,0.8592200574433,-0.5063204968813798,4.654294539894868,3.7467695128609146,4.188454632013632,4.256080906223009,3.2250013383933647,4.247110544084456],\"yaxis\":\"y\",\"type\":\"scatter\"}],                        {\"template\":{\"data\":{\"bar\":[{\"error_x\":{\"color\":\"#2a3f5f\"},\"error_y\":{\"color\":\"#2a3f5f\"},\"marker\":{\"line\":{\"color\":\"#E5ECF6\",\"width\":0.5},\"pattern\":{\"fillmode\":\"overlay\",\"size\":10,\"solidity\":0.2}},\"type\":\"bar\"}],\"barpolar\":[{\"marker\":{\"line\":{\"color\":\"#E5ECF6\",\"width\":0.5},\"pattern\":{\"fillmode\":\"overlay\",\"size\":10,\"solidity\":0.2}},\"type\":\"barpolar\"}],\"carpet\":[{\"aaxis\":{\"endlinecolor\":\"#2a3f5f\",\"gridcolor\":\"white\",\"linecolor\":\"white\",\"minorgridcolor\":\"white\",\"startlinecolor\":\"#2a3f5f\"},\"baxis\":{\"endlinecolor\":\"#2a3f5f\",\"gridcolor\":\"white\",\"linecolor\":\"white\",\"minorgridcolor\":\"white\",\"startlinecolor\":\"#2a3f5f\"},\"type\":\"carpet\"}],\"choropleth\":[{\"colorbar\":{\"outlinewidth\":0,\"ticks\":\"\"},\"type\":\"choropleth\"}],\"contour\":[{\"colorbar\":{\"outlinewidth\":0,\"ticks\":\"\"},\"colorscale\":[[0.0,\"#0d0887\"],[0.1111111111111111,\"#46039f\"],[0.2222222222222222,\"#7201a8\"],[0.3333333333333333,\"#9c179e\"],[0.4444444444444444,\"#bd3786\"],[0.5555555555555556,\"#d8576b\"],[0.6666666666666666,\"#ed7953\"],[0.7777777777777778,\"#fb9f3a\"],[0.8888888888888888,\"#fdca26\"],[1.0,\"#f0f921\"]],\"type\":\"contour\"}],\"contourcarpet\":[{\"colorbar\":{\"outlinewidth\":0,\"ticks\":\"\"},\"type\":\"contourcarpet\"}],\"heatmap\":[{\"colorbar\":{\"outlinewidth\":0,\"ticks\":\"\"},\"colorscale\":[[0.0,\"#0d0887\"],[0.1111111111111111,\"#46039f\"],[0.2222222222222222,\"#7201a8\"],[0.3333333333333333,\"#9c179e\"],[0.4444444444444444,\"#bd3786\"],[0.5555555555555556,\"#d8576b\"],[0.6666666666666666,\"#ed7953\"],[0.7777777777777778,\"#fb9f3a\"],[0.8888888888888888,\"#fdca26\"],[1.0,\"#f0f921\"]],\"type\":\"heatmap\"}],\"heatmapgl\":[{\"colorbar\":{\"outlinewidth\":0,\"ticks\":\"\"},\"colorscale\":[[0.0,\"#0d0887\"],[0.1111111111111111,\"#46039f\"],[0.2222222222222222,\"#7201a8\"],[0.3333333333333333,\"#9c179e\"],[0.4444444444444444,\"#bd3786\"],[0.5555555555555556,\"#d8576b\"],[0.6666666666666666,\"#ed7953\"],[0.7777777777777778,\"#fb9f3a\"],[0.8888888888888888,\"#fdca26\"],[1.0,\"#f0f921\"]],\"type\":\"heatmapgl\"}],\"histogram\":[{\"marker\":{\"pattern\":{\"fillmode\":\"overlay\",\"size\":10,\"solidity\":0.2}},\"type\":\"histogram\"}],\"histogram2d\":[{\"colorbar\":{\"outlinewidth\":0,\"ticks\":\"\"},\"colorscale\":[[0.0,\"#0d0887\"],[0.1111111111111111,\"#46039f\"],[0.2222222222222222,\"#7201a8\"],[0.3333333333333333,\"#9c179e\"],[0.4444444444444444,\"#bd3786\"],[0.5555555555555556,\"#d8576b\"],[0.6666666666666666,\"#ed7953\"],[0.7777777777777778,\"#fb9f3a\"],[0.8888888888888888,\"#fdca26\"],[1.0,\"#f0f921\"]],\"type\":\"histogram2d\"}],\"histogram2dcontour\":[{\"colorbar\":{\"outlinewidth\":0,\"ticks\":\"\"},\"colorscale\":[[0.0,\"#0d0887\"],[0.1111111111111111,\"#46039f\"],[0.2222222222222222,\"#7201a8\"],[0.3333333333333333,\"#9c179e\"],[0.4444444444444444,\"#bd3786\"],[0.5555555555555556,\"#d8576b\"],[0.6666666666666666,\"#ed7953\"],[0.7777777777777778,\"#fb9f3a\"],[0.8888888888888888,\"#fdca26\"],[1.0,\"#f0f921\"]],\"type\":\"histogram2dcontour\"}],\"mesh3d\":[{\"colorbar\":{\"outlinewidth\":0,\"ticks\":\"\"},\"type\":\"mesh3d\"}],\"parcoords\":[{\"line\":{\"colorbar\":{\"outlinewidth\":0,\"ticks\":\"\"}},\"type\":\"parcoords\"}],\"pie\":[{\"automargin\":true,\"type\":\"pie\"}],\"scatter\":[{\"marker\":{\"colorbar\":{\"outlinewidth\":0,\"ticks\":\"\"}},\"type\":\"scatter\"}],\"scatter3d\":[{\"line\":{\"colorbar\":{\"outlinewidth\":0,\"ticks\":\"\"}},\"marker\":{\"colorbar\":{\"outlinewidth\":0,\"ticks\":\"\"}},\"type\":\"scatter3d\"}],\"scattercarpet\":[{\"marker\":{\"colorbar\":{\"outlinewidth\":0,\"ticks\":\"\"}},\"type\":\"scattercarpet\"}],\"scattergeo\":[{\"marker\":{\"colorbar\":{\"outlinewidth\":0,\"ticks\":\"\"}},\"type\":\"scattergeo\"}],\"scattergl\":[{\"marker\":{\"colorbar\":{\"outlinewidth\":0,\"ticks\":\"\"}},\"type\":\"scattergl\"}],\"scattermapbox\":[{\"marker\":{\"colorbar\":{\"outlinewidth\":0,\"ticks\":\"\"}},\"type\":\"scattermapbox\"}],\"scatterpolar\":[{\"marker\":{\"colorbar\":{\"outlinewidth\":0,\"ticks\":\"\"}},\"type\":\"scatterpolar\"}],\"scatterpolargl\":[{\"marker\":{\"colorbar\":{\"outlinewidth\":0,\"ticks\":\"\"}},\"type\":\"scatterpolargl\"}],\"scatterternary\":[{\"marker\":{\"colorbar\":{\"outlinewidth\":0,\"ticks\":\"\"}},\"type\":\"scatterternary\"}],\"surface\":[{\"colorbar\":{\"outlinewidth\":0,\"ticks\":\"\"},\"colorscale\":[[0.0,\"#0d0887\"],[0.1111111111111111,\"#46039f\"],[0.2222222222222222,\"#7201a8\"],[0.3333333333333333,\"#9c179e\"],[0.4444444444444444,\"#bd3786\"],[0.5555555555555556,\"#d8576b\"],[0.6666666666666666,\"#ed7953\"],[0.7777777777777778,\"#fb9f3a\"],[0.8888888888888888,\"#fdca26\"],[1.0,\"#f0f921\"]],\"type\":\"surface\"}],\"table\":[{\"cells\":{\"fill\":{\"color\":\"#EBF0F8\"},\"line\":{\"color\":\"white\"}},\"header\":{\"fill\":{\"color\":\"#C8D4E3\"},\"line\":{\"color\":\"white\"}},\"type\":\"table\"}]},\"layout\":{\"annotationdefaults\":{\"arrowcolor\":\"#2a3f5f\",\"arrowhead\":0,\"arrowwidth\":1},\"autotypenumbers\":\"strict\",\"coloraxis\":{\"colorbar\":{\"outlinewidth\":0,\"ticks\":\"\"}},\"colorscale\":{\"diverging\":[[0,\"#8e0152\"],[0.1,\"#c51b7d\"],[0.2,\"#de77ae\"],[0.3,\"#f1b6da\"],[0.4,\"#fde0ef\"],[0.5,\"#f7f7f7\"],[0.6,\"#e6f5d0\"],[0.7,\"#b8e186\"],[0.8,\"#7fbc41\"],[0.9,\"#4d9221\"],[1,\"#276419\"]],\"sequential\":[[0.0,\"#0d0887\"],[0.1111111111111111,\"#46039f\"],[0.2222222222222222,\"#7201a8\"],[0.3333333333333333,\"#9c179e\"],[0.4444444444444444,\"#bd3786\"],[0.5555555555555556,\"#d8576b\"],[0.6666666666666666,\"#ed7953\"],[0.7777777777777778,\"#fb9f3a\"],[0.8888888888888888,\"#fdca26\"],[1.0,\"#f0f921\"]],\"sequentialminus\":[[0.0,\"#0d0887\"],[0.1111111111111111,\"#46039f\"],[0.2222222222222222,\"#7201a8\"],[0.3333333333333333,\"#9c179e\"],[0.4444444444444444,\"#bd3786\"],[0.5555555555555556,\"#d8576b\"],[0.6666666666666666,\"#ed7953\"],[0.7777777777777778,\"#fb9f3a\"],[0.8888888888888888,\"#fdca26\"],[1.0,\"#f0f921\"]]},\"colorway\":[\"#636efa\",\"#EF553B\",\"#00cc96\",\"#ab63fa\",\"#FFA15A\",\"#19d3f3\",\"#FF6692\",\"#B6E880\",\"#FF97FF\",\"#FECB52\"],\"font\":{\"color\":\"#2a3f5f\"},\"geo\":{\"bgcolor\":\"white\",\"lakecolor\":\"white\",\"landcolor\":\"#E5ECF6\",\"showlakes\":true,\"showland\":true,\"subunitcolor\":\"white\"},\"hoverlabel\":{\"align\":\"left\"},\"hovermode\":\"closest\",\"mapbox\":{\"style\":\"light\"},\"paper_bgcolor\":\"white\",\"plot_bgcolor\":\"#E5ECF6\",\"polar\":{\"angularaxis\":{\"gridcolor\":\"white\",\"linecolor\":\"white\",\"ticks\":\"\"},\"bgcolor\":\"#E5ECF6\",\"radialaxis\":{\"gridcolor\":\"white\",\"linecolor\":\"white\",\"ticks\":\"\"}},\"scene\":{\"xaxis\":{\"backgroundcolor\":\"#E5ECF6\",\"gridcolor\":\"white\",\"gridwidth\":2,\"linecolor\":\"white\",\"showbackground\":true,\"ticks\":\"\",\"zerolinecolor\":\"white\"},\"yaxis\":{\"backgroundcolor\":\"#E5ECF6\",\"gridcolor\":\"white\",\"gridwidth\":2,\"linecolor\":\"white\",\"showbackground\":true,\"ticks\":\"\",\"zerolinecolor\":\"white\"},\"zaxis\":{\"backgroundcolor\":\"#E5ECF6\",\"gridcolor\":\"white\",\"gridwidth\":2,\"linecolor\":\"white\",\"showbackground\":true,\"ticks\":\"\",\"zerolinecolor\":\"white\"}},\"shapedefaults\":{\"line\":{\"color\":\"#2a3f5f\"}},\"ternary\":{\"aaxis\":{\"gridcolor\":\"white\",\"linecolor\":\"white\",\"ticks\":\"\"},\"baxis\":{\"gridcolor\":\"white\",\"linecolor\":\"white\",\"ticks\":\"\"},\"bgcolor\":\"#E5ECF6\",\"caxis\":{\"gridcolor\":\"white\",\"linecolor\":\"white\",\"ticks\":\"\"}},\"title\":{\"x\":0.05},\"xaxis\":{\"automargin\":true,\"gridcolor\":\"white\",\"linecolor\":\"white\",\"ticks\":\"\",\"title\":{\"standoff\":15},\"zerolinecolor\":\"white\",\"zerolinewidth\":2},\"yaxis\":{\"automargin\":true,\"gridcolor\":\"white\",\"linecolor\":\"white\",\"ticks\":\"\",\"title\":{\"standoff\":15},\"zerolinecolor\":\"white\",\"zerolinewidth\":2}}},\"xaxis\":{\"anchor\":\"y\",\"domain\":[0.0,1.0],\"title\":{\"text\":\"0\"}},\"yaxis\":{\"anchor\":\"x\",\"domain\":[0.0,1.0],\"title\":{\"text\":\"1\"}},\"legend\":{\"title\":{\"text\":\"color\"},\"tracegroupgap\":0},\"margin\":{\"t\":60},\"height\":600,\"width\":1200},                        {\"responsive\": true}                    ).then(function(){\n",
       "                            \n",
       "var gd = document.getElementById('88662791-4c17-47ce-a3f0-c9f39ecefe30');\n",
       "var x = new MutationObserver(function (mutations, observer) {{\n",
       "        var display = window.getComputedStyle(gd).display;\n",
       "        if (!display || display === 'none') {{\n",
       "            console.log([gd, 'removed!']);\n",
       "            Plotly.purge(gd);\n",
       "            observer.disconnect();\n",
       "        }}\n",
       "}});\n",
       "\n",
       "// Listen for the removal of the full notebook cells\n",
       "var notebookContainer = gd.closest('#notebook-container');\n",
       "if (notebookContainer) {{\n",
       "    x.observe(notebookContainer, {childList: true});\n",
       "}}\n",
       "\n",
       "// Listen for the clearing of the current output cell\n",
       "var outputEl = gd.closest('.output');\n",
       "if (outputEl) {{\n",
       "    x.observe(outputEl, {childList: true});\n",
       "}}\n",
       "\n",
       "                        })                };                });            </script>        </div>"
      ]
     },
     "metadata": {},
     "output_type": "display_data"
    }
   ],
   "source": [
    "plot_cos = std_func.pca_visualize_2d(cosine_sim, df.loc[:,[\"name\",\"SIC_desc\"]])"
   ]
  },
  {
   "cell_type": "code",
   "execution_count": 25,
   "id": "bf5798f1",
   "metadata": {
    "scrolled": false
   },
   "outputs": [
    {
     "data": {
      "application/vnd.plotly.v1+json": {
       "config": {
        "plotlyServerURL": "https://plot.ly"
       },
       "data": [
        {
         "customdata": [
          [
           "MONGODB, INC.",
           "Prepackaged Software (mass reproduction of software)"
          ],
          [
           "SALESFORCE COM INC",
           "Prepackaged Software (mass reproduction of software)"
          ],
          [
           "SPLUNK INC",
           "Prepackaged Software (mass reproduction of software)"
          ],
          [
           "OKTA, INC.",
           "Prepackaged Software (mass reproduction of software)"
          ],
          [
           "VEEVA SYSTEMS INC",
           "Prepackaged Software (mass reproduction of software)"
          ],
          [
           "AUTODESK INC",
           "Prepackaged Software (mass reproduction of software)"
          ],
          [
           "ETERNAL SPEECH, INC.",
           "Prepackaged Software (mass reproduction of software)"
          ],
          [
           "ETERNAL SPEECH, INC.",
           "Prepackaged Software (mass reproduction of software)"
          ],
          [
           "MAJESCO",
           "Prepackaged Software (mass reproduction of software)"
          ],
          [
           "DUO WORLD INC",
           "Prepackaged Software (mass reproduction of software)"
          ],
          [
           "COMMVAULT SYSTEMS INC",
           "Prepackaged Software (mass reproduction of software)"
          ],
          [
           "UPPERSOLUTION.COM",
           "Prepackaged Software (mass reproduction of software)"
          ],
          [
           "ORACLE CORP",
           "Prepackaged Software (mass reproduction of software)"
          ],
          [
           "SAVMOBI TECHNOLOGY INC.",
           "Prepackaged Software (mass reproduction of software)"
          ],
          [
           "ZEDGE, INC.",
           "Prepackaged Software (mass reproduction of software)"
          ],
          [
           "DESTINY MEDIA TECHNOLOGIES INC",
           "Prepackaged Software (mass reproduction of software)"
          ],
          [
           "TRAQER CORP",
           "Prepackaged Software (mass reproduction of software)"
          ],
          [
           "VISIBER57 CORP.",
           "Prepackaged Software (mass reproduction of software)"
          ],
          [
           "GH CAPITAL INC.",
           "Prepackaged Software (mass reproduction of software)"
          ],
          [
           "BRIDGELINE DIGITAL, INC.",
           "Prepackaged Software (mass reproduction of software)"
          ],
          [
           "NUANCE COMMUNICATIONS, INC.",
           "Prepackaged Software (mass reproduction of software)"
          ],
          [
           "DATAWATCH CORP",
           "Prepackaged Software (mass reproduction of software)"
          ],
          [
           "POLARITYTE, INC.",
           "Prepackaged Software (mass reproduction of software)"
          ],
          [
           "POLARITYTE, INC.",
           "Prepackaged Software (mass reproduction of software)"
          ],
          [
           "VGRAB COMMUNICATIONS INC.",
           "Prepackaged Software (mass reproduction of software)"
          ],
          [
           "VGRAB COMMUNICATIONS INC.",
           "Prepackaged Software (mass reproduction of software)"
          ],
          [
           "ADAIAH DISTRIBUTION INC",
           "Prepackaged Software (mass reproduction of software)"
          ],
          [
           "ADAIAH DISTRIBUTION INC",
           "Prepackaged Software (mass reproduction of software)"
          ],
          [
           "PROGRESS SOFTWARE CORP /MA",
           "Prepackaged Software (mass reproduction of software)"
          ],
          [
           "MEDICAL INFORMATION TECHNOLOGY, INC.",
           "Prepackaged Software (mass reproduction of software)"
          ],
          [
           "SPS COMMERCE INC",
           "Prepackaged Software (mass reproduction of software)"
          ],
          [
           "ALTERYX, INC.",
           "Prepackaged Software (mass reproduction of software)"
          ],
          [
           "INTELLIGENT SYSTEMS CORP",
           "Prepackaged Software (mass reproduction of software)"
          ],
          [
           "ALARM.COM HOLDINGS, INC.",
           "Prepackaged Software (mass reproduction of software)"
          ],
          [
           "LIGHTNING GAMING, INC.",
           "Prepackaged Software (mass reproduction of software)"
          ],
          [
           "ENDURANCE INTERNATIONAL GROUP HOLDINGS, INC.",
           "Prepackaged Software (mass reproduction of software)"
          ],
          [
           "2U, INC.",
           "Prepackaged Software (mass reproduction of software)"
          ],
          [
           "CISION LTD.",
           "Prepackaged Software (mass reproduction of software)"
          ],
          [
           "BTCS INC.",
           "Prepackaged Software (mass reproduction of software)"
          ],
          [
           "BTCS INC.",
           "Prepackaged Software (mass reproduction of software)"
          ],
          [
           "BTCS INC.",
           "Prepackaged Software (mass reproduction of software)"
          ],
          [
           "INTELLICHECK, INC.",
           "Prepackaged Software (mass reproduction of software)"
          ],
          [
           "REALPAGE INC",
           "Prepackaged Software (mass reproduction of software)"
          ],
          [
           "Q2 HOLDINGS, INC.",
           "Prepackaged Software (mass reproduction of software)"
          ],
          [
           "MCORPCX, INC.",
           "Prepackaged Software (mass reproduction of software)"
          ],
          [
           "QUALYS, INC.",
           "Prepackaged Software (mass reproduction of software)"
          ],
          [
           "MEDICAL TRANSCRIPTION BILLING, CORP",
           "Prepackaged Software (mass reproduction of software)"
          ],
          [
           "SMITH MICRO SOFTWARE INC",
           "Prepackaged Software (mass reproduction of software)"
          ],
          [
           "SHOTSPOTTER, INC",
           "Prepackaged Software (mass reproduction of software)"
          ],
          [
           "LONGWEN GROUP CORP.",
           "Prepackaged Software (mass reproduction of software)"
          ],
          [
           "ELLIE MAE INC",
           "Prepackaged Software (mass reproduction of software)"
          ],
          [
           "ROSETTA STONE INC",
           "Prepackaged Software (mass reproduction of software)"
          ],
          [
           "BLACK KNIGHT, INC.",
           "Prepackaged Software (mass reproduction of software)"
          ],
          [
           "MICROSTRATEGY INC",
           "Prepackaged Software (mass reproduction of software)"
          ],
          [
           "EMR TECHNOLOGY SOLUTIONS, INC.",
           "Prepackaged Software (mass reproduction of software)"
          ],
          [
           "PAYCOM SOFTWARE, INC.",
           "Prepackaged Software (mass reproduction of software)"
          ],
          [
           "3D SYSTEMS CORP",
           "Prepackaged Software (mass reproduction of software)"
          ],
          [
           "APPIAN CORP",
           "Prepackaged Software (mass reproduction of software)"
          ],
          [
           "UPLAND SOFTWARE, INC.",
           "Prepackaged Software (mass reproduction of software)"
          ],
          [
           "LIVEPERSON INC",
           "Prepackaged Software (mass reproduction of software)"
          ],
          [
           "AWARE INC /MA/",
           "Prepackaged Software (mass reproduction of software)"
          ],
          [
           "ULTIMATE SOFTWARE GROUP INC",
           "Prepackaged Software (mass reproduction of software)"
          ],
          [
           "ANSYS INC",
           "Prepackaged Software (mass reproduction of software)"
          ],
          [
           "AVID TECHNOLOGY, INC.",
           "Prepackaged Software (mass reproduction of software)"
          ],
          [
           "NATIONAL INSTRUMENTS CORP",
           "Prepackaged Software (mass reproduction of software)"
          ],
          [
           "INSPRO TECHNOLOGIES CORP",
           "Prepackaged Software (mass reproduction of software)"
          ],
          [
           "QUMU CORP",
           "Prepackaged Software (mass reproduction of software)"
          ],
          [
           "ACI WORLDWIDE, INC.",
           "Prepackaged Software (mass reproduction of software)"
          ],
          [
           "SQUARE, INC.",
           "Prepackaged Software (mass reproduction of software)"
          ],
          [
           "ALTAIR ENGINEERING INC.",
           "Prepackaged Software (mass reproduction of software)"
          ],
          [
           "TALEND SA",
           "Prepackaged Software (mass reproduction of software)"
          ],
          [
           "APPFOLIO INC",
           "Prepackaged Software (mass reproduction of software)"
          ],
          [
           "GSE SYSTEMS INC",
           "Prepackaged Software (mass reproduction of software)"
          ],
          [
           "IPSIDY INC.",
           "Prepackaged Software (mass reproduction of software)"
          ],
          [
           "INTELLINETICS, INC.",
           "Prepackaged Software (mass reproduction of software)"
          ],
          [
           "INTELLINETICS, INC.",
           "Prepackaged Software (mass reproduction of software)"
          ],
          [
           "IIOT-OXYS, INC.",
           "Prepackaged Software (mass reproduction of software)"
          ],
          [
           "NEWGIOCO GROUP, INC.",
           "Prepackaged Software (mass reproduction of software)"
          ],
          [
           "WORKIVA INC",
           "Prepackaged Software (mass reproduction of software)"
          ],
          [
           "TABLEAU SOFTWARE INC",
           "Prepackaged Software (mass reproduction of software)"
          ]
         ],
         "hovertemplate": "color=Prepackaged Software (mass reproduction of software)<br>0=%{x}<br>1=%{y}<br>2=%{z}<br>name=%{customdata[0]}<br>industry=%{customdata[1]}<extra></extra>",
         "legendgroup": "Prepackaged Software (mass reproduction of software)",
         "marker": {
          "color": "#636efa",
          "symbol": "circle"
         },
         "mode": "markers",
         "name": "Prepackaged Software (mass reproduction of software)",
         "scene": "scene",
         "showlegend": true,
         "type": "scatter3d",
         "x": [
          0.9990208358637881,
          0.2633929490367154,
          0.4213714880747349,
          0.8408999670994822,
          -0.3140208201394431,
          0.44383655552053347,
          0.24461226250361423,
          0.24461226250361423,
          -0.20375924508780566,
          0.4801317736447076,
          0.6024721863060573,
          1.083227477196859,
          0.20564790692239732,
          -0.12768301844822375,
          0.19780650724212548,
          0.7897911283159984,
          -0.731997896309612,
          0.24029833822227997,
          0.026291545807584214,
          0.035188012227532976,
          0.4667665149638161,
          0.36170397290799844,
          3.2356415564231007,
          3.2356415564231007,
          -0.62356803318602,
          -0.62356803318602,
          -0.5426275806806721,
          -0.5426275806806721,
          0.05191161409637732,
          0.25462932458032833,
          -0.2298874066982151,
          1.2692121452586895,
          -0.3791663600858667,
          0.5218016529842551,
          1.1741960469090127,
          0.4533003469873668,
          0.15417335647668987,
          0.8314784638744139,
          -0.24876054983537005,
          -0.24876054983537005,
          -0.24876054983537005,
          -0.030312161480506725,
          -2.0500915784564504,
          -0.15187135411876096,
          -0.08493199887058224,
          1.0063555006407017,
          -0.32681586002957835,
          0.9116805334072674,
          1.3084889970693634,
          -0.4241601416343725,
          -0.13988951933947186,
          0.2106649864258616,
          -2.4587979688709956,
          0.29215682032669776,
          1.6904793543459395,
          0.452594575577024,
          0.032315833123874496,
          0.694642416520192,
          0.21165735966537277,
          1.2294392904237899,
          0.6419844215954025,
          0.07496736614047288,
          -0.06833848315182355,
          0.8319369103405979,
          0.09182207738004337,
          -0.06660250053853613,
          0.10944637085090124,
          0.47448157021547815,
          0.8349961180047674,
          0.6694108767942818,
          0.8007467925060211,
          -1.8313201897097962,
          -0.5602114867184941,
          1.024831328653115,
          -0.4622542059932623,
          -0.4622542059932623,
          0.6345831175948949,
          0.600234783700404,
          0.6877975084980401,
          1.37883736165467
         ],
         "y": [
          -0.8081412816566874,
          -0.8345257152642801,
          -0.9700765223336082,
          -0.8349584304780017,
          -1.4491223650822667,
          -0.8291087381571366,
          -0.6564444769568664,
          -0.6564444769568664,
          -1.4772808231648307,
          -0.8436621621710368,
          -0.6037733682052067,
          -0.822847351788025,
          -0.6822871099987156,
          -1.2969781405974687,
          -0.6148601860706211,
          -0.6209653170908748,
          -0.5469737660782055,
          -0.7991990820882505,
          -0.7381839343312948,
          -1.0745791302711767,
          -0.8474335325568003,
          -0.782638638047285,
          0.7186052049033034,
          0.7186052049033034,
          -0.8312918096681027,
          -0.8312918096681027,
          -1.4404420980567163,
          -1.4404420980567163,
          -1.4007067926061612,
          -0.9206580960494465,
          -1.3435448176617706,
          -0.6158468582713007,
          -1.0684558342265948,
          -0.5971029612279671,
          -0.39101374414972484,
          -1.1430983085902577,
          -0.9202882177879063,
          -0.6623034574866224,
          -0.33559233141159106,
          -0.33559233141159106,
          -0.33559233141159106,
          -0.5568378607838663,
          -1.8501208886645504,
          -0.029377502638719237,
          -1.4583029439701816,
          -0.7153037548607409,
          -1.2803107380418126,
          -0.6688584209608508,
          -0.816923860347091,
          -1.0344425206787018,
          -0.6012655173964573,
          -1.0773188509214209,
          -0.6638984444533793,
          -1.0055651587218266,
          -0.1214693166150553,
          -1.1507639617057892,
          -0.7275566437884842,
          -0.728252837661469,
          -1.2170223268711178,
          -0.4665881214535821,
          -0.5270431896975827,
          -1.0960446868901346,
          -0.743875037400714,
          -0.693431907536249,
          -1.1125483107063003,
          -1.022816808230693,
          -1.3738391839202513,
          -0.12024514225010735,
          -0.24984636516954803,
          -0.8149718798574903,
          -0.7799434143802196,
          -1.7828937198938704,
          -1.5237741518649233,
          -0.40103468781074353,
          -0.869027645996581,
          -0.869027645996581,
          -0.8918554009256474,
          -0.8586002893788278,
          -0.45400445176672344,
          -0.7088864037110341
         ],
         "z": [
          -0.3087612964151906,
          -0.6072244198629518,
          -0.23513875805347942,
          -0.43428806527006525,
          -0.057244713012525705,
          0.3403472519671532,
          2.2175300412510808,
          2.2175300412510808,
          -0.6445080732450125,
          -0.4557906307678197,
          0.23984215797164368,
          -0.6779446920286811,
          0.5043464312968927,
          0.5109741460392149,
          1.9122260195493825,
          0.4462292037491188,
          0.24426422671230094,
          0.8240683847970383,
          1.285590927814163,
          0.03581504972635644,
          0.5785050516066922,
          0.6427797665034072,
          -1.2067706732284493,
          -1.2067706732284493,
          0.31481298811936287,
          0.31481298811936287,
          0.2999047687976073,
          0.2999047687976073,
          -0.5131404328265303,
          0.2689957884911998,
          0.33007109444091426,
          -0.5628128408587055,
          0.25049335694595165,
          1.492481001553039,
          0.4716917878476656,
          -0.9875326553423255,
          0.021511937159410098,
          -0.6416286344792043,
          0.06053701065808556,
          0.06053701065808556,
          0.06053701065808556,
          1.8594672375445334,
          -1.9250083023610525,
          1.5692675830080305,
          -0.6894850934761884,
          -0.5734736380148434,
          -0.10227985151662758,
          0.7629179069054672,
          -0.8952009465805049,
          0.13335228966025386,
          0.6317664385899763,
          -0.30014586531241977,
          -1.7515686200451344,
          -0.2573126460406282,
          0.7870588835009149,
          -0.2955604203266656,
          0.5759331281881253,
          -0.04476729778572955,
          -0.051843124866985814,
          -0.5031504758879822,
          0.4551118620775668,
          0.5238807355953459,
          2.0831177668668186,
          0.022562332113426786,
          -0.15237874446936234,
          0.07124024734223162,
          -0.24977435342262153,
          -0.1420477328235736,
          -0.5367842182506909,
          -0.1625282020325139,
          -0.4041979185431016,
          -2.305721195904322,
          0.4096282143218357,
          0.6463855123613221,
          0.4242175164021144,
          0.4242175164021144,
          0.21680923753582435,
          -1.0950094737114502,
          0.056583634010454915,
          -0.6523178644096864
         ]
        },
        {
         "customdata": [
          [
           "INTERNATIONAL WESTERN PETROLEUM, INC.",
           "Crude Petroleum and Natural Gas"
          ],
          [
           "DAYBREAK OIL & GAS, INC.",
           "Crude Petroleum and Natural Gas"
          ],
          [
           "GB SCIENCES INC",
           "Crude Petroleum and Natural Gas"
          ],
          [
           "FREEDOM HOLDING CORP.",
           "Crude Petroleum and Natural Gas"
          ],
          [
           "MEXCO ENERGY CORP",
           "Crude Petroleum and Natural Gas"
          ],
          [
           "SUSTAINABLE PROJECTS GROUP INC.",
           "Crude Petroleum and Natural Gas"
          ],
          [
           "AMERICAN ENERGY GROUP LTD",
           "Crude Petroleum and Natural Gas"
          ],
          [
           "REDHAWK HOLDINGS CORP.",
           "Crude Petroleum and Natural Gas"
          ],
          [
           "TIANCI INTERNATIONAL, INC.",
           "Crude Petroleum and Natural Gas"
          ],
          [
           "AMAZING ENERGY OIL & GAS, CO.",
           "Crude Petroleum and Natural Gas"
          ],
          [
           "ALTEX INDUSTRIES INC",
           "Crude Petroleum and Natural Gas"
          ],
          [
           "BARNWELL INDUSTRIES INC",
           "Crude Petroleum and Natural Gas"
          ],
          [
           "PANHANDLE OIL & GAS INC",
           "Crude Petroleum and Natural Gas"
          ],
          [
           "ENERGY 11, L.P.",
           "Crude Petroleum and Natural Gas"
          ],
          [
           "ABRAXAS PETROLEUM CORP",
           "Crude Petroleum and Natural Gas"
          ],
          [
           "SEARS OIL & GAS",
           "Crude Petroleum and Natural Gas"
          ],
          [
           "APACHE CORP",
           "Crude Petroleum and Natural Gas"
          ],
          [
           "GULFPORT ENERGY CORP",
           "Crude Petroleum and Natural Gas"
          ],
          [
           "CONTINENTAL RESOURCES, INC",
           "Crude Petroleum and Natural Gas"
          ],
          [
           "ISRAMCO INC",
           "Crude Petroleum and Natural Gas"
          ],
          [
           "CHAPARRAL ENERGY, INC.",
           "Crude Petroleum and Natural Gas"
          ],
          [
           "WHITING PETROLEUM CORP",
           "Crude Petroleum and Natural Gas"
          ],
          [
           "CONTANGO OIL & GAS CO",
           "Crude Petroleum and Natural Gas"
          ],
          [
           "EARTHSTONE ENERGY INC",
           "Crude Petroleum and Natural Gas"
          ],
          [
           "CLEAN COAL TECHNOLOGIES INC.",
           "Crude Petroleum and Natural Gas"
          ],
          [
           "NORTHERN OIL & GAS, INC.",
           "Crude Petroleum and Natural Gas"
          ],
          [
           "SRC ENERGY INC.",
           "Crude Petroleum and Natural Gas"
          ],
          [
           "JONES ENERGY, INC.",
           "Crude Petroleum and Natural Gas"
          ],
          [
           "GOODRICH PETROLEUM CORP",
           "Crude Petroleum and Natural Gas"
          ],
          [
           "OCCIDENTAL PETROLEUM CORP /DE/",
           "Crude Petroleum and Natural Gas"
          ],
          [
           "LONESTAR RESOURCES US INC.",
           "Crude Petroleum and Natural Gas"
          ],
          [
           "NOBLE ENERGY INC",
           "Crude Petroleum and Natural Gas"
          ],
          [
           "PIONEER NATURAL RESOURCES CO",
           "Crude Petroleum and Natural Gas"
          ],
          [
           "BONANZA CREEK ENERGY, INC.",
           "Crude Petroleum and Natural Gas"
          ],
          [
           "DEVON ENERGY CORP/DE",
           "Crude Petroleum and Natural Gas"
          ],
          [
           "CALIFORNIA RESOURCES CORP",
           "Crude Petroleum and Natural Gas"
          ],
          [
           "PARK PLACE ENERGY INC.",
           "Crude Petroleum and Natural Gas"
          ],
          [
           "ANTERO RESOURCES CORP",
           "Crude Petroleum and Natural Gas"
          ],
          [
           "LAREDO PETROLEUM, INC.",
           "Crude Petroleum and Natural Gas"
          ],
          [
           "CIMAREX ENERGY CO",
           "Crude Petroleum and Natural Gas"
          ],
          [
           "ALTA MESA HOLDINGS, LP",
           "Crude Petroleum and Natural Gas"
          ],
          [
           "US ENERGY CORP",
           "Crude Petroleum and Natural Gas"
          ],
          [
           "VICTORY ENERGY CORP",
           "Crude Petroleum and Natural Gas"
          ],
          [
           "VICTORY ENERGY CORP",
           "Crude Petroleum and Natural Gas"
          ],
          [
           "GRAN TIERRA ENERGY INC.",
           "Crude Petroleum and Natural Gas"
          ],
          [
           "MIDSTATES PETROLEUM COMPANY, INC.",
           "Crude Petroleum and Natural Gas"
          ],
          [
           "WILDHORSE RESOURCE DEVELOPMENT CORP",
           "Crude Petroleum and Natural Gas"
          ],
          [
           "SM ENERGY CO",
           "Crude Petroleum and Natural Gas"
          ],
          [
           "SANDRIDGE ENERGY INC",
           "Crude Petroleum and Natural Gas"
          ],
          [
           "RING ENERGY, INC.",
           "Crude Petroleum and Natural Gas"
          ],
          [
           "SANCHEZ ENERGY CORP",
           "Crude Petroleum and Natural Gas"
          ],
          [
           "TETRA TECHNOLOGIES INC",
           "Crude Petroleum and Natural Gas"
          ],
          [
           "RESERVE PETROLEUM CO",
           "Crude Petroleum and Natural Gas"
          ],
          [
           "HESS MIDSTREAM PARTNERS LP",
           "Crude Petroleum and Natural Gas"
          ],
          [
           "TORCHLIGHT ENERGY RESOURCES INC",
           "Crude Petroleum and Natural Gas"
          ],
          [
           "LINN ENERGY, INC.",
           "Crude Petroleum and Natural Gas"
          ],
          [
           "KOSMOS ENERGY LTD.",
           "Crude Petroleum and Natural Gas"
          ],
          [
           "SILVERBOW RESOURCES, INC.",
           "Crude Petroleum and Natural Gas"
          ],
          [
           "TELLURIAN INC. /DE/",
           "Crude Petroleum and Natural Gas"
          ],
          [
           "DORCHESTER MINERALS, L.P.",
           "Crude Petroleum and Natural Gas"
          ],
          [
           "MATADOR RESOURCES CO",
           "Crude Petroleum and Natural Gas"
          ],
          [
           "PDC ENERGY, INC.",
           "Crude Petroleum and Natural Gas"
          ],
          [
           "TEXAS SOUTH ENERGY, INC.",
           "Crude Petroleum and Natural Gas"
          ],
          [
           "PEDEVCO CORP",
           "Crude Petroleum and Natural Gas"
          ],
          [
           "VIPER ENERGY PARTNERS LP",
           "Crude Petroleum and Natural Gas"
          ],
          [
           "ENERJEX RESOURCES, INC.",
           "Crude Petroleum and Natural Gas"
          ],
          [
           "TENGASCO INC",
           "Crude Petroleum and Natural Gas"
          ],
          [
           "KIMBELL ROYALTY PARTNERS, LP",
           "Crude Petroleum and Natural Gas"
          ],
          [
           "CONCHO RESOURCES INC",
           "Crude Petroleum and Natural Gas"
          ],
          [
           "APACHE OFFSHORE INVESTMENT PARTNERSHIP",
           "Crude Petroleum and Natural Gas"
          ],
          [
           "EVERFLOW EASTERN PARTNERS LP",
           "Crude Petroleum and Natural Gas"
          ],
          [
           "CHESAPEAKE ENERGY CORP",
           "Crude Petroleum and Natural Gas"
          ],
          [
           "CARRIZO OIL & GAS INC",
           "Crude Petroleum and Natural Gas"
          ],
          [
           "CALLON PETROLEUM CO",
           "Crude Petroleum and Natural Gas"
          ],
          [
           "PENN VIRGINIA CORP",
           "Crude Petroleum and Natural Gas"
          ],
          [
           "DIAMONDBACK ENERGY, INC.",
           "Crude Petroleum and Natural Gas"
          ],
          [
           "COMSTOCK RESOURCES INC",
           "Crude Petroleum and Natural Gas"
          ],
          [
           "DALA PETROLEUM CORP.",
           "Crude Petroleum and Natural Gas"
          ],
          [
           "WPX ENERGY, INC.",
           "Crude Petroleum and Natural Gas"
          ],
          [
           "LILIS ENERGY, INC.",
           "Crude Petroleum and Natural Gas"
          ]
         ],
         "hovertemplate": "color=Crude Petroleum and Natural Gas<br>0=%{x}<br>1=%{y}<br>2=%{z}<br>name=%{customdata[0]}<br>industry=%{customdata[1]}<extra></extra>",
         "legendgroup": "Crude Petroleum and Natural Gas",
         "marker": {
          "color": "#EF553B",
          "symbol": "circle"
         },
         "mode": "markers",
         "name": "Crude Petroleum and Natural Gas",
         "scene": "scene",
         "showlegend": true,
         "type": "scatter3d",
         "x": [
          -0.011016359999416544,
          0.08155386206843944,
          2.462099851337891,
          -0.28697004872949294,
          -0.12271166860608067,
          -0.09151559034040195,
          -0.39587715008798335,
          -0.7110852888687117,
          -0.42878612991982784,
          0.09617126229125686,
          -0.1871257906968486,
          -0.06893906122791099,
          0.005570572988258235,
          0.09464786606727274,
          0.03560184582774969,
          0.5109616399268468,
          0.06233808514145307,
          0.09054483600459116,
          0.031010922276035576,
          0.04953400784377289,
          -0.37438195034439525,
          -0.06708215011839007,
          0.29832478956419073,
          -0.12205889947896169,
          2.0458749271028576,
          -0.007289827711718093,
          0.008538084986114114,
          -0.16890359317694262,
          -0.40728408175738534,
          0.015602160189029022,
          0.04346074933256323,
          -0.6697155800154887,
          -0.12235821283873294,
          -0.008694633780533995,
          -0.26892732580488216,
          -0.8187277664172493,
          0.37637932658779616,
          -0.37870735777298353,
          -0.19456371198110567,
          -0.24210537742266366,
          -0.12575158790680216,
          -0.14160722720488364,
          -0.39324925398404675,
          -0.39324925398404675,
          -0.1114881135917915,
          -0.10621646148439282,
          -0.2322782700774762,
          0.004080862008604937,
          0.07361253698856135,
          0.0031906416194942226,
          -0.01212898211375629,
          0.5824285596818084,
          -0.1802782494833803,
          -0.35171787234631946,
          0.4728563072340267,
          -0.2597686182753997,
          -0.3073786948301735,
          0.01529033008039482,
          -0.003990228024909538,
          -0.10951741038078724,
          -0.06755645741309664,
          -0.3804617599000915,
          -0.03965219230720992,
          -0.12133498686550591,
          -0.17736654694695664,
          0.7300781038836445,
          -0.21177117435553786,
          0.10366216005670133,
          -0.07735142540926114,
          -0.4297678465119215,
          -0.05545683157331381,
          -0.1327344809355501,
          -0.17424894246612416,
          -0.35689033641190526,
          0.19005831479159993,
          -0.3264930509825914,
          -0.15374297521622832,
          -0.49303873936567116,
          -0.2202918945350306,
          -0.26926157012974444
         ],
         "y": [
          -2.159120773497067,
          -1.7237457683298263,
          0.22049976134949964,
          0.44969182300697924,
          -1.975553342998026,
          -0.8060442510236057,
          -0.6607071186145245,
          -1.2547921814557723,
          -1.3022603351080568,
          -2.1054540846714347,
          -0.7757140214177942,
          -2.148860305744213,
          -2.110554357354409,
          -2.132811624958826,
          -1.4056534129841551,
          -0.9777923260433907,
          -1.9602969318956849,
          -2.0884417777715027,
          -1.946252652773925,
          -2.128860574481513,
          -2.2571857899846526,
          -2.00373674540762,
          -0.6071135414581916,
          -2.053396171425369,
          -0.24667648998583172,
          -2.2074428675920177,
          -2.2172476340236114,
          -2.2467439393861803,
          -2.414468116824446,
          -2.0887852200639414,
          -2.0585670984181554,
          -2.14793886540128,
          -1.3950731530835287,
          -2.1551103063560535,
          -1.3217588865357903,
          -2.0005406215692845,
          -1.884173138008936,
          -2.0141086672474104,
          -2.151521457475432,
          -1.5677609992040142,
          -1.8355872026257285,
          -2.2769041615473316,
          -1.952916882470048,
          -1.952916882470048,
          -2.1781461216090756,
          -2.1514572500564344,
          -2.254809402369203,
          -1.3838597962533603,
          -2.0954654619943107,
          -2.1619866837558734,
          -2.128581695295441,
          -1.3498816223451227,
          -1.3058365881853564,
          -1.7879166308329313,
          -1.2780669237317865,
          -2.1986201117869726,
          -2.233787307584405,
          -2.0821756160994362,
          -2.0735639458158475,
          -2.0812744306600535,
          -2.199450076430899,
          -2.0351573298705055,
          -1.2088592796701596,
          -1.065504252675034,
          -2.109120199872637,
          -0.8847276181989782,
          -1.2454952442954512,
          -2.1656289620475957,
          -2.2338785495609907,
          -1.9174319652460148,
          -1.935139648253761,
          -2.0783890814081953,
          -2.0150631181858167,
          -2.1526162587121815,
          -1.4970149757729743,
          -2.3097952965978963,
          -2.164400248321141,
          -1.5349431506220133,
          -2.304473820164859,
          -2.251545039230996
         ],
         "z": [
          4.56371797575788,
          3.938868638449483,
          -0.3605212531165714,
          0.9507637157642929,
          3.579504068287644,
          0.043609326531132565,
          1.771152850344191,
          -1.0989862175159664,
          0.5910242668019233,
          4.714584304537384,
          2.506761985756657,
          5.017965262146563,
          4.791354023846556,
          4.886838386062322,
          2.1661811866506553,
          0.48433028604824574,
          3.6849075258405293,
          4.725480271085025,
          4.293631449694969,
          4.368730691226048,
          4.116195069703483,
          4.064488744459552,
          2.408864877343204,
          3.0802551011488393,
          0.7384005541138632,
          4.816602495361887,
          4.558499732815263,
          4.0840746209682965,
          3.9246849548204223,
          4.693154629250542,
          4.7294979584628845,
          2.002297793210922,
          1.4824567914261901,
          4.3195680704102575,
          2.5857000041911324,
          0.8884399241020748,
          4.322078137006368,
          3.3159435285307466,
          4.180736645281131,
          2.452450653113488,
          3.21768681240676,
          4.69118502864575,
          1.2993973227655624,
          1.2993973227655624,
          3.9548821132755454,
          4.155303849461586,
          3.9176480221063086,
          2.719601762324767,
          4.83480418422748,
          4.7422171479593045,
          4.688555667943517,
          2.3471025471243783,
          2.8874706870533102,
          2.6134782823182356,
          3.348507494685682,
          3.956774141126981,
          3.4540532440937826,
          4.574732126382141,
          4.0871592801834575,
          4.158338508602582,
          4.620045418187553,
          3.392584317946045,
          2.4488621306316682,
          1.1369564371408054,
          4.26628027364922,
          0.20127352549436367,
          2.366172394532419,
          4.636484160965094,
          4.299763108395484,
          2.5512459323338894,
          4.467620982570664,
          3.7304419950626335,
          3.340587535184327,
          4.345030455134187,
          2.320834356678521,
          4.064821944851492,
          4.572557762118642,
          0.061566518108386106,
          4.18609010919212,
          4.262119224385085
         ]
        },
        {
         "customdata": [
          [
           "ULURU INC.",
           "Pharmaceutical Preparations"
          ],
          [
           "CHINA YCT INTERNATIONAL GROUP, INC.",
           "Pharmaceutical Preparations"
          ],
          [
           "AXOVANT SCIENCES LTD.",
           "Pharmaceutical Preparations"
          ],
          [
           "MYOVANT SCIENCES LTD.",
           "Pharmaceutical Preparations"
          ],
          [
           "PRESTIGE BRANDS HOLDINGS, INC.",
           "Pharmaceutical Preparations"
          ],
          [
           "HYPGEN INC",
           "Pharmaceutical Preparations"
          ],
          [
           "HYPGEN INC",
           "Pharmaceutical Preparations"
          ],
          [
           "DANDRIT BIOTECH USA, INC.",
           "Pharmaceutical Preparations"
          ],
          [
           "REZOLUTE, INC.",
           "Pharmaceutical Preparations"
          ],
          [
           "OPTEC INTERNATIONAL, INC.",
           "Pharmaceutical Preparations"
          ],
          [
           "OPTEC INTERNATIONAL, INC.",
           "Pharmaceutical Preparations"
          ],
          [
           "BIOVIE INC.",
           "Pharmaceutical Preparations"
          ],
          [
           "ONCOSEC MEDICAL INC",
           "Pharmaceutical Preparations"
          ],
          [
           "CANNABICS PHARMACEUTICALS INC.",
           "Pharmaceutical Preparations"
          ],
          [
           "ORAMED PHARMACEUTICALS INC.",
           "Pharmaceutical Preparations"
          ],
          [
           "ENTEST BIOMEDICAL, INC.",
           "Pharmaceutical Preparations"
          ],
          [
           "MY CLOUDZ, INC.",
           "Pharmaceutical Preparations"
          ],
          [
           "MY CLOUDZ, INC.",
           "Pharmaceutical Preparations"
          ],
          [
           "ENANTA PHARMACEUTICALS INC",
           "Pharmaceutical Preparations"
          ],
          [
           "CITIUS PHARMACEUTICALS, INC.",
           "Pharmaceutical Preparations"
          ],
          [
           "STELLAR BIOTECHNOLOGIES, INC.",
           "Pharmaceutical Preparations"
          ],
          [
           "REGEN BIOPHARMA INC",
           "Pharmaceutical Preparations"
          ],
          [
           "REGEN BIOPHARMA INC",
           "Pharmaceutical Preparations"
          ],
          [
           "ADVAXIS, INC.",
           "Pharmaceutical Preparations"
          ],
          [
           "ORGENESIS INC.",
           "Pharmaceutical Preparations"
          ],
          [
           "Q BIOMED INC.",
           "Pharmaceutical Preparations"
          ],
          [
           "JOHNSON & JOHNSON",
           "Pharmaceutical Preparations"
          ],
          [
           "BRISTOL MYERS SQUIBB CO",
           "Pharmaceutical Preparations"
          ],
          [
           "VBI VACCINES INC/BC",
           "Pharmaceutical Preparations"
          ],
          [
           "INTRA-CELLULAR THERAPIES, INC.",
           "Pharmaceutical Preparations"
          ],
          [
           "ROCKET PHARMACEUTICALS, INC.",
           "Pharmaceutical Preparations"
          ],
          [
           "ATLAS HOLDINGS, INC.",
           "Pharmaceutical Preparations"
          ],
          [
           "NEMUS BIOSCIENCE, INC.",
           "Pharmaceutical Preparations"
          ],
          [
           "NEMUS BIOSCIENCE, INC.",
           "Pharmaceutical Preparations"
          ],
          [
           "OVASCIENCE, INC.",
           "Pharmaceutical Preparations"
          ],
          [
           "CONCERT PHARMACEUTICALS, INC.",
           "Pharmaceutical Preparations"
          ],
          [
           "AKCEA THERAPEUTICS, INC.",
           "Pharmaceutical Preparations"
          ],
          [
           "ARQULE INC",
           "Pharmaceutical Preparations"
          ],
          [
           "AXIM BIOTECHNOLOGIES, INC.",
           "Pharmaceutical Preparations"
          ],
          [
           "GUARDION HEALTH SCIENCES, INC.",
           "Pharmaceutical Preparations"
          ],
          [
           "RETROPHIN, INC.",
           "Pharmaceutical Preparations"
          ],
          [
           "SYNDAX PHARMACEUTICALS INC",
           "Pharmaceutical Preparations"
          ],
          [
           "FIBROGEN INC",
           "Pharmaceutical Preparations"
          ],
          [
           "PROTOKINETIX, INC.",
           "Pharmaceutical Preparations"
          ],
          [
           "PROGENICS PHARMACEUTICALS INC",
           "Pharmaceutical Preparations"
          ],
          [
           "CHECKPOINT THERAPEUTICS, INC.",
           "Pharmaceutical Preparations"
          ],
          [
           "PFENEX INC.",
           "Pharmaceutical Preparations"
          ],
          [
           "PAIN THERAPEUTICS INC",
           "Pharmaceutical Preparations"
          ],
          [
           "ZOMEDICA PHARMACEUTICALS CORP.",
           "Pharmaceutical Preparations"
          ],
          [
           "ZOMEDICA PHARMACEUTICALS CORP.",
           "Pharmaceutical Preparations"
          ],
          [
           "MOLECULAR TEMPLATES, INC.",
           "Pharmaceutical Preparations"
          ],
          [
           "WAVE LIFE SCIENCES LTD.",
           "Pharmaceutical Preparations"
          ],
          [
           "CYMABAY THERAPEUTICS, INC.",
           "Pharmaceutical Preparations"
          ],
          [
           "AMICUS THERAPEUTICS INC",
           "Pharmaceutical Preparations"
          ],
          [
           "EVOKE PHARMA INC",
           "Pharmaceutical Preparations"
          ],
          [
           "CHEMBIO DIAGNOSTICS, INC.",
           "Pharmaceutical Preparations"
          ],
          [
           "CARA THERAPEUTICS, INC.",
           "Pharmaceutical Preparations"
          ],
          [
           "CYTOMX THERAPEUTICS, INC.",
           "Pharmaceutical Preparations"
          ],
          [
           "XENCOR INC",
           "Pharmaceutical Preparations"
          ],
          [
           "CATABASIS PHARMACEUTICALS INC",
           "Pharmaceutical Preparations"
          ],
          [
           "SERES THERAPEUTICS, INC.",
           "Pharmaceutical Preparations"
          ],
          [
           "EYEGATE PHARMACEUTICALS INC",
           "Pharmaceutical Preparations"
          ],
          [
           "ARENA PHARMACEUTICALS INC",
           "Pharmaceutical Preparations"
          ],
          [
           "ALEXION PHARMACEUTICALS INC",
           "Pharmaceutical Preparations"
          ],
          [
           "MELINTA THERAPEUTICS, INC. /NEW/",
           "Pharmaceutical Preparations"
          ],
          [
           "FIVE PRIME THERAPEUTICS INC",
           "Pharmaceutical Preparations"
          ],
          [
           "LIXTE BIOTECHNOLOGY HOLDINGS, INC.",
           "Pharmaceutical Preparations"
          ],
          [
           "ARATANA THERAPEUTICS, INC.",
           "Pharmaceutical Preparations"
          ],
          [
           "CHIASMA, INC",
           "Pharmaceutical Preparations"
          ],
          [
           "CELGENE CORP /DE/",
           "Pharmaceutical Preparations"
          ],
          [
           "NEWLINK GENETICS CORP",
           "Pharmaceutical Preparations"
          ],
          [
           "LIGAND PHARMACEUTICALS INC",
           "Pharmaceutical Preparations"
          ],
          [
           "PORTOLA PHARMACEUTICALS INC",
           "Pharmaceutical Preparations"
          ],
          [
           "PLX PHARMA INC.",
           "Pharmaceutical Preparations"
          ],
          [
           "ARDELYX, INC.",
           "Pharmaceutical Preparations"
          ],
          [
           "PROTAGONIST THERAPEUTICS, INC",
           "Pharmaceutical Preparations"
          ],
          [
           "MOLECULIN BIOTECH, INC.",
           "Pharmaceutical Preparations"
          ],
          [
           "IRONWOOD PHARMACEUTICALS INC",
           "Pharmaceutical Preparations"
          ],
          [
           "FORTRESS BIOTECH, INC.",
           "Pharmaceutical Preparations"
          ],
          [
           "SYNTHETIC BIOLOGICS, INC.",
           "Pharmaceutical Preparations"
          ],
          [
           "OPTINOSE, INC.",
           "Pharmaceutical Preparations"
          ],
          [
           "CORMEDIX INC.",
           "Pharmaceutical Preparations"
          ],
          [
           "HEAT BIOLOGICS, INC.",
           "Pharmaceutical Preparations"
          ],
          [
           "SUN BIOPHARMA, INC.",
           "Pharmaceutical Preparations"
          ],
          [
           "BELLEROPHON THERAPEUTICS, INC.",
           "Pharmaceutical Preparations"
          ],
          [
           "BIOSPECIFICS TECHNOLOGIES CORP",
           "Pharmaceutical Preparations"
          ],
          [
           "ZOSANO PHARMA CORP",
           "Pharmaceutical Preparations"
          ],
          [
           "CV SCIENCES, INC.",
           "Pharmaceutical Preparations"
          ],
          [
           "LILLY ELI & CO",
           "Pharmaceutical Preparations"
          ],
          [
           "SAREPTA THERAPEUTICS, INC.",
           "Pharmaceutical Preparations"
          ],
          [
           "EXICURE, INC.",
           "Pharmaceutical Preparations"
          ],
          [
           "OVID THERAPEUTICS INC.",
           "Pharmaceutical Preparations"
          ],
          [
           "IMPRIMIS PHARMACEUTICALS, INC.",
           "Pharmaceutical Preparations"
          ],
          [
           "IONIS PHARMACEUTICALS INC",
           "Pharmaceutical Preparations"
          ],
          [
           "ONCOMED PHARMACEUTICALS INC",
           "Pharmaceutical Preparations"
          ],
          [
           "TONIX PHARMACEUTICALS HOLDING CORP.",
           "Pharmaceutical Preparations"
          ],
          [
           "TEVA PHARMACEUTICAL INDUSTRIES LTD",
           "Pharmaceutical Preparations"
          ],
          [
           "RHYTHM PHARMACEUTICALS, INC.",
           "Pharmaceutical Preparations"
          ],
          [
           "COCRYSTAL PHARMA, INC.",
           "Pharmaceutical Preparations"
          ],
          [
           "REGENERON PHARMACEUTICALS INC",
           "Pharmaceutical Preparations"
          ],
          [
           "ANI PHARMACEUTICALS INC",
           "Pharmaceutical Preparations"
          ],
          [
           "CLEARSIDE BIOMEDICAL, INC.",
           "Pharmaceutical Preparations"
          ],
          [
           "LIPOCINE INC.",
           "Pharmaceutical Preparations"
          ],
          [
           "GALECTIN THERAPEUTICS INC",
           "Pharmaceutical Preparations"
          ],
          [
           "STEMLINE THERAPEUTICS INC",
           "Pharmaceutical Preparations"
          ],
          [
           "DOVA PHARMACEUTICALS, INC.",
           "Pharmaceutical Preparations"
          ],
          [
           "ABBVIE INC.",
           "Pharmaceutical Preparations"
          ],
          [
           "AKORN INC",
           "Pharmaceutical Preparations"
          ],
          [
           "VALEANT PHARMACEUTICALS INTERNATIONAL, INC.",
           "Pharmaceutical Preparations"
          ],
          [
           "INTELGENX TECHNOLOGIES CORP.",
           "Pharmaceutical Preparations"
          ],
          [
           "PFIZER INC",
           "Pharmaceutical Preparations"
          ],
          [
           "SKINVISIBLE INC",
           "Pharmaceutical Preparations"
          ],
          [
           "TAPIMMUNE INC.",
           "Pharmaceutical Preparations"
          ],
          [
           "THERAPEUTICSMD, INC.",
           "Pharmaceutical Preparations"
          ],
          [
           "AQUINOX PHARMACEUTICALS, INC",
           "Pharmaceutical Preparations"
          ],
          [
           "GLOBAL BLOOD THERAPEUTICS, INC.",
           "Pharmaceutical Preparations"
          ],
          [
           "RIGEL PHARMACEUTICALS INC",
           "Pharmaceutical Preparations"
          ],
          [
           "PARATEK PHARMACEUTICALS, INC.",
           "Pharmaceutical Preparations"
          ],
          [
           "PERRIGO CO PLC",
           "Pharmaceutical Preparations"
          ],
          [
           "ZAFGEN, INC.",
           "Pharmaceutical Preparations"
          ],
          [
           "OPHTHOTECH CORP.",
           "Pharmaceutical Preparations"
          ],
          [
           "ACHILLION PHARMACEUTICALS INC",
           "Pharmaceutical Preparations"
          ],
          [
           "KEMPHARM, INC",
           "Pharmaceutical Preparations"
          ],
          [
           "INTERCEPT PHARMACEUTICALS INC",
           "Pharmaceutical Preparations"
          ],
          [
           "ULTRAGENYX PHARMACEUTICAL INC.",
           "Pharmaceutical Preparations"
          ],
          [
           "EMERGENT BIOSOLUTIONS INC.",
           "Pharmaceutical Preparations"
          ],
          [
           "ACER THERAPEUTICS INC.",
           "Pharmaceutical Preparations"
          ],
          [
           "HERON THERAPEUTICS, INC. /DE/",
           "Pharmaceutical Preparations"
          ],
          [
           "ADAMIS PHARMACEUTICALS CORP",
           "Pharmaceutical Preparations"
          ],
          [
           "GT BIOPHARMA, INC.",
           "Pharmaceutical Preparations"
          ],
          [
           "GT BIOPHARMA, INC.",
           "Pharmaceutical Preparations"
          ],
          [
           "GT BIOPHARMA, INC.",
           "Pharmaceutical Preparations"
          ],
          [
           "GT BIOPHARMA, INC.",
           "Pharmaceutical Preparations"
          ],
          [
           "GT BIOPHARMA, INC.",
           "Pharmaceutical Preparations"
          ],
          [
           "GT BIOPHARMA, INC.",
           "Pharmaceutical Preparations"
          ],
          [
           "IMMUNOGEN INC",
           "Pharmaceutical Preparations"
          ],
          [
           "PTC THERAPEUTICS, INC.",
           "Pharmaceutical Preparations"
          ],
          [
           "MANNKIND CORP",
           "Pharmaceutical Preparations"
          ],
          [
           "CARDAX, INC.",
           "Pharmaceutical Preparations"
          ],
          [
           "SYROS PHARMACEUTICALS, INC.",
           "Pharmaceutical Preparations"
          ],
          [
           "ADURO BIOTECH, INC.",
           "Pharmaceutical Preparations"
          ],
          [
           "SIENNA BIOPHARMACEUTICALS, INC.",
           "Pharmaceutical Preparations"
          ],
          [
           "ACHAOGEN INC",
           "Pharmaceutical Preparations"
          ],
          [
           "UNITED CANNABIS CORP",
           "Pharmaceutical Preparations"
          ],
          [
           "UNITED CANNABIS CORP",
           "Pharmaceutical Preparations"
          ],
          [
           "RXI PHARMACEUTICALS CORP",
           "Pharmaceutical Preparations"
          ],
          [
           "RXI PHARMACEUTICALS CORP",
           "Pharmaceutical Preparations"
          ],
          [
           "RXI PHARMACEUTICALS CORP",
           "Pharmaceutical Preparations"
          ],
          [
           "RXI PHARMACEUTICALS CORP",
           "Pharmaceutical Preparations"
          ],
          [
           "SOLIGENIX, INC.",
           "Pharmaceutical Preparations"
          ],
          [
           "XOMA CORP",
           "Pharmaceutical Preparations"
          ],
          [
           "SIERRA ONCOLOGY, INC.",
           "Pharmaceutical Preparations"
          ],
          [
           "ACTINIUM PHARMACEUTICALS, INC.",
           "Pharmaceutical Preparations"
          ],
          [
           "ORAGENICS INC",
           "Pharmaceutical Preparations"
          ],
          [
           "ATHERSYS, INC / NEW",
           "Pharmaceutical Preparations"
          ],
          [
           "PULMATRIX, INC.",
           "Pharmaceutical Preparations"
          ],
          [
           "ACADIA PHARMACEUTICALS INC",
           "Pharmaceutical Preparations"
          ],
          [
           "TREVENA INC",
           "Pharmaceutical Preparations"
          ],
          [
           "NATURES SUNSHINE PRODUCTS INC",
           "Pharmaceutical Preparations"
          ],
          [
           "FLEXION THERAPEUTICS INC",
           "Pharmaceutical Preparations"
          ],
          [
           "VERASTEM, INC.",
           "Pharmaceutical Preparations"
          ],
          [
           "XENON PHARMACEUTICALS INC.",
           "Pharmaceutical Preparations"
          ],
          [
           "SUNESIS PHARMACEUTICALS INC",
           "Pharmaceutical Preparations"
          ],
          [
           "CORVUS PHARMACEUTICALS, INC.",
           "Pharmaceutical Preparations"
          ],
          [
           "MERCK & CO., INC.",
           "Pharmaceutical Preparations"
          ],
          [
           "STRONGBRIDGE BIOPHARMA PLC",
           "Pharmaceutical Preparations"
          ],
          [
           "CATALYST PHARMACEUTICALS, INC.",
           "Pharmaceutical Preparations"
          ],
          [
           "ASSEMBLY BIOSCIENCES, INC.",
           "Pharmaceutical Preparations"
          ],
          [
           "APRICUS BIOSCIENCES, INC.",
           "Pharmaceutical Preparations"
          ],
          [
           "CATALYST BIOSCIENCES, INC.",
           "Pharmaceutical Preparations"
          ],
          [
           "MIRATI THERAPEUTICS, INC.",
           "Pharmaceutical Preparations"
          ],
          [
           "MUSTANG BIO, INC.",
           "Pharmaceutical Preparations"
          ],
          [
           "ACELRX PHARMACEUTICALS INC",
           "Pharmaceutical Preparations"
          ],
          [
           "BLUEPRINT MEDICINES CORP",
           "Pharmaceutical Preparations"
          ],
          [
           "ATHENEX, INC.",
           "Pharmaceutical Preparations"
          ],
          [
           "ATHENEX, INC.",
           "Pharmaceutical Preparations"
          ],
          [
           "RECRO PHARMA, INC.",
           "Pharmaceutical Preparations"
          ],
          [
           "BIOHAVEN PHARMACEUTICAL HOLDING CO LTD.",
           "Pharmaceutical Preparations"
          ],
          [
           "PROTHENA CORP PLC",
           "Pharmaceutical Preparations"
          ],
          [
           "AVENUE THERAPEUTICS, INC.",
           "Pharmaceutical Preparations"
          ],
          [
           "VTV THERAPEUTICS INC.",
           "Pharmaceutical Preparations"
          ],
          [
           "ZYNERBA PHARMACEUTICALS, INC.",
           "Pharmaceutical Preparations"
          ],
          [
           "BIOMARIN PHARMACEUTICAL INC",
           "Pharmaceutical Preparations"
          ],
          [
           "KARYOPHARM THERAPEUTICS INC.",
           "Pharmaceutical Preparations"
          ],
          [
           "LEXICON PHARMACEUTICALS, INC.",
           "Pharmaceutical Preparations"
          ],
          [
           "ENDO INTERNATIONAL PLC",
           "Pharmaceutical Preparations"
          ],
          [
           "PROPHASE LABS, INC.",
           "Pharmaceutical Preparations"
          ],
          [
           "CELLECTAR BIOSCIENCES, INC.",
           "Pharmaceutical Preparations"
          ],
          [
           "RITTER PHARMACEUTICALS INC",
           "Pharmaceutical Preparations"
          ],
          [
           "MARINUS PHARMACEUTICALS INC",
           "Pharmaceutical Preparations"
          ],
          [
           "CORCEPT THERAPEUTICS INC",
           "Pharmaceutical Preparations"
          ],
          [
           "ALNYLAM PHARMACEUTICALS, INC.",
           "Pharmaceutical Preparations"
          ],
          [
           "DARE BIOSCIENCE, INC.",
           "Pharmaceutical Preparations"
          ],
          [
           "TELIGENT, INC.",
           "Pharmaceutical Preparations"
          ],
          [
           "TELIGENT, INC.",
           "Pharmaceutical Preparations"
          ],
          [
           "ACLARIS THERAPEUTICS, INC.",
           "Pharmaceutical Preparations"
          ],
          [
           "VITAL THERAPIES INC",
           "Pharmaceutical Preparations"
          ],
          [
           "DECIPHERA PHARMACEUTICALS, INC.",
           "Pharmaceutical Preparations"
          ],
          [
           "CAPSTONE THERAPEUTICS CORP.",
           "Pharmaceutical Preparations"
          ],
          [
           "PACIRA PHARMACEUTICALS, INC.",
           "Pharmaceutical Preparations"
          ],
          [
           "UROGEN PHARMA LTD.",
           "Pharmaceutical Preparations"
          ],
          [
           "FIBROCELL SCIENCE, INC.",
           "Pharmaceutical Preparations"
          ],
          [
           "FLEX PHARMA, INC.",
           "Pharmaceutical Preparations"
          ],
          [
           "BIODELIVERY SCIENCES INTERNATIONAL INC",
           "Pharmaceutical Preparations"
          ],
          [
           "HORIZON PHARMA PLC",
           "Pharmaceutical Preparations"
          ],
          [
           "MERRIMACK PHARMACEUTICALS INC",
           "Pharmaceutical Preparations"
          ],
          [
           "CYCLACEL PHARMACEUTICALS, INC.",
           "Pharmaceutical Preparations"
          ],
          [
           "ZOETIS INC.",
           "Pharmaceutical Preparations"
          ]
         ],
         "hovertemplate": "color=Pharmaceutical Preparations<br>0=%{x}<br>1=%{y}<br>2=%{z}<br>name=%{customdata[0]}<br>industry=%{customdata[1]}<extra></extra>",
         "legendgroup": "Pharmaceutical Preparations",
         "marker": {
          "color": "#00cc96",
          "symbol": "circle"
         },
         "mode": "markers",
         "name": "Pharmaceutical Preparations",
         "scene": "scene",
         "showlegend": true,
         "type": "scatter3d",
         "x": [
          1.7908186901404886,
          1.04842856077752,
          5.244782795286597,
          4.093085366795744,
          0.6159656824688952,
          1.275151634782319,
          1.275151634782319,
          4.891433821577179,
          3.2055263965478815,
          0.40851714222209,
          0.40851714222209,
          4.323478747304614,
          5.043622732762966,
          1.7555321404693722,
          4.760336823727878,
          -0.563782066404926,
          -0.32356865085987807,
          -0.32356865085987807,
          5.836282667357333,
          1.4157949715407052,
          2.77090287568168,
          0.04519229116169658,
          0.04519229116169658,
          4.3487114533434275,
          3.8315916579780236,
          4.501999502272968,
          0.43354755060984906,
          1.2821134573890172,
          4.033518371485869,
          4.8696885048586696,
          1.0485964070163694,
          1.573698055404979,
          4.937634862090006,
          4.937634862090006,
          5.357694893113865,
          3.876074805491826,
          2.0225308621672995,
          2.5218752185612723,
          3.1517580456730165,
          0.08731936352727998,
          5.196216047416212,
          5.684504289099977,
          4.3275433156075085,
          2.695879662355113,
          0.5714775806333628,
          4.380801192255778,
          4.432520250630029,
          3.280801771834039,
          3.3842698954782233,
          3.3842698954782233,
          5.235833192455948,
          5.484822122184713,
          2.249956151675806,
          3.401765985649941,
          4.659195092941705,
          3.295789011590081,
          2.7301532164097715,
          5.146815552252807,
          0.2337793359923079,
          2.0303731239458362,
          4.00369626368319,
          4.466554694126046,
          4.070954244278144,
          3.084125542173873,
          3.5158295529856125,
          -0.45028080289901073,
          4.92330294147821,
          2.053782246094331,
          5.1182842223762295,
          4.433588069676677,
          5.152755600465686,
          4.603511354649548,
          4.760978496047265,
          5.232347388904833,
          4.499525675932828,
          5.536660389707816,
          4.431878081456533,
          3.691168808287395,
          0.8048082439409726,
          4.4211253541617515,
          4.977357982620846,
          4.961728821603568,
          4.124819692638039,
          4.369129188020187,
          3.988699085185551,
          3.1013137562587283,
          2.8165696557526188,
          2.468852717217848,
          2.103062908728146,
          5.270155101643839,
          4.241110714714461,
          3.082992232162955,
          1.4961862122283232,
          2.136255727314262,
          5.1927974188702075,
          3.0467719740284775,
          3.0372215572213612,
          5.043130921263229,
          2.596808340313988,
          4.133410291969357,
          1.2874258341023603,
          5.36987010772094,
          3.612349212649637,
          4.507412481121615,
          5.114429848731493,
          3.483676172625316,
          3.044659781477708,
          0.59342419944203,
          1.512379857621682,
          3.7106282615619084,
          0.6685286397998156,
          1.176604134050558,
          5.364905067978196,
          3.9438097867324213,
          5.230664494938538,
          4.022735370508782,
          5.006201341102254,
          2.8843400988896644,
          0.5016827285717921,
          -0.2921193051851502,
          5.432531185745795,
          5.0662425252156575,
          5.519676611570656,
          3.731616881801753,
          2.8307123200465987,
          4.3742132017237925,
          4.185797153725103,
          2.3846612469499213,
          4.698829961724789,
          3.929995446182421,
          3.9299954461824216,
          3.9299954461824216,
          3.9299954461824216,
          3.9299954461824216,
          3.9299954461824216,
          5.220508495395286,
          3.5329920089228803,
          4.804777031654602,
          3.8290426872131356,
          5.718111059841494,
          5.484576215117552,
          5.28792186495018,
          5.017614406383108,
          1.3422668029066191,
          1.3422668029066191,
          4.328491839465719,
          4.328491839465719,
          4.328491839465719,
          4.328491839465719,
          3.935659146249988,
          1.7789699205631733,
          4.47799013851258,
          5.675075956999482,
          5.526225341284716,
          5.265173055881332,
          5.099805256950018,
          4.380195512981237,
          3.107164985073095,
          0.6321043381349833,
          4.12943572347705,
          3.9685756348106636,
          4.598673368404435,
          5.39853448719332,
          5.210490051691663,
          3.1178335466905036,
          5.731312151851505,
          5.333178845419804,
          2.543536920715446,
          5.292640411328031,
          5.493337561092028,
          5.565435137692008,
          5.1254643991199496,
          1.9505314693748876,
          4.64067364154383,
          5.00369553478837,
          5.00369553478837,
          5.078807717869145,
          5.088996256435547,
          3.3035941323895472,
          5.4025617583794014,
          3.842831648082093,
          4.779693900814406,
          2.78117014340205,
          4.4997960064100475,
          3.9568738941449646,
          2.6129449147371226,
          1.6401823901770805,
          2.8880900503167526,
          5.415653055360639,
          2.0434014211687788,
          4.450808608300703,
          4.8493675757289285,
          4.760594454321871,
          1.4868810793901897,
          1.4868810793901897,
          3.236783847272738,
          4.262078829446069,
          4.54848769539543,
          4.27648681933653,
          0.0015653756258796315,
          5.865782876374084,
          5.471118305551603,
          3.7400885311572662,
          4.759239256014748,
          3.42715708983864,
          5.443639880104999,
          5.004415982142539,
          -0.45913404829204296
         ],
         "y": [
          -0.16877905704419663,
          -0.4941908293043176,
          1.8927739306775546,
          1.2418693972523582,
          -0.9170205402466686,
          -0.44870210035769703,
          -0.44870210035769703,
          1.618312836933831,
          0.812905580944659,
          -0.721613614332778,
          -0.721613614332778,
          1.4229301204759384,
          1.7922877137891111,
          -0.3187863635094989,
          1.399777399747248,
          -1.2616287301342175,
          -1.1311475117565353,
          -1.1311475117565353,
          1.9811150720158952,
          -0.10602138964078726,
          0.3071537151325042,
          -1.1544379988595694,
          -1.1544379988595694,
          1.3986763940140141,
          0.8482685543823262,
          1.2731686644943787,
          -0.2741432646298527,
          -0.3957522988255489,
          1.0265386570254735,
          1.617729821054734,
          -0.2840877738726928,
          -0.22554020150284948,
          1.6092604381054136,
          1.6092604381054136,
          1.8859599137274952,
          1.1518456115835392,
          0.1868574452764291,
          0.5300149770425601,
          0.5500986595853256,
          -0.9329833462060979,
          1.69969967046705,
          2.0505356180448655,
          1.4555991160580806,
          0.20506462004852533,
          -0.7335177987841605,
          1.198370841061009,
          1.3703683691293551,
          0.8696341259230432,
          0.7894842143857514,
          0.7894842143857514,
          1.7202548083466715,
          1.8711761961834492,
          0.2603563640459142,
          0.8213878048558132,
          1.3150134124913684,
          0.5992340188990063,
          0.08182527084984255,
          1.7752226889976368,
          -0.7160646566791057,
          0.17422280605929102,
          1.1616841652565584,
          1.460386289292688,
          1.0698879840091635,
          0.780767638252043,
          0.68412657230271,
          -0.7399911986714607,
          1.67188720810576,
          -0.01698706250987195,
          1.7440031921255674,
          1.359247588576206,
          1.6672585455006945,
          1.548929263798201,
          1.4083924503347702,
          1.868758602592727,
          1.4381505020187637,
          1.9731162973195722,
          1.2155127817415368,
          0.9239946100221222,
          -1.0175369571972643,
          1.5090689242275237,
          1.756951272307476,
          1.57837025161332,
          1.32719871283413,
          1.149872702610765,
          1.3077549830574726,
          0.7305360891826943,
          0.4679338016548879,
          0.15097713333730461,
          0.1536271385228643,
          1.8821079891272254,
          1.3899701431616855,
          0.7971487866558765,
          -0.25641162866632095,
          0.2887787271284215,
          1.6945071153118445,
          0.6485397603862744,
          0.5085811276043251,
          1.7448871739871252,
          0.22502439358601922,
          1.0980675760839633,
          -0.5069533070988015,
          1.885036073325696,
          0.8811992575724084,
          1.5015814775210712,
          1.7152557274306164,
          0.6804214019860263,
          0.45164717524963977,
          -1.0173939224379447,
          -0.05717301009548457,
          0.8434281009418888,
          -0.6840383443319434,
          -0.35306102334529277,
          1.7805930955835265,
          0.9800424594335636,
          1.821657986445941,
          1.2721170456762023,
          1.5789379896060831,
          0.5092856405909867,
          -0.907897272680719,
          -1.5101057732052379,
          1.9062812273974934,
          1.815030458945622,
          1.8937656677116332,
          0.7627785499237993,
          0.6651322315468501,
          1.2522482704355007,
          0.942876705341837,
          0.42394432733813237,
          1.6077752531049059,
          1.1910310625319247,
          1.191031062531925,
          1.191031062531925,
          1.191031062531925,
          1.191031062531925,
          1.191031062531925,
          1.8512666125756791,
          0.9479794049455567,
          1.5432254401419332,
          0.9539228608019147,
          2.086873878385975,
          1.92543154823627,
          1.9296528210006343,
          1.5840080237962806,
          -0.5050998590680601,
          -0.5050998590680601,
          1.007418530067156,
          1.007418530067156,
          1.007418530067156,
          1.007418530067156,
          1.2029856282706628,
          -0.3972576796599638,
          1.4881869164223462,
          1.914326813831083,
          1.8982247831910075,
          1.6229918900325064,
          1.6354812274179469,
          1.3138284550947665,
          0.6962445037714328,
          -0.8634465205339803,
          1.1920749422606858,
          1.035805251952467,
          1.6103809467100947,
          1.9212916886096263,
          1.872735402753749,
          0.583968778456739,
          2.0137449513319887,
          1.7823866027006796,
          0.3989831949429787,
          1.8176987500029977,
          1.9212523261212529,
          2.023731952955003,
          1.6389213602187789,
          -0.0032556644278481667,
          1.5668940322023417,
          1.7595444102620243,
          1.7595444102620243,
          1.688658172537027,
          1.7910192466423978,
          0.8438533249679139,
          1.8110580696257996,
          1.2032410895325205,
          1.648834672482498,
          0.5634027737354144,
          1.3971632371545684,
          1.0068980537153012,
          0.20772975772610422,
          -0.4082924425094366,
          0.6338313457646446,
          1.763844975130097,
          0.27061855532007595,
          1.3043057652453067,
          1.615150919197959,
          1.5602077812161186,
          -0.34442976207575465,
          -0.34442976207575465,
          0.5544177826318709,
          1.2250068418113227,
          1.459938880557116,
          1.218692984678817,
          -0.6791668646431217,
          2.1492322365655663,
          2.0242992585639867,
          0.8711906860724414,
          1.3064039233397724,
          0.5306494358133759,
          1.9921710151410725,
          1.6372117977657463,
          -1.4320473259074515
         ],
         "z": [
          -0.6262199455778793,
          0.289811607214496,
          -0.1769712574406721,
          0.140270552478407,
          -0.541089819114148,
          -0.5610632916244107,
          -0.5610632916244107,
          -0.7660227219463154,
          0.253664526368012,
          0.5219465896195087,
          0.5219465896195087,
          -0.177359388102495,
          -1.0435446227796137,
          0.22132388690150745,
          -0.5407903873967677,
          0.6386125370869021,
          0.0030218806052669895,
          0.0030218806052669895,
          -1.5704366652236057,
          1.6179482511689154,
          -0.9916761757549509,
          0.6416877056571836,
          0.6416877056571836,
          0.1081730263334654,
          -1.2115347892744823,
          -0.803292797884609,
          0.8121750547504747,
          1.56077876350166,
          -1.0566294203551732,
          -0.41284963433195987,
          1.6346696184836182,
          0.6648195709728983,
          -1.1011589184800812,
          -1.1011589184800812,
          -1.1688104178589989,
          0.41445168012268024,
          1.246636624862636,
          1.303025181703956,
          0.00214089785509015,
          0.34460909216196134,
          -1.3822209612622656,
          -1.1669970873773878,
          0.2961713971818639,
          -1.0875463336155287,
          0.6755595671119957,
          -0.8570948380337913,
          -0.8664125408704172,
          0.7760622248640316,
          0.31217936707472743,
          0.31217936707472743,
          -1.11287344850418,
          -1.2321875905566404,
          1.0470383692942642,
          0.040793204163920085,
          -0.775921011507969,
          -0.6047943286276874,
          -0.4074370573022319,
          -0.8428639045260903,
          1.7992280176010578,
          1.2786974950494265,
          0.15386454086847756,
          0.1342427083467873,
          -1.0248004333030607,
          -0.2761989258642531,
          -0.7956286384291701,
          1.6789375494869165,
          -0.46454256271538086,
          -0.627827490567995,
          -0.5018466857135148,
          -1.4144731049972052,
          -1.3731316658466879,
          0.12121455577830545,
          -1.5621485102078119,
          -0.900215873181989,
          0.08383866460905492,
          -1.377958054977495,
          -0.8380047567240141,
          -0.9076610389497706,
          -0.049338638454315895,
          0.279692852465465,
          -0.21829293241797923,
          -1.2632482740666013,
          0.40852348873051747,
          -0.6022842721951865,
          0.5551511524974164,
          0.8473006101312675,
          0.46961081210021427,
          0.22522852574836366,
          -0.2821104260851777,
          -0.7066353121017273,
          0.3153083511734501,
          0.6230942060176263,
          0.5214706885573109,
          0.8054361507589679,
          -1.4509100017283736,
          -0.025649870495691646,
          -0.3804148476935293,
          -0.30280924854101116,
          -0.18258879504478845,
          -0.8846963895164578,
          0.019839921175595757,
          -1.166728861726511,
          0.09935257751525418,
          0.11537599161824823,
          -1.0128002725190435,
          -0.12460542168768295,
          -0.5905294904721228,
          -0.07532466340744388,
          0.047703439845263235,
          -0.2853802389515859,
          1.1440342948987956,
          0.8774983469503717,
          -1.2578690648898225,
          -1.3927338722726919,
          -1.0415855524457225,
          0.42533491426514525,
          -1.4192768346241749,
          0.4875226867547522,
          0.9643642731407067,
          -0.12686322162039373,
          -0.8084149956929182,
          -0.8236694005680886,
          -1.1945404803314073,
          -1.0312308749784656,
          0.901424681896767,
          -1.2457595287828607,
          -1.6698929750736067,
          1.3390941717935887,
          -0.9681261605496281,
          0.41949314111517155,
          0.4194931411151712,
          0.4194931411151712,
          0.4194931411151712,
          0.4194931411151712,
          0.4194931411151712,
          -0.567269702660236,
          0.34628292124624604,
          -1.4285167341473255,
          -0.9509287790441636,
          -1.1044650645745704,
          -1.0612145017407404,
          -0.3282602925176314,
          -1.5102822003342191,
          -0.6143026664039184,
          -0.6143026664039184,
          -1.596012324467981,
          -1.596012324467981,
          -1.596012324467981,
          -1.596012324467981,
          0.025601993863417383,
          -0.2601224512770887,
          0.12698591920544613,
          -0.917672450870903,
          -1.1967185045996818,
          -1.2627463920444102,
          -1.1192597018153807,
          -0.8648706543391123,
          0.63865915958658,
          -0.3887827848771016,
          -0.08755084932320399,
          -0.11793963890952165,
          0.1977330400268092,
          -1.1338071866628925,
          -0.2619437325853211,
          -0.5754451078896862,
          -1.3114668375429541,
          -1.1388938902932848,
          0.7711384916283164,
          -1.2276437105786866,
          -1.0654060140164232,
          -1.0136755668045512,
          -0.991915598417394,
          0.4787647795031392,
          -0.03531511191895892,
          -0.07880759009743203,
          -0.07880759009743203,
          -0.4617625348589152,
          -0.2478523844762145,
          0.7248150918006628,
          -1.37806526417462,
          0.5008528742381347,
          -0.09946719500426504,
          0.8427123127644105,
          -0.22444366632104137,
          -0.8307533010668348,
          -0.3655112736540195,
          -0.5779094298285448,
          0.5954672994479203,
          -1.276375339935936,
          1.4945525442885326,
          -1.021708444933298,
          -0.9117407347888495,
          -0.8498383083090939,
          -0.15606731239384802,
          -0.15606731239384802,
          0.06738389823157233,
          -0.7399595989170833,
          -0.7436926122044482,
          -0.8118983484641344,
          0.36702420979823835,
          -1.2701452572383054,
          -0.8289549323264599,
          -1.537760345716901,
          -1.3525694574831102,
          -0.9301734090133018,
          -1.0760531456891134,
          -0.7093764240251518,
          0.2761233447232199
         ]
        },
        {
         "customdata": [
          [
           "INVESTORS REAL ESTATE TRUST",
           "Real Estate Investment Trusts"
          ],
          [
           "BRT APARTMENTS CORP.",
           "Real Estate Investment Trusts"
          ],
          [
           "MONMOUTH REAL ESTATE INVESTMENT CORP",
           "Real Estate Investment Trusts"
          ],
          [
           "FIRST REAL ESTATE INVESTMENT TRUST OF NEW JERSEY",
           "Real Estate Investment Trusts"
          ],
          [
           "FIRST REAL ESTATE INVESTMENT TRUST OF NEW JERSEY",
           "Real Estate Investment Trusts"
          ],
          [
           "URSTADT BIDDLE PROPERTIES INC",
           "Real Estate Investment Trusts"
          ],
          [
           "URSTADT BIDDLE PROPERTIES INC",
           "Real Estate Investment Trusts"
          ],
          [
           "PHILLIPS EDISON & COMPANY, INC.",
           "Real Estate Investment Trusts"
          ],
          [
           "SL GREEN REALTY CORP",
           "Real Estate Investment Trusts"
          ],
          [
           "CUBESMART",
           "Real Estate Investment Trusts"
          ],
          [
           "CIM COMMERCIAL TRUST CORP",
           "Real Estate Investment Trusts"
          ],
          [
           "CERES TACTICAL SYSTEMATIC L.P.",
           "Real Estate Investment Trusts"
          ],
          [
           "PS BUSINESS PARKS INC/CA",
           "Real Estate Investment Trusts"
          ],
          [
           "STEADFAST INCOME REIT, INC.",
           "Real Estate Investment Trusts"
          ],
          [
           "RETAIL OPPORTUNITY INVESTMENTS CORP",
           "Real Estate Investment Trusts"
          ],
          [
           "MORGAN STANLEY SMITH BARNEY SPECTRUM SELECT LP",
           "Real Estate Investment Trusts"
          ],
          [
           "NEW YORK MORTGAGE TRUST INC",
           "Real Estate Investment Trusts"
          ],
          [
           "CBL & ASSOCIATES PROPERTIES INC",
           "Real Estate Investment Trusts"
          ],
          [
           "LEXINGTON REALTY TRUST",
           "Real Estate Investment Trusts"
          ],
          [
           "BRANDYWINE REALTY TRUST",
           "Real Estate Investment Trusts"
          ],
          [
           "LAMAR ADVERTISING CO/NEW",
           "Real Estate Investment Trusts"
          ],
          [
           "JBG SMITH PROPERTIES",
           "Real Estate Investment Trusts"
          ],
          [
           "KBS REAL ESTATE INVESTMENT TRUST III, INC.",
           "Real Estate Investment Trusts"
          ],
          [
           "CAPSTEAD MORTGAGE CORP",
           "Real Estate Investment Trusts"
          ],
          [
           "GGP INC.",
           "Real Estate Investment Trusts"
          ],
          [
           "QTS REALTY TRUST, INC.",
           "Real Estate Investment Trusts"
          ],
          [
           "WELLS FARGO REAL ESTATE INVESTMENT CORP.",
           "Real Estate Investment Trusts"
          ],
          [
           "LIGHTSTONE VALUE PLUS REAL ESTATE INVESTMENT TRUST V, INC.",
           "Real Estate Investment Trusts"
          ],
          [
           "RESOURCE APARTMENT REIT III, INC.",
           "Real Estate Investment Trusts"
          ],
          [
           "CNL HEALTHCARE PROPERTIES, INC.",
           "Real Estate Investment Trusts"
          ],
          [
           "RETAIL PROPERTIES OF AMERICA, INC.",
           "Real Estate Investment Trusts"
          ],
          [
           "BOSTON PROPERTIES INC",
           "Real Estate Investment Trusts"
          ],
          [
           "REGENCY CENTERS CORP",
           "Real Estate Investment Trusts"
          ],
          [
           "NATIONAL HEALTH INVESTORS INC",
           "Real Estate Investment Trusts"
          ],
          [
           "DRIVE SHACK INC.",
           "Real Estate Investment Trusts"
          ],
          [
           "COLE CREDIT PROPERTY TRUST V, INC.",
           "Real Estate Investment Trusts"
          ],
          [
           "EQUITY RESIDENTIAL",
           "Real Estate Investment Trusts"
          ],
          [
           "KITE REALTY GROUP TRUST",
           "Real Estate Investment Trusts"
          ],
          [
           "OUTFRONT MEDIA INC.",
           "Real Estate Investment Trusts"
          ],
          [
           "PENNSYLVANIA REAL ESTATE INVESTMENT TRUST",
           "Real Estate Investment Trusts"
          ],
          [
           "COLE REAL ESTATE INCOME STRATEGY (DAILY NAV), INC.",
           "Real Estate Investment Trusts"
          ],
          [
           "REALTY INCOME CORP",
           "Real Estate Investment Trusts"
          ],
          [
           "GLOBAL MEDICAL REIT INC.",
           "Real Estate Investment Trusts"
          ],
          [
           "PILLARSTONE CAPITAL REIT",
           "Real Estate Investment Trusts"
          ],
          [
           "CLIPPER REALTY INC.",
           "Real Estate Investment Trusts"
          ],
          [
           "BLACK CREEK INDUSTRIAL REIT IV INC.",
           "Real Estate Investment Trusts"
          ],
          [
           "LIGHTSTONE VALUE PLUS REAL ESTATE INVESTMENT TRUST, INC.",
           "Real Estate Investment Trusts"
          ],
          [
           "KKR REAL ESTATE FINANCE TRUST INC.",
           "Real Estate Investment Trusts"
          ],
          [
           "GEO GROUP INC",
           "Real Estate Investment Trusts"
          ],
          [
           "AMERICAN ASSETS TRUST, INC.",
           "Real Estate Investment Trusts"
          ],
          [
           "IMPAC MORTGAGE HOLDINGS INC",
           "Real Estate Investment Trusts"
          ],
          [
           "CNL HEALTHCARE PROPERTIES II, INC.",
           "Real Estate Investment Trusts"
          ],
          [
           "ANWORTH MORTGAGE ASSET CORP",
           "Real Estate Investment Trusts"
          ],
          [
           "LIGHTSTONE VALUE PLUS REAL ESTATE INVESTMENT TRUST III, INC.",
           "Real Estate Investment Trusts"
          ],
          [
           "AMERICAN FINANCE TRUST, INC",
           "Real Estate Investment Trusts"
          ],
          [
           "EQUITY COMMONWEALTH",
           "Real Estate Investment Trusts"
          ],
          [
           "FOUR CORNERS PROPERTY TRUST, INC.",
           "Real Estate Investment Trusts"
          ],
          [
           "RAYONIER INC",
           "Real Estate Investment Trusts"
          ],
          [
           "HOST HOTELS & RESORTS, INC.",
           "Real Estate Investment Trusts"
          ],
          [
           "GAMING & LEISURE PROPERTIES, INC.",
           "Real Estate Investment Trusts"
          ],
          [
           "NATIONAL RETAIL PROPERTIES, INC.",
           "Real Estate Investment Trusts"
          ],
          [
           "SENIOR HOUSING PROPERTIES TRUST",
           "Real Estate Investment Trusts"
          ],
          [
           "SUTHERLAND ASSET MANAGEMENT CORP",
           "Real Estate Investment Trusts"
          ],
          [
           "TAUBMAN CENTERS INC",
           "Real Estate Investment Trusts"
          ],
          [
           "RESOURCE REAL ESTATE OPPORTUNITY REIT, INC.",
           "Real Estate Investment Trusts"
          ],
          [
           "TANGER FACTORY OUTLET CENTERS INC",
           "Real Estate Investment Trusts"
          ],
          [
           "MFA FINANCIAL, INC.",
           "Real Estate Investment Trusts"
          ],
          [
           "TERRA SECURED INCOME FUND 5, LLC",
           "Real Estate Investment Trusts"
          ],
          [
           "SBA COMMUNICATIONS CORP",
           "Real Estate Investment Trusts"
          ],
          [
           "LIGHTSTONE VALUE PLUS REAL ESTATE INVESTMENT TRUST II INC",
           "Real Estate Investment Trusts"
          ],
          [
           "JONES LANG LASALLE INCOME PROPERTY TRUST, INC.",
           "Real Estate Investment Trusts"
          ],
          [
           "AVALONBAY COMMUNITIES INC",
           "Real Estate Investment Trusts"
          ],
          [
           "ARES COMMERCIAL REAL ESTATE CORP",
           "Real Estate Investment Trusts"
          ],
          [
           "CARTER VALIDUS MISSION CRITICAL REIT II, INC.",
           "Real Estate Investment Trusts"
          ],
          [
           "PHYSICIANS REALTY TRUST",
           "Real Estate Investment Trusts"
          ],
          [
           "PROLOGIS, INC.",
           "Real Estate Investment Trusts"
          ],
          [
           "ARMOUR RESIDENTIAL REIT, INC.",
           "Real Estate Investment Trusts"
          ],
          [
           "CHERRY HILL MORTGAGE INVESTMENT CORP",
           "Real Estate Investment Trusts"
          ],
          [
           "EMPIRE STATE REALTY TRUST, INC.",
           "Real Estate Investment Trusts"
          ],
          [
           "PUBLIC STORAGE",
           "Real Estate Investment Trusts"
          ],
          [
           "APARTMENT INVESTMENT & MANAGEMENT CO",
           "Real Estate Investment Trusts"
          ],
          [
           "CEDAR REALTY TRUST, INC.",
           "Real Estate Investment Trusts"
          ],
          [
           "HIGHLANDS REIT, INC.",
           "Real Estate Investment Trusts"
          ],
          [
           "IRON MOUNTAIN INC",
           "Real Estate Investment Trusts"
          ],
          [
           "SOTHERLY HOTELS INC.",
           "Real Estate Investment Trusts"
          ],
          [
           "EMPIRE STATE REALTY OP, L.P.",
           "Real Estate Investment Trusts"
          ],
          [
           "ESSEX PROPERTY TRUST INC",
           "Real Estate Investment Trusts"
          ],
          [
           "WEINGARTEN REALTY INVESTORS /TX/",
           "Real Estate Investment Trusts"
          ],
          [
           "CONDOR HOSPITALITY TRUST, INC.",
           "Real Estate Investment Trusts"
          ],
          [
           "CITY OFFICE REIT, INC.",
           "Real Estate Investment Trusts"
          ],
          [
           "BENEFIT STREET PARTNERS REALTY TRUST, INC.",
           "Real Estate Investment Trusts"
          ],
          [
           "LIGHTSTONE REAL ESTATE INCOME TRUST INC.",
           "Real Estate Investment Trusts"
          ],
          [
           "AMERICAN CAMPUS COMMUNITIES INC",
           "Real Estate Investment Trusts"
          ],
          [
           "STARWOOD PROPERTY TRUST, INC.",
           "Real Estate Investment Trusts"
          ],
          [
           "CORESITE REALTY CORP",
           "Real Estate Investment Trusts"
          ],
          [
           "POTLATCH CORP",
           "Real Estate Investment Trusts"
          ],
          [
           "CORPORATE OFFICE PROPERTIES TRUST",
           "Real Estate Investment Trusts"
          ],
          [
           "RAMCO GERSHENSON PROPERTIES TRUST",
           "Real Estate Investment Trusts"
          ],
          [
           "NATIONAL STORAGE AFFILIATES TRUST",
           "Real Estate Investment Trusts"
          ],
          [
           "HERSHA HOSPITALITY TRUST",
           "Real Estate Investment Trusts"
          ],
          [
           "JERNIGAN CAPITAL, INC.",
           "Real Estate Investment Trusts"
          ],
          [
           "VORNADO REALTY TRUST",
           "Real Estate Investment Trusts"
          ],
          [
           "ISTAR INC.",
           "Real Estate Investment Trusts"
          ],
          [
           "ALEXANDER & BALDWIN, INC.",
           "Real Estate Investment Trusts"
          ],
          [
           "HOSPITALITY INVESTORS TRUST, INC.",
           "Real Estate Investment Trusts"
          ],
          [
           "SAUL CENTERS INC",
           "Real Estate Investment Trusts"
          ],
          [
           "KBS GROWTH & INCOME REIT, INC.",
           "Real Estate Investment Trusts"
          ],
          [
           "EXTRA SPACE STORAGE INC.",
           "Real Estate Investment Trusts"
          ],
          [
           "CHESAPEAKE LODGING TRUST",
           "Real Estate Investment Trusts"
          ],
          [
           "LTC PROPERTIES INC",
           "Real Estate Investment Trusts"
          ],
          [
           "EASTERLY GOVERNMENT PROPERTIES, INC.",
           "Real Estate Investment Trusts"
          ],
          [
           "PLYMOUTH INDUSTRIAL REIT INC.",
           "Real Estate Investment Trusts"
          ],
          [
           "FRANKLIN STREET PROPERTIES CORP /MA/",
           "Real Estate Investment Trusts"
          ],
          [
           "HEALTHCARE TRUST OF AMERICA, INC.",
           "Real Estate Investment Trusts"
          ],
          [
           "REALSOURCE RESIDENTIAL, INC",
           "Real Estate Investment Trusts"
          ],
          [
           "CARTER VALIDUS MISSION CRITICAL REIT, INC.",
           "Real Estate Investment Trusts"
          ],
          [
           "SUN COMMUNITIES INC",
           "Real Estate Investment Trusts"
          ],
          [
           "FIRST EQUITY PROPERTIES INC",
           "Real Estate Investment Trusts"
          ],
          [
           "MID AMERICA APARTMENT COMMUNITIES INC",
           "Real Estate Investment Trusts"
          ],
          [
           "BROOKFIELD DTLA FUND OFFICE TRUST INVESTOR INC.",
           "Real Estate Investment Trusts"
          ],
          [
           "ANNALY CAPITAL MANAGEMENT INC",
           "Real Estate Investment Trusts"
          ],
          [
           "WHEELER REAL ESTATE INVESTMENT TRUST, INC.",
           "Real Estate Investment Trusts"
          ],
          [
           "ALEXANDRIA REAL ESTATE EQUITIES INC",
           "Real Estate Investment Trusts"
          ],
          [
           "HIGHWOODS PROPERTIES INC",
           "Real Estate Investment Trusts"
          ],
          [
           "KIMCO REALTY CORP",
           "Real Estate Investment Trusts"
          ],
          [
           "INDEPENDENCE REALTY TRUST, INC.",
           "Real Estate Investment Trusts"
          ],
          [
           "PREFERRED APARTMENT COMMUNITIES INC",
           "Real Estate Investment Trusts"
          ],
          [
           "ELLINGTON RESIDENTIAL MORTGAGE REIT",
           "Real Estate Investment Trusts"
          ],
          [
           "CORECIVIC, INC.",
           "Real Estate Investment Trusts"
          ],
          [
           "ASHFORD HOSPITALITY PRIME, INC.",
           "Real Estate Investment Trusts"
          ],
          [
           "LIFE STORAGE, INC.",
           "Real Estate Investment Trusts"
          ],
          [
           "HEALTHCARE REALTY TRUST INC",
           "Real Estate Investment Trusts"
          ],
          [
           "WINTHROP REALTY LIQUIDATING TRUST",
           "Real Estate Investment Trusts"
          ],
          [
           "CORENERGY INFRASTRUCTURE TRUST, INC.",
           "Real Estate Investment Trusts"
          ],
          [
           "KBS STRATEGIC OPPORTUNITY REIT II, INC.",
           "Real Estate Investment Trusts"
          ],
          [
           "PEBBLEBROOK HOTEL TRUST",
           "Real Estate Investment Trusts"
          ],
          [
           "SABRA HEALTH CARE REIT, INC.",
           "Real Estate Investment Trusts"
          ],
          [
           "POWER REIT",
           "Real Estate Investment Trusts"
          ],
          [
           "DYNEX CAPITAL INC",
           "Real Estate Investment Trusts"
          ],
          [
           "DIGITAL REALTY TRUST, INC.",
           "Real Estate Investment Trusts"
          ],
          [
           "STRATEGIC REALTY TRUST, INC.",
           "Real Estate Investment Trusts"
          ],
          [
           "COLE OFFICE & INDUSTRIAL REIT (CCIT III), INC.",
           "Real Estate Investment Trusts"
          ],
          [
           "HEALTHCARE TRUST, INC.",
           "Real Estate Investment Trusts"
          ],
          [
           "LADDER CAPITAL CORP",
           "Real Estate Investment Trusts"
          ],
          [
           "CROWN CASTLE INTERNATIONAL CORP",
           "Real Estate Investment Trusts"
          ],
          [
           "HOWARD HUGHES CORP",
           "Real Estate Investment Trusts"
          ],
          [
           "ALEXANDERS INC",
           "Real Estate Investment Trusts"
          ],
          [
           "MANHATTAN BRIDGE CAPITAL, INC",
           "Real Estate Investment Trusts"
          ],
          [
           "INLAND REAL ESTATE INCOME TRUST, INC.",
           "Real Estate Investment Trusts"
          ],
          [
           "INLAND RESIDENTIAL PROPERTIES TRUST, INC.",
           "Real Estate Investment Trusts"
          ],
          [
           "INLAND RESIDENTIAL PROPERTIES TRUST, INC.",
           "Real Estate Investment Trusts"
          ],
          [
           "KBS REAL ESTATE INVESTMENT TRUST II, INC.",
           "Real Estate Investment Trusts"
          ],
          [
           "RESOURCE REAL ESTATE OPPORTUNITY REIT II, INC.",
           "Real Estate Investment Trusts"
          ],
          [
           "STEADFAST APARTMENT REIT III, INC.",
           "Real Estate Investment Trusts"
          ],
          [
           "ACADIA REALTY TRUST",
           "Real Estate Investment Trusts"
          ],
          [
           "HMG COURTLAND PROPERTIES INC",
           "Real Estate Investment Trusts"
          ],
          [
           "COLE CREDIT PROPERTY TRUST IV, INC.",
           "Real Estate Investment Trusts"
          ],
          [
           "FIVE OAKS INVESTMENT CORP.",
           "Real Estate Investment Trusts"
          ],
          [
           "NEXPOINT RESIDENTIAL TRUST, INC.",
           "Real Estate Investment Trusts"
          ],
          [
           "TWO HARBORS INVESTMENT CORP.",
           "Real Estate Investment Trusts"
          ],
          [
           "WASHINGTON PRIME GROUP INC.",
           "Real Estate Investment Trusts"
          ],
          [
           "TIER REIT INC",
           "Real Estate Investment Trusts"
          ],
          [
           "GRANITE POINT MORTGAGE TRUST INC.",
           "Real Estate Investment Trusts"
          ],
          [
           "GREAT AJAX CORP.",
           "Real Estate Investment Trusts"
          ],
          [
           "DUKE REALTY CORP",
           "Real Estate Investment Trusts"
          ],
          [
           "EASTGROUP PROPERTIES INC",
           "Real Estate Investment Trusts"
          ],
          [
           "STEADFAST APARTMENT REIT, INC.",
           "Real Estate Investment Trusts"
          ],
          [
           "RECKSON OPERATING PARTNERSHIP LP",
           "Real Estate Investment Trusts"
          ],
          [
           "GLOBAL NET LEASE, INC.",
           "Real Estate Investment Trusts"
          ],
          [
           "KBS STRATEGIC OPPORTUNITY REIT, INC.",
           "Real Estate Investment Trusts"
          ],
          [
           "WHITESTONE REIT",
           "Real Estate Investment Trusts"
          ],
          [
           "GRIFFIN CAPITAL ESSENTIAL ASSET REIT II, INC.",
           "Real Estate Investment Trusts"
          ],
          [
           "UDR, INC.",
           "Real Estate Investment Trusts"
          ],
          [
           "COMMUNITY HEALTHCARE TRUST INC",
           "Real Estate Investment Trusts"
          ],
          [
           "VENTAS INC",
           "Real Estate Investment Trusts"
          ],
          [
           "OWENS REALTY MORTGAGE, INC.",
           "Real Estate Investment Trusts"
          ],
          [
           "KILROY REALTY CORP",
           "Real Estate Investment Trusts"
          ],
          [
           "SUMMIT HOTEL PROPERTIES, INC.",
           "Real Estate Investment Trusts"
          ],
          [
           "CORPORATE PROPERTY ASSOCIATES 18 GLOBAL INC",
           "Real Estate Investment Trusts"
          ],
          [
           "CYRUSONE INC.",
           "Real Estate Investment Trusts"
          ],
          [
           "COLONY NORTHSTAR, INC.",
           "Real Estate Investment Trusts"
          ],
          [
           "FEDERAL REALTY INVESTMENT TRUST",
           "Real Estate Investment Trusts"
          ],
          [
           "NEW SENIOR INVESTMENT GROUP INC.",
           "Real Estate Investment Trusts"
          ],
          [
           "RYMAN HOSPITALITY PROPERTIES, INC.",
           "Real Estate Investment Trusts"
          ],
          [
           "BRIXMOR PROPERTY GROUP INC.",
           "Real Estate Investment Trusts"
          ],
          [
           "COLE OFFICE & INDUSTRIAL REIT (CCIT II), INC.",
           "Real Estate Investment Trusts"
          ],
          [
           "OMEGA HEALTHCARE INVESTORS INC",
           "Real Estate Investment Trusts"
          ],
          [
           "REVEN HOUSING REIT, INC.",
           "Real Estate Investment Trusts"
          ],
          [
           "AMERICAN REALTY CAPITAL NEW YORK CITY REIT, INC.",
           "Real Estate Investment Trusts"
          ],
          [
           "STAG INDUSTRIAL, INC.",
           "Real Estate Investment Trusts"
          ],
          [
           "EQUINIX INC",
           "Real Estate Investment Trusts"
          ]
         ],
         "hovertemplate": "color=Real Estate Investment Trusts<br>0=%{x}<br>1=%{y}<br>2=%{z}<br>name=%{customdata[0]}<br>industry=%{customdata[1]}<extra></extra>",
         "legendgroup": "Real Estate Investment Trusts",
         "marker": {
          "color": "#ab63fa",
          "symbol": "circle"
         },
         "mode": "markers",
         "name": "Real Estate Investment Trusts",
         "scene": "scene",
         "showlegend": true,
         "type": "scatter3d",
         "x": [
          -1.9422746133043758,
          -1.5528748687666656,
          -1.6701301272280018,
          -1.5521577710041756,
          -1.5521577710041756,
          -2.3040621018943814,
          -2.3040621018943814,
          -1.7720065213379383,
          -1.8396780241278887,
          -1.1684284079654612,
          -2.323978747436547,
          -0.12886668328603343,
          -1.7482481339630347,
          -1.726264787564086,
          -1.3374947444836016,
          -0.07766674207577869,
          -1.554939087297689,
          -1.4045462908136652,
          -1.9855835427176152,
          -2.7816686810838616,
          -0.7182570482601394,
          -2.1040976531916793,
          -2.7993718937731233,
          -1.6924349700581518,
          -1.6549824071176806,
          -0.21590618479934995,
          -2.8324219687760843,
          -2.315485189076028,
          -1.9500663279389472,
          -1.2657694863033557,
          -0.9171584520856129,
          -0.6028196970002644,
          -1.3845962634899789,
          -2.065628958284688,
          -0.8890035786309396,
          -2.4978434271699284,
          -1.4145449305605986,
          -1.3449839047710364,
          -0.48851693617684,
          -2.1456463888313775,
          -2.6052598175664268,
          -1.9971222594511067,
          -0.8776339802828975,
          -2.0582505649402227,
          -1.9326064790749544,
          -2.507770322359339,
          -0.31547236610649365,
          -3.07316852563126,
          -0.33424363761407627,
          -2.482141574031448,
          -2.2652915449770212,
          -1.6848305202334064,
          -1.483340350510652,
          -0.31547236610649365,
          -1.993432552658994,
          -1.6574768197675058,
          -2.0228156678699087,
          -1.578142759280447,
          -1.3902459747414773,
          -1.4332913646152865,
          -2.469019082322505,
          -0.9740004601246386,
          -2.43369124092769,
          -1.0563086399372672,
          -2.685016991366706,
          -1.306307296008991,
          -1.7955952633938106,
          -2.1067822799896683,
          -0.9960158052104764,
          -0.31547236610649365,
          -2.219334461418308,
          -2.3670782413145677,
          -2.278487894943383,
          -2.1340266565192754,
          -1.14833041689865,
          -2.23915509962554,
          -1.8387101729691213,
          -1.5646979865689297,
          -1.7555895017756131,
          -0.17423475660104915,
          -1.3521529087454376,
          -1.790667824042401,
          -2.031590908827749,
          0.0787761995268612,
          -0.842425357302435,
          -1.7315632688479052,
          -1.8399326003014134,
          -1.9625616449639922,
          -1.165065539688238,
          -1.7136943131316225,
          -2.487228155936464,
          -0.31547236610649365,
          -1.4434866451209134,
          -2.909454505059886,
          -0.23884176699288176,
          -2.091447819308084,
          -1.093117894311844,
          -0.6035298352281232,
          -1.4343847022112926,
          -1.5036319454860763,
          -1.3899522793638215,
          -1.2232640029045978,
          -2.722248475937272,
          -2.088577010679119,
          -1.6113143722583647,
          -1.221094266847604,
          -2.5306573165210087,
          -1.3590737869795553,
          -0.9592746393009457,
          -0.5794542378182787,
          -0.8399238796111921,
          -1.6921723112402614,
          -2.3343224978609562,
          -0.837052926013805,
          -0.6028650938884581,
          -2.477122113771864,
          -0.20012276550688105,
          -1.845101021331675,
          -2.055040677409007,
          -1.1100718033462025,
          -0.42860149504764694,
          -1.6466319107640144,
          -2.220042949341087,
          -0.57217223460554,
          -1.8883292254444848,
          -1.8577036076930586,
          -2.5528785336321764,
          -1.5528325830507157,
          -1.4501540964014081,
          -0.6631894908755829,
          -1.6347168366418956,
          -0.9706625191515964,
          -1.3331722608392031,
          -1.562332779452533,
          -2.294581997544777,
          -0.6221622836983549,
          -2.335621527834373,
          -1.7678069771859772,
          -1.7069041856253526,
          -0.40401309559774057,
          -2.1468024337863447,
          -2.4695264936528507,
          -0.8324071167746485,
          -2.55353592138804,
          -0.9020117762271342,
          -2.5931875295910536,
          -0.7249444941420042,
          -2.670747728991888,
          -2.5080016438955597,
          -2.2972571998014772,
          -2.2972571998014772,
          -2.6554229346066665,
          -2.7543178054570943,
          -0.8190191306218173,
          -1.9392053299592313,
          -0.3145520060254937,
          -2.5866519466596096,
          -2.8123886313659474,
          -2.3778210647278284,
          -2.342748986094696,
          -1.7503281808321567,
          -0.33287191553217005,
          -2.466828117651659,
          -2.1649979456094246,
          -0.7967544897335805,
          -0.6390980555843835,
          -1.9662650110668278,
          -1.3124357401998383,
          -2.16486655072404,
          -2.6781879781982605,
          -2.4119658857857944,
          -1.8776891791224029,
          -2.2149155249175454,
          -2.023784668253827,
          -1.8201585080166314,
          -2.269269128598966,
          -1.8360998549848901,
          -0.9644339806142987,
          -1.292648368576723,
          -0.37911486374711545,
          -2.568490569889699,
          -2.054393841144992,
          -1.3021480563862464,
          -0.5924972160559067,
          -1.1639176839662064,
          -2.5450232612435832,
          -0.6127767625706672,
          -2.2371276577728514,
          -2.6656301678596637,
          -1.1016611619225476,
          0.060492076295895286
         ],
         "y": [
          -2.117430489564738,
          -1.871321980203611,
          -1.987776592457999,
          -1.2298713037314988,
          -1.2298713037314988,
          -2.172539223424285,
          -2.172539223424285,
          -2.2919621672175667,
          -2.1253677912254654,
          -2.145680877986963,
          -2.4343551903315763,
          -1.1495601944760183,
          -2.177671730863275,
          -2.418059892978109,
          -1.994712106454224,
          -1.0423589929908688,
          -0.9514101063477137,
          -2.070702708717413,
          -2.1443168634984597,
          -2.239717284250358,
          -1.497045885242626,
          -2.1181118220349964,
          -2.3375540459705615,
          -1.2966395767481818,
          -2.0505345762930047,
          -1.1574182517907126,
          -1.0175866147466022,
          -2.493398160327001,
          -2.36477667016618,
          -2.1484759537169613,
          -1.9793350338089755,
          -1.3839415702765379,
          -1.7692868329475047,
          -1.7387531857533054,
          -1.7080707622610243,
          -2.4089156865058796,
          -1.8832507114819426,
          -1.935512827754847,
          -1.7282658674193074,
          -1.9938235651805654,
          -2.337966193012758,
          -1.9867881549107378,
          -1.7928414855109285,
          -2.0787180155566465,
          -2.515018830704507,
          -2.6591858973465023,
          -0.5914040973371343,
          -1.9317567321809221,
          -1.4431206992705523,
          -2.3347016163462015,
          -1.249610256829081,
          -2.332666825800559,
          -1.320910349571575,
          -0.5914040973371343,
          -2.3903794718841627,
          -1.9336980759660836,
          -2.339368361607599,
          -1.7063049324385882,
          -2.0209367846155786,
          -1.6844870017060025,
          -2.1151429559960735,
          -1.6638530481909029,
          -1.247162797277311,
          -1.7863360295553832,
          -2.366542808020534,
          -1.6489035911405179,
          -0.5947010441813585,
          -1.4143211975667205,
          -1.7488115568149496,
          -0.5914040973371344,
          -2.0648404731002006,
          -2.3640480577646867,
          -1.7638068833937006,
          -2.3228531935443515,
          -1.4515483086113028,
          -1.902374831606696,
          -2.1572978127398788,
          -1.3665667260041374,
          -2.3062887678989066,
          -1.2110551754098207,
          -2.099236610614197,
          -2.2323268291899923,
          -2.257032291389077,
          -1.136613079595216,
          -1.8740392324197575,
          -2.223019953562412,
          -2.2104265879889633,
          -2.057954098380551,
          -2.1563993269342485,
          -1.8796877751433796,
          -1.31860399633895,
          -0.5914040973371343,
          -1.9622819700903555,
          -1.6837831491979895,
          -1.1610529021685976,
          -1.793785204372161,
          -1.739892928489706,
          -1.7570190625398545,
          -2.3039380545232375,
          -2.2894900898024253,
          -1.7920760561060152,
          -2.000992673795328,
          -1.7379575604307957,
          -1.9232788567145565,
          -2.20694917213377,
          -1.7823420952078415,
          -2.2887835830072247,
          -2.2731903608478135,
          -1.733380507471456,
          -1.08708720639068,
          -2.029868868368289,
          -2.1993432199308423,
          -1.873379354074202,
          -1.7252309799525578,
          -1.4184196172061174,
          -2.4702243869950054,
          -1.1744401931341026,
          -1.8846716337952052,
          -2.4634230678347673,
          -1.8739761576906708,
          -1.2551765054057187,
          -2.0978054676786444,
          -2.168051653953527,
          -0.9024098515612446,
          -1.7319811775218514,
          -2.302229824079551,
          -2.371045062848025,
          -1.1647087250423427,
          -1.8898687702124874,
          -1.6443736547833847,
          -2.1538265257495603,
          -1.4757326346212378,
          -1.8150860028299804,
          -1.9496579955588216,
          -2.4735407819626003,
          -1.927585624497407,
          -1.956344481492153,
          -1.7358215040094134,
          -0.9167534483970865,
          -1.2154644648100605,
          -2.549746440066056,
          -2.4810498972816917,
          -1.460806946547388,
          -1.2203402402528625,
          -1.7834663220051648,
          -2.186798231121425,
          -1.6210743693160707,
          -1.7269805574737873,
          -2.438453578641356,
          -2.4149241185903008,
          -2.4149241185903008,
          -2.426323107922492,
          -2.293779455357907,
          -1.7604736608972607,
          -1.6656136861594324,
          -0.8365241804787268,
          -2.4630660549281416,
          -1.6298883798698927,
          -2.4000714724195493,
          -1.2177523735780766,
          -1.879168650184029,
          -1.4693998087898301,
          -1.493791637850512,
          -1.7110233272115152,
          -1.31907928058673,
          -1.5938355855190105,
          -2.4030455481104536,
          -2.2769089050108366,
          -2.411866700356032,
          -2.3305266196582606,
          -2.1919639018638377,
          -2.3919958663985814,
          -2.64621023856104,
          -2.0573771842990007,
          -1.9594918856705559,
          -1.7692802567183241,
          -1.8275464155547636,
          -2.0271725036858523,
          -1.93231953766047,
          -1.2103167200761664,
          -1.6959349540309547,
          -2.279201834047547,
          -1.670697343047313,
          -1.7469785912774196,
          -2.214718103887089,
          -2.4438557296444774,
          -1.7161655157559397,
          -2.097631541653087,
          -2.328698418308594,
          -2.2483714323894968,
          -0.8988746105567815
         ],
         "z": [
          -1.5501162542852074,
          -0.6988069843162553,
          -1.1870075801583535,
          -0.20848391873009178,
          -0.20848391873009178,
          -1.9685848890199358,
          -1.9685848890199358,
          -2.1802931513855044,
          -1.4783928885251016,
          -1.5292877081598713,
          -2.487600502442486,
          1.4246837405759525,
          -1.476452232767517,
          -1.7868341697651864,
          -0.8990225583828729,
          1.4221313179189496,
          -0.33920373677224586,
          -0.6567310966998423,
          -1.591918078154962,
          -2.5482341725053352,
          -1.5319483827331992,
          -1.7661979746167895,
          -2.650834380517124,
          -0.7199157725570413,
          -2.0135459056464335,
          0.5734595930659139,
          -1.547243946662368,
          -2.2098359427767296,
          -2.0212531521966346,
          -0.5896534784711813,
          -1.5314169890361047,
          0.2525576041761862,
          -1.0062706438567248,
          -1.8843114338238167,
          -1.208480323669281,
          -2.511491986959922,
          -1.5151158150089798,
          -1.6662480959697923,
          -1.0877090738128328,
          -1.7608032661748385,
          -2.7829785727862424,
          -1.2196573620719584,
          -1.280561752260388,
          -1.6683833034289284,
          -1.561887737143339,
          -2.7546814216703224,
          1.9603244549503647,
          -2.5398598172495297,
          -0.490175513017267,
          -2.119737578439622,
          -1.226838863191947,
          -1.8395079384080375,
          -0.35705492411120954,
          1.9603244549503647,
          -2.2724726660479946,
          -1.6616456710998733,
          -2.3210981560412565,
          -0.5610010064741576,
          -0.9468615421260822,
          -0.5378183572021299,
          -1.7159629805277843,
          -0.5216226240798377,
          -1.293294710059807,
          -0.421410301559783,
          -2.873606145901309,
          -1.1258457207665196,
          -0.04480609936128733,
          -1.2059618656194528,
          -0.249726918999387,
          1.9603244549503647,
          -2.6428243299758316,
          -2.274224518609966,
          -2.0293963146566067,
          -1.9278540061799225,
          -1.001829967065246,
          -1.4970486038031992,
          -1.5948238716497913,
          -0.6049185976378955,
          -1.6157319956706966,
          0.6486566081145928,
          -2.0405291176365945,
          -1.2091470399236908,
          -1.862923612023564,
          -0.3966592093216482,
          -0.5890152154963402,
          -1.5646355859123835,
          -1.711165222467754,
          -1.8178737576446236,
          -0.8235306423351587,
          -0.711345980563897,
          -1.552425005746633,
          1.9603244549503647,
          -1.5027178305447169,
          -2.006192540318256,
          1.2212216280739119,
          -2.236107769692574,
          -1.4673902107096144,
          -0.23741155556072238,
          -1.3392509872351372,
          -1.2911979114672651,
          -1.0050666659757836,
          -0.7554050323994186,
          -2.4030321729067867,
          -1.106831581921237,
          -2.1599572148123514,
          -0.5234843962822887,
          -2.360281809337377,
          -1.6644422651402924,
          -0.37728273334699464,
          0.00793576039292829,
          -1.1502500899344192,
          -1.7451076421508547,
          -1.905240342450243,
          -0.4454814437466498,
          -0.3084491368054472,
          -2.4866320037009837,
          1.3292228022275197,
          -1.0189088757134075,
          -2.629932065107613,
          -0.9831580230270451,
          0.15605197416532732,
          -1.0294496498995935,
          -2.0139511625297786,
          1.3144042540597898,
          -1.0666107478969638,
          -1.5512024370361566,
          -2.2950230349908827,
          -0.2616169396661227,
          -2.1084287140113758,
          0.28571352309728065,
          -1.7333502288877056,
          -0.8143633245050435,
          -1.108492787011083,
          -0.9761504129751716,
          -2.4521563370650163,
          0.07631882522690178,
          -2.2939833754816448,
          -1.3148890180747284,
          -0.3776880639436863,
          0.7243769491008738,
          -2.3335985658628977,
          -2.5654163239458607,
          -1.0796049283392837,
          -1.5727862161864603,
          0.07154684451518986,
          -2.4899015469486856,
          0.03414224630451125,
          -2.097313327956162,
          -3.024308489476914,
          -2.641414636171957,
          -2.641414636171957,
          -2.424541000660296,
          -2.9906256562519884,
          -0.11917394508012707,
          -0.8902355237522166,
          1.5006314680797137,
          -2.756036194246925,
          -2.030482002440157,
          -2.489917132076543,
          -1.5216056968233231,
          -1.0921851118697488,
          -1.4280502036756195,
          -1.9677001743007594,
          -1.3069350360008014,
          0.6984010481812184,
          -0.3179769002159493,
          -2.1601410650135078,
          -1.288168162296655,
          -2.318440386166751,
          -2.5387018545430156,
          -2.48580569155516,
          -1.618364002873679,
          -2.401729714021251,
          -1.9908130667200206,
          -1.4495615159627429,
          -1.7353236532655465,
          -0.7374219749950083,
          -0.2707505868536443,
          -0.36047881537101023,
          1.017516909048738,
          -2.119593535874588,
          -2.005315561017772,
          -1.7993883186662896,
          -0.4641199254951579,
          -1.01787302285872,
          -2.623098656908501,
          0.31767130865474175,
          -2.169492896237039,
          -2.6399315581410217,
          -1.602165806978738,
          1.6616764831422093
         ]
        },
        {
         "customdata": [
          [
           "TOMPKINS FINANCIAL CORP",
           "State Commercial Banks (commercial banking)"
          ],
          [
           "TRIUMPH BANCORP, INC.",
           "State Commercial Banks (commercial banking)"
          ],
          [
           "GREAT SOUTHERN BANCORP, INC.",
           "State Commercial Banks (commercial banking)"
          ],
          [
           "SOUTH STATE CORP",
           "State Commercial Banks (commercial banking)"
          ],
          [
           "OLD LINE BANCSHARES INC",
           "State Commercial Banks (commercial banking)"
          ],
          [
           "SEACOAST BANKING CORP OF FLORIDA",
           "State Commercial Banks (commercial banking)"
          ],
          [
           "CITIZENS FINANCIAL GROUP INC/RI",
           "State Commercial Banks (commercial banking)"
          ],
          [
           "COMMUNITY WEST BANCSHARES /",
           "State Commercial Banks (commercial banking)"
          ],
          [
           "MACKINAC FINANCIAL CORP /MI/",
           "State Commercial Banks (commercial banking)"
          ],
          [
           "UNITY BANCORP INC /NJ/",
           "State Commercial Banks (commercial banking)"
          ],
          [
           "UNITY BANCORP INC /NJ/",
           "State Commercial Banks (commercial banking)"
          ],
          [
           "EAST WEST BANCORP INC",
           "State Commercial Banks (commercial banking)"
          ],
          [
           "HEARTLAND FINANCIAL USA INC",
           "State Commercial Banks (commercial banking)"
          ],
          [
           "COUNTY BANCORP, INC.",
           "State Commercial Banks (commercial banking)"
          ],
          [
           "CHEMUNG FINANCIAL CORP",
           "State Commercial Banks (commercial banking)"
          ],
          [
           "BRYN MAWR BANK CORP",
           "State Commercial Banks (commercial banking)"
          ],
          [
           "EAGLE BANCORP MONTANA, INC.",
           "State Commercial Banks (commercial banking)"
          ],
          [
           "1ST SOURCE CORP",
           "State Commercial Banks (commercial banking)"
          ],
          [
           "SERVISFIRST BANCSHARES, INC.",
           "State Commercial Banks (commercial banking)"
          ],
          [
           "SIERRA BANCORP",
           "State Commercial Banks (commercial banking)"
          ],
          [
           "HOPFED BANCORP INC",
           "State Commercial Banks (commercial banking)"
          ],
          [
           "HOPFED BANCORP INC",
           "State Commercial Banks (commercial banking)"
          ],
          [
           "FIRST FINANCIAL BANKSHARES INC",
           "State Commercial Banks (commercial banking)"
          ],
          [
           "CHEMICAL FINANCIAL CORP",
           "State Commercial Banks (commercial banking)"
          ],
          [
           "SECURITY FEDERAL CORP",
           "State Commercial Banks (commercial banking)"
          ],
          [
           "FIRST FINANCIAL CORP /IN/",
           "State Commercial Banks (commercial banking)"
          ],
          [
           "WESTERN ALLIANCE BANCORPORATION",
           "State Commercial Banks (commercial banking)"
          ],
          [
           "TRISTATE CAPITAL HOLDINGS, INC.",
           "State Commercial Banks (commercial banking)"
          ],
          [
           "UNION BANKSHARES CORP",
           "State Commercial Banks (commercial banking)"
          ],
          [
           "CAROLINA TRUST BANCSHARES, INC.",
           "State Commercial Banks (commercial banking)"
          ],
          [
           "COMMUNITY TRUST BANCORP INC /KY/",
           "State Commercial Banks (commercial banking)"
          ],
          [
           "HILLS BANCORPORATION",
           "State Commercial Banks (commercial banking)"
          ],
          [
           "MACATAWA BANK CORP",
           "State Commercial Banks (commercial banking)"
          ],
          [
           "PREMIER FINANCIAL BANCORP INC",
           "State Commercial Banks (commercial banking)"
          ],
          [
           "KENTUCKY BANCSHARES INC /KY/",
           "State Commercial Banks (commercial banking)"
          ],
          [
           "RIVER FINANCIAL CORP",
           "State Commercial Banks (commercial banking)"
          ],
          [
           "BAR HARBOR BANKSHARES",
           "State Commercial Banks (commercial banking)"
          ],
          [
           "PARKE BANCORP, INC.",
           "State Commercial Banks (commercial banking)"
          ],
          [
           "RANDOLPH BANCORP, INC.",
           "State Commercial Banks (commercial banking)"
          ],
          [
           "BANK OF HAWAII CORP",
           "State Commercial Banks (commercial banking)"
          ],
          [
           "BSB BANCORP, INC.",
           "State Commercial Banks (commercial banking)"
          ],
          [
           "INDEPENDENT BANK CORP /MI/",
           "State Commercial Banks (commercial banking)"
          ],
          [
           "PACIFIC PREMIER BANCORP INC",
           "State Commercial Banks (commercial banking)"
          ],
          [
           "OHIO VALLEY BANC CORP",
           "State Commercial Banks (commercial banking)"
          ],
          [
           "CVB FINANCIAL CORP",
           "State Commercial Banks (commercial banking)"
          ],
          [
           "BANK OF NEW YORK MELLON CORP",
           "State Commercial Banks (commercial banking)"
          ],
          [
           "TWO RIVER BANCORP",
           "State Commercial Banks (commercial banking)"
          ],
          [
           "STEWARDSHIP FINANCIAL CORP",
           "State Commercial Banks (commercial banking)"
          ],
          [
           "LAKELAND FINANCIAL CORP",
           "State Commercial Banks (commercial banking)"
          ],
          [
           "FAUQUIER BANKSHARES, INC.",
           "State Commercial Banks (commercial banking)"
          ],
          [
           "LIVE OAK BANCSHARES, INC.",
           "State Commercial Banks (commercial banking)"
          ],
          [
           "M&T BANK CORP",
           "State Commercial Banks (commercial banking)"
          ],
          [
           "INTERNATIONAL BANCSHARES CORP",
           "State Commercial Banks (commercial banking)"
          ],
          [
           "SUMMIT FINANCIAL GROUP INC",
           "State Commercial Banks (commercial banking)"
          ],
          [
           "SUSSEX BANCORP",
           "State Commercial Banks (commercial banking)"
          ],
          [
           "PRIME MERIDIAN HOLDING CO",
           "State Commercial Banks (commercial banking)"
          ],
          [
           "BANKWELL FINANCIAL GROUP, INC.",
           "State Commercial Banks (commercial banking)"
          ],
          [
           "SOUTHWEST GEORGIA FINANCIAL CORP",
           "State Commercial Banks (commercial banking)"
          ],
          [
           "BANK OF COMMERCE HOLDINGS",
           "State Commercial Banks (commercial banking)"
          ],
          [
           "BANK OF COMMERCE HOLDINGS",
           "State Commercial Banks (commercial banking)"
          ],
          [
           "UNITED BANCORP INC /OH/",
           "State Commercial Banks (commercial banking)"
          ],
          [
           "PARKWAY ACQUISITION CORP.",
           "State Commercial Banks (commercial banking)"
          ],
          [
           "INVESTAR HOLDING CORP",
           "State Commercial Banks (commercial banking)"
          ],
          [
           "RENASANT CORP",
           "State Commercial Banks (commercial banking)"
          ],
          [
           "RELIANT BANCORP, INC.",
           "State Commercial Banks (commercial banking)"
          ],
          [
           "FIRST COMMUNITY CORP /SC/",
           "State Commercial Banks (commercial banking)"
          ],
          [
           "FIRST FINANCIAL NORTHWEST, INC.",
           "State Commercial Banks (commercial banking)"
          ],
          [
           "COMMERCE BANCSHARES INC /MO/",
           "State Commercial Banks (commercial banking)"
          ],
          [
           "JUNIATA VALLEY FINANCIAL CORP",
           "State Commercial Banks (commercial banking)"
          ],
          [
           "HOWARD BANCORP INC",
           "State Commercial Banks (commercial banking)"
          ],
          [
           "EAGLE FINANCIAL SERVICES INC",
           "State Commercial Banks (commercial banking)"
          ],
          [
           "MVB FINANCIAL CORP",
           "State Commercial Banks (commercial banking)"
          ],
          [
           "INDEPENDENT BANK GROUP, INC.",
           "State Commercial Banks (commercial banking)"
          ],
          [
           "CONNECTONE BANCORP, INC.",
           "State Commercial Banks (commercial banking)"
          ],
          [
           "REPUBLIC BANCORP INC /KY/",
           "State Commercial Banks (commercial banking)"
          ],
          [
           "SOUTHSIDE BANCSHARES INC",
           "State Commercial Banks (commercial banking)"
          ],
          [
           "FIRST HAWAIIAN, INC.",
           "State Commercial Banks (commercial banking)"
          ],
          [
           "FIRST US BANCSHARES INC",
           "State Commercial Banks (commercial banking)"
          ],
          [
           "COMMUNITY FINANCIAL CORP /MD/",
           "State Commercial Banks (commercial banking)"
          ],
          [
           "BANNER CORP",
           "State Commercial Banks (commercial banking)"
          ],
          [
           "SVB FINANCIAL GROUP",
           "State Commercial Banks (commercial banking)"
          ],
          [
           "CATHAY GENERAL BANCORP",
           "State Commercial Banks (commercial banking)"
          ],
          [
           "BANK OF THE JAMES FINANCIAL GROUP INC",
           "State Commercial Banks (commercial banking)"
          ],
          [
           "FLUSHING FINANCIAL CORP",
           "State Commercial Banks (commercial banking)"
          ],
          [
           "FRANKLIN FINANCIAL SERVICES CORP /PA/",
           "State Commercial Banks (commercial banking)"
          ],
          [
           "CENTRAL PACIFIC FINANCIAL CORP",
           "State Commercial Banks (commercial banking)"
          ],
          [
           "CENTRAL PACIFIC FINANCIAL CORP",
           "State Commercial Banks (commercial banking)"
          ],
          [
           "CENTRAL VALLEY COMMUNITY BANCORP",
           "State Commercial Banks (commercial banking)"
          ],
          [
           "F&M BANK CORP",
           "State Commercial Banks (commercial banking)"
          ],
          [
           "FARMERS NATIONAL BANC CORP /OH/",
           "State Commercial Banks (commercial banking)"
          ],
          [
           "CITIZENS & NORTHERN CORP",
           "State Commercial Banks (commercial banking)"
          ],
          [
           "GUARANTY FEDERAL BANCSHARES INC",
           "State Commercial Banks (commercial banking)"
          ],
          [
           "CAROLINA FINANCIAL CORP",
           "State Commercial Banks (commercial banking)"
          ],
          [
           "FIRST INTERNET BANCORP",
           "State Commercial Banks (commercial banking)"
          ],
          [
           "HARBORONE BANCORP, INC.",
           "State Commercial Banks (commercial banking)"
          ],
          [
           "UNITED BANKSHARES INC/WV",
           "State Commercial Banks (commercial banking)"
          ],
          [
           "INDEPENDENT BANK CORP",
           "State Commercial Banks (commercial banking)"
          ],
          [
           "CITIZENS FINANCIAL SERVICES INC",
           "State Commercial Banks (commercial banking)"
          ],
          [
           "NORWOOD FINANCIAL CORP",
           "State Commercial Banks (commercial banking)"
          ],
          [
           "WEST BANCORPORATION INC",
           "State Commercial Banks (commercial banking)"
          ],
          [
           "CUSTOMERS BANCORP, INC.",
           "State Commercial Banks (commercial banking)"
          ],
          [
           "WEST END INDIANA BANCSHARES, INC.",
           "State Commercial Banks (commercial banking)"
          ],
          [
           "ATLANTIC CAPITAL BANCSHARES, INC.",
           "State Commercial Banks (commercial banking)"
          ],
          [
           "IBERIABANK CORP",
           "State Commercial Banks (commercial banking)"
          ],
          [
           "MERCANTILE BANK CORP",
           "State Commercial Banks (commercial banking)"
          ],
          [
           "GERMAN AMERICAN BANCORP, INC.",
           "State Commercial Banks (commercial banking)"
          ],
          [
           "S&T BANCORP INC",
           "State Commercial Banks (commercial banking)"
          ],
          [
           "HILLTOP HOLDINGS INC.",
           "State Commercial Banks (commercial banking)"
          ],
          [
           "CB FINANCIAL SERVICES, INC.",
           "State Commercial Banks (commercial banking)"
          ],
          [
           "ENTERPRISE FINANCIAL SERVICES CORP",
           "State Commercial Banks (commercial banking)"
          ],
          [
           "AUBURN NATIONAL BANCORPORATION, INC",
           "State Commercial Banks (commercial banking)"
          ],
          [
           "FIRST KEYSTONE CORP",
           "State Commercial Banks (commercial banking)"
          ],
          [
           "TEXAS CAPITAL BANCSHARES INC/TX",
           "State Commercial Banks (commercial banking)"
          ],
          [
           "VILLAGE BANK & TRUST FINANCIAL CORP.",
           "State Commercial Banks (commercial banking)"
          ],
          [
           "STOCK YARDS BANCORP, INC.",
           "State Commercial Banks (commercial banking)"
          ],
          [
           "BUSINESS FIRST BANCSHARES, INC.",
           "State Commercial Banks (commercial banking)"
          ]
         ],
         "hovertemplate": "color=State Commercial Banks (commercial banking)<br>0=%{x}<br>1=%{y}<br>2=%{z}<br>name=%{customdata[0]}<br>industry=%{customdata[1]}<extra></extra>",
         "legendgroup": "State Commercial Banks (commercial banking)",
         "marker": {
          "color": "#FFA15A",
          "symbol": "circle"
         },
         "mode": "markers",
         "name": "State Commercial Banks (commercial banking)",
         "scene": "scene",
         "showlegend": true,
         "type": "scatter3d",
         "x": [
          -4.023756570416359,
          -3.6781274784491784,
          -3.8696919783067183,
          -4.619383788810296,
          -4.388034144202354,
          -4.331430504733681,
          -3.9889691269319827,
          -2.5209550005538874,
          -4.005694171249945,
          -3.459007783149663,
          -3.459007783149663,
          -0.1745947876667001,
          -4.4216123727718415,
          -4.648247542114968,
          -4.222062012246348,
          -3.8180118410864226,
          -4.141797416139393,
          -4.350706227854212,
          -4.223389132777682,
          -4.111388023739069,
          -4.295157655979305,
          -4.295157655979305,
          -3.965286826010829,
          -4.833804227635872,
          -4.526283758564334,
          -4.455210457424435,
          -2.672469953859252,
          -4.602260141226016,
          -3.9728281404379744,
          -4.119438418171419,
          -3.172138037586414,
          -4.5915044310535915,
          -4.061470749195447,
          -4.062122747760022,
          -4.0629527816831565,
          -4.362437231652606,
          -4.566076054810415,
          -4.8025904409232805,
          -4.408690849045993,
          -2.721119543726101,
          -4.022333939061965,
          -0.6729422340282174,
          -4.675383268135045,
          -4.353928569089201,
          -4.215632666655105,
          -0.6121318362045994,
          -4.301404945901637,
          -3.977899393593809,
          -4.226626499848532,
          -4.660794276408096,
          -4.204192807641338,
          -3.936899373887912,
          -3.8746963789640243,
          -3.820881102592377,
          -3.802463992355659,
          -4.5616789312895,
          -4.6072119074164535,
          -3.6802203973674987,
          -4.2488911980639275,
          -4.2488911980639275,
          -4.251228701300925,
          -4.228967075022957,
          -4.914970729897699,
          -4.797060201544386,
          -3.899374698195918,
          -4.530410271804386,
          -4.47893566540298,
          -3.954164079104129,
          -4.082963583240428,
          -2.465987963917107,
          -4.093829620963365,
          -4.151923026531023,
          -4.430113296877528,
          -4.073211556857097,
          -3.390365314330462,
          -4.162064888372782,
          -4.24942766121827,
          -3.593132182993346,
          -4.0732509166247155,
          0.29832478956419073,
          -3.707618173053617,
          -4.331561064094423,
          -4.11841151994401,
          -3.5702087532681688,
          -4.626591645318788,
          -4.5305990430977365,
          -4.5305990430977365,
          -4.497617900054223,
          0.07829206608527729,
          -3.8073539961819525,
          -1.7305097106821807,
          -4.357748213704418,
          -4.766495039928403,
          -4.079664058694823,
          -4.74990351628084,
          -4.513457328853292,
          -4.178980738676656,
          -3.9278109565169066,
          -4.56088885382512,
          -4.165632905328663,
          -4.155468694546185,
          -3.970474786755181,
          -4.748332831783202,
          -4.14846869611777,
          -4.38936169077416,
          -3.6355196947379285,
          -1.1647549281369336,
          -4.069943359026229,
          -3.779830144446583,
          -0.659280763953936,
          -4.336106793880191,
          -3.696331020261178,
          -3.915144803292081,
          -4.285662775181575,
          -3.283353479218211,
          -4.942550654930888
         ],
         "y": [
          3.9240609326854843,
          2.443018647438898,
          0.505229052256992,
          4.4593431622687865,
          3.727037397930279,
          4.701139536702413,
          4.262283510754199,
          0.8130301961574382,
          3.0393506499842364,
          4.086283830058506,
          4.086283830058506,
          -0.9760158879788482,
          4.364997190397979,
          3.904784230320001,
          3.538232008420053,
          4.009359323831771,
          2.114560957608344,
          4.4385177259981905,
          3.5919460180570177,
          3.875325169841488,
          3.486156635265217,
          3.486156635265217,
          4.12172050329759,
          3.3880533459990456,
          1.8627928895089385,
          4.408319172234421,
          0.22724805691142602,
          3.7027015725782615,
          4.518691217597507,
          4.432386402533187,
          3.3482493199769117,
          3.8462308436520845,
          2.6333402004011743,
          4.3167273235113806,
          3.619562797145325,
          4.384523595629433,
          4.180428884282544,
          3.4412336311221132,
          2.4973554586158713,
          2.104881261766653,
          1.1989780552713225,
          -0.8809655185297102,
          4.038598254821965,
          3.3586017801997943,
          3.7839500513161104,
          -0.3252499586590983,
          2.7663858202882046,
          4.328099027526849,
          4.3490532719301465,
          4.203509765194647,
          4.586998682872333,
          3.826483110816404,
          4.449307526690866,
          3.4004580106644773,
          4.301236809322677,
          3.4413219494373393,
          3.7309766771256427,
          2.731874843787341,
          4.42890392551502,
          4.42890392551502,
          3.687232218951738,
          4.417424731118958,
          4.098617087061278,
          2.995592861353291,
          4.4650466897240335,
          4.5625221490118415,
          1.588593109010062,
          4.253141399246155,
          3.7119641824142118,
          -0.3184314743938862,
          4.2333433409554715,
          3.9512744682808774,
          4.469160986528324,
          4.173721026696259,
          2.4018949661314988,
          4.397305259001523,
          4.435820929399627,
          3.796204418874162,
          1.9322438903713148,
          -0.6071135414581916,
          4.225022063547589,
          3.7281771795657557,
          4.315765145208861,
          0.8527930297289699,
          3.407302586390805,
          4.04091327286934,
          4.04091327286934,
          4.28989091187346,
          -0.513007041738892,
          3.9242011040513116,
          0.8159438976336755,
          2.383717203193201,
          4.280348124444347,
          4.180496201086475,
          3.119734805052687,
          3.214641280397151,
          1.2543955056803406,
          4.084269180695699,
          3.5128241224252608,
          4.34361896634075,
          4.070744586236677,
          1.6936999852302184,
          4.058246789750709,
          4.33525482275921,
          2.508424272327857,
          3.5177656148644916,
          0.9664336174958755,
          4.041388939804474,
          0.8592200574433,
          -0.5063204968813798,
          4.654294539894868,
          3.7467695128609146,
          4.188454632013632,
          4.256080906223009,
          3.2250013383933647,
          4.247110544084456
         ],
         "z": [
          0.5687561828997403,
          0.06659028460111859,
          -1.6076021725578076,
          0.40955988625793616,
          0.01939393629397111,
          0.8202705962834028,
          1.0770961488003261,
          -0.3865235443129036,
          0.10292389322388877,
          1.6376805963230512,
          1.6376805963230512,
          1.5440417034372527,
          0.19098709303653752,
          -0.03505109712811016,
          0.2975957174248455,
          0.6454533162254128,
          -0.7515984750814472,
          0.6185632128246596,
          -0.13217915692069832,
          0.5227157936400395,
          -0.05691931518994606,
          -0.05691931518994606,
          0.9357401944727292,
          -0.9099111414071924,
          -1.3942124277839358,
          0.37837527260848197,
          -0.47695862594911387,
          -0.35352579374037707,
          1.1277404393616786,
          0.8908000795330784,
          1.0570156353111406,
          -0.17510509794961474,
          -0.7286687341319619,
          0.8508190129516411,
          0.3634039155267274,
          0.5041056006824768,
          0.19574796267699582,
          -0.352288315171774,
          -0.6535991713873956,
          0.34826290740513405,
          -1.2911086879790288,
          0.9697596620896318,
          -0.13168027753733516,
          -0.032244791023257155,
          0.24695968836130458,
          0.8315872146039441,
          -0.3948504177628587,
          1.1229923003061344,
          0.7172336654612229,
          0.16462839726465667,
          0.7747385393263371,
          0.6122764630168638,
          1.1615199872218749,
          0.42008500092899187,
          1.1944281152936354,
          -0.2877519019950977,
          -0.1838430687013216,
          0.11563031058742461,
          0.9228617289760289,
          0.9228617289760289,
          0.26339673086781623,
          0.7754255268708459,
          -0.1366212686537819,
          -0.8908339403118012,
          1.0410471369310044,
          0.606332645989516,
          -1.3895692674709585,
          0.734438582431495,
          0.3731939738596123,
          -0.5437980896055301,
          0.8231321374176578,
          0.2491411862123547,
          0.6568520918905257,
          0.6087302075964173,
          -0.31633376636584476,
          0.9929346304871225,
          0.6890261914865787,
          0.6195222331509339,
          -0.7089305539682195,
          2.408864877343204,
          1.1660538291726505,
          0.15196343033671478,
          0.5303085087958633,
          -1.0116385109773134,
          -0.3192749606939161,
          0.1431871618824591,
          0.1431871618824591,
          0.45957661671704975,
          2.1262348737688574,
          0.8679449355228191,
          0.7393740520260424,
          -0.7289576248521726,
          0.05466423511236412,
          0.5575373897606953,
          -0.5954532416038154,
          -0.28713333758861564,
          -1.2978070371870847,
          0.9854241715591874,
          -0.09100805795934186,
          0.8638803572995944,
          0.45284030380632834,
          -0.8424240418959851,
          0.005288122846480187,
          0.8298524289508423,
          -0.8828202372273004,
          0.31539931809423877,
          1.8149007697084265,
          0.38597020699442386,
          -1.1039534476007675,
          1.246274487037829,
          0.9843744330374442,
          0.7478326359220804,
          0.843813776271056,
          0.29073976475551006,
          0.6271294119572717,
          -0.038262574573970184
         ]
        }
       ],
       "layout": {
        "height": 600,
        "legend": {
         "title": {
          "text": "color"
         },
         "tracegroupgap": 0
        },
        "margin": {
         "t": 60
        },
        "scene": {
         "domain": {
          "x": [
           0,
           1
          ],
          "y": [
           0,
           1
          ]
         },
         "xaxis": {
          "title": {
           "text": "0"
          }
         },
         "yaxis": {
          "title": {
           "text": "1"
          }
         },
         "zaxis": {
          "title": {
           "text": "2"
          }
         }
        },
        "template": {
         "data": {
          "bar": [
           {
            "error_x": {
             "color": "#2a3f5f"
            },
            "error_y": {
             "color": "#2a3f5f"
            },
            "marker": {
             "line": {
              "color": "#E5ECF6",
              "width": 0.5
             },
             "pattern": {
              "fillmode": "overlay",
              "size": 10,
              "solidity": 0.2
             }
            },
            "type": "bar"
           }
          ],
          "barpolar": [
           {
            "marker": {
             "line": {
              "color": "#E5ECF6",
              "width": 0.5
             },
             "pattern": {
              "fillmode": "overlay",
              "size": 10,
              "solidity": 0.2
             }
            },
            "type": "barpolar"
           }
          ],
          "carpet": [
           {
            "aaxis": {
             "endlinecolor": "#2a3f5f",
             "gridcolor": "white",
             "linecolor": "white",
             "minorgridcolor": "white",
             "startlinecolor": "#2a3f5f"
            },
            "baxis": {
             "endlinecolor": "#2a3f5f",
             "gridcolor": "white",
             "linecolor": "white",
             "minorgridcolor": "white",
             "startlinecolor": "#2a3f5f"
            },
            "type": "carpet"
           }
          ],
          "choropleth": [
           {
            "colorbar": {
             "outlinewidth": 0,
             "ticks": ""
            },
            "type": "choropleth"
           }
          ],
          "contour": [
           {
            "colorbar": {
             "outlinewidth": 0,
             "ticks": ""
            },
            "colorscale": [
             [
              0,
              "#0d0887"
             ],
             [
              0.1111111111111111,
              "#46039f"
             ],
             [
              0.2222222222222222,
              "#7201a8"
             ],
             [
              0.3333333333333333,
              "#9c179e"
             ],
             [
              0.4444444444444444,
              "#bd3786"
             ],
             [
              0.5555555555555556,
              "#d8576b"
             ],
             [
              0.6666666666666666,
              "#ed7953"
             ],
             [
              0.7777777777777778,
              "#fb9f3a"
             ],
             [
              0.8888888888888888,
              "#fdca26"
             ],
             [
              1,
              "#f0f921"
             ]
            ],
            "type": "contour"
           }
          ],
          "contourcarpet": [
           {
            "colorbar": {
             "outlinewidth": 0,
             "ticks": ""
            },
            "type": "contourcarpet"
           }
          ],
          "heatmap": [
           {
            "colorbar": {
             "outlinewidth": 0,
             "ticks": ""
            },
            "colorscale": [
             [
              0,
              "#0d0887"
             ],
             [
              0.1111111111111111,
              "#46039f"
             ],
             [
              0.2222222222222222,
              "#7201a8"
             ],
             [
              0.3333333333333333,
              "#9c179e"
             ],
             [
              0.4444444444444444,
              "#bd3786"
             ],
             [
              0.5555555555555556,
              "#d8576b"
             ],
             [
              0.6666666666666666,
              "#ed7953"
             ],
             [
              0.7777777777777778,
              "#fb9f3a"
             ],
             [
              0.8888888888888888,
              "#fdca26"
             ],
             [
              1,
              "#f0f921"
             ]
            ],
            "type": "heatmap"
           }
          ],
          "heatmapgl": [
           {
            "colorbar": {
             "outlinewidth": 0,
             "ticks": ""
            },
            "colorscale": [
             [
              0,
              "#0d0887"
             ],
             [
              0.1111111111111111,
              "#46039f"
             ],
             [
              0.2222222222222222,
              "#7201a8"
             ],
             [
              0.3333333333333333,
              "#9c179e"
             ],
             [
              0.4444444444444444,
              "#bd3786"
             ],
             [
              0.5555555555555556,
              "#d8576b"
             ],
             [
              0.6666666666666666,
              "#ed7953"
             ],
             [
              0.7777777777777778,
              "#fb9f3a"
             ],
             [
              0.8888888888888888,
              "#fdca26"
             ],
             [
              1,
              "#f0f921"
             ]
            ],
            "type": "heatmapgl"
           }
          ],
          "histogram": [
           {
            "marker": {
             "pattern": {
              "fillmode": "overlay",
              "size": 10,
              "solidity": 0.2
             }
            },
            "type": "histogram"
           }
          ],
          "histogram2d": [
           {
            "colorbar": {
             "outlinewidth": 0,
             "ticks": ""
            },
            "colorscale": [
             [
              0,
              "#0d0887"
             ],
             [
              0.1111111111111111,
              "#46039f"
             ],
             [
              0.2222222222222222,
              "#7201a8"
             ],
             [
              0.3333333333333333,
              "#9c179e"
             ],
             [
              0.4444444444444444,
              "#bd3786"
             ],
             [
              0.5555555555555556,
              "#d8576b"
             ],
             [
              0.6666666666666666,
              "#ed7953"
             ],
             [
              0.7777777777777778,
              "#fb9f3a"
             ],
             [
              0.8888888888888888,
              "#fdca26"
             ],
             [
              1,
              "#f0f921"
             ]
            ],
            "type": "histogram2d"
           }
          ],
          "histogram2dcontour": [
           {
            "colorbar": {
             "outlinewidth": 0,
             "ticks": ""
            },
            "colorscale": [
             [
              0,
              "#0d0887"
             ],
             [
              0.1111111111111111,
              "#46039f"
             ],
             [
              0.2222222222222222,
              "#7201a8"
             ],
             [
              0.3333333333333333,
              "#9c179e"
             ],
             [
              0.4444444444444444,
              "#bd3786"
             ],
             [
              0.5555555555555556,
              "#d8576b"
             ],
             [
              0.6666666666666666,
              "#ed7953"
             ],
             [
              0.7777777777777778,
              "#fb9f3a"
             ],
             [
              0.8888888888888888,
              "#fdca26"
             ],
             [
              1,
              "#f0f921"
             ]
            ],
            "type": "histogram2dcontour"
           }
          ],
          "mesh3d": [
           {
            "colorbar": {
             "outlinewidth": 0,
             "ticks": ""
            },
            "type": "mesh3d"
           }
          ],
          "parcoords": [
           {
            "line": {
             "colorbar": {
              "outlinewidth": 0,
              "ticks": ""
             }
            },
            "type": "parcoords"
           }
          ],
          "pie": [
           {
            "automargin": true,
            "type": "pie"
           }
          ],
          "scatter": [
           {
            "marker": {
             "colorbar": {
              "outlinewidth": 0,
              "ticks": ""
             }
            },
            "type": "scatter"
           }
          ],
          "scatter3d": [
           {
            "line": {
             "colorbar": {
              "outlinewidth": 0,
              "ticks": ""
             }
            },
            "marker": {
             "colorbar": {
              "outlinewidth": 0,
              "ticks": ""
             }
            },
            "type": "scatter3d"
           }
          ],
          "scattercarpet": [
           {
            "marker": {
             "colorbar": {
              "outlinewidth": 0,
              "ticks": ""
             }
            },
            "type": "scattercarpet"
           }
          ],
          "scattergeo": [
           {
            "marker": {
             "colorbar": {
              "outlinewidth": 0,
              "ticks": ""
             }
            },
            "type": "scattergeo"
           }
          ],
          "scattergl": [
           {
            "marker": {
             "colorbar": {
              "outlinewidth": 0,
              "ticks": ""
             }
            },
            "type": "scattergl"
           }
          ],
          "scattermapbox": [
           {
            "marker": {
             "colorbar": {
              "outlinewidth": 0,
              "ticks": ""
             }
            },
            "type": "scattermapbox"
           }
          ],
          "scatterpolar": [
           {
            "marker": {
             "colorbar": {
              "outlinewidth": 0,
              "ticks": ""
             }
            },
            "type": "scatterpolar"
           }
          ],
          "scatterpolargl": [
           {
            "marker": {
             "colorbar": {
              "outlinewidth": 0,
              "ticks": ""
             }
            },
            "type": "scatterpolargl"
           }
          ],
          "scatterternary": [
           {
            "marker": {
             "colorbar": {
              "outlinewidth": 0,
              "ticks": ""
             }
            },
            "type": "scatterternary"
           }
          ],
          "surface": [
           {
            "colorbar": {
             "outlinewidth": 0,
             "ticks": ""
            },
            "colorscale": [
             [
              0,
              "#0d0887"
             ],
             [
              0.1111111111111111,
              "#46039f"
             ],
             [
              0.2222222222222222,
              "#7201a8"
             ],
             [
              0.3333333333333333,
              "#9c179e"
             ],
             [
              0.4444444444444444,
              "#bd3786"
             ],
             [
              0.5555555555555556,
              "#d8576b"
             ],
             [
              0.6666666666666666,
              "#ed7953"
             ],
             [
              0.7777777777777778,
              "#fb9f3a"
             ],
             [
              0.8888888888888888,
              "#fdca26"
             ],
             [
              1,
              "#f0f921"
             ]
            ],
            "type": "surface"
           }
          ],
          "table": [
           {
            "cells": {
             "fill": {
              "color": "#EBF0F8"
             },
             "line": {
              "color": "white"
             }
            },
            "header": {
             "fill": {
              "color": "#C8D4E3"
             },
             "line": {
              "color": "white"
             }
            },
            "type": "table"
           }
          ]
         },
         "layout": {
          "annotationdefaults": {
           "arrowcolor": "#2a3f5f",
           "arrowhead": 0,
           "arrowwidth": 1
          },
          "autotypenumbers": "strict",
          "coloraxis": {
           "colorbar": {
            "outlinewidth": 0,
            "ticks": ""
           }
          },
          "colorscale": {
           "diverging": [
            [
             0,
             "#8e0152"
            ],
            [
             0.1,
             "#c51b7d"
            ],
            [
             0.2,
             "#de77ae"
            ],
            [
             0.3,
             "#f1b6da"
            ],
            [
             0.4,
             "#fde0ef"
            ],
            [
             0.5,
             "#f7f7f7"
            ],
            [
             0.6,
             "#e6f5d0"
            ],
            [
             0.7,
             "#b8e186"
            ],
            [
             0.8,
             "#7fbc41"
            ],
            [
             0.9,
             "#4d9221"
            ],
            [
             1,
             "#276419"
            ]
           ],
           "sequential": [
            [
             0,
             "#0d0887"
            ],
            [
             0.1111111111111111,
             "#46039f"
            ],
            [
             0.2222222222222222,
             "#7201a8"
            ],
            [
             0.3333333333333333,
             "#9c179e"
            ],
            [
             0.4444444444444444,
             "#bd3786"
            ],
            [
             0.5555555555555556,
             "#d8576b"
            ],
            [
             0.6666666666666666,
             "#ed7953"
            ],
            [
             0.7777777777777778,
             "#fb9f3a"
            ],
            [
             0.8888888888888888,
             "#fdca26"
            ],
            [
             1,
             "#f0f921"
            ]
           ],
           "sequentialminus": [
            [
             0,
             "#0d0887"
            ],
            [
             0.1111111111111111,
             "#46039f"
            ],
            [
             0.2222222222222222,
             "#7201a8"
            ],
            [
             0.3333333333333333,
             "#9c179e"
            ],
            [
             0.4444444444444444,
             "#bd3786"
            ],
            [
             0.5555555555555556,
             "#d8576b"
            ],
            [
             0.6666666666666666,
             "#ed7953"
            ],
            [
             0.7777777777777778,
             "#fb9f3a"
            ],
            [
             0.8888888888888888,
             "#fdca26"
            ],
            [
             1,
             "#f0f921"
            ]
           ]
          },
          "colorway": [
           "#636efa",
           "#EF553B",
           "#00cc96",
           "#ab63fa",
           "#FFA15A",
           "#19d3f3",
           "#FF6692",
           "#B6E880",
           "#FF97FF",
           "#FECB52"
          ],
          "font": {
           "color": "#2a3f5f"
          },
          "geo": {
           "bgcolor": "white",
           "lakecolor": "white",
           "landcolor": "#E5ECF6",
           "showlakes": true,
           "showland": true,
           "subunitcolor": "white"
          },
          "hoverlabel": {
           "align": "left"
          },
          "hovermode": "closest",
          "mapbox": {
           "style": "light"
          },
          "paper_bgcolor": "white",
          "plot_bgcolor": "#E5ECF6",
          "polar": {
           "angularaxis": {
            "gridcolor": "white",
            "linecolor": "white",
            "ticks": ""
           },
           "bgcolor": "#E5ECF6",
           "radialaxis": {
            "gridcolor": "white",
            "linecolor": "white",
            "ticks": ""
           }
          },
          "scene": {
           "xaxis": {
            "backgroundcolor": "#E5ECF6",
            "gridcolor": "white",
            "gridwidth": 2,
            "linecolor": "white",
            "showbackground": true,
            "ticks": "",
            "zerolinecolor": "white"
           },
           "yaxis": {
            "backgroundcolor": "#E5ECF6",
            "gridcolor": "white",
            "gridwidth": 2,
            "linecolor": "white",
            "showbackground": true,
            "ticks": "",
            "zerolinecolor": "white"
           },
           "zaxis": {
            "backgroundcolor": "#E5ECF6",
            "gridcolor": "white",
            "gridwidth": 2,
            "linecolor": "white",
            "showbackground": true,
            "ticks": "",
            "zerolinecolor": "white"
           }
          },
          "shapedefaults": {
           "line": {
            "color": "#2a3f5f"
           }
          },
          "ternary": {
           "aaxis": {
            "gridcolor": "white",
            "linecolor": "white",
            "ticks": ""
           },
           "baxis": {
            "gridcolor": "white",
            "linecolor": "white",
            "ticks": ""
           },
           "bgcolor": "#E5ECF6",
           "caxis": {
            "gridcolor": "white",
            "linecolor": "white",
            "ticks": ""
           }
          },
          "title": {
           "x": 0.05
          },
          "xaxis": {
           "automargin": true,
           "gridcolor": "white",
           "linecolor": "white",
           "ticks": "",
           "title": {
            "standoff": 15
           },
           "zerolinecolor": "white",
           "zerolinewidth": 2
          },
          "yaxis": {
           "automargin": true,
           "gridcolor": "white",
           "linecolor": "white",
           "ticks": "",
           "title": {
            "standoff": 15
           },
           "zerolinecolor": "white",
           "zerolinewidth": 2
          }
         }
        },
        "width": 1200
       }
      },
      "text/html": [
       "<div>                            <div id=\"37299f28-6c15-4996-997e-1f16f5fa43c4\" class=\"plotly-graph-div\" style=\"height:600px; width:1200px;\"></div>            <script type=\"text/javascript\">                require([\"plotly\"], function(Plotly) {                    window.PLOTLYENV=window.PLOTLYENV || {};                                    if (document.getElementById(\"37299f28-6c15-4996-997e-1f16f5fa43c4\")) {                    Plotly.newPlot(                        \"37299f28-6c15-4996-997e-1f16f5fa43c4\",                        [{\"customdata\":[[\"MONGODB, INC.\",\"Prepackaged Software (mass reproduction of software)\"],[\"SALESFORCE COM INC\",\"Prepackaged Software (mass reproduction of software)\"],[\"SPLUNK INC\",\"Prepackaged Software (mass reproduction of software)\"],[\"OKTA, INC.\",\"Prepackaged Software (mass reproduction of software)\"],[\"VEEVA SYSTEMS INC\",\"Prepackaged Software (mass reproduction of software)\"],[\"AUTODESK INC\",\"Prepackaged Software (mass reproduction of software)\"],[\"ETERNAL SPEECH, INC.\",\"Prepackaged Software (mass reproduction of software)\"],[\"ETERNAL SPEECH, INC.\",\"Prepackaged Software (mass reproduction of software)\"],[\"MAJESCO\",\"Prepackaged Software (mass reproduction of software)\"],[\"DUO WORLD INC\",\"Prepackaged Software (mass reproduction of software)\"],[\"COMMVAULT SYSTEMS INC\",\"Prepackaged Software (mass reproduction of software)\"],[\"UPPERSOLUTION.COM\",\"Prepackaged Software (mass reproduction of software)\"],[\"ORACLE CORP\",\"Prepackaged Software (mass reproduction of software)\"],[\"SAVMOBI TECHNOLOGY INC.\",\"Prepackaged Software (mass reproduction of software)\"],[\"ZEDGE, INC.\",\"Prepackaged Software (mass reproduction of software)\"],[\"DESTINY MEDIA TECHNOLOGIES INC\",\"Prepackaged Software (mass reproduction of software)\"],[\"TRAQER CORP\",\"Prepackaged Software (mass reproduction of software)\"],[\"VISIBER57 CORP.\",\"Prepackaged Software (mass reproduction of software)\"],[\"GH CAPITAL INC.\",\"Prepackaged Software (mass reproduction of software)\"],[\"BRIDGELINE DIGITAL, INC.\",\"Prepackaged Software (mass reproduction of software)\"],[\"NUANCE COMMUNICATIONS, INC.\",\"Prepackaged Software (mass reproduction of software)\"],[\"DATAWATCH CORP\",\"Prepackaged Software (mass reproduction of software)\"],[\"POLARITYTE, INC.\",\"Prepackaged Software (mass reproduction of software)\"],[\"POLARITYTE, INC.\",\"Prepackaged Software (mass reproduction of software)\"],[\"VGRAB COMMUNICATIONS INC.\",\"Prepackaged Software (mass reproduction of software)\"],[\"VGRAB COMMUNICATIONS INC.\",\"Prepackaged Software (mass reproduction of software)\"],[\"ADAIAH DISTRIBUTION INC\",\"Prepackaged Software (mass reproduction of software)\"],[\"ADAIAH DISTRIBUTION INC\",\"Prepackaged Software (mass reproduction of software)\"],[\"PROGRESS SOFTWARE CORP /MA\",\"Prepackaged Software (mass reproduction of software)\"],[\"MEDICAL INFORMATION TECHNOLOGY, INC.\",\"Prepackaged Software (mass reproduction of software)\"],[\"SPS COMMERCE INC\",\"Prepackaged Software (mass reproduction of software)\"],[\"ALTERYX, INC.\",\"Prepackaged Software (mass reproduction of software)\"],[\"INTELLIGENT SYSTEMS CORP\",\"Prepackaged Software (mass reproduction of software)\"],[\"ALARM.COM HOLDINGS, INC.\",\"Prepackaged Software (mass reproduction of software)\"],[\"LIGHTNING GAMING, INC.\",\"Prepackaged Software (mass reproduction of software)\"],[\"ENDURANCE INTERNATIONAL GROUP HOLDINGS, INC.\",\"Prepackaged Software (mass reproduction of software)\"],[\"2U, INC.\",\"Prepackaged Software (mass reproduction of software)\"],[\"CISION LTD.\",\"Prepackaged Software (mass reproduction of software)\"],[\"BTCS INC.\",\"Prepackaged Software (mass reproduction of software)\"],[\"BTCS INC.\",\"Prepackaged Software (mass reproduction of software)\"],[\"BTCS INC.\",\"Prepackaged Software (mass reproduction of software)\"],[\"INTELLICHECK, INC.\",\"Prepackaged Software (mass reproduction of software)\"],[\"REALPAGE INC\",\"Prepackaged Software (mass reproduction of software)\"],[\"Q2 HOLDINGS, INC.\",\"Prepackaged Software (mass reproduction of software)\"],[\"MCORPCX, INC.\",\"Prepackaged Software (mass reproduction of software)\"],[\"QUALYS, INC.\",\"Prepackaged Software (mass reproduction of software)\"],[\"MEDICAL TRANSCRIPTION BILLING, CORP\",\"Prepackaged Software (mass reproduction of software)\"],[\"SMITH MICRO SOFTWARE INC\",\"Prepackaged Software (mass reproduction of software)\"],[\"SHOTSPOTTER, INC\",\"Prepackaged Software (mass reproduction of software)\"],[\"LONGWEN GROUP CORP.\",\"Prepackaged Software (mass reproduction of software)\"],[\"ELLIE MAE INC\",\"Prepackaged Software (mass reproduction of software)\"],[\"ROSETTA STONE INC\",\"Prepackaged Software (mass reproduction of software)\"],[\"BLACK KNIGHT, INC.\",\"Prepackaged Software (mass reproduction of software)\"],[\"MICROSTRATEGY INC\",\"Prepackaged Software (mass reproduction of software)\"],[\"EMR TECHNOLOGY SOLUTIONS, INC.\",\"Prepackaged Software (mass reproduction of software)\"],[\"PAYCOM SOFTWARE, INC.\",\"Prepackaged Software (mass reproduction of software)\"],[\"3D SYSTEMS CORP\",\"Prepackaged Software (mass reproduction of software)\"],[\"APPIAN CORP\",\"Prepackaged Software (mass reproduction of software)\"],[\"UPLAND SOFTWARE, INC.\",\"Prepackaged Software (mass reproduction of software)\"],[\"LIVEPERSON INC\",\"Prepackaged Software (mass reproduction of software)\"],[\"AWARE INC /MA/\",\"Prepackaged Software (mass reproduction of software)\"],[\"ULTIMATE SOFTWARE GROUP INC\",\"Prepackaged Software (mass reproduction of software)\"],[\"ANSYS INC\",\"Prepackaged Software (mass reproduction of software)\"],[\"AVID TECHNOLOGY, INC.\",\"Prepackaged Software (mass reproduction of software)\"],[\"NATIONAL INSTRUMENTS CORP\",\"Prepackaged Software (mass reproduction of software)\"],[\"INSPRO TECHNOLOGIES CORP\",\"Prepackaged Software (mass reproduction of software)\"],[\"QUMU CORP\",\"Prepackaged Software (mass reproduction of software)\"],[\"ACI WORLDWIDE, INC.\",\"Prepackaged Software (mass reproduction of software)\"],[\"SQUARE, INC.\",\"Prepackaged Software (mass reproduction of software)\"],[\"ALTAIR ENGINEERING INC.\",\"Prepackaged Software (mass reproduction of software)\"],[\"TALEND SA\",\"Prepackaged Software (mass reproduction of software)\"],[\"APPFOLIO INC\",\"Prepackaged Software (mass reproduction of software)\"],[\"GSE SYSTEMS INC\",\"Prepackaged Software (mass reproduction of software)\"],[\"IPSIDY INC.\",\"Prepackaged Software (mass reproduction of software)\"],[\"INTELLINETICS, INC.\",\"Prepackaged Software (mass reproduction of software)\"],[\"INTELLINETICS, INC.\",\"Prepackaged Software (mass reproduction of software)\"],[\"IIOT-OXYS, INC.\",\"Prepackaged Software (mass reproduction of software)\"],[\"NEWGIOCO GROUP, INC.\",\"Prepackaged Software (mass reproduction of software)\"],[\"WORKIVA INC\",\"Prepackaged Software (mass reproduction of software)\"],[\"TABLEAU SOFTWARE INC\",\"Prepackaged Software (mass reproduction of software)\"]],\"hovertemplate\":\"color=Prepackaged Software (mass reproduction of software)<br>0=%{x}<br>1=%{y}<br>2=%{z}<br>name=%{customdata[0]}<br>industry=%{customdata[1]}<extra></extra>\",\"legendgroup\":\"Prepackaged Software (mass reproduction of software)\",\"marker\":{\"color\":\"#636efa\",\"symbol\":\"circle\"},\"mode\":\"markers\",\"name\":\"Prepackaged Software (mass reproduction of software)\",\"scene\":\"scene\",\"showlegend\":true,\"x\":[0.9990208358637881,0.2633929490367154,0.4213714880747349,0.8408999670994822,-0.3140208201394431,0.44383655552053347,0.24461226250361423,0.24461226250361423,-0.20375924508780566,0.4801317736447076,0.6024721863060573,1.083227477196859,0.20564790692239732,-0.12768301844822375,0.19780650724212548,0.7897911283159984,-0.731997896309612,0.24029833822227997,0.026291545807584214,0.035188012227532976,0.4667665149638161,0.36170397290799844,3.2356415564231007,3.2356415564231007,-0.62356803318602,-0.62356803318602,-0.5426275806806721,-0.5426275806806721,0.05191161409637732,0.25462932458032833,-0.2298874066982151,1.2692121452586895,-0.3791663600858667,0.5218016529842551,1.1741960469090127,0.4533003469873668,0.15417335647668987,0.8314784638744139,-0.24876054983537005,-0.24876054983537005,-0.24876054983537005,-0.030312161480506725,-2.0500915784564504,-0.15187135411876096,-0.08493199887058224,1.0063555006407017,-0.32681586002957835,0.9116805334072674,1.3084889970693634,-0.4241601416343725,-0.13988951933947186,0.2106649864258616,-2.4587979688709956,0.29215682032669776,1.6904793543459395,0.452594575577024,0.032315833123874496,0.694642416520192,0.21165735966537277,1.2294392904237899,0.6419844215954025,0.07496736614047288,-0.06833848315182355,0.8319369103405979,0.09182207738004337,-0.06660250053853613,0.10944637085090124,0.47448157021547815,0.8349961180047674,0.6694108767942818,0.8007467925060211,-1.8313201897097962,-0.5602114867184941,1.024831328653115,-0.4622542059932623,-0.4622542059932623,0.6345831175948949,0.600234783700404,0.6877975084980401,1.37883736165467],\"y\":[-0.8081412816566874,-0.8345257152642801,-0.9700765223336082,-0.8349584304780017,-1.4491223650822667,-0.8291087381571366,-0.6564444769568664,-0.6564444769568664,-1.4772808231648307,-0.8436621621710368,-0.6037733682052067,-0.822847351788025,-0.6822871099987156,-1.2969781405974687,-0.6148601860706211,-0.6209653170908748,-0.5469737660782055,-0.7991990820882505,-0.7381839343312948,-1.0745791302711767,-0.8474335325568003,-0.782638638047285,0.7186052049033034,0.7186052049033034,-0.8312918096681027,-0.8312918096681027,-1.4404420980567163,-1.4404420980567163,-1.4007067926061612,-0.9206580960494465,-1.3435448176617706,-0.6158468582713007,-1.0684558342265948,-0.5971029612279671,-0.39101374414972484,-1.1430983085902577,-0.9202882177879063,-0.6623034574866224,-0.33559233141159106,-0.33559233141159106,-0.33559233141159106,-0.5568378607838663,-1.8501208886645504,-0.029377502638719237,-1.4583029439701816,-0.7153037548607409,-1.2803107380418126,-0.6688584209608508,-0.816923860347091,-1.0344425206787018,-0.6012655173964573,-1.0773188509214209,-0.6638984444533793,-1.0055651587218266,-0.1214693166150553,-1.1507639617057892,-0.7275566437884842,-0.728252837661469,-1.2170223268711178,-0.4665881214535821,-0.5270431896975827,-1.0960446868901346,-0.743875037400714,-0.693431907536249,-1.1125483107063003,-1.022816808230693,-1.3738391839202513,-0.12024514225010735,-0.24984636516954803,-0.8149718798574903,-0.7799434143802196,-1.7828937198938704,-1.5237741518649233,-0.40103468781074353,-0.869027645996581,-0.869027645996581,-0.8918554009256474,-0.8586002893788278,-0.45400445176672344,-0.7088864037110341],\"z\":[-0.3087612964151906,-0.6072244198629518,-0.23513875805347942,-0.43428806527006525,-0.057244713012525705,0.3403472519671532,2.2175300412510808,2.2175300412510808,-0.6445080732450125,-0.4557906307678197,0.23984215797164368,-0.6779446920286811,0.5043464312968927,0.5109741460392149,1.9122260195493825,0.4462292037491188,0.24426422671230094,0.8240683847970383,1.285590927814163,0.03581504972635644,0.5785050516066922,0.6427797665034072,-1.2067706732284493,-1.2067706732284493,0.31481298811936287,0.31481298811936287,0.2999047687976073,0.2999047687976073,-0.5131404328265303,0.2689957884911998,0.33007109444091426,-0.5628128408587055,0.25049335694595165,1.492481001553039,0.4716917878476656,-0.9875326553423255,0.021511937159410098,-0.6416286344792043,0.06053701065808556,0.06053701065808556,0.06053701065808556,1.8594672375445334,-1.9250083023610525,1.5692675830080305,-0.6894850934761884,-0.5734736380148434,-0.10227985151662758,0.7629179069054672,-0.8952009465805049,0.13335228966025386,0.6317664385899763,-0.30014586531241977,-1.7515686200451344,-0.2573126460406282,0.7870588835009149,-0.2955604203266656,0.5759331281881253,-0.04476729778572955,-0.051843124866985814,-0.5031504758879822,0.4551118620775668,0.5238807355953459,2.0831177668668186,0.022562332113426786,-0.15237874446936234,0.07124024734223162,-0.24977435342262153,-0.1420477328235736,-0.5367842182506909,-0.1625282020325139,-0.4041979185431016,-2.305721195904322,0.4096282143218357,0.6463855123613221,0.4242175164021144,0.4242175164021144,0.21680923753582435,-1.0950094737114502,0.056583634010454915,-0.6523178644096864],\"type\":\"scatter3d\"},{\"customdata\":[[\"INTERNATIONAL WESTERN PETROLEUM, INC.\",\"Crude Petroleum and Natural Gas\"],[\"DAYBREAK OIL & GAS, INC.\",\"Crude Petroleum and Natural Gas\"],[\"GB SCIENCES INC\",\"Crude Petroleum and Natural Gas\"],[\"FREEDOM HOLDING CORP.\",\"Crude Petroleum and Natural Gas\"],[\"MEXCO ENERGY CORP\",\"Crude Petroleum and Natural Gas\"],[\"SUSTAINABLE PROJECTS GROUP INC.\",\"Crude Petroleum and Natural Gas\"],[\"AMERICAN ENERGY GROUP LTD\",\"Crude Petroleum and Natural Gas\"],[\"REDHAWK HOLDINGS CORP.\",\"Crude Petroleum and Natural Gas\"],[\"TIANCI INTERNATIONAL, INC.\",\"Crude Petroleum and Natural Gas\"],[\"AMAZING ENERGY OIL & GAS, CO.\",\"Crude Petroleum and Natural Gas\"],[\"ALTEX INDUSTRIES INC\",\"Crude Petroleum and Natural Gas\"],[\"BARNWELL INDUSTRIES INC\",\"Crude Petroleum and Natural Gas\"],[\"PANHANDLE OIL & GAS INC\",\"Crude Petroleum and Natural Gas\"],[\"ENERGY 11, L.P.\",\"Crude Petroleum and Natural Gas\"],[\"ABRAXAS PETROLEUM CORP\",\"Crude Petroleum and Natural Gas\"],[\"SEARS OIL & GAS\",\"Crude Petroleum and Natural Gas\"],[\"APACHE CORP\",\"Crude Petroleum and Natural Gas\"],[\"GULFPORT ENERGY CORP\",\"Crude Petroleum and Natural Gas\"],[\"CONTINENTAL RESOURCES, INC\",\"Crude Petroleum and Natural Gas\"],[\"ISRAMCO INC\",\"Crude Petroleum and Natural Gas\"],[\"CHAPARRAL ENERGY, INC.\",\"Crude Petroleum and Natural Gas\"],[\"WHITING PETROLEUM CORP\",\"Crude Petroleum and Natural Gas\"],[\"CONTANGO OIL & GAS CO\",\"Crude Petroleum and Natural Gas\"],[\"EARTHSTONE ENERGY INC\",\"Crude Petroleum and Natural Gas\"],[\"CLEAN COAL TECHNOLOGIES INC.\",\"Crude Petroleum and Natural Gas\"],[\"NORTHERN OIL & GAS, INC.\",\"Crude Petroleum and Natural Gas\"],[\"SRC ENERGY INC.\",\"Crude Petroleum and Natural Gas\"],[\"JONES ENERGY, INC.\",\"Crude Petroleum and Natural Gas\"],[\"GOODRICH PETROLEUM CORP\",\"Crude Petroleum and Natural Gas\"],[\"OCCIDENTAL PETROLEUM CORP /DE/\",\"Crude Petroleum and Natural Gas\"],[\"LONESTAR RESOURCES US INC.\",\"Crude Petroleum and Natural Gas\"],[\"NOBLE ENERGY INC\",\"Crude Petroleum and Natural Gas\"],[\"PIONEER NATURAL RESOURCES CO\",\"Crude Petroleum and Natural Gas\"],[\"BONANZA CREEK ENERGY, INC.\",\"Crude Petroleum and Natural Gas\"],[\"DEVON ENERGY CORP/DE\",\"Crude Petroleum and Natural Gas\"],[\"CALIFORNIA RESOURCES CORP\",\"Crude Petroleum and Natural Gas\"],[\"PARK PLACE ENERGY INC.\",\"Crude Petroleum and Natural Gas\"],[\"ANTERO RESOURCES CORP\",\"Crude Petroleum and Natural Gas\"],[\"LAREDO PETROLEUM, INC.\",\"Crude Petroleum and Natural Gas\"],[\"CIMAREX ENERGY CO\",\"Crude Petroleum and Natural Gas\"],[\"ALTA MESA HOLDINGS, LP\",\"Crude Petroleum and Natural Gas\"],[\"US ENERGY CORP\",\"Crude Petroleum and Natural Gas\"],[\"VICTORY ENERGY CORP\",\"Crude Petroleum and Natural Gas\"],[\"VICTORY ENERGY CORP\",\"Crude Petroleum and Natural Gas\"],[\"GRAN TIERRA ENERGY INC.\",\"Crude Petroleum and Natural Gas\"],[\"MIDSTATES PETROLEUM COMPANY, INC.\",\"Crude Petroleum and Natural Gas\"],[\"WILDHORSE RESOURCE DEVELOPMENT CORP\",\"Crude Petroleum and Natural Gas\"],[\"SM ENERGY CO\",\"Crude Petroleum and Natural Gas\"],[\"SANDRIDGE ENERGY INC\",\"Crude Petroleum and Natural Gas\"],[\"RING ENERGY, INC.\",\"Crude Petroleum and Natural Gas\"],[\"SANCHEZ ENERGY CORP\",\"Crude Petroleum and Natural Gas\"],[\"TETRA TECHNOLOGIES INC\",\"Crude Petroleum and Natural Gas\"],[\"RESERVE PETROLEUM CO\",\"Crude Petroleum and Natural Gas\"],[\"HESS MIDSTREAM PARTNERS LP\",\"Crude Petroleum and Natural Gas\"],[\"TORCHLIGHT ENERGY RESOURCES INC\",\"Crude Petroleum and Natural Gas\"],[\"LINN ENERGY, INC.\",\"Crude Petroleum and Natural Gas\"],[\"KOSMOS ENERGY LTD.\",\"Crude Petroleum and Natural Gas\"],[\"SILVERBOW RESOURCES, INC.\",\"Crude Petroleum and Natural Gas\"],[\"TELLURIAN INC. /DE/\",\"Crude Petroleum and Natural Gas\"],[\"DORCHESTER MINERALS, L.P.\",\"Crude Petroleum and Natural Gas\"],[\"MATADOR RESOURCES CO\",\"Crude Petroleum and Natural Gas\"],[\"PDC ENERGY, INC.\",\"Crude Petroleum and Natural Gas\"],[\"TEXAS SOUTH ENERGY, INC.\",\"Crude Petroleum and Natural Gas\"],[\"PEDEVCO CORP\",\"Crude Petroleum and Natural Gas\"],[\"VIPER ENERGY PARTNERS LP\",\"Crude Petroleum and Natural Gas\"],[\"ENERJEX RESOURCES, INC.\",\"Crude Petroleum and Natural Gas\"],[\"TENGASCO INC\",\"Crude Petroleum and Natural Gas\"],[\"KIMBELL ROYALTY PARTNERS, LP\",\"Crude Petroleum and Natural Gas\"],[\"CONCHO RESOURCES INC\",\"Crude Petroleum and Natural Gas\"],[\"APACHE OFFSHORE INVESTMENT PARTNERSHIP\",\"Crude Petroleum and Natural Gas\"],[\"EVERFLOW EASTERN PARTNERS LP\",\"Crude Petroleum and Natural Gas\"],[\"CHESAPEAKE ENERGY CORP\",\"Crude Petroleum and Natural Gas\"],[\"CARRIZO OIL & GAS INC\",\"Crude Petroleum and Natural Gas\"],[\"CALLON PETROLEUM CO\",\"Crude Petroleum and Natural Gas\"],[\"PENN VIRGINIA CORP\",\"Crude Petroleum and Natural Gas\"],[\"DIAMONDBACK ENERGY, INC.\",\"Crude Petroleum and Natural Gas\"],[\"COMSTOCK RESOURCES INC\",\"Crude Petroleum and Natural Gas\"],[\"DALA PETROLEUM CORP.\",\"Crude Petroleum and Natural Gas\"],[\"WPX ENERGY, INC.\",\"Crude Petroleum and Natural Gas\"],[\"LILIS ENERGY, INC.\",\"Crude Petroleum and Natural Gas\"]],\"hovertemplate\":\"color=Crude Petroleum and Natural Gas<br>0=%{x}<br>1=%{y}<br>2=%{z}<br>name=%{customdata[0]}<br>industry=%{customdata[1]}<extra></extra>\",\"legendgroup\":\"Crude Petroleum and Natural Gas\",\"marker\":{\"color\":\"#EF553B\",\"symbol\":\"circle\"},\"mode\":\"markers\",\"name\":\"Crude Petroleum and Natural Gas\",\"scene\":\"scene\",\"showlegend\":true,\"x\":[-0.011016359999416544,0.08155386206843944,2.462099851337891,-0.28697004872949294,-0.12271166860608067,-0.09151559034040195,-0.39587715008798335,-0.7110852888687117,-0.42878612991982784,0.09617126229125686,-0.1871257906968486,-0.06893906122791099,0.005570572988258235,0.09464786606727274,0.03560184582774969,0.5109616399268468,0.06233808514145307,0.09054483600459116,0.031010922276035576,0.04953400784377289,-0.37438195034439525,-0.06708215011839007,0.29832478956419073,-0.12205889947896169,2.0458749271028576,-0.007289827711718093,0.008538084986114114,-0.16890359317694262,-0.40728408175738534,0.015602160189029022,0.04346074933256323,-0.6697155800154887,-0.12235821283873294,-0.008694633780533995,-0.26892732580488216,-0.8187277664172493,0.37637932658779616,-0.37870735777298353,-0.19456371198110567,-0.24210537742266366,-0.12575158790680216,-0.14160722720488364,-0.39324925398404675,-0.39324925398404675,-0.1114881135917915,-0.10621646148439282,-0.2322782700774762,0.004080862008604937,0.07361253698856135,0.0031906416194942226,-0.01212898211375629,0.5824285596818084,-0.1802782494833803,-0.35171787234631946,0.4728563072340267,-0.2597686182753997,-0.3073786948301735,0.01529033008039482,-0.003990228024909538,-0.10951741038078724,-0.06755645741309664,-0.3804617599000915,-0.03965219230720992,-0.12133498686550591,-0.17736654694695664,0.7300781038836445,-0.21177117435553786,0.10366216005670133,-0.07735142540926114,-0.4297678465119215,-0.05545683157331381,-0.1327344809355501,-0.17424894246612416,-0.35689033641190526,0.19005831479159993,-0.3264930509825914,-0.15374297521622832,-0.49303873936567116,-0.2202918945350306,-0.26926157012974444],\"y\":[-2.159120773497067,-1.7237457683298263,0.22049976134949964,0.44969182300697924,-1.975553342998026,-0.8060442510236057,-0.6607071186145245,-1.2547921814557723,-1.3022603351080568,-2.1054540846714347,-0.7757140214177942,-2.148860305744213,-2.110554357354409,-2.132811624958826,-1.4056534129841551,-0.9777923260433907,-1.9602969318956849,-2.0884417777715027,-1.946252652773925,-2.128860574481513,-2.2571857899846526,-2.00373674540762,-0.6071135414581916,-2.053396171425369,-0.24667648998583172,-2.2074428675920177,-2.2172476340236114,-2.2467439393861803,-2.414468116824446,-2.0887852200639414,-2.0585670984181554,-2.14793886540128,-1.3950731530835287,-2.1551103063560535,-1.3217588865357903,-2.0005406215692845,-1.884173138008936,-2.0141086672474104,-2.151521457475432,-1.5677609992040142,-1.8355872026257285,-2.2769041615473316,-1.952916882470048,-1.952916882470048,-2.1781461216090756,-2.1514572500564344,-2.254809402369203,-1.3838597962533603,-2.0954654619943107,-2.1619866837558734,-2.128581695295441,-1.3498816223451227,-1.3058365881853564,-1.7879166308329313,-1.2780669237317865,-2.1986201117869726,-2.233787307584405,-2.0821756160994362,-2.0735639458158475,-2.0812744306600535,-2.199450076430899,-2.0351573298705055,-1.2088592796701596,-1.065504252675034,-2.109120199872637,-0.8847276181989782,-1.2454952442954512,-2.1656289620475957,-2.2338785495609907,-1.9174319652460148,-1.935139648253761,-2.0783890814081953,-2.0150631181858167,-2.1526162587121815,-1.4970149757729743,-2.3097952965978963,-2.164400248321141,-1.5349431506220133,-2.304473820164859,-2.251545039230996],\"z\":[4.56371797575788,3.938868638449483,-0.3605212531165714,0.9507637157642929,3.579504068287644,0.043609326531132565,1.771152850344191,-1.0989862175159664,0.5910242668019233,4.714584304537384,2.506761985756657,5.017965262146563,4.791354023846556,4.886838386062322,2.1661811866506553,0.48433028604824574,3.6849075258405293,4.725480271085025,4.293631449694969,4.368730691226048,4.116195069703483,4.064488744459552,2.408864877343204,3.0802551011488393,0.7384005541138632,4.816602495361887,4.558499732815263,4.0840746209682965,3.9246849548204223,4.693154629250542,4.7294979584628845,2.002297793210922,1.4824567914261901,4.3195680704102575,2.5857000041911324,0.8884399241020748,4.322078137006368,3.3159435285307466,4.180736645281131,2.452450653113488,3.21768681240676,4.69118502864575,1.2993973227655624,1.2993973227655624,3.9548821132755454,4.155303849461586,3.9176480221063086,2.719601762324767,4.83480418422748,4.7422171479593045,4.688555667943517,2.3471025471243783,2.8874706870533102,2.6134782823182356,3.348507494685682,3.956774141126981,3.4540532440937826,4.574732126382141,4.0871592801834575,4.158338508602582,4.620045418187553,3.392584317946045,2.4488621306316682,1.1369564371408054,4.26628027364922,0.20127352549436367,2.366172394532419,4.636484160965094,4.299763108395484,2.5512459323338894,4.467620982570664,3.7304419950626335,3.340587535184327,4.345030455134187,2.320834356678521,4.064821944851492,4.572557762118642,0.061566518108386106,4.18609010919212,4.262119224385085],\"type\":\"scatter3d\"},{\"customdata\":[[\"ULURU INC.\",\"Pharmaceutical Preparations\"],[\"CHINA YCT INTERNATIONAL GROUP, INC.\",\"Pharmaceutical Preparations\"],[\"AXOVANT SCIENCES LTD.\",\"Pharmaceutical Preparations\"],[\"MYOVANT SCIENCES LTD.\",\"Pharmaceutical Preparations\"],[\"PRESTIGE BRANDS HOLDINGS, INC.\",\"Pharmaceutical Preparations\"],[\"HYPGEN INC\",\"Pharmaceutical Preparations\"],[\"HYPGEN INC\",\"Pharmaceutical Preparations\"],[\"DANDRIT BIOTECH USA, INC.\",\"Pharmaceutical Preparations\"],[\"REZOLUTE, INC.\",\"Pharmaceutical Preparations\"],[\"OPTEC INTERNATIONAL, INC.\",\"Pharmaceutical Preparations\"],[\"OPTEC INTERNATIONAL, INC.\",\"Pharmaceutical Preparations\"],[\"BIOVIE INC.\",\"Pharmaceutical Preparations\"],[\"ONCOSEC MEDICAL INC\",\"Pharmaceutical Preparations\"],[\"CANNABICS PHARMACEUTICALS INC.\",\"Pharmaceutical Preparations\"],[\"ORAMED PHARMACEUTICALS INC.\",\"Pharmaceutical Preparations\"],[\"ENTEST BIOMEDICAL, INC.\",\"Pharmaceutical Preparations\"],[\"MY CLOUDZ, INC.\",\"Pharmaceutical Preparations\"],[\"MY CLOUDZ, INC.\",\"Pharmaceutical Preparations\"],[\"ENANTA PHARMACEUTICALS INC\",\"Pharmaceutical Preparations\"],[\"CITIUS PHARMACEUTICALS, INC.\",\"Pharmaceutical Preparations\"],[\"STELLAR BIOTECHNOLOGIES, INC.\",\"Pharmaceutical Preparations\"],[\"REGEN BIOPHARMA INC\",\"Pharmaceutical Preparations\"],[\"REGEN BIOPHARMA INC\",\"Pharmaceutical Preparations\"],[\"ADVAXIS, INC.\",\"Pharmaceutical Preparations\"],[\"ORGENESIS INC.\",\"Pharmaceutical Preparations\"],[\"Q BIOMED INC.\",\"Pharmaceutical Preparations\"],[\"JOHNSON & JOHNSON\",\"Pharmaceutical Preparations\"],[\"BRISTOL MYERS SQUIBB CO\",\"Pharmaceutical Preparations\"],[\"VBI VACCINES INC/BC\",\"Pharmaceutical Preparations\"],[\"INTRA-CELLULAR THERAPIES, INC.\",\"Pharmaceutical Preparations\"],[\"ROCKET PHARMACEUTICALS, INC.\",\"Pharmaceutical Preparations\"],[\"ATLAS HOLDINGS, INC.\",\"Pharmaceutical Preparations\"],[\"NEMUS BIOSCIENCE, INC.\",\"Pharmaceutical Preparations\"],[\"NEMUS BIOSCIENCE, INC.\",\"Pharmaceutical Preparations\"],[\"OVASCIENCE, INC.\",\"Pharmaceutical Preparations\"],[\"CONCERT PHARMACEUTICALS, INC.\",\"Pharmaceutical Preparations\"],[\"AKCEA THERAPEUTICS, INC.\",\"Pharmaceutical Preparations\"],[\"ARQULE INC\",\"Pharmaceutical Preparations\"],[\"AXIM BIOTECHNOLOGIES, INC.\",\"Pharmaceutical Preparations\"],[\"GUARDION HEALTH SCIENCES, INC.\",\"Pharmaceutical Preparations\"],[\"RETROPHIN, INC.\",\"Pharmaceutical Preparations\"],[\"SYNDAX PHARMACEUTICALS INC\",\"Pharmaceutical Preparations\"],[\"FIBROGEN INC\",\"Pharmaceutical Preparations\"],[\"PROTOKINETIX, INC.\",\"Pharmaceutical Preparations\"],[\"PROGENICS PHARMACEUTICALS INC\",\"Pharmaceutical Preparations\"],[\"CHECKPOINT THERAPEUTICS, INC.\",\"Pharmaceutical Preparations\"],[\"PFENEX INC.\",\"Pharmaceutical Preparations\"],[\"PAIN THERAPEUTICS INC\",\"Pharmaceutical Preparations\"],[\"ZOMEDICA PHARMACEUTICALS CORP.\",\"Pharmaceutical Preparations\"],[\"ZOMEDICA PHARMACEUTICALS CORP.\",\"Pharmaceutical Preparations\"],[\"MOLECULAR TEMPLATES, INC.\",\"Pharmaceutical Preparations\"],[\"WAVE LIFE SCIENCES LTD.\",\"Pharmaceutical Preparations\"],[\"CYMABAY THERAPEUTICS, INC.\",\"Pharmaceutical Preparations\"],[\"AMICUS THERAPEUTICS INC\",\"Pharmaceutical Preparations\"],[\"EVOKE PHARMA INC\",\"Pharmaceutical Preparations\"],[\"CHEMBIO DIAGNOSTICS, INC.\",\"Pharmaceutical Preparations\"],[\"CARA THERAPEUTICS, INC.\",\"Pharmaceutical Preparations\"],[\"CYTOMX THERAPEUTICS, INC.\",\"Pharmaceutical Preparations\"],[\"XENCOR INC\",\"Pharmaceutical Preparations\"],[\"CATABASIS PHARMACEUTICALS INC\",\"Pharmaceutical Preparations\"],[\"SERES THERAPEUTICS, INC.\",\"Pharmaceutical Preparations\"],[\"EYEGATE PHARMACEUTICALS INC\",\"Pharmaceutical Preparations\"],[\"ARENA PHARMACEUTICALS INC\",\"Pharmaceutical Preparations\"],[\"ALEXION PHARMACEUTICALS INC\",\"Pharmaceutical Preparations\"],[\"MELINTA THERAPEUTICS, INC. /NEW/\",\"Pharmaceutical Preparations\"],[\"FIVE PRIME THERAPEUTICS INC\",\"Pharmaceutical Preparations\"],[\"LIXTE BIOTECHNOLOGY HOLDINGS, INC.\",\"Pharmaceutical Preparations\"],[\"ARATANA THERAPEUTICS, INC.\",\"Pharmaceutical Preparations\"],[\"CHIASMA, INC\",\"Pharmaceutical Preparations\"],[\"CELGENE CORP /DE/\",\"Pharmaceutical Preparations\"],[\"NEWLINK GENETICS CORP\",\"Pharmaceutical Preparations\"],[\"LIGAND PHARMACEUTICALS INC\",\"Pharmaceutical Preparations\"],[\"PORTOLA PHARMACEUTICALS INC\",\"Pharmaceutical Preparations\"],[\"PLX PHARMA INC.\",\"Pharmaceutical Preparations\"],[\"ARDELYX, INC.\",\"Pharmaceutical Preparations\"],[\"PROTAGONIST THERAPEUTICS, INC\",\"Pharmaceutical Preparations\"],[\"MOLECULIN BIOTECH, INC.\",\"Pharmaceutical Preparations\"],[\"IRONWOOD PHARMACEUTICALS INC\",\"Pharmaceutical Preparations\"],[\"FORTRESS BIOTECH, INC.\",\"Pharmaceutical Preparations\"],[\"SYNTHETIC BIOLOGICS, INC.\",\"Pharmaceutical Preparations\"],[\"OPTINOSE, INC.\",\"Pharmaceutical Preparations\"],[\"CORMEDIX INC.\",\"Pharmaceutical Preparations\"],[\"HEAT BIOLOGICS, INC.\",\"Pharmaceutical Preparations\"],[\"SUN BIOPHARMA, INC.\",\"Pharmaceutical Preparations\"],[\"BELLEROPHON THERAPEUTICS, INC.\",\"Pharmaceutical Preparations\"],[\"BIOSPECIFICS TECHNOLOGIES CORP\",\"Pharmaceutical Preparations\"],[\"ZOSANO PHARMA CORP\",\"Pharmaceutical Preparations\"],[\"CV SCIENCES, INC.\",\"Pharmaceutical Preparations\"],[\"LILLY ELI & CO\",\"Pharmaceutical Preparations\"],[\"SAREPTA THERAPEUTICS, INC.\",\"Pharmaceutical Preparations\"],[\"EXICURE, INC.\",\"Pharmaceutical Preparations\"],[\"OVID THERAPEUTICS INC.\",\"Pharmaceutical Preparations\"],[\"IMPRIMIS PHARMACEUTICALS, INC.\",\"Pharmaceutical Preparations\"],[\"IONIS PHARMACEUTICALS INC\",\"Pharmaceutical Preparations\"],[\"ONCOMED PHARMACEUTICALS INC\",\"Pharmaceutical Preparations\"],[\"TONIX PHARMACEUTICALS HOLDING CORP.\",\"Pharmaceutical Preparations\"],[\"TEVA PHARMACEUTICAL INDUSTRIES LTD\",\"Pharmaceutical Preparations\"],[\"RHYTHM PHARMACEUTICALS, INC.\",\"Pharmaceutical Preparations\"],[\"COCRYSTAL PHARMA, INC.\",\"Pharmaceutical Preparations\"],[\"REGENERON PHARMACEUTICALS INC\",\"Pharmaceutical Preparations\"],[\"ANI PHARMACEUTICALS INC\",\"Pharmaceutical Preparations\"],[\"CLEARSIDE BIOMEDICAL, INC.\",\"Pharmaceutical Preparations\"],[\"LIPOCINE INC.\",\"Pharmaceutical Preparations\"],[\"GALECTIN THERAPEUTICS INC\",\"Pharmaceutical Preparations\"],[\"STEMLINE THERAPEUTICS INC\",\"Pharmaceutical Preparations\"],[\"DOVA PHARMACEUTICALS, INC.\",\"Pharmaceutical Preparations\"],[\"ABBVIE INC.\",\"Pharmaceutical Preparations\"],[\"AKORN INC\",\"Pharmaceutical Preparations\"],[\"VALEANT PHARMACEUTICALS INTERNATIONAL, INC.\",\"Pharmaceutical Preparations\"],[\"INTELGENX TECHNOLOGIES CORP.\",\"Pharmaceutical Preparations\"],[\"PFIZER INC\",\"Pharmaceutical Preparations\"],[\"SKINVISIBLE INC\",\"Pharmaceutical Preparations\"],[\"TAPIMMUNE INC.\",\"Pharmaceutical Preparations\"],[\"THERAPEUTICSMD, INC.\",\"Pharmaceutical Preparations\"],[\"AQUINOX PHARMACEUTICALS, INC\",\"Pharmaceutical Preparations\"],[\"GLOBAL BLOOD THERAPEUTICS, INC.\",\"Pharmaceutical Preparations\"],[\"RIGEL PHARMACEUTICALS INC\",\"Pharmaceutical Preparations\"],[\"PARATEK PHARMACEUTICALS, INC.\",\"Pharmaceutical Preparations\"],[\"PERRIGO CO PLC\",\"Pharmaceutical Preparations\"],[\"ZAFGEN, INC.\",\"Pharmaceutical Preparations\"],[\"OPHTHOTECH CORP.\",\"Pharmaceutical Preparations\"],[\"ACHILLION PHARMACEUTICALS INC\",\"Pharmaceutical Preparations\"],[\"KEMPHARM, INC\",\"Pharmaceutical Preparations\"],[\"INTERCEPT PHARMACEUTICALS INC\",\"Pharmaceutical Preparations\"],[\"ULTRAGENYX PHARMACEUTICAL INC.\",\"Pharmaceutical Preparations\"],[\"EMERGENT BIOSOLUTIONS INC.\",\"Pharmaceutical Preparations\"],[\"ACER THERAPEUTICS INC.\",\"Pharmaceutical Preparations\"],[\"HERON THERAPEUTICS, INC. /DE/\",\"Pharmaceutical Preparations\"],[\"ADAMIS PHARMACEUTICALS CORP\",\"Pharmaceutical Preparations\"],[\"GT BIOPHARMA, INC.\",\"Pharmaceutical Preparations\"],[\"GT BIOPHARMA, INC.\",\"Pharmaceutical Preparations\"],[\"GT BIOPHARMA, INC.\",\"Pharmaceutical Preparations\"],[\"GT BIOPHARMA, INC.\",\"Pharmaceutical Preparations\"],[\"GT BIOPHARMA, INC.\",\"Pharmaceutical Preparations\"],[\"GT BIOPHARMA, INC.\",\"Pharmaceutical Preparations\"],[\"IMMUNOGEN INC\",\"Pharmaceutical Preparations\"],[\"PTC THERAPEUTICS, INC.\",\"Pharmaceutical Preparations\"],[\"MANNKIND CORP\",\"Pharmaceutical Preparations\"],[\"CARDAX, INC.\",\"Pharmaceutical Preparations\"],[\"SYROS PHARMACEUTICALS, INC.\",\"Pharmaceutical Preparations\"],[\"ADURO BIOTECH, INC.\",\"Pharmaceutical Preparations\"],[\"SIENNA BIOPHARMACEUTICALS, INC.\",\"Pharmaceutical Preparations\"],[\"ACHAOGEN INC\",\"Pharmaceutical Preparations\"],[\"UNITED CANNABIS CORP\",\"Pharmaceutical Preparations\"],[\"UNITED CANNABIS CORP\",\"Pharmaceutical Preparations\"],[\"RXI PHARMACEUTICALS CORP\",\"Pharmaceutical Preparations\"],[\"RXI PHARMACEUTICALS CORP\",\"Pharmaceutical Preparations\"],[\"RXI PHARMACEUTICALS CORP\",\"Pharmaceutical Preparations\"],[\"RXI PHARMACEUTICALS CORP\",\"Pharmaceutical Preparations\"],[\"SOLIGENIX, INC.\",\"Pharmaceutical Preparations\"],[\"XOMA CORP\",\"Pharmaceutical Preparations\"],[\"SIERRA ONCOLOGY, INC.\",\"Pharmaceutical Preparations\"],[\"ACTINIUM PHARMACEUTICALS, INC.\",\"Pharmaceutical Preparations\"],[\"ORAGENICS INC\",\"Pharmaceutical Preparations\"],[\"ATHERSYS, INC / NEW\",\"Pharmaceutical Preparations\"],[\"PULMATRIX, INC.\",\"Pharmaceutical Preparations\"],[\"ACADIA PHARMACEUTICALS INC\",\"Pharmaceutical Preparations\"],[\"TREVENA INC\",\"Pharmaceutical Preparations\"],[\"NATURES SUNSHINE PRODUCTS INC\",\"Pharmaceutical Preparations\"],[\"FLEXION THERAPEUTICS INC\",\"Pharmaceutical Preparations\"],[\"VERASTEM, INC.\",\"Pharmaceutical Preparations\"],[\"XENON PHARMACEUTICALS INC.\",\"Pharmaceutical Preparations\"],[\"SUNESIS PHARMACEUTICALS INC\",\"Pharmaceutical Preparations\"],[\"CORVUS PHARMACEUTICALS, INC.\",\"Pharmaceutical Preparations\"],[\"MERCK & CO., INC.\",\"Pharmaceutical Preparations\"],[\"STRONGBRIDGE BIOPHARMA PLC\",\"Pharmaceutical Preparations\"],[\"CATALYST PHARMACEUTICALS, INC.\",\"Pharmaceutical Preparations\"],[\"ASSEMBLY BIOSCIENCES, INC.\",\"Pharmaceutical Preparations\"],[\"APRICUS BIOSCIENCES, INC.\",\"Pharmaceutical Preparations\"],[\"CATALYST BIOSCIENCES, INC.\",\"Pharmaceutical Preparations\"],[\"MIRATI THERAPEUTICS, INC.\",\"Pharmaceutical Preparations\"],[\"MUSTANG BIO, INC.\",\"Pharmaceutical Preparations\"],[\"ACELRX PHARMACEUTICALS INC\",\"Pharmaceutical Preparations\"],[\"BLUEPRINT MEDICINES CORP\",\"Pharmaceutical Preparations\"],[\"ATHENEX, INC.\",\"Pharmaceutical Preparations\"],[\"ATHENEX, INC.\",\"Pharmaceutical Preparations\"],[\"RECRO PHARMA, INC.\",\"Pharmaceutical Preparations\"],[\"BIOHAVEN PHARMACEUTICAL HOLDING CO LTD.\",\"Pharmaceutical Preparations\"],[\"PROTHENA CORP PLC\",\"Pharmaceutical Preparations\"],[\"AVENUE THERAPEUTICS, INC.\",\"Pharmaceutical Preparations\"],[\"VTV THERAPEUTICS INC.\",\"Pharmaceutical Preparations\"],[\"ZYNERBA PHARMACEUTICALS, INC.\",\"Pharmaceutical Preparations\"],[\"BIOMARIN PHARMACEUTICAL INC\",\"Pharmaceutical Preparations\"],[\"KARYOPHARM THERAPEUTICS INC.\",\"Pharmaceutical Preparations\"],[\"LEXICON PHARMACEUTICALS, INC.\",\"Pharmaceutical Preparations\"],[\"ENDO INTERNATIONAL PLC\",\"Pharmaceutical Preparations\"],[\"PROPHASE LABS, INC.\",\"Pharmaceutical Preparations\"],[\"CELLECTAR BIOSCIENCES, INC.\",\"Pharmaceutical Preparations\"],[\"RITTER PHARMACEUTICALS INC\",\"Pharmaceutical Preparations\"],[\"MARINUS PHARMACEUTICALS INC\",\"Pharmaceutical Preparations\"],[\"CORCEPT THERAPEUTICS INC\",\"Pharmaceutical Preparations\"],[\"ALNYLAM PHARMACEUTICALS, INC.\",\"Pharmaceutical Preparations\"],[\"DARE BIOSCIENCE, INC.\",\"Pharmaceutical Preparations\"],[\"TELIGENT, INC.\",\"Pharmaceutical Preparations\"],[\"TELIGENT, INC.\",\"Pharmaceutical Preparations\"],[\"ACLARIS THERAPEUTICS, INC.\",\"Pharmaceutical Preparations\"],[\"VITAL THERAPIES INC\",\"Pharmaceutical Preparations\"],[\"DECIPHERA PHARMACEUTICALS, INC.\",\"Pharmaceutical Preparations\"],[\"CAPSTONE THERAPEUTICS CORP.\",\"Pharmaceutical Preparations\"],[\"PACIRA PHARMACEUTICALS, INC.\",\"Pharmaceutical Preparations\"],[\"UROGEN PHARMA LTD.\",\"Pharmaceutical Preparations\"],[\"FIBROCELL SCIENCE, INC.\",\"Pharmaceutical Preparations\"],[\"FLEX PHARMA, INC.\",\"Pharmaceutical Preparations\"],[\"BIODELIVERY SCIENCES INTERNATIONAL INC\",\"Pharmaceutical Preparations\"],[\"HORIZON PHARMA PLC\",\"Pharmaceutical Preparations\"],[\"MERRIMACK PHARMACEUTICALS INC\",\"Pharmaceutical Preparations\"],[\"CYCLACEL PHARMACEUTICALS, INC.\",\"Pharmaceutical Preparations\"],[\"ZOETIS INC.\",\"Pharmaceutical Preparations\"]],\"hovertemplate\":\"color=Pharmaceutical Preparations<br>0=%{x}<br>1=%{y}<br>2=%{z}<br>name=%{customdata[0]}<br>industry=%{customdata[1]}<extra></extra>\",\"legendgroup\":\"Pharmaceutical Preparations\",\"marker\":{\"color\":\"#00cc96\",\"symbol\":\"circle\"},\"mode\":\"markers\",\"name\":\"Pharmaceutical Preparations\",\"scene\":\"scene\",\"showlegend\":true,\"x\":[1.7908186901404886,1.04842856077752,5.244782795286597,4.093085366795744,0.6159656824688952,1.275151634782319,1.275151634782319,4.891433821577179,3.2055263965478815,0.40851714222209,0.40851714222209,4.323478747304614,5.043622732762966,1.7555321404693722,4.760336823727878,-0.563782066404926,-0.32356865085987807,-0.32356865085987807,5.836282667357333,1.4157949715407052,2.77090287568168,0.04519229116169658,0.04519229116169658,4.3487114533434275,3.8315916579780236,4.501999502272968,0.43354755060984906,1.2821134573890172,4.033518371485869,4.8696885048586696,1.0485964070163694,1.573698055404979,4.937634862090006,4.937634862090006,5.357694893113865,3.876074805491826,2.0225308621672995,2.5218752185612723,3.1517580456730165,0.08731936352727998,5.196216047416212,5.684504289099977,4.3275433156075085,2.695879662355113,0.5714775806333628,4.380801192255778,4.432520250630029,3.280801771834039,3.3842698954782233,3.3842698954782233,5.235833192455948,5.484822122184713,2.249956151675806,3.401765985649941,4.659195092941705,3.295789011590081,2.7301532164097715,5.146815552252807,0.2337793359923079,2.0303731239458362,4.00369626368319,4.466554694126046,4.070954244278144,3.084125542173873,3.5158295529856125,-0.45028080289901073,4.92330294147821,2.053782246094331,5.1182842223762295,4.433588069676677,5.152755600465686,4.603511354649548,4.760978496047265,5.232347388904833,4.499525675932828,5.536660389707816,4.431878081456533,3.691168808287395,0.8048082439409726,4.4211253541617515,4.977357982620846,4.961728821603568,4.124819692638039,4.369129188020187,3.988699085185551,3.1013137562587283,2.8165696557526188,2.468852717217848,2.103062908728146,5.270155101643839,4.241110714714461,3.082992232162955,1.4961862122283232,2.136255727314262,5.1927974188702075,3.0467719740284775,3.0372215572213612,5.043130921263229,2.596808340313988,4.133410291969357,1.2874258341023603,5.36987010772094,3.612349212649637,4.507412481121615,5.114429848731493,3.483676172625316,3.044659781477708,0.59342419944203,1.512379857621682,3.7106282615619084,0.6685286397998156,1.176604134050558,5.364905067978196,3.9438097867324213,5.230664494938538,4.022735370508782,5.006201341102254,2.8843400988896644,0.5016827285717921,-0.2921193051851502,5.432531185745795,5.0662425252156575,5.519676611570656,3.731616881801753,2.8307123200465987,4.3742132017237925,4.185797153725103,2.3846612469499213,4.698829961724789,3.929995446182421,3.9299954461824216,3.9299954461824216,3.9299954461824216,3.9299954461824216,3.9299954461824216,5.220508495395286,3.5329920089228803,4.804777031654602,3.8290426872131356,5.718111059841494,5.484576215117552,5.28792186495018,5.017614406383108,1.3422668029066191,1.3422668029066191,4.328491839465719,4.328491839465719,4.328491839465719,4.328491839465719,3.935659146249988,1.7789699205631733,4.47799013851258,5.675075956999482,5.526225341284716,5.265173055881332,5.099805256950018,4.380195512981237,3.107164985073095,0.6321043381349833,4.12943572347705,3.9685756348106636,4.598673368404435,5.39853448719332,5.210490051691663,3.1178335466905036,5.731312151851505,5.333178845419804,2.543536920715446,5.292640411328031,5.493337561092028,5.565435137692008,5.1254643991199496,1.9505314693748876,4.64067364154383,5.00369553478837,5.00369553478837,5.078807717869145,5.088996256435547,3.3035941323895472,5.4025617583794014,3.842831648082093,4.779693900814406,2.78117014340205,4.4997960064100475,3.9568738941449646,2.6129449147371226,1.6401823901770805,2.8880900503167526,5.415653055360639,2.0434014211687788,4.450808608300703,4.8493675757289285,4.760594454321871,1.4868810793901897,1.4868810793901897,3.236783847272738,4.262078829446069,4.54848769539543,4.27648681933653,0.0015653756258796315,5.865782876374084,5.471118305551603,3.7400885311572662,4.759239256014748,3.42715708983864,5.443639880104999,5.004415982142539,-0.45913404829204296],\"y\":[-0.16877905704419663,-0.4941908293043176,1.8927739306775546,1.2418693972523582,-0.9170205402466686,-0.44870210035769703,-0.44870210035769703,1.618312836933831,0.812905580944659,-0.721613614332778,-0.721613614332778,1.4229301204759384,1.7922877137891111,-0.3187863635094989,1.399777399747248,-1.2616287301342175,-1.1311475117565353,-1.1311475117565353,1.9811150720158952,-0.10602138964078726,0.3071537151325042,-1.1544379988595694,-1.1544379988595694,1.3986763940140141,0.8482685543823262,1.2731686644943787,-0.2741432646298527,-0.3957522988255489,1.0265386570254735,1.617729821054734,-0.2840877738726928,-0.22554020150284948,1.6092604381054136,1.6092604381054136,1.8859599137274952,1.1518456115835392,0.1868574452764291,0.5300149770425601,0.5500986595853256,-0.9329833462060979,1.69969967046705,2.0505356180448655,1.4555991160580806,0.20506462004852533,-0.7335177987841605,1.198370841061009,1.3703683691293551,0.8696341259230432,0.7894842143857514,0.7894842143857514,1.7202548083466715,1.8711761961834492,0.2603563640459142,0.8213878048558132,1.3150134124913684,0.5992340188990063,0.08182527084984255,1.7752226889976368,-0.7160646566791057,0.17422280605929102,1.1616841652565584,1.460386289292688,1.0698879840091635,0.780767638252043,0.68412657230271,-0.7399911986714607,1.67188720810576,-0.01698706250987195,1.7440031921255674,1.359247588576206,1.6672585455006945,1.548929263798201,1.4083924503347702,1.868758602592727,1.4381505020187637,1.9731162973195722,1.2155127817415368,0.9239946100221222,-1.0175369571972643,1.5090689242275237,1.756951272307476,1.57837025161332,1.32719871283413,1.149872702610765,1.3077549830574726,0.7305360891826943,0.4679338016548879,0.15097713333730461,0.1536271385228643,1.8821079891272254,1.3899701431616855,0.7971487866558765,-0.25641162866632095,0.2887787271284215,1.6945071153118445,0.6485397603862744,0.5085811276043251,1.7448871739871252,0.22502439358601922,1.0980675760839633,-0.5069533070988015,1.885036073325696,0.8811992575724084,1.5015814775210712,1.7152557274306164,0.6804214019860263,0.45164717524963977,-1.0173939224379447,-0.05717301009548457,0.8434281009418888,-0.6840383443319434,-0.35306102334529277,1.7805930955835265,0.9800424594335636,1.821657986445941,1.2721170456762023,1.5789379896060831,0.5092856405909867,-0.907897272680719,-1.5101057732052379,1.9062812273974934,1.815030458945622,1.8937656677116332,0.7627785499237993,0.6651322315468501,1.2522482704355007,0.942876705341837,0.42394432733813237,1.6077752531049059,1.1910310625319247,1.191031062531925,1.191031062531925,1.191031062531925,1.191031062531925,1.191031062531925,1.8512666125756791,0.9479794049455567,1.5432254401419332,0.9539228608019147,2.086873878385975,1.92543154823627,1.9296528210006343,1.5840080237962806,-0.5050998590680601,-0.5050998590680601,1.007418530067156,1.007418530067156,1.007418530067156,1.007418530067156,1.2029856282706628,-0.3972576796599638,1.4881869164223462,1.914326813831083,1.8982247831910075,1.6229918900325064,1.6354812274179469,1.3138284550947665,0.6962445037714328,-0.8634465205339803,1.1920749422606858,1.035805251952467,1.6103809467100947,1.9212916886096263,1.872735402753749,0.583968778456739,2.0137449513319887,1.7823866027006796,0.3989831949429787,1.8176987500029977,1.9212523261212529,2.023731952955003,1.6389213602187789,-0.0032556644278481667,1.5668940322023417,1.7595444102620243,1.7595444102620243,1.688658172537027,1.7910192466423978,0.8438533249679139,1.8110580696257996,1.2032410895325205,1.648834672482498,0.5634027737354144,1.3971632371545684,1.0068980537153012,0.20772975772610422,-0.4082924425094366,0.6338313457646446,1.763844975130097,0.27061855532007595,1.3043057652453067,1.615150919197959,1.5602077812161186,-0.34442976207575465,-0.34442976207575465,0.5544177826318709,1.2250068418113227,1.459938880557116,1.218692984678817,-0.6791668646431217,2.1492322365655663,2.0242992585639867,0.8711906860724414,1.3064039233397724,0.5306494358133759,1.9921710151410725,1.6372117977657463,-1.4320473259074515],\"z\":[-0.6262199455778793,0.289811607214496,-0.1769712574406721,0.140270552478407,-0.541089819114148,-0.5610632916244107,-0.5610632916244107,-0.7660227219463154,0.253664526368012,0.5219465896195087,0.5219465896195087,-0.177359388102495,-1.0435446227796137,0.22132388690150745,-0.5407903873967677,0.6386125370869021,0.0030218806052669895,0.0030218806052669895,-1.5704366652236057,1.6179482511689154,-0.9916761757549509,0.6416877056571836,0.6416877056571836,0.1081730263334654,-1.2115347892744823,-0.803292797884609,0.8121750547504747,1.56077876350166,-1.0566294203551732,-0.41284963433195987,1.6346696184836182,0.6648195709728983,-1.1011589184800812,-1.1011589184800812,-1.1688104178589989,0.41445168012268024,1.246636624862636,1.303025181703956,0.00214089785509015,0.34460909216196134,-1.3822209612622656,-1.1669970873773878,0.2961713971818639,-1.0875463336155287,0.6755595671119957,-0.8570948380337913,-0.8664125408704172,0.7760622248640316,0.31217936707472743,0.31217936707472743,-1.11287344850418,-1.2321875905566404,1.0470383692942642,0.040793204163920085,-0.775921011507969,-0.6047943286276874,-0.4074370573022319,-0.8428639045260903,1.7992280176010578,1.2786974950494265,0.15386454086847756,0.1342427083467873,-1.0248004333030607,-0.2761989258642531,-0.7956286384291701,1.6789375494869165,-0.46454256271538086,-0.627827490567995,-0.5018466857135148,-1.4144731049972052,-1.3731316658466879,0.12121455577830545,-1.5621485102078119,-0.900215873181989,0.08383866460905492,-1.377958054977495,-0.8380047567240141,-0.9076610389497706,-0.049338638454315895,0.279692852465465,-0.21829293241797923,-1.2632482740666013,0.40852348873051747,-0.6022842721951865,0.5551511524974164,0.8473006101312675,0.46961081210021427,0.22522852574836366,-0.2821104260851777,-0.7066353121017273,0.3153083511734501,0.6230942060176263,0.5214706885573109,0.8054361507589679,-1.4509100017283736,-0.025649870495691646,-0.3804148476935293,-0.30280924854101116,-0.18258879504478845,-0.8846963895164578,0.019839921175595757,-1.166728861726511,0.09935257751525418,0.11537599161824823,-1.0128002725190435,-0.12460542168768295,-0.5905294904721228,-0.07532466340744388,0.047703439845263235,-0.2853802389515859,1.1440342948987956,0.8774983469503717,-1.2578690648898225,-1.3927338722726919,-1.0415855524457225,0.42533491426514525,-1.4192768346241749,0.4875226867547522,0.9643642731407067,-0.12686322162039373,-0.8084149956929182,-0.8236694005680886,-1.1945404803314073,-1.0312308749784656,0.901424681896767,-1.2457595287828607,-1.6698929750736067,1.3390941717935887,-0.9681261605496281,0.41949314111517155,0.4194931411151712,0.4194931411151712,0.4194931411151712,0.4194931411151712,0.4194931411151712,-0.567269702660236,0.34628292124624604,-1.4285167341473255,-0.9509287790441636,-1.1044650645745704,-1.0612145017407404,-0.3282602925176314,-1.5102822003342191,-0.6143026664039184,-0.6143026664039184,-1.596012324467981,-1.596012324467981,-1.596012324467981,-1.596012324467981,0.025601993863417383,-0.2601224512770887,0.12698591920544613,-0.917672450870903,-1.1967185045996818,-1.2627463920444102,-1.1192597018153807,-0.8648706543391123,0.63865915958658,-0.3887827848771016,-0.08755084932320399,-0.11793963890952165,0.1977330400268092,-1.1338071866628925,-0.2619437325853211,-0.5754451078896862,-1.3114668375429541,-1.1388938902932848,0.7711384916283164,-1.2276437105786866,-1.0654060140164232,-1.0136755668045512,-0.991915598417394,0.4787647795031392,-0.03531511191895892,-0.07880759009743203,-0.07880759009743203,-0.4617625348589152,-0.2478523844762145,0.7248150918006628,-1.37806526417462,0.5008528742381347,-0.09946719500426504,0.8427123127644105,-0.22444366632104137,-0.8307533010668348,-0.3655112736540195,-0.5779094298285448,0.5954672994479203,-1.276375339935936,1.4945525442885326,-1.021708444933298,-0.9117407347888495,-0.8498383083090939,-0.15606731239384802,-0.15606731239384802,0.06738389823157233,-0.7399595989170833,-0.7436926122044482,-0.8118983484641344,0.36702420979823835,-1.2701452572383054,-0.8289549323264599,-1.537760345716901,-1.3525694574831102,-0.9301734090133018,-1.0760531456891134,-0.7093764240251518,0.2761233447232199],\"type\":\"scatter3d\"},{\"customdata\":[[\"INVESTORS REAL ESTATE TRUST\",\"Real Estate Investment Trusts\"],[\"BRT APARTMENTS CORP.\",\"Real Estate Investment Trusts\"],[\"MONMOUTH REAL ESTATE INVESTMENT CORP\",\"Real Estate Investment Trusts\"],[\"FIRST REAL ESTATE INVESTMENT TRUST OF NEW JERSEY\",\"Real Estate Investment Trusts\"],[\"FIRST REAL ESTATE INVESTMENT TRUST OF NEW JERSEY\",\"Real Estate Investment Trusts\"],[\"URSTADT BIDDLE PROPERTIES INC\",\"Real Estate Investment Trusts\"],[\"URSTADT BIDDLE PROPERTIES INC\",\"Real Estate Investment Trusts\"],[\"PHILLIPS EDISON & COMPANY, INC.\",\"Real Estate Investment Trusts\"],[\"SL GREEN REALTY CORP\",\"Real Estate Investment Trusts\"],[\"CUBESMART\",\"Real Estate Investment Trusts\"],[\"CIM COMMERCIAL TRUST CORP\",\"Real Estate Investment Trusts\"],[\"CERES TACTICAL SYSTEMATIC L.P.\",\"Real Estate Investment Trusts\"],[\"PS BUSINESS PARKS INC/CA\",\"Real Estate Investment Trusts\"],[\"STEADFAST INCOME REIT, INC.\",\"Real Estate Investment Trusts\"],[\"RETAIL OPPORTUNITY INVESTMENTS CORP\",\"Real Estate Investment Trusts\"],[\"MORGAN STANLEY SMITH BARNEY SPECTRUM SELECT LP\",\"Real Estate Investment Trusts\"],[\"NEW YORK MORTGAGE TRUST INC\",\"Real Estate Investment Trusts\"],[\"CBL & ASSOCIATES PROPERTIES INC\",\"Real Estate Investment Trusts\"],[\"LEXINGTON REALTY TRUST\",\"Real Estate Investment Trusts\"],[\"BRANDYWINE REALTY TRUST\",\"Real Estate Investment Trusts\"],[\"LAMAR ADVERTISING CO/NEW\",\"Real Estate Investment Trusts\"],[\"JBG SMITH PROPERTIES\",\"Real Estate Investment Trusts\"],[\"KBS REAL ESTATE INVESTMENT TRUST III, INC.\",\"Real Estate Investment Trusts\"],[\"CAPSTEAD MORTGAGE CORP\",\"Real Estate Investment Trusts\"],[\"GGP INC.\",\"Real Estate Investment Trusts\"],[\"QTS REALTY TRUST, INC.\",\"Real Estate Investment Trusts\"],[\"WELLS FARGO REAL ESTATE INVESTMENT CORP.\",\"Real Estate Investment Trusts\"],[\"LIGHTSTONE VALUE PLUS REAL ESTATE INVESTMENT TRUST V, INC.\",\"Real Estate Investment Trusts\"],[\"RESOURCE APARTMENT REIT III, INC.\",\"Real Estate Investment Trusts\"],[\"CNL HEALTHCARE PROPERTIES, INC.\",\"Real Estate Investment Trusts\"],[\"RETAIL PROPERTIES OF AMERICA, INC.\",\"Real Estate Investment Trusts\"],[\"BOSTON PROPERTIES INC\",\"Real Estate Investment Trusts\"],[\"REGENCY CENTERS CORP\",\"Real Estate Investment Trusts\"],[\"NATIONAL HEALTH INVESTORS INC\",\"Real Estate Investment Trusts\"],[\"DRIVE SHACK INC.\",\"Real Estate Investment Trusts\"],[\"COLE CREDIT PROPERTY TRUST V, INC.\",\"Real Estate Investment Trusts\"],[\"EQUITY RESIDENTIAL\",\"Real Estate Investment Trusts\"],[\"KITE REALTY GROUP TRUST\",\"Real Estate Investment Trusts\"],[\"OUTFRONT MEDIA INC.\",\"Real Estate Investment Trusts\"],[\"PENNSYLVANIA REAL ESTATE INVESTMENT TRUST\",\"Real Estate Investment Trusts\"],[\"COLE REAL ESTATE INCOME STRATEGY (DAILY NAV), INC.\",\"Real Estate Investment Trusts\"],[\"REALTY INCOME CORP\",\"Real Estate Investment Trusts\"],[\"GLOBAL MEDICAL REIT INC.\",\"Real Estate Investment Trusts\"],[\"PILLARSTONE CAPITAL REIT\",\"Real Estate Investment Trusts\"],[\"CLIPPER REALTY INC.\",\"Real Estate Investment Trusts\"],[\"BLACK CREEK INDUSTRIAL REIT IV INC.\",\"Real Estate Investment Trusts\"],[\"LIGHTSTONE VALUE PLUS REAL ESTATE INVESTMENT TRUST, INC.\",\"Real Estate Investment Trusts\"],[\"KKR REAL ESTATE FINANCE TRUST INC.\",\"Real Estate Investment Trusts\"],[\"GEO GROUP INC\",\"Real Estate Investment Trusts\"],[\"AMERICAN ASSETS TRUST, INC.\",\"Real Estate Investment Trusts\"],[\"IMPAC MORTGAGE HOLDINGS INC\",\"Real Estate Investment Trusts\"],[\"CNL HEALTHCARE PROPERTIES II, INC.\",\"Real Estate Investment Trusts\"],[\"ANWORTH MORTGAGE ASSET CORP\",\"Real Estate Investment Trusts\"],[\"LIGHTSTONE VALUE PLUS REAL ESTATE INVESTMENT TRUST III, INC.\",\"Real Estate Investment Trusts\"],[\"AMERICAN FINANCE TRUST, INC\",\"Real Estate Investment Trusts\"],[\"EQUITY COMMONWEALTH\",\"Real Estate Investment Trusts\"],[\"FOUR CORNERS PROPERTY TRUST, INC.\",\"Real Estate Investment Trusts\"],[\"RAYONIER INC\",\"Real Estate Investment Trusts\"],[\"HOST HOTELS & RESORTS, INC.\",\"Real Estate Investment Trusts\"],[\"GAMING & LEISURE PROPERTIES, INC.\",\"Real Estate Investment Trusts\"],[\"NATIONAL RETAIL PROPERTIES, INC.\",\"Real Estate Investment Trusts\"],[\"SENIOR HOUSING PROPERTIES TRUST\",\"Real Estate Investment Trusts\"],[\"SUTHERLAND ASSET MANAGEMENT CORP\",\"Real Estate Investment Trusts\"],[\"TAUBMAN CENTERS INC\",\"Real Estate Investment Trusts\"],[\"RESOURCE REAL ESTATE OPPORTUNITY REIT, INC.\",\"Real Estate Investment Trusts\"],[\"TANGER FACTORY OUTLET CENTERS INC\",\"Real Estate Investment Trusts\"],[\"MFA FINANCIAL, INC.\",\"Real Estate Investment Trusts\"],[\"TERRA SECURED INCOME FUND 5, LLC\",\"Real Estate Investment Trusts\"],[\"SBA COMMUNICATIONS CORP\",\"Real Estate Investment Trusts\"],[\"LIGHTSTONE VALUE PLUS REAL ESTATE INVESTMENT TRUST II INC\",\"Real Estate Investment Trusts\"],[\"JONES LANG LASALLE INCOME PROPERTY TRUST, INC.\",\"Real Estate Investment Trusts\"],[\"AVALONBAY COMMUNITIES INC\",\"Real Estate Investment Trusts\"],[\"ARES COMMERCIAL REAL ESTATE CORP\",\"Real Estate Investment Trusts\"],[\"CARTER VALIDUS MISSION CRITICAL REIT II, INC.\",\"Real Estate Investment Trusts\"],[\"PHYSICIANS REALTY TRUST\",\"Real Estate Investment Trusts\"],[\"PROLOGIS, INC.\",\"Real Estate Investment Trusts\"],[\"ARMOUR RESIDENTIAL REIT, INC.\",\"Real Estate Investment Trusts\"],[\"CHERRY HILL MORTGAGE INVESTMENT CORP\",\"Real Estate Investment Trusts\"],[\"EMPIRE STATE REALTY TRUST, INC.\",\"Real Estate Investment Trusts\"],[\"PUBLIC STORAGE\",\"Real Estate Investment Trusts\"],[\"APARTMENT INVESTMENT & MANAGEMENT CO\",\"Real Estate Investment Trusts\"],[\"CEDAR REALTY TRUST, INC.\",\"Real Estate Investment Trusts\"],[\"HIGHLANDS REIT, INC.\",\"Real Estate Investment Trusts\"],[\"IRON MOUNTAIN INC\",\"Real Estate Investment Trusts\"],[\"SOTHERLY HOTELS INC.\",\"Real Estate Investment Trusts\"],[\"EMPIRE STATE REALTY OP, L.P.\",\"Real Estate Investment Trusts\"],[\"ESSEX PROPERTY TRUST INC\",\"Real Estate Investment Trusts\"],[\"WEINGARTEN REALTY INVESTORS /TX/\",\"Real Estate Investment Trusts\"],[\"CONDOR HOSPITALITY TRUST, INC.\",\"Real Estate Investment Trusts\"],[\"CITY OFFICE REIT, INC.\",\"Real Estate Investment Trusts\"],[\"BENEFIT STREET PARTNERS REALTY TRUST, INC.\",\"Real Estate Investment Trusts\"],[\"LIGHTSTONE REAL ESTATE INCOME TRUST INC.\",\"Real Estate Investment Trusts\"],[\"AMERICAN CAMPUS COMMUNITIES INC\",\"Real Estate Investment Trusts\"],[\"STARWOOD PROPERTY TRUST, INC.\",\"Real Estate Investment Trusts\"],[\"CORESITE REALTY CORP\",\"Real Estate Investment Trusts\"],[\"POTLATCH CORP\",\"Real Estate Investment Trusts\"],[\"CORPORATE OFFICE PROPERTIES TRUST\",\"Real Estate Investment Trusts\"],[\"RAMCO GERSHENSON PROPERTIES TRUST\",\"Real Estate Investment Trusts\"],[\"NATIONAL STORAGE AFFILIATES TRUST\",\"Real Estate Investment Trusts\"],[\"HERSHA HOSPITALITY TRUST\",\"Real Estate Investment Trusts\"],[\"JERNIGAN CAPITAL, INC.\",\"Real Estate Investment Trusts\"],[\"VORNADO REALTY TRUST\",\"Real Estate Investment Trusts\"],[\"ISTAR INC.\",\"Real Estate Investment Trusts\"],[\"ALEXANDER & BALDWIN, INC.\",\"Real Estate Investment Trusts\"],[\"HOSPITALITY INVESTORS TRUST, INC.\",\"Real Estate Investment Trusts\"],[\"SAUL CENTERS INC\",\"Real Estate Investment Trusts\"],[\"KBS GROWTH & INCOME REIT, INC.\",\"Real Estate Investment Trusts\"],[\"EXTRA SPACE STORAGE INC.\",\"Real Estate Investment Trusts\"],[\"CHESAPEAKE LODGING TRUST\",\"Real Estate Investment Trusts\"],[\"LTC PROPERTIES INC\",\"Real Estate Investment Trusts\"],[\"EASTERLY GOVERNMENT PROPERTIES, INC.\",\"Real Estate Investment Trusts\"],[\"PLYMOUTH INDUSTRIAL REIT INC.\",\"Real Estate Investment Trusts\"],[\"FRANKLIN STREET PROPERTIES CORP /MA/\",\"Real Estate Investment Trusts\"],[\"HEALTHCARE TRUST OF AMERICA, INC.\",\"Real Estate Investment Trusts\"],[\"REALSOURCE RESIDENTIAL, INC\",\"Real Estate Investment Trusts\"],[\"CARTER VALIDUS MISSION CRITICAL REIT, INC.\",\"Real Estate Investment Trusts\"],[\"SUN COMMUNITIES INC\",\"Real Estate Investment Trusts\"],[\"FIRST EQUITY PROPERTIES INC\",\"Real Estate Investment Trusts\"],[\"MID AMERICA APARTMENT COMMUNITIES INC\",\"Real Estate Investment Trusts\"],[\"BROOKFIELD DTLA FUND OFFICE TRUST INVESTOR INC.\",\"Real Estate Investment Trusts\"],[\"ANNALY CAPITAL MANAGEMENT INC\",\"Real Estate Investment Trusts\"],[\"WHEELER REAL ESTATE INVESTMENT TRUST, INC.\",\"Real Estate Investment Trusts\"],[\"ALEXANDRIA REAL ESTATE EQUITIES INC\",\"Real Estate Investment Trusts\"],[\"HIGHWOODS PROPERTIES INC\",\"Real Estate Investment Trusts\"],[\"KIMCO REALTY CORP\",\"Real Estate Investment Trusts\"],[\"INDEPENDENCE REALTY TRUST, INC.\",\"Real Estate Investment Trusts\"],[\"PREFERRED APARTMENT COMMUNITIES INC\",\"Real Estate Investment Trusts\"],[\"ELLINGTON RESIDENTIAL MORTGAGE REIT\",\"Real Estate Investment Trusts\"],[\"CORECIVIC, INC.\",\"Real Estate Investment Trusts\"],[\"ASHFORD HOSPITALITY PRIME, INC.\",\"Real Estate Investment Trusts\"],[\"LIFE STORAGE, INC.\",\"Real Estate Investment Trusts\"],[\"HEALTHCARE REALTY TRUST INC\",\"Real Estate Investment Trusts\"],[\"WINTHROP REALTY LIQUIDATING TRUST\",\"Real Estate Investment Trusts\"],[\"CORENERGY INFRASTRUCTURE TRUST, INC.\",\"Real Estate Investment Trusts\"],[\"KBS STRATEGIC OPPORTUNITY REIT II, INC.\",\"Real Estate Investment Trusts\"],[\"PEBBLEBROOK HOTEL TRUST\",\"Real Estate Investment Trusts\"],[\"SABRA HEALTH CARE REIT, INC.\",\"Real Estate Investment Trusts\"],[\"POWER REIT\",\"Real Estate Investment Trusts\"],[\"DYNEX CAPITAL INC\",\"Real Estate Investment Trusts\"],[\"DIGITAL REALTY TRUST, INC.\",\"Real Estate Investment Trusts\"],[\"STRATEGIC REALTY TRUST, INC.\",\"Real Estate Investment Trusts\"],[\"COLE OFFICE & INDUSTRIAL REIT (CCIT III), INC.\",\"Real Estate Investment Trusts\"],[\"HEALTHCARE TRUST, INC.\",\"Real Estate Investment Trusts\"],[\"LADDER CAPITAL CORP\",\"Real Estate Investment Trusts\"],[\"CROWN CASTLE INTERNATIONAL CORP\",\"Real Estate Investment Trusts\"],[\"HOWARD HUGHES CORP\",\"Real Estate Investment Trusts\"],[\"ALEXANDERS INC\",\"Real Estate Investment Trusts\"],[\"MANHATTAN BRIDGE CAPITAL, INC\",\"Real Estate Investment Trusts\"],[\"INLAND REAL ESTATE INCOME TRUST, INC.\",\"Real Estate Investment Trusts\"],[\"INLAND RESIDENTIAL PROPERTIES TRUST, INC.\",\"Real Estate Investment Trusts\"],[\"INLAND RESIDENTIAL PROPERTIES TRUST, INC.\",\"Real Estate Investment Trusts\"],[\"KBS REAL ESTATE INVESTMENT TRUST II, INC.\",\"Real Estate Investment Trusts\"],[\"RESOURCE REAL ESTATE OPPORTUNITY REIT II, INC.\",\"Real Estate Investment Trusts\"],[\"STEADFAST APARTMENT REIT III, INC.\",\"Real Estate Investment Trusts\"],[\"ACADIA REALTY TRUST\",\"Real Estate Investment Trusts\"],[\"HMG COURTLAND PROPERTIES INC\",\"Real Estate Investment Trusts\"],[\"COLE CREDIT PROPERTY TRUST IV, INC.\",\"Real Estate Investment Trusts\"],[\"FIVE OAKS INVESTMENT CORP.\",\"Real Estate Investment Trusts\"],[\"NEXPOINT RESIDENTIAL TRUST, INC.\",\"Real Estate Investment Trusts\"],[\"TWO HARBORS INVESTMENT CORP.\",\"Real Estate Investment Trusts\"],[\"WASHINGTON PRIME GROUP INC.\",\"Real Estate Investment Trusts\"],[\"TIER REIT INC\",\"Real Estate Investment Trusts\"],[\"GRANITE POINT MORTGAGE TRUST INC.\",\"Real Estate Investment Trusts\"],[\"GREAT AJAX CORP.\",\"Real Estate Investment Trusts\"],[\"DUKE REALTY CORP\",\"Real Estate Investment Trusts\"],[\"EASTGROUP PROPERTIES INC\",\"Real Estate Investment Trusts\"],[\"STEADFAST APARTMENT REIT, INC.\",\"Real Estate Investment Trusts\"],[\"RECKSON OPERATING PARTNERSHIP LP\",\"Real Estate Investment Trusts\"],[\"GLOBAL NET LEASE, INC.\",\"Real Estate Investment Trusts\"],[\"KBS STRATEGIC OPPORTUNITY REIT, INC.\",\"Real Estate Investment Trusts\"],[\"WHITESTONE REIT\",\"Real Estate Investment Trusts\"],[\"GRIFFIN CAPITAL ESSENTIAL ASSET REIT II, INC.\",\"Real Estate Investment Trusts\"],[\"UDR, INC.\",\"Real Estate Investment Trusts\"],[\"COMMUNITY HEALTHCARE TRUST INC\",\"Real Estate Investment Trusts\"],[\"VENTAS INC\",\"Real Estate Investment Trusts\"],[\"OWENS REALTY MORTGAGE, INC.\",\"Real Estate Investment Trusts\"],[\"KILROY REALTY CORP\",\"Real Estate Investment Trusts\"],[\"SUMMIT HOTEL PROPERTIES, INC.\",\"Real Estate Investment Trusts\"],[\"CORPORATE PROPERTY ASSOCIATES 18 GLOBAL INC\",\"Real Estate Investment Trusts\"],[\"CYRUSONE INC.\",\"Real Estate Investment Trusts\"],[\"COLONY NORTHSTAR, INC.\",\"Real Estate Investment Trusts\"],[\"FEDERAL REALTY INVESTMENT TRUST\",\"Real Estate Investment Trusts\"],[\"NEW SENIOR INVESTMENT GROUP INC.\",\"Real Estate Investment Trusts\"],[\"RYMAN HOSPITALITY PROPERTIES, INC.\",\"Real Estate Investment Trusts\"],[\"BRIXMOR PROPERTY GROUP INC.\",\"Real Estate Investment Trusts\"],[\"COLE OFFICE & INDUSTRIAL REIT (CCIT II), INC.\",\"Real Estate Investment Trusts\"],[\"OMEGA HEALTHCARE INVESTORS INC\",\"Real Estate Investment Trusts\"],[\"REVEN HOUSING REIT, INC.\",\"Real Estate Investment Trusts\"],[\"AMERICAN REALTY CAPITAL NEW YORK CITY REIT, INC.\",\"Real Estate Investment Trusts\"],[\"STAG INDUSTRIAL, INC.\",\"Real Estate Investment Trusts\"],[\"EQUINIX INC\",\"Real Estate Investment Trusts\"]],\"hovertemplate\":\"color=Real Estate Investment Trusts<br>0=%{x}<br>1=%{y}<br>2=%{z}<br>name=%{customdata[0]}<br>industry=%{customdata[1]}<extra></extra>\",\"legendgroup\":\"Real Estate Investment Trusts\",\"marker\":{\"color\":\"#ab63fa\",\"symbol\":\"circle\"},\"mode\":\"markers\",\"name\":\"Real Estate Investment Trusts\",\"scene\":\"scene\",\"showlegend\":true,\"x\":[-1.9422746133043758,-1.5528748687666656,-1.6701301272280018,-1.5521577710041756,-1.5521577710041756,-2.3040621018943814,-2.3040621018943814,-1.7720065213379383,-1.8396780241278887,-1.1684284079654612,-2.323978747436547,-0.12886668328603343,-1.7482481339630347,-1.726264787564086,-1.3374947444836016,-0.07766674207577869,-1.554939087297689,-1.4045462908136652,-1.9855835427176152,-2.7816686810838616,-0.7182570482601394,-2.1040976531916793,-2.7993718937731233,-1.6924349700581518,-1.6549824071176806,-0.21590618479934995,-2.8324219687760843,-2.315485189076028,-1.9500663279389472,-1.2657694863033557,-0.9171584520856129,-0.6028196970002644,-1.3845962634899789,-2.065628958284688,-0.8890035786309396,-2.4978434271699284,-1.4145449305605986,-1.3449839047710364,-0.48851693617684,-2.1456463888313775,-2.6052598175664268,-1.9971222594511067,-0.8776339802828975,-2.0582505649402227,-1.9326064790749544,-2.507770322359339,-0.31547236610649365,-3.07316852563126,-0.33424363761407627,-2.482141574031448,-2.2652915449770212,-1.6848305202334064,-1.483340350510652,-0.31547236610649365,-1.993432552658994,-1.6574768197675058,-2.0228156678699087,-1.578142759280447,-1.3902459747414773,-1.4332913646152865,-2.469019082322505,-0.9740004601246386,-2.43369124092769,-1.0563086399372672,-2.685016991366706,-1.306307296008991,-1.7955952633938106,-2.1067822799896683,-0.9960158052104764,-0.31547236610649365,-2.219334461418308,-2.3670782413145677,-2.278487894943383,-2.1340266565192754,-1.14833041689865,-2.23915509962554,-1.8387101729691213,-1.5646979865689297,-1.7555895017756131,-0.17423475660104915,-1.3521529087454376,-1.790667824042401,-2.031590908827749,0.0787761995268612,-0.842425357302435,-1.7315632688479052,-1.8399326003014134,-1.9625616449639922,-1.165065539688238,-1.7136943131316225,-2.487228155936464,-0.31547236610649365,-1.4434866451209134,-2.909454505059886,-0.23884176699288176,-2.091447819308084,-1.093117894311844,-0.6035298352281232,-1.4343847022112926,-1.5036319454860763,-1.3899522793638215,-1.2232640029045978,-2.722248475937272,-2.088577010679119,-1.6113143722583647,-1.221094266847604,-2.5306573165210087,-1.3590737869795553,-0.9592746393009457,-0.5794542378182787,-0.8399238796111921,-1.6921723112402614,-2.3343224978609562,-0.837052926013805,-0.6028650938884581,-2.477122113771864,-0.20012276550688105,-1.845101021331675,-2.055040677409007,-1.1100718033462025,-0.42860149504764694,-1.6466319107640144,-2.220042949341087,-0.57217223460554,-1.8883292254444848,-1.8577036076930586,-2.5528785336321764,-1.5528325830507157,-1.4501540964014081,-0.6631894908755829,-1.6347168366418956,-0.9706625191515964,-1.3331722608392031,-1.562332779452533,-2.294581997544777,-0.6221622836983549,-2.335621527834373,-1.7678069771859772,-1.7069041856253526,-0.40401309559774057,-2.1468024337863447,-2.4695264936528507,-0.8324071167746485,-2.55353592138804,-0.9020117762271342,-2.5931875295910536,-0.7249444941420042,-2.670747728991888,-2.5080016438955597,-2.2972571998014772,-2.2972571998014772,-2.6554229346066665,-2.7543178054570943,-0.8190191306218173,-1.9392053299592313,-0.3145520060254937,-2.5866519466596096,-2.8123886313659474,-2.3778210647278284,-2.342748986094696,-1.7503281808321567,-0.33287191553217005,-2.466828117651659,-2.1649979456094246,-0.7967544897335805,-0.6390980555843835,-1.9662650110668278,-1.3124357401998383,-2.16486655072404,-2.6781879781982605,-2.4119658857857944,-1.8776891791224029,-2.2149155249175454,-2.023784668253827,-1.8201585080166314,-2.269269128598966,-1.8360998549848901,-0.9644339806142987,-1.292648368576723,-0.37911486374711545,-2.568490569889699,-2.054393841144992,-1.3021480563862464,-0.5924972160559067,-1.1639176839662064,-2.5450232612435832,-0.6127767625706672,-2.2371276577728514,-2.6656301678596637,-1.1016611619225476,0.060492076295895286],\"y\":[-2.117430489564738,-1.871321980203611,-1.987776592457999,-1.2298713037314988,-1.2298713037314988,-2.172539223424285,-2.172539223424285,-2.2919621672175667,-2.1253677912254654,-2.145680877986963,-2.4343551903315763,-1.1495601944760183,-2.177671730863275,-2.418059892978109,-1.994712106454224,-1.0423589929908688,-0.9514101063477137,-2.070702708717413,-2.1443168634984597,-2.239717284250358,-1.497045885242626,-2.1181118220349964,-2.3375540459705615,-1.2966395767481818,-2.0505345762930047,-1.1574182517907126,-1.0175866147466022,-2.493398160327001,-2.36477667016618,-2.1484759537169613,-1.9793350338089755,-1.3839415702765379,-1.7692868329475047,-1.7387531857533054,-1.7080707622610243,-2.4089156865058796,-1.8832507114819426,-1.935512827754847,-1.7282658674193074,-1.9938235651805654,-2.337966193012758,-1.9867881549107378,-1.7928414855109285,-2.0787180155566465,-2.515018830704507,-2.6591858973465023,-0.5914040973371343,-1.9317567321809221,-1.4431206992705523,-2.3347016163462015,-1.249610256829081,-2.332666825800559,-1.320910349571575,-0.5914040973371343,-2.3903794718841627,-1.9336980759660836,-2.339368361607599,-1.7063049324385882,-2.0209367846155786,-1.6844870017060025,-2.1151429559960735,-1.6638530481909029,-1.247162797277311,-1.7863360295553832,-2.366542808020534,-1.6489035911405179,-0.5947010441813585,-1.4143211975667205,-1.7488115568149496,-0.5914040973371344,-2.0648404731002006,-2.3640480577646867,-1.7638068833937006,-2.3228531935443515,-1.4515483086113028,-1.902374831606696,-2.1572978127398788,-1.3665667260041374,-2.3062887678989066,-1.2110551754098207,-2.099236610614197,-2.2323268291899923,-2.257032291389077,-1.136613079595216,-1.8740392324197575,-2.223019953562412,-2.2104265879889633,-2.057954098380551,-2.1563993269342485,-1.8796877751433796,-1.31860399633895,-0.5914040973371343,-1.9622819700903555,-1.6837831491979895,-1.1610529021685976,-1.793785204372161,-1.739892928489706,-1.7570190625398545,-2.3039380545232375,-2.2894900898024253,-1.7920760561060152,-2.000992673795328,-1.7379575604307957,-1.9232788567145565,-2.20694917213377,-1.7823420952078415,-2.2887835830072247,-2.2731903608478135,-1.733380507471456,-1.08708720639068,-2.029868868368289,-2.1993432199308423,-1.873379354074202,-1.7252309799525578,-1.4184196172061174,-2.4702243869950054,-1.1744401931341026,-1.8846716337952052,-2.4634230678347673,-1.8739761576906708,-1.2551765054057187,-2.0978054676786444,-2.168051653953527,-0.9024098515612446,-1.7319811775218514,-2.302229824079551,-2.371045062848025,-1.1647087250423427,-1.8898687702124874,-1.6443736547833847,-2.1538265257495603,-1.4757326346212378,-1.8150860028299804,-1.9496579955588216,-2.4735407819626003,-1.927585624497407,-1.956344481492153,-1.7358215040094134,-0.9167534483970865,-1.2154644648100605,-2.549746440066056,-2.4810498972816917,-1.460806946547388,-1.2203402402528625,-1.7834663220051648,-2.186798231121425,-1.6210743693160707,-1.7269805574737873,-2.438453578641356,-2.4149241185903008,-2.4149241185903008,-2.426323107922492,-2.293779455357907,-1.7604736608972607,-1.6656136861594324,-0.8365241804787268,-2.4630660549281416,-1.6298883798698927,-2.4000714724195493,-1.2177523735780766,-1.879168650184029,-1.4693998087898301,-1.493791637850512,-1.7110233272115152,-1.31907928058673,-1.5938355855190105,-2.4030455481104536,-2.2769089050108366,-2.411866700356032,-2.3305266196582606,-2.1919639018638377,-2.3919958663985814,-2.64621023856104,-2.0573771842990007,-1.9594918856705559,-1.7692802567183241,-1.8275464155547636,-2.0271725036858523,-1.93231953766047,-1.2103167200761664,-1.6959349540309547,-2.279201834047547,-1.670697343047313,-1.7469785912774196,-2.214718103887089,-2.4438557296444774,-1.7161655157559397,-2.097631541653087,-2.328698418308594,-2.2483714323894968,-0.8988746105567815],\"z\":[-1.5501162542852074,-0.6988069843162553,-1.1870075801583535,-0.20848391873009178,-0.20848391873009178,-1.9685848890199358,-1.9685848890199358,-2.1802931513855044,-1.4783928885251016,-1.5292877081598713,-2.487600502442486,1.4246837405759525,-1.476452232767517,-1.7868341697651864,-0.8990225583828729,1.4221313179189496,-0.33920373677224586,-0.6567310966998423,-1.591918078154962,-2.5482341725053352,-1.5319483827331992,-1.7661979746167895,-2.650834380517124,-0.7199157725570413,-2.0135459056464335,0.5734595930659139,-1.547243946662368,-2.2098359427767296,-2.0212531521966346,-0.5896534784711813,-1.5314169890361047,0.2525576041761862,-1.0062706438567248,-1.8843114338238167,-1.208480323669281,-2.511491986959922,-1.5151158150089798,-1.6662480959697923,-1.0877090738128328,-1.7608032661748385,-2.7829785727862424,-1.2196573620719584,-1.280561752260388,-1.6683833034289284,-1.561887737143339,-2.7546814216703224,1.9603244549503647,-2.5398598172495297,-0.490175513017267,-2.119737578439622,-1.226838863191947,-1.8395079384080375,-0.35705492411120954,1.9603244549503647,-2.2724726660479946,-1.6616456710998733,-2.3210981560412565,-0.5610010064741576,-0.9468615421260822,-0.5378183572021299,-1.7159629805277843,-0.5216226240798377,-1.293294710059807,-0.421410301559783,-2.873606145901309,-1.1258457207665196,-0.04480609936128733,-1.2059618656194528,-0.249726918999387,1.9603244549503647,-2.6428243299758316,-2.274224518609966,-2.0293963146566067,-1.9278540061799225,-1.001829967065246,-1.4970486038031992,-1.5948238716497913,-0.6049185976378955,-1.6157319956706966,0.6486566081145928,-2.0405291176365945,-1.2091470399236908,-1.862923612023564,-0.3966592093216482,-0.5890152154963402,-1.5646355859123835,-1.711165222467754,-1.8178737576446236,-0.8235306423351587,-0.711345980563897,-1.552425005746633,1.9603244549503647,-1.5027178305447169,-2.006192540318256,1.2212216280739119,-2.236107769692574,-1.4673902107096144,-0.23741155556072238,-1.3392509872351372,-1.2911979114672651,-1.0050666659757836,-0.7554050323994186,-2.4030321729067867,-1.106831581921237,-2.1599572148123514,-0.5234843962822887,-2.360281809337377,-1.6644422651402924,-0.37728273334699464,0.00793576039292829,-1.1502500899344192,-1.7451076421508547,-1.905240342450243,-0.4454814437466498,-0.3084491368054472,-2.4866320037009837,1.3292228022275197,-1.0189088757134075,-2.629932065107613,-0.9831580230270451,0.15605197416532732,-1.0294496498995935,-2.0139511625297786,1.3144042540597898,-1.0666107478969638,-1.5512024370361566,-2.2950230349908827,-0.2616169396661227,-2.1084287140113758,0.28571352309728065,-1.7333502288877056,-0.8143633245050435,-1.108492787011083,-0.9761504129751716,-2.4521563370650163,0.07631882522690178,-2.2939833754816448,-1.3148890180747284,-0.3776880639436863,0.7243769491008738,-2.3335985658628977,-2.5654163239458607,-1.0796049283392837,-1.5727862161864603,0.07154684451518986,-2.4899015469486856,0.03414224630451125,-2.097313327956162,-3.024308489476914,-2.641414636171957,-2.641414636171957,-2.424541000660296,-2.9906256562519884,-0.11917394508012707,-0.8902355237522166,1.5006314680797137,-2.756036194246925,-2.030482002440157,-2.489917132076543,-1.5216056968233231,-1.0921851118697488,-1.4280502036756195,-1.9677001743007594,-1.3069350360008014,0.6984010481812184,-0.3179769002159493,-2.1601410650135078,-1.288168162296655,-2.318440386166751,-2.5387018545430156,-2.48580569155516,-1.618364002873679,-2.401729714021251,-1.9908130667200206,-1.4495615159627429,-1.7353236532655465,-0.7374219749950083,-0.2707505868536443,-0.36047881537101023,1.017516909048738,-2.119593535874588,-2.005315561017772,-1.7993883186662896,-0.4641199254951579,-1.01787302285872,-2.623098656908501,0.31767130865474175,-2.169492896237039,-2.6399315581410217,-1.602165806978738,1.6616764831422093],\"type\":\"scatter3d\"},{\"customdata\":[[\"TOMPKINS FINANCIAL CORP\",\"State Commercial Banks (commercial banking)\"],[\"TRIUMPH BANCORP, INC.\",\"State Commercial Banks (commercial banking)\"],[\"GREAT SOUTHERN BANCORP, INC.\",\"State Commercial Banks (commercial banking)\"],[\"SOUTH STATE CORP\",\"State Commercial Banks (commercial banking)\"],[\"OLD LINE BANCSHARES INC\",\"State Commercial Banks (commercial banking)\"],[\"SEACOAST BANKING CORP OF FLORIDA\",\"State Commercial Banks (commercial banking)\"],[\"CITIZENS FINANCIAL GROUP INC/RI\",\"State Commercial Banks (commercial banking)\"],[\"COMMUNITY WEST BANCSHARES /\",\"State Commercial Banks (commercial banking)\"],[\"MACKINAC FINANCIAL CORP /MI/\",\"State Commercial Banks (commercial banking)\"],[\"UNITY BANCORP INC /NJ/\",\"State Commercial Banks (commercial banking)\"],[\"UNITY BANCORP INC /NJ/\",\"State Commercial Banks (commercial banking)\"],[\"EAST WEST BANCORP INC\",\"State Commercial Banks (commercial banking)\"],[\"HEARTLAND FINANCIAL USA INC\",\"State Commercial Banks (commercial banking)\"],[\"COUNTY BANCORP, INC.\",\"State Commercial Banks (commercial banking)\"],[\"CHEMUNG FINANCIAL CORP\",\"State Commercial Banks (commercial banking)\"],[\"BRYN MAWR BANK CORP\",\"State Commercial Banks (commercial banking)\"],[\"EAGLE BANCORP MONTANA, INC.\",\"State Commercial Banks (commercial banking)\"],[\"1ST SOURCE CORP\",\"State Commercial Banks (commercial banking)\"],[\"SERVISFIRST BANCSHARES, INC.\",\"State Commercial Banks (commercial banking)\"],[\"SIERRA BANCORP\",\"State Commercial Banks (commercial banking)\"],[\"HOPFED BANCORP INC\",\"State Commercial Banks (commercial banking)\"],[\"HOPFED BANCORP INC\",\"State Commercial Banks (commercial banking)\"],[\"FIRST FINANCIAL BANKSHARES INC\",\"State Commercial Banks (commercial banking)\"],[\"CHEMICAL FINANCIAL CORP\",\"State Commercial Banks (commercial banking)\"],[\"SECURITY FEDERAL CORP\",\"State Commercial Banks (commercial banking)\"],[\"FIRST FINANCIAL CORP /IN/\",\"State Commercial Banks (commercial banking)\"],[\"WESTERN ALLIANCE BANCORPORATION\",\"State Commercial Banks (commercial banking)\"],[\"TRISTATE CAPITAL HOLDINGS, INC.\",\"State Commercial Banks (commercial banking)\"],[\"UNION BANKSHARES CORP\",\"State Commercial Banks (commercial banking)\"],[\"CAROLINA TRUST BANCSHARES, INC.\",\"State Commercial Banks (commercial banking)\"],[\"COMMUNITY TRUST BANCORP INC /KY/\",\"State Commercial Banks (commercial banking)\"],[\"HILLS BANCORPORATION\",\"State Commercial Banks (commercial banking)\"],[\"MACATAWA BANK CORP\",\"State Commercial Banks (commercial banking)\"],[\"PREMIER FINANCIAL BANCORP INC\",\"State Commercial Banks (commercial banking)\"],[\"KENTUCKY BANCSHARES INC /KY/\",\"State Commercial Banks (commercial banking)\"],[\"RIVER FINANCIAL CORP\",\"State Commercial Banks (commercial banking)\"],[\"BAR HARBOR BANKSHARES\",\"State Commercial Banks (commercial banking)\"],[\"PARKE BANCORP, INC.\",\"State Commercial Banks (commercial banking)\"],[\"RANDOLPH BANCORP, INC.\",\"State Commercial Banks (commercial banking)\"],[\"BANK OF HAWAII CORP\",\"State Commercial Banks (commercial banking)\"],[\"BSB BANCORP, INC.\",\"State Commercial Banks (commercial banking)\"],[\"INDEPENDENT BANK CORP /MI/\",\"State Commercial Banks (commercial banking)\"],[\"PACIFIC PREMIER BANCORP INC\",\"State Commercial Banks (commercial banking)\"],[\"OHIO VALLEY BANC CORP\",\"State Commercial Banks (commercial banking)\"],[\"CVB FINANCIAL CORP\",\"State Commercial Banks (commercial banking)\"],[\"BANK OF NEW YORK MELLON CORP\",\"State Commercial Banks (commercial banking)\"],[\"TWO RIVER BANCORP\",\"State Commercial Banks (commercial banking)\"],[\"STEWARDSHIP FINANCIAL CORP\",\"State Commercial Banks (commercial banking)\"],[\"LAKELAND FINANCIAL CORP\",\"State Commercial Banks (commercial banking)\"],[\"FAUQUIER BANKSHARES, INC.\",\"State Commercial Banks (commercial banking)\"],[\"LIVE OAK BANCSHARES, INC.\",\"State Commercial Banks (commercial banking)\"],[\"M&T BANK CORP\",\"State Commercial Banks (commercial banking)\"],[\"INTERNATIONAL BANCSHARES CORP\",\"State Commercial Banks (commercial banking)\"],[\"SUMMIT FINANCIAL GROUP INC\",\"State Commercial Banks (commercial banking)\"],[\"SUSSEX BANCORP\",\"State Commercial Banks (commercial banking)\"],[\"PRIME MERIDIAN HOLDING CO\",\"State Commercial Banks (commercial banking)\"],[\"BANKWELL FINANCIAL GROUP, INC.\",\"State Commercial Banks (commercial banking)\"],[\"SOUTHWEST GEORGIA FINANCIAL CORP\",\"State Commercial Banks (commercial banking)\"],[\"BANK OF COMMERCE HOLDINGS\",\"State Commercial Banks (commercial banking)\"],[\"BANK OF COMMERCE HOLDINGS\",\"State Commercial Banks (commercial banking)\"],[\"UNITED BANCORP INC /OH/\",\"State Commercial Banks (commercial banking)\"],[\"PARKWAY ACQUISITION CORP.\",\"State Commercial Banks (commercial banking)\"],[\"INVESTAR HOLDING CORP\",\"State Commercial Banks (commercial banking)\"],[\"RENASANT CORP\",\"State Commercial Banks (commercial banking)\"],[\"RELIANT BANCORP, INC.\",\"State Commercial Banks (commercial banking)\"],[\"FIRST COMMUNITY CORP /SC/\",\"State Commercial Banks (commercial banking)\"],[\"FIRST FINANCIAL NORTHWEST, INC.\",\"State Commercial Banks (commercial banking)\"],[\"COMMERCE BANCSHARES INC /MO/\",\"State Commercial Banks (commercial banking)\"],[\"JUNIATA VALLEY FINANCIAL CORP\",\"State Commercial Banks (commercial banking)\"],[\"HOWARD BANCORP INC\",\"State Commercial Banks (commercial banking)\"],[\"EAGLE FINANCIAL SERVICES INC\",\"State Commercial Banks (commercial banking)\"],[\"MVB FINANCIAL CORP\",\"State Commercial Banks (commercial banking)\"],[\"INDEPENDENT BANK GROUP, INC.\",\"State Commercial Banks (commercial banking)\"],[\"CONNECTONE BANCORP, INC.\",\"State Commercial Banks (commercial banking)\"],[\"REPUBLIC BANCORP INC /KY/\",\"State Commercial Banks (commercial banking)\"],[\"SOUTHSIDE BANCSHARES INC\",\"State Commercial Banks (commercial banking)\"],[\"FIRST HAWAIIAN, INC.\",\"State Commercial Banks (commercial banking)\"],[\"FIRST US BANCSHARES INC\",\"State Commercial Banks (commercial banking)\"],[\"COMMUNITY FINANCIAL CORP /MD/\",\"State Commercial Banks (commercial banking)\"],[\"BANNER CORP\",\"State Commercial Banks (commercial banking)\"],[\"SVB FINANCIAL GROUP\",\"State Commercial Banks (commercial banking)\"],[\"CATHAY GENERAL BANCORP\",\"State Commercial Banks (commercial banking)\"],[\"BANK OF THE JAMES FINANCIAL GROUP INC\",\"State Commercial Banks (commercial banking)\"],[\"FLUSHING FINANCIAL CORP\",\"State Commercial Banks (commercial banking)\"],[\"FRANKLIN FINANCIAL SERVICES CORP /PA/\",\"State Commercial Banks (commercial banking)\"],[\"CENTRAL PACIFIC FINANCIAL CORP\",\"State Commercial Banks (commercial banking)\"],[\"CENTRAL PACIFIC FINANCIAL CORP\",\"State Commercial Banks (commercial banking)\"],[\"CENTRAL VALLEY COMMUNITY BANCORP\",\"State Commercial Banks (commercial banking)\"],[\"F&M BANK CORP\",\"State Commercial Banks (commercial banking)\"],[\"FARMERS NATIONAL BANC CORP /OH/\",\"State Commercial Banks (commercial banking)\"],[\"CITIZENS & NORTHERN CORP\",\"State Commercial Banks (commercial banking)\"],[\"GUARANTY FEDERAL BANCSHARES INC\",\"State Commercial Banks (commercial banking)\"],[\"CAROLINA FINANCIAL CORP\",\"State Commercial Banks (commercial banking)\"],[\"FIRST INTERNET BANCORP\",\"State Commercial Banks (commercial banking)\"],[\"HARBORONE BANCORP, INC.\",\"State Commercial Banks (commercial banking)\"],[\"UNITED BANKSHARES INC/WV\",\"State Commercial Banks (commercial banking)\"],[\"INDEPENDENT BANK CORP\",\"State Commercial Banks (commercial banking)\"],[\"CITIZENS FINANCIAL SERVICES INC\",\"State Commercial Banks (commercial banking)\"],[\"NORWOOD FINANCIAL CORP\",\"State Commercial Banks (commercial banking)\"],[\"WEST BANCORPORATION INC\",\"State Commercial Banks (commercial banking)\"],[\"CUSTOMERS BANCORP, INC.\",\"State Commercial Banks (commercial banking)\"],[\"WEST END INDIANA BANCSHARES, INC.\",\"State Commercial Banks (commercial banking)\"],[\"ATLANTIC CAPITAL BANCSHARES, INC.\",\"State Commercial Banks (commercial banking)\"],[\"IBERIABANK CORP\",\"State Commercial Banks (commercial banking)\"],[\"MERCANTILE BANK CORP\",\"State Commercial Banks (commercial banking)\"],[\"GERMAN AMERICAN BANCORP, INC.\",\"State Commercial Banks (commercial banking)\"],[\"S&T BANCORP INC\",\"State Commercial Banks (commercial banking)\"],[\"HILLTOP HOLDINGS INC.\",\"State Commercial Banks (commercial banking)\"],[\"CB FINANCIAL SERVICES, INC.\",\"State Commercial Banks (commercial banking)\"],[\"ENTERPRISE FINANCIAL SERVICES CORP\",\"State Commercial Banks (commercial banking)\"],[\"AUBURN NATIONAL BANCORPORATION, INC\",\"State Commercial Banks (commercial banking)\"],[\"FIRST KEYSTONE CORP\",\"State Commercial Banks (commercial banking)\"],[\"TEXAS CAPITAL BANCSHARES INC/TX\",\"State Commercial Banks (commercial banking)\"],[\"VILLAGE BANK & TRUST FINANCIAL CORP.\",\"State Commercial Banks (commercial banking)\"],[\"STOCK YARDS BANCORP, INC.\",\"State Commercial Banks (commercial banking)\"],[\"BUSINESS FIRST BANCSHARES, INC.\",\"State Commercial Banks (commercial banking)\"]],\"hovertemplate\":\"color=State Commercial Banks (commercial banking)<br>0=%{x}<br>1=%{y}<br>2=%{z}<br>name=%{customdata[0]}<br>industry=%{customdata[1]}<extra></extra>\",\"legendgroup\":\"State Commercial Banks (commercial banking)\",\"marker\":{\"color\":\"#FFA15A\",\"symbol\":\"circle\"},\"mode\":\"markers\",\"name\":\"State Commercial Banks (commercial banking)\",\"scene\":\"scene\",\"showlegend\":true,\"x\":[-4.023756570416359,-3.6781274784491784,-3.8696919783067183,-4.619383788810296,-4.388034144202354,-4.331430504733681,-3.9889691269319827,-2.5209550005538874,-4.005694171249945,-3.459007783149663,-3.459007783149663,-0.1745947876667001,-4.4216123727718415,-4.648247542114968,-4.222062012246348,-3.8180118410864226,-4.141797416139393,-4.350706227854212,-4.223389132777682,-4.111388023739069,-4.295157655979305,-4.295157655979305,-3.965286826010829,-4.833804227635872,-4.526283758564334,-4.455210457424435,-2.672469953859252,-4.602260141226016,-3.9728281404379744,-4.119438418171419,-3.172138037586414,-4.5915044310535915,-4.061470749195447,-4.062122747760022,-4.0629527816831565,-4.362437231652606,-4.566076054810415,-4.8025904409232805,-4.408690849045993,-2.721119543726101,-4.022333939061965,-0.6729422340282174,-4.675383268135045,-4.353928569089201,-4.215632666655105,-0.6121318362045994,-4.301404945901637,-3.977899393593809,-4.226626499848532,-4.660794276408096,-4.204192807641338,-3.936899373887912,-3.8746963789640243,-3.820881102592377,-3.802463992355659,-4.5616789312895,-4.6072119074164535,-3.6802203973674987,-4.2488911980639275,-4.2488911980639275,-4.251228701300925,-4.228967075022957,-4.914970729897699,-4.797060201544386,-3.899374698195918,-4.530410271804386,-4.47893566540298,-3.954164079104129,-4.082963583240428,-2.465987963917107,-4.093829620963365,-4.151923026531023,-4.430113296877528,-4.073211556857097,-3.390365314330462,-4.162064888372782,-4.24942766121827,-3.593132182993346,-4.0732509166247155,0.29832478956419073,-3.707618173053617,-4.331561064094423,-4.11841151994401,-3.5702087532681688,-4.626591645318788,-4.5305990430977365,-4.5305990430977365,-4.497617900054223,0.07829206608527729,-3.8073539961819525,-1.7305097106821807,-4.357748213704418,-4.766495039928403,-4.079664058694823,-4.74990351628084,-4.513457328853292,-4.178980738676656,-3.9278109565169066,-4.56088885382512,-4.165632905328663,-4.155468694546185,-3.970474786755181,-4.748332831783202,-4.14846869611777,-4.38936169077416,-3.6355196947379285,-1.1647549281369336,-4.069943359026229,-3.779830144446583,-0.659280763953936,-4.336106793880191,-3.696331020261178,-3.915144803292081,-4.285662775181575,-3.283353479218211,-4.942550654930888],\"y\":[3.9240609326854843,2.443018647438898,0.505229052256992,4.4593431622687865,3.727037397930279,4.701139536702413,4.262283510754199,0.8130301961574382,3.0393506499842364,4.086283830058506,4.086283830058506,-0.9760158879788482,4.364997190397979,3.904784230320001,3.538232008420053,4.009359323831771,2.114560957608344,4.4385177259981905,3.5919460180570177,3.875325169841488,3.486156635265217,3.486156635265217,4.12172050329759,3.3880533459990456,1.8627928895089385,4.408319172234421,0.22724805691142602,3.7027015725782615,4.518691217597507,4.432386402533187,3.3482493199769117,3.8462308436520845,2.6333402004011743,4.3167273235113806,3.619562797145325,4.384523595629433,4.180428884282544,3.4412336311221132,2.4973554586158713,2.104881261766653,1.1989780552713225,-0.8809655185297102,4.038598254821965,3.3586017801997943,3.7839500513161104,-0.3252499586590983,2.7663858202882046,4.328099027526849,4.3490532719301465,4.203509765194647,4.586998682872333,3.826483110816404,4.449307526690866,3.4004580106644773,4.301236809322677,3.4413219494373393,3.7309766771256427,2.731874843787341,4.42890392551502,4.42890392551502,3.687232218951738,4.417424731118958,4.098617087061278,2.995592861353291,4.4650466897240335,4.5625221490118415,1.588593109010062,4.253141399246155,3.7119641824142118,-0.3184314743938862,4.2333433409554715,3.9512744682808774,4.469160986528324,4.173721026696259,2.4018949661314988,4.397305259001523,4.435820929399627,3.796204418874162,1.9322438903713148,-0.6071135414581916,4.225022063547589,3.7281771795657557,4.315765145208861,0.8527930297289699,3.407302586390805,4.04091327286934,4.04091327286934,4.28989091187346,-0.513007041738892,3.9242011040513116,0.8159438976336755,2.383717203193201,4.280348124444347,4.180496201086475,3.119734805052687,3.214641280397151,1.2543955056803406,4.084269180695699,3.5128241224252608,4.34361896634075,4.070744586236677,1.6936999852302184,4.058246789750709,4.33525482275921,2.508424272327857,3.5177656148644916,0.9664336174958755,4.041388939804474,0.8592200574433,-0.5063204968813798,4.654294539894868,3.7467695128609146,4.188454632013632,4.256080906223009,3.2250013383933647,4.247110544084456],\"z\":[0.5687561828997403,0.06659028460111859,-1.6076021725578076,0.40955988625793616,0.01939393629397111,0.8202705962834028,1.0770961488003261,-0.3865235443129036,0.10292389322388877,1.6376805963230512,1.6376805963230512,1.5440417034372527,0.19098709303653752,-0.03505109712811016,0.2975957174248455,0.6454533162254128,-0.7515984750814472,0.6185632128246596,-0.13217915692069832,0.5227157936400395,-0.05691931518994606,-0.05691931518994606,0.9357401944727292,-0.9099111414071924,-1.3942124277839358,0.37837527260848197,-0.47695862594911387,-0.35352579374037707,1.1277404393616786,0.8908000795330784,1.0570156353111406,-0.17510509794961474,-0.7286687341319619,0.8508190129516411,0.3634039155267274,0.5041056006824768,0.19574796267699582,-0.352288315171774,-0.6535991713873956,0.34826290740513405,-1.2911086879790288,0.9697596620896318,-0.13168027753733516,-0.032244791023257155,0.24695968836130458,0.8315872146039441,-0.3948504177628587,1.1229923003061344,0.7172336654612229,0.16462839726465667,0.7747385393263371,0.6122764630168638,1.1615199872218749,0.42008500092899187,1.1944281152936354,-0.2877519019950977,-0.1838430687013216,0.11563031058742461,0.9228617289760289,0.9228617289760289,0.26339673086781623,0.7754255268708459,-0.1366212686537819,-0.8908339403118012,1.0410471369310044,0.606332645989516,-1.3895692674709585,0.734438582431495,0.3731939738596123,-0.5437980896055301,0.8231321374176578,0.2491411862123547,0.6568520918905257,0.6087302075964173,-0.31633376636584476,0.9929346304871225,0.6890261914865787,0.6195222331509339,-0.7089305539682195,2.408864877343204,1.1660538291726505,0.15196343033671478,0.5303085087958633,-1.0116385109773134,-0.3192749606939161,0.1431871618824591,0.1431871618824591,0.45957661671704975,2.1262348737688574,0.8679449355228191,0.7393740520260424,-0.7289576248521726,0.05466423511236412,0.5575373897606953,-0.5954532416038154,-0.28713333758861564,-1.2978070371870847,0.9854241715591874,-0.09100805795934186,0.8638803572995944,0.45284030380632834,-0.8424240418959851,0.005288122846480187,0.8298524289508423,-0.8828202372273004,0.31539931809423877,1.8149007697084265,0.38597020699442386,-1.1039534476007675,1.246274487037829,0.9843744330374442,0.7478326359220804,0.843813776271056,0.29073976475551006,0.6271294119572717,-0.038262574573970184],\"type\":\"scatter3d\"}],                        {\"template\":{\"data\":{\"bar\":[{\"error_x\":{\"color\":\"#2a3f5f\"},\"error_y\":{\"color\":\"#2a3f5f\"},\"marker\":{\"line\":{\"color\":\"#E5ECF6\",\"width\":0.5},\"pattern\":{\"fillmode\":\"overlay\",\"size\":10,\"solidity\":0.2}},\"type\":\"bar\"}],\"barpolar\":[{\"marker\":{\"line\":{\"color\":\"#E5ECF6\",\"width\":0.5},\"pattern\":{\"fillmode\":\"overlay\",\"size\":10,\"solidity\":0.2}},\"type\":\"barpolar\"}],\"carpet\":[{\"aaxis\":{\"endlinecolor\":\"#2a3f5f\",\"gridcolor\":\"white\",\"linecolor\":\"white\",\"minorgridcolor\":\"white\",\"startlinecolor\":\"#2a3f5f\"},\"baxis\":{\"endlinecolor\":\"#2a3f5f\",\"gridcolor\":\"white\",\"linecolor\":\"white\",\"minorgridcolor\":\"white\",\"startlinecolor\":\"#2a3f5f\"},\"type\":\"carpet\"}],\"choropleth\":[{\"colorbar\":{\"outlinewidth\":0,\"ticks\":\"\"},\"type\":\"choropleth\"}],\"contour\":[{\"colorbar\":{\"outlinewidth\":0,\"ticks\":\"\"},\"colorscale\":[[0.0,\"#0d0887\"],[0.1111111111111111,\"#46039f\"],[0.2222222222222222,\"#7201a8\"],[0.3333333333333333,\"#9c179e\"],[0.4444444444444444,\"#bd3786\"],[0.5555555555555556,\"#d8576b\"],[0.6666666666666666,\"#ed7953\"],[0.7777777777777778,\"#fb9f3a\"],[0.8888888888888888,\"#fdca26\"],[1.0,\"#f0f921\"]],\"type\":\"contour\"}],\"contourcarpet\":[{\"colorbar\":{\"outlinewidth\":0,\"ticks\":\"\"},\"type\":\"contourcarpet\"}],\"heatmap\":[{\"colorbar\":{\"outlinewidth\":0,\"ticks\":\"\"},\"colorscale\":[[0.0,\"#0d0887\"],[0.1111111111111111,\"#46039f\"],[0.2222222222222222,\"#7201a8\"],[0.3333333333333333,\"#9c179e\"],[0.4444444444444444,\"#bd3786\"],[0.5555555555555556,\"#d8576b\"],[0.6666666666666666,\"#ed7953\"],[0.7777777777777778,\"#fb9f3a\"],[0.8888888888888888,\"#fdca26\"],[1.0,\"#f0f921\"]],\"type\":\"heatmap\"}],\"heatmapgl\":[{\"colorbar\":{\"outlinewidth\":0,\"ticks\":\"\"},\"colorscale\":[[0.0,\"#0d0887\"],[0.1111111111111111,\"#46039f\"],[0.2222222222222222,\"#7201a8\"],[0.3333333333333333,\"#9c179e\"],[0.4444444444444444,\"#bd3786\"],[0.5555555555555556,\"#d8576b\"],[0.6666666666666666,\"#ed7953\"],[0.7777777777777778,\"#fb9f3a\"],[0.8888888888888888,\"#fdca26\"],[1.0,\"#f0f921\"]],\"type\":\"heatmapgl\"}],\"histogram\":[{\"marker\":{\"pattern\":{\"fillmode\":\"overlay\",\"size\":10,\"solidity\":0.2}},\"type\":\"histogram\"}],\"histogram2d\":[{\"colorbar\":{\"outlinewidth\":0,\"ticks\":\"\"},\"colorscale\":[[0.0,\"#0d0887\"],[0.1111111111111111,\"#46039f\"],[0.2222222222222222,\"#7201a8\"],[0.3333333333333333,\"#9c179e\"],[0.4444444444444444,\"#bd3786\"],[0.5555555555555556,\"#d8576b\"],[0.6666666666666666,\"#ed7953\"],[0.7777777777777778,\"#fb9f3a\"],[0.8888888888888888,\"#fdca26\"],[1.0,\"#f0f921\"]],\"type\":\"histogram2d\"}],\"histogram2dcontour\":[{\"colorbar\":{\"outlinewidth\":0,\"ticks\":\"\"},\"colorscale\":[[0.0,\"#0d0887\"],[0.1111111111111111,\"#46039f\"],[0.2222222222222222,\"#7201a8\"],[0.3333333333333333,\"#9c179e\"],[0.4444444444444444,\"#bd3786\"],[0.5555555555555556,\"#d8576b\"],[0.6666666666666666,\"#ed7953\"],[0.7777777777777778,\"#fb9f3a\"],[0.8888888888888888,\"#fdca26\"],[1.0,\"#f0f921\"]],\"type\":\"histogram2dcontour\"}],\"mesh3d\":[{\"colorbar\":{\"outlinewidth\":0,\"ticks\":\"\"},\"type\":\"mesh3d\"}],\"parcoords\":[{\"line\":{\"colorbar\":{\"outlinewidth\":0,\"ticks\":\"\"}},\"type\":\"parcoords\"}],\"pie\":[{\"automargin\":true,\"type\":\"pie\"}],\"scatter\":[{\"marker\":{\"colorbar\":{\"outlinewidth\":0,\"ticks\":\"\"}},\"type\":\"scatter\"}],\"scatter3d\":[{\"line\":{\"colorbar\":{\"outlinewidth\":0,\"ticks\":\"\"}},\"marker\":{\"colorbar\":{\"outlinewidth\":0,\"ticks\":\"\"}},\"type\":\"scatter3d\"}],\"scattercarpet\":[{\"marker\":{\"colorbar\":{\"outlinewidth\":0,\"ticks\":\"\"}},\"type\":\"scattercarpet\"}],\"scattergeo\":[{\"marker\":{\"colorbar\":{\"outlinewidth\":0,\"ticks\":\"\"}},\"type\":\"scattergeo\"}],\"scattergl\":[{\"marker\":{\"colorbar\":{\"outlinewidth\":0,\"ticks\":\"\"}},\"type\":\"scattergl\"}],\"scattermapbox\":[{\"marker\":{\"colorbar\":{\"outlinewidth\":0,\"ticks\":\"\"}},\"type\":\"scattermapbox\"}],\"scatterpolar\":[{\"marker\":{\"colorbar\":{\"outlinewidth\":0,\"ticks\":\"\"}},\"type\":\"scatterpolar\"}],\"scatterpolargl\":[{\"marker\":{\"colorbar\":{\"outlinewidth\":0,\"ticks\":\"\"}},\"type\":\"scatterpolargl\"}],\"scatterternary\":[{\"marker\":{\"colorbar\":{\"outlinewidth\":0,\"ticks\":\"\"}},\"type\":\"scatterternary\"}],\"surface\":[{\"colorbar\":{\"outlinewidth\":0,\"ticks\":\"\"},\"colorscale\":[[0.0,\"#0d0887\"],[0.1111111111111111,\"#46039f\"],[0.2222222222222222,\"#7201a8\"],[0.3333333333333333,\"#9c179e\"],[0.4444444444444444,\"#bd3786\"],[0.5555555555555556,\"#d8576b\"],[0.6666666666666666,\"#ed7953\"],[0.7777777777777778,\"#fb9f3a\"],[0.8888888888888888,\"#fdca26\"],[1.0,\"#f0f921\"]],\"type\":\"surface\"}],\"table\":[{\"cells\":{\"fill\":{\"color\":\"#EBF0F8\"},\"line\":{\"color\":\"white\"}},\"header\":{\"fill\":{\"color\":\"#C8D4E3\"},\"line\":{\"color\":\"white\"}},\"type\":\"table\"}]},\"layout\":{\"annotationdefaults\":{\"arrowcolor\":\"#2a3f5f\",\"arrowhead\":0,\"arrowwidth\":1},\"autotypenumbers\":\"strict\",\"coloraxis\":{\"colorbar\":{\"outlinewidth\":0,\"ticks\":\"\"}},\"colorscale\":{\"diverging\":[[0,\"#8e0152\"],[0.1,\"#c51b7d\"],[0.2,\"#de77ae\"],[0.3,\"#f1b6da\"],[0.4,\"#fde0ef\"],[0.5,\"#f7f7f7\"],[0.6,\"#e6f5d0\"],[0.7,\"#b8e186\"],[0.8,\"#7fbc41\"],[0.9,\"#4d9221\"],[1,\"#276419\"]],\"sequential\":[[0.0,\"#0d0887\"],[0.1111111111111111,\"#46039f\"],[0.2222222222222222,\"#7201a8\"],[0.3333333333333333,\"#9c179e\"],[0.4444444444444444,\"#bd3786\"],[0.5555555555555556,\"#d8576b\"],[0.6666666666666666,\"#ed7953\"],[0.7777777777777778,\"#fb9f3a\"],[0.8888888888888888,\"#fdca26\"],[1.0,\"#f0f921\"]],\"sequentialminus\":[[0.0,\"#0d0887\"],[0.1111111111111111,\"#46039f\"],[0.2222222222222222,\"#7201a8\"],[0.3333333333333333,\"#9c179e\"],[0.4444444444444444,\"#bd3786\"],[0.5555555555555556,\"#d8576b\"],[0.6666666666666666,\"#ed7953\"],[0.7777777777777778,\"#fb9f3a\"],[0.8888888888888888,\"#fdca26\"],[1.0,\"#f0f921\"]]},\"colorway\":[\"#636efa\",\"#EF553B\",\"#00cc96\",\"#ab63fa\",\"#FFA15A\",\"#19d3f3\",\"#FF6692\",\"#B6E880\",\"#FF97FF\",\"#FECB52\"],\"font\":{\"color\":\"#2a3f5f\"},\"geo\":{\"bgcolor\":\"white\",\"lakecolor\":\"white\",\"landcolor\":\"#E5ECF6\",\"showlakes\":true,\"showland\":true,\"subunitcolor\":\"white\"},\"hoverlabel\":{\"align\":\"left\"},\"hovermode\":\"closest\",\"mapbox\":{\"style\":\"light\"},\"paper_bgcolor\":\"white\",\"plot_bgcolor\":\"#E5ECF6\",\"polar\":{\"angularaxis\":{\"gridcolor\":\"white\",\"linecolor\":\"white\",\"ticks\":\"\"},\"bgcolor\":\"#E5ECF6\",\"radialaxis\":{\"gridcolor\":\"white\",\"linecolor\":\"white\",\"ticks\":\"\"}},\"scene\":{\"xaxis\":{\"backgroundcolor\":\"#E5ECF6\",\"gridcolor\":\"white\",\"gridwidth\":2,\"linecolor\":\"white\",\"showbackground\":true,\"ticks\":\"\",\"zerolinecolor\":\"white\"},\"yaxis\":{\"backgroundcolor\":\"#E5ECF6\",\"gridcolor\":\"white\",\"gridwidth\":2,\"linecolor\":\"white\",\"showbackground\":true,\"ticks\":\"\",\"zerolinecolor\":\"white\"},\"zaxis\":{\"backgroundcolor\":\"#E5ECF6\",\"gridcolor\":\"white\",\"gridwidth\":2,\"linecolor\":\"white\",\"showbackground\":true,\"ticks\":\"\",\"zerolinecolor\":\"white\"}},\"shapedefaults\":{\"line\":{\"color\":\"#2a3f5f\"}},\"ternary\":{\"aaxis\":{\"gridcolor\":\"white\",\"linecolor\":\"white\",\"ticks\":\"\"},\"baxis\":{\"gridcolor\":\"white\",\"linecolor\":\"white\",\"ticks\":\"\"},\"bgcolor\":\"#E5ECF6\",\"caxis\":{\"gridcolor\":\"white\",\"linecolor\":\"white\",\"ticks\":\"\"}},\"title\":{\"x\":0.05},\"xaxis\":{\"automargin\":true,\"gridcolor\":\"white\",\"linecolor\":\"white\",\"ticks\":\"\",\"title\":{\"standoff\":15},\"zerolinecolor\":\"white\",\"zerolinewidth\":2},\"yaxis\":{\"automargin\":true,\"gridcolor\":\"white\",\"linecolor\":\"white\",\"ticks\":\"\",\"title\":{\"standoff\":15},\"zerolinecolor\":\"white\",\"zerolinewidth\":2}}},\"scene\":{\"domain\":{\"x\":[0.0,1.0],\"y\":[0.0,1.0]},\"xaxis\":{\"title\":{\"text\":\"0\"}},\"yaxis\":{\"title\":{\"text\":\"1\"}},\"zaxis\":{\"title\":{\"text\":\"2\"}}},\"legend\":{\"title\":{\"text\":\"color\"},\"tracegroupgap\":0},\"margin\":{\"t\":60},\"height\":600,\"width\":1200},                        {\"responsive\": true}                    ).then(function(){\n",
       "                            \n",
       "var gd = document.getElementById('37299f28-6c15-4996-997e-1f16f5fa43c4');\n",
       "var x = new MutationObserver(function (mutations, observer) {{\n",
       "        var display = window.getComputedStyle(gd).display;\n",
       "        if (!display || display === 'none') {{\n",
       "            console.log([gd, 'removed!']);\n",
       "            Plotly.purge(gd);\n",
       "            observer.disconnect();\n",
       "        }}\n",
       "}});\n",
       "\n",
       "// Listen for the removal of the full notebook cells\n",
       "var notebookContainer = gd.closest('#notebook-container');\n",
       "if (notebookContainer) {{\n",
       "    x.observe(notebookContainer, {childList: true});\n",
       "}}\n",
       "\n",
       "// Listen for the clearing of the current output cell\n",
       "var outputEl = gd.closest('.output');\n",
       "if (outputEl) {{\n",
       "    x.observe(outputEl, {childList: true});\n",
       "}}\n",
       "\n",
       "                        })                };                });            </script>        </div>"
      ]
     },
     "metadata": {},
     "output_type": "display_data"
    }
   ],
   "source": [
    "std_func.pca_visualize_3d(plot_cos)"
   ]
  },
  {
   "cell_type": "markdown",
   "id": "571d4cf6",
   "metadata": {},
   "source": [
    "We can see from the above 3D plot that three industries are clustered well spread, especially state commercial banks. However, real estate and software industries are closely clustered."
   ]
  },
  {
   "cell_type": "markdown",
   "id": "f40af709",
   "metadata": {},
   "source": [
    "We can look at the explained variance of each dimension the PCA embedding of our cosine similatiry matrix produced below:"
   ]
  },
  {
   "cell_type": "code",
   "execution_count": 19,
   "id": "a089a9a5",
   "metadata": {},
   "outputs": [
    {
     "data": {
      "text/plain": [
       "array([0.43705121, 0.21549028, 0.13752174, 0.05257744, 0.03654605,\n",
       "       0.01467293, 0.00914707, 0.00835553, 0.0072873 , 0.00633825])"
      ]
     },
     "execution_count": 19,
     "metadata": {},
     "output_type": "execute_result"
    }
   ],
   "source": [
    "plot_cos[0].explained_variance_ratio_"
   ]
  },
  {
   "cell_type": "markdown",
   "id": "d7e1faf5",
   "metadata": {},
   "source": [
    "The total explained variance of the first three dimensions are:"
   ]
  },
  {
   "cell_type": "code",
   "execution_count": 20,
   "id": "b057df9e",
   "metadata": {},
   "outputs": [
    {
     "data": {
      "text/plain": [
       "0.7900632276689807"
      ]
     },
     "execution_count": 20,
     "metadata": {},
     "output_type": "execute_result"
    }
   ],
   "source": [
    "plot_cos[0].explained_variance_ratio_[0:3].sum()"
   ]
  },
  {
   "cell_type": "markdown",
   "id": "46cb1a86",
   "metadata": {},
   "source": [
    "The first three dimensions explained 79% of the total variance that exists within the data."
   ]
  }
 ],
 "metadata": {
  "kernelspec": {
   "display_name": "Python 3 (ipykernel)",
   "language": "python",
   "name": "python3"
  },
  "language_info": {
   "codemirror_mode": {
    "name": "ipython",
    "version": 3
   },
   "file_extension": ".py",
   "mimetype": "text/x-python",
   "name": "python",
   "nbconvert_exporter": "python",
   "pygments_lexer": "ipython3",
   "version": "3.9.7"
  }
 },
 "nbformat": 4,
 "nbformat_minor": 5
}

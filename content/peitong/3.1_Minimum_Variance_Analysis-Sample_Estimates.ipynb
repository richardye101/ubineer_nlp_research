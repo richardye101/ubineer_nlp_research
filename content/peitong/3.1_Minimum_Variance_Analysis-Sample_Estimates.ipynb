{
 "cells": [
  {
   "cell_type": "code",
   "execution_count": 1,
   "id": "1bcaa702",
   "metadata": {
    "tags": [
     "remove-input"
    ]
   },
   "outputs": [],
   "source": [
    "import sys\n",
    "sys.path.insert(0, '..')\n",
    "%load_ext autoreload\n",
    "%autoreload 2\n",
    "%aimport std_func\n",
    "\n",
    "# Hide warnings\n",
    "import warnings\n",
    "warnings.filterwarnings(\"ignore\")"
   ]
  },
  {
   "cell_type": "code",
   "execution_count": 2,
   "id": "ac5e5cb6",
   "metadata": {
    "tags": [
     "hide-input"
    ]
   },
   "outputs": [],
   "source": [
    "import pandas as pd\n",
    "import numpy as np\n",
    "import matplotlib.pyplot as plt\n",
    "import seaborn as sns"
   ]
  },
  {
   "cell_type": "markdown",
   "id": "d9148826",
   "metadata": {},
   "source": [
    "## Estimates from Sample Covariance"
   ]
  },
  {
   "cell_type": "markdown",
   "id": "26343f60",
   "metadata": {},
   "source": [
    "### Monthly Returns\n",
    "Since we will generate cosine similarity estimates in the next notebook using business description of companies from 2016 to 2018. We only consider monthly returns before 2019."
   ]
  },
  {
   "cell_type": "code",
   "execution_count": 3,
   "id": "66f11a5d",
   "metadata": {
    "tags": [
     "remove-input"
    ]
   },
   "outputs": [],
   "source": [
    "#returns_data = pd.read_csv('../data/returns_2018_top5_SIC.csv', \n",
    "#                      parse_dates = ['DATE'], \n",
    "#                      usecols = [\"trt1m\", \"CIK\", \"name\", \"DATE\"])"
   ]
  },
  {
   "cell_type": "code",
   "execution_count": 4,
   "id": "d054cea0",
   "metadata": {
    "tags": [
     "remove-input"
    ]
   },
   "outputs": [],
   "source": [
    "# TAKE OUT THE DATA before 2019 and reset index\n",
    "#end_date = pd.to_datetime('2019-01-01')\n",
    "#returns = returns_data.loc[returns_data['DATE'] < end_date]\n",
    "\n",
    "# drop the missing value\n",
    "#returns = returns.dropna()\n",
    "# group the data by name and date\n",
    "#group_returns = returns.groupby(['name', 'DATE'])\n",
    "# calculate the percentage return\n",
    "#group_returns_pct = group_returns.agg({\"trt1m\": (lambda x:  x/100)})\n",
    "#r_selected = group_returns_pct.unstack()\n",
    "# drop the first index\n",
    "#r_selected.columns = r_selected.columns.droplevel(0)"
   ]
  },
  {
   "cell_type": "code",
   "execution_count": 5,
   "id": "233c60c5",
   "metadata": {
    "tags": [
     "remove-input"
    ]
   },
   "outputs": [],
   "source": [
    "# there are some rows containing more than one float number (array of multiple returns)\n",
    "#for i in range(len(r_selected)):\n",
    "#    if type(r_selected.iloc[i,1]) == np.ndarray:\n",
    "#        r_selected = r_selected.drop(index = r_selected.index[i])\n",
    "# convert object to float\n",
    "#r_selected = r_selected.astype(float)\n",
    "# drop missing values rows\n",
    "#r_selected = r_selected.dropna()\n",
    "#r_selected.to_csv(\"filtered_r.csv\")\n",
    "# get the mean of all \n",
    "#mu = r_selected.mean(axis = 1)\n",
    "# compute the covariance matrix \n",
    "#cov = r_selected.T.cov()"
   ]
  },
  {
   "cell_type": "code",
   "execution_count": 6,
   "id": "89f2f46b",
   "metadata": {
    "tags": [
     "hide-input"
    ]
   },
   "outputs": [],
   "source": [
    "r_selected = pd.read_csv(\"data/filtered_r.csv\")\n",
    "# get the mean of all \n",
    "r_selected.set_index(\"name\", inplace = True)\n",
    "mu = r_selected.mean(axis = 1)\n",
    "# compute the covariance matrix \n",
    "cov = r_selected.T.cov()"
   ]
  },
  {
   "cell_type": "markdown",
   "id": "70db3425",
   "metadata": {},
   "source": [
    "### Perform Mean-Variance Analysis"
   ]
  },
  {
   "cell_type": "code",
   "execution_count": 32,
   "id": "a1bce350",
   "metadata": {
    "tags": [
     "remove-input",
     "hide-output"
    ]
   },
   "outputs": [
    {
     "name": "stdout",
     "output_type": "stream",
     "text": [
      "Requirement already satisfied: dataframe_image in /Users/lulu/opt/anaconda3/lib/python3.9/site-packages (0.1.1)\n",
      "Requirement already satisfied: pandas>=0.24 in /Users/lulu/opt/anaconda3/lib/python3.9/site-packages (from dataframe_image) (1.4.1)\n",
      "Requirement already satisfied: matplotlib>=3.1 in /Users/lulu/opt/anaconda3/lib/python3.9/site-packages (from dataframe_image) (3.5.1)\n",
      "Requirement already satisfied: requests in /Users/lulu/opt/anaconda3/lib/python3.9/site-packages (from dataframe_image) (2.27.1)\n",
      "Requirement already satisfied: beautifulsoup4 in /Users/lulu/opt/anaconda3/lib/python3.9/site-packages (from dataframe_image) (4.10.0)\n",
      "Requirement already satisfied: aiohttp in /Users/lulu/opt/anaconda3/lib/python3.9/site-packages (from dataframe_image) (3.8.1)\n",
      "Requirement already satisfied: nbconvert>=5 in /Users/lulu/opt/anaconda3/lib/python3.9/site-packages (from dataframe_image) (6.3.0)\n",
      "Requirement already satisfied: fonttools>=4.22.0 in /Users/lulu/opt/anaconda3/lib/python3.9/site-packages (from matplotlib>=3.1->dataframe_image) (4.25.0)\n",
      "Requirement already satisfied: kiwisolver>=1.0.1 in /Users/lulu/opt/anaconda3/lib/python3.9/site-packages (from matplotlib>=3.1->dataframe_image) (1.3.2)\n",
      "Requirement already satisfied: pyparsing>=2.2.1 in /Users/lulu/opt/anaconda3/lib/python3.9/site-packages (from matplotlib>=3.1->dataframe_image) (3.0.4)\n",
      "Requirement already satisfied: packaging>=20.0 in /Users/lulu/opt/anaconda3/lib/python3.9/site-packages (from matplotlib>=3.1->dataframe_image) (21.3)\n",
      "Requirement already satisfied: numpy>=1.17 in /Users/lulu/opt/anaconda3/lib/python3.9/site-packages (from matplotlib>=3.1->dataframe_image) (1.20.3)\n",
      "Requirement already satisfied: python-dateutil>=2.7 in /Users/lulu/opt/anaconda3/lib/python3.9/site-packages (from matplotlib>=3.1->dataframe_image) (2.8.2)\n",
      "Requirement already satisfied: cycler>=0.10 in /Users/lulu/opt/anaconda3/lib/python3.9/site-packages (from matplotlib>=3.1->dataframe_image) (0.11.0)\n",
      "Requirement already satisfied: pillow>=6.2.0 in /Users/lulu/opt/anaconda3/lib/python3.9/site-packages (from matplotlib>=3.1->dataframe_image) (9.0.1)\n",
      "Requirement already satisfied: mistune<2,>=0.8.1 in /Users/lulu/opt/anaconda3/lib/python3.9/site-packages (from nbconvert>=5->dataframe_image) (0.8.4)\n",
      "Requirement already satisfied: jupyterlab-pygments in /Users/lulu/opt/anaconda3/lib/python3.9/site-packages (from nbconvert>=5->dataframe_image) (0.1.2)\n",
      "Requirement already satisfied: jinja2>=2.4 in /Users/lulu/opt/anaconda3/lib/python3.9/site-packages (from nbconvert>=5->dataframe_image) (2.11.3)\n",
      "Requirement already satisfied: testpath in /Users/lulu/opt/anaconda3/lib/python3.9/site-packages (from nbconvert>=5->dataframe_image) (0.5.0)\n",
      "Requirement already satisfied: bleach in /Users/lulu/opt/anaconda3/lib/python3.9/site-packages (from nbconvert>=5->dataframe_image) (4.1.0)\n",
      "Requirement already satisfied: entrypoints>=0.2.2 in /Users/lulu/opt/anaconda3/lib/python3.9/site-packages (from nbconvert>=5->dataframe_image) (0.3)\n",
      "Requirement already satisfied: pandocfilters>=1.4.1 in /Users/lulu/opt/anaconda3/lib/python3.9/site-packages (from nbconvert>=5->dataframe_image) (1.5.0)\n",
      "Requirement already satisfied: traitlets>=5.0 in /Users/lulu/opt/anaconda3/lib/python3.9/site-packages (from nbconvert>=5->dataframe_image) (5.1.1)\n",
      "Requirement already satisfied: jupyter-core in /Users/lulu/opt/anaconda3/lib/python3.9/site-packages (from nbconvert>=5->dataframe_image) (4.9.1)\n",
      "Requirement already satisfied: pygments>=2.4.1 in /Users/lulu/opt/anaconda3/lib/python3.9/site-packages (from nbconvert>=5->dataframe_image) (2.11.2)\n",
      "Requirement already satisfied: defusedxml in /Users/lulu/opt/anaconda3/lib/python3.9/site-packages (from nbconvert>=5->dataframe_image) (0.7.1)\n",
      "Requirement already satisfied: nbformat>=4.4 in /Users/lulu/opt/anaconda3/lib/python3.9/site-packages (from nbconvert>=5->dataframe_image) (5.1.3)\n",
      "Requirement already satisfied: nbclient<0.6.0,>=0.5.0 in /Users/lulu/opt/anaconda3/lib/python3.9/site-packages (from nbconvert>=5->dataframe_image) (0.5.11)\n",
      "Requirement already satisfied: MarkupSafe>=0.23 in /Users/lulu/opt/anaconda3/lib/python3.9/site-packages (from jinja2>=2.4->nbconvert>=5->dataframe_image) (1.1.1)\n",
      "Requirement already satisfied: nest-asyncio in /Users/lulu/opt/anaconda3/lib/python3.9/site-packages (from nbclient<0.6.0,>=0.5.0->nbconvert>=5->dataframe_image) (1.5.1)\n",
      "Requirement already satisfied: jupyter-client>=6.1.5 in /Users/lulu/opt/anaconda3/lib/python3.9/site-packages (from nbclient<0.6.0,>=0.5.0->nbconvert>=5->dataframe_image) (6.1.12)\n",
      "Requirement already satisfied: pyzmq>=13 in /Users/lulu/opt/anaconda3/lib/python3.9/site-packages (from jupyter-client>=6.1.5->nbclient<0.6.0,>=0.5.0->nbconvert>=5->dataframe_image) (22.3.0)\n",
      "Requirement already satisfied: tornado>=4.1 in /Users/lulu/opt/anaconda3/lib/python3.9/site-packages (from jupyter-client>=6.1.5->nbclient<0.6.0,>=0.5.0->nbconvert>=5->dataframe_image) (6.1)\n",
      "Requirement already satisfied: ipython-genutils in /Users/lulu/opt/anaconda3/lib/python3.9/site-packages (from nbformat>=4.4->nbconvert>=5->dataframe_image) (0.2.0)\n",
      "Requirement already satisfied: jsonschema!=2.5.0,>=2.4 in /Users/lulu/opt/anaconda3/lib/python3.9/site-packages (from nbformat>=4.4->nbconvert>=5->dataframe_image) (3.2.0)\n",
      "Requirement already satisfied: six>=1.11.0 in /Users/lulu/opt/anaconda3/lib/python3.9/site-packages (from jsonschema!=2.5.0,>=2.4->nbformat>=4.4->nbconvert>=5->dataframe_image) (1.16.0)\n",
      "Requirement already satisfied: pyrsistent>=0.14.0 in /Users/lulu/opt/anaconda3/lib/python3.9/site-packages (from jsonschema!=2.5.0,>=2.4->nbformat>=4.4->nbconvert>=5->dataframe_image) (0.18.0)\n",
      "Requirement already satisfied: setuptools in /Users/lulu/opt/anaconda3/lib/python3.9/site-packages (from jsonschema!=2.5.0,>=2.4->nbformat>=4.4->nbconvert>=5->dataframe_image) (60.8.1)\n",
      "Requirement already satisfied: attrs>=17.4.0 in /Users/lulu/opt/anaconda3/lib/python3.9/site-packages (from jsonschema!=2.5.0,>=2.4->nbformat>=4.4->nbconvert>=5->dataframe_image) (21.4.0)\n",
      "Requirement already satisfied: pytz>=2020.1 in /Users/lulu/opt/anaconda3/lib/python3.9/site-packages (from pandas>=0.24->dataframe_image) (2021.3)\n",
      "Requirement already satisfied: yarl<2.0,>=1.0 in /Users/lulu/opt/anaconda3/lib/python3.9/site-packages (from aiohttp->dataframe_image) (1.7.2)\n",
      "Requirement already satisfied: frozenlist>=1.1.1 in /Users/lulu/opt/anaconda3/lib/python3.9/site-packages (from aiohttp->dataframe_image) (1.3.0)\n",
      "Requirement already satisfied: multidict<7.0,>=4.5 in /Users/lulu/opt/anaconda3/lib/python3.9/site-packages (from aiohttp->dataframe_image) (6.0.2)\n",
      "Requirement already satisfied: async-timeout<5.0,>=4.0.0a3 in /Users/lulu/opt/anaconda3/lib/python3.9/site-packages (from aiohttp->dataframe_image) (4.0.2)\n",
      "Requirement already satisfied: aiosignal>=1.1.2 in /Users/lulu/opt/anaconda3/lib/python3.9/site-packages (from aiohttp->dataframe_image) (1.2.0)\n",
      "Requirement already satisfied: charset-normalizer<3.0,>=2.0 in /Users/lulu/opt/anaconda3/lib/python3.9/site-packages (from aiohttp->dataframe_image) (2.0.4)\n",
      "Requirement already satisfied: idna>=2.0 in /Users/lulu/opt/anaconda3/lib/python3.9/site-packages (from yarl<2.0,>=1.0->aiohttp->dataframe_image) (3.3)\n",
      "Requirement already satisfied: soupsieve>1.2 in /Users/lulu/opt/anaconda3/lib/python3.9/site-packages (from beautifulsoup4->dataframe_image) (2.3.1)\n",
      "Requirement already satisfied: webencodings in /Users/lulu/opt/anaconda3/lib/python3.9/site-packages (from bleach->nbconvert>=5->dataframe_image) (0.5.1)\n",
      "Requirement already satisfied: certifi>=2017.4.17 in /Users/lulu/opt/anaconda3/lib/python3.9/site-packages (from requests->dataframe_image) (2021.10.8)\n",
      "Requirement already satisfied: urllib3<1.27,>=1.21.1 in /Users/lulu/opt/anaconda3/lib/python3.9/site-packages (from requests->dataframe_image) (1.26.8)\n",
      "Note: you may need to restart the kernel to use updated packages.\n"
     ]
    }
   ],
   "source": [
    "pip install dataframe_image"
   ]
  },
  {
   "cell_type": "code",
   "execution_count": 33,
   "id": "585c801a",
   "metadata": {
    "tags": [
     "remove-input",
     "hide-output"
    ]
   },
   "outputs": [
    {
     "name": "stdout",
     "output_type": "stream",
     "text": [
      "Requirement already satisfied: PyPortfolioOpt in /Users/lulu/opt/anaconda3/lib/python3.9/site-packages (1.5.1)\n",
      "Requirement already satisfied: pandas>=0.19 in /Users/lulu/opt/anaconda3/lib/python3.9/site-packages (from PyPortfolioOpt) (1.4.1)\n",
      "Requirement already satisfied: cvxpy<2.0.0,>=1.1.10 in /Users/lulu/opt/anaconda3/lib/python3.9/site-packages (from PyPortfolioOpt) (1.1.18)\n",
      "Requirement already satisfied: scipy<2.0,>=1.3 in /Users/lulu/opt/anaconda3/lib/python3.9/site-packages (from PyPortfolioOpt) (1.7.3)\n",
      "Requirement already satisfied: numpy<2.0,>=1.12 in /Users/lulu/opt/anaconda3/lib/python3.9/site-packages (from PyPortfolioOpt) (1.20.3)\n",
      "Requirement already satisfied: ecos>=2 in /Users/lulu/opt/anaconda3/lib/python3.9/site-packages (from cvxpy<2.0.0,>=1.1.10->PyPortfolioOpt) (2.0.10)\n",
      "Requirement already satisfied: osqp>=0.4.1 in /Users/lulu/opt/anaconda3/lib/python3.9/site-packages (from cvxpy<2.0.0,>=1.1.10->PyPortfolioOpt) (0.6.2.post5)\n",
      "Requirement already satisfied: scs>=1.1.6 in /Users/lulu/opt/anaconda3/lib/python3.9/site-packages (from cvxpy<2.0.0,>=1.1.10->PyPortfolioOpt) (3.2.0)\n",
      "Requirement already satisfied: qdldl in /Users/lulu/opt/anaconda3/lib/python3.9/site-packages (from osqp>=0.4.1->cvxpy<2.0.0,>=1.1.10->PyPortfolioOpt) (0.1.5.post0)\n",
      "Requirement already satisfied: python-dateutil>=2.8.1 in /Users/lulu/opt/anaconda3/lib/python3.9/site-packages (from pandas>=0.19->PyPortfolioOpt) (2.8.2)\n",
      "Requirement already satisfied: pytz>=2020.1 in /Users/lulu/opt/anaconda3/lib/python3.9/site-packages (from pandas>=0.19->PyPortfolioOpt) (2021.3)\n",
      "Requirement already satisfied: six>=1.5 in /Users/lulu/opt/anaconda3/lib/python3.9/site-packages (from python-dateutil>=2.8.1->pandas>=0.19->PyPortfolioOpt) (1.16.0)\n",
      "Note: you may need to restart the kernel to use updated packages.\n"
     ]
    }
   ],
   "source": [
    "pip install PyPortfolioOpt"
   ]
  },
  {
   "cell_type": "code",
   "execution_count": 8,
   "id": "f245cf2e",
   "metadata": {
    "tags": [
     "hide-input"
    ]
   },
   "outputs": [],
   "source": [
    "from pypfopt import EfficientFrontier\n",
    "from pypfopt import risk_models\n",
    "from pypfopt import expected_returns\n",
    "from pypfopt import objective_functions\n",
    "from pypfopt import plotting"
   ]
  },
  {
   "cell_type": "code",
   "execution_count": 9,
   "id": "bd7b3ef3",
   "metadata": {
    "tags": [
     "hide-input"
    ]
   },
   "outputs": [],
   "source": [
    "df = pd.read_csv('../data/preprocessed.csv',\n",
    "                 usecols = ['reportingDate', 'name', 'CIK',\n",
    "                           'coDescription_stopwords', 'SIC', 'SIC_desc'])\n",
    "df = df.set_index(df.name)"
   ]
  },
  {
   "cell_type": "code",
   "execution_count": 10,
   "id": "b9f6cdc4",
   "metadata": {
    "tags": [
     "hide-input"
    ]
   },
   "outputs": [],
   "source": [
    "# get the names of the companies in the pharmaceutical preparations industry\n",
    "Pharm = df[df.SIC == 2834]\n",
    "Pharm_list = Pharm.index"
   ]
  },
  {
   "cell_type": "code",
   "execution_count": 11,
   "id": "98c532c4",
   "metadata": {
    "scrolled": true,
    "tags": [
     "hide-input"
    ]
   },
   "outputs": [],
   "source": [
    "# get the companies name that match return data and business description data\n",
    "SET = (set(Pharm_list) & set(r_selected.index))\n",
    "LIST = [*SET, ]"
   ]
  },
  {
   "cell_type": "markdown",
   "id": "270561f4",
   "metadata": {},
   "source": [
    "#### Mean and Covariance for Returns in the Pharmaceutical Preparations Industry"
   ]
  },
  {
   "cell_type": "code",
   "execution_count": 12,
   "id": "7b6da842",
   "metadata": {
    "tags": [
     "hide-input"
    ]
   },
   "outputs": [],
   "source": [
    "mu_Pharm = mu[LIST]"
   ]
  },
  {
   "cell_type": "code",
   "execution_count": 13,
   "id": "8e72a50e",
   "metadata": {
    "tags": [
     "hide-input"
    ]
   },
   "outputs": [],
   "source": [
    "tmp = cov[LIST].T\n",
    "cov_Pharm = tmp[LIST]"
   ]
  },
  {
   "cell_type": "markdown",
   "id": "db23e564",
   "metadata": {},
   "source": [
    "### Minmum Volatility Portfolio Weights "
   ]
  },
  {
   "cell_type": "markdown",
   "id": "fc1b6a4c",
   "metadata": {},
   "source": [
    "#### Comparing sample mean and covariance"
   ]
  },
  {
   "cell_type": "code",
   "execution_count": 14,
   "id": "7429ef48",
   "metadata": {
    "tags": [
     "hide-input"
    ]
   },
   "outputs": [
    {
     "data": {
      "image/png": "[encoded data removed]",
      "text/plain": [
       "<Figure size 432x288 with 1 Axes>"
      ]
     },
     "metadata": {
      "needs_background": "light"
     },
     "output_type": "display_data"
    }
   ],
   "source": [
    "ef1 = EfficientFrontier(mu_Pharm, cov_Pharm, weight_bounds=(0, 0.2))\n",
    "\n",
    "fig, ax = plt.subplots()\n",
    "plotting.plot_efficient_frontier(ef1, ax=ax, show_assets=True)\n",
    "\n",
    "# Find and plot the tangency portfolio\n",
    "ef2 = EfficientFrontier(mu_Pharm, cov_Pharm, weight_bounds=(0, 0.2))\n",
    "# min volatility\n",
    "ef2.min_volatility()\n",
    "ret_tangent, std_tangent, _ = ef2.portfolio_performance()\n",
    "ax.scatter(std_tangent, ret_tangent, marker=\"*\", s=100, c=\"r\", label=\"Min Volatility\")\n",
    "\n",
    "# Format\n",
    "ax.set_title(\"Efficient Frontier - Pharmaceutical Preparations \\n Sample Covariance Estimates\")\n",
    "ax.legend()\n",
    "plt.tight_layout()\n",
    "plt.savefig('images/Efficient_Frontier_Returns.png', dpi=200, bbox_inches='tight')\n",
    "plt.show()"
   ]
  },
  {
   "cell_type": "markdown",
   "id": "342e7542",
   "metadata": {},
   "source": [
    "##### min volatility"
   ]
  },
  {
   "cell_type": "code",
   "execution_count": 15,
   "id": "b34e4df3",
   "metadata": {
    "tags": [
     "hide-input"
    ]
   },
   "outputs": [
    {
     "name": "stdout",
     "output_type": "stream",
     "text": [
      "Expected annual return: 1.2%\n",
      "Annual volatility: 2.1%\n",
      "Sharpe Ratio: -0.35\n"
     ]
    }
   ],
   "source": [
    "ef2.portfolio_performance(verbose=True);"
   ]
  },
  {
   "cell_type": "code",
   "execution_count": 16,
   "id": "2251dc5e",
   "metadata": {
    "tags": [
     "remove-input"
    ]
   },
   "outputs": [],
   "source": [
    "companies = []\n",
    "weights = []\n",
    "for company, weight in ef2.clean_weights().items():\n",
    "    if weight != 0:\n",
    "        companies.append(company)\n",
    "        weights.append(weight)"
   ]
  },
  {
   "cell_type": "code",
   "execution_count": 17,
   "id": "07b18fbf",
   "metadata": {
    "tags": [
     "remove-input"
    ]
   },
   "outputs": [
    {
     "name": "stderr",
     "output_type": "stream",
     "text": [
      "[0417/202845.573533:INFO:headless_shell.cc(659)] Written to file /var/folders/6t/0lh6qmkn1zg8fhlp984cpxrr0000gn/T/tmptebvz039/temp.png.\n"
     ]
    }
   ],
   "source": [
    "dic = {'Company_Name':companies,'Weight':weights}\n",
    "min_vol = pd.DataFrame(dic)\n",
    "min_vol.to_csv(\"data/min_vol_returns.csv\")\n",
    "import dataframe_image as dfi\n",
    "min_vol.dfi.export('images/min_vol_returns.png')"
   ]
  },
  {
   "cell_type": "code",
   "execution_count": 18,
   "id": "162bb1f9",
   "metadata": {
    "tags": [
     "hide-input"
    ]
   },
   "outputs": [
    {
     "data": {
      "text/html": [
       "<div>\n",
       "<style scoped>\n",
       "    .dataframe tbody tr th:only-of-type {\n",
       "        vertical-align: middle;\n",
       "    }\n",
       "\n",
       "    .dataframe tbody tr th {\n",
       "        vertical-align: top;\n",
       "    }\n",
       "\n",
       "    .dataframe thead th {\n",
       "        text-align: right;\n",
       "    }\n",
       "</style>\n",
       "<table border=\"1\" class=\"dataframe\">\n",
       "  <thead>\n",
       "    <tr style=\"text-align: right;\">\n",
       "      <th></th>\n",
       "      <th>Company_Name</th>\n",
       "      <th>Weight</th>\n",
       "    </tr>\n",
       "  </thead>\n",
       "  <tbody>\n",
       "    <tr>\n",
       "      <th>0</th>\n",
       "      <td>IMPRIMIS PHARMACEUTICALS, INC.</td>\n",
       "      <td>0.04181</td>\n",
       "    </tr>\n",
       "    <tr>\n",
       "      <th>1</th>\n",
       "      <td>BRISTOL MYERS SQUIBB CO</td>\n",
       "      <td>0.12824</td>\n",
       "    </tr>\n",
       "    <tr>\n",
       "      <th>2</th>\n",
       "      <td>LIPOCINE INC.</td>\n",
       "      <td>0.00683</td>\n",
       "    </tr>\n",
       "    <tr>\n",
       "      <th>3</th>\n",
       "      <td>BIODELIVERY SCIENCES INTERNATIONAL INC</td>\n",
       "      <td>0.03680</td>\n",
       "    </tr>\n",
       "    <tr>\n",
       "      <th>4</th>\n",
       "      <td>STEMLINE THERAPEUTICS INC</td>\n",
       "      <td>0.04273</td>\n",
       "    </tr>\n",
       "    <tr>\n",
       "      <th>5</th>\n",
       "      <td>PFENEX INC.</td>\n",
       "      <td>0.03777</td>\n",
       "    </tr>\n",
       "    <tr>\n",
       "      <th>6</th>\n",
       "      <td>CYTOMX THERAPEUTICS, INC.</td>\n",
       "      <td>0.00520</td>\n",
       "    </tr>\n",
       "    <tr>\n",
       "      <th>7</th>\n",
       "      <td>XENON PHARMACEUTICALS INC.</td>\n",
       "      <td>0.01350</td>\n",
       "    </tr>\n",
       "    <tr>\n",
       "      <th>8</th>\n",
       "      <td>VTV THERAPEUTICS INC.</td>\n",
       "      <td>0.02372</td>\n",
       "    </tr>\n",
       "    <tr>\n",
       "      <th>9</th>\n",
       "      <td>ARATANA THERAPEUTICS, INC.</td>\n",
       "      <td>0.03678</td>\n",
       "    </tr>\n",
       "    <tr>\n",
       "      <th>10</th>\n",
       "      <td>CHEMBIO DIAGNOSTICS, INC.</td>\n",
       "      <td>0.02843</td>\n",
       "    </tr>\n",
       "    <tr>\n",
       "      <th>11</th>\n",
       "      <td>PROPHASE LABS, INC.</td>\n",
       "      <td>0.05120</td>\n",
       "    </tr>\n",
       "    <tr>\n",
       "      <th>12</th>\n",
       "      <td>JOHNSON &amp; JOHNSON</td>\n",
       "      <td>0.17878</td>\n",
       "    </tr>\n",
       "    <tr>\n",
       "      <th>13</th>\n",
       "      <td>HEAT BIOLOGICS, INC.</td>\n",
       "      <td>0.00297</td>\n",
       "    </tr>\n",
       "    <tr>\n",
       "      <th>14</th>\n",
       "      <td>ASSEMBLY BIOSCIENCES, INC.</td>\n",
       "      <td>0.05775</td>\n",
       "    </tr>\n",
       "    <tr>\n",
       "      <th>15</th>\n",
       "      <td>ORAMED PHARMACEUTICALS INC.</td>\n",
       "      <td>0.04982</td>\n",
       "    </tr>\n",
       "    <tr>\n",
       "      <th>16</th>\n",
       "      <td>RECRO PHARMA, INC.</td>\n",
       "      <td>0.02010</td>\n",
       "    </tr>\n",
       "    <tr>\n",
       "      <th>17</th>\n",
       "      <td>ACHAOGEN INC</td>\n",
       "      <td>0.00515</td>\n",
       "    </tr>\n",
       "    <tr>\n",
       "      <th>18</th>\n",
       "      <td>MERCK &amp; CO., INC.</td>\n",
       "      <td>0.20000</td>\n",
       "    </tr>\n",
       "    <tr>\n",
       "      <th>19</th>\n",
       "      <td>ZOETIS INC.</td>\n",
       "      <td>0.01195</td>\n",
       "    </tr>\n",
       "    <tr>\n",
       "      <th>20</th>\n",
       "      <td>MANNKIND CORP</td>\n",
       "      <td>0.02048</td>\n",
       "    </tr>\n",
       "  </tbody>\n",
       "</table>\n",
       "</div>"
      ],
      "text/plain": [
       "                              Company_Name   Weight\n",
       "0           IMPRIMIS PHARMACEUTICALS, INC.  0.04181\n",
       "1                  BRISTOL MYERS SQUIBB CO  0.12824\n",
       "2                            LIPOCINE INC.  0.00683\n",
       "3   BIODELIVERY SCIENCES INTERNATIONAL INC  0.03680\n",
       "4                STEMLINE THERAPEUTICS INC  0.04273\n",
       "5                              PFENEX INC.  0.03777\n",
       "6                CYTOMX THERAPEUTICS, INC.  0.00520\n",
       "7               XENON PHARMACEUTICALS INC.  0.01350\n",
       "8                    VTV THERAPEUTICS INC.  0.02372\n",
       "9               ARATANA THERAPEUTICS, INC.  0.03678\n",
       "10               CHEMBIO DIAGNOSTICS, INC.  0.02843\n",
       "11                     PROPHASE LABS, INC.  0.05120\n",
       "12                       JOHNSON & JOHNSON  0.17878\n",
       "13                    HEAT BIOLOGICS, INC.  0.00297\n",
       "14              ASSEMBLY BIOSCIENCES, INC.  0.05775\n",
       "15             ORAMED PHARMACEUTICALS INC.  0.04982\n",
       "16                      RECRO PHARMA, INC.  0.02010\n",
       "17                            ACHAOGEN INC  0.00515\n",
       "18                       MERCK & CO., INC.  0.20000\n",
       "19                             ZOETIS INC.  0.01195\n",
       "20                           MANNKIND CORP  0.02048"
      ]
     },
     "execution_count": 18,
     "metadata": {},
     "output_type": "execute_result"
    }
   ],
   "source": [
    "min_vol"
   ]
  },
  {
   "cell_type": "markdown",
   "id": "d1959343",
   "metadata": {},
   "source": [
    "### Get results for the other 4 industries"
   ]
  },
  {
   "cell_type": "code",
   "execution_count": 19,
   "id": "be7bbb78",
   "metadata": {
    "tags": [
     "remove-input"
    ]
   },
   "outputs": [],
   "source": [
    "SIC_list = [7372, 1311, 6798, 6022]\n",
    "SIC_desc = ['Prepackaged Software (mass reproduction of software)', 'Crude Petroleum and Natural Gas', \n",
    "           'Real Estate Investment Trusts', 'State Commercial Banks (commercial banking)']"
   ]
  },
  {
   "cell_type": "markdown",
   "id": "b647a7f7",
   "metadata": {},
   "source": [
    "#### Real Estate Investment Trusts"
   ]
  },
  {
   "cell_type": "code",
   "execution_count": 20,
   "id": "2548ca70",
   "metadata": {
    "tags": [
     "remove-input"
    ]
   },
   "outputs": [
    {
     "data": {
      "image/png": "[encoded data removed]",
      "text/plain": [
       "<Figure size 432x288 with 1 Axes>"
      ]
     },
     "metadata": {
      "needs_background": "light"
     },
     "output_type": "display_data"
    }
   ],
   "source": [
    "SIC = SIC_list[2]\n",
    "    \n",
    "industry_name = SIC_desc[SIC_list.index(SIC)]\n",
    "    \n",
    "# get the names of the companies in the other industries\n",
    "Companies = df[df.SIC == SIC]\n",
    "Company_list = Companies.index\n",
    "\n",
    "# get the companies name that match return data and business description data\n",
    "SET = (set(Company_list) & set(r_selected.index))\n",
    "LIST = [*SET, ]\n",
    "\n",
    "mu_sample = mu[LIST]\n",
    "# get the outliers\n",
    "outlier = mu_sample[mu_sample>1].index\n",
    "mu_sample = mu_sample.drop(outlier)\n",
    "LIST = mu_sample.index\n",
    "\n",
    "tmp = cov[LIST].T\n",
    "cov_sample = tmp[LIST]\n",
    "\n",
    "# perform minimum variance analysis\n",
    "ef1 = EfficientFrontier(mu_sample, cov_sample, weight_bounds=(0, 0.2))\n",
    "\n",
    "fig, ax = plt.subplots()\n",
    "plotting.plot_efficient_frontier(ef1, ax=ax, show_assets=True)\n",
    "\n",
    "# Find and plot the tangency portfolio\n",
    "ef2 = EfficientFrontier(mu_sample, cov_sample, weight_bounds=(0, 0.2))\n",
    "# min volatility\n",
    "ef2.min_volatility()\n",
    "ret_tangent, std_tangent, _ = ef2.portfolio_performance()\n",
    "ax.scatter(std_tangent, ret_tangent, marker=\"*\", s=100, c=\"r\", label=\"Min Volatility\")\n",
    "\n",
    "# Format\n",
    "ax.set_title(\"Efficient Frontier - %s \\n Sample Covariance Estimates\" %industry_name)\n",
    "ax.legend()\n",
    "plt.tight_layout()\n",
    "plt.savefig('images/Efficient_Frontier_Sample_Covariance_Estimates' + str(industry_name) + '.png', dpi=200, bbox_inches='tight')\n",
    "plt.show()"
   ]
  },
  {
   "cell_type": "markdown",
   "id": "460672e3",
   "metadata": {},
   "source": [
    "##### min volatility"
   ]
  },
  {
   "cell_type": "code",
   "execution_count": 21,
   "id": "85ee33ba",
   "metadata": {
    "tags": [
     "remove-input"
    ]
   },
   "outputs": [
    {
     "name": "stdout",
     "output_type": "stream",
     "text": [
      "Expected annual return: 0.5%\n",
      "Annual volatility: 1.8%\n",
      "Sharpe Ratio: -0.80\n"
     ]
    }
   ],
   "source": [
    "ef2.portfolio_performance(verbose=True);"
   ]
  },
  {
   "cell_type": "code",
   "execution_count": 22,
   "id": "b0700de7",
   "metadata": {
    "tags": [
     "remove-input"
    ]
   },
   "outputs": [],
   "source": [
    "companies = []\n",
    "weights = []\n",
    "for company, weight in ef2.clean_weights().items():\n",
    "    if weight != 0:\n",
    "        companies.append(company)\n",
    "        weights.append(weight)"
   ]
  },
  {
   "cell_type": "code",
   "execution_count": 23,
   "id": "2237640e",
   "metadata": {
    "scrolled": true,
    "tags": [
     "remove-input"
    ]
   },
   "outputs": [
    {
     "name": "stderr",
     "output_type": "stream",
     "text": [
      "[0417/202850.610803:INFO:headless_shell.cc(659)] Written to file /var/folders/6t/0lh6qmkn1zg8fhlp984cpxrr0000gn/T/tmpnx60vq06/temp.png.\n"
     ]
    },
    {
     "data": {
      "text/html": [
       "<div>\n",
       "<style scoped>\n",
       "    .dataframe tbody tr th:only-of-type {\n",
       "        vertical-align: middle;\n",
       "    }\n",
       "\n",
       "    .dataframe tbody tr th {\n",
       "        vertical-align: top;\n",
       "    }\n",
       "\n",
       "    .dataframe thead th {\n",
       "        text-align: right;\n",
       "    }\n",
       "</style>\n",
       "<table border=\"1\" class=\"dataframe\">\n",
       "  <thead>\n",
       "    <tr style=\"text-align: right;\">\n",
       "      <th></th>\n",
       "      <th>Company_Name</th>\n",
       "      <th>Weight</th>\n",
       "    </tr>\n",
       "  </thead>\n",
       "  <tbody>\n",
       "    <tr>\n",
       "      <th>0</th>\n",
       "      <td>MANHATTAN BRIDGE CAPITAL, INC</td>\n",
       "      <td>0.01483</td>\n",
       "    </tr>\n",
       "    <tr>\n",
       "      <th>1</th>\n",
       "      <td>IMPAC MORTGAGE HOLDINGS INC</td>\n",
       "      <td>0.05108</td>\n",
       "    </tr>\n",
       "    <tr>\n",
       "      <th>2</th>\n",
       "      <td>CROWN CASTLE INTERNATIONAL CORP</td>\n",
       "      <td>0.04875</td>\n",
       "    </tr>\n",
       "    <tr>\n",
       "      <th>3</th>\n",
       "      <td>GREAT AJAX CORP.</td>\n",
       "      <td>0.20000</td>\n",
       "    </tr>\n",
       "    <tr>\n",
       "      <th>4</th>\n",
       "      <td>LADDER CAPITAL CORP</td>\n",
       "      <td>0.04420</td>\n",
       "    </tr>\n",
       "    <tr>\n",
       "      <th>5</th>\n",
       "      <td>BRT APARTMENTS CORP.</td>\n",
       "      <td>0.01724</td>\n",
       "    </tr>\n",
       "    <tr>\n",
       "      <th>6</th>\n",
       "      <td>ARES COMMERCIAL REAL ESTATE CORP</td>\n",
       "      <td>0.09107</td>\n",
       "    </tr>\n",
       "    <tr>\n",
       "      <th>7</th>\n",
       "      <td>PUBLIC STORAGE</td>\n",
       "      <td>0.10938</td>\n",
       "    </tr>\n",
       "    <tr>\n",
       "      <th>8</th>\n",
       "      <td>HMG COURTLAND PROPERTIES INC</td>\n",
       "      <td>0.12513</td>\n",
       "    </tr>\n",
       "    <tr>\n",
       "      <th>9</th>\n",
       "      <td>ALEXANDERS INC</td>\n",
       "      <td>0.02285</td>\n",
       "    </tr>\n",
       "    <tr>\n",
       "      <th>10</th>\n",
       "      <td>NEW YORK MORTGAGE TRUST INC</td>\n",
       "      <td>0.02084</td>\n",
       "    </tr>\n",
       "    <tr>\n",
       "      <th>11</th>\n",
       "      <td>EQUITY COMMONWEALTH</td>\n",
       "      <td>0.20000</td>\n",
       "    </tr>\n",
       "    <tr>\n",
       "      <th>12</th>\n",
       "      <td>CIM COMMERCIAL TRUST CORP</td>\n",
       "      <td>0.05461</td>\n",
       "    </tr>\n",
       "  </tbody>\n",
       "</table>\n",
       "</div>"
      ],
      "text/plain": [
       "                        Company_Name   Weight\n",
       "0      MANHATTAN BRIDGE CAPITAL, INC  0.01483\n",
       "1        IMPAC MORTGAGE HOLDINGS INC  0.05108\n",
       "2    CROWN CASTLE INTERNATIONAL CORP  0.04875\n",
       "3                   GREAT AJAX CORP.  0.20000\n",
       "4                LADDER CAPITAL CORP  0.04420\n",
       "5               BRT APARTMENTS CORP.  0.01724\n",
       "6   ARES COMMERCIAL REAL ESTATE CORP  0.09107\n",
       "7                     PUBLIC STORAGE  0.10938\n",
       "8       HMG COURTLAND PROPERTIES INC  0.12513\n",
       "9                     ALEXANDERS INC  0.02285\n",
       "10       NEW YORK MORTGAGE TRUST INC  0.02084\n",
       "11               EQUITY COMMONWEALTH  0.20000\n",
       "12         CIM COMMERCIAL TRUST CORP  0.05461"
      ]
     },
     "execution_count": 23,
     "metadata": {},
     "output_type": "execute_result"
    }
   ],
   "source": [
    "dic = {'Company_Name':companies,'Weight':weights}\n",
    "min_vol = pd.DataFrame(dic)\n",
    "min_vol.to_csv(\"data/min_vol_sample\" + str(industry_name) + \".csv\")\n",
    "import dataframe_image as dfi\n",
    "min_vol.dfi.export('images/min_vol_sample' + str(industry_name) + '.png')\n",
    "min_vol"
   ]
  },
  {
   "cell_type": "markdown",
   "id": "2969d194",
   "metadata": {},
   "source": [
    "#### State Commercial Banks (commercial banking)"
   ]
  },
  {
   "cell_type": "code",
   "execution_count": 24,
   "id": "d5f19af6",
   "metadata": {
    "tags": [
     "remove-input"
    ]
   },
   "outputs": [
    {
     "data": {
      "image/png": "[encoded data removed]",
      "text/plain": [
       "<Figure size 432x288 with 1 Axes>"
      ]
     },
     "metadata": {
      "needs_background": "light"
     },
     "output_type": "display_data"
    }
   ],
   "source": [
    "SIC = SIC_list[3]\n",
    "    \n",
    "industry_name = SIC_desc[SIC_list.index(SIC)]\n",
    "    \n",
    "# get the names of the companies in the other industries\n",
    "Companies = df[df.SIC == SIC]\n",
    "Company_list = Companies.index\n",
    "\n",
    "# get the companies name that match return data and business description data\n",
    "SET = (set(Company_list) & set(r_selected.index))\n",
    "LIST = [*SET, ]\n",
    "\n",
    "mu_sample = mu[LIST]\n",
    "# get the outliers\n",
    "outlier = mu_sample[mu_sample>1].index\n",
    "mu_sample = mu_sample.drop(outlier)\n",
    "LIST = mu_sample.index\n",
    "\n",
    "tmp = cov[LIST].T\n",
    "cov_sample = tmp[LIST]\n",
    "\n",
    "# perform minimum variance analysis\n",
    "ef1 = EfficientFrontier(mu_sample, cov_sample, weight_bounds=(0, 0.2))\n",
    "\n",
    "fig, ax = plt.subplots()\n",
    "plotting.plot_efficient_frontier(ef1, ax=ax, show_assets=True)\n",
    "\n",
    "# Find and plot the tangency portfolio\n",
    "ef2 = EfficientFrontier(mu_sample, cov_sample, weight_bounds=(0, 0.2))\n",
    "# min volatility\n",
    "ef2.min_volatility()\n",
    "ret_tangent, std_tangent, _ = ef2.portfolio_performance()\n",
    "ax.scatter(std_tangent, ret_tangent, marker=\"*\", s=100, c=\"r\", label=\"Min Volatility\")\n",
    "\n",
    "# Format\n",
    "ax.set_title(\"Efficient Frontier - %s \\n Sample Covariance Estimates\" %industry_name)\n",
    "ax.legend()\n",
    "plt.tight_layout()\n",
    "plt.savefig('images/Efficient_Frontier_Sample_Covariance_Estimates' + str(industry_name) + '.png', dpi=200, bbox_inches='tight')\n",
    "plt.show()"
   ]
  },
  {
   "cell_type": "markdown",
   "id": "16606fec",
   "metadata": {},
   "source": [
    "##### min volatility"
   ]
  },
  {
   "cell_type": "code",
   "execution_count": 25,
   "id": "20cfa5e9",
   "metadata": {
    "tags": [
     "remove-input"
    ]
   },
   "outputs": [
    {
     "name": "stdout",
     "output_type": "stream",
     "text": [
      "Expected annual return: 1.2%\n",
      "Annual volatility: 2.7%\n",
      "Sharpe Ratio: -0.28\n"
     ]
    }
   ],
   "source": [
    "ef2.portfolio_performance(verbose=True);"
   ]
  },
  {
   "cell_type": "code",
   "execution_count": 26,
   "id": "46b5d7b2",
   "metadata": {
    "tags": [
     "remove-input"
    ]
   },
   "outputs": [],
   "source": [
    "companies = []\n",
    "weights = []\n",
    "for company, weight in ef2.clean_weights().items():\n",
    "    if weight != 0:\n",
    "        companies.append(company)\n",
    "        weights.append(weight)"
   ]
  },
  {
   "cell_type": "code",
   "execution_count": 27,
   "id": "82c91ad1",
   "metadata": {
    "tags": [
     "remove-input"
    ]
   },
   "outputs": [
    {
     "name": "stderr",
     "output_type": "stream",
     "text": [
      "[0417/202855.618753:INFO:headless_shell.cc(659)] Written to file /var/folders/6t/0lh6qmkn1zg8fhlp984cpxrr0000gn/T/tmpw2c8q0h3/temp.png.\n"
     ]
    },
    {
     "data": {
      "text/html": [
       "<div>\n",
       "<style scoped>\n",
       "    .dataframe tbody tr th:only-of-type {\n",
       "        vertical-align: middle;\n",
       "    }\n",
       "\n",
       "    .dataframe tbody tr th {\n",
       "        vertical-align: top;\n",
       "    }\n",
       "\n",
       "    .dataframe thead th {\n",
       "        text-align: right;\n",
       "    }\n",
       "</style>\n",
       "<table border=\"1\" class=\"dataframe\">\n",
       "  <thead>\n",
       "    <tr style=\"text-align: right;\">\n",
       "      <th></th>\n",
       "      <th>Company_Name</th>\n",
       "      <th>Weight</th>\n",
       "    </tr>\n",
       "  </thead>\n",
       "  <tbody>\n",
       "    <tr>\n",
       "      <th>0</th>\n",
       "      <td>CITIZENS &amp; NORTHERN CORP</td>\n",
       "      <td>0.05375</td>\n",
       "    </tr>\n",
       "    <tr>\n",
       "      <th>1</th>\n",
       "      <td>FAUQUIER BANKSHARES, INC.</td>\n",
       "      <td>0.02143</td>\n",
       "    </tr>\n",
       "    <tr>\n",
       "      <th>2</th>\n",
       "      <td>FIRST COMMUNITY CORP /SC/</td>\n",
       "      <td>0.05076</td>\n",
       "    </tr>\n",
       "    <tr>\n",
       "      <th>3</th>\n",
       "      <td>INVESTAR HOLDING CORP</td>\n",
       "      <td>0.19440</td>\n",
       "    </tr>\n",
       "    <tr>\n",
       "      <th>4</th>\n",
       "      <td>VILLAGE BANK &amp; TRUST FINANCIAL CORP.</td>\n",
       "      <td>0.13994</td>\n",
       "    </tr>\n",
       "    <tr>\n",
       "      <th>5</th>\n",
       "      <td>MACKINAC FINANCIAL CORP /MI/</td>\n",
       "      <td>0.02478</td>\n",
       "    </tr>\n",
       "    <tr>\n",
       "      <th>6</th>\n",
       "      <td>BANK OF NEW YORK MELLON CORP</td>\n",
       "      <td>0.09533</td>\n",
       "    </tr>\n",
       "    <tr>\n",
       "      <th>7</th>\n",
       "      <td>GUARANTY FEDERAL BANCSHARES INC</td>\n",
       "      <td>0.17724</td>\n",
       "    </tr>\n",
       "    <tr>\n",
       "      <th>8</th>\n",
       "      <td>CAROLINA TRUST BANCSHARES, INC.</td>\n",
       "      <td>0.11786</td>\n",
       "    </tr>\n",
       "    <tr>\n",
       "      <th>9</th>\n",
       "      <td>BANK OF THE JAMES FINANCIAL GROUP INC</td>\n",
       "      <td>0.00178</td>\n",
       "    </tr>\n",
       "    <tr>\n",
       "      <th>10</th>\n",
       "      <td>RELIANT BANCORP, INC.</td>\n",
       "      <td>0.12273</td>\n",
       "    </tr>\n",
       "  </tbody>\n",
       "</table>\n",
       "</div>"
      ],
      "text/plain": [
       "                             Company_Name   Weight\n",
       "0                CITIZENS & NORTHERN CORP  0.05375\n",
       "1               FAUQUIER BANKSHARES, INC.  0.02143\n",
       "2               FIRST COMMUNITY CORP /SC/  0.05076\n",
       "3                   INVESTAR HOLDING CORP  0.19440\n",
       "4    VILLAGE BANK & TRUST FINANCIAL CORP.  0.13994\n",
       "5            MACKINAC FINANCIAL CORP /MI/  0.02478\n",
       "6            BANK OF NEW YORK MELLON CORP  0.09533\n",
       "7         GUARANTY FEDERAL BANCSHARES INC  0.17724\n",
       "8         CAROLINA TRUST BANCSHARES, INC.  0.11786\n",
       "9   BANK OF THE JAMES FINANCIAL GROUP INC  0.00178\n",
       "10                  RELIANT BANCORP, INC.  0.12273"
      ]
     },
     "execution_count": 27,
     "metadata": {},
     "output_type": "execute_result"
    }
   ],
   "source": [
    "dic = {'Company_Name':companies,'Weight':weights}\n",
    "min_vol = pd.DataFrame(dic)\n",
    "min_vol.to_csv(\"data/min_vol_sample\" + str(industry_name) + \".csv\")\n",
    "import dataframe_image as dfi\n",
    "min_vol.dfi.export('images/min_vol_sample' + str(industry_name) + '.png')\n",
    "min_vol"
   ]
  }
 ],
 "metadata": {
  "celltoolbar": "Edit Metadata",
  "kernelspec": {
   "display_name": "Python 3 (ipykernel)",
   "language": "python",
   "name": "python3"
  },
  "language_info": {
   "codemirror_mode": {
    "name": "ipython",
    "version": 3
   },
   "file_extension": ".py",
   "mimetype": "text/x-python",
   "name": "python",
   "nbconvert_exporter": "python",
   "pygments_lexer": "ipython3",
   "version": "3.9.7"
  }
 },
 "nbformat": 4,
 "nbformat_minor": 5
}

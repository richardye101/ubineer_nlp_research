{
 "cells": [
  {
   "cell_type": "code",
   "execution_count": 1,
   "id": "1bcaa702",
   "metadata": {
    "tags": [
     "remove-input"
    ]
   },
   "outputs": [],
   "source": [
    "import sys\n",
    "sys.path.insert(0, '..')\n",
    "%load_ext autoreload\n",
    "%autoreload 2\n",
    "%aimport std_func\n",
    "\n",
    "# Hide warnings\n",
    "import warnings\n",
    "warnings.filterwarnings(\"ignore\")"
   ]
  },
  {
   "cell_type": "markdown",
   "id": "d9148826",
   "metadata": {},
   "source": [
    "## Estimates from Sample Covariance\n",
    "\n",
    "The portfolios we constructed in this notebook serve as reference to the portfolios using cosine similarity estimates and factor model estimates. Here, we simply use the sample return and sample covariance to generate portfolios for each industry."
   ]
  },
  {
   "cell_type": "code",
   "execution_count": 2,
   "id": "12347323",
   "metadata": {
    "tags": [
     "hide-input"
    ]
   },
   "outputs": [],
   "source": [
    "import pandas as pd\n",
    "import numpy as np\n",
    "import matplotlib.pyplot as plt\n",
    "import seaborn as sns"
   ]
  },
  {
   "cell_type": "code",
   "execution_count": 3,
   "id": "89f2f46b",
   "metadata": {
    "tags": [
     "hide-input"
    ]
   },
   "outputs": [],
   "source": [
    "r_selected = pd.read_csv(\"data/filtered_r.csv\")\n",
    "# get the mean of all \n",
    "r_selected.set_index(\"name\", inplace = True)\n",
    "mu = r_selected.mean(axis = 1)\n",
    "# compute the covariance matrix \n",
    "cov = r_selected.T.cov()"
   ]
  },
  {
   "cell_type": "markdown",
   "id": "70db3425",
   "metadata": {},
   "source": [
    "### Perform Mean-Variance Analysis\n",
    "We will use one industry per time to generate a minimum-variance portfolio. In our demonstration of mean-variance analysis process, we use the industry `pharmaceutical preparations` whose SIC code is `2834`. At the end, we will show the results for other industries. \n",
    "\n",
    "We first get the name list of `pharmaceutical preparations` companies and match the names with the companies in returns data. Then, we get the sample mean and sample covariance for this specific industry. We get the efficient frontier, the set of optimal portfolios, for the industry; and recognize the minimum-variance portfolio with its performance and its weights for selected companies."
   ]
  },
  {
   "cell_type": "code",
   "execution_count": 4,
   "id": "a1bce350",
   "metadata": {
    "scrolled": true,
    "tags": [
     "remove-input",
     "remove-output"
    ]
   },
   "outputs": [],
   "source": [
    "#!pip install dataframe_image"
   ]
  },
  {
   "cell_type": "code",
   "execution_count": 5,
   "id": "585c801a",
   "metadata": {
    "tags": [
     "remove-input",
     "remove-output"
    ]
   },
   "outputs": [
    {
     "name": "stdout",
     "output_type": "stream",
     "text": [
      "Requirement already satisfied: PyPortfolioOpt in /Users/lulu/opt/anaconda3/lib/python3.9/site-packages (1.5.1)\n",
      "Requirement already satisfied: pandas>=0.19 in /Users/lulu/opt/anaconda3/lib/python3.9/site-packages (from PyPortfolioOpt) (1.4.1)\n",
      "Requirement already satisfied: scipy<2.0,>=1.3 in /Users/lulu/opt/anaconda3/lib/python3.9/site-packages (from PyPortfolioOpt) (1.7.3)\n",
      "Requirement already satisfied: numpy<2.0,>=1.12 in /Users/lulu/opt/anaconda3/lib/python3.9/site-packages (from PyPortfolioOpt) (1.20.3)\n",
      "Requirement already satisfied: cvxpy<2.0.0,>=1.1.10 in /Users/lulu/opt/anaconda3/lib/python3.9/site-packages (from PyPortfolioOpt) (1.1.18)\n",
      "Requirement already satisfied: scs>=1.1.6 in /Users/lulu/opt/anaconda3/lib/python3.9/site-packages (from cvxpy<2.0.0,>=1.1.10->PyPortfolioOpt) (3.2.0)\n",
      "Requirement already satisfied: ecos>=2 in /Users/lulu/opt/anaconda3/lib/python3.9/site-packages (from cvxpy<2.0.0,>=1.1.10->PyPortfolioOpt) (2.0.10)\n",
      "Requirement already satisfied: osqp>=0.4.1 in /Users/lulu/opt/anaconda3/lib/python3.9/site-packages (from cvxpy<2.0.0,>=1.1.10->PyPortfolioOpt) (0.6.2.post5)\n",
      "Requirement already satisfied: qdldl in /Users/lulu/opt/anaconda3/lib/python3.9/site-packages (from osqp>=0.4.1->cvxpy<2.0.0,>=1.1.10->PyPortfolioOpt) (0.1.5.post0)\n",
      "Requirement already satisfied: python-dateutil>=2.8.1 in /Users/lulu/opt/anaconda3/lib/python3.9/site-packages (from pandas>=0.19->PyPortfolioOpt) (2.8.2)\n",
      "Requirement already satisfied: pytz>=2020.1 in /Users/lulu/opt/anaconda3/lib/python3.9/site-packages (from pandas>=0.19->PyPortfolioOpt) (2021.3)\n",
      "Requirement already satisfied: six>=1.5 in /Users/lulu/opt/anaconda3/lib/python3.9/site-packages (from python-dateutil>=2.8.1->pandas>=0.19->PyPortfolioOpt) (1.16.0)\n"
     ]
    }
   ],
   "source": [
    "!pip install PyPortfolioOpt"
   ]
  },
  {
   "cell_type": "code",
   "execution_count": 6,
   "id": "f245cf2e",
   "metadata": {
    "tags": [
     "hide-input"
    ]
   },
   "outputs": [],
   "source": [
    "from pypfopt import EfficientFrontier\n",
    "from pypfopt import risk_models\n",
    "from pypfopt import expected_returns\n",
    "from pypfopt import objective_functions\n",
    "from pypfopt import plotting"
   ]
  },
  {
   "cell_type": "code",
   "execution_count": 7,
   "id": "bd7b3ef3",
   "metadata": {
    "tags": [
     "hide-input"
    ]
   },
   "outputs": [],
   "source": [
    "df = pd.read_csv('../data/preprocessed.csv',\n",
    "                 usecols = ['reportingDate', 'name', 'CIK',\n",
    "                           'coDescription_stopwords', 'SIC', 'SIC_desc'])\n",
    "df = df.set_index(df.name)"
   ]
  },
  {
   "cell_type": "code",
   "execution_count": 8,
   "id": "b9f6cdc4",
   "metadata": {
    "tags": [
     "hide-input"
    ]
   },
   "outputs": [],
   "source": [
    "# get the names of the companies in the pharmaceutical preparations industry\n",
    "Pharm = df[df.SIC == 2834]\n",
    "Pharm_list = Pharm.index"
   ]
  },
  {
   "cell_type": "code",
   "execution_count": 9,
   "id": "98c532c4",
   "metadata": {
    "scrolled": true,
    "tags": [
     "hide-input"
    ]
   },
   "outputs": [],
   "source": [
    "# get the companies name that match return data and business description data\n",
    "SET = (set(Pharm_list) & set(r_selected.index))\n",
    "LIST = [*SET, ]"
   ]
  },
  {
   "cell_type": "markdown",
   "id": "270561f4",
   "metadata": {},
   "source": [
    "#### Sample Mean for the Pharmaceutical Preparations Industry"
   ]
  },
  {
   "cell_type": "code",
   "execution_count": 10,
   "id": "7b6da842",
   "metadata": {
    "tags": [
     "remove-input"
    ]
   },
   "outputs": [
    {
     "data": {
      "text/plain": [
       "name\n",
       "MARINUS PHARMACEUTICALS INC       0.044790\n",
       "ARDELYX, INC.                    -0.027414\n",
       "SYNDAX PHARMACEUTICALS INC       -0.010075\n",
       "BELLEROPHON THERAPEUTICS, INC.    0.034770\n",
       "ONCOSEC MEDICAL INC              -0.009135\n",
       "                                    ...   \n",
       "ANI PHARMACEUTICALS INC          -0.000895\n",
       "ARENA PHARMACEUTICALS INC         0.032450\n",
       "LILLY ELI & CO                    0.017574\n",
       "LEXICON PHARMACEUTICALS, INC.    -0.013984\n",
       "PROPHASE LABS, INC.               0.038154\n",
       "Length: 124, dtype: float64"
      ]
     },
     "execution_count": 10,
     "metadata": {},
     "output_type": "execute_result"
    }
   ],
   "source": [
    "mu_Pharm = mu[LIST]\n",
    "mu_Pharm"
   ]
  },
  {
   "cell_type": "markdown",
   "id": "c3bcd217",
   "metadata": {},
   "source": [
    "#### Sample Covariance for the Pharmaceutical Preparations Industry"
   ]
  },
  {
   "cell_type": "code",
   "execution_count": 11,
   "id": "8e72a50e",
   "metadata": {
    "tags": [
     "remove-input"
    ]
   },
   "outputs": [
    {
     "data": {
      "text/html": [
       "<div>\n",
       "<style scoped>\n",
       "    .dataframe tbody tr th:only-of-type {\n",
       "        vertical-align: middle;\n",
       "    }\n",
       "\n",
       "    .dataframe tbody tr th {\n",
       "        vertical-align: top;\n",
       "    }\n",
       "\n",
       "    .dataframe thead th {\n",
       "        text-align: right;\n",
       "    }\n",
       "</style>\n",
       "<table border=\"1\" class=\"dataframe\">\n",
       "  <thead>\n",
       "    <tr style=\"text-align: right;\">\n",
       "      <th>name</th>\n",
       "      <th>MARINUS PHARMACEUTICALS INC</th>\n",
       "      <th>ARDELYX, INC.</th>\n",
       "      <th>SYNDAX PHARMACEUTICALS INC</th>\n",
       "      <th>BELLEROPHON THERAPEUTICS, INC.</th>\n",
       "      <th>ONCOSEC MEDICAL INC</th>\n",
       "      <th>IRONWOOD PHARMACEUTICALS INC</th>\n",
       "      <th>CATABASIS PHARMACEUTICALS INC</th>\n",
       "      <th>ARATANA THERAPEUTICS, INC.</th>\n",
       "      <th>LIPOCINE INC.</th>\n",
       "      <th>AMICUS THERAPEUTICS INC</th>\n",
       "      <th>...</th>\n",
       "      <th>FLEXION THERAPEUTICS INC</th>\n",
       "      <th>TONIX PHARMACEUTICALS HOLDING CORP.</th>\n",
       "      <th>CONCERT PHARMACEUTICALS, INC.</th>\n",
       "      <th>VALEANT PHARMACEUTICALS INTERNATIONAL, INC.</th>\n",
       "      <th>INTERCEPT PHARMACEUTICALS INC</th>\n",
       "      <th>ANI PHARMACEUTICALS INC</th>\n",
       "      <th>ARENA PHARMACEUTICALS INC</th>\n",
       "      <th>LILLY ELI &amp; CO</th>\n",
       "      <th>LEXICON PHARMACEUTICALS, INC.</th>\n",
       "      <th>PROPHASE LABS, INC.</th>\n",
       "    </tr>\n",
       "    <tr>\n",
       "      <th>name</th>\n",
       "      <th></th>\n",
       "      <th></th>\n",
       "      <th></th>\n",
       "      <th></th>\n",
       "      <th></th>\n",
       "      <th></th>\n",
       "      <th></th>\n",
       "      <th></th>\n",
       "      <th></th>\n",
       "      <th></th>\n",
       "      <th></th>\n",
       "      <th></th>\n",
       "      <th></th>\n",
       "      <th></th>\n",
       "      <th></th>\n",
       "      <th></th>\n",
       "      <th></th>\n",
       "      <th></th>\n",
       "      <th></th>\n",
       "      <th></th>\n",
       "      <th></th>\n",
       "    </tr>\n",
       "  </thead>\n",
       "  <tbody>\n",
       "    <tr>\n",
       "      <th>MARINUS PHARMACEUTICALS INC</th>\n",
       "      <td>0.116634</td>\n",
       "      <td>0.025617</td>\n",
       "      <td>0.016206</td>\n",
       "      <td>0.023100</td>\n",
       "      <td>0.005494</td>\n",
       "      <td>0.008827</td>\n",
       "      <td>0.042373</td>\n",
       "      <td>0.006448</td>\n",
       "      <td>0.020774</td>\n",
       "      <td>0.024469</td>\n",
       "      <td>...</td>\n",
       "      <td>0.025724</td>\n",
       "      <td>0.016549</td>\n",
       "      <td>0.019293</td>\n",
       "      <td>0.025474</td>\n",
       "      <td>0.000347</td>\n",
       "      <td>0.013062</td>\n",
       "      <td>0.021448</td>\n",
       "      <td>0.005194</td>\n",
       "      <td>0.012878</td>\n",
       "      <td>0.006418</td>\n",
       "    </tr>\n",
       "    <tr>\n",
       "      <th>ARDELYX, INC.</th>\n",
       "      <td>0.025617</td>\n",
       "      <td>0.036588</td>\n",
       "      <td>0.004957</td>\n",
       "      <td>0.008931</td>\n",
       "      <td>0.009870</td>\n",
       "      <td>0.010816</td>\n",
       "      <td>0.004086</td>\n",
       "      <td>0.005668</td>\n",
       "      <td>0.006915</td>\n",
       "      <td>0.006035</td>\n",
       "      <td>...</td>\n",
       "      <td>0.010494</td>\n",
       "      <td>-0.009285</td>\n",
       "      <td>0.008503</td>\n",
       "      <td>0.001376</td>\n",
       "      <td>0.006188</td>\n",
       "      <td>0.012324</td>\n",
       "      <td>0.007081</td>\n",
       "      <td>0.002531</td>\n",
       "      <td>0.013115</td>\n",
       "      <td>0.002632</td>\n",
       "    </tr>\n",
       "    <tr>\n",
       "      <th>SYNDAX PHARMACEUTICALS INC</th>\n",
       "      <td>0.016206</td>\n",
       "      <td>0.004957</td>\n",
       "      <td>0.054678</td>\n",
       "      <td>0.017720</td>\n",
       "      <td>0.003684</td>\n",
       "      <td>0.009630</td>\n",
       "      <td>0.010427</td>\n",
       "      <td>0.005239</td>\n",
       "      <td>-0.002029</td>\n",
       "      <td>0.015773</td>\n",
       "      <td>...</td>\n",
       "      <td>0.005458</td>\n",
       "      <td>-0.004880</td>\n",
       "      <td>0.004678</td>\n",
       "      <td>0.011172</td>\n",
       "      <td>0.010470</td>\n",
       "      <td>-0.004328</td>\n",
       "      <td>0.005928</td>\n",
       "      <td>0.001462</td>\n",
       "      <td>0.007552</td>\n",
       "      <td>0.010789</td>\n",
       "    </tr>\n",
       "    <tr>\n",
       "      <th>BELLEROPHON THERAPEUTICS, INC.</th>\n",
       "      <td>0.023100</td>\n",
       "      <td>0.008931</td>\n",
       "      <td>0.017720</td>\n",
       "      <td>0.100098</td>\n",
       "      <td>0.011515</td>\n",
       "      <td>0.008409</td>\n",
       "      <td>-0.026654</td>\n",
       "      <td>-0.004736</td>\n",
       "      <td>-0.006175</td>\n",
       "      <td>0.007417</td>\n",
       "      <td>...</td>\n",
       "      <td>0.009128</td>\n",
       "      <td>0.005678</td>\n",
       "      <td>0.003968</td>\n",
       "      <td>0.012967</td>\n",
       "      <td>0.005544</td>\n",
       "      <td>0.008724</td>\n",
       "      <td>0.007723</td>\n",
       "      <td>0.007017</td>\n",
       "      <td>0.006687</td>\n",
       "      <td>-0.001862</td>\n",
       "    </tr>\n",
       "    <tr>\n",
       "      <th>ONCOSEC MEDICAL INC</th>\n",
       "      <td>0.005494</td>\n",
       "      <td>0.009870</td>\n",
       "      <td>0.003684</td>\n",
       "      <td>0.011515</td>\n",
       "      <td>0.050130</td>\n",
       "      <td>0.002052</td>\n",
       "      <td>-0.005080</td>\n",
       "      <td>0.001973</td>\n",
       "      <td>-0.000488</td>\n",
       "      <td>0.004246</td>\n",
       "      <td>...</td>\n",
       "      <td>0.002549</td>\n",
       "      <td>0.014485</td>\n",
       "      <td>0.008176</td>\n",
       "      <td>0.012503</td>\n",
       "      <td>0.000193</td>\n",
       "      <td>0.005435</td>\n",
       "      <td>0.000267</td>\n",
       "      <td>0.000505</td>\n",
       "      <td>0.001329</td>\n",
       "      <td>0.003093</td>\n",
       "    </tr>\n",
       "    <tr>\n",
       "      <th>...</th>\n",
       "      <td>...</td>\n",
       "      <td>...</td>\n",
       "      <td>...</td>\n",
       "      <td>...</td>\n",
       "      <td>...</td>\n",
       "      <td>...</td>\n",
       "      <td>...</td>\n",
       "      <td>...</td>\n",
       "      <td>...</td>\n",
       "      <td>...</td>\n",
       "      <td>...</td>\n",
       "      <td>...</td>\n",
       "      <td>...</td>\n",
       "      <td>...</td>\n",
       "      <td>...</td>\n",
       "      <td>...</td>\n",
       "      <td>...</td>\n",
       "      <td>...</td>\n",
       "      <td>...</td>\n",
       "      <td>...</td>\n",
       "      <td>...</td>\n",
       "    </tr>\n",
       "    <tr>\n",
       "      <th>ANI PHARMACEUTICALS INC</th>\n",
       "      <td>0.013062</td>\n",
       "      <td>0.012324</td>\n",
       "      <td>-0.004328</td>\n",
       "      <td>0.008724</td>\n",
       "      <td>0.005435</td>\n",
       "      <td>0.005296</td>\n",
       "      <td>0.002830</td>\n",
       "      <td>0.003584</td>\n",
       "      <td>0.002226</td>\n",
       "      <td>0.002902</td>\n",
       "      <td>...</td>\n",
       "      <td>0.005750</td>\n",
       "      <td>0.003201</td>\n",
       "      <td>0.000180</td>\n",
       "      <td>0.004822</td>\n",
       "      <td>0.003361</td>\n",
       "      <td>0.010194</td>\n",
       "      <td>0.005846</td>\n",
       "      <td>0.001520</td>\n",
       "      <td>0.007183</td>\n",
       "      <td>0.000473</td>\n",
       "    </tr>\n",
       "    <tr>\n",
       "      <th>ARENA PHARMACEUTICALS INC</th>\n",
       "      <td>0.021448</td>\n",
       "      <td>0.007081</td>\n",
       "      <td>0.005928</td>\n",
       "      <td>0.007723</td>\n",
       "      <td>0.000267</td>\n",
       "      <td>0.004125</td>\n",
       "      <td>0.008182</td>\n",
       "      <td>0.002912</td>\n",
       "      <td>0.005620</td>\n",
       "      <td>0.008793</td>\n",
       "      <td>...</td>\n",
       "      <td>0.007623</td>\n",
       "      <td>-0.000497</td>\n",
       "      <td>0.002774</td>\n",
       "      <td>0.009791</td>\n",
       "      <td>0.004564</td>\n",
       "      <td>0.005846</td>\n",
       "      <td>0.016468</td>\n",
       "      <td>0.000858</td>\n",
       "      <td>0.007858</td>\n",
       "      <td>0.000782</td>\n",
       "    </tr>\n",
       "    <tr>\n",
       "      <th>LILLY ELI &amp; CO</th>\n",
       "      <td>0.005194</td>\n",
       "      <td>0.002531</td>\n",
       "      <td>0.001462</td>\n",
       "      <td>0.007017</td>\n",
       "      <td>0.000505</td>\n",
       "      <td>0.001707</td>\n",
       "      <td>-0.001207</td>\n",
       "      <td>0.002572</td>\n",
       "      <td>0.001717</td>\n",
       "      <td>0.000750</td>\n",
       "      <td>...</td>\n",
       "      <td>0.002625</td>\n",
       "      <td>-0.001009</td>\n",
       "      <td>0.000922</td>\n",
       "      <td>0.002161</td>\n",
       "      <td>0.003450</td>\n",
       "      <td>0.001520</td>\n",
       "      <td>0.000858</td>\n",
       "      <td>0.003017</td>\n",
       "      <td>0.002664</td>\n",
       "      <td>-0.000649</td>\n",
       "    </tr>\n",
       "    <tr>\n",
       "      <th>LEXICON PHARMACEUTICALS, INC.</th>\n",
       "      <td>0.012878</td>\n",
       "      <td>0.013115</td>\n",
       "      <td>0.007552</td>\n",
       "      <td>0.006687</td>\n",
       "      <td>0.001329</td>\n",
       "      <td>0.009849</td>\n",
       "      <td>-0.001279</td>\n",
       "      <td>0.004474</td>\n",
       "      <td>-0.000063</td>\n",
       "      <td>0.010739</td>\n",
       "      <td>...</td>\n",
       "      <td>0.007074</td>\n",
       "      <td>-0.003148</td>\n",
       "      <td>0.000984</td>\n",
       "      <td>0.007469</td>\n",
       "      <td>0.011615</td>\n",
       "      <td>0.007183</td>\n",
       "      <td>0.007858</td>\n",
       "      <td>0.002664</td>\n",
       "      <td>0.021954</td>\n",
       "      <td>0.004976</td>\n",
       "    </tr>\n",
       "    <tr>\n",
       "      <th>PROPHASE LABS, INC.</th>\n",
       "      <td>0.006418</td>\n",
       "      <td>0.002632</td>\n",
       "      <td>0.010789</td>\n",
       "      <td>-0.001862</td>\n",
       "      <td>0.003093</td>\n",
       "      <td>0.002005</td>\n",
       "      <td>0.002989</td>\n",
       "      <td>0.000762</td>\n",
       "      <td>-0.001424</td>\n",
       "      <td>0.005081</td>\n",
       "      <td>...</td>\n",
       "      <td>0.003396</td>\n",
       "      <td>0.005905</td>\n",
       "      <td>0.002679</td>\n",
       "      <td>0.004254</td>\n",
       "      <td>0.003478</td>\n",
       "      <td>0.000473</td>\n",
       "      <td>0.000782</td>\n",
       "      <td>-0.000649</td>\n",
       "      <td>0.004976</td>\n",
       "      <td>0.009482</td>\n",
       "    </tr>\n",
       "  </tbody>\n",
       "</table>\n",
       "<p>124 rows × 124 columns</p>\n",
       "</div>"
      ],
      "text/plain": [
       "name                            MARINUS PHARMACEUTICALS INC  ARDELYX, INC.  \\\n",
       "name                                                                         \n",
       "MARINUS PHARMACEUTICALS INC                        0.116634       0.025617   \n",
       "ARDELYX, INC.                                      0.025617       0.036588   \n",
       "SYNDAX PHARMACEUTICALS INC                         0.016206       0.004957   \n",
       "BELLEROPHON THERAPEUTICS, INC.                     0.023100       0.008931   \n",
       "ONCOSEC MEDICAL INC                                0.005494       0.009870   \n",
       "...                                                     ...            ...   \n",
       "ANI PHARMACEUTICALS INC                            0.013062       0.012324   \n",
       "ARENA PHARMACEUTICALS INC                          0.021448       0.007081   \n",
       "LILLY ELI & CO                                     0.005194       0.002531   \n",
       "LEXICON PHARMACEUTICALS, INC.                      0.012878       0.013115   \n",
       "PROPHASE LABS, INC.                                0.006418       0.002632   \n",
       "\n",
       "name                            SYNDAX PHARMACEUTICALS INC  \\\n",
       "name                                                         \n",
       "MARINUS PHARMACEUTICALS INC                       0.016206   \n",
       "ARDELYX, INC.                                     0.004957   \n",
       "SYNDAX PHARMACEUTICALS INC                        0.054678   \n",
       "BELLEROPHON THERAPEUTICS, INC.                    0.017720   \n",
       "ONCOSEC MEDICAL INC                               0.003684   \n",
       "...                                                    ...   \n",
       "ANI PHARMACEUTICALS INC                          -0.004328   \n",
       "ARENA PHARMACEUTICALS INC                         0.005928   \n",
       "LILLY ELI & CO                                    0.001462   \n",
       "LEXICON PHARMACEUTICALS, INC.                     0.007552   \n",
       "PROPHASE LABS, INC.                               0.010789   \n",
       "\n",
       "name                            BELLEROPHON THERAPEUTICS, INC.  \\\n",
       "name                                                             \n",
       "MARINUS PHARMACEUTICALS INC                           0.023100   \n",
       "ARDELYX, INC.                                         0.008931   \n",
       "SYNDAX PHARMACEUTICALS INC                            0.017720   \n",
       "BELLEROPHON THERAPEUTICS, INC.                        0.100098   \n",
       "ONCOSEC MEDICAL INC                                   0.011515   \n",
       "...                                                        ...   \n",
       "ANI PHARMACEUTICALS INC                               0.008724   \n",
       "ARENA PHARMACEUTICALS INC                             0.007723   \n",
       "LILLY ELI & CO                                        0.007017   \n",
       "LEXICON PHARMACEUTICALS, INC.                         0.006687   \n",
       "PROPHASE LABS, INC.                                  -0.001862   \n",
       "\n",
       "name                            ONCOSEC MEDICAL INC  \\\n",
       "name                                                  \n",
       "MARINUS PHARMACEUTICALS INC                0.005494   \n",
       "ARDELYX, INC.                              0.009870   \n",
       "SYNDAX PHARMACEUTICALS INC                 0.003684   \n",
       "BELLEROPHON THERAPEUTICS, INC.             0.011515   \n",
       "ONCOSEC MEDICAL INC                        0.050130   \n",
       "...                                             ...   \n",
       "ANI PHARMACEUTICALS INC                    0.005435   \n",
       "ARENA PHARMACEUTICALS INC                  0.000267   \n",
       "LILLY ELI & CO                             0.000505   \n",
       "LEXICON PHARMACEUTICALS, INC.              0.001329   \n",
       "PROPHASE LABS, INC.                        0.003093   \n",
       "\n",
       "name                            IRONWOOD PHARMACEUTICALS INC  \\\n",
       "name                                                           \n",
       "MARINUS PHARMACEUTICALS INC                         0.008827   \n",
       "ARDELYX, INC.                                       0.010816   \n",
       "SYNDAX PHARMACEUTICALS INC                          0.009630   \n",
       "BELLEROPHON THERAPEUTICS, INC.                      0.008409   \n",
       "ONCOSEC MEDICAL INC                                 0.002052   \n",
       "...                                                      ...   \n",
       "ANI PHARMACEUTICALS INC                             0.005296   \n",
       "ARENA PHARMACEUTICALS INC                           0.004125   \n",
       "LILLY ELI & CO                                      0.001707   \n",
       "LEXICON PHARMACEUTICALS, INC.                       0.009849   \n",
       "PROPHASE LABS, INC.                                 0.002005   \n",
       "\n",
       "name                            CATABASIS PHARMACEUTICALS INC  \\\n",
       "name                                                            \n",
       "MARINUS PHARMACEUTICALS INC                          0.042373   \n",
       "ARDELYX, INC.                                        0.004086   \n",
       "SYNDAX PHARMACEUTICALS INC                           0.010427   \n",
       "BELLEROPHON THERAPEUTICS, INC.                      -0.026654   \n",
       "ONCOSEC MEDICAL INC                                 -0.005080   \n",
       "...                                                       ...   \n",
       "ANI PHARMACEUTICALS INC                              0.002830   \n",
       "ARENA PHARMACEUTICALS INC                            0.008182   \n",
       "LILLY ELI & CO                                      -0.001207   \n",
       "LEXICON PHARMACEUTICALS, INC.                       -0.001279   \n",
       "PROPHASE LABS, INC.                                  0.002989   \n",
       "\n",
       "name                            ARATANA THERAPEUTICS, INC.  LIPOCINE INC.  \\\n",
       "name                                                                        \n",
       "MARINUS PHARMACEUTICALS INC                       0.006448       0.020774   \n",
       "ARDELYX, INC.                                     0.005668       0.006915   \n",
       "SYNDAX PHARMACEUTICALS INC                        0.005239      -0.002029   \n",
       "BELLEROPHON THERAPEUTICS, INC.                   -0.004736      -0.006175   \n",
       "ONCOSEC MEDICAL INC                               0.001973      -0.000488   \n",
       "...                                                    ...            ...   \n",
       "ANI PHARMACEUTICALS INC                           0.003584       0.002226   \n",
       "ARENA PHARMACEUTICALS INC                         0.002912       0.005620   \n",
       "LILLY ELI & CO                                    0.002572       0.001717   \n",
       "LEXICON PHARMACEUTICALS, INC.                     0.004474      -0.000063   \n",
       "PROPHASE LABS, INC.                               0.000762      -0.001424   \n",
       "\n",
       "name                            AMICUS THERAPEUTICS INC  ...  \\\n",
       "name                                                     ...   \n",
       "MARINUS PHARMACEUTICALS INC                    0.024469  ...   \n",
       "ARDELYX, INC.                                  0.006035  ...   \n",
       "SYNDAX PHARMACEUTICALS INC                     0.015773  ...   \n",
       "BELLEROPHON THERAPEUTICS, INC.                 0.007417  ...   \n",
       "ONCOSEC MEDICAL INC                            0.004246  ...   \n",
       "...                                                 ...  ...   \n",
       "ANI PHARMACEUTICALS INC                        0.002902  ...   \n",
       "ARENA PHARMACEUTICALS INC                      0.008793  ...   \n",
       "LILLY ELI & CO                                 0.000750  ...   \n",
       "LEXICON PHARMACEUTICALS, INC.                  0.010739  ...   \n",
       "PROPHASE LABS, INC.                            0.005081  ...   \n",
       "\n",
       "name                            FLEXION THERAPEUTICS INC  \\\n",
       "name                                                       \n",
       "MARINUS PHARMACEUTICALS INC                     0.025724   \n",
       "ARDELYX, INC.                                   0.010494   \n",
       "SYNDAX PHARMACEUTICALS INC                      0.005458   \n",
       "BELLEROPHON THERAPEUTICS, INC.                  0.009128   \n",
       "ONCOSEC MEDICAL INC                             0.002549   \n",
       "...                                                  ...   \n",
       "ANI PHARMACEUTICALS INC                         0.005750   \n",
       "ARENA PHARMACEUTICALS INC                       0.007623   \n",
       "LILLY ELI & CO                                  0.002625   \n",
       "LEXICON PHARMACEUTICALS, INC.                   0.007074   \n",
       "PROPHASE LABS, INC.                             0.003396   \n",
       "\n",
       "name                            TONIX PHARMACEUTICALS HOLDING CORP.  \\\n",
       "name                                                                  \n",
       "MARINUS PHARMACEUTICALS INC                                0.016549   \n",
       "ARDELYX, INC.                                             -0.009285   \n",
       "SYNDAX PHARMACEUTICALS INC                                -0.004880   \n",
       "BELLEROPHON THERAPEUTICS, INC.                             0.005678   \n",
       "ONCOSEC MEDICAL INC                                        0.014485   \n",
       "...                                                             ...   \n",
       "ANI PHARMACEUTICALS INC                                    0.003201   \n",
       "ARENA PHARMACEUTICALS INC                                 -0.000497   \n",
       "LILLY ELI & CO                                            -0.001009   \n",
       "LEXICON PHARMACEUTICALS, INC.                             -0.003148   \n",
       "PROPHASE LABS, INC.                                        0.005905   \n",
       "\n",
       "name                            CONCERT PHARMACEUTICALS, INC.  \\\n",
       "name                                                            \n",
       "MARINUS PHARMACEUTICALS INC                          0.019293   \n",
       "ARDELYX, INC.                                        0.008503   \n",
       "SYNDAX PHARMACEUTICALS INC                           0.004678   \n",
       "BELLEROPHON THERAPEUTICS, INC.                       0.003968   \n",
       "ONCOSEC MEDICAL INC                                  0.008176   \n",
       "...                                                       ...   \n",
       "ANI PHARMACEUTICALS INC                              0.000180   \n",
       "ARENA PHARMACEUTICALS INC                            0.002774   \n",
       "LILLY ELI & CO                                       0.000922   \n",
       "LEXICON PHARMACEUTICALS, INC.                        0.000984   \n",
       "PROPHASE LABS, INC.                                  0.002679   \n",
       "\n",
       "name                            VALEANT PHARMACEUTICALS INTERNATIONAL, INC.  \\\n",
       "name                                                                          \n",
       "MARINUS PHARMACEUTICALS INC                                        0.025474   \n",
       "ARDELYX, INC.                                                      0.001376   \n",
       "SYNDAX PHARMACEUTICALS INC                                         0.011172   \n",
       "BELLEROPHON THERAPEUTICS, INC.                                     0.012967   \n",
       "ONCOSEC MEDICAL INC                                                0.012503   \n",
       "...                                                                     ...   \n",
       "ANI PHARMACEUTICALS INC                                            0.004822   \n",
       "ARENA PHARMACEUTICALS INC                                          0.009791   \n",
       "LILLY ELI & CO                                                     0.002161   \n",
       "LEXICON PHARMACEUTICALS, INC.                                      0.007469   \n",
       "PROPHASE LABS, INC.                                                0.004254   \n",
       "\n",
       "name                            INTERCEPT PHARMACEUTICALS INC  \\\n",
       "name                                                            \n",
       "MARINUS PHARMACEUTICALS INC                          0.000347   \n",
       "ARDELYX, INC.                                        0.006188   \n",
       "SYNDAX PHARMACEUTICALS INC                           0.010470   \n",
       "BELLEROPHON THERAPEUTICS, INC.                       0.005544   \n",
       "ONCOSEC MEDICAL INC                                  0.000193   \n",
       "...                                                       ...   \n",
       "ANI PHARMACEUTICALS INC                              0.003361   \n",
       "ARENA PHARMACEUTICALS INC                            0.004564   \n",
       "LILLY ELI & CO                                       0.003450   \n",
       "LEXICON PHARMACEUTICALS, INC.                        0.011615   \n",
       "PROPHASE LABS, INC.                                  0.003478   \n",
       "\n",
       "name                            ANI PHARMACEUTICALS INC  \\\n",
       "name                                                      \n",
       "MARINUS PHARMACEUTICALS INC                    0.013062   \n",
       "ARDELYX, INC.                                  0.012324   \n",
       "SYNDAX PHARMACEUTICALS INC                    -0.004328   \n",
       "BELLEROPHON THERAPEUTICS, INC.                 0.008724   \n",
       "ONCOSEC MEDICAL INC                            0.005435   \n",
       "...                                                 ...   \n",
       "ANI PHARMACEUTICALS INC                        0.010194   \n",
       "ARENA PHARMACEUTICALS INC                      0.005846   \n",
       "LILLY ELI & CO                                 0.001520   \n",
       "LEXICON PHARMACEUTICALS, INC.                  0.007183   \n",
       "PROPHASE LABS, INC.                            0.000473   \n",
       "\n",
       "name                            ARENA PHARMACEUTICALS INC  LILLY ELI & CO  \\\n",
       "name                                                                        \n",
       "MARINUS PHARMACEUTICALS INC                      0.021448        0.005194   \n",
       "ARDELYX, INC.                                    0.007081        0.002531   \n",
       "SYNDAX PHARMACEUTICALS INC                       0.005928        0.001462   \n",
       "BELLEROPHON THERAPEUTICS, INC.                   0.007723        0.007017   \n",
       "ONCOSEC MEDICAL INC                              0.000267        0.000505   \n",
       "...                                                   ...             ...   \n",
       "ANI PHARMACEUTICALS INC                          0.005846        0.001520   \n",
       "ARENA PHARMACEUTICALS INC                        0.016468        0.000858   \n",
       "LILLY ELI & CO                                   0.000858        0.003017   \n",
       "LEXICON PHARMACEUTICALS, INC.                    0.007858        0.002664   \n",
       "PROPHASE LABS, INC.                              0.000782       -0.000649   \n",
       "\n",
       "name                            LEXICON PHARMACEUTICALS, INC.  \\\n",
       "name                                                            \n",
       "MARINUS PHARMACEUTICALS INC                          0.012878   \n",
       "ARDELYX, INC.                                        0.013115   \n",
       "SYNDAX PHARMACEUTICALS INC                           0.007552   \n",
       "BELLEROPHON THERAPEUTICS, INC.                       0.006687   \n",
       "ONCOSEC MEDICAL INC                                  0.001329   \n",
       "...                                                       ...   \n",
       "ANI PHARMACEUTICALS INC                              0.007183   \n",
       "ARENA PHARMACEUTICALS INC                            0.007858   \n",
       "LILLY ELI & CO                                       0.002664   \n",
       "LEXICON PHARMACEUTICALS, INC.                        0.021954   \n",
       "PROPHASE LABS, INC.                                  0.004976   \n",
       "\n",
       "name                            PROPHASE LABS, INC.  \n",
       "name                                                 \n",
       "MARINUS PHARMACEUTICALS INC                0.006418  \n",
       "ARDELYX, INC.                              0.002632  \n",
       "SYNDAX PHARMACEUTICALS INC                 0.010789  \n",
       "BELLEROPHON THERAPEUTICS, INC.            -0.001862  \n",
       "ONCOSEC MEDICAL INC                        0.003093  \n",
       "...                                             ...  \n",
       "ANI PHARMACEUTICALS INC                    0.000473  \n",
       "ARENA PHARMACEUTICALS INC                  0.000782  \n",
       "LILLY ELI & CO                            -0.000649  \n",
       "LEXICON PHARMACEUTICALS, INC.              0.004976  \n",
       "PROPHASE LABS, INC.                        0.009482  \n",
       "\n",
       "[124 rows x 124 columns]"
      ]
     },
     "execution_count": 11,
     "metadata": {},
     "output_type": "execute_result"
    }
   ],
   "source": [
    "tmp = cov[LIST].T\n",
    "cov_Pharm = tmp[LIST]\n",
    "cov_Pharm"
   ]
  },
  {
   "cell_type": "markdown",
   "id": "fc1b6a4c",
   "metadata": {},
   "source": [
    "#### Efficient Frontier - Pharmaceutical Preparations"
   ]
  },
  {
   "cell_type": "code",
   "execution_count": 12,
   "id": "7429ef48",
   "metadata": {
    "tags": [
     "hide-input"
    ]
   },
   "outputs": [
    {
     "data": {
      "image/png": "[encoded data removed]",
      "text/plain": [
       "<Figure size 432x288 with 1 Axes>"
      ]
     },
     "metadata": {
      "needs_background": "light"
     },
     "output_type": "display_data"
    }
   ],
   "source": [
    "ef1 = EfficientFrontier(mu_Pharm, cov_Pharm, weight_bounds=(0, 0.2))\n",
    "\n",
    "fig, ax = plt.subplots()\n",
    "plotting.plot_efficient_frontier(ef1, ax=ax, show_assets=True)\n",
    "\n",
    "# Find and plot the tangency portfolio\n",
    "ef2 = EfficientFrontier(mu_Pharm, cov_Pharm, weight_bounds=(0, 0.2))\n",
    "# min volatility\n",
    "ef2.min_volatility()\n",
    "ret_tangent, std_tangent, _ = ef2.portfolio_performance()\n",
    "ax.scatter(std_tangent, ret_tangent, marker=\"*\", s=100, c=\"r\", label=\"Min Volatility\")\n",
    "\n",
    "# Format\n",
    "ax.set_title(\"Efficient Frontier - Pharmaceutical Preparations \\n Sample Covariance Estimates\")\n",
    "ax.legend()\n",
    "plt.tight_layout()\n",
    "plt.savefig('images/Efficient_Frontier_Returns.png', dpi=200, bbox_inches='tight')\n",
    "plt.show()"
   ]
  },
  {
   "cell_type": "markdown",
   "id": "342e7542",
   "metadata": {},
   "source": [
    "##### Min Volatility Portfolio"
   ]
  },
  {
   "cell_type": "markdown",
   "id": "01cb24cd",
   "metadata": {},
   "source": [
    "###### Performance"
   ]
  },
  {
   "cell_type": "code",
   "execution_count": 13,
   "id": "b34e4df3",
   "metadata": {
    "tags": [
     "hide-input"
    ]
   },
   "outputs": [
    {
     "name": "stdout",
     "output_type": "stream",
     "text": [
      "Expected annual return: 1.2%\n",
      "Annual volatility: 2.1%\n",
      "Sharpe Ratio: -0.35\n"
     ]
    }
   ],
   "source": [
    "ef2.portfolio_performance(verbose=True);"
   ]
  },
  {
   "cell_type": "markdown",
   "id": "4b77c2f6",
   "metadata": {},
   "source": [
    "###### Weights"
   ]
  },
  {
   "cell_type": "code",
   "execution_count": 14,
   "id": "ede83875",
   "metadata": {
    "tags": [
     "hide-input"
    ]
   },
   "outputs": [],
   "source": [
    "companies = []\n",
    "weights = []\n",
    "for company, weight in ef2.clean_weights().items():\n",
    "    if weight != 0:\n",
    "        companies.append(company)\n",
    "        weights.append(weight)\n",
    "        \n",
    "dic = {'Company_Name':companies,'Weight':weights}\n",
    "min_vol = pd.DataFrame(dic)\n",
    "min_vol.to_csv(\"data/min_vol_sample_Pharmaceutical_Preparations.csv\", index = False)"
   ]
  },
  {
   "cell_type": "code",
   "execution_count": 15,
   "id": "8c912f1e",
   "metadata": {
    "tags": [
     "hide-input"
    ]
   },
   "outputs": [
    {
     "data": {
      "text/html": [
       "<div>\n",
       "<style scoped>\n",
       "    .dataframe tbody tr th:only-of-type {\n",
       "        vertical-align: middle;\n",
       "    }\n",
       "\n",
       "    .dataframe tbody tr th {\n",
       "        vertical-align: top;\n",
       "    }\n",
       "\n",
       "    .dataframe thead th {\n",
       "        text-align: right;\n",
       "    }\n",
       "</style>\n",
       "<table border=\"1\" class=\"dataframe\">\n",
       "  <thead>\n",
       "    <tr style=\"text-align: right;\">\n",
       "      <th></th>\n",
       "      <th>Company_Name</th>\n",
       "      <th>Weight</th>\n",
       "    </tr>\n",
       "  </thead>\n",
       "  <tbody>\n",
       "    <tr>\n",
       "      <th>0</th>\n",
       "      <td>ARATANA THERAPEUTICS, INC.</td>\n",
       "      <td>0.03678</td>\n",
       "    </tr>\n",
       "    <tr>\n",
       "      <th>1</th>\n",
       "      <td>LIPOCINE INC.</td>\n",
       "      <td>0.00683</td>\n",
       "    </tr>\n",
       "    <tr>\n",
       "      <th>2</th>\n",
       "      <td>BIODELIVERY SCIENCES INTERNATIONAL INC</td>\n",
       "      <td>0.03680</td>\n",
       "    </tr>\n",
       "    <tr>\n",
       "      <th>3</th>\n",
       "      <td>CYTOMX THERAPEUTICS, INC.</td>\n",
       "      <td>0.00520</td>\n",
       "    </tr>\n",
       "    <tr>\n",
       "      <th>4</th>\n",
       "      <td>ORAMED PHARMACEUTICALS INC.</td>\n",
       "      <td>0.04982</td>\n",
       "    </tr>\n",
       "    <tr>\n",
       "      <th>5</th>\n",
       "      <td>HEAT BIOLOGICS, INC.</td>\n",
       "      <td>0.00297</td>\n",
       "    </tr>\n",
       "    <tr>\n",
       "      <th>6</th>\n",
       "      <td>PFENEX INC.</td>\n",
       "      <td>0.03777</td>\n",
       "    </tr>\n",
       "    <tr>\n",
       "      <th>7</th>\n",
       "      <td>VTV THERAPEUTICS INC.</td>\n",
       "      <td>0.02372</td>\n",
       "    </tr>\n",
       "    <tr>\n",
       "      <th>8</th>\n",
       "      <td>XENON PHARMACEUTICALS INC.</td>\n",
       "      <td>0.01350</td>\n",
       "    </tr>\n",
       "    <tr>\n",
       "      <th>9</th>\n",
       "      <td>STEMLINE THERAPEUTICS INC</td>\n",
       "      <td>0.04273</td>\n",
       "    </tr>\n",
       "    <tr>\n",
       "      <th>10</th>\n",
       "      <td>BRISTOL MYERS SQUIBB CO</td>\n",
       "      <td>0.12824</td>\n",
       "    </tr>\n",
       "    <tr>\n",
       "      <th>11</th>\n",
       "      <td>ACHAOGEN INC</td>\n",
       "      <td>0.00515</td>\n",
       "    </tr>\n",
       "    <tr>\n",
       "      <th>12</th>\n",
       "      <td>JOHNSON &amp; JOHNSON</td>\n",
       "      <td>0.17878</td>\n",
       "    </tr>\n",
       "    <tr>\n",
       "      <th>13</th>\n",
       "      <td>ASSEMBLY BIOSCIENCES, INC.</td>\n",
       "      <td>0.05775</td>\n",
       "    </tr>\n",
       "    <tr>\n",
       "      <th>14</th>\n",
       "      <td>RECRO PHARMA, INC.</td>\n",
       "      <td>0.02010</td>\n",
       "    </tr>\n",
       "    <tr>\n",
       "      <th>15</th>\n",
       "      <td>MANNKIND CORP</td>\n",
       "      <td>0.02048</td>\n",
       "    </tr>\n",
       "    <tr>\n",
       "      <th>16</th>\n",
       "      <td>MERCK &amp; CO., INC.</td>\n",
       "      <td>0.20000</td>\n",
       "    </tr>\n",
       "    <tr>\n",
       "      <th>17</th>\n",
       "      <td>IMPRIMIS PHARMACEUTICALS, INC.</td>\n",
       "      <td>0.04181</td>\n",
       "    </tr>\n",
       "    <tr>\n",
       "      <th>18</th>\n",
       "      <td>ZOETIS INC.</td>\n",
       "      <td>0.01195</td>\n",
       "    </tr>\n",
       "    <tr>\n",
       "      <th>19</th>\n",
       "      <td>CHEMBIO DIAGNOSTICS, INC.</td>\n",
       "      <td>0.02843</td>\n",
       "    </tr>\n",
       "    <tr>\n",
       "      <th>20</th>\n",
       "      <td>PROPHASE LABS, INC.</td>\n",
       "      <td>0.05120</td>\n",
       "    </tr>\n",
       "  </tbody>\n",
       "</table>\n",
       "</div>"
      ],
      "text/plain": [
       "                              Company_Name   Weight\n",
       "0               ARATANA THERAPEUTICS, INC.  0.03678\n",
       "1                            LIPOCINE INC.  0.00683\n",
       "2   BIODELIVERY SCIENCES INTERNATIONAL INC  0.03680\n",
       "3                CYTOMX THERAPEUTICS, INC.  0.00520\n",
       "4              ORAMED PHARMACEUTICALS INC.  0.04982\n",
       "5                     HEAT BIOLOGICS, INC.  0.00297\n",
       "6                              PFENEX INC.  0.03777\n",
       "7                    VTV THERAPEUTICS INC.  0.02372\n",
       "8               XENON PHARMACEUTICALS INC.  0.01350\n",
       "9                STEMLINE THERAPEUTICS INC  0.04273\n",
       "10                 BRISTOL MYERS SQUIBB CO  0.12824\n",
       "11                            ACHAOGEN INC  0.00515\n",
       "12                       JOHNSON & JOHNSON  0.17878\n",
       "13              ASSEMBLY BIOSCIENCES, INC.  0.05775\n",
       "14                      RECRO PHARMA, INC.  0.02010\n",
       "15                           MANNKIND CORP  0.02048\n",
       "16                       MERCK & CO., INC.  0.20000\n",
       "17          IMPRIMIS PHARMACEUTICALS, INC.  0.04181\n",
       "18                             ZOETIS INC.  0.01195\n",
       "19               CHEMBIO DIAGNOSTICS, INC.  0.02843\n",
       "20                     PROPHASE LABS, INC.  0.05120"
      ]
     },
     "execution_count": 15,
     "metadata": {},
     "output_type": "execute_result"
    }
   ],
   "source": [
    "pd.read_csv(\"data/min_vol_sample_Pharmaceutical_Preparations.csv\")"
   ]
  },
  {
   "cell_type": "markdown",
   "id": "d1959343",
   "metadata": {},
   "source": [
    "### Results for the Other 4 Industries"
   ]
  },
  {
   "cell_type": "code",
   "execution_count": 16,
   "id": "be7bbb78",
   "metadata": {
    "tags": [
     "remove-input"
    ]
   },
   "outputs": [],
   "source": [
    "SIC_list = [7372, 1311, 6798, 6022]\n",
    "SIC_desc = ['Prepackaged Software (mass reproduction of software)', 'Crude Petroleum and Natural Gas', \n",
    "           'Real Estate Investment Trusts', 'State Commercial Banks (commercial banking)']"
   ]
  },
  {
   "cell_type": "markdown",
   "id": "1dc7e46a",
   "metadata": {},
   "source": [
    "#### Prepackaged Software (mass reproduction of software)"
   ]
  },
  {
   "cell_type": "code",
   "execution_count": 17,
   "id": "f9066d2b",
   "metadata": {
    "tags": [
     "remove-input"
    ]
   },
   "outputs": [
    {
     "data": {
      "image/png": "[encoded data removed]",
      "text/plain": [
       "<Figure size 432x288 with 1 Axes>"
      ]
     },
     "metadata": {
      "needs_background": "light"
     },
     "output_type": "display_data"
    }
   ],
   "source": [
    "SIC = SIC_list[0]\n",
    "    \n",
    "industry_name = SIC_desc[SIC_list.index(SIC)]\n",
    "    \n",
    "# get the names of the companies in the other industries\n",
    "Companies = df[df.SIC == SIC]\n",
    "Company_list = Companies.index\n",
    "\n",
    "# get the companies name that match return data and business description data\n",
    "SET = (set(Company_list) & set(r_selected.index))\n",
    "LIST = [*SET, ]\n",
    "\n",
    "mu_sample = mu[LIST]\n",
    "# get the outliers\n",
    "outlier = mu_sample[mu_sample>1].index\n",
    "mu_sample = mu_sample.drop(outlier)\n",
    "LIST = mu_sample.index\n",
    "\n",
    "tmp = cov[LIST].T\n",
    "cov_sample = tmp[LIST]\n",
    "\n",
    "# perform minimum variance analysis\n",
    "ef1 = EfficientFrontier(mu_sample, cov_sample, weight_bounds=(0, 0.2))\n",
    "\n",
    "fig, ax = plt.subplots()\n",
    "plotting.plot_efficient_frontier(ef1, ax=ax, show_assets=True)\n",
    "\n",
    "# Find and plot the tangency portfolio\n",
    "ef2 = EfficientFrontier(mu_sample, cov_sample, weight_bounds=(0, 0.2))\n",
    "# min volatility\n",
    "ef2.min_volatility()\n",
    "ret_tangent, std_tangent, _ = ef2.portfolio_performance()\n",
    "ax.scatter(std_tangent, ret_tangent, marker=\"*\", s=100, c=\"r\", label=\"Min Volatility\")\n",
    "\n",
    "# Format\n",
    "ax.set_title(\"Efficient Frontier - %s \\n Sample Covariance Estimates\" %industry_name)\n",
    "ax.legend()\n",
    "plt.tight_layout()\n",
    "plt.savefig('images/Efficient_Frontier_Sample_Covariance_Estimates' + str(industry_name) + '.png', dpi=200, bbox_inches='tight')\n",
    "plt.show()"
   ]
  },
  {
   "cell_type": "markdown",
   "id": "32f1139f",
   "metadata": {},
   "source": [
    "##### Min Volatility Portfolio"
   ]
  },
  {
   "cell_type": "markdown",
   "id": "16830a0f",
   "metadata": {},
   "source": [
    "###### Performance"
   ]
  },
  {
   "cell_type": "code",
   "execution_count": 18,
   "id": "5d45e1d6",
   "metadata": {
    "tags": [
     "remove-input"
    ]
   },
   "outputs": [
    {
     "name": "stdout",
     "output_type": "stream",
     "text": [
      "Expected annual return: 0.6%\n",
      "Annual volatility: 2.4%\n",
      "Sharpe Ratio: -0.57\n"
     ]
    }
   ],
   "source": [
    "ef2.portfolio_performance(verbose=True);"
   ]
  },
  {
   "cell_type": "markdown",
   "id": "38ee9c2a",
   "metadata": {},
   "source": [
    "###### Weights"
   ]
  },
  {
   "cell_type": "code",
   "execution_count": 19,
   "id": "6985f09c",
   "metadata": {
    "tags": [
     "remove-input"
    ]
   },
   "outputs": [],
   "source": [
    "companies = []\n",
    "weights = []\n",
    "for company, weight in ef2.clean_weights().items():\n",
    "    if weight != 0:\n",
    "        companies.append(company)\n",
    "        weights.append(weight)\n",
    "        \n",
    "dic = {'Company_Name':companies,'Weight':weights}\n",
    "min_vol = pd.DataFrame(dic)\n",
    "min_vol.to_csv(\"data/min_vol_sample_Prepackaged_Software.csv\", index = False)"
   ]
  },
  {
   "cell_type": "code",
   "execution_count": 20,
   "id": "d3cf439d",
   "metadata": {
    "tags": [
     "remove-input"
    ]
   },
   "outputs": [
    {
     "data": {
      "text/html": [
       "<div>\n",
       "<style scoped>\n",
       "    .dataframe tbody tr th:only-of-type {\n",
       "        vertical-align: middle;\n",
       "    }\n",
       "\n",
       "    .dataframe tbody tr th {\n",
       "        vertical-align: top;\n",
       "    }\n",
       "\n",
       "    .dataframe thead th {\n",
       "        text-align: right;\n",
       "    }\n",
       "</style>\n",
       "<table border=\"1\" class=\"dataframe\">\n",
       "  <thead>\n",
       "    <tr style=\"text-align: right;\">\n",
       "      <th></th>\n",
       "      <th>Company_Name</th>\n",
       "      <th>Weight</th>\n",
       "    </tr>\n",
       "  </thead>\n",
       "  <tbody>\n",
       "    <tr>\n",
       "      <th>0</th>\n",
       "      <td>BLACK KNIGHT, INC.</td>\n",
       "      <td>0.20000</td>\n",
       "    </tr>\n",
       "    <tr>\n",
       "      <th>1</th>\n",
       "      <td>QUMU CORP</td>\n",
       "      <td>0.05153</td>\n",
       "    </tr>\n",
       "    <tr>\n",
       "      <th>2</th>\n",
       "      <td>ZEDGE, INC.</td>\n",
       "      <td>0.01792</td>\n",
       "    </tr>\n",
       "    <tr>\n",
       "      <th>3</th>\n",
       "      <td>MAJESCO</td>\n",
       "      <td>0.01906</td>\n",
       "    </tr>\n",
       "    <tr>\n",
       "      <th>4</th>\n",
       "      <td>COMMVAULT SYSTEMS INC</td>\n",
       "      <td>0.07381</td>\n",
       "    </tr>\n",
       "    <tr>\n",
       "      <th>5</th>\n",
       "      <td>ORACLE CORP</td>\n",
       "      <td>0.09170</td>\n",
       "    </tr>\n",
       "    <tr>\n",
       "      <th>6</th>\n",
       "      <td>QUALYS, INC.</td>\n",
       "      <td>0.06668</td>\n",
       "    </tr>\n",
       "    <tr>\n",
       "      <th>7</th>\n",
       "      <td>MICROSTRATEGY INC</td>\n",
       "      <td>0.02160</td>\n",
       "    </tr>\n",
       "    <tr>\n",
       "      <th>8</th>\n",
       "      <td>AWARE INC /MA/</td>\n",
       "      <td>0.20000</td>\n",
       "    </tr>\n",
       "    <tr>\n",
       "      <th>9</th>\n",
       "      <td>AVID TECHNOLOGY, INC.</td>\n",
       "      <td>0.00129</td>\n",
       "    </tr>\n",
       "    <tr>\n",
       "      <th>10</th>\n",
       "      <td>ACI WORLDWIDE, INC.</td>\n",
       "      <td>0.11314</td>\n",
       "    </tr>\n",
       "    <tr>\n",
       "      <th>11</th>\n",
       "      <td>NUANCE COMMUNICATIONS, INC.</td>\n",
       "      <td>0.08608</td>\n",
       "    </tr>\n",
       "    <tr>\n",
       "      <th>12</th>\n",
       "      <td>ROSETTA STONE INC</td>\n",
       "      <td>0.01647</td>\n",
       "    </tr>\n",
       "    <tr>\n",
       "      <th>13</th>\n",
       "      <td>ENDURANCE INTERNATIONAL GROUP HOLDINGS, INC.</td>\n",
       "      <td>0.02554</td>\n",
       "    </tr>\n",
       "    <tr>\n",
       "      <th>14</th>\n",
       "      <td>LIVEPERSON INC</td>\n",
       "      <td>0.01519</td>\n",
       "    </tr>\n",
       "  </tbody>\n",
       "</table>\n",
       "</div>"
      ],
      "text/plain": [
       "                                    Company_Name   Weight\n",
       "0                             BLACK KNIGHT, INC.  0.20000\n",
       "1                                      QUMU CORP  0.05153\n",
       "2                                    ZEDGE, INC.  0.01792\n",
       "3                                        MAJESCO  0.01906\n",
       "4                          COMMVAULT SYSTEMS INC  0.07381\n",
       "5                                    ORACLE CORP  0.09170\n",
       "6                                   QUALYS, INC.  0.06668\n",
       "7                              MICROSTRATEGY INC  0.02160\n",
       "8                                 AWARE INC /MA/  0.20000\n",
       "9                          AVID TECHNOLOGY, INC.  0.00129\n",
       "10                           ACI WORLDWIDE, INC.  0.11314\n",
       "11                   NUANCE COMMUNICATIONS, INC.  0.08608\n",
       "12                             ROSETTA STONE INC  0.01647\n",
       "13  ENDURANCE INTERNATIONAL GROUP HOLDINGS, INC.  0.02554\n",
       "14                                LIVEPERSON INC  0.01519"
      ]
     },
     "execution_count": 20,
     "metadata": {},
     "output_type": "execute_result"
    }
   ],
   "source": [
    "pd.read_csv(\"data/min_vol_sample_Prepackaged_Software.csv\")"
   ]
  },
  {
   "cell_type": "markdown",
   "id": "70faca0a",
   "metadata": {},
   "source": [
    "#### Crude Petroleum and Natural Gas\n",
    "When we conduct the same analysis, there is no weight shown. Efficient frontier cannot be found."
   ]
  },
  {
   "cell_type": "markdown",
   "id": "b647a7f7",
   "metadata": {},
   "source": [
    "#### Real Estate Investment Trusts"
   ]
  },
  {
   "cell_type": "code",
   "execution_count": 22,
   "id": "2548ca70",
   "metadata": {
    "tags": [
     "remove-input"
    ]
   },
   "outputs": [],
   "source": [
    "SIC = SIC_list[2]\n",
    "    \n",
    "industry_name = SIC_desc[SIC_list.index(SIC)]\n",
    "    \n",
    "# get the names of the companies in the other industries\n",
    "Companies = df[df.SIC == SIC]\n",
    "Company_list = Companies.index\n",
    "\n",
    "# get the companies name that match return data and business description data\n",
    "SET = (set(Company_list) & set(r_selected.index))\n",
    "LIST = [*SET, ]\n",
    "\n",
    "mu_sample = mu[LIST]\n",
    "# get the outliers\n",
    "outlier = mu_sample[mu_sample>1].index\n",
    "mu_sample = mu_sample.drop(outlier)\n",
    "LIST = mu_sample.index\n",
    "\n",
    "tmp = cov[LIST].T\n",
    "cov_sample = tmp[LIST]"
   ]
  },
  {
   "cell_type": "code",
   "execution_count": 23,
   "id": "b509bd99",
   "metadata": {
    "tags": [
     "remove-input"
    ]
   },
   "outputs": [
    {
     "data": {
      "image/png": "[encoded data removed]",
      "text/plain": [
       "<Figure size 432x288 with 1 Axes>"
      ]
     },
     "metadata": {
      "needs_background": "light"
     },
     "output_type": "display_data"
    }
   ],
   "source": [
    "# perform minimum variance analysis\n",
    "ef1 = EfficientFrontier(mu_sample, cov_sample, weight_bounds=(0, 0.2))\n",
    "\n",
    "fig, ax = plt.subplots()\n",
    "plotting.plot_efficient_frontier(ef1, ax=ax, show_assets=True)\n",
    "\n",
    "# Find and plot the tangency portfolio\n",
    "ef2 = EfficientFrontier(mu_sample, cov_sample, weight_bounds=(0, 0.2))\n",
    "# min volatility\n",
    "ef2.min_volatility()\n",
    "ret_tangent, std_tangent, _ = ef2.portfolio_performance()\n",
    "ax.scatter(std_tangent, ret_tangent, marker=\"*\", s=100, c=\"r\", label=\"Min Volatility\")\n",
    "\n",
    "# Format\n",
    "ax.set_title(\"Efficient Frontier - %s \\n Sample Covariance Estimates\" %industry_name)\n",
    "ax.legend()\n",
    "plt.tight_layout()\n",
    "plt.savefig('images/Efficient_Frontier_Sample_Covariance_Estimates' + str(industry_name) + '.png', dpi=200, bbox_inches='tight')\n",
    "plt.show()"
   ]
  },
  {
   "cell_type": "markdown",
   "id": "460672e3",
   "metadata": {},
   "source": [
    "##### Min Volatility Portfolio"
   ]
  },
  {
   "cell_type": "markdown",
   "id": "4f94fd2b",
   "metadata": {},
   "source": [
    "###### Performance"
   ]
  },
  {
   "cell_type": "code",
   "execution_count": 24,
   "id": "85ee33ba",
   "metadata": {
    "tags": [
     "remove-input"
    ]
   },
   "outputs": [
    {
     "name": "stdout",
     "output_type": "stream",
     "text": [
      "Expected annual return: 0.5%\n",
      "Annual volatility: 1.8%\n",
      "Sharpe Ratio: -0.80\n"
     ]
    }
   ],
   "source": [
    "ef2.portfolio_performance(verbose=True);"
   ]
  },
  {
   "cell_type": "markdown",
   "id": "b41571c6",
   "metadata": {},
   "source": [
    "###### Weights"
   ]
  },
  {
   "cell_type": "code",
   "execution_count": 25,
   "id": "f1e07692",
   "metadata": {
    "tags": [
     "remove-input"
    ]
   },
   "outputs": [],
   "source": [
    "companies = []\n",
    "weights = []\n",
    "for company, weight in ef2.clean_weights().items():\n",
    "    if weight != 0:\n",
    "        companies.append(company)\n",
    "        weights.append(weight)\n",
    "        \n",
    "dic = {'Company_Name':companies,'Weight':weights}\n",
    "min_vol = pd.DataFrame(dic)\n",
    "min_vol.to_csv(\"data/min_vol_sample_Real_Estate_Investment_Trusts.csv\", index = False)"
   ]
  },
  {
   "cell_type": "code",
   "execution_count": 26,
   "id": "9717278d",
   "metadata": {
    "tags": [
     "remove-input"
    ]
   },
   "outputs": [
    {
     "data": {
      "text/html": [
       "<div>\n",
       "<style scoped>\n",
       "    .dataframe tbody tr th:only-of-type {\n",
       "        vertical-align: middle;\n",
       "    }\n",
       "\n",
       "    .dataframe tbody tr th {\n",
       "        vertical-align: top;\n",
       "    }\n",
       "\n",
       "    .dataframe thead th {\n",
       "        text-align: right;\n",
       "    }\n",
       "</style>\n",
       "<table border=\"1\" class=\"dataframe\">\n",
       "  <thead>\n",
       "    <tr style=\"text-align: right;\">\n",
       "      <th></th>\n",
       "      <th>Company_Name</th>\n",
       "      <th>Weight</th>\n",
       "    </tr>\n",
       "  </thead>\n",
       "  <tbody>\n",
       "    <tr>\n",
       "      <th>0</th>\n",
       "      <td>CIM COMMERCIAL TRUST CORP</td>\n",
       "      <td>0.05461</td>\n",
       "    </tr>\n",
       "    <tr>\n",
       "      <th>1</th>\n",
       "      <td>MANHATTAN BRIDGE CAPITAL, INC</td>\n",
       "      <td>0.01483</td>\n",
       "    </tr>\n",
       "    <tr>\n",
       "      <th>2</th>\n",
       "      <td>LADDER CAPITAL CORP</td>\n",
       "      <td>0.04420</td>\n",
       "    </tr>\n",
       "    <tr>\n",
       "      <th>3</th>\n",
       "      <td>EQUITY COMMONWEALTH</td>\n",
       "      <td>0.20000</td>\n",
       "    </tr>\n",
       "    <tr>\n",
       "      <th>4</th>\n",
       "      <td>BRT APARTMENTS CORP.</td>\n",
       "      <td>0.01724</td>\n",
       "    </tr>\n",
       "    <tr>\n",
       "      <th>5</th>\n",
       "      <td>PUBLIC STORAGE</td>\n",
       "      <td>0.10938</td>\n",
       "    </tr>\n",
       "    <tr>\n",
       "      <th>6</th>\n",
       "      <td>GREAT AJAX CORP.</td>\n",
       "      <td>0.20000</td>\n",
       "    </tr>\n",
       "    <tr>\n",
       "      <th>7</th>\n",
       "      <td>ALEXANDERS INC</td>\n",
       "      <td>0.02285</td>\n",
       "    </tr>\n",
       "    <tr>\n",
       "      <th>8</th>\n",
       "      <td>IMPAC MORTGAGE HOLDINGS INC</td>\n",
       "      <td>0.05108</td>\n",
       "    </tr>\n",
       "    <tr>\n",
       "      <th>9</th>\n",
       "      <td>NEW YORK MORTGAGE TRUST INC</td>\n",
       "      <td>0.02084</td>\n",
       "    </tr>\n",
       "    <tr>\n",
       "      <th>10</th>\n",
       "      <td>ARES COMMERCIAL REAL ESTATE CORP</td>\n",
       "      <td>0.09107</td>\n",
       "    </tr>\n",
       "    <tr>\n",
       "      <th>11</th>\n",
       "      <td>CROWN CASTLE INTERNATIONAL CORP</td>\n",
       "      <td>0.04875</td>\n",
       "    </tr>\n",
       "    <tr>\n",
       "      <th>12</th>\n",
       "      <td>HMG COURTLAND PROPERTIES INC</td>\n",
       "      <td>0.12513</td>\n",
       "    </tr>\n",
       "  </tbody>\n",
       "</table>\n",
       "</div>"
      ],
      "text/plain": [
       "                        Company_Name   Weight\n",
       "0          CIM COMMERCIAL TRUST CORP  0.05461\n",
       "1      MANHATTAN BRIDGE CAPITAL, INC  0.01483\n",
       "2                LADDER CAPITAL CORP  0.04420\n",
       "3                EQUITY COMMONWEALTH  0.20000\n",
       "4               BRT APARTMENTS CORP.  0.01724\n",
       "5                     PUBLIC STORAGE  0.10938\n",
       "6                   GREAT AJAX CORP.  0.20000\n",
       "7                     ALEXANDERS INC  0.02285\n",
       "8        IMPAC MORTGAGE HOLDINGS INC  0.05108\n",
       "9        NEW YORK MORTGAGE TRUST INC  0.02084\n",
       "10  ARES COMMERCIAL REAL ESTATE CORP  0.09107\n",
       "11   CROWN CASTLE INTERNATIONAL CORP  0.04875\n",
       "12      HMG COURTLAND PROPERTIES INC  0.12513"
      ]
     },
     "execution_count": 26,
     "metadata": {},
     "output_type": "execute_result"
    }
   ],
   "source": [
    "pd.read_csv(\"data/min_vol_sample_Real_Estate_Investment_Trusts.csv\")"
   ]
  },
  {
   "cell_type": "markdown",
   "id": "2969d194",
   "metadata": {},
   "source": [
    "#### State Commercial Banks (commercial banking)"
   ]
  },
  {
   "cell_type": "code",
   "execution_count": 27,
   "id": "d5f19af6",
   "metadata": {
    "tags": [
     "remove-input"
    ]
   },
   "outputs": [
    {
     "data": {
      "image/png": "[encoded data removed]",
      "text/plain": [
       "<Figure size 432x288 with 1 Axes>"
      ]
     },
     "metadata": {
      "needs_background": "light"
     },
     "output_type": "display_data"
    }
   ],
   "source": [
    "SIC = SIC_list[3]\n",
    "    \n",
    "industry_name = SIC_desc[SIC_list.index(SIC)]\n",
    "    \n",
    "# get the names of the companies in the other industries\n",
    "Companies = df[df.SIC == SIC]\n",
    "Company_list = Companies.index\n",
    "\n",
    "# get the companies name that match return data and business description data\n",
    "SET = (set(Company_list) & set(r_selected.index))\n",
    "LIST = [*SET, ]\n",
    "\n",
    "mu_sample = mu[LIST]\n",
    "# get the outliers\n",
    "outlier = mu_sample[mu_sample>1].index\n",
    "mu_sample = mu_sample.drop(outlier)\n",
    "LIST = mu_sample.index\n",
    "\n",
    "tmp = cov[LIST].T\n",
    "cov_sample = tmp[LIST]\n",
    "\n",
    "# perform minimum variance analysis\n",
    "ef1 = EfficientFrontier(mu_sample, cov_sample, weight_bounds=(0, 0.2))\n",
    "\n",
    "fig, ax = plt.subplots()\n",
    "plotting.plot_efficient_frontier(ef1, ax=ax, show_assets=True)\n",
    "\n",
    "# Find and plot the tangency portfolio\n",
    "ef2 = EfficientFrontier(mu_sample, cov_sample, weight_bounds=(0, 0.2))\n",
    "# min volatility\n",
    "ef2.min_volatility()\n",
    "ret_tangent, std_tangent, _ = ef2.portfolio_performance()\n",
    "ax.scatter(std_tangent, ret_tangent, marker=\"*\", s=100, c=\"r\", label=\"Min Volatility\")\n",
    "\n",
    "# Format\n",
    "ax.set_title(\"Efficient Frontier - %s \\n Sample Covariance Estimates\" %industry_name)\n",
    "ax.legend()\n",
    "plt.tight_layout()\n",
    "plt.savefig('images/Efficient_Frontier_Sample_Covariance_Estimates' + str(industry_name) + '.png', dpi=200, bbox_inches='tight')\n",
    "plt.show()"
   ]
  },
  {
   "cell_type": "markdown",
   "id": "16606fec",
   "metadata": {},
   "source": [
    "##### Min Volatility Portfolio"
   ]
  },
  {
   "cell_type": "markdown",
   "id": "514ee9d9",
   "metadata": {},
   "source": [
    "###### Performance"
   ]
  },
  {
   "cell_type": "code",
   "execution_count": 28,
   "id": "20cfa5e9",
   "metadata": {
    "tags": [
     "remove-input"
    ]
   },
   "outputs": [
    {
     "name": "stdout",
     "output_type": "stream",
     "text": [
      "Expected annual return: 1.2%\n",
      "Annual volatility: 2.7%\n",
      "Sharpe Ratio: -0.28\n"
     ]
    }
   ],
   "source": [
    "ef2.portfolio_performance(verbose=True);"
   ]
  },
  {
   "cell_type": "markdown",
   "id": "6f6a25ce",
   "metadata": {},
   "source": [
    "###### Weights"
   ]
  },
  {
   "cell_type": "code",
   "execution_count": 29,
   "id": "141cb5a6",
   "metadata": {
    "tags": [
     "remove-input"
    ]
   },
   "outputs": [],
   "source": [
    "companies = []\n",
    "weights = []\n",
    "for company, weight in ef2.clean_weights().items():\n",
    "    if weight != 0:\n",
    "        companies.append(company)\n",
    "        weights.append(weight)\n",
    "        \n",
    "dic = {'Company_Name':companies,'Weight':weights}\n",
    "min_vol = pd.DataFrame(dic)\n",
    "min_vol.to_csv(\"data/min_vol_sample_State_Commercial_Banks.csv\", index = False)"
   ]
  },
  {
   "cell_type": "code",
   "execution_count": 30,
   "id": "4cdfa66e",
   "metadata": {
    "tags": [
     "remove-input"
    ]
   },
   "outputs": [
    {
     "data": {
      "text/html": [
       "<div>\n",
       "<style scoped>\n",
       "    .dataframe tbody tr th:only-of-type {\n",
       "        vertical-align: middle;\n",
       "    }\n",
       "\n",
       "    .dataframe tbody tr th {\n",
       "        vertical-align: top;\n",
       "    }\n",
       "\n",
       "    .dataframe thead th {\n",
       "        text-align: right;\n",
       "    }\n",
       "</style>\n",
       "<table border=\"1\" class=\"dataframe\">\n",
       "  <thead>\n",
       "    <tr style=\"text-align: right;\">\n",
       "      <th></th>\n",
       "      <th>Company_Name</th>\n",
       "      <th>Weight</th>\n",
       "    </tr>\n",
       "  </thead>\n",
       "  <tbody>\n",
       "    <tr>\n",
       "      <th>0</th>\n",
       "      <td>MACKINAC FINANCIAL CORP /MI/</td>\n",
       "      <td>0.02478</td>\n",
       "    </tr>\n",
       "    <tr>\n",
       "      <th>1</th>\n",
       "      <td>FIRST COMMUNITY CORP /SC/</td>\n",
       "      <td>0.05076</td>\n",
       "    </tr>\n",
       "    <tr>\n",
       "      <th>2</th>\n",
       "      <td>CITIZENS &amp; NORTHERN CORP</td>\n",
       "      <td>0.05375</td>\n",
       "    </tr>\n",
       "    <tr>\n",
       "      <th>3</th>\n",
       "      <td>VILLAGE BANK &amp; TRUST FINANCIAL CORP.</td>\n",
       "      <td>0.13994</td>\n",
       "    </tr>\n",
       "    <tr>\n",
       "      <th>4</th>\n",
       "      <td>GUARANTY FEDERAL BANCSHARES INC</td>\n",
       "      <td>0.17724</td>\n",
       "    </tr>\n",
       "    <tr>\n",
       "      <th>5</th>\n",
       "      <td>BANK OF NEW YORK MELLON CORP</td>\n",
       "      <td>0.09533</td>\n",
       "    </tr>\n",
       "    <tr>\n",
       "      <th>6</th>\n",
       "      <td>RELIANT BANCORP, INC.</td>\n",
       "      <td>0.12273</td>\n",
       "    </tr>\n",
       "    <tr>\n",
       "      <th>7</th>\n",
       "      <td>CAROLINA TRUST BANCSHARES, INC.</td>\n",
       "      <td>0.11786</td>\n",
       "    </tr>\n",
       "    <tr>\n",
       "      <th>8</th>\n",
       "      <td>BANK OF THE JAMES FINANCIAL GROUP INC</td>\n",
       "      <td>0.00178</td>\n",
       "    </tr>\n",
       "    <tr>\n",
       "      <th>9</th>\n",
       "      <td>FAUQUIER BANKSHARES, INC.</td>\n",
       "      <td>0.02143</td>\n",
       "    </tr>\n",
       "    <tr>\n",
       "      <th>10</th>\n",
       "      <td>INVESTAR HOLDING CORP</td>\n",
       "      <td>0.19440</td>\n",
       "    </tr>\n",
       "  </tbody>\n",
       "</table>\n",
       "</div>"
      ],
      "text/plain": [
       "                             Company_Name   Weight\n",
       "0            MACKINAC FINANCIAL CORP /MI/  0.02478\n",
       "1               FIRST COMMUNITY CORP /SC/  0.05076\n",
       "2                CITIZENS & NORTHERN CORP  0.05375\n",
       "3    VILLAGE BANK & TRUST FINANCIAL CORP.  0.13994\n",
       "4         GUARANTY FEDERAL BANCSHARES INC  0.17724\n",
       "5            BANK OF NEW YORK MELLON CORP  0.09533\n",
       "6                   RELIANT BANCORP, INC.  0.12273\n",
       "7         CAROLINA TRUST BANCSHARES, INC.  0.11786\n",
       "8   BANK OF THE JAMES FINANCIAL GROUP INC  0.00178\n",
       "9               FAUQUIER BANKSHARES, INC.  0.02143\n",
       "10                  INVESTAR HOLDING CORP  0.19440"
      ]
     },
     "execution_count": 30,
     "metadata": {},
     "output_type": "execute_result"
    }
   ],
   "source": [
    "pd.read_csv(\"data/min_vol_sample_State_Commercial_Banks.csv\")"
   ]
  }
 ],
 "metadata": {
  "celltoolbar": "Edit Metadata",
  "kernelspec": {
   "display_name": "Python 3 (ipykernel)",
   "language": "python",
   "name": "python3"
  },
  "language_info": {
   "codemirror_mode": {
    "name": "ipython",
    "version": 3
   },
   "file_extension": ".py",
   "mimetype": "text/x-python",
   "name": "python",
   "nbconvert_exporter": "python",
   "pygments_lexer": "ipython3",
   "version": "3.9.7"
  }
 },
 "nbformat": 4,
 "nbformat_minor": 5
}

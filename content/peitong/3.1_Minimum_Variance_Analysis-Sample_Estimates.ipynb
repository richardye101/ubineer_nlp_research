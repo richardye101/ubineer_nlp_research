{
 "cells": [
  {
   "cell_type": "code",
   "execution_count": 1,
   "id": "1bcaa702",
   "metadata": {
    "tags": [
     "remove-input"
    ]
   },
   "outputs": [],
   "source": [
    "import sys\n",
    "sys.path.insert(0, '..')\n",
    "%load_ext autoreload\n",
    "%autoreload 2\n",
    "%aimport std_func"
   ]
  },
  {
   "cell_type": "code",
   "execution_count": 2,
   "id": "ac5e5cb6",
   "metadata": {
    "tags": [
     "hide-input"
    ]
   },
   "outputs": [],
   "source": [
    "import pandas as pd\n",
    "import numpy as np\n",
    "import matplotlib.pyplot as plt\n",
    "import seaborn as sns"
   ]
  },
  {
   "cell_type": "markdown",
   "id": "d9148826",
   "metadata": {},
   "source": [
    "## Estimates from Sample Covariance"
   ]
  },
  {
   "cell_type": "markdown",
   "id": "26343f60",
   "metadata": {},
   "source": [
    "### Monthly Returns\n",
    "Since we will generate cosine similarity estimates in the next notebook using business description of companies from 2016 to 2018. We only consider monthly returns before 2019."
   ]
  },
  {
   "cell_type": "code",
   "execution_count": 3,
   "id": "66f11a5d",
   "metadata": {
    "tags": [
     "remove-input"
    ]
   },
   "outputs": [],
   "source": [
    "#returns_data = pd.read_csv('../data/returns_2018_top5_SIC.csv', \n",
    "#                      parse_dates = ['DATE'], \n",
    "#                      usecols = [\"trt1m\", \"CIK\", \"name\", \"DATE\"])"
   ]
  },
  {
   "cell_type": "code",
   "execution_count": 36,
   "id": "d054cea0",
   "metadata": {
    "tags": [
     "remove-input"
    ]
   },
   "outputs": [],
   "source": [
    "# TAKE OUT THE DATA before 2019 and reset index\n",
    "#end_date = pd.to_datetime('2019-01-01')\n",
    "#returns = returns_data.loc[returns_data['DATE'] < end_date]\n",
    "\n",
    "# drop the missing value\n",
    "#returns = returns.dropna()\n",
    "# group the data by name and date\n",
    "#group_returns = returns.groupby(['name', 'DATE'])\n",
    "# calculate the percentage return\n",
    "#group_returns_pct = group_returns.agg({\"trt1m\": (lambda x:  x/100)})\n",
    "#r_selected = group_returns_pct.unstack()\n",
    "# drop the first index\n",
    "#r_selected.columns = r_selected.columns.droplevel(0)"
   ]
  },
  {
   "cell_type": "code",
   "execution_count": 40,
   "id": "233c60c5",
   "metadata": {
    "tags": [
     "remove-input"
    ]
   },
   "outputs": [],
   "source": [
    "# there are some rows containing more than one float number (array of multiple returns)\n",
    "#for i in range(len(r_selected)):\n",
    "#    if type(r_selected.iloc[i,1]) == np.ndarray:\n",
    "#        r_selected = r_selected.drop(index = r_selected.index[i])\n",
    "# convert object to float\n",
    "#r_selected = r_selected.astype(float)\n",
    "# drop missing values rows\n",
    "#r_selected = r_selected.dropna()\n",
    "#r_selected.to_csv(\"filtered_r.csv\")\n",
    "# get the mean of all \n",
    "#mu = r_selected.mean(axis = 1)\n",
    "# compute the covariance matrix \n",
    "#cov = r_selected.T.cov()"
   ]
  },
  {
   "cell_type": "code",
   "execution_count": 92,
   "id": "89f2f46b",
   "metadata": {
    "tags": [
     "hide-input"
    ]
   },
   "outputs": [],
   "source": [
    "r_selected = pd.read_csv(\"filtered_r.csv\")\n",
    "# get the mean of all \n",
    "r_selected.set_index(\"name\", inplace = True)\n",
    "mu = r_selected.mean(axis = 1)\n",
    "# compute the covariance matrix \n",
    "cov = r_selected.T.cov()"
   ]
  },
  {
   "cell_type": "code",
   "execution_count": 8,
   "id": "3406d469",
   "metadata": {
    "tags": [
     "remove-input"
    ]
   },
   "outputs": [],
   "source": [
    "## Cosine Similarity"
   ]
  },
  {
   "cell_type": "code",
   "execution_count": 94,
   "id": "12637e4f",
   "metadata": {
    "tags": [
     "remove-input"
    ]
   },
   "outputs": [],
   "source": [
    "df = pd.read_csv('../data/preprocessed.csv',\n",
    "                 usecols = ['reportingDate', 'name', 'CIK',\n",
    "                           'coDescription_stopwords', 'SIC', 'SIC_desc'])\n",
    "df = df.set_index(df.name)"
   ]
  },
  {
   "cell_type": "code",
   "execution_count": 95,
   "id": "dac58bb7",
   "metadata": {
    "tags": [
     "remove-input"
    ]
   },
   "outputs": [],
   "source": [
    "from sklearn.feature_extraction.text import CountVectorizer\n",
    "\n",
    "Vectorizer = CountVectorizer(ngram_range = (2,4), \n",
    "                             max_features = 600)\n",
    "\n",
    "count_data = Vectorizer.fit_transform(df['coDescription_stopwords'])\n",
    "wordsCount = pd.DataFrame(count_data.toarray(),columns=Vectorizer.get_feature_names_out())\n",
    "wordsCount = wordsCount.set_index(df['name'])"
   ]
  },
  {
   "cell_type": "code",
   "execution_count": 96,
   "id": "4d76062d",
   "metadata": {
    "tags": [
     "remove-input"
    ]
   },
   "outputs": [],
   "source": [
    "#### Cosine Similarity Computation"
   ]
  },
  {
   "cell_type": "code",
   "execution_count": 97,
   "id": "d993e48d",
   "metadata": {
    "tags": [
     "remove-input"
    ]
   },
   "outputs": [],
   "source": [
    "# Compute Cosine Similarity\n",
    "from sklearn.metrics.pairwise import cosine_similarity\n",
    "cosine_sim = pd.DataFrame(cosine_similarity(wordsCount, wordsCount))\n",
    "cosine_sim = cosine_sim.set_index(df['name'])\n",
    "cosine_sim.columns = df['name']\n",
    "#cosine_sim"
   ]
  },
  {
   "cell_type": "markdown",
   "id": "70db3425",
   "metadata": {},
   "source": [
    "### Perform Mean-Variance Analysis"
   ]
  },
  {
   "cell_type": "code",
   "execution_count": 98,
   "id": "f245cf2e",
   "metadata": {
    "tags": [
     "hide-input"
    ]
   },
   "outputs": [],
   "source": [
    "from pypfopt import EfficientFrontier\n",
    "from pypfopt import risk_models\n",
    "from pypfopt import expected_returns\n",
    "from pypfopt import objective_functions\n",
    "from pypfopt import plotting"
   ]
  },
  {
   "cell_type": "code",
   "execution_count": 99,
   "id": "b9f6cdc4",
   "metadata": {
    "tags": [
     "hide-input"
    ]
   },
   "outputs": [],
   "source": [
    "# get the names of the companies in the pharmaceutical preparations industry\n",
    "Pharm = df[df.SIC == 2834]\n",
    "Pharm_list = Pharm.index"
   ]
  },
  {
   "cell_type": "code",
   "execution_count": 100,
   "id": "98c532c4",
   "metadata": {
    "scrolled": true,
    "tags": [
     "hide-input"
    ]
   },
   "outputs": [],
   "source": [
    "# get the companies name that match return data and business description data\n",
    "SET = (set(Pharm_list) & set(r_selected.index))\n",
    "LIST = [*SET, ]"
   ]
  },
  {
   "cell_type": "markdown",
   "id": "270561f4",
   "metadata": {},
   "source": [
    "#### Mean and Covariance for Returns in the Pharmaceutical Preparations Industry"
   ]
  },
  {
   "cell_type": "code",
   "execution_count": 101,
   "id": "7b6da842",
   "metadata": {
    "tags": [
     "hide-input"
    ]
   },
   "outputs": [],
   "source": [
    "mu_Pharm = mu[LIST]"
   ]
  },
  {
   "cell_type": "code",
   "execution_count": 102,
   "id": "8e72a50e",
   "metadata": {
    "tags": [
     "hide-input"
    ]
   },
   "outputs": [],
   "source": [
    "tmp = cov[LIST].T\n",
    "cov_Pharm = tmp[LIST]"
   ]
  },
  {
   "cell_type": "code",
   "execution_count": 103,
   "id": "520714a6",
   "metadata": {},
   "outputs": [],
   "source": [
    "#### Cosine Similarity Distances in the Pharmaceutical Preparations Industry"
   ]
  },
  {
   "cell_type": "code",
   "execution_count": 104,
   "id": "0b815891",
   "metadata": {
    "scrolled": true,
    "tags": [
     "remove-input"
    ]
   },
   "outputs": [],
   "source": [
    "tmp = cosine_sim[LIST].drop_duplicates().T\n",
    "Pharm_cos_sim = tmp[LIST].drop_duplicates()"
   ]
  },
  {
   "cell_type": "code",
   "execution_count": 105,
   "id": "66c1276d",
   "metadata": {},
   "outputs": [],
   "source": [
    "#### Covariance for Cosine Similarity"
   ]
  },
  {
   "cell_type": "code",
   "execution_count": 106,
   "id": "3f704079",
   "metadata": {
    "tags": [
     "remove-input"
    ]
   },
   "outputs": [],
   "source": [
    "cos_sim_sd = pd.DataFrame(np.sqrt(np.diag(np.diagonal(cov_Pharm))))\n",
    "cos_sim_sd = cos_sim_sd.set_index(cov_Pharm.index)\n",
    "cos_sim_sd.columns = cov_Pharm.index"
   ]
  },
  {
   "cell_type": "code",
   "execution_count": 107,
   "id": "82b2dc8a",
   "metadata": {
    "tags": [
     "remove-input"
    ]
   },
   "outputs": [],
   "source": [
    "cos_sim_cov = pd.DataFrame((np.dot(np.dot(cos_sim_sd, Pharm_cos_sim),cos_sim_sd)))"
   ]
  },
  {
   "cell_type": "markdown",
   "id": "db23e564",
   "metadata": {},
   "source": [
    "### Minmum Volatility Portfolio Weights "
   ]
  },
  {
   "cell_type": "markdown",
   "id": "fc1b6a4c",
   "metadata": {},
   "source": [
    "#### Comparing sample mean and covariance"
   ]
  },
  {
   "cell_type": "code",
   "execution_count": 108,
   "id": "54531474",
   "metadata": {},
   "outputs": [
    {
     "data": {
      "text/plain": [
       "name\n",
       "TONIX PHARMACEUTICALS HOLDING CORP.   -0.091454\n",
       "CYMABAY THERAPEUTICS, INC.             0.063536\n",
       "XOMA CORP                              0.027546\n",
       "CARA THERAPEUTICS, INC.                0.041563\n",
       "HORIZON PHARMA PLC                     0.011321\n",
       "                                         ...   \n",
       "CYTOMX THERAPEUTICS, INC.              0.022405\n",
       "PFIZER INC                             0.011145\n",
       "CONCERT PHARMACEUTICALS, INC.          0.014813\n",
       "RETROPHIN, INC.                        0.015130\n",
       "CATALYST PHARMACEUTICALS, INC.         0.058129\n",
       "Length: 124, dtype: float64"
      ]
     },
     "execution_count": 108,
     "metadata": {},
     "output_type": "execute_result"
    }
   ],
   "source": [
    "mu_Pharm"
   ]
  },
  {
   "cell_type": "code",
   "execution_count": 109,
   "id": "b1225cd9",
   "metadata": {},
   "outputs": [
    {
     "data": {
      "text/html": [
       "<div>\n",
       "<style scoped>\n",
       "    .dataframe tbody tr th:only-of-type {\n",
       "        vertical-align: middle;\n",
       "    }\n",
       "\n",
       "    .dataframe tbody tr th {\n",
       "        vertical-align: top;\n",
       "    }\n",
       "\n",
       "    .dataframe thead th {\n",
       "        text-align: right;\n",
       "    }\n",
       "</style>\n",
       "<table border=\"1\" class=\"dataframe\">\n",
       "  <thead>\n",
       "    <tr style=\"text-align: right;\">\n",
       "      <th>name</th>\n",
       "      <th>TONIX PHARMACEUTICALS HOLDING CORP.</th>\n",
       "      <th>CYMABAY THERAPEUTICS, INC.</th>\n",
       "      <th>XOMA CORP</th>\n",
       "      <th>CARA THERAPEUTICS, INC.</th>\n",
       "      <th>HORIZON PHARMA PLC</th>\n",
       "      <th>ASSEMBLY BIOSCIENCES, INC.</th>\n",
       "      <th>CYCLACEL PHARMACEUTICALS, INC.</th>\n",
       "      <th>INTERCEPT PHARMACEUTICALS INC</th>\n",
       "      <th>MARINUS PHARMACEUTICALS INC</th>\n",
       "      <th>ACADIA PHARMACEUTICALS INC</th>\n",
       "      <th>...</th>\n",
       "      <th>SAREPTA THERAPEUTICS, INC.</th>\n",
       "      <th>ARQULE INC</th>\n",
       "      <th>ACHAOGEN INC</th>\n",
       "      <th>BIODELIVERY SCIENCES INTERNATIONAL INC</th>\n",
       "      <th>THERAPEUTICSMD, INC.</th>\n",
       "      <th>CYTOMX THERAPEUTICS, INC.</th>\n",
       "      <th>PFIZER INC</th>\n",
       "      <th>CONCERT PHARMACEUTICALS, INC.</th>\n",
       "      <th>RETROPHIN, INC.</th>\n",
       "      <th>CATALYST PHARMACEUTICALS, INC.</th>\n",
       "    </tr>\n",
       "    <tr>\n",
       "      <th>name</th>\n",
       "      <th></th>\n",
       "      <th></th>\n",
       "      <th></th>\n",
       "      <th></th>\n",
       "      <th></th>\n",
       "      <th></th>\n",
       "      <th></th>\n",
       "      <th></th>\n",
       "      <th></th>\n",
       "      <th></th>\n",
       "      <th></th>\n",
       "      <th></th>\n",
       "      <th></th>\n",
       "      <th></th>\n",
       "      <th></th>\n",
       "      <th></th>\n",
       "      <th></th>\n",
       "      <th></th>\n",
       "      <th></th>\n",
       "      <th></th>\n",
       "      <th></th>\n",
       "    </tr>\n",
       "  </thead>\n",
       "  <tbody>\n",
       "    <tr>\n",
       "      <th>TONIX PHARMACEUTICALS HOLDING CORP.</th>\n",
       "      <td>0.065843</td>\n",
       "      <td>0.023016</td>\n",
       "      <td>0.009765</td>\n",
       "      <td>0.004046</td>\n",
       "      <td>-0.001439</td>\n",
       "      <td>-0.004349</td>\n",
       "      <td>0.010930</td>\n",
       "      <td>-0.005596</td>\n",
       "      <td>0.016549</td>\n",
       "      <td>-0.001785</td>\n",
       "      <td>...</td>\n",
       "      <td>-0.012764</td>\n",
       "      <td>0.012465</td>\n",
       "      <td>0.017652</td>\n",
       "      <td>0.009037</td>\n",
       "      <td>0.008163</td>\n",
       "      <td>-0.006814</td>\n",
       "      <td>-0.000593</td>\n",
       "      <td>0.003213</td>\n",
       "      <td>-0.004944</td>\n",
       "      <td>0.008700</td>\n",
       "    </tr>\n",
       "    <tr>\n",
       "      <th>CYMABAY THERAPEUTICS, INC.</th>\n",
       "      <td>0.023016</td>\n",
       "      <td>0.060813</td>\n",
       "      <td>0.013594</td>\n",
       "      <td>0.008657</td>\n",
       "      <td>0.000766</td>\n",
       "      <td>-0.003386</td>\n",
       "      <td>-0.013297</td>\n",
       "      <td>-0.001538</td>\n",
       "      <td>0.018308</td>\n",
       "      <td>0.002903</td>\n",
       "      <td>...</td>\n",
       "      <td>-0.006259</td>\n",
       "      <td>-0.002345</td>\n",
       "      <td>0.005435</td>\n",
       "      <td>0.002469</td>\n",
       "      <td>0.006606</td>\n",
       "      <td>0.007361</td>\n",
       "      <td>0.001532</td>\n",
       "      <td>0.008448</td>\n",
       "      <td>0.002497</td>\n",
       "      <td>0.010543</td>\n",
       "    </tr>\n",
       "    <tr>\n",
       "      <th>XOMA CORP</th>\n",
       "      <td>0.009765</td>\n",
       "      <td>0.013594</td>\n",
       "      <td>0.068901</td>\n",
       "      <td>0.004056</td>\n",
       "      <td>0.005559</td>\n",
       "      <td>0.008817</td>\n",
       "      <td>0.006130</td>\n",
       "      <td>-0.007029</td>\n",
       "      <td>0.065473</td>\n",
       "      <td>0.009431</td>\n",
       "      <td>...</td>\n",
       "      <td>0.001142</td>\n",
       "      <td>-0.008155</td>\n",
       "      <td>-0.017001</td>\n",
       "      <td>-0.008406</td>\n",
       "      <td>0.010016</td>\n",
       "      <td>0.018039</td>\n",
       "      <td>0.005353</td>\n",
       "      <td>0.022237</td>\n",
       "      <td>0.003540</td>\n",
       "      <td>0.013079</td>\n",
       "    </tr>\n",
       "    <tr>\n",
       "      <th>CARA THERAPEUTICS, INC.</th>\n",
       "      <td>0.004046</td>\n",
       "      <td>0.008657</td>\n",
       "      <td>0.004056</td>\n",
       "      <td>0.044077</td>\n",
       "      <td>0.004394</td>\n",
       "      <td>0.009793</td>\n",
       "      <td>0.003389</td>\n",
       "      <td>0.010558</td>\n",
       "      <td>0.029585</td>\n",
       "      <td>0.014410</td>\n",
       "      <td>...</td>\n",
       "      <td>0.035254</td>\n",
       "      <td>0.019356</td>\n",
       "      <td>0.011567</td>\n",
       "      <td>0.000958</td>\n",
       "      <td>0.010204</td>\n",
       "      <td>0.009315</td>\n",
       "      <td>0.000831</td>\n",
       "      <td>0.004195</td>\n",
       "      <td>0.011287</td>\n",
       "      <td>0.008936</td>\n",
       "    </tr>\n",
       "    <tr>\n",
       "      <th>HORIZON PHARMA PLC</th>\n",
       "      <td>-0.001439</td>\n",
       "      <td>0.000766</td>\n",
       "      <td>0.005559</td>\n",
       "      <td>0.004394</td>\n",
       "      <td>0.014189</td>\n",
       "      <td>-0.003719</td>\n",
       "      <td>0.000283</td>\n",
       "      <td>0.004942</td>\n",
       "      <td>0.009777</td>\n",
       "      <td>0.006961</td>\n",
       "      <td>...</td>\n",
       "      <td>0.007223</td>\n",
       "      <td>0.008261</td>\n",
       "      <td>-0.009825</td>\n",
       "      <td>-0.000087</td>\n",
       "      <td>0.007120</td>\n",
       "      <td>0.002175</td>\n",
       "      <td>0.001550</td>\n",
       "      <td>0.004434</td>\n",
       "      <td>0.007675</td>\n",
       "      <td>0.002063</td>\n",
       "    </tr>\n",
       "    <tr>\n",
       "      <th>...</th>\n",
       "      <td>...</td>\n",
       "      <td>...</td>\n",
       "      <td>...</td>\n",
       "      <td>...</td>\n",
       "      <td>...</td>\n",
       "      <td>...</td>\n",
       "      <td>...</td>\n",
       "      <td>...</td>\n",
       "      <td>...</td>\n",
       "      <td>...</td>\n",
       "      <td>...</td>\n",
       "      <td>...</td>\n",
       "      <td>...</td>\n",
       "      <td>...</td>\n",
       "      <td>...</td>\n",
       "      <td>...</td>\n",
       "      <td>...</td>\n",
       "      <td>...</td>\n",
       "      <td>...</td>\n",
       "      <td>...</td>\n",
       "      <td>...</td>\n",
       "    </tr>\n",
       "    <tr>\n",
       "      <th>CYTOMX THERAPEUTICS, INC.</th>\n",
       "      <td>-0.006814</td>\n",
       "      <td>0.007361</td>\n",
       "      <td>0.018039</td>\n",
       "      <td>0.009315</td>\n",
       "      <td>0.002175</td>\n",
       "      <td>0.003610</td>\n",
       "      <td>0.007052</td>\n",
       "      <td>0.000756</td>\n",
       "      <td>0.015224</td>\n",
       "      <td>0.001914</td>\n",
       "      <td>...</td>\n",
       "      <td>0.015172</td>\n",
       "      <td>-0.000768</td>\n",
       "      <td>0.007474</td>\n",
       "      <td>-0.005921</td>\n",
       "      <td>0.003533</td>\n",
       "      <td>0.024791</td>\n",
       "      <td>0.000481</td>\n",
       "      <td>0.013797</td>\n",
       "      <td>0.008169</td>\n",
       "      <td>0.009837</td>\n",
       "    </tr>\n",
       "    <tr>\n",
       "      <th>PFIZER INC</th>\n",
       "      <td>-0.000593</td>\n",
       "      <td>0.001532</td>\n",
       "      <td>0.005353</td>\n",
       "      <td>0.000831</td>\n",
       "      <td>0.001550</td>\n",
       "      <td>-0.000833</td>\n",
       "      <td>0.001000</td>\n",
       "      <td>0.002369</td>\n",
       "      <td>0.005779</td>\n",
       "      <td>0.002655</td>\n",
       "      <td>...</td>\n",
       "      <td>0.000009</td>\n",
       "      <td>-0.000737</td>\n",
       "      <td>-0.000963</td>\n",
       "      <td>-0.001289</td>\n",
       "      <td>0.002476</td>\n",
       "      <td>0.000481</td>\n",
       "      <td>0.001698</td>\n",
       "      <td>0.000957</td>\n",
       "      <td>0.001162</td>\n",
       "      <td>-0.000001</td>\n",
       "    </tr>\n",
       "    <tr>\n",
       "      <th>CONCERT PHARMACEUTICALS, INC.</th>\n",
       "      <td>0.003213</td>\n",
       "      <td>0.008448</td>\n",
       "      <td>0.022237</td>\n",
       "      <td>0.004195</td>\n",
       "      <td>0.004434</td>\n",
       "      <td>0.001146</td>\n",
       "      <td>0.006498</td>\n",
       "      <td>-0.002229</td>\n",
       "      <td>0.019293</td>\n",
       "      <td>0.004547</td>\n",
       "      <td>...</td>\n",
       "      <td>0.001043</td>\n",
       "      <td>0.004271</td>\n",
       "      <td>0.011584</td>\n",
       "      <td>-0.000319</td>\n",
       "      <td>0.012489</td>\n",
       "      <td>0.013797</td>\n",
       "      <td>0.000957</td>\n",
       "      <td>0.041740</td>\n",
       "      <td>-0.001181</td>\n",
       "      <td>0.025306</td>\n",
       "    </tr>\n",
       "    <tr>\n",
       "      <th>RETROPHIN, INC.</th>\n",
       "      <td>-0.004944</td>\n",
       "      <td>0.002497</td>\n",
       "      <td>0.003540</td>\n",
       "      <td>0.011287</td>\n",
       "      <td>0.007675</td>\n",
       "      <td>-0.004672</td>\n",
       "      <td>0.003310</td>\n",
       "      <td>0.005979</td>\n",
       "      <td>0.012434</td>\n",
       "      <td>0.005817</td>\n",
       "      <td>...</td>\n",
       "      <td>0.023888</td>\n",
       "      <td>0.005508</td>\n",
       "      <td>0.004455</td>\n",
       "      <td>0.000864</td>\n",
       "      <td>0.006256</td>\n",
       "      <td>0.008169</td>\n",
       "      <td>0.001162</td>\n",
       "      <td>-0.001181</td>\n",
       "      <td>0.016131</td>\n",
       "      <td>-0.000091</td>\n",
       "    </tr>\n",
       "    <tr>\n",
       "      <th>CATALYST PHARMACEUTICALS, INC.</th>\n",
       "      <td>0.008700</td>\n",
       "      <td>0.010543</td>\n",
       "      <td>0.013079</td>\n",
       "      <td>0.008936</td>\n",
       "      <td>0.002063</td>\n",
       "      <td>0.013245</td>\n",
       "      <td>0.008650</td>\n",
       "      <td>0.000583</td>\n",
       "      <td>0.019710</td>\n",
       "      <td>-0.000628</td>\n",
       "      <td>...</td>\n",
       "      <td>0.003642</td>\n",
       "      <td>0.011445</td>\n",
       "      <td>0.002311</td>\n",
       "      <td>0.000572</td>\n",
       "      <td>0.018248</td>\n",
       "      <td>0.009837</td>\n",
       "      <td>-0.000001</td>\n",
       "      <td>0.025306</td>\n",
       "      <td>-0.000091</td>\n",
       "      <td>0.049876</td>\n",
       "    </tr>\n",
       "  </tbody>\n",
       "</table>\n",
       "<p>124 rows × 124 columns</p>\n",
       "</div>"
      ],
      "text/plain": [
       "name                                 TONIX PHARMACEUTICALS HOLDING CORP.  \\\n",
       "name                                                                       \n",
       "TONIX PHARMACEUTICALS HOLDING CORP.                             0.065843   \n",
       "CYMABAY THERAPEUTICS, INC.                                      0.023016   \n",
       "XOMA CORP                                                       0.009765   \n",
       "CARA THERAPEUTICS, INC.                                         0.004046   \n",
       "HORIZON PHARMA PLC                                             -0.001439   \n",
       "...                                                                  ...   \n",
       "CYTOMX THERAPEUTICS, INC.                                      -0.006814   \n",
       "PFIZER INC                                                     -0.000593   \n",
       "CONCERT PHARMACEUTICALS, INC.                                   0.003213   \n",
       "RETROPHIN, INC.                                                -0.004944   \n",
       "CATALYST PHARMACEUTICALS, INC.                                  0.008700   \n",
       "\n",
       "name                                 CYMABAY THERAPEUTICS, INC.  XOMA CORP  \\\n",
       "name                                                                         \n",
       "TONIX PHARMACEUTICALS HOLDING CORP.                    0.023016   0.009765   \n",
       "CYMABAY THERAPEUTICS, INC.                             0.060813   0.013594   \n",
       "XOMA CORP                                              0.013594   0.068901   \n",
       "CARA THERAPEUTICS, INC.                                0.008657   0.004056   \n",
       "HORIZON PHARMA PLC                                     0.000766   0.005559   \n",
       "...                                                         ...        ...   \n",
       "CYTOMX THERAPEUTICS, INC.                              0.007361   0.018039   \n",
       "PFIZER INC                                             0.001532   0.005353   \n",
       "CONCERT PHARMACEUTICALS, INC.                          0.008448   0.022237   \n",
       "RETROPHIN, INC.                                        0.002497   0.003540   \n",
       "CATALYST PHARMACEUTICALS, INC.                         0.010543   0.013079   \n",
       "\n",
       "name                                 CARA THERAPEUTICS, INC.  \\\n",
       "name                                                           \n",
       "TONIX PHARMACEUTICALS HOLDING CORP.                 0.004046   \n",
       "CYMABAY THERAPEUTICS, INC.                          0.008657   \n",
       "XOMA CORP                                           0.004056   \n",
       "CARA THERAPEUTICS, INC.                             0.044077   \n",
       "HORIZON PHARMA PLC                                  0.004394   \n",
       "...                                                      ...   \n",
       "CYTOMX THERAPEUTICS, INC.                           0.009315   \n",
       "PFIZER INC                                          0.000831   \n",
       "CONCERT PHARMACEUTICALS, INC.                       0.004195   \n",
       "RETROPHIN, INC.                                     0.011287   \n",
       "CATALYST PHARMACEUTICALS, INC.                      0.008936   \n",
       "\n",
       "name                                 HORIZON PHARMA PLC  \\\n",
       "name                                                      \n",
       "TONIX PHARMACEUTICALS HOLDING CORP.           -0.001439   \n",
       "CYMABAY THERAPEUTICS, INC.                     0.000766   \n",
       "XOMA CORP                                      0.005559   \n",
       "CARA THERAPEUTICS, INC.                        0.004394   \n",
       "HORIZON PHARMA PLC                             0.014189   \n",
       "...                                                 ...   \n",
       "CYTOMX THERAPEUTICS, INC.                      0.002175   \n",
       "PFIZER INC                                     0.001550   \n",
       "CONCERT PHARMACEUTICALS, INC.                  0.004434   \n",
       "RETROPHIN, INC.                                0.007675   \n",
       "CATALYST PHARMACEUTICALS, INC.                 0.002063   \n",
       "\n",
       "name                                 ASSEMBLY BIOSCIENCES, INC.  \\\n",
       "name                                                              \n",
       "TONIX PHARMACEUTICALS HOLDING CORP.                   -0.004349   \n",
       "CYMABAY THERAPEUTICS, INC.                            -0.003386   \n",
       "XOMA CORP                                              0.008817   \n",
       "CARA THERAPEUTICS, INC.                                0.009793   \n",
       "HORIZON PHARMA PLC                                    -0.003719   \n",
       "...                                                         ...   \n",
       "CYTOMX THERAPEUTICS, INC.                              0.003610   \n",
       "PFIZER INC                                            -0.000833   \n",
       "CONCERT PHARMACEUTICALS, INC.                          0.001146   \n",
       "RETROPHIN, INC.                                       -0.004672   \n",
       "CATALYST PHARMACEUTICALS, INC.                         0.013245   \n",
       "\n",
       "name                                 CYCLACEL PHARMACEUTICALS, INC.  \\\n",
       "name                                                                  \n",
       "TONIX PHARMACEUTICALS HOLDING CORP.                        0.010930   \n",
       "CYMABAY THERAPEUTICS, INC.                                -0.013297   \n",
       "XOMA CORP                                                  0.006130   \n",
       "CARA THERAPEUTICS, INC.                                    0.003389   \n",
       "HORIZON PHARMA PLC                                         0.000283   \n",
       "...                                                             ...   \n",
       "CYTOMX THERAPEUTICS, INC.                                  0.007052   \n",
       "PFIZER INC                                                 0.001000   \n",
       "CONCERT PHARMACEUTICALS, INC.                              0.006498   \n",
       "RETROPHIN, INC.                                            0.003310   \n",
       "CATALYST PHARMACEUTICALS, INC.                             0.008650   \n",
       "\n",
       "name                                 INTERCEPT PHARMACEUTICALS INC  \\\n",
       "name                                                                 \n",
       "TONIX PHARMACEUTICALS HOLDING CORP.                      -0.005596   \n",
       "CYMABAY THERAPEUTICS, INC.                               -0.001538   \n",
       "XOMA CORP                                                -0.007029   \n",
       "CARA THERAPEUTICS, INC.                                   0.010558   \n",
       "HORIZON PHARMA PLC                                        0.004942   \n",
       "...                                                            ...   \n",
       "CYTOMX THERAPEUTICS, INC.                                 0.000756   \n",
       "PFIZER INC                                                0.002369   \n",
       "CONCERT PHARMACEUTICALS, INC.                            -0.002229   \n",
       "RETROPHIN, INC.                                           0.005979   \n",
       "CATALYST PHARMACEUTICALS, INC.                            0.000583   \n",
       "\n",
       "name                                 MARINUS PHARMACEUTICALS INC  \\\n",
       "name                                                               \n",
       "TONIX PHARMACEUTICALS HOLDING CORP.                     0.016549   \n",
       "CYMABAY THERAPEUTICS, INC.                              0.018308   \n",
       "XOMA CORP                                               0.065473   \n",
       "CARA THERAPEUTICS, INC.                                 0.029585   \n",
       "HORIZON PHARMA PLC                                      0.009777   \n",
       "...                                                          ...   \n",
       "CYTOMX THERAPEUTICS, INC.                               0.015224   \n",
       "PFIZER INC                                              0.005779   \n",
       "CONCERT PHARMACEUTICALS, INC.                           0.019293   \n",
       "RETROPHIN, INC.                                         0.012434   \n",
       "CATALYST PHARMACEUTICALS, INC.                          0.019710   \n",
       "\n",
       "name                                 ACADIA PHARMACEUTICALS INC  ...  \\\n",
       "name                                                             ...   \n",
       "TONIX PHARMACEUTICALS HOLDING CORP.                   -0.001785  ...   \n",
       "CYMABAY THERAPEUTICS, INC.                             0.002903  ...   \n",
       "XOMA CORP                                              0.009431  ...   \n",
       "CARA THERAPEUTICS, INC.                                0.014410  ...   \n",
       "HORIZON PHARMA PLC                                     0.006961  ...   \n",
       "...                                                         ...  ...   \n",
       "CYTOMX THERAPEUTICS, INC.                              0.001914  ...   \n",
       "PFIZER INC                                             0.002655  ...   \n",
       "CONCERT PHARMACEUTICALS, INC.                          0.004547  ...   \n",
       "RETROPHIN, INC.                                        0.005817  ...   \n",
       "CATALYST PHARMACEUTICALS, INC.                        -0.000628  ...   \n",
       "\n",
       "name                                 SAREPTA THERAPEUTICS, INC.  ARQULE INC  \\\n",
       "name                                                                          \n",
       "TONIX PHARMACEUTICALS HOLDING CORP.                   -0.012764    0.012465   \n",
       "CYMABAY THERAPEUTICS, INC.                            -0.006259   -0.002345   \n",
       "XOMA CORP                                              0.001142   -0.008155   \n",
       "CARA THERAPEUTICS, INC.                                0.035254    0.019356   \n",
       "HORIZON PHARMA PLC                                     0.007223    0.008261   \n",
       "...                                                         ...         ...   \n",
       "CYTOMX THERAPEUTICS, INC.                              0.015172   -0.000768   \n",
       "PFIZER INC                                             0.000009   -0.000737   \n",
       "CONCERT PHARMACEUTICALS, INC.                          0.001043    0.004271   \n",
       "RETROPHIN, INC.                                        0.023888    0.005508   \n",
       "CATALYST PHARMACEUTICALS, INC.                         0.003642    0.011445   \n",
       "\n",
       "name                                 ACHAOGEN INC  \\\n",
       "name                                                \n",
       "TONIX PHARMACEUTICALS HOLDING CORP.      0.017652   \n",
       "CYMABAY THERAPEUTICS, INC.               0.005435   \n",
       "XOMA CORP                               -0.017001   \n",
       "CARA THERAPEUTICS, INC.                  0.011567   \n",
       "HORIZON PHARMA PLC                      -0.009825   \n",
       "...                                           ...   \n",
       "CYTOMX THERAPEUTICS, INC.                0.007474   \n",
       "PFIZER INC                              -0.000963   \n",
       "CONCERT PHARMACEUTICALS, INC.            0.011584   \n",
       "RETROPHIN, INC.                          0.004455   \n",
       "CATALYST PHARMACEUTICALS, INC.           0.002311   \n",
       "\n",
       "name                                 BIODELIVERY SCIENCES INTERNATIONAL INC  \\\n",
       "name                                                                          \n",
       "TONIX PHARMACEUTICALS HOLDING CORP.                                0.009037   \n",
       "CYMABAY THERAPEUTICS, INC.                                         0.002469   \n",
       "XOMA CORP                                                         -0.008406   \n",
       "CARA THERAPEUTICS, INC.                                            0.000958   \n",
       "HORIZON PHARMA PLC                                                -0.000087   \n",
       "...                                                                     ...   \n",
       "CYTOMX THERAPEUTICS, INC.                                         -0.005921   \n",
       "PFIZER INC                                                        -0.001289   \n",
       "CONCERT PHARMACEUTICALS, INC.                                     -0.000319   \n",
       "RETROPHIN, INC.                                                    0.000864   \n",
       "CATALYST PHARMACEUTICALS, INC.                                     0.000572   \n",
       "\n",
       "name                                 THERAPEUTICSMD, INC.  \\\n",
       "name                                                        \n",
       "TONIX PHARMACEUTICALS HOLDING CORP.              0.008163   \n",
       "CYMABAY THERAPEUTICS, INC.                       0.006606   \n",
       "XOMA CORP                                        0.010016   \n",
       "CARA THERAPEUTICS, INC.                          0.010204   \n",
       "HORIZON PHARMA PLC                               0.007120   \n",
       "...                                                   ...   \n",
       "CYTOMX THERAPEUTICS, INC.                        0.003533   \n",
       "PFIZER INC                                       0.002476   \n",
       "CONCERT PHARMACEUTICALS, INC.                    0.012489   \n",
       "RETROPHIN, INC.                                  0.006256   \n",
       "CATALYST PHARMACEUTICALS, INC.                   0.018248   \n",
       "\n",
       "name                                 CYTOMX THERAPEUTICS, INC.  PFIZER INC  \\\n",
       "name                                                                         \n",
       "TONIX PHARMACEUTICALS HOLDING CORP.                  -0.006814   -0.000593   \n",
       "CYMABAY THERAPEUTICS, INC.                            0.007361    0.001532   \n",
       "XOMA CORP                                             0.018039    0.005353   \n",
       "CARA THERAPEUTICS, INC.                               0.009315    0.000831   \n",
       "HORIZON PHARMA PLC                                    0.002175    0.001550   \n",
       "...                                                        ...         ...   \n",
       "CYTOMX THERAPEUTICS, INC.                             0.024791    0.000481   \n",
       "PFIZER INC                                            0.000481    0.001698   \n",
       "CONCERT PHARMACEUTICALS, INC.                         0.013797    0.000957   \n",
       "RETROPHIN, INC.                                       0.008169    0.001162   \n",
       "CATALYST PHARMACEUTICALS, INC.                        0.009837   -0.000001   \n",
       "\n",
       "name                                 CONCERT PHARMACEUTICALS, INC.  \\\n",
       "name                                                                 \n",
       "TONIX PHARMACEUTICALS HOLDING CORP.                       0.003213   \n",
       "CYMABAY THERAPEUTICS, INC.                                0.008448   \n",
       "XOMA CORP                                                 0.022237   \n",
       "CARA THERAPEUTICS, INC.                                   0.004195   \n",
       "HORIZON PHARMA PLC                                        0.004434   \n",
       "...                                                            ...   \n",
       "CYTOMX THERAPEUTICS, INC.                                 0.013797   \n",
       "PFIZER INC                                                0.000957   \n",
       "CONCERT PHARMACEUTICALS, INC.                             0.041740   \n",
       "RETROPHIN, INC.                                          -0.001181   \n",
       "CATALYST PHARMACEUTICALS, INC.                            0.025306   \n",
       "\n",
       "name                                 RETROPHIN, INC.  \\\n",
       "name                                                   \n",
       "TONIX PHARMACEUTICALS HOLDING CORP.        -0.004944   \n",
       "CYMABAY THERAPEUTICS, INC.                  0.002497   \n",
       "XOMA CORP                                   0.003540   \n",
       "CARA THERAPEUTICS, INC.                     0.011287   \n",
       "HORIZON PHARMA PLC                          0.007675   \n",
       "...                                              ...   \n",
       "CYTOMX THERAPEUTICS, INC.                   0.008169   \n",
       "PFIZER INC                                  0.001162   \n",
       "CONCERT PHARMACEUTICALS, INC.              -0.001181   \n",
       "RETROPHIN, INC.                             0.016131   \n",
       "CATALYST PHARMACEUTICALS, INC.             -0.000091   \n",
       "\n",
       "name                                 CATALYST PHARMACEUTICALS, INC.  \n",
       "name                                                                 \n",
       "TONIX PHARMACEUTICALS HOLDING CORP.                        0.008700  \n",
       "CYMABAY THERAPEUTICS, INC.                                 0.010543  \n",
       "XOMA CORP                                                  0.013079  \n",
       "CARA THERAPEUTICS, INC.                                    0.008936  \n",
       "HORIZON PHARMA PLC                                         0.002063  \n",
       "...                                                             ...  \n",
       "CYTOMX THERAPEUTICS, INC.                                  0.009837  \n",
       "PFIZER INC                                                -0.000001  \n",
       "CONCERT PHARMACEUTICALS, INC.                              0.025306  \n",
       "RETROPHIN, INC.                                           -0.000091  \n",
       "CATALYST PHARMACEUTICALS, INC.                             0.049876  \n",
       "\n",
       "[124 rows x 124 columns]"
      ]
     },
     "execution_count": 109,
     "metadata": {},
     "output_type": "execute_result"
    }
   ],
   "source": [
    "cov_Pharm"
   ]
  },
  {
   "cell_type": "code",
   "execution_count": 110,
   "id": "7429ef48",
   "metadata": {
    "tags": [
     "hide-input"
    ]
   },
   "outputs": [
    {
     "data": {
      "image/png": "[encoded data removed]",
      "text/plain": [
       "<Figure size 432x288 with 1 Axes>"
      ]
     },
     "metadata": {
      "needs_background": "light"
     },
     "output_type": "display_data"
    }
   ],
   "source": [
    "ef1 = EfficientFrontier(mu_Pharm, cov_Pharm, weight_bounds=(0, 0.2))\n",
    "\n",
    "fig, ax = plt.subplots()\n",
    "plotting.plot_efficient_frontier(ef1, ax=ax, show_assets=True)\n",
    "\n",
    "# Find and plot the tangency portfolio\n",
    "ef2 = EfficientFrontier(mu_Pharm, cov_Pharm, weight_bounds=(0, 0.2))\n",
    "# min volatility\n",
    "ef2.min_volatility()\n",
    "ret_tangent, std_tangent, _ = ef2.portfolio_performance()\n",
    "ax.scatter(std_tangent, ret_tangent, marker=\"*\", s=100, c=\"y\", label=\"Min Volatility\")\n",
    "\n",
    "# Format\n",
    "ax.set_title(\"Efficient Frontier\")\n",
    "ax.legend()\n",
    "plt.tight_layout()\n",
    "plt.savefig('images/Efficient_Frontier_Returns.png', dpi=200, bbox_inches='tight')\n",
    "plt.show()"
   ]
  },
  {
   "cell_type": "markdown",
   "id": "342e7542",
   "metadata": {},
   "source": [
    "##### min volatility"
   ]
  },
  {
   "cell_type": "code",
   "execution_count": 111,
   "id": "b34e4df3",
   "metadata": {
    "tags": [
     "hide-input"
    ]
   },
   "outputs": [
    {
     "name": "stdout",
     "output_type": "stream",
     "text": [
      "Expected annual return: 1.2%\n",
      "Annual volatility: 2.1%\n",
      "Sharpe Ratio: -0.35\n"
     ]
    }
   ],
   "source": [
    "ef2.portfolio_performance(verbose=True);"
   ]
  },
  {
   "cell_type": "code",
   "execution_count": 112,
   "id": "2251dc5e",
   "metadata": {
    "tags": [
     "remove-input"
    ]
   },
   "outputs": [
    {
     "name": "stdout",
     "output_type": "stream",
     "text": [
      "ASSEMBLY BIOSCIENCES, INC. 0.05775\n",
      "JOHNSON & JOHNSON 0.17878\n",
      "RECRO PHARMA, INC. 0.0201\n",
      "MERCK & CO., INC. 0.2\n",
      "XENON PHARMACEUTICALS INC. 0.0135\n",
      "ORAMED PHARMACEUTICALS INC. 0.04982\n",
      "STEMLINE THERAPEUTICS INC 0.04273\n",
      "ZOETIS INC. 0.01195\n",
      "IMPRIMIS PHARMACEUTICALS, INC. 0.04181\n",
      "MANNKIND CORP 0.02048\n",
      "VTV THERAPEUTICS INC. 0.02372\n",
      "HEAT BIOLOGICS, INC. 0.00297\n",
      "PFENEX INC. 0.03777\n",
      "LIPOCINE INC. 0.00683\n",
      "CHEMBIO DIAGNOSTICS, INC. 0.02843\n",
      "PROPHASE LABS, INC. 0.0512\n",
      "BRISTOL MYERS SQUIBB CO 0.12824\n",
      "ARATANA THERAPEUTICS, INC. 0.03678\n",
      "ACHAOGEN INC 0.00515\n",
      "BIODELIVERY SCIENCES INTERNATIONAL INC 0.0368\n",
      "CYTOMX THERAPEUTICS, INC. 0.0052\n"
     ]
    }
   ],
   "source": [
    "companies = []\n",
    "weights = []\n",
    "for company, weight in ef2.clean_weights().items():\n",
    "    if weight != 0:\n",
    "        companies.append(company)\n",
    "        weights.append(weight)\n",
    "        print(company, weight)"
   ]
  },
  {
   "cell_type": "code",
   "execution_count": 113,
   "id": "07b18fbf",
   "metadata": {
    "tags": [
     "remove-input"
    ]
   },
   "outputs": [
    {
     "name": "stderr",
     "output_type": "stream",
     "text": [
      "[0416/224904.862343:INFO:headless_shell.cc(659)] Written to file /var/folders/6t/0lh6qmkn1zg8fhlp984cpxrr0000gn/T/tmpkda4gscp/temp.png.\n"
     ]
    }
   ],
   "source": [
    "dic = {'Company_Name':companies,'Weight':weights}\n",
    "min_vol = pd.DataFrame(dic)\n",
    "import dataframe_image as dfi\n",
    "min_vol.dfi.export('min_vol_returns.png')"
   ]
  },
  {
   "cell_type": "code",
   "execution_count": 114,
   "id": "162bb1f9",
   "metadata": {
    "tags": [
     "hide-input"
    ]
   },
   "outputs": [
    {
     "data": {
      "text/html": [
       "<div>\n",
       "<style scoped>\n",
       "    .dataframe tbody tr th:only-of-type {\n",
       "        vertical-align: middle;\n",
       "    }\n",
       "\n",
       "    .dataframe tbody tr th {\n",
       "        vertical-align: top;\n",
       "    }\n",
       "\n",
       "    .dataframe thead th {\n",
       "        text-align: right;\n",
       "    }\n",
       "</style>\n",
       "<table border=\"1\" class=\"dataframe\">\n",
       "  <thead>\n",
       "    <tr style=\"text-align: right;\">\n",
       "      <th></th>\n",
       "      <th>Company_Name</th>\n",
       "      <th>Weight</th>\n",
       "    </tr>\n",
       "  </thead>\n",
       "  <tbody>\n",
       "    <tr>\n",
       "      <th>0</th>\n",
       "      <td>ASSEMBLY BIOSCIENCES, INC.</td>\n",
       "      <td>0.05775</td>\n",
       "    </tr>\n",
       "    <tr>\n",
       "      <th>1</th>\n",
       "      <td>JOHNSON &amp; JOHNSON</td>\n",
       "      <td>0.17878</td>\n",
       "    </tr>\n",
       "    <tr>\n",
       "      <th>2</th>\n",
       "      <td>RECRO PHARMA, INC.</td>\n",
       "      <td>0.02010</td>\n",
       "    </tr>\n",
       "    <tr>\n",
       "      <th>3</th>\n",
       "      <td>MERCK &amp; CO., INC.</td>\n",
       "      <td>0.20000</td>\n",
       "    </tr>\n",
       "    <tr>\n",
       "      <th>4</th>\n",
       "      <td>XENON PHARMACEUTICALS INC.</td>\n",
       "      <td>0.01350</td>\n",
       "    </tr>\n",
       "    <tr>\n",
       "      <th>5</th>\n",
       "      <td>ORAMED PHARMACEUTICALS INC.</td>\n",
       "      <td>0.04982</td>\n",
       "    </tr>\n",
       "    <tr>\n",
       "      <th>6</th>\n",
       "      <td>STEMLINE THERAPEUTICS INC</td>\n",
       "      <td>0.04273</td>\n",
       "    </tr>\n",
       "    <tr>\n",
       "      <th>7</th>\n",
       "      <td>ZOETIS INC.</td>\n",
       "      <td>0.01195</td>\n",
       "    </tr>\n",
       "    <tr>\n",
       "      <th>8</th>\n",
       "      <td>IMPRIMIS PHARMACEUTICALS, INC.</td>\n",
       "      <td>0.04181</td>\n",
       "    </tr>\n",
       "    <tr>\n",
       "      <th>9</th>\n",
       "      <td>MANNKIND CORP</td>\n",
       "      <td>0.02048</td>\n",
       "    </tr>\n",
       "    <tr>\n",
       "      <th>10</th>\n",
       "      <td>VTV THERAPEUTICS INC.</td>\n",
       "      <td>0.02372</td>\n",
       "    </tr>\n",
       "    <tr>\n",
       "      <th>11</th>\n",
       "      <td>HEAT BIOLOGICS, INC.</td>\n",
       "      <td>0.00297</td>\n",
       "    </tr>\n",
       "    <tr>\n",
       "      <th>12</th>\n",
       "      <td>PFENEX INC.</td>\n",
       "      <td>0.03777</td>\n",
       "    </tr>\n",
       "    <tr>\n",
       "      <th>13</th>\n",
       "      <td>LIPOCINE INC.</td>\n",
       "      <td>0.00683</td>\n",
       "    </tr>\n",
       "    <tr>\n",
       "      <th>14</th>\n",
       "      <td>CHEMBIO DIAGNOSTICS, INC.</td>\n",
       "      <td>0.02843</td>\n",
       "    </tr>\n",
       "    <tr>\n",
       "      <th>15</th>\n",
       "      <td>PROPHASE LABS, INC.</td>\n",
       "      <td>0.05120</td>\n",
       "    </tr>\n",
       "    <tr>\n",
       "      <th>16</th>\n",
       "      <td>BRISTOL MYERS SQUIBB CO</td>\n",
       "      <td>0.12824</td>\n",
       "    </tr>\n",
       "    <tr>\n",
       "      <th>17</th>\n",
       "      <td>ARATANA THERAPEUTICS, INC.</td>\n",
       "      <td>0.03678</td>\n",
       "    </tr>\n",
       "    <tr>\n",
       "      <th>18</th>\n",
       "      <td>ACHAOGEN INC</td>\n",
       "      <td>0.00515</td>\n",
       "    </tr>\n",
       "    <tr>\n",
       "      <th>19</th>\n",
       "      <td>BIODELIVERY SCIENCES INTERNATIONAL INC</td>\n",
       "      <td>0.03680</td>\n",
       "    </tr>\n",
       "    <tr>\n",
       "      <th>20</th>\n",
       "      <td>CYTOMX THERAPEUTICS, INC.</td>\n",
       "      <td>0.00520</td>\n",
       "    </tr>\n",
       "  </tbody>\n",
       "</table>\n",
       "</div>"
      ],
      "text/plain": [
       "                              Company_Name   Weight\n",
       "0               ASSEMBLY BIOSCIENCES, INC.  0.05775\n",
       "1                        JOHNSON & JOHNSON  0.17878\n",
       "2                       RECRO PHARMA, INC.  0.02010\n",
       "3                        MERCK & CO., INC.  0.20000\n",
       "4               XENON PHARMACEUTICALS INC.  0.01350\n",
       "5              ORAMED PHARMACEUTICALS INC.  0.04982\n",
       "6                STEMLINE THERAPEUTICS INC  0.04273\n",
       "7                              ZOETIS INC.  0.01195\n",
       "8           IMPRIMIS PHARMACEUTICALS, INC.  0.04181\n",
       "9                            MANNKIND CORP  0.02048\n",
       "10                   VTV THERAPEUTICS INC.  0.02372\n",
       "11                    HEAT BIOLOGICS, INC.  0.00297\n",
       "12                             PFENEX INC.  0.03777\n",
       "13                           LIPOCINE INC.  0.00683\n",
       "14               CHEMBIO DIAGNOSTICS, INC.  0.02843\n",
       "15                     PROPHASE LABS, INC.  0.05120\n",
       "16                 BRISTOL MYERS SQUIBB CO  0.12824\n",
       "17              ARATANA THERAPEUTICS, INC.  0.03678\n",
       "18                            ACHAOGEN INC  0.00515\n",
       "19  BIODELIVERY SCIENCES INTERNATIONAL INC  0.03680\n",
       "20               CYTOMX THERAPEUTICS, INC.  0.00520"
      ]
     },
     "execution_count": 114,
     "metadata": {},
     "output_type": "execute_result"
    }
   ],
   "source": [
    "min_vol"
   ]
  }
 ],
 "metadata": {
  "celltoolbar": "Edit Metadata",
  "kernelspec": {
   "display_name": "Python 3 (ipykernel)",
   "language": "python",
   "name": "python3"
  },
  "language_info": {
   "codemirror_mode": {
    "name": "ipython",
    "version": 3
   },
   "file_extension": ".py",
   "mimetype": "text/x-python",
   "name": "python",
   "nbconvert_exporter": "python",
   "pygments_lexer": "ipython3",
   "version": "3.9.7"
  }
 },
 "nbformat": 4,
 "nbformat_minor": 5
}

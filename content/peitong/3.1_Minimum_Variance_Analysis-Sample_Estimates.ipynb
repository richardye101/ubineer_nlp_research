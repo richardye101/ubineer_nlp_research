{
 "cells": [
  {
   "cell_type": "code",
   "execution_count": 1,
   "id": "1bcaa702",
   "metadata": {
    "tags": [
     "remove-input"
    ]
   },
   "outputs": [],
   "source": [
    "import sys\n",
    "sys.path.insert(0, '..')\n",
    "%load_ext autoreload\n",
    "%autoreload 2\n",
    "%aimport std_func\n",
    "\n",
    "# Hide warnings\n",
    "import warnings\n",
    "warnings.filterwarnings(\"ignore\")"
   ]
  },
  {
   "cell_type": "markdown",
   "id": "d9148826",
   "metadata": {},
   "source": [
    "## Estimates from Sample Covariance\n",
    "\n",
    "The portfolios we constructed in this notebook serve as reference to the portfolios using cosine similarity estimates and factor model estimates. Here, we simply use the sample return and sample covariance to generate portfolios for each industry."
   ]
  },
  {
   "cell_type": "code",
   "execution_count": 2,
   "id": "12347323",
   "metadata": {
    "tags": [
     "hide-input"
    ]
   },
   "outputs": [],
   "source": [
    "import pandas as pd\n",
    "import numpy as np\n",
    "import matplotlib.pyplot as plt\n",
    "import seaborn as sns"
   ]
  },
  {
   "cell_type": "code",
   "execution_count": 3,
   "id": "89f2f46b",
   "metadata": {
    "tags": [
     "hide-input"
    ]
   },
   "outputs": [],
   "source": [
    "r_selected = pd.read_csv(\"data/filtered_r.csv\")\n",
    "# get the mean of all \n",
    "r_selected.set_index(\"name\", inplace = True)\n",
    "mu = r_selected.mean(axis = 1)\n",
    "# compute the covariance matrix \n",
    "cov = r_selected.T.cov()"
   ]
  },
  {
   "cell_type": "markdown",
   "id": "70db3425",
   "metadata": {},
   "source": [
    "### Perform Mean-Variance Analysis\n",
    "We will use one industry per time to generate a minimum-variance portfolio. In our demonstration of mean-variance analysis process, we use the industry `pharmaceutical preparations` whose SIC code is `2834`. At the end, we will show the results for other industries. \n",
    "\n",
    "We first get the name list of `pharmaceutical preparations` companies and match the names with the companies in returns data. Then, we get the sample mean and sample covariance for this specific industry. We get the efficient frontier, the set of optimal portfolios, for the industry; and recognize the minimum-variance portfolio."
   ]
  },
  {
   "cell_type": "code",
   "execution_count": 4,
   "id": "a1bce350",
   "metadata": {
    "scrolled": true,
    "tags": [
     "remove-input",
     "remove-output"
    ]
   },
   "outputs": [],
   "source": [
    "#!pip install dataframe_image"
   ]
  },
  {
   "cell_type": "code",
   "execution_count": 5,
   "id": "585c801a",
   "metadata": {
    "tags": [
     "remove-input",
     "remove-output"
    ]
   },
   "outputs": [
    {
     "name": "stdout",
     "output_type": "stream",
     "text": [
      "Requirement already satisfied: PyPortfolioOpt in /Users/lulu/opt/anaconda3/lib/python3.9/site-packages (1.5.1)\n",
      "Requirement already satisfied: pandas>=0.19 in /Users/lulu/opt/anaconda3/lib/python3.9/site-packages (from PyPortfolioOpt) (1.4.1)\n",
      "Requirement already satisfied: numpy<2.0,>=1.12 in /Users/lulu/opt/anaconda3/lib/python3.9/site-packages (from PyPortfolioOpt) (1.20.3)\n",
      "Requirement already satisfied: cvxpy<2.0.0,>=1.1.10 in /Users/lulu/opt/anaconda3/lib/python3.9/site-packages (from PyPortfolioOpt) (1.1.18)\n",
      "Requirement already satisfied: scipy<2.0,>=1.3 in /Users/lulu/opt/anaconda3/lib/python3.9/site-packages (from PyPortfolioOpt) (1.7.3)\n",
      "Requirement already satisfied: ecos>=2 in /Users/lulu/opt/anaconda3/lib/python3.9/site-packages (from cvxpy<2.0.0,>=1.1.10->PyPortfolioOpt) (2.0.10)\n",
      "Requirement already satisfied: scs>=1.1.6 in /Users/lulu/opt/anaconda3/lib/python3.9/site-packages (from cvxpy<2.0.0,>=1.1.10->PyPortfolioOpt) (3.2.0)\n",
      "Requirement already satisfied: osqp>=0.4.1 in /Users/lulu/opt/anaconda3/lib/python3.9/site-packages (from cvxpy<2.0.0,>=1.1.10->PyPortfolioOpt) (0.6.2.post5)\n",
      "Requirement already satisfied: qdldl in /Users/lulu/opt/anaconda3/lib/python3.9/site-packages (from osqp>=0.4.1->cvxpy<2.0.0,>=1.1.10->PyPortfolioOpt) (0.1.5.post0)\n",
      "Requirement already satisfied: python-dateutil>=2.8.1 in /Users/lulu/opt/anaconda3/lib/python3.9/site-packages (from pandas>=0.19->PyPortfolioOpt) (2.8.2)\n",
      "Requirement already satisfied: pytz>=2020.1 in /Users/lulu/opt/anaconda3/lib/python3.9/site-packages (from pandas>=0.19->PyPortfolioOpt) (2021.3)\n",
      "Requirement already satisfied: six>=1.5 in /Users/lulu/opt/anaconda3/lib/python3.9/site-packages (from python-dateutil>=2.8.1->pandas>=0.19->PyPortfolioOpt) (1.16.0)\n"
     ]
    }
   ],
   "source": [
    "!pip install PyPortfolioOpt"
   ]
  },
  {
   "cell_type": "code",
   "execution_count": 6,
   "id": "f245cf2e",
   "metadata": {
    "tags": [
     "hide-input"
    ]
   },
   "outputs": [],
   "source": [
    "from pypfopt import EfficientFrontier\n",
    "from pypfopt import risk_models\n",
    "from pypfopt import expected_returns\n",
    "from pypfopt import objective_functions\n",
    "from pypfopt import plotting"
   ]
  },
  {
   "cell_type": "code",
   "execution_count": 7,
   "id": "bd7b3ef3",
   "metadata": {
    "tags": [
     "hide-input"
    ]
   },
   "outputs": [],
   "source": [
    "df = pd.read_csv('../data/preprocessed.csv',\n",
    "                 usecols = ['reportingDate', 'name', 'CIK',\n",
    "                           'coDescription_stopwords', 'SIC', 'SIC_desc'])\n",
    "df = df.set_index(df.name)"
   ]
  },
  {
   "cell_type": "code",
   "execution_count": 8,
   "id": "b9f6cdc4",
   "metadata": {
    "tags": [
     "hide-input"
    ]
   },
   "outputs": [],
   "source": [
    "# get the names of the companies in the pharmaceutical preparations industry\n",
    "Pharm = df[df.SIC == 2834]\n",
    "Pharm_list = Pharm.index"
   ]
  },
  {
   "cell_type": "code",
   "execution_count": 9,
   "id": "98c532c4",
   "metadata": {
    "scrolled": true,
    "tags": [
     "hide-input"
    ]
   },
   "outputs": [],
   "source": [
    "# get the companies name that match return data and business description data\n",
    "SET = (set(Pharm_list) & set(r_selected.index))\n",
    "LIST = [*SET, ]"
   ]
  },
  {
   "cell_type": "markdown",
   "id": "270561f4",
   "metadata": {},
   "source": [
    "#### Sample Mean for the Pharmaceutical Preparations Industry"
   ]
  },
  {
   "cell_type": "code",
   "execution_count": 10,
   "id": "7b6da842",
   "metadata": {
    "tags": [
     "remove-input"
    ]
   },
   "outputs": [
    {
     "data": {
      "text/plain": [
       "name\n",
       "LILLY ELI & CO                   0.017574\n",
       "ANI PHARMACEUTICALS INC         -0.000895\n",
       "SERES THERAPEUTICS, INC.        -0.035758\n",
       "IMMUNOGEN INC                    0.021513\n",
       "CHIASMA, INC                     0.018143\n",
       "                                   ...   \n",
       "BRISTOL MYERS SQUIBB CO         -0.004359\n",
       "LEXICON PHARMACEUTICALS, INC.   -0.013984\n",
       "PROGENICS PHARMACEUTICALS INC    0.011256\n",
       "XOMA CORP                        0.027546\n",
       "BIOMARIN PHARMACEUTICAL INC      0.001661\n",
       "Length: 124, dtype: float64"
      ]
     },
     "execution_count": 10,
     "metadata": {},
     "output_type": "execute_result"
    }
   ],
   "source": [
    "mu_Pharm = mu[LIST]\n",
    "mu_Pharm"
   ]
  },
  {
   "cell_type": "markdown",
   "id": "c3bcd217",
   "metadata": {},
   "source": [
    "#### Sample Covariance for the Pharmaceutical Preparations Industry"
   ]
  },
  {
   "cell_type": "code",
   "execution_count": 11,
   "id": "8e72a50e",
   "metadata": {
    "tags": [
     "remove-input"
    ]
   },
   "outputs": [
    {
     "data": {
      "text/html": [
       "<div>\n",
       "<style scoped>\n",
       "    .dataframe tbody tr th:only-of-type {\n",
       "        vertical-align: middle;\n",
       "    }\n",
       "\n",
       "    .dataframe tbody tr th {\n",
       "        vertical-align: top;\n",
       "    }\n",
       "\n",
       "    .dataframe thead th {\n",
       "        text-align: right;\n",
       "    }\n",
       "</style>\n",
       "<table border=\"1\" class=\"dataframe\">\n",
       "  <thead>\n",
       "    <tr style=\"text-align: right;\">\n",
       "      <th>name</th>\n",
       "      <th>LILLY ELI &amp; CO</th>\n",
       "      <th>ANI PHARMACEUTICALS INC</th>\n",
       "      <th>SERES THERAPEUTICS, INC.</th>\n",
       "      <th>IMMUNOGEN INC</th>\n",
       "      <th>CHIASMA, INC</th>\n",
       "      <th>ACADIA PHARMACEUTICALS INC</th>\n",
       "      <th>TEVA PHARMACEUTICAL INDUSTRIES LTD</th>\n",
       "      <th>EYEGATE PHARMACEUTICALS INC</th>\n",
       "      <th>AQUINOX PHARMACEUTICALS, INC</th>\n",
       "      <th>RETROPHIN, INC.</th>\n",
       "      <th>...</th>\n",
       "      <th>FIBROCELL SCIENCE, INC.</th>\n",
       "      <th>CYMABAY THERAPEUTICS, INC.</th>\n",
       "      <th>VERASTEM, INC.</th>\n",
       "      <th>MARINUS PHARMACEUTICALS INC</th>\n",
       "      <th>FIVE PRIME THERAPEUTICS INC</th>\n",
       "      <th>BRISTOL MYERS SQUIBB CO</th>\n",
       "      <th>LEXICON PHARMACEUTICALS, INC.</th>\n",
       "      <th>PROGENICS PHARMACEUTICALS INC</th>\n",
       "      <th>XOMA CORP</th>\n",
       "      <th>BIOMARIN PHARMACEUTICAL INC</th>\n",
       "    </tr>\n",
       "    <tr>\n",
       "      <th>name</th>\n",
       "      <th></th>\n",
       "      <th></th>\n",
       "      <th></th>\n",
       "      <th></th>\n",
       "      <th></th>\n",
       "      <th></th>\n",
       "      <th></th>\n",
       "      <th></th>\n",
       "      <th></th>\n",
       "      <th></th>\n",
       "      <th></th>\n",
       "      <th></th>\n",
       "      <th></th>\n",
       "      <th></th>\n",
       "      <th></th>\n",
       "      <th></th>\n",
       "      <th></th>\n",
       "      <th></th>\n",
       "      <th></th>\n",
       "      <th></th>\n",
       "      <th></th>\n",
       "    </tr>\n",
       "  </thead>\n",
       "  <tbody>\n",
       "    <tr>\n",
       "      <th>LILLY ELI &amp; CO</th>\n",
       "      <td>0.003017</td>\n",
       "      <td>0.001520</td>\n",
       "      <td>0.002557</td>\n",
       "      <td>0.001418</td>\n",
       "      <td>0.002699</td>\n",
       "      <td>0.001991</td>\n",
       "      <td>0.002744</td>\n",
       "      <td>0.005505</td>\n",
       "      <td>0.000891</td>\n",
       "      <td>0.001166</td>\n",
       "      <td>...</td>\n",
       "      <td>-0.000677</td>\n",
       "      <td>-0.001507</td>\n",
       "      <td>0.003343</td>\n",
       "      <td>0.005194</td>\n",
       "      <td>0.000214</td>\n",
       "      <td>0.001035</td>\n",
       "      <td>0.002664</td>\n",
       "      <td>-0.000443</td>\n",
       "      <td>0.003200</td>\n",
       "      <td>0.001831</td>\n",
       "    </tr>\n",
       "    <tr>\n",
       "      <th>ANI PHARMACEUTICALS INC</th>\n",
       "      <td>0.001520</td>\n",
       "      <td>0.010194</td>\n",
       "      <td>0.003685</td>\n",
       "      <td>0.002446</td>\n",
       "      <td>-0.001768</td>\n",
       "      <td>0.003747</td>\n",
       "      <td>0.005189</td>\n",
       "      <td>0.003927</td>\n",
       "      <td>0.000783</td>\n",
       "      <td>0.005045</td>\n",
       "      <td>...</td>\n",
       "      <td>0.001456</td>\n",
       "      <td>-0.003294</td>\n",
       "      <td>0.002544</td>\n",
       "      <td>0.013062</td>\n",
       "      <td>0.005149</td>\n",
       "      <td>0.002275</td>\n",
       "      <td>0.007183</td>\n",
       "      <td>0.004171</td>\n",
       "      <td>0.008308</td>\n",
       "      <td>0.003723</td>\n",
       "    </tr>\n",
       "    <tr>\n",
       "      <th>SERES THERAPEUTICS, INC.</th>\n",
       "      <td>0.002557</td>\n",
       "      <td>0.003685</td>\n",
       "      <td>0.036740</td>\n",
       "      <td>0.014939</td>\n",
       "      <td>0.015020</td>\n",
       "      <td>0.000433</td>\n",
       "      <td>0.008387</td>\n",
       "      <td>0.015241</td>\n",
       "      <td>-0.000990</td>\n",
       "      <td>0.008466</td>\n",
       "      <td>...</td>\n",
       "      <td>0.012216</td>\n",
       "      <td>0.006272</td>\n",
       "      <td>0.025074</td>\n",
       "      <td>0.020797</td>\n",
       "      <td>0.000502</td>\n",
       "      <td>0.001403</td>\n",
       "      <td>0.006296</td>\n",
       "      <td>-0.002499</td>\n",
       "      <td>0.008580</td>\n",
       "      <td>-0.001477</td>\n",
       "    </tr>\n",
       "    <tr>\n",
       "      <th>IMMUNOGEN INC</th>\n",
       "      <td>0.001418</td>\n",
       "      <td>0.002446</td>\n",
       "      <td>0.014939</td>\n",
       "      <td>0.054333</td>\n",
       "      <td>0.010837</td>\n",
       "      <td>0.009262</td>\n",
       "      <td>0.002909</td>\n",
       "      <td>0.008265</td>\n",
       "      <td>0.016301</td>\n",
       "      <td>0.012573</td>\n",
       "      <td>...</td>\n",
       "      <td>0.026187</td>\n",
       "      <td>0.026210</td>\n",
       "      <td>0.011818</td>\n",
       "      <td>0.030133</td>\n",
       "      <td>0.003954</td>\n",
       "      <td>0.006100</td>\n",
       "      <td>0.011767</td>\n",
       "      <td>0.013295</td>\n",
       "      <td>0.016578</td>\n",
       "      <td>0.006327</td>\n",
       "    </tr>\n",
       "    <tr>\n",
       "      <th>CHIASMA, INC</th>\n",
       "      <td>0.002699</td>\n",
       "      <td>-0.001768</td>\n",
       "      <td>0.015020</td>\n",
       "      <td>0.010837</td>\n",
       "      <td>0.049106</td>\n",
       "      <td>0.015785</td>\n",
       "      <td>-0.008203</td>\n",
       "      <td>-0.008895</td>\n",
       "      <td>0.004271</td>\n",
       "      <td>0.009495</td>\n",
       "      <td>...</td>\n",
       "      <td>0.010825</td>\n",
       "      <td>-0.008056</td>\n",
       "      <td>0.008784</td>\n",
       "      <td>0.031829</td>\n",
       "      <td>0.009991</td>\n",
       "      <td>0.001639</td>\n",
       "      <td>0.000866</td>\n",
       "      <td>-0.002141</td>\n",
       "      <td>0.010006</td>\n",
       "      <td>0.001363</td>\n",
       "    </tr>\n",
       "    <tr>\n",
       "      <th>...</th>\n",
       "      <td>...</td>\n",
       "      <td>...</td>\n",
       "      <td>...</td>\n",
       "      <td>...</td>\n",
       "      <td>...</td>\n",
       "      <td>...</td>\n",
       "      <td>...</td>\n",
       "      <td>...</td>\n",
       "      <td>...</td>\n",
       "      <td>...</td>\n",
       "      <td>...</td>\n",
       "      <td>...</td>\n",
       "      <td>...</td>\n",
       "      <td>...</td>\n",
       "      <td>...</td>\n",
       "      <td>...</td>\n",
       "      <td>...</td>\n",
       "      <td>...</td>\n",
       "      <td>...</td>\n",
       "      <td>...</td>\n",
       "      <td>...</td>\n",
       "    </tr>\n",
       "    <tr>\n",
       "      <th>BRISTOL MYERS SQUIBB CO</th>\n",
       "      <td>0.001035</td>\n",
       "      <td>0.002275</td>\n",
       "      <td>0.001403</td>\n",
       "      <td>0.006100</td>\n",
       "      <td>0.001639</td>\n",
       "      <td>0.004699</td>\n",
       "      <td>0.001119</td>\n",
       "      <td>0.002791</td>\n",
       "      <td>-0.000739</td>\n",
       "      <td>0.002464</td>\n",
       "      <td>...</td>\n",
       "      <td>0.001211</td>\n",
       "      <td>0.004839</td>\n",
       "      <td>0.000120</td>\n",
       "      <td>0.005778</td>\n",
       "      <td>0.003855</td>\n",
       "      <td>0.007213</td>\n",
       "      <td>0.003402</td>\n",
       "      <td>0.006694</td>\n",
       "      <td>0.005690</td>\n",
       "      <td>0.001860</td>\n",
       "    </tr>\n",
       "    <tr>\n",
       "      <th>LEXICON PHARMACEUTICALS, INC.</th>\n",
       "      <td>0.002664</td>\n",
       "      <td>0.007183</td>\n",
       "      <td>0.006296</td>\n",
       "      <td>0.011767</td>\n",
       "      <td>0.000866</td>\n",
       "      <td>0.008199</td>\n",
       "      <td>0.009561</td>\n",
       "      <td>0.006147</td>\n",
       "      <td>0.008030</td>\n",
       "      <td>0.011627</td>\n",
       "      <td>...</td>\n",
       "      <td>0.007655</td>\n",
       "      <td>0.001920</td>\n",
       "      <td>0.009030</td>\n",
       "      <td>0.012878</td>\n",
       "      <td>0.006360</td>\n",
       "      <td>0.003402</td>\n",
       "      <td>0.021954</td>\n",
       "      <td>0.010874</td>\n",
       "      <td>-0.001158</td>\n",
       "      <td>0.007226</td>\n",
       "    </tr>\n",
       "    <tr>\n",
       "      <th>PROGENICS PHARMACEUTICALS INC</th>\n",
       "      <td>-0.000443</td>\n",
       "      <td>0.004171</td>\n",
       "      <td>-0.002499</td>\n",
       "      <td>0.013295</td>\n",
       "      <td>-0.002141</td>\n",
       "      <td>0.011699</td>\n",
       "      <td>0.003676</td>\n",
       "      <td>0.010493</td>\n",
       "      <td>0.020040</td>\n",
       "      <td>0.008355</td>\n",
       "      <td>...</td>\n",
       "      <td>0.012289</td>\n",
       "      <td>0.021213</td>\n",
       "      <td>-0.001409</td>\n",
       "      <td>0.015384</td>\n",
       "      <td>0.016159</td>\n",
       "      <td>0.006694</td>\n",
       "      <td>0.010874</td>\n",
       "      <td>0.041838</td>\n",
       "      <td>0.009499</td>\n",
       "      <td>0.009993</td>\n",
       "    </tr>\n",
       "    <tr>\n",
       "      <th>XOMA CORP</th>\n",
       "      <td>0.003200</td>\n",
       "      <td>0.008308</td>\n",
       "      <td>0.008580</td>\n",
       "      <td>0.016578</td>\n",
       "      <td>0.010006</td>\n",
       "      <td>0.009431</td>\n",
       "      <td>0.000889</td>\n",
       "      <td>0.018463</td>\n",
       "      <td>0.000596</td>\n",
       "      <td>0.003540</td>\n",
       "      <td>...</td>\n",
       "      <td>0.004730</td>\n",
       "      <td>0.013594</td>\n",
       "      <td>0.025262</td>\n",
       "      <td>0.065473</td>\n",
       "      <td>0.011927</td>\n",
       "      <td>0.005690</td>\n",
       "      <td>-0.001158</td>\n",
       "      <td>0.009499</td>\n",
       "      <td>0.068901</td>\n",
       "      <td>0.008034</td>\n",
       "    </tr>\n",
       "    <tr>\n",
       "      <th>BIOMARIN PHARMACEUTICAL INC</th>\n",
       "      <td>0.001831</td>\n",
       "      <td>0.003723</td>\n",
       "      <td>-0.001477</td>\n",
       "      <td>0.006327</td>\n",
       "      <td>0.001363</td>\n",
       "      <td>0.005883</td>\n",
       "      <td>0.005152</td>\n",
       "      <td>0.005173</td>\n",
       "      <td>0.004787</td>\n",
       "      <td>0.003291</td>\n",
       "      <td>...</td>\n",
       "      <td>0.005504</td>\n",
       "      <td>0.002891</td>\n",
       "      <td>0.003811</td>\n",
       "      <td>0.014251</td>\n",
       "      <td>0.004611</td>\n",
       "      <td>0.001860</td>\n",
       "      <td>0.007226</td>\n",
       "      <td>0.009993</td>\n",
       "      <td>0.008034</td>\n",
       "      <td>0.007078</td>\n",
       "    </tr>\n",
       "  </tbody>\n",
       "</table>\n",
       "<p>124 rows × 124 columns</p>\n",
       "</div>"
      ],
      "text/plain": [
       "name                           LILLY ELI & CO  ANI PHARMACEUTICALS INC  \\\n",
       "name                                                                     \n",
       "LILLY ELI & CO                       0.003017                 0.001520   \n",
       "ANI PHARMACEUTICALS INC              0.001520                 0.010194   \n",
       "SERES THERAPEUTICS, INC.             0.002557                 0.003685   \n",
       "IMMUNOGEN INC                        0.001418                 0.002446   \n",
       "CHIASMA, INC                         0.002699                -0.001768   \n",
       "...                                       ...                      ...   \n",
       "BRISTOL MYERS SQUIBB CO              0.001035                 0.002275   \n",
       "LEXICON PHARMACEUTICALS, INC.        0.002664                 0.007183   \n",
       "PROGENICS PHARMACEUTICALS INC       -0.000443                 0.004171   \n",
       "XOMA CORP                            0.003200                 0.008308   \n",
       "BIOMARIN PHARMACEUTICAL INC          0.001831                 0.003723   \n",
       "\n",
       "name                           SERES THERAPEUTICS, INC.  IMMUNOGEN INC  \\\n",
       "name                                                                     \n",
       "LILLY ELI & CO                                 0.002557       0.001418   \n",
       "ANI PHARMACEUTICALS INC                        0.003685       0.002446   \n",
       "SERES THERAPEUTICS, INC.                       0.036740       0.014939   \n",
       "IMMUNOGEN INC                                  0.014939       0.054333   \n",
       "CHIASMA, INC                                   0.015020       0.010837   \n",
       "...                                                 ...            ...   \n",
       "BRISTOL MYERS SQUIBB CO                        0.001403       0.006100   \n",
       "LEXICON PHARMACEUTICALS, INC.                  0.006296       0.011767   \n",
       "PROGENICS PHARMACEUTICALS INC                 -0.002499       0.013295   \n",
       "XOMA CORP                                      0.008580       0.016578   \n",
       "BIOMARIN PHARMACEUTICAL INC                   -0.001477       0.006327   \n",
       "\n",
       "name                           CHIASMA, INC  ACADIA PHARMACEUTICALS INC  \\\n",
       "name                                                                      \n",
       "LILLY ELI & CO                     0.002699                    0.001991   \n",
       "ANI PHARMACEUTICALS INC           -0.001768                    0.003747   \n",
       "SERES THERAPEUTICS, INC.           0.015020                    0.000433   \n",
       "IMMUNOGEN INC                      0.010837                    0.009262   \n",
       "CHIASMA, INC                       0.049106                    0.015785   \n",
       "...                                     ...                         ...   \n",
       "BRISTOL MYERS SQUIBB CO            0.001639                    0.004699   \n",
       "LEXICON PHARMACEUTICALS, INC.      0.000866                    0.008199   \n",
       "PROGENICS PHARMACEUTICALS INC     -0.002141                    0.011699   \n",
       "XOMA CORP                          0.010006                    0.009431   \n",
       "BIOMARIN PHARMACEUTICAL INC        0.001363                    0.005883   \n",
       "\n",
       "name                           TEVA PHARMACEUTICAL INDUSTRIES LTD  \\\n",
       "name                                                                \n",
       "LILLY ELI & CO                                           0.002744   \n",
       "ANI PHARMACEUTICALS INC                                  0.005189   \n",
       "SERES THERAPEUTICS, INC.                                 0.008387   \n",
       "IMMUNOGEN INC                                            0.002909   \n",
       "CHIASMA, INC                                            -0.008203   \n",
       "...                                                           ...   \n",
       "BRISTOL MYERS SQUIBB CO                                  0.001119   \n",
       "LEXICON PHARMACEUTICALS, INC.                            0.009561   \n",
       "PROGENICS PHARMACEUTICALS INC                            0.003676   \n",
       "XOMA CORP                                                0.000889   \n",
       "BIOMARIN PHARMACEUTICAL INC                              0.005152   \n",
       "\n",
       "name                           EYEGATE PHARMACEUTICALS INC  \\\n",
       "name                                                         \n",
       "LILLY ELI & CO                                    0.005505   \n",
       "ANI PHARMACEUTICALS INC                           0.003927   \n",
       "SERES THERAPEUTICS, INC.                          0.015241   \n",
       "IMMUNOGEN INC                                     0.008265   \n",
       "CHIASMA, INC                                     -0.008895   \n",
       "...                                                    ...   \n",
       "BRISTOL MYERS SQUIBB CO                           0.002791   \n",
       "LEXICON PHARMACEUTICALS, INC.                     0.006147   \n",
       "PROGENICS PHARMACEUTICALS INC                     0.010493   \n",
       "XOMA CORP                                         0.018463   \n",
       "BIOMARIN PHARMACEUTICAL INC                       0.005173   \n",
       "\n",
       "name                           AQUINOX PHARMACEUTICALS, INC  RETROPHIN, INC.  \\\n",
       "name                                                                           \n",
       "LILLY ELI & CO                                     0.000891         0.001166   \n",
       "ANI PHARMACEUTICALS INC                            0.000783         0.005045   \n",
       "SERES THERAPEUTICS, INC.                          -0.000990         0.008466   \n",
       "IMMUNOGEN INC                                      0.016301         0.012573   \n",
       "CHIASMA, INC                                       0.004271         0.009495   \n",
       "...                                                     ...              ...   \n",
       "BRISTOL MYERS SQUIBB CO                           -0.000739         0.002464   \n",
       "LEXICON PHARMACEUTICALS, INC.                      0.008030         0.011627   \n",
       "PROGENICS PHARMACEUTICALS INC                      0.020040         0.008355   \n",
       "XOMA CORP                                          0.000596         0.003540   \n",
       "BIOMARIN PHARMACEUTICAL INC                        0.004787         0.003291   \n",
       "\n",
       "name                           ...  FIBROCELL SCIENCE, INC.  \\\n",
       "name                           ...                            \n",
       "LILLY ELI & CO                 ...                -0.000677   \n",
       "ANI PHARMACEUTICALS INC        ...                 0.001456   \n",
       "SERES THERAPEUTICS, INC.       ...                 0.012216   \n",
       "IMMUNOGEN INC                  ...                 0.026187   \n",
       "CHIASMA, INC                   ...                 0.010825   \n",
       "...                            ...                      ...   \n",
       "BRISTOL MYERS SQUIBB CO        ...                 0.001211   \n",
       "LEXICON PHARMACEUTICALS, INC.  ...                 0.007655   \n",
       "PROGENICS PHARMACEUTICALS INC  ...                 0.012289   \n",
       "XOMA CORP                      ...                 0.004730   \n",
       "BIOMARIN PHARMACEUTICAL INC    ...                 0.005504   \n",
       "\n",
       "name                           CYMABAY THERAPEUTICS, INC.  VERASTEM, INC.  \\\n",
       "name                                                                        \n",
       "LILLY ELI & CO                                  -0.001507        0.003343   \n",
       "ANI PHARMACEUTICALS INC                         -0.003294        0.002544   \n",
       "SERES THERAPEUTICS, INC.                         0.006272        0.025074   \n",
       "IMMUNOGEN INC                                    0.026210        0.011818   \n",
       "CHIASMA, INC                                    -0.008056        0.008784   \n",
       "...                                                   ...             ...   \n",
       "BRISTOL MYERS SQUIBB CO                          0.004839        0.000120   \n",
       "LEXICON PHARMACEUTICALS, INC.                    0.001920        0.009030   \n",
       "PROGENICS PHARMACEUTICALS INC                    0.021213       -0.001409   \n",
       "XOMA CORP                                        0.013594        0.025262   \n",
       "BIOMARIN PHARMACEUTICAL INC                      0.002891        0.003811   \n",
       "\n",
       "name                           MARINUS PHARMACEUTICALS INC  \\\n",
       "name                                                         \n",
       "LILLY ELI & CO                                    0.005194   \n",
       "ANI PHARMACEUTICALS INC                           0.013062   \n",
       "SERES THERAPEUTICS, INC.                          0.020797   \n",
       "IMMUNOGEN INC                                     0.030133   \n",
       "CHIASMA, INC                                      0.031829   \n",
       "...                                                    ...   \n",
       "BRISTOL MYERS SQUIBB CO                           0.005778   \n",
       "LEXICON PHARMACEUTICALS, INC.                     0.012878   \n",
       "PROGENICS PHARMACEUTICALS INC                     0.015384   \n",
       "XOMA CORP                                         0.065473   \n",
       "BIOMARIN PHARMACEUTICAL INC                       0.014251   \n",
       "\n",
       "name                           FIVE PRIME THERAPEUTICS INC  \\\n",
       "name                                                         \n",
       "LILLY ELI & CO                                    0.000214   \n",
       "ANI PHARMACEUTICALS INC                           0.005149   \n",
       "SERES THERAPEUTICS, INC.                          0.000502   \n",
       "IMMUNOGEN INC                                     0.003954   \n",
       "CHIASMA, INC                                      0.009991   \n",
       "...                                                    ...   \n",
       "BRISTOL MYERS SQUIBB CO                           0.003855   \n",
       "LEXICON PHARMACEUTICALS, INC.                     0.006360   \n",
       "PROGENICS PHARMACEUTICALS INC                     0.016159   \n",
       "XOMA CORP                                         0.011927   \n",
       "BIOMARIN PHARMACEUTICAL INC                       0.004611   \n",
       "\n",
       "name                           BRISTOL MYERS SQUIBB CO  \\\n",
       "name                                                     \n",
       "LILLY ELI & CO                                0.001035   \n",
       "ANI PHARMACEUTICALS INC                       0.002275   \n",
       "SERES THERAPEUTICS, INC.                      0.001403   \n",
       "IMMUNOGEN INC                                 0.006100   \n",
       "CHIASMA, INC                                  0.001639   \n",
       "...                                                ...   \n",
       "BRISTOL MYERS SQUIBB CO                       0.007213   \n",
       "LEXICON PHARMACEUTICALS, INC.                 0.003402   \n",
       "PROGENICS PHARMACEUTICALS INC                 0.006694   \n",
       "XOMA CORP                                     0.005690   \n",
       "BIOMARIN PHARMACEUTICAL INC                   0.001860   \n",
       "\n",
       "name                           LEXICON PHARMACEUTICALS, INC.  \\\n",
       "name                                                           \n",
       "LILLY ELI & CO                                      0.002664   \n",
       "ANI PHARMACEUTICALS INC                             0.007183   \n",
       "SERES THERAPEUTICS, INC.                            0.006296   \n",
       "IMMUNOGEN INC                                       0.011767   \n",
       "CHIASMA, INC                                        0.000866   \n",
       "...                                                      ...   \n",
       "BRISTOL MYERS SQUIBB CO                             0.003402   \n",
       "LEXICON PHARMACEUTICALS, INC.                       0.021954   \n",
       "PROGENICS PHARMACEUTICALS INC                       0.010874   \n",
       "XOMA CORP                                          -0.001158   \n",
       "BIOMARIN PHARMACEUTICAL INC                         0.007226   \n",
       "\n",
       "name                           PROGENICS PHARMACEUTICALS INC  XOMA CORP  \\\n",
       "name                                                                      \n",
       "LILLY ELI & CO                                     -0.000443   0.003200   \n",
       "ANI PHARMACEUTICALS INC                             0.004171   0.008308   \n",
       "SERES THERAPEUTICS, INC.                           -0.002499   0.008580   \n",
       "IMMUNOGEN INC                                       0.013295   0.016578   \n",
       "CHIASMA, INC                                       -0.002141   0.010006   \n",
       "...                                                      ...        ...   \n",
       "BRISTOL MYERS SQUIBB CO                             0.006694   0.005690   \n",
       "LEXICON PHARMACEUTICALS, INC.                       0.010874  -0.001158   \n",
       "PROGENICS PHARMACEUTICALS INC                       0.041838   0.009499   \n",
       "XOMA CORP                                           0.009499   0.068901   \n",
       "BIOMARIN PHARMACEUTICAL INC                         0.009993   0.008034   \n",
       "\n",
       "name                           BIOMARIN PHARMACEUTICAL INC  \n",
       "name                                                        \n",
       "LILLY ELI & CO                                    0.001831  \n",
       "ANI PHARMACEUTICALS INC                           0.003723  \n",
       "SERES THERAPEUTICS, INC.                         -0.001477  \n",
       "IMMUNOGEN INC                                     0.006327  \n",
       "CHIASMA, INC                                      0.001363  \n",
       "...                                                    ...  \n",
       "BRISTOL MYERS SQUIBB CO                           0.001860  \n",
       "LEXICON PHARMACEUTICALS, INC.                     0.007226  \n",
       "PROGENICS PHARMACEUTICALS INC                     0.009993  \n",
       "XOMA CORP                                         0.008034  \n",
       "BIOMARIN PHARMACEUTICAL INC                       0.007078  \n",
       "\n",
       "[124 rows x 124 columns]"
      ]
     },
     "execution_count": 11,
     "metadata": {},
     "output_type": "execute_result"
    }
   ],
   "source": [
    "tmp = cov[LIST].T\n",
    "cov_Pharm = tmp[LIST]\n",
    "cov_Pharm"
   ]
  },
  {
   "cell_type": "markdown",
   "id": "fc1b6a4c",
   "metadata": {},
   "source": [
    "#### Efficient Frontier - Pharmaceutical Preparations"
   ]
  },
  {
   "cell_type": "code",
   "execution_count": 12,
   "id": "7429ef48",
   "metadata": {
    "tags": [
     "hide-input"
    ]
   },
   "outputs": [
    {
     "data": {
      "image/png": "[encoded data removed]",
      "text/plain": [
       "<Figure size 432x288 with 1 Axes>"
      ]
     },
     "metadata": {
      "needs_background": "light"
     },
     "output_type": "display_data"
    }
   ],
   "source": [
    "ef1 = EfficientFrontier(mu_Pharm, cov_Pharm, weight_bounds=(0, 0.2))\n",
    "\n",
    "fig, ax = plt.subplots()\n",
    "plotting.plot_efficient_frontier(ef1, ax=ax, show_assets=True)\n",
    "\n",
    "# Find and plot the tangency portfolio\n",
    "ef2 = EfficientFrontier(mu_Pharm, cov_Pharm, weight_bounds=(0, 0.2))\n",
    "# min volatility\n",
    "ef2.min_volatility()\n",
    "ret_tangent, std_tangent, _ = ef2.portfolio_performance()\n",
    "ax.scatter(std_tangent, ret_tangent, marker=\"*\", s=100, c=\"r\", label=\"Min Volatility\")\n",
    "\n",
    "# Format\n",
    "ax.set_title(\"Efficient Frontier - Pharmaceutical Preparations \\n Sample Covariance Estimates\")\n",
    "ax.legend()\n",
    "plt.tight_layout()\n",
    "plt.savefig('images/Efficient_Frontier_Returns.png', dpi=200, bbox_inches='tight')\n",
    "plt.show()"
   ]
  },
  {
   "cell_type": "markdown",
   "id": "342e7542",
   "metadata": {},
   "source": [
    "##### Min Volatility Portfolio"
   ]
  },
  {
   "cell_type": "markdown",
   "id": "01cb24cd",
   "metadata": {},
   "source": [
    "###### Performance"
   ]
  },
  {
   "cell_type": "code",
   "execution_count": 13,
   "id": "b34e4df3",
   "metadata": {
    "tags": [
     "hide-input"
    ]
   },
   "outputs": [
    {
     "name": "stdout",
     "output_type": "stream",
     "text": [
      "Expected annual return: 1.2%\n",
      "Annual volatility: 2.1%\n",
      "Sharpe Ratio: -0.35\n"
     ]
    }
   ],
   "source": [
    "ef2.portfolio_performance(verbose=True);"
   ]
  },
  {
   "cell_type": "markdown",
   "id": "4b77c2f6",
   "metadata": {},
   "source": [
    "###### Weights"
   ]
  },
  {
   "cell_type": "code",
   "execution_count": 14,
   "id": "ede83875",
   "metadata": {
    "tags": [
     "hide-input"
    ]
   },
   "outputs": [],
   "source": [
    "companies = []\n",
    "weights = []\n",
    "for company, weight in ef2.clean_weights().items():\n",
    "    if weight != 0:\n",
    "        companies.append(company)\n",
    "        weights.append(weight)\n",
    "        \n",
    "dic = {'Company_Name':companies,'Weight':weights}\n",
    "min_vol = pd.DataFrame(dic)"
   ]
  },
  {
   "cell_type": "code",
   "execution_count": 15,
   "id": "8c912f1e",
   "metadata": {
    "tags": [
     "remove-input"
    ]
   },
   "outputs": [
    {
     "data": {
      "text/html": [
       "<div>\n",
       "<style scoped>\n",
       "    .dataframe tbody tr th:only-of-type {\n",
       "        vertical-align: middle;\n",
       "    }\n",
       "\n",
       "    .dataframe tbody tr th {\n",
       "        vertical-align: top;\n",
       "    }\n",
       "\n",
       "    .dataframe thead th {\n",
       "        text-align: right;\n",
       "    }\n",
       "</style>\n",
       "<table border=\"1\" class=\"dataframe\">\n",
       "  <thead>\n",
       "    <tr style=\"text-align: right;\">\n",
       "      <th></th>\n",
       "      <th>Company_Name</th>\n",
       "      <th>Weight</th>\n",
       "    </tr>\n",
       "  </thead>\n",
       "  <tbody>\n",
       "    <tr>\n",
       "      <th>0</th>\n",
       "      <td>CHEMBIO DIAGNOSTICS, INC.</td>\n",
       "      <td>0.02843</td>\n",
       "    </tr>\n",
       "    <tr>\n",
       "      <th>1</th>\n",
       "      <td>JOHNSON &amp; JOHNSON</td>\n",
       "      <td>0.17878</td>\n",
       "    </tr>\n",
       "    <tr>\n",
       "      <th>2</th>\n",
       "      <td>BIODELIVERY SCIENCES INTERNATIONAL INC</td>\n",
       "      <td>0.03680</td>\n",
       "    </tr>\n",
       "    <tr>\n",
       "      <th>3</th>\n",
       "      <td>PROPHASE LABS, INC.</td>\n",
       "      <td>0.05120</td>\n",
       "    </tr>\n",
       "    <tr>\n",
       "      <th>4</th>\n",
       "      <td>ORAMED PHARMACEUTICALS INC.</td>\n",
       "      <td>0.04982</td>\n",
       "    </tr>\n",
       "    <tr>\n",
       "      <th>5</th>\n",
       "      <td>XENON PHARMACEUTICALS INC.</td>\n",
       "      <td>0.01350</td>\n",
       "    </tr>\n",
       "    <tr>\n",
       "      <th>6</th>\n",
       "      <td>BRISTOL MYERS SQUIBB CO</td>\n",
       "      <td>0.12824</td>\n",
       "    </tr>\n",
       "    <tr>\n",
       "      <th>7</th>\n",
       "      <td>PFENEX INC.</td>\n",
       "      <td>0.03777</td>\n",
       "    </tr>\n",
       "    <tr>\n",
       "      <th>8</th>\n",
       "      <td>ACHAOGEN INC</td>\n",
       "      <td>0.00515</td>\n",
       "    </tr>\n",
       "    <tr>\n",
       "      <th>9</th>\n",
       "      <td>ZOETIS INC.</td>\n",
       "      <td>0.01195</td>\n",
       "    </tr>\n",
       "    <tr>\n",
       "      <th>10</th>\n",
       "      <td>MANNKIND CORP</td>\n",
       "      <td>0.02048</td>\n",
       "    </tr>\n",
       "    <tr>\n",
       "      <th>11</th>\n",
       "      <td>ASSEMBLY BIOSCIENCES, INC.</td>\n",
       "      <td>0.05775</td>\n",
       "    </tr>\n",
       "    <tr>\n",
       "      <th>12</th>\n",
       "      <td>ARATANA THERAPEUTICS, INC.</td>\n",
       "      <td>0.03678</td>\n",
       "    </tr>\n",
       "    <tr>\n",
       "      <th>13</th>\n",
       "      <td>IMPRIMIS PHARMACEUTICALS, INC.</td>\n",
       "      <td>0.04181</td>\n",
       "    </tr>\n",
       "    <tr>\n",
       "      <th>14</th>\n",
       "      <td>LIPOCINE INC.</td>\n",
       "      <td>0.00683</td>\n",
       "    </tr>\n",
       "    <tr>\n",
       "      <th>15</th>\n",
       "      <td>VTV THERAPEUTICS INC.</td>\n",
       "      <td>0.02372</td>\n",
       "    </tr>\n",
       "    <tr>\n",
       "      <th>16</th>\n",
       "      <td>MERCK &amp; CO., INC.</td>\n",
       "      <td>0.20000</td>\n",
       "    </tr>\n",
       "    <tr>\n",
       "      <th>17</th>\n",
       "      <td>STEMLINE THERAPEUTICS INC</td>\n",
       "      <td>0.04273</td>\n",
       "    </tr>\n",
       "    <tr>\n",
       "      <th>18</th>\n",
       "      <td>CYTOMX THERAPEUTICS, INC.</td>\n",
       "      <td>0.00520</td>\n",
       "    </tr>\n",
       "    <tr>\n",
       "      <th>19</th>\n",
       "      <td>HEAT BIOLOGICS, INC.</td>\n",
       "      <td>0.00297</td>\n",
       "    </tr>\n",
       "    <tr>\n",
       "      <th>20</th>\n",
       "      <td>RECRO PHARMA, INC.</td>\n",
       "      <td>0.02010</td>\n",
       "    </tr>\n",
       "  </tbody>\n",
       "</table>\n",
       "</div>"
      ],
      "text/plain": [
       "                              Company_Name   Weight\n",
       "0                CHEMBIO DIAGNOSTICS, INC.  0.02843\n",
       "1                        JOHNSON & JOHNSON  0.17878\n",
       "2   BIODELIVERY SCIENCES INTERNATIONAL INC  0.03680\n",
       "3                      PROPHASE LABS, INC.  0.05120\n",
       "4              ORAMED PHARMACEUTICALS INC.  0.04982\n",
       "5               XENON PHARMACEUTICALS INC.  0.01350\n",
       "6                  BRISTOL MYERS SQUIBB CO  0.12824\n",
       "7                              PFENEX INC.  0.03777\n",
       "8                             ACHAOGEN INC  0.00515\n",
       "9                              ZOETIS INC.  0.01195\n",
       "10                           MANNKIND CORP  0.02048\n",
       "11              ASSEMBLY BIOSCIENCES, INC.  0.05775\n",
       "12              ARATANA THERAPEUTICS, INC.  0.03678\n",
       "13          IMPRIMIS PHARMACEUTICALS, INC.  0.04181\n",
       "14                           LIPOCINE INC.  0.00683\n",
       "15                   VTV THERAPEUTICS INC.  0.02372\n",
       "16                       MERCK & CO., INC.  0.20000\n",
       "17               STEMLINE THERAPEUTICS INC  0.04273\n",
       "18               CYTOMX THERAPEUTICS, INC.  0.00520\n",
       "19                    HEAT BIOLOGICS, INC.  0.00297\n",
       "20                      RECRO PHARMA, INC.  0.02010"
      ]
     },
     "execution_count": 15,
     "metadata": {},
     "output_type": "execute_result"
    }
   ],
   "source": [
    "pd.read_csv(\"data/min_vol_sample_Pharmaceutical_Preparations.csv\")"
   ]
  },
  {
   "cell_type": "markdown",
   "id": "d1959343",
   "metadata": {},
   "source": [
    "### Results for the Other 4 Industries"
   ]
  },
  {
   "cell_type": "code",
   "execution_count": 16,
   "id": "be7bbb78",
   "metadata": {
    "tags": [
     "remove-input"
    ]
   },
   "outputs": [],
   "source": [
    "SIC_list = [7372, 1311, 6798, 6022]\n",
    "SIC_desc = ['Prepackaged Software (mass reproduction of software)', 'Crude Petroleum and Natural Gas', \n",
    "           'Real Estate Investment Trusts', 'State Commercial Banks (commercial banking)']"
   ]
  },
  {
   "cell_type": "markdown",
   "id": "1dc7e46a",
   "metadata": {},
   "source": [
    "#### Prepackaged Software (mass reproduction of software)"
   ]
  },
  {
   "cell_type": "code",
   "execution_count": 17,
   "id": "f9066d2b",
   "metadata": {
    "tags": [
     "remove-input"
    ]
   },
   "outputs": [
    {
     "data": {
      "image/png": "[encoded data removed]",
      "text/plain": [
       "<Figure size 432x288 with 1 Axes>"
      ]
     },
     "metadata": {
      "needs_background": "light"
     },
     "output_type": "display_data"
    }
   ],
   "source": [
    "SIC = SIC_list[0]\n",
    "    \n",
    "industry_name = SIC_desc[SIC_list.index(SIC)]\n",
    "    \n",
    "# get the names of the companies in the other industries\n",
    "Companies = df[df.SIC == SIC]\n",
    "Company_list = Companies.index\n",
    "\n",
    "# get the companies name that match return data and business description data\n",
    "SET = (set(Company_list) & set(r_selected.index))\n",
    "LIST = [*SET, ]\n",
    "\n",
    "mu_sample = mu[LIST]\n",
    "# get the outliers\n",
    "outlier = mu_sample[mu_sample>1].index\n",
    "mu_sample = mu_sample.drop(outlier)\n",
    "LIST = mu_sample.index\n",
    "\n",
    "tmp = cov[LIST].T\n",
    "cov_sample = tmp[LIST]\n",
    "\n",
    "# perform minimum variance analysis\n",
    "ef1 = EfficientFrontier(mu_sample, cov_sample, weight_bounds=(0, 0.2))\n",
    "\n",
    "fig, ax = plt.subplots()\n",
    "plotting.plot_efficient_frontier(ef1, ax=ax, show_assets=True)\n",
    "\n",
    "# Find and plot the tangency portfolio\n",
    "ef2 = EfficientFrontier(mu_sample, cov_sample, weight_bounds=(0, 0.2))\n",
    "# min volatility\n",
    "ef2.min_volatility()\n",
    "ret_tangent, std_tangent, _ = ef2.portfolio_performance()\n",
    "ax.scatter(std_tangent, ret_tangent, marker=\"*\", s=100, c=\"r\", label=\"Min Volatility\")\n",
    "\n",
    "# Format\n",
    "ax.set_title(\"Efficient Frontier - %s \\n Sample Covariance Estimates\" %industry_name)\n",
    "ax.legend()\n",
    "plt.tight_layout()\n",
    "plt.savefig('images/Efficient_Frontier_Sample_Covariance_Estimates' + str(industry_name) + '.png', dpi=200, bbox_inches='tight')\n",
    "plt.show()"
   ]
  },
  {
   "cell_type": "markdown",
   "id": "32f1139f",
   "metadata": {},
   "source": [
    "##### Min Volatility Portfolio"
   ]
  },
  {
   "cell_type": "markdown",
   "id": "16830a0f",
   "metadata": {},
   "source": [
    "###### Performance"
   ]
  },
  {
   "cell_type": "code",
   "execution_count": 18,
   "id": "5d45e1d6",
   "metadata": {
    "tags": [
     "remove-input"
    ]
   },
   "outputs": [
    {
     "name": "stdout",
     "output_type": "stream",
     "text": [
      "Expected annual return: 0.6%\n",
      "Annual volatility: 2.4%\n",
      "Sharpe Ratio: -0.57\n"
     ]
    }
   ],
   "source": [
    "ef2.portfolio_performance(verbose=True);"
   ]
  },
  {
   "cell_type": "markdown",
   "id": "38ee9c2a",
   "metadata": {},
   "source": [
    "###### Weights"
   ]
  },
  {
   "cell_type": "code",
   "execution_count": 19,
   "id": "d3cf439d",
   "metadata": {
    "tags": [
     "remove-input"
    ]
   },
   "outputs": [
    {
     "data": {
      "text/html": [
       "<div>\n",
       "<style scoped>\n",
       "    .dataframe tbody tr th:only-of-type {\n",
       "        vertical-align: middle;\n",
       "    }\n",
       "\n",
       "    .dataframe tbody tr th {\n",
       "        vertical-align: top;\n",
       "    }\n",
       "\n",
       "    .dataframe thead th {\n",
       "        text-align: right;\n",
       "    }\n",
       "</style>\n",
       "<table border=\"1\" class=\"dataframe\">\n",
       "  <thead>\n",
       "    <tr style=\"text-align: right;\">\n",
       "      <th></th>\n",
       "      <th>Company_Name</th>\n",
       "      <th>Weight</th>\n",
       "    </tr>\n",
       "  </thead>\n",
       "  <tbody>\n",
       "    <tr>\n",
       "      <th>0</th>\n",
       "      <td>MAJESCO</td>\n",
       "      <td>0.01906</td>\n",
       "    </tr>\n",
       "    <tr>\n",
       "      <th>1</th>\n",
       "      <td>NUANCE COMMUNICATIONS, INC.</td>\n",
       "      <td>0.08608</td>\n",
       "    </tr>\n",
       "    <tr>\n",
       "      <th>2</th>\n",
       "      <td>AWARE INC /MA/</td>\n",
       "      <td>0.20000</td>\n",
       "    </tr>\n",
       "    <tr>\n",
       "      <th>3</th>\n",
       "      <td>MICROSTRATEGY INC</td>\n",
       "      <td>0.02160</td>\n",
       "    </tr>\n",
       "    <tr>\n",
       "      <th>4</th>\n",
       "      <td>QUMU CORP</td>\n",
       "      <td>0.05153</td>\n",
       "    </tr>\n",
       "    <tr>\n",
       "      <th>5</th>\n",
       "      <td>ROSETTA STONE INC</td>\n",
       "      <td>0.01647</td>\n",
       "    </tr>\n",
       "    <tr>\n",
       "      <th>6</th>\n",
       "      <td>COMMVAULT SYSTEMS INC</td>\n",
       "      <td>0.07381</td>\n",
       "    </tr>\n",
       "    <tr>\n",
       "      <th>7</th>\n",
       "      <td>ENDURANCE INTERNATIONAL GROUP HOLDINGS, INC.</td>\n",
       "      <td>0.02554</td>\n",
       "    </tr>\n",
       "    <tr>\n",
       "      <th>8</th>\n",
       "      <td>QUALYS, INC.</td>\n",
       "      <td>0.06668</td>\n",
       "    </tr>\n",
       "    <tr>\n",
       "      <th>9</th>\n",
       "      <td>LIVEPERSON INC</td>\n",
       "      <td>0.01519</td>\n",
       "    </tr>\n",
       "    <tr>\n",
       "      <th>10</th>\n",
       "      <td>ZEDGE, INC.</td>\n",
       "      <td>0.01792</td>\n",
       "    </tr>\n",
       "    <tr>\n",
       "      <th>11</th>\n",
       "      <td>AVID TECHNOLOGY, INC.</td>\n",
       "      <td>0.00129</td>\n",
       "    </tr>\n",
       "    <tr>\n",
       "      <th>12</th>\n",
       "      <td>BLACK KNIGHT, INC.</td>\n",
       "      <td>0.20000</td>\n",
       "    </tr>\n",
       "    <tr>\n",
       "      <th>13</th>\n",
       "      <td>ACI WORLDWIDE, INC.</td>\n",
       "      <td>0.11314</td>\n",
       "    </tr>\n",
       "    <tr>\n",
       "      <th>14</th>\n",
       "      <td>ORACLE CORP</td>\n",
       "      <td>0.09170</td>\n",
       "    </tr>\n",
       "  </tbody>\n",
       "</table>\n",
       "</div>"
      ],
      "text/plain": [
       "                                    Company_Name   Weight\n",
       "0                                        MAJESCO  0.01906\n",
       "1                    NUANCE COMMUNICATIONS, INC.  0.08608\n",
       "2                                 AWARE INC /MA/  0.20000\n",
       "3                              MICROSTRATEGY INC  0.02160\n",
       "4                                      QUMU CORP  0.05153\n",
       "5                              ROSETTA STONE INC  0.01647\n",
       "6                          COMMVAULT SYSTEMS INC  0.07381\n",
       "7   ENDURANCE INTERNATIONAL GROUP HOLDINGS, INC.  0.02554\n",
       "8                                   QUALYS, INC.  0.06668\n",
       "9                                 LIVEPERSON INC  0.01519\n",
       "10                                   ZEDGE, INC.  0.01792\n",
       "11                         AVID TECHNOLOGY, INC.  0.00129\n",
       "12                            BLACK KNIGHT, INC.  0.20000\n",
       "13                           ACI WORLDWIDE, INC.  0.11314\n",
       "14                                   ORACLE CORP  0.09170"
      ]
     },
     "execution_count": 19,
     "metadata": {},
     "output_type": "execute_result"
    }
   ],
   "source": [
    "pd.read_csv(\"data/min_vol_sample_Prepackaged_Software.csv\")"
   ]
  },
  {
   "cell_type": "markdown",
   "id": "70faca0a",
   "metadata": {},
   "source": [
    "#### Crude Petroleum and Natural Gas\n",
    "When we conduct the same analysis, there is no weight shown. Efficient frontier cannot be found."
   ]
  },
  {
   "cell_type": "markdown",
   "id": "b647a7f7",
   "metadata": {},
   "source": [
    "#### Real Estate Investment Trusts"
   ]
  },
  {
   "cell_type": "code",
   "execution_count": 25,
   "id": "2548ca70",
   "metadata": {
    "tags": [
     "remove-input"
    ]
   },
   "outputs": [
    {
     "data": {
      "image/png": "[encoded data removed]",
      "text/plain": [
       "<Figure size 432x288 with 1 Axes>"
      ]
     },
     "metadata": {
      "needs_background": "light"
     },
     "output_type": "display_data"
    }
   ],
   "source": [
    "SIC = SIC_list[2]\n",
    "    \n",
    "industry_name = SIC_desc[SIC_list.index(SIC)]\n",
    "    \n",
    "# get the names of the companies in the other industries\n",
    "Companies = df[df.SIC == SIC]\n",
    "Company_list = Companies.index\n",
    "\n",
    "# get the companies name that match return data and business description data\n",
    "SET = (set(Company_list) & set(r_selected.index))\n",
    "LIST = [*SET, ]\n",
    "\n",
    "mu_sample = mu[LIST]\n",
    "# get the outliers\n",
    "outlier = mu_sample[mu_sample>1].index\n",
    "mu_sample = mu_sample.drop(outlier)\n",
    "LIST = mu_sample.index\n",
    "\n",
    "tmp = cov[LIST].T\n",
    "cov_sample = tmp[LIST]\n",
    "\n",
    "# perform minimum variance analysis\n",
    "ef1 = EfficientFrontier(mu_sample, cov_sample, weight_bounds=(0, 0.2))\n",
    "\n",
    "fig, ax = plt.subplots()\n",
    "plotting.plot_efficient_frontier(ef1, ax=ax, show_assets=True)\n",
    "\n",
    "# Find and plot the tangency portfolio\n",
    "ef2 = EfficientFrontier(mu_sample, cov_sample, weight_bounds=(0, 0.2))\n",
    "# min volatility\n",
    "ef2.min_volatility()\n",
    "ret_tangent, std_tangent, _ = ef2.portfolio_performance()\n",
    "ax.scatter(std_tangent, ret_tangent, marker=\"*\", s=100, c=\"r\", label=\"Min Volatility\")\n",
    "\n",
    "# Format\n",
    "ax.set_title(\"Efficient Frontier - %s \\n Sample Covariance Estimates\" %industry_name)\n",
    "ax.legend()\n",
    "plt.tight_layout()\n",
    "plt.savefig('images/Efficient_Frontier_Sample_Covariance_Estimates' + str(industry_name) + '.png', dpi=200, bbox_inches='tight')\n",
    "plt.show()"
   ]
  },
  {
   "cell_type": "markdown",
   "id": "460672e3",
   "metadata": {},
   "source": [
    "##### Min Volatility Portfolio"
   ]
  },
  {
   "cell_type": "markdown",
   "id": "4f94fd2b",
   "metadata": {},
   "source": [
    "###### Performance"
   ]
  },
  {
   "cell_type": "code",
   "execution_count": 26,
   "id": "85ee33ba",
   "metadata": {
    "tags": [
     "remove-input"
    ]
   },
   "outputs": [
    {
     "name": "stdout",
     "output_type": "stream",
     "text": [
      "Expected annual return: 0.5%\n",
      "Annual volatility: 1.8%\n",
      "Sharpe Ratio: -0.80\n"
     ]
    }
   ],
   "source": [
    "ef2.portfolio_performance(verbose=True);"
   ]
  },
  {
   "cell_type": "markdown",
   "id": "b41571c6",
   "metadata": {},
   "source": [
    "###### Weights"
   ]
  },
  {
   "cell_type": "code",
   "execution_count": 27,
   "id": "9717278d",
   "metadata": {
    "tags": [
     "remove-input"
    ]
   },
   "outputs": [
    {
     "data": {
      "text/html": [
       "<div>\n",
       "<style scoped>\n",
       "    .dataframe tbody tr th:only-of-type {\n",
       "        vertical-align: middle;\n",
       "    }\n",
       "\n",
       "    .dataframe tbody tr th {\n",
       "        vertical-align: top;\n",
       "    }\n",
       "\n",
       "    .dataframe thead th {\n",
       "        text-align: right;\n",
       "    }\n",
       "</style>\n",
       "<table border=\"1\" class=\"dataframe\">\n",
       "  <thead>\n",
       "    <tr style=\"text-align: right;\">\n",
       "      <th></th>\n",
       "      <th>Company_Name</th>\n",
       "      <th>Weight</th>\n",
       "    </tr>\n",
       "  </thead>\n",
       "  <tbody>\n",
       "    <tr>\n",
       "      <th>0</th>\n",
       "      <td>BRT APARTMENTS CORP.</td>\n",
       "      <td>0.01724</td>\n",
       "    </tr>\n",
       "    <tr>\n",
       "      <th>1</th>\n",
       "      <td>PUBLIC STORAGE</td>\n",
       "      <td>0.10938</td>\n",
       "    </tr>\n",
       "    <tr>\n",
       "      <th>2</th>\n",
       "      <td>GREAT AJAX CORP.</td>\n",
       "      <td>0.20000</td>\n",
       "    </tr>\n",
       "    <tr>\n",
       "      <th>3</th>\n",
       "      <td>ALEXANDERS INC</td>\n",
       "      <td>0.02285</td>\n",
       "    </tr>\n",
       "    <tr>\n",
       "      <th>4</th>\n",
       "      <td>LADDER CAPITAL CORP</td>\n",
       "      <td>0.04420</td>\n",
       "    </tr>\n",
       "    <tr>\n",
       "      <th>5</th>\n",
       "      <td>CIM COMMERCIAL TRUST CORP</td>\n",
       "      <td>0.05461</td>\n",
       "    </tr>\n",
       "    <tr>\n",
       "      <th>6</th>\n",
       "      <td>ARES COMMERCIAL REAL ESTATE CORP</td>\n",
       "      <td>0.09107</td>\n",
       "    </tr>\n",
       "    <tr>\n",
       "      <th>7</th>\n",
       "      <td>MANHATTAN BRIDGE CAPITAL, INC</td>\n",
       "      <td>0.01483</td>\n",
       "    </tr>\n",
       "    <tr>\n",
       "      <th>8</th>\n",
       "      <td>HMG COURTLAND PROPERTIES INC</td>\n",
       "      <td>0.12513</td>\n",
       "    </tr>\n",
       "    <tr>\n",
       "      <th>9</th>\n",
       "      <td>NEW YORK MORTGAGE TRUST INC</td>\n",
       "      <td>0.02084</td>\n",
       "    </tr>\n",
       "    <tr>\n",
       "      <th>10</th>\n",
       "      <td>EQUITY COMMONWEALTH</td>\n",
       "      <td>0.20000</td>\n",
       "    </tr>\n",
       "    <tr>\n",
       "      <th>11</th>\n",
       "      <td>CROWN CASTLE INTERNATIONAL CORP</td>\n",
       "      <td>0.04875</td>\n",
       "    </tr>\n",
       "    <tr>\n",
       "      <th>12</th>\n",
       "      <td>IMPAC MORTGAGE HOLDINGS INC</td>\n",
       "      <td>0.05108</td>\n",
       "    </tr>\n",
       "  </tbody>\n",
       "</table>\n",
       "</div>"
      ],
      "text/plain": [
       "                        Company_Name   Weight\n",
       "0               BRT APARTMENTS CORP.  0.01724\n",
       "1                     PUBLIC STORAGE  0.10938\n",
       "2                   GREAT AJAX CORP.  0.20000\n",
       "3                     ALEXANDERS INC  0.02285\n",
       "4                LADDER CAPITAL CORP  0.04420\n",
       "5          CIM COMMERCIAL TRUST CORP  0.05461\n",
       "6   ARES COMMERCIAL REAL ESTATE CORP  0.09107\n",
       "7      MANHATTAN BRIDGE CAPITAL, INC  0.01483\n",
       "8       HMG COURTLAND PROPERTIES INC  0.12513\n",
       "9        NEW YORK MORTGAGE TRUST INC  0.02084\n",
       "10               EQUITY COMMONWEALTH  0.20000\n",
       "11   CROWN CASTLE INTERNATIONAL CORP  0.04875\n",
       "12       IMPAC MORTGAGE HOLDINGS INC  0.05108"
      ]
     },
     "execution_count": 27,
     "metadata": {},
     "output_type": "execute_result"
    }
   ],
   "source": [
    "pd.read_csv(\"data/min_vol_sample_Real_Estate_Investment_Trusts.csv\")"
   ]
  },
  {
   "cell_type": "markdown",
   "id": "2969d194",
   "metadata": {},
   "source": [
    "#### State Commercial Banks (commercial banking)"
   ]
  },
  {
   "cell_type": "code",
   "execution_count": 28,
   "id": "d5f19af6",
   "metadata": {
    "tags": [
     "remove-input"
    ]
   },
   "outputs": [
    {
     "data": {
      "image/png": "[encoded data removed]",
      "text/plain": [
       "<Figure size 432x288 with 1 Axes>"
      ]
     },
     "metadata": {
      "needs_background": "light"
     },
     "output_type": "display_data"
    }
   ],
   "source": [
    "SIC = SIC_list[3]\n",
    "    \n",
    "industry_name = SIC_desc[SIC_list.index(SIC)]\n",
    "    \n",
    "# get the names of the companies in the other industries\n",
    "Companies = df[df.SIC == SIC]\n",
    "Company_list = Companies.index\n",
    "\n",
    "# get the companies name that match return data and business description data\n",
    "SET = (set(Company_list) & set(r_selected.index))\n",
    "LIST = [*SET, ]\n",
    "\n",
    "mu_sample = mu[LIST]\n",
    "# get the outliers\n",
    "outlier = mu_sample[mu_sample>1].index\n",
    "mu_sample = mu_sample.drop(outlier)\n",
    "LIST = mu_sample.index\n",
    "\n",
    "tmp = cov[LIST].T\n",
    "cov_sample = tmp[LIST]\n",
    "\n",
    "# perform minimum variance analysis\n",
    "ef1 = EfficientFrontier(mu_sample, cov_sample, weight_bounds=(0, 0.2))\n",
    "\n",
    "fig, ax = plt.subplots()\n",
    "plotting.plot_efficient_frontier(ef1, ax=ax, show_assets=True)\n",
    "\n",
    "# Find and plot the tangency portfolio\n",
    "ef2 = EfficientFrontier(mu_sample, cov_sample, weight_bounds=(0, 0.2))\n",
    "# min volatility\n",
    "ef2.min_volatility()\n",
    "ret_tangent, std_tangent, _ = ef2.portfolio_performance()\n",
    "ax.scatter(std_tangent, ret_tangent, marker=\"*\", s=100, c=\"r\", label=\"Min Volatility\")\n",
    "\n",
    "# Format\n",
    "ax.set_title(\"Efficient Frontier - %s \\n Sample Covariance Estimates\" %industry_name)\n",
    "ax.legend()\n",
    "plt.tight_layout()\n",
    "plt.savefig('images/Efficient_Frontier_Sample_Covariance_Estimates' + str(industry_name) + '.png', dpi=200, bbox_inches='tight')\n",
    "plt.show()"
   ]
  },
  {
   "cell_type": "markdown",
   "id": "16606fec",
   "metadata": {},
   "source": [
    "##### Min Volatility Portfolio"
   ]
  },
  {
   "cell_type": "markdown",
   "id": "514ee9d9",
   "metadata": {},
   "source": [
    "###### Performance"
   ]
  },
  {
   "cell_type": "code",
   "execution_count": 29,
   "id": "20cfa5e9",
   "metadata": {
    "tags": [
     "remove-input"
    ]
   },
   "outputs": [
    {
     "name": "stdout",
     "output_type": "stream",
     "text": [
      "Expected annual return: 1.2%\n",
      "Annual volatility: 2.7%\n",
      "Sharpe Ratio: -0.28\n"
     ]
    }
   ],
   "source": [
    "ef2.portfolio_performance(verbose=True);"
   ]
  },
  {
   "cell_type": "markdown",
   "id": "6f6a25ce",
   "metadata": {},
   "source": [
    "###### Weights"
   ]
  },
  {
   "cell_type": "code",
   "execution_count": 30,
   "id": "4cdfa66e",
   "metadata": {
    "tags": [
     "remove-input"
    ]
   },
   "outputs": [
    {
     "data": {
      "text/html": [
       "<div>\n",
       "<style scoped>\n",
       "    .dataframe tbody tr th:only-of-type {\n",
       "        vertical-align: middle;\n",
       "    }\n",
       "\n",
       "    .dataframe tbody tr th {\n",
       "        vertical-align: top;\n",
       "    }\n",
       "\n",
       "    .dataframe thead th {\n",
       "        text-align: right;\n",
       "    }\n",
       "</style>\n",
       "<table border=\"1\" class=\"dataframe\">\n",
       "  <thead>\n",
       "    <tr style=\"text-align: right;\">\n",
       "      <th></th>\n",
       "      <th>Company_Name</th>\n",
       "      <th>Weight</th>\n",
       "    </tr>\n",
       "  </thead>\n",
       "  <tbody>\n",
       "    <tr>\n",
       "      <th>0</th>\n",
       "      <td>RELIANT BANCORP, INC.</td>\n",
       "      <td>0.12273</td>\n",
       "    </tr>\n",
       "    <tr>\n",
       "      <th>1</th>\n",
       "      <td>CAROLINA TRUST BANCSHARES, INC.</td>\n",
       "      <td>0.11786</td>\n",
       "    </tr>\n",
       "    <tr>\n",
       "      <th>2</th>\n",
       "      <td>INVESTAR HOLDING CORP</td>\n",
       "      <td>0.19440</td>\n",
       "    </tr>\n",
       "    <tr>\n",
       "      <th>3</th>\n",
       "      <td>FIRST COMMUNITY CORP /SC/</td>\n",
       "      <td>0.05076</td>\n",
       "    </tr>\n",
       "    <tr>\n",
       "      <th>4</th>\n",
       "      <td>VILLAGE BANK &amp; TRUST FINANCIAL CORP.</td>\n",
       "      <td>0.13994</td>\n",
       "    </tr>\n",
       "    <tr>\n",
       "      <th>5</th>\n",
       "      <td>BANK OF THE JAMES FINANCIAL GROUP INC</td>\n",
       "      <td>0.00178</td>\n",
       "    </tr>\n",
       "    <tr>\n",
       "      <th>6</th>\n",
       "      <td>CITIZENS &amp; NORTHERN CORP</td>\n",
       "      <td>0.05375</td>\n",
       "    </tr>\n",
       "    <tr>\n",
       "      <th>7</th>\n",
       "      <td>BANK OF NEW YORK MELLON CORP</td>\n",
       "      <td>0.09533</td>\n",
       "    </tr>\n",
       "    <tr>\n",
       "      <th>8</th>\n",
       "      <td>FAUQUIER BANKSHARES, INC.</td>\n",
       "      <td>0.02143</td>\n",
       "    </tr>\n",
       "    <tr>\n",
       "      <th>9</th>\n",
       "      <td>MACKINAC FINANCIAL CORP /MI/</td>\n",
       "      <td>0.02478</td>\n",
       "    </tr>\n",
       "    <tr>\n",
       "      <th>10</th>\n",
       "      <td>GUARANTY FEDERAL BANCSHARES INC</td>\n",
       "      <td>0.17724</td>\n",
       "    </tr>\n",
       "  </tbody>\n",
       "</table>\n",
       "</div>"
      ],
      "text/plain": [
       "                             Company_Name   Weight\n",
       "0                   RELIANT BANCORP, INC.  0.12273\n",
       "1         CAROLINA TRUST BANCSHARES, INC.  0.11786\n",
       "2                   INVESTAR HOLDING CORP  0.19440\n",
       "3               FIRST COMMUNITY CORP /SC/  0.05076\n",
       "4    VILLAGE BANK & TRUST FINANCIAL CORP.  0.13994\n",
       "5   BANK OF THE JAMES FINANCIAL GROUP INC  0.00178\n",
       "6                CITIZENS & NORTHERN CORP  0.05375\n",
       "7            BANK OF NEW YORK MELLON CORP  0.09533\n",
       "8               FAUQUIER BANKSHARES, INC.  0.02143\n",
       "9            MACKINAC FINANCIAL CORP /MI/  0.02478\n",
       "10        GUARANTY FEDERAL BANCSHARES INC  0.17724"
      ]
     },
     "execution_count": 30,
     "metadata": {},
     "output_type": "execute_result"
    }
   ],
   "source": [
    "pd.read_csv(\"data/min_vol_sample_State_Commercial_Banks.csv\")"
   ]
  }
 ],
 "metadata": {
  "celltoolbar": "Edit Metadata",
  "kernelspec": {
   "display_name": "Python 3 (ipykernel)",
   "language": "python",
   "name": "python3"
  },
  "language_info": {
   "codemirror_mode": {
    "name": "ipython",
    "version": 3
   },
   "file_extension": ".py",
   "mimetype": "text/x-python",
   "name": "python",
   "nbconvert_exporter": "python",
   "pygments_lexer": "ipython3",
   "version": "3.9.7"
  }
 },
 "nbformat": 4,
 "nbformat_minor": 5
}

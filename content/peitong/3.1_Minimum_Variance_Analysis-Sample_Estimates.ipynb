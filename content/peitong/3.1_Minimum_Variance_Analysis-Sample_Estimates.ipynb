{
 "cells": [
  {
   "cell_type": "code",
   "execution_count": 1,
   "id": "1bcaa702",
   "metadata": {
    "tags": [
     "remove-input"
    ]
   },
   "outputs": [],
   "source": [
    "import sys\n",
    "sys.path.insert(0, '..')\n",
    "%load_ext autoreload\n",
    "%autoreload 2\n",
    "%aimport std_func\n",
    "\n",
    "# Hide warnings\n",
    "import warnings\n",
    "warnings.filterwarnings(\"ignore\")"
   ]
  },
  {
   "cell_type": "markdown",
   "id": "d9148826",
   "metadata": {},
   "source": [
    "## Estimates from Sample Covariance\n",
    "\n",
    "The portfolios we constructed in this notebook serve as reference to the portfolios using cosine similarity estimates and factor model estimates. Here, we simply use the sample return and sample covariance to generate portfolios for each industry."
   ]
  },
  {
   "cell_type": "code",
   "execution_count": 2,
   "id": "12347323",
   "metadata": {},
   "outputs": [],
   "source": [
    "import pandas as pd\n",
    "import numpy as np\n",
    "import matplotlib.pyplot as plt\n",
    "import seaborn as sns"
   ]
  },
  {
   "cell_type": "markdown",
   "id": "26343f60",
   "metadata": {},
   "source": [
    "### Monthly Returns - Sample Mean & Sample Covariance"
   ]
  },
  {
   "cell_type": "code",
   "execution_count": 3,
   "id": "89f2f46b",
   "metadata": {
    "tags": [
     "hide-input"
    ]
   },
   "outputs": [],
   "source": [
    "r_selected = pd.read_csv(\"data/filtered_r.csv\")\n",
    "# get the mean of all \n",
    "r_selected.set_index(\"name\", inplace = True)\n",
    "mu = r_selected.mean(axis = 1)\n",
    "# compute the covariance matrix \n",
    "cov = r_selected.T.cov()"
   ]
  },
  {
   "cell_type": "markdown",
   "id": "70db3425",
   "metadata": {},
   "source": [
    "### Perform Mean-Variance Analysis\n",
    "We will use one industry per time to generate a minimum-variance portfolio. In our demonstration of mean-variance analysis process, we use the industry `pharmaceutical preparations` whose SIC code is `2834`. At the end, we will show the results for other industries. \n",
    "\n",
    "We first get the name list of `pharmaceutical preparations` companies and match the names with the companies in returns data. Then, we get the sample mean and sample covariance for this specific industry. We get the efficient frontier, the set of optimal portfolios, for the industry; and recognize the minimum-variance portfolio."
   ]
  },
  {
   "cell_type": "code",
   "execution_count": 32,
   "id": "a1bce350",
   "metadata": {
    "scrolled": true,
    "tags": [
     "remove-input",
     "remove-output"
    ]
   },
   "outputs": [],
   "source": [
    "#!pip install dataframe_image"
   ]
  },
  {
   "cell_type": "code",
   "execution_count": 5,
   "id": "585c801a",
   "metadata": {
    "tags": [
     "remove-input",
     "remove-output"
    ]
   },
   "outputs": [
    {
     "name": "stdout",
     "output_type": "stream",
     "text": [
      "Requirement already satisfied: PyPortfolioOpt in /Users/lulu/opt/anaconda3/lib/python3.9/site-packages (1.5.1)\n",
      "Requirement already satisfied: pandas>=0.19 in /Users/lulu/opt/anaconda3/lib/python3.9/site-packages (from PyPortfolioOpt) (1.4.1)\n",
      "Requirement already satisfied: numpy<2.0,>=1.12 in /Users/lulu/opt/anaconda3/lib/python3.9/site-packages (from PyPortfolioOpt) (1.20.3)\n",
      "Requirement already satisfied: scipy<2.0,>=1.3 in /Users/lulu/opt/anaconda3/lib/python3.9/site-packages (from PyPortfolioOpt) (1.7.3)\n",
      "Requirement already satisfied: cvxpy<2.0.0,>=1.1.10 in /Users/lulu/opt/anaconda3/lib/python3.9/site-packages (from PyPortfolioOpt) (1.1.18)\n",
      "Requirement already satisfied: scs>=1.1.6 in /Users/lulu/opt/anaconda3/lib/python3.9/site-packages (from cvxpy<2.0.0,>=1.1.10->PyPortfolioOpt) (3.2.0)\n",
      "Requirement already satisfied: osqp>=0.4.1 in /Users/lulu/opt/anaconda3/lib/python3.9/site-packages (from cvxpy<2.0.0,>=1.1.10->PyPortfolioOpt) (0.6.2.post5)\n",
      "Requirement already satisfied: ecos>=2 in /Users/lulu/opt/anaconda3/lib/python3.9/site-packages (from cvxpy<2.0.0,>=1.1.10->PyPortfolioOpt) (2.0.10)\n",
      "Requirement already satisfied: qdldl in /Users/lulu/opt/anaconda3/lib/python3.9/site-packages (from osqp>=0.4.1->cvxpy<2.0.0,>=1.1.10->PyPortfolioOpt) (0.1.5.post0)\n",
      "Requirement already satisfied: python-dateutil>=2.8.1 in /Users/lulu/opt/anaconda3/lib/python3.9/site-packages (from pandas>=0.19->PyPortfolioOpt) (2.8.2)\n",
      "Requirement already satisfied: pytz>=2020.1 in /Users/lulu/opt/anaconda3/lib/python3.9/site-packages (from pandas>=0.19->PyPortfolioOpt) (2021.3)\n",
      "Requirement already satisfied: six>=1.5 in /Users/lulu/opt/anaconda3/lib/python3.9/site-packages (from python-dateutil>=2.8.1->pandas>=0.19->PyPortfolioOpt) (1.16.0)\n"
     ]
    }
   ],
   "source": [
    "!pip install PyPortfolioOpt"
   ]
  },
  {
   "cell_type": "code",
   "execution_count": 6,
   "id": "f245cf2e",
   "metadata": {
    "tags": [
     "hide-input"
    ]
   },
   "outputs": [],
   "source": [
    "from pypfopt import EfficientFrontier\n",
    "from pypfopt import risk_models\n",
    "from pypfopt import expected_returns\n",
    "from pypfopt import objective_functions\n",
    "from pypfopt import plotting"
   ]
  },
  {
   "cell_type": "code",
   "execution_count": 7,
   "id": "bd7b3ef3",
   "metadata": {
    "tags": [
     "hide-input"
    ]
   },
   "outputs": [],
   "source": [
    "df = pd.read_csv('../data/preprocessed.csv',\n",
    "                 usecols = ['reportingDate', 'name', 'CIK',\n",
    "                           'coDescription_stopwords', 'SIC', 'SIC_desc'])\n",
    "df = df.set_index(df.name)"
   ]
  },
  {
   "cell_type": "code",
   "execution_count": 8,
   "id": "b9f6cdc4",
   "metadata": {
    "tags": [
     "hide-input"
    ]
   },
   "outputs": [],
   "source": [
    "# get the names of the companies in the pharmaceutical preparations industry\n",
    "Pharm = df[df.SIC == 2834]\n",
    "Pharm_list = Pharm.index"
   ]
  },
  {
   "cell_type": "code",
   "execution_count": 9,
   "id": "98c532c4",
   "metadata": {
    "scrolled": true,
    "tags": [
     "hide-input"
    ]
   },
   "outputs": [],
   "source": [
    "# get the companies name that match return data and business description data\n",
    "SET = (set(Pharm_list) & set(r_selected.index))\n",
    "LIST = [*SET, ]"
   ]
  },
  {
   "cell_type": "markdown",
   "id": "270561f4",
   "metadata": {},
   "source": [
    "#### Sample Mean for the Pharmaceutical Preparations Industry"
   ]
  },
  {
   "cell_type": "code",
   "execution_count": 10,
   "id": "7b6da842",
   "metadata": {
    "tags": [
     "hide-input"
    ]
   },
   "outputs": [],
   "source": [
    "mu_Pharm = mu[LIST]"
   ]
  },
  {
   "cell_type": "markdown",
   "id": "c3bcd217",
   "metadata": {},
   "source": [
    "#### Sample Covariance for the Pharmaceutical Preparations Industry"
   ]
  },
  {
   "cell_type": "code",
   "execution_count": 11,
   "id": "8e72a50e",
   "metadata": {
    "tags": [
     "hide-input"
    ]
   },
   "outputs": [],
   "source": [
    "tmp = cov[LIST].T\n",
    "cov_Pharm = tmp[LIST]"
   ]
  },
  {
   "cell_type": "markdown",
   "id": "fc1b6a4c",
   "metadata": {},
   "source": [
    "#### Efficient Frontier - Pharmaceutical Preparations"
   ]
  },
  {
   "cell_type": "code",
   "execution_count": 12,
   "id": "7429ef48",
   "metadata": {
    "tags": [
     "hide-input"
    ]
   },
   "outputs": [
    {
     "data": {
      "image/png": "[encoded data removed]",
      "text/plain": [
       "<Figure size 432x288 with 1 Axes>"
      ]
     },
     "metadata": {
      "needs_background": "light"
     },
     "output_type": "display_data"
    }
   ],
   "source": [
    "ef1 = EfficientFrontier(mu_Pharm, cov_Pharm, weight_bounds=(0, 0.2))\n",
    "\n",
    "fig, ax = plt.subplots()\n",
    "plotting.plot_efficient_frontier(ef1, ax=ax, show_assets=True)\n",
    "\n",
    "# Find and plot the tangency portfolio\n",
    "ef2 = EfficientFrontier(mu_Pharm, cov_Pharm, weight_bounds=(0, 0.2))\n",
    "# min volatility\n",
    "ef2.min_volatility()\n",
    "ret_tangent, std_tangent, _ = ef2.portfolio_performance()\n",
    "ax.scatter(std_tangent, ret_tangent, marker=\"*\", s=100, c=\"r\", label=\"Min Volatility\")\n",
    "\n",
    "# Format\n",
    "ax.set_title(\"Efficient Frontier - Pharmaceutical Preparations \\n Sample Covariance Estimates\")\n",
    "ax.legend()\n",
    "plt.tight_layout()\n",
    "plt.savefig('images/Efficient_Frontier_Returns.png', dpi=200, bbox_inches='tight')\n",
    "plt.show()"
   ]
  },
  {
   "cell_type": "markdown",
   "id": "342e7542",
   "metadata": {},
   "source": [
    "##### Min Volatility Portfolio"
   ]
  },
  {
   "cell_type": "code",
   "execution_count": 13,
   "id": "b34e4df3",
   "metadata": {
    "tags": [
     "hide-input"
    ]
   },
   "outputs": [
    {
     "name": "stdout",
     "output_type": "stream",
     "text": [
      "Expected annual return: 1.2%\n",
      "Annual volatility: 2.1%\n",
      "Sharpe Ratio: -0.35\n"
     ]
    }
   ],
   "source": [
    "ef2.portfolio_performance(verbose=True);"
   ]
  },
  {
   "cell_type": "markdown",
   "id": "e4fccf86",
   "metadata": {},
   "source": [
    "<div>\n",
    "<img src=\"images/min_vol_returns.png\" width=\"300\"/>\n",
    "</div>"
   ]
  },
  {
   "cell_type": "markdown",
   "id": "d1959343",
   "metadata": {},
   "source": [
    "### Results for the Other 4 Industries"
   ]
  },
  {
   "cell_type": "code",
   "execution_count": 14,
   "id": "be7bbb78",
   "metadata": {
    "tags": [
     "remove-input"
    ]
   },
   "outputs": [],
   "source": [
    "SIC_list = [7372, 1311, 6798, 6022]\n",
    "SIC_desc = ['Prepackaged Software (mass reproduction of software)', 'Crude Petroleum and Natural Gas', \n",
    "           'Real Estate Investment Trusts', 'State Commercial Banks (commercial banking)']"
   ]
  },
  {
   "cell_type": "markdown",
   "id": "1dc7e46a",
   "metadata": {},
   "source": [
    "#### Prepackaged Software (mass reproduction of software)"
   ]
  },
  {
   "cell_type": "code",
   "execution_count": 15,
   "id": "f9066d2b",
   "metadata": {
    "tags": [
     "remove-input"
    ]
   },
   "outputs": [
    {
     "data": {
      "image/png": "[encoded data removed]",
      "text/plain": [
       "<Figure size 432x288 with 1 Axes>"
      ]
     },
     "metadata": {
      "needs_background": "light"
     },
     "output_type": "display_data"
    }
   ],
   "source": [
    "SIC = SIC_list[0]\n",
    "    \n",
    "industry_name = SIC_desc[SIC_list.index(SIC)]\n",
    "    \n",
    "# get the names of the companies in the other industries\n",
    "Companies = df[df.SIC == SIC]\n",
    "Company_list = Companies.index\n",
    "\n",
    "# get the companies name that match return data and business description data\n",
    "SET = (set(Company_list) & set(r_selected.index))\n",
    "LIST = [*SET, ]\n",
    "\n",
    "mu_sample = mu[LIST]\n",
    "# get the outliers\n",
    "outlier = mu_sample[mu_sample>1].index\n",
    "mu_sample = mu_sample.drop(outlier)\n",
    "LIST = mu_sample.index\n",
    "\n",
    "tmp = cov[LIST].T\n",
    "cov_sample = tmp[LIST]\n",
    "\n",
    "# perform minimum variance analysis\n",
    "ef1 = EfficientFrontier(mu_sample, cov_sample, weight_bounds=(0, 0.2))\n",
    "\n",
    "fig, ax = plt.subplots()\n",
    "plotting.plot_efficient_frontier(ef1, ax=ax, show_assets=True)\n",
    "\n",
    "# Find and plot the tangency portfolio\n",
    "ef2 = EfficientFrontier(mu_sample, cov_sample, weight_bounds=(0, 0.2))\n",
    "# min volatility\n",
    "ef2.min_volatility()\n",
    "ret_tangent, std_tangent, _ = ef2.portfolio_performance()\n",
    "ax.scatter(std_tangent, ret_tangent, marker=\"*\", s=100, c=\"r\", label=\"Min Volatility\")\n",
    "\n",
    "# Format\n",
    "ax.set_title(\"Efficient Frontier - %s \\n Sample Covariance Estimates\" %industry_name)\n",
    "ax.legend()\n",
    "plt.tight_layout()\n",
    "plt.savefig('images/Efficient_Frontier_Sample_Covariance_Estimates' + str(industry_name) + '.png', dpi=200, bbox_inches='tight')\n",
    "plt.show()"
   ]
  },
  {
   "cell_type": "markdown",
   "id": "32f1139f",
   "metadata": {},
   "source": [
    "##### Min Volatility Portfolio"
   ]
  },
  {
   "cell_type": "code",
   "execution_count": 16,
   "id": "5d45e1d6",
   "metadata": {
    "tags": [
     "remove-input"
    ]
   },
   "outputs": [
    {
     "name": "stdout",
     "output_type": "stream",
     "text": [
      "Expected annual return: 0.6%\n",
      "Annual volatility: 2.4%\n",
      "Sharpe Ratio: -0.57\n"
     ]
    }
   ],
   "source": [
    "ef2.portfolio_performance(verbose=True);"
   ]
  },
  {
   "cell_type": "markdown",
   "id": "0dc30a85",
   "metadata": {},
   "source": [
    "<div>\n",
    "<img src=\"images/min_vol_samplePrepackaged Software (mass reproduction of software).png\" width=\"300\"/>\n",
    "</div>"
   ]
  },
  {
   "cell_type": "markdown",
   "id": "fc5e7a17",
   "metadata": {},
   "source": [
    "#### Crude Petroleum and Natural Gas\n",
    "When we conduct the same analysis, there is no weight shown. Efficient frontier cannot be found."
   ]
  },
  {
   "cell_type": "markdown",
   "id": "b647a7f7",
   "metadata": {},
   "source": [
    "#### Real Estate Investment Trusts"
   ]
  },
  {
   "cell_type": "code",
   "execution_count": 24,
   "id": "2548ca70",
   "metadata": {
    "tags": [
     "remove-input"
    ]
   },
   "outputs": [
    {
     "data": {
      "image/png": "[encoded data removed]",
      "text/plain": [
       "<Figure size 432x288 with 1 Axes>"
      ]
     },
     "metadata": {
      "needs_background": "light"
     },
     "output_type": "display_data"
    }
   ],
   "source": [
    "SIC = SIC_list[2]\n",
    "    \n",
    "industry_name = SIC_desc[SIC_list.index(SIC)]\n",
    "    \n",
    "# get the names of the companies in the other industries\n",
    "Companies = df[df.SIC == SIC]\n",
    "Company_list = Companies.index\n",
    "\n",
    "# get the companies name that match return data and business description data\n",
    "SET = (set(Company_list) & set(r_selected.index))\n",
    "LIST = [*SET, ]\n",
    "\n",
    "mu_sample = mu[LIST]\n",
    "# get the outliers\n",
    "outlier = mu_sample[mu_sample>1].index\n",
    "mu_sample = mu_sample.drop(outlier)\n",
    "LIST = mu_sample.index\n",
    "\n",
    "tmp = cov[LIST].T\n",
    "cov_sample = tmp[LIST]\n",
    "\n",
    "# perform minimum variance analysis\n",
    "ef1 = EfficientFrontier(mu_sample, cov_sample, weight_bounds=(0, 0.2))\n",
    "\n",
    "fig, ax = plt.subplots()\n",
    "plotting.plot_efficient_frontier(ef1, ax=ax, show_assets=True)\n",
    "\n",
    "# Find and plot the tangency portfolio\n",
    "ef2 = EfficientFrontier(mu_sample, cov_sample, weight_bounds=(0, 0.2))\n",
    "# min volatility\n",
    "ef2.min_volatility()\n",
    "ret_tangent, std_tangent, _ = ef2.portfolio_performance()\n",
    "ax.scatter(std_tangent, ret_tangent, marker=\"*\", s=100, c=\"r\", label=\"Min Volatility\")\n",
    "\n",
    "# Format\n",
    "ax.set_title(\"Efficient Frontier - %s \\n Sample Covariance Estimates\" %industry_name)\n",
    "ax.legend()\n",
    "plt.tight_layout()\n",
    "plt.savefig('images/Efficient_Frontier_Sample_Covariance_Estimates' + str(industry_name) + '.png', dpi=200, bbox_inches='tight')\n",
    "plt.show()"
   ]
  },
  {
   "cell_type": "markdown",
   "id": "460672e3",
   "metadata": {},
   "source": [
    "##### Min Volatility Portfolio"
   ]
  },
  {
   "cell_type": "code",
   "execution_count": 25,
   "id": "85ee33ba",
   "metadata": {
    "tags": [
     "remove-input"
    ]
   },
   "outputs": [
    {
     "name": "stdout",
     "output_type": "stream",
     "text": [
      "Expected annual return: 0.5%\n",
      "Annual volatility: 1.8%\n",
      "Sharpe Ratio: -0.80\n"
     ]
    }
   ],
   "source": [
    "ef2.portfolio_performance(verbose=True);"
   ]
  },
  {
   "cell_type": "markdown",
   "id": "53c084c3",
   "metadata": {},
   "source": [
    "<div>\n",
    "<img src=\"images/min_vol_sampleReal Estate Investment Trusts.png\" width=\"300\"/>\n",
    "</div>"
   ]
  },
  {
   "cell_type": "markdown",
   "id": "2969d194",
   "metadata": {},
   "source": [
    "#### State Commercial Banks (commercial banking)"
   ]
  },
  {
   "cell_type": "code",
   "execution_count": 28,
   "id": "d5f19af6",
   "metadata": {
    "tags": [
     "remove-input"
    ]
   },
   "outputs": [
    {
     "data": {
      "image/png": "[encoded data removed]",
      "text/plain": [
       "<Figure size 432x288 with 1 Axes>"
      ]
     },
     "metadata": {
      "needs_background": "light"
     },
     "output_type": "display_data"
    }
   ],
   "source": [
    "SIC = SIC_list[3]\n",
    "    \n",
    "industry_name = SIC_desc[SIC_list.index(SIC)]\n",
    "    \n",
    "# get the names of the companies in the other industries\n",
    "Companies = df[df.SIC == SIC]\n",
    "Company_list = Companies.index\n",
    "\n",
    "# get the companies name that match return data and business description data\n",
    "SET = (set(Company_list) & set(r_selected.index))\n",
    "LIST = [*SET, ]\n",
    "\n",
    "mu_sample = mu[LIST]\n",
    "# get the outliers\n",
    "outlier = mu_sample[mu_sample>1].index\n",
    "mu_sample = mu_sample.drop(outlier)\n",
    "LIST = mu_sample.index\n",
    "\n",
    "tmp = cov[LIST].T\n",
    "cov_sample = tmp[LIST]\n",
    "\n",
    "# perform minimum variance analysis\n",
    "ef1 = EfficientFrontier(mu_sample, cov_sample, weight_bounds=(0, 0.2))\n",
    "\n",
    "fig, ax = plt.subplots()\n",
    "plotting.plot_efficient_frontier(ef1, ax=ax, show_assets=True)\n",
    "\n",
    "# Find and plot the tangency portfolio\n",
    "ef2 = EfficientFrontier(mu_sample, cov_sample, weight_bounds=(0, 0.2))\n",
    "# min volatility\n",
    "ef2.min_volatility()\n",
    "ret_tangent, std_tangent, _ = ef2.portfolio_performance()\n",
    "ax.scatter(std_tangent, ret_tangent, marker=\"*\", s=100, c=\"r\", label=\"Min Volatility\")\n",
    "\n",
    "# Format\n",
    "ax.set_title(\"Efficient Frontier - %s \\n Sample Covariance Estimates\" %industry_name)\n",
    "ax.legend()\n",
    "plt.tight_layout()\n",
    "plt.savefig('images/Efficient_Frontier_Sample_Covariance_Estimates' + str(industry_name) + '.png', dpi=200, bbox_inches='tight')\n",
    "plt.show()"
   ]
  },
  {
   "cell_type": "markdown",
   "id": "16606fec",
   "metadata": {},
   "source": [
    "##### Min Volatility Portfolio"
   ]
  },
  {
   "cell_type": "code",
   "execution_count": 29,
   "id": "20cfa5e9",
   "metadata": {
    "tags": [
     "remove-input"
    ]
   },
   "outputs": [
    {
     "name": "stdout",
     "output_type": "stream",
     "text": [
      "Expected annual return: 1.2%\n",
      "Annual volatility: 2.7%\n",
      "Sharpe Ratio: -0.28\n"
     ]
    }
   ],
   "source": [
    "ef2.portfolio_performance(verbose=True);"
   ]
  },
  {
   "cell_type": "markdown",
   "id": "12dae4db",
   "metadata": {},
   "source": [
    "<div>\n",
    "<img src=\"images/min_vol_sampleState Commercial Banks (commercial banking).png\" width=\"300\"/>\n",
    "</div>"
   ]
  }
 ],
 "metadata": {
  "celltoolbar": "Edit Metadata",
  "kernelspec": {
   "display_name": "Python 3 (ipykernel)",
   "language": "python",
   "name": "python3"
  },
  "language_info": {
   "codemirror_mode": {
    "name": "ipython",
    "version": 3
   },
   "file_extension": ".py",
   "mimetype": "text/x-python",
   "name": "python",
   "nbconvert_exporter": "python",
   "pygments_lexer": "ipython3",
   "version": "3.9.7"
  }
 },
 "nbformat": 4,
 "nbformat_minor": 5
}

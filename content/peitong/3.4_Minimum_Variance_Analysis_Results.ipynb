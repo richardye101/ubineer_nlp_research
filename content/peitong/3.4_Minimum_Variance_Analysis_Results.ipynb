{
 "cells": [
  {
   "cell_type": "code",
   "execution_count": 1,
   "id": "f56f58e7",
   "metadata": {
    "tags": [
     "remove-input"
    ]
   },
   "outputs": [],
   "source": [
    "import pandas as pd"
   ]
  },
  {
   "cell_type": "markdown",
   "id": "5c1c2fe1",
   "metadata": {},
   "source": [
    "## Porfolio Analysis Results\n",
    "In this section, the porfolio weight table for each industry in terms of three kinds of estimates are displayed, and the companies that exist in all three constructed portfolios are hilighted."
   ]
  },
  {
   "cell_type": "markdown",
   "id": "efe61540",
   "metadata": {},
   "source": [
    "### Pharmaceutical Preparations"
   ]
  },
  {
   "cell_type": "code",
   "execution_count": 2,
   "id": "92c12882",
   "metadata": {
    "tags": [
     "remove-input"
    ]
   },
   "outputs": [],
   "source": [
    "sample_pharm = pd.read_csv(\"data/min_vol_sample_Pharmaceutical_Preparations.csv\")\n",
    "cos_sim_pharm = pd.read_csv(\"data/min_vol_cos_sim_Pharmaceutical_Preparations.csv\")\n",
    "factor_model_pharm = pd.read_csv(\"data/min_vol_factor_model_Pharmaceutical_Preparations.csv\")"
   ]
  },
  {
   "cell_type": "code",
   "execution_count": 3,
   "id": "66c727f1",
   "metadata": {
    "tags": [
     "remove-input"
    ]
   },
   "outputs": [],
   "source": [
    "sample_pharm = sample_pharm.sort_values(by=[\"Weight\"], ascending=False).reset_index(drop=True)\n",
    "cos_sim_pharm = cos_sim_pharm.sort_values(by=[\"Weight\"], ascending=False).reset_index(drop=True)\n",
    "factor_model_pharm = factor_model_pharm.sort_values(by=[\"Weight\"], ascending=False).reset_index(drop=True)"
   ]
  },
  {
   "cell_type": "code",
   "execution_count": 4,
   "id": "5520507d",
   "metadata": {
    "tags": [
     "remove-input"
    ]
   },
   "outputs": [
    {
     "ename": "ValueError",
     "evalue": "Length mismatch: Expected axis has 7 elements, new values have 6 elements",
     "output_type": "error",
     "traceback": [
      "\u001b[0;31m---------------------------------------------------------------------------\u001b[0m",
      "\u001b[0;31mValueError\u001b[0m                                Traceback (most recent call last)",
      "\u001b[0;32m/var/folders/6t/0lh6qmkn1zg8fhlp984cpxrr0000gn/T/ipykernel_54771/2780715022.py\u001b[0m in \u001b[0;36m<module>\u001b[0;34m\u001b[0m\n\u001b[1;32m      2\u001b[0m                                       ['Company Name', 'Weight']])\n\u001b[1;32m      3\u001b[0m \u001b[0mpharm\u001b[0m \u001b[0;34m=\u001b[0m \u001b[0mpd\u001b[0m\u001b[0;34m.\u001b[0m\u001b[0mconcat\u001b[0m\u001b[0;34m(\u001b[0m\u001b[0;34m[\u001b[0m\u001b[0mpd\u001b[0m\u001b[0;34m.\u001b[0m\u001b[0mconcat\u001b[0m\u001b[0;34m(\u001b[0m\u001b[0;34m[\u001b[0m\u001b[0msample_pharm\u001b[0m\u001b[0;34m,\u001b[0m \u001b[0mcos_sim_pharm\u001b[0m\u001b[0;34m]\u001b[0m\u001b[0;34m,\u001b[0m \u001b[0maxis\u001b[0m\u001b[0;34m=\u001b[0m\u001b[0;36m1\u001b[0m\u001b[0;34m)\u001b[0m\u001b[0;34m,\u001b[0m \u001b[0mfactor_model_pharm\u001b[0m\u001b[0;34m]\u001b[0m\u001b[0;34m,\u001b[0m \u001b[0maxis\u001b[0m\u001b[0;34m=\u001b[0m\u001b[0;36m1\u001b[0m\u001b[0;34m)\u001b[0m\u001b[0;34m\u001b[0m\u001b[0;34m\u001b[0m\u001b[0m\n\u001b[0;32m----> 4\u001b[0;31m \u001b[0mpharm\u001b[0m\u001b[0;34m.\u001b[0m\u001b[0mcolumns\u001b[0m \u001b[0;34m=\u001b[0m \u001b[0mcolumns\u001b[0m\u001b[0;34m\u001b[0m\u001b[0;34m\u001b[0m\u001b[0m\n\u001b[0m\u001b[1;32m      5\u001b[0m \u001b[0mSame\u001b[0m \u001b[0;34m=\u001b[0m \u001b[0;34m(\u001b[0m\u001b[0mset\u001b[0m\u001b[0;34m(\u001b[0m\u001b[0msample_pharm\u001b[0m\u001b[0;34m.\u001b[0m\u001b[0mCompany_Name\u001b[0m\u001b[0;34m)\u001b[0m \u001b[0;34m&\u001b[0m \u001b[0mset\u001b[0m\u001b[0;34m(\u001b[0m\u001b[0mcos_sim_pharm\u001b[0m\u001b[0;34m.\u001b[0m\u001b[0mCompany_Name\u001b[0m\u001b[0;34m)\u001b[0m\u001b[0;34m)\u001b[0m \u001b[0;34m&\u001b[0m \u001b[0mset\u001b[0m\u001b[0;34m(\u001b[0m\u001b[0mfactor_model_pharm\u001b[0m\u001b[0;34m.\u001b[0m\u001b[0mCompany_Name\u001b[0m\u001b[0;34m)\u001b[0m\u001b[0;34m\u001b[0m\u001b[0;34m\u001b[0m\u001b[0m\n",
      "\u001b[0;32m~/opt/anaconda3/lib/python3.9/site-packages/pandas/core/generic.py\u001b[0m in \u001b[0;36m__setattr__\u001b[0;34m(self, name, value)\u001b[0m\n\u001b[1;32m   5594\u001b[0m         \u001b[0;32mtry\u001b[0m\u001b[0;34m:\u001b[0m\u001b[0;34m\u001b[0m\u001b[0;34m\u001b[0m\u001b[0m\n\u001b[1;32m   5595\u001b[0m             \u001b[0mobject\u001b[0m\u001b[0;34m.\u001b[0m\u001b[0m__getattribute__\u001b[0m\u001b[0;34m(\u001b[0m\u001b[0mself\u001b[0m\u001b[0;34m,\u001b[0m \u001b[0mname\u001b[0m\u001b[0;34m)\u001b[0m\u001b[0;34m\u001b[0m\u001b[0;34m\u001b[0m\u001b[0m\n\u001b[0;32m-> 5596\u001b[0;31m             \u001b[0;32mreturn\u001b[0m \u001b[0mobject\u001b[0m\u001b[0;34m.\u001b[0m\u001b[0m__setattr__\u001b[0m\u001b[0;34m(\u001b[0m\u001b[0mself\u001b[0m\u001b[0;34m,\u001b[0m \u001b[0mname\u001b[0m\u001b[0;34m,\u001b[0m \u001b[0mvalue\u001b[0m\u001b[0;34m)\u001b[0m\u001b[0;34m\u001b[0m\u001b[0;34m\u001b[0m\u001b[0m\n\u001b[0m\u001b[1;32m   5597\u001b[0m         \u001b[0;32mexcept\u001b[0m \u001b[0mAttributeError\u001b[0m\u001b[0;34m:\u001b[0m\u001b[0;34m\u001b[0m\u001b[0;34m\u001b[0m\u001b[0m\n\u001b[1;32m   5598\u001b[0m             \u001b[0;32mpass\u001b[0m\u001b[0;34m\u001b[0m\u001b[0;34m\u001b[0m\u001b[0m\n",
      "\u001b[0;32m~/opt/anaconda3/lib/python3.9/site-packages/pandas/_libs/properties.pyx\u001b[0m in \u001b[0;36mpandas._libs.properties.AxisProperty.__set__\u001b[0;34m()\u001b[0m\n",
      "\u001b[0;32m~/opt/anaconda3/lib/python3.9/site-packages/pandas/core/generic.py\u001b[0m in \u001b[0;36m_set_axis\u001b[0;34m(self, axis, labels)\u001b[0m\n\u001b[1;32m    767\u001b[0m     \u001b[0;32mdef\u001b[0m \u001b[0m_set_axis\u001b[0m\u001b[0;34m(\u001b[0m\u001b[0mself\u001b[0m\u001b[0;34m,\u001b[0m \u001b[0maxis\u001b[0m\u001b[0;34m:\u001b[0m \u001b[0mint\u001b[0m\u001b[0;34m,\u001b[0m \u001b[0mlabels\u001b[0m\u001b[0;34m:\u001b[0m \u001b[0mIndex\u001b[0m\u001b[0;34m)\u001b[0m \u001b[0;34m->\u001b[0m \u001b[0;32mNone\u001b[0m\u001b[0;34m:\u001b[0m\u001b[0;34m\u001b[0m\u001b[0;34m\u001b[0m\u001b[0m\n\u001b[1;32m    768\u001b[0m         \u001b[0mlabels\u001b[0m \u001b[0;34m=\u001b[0m \u001b[0mensure_index\u001b[0m\u001b[0;34m(\u001b[0m\u001b[0mlabels\u001b[0m\u001b[0;34m)\u001b[0m\u001b[0;34m\u001b[0m\u001b[0;34m\u001b[0m\u001b[0m\n\u001b[0;32m--> 769\u001b[0;31m         \u001b[0mself\u001b[0m\u001b[0;34m.\u001b[0m\u001b[0m_mgr\u001b[0m\u001b[0;34m.\u001b[0m\u001b[0mset_axis\u001b[0m\u001b[0;34m(\u001b[0m\u001b[0maxis\u001b[0m\u001b[0;34m,\u001b[0m \u001b[0mlabels\u001b[0m\u001b[0;34m)\u001b[0m\u001b[0;34m\u001b[0m\u001b[0;34m\u001b[0m\u001b[0m\n\u001b[0m\u001b[1;32m    770\u001b[0m         \u001b[0mself\u001b[0m\u001b[0;34m.\u001b[0m\u001b[0m_clear_item_cache\u001b[0m\u001b[0;34m(\u001b[0m\u001b[0;34m)\u001b[0m\u001b[0;34m\u001b[0m\u001b[0;34m\u001b[0m\u001b[0m\n\u001b[1;32m    771\u001b[0m \u001b[0;34m\u001b[0m\u001b[0m\n",
      "\u001b[0;32m~/opt/anaconda3/lib/python3.9/site-packages/pandas/core/internals/managers.py\u001b[0m in \u001b[0;36mset_axis\u001b[0;34m(self, axis, new_labels)\u001b[0m\n\u001b[1;32m    212\u001b[0m     \u001b[0;32mdef\u001b[0m \u001b[0mset_axis\u001b[0m\u001b[0;34m(\u001b[0m\u001b[0mself\u001b[0m\u001b[0;34m,\u001b[0m \u001b[0maxis\u001b[0m\u001b[0;34m:\u001b[0m \u001b[0mint\u001b[0m\u001b[0;34m,\u001b[0m \u001b[0mnew_labels\u001b[0m\u001b[0;34m:\u001b[0m \u001b[0mIndex\u001b[0m\u001b[0;34m)\u001b[0m \u001b[0;34m->\u001b[0m \u001b[0;32mNone\u001b[0m\u001b[0;34m:\u001b[0m\u001b[0;34m\u001b[0m\u001b[0;34m\u001b[0m\u001b[0m\n\u001b[1;32m    213\u001b[0m         \u001b[0;31m# Caller is responsible for ensuring we have an Index object.\u001b[0m\u001b[0;34m\u001b[0m\u001b[0;34m\u001b[0m\u001b[0m\n\u001b[0;32m--> 214\u001b[0;31m         \u001b[0mself\u001b[0m\u001b[0;34m.\u001b[0m\u001b[0m_validate_set_axis\u001b[0m\u001b[0;34m(\u001b[0m\u001b[0maxis\u001b[0m\u001b[0;34m,\u001b[0m \u001b[0mnew_labels\u001b[0m\u001b[0;34m)\u001b[0m\u001b[0;34m\u001b[0m\u001b[0;34m\u001b[0m\u001b[0m\n\u001b[0m\u001b[1;32m    215\u001b[0m         \u001b[0mself\u001b[0m\u001b[0;34m.\u001b[0m\u001b[0maxes\u001b[0m\u001b[0;34m[\u001b[0m\u001b[0maxis\u001b[0m\u001b[0;34m]\u001b[0m \u001b[0;34m=\u001b[0m \u001b[0mnew_labels\u001b[0m\u001b[0;34m\u001b[0m\u001b[0;34m\u001b[0m\u001b[0m\n\u001b[1;32m    216\u001b[0m \u001b[0;34m\u001b[0m\u001b[0m\n",
      "\u001b[0;32m~/opt/anaconda3/lib/python3.9/site-packages/pandas/core/internals/base.py\u001b[0m in \u001b[0;36m_validate_set_axis\u001b[0;34m(self, axis, new_labels)\u001b[0m\n\u001b[1;32m     67\u001b[0m \u001b[0;34m\u001b[0m\u001b[0m\n\u001b[1;32m     68\u001b[0m         \u001b[0;32melif\u001b[0m \u001b[0mnew_len\u001b[0m \u001b[0;34m!=\u001b[0m \u001b[0mold_len\u001b[0m\u001b[0;34m:\u001b[0m\u001b[0;34m\u001b[0m\u001b[0;34m\u001b[0m\u001b[0m\n\u001b[0;32m---> 69\u001b[0;31m             raise ValueError(\n\u001b[0m\u001b[1;32m     70\u001b[0m                 \u001b[0;34mf\"Length mismatch: Expected axis has {old_len} elements, new \"\u001b[0m\u001b[0;34m\u001b[0m\u001b[0;34m\u001b[0m\u001b[0m\n\u001b[1;32m     71\u001b[0m                 \u001b[0;34mf\"values have {new_len} elements\"\u001b[0m\u001b[0;34m\u001b[0m\u001b[0;34m\u001b[0m\u001b[0m\n",
      "\u001b[0;31mValueError\u001b[0m: Length mismatch: Expected axis has 7 elements, new values have 6 elements"
     ]
    }
   ],
   "source": [
    "columns = pd.MultiIndex.from_product([['Sample Estimate', 'Cosine Similarity Estimate', 'Factor Model Estimate'], \n",
    "                                      ['Company Name', 'Weight']])\n",
    "pharm = pd.concat([pd.concat([sample_pharm, cos_sim_pharm], axis=1), factor_model_pharm], axis=1)\n",
    "pharm.columns = columns\n",
    "Same = (set(sample_pharm.Company_Name) & set(cos_sim_pharm.Company_Name)) & set(factor_model_pharm.Company_Name)"
   ]
  },
  {
   "cell_type": "code",
   "execution_count": null,
   "id": "bb2792bf",
   "metadata": {
    "tags": [
     "remove-input"
    ]
   },
   "outputs": [],
   "source": [
    "def highlight(val):\n",
    "    color = 'blue' if val in Same else 'black'\n",
    "    return 'color: %s' % color"
   ]
  },
  {
   "cell_type": "code",
   "execution_count": null,
   "id": "a94170ca",
   "metadata": {
    "tags": [
     "remove-input"
    ]
   },
   "outputs": [],
   "source": [
    "pharm.style.applymap(highlight)"
   ]
  },
  {
   "cell_type": "markdown",
   "id": "34b72271",
   "metadata": {},
   "source": [
    "### Prepackaged Software (mass reproduction of software)"
   ]
  },
  {
   "cell_type": "code",
   "execution_count": null,
   "id": "f97442e9",
   "metadata": {
    "tags": [
     "remove-input"
    ]
   },
   "outputs": [],
   "source": [
    "sample_software = pd.read_csv(\"data/min_vol_sample_Prepackaged_Software.csv\")\n",
    "cos_sim_software = pd.read_csv(\"data/min_vol_cos_sim_Prepackaged_Software.csv\")\n",
    "factor_model_software = pd.read_csv(\"data/min_vol_factor_model_Prepackaged_Software.csv\")"
   ]
  },
  {
   "cell_type": "code",
   "execution_count": null,
   "id": "29c300e2",
   "metadata": {
    "tags": [
     "remove-input"
    ]
   },
   "outputs": [],
   "source": [
    "sample_software = sample_software.sort_values(by=[\"Weight\"], ascending=False).reset_index(drop=True)\n",
    "cos_sim_software = cos_sim_software.sort_values(by=[\"Weight\"], ascending=False).reset_index(drop=True)\n",
    "factor_model_software = factor_model_software.sort_values(by=[\"Weight\"], ascending=False).reset_index(drop=True)"
   ]
  },
  {
   "cell_type": "code",
   "execution_count": null,
   "id": "9abfcf4a",
   "metadata": {
    "tags": [
     "remove-input"
    ]
   },
   "outputs": [],
   "source": [
    "columns = pd.MultiIndex.from_product([['Sample Estimate', 'Cosine Similarity Estimate', 'Factor Model Estimate'], \n",
    "                                      ['Company Name', 'Weight']])\n",
    "software = pd.concat([pd.concat([sample_software, cos_sim_software], axis=1), factor_model_software], axis=1)\n",
    "software.columns = columns\n",
    "Same = (set(sample_software.Company_Name) & set(cos_sim_software.Company_Name)) & set(factor_model_software.Company_Name)"
   ]
  },
  {
   "cell_type": "code",
   "execution_count": null,
   "id": "d0ddf57e",
   "metadata": {
    "tags": [
     "remove-input"
    ]
   },
   "outputs": [],
   "source": [
    "software.style.applymap(highlight)"
   ]
  },
  {
   "cell_type": "markdown",
   "id": "12eae063",
   "metadata": {},
   "source": [
    "### Real Estate Investment Trusts"
   ]
  },
  {
   "cell_type": "code",
   "execution_count": null,
   "id": "a2287201",
   "metadata": {
    "tags": [
     "remove-input"
    ]
   },
   "outputs": [],
   "source": [
    "sample_real_estate = pd.read_csv(\"data/min_vol_sample_Real_Estate_Investment_Trusts.csv\")\n",
    "cos_sim_real_estate = pd.read_csv(\"data/min_vol_cos_sim_Real_Estate_Investment_Trusts.csv\")\n",
    "factor_model_real_estate = pd.read_csv(\"data/min_vol_factor_model_Real_Estate_Investment_Trusts.csv\")"
   ]
  },
  {
   "cell_type": "code",
   "execution_count": null,
   "id": "c531795f",
   "metadata": {
    "tags": [
     "remove-input"
    ]
   },
   "outputs": [],
   "source": [
    "sample_real_estate = sample_real_estate.sort_values(by=[\"Weight\"], ascending=False).reset_index(drop=True)\n",
    "cos_sim_real_estate = cos_sim_real_estate.sort_values(by=[\"Weight\"], ascending=False).reset_index(drop=True)\n",
    "factor_model_real_estate = factor_model_real_estate.sort_values(by=[\"Weight\"], ascending=False).reset_index(drop=True)"
   ]
  },
  {
   "cell_type": "code",
   "execution_count": null,
   "id": "91c5bdf7",
   "metadata": {
    "tags": [
     "remove-input"
    ]
   },
   "outputs": [],
   "source": [
    "columns = pd.MultiIndex.from_product([['Sample Estimate', 'Cosine Similarity Estimate', 'Factor Model Estimate'], \n",
    "                                      ['Company Name', 'Weight']])\n",
    "real_estate = pd.concat([pd.concat([sample_real_estate, cos_sim_real_estate], axis=1), factor_model_real_estate], axis=1)\n",
    "real_estate.columns = columns\n",
    "Same = (set(sample_real_estate.Company_Name) & set(cos_sim_real_estate.Company_Name)) & set(factor_model_real_estate.Company_Name)"
   ]
  },
  {
   "cell_type": "code",
   "execution_count": null,
   "id": "5ea43fb5",
   "metadata": {
    "tags": [
     "remove-input"
    ]
   },
   "outputs": [],
   "source": [
    "real_estate.style.applymap(highlight)"
   ]
  },
  {
   "cell_type": "markdown",
   "id": "0cbc11ff",
   "metadata": {},
   "source": [
    "### State Commercial Banks (commercial banking)"
   ]
  },
  {
   "cell_type": "code",
   "execution_count": null,
   "id": "9b8563f3",
   "metadata": {
    "tags": [
     "remove-input"
    ]
   },
   "outputs": [],
   "source": [
    "sample_banks = pd.read_csv(\"data/min_vol_sample_State_Commercial_Banks.csv\")\n",
    "cos_sim_banks = pd.read_csv(\"data/min_vol_cos_sim_State_Commercial_Banks.csv\")\n",
    "factor_model_banks = pd.read_csv(\"data/min_vol_factor_model_State_Commercial_Banks.csv\")"
   ]
  },
  {
   "cell_type": "code",
   "execution_count": null,
   "id": "35779508",
   "metadata": {
    "tags": [
     "remove-input"
    ]
   },
   "outputs": [],
   "source": [
    "sample_banks = sample_banks.sort_values(by=[\"Weight\"], ascending=False).reset_index(drop=True)\n",
    "cos_sim_banks = cos_sim_banks.sort_values(by=[\"Weight\"], ascending=False).reset_index(drop=True)\n",
    "factor_model_banks = factor_model_banks.sort_values(by=[\"Weight\"], ascending=False).reset_index(drop=True)"
   ]
  },
  {
   "cell_type": "code",
   "execution_count": null,
   "id": "8e2a73f4",
   "metadata": {
    "tags": [
     "remove-input"
    ]
   },
   "outputs": [],
   "source": [
    "columns = pd.MultiIndex.from_product([['Sample Estimate', 'Cosine Similarity Estimate', 'Factor Model Estimate'], \n",
    "                                      ['Company Name', 'Weight']])\n",
    "banks = pd.concat([pd.concat([sample_banks, cos_sim_banks], axis=1), factor_model_banks], axis=1)\n",
    "banks.columns = columns\n",
    "Same = (set(sample_banks.Company_Name) & set(cos_sim_banks.Company_Name)) & set(factor_model_banks.Company_Name)"
   ]
  },
  {
   "cell_type": "code",
   "execution_count": null,
   "id": "bdd30549",
   "metadata": {
    "tags": [
     "remove-input"
    ]
   },
   "outputs": [],
   "source": [
    "banks.style.applymap(highlight)"
   ]
  },
  {
   "cell_type": "markdown",
   "id": "2d610ebf",
   "metadata": {},
   "source": [
    "### Crude Petroleum and Natural Gas\n",
    "Since there is no optimal portfolio generating from cosine similarity estimate or factor model estimate for the Crude Petroleum and Natural Gas industry, we only display the portfolio weights for sample estimate."
   ]
  },
  {
   "cell_type": "code",
   "execution_count": null,
   "id": "2e0cf2f4",
   "metadata": {
    "tags": [
     "remove-input"
    ]
   },
   "outputs": [],
   "source": [
    "sample_crude = pd.read_csv(\"data/min_vol_sample_Crude_Petroleum_and_Natural_Gas.csv\")\n",
    "columns = pd.MultiIndex.from_product([['Sample Estimate'], \n",
    "                                      ['Company Name', 'Weight']])\n",
    "sample_crude.columns = columns\n",
    "sample_crude\n",
    "#cos_sim_crude = pd.read_csv(\"data/min_vol_cos_sim_Crude_Petroleum_and_Natural_Gas.csv\")\n",
    "#factor_model_crude = pd.read_csv(\"data/min_vol_factor_model_Crude_Petroleum_and_Natural_Gas.csv\")"
   ]
  }
 ],
 "metadata": {
  "celltoolbar": "Edit Metadata",
  "kernelspec": {
   "display_name": "Python 3 (ipykernel)",
   "language": "python",
   "name": "python3"
  },
  "language_info": {
   "codemirror_mode": {
    "name": "ipython",
    "version": 3
   },
   "file_extension": ".py",
   "mimetype": "text/x-python",
   "name": "python",
   "nbconvert_exporter": "python",
   "pygments_lexer": "ipython3",
   "version": "3.9.7"
  }
 },
 "nbformat": 4,
 "nbformat_minor": 5
}

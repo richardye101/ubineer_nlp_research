{
 "cells": [
  {
   "cell_type": "markdown",
   "id": "52b38ae6",
   "metadata": {},
   "source": [
    "## Conclusion"
   ]
  },
  {
   "cell_type": "markdown",
   "id": "b20d9f3f",
   "metadata": {},
   "source": [
    "### Discussion"
   ]
  },
  {
   "cell_type": "markdown",
   "id": "5131171d",
   "metadata": {},
   "source": [
    "In this research, we first investigated the description similarity between companies using financial textual data. Several word embedding models are applied, such as TF-IDF, Part-of-Speech(POS) Tagging, Word2Vec, Universal Sentence Encoder and Doc2Vec. We fit these embedding models on the prepocessed textual data and evaluate the models with the 1-nearest-neighbor prediction results. The models give up to 94% for its accuracy of predicting similar companies in terms of SIC categories.\n",
    "\n",
    "\n",
    "Then, we explore topic modeling on the business description of companies to investigate the possibility of extracting topics that reveal specific industry information. In this section, we applied a variety of topic modeling techniques, for instance, Latent Dirichlet Allocation, Non-Negative Matrix Factorization, and Latent Semantic Analysis. The interpretaion of the topics are manully done. We then take a deeper look into a group of companies that have changed in business direction in the past ten years. Significant changes can be revealed but the increase in one topic does not necessarily represent the change of one company's direction change. \n",
    "\n",
    "\n",
    "After the investigation on description similarity and topic modeling, we want to examine the practicability of constructing similar portfolios using the document embedding of companies' business description textual data. Mean-variance analysis is applied and we choose minimum-variance portfolios based on three estimates - sample covariance, cosine similarity, factor model. In factor model, we use Sent-LDA for topic modeling and identify 12 topics. The results are not ideal. Cosine similarity estimated portfolios have more similar selection compared with factor model estimated portfolios for all industies. However, the overall feasibility of similar portfolio generation is low."
   ]
  },
  {
   "cell_type": "markdown",
   "id": "6051038b",
   "metadata": {},
   "source": [
    "### Future Work"
   ]
  },
  {
   "cell_type": "markdown",
   "id": "8ec05004",
   "metadata": {},
   "source": [
    "In the future, we will extend our work on topic modeling and portfolio analysis. Moreover, this research focuses on business description of the top 5 SIC companies, we plan to apply the same word embedding, topic modeling and portfolio analysis on risk disclosure section in the financial filings. \n",
    "\n",
    "For topic modeling, we plan to investigate more into the increase and decrese in topic weights for companies. These changes may reveal certain hidden information beforehand. \n",
    "\n",
    "We will apply different topic modeling techniques on risk disclosure and identify the informative risk factors to further construct portfolios."
   ]
  }
 ],
 "metadata": {
  "kernelspec": {
   "display_name": "Python 3 (ipykernel)",
   "language": "python",
   "name": "python3"
  },
  "language_info": {
   "codemirror_mode": {
    "name": "ipython",
    "version": 3
   },
   "file_extension": ".py",
   "mimetype": "text/x-python",
   "name": "python",
   "nbconvert_exporter": "python",
   "pygments_lexer": "ipython3",
   "version": "3.9.7"
  }
 },
 "nbformat": 4,
 "nbformat_minor": 5
}

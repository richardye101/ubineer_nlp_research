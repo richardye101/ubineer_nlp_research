{
 "cells": [
  {
   "cell_type": "code",
   "execution_count": 1,
   "id": "1bcaa702",
   "metadata": {
    "tags": [
     "remove-input"
    ]
   },
   "outputs": [],
   "source": [
    "import sys\n",
    "sys.path.insert(0, '..')\n",
    "%load_ext autoreload\n",
    "%autoreload 2\n",
    "%aimport std_func\n",
    "\n",
    "# Hide warnings\n",
    "import warnings\n",
    "warnings.filterwarnings(\"ignore\")"
   ]
  },
  {
   "cell_type": "code",
   "execution_count": 2,
   "id": "ac5e5cb6",
   "metadata": {
    "tags": [
     "hide-input"
    ]
   },
   "outputs": [],
   "source": [
    "import numpy as np\n",
    "import pandas as pd\n",
    "import matplotlib.pyplot as plt\n",
    "import re\n",
    "import json\n",
    "import string\n",
    "import nltk\n",
    "from nltk.corpus import wordnet\n",
    "from nltk.stem import WordNetLemmatizer \n",
    "from nltk.tokenize import word_tokenize\n",
    "from nltk.corpus import stopwords"
   ]
  },
  {
   "cell_type": "markdown",
   "id": "d9148826",
   "metadata": {},
   "source": [
    "## Estimates from Factor Model"
   ]
  },
  {
   "cell_type": "code",
   "execution_count": 3,
   "id": "233c60c5",
   "metadata": {
    "tags": [
     "hide-input"
    ]
   },
   "outputs": [],
   "source": [
    "r_selected = pd.read_csv(\"data/filtered_r.csv\")\n",
    "# get the mean of all \n",
    "r_selected.set_index(\"name\", inplace = True)\n",
    "mu = r_selected.mean(axis = 1)\n",
    "# compute the covariance matrix \n",
    "cov = r_selected.T.cov()"
   ]
  },
  {
   "cell_type": "code",
   "execution_count": 4,
   "id": "2a2e6bf6",
   "metadata": {
    "tags": [
     "hide-input"
    ]
   },
   "outputs": [],
   "source": [
    "df = pd.read_csv('../data/preprocessed.csv',\n",
    "                 usecols = ['reportingDate', 'name', 'CIK', 'coDescription',\n",
    "                           'coDescription_stopwords', 'SIC', 'SIC_desc'])\n",
    "df = df.set_index(df.name)"
   ]
  },
  {
   "cell_type": "markdown",
   "id": "6e0ba18e",
   "metadata": {},
   "source": [
    "### Sent-LDA\n",
    "We ran the coherence score benchmarking over a range of 3 to 40 topics, incrementing by 3. First, we fit the LDA model to all business description using the number of topics selected from coherence score benchmarking. Then, we assume each sentence only represents one topic; get the frequency of the topics revealed in the whole document (business description for one company) and calculate the probability of each topics in the whole document. "
   ]
  },
  {
   "cell_type": "code",
   "execution_count": 5,
   "id": "3133d091",
   "metadata": {
    "tags": [
     "hide-input"
    ]
   },
   "outputs": [],
   "source": [
    "data = df.loc[:,\"coDescription_stopwords\"].to_list()"
   ]
  },
  {
   "cell_type": "code",
   "execution_count": 6,
   "id": "eaec5e63",
   "metadata": {
    "tags": [
     "remove-input"
    ]
   },
   "outputs": [],
   "source": [
    "def get_topics(model, vectorizer, num_topics):\n",
    "    \n",
    "    #the word ids obtained need to be reverse-mapped to the words so we can print the topic names.\n",
    "    feat_names = vectorizer.get_feature_names_out()\n",
    "    \n",
    "    word_dict = {};\n",
    "    for i in range(num_topics):\n",
    "        \n",
    "        #for each topic, obtain the largest values, and add the words they map to into the dictionary.\n",
    "        words_ids = model.components_[i].argsort()[:-10 - 1:-1]\n",
    "        words = [feat_names[key] for key in words_ids]\n",
    "        word_dict['Topic # ' + '{:02d}'.format(i+1)] = words;\n",
    "    \n",
    "    return pd.DataFrame(word_dict);"
   ]
  },
  {
   "cell_type": "code",
   "execution_count": 7,
   "id": "9701604e",
   "metadata": {
    "tags": [
     "remove-input"
    ]
   },
   "outputs": [],
   "source": [
    "from gensim.corpora import Dictionary\n",
    "from gensim.models import CoherenceModel, LdaModel, TfidfModel\n",
    "\n",
    "dictionary = Dictionary(doc.split() for doc in data)\n",
    " # filter out too in/frequent tokens\n",
    "dictionary.filter_extremes(no_below=0.01, no_above=0.85, keep_n = 5000)\n",
    "\n",
    "corpus = [dictionary.doc2bow(doc.split()) for doc in data]\n",
    "# create list of topic number we want to try \n",
    "topic_nums = list(np.arange(3, 40,3))\n",
    "\n",
    "coherence_scores = []\n",
    "for num in topic_nums:\n",
    "    lda = LdaModel(corpus=corpus,\n",
    "    num_topics=num,\n",
    "    id2word=dictionary,\n",
    "    passes=5,\n",
    "    eval_every=10,\n",
    "    minimum_probability=0.01,\n",
    "    random_state=0)\n",
    "    \n",
    "    \n",
    "    cm = CoherenceModel(\n",
    "    model=lda,\n",
    "    texts=[doc.split() for doc in data],\n",
    "    dictionary=dictionary,\n",
    "    coherence=\"c_v\")\n",
    "\n",
    "    coherence_scores.append(round(cm.get_coherence(),5))"
   ]
  },
  {
   "cell_type": "code",
   "execution_count": 13,
   "id": "97a1b5c7",
   "metadata": {
    "tags": [
     "remove-input"
    ]
   },
   "outputs": [
    {
     "data": {
      "image/png": "[encoded data removed]",
      "text/plain": [
       "<Figure size 432x288 with 1 Axes>"
      ]
     },
     "metadata": {
      "needs_background": "light"
     },
     "output_type": "display_data"
    }
   ],
   "source": [
    "scores = list(zip(topic_nums, coherence_scores))\n",
    "plt.plot(topic_nums, coherence_scores)\n",
    "plt.xticks(np.arange(3, 40,2))\n",
    "plt.ylabel('Coherence Score')\n",
    "plt.xlabel('Topic Num')\n",
    "plt.title(\"Coherence Score by Topic Number\")\n",
    "plt.savefig('images/Factor_Model_Coherence_Score.png', dpi=200, bbox_inches='tight')\n",
    "plt.show()"
   ]
  },
  {
   "cell_type": "markdown",
   "id": "9f9198b5",
   "metadata": {},
   "source": [
    "Based on the above Coherence Score, we choose up to 12 topics since it gives the highest score up to here."
   ]
  },
  {
   "cell_type": "code",
   "execution_count": 9,
   "id": "77cd54c9",
   "metadata": {
    "tags": [
     "hide-input"
    ]
   },
   "outputs": [],
   "source": [
    "from sklearn.feature_extraction.text import CountVectorizer\n",
    "from sklearn.decomposition import LatentDirichletAllocation\n",
    "\n",
    "# LDA can only use raw term counts for LDA because it is a probabilistic graphical model\n",
    "tf_vectorizer = CountVectorizer(max_df=0.85, min_df=2, max_features=600)\n",
    "tf = tf_vectorizer.fit_transform(data)\n",
    "tf_feature_names = tf_vectorizer.get_feature_names_out()\n",
    "lda = LatentDirichletAllocation(n_components=12, random_state=0).fit(tf)"
   ]
  },
  {
   "cell_type": "markdown",
   "id": "6fc40c63",
   "metadata": {},
   "source": [
    "We show the top 10 words by weights in the 12 topics LDA model generates in the below table."
   ]
  },
  {
   "cell_type": "code",
   "execution_count": 10,
   "id": "2fb7fd95",
   "metadata": {
    "tags": [
     "hide-input"
    ]
   },
   "outputs": [
    {
     "data": {
      "text/html": [
       "<div>\n",
       "<style scoped>\n",
       "    .dataframe tbody tr th:only-of-type {\n",
       "        vertical-align: middle;\n",
       "    }\n",
       "\n",
       "    .dataframe tbody tr th {\n",
       "        vertical-align: top;\n",
       "    }\n",
       "\n",
       "    .dataframe thead th {\n",
       "        text-align: right;\n",
       "    }\n",
       "</style>\n",
       "<table border=\"1\" class=\"dataframe\">\n",
       "  <thead>\n",
       "    <tr style=\"text-align: right;\">\n",
       "      <th></th>\n",
       "      <th>Topic # 01</th>\n",
       "      <th>Topic # 02</th>\n",
       "      <th>Topic # 03</th>\n",
       "      <th>Topic # 04</th>\n",
       "      <th>Topic # 05</th>\n",
       "      <th>Topic # 06</th>\n",
       "      <th>Topic # 07</th>\n",
       "      <th>Topic # 08</th>\n",
       "      <th>Topic # 09</th>\n",
       "      <th>Topic # 10</th>\n",
       "      <th>Topic # 11</th>\n",
       "      <th>Topic # 12</th>\n",
       "    </tr>\n",
       "  </thead>\n",
       "  <tbody>\n",
       "    <tr>\n",
       "      <th>0</th>\n",
       "      <td>could</td>\n",
       "      <td>loan</td>\n",
       "      <td>share</td>\n",
       "      <td>product</td>\n",
       "      <td>investment</td>\n",
       "      <td>gas</td>\n",
       "      <td>hotel</td>\n",
       "      <td>patient</td>\n",
       "      <td>bank</td>\n",
       "      <td>customer</td>\n",
       "      <td>million</td>\n",
       "      <td>cell</td>\n",
       "    </tr>\n",
       "    <tr>\n",
       "      <th>1</th>\n",
       "      <td>gas</td>\n",
       "      <td>mortgage</td>\n",
       "      <td>stock</td>\n",
       "      <td>drug</td>\n",
       "      <td>income</td>\n",
       "      <td>oil</td>\n",
       "      <td>facility</td>\n",
       "      <td>treatment</td>\n",
       "      <td>capital</td>\n",
       "      <td>service</td>\n",
       "      <td>tax</td>\n",
       "      <td>cancer</td>\n",
       "    </tr>\n",
       "    <tr>\n",
       "      <th>2</th>\n",
       "      <td>regulation</td>\n",
       "      <td>real</td>\n",
       "      <td>note</td>\n",
       "      <td>fda</td>\n",
       "      <td>asset</td>\n",
       "      <td>natural</td>\n",
       "      <td>tenant</td>\n",
       "      <td>trial</td>\n",
       "      <td>institution</td>\n",
       "      <td>data</td>\n",
       "      <td>asset</td>\n",
       "      <td>tumor</td>\n",
       "    </tr>\n",
       "    <tr>\n",
       "      <th>3</th>\n",
       "      <td>oil</td>\n",
       "      <td>estate</td>\n",
       "      <td>issued</td>\n",
       "      <td>clinical</td>\n",
       "      <td>reit</td>\n",
       "      <td>production</td>\n",
       "      <td>lease</td>\n",
       "      <td>study</td>\n",
       "      <td>federal</td>\n",
       "      <td>product</td>\n",
       "      <td>net</td>\n",
       "      <td>product</td>\n",
       "    </tr>\n",
       "    <tr>\n",
       "      <th>4</th>\n",
       "      <td>future</td>\n",
       "      <td>commercial</td>\n",
       "      <td>preferred</td>\n",
       "      <td>patent</td>\n",
       "      <td>real</td>\n",
       "      <td>reserve</td>\n",
       "      <td>operating</td>\n",
       "      <td>phase</td>\n",
       "      <td>act</td>\n",
       "      <td>solution</td>\n",
       "      <td>income</td>\n",
       "      <td>therapy</td>\n",
       "    </tr>\n",
       "    <tr>\n",
       "      <th>5</th>\n",
       "      <td>natural</td>\n",
       "      <td>bank</td>\n",
       "      <td>date</td>\n",
       "      <td>approval</td>\n",
       "      <td>tax</td>\n",
       "      <td>proved</td>\n",
       "      <td>estate</td>\n",
       "      <td>clinical</td>\n",
       "      <td>banking</td>\n",
       "      <td>software</td>\n",
       "      <td>cash</td>\n",
       "      <td>therapeutic</td>\n",
       "    </tr>\n",
       "    <tr>\n",
       "      <th>6</th>\n",
       "      <td>price</td>\n",
       "      <td>interest</td>\n",
       "      <td>amount</td>\n",
       "      <td>trial</td>\n",
       "      <td>share</td>\n",
       "      <td>drilling</td>\n",
       "      <td>million</td>\n",
       "      <td>disease</td>\n",
       "      <td>holding</td>\n",
       "      <td>platform</td>\n",
       "      <td>expense</td>\n",
       "      <td>clinical</td>\n",
       "    </tr>\n",
       "    <tr>\n",
       "      <th>7</th>\n",
       "      <td>affect</td>\n",
       "      <td>rate</td>\n",
       "      <td>september</td>\n",
       "      <td>application</td>\n",
       "      <td>interest</td>\n",
       "      <td>regulation</td>\n",
       "      <td>real</td>\n",
       "      <td>drug</td>\n",
       "      <td>regulation</td>\n",
       "      <td>technology</td>\n",
       "      <td>value</td>\n",
       "      <td>technology</td>\n",
       "    </tr>\n",
       "    <tr>\n",
       "      <th>8</th>\n",
       "      <td>ability</td>\n",
       "      <td>million</td>\n",
       "      <td>per</td>\n",
       "      <td>regulatory</td>\n",
       "      <td>distribution</td>\n",
       "      <td>net</td>\n",
       "      <td>center</td>\n",
       "      <td>therapy</td>\n",
       "      <td>deposit</td>\n",
       "      <td>application</td>\n",
       "      <td>note</td>\n",
       "      <td>research</td>\n",
       "    </tr>\n",
       "    <tr>\n",
       "      <th>9</th>\n",
       "      <td>adversely</td>\n",
       "      <td>security</td>\n",
       "      <td>director</td>\n",
       "      <td>candidate</td>\n",
       "      <td>estate</td>\n",
       "      <td>water</td>\n",
       "      <td>portfolio</td>\n",
       "      <td>data</td>\n",
       "      <td>asset</td>\n",
       "      <td>sale</td>\n",
       "      <td>statement</td>\n",
       "      <td>license</td>\n",
       "    </tr>\n",
       "  </tbody>\n",
       "</table>\n",
       "</div>"
      ],
      "text/plain": [
       "   Topic # 01  Topic # 02 Topic # 03   Topic # 04    Topic # 05  Topic # 06  \\\n",
       "0       could        loan      share      product    investment         gas   \n",
       "1         gas    mortgage      stock         drug        income         oil   \n",
       "2  regulation        real       note          fda         asset     natural   \n",
       "3         oil      estate     issued     clinical          reit  production   \n",
       "4      future  commercial  preferred       patent          real     reserve   \n",
       "5     natural        bank       date     approval           tax      proved   \n",
       "6       price    interest     amount        trial         share    drilling   \n",
       "7      affect        rate  september  application      interest  regulation   \n",
       "8     ability     million        per   regulatory  distribution         net   \n",
       "9   adversely    security   director    candidate        estate       water   \n",
       "\n",
       "  Topic # 07 Topic # 08   Topic # 09   Topic # 10 Topic # 11   Topic # 12  \n",
       "0      hotel    patient         bank     customer    million         cell  \n",
       "1   facility  treatment      capital      service        tax       cancer  \n",
       "2     tenant      trial  institution         data      asset        tumor  \n",
       "3      lease      study      federal      product        net      product  \n",
       "4  operating      phase          act     solution     income      therapy  \n",
       "5     estate   clinical      banking     software       cash  therapeutic  \n",
       "6    million    disease      holding     platform    expense     clinical  \n",
       "7       real       drug   regulation   technology      value   technology  \n",
       "8     center    therapy      deposit  application       note     research  \n",
       "9  portfolio       data        asset         sale  statement      license  "
      ]
     },
     "execution_count": 10,
     "metadata": {},
     "output_type": "execute_result"
    }
   ],
   "source": [
    "get_topics(lda, tf_vectorizer, 12)"
   ]
  },
  {
   "cell_type": "markdown",
   "id": "0fb5217a",
   "metadata": {},
   "source": [
    "#### Assign Frequency of the topic to each sentence"
   ]
  },
  {
   "cell_type": "code",
   "execution_count": 11,
   "id": "4d9b9361",
   "metadata": {
    "tags": [
     "hide-input"
    ]
   },
   "outputs": [],
   "source": [
    "n_components = 12\n",
    "prob = pd.DataFrame(0, index = df.name, columns = range(n_components))"
   ]
  },
  {
   "cell_type": "code",
   "execution_count": 12,
   "id": "0d398240",
   "metadata": {
    "tags": [
     "hide-input"
    ]
   },
   "outputs": [
    {
     "ename": "KeyboardInterrupt",
     "evalue": "",
     "output_type": "error",
     "traceback": [
      "\u001b[0;31m---------------------------------------------------------------------------\u001b[0m",
      "\u001b[0;31mKeyboardInterrupt\u001b[0m                         Traceback (most recent call last)",
      "\u001b[0;32m/var/folders/6t/0lh6qmkn1zg8fhlp984cpxrr0000gn/T/ipykernel_51727/444709404.py\u001b[0m in \u001b[0;36m<module>\u001b[0;34m\u001b[0m\n\u001b[1;32m      1\u001b[0m \u001b[0;32mfor\u001b[0m \u001b[0mj\u001b[0m \u001b[0;32min\u001b[0m \u001b[0mrange\u001b[0m\u001b[0;34m(\u001b[0m\u001b[0mlen\u001b[0m\u001b[0;34m(\u001b[0m\u001b[0mdf\u001b[0m\u001b[0;34m)\u001b[0m\u001b[0;34m)\u001b[0m\u001b[0;34m:\u001b[0m\u001b[0;34m\u001b[0m\u001b[0;34m\u001b[0m\u001b[0m\n\u001b[0;32m----> 2\u001b[0;31m     \u001b[0mLIST_sent\u001b[0m \u001b[0;34m=\u001b[0m \u001b[0mpd\u001b[0m\u001b[0;34m.\u001b[0m\u001b[0mSeries\u001b[0m\u001b[0;34m(\u001b[0m\u001b[0mdf\u001b[0m\u001b[0;34m.\u001b[0m\u001b[0mcoDescription\u001b[0m\u001b[0;34m[\u001b[0m\u001b[0mj\u001b[0m\u001b[0;34m]\u001b[0m\u001b[0;34m.\u001b[0m\u001b[0msplit\u001b[0m\u001b[0;34m(\u001b[0m\u001b[0;34m'.'\u001b[0m\u001b[0;34m)\u001b[0m\u001b[0;34m)\u001b[0m\u001b[0;34m.\u001b[0m\u001b[0mapply\u001b[0m\u001b[0;34m(\u001b[0m\u001b[0mstd_func\u001b[0m\u001b[0;34m.\u001b[0m\u001b[0mlemmatize_sentence\u001b[0m\u001b[0;34m)\u001b[0m\u001b[0;34m.\u001b[0m\u001b[0mapply\u001b[0m\u001b[0;34m(\u001b[0m\u001b[0mstd_func\u001b[0m\u001b[0;34m.\u001b[0m\u001b[0mremove_nums\u001b[0m\u001b[0;34m)\u001b[0m\u001b[0;34m.\u001b[0m\u001b[0mapply\u001b[0m\u001b[0;34m(\u001b[0m\u001b[0mstd_func\u001b[0m\u001b[0;34m.\u001b[0m\u001b[0mremove_stopwords\u001b[0m\u001b[0;34m)\u001b[0m\u001b[0;34m\u001b[0m\u001b[0;34m\u001b[0m\u001b[0m\n\u001b[0m\u001b[1;32m      3\u001b[0m \u001b[0;34m\u001b[0m\u001b[0m\n\u001b[1;32m      4\u001b[0m     \u001b[0mX\u001b[0m \u001b[0;34m=\u001b[0m \u001b[0mtf_vectorizer\u001b[0m\u001b[0;34m.\u001b[0m\u001b[0mtransform\u001b[0m\u001b[0;34m(\u001b[0m\u001b[0mLIST_sent\u001b[0m\u001b[0;34m.\u001b[0m\u001b[0mtolist\u001b[0m\u001b[0;34m(\u001b[0m\u001b[0;34m)\u001b[0m\u001b[0;34m)\u001b[0m\u001b[0;34m\u001b[0m\u001b[0;34m\u001b[0m\u001b[0m\n\u001b[1;32m      5\u001b[0m     \u001b[0msent\u001b[0m \u001b[0;34m=\u001b[0m \u001b[0mlda\u001b[0m\u001b[0;34m.\u001b[0m\u001b[0mtransform\u001b[0m\u001b[0;34m(\u001b[0m\u001b[0mX\u001b[0m\u001b[0;34m)\u001b[0m\u001b[0;34m\u001b[0m\u001b[0;34m\u001b[0m\u001b[0m\n",
      "\u001b[0;32m~/opt/anaconda3/lib/python3.9/site-packages/pandas/core/series.py\u001b[0m in \u001b[0;36mapply\u001b[0;34m(self, func, convert_dtype, args, **kwargs)\u001b[0m\n\u001b[1;32m   4431\u001b[0m         \u001b[0mdtype\u001b[0m\u001b[0;34m:\u001b[0m \u001b[0mfloat64\u001b[0m\u001b[0;34m\u001b[0m\u001b[0;34m\u001b[0m\u001b[0m\n\u001b[1;32m   4432\u001b[0m         \"\"\"\n\u001b[0;32m-> 4433\u001b[0;31m         \u001b[0;32mreturn\u001b[0m \u001b[0mSeriesApply\u001b[0m\u001b[0;34m(\u001b[0m\u001b[0mself\u001b[0m\u001b[0;34m,\u001b[0m \u001b[0mfunc\u001b[0m\u001b[0;34m,\u001b[0m \u001b[0mconvert_dtype\u001b[0m\u001b[0;34m,\u001b[0m \u001b[0margs\u001b[0m\u001b[0;34m,\u001b[0m \u001b[0mkwargs\u001b[0m\u001b[0;34m)\u001b[0m\u001b[0;34m.\u001b[0m\u001b[0mapply\u001b[0m\u001b[0;34m(\u001b[0m\u001b[0;34m)\u001b[0m\u001b[0;34m\u001b[0m\u001b[0;34m\u001b[0m\u001b[0m\n\u001b[0m\u001b[1;32m   4434\u001b[0m \u001b[0;34m\u001b[0m\u001b[0m\n\u001b[1;32m   4435\u001b[0m     def _reduce(\n",
      "\u001b[0;32m~/opt/anaconda3/lib/python3.9/site-packages/pandas/core/apply.py\u001b[0m in \u001b[0;36mapply\u001b[0;34m(self)\u001b[0m\n\u001b[1;32m   1080\u001b[0m             \u001b[0;32mreturn\u001b[0m \u001b[0mself\u001b[0m\u001b[0;34m.\u001b[0m\u001b[0mapply_str\u001b[0m\u001b[0;34m(\u001b[0m\u001b[0;34m)\u001b[0m\u001b[0;34m\u001b[0m\u001b[0;34m\u001b[0m\u001b[0m\n\u001b[1;32m   1081\u001b[0m \u001b[0;34m\u001b[0m\u001b[0m\n\u001b[0;32m-> 1082\u001b[0;31m         \u001b[0;32mreturn\u001b[0m \u001b[0mself\u001b[0m\u001b[0;34m.\u001b[0m\u001b[0mapply_standard\u001b[0m\u001b[0;34m(\u001b[0m\u001b[0;34m)\u001b[0m\u001b[0;34m\u001b[0m\u001b[0;34m\u001b[0m\u001b[0m\n\u001b[0m\u001b[1;32m   1083\u001b[0m \u001b[0;34m\u001b[0m\u001b[0m\n\u001b[1;32m   1084\u001b[0m     \u001b[0;32mdef\u001b[0m \u001b[0magg\u001b[0m\u001b[0;34m(\u001b[0m\u001b[0mself\u001b[0m\u001b[0;34m)\u001b[0m\u001b[0;34m:\u001b[0m\u001b[0;34m\u001b[0m\u001b[0;34m\u001b[0m\u001b[0m\n",
      "\u001b[0;32m~/opt/anaconda3/lib/python3.9/site-packages/pandas/core/apply.py\u001b[0m in \u001b[0;36mapply_standard\u001b[0;34m(self)\u001b[0m\n\u001b[1;32m   1135\u001b[0m                 \u001b[0;31m# List[Union[Callable[..., Any], str]]]]]\"; expected\u001b[0m\u001b[0;34m\u001b[0m\u001b[0;34m\u001b[0m\u001b[0m\n\u001b[1;32m   1136\u001b[0m                 \u001b[0;31m# \"Callable[[Any], Any]\"\u001b[0m\u001b[0;34m\u001b[0m\u001b[0;34m\u001b[0m\u001b[0m\n\u001b[0;32m-> 1137\u001b[0;31m                 mapped = lib.map_infer(\n\u001b[0m\u001b[1;32m   1138\u001b[0m                     \u001b[0mvalues\u001b[0m\u001b[0;34m,\u001b[0m\u001b[0;34m\u001b[0m\u001b[0;34m\u001b[0m\u001b[0m\n\u001b[1;32m   1139\u001b[0m                     \u001b[0mf\u001b[0m\u001b[0;34m,\u001b[0m  \u001b[0;31m# type: ignore[arg-type]\u001b[0m\u001b[0;34m\u001b[0m\u001b[0;34m\u001b[0m\u001b[0m\n",
      "\u001b[0;32m~/opt/anaconda3/lib/python3.9/site-packages/pandas/_libs/lib.pyx\u001b[0m in \u001b[0;36mpandas._libs.lib.map_infer\u001b[0;34m()\u001b[0m\n",
      "\u001b[0;32m~/Desktop/ubineer_nlp_research/content/peitong/../std_func.py\u001b[0m in \u001b[0;36mlemmatize_sentence\u001b[0;34m(sentence)\u001b[0m\n\u001b[1;32m    120\u001b[0m     \u001b[0;31m#lemmatization\u001b[0m\u001b[0;34m\u001b[0m\u001b[0;34m\u001b[0m\u001b[0m\n\u001b[1;32m    121\u001b[0m     \u001b[0mlemmatizer\u001b[0m \u001b[0;34m=\u001b[0m \u001b[0mWordNetLemmatizer\u001b[0m\u001b[0;34m(\u001b[0m\u001b[0;34m)\u001b[0m\u001b[0;34m\u001b[0m\u001b[0;34m\u001b[0m\u001b[0m\n\u001b[0;32m--> 122\u001b[0;31m     \u001b[0mlemmatized_output\u001b[0m \u001b[0;34m=\u001b[0m \u001b[0;34m[\u001b[0m\u001b[0mlemmatizer\u001b[0m\u001b[0;34m.\u001b[0m\u001b[0mlemmatize\u001b[0m\u001b[0;34m(\u001b[0m\u001b[0mw\u001b[0m\u001b[0;34m)\u001b[0m \u001b[0;32mfor\u001b[0m \u001b[0mw\u001b[0m \u001b[0;32min\u001b[0m \u001b[0mword_tokenize\u001b[0m\u001b[0;34m(\u001b[0m\u001b[0msentence\u001b[0m\u001b[0;34m)\u001b[0m\u001b[0;34m]\u001b[0m\u001b[0;34m\u001b[0m\u001b[0;34m\u001b[0m\u001b[0m\n\u001b[0m\u001b[1;32m    123\u001b[0m     \u001b[0;32mreturn\u001b[0m \u001b[0;34m\" \"\u001b[0m\u001b[0;34m.\u001b[0m\u001b[0mjoin\u001b[0m\u001b[0;34m(\u001b[0m\u001b[0mlemmatized_output\u001b[0m\u001b[0;34m)\u001b[0m\u001b[0;34m\u001b[0m\u001b[0;34m\u001b[0m\u001b[0m\n\u001b[1;32m    124\u001b[0m \u001b[0;34m\u001b[0m\u001b[0m\n",
      "\u001b[0;32m~/opt/anaconda3/lib/python3.9/site-packages/nltk/tokenize/__init__.py\u001b[0m in \u001b[0;36mword_tokenize\u001b[0;34m(text, language, preserve_line)\u001b[0m\n\u001b[1;32m    127\u001b[0m     \u001b[0;34m:\u001b[0m\u001b[0mtype\u001b[0m \u001b[0mpreserve_line\u001b[0m\u001b[0;34m:\u001b[0m \u001b[0mbool\u001b[0m\u001b[0;34m\u001b[0m\u001b[0;34m\u001b[0m\u001b[0m\n\u001b[1;32m    128\u001b[0m     \"\"\"\n\u001b[0;32m--> 129\u001b[0;31m     \u001b[0msentences\u001b[0m \u001b[0;34m=\u001b[0m \u001b[0;34m[\u001b[0m\u001b[0mtext\u001b[0m\u001b[0;34m]\u001b[0m \u001b[0;32mif\u001b[0m \u001b[0mpreserve_line\u001b[0m \u001b[0;32melse\u001b[0m \u001b[0msent_tokenize\u001b[0m\u001b[0;34m(\u001b[0m\u001b[0mtext\u001b[0m\u001b[0;34m,\u001b[0m \u001b[0mlanguage\u001b[0m\u001b[0;34m)\u001b[0m\u001b[0;34m\u001b[0m\u001b[0;34m\u001b[0m\u001b[0m\n\u001b[0m\u001b[1;32m    130\u001b[0m     return [\n\u001b[1;32m    131\u001b[0m         \u001b[0mtoken\u001b[0m \u001b[0;32mfor\u001b[0m \u001b[0msent\u001b[0m \u001b[0;32min\u001b[0m \u001b[0msentences\u001b[0m \u001b[0;32mfor\u001b[0m \u001b[0mtoken\u001b[0m \u001b[0;32min\u001b[0m \u001b[0m_treebank_word_tokenizer\u001b[0m\u001b[0;34m.\u001b[0m\u001b[0mtokenize\u001b[0m\u001b[0;34m(\u001b[0m\u001b[0msent\u001b[0m\u001b[0;34m)\u001b[0m\u001b[0;34m\u001b[0m\u001b[0;34m\u001b[0m\u001b[0m\n",
      "\u001b[0;32m~/opt/anaconda3/lib/python3.9/site-packages/nltk/tokenize/__init__.py\u001b[0m in \u001b[0;36msent_tokenize\u001b[0;34m(text, language)\u001b[0m\n\u001b[1;32m    104\u001b[0m     \u001b[0;34m:\u001b[0m\u001b[0mparam\u001b[0m \u001b[0mlanguage\u001b[0m\u001b[0;34m:\u001b[0m \u001b[0mthe\u001b[0m \u001b[0mmodel\u001b[0m \u001b[0mname\u001b[0m \u001b[0;32min\u001b[0m \u001b[0mthe\u001b[0m \u001b[0mPunkt\u001b[0m \u001b[0mcorpus\u001b[0m\u001b[0;34m\u001b[0m\u001b[0;34m\u001b[0m\u001b[0m\n\u001b[1;32m    105\u001b[0m     \"\"\"\n\u001b[0;32m--> 106\u001b[0;31m     \u001b[0mtokenizer\u001b[0m \u001b[0;34m=\u001b[0m \u001b[0mload\u001b[0m\u001b[0;34m(\u001b[0m\u001b[0;34mf\"tokenizers/punkt/{language}.pickle\"\u001b[0m\u001b[0;34m)\u001b[0m\u001b[0;34m\u001b[0m\u001b[0;34m\u001b[0m\u001b[0m\n\u001b[0m\u001b[1;32m    107\u001b[0m     \u001b[0;32mreturn\u001b[0m \u001b[0mtokenizer\u001b[0m\u001b[0;34m.\u001b[0m\u001b[0mtokenize\u001b[0m\u001b[0;34m(\u001b[0m\u001b[0mtext\u001b[0m\u001b[0;34m)\u001b[0m\u001b[0;34m\u001b[0m\u001b[0;34m\u001b[0m\u001b[0m\n\u001b[1;32m    108\u001b[0m \u001b[0;34m\u001b[0m\u001b[0m\n",
      "\u001b[0;32m~/opt/anaconda3/lib/python3.9/site-packages/nltk/data.py\u001b[0m in \u001b[0;36mload\u001b[0;34m(resource_url, format, cache, verbose, logic_parser, fstruct_reader, encoding)\u001b[0m\n\u001b[1;32m    660\u001b[0m \u001b[0;34m\u001b[0m\u001b[0m\n\u001b[1;32m    661\u001b[0m \u001b[0;34m\u001b[0m\u001b[0m\n\u001b[0;32m--> 662\u001b[0;31m def load(\n\u001b[0m\u001b[1;32m    663\u001b[0m     \u001b[0mresource_url\u001b[0m\u001b[0;34m,\u001b[0m\u001b[0;34m\u001b[0m\u001b[0;34m\u001b[0m\u001b[0m\n\u001b[1;32m    664\u001b[0m     \u001b[0mformat\u001b[0m\u001b[0;34m=\u001b[0m\u001b[0;34m\"auto\"\u001b[0m\u001b[0;34m,\u001b[0m\u001b[0;34m\u001b[0m\u001b[0;34m\u001b[0m\u001b[0m\n",
      "\u001b[0;31mKeyboardInterrupt\u001b[0m: "
     ]
    }
   ],
   "source": [
    "for j in range(len(df)):\n",
    "    LIST_sent = pd.Series(df.coDescription[j].split('.')).apply(std_func.lemmatize_sentence).apply(std_func.remove_nums).apply(std_func.remove_stopwords)\n",
    "    \n",
    "    X = tf_vectorizer.transform(LIST_sent.tolist())\n",
    "    sent = lda.transform(X)\n",
    "    sent_df = pd.DataFrame(sent)\n",
    "    # drop the values that are smaller than 1/12\n",
    "    # if the maximum value is 1/12, the probability of each topic in that sentence is the same\n",
    "    # we cannot determine which topic to choose\n",
    "    sent_df = sent_df[sent_df.max(axis = 1) > 1/12].reset_index(drop = True)\n",
    "\n",
    "    for i in range(n_components):\n",
    "        prob.iloc[j][i] = list(sent_df.idxmax(axis = 1)).count(i)\n",
    "    \n",
    "    # calculate the probability\n",
    "    prob = prob.div(prob.sum(axis=1), axis=0)"
   ]
  },
  {
   "cell_type": "code",
   "execution_count": null,
   "id": "ca653cbf",
   "metadata": {
    "tags": [
     "remove-input"
    ]
   },
   "outputs": [],
   "source": [
    "prob"
   ]
  },
  {
   "cell_type": "markdown",
   "id": "2bb03616",
   "metadata": {},
   "source": [
    "#### Demonstrate using pharmaceutical preparations industry"
   ]
  },
  {
   "cell_type": "code",
   "execution_count": null,
   "id": "b5d34378",
   "metadata": {
    "tags": [
     "hide-input"
    ]
   },
   "outputs": [],
   "source": [
    "# get the names of the companies in the pharmaceutical preparations industry\n",
    "Pharm = df[df.SIC == 2834]\n",
    "Pharm_list = Pharm.index"
   ]
  },
  {
   "cell_type": "code",
   "execution_count": null,
   "id": "5884a6af",
   "metadata": {
    "tags": [
     "hide-input"
    ]
   },
   "outputs": [],
   "source": [
    "# get the companies name that match return data and business description data\n",
    "SET = (set(Pharm_list) & set(r_selected.index))\n",
    "LIST = [*SET, ]"
   ]
  },
  {
   "cell_type": "code",
   "execution_count": null,
   "id": "7213c644",
   "metadata": {
    "tags": [
     "hide-input"
    ]
   },
   "outputs": [],
   "source": [
    "B_matrix = prob.T[LIST].T\n",
    "B_matrix = B_matrix[~B_matrix.index.duplicated(keep=\"first\")]"
   ]
  },
  {
   "cell_type": "code",
   "execution_count": null,
   "id": "3fc56bfa",
   "metadata": {
    "scrolled": true,
    "tags": [
     "hide-input"
    ]
   },
   "outputs": [],
   "source": [
    "r_Pharm = r_selected.T[LIST].T"
   ]
  },
  {
   "cell_type": "code",
   "execution_count": null,
   "id": "40abd0d3",
   "metadata": {
    "tags": [
     "hide-input"
    ]
   },
   "outputs": [],
   "source": [
    "coef_mat = pd.DataFrame(0, index = r_Pharm.columns, columns = range(n_components))"
   ]
  },
  {
   "cell_type": "code",
   "execution_count": null,
   "id": "4403be5b",
   "metadata": {
    "scrolled": true,
    "tags": [
     "hide-input"
    ]
   },
   "outputs": [],
   "source": [
    "from sklearn.linear_model import LinearRegression\n",
    "LR = LinearRegression()\n",
    "for i in range(len(r_Pharm.columns)):\n",
    "    date = r_Pharm.columns[i]\n",
    "    r_t_i = r_Pharm[date] \n",
    "    reg = LR.fit(B_matrix, r_t_i)\n",
    "    #print(reg.score(B_matrix, r_t_i))\n",
    "    coef_mat.iloc[i] = reg.coef_\n",
    "\n",
    "coef_mat"
   ]
  },
  {
   "cell_type": "code",
   "execution_count": null,
   "id": "7cbabb94",
   "metadata": {
    "tags": [
     "hide-input"
    ]
   },
   "outputs": [],
   "source": [
    "prediction = B_matrix.dot(coef_mat.T)\n",
    "residual = r_Pharm - prediction"
   ]
  },
  {
   "cell_type": "markdown",
   "id": "5470f0e7",
   "metadata": {},
   "source": [
    "### Perform Mean-Variance Analysis\n",
    "We only use the Pharmaceutical Preparations industry data to generate portfolio based on Mean-Variance Analysis."
   ]
  },
  {
   "cell_type": "code",
   "execution_count": null,
   "id": "c43ad3fd",
   "metadata": {},
   "outputs": [],
   "source": [
    "from pypfopt import EfficientFrontier\n",
    "from pypfopt import risk_models\n",
    "from pypfopt import expected_returns\n",
    "from pypfopt import objective_functions\n",
    "from pypfopt import plotting"
   ]
  },
  {
   "cell_type": "markdown",
   "id": "a1fda2eb",
   "metadata": {},
   "source": [
    "#### Mean for Returns in the Pharmaceutical Preparations Industry"
   ]
  },
  {
   "cell_type": "code",
   "execution_count": null,
   "id": "6d0a494b",
   "metadata": {
    "tags": [
     "hide-input"
    ]
   },
   "outputs": [],
   "source": [
    "mu_Pharm = mu[LIST]"
   ]
  },
  {
   "cell_type": "markdown",
   "id": "42947f8e",
   "metadata": {},
   "source": [
    "#### Covariance generated using the residual of the factor model"
   ]
  },
  {
   "cell_type": "code",
   "execution_count": null,
   "id": "a9e7dcdb",
   "metadata": {
    "tags": [
     "hide-input"
    ]
   },
   "outputs": [],
   "source": [
    "cov_Factor_Model = residual.T.cov()"
   ]
  },
  {
   "cell_type": "markdown",
   "id": "db23e564",
   "metadata": {},
   "source": [
    "### Minmum Volatility Portfolio Weights - Factor Model Estimates"
   ]
  },
  {
   "cell_type": "markdown",
   "id": "fc1b6a4c",
   "metadata": {},
   "source": [
    "#### Comparing return mean and covariance generated using factor model"
   ]
  },
  {
   "cell_type": "code",
   "execution_count": null,
   "id": "7429ef48",
   "metadata": {
    "tags": [
     "hide-input"
    ]
   },
   "outputs": [],
   "source": [
    "ef1 = EfficientFrontier(mu_Pharm, cov_Factor_Model, weight_bounds=(0, 0.2))\n",
    "\n",
    "fig, ax = plt.subplots()\n",
    "plotting.plot_efficient_frontier(ef1, ax=ax, show_assets=True)\n",
    "\n",
    "# Find and plot the tangency portfolio\n",
    "ef2 = EfficientFrontier(mu_Pharm, cov_Factor_Model, weight_bounds=(0, 0.2))\n",
    "# min volatility\n",
    "ef2.min_volatility()\n",
    "ret_tangent, std_tangent, _ = ef2.portfolio_performance()\n",
    "ax.scatter(std_tangent, ret_tangent, marker=\"*\", s=100, c=\"r\", label=\"Min Volatility\")\n",
    "\n",
    "# Format\n",
    "ax.set_title(\"Efficient Frontier - Pharmaceutical Preparations \\n Factor Model Estimates\")\n",
    "ax.legend()\n",
    "plt.tight_layout()\n",
    "plt.savefig('images/Efficient_Frontier_Returns.png', dpi=200, bbox_inches='tight')\n",
    "plt.show()"
   ]
  },
  {
   "cell_type": "markdown",
   "id": "342e7542",
   "metadata": {},
   "source": [
    "##### min volatility"
   ]
  },
  {
   "cell_type": "code",
   "execution_count": null,
   "id": "b34e4df3",
   "metadata": {
    "tags": [
     "hide-input"
    ]
   },
   "outputs": [],
   "source": [
    "ef2.portfolio_performance(verbose=True);"
   ]
  },
  {
   "cell_type": "code",
   "execution_count": null,
   "id": "2251dc5e",
   "metadata": {
    "tags": [
     "remove-input"
    ]
   },
   "outputs": [],
   "source": [
    "companies = []\n",
    "weights = []\n",
    "for company, weight in ef2.clean_weights().items():\n",
    "    if weight != 0:\n",
    "        companies.append(company)\n",
    "        weights.append(weight)"
   ]
  },
  {
   "cell_type": "code",
   "execution_count": null,
   "id": "07b18fbf",
   "metadata": {
    "tags": [
     "remove-input"
    ]
   },
   "outputs": [],
   "source": [
    "dic = {'Company_Name':companies,'Weight':weights}\n",
    "min_vol = pd.DataFrame(dic)\n",
    "min_vol.to_csv(\"min_vol_factor_model.csv\")\n",
    "import dataframe_image as dfi\n",
    "min_vol.dfi.export('min_vol_factor_model.png')"
   ]
  },
  {
   "cell_type": "code",
   "execution_count": null,
   "id": "162bb1f9",
   "metadata": {
    "tags": [
     "hide-input"
    ]
   },
   "outputs": [],
   "source": [
    "min_vol"
   ]
  },
  {
   "cell_type": "markdown",
   "id": "ef5d9980",
   "metadata": {},
   "source": [
    "### Get results for the other 4 industries"
   ]
  },
  {
   "cell_type": "code",
   "execution_count": null,
   "id": "5d540854",
   "metadata": {
    "tags": [
     "hide-input"
    ]
   },
   "outputs": [],
   "source": [
    "SIC_list = [7372, 1311, 6798, 6022]\n",
    "SIC_desc = ['Prepackaged Software (mass reproduction of software)', 'Crude Petroleum and Natural Gas', \n",
    "           'Real Estate Investment Trusts', 'State Commercial Banks (commercial banking)']"
   ]
  },
  {
   "cell_type": "markdown",
   "id": "b49f88b2",
   "metadata": {},
   "source": [
    "#### Prepackaged Software (mass reproduction of software)"
   ]
  },
  {
   "cell_type": "code",
   "execution_count": null,
   "id": "d9924f61",
   "metadata": {
    "tags": [
     "remove-input"
    ]
   },
   "outputs": [],
   "source": [
    "SIC = SIC_list[0]\n",
    "    \n",
    "industry_name = SIC_desc[SIC_list.index(SIC)]\n",
    "    \n",
    "# get the names of the companies in the other industries\n",
    "Companies = df[df.SIC == SIC]\n",
    "Company_list = Companies.index\n",
    "\n",
    "# get the companies name that match return data and business description data\n",
    "SET = (set(Company_list) & set(r_selected.index))\n",
    "LIST = [*SET, ]\n",
    "\n",
    "B_matrix = prob.T[LIST].T\n",
    "B_matrix = B_matrix[~B_matrix.index.duplicated(keep=\"first\")]\n",
    "\n",
    "r = r_selected.T[LIST].T\n",
    "\n",
    "coef_mat = pd.DataFrame(0, index = r.columns, columns = range(n_components))\n",
    "\n",
    "LR = LinearRegression()\n",
    "for i in range(len(r.columns)):\n",
    "    date = r.columns[i]\n",
    "    r_t_i = r[date] \n",
    "    reg = LR.fit(B_matrix, r_t_i)\n",
    "    coef_mat.iloc[i] = reg.coef_\n",
    "\n",
    "prediction = B_matrix.dot(coef_mat.T)\n",
    "residual = r - prediction\n",
    "\n",
    "mu_sample = mu[LIST]\n",
    "\n",
    "cov_Factor_Model = residual.T.cov()\n",
    "    \n",
    "# perform minimum variance analysis\n",
    "ef1 = EfficientFrontier(mu_sample, cov_Factor_Model, weight_bounds=(0, 0.2))\n",
    "\n",
    "fig, ax = plt.subplots()\n",
    "plotting.plot_efficient_frontier(ef1, ax=ax, show_assets=True)\n",
    "\n",
    "# Find and plot the tangency portfolio\n",
    "ef2 = EfficientFrontier(mu_sample, cov_Factor_Model, weight_bounds=(0, 0.2))\n",
    "# min volatility\n",
    "ef2.min_volatility()\n",
    "ret_tangent, std_tangent, _ = ef2.portfolio_performance()\n",
    "ax.scatter(std_tangent, ret_tangent, marker=\"*\", s=100, c=\"r\", label=\"Min Volatility\")\n",
    "\n",
    "# Format\n",
    "ax.set_title(\"Efficient Frontier - %s \\n Factor Model Estimates\" %industry_name)\n",
    "ax.legend()\n",
    "plt.tight_layout()\n",
    "plt.savefig('images/Efficient_Frontier_Factor_Model_Estimates' + str(industry_name) + '.png', dpi=200, bbox_inches='tight')\n",
    "plt.show()"
   ]
  },
  {
   "cell_type": "markdown",
   "id": "8bf98d16",
   "metadata": {},
   "source": [
    "##### min volatility"
   ]
  },
  {
   "cell_type": "code",
   "execution_count": null,
   "id": "b7e7bd7b",
   "metadata": {
    "tags": [
     "remove-input"
    ]
   },
   "outputs": [],
   "source": [
    "ef2.portfolio_performance(verbose=True);"
   ]
  },
  {
   "cell_type": "code",
   "execution_count": null,
   "id": "6c1e276a",
   "metadata": {
    "tags": [
     "remove-input"
    ]
   },
   "outputs": [],
   "source": [
    "companies = []\n",
    "weights = []\n",
    "for company, weight in ef2.clean_weights().items():\n",
    "    if weight != 0:\n",
    "        companies.append(company)\n",
    "        weights.append(weight)"
   ]
  },
  {
   "cell_type": "code",
   "execution_count": null,
   "id": "9cf7c3ae",
   "metadata": {
    "tags": [
     "remove-input"
    ]
   },
   "outputs": [],
   "source": [
    "dic = {'Company_Name':companies,'Weight':weights}\n",
    "min_vol = pd.DataFrame(dic)\n",
    "min_vol.to_csv(\"min_vol_factor_model\" + str(industry_name) + \".csv\")\n",
    "import dataframe_image as dfi\n",
    "min_vol.dfi.export('min_vol_factor_model' + str(industry_name) + '.png')\n",
    "min_vol"
   ]
  },
  {
   "cell_type": "markdown",
   "id": "f59b259a",
   "metadata": {},
   "source": [
    "#### State Commercial Banks (commercial banking)"
   ]
  },
  {
   "cell_type": "code",
   "execution_count": null,
   "id": "a0887871",
   "metadata": {
    "tags": [
     "remove-input"
    ]
   },
   "outputs": [],
   "source": [
    "SIC = SIC_list[3]\n",
    "    \n",
    "industry_name = SIC_desc[SIC_list.index(SIC)]\n",
    "    \n",
    "# get the names of the companies in the other industries\n",
    "Companies = df[df.SIC == SIC]\n",
    "Company_list = Companies.index\n",
    "\n",
    "# get the companies name that match return data and business description data\n",
    "SET = (set(Company_list) & set(r_selected.index))\n",
    "LIST = [*SET, ]\n",
    "\n",
    "B_matrix = prob.T[LIST].T\n",
    "B_matrix = B_matrix[~B_matrix.index.duplicated(keep=\"first\")]\n",
    "\n",
    "r = r_selected.T[LIST].T\n",
    "\n",
    "coef_mat = pd.DataFrame(0, index = r.columns, columns = range(n_components))\n",
    "\n",
    "LR = LinearRegression()\n",
    "for i in range(len(r.columns)):\n",
    "    date = r.columns[i]\n",
    "    r_t_i = r[date] \n",
    "    reg = LR.fit(B_matrix, r_t_i)\n",
    "    coef_mat.iloc[i] = reg.coef_\n",
    "\n",
    "prediction = B_matrix.dot(coef_mat.T)\n",
    "residual = r - prediction\n",
    "\n",
    "mu_sample = mu[LIST]\n",
    "\n",
    "cov_Factor_Model = residual.T.cov()\n",
    "\n",
    "\n",
    "# perform minimum variance analysis\n",
    "ef1 = EfficientFrontier(mu_sample, cov_Factor_Model, weight_bounds=(0, 0.2))\n",
    "\n",
    "\n",
    "fig, ax = plt.subplots()\n",
    "plotting.plot_efficient_frontier(ef1, ax=ax, show_assets=True)\n",
    "\n",
    "# Find and plot the tangency portfolio\n",
    "ef2 = EfficientFrontier(mu_sample, cov_Factor_Model, weight_bounds=(0, 0.2))\n",
    "# min volatility\n",
    "ef2.min_volatility()\n",
    "ret_tangent, std_tangent, _ = ef2.portfolio_performance()\n",
    "ax.scatter(std_tangent, ret_tangent, marker=\"*\", s=100, c=\"r\", label=\"Min Volatility\")\n",
    "\n",
    "# Format\n",
    "ax.set_title(\"Efficient Frontier - %s \\n Factor Model Estimates\" %industry_name)\n",
    "ax.legend()\n",
    "plt.tight_layout()\n",
    "plt.savefig('images/Efficient_Frontier_Factor_Model_Estimates' + str(industry_name) + '.png', dpi=200, bbox_inches='tight')\n",
    "plt.show()"
   ]
  },
  {
   "cell_type": "markdown",
   "id": "14dd6beb",
   "metadata": {},
   "source": [
    "##### min volatility"
   ]
  },
  {
   "cell_type": "code",
   "execution_count": null,
   "id": "b3386a15",
   "metadata": {
    "tags": [
     "remove-input"
    ]
   },
   "outputs": [],
   "source": [
    "ef2.portfolio_performance(verbose=True);"
   ]
  },
  {
   "cell_type": "code",
   "execution_count": null,
   "id": "68c00f7e",
   "metadata": {
    "tags": [
     "remove-input"
    ]
   },
   "outputs": [],
   "source": [
    "companies = []\n",
    "weights = []\n",
    "for company, weight in ef2.clean_weights().items():\n",
    "    if weight != 0:\n",
    "        companies.append(company)\n",
    "        weights.append(weight)"
   ]
  },
  {
   "cell_type": "code",
   "execution_count": null,
   "id": "9926796f",
   "metadata": {
    "tags": [
     "remove-input"
    ]
   },
   "outputs": [],
   "source": [
    "dic = {'Company_Name':companies,'Weight':weights}\n",
    "min_vol = pd.DataFrame(dic)\n",
    "min_vol.to_csv(\"min_vol_factor_model\" + str(industry_name) + \".csv\")\n",
    "import dataframe_image as dfi\n",
    "min_vol.dfi.export('min_vol_factor_model' + str(industry_name) + '.png')\n",
    "min_vol"
   ]
  }
 ],
 "metadata": {
  "celltoolbar": "Edit Metadata",
  "kernelspec": {
   "display_name": "Python 3 (ipykernel)",
   "language": "python",
   "name": "python3"
  },
  "language_info": {
   "codemirror_mode": {
    "name": "ipython",
    "version": 3
   },
   "file_extension": ".py",
   "mimetype": "text/x-python",
   "name": "python",
   "nbconvert_exporter": "python",
   "pygments_lexer": "ipython3",
   "version": "3.9.7"
  }
 },
 "nbformat": 4,
 "nbformat_minor": 5
}

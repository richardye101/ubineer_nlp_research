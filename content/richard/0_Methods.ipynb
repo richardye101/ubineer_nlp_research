{
 "cells": [
  {
   "cell_type": "markdown",
   "id": "9f2d1980-78f2-4914-82c5-b48d0172ab2f",
   "metadata": {
    "tags": []
   },
   "source": [
    "# Data ETL and Methods of evaluation\n",
    "\n",
    "This report relies upon the data which has analyzed and preprocessed in order to maximize information extraction. The original data was generously provided to us by [Ubineer](https://www.ubineer.com), a fin-tech start-up based out of the University of Toronto. This page will go in depth into the methods we used to obtain, clean, and preprocess our data. The methods used for plotting and evaluating the results are also described below.\n",
    "\n",
    "## The data\n",
    "\n",
    "As mentioned above, we obtained our data from Ubineer, which they store in Googles BigQuery platform. They've already performed a lot of leg work processing gigabytes worth of annual reports, extracting text fields such as the `Business Description`, `Business Risk` and `Management's Discussion and Analysis of Financial Condition and Results of Operations`. In this report, we've focused on the `Business Description` data.\n",
    "\n",
    "### Schema\n",
    "\n",
    "| Column          | Description                                                      |\n",
    "|-----------------|------------------------------------------------------------------|\n",
    "| accessionNumber | NA                                                               |\n",
    "| filingDate      | When the report was filed with the SEC                           |\n",
    "| reportingDate   | The date which the report was prepared for                       |\n",
    "| financialEntity | Contains the CIK, specifying which company the report belongs to |\n",
    "| htmlFile        | Link to the report                                               |\n",
    "| coDescription   | The Business Description section of the Report                   |\n",
    "\n",
    "An example row of the data is below:\n",
    "\n",
    "| accessionNumber      | filingDate              | reportingDate           | financialEntity                      | htmlFile                                                                           | coDescription                    |\n",
    "|----------------------|-------------------------|-------------------------|--------------------------------------|------------------------------------------------------------------------------------|----------------------------------|\n",
    "| 0001144204-09-017197 | 2009-03-31 10:22:32 UTC | 2008-12-31 05:00:00 UTC | financialEntities/params;cik=1140028 | https://www.sec.gov/Archives/edgar/data/1140028/000114420409017197/v143585_10k.htm | Item 1Business4<a href=\"#item1a\" |\n",
    "\n",
    "Notice how the Business Description column (`coDescription`) also contians some html noise."
   ]
  },
  {
   "cell_type": "markdown",
   "id": "cec868de-f738-4a5a-88a2-75f73b9981af",
   "metadata": {},
   "source": [
    "### Extraction\n",
    "\n",
    "Within the BigQuery interface, we were able to query the data, although due to the sheer size of it (2GB+) we were unable to exatract it efficiently for analysis. Our supervisor Professor [Sotirious Damouras](https://damouras.github.io/) was able to assist us in not only extracting the `coDescription` data, but also link each filing with a Company name, it's respective `SIC` code (identifying the company's operating industry), and the country and city they are headquartered. This data only contains filings from 2018, as the team agreed it would be best to avoid years plagued with COVID, but also have the most up to date information. As mentioned previously, the sheer size of data available prevented us from extracting all the company filings so we decided to filter only companies from the top five industries (based on number of companies). That gave us 1127 unique filings to analyze.\n",
    "\n",
    "Here is a snippet:"
   ]
  },
  {
   "cell_type": "code",
   "execution_count": 1,
   "id": "d4b631c8-7235-422a-ac96-08836fd6892c",
   "metadata": {
    "tags": [
     "hide-input"
    ]
   },
   "outputs": [
    {
     "data": {
      "text/html": [
       "<div>\n",
       "<style scoped>\n",
       "    .dataframe tbody tr th:only-of-type {\n",
       "        vertical-align: middle;\n",
       "    }\n",
       "\n",
       "    .dataframe tbody tr th {\n",
       "        vertical-align: top;\n",
       "    }\n",
       "\n",
       "    .dataframe thead th {\n",
       "        text-align: right;\n",
       "    }\n",
       "</style>\n",
       "<table border=\"1\" class=\"dataframe\">\n",
       "  <thead>\n",
       "    <tr style=\"text-align: right;\">\n",
       "      <th></th>\n",
       "      <th>accessionNumber</th>\n",
       "      <th>filingDate</th>\n",
       "      <th>reportingDate</th>\n",
       "      <th>financialEntity</th>\n",
       "      <th>htmlFile</th>\n",
       "      <th>coDescription</th>\n",
       "      <th>CIK</th>\n",
       "      <th>name</th>\n",
       "      <th>countryinc</th>\n",
       "      <th>cityma</th>\n",
       "      <th>SIC</th>\n",
       "      <th>SIC_desc</th>\n",
       "    </tr>\n",
       "  </thead>\n",
       "  <tbody>\n",
       "    <tr>\n",
       "      <th>0</th>\n",
       "      <td>0001441816-18-000028</td>\n",
       "      <td>2018-03-30 20:12:23 UTC</td>\n",
       "      <td>2018-02-01</td>\n",
       "      <td>financialEntities/params;cik=1441816</td>\n",
       "      <td>https://www.sec.gov/Archives/edgar/data/144181...</td>\n",
       "      <td>Item 1. BusinessOverviewMongoDB is the leading...</td>\n",
       "      <td>1441816</td>\n",
       "      <td>MONGODB, INC.</td>\n",
       "      <td>US</td>\n",
       "      <td>NEW YORK</td>\n",
       "      <td>7372</td>\n",
       "      <td>Prepackaged Software (mass reproduction of sof...</td>\n",
       "    </tr>\n",
       "    <tr>\n",
       "      <th>1</th>\n",
       "      <td>0001108524-18-000011</td>\n",
       "      <td>2018-03-09 22:01:46 UTC</td>\n",
       "      <td>2018-02-01</td>\n",
       "      <td>financialEntities/params;cik=1108524</td>\n",
       "      <td>https://www.sec.gov/Archives/edgar/data/110852...</td>\n",
       "      <td>ITEM 1. BUSINESSOverviewSalesforce is a global...</td>\n",
       "      <td>1108524</td>\n",
       "      <td>SALESFORCE COM INC</td>\n",
       "      <td>US</td>\n",
       "      <td>SAN FRANCISCO</td>\n",
       "      <td>7372</td>\n",
       "      <td>Prepackaged Software (mass reproduction of sof...</td>\n",
       "    </tr>\n",
       "    <tr>\n",
       "      <th>2</th>\n",
       "      <td>0001564590-18-006986</td>\n",
       "      <td>2018-03-28 21:27:30 UTC</td>\n",
       "      <td>2018-02-01</td>\n",
       "      <td>financialEntities/params;cik=1385867</td>\n",
       "      <td>https://www.sec.gov/Archives/edgar/data/138586...</td>\n",
       "      <td>Item 1.Business1&lt;p style=\"margin-bottom:0pt;ma...</td>\n",
       "      <td>1385867</td>\n",
       "      <td>COUPA SOFTWARE INC</td>\n",
       "      <td>US</td>\n",
       "      <td>SAN MATEO</td>\n",
       "      <td>7372</td>\n",
       "      <td>Prepackaged Software (mass reproduction of sof...</td>\n",
       "    </tr>\n",
       "    <tr>\n",
       "      <th>3</th>\n",
       "      <td>0001353283-18-000004</td>\n",
       "      <td>2018-03-30 21:21:46 UTC</td>\n",
       "      <td>2018-02-01</td>\n",
       "      <td>financialEntities/params;cik=1353283</td>\n",
       "      <td>https://www.sec.gov/Archives/edgar/data/135328...</td>\n",
       "      <td>Item 1.  BusinessOverviewSplunk provides innov...</td>\n",
       "      <td>1353283</td>\n",
       "      <td>SPLUNK INC</td>\n",
       "      <td>NaN</td>\n",
       "      <td>SAN FRANCISCO</td>\n",
       "      <td>7372</td>\n",
       "      <td>Prepackaged Software (mass reproduction of sof...</td>\n",
       "    </tr>\n",
       "    <tr>\n",
       "      <th>4</th>\n",
       "      <td>0001660134-18-000007</td>\n",
       "      <td>2018-03-12 20:45:43 UTC</td>\n",
       "      <td>2018-02-01</td>\n",
       "      <td>financialEntities/params;cik=1660134</td>\n",
       "      <td>https://www.sec.gov/Archives/edgar/data/166013...</td>\n",
       "      <td>Item 1. BusinessOverview Okta is the leading i...</td>\n",
       "      <td>1660134</td>\n",
       "      <td>OKTA, INC.</td>\n",
       "      <td>US</td>\n",
       "      <td>SAN FRANCISCO</td>\n",
       "      <td>7372</td>\n",
       "      <td>Prepackaged Software (mass reproduction of sof...</td>\n",
       "    </tr>\n",
       "  </tbody>\n",
       "</table>\n",
       "</div>"
      ],
      "text/plain": [
       "        accessionNumber               filingDate reportingDate  \\\n",
       "0  0001441816-18-000028  2018-03-30 20:12:23 UTC    2018-02-01   \n",
       "1  0001108524-18-000011  2018-03-09 22:01:46 UTC    2018-02-01   \n",
       "2  0001564590-18-006986  2018-03-28 21:27:30 UTC    2018-02-01   \n",
       "3  0001353283-18-000004  2018-03-30 21:21:46 UTC    2018-02-01   \n",
       "4  0001660134-18-000007  2018-03-12 20:45:43 UTC    2018-02-01   \n",
       "\n",
       "                        financialEntity  \\\n",
       "0  financialEntities/params;cik=1441816   \n",
       "1  financialEntities/params;cik=1108524   \n",
       "2  financialEntities/params;cik=1385867   \n",
       "3  financialEntities/params;cik=1353283   \n",
       "4  financialEntities/params;cik=1660134   \n",
       "\n",
       "                                            htmlFile  \\\n",
       "0  https://www.sec.gov/Archives/edgar/data/144181...   \n",
       "1  https://www.sec.gov/Archives/edgar/data/110852...   \n",
       "2  https://www.sec.gov/Archives/edgar/data/138586...   \n",
       "3  https://www.sec.gov/Archives/edgar/data/135328...   \n",
       "4  https://www.sec.gov/Archives/edgar/data/166013...   \n",
       "\n",
       "                                       coDescription      CIK  \\\n",
       "0  Item 1. BusinessOverviewMongoDB is the leading...  1441816   \n",
       "1  ITEM 1. BUSINESSOverviewSalesforce is a global...  1108524   \n",
       "2  Item 1.Business1<p style=\"margin-bottom:0pt;ma...  1385867   \n",
       "3  Item 1.  BusinessOverviewSplunk provides innov...  1353283   \n",
       "4  Item 1. BusinessOverview Okta is the leading i...  1660134   \n",
       "\n",
       "                 name countryinc         cityma   SIC  \\\n",
       "0       MONGODB, INC.         US       NEW YORK  7372   \n",
       "1  SALESFORCE COM INC         US  SAN FRANCISCO  7372   \n",
       "2  COUPA SOFTWARE INC         US      SAN MATEO  7372   \n",
       "3          SPLUNK INC        NaN  SAN FRANCISCO  7372   \n",
       "4          OKTA, INC.         US  SAN FRANCISCO  7372   \n",
       "\n",
       "                                            SIC_desc  \n",
       "0  Prepackaged Software (mass reproduction of sof...  \n",
       "1  Prepackaged Software (mass reproduction of sof...  \n",
       "2  Prepackaged Software (mass reproduction of sof...  \n",
       "3  Prepackaged Software (mass reproduction of sof...  \n",
       "4  Prepackaged Software (mass reproduction of sof...  "
      ]
     },
     "execution_count": 1,
     "metadata": {},
     "output_type": "execute_result"
    }
   ],
   "source": [
    "import pandas as pd\n",
    "data = pd.read_json(\"../data/bq_2018_top5SIC.json\", lines = True)\n",
    "data.head()"
   ]
  },
  {
   "cell_type": "markdown",
   "id": "e07e5aef-b584-46d4-a510-8841ea732611",
   "metadata": {},
   "source": [
    "### Cleaning\n",
    "\n",
    "If you look closely, almost all `coDescription` value start with something like _\"Item 1. Business Overview\"_. Some even contain html code, identified by it's surrounding `<` and `>` angle brackets. One of the most important things to keep in mind is that our analysis can only be as good as our data. \n",
    "\n",
    "In an effort to improve our data, we'll be removing as much duplicate word data and HTML code as possible, as well as empty space and random quotations. This is done in the `std_func.py` files function `clean_data_fn()`, located [here](https://github.com/richardye101/ubineer_nlp_research/blob/5a16caf65a0d2d21e8f377bd8b5f0d6b2435ad84/content/std_func.py#L65-L92).\n",
    "\n",
    "We also remove numbers, as they don't actually provide us with any semantic meaning.\n",
    "\n",
    "As a final filter, we also remove any filings that contain less than 250 characters in the `coDescription` column, as they don't have enough data for us to analyze, or is a shell company with no actual business.\n",
    "\n",
    "After cleaning, the `coDescription` column looks more like this:"
   ]
  },
  {
   "cell_type": "code",
   "execution_count": 24,
   "id": "09a9451c-6b1b-4fdb-b754-4364a9701840",
   "metadata": {
    "tags": [
     "remove-input",
     "remove-stdout"
    ]
   },
   "outputs": [
    {
     "name": "stdout",
     "output_type": "stream",
     "text": [
      "The autoreload extension is already loaded. To reload it, use:\n",
      "  %reload_ext autoreload\n"
     ]
    },
    {
     "data": {
      "text/plain": [
       "0    mongodb is the leading modern, general purpose database platform. our robust platform enables de...\n",
       "1    salesforce is a global leader in customer relationship management, or crm, software. we deliver ...\n",
       "3    splunk provides innovative software solutions that enable organizations to gain real-time operat...\n",
       "4    okta is the leading independent provider of identity for the enterprise. our mission is to enabl...\n",
       "5    veeva is a leading provider of industry cloud solutions for the global life sciences industry. w...\n",
       "Name: coDescription, dtype: object"
      ]
     },
     "execution_count": 24,
     "metadata": {},
     "output_type": "execute_result"
    }
   ],
   "source": [
    "#update\n",
    "import sys\n",
    "sys.path.insert(0, '..')\n",
    "%load_ext autoreload\n",
    "%autoreload 2\n",
    "%aimport std_func\n",
    "cleaned_data = std_func.clean_data_fn(data)\n",
    "pd.options.display.max_colwidth = 100\n",
    "cleaned_data.head().loc[:,\"coDescription\"]"
   ]
  },
  {
   "cell_type": "code",
   "execution_count": 3,
   "id": "f8382283-3706-4a30-827e-062d2cbfb622",
   "metadata": {
    "tags": [
     "remove-input"
    ]
   },
   "outputs": [
    {
     "name": "stdout",
     "output_type": "stream",
     "text": [
      "After cleaning, there are 675 filings remaining\n"
     ]
    }
   ],
   "source": [
    "print(\"After cleaning, there are {} filings remaining\".format(cleaned_data.shape[0]))"
   ]
  },
  {
   "cell_type": "markdown",
   "id": "b9ae85d5-9e29-4b71-a0c8-481a892129a0",
   "metadata": {},
   "source": [
    "Much better!\n",
    "\n",
    "### Pre-processing\n",
    "\n",
    "Now that the data has been cleaned, it's time to dig in and really analyze it. Through our analysis, we've found that many words such as \"are\" and \"is\", \"running\" and \"ran\" all carried their respective meaning, but yet represented as _different_ words. In order to condense the sheer amount of data we have (in number of words), we perform something called __lemmatization__, the process of reducing words to their base form. \"are\" and \"is\" would be converted to \"be\", and \"running\" and \"ran\" will be converted to \"run\". With less word variations to deal with, our analysis is bound to improve!\n",
    "\n",
    "Another pre-processing step taken was removing stop words. These words include words such as \"the\", \"and\", \"that\", \"is\" among many more. These words themselves don't carry any meaning, and our goal is to extract as much semantic information as possible out of our data. As these stop words don't contriute to that goal (and they take up a LOT of room, just read the previou sentence and count the stop words!), we can further remove them to reduce the amount of data we need to process.\n",
    "\n",
    "You can find the code [here](https://github.com/richardye101/ubineer_nlp_research/blob/5a16caf65a0d2d21e8f377bd8b5f0d6b2435ad84/content/std_func.py#L94-L114).\n",
    "\n",
    "After these steps, our `coDescription` column looks like this:"
   ]
  },
  {
   "cell_type": "code",
   "execution_count": 4,
   "id": "6cc107f0-3285-4709-b455-6fa62c93e099",
   "metadata": {
    "tags": [
     "remove-input"
    ]
   },
   "outputs": [
    {
     "data": {
      "text/plain": [
       "0    mongodb leading modern general purpose database platform robust platform enables developer build...\n",
       "1    salesforce global leader customer relationship management crm software deliver software internet...\n",
       "3    splunk provides innovative software solution enable organization gain operational intelligence h...\n",
       "4    okta leading independent provider identity enterprise mission enable organization use technology...\n",
       "5    veeva leading provider industry cloud solution global life science industry founded premise clou...\n",
       "Name: coDescription_stopwords, dtype: object"
      ]
     },
     "execution_count": 4,
     "metadata": {},
     "output_type": "execute_result"
    }
   ],
   "source": [
    "processed_data = std_func.clean(data)\n",
    "processed_data.head().loc[:, \"coDescription_stopwords\"]"
   ]
  },
  {
   "cell_type": "markdown",
   "id": "5325def3-dfd9-4881-8997-30bb8a5d39fa",
   "metadata": {},
   "source": [
    "This results in detailed, concise business descriptions with as much fluff removed as possible. Our analysis depends on having as much information as possible, while also reducing the extraneous bits that don't contribute to our analysis. This data is what we use through the majority of our analysis, existing as the `coDescription_stopwords` column."
   ]
  }
 ],
 "metadata": {
  "kernelspec": {
   "display_name": "Python 3 (ipykernel)",
   "language": "python",
   "name": "python3"
  },
  "language_info": {
   "codemirror_mode": {
    "name": "ipython",
    "version": 3
   },
   "file_extension": ".py",
   "mimetype": "text/x-python",
   "name": "python",
   "nbconvert_exporter": "python",
   "pygments_lexer": "ipython3",
   "version": "3.9.12"
  }
 },
 "nbformat": 4,
 "nbformat_minor": 5
}

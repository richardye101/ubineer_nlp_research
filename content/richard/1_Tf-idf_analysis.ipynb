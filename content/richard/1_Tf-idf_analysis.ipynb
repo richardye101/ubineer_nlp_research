{
 "cells": [
  {
   "cell_type": "markdown",
   "id": "4f8e5a3c-f933-4b5f-996a-9354fa45eade",
   "metadata": {
    "tags": [
     "hide-input",
     "remove-input"
    ]
   },
   "source": [
    "# Word embedding using tf-idf matrices\n",
    "This notebook explores using tf-idf matrices to create these company embeddings. \n",
    "\n",
    "Tf-Idf stands for _term frequency - inverse document frequency_. Each row in this matrix represents one document (in this case, one annaul report of a given company) and each column represents a word (or a sequence of words called an n-gram, like \"University of Toronto\"). \n",
    "\n",
    "A term frequency matrix has the count of occurences of a given word for each document, while a tf-idf matrix performs a transformation on that term frequency matrix. The computation for each cell is as follows:\n",
    "\n",
    "<!-- \\begin{align*}\n",
    "\\text{tf-idf}(t,d) &= \\text{tf}(t,d) \\cdot \\text{idf}(t,d)\\\\ \\\\\n",
    "\\text{Where: } \\quad \\text{tf}(t,d) &= |t| \\text{ in } d\\\\ \\\\\n",
    "\\text{idf}(t,d) &= \\log\\frac{N}{\\text{df}(t)}\\\\\n",
    "\\end{align*} -->\n",
    "![math](../images/tfidf_1.png)\n",
    "\n",
    "- Where **t** is the current term we are process, and **d** is the current document we are looking in\n",
    "- Where **N** is the total number of documents in the document set and **df(t)** is the document frequency of t;\n",
    "    - The document frequency is the number of documents in the document set that contain the term t  \n",
    "^ From [sklearn](https://scikit-learn.org/stable/modules/generated/sklearn.feature_extraction.text.TfidfTransformer.html)\n",
    "\n",
    "**Why do we do this?**\n",
    "\n",
    "The purpose of a tf-idf transformation is give more importance to words that occur less frequently among all the documents. Common terms among financial documents like these could contain \"financial\" or \"business\" but they don't provide any extra information to help us identify what makes a given company _unique_. tf-idf augments the term counts by giving higher weights to terms that are less common within the collection of documents but mentioned frequently in one document, implying these terms make this document special."
   ]
  },
  {
   "cell_type": "markdown",
   "id": "f9e13b37-483e-446a-9ad7-d59d7ced0d3c",
   "metadata": {},
   "source": [
    "We'll be training two models from `sklearn`'s `feature_extraction`, first using a `CountVectorizer` to obtain term-frequencies of terms of size 2-4 (we do this as some terms such as \"cloud computing\" carry more meaning than those words do separately. We also only select the top 600 words by freqeuncy as the columns. \n",
    "\n",
    "The result is then piped into a `TfidfTransformer`, augmenting the values so the values more accurately represent the **importance** of a given term."
   ]
  },
  {
   "cell_type": "code",
   "execution_count": 1,
   "id": "b5a2a9bb-d1b7-4dcb-b63d-3dce9917d7bb",
   "metadata": {
    "tags": [
     "remove-output"
    ]
   },
   "outputs": [],
   "source": [
    "import pandas as pd\n",
    "import numpy as np\n",
    "import sys\n",
    "sys.path.insert(0, '..')\n",
    "%load_ext autoreload\n",
    "%autoreload 2\n",
    "%aimport std_func\n",
    "\n",
    "from sklearn.feature_extraction.text import TfidfTransformer\n",
    "from sklearn.feature_extraction.text import CountVectorizer\n",
    "from sklearn.pipeline import Pipeline\n",
    "\n",
    "df = pd.read_csv(\"../data/preprocessed.csv\")\n",
    "pipe = Pipeline([('count', CountVectorizer(ngram_range = (2,4),\n",
    "                                           stop_words = 'english', max_features = 600)),\n",
    "                  ('tfidf', TfidfTransformer())]).fit(df[\"coDescription_stopwords\"])"
   ]
  },
  {
   "cell_type": "markdown",
   "id": "0d30800a-4ba0-4953-9d9f-5293775ef696",
   "metadata": {
    "tags": [
     "hide-input"
    ]
   },
   "source": [
    "Here are some of the terms we are left with after passing all our documents through the `CountVectorizer` and `TfidfTransformer`."
   ]
  },
  {
   "cell_type": "code",
   "execution_count": 2,
   "id": "03e446aa-191d-4da4-a8a4-b3e9484f0089",
   "metadata": {
    "tags": [
     "hide-input"
    ]
   },
   "outputs": [
    {
     "data": {
      "text/html": [
       "<div>\n",
       "<style scoped>\n",
       "    .dataframe tbody tr th:only-of-type {\n",
       "        vertical-align: middle;\n",
       "    }\n",
       "\n",
       "    .dataframe tbody tr th {\n",
       "        vertical-align: top;\n",
       "    }\n",
       "\n",
       "    .dataframe thead th {\n",
       "        text-align: right;\n",
       "    }\n",
       "</style>\n",
       "<table border=\"1\" class=\"dataframe\">\n",
       "  <thead>\n",
       "    <tr style=\"text-align: right;\">\n",
       "      <th></th>\n",
       "      <th>0</th>\n",
       "    </tr>\n",
       "  </thead>\n",
       "  <tbody>\n",
       "    <tr>\n",
       "      <th>463</th>\n",
       "      <td>proved undeveloped</td>\n",
       "    </tr>\n",
       "    <tr>\n",
       "      <th>366</th>\n",
       "      <td>medicinal product</td>\n",
       "    </tr>\n",
       "    <tr>\n",
       "      <th>322</th>\n",
       "      <td>item risk</td>\n",
       "    </tr>\n",
       "    <tr>\n",
       "      <th>109</th>\n",
       "      <td>commercial real estate loan</td>\n",
       "    </tr>\n",
       "    <tr>\n",
       "      <th>163</th>\n",
       "      <td>deferred tax</td>\n",
       "    </tr>\n",
       "  </tbody>\n",
       "</table>\n",
       "</div>"
      ],
      "text/plain": [
       "                               0\n",
       "463           proved undeveloped\n",
       "366            medicinal product\n",
       "322                    item risk\n",
       "109  commercial real estate loan\n",
       "163                 deferred tax"
      ]
     },
     "execution_count": 2,
     "metadata": {},
     "output_type": "execute_result"
    }
   ],
   "source": [
    "feature_names = pd.DataFrame(pipe['count'].get_feature_names_out())\n",
    "feature_names.sample(5)"
   ]
  },
  {
   "cell_type": "markdown",
   "id": "61b74292-56c9-4de8-83ed-23fe1796df83",
   "metadata": {},
   "source": [
    "As you can see below, the matrix is quite sparse since some companies don't contain any occurrences of some terms."
   ]
  },
  {
   "cell_type": "code",
   "execution_count": 3,
   "id": "7d0a9055-05c1-4a34-9998-318d4d5c0671",
   "metadata": {
    "tags": [
     "hide-input"
    ]
   },
   "outputs": [
    {
     "data": {
      "text/html": [
       "<div>\n",
       "<style scoped>\n",
       "    .dataframe tbody tr th:only-of-type {\n",
       "        vertical-align: middle;\n",
       "    }\n",
       "\n",
       "    .dataframe tbody tr th {\n",
       "        vertical-align: top;\n",
       "    }\n",
       "\n",
       "    .dataframe thead th {\n",
       "        text-align: right;\n",
       "    }\n",
       "</style>\n",
       "<table border=\"1\" class=\"dataframe\">\n",
       "  <thead>\n",
       "    <tr style=\"text-align: right;\">\n",
       "      <th></th>\n",
       "      <th>0</th>\n",
       "      <th>1</th>\n",
       "      <th>2</th>\n",
       "      <th>3</th>\n",
       "      <th>4</th>\n",
       "      <th>5</th>\n",
       "      <th>6</th>\n",
       "      <th>7</th>\n",
       "      <th>8</th>\n",
       "      <th>9</th>\n",
       "      <th>...</th>\n",
       "      <th>590</th>\n",
       "      <th>591</th>\n",
       "      <th>592</th>\n",
       "      <th>593</th>\n",
       "      <th>594</th>\n",
       "      <th>595</th>\n",
       "      <th>596</th>\n",
       "      <th>597</th>\n",
       "      <th>598</th>\n",
       "      <th>599</th>\n",
       "    </tr>\n",
       "  </thead>\n",
       "  <tbody>\n",
       "    <tr>\n",
       "      <th>0</th>\n",
       "      <td>0.0</td>\n",
       "      <td>0.000000</td>\n",
       "      <td>0.0</td>\n",
       "      <td>0.000000</td>\n",
       "      <td>0.000000</td>\n",
       "      <td>0.000000</td>\n",
       "      <td>0.000000</td>\n",
       "      <td>0.0</td>\n",
       "      <td>0.000000</td>\n",
       "      <td>0.000000</td>\n",
       "      <td>...</td>\n",
       "      <td>0.0</td>\n",
       "      <td>0.0</td>\n",
       "      <td>0.000000</td>\n",
       "      <td>0.000000</td>\n",
       "      <td>0.0</td>\n",
       "      <td>0.0</td>\n",
       "      <td>0.142196</td>\n",
       "      <td>0.159010</td>\n",
       "      <td>0.0</td>\n",
       "      <td>0.000000</td>\n",
       "    </tr>\n",
       "    <tr>\n",
       "      <th>1</th>\n",
       "      <td>0.0</td>\n",
       "      <td>0.000000</td>\n",
       "      <td>0.0</td>\n",
       "      <td>0.000000</td>\n",
       "      <td>0.000000</td>\n",
       "      <td>0.000000</td>\n",
       "      <td>0.000000</td>\n",
       "      <td>0.0</td>\n",
       "      <td>0.000000</td>\n",
       "      <td>0.000000</td>\n",
       "      <td>...</td>\n",
       "      <td>0.0</td>\n",
       "      <td>0.0</td>\n",
       "      <td>0.000000</td>\n",
       "      <td>0.000000</td>\n",
       "      <td>0.0</td>\n",
       "      <td>0.0</td>\n",
       "      <td>0.000000</td>\n",
       "      <td>0.000000</td>\n",
       "      <td>0.0</td>\n",
       "      <td>0.000000</td>\n",
       "    </tr>\n",
       "    <tr>\n",
       "      <th>2</th>\n",
       "      <td>0.0</td>\n",
       "      <td>0.000000</td>\n",
       "      <td>0.0</td>\n",
       "      <td>0.000000</td>\n",
       "      <td>0.030074</td>\n",
       "      <td>0.000000</td>\n",
       "      <td>0.068363</td>\n",
       "      <td>0.0</td>\n",
       "      <td>0.000000</td>\n",
       "      <td>0.000000</td>\n",
       "      <td>...</td>\n",
       "      <td>0.0</td>\n",
       "      <td>0.0</td>\n",
       "      <td>0.000000</td>\n",
       "      <td>0.000000</td>\n",
       "      <td>0.0</td>\n",
       "      <td>0.0</td>\n",
       "      <td>0.000000</td>\n",
       "      <td>0.000000</td>\n",
       "      <td>0.0</td>\n",
       "      <td>0.000000</td>\n",
       "    </tr>\n",
       "    <tr>\n",
       "      <th>3</th>\n",
       "      <td>0.0</td>\n",
       "      <td>0.000000</td>\n",
       "      <td>0.0</td>\n",
       "      <td>0.000000</td>\n",
       "      <td>0.000000</td>\n",
       "      <td>0.000000</td>\n",
       "      <td>0.059925</td>\n",
       "      <td>0.0</td>\n",
       "      <td>0.000000</td>\n",
       "      <td>0.000000</td>\n",
       "      <td>...</td>\n",
       "      <td>0.0</td>\n",
       "      <td>0.0</td>\n",
       "      <td>0.000000</td>\n",
       "      <td>0.000000</td>\n",
       "      <td>0.0</td>\n",
       "      <td>0.0</td>\n",
       "      <td>0.070304</td>\n",
       "      <td>0.047170</td>\n",
       "      <td>0.0</td>\n",
       "      <td>0.000000</td>\n",
       "    </tr>\n",
       "    <tr>\n",
       "      <th>4</th>\n",
       "      <td>0.0</td>\n",
       "      <td>0.037094</td>\n",
       "      <td>0.0</td>\n",
       "      <td>0.002481</td>\n",
       "      <td>0.006809</td>\n",
       "      <td>0.010094</td>\n",
       "      <td>0.001935</td>\n",
       "      <td>0.0</td>\n",
       "      <td>0.010972</td>\n",
       "      <td>0.009869</td>\n",
       "      <td>...</td>\n",
       "      <td>0.0</td>\n",
       "      <td>0.0</td>\n",
       "      <td>0.050738</td>\n",
       "      <td>0.010656</td>\n",
       "      <td>0.0</td>\n",
       "      <td>0.0</td>\n",
       "      <td>0.000000</td>\n",
       "      <td>0.155342</td>\n",
       "      <td>0.0</td>\n",
       "      <td>0.011082</td>\n",
       "    </tr>\n",
       "  </tbody>\n",
       "</table>\n",
       "<p>5 rows × 600 columns</p>\n",
       "</div>"
      ],
      "text/plain": [
       "   0         1    2         3         4         5         6    7         8    \\\n",
       "0  0.0  0.000000  0.0  0.000000  0.000000  0.000000  0.000000  0.0  0.000000   \n",
       "1  0.0  0.000000  0.0  0.000000  0.000000  0.000000  0.000000  0.0  0.000000   \n",
       "2  0.0  0.000000  0.0  0.000000  0.030074  0.000000  0.068363  0.0  0.000000   \n",
       "3  0.0  0.000000  0.0  0.000000  0.000000  0.000000  0.059925  0.0  0.000000   \n",
       "4  0.0  0.037094  0.0  0.002481  0.006809  0.010094  0.001935  0.0  0.010972   \n",
       "\n",
       "        9    ...  590  591       592       593  594  595       596       597  \\\n",
       "0  0.000000  ...  0.0  0.0  0.000000  0.000000  0.0  0.0  0.142196  0.159010   \n",
       "1  0.000000  ...  0.0  0.0  0.000000  0.000000  0.0  0.0  0.000000  0.000000   \n",
       "2  0.000000  ...  0.0  0.0  0.000000  0.000000  0.0  0.0  0.000000  0.000000   \n",
       "3  0.000000  ...  0.0  0.0  0.000000  0.000000  0.0  0.0  0.070304  0.047170   \n",
       "4  0.009869  ...  0.0  0.0  0.050738  0.010656  0.0  0.0  0.000000  0.155342   \n",
       "\n",
       "   598       599  \n",
       "0  0.0  0.000000  \n",
       "1  0.0  0.000000  \n",
       "2  0.0  0.000000  \n",
       "3  0.0  0.000000  \n",
       "4  0.0  0.011082  \n",
       "\n",
       "[5 rows x 600 columns]"
      ]
     },
     "execution_count": 3,
     "metadata": {},
     "output_type": "execute_result"
    }
   ],
   "source": [
    "# The tf-idf matrix\n",
    "tfidf =  pd.DataFrame(pipe.transform(df[\"coDescription_stopwords\"]).toarray())\n",
    "tfidf.head()"
   ]
  },
  {
   "cell_type": "markdown",
   "id": "ca25baea-256f-4509-b702-3b761b1b6615",
   "metadata": {},
   "source": [
    "This is a 2D PCA reduction of that 600 dimensional space. We're plotting the first two dimensions, which capture the most variance."
   ]
  },
  {
   "cell_type": "code",
   "execution_count": 10,
   "id": "75048675-00d3-4571-9224-cc3a2d8339d5",
   "metadata": {
    "tags": [
     "remove-input"
    ]
   },
   "outputs": [
    {
     "data": {
      "application/vnd.plotly.v1+json": {
       "config": {
        "plotlyServerURL": "https://plot.ly"
       },
       "data": [
        {
         "customdata": [
          [
           "MONGODB, INC.",
           "Prepackaged Software (mass reproduction of software)"
          ],
          [
           "SALESFORCE COM INC",
           "Prepackaged Software (mass reproduction of software)"
          ],
          [
           "SPLUNK INC",
           "Prepackaged Software (mass reproduction of software)"
          ],
          [
           "OKTA, INC.",
           "Prepackaged Software (mass reproduction of software)"
          ],
          [
           "VEEVA SYSTEMS INC",
           "Prepackaged Software (mass reproduction of software)"
          ],
          [
           "AUTODESK INC",
           "Prepackaged Software (mass reproduction of software)"
          ],
          [
           "ETERNAL SPEECH, INC.",
           "Prepackaged Software (mass reproduction of software)"
          ],
          [
           "ETERNAL SPEECH, INC.",
           "Prepackaged Software (mass reproduction of software)"
          ],
          [
           "MAJESCO",
           "Prepackaged Software (mass reproduction of software)"
          ],
          [
           "DUO WORLD INC",
           "Prepackaged Software (mass reproduction of software)"
          ],
          [
           "COMMVAULT SYSTEMS INC",
           "Prepackaged Software (mass reproduction of software)"
          ],
          [
           "UPPERSOLUTION.COM",
           "Prepackaged Software (mass reproduction of software)"
          ],
          [
           "ORACLE CORP",
           "Prepackaged Software (mass reproduction of software)"
          ],
          [
           "SAVMOBI TECHNOLOGY INC.",
           "Prepackaged Software (mass reproduction of software)"
          ],
          [
           "ZEDGE, INC.",
           "Prepackaged Software (mass reproduction of software)"
          ],
          [
           "DESTINY MEDIA TECHNOLOGIES INC",
           "Prepackaged Software (mass reproduction of software)"
          ],
          [
           "TRAQER CORP",
           "Prepackaged Software (mass reproduction of software)"
          ],
          [
           "VISIBER57 CORP.",
           "Prepackaged Software (mass reproduction of software)"
          ],
          [
           "GH CAPITAL INC.",
           "Prepackaged Software (mass reproduction of software)"
          ],
          [
           "BRIDGELINE DIGITAL, INC.",
           "Prepackaged Software (mass reproduction of software)"
          ],
          [
           "NUANCE COMMUNICATIONS, INC.",
           "Prepackaged Software (mass reproduction of software)"
          ],
          [
           "DATAWATCH CORP",
           "Prepackaged Software (mass reproduction of software)"
          ],
          [
           "POLARITYTE, INC.",
           "Prepackaged Software (mass reproduction of software)"
          ],
          [
           "POLARITYTE, INC.",
           "Prepackaged Software (mass reproduction of software)"
          ],
          [
           "VGRAB COMMUNICATIONS INC.",
           "Prepackaged Software (mass reproduction of software)"
          ],
          [
           "VGRAB COMMUNICATIONS INC.",
           "Prepackaged Software (mass reproduction of software)"
          ],
          [
           "ADAIAH DISTRIBUTION INC",
           "Prepackaged Software (mass reproduction of software)"
          ],
          [
           "ADAIAH DISTRIBUTION INC",
           "Prepackaged Software (mass reproduction of software)"
          ],
          [
           "PROGRESS SOFTWARE CORP /MA",
           "Prepackaged Software (mass reproduction of software)"
          ],
          [
           "MEDICAL INFORMATION TECHNOLOGY, INC.",
           "Prepackaged Software (mass reproduction of software)"
          ],
          [
           "SPS COMMERCE INC",
           "Prepackaged Software (mass reproduction of software)"
          ],
          [
           "ALTERYX, INC.",
           "Prepackaged Software (mass reproduction of software)"
          ],
          [
           "INTELLIGENT SYSTEMS CORP",
           "Prepackaged Software (mass reproduction of software)"
          ],
          [
           "ALARM.COM HOLDINGS, INC.",
           "Prepackaged Software (mass reproduction of software)"
          ],
          [
           "LIGHTNING GAMING, INC.",
           "Prepackaged Software (mass reproduction of software)"
          ],
          [
           "ENDURANCE INTERNATIONAL GROUP HOLDINGS, INC.",
           "Prepackaged Software (mass reproduction of software)"
          ],
          [
           "2U, INC.",
           "Prepackaged Software (mass reproduction of software)"
          ],
          [
           "CISION LTD.",
           "Prepackaged Software (mass reproduction of software)"
          ],
          [
           "BTCS INC.",
           "Prepackaged Software (mass reproduction of software)"
          ],
          [
           "BTCS INC.",
           "Prepackaged Software (mass reproduction of software)"
          ],
          [
           "BTCS INC.",
           "Prepackaged Software (mass reproduction of software)"
          ],
          [
           "INTELLICHECK, INC.",
           "Prepackaged Software (mass reproduction of software)"
          ],
          [
           "REALPAGE INC",
           "Prepackaged Software (mass reproduction of software)"
          ],
          [
           "Q2 HOLDINGS, INC.",
           "Prepackaged Software (mass reproduction of software)"
          ],
          [
           "MCORPCX, INC.",
           "Prepackaged Software (mass reproduction of software)"
          ],
          [
           "QUALYS, INC.",
           "Prepackaged Software (mass reproduction of software)"
          ],
          [
           "MEDICAL TRANSCRIPTION BILLING, CORP",
           "Prepackaged Software (mass reproduction of software)"
          ],
          [
           "SMITH MICRO SOFTWARE INC",
           "Prepackaged Software (mass reproduction of software)"
          ],
          [
           "SHOTSPOTTER, INC",
           "Prepackaged Software (mass reproduction of software)"
          ],
          [
           "LONGWEN GROUP CORP.",
           "Prepackaged Software (mass reproduction of software)"
          ],
          [
           "ELLIE MAE INC",
           "Prepackaged Software (mass reproduction of software)"
          ],
          [
           "ROSETTA STONE INC",
           "Prepackaged Software (mass reproduction of software)"
          ],
          [
           "BLACK KNIGHT, INC.",
           "Prepackaged Software (mass reproduction of software)"
          ],
          [
           "MICROSTRATEGY INC",
           "Prepackaged Software (mass reproduction of software)"
          ],
          [
           "EMR TECHNOLOGY SOLUTIONS, INC.",
           "Prepackaged Software (mass reproduction of software)"
          ],
          [
           "PAYCOM SOFTWARE, INC.",
           "Prepackaged Software (mass reproduction of software)"
          ],
          [
           "3D SYSTEMS CORP",
           "Prepackaged Software (mass reproduction of software)"
          ],
          [
           "APPIAN CORP",
           "Prepackaged Software (mass reproduction of software)"
          ],
          [
           "UPLAND SOFTWARE, INC.",
           "Prepackaged Software (mass reproduction of software)"
          ],
          [
           "LIVEPERSON INC",
           "Prepackaged Software (mass reproduction of software)"
          ],
          [
           "AWARE INC /MA/",
           "Prepackaged Software (mass reproduction of software)"
          ],
          [
           "ULTIMATE SOFTWARE GROUP INC",
           "Prepackaged Software (mass reproduction of software)"
          ],
          [
           "ANSYS INC",
           "Prepackaged Software (mass reproduction of software)"
          ],
          [
           "AVID TECHNOLOGY, INC.",
           "Prepackaged Software (mass reproduction of software)"
          ],
          [
           "NATIONAL INSTRUMENTS CORP",
           "Prepackaged Software (mass reproduction of software)"
          ],
          [
           "INSPRO TECHNOLOGIES CORP",
           "Prepackaged Software (mass reproduction of software)"
          ],
          [
           "QUMU CORP",
           "Prepackaged Software (mass reproduction of software)"
          ],
          [
           "ACI WORLDWIDE, INC.",
           "Prepackaged Software (mass reproduction of software)"
          ],
          [
           "SQUARE, INC.",
           "Prepackaged Software (mass reproduction of software)"
          ],
          [
           "ALTAIR ENGINEERING INC.",
           "Prepackaged Software (mass reproduction of software)"
          ],
          [
           "TALEND SA",
           "Prepackaged Software (mass reproduction of software)"
          ],
          [
           "APPFOLIO INC",
           "Prepackaged Software (mass reproduction of software)"
          ],
          [
           "GSE SYSTEMS INC",
           "Prepackaged Software (mass reproduction of software)"
          ],
          [
           "IPSIDY INC.",
           "Prepackaged Software (mass reproduction of software)"
          ],
          [
           "INTELLINETICS, INC.",
           "Prepackaged Software (mass reproduction of software)"
          ],
          [
           "INTELLINETICS, INC.",
           "Prepackaged Software (mass reproduction of software)"
          ],
          [
           "IIOT-OXYS, INC.",
           "Prepackaged Software (mass reproduction of software)"
          ],
          [
           "NEWGIOCO GROUP, INC.",
           "Prepackaged Software (mass reproduction of software)"
          ],
          [
           "WORKIVA INC",
           "Prepackaged Software (mass reproduction of software)"
          ],
          [
           "TABLEAU SOFTWARE INC",
           "Prepackaged Software (mass reproduction of software)"
          ]
         ],
         "hovertemplate": "color=Prepackaged Software (mass reproduction of software)<br>0=%{x}<br>1=%{y}<br>name=%{customdata[0]}<br>industry=%{customdata[1]}<extra></extra>",
         "legendgroup": "Prepackaged Software (mass reproduction of software)",
         "marker": {
          "color": "#636efa",
          "symbol": "circle"
         },
         "mode": "markers",
         "name": "Prepackaged Software (mass reproduction of software)",
         "orientation": "v",
         "showlegend": true,
         "type": "scatter",
         "x": [
          -0.08898937713306726,
          -0.021609906790454044,
          -0.048425271266171,
          -0.08850959250692716,
          0.006313932852060821,
          -0.057229208902906746,
          -0.013322836251161464,
          -0.013322836251161464,
          -0.01567430423878135,
          -0.043156980579877956,
          -0.0662501884562171,
          -0.058412273095123285,
          -0.009891943937656512,
          -0.0024806789622232074,
          -0.007023269201751469,
          -0.08390229127870236,
          0.0478156901952963,
          -0.0021173111229734185,
          0.012012382613462306,
          -0.033713821830963116,
          -0.045720198218397394,
          -0.034011060568648555,
          -0.34207141897230686,
          -0.34207141897230686,
          0.04865799504821164,
          0.04865799504821164,
          0.03443329799265777,
          0.03443329799265777,
          -0.03127621575143739,
          -0.03641931255949607,
          -0.0012882185893910002,
          -0.10411965415479783,
          0.024665818872866313,
          -0.032375689443579915,
          -0.07814868869816993,
          -0.05453489129749403,
          -0.018351070814382184,
          -0.05373447775335721,
          0.06920153566157604,
          0.06920153566157604,
          0.06920153566157604,
          0.011206668697579417,
          0.10482440843767633,
          0.04339833290198209,
          -0.022676671981945253,
          -0.07094765106324097,
          0.003976315264159174,
          -0.09282992802128369,
          -0.10170562203671386,
          0.038081728706965697,
          0.023998120627736316,
          -0.03877453030778394,
          0.21211960019447118,
          -0.031121272160104574,
          -0.10323672764867253,
          -0.04981221740193405,
          -0.011015208177383867,
          -0.050347961374903105,
          -0.025409326914672153,
          -0.09023224819536707,
          -0.06440710213849182,
          -0.014830355480477023,
          0.017211525460242946,
          -0.07455515172122593,
          -0.044455461617454,
          0.004165269319779241,
          -0.05471978378205432,
          0.0026298443208501677,
          -0.03539947640315238,
          -0.08486730203946212,
          -0.08000824998867455,
          0.10366818615171765,
          0.041231477197715125,
          -0.04730751021769797,
          0.03031506046225564,
          0.03031506046225564,
          -0.0921088631238819,
          -0.026824040555147737,
          -0.03267077099697832,
          -0.11655778779845256
         ],
         "xaxis": "x",
         "y": [
          -0.10697408611179222,
          -0.12067199449570377,
          -0.11716038143030366,
          -0.0954036657428221,
          -0.181254079448241,
          -0.07497791002380538,
          -0.06586281427701174,
          -0.06586281427701174,
          -0.17099482451685133,
          -0.1186855523000678,
          -0.0704230191486554,
          -0.12303923262230991,
          -0.09832936692603136,
          -0.14514031064479274,
          -0.06439514904530239,
          -0.06640365802349606,
          -0.06334029624836864,
          -0.09740525643102634,
          -0.08287460707435328,
          -0.1257943826457803,
          -0.08894379350565863,
          -0.09336838123386247,
          0.14131398372304438,
          0.14131398372304438,
          -0.08739322218545807,
          -0.08739322218545807,
          -0.16953537523820217,
          -0.16953537523820217,
          -0.13295701576371258,
          -0.08312694740612145,
          -0.12659333955674262,
          -0.07730605889343709,
          -0.1400048009500539,
          -0.06186757897937781,
          -0.04758159526887664,
          -0.14844535250452062,
          -0.10032745236977549,
          -0.10444187220182614,
          -0.09463441243637839,
          -0.09463441243637839,
          -0.09463441243637839,
          -0.06828139269367327,
          -0.25848336019224455,
          -0.010320006226569006,
          -0.17668209404861643,
          -0.09332527854330046,
          -0.14488702441666476,
          -0.06348431218857298,
          -0.11040694623030495,
          -0.15123835710471212,
          -0.08885297094933253,
          -0.1258969151063656,
          -0.11804359949446276,
          -0.12107701637744737,
          -0.016428505411291303,
          -0.14146921604778748,
          -0.07057013303233618,
          -0.08670470457835916,
          -0.13635891325106564,
          -0.07650531512765602,
          -0.04914989921446673,
          -0.10579372266961692,
          -0.08933984634620351,
          -0.08160275018702606,
          -0.11650963072011167,
          -0.1139349483059687,
          -0.13593976511892505,
          -0.03347493740435905,
          -0.05280718347395385,
          -0.07327666741645708,
          -0.09261454984409394,
          -0.26784354479363015,
          -0.177369737634779,
          -0.05575363603168058,
          -0.10221768025676045,
          -0.10221768025676045,
          -0.06890295930496353,
          -0.11798829760205858,
          -0.05703883506335904,
          -0.0778372757670251
         ],
         "yaxis": "y"
        },
        {
         "customdata": [
          [
           "INTERNATIONAL WESTERN PETROLEUM, INC.",
           "Crude Petroleum and Natural Gas"
          ],
          [
           "DAYBREAK OIL & GAS, INC.",
           "Crude Petroleum and Natural Gas"
          ],
          [
           "GB SCIENCES INC",
           "Crude Petroleum and Natural Gas"
          ],
          [
           "FREEDOM HOLDING CORP.",
           "Crude Petroleum and Natural Gas"
          ],
          [
           "MEXCO ENERGY CORP",
           "Crude Petroleum and Natural Gas"
          ],
          [
           "SUSTAINABLE PROJECTS GROUP INC.",
           "Crude Petroleum and Natural Gas"
          ],
          [
           "AMERICAN ENERGY GROUP LTD",
           "Crude Petroleum and Natural Gas"
          ],
          [
           "REDHAWK HOLDINGS CORP.",
           "Crude Petroleum and Natural Gas"
          ],
          [
           "TIANCI INTERNATIONAL, INC.",
           "Crude Petroleum and Natural Gas"
          ],
          [
           "AMAZING ENERGY OIL & GAS, CO.",
           "Crude Petroleum and Natural Gas"
          ],
          [
           "ALTEX INDUSTRIES INC",
           "Crude Petroleum and Natural Gas"
          ],
          [
           "BARNWELL INDUSTRIES INC",
           "Crude Petroleum and Natural Gas"
          ],
          [
           "PANHANDLE OIL & GAS INC",
           "Crude Petroleum and Natural Gas"
          ],
          [
           "ENERGY 11, L.P.",
           "Crude Petroleum and Natural Gas"
          ],
          [
           "ABRAXAS PETROLEUM CORP",
           "Crude Petroleum and Natural Gas"
          ],
          [
           "SEARS OIL & GAS",
           "Crude Petroleum and Natural Gas"
          ],
          [
           "APACHE CORP",
           "Crude Petroleum and Natural Gas"
          ],
          [
           "GULFPORT ENERGY CORP",
           "Crude Petroleum and Natural Gas"
          ],
          [
           "CONTINENTAL RESOURCES, INC",
           "Crude Petroleum and Natural Gas"
          ],
          [
           "ISRAMCO INC",
           "Crude Petroleum and Natural Gas"
          ],
          [
           "CHAPARRAL ENERGY, INC.",
           "Crude Petroleum and Natural Gas"
          ],
          [
           "WHITING PETROLEUM CORP",
           "Crude Petroleum and Natural Gas"
          ],
          [
           "CONTANGO OIL & GAS CO",
           "Crude Petroleum and Natural Gas"
          ],
          [
           "EARTHSTONE ENERGY INC",
           "Crude Petroleum and Natural Gas"
          ],
          [
           "CLEAN COAL TECHNOLOGIES INC.",
           "Crude Petroleum and Natural Gas"
          ],
          [
           "NORTHERN OIL & GAS, INC.",
           "Crude Petroleum and Natural Gas"
          ],
          [
           "SRC ENERGY INC.",
           "Crude Petroleum and Natural Gas"
          ],
          [
           "JONES ENERGY, INC.",
           "Crude Petroleum and Natural Gas"
          ],
          [
           "GOODRICH PETROLEUM CORP",
           "Crude Petroleum and Natural Gas"
          ],
          [
           "OCCIDENTAL PETROLEUM CORP /DE/",
           "Crude Petroleum and Natural Gas"
          ],
          [
           "LONESTAR RESOURCES US INC.",
           "Crude Petroleum and Natural Gas"
          ],
          [
           "NOBLE ENERGY INC",
           "Crude Petroleum and Natural Gas"
          ],
          [
           "PIONEER NATURAL RESOURCES CO",
           "Crude Petroleum and Natural Gas"
          ],
          [
           "BONANZA CREEK ENERGY, INC.",
           "Crude Petroleum and Natural Gas"
          ],
          [
           "DEVON ENERGY CORP/DE",
           "Crude Petroleum and Natural Gas"
          ],
          [
           "CALIFORNIA RESOURCES CORP",
           "Crude Petroleum and Natural Gas"
          ],
          [
           "PARK PLACE ENERGY INC.",
           "Crude Petroleum and Natural Gas"
          ],
          [
           "ANTERO RESOURCES CORP",
           "Crude Petroleum and Natural Gas"
          ],
          [
           "LAREDO PETROLEUM, INC.",
           "Crude Petroleum and Natural Gas"
          ],
          [
           "CIMAREX ENERGY CO",
           "Crude Petroleum and Natural Gas"
          ],
          [
           "ALTA MESA HOLDINGS, LP",
           "Crude Petroleum and Natural Gas"
          ],
          [
           "US ENERGY CORP",
           "Crude Petroleum and Natural Gas"
          ],
          [
           "VICTORY ENERGY CORP",
           "Crude Petroleum and Natural Gas"
          ],
          [
           "VICTORY ENERGY CORP",
           "Crude Petroleum and Natural Gas"
          ],
          [
           "GRAN TIERRA ENERGY INC.",
           "Crude Petroleum and Natural Gas"
          ],
          [
           "MIDSTATES PETROLEUM COMPANY, INC.",
           "Crude Petroleum and Natural Gas"
          ],
          [
           "WILDHORSE RESOURCE DEVELOPMENT CORP",
           "Crude Petroleum and Natural Gas"
          ],
          [
           "SM ENERGY CO",
           "Crude Petroleum and Natural Gas"
          ],
          [
           "SANDRIDGE ENERGY INC",
           "Crude Petroleum and Natural Gas"
          ],
          [
           "RING ENERGY, INC.",
           "Crude Petroleum and Natural Gas"
          ],
          [
           "SANCHEZ ENERGY CORP",
           "Crude Petroleum and Natural Gas"
          ],
          [
           "TETRA TECHNOLOGIES INC",
           "Crude Petroleum and Natural Gas"
          ],
          [
           "RESERVE PETROLEUM CO",
           "Crude Petroleum and Natural Gas"
          ],
          [
           "HESS MIDSTREAM PARTNERS LP",
           "Crude Petroleum and Natural Gas"
          ],
          [
           "TORCHLIGHT ENERGY RESOURCES INC",
           "Crude Petroleum and Natural Gas"
          ],
          [
           "LINN ENERGY, INC.",
           "Crude Petroleum and Natural Gas"
          ],
          [
           "KOSMOS ENERGY LTD.",
           "Crude Petroleum and Natural Gas"
          ],
          [
           "SILVERBOW RESOURCES, INC.",
           "Crude Petroleum and Natural Gas"
          ],
          [
           "TELLURIAN INC. /DE/",
           "Crude Petroleum and Natural Gas"
          ],
          [
           "DORCHESTER MINERALS, L.P.",
           "Crude Petroleum and Natural Gas"
          ],
          [
           "MATADOR RESOURCES CO",
           "Crude Petroleum and Natural Gas"
          ],
          [
           "PDC ENERGY, INC.",
           "Crude Petroleum and Natural Gas"
          ],
          [
           "TEXAS SOUTH ENERGY, INC.",
           "Crude Petroleum and Natural Gas"
          ],
          [
           "PEDEVCO CORP",
           "Crude Petroleum and Natural Gas"
          ],
          [
           "VIPER ENERGY PARTNERS LP",
           "Crude Petroleum and Natural Gas"
          ],
          [
           "ENERJEX RESOURCES, INC.",
           "Crude Petroleum and Natural Gas"
          ],
          [
           "TENGASCO INC",
           "Crude Petroleum and Natural Gas"
          ],
          [
           "KIMBELL ROYALTY PARTNERS, LP",
           "Crude Petroleum and Natural Gas"
          ],
          [
           "CONCHO RESOURCES INC",
           "Crude Petroleum and Natural Gas"
          ],
          [
           "APACHE OFFSHORE INVESTMENT PARTNERSHIP",
           "Crude Petroleum and Natural Gas"
          ],
          [
           "EVERFLOW EASTERN PARTNERS LP",
           "Crude Petroleum and Natural Gas"
          ],
          [
           "CHESAPEAKE ENERGY CORP",
           "Crude Petroleum and Natural Gas"
          ],
          [
           "CARRIZO OIL & GAS INC",
           "Crude Petroleum and Natural Gas"
          ],
          [
           "CALLON PETROLEUM CO",
           "Crude Petroleum and Natural Gas"
          ],
          [
           "PENN VIRGINIA CORP",
           "Crude Petroleum and Natural Gas"
          ],
          [
           "DIAMONDBACK ENERGY, INC.",
           "Crude Petroleum and Natural Gas"
          ],
          [
           "COMSTOCK RESOURCES INC",
           "Crude Petroleum and Natural Gas"
          ],
          [
           "DALA PETROLEUM CORP.",
           "Crude Petroleum and Natural Gas"
          ],
          [
           "WPX ENERGY, INC.",
           "Crude Petroleum and Natural Gas"
          ],
          [
           "LILIS ENERGY, INC.",
           "Crude Petroleum and Natural Gas"
          ]
         ],
         "hovertemplate": "color=Crude Petroleum and Natural Gas<br>0=%{x}<br>1=%{y}<br>name=%{customdata[0]}<br>industry=%{customdata[1]}<extra></extra>",
         "legendgroup": "Crude Petroleum and Natural Gas",
         "marker": {
          "color": "#EF553B",
          "symbol": "circle"
         },
         "mode": "markers",
         "name": "Crude Petroleum and Natural Gas",
         "orientation": "v",
         "showlegend": true,
         "type": "scatter",
         "x": [
          -0.009021144164475194,
          -0.013546413228611817,
          -0.24967634165078229,
          0.09788243426134732,
          -0.0031122506615259256,
          0.003426602825133211,
          0.04043779340054223,
          0.011748668321156347,
          0.01913120795538978,
          -0.015123974420406359,
          0.025445740935345983,
          -0.008826423169109003,
          -0.011241531956821966,
          -0.013246848811814468,
          -0.004223235747707483,
          -0.014416644203947693,
          -0.005633236294985512,
          -0.014378076704433043,
          -0.011195578186884306,
          -0.014619002276252475,
          0.0034176723655516,
          -0.005647613312757315,
          -0.014283446473278094,
          -0.0016906976569236276,
          -0.13655428851310655,
          -0.011288326739707847,
          -0.012213197242946863,
          -0.003102986472286045,
          0.0012035372764161484,
          -0.008729376352907827,
          -0.011498109617633331,
          0.02983714889617697,
          0.0011156774657221378,
          -0.008245615493116955,
          0.008738817282204369,
          0.03978278577528364,
          -0.03979370772782781,
          0.009851167121297461,
          -0.0021997284496755466,
          0.00773797138217896,
          -0.004188889301235937,
          -0.007289714381664603,
          -0.011810672943134036,
          -0.011810672943134036,
          -0.007209917162669412,
          -0.003173679793104627,
          -0.002989131315014492,
          -0.003405035252203806,
          -0.012834248831139384,
          -0.013876176479127157,
          -0.011594633911260855,
          -0.032056455994072613,
          0.004899695028286105,
          0.011567647212185755,
          -0.02559475564488351,
          0.0016887658545143506,
          -0.002919285085421466,
          -0.0088039913598711,
          -0.00987083253731244,
          -0.0041462457189863,
          -0.009844578165423003,
          0.007773210523481455,
          0.0009587270570173915,
          -0.0044601195490525155,
          -0.0012751775085049887,
          -0.07671438506776207,
          0.012924677748726065,
          -0.012681533039591167,
          -0.00667885443681093,
          0.015355122014514073,
          -0.005768675718983163,
          -0.0026135407888584184,
          -0.002508759947801446,
          0.006898341236440977,
          -0.009809778725866712,
          0.0011176437914110241,
          -0.005882441064131026,
          0.02433831150742792,
          -0.002933514925348039,
          -0.0009419884718556902
         ],
         "xaxis": "x",
         "y": [
          -0.35542886810964786,
          -0.2475924344695509,
          0.06596999775082245,
          0.011670106743426542,
          -0.31069907339854325,
          -0.12787576312439541,
          -0.08470743571477671,
          -0.12526502540045534,
          -0.16552513179970507,
          -0.3499119442954823,
          -0.12842132528533734,
          -0.3353996470240163,
          -0.33032099214976046,
          -0.3450330787152752,
          -0.21541234261263437,
          -0.14633076573549822,
          -0.3256141006249318,
          -0.34198105742811546,
          -0.29174642722651756,
          -0.35374692103530336,
          -0.37456915492583004,
          -0.321216617016276,
          -0.047246916884780076,
          -0.3034211877448563,
          -0.0713910016965288,
          -0.3559556915929647,
          -0.3494068636112928,
          -0.34792718050280774,
          -0.36980005913913727,
          -0.3404570404337141,
          -0.31973949455513956,
          -0.32093355497042003,
          -0.22216302990684705,
          -0.35518286455217135,
          -0.2026049946448618,
          -0.2724744610946846,
          -0.3157705274894607,
          -0.3338410166970857,
          -0.3488854621539156,
          -0.24151755835422722,
          -0.2995282218373065,
          -0.3492054394785452,
          -0.27845196257782423,
          -0.27845196257782423,
          -0.3538591571183454,
          -0.35951036658962693,
          -0.3434024670593478,
          -0.20440167479765925,
          -0.34005566175815255,
          -0.3372571190932119,
          -0.3348351978116211,
          -0.24104553514678279,
          -0.22628746561951524,
          -0.25585444898543686,
          -0.2002251836460059,
          -0.3519240915141266,
          -0.3313408596744421,
          -0.3407227477872141,
          -0.3328143862422216,
          -0.3238651035543591,
          -0.33348487743983746,
          -0.2938525678461198,
          -0.19302067690945487,
          -0.08178639622117463,
          -0.3408868974540352,
          -0.07862531396062454,
          -0.20642007455155958,
          -0.3540037705238906,
          -0.3524850307372251,
          -0.30571958439745656,
          -0.3164938379844268,
          -0.3122317411189126,
          -0.29389209766416724,
          -0.3505351871816401,
          -0.2442127220530522,
          -0.36512481519340645,
          -0.3463500330732656,
          -0.19936740931627517,
          -0.3673882214805096,
          -0.3520745471673444
         ],
         "yaxis": "y"
        },
        {
         "customdata": [
          [
           "ULURU INC.",
           "Pharmaceutical Preparations"
          ],
          [
           "CHINA YCT INTERNATIONAL GROUP, INC.",
           "Pharmaceutical Preparations"
          ],
          [
           "AXOVANT SCIENCES LTD.",
           "Pharmaceutical Preparations"
          ],
          [
           "MYOVANT SCIENCES LTD.",
           "Pharmaceutical Preparations"
          ],
          [
           "PRESTIGE BRANDS HOLDINGS, INC.",
           "Pharmaceutical Preparations"
          ],
          [
           "HYPGEN INC",
           "Pharmaceutical Preparations"
          ],
          [
           "HYPGEN INC",
           "Pharmaceutical Preparations"
          ],
          [
           "DANDRIT BIOTECH USA, INC.",
           "Pharmaceutical Preparations"
          ],
          [
           "REZOLUTE, INC.",
           "Pharmaceutical Preparations"
          ],
          [
           "OPTEC INTERNATIONAL, INC.",
           "Pharmaceutical Preparations"
          ],
          [
           "OPTEC INTERNATIONAL, INC.",
           "Pharmaceutical Preparations"
          ],
          [
           "BIOVIE INC.",
           "Pharmaceutical Preparations"
          ],
          [
           "ONCOSEC MEDICAL INC",
           "Pharmaceutical Preparations"
          ],
          [
           "CANNABICS PHARMACEUTICALS INC.",
           "Pharmaceutical Preparations"
          ],
          [
           "ORAMED PHARMACEUTICALS INC.",
           "Pharmaceutical Preparations"
          ],
          [
           "ENTEST BIOMEDICAL, INC.",
           "Pharmaceutical Preparations"
          ],
          [
           "MY CLOUDZ, INC.",
           "Pharmaceutical Preparations"
          ],
          [
           "MY CLOUDZ, INC.",
           "Pharmaceutical Preparations"
          ],
          [
           "ENANTA PHARMACEUTICALS INC",
           "Pharmaceutical Preparations"
          ],
          [
           "CITIUS PHARMACEUTICALS, INC.",
           "Pharmaceutical Preparations"
          ],
          [
           "STELLAR BIOTECHNOLOGIES, INC.",
           "Pharmaceutical Preparations"
          ],
          [
           "REGEN BIOPHARMA INC",
           "Pharmaceutical Preparations"
          ],
          [
           "REGEN BIOPHARMA INC",
           "Pharmaceutical Preparations"
          ],
          [
           "ADVAXIS, INC.",
           "Pharmaceutical Preparations"
          ],
          [
           "ORGENESIS INC.",
           "Pharmaceutical Preparations"
          ],
          [
           "Q BIOMED INC.",
           "Pharmaceutical Preparations"
          ],
          [
           "JOHNSON & JOHNSON",
           "Pharmaceutical Preparations"
          ],
          [
           "BRISTOL MYERS SQUIBB CO",
           "Pharmaceutical Preparations"
          ],
          [
           "VBI VACCINES INC/BC",
           "Pharmaceutical Preparations"
          ],
          [
           "INTRA-CELLULAR THERAPIES, INC.",
           "Pharmaceutical Preparations"
          ],
          [
           "ROCKET PHARMACEUTICALS, INC.",
           "Pharmaceutical Preparations"
          ],
          [
           "ATLAS HOLDINGS, INC.",
           "Pharmaceutical Preparations"
          ],
          [
           "NEMUS BIOSCIENCE, INC.",
           "Pharmaceutical Preparations"
          ],
          [
           "NEMUS BIOSCIENCE, INC.",
           "Pharmaceutical Preparations"
          ],
          [
           "OVASCIENCE, INC.",
           "Pharmaceutical Preparations"
          ],
          [
           "CONCERT PHARMACEUTICALS, INC.",
           "Pharmaceutical Preparations"
          ],
          [
           "AKCEA THERAPEUTICS, INC.",
           "Pharmaceutical Preparations"
          ],
          [
           "ARQULE INC",
           "Pharmaceutical Preparations"
          ],
          [
           "AXIM BIOTECHNOLOGIES, INC.",
           "Pharmaceutical Preparations"
          ],
          [
           "GUARDION HEALTH SCIENCES, INC.",
           "Pharmaceutical Preparations"
          ],
          [
           "RETROPHIN, INC.",
           "Pharmaceutical Preparations"
          ],
          [
           "SYNDAX PHARMACEUTICALS INC",
           "Pharmaceutical Preparations"
          ],
          [
           "FIBROGEN INC",
           "Pharmaceutical Preparations"
          ],
          [
           "PROTOKINETIX, INC.",
           "Pharmaceutical Preparations"
          ],
          [
           "PROGENICS PHARMACEUTICALS INC",
           "Pharmaceutical Preparations"
          ],
          [
           "CHECKPOINT THERAPEUTICS, INC.",
           "Pharmaceutical Preparations"
          ],
          [
           "PFENEX INC.",
           "Pharmaceutical Preparations"
          ],
          [
           "PAIN THERAPEUTICS INC",
           "Pharmaceutical Preparations"
          ],
          [
           "ZOMEDICA PHARMACEUTICALS CORP.",
           "Pharmaceutical Preparations"
          ],
          [
           "ZOMEDICA PHARMACEUTICALS CORP.",
           "Pharmaceutical Preparations"
          ],
          [
           "MOLECULAR TEMPLATES, INC.",
           "Pharmaceutical Preparations"
          ],
          [
           "WAVE LIFE SCIENCES LTD.",
           "Pharmaceutical Preparations"
          ],
          [
           "CYMABAY THERAPEUTICS, INC.",
           "Pharmaceutical Preparations"
          ],
          [
           "AMICUS THERAPEUTICS INC",
           "Pharmaceutical Preparations"
          ],
          [
           "EVOKE PHARMA INC",
           "Pharmaceutical Preparations"
          ],
          [
           "CHEMBIO DIAGNOSTICS, INC.",
           "Pharmaceutical Preparations"
          ],
          [
           "CARA THERAPEUTICS, INC.",
           "Pharmaceutical Preparations"
          ],
          [
           "CYTOMX THERAPEUTICS, INC.",
           "Pharmaceutical Preparations"
          ],
          [
           "XENCOR INC",
           "Pharmaceutical Preparations"
          ],
          [
           "CATABASIS PHARMACEUTICALS INC",
           "Pharmaceutical Preparations"
          ],
          [
           "SERES THERAPEUTICS, INC.",
           "Pharmaceutical Preparations"
          ],
          [
           "EYEGATE PHARMACEUTICALS INC",
           "Pharmaceutical Preparations"
          ],
          [
           "ARENA PHARMACEUTICALS INC",
           "Pharmaceutical Preparations"
          ],
          [
           "ALEXION PHARMACEUTICALS INC",
           "Pharmaceutical Preparations"
          ],
          [
           "MELINTA THERAPEUTICS, INC. /NEW/",
           "Pharmaceutical Preparations"
          ],
          [
           "FIVE PRIME THERAPEUTICS INC",
           "Pharmaceutical Preparations"
          ],
          [
           "LIXTE BIOTECHNOLOGY HOLDINGS, INC.",
           "Pharmaceutical Preparations"
          ],
          [
           "ARATANA THERAPEUTICS, INC.",
           "Pharmaceutical Preparations"
          ],
          [
           "CHIASMA, INC",
           "Pharmaceutical Preparations"
          ],
          [
           "CELGENE CORP /DE/",
           "Pharmaceutical Preparations"
          ],
          [
           "NEWLINK GENETICS CORP",
           "Pharmaceutical Preparations"
          ],
          [
           "LIGAND PHARMACEUTICALS INC",
           "Pharmaceutical Preparations"
          ],
          [
           "PORTOLA PHARMACEUTICALS INC",
           "Pharmaceutical Preparations"
          ],
          [
           "PLX PHARMA INC.",
           "Pharmaceutical Preparations"
          ],
          [
           "ARDELYX, INC.",
           "Pharmaceutical Preparations"
          ],
          [
           "PROTAGONIST THERAPEUTICS, INC",
           "Pharmaceutical Preparations"
          ],
          [
           "MOLECULIN BIOTECH, INC.",
           "Pharmaceutical Preparations"
          ],
          [
           "IRONWOOD PHARMACEUTICALS INC",
           "Pharmaceutical Preparations"
          ],
          [
           "FORTRESS BIOTECH, INC.",
           "Pharmaceutical Preparations"
          ],
          [
           "SYNTHETIC BIOLOGICS, INC.",
           "Pharmaceutical Preparations"
          ],
          [
           "OPTINOSE, INC.",
           "Pharmaceutical Preparations"
          ],
          [
           "CORMEDIX INC.",
           "Pharmaceutical Preparations"
          ],
          [
           "HEAT BIOLOGICS, INC.",
           "Pharmaceutical Preparations"
          ],
          [
           "SUN BIOPHARMA, INC.",
           "Pharmaceutical Preparations"
          ],
          [
           "BELLEROPHON THERAPEUTICS, INC.",
           "Pharmaceutical Preparations"
          ],
          [
           "BIOSPECIFICS TECHNOLOGIES CORP",
           "Pharmaceutical Preparations"
          ],
          [
           "ZOSANO PHARMA CORP",
           "Pharmaceutical Preparations"
          ],
          [
           "CV SCIENCES, INC.",
           "Pharmaceutical Preparations"
          ],
          [
           "LILLY ELI & CO",
           "Pharmaceutical Preparations"
          ],
          [
           "SAREPTA THERAPEUTICS, INC.",
           "Pharmaceutical Preparations"
          ],
          [
           "EXICURE, INC.",
           "Pharmaceutical Preparations"
          ],
          [
           "OVID THERAPEUTICS INC.",
           "Pharmaceutical Preparations"
          ],
          [
           "IMPRIMIS PHARMACEUTICALS, INC.",
           "Pharmaceutical Preparations"
          ],
          [
           "IONIS PHARMACEUTICALS INC",
           "Pharmaceutical Preparations"
          ],
          [
           "ONCOMED PHARMACEUTICALS INC",
           "Pharmaceutical Preparations"
          ],
          [
           "TONIX PHARMACEUTICALS HOLDING CORP.",
           "Pharmaceutical Preparations"
          ],
          [
           "TEVA PHARMACEUTICAL INDUSTRIES LTD",
           "Pharmaceutical Preparations"
          ],
          [
           "RHYTHM PHARMACEUTICALS, INC.",
           "Pharmaceutical Preparations"
          ],
          [
           "COCRYSTAL PHARMA, INC.",
           "Pharmaceutical Preparations"
          ],
          [
           "REGENERON PHARMACEUTICALS INC",
           "Pharmaceutical Preparations"
          ],
          [
           "ANI PHARMACEUTICALS INC",
           "Pharmaceutical Preparations"
          ],
          [
           "CLEARSIDE BIOMEDICAL, INC.",
           "Pharmaceutical Preparations"
          ],
          [
           "LIPOCINE INC.",
           "Pharmaceutical Preparations"
          ],
          [
           "GALECTIN THERAPEUTICS INC",
           "Pharmaceutical Preparations"
          ],
          [
           "STEMLINE THERAPEUTICS INC",
           "Pharmaceutical Preparations"
          ],
          [
           "DOVA PHARMACEUTICALS, INC.",
           "Pharmaceutical Preparations"
          ],
          [
           "ABBVIE INC.",
           "Pharmaceutical Preparations"
          ],
          [
           "AKORN INC",
           "Pharmaceutical Preparations"
          ],
          [
           "VALEANT PHARMACEUTICALS INTERNATIONAL, INC.",
           "Pharmaceutical Preparations"
          ],
          [
           "INTELGENX TECHNOLOGIES CORP.",
           "Pharmaceutical Preparations"
          ],
          [
           "PFIZER INC",
           "Pharmaceutical Preparations"
          ],
          [
           "SKINVISIBLE INC",
           "Pharmaceutical Preparations"
          ],
          [
           "TAPIMMUNE INC.",
           "Pharmaceutical Preparations"
          ],
          [
           "THERAPEUTICSMD, INC.",
           "Pharmaceutical Preparations"
          ],
          [
           "AQUINOX PHARMACEUTICALS, INC",
           "Pharmaceutical Preparations"
          ],
          [
           "GLOBAL BLOOD THERAPEUTICS, INC.",
           "Pharmaceutical Preparations"
          ],
          [
           "RIGEL PHARMACEUTICALS INC",
           "Pharmaceutical Preparations"
          ],
          [
           "PARATEK PHARMACEUTICALS, INC.",
           "Pharmaceutical Preparations"
          ],
          [
           "PERRIGO CO PLC",
           "Pharmaceutical Preparations"
          ],
          [
           "ZAFGEN, INC.",
           "Pharmaceutical Preparations"
          ],
          [
           "OPHTHOTECH CORP.",
           "Pharmaceutical Preparations"
          ],
          [
           "ACHILLION PHARMACEUTICALS INC",
           "Pharmaceutical Preparations"
          ],
          [
           "KEMPHARM, INC",
           "Pharmaceutical Preparations"
          ],
          [
           "INTERCEPT PHARMACEUTICALS INC",
           "Pharmaceutical Preparations"
          ],
          [
           "ULTRAGENYX PHARMACEUTICAL INC.",
           "Pharmaceutical Preparations"
          ],
          [
           "EMERGENT BIOSOLUTIONS INC.",
           "Pharmaceutical Preparations"
          ],
          [
           "ACER THERAPEUTICS INC.",
           "Pharmaceutical Preparations"
          ],
          [
           "HERON THERAPEUTICS, INC. /DE/",
           "Pharmaceutical Preparations"
          ],
          [
           "ADAMIS PHARMACEUTICALS CORP",
           "Pharmaceutical Preparations"
          ],
          [
           "GT BIOPHARMA, INC.",
           "Pharmaceutical Preparations"
          ],
          [
           "GT BIOPHARMA, INC.",
           "Pharmaceutical Preparations"
          ],
          [
           "GT BIOPHARMA, INC.",
           "Pharmaceutical Preparations"
          ],
          [
           "GT BIOPHARMA, INC.",
           "Pharmaceutical Preparations"
          ],
          [
           "GT BIOPHARMA, INC.",
           "Pharmaceutical Preparations"
          ],
          [
           "GT BIOPHARMA, INC.",
           "Pharmaceutical Preparations"
          ],
          [
           "IMMUNOGEN INC",
           "Pharmaceutical Preparations"
          ],
          [
           "PTC THERAPEUTICS, INC.",
           "Pharmaceutical Preparations"
          ],
          [
           "MANNKIND CORP",
           "Pharmaceutical Preparations"
          ],
          [
           "CARDAX, INC.",
           "Pharmaceutical Preparations"
          ],
          [
           "SYROS PHARMACEUTICALS, INC.",
           "Pharmaceutical Preparations"
          ],
          [
           "ADURO BIOTECH, INC.",
           "Pharmaceutical Preparations"
          ],
          [
           "SIENNA BIOPHARMACEUTICALS, INC.",
           "Pharmaceutical Preparations"
          ],
          [
           "ACHAOGEN INC",
           "Pharmaceutical Preparations"
          ],
          [
           "UNITED CANNABIS CORP",
           "Pharmaceutical Preparations"
          ],
          [
           "UNITED CANNABIS CORP",
           "Pharmaceutical Preparations"
          ],
          [
           "RXI PHARMACEUTICALS CORP",
           "Pharmaceutical Preparations"
          ],
          [
           "RXI PHARMACEUTICALS CORP",
           "Pharmaceutical Preparations"
          ],
          [
           "RXI PHARMACEUTICALS CORP",
           "Pharmaceutical Preparations"
          ],
          [
           "RXI PHARMACEUTICALS CORP",
           "Pharmaceutical Preparations"
          ],
          [
           "SOLIGENIX, INC.",
           "Pharmaceutical Preparations"
          ],
          [
           "XOMA CORP",
           "Pharmaceutical Preparations"
          ],
          [
           "SIERRA ONCOLOGY, INC.",
           "Pharmaceutical Preparations"
          ],
          [
           "ACTINIUM PHARMACEUTICALS, INC.",
           "Pharmaceutical Preparations"
          ],
          [
           "ORAGENICS INC",
           "Pharmaceutical Preparations"
          ],
          [
           "ATHERSYS, INC / NEW",
           "Pharmaceutical Preparations"
          ],
          [
           "PULMATRIX, INC.",
           "Pharmaceutical Preparations"
          ],
          [
           "ACADIA PHARMACEUTICALS INC",
           "Pharmaceutical Preparations"
          ],
          [
           "TREVENA INC",
           "Pharmaceutical Preparations"
          ],
          [
           "NATURES SUNSHINE PRODUCTS INC",
           "Pharmaceutical Preparations"
          ],
          [
           "FLEXION THERAPEUTICS INC",
           "Pharmaceutical Preparations"
          ],
          [
           "VERASTEM, INC.",
           "Pharmaceutical Preparations"
          ],
          [
           "XENON PHARMACEUTICALS INC.",
           "Pharmaceutical Preparations"
          ],
          [
           "SUNESIS PHARMACEUTICALS INC",
           "Pharmaceutical Preparations"
          ],
          [
           "CORVUS PHARMACEUTICALS, INC.",
           "Pharmaceutical Preparations"
          ],
          [
           "MERCK & CO., INC.",
           "Pharmaceutical Preparations"
          ],
          [
           "STRONGBRIDGE BIOPHARMA PLC",
           "Pharmaceutical Preparations"
          ],
          [
           "CATALYST PHARMACEUTICALS, INC.",
           "Pharmaceutical Preparations"
          ],
          [
           "ASSEMBLY BIOSCIENCES, INC.",
           "Pharmaceutical Preparations"
          ],
          [
           "APRICUS BIOSCIENCES, INC.",
           "Pharmaceutical Preparations"
          ],
          [
           "CATALYST BIOSCIENCES, INC.",
           "Pharmaceutical Preparations"
          ],
          [
           "MIRATI THERAPEUTICS, INC.",
           "Pharmaceutical Preparations"
          ],
          [
           "MUSTANG BIO, INC.",
           "Pharmaceutical Preparations"
          ],
          [
           "ACELRX PHARMACEUTICALS INC",
           "Pharmaceutical Preparations"
          ],
          [
           "BLUEPRINT MEDICINES CORP",
           "Pharmaceutical Preparations"
          ],
          [
           "ATHENEX, INC.",
           "Pharmaceutical Preparations"
          ],
          [
           "ATHENEX, INC.",
           "Pharmaceutical Preparations"
          ],
          [
           "RECRO PHARMA, INC.",
           "Pharmaceutical Preparations"
          ],
          [
           "BIOHAVEN PHARMACEUTICAL HOLDING CO LTD.",
           "Pharmaceutical Preparations"
          ],
          [
           "PROTHENA CORP PLC",
           "Pharmaceutical Preparations"
          ],
          [
           "AVENUE THERAPEUTICS, INC.",
           "Pharmaceutical Preparations"
          ],
          [
           "VTV THERAPEUTICS INC.",
           "Pharmaceutical Preparations"
          ],
          [
           "ZYNERBA PHARMACEUTICALS, INC.",
           "Pharmaceutical Preparations"
          ],
          [
           "BIOMARIN PHARMACEUTICAL INC",
           "Pharmaceutical Preparations"
          ],
          [
           "KARYOPHARM THERAPEUTICS INC.",
           "Pharmaceutical Preparations"
          ],
          [
           "LEXICON PHARMACEUTICALS, INC.",
           "Pharmaceutical Preparations"
          ],
          [
           "ENDO INTERNATIONAL PLC",
           "Pharmaceutical Preparations"
          ],
          [
           "PROPHASE LABS, INC.",
           "Pharmaceutical Preparations"
          ],
          [
           "CELLECTAR BIOSCIENCES, INC.",
           "Pharmaceutical Preparations"
          ],
          [
           "RITTER PHARMACEUTICALS INC",
           "Pharmaceutical Preparations"
          ],
          [
           "MARINUS PHARMACEUTICALS INC",
           "Pharmaceutical Preparations"
          ],
          [
           "CORCEPT THERAPEUTICS INC",
           "Pharmaceutical Preparations"
          ],
          [
           "ALNYLAM PHARMACEUTICALS, INC.",
           "Pharmaceutical Preparations"
          ],
          [
           "DARE BIOSCIENCE, INC.",
           "Pharmaceutical Preparations"
          ],
          [
           "TELIGENT, INC.",
           "Pharmaceutical Preparations"
          ],
          [
           "TELIGENT, INC.",
           "Pharmaceutical Preparations"
          ],
          [
           "ACLARIS THERAPEUTICS, INC.",
           "Pharmaceutical Preparations"
          ],
          [
           "VITAL THERAPIES INC",
           "Pharmaceutical Preparations"
          ],
          [
           "DECIPHERA PHARMACEUTICALS, INC.",
           "Pharmaceutical Preparations"
          ],
          [
           "CAPSTONE THERAPEUTICS CORP.",
           "Pharmaceutical Preparations"
          ],
          [
           "PACIRA PHARMACEUTICALS, INC.",
           "Pharmaceutical Preparations"
          ],
          [
           "UROGEN PHARMA LTD.",
           "Pharmaceutical Preparations"
          ],
          [
           "FIBROCELL SCIENCE, INC.",
           "Pharmaceutical Preparations"
          ],
          [
           "FLEX PHARMA, INC.",
           "Pharmaceutical Preparations"
          ],
          [
           "BIODELIVERY SCIENCES INTERNATIONAL INC",
           "Pharmaceutical Preparations"
          ],
          [
           "HORIZON PHARMA PLC",
           "Pharmaceutical Preparations"
          ],
          [
           "MERRIMACK PHARMACEUTICALS INC",
           "Pharmaceutical Preparations"
          ],
          [
           "CYCLACEL PHARMACEUTICALS, INC.",
           "Pharmaceutical Preparations"
          ],
          [
           "ZOETIS INC.",
           "Pharmaceutical Preparations"
          ]
         ],
         "hovertemplate": "color=Pharmaceutical Preparations<br>0=%{x}<br>1=%{y}<br>name=%{customdata[0]}<br>industry=%{customdata[1]}<extra></extra>",
         "legendgroup": "Pharmaceutical Preparations",
         "marker": {
          "color": "#00cc96",
          "symbol": "circle"
         },
         "mode": "markers",
         "name": "Pharmaceutical Preparations",
         "orientation": "v",
         "showlegend": true,
         "type": "scatter",
         "x": [
          -0.1714448580220835,
          -0.12291314738256925,
          -0.5236846232848008,
          -0.45135843295091616,
          -0.07678094658487654,
          -0.17452125063147755,
          -0.17452125063147755,
          -0.4697054880564607,
          -0.36215788775449115,
          -0.031066419659878906,
          -0.031066419659878906,
          -0.38509740803288084,
          -0.5534099095844213,
          -0.15237158975250384,
          -0.4683990597823842,
          0.025599721812581716,
          0.01993689253931134,
          0.01993689253931134,
          -0.6263991834548669,
          -0.15474301023193957,
          -0.30207273282890046,
          -0.019636122111085466,
          -0.019636122111085466,
          -0.44805212404646555,
          -0.2619565803791777,
          -0.46931505630077036,
          -0.059764137955971845,
          -0.11590413544867055,
          -0.4357193458893888,
          -0.5300570373967153,
          -0.0863639639519604,
          -0.15418606061602505,
          -0.5216059150788327,
          -0.5216059150788327,
          -0.5656199908249386,
          -0.3355457992379431,
          -0.18172681585197753,
          -0.26296022159386023,
          -0.3319990160811973,
          -0.05257378870237372,
          -0.5471905554758062,
          -0.6050931056299749,
          -0.4421944235315288,
          -0.2890872746800714,
          -0.0691668703739336,
          -0.4669701106941064,
          -0.4600496788089218,
          -0.34144309282135005,
          -0.33581081455475775,
          -0.33581081455475775,
          -0.5385294762675401,
          -0.5680550415337255,
          -0.26693110733743763,
          -0.32122797531637004,
          -0.4816366692769842,
          -0.28326577213124593,
          -0.30307365104659895,
          -0.5707662000406966,
          -0.021889733998092412,
          -0.19454000502326554,
          -0.4001347065316938,
          -0.49006405394062463,
          -0.4268903054995192,
          -0.3306712765440598,
          -0.36229176994701506,
          0.041577536155663355,
          -0.5177401233661865,
          -0.2013038990671288,
          -0.5090366129021835,
          -0.46397422156074464,
          -0.5582650377493146,
          -0.482645096389348,
          -0.5051446559341835,
          -0.5407948189051105,
          -0.468841256713848,
          -0.6136097217236138,
          -0.4567436437938209,
          -0.4121016031512884,
          -0.14533106936814408,
          -0.45928572585675914,
          -0.5393745775673501,
          -0.5139690022726949,
          -0.4267844577378118,
          -0.4370248790281719,
          -0.3926975004997667,
          -0.3273174159424673,
          -0.2583608719387575,
          -0.2243277712003549,
          -0.25614605644170013,
          -0.5359703850117756,
          -0.4368820306270492,
          -0.30992372212291625,
          -0.1670015864825479,
          -0.24966457567847905,
          -0.5520979432084012,
          -0.36539660094377463,
          -0.30128709322660974,
          -0.5093526847017628,
          -0.3182468537918903,
          -0.43600390545439455,
          -0.15068699318304135,
          -0.5466898953111354,
          -0.3625824081586206,
          -0.48377261688462403,
          -0.5102907966873304,
          -0.33301706654946445,
          -0.29133460140502143,
          -0.10114763417613844,
          -0.2001949799571523,
          -0.36508762773031794,
          -0.08259421323566317,
          -0.05505590697711793,
          -0.5401114615391606,
          -0.4536644662179751,
          -0.5441981494630432,
          -0.448126186197875,
          -0.5381392322483772,
          -0.2765753991922143,
          -0.07228248682328942,
          -0.007872148282521406,
          -0.5073019130273795,
          -0.5248956548867878,
          -0.5910101975414993,
          -0.38767486341980106,
          -0.29094062201636517,
          -0.46275894480658397,
          -0.4780571505516999,
          -0.2572365374742382,
          -0.5087987297679284,
          -0.3521207892249052,
          -0.3521207892249052,
          -0.3521207892249052,
          -0.3521207892249052,
          -0.3521207892249052,
          -0.3521207892249052,
          -0.5543010196512905,
          -0.3040132157226184,
          -0.49686403712242455,
          -0.37732389338261524,
          -0.6040313369435478,
          -0.5733343899067411,
          -0.5638752218486149,
          -0.5531526349994632,
          -0.14763887407832615,
          -0.14763887407832615,
          -0.517183381580865,
          -0.517183381580865,
          -0.517183381580865,
          -0.517183381580865,
          -0.4325652168813898,
          -0.23498728208200703,
          -0.4575559889636114,
          -0.4907178491704048,
          -0.570016938144573,
          -0.29127697348342874,
          -0.5484975344779411,
          -0.48580337894005104,
          -0.27921216745678096,
          -0.04904405204297444,
          -0.37080372524492106,
          -0.3410135973787728,
          -0.4925733333373631,
          -0.578880210633734,
          -0.5452052871439825,
          -0.32508336678033534,
          -0.6115097877891842,
          -0.5511363921041024,
          -0.24268275921280605,
          -0.544974763608558,
          -0.5619685741345996,
          -0.5864441051925094,
          -0.5254642542490715,
          -0.17489578253583613,
          -0.4684798349775442,
          -0.523390472770247,
          -0.523390472770247,
          -0.5238078858211981,
          -0.5203281820460117,
          -0.3340452486235966,
          -0.5870061872147903,
          -0.3895970967956501,
          -0.48360338613920206,
          -0.2987923857460099,
          -0.3503034011408439,
          -0.4110999452900462,
          -0.3332580942930125,
          -0.16420645808910878,
          -0.3307067100759923,
          -0.5660260096208302,
          -0.2391585676430065,
          -0.45399594856884384,
          -0.5314153979088567,
          -0.515719718390794,
          -0.16214988397151284,
          -0.16214988397151284,
          -0.28990266532576864,
          -0.43668182697461544,
          -0.46372168774962175,
          -0.5010161864447571,
          -0.011619112992549417,
          -0.6238518310960236,
          -0.5569271577211936,
          -0.4560816216778476,
          -0.5046371487292958,
          -0.332964507341047,
          -0.57338420172456,
          -0.46982170532645257,
          0.02426360938839082
         ],
         "xaxis": "x",
         "y": [
          0.0029502780541012076,
          -0.02787804383706105,
          0.33469939332114323,
          0.27282026799422576,
          -0.09938604222638278,
          -0.011308151838792052,
          -0.011308151838792052,
          0.26658164018571096,
          0.18924452795805438,
          -0.10530214938288253,
          -0.10530214938288253,
          0.22229410867182747,
          0.33043915323412487,
          0.0036407616027245788,
          0.26553604793932284,
          -0.1513855826129641,
          -0.145838703184052,
          -0.145838703184052,
          0.3704450372949612,
          0.04329952409366765,
          0.09380448934546756,
          -0.11521636528424468,
          -0.11521636528424468,
          0.272420251942114,
          0.09822151975827764,
          0.25462868145488604,
          -0.011172740632127396,
          -0.01860893524149524,
          0.22586719763226284,
          0.32551513187417136,
          -0.001741631665486389,
          0.018585636193502654,
          0.2945027371365754,
          0.2945027371365754,
          0.3427815547470197,
          0.1899703486114656,
          0.06957804005407038,
          0.1392446055935264,
          0.13525057783715827,
          -0.1025365548771292,
          0.3178580561187157,
          0.3753852605426924,
          0.2756879585952928,
          0.08954075567351731,
          -0.06949257972322213,
          0.24916596540450645,
          0.2534409787685788,
          0.19028891043268767,
          0.16526382775949097,
          0.16526382775949097,
          0.3204483064474062,
          0.34083355527190623,
          0.12326911019424255,
          0.16007639207326171,
          0.273077005532019,
          0.10671115589317164,
          0.08932578251734395,
          0.34762404513901485,
          -0.06142061776341949,
          0.07788298814962692,
          0.22918941484747557,
          0.29680531334207993,
          0.21474835662719896,
          0.16816996129015915,
          0.15578712152756954,
          -0.0962707920585325,
          0.32092241963210477,
          0.03072364544734228,
          0.3212754856645017,
          0.25371500482964565,
          0.3188517826827828,
          0.297197747885845,
          0.272815009469429,
          0.32802108667365715,
          0.2837520802739098,
          0.376699716097719,
          0.24075422362429774,
          0.20742832849244328,
          -0.058617607239292414,
          0.291698602324324,
          0.34161128801983603,
          0.3001833516782608,
          0.2582502978983887,
          0.2428107252888459,
          0.2429178811148132,
          0.1727562980028512,
          0.11529091643447924,
          0.05972372929842291,
          0.0855520887543955,
          0.3285688984575456,
          0.2685571316913559,
          0.1680984580622362,
          0.018662106611385204,
          0.10682431853553655,
          0.31750394476824684,
          0.18916145430021702,
          0.12030806338428168,
          0.32312122663307247,
          0.13098719620252355,
          0.22628516314946495,
          -0.021704586097646496,
          0.32746580188585017,
          0.18701504475832784,
          0.3007987516596453,
          0.2985179729479082,
          0.1545111362496507,
          0.10198294022474888,
          -0.08043462634874829,
          0.03720107415004889,
          0.17268202685831308,
          -0.05610079637913102,
          -0.04604942527145632,
          0.31281851968910496,
          0.2144508607238567,
          0.3230978622811236,
          0.27776310532563686,
          0.30078456843845724,
          0.13086614919672382,
          -0.07670723895144575,
          -0.16427831171928728,
          0.3081464912750837,
          0.3204697677812309,
          0.35611760277885024,
          0.16684568754563348,
          0.1515133694747512,
          0.25221304637782516,
          0.22682118320278308,
          0.12771568925594118,
          0.2954922422018423,
          0.1964794123568618,
          0.1964794123568618,
          0.1964794123568618,
          0.1964794123568618,
          0.1964794123568618,
          0.1964794123568618,
          0.340970440031436,
          0.1622540889546536,
          0.2759975238904526,
          0.1885634251812151,
          0.37735756400298115,
          0.34807516720098813,
          0.36106969335364286,
          0.31066922788979634,
          -0.0520061304998363,
          -0.0520061304998363,
          0.257481148290313,
          0.257481148290313,
          0.257481148290313,
          0.257481148290313,
          0.2637731361105143,
          0.03489126126332747,
          0.28101238446306936,
          0.29207308881566707,
          0.3404344255686222,
          0.13972469073485408,
          0.3185657929828508,
          0.27012876631708965,
          0.14070621148451412,
          -0.129361295240128,
          0.21153169113875336,
          0.18074817792136968,
          0.3156712565235679,
          0.35651105670921596,
          0.3498029734680389,
          0.13998408276751778,
          0.38093466572266105,
          0.33143641117850503,
          0.10743417799615256,
          0.32244442466906825,
          0.3408577756129659,
          0.36797592194937434,
          0.29882904782404507,
          0.033216839318173465,
          0.2943762284648396,
          0.3358280273363192,
          0.3358280273363192,
          0.31658997330864935,
          0.3307731431869481,
          0.17899897778481527,
          0.34978250068838973,
          0.23618396857292973,
          0.30650644889035583,
          0.15383145642385307,
          0.19448167275568656,
          0.22349443395907492,
          0.11983518027417585,
          -0.01587988486636,
          0.16877902300000414,
          0.3362321499017215,
          0.11661664203568138,
          0.24570005822002278,
          0.3126592417243025,
          0.29599085267314423,
          -0.01173140595472537,
          -0.01173140595472537,
          0.12382081293748183,
          0.23991619552619742,
          0.2668064065526468,
          0.2765080680096806,
          -0.012082779506984847,
          0.39301967233504054,
          0.346745903841089,
          0.21128872447737498,
          0.2624618412312231,
          0.13416448456061586,
          0.3559146124737053,
          0.278826750285661,
          -0.16639614211273643
         ],
         "yaxis": "y"
        },
        {
         "customdata": [
          [
           "INVESTORS REAL ESTATE TRUST",
           "Real Estate Investment Trusts"
          ],
          [
           "BRT APARTMENTS CORP.",
           "Real Estate Investment Trusts"
          ],
          [
           "MONMOUTH REAL ESTATE INVESTMENT CORP",
           "Real Estate Investment Trusts"
          ],
          [
           "FIRST REAL ESTATE INVESTMENT TRUST OF NEW JERSEY",
           "Real Estate Investment Trusts"
          ],
          [
           "FIRST REAL ESTATE INVESTMENT TRUST OF NEW JERSEY",
           "Real Estate Investment Trusts"
          ],
          [
           "URSTADT BIDDLE PROPERTIES INC",
           "Real Estate Investment Trusts"
          ],
          [
           "URSTADT BIDDLE PROPERTIES INC",
           "Real Estate Investment Trusts"
          ],
          [
           "PHILLIPS EDISON & COMPANY, INC.",
           "Real Estate Investment Trusts"
          ],
          [
           "SL GREEN REALTY CORP",
           "Real Estate Investment Trusts"
          ],
          [
           "CUBESMART",
           "Real Estate Investment Trusts"
          ],
          [
           "CIM COMMERCIAL TRUST CORP",
           "Real Estate Investment Trusts"
          ],
          [
           "CERES TACTICAL SYSTEMATIC L.P.",
           "Real Estate Investment Trusts"
          ],
          [
           "PS BUSINESS PARKS INC/CA",
           "Real Estate Investment Trusts"
          ],
          [
           "STEADFAST INCOME REIT, INC.",
           "Real Estate Investment Trusts"
          ],
          [
           "RETAIL OPPORTUNITY INVESTMENTS CORP",
           "Real Estate Investment Trusts"
          ],
          [
           "MORGAN STANLEY SMITH BARNEY SPECTRUM SELECT LP",
           "Real Estate Investment Trusts"
          ],
          [
           "NEW YORK MORTGAGE TRUST INC",
           "Real Estate Investment Trusts"
          ],
          [
           "CBL & ASSOCIATES PROPERTIES INC",
           "Real Estate Investment Trusts"
          ],
          [
           "LEXINGTON REALTY TRUST",
           "Real Estate Investment Trusts"
          ],
          [
           "BRANDYWINE REALTY TRUST",
           "Real Estate Investment Trusts"
          ],
          [
           "LAMAR ADVERTISING CO/NEW",
           "Real Estate Investment Trusts"
          ],
          [
           "JBG SMITH PROPERTIES",
           "Real Estate Investment Trusts"
          ],
          [
           "KBS REAL ESTATE INVESTMENT TRUST III, INC.",
           "Real Estate Investment Trusts"
          ],
          [
           "CAPSTEAD MORTGAGE CORP",
           "Real Estate Investment Trusts"
          ],
          [
           "GGP INC.",
           "Real Estate Investment Trusts"
          ],
          [
           "QTS REALTY TRUST, INC.",
           "Real Estate Investment Trusts"
          ],
          [
           "WELLS FARGO REAL ESTATE INVESTMENT CORP.",
           "Real Estate Investment Trusts"
          ],
          [
           "LIGHTSTONE VALUE PLUS REAL ESTATE INVESTMENT TRUST V, INC.",
           "Real Estate Investment Trusts"
          ],
          [
           "RESOURCE APARTMENT REIT III, INC.",
           "Real Estate Investment Trusts"
          ],
          [
           "CNL HEALTHCARE PROPERTIES, INC.",
           "Real Estate Investment Trusts"
          ],
          [
           "RETAIL PROPERTIES OF AMERICA, INC.",
           "Real Estate Investment Trusts"
          ],
          [
           "BOSTON PROPERTIES INC",
           "Real Estate Investment Trusts"
          ],
          [
           "REGENCY CENTERS CORP",
           "Real Estate Investment Trusts"
          ],
          [
           "NATIONAL HEALTH INVESTORS INC",
           "Real Estate Investment Trusts"
          ],
          [
           "DRIVE SHACK INC.",
           "Real Estate Investment Trusts"
          ],
          [
           "COLE CREDIT PROPERTY TRUST V, INC.",
           "Real Estate Investment Trusts"
          ],
          [
           "EQUITY RESIDENTIAL",
           "Real Estate Investment Trusts"
          ],
          [
           "KITE REALTY GROUP TRUST",
           "Real Estate Investment Trusts"
          ],
          [
           "OUTFRONT MEDIA INC.",
           "Real Estate Investment Trusts"
          ],
          [
           "PENNSYLVANIA REAL ESTATE INVESTMENT TRUST",
           "Real Estate Investment Trusts"
          ],
          [
           "COLE REAL ESTATE INCOME STRATEGY (DAILY NAV), INC.",
           "Real Estate Investment Trusts"
          ],
          [
           "REALTY INCOME CORP",
           "Real Estate Investment Trusts"
          ],
          [
           "GLOBAL MEDICAL REIT INC.",
           "Real Estate Investment Trusts"
          ],
          [
           "PILLARSTONE CAPITAL REIT",
           "Real Estate Investment Trusts"
          ],
          [
           "CLIPPER REALTY INC.",
           "Real Estate Investment Trusts"
          ],
          [
           "BLACK CREEK INDUSTRIAL REIT IV INC.",
           "Real Estate Investment Trusts"
          ],
          [
           "LIGHTSTONE VALUE PLUS REAL ESTATE INVESTMENT TRUST, INC.",
           "Real Estate Investment Trusts"
          ],
          [
           "KKR REAL ESTATE FINANCE TRUST INC.",
           "Real Estate Investment Trusts"
          ],
          [
           "GEO GROUP INC",
           "Real Estate Investment Trusts"
          ],
          [
           "AMERICAN ASSETS TRUST, INC.",
           "Real Estate Investment Trusts"
          ],
          [
           "IMPAC MORTGAGE HOLDINGS INC",
           "Real Estate Investment Trusts"
          ],
          [
           "CNL HEALTHCARE PROPERTIES II, INC.",
           "Real Estate Investment Trusts"
          ],
          [
           "ANWORTH MORTGAGE ASSET CORP",
           "Real Estate Investment Trusts"
          ],
          [
           "LIGHTSTONE VALUE PLUS REAL ESTATE INVESTMENT TRUST III, INC.",
           "Real Estate Investment Trusts"
          ],
          [
           "AMERICAN FINANCE TRUST, INC",
           "Real Estate Investment Trusts"
          ],
          [
           "EQUITY COMMONWEALTH",
           "Real Estate Investment Trusts"
          ],
          [
           "FOUR CORNERS PROPERTY TRUST, INC.",
           "Real Estate Investment Trusts"
          ],
          [
           "RAYONIER INC",
           "Real Estate Investment Trusts"
          ],
          [
           "HOST HOTELS & RESORTS, INC.",
           "Real Estate Investment Trusts"
          ],
          [
           "GAMING & LEISURE PROPERTIES, INC.",
           "Real Estate Investment Trusts"
          ],
          [
           "NATIONAL RETAIL PROPERTIES, INC.",
           "Real Estate Investment Trusts"
          ],
          [
           "SENIOR HOUSING PROPERTIES TRUST",
           "Real Estate Investment Trusts"
          ],
          [
           "SUTHERLAND ASSET MANAGEMENT CORP",
           "Real Estate Investment Trusts"
          ],
          [
           "TAUBMAN CENTERS INC",
           "Real Estate Investment Trusts"
          ],
          [
           "RESOURCE REAL ESTATE OPPORTUNITY REIT, INC.",
           "Real Estate Investment Trusts"
          ],
          [
           "TANGER FACTORY OUTLET CENTERS INC",
           "Real Estate Investment Trusts"
          ],
          [
           "MFA FINANCIAL, INC.",
           "Real Estate Investment Trusts"
          ],
          [
           "TERRA SECURED INCOME FUND 5, LLC",
           "Real Estate Investment Trusts"
          ],
          [
           "SBA COMMUNICATIONS CORP",
           "Real Estate Investment Trusts"
          ],
          [
           "LIGHTSTONE VALUE PLUS REAL ESTATE INVESTMENT TRUST II INC",
           "Real Estate Investment Trusts"
          ],
          [
           "JONES LANG LASALLE INCOME PROPERTY TRUST, INC.",
           "Real Estate Investment Trusts"
          ],
          [
           "AVALONBAY COMMUNITIES INC",
           "Real Estate Investment Trusts"
          ],
          [
           "ARES COMMERCIAL REAL ESTATE CORP",
           "Real Estate Investment Trusts"
          ],
          [
           "CARTER VALIDUS MISSION CRITICAL REIT II, INC.",
           "Real Estate Investment Trusts"
          ],
          [
           "PHYSICIANS REALTY TRUST",
           "Real Estate Investment Trusts"
          ],
          [
           "PROLOGIS, INC.",
           "Real Estate Investment Trusts"
          ],
          [
           "ARMOUR RESIDENTIAL REIT, INC.",
           "Real Estate Investment Trusts"
          ],
          [
           "CHERRY HILL MORTGAGE INVESTMENT CORP",
           "Real Estate Investment Trusts"
          ],
          [
           "EMPIRE STATE REALTY TRUST, INC.",
           "Real Estate Investment Trusts"
          ],
          [
           "PUBLIC STORAGE",
           "Real Estate Investment Trusts"
          ],
          [
           "APARTMENT INVESTMENT & MANAGEMENT CO",
           "Real Estate Investment Trusts"
          ],
          [
           "CEDAR REALTY TRUST, INC.",
           "Real Estate Investment Trusts"
          ],
          [
           "HIGHLANDS REIT, INC.",
           "Real Estate Investment Trusts"
          ],
          [
           "IRON MOUNTAIN INC",
           "Real Estate Investment Trusts"
          ],
          [
           "SOTHERLY HOTELS INC.",
           "Real Estate Investment Trusts"
          ],
          [
           "EMPIRE STATE REALTY OP, L.P.",
           "Real Estate Investment Trusts"
          ],
          [
           "ESSEX PROPERTY TRUST INC",
           "Real Estate Investment Trusts"
          ],
          [
           "WEINGARTEN REALTY INVESTORS /TX/",
           "Real Estate Investment Trusts"
          ],
          [
           "CONDOR HOSPITALITY TRUST, INC.",
           "Real Estate Investment Trusts"
          ],
          [
           "CITY OFFICE REIT, INC.",
           "Real Estate Investment Trusts"
          ],
          [
           "BENEFIT STREET PARTNERS REALTY TRUST, INC.",
           "Real Estate Investment Trusts"
          ],
          [
           "LIGHTSTONE REAL ESTATE INCOME TRUST INC.",
           "Real Estate Investment Trusts"
          ],
          [
           "AMERICAN CAMPUS COMMUNITIES INC",
           "Real Estate Investment Trusts"
          ],
          [
           "STARWOOD PROPERTY TRUST, INC.",
           "Real Estate Investment Trusts"
          ],
          [
           "CORESITE REALTY CORP",
           "Real Estate Investment Trusts"
          ],
          [
           "POTLATCH CORP",
           "Real Estate Investment Trusts"
          ],
          [
           "CORPORATE OFFICE PROPERTIES TRUST",
           "Real Estate Investment Trusts"
          ],
          [
           "RAMCO GERSHENSON PROPERTIES TRUST",
           "Real Estate Investment Trusts"
          ],
          [
           "NATIONAL STORAGE AFFILIATES TRUST",
           "Real Estate Investment Trusts"
          ],
          [
           "HERSHA HOSPITALITY TRUST",
           "Real Estate Investment Trusts"
          ],
          [
           "JERNIGAN CAPITAL, INC.",
           "Real Estate Investment Trusts"
          ],
          [
           "VORNADO REALTY TRUST",
           "Real Estate Investment Trusts"
          ],
          [
           "ISTAR INC.",
           "Real Estate Investment Trusts"
          ],
          [
           "ALEXANDER & BALDWIN, INC.",
           "Real Estate Investment Trusts"
          ],
          [
           "HOSPITALITY INVESTORS TRUST, INC.",
           "Real Estate Investment Trusts"
          ],
          [
           "SAUL CENTERS INC",
           "Real Estate Investment Trusts"
          ],
          [
           "KBS GROWTH & INCOME REIT, INC.",
           "Real Estate Investment Trusts"
          ],
          [
           "EXTRA SPACE STORAGE INC.",
           "Real Estate Investment Trusts"
          ],
          [
           "CHESAPEAKE LODGING TRUST",
           "Real Estate Investment Trusts"
          ],
          [
           "LTC PROPERTIES INC",
           "Real Estate Investment Trusts"
          ],
          [
           "EASTERLY GOVERNMENT PROPERTIES, INC.",
           "Real Estate Investment Trusts"
          ],
          [
           "PLYMOUTH INDUSTRIAL REIT INC.",
           "Real Estate Investment Trusts"
          ],
          [
           "FRANKLIN STREET PROPERTIES CORP /MA/",
           "Real Estate Investment Trusts"
          ],
          [
           "HEALTHCARE TRUST OF AMERICA, INC.",
           "Real Estate Investment Trusts"
          ],
          [
           "REALSOURCE RESIDENTIAL, INC",
           "Real Estate Investment Trusts"
          ],
          [
           "CARTER VALIDUS MISSION CRITICAL REIT, INC.",
           "Real Estate Investment Trusts"
          ],
          [
           "SUN COMMUNITIES INC",
           "Real Estate Investment Trusts"
          ],
          [
           "FIRST EQUITY PROPERTIES INC",
           "Real Estate Investment Trusts"
          ],
          [
           "MID AMERICA APARTMENT COMMUNITIES INC",
           "Real Estate Investment Trusts"
          ],
          [
           "BROOKFIELD DTLA FUND OFFICE TRUST INVESTOR INC.",
           "Real Estate Investment Trusts"
          ],
          [
           "ANNALY CAPITAL MANAGEMENT INC",
           "Real Estate Investment Trusts"
          ],
          [
           "WHEELER REAL ESTATE INVESTMENT TRUST, INC.",
           "Real Estate Investment Trusts"
          ],
          [
           "ALEXANDRIA REAL ESTATE EQUITIES INC",
           "Real Estate Investment Trusts"
          ],
          [
           "HIGHWOODS PROPERTIES INC",
           "Real Estate Investment Trusts"
          ],
          [
           "KIMCO REALTY CORP",
           "Real Estate Investment Trusts"
          ],
          [
           "INDEPENDENCE REALTY TRUST, INC.",
           "Real Estate Investment Trusts"
          ],
          [
           "PREFERRED APARTMENT COMMUNITIES INC",
           "Real Estate Investment Trusts"
          ],
          [
           "ELLINGTON RESIDENTIAL MORTGAGE REIT",
           "Real Estate Investment Trusts"
          ],
          [
           "CORECIVIC, INC.",
           "Real Estate Investment Trusts"
          ],
          [
           "ASHFORD HOSPITALITY PRIME, INC.",
           "Real Estate Investment Trusts"
          ],
          [
           "LIFE STORAGE, INC.",
           "Real Estate Investment Trusts"
          ],
          [
           "HEALTHCARE REALTY TRUST INC",
           "Real Estate Investment Trusts"
          ],
          [
           "WINTHROP REALTY LIQUIDATING TRUST",
           "Real Estate Investment Trusts"
          ],
          [
           "CORENERGY INFRASTRUCTURE TRUST, INC.",
           "Real Estate Investment Trusts"
          ],
          [
           "KBS STRATEGIC OPPORTUNITY REIT II, INC.",
           "Real Estate Investment Trusts"
          ],
          [
           "PEBBLEBROOK HOTEL TRUST",
           "Real Estate Investment Trusts"
          ],
          [
           "SABRA HEALTH CARE REIT, INC.",
           "Real Estate Investment Trusts"
          ],
          [
           "POWER REIT",
           "Real Estate Investment Trusts"
          ],
          [
           "DYNEX CAPITAL INC",
           "Real Estate Investment Trusts"
          ],
          [
           "DIGITAL REALTY TRUST, INC.",
           "Real Estate Investment Trusts"
          ],
          [
           "STRATEGIC REALTY TRUST, INC.",
           "Real Estate Investment Trusts"
          ],
          [
           "COLE OFFICE & INDUSTRIAL REIT (CCIT III), INC.",
           "Real Estate Investment Trusts"
          ],
          [
           "HEALTHCARE TRUST, INC.",
           "Real Estate Investment Trusts"
          ],
          [
           "LADDER CAPITAL CORP",
           "Real Estate Investment Trusts"
          ],
          [
           "CROWN CASTLE INTERNATIONAL CORP",
           "Real Estate Investment Trusts"
          ],
          [
           "HOWARD HUGHES CORP",
           "Real Estate Investment Trusts"
          ],
          [
           "ALEXANDERS INC",
           "Real Estate Investment Trusts"
          ],
          [
           "MANHATTAN BRIDGE CAPITAL, INC",
           "Real Estate Investment Trusts"
          ],
          [
           "INLAND REAL ESTATE INCOME TRUST, INC.",
           "Real Estate Investment Trusts"
          ],
          [
           "INLAND RESIDENTIAL PROPERTIES TRUST, INC.",
           "Real Estate Investment Trusts"
          ],
          [
           "INLAND RESIDENTIAL PROPERTIES TRUST, INC.",
           "Real Estate Investment Trusts"
          ],
          [
           "KBS REAL ESTATE INVESTMENT TRUST II, INC.",
           "Real Estate Investment Trusts"
          ],
          [
           "RESOURCE REAL ESTATE OPPORTUNITY REIT II, INC.",
           "Real Estate Investment Trusts"
          ],
          [
           "STEADFAST APARTMENT REIT III, INC.",
           "Real Estate Investment Trusts"
          ],
          [
           "ACADIA REALTY TRUST",
           "Real Estate Investment Trusts"
          ],
          [
           "HMG COURTLAND PROPERTIES INC",
           "Real Estate Investment Trusts"
          ],
          [
           "COLE CREDIT PROPERTY TRUST IV, INC.",
           "Real Estate Investment Trusts"
          ],
          [
           "FIVE OAKS INVESTMENT CORP.",
           "Real Estate Investment Trusts"
          ],
          [
           "NEXPOINT RESIDENTIAL TRUST, INC.",
           "Real Estate Investment Trusts"
          ],
          [
           "TWO HARBORS INVESTMENT CORP.",
           "Real Estate Investment Trusts"
          ],
          [
           "WASHINGTON PRIME GROUP INC.",
           "Real Estate Investment Trusts"
          ],
          [
           "TIER REIT INC",
           "Real Estate Investment Trusts"
          ],
          [
           "GRANITE POINT MORTGAGE TRUST INC.",
           "Real Estate Investment Trusts"
          ],
          [
           "GREAT AJAX CORP.",
           "Real Estate Investment Trusts"
          ],
          [
           "DUKE REALTY CORP",
           "Real Estate Investment Trusts"
          ],
          [
           "EASTGROUP PROPERTIES INC",
           "Real Estate Investment Trusts"
          ],
          [
           "STEADFAST APARTMENT REIT, INC.",
           "Real Estate Investment Trusts"
          ],
          [
           "RECKSON OPERATING PARTNERSHIP LP",
           "Real Estate Investment Trusts"
          ],
          [
           "GLOBAL NET LEASE, INC.",
           "Real Estate Investment Trusts"
          ],
          [
           "KBS STRATEGIC OPPORTUNITY REIT, INC.",
           "Real Estate Investment Trusts"
          ],
          [
           "WHITESTONE REIT",
           "Real Estate Investment Trusts"
          ],
          [
           "GRIFFIN CAPITAL ESSENTIAL ASSET REIT II, INC.",
           "Real Estate Investment Trusts"
          ],
          [
           "UDR, INC.",
           "Real Estate Investment Trusts"
          ],
          [
           "COMMUNITY HEALTHCARE TRUST INC",
           "Real Estate Investment Trusts"
          ],
          [
           "VENTAS INC",
           "Real Estate Investment Trusts"
          ],
          [
           "OWENS REALTY MORTGAGE, INC.",
           "Real Estate Investment Trusts"
          ],
          [
           "KILROY REALTY CORP",
           "Real Estate Investment Trusts"
          ],
          [
           "SUMMIT HOTEL PROPERTIES, INC.",
           "Real Estate Investment Trusts"
          ],
          [
           "CORPORATE PROPERTY ASSOCIATES 18 GLOBAL INC",
           "Real Estate Investment Trusts"
          ],
          [
           "CYRUSONE INC.",
           "Real Estate Investment Trusts"
          ],
          [
           "COLONY NORTHSTAR, INC.",
           "Real Estate Investment Trusts"
          ],
          [
           "FEDERAL REALTY INVESTMENT TRUST",
           "Real Estate Investment Trusts"
          ],
          [
           "NEW SENIOR INVESTMENT GROUP INC.",
           "Real Estate Investment Trusts"
          ],
          [
           "RYMAN HOSPITALITY PROPERTIES, INC.",
           "Real Estate Investment Trusts"
          ],
          [
           "BRIXMOR PROPERTY GROUP INC.",
           "Real Estate Investment Trusts"
          ],
          [
           "COLE OFFICE & INDUSTRIAL REIT (CCIT II), INC.",
           "Real Estate Investment Trusts"
          ],
          [
           "OMEGA HEALTHCARE INVESTORS INC",
           "Real Estate Investment Trusts"
          ],
          [
           "REVEN HOUSING REIT, INC.",
           "Real Estate Investment Trusts"
          ],
          [
           "AMERICAN REALTY CAPITAL NEW YORK CITY REIT, INC.",
           "Real Estate Investment Trusts"
          ],
          [
           "STAG INDUSTRIAL, INC.",
           "Real Estate Investment Trusts"
          ],
          [
           "EQUINIX INC",
           "Real Estate Investment Trusts"
          ]
         ],
         "hovertemplate": "color=Real Estate Investment Trusts<br>0=%{x}<br>1=%{y}<br>name=%{customdata[0]}<br>industry=%{customdata[1]}<extra></extra>",
         "legendgroup": "Real Estate Investment Trusts",
         "marker": {
          "color": "#ab63fa",
          "symbol": "circle"
         },
         "mode": "markers",
         "name": "Real Estate Investment Trusts",
         "orientation": "v",
         "showlegend": true,
         "type": "scatter",
         "x": [
          0.10824096498172014,
          0.0952697876243197,
          0.0952644076346677,
          0.10228461631107696,
          0.10228461631107696,
          0.12275052008259375,
          0.12275052008259375,
          0.10120672542201821,
          0.10809425604048185,
          0.07015267447279684,
          0.14245875062480862,
          0.01146721932361503,
          0.09225437785450341,
          0.10444617763874599,
          0.07239237194386701,
          0.01147830749321586,
          0.13214870254361563,
          0.08758723047024562,
          0.09698489157361946,
          0.18076457591262365,
          0.07550797871984732,
          0.11882614786809571,
          0.16629670082496864,
          0.11282678268337729,
          0.09373145039577772,
          0.005523584151271501,
          0.24393360559678925,
          0.15517984074855398,
          0.10688615860110712,
          0.08148430865727856,
          0.0738069121523137,
          0.030467128262843576,
          0.06813031135632101,
          0.11059967744375783,
          0.0638971895507361,
          0.1597305620964671,
          0.07680011630322567,
          0.0738871507189174,
          0.05405539906230976,
          0.12779642548312845,
          0.1686034758525644,
          0.10685867365743996,
          0.0157914744765454,
          0.10559185083225454,
          0.12066801314488265,
          0.15373085991423086,
          0.03600946333486077,
          0.21271575200634601,
          0.009091410455482694,
          0.1509067578851379,
          0.1593158515437595,
          0.09675390682462198,
          0.10612048760389534,
          0.03600946333486077,
          0.1005866397717818,
          0.0932719128096353,
          0.1176328692535296,
          0.08516988812060212,
          0.079574305682874,
          0.09445879216554658,
          0.12400399840632971,
          0.06680767917659848,
          0.19864287490343543,
          0.04780154047619831,
          0.17039478480453032,
          0.08488178057917876,
          0.1506910292780709,
          0.13867407118945896,
          0.05607826186795545,
          0.03600946333486077,
          0.1460424159507975,
          0.15263194955146966,
          0.1686023936124804,
          0.1156181261020869,
          0.01831707544320343,
          0.1381674790006711,
          0.10969107440403572,
          0.11175720899761867,
          0.10269822920635062,
          -0.0014294985534218931,
          0.09648983076733969,
          0.11340116739724188,
          0.11832603577743867,
          0.00037477457205789446,
          0.05069330694201638,
          0.10060971564998632,
          0.106688534541312,
          0.11741517311451277,
          0.07574097781623715,
          0.12019833724498064,
          0.19757573892606473,
          0.03600946333486077,
          0.07695495673445334,
          0.21615058246779442,
          0.0022970119551861006,
          0.13660762388152753,
          0.04759255060361495,
          0.033361759556349416,
          0.08584017665278226,
          0.09250663166273575,
          0.0973655597533148,
          0.0652243831904595,
          0.18180457540660402,
          0.15465213039006856,
          0.09638639175616588,
          0.0662155519828338,
          0.1273829836390961,
          0.0756188097175748,
          0.06434631216666073,
          0.004808053800443806,
          0.057618181378750744,
          0.09807359406020014,
          0.12937481528142025,
          0.013885239196951553,
          0.024476066701366032,
          0.15945303661189045,
          0.005433948265252339,
          0.1072575541244307,
          0.13096795545919926,
          0.061116761570688724,
          0.0168843858161745,
          0.09026635091754712,
          0.13081974288898218,
          0.04626530431805524,
          0.09829945394866262,
          0.11049165428195372,
          0.17557111460173042,
          0.10892419097284906,
          0.0859530183287913,
          0.03616127022036778,
          0.10606782211881885,
          0.020143852797419044,
          0.07764632545159075,
          0.08589614037835522,
          0.12767826354949638,
          0.042776608522853525,
          0.12274611615792873,
          0.13787956877650734,
          0.14402192390417734,
          0.008838111460498182,
          0.13137128541866064,
          0.15656234259815188,
          0.03456808559977093,
          0.19905280093796598,
          0.04594272278341734,
          0.16618642926064037,
          0.03774329388141948,
          0.18521336146810222,
          0.17105721590648168,
          0.13029625220439833,
          0.13029625220439833,
          0.1472333806183058,
          0.18514722549651857,
          0.03596099547801981,
          0.1316900894817354,
          0.03490687033125307,
          0.16302243112884215,
          0.19991449569112188,
          0.12532655181783012,
          0.18020518666873525,
          0.12057464367279172,
          0.06077273987107489,
          0.18399195759893527,
          0.14713007670673695,
          0.03888335189197869,
          0.055110026504018333,
          0.12548580910888077,
          0.07201636827853473,
          0.12516649858808496,
          0.14326538961781854,
          0.1511618471083402,
          0.1101382297485357,
          0.12956246132643556,
          0.08109009520820082,
          0.10166247550975788,
          0.13598221709152822,
          0.09547121092529237,
          0.06645606385405638,
          0.07077364638019884,
          0.009493904513834906,
          0.17778345775701063,
          0.12558831402666104,
          0.05804432897091379,
          0.04382187226732633,
          0.06016335641254885,
          0.15920224489950152,
          0.037363132657421,
          0.14580063838585913,
          0.16590680691395393,
          0.05993087749617234,
          -0.007771749454877139
         ],
         "xaxis": "x",
         "y": [
          -0.3069214680153952,
          -0.29414312151680094,
          -0.2594327240466216,
          -0.2218097375325511,
          -0.2218097375325511,
          -0.30234062400873873,
          -0.30234062400873873,
          -0.3376295544174256,
          -0.310661808714271,
          -0.31904040764816727,
          -0.3541157371502059,
          -0.14262149669741986,
          -0.3102360760298938,
          -0.3606353083759718,
          -0.2883232192345861,
          -0.1358804295264235,
          -0.15010184187783032,
          -0.28744498165236404,
          -0.29418810602715856,
          -0.36098555204932165,
          -0.2231396627636379,
          -0.298166138941768,
          -0.3856278192015645,
          -0.20145243218450615,
          -0.2877558246617148,
          -0.1383138787145999,
          -0.16272907926418181,
          -0.3826914846867778,
          -0.3166214117752368,
          -0.31212834539315343,
          -0.3155850062942777,
          -0.15794033059101248,
          -0.2203062155776317,
          -0.24588257995131546,
          -0.26437520669992254,
          -0.36594606781015415,
          -0.28016115580692474,
          -0.30074994841391156,
          -0.26864455699558826,
          -0.2969304963866101,
          -0.3633406899674113,
          -0.2889994996674871,
          -0.2225411871893252,
          -0.29366077605815066,
          -0.38776958216625484,
          -0.41207372787961527,
          -0.07392442365525755,
          -0.3307277901340189,
          -0.15108848486133797,
          -0.35331666759605407,
          -0.17475625459535174,
          -0.33930717532866284,
          -0.2085960319618077,
          -0.07392442365525755,
          -0.32740019558642874,
          -0.2829637258560081,
          -0.35187536310398243,
          -0.22100307745235864,
          -0.2761684195625043,
          -0.24734108714214936,
          -0.29509289036575653,
          -0.24887466699061828,
          -0.176169573424013,
          -0.22661905451382533,
          -0.36246459815377335,
          -0.2905315585689792,
          -0.1083699951017537,
          -0.19553327977080112,
          -0.24074629666460085,
          -0.07392442365525755,
          -0.33631140061051146,
          -0.37332440458791627,
          -0.2816010025124174,
          -0.31693351217330246,
          -0.1814107723377851,
          -0.3037838154760788,
          -0.30530458721589665,
          -0.21370079022993876,
          -0.35036047366659095,
          -0.12327006528159207,
          -0.34484964880924357,
          -0.3441917778699299,
          -0.3338139532773293,
          -0.13924777849079825,
          -0.25532180826218925,
          -0.3347917836953747,
          -0.3439852749541685,
          -0.3004983677312474,
          -0.3206954298452889,
          -0.3110152414381011,
          -0.2103538385870156,
          -0.07392442365525755,
          -0.28534971610643156,
          -0.2774166201633207,
          -0.12006076615975735,
          -0.3036688790444754,
          -0.23402523157562566,
          -0.23727160643637574,
          -0.3317277038494519,
          -0.3448041092826429,
          -0.25482746659489336,
          -0.278116168657315,
          -0.3132455258560697,
          -0.32259244227353717,
          -0.3366160215319434,
          -0.24943862910660441,
          -0.3320865531990578,
          -0.30627551077025844,
          -0.2754541310318271,
          -0.12249501827213567,
          -0.3171689272200078,
          -0.33166302080165,
          -0.258327136978555,
          -0.20086571297418987,
          -0.17406183084977872,
          -0.3760466479782466,
          -0.12360315834092216,
          -0.24646557252802356,
          -0.3786242637836268,
          -0.2648531839216295,
          -0.14710965154350958,
          -0.2956874285552974,
          -0.3287184129397728,
          -0.11210582245095285,
          -0.24628569123195654,
          -0.32932108261382076,
          -0.35311337758812616,
          -0.20221863111390084,
          -0.2931807916099022,
          -0.211457214243744,
          -0.3466202524189589,
          -0.1827009482407325,
          -0.2519965279329488,
          -0.2715499378232966,
          -0.35664546629555727,
          -0.2761620732530897,
          -0.30729710097768154,
          -0.23804526148016705,
          -0.19902695927156416,
          -0.12913028905741925,
          -0.3937605418819557,
          -0.37419794776974263,
          -0.22685283715932103,
          -0.21139825606347837,
          -0.20914773307510623,
          -0.34560110129410027,
          -0.21416686321740241,
          -0.2651421381672018,
          -0.39492796047628326,
          -0.35279499922103097,
          -0.35279499922103097,
          -0.3774597843038136,
          -0.3554777714855882,
          -0.20845548604396597,
          -0.2712282807590235,
          -0.10602790535399724,
          -0.368761591373945,
          -0.26242753592991047,
          -0.34632094064640845,
          -0.22839001205726234,
          -0.32990426352310154,
          -0.27463451171704006,
          -0.24874422770391466,
          -0.2816123262494648,
          -0.16344043977098502,
          -0.23583050540212963,
          -0.3627709212223845,
          -0.31515073140611205,
          -0.3505579704634858,
          -0.3505567547143995,
          -0.33144027080103644,
          -0.3591541139389349,
          -0.3993645461748528,
          -0.27486614111105234,
          -0.2686807572337602,
          -0.2430971094416965,
          -0.2656320301589372,
          -0.3025163464099362,
          -0.23476246758613784,
          -0.13491490926125663,
          -0.2995394826359428,
          -0.35787728138281233,
          -0.25819503169458835,
          -0.25080595593989047,
          -0.30275813893170445,
          -0.36740736671016255,
          -0.2202455698316536,
          -0.3335812781209163,
          -0.3562035156409333,
          -0.3065179284426109,
          -0.09389787529801699
         ],
         "yaxis": "y"
        },
        {
         "customdata": [
          [
           "TOMPKINS FINANCIAL CORP",
           "State Commercial Banks (commercial banking)"
          ],
          [
           "TRIUMPH BANCORP, INC.",
           "State Commercial Banks (commercial banking)"
          ],
          [
           "GREAT SOUTHERN BANCORP, INC.",
           "State Commercial Banks (commercial banking)"
          ],
          [
           "SOUTH STATE CORP",
           "State Commercial Banks (commercial banking)"
          ],
          [
           "OLD LINE BANCSHARES INC",
           "State Commercial Banks (commercial banking)"
          ],
          [
           "SEACOAST BANKING CORP OF FLORIDA",
           "State Commercial Banks (commercial banking)"
          ],
          [
           "CITIZENS FINANCIAL GROUP INC/RI",
           "State Commercial Banks (commercial banking)"
          ],
          [
           "COMMUNITY WEST BANCSHARES /",
           "State Commercial Banks (commercial banking)"
          ],
          [
           "MACKINAC FINANCIAL CORP /MI/",
           "State Commercial Banks (commercial banking)"
          ],
          [
           "UNITY BANCORP INC /NJ/",
           "State Commercial Banks (commercial banking)"
          ],
          [
           "UNITY BANCORP INC /NJ/",
           "State Commercial Banks (commercial banking)"
          ],
          [
           "EAST WEST BANCORP INC",
           "State Commercial Banks (commercial banking)"
          ],
          [
           "HEARTLAND FINANCIAL USA INC",
           "State Commercial Banks (commercial banking)"
          ],
          [
           "COUNTY BANCORP, INC.",
           "State Commercial Banks (commercial banking)"
          ],
          [
           "CHEMUNG FINANCIAL CORP",
           "State Commercial Banks (commercial banking)"
          ],
          [
           "BRYN MAWR BANK CORP",
           "State Commercial Banks (commercial banking)"
          ],
          [
           "EAGLE BANCORP MONTANA, INC.",
           "State Commercial Banks (commercial banking)"
          ],
          [
           "1ST SOURCE CORP",
           "State Commercial Banks (commercial banking)"
          ],
          [
           "SERVISFIRST BANCSHARES, INC.",
           "State Commercial Banks (commercial banking)"
          ],
          [
           "SIERRA BANCORP",
           "State Commercial Banks (commercial banking)"
          ],
          [
           "HOPFED BANCORP INC",
           "State Commercial Banks (commercial banking)"
          ],
          [
           "HOPFED BANCORP INC",
           "State Commercial Banks (commercial banking)"
          ],
          [
           "FIRST FINANCIAL BANKSHARES INC",
           "State Commercial Banks (commercial banking)"
          ],
          [
           "CHEMICAL FINANCIAL CORP",
           "State Commercial Banks (commercial banking)"
          ],
          [
           "SECURITY FEDERAL CORP",
           "State Commercial Banks (commercial banking)"
          ],
          [
           "FIRST FINANCIAL CORP /IN/",
           "State Commercial Banks (commercial banking)"
          ],
          [
           "WESTERN ALLIANCE BANCORPORATION",
           "State Commercial Banks (commercial banking)"
          ],
          [
           "TRISTATE CAPITAL HOLDINGS, INC.",
           "State Commercial Banks (commercial banking)"
          ],
          [
           "UNION BANKSHARES CORP",
           "State Commercial Banks (commercial banking)"
          ],
          [
           "CAROLINA TRUST BANCSHARES, INC.",
           "State Commercial Banks (commercial banking)"
          ],
          [
           "COMMUNITY TRUST BANCORP INC /KY/",
           "State Commercial Banks (commercial banking)"
          ],
          [
           "HILLS BANCORPORATION",
           "State Commercial Banks (commercial banking)"
          ],
          [
           "MACATAWA BANK CORP",
           "State Commercial Banks (commercial banking)"
          ],
          [
           "PREMIER FINANCIAL BANCORP INC",
           "State Commercial Banks (commercial banking)"
          ],
          [
           "KENTUCKY BANCSHARES INC /KY/",
           "State Commercial Banks (commercial banking)"
          ],
          [
           "RIVER FINANCIAL CORP",
           "State Commercial Banks (commercial banking)"
          ],
          [
           "BAR HARBOR BANKSHARES",
           "State Commercial Banks (commercial banking)"
          ],
          [
           "PARKE BANCORP, INC.",
           "State Commercial Banks (commercial banking)"
          ],
          [
           "RANDOLPH BANCORP, INC.",
           "State Commercial Banks (commercial banking)"
          ],
          [
           "BANK OF HAWAII CORP",
           "State Commercial Banks (commercial banking)"
          ],
          [
           "BSB BANCORP, INC.",
           "State Commercial Banks (commercial banking)"
          ],
          [
           "INDEPENDENT BANK CORP /MI/",
           "State Commercial Banks (commercial banking)"
          ],
          [
           "PACIFIC PREMIER BANCORP INC",
           "State Commercial Banks (commercial banking)"
          ],
          [
           "OHIO VALLEY BANC CORP",
           "State Commercial Banks (commercial banking)"
          ],
          [
           "CVB FINANCIAL CORP",
           "State Commercial Banks (commercial banking)"
          ],
          [
           "BANK OF NEW YORK MELLON CORP",
           "State Commercial Banks (commercial banking)"
          ],
          [
           "TWO RIVER BANCORP",
           "State Commercial Banks (commercial banking)"
          ],
          [
           "STEWARDSHIP FINANCIAL CORP",
           "State Commercial Banks (commercial banking)"
          ],
          [
           "LAKELAND FINANCIAL CORP",
           "State Commercial Banks (commercial banking)"
          ],
          [
           "FAUQUIER BANKSHARES, INC.",
           "State Commercial Banks (commercial banking)"
          ],
          [
           "LIVE OAK BANCSHARES, INC.",
           "State Commercial Banks (commercial banking)"
          ],
          [
           "M&T BANK CORP",
           "State Commercial Banks (commercial banking)"
          ],
          [
           "INTERNATIONAL BANCSHARES CORP",
           "State Commercial Banks (commercial banking)"
          ],
          [
           "SUMMIT FINANCIAL GROUP INC",
           "State Commercial Banks (commercial banking)"
          ],
          [
           "SUSSEX BANCORP",
           "State Commercial Banks (commercial banking)"
          ],
          [
           "PRIME MERIDIAN HOLDING CO",
           "State Commercial Banks (commercial banking)"
          ],
          [
           "BANKWELL FINANCIAL GROUP, INC.",
           "State Commercial Banks (commercial banking)"
          ],
          [
           "SOUTHWEST GEORGIA FINANCIAL CORP",
           "State Commercial Banks (commercial banking)"
          ],
          [
           "BANK OF COMMERCE HOLDINGS",
           "State Commercial Banks (commercial banking)"
          ],
          [
           "BANK OF COMMERCE HOLDINGS",
           "State Commercial Banks (commercial banking)"
          ],
          [
           "UNITED BANCORP INC /OH/",
           "State Commercial Banks (commercial banking)"
          ],
          [
           "PARKWAY ACQUISITION CORP.",
           "State Commercial Banks (commercial banking)"
          ],
          [
           "INVESTAR HOLDING CORP",
           "State Commercial Banks (commercial banking)"
          ],
          [
           "RENASANT CORP",
           "State Commercial Banks (commercial banking)"
          ],
          [
           "RELIANT BANCORP, INC.",
           "State Commercial Banks (commercial banking)"
          ],
          [
           "FIRST COMMUNITY CORP /SC/",
           "State Commercial Banks (commercial banking)"
          ],
          [
           "FIRST FINANCIAL NORTHWEST, INC.",
           "State Commercial Banks (commercial banking)"
          ],
          [
           "COMMERCE BANCSHARES INC /MO/",
           "State Commercial Banks (commercial banking)"
          ],
          [
           "JUNIATA VALLEY FINANCIAL CORP",
           "State Commercial Banks (commercial banking)"
          ],
          [
           "HOWARD BANCORP INC",
           "State Commercial Banks (commercial banking)"
          ],
          [
           "EAGLE FINANCIAL SERVICES INC",
           "State Commercial Banks (commercial banking)"
          ],
          [
           "MVB FINANCIAL CORP",
           "State Commercial Banks (commercial banking)"
          ],
          [
           "INDEPENDENT BANK GROUP, INC.",
           "State Commercial Banks (commercial banking)"
          ],
          [
           "CONNECTONE BANCORP, INC.",
           "State Commercial Banks (commercial banking)"
          ],
          [
           "REPUBLIC BANCORP INC /KY/",
           "State Commercial Banks (commercial banking)"
          ],
          [
           "SOUTHSIDE BANCSHARES INC",
           "State Commercial Banks (commercial banking)"
          ],
          [
           "FIRST HAWAIIAN, INC.",
           "State Commercial Banks (commercial banking)"
          ],
          [
           "FIRST US BANCSHARES INC",
           "State Commercial Banks (commercial banking)"
          ],
          [
           "COMMUNITY FINANCIAL CORP /MD/",
           "State Commercial Banks (commercial banking)"
          ],
          [
           "BANNER CORP",
           "State Commercial Banks (commercial banking)"
          ],
          [
           "SVB FINANCIAL GROUP",
           "State Commercial Banks (commercial banking)"
          ],
          [
           "CATHAY GENERAL BANCORP",
           "State Commercial Banks (commercial banking)"
          ],
          [
           "BANK OF THE JAMES FINANCIAL GROUP INC",
           "State Commercial Banks (commercial banking)"
          ],
          [
           "FLUSHING FINANCIAL CORP",
           "State Commercial Banks (commercial banking)"
          ],
          [
           "FRANKLIN FINANCIAL SERVICES CORP /PA/",
           "State Commercial Banks (commercial banking)"
          ],
          [
           "CENTRAL PACIFIC FINANCIAL CORP",
           "State Commercial Banks (commercial banking)"
          ],
          [
           "CENTRAL PACIFIC FINANCIAL CORP",
           "State Commercial Banks (commercial banking)"
          ],
          [
           "CENTRAL VALLEY COMMUNITY BANCORP",
           "State Commercial Banks (commercial banking)"
          ],
          [
           "F&M BANK CORP",
           "State Commercial Banks (commercial banking)"
          ],
          [
           "FARMERS NATIONAL BANC CORP /OH/",
           "State Commercial Banks (commercial banking)"
          ],
          [
           "CITIZENS & NORTHERN CORP",
           "State Commercial Banks (commercial banking)"
          ],
          [
           "GUARANTY FEDERAL BANCSHARES INC",
           "State Commercial Banks (commercial banking)"
          ],
          [
           "CAROLINA FINANCIAL CORP",
           "State Commercial Banks (commercial banking)"
          ],
          [
           "FIRST INTERNET BANCORP",
           "State Commercial Banks (commercial banking)"
          ],
          [
           "HARBORONE BANCORP, INC.",
           "State Commercial Banks (commercial banking)"
          ],
          [
           "UNITED BANKSHARES INC/WV",
           "State Commercial Banks (commercial banking)"
          ],
          [
           "INDEPENDENT BANK CORP",
           "State Commercial Banks (commercial banking)"
          ],
          [
           "CITIZENS FINANCIAL SERVICES INC",
           "State Commercial Banks (commercial banking)"
          ],
          [
           "NORWOOD FINANCIAL CORP",
           "State Commercial Banks (commercial banking)"
          ],
          [
           "WEST BANCORPORATION INC",
           "State Commercial Banks (commercial banking)"
          ],
          [
           "CUSTOMERS BANCORP, INC.",
           "State Commercial Banks (commercial banking)"
          ],
          [
           "WEST END INDIANA BANCSHARES, INC.",
           "State Commercial Banks (commercial banking)"
          ],
          [
           "ATLANTIC CAPITAL BANCSHARES, INC.",
           "State Commercial Banks (commercial banking)"
          ],
          [
           "IBERIABANK CORP",
           "State Commercial Banks (commercial banking)"
          ],
          [
           "MERCANTILE BANK CORP",
           "State Commercial Banks (commercial banking)"
          ],
          [
           "GERMAN AMERICAN BANCORP, INC.",
           "State Commercial Banks (commercial banking)"
          ],
          [
           "S&T BANCORP INC",
           "State Commercial Banks (commercial banking)"
          ],
          [
           "HILLTOP HOLDINGS INC.",
           "State Commercial Banks (commercial banking)"
          ],
          [
           "CB FINANCIAL SERVICES, INC.",
           "State Commercial Banks (commercial banking)"
          ],
          [
           "ENTERPRISE FINANCIAL SERVICES CORP",
           "State Commercial Banks (commercial banking)"
          ],
          [
           "AUBURN NATIONAL BANCORPORATION, INC",
           "State Commercial Banks (commercial banking)"
          ],
          [
           "FIRST KEYSTONE CORP",
           "State Commercial Banks (commercial banking)"
          ],
          [
           "TEXAS CAPITAL BANCSHARES INC/TX",
           "State Commercial Banks (commercial banking)"
          ],
          [
           "VILLAGE BANK & TRUST FINANCIAL CORP.",
           "State Commercial Banks (commercial banking)"
          ],
          [
           "STOCK YARDS BANCORP, INC.",
           "State Commercial Banks (commercial banking)"
          ],
          [
           "BUSINESS FIRST BANCSHARES, INC.",
           "State Commercial Banks (commercial banking)"
          ]
         ],
         "hovertemplate": "color=State Commercial Banks (commercial banking)<br>0=%{x}<br>1=%{y}<br>name=%{customdata[0]}<br>industry=%{customdata[1]}<extra></extra>",
         "legendgroup": "State Commercial Banks (commercial banking)",
         "marker": {
          "color": "#FFA15A",
          "symbol": "circle"
         },
         "mode": "markers",
         "name": "State Commercial Banks (commercial banking)",
         "orientation": "v",
         "showlegend": true,
         "type": "scatter",
         "x": [
          0.567478181857535,
          0.5085795058804088,
          0.4191285302119418,
          0.6333840496291118,
          0.5778981682148923,
          0.621997836636398,
          0.5693434536708453,
          0.3089058792175569,
          0.5261838774243781,
          0.5193351210708137,
          0.5193351210708137,
          0.012632031914587123,
          0.6232506003669642,
          0.6106943697812398,
          0.5709179845161345,
          0.5364737709280833,
          0.4861403422065157,
          0.6119849779070403,
          0.5732983061035177,
          0.5672701650732014,
          0.5772384859775643,
          0.5772384859775643,
          0.5461570256801915,
          0.6275374958385026,
          0.5291013518537129,
          0.6224765963636012,
          0.28066865752680636,
          0.6145907607332707,
          0.5858271138690011,
          0.592751432285628,
          0.4787871703085275,
          0.6136609331491796,
          0.5156144649643157,
          0.5857670599080442,
          0.5518097360989834,
          0.614601670056946,
          0.6132003883026448,
          0.6070849129312509,
          0.53396533297355,
          0.36416589799523036,
          0.455167360164777,
          0.07006496322387547,
          0.6322261013159259,
          0.5645376450369948,
          0.5510286308702345,
          0.09619416823801988,
          0.5105386931925103,
          0.5722057960171594,
          0.5977204378688684,
          0.6284233312790235,
          0.6143224963863794,
          0.538718053418755,
          0.5742632622472518,
          0.4984540199031461,
          0.5600712228304351,
          0.5857116503585764,
          0.5937949639673423,
          0.4618381235436155,
          0.5947910863136321,
          0.5947910863136321,
          0.5566120914002431,
          0.5986764070459214,
          0.6505695304494222,
          0.6039222180313524,
          0.5676033032457056,
          0.6322831376071808,
          0.5160752064071281,
          0.5721188035313804,
          0.5597209213818228,
          0.2685498379375611,
          0.5866682348411315,
          0.5629385948145511,
          0.6220402660162412,
          0.5763584743642505,
          0.45922845094991027,
          0.5882745073714986,
          0.6056475843956012,
          0.5344945382383202,
          0.47754237048310777,
          -0.014283446473278094,
          0.5416425220117569,
          0.5824621868202352,
          0.5926427121195144,
          0.4037259864752541,
          0.5988682969375264,
          0.6193209484189152,
          0.6193209484189152,
          0.6126640223388184,
          0.008732497640596337,
          0.5360106518803047,
          0.2197886287635399,
          0.5219975205394813,
          0.6422150256828839,
          0.5919811967751617,
          0.593781591493194,
          0.5718041884887907,
          0.4670981789389352,
          0.5593720776657242,
          0.588510657687156,
          0.5909456485881006,
          0.5720047800621538,
          0.45112637978749254,
          0.630815809792618,
          0.5901177249362763,
          0.5280323894828337,
          0.5313234497349014,
          0.2025021087668711,
          0.5759753485238984,
          0.39554553039543505,
          0.07691154058443339,
          0.616818071310694,
          0.5214460937850054,
          0.5670267858748971,
          0.6092776701845616,
          0.4931646082186296,
          0.65920381897674
         ],
         "xaxis": "x",
         "y": [
          0.4507195199235631,
          0.30871132535261525,
          0.06359152178697625,
          0.507375347939137,
          0.41510903694472573,
          0.5335225363707107,
          0.47669407842258876,
          0.09944274697688606,
          0.35536633733240086,
          0.4644042867045443,
          0.4644042867045443,
          -0.09894981228882128,
          0.494462443965638,
          0.44662095476407326,
          0.40977897238336736,
          0.444247013800057,
          0.2429684739410686,
          0.5057228213902052,
          0.404793070670716,
          0.43425534108555025,
          0.4107866963525328,
          0.4107866963525328,
          0.45258006774977594,
          0.40578345520424225,
          0.21373929842204248,
          0.501007235039025,
          0.00770307966791105,
          0.41998890590048177,
          0.5100358266452544,
          0.49808444758415693,
          0.39942028503955507,
          0.4428088718174658,
          0.29452210718456184,
          0.495391357087185,
          0.42140319801575005,
          0.4991025160883507,
          0.4755315750517712,
          0.39980114715497117,
          0.2831508661902404,
          0.24136960214575048,
          0.13883498799625962,
          -0.0734560533812552,
          0.4642878925991089,
          0.3894185498801853,
          0.4060733366990945,
          -0.0347900153208199,
          0.3046305695437805,
          0.48804822911535617,
          0.4977268177284026,
          0.4732444304696545,
          0.5171875823933588,
          0.42673158400545397,
          0.5006515452551816,
          0.372526543891115,
          0.4900815088690413,
          0.39487104154178587,
          0.40990817049343903,
          0.29883038898451836,
          0.49651721922769176,
          0.49651721922769176,
          0.4047045475398018,
          0.5049330969649712,
          0.47340602182107366,
          0.3524941820988829,
          0.49626250781156256,
          0.5189477431700327,
          0.1877921456481426,
          0.48644266749639953,
          0.4237552869881777,
          -0.04839507557925568,
          0.48739952142045323,
          0.4438229636107752,
          0.5037887847013133,
          0.4690975307132786,
          0.27509209998211914,
          0.4945396920966364,
          0.510823675389161,
          0.4350414679566935,
          0.21125338103554842,
          -0.047246916884780076,
          0.47252381140195315,
          0.4152136903841804,
          0.4851440212351421,
          0.09531898787943682,
          0.3978211644976991,
          0.45966296159279635,
          0.45966296159279635,
          0.485441140924439,
          -0.0490628560006202,
          0.4422841931030483,
          0.11650919727581362,
          0.266393515923877,
          0.48572830859168176,
          0.4779153579418558,
          0.36179886891293045,
          0.36479238059735963,
          0.1484723682655303,
          0.46829506521814607,
          0.40123227080818036,
          0.49673672157155635,
          0.4554009263579535,
          0.19198488033299038,
          0.46503082362676024,
          0.49224597474030024,
          0.29382624080210484,
          0.4192952262784855,
          0.1246676778827356,
          0.4480437357253245,
          0.08820140780365425,
          -0.03129678691254557,
          0.5260692880612967,
          0.42819870209588073,
          0.47733605660554507,
          0.4860167988841197,
          0.4086776078915632,
          0.4870147461871386
         ],
         "yaxis": "y"
        }
       ],
       "layout": {
        "height": 700,
        "legend": {
         "orientation": "h",
         "title": {
          "text": "color"
         },
         "tracegroupgap": 0,
         "x": 0.5,
         "xanchor": "center",
         "y": -0.25,
         "yanchor": "bottom"
        },
        "margin": {
         "t": 60
        },
        "template": {
         "data": {
          "bar": [
           {
            "error_x": {
             "color": "#2a3f5f"
            },
            "error_y": {
             "color": "#2a3f5f"
            },
            "marker": {
             "line": {
              "color": "#E5ECF6",
              "width": 0.5
             },
             "pattern": {
              "fillmode": "overlay",
              "size": 10,
              "solidity": 0.2
             }
            },
            "type": "bar"
           }
          ],
          "barpolar": [
           {
            "marker": {
             "line": {
              "color": "#E5ECF6",
              "width": 0.5
             },
             "pattern": {
              "fillmode": "overlay",
              "size": 10,
              "solidity": 0.2
             }
            },
            "type": "barpolar"
           }
          ],
          "carpet": [
           {
            "aaxis": {
             "endlinecolor": "#2a3f5f",
             "gridcolor": "white",
             "linecolor": "white",
             "minorgridcolor": "white",
             "startlinecolor": "#2a3f5f"
            },
            "baxis": {
             "endlinecolor": "#2a3f5f",
             "gridcolor": "white",
             "linecolor": "white",
             "minorgridcolor": "white",
             "startlinecolor": "#2a3f5f"
            },
            "type": "carpet"
           }
          ],
          "choropleth": [
           {
            "colorbar": {
             "outlinewidth": 0,
             "ticks": ""
            },
            "type": "choropleth"
           }
          ],
          "contour": [
           {
            "colorbar": {
             "outlinewidth": 0,
             "ticks": ""
            },
            "colorscale": [
             [
              0,
              "#0d0887"
             ],
             [
              0.1111111111111111,
              "#46039f"
             ],
             [
              0.2222222222222222,
              "#7201a8"
             ],
             [
              0.3333333333333333,
              "#9c179e"
             ],
             [
              0.4444444444444444,
              "#bd3786"
             ],
             [
              0.5555555555555556,
              "#d8576b"
             ],
             [
              0.6666666666666666,
              "#ed7953"
             ],
             [
              0.7777777777777778,
              "#fb9f3a"
             ],
             [
              0.8888888888888888,
              "#fdca26"
             ],
             [
              1,
              "#f0f921"
             ]
            ],
            "type": "contour"
           }
          ],
          "contourcarpet": [
           {
            "colorbar": {
             "outlinewidth": 0,
             "ticks": ""
            },
            "type": "contourcarpet"
           }
          ],
          "heatmap": [
           {
            "colorbar": {
             "outlinewidth": 0,
             "ticks": ""
            },
            "colorscale": [
             [
              0,
              "#0d0887"
             ],
             [
              0.1111111111111111,
              "#46039f"
             ],
             [
              0.2222222222222222,
              "#7201a8"
             ],
             [
              0.3333333333333333,
              "#9c179e"
             ],
             [
              0.4444444444444444,
              "#bd3786"
             ],
             [
              0.5555555555555556,
              "#d8576b"
             ],
             [
              0.6666666666666666,
              "#ed7953"
             ],
             [
              0.7777777777777778,
              "#fb9f3a"
             ],
             [
              0.8888888888888888,
              "#fdca26"
             ],
             [
              1,
              "#f0f921"
             ]
            ],
            "type": "heatmap"
           }
          ],
          "heatmapgl": [
           {
            "colorbar": {
             "outlinewidth": 0,
             "ticks": ""
            },
            "colorscale": [
             [
              0,
              "#0d0887"
             ],
             [
              0.1111111111111111,
              "#46039f"
             ],
             [
              0.2222222222222222,
              "#7201a8"
             ],
             [
              0.3333333333333333,
              "#9c179e"
             ],
             [
              0.4444444444444444,
              "#bd3786"
             ],
             [
              0.5555555555555556,
              "#d8576b"
             ],
             [
              0.6666666666666666,
              "#ed7953"
             ],
             [
              0.7777777777777778,
              "#fb9f3a"
             ],
             [
              0.8888888888888888,
              "#fdca26"
             ],
             [
              1,
              "#f0f921"
             ]
            ],
            "type": "heatmapgl"
           }
          ],
          "histogram": [
           {
            "marker": {
             "pattern": {
              "fillmode": "overlay",
              "size": 10,
              "solidity": 0.2
             }
            },
            "type": "histogram"
           }
          ],
          "histogram2d": [
           {
            "colorbar": {
             "outlinewidth": 0,
             "ticks": ""
            },
            "colorscale": [
             [
              0,
              "#0d0887"
             ],
             [
              0.1111111111111111,
              "#46039f"
             ],
             [
              0.2222222222222222,
              "#7201a8"
             ],
             [
              0.3333333333333333,
              "#9c179e"
             ],
             [
              0.4444444444444444,
              "#bd3786"
             ],
             [
              0.5555555555555556,
              "#d8576b"
             ],
             [
              0.6666666666666666,
              "#ed7953"
             ],
             [
              0.7777777777777778,
              "#fb9f3a"
             ],
             [
              0.8888888888888888,
              "#fdca26"
             ],
             [
              1,
              "#f0f921"
             ]
            ],
            "type": "histogram2d"
           }
          ],
          "histogram2dcontour": [
           {
            "colorbar": {
             "outlinewidth": 0,
             "ticks": ""
            },
            "colorscale": [
             [
              0,
              "#0d0887"
             ],
             [
              0.1111111111111111,
              "#46039f"
             ],
             [
              0.2222222222222222,
              "#7201a8"
             ],
             [
              0.3333333333333333,
              "#9c179e"
             ],
             [
              0.4444444444444444,
              "#bd3786"
             ],
             [
              0.5555555555555556,
              "#d8576b"
             ],
             [
              0.6666666666666666,
              "#ed7953"
             ],
             [
              0.7777777777777778,
              "#fb9f3a"
             ],
             [
              0.8888888888888888,
              "#fdca26"
             ],
             [
              1,
              "#f0f921"
             ]
            ],
            "type": "histogram2dcontour"
           }
          ],
          "mesh3d": [
           {
            "colorbar": {
             "outlinewidth": 0,
             "ticks": ""
            },
            "type": "mesh3d"
           }
          ],
          "parcoords": [
           {
            "line": {
             "colorbar": {
              "outlinewidth": 0,
              "ticks": ""
             }
            },
            "type": "parcoords"
           }
          ],
          "pie": [
           {
            "automargin": true,
            "type": "pie"
           }
          ],
          "scatter": [
           {
            "fillpattern": {
             "fillmode": "overlay",
             "size": 10,
             "solidity": 0.2
            },
            "type": "scatter"
           }
          ],
          "scatter3d": [
           {
            "line": {
             "colorbar": {
              "outlinewidth": 0,
              "ticks": ""
             }
            },
            "marker": {
             "colorbar": {
              "outlinewidth": 0,
              "ticks": ""
             }
            },
            "type": "scatter3d"
           }
          ],
          "scattercarpet": [
           {
            "marker": {
             "colorbar": {
              "outlinewidth": 0,
              "ticks": ""
             }
            },
            "type": "scattercarpet"
           }
          ],
          "scattergeo": [
           {
            "marker": {
             "colorbar": {
              "outlinewidth": 0,
              "ticks": ""
             }
            },
            "type": "scattergeo"
           }
          ],
          "scattergl": [
           {
            "marker": {
             "colorbar": {
              "outlinewidth": 0,
              "ticks": ""
             }
            },
            "type": "scattergl"
           }
          ],
          "scattermapbox": [
           {
            "marker": {
             "colorbar": {
              "outlinewidth": 0,
              "ticks": ""
             }
            },
            "type": "scattermapbox"
           }
          ],
          "scatterpolar": [
           {
            "marker": {
             "colorbar": {
              "outlinewidth": 0,
              "ticks": ""
             }
            },
            "type": "scatterpolar"
           }
          ],
          "scatterpolargl": [
           {
            "marker": {
             "colorbar": {
              "outlinewidth": 0,
              "ticks": ""
             }
            },
            "type": "scatterpolargl"
           }
          ],
          "scatterternary": [
           {
            "marker": {
             "colorbar": {
              "outlinewidth": 0,
              "ticks": ""
             }
            },
            "type": "scatterternary"
           }
          ],
          "surface": [
           {
            "colorbar": {
             "outlinewidth": 0,
             "ticks": ""
            },
            "colorscale": [
             [
              0,
              "#0d0887"
             ],
             [
              0.1111111111111111,
              "#46039f"
             ],
             [
              0.2222222222222222,
              "#7201a8"
             ],
             [
              0.3333333333333333,
              "#9c179e"
             ],
             [
              0.4444444444444444,
              "#bd3786"
             ],
             [
              0.5555555555555556,
              "#d8576b"
             ],
             [
              0.6666666666666666,
              "#ed7953"
             ],
             [
              0.7777777777777778,
              "#fb9f3a"
             ],
             [
              0.8888888888888888,
              "#fdca26"
             ],
             [
              1,
              "#f0f921"
             ]
            ],
            "type": "surface"
           }
          ],
          "table": [
           {
            "cells": {
             "fill": {
              "color": "#EBF0F8"
             },
             "line": {
              "color": "white"
             }
            },
            "header": {
             "fill": {
              "color": "#C8D4E3"
             },
             "line": {
              "color": "white"
             }
            },
            "type": "table"
           }
          ]
         },
         "layout": {
          "annotationdefaults": {
           "arrowcolor": "#2a3f5f",
           "arrowhead": 0,
           "arrowwidth": 1
          },
          "autotypenumbers": "strict",
          "coloraxis": {
           "colorbar": {
            "outlinewidth": 0,
            "ticks": ""
           }
          },
          "colorscale": {
           "diverging": [
            [
             0,
             "#8e0152"
            ],
            [
             0.1,
             "#c51b7d"
            ],
            [
             0.2,
             "#de77ae"
            ],
            [
             0.3,
             "#f1b6da"
            ],
            [
             0.4,
             "#fde0ef"
            ],
            [
             0.5,
             "#f7f7f7"
            ],
            [
             0.6,
             "#e6f5d0"
            ],
            [
             0.7,
             "#b8e186"
            ],
            [
             0.8,
             "#7fbc41"
            ],
            [
             0.9,
             "#4d9221"
            ],
            [
             1,
             "#276419"
            ]
           ],
           "sequential": [
            [
             0,
             "#0d0887"
            ],
            [
             0.1111111111111111,
             "#46039f"
            ],
            [
             0.2222222222222222,
             "#7201a8"
            ],
            [
             0.3333333333333333,
             "#9c179e"
            ],
            [
             0.4444444444444444,
             "#bd3786"
            ],
            [
             0.5555555555555556,
             "#d8576b"
            ],
            [
             0.6666666666666666,
             "#ed7953"
            ],
            [
             0.7777777777777778,
             "#fb9f3a"
            ],
            [
             0.8888888888888888,
             "#fdca26"
            ],
            [
             1,
             "#f0f921"
            ]
           ],
           "sequentialminus": [
            [
             0,
             "#0d0887"
            ],
            [
             0.1111111111111111,
             "#46039f"
            ],
            [
             0.2222222222222222,
             "#7201a8"
            ],
            [
             0.3333333333333333,
             "#9c179e"
            ],
            [
             0.4444444444444444,
             "#bd3786"
            ],
            [
             0.5555555555555556,
             "#d8576b"
            ],
            [
             0.6666666666666666,
             "#ed7953"
            ],
            [
             0.7777777777777778,
             "#fb9f3a"
            ],
            [
             0.8888888888888888,
             "#fdca26"
            ],
            [
             1,
             "#f0f921"
            ]
           ]
          },
          "colorway": [
           "#636efa",
           "#EF553B",
           "#00cc96",
           "#ab63fa",
           "#FFA15A",
           "#19d3f3",
           "#FF6692",
           "#B6E880",
           "#FF97FF",
           "#FECB52"
          ],
          "font": {
           "color": "#2a3f5f"
          },
          "geo": {
           "bgcolor": "white",
           "lakecolor": "white",
           "landcolor": "#E5ECF6",
           "showlakes": true,
           "showland": true,
           "subunitcolor": "white"
          },
          "hoverlabel": {
           "align": "left"
          },
          "hovermode": "closest",
          "mapbox": {
           "style": "light"
          },
          "paper_bgcolor": "white",
          "plot_bgcolor": "#E5ECF6",
          "polar": {
           "angularaxis": {
            "gridcolor": "white",
            "linecolor": "white",
            "ticks": ""
           },
           "bgcolor": "#E5ECF6",
           "radialaxis": {
            "gridcolor": "white",
            "linecolor": "white",
            "ticks": ""
           }
          },
          "scene": {
           "xaxis": {
            "backgroundcolor": "#E5ECF6",
            "gridcolor": "white",
            "gridwidth": 2,
            "linecolor": "white",
            "showbackground": true,
            "ticks": "",
            "zerolinecolor": "white"
           },
           "yaxis": {
            "backgroundcolor": "#E5ECF6",
            "gridcolor": "white",
            "gridwidth": 2,
            "linecolor": "white",
            "showbackground": true,
            "ticks": "",
            "zerolinecolor": "white"
           },
           "zaxis": {
            "backgroundcolor": "#E5ECF6",
            "gridcolor": "white",
            "gridwidth": 2,
            "linecolor": "white",
            "showbackground": true,
            "ticks": "",
            "zerolinecolor": "white"
           }
          },
          "shapedefaults": {
           "line": {
            "color": "#2a3f5f"
           }
          },
          "ternary": {
           "aaxis": {
            "gridcolor": "white",
            "linecolor": "white",
            "ticks": ""
           },
           "baxis": {
            "gridcolor": "white",
            "linecolor": "white",
            "ticks": ""
           },
           "bgcolor": "#E5ECF6",
           "caxis": {
            "gridcolor": "white",
            "linecolor": "white",
            "ticks": ""
           }
          },
          "title": {
           "x": 0.05
          },
          "xaxis": {
           "automargin": true,
           "gridcolor": "white",
           "linecolor": "white",
           "ticks": "",
           "title": {
            "standoff": 15
           },
           "zerolinecolor": "white",
           "zerolinewidth": 2
          },
          "yaxis": {
           "automargin": true,
           "gridcolor": "white",
           "linecolor": "white",
           "ticks": "",
           "title": {
            "standoff": 15
           },
           "zerolinecolor": "white",
           "zerolinewidth": 2
          }
         }
        },
        "width": 1100,
        "xaxis": {
         "anchor": "y",
         "autorange": true,
         "domain": [
          0,
          1
         ],
         "range": [
          -0.7042099793682886,
          0.7370146148901616
         ],
         "title": {
          "text": "0"
         },
         "type": "linear"
        },
        "yaxis": {
         "anchor": "x",
         "autorange": true,
         "domain": [
          0,
          1
         ],
         "range": [
          -0.47347470069893083,
          0.5949235091900262
         ],
         "title": {
          "text": "1"
         },
         "type": "linear"
        }
       }
      },
      "image/png": "[encoded data removed]",
      "text/html": [
       "<div>                            <div id=\"fe9b7c8b-3ca5-4cce-a72e-40bd3165ba7f\" class=\"plotly-graph-div\" style=\"height:700px; width:1100px;\"></div>            <script type=\"text/javascript\">                require([\"plotly\"], function(Plotly) {                    window.PLOTLYENV=window.PLOTLYENV || {};                                    if (document.getElementById(\"fe9b7c8b-3ca5-4cce-a72e-40bd3165ba7f\")) {                    Plotly.newPlot(                        \"fe9b7c8b-3ca5-4cce-a72e-40bd3165ba7f\",                        [{\"customdata\":[[\"MONGODB, INC.\",\"Prepackaged Software (mass reproduction of software)\"],[\"SALESFORCE COM INC\",\"Prepackaged Software (mass reproduction of software)\"],[\"SPLUNK INC\",\"Prepackaged Software (mass reproduction of software)\"],[\"OKTA, INC.\",\"Prepackaged Software (mass reproduction of software)\"],[\"VEEVA SYSTEMS INC\",\"Prepackaged Software (mass reproduction of software)\"],[\"AUTODESK INC\",\"Prepackaged Software (mass reproduction of software)\"],[\"ETERNAL SPEECH, INC.\",\"Prepackaged Software (mass reproduction of software)\"],[\"ETERNAL SPEECH, INC.\",\"Prepackaged Software (mass reproduction of software)\"],[\"MAJESCO\",\"Prepackaged Software (mass reproduction of software)\"],[\"DUO WORLD INC\",\"Prepackaged Software (mass reproduction of software)\"],[\"COMMVAULT SYSTEMS INC\",\"Prepackaged Software (mass reproduction of software)\"],[\"UPPERSOLUTION.COM\",\"Prepackaged Software (mass reproduction of software)\"],[\"ORACLE CORP\",\"Prepackaged Software (mass reproduction of software)\"],[\"SAVMOBI TECHNOLOGY INC.\",\"Prepackaged Software (mass reproduction of software)\"],[\"ZEDGE, INC.\",\"Prepackaged Software (mass reproduction of software)\"],[\"DESTINY MEDIA TECHNOLOGIES INC\",\"Prepackaged Software (mass reproduction of software)\"],[\"TRAQER CORP\",\"Prepackaged Software (mass reproduction of software)\"],[\"VISIBER57 CORP.\",\"Prepackaged Software (mass reproduction of software)\"],[\"GH CAPITAL INC.\",\"Prepackaged Software (mass reproduction of software)\"],[\"BRIDGELINE DIGITAL, INC.\",\"Prepackaged Software (mass reproduction of software)\"],[\"NUANCE COMMUNICATIONS, INC.\",\"Prepackaged Software (mass reproduction of software)\"],[\"DATAWATCH CORP\",\"Prepackaged Software (mass reproduction of software)\"],[\"POLARITYTE, INC.\",\"Prepackaged Software (mass reproduction of software)\"],[\"POLARITYTE, INC.\",\"Prepackaged Software (mass reproduction of software)\"],[\"VGRAB COMMUNICATIONS INC.\",\"Prepackaged Software (mass reproduction of software)\"],[\"VGRAB COMMUNICATIONS INC.\",\"Prepackaged Software (mass reproduction of software)\"],[\"ADAIAH DISTRIBUTION INC\",\"Prepackaged Software (mass reproduction of software)\"],[\"ADAIAH DISTRIBUTION INC\",\"Prepackaged Software (mass reproduction of software)\"],[\"PROGRESS SOFTWARE CORP /MA\",\"Prepackaged Software (mass reproduction of software)\"],[\"MEDICAL INFORMATION TECHNOLOGY, INC.\",\"Prepackaged Software (mass reproduction of software)\"],[\"SPS COMMERCE INC\",\"Prepackaged Software (mass reproduction of software)\"],[\"ALTERYX, INC.\",\"Prepackaged Software (mass reproduction of software)\"],[\"INTELLIGENT SYSTEMS CORP\",\"Prepackaged Software (mass reproduction of software)\"],[\"ALARM.COM HOLDINGS, INC.\",\"Prepackaged Software (mass reproduction of software)\"],[\"LIGHTNING GAMING, INC.\",\"Prepackaged Software (mass reproduction of software)\"],[\"ENDURANCE INTERNATIONAL GROUP HOLDINGS, INC.\",\"Prepackaged Software (mass reproduction of software)\"],[\"2U, INC.\",\"Prepackaged Software (mass reproduction of software)\"],[\"CISION LTD.\",\"Prepackaged Software (mass reproduction of software)\"],[\"BTCS INC.\",\"Prepackaged Software (mass reproduction of software)\"],[\"BTCS INC.\",\"Prepackaged Software (mass reproduction of software)\"],[\"BTCS INC.\",\"Prepackaged Software (mass reproduction of software)\"],[\"INTELLICHECK, INC.\",\"Prepackaged Software (mass reproduction of software)\"],[\"REALPAGE INC\",\"Prepackaged Software (mass reproduction of software)\"],[\"Q2 HOLDINGS, INC.\",\"Prepackaged Software (mass reproduction of software)\"],[\"MCORPCX, INC.\",\"Prepackaged Software (mass reproduction of software)\"],[\"QUALYS, INC.\",\"Prepackaged Software (mass reproduction of software)\"],[\"MEDICAL TRANSCRIPTION BILLING, CORP\",\"Prepackaged Software (mass reproduction of software)\"],[\"SMITH MICRO SOFTWARE INC\",\"Prepackaged Software (mass reproduction of software)\"],[\"SHOTSPOTTER, INC\",\"Prepackaged Software (mass reproduction of software)\"],[\"LONGWEN GROUP CORP.\",\"Prepackaged Software (mass reproduction of software)\"],[\"ELLIE MAE INC\",\"Prepackaged Software (mass reproduction of software)\"],[\"ROSETTA STONE INC\",\"Prepackaged Software (mass reproduction of software)\"],[\"BLACK KNIGHT, INC.\",\"Prepackaged Software (mass reproduction of software)\"],[\"MICROSTRATEGY INC\",\"Prepackaged Software (mass reproduction of software)\"],[\"EMR TECHNOLOGY SOLUTIONS, INC.\",\"Prepackaged Software (mass reproduction of software)\"],[\"PAYCOM SOFTWARE, INC.\",\"Prepackaged Software (mass reproduction of software)\"],[\"3D SYSTEMS CORP\",\"Prepackaged Software (mass reproduction of software)\"],[\"APPIAN CORP\",\"Prepackaged Software (mass reproduction of software)\"],[\"UPLAND SOFTWARE, INC.\",\"Prepackaged Software (mass reproduction of software)\"],[\"LIVEPERSON INC\",\"Prepackaged Software (mass reproduction of software)\"],[\"AWARE INC /MA/\",\"Prepackaged Software (mass reproduction of software)\"],[\"ULTIMATE SOFTWARE GROUP INC\",\"Prepackaged Software (mass reproduction of software)\"],[\"ANSYS INC\",\"Prepackaged Software (mass reproduction of software)\"],[\"AVID TECHNOLOGY, INC.\",\"Prepackaged Software (mass reproduction of software)\"],[\"NATIONAL INSTRUMENTS CORP\",\"Prepackaged Software (mass reproduction of software)\"],[\"INSPRO TECHNOLOGIES CORP\",\"Prepackaged Software (mass reproduction of software)\"],[\"QUMU CORP\",\"Prepackaged Software (mass reproduction of software)\"],[\"ACI WORLDWIDE, INC.\",\"Prepackaged Software (mass reproduction of software)\"],[\"SQUARE, INC.\",\"Prepackaged Software (mass reproduction of software)\"],[\"ALTAIR ENGINEERING INC.\",\"Prepackaged Software (mass reproduction of software)\"],[\"TALEND SA\",\"Prepackaged Software (mass reproduction of software)\"],[\"APPFOLIO INC\",\"Prepackaged Software (mass reproduction of software)\"],[\"GSE SYSTEMS INC\",\"Prepackaged Software (mass reproduction of software)\"],[\"IPSIDY INC.\",\"Prepackaged Software (mass reproduction of software)\"],[\"INTELLINETICS, INC.\",\"Prepackaged Software (mass reproduction of software)\"],[\"INTELLINETICS, INC.\",\"Prepackaged Software (mass reproduction of software)\"],[\"IIOT-OXYS, INC.\",\"Prepackaged Software (mass reproduction of software)\"],[\"NEWGIOCO GROUP, INC.\",\"Prepackaged Software (mass reproduction of software)\"],[\"WORKIVA INC\",\"Prepackaged Software (mass reproduction of software)\"],[\"TABLEAU SOFTWARE INC\",\"Prepackaged Software (mass reproduction of software)\"]],\"hovertemplate\":\"color=Prepackaged Software (mass reproduction of software)<br>0=%{x}<br>1=%{y}<br>name=%{customdata[0]}<br>industry=%{customdata[1]}<extra></extra>\",\"legendgroup\":\"Prepackaged Software (mass reproduction of software)\",\"marker\":{\"color\":\"#636efa\",\"symbol\":\"circle\"},\"mode\":\"markers\",\"name\":\"Prepackaged Software (mass reproduction of software)\",\"orientation\":\"v\",\"showlegend\":true,\"x\":[-0.08898937713306726,-0.021609906790454044,-0.048425271266171,-0.08850959250692716,0.006313932852060821,-0.057229208902906746,-0.013322836251161464,-0.013322836251161464,-0.01567430423878135,-0.043156980579877956,-0.0662501884562171,-0.058412273095123285,-0.009891943937656512,-0.0024806789622232074,-0.007023269201751469,-0.08390229127870236,0.0478156901952963,-0.0021173111229734185,0.012012382613462306,-0.033713821830963116,-0.045720198218397394,-0.034011060568648555,-0.34207141897230686,-0.34207141897230686,0.04865799504821164,0.04865799504821164,0.03443329799265777,0.03443329799265777,-0.03127621575143739,-0.03641931255949607,-0.0012882185893910002,-0.10411965415479783,0.024665818872866313,-0.032375689443579915,-0.07814868869816993,-0.05453489129749403,-0.018351070814382184,-0.05373447775335721,0.06920153566157604,0.06920153566157604,0.06920153566157604,0.011206668697579417,0.10482440843767633,0.04339833290198209,-0.022676671981945253,-0.07094765106324097,0.003976315264159174,-0.09282992802128369,-0.10170562203671386,0.038081728706965697,0.023998120627736316,-0.03877453030778394,0.21211960019447118,-0.031121272160104574,-0.10323672764867253,-0.04981221740193405,-0.011015208177383867,-0.050347961374903105,-0.025409326914672153,-0.09023224819536707,-0.06440710213849182,-0.014830355480477023,0.017211525460242946,-0.07455515172122593,-0.044455461617454,0.004165269319779241,-0.05471978378205432,0.0026298443208501677,-0.03539947640315238,-0.08486730203946212,-0.08000824998867455,0.10366818615171765,0.041231477197715125,-0.04730751021769797,0.03031506046225564,0.03031506046225564,-0.0921088631238819,-0.026824040555147737,-0.03267077099697832,-0.11655778779845256],\"xaxis\":\"x\",\"y\":[-0.10697408611179222,-0.12067199449570377,-0.11716038143030366,-0.0954036657428221,-0.181254079448241,-0.07497791002380538,-0.06586281427701174,-0.06586281427701174,-0.17099482451685133,-0.1186855523000678,-0.0704230191486554,-0.12303923262230991,-0.09832936692603136,-0.14514031064479274,-0.06439514904530239,-0.06640365802349606,-0.06334029624836864,-0.09740525643102634,-0.08287460707435328,-0.1257943826457803,-0.08894379350565863,-0.09336838123386247,0.14131398372304438,0.14131398372304438,-0.08739322218545807,-0.08739322218545807,-0.16953537523820217,-0.16953537523820217,-0.13295701576371258,-0.08312694740612145,-0.12659333955674262,-0.07730605889343709,-0.1400048009500539,-0.06186757897937781,-0.04758159526887664,-0.14844535250452062,-0.10032745236977549,-0.10444187220182614,-0.09463441243637839,-0.09463441243637839,-0.09463441243637839,-0.06828139269367327,-0.25848336019224455,-0.010320006226569006,-0.17668209404861643,-0.09332527854330046,-0.14488702441666476,-0.06348431218857298,-0.11040694623030495,-0.15123835710471212,-0.08885297094933253,-0.1258969151063656,-0.11804359949446276,-0.12107701637744737,-0.016428505411291303,-0.14146921604778748,-0.07057013303233618,-0.08670470457835916,-0.13635891325106564,-0.07650531512765602,-0.04914989921446673,-0.10579372266961692,-0.08933984634620351,-0.08160275018702606,-0.11650963072011167,-0.1139349483059687,-0.13593976511892505,-0.03347493740435905,-0.05280718347395385,-0.07327666741645708,-0.09261454984409394,-0.26784354479363015,-0.177369737634779,-0.05575363603168058,-0.10221768025676045,-0.10221768025676045,-0.06890295930496353,-0.11798829760205858,-0.05703883506335904,-0.0778372757670251],\"yaxis\":\"y\",\"type\":\"scatter\"},{\"customdata\":[[\"INTERNATIONAL WESTERN PETROLEUM, INC.\",\"Crude Petroleum and Natural Gas\"],[\"DAYBREAK OIL & GAS, INC.\",\"Crude Petroleum and Natural Gas\"],[\"GB SCIENCES INC\",\"Crude Petroleum and Natural Gas\"],[\"FREEDOM HOLDING CORP.\",\"Crude Petroleum and Natural Gas\"],[\"MEXCO ENERGY CORP\",\"Crude Petroleum and Natural Gas\"],[\"SUSTAINABLE PROJECTS GROUP INC.\",\"Crude Petroleum and Natural Gas\"],[\"AMERICAN ENERGY GROUP LTD\",\"Crude Petroleum and Natural Gas\"],[\"REDHAWK HOLDINGS CORP.\",\"Crude Petroleum and Natural Gas\"],[\"TIANCI INTERNATIONAL, INC.\",\"Crude Petroleum and Natural Gas\"],[\"AMAZING ENERGY OIL & GAS, CO.\",\"Crude Petroleum and Natural Gas\"],[\"ALTEX INDUSTRIES INC\",\"Crude Petroleum and Natural Gas\"],[\"BARNWELL INDUSTRIES INC\",\"Crude Petroleum and Natural Gas\"],[\"PANHANDLE OIL & GAS INC\",\"Crude Petroleum and Natural Gas\"],[\"ENERGY 11, L.P.\",\"Crude Petroleum and Natural Gas\"],[\"ABRAXAS PETROLEUM CORP\",\"Crude Petroleum and Natural Gas\"],[\"SEARS OIL & GAS\",\"Crude Petroleum and Natural Gas\"],[\"APACHE CORP\",\"Crude Petroleum and Natural Gas\"],[\"GULFPORT ENERGY CORP\",\"Crude Petroleum and Natural Gas\"],[\"CONTINENTAL RESOURCES, INC\",\"Crude Petroleum and Natural Gas\"],[\"ISRAMCO INC\",\"Crude Petroleum and Natural Gas\"],[\"CHAPARRAL ENERGY, INC.\",\"Crude Petroleum and Natural Gas\"],[\"WHITING PETROLEUM CORP\",\"Crude Petroleum and Natural Gas\"],[\"CONTANGO OIL & GAS CO\",\"Crude Petroleum and Natural Gas\"],[\"EARTHSTONE ENERGY INC\",\"Crude Petroleum and Natural Gas\"],[\"CLEAN COAL TECHNOLOGIES INC.\",\"Crude Petroleum and Natural Gas\"],[\"NORTHERN OIL & GAS, INC.\",\"Crude Petroleum and Natural Gas\"],[\"SRC ENERGY INC.\",\"Crude Petroleum and Natural Gas\"],[\"JONES ENERGY, INC.\",\"Crude Petroleum and Natural Gas\"],[\"GOODRICH PETROLEUM CORP\",\"Crude Petroleum and Natural Gas\"],[\"OCCIDENTAL PETROLEUM CORP /DE/\",\"Crude Petroleum and Natural Gas\"],[\"LONESTAR RESOURCES US INC.\",\"Crude Petroleum and Natural Gas\"],[\"NOBLE ENERGY INC\",\"Crude Petroleum and Natural Gas\"],[\"PIONEER NATURAL RESOURCES CO\",\"Crude Petroleum and Natural Gas\"],[\"BONANZA CREEK ENERGY, INC.\",\"Crude Petroleum and Natural Gas\"],[\"DEVON ENERGY CORP/DE\",\"Crude Petroleum and Natural Gas\"],[\"CALIFORNIA RESOURCES CORP\",\"Crude Petroleum and Natural Gas\"],[\"PARK PLACE ENERGY INC.\",\"Crude Petroleum and Natural Gas\"],[\"ANTERO RESOURCES CORP\",\"Crude Petroleum and Natural Gas\"],[\"LAREDO PETROLEUM, INC.\",\"Crude Petroleum and Natural Gas\"],[\"CIMAREX ENERGY CO\",\"Crude Petroleum and Natural Gas\"],[\"ALTA MESA HOLDINGS, LP\",\"Crude Petroleum and Natural Gas\"],[\"US ENERGY CORP\",\"Crude Petroleum and Natural Gas\"],[\"VICTORY ENERGY CORP\",\"Crude Petroleum and Natural Gas\"],[\"VICTORY ENERGY CORP\",\"Crude Petroleum and Natural Gas\"],[\"GRAN TIERRA ENERGY INC.\",\"Crude Petroleum and Natural Gas\"],[\"MIDSTATES PETROLEUM COMPANY, INC.\",\"Crude Petroleum and Natural Gas\"],[\"WILDHORSE RESOURCE DEVELOPMENT CORP\",\"Crude Petroleum and Natural Gas\"],[\"SM ENERGY CO\",\"Crude Petroleum and Natural Gas\"],[\"SANDRIDGE ENERGY INC\",\"Crude Petroleum and Natural Gas\"],[\"RING ENERGY, INC.\",\"Crude Petroleum and Natural Gas\"],[\"SANCHEZ ENERGY CORP\",\"Crude Petroleum and Natural Gas\"],[\"TETRA TECHNOLOGIES INC\",\"Crude Petroleum and Natural Gas\"],[\"RESERVE PETROLEUM CO\",\"Crude Petroleum and Natural Gas\"],[\"HESS MIDSTREAM PARTNERS LP\",\"Crude Petroleum and Natural Gas\"],[\"TORCHLIGHT ENERGY RESOURCES INC\",\"Crude Petroleum and Natural Gas\"],[\"LINN ENERGY, INC.\",\"Crude Petroleum and Natural Gas\"],[\"KOSMOS ENERGY LTD.\",\"Crude Petroleum and Natural Gas\"],[\"SILVERBOW RESOURCES, INC.\",\"Crude Petroleum and Natural Gas\"],[\"TELLURIAN INC. /DE/\",\"Crude Petroleum and Natural Gas\"],[\"DORCHESTER MINERALS, L.P.\",\"Crude Petroleum and Natural Gas\"],[\"MATADOR RESOURCES CO\",\"Crude Petroleum and Natural Gas\"],[\"PDC ENERGY, INC.\",\"Crude Petroleum and Natural Gas\"],[\"TEXAS SOUTH ENERGY, INC.\",\"Crude Petroleum and Natural Gas\"],[\"PEDEVCO CORP\",\"Crude Petroleum and Natural Gas\"],[\"VIPER ENERGY PARTNERS LP\",\"Crude Petroleum and Natural Gas\"],[\"ENERJEX RESOURCES, INC.\",\"Crude Petroleum and Natural Gas\"],[\"TENGASCO INC\",\"Crude Petroleum and Natural Gas\"],[\"KIMBELL ROYALTY PARTNERS, LP\",\"Crude Petroleum and Natural Gas\"],[\"CONCHO RESOURCES INC\",\"Crude Petroleum and Natural Gas\"],[\"APACHE OFFSHORE INVESTMENT PARTNERSHIP\",\"Crude Petroleum and Natural Gas\"],[\"EVERFLOW EASTERN PARTNERS LP\",\"Crude Petroleum and Natural Gas\"],[\"CHESAPEAKE ENERGY CORP\",\"Crude Petroleum and Natural Gas\"],[\"CARRIZO OIL & GAS INC\",\"Crude Petroleum and Natural Gas\"],[\"CALLON PETROLEUM CO\",\"Crude Petroleum and Natural Gas\"],[\"PENN VIRGINIA CORP\",\"Crude Petroleum and Natural Gas\"],[\"DIAMONDBACK ENERGY, INC.\",\"Crude Petroleum and Natural Gas\"],[\"COMSTOCK RESOURCES INC\",\"Crude Petroleum and Natural Gas\"],[\"DALA PETROLEUM CORP.\",\"Crude Petroleum and Natural Gas\"],[\"WPX ENERGY, INC.\",\"Crude Petroleum and Natural Gas\"],[\"LILIS ENERGY, INC.\",\"Crude Petroleum and Natural Gas\"]],\"hovertemplate\":\"color=Crude Petroleum and Natural Gas<br>0=%{x}<br>1=%{y}<br>name=%{customdata[0]}<br>industry=%{customdata[1]}<extra></extra>\",\"legendgroup\":\"Crude Petroleum and Natural Gas\",\"marker\":{\"color\":\"#EF553B\",\"symbol\":\"circle\"},\"mode\":\"markers\",\"name\":\"Crude Petroleum and Natural Gas\",\"orientation\":\"v\",\"showlegend\":true,\"x\":[-0.009021144164475194,-0.013546413228611817,-0.24967634165078229,0.09788243426134732,-0.0031122506615259256,0.003426602825133211,0.04043779340054223,0.011748668321156347,0.01913120795538978,-0.015123974420406359,0.025445740935345983,-0.008826423169109003,-0.011241531956821966,-0.013246848811814468,-0.004223235747707483,-0.014416644203947693,-0.005633236294985512,-0.014378076704433043,-0.011195578186884306,-0.014619002276252475,0.0034176723655516,-0.005647613312757315,-0.014283446473278094,-0.0016906976569236276,-0.13655428851310655,-0.011288326739707847,-0.012213197242946863,-0.003102986472286045,0.0012035372764161484,-0.008729376352907827,-0.011498109617633331,0.02983714889617697,0.0011156774657221378,-0.008245615493116955,0.008738817282204369,0.03978278577528364,-0.03979370772782781,0.009851167121297461,-0.0021997284496755466,0.00773797138217896,-0.004188889301235937,-0.007289714381664603,-0.011810672943134036,-0.011810672943134036,-0.007209917162669412,-0.003173679793104627,-0.002989131315014492,-0.003405035252203806,-0.012834248831139384,-0.013876176479127157,-0.011594633911260855,-0.032056455994072613,0.004899695028286105,0.011567647212185755,-0.02559475564488351,0.0016887658545143506,-0.002919285085421466,-0.0088039913598711,-0.00987083253731244,-0.0041462457189863,-0.009844578165423003,0.007773210523481455,0.0009587270570173915,-0.0044601195490525155,-0.0012751775085049887,-0.07671438506776207,0.012924677748726065,-0.012681533039591167,-0.00667885443681093,0.015355122014514073,-0.005768675718983163,-0.0026135407888584184,-0.002508759947801446,0.006898341236440977,-0.009809778725866712,0.0011176437914110241,-0.005882441064131026,0.02433831150742792,-0.002933514925348039,-0.0009419884718556902],\"xaxis\":\"x\",\"y\":[-0.35542886810964786,-0.2475924344695509,0.06596999775082245,0.011670106743426542,-0.31069907339854325,-0.12787576312439541,-0.08470743571477671,-0.12526502540045534,-0.16552513179970507,-0.3499119442954823,-0.12842132528533734,-0.3353996470240163,-0.33032099214976046,-0.3450330787152752,-0.21541234261263437,-0.14633076573549822,-0.3256141006249318,-0.34198105742811546,-0.29174642722651756,-0.35374692103530336,-0.37456915492583004,-0.321216617016276,-0.047246916884780076,-0.3034211877448563,-0.0713910016965288,-0.3559556915929647,-0.3494068636112928,-0.34792718050280774,-0.36980005913913727,-0.3404570404337141,-0.31973949455513956,-0.32093355497042003,-0.22216302990684705,-0.35518286455217135,-0.2026049946448618,-0.2724744610946846,-0.3157705274894607,-0.3338410166970857,-0.3488854621539156,-0.24151755835422722,-0.2995282218373065,-0.3492054394785452,-0.27845196257782423,-0.27845196257782423,-0.3538591571183454,-0.35951036658962693,-0.3434024670593478,-0.20440167479765925,-0.34005566175815255,-0.3372571190932119,-0.3348351978116211,-0.24104553514678279,-0.22628746561951524,-0.25585444898543686,-0.2002251836460059,-0.3519240915141266,-0.3313408596744421,-0.3407227477872141,-0.3328143862422216,-0.3238651035543591,-0.33348487743983746,-0.2938525678461198,-0.19302067690945487,-0.08178639622117463,-0.3408868974540352,-0.07862531396062454,-0.20642007455155958,-0.3540037705238906,-0.3524850307372251,-0.30571958439745656,-0.3164938379844268,-0.3122317411189126,-0.29389209766416724,-0.3505351871816401,-0.2442127220530522,-0.36512481519340645,-0.3463500330732656,-0.19936740931627517,-0.3673882214805096,-0.3520745471673444],\"yaxis\":\"y\",\"type\":\"scatter\"},{\"customdata\":[[\"ULURU INC.\",\"Pharmaceutical Preparations\"],[\"CHINA YCT INTERNATIONAL GROUP, INC.\",\"Pharmaceutical Preparations\"],[\"AXOVANT SCIENCES LTD.\",\"Pharmaceutical Preparations\"],[\"MYOVANT SCIENCES LTD.\",\"Pharmaceutical Preparations\"],[\"PRESTIGE BRANDS HOLDINGS, INC.\",\"Pharmaceutical Preparations\"],[\"HYPGEN INC\",\"Pharmaceutical Preparations\"],[\"HYPGEN INC\",\"Pharmaceutical Preparations\"],[\"DANDRIT BIOTECH USA, INC.\",\"Pharmaceutical Preparations\"],[\"REZOLUTE, INC.\",\"Pharmaceutical Preparations\"],[\"OPTEC INTERNATIONAL, INC.\",\"Pharmaceutical Preparations\"],[\"OPTEC INTERNATIONAL, INC.\",\"Pharmaceutical Preparations\"],[\"BIOVIE INC.\",\"Pharmaceutical Preparations\"],[\"ONCOSEC MEDICAL INC\",\"Pharmaceutical Preparations\"],[\"CANNABICS PHARMACEUTICALS INC.\",\"Pharmaceutical Preparations\"],[\"ORAMED PHARMACEUTICALS INC.\",\"Pharmaceutical Preparations\"],[\"ENTEST BIOMEDICAL, INC.\",\"Pharmaceutical Preparations\"],[\"MY CLOUDZ, INC.\",\"Pharmaceutical Preparations\"],[\"MY CLOUDZ, INC.\",\"Pharmaceutical Preparations\"],[\"ENANTA PHARMACEUTICALS INC\",\"Pharmaceutical Preparations\"],[\"CITIUS PHARMACEUTICALS, INC.\",\"Pharmaceutical Preparations\"],[\"STELLAR BIOTECHNOLOGIES, INC.\",\"Pharmaceutical Preparations\"],[\"REGEN BIOPHARMA INC\",\"Pharmaceutical Preparations\"],[\"REGEN BIOPHARMA INC\",\"Pharmaceutical Preparations\"],[\"ADVAXIS, INC.\",\"Pharmaceutical Preparations\"],[\"ORGENESIS INC.\",\"Pharmaceutical Preparations\"],[\"Q BIOMED INC.\",\"Pharmaceutical Preparations\"],[\"JOHNSON & JOHNSON\",\"Pharmaceutical Preparations\"],[\"BRISTOL MYERS SQUIBB CO\",\"Pharmaceutical Preparations\"],[\"VBI VACCINES INC/BC\",\"Pharmaceutical Preparations\"],[\"INTRA-CELLULAR THERAPIES, INC.\",\"Pharmaceutical Preparations\"],[\"ROCKET PHARMACEUTICALS, INC.\",\"Pharmaceutical Preparations\"],[\"ATLAS HOLDINGS, INC.\",\"Pharmaceutical Preparations\"],[\"NEMUS BIOSCIENCE, INC.\",\"Pharmaceutical Preparations\"],[\"NEMUS BIOSCIENCE, INC.\",\"Pharmaceutical Preparations\"],[\"OVASCIENCE, INC.\",\"Pharmaceutical Preparations\"],[\"CONCERT PHARMACEUTICALS, INC.\",\"Pharmaceutical Preparations\"],[\"AKCEA THERAPEUTICS, INC.\",\"Pharmaceutical Preparations\"],[\"ARQULE INC\",\"Pharmaceutical Preparations\"],[\"AXIM BIOTECHNOLOGIES, INC.\",\"Pharmaceutical Preparations\"],[\"GUARDION HEALTH SCIENCES, INC.\",\"Pharmaceutical Preparations\"],[\"RETROPHIN, INC.\",\"Pharmaceutical Preparations\"],[\"SYNDAX PHARMACEUTICALS INC\",\"Pharmaceutical Preparations\"],[\"FIBROGEN INC\",\"Pharmaceutical Preparations\"],[\"PROTOKINETIX, INC.\",\"Pharmaceutical Preparations\"],[\"PROGENICS PHARMACEUTICALS INC\",\"Pharmaceutical Preparations\"],[\"CHECKPOINT THERAPEUTICS, INC.\",\"Pharmaceutical Preparations\"],[\"PFENEX INC.\",\"Pharmaceutical Preparations\"],[\"PAIN THERAPEUTICS INC\",\"Pharmaceutical Preparations\"],[\"ZOMEDICA PHARMACEUTICALS CORP.\",\"Pharmaceutical Preparations\"],[\"ZOMEDICA PHARMACEUTICALS CORP.\",\"Pharmaceutical Preparations\"],[\"MOLECULAR TEMPLATES, INC.\",\"Pharmaceutical Preparations\"],[\"WAVE LIFE SCIENCES LTD.\",\"Pharmaceutical Preparations\"],[\"CYMABAY THERAPEUTICS, INC.\",\"Pharmaceutical Preparations\"],[\"AMICUS THERAPEUTICS INC\",\"Pharmaceutical Preparations\"],[\"EVOKE PHARMA INC\",\"Pharmaceutical Preparations\"],[\"CHEMBIO DIAGNOSTICS, INC.\",\"Pharmaceutical Preparations\"],[\"CARA THERAPEUTICS, INC.\",\"Pharmaceutical Preparations\"],[\"CYTOMX THERAPEUTICS, INC.\",\"Pharmaceutical Preparations\"],[\"XENCOR INC\",\"Pharmaceutical Preparations\"],[\"CATABASIS PHARMACEUTICALS INC\",\"Pharmaceutical Preparations\"],[\"SERES THERAPEUTICS, INC.\",\"Pharmaceutical Preparations\"],[\"EYEGATE PHARMACEUTICALS INC\",\"Pharmaceutical Preparations\"],[\"ARENA PHARMACEUTICALS INC\",\"Pharmaceutical Preparations\"],[\"ALEXION PHARMACEUTICALS INC\",\"Pharmaceutical Preparations\"],[\"MELINTA THERAPEUTICS, INC. /NEW/\",\"Pharmaceutical Preparations\"],[\"FIVE PRIME THERAPEUTICS INC\",\"Pharmaceutical Preparations\"],[\"LIXTE BIOTECHNOLOGY HOLDINGS, INC.\",\"Pharmaceutical Preparations\"],[\"ARATANA THERAPEUTICS, INC.\",\"Pharmaceutical Preparations\"],[\"CHIASMA, INC\",\"Pharmaceutical Preparations\"],[\"CELGENE CORP /DE/\",\"Pharmaceutical Preparations\"],[\"NEWLINK GENETICS CORP\",\"Pharmaceutical Preparations\"],[\"LIGAND PHARMACEUTICALS INC\",\"Pharmaceutical Preparations\"],[\"PORTOLA PHARMACEUTICALS INC\",\"Pharmaceutical Preparations\"],[\"PLX PHARMA INC.\",\"Pharmaceutical Preparations\"],[\"ARDELYX, INC.\",\"Pharmaceutical Preparations\"],[\"PROTAGONIST THERAPEUTICS, INC\",\"Pharmaceutical Preparations\"],[\"MOLECULIN BIOTECH, INC.\",\"Pharmaceutical Preparations\"],[\"IRONWOOD PHARMACEUTICALS INC\",\"Pharmaceutical Preparations\"],[\"FORTRESS BIOTECH, INC.\",\"Pharmaceutical Preparations\"],[\"SYNTHETIC BIOLOGICS, INC.\",\"Pharmaceutical Preparations\"],[\"OPTINOSE, INC.\",\"Pharmaceutical Preparations\"],[\"CORMEDIX INC.\",\"Pharmaceutical Preparations\"],[\"HEAT BIOLOGICS, INC.\",\"Pharmaceutical Preparations\"],[\"SUN BIOPHARMA, INC.\",\"Pharmaceutical Preparations\"],[\"BELLEROPHON THERAPEUTICS, INC.\",\"Pharmaceutical Preparations\"],[\"BIOSPECIFICS TECHNOLOGIES CORP\",\"Pharmaceutical Preparations\"],[\"ZOSANO PHARMA CORP\",\"Pharmaceutical Preparations\"],[\"CV SCIENCES, INC.\",\"Pharmaceutical Preparations\"],[\"LILLY ELI & CO\",\"Pharmaceutical Preparations\"],[\"SAREPTA THERAPEUTICS, INC.\",\"Pharmaceutical Preparations\"],[\"EXICURE, INC.\",\"Pharmaceutical Preparations\"],[\"OVID THERAPEUTICS INC.\",\"Pharmaceutical Preparations\"],[\"IMPRIMIS PHARMACEUTICALS, INC.\",\"Pharmaceutical Preparations\"],[\"IONIS PHARMACEUTICALS INC\",\"Pharmaceutical Preparations\"],[\"ONCOMED PHARMACEUTICALS INC\",\"Pharmaceutical Preparations\"],[\"TONIX PHARMACEUTICALS HOLDING CORP.\",\"Pharmaceutical Preparations\"],[\"TEVA PHARMACEUTICAL INDUSTRIES LTD\",\"Pharmaceutical Preparations\"],[\"RHYTHM PHARMACEUTICALS, INC.\",\"Pharmaceutical Preparations\"],[\"COCRYSTAL PHARMA, INC.\",\"Pharmaceutical Preparations\"],[\"REGENERON PHARMACEUTICALS INC\",\"Pharmaceutical Preparations\"],[\"ANI PHARMACEUTICALS INC\",\"Pharmaceutical Preparations\"],[\"CLEARSIDE BIOMEDICAL, INC.\",\"Pharmaceutical Preparations\"],[\"LIPOCINE INC.\",\"Pharmaceutical Preparations\"],[\"GALECTIN THERAPEUTICS INC\",\"Pharmaceutical Preparations\"],[\"STEMLINE THERAPEUTICS INC\",\"Pharmaceutical Preparations\"],[\"DOVA PHARMACEUTICALS, INC.\",\"Pharmaceutical Preparations\"],[\"ABBVIE INC.\",\"Pharmaceutical Preparations\"],[\"AKORN INC\",\"Pharmaceutical Preparations\"],[\"VALEANT PHARMACEUTICALS INTERNATIONAL, INC.\",\"Pharmaceutical Preparations\"],[\"INTELGENX TECHNOLOGIES CORP.\",\"Pharmaceutical Preparations\"],[\"PFIZER INC\",\"Pharmaceutical Preparations\"],[\"SKINVISIBLE INC\",\"Pharmaceutical Preparations\"],[\"TAPIMMUNE INC.\",\"Pharmaceutical Preparations\"],[\"THERAPEUTICSMD, INC.\",\"Pharmaceutical Preparations\"],[\"AQUINOX PHARMACEUTICALS, INC\",\"Pharmaceutical Preparations\"],[\"GLOBAL BLOOD THERAPEUTICS, INC.\",\"Pharmaceutical Preparations\"],[\"RIGEL PHARMACEUTICALS INC\",\"Pharmaceutical Preparations\"],[\"PARATEK PHARMACEUTICALS, INC.\",\"Pharmaceutical Preparations\"],[\"PERRIGO CO PLC\",\"Pharmaceutical Preparations\"],[\"ZAFGEN, INC.\",\"Pharmaceutical Preparations\"],[\"OPHTHOTECH CORP.\",\"Pharmaceutical Preparations\"],[\"ACHILLION PHARMACEUTICALS INC\",\"Pharmaceutical Preparations\"],[\"KEMPHARM, INC\",\"Pharmaceutical Preparations\"],[\"INTERCEPT PHARMACEUTICALS INC\",\"Pharmaceutical Preparations\"],[\"ULTRAGENYX PHARMACEUTICAL INC.\",\"Pharmaceutical Preparations\"],[\"EMERGENT BIOSOLUTIONS INC.\",\"Pharmaceutical Preparations\"],[\"ACER THERAPEUTICS INC.\",\"Pharmaceutical Preparations\"],[\"HERON THERAPEUTICS, INC. /DE/\",\"Pharmaceutical Preparations\"],[\"ADAMIS PHARMACEUTICALS CORP\",\"Pharmaceutical Preparations\"],[\"GT BIOPHARMA, INC.\",\"Pharmaceutical Preparations\"],[\"GT BIOPHARMA, INC.\",\"Pharmaceutical Preparations\"],[\"GT BIOPHARMA, INC.\",\"Pharmaceutical Preparations\"],[\"GT BIOPHARMA, INC.\",\"Pharmaceutical Preparations\"],[\"GT BIOPHARMA, INC.\",\"Pharmaceutical Preparations\"],[\"GT BIOPHARMA, INC.\",\"Pharmaceutical Preparations\"],[\"IMMUNOGEN INC\",\"Pharmaceutical Preparations\"],[\"PTC THERAPEUTICS, INC.\",\"Pharmaceutical Preparations\"],[\"MANNKIND CORP\",\"Pharmaceutical Preparations\"],[\"CARDAX, INC.\",\"Pharmaceutical Preparations\"],[\"SYROS PHARMACEUTICALS, INC.\",\"Pharmaceutical Preparations\"],[\"ADURO BIOTECH, INC.\",\"Pharmaceutical Preparations\"],[\"SIENNA BIOPHARMACEUTICALS, INC.\",\"Pharmaceutical Preparations\"],[\"ACHAOGEN INC\",\"Pharmaceutical Preparations\"],[\"UNITED CANNABIS CORP\",\"Pharmaceutical Preparations\"],[\"UNITED CANNABIS CORP\",\"Pharmaceutical Preparations\"],[\"RXI PHARMACEUTICALS CORP\",\"Pharmaceutical Preparations\"],[\"RXI PHARMACEUTICALS CORP\",\"Pharmaceutical Preparations\"],[\"RXI PHARMACEUTICALS CORP\",\"Pharmaceutical Preparations\"],[\"RXI PHARMACEUTICALS CORP\",\"Pharmaceutical Preparations\"],[\"SOLIGENIX, INC.\",\"Pharmaceutical Preparations\"],[\"XOMA CORP\",\"Pharmaceutical Preparations\"],[\"SIERRA ONCOLOGY, INC.\",\"Pharmaceutical Preparations\"],[\"ACTINIUM PHARMACEUTICALS, INC.\",\"Pharmaceutical Preparations\"],[\"ORAGENICS INC\",\"Pharmaceutical Preparations\"],[\"ATHERSYS, INC / NEW\",\"Pharmaceutical Preparations\"],[\"PULMATRIX, INC.\",\"Pharmaceutical Preparations\"],[\"ACADIA PHARMACEUTICALS INC\",\"Pharmaceutical Preparations\"],[\"TREVENA INC\",\"Pharmaceutical Preparations\"],[\"NATURES SUNSHINE PRODUCTS INC\",\"Pharmaceutical Preparations\"],[\"FLEXION THERAPEUTICS INC\",\"Pharmaceutical Preparations\"],[\"VERASTEM, INC.\",\"Pharmaceutical Preparations\"],[\"XENON PHARMACEUTICALS INC.\",\"Pharmaceutical Preparations\"],[\"SUNESIS PHARMACEUTICALS INC\",\"Pharmaceutical Preparations\"],[\"CORVUS PHARMACEUTICALS, INC.\",\"Pharmaceutical Preparations\"],[\"MERCK & CO., INC.\",\"Pharmaceutical Preparations\"],[\"STRONGBRIDGE BIOPHARMA PLC\",\"Pharmaceutical Preparations\"],[\"CATALYST PHARMACEUTICALS, INC.\",\"Pharmaceutical Preparations\"],[\"ASSEMBLY BIOSCIENCES, INC.\",\"Pharmaceutical Preparations\"],[\"APRICUS BIOSCIENCES, INC.\",\"Pharmaceutical Preparations\"],[\"CATALYST BIOSCIENCES, INC.\",\"Pharmaceutical Preparations\"],[\"MIRATI THERAPEUTICS, INC.\",\"Pharmaceutical Preparations\"],[\"MUSTANG BIO, INC.\",\"Pharmaceutical Preparations\"],[\"ACELRX PHARMACEUTICALS INC\",\"Pharmaceutical Preparations\"],[\"BLUEPRINT MEDICINES CORP\",\"Pharmaceutical Preparations\"],[\"ATHENEX, INC.\",\"Pharmaceutical Preparations\"],[\"ATHENEX, INC.\",\"Pharmaceutical Preparations\"],[\"RECRO PHARMA, INC.\",\"Pharmaceutical Preparations\"],[\"BIOHAVEN PHARMACEUTICAL HOLDING CO LTD.\",\"Pharmaceutical Preparations\"],[\"PROTHENA CORP PLC\",\"Pharmaceutical Preparations\"],[\"AVENUE THERAPEUTICS, INC.\",\"Pharmaceutical Preparations\"],[\"VTV THERAPEUTICS INC.\",\"Pharmaceutical Preparations\"],[\"ZYNERBA PHARMACEUTICALS, INC.\",\"Pharmaceutical Preparations\"],[\"BIOMARIN PHARMACEUTICAL INC\",\"Pharmaceutical Preparations\"],[\"KARYOPHARM THERAPEUTICS INC.\",\"Pharmaceutical Preparations\"],[\"LEXICON PHARMACEUTICALS, INC.\",\"Pharmaceutical Preparations\"],[\"ENDO INTERNATIONAL PLC\",\"Pharmaceutical Preparations\"],[\"PROPHASE LABS, INC.\",\"Pharmaceutical Preparations\"],[\"CELLECTAR BIOSCIENCES, INC.\",\"Pharmaceutical Preparations\"],[\"RITTER PHARMACEUTICALS INC\",\"Pharmaceutical Preparations\"],[\"MARINUS PHARMACEUTICALS INC\",\"Pharmaceutical Preparations\"],[\"CORCEPT THERAPEUTICS INC\",\"Pharmaceutical Preparations\"],[\"ALNYLAM PHARMACEUTICALS, INC.\",\"Pharmaceutical Preparations\"],[\"DARE BIOSCIENCE, INC.\",\"Pharmaceutical Preparations\"],[\"TELIGENT, INC.\",\"Pharmaceutical Preparations\"],[\"TELIGENT, INC.\",\"Pharmaceutical Preparations\"],[\"ACLARIS THERAPEUTICS, INC.\",\"Pharmaceutical Preparations\"],[\"VITAL THERAPIES INC\",\"Pharmaceutical Preparations\"],[\"DECIPHERA PHARMACEUTICALS, INC.\",\"Pharmaceutical Preparations\"],[\"CAPSTONE THERAPEUTICS CORP.\",\"Pharmaceutical Preparations\"],[\"PACIRA PHARMACEUTICALS, INC.\",\"Pharmaceutical Preparations\"],[\"UROGEN PHARMA LTD.\",\"Pharmaceutical Preparations\"],[\"FIBROCELL SCIENCE, INC.\",\"Pharmaceutical Preparations\"],[\"FLEX PHARMA, INC.\",\"Pharmaceutical Preparations\"],[\"BIODELIVERY SCIENCES INTERNATIONAL INC\",\"Pharmaceutical Preparations\"],[\"HORIZON PHARMA PLC\",\"Pharmaceutical Preparations\"],[\"MERRIMACK PHARMACEUTICALS INC\",\"Pharmaceutical Preparations\"],[\"CYCLACEL PHARMACEUTICALS, INC.\",\"Pharmaceutical Preparations\"],[\"ZOETIS INC.\",\"Pharmaceutical Preparations\"]],\"hovertemplate\":\"color=Pharmaceutical Preparations<br>0=%{x}<br>1=%{y}<br>name=%{customdata[0]}<br>industry=%{customdata[1]}<extra></extra>\",\"legendgroup\":\"Pharmaceutical Preparations\",\"marker\":{\"color\":\"#00cc96\",\"symbol\":\"circle\"},\"mode\":\"markers\",\"name\":\"Pharmaceutical Preparations\",\"orientation\":\"v\",\"showlegend\":true,\"x\":[-0.1714448580220835,-0.12291314738256925,-0.5236846232848008,-0.45135843295091616,-0.07678094658487654,-0.17452125063147755,-0.17452125063147755,-0.4697054880564607,-0.36215788775449115,-0.031066419659878906,-0.031066419659878906,-0.38509740803288084,-0.5534099095844213,-0.15237158975250384,-0.4683990597823842,0.025599721812581716,0.01993689253931134,0.01993689253931134,-0.6263991834548669,-0.15474301023193957,-0.30207273282890046,-0.019636122111085466,-0.019636122111085466,-0.44805212404646555,-0.2619565803791777,-0.46931505630077036,-0.059764137955971845,-0.11590413544867055,-0.4357193458893888,-0.5300570373967153,-0.0863639639519604,-0.15418606061602505,-0.5216059150788327,-0.5216059150788327,-0.5656199908249386,-0.3355457992379431,-0.18172681585197753,-0.26296022159386023,-0.3319990160811973,-0.05257378870237372,-0.5471905554758062,-0.6050931056299749,-0.4421944235315288,-0.2890872746800714,-0.0691668703739336,-0.4669701106941064,-0.4600496788089218,-0.34144309282135005,-0.33581081455475775,-0.33581081455475775,-0.5385294762675401,-0.5680550415337255,-0.26693110733743763,-0.32122797531637004,-0.4816366692769842,-0.28326577213124593,-0.30307365104659895,-0.5707662000406966,-0.021889733998092412,-0.19454000502326554,-0.4001347065316938,-0.49006405394062463,-0.4268903054995192,-0.3306712765440598,-0.36229176994701506,0.041577536155663355,-0.5177401233661865,-0.2013038990671288,-0.5090366129021835,-0.46397422156074464,-0.5582650377493146,-0.482645096389348,-0.5051446559341835,-0.5407948189051105,-0.468841256713848,-0.6136097217236138,-0.4567436437938209,-0.4121016031512884,-0.14533106936814408,-0.45928572585675914,-0.5393745775673501,-0.5139690022726949,-0.4267844577378118,-0.4370248790281719,-0.3926975004997667,-0.3273174159424673,-0.2583608719387575,-0.2243277712003549,-0.25614605644170013,-0.5359703850117756,-0.4368820306270492,-0.30992372212291625,-0.1670015864825479,-0.24966457567847905,-0.5520979432084012,-0.36539660094377463,-0.30128709322660974,-0.5093526847017628,-0.3182468537918903,-0.43600390545439455,-0.15068699318304135,-0.5466898953111354,-0.3625824081586206,-0.48377261688462403,-0.5102907966873304,-0.33301706654946445,-0.29133460140502143,-0.10114763417613844,-0.2001949799571523,-0.36508762773031794,-0.08259421323566317,-0.05505590697711793,-0.5401114615391606,-0.4536644662179751,-0.5441981494630432,-0.448126186197875,-0.5381392322483772,-0.2765753991922143,-0.07228248682328942,-0.007872148282521406,-0.5073019130273795,-0.5248956548867878,-0.5910101975414993,-0.38767486341980106,-0.29094062201636517,-0.46275894480658397,-0.4780571505516999,-0.2572365374742382,-0.5087987297679284,-0.3521207892249052,-0.3521207892249052,-0.3521207892249052,-0.3521207892249052,-0.3521207892249052,-0.3521207892249052,-0.5543010196512905,-0.3040132157226184,-0.49686403712242455,-0.37732389338261524,-0.6040313369435478,-0.5733343899067411,-0.5638752218486149,-0.5531526349994632,-0.14763887407832615,-0.14763887407832615,-0.517183381580865,-0.517183381580865,-0.517183381580865,-0.517183381580865,-0.4325652168813898,-0.23498728208200703,-0.4575559889636114,-0.4907178491704048,-0.570016938144573,-0.29127697348342874,-0.5484975344779411,-0.48580337894005104,-0.27921216745678096,-0.04904405204297444,-0.37080372524492106,-0.3410135973787728,-0.4925733333373631,-0.578880210633734,-0.5452052871439825,-0.32508336678033534,-0.6115097877891842,-0.5511363921041024,-0.24268275921280605,-0.544974763608558,-0.5619685741345996,-0.5864441051925094,-0.5254642542490715,-0.17489578253583613,-0.4684798349775442,-0.523390472770247,-0.523390472770247,-0.5238078858211981,-0.5203281820460117,-0.3340452486235966,-0.5870061872147903,-0.3895970967956501,-0.48360338613920206,-0.2987923857460099,-0.3503034011408439,-0.4110999452900462,-0.3332580942930125,-0.16420645808910878,-0.3307067100759923,-0.5660260096208302,-0.2391585676430065,-0.45399594856884384,-0.5314153979088567,-0.515719718390794,-0.16214988397151284,-0.16214988397151284,-0.28990266532576864,-0.43668182697461544,-0.46372168774962175,-0.5010161864447571,-0.011619112992549417,-0.6238518310960236,-0.5569271577211936,-0.4560816216778476,-0.5046371487292958,-0.332964507341047,-0.57338420172456,-0.46982170532645257,0.02426360938839082],\"xaxis\":\"x\",\"y\":[0.0029502780541012076,-0.02787804383706105,0.33469939332114323,0.27282026799422576,-0.09938604222638278,-0.011308151838792052,-0.011308151838792052,0.26658164018571096,0.18924452795805438,-0.10530214938288253,-0.10530214938288253,0.22229410867182747,0.33043915323412487,0.0036407616027245788,0.26553604793932284,-0.1513855826129641,-0.145838703184052,-0.145838703184052,0.3704450372949612,0.04329952409366765,0.09380448934546756,-0.11521636528424468,-0.11521636528424468,0.272420251942114,0.09822151975827764,0.25462868145488604,-0.011172740632127396,-0.01860893524149524,0.22586719763226284,0.32551513187417136,-0.001741631665486389,0.018585636193502654,0.2945027371365754,0.2945027371365754,0.3427815547470197,0.1899703486114656,0.06957804005407038,0.1392446055935264,0.13525057783715827,-0.1025365548771292,0.3178580561187157,0.3753852605426924,0.2756879585952928,0.08954075567351731,-0.06949257972322213,0.24916596540450645,0.2534409787685788,0.19028891043268767,0.16526382775949097,0.16526382775949097,0.3204483064474062,0.34083355527190623,0.12326911019424255,0.16007639207326171,0.273077005532019,0.10671115589317164,0.08932578251734395,0.34762404513901485,-0.06142061776341949,0.07788298814962692,0.22918941484747557,0.29680531334207993,0.21474835662719896,0.16816996129015915,0.15578712152756954,-0.0962707920585325,0.32092241963210477,0.03072364544734228,0.3212754856645017,0.25371500482964565,0.3188517826827828,0.297197747885845,0.272815009469429,0.32802108667365715,0.2837520802739098,0.376699716097719,0.24075422362429774,0.20742832849244328,-0.058617607239292414,0.291698602324324,0.34161128801983603,0.3001833516782608,0.2582502978983887,0.2428107252888459,0.2429178811148132,0.1727562980028512,0.11529091643447924,0.05972372929842291,0.0855520887543955,0.3285688984575456,0.2685571316913559,0.1680984580622362,0.018662106611385204,0.10682431853553655,0.31750394476824684,0.18916145430021702,0.12030806338428168,0.32312122663307247,0.13098719620252355,0.22628516314946495,-0.021704586097646496,0.32746580188585017,0.18701504475832784,0.3007987516596453,0.2985179729479082,0.1545111362496507,0.10198294022474888,-0.08043462634874829,0.03720107415004889,0.17268202685831308,-0.05610079637913102,-0.04604942527145632,0.31281851968910496,0.2144508607238567,0.3230978622811236,0.27776310532563686,0.30078456843845724,0.13086614919672382,-0.07670723895144575,-0.16427831171928728,0.3081464912750837,0.3204697677812309,0.35611760277885024,0.16684568754563348,0.1515133694747512,0.25221304637782516,0.22682118320278308,0.12771568925594118,0.2954922422018423,0.1964794123568618,0.1964794123568618,0.1964794123568618,0.1964794123568618,0.1964794123568618,0.1964794123568618,0.340970440031436,0.1622540889546536,0.2759975238904526,0.1885634251812151,0.37735756400298115,0.34807516720098813,0.36106969335364286,0.31066922788979634,-0.0520061304998363,-0.0520061304998363,0.257481148290313,0.257481148290313,0.257481148290313,0.257481148290313,0.2637731361105143,0.03489126126332747,0.28101238446306936,0.29207308881566707,0.3404344255686222,0.13972469073485408,0.3185657929828508,0.27012876631708965,0.14070621148451412,-0.129361295240128,0.21153169113875336,0.18074817792136968,0.3156712565235679,0.35651105670921596,0.3498029734680389,0.13998408276751778,0.38093466572266105,0.33143641117850503,0.10743417799615256,0.32244442466906825,0.3408577756129659,0.36797592194937434,0.29882904782404507,0.033216839318173465,0.2943762284648396,0.3358280273363192,0.3358280273363192,0.31658997330864935,0.3307731431869481,0.17899897778481527,0.34978250068838973,0.23618396857292973,0.30650644889035583,0.15383145642385307,0.19448167275568656,0.22349443395907492,0.11983518027417585,-0.01587988486636,0.16877902300000414,0.3362321499017215,0.11661664203568138,0.24570005822002278,0.3126592417243025,0.29599085267314423,-0.01173140595472537,-0.01173140595472537,0.12382081293748183,0.23991619552619742,0.2668064065526468,0.2765080680096806,-0.012082779506984847,0.39301967233504054,0.346745903841089,0.21128872447737498,0.2624618412312231,0.13416448456061586,0.3559146124737053,0.278826750285661,-0.16639614211273643],\"yaxis\":\"y\",\"type\":\"scatter\"},{\"customdata\":[[\"INVESTORS REAL ESTATE TRUST\",\"Real Estate Investment Trusts\"],[\"BRT APARTMENTS CORP.\",\"Real Estate Investment Trusts\"],[\"MONMOUTH REAL ESTATE INVESTMENT CORP\",\"Real Estate Investment Trusts\"],[\"FIRST REAL ESTATE INVESTMENT TRUST OF NEW JERSEY\",\"Real Estate Investment Trusts\"],[\"FIRST REAL ESTATE INVESTMENT TRUST OF NEW JERSEY\",\"Real Estate Investment Trusts\"],[\"URSTADT BIDDLE PROPERTIES INC\",\"Real Estate Investment Trusts\"],[\"URSTADT BIDDLE PROPERTIES INC\",\"Real Estate Investment Trusts\"],[\"PHILLIPS EDISON & COMPANY, INC.\",\"Real Estate Investment Trusts\"],[\"SL GREEN REALTY CORP\",\"Real Estate Investment Trusts\"],[\"CUBESMART\",\"Real Estate Investment Trusts\"],[\"CIM COMMERCIAL TRUST CORP\",\"Real Estate Investment Trusts\"],[\"CERES TACTICAL SYSTEMATIC L.P.\",\"Real Estate Investment Trusts\"],[\"PS BUSINESS PARKS INC/CA\",\"Real Estate Investment Trusts\"],[\"STEADFAST INCOME REIT, INC.\",\"Real Estate Investment Trusts\"],[\"RETAIL OPPORTUNITY INVESTMENTS CORP\",\"Real Estate Investment Trusts\"],[\"MORGAN STANLEY SMITH BARNEY SPECTRUM SELECT LP\",\"Real Estate Investment Trusts\"],[\"NEW YORK MORTGAGE TRUST INC\",\"Real Estate Investment Trusts\"],[\"CBL & ASSOCIATES PROPERTIES INC\",\"Real Estate Investment Trusts\"],[\"LEXINGTON REALTY TRUST\",\"Real Estate Investment Trusts\"],[\"BRANDYWINE REALTY TRUST\",\"Real Estate Investment Trusts\"],[\"LAMAR ADVERTISING CO/NEW\",\"Real Estate Investment Trusts\"],[\"JBG SMITH PROPERTIES\",\"Real Estate Investment Trusts\"],[\"KBS REAL ESTATE INVESTMENT TRUST III, INC.\",\"Real Estate Investment Trusts\"],[\"CAPSTEAD MORTGAGE CORP\",\"Real Estate Investment Trusts\"],[\"GGP INC.\",\"Real Estate Investment Trusts\"],[\"QTS REALTY TRUST, INC.\",\"Real Estate Investment Trusts\"],[\"WELLS FARGO REAL ESTATE INVESTMENT CORP.\",\"Real Estate Investment Trusts\"],[\"LIGHTSTONE VALUE PLUS REAL ESTATE INVESTMENT TRUST V, INC.\",\"Real Estate Investment Trusts\"],[\"RESOURCE APARTMENT REIT III, INC.\",\"Real Estate Investment Trusts\"],[\"CNL HEALTHCARE PROPERTIES, INC.\",\"Real Estate Investment Trusts\"],[\"RETAIL PROPERTIES OF AMERICA, INC.\",\"Real Estate Investment Trusts\"],[\"BOSTON PROPERTIES INC\",\"Real Estate Investment Trusts\"],[\"REGENCY CENTERS CORP\",\"Real Estate Investment Trusts\"],[\"NATIONAL HEALTH INVESTORS INC\",\"Real Estate Investment Trusts\"],[\"DRIVE SHACK INC.\",\"Real Estate Investment Trusts\"],[\"COLE CREDIT PROPERTY TRUST V, INC.\",\"Real Estate Investment Trusts\"],[\"EQUITY RESIDENTIAL\",\"Real Estate Investment Trusts\"],[\"KITE REALTY GROUP TRUST\",\"Real Estate Investment Trusts\"],[\"OUTFRONT MEDIA INC.\",\"Real Estate Investment Trusts\"],[\"PENNSYLVANIA REAL ESTATE INVESTMENT TRUST\",\"Real Estate Investment Trusts\"],[\"COLE REAL ESTATE INCOME STRATEGY (DAILY NAV), INC.\",\"Real Estate Investment Trusts\"],[\"REALTY INCOME CORP\",\"Real Estate Investment Trusts\"],[\"GLOBAL MEDICAL REIT INC.\",\"Real Estate Investment Trusts\"],[\"PILLARSTONE CAPITAL REIT\",\"Real Estate Investment Trusts\"],[\"CLIPPER REALTY INC.\",\"Real Estate Investment Trusts\"],[\"BLACK CREEK INDUSTRIAL REIT IV INC.\",\"Real Estate Investment Trusts\"],[\"LIGHTSTONE VALUE PLUS REAL ESTATE INVESTMENT TRUST, INC.\",\"Real Estate Investment Trusts\"],[\"KKR REAL ESTATE FINANCE TRUST INC.\",\"Real Estate Investment Trusts\"],[\"GEO GROUP INC\",\"Real Estate Investment Trusts\"],[\"AMERICAN ASSETS TRUST, INC.\",\"Real Estate Investment Trusts\"],[\"IMPAC MORTGAGE HOLDINGS INC\",\"Real Estate Investment Trusts\"],[\"CNL HEALTHCARE PROPERTIES II, INC.\",\"Real Estate Investment Trusts\"],[\"ANWORTH MORTGAGE ASSET CORP\",\"Real Estate Investment Trusts\"],[\"LIGHTSTONE VALUE PLUS REAL ESTATE INVESTMENT TRUST III, INC.\",\"Real Estate Investment Trusts\"],[\"AMERICAN FINANCE TRUST, INC\",\"Real Estate Investment Trusts\"],[\"EQUITY COMMONWEALTH\",\"Real Estate Investment Trusts\"],[\"FOUR CORNERS PROPERTY TRUST, INC.\",\"Real Estate Investment Trusts\"],[\"RAYONIER INC\",\"Real Estate Investment Trusts\"],[\"HOST HOTELS & RESORTS, INC.\",\"Real Estate Investment Trusts\"],[\"GAMING & LEISURE PROPERTIES, INC.\",\"Real Estate Investment Trusts\"],[\"NATIONAL RETAIL PROPERTIES, INC.\",\"Real Estate Investment Trusts\"],[\"SENIOR HOUSING PROPERTIES TRUST\",\"Real Estate Investment Trusts\"],[\"SUTHERLAND ASSET MANAGEMENT CORP\",\"Real Estate Investment Trusts\"],[\"TAUBMAN CENTERS INC\",\"Real Estate Investment Trusts\"],[\"RESOURCE REAL ESTATE OPPORTUNITY REIT, INC.\",\"Real Estate Investment Trusts\"],[\"TANGER FACTORY OUTLET CENTERS INC\",\"Real Estate Investment Trusts\"],[\"MFA FINANCIAL, INC.\",\"Real Estate Investment Trusts\"],[\"TERRA SECURED INCOME FUND 5, LLC\",\"Real Estate Investment Trusts\"],[\"SBA COMMUNICATIONS CORP\",\"Real Estate Investment Trusts\"],[\"LIGHTSTONE VALUE PLUS REAL ESTATE INVESTMENT TRUST II INC\",\"Real Estate Investment Trusts\"],[\"JONES LANG LASALLE INCOME PROPERTY TRUST, INC.\",\"Real Estate Investment Trusts\"],[\"AVALONBAY COMMUNITIES INC\",\"Real Estate Investment Trusts\"],[\"ARES COMMERCIAL REAL ESTATE CORP\",\"Real Estate Investment Trusts\"],[\"CARTER VALIDUS MISSION CRITICAL REIT II, INC.\",\"Real Estate Investment Trusts\"],[\"PHYSICIANS REALTY TRUST\",\"Real Estate Investment Trusts\"],[\"PROLOGIS, INC.\",\"Real Estate Investment Trusts\"],[\"ARMOUR RESIDENTIAL REIT, INC.\",\"Real Estate Investment Trusts\"],[\"CHERRY HILL MORTGAGE INVESTMENT CORP\",\"Real Estate Investment Trusts\"],[\"EMPIRE STATE REALTY TRUST, INC.\",\"Real Estate Investment Trusts\"],[\"PUBLIC STORAGE\",\"Real Estate Investment Trusts\"],[\"APARTMENT INVESTMENT & MANAGEMENT CO\",\"Real Estate Investment Trusts\"],[\"CEDAR REALTY TRUST, INC.\",\"Real Estate Investment Trusts\"],[\"HIGHLANDS REIT, INC.\",\"Real Estate Investment Trusts\"],[\"IRON MOUNTAIN INC\",\"Real Estate Investment Trusts\"],[\"SOTHERLY HOTELS INC.\",\"Real Estate Investment Trusts\"],[\"EMPIRE STATE REALTY OP, L.P.\",\"Real Estate Investment Trusts\"],[\"ESSEX PROPERTY TRUST INC\",\"Real Estate Investment Trusts\"],[\"WEINGARTEN REALTY INVESTORS /TX/\",\"Real Estate Investment Trusts\"],[\"CONDOR HOSPITALITY TRUST, INC.\",\"Real Estate Investment Trusts\"],[\"CITY OFFICE REIT, INC.\",\"Real Estate Investment Trusts\"],[\"BENEFIT STREET PARTNERS REALTY TRUST, INC.\",\"Real Estate Investment Trusts\"],[\"LIGHTSTONE REAL ESTATE INCOME TRUST INC.\",\"Real Estate Investment Trusts\"],[\"AMERICAN CAMPUS COMMUNITIES INC\",\"Real Estate Investment Trusts\"],[\"STARWOOD PROPERTY TRUST, INC.\",\"Real Estate Investment Trusts\"],[\"CORESITE REALTY CORP\",\"Real Estate Investment Trusts\"],[\"POTLATCH CORP\",\"Real Estate Investment Trusts\"],[\"CORPORATE OFFICE PROPERTIES TRUST\",\"Real Estate Investment Trusts\"],[\"RAMCO GERSHENSON PROPERTIES TRUST\",\"Real Estate Investment Trusts\"],[\"NATIONAL STORAGE AFFILIATES TRUST\",\"Real Estate Investment Trusts\"],[\"HERSHA HOSPITALITY TRUST\",\"Real Estate Investment Trusts\"],[\"JERNIGAN CAPITAL, INC.\",\"Real Estate Investment Trusts\"],[\"VORNADO REALTY TRUST\",\"Real Estate Investment Trusts\"],[\"ISTAR INC.\",\"Real Estate Investment Trusts\"],[\"ALEXANDER & BALDWIN, INC.\",\"Real Estate Investment Trusts\"],[\"HOSPITALITY INVESTORS TRUST, INC.\",\"Real Estate Investment Trusts\"],[\"SAUL CENTERS INC\",\"Real Estate Investment Trusts\"],[\"KBS GROWTH & INCOME REIT, INC.\",\"Real Estate Investment Trusts\"],[\"EXTRA SPACE STORAGE INC.\",\"Real Estate Investment Trusts\"],[\"CHESAPEAKE LODGING TRUST\",\"Real Estate Investment Trusts\"],[\"LTC PROPERTIES INC\",\"Real Estate Investment Trusts\"],[\"EASTERLY GOVERNMENT PROPERTIES, INC.\",\"Real Estate Investment Trusts\"],[\"PLYMOUTH INDUSTRIAL REIT INC.\",\"Real Estate Investment Trusts\"],[\"FRANKLIN STREET PROPERTIES CORP /MA/\",\"Real Estate Investment Trusts\"],[\"HEALTHCARE TRUST OF AMERICA, INC.\",\"Real Estate Investment Trusts\"],[\"REALSOURCE RESIDENTIAL, INC\",\"Real Estate Investment Trusts\"],[\"CARTER VALIDUS MISSION CRITICAL REIT, INC.\",\"Real Estate Investment Trusts\"],[\"SUN COMMUNITIES INC\",\"Real Estate Investment Trusts\"],[\"FIRST EQUITY PROPERTIES INC\",\"Real Estate Investment Trusts\"],[\"MID AMERICA APARTMENT COMMUNITIES INC\",\"Real Estate Investment Trusts\"],[\"BROOKFIELD DTLA FUND OFFICE TRUST INVESTOR INC.\",\"Real Estate Investment Trusts\"],[\"ANNALY CAPITAL MANAGEMENT INC\",\"Real Estate Investment Trusts\"],[\"WHEELER REAL ESTATE INVESTMENT TRUST, INC.\",\"Real Estate Investment Trusts\"],[\"ALEXANDRIA REAL ESTATE EQUITIES INC\",\"Real Estate Investment Trusts\"],[\"HIGHWOODS PROPERTIES INC\",\"Real Estate Investment Trusts\"],[\"KIMCO REALTY CORP\",\"Real Estate Investment Trusts\"],[\"INDEPENDENCE REALTY TRUST, INC.\",\"Real Estate Investment Trusts\"],[\"PREFERRED APARTMENT COMMUNITIES INC\",\"Real Estate Investment Trusts\"],[\"ELLINGTON RESIDENTIAL MORTGAGE REIT\",\"Real Estate Investment Trusts\"],[\"CORECIVIC, INC.\",\"Real Estate Investment Trusts\"],[\"ASHFORD HOSPITALITY PRIME, INC.\",\"Real Estate Investment Trusts\"],[\"LIFE STORAGE, INC.\",\"Real Estate Investment Trusts\"],[\"HEALTHCARE REALTY TRUST INC\",\"Real Estate Investment Trusts\"],[\"WINTHROP REALTY LIQUIDATING TRUST\",\"Real Estate Investment Trusts\"],[\"CORENERGY INFRASTRUCTURE TRUST, INC.\",\"Real Estate Investment Trusts\"],[\"KBS STRATEGIC OPPORTUNITY REIT II, INC.\",\"Real Estate Investment Trusts\"],[\"PEBBLEBROOK HOTEL TRUST\",\"Real Estate Investment Trusts\"],[\"SABRA HEALTH CARE REIT, INC.\",\"Real Estate Investment Trusts\"],[\"POWER REIT\",\"Real Estate Investment Trusts\"],[\"DYNEX CAPITAL INC\",\"Real Estate Investment Trusts\"],[\"DIGITAL REALTY TRUST, INC.\",\"Real Estate Investment Trusts\"],[\"STRATEGIC REALTY TRUST, INC.\",\"Real Estate Investment Trusts\"],[\"COLE OFFICE & INDUSTRIAL REIT (CCIT III), INC.\",\"Real Estate Investment Trusts\"],[\"HEALTHCARE TRUST, INC.\",\"Real Estate Investment Trusts\"],[\"LADDER CAPITAL CORP\",\"Real Estate Investment Trusts\"],[\"CROWN CASTLE INTERNATIONAL CORP\",\"Real Estate Investment Trusts\"],[\"HOWARD HUGHES CORP\",\"Real Estate Investment Trusts\"],[\"ALEXANDERS INC\",\"Real Estate Investment Trusts\"],[\"MANHATTAN BRIDGE CAPITAL, INC\",\"Real Estate Investment Trusts\"],[\"INLAND REAL ESTATE INCOME TRUST, INC.\",\"Real Estate Investment Trusts\"],[\"INLAND RESIDENTIAL PROPERTIES TRUST, INC.\",\"Real Estate Investment Trusts\"],[\"INLAND RESIDENTIAL PROPERTIES TRUST, INC.\",\"Real Estate Investment Trusts\"],[\"KBS REAL ESTATE INVESTMENT TRUST II, INC.\",\"Real Estate Investment Trusts\"],[\"RESOURCE REAL ESTATE OPPORTUNITY REIT II, INC.\",\"Real Estate Investment Trusts\"],[\"STEADFAST APARTMENT REIT III, INC.\",\"Real Estate Investment Trusts\"],[\"ACADIA REALTY TRUST\",\"Real Estate Investment Trusts\"],[\"HMG COURTLAND PROPERTIES INC\",\"Real Estate Investment Trusts\"],[\"COLE CREDIT PROPERTY TRUST IV, INC.\",\"Real Estate Investment Trusts\"],[\"FIVE OAKS INVESTMENT CORP.\",\"Real Estate Investment Trusts\"],[\"NEXPOINT RESIDENTIAL TRUST, INC.\",\"Real Estate Investment Trusts\"],[\"TWO HARBORS INVESTMENT CORP.\",\"Real Estate Investment Trusts\"],[\"WASHINGTON PRIME GROUP INC.\",\"Real Estate Investment Trusts\"],[\"TIER REIT INC\",\"Real Estate Investment Trusts\"],[\"GRANITE POINT MORTGAGE TRUST INC.\",\"Real Estate Investment Trusts\"],[\"GREAT AJAX CORP.\",\"Real Estate Investment Trusts\"],[\"DUKE REALTY CORP\",\"Real Estate Investment Trusts\"],[\"EASTGROUP PROPERTIES INC\",\"Real Estate Investment Trusts\"],[\"STEADFAST APARTMENT REIT, INC.\",\"Real Estate Investment Trusts\"],[\"RECKSON OPERATING PARTNERSHIP LP\",\"Real Estate Investment Trusts\"],[\"GLOBAL NET LEASE, INC.\",\"Real Estate Investment Trusts\"],[\"KBS STRATEGIC OPPORTUNITY REIT, INC.\",\"Real Estate Investment Trusts\"],[\"WHITESTONE REIT\",\"Real Estate Investment Trusts\"],[\"GRIFFIN CAPITAL ESSENTIAL ASSET REIT II, INC.\",\"Real Estate Investment Trusts\"],[\"UDR, INC.\",\"Real Estate Investment Trusts\"],[\"COMMUNITY HEALTHCARE TRUST INC\",\"Real Estate Investment Trusts\"],[\"VENTAS INC\",\"Real Estate Investment Trusts\"],[\"OWENS REALTY MORTGAGE, INC.\",\"Real Estate Investment Trusts\"],[\"KILROY REALTY CORP\",\"Real Estate Investment Trusts\"],[\"SUMMIT HOTEL PROPERTIES, INC.\",\"Real Estate Investment Trusts\"],[\"CORPORATE PROPERTY ASSOCIATES 18 GLOBAL INC\",\"Real Estate Investment Trusts\"],[\"CYRUSONE INC.\",\"Real Estate Investment Trusts\"],[\"COLONY NORTHSTAR, INC.\",\"Real Estate Investment Trusts\"],[\"FEDERAL REALTY INVESTMENT TRUST\",\"Real Estate Investment Trusts\"],[\"NEW SENIOR INVESTMENT GROUP INC.\",\"Real Estate Investment Trusts\"],[\"RYMAN HOSPITALITY PROPERTIES, INC.\",\"Real Estate Investment Trusts\"],[\"BRIXMOR PROPERTY GROUP INC.\",\"Real Estate Investment Trusts\"],[\"COLE OFFICE & INDUSTRIAL REIT (CCIT II), INC.\",\"Real Estate Investment Trusts\"],[\"OMEGA HEALTHCARE INVESTORS INC\",\"Real Estate Investment Trusts\"],[\"REVEN HOUSING REIT, INC.\",\"Real Estate Investment Trusts\"],[\"AMERICAN REALTY CAPITAL NEW YORK CITY REIT, INC.\",\"Real Estate Investment Trusts\"],[\"STAG INDUSTRIAL, INC.\",\"Real Estate Investment Trusts\"],[\"EQUINIX INC\",\"Real Estate Investment Trusts\"]],\"hovertemplate\":\"color=Real Estate Investment Trusts<br>0=%{x}<br>1=%{y}<br>name=%{customdata[0]}<br>industry=%{customdata[1]}<extra></extra>\",\"legendgroup\":\"Real Estate Investment Trusts\",\"marker\":{\"color\":\"#ab63fa\",\"symbol\":\"circle\"},\"mode\":\"markers\",\"name\":\"Real Estate Investment Trusts\",\"orientation\":\"v\",\"showlegend\":true,\"x\":[0.10824096498172014,0.0952697876243197,0.0952644076346677,0.10228461631107696,0.10228461631107696,0.12275052008259375,0.12275052008259375,0.10120672542201821,0.10809425604048185,0.07015267447279684,0.14245875062480862,0.01146721932361503,0.09225437785450341,0.10444617763874599,0.07239237194386701,0.01147830749321586,0.13214870254361563,0.08758723047024562,0.09698489157361946,0.18076457591262365,0.07550797871984732,0.11882614786809571,0.16629670082496864,0.11282678268337729,0.09373145039577772,0.005523584151271501,0.24393360559678925,0.15517984074855398,0.10688615860110712,0.08148430865727856,0.0738069121523137,0.030467128262843576,0.06813031135632101,0.11059967744375783,0.0638971895507361,0.1597305620964671,0.07680011630322567,0.0738871507189174,0.05405539906230976,0.12779642548312845,0.1686034758525644,0.10685867365743996,0.0157914744765454,0.10559185083225454,0.12066801314488265,0.15373085991423086,0.03600946333486077,0.21271575200634601,0.009091410455482694,0.1509067578851379,0.1593158515437595,0.09675390682462198,0.10612048760389534,0.03600946333486077,0.1005866397717818,0.0932719128096353,0.1176328692535296,0.08516988812060212,0.079574305682874,0.09445879216554658,0.12400399840632971,0.06680767917659848,0.19864287490343543,0.04780154047619831,0.17039478480453032,0.08488178057917876,0.1506910292780709,0.13867407118945896,0.05607826186795545,0.03600946333486077,0.1460424159507975,0.15263194955146966,0.1686023936124804,0.1156181261020869,0.01831707544320343,0.1381674790006711,0.10969107440403572,0.11175720899761867,0.10269822920635062,-0.0014294985534218931,0.09648983076733969,0.11340116739724188,0.11832603577743867,0.00037477457205789446,0.05069330694201638,0.10060971564998632,0.106688534541312,0.11741517311451277,0.07574097781623715,0.12019833724498064,0.19757573892606473,0.03600946333486077,0.07695495673445334,0.21615058246779442,0.0022970119551861006,0.13660762388152753,0.04759255060361495,0.033361759556349416,0.08584017665278226,0.09250663166273575,0.0973655597533148,0.0652243831904595,0.18180457540660402,0.15465213039006856,0.09638639175616588,0.0662155519828338,0.1273829836390961,0.0756188097175748,0.06434631216666073,0.004808053800443806,0.057618181378750744,0.09807359406020014,0.12937481528142025,0.013885239196951553,0.024476066701366032,0.15945303661189045,0.005433948265252339,0.1072575541244307,0.13096795545919926,0.061116761570688724,0.0168843858161745,0.09026635091754712,0.13081974288898218,0.04626530431805524,0.09829945394866262,0.11049165428195372,0.17557111460173042,0.10892419097284906,0.0859530183287913,0.03616127022036778,0.10606782211881885,0.020143852797419044,0.07764632545159075,0.08589614037835522,0.12767826354949638,0.042776608522853525,0.12274611615792873,0.13787956877650734,0.14402192390417734,0.008838111460498182,0.13137128541866064,0.15656234259815188,0.03456808559977093,0.19905280093796598,0.04594272278341734,0.16618642926064037,0.03774329388141948,0.18521336146810222,0.17105721590648168,0.13029625220439833,0.13029625220439833,0.1472333806183058,0.18514722549651857,0.03596099547801981,0.1316900894817354,0.03490687033125307,0.16302243112884215,0.19991449569112188,0.12532655181783012,0.18020518666873525,0.12057464367279172,0.06077273987107489,0.18399195759893527,0.14713007670673695,0.03888335189197869,0.055110026504018333,0.12548580910888077,0.07201636827853473,0.12516649858808496,0.14326538961781854,0.1511618471083402,0.1101382297485357,0.12956246132643556,0.08109009520820082,0.10166247550975788,0.13598221709152822,0.09547121092529237,0.06645606385405638,0.07077364638019884,0.009493904513834906,0.17778345775701063,0.12558831402666104,0.05804432897091379,0.04382187226732633,0.06016335641254885,0.15920224489950152,0.037363132657421,0.14580063838585913,0.16590680691395393,0.05993087749617234,-0.007771749454877139],\"xaxis\":\"x\",\"y\":[-0.3069214680153952,-0.29414312151680094,-0.2594327240466216,-0.2218097375325511,-0.2218097375325511,-0.30234062400873873,-0.30234062400873873,-0.3376295544174256,-0.310661808714271,-0.31904040764816727,-0.3541157371502059,-0.14262149669741986,-0.3102360760298938,-0.3606353083759718,-0.2883232192345861,-0.1358804295264235,-0.15010184187783032,-0.28744498165236404,-0.29418810602715856,-0.36098555204932165,-0.2231396627636379,-0.298166138941768,-0.3856278192015645,-0.20145243218450615,-0.2877558246617148,-0.1383138787145999,-0.16272907926418181,-0.3826914846867778,-0.3166214117752368,-0.31212834539315343,-0.3155850062942777,-0.15794033059101248,-0.2203062155776317,-0.24588257995131546,-0.26437520669992254,-0.36594606781015415,-0.28016115580692474,-0.30074994841391156,-0.26864455699558826,-0.2969304963866101,-0.3633406899674113,-0.2889994996674871,-0.2225411871893252,-0.29366077605815066,-0.38776958216625484,-0.41207372787961527,-0.07392442365525755,-0.3307277901340189,-0.15108848486133797,-0.35331666759605407,-0.17475625459535174,-0.33930717532866284,-0.2085960319618077,-0.07392442365525755,-0.32740019558642874,-0.2829637258560081,-0.35187536310398243,-0.22100307745235864,-0.2761684195625043,-0.24734108714214936,-0.29509289036575653,-0.24887466699061828,-0.176169573424013,-0.22661905451382533,-0.36246459815377335,-0.2905315585689792,-0.1083699951017537,-0.19553327977080112,-0.24074629666460085,-0.07392442365525755,-0.33631140061051146,-0.37332440458791627,-0.2816010025124174,-0.31693351217330246,-0.1814107723377851,-0.3037838154760788,-0.30530458721589665,-0.21370079022993876,-0.35036047366659095,-0.12327006528159207,-0.34484964880924357,-0.3441917778699299,-0.3338139532773293,-0.13924777849079825,-0.25532180826218925,-0.3347917836953747,-0.3439852749541685,-0.3004983677312474,-0.3206954298452889,-0.3110152414381011,-0.2103538385870156,-0.07392442365525755,-0.28534971610643156,-0.2774166201633207,-0.12006076615975735,-0.3036688790444754,-0.23402523157562566,-0.23727160643637574,-0.3317277038494519,-0.3448041092826429,-0.25482746659489336,-0.278116168657315,-0.3132455258560697,-0.32259244227353717,-0.3366160215319434,-0.24943862910660441,-0.3320865531990578,-0.30627551077025844,-0.2754541310318271,-0.12249501827213567,-0.3171689272200078,-0.33166302080165,-0.258327136978555,-0.20086571297418987,-0.17406183084977872,-0.3760466479782466,-0.12360315834092216,-0.24646557252802356,-0.3786242637836268,-0.2648531839216295,-0.14710965154350958,-0.2956874285552974,-0.3287184129397728,-0.11210582245095285,-0.24628569123195654,-0.32932108261382076,-0.35311337758812616,-0.20221863111390084,-0.2931807916099022,-0.211457214243744,-0.3466202524189589,-0.1827009482407325,-0.2519965279329488,-0.2715499378232966,-0.35664546629555727,-0.2761620732530897,-0.30729710097768154,-0.23804526148016705,-0.19902695927156416,-0.12913028905741925,-0.3937605418819557,-0.37419794776974263,-0.22685283715932103,-0.21139825606347837,-0.20914773307510623,-0.34560110129410027,-0.21416686321740241,-0.2651421381672018,-0.39492796047628326,-0.35279499922103097,-0.35279499922103097,-0.3774597843038136,-0.3554777714855882,-0.20845548604396597,-0.2712282807590235,-0.10602790535399724,-0.368761591373945,-0.26242753592991047,-0.34632094064640845,-0.22839001205726234,-0.32990426352310154,-0.27463451171704006,-0.24874422770391466,-0.2816123262494648,-0.16344043977098502,-0.23583050540212963,-0.3627709212223845,-0.31515073140611205,-0.3505579704634858,-0.3505567547143995,-0.33144027080103644,-0.3591541139389349,-0.3993645461748528,-0.27486614111105234,-0.2686807572337602,-0.2430971094416965,-0.2656320301589372,-0.3025163464099362,-0.23476246758613784,-0.13491490926125663,-0.2995394826359428,-0.35787728138281233,-0.25819503169458835,-0.25080595593989047,-0.30275813893170445,-0.36740736671016255,-0.2202455698316536,-0.3335812781209163,-0.3562035156409333,-0.3065179284426109,-0.09389787529801699],\"yaxis\":\"y\",\"type\":\"scatter\"},{\"customdata\":[[\"TOMPKINS FINANCIAL CORP\",\"State Commercial Banks (commercial banking)\"],[\"TRIUMPH BANCORP, INC.\",\"State Commercial Banks (commercial banking)\"],[\"GREAT SOUTHERN BANCORP, INC.\",\"State Commercial Banks (commercial banking)\"],[\"SOUTH STATE CORP\",\"State Commercial Banks (commercial banking)\"],[\"OLD LINE BANCSHARES INC\",\"State Commercial Banks (commercial banking)\"],[\"SEACOAST BANKING CORP OF FLORIDA\",\"State Commercial Banks (commercial banking)\"],[\"CITIZENS FINANCIAL GROUP INC/RI\",\"State Commercial Banks (commercial banking)\"],[\"COMMUNITY WEST BANCSHARES /\",\"State Commercial Banks (commercial banking)\"],[\"MACKINAC FINANCIAL CORP /MI/\",\"State Commercial Banks (commercial banking)\"],[\"UNITY BANCORP INC /NJ/\",\"State Commercial Banks (commercial banking)\"],[\"UNITY BANCORP INC /NJ/\",\"State Commercial Banks (commercial banking)\"],[\"EAST WEST BANCORP INC\",\"State Commercial Banks (commercial banking)\"],[\"HEARTLAND FINANCIAL USA INC\",\"State Commercial Banks (commercial banking)\"],[\"COUNTY BANCORP, INC.\",\"State Commercial Banks (commercial banking)\"],[\"CHEMUNG FINANCIAL CORP\",\"State Commercial Banks (commercial banking)\"],[\"BRYN MAWR BANK CORP\",\"State Commercial Banks (commercial banking)\"],[\"EAGLE BANCORP MONTANA, INC.\",\"State Commercial Banks (commercial banking)\"],[\"1ST SOURCE CORP\",\"State Commercial Banks (commercial banking)\"],[\"SERVISFIRST BANCSHARES, INC.\",\"State Commercial Banks (commercial banking)\"],[\"SIERRA BANCORP\",\"State Commercial Banks (commercial banking)\"],[\"HOPFED BANCORP INC\",\"State Commercial Banks (commercial banking)\"],[\"HOPFED BANCORP INC\",\"State Commercial Banks (commercial banking)\"],[\"FIRST FINANCIAL BANKSHARES INC\",\"State Commercial Banks (commercial banking)\"],[\"CHEMICAL FINANCIAL CORP\",\"State Commercial Banks (commercial banking)\"],[\"SECURITY FEDERAL CORP\",\"State Commercial Banks (commercial banking)\"],[\"FIRST FINANCIAL CORP /IN/\",\"State Commercial Banks (commercial banking)\"],[\"WESTERN ALLIANCE BANCORPORATION\",\"State Commercial Banks (commercial banking)\"],[\"TRISTATE CAPITAL HOLDINGS, INC.\",\"State Commercial Banks (commercial banking)\"],[\"UNION BANKSHARES CORP\",\"State Commercial Banks (commercial banking)\"],[\"CAROLINA TRUST BANCSHARES, INC.\",\"State Commercial Banks (commercial banking)\"],[\"COMMUNITY TRUST BANCORP INC /KY/\",\"State Commercial Banks (commercial banking)\"],[\"HILLS BANCORPORATION\",\"State Commercial Banks (commercial banking)\"],[\"MACATAWA BANK CORP\",\"State Commercial Banks (commercial banking)\"],[\"PREMIER FINANCIAL BANCORP INC\",\"State Commercial Banks (commercial banking)\"],[\"KENTUCKY BANCSHARES INC /KY/\",\"State Commercial Banks (commercial banking)\"],[\"RIVER FINANCIAL CORP\",\"State Commercial Banks (commercial banking)\"],[\"BAR HARBOR BANKSHARES\",\"State Commercial Banks (commercial banking)\"],[\"PARKE BANCORP, INC.\",\"State Commercial Banks (commercial banking)\"],[\"RANDOLPH BANCORP, INC.\",\"State Commercial Banks (commercial banking)\"],[\"BANK OF HAWAII CORP\",\"State Commercial Banks (commercial banking)\"],[\"BSB BANCORP, INC.\",\"State Commercial Banks (commercial banking)\"],[\"INDEPENDENT BANK CORP /MI/\",\"State Commercial Banks (commercial banking)\"],[\"PACIFIC PREMIER BANCORP INC\",\"State Commercial Banks (commercial banking)\"],[\"OHIO VALLEY BANC CORP\",\"State Commercial Banks (commercial banking)\"],[\"CVB FINANCIAL CORP\",\"State Commercial Banks (commercial banking)\"],[\"BANK OF NEW YORK MELLON CORP\",\"State Commercial Banks (commercial banking)\"],[\"TWO RIVER BANCORP\",\"State Commercial Banks (commercial banking)\"],[\"STEWARDSHIP FINANCIAL CORP\",\"State Commercial Banks (commercial banking)\"],[\"LAKELAND FINANCIAL CORP\",\"State Commercial Banks (commercial banking)\"],[\"FAUQUIER BANKSHARES, INC.\",\"State Commercial Banks (commercial banking)\"],[\"LIVE OAK BANCSHARES, INC.\",\"State Commercial Banks (commercial banking)\"],[\"M&T BANK CORP\",\"State Commercial Banks (commercial banking)\"],[\"INTERNATIONAL BANCSHARES CORP\",\"State Commercial Banks (commercial banking)\"],[\"SUMMIT FINANCIAL GROUP INC\",\"State Commercial Banks (commercial banking)\"],[\"SUSSEX BANCORP\",\"State Commercial Banks (commercial banking)\"],[\"PRIME MERIDIAN HOLDING CO\",\"State Commercial Banks (commercial banking)\"],[\"BANKWELL FINANCIAL GROUP, INC.\",\"State Commercial Banks (commercial banking)\"],[\"SOUTHWEST GEORGIA FINANCIAL CORP\",\"State Commercial Banks (commercial banking)\"],[\"BANK OF COMMERCE HOLDINGS\",\"State Commercial Banks (commercial banking)\"],[\"BANK OF COMMERCE HOLDINGS\",\"State Commercial Banks (commercial banking)\"],[\"UNITED BANCORP INC /OH/\",\"State Commercial Banks (commercial banking)\"],[\"PARKWAY ACQUISITION CORP.\",\"State Commercial Banks (commercial banking)\"],[\"INVESTAR HOLDING CORP\",\"State Commercial Banks (commercial banking)\"],[\"RENASANT CORP\",\"State Commercial Banks (commercial banking)\"],[\"RELIANT BANCORP, INC.\",\"State Commercial Banks (commercial banking)\"],[\"FIRST COMMUNITY CORP /SC/\",\"State Commercial Banks (commercial banking)\"],[\"FIRST FINANCIAL NORTHWEST, INC.\",\"State Commercial Banks (commercial banking)\"],[\"COMMERCE BANCSHARES INC /MO/\",\"State Commercial Banks (commercial banking)\"],[\"JUNIATA VALLEY FINANCIAL CORP\",\"State Commercial Banks (commercial banking)\"],[\"HOWARD BANCORP INC\",\"State Commercial Banks (commercial banking)\"],[\"EAGLE FINANCIAL SERVICES INC\",\"State Commercial Banks (commercial banking)\"],[\"MVB FINANCIAL CORP\",\"State Commercial Banks (commercial banking)\"],[\"INDEPENDENT BANK GROUP, INC.\",\"State Commercial Banks (commercial banking)\"],[\"CONNECTONE BANCORP, INC.\",\"State Commercial Banks (commercial banking)\"],[\"REPUBLIC BANCORP INC /KY/\",\"State Commercial Banks (commercial banking)\"],[\"SOUTHSIDE BANCSHARES INC\",\"State Commercial Banks (commercial banking)\"],[\"FIRST HAWAIIAN, INC.\",\"State Commercial Banks (commercial banking)\"],[\"FIRST US BANCSHARES INC\",\"State Commercial Banks (commercial banking)\"],[\"COMMUNITY FINANCIAL CORP /MD/\",\"State Commercial Banks (commercial banking)\"],[\"BANNER CORP\",\"State Commercial Banks (commercial banking)\"],[\"SVB FINANCIAL GROUP\",\"State Commercial Banks (commercial banking)\"],[\"CATHAY GENERAL BANCORP\",\"State Commercial Banks (commercial banking)\"],[\"BANK OF THE JAMES FINANCIAL GROUP INC\",\"State Commercial Banks (commercial banking)\"],[\"FLUSHING FINANCIAL CORP\",\"State Commercial Banks (commercial banking)\"],[\"FRANKLIN FINANCIAL SERVICES CORP /PA/\",\"State Commercial Banks (commercial banking)\"],[\"CENTRAL PACIFIC FINANCIAL CORP\",\"State Commercial Banks (commercial banking)\"],[\"CENTRAL PACIFIC FINANCIAL CORP\",\"State Commercial Banks (commercial banking)\"],[\"CENTRAL VALLEY COMMUNITY BANCORP\",\"State Commercial Banks (commercial banking)\"],[\"F&M BANK CORP\",\"State Commercial Banks (commercial banking)\"],[\"FARMERS NATIONAL BANC CORP /OH/\",\"State Commercial Banks (commercial banking)\"],[\"CITIZENS & NORTHERN CORP\",\"State Commercial Banks (commercial banking)\"],[\"GUARANTY FEDERAL BANCSHARES INC\",\"State Commercial Banks (commercial banking)\"],[\"CAROLINA FINANCIAL CORP\",\"State Commercial Banks (commercial banking)\"],[\"FIRST INTERNET BANCORP\",\"State Commercial Banks (commercial banking)\"],[\"HARBORONE BANCORP, INC.\",\"State Commercial Banks (commercial banking)\"],[\"UNITED BANKSHARES INC/WV\",\"State Commercial Banks (commercial banking)\"],[\"INDEPENDENT BANK CORP\",\"State Commercial Banks (commercial banking)\"],[\"CITIZENS FINANCIAL SERVICES INC\",\"State Commercial Banks (commercial banking)\"],[\"NORWOOD FINANCIAL CORP\",\"State Commercial Banks (commercial banking)\"],[\"WEST BANCORPORATION INC\",\"State Commercial Banks (commercial banking)\"],[\"CUSTOMERS BANCORP, INC.\",\"State Commercial Banks (commercial banking)\"],[\"WEST END INDIANA BANCSHARES, INC.\",\"State Commercial Banks (commercial banking)\"],[\"ATLANTIC CAPITAL BANCSHARES, INC.\",\"State Commercial Banks (commercial banking)\"],[\"IBERIABANK CORP\",\"State Commercial Banks (commercial banking)\"],[\"MERCANTILE BANK CORP\",\"State Commercial Banks (commercial banking)\"],[\"GERMAN AMERICAN BANCORP, INC.\",\"State Commercial Banks (commercial banking)\"],[\"S&T BANCORP INC\",\"State Commercial Banks (commercial banking)\"],[\"HILLTOP HOLDINGS INC.\",\"State Commercial Banks (commercial banking)\"],[\"CB FINANCIAL SERVICES, INC.\",\"State Commercial Banks (commercial banking)\"],[\"ENTERPRISE FINANCIAL SERVICES CORP\",\"State Commercial Banks (commercial banking)\"],[\"AUBURN NATIONAL BANCORPORATION, INC\",\"State Commercial Banks (commercial banking)\"],[\"FIRST KEYSTONE CORP\",\"State Commercial Banks (commercial banking)\"],[\"TEXAS CAPITAL BANCSHARES INC/TX\",\"State Commercial Banks (commercial banking)\"],[\"VILLAGE BANK & TRUST FINANCIAL CORP.\",\"State Commercial Banks (commercial banking)\"],[\"STOCK YARDS BANCORP, INC.\",\"State Commercial Banks (commercial banking)\"],[\"BUSINESS FIRST BANCSHARES, INC.\",\"State Commercial Banks (commercial banking)\"]],\"hovertemplate\":\"color=State Commercial Banks (commercial banking)<br>0=%{x}<br>1=%{y}<br>name=%{customdata[0]}<br>industry=%{customdata[1]}<extra></extra>\",\"legendgroup\":\"State Commercial Banks (commercial banking)\",\"marker\":{\"color\":\"#FFA15A\",\"symbol\":\"circle\"},\"mode\":\"markers\",\"name\":\"State Commercial Banks (commercial banking)\",\"orientation\":\"v\",\"showlegend\":true,\"x\":[0.567478181857535,0.5085795058804088,0.4191285302119418,0.6333840496291118,0.5778981682148923,0.621997836636398,0.5693434536708453,0.3089058792175569,0.5261838774243781,0.5193351210708137,0.5193351210708137,0.012632031914587123,0.6232506003669642,0.6106943697812398,0.5709179845161345,0.5364737709280833,0.4861403422065157,0.6119849779070403,0.5732983061035177,0.5672701650732014,0.5772384859775643,0.5772384859775643,0.5461570256801915,0.6275374958385026,0.5291013518537129,0.6224765963636012,0.28066865752680636,0.6145907607332707,0.5858271138690011,0.592751432285628,0.4787871703085275,0.6136609331491796,0.5156144649643157,0.5857670599080442,0.5518097360989834,0.614601670056946,0.6132003883026448,0.6070849129312509,0.53396533297355,0.36416589799523036,0.455167360164777,0.07006496322387547,0.6322261013159259,0.5645376450369948,0.5510286308702345,0.09619416823801988,0.5105386931925103,0.5722057960171594,0.5977204378688684,0.6284233312790235,0.6143224963863794,0.538718053418755,0.5742632622472518,0.4984540199031461,0.5600712228304351,0.5857116503585764,0.5937949639673423,0.4618381235436155,0.5947910863136321,0.5947910863136321,0.5566120914002431,0.5986764070459214,0.6505695304494222,0.6039222180313524,0.5676033032457056,0.6322831376071808,0.5160752064071281,0.5721188035313804,0.5597209213818228,0.2685498379375611,0.5866682348411315,0.5629385948145511,0.6220402660162412,0.5763584743642505,0.45922845094991027,0.5882745073714986,0.6056475843956012,0.5344945382383202,0.47754237048310777,-0.014283446473278094,0.5416425220117569,0.5824621868202352,0.5926427121195144,0.4037259864752541,0.5988682969375264,0.6193209484189152,0.6193209484189152,0.6126640223388184,0.008732497640596337,0.5360106518803047,0.2197886287635399,0.5219975205394813,0.6422150256828839,0.5919811967751617,0.593781591493194,0.5718041884887907,0.4670981789389352,0.5593720776657242,0.588510657687156,0.5909456485881006,0.5720047800621538,0.45112637978749254,0.630815809792618,0.5901177249362763,0.5280323894828337,0.5313234497349014,0.2025021087668711,0.5759753485238984,0.39554553039543505,0.07691154058443339,0.616818071310694,0.5214460937850054,0.5670267858748971,0.6092776701845616,0.4931646082186296,0.65920381897674],\"xaxis\":\"x\",\"y\":[0.4507195199235631,0.30871132535261525,0.06359152178697625,0.507375347939137,0.41510903694472573,0.5335225363707107,0.47669407842258876,0.09944274697688606,0.35536633733240086,0.4644042867045443,0.4644042867045443,-0.09894981228882128,0.494462443965638,0.44662095476407326,0.40977897238336736,0.444247013800057,0.2429684739410686,0.5057228213902052,0.404793070670716,0.43425534108555025,0.4107866963525328,0.4107866963525328,0.45258006774977594,0.40578345520424225,0.21373929842204248,0.501007235039025,0.00770307966791105,0.41998890590048177,0.5100358266452544,0.49808444758415693,0.39942028503955507,0.4428088718174658,0.29452210718456184,0.495391357087185,0.42140319801575005,0.4991025160883507,0.4755315750517712,0.39980114715497117,0.2831508661902404,0.24136960214575048,0.13883498799625962,-0.0734560533812552,0.4642878925991089,0.3894185498801853,0.4060733366990945,-0.0347900153208199,0.3046305695437805,0.48804822911535617,0.4977268177284026,0.4732444304696545,0.5171875823933588,0.42673158400545397,0.5006515452551816,0.372526543891115,0.4900815088690413,0.39487104154178587,0.40990817049343903,0.29883038898451836,0.49651721922769176,0.49651721922769176,0.4047045475398018,0.5049330969649712,0.47340602182107366,0.3524941820988829,0.49626250781156256,0.5189477431700327,0.1877921456481426,0.48644266749639953,0.4237552869881777,-0.04839507557925568,0.48739952142045323,0.4438229636107752,0.5037887847013133,0.4690975307132786,0.27509209998211914,0.4945396920966364,0.510823675389161,0.4350414679566935,0.21125338103554842,-0.047246916884780076,0.47252381140195315,0.4152136903841804,0.4851440212351421,0.09531898787943682,0.3978211644976991,0.45966296159279635,0.45966296159279635,0.485441140924439,-0.0490628560006202,0.4422841931030483,0.11650919727581362,0.266393515923877,0.48572830859168176,0.4779153579418558,0.36179886891293045,0.36479238059735963,0.1484723682655303,0.46829506521814607,0.40123227080818036,0.49673672157155635,0.4554009263579535,0.19198488033299038,0.46503082362676024,0.49224597474030024,0.29382624080210484,0.4192952262784855,0.1246676778827356,0.4480437357253245,0.08820140780365425,-0.03129678691254557,0.5260692880612967,0.42819870209588073,0.47733605660554507,0.4860167988841197,0.4086776078915632,0.4870147461871386],\"yaxis\":\"y\",\"type\":\"scatter\"}],                        {\"template\":{\"data\":{\"histogram2dcontour\":[{\"type\":\"histogram2dcontour\",\"colorbar\":{\"outlinewidth\":0,\"ticks\":\"\"},\"colorscale\":[[0.0,\"#0d0887\"],[0.1111111111111111,\"#46039f\"],[0.2222222222222222,\"#7201a8\"],[0.3333333333333333,\"#9c179e\"],[0.4444444444444444,\"#bd3786\"],[0.5555555555555556,\"#d8576b\"],[0.6666666666666666,\"#ed7953\"],[0.7777777777777778,\"#fb9f3a\"],[0.8888888888888888,\"#fdca26\"],[1.0,\"#f0f921\"]]}],\"choropleth\":[{\"type\":\"choropleth\",\"colorbar\":{\"outlinewidth\":0,\"ticks\":\"\"}}],\"histogram2d\":[{\"type\":\"histogram2d\",\"colorbar\":{\"outlinewidth\":0,\"ticks\":\"\"},\"colorscale\":[[0.0,\"#0d0887\"],[0.1111111111111111,\"#46039f\"],[0.2222222222222222,\"#7201a8\"],[0.3333333333333333,\"#9c179e\"],[0.4444444444444444,\"#bd3786\"],[0.5555555555555556,\"#d8576b\"],[0.6666666666666666,\"#ed7953\"],[0.7777777777777778,\"#fb9f3a\"],[0.8888888888888888,\"#fdca26\"],[1.0,\"#f0f921\"]]}],\"heatmap\":[{\"type\":\"heatmap\",\"colorbar\":{\"outlinewidth\":0,\"ticks\":\"\"},\"colorscale\":[[0.0,\"#0d0887\"],[0.1111111111111111,\"#46039f\"],[0.2222222222222222,\"#7201a8\"],[0.3333333333333333,\"#9c179e\"],[0.4444444444444444,\"#bd3786\"],[0.5555555555555556,\"#d8576b\"],[0.6666666666666666,\"#ed7953\"],[0.7777777777777778,\"#fb9f3a\"],[0.8888888888888888,\"#fdca26\"],[1.0,\"#f0f921\"]]}],\"heatmapgl\":[{\"type\":\"heatmapgl\",\"colorbar\":{\"outlinewidth\":0,\"ticks\":\"\"},\"colorscale\":[[0.0,\"#0d0887\"],[0.1111111111111111,\"#46039f\"],[0.2222222222222222,\"#7201a8\"],[0.3333333333333333,\"#9c179e\"],[0.4444444444444444,\"#bd3786\"],[0.5555555555555556,\"#d8576b\"],[0.6666666666666666,\"#ed7953\"],[0.7777777777777778,\"#fb9f3a\"],[0.8888888888888888,\"#fdca26\"],[1.0,\"#f0f921\"]]}],\"contourcarpet\":[{\"type\":\"contourcarpet\",\"colorbar\":{\"outlinewidth\":0,\"ticks\":\"\"}}],\"contour\":[{\"type\":\"contour\",\"colorbar\":{\"outlinewidth\":0,\"ticks\":\"\"},\"colorscale\":[[0.0,\"#0d0887\"],[0.1111111111111111,\"#46039f\"],[0.2222222222222222,\"#7201a8\"],[0.3333333333333333,\"#9c179e\"],[0.4444444444444444,\"#bd3786\"],[0.5555555555555556,\"#d8576b\"],[0.6666666666666666,\"#ed7953\"],[0.7777777777777778,\"#fb9f3a\"],[0.8888888888888888,\"#fdca26\"],[1.0,\"#f0f921\"]]}],\"surface\":[{\"type\":\"surface\",\"colorbar\":{\"outlinewidth\":0,\"ticks\":\"\"},\"colorscale\":[[0.0,\"#0d0887\"],[0.1111111111111111,\"#46039f\"],[0.2222222222222222,\"#7201a8\"],[0.3333333333333333,\"#9c179e\"],[0.4444444444444444,\"#bd3786\"],[0.5555555555555556,\"#d8576b\"],[0.6666666666666666,\"#ed7953\"],[0.7777777777777778,\"#fb9f3a\"],[0.8888888888888888,\"#fdca26\"],[1.0,\"#f0f921\"]]}],\"mesh3d\":[{\"type\":\"mesh3d\",\"colorbar\":{\"outlinewidth\":0,\"ticks\":\"\"}}],\"scatter\":[{\"fillpattern\":{\"fillmode\":\"overlay\",\"size\":10,\"solidity\":0.2},\"type\":\"scatter\"}],\"parcoords\":[{\"type\":\"parcoords\",\"line\":{\"colorbar\":{\"outlinewidth\":0,\"ticks\":\"\"}}}],\"scatterpolargl\":[{\"type\":\"scatterpolargl\",\"marker\":{\"colorbar\":{\"outlinewidth\":0,\"ticks\":\"\"}}}],\"bar\":[{\"error_x\":{\"color\":\"#2a3f5f\"},\"error_y\":{\"color\":\"#2a3f5f\"},\"marker\":{\"line\":{\"color\":\"#E5ECF6\",\"width\":0.5},\"pattern\":{\"fillmode\":\"overlay\",\"size\":10,\"solidity\":0.2}},\"type\":\"bar\"}],\"scattergeo\":[{\"type\":\"scattergeo\",\"marker\":{\"colorbar\":{\"outlinewidth\":0,\"ticks\":\"\"}}}],\"scatterpolar\":[{\"type\":\"scatterpolar\",\"marker\":{\"colorbar\":{\"outlinewidth\":0,\"ticks\":\"\"}}}],\"histogram\":[{\"marker\":{\"pattern\":{\"fillmode\":\"overlay\",\"size\":10,\"solidity\":0.2}},\"type\":\"histogram\"}],\"scattergl\":[{\"type\":\"scattergl\",\"marker\":{\"colorbar\":{\"outlinewidth\":0,\"ticks\":\"\"}}}],\"scatter3d\":[{\"type\":\"scatter3d\",\"line\":{\"colorbar\":{\"outlinewidth\":0,\"ticks\":\"\"}},\"marker\":{\"colorbar\":{\"outlinewidth\":0,\"ticks\":\"\"}}}],\"scattermapbox\":[{\"type\":\"scattermapbox\",\"marker\":{\"colorbar\":{\"outlinewidth\":0,\"ticks\":\"\"}}}],\"scatterternary\":[{\"type\":\"scatterternary\",\"marker\":{\"colorbar\":{\"outlinewidth\":0,\"ticks\":\"\"}}}],\"scattercarpet\":[{\"type\":\"scattercarpet\",\"marker\":{\"colorbar\":{\"outlinewidth\":0,\"ticks\":\"\"}}}],\"carpet\":[{\"aaxis\":{\"endlinecolor\":\"#2a3f5f\",\"gridcolor\":\"white\",\"linecolor\":\"white\",\"minorgridcolor\":\"white\",\"startlinecolor\":\"#2a3f5f\"},\"baxis\":{\"endlinecolor\":\"#2a3f5f\",\"gridcolor\":\"white\",\"linecolor\":\"white\",\"minorgridcolor\":\"white\",\"startlinecolor\":\"#2a3f5f\"},\"type\":\"carpet\"}],\"table\":[{\"cells\":{\"fill\":{\"color\":\"#EBF0F8\"},\"line\":{\"color\":\"white\"}},\"header\":{\"fill\":{\"color\":\"#C8D4E3\"},\"line\":{\"color\":\"white\"}},\"type\":\"table\"}],\"barpolar\":[{\"marker\":{\"line\":{\"color\":\"#E5ECF6\",\"width\":0.5},\"pattern\":{\"fillmode\":\"overlay\",\"size\":10,\"solidity\":0.2}},\"type\":\"barpolar\"}],\"pie\":[{\"automargin\":true,\"type\":\"pie\"}]},\"layout\":{\"autotypenumbers\":\"strict\",\"colorway\":[\"#636efa\",\"#EF553B\",\"#00cc96\",\"#ab63fa\",\"#FFA15A\",\"#19d3f3\",\"#FF6692\",\"#B6E880\",\"#FF97FF\",\"#FECB52\"],\"font\":{\"color\":\"#2a3f5f\"},\"hovermode\":\"closest\",\"hoverlabel\":{\"align\":\"left\"},\"paper_bgcolor\":\"white\",\"plot_bgcolor\":\"#E5ECF6\",\"polar\":{\"bgcolor\":\"#E5ECF6\",\"angularaxis\":{\"gridcolor\":\"white\",\"linecolor\":\"white\",\"ticks\":\"\"},\"radialaxis\":{\"gridcolor\":\"white\",\"linecolor\":\"white\",\"ticks\":\"\"}},\"ternary\":{\"bgcolor\":\"#E5ECF6\",\"aaxis\":{\"gridcolor\":\"white\",\"linecolor\":\"white\",\"ticks\":\"\"},\"baxis\":{\"gridcolor\":\"white\",\"linecolor\":\"white\",\"ticks\":\"\"},\"caxis\":{\"gridcolor\":\"white\",\"linecolor\":\"white\",\"ticks\":\"\"}},\"coloraxis\":{\"colorbar\":{\"outlinewidth\":0,\"ticks\":\"\"}},\"colorscale\":{\"sequential\":[[0.0,\"#0d0887\"],[0.1111111111111111,\"#46039f\"],[0.2222222222222222,\"#7201a8\"],[0.3333333333333333,\"#9c179e\"],[0.4444444444444444,\"#bd3786\"],[0.5555555555555556,\"#d8576b\"],[0.6666666666666666,\"#ed7953\"],[0.7777777777777778,\"#fb9f3a\"],[0.8888888888888888,\"#fdca26\"],[1.0,\"#f0f921\"]],\"sequentialminus\":[[0.0,\"#0d0887\"],[0.1111111111111111,\"#46039f\"],[0.2222222222222222,\"#7201a8\"],[0.3333333333333333,\"#9c179e\"],[0.4444444444444444,\"#bd3786\"],[0.5555555555555556,\"#d8576b\"],[0.6666666666666666,\"#ed7953\"],[0.7777777777777778,\"#fb9f3a\"],[0.8888888888888888,\"#fdca26\"],[1.0,\"#f0f921\"]],\"diverging\":[[0,\"#8e0152\"],[0.1,\"#c51b7d\"],[0.2,\"#de77ae\"],[0.3,\"#f1b6da\"],[0.4,\"#fde0ef\"],[0.5,\"#f7f7f7\"],[0.6,\"#e6f5d0\"],[0.7,\"#b8e186\"],[0.8,\"#7fbc41\"],[0.9,\"#4d9221\"],[1,\"#276419\"]]},\"xaxis\":{\"gridcolor\":\"white\",\"linecolor\":\"white\",\"ticks\":\"\",\"title\":{\"standoff\":15},\"zerolinecolor\":\"white\",\"automargin\":true,\"zerolinewidth\":2},\"yaxis\":{\"gridcolor\":\"white\",\"linecolor\":\"white\",\"ticks\":\"\",\"title\":{\"standoff\":15},\"zerolinecolor\":\"white\",\"automargin\":true,\"zerolinewidth\":2},\"scene\":{\"xaxis\":{\"backgroundcolor\":\"#E5ECF6\",\"gridcolor\":\"white\",\"linecolor\":\"white\",\"showbackground\":true,\"ticks\":\"\",\"zerolinecolor\":\"white\",\"gridwidth\":2},\"yaxis\":{\"backgroundcolor\":\"#E5ECF6\",\"gridcolor\":\"white\",\"linecolor\":\"white\",\"showbackground\":true,\"ticks\":\"\",\"zerolinecolor\":\"white\",\"gridwidth\":2},\"zaxis\":{\"backgroundcolor\":\"#E5ECF6\",\"gridcolor\":\"white\",\"linecolor\":\"white\",\"showbackground\":true,\"ticks\":\"\",\"zerolinecolor\":\"white\",\"gridwidth\":2}},\"shapedefaults\":{\"line\":{\"color\":\"#2a3f5f\"}},\"annotationdefaults\":{\"arrowcolor\":\"#2a3f5f\",\"arrowhead\":0,\"arrowwidth\":1},\"geo\":{\"bgcolor\":\"white\",\"landcolor\":\"#E5ECF6\",\"subunitcolor\":\"white\",\"showland\":true,\"showlakes\":true,\"lakecolor\":\"white\"},\"title\":{\"x\":0.05},\"mapbox\":{\"style\":\"light\"}}},\"xaxis\":{\"anchor\":\"y\",\"domain\":[0.0,1.0],\"title\":{\"text\":\"0\"}},\"yaxis\":{\"anchor\":\"x\",\"domain\":[0.0,1.0],\"title\":{\"text\":\"1\"}},\"legend\":{\"title\":{\"text\":\"color\"},\"tracegroupgap\":0,\"orientation\":\"h\",\"yanchor\":\"bottom\",\"y\":-0.25,\"xanchor\":\"center\",\"x\":0.5},\"margin\":{\"t\":60},\"height\":700,\"width\":1100},                        {\"responsive\": true}                    ).then(function(){\n",
       "                            \n",
       "var gd = document.getElementById('fe9b7c8b-3ca5-4cce-a72e-40bd3165ba7f');\n",
       "var x = new MutationObserver(function (mutations, observer) {{\n",
       "        var display = window.getComputedStyle(gd).display;\n",
       "        if (!display || display === 'none') {{\n",
       "            console.log([gd, 'removed!']);\n",
       "            Plotly.purge(gd);\n",
       "            observer.disconnect();\n",
       "        }}\n",
       "}});\n",
       "\n",
       "// Listen for the removal of the full notebook cells\n",
       "var notebookContainer = gd.closest('#notebook-container');\n",
       "if (notebookContainer) {{\n",
       "    x.observe(notebookContainer, {childList: true});\n",
       "}}\n",
       "\n",
       "// Listen for the clearing of the current output cell\n",
       "var outputEl = gd.closest('.output');\n",
       "if (outputEl) {{\n",
       "    x.observe(outputEl, {childList: true});\n",
       "}}\n",
       "\n",
       "                        })                };                });            </script>        </div>"
      ]
     },
     "metadata": {},
     "output_type": "display_data"
    }
   ],
   "source": [
    "plot = std_func.pca_visualize_2d(tfidf, df.loc[:,[\"name\",\"SIC_desc\"]])"
   ]
  },
  {
   "cell_type": "markdown",
   "id": "bf82f4bb-dd63-440d-96d4-e72bfd90a543",
   "metadata": {},
   "source": [
    "And this is a 3-dimensional plot which plots the first three dimensions. You can interact with it as well."
   ]
  },
  {
   "cell_type": "code",
   "execution_count": 11,
   "id": "d2eefc7c-9f1a-4913-a660-432f21f49eab",
   "metadata": {
    "tags": [
     "remove-input"
    ]
   },
   "outputs": [
    {
     "data": {
      "application/vnd.plotly.v1+json": {
       "config": {
        "plotlyServerURL": "https://plot.ly"
       },
       "data": [
        {
         "customdata": [
          [
           "MONGODB, INC.",
           "Prepackaged Software (mass reproduction of software)"
          ],
          [
           "SALESFORCE COM INC",
           "Prepackaged Software (mass reproduction of software)"
          ],
          [
           "SPLUNK INC",
           "Prepackaged Software (mass reproduction of software)"
          ],
          [
           "OKTA, INC.",
           "Prepackaged Software (mass reproduction of software)"
          ],
          [
           "VEEVA SYSTEMS INC",
           "Prepackaged Software (mass reproduction of software)"
          ],
          [
           "AUTODESK INC",
           "Prepackaged Software (mass reproduction of software)"
          ],
          [
           "ETERNAL SPEECH, INC.",
           "Prepackaged Software (mass reproduction of software)"
          ],
          [
           "ETERNAL SPEECH, INC.",
           "Prepackaged Software (mass reproduction of software)"
          ],
          [
           "MAJESCO",
           "Prepackaged Software (mass reproduction of software)"
          ],
          [
           "DUO WORLD INC",
           "Prepackaged Software (mass reproduction of software)"
          ],
          [
           "COMMVAULT SYSTEMS INC",
           "Prepackaged Software (mass reproduction of software)"
          ],
          [
           "UPPERSOLUTION.COM",
           "Prepackaged Software (mass reproduction of software)"
          ],
          [
           "ORACLE CORP",
           "Prepackaged Software (mass reproduction of software)"
          ],
          [
           "SAVMOBI TECHNOLOGY INC.",
           "Prepackaged Software (mass reproduction of software)"
          ],
          [
           "ZEDGE, INC.",
           "Prepackaged Software (mass reproduction of software)"
          ],
          [
           "DESTINY MEDIA TECHNOLOGIES INC",
           "Prepackaged Software (mass reproduction of software)"
          ],
          [
           "TRAQER CORP",
           "Prepackaged Software (mass reproduction of software)"
          ],
          [
           "VISIBER57 CORP.",
           "Prepackaged Software (mass reproduction of software)"
          ],
          [
           "GH CAPITAL INC.",
           "Prepackaged Software (mass reproduction of software)"
          ],
          [
           "BRIDGELINE DIGITAL, INC.",
           "Prepackaged Software (mass reproduction of software)"
          ],
          [
           "NUANCE COMMUNICATIONS, INC.",
           "Prepackaged Software (mass reproduction of software)"
          ],
          [
           "DATAWATCH CORP",
           "Prepackaged Software (mass reproduction of software)"
          ],
          [
           "POLARITYTE, INC.",
           "Prepackaged Software (mass reproduction of software)"
          ],
          [
           "POLARITYTE, INC.",
           "Prepackaged Software (mass reproduction of software)"
          ],
          [
           "VGRAB COMMUNICATIONS INC.",
           "Prepackaged Software (mass reproduction of software)"
          ],
          [
           "VGRAB COMMUNICATIONS INC.",
           "Prepackaged Software (mass reproduction of software)"
          ],
          [
           "ADAIAH DISTRIBUTION INC",
           "Prepackaged Software (mass reproduction of software)"
          ],
          [
           "ADAIAH DISTRIBUTION INC",
           "Prepackaged Software (mass reproduction of software)"
          ],
          [
           "PROGRESS SOFTWARE CORP /MA",
           "Prepackaged Software (mass reproduction of software)"
          ],
          [
           "MEDICAL INFORMATION TECHNOLOGY, INC.",
           "Prepackaged Software (mass reproduction of software)"
          ],
          [
           "SPS COMMERCE INC",
           "Prepackaged Software (mass reproduction of software)"
          ],
          [
           "ALTERYX, INC.",
           "Prepackaged Software (mass reproduction of software)"
          ],
          [
           "INTELLIGENT SYSTEMS CORP",
           "Prepackaged Software (mass reproduction of software)"
          ],
          [
           "ALARM.COM HOLDINGS, INC.",
           "Prepackaged Software (mass reproduction of software)"
          ],
          [
           "LIGHTNING GAMING, INC.",
           "Prepackaged Software (mass reproduction of software)"
          ],
          [
           "ENDURANCE INTERNATIONAL GROUP HOLDINGS, INC.",
           "Prepackaged Software (mass reproduction of software)"
          ],
          [
           "2U, INC.",
           "Prepackaged Software (mass reproduction of software)"
          ],
          [
           "CISION LTD.",
           "Prepackaged Software (mass reproduction of software)"
          ],
          [
           "BTCS INC.",
           "Prepackaged Software (mass reproduction of software)"
          ],
          [
           "BTCS INC.",
           "Prepackaged Software (mass reproduction of software)"
          ],
          [
           "BTCS INC.",
           "Prepackaged Software (mass reproduction of software)"
          ],
          [
           "INTELLICHECK, INC.",
           "Prepackaged Software (mass reproduction of software)"
          ],
          [
           "REALPAGE INC",
           "Prepackaged Software (mass reproduction of software)"
          ],
          [
           "Q2 HOLDINGS, INC.",
           "Prepackaged Software (mass reproduction of software)"
          ],
          [
           "MCORPCX, INC.",
           "Prepackaged Software (mass reproduction of software)"
          ],
          [
           "QUALYS, INC.",
           "Prepackaged Software (mass reproduction of software)"
          ],
          [
           "MEDICAL TRANSCRIPTION BILLING, CORP",
           "Prepackaged Software (mass reproduction of software)"
          ],
          [
           "SMITH MICRO SOFTWARE INC",
           "Prepackaged Software (mass reproduction of software)"
          ],
          [
           "SHOTSPOTTER, INC",
           "Prepackaged Software (mass reproduction of software)"
          ],
          [
           "LONGWEN GROUP CORP.",
           "Prepackaged Software (mass reproduction of software)"
          ],
          [
           "ELLIE MAE INC",
           "Prepackaged Software (mass reproduction of software)"
          ],
          [
           "ROSETTA STONE INC",
           "Prepackaged Software (mass reproduction of software)"
          ],
          [
           "BLACK KNIGHT, INC.",
           "Prepackaged Software (mass reproduction of software)"
          ],
          [
           "MICROSTRATEGY INC",
           "Prepackaged Software (mass reproduction of software)"
          ],
          [
           "EMR TECHNOLOGY SOLUTIONS, INC.",
           "Prepackaged Software (mass reproduction of software)"
          ],
          [
           "PAYCOM SOFTWARE, INC.",
           "Prepackaged Software (mass reproduction of software)"
          ],
          [
           "3D SYSTEMS CORP",
           "Prepackaged Software (mass reproduction of software)"
          ],
          [
           "APPIAN CORP",
           "Prepackaged Software (mass reproduction of software)"
          ],
          [
           "UPLAND SOFTWARE, INC.",
           "Prepackaged Software (mass reproduction of software)"
          ],
          [
           "LIVEPERSON INC",
           "Prepackaged Software (mass reproduction of software)"
          ],
          [
           "AWARE INC /MA/",
           "Prepackaged Software (mass reproduction of software)"
          ],
          [
           "ULTIMATE SOFTWARE GROUP INC",
           "Prepackaged Software (mass reproduction of software)"
          ],
          [
           "ANSYS INC",
           "Prepackaged Software (mass reproduction of software)"
          ],
          [
           "AVID TECHNOLOGY, INC.",
           "Prepackaged Software (mass reproduction of software)"
          ],
          [
           "NATIONAL INSTRUMENTS CORP",
           "Prepackaged Software (mass reproduction of software)"
          ],
          [
           "INSPRO TECHNOLOGIES CORP",
           "Prepackaged Software (mass reproduction of software)"
          ],
          [
           "QUMU CORP",
           "Prepackaged Software (mass reproduction of software)"
          ],
          [
           "ACI WORLDWIDE, INC.",
           "Prepackaged Software (mass reproduction of software)"
          ],
          [
           "SQUARE, INC.",
           "Prepackaged Software (mass reproduction of software)"
          ],
          [
           "ALTAIR ENGINEERING INC.",
           "Prepackaged Software (mass reproduction of software)"
          ],
          [
           "TALEND SA",
           "Prepackaged Software (mass reproduction of software)"
          ],
          [
           "APPFOLIO INC",
           "Prepackaged Software (mass reproduction of software)"
          ],
          [
           "GSE SYSTEMS INC",
           "Prepackaged Software (mass reproduction of software)"
          ],
          [
           "IPSIDY INC.",
           "Prepackaged Software (mass reproduction of software)"
          ],
          [
           "INTELLINETICS, INC.",
           "Prepackaged Software (mass reproduction of software)"
          ],
          [
           "INTELLINETICS, INC.",
           "Prepackaged Software (mass reproduction of software)"
          ],
          [
           "IIOT-OXYS, INC.",
           "Prepackaged Software (mass reproduction of software)"
          ],
          [
           "NEWGIOCO GROUP, INC.",
           "Prepackaged Software (mass reproduction of software)"
          ],
          [
           "WORKIVA INC",
           "Prepackaged Software (mass reproduction of software)"
          ],
          [
           "TABLEAU SOFTWARE INC",
           "Prepackaged Software (mass reproduction of software)"
          ]
         ],
         "hovertemplate": "color=Prepackaged Software (mass reproduction of software)<br>0=%{x}<br>1=%{y}<br>2=%{z}<br>name=%{customdata[0]}<br>industry=%{customdata[1]}<extra></extra>",
         "legendgroup": "Prepackaged Software (mass reproduction of software)",
         "marker": {
          "color": "#636efa",
          "symbol": "circle"
         },
         "mode": "markers",
         "name": "Prepackaged Software (mass reproduction of software)",
         "scene": "scene",
         "showlegend": true,
         "type": "scatter3d",
         "x": [
          -0.08898937713306726,
          -0.021609906790454044,
          -0.048425271266171,
          -0.08850959250692716,
          0.006313932852060821,
          -0.057229208902906746,
          -0.013322836251161464,
          -0.013322836251161464,
          -0.01567430423878135,
          -0.043156980579877956,
          -0.0662501884562171,
          -0.058412273095123285,
          -0.009891943937656512,
          -0.0024806789622232074,
          -0.007023269201751469,
          -0.08390229127870236,
          0.0478156901952963,
          -0.0021173111229734185,
          0.012012382613462306,
          -0.033713821830963116,
          -0.045720198218397394,
          -0.034011060568648555,
          -0.34207141897230686,
          -0.34207141897230686,
          0.04865799504821164,
          0.04865799504821164,
          0.03443329799265777,
          0.03443329799265777,
          -0.03127621575143739,
          -0.03641931255949607,
          -0.0012882185893910002,
          -0.10411965415479783,
          0.024665818872866313,
          -0.032375689443579915,
          -0.07814868869816993,
          -0.05453489129749403,
          -0.018351070814382184,
          -0.05373447775335721,
          0.06920153566157604,
          0.06920153566157604,
          0.06920153566157604,
          0.011206668697579417,
          0.10482440843767633,
          0.04339833290198209,
          -0.022676671981945253,
          -0.07094765106324097,
          0.003976315264159174,
          -0.09282992802128369,
          -0.10170562203671386,
          0.038081728706965697,
          0.023998120627736316,
          -0.03877453030778394,
          0.21211960019447118,
          -0.031121272160104574,
          -0.10323672764867253,
          -0.04981221740193405,
          -0.011015208177383867,
          -0.050347961374903105,
          -0.025409326914672153,
          -0.09023224819536707,
          -0.06440710213849182,
          -0.014830355480477023,
          0.017211525460242946,
          -0.07455515172122593,
          -0.044455461617454,
          0.004165269319779241,
          -0.05471978378205432,
          0.0026298443208501677,
          -0.03539947640315238,
          -0.08486730203946212,
          -0.08000824998867455,
          0.10366818615171765,
          0.041231477197715125,
          -0.04730751021769797,
          0.03031506046225564,
          0.03031506046225564,
          -0.0921088631238819,
          -0.026824040555147737,
          -0.03267077099697832,
          -0.11655778779845256
         ],
         "y": [
          -0.10697408611179222,
          -0.12067199449570377,
          -0.11716038143030366,
          -0.0954036657428221,
          -0.181254079448241,
          -0.07497791002380538,
          -0.06586281427701174,
          -0.06586281427701174,
          -0.17099482451685133,
          -0.1186855523000678,
          -0.0704230191486554,
          -0.12303923262230991,
          -0.09832936692603136,
          -0.14514031064479274,
          -0.06439514904530239,
          -0.06640365802349606,
          -0.06334029624836864,
          -0.09740525643102634,
          -0.08287460707435328,
          -0.1257943826457803,
          -0.08894379350565863,
          -0.09336838123386247,
          0.14131398372304438,
          0.14131398372304438,
          -0.08739322218545807,
          -0.08739322218545807,
          -0.16953537523820217,
          -0.16953537523820217,
          -0.13295701576371258,
          -0.08312694740612145,
          -0.12659333955674262,
          -0.07730605889343709,
          -0.1400048009500539,
          -0.06186757897937781,
          -0.04758159526887664,
          -0.14844535250452062,
          -0.10032745236977549,
          -0.10444187220182614,
          -0.09463441243637839,
          -0.09463441243637839,
          -0.09463441243637839,
          -0.06828139269367327,
          -0.25848336019224455,
          -0.010320006226569006,
          -0.17668209404861643,
          -0.09332527854330046,
          -0.14488702441666476,
          -0.06348431218857298,
          -0.11040694623030495,
          -0.15123835710471212,
          -0.08885297094933253,
          -0.1258969151063656,
          -0.11804359949446276,
          -0.12107701637744737,
          -0.016428505411291303,
          -0.14146921604778748,
          -0.07057013303233618,
          -0.08670470457835916,
          -0.13635891325106564,
          -0.07650531512765602,
          -0.04914989921446673,
          -0.10579372266961692,
          -0.08933984634620351,
          -0.08160275018702606,
          -0.11650963072011167,
          -0.1139349483059687,
          -0.13593976511892505,
          -0.03347493740435905,
          -0.05280718347395385,
          -0.07327666741645708,
          -0.09261454984409394,
          -0.26784354479363015,
          -0.177369737634779,
          -0.05575363603168058,
          -0.10221768025676045,
          -0.10221768025676045,
          -0.06890295930496353,
          -0.11798829760205858,
          -0.05703883506335904,
          -0.0778372757670251
         ],
         "z": [
          -0.06977499699116269,
          -0.07634388588500715,
          -0.0586041675309963,
          -0.06800447984824172,
          -0.06516706064247611,
          -0.03245194718247144,
          0.029551712793138698,
          0.029551712793138698,
          -0.10051779977212773,
          -0.06625544140228075,
          -0.039462760995866576,
          -0.08403602030609837,
          -0.03477347382438328,
          -0.054784031331141694,
          0.014584252390212663,
          -0.028456755573575944,
          -0.034405737034642954,
          -0.01655761481129405,
          0.00996684481953691,
          -0.08066413480457783,
          -0.030717810243592374,
          -0.02833171933007733,
          -0.06820311080550506,
          -0.06820311080550506,
          -0.03531239902182062,
          -0.03531239902182062,
          -0.046576543808002295,
          -0.046576543808002295,
          -0.08098627166968782,
          -0.04058282264483588,
          -0.044696076463994996,
          -0.06236599513824001,
          -0.03333049308050268,
          0.008420868858363555,
          -0.0054016183167131466,
          -0.11383265984082769,
          -0.0380957215835807,
          -0.0761280723691638,
          -0.07307496965146337,
          -0.07307496965146337,
          -0.07307496965146337,
          0.009931307276237556,
          -0.24641546910791642,
          0.020223536602296335,
          -0.09078286516666118,
          -0.06151526982606776,
          -0.07093177581049658,
          -0.02319681051904412,
          -0.08660491614104156,
          -0.08397333654869987,
          -0.03743076068372531,
          -0.07685532783953865,
          -0.19253964935846538,
          -0.06777043285278472,
          -0.0048969835293045496,
          -0.07419745634269075,
          -0.015330478069187388,
          -0.04571800706565701,
          -0.06318160199314289,
          -0.04574030822459646,
          -0.030049456412836323,
          -0.021762046799520495,
          0.02968003869748576,
          -0.046541632419742844,
          -0.059530368341925224,
          -0.05234305096074162,
          -0.08364539515508305,
          -0.02582632456202923,
          -0.045573175230798464,
          -0.051672189285444786,
          -0.0719661932804117,
          -0.2513877383384081,
          -0.0504748304186002,
          -0.003132822901146801,
          -0.04222612598691781,
          -0.04222612598691781,
          -0.05693038841969244,
          -0.08509098112649774,
          -0.026238189880550725,
          -0.05891915788447951
         ]
        },
        {
         "customdata": [
          [
           "INTERNATIONAL WESTERN PETROLEUM, INC.",
           "Crude Petroleum and Natural Gas"
          ],
          [
           "DAYBREAK OIL & GAS, INC.",
           "Crude Petroleum and Natural Gas"
          ],
          [
           "GB SCIENCES INC",
           "Crude Petroleum and Natural Gas"
          ],
          [
           "FREEDOM HOLDING CORP.",
           "Crude Petroleum and Natural Gas"
          ],
          [
           "MEXCO ENERGY CORP",
           "Crude Petroleum and Natural Gas"
          ],
          [
           "SUSTAINABLE PROJECTS GROUP INC.",
           "Crude Petroleum and Natural Gas"
          ],
          [
           "AMERICAN ENERGY GROUP LTD",
           "Crude Petroleum and Natural Gas"
          ],
          [
           "REDHAWK HOLDINGS CORP.",
           "Crude Petroleum and Natural Gas"
          ],
          [
           "TIANCI INTERNATIONAL, INC.",
           "Crude Petroleum and Natural Gas"
          ],
          [
           "AMAZING ENERGY OIL & GAS, CO.",
           "Crude Petroleum and Natural Gas"
          ],
          [
           "ALTEX INDUSTRIES INC",
           "Crude Petroleum and Natural Gas"
          ],
          [
           "BARNWELL INDUSTRIES INC",
           "Crude Petroleum and Natural Gas"
          ],
          [
           "PANHANDLE OIL & GAS INC",
           "Crude Petroleum and Natural Gas"
          ],
          [
           "ENERGY 11, L.P.",
           "Crude Petroleum and Natural Gas"
          ],
          [
           "ABRAXAS PETROLEUM CORP",
           "Crude Petroleum and Natural Gas"
          ],
          [
           "SEARS OIL & GAS",
           "Crude Petroleum and Natural Gas"
          ],
          [
           "APACHE CORP",
           "Crude Petroleum and Natural Gas"
          ],
          [
           "GULFPORT ENERGY CORP",
           "Crude Petroleum and Natural Gas"
          ],
          [
           "CONTINENTAL RESOURCES, INC",
           "Crude Petroleum and Natural Gas"
          ],
          [
           "ISRAMCO INC",
           "Crude Petroleum and Natural Gas"
          ],
          [
           "CHAPARRAL ENERGY, INC.",
           "Crude Petroleum and Natural Gas"
          ],
          [
           "WHITING PETROLEUM CORP",
           "Crude Petroleum and Natural Gas"
          ],
          [
           "CONTANGO OIL & GAS CO",
           "Crude Petroleum and Natural Gas"
          ],
          [
           "EARTHSTONE ENERGY INC",
           "Crude Petroleum and Natural Gas"
          ],
          [
           "CLEAN COAL TECHNOLOGIES INC.",
           "Crude Petroleum and Natural Gas"
          ],
          [
           "NORTHERN OIL & GAS, INC.",
           "Crude Petroleum and Natural Gas"
          ],
          [
           "SRC ENERGY INC.",
           "Crude Petroleum and Natural Gas"
          ],
          [
           "JONES ENERGY, INC.",
           "Crude Petroleum and Natural Gas"
          ],
          [
           "GOODRICH PETROLEUM CORP",
           "Crude Petroleum and Natural Gas"
          ],
          [
           "OCCIDENTAL PETROLEUM CORP /DE/",
           "Crude Petroleum and Natural Gas"
          ],
          [
           "LONESTAR RESOURCES US INC.",
           "Crude Petroleum and Natural Gas"
          ],
          [
           "NOBLE ENERGY INC",
           "Crude Petroleum and Natural Gas"
          ],
          [
           "PIONEER NATURAL RESOURCES CO",
           "Crude Petroleum and Natural Gas"
          ],
          [
           "BONANZA CREEK ENERGY, INC.",
           "Crude Petroleum and Natural Gas"
          ],
          [
           "DEVON ENERGY CORP/DE",
           "Crude Petroleum and Natural Gas"
          ],
          [
           "CALIFORNIA RESOURCES CORP",
           "Crude Petroleum and Natural Gas"
          ],
          [
           "PARK PLACE ENERGY INC.",
           "Crude Petroleum and Natural Gas"
          ],
          [
           "ANTERO RESOURCES CORP",
           "Crude Petroleum and Natural Gas"
          ],
          [
           "LAREDO PETROLEUM, INC.",
           "Crude Petroleum and Natural Gas"
          ],
          [
           "CIMAREX ENERGY CO",
           "Crude Petroleum and Natural Gas"
          ],
          [
           "ALTA MESA HOLDINGS, LP",
           "Crude Petroleum and Natural Gas"
          ],
          [
           "US ENERGY CORP",
           "Crude Petroleum and Natural Gas"
          ],
          [
           "VICTORY ENERGY CORP",
           "Crude Petroleum and Natural Gas"
          ],
          [
           "VICTORY ENERGY CORP",
           "Crude Petroleum and Natural Gas"
          ],
          [
           "GRAN TIERRA ENERGY INC.",
           "Crude Petroleum and Natural Gas"
          ],
          [
           "MIDSTATES PETROLEUM COMPANY, INC.",
           "Crude Petroleum and Natural Gas"
          ],
          [
           "WILDHORSE RESOURCE DEVELOPMENT CORP",
           "Crude Petroleum and Natural Gas"
          ],
          [
           "SM ENERGY CO",
           "Crude Petroleum and Natural Gas"
          ],
          [
           "SANDRIDGE ENERGY INC",
           "Crude Petroleum and Natural Gas"
          ],
          [
           "RING ENERGY, INC.",
           "Crude Petroleum and Natural Gas"
          ],
          [
           "SANCHEZ ENERGY CORP",
           "Crude Petroleum and Natural Gas"
          ],
          [
           "TETRA TECHNOLOGIES INC",
           "Crude Petroleum and Natural Gas"
          ],
          [
           "RESERVE PETROLEUM CO",
           "Crude Petroleum and Natural Gas"
          ],
          [
           "HESS MIDSTREAM PARTNERS LP",
           "Crude Petroleum and Natural Gas"
          ],
          [
           "TORCHLIGHT ENERGY RESOURCES INC",
           "Crude Petroleum and Natural Gas"
          ],
          [
           "LINN ENERGY, INC.",
           "Crude Petroleum and Natural Gas"
          ],
          [
           "KOSMOS ENERGY LTD.",
           "Crude Petroleum and Natural Gas"
          ],
          [
           "SILVERBOW RESOURCES, INC.",
           "Crude Petroleum and Natural Gas"
          ],
          [
           "TELLURIAN INC. /DE/",
           "Crude Petroleum and Natural Gas"
          ],
          [
           "DORCHESTER MINERALS, L.P.",
           "Crude Petroleum and Natural Gas"
          ],
          [
           "MATADOR RESOURCES CO",
           "Crude Petroleum and Natural Gas"
          ],
          [
           "PDC ENERGY, INC.",
           "Crude Petroleum and Natural Gas"
          ],
          [
           "TEXAS SOUTH ENERGY, INC.",
           "Crude Petroleum and Natural Gas"
          ],
          [
           "PEDEVCO CORP",
           "Crude Petroleum and Natural Gas"
          ],
          [
           "VIPER ENERGY PARTNERS LP",
           "Crude Petroleum and Natural Gas"
          ],
          [
           "ENERJEX RESOURCES, INC.",
           "Crude Petroleum and Natural Gas"
          ],
          [
           "TENGASCO INC",
           "Crude Petroleum and Natural Gas"
          ],
          [
           "KIMBELL ROYALTY PARTNERS, LP",
           "Crude Petroleum and Natural Gas"
          ],
          [
           "CONCHO RESOURCES INC",
           "Crude Petroleum and Natural Gas"
          ],
          [
           "APACHE OFFSHORE INVESTMENT PARTNERSHIP",
           "Crude Petroleum and Natural Gas"
          ],
          [
           "EVERFLOW EASTERN PARTNERS LP",
           "Crude Petroleum and Natural Gas"
          ],
          [
           "CHESAPEAKE ENERGY CORP",
           "Crude Petroleum and Natural Gas"
          ],
          [
           "CARRIZO OIL & GAS INC",
           "Crude Petroleum and Natural Gas"
          ],
          [
           "CALLON PETROLEUM CO",
           "Crude Petroleum and Natural Gas"
          ],
          [
           "PENN VIRGINIA CORP",
           "Crude Petroleum and Natural Gas"
          ],
          [
           "DIAMONDBACK ENERGY, INC.",
           "Crude Petroleum and Natural Gas"
          ],
          [
           "COMSTOCK RESOURCES INC",
           "Crude Petroleum and Natural Gas"
          ],
          [
           "DALA PETROLEUM CORP.",
           "Crude Petroleum and Natural Gas"
          ],
          [
           "WPX ENERGY, INC.",
           "Crude Petroleum and Natural Gas"
          ],
          [
           "LILIS ENERGY, INC.",
           "Crude Petroleum and Natural Gas"
          ]
         ],
         "hovertemplate": "color=Crude Petroleum and Natural Gas<br>0=%{x}<br>1=%{y}<br>2=%{z}<br>name=%{customdata[0]}<br>industry=%{customdata[1]}<extra></extra>",
         "legendgroup": "Crude Petroleum and Natural Gas",
         "marker": {
          "color": "#EF553B",
          "symbol": "circle"
         },
         "mode": "markers",
         "name": "Crude Petroleum and Natural Gas",
         "scene": "scene",
         "showlegend": true,
         "type": "scatter3d",
         "x": [
          -0.009021144164475194,
          -0.013546413228611817,
          -0.24967634165078229,
          0.09788243426134732,
          -0.0031122506615259256,
          0.003426602825133211,
          0.04043779340054223,
          0.011748668321156347,
          0.01913120795538978,
          -0.015123974420406359,
          0.025445740935345983,
          -0.008826423169109003,
          -0.011241531956821966,
          -0.013246848811814468,
          -0.004223235747707483,
          -0.014416644203947693,
          -0.005633236294985512,
          -0.014378076704433043,
          -0.011195578186884306,
          -0.014619002276252475,
          0.0034176723655516,
          -0.005647613312757315,
          -0.014283446473278094,
          -0.0016906976569236276,
          -0.13655428851310655,
          -0.011288326739707847,
          -0.012213197242946863,
          -0.003102986472286045,
          0.0012035372764161484,
          -0.008729376352907827,
          -0.011498109617633331,
          0.02983714889617697,
          0.0011156774657221378,
          -0.008245615493116955,
          0.008738817282204369,
          0.03978278577528364,
          -0.03979370772782781,
          0.009851167121297461,
          -0.0021997284496755466,
          0.00773797138217896,
          -0.004188889301235937,
          -0.007289714381664603,
          -0.011810672943134036,
          -0.011810672943134036,
          -0.007209917162669412,
          -0.003173679793104627,
          -0.002989131315014492,
          -0.003405035252203806,
          -0.012834248831139384,
          -0.013876176479127157,
          -0.011594633911260855,
          -0.032056455994072613,
          0.004899695028286105,
          0.011567647212185755,
          -0.02559475564488351,
          0.0016887658545143506,
          -0.002919285085421466,
          -0.0088039913598711,
          -0.00987083253731244,
          -0.0041462457189863,
          -0.009844578165423003,
          0.007773210523481455,
          0.0009587270570173915,
          -0.0044601195490525155,
          -0.0012751775085049887,
          -0.07671438506776207,
          0.012924677748726065,
          -0.012681533039591167,
          -0.00667885443681093,
          0.015355122014514073,
          -0.005768675718983163,
          -0.0026135407888584184,
          -0.002508759947801446,
          0.006898341236440977,
          -0.009809778725866712,
          0.0011176437914110241,
          -0.005882441064131026,
          0.02433831150742792,
          -0.002933514925348039,
          -0.0009419884718556902
         ],
         "y": [
          -0.35542886810964786,
          -0.2475924344695509,
          0.06596999775082245,
          0.011670106743426542,
          -0.31069907339854325,
          -0.12787576312439541,
          -0.08470743571477671,
          -0.12526502540045534,
          -0.16552513179970507,
          -0.3499119442954823,
          -0.12842132528533734,
          -0.3353996470240163,
          -0.33032099214976046,
          -0.3450330787152752,
          -0.21541234261263437,
          -0.14633076573549822,
          -0.3256141006249318,
          -0.34198105742811546,
          -0.29174642722651756,
          -0.35374692103530336,
          -0.37456915492583004,
          -0.321216617016276,
          -0.047246916884780076,
          -0.3034211877448563,
          -0.0713910016965288,
          -0.3559556915929647,
          -0.3494068636112928,
          -0.34792718050280774,
          -0.36980005913913727,
          -0.3404570404337141,
          -0.31973949455513956,
          -0.32093355497042003,
          -0.22216302990684705,
          -0.35518286455217135,
          -0.2026049946448618,
          -0.2724744610946846,
          -0.3157705274894607,
          -0.3338410166970857,
          -0.3488854621539156,
          -0.24151755835422722,
          -0.2995282218373065,
          -0.3492054394785452,
          -0.27845196257782423,
          -0.27845196257782423,
          -0.3538591571183454,
          -0.35951036658962693,
          -0.3434024670593478,
          -0.20440167479765925,
          -0.34005566175815255,
          -0.3372571190932119,
          -0.3348351978116211,
          -0.24104553514678279,
          -0.22628746561951524,
          -0.25585444898543686,
          -0.2002251836460059,
          -0.3519240915141266,
          -0.3313408596744421,
          -0.3407227477872141,
          -0.3328143862422216,
          -0.3238651035543591,
          -0.33348487743983746,
          -0.2938525678461198,
          -0.19302067690945487,
          -0.08178639622117463,
          -0.3408868974540352,
          -0.07862531396062454,
          -0.20642007455155958,
          -0.3540037705238906,
          -0.3524850307372251,
          -0.30571958439745656,
          -0.3164938379844268,
          -0.3122317411189126,
          -0.29389209766416724,
          -0.3505351871816401,
          -0.2442127220530522,
          -0.36512481519340645,
          -0.3463500330732656,
          -0.19936740931627517,
          -0.3673882214805096,
          -0.3520745471673444
         ],
         "z": [
          0.7574498531890148,
          0.5524087161400523,
          -0.02179198378831576,
          0.014899859877274555,
          0.618103120671554,
          -0.06670634845412404,
          0.01443573060761746,
          -0.08728887684736097,
          -0.03263046497333703,
          0.8385054420730739,
          0.25744879756547506,
          0.8035492317818528,
          0.7634132075839292,
          0.8231838122295321,
          0.34003455919303954,
          -0.0053713081718776345,
          0.691977878700128,
          0.8185283835128421,
          0.663698228390247,
          0.8157212468787516,
          0.7895658404124898,
          0.7034153435365382,
          0.041409234797967036,
          0.517113167220375,
          0.16899235494186504,
          0.8347514676443902,
          0.8057019050682755,
          0.7437703931990958,
          0.7707612257927009,
          0.8018252237798342,
          0.7569771112181479,
          0.4019948245774017,
          0.288735044907878,
          0.7993050886462283,
          0.33551997793987415,
          0.159019885961638,
          0.7892566266688983,
          0.6185790748176471,
          0.7756321911646161,
          0.3641952689716425,
          0.6036607634668947,
          0.7941398963965582,
          0.33042808440073607,
          0.33042808440073607,
          0.7632815858732187,
          0.8139800973617164,
          0.7080366269596003,
          0.35404343728001764,
          0.8268522953940278,
          0.8034641385524606,
          0.7857474910247054,
          0.48376799975626883,
          0.41685673714042404,
          0.33379963836968385,
          0.43583993958987494,
          0.7187070270071588,
          0.6653466715878563,
          0.7978319590692555,
          0.7351544373620712,
          0.6355576377988514,
          0.7660941810442238,
          0.5398002057159562,
          0.33702440252582494,
          0.010365096019385154,
          0.7198821959625298,
          -0.032117782831188255,
          0.3968772144359837,
          0.8312428756612005,
          0.7935284776580224,
          0.4090598894237073,
          0.7051772752523462,
          0.6422042083085738,
          0.56775368657004,
          0.7965825963745368,
          0.43085370127614125,
          0.7594264209959468,
          0.7993478276600682,
          -0.05930923332085545,
          0.7993569183924786,
          0.7503999414602067
         ]
        },
        {
         "customdata": [
          [
           "ULURU INC.",
           "Pharmaceutical Preparations"
          ],
          [
           "CHINA YCT INTERNATIONAL GROUP, INC.",
           "Pharmaceutical Preparations"
          ],
          [
           "AXOVANT SCIENCES LTD.",
           "Pharmaceutical Preparations"
          ],
          [
           "MYOVANT SCIENCES LTD.",
           "Pharmaceutical Preparations"
          ],
          [
           "PRESTIGE BRANDS HOLDINGS, INC.",
           "Pharmaceutical Preparations"
          ],
          [
           "HYPGEN INC",
           "Pharmaceutical Preparations"
          ],
          [
           "HYPGEN INC",
           "Pharmaceutical Preparations"
          ],
          [
           "DANDRIT BIOTECH USA, INC.",
           "Pharmaceutical Preparations"
          ],
          [
           "REZOLUTE, INC.",
           "Pharmaceutical Preparations"
          ],
          [
           "OPTEC INTERNATIONAL, INC.",
           "Pharmaceutical Preparations"
          ],
          [
           "OPTEC INTERNATIONAL, INC.",
           "Pharmaceutical Preparations"
          ],
          [
           "BIOVIE INC.",
           "Pharmaceutical Preparations"
          ],
          [
           "ONCOSEC MEDICAL INC",
           "Pharmaceutical Preparations"
          ],
          [
           "CANNABICS PHARMACEUTICALS INC.",
           "Pharmaceutical Preparations"
          ],
          [
           "ORAMED PHARMACEUTICALS INC.",
           "Pharmaceutical Preparations"
          ],
          [
           "ENTEST BIOMEDICAL, INC.",
           "Pharmaceutical Preparations"
          ],
          [
           "MY CLOUDZ, INC.",
           "Pharmaceutical Preparations"
          ],
          [
           "MY CLOUDZ, INC.",
           "Pharmaceutical Preparations"
          ],
          [
           "ENANTA PHARMACEUTICALS INC",
           "Pharmaceutical Preparations"
          ],
          [
           "CITIUS PHARMACEUTICALS, INC.",
           "Pharmaceutical Preparations"
          ],
          [
           "STELLAR BIOTECHNOLOGIES, INC.",
           "Pharmaceutical Preparations"
          ],
          [
           "REGEN BIOPHARMA INC",
           "Pharmaceutical Preparations"
          ],
          [
           "REGEN BIOPHARMA INC",
           "Pharmaceutical Preparations"
          ],
          [
           "ADVAXIS, INC.",
           "Pharmaceutical Preparations"
          ],
          [
           "ORGENESIS INC.",
           "Pharmaceutical Preparations"
          ],
          [
           "Q BIOMED INC.",
           "Pharmaceutical Preparations"
          ],
          [
           "JOHNSON & JOHNSON",
           "Pharmaceutical Preparations"
          ],
          [
           "BRISTOL MYERS SQUIBB CO",
           "Pharmaceutical Preparations"
          ],
          [
           "VBI VACCINES INC/BC",
           "Pharmaceutical Preparations"
          ],
          [
           "INTRA-CELLULAR THERAPIES, INC.",
           "Pharmaceutical Preparations"
          ],
          [
           "ROCKET PHARMACEUTICALS, INC.",
           "Pharmaceutical Preparations"
          ],
          [
           "ATLAS HOLDINGS, INC.",
           "Pharmaceutical Preparations"
          ],
          [
           "NEMUS BIOSCIENCE, INC.",
           "Pharmaceutical Preparations"
          ],
          [
           "NEMUS BIOSCIENCE, INC.",
           "Pharmaceutical Preparations"
          ],
          [
           "OVASCIENCE, INC.",
           "Pharmaceutical Preparations"
          ],
          [
           "CONCERT PHARMACEUTICALS, INC.",
           "Pharmaceutical Preparations"
          ],
          [
           "AKCEA THERAPEUTICS, INC.",
           "Pharmaceutical Preparations"
          ],
          [
           "ARQULE INC",
           "Pharmaceutical Preparations"
          ],
          [
           "AXIM BIOTECHNOLOGIES, INC.",
           "Pharmaceutical Preparations"
          ],
          [
           "GUARDION HEALTH SCIENCES, INC.",
           "Pharmaceutical Preparations"
          ],
          [
           "RETROPHIN, INC.",
           "Pharmaceutical Preparations"
          ],
          [
           "SYNDAX PHARMACEUTICALS INC",
           "Pharmaceutical Preparations"
          ],
          [
           "FIBROGEN INC",
           "Pharmaceutical Preparations"
          ],
          [
           "PROTOKINETIX, INC.",
           "Pharmaceutical Preparations"
          ],
          [
           "PROGENICS PHARMACEUTICALS INC",
           "Pharmaceutical Preparations"
          ],
          [
           "CHECKPOINT THERAPEUTICS, INC.",
           "Pharmaceutical Preparations"
          ],
          [
           "PFENEX INC.",
           "Pharmaceutical Preparations"
          ],
          [
           "PAIN THERAPEUTICS INC",
           "Pharmaceutical Preparations"
          ],
          [
           "ZOMEDICA PHARMACEUTICALS CORP.",
           "Pharmaceutical Preparations"
          ],
          [
           "ZOMEDICA PHARMACEUTICALS CORP.",
           "Pharmaceutical Preparations"
          ],
          [
           "MOLECULAR TEMPLATES, INC.",
           "Pharmaceutical Preparations"
          ],
          [
           "WAVE LIFE SCIENCES LTD.",
           "Pharmaceutical Preparations"
          ],
          [
           "CYMABAY THERAPEUTICS, INC.",
           "Pharmaceutical Preparations"
          ],
          [
           "AMICUS THERAPEUTICS INC",
           "Pharmaceutical Preparations"
          ],
          [
           "EVOKE PHARMA INC",
           "Pharmaceutical Preparations"
          ],
          [
           "CHEMBIO DIAGNOSTICS, INC.",
           "Pharmaceutical Preparations"
          ],
          [
           "CARA THERAPEUTICS, INC.",
           "Pharmaceutical Preparations"
          ],
          [
           "CYTOMX THERAPEUTICS, INC.",
           "Pharmaceutical Preparations"
          ],
          [
           "XENCOR INC",
           "Pharmaceutical Preparations"
          ],
          [
           "CATABASIS PHARMACEUTICALS INC",
           "Pharmaceutical Preparations"
          ],
          [
           "SERES THERAPEUTICS, INC.",
           "Pharmaceutical Preparations"
          ],
          [
           "EYEGATE PHARMACEUTICALS INC",
           "Pharmaceutical Preparations"
          ],
          [
           "ARENA PHARMACEUTICALS INC",
           "Pharmaceutical Preparations"
          ],
          [
           "ALEXION PHARMACEUTICALS INC",
           "Pharmaceutical Preparations"
          ],
          [
           "MELINTA THERAPEUTICS, INC. /NEW/",
           "Pharmaceutical Preparations"
          ],
          [
           "FIVE PRIME THERAPEUTICS INC",
           "Pharmaceutical Preparations"
          ],
          [
           "LIXTE BIOTECHNOLOGY HOLDINGS, INC.",
           "Pharmaceutical Preparations"
          ],
          [
           "ARATANA THERAPEUTICS, INC.",
           "Pharmaceutical Preparations"
          ],
          [
           "CHIASMA, INC",
           "Pharmaceutical Preparations"
          ],
          [
           "CELGENE CORP /DE/",
           "Pharmaceutical Preparations"
          ],
          [
           "NEWLINK GENETICS CORP",
           "Pharmaceutical Preparations"
          ],
          [
           "LIGAND PHARMACEUTICALS INC",
           "Pharmaceutical Preparations"
          ],
          [
           "PORTOLA PHARMACEUTICALS INC",
           "Pharmaceutical Preparations"
          ],
          [
           "PLX PHARMA INC.",
           "Pharmaceutical Preparations"
          ],
          [
           "ARDELYX, INC.",
           "Pharmaceutical Preparations"
          ],
          [
           "PROTAGONIST THERAPEUTICS, INC",
           "Pharmaceutical Preparations"
          ],
          [
           "MOLECULIN BIOTECH, INC.",
           "Pharmaceutical Preparations"
          ],
          [
           "IRONWOOD PHARMACEUTICALS INC",
           "Pharmaceutical Preparations"
          ],
          [
           "FORTRESS BIOTECH, INC.",
           "Pharmaceutical Preparations"
          ],
          [
           "SYNTHETIC BIOLOGICS, INC.",
           "Pharmaceutical Preparations"
          ],
          [
           "OPTINOSE, INC.",
           "Pharmaceutical Preparations"
          ],
          [
           "CORMEDIX INC.",
           "Pharmaceutical Preparations"
          ],
          [
           "HEAT BIOLOGICS, INC.",
           "Pharmaceutical Preparations"
          ],
          [
           "SUN BIOPHARMA, INC.",
           "Pharmaceutical Preparations"
          ],
          [
           "BELLEROPHON THERAPEUTICS, INC.",
           "Pharmaceutical Preparations"
          ],
          [
           "BIOSPECIFICS TECHNOLOGIES CORP",
           "Pharmaceutical Preparations"
          ],
          [
           "ZOSANO PHARMA CORP",
           "Pharmaceutical Preparations"
          ],
          [
           "CV SCIENCES, INC.",
           "Pharmaceutical Preparations"
          ],
          [
           "LILLY ELI & CO",
           "Pharmaceutical Preparations"
          ],
          [
           "SAREPTA THERAPEUTICS, INC.",
           "Pharmaceutical Preparations"
          ],
          [
           "EXICURE, INC.",
           "Pharmaceutical Preparations"
          ],
          [
           "OVID THERAPEUTICS INC.",
           "Pharmaceutical Preparations"
          ],
          [
           "IMPRIMIS PHARMACEUTICALS, INC.",
           "Pharmaceutical Preparations"
          ],
          [
           "IONIS PHARMACEUTICALS INC",
           "Pharmaceutical Preparations"
          ],
          [
           "ONCOMED PHARMACEUTICALS INC",
           "Pharmaceutical Preparations"
          ],
          [
           "TONIX PHARMACEUTICALS HOLDING CORP.",
           "Pharmaceutical Preparations"
          ],
          [
           "TEVA PHARMACEUTICAL INDUSTRIES LTD",
           "Pharmaceutical Preparations"
          ],
          [
           "RHYTHM PHARMACEUTICALS, INC.",
           "Pharmaceutical Preparations"
          ],
          [
           "COCRYSTAL PHARMA, INC.",
           "Pharmaceutical Preparations"
          ],
          [
           "REGENERON PHARMACEUTICALS INC",
           "Pharmaceutical Preparations"
          ],
          [
           "ANI PHARMACEUTICALS INC",
           "Pharmaceutical Preparations"
          ],
          [
           "CLEARSIDE BIOMEDICAL, INC.",
           "Pharmaceutical Preparations"
          ],
          [
           "LIPOCINE INC.",
           "Pharmaceutical Preparations"
          ],
          [
           "GALECTIN THERAPEUTICS INC",
           "Pharmaceutical Preparations"
          ],
          [
           "STEMLINE THERAPEUTICS INC",
           "Pharmaceutical Preparations"
          ],
          [
           "DOVA PHARMACEUTICALS, INC.",
           "Pharmaceutical Preparations"
          ],
          [
           "ABBVIE INC.",
           "Pharmaceutical Preparations"
          ],
          [
           "AKORN INC",
           "Pharmaceutical Preparations"
          ],
          [
           "VALEANT PHARMACEUTICALS INTERNATIONAL, INC.",
           "Pharmaceutical Preparations"
          ],
          [
           "INTELGENX TECHNOLOGIES CORP.",
           "Pharmaceutical Preparations"
          ],
          [
           "PFIZER INC",
           "Pharmaceutical Preparations"
          ],
          [
           "SKINVISIBLE INC",
           "Pharmaceutical Preparations"
          ],
          [
           "TAPIMMUNE INC.",
           "Pharmaceutical Preparations"
          ],
          [
           "THERAPEUTICSMD, INC.",
           "Pharmaceutical Preparations"
          ],
          [
           "AQUINOX PHARMACEUTICALS, INC",
           "Pharmaceutical Preparations"
          ],
          [
           "GLOBAL BLOOD THERAPEUTICS, INC.",
           "Pharmaceutical Preparations"
          ],
          [
           "RIGEL PHARMACEUTICALS INC",
           "Pharmaceutical Preparations"
          ],
          [
           "PARATEK PHARMACEUTICALS, INC.",
           "Pharmaceutical Preparations"
          ],
          [
           "PERRIGO CO PLC",
           "Pharmaceutical Preparations"
          ],
          [
           "ZAFGEN, INC.",
           "Pharmaceutical Preparations"
          ],
          [
           "OPHTHOTECH CORP.",
           "Pharmaceutical Preparations"
          ],
          [
           "ACHILLION PHARMACEUTICALS INC",
           "Pharmaceutical Preparations"
          ],
          [
           "KEMPHARM, INC",
           "Pharmaceutical Preparations"
          ],
          [
           "INTERCEPT PHARMACEUTICALS INC",
           "Pharmaceutical Preparations"
          ],
          [
           "ULTRAGENYX PHARMACEUTICAL INC.",
           "Pharmaceutical Preparations"
          ],
          [
           "EMERGENT BIOSOLUTIONS INC.",
           "Pharmaceutical Preparations"
          ],
          [
           "ACER THERAPEUTICS INC.",
           "Pharmaceutical Preparations"
          ],
          [
           "HERON THERAPEUTICS, INC. /DE/",
           "Pharmaceutical Preparations"
          ],
          [
           "ADAMIS PHARMACEUTICALS CORP",
           "Pharmaceutical Preparations"
          ],
          [
           "GT BIOPHARMA, INC.",
           "Pharmaceutical Preparations"
          ],
          [
           "GT BIOPHARMA, INC.",
           "Pharmaceutical Preparations"
          ],
          [
           "GT BIOPHARMA, INC.",
           "Pharmaceutical Preparations"
          ],
          [
           "GT BIOPHARMA, INC.",
           "Pharmaceutical Preparations"
          ],
          [
           "GT BIOPHARMA, INC.",
           "Pharmaceutical Preparations"
          ],
          [
           "GT BIOPHARMA, INC.",
           "Pharmaceutical Preparations"
          ],
          [
           "IMMUNOGEN INC",
           "Pharmaceutical Preparations"
          ],
          [
           "PTC THERAPEUTICS, INC.",
           "Pharmaceutical Preparations"
          ],
          [
           "MANNKIND CORP",
           "Pharmaceutical Preparations"
          ],
          [
           "CARDAX, INC.",
           "Pharmaceutical Preparations"
          ],
          [
           "SYROS PHARMACEUTICALS, INC.",
           "Pharmaceutical Preparations"
          ],
          [
           "ADURO BIOTECH, INC.",
           "Pharmaceutical Preparations"
          ],
          [
           "SIENNA BIOPHARMACEUTICALS, INC.",
           "Pharmaceutical Preparations"
          ],
          [
           "ACHAOGEN INC",
           "Pharmaceutical Preparations"
          ],
          [
           "UNITED CANNABIS CORP",
           "Pharmaceutical Preparations"
          ],
          [
           "UNITED CANNABIS CORP",
           "Pharmaceutical Preparations"
          ],
          [
           "RXI PHARMACEUTICALS CORP",
           "Pharmaceutical Preparations"
          ],
          [
           "RXI PHARMACEUTICALS CORP",
           "Pharmaceutical Preparations"
          ],
          [
           "RXI PHARMACEUTICALS CORP",
           "Pharmaceutical Preparations"
          ],
          [
           "RXI PHARMACEUTICALS CORP",
           "Pharmaceutical Preparations"
          ],
          [
           "SOLIGENIX, INC.",
           "Pharmaceutical Preparations"
          ],
          [
           "XOMA CORP",
           "Pharmaceutical Preparations"
          ],
          [
           "SIERRA ONCOLOGY, INC.",
           "Pharmaceutical Preparations"
          ],
          [
           "ACTINIUM PHARMACEUTICALS, INC.",
           "Pharmaceutical Preparations"
          ],
          [
           "ORAGENICS INC",
           "Pharmaceutical Preparations"
          ],
          [
           "ATHERSYS, INC / NEW",
           "Pharmaceutical Preparations"
          ],
          [
           "PULMATRIX, INC.",
           "Pharmaceutical Preparations"
          ],
          [
           "ACADIA PHARMACEUTICALS INC",
           "Pharmaceutical Preparations"
          ],
          [
           "TREVENA INC",
           "Pharmaceutical Preparations"
          ],
          [
           "NATURES SUNSHINE PRODUCTS INC",
           "Pharmaceutical Preparations"
          ],
          [
           "FLEXION THERAPEUTICS INC",
           "Pharmaceutical Preparations"
          ],
          [
           "VERASTEM, INC.",
           "Pharmaceutical Preparations"
          ],
          [
           "XENON PHARMACEUTICALS INC.",
           "Pharmaceutical Preparations"
          ],
          [
           "SUNESIS PHARMACEUTICALS INC",
           "Pharmaceutical Preparations"
          ],
          [
           "CORVUS PHARMACEUTICALS, INC.",
           "Pharmaceutical Preparations"
          ],
          [
           "MERCK & CO., INC.",
           "Pharmaceutical Preparations"
          ],
          [
           "STRONGBRIDGE BIOPHARMA PLC",
           "Pharmaceutical Preparations"
          ],
          [
           "CATALYST PHARMACEUTICALS, INC.",
           "Pharmaceutical Preparations"
          ],
          [
           "ASSEMBLY BIOSCIENCES, INC.",
           "Pharmaceutical Preparations"
          ],
          [
           "APRICUS BIOSCIENCES, INC.",
           "Pharmaceutical Preparations"
          ],
          [
           "CATALYST BIOSCIENCES, INC.",
           "Pharmaceutical Preparations"
          ],
          [
           "MIRATI THERAPEUTICS, INC.",
           "Pharmaceutical Preparations"
          ],
          [
           "MUSTANG BIO, INC.",
           "Pharmaceutical Preparations"
          ],
          [
           "ACELRX PHARMACEUTICALS INC",
           "Pharmaceutical Preparations"
          ],
          [
           "BLUEPRINT MEDICINES CORP",
           "Pharmaceutical Preparations"
          ],
          [
           "ATHENEX, INC.",
           "Pharmaceutical Preparations"
          ],
          [
           "ATHENEX, INC.",
           "Pharmaceutical Preparations"
          ],
          [
           "RECRO PHARMA, INC.",
           "Pharmaceutical Preparations"
          ],
          [
           "BIOHAVEN PHARMACEUTICAL HOLDING CO LTD.",
           "Pharmaceutical Preparations"
          ],
          [
           "PROTHENA CORP PLC",
           "Pharmaceutical Preparations"
          ],
          [
           "AVENUE THERAPEUTICS, INC.",
           "Pharmaceutical Preparations"
          ],
          [
           "VTV THERAPEUTICS INC.",
           "Pharmaceutical Preparations"
          ],
          [
           "ZYNERBA PHARMACEUTICALS, INC.",
           "Pharmaceutical Preparations"
          ],
          [
           "BIOMARIN PHARMACEUTICAL INC",
           "Pharmaceutical Preparations"
          ],
          [
           "KARYOPHARM THERAPEUTICS INC.",
           "Pharmaceutical Preparations"
          ],
          [
           "LEXICON PHARMACEUTICALS, INC.",
           "Pharmaceutical Preparations"
          ],
          [
           "ENDO INTERNATIONAL PLC",
           "Pharmaceutical Preparations"
          ],
          [
           "PROPHASE LABS, INC.",
           "Pharmaceutical Preparations"
          ],
          [
           "CELLECTAR BIOSCIENCES, INC.",
           "Pharmaceutical Preparations"
          ],
          [
           "RITTER PHARMACEUTICALS INC",
           "Pharmaceutical Preparations"
          ],
          [
           "MARINUS PHARMACEUTICALS INC",
           "Pharmaceutical Preparations"
          ],
          [
           "CORCEPT THERAPEUTICS INC",
           "Pharmaceutical Preparations"
          ],
          [
           "ALNYLAM PHARMACEUTICALS, INC.",
           "Pharmaceutical Preparations"
          ],
          [
           "DARE BIOSCIENCE, INC.",
           "Pharmaceutical Preparations"
          ],
          [
           "TELIGENT, INC.",
           "Pharmaceutical Preparations"
          ],
          [
           "TELIGENT, INC.",
           "Pharmaceutical Preparations"
          ],
          [
           "ACLARIS THERAPEUTICS, INC.",
           "Pharmaceutical Preparations"
          ],
          [
           "VITAL THERAPIES INC",
           "Pharmaceutical Preparations"
          ],
          [
           "DECIPHERA PHARMACEUTICALS, INC.",
           "Pharmaceutical Preparations"
          ],
          [
           "CAPSTONE THERAPEUTICS CORP.",
           "Pharmaceutical Preparations"
          ],
          [
           "PACIRA PHARMACEUTICALS, INC.",
           "Pharmaceutical Preparations"
          ],
          [
           "UROGEN PHARMA LTD.",
           "Pharmaceutical Preparations"
          ],
          [
           "FIBROCELL SCIENCE, INC.",
           "Pharmaceutical Preparations"
          ],
          [
           "FLEX PHARMA, INC.",
           "Pharmaceutical Preparations"
          ],
          [
           "BIODELIVERY SCIENCES INTERNATIONAL INC",
           "Pharmaceutical Preparations"
          ],
          [
           "HORIZON PHARMA PLC",
           "Pharmaceutical Preparations"
          ],
          [
           "MERRIMACK PHARMACEUTICALS INC",
           "Pharmaceutical Preparations"
          ],
          [
           "CYCLACEL PHARMACEUTICALS, INC.",
           "Pharmaceutical Preparations"
          ],
          [
           "ZOETIS INC.",
           "Pharmaceutical Preparations"
          ]
         ],
         "hovertemplate": "color=Pharmaceutical Preparations<br>0=%{x}<br>1=%{y}<br>2=%{z}<br>name=%{customdata[0]}<br>industry=%{customdata[1]}<extra></extra>",
         "legendgroup": "Pharmaceutical Preparations",
         "marker": {
          "color": "#00cc96",
          "symbol": "circle"
         },
         "mode": "markers",
         "name": "Pharmaceutical Preparations",
         "scene": "scene",
         "showlegend": true,
         "type": "scatter3d",
         "x": [
          -0.1714448580220835,
          -0.12291314738256925,
          -0.5236846232848008,
          -0.45135843295091616,
          -0.07678094658487654,
          -0.17452125063147755,
          -0.17452125063147755,
          -0.4697054880564607,
          -0.36215788775449115,
          -0.031066419659878906,
          -0.031066419659878906,
          -0.38509740803288084,
          -0.5534099095844213,
          -0.15237158975250384,
          -0.4683990597823842,
          0.025599721812581716,
          0.01993689253931134,
          0.01993689253931134,
          -0.6263991834548669,
          -0.15474301023193957,
          -0.30207273282890046,
          -0.019636122111085466,
          -0.019636122111085466,
          -0.44805212404646555,
          -0.2619565803791777,
          -0.46931505630077036,
          -0.059764137955971845,
          -0.11590413544867055,
          -0.4357193458893888,
          -0.5300570373967153,
          -0.0863639639519604,
          -0.15418606061602505,
          -0.5216059150788327,
          -0.5216059150788327,
          -0.5656199908249386,
          -0.3355457992379431,
          -0.18172681585197753,
          -0.26296022159386023,
          -0.3319990160811973,
          -0.05257378870237372,
          -0.5471905554758062,
          -0.6050931056299749,
          -0.4421944235315288,
          -0.2890872746800714,
          -0.0691668703739336,
          -0.4669701106941064,
          -0.4600496788089218,
          -0.34144309282135005,
          -0.33581081455475775,
          -0.33581081455475775,
          -0.5385294762675401,
          -0.5680550415337255,
          -0.26693110733743763,
          -0.32122797531637004,
          -0.4816366692769842,
          -0.28326577213124593,
          -0.30307365104659895,
          -0.5707662000406966,
          -0.021889733998092412,
          -0.19454000502326554,
          -0.4001347065316938,
          -0.49006405394062463,
          -0.4268903054995192,
          -0.3306712765440598,
          -0.36229176994701506,
          0.041577536155663355,
          -0.5177401233661865,
          -0.2013038990671288,
          -0.5090366129021835,
          -0.46397422156074464,
          -0.5582650377493146,
          -0.482645096389348,
          -0.5051446559341835,
          -0.5407948189051105,
          -0.468841256713848,
          -0.6136097217236138,
          -0.4567436437938209,
          -0.4121016031512884,
          -0.14533106936814408,
          -0.45928572585675914,
          -0.5393745775673501,
          -0.5139690022726949,
          -0.4267844577378118,
          -0.4370248790281719,
          -0.3926975004997667,
          -0.3273174159424673,
          -0.2583608719387575,
          -0.2243277712003549,
          -0.25614605644170013,
          -0.5359703850117756,
          -0.4368820306270492,
          -0.30992372212291625,
          -0.1670015864825479,
          -0.24966457567847905,
          -0.5520979432084012,
          -0.36539660094377463,
          -0.30128709322660974,
          -0.5093526847017628,
          -0.3182468537918903,
          -0.43600390545439455,
          -0.15068699318304135,
          -0.5466898953111354,
          -0.3625824081586206,
          -0.48377261688462403,
          -0.5102907966873304,
          -0.33301706654946445,
          -0.29133460140502143,
          -0.10114763417613844,
          -0.2001949799571523,
          -0.36508762773031794,
          -0.08259421323566317,
          -0.05505590697711793,
          -0.5401114615391606,
          -0.4536644662179751,
          -0.5441981494630432,
          -0.448126186197875,
          -0.5381392322483772,
          -0.2765753991922143,
          -0.07228248682328942,
          -0.007872148282521406,
          -0.5073019130273795,
          -0.5248956548867878,
          -0.5910101975414993,
          -0.38767486341980106,
          -0.29094062201636517,
          -0.46275894480658397,
          -0.4780571505516999,
          -0.2572365374742382,
          -0.5087987297679284,
          -0.3521207892249052,
          -0.3521207892249052,
          -0.3521207892249052,
          -0.3521207892249052,
          -0.3521207892249052,
          -0.3521207892249052,
          -0.5543010196512905,
          -0.3040132157226184,
          -0.49686403712242455,
          -0.37732389338261524,
          -0.6040313369435478,
          -0.5733343899067411,
          -0.5638752218486149,
          -0.5531526349994632,
          -0.14763887407832615,
          -0.14763887407832615,
          -0.517183381580865,
          -0.517183381580865,
          -0.517183381580865,
          -0.517183381580865,
          -0.4325652168813898,
          -0.23498728208200703,
          -0.4575559889636114,
          -0.4907178491704048,
          -0.570016938144573,
          -0.29127697348342874,
          -0.5484975344779411,
          -0.48580337894005104,
          -0.27921216745678096,
          -0.04904405204297444,
          -0.37080372524492106,
          -0.3410135973787728,
          -0.4925733333373631,
          -0.578880210633734,
          -0.5452052871439825,
          -0.32508336678033534,
          -0.6115097877891842,
          -0.5511363921041024,
          -0.24268275921280605,
          -0.544974763608558,
          -0.5619685741345996,
          -0.5864441051925094,
          -0.5254642542490715,
          -0.17489578253583613,
          -0.4684798349775442,
          -0.523390472770247,
          -0.523390472770247,
          -0.5238078858211981,
          -0.5203281820460117,
          -0.3340452486235966,
          -0.5870061872147903,
          -0.3895970967956501,
          -0.48360338613920206,
          -0.2987923857460099,
          -0.3503034011408439,
          -0.4110999452900462,
          -0.3332580942930125,
          -0.16420645808910878,
          -0.3307067100759923,
          -0.5660260096208302,
          -0.2391585676430065,
          -0.45399594856884384,
          -0.5314153979088567,
          -0.515719718390794,
          -0.16214988397151284,
          -0.16214988397151284,
          -0.28990266532576864,
          -0.43668182697461544,
          -0.46372168774962175,
          -0.5010161864447571,
          -0.011619112992549417,
          -0.6238518310960236,
          -0.5569271577211936,
          -0.4560816216778476,
          -0.5046371487292958,
          -0.332964507341047,
          -0.57338420172456,
          -0.46982170532645257,
          0.02426360938839082
         ],
         "y": [
          0.0029502780541012076,
          -0.02787804383706105,
          0.33469939332114323,
          0.27282026799422576,
          -0.09938604222638278,
          -0.011308151838792052,
          -0.011308151838792052,
          0.26658164018571096,
          0.18924452795805438,
          -0.10530214938288253,
          -0.10530214938288253,
          0.22229410867182747,
          0.33043915323412487,
          0.0036407616027245788,
          0.26553604793932284,
          -0.1513855826129641,
          -0.145838703184052,
          -0.145838703184052,
          0.3704450372949612,
          0.04329952409366765,
          0.09380448934546756,
          -0.11521636528424468,
          -0.11521636528424468,
          0.272420251942114,
          0.09822151975827764,
          0.25462868145488604,
          -0.011172740632127396,
          -0.01860893524149524,
          0.22586719763226284,
          0.32551513187417136,
          -0.001741631665486389,
          0.018585636193502654,
          0.2945027371365754,
          0.2945027371365754,
          0.3427815547470197,
          0.1899703486114656,
          0.06957804005407038,
          0.1392446055935264,
          0.13525057783715827,
          -0.1025365548771292,
          0.3178580561187157,
          0.3753852605426924,
          0.2756879585952928,
          0.08954075567351731,
          -0.06949257972322213,
          0.24916596540450645,
          0.2534409787685788,
          0.19028891043268767,
          0.16526382775949097,
          0.16526382775949097,
          0.3204483064474062,
          0.34083355527190623,
          0.12326911019424255,
          0.16007639207326171,
          0.273077005532019,
          0.10671115589317164,
          0.08932578251734395,
          0.34762404513901485,
          -0.06142061776341949,
          0.07788298814962692,
          0.22918941484747557,
          0.29680531334207993,
          0.21474835662719896,
          0.16816996129015915,
          0.15578712152756954,
          -0.0962707920585325,
          0.32092241963210477,
          0.03072364544734228,
          0.3212754856645017,
          0.25371500482964565,
          0.3188517826827828,
          0.297197747885845,
          0.272815009469429,
          0.32802108667365715,
          0.2837520802739098,
          0.376699716097719,
          0.24075422362429774,
          0.20742832849244328,
          -0.058617607239292414,
          0.291698602324324,
          0.34161128801983603,
          0.3001833516782608,
          0.2582502978983887,
          0.2428107252888459,
          0.2429178811148132,
          0.1727562980028512,
          0.11529091643447924,
          0.05972372929842291,
          0.0855520887543955,
          0.3285688984575456,
          0.2685571316913559,
          0.1680984580622362,
          0.018662106611385204,
          0.10682431853553655,
          0.31750394476824684,
          0.18916145430021702,
          0.12030806338428168,
          0.32312122663307247,
          0.13098719620252355,
          0.22628516314946495,
          -0.021704586097646496,
          0.32746580188585017,
          0.18701504475832784,
          0.3007987516596453,
          0.2985179729479082,
          0.1545111362496507,
          0.10198294022474888,
          -0.08043462634874829,
          0.03720107415004889,
          0.17268202685831308,
          -0.05610079637913102,
          -0.04604942527145632,
          0.31281851968910496,
          0.2144508607238567,
          0.3230978622811236,
          0.27776310532563686,
          0.30078456843845724,
          0.13086614919672382,
          -0.07670723895144575,
          -0.16427831171928728,
          0.3081464912750837,
          0.3204697677812309,
          0.35611760277885024,
          0.16684568754563348,
          0.1515133694747512,
          0.25221304637782516,
          0.22682118320278308,
          0.12771568925594118,
          0.2954922422018423,
          0.1964794123568618,
          0.1964794123568618,
          0.1964794123568618,
          0.1964794123568618,
          0.1964794123568618,
          0.1964794123568618,
          0.340970440031436,
          0.1622540889546536,
          0.2759975238904526,
          0.1885634251812151,
          0.37735756400298115,
          0.34807516720098813,
          0.36106969335364286,
          0.31066922788979634,
          -0.0520061304998363,
          -0.0520061304998363,
          0.257481148290313,
          0.257481148290313,
          0.257481148290313,
          0.257481148290313,
          0.2637731361105143,
          0.03489126126332747,
          0.28101238446306936,
          0.29207308881566707,
          0.3404344255686222,
          0.13972469073485408,
          0.3185657929828508,
          0.27012876631708965,
          0.14070621148451412,
          -0.129361295240128,
          0.21153169113875336,
          0.18074817792136968,
          0.3156712565235679,
          0.35651105670921596,
          0.3498029734680389,
          0.13998408276751778,
          0.38093466572266105,
          0.33143641117850503,
          0.10743417799615256,
          0.32244442466906825,
          0.3408577756129659,
          0.36797592194937434,
          0.29882904782404507,
          0.033216839318173465,
          0.2943762284648396,
          0.3358280273363192,
          0.3358280273363192,
          0.31658997330864935,
          0.3307731431869481,
          0.17899897778481527,
          0.34978250068838973,
          0.23618396857292973,
          0.30650644889035583,
          0.15383145642385307,
          0.19448167275568656,
          0.22349443395907492,
          0.11983518027417585,
          -0.01587988486636,
          0.16877902300000414,
          0.3362321499017215,
          0.11661664203568138,
          0.24570005822002278,
          0.3126592417243025,
          0.29599085267314423,
          -0.01173140595472537,
          -0.01173140595472537,
          0.12382081293748183,
          0.23991619552619742,
          0.2668064065526468,
          0.2765080680096806,
          -0.012082779506984847,
          0.39301967233504054,
          0.346745903841089,
          0.21128872447737498,
          0.2624618412312231,
          0.13416448456061586,
          0.3559146124737053,
          0.278826750285661,
          -0.16639614211273643
         ],
         "z": [
          -0.03654772191715287,
          -0.043135965480616656,
          -0.006119136084766018,
          -0.005781927800007372,
          -0.06620836739951468,
          -0.047509372841039704,
          -0.047509372841039704,
          -0.032178657032838426,
          -0.004299780955972764,
          -0.006826842017838876,
          -0.006826842017838876,
          -0.0009291998974316648,
          -0.03694066357571925,
          0.007065125096496934,
          -0.023029252992531855,
          -0.02805532246813716,
          -0.07164727634454096,
          -0.07164727634454096,
          -0.05279017892500254,
          0.018604177625721134,
          -0.07184645731456267,
          -0.02418057641081592,
          -0.02418057641081592,
          -0.0006383230106974615,
          -0.022877100678786323,
          -0.03711485272209724,
          -0.010126247252408281,
          0.011863453761604786,
          -0.0453351585598735,
          -0.01968868661611081,
          0.02730550108491689,
          0.004610996996116615,
          -0.0333632477644925,
          -0.0333632477644925,
          -0.03331426089866986,
          0.010677892860509922,
          0.023566281675533655,
          0.017681837187984425,
          -0.030111265348203364,
          -0.020137680281174318,
          -0.04004964688939866,
          -0.03752552686878129,
          0.002323482276019078,
          -0.062829723056788,
          -0.008842744459141277,
          -0.035936330366737636,
          -0.028905530196703465,
          0.010572891638636504,
          -0.01221279729328448,
          -0.01221279729328448,
          -0.03808363403171868,
          -0.03611758953252808,
          0.008525122808762133,
          -0.006490778786526045,
          -0.026623776671793185,
          -0.029436711662049163,
          -0.06212058936528061,
          -0.03356892167665584,
          0.01670388156849457,
          0.023253094316638776,
          -0.0001656268734977466,
          -0.01172272125504451,
          -0.03729445584351863,
          -0.020990193052509955,
          -0.046375823653545756,
          0.013077820098955008,
          -0.020330348898159767,
          -0.05270458837997894,
          -0.012323836453412779,
          -0.05054203097462435,
          -0.052126282128787255,
          -0.001992542776861285,
          -0.05868890355864988,
          -0.025151401466291544,
          -0.005438753378844361,
          -0.04795308380390058,
          -0.033809904029910694,
          -0.043897351531583466,
          -0.05665508449557971,
          -0.0008557574841839005,
          -0.017168128550184934,
          -0.04035171283641994,
          0.0019457861695749443,
          -0.016426674443927446,
          0.006956950270593277,
          0.007580561974327899,
          0.00938922749159101,
          -0.006435852889043835,
          -0.035707247724534,
          -0.023176020255786526,
          0.002877144704875157,
          0.005129421880341866,
          -0.013490421648470634,
          0.00029659834525761777,
          -0.050087257200457945,
          -0.013433716243595323,
          -0.023978212722942996,
          -0.008081221117546293,
          -0.022688367123569367,
          -0.03572364259609916,
          -0.040281951906997564,
          -0.036155008697826084,
          -0.008258461711529379,
          -0.005538753690429181,
          -0.030149126801085658,
          -0.011140475628727203,
          -0.03635029559034396,
          -0.04379907097407835,
          -0.03205116686509467,
          -0.017549354139836305,
          -0.02046323409328316,
          0.011276302560506013,
          -0.03503882607430942,
          -0.03092689037237132,
          -0.04023382496514151,
          0.0015611791716318103,
          -0.049774490426520254,
          0.009220412555928441,
          -0.018585665708321823,
          -0.0737116592701479,
          -0.019391973941743152,
          -0.030890531982256587,
          -0.037268265810752,
          -0.04943549595288054,
          0.010190658279386339,
          -0.0484654601808251,
          -0.07011615317344656,
          0.01969184419369576,
          -0.027242382245282026,
          0.0070438460577881635,
          0.0070438460577881635,
          0.0070438460577881635,
          0.0070438460577881635,
          0.0070438460577881635,
          0.0070438460577881635,
          -0.02520755676174009,
          0.008634873930815794,
          -0.048903961338736854,
          -0.028059526645171983,
          -0.0351675754882796,
          -0.03553673543844646,
          -0.0183094548094381,
          -0.05262884755997814,
          -0.07096484413629858,
          -0.07096484413629858,
          -0.07417900150632081,
          -0.07417900150632081,
          -0.07417900150632081,
          -0.07417900150632081,
          -0.010760735360127345,
          -0.05028999730043914,
          -0.0025933932460975658,
          -0.013090792190564,
          -0.04065128971530487,
          -0.00046781641891626693,
          -0.03839920561765052,
          -0.032277226637466516,
          0.016871459061792007,
          -0.04558662680183464,
          0.0009756008534770755,
          0.004793399823170715,
          -0.001975478115134863,
          -0.035467338311765836,
          -0.015247889368772794,
          -0.02995504882633934,
          -0.0365918176553012,
          -0.031555257719983236,
          0.013610115160936586,
          -0.039755421316947176,
          -0.03178209214828549,
          -0.031202476667460784,
          -0.03376222134947331,
          -0.007690488314727881,
          -0.0017220009136772927,
          -0.0056913321896985055,
          -0.0056913321896985055,
          -0.027165967350170957,
          -0.009230553560784515,
          0.006571632521532602,
          -0.048954910139653085,
          0.00876722651986719,
          -0.0033477590246844997,
          0.010811788619236928,
          0.0035847518967434162,
          -0.0324173149648876,
          -0.04932436501968211,
          -0.04628813793617018,
          0.0035186205904309204,
          -0.03620164442448978,
          0.02246124590530216,
          -0.03395862349699905,
          -0.0374213240392459,
          -0.03614437859683951,
          -0.04952296569128774,
          -0.04952296569128774,
          -0.0032333821518352396,
          -0.03581396726740321,
          -0.020727121783557508,
          -0.05666378181216035,
          -0.03271537568770601,
          -0.037858642481812324,
          -0.026740189491427393,
          -0.05959705795243511,
          -0.05515882495069676,
          -0.03666093688580207,
          -0.036342985416363875,
          -0.013964125282681636,
          -0.043388173316941454
         ]
        },
        {
         "customdata": [
          [
           "INVESTORS REAL ESTATE TRUST",
           "Real Estate Investment Trusts"
          ],
          [
           "BRT APARTMENTS CORP.",
           "Real Estate Investment Trusts"
          ],
          [
           "MONMOUTH REAL ESTATE INVESTMENT CORP",
           "Real Estate Investment Trusts"
          ],
          [
           "FIRST REAL ESTATE INVESTMENT TRUST OF NEW JERSEY",
           "Real Estate Investment Trusts"
          ],
          [
           "FIRST REAL ESTATE INVESTMENT TRUST OF NEW JERSEY",
           "Real Estate Investment Trusts"
          ],
          [
           "URSTADT BIDDLE PROPERTIES INC",
           "Real Estate Investment Trusts"
          ],
          [
           "URSTADT BIDDLE PROPERTIES INC",
           "Real Estate Investment Trusts"
          ],
          [
           "PHILLIPS EDISON & COMPANY, INC.",
           "Real Estate Investment Trusts"
          ],
          [
           "SL GREEN REALTY CORP",
           "Real Estate Investment Trusts"
          ],
          [
           "CUBESMART",
           "Real Estate Investment Trusts"
          ],
          [
           "CIM COMMERCIAL TRUST CORP",
           "Real Estate Investment Trusts"
          ],
          [
           "CERES TACTICAL SYSTEMATIC L.P.",
           "Real Estate Investment Trusts"
          ],
          [
           "PS BUSINESS PARKS INC/CA",
           "Real Estate Investment Trusts"
          ],
          [
           "STEADFAST INCOME REIT, INC.",
           "Real Estate Investment Trusts"
          ],
          [
           "RETAIL OPPORTUNITY INVESTMENTS CORP",
           "Real Estate Investment Trusts"
          ],
          [
           "MORGAN STANLEY SMITH BARNEY SPECTRUM SELECT LP",
           "Real Estate Investment Trusts"
          ],
          [
           "NEW YORK MORTGAGE TRUST INC",
           "Real Estate Investment Trusts"
          ],
          [
           "CBL & ASSOCIATES PROPERTIES INC",
           "Real Estate Investment Trusts"
          ],
          [
           "LEXINGTON REALTY TRUST",
           "Real Estate Investment Trusts"
          ],
          [
           "BRANDYWINE REALTY TRUST",
           "Real Estate Investment Trusts"
          ],
          [
           "LAMAR ADVERTISING CO/NEW",
           "Real Estate Investment Trusts"
          ],
          [
           "JBG SMITH PROPERTIES",
           "Real Estate Investment Trusts"
          ],
          [
           "KBS REAL ESTATE INVESTMENT TRUST III, INC.",
           "Real Estate Investment Trusts"
          ],
          [
           "CAPSTEAD MORTGAGE CORP",
           "Real Estate Investment Trusts"
          ],
          [
           "GGP INC.",
           "Real Estate Investment Trusts"
          ],
          [
           "QTS REALTY TRUST, INC.",
           "Real Estate Investment Trusts"
          ],
          [
           "WELLS FARGO REAL ESTATE INVESTMENT CORP.",
           "Real Estate Investment Trusts"
          ],
          [
           "LIGHTSTONE VALUE PLUS REAL ESTATE INVESTMENT TRUST V, INC.",
           "Real Estate Investment Trusts"
          ],
          [
           "RESOURCE APARTMENT REIT III, INC.",
           "Real Estate Investment Trusts"
          ],
          [
           "CNL HEALTHCARE PROPERTIES, INC.",
           "Real Estate Investment Trusts"
          ],
          [
           "RETAIL PROPERTIES OF AMERICA, INC.",
           "Real Estate Investment Trusts"
          ],
          [
           "BOSTON PROPERTIES INC",
           "Real Estate Investment Trusts"
          ],
          [
           "REGENCY CENTERS CORP",
           "Real Estate Investment Trusts"
          ],
          [
           "NATIONAL HEALTH INVESTORS INC",
           "Real Estate Investment Trusts"
          ],
          [
           "DRIVE SHACK INC.",
           "Real Estate Investment Trusts"
          ],
          [
           "COLE CREDIT PROPERTY TRUST V, INC.",
           "Real Estate Investment Trusts"
          ],
          [
           "EQUITY RESIDENTIAL",
           "Real Estate Investment Trusts"
          ],
          [
           "KITE REALTY GROUP TRUST",
           "Real Estate Investment Trusts"
          ],
          [
           "OUTFRONT MEDIA INC.",
           "Real Estate Investment Trusts"
          ],
          [
           "PENNSYLVANIA REAL ESTATE INVESTMENT TRUST",
           "Real Estate Investment Trusts"
          ],
          [
           "COLE REAL ESTATE INCOME STRATEGY (DAILY NAV), INC.",
           "Real Estate Investment Trusts"
          ],
          [
           "REALTY INCOME CORP",
           "Real Estate Investment Trusts"
          ],
          [
           "GLOBAL MEDICAL REIT INC.",
           "Real Estate Investment Trusts"
          ],
          [
           "PILLARSTONE CAPITAL REIT",
           "Real Estate Investment Trusts"
          ],
          [
           "CLIPPER REALTY INC.",
           "Real Estate Investment Trusts"
          ],
          [
           "BLACK CREEK INDUSTRIAL REIT IV INC.",
           "Real Estate Investment Trusts"
          ],
          [
           "LIGHTSTONE VALUE PLUS REAL ESTATE INVESTMENT TRUST, INC.",
           "Real Estate Investment Trusts"
          ],
          [
           "KKR REAL ESTATE FINANCE TRUST INC.",
           "Real Estate Investment Trusts"
          ],
          [
           "GEO GROUP INC",
           "Real Estate Investment Trusts"
          ],
          [
           "AMERICAN ASSETS TRUST, INC.",
           "Real Estate Investment Trusts"
          ],
          [
           "IMPAC MORTGAGE HOLDINGS INC",
           "Real Estate Investment Trusts"
          ],
          [
           "CNL HEALTHCARE PROPERTIES II, INC.",
           "Real Estate Investment Trusts"
          ],
          [
           "ANWORTH MORTGAGE ASSET CORP",
           "Real Estate Investment Trusts"
          ],
          [
           "LIGHTSTONE VALUE PLUS REAL ESTATE INVESTMENT TRUST III, INC.",
           "Real Estate Investment Trusts"
          ],
          [
           "AMERICAN FINANCE TRUST, INC",
           "Real Estate Investment Trusts"
          ],
          [
           "EQUITY COMMONWEALTH",
           "Real Estate Investment Trusts"
          ],
          [
           "FOUR CORNERS PROPERTY TRUST, INC.",
           "Real Estate Investment Trusts"
          ],
          [
           "RAYONIER INC",
           "Real Estate Investment Trusts"
          ],
          [
           "HOST HOTELS & RESORTS, INC.",
           "Real Estate Investment Trusts"
          ],
          [
           "GAMING & LEISURE PROPERTIES, INC.",
           "Real Estate Investment Trusts"
          ],
          [
           "NATIONAL RETAIL PROPERTIES, INC.",
           "Real Estate Investment Trusts"
          ],
          [
           "SENIOR HOUSING PROPERTIES TRUST",
           "Real Estate Investment Trusts"
          ],
          [
           "SUTHERLAND ASSET MANAGEMENT CORP",
           "Real Estate Investment Trusts"
          ],
          [
           "TAUBMAN CENTERS INC",
           "Real Estate Investment Trusts"
          ],
          [
           "RESOURCE REAL ESTATE OPPORTUNITY REIT, INC.",
           "Real Estate Investment Trusts"
          ],
          [
           "TANGER FACTORY OUTLET CENTERS INC",
           "Real Estate Investment Trusts"
          ],
          [
           "MFA FINANCIAL, INC.",
           "Real Estate Investment Trusts"
          ],
          [
           "TERRA SECURED INCOME FUND 5, LLC",
           "Real Estate Investment Trusts"
          ],
          [
           "SBA COMMUNICATIONS CORP",
           "Real Estate Investment Trusts"
          ],
          [
           "LIGHTSTONE VALUE PLUS REAL ESTATE INVESTMENT TRUST II INC",
           "Real Estate Investment Trusts"
          ],
          [
           "JONES LANG LASALLE INCOME PROPERTY TRUST, INC.",
           "Real Estate Investment Trusts"
          ],
          [
           "AVALONBAY COMMUNITIES INC",
           "Real Estate Investment Trusts"
          ],
          [
           "ARES COMMERCIAL REAL ESTATE CORP",
           "Real Estate Investment Trusts"
          ],
          [
           "CARTER VALIDUS MISSION CRITICAL REIT II, INC.",
           "Real Estate Investment Trusts"
          ],
          [
           "PHYSICIANS REALTY TRUST",
           "Real Estate Investment Trusts"
          ],
          [
           "PROLOGIS, INC.",
           "Real Estate Investment Trusts"
          ],
          [
           "ARMOUR RESIDENTIAL REIT, INC.",
           "Real Estate Investment Trusts"
          ],
          [
           "CHERRY HILL MORTGAGE INVESTMENT CORP",
           "Real Estate Investment Trusts"
          ],
          [
           "EMPIRE STATE REALTY TRUST, INC.",
           "Real Estate Investment Trusts"
          ],
          [
           "PUBLIC STORAGE",
           "Real Estate Investment Trusts"
          ],
          [
           "APARTMENT INVESTMENT & MANAGEMENT CO",
           "Real Estate Investment Trusts"
          ],
          [
           "CEDAR REALTY TRUST, INC.",
           "Real Estate Investment Trusts"
          ],
          [
           "HIGHLANDS REIT, INC.",
           "Real Estate Investment Trusts"
          ],
          [
           "IRON MOUNTAIN INC",
           "Real Estate Investment Trusts"
          ],
          [
           "SOTHERLY HOTELS INC.",
           "Real Estate Investment Trusts"
          ],
          [
           "EMPIRE STATE REALTY OP, L.P.",
           "Real Estate Investment Trusts"
          ],
          [
           "ESSEX PROPERTY TRUST INC",
           "Real Estate Investment Trusts"
          ],
          [
           "WEINGARTEN REALTY INVESTORS /TX/",
           "Real Estate Investment Trusts"
          ],
          [
           "CONDOR HOSPITALITY TRUST, INC.",
           "Real Estate Investment Trusts"
          ],
          [
           "CITY OFFICE REIT, INC.",
           "Real Estate Investment Trusts"
          ],
          [
           "BENEFIT STREET PARTNERS REALTY TRUST, INC.",
           "Real Estate Investment Trusts"
          ],
          [
           "LIGHTSTONE REAL ESTATE INCOME TRUST INC.",
           "Real Estate Investment Trusts"
          ],
          [
           "AMERICAN CAMPUS COMMUNITIES INC",
           "Real Estate Investment Trusts"
          ],
          [
           "STARWOOD PROPERTY TRUST, INC.",
           "Real Estate Investment Trusts"
          ],
          [
           "CORESITE REALTY CORP",
           "Real Estate Investment Trusts"
          ],
          [
           "POTLATCH CORP",
           "Real Estate Investment Trusts"
          ],
          [
           "CORPORATE OFFICE PROPERTIES TRUST",
           "Real Estate Investment Trusts"
          ],
          [
           "RAMCO GERSHENSON PROPERTIES TRUST",
           "Real Estate Investment Trusts"
          ],
          [
           "NATIONAL STORAGE AFFILIATES TRUST",
           "Real Estate Investment Trusts"
          ],
          [
           "HERSHA HOSPITALITY TRUST",
           "Real Estate Investment Trusts"
          ],
          [
           "JERNIGAN CAPITAL, INC.",
           "Real Estate Investment Trusts"
          ],
          [
           "VORNADO REALTY TRUST",
           "Real Estate Investment Trusts"
          ],
          [
           "ISTAR INC.",
           "Real Estate Investment Trusts"
          ],
          [
           "ALEXANDER & BALDWIN, INC.",
           "Real Estate Investment Trusts"
          ],
          [
           "HOSPITALITY INVESTORS TRUST, INC.",
           "Real Estate Investment Trusts"
          ],
          [
           "SAUL CENTERS INC",
           "Real Estate Investment Trusts"
          ],
          [
           "KBS GROWTH & INCOME REIT, INC.",
           "Real Estate Investment Trusts"
          ],
          [
           "EXTRA SPACE STORAGE INC.",
           "Real Estate Investment Trusts"
          ],
          [
           "CHESAPEAKE LODGING TRUST",
           "Real Estate Investment Trusts"
          ],
          [
           "LTC PROPERTIES INC",
           "Real Estate Investment Trusts"
          ],
          [
           "EASTERLY GOVERNMENT PROPERTIES, INC.",
           "Real Estate Investment Trusts"
          ],
          [
           "PLYMOUTH INDUSTRIAL REIT INC.",
           "Real Estate Investment Trusts"
          ],
          [
           "FRANKLIN STREET PROPERTIES CORP /MA/",
           "Real Estate Investment Trusts"
          ],
          [
           "HEALTHCARE TRUST OF AMERICA, INC.",
           "Real Estate Investment Trusts"
          ],
          [
           "REALSOURCE RESIDENTIAL, INC",
           "Real Estate Investment Trusts"
          ],
          [
           "CARTER VALIDUS MISSION CRITICAL REIT, INC.",
           "Real Estate Investment Trusts"
          ],
          [
           "SUN COMMUNITIES INC",
           "Real Estate Investment Trusts"
          ],
          [
           "FIRST EQUITY PROPERTIES INC",
           "Real Estate Investment Trusts"
          ],
          [
           "MID AMERICA APARTMENT COMMUNITIES INC",
           "Real Estate Investment Trusts"
          ],
          [
           "BROOKFIELD DTLA FUND OFFICE TRUST INVESTOR INC.",
           "Real Estate Investment Trusts"
          ],
          [
           "ANNALY CAPITAL MANAGEMENT INC",
           "Real Estate Investment Trusts"
          ],
          [
           "WHEELER REAL ESTATE INVESTMENT TRUST, INC.",
           "Real Estate Investment Trusts"
          ],
          [
           "ALEXANDRIA REAL ESTATE EQUITIES INC",
           "Real Estate Investment Trusts"
          ],
          [
           "HIGHWOODS PROPERTIES INC",
           "Real Estate Investment Trusts"
          ],
          [
           "KIMCO REALTY CORP",
           "Real Estate Investment Trusts"
          ],
          [
           "INDEPENDENCE REALTY TRUST, INC.",
           "Real Estate Investment Trusts"
          ],
          [
           "PREFERRED APARTMENT COMMUNITIES INC",
           "Real Estate Investment Trusts"
          ],
          [
           "ELLINGTON RESIDENTIAL MORTGAGE REIT",
           "Real Estate Investment Trusts"
          ],
          [
           "CORECIVIC, INC.",
           "Real Estate Investment Trusts"
          ],
          [
           "ASHFORD HOSPITALITY PRIME, INC.",
           "Real Estate Investment Trusts"
          ],
          [
           "LIFE STORAGE, INC.",
           "Real Estate Investment Trusts"
          ],
          [
           "HEALTHCARE REALTY TRUST INC",
           "Real Estate Investment Trusts"
          ],
          [
           "WINTHROP REALTY LIQUIDATING TRUST",
           "Real Estate Investment Trusts"
          ],
          [
           "CORENERGY INFRASTRUCTURE TRUST, INC.",
           "Real Estate Investment Trusts"
          ],
          [
           "KBS STRATEGIC OPPORTUNITY REIT II, INC.",
           "Real Estate Investment Trusts"
          ],
          [
           "PEBBLEBROOK HOTEL TRUST",
           "Real Estate Investment Trusts"
          ],
          [
           "SABRA HEALTH CARE REIT, INC.",
           "Real Estate Investment Trusts"
          ],
          [
           "POWER REIT",
           "Real Estate Investment Trusts"
          ],
          [
           "DYNEX CAPITAL INC",
           "Real Estate Investment Trusts"
          ],
          [
           "DIGITAL REALTY TRUST, INC.",
           "Real Estate Investment Trusts"
          ],
          [
           "STRATEGIC REALTY TRUST, INC.",
           "Real Estate Investment Trusts"
          ],
          [
           "COLE OFFICE & INDUSTRIAL REIT (CCIT III), INC.",
           "Real Estate Investment Trusts"
          ],
          [
           "HEALTHCARE TRUST, INC.",
           "Real Estate Investment Trusts"
          ],
          [
           "LADDER CAPITAL CORP",
           "Real Estate Investment Trusts"
          ],
          [
           "CROWN CASTLE INTERNATIONAL CORP",
           "Real Estate Investment Trusts"
          ],
          [
           "HOWARD HUGHES CORP",
           "Real Estate Investment Trusts"
          ],
          [
           "ALEXANDERS INC",
           "Real Estate Investment Trusts"
          ],
          [
           "MANHATTAN BRIDGE CAPITAL, INC",
           "Real Estate Investment Trusts"
          ],
          [
           "INLAND REAL ESTATE INCOME TRUST, INC.",
           "Real Estate Investment Trusts"
          ],
          [
           "INLAND RESIDENTIAL PROPERTIES TRUST, INC.",
           "Real Estate Investment Trusts"
          ],
          [
           "INLAND RESIDENTIAL PROPERTIES TRUST, INC.",
           "Real Estate Investment Trusts"
          ],
          [
           "KBS REAL ESTATE INVESTMENT TRUST II, INC.",
           "Real Estate Investment Trusts"
          ],
          [
           "RESOURCE REAL ESTATE OPPORTUNITY REIT II, INC.",
           "Real Estate Investment Trusts"
          ],
          [
           "STEADFAST APARTMENT REIT III, INC.",
           "Real Estate Investment Trusts"
          ],
          [
           "ACADIA REALTY TRUST",
           "Real Estate Investment Trusts"
          ],
          [
           "HMG COURTLAND PROPERTIES INC",
           "Real Estate Investment Trusts"
          ],
          [
           "COLE CREDIT PROPERTY TRUST IV, INC.",
           "Real Estate Investment Trusts"
          ],
          [
           "FIVE OAKS INVESTMENT CORP.",
           "Real Estate Investment Trusts"
          ],
          [
           "NEXPOINT RESIDENTIAL TRUST, INC.",
           "Real Estate Investment Trusts"
          ],
          [
           "TWO HARBORS INVESTMENT CORP.",
           "Real Estate Investment Trusts"
          ],
          [
           "WASHINGTON PRIME GROUP INC.",
           "Real Estate Investment Trusts"
          ],
          [
           "TIER REIT INC",
           "Real Estate Investment Trusts"
          ],
          [
           "GRANITE POINT MORTGAGE TRUST INC.",
           "Real Estate Investment Trusts"
          ],
          [
           "GREAT AJAX CORP.",
           "Real Estate Investment Trusts"
          ],
          [
           "DUKE REALTY CORP",
           "Real Estate Investment Trusts"
          ],
          [
           "EASTGROUP PROPERTIES INC",
           "Real Estate Investment Trusts"
          ],
          [
           "STEADFAST APARTMENT REIT, INC.",
           "Real Estate Investment Trusts"
          ],
          [
           "RECKSON OPERATING PARTNERSHIP LP",
           "Real Estate Investment Trusts"
          ],
          [
           "GLOBAL NET LEASE, INC.",
           "Real Estate Investment Trusts"
          ],
          [
           "KBS STRATEGIC OPPORTUNITY REIT, INC.",
           "Real Estate Investment Trusts"
          ],
          [
           "WHITESTONE REIT",
           "Real Estate Investment Trusts"
          ],
          [
           "GRIFFIN CAPITAL ESSENTIAL ASSET REIT II, INC.",
           "Real Estate Investment Trusts"
          ],
          [
           "UDR, INC.",
           "Real Estate Investment Trusts"
          ],
          [
           "COMMUNITY HEALTHCARE TRUST INC",
           "Real Estate Investment Trusts"
          ],
          [
           "VENTAS INC",
           "Real Estate Investment Trusts"
          ],
          [
           "OWENS REALTY MORTGAGE, INC.",
           "Real Estate Investment Trusts"
          ],
          [
           "KILROY REALTY CORP",
           "Real Estate Investment Trusts"
          ],
          [
           "SUMMIT HOTEL PROPERTIES, INC.",
           "Real Estate Investment Trusts"
          ],
          [
           "CORPORATE PROPERTY ASSOCIATES 18 GLOBAL INC",
           "Real Estate Investment Trusts"
          ],
          [
           "CYRUSONE INC.",
           "Real Estate Investment Trusts"
          ],
          [
           "COLONY NORTHSTAR, INC.",
           "Real Estate Investment Trusts"
          ],
          [
           "FEDERAL REALTY INVESTMENT TRUST",
           "Real Estate Investment Trusts"
          ],
          [
           "NEW SENIOR INVESTMENT GROUP INC.",
           "Real Estate Investment Trusts"
          ],
          [
           "RYMAN HOSPITALITY PROPERTIES, INC.",
           "Real Estate Investment Trusts"
          ],
          [
           "BRIXMOR PROPERTY GROUP INC.",
           "Real Estate Investment Trusts"
          ],
          [
           "COLE OFFICE & INDUSTRIAL REIT (CCIT II), INC.",
           "Real Estate Investment Trusts"
          ],
          [
           "OMEGA HEALTHCARE INVESTORS INC",
           "Real Estate Investment Trusts"
          ],
          [
           "REVEN HOUSING REIT, INC.",
           "Real Estate Investment Trusts"
          ],
          [
           "AMERICAN REALTY CAPITAL NEW YORK CITY REIT, INC.",
           "Real Estate Investment Trusts"
          ],
          [
           "STAG INDUSTRIAL, INC.",
           "Real Estate Investment Trusts"
          ],
          [
           "EQUINIX INC",
           "Real Estate Investment Trusts"
          ]
         ],
         "hovertemplate": "color=Real Estate Investment Trusts<br>0=%{x}<br>1=%{y}<br>2=%{z}<br>name=%{customdata[0]}<br>industry=%{customdata[1]}<extra></extra>",
         "legendgroup": "Real Estate Investment Trusts",
         "marker": {
          "color": "#ab63fa",
          "symbol": "circle"
         },
         "mode": "markers",
         "name": "Real Estate Investment Trusts",
         "scene": "scene",
         "showlegend": true,
         "type": "scatter3d",
         "x": [
          0.10824096498172014,
          0.0952697876243197,
          0.0952644076346677,
          0.10228461631107696,
          0.10228461631107696,
          0.12275052008259375,
          0.12275052008259375,
          0.10120672542201821,
          0.10809425604048185,
          0.07015267447279684,
          0.14245875062480862,
          0.01146721932361503,
          0.09225437785450341,
          0.10444617763874599,
          0.07239237194386701,
          0.01147830749321586,
          0.13214870254361563,
          0.08758723047024562,
          0.09698489157361946,
          0.18076457591262365,
          0.07550797871984732,
          0.11882614786809571,
          0.16629670082496864,
          0.11282678268337729,
          0.09373145039577772,
          0.005523584151271501,
          0.24393360559678925,
          0.15517984074855398,
          0.10688615860110712,
          0.08148430865727856,
          0.0738069121523137,
          0.030467128262843576,
          0.06813031135632101,
          0.11059967744375783,
          0.0638971895507361,
          0.1597305620964671,
          0.07680011630322567,
          0.0738871507189174,
          0.05405539906230976,
          0.12779642548312845,
          0.1686034758525644,
          0.10685867365743996,
          0.0157914744765454,
          0.10559185083225454,
          0.12066801314488265,
          0.15373085991423086,
          0.03600946333486077,
          0.21271575200634601,
          0.009091410455482694,
          0.1509067578851379,
          0.1593158515437595,
          0.09675390682462198,
          0.10612048760389534,
          0.03600946333486077,
          0.1005866397717818,
          0.0932719128096353,
          0.1176328692535296,
          0.08516988812060212,
          0.079574305682874,
          0.09445879216554658,
          0.12400399840632971,
          0.06680767917659848,
          0.19864287490343543,
          0.04780154047619831,
          0.17039478480453032,
          0.08488178057917876,
          0.1506910292780709,
          0.13867407118945896,
          0.05607826186795545,
          0.03600946333486077,
          0.1460424159507975,
          0.15263194955146966,
          0.1686023936124804,
          0.1156181261020869,
          0.01831707544320343,
          0.1381674790006711,
          0.10969107440403572,
          0.11175720899761867,
          0.10269822920635062,
          -0.0014294985534218931,
          0.09648983076733969,
          0.11340116739724188,
          0.11832603577743867,
          0.00037477457205789446,
          0.05069330694201638,
          0.10060971564998632,
          0.106688534541312,
          0.11741517311451277,
          0.07574097781623715,
          0.12019833724498064,
          0.19757573892606473,
          0.03600946333486077,
          0.07695495673445334,
          0.21615058246779442,
          0.0022970119551861006,
          0.13660762388152753,
          0.04759255060361495,
          0.033361759556349416,
          0.08584017665278226,
          0.09250663166273575,
          0.0973655597533148,
          0.0652243831904595,
          0.18180457540660402,
          0.15465213039006856,
          0.09638639175616588,
          0.0662155519828338,
          0.1273829836390961,
          0.0756188097175748,
          0.06434631216666073,
          0.004808053800443806,
          0.057618181378750744,
          0.09807359406020014,
          0.12937481528142025,
          0.013885239196951553,
          0.024476066701366032,
          0.15945303661189045,
          0.005433948265252339,
          0.1072575541244307,
          0.13096795545919926,
          0.061116761570688724,
          0.0168843858161745,
          0.09026635091754712,
          0.13081974288898218,
          0.04626530431805524,
          0.09829945394866262,
          0.11049165428195372,
          0.17557111460173042,
          0.10892419097284906,
          0.0859530183287913,
          0.03616127022036778,
          0.10606782211881885,
          0.020143852797419044,
          0.07764632545159075,
          0.08589614037835522,
          0.12767826354949638,
          0.042776608522853525,
          0.12274611615792873,
          0.13787956877650734,
          0.14402192390417734,
          0.008838111460498182,
          0.13137128541866064,
          0.15656234259815188,
          0.03456808559977093,
          0.19905280093796598,
          0.04594272278341734,
          0.16618642926064037,
          0.03774329388141948,
          0.18521336146810222,
          0.17105721590648168,
          0.13029625220439833,
          0.13029625220439833,
          0.1472333806183058,
          0.18514722549651857,
          0.03596099547801981,
          0.1316900894817354,
          0.03490687033125307,
          0.16302243112884215,
          0.19991449569112188,
          0.12532655181783012,
          0.18020518666873525,
          0.12057464367279172,
          0.06077273987107489,
          0.18399195759893527,
          0.14713007670673695,
          0.03888335189197869,
          0.055110026504018333,
          0.12548580910888077,
          0.07201636827853473,
          0.12516649858808496,
          0.14326538961781854,
          0.1511618471083402,
          0.1101382297485357,
          0.12956246132643556,
          0.08109009520820082,
          0.10166247550975788,
          0.13598221709152822,
          0.09547121092529237,
          0.06645606385405638,
          0.07077364638019884,
          0.009493904513834906,
          0.17778345775701063,
          0.12558831402666104,
          0.05804432897091379,
          0.04382187226732633,
          0.06016335641254885,
          0.15920224489950152,
          0.037363132657421,
          0.14580063838585913,
          0.16590680691395393,
          0.05993087749617234,
          -0.007771749454877139
         ],
         "y": [
          -0.3069214680153952,
          -0.29414312151680094,
          -0.2594327240466216,
          -0.2218097375325511,
          -0.2218097375325511,
          -0.30234062400873873,
          -0.30234062400873873,
          -0.3376295544174256,
          -0.310661808714271,
          -0.31904040764816727,
          -0.3541157371502059,
          -0.14262149669741986,
          -0.3102360760298938,
          -0.3606353083759718,
          -0.2883232192345861,
          -0.1358804295264235,
          -0.15010184187783032,
          -0.28744498165236404,
          -0.29418810602715856,
          -0.36098555204932165,
          -0.2231396627636379,
          -0.298166138941768,
          -0.3856278192015645,
          -0.20145243218450615,
          -0.2877558246617148,
          -0.1383138787145999,
          -0.16272907926418181,
          -0.3826914846867778,
          -0.3166214117752368,
          -0.31212834539315343,
          -0.3155850062942777,
          -0.15794033059101248,
          -0.2203062155776317,
          -0.24588257995131546,
          -0.26437520669992254,
          -0.36594606781015415,
          -0.28016115580692474,
          -0.30074994841391156,
          -0.26864455699558826,
          -0.2969304963866101,
          -0.3633406899674113,
          -0.2889994996674871,
          -0.2225411871893252,
          -0.29366077605815066,
          -0.38776958216625484,
          -0.41207372787961527,
          -0.07392442365525755,
          -0.3307277901340189,
          -0.15108848486133797,
          -0.35331666759605407,
          -0.17475625459535174,
          -0.33930717532866284,
          -0.2085960319618077,
          -0.07392442365525755,
          -0.32740019558642874,
          -0.2829637258560081,
          -0.35187536310398243,
          -0.22100307745235864,
          -0.2761684195625043,
          -0.24734108714214936,
          -0.29509289036575653,
          -0.24887466699061828,
          -0.176169573424013,
          -0.22661905451382533,
          -0.36246459815377335,
          -0.2905315585689792,
          -0.1083699951017537,
          -0.19553327977080112,
          -0.24074629666460085,
          -0.07392442365525755,
          -0.33631140061051146,
          -0.37332440458791627,
          -0.2816010025124174,
          -0.31693351217330246,
          -0.1814107723377851,
          -0.3037838154760788,
          -0.30530458721589665,
          -0.21370079022993876,
          -0.35036047366659095,
          -0.12327006528159207,
          -0.34484964880924357,
          -0.3441917778699299,
          -0.3338139532773293,
          -0.13924777849079825,
          -0.25532180826218925,
          -0.3347917836953747,
          -0.3439852749541685,
          -0.3004983677312474,
          -0.3206954298452889,
          -0.3110152414381011,
          -0.2103538385870156,
          -0.07392442365525755,
          -0.28534971610643156,
          -0.2774166201633207,
          -0.12006076615975735,
          -0.3036688790444754,
          -0.23402523157562566,
          -0.23727160643637574,
          -0.3317277038494519,
          -0.3448041092826429,
          -0.25482746659489336,
          -0.278116168657315,
          -0.3132455258560697,
          -0.32259244227353717,
          -0.3366160215319434,
          -0.24943862910660441,
          -0.3320865531990578,
          -0.30627551077025844,
          -0.2754541310318271,
          -0.12249501827213567,
          -0.3171689272200078,
          -0.33166302080165,
          -0.258327136978555,
          -0.20086571297418987,
          -0.17406183084977872,
          -0.3760466479782466,
          -0.12360315834092216,
          -0.24646557252802356,
          -0.3786242637836268,
          -0.2648531839216295,
          -0.14710965154350958,
          -0.2956874285552974,
          -0.3287184129397728,
          -0.11210582245095285,
          -0.24628569123195654,
          -0.32932108261382076,
          -0.35311337758812616,
          -0.20221863111390084,
          -0.2931807916099022,
          -0.211457214243744,
          -0.3466202524189589,
          -0.1827009482407325,
          -0.2519965279329488,
          -0.2715499378232966,
          -0.35664546629555727,
          -0.2761620732530897,
          -0.30729710097768154,
          -0.23804526148016705,
          -0.19902695927156416,
          -0.12913028905741925,
          -0.3937605418819557,
          -0.37419794776974263,
          -0.22685283715932103,
          -0.21139825606347837,
          -0.20914773307510623,
          -0.34560110129410027,
          -0.21416686321740241,
          -0.2651421381672018,
          -0.39492796047628326,
          -0.35279499922103097,
          -0.35279499922103097,
          -0.3774597843038136,
          -0.3554777714855882,
          -0.20845548604396597,
          -0.2712282807590235,
          -0.10602790535399724,
          -0.368761591373945,
          -0.26242753592991047,
          -0.34632094064640845,
          -0.22839001205726234,
          -0.32990426352310154,
          -0.27463451171704006,
          -0.24874422770391466,
          -0.2816123262494648,
          -0.16344043977098502,
          -0.23583050540212963,
          -0.3627709212223845,
          -0.31515073140611205,
          -0.3505579704634858,
          -0.3505567547143995,
          -0.33144027080103644,
          -0.3591541139389349,
          -0.3993645461748528,
          -0.27486614111105234,
          -0.2686807572337602,
          -0.2430971094416965,
          -0.2656320301589372,
          -0.3025163464099362,
          -0.23476246758613784,
          -0.13491490926125663,
          -0.2995394826359428,
          -0.35787728138281233,
          -0.25819503169458835,
          -0.25080595593989047,
          -0.30275813893170445,
          -0.36740736671016255,
          -0.2202455698316536,
          -0.3335812781209163,
          -0.3562035156409333,
          -0.3065179284426109,
          -0.09389787529801699
         ],
         "z": [
          -0.242331686673736,
          -0.19675719896289137,
          -0.19813943724903324,
          -0.18303788499452353,
          -0.18303788499452353,
          -0.2514474597612718,
          -0.2514474597612718,
          -0.27819549261382603,
          -0.25626955487059905,
          -0.20714445358710765,
          -0.2976797645395974,
          -0.024464984463389947,
          -0.23193925352294967,
          -0.28248224241906184,
          -0.1831455244052001,
          -0.017339220453355928,
          -0.12986595983490776,
          -0.18984666221520732,
          -0.20860575905214587,
          -0.3417050037629007,
          -0.15571130783100448,
          -0.2531860691129385,
          -0.3548099757144936,
          -0.15444799819839813,
          -0.21466876764768958,
          -0.03934713223351373,
          -0.22013930541889945,
          -0.3131272169664497,
          -0.24667478000125959,
          -0.22005812366067856,
          -0.23461964144416123,
          -0.0764592637455657,
          -0.1530042548020384,
          -0.22511145224481952,
          -0.1787927696386169,
          -0.323353314468912,
          -0.20903607235399277,
          -0.21854959894469383,
          -0.17184139694527117,
          -0.2415340150803323,
          -0.3328461304365749,
          -0.18651056977946162,
          -0.17073830524824937,
          -0.25025991045648804,
          -0.24482892627010402,
          -0.3604889553819008,
          0.027141221337296236,
          -0.31640863508879574,
          -0.046595238155486954,
          -0.2755660206492624,
          -0.1706949964310288,
          -0.276105865160791,
          -0.16686527945630922,
          0.027141221337296236,
          -0.25351927861640305,
          -0.19106446877861372,
          -0.2631031658269522,
          -0.11252781381423657,
          -0.14012811052649501,
          -0.18180175514567715,
          -0.22799894641497148,
          -0.17129462128343875,
          -0.20841292663663874,
          -0.14489865475177222,
          -0.35432358909286027,
          -0.22029977154063882,
          -0.11403771519894418,
          -0.18795722908949467,
          -0.08611700809229302,
          0.027141221337296236,
          -0.3059609746486987,
          -0.3304102823760061,
          -0.26916304564131627,
          -0.24436739607380017,
          -0.1460171650102834,
          -0.24260029143205206,
          -0.2313234646744321,
          -0.17323877126005088,
          -0.2596463287332357,
          -0.04564034406940498,
          -0.26589462794069774,
          -0.2182013768009169,
          -0.2270565974708147,
          -0.058131175003317145,
          -0.16442618046292978,
          -0.24485070015322727,
          -0.2674285627434155,
          -0.24711694137738627,
          -0.21658535624001493,
          -0.17234236760807237,
          -0.24809007111226838,
          0.027141221337296236,
          -0.19366113706674232,
          -0.23588238624048669,
          -0.014034290518806568,
          -0.25737289778768024,
          -0.15265701756320255,
          -0.1383410523033127,
          -0.23679229989945674,
          -0.23036672535972894,
          -0.17799979833724694,
          -0.198383688829036,
          -0.30087988021129536,
          -0.2229611458577991,
          -0.25992545557527136,
          -0.16624190731389862,
          -0.26892382246762503,
          -0.2105993845316233,
          -0.16655696968328,
          -0.10048265017100981,
          -0.2046491188733009,
          -0.24481748427765707,
          -0.23807498011466868,
          -0.13184848711199768,
          -0.0942895223651818,
          -0.33666081772491546,
          -0.0229877643613335,
          -0.19989404754149673,
          -0.3275647106910183,
          -0.1409966360261906,
          -0.08323194324342346,
          -0.20057500105342793,
          -0.2659704808666673,
          -0.006484150565251207,
          -0.19343645773292226,
          -0.24537252252871852,
          -0.28596561006901977,
          -0.16074558862957358,
          -0.22292317299888018,
          -0.10718299341990102,
          -0.24743377285879495,
          -0.1375396511692384,
          -0.18727930727515973,
          -0.10698763566465105,
          -0.28730846777768076,
          -0.13912688892359576,
          -0.2798916901834232,
          -0.21723561486999543,
          -0.16496876190572457,
          -0.036066890722907016,
          -0.32129617736877697,
          -0.3313622768596341,
          -0.1540296845812931,
          -0.23450389961566692,
          -0.06868302615549685,
          -0.3136491046770727,
          -0.1285725961918232,
          -0.2836046305500518,
          -0.3792994071530991,
          -0.30101746394748463,
          -0.30101746394748463,
          -0.30864623259766166,
          -0.3612653787630413,
          -0.0967283975045566,
          -0.191649089842357,
          -0.006398724735742433,
          -0.33544905774988626,
          -0.2739428842200514,
          -0.27367986232293856,
          -0.21897660515573494,
          -0.20037541470563178,
          -0.21037372345928512,
          -0.26365969964400915,
          -0.2375521555839047,
          -0.04959019780816755,
          -0.1569768726300109,
          -0.29245001920319735,
          -0.2301711111457143,
          -0.26525108125553676,
          -0.3028472907971591,
          -0.30252700624951356,
          -0.2527571315455883,
          -0.311659957592424,
          -0.23915898526188015,
          -0.1974732759914859,
          -0.21417208357093528,
          -0.10436437419818585,
          -0.17723712063811678,
          -0.10224701888163623,
          -0.025581760459302078,
          -0.2901451151216974,
          -0.28875727570238885,
          -0.21585851276810053,
          -0.15300756006951552,
          -0.20199072517167233,
          -0.32754344642103633,
          -0.09392964287127474,
          -0.2932457303058455,
          -0.3267998151002369,
          -0.19042875123291575,
          0.004911771874243401
         ]
        },
        {
         "customdata": [
          [
           "TOMPKINS FINANCIAL CORP",
           "State Commercial Banks (commercial banking)"
          ],
          [
           "TRIUMPH BANCORP, INC.",
           "State Commercial Banks (commercial banking)"
          ],
          [
           "GREAT SOUTHERN BANCORP, INC.",
           "State Commercial Banks (commercial banking)"
          ],
          [
           "SOUTH STATE CORP",
           "State Commercial Banks (commercial banking)"
          ],
          [
           "OLD LINE BANCSHARES INC",
           "State Commercial Banks (commercial banking)"
          ],
          [
           "SEACOAST BANKING CORP OF FLORIDA",
           "State Commercial Banks (commercial banking)"
          ],
          [
           "CITIZENS FINANCIAL GROUP INC/RI",
           "State Commercial Banks (commercial banking)"
          ],
          [
           "COMMUNITY WEST BANCSHARES /",
           "State Commercial Banks (commercial banking)"
          ],
          [
           "MACKINAC FINANCIAL CORP /MI/",
           "State Commercial Banks (commercial banking)"
          ],
          [
           "UNITY BANCORP INC /NJ/",
           "State Commercial Banks (commercial banking)"
          ],
          [
           "UNITY BANCORP INC /NJ/",
           "State Commercial Banks (commercial banking)"
          ],
          [
           "EAST WEST BANCORP INC",
           "State Commercial Banks (commercial banking)"
          ],
          [
           "HEARTLAND FINANCIAL USA INC",
           "State Commercial Banks (commercial banking)"
          ],
          [
           "COUNTY BANCORP, INC.",
           "State Commercial Banks (commercial banking)"
          ],
          [
           "CHEMUNG FINANCIAL CORP",
           "State Commercial Banks (commercial banking)"
          ],
          [
           "BRYN MAWR BANK CORP",
           "State Commercial Banks (commercial banking)"
          ],
          [
           "EAGLE BANCORP MONTANA, INC.",
           "State Commercial Banks (commercial banking)"
          ],
          [
           "1ST SOURCE CORP",
           "State Commercial Banks (commercial banking)"
          ],
          [
           "SERVISFIRST BANCSHARES, INC.",
           "State Commercial Banks (commercial banking)"
          ],
          [
           "SIERRA BANCORP",
           "State Commercial Banks (commercial banking)"
          ],
          [
           "HOPFED BANCORP INC",
           "State Commercial Banks (commercial banking)"
          ],
          [
           "HOPFED BANCORP INC",
           "State Commercial Banks (commercial banking)"
          ],
          [
           "FIRST FINANCIAL BANKSHARES INC",
           "State Commercial Banks (commercial banking)"
          ],
          [
           "CHEMICAL FINANCIAL CORP",
           "State Commercial Banks (commercial banking)"
          ],
          [
           "SECURITY FEDERAL CORP",
           "State Commercial Banks (commercial banking)"
          ],
          [
           "FIRST FINANCIAL CORP /IN/",
           "State Commercial Banks (commercial banking)"
          ],
          [
           "WESTERN ALLIANCE BANCORPORATION",
           "State Commercial Banks (commercial banking)"
          ],
          [
           "TRISTATE CAPITAL HOLDINGS, INC.",
           "State Commercial Banks (commercial banking)"
          ],
          [
           "UNION BANKSHARES CORP",
           "State Commercial Banks (commercial banking)"
          ],
          [
           "CAROLINA TRUST BANCSHARES, INC.",
           "State Commercial Banks (commercial banking)"
          ],
          [
           "COMMUNITY TRUST BANCORP INC /KY/",
           "State Commercial Banks (commercial banking)"
          ],
          [
           "HILLS BANCORPORATION",
           "State Commercial Banks (commercial banking)"
          ],
          [
           "MACATAWA BANK CORP",
           "State Commercial Banks (commercial banking)"
          ],
          [
           "PREMIER FINANCIAL BANCORP INC",
           "State Commercial Banks (commercial banking)"
          ],
          [
           "KENTUCKY BANCSHARES INC /KY/",
           "State Commercial Banks (commercial banking)"
          ],
          [
           "RIVER FINANCIAL CORP",
           "State Commercial Banks (commercial banking)"
          ],
          [
           "BAR HARBOR BANKSHARES",
           "State Commercial Banks (commercial banking)"
          ],
          [
           "PARKE BANCORP, INC.",
           "State Commercial Banks (commercial banking)"
          ],
          [
           "RANDOLPH BANCORP, INC.",
           "State Commercial Banks (commercial banking)"
          ],
          [
           "BANK OF HAWAII CORP",
           "State Commercial Banks (commercial banking)"
          ],
          [
           "BSB BANCORP, INC.",
           "State Commercial Banks (commercial banking)"
          ],
          [
           "INDEPENDENT BANK CORP /MI/",
           "State Commercial Banks (commercial banking)"
          ],
          [
           "PACIFIC PREMIER BANCORP INC",
           "State Commercial Banks (commercial banking)"
          ],
          [
           "OHIO VALLEY BANC CORP",
           "State Commercial Banks (commercial banking)"
          ],
          [
           "CVB FINANCIAL CORP",
           "State Commercial Banks (commercial banking)"
          ],
          [
           "BANK OF NEW YORK MELLON CORP",
           "State Commercial Banks (commercial banking)"
          ],
          [
           "TWO RIVER BANCORP",
           "State Commercial Banks (commercial banking)"
          ],
          [
           "STEWARDSHIP FINANCIAL CORP",
           "State Commercial Banks (commercial banking)"
          ],
          [
           "LAKELAND FINANCIAL CORP",
           "State Commercial Banks (commercial banking)"
          ],
          [
           "FAUQUIER BANKSHARES, INC.",
           "State Commercial Banks (commercial banking)"
          ],
          [
           "LIVE OAK BANCSHARES, INC.",
           "State Commercial Banks (commercial banking)"
          ],
          [
           "M&T BANK CORP",
           "State Commercial Banks (commercial banking)"
          ],
          [
           "INTERNATIONAL BANCSHARES CORP",
           "State Commercial Banks (commercial banking)"
          ],
          [
           "SUMMIT FINANCIAL GROUP INC",
           "State Commercial Banks (commercial banking)"
          ],
          [
           "SUSSEX BANCORP",
           "State Commercial Banks (commercial banking)"
          ],
          [
           "PRIME MERIDIAN HOLDING CO",
           "State Commercial Banks (commercial banking)"
          ],
          [
           "BANKWELL FINANCIAL GROUP, INC.",
           "State Commercial Banks (commercial banking)"
          ],
          [
           "SOUTHWEST GEORGIA FINANCIAL CORP",
           "State Commercial Banks (commercial banking)"
          ],
          [
           "BANK OF COMMERCE HOLDINGS",
           "State Commercial Banks (commercial banking)"
          ],
          [
           "BANK OF COMMERCE HOLDINGS",
           "State Commercial Banks (commercial banking)"
          ],
          [
           "UNITED BANCORP INC /OH/",
           "State Commercial Banks (commercial banking)"
          ],
          [
           "PARKWAY ACQUISITION CORP.",
           "State Commercial Banks (commercial banking)"
          ],
          [
           "INVESTAR HOLDING CORP",
           "State Commercial Banks (commercial banking)"
          ],
          [
           "RENASANT CORP",
           "State Commercial Banks (commercial banking)"
          ],
          [
           "RELIANT BANCORP, INC.",
           "State Commercial Banks (commercial banking)"
          ],
          [
           "FIRST COMMUNITY CORP /SC/",
           "State Commercial Banks (commercial banking)"
          ],
          [
           "FIRST FINANCIAL NORTHWEST, INC.",
           "State Commercial Banks (commercial banking)"
          ],
          [
           "COMMERCE BANCSHARES INC /MO/",
           "State Commercial Banks (commercial banking)"
          ],
          [
           "JUNIATA VALLEY FINANCIAL CORP",
           "State Commercial Banks (commercial banking)"
          ],
          [
           "HOWARD BANCORP INC",
           "State Commercial Banks (commercial banking)"
          ],
          [
           "EAGLE FINANCIAL SERVICES INC",
           "State Commercial Banks (commercial banking)"
          ],
          [
           "MVB FINANCIAL CORP",
           "State Commercial Banks (commercial banking)"
          ],
          [
           "INDEPENDENT BANK GROUP, INC.",
           "State Commercial Banks (commercial banking)"
          ],
          [
           "CONNECTONE BANCORP, INC.",
           "State Commercial Banks (commercial banking)"
          ],
          [
           "REPUBLIC BANCORP INC /KY/",
           "State Commercial Banks (commercial banking)"
          ],
          [
           "SOUTHSIDE BANCSHARES INC",
           "State Commercial Banks (commercial banking)"
          ],
          [
           "FIRST HAWAIIAN, INC.",
           "State Commercial Banks (commercial banking)"
          ],
          [
           "FIRST US BANCSHARES INC",
           "State Commercial Banks (commercial banking)"
          ],
          [
           "COMMUNITY FINANCIAL CORP /MD/",
           "State Commercial Banks (commercial banking)"
          ],
          [
           "BANNER CORP",
           "State Commercial Banks (commercial banking)"
          ],
          [
           "SVB FINANCIAL GROUP",
           "State Commercial Banks (commercial banking)"
          ],
          [
           "CATHAY GENERAL BANCORP",
           "State Commercial Banks (commercial banking)"
          ],
          [
           "BANK OF THE JAMES FINANCIAL GROUP INC",
           "State Commercial Banks (commercial banking)"
          ],
          [
           "FLUSHING FINANCIAL CORP",
           "State Commercial Banks (commercial banking)"
          ],
          [
           "FRANKLIN FINANCIAL SERVICES CORP /PA/",
           "State Commercial Banks (commercial banking)"
          ],
          [
           "CENTRAL PACIFIC FINANCIAL CORP",
           "State Commercial Banks (commercial banking)"
          ],
          [
           "CENTRAL PACIFIC FINANCIAL CORP",
           "State Commercial Banks (commercial banking)"
          ],
          [
           "CENTRAL VALLEY COMMUNITY BANCORP",
           "State Commercial Banks (commercial banking)"
          ],
          [
           "F&M BANK CORP",
           "State Commercial Banks (commercial banking)"
          ],
          [
           "FARMERS NATIONAL BANC CORP /OH/",
           "State Commercial Banks (commercial banking)"
          ],
          [
           "CITIZENS & NORTHERN CORP",
           "State Commercial Banks (commercial banking)"
          ],
          [
           "GUARANTY FEDERAL BANCSHARES INC",
           "State Commercial Banks (commercial banking)"
          ],
          [
           "CAROLINA FINANCIAL CORP",
           "State Commercial Banks (commercial banking)"
          ],
          [
           "FIRST INTERNET BANCORP",
           "State Commercial Banks (commercial banking)"
          ],
          [
           "HARBORONE BANCORP, INC.",
           "State Commercial Banks (commercial banking)"
          ],
          [
           "UNITED BANKSHARES INC/WV",
           "State Commercial Banks (commercial banking)"
          ],
          [
           "INDEPENDENT BANK CORP",
           "State Commercial Banks (commercial banking)"
          ],
          [
           "CITIZENS FINANCIAL SERVICES INC",
           "State Commercial Banks (commercial banking)"
          ],
          [
           "NORWOOD FINANCIAL CORP",
           "State Commercial Banks (commercial banking)"
          ],
          [
           "WEST BANCORPORATION INC",
           "State Commercial Banks (commercial banking)"
          ],
          [
           "CUSTOMERS BANCORP, INC.",
           "State Commercial Banks (commercial banking)"
          ],
          [
           "WEST END INDIANA BANCSHARES, INC.",
           "State Commercial Banks (commercial banking)"
          ],
          [
           "ATLANTIC CAPITAL BANCSHARES, INC.",
           "State Commercial Banks (commercial banking)"
          ],
          [
           "IBERIABANK CORP",
           "State Commercial Banks (commercial banking)"
          ],
          [
           "MERCANTILE BANK CORP",
           "State Commercial Banks (commercial banking)"
          ],
          [
           "GERMAN AMERICAN BANCORP, INC.",
           "State Commercial Banks (commercial banking)"
          ],
          [
           "S&T BANCORP INC",
           "State Commercial Banks (commercial banking)"
          ],
          [
           "HILLTOP HOLDINGS INC.",
           "State Commercial Banks (commercial banking)"
          ],
          [
           "CB FINANCIAL SERVICES, INC.",
           "State Commercial Banks (commercial banking)"
          ],
          [
           "ENTERPRISE FINANCIAL SERVICES CORP",
           "State Commercial Banks (commercial banking)"
          ],
          [
           "AUBURN NATIONAL BANCORPORATION, INC",
           "State Commercial Banks (commercial banking)"
          ],
          [
           "FIRST KEYSTONE CORP",
           "State Commercial Banks (commercial banking)"
          ],
          [
           "TEXAS CAPITAL BANCSHARES INC/TX",
           "State Commercial Banks (commercial banking)"
          ],
          [
           "VILLAGE BANK & TRUST FINANCIAL CORP.",
           "State Commercial Banks (commercial banking)"
          ],
          [
           "STOCK YARDS BANCORP, INC.",
           "State Commercial Banks (commercial banking)"
          ],
          [
           "BUSINESS FIRST BANCSHARES, INC.",
           "State Commercial Banks (commercial banking)"
          ]
         ],
         "hovertemplate": "color=State Commercial Banks (commercial banking)<br>0=%{x}<br>1=%{y}<br>2=%{z}<br>name=%{customdata[0]}<br>industry=%{customdata[1]}<extra></extra>",
         "legendgroup": "State Commercial Banks (commercial banking)",
         "marker": {
          "color": "#FFA15A",
          "symbol": "circle"
         },
         "mode": "markers",
         "name": "State Commercial Banks (commercial banking)",
         "scene": "scene",
         "showlegend": true,
         "type": "scatter3d",
         "x": [
          0.567478181857535,
          0.5085795058804088,
          0.4191285302119418,
          0.6333840496291118,
          0.5778981682148923,
          0.621997836636398,
          0.5693434536708453,
          0.3089058792175569,
          0.5261838774243781,
          0.5193351210708137,
          0.5193351210708137,
          0.012632031914587123,
          0.6232506003669642,
          0.6106943697812398,
          0.5709179845161345,
          0.5364737709280833,
          0.4861403422065157,
          0.6119849779070403,
          0.5732983061035177,
          0.5672701650732014,
          0.5772384859775643,
          0.5772384859775643,
          0.5461570256801915,
          0.6275374958385026,
          0.5291013518537129,
          0.6224765963636012,
          0.28066865752680636,
          0.6145907607332707,
          0.5858271138690011,
          0.592751432285628,
          0.4787871703085275,
          0.6136609331491796,
          0.5156144649643157,
          0.5857670599080442,
          0.5518097360989834,
          0.614601670056946,
          0.6132003883026448,
          0.6070849129312509,
          0.53396533297355,
          0.36416589799523036,
          0.455167360164777,
          0.07006496322387547,
          0.6322261013159259,
          0.5645376450369948,
          0.5510286308702345,
          0.09619416823801988,
          0.5105386931925103,
          0.5722057960171594,
          0.5977204378688684,
          0.6284233312790235,
          0.6143224963863794,
          0.538718053418755,
          0.5742632622472518,
          0.4984540199031461,
          0.5600712228304351,
          0.5857116503585764,
          0.5937949639673423,
          0.4618381235436155,
          0.5947910863136321,
          0.5947910863136321,
          0.5566120914002431,
          0.5986764070459214,
          0.6505695304494222,
          0.6039222180313524,
          0.5676033032457056,
          0.6322831376071808,
          0.5160752064071281,
          0.5721188035313804,
          0.5597209213818228,
          0.2685498379375611,
          0.5866682348411315,
          0.5629385948145511,
          0.6220402660162412,
          0.5763584743642505,
          0.45922845094991027,
          0.5882745073714986,
          0.6056475843956012,
          0.5344945382383202,
          0.47754237048310777,
          -0.014283446473278094,
          0.5416425220117569,
          0.5824621868202352,
          0.5926427121195144,
          0.4037259864752541,
          0.5988682969375264,
          0.6193209484189152,
          0.6193209484189152,
          0.6126640223388184,
          0.008732497640596337,
          0.5360106518803047,
          0.2197886287635399,
          0.5219975205394813,
          0.6422150256828839,
          0.5919811967751617,
          0.593781591493194,
          0.5718041884887907,
          0.4670981789389352,
          0.5593720776657242,
          0.588510657687156,
          0.5909456485881006,
          0.5720047800621538,
          0.45112637978749254,
          0.630815809792618,
          0.5901177249362763,
          0.5280323894828337,
          0.5313234497349014,
          0.2025021087668711,
          0.5759753485238984,
          0.39554553039543505,
          0.07691154058443339,
          0.616818071310694,
          0.5214460937850054,
          0.5670267858748971,
          0.6092776701845616,
          0.4931646082186296,
          0.65920381897674
         ],
         "y": [
          0.4507195199235631,
          0.30871132535261525,
          0.06359152178697625,
          0.507375347939137,
          0.41510903694472573,
          0.5335225363707107,
          0.47669407842258876,
          0.09944274697688606,
          0.35536633733240086,
          0.4644042867045443,
          0.4644042867045443,
          -0.09894981228882128,
          0.494462443965638,
          0.44662095476407326,
          0.40977897238336736,
          0.444247013800057,
          0.2429684739410686,
          0.5057228213902052,
          0.404793070670716,
          0.43425534108555025,
          0.4107866963525328,
          0.4107866963525328,
          0.45258006774977594,
          0.40578345520424225,
          0.21373929842204248,
          0.501007235039025,
          0.00770307966791105,
          0.41998890590048177,
          0.5100358266452544,
          0.49808444758415693,
          0.39942028503955507,
          0.4428088718174658,
          0.29452210718456184,
          0.495391357087185,
          0.42140319801575005,
          0.4991025160883507,
          0.4755315750517712,
          0.39980114715497117,
          0.2831508661902404,
          0.24136960214575048,
          0.13883498799625962,
          -0.0734560533812552,
          0.4642878925991089,
          0.3894185498801853,
          0.4060733366990945,
          -0.0347900153208199,
          0.3046305695437805,
          0.48804822911535617,
          0.4977268177284026,
          0.4732444304696545,
          0.5171875823933588,
          0.42673158400545397,
          0.5006515452551816,
          0.372526543891115,
          0.4900815088690413,
          0.39487104154178587,
          0.40990817049343903,
          0.29883038898451836,
          0.49651721922769176,
          0.49651721922769176,
          0.4047045475398018,
          0.5049330969649712,
          0.47340602182107366,
          0.3524941820988829,
          0.49626250781156256,
          0.5189477431700327,
          0.1877921456481426,
          0.48644266749639953,
          0.4237552869881777,
          -0.04839507557925568,
          0.48739952142045323,
          0.4438229636107752,
          0.5037887847013133,
          0.4690975307132786,
          0.27509209998211914,
          0.4945396920966364,
          0.510823675389161,
          0.4350414679566935,
          0.21125338103554842,
          -0.047246916884780076,
          0.47252381140195315,
          0.4152136903841804,
          0.4851440212351421,
          0.09531898787943682,
          0.3978211644976991,
          0.45966296159279635,
          0.45966296159279635,
          0.485441140924439,
          -0.0490628560006202,
          0.4422841931030483,
          0.11650919727581362,
          0.266393515923877,
          0.48572830859168176,
          0.4779153579418558,
          0.36179886891293045,
          0.36479238059735963,
          0.1484723682655303,
          0.46829506521814607,
          0.40123227080818036,
          0.49673672157155635,
          0.4554009263579535,
          0.19198488033299038,
          0.46503082362676024,
          0.49224597474030024,
          0.29382624080210484,
          0.4192952262784855,
          0.1246676778827356,
          0.4480437357253245,
          0.08820140780365425,
          -0.03129678691254557,
          0.5260692880612967,
          0.42819870209588073,
          0.47733605660554507,
          0.4860167988841197,
          0.4086776078915632,
          0.4870147461871386
         ],
         "z": [
          0.07439729068676747,
          0.03384689777226579,
          -0.14884790656276295,
          0.07197060051885673,
          0.03451108895226493,
          0.10168055855916736,
          0.09976568994268625,
          -0.04799421083689509,
          0.04046395999536339,
          0.11604300181970818,
          0.11604300181970818,
          0.01894908285481671,
          0.06643756394592756,
          0.03752262753448236,
          0.053336446597796974,
          0.089717420490505,
          -0.05060077344061905,
          0.08850062645040181,
          0.027322800972443797,
          0.06432538796592496,
          0.03666576459788151,
          0.03666576459788151,
          0.09406464182211254,
          -0.010976474986750527,
          -0.09410570789309575,
          0.07427090391789429,
          -0.0746837086108609,
          0.019712515972275094,
          0.11248055573265524,
          0.09670192518546146,
          0.08662863421398548,
          0.03379872601048545,
          -0.02414060156373812,
          0.09221029546862665,
          0.054533217238699735,
          0.08216747196725627,
          0.061265776027142116,
          0.0040381420925099595,
          -0.04164953129759119,
          0.03933308169350004,
          -0.11648979648688051,
          -0.006690999277845034,
          0.043846757244996495,
          0.03659779658896756,
          0.05556972880384889,
          -0.02248908866086535,
          -0.011162714767830421,
          0.09813182331455624,
          0.08490805727867952,
          0.050715505106390335,
          0.097117041262071,
          0.07069040175023178,
          0.11151483205401308,
          0.04909802806685906,
          0.11067139448234162,
          0.0064675371267250755,
          0.017778758727721722,
          0.024860909408191773,
          0.0961524961681415,
          0.0961524961681415,
          0.03888436224027509,
          0.09532201527933756,
          0.037623302165247764,
          -0.02875380444403495,
          0.10677545045511205,
          0.08482504566584004,
          -0.10707017115865577,
          0.09306619779967655,
          0.06311467995121181,
          -0.09202929177922935,
          0.09360082987808917,
          0.0667318090499776,
          0.08357262045070359,
          0.07654089687524677,
          0.0080325498777263,
          0.11080332212912224,
          0.09728856372782149,
          0.08024875755654759,
          -0.0421708200508309,
          0.041409234797967036,
          0.10862697108328101,
          0.04796361445059322,
          0.07930983555262637,
          -0.11132975074450138,
          0.00432466392628652,
          0.05281045143701168,
          0.05281045143701168,
          0.07860670358336823,
          0.02799239401140142,
          0.09319198233025072,
          0.01307499879704763,
          -0.04874244473113704,
          0.049411854373625684,
          0.07455513848706694,
          -0.024115746228937328,
          0.05537883577267213,
          -0.12243455095707564,
          0.11348766739826839,
          0.020419197954797352,
          0.09099938348457219,
          0.06817367962835982,
          -0.06497749958095189,
          0.04503643280492169,
          0.0981819718853894,
          -0.0364547081528122,
          0.06624398020883261,
          0.04369140854082527,
          0.06815362081439033,
          -0.08636225215325742,
          0.0033437415462470414,
          0.10280966177459906,
          0.08321587442347946,
          0.10243797508937157,
          0.07267008647923912,
          0.08082571257014678,
          0.04058695306889481
         ]
        }
       ],
       "layout": {
        "height": 700,
        "legend": {
         "orientation": "h",
         "title": {
          "text": "color"
         },
         "tracegroupgap": 0,
         "x": 0.5,
         "xanchor": "center",
         "y": -0.25,
         "yanchor": "bottom"
        },
        "margin": {
         "t": 60
        },
        "scene": {
         "aspectmode": "auto",
         "aspectratio": {
          "x": 1.1280026062008002,
          "y": 0.8296768508401584,
          "z": 1.068515740219092
         },
         "camera": {
          "center": {
           "x": 0,
           "y": 0,
           "z": 0
          },
          "eye": {
           "x": 1.0868051207338725,
           "y": 1.0868051207338723,
           "z": 1.086805120733872
          },
          "projection": {
           "type": "perspective"
          },
          "up": {
           "x": 0.0025223308831945302,
           "y": -0.0025159846970175224,
           "z": 0.999993653813823
          }
         },
         "domain": {
          "x": [
           0,
           1
          ],
          "y": [
           0,
           1
          ]
         },
         "xaxis": {
          "title": {
           "text": "0"
          },
          "type": "linear"
         },
         "yaxis": {
          "title": {
           "text": "1"
          },
          "type": "linear"
         },
         "zaxis": {
          "title": {
           "text": "2"
          },
          "type": "linear"
         }
        },
        "template": {
         "data": {
          "bar": [
           {
            "error_x": {
             "color": "#2a3f5f"
            },
            "error_y": {
             "color": "#2a3f5f"
            },
            "marker": {
             "line": {
              "color": "#E5ECF6",
              "width": 0.5
             },
             "pattern": {
              "fillmode": "overlay",
              "size": 10,
              "solidity": 0.2
             }
            },
            "type": "bar"
           }
          ],
          "barpolar": [
           {
            "marker": {
             "line": {
              "color": "#E5ECF6",
              "width": 0.5
             },
             "pattern": {
              "fillmode": "overlay",
              "size": 10,
              "solidity": 0.2
             }
            },
            "type": "barpolar"
           }
          ],
          "carpet": [
           {
            "aaxis": {
             "endlinecolor": "#2a3f5f",
             "gridcolor": "white",
             "linecolor": "white",
             "minorgridcolor": "white",
             "startlinecolor": "#2a3f5f"
            },
            "baxis": {
             "endlinecolor": "#2a3f5f",
             "gridcolor": "white",
             "linecolor": "white",
             "minorgridcolor": "white",
             "startlinecolor": "#2a3f5f"
            },
            "type": "carpet"
           }
          ],
          "choropleth": [
           {
            "colorbar": {
             "outlinewidth": 0,
             "ticks": ""
            },
            "type": "choropleth"
           }
          ],
          "contour": [
           {
            "colorbar": {
             "outlinewidth": 0,
             "ticks": ""
            },
            "colorscale": [
             [
              0,
              "#0d0887"
             ],
             [
              0.1111111111111111,
              "#46039f"
             ],
             [
              0.2222222222222222,
              "#7201a8"
             ],
             [
              0.3333333333333333,
              "#9c179e"
             ],
             [
              0.4444444444444444,
              "#bd3786"
             ],
             [
              0.5555555555555556,
              "#d8576b"
             ],
             [
              0.6666666666666666,
              "#ed7953"
             ],
             [
              0.7777777777777778,
              "#fb9f3a"
             ],
             [
              0.8888888888888888,
              "#fdca26"
             ],
             [
              1,
              "#f0f921"
             ]
            ],
            "type": "contour"
           }
          ],
          "contourcarpet": [
           {
            "colorbar": {
             "outlinewidth": 0,
             "ticks": ""
            },
            "type": "contourcarpet"
           }
          ],
          "heatmap": [
           {
            "colorbar": {
             "outlinewidth": 0,
             "ticks": ""
            },
            "colorscale": [
             [
              0,
              "#0d0887"
             ],
             [
              0.1111111111111111,
              "#46039f"
             ],
             [
              0.2222222222222222,
              "#7201a8"
             ],
             [
              0.3333333333333333,
              "#9c179e"
             ],
             [
              0.4444444444444444,
              "#bd3786"
             ],
             [
              0.5555555555555556,
              "#d8576b"
             ],
             [
              0.6666666666666666,
              "#ed7953"
             ],
             [
              0.7777777777777778,
              "#fb9f3a"
             ],
             [
              0.8888888888888888,
              "#fdca26"
             ],
             [
              1,
              "#f0f921"
             ]
            ],
            "type": "heatmap"
           }
          ],
          "heatmapgl": [
           {
            "colorbar": {
             "outlinewidth": 0,
             "ticks": ""
            },
            "colorscale": [
             [
              0,
              "#0d0887"
             ],
             [
              0.1111111111111111,
              "#46039f"
             ],
             [
              0.2222222222222222,
              "#7201a8"
             ],
             [
              0.3333333333333333,
              "#9c179e"
             ],
             [
              0.4444444444444444,
              "#bd3786"
             ],
             [
              0.5555555555555556,
              "#d8576b"
             ],
             [
              0.6666666666666666,
              "#ed7953"
             ],
             [
              0.7777777777777778,
              "#fb9f3a"
             ],
             [
              0.8888888888888888,
              "#fdca26"
             ],
             [
              1,
              "#f0f921"
             ]
            ],
            "type": "heatmapgl"
           }
          ],
          "histogram": [
           {
            "marker": {
             "pattern": {
              "fillmode": "overlay",
              "size": 10,
              "solidity": 0.2
             }
            },
            "type": "histogram"
           }
          ],
          "histogram2d": [
           {
            "colorbar": {
             "outlinewidth": 0,
             "ticks": ""
            },
            "colorscale": [
             [
              0,
              "#0d0887"
             ],
             [
              0.1111111111111111,
              "#46039f"
             ],
             [
              0.2222222222222222,
              "#7201a8"
             ],
             [
              0.3333333333333333,
              "#9c179e"
             ],
             [
              0.4444444444444444,
              "#bd3786"
             ],
             [
              0.5555555555555556,
              "#d8576b"
             ],
             [
              0.6666666666666666,
              "#ed7953"
             ],
             [
              0.7777777777777778,
              "#fb9f3a"
             ],
             [
              0.8888888888888888,
              "#fdca26"
             ],
             [
              1,
              "#f0f921"
             ]
            ],
            "type": "histogram2d"
           }
          ],
          "histogram2dcontour": [
           {
            "colorbar": {
             "outlinewidth": 0,
             "ticks": ""
            },
            "colorscale": [
             [
              0,
              "#0d0887"
             ],
             [
              0.1111111111111111,
              "#46039f"
             ],
             [
              0.2222222222222222,
              "#7201a8"
             ],
             [
              0.3333333333333333,
              "#9c179e"
             ],
             [
              0.4444444444444444,
              "#bd3786"
             ],
             [
              0.5555555555555556,
              "#d8576b"
             ],
             [
              0.6666666666666666,
              "#ed7953"
             ],
             [
              0.7777777777777778,
              "#fb9f3a"
             ],
             [
              0.8888888888888888,
              "#fdca26"
             ],
             [
              1,
              "#f0f921"
             ]
            ],
            "type": "histogram2dcontour"
           }
          ],
          "mesh3d": [
           {
            "colorbar": {
             "outlinewidth": 0,
             "ticks": ""
            },
            "type": "mesh3d"
           }
          ],
          "parcoords": [
           {
            "line": {
             "colorbar": {
              "outlinewidth": 0,
              "ticks": ""
             }
            },
            "type": "parcoords"
           }
          ],
          "pie": [
           {
            "automargin": true,
            "type": "pie"
           }
          ],
          "scatter": [
           {
            "fillpattern": {
             "fillmode": "overlay",
             "size": 10,
             "solidity": 0.2
            },
            "type": "scatter"
           }
          ],
          "scatter3d": [
           {
            "line": {
             "colorbar": {
              "outlinewidth": 0,
              "ticks": ""
             }
            },
            "marker": {
             "colorbar": {
              "outlinewidth": 0,
              "ticks": ""
             }
            },
            "type": "scatter3d"
           }
          ],
          "scattercarpet": [
           {
            "marker": {
             "colorbar": {
              "outlinewidth": 0,
              "ticks": ""
             }
            },
            "type": "scattercarpet"
           }
          ],
          "scattergeo": [
           {
            "marker": {
             "colorbar": {
              "outlinewidth": 0,
              "ticks": ""
             }
            },
            "type": "scattergeo"
           }
          ],
          "scattergl": [
           {
            "marker": {
             "colorbar": {
              "outlinewidth": 0,
              "ticks": ""
             }
            },
            "type": "scattergl"
           }
          ],
          "scattermapbox": [
           {
            "marker": {
             "colorbar": {
              "outlinewidth": 0,
              "ticks": ""
             }
            },
            "type": "scattermapbox"
           }
          ],
          "scatterpolar": [
           {
            "marker": {
             "colorbar": {
              "outlinewidth": 0,
              "ticks": ""
             }
            },
            "type": "scatterpolar"
           }
          ],
          "scatterpolargl": [
           {
            "marker": {
             "colorbar": {
              "outlinewidth": 0,
              "ticks": ""
             }
            },
            "type": "scatterpolargl"
           }
          ],
          "scatterternary": [
           {
            "marker": {
             "colorbar": {
              "outlinewidth": 0,
              "ticks": ""
             }
            },
            "type": "scatterternary"
           }
          ],
          "surface": [
           {
            "colorbar": {
             "outlinewidth": 0,
             "ticks": ""
            },
            "colorscale": [
             [
              0,
              "#0d0887"
             ],
             [
              0.1111111111111111,
              "#46039f"
             ],
             [
              0.2222222222222222,
              "#7201a8"
             ],
             [
              0.3333333333333333,
              "#9c179e"
             ],
             [
              0.4444444444444444,
              "#bd3786"
             ],
             [
              0.5555555555555556,
              "#d8576b"
             ],
             [
              0.6666666666666666,
              "#ed7953"
             ],
             [
              0.7777777777777778,
              "#fb9f3a"
             ],
             [
              0.8888888888888888,
              "#fdca26"
             ],
             [
              1,
              "#f0f921"
             ]
            ],
            "type": "surface"
           }
          ],
          "table": [
           {
            "cells": {
             "fill": {
              "color": "#EBF0F8"
             },
             "line": {
              "color": "white"
             }
            },
            "header": {
             "fill": {
              "color": "#C8D4E3"
             },
             "line": {
              "color": "white"
             }
            },
            "type": "table"
           }
          ]
         },
         "layout": {
          "annotationdefaults": {
           "arrowcolor": "#2a3f5f",
           "arrowhead": 0,
           "arrowwidth": 1
          },
          "autotypenumbers": "strict",
          "coloraxis": {
           "colorbar": {
            "outlinewidth": 0,
            "ticks": ""
           }
          },
          "colorscale": {
           "diverging": [
            [
             0,
             "#8e0152"
            ],
            [
             0.1,
             "#c51b7d"
            ],
            [
             0.2,
             "#de77ae"
            ],
            [
             0.3,
             "#f1b6da"
            ],
            [
             0.4,
             "#fde0ef"
            ],
            [
             0.5,
             "#f7f7f7"
            ],
            [
             0.6,
             "#e6f5d0"
            ],
            [
             0.7,
             "#b8e186"
            ],
            [
             0.8,
             "#7fbc41"
            ],
            [
             0.9,
             "#4d9221"
            ],
            [
             1,
             "#276419"
            ]
           ],
           "sequential": [
            [
             0,
             "#0d0887"
            ],
            [
             0.1111111111111111,
             "#46039f"
            ],
            [
             0.2222222222222222,
             "#7201a8"
            ],
            [
             0.3333333333333333,
             "#9c179e"
            ],
            [
             0.4444444444444444,
             "#bd3786"
            ],
            [
             0.5555555555555556,
             "#d8576b"
            ],
            [
             0.6666666666666666,
             "#ed7953"
            ],
            [
             0.7777777777777778,
             "#fb9f3a"
            ],
            [
             0.8888888888888888,
             "#fdca26"
            ],
            [
             1,
             "#f0f921"
            ]
           ],
           "sequentialminus": [
            [
             0,
             "#0d0887"
            ],
            [
             0.1111111111111111,
             "#46039f"
            ],
            [
             0.2222222222222222,
             "#7201a8"
            ],
            [
             0.3333333333333333,
             "#9c179e"
            ],
            [
             0.4444444444444444,
             "#bd3786"
            ],
            [
             0.5555555555555556,
             "#d8576b"
            ],
            [
             0.6666666666666666,
             "#ed7953"
            ],
            [
             0.7777777777777778,
             "#fb9f3a"
            ],
            [
             0.8888888888888888,
             "#fdca26"
            ],
            [
             1,
             "#f0f921"
            ]
           ]
          },
          "colorway": [
           "#636efa",
           "#EF553B",
           "#00cc96",
           "#ab63fa",
           "#FFA15A",
           "#19d3f3",
           "#FF6692",
           "#B6E880",
           "#FF97FF",
           "#FECB52"
          ],
          "font": {
           "color": "#2a3f5f"
          },
          "geo": {
           "bgcolor": "white",
           "lakecolor": "white",
           "landcolor": "#E5ECF6",
           "showlakes": true,
           "showland": true,
           "subunitcolor": "white"
          },
          "hoverlabel": {
           "align": "left"
          },
          "hovermode": "closest",
          "mapbox": {
           "style": "light"
          },
          "paper_bgcolor": "white",
          "plot_bgcolor": "#E5ECF6",
          "polar": {
           "angularaxis": {
            "gridcolor": "white",
            "linecolor": "white",
            "ticks": ""
           },
           "bgcolor": "#E5ECF6",
           "radialaxis": {
            "gridcolor": "white",
            "linecolor": "white",
            "ticks": ""
           }
          },
          "scene": {
           "xaxis": {
            "backgroundcolor": "#E5ECF6",
            "gridcolor": "white",
            "gridwidth": 2,
            "linecolor": "white",
            "showbackground": true,
            "ticks": "",
            "zerolinecolor": "white"
           },
           "yaxis": {
            "backgroundcolor": "#E5ECF6",
            "gridcolor": "white",
            "gridwidth": 2,
            "linecolor": "white",
            "showbackground": true,
            "ticks": "",
            "zerolinecolor": "white"
           },
           "zaxis": {
            "backgroundcolor": "#E5ECF6",
            "gridcolor": "white",
            "gridwidth": 2,
            "linecolor": "white",
            "showbackground": true,
            "ticks": "",
            "zerolinecolor": "white"
           }
          },
          "shapedefaults": {
           "line": {
            "color": "#2a3f5f"
           }
          },
          "ternary": {
           "aaxis": {
            "gridcolor": "white",
            "linecolor": "white",
            "ticks": ""
           },
           "baxis": {
            "gridcolor": "white",
            "linecolor": "white",
            "ticks": ""
           },
           "bgcolor": "#E5ECF6",
           "caxis": {
            "gridcolor": "white",
            "linecolor": "white",
            "ticks": ""
           }
          },
          "title": {
           "x": 0.05
          },
          "xaxis": {
           "automargin": true,
           "gridcolor": "white",
           "linecolor": "white",
           "ticks": "",
           "title": {
            "standoff": 15
           },
           "zerolinecolor": "white",
           "zerolinewidth": 2
          },
          "yaxis": {
           "automargin": true,
           "gridcolor": "white",
           "linecolor": "white",
           "ticks": "",
           "title": {
            "standoff": 15
           },
           "zerolinecolor": "white",
           "zerolinewidth": 2
          }
         }
        },
        "width": 1100
       }
      },
      "image/png": "[encoded data removed]",
      "text/html": [
       "<div>                            <div id=\"93ebaa7a-1b70-4ef3-8d4b-22beae48417a\" class=\"plotly-graph-div\" style=\"height:700px; width:1100px;\"></div>            <script type=\"text/javascript\">                require([\"plotly\"], function(Plotly) {                    window.PLOTLYENV=window.PLOTLYENV || {};                                    if (document.getElementById(\"93ebaa7a-1b70-4ef3-8d4b-22beae48417a\")) {                    Plotly.newPlot(                        \"93ebaa7a-1b70-4ef3-8d4b-22beae48417a\",                        [{\"customdata\":[[\"MONGODB, INC.\",\"Prepackaged Software (mass reproduction of software)\"],[\"SALESFORCE COM INC\",\"Prepackaged Software (mass reproduction of software)\"],[\"SPLUNK INC\",\"Prepackaged Software (mass reproduction of software)\"],[\"OKTA, INC.\",\"Prepackaged Software (mass reproduction of software)\"],[\"VEEVA SYSTEMS INC\",\"Prepackaged Software (mass reproduction of software)\"],[\"AUTODESK INC\",\"Prepackaged Software (mass reproduction of software)\"],[\"ETERNAL SPEECH, INC.\",\"Prepackaged Software (mass reproduction of software)\"],[\"ETERNAL SPEECH, INC.\",\"Prepackaged Software (mass reproduction of software)\"],[\"MAJESCO\",\"Prepackaged Software (mass reproduction of software)\"],[\"DUO WORLD INC\",\"Prepackaged Software (mass reproduction of software)\"],[\"COMMVAULT SYSTEMS INC\",\"Prepackaged Software (mass reproduction of software)\"],[\"UPPERSOLUTION.COM\",\"Prepackaged Software (mass reproduction of software)\"],[\"ORACLE CORP\",\"Prepackaged Software (mass reproduction of software)\"],[\"SAVMOBI TECHNOLOGY INC.\",\"Prepackaged Software (mass reproduction of software)\"],[\"ZEDGE, INC.\",\"Prepackaged Software (mass reproduction of software)\"],[\"DESTINY MEDIA TECHNOLOGIES INC\",\"Prepackaged Software (mass reproduction of software)\"],[\"TRAQER CORP\",\"Prepackaged Software (mass reproduction of software)\"],[\"VISIBER57 CORP.\",\"Prepackaged Software (mass reproduction of software)\"],[\"GH CAPITAL INC.\",\"Prepackaged Software (mass reproduction of software)\"],[\"BRIDGELINE DIGITAL, INC.\",\"Prepackaged Software (mass reproduction of software)\"],[\"NUANCE COMMUNICATIONS, INC.\",\"Prepackaged Software (mass reproduction of software)\"],[\"DATAWATCH CORP\",\"Prepackaged Software (mass reproduction of software)\"],[\"POLARITYTE, INC.\",\"Prepackaged Software (mass reproduction of software)\"],[\"POLARITYTE, INC.\",\"Prepackaged Software (mass reproduction of software)\"],[\"VGRAB COMMUNICATIONS INC.\",\"Prepackaged Software (mass reproduction of software)\"],[\"VGRAB COMMUNICATIONS INC.\",\"Prepackaged Software (mass reproduction of software)\"],[\"ADAIAH DISTRIBUTION INC\",\"Prepackaged Software (mass reproduction of software)\"],[\"ADAIAH DISTRIBUTION INC\",\"Prepackaged Software (mass reproduction of software)\"],[\"PROGRESS SOFTWARE CORP /MA\",\"Prepackaged Software (mass reproduction of software)\"],[\"MEDICAL INFORMATION TECHNOLOGY, INC.\",\"Prepackaged Software (mass reproduction of software)\"],[\"SPS COMMERCE INC\",\"Prepackaged Software (mass reproduction of software)\"],[\"ALTERYX, INC.\",\"Prepackaged Software (mass reproduction of software)\"],[\"INTELLIGENT SYSTEMS CORP\",\"Prepackaged Software (mass reproduction of software)\"],[\"ALARM.COM HOLDINGS, INC.\",\"Prepackaged Software (mass reproduction of software)\"],[\"LIGHTNING GAMING, INC.\",\"Prepackaged Software (mass reproduction of software)\"],[\"ENDURANCE INTERNATIONAL GROUP HOLDINGS, INC.\",\"Prepackaged Software (mass reproduction of software)\"],[\"2U, INC.\",\"Prepackaged Software (mass reproduction of software)\"],[\"CISION LTD.\",\"Prepackaged Software (mass reproduction of software)\"],[\"BTCS INC.\",\"Prepackaged Software (mass reproduction of software)\"],[\"BTCS INC.\",\"Prepackaged Software (mass reproduction of software)\"],[\"BTCS INC.\",\"Prepackaged Software (mass reproduction of software)\"],[\"INTELLICHECK, INC.\",\"Prepackaged Software (mass reproduction of software)\"],[\"REALPAGE INC\",\"Prepackaged Software (mass reproduction of software)\"],[\"Q2 HOLDINGS, INC.\",\"Prepackaged Software (mass reproduction of software)\"],[\"MCORPCX, INC.\",\"Prepackaged Software (mass reproduction of software)\"],[\"QUALYS, INC.\",\"Prepackaged Software (mass reproduction of software)\"],[\"MEDICAL TRANSCRIPTION BILLING, CORP\",\"Prepackaged Software (mass reproduction of software)\"],[\"SMITH MICRO SOFTWARE INC\",\"Prepackaged Software (mass reproduction of software)\"],[\"SHOTSPOTTER, INC\",\"Prepackaged Software (mass reproduction of software)\"],[\"LONGWEN GROUP CORP.\",\"Prepackaged Software (mass reproduction of software)\"],[\"ELLIE MAE INC\",\"Prepackaged Software (mass reproduction of software)\"],[\"ROSETTA STONE INC\",\"Prepackaged Software (mass reproduction of software)\"],[\"BLACK KNIGHT, INC.\",\"Prepackaged Software (mass reproduction of software)\"],[\"MICROSTRATEGY INC\",\"Prepackaged Software (mass reproduction of software)\"],[\"EMR TECHNOLOGY SOLUTIONS, INC.\",\"Prepackaged Software (mass reproduction of software)\"],[\"PAYCOM SOFTWARE, INC.\",\"Prepackaged Software (mass reproduction of software)\"],[\"3D SYSTEMS CORP\",\"Prepackaged Software (mass reproduction of software)\"],[\"APPIAN CORP\",\"Prepackaged Software (mass reproduction of software)\"],[\"UPLAND SOFTWARE, INC.\",\"Prepackaged Software (mass reproduction of software)\"],[\"LIVEPERSON INC\",\"Prepackaged Software (mass reproduction of software)\"],[\"AWARE INC /MA/\",\"Prepackaged Software (mass reproduction of software)\"],[\"ULTIMATE SOFTWARE GROUP INC\",\"Prepackaged Software (mass reproduction of software)\"],[\"ANSYS INC\",\"Prepackaged Software (mass reproduction of software)\"],[\"AVID TECHNOLOGY, INC.\",\"Prepackaged Software (mass reproduction of software)\"],[\"NATIONAL INSTRUMENTS CORP\",\"Prepackaged Software (mass reproduction of software)\"],[\"INSPRO TECHNOLOGIES CORP\",\"Prepackaged Software (mass reproduction of software)\"],[\"QUMU CORP\",\"Prepackaged Software (mass reproduction of software)\"],[\"ACI WORLDWIDE, INC.\",\"Prepackaged Software (mass reproduction of software)\"],[\"SQUARE, INC.\",\"Prepackaged Software (mass reproduction of software)\"],[\"ALTAIR ENGINEERING INC.\",\"Prepackaged Software (mass reproduction of software)\"],[\"TALEND SA\",\"Prepackaged Software (mass reproduction of software)\"],[\"APPFOLIO INC\",\"Prepackaged Software (mass reproduction of software)\"],[\"GSE SYSTEMS INC\",\"Prepackaged Software (mass reproduction of software)\"],[\"IPSIDY INC.\",\"Prepackaged Software (mass reproduction of software)\"],[\"INTELLINETICS, INC.\",\"Prepackaged Software (mass reproduction of software)\"],[\"INTELLINETICS, INC.\",\"Prepackaged Software (mass reproduction of software)\"],[\"IIOT-OXYS, INC.\",\"Prepackaged Software (mass reproduction of software)\"],[\"NEWGIOCO GROUP, INC.\",\"Prepackaged Software (mass reproduction of software)\"],[\"WORKIVA INC\",\"Prepackaged Software (mass reproduction of software)\"],[\"TABLEAU SOFTWARE INC\",\"Prepackaged Software (mass reproduction of software)\"]],\"hovertemplate\":\"color=Prepackaged Software (mass reproduction of software)<br>0=%{x}<br>1=%{y}<br>2=%{z}<br>name=%{customdata[0]}<br>industry=%{customdata[1]}<extra></extra>\",\"legendgroup\":\"Prepackaged Software (mass reproduction of software)\",\"marker\":{\"color\":\"#636efa\",\"symbol\":\"circle\"},\"mode\":\"markers\",\"name\":\"Prepackaged Software (mass reproduction of software)\",\"scene\":\"scene\",\"showlegend\":true,\"x\":[-0.08898937713306726,-0.021609906790454044,-0.048425271266171,-0.08850959250692716,0.006313932852060821,-0.057229208902906746,-0.013322836251161464,-0.013322836251161464,-0.01567430423878135,-0.043156980579877956,-0.0662501884562171,-0.058412273095123285,-0.009891943937656512,-0.0024806789622232074,-0.007023269201751469,-0.08390229127870236,0.0478156901952963,-0.0021173111229734185,0.012012382613462306,-0.033713821830963116,-0.045720198218397394,-0.034011060568648555,-0.34207141897230686,-0.34207141897230686,0.04865799504821164,0.04865799504821164,0.03443329799265777,0.03443329799265777,-0.03127621575143739,-0.03641931255949607,-0.0012882185893910002,-0.10411965415479783,0.024665818872866313,-0.032375689443579915,-0.07814868869816993,-0.05453489129749403,-0.018351070814382184,-0.05373447775335721,0.06920153566157604,0.06920153566157604,0.06920153566157604,0.011206668697579417,0.10482440843767633,0.04339833290198209,-0.022676671981945253,-0.07094765106324097,0.003976315264159174,-0.09282992802128369,-0.10170562203671386,0.038081728706965697,0.023998120627736316,-0.03877453030778394,0.21211960019447118,-0.031121272160104574,-0.10323672764867253,-0.04981221740193405,-0.011015208177383867,-0.050347961374903105,-0.025409326914672153,-0.09023224819536707,-0.06440710213849182,-0.014830355480477023,0.017211525460242946,-0.07455515172122593,-0.044455461617454,0.004165269319779241,-0.05471978378205432,0.0026298443208501677,-0.03539947640315238,-0.08486730203946212,-0.08000824998867455,0.10366818615171765,0.041231477197715125,-0.04730751021769797,0.03031506046225564,0.03031506046225564,-0.0921088631238819,-0.026824040555147737,-0.03267077099697832,-0.11655778779845256],\"y\":[-0.10697408611179222,-0.12067199449570377,-0.11716038143030366,-0.0954036657428221,-0.181254079448241,-0.07497791002380538,-0.06586281427701174,-0.06586281427701174,-0.17099482451685133,-0.1186855523000678,-0.0704230191486554,-0.12303923262230991,-0.09832936692603136,-0.14514031064479274,-0.06439514904530239,-0.06640365802349606,-0.06334029624836864,-0.09740525643102634,-0.08287460707435328,-0.1257943826457803,-0.08894379350565863,-0.09336838123386247,0.14131398372304438,0.14131398372304438,-0.08739322218545807,-0.08739322218545807,-0.16953537523820217,-0.16953537523820217,-0.13295701576371258,-0.08312694740612145,-0.12659333955674262,-0.07730605889343709,-0.1400048009500539,-0.06186757897937781,-0.04758159526887664,-0.14844535250452062,-0.10032745236977549,-0.10444187220182614,-0.09463441243637839,-0.09463441243637839,-0.09463441243637839,-0.06828139269367327,-0.25848336019224455,-0.010320006226569006,-0.17668209404861643,-0.09332527854330046,-0.14488702441666476,-0.06348431218857298,-0.11040694623030495,-0.15123835710471212,-0.08885297094933253,-0.1258969151063656,-0.11804359949446276,-0.12107701637744737,-0.016428505411291303,-0.14146921604778748,-0.07057013303233618,-0.08670470457835916,-0.13635891325106564,-0.07650531512765602,-0.04914989921446673,-0.10579372266961692,-0.08933984634620351,-0.08160275018702606,-0.11650963072011167,-0.1139349483059687,-0.13593976511892505,-0.03347493740435905,-0.05280718347395385,-0.07327666741645708,-0.09261454984409394,-0.26784354479363015,-0.177369737634779,-0.05575363603168058,-0.10221768025676045,-0.10221768025676045,-0.06890295930496353,-0.11798829760205858,-0.05703883506335904,-0.0778372757670251],\"z\":[-0.06977499699116269,-0.07634388588500715,-0.0586041675309963,-0.06800447984824172,-0.06516706064247611,-0.03245194718247144,0.029551712793138698,0.029551712793138698,-0.10051779977212773,-0.06625544140228075,-0.039462760995866576,-0.08403602030609837,-0.03477347382438328,-0.054784031331141694,0.014584252390212663,-0.028456755573575944,-0.034405737034642954,-0.01655761481129405,0.00996684481953691,-0.08066413480457783,-0.030717810243592374,-0.02833171933007733,-0.06820311080550506,-0.06820311080550506,-0.03531239902182062,-0.03531239902182062,-0.046576543808002295,-0.046576543808002295,-0.08098627166968782,-0.04058282264483588,-0.044696076463994996,-0.06236599513824001,-0.03333049308050268,0.008420868858363555,-0.0054016183167131466,-0.11383265984082769,-0.0380957215835807,-0.0761280723691638,-0.07307496965146337,-0.07307496965146337,-0.07307496965146337,0.009931307276237556,-0.24641546910791642,0.020223536602296335,-0.09078286516666118,-0.06151526982606776,-0.07093177581049658,-0.02319681051904412,-0.08660491614104156,-0.08397333654869987,-0.03743076068372531,-0.07685532783953865,-0.19253964935846538,-0.06777043285278472,-0.0048969835293045496,-0.07419745634269075,-0.015330478069187388,-0.04571800706565701,-0.06318160199314289,-0.04574030822459646,-0.030049456412836323,-0.021762046799520495,0.02968003869748576,-0.046541632419742844,-0.059530368341925224,-0.05234305096074162,-0.08364539515508305,-0.02582632456202923,-0.045573175230798464,-0.051672189285444786,-0.0719661932804117,-0.2513877383384081,-0.0504748304186002,-0.003132822901146801,-0.04222612598691781,-0.04222612598691781,-0.05693038841969244,-0.08509098112649774,-0.026238189880550725,-0.05891915788447951],\"type\":\"scatter3d\"},{\"customdata\":[[\"INTERNATIONAL WESTERN PETROLEUM, INC.\",\"Crude Petroleum and Natural Gas\"],[\"DAYBREAK OIL & GAS, INC.\",\"Crude Petroleum and Natural Gas\"],[\"GB SCIENCES INC\",\"Crude Petroleum and Natural Gas\"],[\"FREEDOM HOLDING CORP.\",\"Crude Petroleum and Natural Gas\"],[\"MEXCO ENERGY CORP\",\"Crude Petroleum and Natural Gas\"],[\"SUSTAINABLE PROJECTS GROUP INC.\",\"Crude Petroleum and Natural Gas\"],[\"AMERICAN ENERGY GROUP LTD\",\"Crude Petroleum and Natural Gas\"],[\"REDHAWK HOLDINGS CORP.\",\"Crude Petroleum and Natural Gas\"],[\"TIANCI INTERNATIONAL, INC.\",\"Crude Petroleum and Natural Gas\"],[\"AMAZING ENERGY OIL & GAS, CO.\",\"Crude Petroleum and Natural Gas\"],[\"ALTEX INDUSTRIES INC\",\"Crude Petroleum and Natural Gas\"],[\"BARNWELL INDUSTRIES INC\",\"Crude Petroleum and Natural Gas\"],[\"PANHANDLE OIL & GAS INC\",\"Crude Petroleum and Natural Gas\"],[\"ENERGY 11, L.P.\",\"Crude Petroleum and Natural Gas\"],[\"ABRAXAS PETROLEUM CORP\",\"Crude Petroleum and Natural Gas\"],[\"SEARS OIL & GAS\",\"Crude Petroleum and Natural Gas\"],[\"APACHE CORP\",\"Crude Petroleum and Natural Gas\"],[\"GULFPORT ENERGY CORP\",\"Crude Petroleum and Natural Gas\"],[\"CONTINENTAL RESOURCES, INC\",\"Crude Petroleum and Natural Gas\"],[\"ISRAMCO INC\",\"Crude Petroleum and Natural Gas\"],[\"CHAPARRAL ENERGY, INC.\",\"Crude Petroleum and Natural Gas\"],[\"WHITING PETROLEUM CORP\",\"Crude Petroleum and Natural Gas\"],[\"CONTANGO OIL & GAS CO\",\"Crude Petroleum and Natural Gas\"],[\"EARTHSTONE ENERGY INC\",\"Crude Petroleum and Natural Gas\"],[\"CLEAN COAL TECHNOLOGIES INC.\",\"Crude Petroleum and Natural Gas\"],[\"NORTHERN OIL & GAS, INC.\",\"Crude Petroleum and Natural Gas\"],[\"SRC ENERGY INC.\",\"Crude Petroleum and Natural Gas\"],[\"JONES ENERGY, INC.\",\"Crude Petroleum and Natural Gas\"],[\"GOODRICH PETROLEUM CORP\",\"Crude Petroleum and Natural Gas\"],[\"OCCIDENTAL PETROLEUM CORP /DE/\",\"Crude Petroleum and Natural Gas\"],[\"LONESTAR RESOURCES US INC.\",\"Crude Petroleum and Natural Gas\"],[\"NOBLE ENERGY INC\",\"Crude Petroleum and Natural Gas\"],[\"PIONEER NATURAL RESOURCES CO\",\"Crude Petroleum and Natural Gas\"],[\"BONANZA CREEK ENERGY, INC.\",\"Crude Petroleum and Natural Gas\"],[\"DEVON ENERGY CORP/DE\",\"Crude Petroleum and Natural Gas\"],[\"CALIFORNIA RESOURCES CORP\",\"Crude Petroleum and Natural Gas\"],[\"PARK PLACE ENERGY INC.\",\"Crude Petroleum and Natural Gas\"],[\"ANTERO RESOURCES CORP\",\"Crude Petroleum and Natural Gas\"],[\"LAREDO PETROLEUM, INC.\",\"Crude Petroleum and Natural Gas\"],[\"CIMAREX ENERGY CO\",\"Crude Petroleum and Natural Gas\"],[\"ALTA MESA HOLDINGS, LP\",\"Crude Petroleum and Natural Gas\"],[\"US ENERGY CORP\",\"Crude Petroleum and Natural Gas\"],[\"VICTORY ENERGY CORP\",\"Crude Petroleum and Natural Gas\"],[\"VICTORY ENERGY CORP\",\"Crude Petroleum and Natural Gas\"],[\"GRAN TIERRA ENERGY INC.\",\"Crude Petroleum and Natural Gas\"],[\"MIDSTATES PETROLEUM COMPANY, INC.\",\"Crude Petroleum and Natural Gas\"],[\"WILDHORSE RESOURCE DEVELOPMENT CORP\",\"Crude Petroleum and Natural Gas\"],[\"SM ENERGY CO\",\"Crude Petroleum and Natural Gas\"],[\"SANDRIDGE ENERGY INC\",\"Crude Petroleum and Natural Gas\"],[\"RING ENERGY, INC.\",\"Crude Petroleum and Natural Gas\"],[\"SANCHEZ ENERGY CORP\",\"Crude Petroleum and Natural Gas\"],[\"TETRA TECHNOLOGIES INC\",\"Crude Petroleum and Natural Gas\"],[\"RESERVE PETROLEUM CO\",\"Crude Petroleum and Natural Gas\"],[\"HESS MIDSTREAM PARTNERS LP\",\"Crude Petroleum and Natural Gas\"],[\"TORCHLIGHT ENERGY RESOURCES INC\",\"Crude Petroleum and Natural Gas\"],[\"LINN ENERGY, INC.\",\"Crude Petroleum and Natural Gas\"],[\"KOSMOS ENERGY LTD.\",\"Crude Petroleum and Natural Gas\"],[\"SILVERBOW RESOURCES, INC.\",\"Crude Petroleum and Natural Gas\"],[\"TELLURIAN INC. /DE/\",\"Crude Petroleum and Natural Gas\"],[\"DORCHESTER MINERALS, L.P.\",\"Crude Petroleum and Natural Gas\"],[\"MATADOR RESOURCES CO\",\"Crude Petroleum and Natural Gas\"],[\"PDC ENERGY, INC.\",\"Crude Petroleum and Natural Gas\"],[\"TEXAS SOUTH ENERGY, INC.\",\"Crude Petroleum and Natural Gas\"],[\"PEDEVCO CORP\",\"Crude Petroleum and Natural Gas\"],[\"VIPER ENERGY PARTNERS LP\",\"Crude Petroleum and Natural Gas\"],[\"ENERJEX RESOURCES, INC.\",\"Crude Petroleum and Natural Gas\"],[\"TENGASCO INC\",\"Crude Petroleum and Natural Gas\"],[\"KIMBELL ROYALTY PARTNERS, LP\",\"Crude Petroleum and Natural Gas\"],[\"CONCHO RESOURCES INC\",\"Crude Petroleum and Natural Gas\"],[\"APACHE OFFSHORE INVESTMENT PARTNERSHIP\",\"Crude Petroleum and Natural Gas\"],[\"EVERFLOW EASTERN PARTNERS LP\",\"Crude Petroleum and Natural Gas\"],[\"CHESAPEAKE ENERGY CORP\",\"Crude Petroleum and Natural Gas\"],[\"CARRIZO OIL & GAS INC\",\"Crude Petroleum and Natural Gas\"],[\"CALLON PETROLEUM CO\",\"Crude Petroleum and Natural Gas\"],[\"PENN VIRGINIA CORP\",\"Crude Petroleum and Natural Gas\"],[\"DIAMONDBACK ENERGY, INC.\",\"Crude Petroleum and Natural Gas\"],[\"COMSTOCK RESOURCES INC\",\"Crude Petroleum and Natural Gas\"],[\"DALA PETROLEUM CORP.\",\"Crude Petroleum and Natural Gas\"],[\"WPX ENERGY, INC.\",\"Crude Petroleum and Natural Gas\"],[\"LILIS ENERGY, INC.\",\"Crude Petroleum and Natural Gas\"]],\"hovertemplate\":\"color=Crude Petroleum and Natural Gas<br>0=%{x}<br>1=%{y}<br>2=%{z}<br>name=%{customdata[0]}<br>industry=%{customdata[1]}<extra></extra>\",\"legendgroup\":\"Crude Petroleum and Natural Gas\",\"marker\":{\"color\":\"#EF553B\",\"symbol\":\"circle\"},\"mode\":\"markers\",\"name\":\"Crude Petroleum and Natural Gas\",\"scene\":\"scene\",\"showlegend\":true,\"x\":[-0.009021144164475194,-0.013546413228611817,-0.24967634165078229,0.09788243426134732,-0.0031122506615259256,0.003426602825133211,0.04043779340054223,0.011748668321156347,0.01913120795538978,-0.015123974420406359,0.025445740935345983,-0.008826423169109003,-0.011241531956821966,-0.013246848811814468,-0.004223235747707483,-0.014416644203947693,-0.005633236294985512,-0.014378076704433043,-0.011195578186884306,-0.014619002276252475,0.0034176723655516,-0.005647613312757315,-0.014283446473278094,-0.0016906976569236276,-0.13655428851310655,-0.011288326739707847,-0.012213197242946863,-0.003102986472286045,0.0012035372764161484,-0.008729376352907827,-0.011498109617633331,0.02983714889617697,0.0011156774657221378,-0.008245615493116955,0.008738817282204369,0.03978278577528364,-0.03979370772782781,0.009851167121297461,-0.0021997284496755466,0.00773797138217896,-0.004188889301235937,-0.007289714381664603,-0.011810672943134036,-0.011810672943134036,-0.007209917162669412,-0.003173679793104627,-0.002989131315014492,-0.003405035252203806,-0.012834248831139384,-0.013876176479127157,-0.011594633911260855,-0.032056455994072613,0.004899695028286105,0.011567647212185755,-0.02559475564488351,0.0016887658545143506,-0.002919285085421466,-0.0088039913598711,-0.00987083253731244,-0.0041462457189863,-0.009844578165423003,0.007773210523481455,0.0009587270570173915,-0.0044601195490525155,-0.0012751775085049887,-0.07671438506776207,0.012924677748726065,-0.012681533039591167,-0.00667885443681093,0.015355122014514073,-0.005768675718983163,-0.0026135407888584184,-0.002508759947801446,0.006898341236440977,-0.009809778725866712,0.0011176437914110241,-0.005882441064131026,0.02433831150742792,-0.002933514925348039,-0.0009419884718556902],\"y\":[-0.35542886810964786,-0.2475924344695509,0.06596999775082245,0.011670106743426542,-0.31069907339854325,-0.12787576312439541,-0.08470743571477671,-0.12526502540045534,-0.16552513179970507,-0.3499119442954823,-0.12842132528533734,-0.3353996470240163,-0.33032099214976046,-0.3450330787152752,-0.21541234261263437,-0.14633076573549822,-0.3256141006249318,-0.34198105742811546,-0.29174642722651756,-0.35374692103530336,-0.37456915492583004,-0.321216617016276,-0.047246916884780076,-0.3034211877448563,-0.0713910016965288,-0.3559556915929647,-0.3494068636112928,-0.34792718050280774,-0.36980005913913727,-0.3404570404337141,-0.31973949455513956,-0.32093355497042003,-0.22216302990684705,-0.35518286455217135,-0.2026049946448618,-0.2724744610946846,-0.3157705274894607,-0.3338410166970857,-0.3488854621539156,-0.24151755835422722,-0.2995282218373065,-0.3492054394785452,-0.27845196257782423,-0.27845196257782423,-0.3538591571183454,-0.35951036658962693,-0.3434024670593478,-0.20440167479765925,-0.34005566175815255,-0.3372571190932119,-0.3348351978116211,-0.24104553514678279,-0.22628746561951524,-0.25585444898543686,-0.2002251836460059,-0.3519240915141266,-0.3313408596744421,-0.3407227477872141,-0.3328143862422216,-0.3238651035543591,-0.33348487743983746,-0.2938525678461198,-0.19302067690945487,-0.08178639622117463,-0.3408868974540352,-0.07862531396062454,-0.20642007455155958,-0.3540037705238906,-0.3524850307372251,-0.30571958439745656,-0.3164938379844268,-0.3122317411189126,-0.29389209766416724,-0.3505351871816401,-0.2442127220530522,-0.36512481519340645,-0.3463500330732656,-0.19936740931627517,-0.3673882214805096,-0.3520745471673444],\"z\":[0.7574498531890148,0.5524087161400523,-0.02179198378831576,0.014899859877274555,0.618103120671554,-0.06670634845412404,0.01443573060761746,-0.08728887684736097,-0.03263046497333703,0.8385054420730739,0.25744879756547506,0.8035492317818528,0.7634132075839292,0.8231838122295321,0.34003455919303954,-0.0053713081718776345,0.691977878700128,0.8185283835128421,0.663698228390247,0.8157212468787516,0.7895658404124898,0.7034153435365382,0.041409234797967036,0.517113167220375,0.16899235494186504,0.8347514676443902,0.8057019050682755,0.7437703931990958,0.7707612257927009,0.8018252237798342,0.7569771112181479,0.4019948245774017,0.288735044907878,0.7993050886462283,0.33551997793987415,0.159019885961638,0.7892566266688983,0.6185790748176471,0.7756321911646161,0.3641952689716425,0.6036607634668947,0.7941398963965582,0.33042808440073607,0.33042808440073607,0.7632815858732187,0.8139800973617164,0.7080366269596003,0.35404343728001764,0.8268522953940278,0.8034641385524606,0.7857474910247054,0.48376799975626883,0.41685673714042404,0.33379963836968385,0.43583993958987494,0.7187070270071588,0.6653466715878563,0.7978319590692555,0.7351544373620712,0.6355576377988514,0.7660941810442238,0.5398002057159562,0.33702440252582494,0.010365096019385154,0.7198821959625298,-0.032117782831188255,0.3968772144359837,0.8312428756612005,0.7935284776580224,0.4090598894237073,0.7051772752523462,0.6422042083085738,0.56775368657004,0.7965825963745368,0.43085370127614125,0.7594264209959468,0.7993478276600682,-0.05930923332085545,0.7993569183924786,0.7503999414602067],\"type\":\"scatter3d\"},{\"customdata\":[[\"ULURU INC.\",\"Pharmaceutical Preparations\"],[\"CHINA YCT INTERNATIONAL GROUP, INC.\",\"Pharmaceutical Preparations\"],[\"AXOVANT SCIENCES LTD.\",\"Pharmaceutical Preparations\"],[\"MYOVANT SCIENCES LTD.\",\"Pharmaceutical Preparations\"],[\"PRESTIGE BRANDS HOLDINGS, INC.\",\"Pharmaceutical Preparations\"],[\"HYPGEN INC\",\"Pharmaceutical Preparations\"],[\"HYPGEN INC\",\"Pharmaceutical Preparations\"],[\"DANDRIT BIOTECH USA, INC.\",\"Pharmaceutical Preparations\"],[\"REZOLUTE, INC.\",\"Pharmaceutical Preparations\"],[\"OPTEC INTERNATIONAL, INC.\",\"Pharmaceutical Preparations\"],[\"OPTEC INTERNATIONAL, INC.\",\"Pharmaceutical Preparations\"],[\"BIOVIE INC.\",\"Pharmaceutical Preparations\"],[\"ONCOSEC MEDICAL INC\",\"Pharmaceutical Preparations\"],[\"CANNABICS PHARMACEUTICALS INC.\",\"Pharmaceutical Preparations\"],[\"ORAMED PHARMACEUTICALS INC.\",\"Pharmaceutical Preparations\"],[\"ENTEST BIOMEDICAL, INC.\",\"Pharmaceutical Preparations\"],[\"MY CLOUDZ, INC.\",\"Pharmaceutical Preparations\"],[\"MY CLOUDZ, INC.\",\"Pharmaceutical Preparations\"],[\"ENANTA PHARMACEUTICALS INC\",\"Pharmaceutical Preparations\"],[\"CITIUS PHARMACEUTICALS, INC.\",\"Pharmaceutical Preparations\"],[\"STELLAR BIOTECHNOLOGIES, INC.\",\"Pharmaceutical Preparations\"],[\"REGEN BIOPHARMA INC\",\"Pharmaceutical Preparations\"],[\"REGEN BIOPHARMA INC\",\"Pharmaceutical Preparations\"],[\"ADVAXIS, INC.\",\"Pharmaceutical Preparations\"],[\"ORGENESIS INC.\",\"Pharmaceutical Preparations\"],[\"Q BIOMED INC.\",\"Pharmaceutical Preparations\"],[\"JOHNSON & JOHNSON\",\"Pharmaceutical Preparations\"],[\"BRISTOL MYERS SQUIBB CO\",\"Pharmaceutical Preparations\"],[\"VBI VACCINES INC/BC\",\"Pharmaceutical Preparations\"],[\"INTRA-CELLULAR THERAPIES, INC.\",\"Pharmaceutical Preparations\"],[\"ROCKET PHARMACEUTICALS, INC.\",\"Pharmaceutical Preparations\"],[\"ATLAS HOLDINGS, INC.\",\"Pharmaceutical Preparations\"],[\"NEMUS BIOSCIENCE, INC.\",\"Pharmaceutical Preparations\"],[\"NEMUS BIOSCIENCE, INC.\",\"Pharmaceutical Preparations\"],[\"OVASCIENCE, INC.\",\"Pharmaceutical Preparations\"],[\"CONCERT PHARMACEUTICALS, INC.\",\"Pharmaceutical Preparations\"],[\"AKCEA THERAPEUTICS, INC.\",\"Pharmaceutical Preparations\"],[\"ARQULE INC\",\"Pharmaceutical Preparations\"],[\"AXIM BIOTECHNOLOGIES, INC.\",\"Pharmaceutical Preparations\"],[\"GUARDION HEALTH SCIENCES, INC.\",\"Pharmaceutical Preparations\"],[\"RETROPHIN, INC.\",\"Pharmaceutical Preparations\"],[\"SYNDAX PHARMACEUTICALS INC\",\"Pharmaceutical Preparations\"],[\"FIBROGEN INC\",\"Pharmaceutical Preparations\"],[\"PROTOKINETIX, INC.\",\"Pharmaceutical Preparations\"],[\"PROGENICS PHARMACEUTICALS INC\",\"Pharmaceutical Preparations\"],[\"CHECKPOINT THERAPEUTICS, INC.\",\"Pharmaceutical Preparations\"],[\"PFENEX INC.\",\"Pharmaceutical Preparations\"],[\"PAIN THERAPEUTICS INC\",\"Pharmaceutical Preparations\"],[\"ZOMEDICA PHARMACEUTICALS CORP.\",\"Pharmaceutical Preparations\"],[\"ZOMEDICA PHARMACEUTICALS CORP.\",\"Pharmaceutical Preparations\"],[\"MOLECULAR TEMPLATES, INC.\",\"Pharmaceutical Preparations\"],[\"WAVE LIFE SCIENCES LTD.\",\"Pharmaceutical Preparations\"],[\"CYMABAY THERAPEUTICS, INC.\",\"Pharmaceutical Preparations\"],[\"AMICUS THERAPEUTICS INC\",\"Pharmaceutical Preparations\"],[\"EVOKE PHARMA INC\",\"Pharmaceutical Preparations\"],[\"CHEMBIO DIAGNOSTICS, INC.\",\"Pharmaceutical Preparations\"],[\"CARA THERAPEUTICS, INC.\",\"Pharmaceutical Preparations\"],[\"CYTOMX THERAPEUTICS, INC.\",\"Pharmaceutical Preparations\"],[\"XENCOR INC\",\"Pharmaceutical Preparations\"],[\"CATABASIS PHARMACEUTICALS INC\",\"Pharmaceutical Preparations\"],[\"SERES THERAPEUTICS, INC.\",\"Pharmaceutical Preparations\"],[\"EYEGATE PHARMACEUTICALS INC\",\"Pharmaceutical Preparations\"],[\"ARENA PHARMACEUTICALS INC\",\"Pharmaceutical Preparations\"],[\"ALEXION PHARMACEUTICALS INC\",\"Pharmaceutical Preparations\"],[\"MELINTA THERAPEUTICS, INC. /NEW/\",\"Pharmaceutical Preparations\"],[\"FIVE PRIME THERAPEUTICS INC\",\"Pharmaceutical Preparations\"],[\"LIXTE BIOTECHNOLOGY HOLDINGS, INC.\",\"Pharmaceutical Preparations\"],[\"ARATANA THERAPEUTICS, INC.\",\"Pharmaceutical Preparations\"],[\"CHIASMA, INC\",\"Pharmaceutical Preparations\"],[\"CELGENE CORP /DE/\",\"Pharmaceutical Preparations\"],[\"NEWLINK GENETICS CORP\",\"Pharmaceutical Preparations\"],[\"LIGAND PHARMACEUTICALS INC\",\"Pharmaceutical Preparations\"],[\"PORTOLA PHARMACEUTICALS INC\",\"Pharmaceutical Preparations\"],[\"PLX PHARMA INC.\",\"Pharmaceutical Preparations\"],[\"ARDELYX, INC.\",\"Pharmaceutical Preparations\"],[\"PROTAGONIST THERAPEUTICS, INC\",\"Pharmaceutical Preparations\"],[\"MOLECULIN BIOTECH, INC.\",\"Pharmaceutical Preparations\"],[\"IRONWOOD PHARMACEUTICALS INC\",\"Pharmaceutical Preparations\"],[\"FORTRESS BIOTECH, INC.\",\"Pharmaceutical Preparations\"],[\"SYNTHETIC BIOLOGICS, INC.\",\"Pharmaceutical Preparations\"],[\"OPTINOSE, INC.\",\"Pharmaceutical Preparations\"],[\"CORMEDIX INC.\",\"Pharmaceutical Preparations\"],[\"HEAT BIOLOGICS, INC.\",\"Pharmaceutical Preparations\"],[\"SUN BIOPHARMA, INC.\",\"Pharmaceutical Preparations\"],[\"BELLEROPHON THERAPEUTICS, INC.\",\"Pharmaceutical Preparations\"],[\"BIOSPECIFICS TECHNOLOGIES CORP\",\"Pharmaceutical Preparations\"],[\"ZOSANO PHARMA CORP\",\"Pharmaceutical Preparations\"],[\"CV SCIENCES, INC.\",\"Pharmaceutical Preparations\"],[\"LILLY ELI & CO\",\"Pharmaceutical Preparations\"],[\"SAREPTA THERAPEUTICS, INC.\",\"Pharmaceutical Preparations\"],[\"EXICURE, INC.\",\"Pharmaceutical Preparations\"],[\"OVID THERAPEUTICS INC.\",\"Pharmaceutical Preparations\"],[\"IMPRIMIS PHARMACEUTICALS, INC.\",\"Pharmaceutical Preparations\"],[\"IONIS PHARMACEUTICALS INC\",\"Pharmaceutical Preparations\"],[\"ONCOMED PHARMACEUTICALS INC\",\"Pharmaceutical Preparations\"],[\"TONIX PHARMACEUTICALS HOLDING CORP.\",\"Pharmaceutical Preparations\"],[\"TEVA PHARMACEUTICAL INDUSTRIES LTD\",\"Pharmaceutical Preparations\"],[\"RHYTHM PHARMACEUTICALS, INC.\",\"Pharmaceutical Preparations\"],[\"COCRYSTAL PHARMA, INC.\",\"Pharmaceutical Preparations\"],[\"REGENERON PHARMACEUTICALS INC\",\"Pharmaceutical Preparations\"],[\"ANI PHARMACEUTICALS INC\",\"Pharmaceutical Preparations\"],[\"CLEARSIDE BIOMEDICAL, INC.\",\"Pharmaceutical Preparations\"],[\"LIPOCINE INC.\",\"Pharmaceutical Preparations\"],[\"GALECTIN THERAPEUTICS INC\",\"Pharmaceutical Preparations\"],[\"STEMLINE THERAPEUTICS INC\",\"Pharmaceutical Preparations\"],[\"DOVA PHARMACEUTICALS, INC.\",\"Pharmaceutical Preparations\"],[\"ABBVIE INC.\",\"Pharmaceutical Preparations\"],[\"AKORN INC\",\"Pharmaceutical Preparations\"],[\"VALEANT PHARMACEUTICALS INTERNATIONAL, INC.\",\"Pharmaceutical Preparations\"],[\"INTELGENX TECHNOLOGIES CORP.\",\"Pharmaceutical Preparations\"],[\"PFIZER INC\",\"Pharmaceutical Preparations\"],[\"SKINVISIBLE INC\",\"Pharmaceutical Preparations\"],[\"TAPIMMUNE INC.\",\"Pharmaceutical Preparations\"],[\"THERAPEUTICSMD, INC.\",\"Pharmaceutical Preparations\"],[\"AQUINOX PHARMACEUTICALS, INC\",\"Pharmaceutical Preparations\"],[\"GLOBAL BLOOD THERAPEUTICS, INC.\",\"Pharmaceutical Preparations\"],[\"RIGEL PHARMACEUTICALS INC\",\"Pharmaceutical Preparations\"],[\"PARATEK PHARMACEUTICALS, INC.\",\"Pharmaceutical Preparations\"],[\"PERRIGO CO PLC\",\"Pharmaceutical Preparations\"],[\"ZAFGEN, INC.\",\"Pharmaceutical Preparations\"],[\"OPHTHOTECH CORP.\",\"Pharmaceutical Preparations\"],[\"ACHILLION PHARMACEUTICALS INC\",\"Pharmaceutical Preparations\"],[\"KEMPHARM, INC\",\"Pharmaceutical Preparations\"],[\"INTERCEPT PHARMACEUTICALS INC\",\"Pharmaceutical Preparations\"],[\"ULTRAGENYX PHARMACEUTICAL INC.\",\"Pharmaceutical Preparations\"],[\"EMERGENT BIOSOLUTIONS INC.\",\"Pharmaceutical Preparations\"],[\"ACER THERAPEUTICS INC.\",\"Pharmaceutical Preparations\"],[\"HERON THERAPEUTICS, INC. /DE/\",\"Pharmaceutical Preparations\"],[\"ADAMIS PHARMACEUTICALS CORP\",\"Pharmaceutical Preparations\"],[\"GT BIOPHARMA, INC.\",\"Pharmaceutical Preparations\"],[\"GT BIOPHARMA, INC.\",\"Pharmaceutical Preparations\"],[\"GT BIOPHARMA, INC.\",\"Pharmaceutical Preparations\"],[\"GT BIOPHARMA, INC.\",\"Pharmaceutical Preparations\"],[\"GT BIOPHARMA, INC.\",\"Pharmaceutical Preparations\"],[\"GT BIOPHARMA, INC.\",\"Pharmaceutical Preparations\"],[\"IMMUNOGEN INC\",\"Pharmaceutical Preparations\"],[\"PTC THERAPEUTICS, INC.\",\"Pharmaceutical Preparations\"],[\"MANNKIND CORP\",\"Pharmaceutical Preparations\"],[\"CARDAX, INC.\",\"Pharmaceutical Preparations\"],[\"SYROS PHARMACEUTICALS, INC.\",\"Pharmaceutical Preparations\"],[\"ADURO BIOTECH, INC.\",\"Pharmaceutical Preparations\"],[\"SIENNA BIOPHARMACEUTICALS, INC.\",\"Pharmaceutical Preparations\"],[\"ACHAOGEN INC\",\"Pharmaceutical Preparations\"],[\"UNITED CANNABIS CORP\",\"Pharmaceutical Preparations\"],[\"UNITED CANNABIS CORP\",\"Pharmaceutical Preparations\"],[\"RXI PHARMACEUTICALS CORP\",\"Pharmaceutical Preparations\"],[\"RXI PHARMACEUTICALS CORP\",\"Pharmaceutical Preparations\"],[\"RXI PHARMACEUTICALS CORP\",\"Pharmaceutical Preparations\"],[\"RXI PHARMACEUTICALS CORP\",\"Pharmaceutical Preparations\"],[\"SOLIGENIX, INC.\",\"Pharmaceutical Preparations\"],[\"XOMA CORP\",\"Pharmaceutical Preparations\"],[\"SIERRA ONCOLOGY, INC.\",\"Pharmaceutical Preparations\"],[\"ACTINIUM PHARMACEUTICALS, INC.\",\"Pharmaceutical Preparations\"],[\"ORAGENICS INC\",\"Pharmaceutical Preparations\"],[\"ATHERSYS, INC / NEW\",\"Pharmaceutical Preparations\"],[\"PULMATRIX, INC.\",\"Pharmaceutical Preparations\"],[\"ACADIA PHARMACEUTICALS INC\",\"Pharmaceutical Preparations\"],[\"TREVENA INC\",\"Pharmaceutical Preparations\"],[\"NATURES SUNSHINE PRODUCTS INC\",\"Pharmaceutical Preparations\"],[\"FLEXION THERAPEUTICS INC\",\"Pharmaceutical Preparations\"],[\"VERASTEM, INC.\",\"Pharmaceutical Preparations\"],[\"XENON PHARMACEUTICALS INC.\",\"Pharmaceutical Preparations\"],[\"SUNESIS PHARMACEUTICALS INC\",\"Pharmaceutical Preparations\"],[\"CORVUS PHARMACEUTICALS, INC.\",\"Pharmaceutical Preparations\"],[\"MERCK & CO., INC.\",\"Pharmaceutical Preparations\"],[\"STRONGBRIDGE BIOPHARMA PLC\",\"Pharmaceutical Preparations\"],[\"CATALYST PHARMACEUTICALS, INC.\",\"Pharmaceutical Preparations\"],[\"ASSEMBLY BIOSCIENCES, INC.\",\"Pharmaceutical Preparations\"],[\"APRICUS BIOSCIENCES, INC.\",\"Pharmaceutical Preparations\"],[\"CATALYST BIOSCIENCES, INC.\",\"Pharmaceutical Preparations\"],[\"MIRATI THERAPEUTICS, INC.\",\"Pharmaceutical Preparations\"],[\"MUSTANG BIO, INC.\",\"Pharmaceutical Preparations\"],[\"ACELRX PHARMACEUTICALS INC\",\"Pharmaceutical Preparations\"],[\"BLUEPRINT MEDICINES CORP\",\"Pharmaceutical Preparations\"],[\"ATHENEX, INC.\",\"Pharmaceutical Preparations\"],[\"ATHENEX, INC.\",\"Pharmaceutical Preparations\"],[\"RECRO PHARMA, INC.\",\"Pharmaceutical Preparations\"],[\"BIOHAVEN PHARMACEUTICAL HOLDING CO LTD.\",\"Pharmaceutical Preparations\"],[\"PROTHENA CORP PLC\",\"Pharmaceutical Preparations\"],[\"AVENUE THERAPEUTICS, INC.\",\"Pharmaceutical Preparations\"],[\"VTV THERAPEUTICS INC.\",\"Pharmaceutical Preparations\"],[\"ZYNERBA PHARMACEUTICALS, INC.\",\"Pharmaceutical Preparations\"],[\"BIOMARIN PHARMACEUTICAL INC\",\"Pharmaceutical Preparations\"],[\"KARYOPHARM THERAPEUTICS INC.\",\"Pharmaceutical Preparations\"],[\"LEXICON PHARMACEUTICALS, INC.\",\"Pharmaceutical Preparations\"],[\"ENDO INTERNATIONAL PLC\",\"Pharmaceutical Preparations\"],[\"PROPHASE LABS, INC.\",\"Pharmaceutical Preparations\"],[\"CELLECTAR BIOSCIENCES, INC.\",\"Pharmaceutical Preparations\"],[\"RITTER PHARMACEUTICALS INC\",\"Pharmaceutical Preparations\"],[\"MARINUS PHARMACEUTICALS INC\",\"Pharmaceutical Preparations\"],[\"CORCEPT THERAPEUTICS INC\",\"Pharmaceutical Preparations\"],[\"ALNYLAM PHARMACEUTICALS, INC.\",\"Pharmaceutical Preparations\"],[\"DARE BIOSCIENCE, INC.\",\"Pharmaceutical Preparations\"],[\"TELIGENT, INC.\",\"Pharmaceutical Preparations\"],[\"TELIGENT, INC.\",\"Pharmaceutical Preparations\"],[\"ACLARIS THERAPEUTICS, INC.\",\"Pharmaceutical Preparations\"],[\"VITAL THERAPIES INC\",\"Pharmaceutical Preparations\"],[\"DECIPHERA PHARMACEUTICALS, INC.\",\"Pharmaceutical Preparations\"],[\"CAPSTONE THERAPEUTICS CORP.\",\"Pharmaceutical Preparations\"],[\"PACIRA PHARMACEUTICALS, INC.\",\"Pharmaceutical Preparations\"],[\"UROGEN PHARMA LTD.\",\"Pharmaceutical Preparations\"],[\"FIBROCELL SCIENCE, INC.\",\"Pharmaceutical Preparations\"],[\"FLEX PHARMA, INC.\",\"Pharmaceutical Preparations\"],[\"BIODELIVERY SCIENCES INTERNATIONAL INC\",\"Pharmaceutical Preparations\"],[\"HORIZON PHARMA PLC\",\"Pharmaceutical Preparations\"],[\"MERRIMACK PHARMACEUTICALS INC\",\"Pharmaceutical Preparations\"],[\"CYCLACEL PHARMACEUTICALS, INC.\",\"Pharmaceutical Preparations\"],[\"ZOETIS INC.\",\"Pharmaceutical Preparations\"]],\"hovertemplate\":\"color=Pharmaceutical Preparations<br>0=%{x}<br>1=%{y}<br>2=%{z}<br>name=%{customdata[0]}<br>industry=%{customdata[1]}<extra></extra>\",\"legendgroup\":\"Pharmaceutical Preparations\",\"marker\":{\"color\":\"#00cc96\",\"symbol\":\"circle\"},\"mode\":\"markers\",\"name\":\"Pharmaceutical Preparations\",\"scene\":\"scene\",\"showlegend\":true,\"x\":[-0.1714448580220835,-0.12291314738256925,-0.5236846232848008,-0.45135843295091616,-0.07678094658487654,-0.17452125063147755,-0.17452125063147755,-0.4697054880564607,-0.36215788775449115,-0.031066419659878906,-0.031066419659878906,-0.38509740803288084,-0.5534099095844213,-0.15237158975250384,-0.4683990597823842,0.025599721812581716,0.01993689253931134,0.01993689253931134,-0.6263991834548669,-0.15474301023193957,-0.30207273282890046,-0.019636122111085466,-0.019636122111085466,-0.44805212404646555,-0.2619565803791777,-0.46931505630077036,-0.059764137955971845,-0.11590413544867055,-0.4357193458893888,-0.5300570373967153,-0.0863639639519604,-0.15418606061602505,-0.5216059150788327,-0.5216059150788327,-0.5656199908249386,-0.3355457992379431,-0.18172681585197753,-0.26296022159386023,-0.3319990160811973,-0.05257378870237372,-0.5471905554758062,-0.6050931056299749,-0.4421944235315288,-0.2890872746800714,-0.0691668703739336,-0.4669701106941064,-0.4600496788089218,-0.34144309282135005,-0.33581081455475775,-0.33581081455475775,-0.5385294762675401,-0.5680550415337255,-0.26693110733743763,-0.32122797531637004,-0.4816366692769842,-0.28326577213124593,-0.30307365104659895,-0.5707662000406966,-0.021889733998092412,-0.19454000502326554,-0.4001347065316938,-0.49006405394062463,-0.4268903054995192,-0.3306712765440598,-0.36229176994701506,0.041577536155663355,-0.5177401233661865,-0.2013038990671288,-0.5090366129021835,-0.46397422156074464,-0.5582650377493146,-0.482645096389348,-0.5051446559341835,-0.5407948189051105,-0.468841256713848,-0.6136097217236138,-0.4567436437938209,-0.4121016031512884,-0.14533106936814408,-0.45928572585675914,-0.5393745775673501,-0.5139690022726949,-0.4267844577378118,-0.4370248790281719,-0.3926975004997667,-0.3273174159424673,-0.2583608719387575,-0.2243277712003549,-0.25614605644170013,-0.5359703850117756,-0.4368820306270492,-0.30992372212291625,-0.1670015864825479,-0.24966457567847905,-0.5520979432084012,-0.36539660094377463,-0.30128709322660974,-0.5093526847017628,-0.3182468537918903,-0.43600390545439455,-0.15068699318304135,-0.5466898953111354,-0.3625824081586206,-0.48377261688462403,-0.5102907966873304,-0.33301706654946445,-0.29133460140502143,-0.10114763417613844,-0.2001949799571523,-0.36508762773031794,-0.08259421323566317,-0.05505590697711793,-0.5401114615391606,-0.4536644662179751,-0.5441981494630432,-0.448126186197875,-0.5381392322483772,-0.2765753991922143,-0.07228248682328942,-0.007872148282521406,-0.5073019130273795,-0.5248956548867878,-0.5910101975414993,-0.38767486341980106,-0.29094062201636517,-0.46275894480658397,-0.4780571505516999,-0.2572365374742382,-0.5087987297679284,-0.3521207892249052,-0.3521207892249052,-0.3521207892249052,-0.3521207892249052,-0.3521207892249052,-0.3521207892249052,-0.5543010196512905,-0.3040132157226184,-0.49686403712242455,-0.37732389338261524,-0.6040313369435478,-0.5733343899067411,-0.5638752218486149,-0.5531526349994632,-0.14763887407832615,-0.14763887407832615,-0.517183381580865,-0.517183381580865,-0.517183381580865,-0.517183381580865,-0.4325652168813898,-0.23498728208200703,-0.4575559889636114,-0.4907178491704048,-0.570016938144573,-0.29127697348342874,-0.5484975344779411,-0.48580337894005104,-0.27921216745678096,-0.04904405204297444,-0.37080372524492106,-0.3410135973787728,-0.4925733333373631,-0.578880210633734,-0.5452052871439825,-0.32508336678033534,-0.6115097877891842,-0.5511363921041024,-0.24268275921280605,-0.544974763608558,-0.5619685741345996,-0.5864441051925094,-0.5254642542490715,-0.17489578253583613,-0.4684798349775442,-0.523390472770247,-0.523390472770247,-0.5238078858211981,-0.5203281820460117,-0.3340452486235966,-0.5870061872147903,-0.3895970967956501,-0.48360338613920206,-0.2987923857460099,-0.3503034011408439,-0.4110999452900462,-0.3332580942930125,-0.16420645808910878,-0.3307067100759923,-0.5660260096208302,-0.2391585676430065,-0.45399594856884384,-0.5314153979088567,-0.515719718390794,-0.16214988397151284,-0.16214988397151284,-0.28990266532576864,-0.43668182697461544,-0.46372168774962175,-0.5010161864447571,-0.011619112992549417,-0.6238518310960236,-0.5569271577211936,-0.4560816216778476,-0.5046371487292958,-0.332964507341047,-0.57338420172456,-0.46982170532645257,0.02426360938839082],\"y\":[0.0029502780541012076,-0.02787804383706105,0.33469939332114323,0.27282026799422576,-0.09938604222638278,-0.011308151838792052,-0.011308151838792052,0.26658164018571096,0.18924452795805438,-0.10530214938288253,-0.10530214938288253,0.22229410867182747,0.33043915323412487,0.0036407616027245788,0.26553604793932284,-0.1513855826129641,-0.145838703184052,-0.145838703184052,0.3704450372949612,0.04329952409366765,0.09380448934546756,-0.11521636528424468,-0.11521636528424468,0.272420251942114,0.09822151975827764,0.25462868145488604,-0.011172740632127396,-0.01860893524149524,0.22586719763226284,0.32551513187417136,-0.001741631665486389,0.018585636193502654,0.2945027371365754,0.2945027371365754,0.3427815547470197,0.1899703486114656,0.06957804005407038,0.1392446055935264,0.13525057783715827,-0.1025365548771292,0.3178580561187157,0.3753852605426924,0.2756879585952928,0.08954075567351731,-0.06949257972322213,0.24916596540450645,0.2534409787685788,0.19028891043268767,0.16526382775949097,0.16526382775949097,0.3204483064474062,0.34083355527190623,0.12326911019424255,0.16007639207326171,0.273077005532019,0.10671115589317164,0.08932578251734395,0.34762404513901485,-0.06142061776341949,0.07788298814962692,0.22918941484747557,0.29680531334207993,0.21474835662719896,0.16816996129015915,0.15578712152756954,-0.0962707920585325,0.32092241963210477,0.03072364544734228,0.3212754856645017,0.25371500482964565,0.3188517826827828,0.297197747885845,0.272815009469429,0.32802108667365715,0.2837520802739098,0.376699716097719,0.24075422362429774,0.20742832849244328,-0.058617607239292414,0.291698602324324,0.34161128801983603,0.3001833516782608,0.2582502978983887,0.2428107252888459,0.2429178811148132,0.1727562980028512,0.11529091643447924,0.05972372929842291,0.0855520887543955,0.3285688984575456,0.2685571316913559,0.1680984580622362,0.018662106611385204,0.10682431853553655,0.31750394476824684,0.18916145430021702,0.12030806338428168,0.32312122663307247,0.13098719620252355,0.22628516314946495,-0.021704586097646496,0.32746580188585017,0.18701504475832784,0.3007987516596453,0.2985179729479082,0.1545111362496507,0.10198294022474888,-0.08043462634874829,0.03720107415004889,0.17268202685831308,-0.05610079637913102,-0.04604942527145632,0.31281851968910496,0.2144508607238567,0.3230978622811236,0.27776310532563686,0.30078456843845724,0.13086614919672382,-0.07670723895144575,-0.16427831171928728,0.3081464912750837,0.3204697677812309,0.35611760277885024,0.16684568754563348,0.1515133694747512,0.25221304637782516,0.22682118320278308,0.12771568925594118,0.2954922422018423,0.1964794123568618,0.1964794123568618,0.1964794123568618,0.1964794123568618,0.1964794123568618,0.1964794123568618,0.340970440031436,0.1622540889546536,0.2759975238904526,0.1885634251812151,0.37735756400298115,0.34807516720098813,0.36106969335364286,0.31066922788979634,-0.0520061304998363,-0.0520061304998363,0.257481148290313,0.257481148290313,0.257481148290313,0.257481148290313,0.2637731361105143,0.03489126126332747,0.28101238446306936,0.29207308881566707,0.3404344255686222,0.13972469073485408,0.3185657929828508,0.27012876631708965,0.14070621148451412,-0.129361295240128,0.21153169113875336,0.18074817792136968,0.3156712565235679,0.35651105670921596,0.3498029734680389,0.13998408276751778,0.38093466572266105,0.33143641117850503,0.10743417799615256,0.32244442466906825,0.3408577756129659,0.36797592194937434,0.29882904782404507,0.033216839318173465,0.2943762284648396,0.3358280273363192,0.3358280273363192,0.31658997330864935,0.3307731431869481,0.17899897778481527,0.34978250068838973,0.23618396857292973,0.30650644889035583,0.15383145642385307,0.19448167275568656,0.22349443395907492,0.11983518027417585,-0.01587988486636,0.16877902300000414,0.3362321499017215,0.11661664203568138,0.24570005822002278,0.3126592417243025,0.29599085267314423,-0.01173140595472537,-0.01173140595472537,0.12382081293748183,0.23991619552619742,0.2668064065526468,0.2765080680096806,-0.012082779506984847,0.39301967233504054,0.346745903841089,0.21128872447737498,0.2624618412312231,0.13416448456061586,0.3559146124737053,0.278826750285661,-0.16639614211273643],\"z\":[-0.03654772191715287,-0.043135965480616656,-0.006119136084766018,-0.005781927800007372,-0.06620836739951468,-0.047509372841039704,-0.047509372841039704,-0.032178657032838426,-0.004299780955972764,-0.006826842017838876,-0.006826842017838876,-0.0009291998974316648,-0.03694066357571925,0.007065125096496934,-0.023029252992531855,-0.02805532246813716,-0.07164727634454096,-0.07164727634454096,-0.05279017892500254,0.018604177625721134,-0.07184645731456267,-0.02418057641081592,-0.02418057641081592,-0.0006383230106974615,-0.022877100678786323,-0.03711485272209724,-0.010126247252408281,0.011863453761604786,-0.0453351585598735,-0.01968868661611081,0.02730550108491689,0.004610996996116615,-0.0333632477644925,-0.0333632477644925,-0.03331426089866986,0.010677892860509922,0.023566281675533655,0.017681837187984425,-0.030111265348203364,-0.020137680281174318,-0.04004964688939866,-0.03752552686878129,0.002323482276019078,-0.062829723056788,-0.008842744459141277,-0.035936330366737636,-0.028905530196703465,0.010572891638636504,-0.01221279729328448,-0.01221279729328448,-0.03808363403171868,-0.03611758953252808,0.008525122808762133,-0.006490778786526045,-0.026623776671793185,-0.029436711662049163,-0.06212058936528061,-0.03356892167665584,0.01670388156849457,0.023253094316638776,-0.0001656268734977466,-0.01172272125504451,-0.03729445584351863,-0.020990193052509955,-0.046375823653545756,0.013077820098955008,-0.020330348898159767,-0.05270458837997894,-0.012323836453412779,-0.05054203097462435,-0.052126282128787255,-0.001992542776861285,-0.05868890355864988,-0.025151401466291544,-0.005438753378844361,-0.04795308380390058,-0.033809904029910694,-0.043897351531583466,-0.05665508449557971,-0.0008557574841839005,-0.017168128550184934,-0.04035171283641994,0.0019457861695749443,-0.016426674443927446,0.006956950270593277,0.007580561974327899,0.00938922749159101,-0.006435852889043835,-0.035707247724534,-0.023176020255786526,0.002877144704875157,0.005129421880341866,-0.013490421648470634,0.00029659834525761777,-0.050087257200457945,-0.013433716243595323,-0.023978212722942996,-0.008081221117546293,-0.022688367123569367,-0.03572364259609916,-0.040281951906997564,-0.036155008697826084,-0.008258461711529379,-0.005538753690429181,-0.030149126801085658,-0.011140475628727203,-0.03635029559034396,-0.04379907097407835,-0.03205116686509467,-0.017549354139836305,-0.02046323409328316,0.011276302560506013,-0.03503882607430942,-0.03092689037237132,-0.04023382496514151,0.0015611791716318103,-0.049774490426520254,0.009220412555928441,-0.018585665708321823,-0.0737116592701479,-0.019391973941743152,-0.030890531982256587,-0.037268265810752,-0.04943549595288054,0.010190658279386339,-0.0484654601808251,-0.07011615317344656,0.01969184419369576,-0.027242382245282026,0.0070438460577881635,0.0070438460577881635,0.0070438460577881635,0.0070438460577881635,0.0070438460577881635,0.0070438460577881635,-0.02520755676174009,0.008634873930815794,-0.048903961338736854,-0.028059526645171983,-0.0351675754882796,-0.03553673543844646,-0.0183094548094381,-0.05262884755997814,-0.07096484413629858,-0.07096484413629858,-0.07417900150632081,-0.07417900150632081,-0.07417900150632081,-0.07417900150632081,-0.010760735360127345,-0.05028999730043914,-0.0025933932460975658,-0.013090792190564,-0.04065128971530487,-0.00046781641891626693,-0.03839920561765052,-0.032277226637466516,0.016871459061792007,-0.04558662680183464,0.0009756008534770755,0.004793399823170715,-0.001975478115134863,-0.035467338311765836,-0.015247889368772794,-0.02995504882633934,-0.0365918176553012,-0.031555257719983236,0.013610115160936586,-0.039755421316947176,-0.03178209214828549,-0.031202476667460784,-0.03376222134947331,-0.007690488314727881,-0.0017220009136772927,-0.0056913321896985055,-0.0056913321896985055,-0.027165967350170957,-0.009230553560784515,0.006571632521532602,-0.048954910139653085,0.00876722651986719,-0.0033477590246844997,0.010811788619236928,0.0035847518967434162,-0.0324173149648876,-0.04932436501968211,-0.04628813793617018,0.0035186205904309204,-0.03620164442448978,0.02246124590530216,-0.03395862349699905,-0.0374213240392459,-0.03614437859683951,-0.04952296569128774,-0.04952296569128774,-0.0032333821518352396,-0.03581396726740321,-0.020727121783557508,-0.05666378181216035,-0.03271537568770601,-0.037858642481812324,-0.026740189491427393,-0.05959705795243511,-0.05515882495069676,-0.03666093688580207,-0.036342985416363875,-0.013964125282681636,-0.043388173316941454],\"type\":\"scatter3d\"},{\"customdata\":[[\"INVESTORS REAL ESTATE TRUST\",\"Real Estate Investment Trusts\"],[\"BRT APARTMENTS CORP.\",\"Real Estate Investment Trusts\"],[\"MONMOUTH REAL ESTATE INVESTMENT CORP\",\"Real Estate Investment Trusts\"],[\"FIRST REAL ESTATE INVESTMENT TRUST OF NEW JERSEY\",\"Real Estate Investment Trusts\"],[\"FIRST REAL ESTATE INVESTMENT TRUST OF NEW JERSEY\",\"Real Estate Investment Trusts\"],[\"URSTADT BIDDLE PROPERTIES INC\",\"Real Estate Investment Trusts\"],[\"URSTADT BIDDLE PROPERTIES INC\",\"Real Estate Investment Trusts\"],[\"PHILLIPS EDISON & COMPANY, INC.\",\"Real Estate Investment Trusts\"],[\"SL GREEN REALTY CORP\",\"Real Estate Investment Trusts\"],[\"CUBESMART\",\"Real Estate Investment Trusts\"],[\"CIM COMMERCIAL TRUST CORP\",\"Real Estate Investment Trusts\"],[\"CERES TACTICAL SYSTEMATIC L.P.\",\"Real Estate Investment Trusts\"],[\"PS BUSINESS PARKS INC/CA\",\"Real Estate Investment Trusts\"],[\"STEADFAST INCOME REIT, INC.\",\"Real Estate Investment Trusts\"],[\"RETAIL OPPORTUNITY INVESTMENTS CORP\",\"Real Estate Investment Trusts\"],[\"MORGAN STANLEY SMITH BARNEY SPECTRUM SELECT LP\",\"Real Estate Investment Trusts\"],[\"NEW YORK MORTGAGE TRUST INC\",\"Real Estate Investment Trusts\"],[\"CBL & ASSOCIATES PROPERTIES INC\",\"Real Estate Investment Trusts\"],[\"LEXINGTON REALTY TRUST\",\"Real Estate Investment Trusts\"],[\"BRANDYWINE REALTY TRUST\",\"Real Estate Investment Trusts\"],[\"LAMAR ADVERTISING CO/NEW\",\"Real Estate Investment Trusts\"],[\"JBG SMITH PROPERTIES\",\"Real Estate Investment Trusts\"],[\"KBS REAL ESTATE INVESTMENT TRUST III, INC.\",\"Real Estate Investment Trusts\"],[\"CAPSTEAD MORTGAGE CORP\",\"Real Estate Investment Trusts\"],[\"GGP INC.\",\"Real Estate Investment Trusts\"],[\"QTS REALTY TRUST, INC.\",\"Real Estate Investment Trusts\"],[\"WELLS FARGO REAL ESTATE INVESTMENT CORP.\",\"Real Estate Investment Trusts\"],[\"LIGHTSTONE VALUE PLUS REAL ESTATE INVESTMENT TRUST V, INC.\",\"Real Estate Investment Trusts\"],[\"RESOURCE APARTMENT REIT III, INC.\",\"Real Estate Investment Trusts\"],[\"CNL HEALTHCARE PROPERTIES, INC.\",\"Real Estate Investment Trusts\"],[\"RETAIL PROPERTIES OF AMERICA, INC.\",\"Real Estate Investment Trusts\"],[\"BOSTON PROPERTIES INC\",\"Real Estate Investment Trusts\"],[\"REGENCY CENTERS CORP\",\"Real Estate Investment Trusts\"],[\"NATIONAL HEALTH INVESTORS INC\",\"Real Estate Investment Trusts\"],[\"DRIVE SHACK INC.\",\"Real Estate Investment Trusts\"],[\"COLE CREDIT PROPERTY TRUST V, INC.\",\"Real Estate Investment Trusts\"],[\"EQUITY RESIDENTIAL\",\"Real Estate Investment Trusts\"],[\"KITE REALTY GROUP TRUST\",\"Real Estate Investment Trusts\"],[\"OUTFRONT MEDIA INC.\",\"Real Estate Investment Trusts\"],[\"PENNSYLVANIA REAL ESTATE INVESTMENT TRUST\",\"Real Estate Investment Trusts\"],[\"COLE REAL ESTATE INCOME STRATEGY (DAILY NAV), INC.\",\"Real Estate Investment Trusts\"],[\"REALTY INCOME CORP\",\"Real Estate Investment Trusts\"],[\"GLOBAL MEDICAL REIT INC.\",\"Real Estate Investment Trusts\"],[\"PILLARSTONE CAPITAL REIT\",\"Real Estate Investment Trusts\"],[\"CLIPPER REALTY INC.\",\"Real Estate Investment Trusts\"],[\"BLACK CREEK INDUSTRIAL REIT IV INC.\",\"Real Estate Investment Trusts\"],[\"LIGHTSTONE VALUE PLUS REAL ESTATE INVESTMENT TRUST, INC.\",\"Real Estate Investment Trusts\"],[\"KKR REAL ESTATE FINANCE TRUST INC.\",\"Real Estate Investment Trusts\"],[\"GEO GROUP INC\",\"Real Estate Investment Trusts\"],[\"AMERICAN ASSETS TRUST, INC.\",\"Real Estate Investment Trusts\"],[\"IMPAC MORTGAGE HOLDINGS INC\",\"Real Estate Investment Trusts\"],[\"CNL HEALTHCARE PROPERTIES II, INC.\",\"Real Estate Investment Trusts\"],[\"ANWORTH MORTGAGE ASSET CORP\",\"Real Estate Investment Trusts\"],[\"LIGHTSTONE VALUE PLUS REAL ESTATE INVESTMENT TRUST III, INC.\",\"Real Estate Investment Trusts\"],[\"AMERICAN FINANCE TRUST, INC\",\"Real Estate Investment Trusts\"],[\"EQUITY COMMONWEALTH\",\"Real Estate Investment Trusts\"],[\"FOUR CORNERS PROPERTY TRUST, INC.\",\"Real Estate Investment Trusts\"],[\"RAYONIER INC\",\"Real Estate Investment Trusts\"],[\"HOST HOTELS & RESORTS, INC.\",\"Real Estate Investment Trusts\"],[\"GAMING & LEISURE PROPERTIES, INC.\",\"Real Estate Investment Trusts\"],[\"NATIONAL RETAIL PROPERTIES, INC.\",\"Real Estate Investment Trusts\"],[\"SENIOR HOUSING PROPERTIES TRUST\",\"Real Estate Investment Trusts\"],[\"SUTHERLAND ASSET MANAGEMENT CORP\",\"Real Estate Investment Trusts\"],[\"TAUBMAN CENTERS INC\",\"Real Estate Investment Trusts\"],[\"RESOURCE REAL ESTATE OPPORTUNITY REIT, INC.\",\"Real Estate Investment Trusts\"],[\"TANGER FACTORY OUTLET CENTERS INC\",\"Real Estate Investment Trusts\"],[\"MFA FINANCIAL, INC.\",\"Real Estate Investment Trusts\"],[\"TERRA SECURED INCOME FUND 5, LLC\",\"Real Estate Investment Trusts\"],[\"SBA COMMUNICATIONS CORP\",\"Real Estate Investment Trusts\"],[\"LIGHTSTONE VALUE PLUS REAL ESTATE INVESTMENT TRUST II INC\",\"Real Estate Investment Trusts\"],[\"JONES LANG LASALLE INCOME PROPERTY TRUST, INC.\",\"Real Estate Investment Trusts\"],[\"AVALONBAY COMMUNITIES INC\",\"Real Estate Investment Trusts\"],[\"ARES COMMERCIAL REAL ESTATE CORP\",\"Real Estate Investment Trusts\"],[\"CARTER VALIDUS MISSION CRITICAL REIT II, INC.\",\"Real Estate Investment Trusts\"],[\"PHYSICIANS REALTY TRUST\",\"Real Estate Investment Trusts\"],[\"PROLOGIS, INC.\",\"Real Estate Investment Trusts\"],[\"ARMOUR RESIDENTIAL REIT, INC.\",\"Real Estate Investment Trusts\"],[\"CHERRY HILL MORTGAGE INVESTMENT CORP\",\"Real Estate Investment Trusts\"],[\"EMPIRE STATE REALTY TRUST, INC.\",\"Real Estate Investment Trusts\"],[\"PUBLIC STORAGE\",\"Real Estate Investment Trusts\"],[\"APARTMENT INVESTMENT & MANAGEMENT CO\",\"Real Estate Investment Trusts\"],[\"CEDAR REALTY TRUST, INC.\",\"Real Estate Investment Trusts\"],[\"HIGHLANDS REIT, INC.\",\"Real Estate Investment Trusts\"],[\"IRON MOUNTAIN INC\",\"Real Estate Investment Trusts\"],[\"SOTHERLY HOTELS INC.\",\"Real Estate Investment Trusts\"],[\"EMPIRE STATE REALTY OP, L.P.\",\"Real Estate Investment Trusts\"],[\"ESSEX PROPERTY TRUST INC\",\"Real Estate Investment Trusts\"],[\"WEINGARTEN REALTY INVESTORS /TX/\",\"Real Estate Investment Trusts\"],[\"CONDOR HOSPITALITY TRUST, INC.\",\"Real Estate Investment Trusts\"],[\"CITY OFFICE REIT, INC.\",\"Real Estate Investment Trusts\"],[\"BENEFIT STREET PARTNERS REALTY TRUST, INC.\",\"Real Estate Investment Trusts\"],[\"LIGHTSTONE REAL ESTATE INCOME TRUST INC.\",\"Real Estate Investment Trusts\"],[\"AMERICAN CAMPUS COMMUNITIES INC\",\"Real Estate Investment Trusts\"],[\"STARWOOD PROPERTY TRUST, INC.\",\"Real Estate Investment Trusts\"],[\"CORESITE REALTY CORP\",\"Real Estate Investment Trusts\"],[\"POTLATCH CORP\",\"Real Estate Investment Trusts\"],[\"CORPORATE OFFICE PROPERTIES TRUST\",\"Real Estate Investment Trusts\"],[\"RAMCO GERSHENSON PROPERTIES TRUST\",\"Real Estate Investment Trusts\"],[\"NATIONAL STORAGE AFFILIATES TRUST\",\"Real Estate Investment Trusts\"],[\"HERSHA HOSPITALITY TRUST\",\"Real Estate Investment Trusts\"],[\"JERNIGAN CAPITAL, INC.\",\"Real Estate Investment Trusts\"],[\"VORNADO REALTY TRUST\",\"Real Estate Investment Trusts\"],[\"ISTAR INC.\",\"Real Estate Investment Trusts\"],[\"ALEXANDER & BALDWIN, INC.\",\"Real Estate Investment Trusts\"],[\"HOSPITALITY INVESTORS TRUST, INC.\",\"Real Estate Investment Trusts\"],[\"SAUL CENTERS INC\",\"Real Estate Investment Trusts\"],[\"KBS GROWTH & INCOME REIT, INC.\",\"Real Estate Investment Trusts\"],[\"EXTRA SPACE STORAGE INC.\",\"Real Estate Investment Trusts\"],[\"CHESAPEAKE LODGING TRUST\",\"Real Estate Investment Trusts\"],[\"LTC PROPERTIES INC\",\"Real Estate Investment Trusts\"],[\"EASTERLY GOVERNMENT PROPERTIES, INC.\",\"Real Estate Investment Trusts\"],[\"PLYMOUTH INDUSTRIAL REIT INC.\",\"Real Estate Investment Trusts\"],[\"FRANKLIN STREET PROPERTIES CORP /MA/\",\"Real Estate Investment Trusts\"],[\"HEALTHCARE TRUST OF AMERICA, INC.\",\"Real Estate Investment Trusts\"],[\"REALSOURCE RESIDENTIAL, INC\",\"Real Estate Investment Trusts\"],[\"CARTER VALIDUS MISSION CRITICAL REIT, INC.\",\"Real Estate Investment Trusts\"],[\"SUN COMMUNITIES INC\",\"Real Estate Investment Trusts\"],[\"FIRST EQUITY PROPERTIES INC\",\"Real Estate Investment Trusts\"],[\"MID AMERICA APARTMENT COMMUNITIES INC\",\"Real Estate Investment Trusts\"],[\"BROOKFIELD DTLA FUND OFFICE TRUST INVESTOR INC.\",\"Real Estate Investment Trusts\"],[\"ANNALY CAPITAL MANAGEMENT INC\",\"Real Estate Investment Trusts\"],[\"WHEELER REAL ESTATE INVESTMENT TRUST, INC.\",\"Real Estate Investment Trusts\"],[\"ALEXANDRIA REAL ESTATE EQUITIES INC\",\"Real Estate Investment Trusts\"],[\"HIGHWOODS PROPERTIES INC\",\"Real Estate Investment Trusts\"],[\"KIMCO REALTY CORP\",\"Real Estate Investment Trusts\"],[\"INDEPENDENCE REALTY TRUST, INC.\",\"Real Estate Investment Trusts\"],[\"PREFERRED APARTMENT COMMUNITIES INC\",\"Real Estate Investment Trusts\"],[\"ELLINGTON RESIDENTIAL MORTGAGE REIT\",\"Real Estate Investment Trusts\"],[\"CORECIVIC, INC.\",\"Real Estate Investment Trusts\"],[\"ASHFORD HOSPITALITY PRIME, INC.\",\"Real Estate Investment Trusts\"],[\"LIFE STORAGE, INC.\",\"Real Estate Investment Trusts\"],[\"HEALTHCARE REALTY TRUST INC\",\"Real Estate Investment Trusts\"],[\"WINTHROP REALTY LIQUIDATING TRUST\",\"Real Estate Investment Trusts\"],[\"CORENERGY INFRASTRUCTURE TRUST, INC.\",\"Real Estate Investment Trusts\"],[\"KBS STRATEGIC OPPORTUNITY REIT II, INC.\",\"Real Estate Investment Trusts\"],[\"PEBBLEBROOK HOTEL TRUST\",\"Real Estate Investment Trusts\"],[\"SABRA HEALTH CARE REIT, INC.\",\"Real Estate Investment Trusts\"],[\"POWER REIT\",\"Real Estate Investment Trusts\"],[\"DYNEX CAPITAL INC\",\"Real Estate Investment Trusts\"],[\"DIGITAL REALTY TRUST, INC.\",\"Real Estate Investment Trusts\"],[\"STRATEGIC REALTY TRUST, INC.\",\"Real Estate Investment Trusts\"],[\"COLE OFFICE & INDUSTRIAL REIT (CCIT III), INC.\",\"Real Estate Investment Trusts\"],[\"HEALTHCARE TRUST, INC.\",\"Real Estate Investment Trusts\"],[\"LADDER CAPITAL CORP\",\"Real Estate Investment Trusts\"],[\"CROWN CASTLE INTERNATIONAL CORP\",\"Real Estate Investment Trusts\"],[\"HOWARD HUGHES CORP\",\"Real Estate Investment Trusts\"],[\"ALEXANDERS INC\",\"Real Estate Investment Trusts\"],[\"MANHATTAN BRIDGE CAPITAL, INC\",\"Real Estate Investment Trusts\"],[\"INLAND REAL ESTATE INCOME TRUST, INC.\",\"Real Estate Investment Trusts\"],[\"INLAND RESIDENTIAL PROPERTIES TRUST, INC.\",\"Real Estate Investment Trusts\"],[\"INLAND RESIDENTIAL PROPERTIES TRUST, INC.\",\"Real Estate Investment Trusts\"],[\"KBS REAL ESTATE INVESTMENT TRUST II, INC.\",\"Real Estate Investment Trusts\"],[\"RESOURCE REAL ESTATE OPPORTUNITY REIT II, INC.\",\"Real Estate Investment Trusts\"],[\"STEADFAST APARTMENT REIT III, INC.\",\"Real Estate Investment Trusts\"],[\"ACADIA REALTY TRUST\",\"Real Estate Investment Trusts\"],[\"HMG COURTLAND PROPERTIES INC\",\"Real Estate Investment Trusts\"],[\"COLE CREDIT PROPERTY TRUST IV, INC.\",\"Real Estate Investment Trusts\"],[\"FIVE OAKS INVESTMENT CORP.\",\"Real Estate Investment Trusts\"],[\"NEXPOINT RESIDENTIAL TRUST, INC.\",\"Real Estate Investment Trusts\"],[\"TWO HARBORS INVESTMENT CORP.\",\"Real Estate Investment Trusts\"],[\"WASHINGTON PRIME GROUP INC.\",\"Real Estate Investment Trusts\"],[\"TIER REIT INC\",\"Real Estate Investment Trusts\"],[\"GRANITE POINT MORTGAGE TRUST INC.\",\"Real Estate Investment Trusts\"],[\"GREAT AJAX CORP.\",\"Real Estate Investment Trusts\"],[\"DUKE REALTY CORP\",\"Real Estate Investment Trusts\"],[\"EASTGROUP PROPERTIES INC\",\"Real Estate Investment Trusts\"],[\"STEADFAST APARTMENT REIT, INC.\",\"Real Estate Investment Trusts\"],[\"RECKSON OPERATING PARTNERSHIP LP\",\"Real Estate Investment Trusts\"],[\"GLOBAL NET LEASE, INC.\",\"Real Estate Investment Trusts\"],[\"KBS STRATEGIC OPPORTUNITY REIT, INC.\",\"Real Estate Investment Trusts\"],[\"WHITESTONE REIT\",\"Real Estate Investment Trusts\"],[\"GRIFFIN CAPITAL ESSENTIAL ASSET REIT II, INC.\",\"Real Estate Investment Trusts\"],[\"UDR, INC.\",\"Real Estate Investment Trusts\"],[\"COMMUNITY HEALTHCARE TRUST INC\",\"Real Estate Investment Trusts\"],[\"VENTAS INC\",\"Real Estate Investment Trusts\"],[\"OWENS REALTY MORTGAGE, INC.\",\"Real Estate Investment Trusts\"],[\"KILROY REALTY CORP\",\"Real Estate Investment Trusts\"],[\"SUMMIT HOTEL PROPERTIES, INC.\",\"Real Estate Investment Trusts\"],[\"CORPORATE PROPERTY ASSOCIATES 18 GLOBAL INC\",\"Real Estate Investment Trusts\"],[\"CYRUSONE INC.\",\"Real Estate Investment Trusts\"],[\"COLONY NORTHSTAR, INC.\",\"Real Estate Investment Trusts\"],[\"FEDERAL REALTY INVESTMENT TRUST\",\"Real Estate Investment Trusts\"],[\"NEW SENIOR INVESTMENT GROUP INC.\",\"Real Estate Investment Trusts\"],[\"RYMAN HOSPITALITY PROPERTIES, INC.\",\"Real Estate Investment Trusts\"],[\"BRIXMOR PROPERTY GROUP INC.\",\"Real Estate Investment Trusts\"],[\"COLE OFFICE & INDUSTRIAL REIT (CCIT II), INC.\",\"Real Estate Investment Trusts\"],[\"OMEGA HEALTHCARE INVESTORS INC\",\"Real Estate Investment Trusts\"],[\"REVEN HOUSING REIT, INC.\",\"Real Estate Investment Trusts\"],[\"AMERICAN REALTY CAPITAL NEW YORK CITY REIT, INC.\",\"Real Estate Investment Trusts\"],[\"STAG INDUSTRIAL, INC.\",\"Real Estate Investment Trusts\"],[\"EQUINIX INC\",\"Real Estate Investment Trusts\"]],\"hovertemplate\":\"color=Real Estate Investment Trusts<br>0=%{x}<br>1=%{y}<br>2=%{z}<br>name=%{customdata[0]}<br>industry=%{customdata[1]}<extra></extra>\",\"legendgroup\":\"Real Estate Investment Trusts\",\"marker\":{\"color\":\"#ab63fa\",\"symbol\":\"circle\"},\"mode\":\"markers\",\"name\":\"Real Estate Investment Trusts\",\"scene\":\"scene\",\"showlegend\":true,\"x\":[0.10824096498172014,0.0952697876243197,0.0952644076346677,0.10228461631107696,0.10228461631107696,0.12275052008259375,0.12275052008259375,0.10120672542201821,0.10809425604048185,0.07015267447279684,0.14245875062480862,0.01146721932361503,0.09225437785450341,0.10444617763874599,0.07239237194386701,0.01147830749321586,0.13214870254361563,0.08758723047024562,0.09698489157361946,0.18076457591262365,0.07550797871984732,0.11882614786809571,0.16629670082496864,0.11282678268337729,0.09373145039577772,0.005523584151271501,0.24393360559678925,0.15517984074855398,0.10688615860110712,0.08148430865727856,0.0738069121523137,0.030467128262843576,0.06813031135632101,0.11059967744375783,0.0638971895507361,0.1597305620964671,0.07680011630322567,0.0738871507189174,0.05405539906230976,0.12779642548312845,0.1686034758525644,0.10685867365743996,0.0157914744765454,0.10559185083225454,0.12066801314488265,0.15373085991423086,0.03600946333486077,0.21271575200634601,0.009091410455482694,0.1509067578851379,0.1593158515437595,0.09675390682462198,0.10612048760389534,0.03600946333486077,0.1005866397717818,0.0932719128096353,0.1176328692535296,0.08516988812060212,0.079574305682874,0.09445879216554658,0.12400399840632971,0.06680767917659848,0.19864287490343543,0.04780154047619831,0.17039478480453032,0.08488178057917876,0.1506910292780709,0.13867407118945896,0.05607826186795545,0.03600946333486077,0.1460424159507975,0.15263194955146966,0.1686023936124804,0.1156181261020869,0.01831707544320343,0.1381674790006711,0.10969107440403572,0.11175720899761867,0.10269822920635062,-0.0014294985534218931,0.09648983076733969,0.11340116739724188,0.11832603577743867,0.00037477457205789446,0.05069330694201638,0.10060971564998632,0.106688534541312,0.11741517311451277,0.07574097781623715,0.12019833724498064,0.19757573892606473,0.03600946333486077,0.07695495673445334,0.21615058246779442,0.0022970119551861006,0.13660762388152753,0.04759255060361495,0.033361759556349416,0.08584017665278226,0.09250663166273575,0.0973655597533148,0.0652243831904595,0.18180457540660402,0.15465213039006856,0.09638639175616588,0.0662155519828338,0.1273829836390961,0.0756188097175748,0.06434631216666073,0.004808053800443806,0.057618181378750744,0.09807359406020014,0.12937481528142025,0.013885239196951553,0.024476066701366032,0.15945303661189045,0.005433948265252339,0.1072575541244307,0.13096795545919926,0.061116761570688724,0.0168843858161745,0.09026635091754712,0.13081974288898218,0.04626530431805524,0.09829945394866262,0.11049165428195372,0.17557111460173042,0.10892419097284906,0.0859530183287913,0.03616127022036778,0.10606782211881885,0.020143852797419044,0.07764632545159075,0.08589614037835522,0.12767826354949638,0.042776608522853525,0.12274611615792873,0.13787956877650734,0.14402192390417734,0.008838111460498182,0.13137128541866064,0.15656234259815188,0.03456808559977093,0.19905280093796598,0.04594272278341734,0.16618642926064037,0.03774329388141948,0.18521336146810222,0.17105721590648168,0.13029625220439833,0.13029625220439833,0.1472333806183058,0.18514722549651857,0.03596099547801981,0.1316900894817354,0.03490687033125307,0.16302243112884215,0.19991449569112188,0.12532655181783012,0.18020518666873525,0.12057464367279172,0.06077273987107489,0.18399195759893527,0.14713007670673695,0.03888335189197869,0.055110026504018333,0.12548580910888077,0.07201636827853473,0.12516649858808496,0.14326538961781854,0.1511618471083402,0.1101382297485357,0.12956246132643556,0.08109009520820082,0.10166247550975788,0.13598221709152822,0.09547121092529237,0.06645606385405638,0.07077364638019884,0.009493904513834906,0.17778345775701063,0.12558831402666104,0.05804432897091379,0.04382187226732633,0.06016335641254885,0.15920224489950152,0.037363132657421,0.14580063838585913,0.16590680691395393,0.05993087749617234,-0.007771749454877139],\"y\":[-0.3069214680153952,-0.29414312151680094,-0.2594327240466216,-0.2218097375325511,-0.2218097375325511,-0.30234062400873873,-0.30234062400873873,-0.3376295544174256,-0.310661808714271,-0.31904040764816727,-0.3541157371502059,-0.14262149669741986,-0.3102360760298938,-0.3606353083759718,-0.2883232192345861,-0.1358804295264235,-0.15010184187783032,-0.28744498165236404,-0.29418810602715856,-0.36098555204932165,-0.2231396627636379,-0.298166138941768,-0.3856278192015645,-0.20145243218450615,-0.2877558246617148,-0.1383138787145999,-0.16272907926418181,-0.3826914846867778,-0.3166214117752368,-0.31212834539315343,-0.3155850062942777,-0.15794033059101248,-0.2203062155776317,-0.24588257995131546,-0.26437520669992254,-0.36594606781015415,-0.28016115580692474,-0.30074994841391156,-0.26864455699558826,-0.2969304963866101,-0.3633406899674113,-0.2889994996674871,-0.2225411871893252,-0.29366077605815066,-0.38776958216625484,-0.41207372787961527,-0.07392442365525755,-0.3307277901340189,-0.15108848486133797,-0.35331666759605407,-0.17475625459535174,-0.33930717532866284,-0.2085960319618077,-0.07392442365525755,-0.32740019558642874,-0.2829637258560081,-0.35187536310398243,-0.22100307745235864,-0.2761684195625043,-0.24734108714214936,-0.29509289036575653,-0.24887466699061828,-0.176169573424013,-0.22661905451382533,-0.36246459815377335,-0.2905315585689792,-0.1083699951017537,-0.19553327977080112,-0.24074629666460085,-0.07392442365525755,-0.33631140061051146,-0.37332440458791627,-0.2816010025124174,-0.31693351217330246,-0.1814107723377851,-0.3037838154760788,-0.30530458721589665,-0.21370079022993876,-0.35036047366659095,-0.12327006528159207,-0.34484964880924357,-0.3441917778699299,-0.3338139532773293,-0.13924777849079825,-0.25532180826218925,-0.3347917836953747,-0.3439852749541685,-0.3004983677312474,-0.3206954298452889,-0.3110152414381011,-0.2103538385870156,-0.07392442365525755,-0.28534971610643156,-0.2774166201633207,-0.12006076615975735,-0.3036688790444754,-0.23402523157562566,-0.23727160643637574,-0.3317277038494519,-0.3448041092826429,-0.25482746659489336,-0.278116168657315,-0.3132455258560697,-0.32259244227353717,-0.3366160215319434,-0.24943862910660441,-0.3320865531990578,-0.30627551077025844,-0.2754541310318271,-0.12249501827213567,-0.3171689272200078,-0.33166302080165,-0.258327136978555,-0.20086571297418987,-0.17406183084977872,-0.3760466479782466,-0.12360315834092216,-0.24646557252802356,-0.3786242637836268,-0.2648531839216295,-0.14710965154350958,-0.2956874285552974,-0.3287184129397728,-0.11210582245095285,-0.24628569123195654,-0.32932108261382076,-0.35311337758812616,-0.20221863111390084,-0.2931807916099022,-0.211457214243744,-0.3466202524189589,-0.1827009482407325,-0.2519965279329488,-0.2715499378232966,-0.35664546629555727,-0.2761620732530897,-0.30729710097768154,-0.23804526148016705,-0.19902695927156416,-0.12913028905741925,-0.3937605418819557,-0.37419794776974263,-0.22685283715932103,-0.21139825606347837,-0.20914773307510623,-0.34560110129410027,-0.21416686321740241,-0.2651421381672018,-0.39492796047628326,-0.35279499922103097,-0.35279499922103097,-0.3774597843038136,-0.3554777714855882,-0.20845548604396597,-0.2712282807590235,-0.10602790535399724,-0.368761591373945,-0.26242753592991047,-0.34632094064640845,-0.22839001205726234,-0.32990426352310154,-0.27463451171704006,-0.24874422770391466,-0.2816123262494648,-0.16344043977098502,-0.23583050540212963,-0.3627709212223845,-0.31515073140611205,-0.3505579704634858,-0.3505567547143995,-0.33144027080103644,-0.3591541139389349,-0.3993645461748528,-0.27486614111105234,-0.2686807572337602,-0.2430971094416965,-0.2656320301589372,-0.3025163464099362,-0.23476246758613784,-0.13491490926125663,-0.2995394826359428,-0.35787728138281233,-0.25819503169458835,-0.25080595593989047,-0.30275813893170445,-0.36740736671016255,-0.2202455698316536,-0.3335812781209163,-0.3562035156409333,-0.3065179284426109,-0.09389787529801699],\"z\":[-0.242331686673736,-0.19675719896289137,-0.19813943724903324,-0.18303788499452353,-0.18303788499452353,-0.2514474597612718,-0.2514474597612718,-0.27819549261382603,-0.25626955487059905,-0.20714445358710765,-0.2976797645395974,-0.024464984463389947,-0.23193925352294967,-0.28248224241906184,-0.1831455244052001,-0.017339220453355928,-0.12986595983490776,-0.18984666221520732,-0.20860575905214587,-0.3417050037629007,-0.15571130783100448,-0.2531860691129385,-0.3548099757144936,-0.15444799819839813,-0.21466876764768958,-0.03934713223351373,-0.22013930541889945,-0.3131272169664497,-0.24667478000125959,-0.22005812366067856,-0.23461964144416123,-0.0764592637455657,-0.1530042548020384,-0.22511145224481952,-0.1787927696386169,-0.323353314468912,-0.20903607235399277,-0.21854959894469383,-0.17184139694527117,-0.2415340150803323,-0.3328461304365749,-0.18651056977946162,-0.17073830524824937,-0.25025991045648804,-0.24482892627010402,-0.3604889553819008,0.027141221337296236,-0.31640863508879574,-0.046595238155486954,-0.2755660206492624,-0.1706949964310288,-0.276105865160791,-0.16686527945630922,0.027141221337296236,-0.25351927861640305,-0.19106446877861372,-0.2631031658269522,-0.11252781381423657,-0.14012811052649501,-0.18180175514567715,-0.22799894641497148,-0.17129462128343875,-0.20841292663663874,-0.14489865475177222,-0.35432358909286027,-0.22029977154063882,-0.11403771519894418,-0.18795722908949467,-0.08611700809229302,0.027141221337296236,-0.3059609746486987,-0.3304102823760061,-0.26916304564131627,-0.24436739607380017,-0.1460171650102834,-0.24260029143205206,-0.2313234646744321,-0.17323877126005088,-0.2596463287332357,-0.04564034406940498,-0.26589462794069774,-0.2182013768009169,-0.2270565974708147,-0.058131175003317145,-0.16442618046292978,-0.24485070015322727,-0.2674285627434155,-0.24711694137738627,-0.21658535624001493,-0.17234236760807237,-0.24809007111226838,0.027141221337296236,-0.19366113706674232,-0.23588238624048669,-0.014034290518806568,-0.25737289778768024,-0.15265701756320255,-0.1383410523033127,-0.23679229989945674,-0.23036672535972894,-0.17799979833724694,-0.198383688829036,-0.30087988021129536,-0.2229611458577991,-0.25992545557527136,-0.16624190731389862,-0.26892382246762503,-0.2105993845316233,-0.16655696968328,-0.10048265017100981,-0.2046491188733009,-0.24481748427765707,-0.23807498011466868,-0.13184848711199768,-0.0942895223651818,-0.33666081772491546,-0.0229877643613335,-0.19989404754149673,-0.3275647106910183,-0.1409966360261906,-0.08323194324342346,-0.20057500105342793,-0.2659704808666673,-0.006484150565251207,-0.19343645773292226,-0.24537252252871852,-0.28596561006901977,-0.16074558862957358,-0.22292317299888018,-0.10718299341990102,-0.24743377285879495,-0.1375396511692384,-0.18727930727515973,-0.10698763566465105,-0.28730846777768076,-0.13912688892359576,-0.2798916901834232,-0.21723561486999543,-0.16496876190572457,-0.036066890722907016,-0.32129617736877697,-0.3313622768596341,-0.1540296845812931,-0.23450389961566692,-0.06868302615549685,-0.3136491046770727,-0.1285725961918232,-0.2836046305500518,-0.3792994071530991,-0.30101746394748463,-0.30101746394748463,-0.30864623259766166,-0.3612653787630413,-0.0967283975045566,-0.191649089842357,-0.006398724735742433,-0.33544905774988626,-0.2739428842200514,-0.27367986232293856,-0.21897660515573494,-0.20037541470563178,-0.21037372345928512,-0.26365969964400915,-0.2375521555839047,-0.04959019780816755,-0.1569768726300109,-0.29245001920319735,-0.2301711111457143,-0.26525108125553676,-0.3028472907971591,-0.30252700624951356,-0.2527571315455883,-0.311659957592424,-0.23915898526188015,-0.1974732759914859,-0.21417208357093528,-0.10436437419818585,-0.17723712063811678,-0.10224701888163623,-0.025581760459302078,-0.2901451151216974,-0.28875727570238885,-0.21585851276810053,-0.15300756006951552,-0.20199072517167233,-0.32754344642103633,-0.09392964287127474,-0.2932457303058455,-0.3267998151002369,-0.19042875123291575,0.004911771874243401],\"type\":\"scatter3d\"},{\"customdata\":[[\"TOMPKINS FINANCIAL CORP\",\"State Commercial Banks (commercial banking)\"],[\"TRIUMPH BANCORP, INC.\",\"State Commercial Banks (commercial banking)\"],[\"GREAT SOUTHERN BANCORP, INC.\",\"State Commercial Banks (commercial banking)\"],[\"SOUTH STATE CORP\",\"State Commercial Banks (commercial banking)\"],[\"OLD LINE BANCSHARES INC\",\"State Commercial Banks (commercial banking)\"],[\"SEACOAST BANKING CORP OF FLORIDA\",\"State Commercial Banks (commercial banking)\"],[\"CITIZENS FINANCIAL GROUP INC/RI\",\"State Commercial Banks (commercial banking)\"],[\"COMMUNITY WEST BANCSHARES /\",\"State Commercial Banks (commercial banking)\"],[\"MACKINAC FINANCIAL CORP /MI/\",\"State Commercial Banks (commercial banking)\"],[\"UNITY BANCORP INC /NJ/\",\"State Commercial Banks (commercial banking)\"],[\"UNITY BANCORP INC /NJ/\",\"State Commercial Banks (commercial banking)\"],[\"EAST WEST BANCORP INC\",\"State Commercial Banks (commercial banking)\"],[\"HEARTLAND FINANCIAL USA INC\",\"State Commercial Banks (commercial banking)\"],[\"COUNTY BANCORP, INC.\",\"State Commercial Banks (commercial banking)\"],[\"CHEMUNG FINANCIAL CORP\",\"State Commercial Banks (commercial banking)\"],[\"BRYN MAWR BANK CORP\",\"State Commercial Banks (commercial banking)\"],[\"EAGLE BANCORP MONTANA, INC.\",\"State Commercial Banks (commercial banking)\"],[\"1ST SOURCE CORP\",\"State Commercial Banks (commercial banking)\"],[\"SERVISFIRST BANCSHARES, INC.\",\"State Commercial Banks (commercial banking)\"],[\"SIERRA BANCORP\",\"State Commercial Banks (commercial banking)\"],[\"HOPFED BANCORP INC\",\"State Commercial Banks (commercial banking)\"],[\"HOPFED BANCORP INC\",\"State Commercial Banks (commercial banking)\"],[\"FIRST FINANCIAL BANKSHARES INC\",\"State Commercial Banks (commercial banking)\"],[\"CHEMICAL FINANCIAL CORP\",\"State Commercial Banks (commercial banking)\"],[\"SECURITY FEDERAL CORP\",\"State Commercial Banks (commercial banking)\"],[\"FIRST FINANCIAL CORP /IN/\",\"State Commercial Banks (commercial banking)\"],[\"WESTERN ALLIANCE BANCORPORATION\",\"State Commercial Banks (commercial banking)\"],[\"TRISTATE CAPITAL HOLDINGS, INC.\",\"State Commercial Banks (commercial banking)\"],[\"UNION BANKSHARES CORP\",\"State Commercial Banks (commercial banking)\"],[\"CAROLINA TRUST BANCSHARES, INC.\",\"State Commercial Banks (commercial banking)\"],[\"COMMUNITY TRUST BANCORP INC /KY/\",\"State Commercial Banks (commercial banking)\"],[\"HILLS BANCORPORATION\",\"State Commercial Banks (commercial banking)\"],[\"MACATAWA BANK CORP\",\"State Commercial Banks (commercial banking)\"],[\"PREMIER FINANCIAL BANCORP INC\",\"State Commercial Banks (commercial banking)\"],[\"KENTUCKY BANCSHARES INC /KY/\",\"State Commercial Banks (commercial banking)\"],[\"RIVER FINANCIAL CORP\",\"State Commercial Banks (commercial banking)\"],[\"BAR HARBOR BANKSHARES\",\"State Commercial Banks (commercial banking)\"],[\"PARKE BANCORP, INC.\",\"State Commercial Banks (commercial banking)\"],[\"RANDOLPH BANCORP, INC.\",\"State Commercial Banks (commercial banking)\"],[\"BANK OF HAWAII CORP\",\"State Commercial Banks (commercial banking)\"],[\"BSB BANCORP, INC.\",\"State Commercial Banks (commercial banking)\"],[\"INDEPENDENT BANK CORP /MI/\",\"State Commercial Banks (commercial banking)\"],[\"PACIFIC PREMIER BANCORP INC\",\"State Commercial Banks (commercial banking)\"],[\"OHIO VALLEY BANC CORP\",\"State Commercial Banks (commercial banking)\"],[\"CVB FINANCIAL CORP\",\"State Commercial Banks (commercial banking)\"],[\"BANK OF NEW YORK MELLON CORP\",\"State Commercial Banks (commercial banking)\"],[\"TWO RIVER BANCORP\",\"State Commercial Banks (commercial banking)\"],[\"STEWARDSHIP FINANCIAL CORP\",\"State Commercial Banks (commercial banking)\"],[\"LAKELAND FINANCIAL CORP\",\"State Commercial Banks (commercial banking)\"],[\"FAUQUIER BANKSHARES, INC.\",\"State Commercial Banks (commercial banking)\"],[\"LIVE OAK BANCSHARES, INC.\",\"State Commercial Banks (commercial banking)\"],[\"M&T BANK CORP\",\"State Commercial Banks (commercial banking)\"],[\"INTERNATIONAL BANCSHARES CORP\",\"State Commercial Banks (commercial banking)\"],[\"SUMMIT FINANCIAL GROUP INC\",\"State Commercial Banks (commercial banking)\"],[\"SUSSEX BANCORP\",\"State Commercial Banks (commercial banking)\"],[\"PRIME MERIDIAN HOLDING CO\",\"State Commercial Banks (commercial banking)\"],[\"BANKWELL FINANCIAL GROUP, INC.\",\"State Commercial Banks (commercial banking)\"],[\"SOUTHWEST GEORGIA FINANCIAL CORP\",\"State Commercial Banks (commercial banking)\"],[\"BANK OF COMMERCE HOLDINGS\",\"State Commercial Banks (commercial banking)\"],[\"BANK OF COMMERCE HOLDINGS\",\"State Commercial Banks (commercial banking)\"],[\"UNITED BANCORP INC /OH/\",\"State Commercial Banks (commercial banking)\"],[\"PARKWAY ACQUISITION CORP.\",\"State Commercial Banks (commercial banking)\"],[\"INVESTAR HOLDING CORP\",\"State Commercial Banks (commercial banking)\"],[\"RENASANT CORP\",\"State Commercial Banks (commercial banking)\"],[\"RELIANT BANCORP, INC.\",\"State Commercial Banks (commercial banking)\"],[\"FIRST COMMUNITY CORP /SC/\",\"State Commercial Banks (commercial banking)\"],[\"FIRST FINANCIAL NORTHWEST, INC.\",\"State Commercial Banks (commercial banking)\"],[\"COMMERCE BANCSHARES INC /MO/\",\"State Commercial Banks (commercial banking)\"],[\"JUNIATA VALLEY FINANCIAL CORP\",\"State Commercial Banks (commercial banking)\"],[\"HOWARD BANCORP INC\",\"State Commercial Banks (commercial banking)\"],[\"EAGLE FINANCIAL SERVICES INC\",\"State Commercial Banks (commercial banking)\"],[\"MVB FINANCIAL CORP\",\"State Commercial Banks (commercial banking)\"],[\"INDEPENDENT BANK GROUP, INC.\",\"State Commercial Banks (commercial banking)\"],[\"CONNECTONE BANCORP, INC.\",\"State Commercial Banks (commercial banking)\"],[\"REPUBLIC BANCORP INC /KY/\",\"State Commercial Banks (commercial banking)\"],[\"SOUTHSIDE BANCSHARES INC\",\"State Commercial Banks (commercial banking)\"],[\"FIRST HAWAIIAN, INC.\",\"State Commercial Banks (commercial banking)\"],[\"FIRST US BANCSHARES INC\",\"State Commercial Banks (commercial banking)\"],[\"COMMUNITY FINANCIAL CORP /MD/\",\"State Commercial Banks (commercial banking)\"],[\"BANNER CORP\",\"State Commercial Banks (commercial banking)\"],[\"SVB FINANCIAL GROUP\",\"State Commercial Banks (commercial banking)\"],[\"CATHAY GENERAL BANCORP\",\"State Commercial Banks (commercial banking)\"],[\"BANK OF THE JAMES FINANCIAL GROUP INC\",\"State Commercial Banks (commercial banking)\"],[\"FLUSHING FINANCIAL CORP\",\"State Commercial Banks (commercial banking)\"],[\"FRANKLIN FINANCIAL SERVICES CORP /PA/\",\"State Commercial Banks (commercial banking)\"],[\"CENTRAL PACIFIC FINANCIAL CORP\",\"State Commercial Banks (commercial banking)\"],[\"CENTRAL PACIFIC FINANCIAL CORP\",\"State Commercial Banks (commercial banking)\"],[\"CENTRAL VALLEY COMMUNITY BANCORP\",\"State Commercial Banks (commercial banking)\"],[\"F&M BANK CORP\",\"State Commercial Banks (commercial banking)\"],[\"FARMERS NATIONAL BANC CORP /OH/\",\"State Commercial Banks (commercial banking)\"],[\"CITIZENS & NORTHERN CORP\",\"State Commercial Banks (commercial banking)\"],[\"GUARANTY FEDERAL BANCSHARES INC\",\"State Commercial Banks (commercial banking)\"],[\"CAROLINA FINANCIAL CORP\",\"State Commercial Banks (commercial banking)\"],[\"FIRST INTERNET BANCORP\",\"State Commercial Banks (commercial banking)\"],[\"HARBORONE BANCORP, INC.\",\"State Commercial Banks (commercial banking)\"],[\"UNITED BANKSHARES INC/WV\",\"State Commercial Banks (commercial banking)\"],[\"INDEPENDENT BANK CORP\",\"State Commercial Banks (commercial banking)\"],[\"CITIZENS FINANCIAL SERVICES INC\",\"State Commercial Banks (commercial banking)\"],[\"NORWOOD FINANCIAL CORP\",\"State Commercial Banks (commercial banking)\"],[\"WEST BANCORPORATION INC\",\"State Commercial Banks (commercial banking)\"],[\"CUSTOMERS BANCORP, INC.\",\"State Commercial Banks (commercial banking)\"],[\"WEST END INDIANA BANCSHARES, INC.\",\"State Commercial Banks (commercial banking)\"],[\"ATLANTIC CAPITAL BANCSHARES, INC.\",\"State Commercial Banks (commercial banking)\"],[\"IBERIABANK CORP\",\"State Commercial Banks (commercial banking)\"],[\"MERCANTILE BANK CORP\",\"State Commercial Banks (commercial banking)\"],[\"GERMAN AMERICAN BANCORP, INC.\",\"State Commercial Banks (commercial banking)\"],[\"S&T BANCORP INC\",\"State Commercial Banks (commercial banking)\"],[\"HILLTOP HOLDINGS INC.\",\"State Commercial Banks (commercial banking)\"],[\"CB FINANCIAL SERVICES, INC.\",\"State Commercial Banks (commercial banking)\"],[\"ENTERPRISE FINANCIAL SERVICES CORP\",\"State Commercial Banks (commercial banking)\"],[\"AUBURN NATIONAL BANCORPORATION, INC\",\"State Commercial Banks (commercial banking)\"],[\"FIRST KEYSTONE CORP\",\"State Commercial Banks (commercial banking)\"],[\"TEXAS CAPITAL BANCSHARES INC/TX\",\"State Commercial Banks (commercial banking)\"],[\"VILLAGE BANK & TRUST FINANCIAL CORP.\",\"State Commercial Banks (commercial banking)\"],[\"STOCK YARDS BANCORP, INC.\",\"State Commercial Banks (commercial banking)\"],[\"BUSINESS FIRST BANCSHARES, INC.\",\"State Commercial Banks (commercial banking)\"]],\"hovertemplate\":\"color=State Commercial Banks (commercial banking)<br>0=%{x}<br>1=%{y}<br>2=%{z}<br>name=%{customdata[0]}<br>industry=%{customdata[1]}<extra></extra>\",\"legendgroup\":\"State Commercial Banks (commercial banking)\",\"marker\":{\"color\":\"#FFA15A\",\"symbol\":\"circle\"},\"mode\":\"markers\",\"name\":\"State Commercial Banks (commercial banking)\",\"scene\":\"scene\",\"showlegend\":true,\"x\":[0.567478181857535,0.5085795058804088,0.4191285302119418,0.6333840496291118,0.5778981682148923,0.621997836636398,0.5693434536708453,0.3089058792175569,0.5261838774243781,0.5193351210708137,0.5193351210708137,0.012632031914587123,0.6232506003669642,0.6106943697812398,0.5709179845161345,0.5364737709280833,0.4861403422065157,0.6119849779070403,0.5732983061035177,0.5672701650732014,0.5772384859775643,0.5772384859775643,0.5461570256801915,0.6275374958385026,0.5291013518537129,0.6224765963636012,0.28066865752680636,0.6145907607332707,0.5858271138690011,0.592751432285628,0.4787871703085275,0.6136609331491796,0.5156144649643157,0.5857670599080442,0.5518097360989834,0.614601670056946,0.6132003883026448,0.6070849129312509,0.53396533297355,0.36416589799523036,0.455167360164777,0.07006496322387547,0.6322261013159259,0.5645376450369948,0.5510286308702345,0.09619416823801988,0.5105386931925103,0.5722057960171594,0.5977204378688684,0.6284233312790235,0.6143224963863794,0.538718053418755,0.5742632622472518,0.4984540199031461,0.5600712228304351,0.5857116503585764,0.5937949639673423,0.4618381235436155,0.5947910863136321,0.5947910863136321,0.5566120914002431,0.5986764070459214,0.6505695304494222,0.6039222180313524,0.5676033032457056,0.6322831376071808,0.5160752064071281,0.5721188035313804,0.5597209213818228,0.2685498379375611,0.5866682348411315,0.5629385948145511,0.6220402660162412,0.5763584743642505,0.45922845094991027,0.5882745073714986,0.6056475843956012,0.5344945382383202,0.47754237048310777,-0.014283446473278094,0.5416425220117569,0.5824621868202352,0.5926427121195144,0.4037259864752541,0.5988682969375264,0.6193209484189152,0.6193209484189152,0.6126640223388184,0.008732497640596337,0.5360106518803047,0.2197886287635399,0.5219975205394813,0.6422150256828839,0.5919811967751617,0.593781591493194,0.5718041884887907,0.4670981789389352,0.5593720776657242,0.588510657687156,0.5909456485881006,0.5720047800621538,0.45112637978749254,0.630815809792618,0.5901177249362763,0.5280323894828337,0.5313234497349014,0.2025021087668711,0.5759753485238984,0.39554553039543505,0.07691154058443339,0.616818071310694,0.5214460937850054,0.5670267858748971,0.6092776701845616,0.4931646082186296,0.65920381897674],\"y\":[0.4507195199235631,0.30871132535261525,0.06359152178697625,0.507375347939137,0.41510903694472573,0.5335225363707107,0.47669407842258876,0.09944274697688606,0.35536633733240086,0.4644042867045443,0.4644042867045443,-0.09894981228882128,0.494462443965638,0.44662095476407326,0.40977897238336736,0.444247013800057,0.2429684739410686,0.5057228213902052,0.404793070670716,0.43425534108555025,0.4107866963525328,0.4107866963525328,0.45258006774977594,0.40578345520424225,0.21373929842204248,0.501007235039025,0.00770307966791105,0.41998890590048177,0.5100358266452544,0.49808444758415693,0.39942028503955507,0.4428088718174658,0.29452210718456184,0.495391357087185,0.42140319801575005,0.4991025160883507,0.4755315750517712,0.39980114715497117,0.2831508661902404,0.24136960214575048,0.13883498799625962,-0.0734560533812552,0.4642878925991089,0.3894185498801853,0.4060733366990945,-0.0347900153208199,0.3046305695437805,0.48804822911535617,0.4977268177284026,0.4732444304696545,0.5171875823933588,0.42673158400545397,0.5006515452551816,0.372526543891115,0.4900815088690413,0.39487104154178587,0.40990817049343903,0.29883038898451836,0.49651721922769176,0.49651721922769176,0.4047045475398018,0.5049330969649712,0.47340602182107366,0.3524941820988829,0.49626250781156256,0.5189477431700327,0.1877921456481426,0.48644266749639953,0.4237552869881777,-0.04839507557925568,0.48739952142045323,0.4438229636107752,0.5037887847013133,0.4690975307132786,0.27509209998211914,0.4945396920966364,0.510823675389161,0.4350414679566935,0.21125338103554842,-0.047246916884780076,0.47252381140195315,0.4152136903841804,0.4851440212351421,0.09531898787943682,0.3978211644976991,0.45966296159279635,0.45966296159279635,0.485441140924439,-0.0490628560006202,0.4422841931030483,0.11650919727581362,0.266393515923877,0.48572830859168176,0.4779153579418558,0.36179886891293045,0.36479238059735963,0.1484723682655303,0.46829506521814607,0.40123227080818036,0.49673672157155635,0.4554009263579535,0.19198488033299038,0.46503082362676024,0.49224597474030024,0.29382624080210484,0.4192952262784855,0.1246676778827356,0.4480437357253245,0.08820140780365425,-0.03129678691254557,0.5260692880612967,0.42819870209588073,0.47733605660554507,0.4860167988841197,0.4086776078915632,0.4870147461871386],\"z\":[0.07439729068676747,0.03384689777226579,-0.14884790656276295,0.07197060051885673,0.03451108895226493,0.10168055855916736,0.09976568994268625,-0.04799421083689509,0.04046395999536339,0.11604300181970818,0.11604300181970818,0.01894908285481671,0.06643756394592756,0.03752262753448236,0.053336446597796974,0.089717420490505,-0.05060077344061905,0.08850062645040181,0.027322800972443797,0.06432538796592496,0.03666576459788151,0.03666576459788151,0.09406464182211254,-0.010976474986750527,-0.09410570789309575,0.07427090391789429,-0.0746837086108609,0.019712515972275094,0.11248055573265524,0.09670192518546146,0.08662863421398548,0.03379872601048545,-0.02414060156373812,0.09221029546862665,0.054533217238699735,0.08216747196725627,0.061265776027142116,0.0040381420925099595,-0.04164953129759119,0.03933308169350004,-0.11648979648688051,-0.006690999277845034,0.043846757244996495,0.03659779658896756,0.05556972880384889,-0.02248908866086535,-0.011162714767830421,0.09813182331455624,0.08490805727867952,0.050715505106390335,0.097117041262071,0.07069040175023178,0.11151483205401308,0.04909802806685906,0.11067139448234162,0.0064675371267250755,0.017778758727721722,0.024860909408191773,0.0961524961681415,0.0961524961681415,0.03888436224027509,0.09532201527933756,0.037623302165247764,-0.02875380444403495,0.10677545045511205,0.08482504566584004,-0.10707017115865577,0.09306619779967655,0.06311467995121181,-0.09202929177922935,0.09360082987808917,0.0667318090499776,0.08357262045070359,0.07654089687524677,0.0080325498777263,0.11080332212912224,0.09728856372782149,0.08024875755654759,-0.0421708200508309,0.041409234797967036,0.10862697108328101,0.04796361445059322,0.07930983555262637,-0.11132975074450138,0.00432466392628652,0.05281045143701168,0.05281045143701168,0.07860670358336823,0.02799239401140142,0.09319198233025072,0.01307499879704763,-0.04874244473113704,0.049411854373625684,0.07455513848706694,-0.024115746228937328,0.05537883577267213,-0.12243455095707564,0.11348766739826839,0.020419197954797352,0.09099938348457219,0.06817367962835982,-0.06497749958095189,0.04503643280492169,0.0981819718853894,-0.0364547081528122,0.06624398020883261,0.04369140854082527,0.06815362081439033,-0.08636225215325742,0.0033437415462470414,0.10280966177459906,0.08321587442347946,0.10243797508937157,0.07267008647923912,0.08082571257014678,0.04058695306889481],\"type\":\"scatter3d\"}],                        {\"template\":{\"data\":{\"histogram2dcontour\":[{\"type\":\"histogram2dcontour\",\"colorbar\":{\"outlinewidth\":0,\"ticks\":\"\"},\"colorscale\":[[0.0,\"#0d0887\"],[0.1111111111111111,\"#46039f\"],[0.2222222222222222,\"#7201a8\"],[0.3333333333333333,\"#9c179e\"],[0.4444444444444444,\"#bd3786\"],[0.5555555555555556,\"#d8576b\"],[0.6666666666666666,\"#ed7953\"],[0.7777777777777778,\"#fb9f3a\"],[0.8888888888888888,\"#fdca26\"],[1.0,\"#f0f921\"]]}],\"choropleth\":[{\"type\":\"choropleth\",\"colorbar\":{\"outlinewidth\":0,\"ticks\":\"\"}}],\"histogram2d\":[{\"type\":\"histogram2d\",\"colorbar\":{\"outlinewidth\":0,\"ticks\":\"\"},\"colorscale\":[[0.0,\"#0d0887\"],[0.1111111111111111,\"#46039f\"],[0.2222222222222222,\"#7201a8\"],[0.3333333333333333,\"#9c179e\"],[0.4444444444444444,\"#bd3786\"],[0.5555555555555556,\"#d8576b\"],[0.6666666666666666,\"#ed7953\"],[0.7777777777777778,\"#fb9f3a\"],[0.8888888888888888,\"#fdca26\"],[1.0,\"#f0f921\"]]}],\"heatmap\":[{\"type\":\"heatmap\",\"colorbar\":{\"outlinewidth\":0,\"ticks\":\"\"},\"colorscale\":[[0.0,\"#0d0887\"],[0.1111111111111111,\"#46039f\"],[0.2222222222222222,\"#7201a8\"],[0.3333333333333333,\"#9c179e\"],[0.4444444444444444,\"#bd3786\"],[0.5555555555555556,\"#d8576b\"],[0.6666666666666666,\"#ed7953\"],[0.7777777777777778,\"#fb9f3a\"],[0.8888888888888888,\"#fdca26\"],[1.0,\"#f0f921\"]]}],\"heatmapgl\":[{\"type\":\"heatmapgl\",\"colorbar\":{\"outlinewidth\":0,\"ticks\":\"\"},\"colorscale\":[[0.0,\"#0d0887\"],[0.1111111111111111,\"#46039f\"],[0.2222222222222222,\"#7201a8\"],[0.3333333333333333,\"#9c179e\"],[0.4444444444444444,\"#bd3786\"],[0.5555555555555556,\"#d8576b\"],[0.6666666666666666,\"#ed7953\"],[0.7777777777777778,\"#fb9f3a\"],[0.8888888888888888,\"#fdca26\"],[1.0,\"#f0f921\"]]}],\"contourcarpet\":[{\"type\":\"contourcarpet\",\"colorbar\":{\"outlinewidth\":0,\"ticks\":\"\"}}],\"contour\":[{\"type\":\"contour\",\"colorbar\":{\"outlinewidth\":0,\"ticks\":\"\"},\"colorscale\":[[0.0,\"#0d0887\"],[0.1111111111111111,\"#46039f\"],[0.2222222222222222,\"#7201a8\"],[0.3333333333333333,\"#9c179e\"],[0.4444444444444444,\"#bd3786\"],[0.5555555555555556,\"#d8576b\"],[0.6666666666666666,\"#ed7953\"],[0.7777777777777778,\"#fb9f3a\"],[0.8888888888888888,\"#fdca26\"],[1.0,\"#f0f921\"]]}],\"surface\":[{\"type\":\"surface\",\"colorbar\":{\"outlinewidth\":0,\"ticks\":\"\"},\"colorscale\":[[0.0,\"#0d0887\"],[0.1111111111111111,\"#46039f\"],[0.2222222222222222,\"#7201a8\"],[0.3333333333333333,\"#9c179e\"],[0.4444444444444444,\"#bd3786\"],[0.5555555555555556,\"#d8576b\"],[0.6666666666666666,\"#ed7953\"],[0.7777777777777778,\"#fb9f3a\"],[0.8888888888888888,\"#fdca26\"],[1.0,\"#f0f921\"]]}],\"mesh3d\":[{\"type\":\"mesh3d\",\"colorbar\":{\"outlinewidth\":0,\"ticks\":\"\"}}],\"scatter\":[{\"fillpattern\":{\"fillmode\":\"overlay\",\"size\":10,\"solidity\":0.2},\"type\":\"scatter\"}],\"parcoords\":[{\"type\":\"parcoords\",\"line\":{\"colorbar\":{\"outlinewidth\":0,\"ticks\":\"\"}}}],\"scatterpolargl\":[{\"type\":\"scatterpolargl\",\"marker\":{\"colorbar\":{\"outlinewidth\":0,\"ticks\":\"\"}}}],\"bar\":[{\"error_x\":{\"color\":\"#2a3f5f\"},\"error_y\":{\"color\":\"#2a3f5f\"},\"marker\":{\"line\":{\"color\":\"#E5ECF6\",\"width\":0.5},\"pattern\":{\"fillmode\":\"overlay\",\"size\":10,\"solidity\":0.2}},\"type\":\"bar\"}],\"scattergeo\":[{\"type\":\"scattergeo\",\"marker\":{\"colorbar\":{\"outlinewidth\":0,\"ticks\":\"\"}}}],\"scatterpolar\":[{\"type\":\"scatterpolar\",\"marker\":{\"colorbar\":{\"outlinewidth\":0,\"ticks\":\"\"}}}],\"histogram\":[{\"marker\":{\"pattern\":{\"fillmode\":\"overlay\",\"size\":10,\"solidity\":0.2}},\"type\":\"histogram\"}],\"scattergl\":[{\"type\":\"scattergl\",\"marker\":{\"colorbar\":{\"outlinewidth\":0,\"ticks\":\"\"}}}],\"scatter3d\":[{\"type\":\"scatter3d\",\"line\":{\"colorbar\":{\"outlinewidth\":0,\"ticks\":\"\"}},\"marker\":{\"colorbar\":{\"outlinewidth\":0,\"ticks\":\"\"}}}],\"scattermapbox\":[{\"type\":\"scattermapbox\",\"marker\":{\"colorbar\":{\"outlinewidth\":0,\"ticks\":\"\"}}}],\"scatterternary\":[{\"type\":\"scatterternary\",\"marker\":{\"colorbar\":{\"outlinewidth\":0,\"ticks\":\"\"}}}],\"scattercarpet\":[{\"type\":\"scattercarpet\",\"marker\":{\"colorbar\":{\"outlinewidth\":0,\"ticks\":\"\"}}}],\"carpet\":[{\"aaxis\":{\"endlinecolor\":\"#2a3f5f\",\"gridcolor\":\"white\",\"linecolor\":\"white\",\"minorgridcolor\":\"white\",\"startlinecolor\":\"#2a3f5f\"},\"baxis\":{\"endlinecolor\":\"#2a3f5f\",\"gridcolor\":\"white\",\"linecolor\":\"white\",\"minorgridcolor\":\"white\",\"startlinecolor\":\"#2a3f5f\"},\"type\":\"carpet\"}],\"table\":[{\"cells\":{\"fill\":{\"color\":\"#EBF0F8\"},\"line\":{\"color\":\"white\"}},\"header\":{\"fill\":{\"color\":\"#C8D4E3\"},\"line\":{\"color\":\"white\"}},\"type\":\"table\"}],\"barpolar\":[{\"marker\":{\"line\":{\"color\":\"#E5ECF6\",\"width\":0.5},\"pattern\":{\"fillmode\":\"overlay\",\"size\":10,\"solidity\":0.2}},\"type\":\"barpolar\"}],\"pie\":[{\"automargin\":true,\"type\":\"pie\"}]},\"layout\":{\"autotypenumbers\":\"strict\",\"colorway\":[\"#636efa\",\"#EF553B\",\"#00cc96\",\"#ab63fa\",\"#FFA15A\",\"#19d3f3\",\"#FF6692\",\"#B6E880\",\"#FF97FF\",\"#FECB52\"],\"font\":{\"color\":\"#2a3f5f\"},\"hovermode\":\"closest\",\"hoverlabel\":{\"align\":\"left\"},\"paper_bgcolor\":\"white\",\"plot_bgcolor\":\"#E5ECF6\",\"polar\":{\"bgcolor\":\"#E5ECF6\",\"angularaxis\":{\"gridcolor\":\"white\",\"linecolor\":\"white\",\"ticks\":\"\"},\"radialaxis\":{\"gridcolor\":\"white\",\"linecolor\":\"white\",\"ticks\":\"\"}},\"ternary\":{\"bgcolor\":\"#E5ECF6\",\"aaxis\":{\"gridcolor\":\"white\",\"linecolor\":\"white\",\"ticks\":\"\"},\"baxis\":{\"gridcolor\":\"white\",\"linecolor\":\"white\",\"ticks\":\"\"},\"caxis\":{\"gridcolor\":\"white\",\"linecolor\":\"white\",\"ticks\":\"\"}},\"coloraxis\":{\"colorbar\":{\"outlinewidth\":0,\"ticks\":\"\"}},\"colorscale\":{\"sequential\":[[0.0,\"#0d0887\"],[0.1111111111111111,\"#46039f\"],[0.2222222222222222,\"#7201a8\"],[0.3333333333333333,\"#9c179e\"],[0.4444444444444444,\"#bd3786\"],[0.5555555555555556,\"#d8576b\"],[0.6666666666666666,\"#ed7953\"],[0.7777777777777778,\"#fb9f3a\"],[0.8888888888888888,\"#fdca26\"],[1.0,\"#f0f921\"]],\"sequentialminus\":[[0.0,\"#0d0887\"],[0.1111111111111111,\"#46039f\"],[0.2222222222222222,\"#7201a8\"],[0.3333333333333333,\"#9c179e\"],[0.4444444444444444,\"#bd3786\"],[0.5555555555555556,\"#d8576b\"],[0.6666666666666666,\"#ed7953\"],[0.7777777777777778,\"#fb9f3a\"],[0.8888888888888888,\"#fdca26\"],[1.0,\"#f0f921\"]],\"diverging\":[[0,\"#8e0152\"],[0.1,\"#c51b7d\"],[0.2,\"#de77ae\"],[0.3,\"#f1b6da\"],[0.4,\"#fde0ef\"],[0.5,\"#f7f7f7\"],[0.6,\"#e6f5d0\"],[0.7,\"#b8e186\"],[0.8,\"#7fbc41\"],[0.9,\"#4d9221\"],[1,\"#276419\"]]},\"xaxis\":{\"gridcolor\":\"white\",\"linecolor\":\"white\",\"ticks\":\"\",\"title\":{\"standoff\":15},\"zerolinecolor\":\"white\",\"automargin\":true,\"zerolinewidth\":2},\"yaxis\":{\"gridcolor\":\"white\",\"linecolor\":\"white\",\"ticks\":\"\",\"title\":{\"standoff\":15},\"zerolinecolor\":\"white\",\"automargin\":true,\"zerolinewidth\":2},\"scene\":{\"xaxis\":{\"backgroundcolor\":\"#E5ECF6\",\"gridcolor\":\"white\",\"linecolor\":\"white\",\"showbackground\":true,\"ticks\":\"\",\"zerolinecolor\":\"white\",\"gridwidth\":2},\"yaxis\":{\"backgroundcolor\":\"#E5ECF6\",\"gridcolor\":\"white\",\"linecolor\":\"white\",\"showbackground\":true,\"ticks\":\"\",\"zerolinecolor\":\"white\",\"gridwidth\":2},\"zaxis\":{\"backgroundcolor\":\"#E5ECF6\",\"gridcolor\":\"white\",\"linecolor\":\"white\",\"showbackground\":true,\"ticks\":\"\",\"zerolinecolor\":\"white\",\"gridwidth\":2}},\"shapedefaults\":{\"line\":{\"color\":\"#2a3f5f\"}},\"annotationdefaults\":{\"arrowcolor\":\"#2a3f5f\",\"arrowhead\":0,\"arrowwidth\":1},\"geo\":{\"bgcolor\":\"white\",\"landcolor\":\"#E5ECF6\",\"subunitcolor\":\"white\",\"showland\":true,\"showlakes\":true,\"lakecolor\":\"white\"},\"title\":{\"x\":0.05},\"mapbox\":{\"style\":\"light\"}}},\"scene\":{\"domain\":{\"x\":[0.0,1.0],\"y\":[0.0,1.0]},\"xaxis\":{\"title\":{\"text\":\"0\"}},\"yaxis\":{\"title\":{\"text\":\"1\"}},\"zaxis\":{\"title\":{\"text\":\"2\"}}},\"legend\":{\"title\":{\"text\":\"color\"},\"tracegroupgap\":0,\"orientation\":\"h\",\"yanchor\":\"bottom\",\"y\":-0.25,\"xanchor\":\"center\",\"x\":0.5},\"margin\":{\"t\":60},\"height\":700,\"width\":1100},                        {\"responsive\": true}                    ).then(function(){\n",
       "                            \n",
       "var gd = document.getElementById('93ebaa7a-1b70-4ef3-8d4b-22beae48417a');\n",
       "var x = new MutationObserver(function (mutations, observer) {{\n",
       "        var display = window.getComputedStyle(gd).display;\n",
       "        if (!display || display === 'none') {{\n",
       "            console.log([gd, 'removed!']);\n",
       "            Plotly.purge(gd);\n",
       "            observer.disconnect();\n",
       "        }}\n",
       "}});\n",
       "\n",
       "// Listen for the removal of the full notebook cells\n",
       "var notebookContainer = gd.closest('#notebook-container');\n",
       "if (notebookContainer) {{\n",
       "    x.observe(notebookContainer, {childList: true});\n",
       "}}\n",
       "\n",
       "// Listen for the clearing of the current output cell\n",
       "var outputEl = gd.closest('.output');\n",
       "if (outputEl) {{\n",
       "    x.observe(outputEl, {childList: true});\n",
       "}}\n",
       "\n",
       "                        })                };                });            </script>        </div>"
      ]
     },
     "metadata": {},
     "output_type": "display_data"
    }
   ],
   "source": [
    "std_func.pca_visualize_3d(plot)"
   ]
  },
  {
   "cell_type": "markdown",
   "id": "f67c1d3c-f6c8-4795-b793-a6509a04d1a3",
   "metadata": {},
   "source": [
    "We can see from the above PCA plot of the first three dimensions that there are clearly terms which certain industries are more drawn toward. Unfortunately, the Real Estate and Software industries still seem quite closely clustered.\n",
    "\n",
    "We can look at the explained variance of each dimension the PCA embedding of our tf-idf matrix produced below:"
   ]
  },
  {
   "cell_type": "code",
   "execution_count": 6,
   "id": "4eeb911a-27ce-4e07-8bd1-5c006d46e35b",
   "metadata": {
    "tags": [
     "hide-input"
    ]
   },
   "outputs": [
    {
     "data": {
      "text/plain": [
       "array([0.1203797 , 0.09021696, 0.06845749, 0.03556207, 0.01948635,\n",
       "       0.01886288, 0.01732035, 0.0169569 , 0.01687496, 0.01577117])"
      ]
     },
     "execution_count": 6,
     "metadata": {},
     "output_type": "execute_result"
    }
   ],
   "source": [
    "# From the explained variance ratio, we see that the top three dimensions don't actually explain that much of the variation that exists within our data/companies.\n",
    "plot[0].explained_variance_ratio_"
   ]
  },
  {
   "cell_type": "markdown",
   "id": "800ee8b6-c12d-4bdc-91ef-c88e402bb7f8",
   "metadata": {},
   "source": [
    "And the total variance explained by the top three dimensions:"
   ]
  },
  {
   "cell_type": "code",
   "execution_count": 7,
   "id": "efb253ab-b2ed-4e9c-8fa1-efeea8d3d663",
   "metadata": {
    "tags": [
     "hide-input"
    ]
   },
   "outputs": [
    {
     "data": {
      "text/plain": [
       "0.27905414951961727"
      ]
     },
     "execution_count": 7,
     "metadata": {},
     "output_type": "execute_result"
    }
   ],
   "source": [
    "plot[0].explained_variance_ratio_[0:3].sum()"
   ]
  },
  {
   "cell_type": "markdown",
   "id": "b6a0d056-6b1b-4e10-a921-5110208b35e7",
   "metadata": {},
   "source": [
    "Based on the above, the top three principle components only explain 27.9% of the total variance that exists within the data."
   ]
  },
  {
   "cell_type": "markdown",
   "id": "5841ab66-73de-43b9-87ad-9cf2a485770a",
   "metadata": {},
   "source": [
    "If you'd like to analyze how much a given term contributes to each of the 10 dimensions, please see the DataFrame hidden below:"
   ]
  },
  {
   "cell_type": "code",
   "execution_count": 8,
   "id": "bc2a6d61-30f8-4cf2-b2a4-9b83627e09d7",
   "metadata": {
    "tags": [
     "hide-output",
     "remove-input"
    ]
   },
   "outputs": [
    {
     "data": {
      "text/html": [
       "<div>\n",
       "<style scoped>\n",
       "    .dataframe tbody tr th:only-of-type {\n",
       "        vertical-align: middle;\n",
       "    }\n",
       "\n",
       "    .dataframe tbody tr th {\n",
       "        vertical-align: top;\n",
       "    }\n",
       "\n",
       "    .dataframe thead th {\n",
       "        text-align: right;\n",
       "    }\n",
       "</style>\n",
       "<table border=\"1\" class=\"dataframe\">\n",
       "  <thead>\n",
       "    <tr style=\"text-align: right;\">\n",
       "      <th></th>\n",
       "      <th>(ability make,)</th>\n",
       "      <th>(accounting standard,)</th>\n",
       "      <th>(acquire property,)</th>\n",
       "      <th>(act act,)</th>\n",
       "      <th>(act amended,)</th>\n",
       "      <th>(additional capital,)</th>\n",
       "      <th>(additional information,)</th>\n",
       "      <th>(adequately capitalized,)</th>\n",
       "      <th>(adverse effect,)</th>\n",
       "      <th>(adverse effect business,)</th>\n",
       "      <th>...</th>\n",
       "      <th>(vice president,)</th>\n",
       "      <th>(volcker rule,)</th>\n",
       "      <th>(wa million,)</th>\n",
       "      <th>(weighted average,)</th>\n",
       "      <th>(wholly owned,)</th>\n",
       "      <th>(wholly owned subsidiary,)</th>\n",
       "      <th>(wide range,)</th>\n",
       "      <th>(year ended,)</th>\n",
       "      <th>(year ended december,)</th>\n",
       "      <th>(year year,)</th>\n",
       "    </tr>\n",
       "  </thead>\n",
       "  <tbody>\n",
       "    <tr>\n",
       "      <th>0</th>\n",
       "      <td>0.008464</td>\n",
       "      <td>0.003215</td>\n",
       "      <td>0.009458</td>\n",
       "      <td>0.014314</td>\n",
       "      <td>0.009306</td>\n",
       "      <td>0.006414</td>\n",
       "      <td>-0.009847</td>\n",
       "      <td>0.022502</td>\n",
       "      <td>-0.003787</td>\n",
       "      <td>-0.000597</td>\n",
       "      <td>...</td>\n",
       "      <td>0.003886</td>\n",
       "      <td>0.023861</td>\n",
       "      <td>0.006737</td>\n",
       "      <td>0.011844</td>\n",
       "      <td>0.001967</td>\n",
       "      <td>0.001536</td>\n",
       "      <td>-0.001609</td>\n",
       "      <td>0.007127</td>\n",
       "      <td>0.009542</td>\n",
       "      <td>0.002051</td>\n",
       "    </tr>\n",
       "    <tr>\n",
       "      <th>1</th>\n",
       "      <td>-0.006914</td>\n",
       "      <td>-0.001608</td>\n",
       "      <td>-0.033876</td>\n",
       "      <td>0.014038</td>\n",
       "      <td>0.002999</td>\n",
       "      <td>-0.001260</td>\n",
       "      <td>-0.000087</td>\n",
       "      <td>0.021544</td>\n",
       "      <td>-0.018656</td>\n",
       "      <td>-0.008920</td>\n",
       "      <td>...</td>\n",
       "      <td>-0.007964</td>\n",
       "      <td>0.024241</td>\n",
       "      <td>-0.004846</td>\n",
       "      <td>-0.017862</td>\n",
       "      <td>-0.005544</td>\n",
       "      <td>-0.003738</td>\n",
       "      <td>0.005211</td>\n",
       "      <td>-0.059814</td>\n",
       "      <td>-0.058013</td>\n",
       "      <td>-0.000887</td>\n",
       "    </tr>\n",
       "    <tr>\n",
       "      <th>2</th>\n",
       "      <td>-0.008100</td>\n",
       "      <td>-0.000819</td>\n",
       "      <td>-0.033001</td>\n",
       "      <td>0.001018</td>\n",
       "      <td>-0.007243</td>\n",
       "      <td>-0.001871</td>\n",
       "      <td>-0.012349</td>\n",
       "      <td>0.002899</td>\n",
       "      <td>0.004780</td>\n",
       "      <td>-0.003369</td>\n",
       "      <td>...</td>\n",
       "      <td>-0.012004</td>\n",
       "      <td>0.004508</td>\n",
       "      <td>-0.008028</td>\n",
       "      <td>-0.019714</td>\n",
       "      <td>-0.010987</td>\n",
       "      <td>-0.007323</td>\n",
       "      <td>-0.003155</td>\n",
       "      <td>-0.040893</td>\n",
       "      <td>-0.039873</td>\n",
       "      <td>-0.005463</td>\n",
       "    </tr>\n",
       "    <tr>\n",
       "      <th>3</th>\n",
       "      <td>-0.010786</td>\n",
       "      <td>0.013262</td>\n",
       "      <td>-0.047522</td>\n",
       "      <td>0.002819</td>\n",
       "      <td>0.018004</td>\n",
       "      <td>0.001505</td>\n",
       "      <td>0.016095</td>\n",
       "      <td>-0.001664</td>\n",
       "      <td>-0.003366</td>\n",
       "      <td>0.003747</td>\n",
       "      <td>...</td>\n",
       "      <td>0.084738</td>\n",
       "      <td>-0.000753</td>\n",
       "      <td>0.013445</td>\n",
       "      <td>-0.022549</td>\n",
       "      <td>0.004597</td>\n",
       "      <td>0.006835</td>\n",
       "      <td>0.049065</td>\n",
       "      <td>0.057271</td>\n",
       "      <td>0.028711</td>\n",
       "      <td>0.010855</td>\n",
       "    </tr>\n",
       "    <tr>\n",
       "      <th>4</th>\n",
       "      <td>-0.006159</td>\n",
       "      <td>0.006345</td>\n",
       "      <td>-0.025286</td>\n",
       "      <td>-0.006563</td>\n",
       "      <td>-0.012352</td>\n",
       "      <td>0.001273</td>\n",
       "      <td>-0.030773</td>\n",
       "      <td>-0.003137</td>\n",
       "      <td>-0.039259</td>\n",
       "      <td>-0.025030</td>\n",
       "      <td>...</td>\n",
       "      <td>-0.010360</td>\n",
       "      <td>-0.002425</td>\n",
       "      <td>-0.014148</td>\n",
       "      <td>-0.002775</td>\n",
       "      <td>-0.016994</td>\n",
       "      <td>-0.014680</td>\n",
       "      <td>-0.010634</td>\n",
       "      <td>-0.038613</td>\n",
       "      <td>-0.041792</td>\n",
       "      <td>-0.005512</td>\n",
       "    </tr>\n",
       "    <tr>\n",
       "      <th>5</th>\n",
       "      <td>0.002592</td>\n",
       "      <td>0.030136</td>\n",
       "      <td>0.007127</td>\n",
       "      <td>0.003646</td>\n",
       "      <td>-0.009188</td>\n",
       "      <td>0.014270</td>\n",
       "      <td>0.007328</td>\n",
       "      <td>-0.001795</td>\n",
       "      <td>0.016593</td>\n",
       "      <td>0.005798</td>\n",
       "      <td>...</td>\n",
       "      <td>-0.101210</td>\n",
       "      <td>-0.001589</td>\n",
       "      <td>0.002689</td>\n",
       "      <td>0.006742</td>\n",
       "      <td>0.015268</td>\n",
       "      <td>0.014816</td>\n",
       "      <td>-0.021771</td>\n",
       "      <td>0.072826</td>\n",
       "      <td>0.068254</td>\n",
       "      <td>0.008816</td>\n",
       "    </tr>\n",
       "    <tr>\n",
       "      <th>6</th>\n",
       "      <td>0.005608</td>\n",
       "      <td>-0.023227</td>\n",
       "      <td>-0.020015</td>\n",
       "      <td>0.000205</td>\n",
       "      <td>0.000780</td>\n",
       "      <td>-0.002256</td>\n",
       "      <td>0.016869</td>\n",
       "      <td>-0.000705</td>\n",
       "      <td>0.038171</td>\n",
       "      <td>0.012376</td>\n",
       "      <td>...</td>\n",
       "      <td>-0.046410</td>\n",
       "      <td>0.003714</td>\n",
       "      <td>-0.023666</td>\n",
       "      <td>-0.007359</td>\n",
       "      <td>-0.007223</td>\n",
       "      <td>-0.010828</td>\n",
       "      <td>-0.001645</td>\n",
       "      <td>-0.113876</td>\n",
       "      <td>-0.102101</td>\n",
       "      <td>-0.004410</td>\n",
       "    </tr>\n",
       "    <tr>\n",
       "      <th>7</th>\n",
       "      <td>0.000866</td>\n",
       "      <td>-0.005807</td>\n",
       "      <td>-0.036852</td>\n",
       "      <td>-0.005592</td>\n",
       "      <td>-0.003187</td>\n",
       "      <td>-0.006362</td>\n",
       "      <td>-0.001159</td>\n",
       "      <td>0.000402</td>\n",
       "      <td>-0.025283</td>\n",
       "      <td>-0.017635</td>\n",
       "      <td>...</td>\n",
       "      <td>0.010443</td>\n",
       "      <td>-0.012291</td>\n",
       "      <td>0.018114</td>\n",
       "      <td>0.006403</td>\n",
       "      <td>-0.019077</td>\n",
       "      <td>-0.016113</td>\n",
       "      <td>0.008828</td>\n",
       "      <td>0.013099</td>\n",
       "      <td>0.025731</td>\n",
       "      <td>0.014142</td>\n",
       "    </tr>\n",
       "    <tr>\n",
       "      <th>8</th>\n",
       "      <td>0.006951</td>\n",
       "      <td>-0.005597</td>\n",
       "      <td>-0.008455</td>\n",
       "      <td>0.003194</td>\n",
       "      <td>0.015302</td>\n",
       "      <td>0.002492</td>\n",
       "      <td>0.012111</td>\n",
       "      <td>0.001453</td>\n",
       "      <td>0.053378</td>\n",
       "      <td>0.020262</td>\n",
       "      <td>...</td>\n",
       "      <td>-0.089884</td>\n",
       "      <td>-0.002899</td>\n",
       "      <td>-0.003663</td>\n",
       "      <td>-0.015254</td>\n",
       "      <td>-0.006072</td>\n",
       "      <td>-0.005671</td>\n",
       "      <td>-0.000887</td>\n",
       "      <td>-0.050383</td>\n",
       "      <td>-0.049217</td>\n",
       "      <td>-0.003934</td>\n",
       "    </tr>\n",
       "    <tr>\n",
       "      <th>9</th>\n",
       "      <td>-0.011285</td>\n",
       "      <td>-0.008406</td>\n",
       "      <td>0.043187</td>\n",
       "      <td>-0.004105</td>\n",
       "      <td>0.011189</td>\n",
       "      <td>-0.010118</td>\n",
       "      <td>-0.024351</td>\n",
       "      <td>-0.000928</td>\n",
       "      <td>-0.042037</td>\n",
       "      <td>-0.022545</td>\n",
       "      <td>...</td>\n",
       "      <td>0.104566</td>\n",
       "      <td>-0.004300</td>\n",
       "      <td>-0.010483</td>\n",
       "      <td>-0.027424</td>\n",
       "      <td>0.010930</td>\n",
       "      <td>0.016078</td>\n",
       "      <td>0.014811</td>\n",
       "      <td>-0.107801</td>\n",
       "      <td>-0.116738</td>\n",
       "      <td>-0.007990</td>\n",
       "    </tr>\n",
       "  </tbody>\n",
       "</table>\n",
       "<p>10 rows × 600 columns</p>\n",
       "</div>"
      ],
      "text/plain": [
       "   (ability make,)  (accounting standard,)  (acquire property,)  (act act,)  \\\n",
       "0         0.008464                0.003215             0.009458    0.014314   \n",
       "1        -0.006914               -0.001608            -0.033876    0.014038   \n",
       "2        -0.008100               -0.000819            -0.033001    0.001018   \n",
       "3        -0.010786                0.013262            -0.047522    0.002819   \n",
       "4        -0.006159                0.006345            -0.025286   -0.006563   \n",
       "5         0.002592                0.030136             0.007127    0.003646   \n",
       "6         0.005608               -0.023227            -0.020015    0.000205   \n",
       "7         0.000866               -0.005807            -0.036852   -0.005592   \n",
       "8         0.006951               -0.005597            -0.008455    0.003194   \n",
       "9        -0.011285               -0.008406             0.043187   -0.004105   \n",
       "\n",
       "   (act amended,)  (additional capital,)  (additional information,)  \\\n",
       "0        0.009306               0.006414                  -0.009847   \n",
       "1        0.002999              -0.001260                  -0.000087   \n",
       "2       -0.007243              -0.001871                  -0.012349   \n",
       "3        0.018004               0.001505                   0.016095   \n",
       "4       -0.012352               0.001273                  -0.030773   \n",
       "5       -0.009188               0.014270                   0.007328   \n",
       "6        0.000780              -0.002256                   0.016869   \n",
       "7       -0.003187              -0.006362                  -0.001159   \n",
       "8        0.015302               0.002492                   0.012111   \n",
       "9        0.011189              -0.010118                  -0.024351   \n",
       "\n",
       "   (adequately capitalized,)  (adverse effect,)  (adverse effect business,)  \\\n",
       "0                   0.022502          -0.003787                   -0.000597   \n",
       "1                   0.021544          -0.018656                   -0.008920   \n",
       "2                   0.002899           0.004780                   -0.003369   \n",
       "3                  -0.001664          -0.003366                    0.003747   \n",
       "4                  -0.003137          -0.039259                   -0.025030   \n",
       "5                  -0.001795           0.016593                    0.005798   \n",
       "6                  -0.000705           0.038171                    0.012376   \n",
       "7                   0.000402          -0.025283                   -0.017635   \n",
       "8                   0.001453           0.053378                    0.020262   \n",
       "9                  -0.000928          -0.042037                   -0.022545   \n",
       "\n",
       "   ...  (vice president,)  (volcker rule,)  (wa million,)  \\\n",
       "0  ...           0.003886         0.023861       0.006737   \n",
       "1  ...          -0.007964         0.024241      -0.004846   \n",
       "2  ...          -0.012004         0.004508      -0.008028   \n",
       "3  ...           0.084738        -0.000753       0.013445   \n",
       "4  ...          -0.010360        -0.002425      -0.014148   \n",
       "5  ...          -0.101210        -0.001589       0.002689   \n",
       "6  ...          -0.046410         0.003714      -0.023666   \n",
       "7  ...           0.010443        -0.012291       0.018114   \n",
       "8  ...          -0.089884        -0.002899      -0.003663   \n",
       "9  ...           0.104566        -0.004300      -0.010483   \n",
       "\n",
       "   (weighted average,)  (wholly owned,)  (wholly owned subsidiary,)  \\\n",
       "0             0.011844         0.001967                    0.001536   \n",
       "1            -0.017862        -0.005544                   -0.003738   \n",
       "2            -0.019714        -0.010987                   -0.007323   \n",
       "3            -0.022549         0.004597                    0.006835   \n",
       "4            -0.002775        -0.016994                   -0.014680   \n",
       "5             0.006742         0.015268                    0.014816   \n",
       "6            -0.007359        -0.007223                   -0.010828   \n",
       "7             0.006403        -0.019077                   -0.016113   \n",
       "8            -0.015254        -0.006072                   -0.005671   \n",
       "9            -0.027424         0.010930                    0.016078   \n",
       "\n",
       "   (wide range,)  (year ended,)  (year ended december,)  (year year,)  \n",
       "0      -0.001609       0.007127                0.009542      0.002051  \n",
       "1       0.005211      -0.059814               -0.058013     -0.000887  \n",
       "2      -0.003155      -0.040893               -0.039873     -0.005463  \n",
       "3       0.049065       0.057271                0.028711      0.010855  \n",
       "4      -0.010634      -0.038613               -0.041792     -0.005512  \n",
       "5      -0.021771       0.072826                0.068254      0.008816  \n",
       "6      -0.001645      -0.113876               -0.102101     -0.004410  \n",
       "7       0.008828       0.013099                0.025731      0.014142  \n",
       "8      -0.000887      -0.050383               -0.049217     -0.003934  \n",
       "9       0.014811      -0.107801               -0.116738     -0.007990  \n",
       "\n",
       "[10 rows x 600 columns]"
      ]
     },
     "execution_count": 8,
     "metadata": {},
     "output_type": "execute_result"
    }
   ],
   "source": [
    "components = pd.DataFrame(plot[0].components_, columns = feature_names)\n",
    "components.reindex(components.abs().sort_values(0, axis = 1).index)\n",
    "# components[0:2]"
   ]
  },
  {
   "cell_type": "markdown",
   "id": "ec4f652e-b749-487f-9974-ba04f0b380f0",
   "metadata": {},
   "source": [
    "And finally, this DataFrame is sorted by the amount each term contributes to the **first** dimension, which captures the most variance in our data. This tells us that the largest variations/spread of companies along the x axis in the 2D PCA plot measures how much a company has to with with Oil & Gas, or real estate."
   ]
  },
  {
   "cell_type": "code",
   "execution_count": 9,
   "id": "040399ad-b972-4796-96ce-793547957a99",
   "metadata": {
    "tags": [
     "hide-input"
    ]
   },
   "outputs": [
    {
     "data": {
      "text/html": [
       "<div>\n",
       "<style scoped>\n",
       "    .dataframe tbody tr th:only-of-type {\n",
       "        vertical-align: middle;\n",
       "    }\n",
       "\n",
       "    .dataframe tbody tr th {\n",
       "        vertical-align: top;\n",
       "    }\n",
       "\n",
       "    .dataframe thead th {\n",
       "        text-align: right;\n",
       "    }\n",
       "</style>\n",
       "<table border=\"1\" class=\"dataframe\">\n",
       "  <thead>\n",
       "    <tr style=\"text-align: right;\">\n",
       "      <th></th>\n",
       "      <th>(natural gas,)</th>\n",
       "      <th>(oil natural,)</th>\n",
       "      <th>(oil natural gas,)</th>\n",
       "      <th>(real estate,)</th>\n",
       "      <th>(oil gas,)</th>\n",
       "      <th>(hydraulic fracturing,)</th>\n",
       "      <th>(operating partnership,)</th>\n",
       "      <th>(proved reserve,)</th>\n",
       "      <th>(square foot,)</th>\n",
       "      <th>(joint venture,)</th>\n",
       "      <th>...</th>\n",
       "      <th>(asset le,)</th>\n",
       "      <th>(condition result operation,)</th>\n",
       "      <th>(operation financial,)</th>\n",
       "      <th>(prior approval,)</th>\n",
       "      <th>(result operation,)</th>\n",
       "      <th>(deferred tax asset,)</th>\n",
       "      <th>(financial condition result operation,)</th>\n",
       "      <th>(federal state law,)</th>\n",
       "      <th>(credit agreement,)</th>\n",
       "      <th>(gain loss,)</th>\n",
       "    </tr>\n",
       "  </thead>\n",
       "  <tbody>\n",
       "    <tr>\n",
       "      <th>0</th>\n",
       "      <td>0.002005</td>\n",
       "      <td>0.001982</td>\n",
       "      <td>0.001937</td>\n",
       "      <td>0.188639</td>\n",
       "      <td>0.000110</td>\n",
       "      <td>0.000673</td>\n",
       "      <td>0.026153</td>\n",
       "      <td>0.000259</td>\n",
       "      <td>0.018317</td>\n",
       "      <td>0.017743</td>\n",
       "      <td>...</td>\n",
       "      <td>0.021999</td>\n",
       "      <td>0.011730</td>\n",
       "      <td>0.002284</td>\n",
       "      <td>0.014785</td>\n",
       "      <td>0.012128</td>\n",
       "      <td>0.010725</td>\n",
       "      <td>0.011656</td>\n",
       "      <td>0.009905</td>\n",
       "      <td>0.000852</td>\n",
       "      <td>0.005947</td>\n",
       "    </tr>\n",
       "    <tr>\n",
       "      <th>1</th>\n",
       "      <td>0.196597</td>\n",
       "      <td>0.125686</td>\n",
       "      <td>0.123456</td>\n",
       "      <td>0.214145</td>\n",
       "      <td>0.099522</td>\n",
       "      <td>0.045112</td>\n",
       "      <td>0.115532</td>\n",
       "      <td>0.034217</td>\n",
       "      <td>0.092581</td>\n",
       "      <td>0.092607</td>\n",
       "      <td>...</td>\n",
       "      <td>0.018273</td>\n",
       "      <td>0.016138</td>\n",
       "      <td>0.006959</td>\n",
       "      <td>0.015385</td>\n",
       "      <td>0.029917</td>\n",
       "      <td>0.003795</td>\n",
       "      <td>0.016080</td>\n",
       "      <td>0.011678</td>\n",
       "      <td>0.015433</td>\n",
       "      <td>0.004754</td>\n",
       "    </tr>\n",
       "    <tr>\n",
       "      <th>2</th>\n",
       "      <td>0.562633</td>\n",
       "      <td>0.361787</td>\n",
       "      <td>0.355658</td>\n",
       "      <td>0.322306</td>\n",
       "      <td>0.242208</td>\n",
       "      <td>0.126237</td>\n",
       "      <td>0.102704</td>\n",
       "      <td>0.094673</td>\n",
       "      <td>0.090834</td>\n",
       "      <td>0.087948</td>\n",
       "      <td>...</td>\n",
       "      <td>0.000407</td>\n",
       "      <td>0.000367</td>\n",
       "      <td>0.000360</td>\n",
       "      <td>0.000193</td>\n",
       "      <td>0.000186</td>\n",
       "      <td>0.000185</td>\n",
       "      <td>0.000169</td>\n",
       "      <td>0.000157</td>\n",
       "      <td>0.000135</td>\n",
       "      <td>0.000076</td>\n",
       "    </tr>\n",
       "    <tr>\n",
       "      <th>3</th>\n",
       "      <td>0.155039</td>\n",
       "      <td>0.106771</td>\n",
       "      <td>0.105380</td>\n",
       "      <td>0.409966</td>\n",
       "      <td>0.010176</td>\n",
       "      <td>0.028908</td>\n",
       "      <td>0.103402</td>\n",
       "      <td>0.022930</td>\n",
       "      <td>0.058637</td>\n",
       "      <td>0.082268</td>\n",
       "      <td>...</td>\n",
       "      <td>0.005541</td>\n",
       "      <td>0.004569</td>\n",
       "      <td>0.004580</td>\n",
       "      <td>0.001488</td>\n",
       "      <td>0.006423</td>\n",
       "      <td>0.007491</td>\n",
       "      <td>0.004127</td>\n",
       "      <td>0.000546</td>\n",
       "      <td>0.000927</td>\n",
       "      <td>0.000118</td>\n",
       "    </tr>\n",
       "    <tr>\n",
       "      <th>4</th>\n",
       "      <td>0.175924</td>\n",
       "      <td>0.131864</td>\n",
       "      <td>0.130252</td>\n",
       "      <td>0.307451</td>\n",
       "      <td>0.136590</td>\n",
       "      <td>0.013914</td>\n",
       "      <td>0.047780</td>\n",
       "      <td>0.015359</td>\n",
       "      <td>0.006758</td>\n",
       "      <td>0.026648</td>\n",
       "      <td>...</td>\n",
       "      <td>0.003962</td>\n",
       "      <td>0.007597</td>\n",
       "      <td>0.018948</td>\n",
       "      <td>0.009672</td>\n",
       "      <td>0.019956</td>\n",
       "      <td>0.023745</td>\n",
       "      <td>0.008113</td>\n",
       "      <td>0.016732</td>\n",
       "      <td>0.003824</td>\n",
       "      <td>0.012448</td>\n",
       "    </tr>\n",
       "    <tr>\n",
       "      <th>5</th>\n",
       "      <td>0.095507</td>\n",
       "      <td>0.076528</td>\n",
       "      <td>0.076739</td>\n",
       "      <td>0.156331</td>\n",
       "      <td>0.179615</td>\n",
       "      <td>0.003671</td>\n",
       "      <td>0.081159</td>\n",
       "      <td>0.000012</td>\n",
       "      <td>0.175176</td>\n",
       "      <td>0.032726</td>\n",
       "      <td>...</td>\n",
       "      <td>0.002959</td>\n",
       "      <td>0.025203</td>\n",
       "      <td>0.006743</td>\n",
       "      <td>0.007910</td>\n",
       "      <td>0.044100</td>\n",
       "      <td>0.055742</td>\n",
       "      <td>0.025277</td>\n",
       "      <td>0.009633</td>\n",
       "      <td>0.036400</td>\n",
       "      <td>0.019019</td>\n",
       "    </tr>\n",
       "    <tr>\n",
       "      <th>6</th>\n",
       "      <td>0.110005</td>\n",
       "      <td>0.112508</td>\n",
       "      <td>0.111081</td>\n",
       "      <td>0.086577</td>\n",
       "      <td>0.317098</td>\n",
       "      <td>0.037776</td>\n",
       "      <td>0.165643</td>\n",
       "      <td>0.003420</td>\n",
       "      <td>0.173081</td>\n",
       "      <td>0.026961</td>\n",
       "      <td>...</td>\n",
       "      <td>0.002399</td>\n",
       "      <td>0.035886</td>\n",
       "      <td>0.000108</td>\n",
       "      <td>0.000936</td>\n",
       "      <td>0.030982</td>\n",
       "      <td>0.031788</td>\n",
       "      <td>0.035520</td>\n",
       "      <td>0.002390</td>\n",
       "      <td>0.001935</td>\n",
       "      <td>0.012371</td>\n",
       "    </tr>\n",
       "    <tr>\n",
       "      <th>7</th>\n",
       "      <td>0.017828</td>\n",
       "      <td>0.024265</td>\n",
       "      <td>0.025867</td>\n",
       "      <td>0.125751</td>\n",
       "      <td>0.203146</td>\n",
       "      <td>0.018989</td>\n",
       "      <td>0.240500</td>\n",
       "      <td>0.002543</td>\n",
       "      <td>0.161308</td>\n",
       "      <td>0.142028</td>\n",
       "      <td>...</td>\n",
       "      <td>0.010661</td>\n",
       "      <td>0.015403</td>\n",
       "      <td>0.003870</td>\n",
       "      <td>0.011139</td>\n",
       "      <td>0.000566</td>\n",
       "      <td>0.000672</td>\n",
       "      <td>0.014901</td>\n",
       "      <td>0.005007</td>\n",
       "      <td>0.006938</td>\n",
       "      <td>0.007551</td>\n",
       "    </tr>\n",
       "    <tr>\n",
       "      <th>8</th>\n",
       "      <td>0.073444</td>\n",
       "      <td>0.102268</td>\n",
       "      <td>0.102135</td>\n",
       "      <td>0.104518</td>\n",
       "      <td>0.457337</td>\n",
       "      <td>0.060777</td>\n",
       "      <td>0.115833</td>\n",
       "      <td>0.012565</td>\n",
       "      <td>0.159389</td>\n",
       "      <td>0.047503</td>\n",
       "      <td>...</td>\n",
       "      <td>0.005145</td>\n",
       "      <td>0.075212</td>\n",
       "      <td>0.015092</td>\n",
       "      <td>0.001665</td>\n",
       "      <td>0.079423</td>\n",
       "      <td>0.018525</td>\n",
       "      <td>0.074604</td>\n",
       "      <td>0.007727</td>\n",
       "      <td>0.011244</td>\n",
       "      <td>0.008237</td>\n",
       "    </tr>\n",
       "    <tr>\n",
       "      <th>9</th>\n",
       "      <td>0.051072</td>\n",
       "      <td>0.071139</td>\n",
       "      <td>0.073277</td>\n",
       "      <td>0.177926</td>\n",
       "      <td>0.390068</td>\n",
       "      <td>0.034713</td>\n",
       "      <td>0.133832</td>\n",
       "      <td>0.007609</td>\n",
       "      <td>0.141136</td>\n",
       "      <td>0.008063</td>\n",
       "      <td>...</td>\n",
       "      <td>0.003388</td>\n",
       "      <td>0.045854</td>\n",
       "      <td>0.018421</td>\n",
       "      <td>0.002654</td>\n",
       "      <td>0.067949</td>\n",
       "      <td>0.038047</td>\n",
       "      <td>0.045838</td>\n",
       "      <td>0.001652</td>\n",
       "      <td>0.060382</td>\n",
       "      <td>0.022536</td>\n",
       "    </tr>\n",
       "  </tbody>\n",
       "</table>\n",
       "<p>10 rows × 600 columns</p>\n",
       "</div>"
      ],
      "text/plain": [
       "   (natural gas,)  (oil natural,)  (oil natural gas,)  (real estate,)  \\\n",
       "0        0.002005        0.001982            0.001937        0.188639   \n",
       "1        0.196597        0.125686            0.123456        0.214145   \n",
       "2        0.562633        0.361787            0.355658        0.322306   \n",
       "3        0.155039        0.106771            0.105380        0.409966   \n",
       "4        0.175924        0.131864            0.130252        0.307451   \n",
       "5        0.095507        0.076528            0.076739        0.156331   \n",
       "6        0.110005        0.112508            0.111081        0.086577   \n",
       "7        0.017828        0.024265            0.025867        0.125751   \n",
       "8        0.073444        0.102268            0.102135        0.104518   \n",
       "9        0.051072        0.071139            0.073277        0.177926   \n",
       "\n",
       "   (oil gas,)  (hydraulic fracturing,)  (operating partnership,)  \\\n",
       "0    0.000110                 0.000673                  0.026153   \n",
       "1    0.099522                 0.045112                  0.115532   \n",
       "2    0.242208                 0.126237                  0.102704   \n",
       "3    0.010176                 0.028908                  0.103402   \n",
       "4    0.136590                 0.013914                  0.047780   \n",
       "5    0.179615                 0.003671                  0.081159   \n",
       "6    0.317098                 0.037776                  0.165643   \n",
       "7    0.203146                 0.018989                  0.240500   \n",
       "8    0.457337                 0.060777                  0.115833   \n",
       "9    0.390068                 0.034713                  0.133832   \n",
       "\n",
       "   (proved reserve,)  (square foot,)  (joint venture,)  ...  (asset le,)  \\\n",
       "0           0.000259        0.018317          0.017743  ...     0.021999   \n",
       "1           0.034217        0.092581          0.092607  ...     0.018273   \n",
       "2           0.094673        0.090834          0.087948  ...     0.000407   \n",
       "3           0.022930        0.058637          0.082268  ...     0.005541   \n",
       "4           0.015359        0.006758          0.026648  ...     0.003962   \n",
       "5           0.000012        0.175176          0.032726  ...     0.002959   \n",
       "6           0.003420        0.173081          0.026961  ...     0.002399   \n",
       "7           0.002543        0.161308          0.142028  ...     0.010661   \n",
       "8           0.012565        0.159389          0.047503  ...     0.005145   \n",
       "9           0.007609        0.141136          0.008063  ...     0.003388   \n",
       "\n",
       "   (condition result operation,)  (operation financial,)  (prior approval,)  \\\n",
       "0                       0.011730                0.002284           0.014785   \n",
       "1                       0.016138                0.006959           0.015385   \n",
       "2                       0.000367                0.000360           0.000193   \n",
       "3                       0.004569                0.004580           0.001488   \n",
       "4                       0.007597                0.018948           0.009672   \n",
       "5                       0.025203                0.006743           0.007910   \n",
       "6                       0.035886                0.000108           0.000936   \n",
       "7                       0.015403                0.003870           0.011139   \n",
       "8                       0.075212                0.015092           0.001665   \n",
       "9                       0.045854                0.018421           0.002654   \n",
       "\n",
       "   (result operation,)  (deferred tax asset,)  \\\n",
       "0             0.012128               0.010725   \n",
       "1             0.029917               0.003795   \n",
       "2             0.000186               0.000185   \n",
       "3             0.006423               0.007491   \n",
       "4             0.019956               0.023745   \n",
       "5             0.044100               0.055742   \n",
       "6             0.030982               0.031788   \n",
       "7             0.000566               0.000672   \n",
       "8             0.079423               0.018525   \n",
       "9             0.067949               0.038047   \n",
       "\n",
       "   (financial condition result operation,)  (federal state law,)  \\\n",
       "0                                 0.011656              0.009905   \n",
       "1                                 0.016080              0.011678   \n",
       "2                                 0.000169              0.000157   \n",
       "3                                 0.004127              0.000546   \n",
       "4                                 0.008113              0.016732   \n",
       "5                                 0.025277              0.009633   \n",
       "6                                 0.035520              0.002390   \n",
       "7                                 0.014901              0.005007   \n",
       "8                                 0.074604              0.007727   \n",
       "9                                 0.045838              0.001652   \n",
       "\n",
       "   (credit agreement,)  (gain loss,)  \n",
       "0             0.000852      0.005947  \n",
       "1             0.015433      0.004754  \n",
       "2             0.000135      0.000076  \n",
       "3             0.000927      0.000118  \n",
       "4             0.003824      0.012448  \n",
       "5             0.036400      0.019019  \n",
       "6             0.001935      0.012371  \n",
       "7             0.006938      0.007551  \n",
       "8             0.011244      0.008237  \n",
       "9             0.060382      0.022536  \n",
       "\n",
       "[10 rows x 600 columns]"
      ]
     },
     "execution_count": 9,
     "metadata": {},
     "output_type": "execute_result"
    }
   ],
   "source": [
    "components.abs().sort_values(2, axis = 1, ascending = False)"
   ]
  }
 ],
 "metadata": {
  "kernelspec": {
   "display_name": "Python 3 (ipykernel)",
   "language": "python",
   "name": "python3"
  },
  "language_info": {
   "codemirror_mode": {
    "name": "ipython",
    "version": 3
   },
   "file_extension": ".py",
   "mimetype": "text/x-python",
   "name": "python",
   "nbconvert_exporter": "python",
   "pygments_lexer": "ipython3",
   "version": "3.9.12"
  }
 },
 "nbformat": 4,
 "nbformat_minor": 5
}

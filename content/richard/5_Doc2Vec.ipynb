{
 "cells": [
  {
   "cell_type": "markdown",
   "id": "9a6e2da8-6fd8-4891-8ebe-bf304d7dd72a",
   "metadata": {},
   "source": [
    "# Doc2Vec\n",
    "\n",
    "A continuation of using neural networks to help predict company embeddings, we now explore doc2vec.\n",
    "\n",
    "This works much in the same was as Word2Vec, except on input we also specify which document/filing a given word has come from, resulting in ready made document vectors for us.\n",
    "\n",
    "## Lets get to the code!\n",
    "\n",
    "First we need to load in the functions and data:"
   ]
  },
  {
   "cell_type": "code",
   "execution_count": 1,
   "id": "4c172ba5-8d36-452a-bcef-52fe4d517982",
   "metadata": {
    "tags": [
     "hide-input",
     "remove-output"
    ]
   },
   "outputs": [],
   "source": [
    "import os\n",
    "import json\n",
    "import pandas as pd\n",
    "import numpy as np\n",
    "import sys\n",
    "sys.path.insert(0, '..')\n",
    "%load_ext autoreload\n",
    "%autoreload 2\n",
    "%aimport std_func\n",
    "\n",
    "df = pd.read_csv(\"../data/preprocessed.csv\")"
   ]
  },
  {
   "cell_type": "markdown",
   "id": "87cb0dcd-e772-406a-b6a7-bbfe4270e58e",
   "metadata": {},
   "source": [
    "Thanks to the gensim package, it's quite easy to implement doc2vec."
   ]
  },
  {
   "cell_type": "code",
   "execution_count": 2,
   "id": "ccba5cec-430f-4ab0-9e9a-60bc2f49a06f",
   "metadata": {
    "tags": [
     "hide-input",
     "hide-output",
     "remove-output"
    ]
   },
   "outputs": [],
   "source": [
    "from gensim.models import doc2vec\n",
    "from collections import namedtuple\n",
    "\n",
    "docs = []\n",
    "analyzedDocument = namedtuple('AnalyzedDocument', 'words tags')\n",
    "for i, text in enumerate(df[\"coDescription_stopwords\"]):\n",
    "    words = text.lower().split()\n",
    "    tags = [i]\n",
    "    docs.append(analyzedDocument(words, tags))\n",
    "\n",
    "model = doc2vec.Doc2Vec(docs, vector_size = 100, window = 10, min_count = 1, workers = 4)"
   ]
  },
  {
   "cell_type": "markdown",
   "id": "cf1a7961-cfdd-4ed0-8ae8-076809ef6fa9",
   "metadata": {},
   "source": [
    "Like Word2Vec, we now also have a document vector matrix. We specified only 100 dimensions due to computational limitations, and the fact anymore most likely would not have helped. (Tune the hyper-parameter later)\n",
    "\n",
    "And here we have the vectors for each company."
   ]
  },
  {
   "cell_type": "code",
   "execution_count": 1,
   "id": "093e8fd1-1a2e-44e7-9161-cb2a61d29d37",
   "metadata": {
    "tags": [
     "remove-input"
    ]
   },
   "outputs": [
    {
     "ename": "NameError",
     "evalue": "name 'pd' is not defined",
     "output_type": "error",
     "traceback": [
      "\u001b[0;31m---------------------------------------------------------------------------\u001b[0m",
      "\u001b[0;31mNameError\u001b[0m                                 Traceback (most recent call last)",
      "Input \u001b[0;32mIn [1]\u001b[0m, in \u001b[0;36m<cell line: 3>\u001b[0;34m()\u001b[0m\n\u001b[1;32m      1\u001b[0m \u001b[38;5;66;03m# Get the vectors\u001b[39;00m\n\u001b[0;32m----> 3\u001b[0m doc_vec_2 \u001b[38;5;241m=\u001b[39m \u001b[43mpd\u001b[49m\u001b[38;5;241m.\u001b[39mDataFrame([model\u001b[38;5;241m.\u001b[39mdv[doc] \u001b[38;5;28;01mfor\u001b[39;00m doc \u001b[38;5;129;01min\u001b[39;00m np\u001b[38;5;241m.\u001b[39marange(\u001b[38;5;241m0\u001b[39m,\u001b[38;5;28mlen\u001b[39m(docs))])\n\u001b[1;32m      4\u001b[0m doc_vec_2\u001b[38;5;241m.\u001b[39mhead()\n",
      "\u001b[0;31mNameError\u001b[0m: name 'pd' is not defined"
     ]
    }
   ],
   "source": [
    "# Get the vectors\n",
    "\n",
    "doc_vec_2 = pd.DataFrame([model.dv[doc] for doc in np.arange(0,len(docs))])\n",
    "doc_vec_2.head()"
   ]
  },
  {
   "cell_type": "markdown",
   "id": "fb00678e-c7a3-40eb-90f1-6ad12bdee457",
   "metadata": {},
   "source": [
    "## Plotting the results\n",
    "\n",
    "Here are the results of the doc2vec semantic company embedding after dimensionality reduction using PCA."
   ]
  },
  {
   "cell_type": "code",
   "execution_count": 41,
   "id": "3832ffcd-b8b8-4093-82c7-dc6dbb2b14d7",
   "metadata": {
    "tags": [
     "remove-input"
    ]
   },
   "outputs": [
    {
     "data": {
      "application/vnd.plotly.v1+json": {
       "config": {
        "plotlyServerURL": "https://plot.ly"
       },
       "data": [
        {
         "customdata": [
          [
           "MONGODB, INC.",
           "Prepackaged Software (mass reproduction of software)"
          ],
          [
           "SALESFORCE COM INC",
           "Prepackaged Software (mass reproduction of software)"
          ],
          [
           "SPLUNK INC",
           "Prepackaged Software (mass reproduction of software)"
          ],
          [
           "OKTA, INC.",
           "Prepackaged Software (mass reproduction of software)"
          ],
          [
           "VEEVA SYSTEMS INC",
           "Prepackaged Software (mass reproduction of software)"
          ],
          [
           "AUTODESK INC",
           "Prepackaged Software (mass reproduction of software)"
          ],
          [
           "ETERNAL SPEECH, INC.",
           "Prepackaged Software (mass reproduction of software)"
          ],
          [
           "ETERNAL SPEECH, INC.",
           "Prepackaged Software (mass reproduction of software)"
          ],
          [
           "MAJESCO",
           "Prepackaged Software (mass reproduction of software)"
          ],
          [
           "DUO WORLD INC",
           "Prepackaged Software (mass reproduction of software)"
          ],
          [
           "COMMVAULT SYSTEMS INC",
           "Prepackaged Software (mass reproduction of software)"
          ],
          [
           "UPPERSOLUTION.COM",
           "Prepackaged Software (mass reproduction of software)"
          ],
          [
           "ORACLE CORP",
           "Prepackaged Software (mass reproduction of software)"
          ],
          [
           "SAVMOBI TECHNOLOGY INC.",
           "Prepackaged Software (mass reproduction of software)"
          ],
          [
           "ZEDGE, INC.",
           "Prepackaged Software (mass reproduction of software)"
          ],
          [
           "DESTINY MEDIA TECHNOLOGIES INC",
           "Prepackaged Software (mass reproduction of software)"
          ],
          [
           "TRAQER CORP",
           "Prepackaged Software (mass reproduction of software)"
          ],
          [
           "VISIBER57 CORP.",
           "Prepackaged Software (mass reproduction of software)"
          ],
          [
           "GH CAPITAL INC.",
           "Prepackaged Software (mass reproduction of software)"
          ],
          [
           "BRIDGELINE DIGITAL, INC.",
           "Prepackaged Software (mass reproduction of software)"
          ],
          [
           "NUANCE COMMUNICATIONS, INC.",
           "Prepackaged Software (mass reproduction of software)"
          ],
          [
           "DATAWATCH CORP",
           "Prepackaged Software (mass reproduction of software)"
          ],
          [
           "POLARITYTE, INC.",
           "Prepackaged Software (mass reproduction of software)"
          ],
          [
           "POLARITYTE, INC.",
           "Prepackaged Software (mass reproduction of software)"
          ],
          [
           "VGRAB COMMUNICATIONS INC.",
           "Prepackaged Software (mass reproduction of software)"
          ],
          [
           "VGRAB COMMUNICATIONS INC.",
           "Prepackaged Software (mass reproduction of software)"
          ],
          [
           "ADAIAH DISTRIBUTION INC",
           "Prepackaged Software (mass reproduction of software)"
          ],
          [
           "ADAIAH DISTRIBUTION INC",
           "Prepackaged Software (mass reproduction of software)"
          ],
          [
           "PROGRESS SOFTWARE CORP /MA",
           "Prepackaged Software (mass reproduction of software)"
          ],
          [
           "MEDICAL INFORMATION TECHNOLOGY, INC.",
           "Prepackaged Software (mass reproduction of software)"
          ],
          [
           "SPS COMMERCE INC",
           "Prepackaged Software (mass reproduction of software)"
          ],
          [
           "ALTERYX, INC.",
           "Prepackaged Software (mass reproduction of software)"
          ],
          [
           "INTELLIGENT SYSTEMS CORP",
           "Prepackaged Software (mass reproduction of software)"
          ],
          [
           "ALARM.COM HOLDINGS, INC.",
           "Prepackaged Software (mass reproduction of software)"
          ],
          [
           "LIGHTNING GAMING, INC.",
           "Prepackaged Software (mass reproduction of software)"
          ],
          [
           "ENDURANCE INTERNATIONAL GROUP HOLDINGS, INC.",
           "Prepackaged Software (mass reproduction of software)"
          ],
          [
           "2U, INC.",
           "Prepackaged Software (mass reproduction of software)"
          ],
          [
           "CISION LTD.",
           "Prepackaged Software (mass reproduction of software)"
          ],
          [
           "BTCS INC.",
           "Prepackaged Software (mass reproduction of software)"
          ],
          [
           "BTCS INC.",
           "Prepackaged Software (mass reproduction of software)"
          ],
          [
           "BTCS INC.",
           "Prepackaged Software (mass reproduction of software)"
          ],
          [
           "INTELLICHECK, INC.",
           "Prepackaged Software (mass reproduction of software)"
          ],
          [
           "REALPAGE INC",
           "Prepackaged Software (mass reproduction of software)"
          ],
          [
           "Q2 HOLDINGS, INC.",
           "Prepackaged Software (mass reproduction of software)"
          ],
          [
           "MCORPCX, INC.",
           "Prepackaged Software (mass reproduction of software)"
          ],
          [
           "QUALYS, INC.",
           "Prepackaged Software (mass reproduction of software)"
          ],
          [
           "MEDICAL TRANSCRIPTION BILLING, CORP",
           "Prepackaged Software (mass reproduction of software)"
          ],
          [
           "SMITH MICRO SOFTWARE INC",
           "Prepackaged Software (mass reproduction of software)"
          ],
          [
           "SHOTSPOTTER, INC",
           "Prepackaged Software (mass reproduction of software)"
          ],
          [
           "LONGWEN GROUP CORP.",
           "Prepackaged Software (mass reproduction of software)"
          ],
          [
           "ELLIE MAE INC",
           "Prepackaged Software (mass reproduction of software)"
          ],
          [
           "ROSETTA STONE INC",
           "Prepackaged Software (mass reproduction of software)"
          ],
          [
           "BLACK KNIGHT, INC.",
           "Prepackaged Software (mass reproduction of software)"
          ],
          [
           "MICROSTRATEGY INC",
           "Prepackaged Software (mass reproduction of software)"
          ],
          [
           "EMR TECHNOLOGY SOLUTIONS, INC.",
           "Prepackaged Software (mass reproduction of software)"
          ],
          [
           "PAYCOM SOFTWARE, INC.",
           "Prepackaged Software (mass reproduction of software)"
          ],
          [
           "3D SYSTEMS CORP",
           "Prepackaged Software (mass reproduction of software)"
          ],
          [
           "APPIAN CORP",
           "Prepackaged Software (mass reproduction of software)"
          ],
          [
           "UPLAND SOFTWARE, INC.",
           "Prepackaged Software (mass reproduction of software)"
          ],
          [
           "LIVEPERSON INC",
           "Prepackaged Software (mass reproduction of software)"
          ],
          [
           "AWARE INC /MA/",
           "Prepackaged Software (mass reproduction of software)"
          ],
          [
           "ULTIMATE SOFTWARE GROUP INC",
           "Prepackaged Software (mass reproduction of software)"
          ],
          [
           "ANSYS INC",
           "Prepackaged Software (mass reproduction of software)"
          ],
          [
           "AVID TECHNOLOGY, INC.",
           "Prepackaged Software (mass reproduction of software)"
          ],
          [
           "NATIONAL INSTRUMENTS CORP",
           "Prepackaged Software (mass reproduction of software)"
          ],
          [
           "INSPRO TECHNOLOGIES CORP",
           "Prepackaged Software (mass reproduction of software)"
          ],
          [
           "QUMU CORP",
           "Prepackaged Software (mass reproduction of software)"
          ],
          [
           "ACI WORLDWIDE, INC.",
           "Prepackaged Software (mass reproduction of software)"
          ],
          [
           "SQUARE, INC.",
           "Prepackaged Software (mass reproduction of software)"
          ],
          [
           "ALTAIR ENGINEERING INC.",
           "Prepackaged Software (mass reproduction of software)"
          ],
          [
           "TALEND SA",
           "Prepackaged Software (mass reproduction of software)"
          ],
          [
           "APPFOLIO INC",
           "Prepackaged Software (mass reproduction of software)"
          ],
          [
           "GSE SYSTEMS INC",
           "Prepackaged Software (mass reproduction of software)"
          ],
          [
           "IPSIDY INC.",
           "Prepackaged Software (mass reproduction of software)"
          ],
          [
           "INTELLINETICS, INC.",
           "Prepackaged Software (mass reproduction of software)"
          ],
          [
           "INTELLINETICS, INC.",
           "Prepackaged Software (mass reproduction of software)"
          ],
          [
           "IIOT-OXYS, INC.",
           "Prepackaged Software (mass reproduction of software)"
          ],
          [
           "NEWGIOCO GROUP, INC.",
           "Prepackaged Software (mass reproduction of software)"
          ],
          [
           "WORKIVA INC",
           "Prepackaged Software (mass reproduction of software)"
          ],
          [
           "TABLEAU SOFTWARE INC",
           "Prepackaged Software (mass reproduction of software)"
          ]
         ],
         "hovertemplate": "color=Prepackaged Software (mass reproduction of software)<br>0=%{x}<br>1=%{y}<br>name=%{customdata[0]}<br>industry=%{customdata[1]}<extra></extra>",
         "legendgroup": "Prepackaged Software (mass reproduction of software)",
         "marker": {
          "color": "#636efa",
          "symbol": "circle"
         },
         "mode": "markers",
         "name": "Prepackaged Software (mass reproduction of software)",
         "orientation": "v",
         "showlegend": true,
         "type": "scatter",
         "x": [
          -1.4550044536590576,
          -2.0033113956451416,
          -2.134474754333496,
          -0.9274237751960754,
          0.7807900905609131,
          -1.0840750932693481,
          -0.8994615077972412,
          -0.8381891846656799,
          -2.527904510498047,
          -1.0781569480895996,
          -2.1859710216522217,
          0.3415077030658722,
          -3.59670352935791,
          -2.0297884941101074,
          -0.7097910642623901,
          -0.5378150939941406,
          -3.174596071243286,
          -0.9627936482429504,
          -1.1053249835968018,
          -2.135617256164551,
          -0.36668798327445984,
          -1.3175426721572876,
          6.984758377075195,
          8.370869636535645,
          -2.676523447036743,
          -2.691371440887451,
          -3.719045400619507,
          -4.260704040527344,
          -2.2060790061950684,
          -0.5020610094070435,
          -1.4295037984848022,
          0.43206721544265747,
          -3.9843339920043945,
          -1.8042073249816895,
          -0.6580232977867126,
          0.9734691977500916,
          -0.26928040385246277,
          0.3724820017814636,
          -3.627929449081421,
          -3.3817923069000244,
          -2.7518560886383057,
          -0.6978095173835754,
          -1.824510931968689,
          -2.833498239517212,
          0.5454089045524597,
          2.338982343673706,
          3.392294406890869,
          0.15597890317440033,
          -1.3434441089630127,
          -0.9216311573982239,
          -4.239904403686523,
          1.1647343635559082,
          -4.508362770080566,
          0.7679482102394104,
          1.8973909616470337,
          -2.0376641750335693,
          1.9093356132507324,
          -2.5430400371551514,
          -3.0257363319396973,
          -3.805635929107666,
          -1.0836172103881836,
          -3.9103338718414307,
          -1.602805495262146,
          -0.15490397810935974,
          0.7464559078216553,
          -0.5613197088241577,
          -0.8453359007835388,
          -2.6578173637390137,
          -3.32584810256958,
          0.21525993943214417,
          -1.5078868865966797,
          -1.5254167318344116,
          -6.649696350097656,
          -0.12358379364013672,
          -0.6023192405700684,
          -0.12309399992227554,
          -0.07751769572496414,
          -3.8217015266418457,
          -3.2806591987609863,
          1.510469913482666
         ],
         "xaxis": "x",
         "y": [
          0.5247460007667542,
          0.6835758686065674,
          1.4920405149459839,
          -2.3418564796447754,
          -1.5458885431289673,
          1.6098487377166748,
          -0.10439383238554001,
          -0.06891794502735138,
          -1.218262791633606,
          -1.6819124221801758,
          0.583774209022522,
          0.0969187468290329,
          0.7832209467887878,
          -0.5555232167243958,
          -0.07884131371974945,
          -0.4171919524669647,
          4.028890609741211,
          -0.1132361963391304,
          -0.9604551792144775,
          -2.3298521041870117,
          -0.9094051122665405,
          0.01671450585126877,
          1.165023684501648,
          1.9751076698303223,
          -0.034108974039554596,
          -0.2742787003517151,
          0.16820469498634338,
          -0.17001396417617798,
          -0.5813055634498596,
          -0.32179006934165955,
          1.979681372642517,
          1.7714228630065918,
          1.3009082078933716,
          3.2269692420959473,
          1.786236047744751,
          0.40908581018447876,
          -5.005711078643799,
          1.399762749671936,
          -1.5363819599151611,
          -1.7007787227630615,
          -1.8272225856781006,
          0.006476914044469595,
          1.45963716506958,
          -3.685163736343384,
          0.4258694052696228,
          -0.9460729956626892,
          -1.6214059591293335,
          -0.6581752300262451,
          4.878704071044922,
          0.49050191044807434,
          -3.5440688133239746,
          -1.309437870979309,
          -4.114153861999512,
          0.09353770315647125,
          -1.2131569385528564,
          -0.02450571209192276,
          4.000139236450195,
          -0.5016888976097107,
          -2.0474557876586914,
          -2.187438726425171,
          -4.958821773529053,
          -0.9772374629974365,
          -0.6686567664146423,
          3.153599739074707,
          2.79270601272583,
          -0.12644848227500916,
          -0.5240588188171387,
          -3.885807752609253,
          -0.8015656471252441,
          3.51236629486084,
          3.8856027126312256,
          -0.18648973107337952,
          2.0424365997314453,
          -4.03501558303833,
          -0.8139608502388,
          -0.6387091875076294,
          1.083762764930725,
          1.1553641557693481,
          -2.2558021545410156,
          0.09953150153160095
         ],
         "yaxis": "y"
        },
        {
         "customdata": [
          [
           "INTERNATIONAL WESTERN PETROLEUM, INC.",
           "Crude Petroleum and Natural Gas"
          ],
          [
           "DAYBREAK OIL & GAS, INC.",
           "Crude Petroleum and Natural Gas"
          ],
          [
           "GB SCIENCES INC",
           "Crude Petroleum and Natural Gas"
          ],
          [
           "FREEDOM HOLDING CORP.",
           "Crude Petroleum and Natural Gas"
          ],
          [
           "MEXCO ENERGY CORP",
           "Crude Petroleum and Natural Gas"
          ],
          [
           "SUSTAINABLE PROJECTS GROUP INC.",
           "Crude Petroleum and Natural Gas"
          ],
          [
           "AMERICAN ENERGY GROUP LTD",
           "Crude Petroleum and Natural Gas"
          ],
          [
           "REDHAWK HOLDINGS CORP.",
           "Crude Petroleum and Natural Gas"
          ],
          [
           "TIANCI INTERNATIONAL, INC.",
           "Crude Petroleum and Natural Gas"
          ],
          [
           "AMAZING ENERGY OIL & GAS, CO.",
           "Crude Petroleum and Natural Gas"
          ],
          [
           "ALTEX INDUSTRIES INC",
           "Crude Petroleum and Natural Gas"
          ],
          [
           "BARNWELL INDUSTRIES INC",
           "Crude Petroleum and Natural Gas"
          ],
          [
           "PANHANDLE OIL & GAS INC",
           "Crude Petroleum and Natural Gas"
          ],
          [
           "ENERGY 11, L.P.",
           "Crude Petroleum and Natural Gas"
          ],
          [
           "ABRAXAS PETROLEUM CORP",
           "Crude Petroleum and Natural Gas"
          ],
          [
           "SEARS OIL & GAS",
           "Crude Petroleum and Natural Gas"
          ],
          [
           "APACHE CORP",
           "Crude Petroleum and Natural Gas"
          ],
          [
           "GULFPORT ENERGY CORP",
           "Crude Petroleum and Natural Gas"
          ],
          [
           "CONTINENTAL RESOURCES, INC",
           "Crude Petroleum and Natural Gas"
          ],
          [
           "ISRAMCO INC",
           "Crude Petroleum and Natural Gas"
          ],
          [
           "CHAPARRAL ENERGY, INC.",
           "Crude Petroleum and Natural Gas"
          ],
          [
           "WHITING PETROLEUM CORP",
           "Crude Petroleum and Natural Gas"
          ],
          [
           "CONTANGO OIL & GAS CO",
           "Crude Petroleum and Natural Gas"
          ],
          [
           "EARTHSTONE ENERGY INC",
           "Crude Petroleum and Natural Gas"
          ],
          [
           "CLEAN COAL TECHNOLOGIES INC.",
           "Crude Petroleum and Natural Gas"
          ],
          [
           "NORTHERN OIL & GAS, INC.",
           "Crude Petroleum and Natural Gas"
          ],
          [
           "SRC ENERGY INC.",
           "Crude Petroleum and Natural Gas"
          ],
          [
           "JONES ENERGY, INC.",
           "Crude Petroleum and Natural Gas"
          ],
          [
           "GOODRICH PETROLEUM CORP",
           "Crude Petroleum and Natural Gas"
          ],
          [
           "OCCIDENTAL PETROLEUM CORP /DE/",
           "Crude Petroleum and Natural Gas"
          ],
          [
           "LONESTAR RESOURCES US INC.",
           "Crude Petroleum and Natural Gas"
          ],
          [
           "NOBLE ENERGY INC",
           "Crude Petroleum and Natural Gas"
          ],
          [
           "PIONEER NATURAL RESOURCES CO",
           "Crude Petroleum and Natural Gas"
          ],
          [
           "BONANZA CREEK ENERGY, INC.",
           "Crude Petroleum and Natural Gas"
          ],
          [
           "DEVON ENERGY CORP/DE",
           "Crude Petroleum and Natural Gas"
          ],
          [
           "CALIFORNIA RESOURCES CORP",
           "Crude Petroleum and Natural Gas"
          ],
          [
           "PARK PLACE ENERGY INC.",
           "Crude Petroleum and Natural Gas"
          ],
          [
           "ANTERO RESOURCES CORP",
           "Crude Petroleum and Natural Gas"
          ],
          [
           "LAREDO PETROLEUM, INC.",
           "Crude Petroleum and Natural Gas"
          ],
          [
           "CIMAREX ENERGY CO",
           "Crude Petroleum and Natural Gas"
          ],
          [
           "ALTA MESA HOLDINGS, LP",
           "Crude Petroleum and Natural Gas"
          ],
          [
           "US ENERGY CORP",
           "Crude Petroleum and Natural Gas"
          ],
          [
           "VICTORY ENERGY CORP",
           "Crude Petroleum and Natural Gas"
          ],
          [
           "VICTORY ENERGY CORP",
           "Crude Petroleum and Natural Gas"
          ],
          [
           "GRAN TIERRA ENERGY INC.",
           "Crude Petroleum and Natural Gas"
          ],
          [
           "MIDSTATES PETROLEUM COMPANY, INC.",
           "Crude Petroleum and Natural Gas"
          ],
          [
           "WILDHORSE RESOURCE DEVELOPMENT CORP",
           "Crude Petroleum and Natural Gas"
          ],
          [
           "SM ENERGY CO",
           "Crude Petroleum and Natural Gas"
          ],
          [
           "SANDRIDGE ENERGY INC",
           "Crude Petroleum and Natural Gas"
          ],
          [
           "RING ENERGY, INC.",
           "Crude Petroleum and Natural Gas"
          ],
          [
           "SANCHEZ ENERGY CORP",
           "Crude Petroleum and Natural Gas"
          ],
          [
           "TETRA TECHNOLOGIES INC",
           "Crude Petroleum and Natural Gas"
          ],
          [
           "RESERVE PETROLEUM CO",
           "Crude Petroleum and Natural Gas"
          ],
          [
           "HESS MIDSTREAM PARTNERS LP",
           "Crude Petroleum and Natural Gas"
          ],
          [
           "TORCHLIGHT ENERGY RESOURCES INC",
           "Crude Petroleum and Natural Gas"
          ],
          [
           "LINN ENERGY, INC.",
           "Crude Petroleum and Natural Gas"
          ],
          [
           "KOSMOS ENERGY LTD.",
           "Crude Petroleum and Natural Gas"
          ],
          [
           "SILVERBOW RESOURCES, INC.",
           "Crude Petroleum and Natural Gas"
          ],
          [
           "TELLURIAN INC. /DE/",
           "Crude Petroleum and Natural Gas"
          ],
          [
           "DORCHESTER MINERALS, L.P.",
           "Crude Petroleum and Natural Gas"
          ],
          [
           "MATADOR RESOURCES CO",
           "Crude Petroleum and Natural Gas"
          ],
          [
           "PDC ENERGY, INC.",
           "Crude Petroleum and Natural Gas"
          ],
          [
           "TEXAS SOUTH ENERGY, INC.",
           "Crude Petroleum and Natural Gas"
          ],
          [
           "PEDEVCO CORP",
           "Crude Petroleum and Natural Gas"
          ],
          [
           "VIPER ENERGY PARTNERS LP",
           "Crude Petroleum and Natural Gas"
          ],
          [
           "ENERJEX RESOURCES, INC.",
           "Crude Petroleum and Natural Gas"
          ],
          [
           "TENGASCO INC",
           "Crude Petroleum and Natural Gas"
          ],
          [
           "KIMBELL ROYALTY PARTNERS, LP",
           "Crude Petroleum and Natural Gas"
          ],
          [
           "CONCHO RESOURCES INC",
           "Crude Petroleum and Natural Gas"
          ],
          [
           "APACHE OFFSHORE INVESTMENT PARTNERSHIP",
           "Crude Petroleum and Natural Gas"
          ],
          [
           "EVERFLOW EASTERN PARTNERS LP",
           "Crude Petroleum and Natural Gas"
          ],
          [
           "CHESAPEAKE ENERGY CORP",
           "Crude Petroleum and Natural Gas"
          ],
          [
           "CARRIZO OIL & GAS INC",
           "Crude Petroleum and Natural Gas"
          ],
          [
           "CALLON PETROLEUM CO",
           "Crude Petroleum and Natural Gas"
          ],
          [
           "PENN VIRGINIA CORP",
           "Crude Petroleum and Natural Gas"
          ],
          [
           "DIAMONDBACK ENERGY, INC.",
           "Crude Petroleum and Natural Gas"
          ],
          [
           "COMSTOCK RESOURCES INC",
           "Crude Petroleum and Natural Gas"
          ],
          [
           "DALA PETROLEUM CORP.",
           "Crude Petroleum and Natural Gas"
          ],
          [
           "WPX ENERGY, INC.",
           "Crude Petroleum and Natural Gas"
          ],
          [
           "LILIS ENERGY, INC.",
           "Crude Petroleum and Natural Gas"
          ]
         ],
         "hovertemplate": "color=Crude Petroleum and Natural Gas<br>0=%{x}<br>1=%{y}<br>name=%{customdata[0]}<br>industry=%{customdata[1]}<extra></extra>",
         "legendgroup": "Crude Petroleum and Natural Gas",
         "marker": {
          "color": "#EF553B",
          "symbol": "circle"
         },
         "mode": "markers",
         "name": "Crude Petroleum and Natural Gas",
         "orientation": "v",
         "showlegend": true,
         "type": "scatter",
         "x": [
          -4.338934421539307,
          -4.87925386428833,
          5.125483512878418,
          -6.965017795562744,
          -4.066265106201172,
          -0.6036471724510193,
          -0.6361156702041626,
          2.910270929336548,
          -2.346933126449585,
          -5.02119255065918,
          -1.016222596168518,
          -5.0158491134643555,
          -2.1602272987365723,
          -4.362594127655029,
          -3.976363182067871,
          0.3580302298069,
          -5.023856163024902,
          -3.9072091579437256,
          -4.776683807373047,
          -1.5467168092727661,
          -4.913160800933838,
          -2.949206590652466,
          -0.7171188592910767,
          -2.3721959590911865,
          4.166646480560303,
          -3.1221158504486084,
          -4.846714496612549,
          -2.935642719268799,
          -3.3473894596099854,
          -2.172006607055664,
          -2.3833558559417725,
          -4.933843612670898,
          -2.030531167984009,
          -2.944718360900879,
          -1.9295934438705444,
          -7.217803478240967,
          0.3723922073841095,
          -5.026540279388428,
          -4.600001335144043,
          -4.231137275695801,
          -3.100929021835327,
          -4.610886096954346,
          -0.44115281105041504,
          -0.43034660816192627,
          -2.9882595539093018,
          -4.894316673278809,
          -2.5278232097625732,
          -3.2747159004211426,
          -2.013903856277466,
          -1.8592652082443237,
          -2.9527013301849365,
          -0.395159512758255,
          -2.064542055130005,
          -5.380678653717041,
          -0.8946661353111267,
          -7.173089981079102,
          -2.362948417663574,
          -6.625407695770264,
          -4.21536111831665,
          -2.3561012744903564,
          -5.6309099197387695,
          -5.583539962768555,
          -2.0312647819519043,
          -0.6673098206520081,
          -3.4998056888580322,
          -0.15042677521705627,
          -0.9042539596557617,
          -3.9866909980773926,
          -3.4423770904541016,
          -1.9330235719680786,
          -2.6337215900421143,
          -2.7920918464660645,
          -1.849784255027771,
          -4.895313262939453,
          -0.8924754858016968,
          -4.7028937339782715,
          -4.3259358406066895,
          -3.67311954498291,
          -4.48706579208374,
          -5.009604454040527
         ],
         "xaxis": "x",
         "y": [
          11.007107734680176,
          5.5628180503845215,
          1.8456761837005615,
          -4.158109188079834,
          6.383697032928467,
          1.9170454740524292,
          -0.20384594798088074,
          -0.0981096550822258,
          0.5331064462661743,
          11.996333122253418,
          0.6888121366500854,
          8.256855964660645,
          2.386695146560669,
          12.957012176513672,
          11.902938842773438,
          2.941899061203003,
          8.95601749420166,
          18.6861572265625,
          17.47210121154785,
          12.975784301757812,
          12.246920585632324,
          13.632713317871094,
          0.12775848805904388,
          6.982885360717773,
          11.22619342803955,
          12.16279125213623,
          15.117724418640137,
          16.901443481445312,
          9.782977104187012,
          7.403168201446533,
          16.721702575683594,
          11.74586009979248,
          11.306434631347656,
          15.547811508178711,
          8.168561935424805,
          8.71232795715332,
          5.703415393829346,
          12.866593360900879,
          16.585886001586914,
          11.863757133483887,
          9.747602462768555,
          9.32599925994873,
          5.3878865242004395,
          6.116734981536865,
          7.036123275756836,
          13.888328552246094,
          10.329604148864746,
          12.552148818969727,
          14.410449981689453,
          6.643749237060547,
          15.38826847076416,
          11.114509582519531,
          4.304287433624268,
          11.730081558227539,
          2.464045763015747,
          11.943687438964844,
          20.462919235229492,
          9.501428604125977,
          12.485672950744629,
          4.440741062164307,
          18.755151748657227,
          11.533910751342773,
          9.832419395446777,
          -0.01506753545254469,
          13.11234188079834,
          2.938189744949341,
          7.630776405334473,
          16.04189682006836,
          13.982332229614258,
          4.605970859527588,
          7.809214115142822,
          11.452559471130371,
          14.1815185546875,
          8.481234550476074,
          9.274306297302246,
          10.247285842895508,
          8.084674835205078,
          3.6611242294311523,
          14.84321403503418,
          6.981031894683838
         ],
         "yaxis": "y"
        },
        {
         "customdata": [
          [
           "ULURU INC.",
           "Pharmaceutical Preparations"
          ],
          [
           "CHINA YCT INTERNATIONAL GROUP, INC.",
           "Pharmaceutical Preparations"
          ],
          [
           "AXOVANT SCIENCES LTD.",
           "Pharmaceutical Preparations"
          ],
          [
           "MYOVANT SCIENCES LTD.",
           "Pharmaceutical Preparations"
          ],
          [
           "PRESTIGE BRANDS HOLDINGS, INC.",
           "Pharmaceutical Preparations"
          ],
          [
           "HYPGEN INC",
           "Pharmaceutical Preparations"
          ],
          [
           "HYPGEN INC",
           "Pharmaceutical Preparations"
          ],
          [
           "DANDRIT BIOTECH USA, INC.",
           "Pharmaceutical Preparations"
          ],
          [
           "REZOLUTE, INC.",
           "Pharmaceutical Preparations"
          ],
          [
           "OPTEC INTERNATIONAL, INC.",
           "Pharmaceutical Preparations"
          ],
          [
           "OPTEC INTERNATIONAL, INC.",
           "Pharmaceutical Preparations"
          ],
          [
           "BIOVIE INC.",
           "Pharmaceutical Preparations"
          ],
          [
           "ONCOSEC MEDICAL INC",
           "Pharmaceutical Preparations"
          ],
          [
           "CANNABICS PHARMACEUTICALS INC.",
           "Pharmaceutical Preparations"
          ],
          [
           "ORAMED PHARMACEUTICALS INC.",
           "Pharmaceutical Preparations"
          ],
          [
           "ENTEST BIOMEDICAL, INC.",
           "Pharmaceutical Preparations"
          ],
          [
           "MY CLOUDZ, INC.",
           "Pharmaceutical Preparations"
          ],
          [
           "MY CLOUDZ, INC.",
           "Pharmaceutical Preparations"
          ],
          [
           "ENANTA PHARMACEUTICALS INC",
           "Pharmaceutical Preparations"
          ],
          [
           "CITIUS PHARMACEUTICALS, INC.",
           "Pharmaceutical Preparations"
          ],
          [
           "STELLAR BIOTECHNOLOGIES, INC.",
           "Pharmaceutical Preparations"
          ],
          [
           "REGEN BIOPHARMA INC",
           "Pharmaceutical Preparations"
          ],
          [
           "REGEN BIOPHARMA INC",
           "Pharmaceutical Preparations"
          ],
          [
           "ADVAXIS, INC.",
           "Pharmaceutical Preparations"
          ],
          [
           "ORGENESIS INC.",
           "Pharmaceutical Preparations"
          ],
          [
           "Q BIOMED INC.",
           "Pharmaceutical Preparations"
          ],
          [
           "JOHNSON & JOHNSON",
           "Pharmaceutical Preparations"
          ],
          [
           "BRISTOL MYERS SQUIBB CO",
           "Pharmaceutical Preparations"
          ],
          [
           "VBI VACCINES INC/BC",
           "Pharmaceutical Preparations"
          ],
          [
           "INTRA-CELLULAR THERAPIES, INC.",
           "Pharmaceutical Preparations"
          ],
          [
           "ROCKET PHARMACEUTICALS, INC.",
           "Pharmaceutical Preparations"
          ],
          [
           "ATLAS HOLDINGS, INC.",
           "Pharmaceutical Preparations"
          ],
          [
           "NEMUS BIOSCIENCE, INC.",
           "Pharmaceutical Preparations"
          ],
          [
           "NEMUS BIOSCIENCE, INC.",
           "Pharmaceutical Preparations"
          ],
          [
           "OVASCIENCE, INC.",
           "Pharmaceutical Preparations"
          ],
          [
           "CONCERT PHARMACEUTICALS, INC.",
           "Pharmaceutical Preparations"
          ],
          [
           "AKCEA THERAPEUTICS, INC.",
           "Pharmaceutical Preparations"
          ],
          [
           "ARQULE INC",
           "Pharmaceutical Preparations"
          ],
          [
           "AXIM BIOTECHNOLOGIES, INC.",
           "Pharmaceutical Preparations"
          ],
          [
           "GUARDION HEALTH SCIENCES, INC.",
           "Pharmaceutical Preparations"
          ],
          [
           "RETROPHIN, INC.",
           "Pharmaceutical Preparations"
          ],
          [
           "SYNDAX PHARMACEUTICALS INC",
           "Pharmaceutical Preparations"
          ],
          [
           "FIBROGEN INC",
           "Pharmaceutical Preparations"
          ],
          [
           "PROTOKINETIX, INC.",
           "Pharmaceutical Preparations"
          ],
          [
           "PROGENICS PHARMACEUTICALS INC",
           "Pharmaceutical Preparations"
          ],
          [
           "CHECKPOINT THERAPEUTICS, INC.",
           "Pharmaceutical Preparations"
          ],
          [
           "PFENEX INC.",
           "Pharmaceutical Preparations"
          ],
          [
           "PAIN THERAPEUTICS INC",
           "Pharmaceutical Preparations"
          ],
          [
           "ZOMEDICA PHARMACEUTICALS CORP.",
           "Pharmaceutical Preparations"
          ],
          [
           "ZOMEDICA PHARMACEUTICALS CORP.",
           "Pharmaceutical Preparations"
          ],
          [
           "MOLECULAR TEMPLATES, INC.",
           "Pharmaceutical Preparations"
          ],
          [
           "WAVE LIFE SCIENCES LTD.",
           "Pharmaceutical Preparations"
          ],
          [
           "CYMABAY THERAPEUTICS, INC.",
           "Pharmaceutical Preparations"
          ],
          [
           "AMICUS THERAPEUTICS INC",
           "Pharmaceutical Preparations"
          ],
          [
           "EVOKE PHARMA INC",
           "Pharmaceutical Preparations"
          ],
          [
           "CHEMBIO DIAGNOSTICS, INC.",
           "Pharmaceutical Preparations"
          ],
          [
           "CARA THERAPEUTICS, INC.",
           "Pharmaceutical Preparations"
          ],
          [
           "CYTOMX THERAPEUTICS, INC.",
           "Pharmaceutical Preparations"
          ],
          [
           "XENCOR INC",
           "Pharmaceutical Preparations"
          ],
          [
           "CATABASIS PHARMACEUTICALS INC",
           "Pharmaceutical Preparations"
          ],
          [
           "SERES THERAPEUTICS, INC.",
           "Pharmaceutical Preparations"
          ],
          [
           "EYEGATE PHARMACEUTICALS INC",
           "Pharmaceutical Preparations"
          ],
          [
           "ARENA PHARMACEUTICALS INC",
           "Pharmaceutical Preparations"
          ],
          [
           "ALEXION PHARMACEUTICALS INC",
           "Pharmaceutical Preparations"
          ],
          [
           "MELINTA THERAPEUTICS, INC. /NEW/",
           "Pharmaceutical Preparations"
          ],
          [
           "FIVE PRIME THERAPEUTICS INC",
           "Pharmaceutical Preparations"
          ],
          [
           "LIXTE BIOTECHNOLOGY HOLDINGS, INC.",
           "Pharmaceutical Preparations"
          ],
          [
           "ARATANA THERAPEUTICS, INC.",
           "Pharmaceutical Preparations"
          ],
          [
           "CHIASMA, INC",
           "Pharmaceutical Preparations"
          ],
          [
           "CELGENE CORP /DE/",
           "Pharmaceutical Preparations"
          ],
          [
           "NEWLINK GENETICS CORP",
           "Pharmaceutical Preparations"
          ],
          [
           "LIGAND PHARMACEUTICALS INC",
           "Pharmaceutical Preparations"
          ],
          [
           "PORTOLA PHARMACEUTICALS INC",
           "Pharmaceutical Preparations"
          ],
          [
           "PLX PHARMA INC.",
           "Pharmaceutical Preparations"
          ],
          [
           "ARDELYX, INC.",
           "Pharmaceutical Preparations"
          ],
          [
           "PROTAGONIST THERAPEUTICS, INC",
           "Pharmaceutical Preparations"
          ],
          [
           "MOLECULIN BIOTECH, INC.",
           "Pharmaceutical Preparations"
          ],
          [
           "IRONWOOD PHARMACEUTICALS INC",
           "Pharmaceutical Preparations"
          ],
          [
           "FORTRESS BIOTECH, INC.",
           "Pharmaceutical Preparations"
          ],
          [
           "SYNTHETIC BIOLOGICS, INC.",
           "Pharmaceutical Preparations"
          ],
          [
           "OPTINOSE, INC.",
           "Pharmaceutical Preparations"
          ],
          [
           "CORMEDIX INC.",
           "Pharmaceutical Preparations"
          ],
          [
           "HEAT BIOLOGICS, INC.",
           "Pharmaceutical Preparations"
          ],
          [
           "SUN BIOPHARMA, INC.",
           "Pharmaceutical Preparations"
          ],
          [
           "BELLEROPHON THERAPEUTICS, INC.",
           "Pharmaceutical Preparations"
          ],
          [
           "BIOSPECIFICS TECHNOLOGIES CORP",
           "Pharmaceutical Preparations"
          ],
          [
           "ZOSANO PHARMA CORP",
           "Pharmaceutical Preparations"
          ],
          [
           "CV SCIENCES, INC.",
           "Pharmaceutical Preparations"
          ],
          [
           "LILLY ELI & CO",
           "Pharmaceutical Preparations"
          ],
          [
           "SAREPTA THERAPEUTICS, INC.",
           "Pharmaceutical Preparations"
          ],
          [
           "EXICURE, INC.",
           "Pharmaceutical Preparations"
          ],
          [
           "OVID THERAPEUTICS INC.",
           "Pharmaceutical Preparations"
          ],
          [
           "IMPRIMIS PHARMACEUTICALS, INC.",
           "Pharmaceutical Preparations"
          ],
          [
           "IONIS PHARMACEUTICALS INC",
           "Pharmaceutical Preparations"
          ],
          [
           "ONCOMED PHARMACEUTICALS INC",
           "Pharmaceutical Preparations"
          ],
          [
           "TONIX PHARMACEUTICALS HOLDING CORP.",
           "Pharmaceutical Preparations"
          ],
          [
           "TEVA PHARMACEUTICAL INDUSTRIES LTD",
           "Pharmaceutical Preparations"
          ],
          [
           "RHYTHM PHARMACEUTICALS, INC.",
           "Pharmaceutical Preparations"
          ],
          [
           "COCRYSTAL PHARMA, INC.",
           "Pharmaceutical Preparations"
          ],
          [
           "REGENERON PHARMACEUTICALS INC",
           "Pharmaceutical Preparations"
          ],
          [
           "ANI PHARMACEUTICALS INC",
           "Pharmaceutical Preparations"
          ],
          [
           "CLEARSIDE BIOMEDICAL, INC.",
           "Pharmaceutical Preparations"
          ],
          [
           "LIPOCINE INC.",
           "Pharmaceutical Preparations"
          ],
          [
           "GALECTIN THERAPEUTICS INC",
           "Pharmaceutical Preparations"
          ],
          [
           "STEMLINE THERAPEUTICS INC",
           "Pharmaceutical Preparations"
          ],
          [
           "DOVA PHARMACEUTICALS, INC.",
           "Pharmaceutical Preparations"
          ],
          [
           "ABBVIE INC.",
           "Pharmaceutical Preparations"
          ],
          [
           "AKORN INC",
           "Pharmaceutical Preparations"
          ],
          [
           "VALEANT PHARMACEUTICALS INTERNATIONAL, INC.",
           "Pharmaceutical Preparations"
          ],
          [
           "INTELGENX TECHNOLOGIES CORP.",
           "Pharmaceutical Preparations"
          ],
          [
           "PFIZER INC",
           "Pharmaceutical Preparations"
          ],
          [
           "SKINVISIBLE INC",
           "Pharmaceutical Preparations"
          ],
          [
           "TAPIMMUNE INC.",
           "Pharmaceutical Preparations"
          ],
          [
           "THERAPEUTICSMD, INC.",
           "Pharmaceutical Preparations"
          ],
          [
           "AQUINOX PHARMACEUTICALS, INC",
           "Pharmaceutical Preparations"
          ],
          [
           "GLOBAL BLOOD THERAPEUTICS, INC.",
           "Pharmaceutical Preparations"
          ],
          [
           "RIGEL PHARMACEUTICALS INC",
           "Pharmaceutical Preparations"
          ],
          [
           "PARATEK PHARMACEUTICALS, INC.",
           "Pharmaceutical Preparations"
          ],
          [
           "PERRIGO CO PLC",
           "Pharmaceutical Preparations"
          ],
          [
           "ZAFGEN, INC.",
           "Pharmaceutical Preparations"
          ],
          [
           "OPHTHOTECH CORP.",
           "Pharmaceutical Preparations"
          ],
          [
           "ACHILLION PHARMACEUTICALS INC",
           "Pharmaceutical Preparations"
          ],
          [
           "KEMPHARM, INC",
           "Pharmaceutical Preparations"
          ],
          [
           "INTERCEPT PHARMACEUTICALS INC",
           "Pharmaceutical Preparations"
          ],
          [
           "ULTRAGENYX PHARMACEUTICAL INC.",
           "Pharmaceutical Preparations"
          ],
          [
           "EMERGENT BIOSOLUTIONS INC.",
           "Pharmaceutical Preparations"
          ],
          [
           "ACER THERAPEUTICS INC.",
           "Pharmaceutical Preparations"
          ],
          [
           "HERON THERAPEUTICS, INC. /DE/",
           "Pharmaceutical Preparations"
          ],
          [
           "ADAMIS PHARMACEUTICALS CORP",
           "Pharmaceutical Preparations"
          ],
          [
           "GT BIOPHARMA, INC.",
           "Pharmaceutical Preparations"
          ],
          [
           "GT BIOPHARMA, INC.",
           "Pharmaceutical Preparations"
          ],
          [
           "GT BIOPHARMA, INC.",
           "Pharmaceutical Preparations"
          ],
          [
           "GT BIOPHARMA, INC.",
           "Pharmaceutical Preparations"
          ],
          [
           "GT BIOPHARMA, INC.",
           "Pharmaceutical Preparations"
          ],
          [
           "GT BIOPHARMA, INC.",
           "Pharmaceutical Preparations"
          ],
          [
           "IMMUNOGEN INC",
           "Pharmaceutical Preparations"
          ],
          [
           "PTC THERAPEUTICS, INC.",
           "Pharmaceutical Preparations"
          ],
          [
           "MANNKIND CORP",
           "Pharmaceutical Preparations"
          ],
          [
           "CARDAX, INC.",
           "Pharmaceutical Preparations"
          ],
          [
           "SYROS PHARMACEUTICALS, INC.",
           "Pharmaceutical Preparations"
          ],
          [
           "ADURO BIOTECH, INC.",
           "Pharmaceutical Preparations"
          ],
          [
           "SIENNA BIOPHARMACEUTICALS, INC.",
           "Pharmaceutical Preparations"
          ],
          [
           "ACHAOGEN INC",
           "Pharmaceutical Preparations"
          ],
          [
           "UNITED CANNABIS CORP",
           "Pharmaceutical Preparations"
          ],
          [
           "UNITED CANNABIS CORP",
           "Pharmaceutical Preparations"
          ],
          [
           "RXI PHARMACEUTICALS CORP",
           "Pharmaceutical Preparations"
          ],
          [
           "RXI PHARMACEUTICALS CORP",
           "Pharmaceutical Preparations"
          ],
          [
           "RXI PHARMACEUTICALS CORP",
           "Pharmaceutical Preparations"
          ],
          [
           "RXI PHARMACEUTICALS CORP",
           "Pharmaceutical Preparations"
          ],
          [
           "SOLIGENIX, INC.",
           "Pharmaceutical Preparations"
          ],
          [
           "XOMA CORP",
           "Pharmaceutical Preparations"
          ],
          [
           "SIERRA ONCOLOGY, INC.",
           "Pharmaceutical Preparations"
          ],
          [
           "ACTINIUM PHARMACEUTICALS, INC.",
           "Pharmaceutical Preparations"
          ],
          [
           "ORAGENICS INC",
           "Pharmaceutical Preparations"
          ],
          [
           "ATHERSYS, INC / NEW",
           "Pharmaceutical Preparations"
          ],
          [
           "PULMATRIX, INC.",
           "Pharmaceutical Preparations"
          ],
          [
           "ACADIA PHARMACEUTICALS INC",
           "Pharmaceutical Preparations"
          ],
          [
           "TREVENA INC",
           "Pharmaceutical Preparations"
          ],
          [
           "NATURES SUNSHINE PRODUCTS INC",
           "Pharmaceutical Preparations"
          ],
          [
           "FLEXION THERAPEUTICS INC",
           "Pharmaceutical Preparations"
          ],
          [
           "VERASTEM, INC.",
           "Pharmaceutical Preparations"
          ],
          [
           "XENON PHARMACEUTICALS INC.",
           "Pharmaceutical Preparations"
          ],
          [
           "SUNESIS PHARMACEUTICALS INC",
           "Pharmaceutical Preparations"
          ],
          [
           "CORVUS PHARMACEUTICALS, INC.",
           "Pharmaceutical Preparations"
          ],
          [
           "MERCK & CO., INC.",
           "Pharmaceutical Preparations"
          ],
          [
           "STRONGBRIDGE BIOPHARMA PLC",
           "Pharmaceutical Preparations"
          ],
          [
           "CATALYST PHARMACEUTICALS, INC.",
           "Pharmaceutical Preparations"
          ],
          [
           "ASSEMBLY BIOSCIENCES, INC.",
           "Pharmaceutical Preparations"
          ],
          [
           "APRICUS BIOSCIENCES, INC.",
           "Pharmaceutical Preparations"
          ],
          [
           "CATALYST BIOSCIENCES, INC.",
           "Pharmaceutical Preparations"
          ],
          [
           "MIRATI THERAPEUTICS, INC.",
           "Pharmaceutical Preparations"
          ],
          [
           "MUSTANG BIO, INC.",
           "Pharmaceutical Preparations"
          ],
          [
           "ACELRX PHARMACEUTICALS INC",
           "Pharmaceutical Preparations"
          ],
          [
           "BLUEPRINT MEDICINES CORP",
           "Pharmaceutical Preparations"
          ],
          [
           "ATHENEX, INC.",
           "Pharmaceutical Preparations"
          ],
          [
           "ATHENEX, INC.",
           "Pharmaceutical Preparations"
          ],
          [
           "RECRO PHARMA, INC.",
           "Pharmaceutical Preparations"
          ],
          [
           "BIOHAVEN PHARMACEUTICAL HOLDING CO LTD.",
           "Pharmaceutical Preparations"
          ],
          [
           "PROTHENA CORP PLC",
           "Pharmaceutical Preparations"
          ],
          [
           "AVENUE THERAPEUTICS, INC.",
           "Pharmaceutical Preparations"
          ],
          [
           "VTV THERAPEUTICS INC.",
           "Pharmaceutical Preparations"
          ],
          [
           "ZYNERBA PHARMACEUTICALS, INC.",
           "Pharmaceutical Preparations"
          ],
          [
           "BIOMARIN PHARMACEUTICAL INC",
           "Pharmaceutical Preparations"
          ],
          [
           "KARYOPHARM THERAPEUTICS INC.",
           "Pharmaceutical Preparations"
          ],
          [
           "LEXICON PHARMACEUTICALS, INC.",
           "Pharmaceutical Preparations"
          ],
          [
           "ENDO INTERNATIONAL PLC",
           "Pharmaceutical Preparations"
          ],
          [
           "PROPHASE LABS, INC.",
           "Pharmaceutical Preparations"
          ],
          [
           "CELLECTAR BIOSCIENCES, INC.",
           "Pharmaceutical Preparations"
          ],
          [
           "RITTER PHARMACEUTICALS INC",
           "Pharmaceutical Preparations"
          ],
          [
           "MARINUS PHARMACEUTICALS INC",
           "Pharmaceutical Preparations"
          ],
          [
           "CORCEPT THERAPEUTICS INC",
           "Pharmaceutical Preparations"
          ],
          [
           "ALNYLAM PHARMACEUTICALS, INC.",
           "Pharmaceutical Preparations"
          ],
          [
           "DARE BIOSCIENCE, INC.",
           "Pharmaceutical Preparations"
          ],
          [
           "TELIGENT, INC.",
           "Pharmaceutical Preparations"
          ],
          [
           "TELIGENT, INC.",
           "Pharmaceutical Preparations"
          ],
          [
           "ACLARIS THERAPEUTICS, INC.",
           "Pharmaceutical Preparations"
          ],
          [
           "VITAL THERAPIES INC",
           "Pharmaceutical Preparations"
          ],
          [
           "DECIPHERA PHARMACEUTICALS, INC.",
           "Pharmaceutical Preparations"
          ],
          [
           "CAPSTONE THERAPEUTICS CORP.",
           "Pharmaceutical Preparations"
          ],
          [
           "PACIRA PHARMACEUTICALS, INC.",
           "Pharmaceutical Preparations"
          ],
          [
           "UROGEN PHARMA LTD.",
           "Pharmaceutical Preparations"
          ],
          [
           "FIBROCELL SCIENCE, INC.",
           "Pharmaceutical Preparations"
          ],
          [
           "FLEX PHARMA, INC.",
           "Pharmaceutical Preparations"
          ],
          [
           "BIODELIVERY SCIENCES INTERNATIONAL INC",
           "Pharmaceutical Preparations"
          ],
          [
           "HORIZON PHARMA PLC",
           "Pharmaceutical Preparations"
          ],
          [
           "MERRIMACK PHARMACEUTICALS INC",
           "Pharmaceutical Preparations"
          ],
          [
           "CYCLACEL PHARMACEUTICALS, INC.",
           "Pharmaceutical Preparations"
          ],
          [
           "ZOETIS INC.",
           "Pharmaceutical Preparations"
          ]
         ],
         "hovertemplate": "color=Pharmaceutical Preparations<br>0=%{x}<br>1=%{y}<br>name=%{customdata[0]}<br>industry=%{customdata[1]}<extra></extra>",
         "legendgroup": "Pharmaceutical Preparations",
         "marker": {
          "color": "#00cc96",
          "symbol": "circle"
         },
         "mode": "markers",
         "name": "Pharmaceutical Preparations",
         "orientation": "v",
         "showlegend": true,
         "type": "scatter",
         "x": [
          7.1472554206848145,
          4.8398308753967285,
          3.8125617504119873,
          7.062637805938721,
          4.342325687408447,
          2.529646635055542,
          2.4022276401519775,
          8.975658416748047,
          5.287420272827148,
          0.0014502466656267643,
          0.12061052769422531,
          6.471107482910156,
          8.875487327575684,
          7.419072151184082,
          4.2007951736450195,
          -4.611718654632568,
          -0.4333934783935547,
          -0.20937614142894745,
          16.033191680908203,
          2.2163138389587402,
          5.667092323303223,
          7.975491046905518,
          8.539560317993164,
          9.318485260009766,
          7.306340217590332,
          8.402472496032715,
          3.169231414794922,
          -0.4974548816680908,
          13.40435791015625,
          10.115333557128906,
          3.0997159481048584,
          5.594014644622803,
          10.174090385437012,
          10.404949188232422,
          12.59782886505127,
          4.876401901245117,
          10.803862571716309,
          -0.8595438599586487,
          4.663023471832275,
          4.84438943862915,
          11.735240936279297,
          15.138833045959473,
          4.722601890563965,
          6.3433027267456055,
          0.2520819902420044,
          15.281221389770508,
          15.559150695800781,
          8.41652774810791,
          13.543177604675293,
          11.91261100769043,
          16.648176193237305,
          20.790512084960938,
          6.775458812713623,
          13.399819374084473,
          10.680538177490234,
          9.878888130187988,
          1.6790248155593872,
          17.32182502746582,
          -0.38227561116218567,
          3.311040163040161,
          15.38819694519043,
          11.784460067749023,
          12.896665573120117,
          12.966362953186035,
          10.457948684692383,
          -0.6561487317085266,
          11.85584831237793,
          15.193745613098145,
          13.305049896240234,
          12.845398902893066,
          12.009507179260254,
          10.72836685180664,
          12.752036094665527,
          11.165312767028809,
          7.260679244995117,
          18.659414291381836,
          15.92952823638916,
          12.307195663452148,
          5.367313861846924,
          12.841548919677734,
          13.90893840789795,
          12.901349067687988,
          6.388678550720215,
          8.058955192565918,
          0.20363251864910126,
          11.397330284118652,
          9.479397773742676,
          4.500385284423828,
          12.267298698425293,
          15.766249656677246,
          14.016778945922852,
          12.368799209594727,
          9.276684761047363,
          18.96493148803711,
          15.347466468811035,
          14.437152862548828,
          12.524007797241211,
          15.406055450439453,
          12.41809368133545,
          16.595428466796875,
          9.678400993347168,
          15.28291130065918,
          10.448149681091309,
          8.514301300048828,
          16.05670928955078,
          4.436563968658447,
          9.875205039978027,
          8.490970611572266,
          9.482471466064453,
          14.218863487243652,
          2.2898385524749756,
          8.483525276184082,
          13.81004524230957,
          15.388978004455566,
          7.410682201385498,
          7.889310836791992,
          14.838448524475098,
          12.123435974121094,
          1.128569483757019,
          -0.23079487681388855,
          16.550954818725586,
          15.09791088104248,
          14.205424308776855,
          8.941410064697266,
          3.549909830093384,
          13.915740966796875,
          12.818374633789062,
          7.439455986022949,
          11.402095794677734,
          12.636373519897461,
          14.665656089782715,
          15.200759887695312,
          16.11152458190918,
          16.975984573364258,
          17.262205123901367,
          12.429720878601074,
          10.89189338684082,
          7.63364315032959,
          7.148709774017334,
          11.987629890441895,
          12.582998275756836,
          11.143302917480469,
          11.656891822814941,
          3.86850643157959,
          4.74172830581665,
          8.996159553527832,
          10.080071449279785,
          11.085030555725098,
          11.255291938781738,
          3.129417657852173,
          6.506316661834717,
          5.257420063018799,
          13.568703651428223,
          11.753182411193848,
          10.874488830566406,
          9.850908279418945,
          11.112208366394043,
          4.883549213409424,
          0.01569630764424801,
          0.6753013134002686,
          8.584775924682617,
          5.171065330505371,
          12.207008361816406,
          9.47313117980957,
          10.865392684936523,
          14.087724685668945,
          12.580403327941895,
          6.560503959655762,
          11.110671043395996,
          13.862824440002441,
          9.569746971130371,
          13.489069938659668,
          7.187744140625,
          14.348292350769043,
          4.751251220703125,
          4.493077754974365,
          7.757638454437256,
          9.848356246948242,
          5.594753742218018,
          12.366744995117188,
          6.844776153564453,
          7.588216304779053,
          3.5613999366760254,
          13.487248420715332,
          5.524033069610596,
          9.502334594726562,
          5.49198579788208,
          14.453678131103516,
          13.667451858520508,
          3.873758554458618,
          11.153197288513184,
          16.42152214050293,
          11.6758394241333,
          5.942215919494629,
          6.460662364959717,
          4.340338706970215,
          6.89655876159668,
          14.122777938842773,
          4.842182636260986,
          0.6563760638237,
          14.355530738830566,
          10.76625919342041,
          8.188838958740234,
          11.508536338806152,
          10.741503715515137,
          10.245753288269043,
          12.759729385375977,
          -2.3812038898468018
         ],
         "xaxis": "x",
         "y": [
          -2.024188995361328,
          2.18788480758667,
          -0.6299566030502319,
          -0.6631607413291931,
          -2.8717947006225586,
          -0.9038492441177368,
          -1.081731915473938,
          -2.2367327213287354,
          -0.18061503767967224,
          2.078368902206421,
          1.4846645593643188,
          -2.5204684734344482,
          -1.6800068616867065,
          -0.7512708306312561,
          -0.3577965795993805,
          0.9938271641731262,
          0.321828156709671,
          0.09940438717603683,
          -1.6824578046798706,
          -1.336189866065979,
          2.7966554164886475,
          -2.144176483154297,
          -1.5168343782424927,
          -2.257141590118408,
          -1.0266335010528564,
          -0.2055502086877823,
          -1.861142873764038,
          -0.13178080320358276,
          0.6446810960769653,
          -2.513704299926758,
          -0.014029002748429775,
          -1.164421558380127,
          0.6628013253211975,
          0.39664411544799805,
          -1.298485517501831,
          -0.4028705656528473,
          -0.44093218445777893,
          -0.0757676362991333,
          0.7614300847053528,
          -1.3192905187606812,
          -1.7089329957962036,
          -2.2630810737609863,
          -0.08927278220653534,
          0.22625461220741272,
          3.7696993350982666,
          0.6829245090484619,
          1.2020790576934814,
          -0.5834694504737854,
          -0.012068033218383789,
          0.48554134368896484,
          -3.0262722969055176,
          4.884088039398193,
          -0.48630812764167786,
          -0.7769545912742615,
          -2.505927801132202,
          -0.5927084684371948,
          0.5038862824440002,
          2.648056983947754,
          0.7344724535942078,
          -0.7652329206466675,
          1.488403558731079,
          0.9632559418678284,
          -0.6396747827529907,
          -3.2445714473724365,
          0.4999764859676361,
          -0.06540942192077637,
          -1.510223150253296,
          0.3798736035823822,
          1.510218620300293,
          -3.0953216552734375,
          0.1360367238521576,
          0.5453362464904785,
          -1.4121772050857544,
          -1.5385082960128784,
          -0.005353383719921112,
          -0.4796415865421295,
          0.5153525471687317,
          -1.130086064338684,
          0.5899609327316284,
          -1.0809019804000854,
          -2.878176689147949,
          -4.135928630828857,
          -0.5421472787857056,
          -1.1600604057312012,
          0.1280057430267334,
          -0.871074914932251,
          -2.1731746196746826,
          0.3007410764694214,
          -1.7300450801849365,
          -2.979405164718628,
          -1.9568055868148804,
          -2.9901833534240723,
          -1.1038841009140015,
          1.305918574333191,
          -1.760645866394043,
          -2.3585352897644043,
          0.7396528720855713,
          -5.255055904388428,
          0.102226123213768,
          -3.232020616531372,
          -0.22167056798934937,
          -2.497114658355713,
          -1.451136589050293,
          -0.7746079564094543,
          -2.039058208465576,
          -0.11727861315011978,
          -0.5713261365890503,
          -0.8439037799835205,
          0.5576838254928589,
          2.090538501739502,
          -0.24587135016918182,
          -2.001030683517456,
          -2.568915605545044,
          -4.135149955749512,
          -2.975446939468384,
          -0.969606876373291,
          -4.105697154998779,
          -4.560952663421631,
          -0.46615007519721985,
          -1.711917757987976,
          0.44643634557724,
          -5.821298599243164,
          -1.3461095094680786,
          -0.26917216181755066,
          -0.13966304063796997,
          -2.518681049346924,
          -2.0623345375061035,
          -1.9365015029907227,
          0.33094528317451477,
          -1.108733057975769,
          -0.5568127632141113,
          -0.3479200303554535,
          -0.1607884168624878,
          -0.5281364917755127,
          -0.429900199174881,
          -5.2249298095703125,
          -1.8617026805877686,
          -0.8711965084075928,
          -0.3099273145198822,
          -3.104238986968994,
          -2.7224202156066895,
          -2.6482396125793457,
          -4.9039225578308105,
          1.7379605770111084,
          1.4470655918121338,
          -0.19305750727653503,
          0.2298121452331543,
          0.5921078324317932,
          0.6252870559692383,
          -0.05536239221692085,
          0.6294328570365906,
          -1.6247364282608032,
          0.6013779640197754,
          0.44057679176330566,
          -0.30773982405662537,
          -0.7343478202819824,
          -1.5775865316390991,
          -2.1268413066864014,
          -1.6676745414733887,
          -0.8022990226745605,
          -2.4703876972198486,
          -1.1588044166564941,
          -1.8076101541519165,
          -0.6842703223228455,
          -3.028473377227783,
          -3.3574941158294678,
          -3.150158643722534,
          0.4693935215473175,
          -2.8015286922454834,
          -2.0352492332458496,
          -3.2313663959503174,
          -0.9755653738975525,
          -2.2656216621398926,
          -2.760826349258423,
          -1.3435999155044556,
          -1.3433266878128052,
          -1.7944207191467285,
          -2.5690414905548096,
          0.2581847906112671,
          -3.096445322036743,
          -0.8947330713272095,
          -0.2440570890903473,
          0.013041319325566292,
          0.9807679057121277,
          -0.09258230030536652,
          -1.4610698223114014,
          -2.822415828704834,
          -3.1245033740997314,
          -4.875511169433594,
          -2.298635721206665,
          -3.480351209640503,
          -0.7593113780021667,
          -2.9721667766571045,
          -2.700164794921875,
          -2.1839890480041504,
          -0.27130305767059326,
          -0.557087242603302,
          -3.3334763050079346,
          -0.14973725378513336,
          0.019665274769067764,
          -2.6156201362609863,
          -2.962618350982666,
          -3.032376289367676,
          -1.9264899492263794,
          -3.093773603439331,
          -5.540722846984863,
          -2.534576892852783,
          2.4734485149383545
         ],
         "yaxis": "y"
        },
        {
         "customdata": [
          [
           "INVESTORS REAL ESTATE TRUST",
           "Real Estate Investment Trusts"
          ],
          [
           "BRT APARTMENTS CORP.",
           "Real Estate Investment Trusts"
          ],
          [
           "MONMOUTH REAL ESTATE INVESTMENT CORP",
           "Real Estate Investment Trusts"
          ],
          [
           "FIRST REAL ESTATE INVESTMENT TRUST OF NEW JERSEY",
           "Real Estate Investment Trusts"
          ],
          [
           "FIRST REAL ESTATE INVESTMENT TRUST OF NEW JERSEY",
           "Real Estate Investment Trusts"
          ],
          [
           "URSTADT BIDDLE PROPERTIES INC",
           "Real Estate Investment Trusts"
          ],
          [
           "URSTADT BIDDLE PROPERTIES INC",
           "Real Estate Investment Trusts"
          ],
          [
           "PHILLIPS EDISON & COMPANY, INC.",
           "Real Estate Investment Trusts"
          ],
          [
           "SL GREEN REALTY CORP",
           "Real Estate Investment Trusts"
          ],
          [
           "CUBESMART",
           "Real Estate Investment Trusts"
          ],
          [
           "CIM COMMERCIAL TRUST CORP",
           "Real Estate Investment Trusts"
          ],
          [
           "CERES TACTICAL SYSTEMATIC L.P.",
           "Real Estate Investment Trusts"
          ],
          [
           "PS BUSINESS PARKS INC/CA",
           "Real Estate Investment Trusts"
          ],
          [
           "STEADFAST INCOME REIT, INC.",
           "Real Estate Investment Trusts"
          ],
          [
           "RETAIL OPPORTUNITY INVESTMENTS CORP",
           "Real Estate Investment Trusts"
          ],
          [
           "MORGAN STANLEY SMITH BARNEY SPECTRUM SELECT LP",
           "Real Estate Investment Trusts"
          ],
          [
           "NEW YORK MORTGAGE TRUST INC",
           "Real Estate Investment Trusts"
          ],
          [
           "CBL & ASSOCIATES PROPERTIES INC",
           "Real Estate Investment Trusts"
          ],
          [
           "LEXINGTON REALTY TRUST",
           "Real Estate Investment Trusts"
          ],
          [
           "BRANDYWINE REALTY TRUST",
           "Real Estate Investment Trusts"
          ],
          [
           "LAMAR ADVERTISING CO/NEW",
           "Real Estate Investment Trusts"
          ],
          [
           "JBG SMITH PROPERTIES",
           "Real Estate Investment Trusts"
          ],
          [
           "KBS REAL ESTATE INVESTMENT TRUST III, INC.",
           "Real Estate Investment Trusts"
          ],
          [
           "CAPSTEAD MORTGAGE CORP",
           "Real Estate Investment Trusts"
          ],
          [
           "GGP INC.",
           "Real Estate Investment Trusts"
          ],
          [
           "QTS REALTY TRUST, INC.",
           "Real Estate Investment Trusts"
          ],
          [
           "WELLS FARGO REAL ESTATE INVESTMENT CORP.",
           "Real Estate Investment Trusts"
          ],
          [
           "LIGHTSTONE VALUE PLUS REAL ESTATE INVESTMENT TRUST V, INC.",
           "Real Estate Investment Trusts"
          ],
          [
           "RESOURCE APARTMENT REIT III, INC.",
           "Real Estate Investment Trusts"
          ],
          [
           "CNL HEALTHCARE PROPERTIES, INC.",
           "Real Estate Investment Trusts"
          ],
          [
           "RETAIL PROPERTIES OF AMERICA, INC.",
           "Real Estate Investment Trusts"
          ],
          [
           "BOSTON PROPERTIES INC",
           "Real Estate Investment Trusts"
          ],
          [
           "REGENCY CENTERS CORP",
           "Real Estate Investment Trusts"
          ],
          [
           "NATIONAL HEALTH INVESTORS INC",
           "Real Estate Investment Trusts"
          ],
          [
           "DRIVE SHACK INC.",
           "Real Estate Investment Trusts"
          ],
          [
           "COLE CREDIT PROPERTY TRUST V, INC.",
           "Real Estate Investment Trusts"
          ],
          [
           "EQUITY RESIDENTIAL",
           "Real Estate Investment Trusts"
          ],
          [
           "KITE REALTY GROUP TRUST",
           "Real Estate Investment Trusts"
          ],
          [
           "OUTFRONT MEDIA INC.",
           "Real Estate Investment Trusts"
          ],
          [
           "PENNSYLVANIA REAL ESTATE INVESTMENT TRUST",
           "Real Estate Investment Trusts"
          ],
          [
           "COLE REAL ESTATE INCOME STRATEGY (DAILY NAV), INC.",
           "Real Estate Investment Trusts"
          ],
          [
           "REALTY INCOME CORP",
           "Real Estate Investment Trusts"
          ],
          [
           "GLOBAL MEDICAL REIT INC.",
           "Real Estate Investment Trusts"
          ],
          [
           "PILLARSTONE CAPITAL REIT",
           "Real Estate Investment Trusts"
          ],
          [
           "CLIPPER REALTY INC.",
           "Real Estate Investment Trusts"
          ],
          [
           "BLACK CREEK INDUSTRIAL REIT IV INC.",
           "Real Estate Investment Trusts"
          ],
          [
           "LIGHTSTONE VALUE PLUS REAL ESTATE INVESTMENT TRUST, INC.",
           "Real Estate Investment Trusts"
          ],
          [
           "KKR REAL ESTATE FINANCE TRUST INC.",
           "Real Estate Investment Trusts"
          ],
          [
           "GEO GROUP INC",
           "Real Estate Investment Trusts"
          ],
          [
           "AMERICAN ASSETS TRUST, INC.",
           "Real Estate Investment Trusts"
          ],
          [
           "IMPAC MORTGAGE HOLDINGS INC",
           "Real Estate Investment Trusts"
          ],
          [
           "CNL HEALTHCARE PROPERTIES II, INC.",
           "Real Estate Investment Trusts"
          ],
          [
           "ANWORTH MORTGAGE ASSET CORP",
           "Real Estate Investment Trusts"
          ],
          [
           "LIGHTSTONE VALUE PLUS REAL ESTATE INVESTMENT TRUST III, INC.",
           "Real Estate Investment Trusts"
          ],
          [
           "AMERICAN FINANCE TRUST, INC",
           "Real Estate Investment Trusts"
          ],
          [
           "EQUITY COMMONWEALTH",
           "Real Estate Investment Trusts"
          ],
          [
           "FOUR CORNERS PROPERTY TRUST, INC.",
           "Real Estate Investment Trusts"
          ],
          [
           "RAYONIER INC",
           "Real Estate Investment Trusts"
          ],
          [
           "HOST HOTELS & RESORTS, INC.",
           "Real Estate Investment Trusts"
          ],
          [
           "GAMING & LEISURE PROPERTIES, INC.",
           "Real Estate Investment Trusts"
          ],
          [
           "NATIONAL RETAIL PROPERTIES, INC.",
           "Real Estate Investment Trusts"
          ],
          [
           "SENIOR HOUSING PROPERTIES TRUST",
           "Real Estate Investment Trusts"
          ],
          [
           "SUTHERLAND ASSET MANAGEMENT CORP",
           "Real Estate Investment Trusts"
          ],
          [
           "TAUBMAN CENTERS INC",
           "Real Estate Investment Trusts"
          ],
          [
           "RESOURCE REAL ESTATE OPPORTUNITY REIT, INC.",
           "Real Estate Investment Trusts"
          ],
          [
           "TANGER FACTORY OUTLET CENTERS INC",
           "Real Estate Investment Trusts"
          ],
          [
           "MFA FINANCIAL, INC.",
           "Real Estate Investment Trusts"
          ],
          [
           "TERRA SECURED INCOME FUND 5, LLC",
           "Real Estate Investment Trusts"
          ],
          [
           "SBA COMMUNICATIONS CORP",
           "Real Estate Investment Trusts"
          ],
          [
           "LIGHTSTONE VALUE PLUS REAL ESTATE INVESTMENT TRUST II INC",
           "Real Estate Investment Trusts"
          ],
          [
           "JONES LANG LASALLE INCOME PROPERTY TRUST, INC.",
           "Real Estate Investment Trusts"
          ],
          [
           "AVALONBAY COMMUNITIES INC",
           "Real Estate Investment Trusts"
          ],
          [
           "ARES COMMERCIAL REAL ESTATE CORP",
           "Real Estate Investment Trusts"
          ],
          [
           "CARTER VALIDUS MISSION CRITICAL REIT II, INC.",
           "Real Estate Investment Trusts"
          ],
          [
           "PHYSICIANS REALTY TRUST",
           "Real Estate Investment Trusts"
          ],
          [
           "PROLOGIS, INC.",
           "Real Estate Investment Trusts"
          ],
          [
           "ARMOUR RESIDENTIAL REIT, INC.",
           "Real Estate Investment Trusts"
          ],
          [
           "CHERRY HILL MORTGAGE INVESTMENT CORP",
           "Real Estate Investment Trusts"
          ],
          [
           "EMPIRE STATE REALTY TRUST, INC.",
           "Real Estate Investment Trusts"
          ],
          [
           "PUBLIC STORAGE",
           "Real Estate Investment Trusts"
          ],
          [
           "APARTMENT INVESTMENT & MANAGEMENT CO",
           "Real Estate Investment Trusts"
          ],
          [
           "CEDAR REALTY TRUST, INC.",
           "Real Estate Investment Trusts"
          ],
          [
           "HIGHLANDS REIT, INC.",
           "Real Estate Investment Trusts"
          ],
          [
           "IRON MOUNTAIN INC",
           "Real Estate Investment Trusts"
          ],
          [
           "SOTHERLY HOTELS INC.",
           "Real Estate Investment Trusts"
          ],
          [
           "EMPIRE STATE REALTY OP, L.P.",
           "Real Estate Investment Trusts"
          ],
          [
           "ESSEX PROPERTY TRUST INC",
           "Real Estate Investment Trusts"
          ],
          [
           "WEINGARTEN REALTY INVESTORS /TX/",
           "Real Estate Investment Trusts"
          ],
          [
           "CONDOR HOSPITALITY TRUST, INC.",
           "Real Estate Investment Trusts"
          ],
          [
           "CITY OFFICE REIT, INC.",
           "Real Estate Investment Trusts"
          ],
          [
           "BENEFIT STREET PARTNERS REALTY TRUST, INC.",
           "Real Estate Investment Trusts"
          ],
          [
           "LIGHTSTONE REAL ESTATE INCOME TRUST INC.",
           "Real Estate Investment Trusts"
          ],
          [
           "AMERICAN CAMPUS COMMUNITIES INC",
           "Real Estate Investment Trusts"
          ],
          [
           "STARWOOD PROPERTY TRUST, INC.",
           "Real Estate Investment Trusts"
          ],
          [
           "CORESITE REALTY CORP",
           "Real Estate Investment Trusts"
          ],
          [
           "POTLATCH CORP",
           "Real Estate Investment Trusts"
          ],
          [
           "CORPORATE OFFICE PROPERTIES TRUST",
           "Real Estate Investment Trusts"
          ],
          [
           "RAMCO GERSHENSON PROPERTIES TRUST",
           "Real Estate Investment Trusts"
          ],
          [
           "NATIONAL STORAGE AFFILIATES TRUST",
           "Real Estate Investment Trusts"
          ],
          [
           "HERSHA HOSPITALITY TRUST",
           "Real Estate Investment Trusts"
          ],
          [
           "JERNIGAN CAPITAL, INC.",
           "Real Estate Investment Trusts"
          ],
          [
           "VORNADO REALTY TRUST",
           "Real Estate Investment Trusts"
          ],
          [
           "ISTAR INC.",
           "Real Estate Investment Trusts"
          ],
          [
           "ALEXANDER & BALDWIN, INC.",
           "Real Estate Investment Trusts"
          ],
          [
           "HOSPITALITY INVESTORS TRUST, INC.",
           "Real Estate Investment Trusts"
          ],
          [
           "SAUL CENTERS INC",
           "Real Estate Investment Trusts"
          ],
          [
           "KBS GROWTH & INCOME REIT, INC.",
           "Real Estate Investment Trusts"
          ],
          [
           "EXTRA SPACE STORAGE INC.",
           "Real Estate Investment Trusts"
          ],
          [
           "CHESAPEAKE LODGING TRUST",
           "Real Estate Investment Trusts"
          ],
          [
           "LTC PROPERTIES INC",
           "Real Estate Investment Trusts"
          ],
          [
           "EASTERLY GOVERNMENT PROPERTIES, INC.",
           "Real Estate Investment Trusts"
          ],
          [
           "PLYMOUTH INDUSTRIAL REIT INC.",
           "Real Estate Investment Trusts"
          ],
          [
           "FRANKLIN STREET PROPERTIES CORP /MA/",
           "Real Estate Investment Trusts"
          ],
          [
           "HEALTHCARE TRUST OF AMERICA, INC.",
           "Real Estate Investment Trusts"
          ],
          [
           "REALSOURCE RESIDENTIAL, INC",
           "Real Estate Investment Trusts"
          ],
          [
           "CARTER VALIDUS MISSION CRITICAL REIT, INC.",
           "Real Estate Investment Trusts"
          ],
          [
           "SUN COMMUNITIES INC",
           "Real Estate Investment Trusts"
          ],
          [
           "FIRST EQUITY PROPERTIES INC",
           "Real Estate Investment Trusts"
          ],
          [
           "MID AMERICA APARTMENT COMMUNITIES INC",
           "Real Estate Investment Trusts"
          ],
          [
           "BROOKFIELD DTLA FUND OFFICE TRUST INVESTOR INC.",
           "Real Estate Investment Trusts"
          ],
          [
           "ANNALY CAPITAL MANAGEMENT INC",
           "Real Estate Investment Trusts"
          ],
          [
           "WHEELER REAL ESTATE INVESTMENT TRUST, INC.",
           "Real Estate Investment Trusts"
          ],
          [
           "ALEXANDRIA REAL ESTATE EQUITIES INC",
           "Real Estate Investment Trusts"
          ],
          [
           "HIGHWOODS PROPERTIES INC",
           "Real Estate Investment Trusts"
          ],
          [
           "KIMCO REALTY CORP",
           "Real Estate Investment Trusts"
          ],
          [
           "INDEPENDENCE REALTY TRUST, INC.",
           "Real Estate Investment Trusts"
          ],
          [
           "PREFERRED APARTMENT COMMUNITIES INC",
           "Real Estate Investment Trusts"
          ],
          [
           "ELLINGTON RESIDENTIAL MORTGAGE REIT",
           "Real Estate Investment Trusts"
          ],
          [
           "CORECIVIC, INC.",
           "Real Estate Investment Trusts"
          ],
          [
           "ASHFORD HOSPITALITY PRIME, INC.",
           "Real Estate Investment Trusts"
          ],
          [
           "LIFE STORAGE, INC.",
           "Real Estate Investment Trusts"
          ],
          [
           "HEALTHCARE REALTY TRUST INC",
           "Real Estate Investment Trusts"
          ],
          [
           "WINTHROP REALTY LIQUIDATING TRUST",
           "Real Estate Investment Trusts"
          ],
          [
           "CORENERGY INFRASTRUCTURE TRUST, INC.",
           "Real Estate Investment Trusts"
          ],
          [
           "KBS STRATEGIC OPPORTUNITY REIT II, INC.",
           "Real Estate Investment Trusts"
          ],
          [
           "PEBBLEBROOK HOTEL TRUST",
           "Real Estate Investment Trusts"
          ],
          [
           "SABRA HEALTH CARE REIT, INC.",
           "Real Estate Investment Trusts"
          ],
          [
           "POWER REIT",
           "Real Estate Investment Trusts"
          ],
          [
           "DYNEX CAPITAL INC",
           "Real Estate Investment Trusts"
          ],
          [
           "DIGITAL REALTY TRUST, INC.",
           "Real Estate Investment Trusts"
          ],
          [
           "STRATEGIC REALTY TRUST, INC.",
           "Real Estate Investment Trusts"
          ],
          [
           "COLE OFFICE & INDUSTRIAL REIT (CCIT III), INC.",
           "Real Estate Investment Trusts"
          ],
          [
           "HEALTHCARE TRUST, INC.",
           "Real Estate Investment Trusts"
          ],
          [
           "LADDER CAPITAL CORP",
           "Real Estate Investment Trusts"
          ],
          [
           "CROWN CASTLE INTERNATIONAL CORP",
           "Real Estate Investment Trusts"
          ],
          [
           "HOWARD HUGHES CORP",
           "Real Estate Investment Trusts"
          ],
          [
           "ALEXANDERS INC",
           "Real Estate Investment Trusts"
          ],
          [
           "MANHATTAN BRIDGE CAPITAL, INC",
           "Real Estate Investment Trusts"
          ],
          [
           "INLAND REAL ESTATE INCOME TRUST, INC.",
           "Real Estate Investment Trusts"
          ],
          [
           "INLAND RESIDENTIAL PROPERTIES TRUST, INC.",
           "Real Estate Investment Trusts"
          ],
          [
           "INLAND RESIDENTIAL PROPERTIES TRUST, INC.",
           "Real Estate Investment Trusts"
          ],
          [
           "KBS REAL ESTATE INVESTMENT TRUST II, INC.",
           "Real Estate Investment Trusts"
          ],
          [
           "RESOURCE REAL ESTATE OPPORTUNITY REIT II, INC.",
           "Real Estate Investment Trusts"
          ],
          [
           "STEADFAST APARTMENT REIT III, INC.",
           "Real Estate Investment Trusts"
          ],
          [
           "ACADIA REALTY TRUST",
           "Real Estate Investment Trusts"
          ],
          [
           "HMG COURTLAND PROPERTIES INC",
           "Real Estate Investment Trusts"
          ],
          [
           "COLE CREDIT PROPERTY TRUST IV, INC.",
           "Real Estate Investment Trusts"
          ],
          [
           "FIVE OAKS INVESTMENT CORP.",
           "Real Estate Investment Trusts"
          ],
          [
           "NEXPOINT RESIDENTIAL TRUST, INC.",
           "Real Estate Investment Trusts"
          ],
          [
           "TWO HARBORS INVESTMENT CORP.",
           "Real Estate Investment Trusts"
          ],
          [
           "WASHINGTON PRIME GROUP INC.",
           "Real Estate Investment Trusts"
          ],
          [
           "TIER REIT INC",
           "Real Estate Investment Trusts"
          ],
          [
           "GRANITE POINT MORTGAGE TRUST INC.",
           "Real Estate Investment Trusts"
          ],
          [
           "GREAT AJAX CORP.",
           "Real Estate Investment Trusts"
          ],
          [
           "DUKE REALTY CORP",
           "Real Estate Investment Trusts"
          ],
          [
           "EASTGROUP PROPERTIES INC",
           "Real Estate Investment Trusts"
          ],
          [
           "STEADFAST APARTMENT REIT, INC.",
           "Real Estate Investment Trusts"
          ],
          [
           "RECKSON OPERATING PARTNERSHIP LP",
           "Real Estate Investment Trusts"
          ],
          [
           "GLOBAL NET LEASE, INC.",
           "Real Estate Investment Trusts"
          ],
          [
           "KBS STRATEGIC OPPORTUNITY REIT, INC.",
           "Real Estate Investment Trusts"
          ],
          [
           "WHITESTONE REIT",
           "Real Estate Investment Trusts"
          ],
          [
           "GRIFFIN CAPITAL ESSENTIAL ASSET REIT II, INC.",
           "Real Estate Investment Trusts"
          ],
          [
           "UDR, INC.",
           "Real Estate Investment Trusts"
          ],
          [
           "COMMUNITY HEALTHCARE TRUST INC",
           "Real Estate Investment Trusts"
          ],
          [
           "VENTAS INC",
           "Real Estate Investment Trusts"
          ],
          [
           "OWENS REALTY MORTGAGE, INC.",
           "Real Estate Investment Trusts"
          ],
          [
           "KILROY REALTY CORP",
           "Real Estate Investment Trusts"
          ],
          [
           "SUMMIT HOTEL PROPERTIES, INC.",
           "Real Estate Investment Trusts"
          ],
          [
           "CORPORATE PROPERTY ASSOCIATES 18 GLOBAL INC",
           "Real Estate Investment Trusts"
          ],
          [
           "CYRUSONE INC.",
           "Real Estate Investment Trusts"
          ],
          [
           "COLONY NORTHSTAR, INC.",
           "Real Estate Investment Trusts"
          ],
          [
           "FEDERAL REALTY INVESTMENT TRUST",
           "Real Estate Investment Trusts"
          ],
          [
           "NEW SENIOR INVESTMENT GROUP INC.",
           "Real Estate Investment Trusts"
          ],
          [
           "RYMAN HOSPITALITY PROPERTIES, INC.",
           "Real Estate Investment Trusts"
          ],
          [
           "BRIXMOR PROPERTY GROUP INC.",
           "Real Estate Investment Trusts"
          ],
          [
           "COLE OFFICE & INDUSTRIAL REIT (CCIT II), INC.",
           "Real Estate Investment Trusts"
          ],
          [
           "OMEGA HEALTHCARE INVESTORS INC",
           "Real Estate Investment Trusts"
          ],
          [
           "REVEN HOUSING REIT, INC.",
           "Real Estate Investment Trusts"
          ],
          [
           "AMERICAN REALTY CAPITAL NEW YORK CITY REIT, INC.",
           "Real Estate Investment Trusts"
          ],
          [
           "STAG INDUSTRIAL, INC.",
           "Real Estate Investment Trusts"
          ],
          [
           "EQUINIX INC",
           "Real Estate Investment Trusts"
          ]
         ],
         "hovertemplate": "color=Real Estate Investment Trusts<br>0=%{x}<br>1=%{y}<br>name=%{customdata[0]}<br>industry=%{customdata[1]}<extra></extra>",
         "legendgroup": "Real Estate Investment Trusts",
         "marker": {
          "color": "#ab63fa",
          "symbol": "circle"
         },
         "mode": "markers",
         "name": "Real Estate Investment Trusts",
         "orientation": "v",
         "showlegend": true,
         "type": "scatter",
         "x": [
          -4.418213844299316,
          -6.2507147789001465,
          -6.442216873168945,
          -3.6182444095611572,
          -3.5806710720062256,
          -4.636161804199219,
          -4.180598735809326,
          -2.4468648433685303,
          -5.615058898925781,
          -3.960747480392456,
          -6.52202033996582,
          -8.235898971557617,
          -5.173506259918213,
          -3.795701503753662,
          -4.234597206115723,
          -4.056482315063477,
          -5.365046501159668,
          -6.517790794372559,
          -3.5913002490997314,
          -4.846604347229004,
          -3.991870641708374,
          -3.2198264598846436,
          -1.8715392351150513,
          -2.3444900512695312,
          -1.95724618434906,
          -3.6655359268188477,
          -6.544082164764404,
          -8.998675346374512,
          -1.8417726755142212,
          -6.684086322784424,
          -3.9017386436462402,
          -5.118752479553223,
          -3.059934139251709,
          -3.7935807704925537,
          -1.5566620826721191,
          -6.208493232727051,
          -3.3779468536376953,
          -3.503615617752075,
          -0.7422289848327637,
          -4.707883358001709,
          -6.184938907623291,
          -6.944693565368652,
          -0.1251574605703354,
          -3.5769143104553223,
          -7.086497783660889,
          -2.5217981338500977,
          -0.7392352223396301,
          -4.605696201324463,
          -6.130697250366211,
          -3.243748188018799,
          -8.905488014221191,
          -3.43949031829834,
          -8.18398666381836,
          -0.6251664161682129,
          -3.282891035079956,
          -2.8140487670898438,
          -5.10439920425415,
          -7.184992790222168,
          -6.11944580078125,
          -6.356757640838623,
          -3.876986026763916,
          -2.7084834575653076,
          -7.623188018798828,
          -3.9946820735931396,
          -1.2595833539962769,
          -2.3520939350128174,
          -4.236505031585693,
          -4.343327522277832,
          -6.62170934677124,
          -0.6318846940994263,
          -2.874089002609253,
          -2.968914270401001,
          -3.130309581756592,
          -3.8711533546447754,
          -0.026699962094426155,
          -4.001837253570557,
          -4.094397068023682,
          -4.833277225494385,
          -4.732752799987793,
          -0.565677285194397,
          -5.091195106506348,
          -5.636305332183838,
          -4.244269371032715,
          -2.137192964553833,
          -6.108635902404785,
          -6.531883716583252,
          -4.271141052246094,
          -2.2161178588867188,
          -4.5273518562316895,
          -6.325754642486572,
          -4.349332332611084,
          -0.6441056728363037,
          -4.361779689788818,
          -7.203854560852051,
          -6.99284029006958,
          -4.358200550079346,
          -4.555442810058594,
          -2.1336686611175537,
          -6.839933395385742,
          -5.039207935333252,
          -5.785789966583252,
          -2.2984561920166016,
          -3.5227725505828857,
          -4.640918254852295,
          -3.7235097885131836,
          -5.638176918029785,
          -1.9785250425338745,
          -2.8845441341400146,
          -3.5964717864990234,
          -3.8901383876800537,
          -3.5340797901153564,
          -1.1472495794296265,
          -4.038751602172852,
          -0.9184296727180481,
          -1.1670992374420166,
          -3.3227462768554688,
          -4.005660057067871,
          -1.157848834991455,
          -2.738193988800049,
          -3.5240085124969482,
          -0.7751365900039673,
          -5.786606788635254,
          -3.9886696338653564,
          -1.2447073459625244,
          -4.654119968414307,
          -5.155158042907715,
          -7.962436676025391,
          -8.625781059265137,
          -8.756349563598633,
          -11.089776039123535,
          -5.400699138641357,
          -2.1899707317352295,
          -3.3677592277526855,
          -6.612330436706543,
          -3.336252212524414,
          -3.627603769302368,
          -4.585480213165283,
          -2.3660082817077637,
          -7.266115665435791,
          -5.470718860626221,
          -2.1257874965667725,
          -6.232250690460205,
          -2.0910894870758057,
          -7.996330738067627,
          -8.516854286193848,
          -4.484771728515625,
          -1.6719112396240234,
          -5.373473167419434,
          -2.427081346511841,
          -2.8440585136413574,
          -2.7665700912475586,
          -1.8364924192428589,
          -1.8288401365280151,
          -3.452773332595825,
          -3.8802809715270996,
          -1.048771858215332,
          -5.6746506690979,
          -3.959838628768921,
          -5.809529781341553,
          -6.5045671463012695,
          -6.513242721557617,
          -3.338651657104492,
          -5.589500904083252,
          -6.062911510467529,
          -0.9378446936607361,
          -6.084886074066162,
          -3.587599992752075,
          -0.925884485244751,
          -1.450478434562683,
          -2.0046920776367188,
          -1.8522394895553589,
          -4.0753583908081055,
          -3.311751365661621,
          -1.4155021905899048,
          -2.220163106918335,
          -5.681882858276367,
          -4.378879547119141,
          -5.279357433319092,
          -1.6681307554244995,
          -4.510183334350586,
          -2.681751012802124,
          -2.646820068359375,
          -3.1065666675567627,
          -6.155986309051514,
          -3.89176344871521,
          -6.085372447967529,
          -4.276360511779785,
          -7.911825180053711,
          -3.3482048511505127,
          -3.277874708175659,
          -5.094273090362549
         ],
         "xaxis": "x",
         "y": [
          0.06164701282978058,
          -0.10599028319120407,
          1.814867377281189,
          -1.1179767847061157,
          -0.9508972764015198,
          2.1640982627868652,
          2.240579843521118,
          0.4543752074241638,
          2.640942096710205,
          3.734924793243408,
          1.1132827997207642,
          1.6392790079116821,
          2.7756409645080566,
          3.028104543685913,
          0.7537747025489807,
          1.6563774347305298,
          -3.1586174964904785,
          4.371387004852295,
          2.78475022315979,
          6.146302223205566,
          5.382441520690918,
          5.516754627227783,
          2.1779885292053223,
          -1.2761666774749756,
          2.496493101119995,
          4.170578956604004,
          -2.7905731201171875,
          4.470027446746826,
          1.3652220964431763,
          2.3924522399902344,
          1.9687708616256714,
          0.9156874418258667,
          3.368133068084717,
          0.8793304562568665,
          3.9865732192993164,
          3.7379753589630127,
          1.8941630125045776,
          3.1128652095794678,
          2.80322265625,
          6.1872429847717285,
          0.5816662311553955,
          2.2717394828796387,
          0.3528806269168854,
          0.5103223919868469,
          5.609936714172363,
          0.1675703525543213,
          0.033591561019420624,
          -0.7503286600112915,
          4.909090518951416,
          4.120817184448242,
          -7.065771102905273,
          2.8730759620666504,
          -3.264824867248535,
          -0.09104225784540176,
          2.1283011436462402,
          3.002861499786377,
          5.851630687713623,
          8.045251846313477,
          9.880810737609863,
          6.38026237487793,
          1.9118518829345703,
          1.1020196676254272,
          -6.246862888336182,
          6.6049580574035645,
          0.7001254558563232,
          3.8618123531341553,
          -2.9092094898223877,
          -2.5571300983428955,
          7.984724044799805,
          -0.08566109836101532,
          0.679513692855835,
          2.4769272804260254,
          -2.4382834434509277,
          0.8158950805664062,
          0.4456043541431427,
          2.8693628311157227,
          -0.5180689096450806,
          -0.35291796922683716,
          7.421706199645996,
          -0.060640327632427216,
          2.6930675506591797,
          3.733734369277954,
          1.6064759492874146,
          3.809870958328247,
          7.16152811050415,
          7.240516185760498,
          1.6885582208633423,
          0.4941650927066803,
          2.9533181190490723,
          5.832708358764648,
          -2.7543084621429443,
          -0.07876583188772202,
          3.185580015182495,
          -2.9444360733032227,
          8.009483337402344,
          7.284325122833252,
          2.289410352706909,
          1.6721822023391724,
          3.928611993789673,
          4.95416784286499,
          1.1379703283309937,
          2.702036142349243,
          -0.9878876805305481,
          6.048977851867676,
          4.0998945236206055,
          0.648356556892395,
          -0.05690173804759979,
          2.067791700363159,
          4.946186065673828,
          -0.688687264919281,
          2.1185226440429688,
          2.2429087162017822,
          0.5832720398902893,
          2.6944806575775146,
          0.2827906310558319,
          1.5373656749725342,
          3.268258571624756,
          -0.5083198547363281,
          2.3528754711151123,
          2.127800703048706,
          0.06460240483283997,
          1.7007759809494019,
          2.7321624755859375,
          -0.22590400278568268,
          1.2203421592712402,
          2.3611831665039062,
          4.452352046966553,
          -2.4407689571380615,
          2.714146852493286,
          5.637230396270752,
          2.0419647693634033,
          0.6599647402763367,
          -0.09000511467456818,
          4.789183616638184,
          0.18144237995147705,
          4.115466594696045,
          0.6716916561126709,
          1.0924724340438843,
          -2.328371286392212,
          5.600884437561035,
          1.6233075857162476,
          1.6037951707839966,
          1.3172714710235596,
          -2.700465202331543,
          8.014779090881348,
          4.801371097564697,
          1.374951720237732,
          -3.270158290863037,
          0.8888993859291077,
          2.1131680011749268,
          1.0665642023086548,
          1.8717745542526245,
          0.615803062915802,
          1.7778862714767456,
          2.0747225284576416,
          0.13868935406208038,
          2.424757242202759,
          -2.1109561920166016,
          3.9162023067474365,
          -3.021209716796875,
          5.349883556365967,
          -0.024082032963633537,
          -1.7090423107147217,
          -0.33835649490356445,
          1.7014257907867432,
          0.5492904782295227,
          2.091693878173828,
          0.5376237630844116,
          1.5443840026855469,
          0.8167442083358765,
          2.7864739894866943,
          3.3801426887512207,
          2.8731491565704346,
          0.09007322788238525,
          -0.1209346204996109,
          -4.498281478881836,
          6.430974960327148,
          4.315982818603516,
          0.14111971855163574,
          6.188653945922852,
          -0.8221544623374939,
          1.3979477882385254,
          -0.39611294865608215,
          4.814331531524658,
          1.6903241872787476,
          1.3735252618789673,
          1.5727856159210205,
          0.9738763570785522,
          0.7739881277084351,
          2.72717547416687,
          3.2012767791748047
         ],
         "yaxis": "y"
        },
        {
         "customdata": [
          [
           "TOMPKINS FINANCIAL CORP",
           "State Commercial Banks (commercial banking)"
          ],
          [
           "TRIUMPH BANCORP, INC.",
           "State Commercial Banks (commercial banking)"
          ],
          [
           "GREAT SOUTHERN BANCORP, INC.",
           "State Commercial Banks (commercial banking)"
          ],
          [
           "SOUTH STATE CORP",
           "State Commercial Banks (commercial banking)"
          ],
          [
           "OLD LINE BANCSHARES INC",
           "State Commercial Banks (commercial banking)"
          ],
          [
           "SEACOAST BANKING CORP OF FLORIDA",
           "State Commercial Banks (commercial banking)"
          ],
          [
           "CITIZENS FINANCIAL GROUP INC/RI",
           "State Commercial Banks (commercial banking)"
          ],
          [
           "COMMUNITY WEST BANCSHARES /",
           "State Commercial Banks (commercial banking)"
          ],
          [
           "MACKINAC FINANCIAL CORP /MI/",
           "State Commercial Banks (commercial banking)"
          ],
          [
           "UNITY BANCORP INC /NJ/",
           "State Commercial Banks (commercial banking)"
          ],
          [
           "UNITY BANCORP INC /NJ/",
           "State Commercial Banks (commercial banking)"
          ],
          [
           "EAST WEST BANCORP INC",
           "State Commercial Banks (commercial banking)"
          ],
          [
           "HEARTLAND FINANCIAL USA INC",
           "State Commercial Banks (commercial banking)"
          ],
          [
           "COUNTY BANCORP, INC.",
           "State Commercial Banks (commercial banking)"
          ],
          [
           "CHEMUNG FINANCIAL CORP",
           "State Commercial Banks (commercial banking)"
          ],
          [
           "BRYN MAWR BANK CORP",
           "State Commercial Banks (commercial banking)"
          ],
          [
           "EAGLE BANCORP MONTANA, INC.",
           "State Commercial Banks (commercial banking)"
          ],
          [
           "1ST SOURCE CORP",
           "State Commercial Banks (commercial banking)"
          ],
          [
           "SERVISFIRST BANCSHARES, INC.",
           "State Commercial Banks (commercial banking)"
          ],
          [
           "SIERRA BANCORP",
           "State Commercial Banks (commercial banking)"
          ],
          [
           "HOPFED BANCORP INC",
           "State Commercial Banks (commercial banking)"
          ],
          [
           "HOPFED BANCORP INC",
           "State Commercial Banks (commercial banking)"
          ],
          [
           "FIRST FINANCIAL BANKSHARES INC",
           "State Commercial Banks (commercial banking)"
          ],
          [
           "CHEMICAL FINANCIAL CORP",
           "State Commercial Banks (commercial banking)"
          ],
          [
           "SECURITY FEDERAL CORP",
           "State Commercial Banks (commercial banking)"
          ],
          [
           "FIRST FINANCIAL CORP /IN/",
           "State Commercial Banks (commercial banking)"
          ],
          [
           "WESTERN ALLIANCE BANCORPORATION",
           "State Commercial Banks (commercial banking)"
          ],
          [
           "TRISTATE CAPITAL HOLDINGS, INC.",
           "State Commercial Banks (commercial banking)"
          ],
          [
           "UNION BANKSHARES CORP",
           "State Commercial Banks (commercial banking)"
          ],
          [
           "CAROLINA TRUST BANCSHARES, INC.",
           "State Commercial Banks (commercial banking)"
          ],
          [
           "COMMUNITY TRUST BANCORP INC /KY/",
           "State Commercial Banks (commercial banking)"
          ],
          [
           "HILLS BANCORPORATION",
           "State Commercial Banks (commercial banking)"
          ],
          [
           "MACATAWA BANK CORP",
           "State Commercial Banks (commercial banking)"
          ],
          [
           "PREMIER FINANCIAL BANCORP INC",
           "State Commercial Banks (commercial banking)"
          ],
          [
           "KENTUCKY BANCSHARES INC /KY/",
           "State Commercial Banks (commercial banking)"
          ],
          [
           "RIVER FINANCIAL CORP",
           "State Commercial Banks (commercial banking)"
          ],
          [
           "BAR HARBOR BANKSHARES",
           "State Commercial Banks (commercial banking)"
          ],
          [
           "PARKE BANCORP, INC.",
           "State Commercial Banks (commercial banking)"
          ],
          [
           "RANDOLPH BANCORP, INC.",
           "State Commercial Banks (commercial banking)"
          ],
          [
           "BANK OF HAWAII CORP",
           "State Commercial Banks (commercial banking)"
          ],
          [
           "BSB BANCORP, INC.",
           "State Commercial Banks (commercial banking)"
          ],
          [
           "INDEPENDENT BANK CORP /MI/",
           "State Commercial Banks (commercial banking)"
          ],
          [
           "PACIFIC PREMIER BANCORP INC",
           "State Commercial Banks (commercial banking)"
          ],
          [
           "OHIO VALLEY BANC CORP",
           "State Commercial Banks (commercial banking)"
          ],
          [
           "CVB FINANCIAL CORP",
           "State Commercial Banks (commercial banking)"
          ],
          [
           "BANK OF NEW YORK MELLON CORP",
           "State Commercial Banks (commercial banking)"
          ],
          [
           "TWO RIVER BANCORP",
           "State Commercial Banks (commercial banking)"
          ],
          [
           "STEWARDSHIP FINANCIAL CORP",
           "State Commercial Banks (commercial banking)"
          ],
          [
           "LAKELAND FINANCIAL CORP",
           "State Commercial Banks (commercial banking)"
          ],
          [
           "FAUQUIER BANKSHARES, INC.",
           "State Commercial Banks (commercial banking)"
          ],
          [
           "LIVE OAK BANCSHARES, INC.",
           "State Commercial Banks (commercial banking)"
          ],
          [
           "M&T BANK CORP",
           "State Commercial Banks (commercial banking)"
          ],
          [
           "INTERNATIONAL BANCSHARES CORP",
           "State Commercial Banks (commercial banking)"
          ],
          [
           "SUMMIT FINANCIAL GROUP INC",
           "State Commercial Banks (commercial banking)"
          ],
          [
           "SUSSEX BANCORP",
           "State Commercial Banks (commercial banking)"
          ],
          [
           "PRIME MERIDIAN HOLDING CO",
           "State Commercial Banks (commercial banking)"
          ],
          [
           "BANKWELL FINANCIAL GROUP, INC.",
           "State Commercial Banks (commercial banking)"
          ],
          [
           "SOUTHWEST GEORGIA FINANCIAL CORP",
           "State Commercial Banks (commercial banking)"
          ],
          [
           "BANK OF COMMERCE HOLDINGS",
           "State Commercial Banks (commercial banking)"
          ],
          [
           "BANK OF COMMERCE HOLDINGS",
           "State Commercial Banks (commercial banking)"
          ],
          [
           "UNITED BANCORP INC /OH/",
           "State Commercial Banks (commercial banking)"
          ],
          [
           "PARKWAY ACQUISITION CORP.",
           "State Commercial Banks (commercial banking)"
          ],
          [
           "INVESTAR HOLDING CORP",
           "State Commercial Banks (commercial banking)"
          ],
          [
           "RENASANT CORP",
           "State Commercial Banks (commercial banking)"
          ],
          [
           "RELIANT BANCORP, INC.",
           "State Commercial Banks (commercial banking)"
          ],
          [
           "FIRST COMMUNITY CORP /SC/",
           "State Commercial Banks (commercial banking)"
          ],
          [
           "FIRST FINANCIAL NORTHWEST, INC.",
           "State Commercial Banks (commercial banking)"
          ],
          [
           "COMMERCE BANCSHARES INC /MO/",
           "State Commercial Banks (commercial banking)"
          ],
          [
           "JUNIATA VALLEY FINANCIAL CORP",
           "State Commercial Banks (commercial banking)"
          ],
          [
           "HOWARD BANCORP INC",
           "State Commercial Banks (commercial banking)"
          ],
          [
           "EAGLE FINANCIAL SERVICES INC",
           "State Commercial Banks (commercial banking)"
          ],
          [
           "MVB FINANCIAL CORP",
           "State Commercial Banks (commercial banking)"
          ],
          [
           "INDEPENDENT BANK GROUP, INC.",
           "State Commercial Banks (commercial banking)"
          ],
          [
           "CONNECTONE BANCORP, INC.",
           "State Commercial Banks (commercial banking)"
          ],
          [
           "REPUBLIC BANCORP INC /KY/",
           "State Commercial Banks (commercial banking)"
          ],
          [
           "SOUTHSIDE BANCSHARES INC",
           "State Commercial Banks (commercial banking)"
          ],
          [
           "FIRST HAWAIIAN, INC.",
           "State Commercial Banks (commercial banking)"
          ],
          [
           "FIRST US BANCSHARES INC",
           "State Commercial Banks (commercial banking)"
          ],
          [
           "COMMUNITY FINANCIAL CORP /MD/",
           "State Commercial Banks (commercial banking)"
          ],
          [
           "BANNER CORP",
           "State Commercial Banks (commercial banking)"
          ],
          [
           "SVB FINANCIAL GROUP",
           "State Commercial Banks (commercial banking)"
          ],
          [
           "CATHAY GENERAL BANCORP",
           "State Commercial Banks (commercial banking)"
          ],
          [
           "BANK OF THE JAMES FINANCIAL GROUP INC",
           "State Commercial Banks (commercial banking)"
          ],
          [
           "FLUSHING FINANCIAL CORP",
           "State Commercial Banks (commercial banking)"
          ],
          [
           "FRANKLIN FINANCIAL SERVICES CORP /PA/",
           "State Commercial Banks (commercial banking)"
          ],
          [
           "CENTRAL PACIFIC FINANCIAL CORP",
           "State Commercial Banks (commercial banking)"
          ],
          [
           "CENTRAL PACIFIC FINANCIAL CORP",
           "State Commercial Banks (commercial banking)"
          ],
          [
           "CENTRAL VALLEY COMMUNITY BANCORP",
           "State Commercial Banks (commercial banking)"
          ],
          [
           "F&M BANK CORP",
           "State Commercial Banks (commercial banking)"
          ],
          [
           "FARMERS NATIONAL BANC CORP /OH/",
           "State Commercial Banks (commercial banking)"
          ],
          [
           "CITIZENS & NORTHERN CORP",
           "State Commercial Banks (commercial banking)"
          ],
          [
           "GUARANTY FEDERAL BANCSHARES INC",
           "State Commercial Banks (commercial banking)"
          ],
          [
           "CAROLINA FINANCIAL CORP",
           "State Commercial Banks (commercial banking)"
          ],
          [
           "FIRST INTERNET BANCORP",
           "State Commercial Banks (commercial banking)"
          ],
          [
           "HARBORONE BANCORP, INC.",
           "State Commercial Banks (commercial banking)"
          ],
          [
           "UNITED BANKSHARES INC/WV",
           "State Commercial Banks (commercial banking)"
          ],
          [
           "INDEPENDENT BANK CORP",
           "State Commercial Banks (commercial banking)"
          ],
          [
           "CITIZENS FINANCIAL SERVICES INC",
           "State Commercial Banks (commercial banking)"
          ],
          [
           "NORWOOD FINANCIAL CORP",
           "State Commercial Banks (commercial banking)"
          ],
          [
           "WEST BANCORPORATION INC",
           "State Commercial Banks (commercial banking)"
          ],
          [
           "CUSTOMERS BANCORP, INC.",
           "State Commercial Banks (commercial banking)"
          ],
          [
           "WEST END INDIANA BANCSHARES, INC.",
           "State Commercial Banks (commercial banking)"
          ],
          [
           "ATLANTIC CAPITAL BANCSHARES, INC.",
           "State Commercial Banks (commercial banking)"
          ],
          [
           "IBERIABANK CORP",
           "State Commercial Banks (commercial banking)"
          ],
          [
           "MERCANTILE BANK CORP",
           "State Commercial Banks (commercial banking)"
          ],
          [
           "GERMAN AMERICAN BANCORP, INC.",
           "State Commercial Banks (commercial banking)"
          ],
          [
           "S&T BANCORP INC",
           "State Commercial Banks (commercial banking)"
          ],
          [
           "HILLTOP HOLDINGS INC.",
           "State Commercial Banks (commercial banking)"
          ],
          [
           "CB FINANCIAL SERVICES, INC.",
           "State Commercial Banks (commercial banking)"
          ],
          [
           "ENTERPRISE FINANCIAL SERVICES CORP",
           "State Commercial Banks (commercial banking)"
          ],
          [
           "AUBURN NATIONAL BANCORPORATION, INC",
           "State Commercial Banks (commercial banking)"
          ],
          [
           "FIRST KEYSTONE CORP",
           "State Commercial Banks (commercial banking)"
          ],
          [
           "TEXAS CAPITAL BANCSHARES INC/TX",
           "State Commercial Banks (commercial banking)"
          ],
          [
           "VILLAGE BANK & TRUST FINANCIAL CORP.",
           "State Commercial Banks (commercial banking)"
          ],
          [
           "STOCK YARDS BANCORP, INC.",
           "State Commercial Banks (commercial banking)"
          ],
          [
           "BUSINESS FIRST BANCSHARES, INC.",
           "State Commercial Banks (commercial banking)"
          ]
         ],
         "hovertemplate": "color=State Commercial Banks (commercial banking)<br>0=%{x}<br>1=%{y}<br>name=%{customdata[0]}<br>industry=%{customdata[1]}<extra></extra>",
         "legendgroup": "State Commercial Banks (commercial banking)",
         "marker": {
          "color": "#FFA15A",
          "symbol": "circle"
         },
         "mode": "markers",
         "name": "State Commercial Banks (commercial banking)",
         "orientation": "v",
         "showlegend": true,
         "type": "scatter",
         "x": [
          -9.922101020812988,
          -9.573174476623535,
          -9.769951820373535,
          -6.924809455871582,
          -10.10591983795166,
          -8.261337280273438,
          -7.698666095733643,
          -2.2440803050994873,
          -8.789135932922363,
          -5.375948429107666,
          -5.102728843688965,
          -2.59745717048645,
          -8.467405319213867,
          -7.288674831390381,
          -9.43602466583252,
          -8.074627876281738,
          -9.042350769042969,
          -8.018282890319824,
          -9.134079933166504,
          -7.385638236999512,
          -6.234443664550781,
          -6.392495632171631,
          -6.86307430267334,
          -8.288202285766602,
          -10.615164756774902,
          -9.143614768981934,
          -6.524454116821289,
          -7.4999003410339355,
          -8.32937240600586,
          -7.678438663482666,
          -2.9299230575561523,
          -6.7480549812316895,
          -8.120282173156738,
          -8.04750919342041,
          -4.9113450050354,
          -8.6389741897583,
          -10.55810260772705,
          -7.587321758270264,
          -8.013669967651367,
          -3.82120418548584,
          -11.38637638092041,
          -1.9702045917510986,
          -9.409101486206055,
          -8.646315574645996,
          -7.775784015655518,
          -2.8939247131347656,
          -6.984001636505127,
          -5.48811674118042,
          -6.163832187652588,
          -5.043990135192871,
          -6.32961368560791,
          -6.0403828620910645,
          -6.368162155151367,
          -5.29899787902832,
          -5.9516119956970215,
          -6.723289966583252,
          -7.661549091339111,
          -9.603863716125488,
          -5.95241641998291,
          -6.628983974456787,
          -7.062256336212158,
          -5.722296237945557,
          -7.48266077041626,
          -9.14582347869873,
          -6.822052001953125,
          -7.782516956329346,
          -10.613158226013184,
          -5.090188503265381,
          -7.207305431365967,
          -8.482499122619629,
          -6.093738555908203,
          -6.851269245147705,
          -6.495952129364014,
          -5.134854316711426,
          -7.421225547790527,
          -7.3874406814575195,
          -5.281259059906006,
          -6.175205230712891,
          -9.751343727111816,
          -0.7245026230812073,
          -6.152144908905029,
          -8.232903480529785,
          -8.905898094177246,
          -10.962031364440918,
          -6.550893783569336,
          -6.7033514976501465,
          -7.208977699279785,
          -8.279884338378906,
          -1.2011051177978516,
          -7.982255935668945,
          -2.446488857269287,
          -10.54407787322998,
          -8.596308708190918,
          -6.101430416107178,
          -8.485917091369629,
          -7.86845064163208,
          -8.169572830200195,
          -5.976620197296143,
          -8.870869636535645,
          -7.432313919067383,
          -6.706603050231934,
          -9.753190040588379,
          -5.987026691436768,
          -6.226128101348877,
          -5.446717739105225,
          -6.099706172943115,
          -0.9810853600502014,
          -8.183355331420898,
          -9.443110466003418,
          -0.7759020924568176,
          -6.046034812927246,
          -7.163840293884277,
          -6.487025260925293,
          -6.545445919036865,
          -3.6449153423309326,
          -9.587279319763184
         ],
         "xaxis": "x",
         "y": [
          -10.571243286132812,
          -7.36544132232666,
          -10.001727104187012,
          -10.808704376220703,
          -8.976099967956543,
          -9.656534194946289,
          -11.280021667480469,
          -2.429680109024048,
          -6.851551532745361,
          -5.781810283660889,
          -5.787578582763672,
          0.4404028356075287,
          -9.04615306854248,
          -9.789693832397461,
          -9.161771774291992,
          -7.0148820877075195,
          -5.628267765045166,
          -3.1541402339935303,
          -10.655447959899902,
          -7.55517053604126,
          -6.279070854187012,
          -6.161240100860596,
          -7.419815540313721,
          -7.261167526245117,
          -9.127479553222656,
          -7.90377140045166,
          -6.06546688079834,
          -8.965400695800781,
          -8.227659225463867,
          -9.096161842346191,
          -2.9859602451324463,
          -7.858193397521973,
          -7.235063076019287,
          -5.553759574890137,
          -3.9287502765655518,
          -6.936275482177734,
          -9.140700340270996,
          -7.429131031036377,
          -10.69475269317627,
          -6.441006183624268,
          -12.08367919921875,
          -0.9288599491119385,
          -7.874506950378418,
          -8.268266677856445,
          -6.902169704437256,
          -1.595133662223816,
          -6.48789119720459,
          -4.516453742980957,
          -6.207254409790039,
          -5.24119234085083,
          -8.936001777648926,
          -12.401762962341309,
          -10.457679748535156,
          -8.749070167541504,
          -8.231294631958008,
          -7.892453193664551,
          -9.31178092956543,
          -9.38525390625,
          -6.172669410705566,
          -6.777664661407471,
          -6.54524040222168,
          -6.444930553436279,
          -8.915665626525879,
          -9.029732704162598,
          -7.718489646911621,
          -9.793611526489258,
          -6.514051914215088,
          -5.811707973480225,
          -9.598945617675781,
          -5.286278247833252,
          -9.58203411102295,
          -10.258051872253418,
          -8.679965019226074,
          -9.812970161437988,
          -12.31432056427002,
          -10.781925201416016,
          -9.764669418334961,
          -6.912957668304443,
          -10.498262405395508,
          -0.09982576966285706,
          -8.656960487365723,
          -9.834933280944824,
          -8.230241775512695,
          -10.741482734680176,
          -7.791924476623535,
          -8.48412799835205,
          -8.82501220703125,
          -8.285174369812012,
          -0.6809922456741333,
          -7.525976181030273,
          -2.4048895835876465,
          -10.254911422729492,
          -8.643427848815918,
          -6.527822494506836,
          -10.525653839111328,
          -8.94309139251709,
          -7.489603042602539,
          -6.0703959465026855,
          -7.467512130737305,
          -8.086833953857422,
          -8.948519706726074,
          -8.880634307861328,
          -7.60541296005249,
          -6.340437889099121,
          -5.282789707183838,
          -7.037472724914551,
          -0.8246417045593262,
          -6.9778361320495605,
          -9.576835632324219,
          -0.6207932829856873,
          -10.321125030517578,
          -8.417257308959961,
          -8.536805152893066,
          -9.52799129486084,
          -4.362508773803711,
          -10.386360168457031
         ],
         "yaxis": "y"
        }
       ],
       "layout": {
        "height": 600,
        "legend": {
         "title": {
          "text": "color"
         },
         "tracegroupgap": 0
        },
        "margin": {
         "t": 60
        },
        "template": {
         "data": {
          "bar": [
           {
            "error_x": {
             "color": "#2a3f5f"
            },
            "error_y": {
             "color": "#2a3f5f"
            },
            "marker": {
             "line": {
              "color": "#E5ECF6",
              "width": 0.5
             },
             "pattern": {
              "fillmode": "overlay",
              "size": 10,
              "solidity": 0.2
             }
            },
            "type": "bar"
           }
          ],
          "barpolar": [
           {
            "marker": {
             "line": {
              "color": "#E5ECF6",
              "width": 0.5
             },
             "pattern": {
              "fillmode": "overlay",
              "size": 10,
              "solidity": 0.2
             }
            },
            "type": "barpolar"
           }
          ],
          "carpet": [
           {
            "aaxis": {
             "endlinecolor": "#2a3f5f",
             "gridcolor": "white",
             "linecolor": "white",
             "minorgridcolor": "white",
             "startlinecolor": "#2a3f5f"
            },
            "baxis": {
             "endlinecolor": "#2a3f5f",
             "gridcolor": "white",
             "linecolor": "white",
             "minorgridcolor": "white",
             "startlinecolor": "#2a3f5f"
            },
            "type": "carpet"
           }
          ],
          "choropleth": [
           {
            "colorbar": {
             "outlinewidth": 0,
             "ticks": ""
            },
            "type": "choropleth"
           }
          ],
          "contour": [
           {
            "colorbar": {
             "outlinewidth": 0,
             "ticks": ""
            },
            "colorscale": [
             [
              0,
              "#0d0887"
             ],
             [
              0.1111111111111111,
              "#46039f"
             ],
             [
              0.2222222222222222,
              "#7201a8"
             ],
             [
              0.3333333333333333,
              "#9c179e"
             ],
             [
              0.4444444444444444,
              "#bd3786"
             ],
             [
              0.5555555555555556,
              "#d8576b"
             ],
             [
              0.6666666666666666,
              "#ed7953"
             ],
             [
              0.7777777777777778,
              "#fb9f3a"
             ],
             [
              0.8888888888888888,
              "#fdca26"
             ],
             [
              1,
              "#f0f921"
             ]
            ],
            "type": "contour"
           }
          ],
          "contourcarpet": [
           {
            "colorbar": {
             "outlinewidth": 0,
             "ticks": ""
            },
            "type": "contourcarpet"
           }
          ],
          "heatmap": [
           {
            "colorbar": {
             "outlinewidth": 0,
             "ticks": ""
            },
            "colorscale": [
             [
              0,
              "#0d0887"
             ],
             [
              0.1111111111111111,
              "#46039f"
             ],
             [
              0.2222222222222222,
              "#7201a8"
             ],
             [
              0.3333333333333333,
              "#9c179e"
             ],
             [
              0.4444444444444444,
              "#bd3786"
             ],
             [
              0.5555555555555556,
              "#d8576b"
             ],
             [
              0.6666666666666666,
              "#ed7953"
             ],
             [
              0.7777777777777778,
              "#fb9f3a"
             ],
             [
              0.8888888888888888,
              "#fdca26"
             ],
             [
              1,
              "#f0f921"
             ]
            ],
            "type": "heatmap"
           }
          ],
          "heatmapgl": [
           {
            "colorbar": {
             "outlinewidth": 0,
             "ticks": ""
            },
            "colorscale": [
             [
              0,
              "#0d0887"
             ],
             [
              0.1111111111111111,
              "#46039f"
             ],
             [
              0.2222222222222222,
              "#7201a8"
             ],
             [
              0.3333333333333333,
              "#9c179e"
             ],
             [
              0.4444444444444444,
              "#bd3786"
             ],
             [
              0.5555555555555556,
              "#d8576b"
             ],
             [
              0.6666666666666666,
              "#ed7953"
             ],
             [
              0.7777777777777778,
              "#fb9f3a"
             ],
             [
              0.8888888888888888,
              "#fdca26"
             ],
             [
              1,
              "#f0f921"
             ]
            ],
            "type": "heatmapgl"
           }
          ],
          "histogram": [
           {
            "marker": {
             "pattern": {
              "fillmode": "overlay",
              "size": 10,
              "solidity": 0.2
             }
            },
            "type": "histogram"
           }
          ],
          "histogram2d": [
           {
            "colorbar": {
             "outlinewidth": 0,
             "ticks": ""
            },
            "colorscale": [
             [
              0,
              "#0d0887"
             ],
             [
              0.1111111111111111,
              "#46039f"
             ],
             [
              0.2222222222222222,
              "#7201a8"
             ],
             [
              0.3333333333333333,
              "#9c179e"
             ],
             [
              0.4444444444444444,
              "#bd3786"
             ],
             [
              0.5555555555555556,
              "#d8576b"
             ],
             [
              0.6666666666666666,
              "#ed7953"
             ],
             [
              0.7777777777777778,
              "#fb9f3a"
             ],
             [
              0.8888888888888888,
              "#fdca26"
             ],
             [
              1,
              "#f0f921"
             ]
            ],
            "type": "histogram2d"
           }
          ],
          "histogram2dcontour": [
           {
            "colorbar": {
             "outlinewidth": 0,
             "ticks": ""
            },
            "colorscale": [
             [
              0,
              "#0d0887"
             ],
             [
              0.1111111111111111,
              "#46039f"
             ],
             [
              0.2222222222222222,
              "#7201a8"
             ],
             [
              0.3333333333333333,
              "#9c179e"
             ],
             [
              0.4444444444444444,
              "#bd3786"
             ],
             [
              0.5555555555555556,
              "#d8576b"
             ],
             [
              0.6666666666666666,
              "#ed7953"
             ],
             [
              0.7777777777777778,
              "#fb9f3a"
             ],
             [
              0.8888888888888888,
              "#fdca26"
             ],
             [
              1,
              "#f0f921"
             ]
            ],
            "type": "histogram2dcontour"
           }
          ],
          "mesh3d": [
           {
            "colorbar": {
             "outlinewidth": 0,
             "ticks": ""
            },
            "type": "mesh3d"
           }
          ],
          "parcoords": [
           {
            "line": {
             "colorbar": {
              "outlinewidth": 0,
              "ticks": ""
             }
            },
            "type": "parcoords"
           }
          ],
          "pie": [
           {
            "automargin": true,
            "type": "pie"
           }
          ],
          "scatter": [
           {
            "marker": {
             "colorbar": {
              "outlinewidth": 0,
              "ticks": ""
             }
            },
            "type": "scatter"
           }
          ],
          "scatter3d": [
           {
            "line": {
             "colorbar": {
              "outlinewidth": 0,
              "ticks": ""
             }
            },
            "marker": {
             "colorbar": {
              "outlinewidth": 0,
              "ticks": ""
             }
            },
            "type": "scatter3d"
           }
          ],
          "scattercarpet": [
           {
            "marker": {
             "colorbar": {
              "outlinewidth": 0,
              "ticks": ""
             }
            },
            "type": "scattercarpet"
           }
          ],
          "scattergeo": [
           {
            "marker": {
             "colorbar": {
              "outlinewidth": 0,
              "ticks": ""
             }
            },
            "type": "scattergeo"
           }
          ],
          "scattergl": [
           {
            "marker": {
             "colorbar": {
              "outlinewidth": 0,
              "ticks": ""
             }
            },
            "type": "scattergl"
           }
          ],
          "scattermapbox": [
           {
            "marker": {
             "colorbar": {
              "outlinewidth": 0,
              "ticks": ""
             }
            },
            "type": "scattermapbox"
           }
          ],
          "scatterpolar": [
           {
            "marker": {
             "colorbar": {
              "outlinewidth": 0,
              "ticks": ""
             }
            },
            "type": "scatterpolar"
           }
          ],
          "scatterpolargl": [
           {
            "marker": {
             "colorbar": {
              "outlinewidth": 0,
              "ticks": ""
             }
            },
            "type": "scatterpolargl"
           }
          ],
          "scatterternary": [
           {
            "marker": {
             "colorbar": {
              "outlinewidth": 0,
              "ticks": ""
             }
            },
            "type": "scatterternary"
           }
          ],
          "surface": [
           {
            "colorbar": {
             "outlinewidth": 0,
             "ticks": ""
            },
            "colorscale": [
             [
              0,
              "#0d0887"
             ],
             [
              0.1111111111111111,
              "#46039f"
             ],
             [
              0.2222222222222222,
              "#7201a8"
             ],
             [
              0.3333333333333333,
              "#9c179e"
             ],
             [
              0.4444444444444444,
              "#bd3786"
             ],
             [
              0.5555555555555556,
              "#d8576b"
             ],
             [
              0.6666666666666666,
              "#ed7953"
             ],
             [
              0.7777777777777778,
              "#fb9f3a"
             ],
             [
              0.8888888888888888,
              "#fdca26"
             ],
             [
              1,
              "#f0f921"
             ]
            ],
            "type": "surface"
           }
          ],
          "table": [
           {
            "cells": {
             "fill": {
              "color": "#EBF0F8"
             },
             "line": {
              "color": "white"
             }
            },
            "header": {
             "fill": {
              "color": "#C8D4E3"
             },
             "line": {
              "color": "white"
             }
            },
            "type": "table"
           }
          ]
         },
         "layout": {
          "annotationdefaults": {
           "arrowcolor": "#2a3f5f",
           "arrowhead": 0,
           "arrowwidth": 1
          },
          "autotypenumbers": "strict",
          "coloraxis": {
           "colorbar": {
            "outlinewidth": 0,
            "ticks": ""
           }
          },
          "colorscale": {
           "diverging": [
            [
             0,
             "#8e0152"
            ],
            [
             0.1,
             "#c51b7d"
            ],
            [
             0.2,
             "#de77ae"
            ],
            [
             0.3,
             "#f1b6da"
            ],
            [
             0.4,
             "#fde0ef"
            ],
            [
             0.5,
             "#f7f7f7"
            ],
            [
             0.6,
             "#e6f5d0"
            ],
            [
             0.7,
             "#b8e186"
            ],
            [
             0.8,
             "#7fbc41"
            ],
            [
             0.9,
             "#4d9221"
            ],
            [
             1,
             "#276419"
            ]
           ],
           "sequential": [
            [
             0,
             "#0d0887"
            ],
            [
             0.1111111111111111,
             "#46039f"
            ],
            [
             0.2222222222222222,
             "#7201a8"
            ],
            [
             0.3333333333333333,
             "#9c179e"
            ],
            [
             0.4444444444444444,
             "#bd3786"
            ],
            [
             0.5555555555555556,
             "#d8576b"
            ],
            [
             0.6666666666666666,
             "#ed7953"
            ],
            [
             0.7777777777777778,
             "#fb9f3a"
            ],
            [
             0.8888888888888888,
             "#fdca26"
            ],
            [
             1,
             "#f0f921"
            ]
           ],
           "sequentialminus": [
            [
             0,
             "#0d0887"
            ],
            [
             0.1111111111111111,
             "#46039f"
            ],
            [
             0.2222222222222222,
             "#7201a8"
            ],
            [
             0.3333333333333333,
             "#9c179e"
            ],
            [
             0.4444444444444444,
             "#bd3786"
            ],
            [
             0.5555555555555556,
             "#d8576b"
            ],
            [
             0.6666666666666666,
             "#ed7953"
            ],
            [
             0.7777777777777778,
             "#fb9f3a"
            ],
            [
             0.8888888888888888,
             "#fdca26"
            ],
            [
             1,
             "#f0f921"
            ]
           ]
          },
          "colorway": [
           "#636efa",
           "#EF553B",
           "#00cc96",
           "#ab63fa",
           "#FFA15A",
           "#19d3f3",
           "#FF6692",
           "#B6E880",
           "#FF97FF",
           "#FECB52"
          ],
          "font": {
           "color": "#2a3f5f"
          },
          "geo": {
           "bgcolor": "white",
           "lakecolor": "white",
           "landcolor": "#E5ECF6",
           "showlakes": true,
           "showland": true,
           "subunitcolor": "white"
          },
          "hoverlabel": {
           "align": "left"
          },
          "hovermode": "closest",
          "mapbox": {
           "style": "light"
          },
          "paper_bgcolor": "white",
          "plot_bgcolor": "#E5ECF6",
          "polar": {
           "angularaxis": {
            "gridcolor": "white",
            "linecolor": "white",
            "ticks": ""
           },
           "bgcolor": "#E5ECF6",
           "radialaxis": {
            "gridcolor": "white",
            "linecolor": "white",
            "ticks": ""
           }
          },
          "scene": {
           "xaxis": {
            "backgroundcolor": "#E5ECF6",
            "gridcolor": "white",
            "gridwidth": 2,
            "linecolor": "white",
            "showbackground": true,
            "ticks": "",
            "zerolinecolor": "white"
           },
           "yaxis": {
            "backgroundcolor": "#E5ECF6",
            "gridcolor": "white",
            "gridwidth": 2,
            "linecolor": "white",
            "showbackground": true,
            "ticks": "",
            "zerolinecolor": "white"
           },
           "zaxis": {
            "backgroundcolor": "#E5ECF6",
            "gridcolor": "white",
            "gridwidth": 2,
            "linecolor": "white",
            "showbackground": true,
            "ticks": "",
            "zerolinecolor": "white"
           }
          },
          "shapedefaults": {
           "line": {
            "color": "#2a3f5f"
           }
          },
          "ternary": {
           "aaxis": {
            "gridcolor": "white",
            "linecolor": "white",
            "ticks": ""
           },
           "baxis": {
            "gridcolor": "white",
            "linecolor": "white",
            "ticks": ""
           },
           "bgcolor": "#E5ECF6",
           "caxis": {
            "gridcolor": "white",
            "linecolor": "white",
            "ticks": ""
           }
          },
          "title": {
           "x": 0.05
          },
          "xaxis": {
           "automargin": true,
           "gridcolor": "white",
           "linecolor": "white",
           "ticks": "",
           "title": {
            "standoff": 15
           },
           "zerolinecolor": "white",
           "zerolinewidth": 2
          },
          "yaxis": {
           "automargin": true,
           "gridcolor": "white",
           "linecolor": "white",
           "ticks": "",
           "title": {
            "standoff": 15
           },
           "zerolinecolor": "white",
           "zerolinewidth": 2
          }
         }
        },
        "width": 1200,
        "xaxis": {
         "anchor": "y",
         "autorange": true,
         "domain": [
          0,
          1
         ],
         "range": [
          -13.384783762056124,
          22.78891946609665
         ],
         "title": {
          "text": "0"
         },
         "type": "linear"
        },
        "yaxis": {
         "anchor": "x",
         "autorange": true,
         "domain": [
          0,
          1
         ],
         "range": [
          -14.564445001172842,
          22.625601274061026
         ],
         "title": {
          "text": "1"
         },
         "type": "linear"
        }
       }
      },
      "image/png": "[encoded data removed]",
      "text/html": [
       "<div>                            <div id=\"be3cb89b-cea3-4a5c-ac82-c048aa784bf1\" class=\"plotly-graph-div\" style=\"height:600px; width:1200px;\"></div>            <script type=\"text/javascript\">                require([\"plotly\"], function(Plotly) {                    window.PLOTLYENV=window.PLOTLYENV || {};                                    if (document.getElementById(\"be3cb89b-cea3-4a5c-ac82-c048aa784bf1\")) {                    Plotly.newPlot(                        \"be3cb89b-cea3-4a5c-ac82-c048aa784bf1\",                        [{\"customdata\":[[\"MONGODB, INC.\",\"Prepackaged Software (mass reproduction of software)\"],[\"SALESFORCE COM INC\",\"Prepackaged Software (mass reproduction of software)\"],[\"SPLUNK INC\",\"Prepackaged Software (mass reproduction of software)\"],[\"OKTA, INC.\",\"Prepackaged Software (mass reproduction of software)\"],[\"VEEVA SYSTEMS INC\",\"Prepackaged Software (mass reproduction of software)\"],[\"AUTODESK INC\",\"Prepackaged Software (mass reproduction of software)\"],[\"ETERNAL SPEECH, INC.\",\"Prepackaged Software (mass reproduction of software)\"],[\"ETERNAL SPEECH, INC.\",\"Prepackaged Software (mass reproduction of software)\"],[\"MAJESCO\",\"Prepackaged Software (mass reproduction of software)\"],[\"DUO WORLD INC\",\"Prepackaged Software (mass reproduction of software)\"],[\"COMMVAULT SYSTEMS INC\",\"Prepackaged Software (mass reproduction of software)\"],[\"UPPERSOLUTION.COM\",\"Prepackaged Software (mass reproduction of software)\"],[\"ORACLE CORP\",\"Prepackaged Software (mass reproduction of software)\"],[\"SAVMOBI TECHNOLOGY INC.\",\"Prepackaged Software (mass reproduction of software)\"],[\"ZEDGE, INC.\",\"Prepackaged Software (mass reproduction of software)\"],[\"DESTINY MEDIA TECHNOLOGIES INC\",\"Prepackaged Software (mass reproduction of software)\"],[\"TRAQER CORP\",\"Prepackaged Software (mass reproduction of software)\"],[\"VISIBER57 CORP.\",\"Prepackaged Software (mass reproduction of software)\"],[\"GH CAPITAL INC.\",\"Prepackaged Software (mass reproduction of software)\"],[\"BRIDGELINE DIGITAL, INC.\",\"Prepackaged Software (mass reproduction of software)\"],[\"NUANCE COMMUNICATIONS, INC.\",\"Prepackaged Software (mass reproduction of software)\"],[\"DATAWATCH CORP\",\"Prepackaged Software (mass reproduction of software)\"],[\"POLARITYTE, INC.\",\"Prepackaged Software (mass reproduction of software)\"],[\"POLARITYTE, INC.\",\"Prepackaged Software (mass reproduction of software)\"],[\"VGRAB COMMUNICATIONS INC.\",\"Prepackaged Software (mass reproduction of software)\"],[\"VGRAB COMMUNICATIONS INC.\",\"Prepackaged Software (mass reproduction of software)\"],[\"ADAIAH DISTRIBUTION INC\",\"Prepackaged Software (mass reproduction of software)\"],[\"ADAIAH DISTRIBUTION INC\",\"Prepackaged Software (mass reproduction of software)\"],[\"PROGRESS SOFTWARE CORP /MA\",\"Prepackaged Software (mass reproduction of software)\"],[\"MEDICAL INFORMATION TECHNOLOGY, INC.\",\"Prepackaged Software (mass reproduction of software)\"],[\"SPS COMMERCE INC\",\"Prepackaged Software (mass reproduction of software)\"],[\"ALTERYX, INC.\",\"Prepackaged Software (mass reproduction of software)\"],[\"INTELLIGENT SYSTEMS CORP\",\"Prepackaged Software (mass reproduction of software)\"],[\"ALARM.COM HOLDINGS, INC.\",\"Prepackaged Software (mass reproduction of software)\"],[\"LIGHTNING GAMING, INC.\",\"Prepackaged Software (mass reproduction of software)\"],[\"ENDURANCE INTERNATIONAL GROUP HOLDINGS, INC.\",\"Prepackaged Software (mass reproduction of software)\"],[\"2U, INC.\",\"Prepackaged Software (mass reproduction of software)\"],[\"CISION LTD.\",\"Prepackaged Software (mass reproduction of software)\"],[\"BTCS INC.\",\"Prepackaged Software (mass reproduction of software)\"],[\"BTCS INC.\",\"Prepackaged Software (mass reproduction of software)\"],[\"BTCS INC.\",\"Prepackaged Software (mass reproduction of software)\"],[\"INTELLICHECK, INC.\",\"Prepackaged Software (mass reproduction of software)\"],[\"REALPAGE INC\",\"Prepackaged Software (mass reproduction of software)\"],[\"Q2 HOLDINGS, INC.\",\"Prepackaged Software (mass reproduction of software)\"],[\"MCORPCX, INC.\",\"Prepackaged Software (mass reproduction of software)\"],[\"QUALYS, INC.\",\"Prepackaged Software (mass reproduction of software)\"],[\"MEDICAL TRANSCRIPTION BILLING, CORP\",\"Prepackaged Software (mass reproduction of software)\"],[\"SMITH MICRO SOFTWARE INC\",\"Prepackaged Software (mass reproduction of software)\"],[\"SHOTSPOTTER, INC\",\"Prepackaged Software (mass reproduction of software)\"],[\"LONGWEN GROUP CORP.\",\"Prepackaged Software (mass reproduction of software)\"],[\"ELLIE MAE INC\",\"Prepackaged Software (mass reproduction of software)\"],[\"ROSETTA STONE INC\",\"Prepackaged Software (mass reproduction of software)\"],[\"BLACK KNIGHT, INC.\",\"Prepackaged Software (mass reproduction of software)\"],[\"MICROSTRATEGY INC\",\"Prepackaged Software (mass reproduction of software)\"],[\"EMR TECHNOLOGY SOLUTIONS, INC.\",\"Prepackaged Software (mass reproduction of software)\"],[\"PAYCOM SOFTWARE, INC.\",\"Prepackaged Software (mass reproduction of software)\"],[\"3D SYSTEMS CORP\",\"Prepackaged Software (mass reproduction of software)\"],[\"APPIAN CORP\",\"Prepackaged Software (mass reproduction of software)\"],[\"UPLAND SOFTWARE, INC.\",\"Prepackaged Software (mass reproduction of software)\"],[\"LIVEPERSON INC\",\"Prepackaged Software (mass reproduction of software)\"],[\"AWARE INC /MA/\",\"Prepackaged Software (mass reproduction of software)\"],[\"ULTIMATE SOFTWARE GROUP INC\",\"Prepackaged Software (mass reproduction of software)\"],[\"ANSYS INC\",\"Prepackaged Software (mass reproduction of software)\"],[\"AVID TECHNOLOGY, INC.\",\"Prepackaged Software (mass reproduction of software)\"],[\"NATIONAL INSTRUMENTS CORP\",\"Prepackaged Software (mass reproduction of software)\"],[\"INSPRO TECHNOLOGIES CORP\",\"Prepackaged Software (mass reproduction of software)\"],[\"QUMU CORP\",\"Prepackaged Software (mass reproduction of software)\"],[\"ACI WORLDWIDE, INC.\",\"Prepackaged Software (mass reproduction of software)\"],[\"SQUARE, INC.\",\"Prepackaged Software (mass reproduction of software)\"],[\"ALTAIR ENGINEERING INC.\",\"Prepackaged Software (mass reproduction of software)\"],[\"TALEND SA\",\"Prepackaged Software (mass reproduction of software)\"],[\"APPFOLIO INC\",\"Prepackaged Software (mass reproduction of software)\"],[\"GSE SYSTEMS INC\",\"Prepackaged Software (mass reproduction of software)\"],[\"IPSIDY INC.\",\"Prepackaged Software (mass reproduction of software)\"],[\"INTELLINETICS, INC.\",\"Prepackaged Software (mass reproduction of software)\"],[\"INTELLINETICS, INC.\",\"Prepackaged Software (mass reproduction of software)\"],[\"IIOT-OXYS, INC.\",\"Prepackaged Software (mass reproduction of software)\"],[\"NEWGIOCO GROUP, INC.\",\"Prepackaged Software (mass reproduction of software)\"],[\"WORKIVA INC\",\"Prepackaged Software (mass reproduction of software)\"],[\"TABLEAU SOFTWARE INC\",\"Prepackaged Software (mass reproduction of software)\"]],\"hovertemplate\":\"color=Prepackaged Software (mass reproduction of software)<br>0=%{x}<br>1=%{y}<br>name=%{customdata[0]}<br>industry=%{customdata[1]}<extra></extra>\",\"legendgroup\":\"Prepackaged Software (mass reproduction of software)\",\"marker\":{\"color\":\"#636efa\",\"symbol\":\"circle\"},\"mode\":\"markers\",\"name\":\"Prepackaged Software (mass reproduction of software)\",\"orientation\":\"v\",\"showlegend\":true,\"type\":\"scatter\",\"x\":[-1.4550044536590576,-2.0033113956451416,-2.134474754333496,-0.9274237751960754,0.7807900905609131,-1.0840750932693481,-0.8994615077972412,-0.8381891846656799,-2.527904510498047,-1.0781569480895996,-2.1859710216522217,0.3415077030658722,-3.59670352935791,-2.0297884941101074,-0.7097910642623901,-0.5378150939941406,-3.174596071243286,-0.9627936482429504,-1.1053249835968018,-2.135617256164551,-0.36668798327445984,-1.3175426721572876,6.984758377075195,8.370869636535645,-2.676523447036743,-2.691371440887451,-3.719045400619507,-4.260704040527344,-2.2060790061950684,-0.5020610094070435,-1.4295037984848022,0.43206721544265747,-3.9843339920043945,-1.8042073249816895,-0.6580232977867126,0.9734691977500916,-0.26928040385246277,0.3724820017814636,-3.627929449081421,-3.3817923069000244,-2.7518560886383057,-0.6978095173835754,-1.824510931968689,-2.833498239517212,0.5454089045524597,2.338982343673706,3.392294406890869,0.15597890317440033,-1.3434441089630127,-0.9216311573982239,-4.239904403686523,1.1647343635559082,-4.508362770080566,0.7679482102394104,1.8973909616470337,-2.0376641750335693,1.9093356132507324,-2.5430400371551514,-3.0257363319396973,-3.805635929107666,-1.0836172103881836,-3.9103338718414307,-1.602805495262146,-0.15490397810935974,0.7464559078216553,-0.5613197088241577,-0.8453359007835388,-2.6578173637390137,-3.32584810256958,0.21525993943214417,-1.5078868865966797,-1.5254167318344116,-6.649696350097656,-0.12358379364013672,-0.6023192405700684,-0.12309399992227554,-0.07751769572496414,-3.8217015266418457,-3.2806591987609863,1.510469913482666],\"xaxis\":\"x\",\"y\":[0.5247460007667542,0.6835758686065674,1.4920405149459839,-2.3418564796447754,-1.5458885431289673,1.6098487377166748,-0.10439383238554001,-0.06891794502735138,-1.218262791633606,-1.6819124221801758,0.583774209022522,0.0969187468290329,0.7832209467887878,-0.5555232167243958,-0.07884131371974945,-0.4171919524669647,4.028890609741211,-0.1132361963391304,-0.9604551792144775,-2.3298521041870117,-0.9094051122665405,0.01671450585126877,1.165023684501648,1.9751076698303223,-0.034108974039554596,-0.2742787003517151,0.16820469498634338,-0.17001396417617798,-0.5813055634498596,-0.32179006934165955,1.979681372642517,1.7714228630065918,1.3009082078933716,3.2269692420959473,1.786236047744751,0.40908581018447876,-5.005711078643799,1.399762749671936,-1.5363819599151611,-1.7007787227630615,-1.8272225856781006,0.006476914044469595,1.45963716506958,-3.685163736343384,0.4258694052696228,-0.9460729956626892,-1.6214059591293335,-0.6581752300262451,4.878704071044922,0.49050191044807434,-3.5440688133239746,-1.309437870979309,-4.114153861999512,0.09353770315647125,-1.2131569385528564,-0.02450571209192276,4.000139236450195,-0.5016888976097107,-2.0474557876586914,-2.187438726425171,-4.958821773529053,-0.9772374629974365,-0.6686567664146423,3.153599739074707,2.79270601272583,-0.12644848227500916,-0.5240588188171387,-3.885807752609253,-0.8015656471252441,3.51236629486084,3.8856027126312256,-0.18648973107337952,2.0424365997314453,-4.03501558303833,-0.8139608502388,-0.6387091875076294,1.083762764930725,1.1553641557693481,-2.2558021545410156,0.09953150153160095],\"yaxis\":\"y\"},{\"customdata\":[[\"INTERNATIONAL WESTERN PETROLEUM, INC.\",\"Crude Petroleum and Natural Gas\"],[\"DAYBREAK OIL & GAS, INC.\",\"Crude Petroleum and Natural Gas\"],[\"GB SCIENCES INC\",\"Crude Petroleum and Natural Gas\"],[\"FREEDOM HOLDING CORP.\",\"Crude Petroleum and Natural Gas\"],[\"MEXCO ENERGY CORP\",\"Crude Petroleum and Natural Gas\"],[\"SUSTAINABLE PROJECTS GROUP INC.\",\"Crude Petroleum and Natural Gas\"],[\"AMERICAN ENERGY GROUP LTD\",\"Crude Petroleum and Natural Gas\"],[\"REDHAWK HOLDINGS CORP.\",\"Crude Petroleum and Natural Gas\"],[\"TIANCI INTERNATIONAL, INC.\",\"Crude Petroleum and Natural Gas\"],[\"AMAZING ENERGY OIL & GAS, CO.\",\"Crude Petroleum and Natural Gas\"],[\"ALTEX INDUSTRIES INC\",\"Crude Petroleum and Natural Gas\"],[\"BARNWELL INDUSTRIES INC\",\"Crude Petroleum and Natural Gas\"],[\"PANHANDLE OIL & GAS INC\",\"Crude Petroleum and Natural Gas\"],[\"ENERGY 11, L.P.\",\"Crude Petroleum and Natural Gas\"],[\"ABRAXAS PETROLEUM CORP\",\"Crude Petroleum and Natural Gas\"],[\"SEARS OIL & GAS\",\"Crude Petroleum and Natural Gas\"],[\"APACHE CORP\",\"Crude Petroleum and Natural Gas\"],[\"GULFPORT ENERGY CORP\",\"Crude Petroleum and Natural Gas\"],[\"CONTINENTAL RESOURCES, INC\",\"Crude Petroleum and Natural Gas\"],[\"ISRAMCO INC\",\"Crude Petroleum and Natural Gas\"],[\"CHAPARRAL ENERGY, INC.\",\"Crude Petroleum and Natural Gas\"],[\"WHITING PETROLEUM CORP\",\"Crude Petroleum and Natural Gas\"],[\"CONTANGO OIL & GAS CO\",\"Crude Petroleum and Natural Gas\"],[\"EARTHSTONE ENERGY INC\",\"Crude Petroleum and Natural Gas\"],[\"CLEAN COAL TECHNOLOGIES INC.\",\"Crude Petroleum and Natural Gas\"],[\"NORTHERN OIL & GAS, INC.\",\"Crude Petroleum and Natural Gas\"],[\"SRC ENERGY INC.\",\"Crude Petroleum and Natural Gas\"],[\"JONES ENERGY, INC.\",\"Crude Petroleum and Natural Gas\"],[\"GOODRICH PETROLEUM CORP\",\"Crude Petroleum and Natural Gas\"],[\"OCCIDENTAL PETROLEUM CORP /DE/\",\"Crude Petroleum and Natural Gas\"],[\"LONESTAR RESOURCES US INC.\",\"Crude Petroleum and Natural Gas\"],[\"NOBLE ENERGY INC\",\"Crude Petroleum and Natural Gas\"],[\"PIONEER NATURAL RESOURCES CO\",\"Crude Petroleum and Natural Gas\"],[\"BONANZA CREEK ENERGY, INC.\",\"Crude Petroleum and Natural Gas\"],[\"DEVON ENERGY CORP/DE\",\"Crude Petroleum and Natural Gas\"],[\"CALIFORNIA RESOURCES CORP\",\"Crude Petroleum and Natural Gas\"],[\"PARK PLACE ENERGY INC.\",\"Crude Petroleum and Natural Gas\"],[\"ANTERO RESOURCES CORP\",\"Crude Petroleum and Natural Gas\"],[\"LAREDO PETROLEUM, INC.\",\"Crude Petroleum and Natural Gas\"],[\"CIMAREX ENERGY CO\",\"Crude Petroleum and Natural Gas\"],[\"ALTA MESA HOLDINGS, LP\",\"Crude Petroleum and Natural Gas\"],[\"US ENERGY CORP\",\"Crude Petroleum and Natural Gas\"],[\"VICTORY ENERGY CORP\",\"Crude Petroleum and Natural Gas\"],[\"VICTORY ENERGY CORP\",\"Crude Petroleum and Natural Gas\"],[\"GRAN TIERRA ENERGY INC.\",\"Crude Petroleum and Natural Gas\"],[\"MIDSTATES PETROLEUM COMPANY, INC.\",\"Crude Petroleum and Natural Gas\"],[\"WILDHORSE RESOURCE DEVELOPMENT CORP\",\"Crude Petroleum and Natural Gas\"],[\"SM ENERGY CO\",\"Crude Petroleum and Natural Gas\"],[\"SANDRIDGE ENERGY INC\",\"Crude Petroleum and Natural Gas\"],[\"RING ENERGY, INC.\",\"Crude Petroleum and Natural Gas\"],[\"SANCHEZ ENERGY CORP\",\"Crude Petroleum and Natural Gas\"],[\"TETRA TECHNOLOGIES INC\",\"Crude Petroleum and Natural Gas\"],[\"RESERVE PETROLEUM CO\",\"Crude Petroleum and Natural Gas\"],[\"HESS MIDSTREAM PARTNERS LP\",\"Crude Petroleum and Natural Gas\"],[\"TORCHLIGHT ENERGY RESOURCES INC\",\"Crude Petroleum and Natural Gas\"],[\"LINN ENERGY, INC.\",\"Crude Petroleum and Natural Gas\"],[\"KOSMOS ENERGY LTD.\",\"Crude Petroleum and Natural Gas\"],[\"SILVERBOW RESOURCES, INC.\",\"Crude Petroleum and Natural Gas\"],[\"TELLURIAN INC. /DE/\",\"Crude Petroleum and Natural Gas\"],[\"DORCHESTER MINERALS, L.P.\",\"Crude Petroleum and Natural Gas\"],[\"MATADOR RESOURCES CO\",\"Crude Petroleum and Natural Gas\"],[\"PDC ENERGY, INC.\",\"Crude Petroleum and Natural Gas\"],[\"TEXAS SOUTH ENERGY, INC.\",\"Crude Petroleum and Natural Gas\"],[\"PEDEVCO CORP\",\"Crude Petroleum and Natural Gas\"],[\"VIPER ENERGY PARTNERS LP\",\"Crude Petroleum and Natural Gas\"],[\"ENERJEX RESOURCES, INC.\",\"Crude Petroleum and Natural Gas\"],[\"TENGASCO INC\",\"Crude Petroleum and Natural Gas\"],[\"KIMBELL ROYALTY PARTNERS, LP\",\"Crude Petroleum and Natural Gas\"],[\"CONCHO RESOURCES INC\",\"Crude Petroleum and Natural Gas\"],[\"APACHE OFFSHORE INVESTMENT PARTNERSHIP\",\"Crude Petroleum and Natural Gas\"],[\"EVERFLOW EASTERN PARTNERS LP\",\"Crude Petroleum and Natural Gas\"],[\"CHESAPEAKE ENERGY CORP\",\"Crude Petroleum and Natural Gas\"],[\"CARRIZO OIL & GAS INC\",\"Crude Petroleum and Natural Gas\"],[\"CALLON PETROLEUM CO\",\"Crude Petroleum and Natural Gas\"],[\"PENN VIRGINIA CORP\",\"Crude Petroleum and Natural Gas\"],[\"DIAMONDBACK ENERGY, INC.\",\"Crude Petroleum and Natural Gas\"],[\"COMSTOCK RESOURCES INC\",\"Crude Petroleum and Natural Gas\"],[\"DALA PETROLEUM CORP.\",\"Crude Petroleum and Natural Gas\"],[\"WPX ENERGY, INC.\",\"Crude Petroleum and Natural Gas\"],[\"LILIS ENERGY, INC.\",\"Crude Petroleum and Natural Gas\"]],\"hovertemplate\":\"color=Crude Petroleum and Natural Gas<br>0=%{x}<br>1=%{y}<br>name=%{customdata[0]}<br>industry=%{customdata[1]}<extra></extra>\",\"legendgroup\":\"Crude Petroleum and Natural Gas\",\"marker\":{\"color\":\"#EF553B\",\"symbol\":\"circle\"},\"mode\":\"markers\",\"name\":\"Crude Petroleum and Natural Gas\",\"orientation\":\"v\",\"showlegend\":true,\"type\":\"scatter\",\"x\":[-4.338934421539307,-4.87925386428833,5.125483512878418,-6.965017795562744,-4.066265106201172,-0.6036471724510193,-0.6361156702041626,2.910270929336548,-2.346933126449585,-5.02119255065918,-1.016222596168518,-5.0158491134643555,-2.1602272987365723,-4.362594127655029,-3.976363182067871,0.3580302298069,-5.023856163024902,-3.9072091579437256,-4.776683807373047,-1.5467168092727661,-4.913160800933838,-2.949206590652466,-0.7171188592910767,-2.3721959590911865,4.166646480560303,-3.1221158504486084,-4.846714496612549,-2.935642719268799,-3.3473894596099854,-2.172006607055664,-2.3833558559417725,-4.933843612670898,-2.030531167984009,-2.944718360900879,-1.9295934438705444,-7.217803478240967,0.3723922073841095,-5.026540279388428,-4.600001335144043,-4.231137275695801,-3.100929021835327,-4.610886096954346,-0.44115281105041504,-0.43034660816192627,-2.9882595539093018,-4.894316673278809,-2.5278232097625732,-3.2747159004211426,-2.013903856277466,-1.8592652082443237,-2.9527013301849365,-0.395159512758255,-2.064542055130005,-5.380678653717041,-0.8946661353111267,-7.173089981079102,-2.362948417663574,-6.625407695770264,-4.21536111831665,-2.3561012744903564,-5.6309099197387695,-5.583539962768555,-2.0312647819519043,-0.6673098206520081,-3.4998056888580322,-0.15042677521705627,-0.9042539596557617,-3.9866909980773926,-3.4423770904541016,-1.9330235719680786,-2.6337215900421143,-2.7920918464660645,-1.849784255027771,-4.895313262939453,-0.8924754858016968,-4.7028937339782715,-4.3259358406066895,-3.67311954498291,-4.48706579208374,-5.009604454040527],\"xaxis\":\"x\",\"y\":[11.007107734680176,5.5628180503845215,1.8456761837005615,-4.158109188079834,6.383697032928467,1.9170454740524292,-0.20384594798088074,-0.0981096550822258,0.5331064462661743,11.996333122253418,0.6888121366500854,8.256855964660645,2.386695146560669,12.957012176513672,11.902938842773438,2.941899061203003,8.95601749420166,18.6861572265625,17.47210121154785,12.975784301757812,12.246920585632324,13.632713317871094,0.12775848805904388,6.982885360717773,11.22619342803955,12.16279125213623,15.117724418640137,16.901443481445312,9.782977104187012,7.403168201446533,16.721702575683594,11.74586009979248,11.306434631347656,15.547811508178711,8.168561935424805,8.71232795715332,5.703415393829346,12.866593360900879,16.585886001586914,11.863757133483887,9.747602462768555,9.32599925994873,5.3878865242004395,6.116734981536865,7.036123275756836,13.888328552246094,10.329604148864746,12.552148818969727,14.410449981689453,6.643749237060547,15.38826847076416,11.114509582519531,4.304287433624268,11.730081558227539,2.464045763015747,11.943687438964844,20.462919235229492,9.501428604125977,12.485672950744629,4.440741062164307,18.755151748657227,11.533910751342773,9.832419395446777,-0.01506753545254469,13.11234188079834,2.938189744949341,7.630776405334473,16.04189682006836,13.982332229614258,4.605970859527588,7.809214115142822,11.452559471130371,14.1815185546875,8.481234550476074,9.274306297302246,10.247285842895508,8.084674835205078,3.6611242294311523,14.84321403503418,6.981031894683838],\"yaxis\":\"y\"},{\"customdata\":[[\"ULURU INC.\",\"Pharmaceutical Preparations\"],[\"CHINA YCT INTERNATIONAL GROUP, INC.\",\"Pharmaceutical Preparations\"],[\"AXOVANT SCIENCES LTD.\",\"Pharmaceutical Preparations\"],[\"MYOVANT SCIENCES LTD.\",\"Pharmaceutical Preparations\"],[\"PRESTIGE BRANDS HOLDINGS, INC.\",\"Pharmaceutical Preparations\"],[\"HYPGEN INC\",\"Pharmaceutical Preparations\"],[\"HYPGEN INC\",\"Pharmaceutical Preparations\"],[\"DANDRIT BIOTECH USA, INC.\",\"Pharmaceutical Preparations\"],[\"REZOLUTE, INC.\",\"Pharmaceutical Preparations\"],[\"OPTEC INTERNATIONAL, INC.\",\"Pharmaceutical Preparations\"],[\"OPTEC INTERNATIONAL, INC.\",\"Pharmaceutical Preparations\"],[\"BIOVIE INC.\",\"Pharmaceutical Preparations\"],[\"ONCOSEC MEDICAL INC\",\"Pharmaceutical Preparations\"],[\"CANNABICS PHARMACEUTICALS INC.\",\"Pharmaceutical Preparations\"],[\"ORAMED PHARMACEUTICALS INC.\",\"Pharmaceutical Preparations\"],[\"ENTEST BIOMEDICAL, INC.\",\"Pharmaceutical Preparations\"],[\"MY CLOUDZ, INC.\",\"Pharmaceutical Preparations\"],[\"MY CLOUDZ, INC.\",\"Pharmaceutical Preparations\"],[\"ENANTA PHARMACEUTICALS INC\",\"Pharmaceutical Preparations\"],[\"CITIUS PHARMACEUTICALS, INC.\",\"Pharmaceutical Preparations\"],[\"STELLAR BIOTECHNOLOGIES, INC.\",\"Pharmaceutical Preparations\"],[\"REGEN BIOPHARMA INC\",\"Pharmaceutical Preparations\"],[\"REGEN BIOPHARMA INC\",\"Pharmaceutical Preparations\"],[\"ADVAXIS, INC.\",\"Pharmaceutical Preparations\"],[\"ORGENESIS INC.\",\"Pharmaceutical Preparations\"],[\"Q BIOMED INC.\",\"Pharmaceutical Preparations\"],[\"JOHNSON & JOHNSON\",\"Pharmaceutical Preparations\"],[\"BRISTOL MYERS SQUIBB CO\",\"Pharmaceutical Preparations\"],[\"VBI VACCINES INC/BC\",\"Pharmaceutical Preparations\"],[\"INTRA-CELLULAR THERAPIES, INC.\",\"Pharmaceutical Preparations\"],[\"ROCKET PHARMACEUTICALS, INC.\",\"Pharmaceutical Preparations\"],[\"ATLAS HOLDINGS, INC.\",\"Pharmaceutical Preparations\"],[\"NEMUS BIOSCIENCE, INC.\",\"Pharmaceutical Preparations\"],[\"NEMUS BIOSCIENCE, INC.\",\"Pharmaceutical Preparations\"],[\"OVASCIENCE, INC.\",\"Pharmaceutical Preparations\"],[\"CONCERT PHARMACEUTICALS, INC.\",\"Pharmaceutical Preparations\"],[\"AKCEA THERAPEUTICS, INC.\",\"Pharmaceutical Preparations\"],[\"ARQULE INC\",\"Pharmaceutical Preparations\"],[\"AXIM BIOTECHNOLOGIES, INC.\",\"Pharmaceutical Preparations\"],[\"GUARDION HEALTH SCIENCES, INC.\",\"Pharmaceutical Preparations\"],[\"RETROPHIN, INC.\",\"Pharmaceutical Preparations\"],[\"SYNDAX PHARMACEUTICALS INC\",\"Pharmaceutical Preparations\"],[\"FIBROGEN INC\",\"Pharmaceutical Preparations\"],[\"PROTOKINETIX, INC.\",\"Pharmaceutical Preparations\"],[\"PROGENICS PHARMACEUTICALS INC\",\"Pharmaceutical Preparations\"],[\"CHECKPOINT THERAPEUTICS, INC.\",\"Pharmaceutical Preparations\"],[\"PFENEX INC.\",\"Pharmaceutical Preparations\"],[\"PAIN THERAPEUTICS INC\",\"Pharmaceutical Preparations\"],[\"ZOMEDICA PHARMACEUTICALS CORP.\",\"Pharmaceutical Preparations\"],[\"ZOMEDICA PHARMACEUTICALS CORP.\",\"Pharmaceutical Preparations\"],[\"MOLECULAR TEMPLATES, INC.\",\"Pharmaceutical Preparations\"],[\"WAVE LIFE SCIENCES LTD.\",\"Pharmaceutical Preparations\"],[\"CYMABAY THERAPEUTICS, INC.\",\"Pharmaceutical Preparations\"],[\"AMICUS THERAPEUTICS INC\",\"Pharmaceutical Preparations\"],[\"EVOKE PHARMA INC\",\"Pharmaceutical Preparations\"],[\"CHEMBIO DIAGNOSTICS, INC.\",\"Pharmaceutical Preparations\"],[\"CARA THERAPEUTICS, INC.\",\"Pharmaceutical Preparations\"],[\"CYTOMX THERAPEUTICS, INC.\",\"Pharmaceutical Preparations\"],[\"XENCOR INC\",\"Pharmaceutical Preparations\"],[\"CATABASIS PHARMACEUTICALS INC\",\"Pharmaceutical Preparations\"],[\"SERES THERAPEUTICS, INC.\",\"Pharmaceutical Preparations\"],[\"EYEGATE PHARMACEUTICALS INC\",\"Pharmaceutical Preparations\"],[\"ARENA PHARMACEUTICALS INC\",\"Pharmaceutical Preparations\"],[\"ALEXION PHARMACEUTICALS INC\",\"Pharmaceutical Preparations\"],[\"MELINTA THERAPEUTICS, INC. /NEW/\",\"Pharmaceutical Preparations\"],[\"FIVE PRIME THERAPEUTICS INC\",\"Pharmaceutical Preparations\"],[\"LIXTE BIOTECHNOLOGY HOLDINGS, INC.\",\"Pharmaceutical Preparations\"],[\"ARATANA THERAPEUTICS, INC.\",\"Pharmaceutical Preparations\"],[\"CHIASMA, INC\",\"Pharmaceutical Preparations\"],[\"CELGENE CORP /DE/\",\"Pharmaceutical Preparations\"],[\"NEWLINK GENETICS CORP\",\"Pharmaceutical Preparations\"],[\"LIGAND PHARMACEUTICALS INC\",\"Pharmaceutical Preparations\"],[\"PORTOLA PHARMACEUTICALS INC\",\"Pharmaceutical Preparations\"],[\"PLX PHARMA INC.\",\"Pharmaceutical Preparations\"],[\"ARDELYX, INC.\",\"Pharmaceutical Preparations\"],[\"PROTAGONIST THERAPEUTICS, INC\",\"Pharmaceutical Preparations\"],[\"MOLECULIN BIOTECH, INC.\",\"Pharmaceutical Preparations\"],[\"IRONWOOD PHARMACEUTICALS INC\",\"Pharmaceutical Preparations\"],[\"FORTRESS BIOTECH, INC.\",\"Pharmaceutical Preparations\"],[\"SYNTHETIC BIOLOGICS, INC.\",\"Pharmaceutical Preparations\"],[\"OPTINOSE, INC.\",\"Pharmaceutical Preparations\"],[\"CORMEDIX INC.\",\"Pharmaceutical Preparations\"],[\"HEAT BIOLOGICS, INC.\",\"Pharmaceutical Preparations\"],[\"SUN BIOPHARMA, INC.\",\"Pharmaceutical Preparations\"],[\"BELLEROPHON THERAPEUTICS, INC.\",\"Pharmaceutical Preparations\"],[\"BIOSPECIFICS TECHNOLOGIES CORP\",\"Pharmaceutical Preparations\"],[\"ZOSANO PHARMA CORP\",\"Pharmaceutical Preparations\"],[\"CV SCIENCES, INC.\",\"Pharmaceutical Preparations\"],[\"LILLY ELI & CO\",\"Pharmaceutical Preparations\"],[\"SAREPTA THERAPEUTICS, INC.\",\"Pharmaceutical Preparations\"],[\"EXICURE, INC.\",\"Pharmaceutical Preparations\"],[\"OVID THERAPEUTICS INC.\",\"Pharmaceutical Preparations\"],[\"IMPRIMIS PHARMACEUTICALS, INC.\",\"Pharmaceutical Preparations\"],[\"IONIS PHARMACEUTICALS INC\",\"Pharmaceutical Preparations\"],[\"ONCOMED PHARMACEUTICALS INC\",\"Pharmaceutical Preparations\"],[\"TONIX PHARMACEUTICALS HOLDING CORP.\",\"Pharmaceutical Preparations\"],[\"TEVA PHARMACEUTICAL INDUSTRIES LTD\",\"Pharmaceutical Preparations\"],[\"RHYTHM PHARMACEUTICALS, INC.\",\"Pharmaceutical Preparations\"],[\"COCRYSTAL PHARMA, INC.\",\"Pharmaceutical Preparations\"],[\"REGENERON PHARMACEUTICALS INC\",\"Pharmaceutical Preparations\"],[\"ANI PHARMACEUTICALS INC\",\"Pharmaceutical Preparations\"],[\"CLEARSIDE BIOMEDICAL, INC.\",\"Pharmaceutical Preparations\"],[\"LIPOCINE INC.\",\"Pharmaceutical Preparations\"],[\"GALECTIN THERAPEUTICS INC\",\"Pharmaceutical Preparations\"],[\"STEMLINE THERAPEUTICS INC\",\"Pharmaceutical Preparations\"],[\"DOVA PHARMACEUTICALS, INC.\",\"Pharmaceutical Preparations\"],[\"ABBVIE INC.\",\"Pharmaceutical Preparations\"],[\"AKORN INC\",\"Pharmaceutical Preparations\"],[\"VALEANT PHARMACEUTICALS INTERNATIONAL, INC.\",\"Pharmaceutical Preparations\"],[\"INTELGENX TECHNOLOGIES CORP.\",\"Pharmaceutical Preparations\"],[\"PFIZER INC\",\"Pharmaceutical Preparations\"],[\"SKINVISIBLE INC\",\"Pharmaceutical Preparations\"],[\"TAPIMMUNE INC.\",\"Pharmaceutical Preparations\"],[\"THERAPEUTICSMD, INC.\",\"Pharmaceutical Preparations\"],[\"AQUINOX PHARMACEUTICALS, INC\",\"Pharmaceutical Preparations\"],[\"GLOBAL BLOOD THERAPEUTICS, INC.\",\"Pharmaceutical Preparations\"],[\"RIGEL PHARMACEUTICALS INC\",\"Pharmaceutical Preparations\"],[\"PARATEK PHARMACEUTICALS, INC.\",\"Pharmaceutical Preparations\"],[\"PERRIGO CO PLC\",\"Pharmaceutical Preparations\"],[\"ZAFGEN, INC.\",\"Pharmaceutical Preparations\"],[\"OPHTHOTECH CORP.\",\"Pharmaceutical Preparations\"],[\"ACHILLION PHARMACEUTICALS INC\",\"Pharmaceutical Preparations\"],[\"KEMPHARM, INC\",\"Pharmaceutical Preparations\"],[\"INTERCEPT PHARMACEUTICALS INC\",\"Pharmaceutical Preparations\"],[\"ULTRAGENYX PHARMACEUTICAL INC.\",\"Pharmaceutical Preparations\"],[\"EMERGENT BIOSOLUTIONS INC.\",\"Pharmaceutical Preparations\"],[\"ACER THERAPEUTICS INC.\",\"Pharmaceutical Preparations\"],[\"HERON THERAPEUTICS, INC. /DE/\",\"Pharmaceutical Preparations\"],[\"ADAMIS PHARMACEUTICALS CORP\",\"Pharmaceutical Preparations\"],[\"GT BIOPHARMA, INC.\",\"Pharmaceutical Preparations\"],[\"GT BIOPHARMA, INC.\",\"Pharmaceutical Preparations\"],[\"GT BIOPHARMA, INC.\",\"Pharmaceutical Preparations\"],[\"GT BIOPHARMA, INC.\",\"Pharmaceutical Preparations\"],[\"GT BIOPHARMA, INC.\",\"Pharmaceutical Preparations\"],[\"GT BIOPHARMA, INC.\",\"Pharmaceutical Preparations\"],[\"IMMUNOGEN INC\",\"Pharmaceutical Preparations\"],[\"PTC THERAPEUTICS, INC.\",\"Pharmaceutical Preparations\"],[\"MANNKIND CORP\",\"Pharmaceutical Preparations\"],[\"CARDAX, INC.\",\"Pharmaceutical Preparations\"],[\"SYROS PHARMACEUTICALS, INC.\",\"Pharmaceutical Preparations\"],[\"ADURO BIOTECH, INC.\",\"Pharmaceutical Preparations\"],[\"SIENNA BIOPHARMACEUTICALS, INC.\",\"Pharmaceutical Preparations\"],[\"ACHAOGEN INC\",\"Pharmaceutical Preparations\"],[\"UNITED CANNABIS CORP\",\"Pharmaceutical Preparations\"],[\"UNITED CANNABIS CORP\",\"Pharmaceutical Preparations\"],[\"RXI PHARMACEUTICALS CORP\",\"Pharmaceutical Preparations\"],[\"RXI PHARMACEUTICALS CORP\",\"Pharmaceutical Preparations\"],[\"RXI PHARMACEUTICALS CORP\",\"Pharmaceutical Preparations\"],[\"RXI PHARMACEUTICALS CORP\",\"Pharmaceutical Preparations\"],[\"SOLIGENIX, INC.\",\"Pharmaceutical Preparations\"],[\"XOMA CORP\",\"Pharmaceutical Preparations\"],[\"SIERRA ONCOLOGY, INC.\",\"Pharmaceutical Preparations\"],[\"ACTINIUM PHARMACEUTICALS, INC.\",\"Pharmaceutical Preparations\"],[\"ORAGENICS INC\",\"Pharmaceutical Preparations\"],[\"ATHERSYS, INC / NEW\",\"Pharmaceutical Preparations\"],[\"PULMATRIX, INC.\",\"Pharmaceutical Preparations\"],[\"ACADIA PHARMACEUTICALS INC\",\"Pharmaceutical Preparations\"],[\"TREVENA INC\",\"Pharmaceutical Preparations\"],[\"NATURES SUNSHINE PRODUCTS INC\",\"Pharmaceutical Preparations\"],[\"FLEXION THERAPEUTICS INC\",\"Pharmaceutical Preparations\"],[\"VERASTEM, INC.\",\"Pharmaceutical Preparations\"],[\"XENON PHARMACEUTICALS INC.\",\"Pharmaceutical Preparations\"],[\"SUNESIS PHARMACEUTICALS INC\",\"Pharmaceutical Preparations\"],[\"CORVUS PHARMACEUTICALS, INC.\",\"Pharmaceutical Preparations\"],[\"MERCK & CO., INC.\",\"Pharmaceutical Preparations\"],[\"STRONGBRIDGE BIOPHARMA PLC\",\"Pharmaceutical Preparations\"],[\"CATALYST PHARMACEUTICALS, INC.\",\"Pharmaceutical Preparations\"],[\"ASSEMBLY BIOSCIENCES, INC.\",\"Pharmaceutical Preparations\"],[\"APRICUS BIOSCIENCES, INC.\",\"Pharmaceutical Preparations\"],[\"CATALYST BIOSCIENCES, INC.\",\"Pharmaceutical Preparations\"],[\"MIRATI THERAPEUTICS, INC.\",\"Pharmaceutical Preparations\"],[\"MUSTANG BIO, INC.\",\"Pharmaceutical Preparations\"],[\"ACELRX PHARMACEUTICALS INC\",\"Pharmaceutical Preparations\"],[\"BLUEPRINT MEDICINES CORP\",\"Pharmaceutical Preparations\"],[\"ATHENEX, INC.\",\"Pharmaceutical Preparations\"],[\"ATHENEX, INC.\",\"Pharmaceutical Preparations\"],[\"RECRO PHARMA, INC.\",\"Pharmaceutical Preparations\"],[\"BIOHAVEN PHARMACEUTICAL HOLDING CO LTD.\",\"Pharmaceutical Preparations\"],[\"PROTHENA CORP PLC\",\"Pharmaceutical Preparations\"],[\"AVENUE THERAPEUTICS, INC.\",\"Pharmaceutical Preparations\"],[\"VTV THERAPEUTICS INC.\",\"Pharmaceutical Preparations\"],[\"ZYNERBA PHARMACEUTICALS, INC.\",\"Pharmaceutical Preparations\"],[\"BIOMARIN PHARMACEUTICAL INC\",\"Pharmaceutical Preparations\"],[\"KARYOPHARM THERAPEUTICS INC.\",\"Pharmaceutical Preparations\"],[\"LEXICON PHARMACEUTICALS, INC.\",\"Pharmaceutical Preparations\"],[\"ENDO INTERNATIONAL PLC\",\"Pharmaceutical Preparations\"],[\"PROPHASE LABS, INC.\",\"Pharmaceutical Preparations\"],[\"CELLECTAR BIOSCIENCES, INC.\",\"Pharmaceutical Preparations\"],[\"RITTER PHARMACEUTICALS INC\",\"Pharmaceutical Preparations\"],[\"MARINUS PHARMACEUTICALS INC\",\"Pharmaceutical Preparations\"],[\"CORCEPT THERAPEUTICS INC\",\"Pharmaceutical Preparations\"],[\"ALNYLAM PHARMACEUTICALS, INC.\",\"Pharmaceutical Preparations\"],[\"DARE BIOSCIENCE, INC.\",\"Pharmaceutical Preparations\"],[\"TELIGENT, INC.\",\"Pharmaceutical Preparations\"],[\"TELIGENT, INC.\",\"Pharmaceutical Preparations\"],[\"ACLARIS THERAPEUTICS, INC.\",\"Pharmaceutical Preparations\"],[\"VITAL THERAPIES INC\",\"Pharmaceutical Preparations\"],[\"DECIPHERA PHARMACEUTICALS, INC.\",\"Pharmaceutical Preparations\"],[\"CAPSTONE THERAPEUTICS CORP.\",\"Pharmaceutical Preparations\"],[\"PACIRA PHARMACEUTICALS, INC.\",\"Pharmaceutical Preparations\"],[\"UROGEN PHARMA LTD.\",\"Pharmaceutical Preparations\"],[\"FIBROCELL SCIENCE, INC.\",\"Pharmaceutical Preparations\"],[\"FLEX PHARMA, INC.\",\"Pharmaceutical Preparations\"],[\"BIODELIVERY SCIENCES INTERNATIONAL INC\",\"Pharmaceutical Preparations\"],[\"HORIZON PHARMA PLC\",\"Pharmaceutical Preparations\"],[\"MERRIMACK PHARMACEUTICALS INC\",\"Pharmaceutical Preparations\"],[\"CYCLACEL PHARMACEUTICALS, INC.\",\"Pharmaceutical Preparations\"],[\"ZOETIS INC.\",\"Pharmaceutical Preparations\"]],\"hovertemplate\":\"color=Pharmaceutical Preparations<br>0=%{x}<br>1=%{y}<br>name=%{customdata[0]}<br>industry=%{customdata[1]}<extra></extra>\",\"legendgroup\":\"Pharmaceutical Preparations\",\"marker\":{\"color\":\"#00cc96\",\"symbol\":\"circle\"},\"mode\":\"markers\",\"name\":\"Pharmaceutical Preparations\",\"orientation\":\"v\",\"showlegend\":true,\"type\":\"scatter\",\"x\":[7.1472554206848145,4.8398308753967285,3.8125617504119873,7.062637805938721,4.342325687408447,2.529646635055542,2.4022276401519775,8.975658416748047,5.287420272827148,0.0014502466656267643,0.12061052769422531,6.471107482910156,8.875487327575684,7.419072151184082,4.2007951736450195,-4.611718654632568,-0.4333934783935547,-0.20937614142894745,16.033191680908203,2.2163138389587402,5.667092323303223,7.975491046905518,8.539560317993164,9.318485260009766,7.306340217590332,8.402472496032715,3.169231414794922,-0.4974548816680908,13.40435791015625,10.115333557128906,3.0997159481048584,5.594014644622803,10.174090385437012,10.404949188232422,12.59782886505127,4.876401901245117,10.803862571716309,-0.8595438599586487,4.663023471832275,4.84438943862915,11.735240936279297,15.138833045959473,4.722601890563965,6.3433027267456055,0.2520819902420044,15.281221389770508,15.559150695800781,8.41652774810791,13.543177604675293,11.91261100769043,16.648176193237305,20.790512084960938,6.775458812713623,13.399819374084473,10.680538177490234,9.878888130187988,1.6790248155593872,17.32182502746582,-0.38227561116218567,3.311040163040161,15.38819694519043,11.784460067749023,12.896665573120117,12.966362953186035,10.457948684692383,-0.6561487317085266,11.85584831237793,15.193745613098145,13.305049896240234,12.845398902893066,12.009507179260254,10.72836685180664,12.752036094665527,11.165312767028809,7.260679244995117,18.659414291381836,15.92952823638916,12.307195663452148,5.367313861846924,12.841548919677734,13.90893840789795,12.901349067687988,6.388678550720215,8.058955192565918,0.20363251864910126,11.397330284118652,9.479397773742676,4.500385284423828,12.267298698425293,15.766249656677246,14.016778945922852,12.368799209594727,9.276684761047363,18.96493148803711,15.347466468811035,14.437152862548828,12.524007797241211,15.406055450439453,12.41809368133545,16.595428466796875,9.678400993347168,15.28291130065918,10.448149681091309,8.514301300048828,16.05670928955078,4.436563968658447,9.875205039978027,8.490970611572266,9.482471466064453,14.218863487243652,2.2898385524749756,8.483525276184082,13.81004524230957,15.388978004455566,7.410682201385498,7.889310836791992,14.838448524475098,12.123435974121094,1.128569483757019,-0.23079487681388855,16.550954818725586,15.09791088104248,14.205424308776855,8.941410064697266,3.549909830093384,13.915740966796875,12.818374633789062,7.439455986022949,11.402095794677734,12.636373519897461,14.665656089782715,15.200759887695312,16.11152458190918,16.975984573364258,17.262205123901367,12.429720878601074,10.89189338684082,7.63364315032959,7.148709774017334,11.987629890441895,12.582998275756836,11.143302917480469,11.656891822814941,3.86850643157959,4.74172830581665,8.996159553527832,10.080071449279785,11.085030555725098,11.255291938781738,3.129417657852173,6.506316661834717,5.257420063018799,13.568703651428223,11.753182411193848,10.874488830566406,9.850908279418945,11.112208366394043,4.883549213409424,0.01569630764424801,0.6753013134002686,8.584775924682617,5.171065330505371,12.207008361816406,9.47313117980957,10.865392684936523,14.087724685668945,12.580403327941895,6.560503959655762,11.110671043395996,13.862824440002441,9.569746971130371,13.489069938659668,7.187744140625,14.348292350769043,4.751251220703125,4.493077754974365,7.757638454437256,9.848356246948242,5.594753742218018,12.366744995117188,6.844776153564453,7.588216304779053,3.5613999366760254,13.487248420715332,5.524033069610596,9.502334594726562,5.49198579788208,14.453678131103516,13.667451858520508,3.873758554458618,11.153197288513184,16.42152214050293,11.6758394241333,5.942215919494629,6.460662364959717,4.340338706970215,6.89655876159668,14.122777938842773,4.842182636260986,0.6563760638237,14.355530738830566,10.76625919342041,8.188838958740234,11.508536338806152,10.741503715515137,10.245753288269043,12.759729385375977,-2.3812038898468018],\"xaxis\":\"x\",\"y\":[-2.024188995361328,2.18788480758667,-0.6299566030502319,-0.6631607413291931,-2.8717947006225586,-0.9038492441177368,-1.081731915473938,-2.2367327213287354,-0.18061503767967224,2.078368902206421,1.4846645593643188,-2.5204684734344482,-1.6800068616867065,-0.7512708306312561,-0.3577965795993805,0.9938271641731262,0.321828156709671,0.09940438717603683,-1.6824578046798706,-1.336189866065979,2.7966554164886475,-2.144176483154297,-1.5168343782424927,-2.257141590118408,-1.0266335010528564,-0.2055502086877823,-1.861142873764038,-0.13178080320358276,0.6446810960769653,-2.513704299926758,-0.014029002748429775,-1.164421558380127,0.6628013253211975,0.39664411544799805,-1.298485517501831,-0.4028705656528473,-0.44093218445777893,-0.0757676362991333,0.7614300847053528,-1.3192905187606812,-1.7089329957962036,-2.2630810737609863,-0.08927278220653534,0.22625461220741272,3.7696993350982666,0.6829245090484619,1.2020790576934814,-0.5834694504737854,-0.012068033218383789,0.48554134368896484,-3.0262722969055176,4.884088039398193,-0.48630812764167786,-0.7769545912742615,-2.505927801132202,-0.5927084684371948,0.5038862824440002,2.648056983947754,0.7344724535942078,-0.7652329206466675,1.488403558731079,0.9632559418678284,-0.6396747827529907,-3.2445714473724365,0.4999764859676361,-0.06540942192077637,-1.510223150253296,0.3798736035823822,1.510218620300293,-3.0953216552734375,0.1360367238521576,0.5453362464904785,-1.4121772050857544,-1.5385082960128784,-0.005353383719921112,-0.4796415865421295,0.5153525471687317,-1.130086064338684,0.5899609327316284,-1.0809019804000854,-2.878176689147949,-4.135928630828857,-0.5421472787857056,-1.1600604057312012,0.1280057430267334,-0.871074914932251,-2.1731746196746826,0.3007410764694214,-1.7300450801849365,-2.979405164718628,-1.9568055868148804,-2.9901833534240723,-1.1038841009140015,1.305918574333191,-1.760645866394043,-2.3585352897644043,0.7396528720855713,-5.255055904388428,0.102226123213768,-3.232020616531372,-0.22167056798934937,-2.497114658355713,-1.451136589050293,-0.7746079564094543,-2.039058208465576,-0.11727861315011978,-0.5713261365890503,-0.8439037799835205,0.5576838254928589,2.090538501739502,-0.24587135016918182,-2.001030683517456,-2.568915605545044,-4.135149955749512,-2.975446939468384,-0.969606876373291,-4.105697154998779,-4.560952663421631,-0.46615007519721985,-1.711917757987976,0.44643634557724,-5.821298599243164,-1.3461095094680786,-0.26917216181755066,-0.13966304063796997,-2.518681049346924,-2.0623345375061035,-1.9365015029907227,0.33094528317451477,-1.108733057975769,-0.5568127632141113,-0.3479200303554535,-0.1607884168624878,-0.5281364917755127,-0.429900199174881,-5.2249298095703125,-1.8617026805877686,-0.8711965084075928,-0.3099273145198822,-3.104238986968994,-2.7224202156066895,-2.6482396125793457,-4.9039225578308105,1.7379605770111084,1.4470655918121338,-0.19305750727653503,0.2298121452331543,0.5921078324317932,0.6252870559692383,-0.05536239221692085,0.6294328570365906,-1.6247364282608032,0.6013779640197754,0.44057679176330566,-0.30773982405662537,-0.7343478202819824,-1.5775865316390991,-2.1268413066864014,-1.6676745414733887,-0.8022990226745605,-2.4703876972198486,-1.1588044166564941,-1.8076101541519165,-0.6842703223228455,-3.028473377227783,-3.3574941158294678,-3.150158643722534,0.4693935215473175,-2.8015286922454834,-2.0352492332458496,-3.2313663959503174,-0.9755653738975525,-2.2656216621398926,-2.760826349258423,-1.3435999155044556,-1.3433266878128052,-1.7944207191467285,-2.5690414905548096,0.2581847906112671,-3.096445322036743,-0.8947330713272095,-0.2440570890903473,0.013041319325566292,0.9807679057121277,-0.09258230030536652,-1.4610698223114014,-2.822415828704834,-3.1245033740997314,-4.875511169433594,-2.298635721206665,-3.480351209640503,-0.7593113780021667,-2.9721667766571045,-2.700164794921875,-2.1839890480041504,-0.27130305767059326,-0.557087242603302,-3.3334763050079346,-0.14973725378513336,0.019665274769067764,-2.6156201362609863,-2.962618350982666,-3.032376289367676,-1.9264899492263794,-3.093773603439331,-5.540722846984863,-2.534576892852783,2.4734485149383545],\"yaxis\":\"y\"},{\"customdata\":[[\"INVESTORS REAL ESTATE TRUST\",\"Real Estate Investment Trusts\"],[\"BRT APARTMENTS CORP.\",\"Real Estate Investment Trusts\"],[\"MONMOUTH REAL ESTATE INVESTMENT CORP\",\"Real Estate Investment Trusts\"],[\"FIRST REAL ESTATE INVESTMENT TRUST OF NEW JERSEY\",\"Real Estate Investment Trusts\"],[\"FIRST REAL ESTATE INVESTMENT TRUST OF NEW JERSEY\",\"Real Estate Investment Trusts\"],[\"URSTADT BIDDLE PROPERTIES INC\",\"Real Estate Investment Trusts\"],[\"URSTADT BIDDLE PROPERTIES INC\",\"Real Estate Investment Trusts\"],[\"PHILLIPS EDISON & COMPANY, INC.\",\"Real Estate Investment Trusts\"],[\"SL GREEN REALTY CORP\",\"Real Estate Investment Trusts\"],[\"CUBESMART\",\"Real Estate Investment Trusts\"],[\"CIM COMMERCIAL TRUST CORP\",\"Real Estate Investment Trusts\"],[\"CERES TACTICAL SYSTEMATIC L.P.\",\"Real Estate Investment Trusts\"],[\"PS BUSINESS PARKS INC/CA\",\"Real Estate Investment Trusts\"],[\"STEADFAST INCOME REIT, INC.\",\"Real Estate Investment Trusts\"],[\"RETAIL OPPORTUNITY INVESTMENTS CORP\",\"Real Estate Investment Trusts\"],[\"MORGAN STANLEY SMITH BARNEY SPECTRUM SELECT LP\",\"Real Estate Investment Trusts\"],[\"NEW YORK MORTGAGE TRUST INC\",\"Real Estate Investment Trusts\"],[\"CBL & ASSOCIATES PROPERTIES INC\",\"Real Estate Investment Trusts\"],[\"LEXINGTON REALTY TRUST\",\"Real Estate Investment Trusts\"],[\"BRANDYWINE REALTY TRUST\",\"Real Estate Investment Trusts\"],[\"LAMAR ADVERTISING CO/NEW\",\"Real Estate Investment Trusts\"],[\"JBG SMITH PROPERTIES\",\"Real Estate Investment Trusts\"],[\"KBS REAL ESTATE INVESTMENT TRUST III, INC.\",\"Real Estate Investment Trusts\"],[\"CAPSTEAD MORTGAGE CORP\",\"Real Estate Investment Trusts\"],[\"GGP INC.\",\"Real Estate Investment Trusts\"],[\"QTS REALTY TRUST, INC.\",\"Real Estate Investment Trusts\"],[\"WELLS FARGO REAL ESTATE INVESTMENT CORP.\",\"Real Estate Investment Trusts\"],[\"LIGHTSTONE VALUE PLUS REAL ESTATE INVESTMENT TRUST V, INC.\",\"Real Estate Investment Trusts\"],[\"RESOURCE APARTMENT REIT III, INC.\",\"Real Estate Investment Trusts\"],[\"CNL HEALTHCARE PROPERTIES, INC.\",\"Real Estate Investment Trusts\"],[\"RETAIL PROPERTIES OF AMERICA, INC.\",\"Real Estate Investment Trusts\"],[\"BOSTON PROPERTIES INC\",\"Real Estate Investment Trusts\"],[\"REGENCY CENTERS CORP\",\"Real Estate Investment Trusts\"],[\"NATIONAL HEALTH INVESTORS INC\",\"Real Estate Investment Trusts\"],[\"DRIVE SHACK INC.\",\"Real Estate Investment Trusts\"],[\"COLE CREDIT PROPERTY TRUST V, INC.\",\"Real Estate Investment Trusts\"],[\"EQUITY RESIDENTIAL\",\"Real Estate Investment Trusts\"],[\"KITE REALTY GROUP TRUST\",\"Real Estate Investment Trusts\"],[\"OUTFRONT MEDIA INC.\",\"Real Estate Investment Trusts\"],[\"PENNSYLVANIA REAL ESTATE INVESTMENT TRUST\",\"Real Estate Investment Trusts\"],[\"COLE REAL ESTATE INCOME STRATEGY (DAILY NAV), INC.\",\"Real Estate Investment Trusts\"],[\"REALTY INCOME CORP\",\"Real Estate Investment Trusts\"],[\"GLOBAL MEDICAL REIT INC.\",\"Real Estate Investment Trusts\"],[\"PILLARSTONE CAPITAL REIT\",\"Real Estate Investment Trusts\"],[\"CLIPPER REALTY INC.\",\"Real Estate Investment Trusts\"],[\"BLACK CREEK INDUSTRIAL REIT IV INC.\",\"Real Estate Investment Trusts\"],[\"LIGHTSTONE VALUE PLUS REAL ESTATE INVESTMENT TRUST, INC.\",\"Real Estate Investment Trusts\"],[\"KKR REAL ESTATE FINANCE TRUST INC.\",\"Real Estate Investment Trusts\"],[\"GEO GROUP INC\",\"Real Estate Investment Trusts\"],[\"AMERICAN ASSETS TRUST, INC.\",\"Real Estate Investment Trusts\"],[\"IMPAC MORTGAGE HOLDINGS INC\",\"Real Estate Investment Trusts\"],[\"CNL HEALTHCARE PROPERTIES II, INC.\",\"Real Estate Investment Trusts\"],[\"ANWORTH MORTGAGE ASSET CORP\",\"Real Estate Investment Trusts\"],[\"LIGHTSTONE VALUE PLUS REAL ESTATE INVESTMENT TRUST III, INC.\",\"Real Estate Investment Trusts\"],[\"AMERICAN FINANCE TRUST, INC\",\"Real Estate Investment Trusts\"],[\"EQUITY COMMONWEALTH\",\"Real Estate Investment Trusts\"],[\"FOUR CORNERS PROPERTY TRUST, INC.\",\"Real Estate Investment Trusts\"],[\"RAYONIER INC\",\"Real Estate Investment Trusts\"],[\"HOST HOTELS & RESORTS, INC.\",\"Real Estate Investment Trusts\"],[\"GAMING & LEISURE PROPERTIES, INC.\",\"Real Estate Investment Trusts\"],[\"NATIONAL RETAIL PROPERTIES, INC.\",\"Real Estate Investment Trusts\"],[\"SENIOR HOUSING PROPERTIES TRUST\",\"Real Estate Investment Trusts\"],[\"SUTHERLAND ASSET MANAGEMENT CORP\",\"Real Estate Investment Trusts\"],[\"TAUBMAN CENTERS INC\",\"Real Estate Investment Trusts\"],[\"RESOURCE REAL ESTATE OPPORTUNITY REIT, INC.\",\"Real Estate Investment Trusts\"],[\"TANGER FACTORY OUTLET CENTERS INC\",\"Real Estate Investment Trusts\"],[\"MFA FINANCIAL, INC.\",\"Real Estate Investment Trusts\"],[\"TERRA SECURED INCOME FUND 5, LLC\",\"Real Estate Investment Trusts\"],[\"SBA COMMUNICATIONS CORP\",\"Real Estate Investment Trusts\"],[\"LIGHTSTONE VALUE PLUS REAL ESTATE INVESTMENT TRUST II INC\",\"Real Estate Investment Trusts\"],[\"JONES LANG LASALLE INCOME PROPERTY TRUST, INC.\",\"Real Estate Investment Trusts\"],[\"AVALONBAY COMMUNITIES INC\",\"Real Estate Investment Trusts\"],[\"ARES COMMERCIAL REAL ESTATE CORP\",\"Real Estate Investment Trusts\"],[\"CARTER VALIDUS MISSION CRITICAL REIT II, INC.\",\"Real Estate Investment Trusts\"],[\"PHYSICIANS REALTY TRUST\",\"Real Estate Investment Trusts\"],[\"PROLOGIS, INC.\",\"Real Estate Investment Trusts\"],[\"ARMOUR RESIDENTIAL REIT, INC.\",\"Real Estate Investment Trusts\"],[\"CHERRY HILL MORTGAGE INVESTMENT CORP\",\"Real Estate Investment Trusts\"],[\"EMPIRE STATE REALTY TRUST, INC.\",\"Real Estate Investment Trusts\"],[\"PUBLIC STORAGE\",\"Real Estate Investment Trusts\"],[\"APARTMENT INVESTMENT & MANAGEMENT CO\",\"Real Estate Investment Trusts\"],[\"CEDAR REALTY TRUST, INC.\",\"Real Estate Investment Trusts\"],[\"HIGHLANDS REIT, INC.\",\"Real Estate Investment Trusts\"],[\"IRON MOUNTAIN INC\",\"Real Estate Investment Trusts\"],[\"SOTHERLY HOTELS INC.\",\"Real Estate Investment Trusts\"],[\"EMPIRE STATE REALTY OP, L.P.\",\"Real Estate Investment Trusts\"],[\"ESSEX PROPERTY TRUST INC\",\"Real Estate Investment Trusts\"],[\"WEINGARTEN REALTY INVESTORS /TX/\",\"Real Estate Investment Trusts\"],[\"CONDOR HOSPITALITY TRUST, INC.\",\"Real Estate Investment Trusts\"],[\"CITY OFFICE REIT, INC.\",\"Real Estate Investment Trusts\"],[\"BENEFIT STREET PARTNERS REALTY TRUST, INC.\",\"Real Estate Investment Trusts\"],[\"LIGHTSTONE REAL ESTATE INCOME TRUST INC.\",\"Real Estate Investment Trusts\"],[\"AMERICAN CAMPUS COMMUNITIES INC\",\"Real Estate Investment Trusts\"],[\"STARWOOD PROPERTY TRUST, INC.\",\"Real Estate Investment Trusts\"],[\"CORESITE REALTY CORP\",\"Real Estate Investment Trusts\"],[\"POTLATCH CORP\",\"Real Estate Investment Trusts\"],[\"CORPORATE OFFICE PROPERTIES TRUST\",\"Real Estate Investment Trusts\"],[\"RAMCO GERSHENSON PROPERTIES TRUST\",\"Real Estate Investment Trusts\"],[\"NATIONAL STORAGE AFFILIATES TRUST\",\"Real Estate Investment Trusts\"],[\"HERSHA HOSPITALITY TRUST\",\"Real Estate Investment Trusts\"],[\"JERNIGAN CAPITAL, INC.\",\"Real Estate Investment Trusts\"],[\"VORNADO REALTY TRUST\",\"Real Estate Investment Trusts\"],[\"ISTAR INC.\",\"Real Estate Investment Trusts\"],[\"ALEXANDER & BALDWIN, INC.\",\"Real Estate Investment Trusts\"],[\"HOSPITALITY INVESTORS TRUST, INC.\",\"Real Estate Investment Trusts\"],[\"SAUL CENTERS INC\",\"Real Estate Investment Trusts\"],[\"KBS GROWTH & INCOME REIT, INC.\",\"Real Estate Investment Trusts\"],[\"EXTRA SPACE STORAGE INC.\",\"Real Estate Investment Trusts\"],[\"CHESAPEAKE LODGING TRUST\",\"Real Estate Investment Trusts\"],[\"LTC PROPERTIES INC\",\"Real Estate Investment Trusts\"],[\"EASTERLY GOVERNMENT PROPERTIES, INC.\",\"Real Estate Investment Trusts\"],[\"PLYMOUTH INDUSTRIAL REIT INC.\",\"Real Estate Investment Trusts\"],[\"FRANKLIN STREET PROPERTIES CORP /MA/\",\"Real Estate Investment Trusts\"],[\"HEALTHCARE TRUST OF AMERICA, INC.\",\"Real Estate Investment Trusts\"],[\"REALSOURCE RESIDENTIAL, INC\",\"Real Estate Investment Trusts\"],[\"CARTER VALIDUS MISSION CRITICAL REIT, INC.\",\"Real Estate Investment Trusts\"],[\"SUN COMMUNITIES INC\",\"Real Estate Investment Trusts\"],[\"FIRST EQUITY PROPERTIES INC\",\"Real Estate Investment Trusts\"],[\"MID AMERICA APARTMENT COMMUNITIES INC\",\"Real Estate Investment Trusts\"],[\"BROOKFIELD DTLA FUND OFFICE TRUST INVESTOR INC.\",\"Real Estate Investment Trusts\"],[\"ANNALY CAPITAL MANAGEMENT INC\",\"Real Estate Investment Trusts\"],[\"WHEELER REAL ESTATE INVESTMENT TRUST, INC.\",\"Real Estate Investment Trusts\"],[\"ALEXANDRIA REAL ESTATE EQUITIES INC\",\"Real Estate Investment Trusts\"],[\"HIGHWOODS PROPERTIES INC\",\"Real Estate Investment Trusts\"],[\"KIMCO REALTY CORP\",\"Real Estate Investment Trusts\"],[\"INDEPENDENCE REALTY TRUST, INC.\",\"Real Estate Investment Trusts\"],[\"PREFERRED APARTMENT COMMUNITIES INC\",\"Real Estate Investment Trusts\"],[\"ELLINGTON RESIDENTIAL MORTGAGE REIT\",\"Real Estate Investment Trusts\"],[\"CORECIVIC, INC.\",\"Real Estate Investment Trusts\"],[\"ASHFORD HOSPITALITY PRIME, INC.\",\"Real Estate Investment Trusts\"],[\"LIFE STORAGE, INC.\",\"Real Estate Investment Trusts\"],[\"HEALTHCARE REALTY TRUST INC\",\"Real Estate Investment Trusts\"],[\"WINTHROP REALTY LIQUIDATING TRUST\",\"Real Estate Investment Trusts\"],[\"CORENERGY INFRASTRUCTURE TRUST, INC.\",\"Real Estate Investment Trusts\"],[\"KBS STRATEGIC OPPORTUNITY REIT II, INC.\",\"Real Estate Investment Trusts\"],[\"PEBBLEBROOK HOTEL TRUST\",\"Real Estate Investment Trusts\"],[\"SABRA HEALTH CARE REIT, INC.\",\"Real Estate Investment Trusts\"],[\"POWER REIT\",\"Real Estate Investment Trusts\"],[\"DYNEX CAPITAL INC\",\"Real Estate Investment Trusts\"],[\"DIGITAL REALTY TRUST, INC.\",\"Real Estate Investment Trusts\"],[\"STRATEGIC REALTY TRUST, INC.\",\"Real Estate Investment Trusts\"],[\"COLE OFFICE & INDUSTRIAL REIT (CCIT III), INC.\",\"Real Estate Investment Trusts\"],[\"HEALTHCARE TRUST, INC.\",\"Real Estate Investment Trusts\"],[\"LADDER CAPITAL CORP\",\"Real Estate Investment Trusts\"],[\"CROWN CASTLE INTERNATIONAL CORP\",\"Real Estate Investment Trusts\"],[\"HOWARD HUGHES CORP\",\"Real Estate Investment Trusts\"],[\"ALEXANDERS INC\",\"Real Estate Investment Trusts\"],[\"MANHATTAN BRIDGE CAPITAL, INC\",\"Real Estate Investment Trusts\"],[\"INLAND REAL ESTATE INCOME TRUST, INC.\",\"Real Estate Investment Trusts\"],[\"INLAND RESIDENTIAL PROPERTIES TRUST, INC.\",\"Real Estate Investment Trusts\"],[\"INLAND RESIDENTIAL PROPERTIES TRUST, INC.\",\"Real Estate Investment Trusts\"],[\"KBS REAL ESTATE INVESTMENT TRUST II, INC.\",\"Real Estate Investment Trusts\"],[\"RESOURCE REAL ESTATE OPPORTUNITY REIT II, INC.\",\"Real Estate Investment Trusts\"],[\"STEADFAST APARTMENT REIT III, INC.\",\"Real Estate Investment Trusts\"],[\"ACADIA REALTY TRUST\",\"Real Estate Investment Trusts\"],[\"HMG COURTLAND PROPERTIES INC\",\"Real Estate Investment Trusts\"],[\"COLE CREDIT PROPERTY TRUST IV, INC.\",\"Real Estate Investment Trusts\"],[\"FIVE OAKS INVESTMENT CORP.\",\"Real Estate Investment Trusts\"],[\"NEXPOINT RESIDENTIAL TRUST, INC.\",\"Real Estate Investment Trusts\"],[\"TWO HARBORS INVESTMENT CORP.\",\"Real Estate Investment Trusts\"],[\"WASHINGTON PRIME GROUP INC.\",\"Real Estate Investment Trusts\"],[\"TIER REIT INC\",\"Real Estate Investment Trusts\"],[\"GRANITE POINT MORTGAGE TRUST INC.\",\"Real Estate Investment Trusts\"],[\"GREAT AJAX CORP.\",\"Real Estate Investment Trusts\"],[\"DUKE REALTY CORP\",\"Real Estate Investment Trusts\"],[\"EASTGROUP PROPERTIES INC\",\"Real Estate Investment Trusts\"],[\"STEADFAST APARTMENT REIT, INC.\",\"Real Estate Investment Trusts\"],[\"RECKSON OPERATING PARTNERSHIP LP\",\"Real Estate Investment Trusts\"],[\"GLOBAL NET LEASE, INC.\",\"Real Estate Investment Trusts\"],[\"KBS STRATEGIC OPPORTUNITY REIT, INC.\",\"Real Estate Investment Trusts\"],[\"WHITESTONE REIT\",\"Real Estate Investment Trusts\"],[\"GRIFFIN CAPITAL ESSENTIAL ASSET REIT II, INC.\",\"Real Estate Investment Trusts\"],[\"UDR, INC.\",\"Real Estate Investment Trusts\"],[\"COMMUNITY HEALTHCARE TRUST INC\",\"Real Estate Investment Trusts\"],[\"VENTAS INC\",\"Real Estate Investment Trusts\"],[\"OWENS REALTY MORTGAGE, INC.\",\"Real Estate Investment Trusts\"],[\"KILROY REALTY CORP\",\"Real Estate Investment Trusts\"],[\"SUMMIT HOTEL PROPERTIES, INC.\",\"Real Estate Investment Trusts\"],[\"CORPORATE PROPERTY ASSOCIATES 18 GLOBAL INC\",\"Real Estate Investment Trusts\"],[\"CYRUSONE INC.\",\"Real Estate Investment Trusts\"],[\"COLONY NORTHSTAR, INC.\",\"Real Estate Investment Trusts\"],[\"FEDERAL REALTY INVESTMENT TRUST\",\"Real Estate Investment Trusts\"],[\"NEW SENIOR INVESTMENT GROUP INC.\",\"Real Estate Investment Trusts\"],[\"RYMAN HOSPITALITY PROPERTIES, INC.\",\"Real Estate Investment Trusts\"],[\"BRIXMOR PROPERTY GROUP INC.\",\"Real Estate Investment Trusts\"],[\"COLE OFFICE & INDUSTRIAL REIT (CCIT II), INC.\",\"Real Estate Investment Trusts\"],[\"OMEGA HEALTHCARE INVESTORS INC\",\"Real Estate Investment Trusts\"],[\"REVEN HOUSING REIT, INC.\",\"Real Estate Investment Trusts\"],[\"AMERICAN REALTY CAPITAL NEW YORK CITY REIT, INC.\",\"Real Estate Investment Trusts\"],[\"STAG INDUSTRIAL, INC.\",\"Real Estate Investment Trusts\"],[\"EQUINIX INC\",\"Real Estate Investment Trusts\"]],\"hovertemplate\":\"color=Real Estate Investment Trusts<br>0=%{x}<br>1=%{y}<br>name=%{customdata[0]}<br>industry=%{customdata[1]}<extra></extra>\",\"legendgroup\":\"Real Estate Investment Trusts\",\"marker\":{\"color\":\"#ab63fa\",\"symbol\":\"circle\"},\"mode\":\"markers\",\"name\":\"Real Estate Investment Trusts\",\"orientation\":\"v\",\"showlegend\":true,\"type\":\"scatter\",\"x\":[-4.418213844299316,-6.2507147789001465,-6.442216873168945,-3.6182444095611572,-3.5806710720062256,-4.636161804199219,-4.180598735809326,-2.4468648433685303,-5.615058898925781,-3.960747480392456,-6.52202033996582,-8.235898971557617,-5.173506259918213,-3.795701503753662,-4.234597206115723,-4.056482315063477,-5.365046501159668,-6.517790794372559,-3.5913002490997314,-4.846604347229004,-3.991870641708374,-3.2198264598846436,-1.8715392351150513,-2.3444900512695312,-1.95724618434906,-3.6655359268188477,-6.544082164764404,-8.998675346374512,-1.8417726755142212,-6.684086322784424,-3.9017386436462402,-5.118752479553223,-3.059934139251709,-3.7935807704925537,-1.5566620826721191,-6.208493232727051,-3.3779468536376953,-3.503615617752075,-0.7422289848327637,-4.707883358001709,-6.184938907623291,-6.944693565368652,-0.1251574605703354,-3.5769143104553223,-7.086497783660889,-2.5217981338500977,-0.7392352223396301,-4.605696201324463,-6.130697250366211,-3.243748188018799,-8.905488014221191,-3.43949031829834,-8.18398666381836,-0.6251664161682129,-3.282891035079956,-2.8140487670898438,-5.10439920425415,-7.184992790222168,-6.11944580078125,-6.356757640838623,-3.876986026763916,-2.7084834575653076,-7.623188018798828,-3.9946820735931396,-1.2595833539962769,-2.3520939350128174,-4.236505031585693,-4.343327522277832,-6.62170934677124,-0.6318846940994263,-2.874089002609253,-2.968914270401001,-3.130309581756592,-3.8711533546447754,-0.026699962094426155,-4.001837253570557,-4.094397068023682,-4.833277225494385,-4.732752799987793,-0.565677285194397,-5.091195106506348,-5.636305332183838,-4.244269371032715,-2.137192964553833,-6.108635902404785,-6.531883716583252,-4.271141052246094,-2.2161178588867188,-4.5273518562316895,-6.325754642486572,-4.349332332611084,-0.6441056728363037,-4.361779689788818,-7.203854560852051,-6.99284029006958,-4.358200550079346,-4.555442810058594,-2.1336686611175537,-6.839933395385742,-5.039207935333252,-5.785789966583252,-2.2984561920166016,-3.5227725505828857,-4.640918254852295,-3.7235097885131836,-5.638176918029785,-1.9785250425338745,-2.8845441341400146,-3.5964717864990234,-3.8901383876800537,-3.5340797901153564,-1.1472495794296265,-4.038751602172852,-0.9184296727180481,-1.1670992374420166,-3.3227462768554688,-4.005660057067871,-1.157848834991455,-2.738193988800049,-3.5240085124969482,-0.7751365900039673,-5.786606788635254,-3.9886696338653564,-1.2447073459625244,-4.654119968414307,-5.155158042907715,-7.962436676025391,-8.625781059265137,-8.756349563598633,-11.089776039123535,-5.400699138641357,-2.1899707317352295,-3.3677592277526855,-6.612330436706543,-3.336252212524414,-3.627603769302368,-4.585480213165283,-2.3660082817077637,-7.266115665435791,-5.470718860626221,-2.1257874965667725,-6.232250690460205,-2.0910894870758057,-7.996330738067627,-8.516854286193848,-4.484771728515625,-1.6719112396240234,-5.373473167419434,-2.427081346511841,-2.8440585136413574,-2.7665700912475586,-1.8364924192428589,-1.8288401365280151,-3.452773332595825,-3.8802809715270996,-1.048771858215332,-5.6746506690979,-3.959838628768921,-5.809529781341553,-6.5045671463012695,-6.513242721557617,-3.338651657104492,-5.589500904083252,-6.062911510467529,-0.9378446936607361,-6.084886074066162,-3.587599992752075,-0.925884485244751,-1.450478434562683,-2.0046920776367188,-1.8522394895553589,-4.0753583908081055,-3.311751365661621,-1.4155021905899048,-2.220163106918335,-5.681882858276367,-4.378879547119141,-5.279357433319092,-1.6681307554244995,-4.510183334350586,-2.681751012802124,-2.646820068359375,-3.1065666675567627,-6.155986309051514,-3.89176344871521,-6.085372447967529,-4.276360511779785,-7.911825180053711,-3.3482048511505127,-3.277874708175659,-5.094273090362549],\"xaxis\":\"x\",\"y\":[0.06164701282978058,-0.10599028319120407,1.814867377281189,-1.1179767847061157,-0.9508972764015198,2.1640982627868652,2.240579843521118,0.4543752074241638,2.640942096710205,3.734924793243408,1.1132827997207642,1.6392790079116821,2.7756409645080566,3.028104543685913,0.7537747025489807,1.6563774347305298,-3.1586174964904785,4.371387004852295,2.78475022315979,6.146302223205566,5.382441520690918,5.516754627227783,2.1779885292053223,-1.2761666774749756,2.496493101119995,4.170578956604004,-2.7905731201171875,4.470027446746826,1.3652220964431763,2.3924522399902344,1.9687708616256714,0.9156874418258667,3.368133068084717,0.8793304562568665,3.9865732192993164,3.7379753589630127,1.8941630125045776,3.1128652095794678,2.80322265625,6.1872429847717285,0.5816662311553955,2.2717394828796387,0.3528806269168854,0.5103223919868469,5.609936714172363,0.1675703525543213,0.033591561019420624,-0.7503286600112915,4.909090518951416,4.120817184448242,-7.065771102905273,2.8730759620666504,-3.264824867248535,-0.09104225784540176,2.1283011436462402,3.002861499786377,5.851630687713623,8.045251846313477,9.880810737609863,6.38026237487793,1.9118518829345703,1.1020196676254272,-6.246862888336182,6.6049580574035645,0.7001254558563232,3.8618123531341553,-2.9092094898223877,-2.5571300983428955,7.984724044799805,-0.08566109836101532,0.679513692855835,2.4769272804260254,-2.4382834434509277,0.8158950805664062,0.4456043541431427,2.8693628311157227,-0.5180689096450806,-0.35291796922683716,7.421706199645996,-0.060640327632427216,2.6930675506591797,3.733734369277954,1.6064759492874146,3.809870958328247,7.16152811050415,7.240516185760498,1.6885582208633423,0.4941650927066803,2.9533181190490723,5.832708358764648,-2.7543084621429443,-0.07876583188772202,3.185580015182495,-2.9444360733032227,8.009483337402344,7.284325122833252,2.289410352706909,1.6721822023391724,3.928611993789673,4.95416784286499,1.1379703283309937,2.702036142349243,-0.9878876805305481,6.048977851867676,4.0998945236206055,0.648356556892395,-0.05690173804759979,2.067791700363159,4.946186065673828,-0.688687264919281,2.1185226440429688,2.2429087162017822,0.5832720398902893,2.6944806575775146,0.2827906310558319,1.5373656749725342,3.268258571624756,-0.5083198547363281,2.3528754711151123,2.127800703048706,0.06460240483283997,1.7007759809494019,2.7321624755859375,-0.22590400278568268,1.2203421592712402,2.3611831665039062,4.452352046966553,-2.4407689571380615,2.714146852493286,5.637230396270752,2.0419647693634033,0.6599647402763367,-0.09000511467456818,4.789183616638184,0.18144237995147705,4.115466594696045,0.6716916561126709,1.0924724340438843,-2.328371286392212,5.600884437561035,1.6233075857162476,1.6037951707839966,1.3172714710235596,-2.700465202331543,8.014779090881348,4.801371097564697,1.374951720237732,-3.270158290863037,0.8888993859291077,2.1131680011749268,1.0665642023086548,1.8717745542526245,0.615803062915802,1.7778862714767456,2.0747225284576416,0.13868935406208038,2.424757242202759,-2.1109561920166016,3.9162023067474365,-3.021209716796875,5.349883556365967,-0.024082032963633537,-1.7090423107147217,-0.33835649490356445,1.7014257907867432,0.5492904782295227,2.091693878173828,0.5376237630844116,1.5443840026855469,0.8167442083358765,2.7864739894866943,3.3801426887512207,2.8731491565704346,0.09007322788238525,-0.1209346204996109,-4.498281478881836,6.430974960327148,4.315982818603516,0.14111971855163574,6.188653945922852,-0.8221544623374939,1.3979477882385254,-0.39611294865608215,4.814331531524658,1.6903241872787476,1.3735252618789673,1.5727856159210205,0.9738763570785522,0.7739881277084351,2.72717547416687,3.2012767791748047],\"yaxis\":\"y\"},{\"customdata\":[[\"TOMPKINS FINANCIAL CORP\",\"State Commercial Banks (commercial banking)\"],[\"TRIUMPH BANCORP, INC.\",\"State Commercial Banks (commercial banking)\"],[\"GREAT SOUTHERN BANCORP, INC.\",\"State Commercial Banks (commercial banking)\"],[\"SOUTH STATE CORP\",\"State Commercial Banks (commercial banking)\"],[\"OLD LINE BANCSHARES INC\",\"State Commercial Banks (commercial banking)\"],[\"SEACOAST BANKING CORP OF FLORIDA\",\"State Commercial Banks (commercial banking)\"],[\"CITIZENS FINANCIAL GROUP INC/RI\",\"State Commercial Banks (commercial banking)\"],[\"COMMUNITY WEST BANCSHARES /\",\"State Commercial Banks (commercial banking)\"],[\"MACKINAC FINANCIAL CORP /MI/\",\"State Commercial Banks (commercial banking)\"],[\"UNITY BANCORP INC /NJ/\",\"State Commercial Banks (commercial banking)\"],[\"UNITY BANCORP INC /NJ/\",\"State Commercial Banks (commercial banking)\"],[\"EAST WEST BANCORP INC\",\"State Commercial Banks (commercial banking)\"],[\"HEARTLAND FINANCIAL USA INC\",\"State Commercial Banks (commercial banking)\"],[\"COUNTY BANCORP, INC.\",\"State Commercial Banks (commercial banking)\"],[\"CHEMUNG FINANCIAL CORP\",\"State Commercial Banks (commercial banking)\"],[\"BRYN MAWR BANK CORP\",\"State Commercial Banks (commercial banking)\"],[\"EAGLE BANCORP MONTANA, INC.\",\"State Commercial Banks (commercial banking)\"],[\"1ST SOURCE CORP\",\"State Commercial Banks (commercial banking)\"],[\"SERVISFIRST BANCSHARES, INC.\",\"State Commercial Banks (commercial banking)\"],[\"SIERRA BANCORP\",\"State Commercial Banks (commercial banking)\"],[\"HOPFED BANCORP INC\",\"State Commercial Banks (commercial banking)\"],[\"HOPFED BANCORP INC\",\"State Commercial Banks (commercial banking)\"],[\"FIRST FINANCIAL BANKSHARES INC\",\"State Commercial Banks (commercial banking)\"],[\"CHEMICAL FINANCIAL CORP\",\"State Commercial Banks (commercial banking)\"],[\"SECURITY FEDERAL CORP\",\"State Commercial Banks (commercial banking)\"],[\"FIRST FINANCIAL CORP /IN/\",\"State Commercial Banks (commercial banking)\"],[\"WESTERN ALLIANCE BANCORPORATION\",\"State Commercial Banks (commercial banking)\"],[\"TRISTATE CAPITAL HOLDINGS, INC.\",\"State Commercial Banks (commercial banking)\"],[\"UNION BANKSHARES CORP\",\"State Commercial Banks (commercial banking)\"],[\"CAROLINA TRUST BANCSHARES, INC.\",\"State Commercial Banks (commercial banking)\"],[\"COMMUNITY TRUST BANCORP INC /KY/\",\"State Commercial Banks (commercial banking)\"],[\"HILLS BANCORPORATION\",\"State Commercial Banks (commercial banking)\"],[\"MACATAWA BANK CORP\",\"State Commercial Banks (commercial banking)\"],[\"PREMIER FINANCIAL BANCORP INC\",\"State Commercial Banks (commercial banking)\"],[\"KENTUCKY BANCSHARES INC /KY/\",\"State Commercial Banks (commercial banking)\"],[\"RIVER FINANCIAL CORP\",\"State Commercial Banks (commercial banking)\"],[\"BAR HARBOR BANKSHARES\",\"State Commercial Banks (commercial banking)\"],[\"PARKE BANCORP, INC.\",\"State Commercial Banks (commercial banking)\"],[\"RANDOLPH BANCORP, INC.\",\"State Commercial Banks (commercial banking)\"],[\"BANK OF HAWAII CORP\",\"State Commercial Banks (commercial banking)\"],[\"BSB BANCORP, INC.\",\"State Commercial Banks (commercial banking)\"],[\"INDEPENDENT BANK CORP /MI/\",\"State Commercial Banks (commercial banking)\"],[\"PACIFIC PREMIER BANCORP INC\",\"State Commercial Banks (commercial banking)\"],[\"OHIO VALLEY BANC CORP\",\"State Commercial Banks (commercial banking)\"],[\"CVB FINANCIAL CORP\",\"State Commercial Banks (commercial banking)\"],[\"BANK OF NEW YORK MELLON CORP\",\"State Commercial Banks (commercial banking)\"],[\"TWO RIVER BANCORP\",\"State Commercial Banks (commercial banking)\"],[\"STEWARDSHIP FINANCIAL CORP\",\"State Commercial Banks (commercial banking)\"],[\"LAKELAND FINANCIAL CORP\",\"State Commercial Banks (commercial banking)\"],[\"FAUQUIER BANKSHARES, INC.\",\"State Commercial Banks (commercial banking)\"],[\"LIVE OAK BANCSHARES, INC.\",\"State Commercial Banks (commercial banking)\"],[\"M&T BANK CORP\",\"State Commercial Banks (commercial banking)\"],[\"INTERNATIONAL BANCSHARES CORP\",\"State Commercial Banks (commercial banking)\"],[\"SUMMIT FINANCIAL GROUP INC\",\"State Commercial Banks (commercial banking)\"],[\"SUSSEX BANCORP\",\"State Commercial Banks (commercial banking)\"],[\"PRIME MERIDIAN HOLDING CO\",\"State Commercial Banks (commercial banking)\"],[\"BANKWELL FINANCIAL GROUP, INC.\",\"State Commercial Banks (commercial banking)\"],[\"SOUTHWEST GEORGIA FINANCIAL CORP\",\"State Commercial Banks (commercial banking)\"],[\"BANK OF COMMERCE HOLDINGS\",\"State Commercial Banks (commercial banking)\"],[\"BANK OF COMMERCE HOLDINGS\",\"State Commercial Banks (commercial banking)\"],[\"UNITED BANCORP INC /OH/\",\"State Commercial Banks (commercial banking)\"],[\"PARKWAY ACQUISITION CORP.\",\"State Commercial Banks (commercial banking)\"],[\"INVESTAR HOLDING CORP\",\"State Commercial Banks (commercial banking)\"],[\"RENASANT CORP\",\"State Commercial Banks (commercial banking)\"],[\"RELIANT BANCORP, INC.\",\"State Commercial Banks (commercial banking)\"],[\"FIRST COMMUNITY CORP /SC/\",\"State Commercial Banks (commercial banking)\"],[\"FIRST FINANCIAL NORTHWEST, INC.\",\"State Commercial Banks (commercial banking)\"],[\"COMMERCE BANCSHARES INC /MO/\",\"State Commercial Banks (commercial banking)\"],[\"JUNIATA VALLEY FINANCIAL CORP\",\"State Commercial Banks (commercial banking)\"],[\"HOWARD BANCORP INC\",\"State Commercial Banks (commercial banking)\"],[\"EAGLE FINANCIAL SERVICES INC\",\"State Commercial Banks (commercial banking)\"],[\"MVB FINANCIAL CORP\",\"State Commercial Banks (commercial banking)\"],[\"INDEPENDENT BANK GROUP, INC.\",\"State Commercial Banks (commercial banking)\"],[\"CONNECTONE BANCORP, INC.\",\"State Commercial Banks (commercial banking)\"],[\"REPUBLIC BANCORP INC /KY/\",\"State Commercial Banks (commercial banking)\"],[\"SOUTHSIDE BANCSHARES INC\",\"State Commercial Banks (commercial banking)\"],[\"FIRST HAWAIIAN, INC.\",\"State Commercial Banks (commercial banking)\"],[\"FIRST US BANCSHARES INC\",\"State Commercial Banks (commercial banking)\"],[\"COMMUNITY FINANCIAL CORP /MD/\",\"State Commercial Banks (commercial banking)\"],[\"BANNER CORP\",\"State Commercial Banks (commercial banking)\"],[\"SVB FINANCIAL GROUP\",\"State Commercial Banks (commercial banking)\"],[\"CATHAY GENERAL BANCORP\",\"State Commercial Banks (commercial banking)\"],[\"BANK OF THE JAMES FINANCIAL GROUP INC\",\"State Commercial Banks (commercial banking)\"],[\"FLUSHING FINANCIAL CORP\",\"State Commercial Banks (commercial banking)\"],[\"FRANKLIN FINANCIAL SERVICES CORP /PA/\",\"State Commercial Banks (commercial banking)\"],[\"CENTRAL PACIFIC FINANCIAL CORP\",\"State Commercial Banks (commercial banking)\"],[\"CENTRAL PACIFIC FINANCIAL CORP\",\"State Commercial Banks (commercial banking)\"],[\"CENTRAL VALLEY COMMUNITY BANCORP\",\"State Commercial Banks (commercial banking)\"],[\"F&M BANK CORP\",\"State Commercial Banks (commercial banking)\"],[\"FARMERS NATIONAL BANC CORP /OH/\",\"State Commercial Banks (commercial banking)\"],[\"CITIZENS & NORTHERN CORP\",\"State Commercial Banks (commercial banking)\"],[\"GUARANTY FEDERAL BANCSHARES INC\",\"State Commercial Banks (commercial banking)\"],[\"CAROLINA FINANCIAL CORP\",\"State Commercial Banks (commercial banking)\"],[\"FIRST INTERNET BANCORP\",\"State Commercial Banks (commercial banking)\"],[\"HARBORONE BANCORP, INC.\",\"State Commercial Banks (commercial banking)\"],[\"UNITED BANKSHARES INC/WV\",\"State Commercial Banks (commercial banking)\"],[\"INDEPENDENT BANK CORP\",\"State Commercial Banks (commercial banking)\"],[\"CITIZENS FINANCIAL SERVICES INC\",\"State Commercial Banks (commercial banking)\"],[\"NORWOOD FINANCIAL CORP\",\"State Commercial Banks (commercial banking)\"],[\"WEST BANCORPORATION INC\",\"State Commercial Banks (commercial banking)\"],[\"CUSTOMERS BANCORP, INC.\",\"State Commercial Banks (commercial banking)\"],[\"WEST END INDIANA BANCSHARES, INC.\",\"State Commercial Banks (commercial banking)\"],[\"ATLANTIC CAPITAL BANCSHARES, INC.\",\"State Commercial Banks (commercial banking)\"],[\"IBERIABANK CORP\",\"State Commercial Banks (commercial banking)\"],[\"MERCANTILE BANK CORP\",\"State Commercial Banks (commercial banking)\"],[\"GERMAN AMERICAN BANCORP, INC.\",\"State Commercial Banks (commercial banking)\"],[\"S&T BANCORP INC\",\"State Commercial Banks (commercial banking)\"],[\"HILLTOP HOLDINGS INC.\",\"State Commercial Banks (commercial banking)\"],[\"CB FINANCIAL SERVICES, INC.\",\"State Commercial Banks (commercial banking)\"],[\"ENTERPRISE FINANCIAL SERVICES CORP\",\"State Commercial Banks (commercial banking)\"],[\"AUBURN NATIONAL BANCORPORATION, INC\",\"State Commercial Banks (commercial banking)\"],[\"FIRST KEYSTONE CORP\",\"State Commercial Banks (commercial banking)\"],[\"TEXAS CAPITAL BANCSHARES INC/TX\",\"State Commercial Banks (commercial banking)\"],[\"VILLAGE BANK & TRUST FINANCIAL CORP.\",\"State Commercial Banks (commercial banking)\"],[\"STOCK YARDS BANCORP, INC.\",\"State Commercial Banks (commercial banking)\"],[\"BUSINESS FIRST BANCSHARES, INC.\",\"State Commercial Banks (commercial banking)\"]],\"hovertemplate\":\"color=State Commercial Banks (commercial banking)<br>0=%{x}<br>1=%{y}<br>name=%{customdata[0]}<br>industry=%{customdata[1]}<extra></extra>\",\"legendgroup\":\"State Commercial Banks (commercial banking)\",\"marker\":{\"color\":\"#FFA15A\",\"symbol\":\"circle\"},\"mode\":\"markers\",\"name\":\"State Commercial Banks (commercial banking)\",\"orientation\":\"v\",\"showlegend\":true,\"type\":\"scatter\",\"x\":[-9.922101020812988,-9.573174476623535,-9.769951820373535,-6.924809455871582,-10.10591983795166,-8.261337280273438,-7.698666095733643,-2.2440803050994873,-8.789135932922363,-5.375948429107666,-5.102728843688965,-2.59745717048645,-8.467405319213867,-7.288674831390381,-9.43602466583252,-8.074627876281738,-9.042350769042969,-8.018282890319824,-9.134079933166504,-7.385638236999512,-6.234443664550781,-6.392495632171631,-6.86307430267334,-8.288202285766602,-10.615164756774902,-9.143614768981934,-6.524454116821289,-7.4999003410339355,-8.32937240600586,-7.678438663482666,-2.9299230575561523,-6.7480549812316895,-8.120282173156738,-8.04750919342041,-4.9113450050354,-8.6389741897583,-10.55810260772705,-7.587321758270264,-8.013669967651367,-3.82120418548584,-11.38637638092041,-1.9702045917510986,-9.409101486206055,-8.646315574645996,-7.775784015655518,-2.8939247131347656,-6.984001636505127,-5.48811674118042,-6.163832187652588,-5.043990135192871,-6.32961368560791,-6.0403828620910645,-6.368162155151367,-5.29899787902832,-5.9516119956970215,-6.723289966583252,-7.661549091339111,-9.603863716125488,-5.95241641998291,-6.628983974456787,-7.062256336212158,-5.722296237945557,-7.48266077041626,-9.14582347869873,-6.822052001953125,-7.782516956329346,-10.613158226013184,-5.090188503265381,-7.207305431365967,-8.482499122619629,-6.093738555908203,-6.851269245147705,-6.495952129364014,-5.134854316711426,-7.421225547790527,-7.3874406814575195,-5.281259059906006,-6.175205230712891,-9.751343727111816,-0.7245026230812073,-6.152144908905029,-8.232903480529785,-8.905898094177246,-10.962031364440918,-6.550893783569336,-6.7033514976501465,-7.208977699279785,-8.279884338378906,-1.2011051177978516,-7.982255935668945,-2.446488857269287,-10.54407787322998,-8.596308708190918,-6.101430416107178,-8.485917091369629,-7.86845064163208,-8.169572830200195,-5.976620197296143,-8.870869636535645,-7.432313919067383,-6.706603050231934,-9.753190040588379,-5.987026691436768,-6.226128101348877,-5.446717739105225,-6.099706172943115,-0.9810853600502014,-8.183355331420898,-9.443110466003418,-0.7759020924568176,-6.046034812927246,-7.163840293884277,-6.487025260925293,-6.545445919036865,-3.6449153423309326,-9.587279319763184],\"xaxis\":\"x\",\"y\":[-10.571243286132812,-7.36544132232666,-10.001727104187012,-10.808704376220703,-8.976099967956543,-9.656534194946289,-11.280021667480469,-2.429680109024048,-6.851551532745361,-5.781810283660889,-5.787578582763672,0.4404028356075287,-9.04615306854248,-9.789693832397461,-9.161771774291992,-7.0148820877075195,-5.628267765045166,-3.1541402339935303,-10.655447959899902,-7.55517053604126,-6.279070854187012,-6.161240100860596,-7.419815540313721,-7.261167526245117,-9.127479553222656,-7.90377140045166,-6.06546688079834,-8.965400695800781,-8.227659225463867,-9.096161842346191,-2.9859602451324463,-7.858193397521973,-7.235063076019287,-5.553759574890137,-3.9287502765655518,-6.936275482177734,-9.140700340270996,-7.429131031036377,-10.69475269317627,-6.441006183624268,-12.08367919921875,-0.9288599491119385,-7.874506950378418,-8.268266677856445,-6.902169704437256,-1.595133662223816,-6.48789119720459,-4.516453742980957,-6.207254409790039,-5.24119234085083,-8.936001777648926,-12.401762962341309,-10.457679748535156,-8.749070167541504,-8.231294631958008,-7.892453193664551,-9.31178092956543,-9.38525390625,-6.172669410705566,-6.777664661407471,-6.54524040222168,-6.444930553436279,-8.915665626525879,-9.029732704162598,-7.718489646911621,-9.793611526489258,-6.514051914215088,-5.811707973480225,-9.598945617675781,-5.286278247833252,-9.58203411102295,-10.258051872253418,-8.679965019226074,-9.812970161437988,-12.31432056427002,-10.781925201416016,-9.764669418334961,-6.912957668304443,-10.498262405395508,-0.09982576966285706,-8.656960487365723,-9.834933280944824,-8.230241775512695,-10.741482734680176,-7.791924476623535,-8.48412799835205,-8.82501220703125,-8.285174369812012,-0.6809922456741333,-7.525976181030273,-2.4048895835876465,-10.254911422729492,-8.643427848815918,-6.527822494506836,-10.525653839111328,-8.94309139251709,-7.489603042602539,-6.0703959465026855,-7.467512130737305,-8.086833953857422,-8.948519706726074,-8.880634307861328,-7.60541296005249,-6.340437889099121,-5.282789707183838,-7.037472724914551,-0.8246417045593262,-6.9778361320495605,-9.576835632324219,-0.6207932829856873,-10.321125030517578,-8.417257308959961,-8.536805152893066,-9.52799129486084,-4.362508773803711,-10.386360168457031],\"yaxis\":\"y\"}],                        {\"height\":600,\"legend\":{\"title\":{\"text\":\"color\"},\"tracegroupgap\":0},\"margin\":{\"t\":60},\"template\":{\"data\":{\"bar\":[{\"error_x\":{\"color\":\"#2a3f5f\"},\"error_y\":{\"color\":\"#2a3f5f\"},\"marker\":{\"line\":{\"color\":\"#E5ECF6\",\"width\":0.5},\"pattern\":{\"fillmode\":\"overlay\",\"size\":10,\"solidity\":0.2}},\"type\":\"bar\"}],\"barpolar\":[{\"marker\":{\"line\":{\"color\":\"#E5ECF6\",\"width\":0.5},\"pattern\":{\"fillmode\":\"overlay\",\"size\":10,\"solidity\":0.2}},\"type\":\"barpolar\"}],\"carpet\":[{\"aaxis\":{\"endlinecolor\":\"#2a3f5f\",\"gridcolor\":\"white\",\"linecolor\":\"white\",\"minorgridcolor\":\"white\",\"startlinecolor\":\"#2a3f5f\"},\"baxis\":{\"endlinecolor\":\"#2a3f5f\",\"gridcolor\":\"white\",\"linecolor\":\"white\",\"minorgridcolor\":\"white\",\"startlinecolor\":\"#2a3f5f\"},\"type\":\"carpet\"}],\"choropleth\":[{\"colorbar\":{\"outlinewidth\":0,\"ticks\":\"\"},\"type\":\"choropleth\"}],\"contour\":[{\"colorbar\":{\"outlinewidth\":0,\"ticks\":\"\"},\"colorscale\":[[0.0,\"#0d0887\"],[0.1111111111111111,\"#46039f\"],[0.2222222222222222,\"#7201a8\"],[0.3333333333333333,\"#9c179e\"],[0.4444444444444444,\"#bd3786\"],[0.5555555555555556,\"#d8576b\"],[0.6666666666666666,\"#ed7953\"],[0.7777777777777778,\"#fb9f3a\"],[0.8888888888888888,\"#fdca26\"],[1.0,\"#f0f921\"]],\"type\":\"contour\"}],\"contourcarpet\":[{\"colorbar\":{\"outlinewidth\":0,\"ticks\":\"\"},\"type\":\"contourcarpet\"}],\"heatmap\":[{\"colorbar\":{\"outlinewidth\":0,\"ticks\":\"\"},\"colorscale\":[[0.0,\"#0d0887\"],[0.1111111111111111,\"#46039f\"],[0.2222222222222222,\"#7201a8\"],[0.3333333333333333,\"#9c179e\"],[0.4444444444444444,\"#bd3786\"],[0.5555555555555556,\"#d8576b\"],[0.6666666666666666,\"#ed7953\"],[0.7777777777777778,\"#fb9f3a\"],[0.8888888888888888,\"#fdca26\"],[1.0,\"#f0f921\"]],\"type\":\"heatmap\"}],\"heatmapgl\":[{\"colorbar\":{\"outlinewidth\":0,\"ticks\":\"\"},\"colorscale\":[[0.0,\"#0d0887\"],[0.1111111111111111,\"#46039f\"],[0.2222222222222222,\"#7201a8\"],[0.3333333333333333,\"#9c179e\"],[0.4444444444444444,\"#bd3786\"],[0.5555555555555556,\"#d8576b\"],[0.6666666666666666,\"#ed7953\"],[0.7777777777777778,\"#fb9f3a\"],[0.8888888888888888,\"#fdca26\"],[1.0,\"#f0f921\"]],\"type\":\"heatmapgl\"}],\"histogram\":[{\"marker\":{\"pattern\":{\"fillmode\":\"overlay\",\"size\":10,\"solidity\":0.2}},\"type\":\"histogram\"}],\"histogram2d\":[{\"colorbar\":{\"outlinewidth\":0,\"ticks\":\"\"},\"colorscale\":[[0.0,\"#0d0887\"],[0.1111111111111111,\"#46039f\"],[0.2222222222222222,\"#7201a8\"],[0.3333333333333333,\"#9c179e\"],[0.4444444444444444,\"#bd3786\"],[0.5555555555555556,\"#d8576b\"],[0.6666666666666666,\"#ed7953\"],[0.7777777777777778,\"#fb9f3a\"],[0.8888888888888888,\"#fdca26\"],[1.0,\"#f0f921\"]],\"type\":\"histogram2d\"}],\"histogram2dcontour\":[{\"colorbar\":{\"outlinewidth\":0,\"ticks\":\"\"},\"colorscale\":[[0.0,\"#0d0887\"],[0.1111111111111111,\"#46039f\"],[0.2222222222222222,\"#7201a8\"],[0.3333333333333333,\"#9c179e\"],[0.4444444444444444,\"#bd3786\"],[0.5555555555555556,\"#d8576b\"],[0.6666666666666666,\"#ed7953\"],[0.7777777777777778,\"#fb9f3a\"],[0.8888888888888888,\"#fdca26\"],[1.0,\"#f0f921\"]],\"type\":\"histogram2dcontour\"}],\"mesh3d\":[{\"colorbar\":{\"outlinewidth\":0,\"ticks\":\"\"},\"type\":\"mesh3d\"}],\"parcoords\":[{\"line\":{\"colorbar\":{\"outlinewidth\":0,\"ticks\":\"\"}},\"type\":\"parcoords\"}],\"pie\":[{\"automargin\":true,\"type\":\"pie\"}],\"scatter\":[{\"marker\":{\"colorbar\":{\"outlinewidth\":0,\"ticks\":\"\"}},\"type\":\"scatter\"}],\"scatter3d\":[{\"line\":{\"colorbar\":{\"outlinewidth\":0,\"ticks\":\"\"}},\"marker\":{\"colorbar\":{\"outlinewidth\":0,\"ticks\":\"\"}},\"type\":\"scatter3d\"}],\"scattercarpet\":[{\"marker\":{\"colorbar\":{\"outlinewidth\":0,\"ticks\":\"\"}},\"type\":\"scattercarpet\"}],\"scattergeo\":[{\"marker\":{\"colorbar\":{\"outlinewidth\":0,\"ticks\":\"\"}},\"type\":\"scattergeo\"}],\"scattergl\":[{\"marker\":{\"colorbar\":{\"outlinewidth\":0,\"ticks\":\"\"}},\"type\":\"scattergl\"}],\"scattermapbox\":[{\"marker\":{\"colorbar\":{\"outlinewidth\":0,\"ticks\":\"\"}},\"type\":\"scattermapbox\"}],\"scatterpolar\":[{\"marker\":{\"colorbar\":{\"outlinewidth\":0,\"ticks\":\"\"}},\"type\":\"scatterpolar\"}],\"scatterpolargl\":[{\"marker\":{\"colorbar\":{\"outlinewidth\":0,\"ticks\":\"\"}},\"type\":\"scatterpolargl\"}],\"scatterternary\":[{\"marker\":{\"colorbar\":{\"outlinewidth\":0,\"ticks\":\"\"}},\"type\":\"scatterternary\"}],\"surface\":[{\"colorbar\":{\"outlinewidth\":0,\"ticks\":\"\"},\"colorscale\":[[0.0,\"#0d0887\"],[0.1111111111111111,\"#46039f\"],[0.2222222222222222,\"#7201a8\"],[0.3333333333333333,\"#9c179e\"],[0.4444444444444444,\"#bd3786\"],[0.5555555555555556,\"#d8576b\"],[0.6666666666666666,\"#ed7953\"],[0.7777777777777778,\"#fb9f3a\"],[0.8888888888888888,\"#fdca26\"],[1.0,\"#f0f921\"]],\"type\":\"surface\"}],\"table\":[{\"cells\":{\"fill\":{\"color\":\"#EBF0F8\"},\"line\":{\"color\":\"white\"}},\"header\":{\"fill\":{\"color\":\"#C8D4E3\"},\"line\":{\"color\":\"white\"}},\"type\":\"table\"}]},\"layout\":{\"annotationdefaults\":{\"arrowcolor\":\"#2a3f5f\",\"arrowhead\":0,\"arrowwidth\":1},\"autotypenumbers\":\"strict\",\"coloraxis\":{\"colorbar\":{\"outlinewidth\":0,\"ticks\":\"\"}},\"colorscale\":{\"diverging\":[[0,\"#8e0152\"],[0.1,\"#c51b7d\"],[0.2,\"#de77ae\"],[0.3,\"#f1b6da\"],[0.4,\"#fde0ef\"],[0.5,\"#f7f7f7\"],[0.6,\"#e6f5d0\"],[0.7,\"#b8e186\"],[0.8,\"#7fbc41\"],[0.9,\"#4d9221\"],[1,\"#276419\"]],\"sequential\":[[0.0,\"#0d0887\"],[0.1111111111111111,\"#46039f\"],[0.2222222222222222,\"#7201a8\"],[0.3333333333333333,\"#9c179e\"],[0.4444444444444444,\"#bd3786\"],[0.5555555555555556,\"#d8576b\"],[0.6666666666666666,\"#ed7953\"],[0.7777777777777778,\"#fb9f3a\"],[0.8888888888888888,\"#fdca26\"],[1.0,\"#f0f921\"]],\"sequentialminus\":[[0.0,\"#0d0887\"],[0.1111111111111111,\"#46039f\"],[0.2222222222222222,\"#7201a8\"],[0.3333333333333333,\"#9c179e\"],[0.4444444444444444,\"#bd3786\"],[0.5555555555555556,\"#d8576b\"],[0.6666666666666666,\"#ed7953\"],[0.7777777777777778,\"#fb9f3a\"],[0.8888888888888888,\"#fdca26\"],[1.0,\"#f0f921\"]]},\"colorway\":[\"#636efa\",\"#EF553B\",\"#00cc96\",\"#ab63fa\",\"#FFA15A\",\"#19d3f3\",\"#FF6692\",\"#B6E880\",\"#FF97FF\",\"#FECB52\"],\"font\":{\"color\":\"#2a3f5f\"},\"geo\":{\"bgcolor\":\"white\",\"lakecolor\":\"white\",\"landcolor\":\"#E5ECF6\",\"showlakes\":true,\"showland\":true,\"subunitcolor\":\"white\"},\"hoverlabel\":{\"align\":\"left\"},\"hovermode\":\"closest\",\"mapbox\":{\"style\":\"light\"},\"paper_bgcolor\":\"white\",\"plot_bgcolor\":\"#E5ECF6\",\"polar\":{\"angularaxis\":{\"gridcolor\":\"white\",\"linecolor\":\"white\",\"ticks\":\"\"},\"bgcolor\":\"#E5ECF6\",\"radialaxis\":{\"gridcolor\":\"white\",\"linecolor\":\"white\",\"ticks\":\"\"}},\"scene\":{\"xaxis\":{\"backgroundcolor\":\"#E5ECF6\",\"gridcolor\":\"white\",\"gridwidth\":2,\"linecolor\":\"white\",\"showbackground\":true,\"ticks\":\"\",\"zerolinecolor\":\"white\"},\"yaxis\":{\"backgroundcolor\":\"#E5ECF6\",\"gridcolor\":\"white\",\"gridwidth\":2,\"linecolor\":\"white\",\"showbackground\":true,\"ticks\":\"\",\"zerolinecolor\":\"white\"},\"zaxis\":{\"backgroundcolor\":\"#E5ECF6\",\"gridcolor\":\"white\",\"gridwidth\":2,\"linecolor\":\"white\",\"showbackground\":true,\"ticks\":\"\",\"zerolinecolor\":\"white\"}},\"shapedefaults\":{\"line\":{\"color\":\"#2a3f5f\"}},\"ternary\":{\"aaxis\":{\"gridcolor\":\"white\",\"linecolor\":\"white\",\"ticks\":\"\"},\"baxis\":{\"gridcolor\":\"white\",\"linecolor\":\"white\",\"ticks\":\"\"},\"bgcolor\":\"#E5ECF6\",\"caxis\":{\"gridcolor\":\"white\",\"linecolor\":\"white\",\"ticks\":\"\"}},\"title\":{\"x\":0.05},\"xaxis\":{\"automargin\":true,\"gridcolor\":\"white\",\"linecolor\":\"white\",\"ticks\":\"\",\"title\":{\"standoff\":15},\"zerolinecolor\":\"white\",\"zerolinewidth\":2},\"yaxis\":{\"automargin\":true,\"gridcolor\":\"white\",\"linecolor\":\"white\",\"ticks\":\"\",\"title\":{\"standoff\":15},\"zerolinecolor\":\"white\",\"zerolinewidth\":2}}},\"width\":1200,\"xaxis\":{\"anchor\":\"y\",\"domain\":[0.0,1.0],\"title\":{\"text\":\"0\"}},\"yaxis\":{\"anchor\":\"x\",\"domain\":[0.0,1.0],\"title\":{\"text\":\"1\"}}},                        {\"responsive\": true}                    ).then(function(){\n",
       "                            \n",
       "var gd = document.getElementById('be3cb89b-cea3-4a5c-ac82-c048aa784bf1');\n",
       "var x = new MutationObserver(function (mutations, observer) {{\n",
       "        var display = window.getComputedStyle(gd).display;\n",
       "        if (!display || display === 'none') {{\n",
       "            console.log([gd, 'removed!']);\n",
       "            Plotly.purge(gd);\n",
       "            observer.disconnect();\n",
       "        }}\n",
       "}});\n",
       "\n",
       "// Listen for the removal of the full notebook cells\n",
       "var notebookContainer = gd.closest('#notebook-container');\n",
       "if (notebookContainer) {{\n",
       "    x.observe(notebookContainer, {childList: true});\n",
       "}}\n",
       "\n",
       "// Listen for the clearing of the current output cell\n",
       "var outputEl = gd.closest('.output');\n",
       "if (outputEl) {{\n",
       "    x.observe(outputEl, {childList: true});\n",
       "}}\n",
       "\n",
       "                        })                };                });            </script>        </div>"
      ]
     },
     "metadata": {},
     "output_type": "display_data"
    }
   ],
   "source": [
    "plot_pca = std_func.pca_visualize_2d(doc_vec_2, df.loc[:,[\"name\",\"SIC_desc\"]])"
   ]
  },
  {
   "cell_type": "code",
   "execution_count": 42,
   "id": "35554bd6-dd27-415d-8f8a-1d2246b143ee",
   "metadata": {
    "tags": [
     "remove-input"
    ]
   },
   "outputs": [
    {
     "data": {
      "application/vnd.plotly.v1+json": {
       "config": {
        "plotlyServerURL": "https://plot.ly"
       },
       "data": [
        {
         "customdata": [
          [
           "MONGODB, INC.",
           "Prepackaged Software (mass reproduction of software)"
          ],
          [
           "SALESFORCE COM INC",
           "Prepackaged Software (mass reproduction of software)"
          ],
          [
           "SPLUNK INC",
           "Prepackaged Software (mass reproduction of software)"
          ],
          [
           "OKTA, INC.",
           "Prepackaged Software (mass reproduction of software)"
          ],
          [
           "VEEVA SYSTEMS INC",
           "Prepackaged Software (mass reproduction of software)"
          ],
          [
           "AUTODESK INC",
           "Prepackaged Software (mass reproduction of software)"
          ],
          [
           "ETERNAL SPEECH, INC.",
           "Prepackaged Software (mass reproduction of software)"
          ],
          [
           "ETERNAL SPEECH, INC.",
           "Prepackaged Software (mass reproduction of software)"
          ],
          [
           "MAJESCO",
           "Prepackaged Software (mass reproduction of software)"
          ],
          [
           "DUO WORLD INC",
           "Prepackaged Software (mass reproduction of software)"
          ],
          [
           "COMMVAULT SYSTEMS INC",
           "Prepackaged Software (mass reproduction of software)"
          ],
          [
           "UPPERSOLUTION.COM",
           "Prepackaged Software (mass reproduction of software)"
          ],
          [
           "ORACLE CORP",
           "Prepackaged Software (mass reproduction of software)"
          ],
          [
           "SAVMOBI TECHNOLOGY INC.",
           "Prepackaged Software (mass reproduction of software)"
          ],
          [
           "ZEDGE, INC.",
           "Prepackaged Software (mass reproduction of software)"
          ],
          [
           "DESTINY MEDIA TECHNOLOGIES INC",
           "Prepackaged Software (mass reproduction of software)"
          ],
          [
           "TRAQER CORP",
           "Prepackaged Software (mass reproduction of software)"
          ],
          [
           "VISIBER57 CORP.",
           "Prepackaged Software (mass reproduction of software)"
          ],
          [
           "GH CAPITAL INC.",
           "Prepackaged Software (mass reproduction of software)"
          ],
          [
           "BRIDGELINE DIGITAL, INC.",
           "Prepackaged Software (mass reproduction of software)"
          ],
          [
           "NUANCE COMMUNICATIONS, INC.",
           "Prepackaged Software (mass reproduction of software)"
          ],
          [
           "DATAWATCH CORP",
           "Prepackaged Software (mass reproduction of software)"
          ],
          [
           "POLARITYTE, INC.",
           "Prepackaged Software (mass reproduction of software)"
          ],
          [
           "POLARITYTE, INC.",
           "Prepackaged Software (mass reproduction of software)"
          ],
          [
           "VGRAB COMMUNICATIONS INC.",
           "Prepackaged Software (mass reproduction of software)"
          ],
          [
           "VGRAB COMMUNICATIONS INC.",
           "Prepackaged Software (mass reproduction of software)"
          ],
          [
           "ADAIAH DISTRIBUTION INC",
           "Prepackaged Software (mass reproduction of software)"
          ],
          [
           "ADAIAH DISTRIBUTION INC",
           "Prepackaged Software (mass reproduction of software)"
          ],
          [
           "PROGRESS SOFTWARE CORP /MA",
           "Prepackaged Software (mass reproduction of software)"
          ],
          [
           "MEDICAL INFORMATION TECHNOLOGY, INC.",
           "Prepackaged Software (mass reproduction of software)"
          ],
          [
           "SPS COMMERCE INC",
           "Prepackaged Software (mass reproduction of software)"
          ],
          [
           "ALTERYX, INC.",
           "Prepackaged Software (mass reproduction of software)"
          ],
          [
           "INTELLIGENT SYSTEMS CORP",
           "Prepackaged Software (mass reproduction of software)"
          ],
          [
           "ALARM.COM HOLDINGS, INC.",
           "Prepackaged Software (mass reproduction of software)"
          ],
          [
           "LIGHTNING GAMING, INC.",
           "Prepackaged Software (mass reproduction of software)"
          ],
          [
           "ENDURANCE INTERNATIONAL GROUP HOLDINGS, INC.",
           "Prepackaged Software (mass reproduction of software)"
          ],
          [
           "2U, INC.",
           "Prepackaged Software (mass reproduction of software)"
          ],
          [
           "CISION LTD.",
           "Prepackaged Software (mass reproduction of software)"
          ],
          [
           "BTCS INC.",
           "Prepackaged Software (mass reproduction of software)"
          ],
          [
           "BTCS INC.",
           "Prepackaged Software (mass reproduction of software)"
          ],
          [
           "BTCS INC.",
           "Prepackaged Software (mass reproduction of software)"
          ],
          [
           "INTELLICHECK, INC.",
           "Prepackaged Software (mass reproduction of software)"
          ],
          [
           "REALPAGE INC",
           "Prepackaged Software (mass reproduction of software)"
          ],
          [
           "Q2 HOLDINGS, INC.",
           "Prepackaged Software (mass reproduction of software)"
          ],
          [
           "MCORPCX, INC.",
           "Prepackaged Software (mass reproduction of software)"
          ],
          [
           "QUALYS, INC.",
           "Prepackaged Software (mass reproduction of software)"
          ],
          [
           "MEDICAL TRANSCRIPTION BILLING, CORP",
           "Prepackaged Software (mass reproduction of software)"
          ],
          [
           "SMITH MICRO SOFTWARE INC",
           "Prepackaged Software (mass reproduction of software)"
          ],
          [
           "SHOTSPOTTER, INC",
           "Prepackaged Software (mass reproduction of software)"
          ],
          [
           "LONGWEN GROUP CORP.",
           "Prepackaged Software (mass reproduction of software)"
          ],
          [
           "ELLIE MAE INC",
           "Prepackaged Software (mass reproduction of software)"
          ],
          [
           "ROSETTA STONE INC",
           "Prepackaged Software (mass reproduction of software)"
          ],
          [
           "BLACK KNIGHT, INC.",
           "Prepackaged Software (mass reproduction of software)"
          ],
          [
           "MICROSTRATEGY INC",
           "Prepackaged Software (mass reproduction of software)"
          ],
          [
           "EMR TECHNOLOGY SOLUTIONS, INC.",
           "Prepackaged Software (mass reproduction of software)"
          ],
          [
           "PAYCOM SOFTWARE, INC.",
           "Prepackaged Software (mass reproduction of software)"
          ],
          [
           "3D SYSTEMS CORP",
           "Prepackaged Software (mass reproduction of software)"
          ],
          [
           "APPIAN CORP",
           "Prepackaged Software (mass reproduction of software)"
          ],
          [
           "UPLAND SOFTWARE, INC.",
           "Prepackaged Software (mass reproduction of software)"
          ],
          [
           "LIVEPERSON INC",
           "Prepackaged Software (mass reproduction of software)"
          ],
          [
           "AWARE INC /MA/",
           "Prepackaged Software (mass reproduction of software)"
          ],
          [
           "ULTIMATE SOFTWARE GROUP INC",
           "Prepackaged Software (mass reproduction of software)"
          ],
          [
           "ANSYS INC",
           "Prepackaged Software (mass reproduction of software)"
          ],
          [
           "AVID TECHNOLOGY, INC.",
           "Prepackaged Software (mass reproduction of software)"
          ],
          [
           "NATIONAL INSTRUMENTS CORP",
           "Prepackaged Software (mass reproduction of software)"
          ],
          [
           "INSPRO TECHNOLOGIES CORP",
           "Prepackaged Software (mass reproduction of software)"
          ],
          [
           "QUMU CORP",
           "Prepackaged Software (mass reproduction of software)"
          ],
          [
           "ACI WORLDWIDE, INC.",
           "Prepackaged Software (mass reproduction of software)"
          ],
          [
           "SQUARE, INC.",
           "Prepackaged Software (mass reproduction of software)"
          ],
          [
           "ALTAIR ENGINEERING INC.",
           "Prepackaged Software (mass reproduction of software)"
          ],
          [
           "TALEND SA",
           "Prepackaged Software (mass reproduction of software)"
          ],
          [
           "APPFOLIO INC",
           "Prepackaged Software (mass reproduction of software)"
          ],
          [
           "GSE SYSTEMS INC",
           "Prepackaged Software (mass reproduction of software)"
          ],
          [
           "IPSIDY INC.",
           "Prepackaged Software (mass reproduction of software)"
          ],
          [
           "INTELLINETICS, INC.",
           "Prepackaged Software (mass reproduction of software)"
          ],
          [
           "INTELLINETICS, INC.",
           "Prepackaged Software (mass reproduction of software)"
          ],
          [
           "IIOT-OXYS, INC.",
           "Prepackaged Software (mass reproduction of software)"
          ],
          [
           "NEWGIOCO GROUP, INC.",
           "Prepackaged Software (mass reproduction of software)"
          ],
          [
           "WORKIVA INC",
           "Prepackaged Software (mass reproduction of software)"
          ],
          [
           "TABLEAU SOFTWARE INC",
           "Prepackaged Software (mass reproduction of software)"
          ]
         ],
         "hovertemplate": "color=Prepackaged Software (mass reproduction of software)<br>0=%{x}<br>1=%{y}<br>2=%{z}<br>name=%{customdata[0]}<br>industry=%{customdata[1]}<extra></extra>",
         "legendgroup": "Prepackaged Software (mass reproduction of software)",
         "marker": {
          "color": "#636efa",
          "symbol": "circle"
         },
         "mode": "markers",
         "name": "Prepackaged Software (mass reproduction of software)",
         "scene": "scene",
         "showlegend": true,
         "type": "scatter3d",
         "x": [
          -1.4550044536590576,
          -2.0033113956451416,
          -2.134474754333496,
          -0.9274237751960754,
          0.7807900905609131,
          -1.0840750932693481,
          -0.8994615077972412,
          -0.8381891846656799,
          -2.527904510498047,
          -1.0781569480895996,
          -2.1859710216522217,
          0.3415077030658722,
          -3.59670352935791,
          -2.0297884941101074,
          -0.7097910642623901,
          -0.5378150939941406,
          -3.174596071243286,
          -0.9627936482429504,
          -1.1053249835968018,
          -2.135617256164551,
          -0.36668798327445984,
          -1.3175426721572876,
          6.984758377075195,
          8.370869636535645,
          -2.676523447036743,
          -2.691371440887451,
          -3.719045400619507,
          -4.260704040527344,
          -2.2060790061950684,
          -0.5020610094070435,
          -1.4295037984848022,
          0.43206721544265747,
          -3.9843339920043945,
          -1.8042073249816895,
          -0.6580232977867126,
          0.9734691977500916,
          -0.26928040385246277,
          0.3724820017814636,
          -3.627929449081421,
          -3.3817923069000244,
          -2.7518560886383057,
          -0.6978095173835754,
          -1.824510931968689,
          -2.833498239517212,
          0.5454089045524597,
          2.338982343673706,
          3.392294406890869,
          0.15597890317440033,
          -1.3434441089630127,
          -0.9216311573982239,
          -4.239904403686523,
          1.1647343635559082,
          -4.508362770080566,
          0.7679482102394104,
          1.8973909616470337,
          -2.0376641750335693,
          1.9093356132507324,
          -2.5430400371551514,
          -3.0257363319396973,
          -3.805635929107666,
          -1.0836172103881836,
          -3.9103338718414307,
          -1.602805495262146,
          -0.15490397810935974,
          0.7464559078216553,
          -0.5613197088241577,
          -0.8453359007835388,
          -2.6578173637390137,
          -3.32584810256958,
          0.21525993943214417,
          -1.5078868865966797,
          -1.5254167318344116,
          -6.649696350097656,
          -0.12358379364013672,
          -0.6023192405700684,
          -0.12309399992227554,
          -0.07751769572496414,
          -3.8217015266418457,
          -3.2806591987609863,
          1.510469913482666
         ],
         "y": [
          0.5247460007667542,
          0.6835758686065674,
          1.4920405149459839,
          -2.3418564796447754,
          -1.5458885431289673,
          1.6098487377166748,
          -0.10439383238554001,
          -0.06891794502735138,
          -1.218262791633606,
          -1.6819124221801758,
          0.583774209022522,
          0.0969187468290329,
          0.7832209467887878,
          -0.5555232167243958,
          -0.07884131371974945,
          -0.4171919524669647,
          4.028890609741211,
          -0.1132361963391304,
          -0.9604551792144775,
          -2.3298521041870117,
          -0.9094051122665405,
          0.01671450585126877,
          1.165023684501648,
          1.9751076698303223,
          -0.034108974039554596,
          -0.2742787003517151,
          0.16820469498634338,
          -0.17001396417617798,
          -0.5813055634498596,
          -0.32179006934165955,
          1.979681372642517,
          1.7714228630065918,
          1.3009082078933716,
          3.2269692420959473,
          1.786236047744751,
          0.40908581018447876,
          -5.005711078643799,
          1.399762749671936,
          -1.5363819599151611,
          -1.7007787227630615,
          -1.8272225856781006,
          0.006476914044469595,
          1.45963716506958,
          -3.685163736343384,
          0.4258694052696228,
          -0.9460729956626892,
          -1.6214059591293335,
          -0.6581752300262451,
          4.878704071044922,
          0.49050191044807434,
          -3.5440688133239746,
          -1.309437870979309,
          -4.114153861999512,
          0.09353770315647125,
          -1.2131569385528564,
          -0.02450571209192276,
          4.000139236450195,
          -0.5016888976097107,
          -2.0474557876586914,
          -2.187438726425171,
          -4.958821773529053,
          -0.9772374629974365,
          -0.6686567664146423,
          3.153599739074707,
          2.79270601272583,
          -0.12644848227500916,
          -0.5240588188171387,
          -3.885807752609253,
          -0.8015656471252441,
          3.51236629486084,
          3.8856027126312256,
          -0.18648973107337952,
          2.0424365997314453,
          -4.03501558303833,
          -0.8139608502388,
          -0.6387091875076294,
          1.083762764930725,
          1.1553641557693481,
          -2.2558021545410156,
          0.09953150153160095
         ],
         "z": [
          11.979403495788574,
          8.45145034790039,
          11.101155281066895,
          9.038778305053711,
          8.740840911865234,
          3.826704502105713,
          -0.2011616975069046,
          -0.011307123117148876,
          4.8276686668396,
          7.286473274230957,
          10.107728004455566,
          3.502955675125122,
          9.289539337158203,
          1.4810353517532349,
          -0.3958134353160858,
          7.176879405975342,
          0.04830204322934151,
          -0.8028903603553772,
          0.369966596364975,
          9.610334396362305,
          9.800747871398926,
          8.438507080078125,
          6.509527206420898,
          6.724605083465576,
          5.993560791015625,
          6.1056132316589355,
          -3.3968827724456787,
          -4.1161274909973145,
          7.239743232727051,
          4.13029146194458,
          9.648648262023926,
          14.523449897766113,
          4.7076826095581055,
          14.72285270690918,
          4.117384433746338,
          9.95457649230957,
          9.312904357910156,
          14.406218528747559,
          5.887073040008545,
          5.988988399505615,
          6.144136905670166,
          -0.5916499495506287,
          13.49028491973877,
          11.286589622497559,
          3.228177547454834,
          13.718765258789062,
          8.767485618591309,
          9.86762809753418,
          16.836223602294922,
          -1.0073342323303223,
          8.691168785095215,
          10.308699607849121,
          8.664839744567871,
          10.710883140563965,
          4.342657089233398,
          14.097528457641602,
          8.05953598022461,
          12.361780166625977,
          9.549567222595215,
          15.56574535369873,
          14.758649826049805,
          16.868743896484375,
          -1.0386625528335571,
          13.807476997375488,
          9.609623908996582,
          5.2804155349731445,
          9.715214729309082,
          10.992866516113281,
          12.04787826538086,
          12.224844932556152,
          13.83691120147705,
          10.708494186401367,
          -0.35451430082321167,
          9.24132251739502,
          5.610645294189453,
          5.530388832092285,
          7.045359134674072,
          11.718076705932617,
          12.414130210876465,
          17.2112979888916
         ]
        },
        {
         "customdata": [
          [
           "INTERNATIONAL WESTERN PETROLEUM, INC.",
           "Crude Petroleum and Natural Gas"
          ],
          [
           "DAYBREAK OIL & GAS, INC.",
           "Crude Petroleum and Natural Gas"
          ],
          [
           "GB SCIENCES INC",
           "Crude Petroleum and Natural Gas"
          ],
          [
           "FREEDOM HOLDING CORP.",
           "Crude Petroleum and Natural Gas"
          ],
          [
           "MEXCO ENERGY CORP",
           "Crude Petroleum and Natural Gas"
          ],
          [
           "SUSTAINABLE PROJECTS GROUP INC.",
           "Crude Petroleum and Natural Gas"
          ],
          [
           "AMERICAN ENERGY GROUP LTD",
           "Crude Petroleum and Natural Gas"
          ],
          [
           "REDHAWK HOLDINGS CORP.",
           "Crude Petroleum and Natural Gas"
          ],
          [
           "TIANCI INTERNATIONAL, INC.",
           "Crude Petroleum and Natural Gas"
          ],
          [
           "AMAZING ENERGY OIL & GAS, CO.",
           "Crude Petroleum and Natural Gas"
          ],
          [
           "ALTEX INDUSTRIES INC",
           "Crude Petroleum and Natural Gas"
          ],
          [
           "BARNWELL INDUSTRIES INC",
           "Crude Petroleum and Natural Gas"
          ],
          [
           "PANHANDLE OIL & GAS INC",
           "Crude Petroleum and Natural Gas"
          ],
          [
           "ENERGY 11, L.P.",
           "Crude Petroleum and Natural Gas"
          ],
          [
           "ABRAXAS PETROLEUM CORP",
           "Crude Petroleum and Natural Gas"
          ],
          [
           "SEARS OIL & GAS",
           "Crude Petroleum and Natural Gas"
          ],
          [
           "APACHE CORP",
           "Crude Petroleum and Natural Gas"
          ],
          [
           "GULFPORT ENERGY CORP",
           "Crude Petroleum and Natural Gas"
          ],
          [
           "CONTINENTAL RESOURCES, INC",
           "Crude Petroleum and Natural Gas"
          ],
          [
           "ISRAMCO INC",
           "Crude Petroleum and Natural Gas"
          ],
          [
           "CHAPARRAL ENERGY, INC.",
           "Crude Petroleum and Natural Gas"
          ],
          [
           "WHITING PETROLEUM CORP",
           "Crude Petroleum and Natural Gas"
          ],
          [
           "CONTANGO OIL & GAS CO",
           "Crude Petroleum and Natural Gas"
          ],
          [
           "EARTHSTONE ENERGY INC",
           "Crude Petroleum and Natural Gas"
          ],
          [
           "CLEAN COAL TECHNOLOGIES INC.",
           "Crude Petroleum and Natural Gas"
          ],
          [
           "NORTHERN OIL & GAS, INC.",
           "Crude Petroleum and Natural Gas"
          ],
          [
           "SRC ENERGY INC.",
           "Crude Petroleum and Natural Gas"
          ],
          [
           "JONES ENERGY, INC.",
           "Crude Petroleum and Natural Gas"
          ],
          [
           "GOODRICH PETROLEUM CORP",
           "Crude Petroleum and Natural Gas"
          ],
          [
           "OCCIDENTAL PETROLEUM CORP /DE/",
           "Crude Petroleum and Natural Gas"
          ],
          [
           "LONESTAR RESOURCES US INC.",
           "Crude Petroleum and Natural Gas"
          ],
          [
           "NOBLE ENERGY INC",
           "Crude Petroleum and Natural Gas"
          ],
          [
           "PIONEER NATURAL RESOURCES CO",
           "Crude Petroleum and Natural Gas"
          ],
          [
           "BONANZA CREEK ENERGY, INC.",
           "Crude Petroleum and Natural Gas"
          ],
          [
           "DEVON ENERGY CORP/DE",
           "Crude Petroleum and Natural Gas"
          ],
          [
           "CALIFORNIA RESOURCES CORP",
           "Crude Petroleum and Natural Gas"
          ],
          [
           "PARK PLACE ENERGY INC.",
           "Crude Petroleum and Natural Gas"
          ],
          [
           "ANTERO RESOURCES CORP",
           "Crude Petroleum and Natural Gas"
          ],
          [
           "LAREDO PETROLEUM, INC.",
           "Crude Petroleum and Natural Gas"
          ],
          [
           "CIMAREX ENERGY CO",
           "Crude Petroleum and Natural Gas"
          ],
          [
           "ALTA MESA HOLDINGS, LP",
           "Crude Petroleum and Natural Gas"
          ],
          [
           "US ENERGY CORP",
           "Crude Petroleum and Natural Gas"
          ],
          [
           "VICTORY ENERGY CORP",
           "Crude Petroleum and Natural Gas"
          ],
          [
           "VICTORY ENERGY CORP",
           "Crude Petroleum and Natural Gas"
          ],
          [
           "GRAN TIERRA ENERGY INC.",
           "Crude Petroleum and Natural Gas"
          ],
          [
           "MIDSTATES PETROLEUM COMPANY, INC.",
           "Crude Petroleum and Natural Gas"
          ],
          [
           "WILDHORSE RESOURCE DEVELOPMENT CORP",
           "Crude Petroleum and Natural Gas"
          ],
          [
           "SM ENERGY CO",
           "Crude Petroleum and Natural Gas"
          ],
          [
           "SANDRIDGE ENERGY INC",
           "Crude Petroleum and Natural Gas"
          ],
          [
           "RING ENERGY, INC.",
           "Crude Petroleum and Natural Gas"
          ],
          [
           "SANCHEZ ENERGY CORP",
           "Crude Petroleum and Natural Gas"
          ],
          [
           "TETRA TECHNOLOGIES INC",
           "Crude Petroleum and Natural Gas"
          ],
          [
           "RESERVE PETROLEUM CO",
           "Crude Petroleum and Natural Gas"
          ],
          [
           "HESS MIDSTREAM PARTNERS LP",
           "Crude Petroleum and Natural Gas"
          ],
          [
           "TORCHLIGHT ENERGY RESOURCES INC",
           "Crude Petroleum and Natural Gas"
          ],
          [
           "LINN ENERGY, INC.",
           "Crude Petroleum and Natural Gas"
          ],
          [
           "KOSMOS ENERGY LTD.",
           "Crude Petroleum and Natural Gas"
          ],
          [
           "SILVERBOW RESOURCES, INC.",
           "Crude Petroleum and Natural Gas"
          ],
          [
           "TELLURIAN INC. /DE/",
           "Crude Petroleum and Natural Gas"
          ],
          [
           "DORCHESTER MINERALS, L.P.",
           "Crude Petroleum and Natural Gas"
          ],
          [
           "MATADOR RESOURCES CO",
           "Crude Petroleum and Natural Gas"
          ],
          [
           "PDC ENERGY, INC.",
           "Crude Petroleum and Natural Gas"
          ],
          [
           "TEXAS SOUTH ENERGY, INC.",
           "Crude Petroleum and Natural Gas"
          ],
          [
           "PEDEVCO CORP",
           "Crude Petroleum and Natural Gas"
          ],
          [
           "VIPER ENERGY PARTNERS LP",
           "Crude Petroleum and Natural Gas"
          ],
          [
           "ENERJEX RESOURCES, INC.",
           "Crude Petroleum and Natural Gas"
          ],
          [
           "TENGASCO INC",
           "Crude Petroleum and Natural Gas"
          ],
          [
           "KIMBELL ROYALTY PARTNERS, LP",
           "Crude Petroleum and Natural Gas"
          ],
          [
           "CONCHO RESOURCES INC",
           "Crude Petroleum and Natural Gas"
          ],
          [
           "APACHE OFFSHORE INVESTMENT PARTNERSHIP",
           "Crude Petroleum and Natural Gas"
          ],
          [
           "EVERFLOW EASTERN PARTNERS LP",
           "Crude Petroleum and Natural Gas"
          ],
          [
           "CHESAPEAKE ENERGY CORP",
           "Crude Petroleum and Natural Gas"
          ],
          [
           "CARRIZO OIL & GAS INC",
           "Crude Petroleum and Natural Gas"
          ],
          [
           "CALLON PETROLEUM CO",
           "Crude Petroleum and Natural Gas"
          ],
          [
           "PENN VIRGINIA CORP",
           "Crude Petroleum and Natural Gas"
          ],
          [
           "DIAMONDBACK ENERGY, INC.",
           "Crude Petroleum and Natural Gas"
          ],
          [
           "COMSTOCK RESOURCES INC",
           "Crude Petroleum and Natural Gas"
          ],
          [
           "DALA PETROLEUM CORP.",
           "Crude Petroleum and Natural Gas"
          ],
          [
           "WPX ENERGY, INC.",
           "Crude Petroleum and Natural Gas"
          ],
          [
           "LILIS ENERGY, INC.",
           "Crude Petroleum and Natural Gas"
          ]
         ],
         "hovertemplate": "color=Crude Petroleum and Natural Gas<br>0=%{x}<br>1=%{y}<br>2=%{z}<br>name=%{customdata[0]}<br>industry=%{customdata[1]}<extra></extra>",
         "legendgroup": "Crude Petroleum and Natural Gas",
         "marker": {
          "color": "#EF553B",
          "symbol": "circle"
         },
         "mode": "markers",
         "name": "Crude Petroleum and Natural Gas",
         "scene": "scene",
         "showlegend": true,
         "type": "scatter3d",
         "x": [
          -4.338934421539307,
          -4.87925386428833,
          5.125483512878418,
          -6.965017795562744,
          -4.066265106201172,
          -0.6036471724510193,
          -0.6361156702041626,
          2.910270929336548,
          -2.346933126449585,
          -5.02119255065918,
          -1.016222596168518,
          -5.0158491134643555,
          -2.1602272987365723,
          -4.362594127655029,
          -3.976363182067871,
          0.3580302298069,
          -5.023856163024902,
          -3.9072091579437256,
          -4.776683807373047,
          -1.5467168092727661,
          -4.913160800933838,
          -2.949206590652466,
          -0.7171188592910767,
          -2.3721959590911865,
          4.166646480560303,
          -3.1221158504486084,
          -4.846714496612549,
          -2.935642719268799,
          -3.3473894596099854,
          -2.172006607055664,
          -2.3833558559417725,
          -4.933843612670898,
          -2.030531167984009,
          -2.944718360900879,
          -1.9295934438705444,
          -7.217803478240967,
          0.3723922073841095,
          -5.026540279388428,
          -4.600001335144043,
          -4.231137275695801,
          -3.100929021835327,
          -4.610886096954346,
          -0.44115281105041504,
          -0.43034660816192627,
          -2.9882595539093018,
          -4.894316673278809,
          -2.5278232097625732,
          -3.2747159004211426,
          -2.013903856277466,
          -1.8592652082443237,
          -2.9527013301849365,
          -0.395159512758255,
          -2.064542055130005,
          -5.380678653717041,
          -0.8946661353111267,
          -7.173089981079102,
          -2.362948417663574,
          -6.625407695770264,
          -4.21536111831665,
          -2.3561012744903564,
          -5.6309099197387695,
          -5.583539962768555,
          -2.0312647819519043,
          -0.6673098206520081,
          -3.4998056888580322,
          -0.15042677521705627,
          -0.9042539596557617,
          -3.9866909980773926,
          -3.4423770904541016,
          -1.9330235719680786,
          -2.6337215900421143,
          -2.7920918464660645,
          -1.849784255027771,
          -4.895313262939453,
          -0.8924754858016968,
          -4.7028937339782715,
          -4.3259358406066895,
          -3.67311954498291,
          -4.48706579208374,
          -5.009604454040527
         ],
         "y": [
          11.007107734680176,
          5.5628180503845215,
          1.8456761837005615,
          -4.158109188079834,
          6.383697032928467,
          1.9170454740524292,
          -0.20384594798088074,
          -0.0981096550822258,
          0.5331064462661743,
          11.996333122253418,
          0.6888121366500854,
          8.256855964660645,
          2.386695146560669,
          12.957012176513672,
          11.902938842773438,
          2.941899061203003,
          8.95601749420166,
          18.6861572265625,
          17.47210121154785,
          12.975784301757812,
          12.246920585632324,
          13.632713317871094,
          0.12775848805904388,
          6.982885360717773,
          11.22619342803955,
          12.16279125213623,
          15.117724418640137,
          16.901443481445312,
          9.782977104187012,
          7.403168201446533,
          16.721702575683594,
          11.74586009979248,
          11.306434631347656,
          15.547811508178711,
          8.168561935424805,
          8.71232795715332,
          5.703415393829346,
          12.866593360900879,
          16.585886001586914,
          11.863757133483887,
          9.747602462768555,
          9.32599925994873,
          5.3878865242004395,
          6.116734981536865,
          7.036123275756836,
          13.888328552246094,
          10.329604148864746,
          12.552148818969727,
          14.410449981689453,
          6.643749237060547,
          15.38826847076416,
          11.114509582519531,
          4.304287433624268,
          11.730081558227539,
          2.464045763015747,
          11.943687438964844,
          20.462919235229492,
          9.501428604125977,
          12.485672950744629,
          4.440741062164307,
          18.755151748657227,
          11.533910751342773,
          9.832419395446777,
          -0.01506753545254469,
          13.11234188079834,
          2.938189744949341,
          7.630776405334473,
          16.04189682006836,
          13.982332229614258,
          4.605970859527588,
          7.809214115142822,
          11.452559471130371,
          14.1815185546875,
          8.481234550476074,
          9.274306297302246,
          10.247285842895508,
          8.084674835205078,
          3.6611242294311523,
          14.84321403503418,
          6.981031894683838
         ],
         "z": [
          -3.8066844940185547,
          -5.076069355010986,
          -3.7506980895996094,
          0.31242474913597107,
          -6.443813323974609,
          0.027066124603152275,
          -0.523312509059906,
          -0.7890185713768005,
          -1.134509563446045,
          -9.407032012939453,
          -1.0376371145248413,
          -6.48729133605957,
          -3.2324531078338623,
          -6.946220397949219,
          -7.067500114440918,
          3.388962984085083,
          -5.042329788208008,
          -8.357192039489746,
          -6.4610443115234375,
          -6.256521701812744,
          -6.731006622314453,
          -6.217545509338379,
          -0.5339164137840271,
          -2.9555554389953613,
          0.06268730014562607,
          -6.788815498352051,
          -6.294985771179199,
          -8.282397270202637,
          -5.288501262664795,
          -3.2302093505859375,
          -5.432971477508545,
          -1.0377849340438843,
          -6.109461307525635,
          -5.881869316101074,
          -3.8332929611206055,
          -2.5866053104400635,
          -3.1856143474578857,
          -6.7606892585754395,
          -6.302535533905029,
          -6.906772613525391,
          -4.190859794616699,
          -4.922549247741699,
          -0.7007544636726379,
          -0.25308868288993835,
          -1.9770194292068481,
          -7.363687515258789,
          -5.433267116546631,
          -6.798224449157715,
          -7.772242546081543,
          -3.4275383949279785,
          -7.111152172088623,
          0.3586399257183075,
          -3.800595760345459,
          -3.865292549133301,
          -1.848412036895752,
          -5.584907531738281,
          -8.031359672546387,
          -6.386700630187988,
          -4.512598514556885,
          -2.6069912910461426,
          -6.930907249450684,
          -5.31864595413208,
          -6.821707248687744,
          -0.4863307476043701,
          -7.394650936126709,
          6.714419841766357,
          -4.416245937347412,
          -6.968101501464844,
          -6.544267654418945,
          -0.3744620084762573,
          -5.208028316497803,
          -4.018855094909668,
          -7.977996349334717,
          -6.728317737579346,
          -4.563459873199463,
          -7.084689140319824,
          -6.31632137298584,
          4.667280197143555,
          -7.033782482147217,
          -4.230588436126709
         ]
        },
        {
         "customdata": [
          [
           "ULURU INC.",
           "Pharmaceutical Preparations"
          ],
          [
           "CHINA YCT INTERNATIONAL GROUP, INC.",
           "Pharmaceutical Preparations"
          ],
          [
           "AXOVANT SCIENCES LTD.",
           "Pharmaceutical Preparations"
          ],
          [
           "MYOVANT SCIENCES LTD.",
           "Pharmaceutical Preparations"
          ],
          [
           "PRESTIGE BRANDS HOLDINGS, INC.",
           "Pharmaceutical Preparations"
          ],
          [
           "HYPGEN INC",
           "Pharmaceutical Preparations"
          ],
          [
           "HYPGEN INC",
           "Pharmaceutical Preparations"
          ],
          [
           "DANDRIT BIOTECH USA, INC.",
           "Pharmaceutical Preparations"
          ],
          [
           "REZOLUTE, INC.",
           "Pharmaceutical Preparations"
          ],
          [
           "OPTEC INTERNATIONAL, INC.",
           "Pharmaceutical Preparations"
          ],
          [
           "OPTEC INTERNATIONAL, INC.",
           "Pharmaceutical Preparations"
          ],
          [
           "BIOVIE INC.",
           "Pharmaceutical Preparations"
          ],
          [
           "ONCOSEC MEDICAL INC",
           "Pharmaceutical Preparations"
          ],
          [
           "CANNABICS PHARMACEUTICALS INC.",
           "Pharmaceutical Preparations"
          ],
          [
           "ORAMED PHARMACEUTICALS INC.",
           "Pharmaceutical Preparations"
          ],
          [
           "ENTEST BIOMEDICAL, INC.",
           "Pharmaceutical Preparations"
          ],
          [
           "MY CLOUDZ, INC.",
           "Pharmaceutical Preparations"
          ],
          [
           "MY CLOUDZ, INC.",
           "Pharmaceutical Preparations"
          ],
          [
           "ENANTA PHARMACEUTICALS INC",
           "Pharmaceutical Preparations"
          ],
          [
           "CITIUS PHARMACEUTICALS, INC.",
           "Pharmaceutical Preparations"
          ],
          [
           "STELLAR BIOTECHNOLOGIES, INC.",
           "Pharmaceutical Preparations"
          ],
          [
           "REGEN BIOPHARMA INC",
           "Pharmaceutical Preparations"
          ],
          [
           "REGEN BIOPHARMA INC",
           "Pharmaceutical Preparations"
          ],
          [
           "ADVAXIS, INC.",
           "Pharmaceutical Preparations"
          ],
          [
           "ORGENESIS INC.",
           "Pharmaceutical Preparations"
          ],
          [
           "Q BIOMED INC.",
           "Pharmaceutical Preparations"
          ],
          [
           "JOHNSON & JOHNSON",
           "Pharmaceutical Preparations"
          ],
          [
           "BRISTOL MYERS SQUIBB CO",
           "Pharmaceutical Preparations"
          ],
          [
           "VBI VACCINES INC/BC",
           "Pharmaceutical Preparations"
          ],
          [
           "INTRA-CELLULAR THERAPIES, INC.",
           "Pharmaceutical Preparations"
          ],
          [
           "ROCKET PHARMACEUTICALS, INC.",
           "Pharmaceutical Preparations"
          ],
          [
           "ATLAS HOLDINGS, INC.",
           "Pharmaceutical Preparations"
          ],
          [
           "NEMUS BIOSCIENCE, INC.",
           "Pharmaceutical Preparations"
          ],
          [
           "NEMUS BIOSCIENCE, INC.",
           "Pharmaceutical Preparations"
          ],
          [
           "OVASCIENCE, INC.",
           "Pharmaceutical Preparations"
          ],
          [
           "CONCERT PHARMACEUTICALS, INC.",
           "Pharmaceutical Preparations"
          ],
          [
           "AKCEA THERAPEUTICS, INC.",
           "Pharmaceutical Preparations"
          ],
          [
           "ARQULE INC",
           "Pharmaceutical Preparations"
          ],
          [
           "AXIM BIOTECHNOLOGIES, INC.",
           "Pharmaceutical Preparations"
          ],
          [
           "GUARDION HEALTH SCIENCES, INC.",
           "Pharmaceutical Preparations"
          ],
          [
           "RETROPHIN, INC.",
           "Pharmaceutical Preparations"
          ],
          [
           "SYNDAX PHARMACEUTICALS INC",
           "Pharmaceutical Preparations"
          ],
          [
           "FIBROGEN INC",
           "Pharmaceutical Preparations"
          ],
          [
           "PROTOKINETIX, INC.",
           "Pharmaceutical Preparations"
          ],
          [
           "PROGENICS PHARMACEUTICALS INC",
           "Pharmaceutical Preparations"
          ],
          [
           "CHECKPOINT THERAPEUTICS, INC.",
           "Pharmaceutical Preparations"
          ],
          [
           "PFENEX INC.",
           "Pharmaceutical Preparations"
          ],
          [
           "PAIN THERAPEUTICS INC",
           "Pharmaceutical Preparations"
          ],
          [
           "ZOMEDICA PHARMACEUTICALS CORP.",
           "Pharmaceutical Preparations"
          ],
          [
           "ZOMEDICA PHARMACEUTICALS CORP.",
           "Pharmaceutical Preparations"
          ],
          [
           "MOLECULAR TEMPLATES, INC.",
           "Pharmaceutical Preparations"
          ],
          [
           "WAVE LIFE SCIENCES LTD.",
           "Pharmaceutical Preparations"
          ],
          [
           "CYMABAY THERAPEUTICS, INC.",
           "Pharmaceutical Preparations"
          ],
          [
           "AMICUS THERAPEUTICS INC",
           "Pharmaceutical Preparations"
          ],
          [
           "EVOKE PHARMA INC",
           "Pharmaceutical Preparations"
          ],
          [
           "CHEMBIO DIAGNOSTICS, INC.",
           "Pharmaceutical Preparations"
          ],
          [
           "CARA THERAPEUTICS, INC.",
           "Pharmaceutical Preparations"
          ],
          [
           "CYTOMX THERAPEUTICS, INC.",
           "Pharmaceutical Preparations"
          ],
          [
           "XENCOR INC",
           "Pharmaceutical Preparations"
          ],
          [
           "CATABASIS PHARMACEUTICALS INC",
           "Pharmaceutical Preparations"
          ],
          [
           "SERES THERAPEUTICS, INC.",
           "Pharmaceutical Preparations"
          ],
          [
           "EYEGATE PHARMACEUTICALS INC",
           "Pharmaceutical Preparations"
          ],
          [
           "ARENA PHARMACEUTICALS INC",
           "Pharmaceutical Preparations"
          ],
          [
           "ALEXION PHARMACEUTICALS INC",
           "Pharmaceutical Preparations"
          ],
          [
           "MELINTA THERAPEUTICS, INC. /NEW/",
           "Pharmaceutical Preparations"
          ],
          [
           "FIVE PRIME THERAPEUTICS INC",
           "Pharmaceutical Preparations"
          ],
          [
           "LIXTE BIOTECHNOLOGY HOLDINGS, INC.",
           "Pharmaceutical Preparations"
          ],
          [
           "ARATANA THERAPEUTICS, INC.",
           "Pharmaceutical Preparations"
          ],
          [
           "CHIASMA, INC",
           "Pharmaceutical Preparations"
          ],
          [
           "CELGENE CORP /DE/",
           "Pharmaceutical Preparations"
          ],
          [
           "NEWLINK GENETICS CORP",
           "Pharmaceutical Preparations"
          ],
          [
           "LIGAND PHARMACEUTICALS INC",
           "Pharmaceutical Preparations"
          ],
          [
           "PORTOLA PHARMACEUTICALS INC",
           "Pharmaceutical Preparations"
          ],
          [
           "PLX PHARMA INC.",
           "Pharmaceutical Preparations"
          ],
          [
           "ARDELYX, INC.",
           "Pharmaceutical Preparations"
          ],
          [
           "PROTAGONIST THERAPEUTICS, INC",
           "Pharmaceutical Preparations"
          ],
          [
           "MOLECULIN BIOTECH, INC.",
           "Pharmaceutical Preparations"
          ],
          [
           "IRONWOOD PHARMACEUTICALS INC",
           "Pharmaceutical Preparations"
          ],
          [
           "FORTRESS BIOTECH, INC.",
           "Pharmaceutical Preparations"
          ],
          [
           "SYNTHETIC BIOLOGICS, INC.",
           "Pharmaceutical Preparations"
          ],
          [
           "OPTINOSE, INC.",
           "Pharmaceutical Preparations"
          ],
          [
           "CORMEDIX INC.",
           "Pharmaceutical Preparations"
          ],
          [
           "HEAT BIOLOGICS, INC.",
           "Pharmaceutical Preparations"
          ],
          [
           "SUN BIOPHARMA, INC.",
           "Pharmaceutical Preparations"
          ],
          [
           "BELLEROPHON THERAPEUTICS, INC.",
           "Pharmaceutical Preparations"
          ],
          [
           "BIOSPECIFICS TECHNOLOGIES CORP",
           "Pharmaceutical Preparations"
          ],
          [
           "ZOSANO PHARMA CORP",
           "Pharmaceutical Preparations"
          ],
          [
           "CV SCIENCES, INC.",
           "Pharmaceutical Preparations"
          ],
          [
           "LILLY ELI & CO",
           "Pharmaceutical Preparations"
          ],
          [
           "SAREPTA THERAPEUTICS, INC.",
           "Pharmaceutical Preparations"
          ],
          [
           "EXICURE, INC.",
           "Pharmaceutical Preparations"
          ],
          [
           "OVID THERAPEUTICS INC.",
           "Pharmaceutical Preparations"
          ],
          [
           "IMPRIMIS PHARMACEUTICALS, INC.",
           "Pharmaceutical Preparations"
          ],
          [
           "IONIS PHARMACEUTICALS INC",
           "Pharmaceutical Preparations"
          ],
          [
           "ONCOMED PHARMACEUTICALS INC",
           "Pharmaceutical Preparations"
          ],
          [
           "TONIX PHARMACEUTICALS HOLDING CORP.",
           "Pharmaceutical Preparations"
          ],
          [
           "TEVA PHARMACEUTICAL INDUSTRIES LTD",
           "Pharmaceutical Preparations"
          ],
          [
           "RHYTHM PHARMACEUTICALS, INC.",
           "Pharmaceutical Preparations"
          ],
          [
           "COCRYSTAL PHARMA, INC.",
           "Pharmaceutical Preparations"
          ],
          [
           "REGENERON PHARMACEUTICALS INC",
           "Pharmaceutical Preparations"
          ],
          [
           "ANI PHARMACEUTICALS INC",
           "Pharmaceutical Preparations"
          ],
          [
           "CLEARSIDE BIOMEDICAL, INC.",
           "Pharmaceutical Preparations"
          ],
          [
           "LIPOCINE INC.",
           "Pharmaceutical Preparations"
          ],
          [
           "GALECTIN THERAPEUTICS INC",
           "Pharmaceutical Preparations"
          ],
          [
           "STEMLINE THERAPEUTICS INC",
           "Pharmaceutical Preparations"
          ],
          [
           "DOVA PHARMACEUTICALS, INC.",
           "Pharmaceutical Preparations"
          ],
          [
           "ABBVIE INC.",
           "Pharmaceutical Preparations"
          ],
          [
           "AKORN INC",
           "Pharmaceutical Preparations"
          ],
          [
           "VALEANT PHARMACEUTICALS INTERNATIONAL, INC.",
           "Pharmaceutical Preparations"
          ],
          [
           "INTELGENX TECHNOLOGIES CORP.",
           "Pharmaceutical Preparations"
          ],
          [
           "PFIZER INC",
           "Pharmaceutical Preparations"
          ],
          [
           "SKINVISIBLE INC",
           "Pharmaceutical Preparations"
          ],
          [
           "TAPIMMUNE INC.",
           "Pharmaceutical Preparations"
          ],
          [
           "THERAPEUTICSMD, INC.",
           "Pharmaceutical Preparations"
          ],
          [
           "AQUINOX PHARMACEUTICALS, INC",
           "Pharmaceutical Preparations"
          ],
          [
           "GLOBAL BLOOD THERAPEUTICS, INC.",
           "Pharmaceutical Preparations"
          ],
          [
           "RIGEL PHARMACEUTICALS INC",
           "Pharmaceutical Preparations"
          ],
          [
           "PARATEK PHARMACEUTICALS, INC.",
           "Pharmaceutical Preparations"
          ],
          [
           "PERRIGO CO PLC",
           "Pharmaceutical Preparations"
          ],
          [
           "ZAFGEN, INC.",
           "Pharmaceutical Preparations"
          ],
          [
           "OPHTHOTECH CORP.",
           "Pharmaceutical Preparations"
          ],
          [
           "ACHILLION PHARMACEUTICALS INC",
           "Pharmaceutical Preparations"
          ],
          [
           "KEMPHARM, INC",
           "Pharmaceutical Preparations"
          ],
          [
           "INTERCEPT PHARMACEUTICALS INC",
           "Pharmaceutical Preparations"
          ],
          [
           "ULTRAGENYX PHARMACEUTICAL INC.",
           "Pharmaceutical Preparations"
          ],
          [
           "EMERGENT BIOSOLUTIONS INC.",
           "Pharmaceutical Preparations"
          ],
          [
           "ACER THERAPEUTICS INC.",
           "Pharmaceutical Preparations"
          ],
          [
           "HERON THERAPEUTICS, INC. /DE/",
           "Pharmaceutical Preparations"
          ],
          [
           "ADAMIS PHARMACEUTICALS CORP",
           "Pharmaceutical Preparations"
          ],
          [
           "GT BIOPHARMA, INC.",
           "Pharmaceutical Preparations"
          ],
          [
           "GT BIOPHARMA, INC.",
           "Pharmaceutical Preparations"
          ],
          [
           "GT BIOPHARMA, INC.",
           "Pharmaceutical Preparations"
          ],
          [
           "GT BIOPHARMA, INC.",
           "Pharmaceutical Preparations"
          ],
          [
           "GT BIOPHARMA, INC.",
           "Pharmaceutical Preparations"
          ],
          [
           "GT BIOPHARMA, INC.",
           "Pharmaceutical Preparations"
          ],
          [
           "IMMUNOGEN INC",
           "Pharmaceutical Preparations"
          ],
          [
           "PTC THERAPEUTICS, INC.",
           "Pharmaceutical Preparations"
          ],
          [
           "MANNKIND CORP",
           "Pharmaceutical Preparations"
          ],
          [
           "CARDAX, INC.",
           "Pharmaceutical Preparations"
          ],
          [
           "SYROS PHARMACEUTICALS, INC.",
           "Pharmaceutical Preparations"
          ],
          [
           "ADURO BIOTECH, INC.",
           "Pharmaceutical Preparations"
          ],
          [
           "SIENNA BIOPHARMACEUTICALS, INC.",
           "Pharmaceutical Preparations"
          ],
          [
           "ACHAOGEN INC",
           "Pharmaceutical Preparations"
          ],
          [
           "UNITED CANNABIS CORP",
           "Pharmaceutical Preparations"
          ],
          [
           "UNITED CANNABIS CORP",
           "Pharmaceutical Preparations"
          ],
          [
           "RXI PHARMACEUTICALS CORP",
           "Pharmaceutical Preparations"
          ],
          [
           "RXI PHARMACEUTICALS CORP",
           "Pharmaceutical Preparations"
          ],
          [
           "RXI PHARMACEUTICALS CORP",
           "Pharmaceutical Preparations"
          ],
          [
           "RXI PHARMACEUTICALS CORP",
           "Pharmaceutical Preparations"
          ],
          [
           "SOLIGENIX, INC.",
           "Pharmaceutical Preparations"
          ],
          [
           "XOMA CORP",
           "Pharmaceutical Preparations"
          ],
          [
           "SIERRA ONCOLOGY, INC.",
           "Pharmaceutical Preparations"
          ],
          [
           "ACTINIUM PHARMACEUTICALS, INC.",
           "Pharmaceutical Preparations"
          ],
          [
           "ORAGENICS INC",
           "Pharmaceutical Preparations"
          ],
          [
           "ATHERSYS, INC / NEW",
           "Pharmaceutical Preparations"
          ],
          [
           "PULMATRIX, INC.",
           "Pharmaceutical Preparations"
          ],
          [
           "ACADIA PHARMACEUTICALS INC",
           "Pharmaceutical Preparations"
          ],
          [
           "TREVENA INC",
           "Pharmaceutical Preparations"
          ],
          [
           "NATURES SUNSHINE PRODUCTS INC",
           "Pharmaceutical Preparations"
          ],
          [
           "FLEXION THERAPEUTICS INC",
           "Pharmaceutical Preparations"
          ],
          [
           "VERASTEM, INC.",
           "Pharmaceutical Preparations"
          ],
          [
           "XENON PHARMACEUTICALS INC.",
           "Pharmaceutical Preparations"
          ],
          [
           "SUNESIS PHARMACEUTICALS INC",
           "Pharmaceutical Preparations"
          ],
          [
           "CORVUS PHARMACEUTICALS, INC.",
           "Pharmaceutical Preparations"
          ],
          [
           "MERCK & CO., INC.",
           "Pharmaceutical Preparations"
          ],
          [
           "STRONGBRIDGE BIOPHARMA PLC",
           "Pharmaceutical Preparations"
          ],
          [
           "CATALYST PHARMACEUTICALS, INC.",
           "Pharmaceutical Preparations"
          ],
          [
           "ASSEMBLY BIOSCIENCES, INC.",
           "Pharmaceutical Preparations"
          ],
          [
           "APRICUS BIOSCIENCES, INC.",
           "Pharmaceutical Preparations"
          ],
          [
           "CATALYST BIOSCIENCES, INC.",
           "Pharmaceutical Preparations"
          ],
          [
           "MIRATI THERAPEUTICS, INC.",
           "Pharmaceutical Preparations"
          ],
          [
           "MUSTANG BIO, INC.",
           "Pharmaceutical Preparations"
          ],
          [
           "ACELRX PHARMACEUTICALS INC",
           "Pharmaceutical Preparations"
          ],
          [
           "BLUEPRINT MEDICINES CORP",
           "Pharmaceutical Preparations"
          ],
          [
           "ATHENEX, INC.",
           "Pharmaceutical Preparations"
          ],
          [
           "ATHENEX, INC.",
           "Pharmaceutical Preparations"
          ],
          [
           "RECRO PHARMA, INC.",
           "Pharmaceutical Preparations"
          ],
          [
           "BIOHAVEN PHARMACEUTICAL HOLDING CO LTD.",
           "Pharmaceutical Preparations"
          ],
          [
           "PROTHENA CORP PLC",
           "Pharmaceutical Preparations"
          ],
          [
           "AVENUE THERAPEUTICS, INC.",
           "Pharmaceutical Preparations"
          ],
          [
           "VTV THERAPEUTICS INC.",
           "Pharmaceutical Preparations"
          ],
          [
           "ZYNERBA PHARMACEUTICALS, INC.",
           "Pharmaceutical Preparations"
          ],
          [
           "BIOMARIN PHARMACEUTICAL INC",
           "Pharmaceutical Preparations"
          ],
          [
           "KARYOPHARM THERAPEUTICS INC.",
           "Pharmaceutical Preparations"
          ],
          [
           "LEXICON PHARMACEUTICALS, INC.",
           "Pharmaceutical Preparations"
          ],
          [
           "ENDO INTERNATIONAL PLC",
           "Pharmaceutical Preparations"
          ],
          [
           "PROPHASE LABS, INC.",
           "Pharmaceutical Preparations"
          ],
          [
           "CELLECTAR BIOSCIENCES, INC.",
           "Pharmaceutical Preparations"
          ],
          [
           "RITTER PHARMACEUTICALS INC",
           "Pharmaceutical Preparations"
          ],
          [
           "MARINUS PHARMACEUTICALS INC",
           "Pharmaceutical Preparations"
          ],
          [
           "CORCEPT THERAPEUTICS INC",
           "Pharmaceutical Preparations"
          ],
          [
           "ALNYLAM PHARMACEUTICALS, INC.",
           "Pharmaceutical Preparations"
          ],
          [
           "DARE BIOSCIENCE, INC.",
           "Pharmaceutical Preparations"
          ],
          [
           "TELIGENT, INC.",
           "Pharmaceutical Preparations"
          ],
          [
           "TELIGENT, INC.",
           "Pharmaceutical Preparations"
          ],
          [
           "ACLARIS THERAPEUTICS, INC.",
           "Pharmaceutical Preparations"
          ],
          [
           "VITAL THERAPIES INC",
           "Pharmaceutical Preparations"
          ],
          [
           "DECIPHERA PHARMACEUTICALS, INC.",
           "Pharmaceutical Preparations"
          ],
          [
           "CAPSTONE THERAPEUTICS CORP.",
           "Pharmaceutical Preparations"
          ],
          [
           "PACIRA PHARMACEUTICALS, INC.",
           "Pharmaceutical Preparations"
          ],
          [
           "UROGEN PHARMA LTD.",
           "Pharmaceutical Preparations"
          ],
          [
           "FIBROCELL SCIENCE, INC.",
           "Pharmaceutical Preparations"
          ],
          [
           "FLEX PHARMA, INC.",
           "Pharmaceutical Preparations"
          ],
          [
           "BIODELIVERY SCIENCES INTERNATIONAL INC",
           "Pharmaceutical Preparations"
          ],
          [
           "HORIZON PHARMA PLC",
           "Pharmaceutical Preparations"
          ],
          [
           "MERRIMACK PHARMACEUTICALS INC",
           "Pharmaceutical Preparations"
          ],
          [
           "CYCLACEL PHARMACEUTICALS, INC.",
           "Pharmaceutical Preparations"
          ],
          [
           "ZOETIS INC.",
           "Pharmaceutical Preparations"
          ]
         ],
         "hovertemplate": "color=Pharmaceutical Preparations<br>0=%{x}<br>1=%{y}<br>2=%{z}<br>name=%{customdata[0]}<br>industry=%{customdata[1]}<extra></extra>",
         "legendgroup": "Pharmaceutical Preparations",
         "marker": {
          "color": "#00cc96",
          "symbol": "circle"
         },
         "mode": "markers",
         "name": "Pharmaceutical Preparations",
         "scene": "scene",
         "showlegend": true,
         "type": "scatter3d",
         "x": [
          7.1472554206848145,
          4.8398308753967285,
          3.8125617504119873,
          7.062637805938721,
          4.342325687408447,
          2.529646635055542,
          2.4022276401519775,
          8.975658416748047,
          5.287420272827148,
          0.0014502466656267643,
          0.12061052769422531,
          6.471107482910156,
          8.875487327575684,
          7.419072151184082,
          4.2007951736450195,
          -4.611718654632568,
          -0.4333934783935547,
          -0.20937614142894745,
          16.033191680908203,
          2.2163138389587402,
          5.667092323303223,
          7.975491046905518,
          8.539560317993164,
          9.318485260009766,
          7.306340217590332,
          8.402472496032715,
          3.169231414794922,
          -0.4974548816680908,
          13.40435791015625,
          10.115333557128906,
          3.0997159481048584,
          5.594014644622803,
          10.174090385437012,
          10.404949188232422,
          12.59782886505127,
          4.876401901245117,
          10.803862571716309,
          -0.8595438599586487,
          4.663023471832275,
          4.84438943862915,
          11.735240936279297,
          15.138833045959473,
          4.722601890563965,
          6.3433027267456055,
          0.2520819902420044,
          15.281221389770508,
          15.559150695800781,
          8.41652774810791,
          13.543177604675293,
          11.91261100769043,
          16.648176193237305,
          20.790512084960938,
          6.775458812713623,
          13.399819374084473,
          10.680538177490234,
          9.878888130187988,
          1.6790248155593872,
          17.32182502746582,
          -0.38227561116218567,
          3.311040163040161,
          15.38819694519043,
          11.784460067749023,
          12.896665573120117,
          12.966362953186035,
          10.457948684692383,
          -0.6561487317085266,
          11.85584831237793,
          15.193745613098145,
          13.305049896240234,
          12.845398902893066,
          12.009507179260254,
          10.72836685180664,
          12.752036094665527,
          11.165312767028809,
          7.260679244995117,
          18.659414291381836,
          15.92952823638916,
          12.307195663452148,
          5.367313861846924,
          12.841548919677734,
          13.90893840789795,
          12.901349067687988,
          6.388678550720215,
          8.058955192565918,
          0.20363251864910126,
          11.397330284118652,
          9.479397773742676,
          4.500385284423828,
          12.267298698425293,
          15.766249656677246,
          14.016778945922852,
          12.368799209594727,
          9.276684761047363,
          18.96493148803711,
          15.347466468811035,
          14.437152862548828,
          12.524007797241211,
          15.406055450439453,
          12.41809368133545,
          16.595428466796875,
          9.678400993347168,
          15.28291130065918,
          10.448149681091309,
          8.514301300048828,
          16.05670928955078,
          4.436563968658447,
          9.875205039978027,
          8.490970611572266,
          9.482471466064453,
          14.218863487243652,
          2.2898385524749756,
          8.483525276184082,
          13.81004524230957,
          15.388978004455566,
          7.410682201385498,
          7.889310836791992,
          14.838448524475098,
          12.123435974121094,
          1.128569483757019,
          -0.23079487681388855,
          16.550954818725586,
          15.09791088104248,
          14.205424308776855,
          8.941410064697266,
          3.549909830093384,
          13.915740966796875,
          12.818374633789062,
          7.439455986022949,
          11.402095794677734,
          12.636373519897461,
          14.665656089782715,
          15.200759887695312,
          16.11152458190918,
          16.975984573364258,
          17.262205123901367,
          12.429720878601074,
          10.89189338684082,
          7.63364315032959,
          7.148709774017334,
          11.987629890441895,
          12.582998275756836,
          11.143302917480469,
          11.656891822814941,
          3.86850643157959,
          4.74172830581665,
          8.996159553527832,
          10.080071449279785,
          11.085030555725098,
          11.255291938781738,
          3.129417657852173,
          6.506316661834717,
          5.257420063018799,
          13.568703651428223,
          11.753182411193848,
          10.874488830566406,
          9.850908279418945,
          11.112208366394043,
          4.883549213409424,
          0.01569630764424801,
          0.6753013134002686,
          8.584775924682617,
          5.171065330505371,
          12.207008361816406,
          9.47313117980957,
          10.865392684936523,
          14.087724685668945,
          12.580403327941895,
          6.560503959655762,
          11.110671043395996,
          13.862824440002441,
          9.569746971130371,
          13.489069938659668,
          7.187744140625,
          14.348292350769043,
          4.751251220703125,
          4.493077754974365,
          7.757638454437256,
          9.848356246948242,
          5.594753742218018,
          12.366744995117188,
          6.844776153564453,
          7.588216304779053,
          3.5613999366760254,
          13.487248420715332,
          5.524033069610596,
          9.502334594726562,
          5.49198579788208,
          14.453678131103516,
          13.667451858520508,
          3.873758554458618,
          11.153197288513184,
          16.42152214050293,
          11.6758394241333,
          5.942215919494629,
          6.460662364959717,
          4.340338706970215,
          6.89655876159668,
          14.122777938842773,
          4.842182636260986,
          0.6563760638237,
          14.355530738830566,
          10.76625919342041,
          8.188838958740234,
          11.508536338806152,
          10.741503715515137,
          10.245753288269043,
          12.759729385375977,
          -2.3812038898468018
         ],
         "y": [
          -2.024188995361328,
          2.18788480758667,
          -0.6299566030502319,
          -0.6631607413291931,
          -2.8717947006225586,
          -0.9038492441177368,
          -1.081731915473938,
          -2.2367327213287354,
          -0.18061503767967224,
          2.078368902206421,
          1.4846645593643188,
          -2.5204684734344482,
          -1.6800068616867065,
          -0.7512708306312561,
          -0.3577965795993805,
          0.9938271641731262,
          0.321828156709671,
          0.09940438717603683,
          -1.6824578046798706,
          -1.336189866065979,
          2.7966554164886475,
          -2.144176483154297,
          -1.5168343782424927,
          -2.257141590118408,
          -1.0266335010528564,
          -0.2055502086877823,
          -1.861142873764038,
          -0.13178080320358276,
          0.6446810960769653,
          -2.513704299926758,
          -0.014029002748429775,
          -1.164421558380127,
          0.6628013253211975,
          0.39664411544799805,
          -1.298485517501831,
          -0.4028705656528473,
          -0.44093218445777893,
          -0.0757676362991333,
          0.7614300847053528,
          -1.3192905187606812,
          -1.7089329957962036,
          -2.2630810737609863,
          -0.08927278220653534,
          0.22625461220741272,
          3.7696993350982666,
          0.6829245090484619,
          1.2020790576934814,
          -0.5834694504737854,
          -0.012068033218383789,
          0.48554134368896484,
          -3.0262722969055176,
          4.884088039398193,
          -0.48630812764167786,
          -0.7769545912742615,
          -2.505927801132202,
          -0.5927084684371948,
          0.5038862824440002,
          2.648056983947754,
          0.7344724535942078,
          -0.7652329206466675,
          1.488403558731079,
          0.9632559418678284,
          -0.6396747827529907,
          -3.2445714473724365,
          0.4999764859676361,
          -0.06540942192077637,
          -1.510223150253296,
          0.3798736035823822,
          1.510218620300293,
          -3.0953216552734375,
          0.1360367238521576,
          0.5453362464904785,
          -1.4121772050857544,
          -1.5385082960128784,
          -0.005353383719921112,
          -0.4796415865421295,
          0.5153525471687317,
          -1.130086064338684,
          0.5899609327316284,
          -1.0809019804000854,
          -2.878176689147949,
          -4.135928630828857,
          -0.5421472787857056,
          -1.1600604057312012,
          0.1280057430267334,
          -0.871074914932251,
          -2.1731746196746826,
          0.3007410764694214,
          -1.7300450801849365,
          -2.979405164718628,
          -1.9568055868148804,
          -2.9901833534240723,
          -1.1038841009140015,
          1.305918574333191,
          -1.760645866394043,
          -2.3585352897644043,
          0.7396528720855713,
          -5.255055904388428,
          0.102226123213768,
          -3.232020616531372,
          -0.22167056798934937,
          -2.497114658355713,
          -1.451136589050293,
          -0.7746079564094543,
          -2.039058208465576,
          -0.11727861315011978,
          -0.5713261365890503,
          -0.8439037799835205,
          0.5576838254928589,
          2.090538501739502,
          -0.24587135016918182,
          -2.001030683517456,
          -2.568915605545044,
          -4.135149955749512,
          -2.975446939468384,
          -0.969606876373291,
          -4.105697154998779,
          -4.560952663421631,
          -0.46615007519721985,
          -1.711917757987976,
          0.44643634557724,
          -5.821298599243164,
          -1.3461095094680786,
          -0.26917216181755066,
          -0.13966304063796997,
          -2.518681049346924,
          -2.0623345375061035,
          -1.9365015029907227,
          0.33094528317451477,
          -1.108733057975769,
          -0.5568127632141113,
          -0.3479200303554535,
          -0.1607884168624878,
          -0.5281364917755127,
          -0.429900199174881,
          -5.2249298095703125,
          -1.8617026805877686,
          -0.8711965084075928,
          -0.3099273145198822,
          -3.104238986968994,
          -2.7224202156066895,
          -2.6482396125793457,
          -4.9039225578308105,
          1.7379605770111084,
          1.4470655918121338,
          -0.19305750727653503,
          0.2298121452331543,
          0.5921078324317932,
          0.6252870559692383,
          -0.05536239221692085,
          0.6294328570365906,
          -1.6247364282608032,
          0.6013779640197754,
          0.44057679176330566,
          -0.30773982405662537,
          -0.7343478202819824,
          -1.5775865316390991,
          -2.1268413066864014,
          -1.6676745414733887,
          -0.8022990226745605,
          -2.4703876972198486,
          -1.1588044166564941,
          -1.8076101541519165,
          -0.6842703223228455,
          -3.028473377227783,
          -3.3574941158294678,
          -3.150158643722534,
          0.4693935215473175,
          -2.8015286922454834,
          -2.0352492332458496,
          -3.2313663959503174,
          -0.9755653738975525,
          -2.2656216621398926,
          -2.760826349258423,
          -1.3435999155044556,
          -1.3433266878128052,
          -1.7944207191467285,
          -2.5690414905548096,
          0.2581847906112671,
          -3.096445322036743,
          -0.8947330713272095,
          -0.2440570890903473,
          0.013041319325566292,
          0.9807679057121277,
          -0.09258230030536652,
          -1.4610698223114014,
          -2.822415828704834,
          -3.1245033740997314,
          -4.875511169433594,
          -2.298635721206665,
          -3.480351209640503,
          -0.7593113780021667,
          -2.9721667766571045,
          -2.700164794921875,
          -2.1839890480041504,
          -0.27130305767059326,
          -0.557087242603302,
          -3.3334763050079346,
          -0.14973725378513336,
          0.019665274769067764,
          -2.6156201362609863,
          -2.962618350982666,
          -3.032376289367676,
          -1.9264899492263794,
          -3.093773603439331,
          -5.540722846984863,
          -2.534576892852783,
          2.4734485149383545
         ],
         "z": [
          -0.8203407526016235,
          -2.1950907707214355,
          -1.6620796918869019,
          -2.0305280685424805,
          2.538132905960083,
          -3.3731751441955566,
          -3.6688284873962402,
          -4.635110378265381,
          -2.0287721157073975,
          1.7994718551635742,
          1.661557674407959,
          -4.317596435546875,
          -0.8489293456077576,
          -0.9057994484901428,
          -1.8494749069213867,
          -3.663133382797241,
          -1.2693618535995483,
          -1.1574630737304688,
          -4.803092956542969,
          -0.24008069932460785,
          0.1868947446346283,
          -7.686182975769043,
          -8.146038055419922,
          -4.375310897827148,
          -1.4993404150009155,
          -1.752662181854248,
          -0.9136160612106323,
          -0.5446310639381409,
          -2.2344000339508057,
          -2.0024845600128174,
          -0.8553597927093506,
          1.1007041931152344,
          -1.6163798570632935,
          -1.8745598793029785,
          -2.925816535949707,
          -1.8388503789901733,
          0.7778788805007935,
          -0.4857785105705261,
          -0.049454815685749054,
          2.278897523880005,
          -1.9636348485946655,
          -2.713385581970215,
          -1.2673008441925049,
          -1.9499332904815674,
          -2.839639663696289,
          -2.2605202198028564,
          -3.0407676696777344,
          -1.0144455432891846,
          2.222532272338867,
          1.4613310098648071,
          -0.81232088804245,
          -2.936450958251953,
          -2.599327564239502,
          -1.8985897302627563,
          -1.0546709299087524,
          3.378916025161743,
          -0.29222384095191956,
          -0.6952381730079651,
          0.7617530822753906,
          -1.1829458475112915,
          0.429508239030838,
          2.311460494995117,
          -1.7875757217407227,
          -0.8394742012023926,
          0.1383952647447586,
          -0.4619992971420288,
          -3.393110752105713,
          0.94251549243927,
          -2.393566370010376,
          -1.945449709892273,
          -2.071338415145874,
          0.072200708091259,
          -1.4495666027069092,
          -0.6273176074028015,
          -1.5585225820541382,
          -1.9769508838653564,
          -3.933593273162842,
          -0.0678669810295105,
          -1.1200541257858276,
          -3.0411782264709473,
          7.471739768981934,
          -0.5218028426170349,
          0.5859332084655762,
          -2.2347452640533447,
          -0.6738563179969788,
          -1.5835641622543335,
          -0.01976146548986435,
          1.6154521703720093,
          0.3814487159252167,
          -2.3039331436157227,
          -1.6071277856826782,
          1.0976828336715698,
          0.9583562612533569,
          -1.2725701332092285,
          -2.532788038253784,
          -0.6866936683654785,
          2.4311153888702393,
          -4.158372402191162,
          -1.9926091432571411,
          -2.610489845275879,
          1.2707940340042114,
          1.0944989919662476,
          -2.2584145069122314,
          -1.5028250217437744,
          -0.3411637544631958,
          -0.7726210355758667,
          -0.92967289686203,
          2.728299140930176,
          2.9779510498046875,
          1.1936405897140503,
          0.28728991746902466,
          1.5180941820144653,
          -2.1625325679779053,
          7.407318115234375,
          -1.4930403232574463,
          -1.375760555267334,
          -0.4246515929698944,
          -1.3121901750564575,
          0.6834296584129333,
          -1.9542893171310425,
          -0.5252668857574463,
          -2.132704496383667,
          0.40776386857032776,
          -2.7203164100646973,
          -0.06971561163663864,
          -1.4906920194625854,
          -2.746363401412964,
          0.9127130508422852,
          0.8084935545921326,
          0.45836445689201355,
          0.5553073287010193,
          0.646544337272644,
          0.4108210504055023,
          0.5580372214317322,
          0.44692522287368774,
          0.6265872716903687,
          -3.1825640201568604,
          2.642160415649414,
          -0.4225689172744751,
          -2.9105727672576904,
          -4.131954669952393,
          -3.0537776947021484,
          -3.510629177093506,
          0.30738377571105957,
          0.1739984154701233,
          -2.7993452548980713,
          -2.6289210319519043,
          -2.7172515392303467,
          -2.999642848968506,
          -1.1314533948898315,
          -2.6765694618225098,
          -1.148287057876587,
          1.4265774488449097,
          -3.140533208847046,
          -2.1203157901763916,
          -0.9318819046020508,
          0.8251369595527649,
          -0.18813644349575043,
          2.3624980449676514,
          -0.6334335207939148,
          -1.0842962265014648,
          -1.4063313007354736,
          -1.4110002517700195,
          -2.6310901641845703,
          -2.6476852893829346,
          -3.614572525024414,
          1.5585840940475464,
          -1.438550353050232,
          -1.8676083087921143,
          -4.508554935455322,
          -1.4398258924484253,
          -1.8555124998092651,
          2.2318739891052246,
          -0.4552260935306549,
          -0.4475652575492859,
          -0.2225363701581955,
          0.953298032283783,
          -1.084363579750061,
          0.001056540641002357,
          -0.8212135434150696,
          -2.2236475944519043,
          -1.197454810142517,
          -0.90214604139328,
          -3.852619171142578,
          -1.234413504600525,
          2.7758843898773193,
          -0.05352441966533661,
          -0.47287294268608093,
          -1.766473650932312,
          -1.1395351886749268,
          -0.8808479309082031,
          -2.7176082134246826,
          0.18231822550296783,
          2.113585948944092,
          2.285101890563965,
          -0.6072343587875366,
          -2.1787519454956055,
          -3.9472317695617676,
          -2.188001871109009,
          0.3379085063934326,
          -3.880810499191284,
          -2.2010440826416016,
          0.007984164170920849,
          1.1095491647720337,
          -1.2234265804290771,
          -1.2287070751190186,
          -4.681443214416504,
          -2.916670799255371
         ]
        },
        {
         "customdata": [
          [
           "INVESTORS REAL ESTATE TRUST",
           "Real Estate Investment Trusts"
          ],
          [
           "BRT APARTMENTS CORP.",
           "Real Estate Investment Trusts"
          ],
          [
           "MONMOUTH REAL ESTATE INVESTMENT CORP",
           "Real Estate Investment Trusts"
          ],
          [
           "FIRST REAL ESTATE INVESTMENT TRUST OF NEW JERSEY",
           "Real Estate Investment Trusts"
          ],
          [
           "FIRST REAL ESTATE INVESTMENT TRUST OF NEW JERSEY",
           "Real Estate Investment Trusts"
          ],
          [
           "URSTADT BIDDLE PROPERTIES INC",
           "Real Estate Investment Trusts"
          ],
          [
           "URSTADT BIDDLE PROPERTIES INC",
           "Real Estate Investment Trusts"
          ],
          [
           "PHILLIPS EDISON & COMPANY, INC.",
           "Real Estate Investment Trusts"
          ],
          [
           "SL GREEN REALTY CORP",
           "Real Estate Investment Trusts"
          ],
          [
           "CUBESMART",
           "Real Estate Investment Trusts"
          ],
          [
           "CIM COMMERCIAL TRUST CORP",
           "Real Estate Investment Trusts"
          ],
          [
           "CERES TACTICAL SYSTEMATIC L.P.",
           "Real Estate Investment Trusts"
          ],
          [
           "PS BUSINESS PARKS INC/CA",
           "Real Estate Investment Trusts"
          ],
          [
           "STEADFAST INCOME REIT, INC.",
           "Real Estate Investment Trusts"
          ],
          [
           "RETAIL OPPORTUNITY INVESTMENTS CORP",
           "Real Estate Investment Trusts"
          ],
          [
           "MORGAN STANLEY SMITH BARNEY SPECTRUM SELECT LP",
           "Real Estate Investment Trusts"
          ],
          [
           "NEW YORK MORTGAGE TRUST INC",
           "Real Estate Investment Trusts"
          ],
          [
           "CBL & ASSOCIATES PROPERTIES INC",
           "Real Estate Investment Trusts"
          ],
          [
           "LEXINGTON REALTY TRUST",
           "Real Estate Investment Trusts"
          ],
          [
           "BRANDYWINE REALTY TRUST",
           "Real Estate Investment Trusts"
          ],
          [
           "LAMAR ADVERTISING CO/NEW",
           "Real Estate Investment Trusts"
          ],
          [
           "JBG SMITH PROPERTIES",
           "Real Estate Investment Trusts"
          ],
          [
           "KBS REAL ESTATE INVESTMENT TRUST III, INC.",
           "Real Estate Investment Trusts"
          ],
          [
           "CAPSTEAD MORTGAGE CORP",
           "Real Estate Investment Trusts"
          ],
          [
           "GGP INC.",
           "Real Estate Investment Trusts"
          ],
          [
           "QTS REALTY TRUST, INC.",
           "Real Estate Investment Trusts"
          ],
          [
           "WELLS FARGO REAL ESTATE INVESTMENT CORP.",
           "Real Estate Investment Trusts"
          ],
          [
           "LIGHTSTONE VALUE PLUS REAL ESTATE INVESTMENT TRUST V, INC.",
           "Real Estate Investment Trusts"
          ],
          [
           "RESOURCE APARTMENT REIT III, INC.",
           "Real Estate Investment Trusts"
          ],
          [
           "CNL HEALTHCARE PROPERTIES, INC.",
           "Real Estate Investment Trusts"
          ],
          [
           "RETAIL PROPERTIES OF AMERICA, INC.",
           "Real Estate Investment Trusts"
          ],
          [
           "BOSTON PROPERTIES INC",
           "Real Estate Investment Trusts"
          ],
          [
           "REGENCY CENTERS CORP",
           "Real Estate Investment Trusts"
          ],
          [
           "NATIONAL HEALTH INVESTORS INC",
           "Real Estate Investment Trusts"
          ],
          [
           "DRIVE SHACK INC.",
           "Real Estate Investment Trusts"
          ],
          [
           "COLE CREDIT PROPERTY TRUST V, INC.",
           "Real Estate Investment Trusts"
          ],
          [
           "EQUITY RESIDENTIAL",
           "Real Estate Investment Trusts"
          ],
          [
           "KITE REALTY GROUP TRUST",
           "Real Estate Investment Trusts"
          ],
          [
           "OUTFRONT MEDIA INC.",
           "Real Estate Investment Trusts"
          ],
          [
           "PENNSYLVANIA REAL ESTATE INVESTMENT TRUST",
           "Real Estate Investment Trusts"
          ],
          [
           "COLE REAL ESTATE INCOME STRATEGY (DAILY NAV), INC.",
           "Real Estate Investment Trusts"
          ],
          [
           "REALTY INCOME CORP",
           "Real Estate Investment Trusts"
          ],
          [
           "GLOBAL MEDICAL REIT INC.",
           "Real Estate Investment Trusts"
          ],
          [
           "PILLARSTONE CAPITAL REIT",
           "Real Estate Investment Trusts"
          ],
          [
           "CLIPPER REALTY INC.",
           "Real Estate Investment Trusts"
          ],
          [
           "BLACK CREEK INDUSTRIAL REIT IV INC.",
           "Real Estate Investment Trusts"
          ],
          [
           "LIGHTSTONE VALUE PLUS REAL ESTATE INVESTMENT TRUST, INC.",
           "Real Estate Investment Trusts"
          ],
          [
           "KKR REAL ESTATE FINANCE TRUST INC.",
           "Real Estate Investment Trusts"
          ],
          [
           "GEO GROUP INC",
           "Real Estate Investment Trusts"
          ],
          [
           "AMERICAN ASSETS TRUST, INC.",
           "Real Estate Investment Trusts"
          ],
          [
           "IMPAC MORTGAGE HOLDINGS INC",
           "Real Estate Investment Trusts"
          ],
          [
           "CNL HEALTHCARE PROPERTIES II, INC.",
           "Real Estate Investment Trusts"
          ],
          [
           "ANWORTH MORTGAGE ASSET CORP",
           "Real Estate Investment Trusts"
          ],
          [
           "LIGHTSTONE VALUE PLUS REAL ESTATE INVESTMENT TRUST III, INC.",
           "Real Estate Investment Trusts"
          ],
          [
           "AMERICAN FINANCE TRUST, INC",
           "Real Estate Investment Trusts"
          ],
          [
           "EQUITY COMMONWEALTH",
           "Real Estate Investment Trusts"
          ],
          [
           "FOUR CORNERS PROPERTY TRUST, INC.",
           "Real Estate Investment Trusts"
          ],
          [
           "RAYONIER INC",
           "Real Estate Investment Trusts"
          ],
          [
           "HOST HOTELS & RESORTS, INC.",
           "Real Estate Investment Trusts"
          ],
          [
           "GAMING & LEISURE PROPERTIES, INC.",
           "Real Estate Investment Trusts"
          ],
          [
           "NATIONAL RETAIL PROPERTIES, INC.",
           "Real Estate Investment Trusts"
          ],
          [
           "SENIOR HOUSING PROPERTIES TRUST",
           "Real Estate Investment Trusts"
          ],
          [
           "SUTHERLAND ASSET MANAGEMENT CORP",
           "Real Estate Investment Trusts"
          ],
          [
           "TAUBMAN CENTERS INC",
           "Real Estate Investment Trusts"
          ],
          [
           "RESOURCE REAL ESTATE OPPORTUNITY REIT, INC.",
           "Real Estate Investment Trusts"
          ],
          [
           "TANGER FACTORY OUTLET CENTERS INC",
           "Real Estate Investment Trusts"
          ],
          [
           "MFA FINANCIAL, INC.",
           "Real Estate Investment Trusts"
          ],
          [
           "TERRA SECURED INCOME FUND 5, LLC",
           "Real Estate Investment Trusts"
          ],
          [
           "SBA COMMUNICATIONS CORP",
           "Real Estate Investment Trusts"
          ],
          [
           "LIGHTSTONE VALUE PLUS REAL ESTATE INVESTMENT TRUST II INC",
           "Real Estate Investment Trusts"
          ],
          [
           "JONES LANG LASALLE INCOME PROPERTY TRUST, INC.",
           "Real Estate Investment Trusts"
          ],
          [
           "AVALONBAY COMMUNITIES INC",
           "Real Estate Investment Trusts"
          ],
          [
           "ARES COMMERCIAL REAL ESTATE CORP",
           "Real Estate Investment Trusts"
          ],
          [
           "CARTER VALIDUS MISSION CRITICAL REIT II, INC.",
           "Real Estate Investment Trusts"
          ],
          [
           "PHYSICIANS REALTY TRUST",
           "Real Estate Investment Trusts"
          ],
          [
           "PROLOGIS, INC.",
           "Real Estate Investment Trusts"
          ],
          [
           "ARMOUR RESIDENTIAL REIT, INC.",
           "Real Estate Investment Trusts"
          ],
          [
           "CHERRY HILL MORTGAGE INVESTMENT CORP",
           "Real Estate Investment Trusts"
          ],
          [
           "EMPIRE STATE REALTY TRUST, INC.",
           "Real Estate Investment Trusts"
          ],
          [
           "PUBLIC STORAGE",
           "Real Estate Investment Trusts"
          ],
          [
           "APARTMENT INVESTMENT & MANAGEMENT CO",
           "Real Estate Investment Trusts"
          ],
          [
           "CEDAR REALTY TRUST, INC.",
           "Real Estate Investment Trusts"
          ],
          [
           "HIGHLANDS REIT, INC.",
           "Real Estate Investment Trusts"
          ],
          [
           "IRON MOUNTAIN INC",
           "Real Estate Investment Trusts"
          ],
          [
           "SOTHERLY HOTELS INC.",
           "Real Estate Investment Trusts"
          ],
          [
           "EMPIRE STATE REALTY OP, L.P.",
           "Real Estate Investment Trusts"
          ],
          [
           "ESSEX PROPERTY TRUST INC",
           "Real Estate Investment Trusts"
          ],
          [
           "WEINGARTEN REALTY INVESTORS /TX/",
           "Real Estate Investment Trusts"
          ],
          [
           "CONDOR HOSPITALITY TRUST, INC.",
           "Real Estate Investment Trusts"
          ],
          [
           "CITY OFFICE REIT, INC.",
           "Real Estate Investment Trusts"
          ],
          [
           "BENEFIT STREET PARTNERS REALTY TRUST, INC.",
           "Real Estate Investment Trusts"
          ],
          [
           "LIGHTSTONE REAL ESTATE INCOME TRUST INC.",
           "Real Estate Investment Trusts"
          ],
          [
           "AMERICAN CAMPUS COMMUNITIES INC",
           "Real Estate Investment Trusts"
          ],
          [
           "STARWOOD PROPERTY TRUST, INC.",
           "Real Estate Investment Trusts"
          ],
          [
           "CORESITE REALTY CORP",
           "Real Estate Investment Trusts"
          ],
          [
           "POTLATCH CORP",
           "Real Estate Investment Trusts"
          ],
          [
           "CORPORATE OFFICE PROPERTIES TRUST",
           "Real Estate Investment Trusts"
          ],
          [
           "RAMCO GERSHENSON PROPERTIES TRUST",
           "Real Estate Investment Trusts"
          ],
          [
           "NATIONAL STORAGE AFFILIATES TRUST",
           "Real Estate Investment Trusts"
          ],
          [
           "HERSHA HOSPITALITY TRUST",
           "Real Estate Investment Trusts"
          ],
          [
           "JERNIGAN CAPITAL, INC.",
           "Real Estate Investment Trusts"
          ],
          [
           "VORNADO REALTY TRUST",
           "Real Estate Investment Trusts"
          ],
          [
           "ISTAR INC.",
           "Real Estate Investment Trusts"
          ],
          [
           "ALEXANDER & BALDWIN, INC.",
           "Real Estate Investment Trusts"
          ],
          [
           "HOSPITALITY INVESTORS TRUST, INC.",
           "Real Estate Investment Trusts"
          ],
          [
           "SAUL CENTERS INC",
           "Real Estate Investment Trusts"
          ],
          [
           "KBS GROWTH & INCOME REIT, INC.",
           "Real Estate Investment Trusts"
          ],
          [
           "EXTRA SPACE STORAGE INC.",
           "Real Estate Investment Trusts"
          ],
          [
           "CHESAPEAKE LODGING TRUST",
           "Real Estate Investment Trusts"
          ],
          [
           "LTC PROPERTIES INC",
           "Real Estate Investment Trusts"
          ],
          [
           "EASTERLY GOVERNMENT PROPERTIES, INC.",
           "Real Estate Investment Trusts"
          ],
          [
           "PLYMOUTH INDUSTRIAL REIT INC.",
           "Real Estate Investment Trusts"
          ],
          [
           "FRANKLIN STREET PROPERTIES CORP /MA/",
           "Real Estate Investment Trusts"
          ],
          [
           "HEALTHCARE TRUST OF AMERICA, INC.",
           "Real Estate Investment Trusts"
          ],
          [
           "REALSOURCE RESIDENTIAL, INC",
           "Real Estate Investment Trusts"
          ],
          [
           "CARTER VALIDUS MISSION CRITICAL REIT, INC.",
           "Real Estate Investment Trusts"
          ],
          [
           "SUN COMMUNITIES INC",
           "Real Estate Investment Trusts"
          ],
          [
           "FIRST EQUITY PROPERTIES INC",
           "Real Estate Investment Trusts"
          ],
          [
           "MID AMERICA APARTMENT COMMUNITIES INC",
           "Real Estate Investment Trusts"
          ],
          [
           "BROOKFIELD DTLA FUND OFFICE TRUST INVESTOR INC.",
           "Real Estate Investment Trusts"
          ],
          [
           "ANNALY CAPITAL MANAGEMENT INC",
           "Real Estate Investment Trusts"
          ],
          [
           "WHEELER REAL ESTATE INVESTMENT TRUST, INC.",
           "Real Estate Investment Trusts"
          ],
          [
           "ALEXANDRIA REAL ESTATE EQUITIES INC",
           "Real Estate Investment Trusts"
          ],
          [
           "HIGHWOODS PROPERTIES INC",
           "Real Estate Investment Trusts"
          ],
          [
           "KIMCO REALTY CORP",
           "Real Estate Investment Trusts"
          ],
          [
           "INDEPENDENCE REALTY TRUST, INC.",
           "Real Estate Investment Trusts"
          ],
          [
           "PREFERRED APARTMENT COMMUNITIES INC",
           "Real Estate Investment Trusts"
          ],
          [
           "ELLINGTON RESIDENTIAL MORTGAGE REIT",
           "Real Estate Investment Trusts"
          ],
          [
           "CORECIVIC, INC.",
           "Real Estate Investment Trusts"
          ],
          [
           "ASHFORD HOSPITALITY PRIME, INC.",
           "Real Estate Investment Trusts"
          ],
          [
           "LIFE STORAGE, INC.",
           "Real Estate Investment Trusts"
          ],
          [
           "HEALTHCARE REALTY TRUST INC",
           "Real Estate Investment Trusts"
          ],
          [
           "WINTHROP REALTY LIQUIDATING TRUST",
           "Real Estate Investment Trusts"
          ],
          [
           "CORENERGY INFRASTRUCTURE TRUST, INC.",
           "Real Estate Investment Trusts"
          ],
          [
           "KBS STRATEGIC OPPORTUNITY REIT II, INC.",
           "Real Estate Investment Trusts"
          ],
          [
           "PEBBLEBROOK HOTEL TRUST",
           "Real Estate Investment Trusts"
          ],
          [
           "SABRA HEALTH CARE REIT, INC.",
           "Real Estate Investment Trusts"
          ],
          [
           "POWER REIT",
           "Real Estate Investment Trusts"
          ],
          [
           "DYNEX CAPITAL INC",
           "Real Estate Investment Trusts"
          ],
          [
           "DIGITAL REALTY TRUST, INC.",
           "Real Estate Investment Trusts"
          ],
          [
           "STRATEGIC REALTY TRUST, INC.",
           "Real Estate Investment Trusts"
          ],
          [
           "COLE OFFICE & INDUSTRIAL REIT (CCIT III), INC.",
           "Real Estate Investment Trusts"
          ],
          [
           "HEALTHCARE TRUST, INC.",
           "Real Estate Investment Trusts"
          ],
          [
           "LADDER CAPITAL CORP",
           "Real Estate Investment Trusts"
          ],
          [
           "CROWN CASTLE INTERNATIONAL CORP",
           "Real Estate Investment Trusts"
          ],
          [
           "HOWARD HUGHES CORP",
           "Real Estate Investment Trusts"
          ],
          [
           "ALEXANDERS INC",
           "Real Estate Investment Trusts"
          ],
          [
           "MANHATTAN BRIDGE CAPITAL, INC",
           "Real Estate Investment Trusts"
          ],
          [
           "INLAND REAL ESTATE INCOME TRUST, INC.",
           "Real Estate Investment Trusts"
          ],
          [
           "INLAND RESIDENTIAL PROPERTIES TRUST, INC.",
           "Real Estate Investment Trusts"
          ],
          [
           "INLAND RESIDENTIAL PROPERTIES TRUST, INC.",
           "Real Estate Investment Trusts"
          ],
          [
           "KBS REAL ESTATE INVESTMENT TRUST II, INC.",
           "Real Estate Investment Trusts"
          ],
          [
           "RESOURCE REAL ESTATE OPPORTUNITY REIT II, INC.",
           "Real Estate Investment Trusts"
          ],
          [
           "STEADFAST APARTMENT REIT III, INC.",
           "Real Estate Investment Trusts"
          ],
          [
           "ACADIA REALTY TRUST",
           "Real Estate Investment Trusts"
          ],
          [
           "HMG COURTLAND PROPERTIES INC",
           "Real Estate Investment Trusts"
          ],
          [
           "COLE CREDIT PROPERTY TRUST IV, INC.",
           "Real Estate Investment Trusts"
          ],
          [
           "FIVE OAKS INVESTMENT CORP.",
           "Real Estate Investment Trusts"
          ],
          [
           "NEXPOINT RESIDENTIAL TRUST, INC.",
           "Real Estate Investment Trusts"
          ],
          [
           "TWO HARBORS INVESTMENT CORP.",
           "Real Estate Investment Trusts"
          ],
          [
           "WASHINGTON PRIME GROUP INC.",
           "Real Estate Investment Trusts"
          ],
          [
           "TIER REIT INC",
           "Real Estate Investment Trusts"
          ],
          [
           "GRANITE POINT MORTGAGE TRUST INC.",
           "Real Estate Investment Trusts"
          ],
          [
           "GREAT AJAX CORP.",
           "Real Estate Investment Trusts"
          ],
          [
           "DUKE REALTY CORP",
           "Real Estate Investment Trusts"
          ],
          [
           "EASTGROUP PROPERTIES INC",
           "Real Estate Investment Trusts"
          ],
          [
           "STEADFAST APARTMENT REIT, INC.",
           "Real Estate Investment Trusts"
          ],
          [
           "RECKSON OPERATING PARTNERSHIP LP",
           "Real Estate Investment Trusts"
          ],
          [
           "GLOBAL NET LEASE, INC.",
           "Real Estate Investment Trusts"
          ],
          [
           "KBS STRATEGIC OPPORTUNITY REIT, INC.",
           "Real Estate Investment Trusts"
          ],
          [
           "WHITESTONE REIT",
           "Real Estate Investment Trusts"
          ],
          [
           "GRIFFIN CAPITAL ESSENTIAL ASSET REIT II, INC.",
           "Real Estate Investment Trusts"
          ],
          [
           "UDR, INC.",
           "Real Estate Investment Trusts"
          ],
          [
           "COMMUNITY HEALTHCARE TRUST INC",
           "Real Estate Investment Trusts"
          ],
          [
           "VENTAS INC",
           "Real Estate Investment Trusts"
          ],
          [
           "OWENS REALTY MORTGAGE, INC.",
           "Real Estate Investment Trusts"
          ],
          [
           "KILROY REALTY CORP",
           "Real Estate Investment Trusts"
          ],
          [
           "SUMMIT HOTEL PROPERTIES, INC.",
           "Real Estate Investment Trusts"
          ],
          [
           "CORPORATE PROPERTY ASSOCIATES 18 GLOBAL INC",
           "Real Estate Investment Trusts"
          ],
          [
           "CYRUSONE INC.",
           "Real Estate Investment Trusts"
          ],
          [
           "COLONY NORTHSTAR, INC.",
           "Real Estate Investment Trusts"
          ],
          [
           "FEDERAL REALTY INVESTMENT TRUST",
           "Real Estate Investment Trusts"
          ],
          [
           "NEW SENIOR INVESTMENT GROUP INC.",
           "Real Estate Investment Trusts"
          ],
          [
           "RYMAN HOSPITALITY PROPERTIES, INC.",
           "Real Estate Investment Trusts"
          ],
          [
           "BRIXMOR PROPERTY GROUP INC.",
           "Real Estate Investment Trusts"
          ],
          [
           "COLE OFFICE & INDUSTRIAL REIT (CCIT II), INC.",
           "Real Estate Investment Trusts"
          ],
          [
           "OMEGA HEALTHCARE INVESTORS INC",
           "Real Estate Investment Trusts"
          ],
          [
           "REVEN HOUSING REIT, INC.",
           "Real Estate Investment Trusts"
          ],
          [
           "AMERICAN REALTY CAPITAL NEW YORK CITY REIT, INC.",
           "Real Estate Investment Trusts"
          ],
          [
           "STAG INDUSTRIAL, INC.",
           "Real Estate Investment Trusts"
          ],
          [
           "EQUINIX INC",
           "Real Estate Investment Trusts"
          ]
         ],
         "hovertemplate": "color=Real Estate Investment Trusts<br>0=%{x}<br>1=%{y}<br>2=%{z}<br>name=%{customdata[0]}<br>industry=%{customdata[1]}<extra></extra>",
         "legendgroup": "Real Estate Investment Trusts",
         "marker": {
          "color": "#ab63fa",
          "symbol": "circle"
         },
         "mode": "markers",
         "name": "Real Estate Investment Trusts",
         "scene": "scene",
         "showlegend": true,
         "type": "scatter3d",
         "x": [
          -4.418213844299316,
          -6.2507147789001465,
          -6.442216873168945,
          -3.6182444095611572,
          -3.5806710720062256,
          -4.636161804199219,
          -4.180598735809326,
          -2.4468648433685303,
          -5.615058898925781,
          -3.960747480392456,
          -6.52202033996582,
          -8.235898971557617,
          -5.173506259918213,
          -3.795701503753662,
          -4.234597206115723,
          -4.056482315063477,
          -5.365046501159668,
          -6.517790794372559,
          -3.5913002490997314,
          -4.846604347229004,
          -3.991870641708374,
          -3.2198264598846436,
          -1.8715392351150513,
          -2.3444900512695312,
          -1.95724618434906,
          -3.6655359268188477,
          -6.544082164764404,
          -8.998675346374512,
          -1.8417726755142212,
          -6.684086322784424,
          -3.9017386436462402,
          -5.118752479553223,
          -3.059934139251709,
          -3.7935807704925537,
          -1.5566620826721191,
          -6.208493232727051,
          -3.3779468536376953,
          -3.503615617752075,
          -0.7422289848327637,
          -4.707883358001709,
          -6.184938907623291,
          -6.944693565368652,
          -0.1251574605703354,
          -3.5769143104553223,
          -7.086497783660889,
          -2.5217981338500977,
          -0.7392352223396301,
          -4.605696201324463,
          -6.130697250366211,
          -3.243748188018799,
          -8.905488014221191,
          -3.43949031829834,
          -8.18398666381836,
          -0.6251664161682129,
          -3.282891035079956,
          -2.8140487670898438,
          -5.10439920425415,
          -7.184992790222168,
          -6.11944580078125,
          -6.356757640838623,
          -3.876986026763916,
          -2.7084834575653076,
          -7.623188018798828,
          -3.9946820735931396,
          -1.2595833539962769,
          -2.3520939350128174,
          -4.236505031585693,
          -4.343327522277832,
          -6.62170934677124,
          -0.6318846940994263,
          -2.874089002609253,
          -2.968914270401001,
          -3.130309581756592,
          -3.8711533546447754,
          -0.026699962094426155,
          -4.001837253570557,
          -4.094397068023682,
          -4.833277225494385,
          -4.732752799987793,
          -0.565677285194397,
          -5.091195106506348,
          -5.636305332183838,
          -4.244269371032715,
          -2.137192964553833,
          -6.108635902404785,
          -6.531883716583252,
          -4.271141052246094,
          -2.2161178588867188,
          -4.5273518562316895,
          -6.325754642486572,
          -4.349332332611084,
          -0.6441056728363037,
          -4.361779689788818,
          -7.203854560852051,
          -6.99284029006958,
          -4.358200550079346,
          -4.555442810058594,
          -2.1336686611175537,
          -6.839933395385742,
          -5.039207935333252,
          -5.785789966583252,
          -2.2984561920166016,
          -3.5227725505828857,
          -4.640918254852295,
          -3.7235097885131836,
          -5.638176918029785,
          -1.9785250425338745,
          -2.8845441341400146,
          -3.5964717864990234,
          -3.8901383876800537,
          -3.5340797901153564,
          -1.1472495794296265,
          -4.038751602172852,
          -0.9184296727180481,
          -1.1670992374420166,
          -3.3227462768554688,
          -4.005660057067871,
          -1.157848834991455,
          -2.738193988800049,
          -3.5240085124969482,
          -0.7751365900039673,
          -5.786606788635254,
          -3.9886696338653564,
          -1.2447073459625244,
          -4.654119968414307,
          -5.155158042907715,
          -7.962436676025391,
          -8.625781059265137,
          -8.756349563598633,
          -11.089776039123535,
          -5.400699138641357,
          -2.1899707317352295,
          -3.3677592277526855,
          -6.612330436706543,
          -3.336252212524414,
          -3.627603769302368,
          -4.585480213165283,
          -2.3660082817077637,
          -7.266115665435791,
          -5.470718860626221,
          -2.1257874965667725,
          -6.232250690460205,
          -2.0910894870758057,
          -7.996330738067627,
          -8.516854286193848,
          -4.484771728515625,
          -1.6719112396240234,
          -5.373473167419434,
          -2.427081346511841,
          -2.8440585136413574,
          -2.7665700912475586,
          -1.8364924192428589,
          -1.8288401365280151,
          -3.452773332595825,
          -3.8802809715270996,
          -1.048771858215332,
          -5.6746506690979,
          -3.959838628768921,
          -5.809529781341553,
          -6.5045671463012695,
          -6.513242721557617,
          -3.338651657104492,
          -5.589500904083252,
          -6.062911510467529,
          -0.9378446936607361,
          -6.084886074066162,
          -3.587599992752075,
          -0.925884485244751,
          -1.450478434562683,
          -2.0046920776367188,
          -1.8522394895553589,
          -4.0753583908081055,
          -3.311751365661621,
          -1.4155021905899048,
          -2.220163106918335,
          -5.681882858276367,
          -4.378879547119141,
          -5.279357433319092,
          -1.6681307554244995,
          -4.510183334350586,
          -2.681751012802124,
          -2.646820068359375,
          -3.1065666675567627,
          -6.155986309051514,
          -3.89176344871521,
          -6.085372447967529,
          -4.276360511779785,
          -7.911825180053711,
          -3.3482048511505127,
          -3.277874708175659,
          -5.094273090362549
         ],
         "y": [
          0.06164701282978058,
          -0.10599028319120407,
          1.814867377281189,
          -1.1179767847061157,
          -0.9508972764015198,
          2.1640982627868652,
          2.240579843521118,
          0.4543752074241638,
          2.640942096710205,
          3.734924793243408,
          1.1132827997207642,
          1.6392790079116821,
          2.7756409645080566,
          3.028104543685913,
          0.7537747025489807,
          1.6563774347305298,
          -3.1586174964904785,
          4.371387004852295,
          2.78475022315979,
          6.146302223205566,
          5.382441520690918,
          5.516754627227783,
          2.1779885292053223,
          -1.2761666774749756,
          2.496493101119995,
          4.170578956604004,
          -2.7905731201171875,
          4.470027446746826,
          1.3652220964431763,
          2.3924522399902344,
          1.9687708616256714,
          0.9156874418258667,
          3.368133068084717,
          0.8793304562568665,
          3.9865732192993164,
          3.7379753589630127,
          1.8941630125045776,
          3.1128652095794678,
          2.80322265625,
          6.1872429847717285,
          0.5816662311553955,
          2.2717394828796387,
          0.3528806269168854,
          0.5103223919868469,
          5.609936714172363,
          0.1675703525543213,
          0.033591561019420624,
          -0.7503286600112915,
          4.909090518951416,
          4.120817184448242,
          -7.065771102905273,
          2.8730759620666504,
          -3.264824867248535,
          -0.09104225784540176,
          2.1283011436462402,
          3.002861499786377,
          5.851630687713623,
          8.045251846313477,
          9.880810737609863,
          6.38026237487793,
          1.9118518829345703,
          1.1020196676254272,
          -6.246862888336182,
          6.6049580574035645,
          0.7001254558563232,
          3.8618123531341553,
          -2.9092094898223877,
          -2.5571300983428955,
          7.984724044799805,
          -0.08566109836101532,
          0.679513692855835,
          2.4769272804260254,
          -2.4382834434509277,
          0.8158950805664062,
          0.4456043541431427,
          2.8693628311157227,
          -0.5180689096450806,
          -0.35291796922683716,
          7.421706199645996,
          -0.060640327632427216,
          2.6930675506591797,
          3.733734369277954,
          1.6064759492874146,
          3.809870958328247,
          7.16152811050415,
          7.240516185760498,
          1.6885582208633423,
          0.4941650927066803,
          2.9533181190490723,
          5.832708358764648,
          -2.7543084621429443,
          -0.07876583188772202,
          3.185580015182495,
          -2.9444360733032227,
          8.009483337402344,
          7.284325122833252,
          2.289410352706909,
          1.6721822023391724,
          3.928611993789673,
          4.95416784286499,
          1.1379703283309937,
          2.702036142349243,
          -0.9878876805305481,
          6.048977851867676,
          4.0998945236206055,
          0.648356556892395,
          -0.05690173804759979,
          2.067791700363159,
          4.946186065673828,
          -0.688687264919281,
          2.1185226440429688,
          2.2429087162017822,
          0.5832720398902893,
          2.6944806575775146,
          0.2827906310558319,
          1.5373656749725342,
          3.268258571624756,
          -0.5083198547363281,
          2.3528754711151123,
          2.127800703048706,
          0.06460240483283997,
          1.7007759809494019,
          2.7321624755859375,
          -0.22590400278568268,
          1.2203421592712402,
          2.3611831665039062,
          4.452352046966553,
          -2.4407689571380615,
          2.714146852493286,
          5.637230396270752,
          2.0419647693634033,
          0.6599647402763367,
          -0.09000511467456818,
          4.789183616638184,
          0.18144237995147705,
          4.115466594696045,
          0.6716916561126709,
          1.0924724340438843,
          -2.328371286392212,
          5.600884437561035,
          1.6233075857162476,
          1.6037951707839966,
          1.3172714710235596,
          -2.700465202331543,
          8.014779090881348,
          4.801371097564697,
          1.374951720237732,
          -3.270158290863037,
          0.8888993859291077,
          2.1131680011749268,
          1.0665642023086548,
          1.8717745542526245,
          0.615803062915802,
          1.7778862714767456,
          2.0747225284576416,
          0.13868935406208038,
          2.424757242202759,
          -2.1109561920166016,
          3.9162023067474365,
          -3.021209716796875,
          5.349883556365967,
          -0.024082032963633537,
          -1.7090423107147217,
          -0.33835649490356445,
          1.7014257907867432,
          0.5492904782295227,
          2.091693878173828,
          0.5376237630844116,
          1.5443840026855469,
          0.8167442083358765,
          2.7864739894866943,
          3.3801426887512207,
          2.8731491565704346,
          0.09007322788238525,
          -0.1209346204996109,
          -4.498281478881836,
          6.430974960327148,
          4.315982818603516,
          0.14111971855163574,
          6.188653945922852,
          -0.8221544623374939,
          1.3979477882385254,
          -0.39611294865608215,
          4.814331531524658,
          1.6903241872787476,
          1.3735252618789673,
          1.5727856159210205,
          0.9738763570785522,
          0.7739881277084351,
          2.72717547416687,
          3.2012767791748047
         ],
         "z": [
          -1.0086336135864258,
          -1.2189170122146606,
          0.9987950325012207,
          -1.0044562816619873,
          -1.194885492324829,
          -0.010650482028722763,
          0.629067063331604,
          1.2981115579605103,
          2.7353925704956055,
          1.4828821420669556,
          2.986046075820923,
          1.9764188528060913,
          2.100933313369751,
          2.5132369995117188,
          0.01133993174880743,
          -0.19286954402923584,
          0.38859546184539795,
          1.9733552932739258,
          1.4473414421081543,
          -0.03718698397278786,
          7.5901713371276855,
          3.5140295028686523,
          0.3117693066596985,
          -0.5050927400588989,
          1.538217544555664,
          4.446591854095459,
          -4.018245220184326,
          -0.8096089363098145,
          0.7032767534255981,
          1.4628853797912598,
          0.7026606798171997,
          4.588958740234375,
          1.6153160333633423,
          4.4592413902282715,
          2.7087485790252686,
          0.27835556864738464,
          2.797398328781128,
          1.5510128736495972,
          6.7649126052856445,
          4.182672023773193,
          0.08351565897464752,
          5.768205165863037,
          2.414088487625122,
          -0.4579601287841797,
          -0.12198560684919357,
          0.6710540056228638,
          -0.43719664216041565,
          1.6722525358200073,
          6.55631685256958,
          -0.008730215951800346,
          2.3075196743011475,
          0.9863161444664001,
          -0.2969190180301666,
          -0.5133405923843384,
          -0.007882394827902317,
          -0.38300347328186035,
          3.8300061225891113,
          -2.1703851222991943,
          4.484963417053223,
          0.8668442964553833,
          -0.8276018500328064,
          2.9426040649414062,
          1.0642284154891968,
          8.047718048095703,
          -0.1354411244392395,
          5.633975505828857,
          1.3186469078063965,
          2.1651856899261475,
          4.818439960479736,
          -0.4640035927295685,
          0.7691300511360168,
          2.950310230255127,
          1.1942884922027588,
          1.701047420501709,
          3.054530382156372,
          4.8549580574035645,
          -0.9800516963005066,
          0.4154965281486511,
          2.0708653926849365,
          -0.42271167039871216,
          3.005986452102661,
          0.6409573554992676,
          0.18836644291877747,
          4.852515697479248,
          4.056155681610107,
          2.4451260566711426,
          -2.0420305728912354,
          1.6132965087890625,
          3.8916525840759277,
          -0.49639883637428284,
          1.248164176940918,
          -0.48310941457748413,
          3.2170774936676025,
          -0.27488306164741516,
          6.600549221038818,
          -0.7936971783638,
          2.2179853916168213,
          2.7964789867401123,
          2.9618921279907227,
          2.636068105697632,
          1.2724502086639404,
          0.6401552557945251,
          0.2787672281265259,
          0.08097779750823975,
          2.0897200107574463,
          0.1648772805929184,
          1.7107752561569214,
          3.3535585403442383,
          3.1893081665039062,
          2.4288718700408936,
          2.7965126037597656,
          0.7196709513664246,
          1.9411646127700806,
          5.114873886108398,
          -1.1675413846969604,
          1.8227356672286987,
          1.992767333984375,
          -0.8297351002693176,
          1.6547355651855469,
          -0.32589298486709595,
          -0.24114106595516205,
          0.4226326644420624,
          2.63055682182312,
          -0.2791004478931427,
          1.331365704536438,
          0.14394523203372955,
          -1.6889764070510864,
          2.006237506866455,
          6.580699920654297,
          7.236681938171387,
          5.275498390197754,
          0.06406024098396301,
          0.5313470363616943,
          0.6135975122451782,
          1.1759331226348877,
          1.0168122053146362,
          2.5987672805786133,
          0.1307537704706192,
          -2.2602665424346924,
          7.368268013000488,
          0.35179299116134644,
          -0.8132871389389038,
          3.6402297019958496,
          0.3531615734100342,
          1.1595255136489868,
          3.1358132362365723,
          0.992595911026001,
          1.0105173587799072,
          -0.0032729515805840492,
          -0.7249079942703247,
          -1.0520200729370117,
          0.9115844368934631,
          0.03925622999668121,
          2.3137824535369873,
          0.30571258068084717,
          -0.5522137880325317,
          -0.3144032061100006,
          0.19314272701740265,
          1.723508596420288,
          0.4178730249404907,
          2.448751449584961,
          0.1772627830505371,
          -0.08066533505916595,
          0.6092692613601685,
          1.321903109550476,
          -0.31224068999290466,
          1.706315517425537,
          0.1602226346731186,
          -0.1227751225233078,
          -0.8255909085273743,
          0.909356951713562,
          -0.5885457396507263,
          2.2019174098968506,
          2.732330083847046,
          1.605019211769104,
          -0.6459811329841614,
          0.9491264224052429,
          1.6817197799682617,
          -0.5186522603034973,
          6.6662726402282715,
          2.1326494216918945,
          0.24094705283641815,
          3.506519317626953,
          6.452579021453857,
          3.1505987644195557,
          -0.8273548483848572,
          -2.2594900131225586,
          5.194644927978516,
          -0.6918967962265015,
          0.6939653754234314,
          13.568694114685059
         ]
        },
        {
         "customdata": [
          [
           "TOMPKINS FINANCIAL CORP",
           "State Commercial Banks (commercial banking)"
          ],
          [
           "TRIUMPH BANCORP, INC.",
           "State Commercial Banks (commercial banking)"
          ],
          [
           "GREAT SOUTHERN BANCORP, INC.",
           "State Commercial Banks (commercial banking)"
          ],
          [
           "SOUTH STATE CORP",
           "State Commercial Banks (commercial banking)"
          ],
          [
           "OLD LINE BANCSHARES INC",
           "State Commercial Banks (commercial banking)"
          ],
          [
           "SEACOAST BANKING CORP OF FLORIDA",
           "State Commercial Banks (commercial banking)"
          ],
          [
           "CITIZENS FINANCIAL GROUP INC/RI",
           "State Commercial Banks (commercial banking)"
          ],
          [
           "COMMUNITY WEST BANCSHARES /",
           "State Commercial Banks (commercial banking)"
          ],
          [
           "MACKINAC FINANCIAL CORP /MI/",
           "State Commercial Banks (commercial banking)"
          ],
          [
           "UNITY BANCORP INC /NJ/",
           "State Commercial Banks (commercial banking)"
          ],
          [
           "UNITY BANCORP INC /NJ/",
           "State Commercial Banks (commercial banking)"
          ],
          [
           "EAST WEST BANCORP INC",
           "State Commercial Banks (commercial banking)"
          ],
          [
           "HEARTLAND FINANCIAL USA INC",
           "State Commercial Banks (commercial banking)"
          ],
          [
           "COUNTY BANCORP, INC.",
           "State Commercial Banks (commercial banking)"
          ],
          [
           "CHEMUNG FINANCIAL CORP",
           "State Commercial Banks (commercial banking)"
          ],
          [
           "BRYN MAWR BANK CORP",
           "State Commercial Banks (commercial banking)"
          ],
          [
           "EAGLE BANCORP MONTANA, INC.",
           "State Commercial Banks (commercial banking)"
          ],
          [
           "1ST SOURCE CORP",
           "State Commercial Banks (commercial banking)"
          ],
          [
           "SERVISFIRST BANCSHARES, INC.",
           "State Commercial Banks (commercial banking)"
          ],
          [
           "SIERRA BANCORP",
           "State Commercial Banks (commercial banking)"
          ],
          [
           "HOPFED BANCORP INC",
           "State Commercial Banks (commercial banking)"
          ],
          [
           "HOPFED BANCORP INC",
           "State Commercial Banks (commercial banking)"
          ],
          [
           "FIRST FINANCIAL BANKSHARES INC",
           "State Commercial Banks (commercial banking)"
          ],
          [
           "CHEMICAL FINANCIAL CORP",
           "State Commercial Banks (commercial banking)"
          ],
          [
           "SECURITY FEDERAL CORP",
           "State Commercial Banks (commercial banking)"
          ],
          [
           "FIRST FINANCIAL CORP /IN/",
           "State Commercial Banks (commercial banking)"
          ],
          [
           "WESTERN ALLIANCE BANCORPORATION",
           "State Commercial Banks (commercial banking)"
          ],
          [
           "TRISTATE CAPITAL HOLDINGS, INC.",
           "State Commercial Banks (commercial banking)"
          ],
          [
           "UNION BANKSHARES CORP",
           "State Commercial Banks (commercial banking)"
          ],
          [
           "CAROLINA TRUST BANCSHARES, INC.",
           "State Commercial Banks (commercial banking)"
          ],
          [
           "COMMUNITY TRUST BANCORP INC /KY/",
           "State Commercial Banks (commercial banking)"
          ],
          [
           "HILLS BANCORPORATION",
           "State Commercial Banks (commercial banking)"
          ],
          [
           "MACATAWA BANK CORP",
           "State Commercial Banks (commercial banking)"
          ],
          [
           "PREMIER FINANCIAL BANCORP INC",
           "State Commercial Banks (commercial banking)"
          ],
          [
           "KENTUCKY BANCSHARES INC /KY/",
           "State Commercial Banks (commercial banking)"
          ],
          [
           "RIVER FINANCIAL CORP",
           "State Commercial Banks (commercial banking)"
          ],
          [
           "BAR HARBOR BANKSHARES",
           "State Commercial Banks (commercial banking)"
          ],
          [
           "PARKE BANCORP, INC.",
           "State Commercial Banks (commercial banking)"
          ],
          [
           "RANDOLPH BANCORP, INC.",
           "State Commercial Banks (commercial banking)"
          ],
          [
           "BANK OF HAWAII CORP",
           "State Commercial Banks (commercial banking)"
          ],
          [
           "BSB BANCORP, INC.",
           "State Commercial Banks (commercial banking)"
          ],
          [
           "INDEPENDENT BANK CORP /MI/",
           "State Commercial Banks (commercial banking)"
          ],
          [
           "PACIFIC PREMIER BANCORP INC",
           "State Commercial Banks (commercial banking)"
          ],
          [
           "OHIO VALLEY BANC CORP",
           "State Commercial Banks (commercial banking)"
          ],
          [
           "CVB FINANCIAL CORP",
           "State Commercial Banks (commercial banking)"
          ],
          [
           "BANK OF NEW YORK MELLON CORP",
           "State Commercial Banks (commercial banking)"
          ],
          [
           "TWO RIVER BANCORP",
           "State Commercial Banks (commercial banking)"
          ],
          [
           "STEWARDSHIP FINANCIAL CORP",
           "State Commercial Banks (commercial banking)"
          ],
          [
           "LAKELAND FINANCIAL CORP",
           "State Commercial Banks (commercial banking)"
          ],
          [
           "FAUQUIER BANKSHARES, INC.",
           "State Commercial Banks (commercial banking)"
          ],
          [
           "LIVE OAK BANCSHARES, INC.",
           "State Commercial Banks (commercial banking)"
          ],
          [
           "M&T BANK CORP",
           "State Commercial Banks (commercial banking)"
          ],
          [
           "INTERNATIONAL BANCSHARES CORP",
           "State Commercial Banks (commercial banking)"
          ],
          [
           "SUMMIT FINANCIAL GROUP INC",
           "State Commercial Banks (commercial banking)"
          ],
          [
           "SUSSEX BANCORP",
           "State Commercial Banks (commercial banking)"
          ],
          [
           "PRIME MERIDIAN HOLDING CO",
           "State Commercial Banks (commercial banking)"
          ],
          [
           "BANKWELL FINANCIAL GROUP, INC.",
           "State Commercial Banks (commercial banking)"
          ],
          [
           "SOUTHWEST GEORGIA FINANCIAL CORP",
           "State Commercial Banks (commercial banking)"
          ],
          [
           "BANK OF COMMERCE HOLDINGS",
           "State Commercial Banks (commercial banking)"
          ],
          [
           "BANK OF COMMERCE HOLDINGS",
           "State Commercial Banks (commercial banking)"
          ],
          [
           "UNITED BANCORP INC /OH/",
           "State Commercial Banks (commercial banking)"
          ],
          [
           "PARKWAY ACQUISITION CORP.",
           "State Commercial Banks (commercial banking)"
          ],
          [
           "INVESTAR HOLDING CORP",
           "State Commercial Banks (commercial banking)"
          ],
          [
           "RENASANT CORP",
           "State Commercial Banks (commercial banking)"
          ],
          [
           "RELIANT BANCORP, INC.",
           "State Commercial Banks (commercial banking)"
          ],
          [
           "FIRST COMMUNITY CORP /SC/",
           "State Commercial Banks (commercial banking)"
          ],
          [
           "FIRST FINANCIAL NORTHWEST, INC.",
           "State Commercial Banks (commercial banking)"
          ],
          [
           "COMMERCE BANCSHARES INC /MO/",
           "State Commercial Banks (commercial banking)"
          ],
          [
           "JUNIATA VALLEY FINANCIAL CORP",
           "State Commercial Banks (commercial banking)"
          ],
          [
           "HOWARD BANCORP INC",
           "State Commercial Banks (commercial banking)"
          ],
          [
           "EAGLE FINANCIAL SERVICES INC",
           "State Commercial Banks (commercial banking)"
          ],
          [
           "MVB FINANCIAL CORP",
           "State Commercial Banks (commercial banking)"
          ],
          [
           "INDEPENDENT BANK GROUP, INC.",
           "State Commercial Banks (commercial banking)"
          ],
          [
           "CONNECTONE BANCORP, INC.",
           "State Commercial Banks (commercial banking)"
          ],
          [
           "REPUBLIC BANCORP INC /KY/",
           "State Commercial Banks (commercial banking)"
          ],
          [
           "SOUTHSIDE BANCSHARES INC",
           "State Commercial Banks (commercial banking)"
          ],
          [
           "FIRST HAWAIIAN, INC.",
           "State Commercial Banks (commercial banking)"
          ],
          [
           "FIRST US BANCSHARES INC",
           "State Commercial Banks (commercial banking)"
          ],
          [
           "COMMUNITY FINANCIAL CORP /MD/",
           "State Commercial Banks (commercial banking)"
          ],
          [
           "BANNER CORP",
           "State Commercial Banks (commercial banking)"
          ],
          [
           "SVB FINANCIAL GROUP",
           "State Commercial Banks (commercial banking)"
          ],
          [
           "CATHAY GENERAL BANCORP",
           "State Commercial Banks (commercial banking)"
          ],
          [
           "BANK OF THE JAMES FINANCIAL GROUP INC",
           "State Commercial Banks (commercial banking)"
          ],
          [
           "FLUSHING FINANCIAL CORP",
           "State Commercial Banks (commercial banking)"
          ],
          [
           "FRANKLIN FINANCIAL SERVICES CORP /PA/",
           "State Commercial Banks (commercial banking)"
          ],
          [
           "CENTRAL PACIFIC FINANCIAL CORP",
           "State Commercial Banks (commercial banking)"
          ],
          [
           "CENTRAL PACIFIC FINANCIAL CORP",
           "State Commercial Banks (commercial banking)"
          ],
          [
           "CENTRAL VALLEY COMMUNITY BANCORP",
           "State Commercial Banks (commercial banking)"
          ],
          [
           "F&M BANK CORP",
           "State Commercial Banks (commercial banking)"
          ],
          [
           "FARMERS NATIONAL BANC CORP /OH/",
           "State Commercial Banks (commercial banking)"
          ],
          [
           "CITIZENS & NORTHERN CORP",
           "State Commercial Banks (commercial banking)"
          ],
          [
           "GUARANTY FEDERAL BANCSHARES INC",
           "State Commercial Banks (commercial banking)"
          ],
          [
           "CAROLINA FINANCIAL CORP",
           "State Commercial Banks (commercial banking)"
          ],
          [
           "FIRST INTERNET BANCORP",
           "State Commercial Banks (commercial banking)"
          ],
          [
           "HARBORONE BANCORP, INC.",
           "State Commercial Banks (commercial banking)"
          ],
          [
           "UNITED BANKSHARES INC/WV",
           "State Commercial Banks (commercial banking)"
          ],
          [
           "INDEPENDENT BANK CORP",
           "State Commercial Banks (commercial banking)"
          ],
          [
           "CITIZENS FINANCIAL SERVICES INC",
           "State Commercial Banks (commercial banking)"
          ],
          [
           "NORWOOD FINANCIAL CORP",
           "State Commercial Banks (commercial banking)"
          ],
          [
           "WEST BANCORPORATION INC",
           "State Commercial Banks (commercial banking)"
          ],
          [
           "CUSTOMERS BANCORP, INC.",
           "State Commercial Banks (commercial banking)"
          ],
          [
           "WEST END INDIANA BANCSHARES, INC.",
           "State Commercial Banks (commercial banking)"
          ],
          [
           "ATLANTIC CAPITAL BANCSHARES, INC.",
           "State Commercial Banks (commercial banking)"
          ],
          [
           "IBERIABANK CORP",
           "State Commercial Banks (commercial banking)"
          ],
          [
           "MERCANTILE BANK CORP",
           "State Commercial Banks (commercial banking)"
          ],
          [
           "GERMAN AMERICAN BANCORP, INC.",
           "State Commercial Banks (commercial banking)"
          ],
          [
           "S&T BANCORP INC",
           "State Commercial Banks (commercial banking)"
          ],
          [
           "HILLTOP HOLDINGS INC.",
           "State Commercial Banks (commercial banking)"
          ],
          [
           "CB FINANCIAL SERVICES, INC.",
           "State Commercial Banks (commercial banking)"
          ],
          [
           "ENTERPRISE FINANCIAL SERVICES CORP",
           "State Commercial Banks (commercial banking)"
          ],
          [
           "AUBURN NATIONAL BANCORPORATION, INC",
           "State Commercial Banks (commercial banking)"
          ],
          [
           "FIRST KEYSTONE CORP",
           "State Commercial Banks (commercial banking)"
          ],
          [
           "TEXAS CAPITAL BANCSHARES INC/TX",
           "State Commercial Banks (commercial banking)"
          ],
          [
           "VILLAGE BANK & TRUST FINANCIAL CORP.",
           "State Commercial Banks (commercial banking)"
          ],
          [
           "STOCK YARDS BANCORP, INC.",
           "State Commercial Banks (commercial banking)"
          ],
          [
           "BUSINESS FIRST BANCSHARES, INC.",
           "State Commercial Banks (commercial banking)"
          ]
         ],
         "hovertemplate": "color=State Commercial Banks (commercial banking)<br>0=%{x}<br>1=%{y}<br>2=%{z}<br>name=%{customdata[0]}<br>industry=%{customdata[1]}<extra></extra>",
         "legendgroup": "State Commercial Banks (commercial banking)",
         "marker": {
          "color": "#FFA15A",
          "symbol": "circle"
         },
         "mode": "markers",
         "name": "State Commercial Banks (commercial banking)",
         "scene": "scene",
         "showlegend": true,
         "type": "scatter3d",
         "x": [
          -9.922101020812988,
          -9.573174476623535,
          -9.769951820373535,
          -6.924809455871582,
          -10.10591983795166,
          -8.261337280273438,
          -7.698666095733643,
          -2.2440803050994873,
          -8.789135932922363,
          -5.375948429107666,
          -5.102728843688965,
          -2.59745717048645,
          -8.467405319213867,
          -7.288674831390381,
          -9.43602466583252,
          -8.074627876281738,
          -9.042350769042969,
          -8.018282890319824,
          -9.134079933166504,
          -7.385638236999512,
          -6.234443664550781,
          -6.392495632171631,
          -6.86307430267334,
          -8.288202285766602,
          -10.615164756774902,
          -9.143614768981934,
          -6.524454116821289,
          -7.4999003410339355,
          -8.32937240600586,
          -7.678438663482666,
          -2.9299230575561523,
          -6.7480549812316895,
          -8.120282173156738,
          -8.04750919342041,
          -4.9113450050354,
          -8.6389741897583,
          -10.55810260772705,
          -7.587321758270264,
          -8.013669967651367,
          -3.82120418548584,
          -11.38637638092041,
          -1.9702045917510986,
          -9.409101486206055,
          -8.646315574645996,
          -7.775784015655518,
          -2.8939247131347656,
          -6.984001636505127,
          -5.48811674118042,
          -6.163832187652588,
          -5.043990135192871,
          -6.32961368560791,
          -6.0403828620910645,
          -6.368162155151367,
          -5.29899787902832,
          -5.9516119956970215,
          -6.723289966583252,
          -7.661549091339111,
          -9.603863716125488,
          -5.95241641998291,
          -6.628983974456787,
          -7.062256336212158,
          -5.722296237945557,
          -7.48266077041626,
          -9.14582347869873,
          -6.822052001953125,
          -7.782516956329346,
          -10.613158226013184,
          -5.090188503265381,
          -7.207305431365967,
          -8.482499122619629,
          -6.093738555908203,
          -6.851269245147705,
          -6.495952129364014,
          -5.134854316711426,
          -7.421225547790527,
          -7.3874406814575195,
          -5.281259059906006,
          -6.175205230712891,
          -9.751343727111816,
          -0.7245026230812073,
          -6.152144908905029,
          -8.232903480529785,
          -8.905898094177246,
          -10.962031364440918,
          -6.550893783569336,
          -6.7033514976501465,
          -7.208977699279785,
          -8.279884338378906,
          -1.2011051177978516,
          -7.982255935668945,
          -2.446488857269287,
          -10.54407787322998,
          -8.596308708190918,
          -6.101430416107178,
          -8.485917091369629,
          -7.86845064163208,
          -8.169572830200195,
          -5.976620197296143,
          -8.870869636535645,
          -7.432313919067383,
          -6.706603050231934,
          -9.753190040588379,
          -5.987026691436768,
          -6.226128101348877,
          -5.446717739105225,
          -6.099706172943115,
          -0.9810853600502014,
          -8.183355331420898,
          -9.443110466003418,
          -0.7759020924568176,
          -6.046034812927246,
          -7.163840293884277,
          -6.487025260925293,
          -6.545445919036865,
          -3.6449153423309326,
          -9.587279319763184
         ],
         "y": [
          -10.571243286132812,
          -7.36544132232666,
          -10.001727104187012,
          -10.808704376220703,
          -8.976099967956543,
          -9.656534194946289,
          -11.280021667480469,
          -2.429680109024048,
          -6.851551532745361,
          -5.781810283660889,
          -5.787578582763672,
          0.4404028356075287,
          -9.04615306854248,
          -9.789693832397461,
          -9.161771774291992,
          -7.0148820877075195,
          -5.628267765045166,
          -3.1541402339935303,
          -10.655447959899902,
          -7.55517053604126,
          -6.279070854187012,
          -6.161240100860596,
          -7.419815540313721,
          -7.261167526245117,
          -9.127479553222656,
          -7.90377140045166,
          -6.06546688079834,
          -8.965400695800781,
          -8.227659225463867,
          -9.096161842346191,
          -2.9859602451324463,
          -7.858193397521973,
          -7.235063076019287,
          -5.553759574890137,
          -3.9287502765655518,
          -6.936275482177734,
          -9.140700340270996,
          -7.429131031036377,
          -10.69475269317627,
          -6.441006183624268,
          -12.08367919921875,
          -0.9288599491119385,
          -7.874506950378418,
          -8.268266677856445,
          -6.902169704437256,
          -1.595133662223816,
          -6.48789119720459,
          -4.516453742980957,
          -6.207254409790039,
          -5.24119234085083,
          -8.936001777648926,
          -12.401762962341309,
          -10.457679748535156,
          -8.749070167541504,
          -8.231294631958008,
          -7.892453193664551,
          -9.31178092956543,
          -9.38525390625,
          -6.172669410705566,
          -6.777664661407471,
          -6.54524040222168,
          -6.444930553436279,
          -8.915665626525879,
          -9.029732704162598,
          -7.718489646911621,
          -9.793611526489258,
          -6.514051914215088,
          -5.811707973480225,
          -9.598945617675781,
          -5.286278247833252,
          -9.58203411102295,
          -10.258051872253418,
          -8.679965019226074,
          -9.812970161437988,
          -12.31432056427002,
          -10.781925201416016,
          -9.764669418334961,
          -6.912957668304443,
          -10.498262405395508,
          -0.09982576966285706,
          -8.656960487365723,
          -9.834933280944824,
          -8.230241775512695,
          -10.741482734680176,
          -7.791924476623535,
          -8.48412799835205,
          -8.82501220703125,
          -8.285174369812012,
          -0.6809922456741333,
          -7.525976181030273,
          -2.4048895835876465,
          -10.254911422729492,
          -8.643427848815918,
          -6.527822494506836,
          -10.525653839111328,
          -8.94309139251709,
          -7.489603042602539,
          -6.0703959465026855,
          -7.467512130737305,
          -8.086833953857422,
          -8.948519706726074,
          -8.880634307861328,
          -7.60541296005249,
          -6.340437889099121,
          -5.282789707183838,
          -7.037472724914551,
          -0.8246417045593262,
          -6.9778361320495605,
          -9.576835632324219,
          -0.6207932829856873,
          -10.321125030517578,
          -8.417257308959961,
          -8.536805152893066,
          -9.52799129486084,
          -4.362508773803711,
          -10.386360168457031
         ],
         "z": [
          -5.055527210235596,
          -3.9429659843444824,
          -6.398110389709473,
          -3.879812002182007,
          -4.219850063323975,
          -3.1664164066314697,
          -2.49021053314209,
          -0.9769105315208435,
          -2.983793258666992,
          -4.4556884765625,
          -4.165903568267822,
          -2.317627191543579,
          -3.041473627090454,
          -4.700870037078857,
          -4.137521266937256,
          -3.689213991165161,
          -4.569309234619141,
          0.15376141667366028,
          -3.6977286338806152,
          -2.9777660369873047,
          -3.6800410747528076,
          -4.545168876647949,
          -3.0539660453796387,
          -3.5927934646606445,
          -5.741455078125,
          -3.087390899658203,
          -1.0868213176727295,
          0.5939469337463379,
          -2.6493611335754395,
          -5.153247833251953,
          -1.1839414834976196,
          -4.57964563369751,
          -4.249628067016602,
          -2.8232247829437256,
          -3.391909122467041,
          -3.8511900901794434,
          -3.28912091255188,
          -5.524497985839844,
          -5.1378889083862305,
          -2.1964118480682373,
          -4.805487155914307,
          -0.7794298529624939,
          -3.7110238075256348,
          -4.637099266052246,
          -3.6328632831573486,
          -0.5196637511253357,
          -2.466540813446045,
          -2.395519495010376,
          -4.1464972496032715,
          -2.9403574466705322,
          -2.6250667572021484,
          -3.1647965908050537,
          -3.645052909851074,
          -2.326054334640503,
          -3.8793447017669678,
          -1.2653685808181763,
          -1.4878778457641602,
          -4.723072052001953,
          -1.3732892274856567,
          -1.7658480405807495,
          -3.970496654510498,
          -3.6840734481811523,
          -2.6528549194335938,
          -2.9479687213897705,
          -2.8580312728881836,
          -3.1877167224884033,
          -3.140643835067749,
          -2.02307391166687,
          -4.265110969543457,
          -1.3654967546463013,
          -3.281757354736328,
          -4.118302822113037,
          -4.999546051025391,
          -2.035458564758301,
          -1.4993587732315063,
          -3.3599350452423096,
          -3.4240431785583496,
          -2.0796000957489014,
          -6.410454273223877,
          -0.5131697058677673,
          -2.228236675262451,
          -3.177910566329956,
          -3.000363349914551,
          -4.048413276672363,
          -3.0838236808776855,
          -3.1970326900482178,
          -3.2024025917053223,
          -2.9326627254486084,
          -0.6162451505661011,
          -4.779947757720947,
          -0.9501152634620667,
          -7.113664150238037,
          -4.863897323608398,
          0.12847401201725006,
          -4.495404243469238,
          -1.652975082397461,
          -0.6118536591529846,
          -4.287726879119873,
          -5.984015941619873,
          -4.034587383270264,
          -0.4562673270702362,
          -3.6766343116760254,
          -1.6689651012420654,
          -4.059810161590576,
          -1.9732484817504883,
          -4.109647274017334,
          -0.5370668172836304,
          -4.043631553649902,
          -6.024600982666016,
          -1.0383516550064087,
          -4.103518009185791,
          -4.516899585723877,
          -3.823021411895752,
          -1.351652979850769,
          -2.0057878494262695,
          -2.8608968257904053
         ]
        }
       ],
       "layout": {
        "height": 700,
        "legend": {
         "title": {
          "text": "color"
         },
         "tracegroupgap": 0
        },
        "margin": {
         "t": 60
        },
        "scene": {
         "aspectmode": "auto",
         "aspectratio": {
          "x": 1.0577733380327379,
          "y": 1.0803836619681484,
          "z": 0.8750429616197694
         },
         "camera": {
          "center": {
           "x": 0,
           "y": 0,
           "z": 0
          },
          "eye": {
           "x": 1.5971731500173627,
           "y": 0.6329914506517125,
           "z": 0.677470127064068
          },
          "projection": {
           "type": "perspective"
          },
          "up": {
           "x": 0,
           "y": 0,
           "z": 1
          }
         },
         "domain": {
          "x": [
           0,
           1
          ],
          "y": [
           0,
           1
          ]
         },
         "xaxis": {
          "title": {
           "text": "0"
          },
          "type": "linear"
         },
         "yaxis": {
          "title": {
           "text": "1"
          },
          "type": "linear"
         },
         "zaxis": {
          "title": {
           "text": "2"
          },
          "type": "linear"
         }
        },
        "template": {
         "data": {
          "bar": [
           {
            "error_x": {
             "color": "#2a3f5f"
            },
            "error_y": {
             "color": "#2a3f5f"
            },
            "marker": {
             "line": {
              "color": "#E5ECF6",
              "width": 0.5
             },
             "pattern": {
              "fillmode": "overlay",
              "size": 10,
              "solidity": 0.2
             }
            },
            "type": "bar"
           }
          ],
          "barpolar": [
           {
            "marker": {
             "line": {
              "color": "#E5ECF6",
              "width": 0.5
             },
             "pattern": {
              "fillmode": "overlay",
              "size": 10,
              "solidity": 0.2
             }
            },
            "type": "barpolar"
           }
          ],
          "carpet": [
           {
            "aaxis": {
             "endlinecolor": "#2a3f5f",
             "gridcolor": "white",
             "linecolor": "white",
             "minorgridcolor": "white",
             "startlinecolor": "#2a3f5f"
            },
            "baxis": {
             "endlinecolor": "#2a3f5f",
             "gridcolor": "white",
             "linecolor": "white",
             "minorgridcolor": "white",
             "startlinecolor": "#2a3f5f"
            },
            "type": "carpet"
           }
          ],
          "choropleth": [
           {
            "colorbar": {
             "outlinewidth": 0,
             "ticks": ""
            },
            "type": "choropleth"
           }
          ],
          "contour": [
           {
            "colorbar": {
             "outlinewidth": 0,
             "ticks": ""
            },
            "colorscale": [
             [
              0,
              "#0d0887"
             ],
             [
              0.1111111111111111,
              "#46039f"
             ],
             [
              0.2222222222222222,
              "#7201a8"
             ],
             [
              0.3333333333333333,
              "#9c179e"
             ],
             [
              0.4444444444444444,
              "#bd3786"
             ],
             [
              0.5555555555555556,
              "#d8576b"
             ],
             [
              0.6666666666666666,
              "#ed7953"
             ],
             [
              0.7777777777777778,
              "#fb9f3a"
             ],
             [
              0.8888888888888888,
              "#fdca26"
             ],
             [
              1,
              "#f0f921"
             ]
            ],
            "type": "contour"
           }
          ],
          "contourcarpet": [
           {
            "colorbar": {
             "outlinewidth": 0,
             "ticks": ""
            },
            "type": "contourcarpet"
           }
          ],
          "heatmap": [
           {
            "colorbar": {
             "outlinewidth": 0,
             "ticks": ""
            },
            "colorscale": [
             [
              0,
              "#0d0887"
             ],
             [
              0.1111111111111111,
              "#46039f"
             ],
             [
              0.2222222222222222,
              "#7201a8"
             ],
             [
              0.3333333333333333,
              "#9c179e"
             ],
             [
              0.4444444444444444,
              "#bd3786"
             ],
             [
              0.5555555555555556,
              "#d8576b"
             ],
             [
              0.6666666666666666,
              "#ed7953"
             ],
             [
              0.7777777777777778,
              "#fb9f3a"
             ],
             [
              0.8888888888888888,
              "#fdca26"
             ],
             [
              1,
              "#f0f921"
             ]
            ],
            "type": "heatmap"
           }
          ],
          "heatmapgl": [
           {
            "colorbar": {
             "outlinewidth": 0,
             "ticks": ""
            },
            "colorscale": [
             [
              0,
              "#0d0887"
             ],
             [
              0.1111111111111111,
              "#46039f"
             ],
             [
              0.2222222222222222,
              "#7201a8"
             ],
             [
              0.3333333333333333,
              "#9c179e"
             ],
             [
              0.4444444444444444,
              "#bd3786"
             ],
             [
              0.5555555555555556,
              "#d8576b"
             ],
             [
              0.6666666666666666,
              "#ed7953"
             ],
             [
              0.7777777777777778,
              "#fb9f3a"
             ],
             [
              0.8888888888888888,
              "#fdca26"
             ],
             [
              1,
              "#f0f921"
             ]
            ],
            "type": "heatmapgl"
           }
          ],
          "histogram": [
           {
            "marker": {
             "pattern": {
              "fillmode": "overlay",
              "size": 10,
              "solidity": 0.2
             }
            },
            "type": "histogram"
           }
          ],
          "histogram2d": [
           {
            "colorbar": {
             "outlinewidth": 0,
             "ticks": ""
            },
            "colorscale": [
             [
              0,
              "#0d0887"
             ],
             [
              0.1111111111111111,
              "#46039f"
             ],
             [
              0.2222222222222222,
              "#7201a8"
             ],
             [
              0.3333333333333333,
              "#9c179e"
             ],
             [
              0.4444444444444444,
              "#bd3786"
             ],
             [
              0.5555555555555556,
              "#d8576b"
             ],
             [
              0.6666666666666666,
              "#ed7953"
             ],
             [
              0.7777777777777778,
              "#fb9f3a"
             ],
             [
              0.8888888888888888,
              "#fdca26"
             ],
             [
              1,
              "#f0f921"
             ]
            ],
            "type": "histogram2d"
           }
          ],
          "histogram2dcontour": [
           {
            "colorbar": {
             "outlinewidth": 0,
             "ticks": ""
            },
            "colorscale": [
             [
              0,
              "#0d0887"
             ],
             [
              0.1111111111111111,
              "#46039f"
             ],
             [
              0.2222222222222222,
              "#7201a8"
             ],
             [
              0.3333333333333333,
              "#9c179e"
             ],
             [
              0.4444444444444444,
              "#bd3786"
             ],
             [
              0.5555555555555556,
              "#d8576b"
             ],
             [
              0.6666666666666666,
              "#ed7953"
             ],
             [
              0.7777777777777778,
              "#fb9f3a"
             ],
             [
              0.8888888888888888,
              "#fdca26"
             ],
             [
              1,
              "#f0f921"
             ]
            ],
            "type": "histogram2dcontour"
           }
          ],
          "mesh3d": [
           {
            "colorbar": {
             "outlinewidth": 0,
             "ticks": ""
            },
            "type": "mesh3d"
           }
          ],
          "parcoords": [
           {
            "line": {
             "colorbar": {
              "outlinewidth": 0,
              "ticks": ""
             }
            },
            "type": "parcoords"
           }
          ],
          "pie": [
           {
            "automargin": true,
            "type": "pie"
           }
          ],
          "scatter": [
           {
            "marker": {
             "colorbar": {
              "outlinewidth": 0,
              "ticks": ""
             }
            },
            "type": "scatter"
           }
          ],
          "scatter3d": [
           {
            "line": {
             "colorbar": {
              "outlinewidth": 0,
              "ticks": ""
             }
            },
            "marker": {
             "colorbar": {
              "outlinewidth": 0,
              "ticks": ""
             }
            },
            "type": "scatter3d"
           }
          ],
          "scattercarpet": [
           {
            "marker": {
             "colorbar": {
              "outlinewidth": 0,
              "ticks": ""
             }
            },
            "type": "scattercarpet"
           }
          ],
          "scattergeo": [
           {
            "marker": {
             "colorbar": {
              "outlinewidth": 0,
              "ticks": ""
             }
            },
            "type": "scattergeo"
           }
          ],
          "scattergl": [
           {
            "marker": {
             "colorbar": {
              "outlinewidth": 0,
              "ticks": ""
             }
            },
            "type": "scattergl"
           }
          ],
          "scattermapbox": [
           {
            "marker": {
             "colorbar": {
              "outlinewidth": 0,
              "ticks": ""
             }
            },
            "type": "scattermapbox"
           }
          ],
          "scatterpolar": [
           {
            "marker": {
             "colorbar": {
              "outlinewidth": 0,
              "ticks": ""
             }
            },
            "type": "scatterpolar"
           }
          ],
          "scatterpolargl": [
           {
            "marker": {
             "colorbar": {
              "outlinewidth": 0,
              "ticks": ""
             }
            },
            "type": "scatterpolargl"
           }
          ],
          "scatterternary": [
           {
            "marker": {
             "colorbar": {
              "outlinewidth": 0,
              "ticks": ""
             }
            },
            "type": "scatterternary"
           }
          ],
          "surface": [
           {
            "colorbar": {
             "outlinewidth": 0,
             "ticks": ""
            },
            "colorscale": [
             [
              0,
              "#0d0887"
             ],
             [
              0.1111111111111111,
              "#46039f"
             ],
             [
              0.2222222222222222,
              "#7201a8"
             ],
             [
              0.3333333333333333,
              "#9c179e"
             ],
             [
              0.4444444444444444,
              "#bd3786"
             ],
             [
              0.5555555555555556,
              "#d8576b"
             ],
             [
              0.6666666666666666,
              "#ed7953"
             ],
             [
              0.7777777777777778,
              "#fb9f3a"
             ],
             [
              0.8888888888888888,
              "#fdca26"
             ],
             [
              1,
              "#f0f921"
             ]
            ],
            "type": "surface"
           }
          ],
          "table": [
           {
            "cells": {
             "fill": {
              "color": "#EBF0F8"
             },
             "line": {
              "color": "white"
             }
            },
            "header": {
             "fill": {
              "color": "#C8D4E3"
             },
             "line": {
              "color": "white"
             }
            },
            "type": "table"
           }
          ]
         },
         "layout": {
          "annotationdefaults": {
           "arrowcolor": "#2a3f5f",
           "arrowhead": 0,
           "arrowwidth": 1
          },
          "autotypenumbers": "strict",
          "coloraxis": {
           "colorbar": {
            "outlinewidth": 0,
            "ticks": ""
           }
          },
          "colorscale": {
           "diverging": [
            [
             0,
             "#8e0152"
            ],
            [
             0.1,
             "#c51b7d"
            ],
            [
             0.2,
             "#de77ae"
            ],
            [
             0.3,
             "#f1b6da"
            ],
            [
             0.4,
             "#fde0ef"
            ],
            [
             0.5,
             "#f7f7f7"
            ],
            [
             0.6,
             "#e6f5d0"
            ],
            [
             0.7,
             "#b8e186"
            ],
            [
             0.8,
             "#7fbc41"
            ],
            [
             0.9,
             "#4d9221"
            ],
            [
             1,
             "#276419"
            ]
           ],
           "sequential": [
            [
             0,
             "#0d0887"
            ],
            [
             0.1111111111111111,
             "#46039f"
            ],
            [
             0.2222222222222222,
             "#7201a8"
            ],
            [
             0.3333333333333333,
             "#9c179e"
            ],
            [
             0.4444444444444444,
             "#bd3786"
            ],
            [
             0.5555555555555556,
             "#d8576b"
            ],
            [
             0.6666666666666666,
             "#ed7953"
            ],
            [
             0.7777777777777778,
             "#fb9f3a"
            ],
            [
             0.8888888888888888,
             "#fdca26"
            ],
            [
             1,
             "#f0f921"
            ]
           ],
           "sequentialminus": [
            [
             0,
             "#0d0887"
            ],
            [
             0.1111111111111111,
             "#46039f"
            ],
            [
             0.2222222222222222,
             "#7201a8"
            ],
            [
             0.3333333333333333,
             "#9c179e"
            ],
            [
             0.4444444444444444,
             "#bd3786"
            ],
            [
             0.5555555555555556,
             "#d8576b"
            ],
            [
             0.6666666666666666,
             "#ed7953"
            ],
            [
             0.7777777777777778,
             "#fb9f3a"
            ],
            [
             0.8888888888888888,
             "#fdca26"
            ],
            [
             1,
             "#f0f921"
            ]
           ]
          },
          "colorway": [
           "#636efa",
           "#EF553B",
           "#00cc96",
           "#ab63fa",
           "#FFA15A",
           "#19d3f3",
           "#FF6692",
           "#B6E880",
           "#FF97FF",
           "#FECB52"
          ],
          "font": {
           "color": "#2a3f5f"
          },
          "geo": {
           "bgcolor": "white",
           "lakecolor": "white",
           "landcolor": "#E5ECF6",
           "showlakes": true,
           "showland": true,
           "subunitcolor": "white"
          },
          "hoverlabel": {
           "align": "left"
          },
          "hovermode": "closest",
          "mapbox": {
           "style": "light"
          },
          "paper_bgcolor": "white",
          "plot_bgcolor": "#E5ECF6",
          "polar": {
           "angularaxis": {
            "gridcolor": "white",
            "linecolor": "white",
            "ticks": ""
           },
           "bgcolor": "#E5ECF6",
           "radialaxis": {
            "gridcolor": "white",
            "linecolor": "white",
            "ticks": ""
           }
          },
          "scene": {
           "xaxis": {
            "backgroundcolor": "#E5ECF6",
            "gridcolor": "white",
            "gridwidth": 2,
            "linecolor": "white",
            "showbackground": true,
            "ticks": "",
            "zerolinecolor": "white"
           },
           "yaxis": {
            "backgroundcolor": "#E5ECF6",
            "gridcolor": "white",
            "gridwidth": 2,
            "linecolor": "white",
            "showbackground": true,
            "ticks": "",
            "zerolinecolor": "white"
           },
           "zaxis": {
            "backgroundcolor": "#E5ECF6",
            "gridcolor": "white",
            "gridwidth": 2,
            "linecolor": "white",
            "showbackground": true,
            "ticks": "",
            "zerolinecolor": "white"
           }
          },
          "shapedefaults": {
           "line": {
            "color": "#2a3f5f"
           }
          },
          "ternary": {
           "aaxis": {
            "gridcolor": "white",
            "linecolor": "white",
            "ticks": ""
           },
           "baxis": {
            "gridcolor": "white",
            "linecolor": "white",
            "ticks": ""
           },
           "bgcolor": "#E5ECF6",
           "caxis": {
            "gridcolor": "white",
            "linecolor": "white",
            "ticks": ""
           }
          },
          "title": {
           "x": 0.05
          },
          "xaxis": {
           "automargin": true,
           "gridcolor": "white",
           "linecolor": "white",
           "ticks": "",
           "title": {
            "standoff": 15
           },
           "zerolinecolor": "white",
           "zerolinewidth": 2
          },
          "yaxis": {
           "automargin": true,
           "gridcolor": "white",
           "linecolor": "white",
           "ticks": "",
           "title": {
            "standoff": 15
           },
           "zerolinecolor": "white",
           "zerolinewidth": 2
          }
         }
        },
        "width": 1200
       }
      },
      "image/png": "[encoded data removed]",
      "text/html": [
       "<div>                            <div id=\"628e2f24-780a-4519-a9f1-141974d63bd6\" class=\"plotly-graph-div\" style=\"height:700px; width:1200px;\"></div>            <script type=\"text/javascript\">                require([\"plotly\"], function(Plotly) {                    window.PLOTLYENV=window.PLOTLYENV || {};                                    if (document.getElementById(\"628e2f24-780a-4519-a9f1-141974d63bd6\")) {                    Plotly.newPlot(                        \"628e2f24-780a-4519-a9f1-141974d63bd6\",                        [{\"customdata\":[[\"MONGODB, INC.\",\"Prepackaged Software (mass reproduction of software)\"],[\"SALESFORCE COM INC\",\"Prepackaged Software (mass reproduction of software)\"],[\"SPLUNK INC\",\"Prepackaged Software (mass reproduction of software)\"],[\"OKTA, INC.\",\"Prepackaged Software (mass reproduction of software)\"],[\"VEEVA SYSTEMS INC\",\"Prepackaged Software (mass reproduction of software)\"],[\"AUTODESK INC\",\"Prepackaged Software (mass reproduction of software)\"],[\"ETERNAL SPEECH, INC.\",\"Prepackaged Software (mass reproduction of software)\"],[\"ETERNAL SPEECH, INC.\",\"Prepackaged Software (mass reproduction of software)\"],[\"MAJESCO\",\"Prepackaged Software (mass reproduction of software)\"],[\"DUO WORLD INC\",\"Prepackaged Software (mass reproduction of software)\"],[\"COMMVAULT SYSTEMS INC\",\"Prepackaged Software (mass reproduction of software)\"],[\"UPPERSOLUTION.COM\",\"Prepackaged Software (mass reproduction of software)\"],[\"ORACLE CORP\",\"Prepackaged Software (mass reproduction of software)\"],[\"SAVMOBI TECHNOLOGY INC.\",\"Prepackaged Software (mass reproduction of software)\"],[\"ZEDGE, INC.\",\"Prepackaged Software (mass reproduction of software)\"],[\"DESTINY MEDIA TECHNOLOGIES INC\",\"Prepackaged Software (mass reproduction of software)\"],[\"TRAQER CORP\",\"Prepackaged Software (mass reproduction of software)\"],[\"VISIBER57 CORP.\",\"Prepackaged Software (mass reproduction of software)\"],[\"GH CAPITAL INC.\",\"Prepackaged Software (mass reproduction of software)\"],[\"BRIDGELINE DIGITAL, INC.\",\"Prepackaged Software (mass reproduction of software)\"],[\"NUANCE COMMUNICATIONS, INC.\",\"Prepackaged Software (mass reproduction of software)\"],[\"DATAWATCH CORP\",\"Prepackaged Software (mass reproduction of software)\"],[\"POLARITYTE, INC.\",\"Prepackaged Software (mass reproduction of software)\"],[\"POLARITYTE, INC.\",\"Prepackaged Software (mass reproduction of software)\"],[\"VGRAB COMMUNICATIONS INC.\",\"Prepackaged Software (mass reproduction of software)\"],[\"VGRAB COMMUNICATIONS INC.\",\"Prepackaged Software (mass reproduction of software)\"],[\"ADAIAH DISTRIBUTION INC\",\"Prepackaged Software (mass reproduction of software)\"],[\"ADAIAH DISTRIBUTION INC\",\"Prepackaged Software (mass reproduction of software)\"],[\"PROGRESS SOFTWARE CORP /MA\",\"Prepackaged Software (mass reproduction of software)\"],[\"MEDICAL INFORMATION TECHNOLOGY, INC.\",\"Prepackaged Software (mass reproduction of software)\"],[\"SPS COMMERCE INC\",\"Prepackaged Software (mass reproduction of software)\"],[\"ALTERYX, INC.\",\"Prepackaged Software (mass reproduction of software)\"],[\"INTELLIGENT SYSTEMS CORP\",\"Prepackaged Software (mass reproduction of software)\"],[\"ALARM.COM HOLDINGS, INC.\",\"Prepackaged Software (mass reproduction of software)\"],[\"LIGHTNING GAMING, INC.\",\"Prepackaged Software (mass reproduction of software)\"],[\"ENDURANCE INTERNATIONAL GROUP HOLDINGS, INC.\",\"Prepackaged Software (mass reproduction of software)\"],[\"2U, INC.\",\"Prepackaged Software (mass reproduction of software)\"],[\"CISION LTD.\",\"Prepackaged Software (mass reproduction of software)\"],[\"BTCS INC.\",\"Prepackaged Software (mass reproduction of software)\"],[\"BTCS INC.\",\"Prepackaged Software (mass reproduction of software)\"],[\"BTCS INC.\",\"Prepackaged Software (mass reproduction of software)\"],[\"INTELLICHECK, INC.\",\"Prepackaged Software (mass reproduction of software)\"],[\"REALPAGE INC\",\"Prepackaged Software (mass reproduction of software)\"],[\"Q2 HOLDINGS, INC.\",\"Prepackaged Software (mass reproduction of software)\"],[\"MCORPCX, INC.\",\"Prepackaged Software (mass reproduction of software)\"],[\"QUALYS, INC.\",\"Prepackaged Software (mass reproduction of software)\"],[\"MEDICAL TRANSCRIPTION BILLING, CORP\",\"Prepackaged Software (mass reproduction of software)\"],[\"SMITH MICRO SOFTWARE INC\",\"Prepackaged Software (mass reproduction of software)\"],[\"SHOTSPOTTER, INC\",\"Prepackaged Software (mass reproduction of software)\"],[\"LONGWEN GROUP CORP.\",\"Prepackaged Software (mass reproduction of software)\"],[\"ELLIE MAE INC\",\"Prepackaged Software (mass reproduction of software)\"],[\"ROSETTA STONE INC\",\"Prepackaged Software (mass reproduction of software)\"],[\"BLACK KNIGHT, INC.\",\"Prepackaged Software (mass reproduction of software)\"],[\"MICROSTRATEGY INC\",\"Prepackaged Software (mass reproduction of software)\"],[\"EMR TECHNOLOGY SOLUTIONS, INC.\",\"Prepackaged Software (mass reproduction of software)\"],[\"PAYCOM SOFTWARE, INC.\",\"Prepackaged Software (mass reproduction of software)\"],[\"3D SYSTEMS CORP\",\"Prepackaged Software (mass reproduction of software)\"],[\"APPIAN CORP\",\"Prepackaged Software (mass reproduction of software)\"],[\"UPLAND SOFTWARE, INC.\",\"Prepackaged Software (mass reproduction of software)\"],[\"LIVEPERSON INC\",\"Prepackaged Software (mass reproduction of software)\"],[\"AWARE INC /MA/\",\"Prepackaged Software (mass reproduction of software)\"],[\"ULTIMATE SOFTWARE GROUP INC\",\"Prepackaged Software (mass reproduction of software)\"],[\"ANSYS INC\",\"Prepackaged Software (mass reproduction of software)\"],[\"AVID TECHNOLOGY, INC.\",\"Prepackaged Software (mass reproduction of software)\"],[\"NATIONAL INSTRUMENTS CORP\",\"Prepackaged Software (mass reproduction of software)\"],[\"INSPRO TECHNOLOGIES CORP\",\"Prepackaged Software (mass reproduction of software)\"],[\"QUMU CORP\",\"Prepackaged Software (mass reproduction of software)\"],[\"ACI WORLDWIDE, INC.\",\"Prepackaged Software (mass reproduction of software)\"],[\"SQUARE, INC.\",\"Prepackaged Software (mass reproduction of software)\"],[\"ALTAIR ENGINEERING INC.\",\"Prepackaged Software (mass reproduction of software)\"],[\"TALEND SA\",\"Prepackaged Software (mass reproduction of software)\"],[\"APPFOLIO INC\",\"Prepackaged Software (mass reproduction of software)\"],[\"GSE SYSTEMS INC\",\"Prepackaged Software (mass reproduction of software)\"],[\"IPSIDY INC.\",\"Prepackaged Software (mass reproduction of software)\"],[\"INTELLINETICS, INC.\",\"Prepackaged Software (mass reproduction of software)\"],[\"INTELLINETICS, INC.\",\"Prepackaged Software (mass reproduction of software)\"],[\"IIOT-OXYS, INC.\",\"Prepackaged Software (mass reproduction of software)\"],[\"NEWGIOCO GROUP, INC.\",\"Prepackaged Software (mass reproduction of software)\"],[\"WORKIVA INC\",\"Prepackaged Software (mass reproduction of software)\"],[\"TABLEAU SOFTWARE INC\",\"Prepackaged Software (mass reproduction of software)\"]],\"hovertemplate\":\"color=Prepackaged Software (mass reproduction of software)<br>0=%{x}<br>1=%{y}<br>2=%{z}<br>name=%{customdata[0]}<br>industry=%{customdata[1]}<extra></extra>\",\"legendgroup\":\"Prepackaged Software (mass reproduction of software)\",\"marker\":{\"color\":\"#636efa\",\"symbol\":\"circle\"},\"mode\":\"markers\",\"name\":\"Prepackaged Software (mass reproduction of software)\",\"scene\":\"scene\",\"showlegend\":true,\"type\":\"scatter3d\",\"x\":[-1.4550044536590576,-2.0033113956451416,-2.134474754333496,-0.9274237751960754,0.7807900905609131,-1.0840750932693481,-0.8994615077972412,-0.8381891846656799,-2.527904510498047,-1.0781569480895996,-2.1859710216522217,0.3415077030658722,-3.59670352935791,-2.0297884941101074,-0.7097910642623901,-0.5378150939941406,-3.174596071243286,-0.9627936482429504,-1.1053249835968018,-2.135617256164551,-0.36668798327445984,-1.3175426721572876,6.984758377075195,8.370869636535645,-2.676523447036743,-2.691371440887451,-3.719045400619507,-4.260704040527344,-2.2060790061950684,-0.5020610094070435,-1.4295037984848022,0.43206721544265747,-3.9843339920043945,-1.8042073249816895,-0.6580232977867126,0.9734691977500916,-0.26928040385246277,0.3724820017814636,-3.627929449081421,-3.3817923069000244,-2.7518560886383057,-0.6978095173835754,-1.824510931968689,-2.833498239517212,0.5454089045524597,2.338982343673706,3.392294406890869,0.15597890317440033,-1.3434441089630127,-0.9216311573982239,-4.239904403686523,1.1647343635559082,-4.508362770080566,0.7679482102394104,1.8973909616470337,-2.0376641750335693,1.9093356132507324,-2.5430400371551514,-3.0257363319396973,-3.805635929107666,-1.0836172103881836,-3.9103338718414307,-1.602805495262146,-0.15490397810935974,0.7464559078216553,-0.5613197088241577,-0.8453359007835388,-2.6578173637390137,-3.32584810256958,0.21525993943214417,-1.5078868865966797,-1.5254167318344116,-6.649696350097656,-0.12358379364013672,-0.6023192405700684,-0.12309399992227554,-0.07751769572496414,-3.8217015266418457,-3.2806591987609863,1.510469913482666],\"y\":[0.5247460007667542,0.6835758686065674,1.4920405149459839,-2.3418564796447754,-1.5458885431289673,1.6098487377166748,-0.10439383238554001,-0.06891794502735138,-1.218262791633606,-1.6819124221801758,0.583774209022522,0.0969187468290329,0.7832209467887878,-0.5555232167243958,-0.07884131371974945,-0.4171919524669647,4.028890609741211,-0.1132361963391304,-0.9604551792144775,-2.3298521041870117,-0.9094051122665405,0.01671450585126877,1.165023684501648,1.9751076698303223,-0.034108974039554596,-0.2742787003517151,0.16820469498634338,-0.17001396417617798,-0.5813055634498596,-0.32179006934165955,1.979681372642517,1.7714228630065918,1.3009082078933716,3.2269692420959473,1.786236047744751,0.40908581018447876,-5.005711078643799,1.399762749671936,-1.5363819599151611,-1.7007787227630615,-1.8272225856781006,0.006476914044469595,1.45963716506958,-3.685163736343384,0.4258694052696228,-0.9460729956626892,-1.6214059591293335,-0.6581752300262451,4.878704071044922,0.49050191044807434,-3.5440688133239746,-1.309437870979309,-4.114153861999512,0.09353770315647125,-1.2131569385528564,-0.02450571209192276,4.000139236450195,-0.5016888976097107,-2.0474557876586914,-2.187438726425171,-4.958821773529053,-0.9772374629974365,-0.6686567664146423,3.153599739074707,2.79270601272583,-0.12644848227500916,-0.5240588188171387,-3.885807752609253,-0.8015656471252441,3.51236629486084,3.8856027126312256,-0.18648973107337952,2.0424365997314453,-4.03501558303833,-0.8139608502388,-0.6387091875076294,1.083762764930725,1.1553641557693481,-2.2558021545410156,0.09953150153160095],\"z\":[11.979403495788574,8.45145034790039,11.101155281066895,9.038778305053711,8.740840911865234,3.826704502105713,-0.2011616975069046,-0.011307123117148876,4.8276686668396,7.286473274230957,10.107728004455566,3.502955675125122,9.289539337158203,1.4810353517532349,-0.3958134353160858,7.176879405975342,0.04830204322934151,-0.8028903603553772,0.369966596364975,9.610334396362305,9.800747871398926,8.438507080078125,6.509527206420898,6.724605083465576,5.993560791015625,6.1056132316589355,-3.3968827724456787,-4.1161274909973145,7.239743232727051,4.13029146194458,9.648648262023926,14.523449897766113,4.7076826095581055,14.72285270690918,4.117384433746338,9.95457649230957,9.312904357910156,14.406218528747559,5.887073040008545,5.988988399505615,6.144136905670166,-0.5916499495506287,13.49028491973877,11.286589622497559,3.228177547454834,13.718765258789062,8.767485618591309,9.86762809753418,16.836223602294922,-1.0073342323303223,8.691168785095215,10.308699607849121,8.664839744567871,10.710883140563965,4.342657089233398,14.097528457641602,8.05953598022461,12.361780166625977,9.549567222595215,15.56574535369873,14.758649826049805,16.868743896484375,-1.0386625528335571,13.807476997375488,9.609623908996582,5.2804155349731445,9.715214729309082,10.992866516113281,12.04787826538086,12.224844932556152,13.83691120147705,10.708494186401367,-0.35451430082321167,9.24132251739502,5.610645294189453,5.530388832092285,7.045359134674072,11.718076705932617,12.414130210876465,17.2112979888916]},{\"customdata\":[[\"INTERNATIONAL WESTERN PETROLEUM, INC.\",\"Crude Petroleum and Natural Gas\"],[\"DAYBREAK OIL & GAS, INC.\",\"Crude Petroleum and Natural Gas\"],[\"GB SCIENCES INC\",\"Crude Petroleum and Natural Gas\"],[\"FREEDOM HOLDING CORP.\",\"Crude Petroleum and Natural Gas\"],[\"MEXCO ENERGY CORP\",\"Crude Petroleum and Natural Gas\"],[\"SUSTAINABLE PROJECTS GROUP INC.\",\"Crude Petroleum and Natural Gas\"],[\"AMERICAN ENERGY GROUP LTD\",\"Crude Petroleum and Natural Gas\"],[\"REDHAWK HOLDINGS CORP.\",\"Crude Petroleum and Natural Gas\"],[\"TIANCI INTERNATIONAL, INC.\",\"Crude Petroleum and Natural Gas\"],[\"AMAZING ENERGY OIL & GAS, CO.\",\"Crude Petroleum and Natural Gas\"],[\"ALTEX INDUSTRIES INC\",\"Crude Petroleum and Natural Gas\"],[\"BARNWELL INDUSTRIES INC\",\"Crude Petroleum and Natural Gas\"],[\"PANHANDLE OIL & GAS INC\",\"Crude Petroleum and Natural Gas\"],[\"ENERGY 11, L.P.\",\"Crude Petroleum and Natural Gas\"],[\"ABRAXAS PETROLEUM CORP\",\"Crude Petroleum and Natural Gas\"],[\"SEARS OIL & GAS\",\"Crude Petroleum and Natural Gas\"],[\"APACHE CORP\",\"Crude Petroleum and Natural Gas\"],[\"GULFPORT ENERGY CORP\",\"Crude Petroleum and Natural Gas\"],[\"CONTINENTAL RESOURCES, INC\",\"Crude Petroleum and Natural Gas\"],[\"ISRAMCO INC\",\"Crude Petroleum and Natural Gas\"],[\"CHAPARRAL ENERGY, INC.\",\"Crude Petroleum and Natural Gas\"],[\"WHITING PETROLEUM CORP\",\"Crude Petroleum and Natural Gas\"],[\"CONTANGO OIL & GAS CO\",\"Crude Petroleum and Natural Gas\"],[\"EARTHSTONE ENERGY INC\",\"Crude Petroleum and Natural Gas\"],[\"CLEAN COAL TECHNOLOGIES INC.\",\"Crude Petroleum and Natural Gas\"],[\"NORTHERN OIL & GAS, INC.\",\"Crude Petroleum and Natural Gas\"],[\"SRC ENERGY INC.\",\"Crude Petroleum and Natural Gas\"],[\"JONES ENERGY, INC.\",\"Crude Petroleum and Natural Gas\"],[\"GOODRICH PETROLEUM CORP\",\"Crude Petroleum and Natural Gas\"],[\"OCCIDENTAL PETROLEUM CORP /DE/\",\"Crude Petroleum and Natural Gas\"],[\"LONESTAR RESOURCES US INC.\",\"Crude Petroleum and Natural Gas\"],[\"NOBLE ENERGY INC\",\"Crude Petroleum and Natural Gas\"],[\"PIONEER NATURAL RESOURCES CO\",\"Crude Petroleum and Natural Gas\"],[\"BONANZA CREEK ENERGY, INC.\",\"Crude Petroleum and Natural Gas\"],[\"DEVON ENERGY CORP/DE\",\"Crude Petroleum and Natural Gas\"],[\"CALIFORNIA RESOURCES CORP\",\"Crude Petroleum and Natural Gas\"],[\"PARK PLACE ENERGY INC.\",\"Crude Petroleum and Natural Gas\"],[\"ANTERO RESOURCES CORP\",\"Crude Petroleum and Natural Gas\"],[\"LAREDO PETROLEUM, INC.\",\"Crude Petroleum and Natural Gas\"],[\"CIMAREX ENERGY CO\",\"Crude Petroleum and Natural Gas\"],[\"ALTA MESA HOLDINGS, LP\",\"Crude Petroleum and Natural Gas\"],[\"US ENERGY CORP\",\"Crude Petroleum and Natural Gas\"],[\"VICTORY ENERGY CORP\",\"Crude Petroleum and Natural Gas\"],[\"VICTORY ENERGY CORP\",\"Crude Petroleum and Natural Gas\"],[\"GRAN TIERRA ENERGY INC.\",\"Crude Petroleum and Natural Gas\"],[\"MIDSTATES PETROLEUM COMPANY, INC.\",\"Crude Petroleum and Natural Gas\"],[\"WILDHORSE RESOURCE DEVELOPMENT CORP\",\"Crude Petroleum and Natural Gas\"],[\"SM ENERGY CO\",\"Crude Petroleum and Natural Gas\"],[\"SANDRIDGE ENERGY INC\",\"Crude Petroleum and Natural Gas\"],[\"RING ENERGY, INC.\",\"Crude Petroleum and Natural Gas\"],[\"SANCHEZ ENERGY CORP\",\"Crude Petroleum and Natural Gas\"],[\"TETRA TECHNOLOGIES INC\",\"Crude Petroleum and Natural Gas\"],[\"RESERVE PETROLEUM CO\",\"Crude Petroleum and Natural Gas\"],[\"HESS MIDSTREAM PARTNERS LP\",\"Crude Petroleum and Natural Gas\"],[\"TORCHLIGHT ENERGY RESOURCES INC\",\"Crude Petroleum and Natural Gas\"],[\"LINN ENERGY, INC.\",\"Crude Petroleum and Natural Gas\"],[\"KOSMOS ENERGY LTD.\",\"Crude Petroleum and Natural Gas\"],[\"SILVERBOW RESOURCES, INC.\",\"Crude Petroleum and Natural Gas\"],[\"TELLURIAN INC. /DE/\",\"Crude Petroleum and Natural Gas\"],[\"DORCHESTER MINERALS, L.P.\",\"Crude Petroleum and Natural Gas\"],[\"MATADOR RESOURCES CO\",\"Crude Petroleum and Natural Gas\"],[\"PDC ENERGY, INC.\",\"Crude Petroleum and Natural Gas\"],[\"TEXAS SOUTH ENERGY, INC.\",\"Crude Petroleum and Natural Gas\"],[\"PEDEVCO CORP\",\"Crude Petroleum and Natural Gas\"],[\"VIPER ENERGY PARTNERS LP\",\"Crude Petroleum and Natural Gas\"],[\"ENERJEX RESOURCES, INC.\",\"Crude Petroleum and Natural Gas\"],[\"TENGASCO INC\",\"Crude Petroleum and Natural Gas\"],[\"KIMBELL ROYALTY PARTNERS, LP\",\"Crude Petroleum and Natural Gas\"],[\"CONCHO RESOURCES INC\",\"Crude Petroleum and Natural Gas\"],[\"APACHE OFFSHORE INVESTMENT PARTNERSHIP\",\"Crude Petroleum and Natural Gas\"],[\"EVERFLOW EASTERN PARTNERS LP\",\"Crude Petroleum and Natural Gas\"],[\"CHESAPEAKE ENERGY CORP\",\"Crude Petroleum and Natural Gas\"],[\"CARRIZO OIL & GAS INC\",\"Crude Petroleum and Natural Gas\"],[\"CALLON PETROLEUM CO\",\"Crude Petroleum and Natural Gas\"],[\"PENN VIRGINIA CORP\",\"Crude Petroleum and Natural Gas\"],[\"DIAMONDBACK ENERGY, INC.\",\"Crude Petroleum and Natural Gas\"],[\"COMSTOCK RESOURCES INC\",\"Crude Petroleum and Natural Gas\"],[\"DALA PETROLEUM CORP.\",\"Crude Petroleum and Natural Gas\"],[\"WPX ENERGY, INC.\",\"Crude Petroleum and Natural Gas\"],[\"LILIS ENERGY, INC.\",\"Crude Petroleum and Natural Gas\"]],\"hovertemplate\":\"color=Crude Petroleum and Natural Gas<br>0=%{x}<br>1=%{y}<br>2=%{z}<br>name=%{customdata[0]}<br>industry=%{customdata[1]}<extra></extra>\",\"legendgroup\":\"Crude Petroleum and Natural Gas\",\"marker\":{\"color\":\"#EF553B\",\"symbol\":\"circle\"},\"mode\":\"markers\",\"name\":\"Crude Petroleum and Natural Gas\",\"scene\":\"scene\",\"showlegend\":true,\"type\":\"scatter3d\",\"x\":[-4.338934421539307,-4.87925386428833,5.125483512878418,-6.965017795562744,-4.066265106201172,-0.6036471724510193,-0.6361156702041626,2.910270929336548,-2.346933126449585,-5.02119255065918,-1.016222596168518,-5.0158491134643555,-2.1602272987365723,-4.362594127655029,-3.976363182067871,0.3580302298069,-5.023856163024902,-3.9072091579437256,-4.776683807373047,-1.5467168092727661,-4.913160800933838,-2.949206590652466,-0.7171188592910767,-2.3721959590911865,4.166646480560303,-3.1221158504486084,-4.846714496612549,-2.935642719268799,-3.3473894596099854,-2.172006607055664,-2.3833558559417725,-4.933843612670898,-2.030531167984009,-2.944718360900879,-1.9295934438705444,-7.217803478240967,0.3723922073841095,-5.026540279388428,-4.600001335144043,-4.231137275695801,-3.100929021835327,-4.610886096954346,-0.44115281105041504,-0.43034660816192627,-2.9882595539093018,-4.894316673278809,-2.5278232097625732,-3.2747159004211426,-2.013903856277466,-1.8592652082443237,-2.9527013301849365,-0.395159512758255,-2.064542055130005,-5.380678653717041,-0.8946661353111267,-7.173089981079102,-2.362948417663574,-6.625407695770264,-4.21536111831665,-2.3561012744903564,-5.6309099197387695,-5.583539962768555,-2.0312647819519043,-0.6673098206520081,-3.4998056888580322,-0.15042677521705627,-0.9042539596557617,-3.9866909980773926,-3.4423770904541016,-1.9330235719680786,-2.6337215900421143,-2.7920918464660645,-1.849784255027771,-4.895313262939453,-0.8924754858016968,-4.7028937339782715,-4.3259358406066895,-3.67311954498291,-4.48706579208374,-5.009604454040527],\"y\":[11.007107734680176,5.5628180503845215,1.8456761837005615,-4.158109188079834,6.383697032928467,1.9170454740524292,-0.20384594798088074,-0.0981096550822258,0.5331064462661743,11.996333122253418,0.6888121366500854,8.256855964660645,2.386695146560669,12.957012176513672,11.902938842773438,2.941899061203003,8.95601749420166,18.6861572265625,17.47210121154785,12.975784301757812,12.246920585632324,13.632713317871094,0.12775848805904388,6.982885360717773,11.22619342803955,12.16279125213623,15.117724418640137,16.901443481445312,9.782977104187012,7.403168201446533,16.721702575683594,11.74586009979248,11.306434631347656,15.547811508178711,8.168561935424805,8.71232795715332,5.703415393829346,12.866593360900879,16.585886001586914,11.863757133483887,9.747602462768555,9.32599925994873,5.3878865242004395,6.116734981536865,7.036123275756836,13.888328552246094,10.329604148864746,12.552148818969727,14.410449981689453,6.643749237060547,15.38826847076416,11.114509582519531,4.304287433624268,11.730081558227539,2.464045763015747,11.943687438964844,20.462919235229492,9.501428604125977,12.485672950744629,4.440741062164307,18.755151748657227,11.533910751342773,9.832419395446777,-0.01506753545254469,13.11234188079834,2.938189744949341,7.630776405334473,16.04189682006836,13.982332229614258,4.605970859527588,7.809214115142822,11.452559471130371,14.1815185546875,8.481234550476074,9.274306297302246,10.247285842895508,8.084674835205078,3.6611242294311523,14.84321403503418,6.981031894683838],\"z\":[-3.8066844940185547,-5.076069355010986,-3.7506980895996094,0.31242474913597107,-6.443813323974609,0.027066124603152275,-0.523312509059906,-0.7890185713768005,-1.134509563446045,-9.407032012939453,-1.0376371145248413,-6.48729133605957,-3.2324531078338623,-6.946220397949219,-7.067500114440918,3.388962984085083,-5.042329788208008,-8.357192039489746,-6.4610443115234375,-6.256521701812744,-6.731006622314453,-6.217545509338379,-0.5339164137840271,-2.9555554389953613,0.06268730014562607,-6.788815498352051,-6.294985771179199,-8.282397270202637,-5.288501262664795,-3.2302093505859375,-5.432971477508545,-1.0377849340438843,-6.109461307525635,-5.881869316101074,-3.8332929611206055,-2.5866053104400635,-3.1856143474578857,-6.7606892585754395,-6.302535533905029,-6.906772613525391,-4.190859794616699,-4.922549247741699,-0.7007544636726379,-0.25308868288993835,-1.9770194292068481,-7.363687515258789,-5.433267116546631,-6.798224449157715,-7.772242546081543,-3.4275383949279785,-7.111152172088623,0.3586399257183075,-3.800595760345459,-3.865292549133301,-1.848412036895752,-5.584907531738281,-8.031359672546387,-6.386700630187988,-4.512598514556885,-2.6069912910461426,-6.930907249450684,-5.31864595413208,-6.821707248687744,-0.4863307476043701,-7.394650936126709,6.714419841766357,-4.416245937347412,-6.968101501464844,-6.544267654418945,-0.3744620084762573,-5.208028316497803,-4.018855094909668,-7.977996349334717,-6.728317737579346,-4.563459873199463,-7.084689140319824,-6.31632137298584,4.667280197143555,-7.033782482147217,-4.230588436126709]},{\"customdata\":[[\"ULURU INC.\",\"Pharmaceutical Preparations\"],[\"CHINA YCT INTERNATIONAL GROUP, INC.\",\"Pharmaceutical Preparations\"],[\"AXOVANT SCIENCES LTD.\",\"Pharmaceutical Preparations\"],[\"MYOVANT SCIENCES LTD.\",\"Pharmaceutical Preparations\"],[\"PRESTIGE BRANDS HOLDINGS, INC.\",\"Pharmaceutical Preparations\"],[\"HYPGEN INC\",\"Pharmaceutical Preparations\"],[\"HYPGEN INC\",\"Pharmaceutical Preparations\"],[\"DANDRIT BIOTECH USA, INC.\",\"Pharmaceutical Preparations\"],[\"REZOLUTE, INC.\",\"Pharmaceutical Preparations\"],[\"OPTEC INTERNATIONAL, INC.\",\"Pharmaceutical Preparations\"],[\"OPTEC INTERNATIONAL, INC.\",\"Pharmaceutical Preparations\"],[\"BIOVIE INC.\",\"Pharmaceutical Preparations\"],[\"ONCOSEC MEDICAL INC\",\"Pharmaceutical Preparations\"],[\"CANNABICS PHARMACEUTICALS INC.\",\"Pharmaceutical Preparations\"],[\"ORAMED PHARMACEUTICALS INC.\",\"Pharmaceutical Preparations\"],[\"ENTEST BIOMEDICAL, INC.\",\"Pharmaceutical Preparations\"],[\"MY CLOUDZ, INC.\",\"Pharmaceutical Preparations\"],[\"MY CLOUDZ, INC.\",\"Pharmaceutical Preparations\"],[\"ENANTA PHARMACEUTICALS INC\",\"Pharmaceutical Preparations\"],[\"CITIUS PHARMACEUTICALS, INC.\",\"Pharmaceutical Preparations\"],[\"STELLAR BIOTECHNOLOGIES, INC.\",\"Pharmaceutical Preparations\"],[\"REGEN BIOPHARMA INC\",\"Pharmaceutical Preparations\"],[\"REGEN BIOPHARMA INC\",\"Pharmaceutical Preparations\"],[\"ADVAXIS, INC.\",\"Pharmaceutical Preparations\"],[\"ORGENESIS INC.\",\"Pharmaceutical Preparations\"],[\"Q BIOMED INC.\",\"Pharmaceutical Preparations\"],[\"JOHNSON & JOHNSON\",\"Pharmaceutical Preparations\"],[\"BRISTOL MYERS SQUIBB CO\",\"Pharmaceutical Preparations\"],[\"VBI VACCINES INC/BC\",\"Pharmaceutical Preparations\"],[\"INTRA-CELLULAR THERAPIES, INC.\",\"Pharmaceutical Preparations\"],[\"ROCKET PHARMACEUTICALS, INC.\",\"Pharmaceutical Preparations\"],[\"ATLAS HOLDINGS, INC.\",\"Pharmaceutical Preparations\"],[\"NEMUS BIOSCIENCE, INC.\",\"Pharmaceutical Preparations\"],[\"NEMUS BIOSCIENCE, INC.\",\"Pharmaceutical Preparations\"],[\"OVASCIENCE, INC.\",\"Pharmaceutical Preparations\"],[\"CONCERT PHARMACEUTICALS, INC.\",\"Pharmaceutical Preparations\"],[\"AKCEA THERAPEUTICS, INC.\",\"Pharmaceutical Preparations\"],[\"ARQULE INC\",\"Pharmaceutical Preparations\"],[\"AXIM BIOTECHNOLOGIES, INC.\",\"Pharmaceutical Preparations\"],[\"GUARDION HEALTH SCIENCES, INC.\",\"Pharmaceutical Preparations\"],[\"RETROPHIN, INC.\",\"Pharmaceutical Preparations\"],[\"SYNDAX PHARMACEUTICALS INC\",\"Pharmaceutical Preparations\"],[\"FIBROGEN INC\",\"Pharmaceutical Preparations\"],[\"PROTOKINETIX, INC.\",\"Pharmaceutical Preparations\"],[\"PROGENICS PHARMACEUTICALS INC\",\"Pharmaceutical Preparations\"],[\"CHECKPOINT THERAPEUTICS, INC.\",\"Pharmaceutical Preparations\"],[\"PFENEX INC.\",\"Pharmaceutical Preparations\"],[\"PAIN THERAPEUTICS INC\",\"Pharmaceutical Preparations\"],[\"ZOMEDICA PHARMACEUTICALS CORP.\",\"Pharmaceutical Preparations\"],[\"ZOMEDICA PHARMACEUTICALS CORP.\",\"Pharmaceutical Preparations\"],[\"MOLECULAR TEMPLATES, INC.\",\"Pharmaceutical Preparations\"],[\"WAVE LIFE SCIENCES LTD.\",\"Pharmaceutical Preparations\"],[\"CYMABAY THERAPEUTICS, INC.\",\"Pharmaceutical Preparations\"],[\"AMICUS THERAPEUTICS INC\",\"Pharmaceutical Preparations\"],[\"EVOKE PHARMA INC\",\"Pharmaceutical Preparations\"],[\"CHEMBIO DIAGNOSTICS, INC.\",\"Pharmaceutical Preparations\"],[\"CARA THERAPEUTICS, INC.\",\"Pharmaceutical Preparations\"],[\"CYTOMX THERAPEUTICS, INC.\",\"Pharmaceutical Preparations\"],[\"XENCOR INC\",\"Pharmaceutical Preparations\"],[\"CATABASIS PHARMACEUTICALS INC\",\"Pharmaceutical Preparations\"],[\"SERES THERAPEUTICS, INC.\",\"Pharmaceutical Preparations\"],[\"EYEGATE PHARMACEUTICALS INC\",\"Pharmaceutical Preparations\"],[\"ARENA PHARMACEUTICALS INC\",\"Pharmaceutical Preparations\"],[\"ALEXION PHARMACEUTICALS INC\",\"Pharmaceutical Preparations\"],[\"MELINTA THERAPEUTICS, INC. /NEW/\",\"Pharmaceutical Preparations\"],[\"FIVE PRIME THERAPEUTICS INC\",\"Pharmaceutical Preparations\"],[\"LIXTE BIOTECHNOLOGY HOLDINGS, INC.\",\"Pharmaceutical Preparations\"],[\"ARATANA THERAPEUTICS, INC.\",\"Pharmaceutical Preparations\"],[\"CHIASMA, INC\",\"Pharmaceutical Preparations\"],[\"CELGENE CORP /DE/\",\"Pharmaceutical Preparations\"],[\"NEWLINK GENETICS CORP\",\"Pharmaceutical Preparations\"],[\"LIGAND PHARMACEUTICALS INC\",\"Pharmaceutical Preparations\"],[\"PORTOLA PHARMACEUTICALS INC\",\"Pharmaceutical Preparations\"],[\"PLX PHARMA INC.\",\"Pharmaceutical Preparations\"],[\"ARDELYX, INC.\",\"Pharmaceutical Preparations\"],[\"PROTAGONIST THERAPEUTICS, INC\",\"Pharmaceutical Preparations\"],[\"MOLECULIN BIOTECH, INC.\",\"Pharmaceutical Preparations\"],[\"IRONWOOD PHARMACEUTICALS INC\",\"Pharmaceutical Preparations\"],[\"FORTRESS BIOTECH, INC.\",\"Pharmaceutical Preparations\"],[\"SYNTHETIC BIOLOGICS, INC.\",\"Pharmaceutical Preparations\"],[\"OPTINOSE, INC.\",\"Pharmaceutical Preparations\"],[\"CORMEDIX INC.\",\"Pharmaceutical Preparations\"],[\"HEAT BIOLOGICS, INC.\",\"Pharmaceutical Preparations\"],[\"SUN BIOPHARMA, INC.\",\"Pharmaceutical Preparations\"],[\"BELLEROPHON THERAPEUTICS, INC.\",\"Pharmaceutical Preparations\"],[\"BIOSPECIFICS TECHNOLOGIES CORP\",\"Pharmaceutical Preparations\"],[\"ZOSANO PHARMA CORP\",\"Pharmaceutical Preparations\"],[\"CV SCIENCES, INC.\",\"Pharmaceutical Preparations\"],[\"LILLY ELI & CO\",\"Pharmaceutical Preparations\"],[\"SAREPTA THERAPEUTICS, INC.\",\"Pharmaceutical Preparations\"],[\"EXICURE, INC.\",\"Pharmaceutical Preparations\"],[\"OVID THERAPEUTICS INC.\",\"Pharmaceutical Preparations\"],[\"IMPRIMIS PHARMACEUTICALS, INC.\",\"Pharmaceutical Preparations\"],[\"IONIS PHARMACEUTICALS INC\",\"Pharmaceutical Preparations\"],[\"ONCOMED PHARMACEUTICALS INC\",\"Pharmaceutical Preparations\"],[\"TONIX PHARMACEUTICALS HOLDING CORP.\",\"Pharmaceutical Preparations\"],[\"TEVA PHARMACEUTICAL INDUSTRIES LTD\",\"Pharmaceutical Preparations\"],[\"RHYTHM PHARMACEUTICALS, INC.\",\"Pharmaceutical Preparations\"],[\"COCRYSTAL PHARMA, INC.\",\"Pharmaceutical Preparations\"],[\"REGENERON PHARMACEUTICALS INC\",\"Pharmaceutical Preparations\"],[\"ANI PHARMACEUTICALS INC\",\"Pharmaceutical Preparations\"],[\"CLEARSIDE BIOMEDICAL, INC.\",\"Pharmaceutical Preparations\"],[\"LIPOCINE INC.\",\"Pharmaceutical Preparations\"],[\"GALECTIN THERAPEUTICS INC\",\"Pharmaceutical Preparations\"],[\"STEMLINE THERAPEUTICS INC\",\"Pharmaceutical Preparations\"],[\"DOVA PHARMACEUTICALS, INC.\",\"Pharmaceutical Preparations\"],[\"ABBVIE INC.\",\"Pharmaceutical Preparations\"],[\"AKORN INC\",\"Pharmaceutical Preparations\"],[\"VALEANT PHARMACEUTICALS INTERNATIONAL, INC.\",\"Pharmaceutical Preparations\"],[\"INTELGENX TECHNOLOGIES CORP.\",\"Pharmaceutical Preparations\"],[\"PFIZER INC\",\"Pharmaceutical Preparations\"],[\"SKINVISIBLE INC\",\"Pharmaceutical Preparations\"],[\"TAPIMMUNE INC.\",\"Pharmaceutical Preparations\"],[\"THERAPEUTICSMD, INC.\",\"Pharmaceutical Preparations\"],[\"AQUINOX PHARMACEUTICALS, INC\",\"Pharmaceutical Preparations\"],[\"GLOBAL BLOOD THERAPEUTICS, INC.\",\"Pharmaceutical Preparations\"],[\"RIGEL PHARMACEUTICALS INC\",\"Pharmaceutical Preparations\"],[\"PARATEK PHARMACEUTICALS, INC.\",\"Pharmaceutical Preparations\"],[\"PERRIGO CO PLC\",\"Pharmaceutical Preparations\"],[\"ZAFGEN, INC.\",\"Pharmaceutical Preparations\"],[\"OPHTHOTECH CORP.\",\"Pharmaceutical Preparations\"],[\"ACHILLION PHARMACEUTICALS INC\",\"Pharmaceutical Preparations\"],[\"KEMPHARM, INC\",\"Pharmaceutical Preparations\"],[\"INTERCEPT PHARMACEUTICALS INC\",\"Pharmaceutical Preparations\"],[\"ULTRAGENYX PHARMACEUTICAL INC.\",\"Pharmaceutical Preparations\"],[\"EMERGENT BIOSOLUTIONS INC.\",\"Pharmaceutical Preparations\"],[\"ACER THERAPEUTICS INC.\",\"Pharmaceutical Preparations\"],[\"HERON THERAPEUTICS, INC. /DE/\",\"Pharmaceutical Preparations\"],[\"ADAMIS PHARMACEUTICALS CORP\",\"Pharmaceutical Preparations\"],[\"GT BIOPHARMA, INC.\",\"Pharmaceutical Preparations\"],[\"GT BIOPHARMA, INC.\",\"Pharmaceutical Preparations\"],[\"GT BIOPHARMA, INC.\",\"Pharmaceutical Preparations\"],[\"GT BIOPHARMA, INC.\",\"Pharmaceutical Preparations\"],[\"GT BIOPHARMA, INC.\",\"Pharmaceutical Preparations\"],[\"GT BIOPHARMA, INC.\",\"Pharmaceutical Preparations\"],[\"IMMUNOGEN INC\",\"Pharmaceutical Preparations\"],[\"PTC THERAPEUTICS, INC.\",\"Pharmaceutical Preparations\"],[\"MANNKIND CORP\",\"Pharmaceutical Preparations\"],[\"CARDAX, INC.\",\"Pharmaceutical Preparations\"],[\"SYROS PHARMACEUTICALS, INC.\",\"Pharmaceutical Preparations\"],[\"ADURO BIOTECH, INC.\",\"Pharmaceutical Preparations\"],[\"SIENNA BIOPHARMACEUTICALS, INC.\",\"Pharmaceutical Preparations\"],[\"ACHAOGEN INC\",\"Pharmaceutical Preparations\"],[\"UNITED CANNABIS CORP\",\"Pharmaceutical Preparations\"],[\"UNITED CANNABIS CORP\",\"Pharmaceutical Preparations\"],[\"RXI PHARMACEUTICALS CORP\",\"Pharmaceutical Preparations\"],[\"RXI PHARMACEUTICALS CORP\",\"Pharmaceutical Preparations\"],[\"RXI PHARMACEUTICALS CORP\",\"Pharmaceutical Preparations\"],[\"RXI PHARMACEUTICALS CORP\",\"Pharmaceutical Preparations\"],[\"SOLIGENIX, INC.\",\"Pharmaceutical Preparations\"],[\"XOMA CORP\",\"Pharmaceutical Preparations\"],[\"SIERRA ONCOLOGY, INC.\",\"Pharmaceutical Preparations\"],[\"ACTINIUM PHARMACEUTICALS, INC.\",\"Pharmaceutical Preparations\"],[\"ORAGENICS INC\",\"Pharmaceutical Preparations\"],[\"ATHERSYS, INC / NEW\",\"Pharmaceutical Preparations\"],[\"PULMATRIX, INC.\",\"Pharmaceutical Preparations\"],[\"ACADIA PHARMACEUTICALS INC\",\"Pharmaceutical Preparations\"],[\"TREVENA INC\",\"Pharmaceutical Preparations\"],[\"NATURES SUNSHINE PRODUCTS INC\",\"Pharmaceutical Preparations\"],[\"FLEXION THERAPEUTICS INC\",\"Pharmaceutical Preparations\"],[\"VERASTEM, INC.\",\"Pharmaceutical Preparations\"],[\"XENON PHARMACEUTICALS INC.\",\"Pharmaceutical Preparations\"],[\"SUNESIS PHARMACEUTICALS INC\",\"Pharmaceutical Preparations\"],[\"CORVUS PHARMACEUTICALS, INC.\",\"Pharmaceutical Preparations\"],[\"MERCK & CO., INC.\",\"Pharmaceutical Preparations\"],[\"STRONGBRIDGE BIOPHARMA PLC\",\"Pharmaceutical Preparations\"],[\"CATALYST PHARMACEUTICALS, INC.\",\"Pharmaceutical Preparations\"],[\"ASSEMBLY BIOSCIENCES, INC.\",\"Pharmaceutical Preparations\"],[\"APRICUS BIOSCIENCES, INC.\",\"Pharmaceutical Preparations\"],[\"CATALYST BIOSCIENCES, INC.\",\"Pharmaceutical Preparations\"],[\"MIRATI THERAPEUTICS, INC.\",\"Pharmaceutical Preparations\"],[\"MUSTANG BIO, INC.\",\"Pharmaceutical Preparations\"],[\"ACELRX PHARMACEUTICALS INC\",\"Pharmaceutical Preparations\"],[\"BLUEPRINT MEDICINES CORP\",\"Pharmaceutical Preparations\"],[\"ATHENEX, INC.\",\"Pharmaceutical Preparations\"],[\"ATHENEX, INC.\",\"Pharmaceutical Preparations\"],[\"RECRO PHARMA, INC.\",\"Pharmaceutical Preparations\"],[\"BIOHAVEN PHARMACEUTICAL HOLDING CO LTD.\",\"Pharmaceutical Preparations\"],[\"PROTHENA CORP PLC\",\"Pharmaceutical Preparations\"],[\"AVENUE THERAPEUTICS, INC.\",\"Pharmaceutical Preparations\"],[\"VTV THERAPEUTICS INC.\",\"Pharmaceutical Preparations\"],[\"ZYNERBA PHARMACEUTICALS, INC.\",\"Pharmaceutical Preparations\"],[\"BIOMARIN PHARMACEUTICAL INC\",\"Pharmaceutical Preparations\"],[\"KARYOPHARM THERAPEUTICS INC.\",\"Pharmaceutical Preparations\"],[\"LEXICON PHARMACEUTICALS, INC.\",\"Pharmaceutical Preparations\"],[\"ENDO INTERNATIONAL PLC\",\"Pharmaceutical Preparations\"],[\"PROPHASE LABS, INC.\",\"Pharmaceutical Preparations\"],[\"CELLECTAR BIOSCIENCES, INC.\",\"Pharmaceutical Preparations\"],[\"RITTER PHARMACEUTICALS INC\",\"Pharmaceutical Preparations\"],[\"MARINUS PHARMACEUTICALS INC\",\"Pharmaceutical Preparations\"],[\"CORCEPT THERAPEUTICS INC\",\"Pharmaceutical Preparations\"],[\"ALNYLAM PHARMACEUTICALS, INC.\",\"Pharmaceutical Preparations\"],[\"DARE BIOSCIENCE, INC.\",\"Pharmaceutical Preparations\"],[\"TELIGENT, INC.\",\"Pharmaceutical Preparations\"],[\"TELIGENT, INC.\",\"Pharmaceutical Preparations\"],[\"ACLARIS THERAPEUTICS, INC.\",\"Pharmaceutical Preparations\"],[\"VITAL THERAPIES INC\",\"Pharmaceutical Preparations\"],[\"DECIPHERA PHARMACEUTICALS, INC.\",\"Pharmaceutical Preparations\"],[\"CAPSTONE THERAPEUTICS CORP.\",\"Pharmaceutical Preparations\"],[\"PACIRA PHARMACEUTICALS, INC.\",\"Pharmaceutical Preparations\"],[\"UROGEN PHARMA LTD.\",\"Pharmaceutical Preparations\"],[\"FIBROCELL SCIENCE, INC.\",\"Pharmaceutical Preparations\"],[\"FLEX PHARMA, INC.\",\"Pharmaceutical Preparations\"],[\"BIODELIVERY SCIENCES INTERNATIONAL INC\",\"Pharmaceutical Preparations\"],[\"HORIZON PHARMA PLC\",\"Pharmaceutical Preparations\"],[\"MERRIMACK PHARMACEUTICALS INC\",\"Pharmaceutical Preparations\"],[\"CYCLACEL PHARMACEUTICALS, INC.\",\"Pharmaceutical Preparations\"],[\"ZOETIS INC.\",\"Pharmaceutical Preparations\"]],\"hovertemplate\":\"color=Pharmaceutical Preparations<br>0=%{x}<br>1=%{y}<br>2=%{z}<br>name=%{customdata[0]}<br>industry=%{customdata[1]}<extra></extra>\",\"legendgroup\":\"Pharmaceutical Preparations\",\"marker\":{\"color\":\"#00cc96\",\"symbol\":\"circle\"},\"mode\":\"markers\",\"name\":\"Pharmaceutical Preparations\",\"scene\":\"scene\",\"showlegend\":true,\"type\":\"scatter3d\",\"x\":[7.1472554206848145,4.8398308753967285,3.8125617504119873,7.062637805938721,4.342325687408447,2.529646635055542,2.4022276401519775,8.975658416748047,5.287420272827148,0.0014502466656267643,0.12061052769422531,6.471107482910156,8.875487327575684,7.419072151184082,4.2007951736450195,-4.611718654632568,-0.4333934783935547,-0.20937614142894745,16.033191680908203,2.2163138389587402,5.667092323303223,7.975491046905518,8.539560317993164,9.318485260009766,7.306340217590332,8.402472496032715,3.169231414794922,-0.4974548816680908,13.40435791015625,10.115333557128906,3.0997159481048584,5.594014644622803,10.174090385437012,10.404949188232422,12.59782886505127,4.876401901245117,10.803862571716309,-0.8595438599586487,4.663023471832275,4.84438943862915,11.735240936279297,15.138833045959473,4.722601890563965,6.3433027267456055,0.2520819902420044,15.281221389770508,15.559150695800781,8.41652774810791,13.543177604675293,11.91261100769043,16.648176193237305,20.790512084960938,6.775458812713623,13.399819374084473,10.680538177490234,9.878888130187988,1.6790248155593872,17.32182502746582,-0.38227561116218567,3.311040163040161,15.38819694519043,11.784460067749023,12.896665573120117,12.966362953186035,10.457948684692383,-0.6561487317085266,11.85584831237793,15.193745613098145,13.305049896240234,12.845398902893066,12.009507179260254,10.72836685180664,12.752036094665527,11.165312767028809,7.260679244995117,18.659414291381836,15.92952823638916,12.307195663452148,5.367313861846924,12.841548919677734,13.90893840789795,12.901349067687988,6.388678550720215,8.058955192565918,0.20363251864910126,11.397330284118652,9.479397773742676,4.500385284423828,12.267298698425293,15.766249656677246,14.016778945922852,12.368799209594727,9.276684761047363,18.96493148803711,15.347466468811035,14.437152862548828,12.524007797241211,15.406055450439453,12.41809368133545,16.595428466796875,9.678400993347168,15.28291130065918,10.448149681091309,8.514301300048828,16.05670928955078,4.436563968658447,9.875205039978027,8.490970611572266,9.482471466064453,14.218863487243652,2.2898385524749756,8.483525276184082,13.81004524230957,15.388978004455566,7.410682201385498,7.889310836791992,14.838448524475098,12.123435974121094,1.128569483757019,-0.23079487681388855,16.550954818725586,15.09791088104248,14.205424308776855,8.941410064697266,3.549909830093384,13.915740966796875,12.818374633789062,7.439455986022949,11.402095794677734,12.636373519897461,14.665656089782715,15.200759887695312,16.11152458190918,16.975984573364258,17.262205123901367,12.429720878601074,10.89189338684082,7.63364315032959,7.148709774017334,11.987629890441895,12.582998275756836,11.143302917480469,11.656891822814941,3.86850643157959,4.74172830581665,8.996159553527832,10.080071449279785,11.085030555725098,11.255291938781738,3.129417657852173,6.506316661834717,5.257420063018799,13.568703651428223,11.753182411193848,10.874488830566406,9.850908279418945,11.112208366394043,4.883549213409424,0.01569630764424801,0.6753013134002686,8.584775924682617,5.171065330505371,12.207008361816406,9.47313117980957,10.865392684936523,14.087724685668945,12.580403327941895,6.560503959655762,11.110671043395996,13.862824440002441,9.569746971130371,13.489069938659668,7.187744140625,14.348292350769043,4.751251220703125,4.493077754974365,7.757638454437256,9.848356246948242,5.594753742218018,12.366744995117188,6.844776153564453,7.588216304779053,3.5613999366760254,13.487248420715332,5.524033069610596,9.502334594726562,5.49198579788208,14.453678131103516,13.667451858520508,3.873758554458618,11.153197288513184,16.42152214050293,11.6758394241333,5.942215919494629,6.460662364959717,4.340338706970215,6.89655876159668,14.122777938842773,4.842182636260986,0.6563760638237,14.355530738830566,10.76625919342041,8.188838958740234,11.508536338806152,10.741503715515137,10.245753288269043,12.759729385375977,-2.3812038898468018],\"y\":[-2.024188995361328,2.18788480758667,-0.6299566030502319,-0.6631607413291931,-2.8717947006225586,-0.9038492441177368,-1.081731915473938,-2.2367327213287354,-0.18061503767967224,2.078368902206421,1.4846645593643188,-2.5204684734344482,-1.6800068616867065,-0.7512708306312561,-0.3577965795993805,0.9938271641731262,0.321828156709671,0.09940438717603683,-1.6824578046798706,-1.336189866065979,2.7966554164886475,-2.144176483154297,-1.5168343782424927,-2.257141590118408,-1.0266335010528564,-0.2055502086877823,-1.861142873764038,-0.13178080320358276,0.6446810960769653,-2.513704299926758,-0.014029002748429775,-1.164421558380127,0.6628013253211975,0.39664411544799805,-1.298485517501831,-0.4028705656528473,-0.44093218445777893,-0.0757676362991333,0.7614300847053528,-1.3192905187606812,-1.7089329957962036,-2.2630810737609863,-0.08927278220653534,0.22625461220741272,3.7696993350982666,0.6829245090484619,1.2020790576934814,-0.5834694504737854,-0.012068033218383789,0.48554134368896484,-3.0262722969055176,4.884088039398193,-0.48630812764167786,-0.7769545912742615,-2.505927801132202,-0.5927084684371948,0.5038862824440002,2.648056983947754,0.7344724535942078,-0.7652329206466675,1.488403558731079,0.9632559418678284,-0.6396747827529907,-3.2445714473724365,0.4999764859676361,-0.06540942192077637,-1.510223150253296,0.3798736035823822,1.510218620300293,-3.0953216552734375,0.1360367238521576,0.5453362464904785,-1.4121772050857544,-1.5385082960128784,-0.005353383719921112,-0.4796415865421295,0.5153525471687317,-1.130086064338684,0.5899609327316284,-1.0809019804000854,-2.878176689147949,-4.135928630828857,-0.5421472787857056,-1.1600604057312012,0.1280057430267334,-0.871074914932251,-2.1731746196746826,0.3007410764694214,-1.7300450801849365,-2.979405164718628,-1.9568055868148804,-2.9901833534240723,-1.1038841009140015,1.305918574333191,-1.760645866394043,-2.3585352897644043,0.7396528720855713,-5.255055904388428,0.102226123213768,-3.232020616531372,-0.22167056798934937,-2.497114658355713,-1.451136589050293,-0.7746079564094543,-2.039058208465576,-0.11727861315011978,-0.5713261365890503,-0.8439037799835205,0.5576838254928589,2.090538501739502,-0.24587135016918182,-2.001030683517456,-2.568915605545044,-4.135149955749512,-2.975446939468384,-0.969606876373291,-4.105697154998779,-4.560952663421631,-0.46615007519721985,-1.711917757987976,0.44643634557724,-5.821298599243164,-1.3461095094680786,-0.26917216181755066,-0.13966304063796997,-2.518681049346924,-2.0623345375061035,-1.9365015029907227,0.33094528317451477,-1.108733057975769,-0.5568127632141113,-0.3479200303554535,-0.1607884168624878,-0.5281364917755127,-0.429900199174881,-5.2249298095703125,-1.8617026805877686,-0.8711965084075928,-0.3099273145198822,-3.104238986968994,-2.7224202156066895,-2.6482396125793457,-4.9039225578308105,1.7379605770111084,1.4470655918121338,-0.19305750727653503,0.2298121452331543,0.5921078324317932,0.6252870559692383,-0.05536239221692085,0.6294328570365906,-1.6247364282608032,0.6013779640197754,0.44057679176330566,-0.30773982405662537,-0.7343478202819824,-1.5775865316390991,-2.1268413066864014,-1.6676745414733887,-0.8022990226745605,-2.4703876972198486,-1.1588044166564941,-1.8076101541519165,-0.6842703223228455,-3.028473377227783,-3.3574941158294678,-3.150158643722534,0.4693935215473175,-2.8015286922454834,-2.0352492332458496,-3.2313663959503174,-0.9755653738975525,-2.2656216621398926,-2.760826349258423,-1.3435999155044556,-1.3433266878128052,-1.7944207191467285,-2.5690414905548096,0.2581847906112671,-3.096445322036743,-0.8947330713272095,-0.2440570890903473,0.013041319325566292,0.9807679057121277,-0.09258230030536652,-1.4610698223114014,-2.822415828704834,-3.1245033740997314,-4.875511169433594,-2.298635721206665,-3.480351209640503,-0.7593113780021667,-2.9721667766571045,-2.700164794921875,-2.1839890480041504,-0.27130305767059326,-0.557087242603302,-3.3334763050079346,-0.14973725378513336,0.019665274769067764,-2.6156201362609863,-2.962618350982666,-3.032376289367676,-1.9264899492263794,-3.093773603439331,-5.540722846984863,-2.534576892852783,2.4734485149383545],\"z\":[-0.8203407526016235,-2.1950907707214355,-1.6620796918869019,-2.0305280685424805,2.538132905960083,-3.3731751441955566,-3.6688284873962402,-4.635110378265381,-2.0287721157073975,1.7994718551635742,1.661557674407959,-4.317596435546875,-0.8489293456077576,-0.9057994484901428,-1.8494749069213867,-3.663133382797241,-1.2693618535995483,-1.1574630737304688,-4.803092956542969,-0.24008069932460785,0.1868947446346283,-7.686182975769043,-8.146038055419922,-4.375310897827148,-1.4993404150009155,-1.752662181854248,-0.9136160612106323,-0.5446310639381409,-2.2344000339508057,-2.0024845600128174,-0.8553597927093506,1.1007041931152344,-1.6163798570632935,-1.8745598793029785,-2.925816535949707,-1.8388503789901733,0.7778788805007935,-0.4857785105705261,-0.049454815685749054,2.278897523880005,-1.9636348485946655,-2.713385581970215,-1.2673008441925049,-1.9499332904815674,-2.839639663696289,-2.2605202198028564,-3.0407676696777344,-1.0144455432891846,2.222532272338867,1.4613310098648071,-0.81232088804245,-2.936450958251953,-2.599327564239502,-1.8985897302627563,-1.0546709299087524,3.378916025161743,-0.29222384095191956,-0.6952381730079651,0.7617530822753906,-1.1829458475112915,0.429508239030838,2.311460494995117,-1.7875757217407227,-0.8394742012023926,0.1383952647447586,-0.4619992971420288,-3.393110752105713,0.94251549243927,-2.393566370010376,-1.945449709892273,-2.071338415145874,0.072200708091259,-1.4495666027069092,-0.6273176074028015,-1.5585225820541382,-1.9769508838653564,-3.933593273162842,-0.0678669810295105,-1.1200541257858276,-3.0411782264709473,7.471739768981934,-0.5218028426170349,0.5859332084655762,-2.2347452640533447,-0.6738563179969788,-1.5835641622543335,-0.01976146548986435,1.6154521703720093,0.3814487159252167,-2.3039331436157227,-1.6071277856826782,1.0976828336715698,0.9583562612533569,-1.2725701332092285,-2.532788038253784,-0.6866936683654785,2.4311153888702393,-4.158372402191162,-1.9926091432571411,-2.610489845275879,1.2707940340042114,1.0944989919662476,-2.2584145069122314,-1.5028250217437744,-0.3411637544631958,-0.7726210355758667,-0.92967289686203,2.728299140930176,2.9779510498046875,1.1936405897140503,0.28728991746902466,1.5180941820144653,-2.1625325679779053,7.407318115234375,-1.4930403232574463,-1.375760555267334,-0.4246515929698944,-1.3121901750564575,0.6834296584129333,-1.9542893171310425,-0.5252668857574463,-2.132704496383667,0.40776386857032776,-2.7203164100646973,-0.06971561163663864,-1.4906920194625854,-2.746363401412964,0.9127130508422852,0.8084935545921326,0.45836445689201355,0.5553073287010193,0.646544337272644,0.4108210504055023,0.5580372214317322,0.44692522287368774,0.6265872716903687,-3.1825640201568604,2.642160415649414,-0.4225689172744751,-2.9105727672576904,-4.131954669952393,-3.0537776947021484,-3.510629177093506,0.30738377571105957,0.1739984154701233,-2.7993452548980713,-2.6289210319519043,-2.7172515392303467,-2.999642848968506,-1.1314533948898315,-2.6765694618225098,-1.148287057876587,1.4265774488449097,-3.140533208847046,-2.1203157901763916,-0.9318819046020508,0.8251369595527649,-0.18813644349575043,2.3624980449676514,-0.6334335207939148,-1.0842962265014648,-1.4063313007354736,-1.4110002517700195,-2.6310901641845703,-2.6476852893829346,-3.614572525024414,1.5585840940475464,-1.438550353050232,-1.8676083087921143,-4.508554935455322,-1.4398258924484253,-1.8555124998092651,2.2318739891052246,-0.4552260935306549,-0.4475652575492859,-0.2225363701581955,0.953298032283783,-1.084363579750061,0.001056540641002357,-0.8212135434150696,-2.2236475944519043,-1.197454810142517,-0.90214604139328,-3.852619171142578,-1.234413504600525,2.7758843898773193,-0.05352441966533661,-0.47287294268608093,-1.766473650932312,-1.1395351886749268,-0.8808479309082031,-2.7176082134246826,0.18231822550296783,2.113585948944092,2.285101890563965,-0.6072343587875366,-2.1787519454956055,-3.9472317695617676,-2.188001871109009,0.3379085063934326,-3.880810499191284,-2.2010440826416016,0.007984164170920849,1.1095491647720337,-1.2234265804290771,-1.2287070751190186,-4.681443214416504,-2.916670799255371]},{\"customdata\":[[\"INVESTORS REAL ESTATE TRUST\",\"Real Estate Investment Trusts\"],[\"BRT APARTMENTS CORP.\",\"Real Estate Investment Trusts\"],[\"MONMOUTH REAL ESTATE INVESTMENT CORP\",\"Real Estate Investment Trusts\"],[\"FIRST REAL ESTATE INVESTMENT TRUST OF NEW JERSEY\",\"Real Estate Investment Trusts\"],[\"FIRST REAL ESTATE INVESTMENT TRUST OF NEW JERSEY\",\"Real Estate Investment Trusts\"],[\"URSTADT BIDDLE PROPERTIES INC\",\"Real Estate Investment Trusts\"],[\"URSTADT BIDDLE PROPERTIES INC\",\"Real Estate Investment Trusts\"],[\"PHILLIPS EDISON & COMPANY, INC.\",\"Real Estate Investment Trusts\"],[\"SL GREEN REALTY CORP\",\"Real Estate Investment Trusts\"],[\"CUBESMART\",\"Real Estate Investment Trusts\"],[\"CIM COMMERCIAL TRUST CORP\",\"Real Estate Investment Trusts\"],[\"CERES TACTICAL SYSTEMATIC L.P.\",\"Real Estate Investment Trusts\"],[\"PS BUSINESS PARKS INC/CA\",\"Real Estate Investment Trusts\"],[\"STEADFAST INCOME REIT, INC.\",\"Real Estate Investment Trusts\"],[\"RETAIL OPPORTUNITY INVESTMENTS CORP\",\"Real Estate Investment Trusts\"],[\"MORGAN STANLEY SMITH BARNEY SPECTRUM SELECT LP\",\"Real Estate Investment Trusts\"],[\"NEW YORK MORTGAGE TRUST INC\",\"Real Estate Investment Trusts\"],[\"CBL & ASSOCIATES PROPERTIES INC\",\"Real Estate Investment Trusts\"],[\"LEXINGTON REALTY TRUST\",\"Real Estate Investment Trusts\"],[\"BRANDYWINE REALTY TRUST\",\"Real Estate Investment Trusts\"],[\"LAMAR ADVERTISING CO/NEW\",\"Real Estate Investment Trusts\"],[\"JBG SMITH PROPERTIES\",\"Real Estate Investment Trusts\"],[\"KBS REAL ESTATE INVESTMENT TRUST III, INC.\",\"Real Estate Investment Trusts\"],[\"CAPSTEAD MORTGAGE CORP\",\"Real Estate Investment Trusts\"],[\"GGP INC.\",\"Real Estate Investment Trusts\"],[\"QTS REALTY TRUST, INC.\",\"Real Estate Investment Trusts\"],[\"WELLS FARGO REAL ESTATE INVESTMENT CORP.\",\"Real Estate Investment Trusts\"],[\"LIGHTSTONE VALUE PLUS REAL ESTATE INVESTMENT TRUST V, INC.\",\"Real Estate Investment Trusts\"],[\"RESOURCE APARTMENT REIT III, INC.\",\"Real Estate Investment Trusts\"],[\"CNL HEALTHCARE PROPERTIES, INC.\",\"Real Estate Investment Trusts\"],[\"RETAIL PROPERTIES OF AMERICA, INC.\",\"Real Estate Investment Trusts\"],[\"BOSTON PROPERTIES INC\",\"Real Estate Investment Trusts\"],[\"REGENCY CENTERS CORP\",\"Real Estate Investment Trusts\"],[\"NATIONAL HEALTH INVESTORS INC\",\"Real Estate Investment Trusts\"],[\"DRIVE SHACK INC.\",\"Real Estate Investment Trusts\"],[\"COLE CREDIT PROPERTY TRUST V, INC.\",\"Real Estate Investment Trusts\"],[\"EQUITY RESIDENTIAL\",\"Real Estate Investment Trusts\"],[\"KITE REALTY GROUP TRUST\",\"Real Estate Investment Trusts\"],[\"OUTFRONT MEDIA INC.\",\"Real Estate Investment Trusts\"],[\"PENNSYLVANIA REAL ESTATE INVESTMENT TRUST\",\"Real Estate Investment Trusts\"],[\"COLE REAL ESTATE INCOME STRATEGY (DAILY NAV), INC.\",\"Real Estate Investment Trusts\"],[\"REALTY INCOME CORP\",\"Real Estate Investment Trusts\"],[\"GLOBAL MEDICAL REIT INC.\",\"Real Estate Investment Trusts\"],[\"PILLARSTONE CAPITAL REIT\",\"Real Estate Investment Trusts\"],[\"CLIPPER REALTY INC.\",\"Real Estate Investment Trusts\"],[\"BLACK CREEK INDUSTRIAL REIT IV INC.\",\"Real Estate Investment Trusts\"],[\"LIGHTSTONE VALUE PLUS REAL ESTATE INVESTMENT TRUST, INC.\",\"Real Estate Investment Trusts\"],[\"KKR REAL ESTATE FINANCE TRUST INC.\",\"Real Estate Investment Trusts\"],[\"GEO GROUP INC\",\"Real Estate Investment Trusts\"],[\"AMERICAN ASSETS TRUST, INC.\",\"Real Estate Investment Trusts\"],[\"IMPAC MORTGAGE HOLDINGS INC\",\"Real Estate Investment Trusts\"],[\"CNL HEALTHCARE PROPERTIES II, INC.\",\"Real Estate Investment Trusts\"],[\"ANWORTH MORTGAGE ASSET CORP\",\"Real Estate Investment Trusts\"],[\"LIGHTSTONE VALUE PLUS REAL ESTATE INVESTMENT TRUST III, INC.\",\"Real Estate Investment Trusts\"],[\"AMERICAN FINANCE TRUST, INC\",\"Real Estate Investment Trusts\"],[\"EQUITY COMMONWEALTH\",\"Real Estate Investment Trusts\"],[\"FOUR CORNERS PROPERTY TRUST, INC.\",\"Real Estate Investment Trusts\"],[\"RAYONIER INC\",\"Real Estate Investment Trusts\"],[\"HOST HOTELS & RESORTS, INC.\",\"Real Estate Investment Trusts\"],[\"GAMING & LEISURE PROPERTIES, INC.\",\"Real Estate Investment Trusts\"],[\"NATIONAL RETAIL PROPERTIES, INC.\",\"Real Estate Investment Trusts\"],[\"SENIOR HOUSING PROPERTIES TRUST\",\"Real Estate Investment Trusts\"],[\"SUTHERLAND ASSET MANAGEMENT CORP\",\"Real Estate Investment Trusts\"],[\"TAUBMAN CENTERS INC\",\"Real Estate Investment Trusts\"],[\"RESOURCE REAL ESTATE OPPORTUNITY REIT, INC.\",\"Real Estate Investment Trusts\"],[\"TANGER FACTORY OUTLET CENTERS INC\",\"Real Estate Investment Trusts\"],[\"MFA FINANCIAL, INC.\",\"Real Estate Investment Trusts\"],[\"TERRA SECURED INCOME FUND 5, LLC\",\"Real Estate Investment Trusts\"],[\"SBA COMMUNICATIONS CORP\",\"Real Estate Investment Trusts\"],[\"LIGHTSTONE VALUE PLUS REAL ESTATE INVESTMENT TRUST II INC\",\"Real Estate Investment Trusts\"],[\"JONES LANG LASALLE INCOME PROPERTY TRUST, INC.\",\"Real Estate Investment Trusts\"],[\"AVALONBAY COMMUNITIES INC\",\"Real Estate Investment Trusts\"],[\"ARES COMMERCIAL REAL ESTATE CORP\",\"Real Estate Investment Trusts\"],[\"CARTER VALIDUS MISSION CRITICAL REIT II, INC.\",\"Real Estate Investment Trusts\"],[\"PHYSICIANS REALTY TRUST\",\"Real Estate Investment Trusts\"],[\"PROLOGIS, INC.\",\"Real Estate Investment Trusts\"],[\"ARMOUR RESIDENTIAL REIT, INC.\",\"Real Estate Investment Trusts\"],[\"CHERRY HILL MORTGAGE INVESTMENT CORP\",\"Real Estate Investment Trusts\"],[\"EMPIRE STATE REALTY TRUST, INC.\",\"Real Estate Investment Trusts\"],[\"PUBLIC STORAGE\",\"Real Estate Investment Trusts\"],[\"APARTMENT INVESTMENT & MANAGEMENT CO\",\"Real Estate Investment Trusts\"],[\"CEDAR REALTY TRUST, INC.\",\"Real Estate Investment Trusts\"],[\"HIGHLANDS REIT, INC.\",\"Real Estate Investment Trusts\"],[\"IRON MOUNTAIN INC\",\"Real Estate Investment Trusts\"],[\"SOTHERLY HOTELS INC.\",\"Real Estate Investment Trusts\"],[\"EMPIRE STATE REALTY OP, L.P.\",\"Real Estate Investment Trusts\"],[\"ESSEX PROPERTY TRUST INC\",\"Real Estate Investment Trusts\"],[\"WEINGARTEN REALTY INVESTORS /TX/\",\"Real Estate Investment Trusts\"],[\"CONDOR HOSPITALITY TRUST, INC.\",\"Real Estate Investment Trusts\"],[\"CITY OFFICE REIT, INC.\",\"Real Estate Investment Trusts\"],[\"BENEFIT STREET PARTNERS REALTY TRUST, INC.\",\"Real Estate Investment Trusts\"],[\"LIGHTSTONE REAL ESTATE INCOME TRUST INC.\",\"Real Estate Investment Trusts\"],[\"AMERICAN CAMPUS COMMUNITIES INC\",\"Real Estate Investment Trusts\"],[\"STARWOOD PROPERTY TRUST, INC.\",\"Real Estate Investment Trusts\"],[\"CORESITE REALTY CORP\",\"Real Estate Investment Trusts\"],[\"POTLATCH CORP\",\"Real Estate Investment Trusts\"],[\"CORPORATE OFFICE PROPERTIES TRUST\",\"Real Estate Investment Trusts\"],[\"RAMCO GERSHENSON PROPERTIES TRUST\",\"Real Estate Investment Trusts\"],[\"NATIONAL STORAGE AFFILIATES TRUST\",\"Real Estate Investment Trusts\"],[\"HERSHA HOSPITALITY TRUST\",\"Real Estate Investment Trusts\"],[\"JERNIGAN CAPITAL, INC.\",\"Real Estate Investment Trusts\"],[\"VORNADO REALTY TRUST\",\"Real Estate Investment Trusts\"],[\"ISTAR INC.\",\"Real Estate Investment Trusts\"],[\"ALEXANDER & BALDWIN, INC.\",\"Real Estate Investment Trusts\"],[\"HOSPITALITY INVESTORS TRUST, INC.\",\"Real Estate Investment Trusts\"],[\"SAUL CENTERS INC\",\"Real Estate Investment Trusts\"],[\"KBS GROWTH & INCOME REIT, INC.\",\"Real Estate Investment Trusts\"],[\"EXTRA SPACE STORAGE INC.\",\"Real Estate Investment Trusts\"],[\"CHESAPEAKE LODGING TRUST\",\"Real Estate Investment Trusts\"],[\"LTC PROPERTIES INC\",\"Real Estate Investment Trusts\"],[\"EASTERLY GOVERNMENT PROPERTIES, INC.\",\"Real Estate Investment Trusts\"],[\"PLYMOUTH INDUSTRIAL REIT INC.\",\"Real Estate Investment Trusts\"],[\"FRANKLIN STREET PROPERTIES CORP /MA/\",\"Real Estate Investment Trusts\"],[\"HEALTHCARE TRUST OF AMERICA, INC.\",\"Real Estate Investment Trusts\"],[\"REALSOURCE RESIDENTIAL, INC\",\"Real Estate Investment Trusts\"],[\"CARTER VALIDUS MISSION CRITICAL REIT, INC.\",\"Real Estate Investment Trusts\"],[\"SUN COMMUNITIES INC\",\"Real Estate Investment Trusts\"],[\"FIRST EQUITY PROPERTIES INC\",\"Real Estate Investment Trusts\"],[\"MID AMERICA APARTMENT COMMUNITIES INC\",\"Real Estate Investment Trusts\"],[\"BROOKFIELD DTLA FUND OFFICE TRUST INVESTOR INC.\",\"Real Estate Investment Trusts\"],[\"ANNALY CAPITAL MANAGEMENT INC\",\"Real Estate Investment Trusts\"],[\"WHEELER REAL ESTATE INVESTMENT TRUST, INC.\",\"Real Estate Investment Trusts\"],[\"ALEXANDRIA REAL ESTATE EQUITIES INC\",\"Real Estate Investment Trusts\"],[\"HIGHWOODS PROPERTIES INC\",\"Real Estate Investment Trusts\"],[\"KIMCO REALTY CORP\",\"Real Estate Investment Trusts\"],[\"INDEPENDENCE REALTY TRUST, INC.\",\"Real Estate Investment Trusts\"],[\"PREFERRED APARTMENT COMMUNITIES INC\",\"Real Estate Investment Trusts\"],[\"ELLINGTON RESIDENTIAL MORTGAGE REIT\",\"Real Estate Investment Trusts\"],[\"CORECIVIC, INC.\",\"Real Estate Investment Trusts\"],[\"ASHFORD HOSPITALITY PRIME, INC.\",\"Real Estate Investment Trusts\"],[\"LIFE STORAGE, INC.\",\"Real Estate Investment Trusts\"],[\"HEALTHCARE REALTY TRUST INC\",\"Real Estate Investment Trusts\"],[\"WINTHROP REALTY LIQUIDATING TRUST\",\"Real Estate Investment Trusts\"],[\"CORENERGY INFRASTRUCTURE TRUST, INC.\",\"Real Estate Investment Trusts\"],[\"KBS STRATEGIC OPPORTUNITY REIT II, INC.\",\"Real Estate Investment Trusts\"],[\"PEBBLEBROOK HOTEL TRUST\",\"Real Estate Investment Trusts\"],[\"SABRA HEALTH CARE REIT, INC.\",\"Real Estate Investment Trusts\"],[\"POWER REIT\",\"Real Estate Investment Trusts\"],[\"DYNEX CAPITAL INC\",\"Real Estate Investment Trusts\"],[\"DIGITAL REALTY TRUST, INC.\",\"Real Estate Investment Trusts\"],[\"STRATEGIC REALTY TRUST, INC.\",\"Real Estate Investment Trusts\"],[\"COLE OFFICE & INDUSTRIAL REIT (CCIT III), INC.\",\"Real Estate Investment Trusts\"],[\"HEALTHCARE TRUST, INC.\",\"Real Estate Investment Trusts\"],[\"LADDER CAPITAL CORP\",\"Real Estate Investment Trusts\"],[\"CROWN CASTLE INTERNATIONAL CORP\",\"Real Estate Investment Trusts\"],[\"HOWARD HUGHES CORP\",\"Real Estate Investment Trusts\"],[\"ALEXANDERS INC\",\"Real Estate Investment Trusts\"],[\"MANHATTAN BRIDGE CAPITAL, INC\",\"Real Estate Investment Trusts\"],[\"INLAND REAL ESTATE INCOME TRUST, INC.\",\"Real Estate Investment Trusts\"],[\"INLAND RESIDENTIAL PROPERTIES TRUST, INC.\",\"Real Estate Investment Trusts\"],[\"INLAND RESIDENTIAL PROPERTIES TRUST, INC.\",\"Real Estate Investment Trusts\"],[\"KBS REAL ESTATE INVESTMENT TRUST II, INC.\",\"Real Estate Investment Trusts\"],[\"RESOURCE REAL ESTATE OPPORTUNITY REIT II, INC.\",\"Real Estate Investment Trusts\"],[\"STEADFAST APARTMENT REIT III, INC.\",\"Real Estate Investment Trusts\"],[\"ACADIA REALTY TRUST\",\"Real Estate Investment Trusts\"],[\"HMG COURTLAND PROPERTIES INC\",\"Real Estate Investment Trusts\"],[\"COLE CREDIT PROPERTY TRUST IV, INC.\",\"Real Estate Investment Trusts\"],[\"FIVE OAKS INVESTMENT CORP.\",\"Real Estate Investment Trusts\"],[\"NEXPOINT RESIDENTIAL TRUST, INC.\",\"Real Estate Investment Trusts\"],[\"TWO HARBORS INVESTMENT CORP.\",\"Real Estate Investment Trusts\"],[\"WASHINGTON PRIME GROUP INC.\",\"Real Estate Investment Trusts\"],[\"TIER REIT INC\",\"Real Estate Investment Trusts\"],[\"GRANITE POINT MORTGAGE TRUST INC.\",\"Real Estate Investment Trusts\"],[\"GREAT AJAX CORP.\",\"Real Estate Investment Trusts\"],[\"DUKE REALTY CORP\",\"Real Estate Investment Trusts\"],[\"EASTGROUP PROPERTIES INC\",\"Real Estate Investment Trusts\"],[\"STEADFAST APARTMENT REIT, INC.\",\"Real Estate Investment Trusts\"],[\"RECKSON OPERATING PARTNERSHIP LP\",\"Real Estate Investment Trusts\"],[\"GLOBAL NET LEASE, INC.\",\"Real Estate Investment Trusts\"],[\"KBS STRATEGIC OPPORTUNITY REIT, INC.\",\"Real Estate Investment Trusts\"],[\"WHITESTONE REIT\",\"Real Estate Investment Trusts\"],[\"GRIFFIN CAPITAL ESSENTIAL ASSET REIT II, INC.\",\"Real Estate Investment Trusts\"],[\"UDR, INC.\",\"Real Estate Investment Trusts\"],[\"COMMUNITY HEALTHCARE TRUST INC\",\"Real Estate Investment Trusts\"],[\"VENTAS INC\",\"Real Estate Investment Trusts\"],[\"OWENS REALTY MORTGAGE, INC.\",\"Real Estate Investment Trusts\"],[\"KILROY REALTY CORP\",\"Real Estate Investment Trusts\"],[\"SUMMIT HOTEL PROPERTIES, INC.\",\"Real Estate Investment Trusts\"],[\"CORPORATE PROPERTY ASSOCIATES 18 GLOBAL INC\",\"Real Estate Investment Trusts\"],[\"CYRUSONE INC.\",\"Real Estate Investment Trusts\"],[\"COLONY NORTHSTAR, INC.\",\"Real Estate Investment Trusts\"],[\"FEDERAL REALTY INVESTMENT TRUST\",\"Real Estate Investment Trusts\"],[\"NEW SENIOR INVESTMENT GROUP INC.\",\"Real Estate Investment Trusts\"],[\"RYMAN HOSPITALITY PROPERTIES, INC.\",\"Real Estate Investment Trusts\"],[\"BRIXMOR PROPERTY GROUP INC.\",\"Real Estate Investment Trusts\"],[\"COLE OFFICE & INDUSTRIAL REIT (CCIT II), INC.\",\"Real Estate Investment Trusts\"],[\"OMEGA HEALTHCARE INVESTORS INC\",\"Real Estate Investment Trusts\"],[\"REVEN HOUSING REIT, INC.\",\"Real Estate Investment Trusts\"],[\"AMERICAN REALTY CAPITAL NEW YORK CITY REIT, INC.\",\"Real Estate Investment Trusts\"],[\"STAG INDUSTRIAL, INC.\",\"Real Estate Investment Trusts\"],[\"EQUINIX INC\",\"Real Estate Investment Trusts\"]],\"hovertemplate\":\"color=Real Estate Investment Trusts<br>0=%{x}<br>1=%{y}<br>2=%{z}<br>name=%{customdata[0]}<br>industry=%{customdata[1]}<extra></extra>\",\"legendgroup\":\"Real Estate Investment Trusts\",\"marker\":{\"color\":\"#ab63fa\",\"symbol\":\"circle\"},\"mode\":\"markers\",\"name\":\"Real Estate Investment Trusts\",\"scene\":\"scene\",\"showlegend\":true,\"type\":\"scatter3d\",\"x\":[-4.418213844299316,-6.2507147789001465,-6.442216873168945,-3.6182444095611572,-3.5806710720062256,-4.636161804199219,-4.180598735809326,-2.4468648433685303,-5.615058898925781,-3.960747480392456,-6.52202033996582,-8.235898971557617,-5.173506259918213,-3.795701503753662,-4.234597206115723,-4.056482315063477,-5.365046501159668,-6.517790794372559,-3.5913002490997314,-4.846604347229004,-3.991870641708374,-3.2198264598846436,-1.8715392351150513,-2.3444900512695312,-1.95724618434906,-3.6655359268188477,-6.544082164764404,-8.998675346374512,-1.8417726755142212,-6.684086322784424,-3.9017386436462402,-5.118752479553223,-3.059934139251709,-3.7935807704925537,-1.5566620826721191,-6.208493232727051,-3.3779468536376953,-3.503615617752075,-0.7422289848327637,-4.707883358001709,-6.184938907623291,-6.944693565368652,-0.1251574605703354,-3.5769143104553223,-7.086497783660889,-2.5217981338500977,-0.7392352223396301,-4.605696201324463,-6.130697250366211,-3.243748188018799,-8.905488014221191,-3.43949031829834,-8.18398666381836,-0.6251664161682129,-3.282891035079956,-2.8140487670898438,-5.10439920425415,-7.184992790222168,-6.11944580078125,-6.356757640838623,-3.876986026763916,-2.7084834575653076,-7.623188018798828,-3.9946820735931396,-1.2595833539962769,-2.3520939350128174,-4.236505031585693,-4.343327522277832,-6.62170934677124,-0.6318846940994263,-2.874089002609253,-2.968914270401001,-3.130309581756592,-3.8711533546447754,-0.026699962094426155,-4.001837253570557,-4.094397068023682,-4.833277225494385,-4.732752799987793,-0.565677285194397,-5.091195106506348,-5.636305332183838,-4.244269371032715,-2.137192964553833,-6.108635902404785,-6.531883716583252,-4.271141052246094,-2.2161178588867188,-4.5273518562316895,-6.325754642486572,-4.349332332611084,-0.6441056728363037,-4.361779689788818,-7.203854560852051,-6.99284029006958,-4.358200550079346,-4.555442810058594,-2.1336686611175537,-6.839933395385742,-5.039207935333252,-5.785789966583252,-2.2984561920166016,-3.5227725505828857,-4.640918254852295,-3.7235097885131836,-5.638176918029785,-1.9785250425338745,-2.8845441341400146,-3.5964717864990234,-3.8901383876800537,-3.5340797901153564,-1.1472495794296265,-4.038751602172852,-0.9184296727180481,-1.1670992374420166,-3.3227462768554688,-4.005660057067871,-1.157848834991455,-2.738193988800049,-3.5240085124969482,-0.7751365900039673,-5.786606788635254,-3.9886696338653564,-1.2447073459625244,-4.654119968414307,-5.155158042907715,-7.962436676025391,-8.625781059265137,-8.756349563598633,-11.089776039123535,-5.400699138641357,-2.1899707317352295,-3.3677592277526855,-6.612330436706543,-3.336252212524414,-3.627603769302368,-4.585480213165283,-2.3660082817077637,-7.266115665435791,-5.470718860626221,-2.1257874965667725,-6.232250690460205,-2.0910894870758057,-7.996330738067627,-8.516854286193848,-4.484771728515625,-1.6719112396240234,-5.373473167419434,-2.427081346511841,-2.8440585136413574,-2.7665700912475586,-1.8364924192428589,-1.8288401365280151,-3.452773332595825,-3.8802809715270996,-1.048771858215332,-5.6746506690979,-3.959838628768921,-5.809529781341553,-6.5045671463012695,-6.513242721557617,-3.338651657104492,-5.589500904083252,-6.062911510467529,-0.9378446936607361,-6.084886074066162,-3.587599992752075,-0.925884485244751,-1.450478434562683,-2.0046920776367188,-1.8522394895553589,-4.0753583908081055,-3.311751365661621,-1.4155021905899048,-2.220163106918335,-5.681882858276367,-4.378879547119141,-5.279357433319092,-1.6681307554244995,-4.510183334350586,-2.681751012802124,-2.646820068359375,-3.1065666675567627,-6.155986309051514,-3.89176344871521,-6.085372447967529,-4.276360511779785,-7.911825180053711,-3.3482048511505127,-3.277874708175659,-5.094273090362549],\"y\":[0.06164701282978058,-0.10599028319120407,1.814867377281189,-1.1179767847061157,-0.9508972764015198,2.1640982627868652,2.240579843521118,0.4543752074241638,2.640942096710205,3.734924793243408,1.1132827997207642,1.6392790079116821,2.7756409645080566,3.028104543685913,0.7537747025489807,1.6563774347305298,-3.1586174964904785,4.371387004852295,2.78475022315979,6.146302223205566,5.382441520690918,5.516754627227783,2.1779885292053223,-1.2761666774749756,2.496493101119995,4.170578956604004,-2.7905731201171875,4.470027446746826,1.3652220964431763,2.3924522399902344,1.9687708616256714,0.9156874418258667,3.368133068084717,0.8793304562568665,3.9865732192993164,3.7379753589630127,1.8941630125045776,3.1128652095794678,2.80322265625,6.1872429847717285,0.5816662311553955,2.2717394828796387,0.3528806269168854,0.5103223919868469,5.609936714172363,0.1675703525543213,0.033591561019420624,-0.7503286600112915,4.909090518951416,4.120817184448242,-7.065771102905273,2.8730759620666504,-3.264824867248535,-0.09104225784540176,2.1283011436462402,3.002861499786377,5.851630687713623,8.045251846313477,9.880810737609863,6.38026237487793,1.9118518829345703,1.1020196676254272,-6.246862888336182,6.6049580574035645,0.7001254558563232,3.8618123531341553,-2.9092094898223877,-2.5571300983428955,7.984724044799805,-0.08566109836101532,0.679513692855835,2.4769272804260254,-2.4382834434509277,0.8158950805664062,0.4456043541431427,2.8693628311157227,-0.5180689096450806,-0.35291796922683716,7.421706199645996,-0.060640327632427216,2.6930675506591797,3.733734369277954,1.6064759492874146,3.809870958328247,7.16152811050415,7.240516185760498,1.6885582208633423,0.4941650927066803,2.9533181190490723,5.832708358764648,-2.7543084621429443,-0.07876583188772202,3.185580015182495,-2.9444360733032227,8.009483337402344,7.284325122833252,2.289410352706909,1.6721822023391724,3.928611993789673,4.95416784286499,1.1379703283309937,2.702036142349243,-0.9878876805305481,6.048977851867676,4.0998945236206055,0.648356556892395,-0.05690173804759979,2.067791700363159,4.946186065673828,-0.688687264919281,2.1185226440429688,2.2429087162017822,0.5832720398902893,2.6944806575775146,0.2827906310558319,1.5373656749725342,3.268258571624756,-0.5083198547363281,2.3528754711151123,2.127800703048706,0.06460240483283997,1.7007759809494019,2.7321624755859375,-0.22590400278568268,1.2203421592712402,2.3611831665039062,4.452352046966553,-2.4407689571380615,2.714146852493286,5.637230396270752,2.0419647693634033,0.6599647402763367,-0.09000511467456818,4.789183616638184,0.18144237995147705,4.115466594696045,0.6716916561126709,1.0924724340438843,-2.328371286392212,5.600884437561035,1.6233075857162476,1.6037951707839966,1.3172714710235596,-2.700465202331543,8.014779090881348,4.801371097564697,1.374951720237732,-3.270158290863037,0.8888993859291077,2.1131680011749268,1.0665642023086548,1.8717745542526245,0.615803062915802,1.7778862714767456,2.0747225284576416,0.13868935406208038,2.424757242202759,-2.1109561920166016,3.9162023067474365,-3.021209716796875,5.349883556365967,-0.024082032963633537,-1.7090423107147217,-0.33835649490356445,1.7014257907867432,0.5492904782295227,2.091693878173828,0.5376237630844116,1.5443840026855469,0.8167442083358765,2.7864739894866943,3.3801426887512207,2.8731491565704346,0.09007322788238525,-0.1209346204996109,-4.498281478881836,6.430974960327148,4.315982818603516,0.14111971855163574,6.188653945922852,-0.8221544623374939,1.3979477882385254,-0.39611294865608215,4.814331531524658,1.6903241872787476,1.3735252618789673,1.5727856159210205,0.9738763570785522,0.7739881277084351,2.72717547416687,3.2012767791748047],\"z\":[-1.0086336135864258,-1.2189170122146606,0.9987950325012207,-1.0044562816619873,-1.194885492324829,-0.010650482028722763,0.629067063331604,1.2981115579605103,2.7353925704956055,1.4828821420669556,2.986046075820923,1.9764188528060913,2.100933313369751,2.5132369995117188,0.01133993174880743,-0.19286954402923584,0.38859546184539795,1.9733552932739258,1.4473414421081543,-0.03718698397278786,7.5901713371276855,3.5140295028686523,0.3117693066596985,-0.5050927400588989,1.538217544555664,4.446591854095459,-4.018245220184326,-0.8096089363098145,0.7032767534255981,1.4628853797912598,0.7026606798171997,4.588958740234375,1.6153160333633423,4.4592413902282715,2.7087485790252686,0.27835556864738464,2.797398328781128,1.5510128736495972,6.7649126052856445,4.182672023773193,0.08351565897464752,5.768205165863037,2.414088487625122,-0.4579601287841797,-0.12198560684919357,0.6710540056228638,-0.43719664216041565,1.6722525358200073,6.55631685256958,-0.008730215951800346,2.3075196743011475,0.9863161444664001,-0.2969190180301666,-0.5133405923843384,-0.007882394827902317,-0.38300347328186035,3.8300061225891113,-2.1703851222991943,4.484963417053223,0.8668442964553833,-0.8276018500328064,2.9426040649414062,1.0642284154891968,8.047718048095703,-0.1354411244392395,5.633975505828857,1.3186469078063965,2.1651856899261475,4.818439960479736,-0.4640035927295685,0.7691300511360168,2.950310230255127,1.1942884922027588,1.701047420501709,3.054530382156372,4.8549580574035645,-0.9800516963005066,0.4154965281486511,2.0708653926849365,-0.42271167039871216,3.005986452102661,0.6409573554992676,0.18836644291877747,4.852515697479248,4.056155681610107,2.4451260566711426,-2.0420305728912354,1.6132965087890625,3.8916525840759277,-0.49639883637428284,1.248164176940918,-0.48310941457748413,3.2170774936676025,-0.27488306164741516,6.600549221038818,-0.7936971783638,2.2179853916168213,2.7964789867401123,2.9618921279907227,2.636068105697632,1.2724502086639404,0.6401552557945251,0.2787672281265259,0.08097779750823975,2.0897200107574463,0.1648772805929184,1.7107752561569214,3.3535585403442383,3.1893081665039062,2.4288718700408936,2.7965126037597656,0.7196709513664246,1.9411646127700806,5.114873886108398,-1.1675413846969604,1.8227356672286987,1.992767333984375,-0.8297351002693176,1.6547355651855469,-0.32589298486709595,-0.24114106595516205,0.4226326644420624,2.63055682182312,-0.2791004478931427,1.331365704536438,0.14394523203372955,-1.6889764070510864,2.006237506866455,6.580699920654297,7.236681938171387,5.275498390197754,0.06406024098396301,0.5313470363616943,0.6135975122451782,1.1759331226348877,1.0168122053146362,2.5987672805786133,0.1307537704706192,-2.2602665424346924,7.368268013000488,0.35179299116134644,-0.8132871389389038,3.6402297019958496,0.3531615734100342,1.1595255136489868,3.1358132362365723,0.992595911026001,1.0105173587799072,-0.0032729515805840492,-0.7249079942703247,-1.0520200729370117,0.9115844368934631,0.03925622999668121,2.3137824535369873,0.30571258068084717,-0.5522137880325317,-0.3144032061100006,0.19314272701740265,1.723508596420288,0.4178730249404907,2.448751449584961,0.1772627830505371,-0.08066533505916595,0.6092692613601685,1.321903109550476,-0.31224068999290466,1.706315517425537,0.1602226346731186,-0.1227751225233078,-0.8255909085273743,0.909356951713562,-0.5885457396507263,2.2019174098968506,2.732330083847046,1.605019211769104,-0.6459811329841614,0.9491264224052429,1.6817197799682617,-0.5186522603034973,6.6662726402282715,2.1326494216918945,0.24094705283641815,3.506519317626953,6.452579021453857,3.1505987644195557,-0.8273548483848572,-2.2594900131225586,5.194644927978516,-0.6918967962265015,0.6939653754234314,13.568694114685059]},{\"customdata\":[[\"TOMPKINS FINANCIAL CORP\",\"State Commercial Banks (commercial banking)\"],[\"TRIUMPH BANCORP, INC.\",\"State Commercial Banks (commercial banking)\"],[\"GREAT SOUTHERN BANCORP, INC.\",\"State Commercial Banks (commercial banking)\"],[\"SOUTH STATE CORP\",\"State Commercial Banks (commercial banking)\"],[\"OLD LINE BANCSHARES INC\",\"State Commercial Banks (commercial banking)\"],[\"SEACOAST BANKING CORP OF FLORIDA\",\"State Commercial Banks (commercial banking)\"],[\"CITIZENS FINANCIAL GROUP INC/RI\",\"State Commercial Banks (commercial banking)\"],[\"COMMUNITY WEST BANCSHARES /\",\"State Commercial Banks (commercial banking)\"],[\"MACKINAC FINANCIAL CORP /MI/\",\"State Commercial Banks (commercial banking)\"],[\"UNITY BANCORP INC /NJ/\",\"State Commercial Banks (commercial banking)\"],[\"UNITY BANCORP INC /NJ/\",\"State Commercial Banks (commercial banking)\"],[\"EAST WEST BANCORP INC\",\"State Commercial Banks (commercial banking)\"],[\"HEARTLAND FINANCIAL USA INC\",\"State Commercial Banks (commercial banking)\"],[\"COUNTY BANCORP, INC.\",\"State Commercial Banks (commercial banking)\"],[\"CHEMUNG FINANCIAL CORP\",\"State Commercial Banks (commercial banking)\"],[\"BRYN MAWR BANK CORP\",\"State Commercial Banks (commercial banking)\"],[\"EAGLE BANCORP MONTANA, INC.\",\"State Commercial Banks (commercial banking)\"],[\"1ST SOURCE CORP\",\"State Commercial Banks (commercial banking)\"],[\"SERVISFIRST BANCSHARES, INC.\",\"State Commercial Banks (commercial banking)\"],[\"SIERRA BANCORP\",\"State Commercial Banks (commercial banking)\"],[\"HOPFED BANCORP INC\",\"State Commercial Banks (commercial banking)\"],[\"HOPFED BANCORP INC\",\"State Commercial Banks (commercial banking)\"],[\"FIRST FINANCIAL BANKSHARES INC\",\"State Commercial Banks (commercial banking)\"],[\"CHEMICAL FINANCIAL CORP\",\"State Commercial Banks (commercial banking)\"],[\"SECURITY FEDERAL CORP\",\"State Commercial Banks (commercial banking)\"],[\"FIRST FINANCIAL CORP /IN/\",\"State Commercial Banks (commercial banking)\"],[\"WESTERN ALLIANCE BANCORPORATION\",\"State Commercial Banks (commercial banking)\"],[\"TRISTATE CAPITAL HOLDINGS, INC.\",\"State Commercial Banks (commercial banking)\"],[\"UNION BANKSHARES CORP\",\"State Commercial Banks (commercial banking)\"],[\"CAROLINA TRUST BANCSHARES, INC.\",\"State Commercial Banks (commercial banking)\"],[\"COMMUNITY TRUST BANCORP INC /KY/\",\"State Commercial Banks (commercial banking)\"],[\"HILLS BANCORPORATION\",\"State Commercial Banks (commercial banking)\"],[\"MACATAWA BANK CORP\",\"State Commercial Banks (commercial banking)\"],[\"PREMIER FINANCIAL BANCORP INC\",\"State Commercial Banks (commercial banking)\"],[\"KENTUCKY BANCSHARES INC /KY/\",\"State Commercial Banks (commercial banking)\"],[\"RIVER FINANCIAL CORP\",\"State Commercial Banks (commercial banking)\"],[\"BAR HARBOR BANKSHARES\",\"State Commercial Banks (commercial banking)\"],[\"PARKE BANCORP, INC.\",\"State Commercial Banks (commercial banking)\"],[\"RANDOLPH BANCORP, INC.\",\"State Commercial Banks (commercial banking)\"],[\"BANK OF HAWAII CORP\",\"State Commercial Banks (commercial banking)\"],[\"BSB BANCORP, INC.\",\"State Commercial Banks (commercial banking)\"],[\"INDEPENDENT BANK CORP /MI/\",\"State Commercial Banks (commercial banking)\"],[\"PACIFIC PREMIER BANCORP INC\",\"State Commercial Banks (commercial banking)\"],[\"OHIO VALLEY BANC CORP\",\"State Commercial Banks (commercial banking)\"],[\"CVB FINANCIAL CORP\",\"State Commercial Banks (commercial banking)\"],[\"BANK OF NEW YORK MELLON CORP\",\"State Commercial Banks (commercial banking)\"],[\"TWO RIVER BANCORP\",\"State Commercial Banks (commercial banking)\"],[\"STEWARDSHIP FINANCIAL CORP\",\"State Commercial Banks (commercial banking)\"],[\"LAKELAND FINANCIAL CORP\",\"State Commercial Banks (commercial banking)\"],[\"FAUQUIER BANKSHARES, INC.\",\"State Commercial Banks (commercial banking)\"],[\"LIVE OAK BANCSHARES, INC.\",\"State Commercial Banks (commercial banking)\"],[\"M&T BANK CORP\",\"State Commercial Banks (commercial banking)\"],[\"INTERNATIONAL BANCSHARES CORP\",\"State Commercial Banks (commercial banking)\"],[\"SUMMIT FINANCIAL GROUP INC\",\"State Commercial Banks (commercial banking)\"],[\"SUSSEX BANCORP\",\"State Commercial Banks (commercial banking)\"],[\"PRIME MERIDIAN HOLDING CO\",\"State Commercial Banks (commercial banking)\"],[\"BANKWELL FINANCIAL GROUP, INC.\",\"State Commercial Banks (commercial banking)\"],[\"SOUTHWEST GEORGIA FINANCIAL CORP\",\"State Commercial Banks (commercial banking)\"],[\"BANK OF COMMERCE HOLDINGS\",\"State Commercial Banks (commercial banking)\"],[\"BANK OF COMMERCE HOLDINGS\",\"State Commercial Banks (commercial banking)\"],[\"UNITED BANCORP INC /OH/\",\"State Commercial Banks (commercial banking)\"],[\"PARKWAY ACQUISITION CORP.\",\"State Commercial Banks (commercial banking)\"],[\"INVESTAR HOLDING CORP\",\"State Commercial Banks (commercial banking)\"],[\"RENASANT CORP\",\"State Commercial Banks (commercial banking)\"],[\"RELIANT BANCORP, INC.\",\"State Commercial Banks (commercial banking)\"],[\"FIRST COMMUNITY CORP /SC/\",\"State Commercial Banks (commercial banking)\"],[\"FIRST FINANCIAL NORTHWEST, INC.\",\"State Commercial Banks (commercial banking)\"],[\"COMMERCE BANCSHARES INC /MO/\",\"State Commercial Banks (commercial banking)\"],[\"JUNIATA VALLEY FINANCIAL CORP\",\"State Commercial Banks (commercial banking)\"],[\"HOWARD BANCORP INC\",\"State Commercial Banks (commercial banking)\"],[\"EAGLE FINANCIAL SERVICES INC\",\"State Commercial Banks (commercial banking)\"],[\"MVB FINANCIAL CORP\",\"State Commercial Banks (commercial banking)\"],[\"INDEPENDENT BANK GROUP, INC.\",\"State Commercial Banks (commercial banking)\"],[\"CONNECTONE BANCORP, INC.\",\"State Commercial Banks (commercial banking)\"],[\"REPUBLIC BANCORP INC /KY/\",\"State Commercial Banks (commercial banking)\"],[\"SOUTHSIDE BANCSHARES INC\",\"State Commercial Banks (commercial banking)\"],[\"FIRST HAWAIIAN, INC.\",\"State Commercial Banks (commercial banking)\"],[\"FIRST US BANCSHARES INC\",\"State Commercial Banks (commercial banking)\"],[\"COMMUNITY FINANCIAL CORP /MD/\",\"State Commercial Banks (commercial banking)\"],[\"BANNER CORP\",\"State Commercial Banks (commercial banking)\"],[\"SVB FINANCIAL GROUP\",\"State Commercial Banks (commercial banking)\"],[\"CATHAY GENERAL BANCORP\",\"State Commercial Banks (commercial banking)\"],[\"BANK OF THE JAMES FINANCIAL GROUP INC\",\"State Commercial Banks (commercial banking)\"],[\"FLUSHING FINANCIAL CORP\",\"State Commercial Banks (commercial banking)\"],[\"FRANKLIN FINANCIAL SERVICES CORP /PA/\",\"State Commercial Banks (commercial banking)\"],[\"CENTRAL PACIFIC FINANCIAL CORP\",\"State Commercial Banks (commercial banking)\"],[\"CENTRAL PACIFIC FINANCIAL CORP\",\"State Commercial Banks (commercial banking)\"],[\"CENTRAL VALLEY COMMUNITY BANCORP\",\"State Commercial Banks (commercial banking)\"],[\"F&M BANK CORP\",\"State Commercial Banks (commercial banking)\"],[\"FARMERS NATIONAL BANC CORP /OH/\",\"State Commercial Banks (commercial banking)\"],[\"CITIZENS & NORTHERN CORP\",\"State Commercial Banks (commercial banking)\"],[\"GUARANTY FEDERAL BANCSHARES INC\",\"State Commercial Banks (commercial banking)\"],[\"CAROLINA FINANCIAL CORP\",\"State Commercial Banks (commercial banking)\"],[\"FIRST INTERNET BANCORP\",\"State Commercial Banks (commercial banking)\"],[\"HARBORONE BANCORP, INC.\",\"State Commercial Banks (commercial banking)\"],[\"UNITED BANKSHARES INC/WV\",\"State Commercial Banks (commercial banking)\"],[\"INDEPENDENT BANK CORP\",\"State Commercial Banks (commercial banking)\"],[\"CITIZENS FINANCIAL SERVICES INC\",\"State Commercial Banks (commercial banking)\"],[\"NORWOOD FINANCIAL CORP\",\"State Commercial Banks (commercial banking)\"],[\"WEST BANCORPORATION INC\",\"State Commercial Banks (commercial banking)\"],[\"CUSTOMERS BANCORP, INC.\",\"State Commercial Banks (commercial banking)\"],[\"WEST END INDIANA BANCSHARES, INC.\",\"State Commercial Banks (commercial banking)\"],[\"ATLANTIC CAPITAL BANCSHARES, INC.\",\"State Commercial Banks (commercial banking)\"],[\"IBERIABANK CORP\",\"State Commercial Banks (commercial banking)\"],[\"MERCANTILE BANK CORP\",\"State Commercial Banks (commercial banking)\"],[\"GERMAN AMERICAN BANCORP, INC.\",\"State Commercial Banks (commercial banking)\"],[\"S&T BANCORP INC\",\"State Commercial Banks (commercial banking)\"],[\"HILLTOP HOLDINGS INC.\",\"State Commercial Banks (commercial banking)\"],[\"CB FINANCIAL SERVICES, INC.\",\"State Commercial Banks (commercial banking)\"],[\"ENTERPRISE FINANCIAL SERVICES CORP\",\"State Commercial Banks (commercial banking)\"],[\"AUBURN NATIONAL BANCORPORATION, INC\",\"State Commercial Banks (commercial banking)\"],[\"FIRST KEYSTONE CORP\",\"State Commercial Banks (commercial banking)\"],[\"TEXAS CAPITAL BANCSHARES INC/TX\",\"State Commercial Banks (commercial banking)\"],[\"VILLAGE BANK & TRUST FINANCIAL CORP.\",\"State Commercial Banks (commercial banking)\"],[\"STOCK YARDS BANCORP, INC.\",\"State Commercial Banks (commercial banking)\"],[\"BUSINESS FIRST BANCSHARES, INC.\",\"State Commercial Banks (commercial banking)\"]],\"hovertemplate\":\"color=State Commercial Banks (commercial banking)<br>0=%{x}<br>1=%{y}<br>2=%{z}<br>name=%{customdata[0]}<br>industry=%{customdata[1]}<extra></extra>\",\"legendgroup\":\"State Commercial Banks (commercial banking)\",\"marker\":{\"color\":\"#FFA15A\",\"symbol\":\"circle\"},\"mode\":\"markers\",\"name\":\"State Commercial Banks (commercial banking)\",\"scene\":\"scene\",\"showlegend\":true,\"type\":\"scatter3d\",\"x\":[-9.922101020812988,-9.573174476623535,-9.769951820373535,-6.924809455871582,-10.10591983795166,-8.261337280273438,-7.698666095733643,-2.2440803050994873,-8.789135932922363,-5.375948429107666,-5.102728843688965,-2.59745717048645,-8.467405319213867,-7.288674831390381,-9.43602466583252,-8.074627876281738,-9.042350769042969,-8.018282890319824,-9.134079933166504,-7.385638236999512,-6.234443664550781,-6.392495632171631,-6.86307430267334,-8.288202285766602,-10.615164756774902,-9.143614768981934,-6.524454116821289,-7.4999003410339355,-8.32937240600586,-7.678438663482666,-2.9299230575561523,-6.7480549812316895,-8.120282173156738,-8.04750919342041,-4.9113450050354,-8.6389741897583,-10.55810260772705,-7.587321758270264,-8.013669967651367,-3.82120418548584,-11.38637638092041,-1.9702045917510986,-9.409101486206055,-8.646315574645996,-7.775784015655518,-2.8939247131347656,-6.984001636505127,-5.48811674118042,-6.163832187652588,-5.043990135192871,-6.32961368560791,-6.0403828620910645,-6.368162155151367,-5.29899787902832,-5.9516119956970215,-6.723289966583252,-7.661549091339111,-9.603863716125488,-5.95241641998291,-6.628983974456787,-7.062256336212158,-5.722296237945557,-7.48266077041626,-9.14582347869873,-6.822052001953125,-7.782516956329346,-10.613158226013184,-5.090188503265381,-7.207305431365967,-8.482499122619629,-6.093738555908203,-6.851269245147705,-6.495952129364014,-5.134854316711426,-7.421225547790527,-7.3874406814575195,-5.281259059906006,-6.175205230712891,-9.751343727111816,-0.7245026230812073,-6.152144908905029,-8.232903480529785,-8.905898094177246,-10.962031364440918,-6.550893783569336,-6.7033514976501465,-7.208977699279785,-8.279884338378906,-1.2011051177978516,-7.982255935668945,-2.446488857269287,-10.54407787322998,-8.596308708190918,-6.101430416107178,-8.485917091369629,-7.86845064163208,-8.169572830200195,-5.976620197296143,-8.870869636535645,-7.432313919067383,-6.706603050231934,-9.753190040588379,-5.987026691436768,-6.226128101348877,-5.446717739105225,-6.099706172943115,-0.9810853600502014,-8.183355331420898,-9.443110466003418,-0.7759020924568176,-6.046034812927246,-7.163840293884277,-6.487025260925293,-6.545445919036865,-3.6449153423309326,-9.587279319763184],\"y\":[-10.571243286132812,-7.36544132232666,-10.001727104187012,-10.808704376220703,-8.976099967956543,-9.656534194946289,-11.280021667480469,-2.429680109024048,-6.851551532745361,-5.781810283660889,-5.787578582763672,0.4404028356075287,-9.04615306854248,-9.789693832397461,-9.161771774291992,-7.0148820877075195,-5.628267765045166,-3.1541402339935303,-10.655447959899902,-7.55517053604126,-6.279070854187012,-6.161240100860596,-7.419815540313721,-7.261167526245117,-9.127479553222656,-7.90377140045166,-6.06546688079834,-8.965400695800781,-8.227659225463867,-9.096161842346191,-2.9859602451324463,-7.858193397521973,-7.235063076019287,-5.553759574890137,-3.9287502765655518,-6.936275482177734,-9.140700340270996,-7.429131031036377,-10.69475269317627,-6.441006183624268,-12.08367919921875,-0.9288599491119385,-7.874506950378418,-8.268266677856445,-6.902169704437256,-1.595133662223816,-6.48789119720459,-4.516453742980957,-6.207254409790039,-5.24119234085083,-8.936001777648926,-12.401762962341309,-10.457679748535156,-8.749070167541504,-8.231294631958008,-7.892453193664551,-9.31178092956543,-9.38525390625,-6.172669410705566,-6.777664661407471,-6.54524040222168,-6.444930553436279,-8.915665626525879,-9.029732704162598,-7.718489646911621,-9.793611526489258,-6.514051914215088,-5.811707973480225,-9.598945617675781,-5.286278247833252,-9.58203411102295,-10.258051872253418,-8.679965019226074,-9.812970161437988,-12.31432056427002,-10.781925201416016,-9.764669418334961,-6.912957668304443,-10.498262405395508,-0.09982576966285706,-8.656960487365723,-9.834933280944824,-8.230241775512695,-10.741482734680176,-7.791924476623535,-8.48412799835205,-8.82501220703125,-8.285174369812012,-0.6809922456741333,-7.525976181030273,-2.4048895835876465,-10.254911422729492,-8.643427848815918,-6.527822494506836,-10.525653839111328,-8.94309139251709,-7.489603042602539,-6.0703959465026855,-7.467512130737305,-8.086833953857422,-8.948519706726074,-8.880634307861328,-7.60541296005249,-6.340437889099121,-5.282789707183838,-7.037472724914551,-0.8246417045593262,-6.9778361320495605,-9.576835632324219,-0.6207932829856873,-10.321125030517578,-8.417257308959961,-8.536805152893066,-9.52799129486084,-4.362508773803711,-10.386360168457031],\"z\":[-5.055527210235596,-3.9429659843444824,-6.398110389709473,-3.879812002182007,-4.219850063323975,-3.1664164066314697,-2.49021053314209,-0.9769105315208435,-2.983793258666992,-4.4556884765625,-4.165903568267822,-2.317627191543579,-3.041473627090454,-4.700870037078857,-4.137521266937256,-3.689213991165161,-4.569309234619141,0.15376141667366028,-3.6977286338806152,-2.9777660369873047,-3.6800410747528076,-4.545168876647949,-3.0539660453796387,-3.5927934646606445,-5.741455078125,-3.087390899658203,-1.0868213176727295,0.5939469337463379,-2.6493611335754395,-5.153247833251953,-1.1839414834976196,-4.57964563369751,-4.249628067016602,-2.8232247829437256,-3.391909122467041,-3.8511900901794434,-3.28912091255188,-5.524497985839844,-5.1378889083862305,-2.1964118480682373,-4.805487155914307,-0.7794298529624939,-3.7110238075256348,-4.637099266052246,-3.6328632831573486,-0.5196637511253357,-2.466540813446045,-2.395519495010376,-4.1464972496032715,-2.9403574466705322,-2.6250667572021484,-3.1647965908050537,-3.645052909851074,-2.326054334640503,-3.8793447017669678,-1.2653685808181763,-1.4878778457641602,-4.723072052001953,-1.3732892274856567,-1.7658480405807495,-3.970496654510498,-3.6840734481811523,-2.6528549194335938,-2.9479687213897705,-2.8580312728881836,-3.1877167224884033,-3.140643835067749,-2.02307391166687,-4.265110969543457,-1.3654967546463013,-3.281757354736328,-4.118302822113037,-4.999546051025391,-2.035458564758301,-1.4993587732315063,-3.3599350452423096,-3.4240431785583496,-2.0796000957489014,-6.410454273223877,-0.5131697058677673,-2.228236675262451,-3.177910566329956,-3.000363349914551,-4.048413276672363,-3.0838236808776855,-3.1970326900482178,-3.2024025917053223,-2.9326627254486084,-0.6162451505661011,-4.779947757720947,-0.9501152634620667,-7.113664150238037,-4.863897323608398,0.12847401201725006,-4.495404243469238,-1.652975082397461,-0.6118536591529846,-4.287726879119873,-5.984015941619873,-4.034587383270264,-0.4562673270702362,-3.6766343116760254,-1.6689651012420654,-4.059810161590576,-1.9732484817504883,-4.109647274017334,-0.5370668172836304,-4.043631553649902,-6.024600982666016,-1.0383516550064087,-4.103518009185791,-4.516899585723877,-3.823021411895752,-1.351652979850769,-2.0057878494262695,-2.8608968257904053]}],                        {\"height\":700,\"legend\":{\"title\":{\"text\":\"color\"},\"tracegroupgap\":0},\"margin\":{\"t\":60},\"scene\":{\"domain\":{\"x\":[0.0,1.0],\"y\":[0.0,1.0]},\"xaxis\":{\"title\":{\"text\":\"0\"}},\"yaxis\":{\"title\":{\"text\":\"1\"}},\"zaxis\":{\"title\":{\"text\":\"2\"}}},\"template\":{\"data\":{\"bar\":[{\"error_x\":{\"color\":\"#2a3f5f\"},\"error_y\":{\"color\":\"#2a3f5f\"},\"marker\":{\"line\":{\"color\":\"#E5ECF6\",\"width\":0.5},\"pattern\":{\"fillmode\":\"overlay\",\"size\":10,\"solidity\":0.2}},\"type\":\"bar\"}],\"barpolar\":[{\"marker\":{\"line\":{\"color\":\"#E5ECF6\",\"width\":0.5},\"pattern\":{\"fillmode\":\"overlay\",\"size\":10,\"solidity\":0.2}},\"type\":\"barpolar\"}],\"carpet\":[{\"aaxis\":{\"endlinecolor\":\"#2a3f5f\",\"gridcolor\":\"white\",\"linecolor\":\"white\",\"minorgridcolor\":\"white\",\"startlinecolor\":\"#2a3f5f\"},\"baxis\":{\"endlinecolor\":\"#2a3f5f\",\"gridcolor\":\"white\",\"linecolor\":\"white\",\"minorgridcolor\":\"white\",\"startlinecolor\":\"#2a3f5f\"},\"type\":\"carpet\"}],\"choropleth\":[{\"colorbar\":{\"outlinewidth\":0,\"ticks\":\"\"},\"type\":\"choropleth\"}],\"contour\":[{\"colorbar\":{\"outlinewidth\":0,\"ticks\":\"\"},\"colorscale\":[[0.0,\"#0d0887\"],[0.1111111111111111,\"#46039f\"],[0.2222222222222222,\"#7201a8\"],[0.3333333333333333,\"#9c179e\"],[0.4444444444444444,\"#bd3786\"],[0.5555555555555556,\"#d8576b\"],[0.6666666666666666,\"#ed7953\"],[0.7777777777777778,\"#fb9f3a\"],[0.8888888888888888,\"#fdca26\"],[1.0,\"#f0f921\"]],\"type\":\"contour\"}],\"contourcarpet\":[{\"colorbar\":{\"outlinewidth\":0,\"ticks\":\"\"},\"type\":\"contourcarpet\"}],\"heatmap\":[{\"colorbar\":{\"outlinewidth\":0,\"ticks\":\"\"},\"colorscale\":[[0.0,\"#0d0887\"],[0.1111111111111111,\"#46039f\"],[0.2222222222222222,\"#7201a8\"],[0.3333333333333333,\"#9c179e\"],[0.4444444444444444,\"#bd3786\"],[0.5555555555555556,\"#d8576b\"],[0.6666666666666666,\"#ed7953\"],[0.7777777777777778,\"#fb9f3a\"],[0.8888888888888888,\"#fdca26\"],[1.0,\"#f0f921\"]],\"type\":\"heatmap\"}],\"heatmapgl\":[{\"colorbar\":{\"outlinewidth\":0,\"ticks\":\"\"},\"colorscale\":[[0.0,\"#0d0887\"],[0.1111111111111111,\"#46039f\"],[0.2222222222222222,\"#7201a8\"],[0.3333333333333333,\"#9c179e\"],[0.4444444444444444,\"#bd3786\"],[0.5555555555555556,\"#d8576b\"],[0.6666666666666666,\"#ed7953\"],[0.7777777777777778,\"#fb9f3a\"],[0.8888888888888888,\"#fdca26\"],[1.0,\"#f0f921\"]],\"type\":\"heatmapgl\"}],\"histogram\":[{\"marker\":{\"pattern\":{\"fillmode\":\"overlay\",\"size\":10,\"solidity\":0.2}},\"type\":\"histogram\"}],\"histogram2d\":[{\"colorbar\":{\"outlinewidth\":0,\"ticks\":\"\"},\"colorscale\":[[0.0,\"#0d0887\"],[0.1111111111111111,\"#46039f\"],[0.2222222222222222,\"#7201a8\"],[0.3333333333333333,\"#9c179e\"],[0.4444444444444444,\"#bd3786\"],[0.5555555555555556,\"#d8576b\"],[0.6666666666666666,\"#ed7953\"],[0.7777777777777778,\"#fb9f3a\"],[0.8888888888888888,\"#fdca26\"],[1.0,\"#f0f921\"]],\"type\":\"histogram2d\"}],\"histogram2dcontour\":[{\"colorbar\":{\"outlinewidth\":0,\"ticks\":\"\"},\"colorscale\":[[0.0,\"#0d0887\"],[0.1111111111111111,\"#46039f\"],[0.2222222222222222,\"#7201a8\"],[0.3333333333333333,\"#9c179e\"],[0.4444444444444444,\"#bd3786\"],[0.5555555555555556,\"#d8576b\"],[0.6666666666666666,\"#ed7953\"],[0.7777777777777778,\"#fb9f3a\"],[0.8888888888888888,\"#fdca26\"],[1.0,\"#f0f921\"]],\"type\":\"histogram2dcontour\"}],\"mesh3d\":[{\"colorbar\":{\"outlinewidth\":0,\"ticks\":\"\"},\"type\":\"mesh3d\"}],\"parcoords\":[{\"line\":{\"colorbar\":{\"outlinewidth\":0,\"ticks\":\"\"}},\"type\":\"parcoords\"}],\"pie\":[{\"automargin\":true,\"type\":\"pie\"}],\"scatter\":[{\"marker\":{\"colorbar\":{\"outlinewidth\":0,\"ticks\":\"\"}},\"type\":\"scatter\"}],\"scatter3d\":[{\"line\":{\"colorbar\":{\"outlinewidth\":0,\"ticks\":\"\"}},\"marker\":{\"colorbar\":{\"outlinewidth\":0,\"ticks\":\"\"}},\"type\":\"scatter3d\"}],\"scattercarpet\":[{\"marker\":{\"colorbar\":{\"outlinewidth\":0,\"ticks\":\"\"}},\"type\":\"scattercarpet\"}],\"scattergeo\":[{\"marker\":{\"colorbar\":{\"outlinewidth\":0,\"ticks\":\"\"}},\"type\":\"scattergeo\"}],\"scattergl\":[{\"marker\":{\"colorbar\":{\"outlinewidth\":0,\"ticks\":\"\"}},\"type\":\"scattergl\"}],\"scattermapbox\":[{\"marker\":{\"colorbar\":{\"outlinewidth\":0,\"ticks\":\"\"}},\"type\":\"scattermapbox\"}],\"scatterpolar\":[{\"marker\":{\"colorbar\":{\"outlinewidth\":0,\"ticks\":\"\"}},\"type\":\"scatterpolar\"}],\"scatterpolargl\":[{\"marker\":{\"colorbar\":{\"outlinewidth\":0,\"ticks\":\"\"}},\"type\":\"scatterpolargl\"}],\"scatterternary\":[{\"marker\":{\"colorbar\":{\"outlinewidth\":0,\"ticks\":\"\"}},\"type\":\"scatterternary\"}],\"surface\":[{\"colorbar\":{\"outlinewidth\":0,\"ticks\":\"\"},\"colorscale\":[[0.0,\"#0d0887\"],[0.1111111111111111,\"#46039f\"],[0.2222222222222222,\"#7201a8\"],[0.3333333333333333,\"#9c179e\"],[0.4444444444444444,\"#bd3786\"],[0.5555555555555556,\"#d8576b\"],[0.6666666666666666,\"#ed7953\"],[0.7777777777777778,\"#fb9f3a\"],[0.8888888888888888,\"#fdca26\"],[1.0,\"#f0f921\"]],\"type\":\"surface\"}],\"table\":[{\"cells\":{\"fill\":{\"color\":\"#EBF0F8\"},\"line\":{\"color\":\"white\"}},\"header\":{\"fill\":{\"color\":\"#C8D4E3\"},\"line\":{\"color\":\"white\"}},\"type\":\"table\"}]},\"layout\":{\"annotationdefaults\":{\"arrowcolor\":\"#2a3f5f\",\"arrowhead\":0,\"arrowwidth\":1},\"autotypenumbers\":\"strict\",\"coloraxis\":{\"colorbar\":{\"outlinewidth\":0,\"ticks\":\"\"}},\"colorscale\":{\"diverging\":[[0,\"#8e0152\"],[0.1,\"#c51b7d\"],[0.2,\"#de77ae\"],[0.3,\"#f1b6da\"],[0.4,\"#fde0ef\"],[0.5,\"#f7f7f7\"],[0.6,\"#e6f5d0\"],[0.7,\"#b8e186\"],[0.8,\"#7fbc41\"],[0.9,\"#4d9221\"],[1,\"#276419\"]],\"sequential\":[[0.0,\"#0d0887\"],[0.1111111111111111,\"#46039f\"],[0.2222222222222222,\"#7201a8\"],[0.3333333333333333,\"#9c179e\"],[0.4444444444444444,\"#bd3786\"],[0.5555555555555556,\"#d8576b\"],[0.6666666666666666,\"#ed7953\"],[0.7777777777777778,\"#fb9f3a\"],[0.8888888888888888,\"#fdca26\"],[1.0,\"#f0f921\"]],\"sequentialminus\":[[0.0,\"#0d0887\"],[0.1111111111111111,\"#46039f\"],[0.2222222222222222,\"#7201a8\"],[0.3333333333333333,\"#9c179e\"],[0.4444444444444444,\"#bd3786\"],[0.5555555555555556,\"#d8576b\"],[0.6666666666666666,\"#ed7953\"],[0.7777777777777778,\"#fb9f3a\"],[0.8888888888888888,\"#fdca26\"],[1.0,\"#f0f921\"]]},\"colorway\":[\"#636efa\",\"#EF553B\",\"#00cc96\",\"#ab63fa\",\"#FFA15A\",\"#19d3f3\",\"#FF6692\",\"#B6E880\",\"#FF97FF\",\"#FECB52\"],\"font\":{\"color\":\"#2a3f5f\"},\"geo\":{\"bgcolor\":\"white\",\"lakecolor\":\"white\",\"landcolor\":\"#E5ECF6\",\"showlakes\":true,\"showland\":true,\"subunitcolor\":\"white\"},\"hoverlabel\":{\"align\":\"left\"},\"hovermode\":\"closest\",\"mapbox\":{\"style\":\"light\"},\"paper_bgcolor\":\"white\",\"plot_bgcolor\":\"#E5ECF6\",\"polar\":{\"angularaxis\":{\"gridcolor\":\"white\",\"linecolor\":\"white\",\"ticks\":\"\"},\"bgcolor\":\"#E5ECF6\",\"radialaxis\":{\"gridcolor\":\"white\",\"linecolor\":\"white\",\"ticks\":\"\"}},\"scene\":{\"xaxis\":{\"backgroundcolor\":\"#E5ECF6\",\"gridcolor\":\"white\",\"gridwidth\":2,\"linecolor\":\"white\",\"showbackground\":true,\"ticks\":\"\",\"zerolinecolor\":\"white\"},\"yaxis\":{\"backgroundcolor\":\"#E5ECF6\",\"gridcolor\":\"white\",\"gridwidth\":2,\"linecolor\":\"white\",\"showbackground\":true,\"ticks\":\"\",\"zerolinecolor\":\"white\"},\"zaxis\":{\"backgroundcolor\":\"#E5ECF6\",\"gridcolor\":\"white\",\"gridwidth\":2,\"linecolor\":\"white\",\"showbackground\":true,\"ticks\":\"\",\"zerolinecolor\":\"white\"}},\"shapedefaults\":{\"line\":{\"color\":\"#2a3f5f\"}},\"ternary\":{\"aaxis\":{\"gridcolor\":\"white\",\"linecolor\":\"white\",\"ticks\":\"\"},\"baxis\":{\"gridcolor\":\"white\",\"linecolor\":\"white\",\"ticks\":\"\"},\"bgcolor\":\"#E5ECF6\",\"caxis\":{\"gridcolor\":\"white\",\"linecolor\":\"white\",\"ticks\":\"\"}},\"title\":{\"x\":0.05},\"xaxis\":{\"automargin\":true,\"gridcolor\":\"white\",\"linecolor\":\"white\",\"ticks\":\"\",\"title\":{\"standoff\":15},\"zerolinecolor\":\"white\",\"zerolinewidth\":2},\"yaxis\":{\"automargin\":true,\"gridcolor\":\"white\",\"linecolor\":\"white\",\"ticks\":\"\",\"title\":{\"standoff\":15},\"zerolinecolor\":\"white\",\"zerolinewidth\":2}}},\"width\":1200},                        {\"responsive\": true}                    ).then(function(){\n",
       "                            \n",
       "var gd = document.getElementById('628e2f24-780a-4519-a9f1-141974d63bd6');\n",
       "var x = new MutationObserver(function (mutations, observer) {{\n",
       "        var display = window.getComputedStyle(gd).display;\n",
       "        if (!display || display === 'none') {{\n",
       "            console.log([gd, 'removed!']);\n",
       "            Plotly.purge(gd);\n",
       "            observer.disconnect();\n",
       "        }}\n",
       "}});\n",
       "\n",
       "// Listen for the removal of the full notebook cells\n",
       "var notebookContainer = gd.closest('#notebook-container');\n",
       "if (notebookContainer) {{\n",
       "    x.observe(notebookContainer, {childList: true});\n",
       "}}\n",
       "\n",
       "// Listen for the clearing of the current output cell\n",
       "var outputEl = gd.closest('.output');\n",
       "if (outputEl) {{\n",
       "    x.observe(outputEl, {childList: true});\n",
       "}}\n",
       "\n",
       "                        })                };                });            </script>        </div>"
      ]
     },
     "metadata": {},
     "output_type": "display_data"
    }
   ],
   "source": [
    "std_func.pca_visualize_3d(plot_pca)"
   ]
  },
  {
   "cell_type": "markdown",
   "id": "0f3b7b65-bb52-4e8f-a9b9-98ff5d74d040",
   "metadata": {},
   "source": [
    "These look great! It seems doc2vec was able to create embeddings for our companies that separated them by industry very well, even after the PCA dimensionality reduction."
   ]
  }
 ],
 "metadata": {
  "kernelspec": {
   "display_name": "Python 3 (ipykernel)",
   "language": "python",
   "name": "python3"
  },
  "language_info": {
   "codemirror_mode": {
    "name": "ipython",
    "version": 3
   },
   "file_extension": ".py",
   "mimetype": "text/x-python",
   "name": "python",
   "nbconvert_exporter": "python",
   "pygments_lexer": "ipython3",
   "version": "3.9.12"
  }
 },
 "nbformat": 4,
 "nbformat_minor": 5
}

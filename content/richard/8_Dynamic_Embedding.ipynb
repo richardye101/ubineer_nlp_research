{
 "cells": [
  {
   "cell_type": "markdown",
   "id": "07436507-b3a7-49ff-86ec-bae209ae6e2d",
   "metadata": {},
   "source": [
    "# Embedding methods to augment with dynamic analysis\n",
    "\n",
    "- tf-idf (term frequency - inverse document frequency)\n",
    "- LDA (Latent Dirichlet Allocation)\n",
    "- LSA (Latent Semantic Analysis)\n",
    "- word2vec\n",
    "- doc2vec"
   ]
  },
  {
   "cell_type": "code",
   "execution_count": 1,
   "id": "976d94f9-3448-4382-8e39-2482dda4cadb",
   "metadata": {},
   "outputs": [
    {
     "data": {
      "text/html": [
       "<div>\n",
       "<style scoped>\n",
       "    .dataframe tbody tr th:only-of-type {\n",
       "        vertical-align: middle;\n",
       "    }\n",
       "\n",
       "    .dataframe tbody tr th {\n",
       "        vertical-align: top;\n",
       "    }\n",
       "\n",
       "    .dataframe thead th {\n",
       "        text-align: right;\n",
       "    }\n",
       "</style>\n",
       "<table border=\"1\" class=\"dataframe\">\n",
       "  <thead>\n",
       "    <tr style=\"text-align: right;\">\n",
       "      <th></th>\n",
       "      <th>Unnamed: 0</th>\n",
       "      <th>filingDate</th>\n",
       "      <th>reportingDate</th>\n",
       "      <th>financialEntity</th>\n",
       "      <th>coDescription</th>\n",
       "      <th>CIK</th>\n",
       "      <th>coDescription_lemmatized</th>\n",
       "      <th>coDescription_stopwords</th>\n",
       "      <th>reports</th>\n",
       "    </tr>\n",
       "  </thead>\n",
       "  <tbody>\n",
       "    <tr>\n",
       "      <th>0</th>\n",
       "      <td>0</td>\n",
       "      <td>2017-06-29 20:05:22 UTC</td>\n",
       "      <td>2017-04-01</td>\n",
       "      <td>financialEntities/params;cik=1164888</td>\n",
       "      <td>m2.properties  4 item3.legalproceedings  4 ite...</td>\n",
       "      <td>1164888</td>\n",
       "      <td>m2.properties 4 item3.legalproceedings 4 item4...</td>\n",
       "      <td>disclosure part iiitem marketfor registrant co...</td>\n",
       "      <td>3</td>\n",
       "    </tr>\n",
       "    <tr>\n",
       "      <th>1</th>\n",
       "      <td>1</td>\n",
       "      <td>2016-03-03 17:53:54 UTC</td>\n",
       "      <td>2016-02-01</td>\n",
       "      <td>financialEntities/params;cik=1637459</td>\n",
       "      <td>l kraft heinz is one of the largest food and b...</td>\n",
       "      <td>1637459</td>\n",
       "      <td>l kraft heinz is one of the largest food and b...</td>\n",
       "      <td>l kraft heinz one largest food beverage compan...</td>\n",
       "      <td>3</td>\n",
       "    </tr>\n",
       "  </tbody>\n",
       "</table>\n",
       "</div>"
      ],
      "text/plain": [
       "   Unnamed: 0               filingDate reportingDate  \\\n",
       "0           0  2017-06-29 20:05:22 UTC    2017-04-01   \n",
       "1           1  2016-03-03 17:53:54 UTC    2016-02-01   \n",
       "\n",
       "                        financialEntity  \\\n",
       "0  financialEntities/params;cik=1164888   \n",
       "1  financialEntities/params;cik=1637459   \n",
       "\n",
       "                                       coDescription      CIK  \\\n",
       "0  m2.properties  4 item3.legalproceedings  4 ite...  1164888   \n",
       "1  l kraft heinz is one of the largest food and b...  1637459   \n",
       "\n",
       "                            coDescription_lemmatized  \\\n",
       "0  m2.properties 4 item3.legalproceedings 4 item4...   \n",
       "1  l kraft heinz is one of the largest food and b...   \n",
       "\n",
       "                             coDescription_stopwords  reports  \n",
       "0  disclosure part iiitem marketfor registrant co...        3  \n",
       "1  l kraft heinz one largest food beverage compan...        3  "
      ]
     },
     "execution_count": 1,
     "metadata": {},
     "output_type": "execute_result"
    }
   ],
   "source": [
    "import os\n",
    "import json\n",
    "import pandas as pd\n",
    "import numpy as np\n",
    "import re\n",
    "import nltk\n",
    "import std_func\n",
    "\n",
    "data_t = pd.read_csv(\"data/timeseries_data.csv\")\n",
    "data =  pd.read_csv(\"data/preprocessed.csv\")\n",
    "data_t.head(2)"
   ]
  },
  {
   "cell_type": "code",
   "execution_count": 2,
   "id": "6a305e33-fe9b-4428-848d-c17266a416a5",
   "metadata": {},
   "outputs": [
    {
     "data": {
      "text/html": [
       "<div>\n",
       "<style scoped>\n",
       "    .dataframe tbody tr th:only-of-type {\n",
       "        vertical-align: middle;\n",
       "    }\n",
       "\n",
       "    .dataframe tbody tr th {\n",
       "        vertical-align: top;\n",
       "    }\n",
       "\n",
       "    .dataframe thead th {\n",
       "        text-align: right;\n",
       "    }\n",
       "</style>\n",
       "<table border=\"1\" class=\"dataframe\">\n",
       "  <thead>\n",
       "    <tr style=\"text-align: right;\">\n",
       "      <th></th>\n",
       "      <th>Unnamed: 0</th>\n",
       "      <th>accessionNumber</th>\n",
       "      <th>filingDate</th>\n",
       "      <th>reportingDate</th>\n",
       "      <th>financialEntity</th>\n",
       "      <th>htmlFile</th>\n",
       "      <th>coDescription</th>\n",
       "      <th>CIK</th>\n",
       "      <th>name</th>\n",
       "      <th>countryinc</th>\n",
       "      <th>cityma</th>\n",
       "      <th>SIC</th>\n",
       "      <th>SIC_desc</th>\n",
       "      <th>coDescription_lemmatized</th>\n",
       "      <th>coDescription_stopwords</th>\n",
       "    </tr>\n",
       "  </thead>\n",
       "  <tbody>\n",
       "    <tr>\n",
       "      <th>0</th>\n",
       "      <td>0</td>\n",
       "      <td>0001441816-18-000028</td>\n",
       "      <td>2018-03-30 20:12:23 UTC</td>\n",
       "      <td>2018-02-01</td>\n",
       "      <td>financialEntities/params;cik=1441816</td>\n",
       "      <td>https://www.sec.gov/Archives/edgar/data/144181...</td>\n",
       "      <td>mongodb is the leading modern, general purpose...</td>\n",
       "      <td>1441816</td>\n",
       "      <td>MONGODB, INC.</td>\n",
       "      <td>US</td>\n",
       "      <td>NEW YORK</td>\n",
       "      <td>7372</td>\n",
       "      <td>Prepackaged Software (mass reproduction of sof...</td>\n",
       "      <td>mongodb is the leading modern , general purpos...</td>\n",
       "      <td>mongodb leading modern general purpose databas...</td>\n",
       "    </tr>\n",
       "    <tr>\n",
       "      <th>1</th>\n",
       "      <td>1</td>\n",
       "      <td>0001108524-18-000011</td>\n",
       "      <td>2018-03-09 22:01:46 UTC</td>\n",
       "      <td>2018-02-01</td>\n",
       "      <td>financialEntities/params;cik=1108524</td>\n",
       "      <td>https://www.sec.gov/Archives/edgar/data/110852...</td>\n",
       "      <td>salesforce is a global leader in customer rela...</td>\n",
       "      <td>1108524</td>\n",
       "      <td>SALESFORCE COM INC</td>\n",
       "      <td>US</td>\n",
       "      <td>SAN FRANCISCO</td>\n",
       "      <td>7372</td>\n",
       "      <td>Prepackaged Software (mass reproduction of sof...</td>\n",
       "      <td>salesforce is a global leader in customer rela...</td>\n",
       "      <td>salesforce global leader customer relationship...</td>\n",
       "    </tr>\n",
       "  </tbody>\n",
       "</table>\n",
       "</div>"
      ],
      "text/plain": [
       "   Unnamed: 0       accessionNumber               filingDate reportingDate  \\\n",
       "0           0  0001441816-18-000028  2018-03-30 20:12:23 UTC    2018-02-01   \n",
       "1           1  0001108524-18-000011  2018-03-09 22:01:46 UTC    2018-02-01   \n",
       "\n",
       "                        financialEntity  \\\n",
       "0  financialEntities/params;cik=1441816   \n",
       "1  financialEntities/params;cik=1108524   \n",
       "\n",
       "                                            htmlFile  \\\n",
       "0  https://www.sec.gov/Archives/edgar/data/144181...   \n",
       "1  https://www.sec.gov/Archives/edgar/data/110852...   \n",
       "\n",
       "                                       coDescription      CIK  \\\n",
       "0  mongodb is the leading modern, general purpose...  1441816   \n",
       "1  salesforce is a global leader in customer rela...  1108524   \n",
       "\n",
       "                 name countryinc         cityma   SIC  \\\n",
       "0       MONGODB, INC.         US       NEW YORK  7372   \n",
       "1  SALESFORCE COM INC         US  SAN FRANCISCO  7372   \n",
       "\n",
       "                                            SIC_desc  \\\n",
       "0  Prepackaged Software (mass reproduction of sof...   \n",
       "1  Prepackaged Software (mass reproduction of sof...   \n",
       "\n",
       "                            coDescription_lemmatized  \\\n",
       "0  mongodb is the leading modern , general purpos...   \n",
       "1  salesforce is a global leader in customer rela...   \n",
       "\n",
       "                             coDescription_stopwords  \n",
       "0  mongodb leading modern general purpose databas...  \n",
       "1  salesforce global leader customer relationship...  "
      ]
     },
     "execution_count": 2,
     "metadata": {},
     "output_type": "execute_result"
    }
   ],
   "source": [
    "data.head(2) # imported because i want names"
   ]
  },
  {
   "cell_type": "code",
   "execution_count": 3,
   "id": "0d60cd3e-a212-4d5d-b232-1ec47ef3d375",
   "metadata": {},
   "outputs": [
    {
     "data": {
      "text/html": [
       "<div>\n",
       "<style scoped>\n",
       "    .dataframe tbody tr th:only-of-type {\n",
       "        vertical-align: middle;\n",
       "    }\n",
       "\n",
       "    .dataframe tbody tr th {\n",
       "        vertical-align: top;\n",
       "    }\n",
       "\n",
       "    .dataframe thead th {\n",
       "        text-align: right;\n",
       "    }\n",
       "</style>\n",
       "<table border=\"1\" class=\"dataframe\">\n",
       "  <thead>\n",
       "    <tr style=\"text-align: right;\">\n",
       "      <th></th>\n",
       "      <th>filingDate</th>\n",
       "      <th>financialEntity</th>\n",
       "      <th>coDescription</th>\n",
       "      <th>CIK</th>\n",
       "      <th>coDescription_lemmatized</th>\n",
       "      <th>coDescription_stopwords</th>\n",
       "    </tr>\n",
       "  </thead>\n",
       "  <tbody>\n",
       "    <tr>\n",
       "      <th>0</th>\n",
       "      <td>2008-02-28T00:42:30Z</td>\n",
       "      <td>financialEntities/params;cik=1065280</td>\n",
       "      <td>we are the largest online movie rentalsubscrip...</td>\n",
       "      <td>1065280</td>\n",
       "      <td>we are the largest online movie rentalsubscrip...</td>\n",
       "      <td>largest online movie rentalsubscription servic...</td>\n",
       "    </tr>\n",
       "    <tr>\n",
       "      <th>1</th>\n",
       "      <td>2009-02-25T21:22:45Z</td>\n",
       "      <td>financialEntities/params;cik=1065280</td>\n",
       "      <td>with more than 10 millionsubscribers, we are t...</td>\n",
       "      <td>1065280</td>\n",
       "      <td>with more than 10 millionsubscribers , we are ...</td>\n",
       "      <td>millionsubscribers largest online movie rental...</td>\n",
       "    </tr>\n",
       "    <tr>\n",
       "      <th>2</th>\n",
       "      <td>2010-02-22T19:09:32Z</td>\n",
       "      <td>financialEntities/params;cik=1065280</td>\n",
       "      <td>with more than12 million subscribers, we are t...</td>\n",
       "      <td>1065280</td>\n",
       "      <td>with more than12 million subscriber , we are t...</td>\n",
       "      <td>million subscriber world largest subscription ...</td>\n",
       "    </tr>\n",
       "    <tr>\n",
       "      <th>3</th>\n",
       "      <td>2011-02-18T19:42:40Z</td>\n",
       "      <td>financialEntities/params;cik=1065280</td>\n",
       "      <td>us with 20 million subscribers as of december ...</td>\n",
       "      <td>1065280</td>\n",
       "      <td>u with 20 million subscriber a of december 31 ...</td>\n",
       "      <td>u million subscriber december netflix netflix ...</td>\n",
       "    </tr>\n",
       "    <tr>\n",
       "      <th>4</th>\n",
       "      <td>2012-02-10T22:29:24Z</td>\n",
       "      <td>financialEntities/params;cik=1065280</td>\n",
       "      <td>us netflix inc. (“netflix”, “the company”, “we...</td>\n",
       "      <td>1065280</td>\n",
       "      <td>u netflix inc. ( “ netflix ” , “ the company ”...</td>\n",
       "      <td>u netflix netflix company u world leading inte...</td>\n",
       "    </tr>\n",
       "  </tbody>\n",
       "</table>\n",
       "</div>"
      ],
      "text/plain": [
       "             filingDate                       financialEntity  \\\n",
       "0  2008-02-28T00:42:30Z  financialEntities/params;cik=1065280   \n",
       "1  2009-02-25T21:22:45Z  financialEntities/params;cik=1065280   \n",
       "2  2010-02-22T19:09:32Z  financialEntities/params;cik=1065280   \n",
       "3  2011-02-18T19:42:40Z  financialEntities/params;cik=1065280   \n",
       "4  2012-02-10T22:29:24Z  financialEntities/params;cik=1065280   \n",
       "\n",
       "                                       coDescription      CIK  \\\n",
       "0  we are the largest online movie rentalsubscrip...  1065280   \n",
       "1  with more than 10 millionsubscribers, we are t...  1065280   \n",
       "2  with more than12 million subscribers, we are t...  1065280   \n",
       "3  us with 20 million subscribers as of december ...  1065280   \n",
       "4  us netflix inc. (“netflix”, “the company”, “we...  1065280   \n",
       "\n",
       "                            coDescription_lemmatized  \\\n",
       "0  we are the largest online movie rentalsubscrip...   \n",
       "1  with more than 10 millionsubscribers , we are ...   \n",
       "2  with more than12 million subscriber , we are t...   \n",
       "3  u with 20 million subscriber a of december 31 ...   \n",
       "4  u netflix inc. ( “ netflix ” , “ the company ”...   \n",
       "\n",
       "                             coDescription_stopwords  \n",
       "0  largest online movie rentalsubscription servic...  \n",
       "1  millionsubscribers largest online movie rental...  \n",
       "2  million subscriber world largest subscription ...  \n",
       "3  u million subscriber december netflix netflix ...  \n",
       "4  u netflix netflix company u world leading inte...  "
      ]
     },
     "execution_count": 3,
     "metadata": {},
     "output_type": "execute_result"
    }
   ],
   "source": [
    "the_five = pd.DataFrame.from_dict(\n",
    "    {1660134:\"OKTA\",1713683:\"Z-Scaler\",1065280:\"NFLX\",51143:\"IBM\",40545:\"GE\"},\n",
    "    orient = \"index\").reset_index().rename(columns={\"index\":\"CIK\",0:\"name\"})\n",
    "\n",
    "data_five_raw = pd.read_csv(\"data/bq_dynamic_five.csv\")\n",
    "data_five_raw[\"CIK\"] = data_five_raw[\"financialEntity\"].str.split(\"=\", expand = True).iloc[:,1]\n",
    "data_five = std_func.clean(data_five_raw)\n",
    "data_five.head()"
   ]
  },
  {
   "cell_type": "code",
   "execution_count": 4,
   "id": "0a189077-ac81-40a7-bcf8-b26e3ce3f5b0",
   "metadata": {},
   "outputs": [
    {
     "data": {
      "text/html": [
       "<div>\n",
       "<style scoped>\n",
       "    .dataframe tbody tr th:only-of-type {\n",
       "        vertical-align: middle;\n",
       "    }\n",
       "\n",
       "    .dataframe tbody tr th {\n",
       "        vertical-align: top;\n",
       "    }\n",
       "\n",
       "    .dataframe thead th {\n",
       "        text-align: right;\n",
       "    }\n",
       "</style>\n",
       "<table border=\"1\" class=\"dataframe\">\n",
       "  <thead>\n",
       "    <tr style=\"text-align: right;\">\n",
       "      <th></th>\n",
       "      <th>Unnamed: 0</th>\n",
       "      <th>filingDate</th>\n",
       "      <th>reportingDate</th>\n",
       "      <th>financialEntity</th>\n",
       "      <th>coDescription</th>\n",
       "      <th>CIK</th>\n",
       "      <th>coDescription_lemmatized</th>\n",
       "      <th>coDescription_stopwords</th>\n",
       "      <th>name</th>\n",
       "    </tr>\n",
       "  </thead>\n",
       "  <tbody>\n",
       "    <tr>\n",
       "      <th>0</th>\n",
       "      <td>0</td>\n",
       "      <td>2017-06-29 20:05:22 UTC</td>\n",
       "      <td>2017-04-01</td>\n",
       "      <td>financialEntities/params;cik=1164888</td>\n",
       "      <td>m2.properties  4 item3.legalproceedings  4 ite...</td>\n",
       "      <td>1164888</td>\n",
       "      <td>m2.properties 4 item3.legalproceedings 4 item4...</td>\n",
       "      <td>disclosure part iiitem marketfor registrant co...</td>\n",
       "      <td>NaN</td>\n",
       "    </tr>\n",
       "    <tr>\n",
       "      <th>1</th>\n",
       "      <td>1</td>\n",
       "      <td>2016-03-03 17:53:54 UTC</td>\n",
       "      <td>2016-02-01</td>\n",
       "      <td>financialEntities/params;cik=1637459</td>\n",
       "      <td>l kraft heinz is one of the largest food and b...</td>\n",
       "      <td>1637459</td>\n",
       "      <td>l kraft heinz is one of the largest food and b...</td>\n",
       "      <td>l kraft heinz one largest food beverage compan...</td>\n",
       "      <td>NaN</td>\n",
       "    </tr>\n",
       "    <tr>\n",
       "      <th>2</th>\n",
       "      <td>2</td>\n",
       "      <td>2018-05-25 01:55:42 UTC</td>\n",
       "      <td>2018-04-01</td>\n",
       "      <td>financialEntities/params;cik=1302215</td>\n",
       "      <td>established in 1972, houlihan lokey, inc., is ...</td>\n",
       "      <td>1302215</td>\n",
       "      <td>established in 1972 , houlihan lokey , inc. , ...</td>\n",
       "      <td>established houlihan lokey leading global inde...</td>\n",
       "      <td>NaN</td>\n",
       "    </tr>\n",
       "    <tr>\n",
       "      <th>3</th>\n",
       "      <td>3</td>\n",
       "      <td>2018-12-19 22:01:54 UTC</td>\n",
       "      <td>2018-10-01</td>\n",
       "      <td>financialEntities/params;cik=725363</td>\n",
       "      <td>solved seccomments none item2.properties cel-s...</td>\n",
       "      <td>725363</td>\n",
       "      <td>solved seccomments none item2.properties cel-s...</td>\n",
       "      <td>solved seccomments none office space boone blv...</td>\n",
       "      <td>NaN</td>\n",
       "    </tr>\n",
       "    <tr>\n",
       "      <th>4</th>\n",
       "      <td>4</td>\n",
       "      <td>2018-02-28 18:47:50 UTC</td>\n",
       "      <td>2018-01-01</td>\n",
       "      <td>financialEntities/params;cik=103379</td>\n",
       "      <td>orporation, organized in 1899, is a global lea...</td>\n",
       "      <td>103379</td>\n",
       "      <td>orporation , organized in 1899 , is a global l...</td>\n",
       "      <td>orporation organized global leader design prod...</td>\n",
       "      <td>NaN</td>\n",
       "    </tr>\n",
       "  </tbody>\n",
       "</table>\n",
       "</div>"
      ],
      "text/plain": [
       "   Unnamed: 0               filingDate reportingDate  \\\n",
       "0           0  2017-06-29 20:05:22 UTC    2017-04-01   \n",
       "1           1  2016-03-03 17:53:54 UTC    2016-02-01   \n",
       "2           2  2018-05-25 01:55:42 UTC    2018-04-01   \n",
       "3           3  2018-12-19 22:01:54 UTC    2018-10-01   \n",
       "4           4  2018-02-28 18:47:50 UTC    2018-01-01   \n",
       "\n",
       "                        financialEntity  \\\n",
       "0  financialEntities/params;cik=1164888   \n",
       "1  financialEntities/params;cik=1637459   \n",
       "2  financialEntities/params;cik=1302215   \n",
       "3   financialEntities/params;cik=725363   \n",
       "4   financialEntities/params;cik=103379   \n",
       "\n",
       "                                       coDescription      CIK  \\\n",
       "0  m2.properties  4 item3.legalproceedings  4 ite...  1164888   \n",
       "1  l kraft heinz is one of the largest food and b...  1637459   \n",
       "2  established in 1972, houlihan lokey, inc., is ...  1302215   \n",
       "3  solved seccomments none item2.properties cel-s...   725363   \n",
       "4  orporation, organized in 1899, is a global lea...   103379   \n",
       "\n",
       "                            coDescription_lemmatized  \\\n",
       "0  m2.properties 4 item3.legalproceedings 4 item4...   \n",
       "1  l kraft heinz is one of the largest food and b...   \n",
       "2  established in 1972 , houlihan lokey , inc. , ...   \n",
       "3  solved seccomments none item2.properties cel-s...   \n",
       "4  orporation , organized in 1899 , is a global l...   \n",
       "\n",
       "                             coDescription_stopwords name  \n",
       "0  disclosure part iiitem marketfor registrant co...  NaN  \n",
       "1  l kraft heinz one largest food beverage compan...  NaN  \n",
       "2  established houlihan lokey leading global inde...  NaN  \n",
       "3  solved seccomments none office space boone blv...  NaN  \n",
       "4  orporation organized global leader design prod...  NaN  "
      ]
     },
     "execution_count": 4,
     "metadata": {},
     "output_type": "execute_result"
    }
   ],
   "source": [
    "# The companies with names have them, the ones that don't are NaN\n",
    "clean = pd.merge(\n",
    "    pd.merge(data_t,data.loc[:,[\"CIK\",\"name\"]], how = \"left\", on = \"CIK\"),\n",
    "    the_five, how = \"left\", on=\"CIK\")\n",
    "\n",
    "clean['name'] = clean['name_y'].fillna(clean['name_x'])\n",
    "clean = clean.drop([\"name_x\",\"name_y\",\"reports\"],axis = 1)\n",
    "clean.head()"
   ]
  },
  {
   "cell_type": "code",
   "execution_count": 5,
   "id": "d72e559d-309a-4c41-9d8c-ac05c9234650",
   "metadata": {},
   "outputs": [
    {
     "data": {
      "text/html": [
       "<div>\n",
       "<style scoped>\n",
       "    .dataframe tbody tr th:only-of-type {\n",
       "        vertical-align: middle;\n",
       "    }\n",
       "\n",
       "    .dataframe tbody tr th {\n",
       "        vertical-align: top;\n",
       "    }\n",
       "\n",
       "    .dataframe thead th {\n",
       "        text-align: right;\n",
       "    }\n",
       "</style>\n",
       "<table border=\"1\" class=\"dataframe\">\n",
       "  <thead>\n",
       "    <tr style=\"text-align: right;\">\n",
       "      <th></th>\n",
       "      <th>index</th>\n",
       "      <th>Unnamed: 0</th>\n",
       "      <th>filingDate</th>\n",
       "      <th>reportingDate</th>\n",
       "      <th>financialEntity</th>\n",
       "      <th>coDescription</th>\n",
       "      <th>CIK</th>\n",
       "      <th>coDescription_lemmatized</th>\n",
       "      <th>coDescription_stopwords</th>\n",
       "      <th>name</th>\n",
       "      <th>reports</th>\n",
       "    </tr>\n",
       "  </thead>\n",
       "  <tbody>\n",
       "    <tr>\n",
       "      <th>0</th>\n",
       "      <td>836</td>\n",
       "      <td>823.0</td>\n",
       "      <td>2016-11-21 18:23:28 UTC</td>\n",
       "      <td>2016-10-01</td>\n",
       "      <td>financialEntities/params;cik=2969</td>\n",
       "      <td>al description of business air products and ch...</td>\n",
       "      <td>2969</td>\n",
       "      <td>al description of business air product and che...</td>\n",
       "      <td>al description business air product chemical u...</td>\n",
       "      <td>NaN</td>\n",
       "      <td>2</td>\n",
       "    </tr>\n",
       "    <tr>\n",
       "      <th>1</th>\n",
       "      <td>781</td>\n",
       "      <td>769.0</td>\n",
       "      <td>2018-11-20 19:47:42 UTC</td>\n",
       "      <td>2018-10-01</td>\n",
       "      <td>financialEntities/params;cik=2969</td>\n",
       "      <td>ducts and chemicals, inc., a delaware corporat...</td>\n",
       "      <td>2969</td>\n",
       "      <td>duct and chemical , inc. , a delaware corporat...</td>\n",
       "      <td>duct chemical delaware corporation originally ...</td>\n",
       "      <td>NaN</td>\n",
       "      <td>2</td>\n",
       "    </tr>\n",
       "    <tr>\n",
       "      <th>2</th>\n",
       "      <td>1972</td>\n",
       "      <td>1948.0</td>\n",
       "      <td>2016-12-06 22:05:12 UTC</td>\n",
       "      <td>2016-10-01</td>\n",
       "      <td>financialEntities/params;cik=3545</td>\n",
       "      <td>alico, inc. (“alico”), was incorporated under ...</td>\n",
       "      <td>3545</td>\n",
       "      <td>alico , inc. ( “ alico ” ) , wa incorporated u...</td>\n",
       "      <td>alico alico wa incorporated law state florida ...</td>\n",
       "      <td>NaN</td>\n",
       "      <td>3</td>\n",
       "    </tr>\n",
       "    <tr>\n",
       "      <th>3</th>\n",
       "      <td>1474</td>\n",
       "      <td>1456.0</td>\n",
       "      <td>2017-12-11 22:13:06 UTC</td>\n",
       "      <td>2017-10-01</td>\n",
       "      <td>financialEntities/params;cik=3545</td>\n",
       "      <td>alico, inc. (“alico”) was incorporated under t...</td>\n",
       "      <td>3545</td>\n",
       "      <td>alico , inc. ( “ alico ” ) wa incorporated und...</td>\n",
       "      <td>alico alico wa incorporated law state florida ...</td>\n",
       "      <td>NaN</td>\n",
       "      <td>3</td>\n",
       "    </tr>\n",
       "    <tr>\n",
       "      <th>4</th>\n",
       "      <td>86</td>\n",
       "      <td>83.0</td>\n",
       "      <td>2018-12-06 21:58:38 UTC</td>\n",
       "      <td>2018-10-01</td>\n",
       "      <td>financialEntities/params;cik=3545</td>\n",
       "      <td>alico, inc. (“alico”) was incorporated under t...</td>\n",
       "      <td>3545</td>\n",
       "      <td>alico , inc. ( “ alico ” ) wa incorporated und...</td>\n",
       "      <td>alico alico wa incorporated law state florida ...</td>\n",
       "      <td>NaN</td>\n",
       "      <td>3</td>\n",
       "    </tr>\n",
       "  </tbody>\n",
       "</table>\n",
       "</div>"
      ],
      "text/plain": [
       "   index  Unnamed: 0               filingDate reportingDate  \\\n",
       "0    836       823.0  2016-11-21 18:23:28 UTC    2016-10-01   \n",
       "1    781       769.0  2018-11-20 19:47:42 UTC    2018-10-01   \n",
       "2   1972      1948.0  2016-12-06 22:05:12 UTC    2016-10-01   \n",
       "3   1474      1456.0  2017-12-11 22:13:06 UTC    2017-10-01   \n",
       "4     86        83.0  2018-12-06 21:58:38 UTC    2018-10-01   \n",
       "\n",
       "                     financialEntity  \\\n",
       "0  financialEntities/params;cik=2969   \n",
       "1  financialEntities/params;cik=2969   \n",
       "2  financialEntities/params;cik=3545   \n",
       "3  financialEntities/params;cik=3545   \n",
       "4  financialEntities/params;cik=3545   \n",
       "\n",
       "                                       coDescription   CIK  \\\n",
       "0  al description of business air products and ch...  2969   \n",
       "1  ducts and chemicals, inc., a delaware corporat...  2969   \n",
       "2  alico, inc. (“alico”), was incorporated under ...  3545   \n",
       "3  alico, inc. (“alico”) was incorporated under t...  3545   \n",
       "4  alico, inc. (“alico”) was incorporated under t...  3545   \n",
       "\n",
       "                            coDescription_lemmatized  \\\n",
       "0  al description of business air product and che...   \n",
       "1  duct and chemical , inc. , a delaware corporat...   \n",
       "2  alico , inc. ( “ alico ” ) , wa incorporated u...   \n",
       "3  alico , inc. ( “ alico ” ) wa incorporated und...   \n",
       "4  alico , inc. ( “ alico ” ) wa incorporated und...   \n",
       "\n",
       "                             coDescription_stopwords name  reports  \n",
       "0  al description business air product chemical u...  NaN        2  \n",
       "1  duct chemical delaware corporation originally ...  NaN        2  \n",
       "2  alico alico wa incorporated law state florida ...  NaN        3  \n",
       "3  alico alico wa incorporated law state florida ...  NaN        3  \n",
       "4  alico alico wa incorporated law state florida ...  NaN        3  "
      ]
     },
     "execution_count": 5,
     "metadata": {},
     "output_type": "execute_result"
    }
   ],
   "source": [
    "final = pd.concat([clean,data_five], axis = 0)\n",
    "final = final.merge(pd.Series(final.groupby(\"CIK\").size(), name = \"reports\"), how = \"left\", on = \"CIK\").sort_values([\"CIK\",\"filingDate\"]).reset_index()\n",
    "final.head()"
   ]
  },
  {
   "cell_type": "markdown",
   "id": "a86c6f12-dea9-4b96-9612-43786663e9ec",
   "metadata": {},
   "source": [
    "## Diving into the embeddings\n",
    "\n",
    "### tf-idf (term frequency - inverse document frequency)"
   ]
  },
  {
   "cell_type": "code",
   "execution_count": 456,
   "id": "b736c32a-a0ef-485b-95a4-b6c162134769",
   "metadata": {},
   "outputs": [],
   "source": [
    "import functools\n",
    "import operator\n",
    "from datetime import datetime\n",
    "\n",
    "def deltas(final, embedding, features):\n",
    "    ignore_words = [\"revenue\",\"fiscal\",\"year\", \"operating\", \"december\", \"ended\", \"administrative\", \"month\", \"company\", \"general\", \"also\",\n",
    "                    \"statement\", \"asset\", \"result\", \"term\", \"september\", \"accounting\", \"million\"]\n",
    "    changes = [[],[],[],[]]\n",
    "    for i in final.loc[:,\"CIK\"]:\n",
    "        # i = final.loc[2,\"CIK\"]\n",
    "        # Get the all company filings\n",
    "        company_filings = embedding[embedding[\"CIK\"] == i].reset_index(drop=True)\n",
    "        # Get the change YoY in tfidf values\n",
    "        delta = pd.DataFrame(np.array(company_filings.iloc[1:,3:]) - np.array(company_filings.iloc[:-1,3:]), columns=features)\n",
    "        # named_delta = pd.concat([company_filings.loc[1:,[\"filingDate\",\"CIK\", \"name\"]].reset_index(drop=True),delta], axis = 1)\n",
    "        # Get the top 20 changed terms in YoY filings\n",
    "        for j in np.arange(company_filings.shape[0]-1):\n",
    "            word_delta = delta.iloc[j,:].sort_values(key=abs, ascending = False).reset_index()\n",
    "            word_delta['flagCol'] = np.where(word_delta.loc[:,\"index\"].str.contains('|'.join(ignore_words)),1,0)\n",
    "            words = word_delta[word_delta['flagCol'] == 0].iloc[:,:2].head(20).reset_index(drop=True).rename(columns = {\"index\":\"topic\",0:\"delta\"})\n",
    "            year = datetime.strptime(company_filings.loc[j,\"filingDate\"], '%Y-%m-%d %H:%M:%S UTC').date().year\n",
    "            info = pd.concat([pd.Series(i).repeat(20),pd.Series(str(\"year \" + str(year) + \" to year \" + str(year+1))).repeat(20)], axis = 1) \\\n",
    "                .reset_index(drop=True)\\\n",
    "                .rename(columns = {0:\"CIK\",1:\"years\"})\n",
    "            to_append = pd.concat([info,words], axis = 1)\n",
    "            for k in np.arange(to_append.shape[1]):\n",
    "                changes[k].append(to_append.iloc[:,k].tolist())\n",
    "\n",
    "    for i in np.arange(len(changes)):\n",
    "        changes[i] = functools.reduce(operator.iconcat, changes[i], [])\n",
    "        \n",
    "    return(pd.DataFrame(list(zip(changes[0],changes[1],changes[2],changes[3]))))"
   ]
  },
  {
   "cell_type": "code",
   "execution_count": 457,
   "id": "51463540-831c-4824-b100-287fdeccc86d",
   "metadata": {},
   "outputs": [
    {
     "ename": "ValueError",
     "evalue": "time data '2011-02-25T21:33:50Z' does not match format '%Y-%m-%d %H:%M:%S UTC'",
     "output_type": "error",
     "traceback": [
      "\u001b[0;31m---------------------------------------------------------------------------\u001b[0m",
      "\u001b[0;31mValueError\u001b[0m                                Traceback (most recent call last)",
      "Input \u001b[0;32mIn [457]\u001b[0m, in \u001b[0;36m<cell line: 11>\u001b[0;34m()\u001b[0m\n\u001b[1;32m      9\u001b[0m tfidf \u001b[38;5;241m=\u001b[39m pd\u001b[38;5;241m.\u001b[39mDataFrame(pipe\u001b[38;5;241m.\u001b[39mtransform(final[\u001b[38;5;124m\"\u001b[39m\u001b[38;5;124mcoDescription_stopwords\u001b[39m\u001b[38;5;124m\"\u001b[39m])\u001b[38;5;241m.\u001b[39mtoarray())\n\u001b[1;32m     10\u001b[0m data_tfidf \u001b[38;5;241m=\u001b[39m pd\u001b[38;5;241m.\u001b[39mconcat([final\u001b[38;5;241m.\u001b[39mloc[:,[\u001b[38;5;124m\"\u001b[39m\u001b[38;5;124mfilingDate\u001b[39m\u001b[38;5;124m\"\u001b[39m,\u001b[38;5;124m\"\u001b[39m\u001b[38;5;124mCIK\u001b[39m\u001b[38;5;124m\"\u001b[39m, \u001b[38;5;124m\"\u001b[39m\u001b[38;5;124mname\u001b[39m\u001b[38;5;124m\"\u001b[39m]],tfidf], axis \u001b[38;5;241m=\u001b[39m \u001b[38;5;241m1\u001b[39m)\n\u001b[0;32m---> 11\u001b[0m delta_tfidf \u001b[38;5;241m=\u001b[39m \u001b[43mdeltas\u001b[49m\u001b[43m(\u001b[49m\u001b[43mfinal\u001b[49m\u001b[43m,\u001b[49m\u001b[43m \u001b[49m\u001b[43mdata_tfidf\u001b[49m\u001b[43m,\u001b[49m\u001b[43m \u001b[49m\u001b[43mpipe\u001b[49m\u001b[38;5;241;43m.\u001b[39;49m\u001b[43mget_feature_names_out\u001b[49m\u001b[43m(\u001b[49m\u001b[43m)\u001b[49m\u001b[38;5;241;43m.\u001b[39;49m\u001b[43mtolist\u001b[49m\u001b[43m(\u001b[49m\u001b[43m)\u001b[49m\u001b[43m)\u001b[49m\n\u001b[1;32m     12\u001b[0m delta_tfidf\n",
      "Input \u001b[0;32mIn [456]\u001b[0m, in \u001b[0;36mdeltas\u001b[0;34m(final, embedding, features)\u001b[0m\n\u001b[1;32m     19\u001b[0m word_delta[\u001b[38;5;124m'\u001b[39m\u001b[38;5;124mflagCol\u001b[39m\u001b[38;5;124m'\u001b[39m] \u001b[38;5;241m=\u001b[39m np\u001b[38;5;241m.\u001b[39mwhere(word_delta\u001b[38;5;241m.\u001b[39mloc[:,\u001b[38;5;124m\"\u001b[39m\u001b[38;5;124mindex\u001b[39m\u001b[38;5;124m\"\u001b[39m]\u001b[38;5;241m.\u001b[39mstr\u001b[38;5;241m.\u001b[39mcontains(\u001b[38;5;124m'\u001b[39m\u001b[38;5;124m|\u001b[39m\u001b[38;5;124m'\u001b[39m\u001b[38;5;241m.\u001b[39mjoin(ignore_words)),\u001b[38;5;241m1\u001b[39m,\u001b[38;5;241m0\u001b[39m)\n\u001b[1;32m     20\u001b[0m words \u001b[38;5;241m=\u001b[39m word_delta[word_delta[\u001b[38;5;124m'\u001b[39m\u001b[38;5;124mflagCol\u001b[39m\u001b[38;5;124m'\u001b[39m] \u001b[38;5;241m==\u001b[39m \u001b[38;5;241m0\u001b[39m]\u001b[38;5;241m.\u001b[39miloc[:,:\u001b[38;5;241m2\u001b[39m]\u001b[38;5;241m.\u001b[39mhead(\u001b[38;5;241m20\u001b[39m)\u001b[38;5;241m.\u001b[39mreset_index(drop\u001b[38;5;241m=\u001b[39m\u001b[38;5;28;01mTrue\u001b[39;00m)\u001b[38;5;241m.\u001b[39mrename(columns \u001b[38;5;241m=\u001b[39m {\u001b[38;5;124m\"\u001b[39m\u001b[38;5;124mindex\u001b[39m\u001b[38;5;124m\"\u001b[39m:\u001b[38;5;124m\"\u001b[39m\u001b[38;5;124mtopic\u001b[39m\u001b[38;5;124m\"\u001b[39m,\u001b[38;5;241m0\u001b[39m:\u001b[38;5;124m\"\u001b[39m\u001b[38;5;124mdelta\u001b[39m\u001b[38;5;124m\"\u001b[39m})\n\u001b[0;32m---> 21\u001b[0m year \u001b[38;5;241m=\u001b[39m \u001b[43mdatetime\u001b[49m\u001b[38;5;241;43m.\u001b[39;49m\u001b[43mstrptime\u001b[49m\u001b[43m(\u001b[49m\u001b[43mcompany_filings\u001b[49m\u001b[38;5;241;43m.\u001b[39;49m\u001b[43mloc\u001b[49m\u001b[43m[\u001b[49m\u001b[43mj\u001b[49m\u001b[43m,\u001b[49m\u001b[38;5;124;43m\"\u001b[39;49m\u001b[38;5;124;43mfilingDate\u001b[39;49m\u001b[38;5;124;43m\"\u001b[39;49m\u001b[43m]\u001b[49m\u001b[43m,\u001b[49m\u001b[43m \u001b[49m\u001b[38;5;124;43m'\u001b[39;49m\u001b[38;5;124;43m%\u001b[39;49m\u001b[38;5;124;43mY-\u001b[39;49m\u001b[38;5;124;43m%\u001b[39;49m\u001b[38;5;124;43mm-\u001b[39;49m\u001b[38;5;132;43;01m%d\u001b[39;49;00m\u001b[38;5;124;43m \u001b[39;49m\u001b[38;5;124;43m%\u001b[39;49m\u001b[38;5;124;43mH:\u001b[39;49m\u001b[38;5;124;43m%\u001b[39;49m\u001b[38;5;124;43mM:\u001b[39;49m\u001b[38;5;124;43m%\u001b[39;49m\u001b[38;5;124;43mS UTC\u001b[39;49m\u001b[38;5;124;43m'\u001b[39;49m\u001b[43m)\u001b[49m\u001b[38;5;241m.\u001b[39mdate()\u001b[38;5;241m.\u001b[39myear\n\u001b[1;32m     22\u001b[0m info \u001b[38;5;241m=\u001b[39m pd\u001b[38;5;241m.\u001b[39mconcat([pd\u001b[38;5;241m.\u001b[39mSeries(i)\u001b[38;5;241m.\u001b[39mrepeat(\u001b[38;5;241m20\u001b[39m),pd\u001b[38;5;241m.\u001b[39mSeries(\u001b[38;5;28mstr\u001b[39m(\u001b[38;5;124m\"\u001b[39m\u001b[38;5;124myear \u001b[39m\u001b[38;5;124m\"\u001b[39m \u001b[38;5;241m+\u001b[39m \u001b[38;5;28mstr\u001b[39m(year) \u001b[38;5;241m+\u001b[39m \u001b[38;5;124m\"\u001b[39m\u001b[38;5;124m to year \u001b[39m\u001b[38;5;124m\"\u001b[39m \u001b[38;5;241m+\u001b[39m \u001b[38;5;28mstr\u001b[39m(year\u001b[38;5;241m+\u001b[39m\u001b[38;5;241m1\u001b[39m)))\u001b[38;5;241m.\u001b[39mrepeat(\u001b[38;5;241m20\u001b[39m)], axis \u001b[38;5;241m=\u001b[39m \u001b[38;5;241m1\u001b[39m) \\\n\u001b[1;32m     23\u001b[0m     \u001b[38;5;241m.\u001b[39mreset_index(drop\u001b[38;5;241m=\u001b[39m\u001b[38;5;28;01mTrue\u001b[39;00m)\\\n\u001b[1;32m     24\u001b[0m     \u001b[38;5;241m.\u001b[39mrename(columns \u001b[38;5;241m=\u001b[39m {\u001b[38;5;241m0\u001b[39m:\u001b[38;5;124m\"\u001b[39m\u001b[38;5;124mCIK\u001b[39m\u001b[38;5;124m\"\u001b[39m,\u001b[38;5;241m1\u001b[39m:\u001b[38;5;124m\"\u001b[39m\u001b[38;5;124myears\u001b[39m\u001b[38;5;124m\"\u001b[39m})\n\u001b[1;32m     25\u001b[0m to_append \u001b[38;5;241m=\u001b[39m pd\u001b[38;5;241m.\u001b[39mconcat([info,words], axis \u001b[38;5;241m=\u001b[39m \u001b[38;5;241m1\u001b[39m)\n",
      "File \u001b[0;32m/usr/local/Cellar/python@3.9/3.9.10/Frameworks/Python.framework/Versions/3.9/lib/python3.9/_strptime.py:568\u001b[0m, in \u001b[0;36m_strptime_datetime\u001b[0;34m(cls, data_string, format)\u001b[0m\n\u001b[1;32m    565\u001b[0m \u001b[38;5;28;01mdef\u001b[39;00m \u001b[38;5;21m_strptime_datetime\u001b[39m(\u001b[38;5;28mcls\u001b[39m, data_string, \u001b[38;5;28mformat\u001b[39m\u001b[38;5;241m=\u001b[39m\u001b[38;5;124m\"\u001b[39m\u001b[38;5;132;01m%a\u001b[39;00m\u001b[38;5;124m \u001b[39m\u001b[38;5;124m%\u001b[39m\u001b[38;5;124mb \u001b[39m\u001b[38;5;132;01m%d\u001b[39;00m\u001b[38;5;124m \u001b[39m\u001b[38;5;124m%\u001b[39m\u001b[38;5;124mH:\u001b[39m\u001b[38;5;124m%\u001b[39m\u001b[38;5;124mM:\u001b[39m\u001b[38;5;124m%\u001b[39m\u001b[38;5;124mS \u001b[39m\u001b[38;5;124m%\u001b[39m\u001b[38;5;124mY\u001b[39m\u001b[38;5;124m\"\u001b[39m):\n\u001b[1;32m    566\u001b[0m     \u001b[38;5;124;03m\"\"\"Return a class cls instance based on the input string and the\u001b[39;00m\n\u001b[1;32m    567\u001b[0m \u001b[38;5;124;03m    format string.\"\"\"\u001b[39;00m\n\u001b[0;32m--> 568\u001b[0m     tt, fraction, gmtoff_fraction \u001b[38;5;241m=\u001b[39m \u001b[43m_strptime\u001b[49m\u001b[43m(\u001b[49m\u001b[43mdata_string\u001b[49m\u001b[43m,\u001b[49m\u001b[43m \u001b[49m\u001b[38;5;28;43mformat\u001b[39;49m\u001b[43m)\u001b[49m\n\u001b[1;32m    569\u001b[0m     tzname, gmtoff \u001b[38;5;241m=\u001b[39m tt[\u001b[38;5;241m-\u001b[39m\u001b[38;5;241m2\u001b[39m:]\n\u001b[1;32m    570\u001b[0m     args \u001b[38;5;241m=\u001b[39m tt[:\u001b[38;5;241m6\u001b[39m] \u001b[38;5;241m+\u001b[39m (fraction,)\n",
      "File \u001b[0;32m/usr/local/Cellar/python@3.9/3.9.10/Frameworks/Python.framework/Versions/3.9/lib/python3.9/_strptime.py:349\u001b[0m, in \u001b[0;36m_strptime\u001b[0;34m(data_string, format)\u001b[0m\n\u001b[1;32m    347\u001b[0m found \u001b[38;5;241m=\u001b[39m format_regex\u001b[38;5;241m.\u001b[39mmatch(data_string)\n\u001b[1;32m    348\u001b[0m \u001b[38;5;28;01mif\u001b[39;00m \u001b[38;5;129;01mnot\u001b[39;00m found:\n\u001b[0;32m--> 349\u001b[0m     \u001b[38;5;28;01mraise\u001b[39;00m \u001b[38;5;167;01mValueError\u001b[39;00m(\u001b[38;5;124m\"\u001b[39m\u001b[38;5;124mtime data \u001b[39m\u001b[38;5;132;01m%r\u001b[39;00m\u001b[38;5;124m does not match format \u001b[39m\u001b[38;5;132;01m%r\u001b[39;00m\u001b[38;5;124m\"\u001b[39m \u001b[38;5;241m%\u001b[39m\n\u001b[1;32m    350\u001b[0m                      (data_string, \u001b[38;5;28mformat\u001b[39m))\n\u001b[1;32m    351\u001b[0m \u001b[38;5;28;01mif\u001b[39;00m \u001b[38;5;28mlen\u001b[39m(data_string) \u001b[38;5;241m!=\u001b[39m found\u001b[38;5;241m.\u001b[39mend():\n\u001b[1;32m    352\u001b[0m     \u001b[38;5;28;01mraise\u001b[39;00m \u001b[38;5;167;01mValueError\u001b[39;00m(\u001b[38;5;124m\"\u001b[39m\u001b[38;5;124munconverted data remains: \u001b[39m\u001b[38;5;132;01m%s\u001b[39;00m\u001b[38;5;124m\"\u001b[39m \u001b[38;5;241m%\u001b[39m\n\u001b[1;32m    353\u001b[0m                       data_string[found\u001b[38;5;241m.\u001b[39mend():])\n",
      "\u001b[0;31mValueError\u001b[0m: time data '2011-02-25T21:33:50Z' does not match format '%Y-%m-%d %H:%M:%S UTC'"
     ]
    }
   ],
   "source": [
    "from sklearn.feature_extraction.text import CountVectorizer\n",
    "from sklearn.feature_extraction.text import TfidfTransformer\n",
    "from sklearn.pipeline import Pipeline\n",
    "\n",
    "# combine the techniques since tf-idf only augments count vectorized documents\n",
    "pipe = Pipeline([('count', CountVectorizer(ngram_range = (2,4), max_features = 1000)),\n",
    "                  ('tfidf', TfidfTransformer())]).fit(final[\"coDescription_stopwords\"])\n",
    "\n",
    "tfidf = pd.DataFrame(pipe.transform(final[\"coDescription_stopwords\"]).toarray())\n",
    "data_tfidf = pd.concat([final.loc[:,[\"filingDate\",\"CIK\", \"name\"]],tfidf], axis = 1)\n",
    "delta_tfidf = deltas(final, data_tfidf, pipe.get_feature_names_out().tolist())\n",
    "delta_tfidf"
   ]
  },
  {
   "cell_type": "code",
   "execution_count": 12,
   "id": "3a654dd6-d30a-494e-ad45-fdcc9ff7851a",
   "metadata": {},
   "outputs": [
    {
     "data": {
      "text/html": [
       "<div>\n",
       "<style scoped>\n",
       "    .dataframe tbody tr th:only-of-type {\n",
       "        vertical-align: middle;\n",
       "    }\n",
       "\n",
       "    .dataframe tbody tr th {\n",
       "        vertical-align: top;\n",
       "    }\n",
       "\n",
       "    .dataframe thead th {\n",
       "        text-align: right;\n",
       "    }\n",
       "</style>\n",
       "<table border=\"1\" class=\"dataframe\">\n",
       "  <thead>\n",
       "    <tr style=\"text-align: right;\">\n",
       "      <th></th>\n",
       "      <th>CIK</th>\n",
       "      <th>name</th>\n",
       "    </tr>\n",
       "  </thead>\n",
       "  <tbody>\n",
       "    <tr>\n",
       "      <th>0</th>\n",
       "      <td>1660134</td>\n",
       "      <td>OKTA</td>\n",
       "    </tr>\n",
       "    <tr>\n",
       "      <th>1</th>\n",
       "      <td>1713683</td>\n",
       "      <td>Z-Scaler</td>\n",
       "    </tr>\n",
       "    <tr>\n",
       "      <th>2</th>\n",
       "      <td>1065280</td>\n",
       "      <td>NFLX</td>\n",
       "    </tr>\n",
       "    <tr>\n",
       "      <th>3</th>\n",
       "      <td>51143</td>\n",
       "      <td>IBM</td>\n",
       "    </tr>\n",
       "    <tr>\n",
       "      <th>4</th>\n",
       "      <td>40545</td>\n",
       "      <td>GE</td>\n",
       "    </tr>\n",
       "  </tbody>\n",
       "</table>\n",
       "</div>"
      ],
      "text/plain": [
       "       CIK      name\n",
       "0  1660134      OKTA\n",
       "1  1713683  Z-Scaler\n",
       "2  1065280      NFLX\n",
       "3    51143       IBM\n",
       "4    40545        GE"
      ]
     },
     "execution_count": 12,
     "metadata": {},
     "output_type": "execute_result"
    }
   ],
   "source": [
    "the_five"
   ]
  },
  {
   "cell_type": "code",
   "execution_count": 135,
   "id": "3ee81438-5a0e-4eb8-8309-ab571185bbd5",
   "metadata": {},
   "outputs": [
    {
     "data": {
      "text/html": [
       "<div>\n",
       "<style scoped>\n",
       "    .dataframe tbody tr th:only-of-type {\n",
       "        vertical-align: middle;\n",
       "    }\n",
       "\n",
       "    .dataframe tbody tr th {\n",
       "        vertical-align: top;\n",
       "    }\n",
       "\n",
       "    .dataframe thead th {\n",
       "        text-align: right;\n",
       "    }\n",
       "</style>\n",
       "<table border=\"1\" class=\"dataframe\">\n",
       "  <thead>\n",
       "    <tr style=\"text-align: right;\">\n",
       "      <th></th>\n",
       "      <th>0</th>\n",
       "      <th>1</th>\n",
       "      <th>2</th>\n",
       "      <th>3</th>\n",
       "    </tr>\n",
       "  </thead>\n",
       "  <tbody>\n",
       "    <tr>\n",
       "      <th>75640</th>\n",
       "      <td>1660134</td>\n",
       "      <td>year 0 to year 1</td>\n",
       "      <td>mobile application</td>\n",
       "      <td>-0.291043</td>\n",
       "    </tr>\n",
       "    <tr>\n",
       "      <th>75641</th>\n",
       "      <td>1660134</td>\n",
       "      <td>year 0 to year 1</td>\n",
       "      <td>help customer</td>\n",
       "      <td>0.086816</td>\n",
       "    </tr>\n",
       "    <tr>\n",
       "      <th>75642</th>\n",
       "      <td>1660134</td>\n",
       "      <td>year 0 to year 1</td>\n",
       "      <td>customer support</td>\n",
       "      <td>0.076047</td>\n",
       "    </tr>\n",
       "    <tr>\n",
       "      <th>75643</th>\n",
       "      <td>1660134</td>\n",
       "      <td>year 0 to year 1</td>\n",
       "      <td>market segment</td>\n",
       "      <td>0.070965</td>\n",
       "    </tr>\n",
       "    <tr>\n",
       "      <th>75644</th>\n",
       "      <td>1660134</td>\n",
       "      <td>year 0 to year 1</td>\n",
       "      <td>outside united state</td>\n",
       "      <td>0.067020</td>\n",
       "    </tr>\n",
       "    <tr>\n",
       "      <th>75660</th>\n",
       "      <td>1660134</td>\n",
       "      <td>year 1 to year 2</td>\n",
       "      <td>end user</td>\n",
       "      <td>0.125710</td>\n",
       "    </tr>\n",
       "    <tr>\n",
       "      <th>75661</th>\n",
       "      <td>1660134</td>\n",
       "      <td>year 1 to year 2</td>\n",
       "      <td>market segment</td>\n",
       "      <td>-0.125693</td>\n",
       "    </tr>\n",
       "    <tr>\n",
       "      <th>75662</th>\n",
       "      <td>1660134</td>\n",
       "      <td>year 1 to year 2</td>\n",
       "      <td>customer need</td>\n",
       "      <td>0.115391</td>\n",
       "    </tr>\n",
       "    <tr>\n",
       "      <th>75663</th>\n",
       "      <td>1660134</td>\n",
       "      <td>year 1 to year 2</td>\n",
       "      <td>technology platform</td>\n",
       "      <td>0.069876</td>\n",
       "    </tr>\n",
       "    <tr>\n",
       "      <th>75664</th>\n",
       "      <td>1660134</td>\n",
       "      <td>year 1 to year 2</td>\n",
       "      <td>new technology</td>\n",
       "      <td>0.057964</td>\n",
       "    </tr>\n",
       "    <tr>\n",
       "      <th>75680</th>\n",
       "      <td>1660134</td>\n",
       "      <td>year 2 to year 3</td>\n",
       "      <td>class common</td>\n",
       "      <td>0.321490</td>\n",
       "    </tr>\n",
       "    <tr>\n",
       "      <th>75681</th>\n",
       "      <td>1660134</td>\n",
       "      <td>year 2 to year 3</td>\n",
       "      <td>merger agreement</td>\n",
       "      <td>0.239545</td>\n",
       "    </tr>\n",
       "    <tr>\n",
       "      <th>75682</th>\n",
       "      <td>1660134</td>\n",
       "      <td>year 2 to year 3</td>\n",
       "      <td>common stock</td>\n",
       "      <td>0.121340</td>\n",
       "    </tr>\n",
       "    <tr>\n",
       "      <th>75683</th>\n",
       "      <td>1660134</td>\n",
       "      <td>year 2 to year 3</td>\n",
       "      <td>per share</td>\n",
       "      <td>0.109002</td>\n",
       "    </tr>\n",
       "    <tr>\n",
       "      <th>75684</th>\n",
       "      <td>1660134</td>\n",
       "      <td>year 2 to year 3</td>\n",
       "      <td>equity interest</td>\n",
       "      <td>0.098450</td>\n",
       "    </tr>\n",
       "  </tbody>\n",
       "</table>\n",
       "</div>"
      ],
      "text/plain": [
       "             0                 1                     2         3\n",
       "75640  1660134  year 0 to year 1    mobile application -0.291043\n",
       "75641  1660134  year 0 to year 1         help customer  0.086816\n",
       "75642  1660134  year 0 to year 1      customer support  0.076047\n",
       "75643  1660134  year 0 to year 1        market segment  0.070965\n",
       "75644  1660134  year 0 to year 1  outside united state  0.067020\n",
       "75660  1660134  year 1 to year 2              end user  0.125710\n",
       "75661  1660134  year 1 to year 2        market segment -0.125693\n",
       "75662  1660134  year 1 to year 2         customer need  0.115391\n",
       "75663  1660134  year 1 to year 2   technology platform  0.069876\n",
       "75664  1660134  year 1 to year 2        new technology  0.057964\n",
       "75680  1660134  year 2 to year 3          class common  0.321490\n",
       "75681  1660134  year 2 to year 3      merger agreement  0.239545\n",
       "75682  1660134  year 2 to year 3          common stock  0.121340\n",
       "75683  1660134  year 2 to year 3             per share  0.109002\n",
       "75684  1660134  year 2 to year 3       equity interest  0.098450"
      ]
     },
     "execution_count": 135,
     "metadata": {},
     "output_type": "execute_result"
    }
   ],
   "source": [
    "# OKTA\n",
    "delta_tfidf[delta_tfidf.iloc[:,0] == 1660134].iloc[:60,:].groupby(1).head(5)"
   ]
  },
  {
   "cell_type": "code",
   "execution_count": 136,
   "id": "2dd9cf30-fc3d-4d31-ab99-3547456d7346",
   "metadata": {},
   "outputs": [
    {
     "data": {
      "text/html": [
       "<div>\n",
       "<style scoped>\n",
       "    .dataframe tbody tr th:only-of-type {\n",
       "        vertical-align: middle;\n",
       "    }\n",
       "\n",
       "    .dataframe tbody tr th {\n",
       "        vertical-align: top;\n",
       "    }\n",
       "\n",
       "    .dataframe thead th {\n",
       "        text-align: right;\n",
       "    }\n",
       "</style>\n",
       "<table border=\"1\" class=\"dataframe\">\n",
       "  <thead>\n",
       "    <tr style=\"text-align: right;\">\n",
       "      <th></th>\n",
       "      <th>0</th>\n",
       "      <th>1</th>\n",
       "      <th>2</th>\n",
       "      <th>3</th>\n",
       "    </tr>\n",
       "  </thead>\n",
       "  <tbody>\n",
       "    <tr>\n",
       "      <th>76560</th>\n",
       "      <td>1713683</td>\n",
       "      <td>year 0 to year 1</td>\n",
       "      <td>data center</td>\n",
       "      <td>0.123998</td>\n",
       "    </tr>\n",
       "    <tr>\n",
       "      <th>76561</th>\n",
       "      <td>1713683</td>\n",
       "      <td>year 0 to year 1</td>\n",
       "      <td>approximately billion</td>\n",
       "      <td>-0.074971</td>\n",
       "    </tr>\n",
       "    <tr>\n",
       "      <th>76562</th>\n",
       "      <td>1713683</td>\n",
       "      <td>year 0 to year 1</td>\n",
       "      <td>service include</td>\n",
       "      <td>0.065322</td>\n",
       "    </tr>\n",
       "    <tr>\n",
       "      <th>76563</th>\n",
       "      <td>1713683</td>\n",
       "      <td>year 0 to year 1</td>\n",
       "      <td>service provider</td>\n",
       "      <td>0.063994</td>\n",
       "    </tr>\n",
       "    <tr>\n",
       "      <th>76564</th>\n",
       "      <td>1713683</td>\n",
       "      <td>year 0 to year 1</td>\n",
       "      <td>credit card</td>\n",
       "      <td>-0.041841</td>\n",
       "    </tr>\n",
       "  </tbody>\n",
       "</table>\n",
       "</div>"
      ],
      "text/plain": [
       "             0                 1                      2         3\n",
       "76560  1713683  year 0 to year 1            data center  0.123998\n",
       "76561  1713683  year 0 to year 1  approximately billion -0.074971\n",
       "76562  1713683  year 0 to year 1        service include  0.065322\n",
       "76563  1713683  year 0 to year 1       service provider  0.063994\n",
       "76564  1713683  year 0 to year 1            credit card -0.041841"
      ]
     },
     "execution_count": 136,
     "metadata": {},
     "output_type": "execute_result"
    }
   ],
   "source": [
    "# Z-Scaler\n",
    "delta_tfidf[delta_tfidf.iloc[:,0] == 1713683].iloc[:60,:].groupby(1).head(5)"
   ]
  },
  {
   "cell_type": "code",
   "execution_count": 425,
   "id": "a9674e1c-9072-4d94-bff5-47ee670ccaa8",
   "metadata": {},
   "outputs": [
    {
     "data": {
      "text/html": [
       "<div>\n",
       "<style scoped>\n",
       "    .dataframe tbody tr th:only-of-type {\n",
       "        vertical-align: middle;\n",
       "    }\n",
       "\n",
       "    .dataframe tbody tr th {\n",
       "        vertical-align: top;\n",
       "    }\n",
       "\n",
       "    .dataframe thead th {\n",
       "        text-align: right;\n",
       "    }\n",
       "</style>\n",
       "<table border=\"1\" class=\"dataframe\">\n",
       "  <thead>\n",
       "    <tr style=\"text-align: right;\">\n",
       "      <th></th>\n",
       "      <th>index</th>\n",
       "      <th>Unnamed: 0</th>\n",
       "      <th>filingDate</th>\n",
       "      <th>reportingDate</th>\n",
       "      <th>financialEntity</th>\n",
       "      <th>coDescription</th>\n",
       "      <th>CIK</th>\n",
       "      <th>coDescription_lemmatized</th>\n",
       "      <th>coDescription_stopwords</th>\n",
       "      <th>name</th>\n",
       "      <th>reports</th>\n",
       "    </tr>\n",
       "  </thead>\n",
       "  <tbody>\n",
       "    <tr>\n",
       "      <th>985</th>\n",
       "      <td>2032</td>\n",
       "      <td>NaN</td>\n",
       "      <td>2008-02-28T00:42:30Z</td>\n",
       "      <td>NaN</td>\n",
       "      <td>financialEntities/params;cik=1065280</td>\n",
       "      <td>we are the largest online movie rentalsubscrip...</td>\n",
       "      <td>1065280</td>\n",
       "      <td>we are the largest online movie rentalsubscrip...</td>\n",
       "      <td>largest online movie rentalsubscription servic...</td>\n",
       "      <td>NaN</td>\n",
       "      <td>5</td>\n",
       "    </tr>\n",
       "    <tr>\n",
       "      <th>986</th>\n",
       "      <td>2033</td>\n",
       "      <td>NaN</td>\n",
       "      <td>2009-02-25T21:22:45Z</td>\n",
       "      <td>NaN</td>\n",
       "      <td>financialEntities/params;cik=1065280</td>\n",
       "      <td>with more than 10 millionsubscribers, we are t...</td>\n",
       "      <td>1065280</td>\n",
       "      <td>with more than 10 millionsubscribers , we are ...</td>\n",
       "      <td>millionsubscribers largest online movie rental...</td>\n",
       "      <td>NaN</td>\n",
       "      <td>5</td>\n",
       "    </tr>\n",
       "    <tr>\n",
       "      <th>987</th>\n",
       "      <td>2034</td>\n",
       "      <td>NaN</td>\n",
       "      <td>2010-02-22T19:09:32Z</td>\n",
       "      <td>NaN</td>\n",
       "      <td>financialEntities/params;cik=1065280</td>\n",
       "      <td>with more than12 million subscribers, we are t...</td>\n",
       "      <td>1065280</td>\n",
       "      <td>with more than12 million subscriber , we are t...</td>\n",
       "      <td>million subscriber world largest subscription ...</td>\n",
       "      <td>NaN</td>\n",
       "      <td>5</td>\n",
       "    </tr>\n",
       "    <tr>\n",
       "      <th>988</th>\n",
       "      <td>2035</td>\n",
       "      <td>NaN</td>\n",
       "      <td>2011-02-18T19:42:40Z</td>\n",
       "      <td>NaN</td>\n",
       "      <td>financialEntities/params;cik=1065280</td>\n",
       "      <td>us with 20 million subscribers as of december ...</td>\n",
       "      <td>1065280</td>\n",
       "      <td>u with 20 million subscriber a of december 31 ...</td>\n",
       "      <td>u million subscriber december netflix netflix ...</td>\n",
       "      <td>NaN</td>\n",
       "      <td>5</td>\n",
       "    </tr>\n",
       "    <tr>\n",
       "      <th>989</th>\n",
       "      <td>2036</td>\n",
       "      <td>NaN</td>\n",
       "      <td>2012-02-10T22:29:24Z</td>\n",
       "      <td>NaN</td>\n",
       "      <td>financialEntities/params;cik=1065280</td>\n",
       "      <td>us netflix inc. (“netflix”, “the company”, “we...</td>\n",
       "      <td>1065280</td>\n",
       "      <td>u netflix inc. ( “ netflix ” , “ the company ”...</td>\n",
       "      <td>u netflix netflix company u world leading inte...</td>\n",
       "      <td>NaN</td>\n",
       "      <td>5</td>\n",
       "    </tr>\n",
       "  </tbody>\n",
       "</table>\n",
       "</div>"
      ],
      "text/plain": [
       "     index  Unnamed: 0            filingDate reportingDate  \\\n",
       "985   2032         NaN  2008-02-28T00:42:30Z           NaN   \n",
       "986   2033         NaN  2009-02-25T21:22:45Z           NaN   \n",
       "987   2034         NaN  2010-02-22T19:09:32Z           NaN   \n",
       "988   2035         NaN  2011-02-18T19:42:40Z           NaN   \n",
       "989   2036         NaN  2012-02-10T22:29:24Z           NaN   \n",
       "\n",
       "                          financialEntity  \\\n",
       "985  financialEntities/params;cik=1065280   \n",
       "986  financialEntities/params;cik=1065280   \n",
       "987  financialEntities/params;cik=1065280   \n",
       "988  financialEntities/params;cik=1065280   \n",
       "989  financialEntities/params;cik=1065280   \n",
       "\n",
       "                                         coDescription      CIK  \\\n",
       "985  we are the largest online movie rentalsubscrip...  1065280   \n",
       "986  with more than 10 millionsubscribers, we are t...  1065280   \n",
       "987  with more than12 million subscribers, we are t...  1065280   \n",
       "988  us with 20 million subscribers as of december ...  1065280   \n",
       "989  us netflix inc. (“netflix”, “the company”, “we...  1065280   \n",
       "\n",
       "                              coDescription_lemmatized  \\\n",
       "985  we are the largest online movie rentalsubscrip...   \n",
       "986  with more than 10 millionsubscribers , we are ...   \n",
       "987  with more than12 million subscriber , we are t...   \n",
       "988  u with 20 million subscriber a of december 31 ...   \n",
       "989  u netflix inc. ( “ netflix ” , “ the company ”...   \n",
       "\n",
       "                               coDescription_stopwords name  reports  \n",
       "985  largest online movie rentalsubscription servic...  NaN        5  \n",
       "986  millionsubscribers largest online movie rental...  NaN        5  \n",
       "987  million subscriber world largest subscription ...  NaN        5  \n",
       "988  u million subscriber december netflix netflix ...  NaN        5  \n",
       "989  u netflix netflix company u world leading inte...  NaN        5  "
      ]
     },
     "execution_count": 425,
     "metadata": {},
     "output_type": "execute_result"
    }
   ],
   "source": [
    "final[final[\"CIK\"] == 1065280]"
   ]
  },
  {
   "cell_type": "code",
   "execution_count": 137,
   "id": "5b280fca-9229-42ef-b82d-3db5ed7e69f6",
   "metadata": {},
   "outputs": [
    {
     "data": {
      "text/html": [
       "<div>\n",
       "<style scoped>\n",
       "    .dataframe tbody tr th:only-of-type {\n",
       "        vertical-align: middle;\n",
       "    }\n",
       "\n",
       "    .dataframe tbody tr th {\n",
       "        vertical-align: top;\n",
       "    }\n",
       "\n",
       "    .dataframe thead th {\n",
       "        text-align: right;\n",
       "    }\n",
       "</style>\n",
       "<table border=\"1\" class=\"dataframe\">\n",
       "  <thead>\n",
       "    <tr style=\"text-align: right;\">\n",
       "      <th></th>\n",
       "      <th>0</th>\n",
       "      <th>1</th>\n",
       "      <th>2</th>\n",
       "      <th>3</th>\n",
       "    </tr>\n",
       "  </thead>\n",
       "  <tbody>\n",
       "    <tr>\n",
       "      <th>37120</th>\n",
       "      <td>1065280</td>\n",
       "      <td>year 0 to year 1</td>\n",
       "      <td>business model</td>\n",
       "      <td>-0.090513</td>\n",
       "    </tr>\n",
       "    <tr>\n",
       "      <th>37121</th>\n",
       "      <td>1065280</td>\n",
       "      <td>year 0 to year 1</td>\n",
       "      <td>customer support</td>\n",
       "      <td>-0.070281</td>\n",
       "    </tr>\n",
       "    <tr>\n",
       "      <th>37122</th>\n",
       "      <td>1065280</td>\n",
       "      <td>year 0 to year 1</td>\n",
       "      <td>high level</td>\n",
       "      <td>-0.063121</td>\n",
       "    </tr>\n",
       "    <tr>\n",
       "      <th>37123</th>\n",
       "      <td>1065280</td>\n",
       "      <td>year 0 to year 1</td>\n",
       "      <td>proprietary technology</td>\n",
       "      <td>-0.058540</td>\n",
       "    </tr>\n",
       "    <tr>\n",
       "      <th>37124</th>\n",
       "      <td>1065280</td>\n",
       "      <td>year 0 to year 1</td>\n",
       "      <td>trademark service mark</td>\n",
       "      <td>0.045237</td>\n",
       "    </tr>\n",
       "    <tr>\n",
       "      <th>37140</th>\n",
       "      <td>1065280</td>\n",
       "      <td>year 1 to year 2</td>\n",
       "      <td>high level</td>\n",
       "      <td>0.107656</td>\n",
       "    </tr>\n",
       "    <tr>\n",
       "      <th>37141</th>\n",
       "      <td>1065280</td>\n",
       "      <td>year 1 to year 2</td>\n",
       "      <td>proprietary technology</td>\n",
       "      <td>-0.075274</td>\n",
       "    </tr>\n",
       "    <tr>\n",
       "      <th>37142</th>\n",
       "      <td>1065280</td>\n",
       "      <td>year 1 to year 2</td>\n",
       "      <td>license agreement</td>\n",
       "      <td>0.070997</td>\n",
       "    </tr>\n",
       "    <tr>\n",
       "      <th>37143</th>\n",
       "      <td>1065280</td>\n",
       "      <td>year 1 to year 2</td>\n",
       "      <td>third party</td>\n",
       "      <td>0.061127</td>\n",
       "    </tr>\n",
       "    <tr>\n",
       "      <th>37144</th>\n",
       "      <td>1065280</td>\n",
       "      <td>year 1 to year 2</td>\n",
       "      <td>intellectual property</td>\n",
       "      <td>0.045800</td>\n",
       "    </tr>\n",
       "    <tr>\n",
       "      <th>37160</th>\n",
       "      <td>1065280</td>\n",
       "      <td>year 2 to year 3</td>\n",
       "      <td>web site</td>\n",
       "      <td>-0.329749</td>\n",
       "    </tr>\n",
       "    <tr>\n",
       "      <th>37161</th>\n",
       "      <td>1065280</td>\n",
       "      <td>year 2 to year 3</td>\n",
       "      <td>investor relation</td>\n",
       "      <td>0.193429</td>\n",
       "    </tr>\n",
       "    <tr>\n",
       "      <th>37162</th>\n",
       "      <td>1065280</td>\n",
       "      <td>year 2 to year 3</td>\n",
       "      <td>united state</td>\n",
       "      <td>0.167081</td>\n",
       "    </tr>\n",
       "    <tr>\n",
       "      <th>37163</th>\n",
       "      <td>1065280</td>\n",
       "      <td>year 2 to year 3</td>\n",
       "      <td>sec filing</td>\n",
       "      <td>0.156990</td>\n",
       "    </tr>\n",
       "    <tr>\n",
       "      <th>37164</th>\n",
       "      <td>1065280</td>\n",
       "      <td>year 2 to year 3</td>\n",
       "      <td>third party</td>\n",
       "      <td>-0.140652</td>\n",
       "    </tr>\n",
       "  </tbody>\n",
       "</table>\n",
       "</div>"
      ],
      "text/plain": [
       "             0                 1                       2         3\n",
       "37120  1065280  year 0 to year 1          business model -0.090513\n",
       "37121  1065280  year 0 to year 1        customer support -0.070281\n",
       "37122  1065280  year 0 to year 1              high level -0.063121\n",
       "37123  1065280  year 0 to year 1  proprietary technology -0.058540\n",
       "37124  1065280  year 0 to year 1  trademark service mark  0.045237\n",
       "37140  1065280  year 1 to year 2              high level  0.107656\n",
       "37141  1065280  year 1 to year 2  proprietary technology -0.075274\n",
       "37142  1065280  year 1 to year 2       license agreement  0.070997\n",
       "37143  1065280  year 1 to year 2             third party  0.061127\n",
       "37144  1065280  year 1 to year 2   intellectual property  0.045800\n",
       "37160  1065280  year 2 to year 3                web site -0.329749\n",
       "37161  1065280  year 2 to year 3       investor relation  0.193429\n",
       "37162  1065280  year 2 to year 3            united state  0.167081\n",
       "37163  1065280  year 2 to year 3              sec filing  0.156990\n",
       "37164  1065280  year 2 to year 3             third party -0.140652"
      ]
     },
     "execution_count": 137,
     "metadata": {},
     "output_type": "execute_result"
    }
   ],
   "source": [
    "# Netflix\n",
    "delta_tfidf[delta_tfidf.iloc[:,0] == 1065280].iloc[:60,:].groupby(1).head(5)"
   ]
  },
  {
   "cell_type": "code",
   "execution_count": 138,
   "id": "956ba57b-1b3a-431f-ae59-8f5e72270468",
   "metadata": {},
   "outputs": [
    {
     "data": {
      "text/html": [
       "<div>\n",
       "<style scoped>\n",
       "    .dataframe tbody tr th:only-of-type {\n",
       "        vertical-align: middle;\n",
       "    }\n",
       "\n",
       "    .dataframe tbody tr th {\n",
       "        vertical-align: top;\n",
       "    }\n",
       "\n",
       "    .dataframe thead th {\n",
       "        text-align: right;\n",
       "    }\n",
       "</style>\n",
       "<table border=\"1\" class=\"dataframe\">\n",
       "  <thead>\n",
       "    <tr style=\"text-align: right;\">\n",
       "      <th></th>\n",
       "      <th>0</th>\n",
       "      <th>1</th>\n",
       "      <th>2</th>\n",
       "      <th>3</th>\n",
       "    </tr>\n",
       "  </thead>\n",
       "  <tbody>\n",
       "    <tr>\n",
       "      <th>4480</th>\n",
       "      <td>40545</td>\n",
       "      <td>year 0 to year 1</td>\n",
       "      <td>oil gas</td>\n",
       "      <td>0.102016</td>\n",
       "    </tr>\n",
       "    <tr>\n",
       "      <th>4481</th>\n",
       "      <td>40545</td>\n",
       "      <td>year 0 to year 1</td>\n",
       "      <td>financial service</td>\n",
       "      <td>0.078896</td>\n",
       "    </tr>\n",
       "    <tr>\n",
       "      <th>4482</th>\n",
       "      <td>40545</td>\n",
       "      <td>year 0 to year 1</td>\n",
       "      <td>product service</td>\n",
       "      <td>-0.072609</td>\n",
       "    </tr>\n",
       "    <tr>\n",
       "      <th>4483</th>\n",
       "      <td>40545</td>\n",
       "      <td>year 0 to year 1</td>\n",
       "      <td>latin america</td>\n",
       "      <td>-0.053397</td>\n",
       "    </tr>\n",
       "    <tr>\n",
       "      <th>4484</th>\n",
       "      <td>40545</td>\n",
       "      <td>year 0 to year 1</td>\n",
       "      <td>service segment</td>\n",
       "      <td>0.048993</td>\n",
       "    </tr>\n",
       "    <tr>\n",
       "      <th>4500</th>\n",
       "      <td>40545</td>\n",
       "      <td>year 1 to year 2</td>\n",
       "      <td>credit card</td>\n",
       "      <td>-0.094446</td>\n",
       "    </tr>\n",
       "    <tr>\n",
       "      <th>4501</th>\n",
       "      <td>40545</td>\n",
       "      <td>year 1 to year 2</td>\n",
       "      <td>financial service</td>\n",
       "      <td>-0.070196</td>\n",
       "    </tr>\n",
       "    <tr>\n",
       "      <th>4502</th>\n",
       "      <td>40545</td>\n",
       "      <td>year 1 to year 2</td>\n",
       "      <td>power generation</td>\n",
       "      <td>-0.058355</td>\n",
       "    </tr>\n",
       "    <tr>\n",
       "      <th>4503</th>\n",
       "      <td>40545</td>\n",
       "      <td>year 1 to year 2</td>\n",
       "      <td>real estate</td>\n",
       "      <td>-0.044985</td>\n",
       "    </tr>\n",
       "    <tr>\n",
       "      <th>4504</th>\n",
       "      <td>40545</td>\n",
       "      <td>year 1 to year 2</td>\n",
       "      <td>ownership interest</td>\n",
       "      <td>-0.040646</td>\n",
       "    </tr>\n",
       "    <tr>\n",
       "      <th>4520</th>\n",
       "      <td>40545</td>\n",
       "      <td>year 2 to year 3</td>\n",
       "      <td>real estate</td>\n",
       "      <td>0.056552</td>\n",
       "    </tr>\n",
       "    <tr>\n",
       "      <th>4521</th>\n",
       "      <td>40545</td>\n",
       "      <td>year 2 to year 3</td>\n",
       "      <td>north american</td>\n",
       "      <td>0.044998</td>\n",
       "    </tr>\n",
       "    <tr>\n",
       "      <th>4522</th>\n",
       "      <td>40545</td>\n",
       "      <td>year 2 to year 3</td>\n",
       "      <td>entered agreement</td>\n",
       "      <td>-0.044239</td>\n",
       "    </tr>\n",
       "    <tr>\n",
       "      <th>4523</th>\n",
       "      <td>40545</td>\n",
       "      <td>year 2 to year 3</td>\n",
       "      <td>financial service</td>\n",
       "      <td>-0.040023</td>\n",
       "    </tr>\n",
       "    <tr>\n",
       "      <th>4524</th>\n",
       "      <td>40545</td>\n",
       "      <td>year 2 to year 3</td>\n",
       "      <td>first quarter</td>\n",
       "      <td>0.038515</td>\n",
       "    </tr>\n",
       "  </tbody>\n",
       "</table>\n",
       "</div>"
      ],
      "text/plain": [
       "          0                 1                   2         3\n",
       "4480  40545  year 0 to year 1             oil gas  0.102016\n",
       "4481  40545  year 0 to year 1   financial service  0.078896\n",
       "4482  40545  year 0 to year 1     product service -0.072609\n",
       "4483  40545  year 0 to year 1       latin america -0.053397\n",
       "4484  40545  year 0 to year 1     service segment  0.048993\n",
       "4500  40545  year 1 to year 2         credit card -0.094446\n",
       "4501  40545  year 1 to year 2   financial service -0.070196\n",
       "4502  40545  year 1 to year 2    power generation -0.058355\n",
       "4503  40545  year 1 to year 2         real estate -0.044985\n",
       "4504  40545  year 1 to year 2  ownership interest -0.040646\n",
       "4520  40545  year 2 to year 3         real estate  0.056552\n",
       "4521  40545  year 2 to year 3      north american  0.044998\n",
       "4522  40545  year 2 to year 3   entered agreement -0.044239\n",
       "4523  40545  year 2 to year 3   financial service -0.040023\n",
       "4524  40545  year 2 to year 3       first quarter  0.038515"
      ]
     },
     "execution_count": 138,
     "metadata": {},
     "output_type": "execute_result"
    }
   ],
   "source": [
    "# GE\n",
    "delta_tfidf[delta_tfidf.iloc[:,0] == 40545].iloc[:60,:].groupby(1).head(5)"
   ]
  },
  {
   "cell_type": "markdown",
   "id": "b0617cf8-7d17-4362-9aab-97b4b644d63e",
   "metadata": {},
   "source": [
    "### word2vec"
   ]
  },
  {
   "cell_type": "code",
   "execution_count": 101,
   "id": "9c4af095-1042-4b1b-97aa-5a094b5a54b1",
   "metadata": {},
   "outputs": [],
   "source": [
    "!source /Users/richardye/Documents/Python/venv_ubineer/bin/activate\n",
    "# !pip3 install gensim"
   ]
  },
  {
   "cell_type": "code",
   "execution_count": 19,
   "id": "a90cf58f-af19-49b3-8745-1163801cac62",
   "metadata": {},
   "outputs": [],
   "source": [
    "from gensim.models.word2vec import Word2Vec\n",
    "from gensim import utils\n",
    "\n",
    "revs_processed = final[\"coDescription_stopwords\"].apply(lambda x: utils.simple_preprocess(x))\n",
    "\n",
    "# https://stackoverflow.com/questions/46560861/relation-between-word2vec-vector-size-and-total-number-of-words-scanned\n",
    "model_w = Word2Vec(revs_processed, vector_size = 300)\n",
    "\n",
    "def doc_to_vec(text):\n",
    "    word_vecs = [model_w.wv[w] for w in text if w in model_w.wv]\n",
    "    \n",
    "    if len(word_vecs) == 0:\n",
    "        return np.zeros(model_w.vector_size)\n",
    "    \n",
    "    return np.mean(word_vecs, axis = 0)\n",
    "\n",
    "doc_vec = pd.DataFrame(revs_processed.apply(doc_to_vec).tolist())"
   ]
  },
  {
   "cell_type": "code",
   "execution_count": 194,
   "id": "75ae1371-1829-42fd-8755-a7dbe2fe80f5",
   "metadata": {},
   "outputs": [
    {
     "data": {
      "text/html": [
       "<div>\n",
       "<style scoped>\n",
       "    .dataframe tbody tr th:only-of-type {\n",
       "        vertical-align: middle;\n",
       "    }\n",
       "\n",
       "    .dataframe tbody tr th {\n",
       "        vertical-align: top;\n",
       "    }\n",
       "\n",
       "    .dataframe thead th {\n",
       "        text-align: right;\n",
       "    }\n",
       "</style>\n",
       "<table border=\"1\" class=\"dataframe\">\n",
       "  <thead>\n",
       "    <tr style=\"text-align: right;\">\n",
       "      <th></th>\n",
       "      <th>0</th>\n",
       "      <th>1</th>\n",
       "      <th>2</th>\n",
       "      <th>3</th>\n",
       "      <th>4</th>\n",
       "      <th>5</th>\n",
       "      <th>6</th>\n",
       "      <th>7</th>\n",
       "      <th>8</th>\n",
       "      <th>9</th>\n",
       "      <th>...</th>\n",
       "      <th>290</th>\n",
       "      <th>291</th>\n",
       "      <th>292</th>\n",
       "      <th>293</th>\n",
       "      <th>294</th>\n",
       "      <th>295</th>\n",
       "      <th>296</th>\n",
       "      <th>297</th>\n",
       "      <th>298</th>\n",
       "      <th>299</th>\n",
       "    </tr>\n",
       "  </thead>\n",
       "  <tbody>\n",
       "    <tr>\n",
       "      <th>0</th>\n",
       "      <td>0.009517</td>\n",
       "      <td>-0.013210</td>\n",
       "      <td>0.079065</td>\n",
       "      <td>-0.332738</td>\n",
       "      <td>0.065420</td>\n",
       "      <td>-0.007519</td>\n",
       "      <td>-0.069939</td>\n",
       "      <td>-0.025315</td>\n",
       "      <td>-0.058547</td>\n",
       "      <td>0.246864</td>\n",
       "      <td>...</td>\n",
       "      <td>-0.065526</td>\n",
       "      <td>-0.252086</td>\n",
       "      <td>-0.361282</td>\n",
       "      <td>-0.095451</td>\n",
       "      <td>-0.049552</td>\n",
       "      <td>-0.321004</td>\n",
       "      <td>0.383740</td>\n",
       "      <td>-0.092042</td>\n",
       "      <td>-0.153100</td>\n",
       "      <td>-0.325175</td>\n",
       "    </tr>\n",
       "    <tr>\n",
       "      <th>1</th>\n",
       "      <td>-0.016417</td>\n",
       "      <td>-0.025366</td>\n",
       "      <td>0.117109</td>\n",
       "      <td>-0.430902</td>\n",
       "      <td>0.011103</td>\n",
       "      <td>0.008220</td>\n",
       "      <td>-0.026350</td>\n",
       "      <td>-0.005752</td>\n",
       "      <td>-0.030146</td>\n",
       "      <td>0.175318</td>\n",
       "      <td>...</td>\n",
       "      <td>-0.046777</td>\n",
       "      <td>-0.259325</td>\n",
       "      <td>-0.346337</td>\n",
       "      <td>-0.068789</td>\n",
       "      <td>0.001030</td>\n",
       "      <td>-0.299869</td>\n",
       "      <td>0.395795</td>\n",
       "      <td>-0.080161</td>\n",
       "      <td>-0.165734</td>\n",
       "      <td>-0.343454</td>\n",
       "    </tr>\n",
       "    <tr>\n",
       "      <th>2</th>\n",
       "      <td>-0.061375</td>\n",
       "      <td>-0.064662</td>\n",
       "      <td>0.016962</td>\n",
       "      <td>-0.279564</td>\n",
       "      <td>-0.118977</td>\n",
       "      <td>-0.011581</td>\n",
       "      <td>0.093095</td>\n",
       "      <td>0.095408</td>\n",
       "      <td>-0.057130</td>\n",
       "      <td>0.177360</td>\n",
       "      <td>...</td>\n",
       "      <td>0.109239</td>\n",
       "      <td>-0.291944</td>\n",
       "      <td>-0.178976</td>\n",
       "      <td>-0.190860</td>\n",
       "      <td>-0.008149</td>\n",
       "      <td>-0.183541</td>\n",
       "      <td>0.443665</td>\n",
       "      <td>-0.123611</td>\n",
       "      <td>0.119872</td>\n",
       "      <td>-0.203396</td>\n",
       "    </tr>\n",
       "    <tr>\n",
       "      <th>3</th>\n",
       "      <td>-0.036806</td>\n",
       "      <td>-0.028805</td>\n",
       "      <td>-0.047152</td>\n",
       "      <td>-0.250730</td>\n",
       "      <td>-0.126027</td>\n",
       "      <td>0.018226</td>\n",
       "      <td>0.047260</td>\n",
       "      <td>0.108688</td>\n",
       "      <td>-0.074064</td>\n",
       "      <td>0.140108</td>\n",
       "      <td>...</td>\n",
       "      <td>0.105849</td>\n",
       "      <td>-0.283592</td>\n",
       "      <td>-0.230690</td>\n",
       "      <td>-0.264897</td>\n",
       "      <td>-0.010821</td>\n",
       "      <td>-0.190353</td>\n",
       "      <td>0.465497</td>\n",
       "      <td>-0.122492</td>\n",
       "      <td>0.053042</td>\n",
       "      <td>-0.156138</td>\n",
       "    </tr>\n",
       "    <tr>\n",
       "      <th>4</th>\n",
       "      <td>-0.067413</td>\n",
       "      <td>0.004167</td>\n",
       "      <td>0.018844</td>\n",
       "      <td>-0.213798</td>\n",
       "      <td>-0.178140</td>\n",
       "      <td>0.015838</td>\n",
       "      <td>0.049419</td>\n",
       "      <td>0.061789</td>\n",
       "      <td>-0.066533</td>\n",
       "      <td>0.031930</td>\n",
       "      <td>...</td>\n",
       "      <td>0.077973</td>\n",
       "      <td>-0.297790</td>\n",
       "      <td>-0.183971</td>\n",
       "      <td>-0.292829</td>\n",
       "      <td>-0.045333</td>\n",
       "      <td>-0.174567</td>\n",
       "      <td>0.443539</td>\n",
       "      <td>-0.131158</td>\n",
       "      <td>0.093767</td>\n",
       "      <td>-0.203306</td>\n",
       "    </tr>\n",
       "    <tr>\n",
       "      <th>...</th>\n",
       "      <td>...</td>\n",
       "      <td>...</td>\n",
       "      <td>...</td>\n",
       "      <td>...</td>\n",
       "      <td>...</td>\n",
       "      <td>...</td>\n",
       "      <td>...</td>\n",
       "      <td>...</td>\n",
       "      <td>...</td>\n",
       "      <td>...</td>\n",
       "      <td>...</td>\n",
       "      <td>...</td>\n",
       "      <td>...</td>\n",
       "      <td>...</td>\n",
       "      <td>...</td>\n",
       "      <td>...</td>\n",
       "      <td>...</td>\n",
       "      <td>...</td>\n",
       "      <td>...</td>\n",
       "      <td>...</td>\n",
       "      <td>...</td>\n",
       "    </tr>\n",
       "    <tr>\n",
       "      <th>2043</th>\n",
       "      <td>0.055239</td>\n",
       "      <td>-0.205996</td>\n",
       "      <td>-0.282630</td>\n",
       "      <td>-0.195068</td>\n",
       "      <td>0.048660</td>\n",
       "      <td>0.078369</td>\n",
       "      <td>-0.012131</td>\n",
       "      <td>-0.119881</td>\n",
       "      <td>0.140382</td>\n",
       "      <td>0.225727</td>\n",
       "      <td>...</td>\n",
       "      <td>-0.078998</td>\n",
       "      <td>-0.142328</td>\n",
       "      <td>-0.453877</td>\n",
       "      <td>-0.274380</td>\n",
       "      <td>-0.120861</td>\n",
       "      <td>-0.147406</td>\n",
       "      <td>0.225723</td>\n",
       "      <td>-0.124773</td>\n",
       "      <td>0.037843</td>\n",
       "      <td>-0.098378</td>\n",
       "    </tr>\n",
       "    <tr>\n",
       "      <th>2044</th>\n",
       "      <td>-0.004756</td>\n",
       "      <td>-0.140422</td>\n",
       "      <td>-0.201505</td>\n",
       "      <td>-0.259205</td>\n",
       "      <td>0.109564</td>\n",
       "      <td>0.088514</td>\n",
       "      <td>-0.017453</td>\n",
       "      <td>-0.146930</td>\n",
       "      <td>0.088368</td>\n",
       "      <td>0.173700</td>\n",
       "      <td>...</td>\n",
       "      <td>-0.084721</td>\n",
       "      <td>-0.178648</td>\n",
       "      <td>-0.438579</td>\n",
       "      <td>-0.241105</td>\n",
       "      <td>-0.125613</td>\n",
       "      <td>-0.219026</td>\n",
       "      <td>0.215172</td>\n",
       "      <td>-0.173860</td>\n",
       "      <td>0.061374</td>\n",
       "      <td>-0.120276</td>\n",
       "    </tr>\n",
       "    <tr>\n",
       "      <th>2045</th>\n",
       "      <td>-0.002383</td>\n",
       "      <td>-0.160954</td>\n",
       "      <td>-0.236477</td>\n",
       "      <td>-0.255683</td>\n",
       "      <td>0.104195</td>\n",
       "      <td>0.075925</td>\n",
       "      <td>-0.017598</td>\n",
       "      <td>-0.140054</td>\n",
       "      <td>0.142079</td>\n",
       "      <td>0.182402</td>\n",
       "      <td>...</td>\n",
       "      <td>-0.092384</td>\n",
       "      <td>-0.139296</td>\n",
       "      <td>-0.482601</td>\n",
       "      <td>-0.273940</td>\n",
       "      <td>-0.146128</td>\n",
       "      <td>-0.214434</td>\n",
       "      <td>0.214641</td>\n",
       "      <td>-0.138830</td>\n",
       "      <td>0.105254</td>\n",
       "      <td>-0.084612</td>\n",
       "    </tr>\n",
       "    <tr>\n",
       "      <th>2046</th>\n",
       "      <td>0.210773</td>\n",
       "      <td>-0.218864</td>\n",
       "      <td>-0.286247</td>\n",
       "      <td>0.008813</td>\n",
       "      <td>0.283472</td>\n",
       "      <td>0.186947</td>\n",
       "      <td>-0.279355</td>\n",
       "      <td>-0.060969</td>\n",
       "      <td>-0.220914</td>\n",
       "      <td>0.361164</td>\n",
       "      <td>...</td>\n",
       "      <td>-0.193556</td>\n",
       "      <td>-0.123122</td>\n",
       "      <td>-0.348251</td>\n",
       "      <td>-0.465749</td>\n",
       "      <td>0.049070</td>\n",
       "      <td>-0.189821</td>\n",
       "      <td>-0.016485</td>\n",
       "      <td>-0.118712</td>\n",
       "      <td>0.132589</td>\n",
       "      <td>-0.099696</td>\n",
       "    </tr>\n",
       "    <tr>\n",
       "      <th>2047</th>\n",
       "      <td>0.225555</td>\n",
       "      <td>-0.220057</td>\n",
       "      <td>-0.256160</td>\n",
       "      <td>0.009962</td>\n",
       "      <td>0.311748</td>\n",
       "      <td>0.192231</td>\n",
       "      <td>-0.294570</td>\n",
       "      <td>-0.050368</td>\n",
       "      <td>-0.224291</td>\n",
       "      <td>0.362802</td>\n",
       "      <td>...</td>\n",
       "      <td>-0.207911</td>\n",
       "      <td>-0.093747</td>\n",
       "      <td>-0.319651</td>\n",
       "      <td>-0.440595</td>\n",
       "      <td>0.061576</td>\n",
       "      <td>-0.189475</td>\n",
       "      <td>-0.014141</td>\n",
       "      <td>-0.113127</td>\n",
       "      <td>0.134840</td>\n",
       "      <td>-0.078297</td>\n",
       "    </tr>\n",
       "  </tbody>\n",
       "</table>\n",
       "<p>2048 rows × 300 columns</p>\n",
       "</div>"
      ],
      "text/plain": [
       "           0         1         2         3         4         5         6    \\\n",
       "0     0.009517 -0.013210  0.079065 -0.332738  0.065420 -0.007519 -0.069939   \n",
       "1    -0.016417 -0.025366  0.117109 -0.430902  0.011103  0.008220 -0.026350   \n",
       "2    -0.061375 -0.064662  0.016962 -0.279564 -0.118977 -0.011581  0.093095   \n",
       "3    -0.036806 -0.028805 -0.047152 -0.250730 -0.126027  0.018226  0.047260   \n",
       "4    -0.067413  0.004167  0.018844 -0.213798 -0.178140  0.015838  0.049419   \n",
       "...        ...       ...       ...       ...       ...       ...       ...   \n",
       "2043  0.055239 -0.205996 -0.282630 -0.195068  0.048660  0.078369 -0.012131   \n",
       "2044 -0.004756 -0.140422 -0.201505 -0.259205  0.109564  0.088514 -0.017453   \n",
       "2045 -0.002383 -0.160954 -0.236477 -0.255683  0.104195  0.075925 -0.017598   \n",
       "2046  0.210773 -0.218864 -0.286247  0.008813  0.283472  0.186947 -0.279355   \n",
       "2047  0.225555 -0.220057 -0.256160  0.009962  0.311748  0.192231 -0.294570   \n",
       "\n",
       "           7         8         9    ...       290       291       292  \\\n",
       "0    -0.025315 -0.058547  0.246864  ... -0.065526 -0.252086 -0.361282   \n",
       "1    -0.005752 -0.030146  0.175318  ... -0.046777 -0.259325 -0.346337   \n",
       "2     0.095408 -0.057130  0.177360  ...  0.109239 -0.291944 -0.178976   \n",
       "3     0.108688 -0.074064  0.140108  ...  0.105849 -0.283592 -0.230690   \n",
       "4     0.061789 -0.066533  0.031930  ...  0.077973 -0.297790 -0.183971   \n",
       "...        ...       ...       ...  ...       ...       ...       ...   \n",
       "2043 -0.119881  0.140382  0.225727  ... -0.078998 -0.142328 -0.453877   \n",
       "2044 -0.146930  0.088368  0.173700  ... -0.084721 -0.178648 -0.438579   \n",
       "2045 -0.140054  0.142079  0.182402  ... -0.092384 -0.139296 -0.482601   \n",
       "2046 -0.060969 -0.220914  0.361164  ... -0.193556 -0.123122 -0.348251   \n",
       "2047 -0.050368 -0.224291  0.362802  ... -0.207911 -0.093747 -0.319651   \n",
       "\n",
       "           293       294       295       296       297       298       299  \n",
       "0    -0.095451 -0.049552 -0.321004  0.383740 -0.092042 -0.153100 -0.325175  \n",
       "1    -0.068789  0.001030 -0.299869  0.395795 -0.080161 -0.165734 -0.343454  \n",
       "2    -0.190860 -0.008149 -0.183541  0.443665 -0.123611  0.119872 -0.203396  \n",
       "3    -0.264897 -0.010821 -0.190353  0.465497 -0.122492  0.053042 -0.156138  \n",
       "4    -0.292829 -0.045333 -0.174567  0.443539 -0.131158  0.093767 -0.203306  \n",
       "...        ...       ...       ...       ...       ...       ...       ...  \n",
       "2043 -0.274380 -0.120861 -0.147406  0.225723 -0.124773  0.037843 -0.098378  \n",
       "2044 -0.241105 -0.125613 -0.219026  0.215172 -0.173860  0.061374 -0.120276  \n",
       "2045 -0.273940 -0.146128 -0.214434  0.214641 -0.138830  0.105254 -0.084612  \n",
       "2046 -0.465749  0.049070 -0.189821 -0.016485 -0.118712  0.132589 -0.099696  \n",
       "2047 -0.440595  0.061576 -0.189475 -0.014141 -0.113127  0.134840 -0.078297  \n",
       "\n",
       "[2048 rows x 300 columns]"
      ]
     },
     "execution_count": 194,
     "metadata": {},
     "output_type": "execute_result"
    }
   ],
   "source": [
    "doc_vec"
   ]
  },
  {
   "cell_type": "code",
   "execution_count": 264,
   "id": "3414de31-b562-431f-9414-2c1af1f8b5c0",
   "metadata": {},
   "outputs": [
    {
     "name": "stdout",
     "output_type": "stream",
     "text": [
      "(772, 303)\n"
     ]
    },
    {
     "data": {
      "text/html": [
       "<div>\n",
       "<style scoped>\n",
       "    .dataframe tbody tr th:only-of-type {\n",
       "        vertical-align: middle;\n",
       "    }\n",
       "\n",
       "    .dataframe tbody tr th {\n",
       "        vertical-align: top;\n",
       "    }\n",
       "\n",
       "    .dataframe thead th {\n",
       "        text-align: right;\n",
       "    }\n",
       "</style>\n",
       "<table border=\"1\" class=\"dataframe\">\n",
       "  <thead>\n",
       "    <tr style=\"text-align: right;\">\n",
       "      <th></th>\n",
       "      <th>filingDate</th>\n",
       "      <th>CIK</th>\n",
       "      <th>name</th>\n",
       "      <th>0</th>\n",
       "      <th>1</th>\n",
       "      <th>2</th>\n",
       "      <th>3</th>\n",
       "      <th>4</th>\n",
       "      <th>5</th>\n",
       "      <th>6</th>\n",
       "      <th>...</th>\n",
       "      <th>290</th>\n",
       "      <th>291</th>\n",
       "      <th>292</th>\n",
       "      <th>293</th>\n",
       "      <th>294</th>\n",
       "      <th>295</th>\n",
       "      <th>296</th>\n",
       "      <th>297</th>\n",
       "      <th>298</th>\n",
       "      <th>299</th>\n",
       "    </tr>\n",
       "  </thead>\n",
       "  <tbody>\n",
       "    <tr>\n",
       "      <th>0</th>\n",
       "      <td>2016-11-21 18:23:28 UTC</td>\n",
       "      <td>2969</td>\n",
       "      <td>NaN</td>\n",
       "      <td>0.009517</td>\n",
       "      <td>-0.013210</td>\n",
       "      <td>0.079065</td>\n",
       "      <td>-0.332738</td>\n",
       "      <td>0.065420</td>\n",
       "      <td>-0.007519</td>\n",
       "      <td>-0.069939</td>\n",
       "      <td>...</td>\n",
       "      <td>-0.065526</td>\n",
       "      <td>-0.252086</td>\n",
       "      <td>-0.361282</td>\n",
       "      <td>-0.095451</td>\n",
       "      <td>-0.049552</td>\n",
       "      <td>-0.321004</td>\n",
       "      <td>0.383740</td>\n",
       "      <td>-0.092042</td>\n",
       "      <td>-0.153100</td>\n",
       "      <td>-0.325175</td>\n",
       "    </tr>\n",
       "    <tr>\n",
       "      <th>2</th>\n",
       "      <td>2016-12-06 22:05:12 UTC</td>\n",
       "      <td>3545</td>\n",
       "      <td>NaN</td>\n",
       "      <td>-0.061375</td>\n",
       "      <td>-0.064662</td>\n",
       "      <td>0.016962</td>\n",
       "      <td>-0.279564</td>\n",
       "      <td>-0.118977</td>\n",
       "      <td>-0.011581</td>\n",
       "      <td>0.093095</td>\n",
       "      <td>...</td>\n",
       "      <td>0.109239</td>\n",
       "      <td>-0.291944</td>\n",
       "      <td>-0.178976</td>\n",
       "      <td>-0.190860</td>\n",
       "      <td>-0.008149</td>\n",
       "      <td>-0.183541</td>\n",
       "      <td>0.443665</td>\n",
       "      <td>-0.123611</td>\n",
       "      <td>0.119872</td>\n",
       "      <td>-0.203396</td>\n",
       "    </tr>\n",
       "    <tr>\n",
       "      <th>5</th>\n",
       "      <td>2016-05-25 20:19:47 UTC</td>\n",
       "      <td>4457</td>\n",
       "      <td>NaN</td>\n",
       "      <td>0.176092</td>\n",
       "      <td>-0.253310</td>\n",
       "      <td>-0.266960</td>\n",
       "      <td>-0.177318</td>\n",
       "      <td>0.086352</td>\n",
       "      <td>0.037556</td>\n",
       "      <td>-0.076362</td>\n",
       "      <td>...</td>\n",
       "      <td>-0.075205</td>\n",
       "      <td>-0.048872</td>\n",
       "      <td>-0.457400</td>\n",
       "      <td>-0.335159</td>\n",
       "      <td>-0.126705</td>\n",
       "      <td>-0.203595</td>\n",
       "      <td>0.385446</td>\n",
       "      <td>-0.087037</td>\n",
       "      <td>0.247290</td>\n",
       "      <td>-0.077992</td>\n",
       "    </tr>\n",
       "    <tr>\n",
       "      <th>8</th>\n",
       "      <td>2016-11-22 13:18:52 UTC</td>\n",
       "      <td>6281</td>\n",
       "      <td>NaN</td>\n",
       "      <td>0.249922</td>\n",
       "      <td>-0.166256</td>\n",
       "      <td>-0.230967</td>\n",
       "      <td>-0.060825</td>\n",
       "      <td>0.186671</td>\n",
       "      <td>0.060666</td>\n",
       "      <td>-0.065549</td>\n",
       "      <td>...</td>\n",
       "      <td>-0.123434</td>\n",
       "      <td>-0.076469</td>\n",
       "      <td>-0.424514</td>\n",
       "      <td>-0.304816</td>\n",
       "      <td>-0.084506</td>\n",
       "      <td>-0.141751</td>\n",
       "      <td>0.086332</td>\n",
       "      <td>-0.178513</td>\n",
       "      <td>0.042739</td>\n",
       "      <td>-0.065134</td>\n",
       "    </tr>\n",
       "    <tr>\n",
       "      <th>11</th>\n",
       "      <td>2016-03-30 20:30:15 UTC</td>\n",
       "      <td>6885</td>\n",
       "      <td>NaN</td>\n",
       "      <td>-0.103937</td>\n",
       "      <td>-0.205055</td>\n",
       "      <td>-0.351246</td>\n",
       "      <td>-0.290028</td>\n",
       "      <td>0.016289</td>\n",
       "      <td>0.135721</td>\n",
       "      <td>0.008612</td>\n",
       "      <td>...</td>\n",
       "      <td>-0.030486</td>\n",
       "      <td>-0.063995</td>\n",
       "      <td>-0.405331</td>\n",
       "      <td>-0.467986</td>\n",
       "      <td>-0.162420</td>\n",
       "      <td>-0.236339</td>\n",
       "      <td>0.234932</td>\n",
       "      <td>-0.195887</td>\n",
       "      <td>0.376875</td>\n",
       "      <td>0.102142</td>\n",
       "    </tr>\n",
       "  </tbody>\n",
       "</table>\n",
       "<p>5 rows × 303 columns</p>\n",
       "</div>"
      ],
      "text/plain": [
       "                 filingDate   CIK name         0         1         2  \\\n",
       "0   2016-11-21 18:23:28 UTC  2969  NaN  0.009517 -0.013210  0.079065   \n",
       "2   2016-12-06 22:05:12 UTC  3545  NaN -0.061375 -0.064662  0.016962   \n",
       "5   2016-05-25 20:19:47 UTC  4457  NaN  0.176092 -0.253310 -0.266960   \n",
       "8   2016-11-22 13:18:52 UTC  6281  NaN  0.249922 -0.166256 -0.230967   \n",
       "11  2016-03-30 20:30:15 UTC  6885  NaN -0.103937 -0.205055 -0.351246   \n",
       "\n",
       "           3         4         5         6  ...       290       291       292  \\\n",
       "0  -0.332738  0.065420 -0.007519 -0.069939  ... -0.065526 -0.252086 -0.361282   \n",
       "2  -0.279564 -0.118977 -0.011581  0.093095  ...  0.109239 -0.291944 -0.178976   \n",
       "5  -0.177318  0.086352  0.037556 -0.076362  ... -0.075205 -0.048872 -0.457400   \n",
       "8  -0.060825  0.186671  0.060666 -0.065549  ... -0.123434 -0.076469 -0.424514   \n",
       "11 -0.290028  0.016289  0.135721  0.008612  ... -0.030486 -0.063995 -0.405331   \n",
       "\n",
       "         293       294       295       296       297       298       299  \n",
       "0  -0.095451 -0.049552 -0.321004  0.383740 -0.092042 -0.153100 -0.325175  \n",
       "2  -0.190860 -0.008149 -0.183541  0.443665 -0.123611  0.119872 -0.203396  \n",
       "5  -0.335159 -0.126705 -0.203595  0.385446 -0.087037  0.247290 -0.077992  \n",
       "8  -0.304816 -0.084506 -0.141751  0.086332 -0.178513  0.042739 -0.065134  \n",
       "11 -0.467986 -0.162420 -0.236339  0.234932 -0.195887  0.376875  0.102142  \n",
       "\n",
       "[5 rows x 303 columns]"
      ]
     },
     "execution_count": 264,
     "metadata": {},
     "output_type": "execute_result"
    }
   ],
   "source": [
    "first_yr = pd.concat([final.loc[:,[\"filingDate\",\"CIK\", \"name\"]],doc_vec],axis = 1).groupby(\"CIK\").head(1)\n",
    "print(first_yr.shape)\n",
    "first_yr.head(5)"
   ]
  },
  {
   "cell_type": "code",
   "execution_count": 247,
   "id": "07c35868-b147-40c4-a5f2-fc5bb2a16786",
   "metadata": {},
   "outputs": [],
   "source": [
    "from sklearn.cluster import DBSCAN\n",
    "\n",
    "clustering = DBSCAN(eps=.05, min_samples=5, metric='cosine').fit(first_yr.iloc[:,3:])\n",
    "# clustering.labels_"
   ]
  },
  {
   "cell_type": "code",
   "execution_count": 248,
   "id": "0d9b4c3e-dcd1-4b1b-9fd1-8097567548e9",
   "metadata": {},
   "outputs": [
    {
     "data": {
      "text/plain": [
       "11"
      ]
     },
     "execution_count": 248,
     "metadata": {},
     "output_type": "execute_result"
    }
   ],
   "source": [
    "clustering.labels_.max()"
   ]
  },
  {
   "cell_type": "code",
   "execution_count": 255,
   "id": "a0b34aa6-cd3e-4299-85bb-67e670f74706",
   "metadata": {},
   "outputs": [
    {
     "name": "stdout",
     "output_type": "stream",
     "text": [
      "Frequency of unique values of the said array:\n",
      "[[ -1   0   1   2   3   4   5   6   7   8   9  10  11]\n",
      " [573  45  42   5  15   8  19  16  12  12   7  10   8]]\n"
     ]
    }
   ],
   "source": [
    "unique_elements, counts_elements = np.unique(clustering.labels_, return_counts=True)\n",
    "print(\"Frequency of unique values of the said array:\")\n",
    "print(np.asarray((unique_elements, counts_elements)))"
   ]
  },
  {
   "cell_type": "code",
   "execution_count": 259,
   "id": "ceb9a164-d327-466c-b203-aebfe2fa62e6",
   "metadata": {},
   "outputs": [
    {
     "data": {
      "text/html": [
       "<div>\n",
       "<style scoped>\n",
       "    .dataframe tbody tr th:only-of-type {\n",
       "        vertical-align: middle;\n",
       "    }\n",
       "\n",
       "    .dataframe tbody tr th {\n",
       "        vertical-align: top;\n",
       "    }\n",
       "\n",
       "    .dataframe thead th {\n",
       "        text-align: right;\n",
       "    }\n",
       "</style>\n",
       "<table border=\"1\" class=\"dataframe\">\n",
       "  <thead>\n",
       "    <tr style=\"text-align: right;\">\n",
       "      <th></th>\n",
       "      <th>0</th>\n",
       "      <th>1</th>\n",
       "      <th>2</th>\n",
       "      <th>3</th>\n",
       "      <th>4</th>\n",
       "      <th>5</th>\n",
       "      <th>6</th>\n",
       "      <th>7</th>\n",
       "      <th>8</th>\n",
       "      <th>9</th>\n",
       "      <th>...</th>\n",
       "      <th>290</th>\n",
       "      <th>291</th>\n",
       "      <th>292</th>\n",
       "      <th>293</th>\n",
       "      <th>294</th>\n",
       "      <th>295</th>\n",
       "      <th>296</th>\n",
       "      <th>297</th>\n",
       "      <th>298</th>\n",
       "      <th>299</th>\n",
       "    </tr>\n",
       "    <tr>\n",
       "      <th>cluster</th>\n",
       "      <th></th>\n",
       "      <th></th>\n",
       "      <th></th>\n",
       "      <th></th>\n",
       "      <th></th>\n",
       "      <th></th>\n",
       "      <th></th>\n",
       "      <th></th>\n",
       "      <th></th>\n",
       "      <th></th>\n",
       "      <th></th>\n",
       "      <th></th>\n",
       "      <th></th>\n",
       "      <th></th>\n",
       "      <th></th>\n",
       "      <th></th>\n",
       "      <th></th>\n",
       "      <th></th>\n",
       "      <th></th>\n",
       "      <th></th>\n",
       "      <th></th>\n",
       "    </tr>\n",
       "  </thead>\n",
       "  <tbody>\n",
       "    <tr>\n",
       "      <th>-1.0</th>\n",
       "      <td>0.043516</td>\n",
       "      <td>-0.093035</td>\n",
       "      <td>-0.125668</td>\n",
       "      <td>-0.192353</td>\n",
       "      <td>0.037369</td>\n",
       "      <td>0.022309</td>\n",
       "      <td>-0.013432</td>\n",
       "      <td>-0.031814</td>\n",
       "      <td>0.032051</td>\n",
       "      <td>0.150375</td>\n",
       "      <td>...</td>\n",
       "      <td>-0.087162</td>\n",
       "      <td>-0.136519</td>\n",
       "      <td>-0.259255</td>\n",
       "      <td>-0.286363</td>\n",
       "      <td>-0.088935</td>\n",
       "      <td>-0.174647</td>\n",
       "      <td>0.253117</td>\n",
       "      <td>-0.162599</td>\n",
       "      <td>0.049256</td>\n",
       "      <td>-0.136913</td>\n",
       "    </tr>\n",
       "    <tr>\n",
       "      <th>0.0</th>\n",
       "      <td>0.036436</td>\n",
       "      <td>-0.070587</td>\n",
       "      <td>-0.084151</td>\n",
       "      <td>-0.291404</td>\n",
       "      <td>0.029376</td>\n",
       "      <td>0.031674</td>\n",
       "      <td>-0.012162</td>\n",
       "      <td>-0.016897</td>\n",
       "      <td>0.000372</td>\n",
       "      <td>0.117107</td>\n",
       "      <td>...</td>\n",
       "      <td>-0.078077</td>\n",
       "      <td>-0.199640</td>\n",
       "      <td>-0.216722</td>\n",
       "      <td>-0.168231</td>\n",
       "      <td>-0.080043</td>\n",
       "      <td>-0.197493</td>\n",
       "      <td>0.291936</td>\n",
       "      <td>-0.195527</td>\n",
       "      <td>0.041574</td>\n",
       "      <td>-0.221507</td>\n",
       "    </tr>\n",
       "    <tr>\n",
       "      <th>1.0</th>\n",
       "      <td>0.012000</td>\n",
       "      <td>-0.107308</td>\n",
       "      <td>-0.145454</td>\n",
       "      <td>-0.184906</td>\n",
       "      <td>0.070397</td>\n",
       "      <td>0.085436</td>\n",
       "      <td>-0.053250</td>\n",
       "      <td>-0.050199</td>\n",
       "      <td>0.005715</td>\n",
       "      <td>0.183579</td>\n",
       "      <td>...</td>\n",
       "      <td>-0.080471</td>\n",
       "      <td>-0.169329</td>\n",
       "      <td>-0.279521</td>\n",
       "      <td>-0.286146</td>\n",
       "      <td>-0.135551</td>\n",
       "      <td>-0.190639</td>\n",
       "      <td>0.204228</td>\n",
       "      <td>-0.173049</td>\n",
       "      <td>0.058153</td>\n",
       "      <td>-0.094907</td>\n",
       "    </tr>\n",
       "    <tr>\n",
       "      <th>2.0</th>\n",
       "      <td>0.300087</td>\n",
       "      <td>0.035374</td>\n",
       "      <td>-0.326333</td>\n",
       "      <td>-0.026528</td>\n",
       "      <td>0.230408</td>\n",
       "      <td>-0.192268</td>\n",
       "      <td>-0.010829</td>\n",
       "      <td>0.184960</td>\n",
       "      <td>-0.086049</td>\n",
       "      <td>0.049947</td>\n",
       "      <td>...</td>\n",
       "      <td>-0.197359</td>\n",
       "      <td>-0.028252</td>\n",
       "      <td>-0.299562</td>\n",
       "      <td>-0.251241</td>\n",
       "      <td>0.098986</td>\n",
       "      <td>-0.022272</td>\n",
       "      <td>0.114863</td>\n",
       "      <td>-0.204754</td>\n",
       "      <td>-0.223695</td>\n",
       "      <td>-0.275910</td>\n",
       "    </tr>\n",
       "    <tr>\n",
       "      <th>3.0</th>\n",
       "      <td>-0.075538</td>\n",
       "      <td>-0.065743</td>\n",
       "      <td>0.018088</td>\n",
       "      <td>-0.221746</td>\n",
       "      <td>0.002614</td>\n",
       "      <td>0.053842</td>\n",
       "      <td>0.019783</td>\n",
       "      <td>-0.059683</td>\n",
       "      <td>0.107498</td>\n",
       "      <td>0.101962</td>\n",
       "      <td>...</td>\n",
       "      <td>-0.139130</td>\n",
       "      <td>-0.203939</td>\n",
       "      <td>-0.075144</td>\n",
       "      <td>-0.226358</td>\n",
       "      <td>-0.181017</td>\n",
       "      <td>-0.160445</td>\n",
       "      <td>0.190352</td>\n",
       "      <td>-0.163895</td>\n",
       "      <td>0.094079</td>\n",
       "      <td>-0.138180</td>\n",
       "    </tr>\n",
       "  </tbody>\n",
       "</table>\n",
       "<p>5 rows × 300 columns</p>\n",
       "</div>"
      ],
      "text/plain": [
       "              0         1         2         3         4         5         6    \\\n",
       "cluster                                                                         \n",
       "-1.0     0.043516 -0.093035 -0.125668 -0.192353  0.037369  0.022309 -0.013432   \n",
       " 0.0     0.036436 -0.070587 -0.084151 -0.291404  0.029376  0.031674 -0.012162   \n",
       " 1.0     0.012000 -0.107308 -0.145454 -0.184906  0.070397  0.085436 -0.053250   \n",
       " 2.0     0.300087  0.035374 -0.326333 -0.026528  0.230408 -0.192268 -0.010829   \n",
       " 3.0    -0.075538 -0.065743  0.018088 -0.221746  0.002614  0.053842  0.019783   \n",
       "\n",
       "              7         8         9    ...       290       291       292  \\\n",
       "cluster                                ...                                 \n",
       "-1.0    -0.031814  0.032051  0.150375  ... -0.087162 -0.136519 -0.259255   \n",
       " 0.0    -0.016897  0.000372  0.117107  ... -0.078077 -0.199640 -0.216722   \n",
       " 1.0    -0.050199  0.005715  0.183579  ... -0.080471 -0.169329 -0.279521   \n",
       " 2.0     0.184960 -0.086049  0.049947  ... -0.197359 -0.028252 -0.299562   \n",
       " 3.0    -0.059683  0.107498  0.101962  ... -0.139130 -0.203939 -0.075144   \n",
       "\n",
       "              293       294       295       296       297       298       299  \n",
       "cluster                                                                        \n",
       "-1.0    -0.286363 -0.088935 -0.174647  0.253117 -0.162599  0.049256 -0.136913  \n",
       " 0.0    -0.168231 -0.080043 -0.197493  0.291936 -0.195527  0.041574 -0.221507  \n",
       " 1.0    -0.286146 -0.135551 -0.190639  0.204228 -0.173049  0.058153 -0.094907  \n",
       " 2.0    -0.251241  0.098986 -0.022272  0.114863 -0.204754 -0.223695 -0.275910  \n",
       " 3.0    -0.226358 -0.181017 -0.160445  0.190352 -0.163895  0.094079 -0.138180  \n",
       "\n",
       "[5 rows x 300 columns]"
      ]
     },
     "execution_count": 259,
     "metadata": {},
     "output_type": "execute_result"
    }
   ],
   "source": [
    "centers_w2v = pd.concat([first_yr.iloc[:,3:],pd.Series(clustering.labels_, name = \"cluster\")], axis = 1) \\\n",
    "    .groupby(\"cluster\").mean()\n",
    "centers_w2v.head()"
   ]
  },
  {
   "cell_type": "code",
   "execution_count": 359,
   "id": "3456df14-42e1-4783-8962-0b0e846dbc35",
   "metadata": {},
   "outputs": [
    {
     "data": {
      "text/html": [
       "<div>\n",
       "<style scoped>\n",
       "    .dataframe tbody tr th:only-of-type {\n",
       "        vertical-align: middle;\n",
       "    }\n",
       "\n",
       "    .dataframe tbody tr th {\n",
       "        vertical-align: top;\n",
       "    }\n",
       "\n",
       "    .dataframe thead th {\n",
       "        text-align: right;\n",
       "    }\n",
       "</style>\n",
       "<table border=\"1\" class=\"dataframe\">\n",
       "  <thead>\n",
       "    <tr style=\"text-align: right;\">\n",
       "      <th></th>\n",
       "      <th>filingDate</th>\n",
       "      <th>CIK</th>\n",
       "      <th>name</th>\n",
       "      <th>0</th>\n",
       "      <th>1</th>\n",
       "      <th>2</th>\n",
       "      <th>3</th>\n",
       "      <th>4</th>\n",
       "      <th>5</th>\n",
       "      <th>6</th>\n",
       "      <th>7</th>\n",
       "      <th>8</th>\n",
       "      <th>9</th>\n",
       "      <th>10</th>\n",
       "      <th>11</th>\n",
       "      <th>12</th>\n",
       "    </tr>\n",
       "  </thead>\n",
       "  <tbody>\n",
       "    <tr>\n",
       "      <th>0</th>\n",
       "      <td>2016-11-21 18:23:28 UTC</td>\n",
       "      <td>2969</td>\n",
       "      <td>NaN</td>\n",
       "      <td>0.865812</td>\n",
       "      <td>0.898553</td>\n",
       "      <td>0.846260</td>\n",
       "      <td>0.536445</td>\n",
       "      <td>0.788047</td>\n",
       "      <td>0.649677</td>\n",
       "      <td>0.845175</td>\n",
       "      <td>0.881989</td>\n",
       "      <td>0.677972</td>\n",
       "      <td>0.858057</td>\n",
       "      <td>0.646804</td>\n",
       "      <td>0.790937</td>\n",
       "      <td>0.881994</td>\n",
       "    </tr>\n",
       "    <tr>\n",
       "      <th>1</th>\n",
       "      <td>2016-12-06 22:05:12 UTC</td>\n",
       "      <td>3545</td>\n",
       "      <td>NaN</td>\n",
       "      <td>0.798359</td>\n",
       "      <td>0.858663</td>\n",
       "      <td>0.757223</td>\n",
       "      <td>0.420128</td>\n",
       "      <td>0.791714</td>\n",
       "      <td>0.599725</td>\n",
       "      <td>0.823324</td>\n",
       "      <td>0.791086</td>\n",
       "      <td>0.709806</td>\n",
       "      <td>0.727634</td>\n",
       "      <td>0.738690</td>\n",
       "      <td>0.766263</td>\n",
       "      <td>0.797703</td>\n",
       "    </tr>\n",
       "    <tr>\n",
       "      <th>2</th>\n",
       "      <td>2016-05-25 20:19:47 UTC</td>\n",
       "      <td>4457</td>\n",
       "      <td>NaN</td>\n",
       "      <td>0.884681</td>\n",
       "      <td>0.839099</td>\n",
       "      <td>0.873216</td>\n",
       "      <td>0.534034</td>\n",
       "      <td>0.767825</td>\n",
       "      <td>0.678926</td>\n",
       "      <td>0.846575</td>\n",
       "      <td>0.846114</td>\n",
       "      <td>0.705193</td>\n",
       "      <td>0.853382</td>\n",
       "      <td>0.618042</td>\n",
       "      <td>0.760412</td>\n",
       "      <td>0.846183</td>\n",
       "    </tr>\n",
       "    <tr>\n",
       "      <th>3</th>\n",
       "      <td>2016-11-22 13:18:52 UTC</td>\n",
       "      <td>6281</td>\n",
       "      <td>NaN</td>\n",
       "      <td>0.880192</td>\n",
       "      <td>0.799007</td>\n",
       "      <td>0.892369</td>\n",
       "      <td>0.744999</td>\n",
       "      <td>0.729598</td>\n",
       "      <td>0.767509</td>\n",
       "      <td>0.856727</td>\n",
       "      <td>0.883313</td>\n",
       "      <td>0.704064</td>\n",
       "      <td>0.862051</td>\n",
       "      <td>0.573879</td>\n",
       "      <td>0.832750</td>\n",
       "      <td>0.817020</td>\n",
       "    </tr>\n",
       "    <tr>\n",
       "      <th>4</th>\n",
       "      <td>2016-03-30 20:30:15 UTC</td>\n",
       "      <td>6885</td>\n",
       "      <td>NaN</td>\n",
       "      <td>0.839455</td>\n",
       "      <td>0.771238</td>\n",
       "      <td>0.857886</td>\n",
       "      <td>0.513473</td>\n",
       "      <td>0.794338</td>\n",
       "      <td>0.630891</td>\n",
       "      <td>0.798446</td>\n",
       "      <td>0.746068</td>\n",
       "      <td>0.729955</td>\n",
       "      <td>0.739202</td>\n",
       "      <td>0.636739</td>\n",
       "      <td>0.766163</td>\n",
       "      <td>0.746417</td>\n",
       "    </tr>\n",
       "    <tr>\n",
       "      <th>...</th>\n",
       "      <td>...</td>\n",
       "      <td>...</td>\n",
       "      <td>...</td>\n",
       "      <td>...</td>\n",
       "      <td>...</td>\n",
       "      <td>...</td>\n",
       "      <td>...</td>\n",
       "      <td>...</td>\n",
       "      <td>...</td>\n",
       "      <td>...</td>\n",
       "      <td>...</td>\n",
       "      <td>...</td>\n",
       "      <td>...</td>\n",
       "      <td>...</td>\n",
       "      <td>...</td>\n",
       "      <td>...</td>\n",
       "    </tr>\n",
       "    <tr>\n",
       "      <th>767</th>\n",
       "      <td>2016-11-29 11:20:01 UTC</td>\n",
       "      <td>1666138</td>\n",
       "      <td>NaN</td>\n",
       "      <td>0.515328</td>\n",
       "      <td>0.594420</td>\n",
       "      <td>0.514203</td>\n",
       "      <td>0.392870</td>\n",
       "      <td>0.579550</td>\n",
       "      <td>0.574558</td>\n",
       "      <td>0.546706</td>\n",
       "      <td>0.592880</td>\n",
       "      <td>0.560342</td>\n",
       "      <td>0.511825</td>\n",
       "      <td>0.571861</td>\n",
       "      <td>0.575289</td>\n",
       "      <td>0.442404</td>\n",
       "    </tr>\n",
       "    <tr>\n",
       "      <th>768</th>\n",
       "      <td>2017-10-30 20:18:37 UTC</td>\n",
       "      <td>1667313</td>\n",
       "      <td>ZEDGE, INC.</td>\n",
       "      <td>0.225134</td>\n",
       "      <td>0.347196</td>\n",
       "      <td>0.177000</td>\n",
       "      <td>0.073943</td>\n",
       "      <td>0.404259</td>\n",
       "      <td>0.200264</td>\n",
       "      <td>0.247484</td>\n",
       "      <td>0.269672</td>\n",
       "      <td>0.262647</td>\n",
       "      <td>0.186963</td>\n",
       "      <td>0.452190</td>\n",
       "      <td>0.295213</td>\n",
       "      <td>0.146773</td>\n",
       "    </tr>\n",
       "    <tr>\n",
       "      <th>769</th>\n",
       "      <td>2018-11-19 14:03:44 UTC</td>\n",
       "      <td>1674862</td>\n",
       "      <td>NaN</td>\n",
       "      <td>0.788578</td>\n",
       "      <td>0.747368</td>\n",
       "      <td>0.784280</td>\n",
       "      <td>0.736071</td>\n",
       "      <td>0.651404</td>\n",
       "      <td>0.679548</td>\n",
       "      <td>0.753062</td>\n",
       "      <td>0.803060</td>\n",
       "      <td>0.698563</td>\n",
       "      <td>0.788599</td>\n",
       "      <td>0.457858</td>\n",
       "      <td>0.747190</td>\n",
       "      <td>0.831609</td>\n",
       "    </tr>\n",
       "    <tr>\n",
       "      <th>770</th>\n",
       "      <td>2016-12-19 14:14:40 UTC</td>\n",
       "      <td>1674910</td>\n",
       "      <td>NaN</td>\n",
       "      <td>0.920737</td>\n",
       "      <td>0.875646</td>\n",
       "      <td>0.917804</td>\n",
       "      <td>0.597479</td>\n",
       "      <td>0.826462</td>\n",
       "      <td>0.717261</td>\n",
       "      <td>0.881306</td>\n",
       "      <td>0.881052</td>\n",
       "      <td>0.766654</td>\n",
       "      <td>0.867880</td>\n",
       "      <td>0.651432</td>\n",
       "      <td>0.819768</td>\n",
       "      <td>0.909363</td>\n",
       "    </tr>\n",
       "    <tr>\n",
       "      <th>771</th>\n",
       "      <td>2019-09-18T21:17:24Z</td>\n",
       "      <td>1713683</td>\n",
       "      <td>NaN</td>\n",
       "      <td>0.765527</td>\n",
       "      <td>0.676833</td>\n",
       "      <td>0.800665</td>\n",
       "      <td>0.706694</td>\n",
       "      <td>0.638852</td>\n",
       "      <td>0.784294</td>\n",
       "      <td>0.753509</td>\n",
       "      <td>0.733773</td>\n",
       "      <td>0.682925</td>\n",
       "      <td>0.777828</td>\n",
       "      <td>0.542806</td>\n",
       "      <td>0.722891</td>\n",
       "      <td>0.674803</td>\n",
       "    </tr>\n",
       "  </tbody>\n",
       "</table>\n",
       "<p>772 rows × 16 columns</p>\n",
       "</div>"
      ],
      "text/plain": [
       "                  filingDate      CIK         name         0         1  \\\n",
       "0    2016-11-21 18:23:28 UTC     2969          NaN  0.865812  0.898553   \n",
       "1    2016-12-06 22:05:12 UTC     3545          NaN  0.798359  0.858663   \n",
       "2    2016-05-25 20:19:47 UTC     4457          NaN  0.884681  0.839099   \n",
       "3    2016-11-22 13:18:52 UTC     6281          NaN  0.880192  0.799007   \n",
       "4    2016-03-30 20:30:15 UTC     6885          NaN  0.839455  0.771238   \n",
       "..                       ...      ...          ...       ...       ...   \n",
       "767  2016-11-29 11:20:01 UTC  1666138          NaN  0.515328  0.594420   \n",
       "768  2017-10-30 20:18:37 UTC  1667313  ZEDGE, INC.  0.225134  0.347196   \n",
       "769  2018-11-19 14:03:44 UTC  1674862          NaN  0.788578  0.747368   \n",
       "770  2016-12-19 14:14:40 UTC  1674910          NaN  0.920737  0.875646   \n",
       "771     2019-09-18T21:17:24Z  1713683          NaN  0.765527  0.676833   \n",
       "\n",
       "            2         3         4         5         6         7         8  \\\n",
       "0    0.846260  0.536445  0.788047  0.649677  0.845175  0.881989  0.677972   \n",
       "1    0.757223  0.420128  0.791714  0.599725  0.823324  0.791086  0.709806   \n",
       "2    0.873216  0.534034  0.767825  0.678926  0.846575  0.846114  0.705193   \n",
       "3    0.892369  0.744999  0.729598  0.767509  0.856727  0.883313  0.704064   \n",
       "4    0.857886  0.513473  0.794338  0.630891  0.798446  0.746068  0.729955   \n",
       "..        ...       ...       ...       ...       ...       ...       ...   \n",
       "767  0.514203  0.392870  0.579550  0.574558  0.546706  0.592880  0.560342   \n",
       "768  0.177000  0.073943  0.404259  0.200264  0.247484  0.269672  0.262647   \n",
       "769  0.784280  0.736071  0.651404  0.679548  0.753062  0.803060  0.698563   \n",
       "770  0.917804  0.597479  0.826462  0.717261  0.881306  0.881052  0.766654   \n",
       "771  0.800665  0.706694  0.638852  0.784294  0.753509  0.733773  0.682925   \n",
       "\n",
       "            9        10        11        12  \n",
       "0    0.858057  0.646804  0.790937  0.881994  \n",
       "1    0.727634  0.738690  0.766263  0.797703  \n",
       "2    0.853382  0.618042  0.760412  0.846183  \n",
       "3    0.862051  0.573879  0.832750  0.817020  \n",
       "4    0.739202  0.636739  0.766163  0.746417  \n",
       "..        ...       ...       ...       ...  \n",
       "767  0.511825  0.571861  0.575289  0.442404  \n",
       "768  0.186963  0.452190  0.295213  0.146773  \n",
       "769  0.788599  0.457858  0.747190  0.831609  \n",
       "770  0.867880  0.651432  0.819768  0.909363  \n",
       "771  0.777828  0.542806  0.722891  0.674803  \n",
       "\n",
       "[772 rows x 16 columns]"
      ]
     },
     "execution_count": 359,
     "metadata": {},
     "output_type": "execute_result"
    }
   ],
   "source": [
    "from sklearn.metrics.pairwise import cosine_similarity\n",
    "# get distances to each cluster center created based on first year filings\n",
    "# want to find representative companies for each cluster\n",
    "cosine_dist = pd.concat([first_yr.loc[:,[\"filingDate\",\"CIK\", \"name\"]].reset_index(drop=True),\n",
    "                         pd.DataFrame(cosine_similarity(first_yr.iloc[:,3:],centers_w2v))],axis = 1)\n",
    "cosine_dist\n",
    "# pd.concat([first_yr.loc[:,[\"filingDate\",\"CIK\", \"name\"]],\n",
    "#            pd.DataFrame(cosine_similarity(first_yr.iloc[:,3:],centers_w2v))], axis = 1)"
   ]
  },
  {
   "cell_type": "code",
   "execution_count": 360,
   "id": "678ebc83-ee6b-4426-9344-5b148a7f7bcc",
   "metadata": {},
   "outputs": [
    {
     "data": {
      "text/plain": [
       "[29      nual report on form 10-k (“report”) contains c...\n",
       " 75      neral development of businessthe eastern compa...\n",
       " 112     al  unless otherwise indicated by the context,...\n",
       " 784     general  we incorporated as helen of troy corp...\n",
       " 1053    meritor, inc. (we, us or our), headquartered i...\n",
       " Name: coDescription, dtype: object,\n",
       " 75     neral development of businessthe eastern compa...\n",
       " 85     unless the context otherwise requires, the ter...\n",
       " 186    e electronics, inc. was incorporated in 1946 a...\n",
       " 232    ndustries, inc. (the company or raven) was inc...\n",
       " 921    rockwell automation, inc. (rockwell automation...\n",
       " Name: coDescription, dtype: object,\n",
       " 775     moduslink global solutions, inc. (together wit...\n",
       " 784     general  we incorporated as helen of troy corp...\n",
       " 1053    meritor, inc. (we, us or our), headquartered i...\n",
       " 1143    a fortune 500 corporation and a leading busine...\n",
       " 1170    we manage, value, and sell inventory and equip...\n",
       " Name: coDescription, dtype: object]"
      ]
     },
     "execution_count": 360,
     "metadata": {},
     "output_type": "execute_result"
    }
   ],
   "source": [
    "cluster_companies = []\n",
    "for i in np.arange(3,cosine_dist.shape[1]):\n",
    "    rank = cosine_dist.iloc[:,i].sort_values(ascending = False).index.tolist()[:5]\n",
    "    CIK = first_yr.iloc[rank,1]\n",
    "    rep_words = final[final[\"CIK\"].isin(CIK)].groupby(\"CIK\").head(1).loc[:,\"coDescription\"]\n",
    "    cluster_companies.append(rep_words)\n",
    "cluster_companies[:3]"
   ]
  },
  {
   "cell_type": "code",
   "execution_count": 369,
   "id": "5e08288a-db72-4db1-9724-7b69dd3f1a1e",
   "metadata": {},
   "outputs": [],
   "source": [
    "all_w2v = pd.concat([final.loc[:,[\"filingDate\",\"CIK\", \"name\"]],doc_vec],axis = 1)\n",
    "yr_2_dist = all_w2v[all_w2v.groupby(\"CIK\").cumcount() == 1]\n",
    "yr_3_dist = all_w2v[all_w2v.groupby(\"CIK\").cumcount() == 2]\n",
    "\n",
    "cosine_dist_2 = pd.concat([yr_2_dist.loc[:,[\"filingDate\",\"CIK\", \"name\"]].reset_index(drop=True),\n",
    "                           pd.DataFrame(cosine_similarity(yr_2_dist.iloc[:,3:],centers_w2v))],axis = 1)\n",
    "cosine_dist_3 = pd.concat([yr_3_dist.loc[:,[\"filingDate\",\"CIK\", \"name\"]].reset_index(drop=True),\n",
    "                           pd.DataFrame(cosine_similarity(yr_3_dist.iloc[:,3:],centers_w2v))],axis = 1)"
   ]
  },
  {
   "cell_type": "code",
   "execution_count": 408,
   "id": "ab3088c0-6a02-46ce-8be3-daf1693d0b89",
   "metadata": {},
   "outputs": [
    {
     "data": {
      "text/html": [
       "<div>\n",
       "<style scoped>\n",
       "    .dataframe tbody tr th:only-of-type {\n",
       "        vertical-align: middle;\n",
       "    }\n",
       "\n",
       "    .dataframe tbody tr th {\n",
       "        vertical-align: top;\n",
       "    }\n",
       "\n",
       "    .dataframe thead th {\n",
       "        text-align: right;\n",
       "    }\n",
       "</style>\n",
       "<table border=\"1\" class=\"dataframe\">\n",
       "  <thead>\n",
       "    <tr style=\"text-align: right;\">\n",
       "      <th></th>\n",
       "      <th>CIK</th>\n",
       "      <th>0</th>\n",
       "      <th>1</th>\n",
       "      <th>2</th>\n",
       "      <th>3</th>\n",
       "      <th>4</th>\n",
       "      <th>5</th>\n",
       "      <th>6</th>\n",
       "      <th>7</th>\n",
       "      <th>8</th>\n",
       "      <th>9</th>\n",
       "      <th>10</th>\n",
       "      <th>11</th>\n",
       "      <th>12</th>\n",
       "    </tr>\n",
       "  </thead>\n",
       "  <tbody>\n",
       "    <tr>\n",
       "      <th>0</th>\n",
       "      <td>2969</td>\n",
       "      <td>-0.036250</td>\n",
       "      <td>-0.014816</td>\n",
       "      <td>-0.050012</td>\n",
       "      <td>-0.072755</td>\n",
       "      <td>-0.018151</td>\n",
       "      <td>-0.056763</td>\n",
       "      <td>-0.034329</td>\n",
       "      <td>-0.039330</td>\n",
       "      <td>-0.011701</td>\n",
       "      <td>-0.042185</td>\n",
       "      <td>-0.000603</td>\n",
       "      <td>-0.048823</td>\n",
       "      <td>-0.015091</td>\n",
       "    </tr>\n",
       "    <tr>\n",
       "      <th>1</th>\n",
       "      <td>3545</td>\n",
       "      <td>0.023620</td>\n",
       "      <td>0.001328</td>\n",
       "      <td>0.026761</td>\n",
       "      <td>0.056650</td>\n",
       "      <td>-0.009959</td>\n",
       "      <td>0.026122</td>\n",
       "      <td>0.023047</td>\n",
       "      <td>0.012490</td>\n",
       "      <td>0.033043</td>\n",
       "      <td>0.030007</td>\n",
       "      <td>-0.004873</td>\n",
       "      <td>0.009195</td>\n",
       "      <td>0.035635</td>\n",
       "    </tr>\n",
       "    <tr>\n",
       "      <th>2</th>\n",
       "      <td>4457</td>\n",
       "      <td>0.010783</td>\n",
       "      <td>0.012312</td>\n",
       "      <td>0.010657</td>\n",
       "      <td>0.012857</td>\n",
       "      <td>0.015130</td>\n",
       "      <td>0.014712</td>\n",
       "      <td>0.010835</td>\n",
       "      <td>0.010485</td>\n",
       "      <td>0.019882</td>\n",
       "      <td>0.010519</td>\n",
       "      <td>0.014385</td>\n",
       "      <td>0.011121</td>\n",
       "      <td>0.011037</td>\n",
       "    </tr>\n",
       "    <tr>\n",
       "      <th>3</th>\n",
       "      <td>6281</td>\n",
       "      <td>-0.011973</td>\n",
       "      <td>-0.015250</td>\n",
       "      <td>-0.008605</td>\n",
       "      <td>-0.001638</td>\n",
       "      <td>-0.023098</td>\n",
       "      <td>-0.009972</td>\n",
       "      <td>-0.016565</td>\n",
       "      <td>-0.011364</td>\n",
       "      <td>-0.017105</td>\n",
       "      <td>-0.006109</td>\n",
       "      <td>-0.030658</td>\n",
       "      <td>-0.014657</td>\n",
       "      <td>-0.007660</td>\n",
       "    </tr>\n",
       "    <tr>\n",
       "      <th>4</th>\n",
       "      <td>6885</td>\n",
       "      <td>-0.019283</td>\n",
       "      <td>-0.023501</td>\n",
       "      <td>-0.016501</td>\n",
       "      <td>-0.020114</td>\n",
       "      <td>-0.020240</td>\n",
       "      <td>-0.020971</td>\n",
       "      <td>-0.019692</td>\n",
       "      <td>-0.018859</td>\n",
       "      <td>-0.024161</td>\n",
       "      <td>-0.020731</td>\n",
       "      <td>-0.022694</td>\n",
       "      <td>-0.020536</td>\n",
       "      <td>-0.023225</td>\n",
       "    </tr>\n",
       "    <tr>\n",
       "      <th>...</th>\n",
       "      <td>...</td>\n",
       "      <td>...</td>\n",
       "      <td>...</td>\n",
       "      <td>...</td>\n",
       "      <td>...</td>\n",
       "      <td>...</td>\n",
       "      <td>...</td>\n",
       "      <td>...</td>\n",
       "      <td>...</td>\n",
       "      <td>...</td>\n",
       "      <td>...</td>\n",
       "      <td>...</td>\n",
       "      <td>...</td>\n",
       "      <td>...</td>\n",
       "    </tr>\n",
       "    <tr>\n",
       "      <th>676</th>\n",
       "      <td>1665300</td>\n",
       "      <td>-0.002815</td>\n",
       "      <td>-0.001226</td>\n",
       "      <td>-0.004335</td>\n",
       "      <td>-0.008820</td>\n",
       "      <td>-0.000176</td>\n",
       "      <td>-0.005953</td>\n",
       "      <td>-0.003531</td>\n",
       "      <td>-0.003597</td>\n",
       "      <td>-0.002684</td>\n",
       "      <td>-0.003512</td>\n",
       "      <td>-0.001082</td>\n",
       "      <td>-0.005238</td>\n",
       "      <td>-0.002333</td>\n",
       "    </tr>\n",
       "    <tr>\n",
       "      <th>677</th>\n",
       "      <td>1666138</td>\n",
       "      <td>0.000000</td>\n",
       "      <td>0.000000</td>\n",
       "      <td>0.000000</td>\n",
       "      <td>0.000000</td>\n",
       "      <td>0.000000</td>\n",
       "      <td>0.000000</td>\n",
       "      <td>0.000000</td>\n",
       "      <td>0.000000</td>\n",
       "      <td>0.000000</td>\n",
       "      <td>0.000000</td>\n",
       "      <td>0.000000</td>\n",
       "      <td>0.000000</td>\n",
       "      <td>0.000000</td>\n",
       "    </tr>\n",
       "    <tr>\n",
       "      <th>678</th>\n",
       "      <td>1667313</td>\n",
       "      <td>0.006069</td>\n",
       "      <td>0.005752</td>\n",
       "      <td>0.002780</td>\n",
       "      <td>0.011080</td>\n",
       "      <td>0.013699</td>\n",
       "      <td>0.020518</td>\n",
       "      <td>0.009220</td>\n",
       "      <td>-0.000145</td>\n",
       "      <td>0.012201</td>\n",
       "      <td>0.011408</td>\n",
       "      <td>0.020465</td>\n",
       "      <td>0.004570</td>\n",
       "      <td>-0.000150</td>\n",
       "    </tr>\n",
       "    <tr>\n",
       "      <th>679</th>\n",
       "      <td>1674910</td>\n",
       "      <td>0.000384</td>\n",
       "      <td>0.017427</td>\n",
       "      <td>0.004768</td>\n",
       "      <td>-0.031603</td>\n",
       "      <td>0.018581</td>\n",
       "      <td>-0.010511</td>\n",
       "      <td>-0.002895</td>\n",
       "      <td>-0.007116</td>\n",
       "      <td>-0.013353</td>\n",
       "      <td>0.007626</td>\n",
       "      <td>0.019551</td>\n",
       "      <td>-0.000719</td>\n",
       "      <td>-0.007080</td>\n",
       "    </tr>\n",
       "    <tr>\n",
       "      <th>680</th>\n",
       "      <td>1713683</td>\n",
       "      <td>-0.029969</td>\n",
       "      <td>-0.031043</td>\n",
       "      <td>-0.029330</td>\n",
       "      <td>-0.010787</td>\n",
       "      <td>-0.034007</td>\n",
       "      <td>-0.018356</td>\n",
       "      <td>-0.030029</td>\n",
       "      <td>-0.026993</td>\n",
       "      <td>-0.027109</td>\n",
       "      <td>-0.028795</td>\n",
       "      <td>-0.028033</td>\n",
       "      <td>-0.027567</td>\n",
       "      <td>-0.029414</td>\n",
       "    </tr>\n",
       "  </tbody>\n",
       "</table>\n",
       "<p>681 rows × 14 columns</p>\n",
       "</div>"
      ],
      "text/plain": [
       "         CIK         0         1         2         3         4         5  \\\n",
       "0       2969 -0.036250 -0.014816 -0.050012 -0.072755 -0.018151 -0.056763   \n",
       "1       3545  0.023620  0.001328  0.026761  0.056650 -0.009959  0.026122   \n",
       "2       4457  0.010783  0.012312  0.010657  0.012857  0.015130  0.014712   \n",
       "3       6281 -0.011973 -0.015250 -0.008605 -0.001638 -0.023098 -0.009972   \n",
       "4       6885 -0.019283 -0.023501 -0.016501 -0.020114 -0.020240 -0.020971   \n",
       "..       ...       ...       ...       ...       ...       ...       ...   \n",
       "676  1665300 -0.002815 -0.001226 -0.004335 -0.008820 -0.000176 -0.005953   \n",
       "677  1666138  0.000000  0.000000  0.000000  0.000000  0.000000  0.000000   \n",
       "678  1667313  0.006069  0.005752  0.002780  0.011080  0.013699  0.020518   \n",
       "679  1674910  0.000384  0.017427  0.004768 -0.031603  0.018581 -0.010511   \n",
       "680  1713683 -0.029969 -0.031043 -0.029330 -0.010787 -0.034007 -0.018356   \n",
       "\n",
       "            6         7         8         9        10        11        12  \n",
       "0   -0.034329 -0.039330 -0.011701 -0.042185 -0.000603 -0.048823 -0.015091  \n",
       "1    0.023047  0.012490  0.033043  0.030007 -0.004873  0.009195  0.035635  \n",
       "2    0.010835  0.010485  0.019882  0.010519  0.014385  0.011121  0.011037  \n",
       "3   -0.016565 -0.011364 -0.017105 -0.006109 -0.030658 -0.014657 -0.007660  \n",
       "4   -0.019692 -0.018859 -0.024161 -0.020731 -0.022694 -0.020536 -0.023225  \n",
       "..        ...       ...       ...       ...       ...       ...       ...  \n",
       "676 -0.003531 -0.003597 -0.002684 -0.003512 -0.001082 -0.005238 -0.002333  \n",
       "677  0.000000  0.000000  0.000000  0.000000  0.000000  0.000000  0.000000  \n",
       "678  0.009220 -0.000145  0.012201  0.011408  0.020465  0.004570 -0.000150  \n",
       "679 -0.002895 -0.007116 -0.013353  0.007626  0.019551 -0.000719 -0.007080  \n",
       "680 -0.030029 -0.026993 -0.027109 -0.028795 -0.028033 -0.027567 -0.029414  \n",
       "\n",
       "[681 rows x 14 columns]"
      ]
     },
     "execution_count": 408,
     "metadata": {},
     "output_type": "execute_result"
    }
   ],
   "source": [
    "y1_y2 = pd.DataFrame(np.array(cosine_dist_2[cosine_dist_2.loc[:,\"CIK\"].isin(cosine_dist.loc[:,\"CIK\"])].iloc[:,3:]) - \\\n",
    "    np.array(cosine_dist[cosine_dist.loc[:,\"CIK\"].isin(cosine_dist_2.loc[:,\"CIK\"])].iloc[:,3:]),\n",
    "                     index = pd.MultiIndex.from_frame(pd.DataFrame(cosine_dist.loc[cosine_dist.loc[:,\"CIK\"].isin(cosine_dist_2.loc[:,\"CIK\"]), \"CIK\"]), names=[\"CIK\"])).reset_index()\n",
    "y1_y2"
   ]
  },
  {
   "cell_type": "code",
   "execution_count": 420,
   "id": "8389e238-806f-435f-b614-0cb52d5fc625",
   "metadata": {},
   "outputs": [
    {
     "data": {
      "text/html": [
       "<div>\n",
       "<style scoped>\n",
       "    .dataframe tbody tr th:only-of-type {\n",
       "        vertical-align: middle;\n",
       "    }\n",
       "\n",
       "    .dataframe tbody tr th {\n",
       "        vertical-align: top;\n",
       "    }\n",
       "\n",
       "    .dataframe thead th {\n",
       "        text-align: right;\n",
       "    }\n",
       "</style>\n",
       "<table border=\"1\" class=\"dataframe\">\n",
       "  <thead>\n",
       "    <tr style=\"text-align: right;\">\n",
       "      <th></th>\n",
       "      <th>CIK</th>\n",
       "      <th>name</th>\n",
       "    </tr>\n",
       "  </thead>\n",
       "  <tbody>\n",
       "    <tr>\n",
       "      <th>0</th>\n",
       "      <td>1660134</td>\n",
       "      <td>OKTA</td>\n",
       "    </tr>\n",
       "    <tr>\n",
       "      <th>1</th>\n",
       "      <td>1713683</td>\n",
       "      <td>Z-Scaler</td>\n",
       "    </tr>\n",
       "    <tr>\n",
       "      <th>2</th>\n",
       "      <td>1065280</td>\n",
       "      <td>NFLX</td>\n",
       "    </tr>\n",
       "    <tr>\n",
       "      <th>3</th>\n",
       "      <td>51143</td>\n",
       "      <td>IBM</td>\n",
       "    </tr>\n",
       "    <tr>\n",
       "      <th>4</th>\n",
       "      <td>40545</td>\n",
       "      <td>GE</td>\n",
       "    </tr>\n",
       "  </tbody>\n",
       "</table>\n",
       "</div>"
      ],
      "text/plain": [
       "       CIK      name\n",
       "0  1660134      OKTA\n",
       "1  1713683  Z-Scaler\n",
       "2  1065280      NFLX\n",
       "3    51143       IBM\n",
       "4    40545        GE"
      ]
     },
     "execution_count": 420,
     "metadata": {},
     "output_type": "execute_result"
    }
   ],
   "source": [
    "the_five"
   ]
  },
  {
   "cell_type": "code",
   "execution_count": 419,
   "id": "32f2cb0d-b0c4-4a42-bb44-0fc214687bd0",
   "metadata": {},
   "outputs": [
    {
     "data": {
      "text/html": [
       "<div>\n",
       "<style scoped>\n",
       "    .dataframe tbody tr th:only-of-type {\n",
       "        vertical-align: middle;\n",
       "    }\n",
       "\n",
       "    .dataframe tbody tr th {\n",
       "        vertical-align: top;\n",
       "    }\n",
       "\n",
       "    .dataframe thead th {\n",
       "        text-align: right;\n",
       "    }\n",
       "</style>\n",
       "<table border=\"1\" class=\"dataframe\">\n",
       "  <thead>\n",
       "    <tr style=\"text-align: right;\">\n",
       "      <th></th>\n",
       "      <th>CIK</th>\n",
       "      <th>2</th>\n",
       "      <th>11</th>\n",
       "      <th>12</th>\n",
       "      <th>0</th>\n",
       "      <th>8</th>\n",
       "      <th>10</th>\n",
       "      <th>4</th>\n",
       "      <th>1</th>\n",
       "      <th>6</th>\n",
       "      <th>3</th>\n",
       "      <th>7</th>\n",
       "      <th>9</th>\n",
       "      <th>5</th>\n",
       "    </tr>\n",
       "  </thead>\n",
       "  <tbody>\n",
       "    <tr>\n",
       "      <th>36</th>\n",
       "      <td>40545</td>\n",
       "      <td>-0.013441</td>\n",
       "      <td>-0.011859</td>\n",
       "      <td>-0.011435</td>\n",
       "      <td>-0.011168</td>\n",
       "      <td>-0.010137</td>\n",
       "      <td>0.007826</td>\n",
       "      <td>-0.006644</td>\n",
       "      <td>-0.006565</td>\n",
       "      <td>-0.005817</td>\n",
       "      <td>-0.005591</td>\n",
       "      <td>-0.004814</td>\n",
       "      <td>-0.003149</td>\n",
       "      <td>0.002397</td>\n",
       "    </tr>\n",
       "    <tr>\n",
       "      <th>327</th>\n",
       "      <td>1065280</td>\n",
       "      <td>-0.023157</td>\n",
       "      <td>-0.020941</td>\n",
       "      <td>-0.020706</td>\n",
       "      <td>-0.021454</td>\n",
       "      <td>-0.013480</td>\n",
       "      <td>-0.016943</td>\n",
       "      <td>-0.012462</td>\n",
       "      <td>-0.016677</td>\n",
       "      <td>-0.026020</td>\n",
       "      <td>-0.018653</td>\n",
       "      <td>-0.022720</td>\n",
       "      <td>-0.026182</td>\n",
       "      <td>-0.024120</td>\n",
       "    </tr>\n",
       "    <tr>\n",
       "      <th>672</th>\n",
       "      <td>1660134</td>\n",
       "      <td>0.003450</td>\n",
       "      <td>-0.001313</td>\n",
       "      <td>0.004479</td>\n",
       "      <td>0.003724</td>\n",
       "      <td>-0.000258</td>\n",
       "      <td>0.003769</td>\n",
       "      <td>0.003411</td>\n",
       "      <td>0.001970</td>\n",
       "      <td>0.003914</td>\n",
       "      <td>-0.003582</td>\n",
       "      <td>0.003049</td>\n",
       "      <td>0.005745</td>\n",
       "      <td>0.000550</td>\n",
       "    </tr>\n",
       "    <tr>\n",
       "      <th>680</th>\n",
       "      <td>1713683</td>\n",
       "      <td>-0.029330</td>\n",
       "      <td>-0.027567</td>\n",
       "      <td>-0.029414</td>\n",
       "      <td>-0.029969</td>\n",
       "      <td>-0.027109</td>\n",
       "      <td>-0.028033</td>\n",
       "      <td>-0.034007</td>\n",
       "      <td>-0.031043</td>\n",
       "      <td>-0.030029</td>\n",
       "      <td>-0.010787</td>\n",
       "      <td>-0.026993</td>\n",
       "      <td>-0.028795</td>\n",
       "      <td>-0.018356</td>\n",
       "    </tr>\n",
       "  </tbody>\n",
       "</table>\n",
       "</div>"
      ],
      "text/plain": [
       "         CIK         2        11        12         0         8        10  \\\n",
       "36     40545 -0.013441 -0.011859 -0.011435 -0.011168 -0.010137  0.007826   \n",
       "327  1065280 -0.023157 -0.020941 -0.020706 -0.021454 -0.013480 -0.016943   \n",
       "672  1660134  0.003450 -0.001313  0.004479  0.003724 -0.000258  0.003769   \n",
       "680  1713683 -0.029330 -0.027567 -0.029414 -0.029969 -0.027109 -0.028033   \n",
       "\n",
       "            4         1         6         3         7         9         5  \n",
       "36  -0.006644 -0.006565 -0.005817 -0.005591 -0.004814 -0.003149  0.002397  \n",
       "327 -0.012462 -0.016677 -0.026020 -0.018653 -0.022720 -0.026182 -0.024120  \n",
       "672  0.003411  0.001970  0.003914 -0.003582  0.003049  0.005745  0.000550  \n",
       "680 -0.034007 -0.031043 -0.030029 -0.010787 -0.026993 -0.028795 -0.018356  "
      ]
     },
     "execution_count": 419,
     "metadata": {},
     "output_type": "execute_result"
    }
   ],
   "source": [
    "y1_y2[y1_y2[\"CIK\"].isin(the_five[\"CIK\"])].sort_values(by=36, axis =1, key = abs, ascending = False)"
   ]
  },
  {
   "cell_type": "code",
   "execution_count": 423,
   "id": "c9005303-9e51-4551-91e0-6359abfa2740",
   "metadata": {},
   "outputs": [
    {
     "data": {
      "text/plain": [
       "['moduslink global solutions, inc. (together with its consolidated subsidiaries, “moduslink global solutions” or the“company” or “registrant”), through its wholly owned subsidiaries, moduslink corporation (“moduslink”) and moduslink pts, inc. (“moduslink pts”), provides comprehensive supply chain and ',\n",
       " 'general  we incorporated as helen of troy corporation in texas in 1968 and were reorganized as helen of troy limitedin bermuda in 1994. we are a global consumer products company offering creative solutions for our customers through a strong portfolio of well-recognized and widely trusted brands. we ',\n",
       " 'meritor, inc. (we, us or our), headquartered in troy, michigan, is a premier global supplier of a broad range of integrated systems, modules and components to original equipment manufacturers (oems) and the aftermarket for the commercial vehicle, transportation and industrial sectors. we serve comme',\n",
       " 'a fortune 500 corporation and a leading business process services company, providing a comprehensive range of distribution, logistics and integration services for the technology industry and providing outsourced services focused on customer engagement strategy to a broad range of enterprises. we are',\n",
       " 'we manage, value, and sell inventory and equipment for business and government clients by operating a network of leading ecommerce marketplaces that enable buyers and sellers to transact in an efficient, automated environment offering over 500 product categories. our marketplaces provide professiona']"
      ]
     },
     "execution_count": 423,
     "metadata": {},
     "output_type": "execute_result"
    }
   ],
   "source": [
    "[w[:300] for w in cluster_companies[2].tolist()]\n"
   ]
  },
  {
   "cell_type": "code",
   "execution_count": 411,
   "id": "f78fa756-2e39-47f8-8e6e-6af4e9a297ba",
   "metadata": {},
   "outputs": [
    {
     "data": {
      "text/html": [
       "<div>\n",
       "<style scoped>\n",
       "    .dataframe tbody tr th:only-of-type {\n",
       "        vertical-align: middle;\n",
       "    }\n",
       "\n",
       "    .dataframe tbody tr th {\n",
       "        vertical-align: top;\n",
       "    }\n",
       "\n",
       "    .dataframe thead th {\n",
       "        text-align: right;\n",
       "    }\n",
       "</style>\n",
       "<table border=\"1\" class=\"dataframe\">\n",
       "  <thead>\n",
       "    <tr style=\"text-align: right;\">\n",
       "      <th></th>\n",
       "      <th>CIK</th>\n",
       "      <th>0</th>\n",
       "      <th>1</th>\n",
       "      <th>2</th>\n",
       "      <th>3</th>\n",
       "      <th>4</th>\n",
       "      <th>5</th>\n",
       "      <th>6</th>\n",
       "      <th>7</th>\n",
       "      <th>8</th>\n",
       "      <th>9</th>\n",
       "      <th>10</th>\n",
       "      <th>11</th>\n",
       "      <th>12</th>\n",
       "    </tr>\n",
       "  </thead>\n",
       "  <tbody>\n",
       "    <tr>\n",
       "      <th>0</th>\n",
       "      <td>3545</td>\n",
       "      <td>-0.007367</td>\n",
       "      <td>-0.003590</td>\n",
       "      <td>-0.015966</td>\n",
       "      <td>-0.033909</td>\n",
       "      <td>0.035191</td>\n",
       "      <td>-0.005385</td>\n",
       "      <td>-0.004724</td>\n",
       "      <td>-0.017627</td>\n",
       "      <td>0.002241</td>\n",
       "      <td>-0.013089</td>\n",
       "      <td>0.066120</td>\n",
       "      <td>-0.010340</td>\n",
       "      <td>-0.032143</td>\n",
       "    </tr>\n",
       "    <tr>\n",
       "      <th>1</th>\n",
       "      <td>4457</td>\n",
       "      <td>0.004391</td>\n",
       "      <td>0.005181</td>\n",
       "      <td>0.004385</td>\n",
       "      <td>0.022868</td>\n",
       "      <td>0.001777</td>\n",
       "      <td>0.015896</td>\n",
       "      <td>0.005753</td>\n",
       "      <td>0.005017</td>\n",
       "      <td>0.018170</td>\n",
       "      <td>0.008796</td>\n",
       "      <td>0.000920</td>\n",
       "      <td>0.004429</td>\n",
       "      <td>0.009018</td>\n",
       "    </tr>\n",
       "    <tr>\n",
       "      <th>2</th>\n",
       "      <td>6281</td>\n",
       "      <td>-0.034820</td>\n",
       "      <td>-0.045627</td>\n",
       "      <td>-0.032432</td>\n",
       "      <td>-0.009767</td>\n",
       "      <td>-0.045748</td>\n",
       "      <td>-0.027587</td>\n",
       "      <td>-0.038201</td>\n",
       "      <td>-0.033691</td>\n",
       "      <td>-0.040780</td>\n",
       "      <td>-0.028791</td>\n",
       "      <td>-0.045447</td>\n",
       "      <td>-0.038552</td>\n",
       "      <td>-0.035596</td>\n",
       "    </tr>\n",
       "    <tr>\n",
       "      <th>3</th>\n",
       "      <td>6885</td>\n",
       "      <td>-0.024096</td>\n",
       "      <td>-0.009624</td>\n",
       "      <td>-0.027012</td>\n",
       "      <td>-0.027275</td>\n",
       "      <td>0.002073</td>\n",
       "      <td>-0.019676</td>\n",
       "      <td>-0.025393</td>\n",
       "      <td>-0.031459</td>\n",
       "      <td>0.010559</td>\n",
       "      <td>-0.028397</td>\n",
       "      <td>0.007886</td>\n",
       "      <td>-0.018932</td>\n",
       "      <td>-0.020197</td>\n",
       "    </tr>\n",
       "    <tr>\n",
       "      <th>4</th>\n",
       "      <td>7623</td>\n",
       "      <td>0.005729</td>\n",
       "      <td>-0.000249</td>\n",
       "      <td>0.007690</td>\n",
       "      <td>-0.000237</td>\n",
       "      <td>0.009623</td>\n",
       "      <td>0.009808</td>\n",
       "      <td>0.004846</td>\n",
       "      <td>0.000015</td>\n",
       "      <td>0.011622</td>\n",
       "      <td>0.001310</td>\n",
       "      <td>0.008846</td>\n",
       "      <td>0.003494</td>\n",
       "      <td>0.000791</td>\n",
       "    </tr>\n",
       "    <tr>\n",
       "      <th>...</th>\n",
       "      <td>...</td>\n",
       "      <td>...</td>\n",
       "      <td>...</td>\n",
       "      <td>...</td>\n",
       "      <td>...</td>\n",
       "      <td>...</td>\n",
       "      <td>...</td>\n",
       "      <td>...</td>\n",
       "      <td>...</td>\n",
       "      <td>...</td>\n",
       "      <td>...</td>\n",
       "      <td>...</td>\n",
       "      <td>...</td>\n",
       "      <td>...</td>\n",
       "    </tr>\n",
       "    <tr>\n",
       "      <th>565</th>\n",
       "      <td>1660690</td>\n",
       "      <td>-0.014928</td>\n",
       "      <td>-0.023900</td>\n",
       "      <td>-0.011593</td>\n",
       "      <td>0.001858</td>\n",
       "      <td>-0.023553</td>\n",
       "      <td>-0.009662</td>\n",
       "      <td>-0.017231</td>\n",
       "      <td>-0.016201</td>\n",
       "      <td>-0.014852</td>\n",
       "      <td>-0.011438</td>\n",
       "      <td>-0.026557</td>\n",
       "      <td>-0.017861</td>\n",
       "      <td>-0.009590</td>\n",
       "    </tr>\n",
       "    <tr>\n",
       "      <th>566</th>\n",
       "      <td>1663641</td>\n",
       "      <td>-0.086999</td>\n",
       "      <td>-0.035818</td>\n",
       "      <td>-0.103065</td>\n",
       "      <td>-0.147358</td>\n",
       "      <td>-0.047061</td>\n",
       "      <td>-0.100757</td>\n",
       "      <td>-0.072007</td>\n",
       "      <td>-0.073439</td>\n",
       "      <td>-0.087975</td>\n",
       "      <td>-0.068919</td>\n",
       "      <td>-0.010878</td>\n",
       "      <td>-0.085183</td>\n",
       "      <td>-0.059377</td>\n",
       "    </tr>\n",
       "    <tr>\n",
       "      <th>567</th>\n",
       "      <td>1665300</td>\n",
       "      <td>0.202548</td>\n",
       "      <td>0.145123</td>\n",
       "      <td>0.243224</td>\n",
       "      <td>0.216385</td>\n",
       "      <td>0.066031</td>\n",
       "      <td>0.142687</td>\n",
       "      <td>0.146785</td>\n",
       "      <td>0.179233</td>\n",
       "      <td>0.081506</td>\n",
       "      <td>0.220338</td>\n",
       "      <td>-0.079217</td>\n",
       "      <td>0.181256</td>\n",
       "      <td>0.201791</td>\n",
       "    </tr>\n",
       "    <tr>\n",
       "      <th>568</th>\n",
       "      <td>1666138</td>\n",
       "      <td>0.000000</td>\n",
       "      <td>0.000000</td>\n",
       "      <td>0.000000</td>\n",
       "      <td>0.000000</td>\n",
       "      <td>0.000000</td>\n",
       "      <td>0.000000</td>\n",
       "      <td>0.000000</td>\n",
       "      <td>0.000000</td>\n",
       "      <td>0.000000</td>\n",
       "      <td>0.000000</td>\n",
       "      <td>0.000000</td>\n",
       "      <td>0.000000</td>\n",
       "      <td>0.000000</td>\n",
       "    </tr>\n",
       "    <tr>\n",
       "      <th>569</th>\n",
       "      <td>1674910</td>\n",
       "      <td>-0.027277</td>\n",
       "      <td>-0.039527</td>\n",
       "      <td>-0.026258</td>\n",
       "      <td>-0.037370</td>\n",
       "      <td>-0.043377</td>\n",
       "      <td>-0.055682</td>\n",
       "      <td>-0.040436</td>\n",
       "      <td>-0.035428</td>\n",
       "      <td>-0.045465</td>\n",
       "      <td>-0.026080</td>\n",
       "      <td>-0.060014</td>\n",
       "      <td>-0.045891</td>\n",
       "      <td>-0.015962</td>\n",
       "    </tr>\n",
       "  </tbody>\n",
       "</table>\n",
       "<p>570 rows × 14 columns</p>\n",
       "</div>"
      ],
      "text/plain": [
       "         CIK         0         1         2         3         4         5  \\\n",
       "0       3545 -0.007367 -0.003590 -0.015966 -0.033909  0.035191 -0.005385   \n",
       "1       4457  0.004391  0.005181  0.004385  0.022868  0.001777  0.015896   \n",
       "2       6281 -0.034820 -0.045627 -0.032432 -0.009767 -0.045748 -0.027587   \n",
       "3       6885 -0.024096 -0.009624 -0.027012 -0.027275  0.002073 -0.019676   \n",
       "4       7623  0.005729 -0.000249  0.007690 -0.000237  0.009623  0.009808   \n",
       "..       ...       ...       ...       ...       ...       ...       ...   \n",
       "565  1660690 -0.014928 -0.023900 -0.011593  0.001858 -0.023553 -0.009662   \n",
       "566  1663641 -0.086999 -0.035818 -0.103065 -0.147358 -0.047061 -0.100757   \n",
       "567  1665300  0.202548  0.145123  0.243224  0.216385  0.066031  0.142687   \n",
       "568  1666138  0.000000  0.000000  0.000000  0.000000  0.000000  0.000000   \n",
       "569  1674910 -0.027277 -0.039527 -0.026258 -0.037370 -0.043377 -0.055682   \n",
       "\n",
       "            6         7         8         9        10        11        12  \n",
       "0   -0.004724 -0.017627  0.002241 -0.013089  0.066120 -0.010340 -0.032143  \n",
       "1    0.005753  0.005017  0.018170  0.008796  0.000920  0.004429  0.009018  \n",
       "2   -0.038201 -0.033691 -0.040780 -0.028791 -0.045447 -0.038552 -0.035596  \n",
       "3   -0.025393 -0.031459  0.010559 -0.028397  0.007886 -0.018932 -0.020197  \n",
       "4    0.004846  0.000015  0.011622  0.001310  0.008846  0.003494  0.000791  \n",
       "..        ...       ...       ...       ...       ...       ...       ...  \n",
       "565 -0.017231 -0.016201 -0.014852 -0.011438 -0.026557 -0.017861 -0.009590  \n",
       "566 -0.072007 -0.073439 -0.087975 -0.068919 -0.010878 -0.085183 -0.059377  \n",
       "567  0.146785  0.179233  0.081506  0.220338 -0.079217  0.181256  0.201791  \n",
       "568  0.000000  0.000000  0.000000  0.000000  0.000000  0.000000  0.000000  \n",
       "569 -0.040436 -0.035428 -0.045465 -0.026080 -0.060014 -0.045891 -0.015962  \n",
       "\n",
       "[570 rows x 14 columns]"
      ]
     },
     "execution_count": 411,
     "metadata": {},
     "output_type": "execute_result"
    }
   ],
   "source": [
    "y2_y3 = pd.DataFrame(np.array(cosine_dist_3[cosine_dist_3.loc[:,\"CIK\"].isin(cosine_dist_2.loc[:,\"CIK\"])].iloc[:,3:]) - \\\n",
    "    np.array(cosine_dist_2[cosine_dist_2.loc[:,\"CIK\"].isin(cosine_dist_3.loc[:,\"CIK\"])].iloc[:,3:]),\n",
    "                     index = pd.MultiIndex.from_frame(pd.DataFrame(cosine_dist_2.loc[cosine_dist_2.loc[:,\"CIK\"].isin(cosine_dist_3.loc[:,\"CIK\"]), \"CIK\"]), names=[\"CIK\"])).reset_index()\n",
    "y2_y3"
   ]
  },
  {
   "cell_type": "code",
   "execution_count": 416,
   "id": "0026f6b6-8845-4635-b01d-25afb58e048e",
   "metadata": {},
   "outputs": [
    {
     "data": {
      "text/html": [
       "<div>\n",
       "<style scoped>\n",
       "    .dataframe tbody tr th:only-of-type {\n",
       "        vertical-align: middle;\n",
       "    }\n",
       "\n",
       "    .dataframe tbody tr th {\n",
       "        vertical-align: top;\n",
       "    }\n",
       "\n",
       "    .dataframe thead th {\n",
       "        text-align: right;\n",
       "    }\n",
       "</style>\n",
       "<table border=\"1\" class=\"dataframe\">\n",
       "  <thead>\n",
       "    <tr style=\"text-align: right;\">\n",
       "      <th></th>\n",
       "      <th>CIK</th>\n",
       "      <th>3</th>\n",
       "      <th>10</th>\n",
       "      <th>5</th>\n",
       "      <th>12</th>\n",
       "      <th>4</th>\n",
       "      <th>7</th>\n",
       "      <th>0</th>\n",
       "      <th>9</th>\n",
       "      <th>8</th>\n",
       "      <th>2</th>\n",
       "      <th>1</th>\n",
       "      <th>6</th>\n",
       "      <th>11</th>\n",
       "    </tr>\n",
       "  </thead>\n",
       "  <tbody>\n",
       "    <tr>\n",
       "      <th>32</th>\n",
       "      <td>40545</td>\n",
       "      <td>-0.008875</td>\n",
       "      <td>0.007701</td>\n",
       "      <td>0.006415</td>\n",
       "      <td>-0.006402</td>\n",
       "      <td>0.006340</td>\n",
       "      <td>0.003894</td>\n",
       "      <td>-0.001521</td>\n",
       "      <td>-0.000960</td>\n",
       "      <td>-0.000540</td>\n",
       "      <td>0.000519</td>\n",
       "      <td>-0.000391</td>\n",
       "      <td>0.000204</td>\n",
       "      <td>-0.000039</td>\n",
       "    </tr>\n",
       "    <tr>\n",
       "      <th>287</th>\n",
       "      <td>1065280</td>\n",
       "      <td>0.007935</td>\n",
       "      <td>-0.010796</td>\n",
       "      <td>0.004061</td>\n",
       "      <td>0.001908</td>\n",
       "      <td>-0.009619</td>\n",
       "      <td>0.004316</td>\n",
       "      <td>0.001497</td>\n",
       "      <td>-0.001603</td>\n",
       "      <td>-0.008020</td>\n",
       "      <td>0.004999</td>\n",
       "      <td>-0.004490</td>\n",
       "      <td>0.003826</td>\n",
       "      <td>0.007368</td>\n",
       "    </tr>\n",
       "    <tr>\n",
       "      <th>564</th>\n",
       "      <td>1660134</td>\n",
       "      <td>0.000652</td>\n",
       "      <td>-0.002493</td>\n",
       "      <td>0.002078</td>\n",
       "      <td>-0.003188</td>\n",
       "      <td>-0.004332</td>\n",
       "      <td>-0.002431</td>\n",
       "      <td>-0.003367</td>\n",
       "      <td>-0.004682</td>\n",
       "      <td>0.001299</td>\n",
       "      <td>-0.003115</td>\n",
       "      <td>-0.005030</td>\n",
       "      <td>-0.001442</td>\n",
       "      <td>-0.001302</td>\n",
       "    </tr>\n",
       "  </tbody>\n",
       "</table>\n",
       "</div>"
      ],
      "text/plain": [
       "         CIK         3        10         5        12         4         7  \\\n",
       "32     40545 -0.008875  0.007701  0.006415 -0.006402  0.006340  0.003894   \n",
       "287  1065280  0.007935 -0.010796  0.004061  0.001908 -0.009619  0.004316   \n",
       "564  1660134  0.000652 -0.002493  0.002078 -0.003188 -0.004332 -0.002431   \n",
       "\n",
       "            0         9         8         2         1         6        11  \n",
       "32  -0.001521 -0.000960 -0.000540  0.000519 -0.000391  0.000204 -0.000039  \n",
       "287  0.001497 -0.001603 -0.008020  0.004999 -0.004490  0.003826  0.007368  \n",
       "564 -0.003367 -0.004682  0.001299 -0.003115 -0.005030 -0.001442 -0.001302  "
      ]
     },
     "execution_count": 416,
     "metadata": {},
     "output_type": "execute_result"
    }
   ],
   "source": [
    "y2_y3[y2_y3[\"CIK\"].isin(the_five[\"CIK\"])].sort_values(by=32, axis =1, key = abs, ascending = False)"
   ]
  },
  {
   "cell_type": "code",
   "execution_count": 150,
   "id": "522c2b30-544f-40be-a421-f89bc4c8b133",
   "metadata": {},
   "outputs": [
    {
     "data": {
      "application/vnd.plotly.v1+json": {
       "config": {
        "plotlyServerURL": "https://plot.ly"
       },
       "data": [
        {
         "customdata": [
          [
           0
          ],
          [
           0
          ],
          [
           -1
          ],
          [
           -1
          ],
          [
           -1
          ],
          [
           0
          ],
          [
           0
          ],
          [
           0
          ],
          [
           0
          ],
          [
           0
          ],
          [
           0
          ],
          [
           0
          ],
          [
           0
          ],
          [
           0
          ],
          [
           0
          ],
          [
           0
          ],
          [
           0
          ],
          [
           0
          ],
          [
           0
          ],
          [
           -1
          ],
          [
           0
          ],
          [
           0
          ],
          [
           0
          ],
          [
           0
          ],
          [
           0
          ],
          [
           0
          ],
          [
           1
          ],
          [
           1
          ],
          [
           1
          ],
          [
           0
          ],
          [
           0
          ],
          [
           0
          ],
          [
           0
          ],
          [
           0
          ],
          [
           0
          ],
          [
           0
          ],
          [
           0
          ],
          [
           0
          ],
          [
           0
          ],
          [
           0
          ],
          [
           0
          ],
          [
           0
          ],
          [
           0
          ],
          [
           0
          ],
          [
           0
          ],
          [
           0
          ],
          [
           0
          ],
          [
           0
          ],
          [
           0
          ],
          [
           0
          ],
          [
           0
          ],
          [
           0
          ],
          [
           0
          ],
          [
           0
          ],
          [
           0
          ],
          [
           0
          ],
          [
           0
          ],
          [
           0
          ],
          [
           -1
          ],
          [
           -1
          ],
          [
           -1
          ],
          [
           0
          ],
          [
           0
          ],
          [
           0
          ],
          [
           0
          ],
          [
           0
          ],
          [
           0
          ],
          [
           0
          ],
          [
           0
          ],
          [
           0
          ],
          [
           0
          ],
          [
           0
          ],
          [
           0
          ],
          [
           0
          ],
          [
           0
          ],
          [
           0
          ],
          [
           -1
          ],
          [
           -1
          ],
          [
           -1
          ],
          [
           0
          ],
          [
           0
          ],
          [
           0
          ],
          [
           0
          ],
          [
           0
          ],
          [
           0
          ],
          [
           0
          ],
          [
           0
          ],
          [
           0
          ],
          [
           0
          ],
          [
           0
          ],
          [
           0
          ],
          [
           0
          ],
          [
           0
          ],
          [
           0
          ],
          [
           0
          ],
          [
           0
          ],
          [
           0
          ],
          [
           0
          ],
          [
           0
          ],
          [
           0
          ],
          [
           0
          ],
          [
           0
          ],
          [
           0
          ],
          [
           0
          ],
          [
           0
          ],
          [
           0
          ],
          [
           -1
          ],
          [
           -1
          ],
          [
           0
          ],
          [
           0
          ],
          [
           0
          ],
          [
           0
          ],
          [
           0
          ],
          [
           0
          ],
          [
           0
          ],
          [
           0
          ],
          [
           -1
          ],
          [
           0
          ],
          [
           -1
          ],
          [
           -1
          ],
          [
           -1
          ],
          [
           -1
          ],
          [
           0
          ],
          [
           0
          ],
          [
           0
          ],
          [
           0
          ],
          [
           0
          ],
          [
           0
          ],
          [
           0
          ],
          [
           0
          ],
          [
           0
          ],
          [
           -1
          ],
          [
           -1
          ],
          [
           -1
          ],
          [
           -1
          ],
          [
           -1
          ],
          [
           0
          ],
          [
           0
          ],
          [
           0
          ],
          [
           0
          ],
          [
           2
          ],
          [
           0
          ],
          [
           0
          ],
          [
           0
          ],
          [
           0
          ],
          [
           0
          ],
          [
           0
          ],
          [
           0
          ],
          [
           0
          ],
          [
           -1
          ],
          [
           -1
          ],
          [
           -1
          ],
          [
           0
          ],
          [
           0
          ],
          [
           0
          ],
          [
           -1
          ],
          [
           0
          ],
          [
           -1
          ],
          [
           0
          ],
          [
           0
          ],
          [
           -1
          ],
          [
           0
          ],
          [
           0
          ],
          [
           0
          ],
          [
           0
          ],
          [
           0
          ],
          [
           0
          ],
          [
           0
          ],
          [
           0
          ],
          [
           0
          ],
          [
           0
          ],
          [
           3
          ],
          [
           3
          ],
          [
           0
          ],
          [
           0
          ],
          [
           0
          ],
          [
           0
          ],
          [
           0
          ],
          [
           0
          ],
          [
           0
          ],
          [
           0
          ],
          [
           0
          ],
          [
           0
          ],
          [
           -1
          ],
          [
           -1
          ],
          [
           -1
          ],
          [
           0
          ],
          [
           0
          ],
          [
           0
          ],
          [
           0
          ],
          [
           0
          ],
          [
           0
          ],
          [
           0
          ],
          [
           0
          ],
          [
           0
          ],
          [
           0
          ],
          [
           0
          ],
          [
           0
          ],
          [
           0
          ],
          [
           0
          ],
          [
           0
          ],
          [
           0
          ],
          [
           0
          ],
          [
           0
          ],
          [
           0
          ],
          [
           0
          ],
          [
           0
          ],
          [
           -1
          ],
          [
           -1
          ],
          [
           -1
          ],
          [
           -1
          ],
          [
           0
          ],
          [
           0
          ],
          [
           0
          ],
          [
           0
          ],
          [
           0
          ],
          [
           0
          ],
          [
           0
          ],
          [
           0
          ],
          [
           0
          ],
          [
           -1
          ],
          [
           -1
          ],
          [
           0
          ],
          [
           0
          ],
          [
           0
          ],
          [
           0
          ],
          [
           0
          ],
          [
           0
          ],
          [
           0
          ],
          [
           0
          ],
          [
           0
          ],
          [
           0
          ],
          [
           0
          ],
          [
           0
          ],
          [
           0
          ],
          [
           -1
          ],
          [
           -1
          ],
          [
           -1
          ],
          [
           -1
          ],
          [
           -1
          ],
          [
           -1
          ],
          [
           -1
          ],
          [
           -1
          ],
          [
           -1
          ],
          [
           0
          ],
          [
           0
          ],
          [
           0
          ],
          [
           0
          ],
          [
           0
          ],
          [
           0
          ],
          [
           -1
          ],
          [
           0
          ],
          [
           0
          ],
          [
           0
          ],
          [
           0
          ],
          [
           0
          ],
          [
           0
          ],
          [
           0
          ],
          [
           0
          ],
          [
           0
          ],
          [
           0
          ],
          [
           0
          ],
          [
           0
          ],
          [
           0
          ],
          [
           0
          ],
          [
           0
          ],
          [
           0
          ],
          [
           0
          ],
          [
           0
          ],
          [
           -1
          ],
          [
           -1
          ],
          [
           -1
          ],
          [
           0
          ],
          [
           0
          ],
          [
           0
          ],
          [
           0
          ],
          [
           0
          ],
          [
           0
          ],
          [
           0
          ],
          [
           0
          ],
          [
           0
          ],
          [
           0
          ],
          [
           0
          ],
          [
           0
          ],
          [
           0
          ],
          [
           -1
          ],
          [
           -1
          ],
          [
           -1
          ],
          [
           0
          ],
          [
           0
          ],
          [
           0
          ],
          [
           -1
          ],
          [
           -1
          ],
          [
           0
          ],
          [
           0
          ],
          [
           0
          ],
          [
           0
          ],
          [
           0
          ],
          [
           0
          ],
          [
           0
          ],
          [
           0
          ],
          [
           0
          ],
          [
           0
          ],
          [
           0
          ],
          [
           0
          ],
          [
           0
          ],
          [
           0
          ],
          [
           0
          ],
          [
           0
          ],
          [
           0
          ],
          [
           0
          ],
          [
           0
          ],
          [
           0
          ],
          [
           0
          ],
          [
           0
          ],
          [
           0
          ],
          [
           0
          ],
          [
           0
          ],
          [
           0
          ],
          [
           0
          ],
          [
           -1
          ],
          [
           0
          ],
          [
           0
          ],
          [
           0
          ],
          [
           0
          ],
          [
           0
          ],
          [
           0
          ],
          [
           0
          ],
          [
           0
          ],
          [
           0
          ],
          [
           0
          ],
          [
           0
          ],
          [
           0
          ],
          [
           0
          ],
          [
           -1
          ],
          [
           0
          ],
          [
           0
          ],
          [
           0
          ],
          [
           0
          ],
          [
           0
          ],
          [
           0
          ],
          [
           -1
          ],
          [
           -1
          ],
          [
           -1
          ],
          [
           -1
          ],
          [
           0
          ],
          [
           -1
          ],
          [
           0
          ],
          [
           0
          ],
          [
           0
          ],
          [
           0
          ],
          [
           0
          ],
          [
           0
          ],
          [
           0
          ],
          [
           -1
          ],
          [
           -1
          ],
          [
           -1
          ],
          [
           0
          ],
          [
           0
          ],
          [
           0
          ],
          [
           0
          ],
          [
           0
          ],
          [
           0
          ],
          [
           0
          ],
          [
           0
          ],
          [
           0
          ],
          [
           4
          ],
          [
           4
          ],
          [
           4
          ],
          [
           0
          ],
          [
           0
          ],
          [
           0
          ],
          [
           0
          ],
          [
           0
          ],
          [
           0
          ],
          [
           0
          ],
          [
           0
          ],
          [
           0
          ],
          [
           0
          ],
          [
           0
          ],
          [
           0
          ],
          [
           0
          ],
          [
           0
          ],
          [
           -1
          ],
          [
           0
          ],
          [
           0
          ],
          [
           0
          ],
          [
           0
          ],
          [
           0
          ],
          [
           0
          ],
          [
           0
          ],
          [
           0
          ],
          [
           0
          ],
          [
           0
          ],
          [
           0
          ],
          [
           0
          ],
          [
           0
          ],
          [
           0
          ],
          [
           0
          ],
          [
           0
          ],
          [
           0
          ],
          [
           0
          ],
          [
           0
          ],
          [
           0
          ],
          [
           0
          ],
          [
           0
          ],
          [
           0
          ],
          [
           0
          ],
          [
           0
          ],
          [
           0
          ],
          [
           0
          ],
          [
           0
          ],
          [
           0
          ],
          [
           0
          ],
          [
           0
          ],
          [
           0
          ],
          [
           0
          ],
          [
           0
          ],
          [
           0
          ],
          [
           0
          ],
          [
           0
          ],
          [
           0
          ],
          [
           0
          ],
          [
           0
          ],
          [
           0
          ],
          [
           0
          ],
          [
           0
          ],
          [
           0
          ],
          [
           0
          ],
          [
           0
          ],
          [
           0
          ],
          [
           0
          ],
          [
           0
          ],
          [
           0
          ],
          [
           0
          ],
          [
           0
          ],
          [
           0
          ],
          [
           -1
          ],
          [
           -1
          ],
          [
           -1
          ],
          [
           0
          ],
          [
           0
          ],
          [
           0
          ],
          [
           0
          ],
          [
           0
          ],
          [
           0
          ],
          [
           0
          ],
          [
           0
          ],
          [
           0
          ],
          [
           0
          ],
          [
           0
          ],
          [
           5
          ],
          [
           5
          ],
          [
           5
          ],
          [
           0
          ],
          [
           0
          ],
          [
           0
          ],
          [
           0
          ],
          [
           0
          ],
          [
           0
          ],
          [
           0
          ],
          [
           0
          ],
          [
           0
          ],
          [
           11
          ],
          [
           0
          ],
          [
           0
          ],
          [
           0
          ],
          [
           0
          ],
          [
           0
          ],
          [
           0
          ],
          [
           0
          ],
          [
           0
          ],
          [
           0
          ],
          [
           0
          ],
          [
           0
          ],
          [
           0
          ],
          [
           0
          ],
          [
           0
          ],
          [
           0
          ],
          [
           0
          ],
          [
           0
          ],
          [
           0
          ],
          [
           0
          ],
          [
           0
          ],
          [
           0
          ],
          [
           0
          ],
          [
           0
          ],
          [
           0
          ],
          [
           0
          ],
          [
           0
          ],
          [
           0
          ],
          [
           0
          ],
          [
           0
          ],
          [
           0
          ],
          [
           0
          ],
          [
           0
          ],
          [
           0
          ],
          [
           0
          ],
          [
           0
          ],
          [
           0
          ],
          [
           -1
          ],
          [
           -1
          ],
          [
           -1
          ],
          [
           3
          ],
          [
           3
          ],
          [
           0
          ],
          [
           -1
          ],
          [
           -1
          ],
          [
           -1
          ],
          [
           0
          ],
          [
           0
          ],
          [
           0
          ],
          [
           0
          ],
          [
           0
          ],
          [
           0
          ],
          [
           0
          ],
          [
           0
          ],
          [
           0
          ],
          [
           0
          ],
          [
           4
          ],
          [
           4
          ],
          [
           4
          ],
          [
           0
          ],
          [
           0
          ],
          [
           0
          ],
          [
           -1
          ],
          [
           0
          ],
          [
           0
          ],
          [
           0
          ],
          [
           0
          ],
          [
           0
          ],
          [
           0
          ],
          [
           0
          ],
          [
           0
          ],
          [
           0
          ],
          [
           0
          ],
          [
           0
          ],
          [
           2
          ],
          [
           0
          ],
          [
           0
          ],
          [
           0
          ],
          [
           0
          ],
          [
           0
          ],
          [
           0
          ],
          [
           0
          ],
          [
           0
          ],
          [
           0
          ],
          [
           0
          ],
          [
           0
          ],
          [
           0
          ],
          [
           0
          ],
          [
           0
          ],
          [
           0
          ],
          [
           0
          ],
          [
           0
          ],
          [
           0
          ],
          [
           0
          ],
          [
           0
          ],
          [
           0
          ],
          [
           6
          ],
          [
           6
          ],
          [
           6
          ],
          [
           0
          ],
          [
           0
          ],
          [
           0
          ],
          [
           0
          ],
          [
           0
          ],
          [
           0
          ],
          [
           0
          ],
          [
           0
          ],
          [
           0
          ],
          [
           -1
          ],
          [
           -1
          ],
          [
           -1
          ],
          [
           0
          ],
          [
           0
          ],
          [
           0
          ],
          [
           0
          ],
          [
           0
          ],
          [
           0
          ],
          [
           0
          ],
          [
           -1
          ],
          [
           -1
          ],
          [
           0
          ],
          [
           0
          ],
          [
           0
          ],
          [
           0
          ],
          [
           0
          ],
          [
           0
          ],
          [
           0
          ],
          [
           0
          ],
          [
           0
          ],
          [
           0
          ],
          [
           0
          ],
          [
           0
          ],
          [
           0
          ],
          [
           -1
          ],
          [
           -1
          ],
          [
           -1
          ],
          [
           0
          ],
          [
           0
          ],
          [
           0
          ],
          [
           0
          ],
          [
           0
          ],
          [
           0
          ],
          [
           0
          ],
          [
           0
          ],
          [
           3
          ],
          [
           -1
          ],
          [
           -1
          ],
          [
           -1
          ],
          [
           -1
          ],
          [
           -1
          ],
          [
           -1
          ],
          [
           -1
          ],
          [
           -1
          ],
          [
           -1
          ],
          [
           -1
          ],
          [
           0
          ],
          [
           0
          ],
          [
           0
          ],
          [
           0
          ],
          [
           0
          ],
          [
           0
          ],
          [
           7
          ],
          [
           7
          ],
          [
           7
          ],
          [
           -1
          ],
          [
           0
          ],
          [
           0
          ],
          [
           0
          ],
          [
           0
          ],
          [
           0
          ],
          [
           0
          ],
          [
           0
          ],
          [
           -1
          ],
          [
           -1
          ],
          [
           -1
          ],
          [
           -1
          ],
          [
           0
          ],
          [
           0
          ],
          [
           0
          ],
          [
           -1
          ],
          [
           0
          ],
          [
           0
          ],
          [
           0
          ],
          [
           0
          ],
          [
           0
          ],
          [
           0
          ],
          [
           0
          ],
          [
           0
          ],
          [
           0
          ],
          [
           0
          ],
          [
           0
          ],
          [
           0
          ],
          [
           0
          ],
          [
           0
          ],
          [
           3
          ],
          [
           3
          ],
          [
           3
          ],
          [
           0
          ],
          [
           0
          ],
          [
           0
          ],
          [
           0
          ],
          [
           0
          ],
          [
           0
          ],
          [
           0
          ],
          [
           0
          ],
          [
           0
          ],
          [
           0
          ],
          [
           0
          ],
          [
           0
          ],
          [
           0
          ],
          [
           0
          ],
          [
           0
          ],
          [
           8
          ],
          [
           8
          ],
          [
           8
          ],
          [
           0
          ],
          [
           0
          ],
          [
           0
          ],
          [
           0
          ],
          [
           0
          ],
          [
           0
          ],
          [
           4
          ],
          [
           4
          ],
          [
           4
          ],
          [
           0
          ],
          [
           0
          ],
          [
           0
          ],
          [
           -1
          ],
          [
           -1
          ],
          [
           -1
          ],
          [
           0
          ],
          [
           0
          ],
          [
           0
          ],
          [
           0
          ],
          [
           0
          ],
          [
           0
          ],
          [
           0
          ],
          [
           0
          ],
          [
           0
          ],
          [
           0
          ],
          [
           0
          ],
          [
           0
          ],
          [
           0
          ],
          [
           0
          ],
          [
           0
          ],
          [
           0
          ],
          [
           0
          ],
          [
           0
          ],
          [
           0
          ],
          [
           0
          ],
          [
           0
          ],
          [
           0
          ],
          [
           0
          ],
          [
           0
          ],
          [
           0
          ],
          [
           0
          ],
          [
           0
          ],
          [
           0
          ],
          [
           0
          ],
          [
           0
          ],
          [
           0
          ],
          [
           0
          ],
          [
           0
          ],
          [
           0
          ],
          [
           0
          ],
          [
           0
          ],
          [
           0
          ],
          [
           0
          ],
          [
           0
          ],
          [
           0
          ],
          [
           0
          ],
          [
           0
          ],
          [
           0
          ],
          [
           0
          ],
          [
           0
          ],
          [
           -1
          ],
          [
           -1
          ],
          [
           -1
          ],
          [
           0
          ],
          [
           0
          ],
          [
           7
          ],
          [
           7
          ],
          [
           7
          ],
          [
           0
          ],
          [
           0
          ],
          [
           0
          ],
          [
           0
          ],
          [
           0
          ],
          [
           0
          ],
          [
           -1
          ],
          [
           -1
          ],
          [
           -1
          ],
          [
           0
          ],
          [
           0
          ],
          [
           0
          ],
          [
           0
          ],
          [
           0
          ],
          [
           0
          ],
          [
           0
          ],
          [
           0
          ],
          [
           0
          ],
          [
           0
          ],
          [
           0
          ],
          [
           8
          ],
          [
           8
          ],
          [
           8
          ],
          [
           0
          ],
          [
           0
          ],
          [
           0
          ],
          [
           0
          ],
          [
           0
          ],
          [
           0
          ],
          [
           0
          ],
          [
           0
          ],
          [
           0
          ],
          [
           0
          ],
          [
           0
          ],
          [
           0
          ],
          [
           -1
          ],
          [
           -1
          ],
          [
           -1
          ],
          [
           0
          ],
          [
           0
          ],
          [
           0
          ],
          [
           0
          ],
          [
           0
          ],
          [
           0
          ],
          [
           -1
          ],
          [
           -1
          ],
          [
           -1
          ],
          [
           4
          ],
          [
           4
          ],
          [
           4
          ],
          [
           0
          ],
          [
           0
          ],
          [
           0
          ],
          [
           0
          ],
          [
           0
          ],
          [
           0
          ],
          [
           0
          ],
          [
           0
          ],
          [
           0
          ],
          [
           0
          ],
          [
           0
          ],
          [
           0
          ],
          [
           0
          ],
          [
           0
          ],
          [
           0
          ],
          [
           0
          ],
          [
           0
          ],
          [
           0
          ],
          [
           0
          ],
          [
           0
          ],
          [
           0
          ],
          [
           0
          ],
          [
           0
          ],
          [
           0
          ],
          [
           0
          ],
          [
           0
          ],
          [
           0
          ],
          [
           0
          ],
          [
           0
          ],
          [
           -1
          ],
          [
           -1
          ],
          [
           -1
          ],
          [
           0
          ],
          [
           0
          ],
          [
           0
          ],
          [
           0
          ],
          [
           0
          ],
          [
           0
          ],
          [
           0
          ],
          [
           0
          ],
          [
           0
          ],
          [
           0
          ],
          [
           0
          ],
          [
           0
          ],
          [
           0
          ],
          [
           -1
          ],
          [
           -1
          ],
          [
           -1
          ],
          [
           0
          ],
          [
           0
          ],
          [
           0
          ],
          [
           0
          ],
          [
           0
          ],
          [
           0
          ],
          [
           0
          ],
          [
           0
          ],
          [
           0
          ],
          [
           0
          ],
          [
           0
          ],
          [
           0
          ],
          [
           0
          ],
          [
           0
          ],
          [
           0
          ],
          [
           -1
          ],
          [
           0
          ],
          [
           0
          ],
          [
           0
          ],
          [
           0
          ],
          [
           0
          ],
          [
           0
          ],
          [
           0
          ],
          [
           0
          ],
          [
           0
          ],
          [
           0
          ],
          [
           0
          ],
          [
           0
          ],
          [
           0
          ],
          [
           0
          ],
          [
           0
          ],
          [
           0
          ],
          [
           0
          ],
          [
           0
          ],
          [
           0
          ],
          [
           0
          ],
          [
           0
          ],
          [
           0
          ],
          [
           0
          ],
          [
           0
          ],
          [
           0
          ],
          [
           0
          ],
          [
           0
          ],
          [
           0
          ],
          [
           0
          ],
          [
           2
          ],
          [
           0
          ],
          [
           0
          ],
          [
           0
          ],
          [
           0
          ],
          [
           0
          ],
          [
           0
          ],
          [
           0
          ],
          [
           0
          ],
          [
           0
          ],
          [
           0
          ],
          [
           0
          ],
          [
           0
          ],
          [
           0
          ],
          [
           -1
          ],
          [
           0
          ],
          [
           -1
          ],
          [
           -1
          ],
          [
           -1
          ],
          [
           0
          ],
          [
           0
          ],
          [
           0
          ],
          [
           -1
          ],
          [
           -1
          ],
          [
           -1
          ],
          [
           -1
          ],
          [
           0
          ],
          [
           0
          ],
          [
           0
          ],
          [
           0
          ],
          [
           0
          ],
          [
           0
          ],
          [
           0
          ],
          [
           0
          ],
          [
           0
          ],
          [
           0
          ],
          [
           0
          ],
          [
           0
          ],
          [
           0
          ],
          [
           0
          ],
          [
           0
          ],
          [
           0
          ],
          [
           0
          ],
          [
           0
          ],
          [
           0
          ],
          [
           2
          ],
          [
           0
          ],
          [
           -1
          ],
          [
           0
          ],
          [
           0
          ],
          [
           0
          ],
          [
           0
          ],
          [
           0
          ],
          [
           0
          ],
          [
           0
          ],
          [
           -1
          ],
          [
           0
          ],
          [
           0
          ],
          [
           0
          ],
          [
           0
          ],
          [
           0
          ],
          [
           0
          ],
          [
           0
          ],
          [
           0
          ],
          [
           0
          ],
          [
           0
          ],
          [
           0
          ],
          [
           0
          ],
          [
           0
          ],
          [
           0
          ],
          [
           0
          ],
          [
           -1
          ],
          [
           -1
          ],
          [
           0
          ],
          [
           0
          ],
          [
           0
          ],
          [
           0
          ],
          [
           0
          ],
          [
           0
          ],
          [
           0
          ],
          [
           0
          ],
          [
           0
          ],
          [
           0
          ],
          [
           0
          ],
          [
           0
          ],
          [
           -1
          ],
          [
           -1
          ],
          [
           0
          ],
          [
           0
          ],
          [
           -1
          ],
          [
           -1
          ],
          [
           -1
          ],
          [
           0
          ],
          [
           0
          ],
          [
           0
          ],
          [
           0
          ],
          [
           0
          ],
          [
           0
          ],
          [
           0
          ],
          [
           0
          ],
          [
           0
          ],
          [
           0
          ],
          [
           0
          ],
          [
           0
          ],
          [
           0
          ],
          [
           0
          ],
          [
           0
          ],
          [
           0
          ],
          [
           0
          ],
          [
           0
          ],
          [
           0
          ],
          [
           0
          ],
          [
           0
          ],
          [
           0
          ],
          [
           0
          ],
          [
           0
          ],
          [
           0
          ],
          [
           0
          ],
          [
           0
          ],
          [
           0
          ],
          [
           0
          ],
          [
           -1
          ],
          [
           -1
          ],
          [
           8
          ],
          [
           -1
          ],
          [
           -1
          ],
          [
           0
          ],
          [
           3
          ],
          [
           0
          ],
          [
           0
          ],
          [
           0
          ],
          [
           0
          ],
          [
           -1
          ],
          [
           -1
          ],
          [
           -1
          ],
          [
           -1
          ],
          [
           -1
          ],
          [
           0
          ],
          [
           0
          ],
          [
           0
          ],
          [
           0
          ],
          [
           0
          ],
          [
           0
          ],
          [
           0
          ],
          [
           0
          ],
          [
           0
          ],
          [
           0
          ],
          [
           0
          ],
          [
           0
          ],
          [
           0
          ],
          [
           0
          ],
          [
           0
          ],
          [
           0
          ],
          [
           0
          ],
          [
           0
          ],
          [
           0
          ],
          [
           0
          ],
          [
           0
          ],
          [
           -1
          ],
          [
           -1
          ],
          [
           -1
          ],
          [
           0
          ],
          [
           0
          ],
          [
           0
          ],
          [
           0
          ],
          [
           0
          ],
          [
           0
          ],
          [
           3
          ],
          [
           3
          ],
          [
           0
          ],
          [
           0
          ],
          [
           -1
          ],
          [
           0
          ],
          [
           0
          ],
          [
           0
          ],
          [
           0
          ],
          [
           0
          ],
          [
           0
          ],
          [
           0
          ],
          [
           -1
          ],
          [
           -1
          ],
          [
           -1
          ],
          [
           -1
          ],
          [
           -1
          ],
          [
           0
          ],
          [
           0
          ],
          [
           0
          ],
          [
           0
          ],
          [
           0
          ],
          [
           0
          ],
          [
           -1
          ],
          [
           0
          ],
          [
           0
          ],
          [
           0
          ],
          [
           0
          ],
          [
           0
          ],
          [
           0
          ],
          [
           0
          ],
          [
           0
          ],
          [
           0
          ],
          [
           -1
          ],
          [
           0
          ],
          [
           0
          ],
          [
           0
          ],
          [
           8
          ],
          [
           4
          ],
          [
           -1
          ],
          [
           -1
          ],
          [
           0
          ],
          [
           0
          ],
          [
           0
          ],
          [
           0
          ],
          [
           0
          ],
          [
           0
          ],
          [
           0
          ],
          [
           0
          ],
          [
           0
          ],
          [
           0
          ],
          [
           -1
          ],
          [
           -1
          ],
          [
           0
          ],
          [
           0
          ],
          [
           0
          ],
          [
           0
          ],
          [
           0
          ],
          [
           0
          ],
          [
           0
          ],
          [
           0
          ],
          [
           0
          ],
          [
           0
          ],
          [
           0
          ],
          [
           0
          ],
          [
           0
          ],
          [
           0
          ],
          [
           0
          ],
          [
           -1
          ],
          [
           -1
          ],
          [
           -1
          ],
          [
           0
          ],
          [
           0
          ],
          [
           0
          ],
          [
           -1
          ],
          [
           -1
          ],
          [
           -1
          ],
          [
           3
          ],
          [
           -1
          ],
          [
           -1
          ],
          [
           0
          ],
          [
           0
          ],
          [
           0
          ],
          [
           0
          ],
          [
           0
          ],
          [
           0
          ],
          [
           0
          ],
          [
           0
          ],
          [
           0
          ],
          [
           0
          ],
          [
           0
          ],
          [
           0
          ],
          [
           0
          ],
          [
           0
          ],
          [
           0
          ],
          [
           0
          ],
          [
           5
          ],
          [
           5
          ],
          [
           5
          ],
          [
           0
          ],
          [
           0
          ],
          [
           0
          ],
          [
           5
          ],
          [
           5
          ],
          [
           5
          ],
          [
           0
          ],
          [
           0
          ],
          [
           0
          ],
          [
           -1
          ],
          [
           9
          ],
          [
           9
          ],
          [
           0
          ],
          [
           0
          ],
          [
           0
          ],
          [
           0
          ],
          [
           0
          ],
          [
           -1
          ],
          [
           -1
          ],
          [
           -1
          ],
          [
           8
          ],
          [
           8
          ],
          [
           8
          ],
          [
           0
          ],
          [
           0
          ],
          [
           0
          ],
          [
           0
          ],
          [
           0
          ],
          [
           0
          ],
          [
           0
          ],
          [
           0
          ],
          [
           0
          ],
          [
           0
          ],
          [
           0
          ],
          [
           0
          ],
          [
           0
          ],
          [
           0
          ],
          [
           0
          ],
          [
           0
          ],
          [
           0
          ],
          [
           -1
          ],
          [
           -1
          ],
          [
           -1
          ],
          [
           -1
          ],
          [
           0
          ],
          [
           0
          ],
          [
           0
          ],
          [
           0
          ],
          [
           0
          ],
          [
           0
          ],
          [
           0
          ],
          [
           3
          ],
          [
           -1
          ],
          [
           -1
          ],
          [
           0
          ],
          [
           -1
          ],
          [
           -1
          ],
          [
           -1
          ],
          [
           0
          ],
          [
           0
          ],
          [
           0
          ],
          [
           0
          ],
          [
           0
          ],
          [
           0
          ],
          [
           0
          ],
          [
           0
          ],
          [
           0
          ],
          [
           0
          ],
          [
           0
          ],
          [
           10
          ],
          [
           10
          ],
          [
           10
          ],
          [
           0
          ],
          [
           0
          ],
          [
           0
          ],
          [
           8
          ],
          [
           0
          ],
          [
           0
          ],
          [
           0
          ],
          [
           5
          ],
          [
           5
          ],
          [
           5
          ],
          [
           -1
          ],
          [
           -1
          ],
          [
           0
          ],
          [
           -1
          ],
          [
           0
          ],
          [
           0
          ],
          [
           0
          ],
          [
           9
          ],
          [
           0
          ],
          [
           0
          ],
          [
           0
          ],
          [
           0
          ],
          [
           0
          ],
          [
           0
          ],
          [
           0
          ],
          [
           0
          ],
          [
           0
          ],
          [
           0
          ],
          [
           0
          ],
          [
           0
          ],
          [
           10
          ],
          [
           10
          ],
          [
           10
          ],
          [
           0
          ],
          [
           0
          ],
          [
           0
          ],
          [
           0
          ],
          [
           0
          ],
          [
           0
          ],
          [
           0
          ],
          [
           0
          ],
          [
           0
          ],
          [
           0
          ],
          [
           0
          ],
          [
           -1
          ],
          [
           0
          ],
          [
           -1
          ],
          [
           5
          ],
          [
           5
          ],
          [
           5
          ],
          [
           -1
          ],
          [
           -1
          ],
          [
           -1
          ],
          [
           -1
          ],
          [
           -1
          ],
          [
           -1
          ],
          [
           0
          ],
          [
           0
          ],
          [
           0
          ],
          [
           -1
          ],
          [
           -1
          ],
          [
           -1
          ],
          [
           0
          ],
          [
           0
          ],
          [
           9
          ],
          [
           9
          ],
          [
           9
          ],
          [
           9
          ],
          [
           9
          ],
          [
           9
          ],
          [
           9
          ],
          [
           9
          ],
          [
           0
          ],
          [
           0
          ],
          [
           0
          ],
          [
           0
          ],
          [
           0
          ],
          [
           0
          ],
          [
           0
          ],
          [
           0
          ],
          [
           0
          ],
          [
           0
          ],
          [
           0
          ],
          [
           0
          ],
          [
           5
          ],
          [
           5
          ],
          [
           5
          ],
          [
           0
          ],
          [
           0
          ],
          [
           0
          ],
          [
           0
          ],
          [
           0
          ],
          [
           0
          ],
          [
           0
          ],
          [
           0
          ],
          [
           0
          ],
          [
           6
          ],
          [
           6
          ],
          [
           6
          ],
          [
           5
          ],
          [
           5
          ],
          [
           5
          ],
          [
           0
          ],
          [
           -1
          ],
          [
           -1
          ],
          [
           0
          ],
          [
           0
          ],
          [
           0
          ],
          [
           0
          ],
          [
           0
          ],
          [
           0
          ],
          [
           -1
          ],
          [
           -1
          ],
          [
           -1
          ],
          [
           0
          ],
          [
           0
          ],
          [
           0
          ],
          [
           -1
          ],
          [
           -1
          ],
          [
           -1
          ],
          [
           -1
          ],
          [
           -1
          ],
          [
           -1
          ],
          [
           -1
          ],
          [
           -1
          ],
          [
           -1
          ],
          [
           0
          ],
          [
           0
          ],
          [
           0
          ],
          [
           0
          ],
          [
           0
          ],
          [
           0
          ],
          [
           0
          ],
          [
           0
          ],
          [
           0
          ],
          [
           0
          ],
          [
           0
          ],
          [
           0
          ],
          [
           0
          ],
          [
           0
          ],
          [
           0
          ],
          [
           0
          ],
          [
           0
          ],
          [
           0
          ],
          [
           0
          ],
          [
           0
          ],
          [
           0
          ],
          [
           0
          ],
          [
           0
          ],
          [
           0
          ],
          [
           0
          ],
          [
           0
          ],
          [
           -1
          ],
          [
           -1
          ],
          [
           -1
          ],
          [
           0
          ],
          [
           0
          ],
          [
           0
          ],
          [
           0
          ],
          [
           0
          ],
          [
           0
          ],
          [
           -1
          ],
          [
           -1
          ],
          [
           11
          ],
          [
           0
          ],
          [
           0
          ],
          [
           0
          ],
          [
           12
          ],
          [
           12
          ],
          [
           12
          ],
          [
           0
          ],
          [
           0
          ],
          [
           0
          ],
          [
           0
          ],
          [
           -1
          ],
          [
           -1
          ],
          [
           -1
          ],
          [
           0
          ],
          [
           0
          ],
          [
           0
          ],
          [
           0
          ],
          [
           0
          ],
          [
           0
          ],
          [
           0
          ],
          [
           0
          ],
          [
           0
          ],
          [
           0
          ],
          [
           0
          ],
          [
           0
          ],
          [
           0
          ],
          [
           0
          ],
          [
           0
          ],
          [
           0
          ],
          [
           0
          ],
          [
           -1
          ],
          [
           0
          ],
          [
           0
          ],
          [
           0
          ],
          [
           -1
          ],
          [
           0
          ],
          [
           0
          ],
          [
           0
          ],
          [
           0
          ],
          [
           0
          ],
          [
           0
          ],
          [
           0
          ],
          [
           0
          ],
          [
           0
          ],
          [
           0
          ],
          [
           0
          ],
          [
           0
          ],
          [
           0
          ],
          [
           0
          ],
          [
           0
          ],
          [
           0
          ],
          [
           0
          ],
          [
           0
          ],
          [
           0
          ],
          [
           0
          ],
          [
           0
          ],
          [
           -1
          ],
          [
           -1
          ],
          [
           0
          ],
          [
           -1
          ],
          [
           0
          ],
          [
           -1
          ],
          [
           -1
          ],
          [
           -1
          ],
          [
           -1
          ],
          [
           0
          ],
          [
           0
          ],
          [
           0
          ],
          [
           0
          ],
          [
           5
          ],
          [
           5
          ],
          [
           5
          ],
          [
           -1
          ],
          [
           0
          ],
          [
           0
          ],
          [
           0
          ],
          [
           0
          ],
          [
           0
          ],
          [
           -1
          ],
          [
           0
          ],
          [
           -1
          ],
          [
           -1
          ],
          [
           -1
          ],
          [
           9
          ],
          [
           0
          ],
          [
           0
          ],
          [
           0
          ],
          [
           0
          ],
          [
           0
          ],
          [
           0
          ],
          [
           0
          ],
          [
           0
          ],
          [
           0
          ],
          [
           0
          ],
          [
           0
          ],
          [
           0
          ],
          [
           0
          ],
          [
           -1
          ],
          [
           -1
          ],
          [
           -1
          ],
          [
           0
          ],
          [
           0
          ],
          [
           -1
          ],
          [
           -1
          ],
          [
           -1
          ],
          [
           0
          ],
          [
           0
          ],
          [
           0
          ],
          [
           0
          ],
          [
           0
          ],
          [
           0
          ],
          [
           0
          ],
          [
           0
          ],
          [
           0
          ],
          [
           -1
          ],
          [
           -1
          ],
          [
           -1
          ],
          [
           0
          ],
          [
           0
          ],
          [
           0
          ],
          [
           -1
          ],
          [
           -1
          ],
          [
           -1
          ],
          [
           0
          ],
          [
           0
          ],
          [
           0
          ],
          [
           0
          ],
          [
           0
          ],
          [
           0
          ],
          [
           -1
          ],
          [
           -1
          ],
          [
           0
          ],
          [
           0
          ],
          [
           0
          ],
          [
           -1
          ],
          [
           -1
          ],
          [
           0
          ],
          [
           0
          ],
          [
           -1
          ],
          [
           0
          ],
          [
           0
          ],
          [
           -1
          ],
          [
           -1
          ],
          [
           -1
          ],
          [
           -1
          ],
          [
           -1
          ],
          [
           -1
          ],
          [
           -1
          ],
          [
           -1
          ],
          [
           0
          ],
          [
           0
          ],
          [
           0
          ],
          [
           -1
          ],
          [
           0
          ],
          [
           0
          ],
          [
           0
          ],
          [
           0
          ],
          [
           0
          ],
          [
           0
          ],
          [
           0
          ],
          [
           0
          ],
          [
           0
          ],
          [
           0
          ],
          [
           0
          ],
          [
           0
          ],
          [
           0
          ],
          [
           0
          ],
          [
           0
          ],
          [
           0
          ],
          [
           0
          ],
          [
           0
          ],
          [
           0
          ],
          [
           0
          ],
          [
           0
          ],
          [
           0
          ],
          [
           0
          ],
          [
           -1
          ],
          [
           -1
          ],
          [
           3
          ],
          [
           -1
          ],
          [
           -1
          ],
          [
           0
          ],
          [
           0
          ],
          [
           -1
          ],
          [
           -1
          ],
          [
           -1
          ],
          [
           -1
          ],
          [
           -1
          ],
          [
           -1
          ],
          [
           0
          ],
          [
           0
          ],
          [
           0
          ],
          [
           0
          ],
          [
           0
          ],
          [
           -1
          ],
          [
           -1
          ],
          [
           0
          ],
          [
           0
          ],
          [
           0
          ],
          [
           0
          ],
          [
           0
          ],
          [
           -1
          ],
          [
           0
          ],
          [
           0
          ],
          [
           12
          ],
          [
           12
          ],
          [
           12
          ],
          [
           0
          ],
          [
           0
          ],
          [
           0
          ],
          [
           0
          ],
          [
           0
          ],
          [
           0
          ],
          [
           0
          ],
          [
           0
          ],
          [
           0
          ],
          [
           -1
          ],
          [
           -1
          ],
          [
           -1
          ],
          [
           -1
          ],
          [
           -1
          ],
          [
           -1
          ],
          [
           0
          ],
          [
           0
          ],
          [
           0
          ],
          [
           0
          ],
          [
           0
          ],
          [
           0
          ],
          [
           0
          ],
          [
           -1
          ],
          [
           -1
          ],
          [
           9
          ],
          [
           -1
          ],
          [
           0
          ],
          [
           -1
          ],
          [
           0
          ],
          [
           0
          ],
          [
           0
          ],
          [
           0
          ],
          [
           -1
          ],
          [
           -1
          ],
          [
           -1
          ],
          [
           -1
          ],
          [
           0
          ],
          [
           0
          ],
          [
           0
          ],
          [
           0
          ],
          [
           -1
          ],
          [
           -1
          ],
          [
           -1
          ],
          [
           0
          ],
          [
           0
          ],
          [
           0
          ],
          [
           0
          ],
          [
           0
          ],
          [
           0
          ],
          [
           -1
          ],
          [
           -1
          ],
          [
           -1
          ],
          [
           0
          ],
          [
           -1
          ],
          [
           -1
          ],
          [
           0
          ],
          [
           0
          ],
          [
           0
          ],
          [
           1
          ],
          [
           1
          ],
          [
           1
          ],
          [
           0
          ],
          [
           0
          ],
          [
           0
          ],
          [
           0
          ],
          [
           -1
          ],
          [
           -1
          ],
          [
           0
          ],
          [
           0
          ],
          [
           0
          ],
          [
           0
          ],
          [
           0
          ],
          [
           0
          ],
          [
           -1
          ],
          [
           -1
          ],
          [
           -1
          ],
          [
           -1
          ],
          [
           -1
          ],
          [
           -1
          ],
          [
           -1
          ],
          [
           -1
          ],
          [
           -1
          ],
          [
           -1
          ],
          [
           -1
          ],
          [
           0
          ],
          [
           0
          ],
          [
           0
          ],
          [
           0
          ],
          [
           0
          ],
          [
           0
          ],
          [
           0
          ],
          [
           0
          ],
          [
           0
          ],
          [
           -1
          ],
          [
           0
          ],
          [
           0
          ],
          [
           0
          ],
          [
           9
          ],
          [
           0
          ],
          [
           0
          ],
          [
           -1
          ],
          [
           -1
          ],
          [
           -1
          ],
          [
           0
          ],
          [
           0
          ],
          [
           0
          ],
          [
           0
          ],
          [
           0
          ],
          [
           0
          ],
          [
           0
          ],
          [
           0
          ],
          [
           0
          ],
          [
           0
          ],
          [
           0
          ],
          [
           0
          ],
          [
           -1
          ],
          [
           -1
          ],
          [
           0
          ],
          [
           0
          ],
          [
           0
          ],
          [
           -1
          ],
          [
           0
          ],
          [
           0
          ],
          [
           0
          ],
          [
           0
          ],
          [
           -1
          ],
          [
           0
          ],
          [
           0
          ],
          [
           -1
          ],
          [
           -1
          ],
          [
           0
          ],
          [
           0
          ],
          [
           0
          ],
          [
           0
          ],
          [
           0
          ],
          [
           0
          ],
          [
           0
          ],
          [
           0
          ],
          [
           0
          ],
          [
           0
          ],
          [
           0
          ],
          [
           0
          ],
          [
           0
          ],
          [
           -1
          ],
          [
           -1
          ],
          [
           -1
          ],
          [
           11
          ],
          [
           11
          ],
          [
           0
          ],
          [
           0
          ],
          [
           0
          ],
          [
           0
          ],
          [
           2
          ],
          [
           2
          ],
          [
           0
          ],
          [
           0
          ],
          [
           0
          ],
          [
           0
          ],
          [
           0
          ],
          [
           0
          ],
          [
           0
          ],
          [
           0
          ],
          [
           0
          ],
          [
           0
          ],
          [
           0
          ],
          [
           0
          ],
          [
           -1
          ],
          [
           0
          ],
          [
           0
          ],
          [
           -1
          ],
          [
           0
          ],
          [
           0
          ],
          [
           -1
          ],
          [
           -1
          ],
          [
           -1
          ],
          [
           -1
          ],
          [
           0
          ],
          [
           0
          ],
          [
           0
          ],
          [
           0
          ],
          [
           0
          ],
          [
           0
          ],
          [
           0
          ],
          [
           0
          ],
          [
           0
          ],
          [
           0
          ],
          [
           0
          ],
          [
           0
          ],
          [
           0
          ],
          [
           0
          ],
          [
           0
          ],
          [
           0
          ],
          [
           0
          ],
          [
           0
          ],
          [
           -1
          ],
          [
           -1
          ],
          [
           0
          ],
          [
           0
          ],
          [
           11
          ],
          [
           11
          ],
          [
           11
          ],
          [
           0
          ],
          [
           0
          ],
          [
           0
          ],
          [
           0
          ],
          [
           0
          ],
          [
           0
          ],
          [
           -1
          ],
          [
           -1
          ],
          [
           -1
          ],
          [
           0
          ],
          [
           0
          ],
          [
           0
          ],
          [
           0
          ],
          [
           -1
          ],
          [
           -1
          ],
          [
           0
          ],
          [
           0
          ],
          [
           0
          ],
          [
           0
          ],
          [
           0
          ],
          [
           0
          ],
          [
           0
          ],
          [
           0
          ],
          [
           9
          ],
          [
           9
          ],
          [
           0
          ],
          [
           0
          ],
          [
           0
          ],
          [
           0
          ],
          [
           0
          ],
          [
           0
          ],
          [
           0
          ],
          [
           0
          ],
          [
           -1
          ],
          [
           -1
          ],
          [
           -1
          ],
          [
           0
          ],
          [
           0
          ],
          [
           0
          ],
          [
           0
          ],
          [
           0
          ],
          [
           0
          ],
          [
           0
          ],
          [
           0
          ],
          [
           0
          ],
          [
           -1
          ],
          [
           -1
          ],
          [
           -1
          ],
          [
           0
          ],
          [
           0
          ],
          [
           0
          ],
          [
           0
          ],
          [
           0
          ],
          [
           0
          ],
          [
           0
          ],
          [
           0
          ],
          [
           0
          ],
          [
           0
          ],
          [
           0
          ],
          [
           -1
          ],
          [
           0
          ],
          [
           0
          ],
          [
           0
          ],
          [
           -1
          ],
          [
           0
          ],
          [
           0
          ],
          [
           0
          ],
          [
           0
          ],
          [
           0
          ],
          [
           0
          ],
          [
           0
          ],
          [
           0
          ],
          [
           0
          ],
          [
           0
          ],
          [
           0
          ],
          [
           0
          ],
          [
           0
          ],
          [
           0
          ],
          [
           0
          ],
          [
           0
          ],
          [
           0
          ],
          [
           0
          ],
          [
           0
          ],
          [
           0
          ],
          [
           0
          ],
          [
           0
          ],
          [
           0
          ],
          [
           0
          ],
          [
           0
          ],
          [
           0
          ],
          [
           0
          ],
          [
           0
          ],
          [
           3
          ],
          [
           0
          ],
          [
           0
          ],
          [
           0
          ],
          [
           0
          ],
          [
           3
          ],
          [
           0
          ],
          [
           0
          ],
          [
           0
          ],
          [
           0
          ],
          [
           0
          ],
          [
           0
          ],
          [
           0
          ],
          [
           0
          ],
          [
           0
          ],
          [
           0
          ],
          [
           0
          ],
          [
           0
          ],
          [
           0
          ],
          [
           0
          ],
          [
           0
          ],
          [
           0
          ],
          [
           0
          ],
          [
           0
          ],
          [
           0
          ],
          [
           2
          ],
          [
           2
          ],
          [
           0
          ],
          [
           0
          ],
          [
           0
          ],
          [
           0
          ],
          [
           -1
          ],
          [
           0
          ],
          [
           0
          ],
          [
           0
          ],
          [
           0
          ],
          [
           0
          ],
          [
           0
          ],
          [
           0
          ],
          [
           0
          ],
          [
           0
          ],
          [
           0
          ],
          [
           0
          ],
          [
           -1
          ],
          [
           -1
          ],
          [
           -1
          ],
          [
           0
          ],
          [
           0
          ],
          [
           0
          ],
          [
           -1
          ],
          [
           -1
          ],
          [
           0
          ],
          [
           0
          ],
          [
           -1
          ],
          [
           -1
          ],
          [
           0
          ],
          [
           0
          ],
          [
           0
          ],
          [
           0
          ],
          [
           0
          ],
          [
           0
          ],
          [
           0
          ],
          [
           12
          ],
          [
           12
          ],
          [
           0
          ],
          [
           0
          ],
          [
           0
          ],
          [
           0
          ],
          [
           0
          ],
          [
           0
          ],
          [
           0
          ],
          [
           -1
          ],
          [
           -1
          ],
          [
           0
          ],
          [
           0
          ],
          [
           0
          ],
          [
           0
          ],
          [
           0
          ],
          [
           -1
          ],
          [
           0
          ],
          [
           0
          ],
          [
           0
          ],
          [
           0
          ],
          [
           0
          ],
          [
           0
          ],
          [
           0
          ],
          [
           0
          ],
          [
           -1
          ],
          [
           -1
          ],
          [
           0
          ],
          [
           0
          ],
          [
           0
          ],
          [
           -1
          ],
          [
           0
          ],
          [
           0
          ],
          [
           0
          ],
          [
           0
          ],
          [
           -1
          ],
          [
           -1
          ],
          [
           3
          ],
          [
           0
          ],
          [
           0
          ],
          [
           0
          ],
          [
           0
          ],
          [
           0
          ],
          [
           0
          ],
          [
           0
          ],
          [
           0
          ],
          [
           0
          ],
          [
           0
          ],
          [
           -1
          ],
          [
           -1
          ],
          [
           -1
          ],
          [
           0
          ],
          [
           0
          ],
          [
           0
          ],
          [
           0
          ],
          [
           0
          ],
          [
           0
          ],
          [
           0
          ],
          [
           0
          ],
          [
           0
          ],
          [
           0
          ],
          [
           -1
          ],
          [
           -1
          ],
          [
           -1
          ],
          [
           -1
          ],
          [
           0
          ],
          [
           0
          ],
          [
           -1
          ],
          [
           -1
          ],
          [
           0
          ],
          [
           0
          ],
          [
           0
          ],
          [
           0
          ],
          [
           0
          ],
          [
           0
          ],
          [
           0
          ],
          [
           -1
          ],
          [
           -1
          ],
          [
           -1
          ],
          [
           -1
          ],
          [
           -1
          ],
          [
           0
          ],
          [
           0
          ],
          [
           0
          ],
          [
           -1
          ],
          [
           -1
          ],
          [
           -1
          ],
          [
           -1
          ],
          [
           -1
          ],
          [
           0
          ],
          [
           0
          ],
          [
           0
          ],
          [
           0
          ],
          [
           0
          ],
          [
           0
          ]
         ],
         "hovertemplate": "0=%{x}<br>1=%{y}<br>name=%{customdata[0]}<br>index=%{marker.color}<extra></extra>",
         "legendgroup": "",
         "marker": {
          "color": [
           0,
           0,
           -1,
           -1,
           -1,
           0,
           0,
           0,
           0,
           0,
           0,
           0,
           0,
           0,
           0,
           0,
           0,
           0,
           0,
           -1,
           0,
           0,
           0,
           0,
           0,
           0,
           1,
           1,
           1,
           0,
           0,
           0,
           0,
           0,
           0,
           0,
           0,
           0,
           0,
           0,
           0,
           0,
           0,
           0,
           0,
           0,
           0,
           0,
           0,
           0,
           0,
           0,
           0,
           0,
           0,
           0,
           0,
           0,
           -1,
           -1,
           -1,
           0,
           0,
           0,
           0,
           0,
           0,
           0,
           0,
           0,
           0,
           0,
           0,
           0,
           0,
           0,
           -1,
           -1,
           -1,
           0,
           0,
           0,
           0,
           0,
           0,
           0,
           0,
           0,
           0,
           0,
           0,
           0,
           0,
           0,
           0,
           0,
           0,
           0,
           0,
           0,
           0,
           0,
           0,
           0,
           0,
           0,
           -1,
           -1,
           0,
           0,
           0,
           0,
           0,
           0,
           0,
           0,
           -1,
           0,
           -1,
           -1,
           -1,
           -1,
           0,
           0,
           0,
           0,
           0,
           0,
           0,
           0,
           0,
           -1,
           -1,
           -1,
           -1,
           -1,
           0,
           0,
           0,
           0,
           2,
           0,
           0,
           0,
           0,
           0,
           0,
           0,
           0,
           -1,
           -1,
           -1,
           0,
           0,
           0,
           -1,
           0,
           -1,
           0,
           0,
           -1,
           0,
           0,
           0,
           0,
           0,
           0,
           0,
           0,
           0,
           0,
           3,
           3,
           0,
           0,
           0,
           0,
           0,
           0,
           0,
           0,
           0,
           0,
           -1,
           -1,
           -1,
           0,
           0,
           0,
           0,
           0,
           0,
           0,
           0,
           0,
           0,
           0,
           0,
           0,
           0,
           0,
           0,
           0,
           0,
           0,
           0,
           0,
           -1,
           -1,
           -1,
           -1,
           0,
           0,
           0,
           0,
           0,
           0,
           0,
           0,
           0,
           -1,
           -1,
           0,
           0,
           0,
           0,
           0,
           0,
           0,
           0,
           0,
           0,
           0,
           0,
           0,
           -1,
           -1,
           -1,
           -1,
           -1,
           -1,
           -1,
           -1,
           -1,
           0,
           0,
           0,
           0,
           0,
           0,
           -1,
           0,
           0,
           0,
           0,
           0,
           0,
           0,
           0,
           0,
           0,
           0,
           0,
           0,
           0,
           0,
           0,
           0,
           0,
           -1,
           -1,
           -1,
           0,
           0,
           0,
           0,
           0,
           0,
           0,
           0,
           0,
           0,
           0,
           0,
           0,
           -1,
           -1,
           -1,
           0,
           0,
           0,
           -1,
           -1,
           0,
           0,
           0,
           0,
           0,
           0,
           0,
           0,
           0,
           0,
           0,
           0,
           0,
           0,
           0,
           0,
           0,
           0,
           0,
           0,
           0,
           0,
           0,
           0,
           0,
           0,
           0,
           -1,
           0,
           0,
           0,
           0,
           0,
           0,
           0,
           0,
           0,
           0,
           0,
           0,
           0,
           -1,
           0,
           0,
           0,
           0,
           0,
           0,
           -1,
           -1,
           -1,
           -1,
           0,
           -1,
           0,
           0,
           0,
           0,
           0,
           0,
           0,
           -1,
           -1,
           -1,
           0,
           0,
           0,
           0,
           0,
           0,
           0,
           0,
           0,
           4,
           4,
           4,
           0,
           0,
           0,
           0,
           0,
           0,
           0,
           0,
           0,
           0,
           0,
           0,
           0,
           0,
           -1,
           0,
           0,
           0,
           0,
           0,
           0,
           0,
           0,
           0,
           0,
           0,
           0,
           0,
           0,
           0,
           0,
           0,
           0,
           0,
           0,
           0,
           0,
           0,
           0,
           0,
           0,
           0,
           0,
           0,
           0,
           0,
           0,
           0,
           0,
           0,
           0,
           0,
           0,
           0,
           0,
           0,
           0,
           0,
           0,
           0,
           0,
           0,
           0,
           0,
           0,
           0,
           0,
           0,
           -1,
           -1,
           -1,
           0,
           0,
           0,
           0,
           0,
           0,
           0,
           0,
           0,
           0,
           0,
           5,
           5,
           5,
           0,
           0,
           0,
           0,
           0,
           0,
           0,
           0,
           0,
           11,
           0,
           0,
           0,
           0,
           0,
           0,
           0,
           0,
           0,
           0,
           0,
           0,
           0,
           0,
           0,
           0,
           0,
           0,
           0,
           0,
           0,
           0,
           0,
           0,
           0,
           0,
           0,
           0,
           0,
           0,
           0,
           0,
           0,
           0,
           0,
           0,
           -1,
           -1,
           -1,
           3,
           3,
           0,
           -1,
           -1,
           -1,
           0,
           0,
           0,
           0,
           0,
           0,
           0,
           0,
           0,
           0,
           4,
           4,
           4,
           0,
           0,
           0,
           -1,
           0,
           0,
           0,
           0,
           0,
           0,
           0,
           0,
           0,
           0,
           0,
           2,
           0,
           0,
           0,
           0,
           0,
           0,
           0,
           0,
           0,
           0,
           0,
           0,
           0,
           0,
           0,
           0,
           0,
           0,
           0,
           0,
           0,
           6,
           6,
           6,
           0,
           0,
           0,
           0,
           0,
           0,
           0,
           0,
           0,
           -1,
           -1,
           -1,
           0,
           0,
           0,
           0,
           0,
           0,
           0,
           -1,
           -1,
           0,
           0,
           0,
           0,
           0,
           0,
           0,
           0,
           0,
           0,
           0,
           0,
           0,
           -1,
           -1,
           -1,
           0,
           0,
           0,
           0,
           0,
           0,
           0,
           0,
           3,
           -1,
           -1,
           -1,
           -1,
           -1,
           -1,
           -1,
           -1,
           -1,
           -1,
           0,
           0,
           0,
           0,
           0,
           0,
           7,
           7,
           7,
           -1,
           0,
           0,
           0,
           0,
           0,
           0,
           0,
           -1,
           -1,
           -1,
           -1,
           0,
           0,
           0,
           -1,
           0,
           0,
           0,
           0,
           0,
           0,
           0,
           0,
           0,
           0,
           0,
           0,
           0,
           0,
           3,
           3,
           3,
           0,
           0,
           0,
           0,
           0,
           0,
           0,
           0,
           0,
           0,
           0,
           0,
           0,
           0,
           0,
           8,
           8,
           8,
           0,
           0,
           0,
           0,
           0,
           0,
           4,
           4,
           4,
           0,
           0,
           0,
           -1,
           -1,
           -1,
           0,
           0,
           0,
           0,
           0,
           0,
           0,
           0,
           0,
           0,
           0,
           0,
           0,
           0,
           0,
           0,
           0,
           0,
           0,
           0,
           0,
           0,
           0,
           0,
           0,
           0,
           0,
           0,
           0,
           0,
           0,
           0,
           0,
           0,
           0,
           0,
           0,
           0,
           0,
           0,
           0,
           0,
           0,
           0,
           0,
           -1,
           -1,
           -1,
           0,
           0,
           7,
           7,
           7,
           0,
           0,
           0,
           0,
           0,
           0,
           -1,
           -1,
           -1,
           0,
           0,
           0,
           0,
           0,
           0,
           0,
           0,
           0,
           0,
           0,
           8,
           8,
           8,
           0,
           0,
           0,
           0,
           0,
           0,
           0,
           0,
           0,
           0,
           0,
           0,
           -1,
           -1,
           -1,
           0,
           0,
           0,
           0,
           0,
           0,
           -1,
           -1,
           -1,
           4,
           4,
           4,
           0,
           0,
           0,
           0,
           0,
           0,
           0,
           0,
           0,
           0,
           0,
           0,
           0,
           0,
           0,
           0,
           0,
           0,
           0,
           0,
           0,
           0,
           0,
           0,
           0,
           0,
           0,
           0,
           0,
           -1,
           -1,
           -1,
           0,
           0,
           0,
           0,
           0,
           0,
           0,
           0,
           0,
           0,
           0,
           0,
           0,
           -1,
           -1,
           -1,
           0,
           0,
           0,
           0,
           0,
           0,
           0,
           0,
           0,
           0,
           0,
           0,
           0,
           0,
           0,
           -1,
           0,
           0,
           0,
           0,
           0,
           0,
           0,
           0,
           0,
           0,
           0,
           0,
           0,
           0,
           0,
           0,
           0,
           0,
           0,
           0,
           0,
           0,
           0,
           0,
           0,
           0,
           0,
           0,
           0,
           2,
           0,
           0,
           0,
           0,
           0,
           0,
           0,
           0,
           0,
           0,
           0,
           0,
           0,
           -1,
           0,
           -1,
           -1,
           -1,
           0,
           0,
           0,
           -1,
           -1,
           -1,
           -1,
           0,
           0,
           0,
           0,
           0,
           0,
           0,
           0,
           0,
           0,
           0,
           0,
           0,
           0,
           0,
           0,
           0,
           0,
           0,
           2,
           0,
           -1,
           0,
           0,
           0,
           0,
           0,
           0,
           0,
           -1,
           0,
           0,
           0,
           0,
           0,
           0,
           0,
           0,
           0,
           0,
           0,
           0,
           0,
           0,
           0,
           -1,
           -1,
           0,
           0,
           0,
           0,
           0,
           0,
           0,
           0,
           0,
           0,
           0,
           0,
           -1,
           -1,
           0,
           0,
           -1,
           -1,
           -1,
           0,
           0,
           0,
           0,
           0,
           0,
           0,
           0,
           0,
           0,
           0,
           0,
           0,
           0,
           0,
           0,
           0,
           0,
           0,
           0,
           0,
           0,
           0,
           0,
           0,
           0,
           0,
           0,
           0,
           -1,
           -1,
           8,
           -1,
           -1,
           0,
           3,
           0,
           0,
           0,
           0,
           -1,
           -1,
           -1,
           -1,
           -1,
           0,
           0,
           0,
           0,
           0,
           0,
           0,
           0,
           0,
           0,
           0,
           0,
           0,
           0,
           0,
           0,
           0,
           0,
           0,
           0,
           0,
           -1,
           -1,
           -1,
           0,
           0,
           0,
           0,
           0,
           0,
           3,
           3,
           0,
           0,
           -1,
           0,
           0,
           0,
           0,
           0,
           0,
           0,
           -1,
           -1,
           -1,
           -1,
           -1,
           0,
           0,
           0,
           0,
           0,
           0,
           -1,
           0,
           0,
           0,
           0,
           0,
           0,
           0,
           0,
           0,
           -1,
           0,
           0,
           0,
           8,
           4,
           -1,
           -1,
           0,
           0,
           0,
           0,
           0,
           0,
           0,
           0,
           0,
           0,
           -1,
           -1,
           0,
           0,
           0,
           0,
           0,
           0,
           0,
           0,
           0,
           0,
           0,
           0,
           0,
           0,
           0,
           -1,
           -1,
           -1,
           0,
           0,
           0,
           -1,
           -1,
           -1,
           3,
           -1,
           -1,
           0,
           0,
           0,
           0,
           0,
           0,
           0,
           0,
           0,
           0,
           0,
           0,
           0,
           0,
           0,
           0,
           5,
           5,
           5,
           0,
           0,
           0,
           5,
           5,
           5,
           0,
           0,
           0,
           -1,
           9,
           9,
           0,
           0,
           0,
           0,
           0,
           -1,
           -1,
           -1,
           8,
           8,
           8,
           0,
           0,
           0,
           0,
           0,
           0,
           0,
           0,
           0,
           0,
           0,
           0,
           0,
           0,
           0,
           0,
           0,
           -1,
           -1,
           -1,
           -1,
           0,
           0,
           0,
           0,
           0,
           0,
           0,
           3,
           -1,
           -1,
           0,
           -1,
           -1,
           -1,
           0,
           0,
           0,
           0,
           0,
           0,
           0,
           0,
           0,
           0,
           0,
           10,
           10,
           10,
           0,
           0,
           0,
           8,
           0,
           0,
           0,
           5,
           5,
           5,
           -1,
           -1,
           0,
           -1,
           0,
           0,
           0,
           9,
           0,
           0,
           0,
           0,
           0,
           0,
           0,
           0,
           0,
           0,
           0,
           0,
           10,
           10,
           10,
           0,
           0,
           0,
           0,
           0,
           0,
           0,
           0,
           0,
           0,
           0,
           -1,
           0,
           -1,
           5,
           5,
           5,
           -1,
           -1,
           -1,
           -1,
           -1,
           -1,
           0,
           0,
           0,
           -1,
           -1,
           -1,
           0,
           0,
           9,
           9,
           9,
           9,
           9,
           9,
           9,
           9,
           0,
           0,
           0,
           0,
           0,
           0,
           0,
           0,
           0,
           0,
           0,
           0,
           5,
           5,
           5,
           0,
           0,
           0,
           0,
           0,
           0,
           0,
           0,
           0,
           6,
           6,
           6,
           5,
           5,
           5,
           0,
           -1,
           -1,
           0,
           0,
           0,
           0,
           0,
           0,
           -1,
           -1,
           -1,
           0,
           0,
           0,
           -1,
           -1,
           -1,
           -1,
           -1,
           -1,
           -1,
           -1,
           -1,
           0,
           0,
           0,
           0,
           0,
           0,
           0,
           0,
           0,
           0,
           0,
           0,
           0,
           0,
           0,
           0,
           0,
           0,
           0,
           0,
           0,
           0,
           0,
           0,
           0,
           0,
           -1,
           -1,
           -1,
           0,
           0,
           0,
           0,
           0,
           0,
           -1,
           -1,
           11,
           0,
           0,
           0,
           12,
           12,
           12,
           0,
           0,
           0,
           0,
           -1,
           -1,
           -1,
           0,
           0,
           0,
           0,
           0,
           0,
           0,
           0,
           0,
           0,
           0,
           0,
           0,
           0,
           0,
           0,
           0,
           -1,
           0,
           0,
           0,
           -1,
           0,
           0,
           0,
           0,
           0,
           0,
           0,
           0,
           0,
           0,
           0,
           0,
           0,
           0,
           0,
           0,
           0,
           0,
           0,
           0,
           0,
           -1,
           -1,
           0,
           -1,
           0,
           -1,
           -1,
           -1,
           -1,
           0,
           0,
           0,
           0,
           5,
           5,
           5,
           -1,
           0,
           0,
           0,
           0,
           0,
           -1,
           0,
           -1,
           -1,
           -1,
           9,
           0,
           0,
           0,
           0,
           0,
           0,
           0,
           0,
           0,
           0,
           0,
           0,
           0,
           -1,
           -1,
           -1,
           0,
           0,
           -1,
           -1,
           -1,
           0,
           0,
           0,
           0,
           0,
           0,
           0,
           0,
           0,
           -1,
           -1,
           -1,
           0,
           0,
           0,
           -1,
           -1,
           -1,
           0,
           0,
           0,
           0,
           0,
           0,
           -1,
           -1,
           0,
           0,
           0,
           -1,
           -1,
           0,
           0,
           -1,
           0,
           0,
           -1,
           -1,
           -1,
           -1,
           -1,
           -1,
           -1,
           -1,
           0,
           0,
           0,
           -1,
           0,
           0,
           0,
           0,
           0,
           0,
           0,
           0,
           0,
           0,
           0,
           0,
           0,
           0,
           0,
           0,
           0,
           0,
           0,
           0,
           0,
           0,
           0,
           -1,
           -1,
           3,
           -1,
           -1,
           0,
           0,
           -1,
           -1,
           -1,
           -1,
           -1,
           -1,
           0,
           0,
           0,
           0,
           0,
           -1,
           -1,
           0,
           0,
           0,
           0,
           0,
           -1,
           0,
           0,
           12,
           12,
           12,
           0,
           0,
           0,
           0,
           0,
           0,
           0,
           0,
           0,
           -1,
           -1,
           -1,
           -1,
           -1,
           -1,
           0,
           0,
           0,
           0,
           0,
           0,
           0,
           -1,
           -1,
           9,
           -1,
           0,
           -1,
           0,
           0,
           0,
           0,
           -1,
           -1,
           -1,
           -1,
           0,
           0,
           0,
           0,
           -1,
           -1,
           -1,
           0,
           0,
           0,
           0,
           0,
           0,
           -1,
           -1,
           -1,
           0,
           -1,
           -1,
           0,
           0,
           0,
           1,
           1,
           1,
           0,
           0,
           0,
           0,
           -1,
           -1,
           0,
           0,
           0,
           0,
           0,
           0,
           -1,
           -1,
           -1,
           -1,
           -1,
           -1,
           -1,
           -1,
           -1,
           -1,
           -1,
           0,
           0,
           0,
           0,
           0,
           0,
           0,
           0,
           0,
           -1,
           0,
           0,
           0,
           9,
           0,
           0,
           -1,
           -1,
           -1,
           0,
           0,
           0,
           0,
           0,
           0,
           0,
           0,
           0,
           0,
           0,
           0,
           -1,
           -1,
           0,
           0,
           0,
           -1,
           0,
           0,
           0,
           0,
           -1,
           0,
           0,
           -1,
           -1,
           0,
           0,
           0,
           0,
           0,
           0,
           0,
           0,
           0,
           0,
           0,
           0,
           0,
           -1,
           -1,
           -1,
           11,
           11,
           0,
           0,
           0,
           0,
           2,
           2,
           0,
           0,
           0,
           0,
           0,
           0,
           0,
           0,
           0,
           0,
           0,
           0,
           -1,
           0,
           0,
           -1,
           0,
           0,
           -1,
           -1,
           -1,
           -1,
           0,
           0,
           0,
           0,
           0,
           0,
           0,
           0,
           0,
           0,
           0,
           0,
           0,
           0,
           0,
           0,
           0,
           0,
           -1,
           -1,
           0,
           0,
           11,
           11,
           11,
           0,
           0,
           0,
           0,
           0,
           0,
           -1,
           -1,
           -1,
           0,
           0,
           0,
           0,
           -1,
           -1,
           0,
           0,
           0,
           0,
           0,
           0,
           0,
           0,
           9,
           9,
           0,
           0,
           0,
           0,
           0,
           0,
           0,
           0,
           -1,
           -1,
           -1,
           0,
           0,
           0,
           0,
           0,
           0,
           0,
           0,
           0,
           -1,
           -1,
           -1,
           0,
           0,
           0,
           0,
           0,
           0,
           0,
           0,
           0,
           0,
           0,
           -1,
           0,
           0,
           0,
           -1,
           0,
           0,
           0,
           0,
           0,
           0,
           0,
           0,
           0,
           0,
           0,
           0,
           0,
           0,
           0,
           0,
           0,
           0,
           0,
           0,
           0,
           0,
           0,
           0,
           0,
           0,
           0,
           0,
           3,
           0,
           0,
           0,
           0,
           3,
           0,
           0,
           0,
           0,
           0,
           0,
           0,
           0,
           0,
           0,
           0,
           0,
           0,
           0,
           0,
           0,
           0,
           0,
           0,
           2,
           2,
           0,
           0,
           0,
           0,
           -1,
           0,
           0,
           0,
           0,
           0,
           0,
           0,
           0,
           0,
           0,
           0,
           -1,
           -1,
           -1,
           0,
           0,
           0,
           -1,
           -1,
           0,
           0,
           -1,
           -1,
           0,
           0,
           0,
           0,
           0,
           0,
           0,
           12,
           12,
           0,
           0,
           0,
           0,
           0,
           0,
           0,
           -1,
           -1,
           0,
           0,
           0,
           0,
           0,
           -1,
           0,
           0,
           0,
           0,
           0,
           0,
           0,
           0,
           -1,
           -1,
           0,
           0,
           0,
           -1,
           0,
           0,
           0,
           0,
           -1,
           -1,
           3,
           0,
           0,
           0,
           0,
           0,
           0,
           0,
           0,
           0,
           0,
           -1,
           -1,
           -1,
           0,
           0,
           0,
           0,
           0,
           0,
           0,
           0,
           0,
           0,
           -1,
           -1,
           -1,
           -1,
           0,
           0,
           -1,
           -1,
           0,
           0,
           0,
           0,
           0,
           0,
           0,
           -1,
           -1,
           -1,
           -1,
           -1,
           0,
           0,
           0,
           -1,
           -1,
           -1,
           -1,
           -1,
           0,
           0,
           0,
           0,
           0,
           0
          ],
          "coloraxis": "coloraxis",
          "symbol": "circle"
         },
         "mode": "markers",
         "name": "",
         "showlegend": false,
         "type": "scattergl",
         "x": [
          -0.4168430268764496,
          -0.09753024578094482,
          0.6253945231437683,
          0.3421950340270996,
          0.6958495378494263,
          -1.0610097646713257,
          -1.0089970827102661,
          -0.9944497346878052,
          -1.4979108572006226,
          -1.6547268629074097,
          -1.8014041185379028,
          -1.1803147792816162,
          -1.311904788017273,
          -0.9578768014907837,
          -1.6279760599136353,
          -1.6234482526779175,
          -1.6896166801452637,
          -1.5308881998062134,
          -1.6074131727218628,
          -0.49652040004730225,
          0.8618939518928528,
          0.816875159740448,
          0.8296448588371277,
          -1.0746060609817505,
          -1.2061270475387573,
          -1.1816766262054443,
          1.1944389343261719,
          0.9649865031242371,
          1.1418895721435547,
          -0.9672312140464783,
          -1.449406385421753,
          -1.5090068578720093,
          -1.4856719970703125,
          1.5659821033477783,
          1.5565727949142456,
          1.5341176986694336,
          -1.001221776008606,
          2.6959919929504395,
          2.7488532066345215,
          2.6801040172576904,
          -0.5107821226119995,
          -0.43940916657447815,
          -0.2712768614292145,
          -0.9495155215263367,
          -0.8769915699958801,
          -0.916078507900238,
          -1.8620551824569702,
          -1.71060049533844,
          -1.912802815437317,
          -0.7083894610404968,
          -0.6925106048583984,
          -0.6607586741447449,
          -1.086782693862915,
          -1.0900942087173462,
          -0.601691484451294,
          -1.8383795022964478,
          -1.8610841035842896,
          -1.775219440460205,
          1.4823570251464844,
          1.4383726119995117,
          1.430107831954956,
          -0.30129632353782654,
          -0.3004380464553833,
          -0.28003090620040894,
          -1.1609386205673218,
          -1.2087397575378418,
          -0.7345033288002014,
          -0.7450424432754517,
          -0.9104502201080322,
          0.18868517875671387,
          0.1809462308883667,
          0.21595709025859833,
          -0.45996522903442383,
          -0.22202365100383759,
          -0.09913034737110138,
          -0.4000714123249054,
          -0.7437658309936523,
          -0.3919278681278229,
          -0.3912123143672943,
          -0.9474007487297058,
          -1.1643662452697754,
          -1.2138947248458862,
          -1.6630589962005615,
          -1.8270189762115479,
          -1.9451429843902588,
          0.4039977192878723,
          -0.086440809071064,
          -0.13786284625530243,
          -0.6472927927970886,
          -0.8154593706130981,
          -0.29488232731819153,
          -1.4042588472366333,
          2.1052420139312744,
          2.1052420139312744,
          2.073399543762207,
          2.073399543762207,
          2.2051174640655518,
          2.2051174640655518,
          -1.3719161748886108,
          -1.2728471755981445,
          -1.2784730195999146,
          -1.3295421600341797,
          -1.5205696821212769,
          1.3202581405639648,
          1.2752459049224854,
          1.2328203916549683,
          -0.7887994050979614,
          -0.8547794222831726,
          -0.9114128947257996,
          -0.8701227903366089,
          -0.7504135370254517,
          -0.8320290446281433,
          -0.5446214079856873,
          -0.4615292251110077,
          -0.42679110169410706,
          -0.3393178880214691,
          1.622953176498413,
          1.8829543590545654,
          1.1810188293457031,
          3.5488431453704834,
          3.538388729095459,
          3.5729281902313232,
          0.6906669735908508,
          0.7336283326148987,
          0.756162703037262,
          -1.2787525653839111,
          -1.2814637422561646,
          -1.3501337766647339,
          -1.3017058372497559,
          -1.3065937757492065,
          -1.3470088243484497,
          -0.2072633057832718,
          -0.39170050621032715,
          -0.798201322555542,
          -0.7487990260124207,
          -0.7972497940063477,
          -0.029478980228304863,
          0.20853281021118164,
          -0.7790777683258057,
          -0.448884516954422,
          2.903700590133667,
          -0.45765987038612366,
          -1.5218342542648315,
          -1.5934780836105347,
          -1.455968976020813,
          -1.4236764907836914,
          -1.2989466190338135,
          -1.725254774093628,
          -1.683125615119934,
          -0.3964446485042572,
          -0.3759898245334625,
          0.08705688267946243,
          -1.909956455230713,
          -1.8791940212249756,
          -1.9864994287490845,
          2.212815046310425,
          1.5565646886825562,
          2.249171257019043,
          0.08975838124752045,
          -0.017814673483371735,
          -0.8610018491744995,
          -1.128756046295166,
          -1.0874321460723877,
          -1.2087148427963257,
          -1.0772643089294434,
          -1.0954755544662476,
          -1.1701940298080444,
          -1.2511509656906128,
          -1.8601304292678833,
          -1.2730969190597534,
          -1.8743435144424438,
          2.9149978160858154,
          2.8483667373657227,
          -0.15385888516902924,
          -0.8235572576522827,
          -1.4821791648864746,
          -1.5051628351211548,
          -0.47344398498535156,
          -0.22276367247104645,
          -0.41239088773727417,
          -0.7096729278564453,
          2.2063100337982178,
          -0.6426893472671509,
          2.8198654651641846,
          2.8198654651641846,
          2.934446334838867,
          -0.4975835382938385,
          -0.45836344361305237,
          -0.4820455014705658,
          -0.9326419234275818,
          -0.9286400079727173,
          -0.9460787177085876,
          2.0120885372161865,
          2.1139073371887207,
          2.087839126586914,
          0.6871166825294495,
          0.6862086653709412,
          0.9412811994552612,
          1.8655619621276855,
          2.0314524173736572,
          1.79915452003479,
          -1.1773402690887451,
          -1.245238184928894,
          -1.3100453615188599,
          -1.8345447778701782,
          -0.3988126814365387,
          -0.4073774814605713,
          0.06702448427677155,
          0.0183790884912014,
          -0.005685796029865742,
          -0.519288957118988,
          -1.229850172996521,
          -1.0869925022125244,
          -1.2873669862747192,
          -0.0989469662308693,
          -0.6725185513496399,
          -0.7382218241691589,
          -0.513555645942688,
          -0.5965142250061035,
          -0.4670531451702118,
          1.0921881198883057,
          2.095885753631592,
          -0.9363071322441101,
          -0.8249472975730896,
          -0.7495309710502625,
          -1.337654709815979,
          -1.4268854856491089,
          -1.4244438409805298,
          -1.6152507066726685,
          -1.589137077331543,
          -1.215318202972412,
          -1.7217128276824951,
          -0.3313661515712738,
          -0.22195206582546234,
          -0.3205394744873047,
          0.6227101683616638,
          0.648001492023468,
          0.5062140822410583,
          0.939288854598999,
          0.8909889459609985,
          0.9781597256660461,
          -1.3094115257263184,
          -1.2716692686080933,
          -1.3666861057281494,
          2.1912343502044678,
          2.2055399417877197,
          2.245554208755493,
          -0.6745489239692688,
          -0.7383991479873657,
          -0.6667152047157288,
          3.9827380180358887,
          -1.7477096319198608,
          -1.7742336988449097,
          -1.8462822437286377,
          -0.3361768424510956,
          -0.2001737654209137,
          -0.4856598973274231,
          -1.1778430938720703,
          -1.1939315795898438,
          -1.1724207401275635,
          -0.3838711678981781,
          -0.4206160604953766,
          -0.4719018340110779,
          -1.1801804304122925,
          -1.3644659519195557,
          -1.2009310722351074,
          -1.4410243034362793,
          0.3970735967159271,
          -1.5716091394424438,
          0.22008612751960754,
          0.1752309501171112,
          0.030558466911315918,
          -0.2078699916601181,
          -0.26607298851013184,
          -0.19862259924411774,
          -0.7980583906173706,
          -0.8066194653511047,
          -0.8536050915718079,
          -1.721860647201538,
          -1.6717811822891235,
          -1.5687605142593384,
          0.49604594707489014,
          0.6361663341522217,
          -0.7304506897926331,
          -0.7344481945037842,
          2.181013345718384,
          1.524590253829956,
          1.2363381385803223,
          -0.24031606316566467,
          -0.1983950287103653,
          -0.2554985284805298,
          -0.07114794105291367,
          0.4627043306827545,
          -1.2775911092758179,
          -0.8831419944763184,
          2.68776535987854,
          -1.0138630867004395,
          1.1553758382797241,
          1.1670145988464355,
          1.2193729877471924,
          -1.1360416412353516,
          -1.166846752166748,
          -1.1582653522491455,
          -1.6473102569580078,
          -1.6699930429458618,
          -1.6584972143173218,
          -0.5228153467178345,
          -0.4330615997314453,
          -0.4678202271461487,
          -1.1556872129440308,
          -0.9274664521217346,
          -1.0598657131195068,
          1.6059209108352661,
          1.6471729278564453,
          1.7244466543197632,
          -1.0445042848587036,
          -1.0347487926483154,
          -0.996579110622406,
          -1.4316679239273071,
          0.1319054663181305,
          0.3571193516254425,
          0.28508245944976807,
          1.7157306671142578,
          0.061209458857774734,
          -0.12907525897026062,
          -1.4673751592636108,
          -1.4532967805862427,
          -1.4557454586029053,
          -1.4955320358276367,
          -1.5031285285949707,
          -1.0682982206344604,
          0.8526185154914856,
          0.8411933779716492,
          0.8630431890487671,
          -0.3911376893520355,
          -2.0319221019744873,
          -2.0984790325164795,
          -2.1037533283233643,
          -0.6476851105690002,
          -0.6623459458351135,
          -0.7216125130653381,
          0.29470095038414,
          0.3909640610218048,
          0.2033141702413559,
          -0.7316884994506836,
          -0.7668819427490234,
          -0.7411909103393555,
          -1.5102936029434204,
          -1.4482799768447876,
          -1.5021398067474365,
          1.3999136686325073,
          1.2786372900009155,
          1.3028801679611206,
          -0.9746887683868408,
          0.37809884548187256,
          0.7116615176200867,
          0.4755328595638275,
          -1.6795130968093872,
          -1.7657334804534912,
          -1.7913897037506104,
          -2.0484073162078857,
          -1.786528468132019,
          -1.6571699380874634,
          1.939568042755127,
          1.9081183671951294,
          1.9802552461624146,
          0.15877826511859894,
          0.2697838246822357,
          0.1948436200618744,
          -1.618984580039978,
          -1.6919063329696655,
          -1.6615188121795654,
          2.4520785808563232,
          2.6707987785339355,
          3.0169501304626465,
          -0.04366591200232506,
          -1.3600945472717285,
          -1.5175964832305908,
          -0.7348482608795166,
          -0.7844143509864807,
          -0.7181993722915649,
          -1.5515763759613037,
          -1.6669840812683105,
          -1.2263953685760498,
          -0.8755507469177246,
          -0.8419803380966187,
          -0.8341712355613708,
          -0.4870299696922302,
          -0.5409085750579834,
          -0.5532117486000061,
          -1.2021429538726807,
          -1.1642577648162842,
          -1.3660962581634521,
          -1.48165762424469,
          -1.4743311405181885,
          -1.4359828233718872,
          1.7104501724243164,
          1.6945523023605347,
          1.6679115295410156,
          2.6099438667297363,
          2.535653591156006,
          2.3504278659820557,
          0.09535033255815506,
          0.11355432122945786,
          0.1969841867685318,
          -0.22681717574596405,
          -0.24665424227714539,
          -0.1142488494515419,
          -0.43241196870803833,
          -0.8547037243843079,
          -1.1106797456741333,
          2.498835563659668,
          2.498835563659668,
          2.498835563659668,
          -1.5882819890975952,
          -1.6257001161575317,
          0.3476400375366211,
          0.45362362265586853,
          0.480173259973526,
          -1.4175829887390137,
          -1.4897973537445068,
          -1.5017902851104736,
          2.171767234802246,
          2.3754093647003174,
          2.2892868518829346,
          -2.2413790225982666,
          -2.2511651515960693,
          -2.2261054515838623,
          -0.6054025888442993,
          -0.6803415417671204,
          -0.6575978994369507,
          -1.4248930215835571,
          -1.167121171951294,
          -1.2019448280334473,
          2.0386011600494385,
          2.015746593475342,
          2.092791795730591,
          0.4185028374195099,
          0.42494475841522217,
          0.5641438364982605,
          -1.6943360567092896,
          -1.6872844696044922,
          -1.6491725444793701,
          -1.1973594427108765,
          -1.2017192840576172,
          -1.198394775390625,
          0.5994954705238342,
          0.4485289454460144,
          -1.486625075340271,
          -1.5448249578475952,
          -1.556605577468872,
          0.14544889330863953,
          0.19064749777317047,
          0.34734347462654114,
          -1.1490683555603027,
          -1.310303807258606,
          -0.9773268699645996,
          2.777369260787964,
          2.777369260787964,
          2.815340757369995,
          -1.595700979232788,
          -1.5984913110733032,
          -1.5682085752487183,
          1.7683186531066895,
          -0.9376723170280457,
          -1.208408236503601,
          -1.2322121858596802,
          -1.8712551593780518,
          -0.966835618019104,
          -1.05861234664917,
          -1.076948642730713,
          -0.6372308731079102,
          -0.6881654858589172,
          -0.7341672778129578,
          2.4096553325653076,
          2.4096553325653076,
          2.4096553325653076,
          -1.079119086265564,
          -1.0518699884414673,
          -1.013837456703186,
          -0.06179140880703926,
          -0.014315390028059483,
          -0.10495582967996597,
          -2.3001363277435303,
          -1.964493989944458,
          -1.9960814714431763,
          -1.6223249435424805,
          -1.678316593170166,
          -1.5711749792099,
          -0.861957311630249,
          -0.17984074354171753,
          -0.25270846486091614,
          2.3144969940185547,
          2.3830013275146484,
          0.7152422666549683,
          0.7152422666549683,
          0.7163704037666321,
          -1.3713032007217407,
          -1.392667293548584,
          -1.5115137100219727,
          0.4714970290660858,
          0.4764598309993744,
          0.4657438397407532,
          3.6384096145629883,
          3.5267605781555176,
          1.0567188262939453,
          0.1901450902223587,
          0.19213555753231049,
          0.20177678763866425,
          -1.7059149742126465,
          -1.352245807647705,
          -1.3540611267089844,
          -1.4226303100585938,
          -1.420700192451477,
          -2.2780253887176514,
          -1.5904895067214966,
          -1.6884645223617554,
          -1.8191512823104858,
          -1.4448941946029663,
          0.3806164264678955,
          0.3104925751686096,
          0.399343878030777,
          0.1058441698551178,
          0.2764233648777008,
          0.14628612995147705,
          -0.4189012050628662,
          -0.4837840795516968,
          -1.6608450412750244,
          -0.7201910614967346,
          -0.4377003014087677,
          -0.36730244755744934,
          -2.0623950958251953,
          -1.9509295225143433,
          -1.951026439666748,
          -1.16048002243042,
          -1.1041326522827148,
          -1.2340970039367676,
          2.9873290061950684,
          2.1668269634246826,
          2.148465394973755,
          1.764893889427185,
          0.20197921991348267,
          0.165486142039299,
          0.3022805452346802,
          -0.6586980819702148,
          -0.31257590651512146,
          -0.6990467309951782,
          0.16761864721775055,
          0.10118270665407181,
          0.11725093424320221,
          -1.360356092453003,
          -1.333465337753296,
          -1.3139411211013794,
          -2.080109119415283,
          -2.111276865005493,
          -1.1199182271957397,
          -0.9052357077598572,
          -1.0036195516586304,
          -0.8925668001174927,
          -0.10631193965673447,
          -0.14283935725688934,
          -0.4312468469142914,
          -0.9281161427497864,
          -0.9133778214454651,
          -1.2216533422470093,
          -0.4563390910625458,
          -0.6156299710273743,
          -0.9506893754005432,
          -1.3685015439987183,
          -1.3794101476669312,
          -1.3956077098846436,
          -0.6178217530250549,
          -0.4783838093280792,
          -0.42246130108833313,
          0.061379265040159225,
          -1.4888808727264404,
          -1.4461339712142944,
          -0.33511829376220703,
          -0.018148060888051987,
          -0.5648723840713501,
          -0.6070351004600525,
          -0.8155895471572876,
          -0.8250887989997864,
          -0.5055911540985107,
          -0.3668188452720642,
          -0.38855114579200745,
          -0.8523963093757629,
          -0.23863163590431213,
          -0.11024212837219238,
          -0.9653636813163757,
          -1.0515233278274536,
          -1.1771266460418701,
          -1.1449472904205322,
          -1.0885149240493774,
          -1.2104918956756592,
          -1.1190556287765503,
          -0.2921735346317291,
          -0.09906437993049622,
          -0.08536704629659653,
          1.5515823364257812,
          1.039719581604004,
          1.070454716682434,
          3.300879716873169,
          1.794484257698059,
          -1.3769290447235107,
          -1.4017006158828735,
          -1.4683064222335815,
          2.7544431686401367,
          0.615263044834137,
          0.7574043869972229,
          0.7840860486030579,
          -0.04806948080658913,
          -0.2961884140968323,
          -0.6810166835784912,
          1.8325252532958984,
          -1.111931324005127,
          -1.078440546989441,
          -1.1603119373321533,
          -1.4817109107971191,
          -1.3184278011322021,
          -1.7209904193878174,
          -1.743374228477478,
          -1.777517318725586,
          -1.8679189682006836,
          1.720259428024292,
          1.883959174156189,
          1.883959174156189,
          -0.2335442155599594,
          1.6414217948913574,
          -1.0286891460418701,
          -1.0819662809371948,
          -1.0776749849319458,
          -0.13499878346920013,
          -0.6259663701057434,
          -0.029722701758146286,
          0.06651759147644043,
          -1.0403170585632324,
          -1.0464364290237427,
          -0.7558289766311646,
          -0.32122257351875305,
          -0.2593005895614624,
          -0.28137579560279846,
          -0.29591813683509827,
          -0.6867120265960693,
          -0.7621212005615234,
          -0.8600800037384033,
          -0.7557950615882874,
          -0.5913680791854858,
          -0.5778570175170898,
          -0.46023836731910706,
          -0.4172822833061218,
          -0.41660791635513306,
          0.6936801671981812,
          0.5786770582199097,
          0.21527624130249023,
          0.18189890682697296,
          -0.009154265746474266,
          3.6372342109680176,
          3.6372342109680176,
          3.6372342109680176,
          -0.1379249095916748,
          -0.1625625044107437,
          -0.7665337920188904,
          -0.9599072337150574,
          -0.9820423722267151,
          -1.7642799615859985,
          -1.8312584161758423,
          -1.4981988668441772,
          0.6891169548034668,
          0.5292201638221741,
          0.5404180884361267,
          -1.3401215076446533,
          -1.30141019821167,
          -1.5908737182617188,
          0.04120437055826187,
          2.300009250640869,
          2.3056483268737793,
          2.31937837600708,
          -0.5221527814865112,
          -1.5787025690078735,
          -1.5413264036178589,
          -1.125084400177002,
          -1.1699817180633545,
          -0.5757836103439331,
          0.02484993450343609,
          0.06544366478919983,
          0.09889305382966995,
          -0.08479130268096924,
          -0.02779717743396759,
          0.028655726462602615,
          3.197723865509033,
          3.197723865509033,
          3.197723865509033,
          -1.8180315494537354,
          -1.8583365678787231,
          -1.6946446895599365,
          -0.44895514845848083,
          -0.6165379881858826,
          -0.6184260249137878,
          -1.3966795206069946,
          -1.5384140014648438,
          -1.1886136531829834,
          -1.1207799911499023,
          -1.0856660604476929,
          -1.1857932806015015,
          -1.2390496730804443,
          -0.9828370213508606,
          -0.2669330835342407,
          -0.2761111259460449,
          -0.3068508505821228,
          -0.19745899736881256,
          -0.21037758886814117,
          -0.15680068731307983,
          -1.3573092222213745,
          -1.2704381942749023,
          -0.3815050423145294,
          -1.3538057804107666,
          -1.0739240646362305,
          -1.3164408206939697,
          -1.3685029745101929,
          -1.3839218616485596,
          -1.5427199602127075,
          -1.41287362575531,
          -1.5963411331176758,
          -1.6425399780273438,
          -1.4181731939315796,
          -1.6039756536483765,
          -1.5149589776992798,
          -0.23997068405151367,
          -0.37654706835746765,
          -0.9019784331321716,
          -0.9053023457527161,
          -0.7080949544906616,
          -1.209232211112976,
          -1.224973201751709,
          1.8528321981430054,
          2.923415422439575,
          1.9149059057235718,
          -1.5202819108963013,
          -1.5202819108963013,
          -1.3321406841278076,
          -1.4780892133712769,
          -1.088472843170166,
          1.6447924375534058,
          1.9711132049560547,
          1.9483187198638916,
          -2.4452812671661377,
          -2.401902675628662,
          -2.484724521636963,
          -1.2483547925949097,
          -1.3949522972106934,
          -1.356490135192871,
          -0.7438716292381287,
          -0.7438716292381287,
          -0.7438716292381287,
          -2.0606400966644287,
          -2.014878511428833,
          -0.6354432702064514,
          -0.8779345750808716,
          -0.8645449876785278,
          2.0965967178344727,
          2.216524600982666,
          2.222663402557373,
          -1.6481367349624634,
          -1.643998146057129,
          -1.4604415893554688,
          2.1688919067382812,
          2.156525135040283,
          2.1124842166900635,
          -1.2526841163635254,
          -1.3530325889587402,
          -1.3410451412200928,
          -0.8349926471710205,
          -0.7656276822090149,
          -0.5566856861114502,
          -1.2209426164627075,
          -1.2646560668945312,
          -1.321000099182129,
          -2.0628087520599365,
          -2.0672147274017334,
          -2.0368611812591553,
          -0.9916260838508606,
          -1.0301917791366577,
          -1.0540885925292969,
          -1.1110243797302246,
          -1.5344727039337158,
          -1.3428175449371338,
          -1.3734652996063232,
          -1.4240633249282837,
          -1.3783682584762573,
          -0.6250783205032349,
          -0.9819314479827881,
          0.20068760216236115,
          0.5591511726379395,
          0.5371571183204651,
          0.26267868280410767,
          2.3365819454193115,
          2.401968479156494,
          2.267225742340088,
          -1.2626152038574219,
          -1.2580714225769043,
          -1.3247138261795044,
          -1.6754114627838135,
          -1.6991790533065796,
          1.5215572118759155,
          2.294445514678955,
          0.6572262048721313,
          2.839489698410034,
          2.8634583950042725,
          2.8653314113616943,
          -1.0091701745986938,
          -1.0187606811523438,
          -0.9406400322914124,
          -1.7115932703018188,
          -1.6900203227996826,
          -1.673823356628418,
          -1.306491494178772,
          -1.0851439237594604,
          -0.9327412247657776,
          -1.0796308517456055,
          -1.0626018047332764,
          -1.0597450733184814,
          -1.7141069173812866,
          -1.9039182662963867,
          -1.89708411693573,
          -0.04600502923130989,
          -0.027656488120555878,
          0.26543110609054565,
          -1.9224774837493896,
          -1.824892282485962,
          -1.8738441467285156,
          2.601210832595825,
          2.5992586612701416,
          2.552297353744507,
          -0.4857514500617981,
          -0.49832579493522644,
          -0.689195454120636,
          0.9902480244636536,
          1.008961796760559,
          0.9417491555213928,
          -2.816110849380493,
          -0.8327133655548096,
          -0.9203425049781799,
          -0.9107229709625244,
          -1.4246406555175781,
          -1.428704023361206,
          -1.3454399108886719,
          0.9215840101242065,
          0.9946694374084473,
          1.1243034601211548,
          -1.543738603591919,
          -1.5213228464126587,
          -1.652392029762268,
          -1.8200470209121704,
          -1.647083044052124,
          -1.6924347877502441,
          -2.2866313457489014,
          -2.29628586769104,
          -2.0456740856170654,
          2.5903103351593018,
          -0.20544607937335968,
          -0.2309665083885193,
          -1.7780455350875854,
          -1.8233712911605835,
          -1.9039379358291626,
          -0.3919537663459778,
          -0.5348161458969116,
          -0.5560896396636963,
          -1.5869630575180054,
          -1.6136207580566406,
          -1.1896408796310425,
          -0.7744233012199402,
          -1.1260756254196167,
          -1.1079951524734497,
          -1.1078819036483765,
          -0.7191783785820007,
          -0.30897364020347595,
          -0.2745904326438904,
          -1.3346251249313354,
          -1.334121823310852,
          2.17366099357605,
          2.179547071456909,
          2.1650617122650146,
          -0.8714835047721863,
          -0.5755815505981445,
          -0.5340721011161804,
          -1.5545135736465454,
          -1.6569032669067383,
          -1.441776156425476,
          2.5834126472473145,
          2.8131537437438965,
          3.1203548908233643,
          2.2438127994537354,
          2.0365543365478516,
          2.026144504547119,
          -1.4203259944915771,
          -1.4880471229553223,
          -1.4778505563735962,
          -1.5393810272216797,
          -1.545121669769287,
          -0.9489871263504028,
          -0.32466384768486023,
          -0.48729485273361206,
          -0.16448728740215302,
          -0.9336114525794983,
          -1.0739188194274902,
          -1.0739188194274902,
          -1.0739188194274902,
          -1.0929087400436401,
          -1.3827483654022217,
          1.8188762664794922,
          0.695277750492096,
          1.1340105533599854,
          -1.1625266075134277,
          -1.2423086166381836,
          -1.4908829927444458,
          -1.551169514656067,
          -1.476470947265625,
          1.507771372795105,
          1.4378360509872437,
          1.4693315029144287,
          0.11484293639659882,
          0.022073710337281227,
          -1.9259873628616333,
          -2.2902145385742188,
          -2.160351514816284,
          1.190002202987671,
          1.190002202987671,
          0.9957318902015686,
          0.9957318902015686,
          0.804355263710022,
          0.804355263710022,
          1.305692195892334,
          1.2897042036056519,
          3.0495786666870117,
          -0.6882879137992859,
          -0.4524090886116028,
          -0.058472998440265656,
          -2.3313372135162354,
          -2.378065586090088,
          -2.3621389865875244,
          -1.419678807258606,
          -1.256052017211914,
          -1.2380588054656982,
          0.7570425271987915,
          -0.7359625697135925,
          -0.8172882199287415,
          -1.4497241973876953,
          -1.4074804782867432,
          2.823366641998291,
          2.270080804824829,
          2.3194048404693604,
          2.3066587448120117,
          -0.8582006692886353,
          -0.8692506551742554,
          -0.8952467441558838,
          0.7397425174713135,
          0.6040681600570679,
          0.46053802967071533,
          -1.9175302982330322,
          2.6534430980682373,
          2.586846113204956,
          -1.8550164699554443,
          -1.994303822517395,
          -2.0546042919158936,
          2.5346596240997314,
          2.4961652755737305,
          2.5223567485809326,
          2.2127199172973633,
          -1.5087358951568604,
          -1.4693201780319214,
          -1.880111813545227,
          -1.9721392393112183,
          -1.926591396331787,
          0.5526936650276184,
          0.5935580730438232,
          -1.3495898246765137,
          -1.3282943964004517,
          -0.999815046787262,
          -1.0505726337432861,
          -1.0732651948928833,
          -1.4868037700653076,
          0.8055830597877502,
          0.77475905418396,
          2.352323055267334,
          -1.3098963499069214,
          -1.2409296035766602,
          -1.3518097400665283,
          -0.7501782178878784,
          -0.5581079721450806,
          -1.7065622806549072,
          -1.5347254276275635,
          -1.545924186706543,
          1.9497872591018677,
          1.914262056350708,
          2.0211753845214844,
          3.1889750957489014,
          1.9107376337051392,
          -1.8546481132507324,
          1.6388262510299683,
          1.6357886791229248,
          2.087364912033081,
          2.8664391040802,
          2.8976597785949707,
          -0.9805063605308533,
          -0.9805063605308533,
          -1.057647943496704,
          -1.057647943496704,
          -0.7359244227409363,
          -0.8552379608154297,
          -0.07034691423177719,
          -0.19243361055850983,
          2.022629976272583,
          -1.4920787811279297,
          -1.4211621284484863,
          -0.5701132416725159,
          2.9922468662261963,
          1.1753602027893066,
          1.1409364938735962,
          1.248575210571289,
          -1.894335150718689,
          1.1533855199813843,
          1.1503392457962036,
          1.1518419981002808,
          -0.31432822346687317,
          -0.25613418221473694,
          -2.1157634258270264,
          -1.954169750213623,
          -1.9603395462036133,
          -0.7877615094184875,
          -0.8457304835319519,
          -0.8760613799095154,
          -1.2806352376937866,
          -1.0524710416793823,
          -1.0799243450164795,
          2.2164416313171387,
          2.2476680278778076,
          2.2337162494659424,
          -0.003215343691408634,
          -0.4037180542945862,
          -0.4930231273174286,
          -1.409914255142212,
          -1.464798092842102,
          -1.2933846712112427,
          -2.301802635192871,
          -2.3270797729492188,
          -1.7268638610839844,
          2.181013345718384,
          1.524590253829956,
          1.2363381385803223,
          -2.2965376377105713,
          -2.329949378967285,
          -1.9070032835006714,
          -0.8055869936943054,
          -0.8088332414627075,
          -0.8975866436958313,
          3.0946245193481445,
          3.0946245193481445,
          -1.2735389471054077,
          -0.37604132294654846,
          2.3924477100372314,
          -0.25062745809555054,
          -1.3488752841949463,
          -1.375373125076294,
          -1.5627893209457397,
          -1.7009036540985107,
          -1.6497552394866943,
          -1.6207714080810547,
          -0.4748819172382355,
          -0.4748819172382355,
          -0.4748819172382355,
          -0.7866111993789673,
          -0.787253201007843,
          -0.29477038979530334,
          -0.7034012675285339,
          -1.078134298324585,
          -0.6652548313140869,
          -0.8641664385795593,
          -1.0234938859939575,
          0.3628988564014435,
          -0.9949480295181274,
          -0.7134886980056763,
          -0.8233365416526794,
          -1.2311046123504639,
          -1.157256841659546,
          -1.1430511474609375,
          2.5147032737731934,
          2.2897531986236572,
          2.3514404296875,
          -0.0382186695933342,
          -1.526402473449707,
          -1.5539900064468384,
          -1.6165696382522583,
          1.9370063543319702,
          0.009070327505469322,
          -0.007892346009612083,
          -0.016907550394535065,
          -1.4355065822601318,
          -1.5170319080352783,
          -1.1818023920059204,
          -1.3434770107269287,
          -1.4904162883758545,
          -1.5621142387390137,
          0.8370555639266968,
          0.8693756461143494,
          0.8560555577278137,
          2.379770278930664,
          2.2105743885040283,
          2.2105743885040283,
          0.4127759039402008,
          -0.12348949164152145,
          0.022231293842196465,
          0.12328268587589264,
          -0.36931031942367554,
          -0.30630818009376526,
          0.4149950444698334,
          0.4940907657146454,
          -1.7210742235183716,
          -1.674499750137329,
          -1.700552225112915,
          -1.7357796430587769,
          -0.7619190216064453,
          -0.7336711287498474,
          -0.7290396690368652,
          1.931178331375122,
          2.0359303951263428,
          1.9235448837280273,
          1.330551266670227,
          1.2182881832122803,
          1.2111485004425049,
          -0.5580340623855591,
          -0.6202934384346008,
          -0.6261317133903503,
          2.917215585708618,
          0.8464828729629517,
          0.9427084922790527,
          1.1823465824127197,
          0.15153177082538605,
          0.34782132506370544,
          0.10052624344825745,
          -0.2868192195892334,
          -0.2467280924320221,
          -0.4329177141189575,
          -1.678952693939209,
          -1.6695135831832886,
          -1.8383277654647827,
          -1.637018084526062,
          -1.7126438617706299,
          -1.730466604232788,
          -0.2052735537290573,
          -0.1294693499803543,
          -0.1512647420167923,
          -0.05056336894631386,
          0.09360744804143906,
          0.1426563262939453,
          -0.6660239100456238,
          0.7019215822219849,
          -0.615566611289978,
          -0.053218577057123184,
          -0.05000275373458862,
          -0.04616006091237068,
          1.2189242839813232,
          1.2425447702407837,
          1.5651898384094238,
          2.596952438354492,
          2.6857495307922363,
          2.6647095680236816,
          -0.56610506772995,
          -0.29892173409461975,
          -0.3473981022834778,
          -0.7091199159622192,
          -0.8627239465713501,
          0.45446428656578064,
          0.4573970437049866,
          0.3959572911262512,
          2.2190134525299072,
          2.2176897525787354,
          2.2703697681427,
          -0.8956922292709351,
          -0.874790608882904,
          1.8808844089508057,
          1.870383858680725,
          1.8655279874801636,
          -0.8308555483818054,
          -0.8018864989280701,
          -0.8798125982284546,
          1.7573325634002686,
          1.7072914838790894,
          1.7770687341690063,
          -1.0885636806488037,
          -1.073275089263916,
          -1.0890694856643677,
          -0.195711150765419,
          -0.7622491121292114,
          -0.8796024918556213,
          0.02045944333076477,
          -0.7359582185745239,
          -0.9118300676345825,
          -0.7844030857086182,
          0.9836915135383606,
          1.124624490737915,
          1.120779275894165,
          -0.3750525116920471,
          -0.32665592432022095,
          -0.5211209058761597,
          2.04634165763855,
          3.2323169708251953,
          -0.13546204566955566,
          0.2929920256137848,
          0.4730255603790283,
          -0.9833179712295532,
          0.04945731908082962,
          0.18094195425510406,
          0.7439619302749634,
          0.6947745680809021,
          0.7743335366249084,
          1.8749200105667114,
          1.8794188499450684,
          2.6994757652282715,
          -0.5239824056625366,
          -0.4524398446083069,
          -0.4787572920322418,
          -0.2933446764945984,
          -2.0494909286499023,
          -0.7616587281227112,
          -0.7556390762329102,
          -0.7676889896392822,
          -1.0690277814865112,
          -1.2698129415512085,
          -1.3118094205856323,
          1.9939689636230469,
          -0.3196081519126892,
          -0.34268105030059814,
          -0.31719568371772766,
          -0.24492518603801727,
          -0.20264625549316406,
          -0.15115657448768616,
          0.3342497944831848,
          0.3487498164176941,
          -0.3962252736091614,
          -1.6774775981903076,
          -1.4922715425491333,
          -1.5042246580123901,
          -1.4069697856903076,
          3.4976885318756104,
          -1.182119607925415,
          -1.161867380142212,
          -1.151583194732666,
          -1.4624465703964233,
          -1.6570260524749756,
          -1.6740528345108032,
          0.48764768242836,
          0.3276170492172241,
          0.3847139775753021,
          2.591853618621826,
          2.5928163528442383,
          2.5655882358551025,
          -0.7634244561195374,
          -0.7466747760772705,
          -0.8907412886619568,
          -2.390254020690918,
          -2.30997896194458,
          -2.070420026779175,
          0.31847915053367615,
          0.32819104194641113,
          -0.5039079785346985,
          -0.6288881301879883,
          -0.5711348652839661,
          2.4061927795410156,
          2.666882038116455,
          2.3505375385284424,
          0.5459842681884766,
          0.39047321677207947,
          0.032927606254816055,
          -0.22138819098472595,
          -0.17414624989032745,
          -0.15249225497245789,
          -0.42113813757896423,
          -0.42113813757896423,
          -0.42113813757896423,
          2.1227195262908936,
          1.3184902667999268,
          -0.1257784068584442,
          -1.914931297302246,
          -1.9302383661270142,
          -1.9123129844665527,
          0.3864712417125702,
          0.5109747052192688,
          0.2960979640483856,
          2.9548110961914062,
          3.139033317565918,
          3.3486831188201904,
          3.440723419189453,
          3.362823486328125,
          3.4560728073120117,
          3.402893304824829,
          3.3707797527313232,
          3.399291515350342,
          3.3901009559631348,
          1.8173954486846924,
          1.758509635925293,
          1.920270323753357,
          -1.5329291820526123,
          -1.458320140838623,
          -1.4766912460327148,
          1.292106032371521,
          1.3746132850646973,
          1.8328564167022705,
          0.4985214173793793,
          0.5625419616699219,
          0.4678274989128113,
          -0.06040693074464798,
          -0.022786621004343033,
          -0.11627616733312607,
          -0.23968039453029633,
          -0.06855084747076035,
          -0.06977741420269012,
          -1.5986511707305908,
          -1.9833236932754517,
          -2.0358848571777344,
          -1.6654633283615112,
          -1.6666066646575928,
          -1.2302113771438599,
          -0.7810631990432739,
          -0.8182042241096497,
          -0.8189071416854858,
          0.07618371397256851,
          0.06500435620546341,
          0.12298572063446045,
          0.24716949462890625,
          0.7058987021446228,
          1.531469702720642,
          2.6035561561584473,
          2.60689377784729,
          2.867877721786499,
          -1.61725914478302,
          -1.6504709720611572,
          -1.5674816370010376,
          -0.4533984363079071,
          -0.021229691803455353,
          0.19922243058681488,
          0.8592646718025208,
          3.027960777282715,
          0.5453988313674927,
          -0.6788501739501953,
          -0.8002786040306091,
          -0.6310799717903137,
          -0.0046225241385400295,
          0.09089818596839905,
          0.07986646890640259,
          1.1614431142807007,
          1.0106585025787354,
          0.8712407946586609,
          2.8400533199310303,
          2.8834919929504395,
          2.8400847911834717,
          -1.850426197052002,
          -1.854803204536438,
          -1.8472845554351807,
          -1.4375572204589844,
          -1.3767598867416382,
          -1.54638671875,
          0.6269318461418152,
          0.6394128799438477,
          1.4632136821746826,
          1.5043773651123047,
          1.462681531906128,
          3.0130136013031006,
          1.4622100591659546,
          1.8423347473144531,
          -0.8441762328147888,
          -0.20885251462459564,
          -0.22781667113304138,
          2.273728609085083,
          2.3154187202453613,
          2.34466552734375,
          1.3755548000335693,
          1.430058240890503,
          1.4018722772598267,
          -0.9058948755264282,
          -0.8762911558151245,
          -0.918076753616333,
          -1.1721409559249878,
          -0.8232085704803467,
          -0.9262728095054626,
          -0.92782062292099,
          -0.5017972588539124,
          0.9992902278900146,
          0.8331139087677002,
          0.7197429537773132,
          2.4698503017425537,
          -1.677860140800476,
          -1.5124915838241577,
          -1.5601552724838257,
          0.9804141521453857,
          1.2062060832977295,
          1.1124051809310913,
          0.31879761815071106,
          0.40994173288345337,
          0.1035614013671875,
          0.13625602424144745,
          -1.0596903562545776,
          -1.063668131828308,
          -1.0922861099243164,
          -1.8580760955810547,
          -1.7986252307891846,
          -1.1648170948028564,
          -1.0456324815750122,
          -1.3868577480316162,
          0.9493840336799622,
          0.8538845181465149,
          0.9712974429130554,
          -0.7197346091270447,
          2.5317158699035645,
          2.742457389831543,
          2.755159854888916,
          1.0369343757629395,
          1.1095677614212036,
          1.2647411823272705,
          0.7973167896270752,
          2.3118271827697754,
          -1.0582542419433594,
          0.45953211188316345,
          0.6101839542388916,
          0.2720779776573181,
          0.43056249618530273,
          -0.16706103086471558,
          -0.22824110090732574,
          -0.15879254043102264,
          -0.3424360752105713,
          0.4010818898677826,
          -0.49822527170181274,
          -0.3956991136074066,
          -0.5425819754600525,
          0.869432806968689,
          0.9294226169586182,
          2.8216748237609863,
          2.8369174003601074,
          3.152087450027466,
          0.751859724521637,
          1.3418490886688232,
          0.7623420357704163,
          0.945302426815033,
          0.985035240650177,
          -1.2884485721588135,
          -1.3119465112686157,
          -1.3145800828933716,
          1.1297134160995483,
          1.0411591529846191,
          1.3277010917663574,
          1.3843789100646973,
          1.6267616748809814,
          1.5123637914657593,
          0.8551248908042908,
          0.8756718039512634,
          0.8756718039512634,
          1.519848108291626,
          0.9704813957214355,
          0.868372917175293,
          0.753522515296936,
          -0.20347009599208832,
          -0.10773780196905136,
          -0.09069543331861496,
          0.9919095635414124,
          3.3849616050720215,
          -0.2948068380355835,
          -0.10776427388191223,
          0.0634564533829689,
          1.1398991346359253,
          1.8445230722427368,
          0.8432879447937012,
          -0.23798352479934692,
          0.6120792627334595,
          -0.13374027609825134,
          3.4547905921936035,
          -1.2781260013580322,
          -1.3387551307678223,
          -1.201997995376587,
          2.388882875442505,
          2.3346102237701416,
          2.3328468799591064,
          3.1813650131225586,
          3.16925048828125,
          3.1821115016937256,
          2.090806245803833,
          1.5625700950622559,
          1.9560115337371826,
          2.199483633041382,
          0.07467150688171387,
          -0.11560145020484924,
          -0.1099836602807045,
          -0.46623966097831726,
          -0.7777997255325317,
          0.08478637784719467,
          0.15178555250167847,
          0.13680721819400787,
          -0.6743177771568298,
          -0.4488416612148285,
          -0.3830109238624573,
          1.8594272136688232,
          1.1085909605026245,
          0.37670353055000305,
          1.891822338104248,
          1.9698255062103271,
          2.442622184753418,
          -0.4517047703266144,
          -0.3068501055240631,
          -0.1271827071905136,
          2.1503591537475586,
          2.6721043586730957,
          3.108207941055298,
          -0.4019029438495636,
          -0.7679638266563416,
          -0.7819764018058777,
          2.7969720363616943,
          2.821521282196045,
          1.6224236488342285,
          2.7117514610290527,
          2.6955175399780273,
          2.6569950580596924,
          0.6767582297325134,
          0.7528403401374817,
          0.009098201058804989,
          0.23189862072467804,
          -0.0842767208814621,
          -0.2755858600139618,
          -0.27984845638275146,
          -0.8404917120933533,
          -1.2789784669876099,
          -1.1200388669967651,
          0.49037086963653564,
          1.4273847341537476,
          0.6366518139839172,
          1.6310582160949707,
          -0.40970465540885925,
          -0.38991692662239075,
          0.07374299317598343,
          -0.30512863397598267,
          -0.3802682161331177,
          1.1081538200378418,
          2.5752367973327637,
          2.575619697570801,
          2.6048762798309326,
          0.4713394343852997,
          -1.115410566329956,
          -1.0813360214233398,
          -0.34855109453201294,
          -1.2851718664169312,
          -1.3656902313232422,
          -1.416449785232544,
          1.287602424621582,
          3.058126449584961,
          -1.0852606296539307,
          1.8989646434783936,
          2.0356650352478027,
          2.0306808948516846,
          2.4023332595825195,
          2.4422285556793213,
          2.426860809326172,
          -1.6379307508468628,
          -1.6064817905426025,
          -1.4220483303070068,
          3.4216396808624268,
          2.7359063625335693,
          2.672903299331665,
          2.431546211242676,
          1.2274346351623535,
          -1.1927204132080078,
          -1.1927204132080078,
          3.3792788982391357,
          -0.6328732371330261,
          -0.38009414076805115,
          -0.8874474763870239,
          0.8062475323677063,
          0.6246392130851746,
          -0.8735753893852234,
          -1.0083914995193481,
          0.8626499772071838,
          1.9017870426177979,
          -0.6636592745780945,
          2.007070541381836,
          2.2279441356658936,
          -0.38935038447380066,
          -0.39825910329818726,
          -0.27409234642982483,
          -0.05767713114619255,
          0.18406929075717926,
          1.0744401216506958,
          1.0287587642669678,
          1.0369298458099365,
          -0.3413906395435333,
          0.7691827416419983,
          -0.5654335021972656,
          2.7555294036865234,
          3.4979727268218994,
          0.6225540637969971,
          0.7781369686126709,
          0.7370893955230713,
          -0.6394326686859131,
          -0.7161319255828857,
          -0.5464324355125427,
          1.2582087516784668,
          1.2666826248168945,
          1.2818660736083984,
          -0.7510202527046204,
          -0.7507343292236328,
          -0.7462302446365356,
          0.8187960386276245,
          0.7887080311775208,
          0.7887080311775208,
          -0.0495230108499527,
          -0.34465402364730835,
          -0.28399044275283813,
          0.18555618822574615,
          0.592261552810669,
          0.6581939458847046,
          0.7686485648155212,
          0.8917237520217896,
          -0.9342913627624512,
          -0.9901360869407654,
          2.831637144088745,
          2.5949997901916504,
          3.3784165382385254,
          -0.34920066595077515,
          -0.4027756452560425,
          0.6100993752479553,
          -0.6758017539978027,
          -1.9273816347122192,
          -1.9398982524871826,
          -2.0207908153533936,
          -0.11521024256944656,
          -0.13744279742240906,
          -0.5901167392730713,
          -0.579261064529419,
          2.863097906112671,
          -1.1695904731750488,
          -1.4961603879928589,
          -1.5190203189849854,
          -0.019204439595341682,
          0.05093816667795181,
          0.5307224988937378,
          -1.584054946899414,
          -1.606115460395813,
          -1.722226858139038,
          -0.29699257016181946,
          -0.3873041570186615,
          -0.24027661979198456,
          0.49535006284713745,
          -0.03647032380104065,
          -0.37427446246147156,
          -1.573764681816101,
          -0.6247162222862244,
          -0.8029151558876038,
          -1.889444351196289,
          -1.5008513927459717,
          -1.582108974456787,
          0.5912362337112427,
          0.5971772074699402,
          0.6049790978431702,
          1.5475457906723022,
          1.575631022453308,
          1.554103970527649,
          1.461846947669983,
          0.3426462411880493,
          -0.5840317010879517,
          -0.8932812213897705,
          -0.9013951420783997,
          -0.748380184173584,
          0.5279290080070496,
          0.6813830137252808,
          0.06376799196004868,
          -0.5678065419197083,
          -0.5318983793258667,
          -0.5318983793258667,
          -0.5848540663719177,
          -0.6707989573478699,
          0.013960443437099457,
          -0.09726791828870773,
          -0.052325643599033356,
          -1.0602335929870605,
          1.0956921577453613,
          1.7562475204467773,
          1.441136360168457,
          -0.6741286516189575,
          -0.3712958097457886,
          -0.7668121457099915,
          -1.0583631992340088,
          -0.9400399923324585,
          1.4491978883743286,
          1.4491978883743286,
          1.4491978883743286,
          0.4491085410118103,
          1.277064561843872,
          -0.3863977789878845,
          -0.3210535943508148,
          2.596597671508789,
          -1.2076215744018555,
          -1.415451169013977,
          -0.3436250388622284,
          -0.3179774880409241,
          0.03527064621448517,
          2.568286418914795,
          2.494926929473877,
          2.249833106994629,
          -1.3345924615859985,
          -1.3345924615859985,
          -1.0299861431121826,
          -1.0299861431121826,
          -0.9743120074272156,
          -0.9743120074272156,
          0.044468045234680176,
          0.0586915947496891,
          0.07990702986717224,
          0.2204248309135437,
          0.4085334837436676,
          2.6575849056243896,
          -1.635332465171814,
          -1.7307817935943604,
          1.3965370655059814,
          -0.4928336441516876,
          -0.5116576552391052,
          1.632918357849121,
          1.8703874349594116,
          -0.43355610966682434,
          -0.5342970490455627,
          -0.5342970490455627,
          -0.62601637840271,
          -0.62601637840271,
          0.6375479102134705,
          0.4906083643436432,
          1.896272897720337,
          2.197357177734375,
          2.1784932613372803,
          2.237689256668091,
          -0.07866334170103073,
          0.10331283509731293,
          1.288565993309021,
          1.3505241870880127,
          -0.6821868419647217,
          -0.5541126132011414,
          -0.3219578266143799,
          0.2818831503391266,
          0.26111286878585815,
          0.3134184777736664,
          2.77251935005188,
          2.77251935005188,
          1.5634387731552124,
          -0.4839199185371399,
          -0.4848473370075226,
          -0.7066894173622131,
          3.823920249938965,
          3.745516300201416,
          2.7126951217651367,
          1.7654801607131958,
          1.6315243244171143,
          2.09604549407959,
          1.3030614852905273,
          -1.0924227237701416,
          -1.3379168510437012,
          -0.9153741002082825,
          -0.8875316381454468,
          -0.6466639041900635,
          -1.2316697835922241,
          1.6993012428283691,
          0.7949926853179932,
          0.7860509753227234,
          0.7877272963523865,
          0.6258555054664612,
          -0.32168272137641907,
          -0.38664036989212036,
          2.9174365997314453,
          2.111163854598999,
          0.03451283648610115,
          0.0761006623506546,
          2.0735819339752197,
          1.8882900476455688,
          2.1602272987365723,
          2.5704829692840576,
          2.5670721530914307,
          2.5648322105407715,
          -1.0424870252609253,
          -0.8788822293281555,
          -1.037611961364746,
          -1.1416914463043213,
          -1.122817039489746,
          -1.3635486364364624,
          0.11085797846317291,
          0.11185313761234283,
          -0.1172824501991272,
          -0.05908125266432762,
          -0.05472493916749954,
          -0.05439893901348114,
          -0.0737777054309845,
          -0.053931236267089844,
          0.30247947573661804,
          0.02707480825483799,
          2.915148973464966,
          2.7564845085144043,
          2.729985475540161,
          2.7914047241210938,
          2.7914047241210938,
          3.2047648429870605,
          3.2047648429870605,
          3.1522376537323,
          3.1522376537323,
          -0.5277132391929626,
          -0.492554247379303,
          -0.40252766013145447,
          2.198373317718506,
          2.0809648036956787,
          1.9917470216751099,
          -0.7073469161987305,
          -0.7588447332382202,
          0.666106104850769,
          -0.0009641952929086983,
          0.057123977690935135,
          0.2026442289352417,
          0.2026442289352417,
          0.18898895382881165,
          0.18898895382881165,
          3.2864532470703125,
          3.2864532470703125,
          2.2488210201263428,
          2.287644147872925,
          -0.9210449457168579,
          -1.1069366931915283,
          -1.185962438583374,
          0.5784149169921875,
          -0.05206243693828583,
          0.002244632923975587,
          -0.7643271684646606,
          -0.9603055119514465,
          1.3586058616638184,
          1.2932994365692139,
          1.2964024543762207,
          -0.5938520431518555,
          -0.6083669066429138,
          -1.0694531202316284,
          1.2266484498977661,
          1.265564203262329,
          -0.5360316038131714,
          -0.19540850818157196,
          -0.18294748663902283,
          -1.5633317232131958,
          -0.21127022802829742,
          -0.15523198246955872,
          -0.12228512018918991,
          -1.1856955289840698,
          -1.5656886100769043,
          -1.5884993076324463,
          0.14254876971244812,
          -0.012791016139090061,
          -0.9692528247833252,
          -2.2010295391082764,
          -2.159114360809326,
          -2.15364933013916,
          -0.3104449510574341,
          -0.5117405652999878,
          0.08101026713848114,
          2.78001070022583,
          -1.0392192602157593,
          1.902164340019226,
          -0.18600937724113464,
          -0.34297695755958557,
          -0.9009540677070618,
          -0.2506324350833893,
          -0.24521666765213013,
          -0.2401159703731537,
          0.38560616970062256,
          0.770272970199585,
          0.3948761522769928,
          1.2870146036148071,
          -0.14043337106704712,
          -0.5966677665710449,
          -1.2387287616729736,
          -1.7173031568527222,
          -1.9027999639511108,
          0.7023227214813232,
          0.7739031910896301,
          -0.8814720511436462,
          1.3142799139022827,
          1.3157906532287598,
          2.7595882415771484,
          2.6934778690338135,
          2.732653856277466,
          -1.2213702201843262,
          2.167618989944458,
          2.1186745166778564,
          -1.011649250984192,
          -0.6136741638183594,
          -1.0962417125701904,
          2.8736894130706787,
          3.1654763221740723,
          -0.568522036075592,
          -0.5744312405586243,
          -0.5362029075622559,
          3.462588310241699,
          -2.0016770362854004,
          -1.9652349948883057,
          -1.9193767309188843,
          -1.4901103973388672,
          -1.4920786619186401,
          -1.5070875883102417,
          -0.08023001998662949,
          0.15414659678936005,
          -0.13231632113456726,
          0.20311878621578217,
          0.2795529365539551,
          0.40572965145111084,
          3.078343391418457,
          0.2639826238155365,
          0.1494867354631424,
          1.2543506622314453,
          0.5965164303779602,
          0.3781813383102417,
          -0.7066894173622131,
          3.823920249938965,
          3.745516300201416,
          -1.2504748106002808,
          1.0771313905715942,
          1.0820297002792358,
          -0.48851945996284485,
          0.9332667589187622,
          -0.6003165245056152,
          -0.48791274428367615,
          -0.11147601902484894,
          0.5261144042015076,
          0.4206521511077881,
          -0.5333797931671143,
          -0.5333797931671143,
          -0.6350324749946594,
          -0.040024083107709885,
          -0.022932885214686394,
          0.06007877364754677,
          1.0593527555465698,
          0.9698827266693115,
          0.9698827266693115,
          -0.790130078792572,
          -0.7394083142280579,
          -0.8432599306106567,
          0.3891582787036896,
          0.9008454084396362,
          1.4883114099502563,
          1.384184718132019,
          -0.3417929708957672,
          -0.287014365196228,
          -1.7433767318725586,
          -1.788021206855774,
          -1.5975624322891235,
          -0.5051480531692505,
          -0.540716290473938,
          0.022427750751376152,
          0.022427750751376152,
          1.0498648881912231,
          1.0498648881912231,
          2.692896604537964,
          -0.8766263723373413,
          -0.9824613928794861,
          -0.8063790202140808,
          -0.8900882005691528,
          2.5937819480895996,
          -1.4068328142166138,
          0.8204707503318787,
          -0.6653550863265991,
          4.097021579742432,
          3.636626958847046,
          0.23443076014518738,
          0.1372353732585907,
          -0.7346611022949219,
          0.33833733201026917,
          2.2624733448028564,
          2.2624733448028564,
          -0.49426376819610596,
          1.871195912361145,
          1.9599865674972534,
          0.7246404886245728,
          0.18562725186347961,
          0.06103414297103882,
          -0.055041104555130005,
          2.2633185386657715,
          -1.5853705406188965,
          -1.5992317199707031,
          -1.6709568500518799,
          2.09609055519104,
          -0.32637691497802734,
          1.9509005546569824,
          2.159428596496582,
          0.19506672024726868,
          -0.14626653492450714,
          0.452880859375,
          2.7955100536346436,
          -0.5583387017250061,
          0.42271336913108826,
          0.45571598410606384,
          -1.8058022260665894,
          -1.9389981031417847,
          -2.0007236003875732,
          -0.27618229389190674,
          2.043657064437866,
          2.6196165084838867,
          -1.1274077892303467,
          0.8397471904754639,
          -0.44239312410354614,
          0.4892578423023224,
          1.8894169330596924,
          1.8858429193496704,
          -0.47808095812797546,
          -0.47808095812797546,
          3.145235300064087,
          3.145235300064087,
          1.169832468032837,
          1.169832468032837,
          -0.8790773749351501,
          1.5113147497177124,
          0.3891933858394623,
          -0.5504379868507385,
          -0.11544190347194672,
          0.3537505269050598,
          0.3798120617866516,
          -0.41451358795166016,
          1.5560994148254395,
          1.0946934223175049,
          -1.9583543539047241,
          -2.0093233585357666,
          -2.037336587905884,
          -1.7816519737243652,
          -1.6369004249572754,
          -1.4403833150863647,
          -1.6232351064682007,
          -0.4843915104866028,
          -0.7995766997337341,
          0.08211841434240341,
          0.5924177765846252,
          1.3962123394012451,
          2.0178399085998535,
          2.055020570755005,
          0.12499652802944183,
          2.516793966293335,
          2.516793966293335,
          2.516793966293335,
          4.307009696960449,
          4.485515117645264,
          -1.0505634546279907,
          -1.1116230487823486,
          -0.9985315799713135,
          -1.277212381362915,
          -1.4685876369476318,
          -1.471559762954712
         ],
         "xaxis": "x",
         "y": [
          0.02022424526512623,
          -0.11820156127214432,
          -0.2713043689727783,
          -0.16742289066314697,
          -0.3267621695995331,
          -0.6650086045265198,
          -0.6337792277336121,
          -0.5263087153434753,
          0.4598853588104248,
          0.4985206127166748,
          0.571503221988678,
          -1.3792665004730225,
          -1.5083496570587158,
          -1.5067020654678345,
          -0.1802120953798294,
          -0.19665218889713287,
          -0.293410986661911,
          -0.06737460941076279,
          -0.13495776057243347,
          -0.22407402098178864,
          -0.13075530529022217,
          -0.05890422314405441,
          -0.012404068373143673,
          -1.0606998205184937,
          -1.1496134996414185,
          -1.1678825616836548,
          -0.27211782336235046,
          -0.2032565027475357,
          -0.07659921795129776,
          -0.05642331764101982,
          -1.9109456539154053,
          -1.9002771377563477,
          -1.948652744293213,
          0.5528444051742554,
          0.6625913977622986,
          0.6521481871604919,
          0.8254125118255615,
          0.06391208618879318,
          0.04501600190997124,
          0.04714427515864372,
          -1.1504696607589722,
          -1.1628488302230835,
          -1.0436722040176392,
          -1.110883355140686,
          -1.1276930570602417,
          -1.1391185522079468,
          0.9384315013885498,
          0.8923672437667847,
          1.003340721130371,
          -0.2856213450431824,
          -0.21774961054325104,
          -0.1744236946105957,
          -0.560505747795105,
          -0.5609301924705505,
          -0.6660342812538147,
          0.12372812628746033,
          0.11561808735132217,
          0.1313207894563675,
          -1.069564938545227,
          -1.0657379627227783,
          -1.0708036422729492,
          -1.2223527431488037,
          -1.2336795330047607,
          -1.243782639503479,
          -1.1913518905639648,
          -1.2027283906936646,
          -0.19212481379508972,
          -0.23042023181915283,
          -0.23326392471790314,
          -0.41040053963661194,
          -0.4229848384857178,
          -0.4512013792991638,
          0.5060732960700989,
          0.45106494426727295,
          0.47398841381073,
          -0.2924521267414093,
          -1.5018377304077148,
          -1.3225929737091064,
          -1.387850284576416,
          0.868600606918335,
          0.8738955855369568,
          1.0272619724273682,
          0.25371283292770386,
          0.2922738790512085,
          0.2855188548564911,
          -0.26006317138671875,
          -0.29895082116127014,
          -0.3142278492450714,
          0.35003578662872314,
          0.4177241027355194,
          0.4630013704299927,
          -1.4613168239593506,
          -1.0888524055480957,
          -1.0888524055480957,
          -1.007231593132019,
          -1.007231593132019,
          -1.164033055305481,
          -1.164033055305481,
          -0.23384973406791687,
          -0.25468501448631287,
          0.02451329492032528,
          0.020709017291665077,
          -0.002140166237950325,
          -0.014315170235931873,
          -0.02853602170944214,
          0.07451429963111877,
          -0.7641905546188354,
          -0.6430310606956482,
          -1.0131170749664307,
          -1.4891836643218994,
          -1.4388262033462524,
          -1.2692430019378662,
          0.06257706135511398,
          0.1161426231265068,
          0.10743413865566254,
          0.11892599612474442,
          -0.9301145076751709,
          -0.9389013648033142,
          -0.8611982464790344,
          0.026702621951699257,
          0.04720237851142883,
          0.06128471717238426,
          1.4042119979858398,
          1.410146951675415,
          1.413701057434082,
          -0.1806919127702713,
          -0.20957666635513306,
          -0.1518464833498001,
          0.3486495614051819,
          0.3540416657924652,
          0.3775215148925781,
          -0.31469711661338806,
          0.2071494162082672,
          0.05395687744021416,
          0.09342346340417862,
          0.11743859201669693,
          0.9219265580177307,
          1.009403944015503,
          -0.338223934173584,
          -0.9105772376060486,
          0.10528365522623062,
          -1.007827877998352,
          0.3347530961036682,
          0.3866366446018219,
          0.2648219168186188,
          -0.36426451802253723,
          -0.4504152238368988,
          -0.3571544885635376,
          -0.12063045054674149,
          -1.1093252897262573,
          -1.173313856124878,
          -1.1376765966415405,
          -0.33792126178741455,
          -0.3685971796512604,
          -0.34829431772232056,
          0.642024040222168,
          0.7097864747047424,
          0.7514427304267883,
          -0.38961681723594666,
          -0.5510982871055603,
          0.3295693099498749,
          -0.39284342527389526,
          -0.42101845145225525,
          -0.39502695202827454,
          -0.21184879541397095,
          -1.5410176515579224,
          -1.501030445098877,
          -1.5154659748077393,
          0.48087868094444275,
          0.38423728942871094,
          0.5237475633621216,
          0.5611655712127686,
          0.6758679151535034,
          0.780835747718811,
          0.6807586550712585,
          0.28685322403907776,
          0.2716923952102661,
          -0.13546881079673767,
          -0.16332168877124786,
          -0.17209595441818237,
          0.5122632384300232,
          -0.07438650727272034,
          0.5055800676345825,
          -0.3824012577533722,
          -0.3824012577533722,
          -0.20626625418663025,
          0.13303223252296448,
          0.040944479405879974,
          0.0296635702252388,
          0.18711751699447632,
          0.18611951172351837,
          0.18382713198661804,
          -0.19200627505779266,
          -0.1272365301847458,
          -0.08217959105968475,
          0.8462367653846741,
          0.8955996632575989,
          0.30860385298728943,
          -0.9241640567779541,
          -1.1029715538024902,
          -0.980871319770813,
          0.24109044671058655,
          0.2193475067615509,
          0.2365746647119522,
          -0.2459198385477066,
          0.9145888686180115,
          0.8996254205703735,
          -0.48344406485557556,
          -0.5132150650024414,
          -0.5181407332420349,
          -0.9286274909973145,
          0.718996524810791,
          0.6792870759963989,
          0.7365357279777527,
          -0.7027531862258911,
          -0.9546851515769958,
          -0.8988792300224304,
          -1.134527564048767,
          -1.1130279302597046,
          -1.083840250968933,
          0.7914206385612488,
          0.19500865042209625,
          0.09577297419309616,
          0.07608293741941452,
          0.08004780858755112,
          -1.5943711996078491,
          -1.550551176071167,
          -1.5754544734954834,
          0.728534996509552,
          0.7273631691932678,
          0.7003074884414673,
          -1.6029720306396484,
          -0.28803980350494385,
          -0.13217614591121674,
          -0.17894360423088074,
          -0.4763365685939789,
          -0.46964168548583984,
          -0.42626503109931946,
          -1.7051713466644287,
          -1.7093448638916016,
          -1.6905571222305298,
          0.03760905936360359,
          0.08873286843299866,
          0.10768534243106842,
          -0.31004390120506287,
          -0.18794509768486023,
          -0.1647353619337082,
          -0.907215416431427,
          -0.860138475894928,
          -0.8591349720954895,
          -1.2238644361495972,
          -1.102962613105774,
          -1.1238070726394653,
          -1.0639984607696533,
          -1.6777430772781372,
          -1.4766974449157715,
          -1.6696504354476929,
          0.34938424825668335,
          0.32585451006889343,
          0.35687658190727234,
          -0.8135120868682861,
          -0.8073068261146545,
          -0.7523856163024902,
          0.35976117849349976,
          0.4523479640483856,
          0.4551324248313904,
          -0.11081115156412125,
          0.8330980539321899,
          -0.19417303800582886,
          -0.1749238222837448,
          -0.10513283312320709,
          -0.16424058377742767,
          -0.0023473468609154224,
          0.01834160089492798,
          0.024793574586510658,
          -0.3985317051410675,
          -0.3722921311855316,
          -0.36280080676078796,
          -1.3989713191986084,
          -1.3491700887680054,
          -1.2972124814987183,
          0.4751162827014923,
          0.6157107353210449,
          -1.9227970838546753,
          -1.8581923246383667,
          -0.7869707942008972,
          0.8485111594200134,
          0.9711100459098816,
          -0.1785140037536621,
          -0.14520502090454102,
          -0.12515084445476532,
          -0.5555543303489685,
          -0.5404860973358154,
          -0.42923226952552795,
          0.14779557287693024,
          -0.3728141188621521,
          0.17042773962020874,
          -0.11414526402950287,
          -0.054652176797389984,
          -0.018514230847358704,
          -1.7236318588256836,
          -1.7385787963867188,
          -1.8273967504501343,
          -0.9838712215423584,
          -0.990767776966095,
          -0.9819788932800293,
          1.076859951019287,
          1.0347715616226196,
          1.0365955829620361,
          1.1110625267028809,
          1.1617982387542725,
          1.2301303148269653,
          -0.40684524178504944,
          -0.4191136658191681,
          -0.3958663046360016,
          -0.06920205056667328,
          -0.0009312305483035743,
          0.019812876358628273,
          0.36892229318618774,
          1.0246472358703613,
          1.0027987957000732,
          1.1048849821090698,
          -0.38705340027809143,
          -1.521724820137024,
          -1.6368829011917114,
          -0.2385798990726471,
          -0.20298799872398376,
          -0.14781101047992706,
          1.266251802444458,
          1.3126193284988403,
          1.413001537322998,
          0.28950271010398865,
          0.3385336697101593,
          0.3212233781814575,
          -0.5573051571846008,
          0.1531001478433609,
          0.10844293981790543,
          0.1403818577528,
          1.8346059322357178,
          1.8320457935333252,
          1.8359073400497437,
          -0.47539690136909485,
          -0.38907110691070557,
          -0.33433547616004944,
          -0.3200531005859375,
          -0.3072827160358429,
          -0.2951330244541168,
          -0.4979024827480316,
          -0.4780323803424835,
          -0.45159459114074707,
          -0.6897618770599365,
          -0.6947476863861084,
          -0.7181515097618103,
          0.5132097005844116,
          -0.2159384936094284,
          -0.4162616431713104,
          -0.29153406620025635,
          -0.8011706471443176,
          -0.8431355953216553,
          -0.8028674125671387,
          0.11432886868715286,
          0.18098768591880798,
          0.2622421383857727,
          -0.17884793877601624,
          -0.17206072807312012,
          -0.14806027710437775,
          -0.37665048241615295,
          -0.3831425905227661,
          -0.41375574469566345,
          0.14207419753074646,
          0.1971268355846405,
          0.2083011269569397,
          -0.5008296370506287,
          -0.5828250050544739,
          -0.7347574830055237,
          1.0057642459869385,
          0.22447969019412994,
          0.47285395860671997,
          2.2741239070892334,
          2.2646536827087402,
          2.2301149368286133,
          -0.21049758791923523,
          -0.13084766268730164,
          0.7716952562332153,
          0.5129010677337646,
          0.516526460647583,
          0.5303076505661011,
          1.6178869009017944,
          1.6107510328292847,
          1.5876891613006592,
          0.14133359491825104,
          0.05967055261135101,
          0.24271410703659058,
          -1.3239449262619019,
          -1.3586483001708984,
          -1.2969582080841064,
          0.2253418266773224,
          0.2206471711397171,
          0.2327784299850464,
          -0.5230863690376282,
          -0.4235907196998596,
          -0.38566169142723083,
          1.4957481622695923,
          1.5020129680633545,
          1.61687171459198,
          -0.2587829530239105,
          -0.3461454212665558,
          -0.38557326793670654,
          0.10297740250825882,
          0.16627806425094604,
          0.18304167687892914,
          0.10550562292337418,
          0.10550562292337418,
          0.10550562292337418,
          0.8731442093849182,
          0.8199512958526611,
          2.639252185821533,
          2.62308406829834,
          2.600053310394287,
          0.7880139946937561,
          0.7871328592300415,
          0.7744730710983276,
          0.03871596232056618,
          -0.20959463715553284,
          -0.1667013019323349,
          0.7671165466308594,
          0.6802759170532227,
          0.6249229311943054,
          -1.4527748823165894,
          -1.436180591583252,
          -1.4200477600097656,
          -0.05435553938150406,
          -0.1327255815267563,
          0.09917798638343811,
          0.07007990032434464,
          0.08119653165340424,
          0.07892351597547531,
          0.22971588373184204,
          0.19365835189819336,
          0.2861367166042328,
          -0.19154788553714752,
          -0.211686372756958,
          -0.2384367138147354,
          0.12739473581314087,
          0.15077508985996246,
          0.12501907348632812,
          0.46109575033187866,
          0.527099609375,
          0.11093028634786606,
          0.14881418645381927,
          0.14617960155010223,
          0.01991446316242218,
          0.10484059900045395,
          0.2975190281867981,
          0.7254540324211121,
          0.7365529537200928,
          1.2690123319625854,
          -1.038209319114685,
          -1.038209319114685,
          -1.0091310739517212,
          -1.846238136291504,
          -1.8512626886367798,
          -1.8509951829910278,
          1.5462865829467773,
          0.22477690875530243,
          -0.39153140783309937,
          -0.41032350063323975,
          -0.5248609781265259,
          0.19255049526691437,
          0.25114279985427856,
          0.26046425104141235,
          -1.0485601425170898,
          -0.9502795338630676,
          -0.9618263244628906,
          0.10512417554855347,
          0.10512417554855347,
          0.10512417554855347,
          0.8391501307487488,
          0.824416995048523,
          0.8343308568000793,
          -1.232492208480835,
          -1.3010951280593872,
          -1.2552895545959473,
          0.07687417417764664,
          0.2004551887512207,
          0.2869342863559723,
          -0.6251116991043091,
          -0.5598498582839966,
          -0.5497738122940063,
          -0.3865898847579956,
          -0.47892633080482483,
          -0.4841970205307007,
          -0.49509644508361816,
          -0.5172356367111206,
          0.7656764388084412,
          0.7656764388084412,
          0.7882280349731445,
          -0.13049490749835968,
          -0.11611825972795486,
          -0.14907050132751465,
          -0.7499938011169434,
          -0.8620301485061646,
          -0.7357441782951355,
          0.46594586968421936,
          0.17423374950885773,
          0.06252673268318176,
          -0.20039813220500946,
          -0.18983083963394165,
          -0.23572315275669098,
          0.3550310432910919,
          -1.1038368940353394,
          -0.6812085509300232,
          -0.6262831091880798,
          -0.6378055214881897,
          0.1229090690612793,
          0.189703106880188,
          0.16818636655807495,
          0.19620324671268463,
          0.15846318006515503,
          -0.6867150664329529,
          -0.7008010745048523,
          -0.7377274632453918,
          -1.6298153400421143,
          -1.7910791635513306,
          -1.427200436592102,
          -0.8442396521568298,
          -0.8423514366149902,
          -0.5664755702018738,
          -1.6263288259506226,
          -1.5613837242126465,
          -1.5478951930999756,
          0.057544510811567307,
          0.044760920107364655,
          -0.1133304163813591,
          0.28810372948646545,
          0.19153857231140137,
          0.20419739186763763,
          0.28465867042541504,
          -0.3361446261405945,
          -0.4829442799091339,
          -0.7338789701461792,
          0.467742383480072,
          0.4521932005882263,
          0.45742127299308777,
          -1.0825423002243042,
          -1.1080639362335205,
          -1.0848438739776611,
          -0.6629067063331604,
          -0.62928706407547,
          -0.6593866944313049,
          0.11256640404462814,
          0.11306676268577576,
          0.07365403324365616,
          0.7214253544807434,
          0.44968047738075256,
          0.3723011314868927,
          -0.2788371443748474,
          -0.2835697829723358,
          -0.2757036089897156,
          0.5547732710838318,
          0.632198691368103,
          0.4731932580471039,
          0.31338462233543396,
          0.39624932408332825,
          0.49961379170417786,
          -1.2851184606552124,
          -1.0336955785751343,
          -1.0491721630096436,
          0.47056278586387634,
          0.4707828462123871,
          0.488586962223053,
          1.73841392993927,
          1.8431267738342285,
          1.7454830408096313,
          0.5388336777687073,
          -1.4919136762619019,
          -1.5252443552017212,
          1.5796066522598267,
          -0.2395896017551422,
          -0.09394416213035583,
          -0.1559179127216339,
          0.7348587512969971,
          0.7356334924697876,
          -0.48454371094703674,
          -0.5561959147453308,
          -0.6064971089363098,
          0.4384114742279053,
          0.7970747351646423,
          0.8338349461555481,
          0.35587912797927856,
          -0.604351282119751,
          -0.7276540994644165,
          -0.6923760175704956,
          0.9405301213264465,
          0.9080799221992493,
          0.8573440909385681,
          0.2343156635761261,
          0.09052211046218872,
          -0.19529536366462708,
          1.470520257949829,
          0.09150438010692596,
          0.05904668942093849,
          -0.684055745601654,
          0.5200005769729614,
          0.5108881592750549,
          0.561168372631073,
          0.5879961252212524,
          0.7768661379814148,
          0.35923531651496887,
          0.4201021194458008,
          0.42935705184936523,
          -0.06061388552188873,
          0.20254316926002502,
          0.5720734000205994,
          -0.4522046446800232,
          1.2505035400390625,
          1.105567455291748,
          1.074907660484314,
          -0.05586063116788864,
          -0.18752922117710114,
          -0.08495612442493439,
          0.19233742356300354,
          0.20219199359416962,
          0.25709447264671326,
          0.938265860080719,
          0.9376040697097778,
          0.9376040697097778,
          0.33484095335006714,
          0.21812428534030914,
          0.28505900502204895,
          0.3299953043460846,
          0.3335145115852356,
          0.7082177400588989,
          0.21972545981407166,
          -0.08805432915687561,
          0.953009843826294,
          -0.004641641862690449,
          -0.03556812182068825,
          -0.16821566224098206,
          1.5397050380706787,
          1.683576226234436,
          1.7377105951309204,
          0.013231447897851467,
          0.19837507605552673,
          0.2622282803058624,
          0.30461427569389343,
          0.2644631862640381,
          0.1690521091222763,
          0.14207234978675842,
          -0.1481853574514389,
          -0.1550959050655365,
          -0.15755337476730347,
          0.5580021142959595,
          0.6773563623428345,
          -0.7633532285690308,
          -0.9129220247268677,
          -0.9160890579223633,
          0.19495494663715363,
          0.19495494663715363,
          0.19495494663715363,
          0.5779417753219604,
          0.5555146336555481,
          0.6918157339096069,
          0.7477320432662964,
          0.7597776055335999,
          -0.19888615608215332,
          -0.1593296378850937,
          -0.1293381005525589,
          -0.4110569655895233,
          -0.3930908739566803,
          -0.5299032330513,
          -1.0861786603927612,
          -1.1385458707809448,
          -1.1719443798065186,
          2.032599449157715,
          -0.3824557065963745,
          -0.3653857111930847,
          -0.33448514342308044,
          0.9071824550628662,
          0.6391085386276245,
          0.6230396032333374,
          1.0447453260421753,
          1.0686824321746826,
          0.9537777304649353,
          -0.3791549503803253,
          -0.38133126497268677,
          -0.4276442229747772,
          2.1525003910064697,
          2.146101474761963,
          2.115387201309204,
          0.0999583974480629,
          0.0999583974480629,
          0.0999583974480629,
          -1.2154819965362549,
          -1.2150914669036865,
          -1.0046271085739136,
          0.2506142258644104,
          0.3489950895309448,
          0.2974337339401245,
          -1.4064836502075195,
          -1.3362265825271606,
          -0.18571683764457703,
          -0.17767919600009918,
          -0.13062061369419098,
          -1.7295187711715698,
          -1.6666016578674316,
          -1.600717544555664,
          -0.7743110060691833,
          -0.7809771299362183,
          -0.6682630181312561,
          -1.4659366607666016,
          -1.515586256980896,
          -1.4162708520889282,
          -1.654638648033142,
          -1.67313814163208,
          -1.452262282371521,
          -0.13248012959957123,
          -0.022134052589535713,
          0.18175353109836578,
          0.01969301700592041,
          0.029772117733955383,
          0.08143462240695953,
          -0.7512995004653931,
          -0.7446137070655823,
          -0.7531647682189941,
          0.025825034826993942,
          0.04735838249325752,
          -0.14887040853500366,
          -1.3336799144744873,
          -1.3574116230010986,
          0.30866187810897827,
          0.3113884925842285,
          0.4902634918689728,
          -1.518280029296875,
          -1.4716442823410034,
          -0.20470881462097168,
          -0.1192757785320282,
          -0.25567248463630676,
          0.6691706776618958,
          0.6691706776618958,
          0.7150644659996033,
          -1.4786107540130615,
          -1.3364934921264648,
          0.9563130736351013,
          1.0381885766983032,
          1.0457998514175415,
          0.5669541954994202,
          0.5288030505180359,
          0.6076233983039856,
          -0.002424241742119193,
          -0.17900028824806213,
          -0.19590243697166443,
          0.44612783193588257,
          0.44612783193588257,
          0.44612783193588257,
          -1.1546729803085327,
          -1.0796445608139038,
          0.11996699124574661,
          0.23440347611904144,
          0.32873544096946716,
          0.023986652493476868,
          0.025539694353938103,
          0.04857920482754707,
          -1.5541669130325317,
          -1.5136618614196777,
          -1.4682942628860474,
          -0.7746514081954956,
          -0.7559568285942078,
          -0.7479553818702698,
          -0.16836337745189667,
          -0.054936040192842484,
          -0.16711539030075073,
          -0.048828352242708206,
          0.0006655753822997212,
          -0.019886750727891922,
          -0.5219534039497375,
          -0.4636460542678833,
          -0.40892696380615234,
          0.11998090147972107,
          0.11462447792291641,
          0.12664568424224854,
          0.5444691181182861,
          0.5741493105888367,
          0.6049752235412598,
          -0.3851066827774048,
          -0.26265639066696167,
          -0.4342808723449707,
          -0.12631598114967346,
          -0.11430146545171738,
          -0.09015929698944092,
          -0.20464463531970978,
          0.07234663516283035,
          -0.3621657192707062,
          -0.5035287141799927,
          -0.5425572991371155,
          -0.5203278660774231,
          -0.05751008912920952,
          -0.11368556320667267,
          -0.7228904366493225,
          -0.8605690002441406,
          -0.8852027654647827,
          -0.9149464964866638,
          0.3743825852870941,
          0.3835054934024811,
          0.6765127778053284,
          0.7257198691368103,
          0.2987540066242218,
          -0.1096906065940857,
          -0.10444192588329315,
          -0.09670890122652054,
          0.4456268846988678,
          0.4471741020679474,
          0.5221161246299744,
          -0.22565409541130066,
          -0.28326714038848877,
          -0.2819198668003082,
          0.2496953308582306,
          0.10024774074554443,
          0.09061530232429504,
          1.6079949140548706,
          1.6236411333084106,
          1.6255253553390503,
          0.30022919178009033,
          0.3244131803512573,
          0.2885170876979828,
          -0.7865059971809387,
          -0.7459279298782349,
          -0.8493350148200989,
          -0.11394689977169037,
          -0.1691051721572876,
          -0.13926266133785248,
          -0.11284515261650085,
          -0.09267605096101761,
          -0.191523939371109,
          -0.6400941014289856,
          -0.636714518070221,
          -0.5779361128807068,
          -0.28298941254615784,
          -0.25259971618652344,
          -0.2945850193500519,
          0.3540312647819519,
          -1.3124901056289673,
          -1.324829339981079,
          -1.3226879835128784,
          0.5697171688079834,
          0.6863816380500793,
          0.6146801710128784,
          0.254427045583725,
          0.21807850897312164,
          0.29048505425453186,
          0.30688416957855225,
          0.3578398525714874,
          0.44940248131752014,
          0.4010508358478546,
          0.29949626326560974,
          0.3386770486831665,
          -0.19890157878398895,
          -0.2195139080286026,
          -0.21564792096614838,
          -0.2784300446510315,
          -0.4611751139163971,
          -0.4880867898464203,
          -0.4373510181903839,
          -0.45947328209877014,
          -0.43390968441963196,
          0.1240021288394928,
          0.07816830277442932,
          0.0761503130197525,
          0.1211649551987648,
          0.09342771023511887,
          0.38371092081069946,
          -0.850237250328064,
          1.502925157546997,
          1.4668196439743042,
          1.4753271341323853,
          1.5592151880264282,
          1.5639698505401611,
          1.5278874635696411,
          -0.9164864420890808,
          -0.9497866034507751,
          0.12161114811897278,
          0.13855665922164917,
          0.17685078084468842,
          0.2616179287433624,
          0.21251386404037476,
          0.2510126531124115,
          0.6019619703292847,
          0.6505966186523438,
          0.5869503021240234,
          -0.10135599970817566,
          -0.35121020674705505,
          -0.7154807448387146,
          -0.39941880106925964,
          -0.3971332907676697,
          -0.389873743057251,
          -0.051849137991666794,
          -0.10865725576877594,
          -0.12254788726568222,
          -1.2722917795181274,
          -1.192868947982788,
          -0.9126064777374268,
          -1.2571401596069336,
          -1.4247790575027466,
          -1.3726710081100464,
          -0.3288913369178772,
          0.8562832474708557,
          0.8562832474708557,
          0.8562832474708557,
          -0.42407989501953125,
          -0.2235376387834549,
          0.385022908449173,
          0.9112773537635803,
          1.0209732055664062,
          1.0152037143707275,
          1.0688369274139404,
          0.030873971059918404,
          0.08573034405708313,
          0.11043670028448105,
          -0.47218942642211914,
          -0.4631425738334656,
          -0.2492777407169342,
          -0.2906660735607147,
          -0.06864643841981888,
          0.32657164335250854,
          0.23696015775203705,
          0.17197401821613312,
          -0.6284863948822021,
          -0.6284863948822021,
          -0.5831925272941589,
          -0.5831925272941589,
          -0.5565060973167419,
          -0.5565060973167419,
          1.3982148170471191,
          1.4099857807159424,
          -0.16427472233772278,
          0.3767050504684448,
          1.6892080307006836,
          1.446865200996399,
          0.16610898077487946,
          0.2807893753051758,
          0.30421653389930725,
          -1.241774559020996,
          -1.1980780363082886,
          -1.2141445875167847,
          -1.3346662521362305,
          0.43764808773994446,
          0.4291174113750458,
          -0.43693026900291443,
          -0.3497201204299927,
          -1.1146692037582397,
          -0.07918453216552734,
          -0.1436668038368225,
          -0.1400139331817627,
          -1.0694504976272583,
          -1.0132825374603271,
          -0.9720188975334167,
          -0.4907170832157135,
          -0.5633520483970642,
          -0.404940664768219,
          -0.602896511554718,
          -0.1230127215385437,
          -1.3087712526321411,
          0.16048455238342285,
          0.2017780840396881,
          0.20595380663871765,
          -0.24893902242183685,
          -0.2164934128522873,
          -0.20353667438030243,
          -0.3483026325702667,
          -0.6321089267730713,
          -0.6397128105163574,
          0.04669586569070816,
          0.07579057663679123,
          0.06610973924398422,
          0.9083971977233887,
          0.9564884305000305,
          -1.3852344751358032,
          -1.3175954818725586,
          0.3111629784107208,
          0.3955848217010498,
          0.3687858283519745,
          0.1329870969057083,
          0.8635112047195435,
          0.9114646911621094,
          0.20246469974517822,
          -0.6828653216362,
          -0.6811018586158752,
          -0.6266475915908813,
          -0.587092399597168,
          -0.7027232050895691,
          -0.3192865252494812,
          -0.4302678406238556,
          -0.41993585228919983,
          -0.13399288058280945,
          -0.2197556346654892,
          -0.19593900442123413,
          -0.6987403035163879,
          -0.39520731568336487,
          0.9298340082168579,
          0.35288071632385254,
          0.35229843854904175,
          0.4546922445297241,
          -0.39738646149635315,
          -0.4910249710083008,
          1.703484296798706,
          1.703484296798706,
          1.6444324254989624,
          1.6444324254989624,
          -0.4760279059410095,
          -0.5624014139175415,
          0.9114858508110046,
          1.0579769611358643,
          -0.47320303320884705,
          -0.7105789184570312,
          -0.6739193797111511,
          -0.7729102969169617,
          0.5248991250991821,
          -0.3337364196777344,
          -0.30103799700737,
          -0.4520886242389679,
          -0.10317032784223557,
          -0.8433586359024048,
          -0.8420546650886536,
          -0.8435689806938171,
          0.8172222971916199,
          0.8160439133644104,
          0.06164056807756424,
          0.06965135782957077,
          0.06295271962881088,
          -0.492263525724411,
          -0.5124419331550598,
          -0.22924569249153137,
          0.07725268602371216,
          0.04174131527543068,
          0.07783526927232742,
          -0.5206209421157837,
          -0.5646914839744568,
          -0.5685564875602722,
          1.8093068599700928,
          1.9068089723587036,
          2.0304603576660156,
          -0.6826673150062561,
          -0.7216077446937561,
          -0.5459361672401428,
          0.8966249823570251,
          0.9023991823196411,
          0.7754431366920471,
          -0.7869707942008972,
          0.8485111594200134,
          0.9711100459098816,
          0.39722150564193726,
          0.4027145802974701,
          -0.2980974018573761,
          0.07889539748430252,
          0.014735261909663677,
          0.01360598299652338,
          0.6006856560707092,
          0.6006856560707092,
          0.946688175201416,
          -0.5209372639656067,
          0.3018142282962799,
          -0.529185950756073,
          -0.4995920956134796,
          -0.4740593731403351,
          -0.5272570848464966,
          0.4716237187385559,
          0.44153887033462524,
          0.44278451800346375,
          -0.26248976588249207,
          -0.26248976588249207,
          -0.26248976588249207,
          1.5486137866973877,
          1.5486979484558105,
          -0.265964537858963,
          -0.14249302446842194,
          -0.17322938144207,
          -0.49389830231666565,
          -0.5103873610496521,
          -0.43441668152809143,
          0.08249488472938538,
          0.4121890962123871,
          0.3195776641368866,
          0.34146663546562195,
          0.6804391145706177,
          0.6703323125839233,
          0.6978627443313599,
          -0.2402910441160202,
          -0.32576191425323486,
          -0.31893637776374817,
          0.40077513456344604,
          -1.3084408044815063,
          -1.2710083723068237,
          -1.283179521560669,
          -0.3544664680957794,
          -0.18949347734451294,
          -0.20495204627513885,
          -0.2219735085964203,
          -0.9236704111099243,
          -0.9676605463027954,
          -0.9834020137786865,
          0.27066951990127563,
          -0.0073158773593604565,
          0.008739955723285675,
          0.8258815407752991,
          0.6875662207603455,
          0.6694281697273254,
          0.23508380353450775,
          1.2388938665390015,
          1.2388938665390015,
          0.7239121198654175,
          1.3525216579437256,
          1.1731892824172974,
          -1.365035057067871,
          -1.5929774045944214,
          -1.5345463752746582,
          1.0485683679580688,
          1.0464777946472168,
          0.417531281709671,
          0.31511926651000977,
          0.31873995065689087,
          0.2753714621067047,
          -0.844678521156311,
          -0.7529486417770386,
          -0.7564389109611511,
          -0.020463159307837486,
          -0.13173548877239227,
          0.0616283118724823,
          0.4967975914478302,
          0.44764357805252075,
          0.4228532016277313,
          -0.6906908750534058,
          -0.722534716129303,
          -0.7330117225646973,
          0.8786376118659973,
          0.7222243547439575,
          0.6555949449539185,
          0.7683753967285156,
          -0.18704889714717865,
          -0.233238086104393,
          -0.18117663264274597,
          2.0995917320251465,
          2.1125526428222656,
          2.2302067279815674,
          -0.2855461537837982,
          -0.27401044964790344,
          -0.21118275821208954,
          -1.4176632165908813,
          -1.4097880125045776,
          -1.4208159446716309,
          2.2405354976654053,
          2.2017979621887207,
          2.2187564373016357,
          0.4357832968235016,
          0.43029341101646423,
          0.3630804717540741,
          -0.21792647242546082,
          -0.10622575879096985,
          -0.10440333932638168,
          0.6399827599525452,
          0.5901152491569519,
          0.5985330939292908,
          -0.1828383207321167,
          -0.2543181777000427,
          -0.39495348930358887,
          -0.3107498288154602,
          -0.42016902565956116,
          -0.40451985597610474,
          -0.7326173782348633,
          -0.5178821682929993,
          -0.5552545189857483,
          -0.2706432044506073,
          -0.2906021773815155,
          0.5940086841583252,
          0.6114574074745178,
          0.594453752040863,
          -0.3802555799484253,
          -0.43475937843322754,
          -0.3733861744403839,
          -0.573413074016571,
          -0.5930637121200562,
          -0.08168690651655197,
          -0.04233191907405853,
          -0.026376497000455856,
          0.7410925030708313,
          0.7427194714546204,
          -0.7028442025184631,
          0.12882032990455627,
          0.20342275500297546,
          0.17586618661880493,
          0.2163492888212204,
          0.22024103999137878,
          0.2558753490447998,
          -0.3070187568664551,
          -0.17862369120121002,
          -0.10698304325342178,
          0.5562865734100342,
          0.4630454480648041,
          0.6251626014709473,
          0.6124040484428406,
          -0.045824483036994934,
          -0.16791114211082458,
          -0.16801826655864716,
          0.6777005791664124,
          0.7466720938682556,
          0.6026077270507812,
          0.29653096199035645,
          0.11362150311470032,
          -0.416098415851593,
          -0.4149401783943176,
          -0.06157846748828888,
          -0.7824408411979675,
          -0.8122866153717041,
          -0.5974187254905701,
          0.7112208008766174,
          0.790557324886322,
          0.6739292740821838,
          0.4037766456604004,
          0.3980000615119934,
          0.09727393835783005,
          -0.4292292892932892,
          -0.4225541353225708,
          -0.4390386939048767,
          2.1671533584594727,
          -1.31221604347229,
          -0.5735470056533813,
          -0.5674613118171692,
          -0.5752851366996765,
          -1.7132176160812378,
          -1.6650805473327637,
          -1.5036418437957764,
          -0.5060795545578003,
          2.3319101333618164,
          2.334947347640991,
          2.4406628608703613,
          0.3407442271709442,
          0.30967873334884644,
          0.36482909321784973,
          0.16676034033298492,
          0.337445467710495,
          1.2088614702224731,
          -1.655447244644165,
          0.27027246356010437,
          0.2876605689525604,
          0.293540358543396,
          -0.8047589063644409,
          0.31193044781684875,
          0.35657671093940735,
          0.3440747559070587,
          0.6054078340530396,
          0.6565926671028137,
          0.6940794587135315,
          0.6760109066963196,
          0.6866466999053955,
          0.7342795729637146,
          -0.24630309641361237,
          -0.24052776396274567,
          -0.21786656975746155,
          -0.8827014565467834,
          -0.8450680375099182,
          -0.8772594332695007,
          0.02457233890891075,
          0.030625630170106888,
          -0.17399564385414124,
          1.6129677295684814,
          1.6024621725082397,
          1.4087198972702026,
          1.8219423294067383,
          1.721505880355835,
          -0.8761452436447144,
          -0.9706467986106873,
          -0.8148658871650696,
          0.36538392305374146,
          0.5431705117225647,
          0.8588913679122925,
          0.589927077293396,
          0.6244808435440063,
          0.5670118927955627,
          0.3281959295272827,
          0.3281959295272827,
          0.3281959295272827,
          -0.7678333520889282,
          -0.727241039276123,
          -0.4922527074813843,
          0.05542539432644844,
          0.06193450093269348,
          0.05093616992235184,
          0.595117449760437,
          0.4688190817832947,
          0.45733049511909485,
          -0.42806535959243774,
          -0.5172497034072876,
          -0.8121687173843384,
          -0.8699477910995483,
          -0.7836046814918518,
          -0.8489604592323303,
          -0.7943903803825378,
          -0.8006612658500671,
          -0.7503470182418823,
          -0.7739439010620117,
          0.45106685161590576,
          0.5441884398460388,
          0.2646905183792114,
          -0.30097055435180664,
          -0.3532228469848633,
          -0.33673903346061707,
          0.18304376304149628,
          -0.01777508854866028,
          -0.1212574914097786,
          0.5762130618095398,
          0.5164297819137573,
          0.5743258595466614,
          0.5737437605857849,
          0.4114803075790405,
          0.49579674005508423,
          0.5318374633789062,
          0.46274587512016296,
          0.4627947509288788,
          -0.9545698761940002,
          -1.18013334274292,
          -1.2669603824615479,
          0.6235013008117676,
          0.635758638381958,
          0.6267819404602051,
          0.27422797679901123,
          0.26550963521003723,
          0.2695341110229492,
          0.5863176584243774,
          0.594653308391571,
          0.6519870162010193,
          -0.8229349255561829,
          -0.9457197189331055,
          -0.8604278564453125,
          -0.252975195646286,
          -0.2429441660642624,
          -0.65594083070755,
          -0.9270907640457153,
          -0.9101287126541138,
          -0.8499428033828735,
          0.8068544864654541,
          0.8570828437805176,
          0.8759515285491943,
          1.4730987548828125,
          -0.45467373728752136,
          1.5881677865982056,
          0.6121717691421509,
          0.514395534992218,
          0.4170616567134857,
          0.7590314149856567,
          0.8135800361633301,
          0.8873440027236938,
          -0.36312317848205566,
          -0.33306899666786194,
          -0.2800680100917816,
          -0.25685736536979675,
          -0.2583356201648712,
          -0.2134505808353424,
          -0.36901727318763733,
          -0.38294851779937744,
          -0.2836052477359772,
          -0.6166307330131531,
          -0.6367239952087402,
          -0.6407429575920105,
          1.7811923027038574,
          1.7717103958129883,
          1.2726444005966187,
          1.2319140434265137,
          1.2884387969970703,
          -0.16970686614513397,
          0.28319329023361206,
          0.12116364389657974,
          -0.9397925734519958,
          -0.8020024299621582,
          -0.8384609818458557,
          -0.09126734733581543,
          -0.11375116556882858,
          -0.10532882064580917,
          0.1263350397348404,
          0.17786666750907898,
          0.18791867792606354,
          1.3041080236434937,
          1.3232816457748413,
          1.5730959177017212,
          1.0731987953186035,
          0.6921043992042542,
          0.5074430704116821,
          0.47339439392089844,
          0.5348340272903442,
          0.13955791294574738,
          -0.44891753792762756,
          -0.4129638075828552,
          1.5291295051574707,
          -1.18864905834198,
          -1.1547508239746094,
          -1.2104597091674805,
          -0.22688063979148865,
          -0.045173559337854385,
          -0.01572604663670063,
          -0.6121029257774353,
          -0.7279579639434814,
          1.1358795166015625,
          1.0412710905075073,
          0.6284152269363403,
          0.5870985388755798,
          0.6023339033126831,
          -1.0398749113082886,
          -1.039867639541626,
          0.7352402210235596,
          0.6827408075332642,
          0.7996839284896851,
          0.6477658152580261,
          0.819960355758667,
          0.758439302444458,
          2.2842495441436768,
          -1.0782541036605835,
          -1.1253299713134766,
          -1.0457249879837036,
          0.6787304282188416,
          0.29608047008514404,
          0.3458254039287567,
          1.6625926494598389,
          -0.8828136324882507,
          0.7137911915779114,
          0.7538679838180542,
          0.7052069902420044,
          0.6869630217552185,
          -0.6082520484924316,
          -0.4738613963127136,
          -0.4665467143058777,
          -0.46765264868736267,
          2.1405858993530273,
          2.050278902053833,
          1.7184677124023438,
          1.8026766777038574,
          1.8596936464309692,
          0.9642210602760315,
          0.9588173627853394,
          0.0877324566245079,
          0.09231980890035629,
          -0.19312776625156403,
          -0.4118714928627014,
          -0.6379837393760681,
          1.7094565629959106,
          1.565870761871338,
          1.3550182580947876,
          -0.29012563824653625,
          -0.2806639075279236,
          -0.27409449219703674,
          -0.5741275548934937,
          -0.6660799980163574,
          -0.7297937273979187,
          -0.577207624912262,
          -0.6832522749900818,
          -0.6932671070098877,
          -1.244494080543518,
          -1.3548645973205566,
          -1.3548645973205566,
          0.261519193649292,
          0.3431375026702881,
          0.33777952194213867,
          0.4102754294872284,
          0.6321007609367371,
          0.6668848991394043,
          0.6063327193260193,
          -0.004853568505495787,
          -1.3248223066329956,
          0.026571525260806084,
          0.12545166909694672,
          0.15907429158687592,
          0.553745448589325,
          0.20845746994018555,
          0.5817041993141174,
          -0.6040619015693665,
          -0.6686945557594299,
          -0.5313570499420166,
          -0.8402354121208191,
          0.49617019295692444,
          0.2611452043056488,
          0.12088645994663239,
          -0.044092580676078796,
          -0.04957643523812294,
          0.018541116267442703,
          -0.6254923939704895,
          -0.6190176010131836,
          -0.6240059733390808,
          -0.8003872036933899,
          -0.1659909337759018,
          -0.18625856935977936,
          -0.15085984766483307,
          -0.36634790897369385,
          -0.36312466859817505,
          -0.3677145540714264,
          2.135942220687866,
          2.316258668899536,
          0.545967698097229,
          0.5755448341369629,
          0.5839582681655884,
          2.40193510055542,
          2.323618173599243,
          2.1953301429748535,
          0.1496494561433792,
          1.4563857316970825,
          0.9152567982673645,
          -0.5058432221412659,
          -0.39215126633644104,
          -0.26751580834388733,
          -0.23110449314117432,
          -0.06726940721273422,
          -0.0918617695569992,
          0.24703535437583923,
          -0.34108495712280273,
          -0.6044044494628906,
          -0.4472869038581848,
          -0.6239929795265198,
          -0.7409169673919678,
          -0.08504517376422882,
          -0.0790366679430008,
          0.4522177278995514,
          0.29219213128089905,
          0.31959080696105957,
          0.3815361559391022,
          -0.6572880148887634,
          -0.7881052494049072,
          1.8297860622406006,
          1.8018198013305664,
          1.9161605834960938,
          -0.6727678179740906,
          -0.6685433387756348,
          -0.6588876247406006,
          1.0958136320114136,
          0.9302621483802795,
          0.6688973307609558,
          -0.44284242391586304,
          -0.19968484342098236,
          -0.47766515612602234,
          0.48263129591941833,
          0.48941314220428467,
          0.5566554665565491,
          -0.5983338356018066,
          -0.5966576933860779,
          -1.2213975191116333,
          -0.19549515843391418,
          -0.2072356790304184,
          -0.19104045629501343,
          -0.4731614291667938,
          -0.6512887477874756,
          -0.7556806802749634,
          -0.8046637773513794,
          -1.071433663368225,
          -1.1688553094863892,
          -1.2648324966430664,
          0.8913643956184387,
          0.05654282495379448,
          0.20731322467327118,
          -0.49302923679351807,
          -0.5103732347488403,
          -0.4850098788738251,
          -0.321343332529068,
          -0.3458915650844574,
          -0.2842971086502075,
          1.8352811336517334,
          1.9084398746490479,
          1.9849776029586792,
          -0.41085249185562134,
          -0.20722950994968414,
          -0.26717257499694824,
          -0.7680820822715759,
          -0.3091348111629486,
          -0.5648961067199707,
          -0.5648961067199707,
          0.9444055557250977,
          0.8601040244102478,
          0.8226257562637329,
          -0.4788784384727478,
          0.6403842568397522,
          -0.053517576307058334,
          2.9794747829437256,
          2.5296568870544434,
          -0.21775315701961517,
          0.506011426448822,
          1.0333696603775024,
          -0.6207939982414246,
          -0.6866859793663025,
          0.3832201063632965,
          0.34956228733062744,
          0.29379892349243164,
          0.45981332659721375,
          -0.035069238394498825,
          0.6065451502799988,
          0.5951189994812012,
          0.5940561890602112,
          1.88405442237854,
          1.6643760204315186,
          1.3497440814971924,
          -0.9206578135490417,
          -0.657529890537262,
          0.08440881222486496,
          -0.024883897975087166,
          0.10770467668771744,
          1.87155020236969,
          1.9326437711715698,
          1.8428257703781128,
          0.017772939056158066,
          0.013109543360769749,
          0.0035016313195228577,
          -0.20651984214782715,
          -0.2069455236196518,
          -0.20360428094863892,
          -0.04465493559837341,
          -0.03913060948252678,
          -0.03913060948252678,
          0.5276660919189453,
          1.0668070316314697,
          1.084486961364746,
          0.4919946491718292,
          0.4456186890602112,
          0.2192319631576538,
          0.0669245645403862,
          0.029964298009872437,
          0.9782013297080994,
          0.9843584299087524,
          -0.04602675512433052,
          -0.21987193822860718,
          -0.7097007036209106,
          0.4999817907810211,
          0.5132313966751099,
          -0.22103825211524963,
          -0.28619641065597534,
          -1.3283014297485352,
          -1.3560833930969238,
          -1.3586912155151367,
          -1.0064630508422852,
          -1.0255223512649536,
          -0.5213679075241089,
          -0.5182960629463196,
          -1.5440669059753418,
          -1.1828675270080566,
          -1.1482596397399902,
          -1.0893778800964355,
          -0.4986949861049652,
          -0.6011333465576172,
          -0.5883110761642456,
          -0.2751624286174774,
          -0.3314204514026642,
          -0.463224858045578,
          -0.6127713322639465,
          2.0700385570526123,
          2.0531013011932373,
          0.05071169510483742,
          0.08634281903505325,
          0.08989954739809036,
          -0.2548728585243225,
          0.01389383152127266,
          0.023443149402737617,
          -0.9734318852424622,
          -1.2188845872879028,
          -1.1959049701690674,
          0.10306242853403091,
          0.12369855493307114,
          0.13546299934387207,
          0.14991691708564758,
          0.1234203353524208,
          0.1357298493385315,
          0.41048142313957214,
          0.5104712247848511,
          0.4579750895500183,
          -0.6843590140342712,
          -0.7872769832611084,
          -0.7663245797157288,
          -0.20728980004787445,
          -0.21790555119514465,
          -0.041759192943573,
          -0.7699548006057739,
          -0.771436333656311,
          -0.771436333656311,
          0.689220666885376,
          0.8280766010284424,
          1.208306074142456,
          1.3001829385757446,
          1.3765099048614502,
          -0.09502054005861282,
          -0.19938823580741882,
          -0.6526607275009155,
          -0.06451428681612015,
          -0.5672916769981384,
          -0.5758023262023926,
          1.1715033054351807,
          1.3000096082687378,
          1.3606243133544922,
          0.5500447154045105,
          0.5500447154045105,
          0.5500447154045105,
          0.6026143431663513,
          0.045705318450927734,
          0.020512694492936134,
          -0.014487748965620995,
          -0.41667798161506653,
          -0.013218294829130173,
          -0.23634009063243866,
          -0.6655874848365784,
          -0.6156174540519714,
          -0.641650915145874,
          0.15611007809638977,
          0.13560377061367035,
          -0.4668337404727936,
          -0.4486890137195587,
          -0.4486890137195587,
          -0.45828089118003845,
          -0.45828089118003845,
          -0.17965808510780334,
          -0.17965808510780334,
          -0.10152072459459305,
          -0.09504713863134384,
          -0.11184744536876678,
          -0.3724139630794525,
          -0.38637036085128784,
          -0.6052356362342834,
          -0.0013361821183934808,
          -0.007001676131039858,
          -0.4124528467655182,
          1.5797901153564453,
          1.611491322517395,
          0.8569231033325195,
          0.7353613376617432,
          0.29414936900138855,
          0.8595657348632812,
          0.8595657348632812,
          0.5109390616416931,
          0.5109390616416931,
          0.6351286768913269,
          0.8005010485649109,
          -0.5145233273506165,
          -0.5246083736419678,
          -0.5482146143913269,
          -0.1760358214378357,
          -0.6155102252960205,
          -0.36520594358444214,
          0.6618630886077881,
          0.6412562131881714,
          0.05262584611773491,
          0.3254881203174591,
          0.2518303096294403,
          -0.174834206700325,
          -0.22923211753368378,
          -0.2159007340669632,
          0.7123270034790039,
          0.7123270034790039,
          0.3402726948261261,
          0.4681307077407837,
          0.4289461672306061,
          0.04684850201010704,
          0.1975911557674408,
          0.16955290734767914,
          -0.4431704878807068,
          -0.25920411944389343,
          -0.17411017417907715,
          -0.44873976707458496,
          -0.13511809706687927,
          0.1292375773191452,
          -0.016893047839403152,
          -0.8753837943077087,
          -0.8593811392784119,
          -0.8814651966094971,
          0.15942177176475525,
          0.17453961074352264,
          0.654924213886261,
          0.7527400255203247,
          0.7395428419113159,
          0.43123313784599304,
          1.0377602577209473,
          0.8096017241477966,
          1.1801210641860962,
          0.041016869246959686,
          0.5251770615577698,
          0.4937324821949005,
          -0.3123195767402649,
          -0.2297488898038864,
          -0.42109930515289307,
          -0.19743777811527252,
          -0.2077571451663971,
          -0.19256965816020966,
          -1.2382731437683105,
          -1.2173789739608765,
          -1.2109601497650146,
          -1.5402882099151611,
          -1.5331406593322754,
          -1.558899998664856,
          0.821548581123352,
          0.8237439393997192,
          0.22224700450897217,
          2.8626909255981445,
          2.773777961730957,
          2.7548882961273193,
          0.038306280970573425,
          0.09841690212488174,
          1.8976163864135742,
          -0.15162087976932526,
          0.9587532877922058,
          0.9480286240577698,
          0.9744702577590942,
          -0.2418239563703537,
          -0.2418239563703537,
          -0.5169867277145386,
          -0.5169867277145386,
          -0.40821659564971924,
          -0.40821659564971924,
          0.06043080613017082,
          0.05535902827978134,
          0.019778938964009285,
          0.12781259417533875,
          0.052513208240270615,
          0.029879210516810417,
          0.11242567002773285,
          0.09898419678211212,
          -0.0908324271440506,
          -0.5979574918746948,
          -0.58470618724823,
          0.07059743255376816,
          0.07059743255376816,
          0.050382886081933975,
          0.050382886081933975,
          -0.16948285698890686,
          -0.16948285698890686,
          -0.5709365010261536,
          -0.5614055395126343,
          -1.5497753620147705,
          -1.4752072095870972,
          -1.4545702934265137,
          1.0428582429885864,
          1.6091365814208984,
          1.4236737489700317,
          1.304036021232605,
          1.4428707361221313,
          0.7603814005851746,
          0.7620097994804382,
          0.8299784064292908,
          1.5296595096588135,
          1.5334478616714478,
          1.5570738315582275,
          0.4025919735431671,
          0.3881646990776062,
          0.2558692991733551,
          0.14937946200370789,
          0.14176316559314728,
          0.7922945618629456,
          0.3951820433139801,
          0.25799646973609924,
          0.22721515595912933,
          0.22664789855480194,
          0.37561190128326416,
          0.3827860355377197,
          0.29618117213249207,
          -0.017322000116109848,
          -0.40178391337394714,
          0.5559792518615723,
          0.5679605007171631,
          0.5952317118644714,
          -0.03920882195234299,
          0.07646232098340988,
          -0.5163038372993469,
          -1.103455662727356,
          -0.5536561012268066,
          -0.9234879016876221,
          -0.1946467012166977,
          1.2602235078811646,
          1.3557051420211792,
          0.5100454092025757,
          0.4777642786502838,
          0.43420636653900146,
          -0.1838284730911255,
          -0.20876803994178772,
          -0.09008000046014786,
          -0.14951731264591217,
          -0.31516289710998535,
          -0.27939674258232117,
          -1.5286861658096313,
          -1.5434634685516357,
          -1.5641790628433228,
          1.4912281036376953,
          1.4656645059585571,
          1.4800349473953247,
          0.25827667117118835,
          0.25054022669792175,
          -0.16166894137859344,
          -0.11877565085887909,
          0.04346261918544769,
          0.5947237014770508,
          -0.5568077564239502,
          -0.11596544086933136,
          -0.7875770926475525,
          -0.3369334042072296,
          -0.807004988193512,
          0.892665445804596,
          -0.8621010184288025,
          -0.2923627495765686,
          -0.3277962803840637,
          -0.33879998326301575,
          0.466877281665802,
          0.12120833992958069,
          0.10360217094421387,
          0.09858989715576172,
          0.08452137559652328,
          0.12843775749206543,
          0.12512393295764923,
          -0.3478877544403076,
          -0.37206465005874634,
          -0.3720581829547882,
          -0.05816758796572685,
          -0.08097675442695618,
          -0.08606875687837601,
          -0.13240556418895721,
          0.7083641290664673,
          0.7761350274085999,
          -0.027330905199050903,
          1.5076591968536377,
          1.2139053344726562,
          0.04684850201010704,
          0.1975911557674408,
          0.16955290734767914,
          -0.38922399282455444,
          0.08566849678754807,
          0.055166468024253845,
          0.00015148005331866443,
          0.1595730185508728,
          1.030021071434021,
          0.5578356385231018,
          0.2944315969944,
          0.7905246615409851,
          0.7202634811401367,
          0.13207125663757324,
          0.13207125663757324,
          0.11543727666139603,
          1.378983497619629,
          1.2966712713241577,
          0.6397905349731445,
          -0.5817413926124573,
          -0.8184680342674255,
          -0.8184680342674255,
          -0.45668190717697144,
          -0.4394661784172058,
          -0.3911330997943878,
          -0.49777644872665405,
          -0.6693215370178223,
          -0.7266274690628052,
          0.3080054223537445,
          -0.11897722631692886,
          -0.1256287544965744,
          -1.2192764282226562,
          -1.1922740936279297,
          -1.0565544366836548,
          0.044982172548770905,
          -0.17772439122200012,
          -0.09776313602924347,
          -0.09776313602924347,
          0.2908516824245453,
          0.2908516824245453,
          0.5348803400993347,
          -0.1485319286584854,
          -0.13266968727111816,
          -0.18310536444187164,
          -1.1178354024887085,
          -0.7569977045059204,
          -0.981525719165802,
          -0.4123641848564148,
          -0.30132296681404114,
          -0.8464704751968384,
          -1.0274163484573364,
          2.0097415447235107,
          2.0356533527374268,
          2.197089433670044,
          0.31286728382110596,
          0.0010489652631804347,
          0.0010489652631804347,
          -0.15849991142749786,
          0.2751273512840271,
          0.2261093705892563,
          -0.45424240827560425,
          -0.33556056022644043,
          -0.3890969455242157,
          -0.2822646498680115,
          -1.1929047107696533,
          -1.312591314315796,
          -1.283286213874817,
          -1.2370980978012085,
          -0.3007189631462097,
          1.7303377389907837,
          -0.37211596965789795,
          -0.6119639873504639,
          0.3263608515262604,
          0.7325180172920227,
          0.8509054183959961,
          0.13614530861377716,
          -0.5692693591117859,
          -0.7068467140197754,
          -0.6693539619445801,
          -1.1793296337127686,
          -1.1883326768875122,
          -1.3520010709762573,
          1.7088689804077148,
          0.1270103007555008,
          -0.15150417387485504,
          -0.24272242188453674,
          0.2227841019630432,
          -0.19809915125370026,
          -0.4295387268066406,
          0.7158078551292419,
          0.7146444320678711,
          -0.3529525399208069,
          -0.3529525399208069,
          -0.18316194415092468,
          -0.18316194415092468,
          0.8005884289741516,
          0.8005884289741516,
          -0.08168447017669678,
          0.3462626039981842,
          0.432959645986557,
          -0.08835003525018692,
          -0.05935484170913696,
          -0.23285311460494995,
          0.25537315011024475,
          0.04707998409867287,
          -0.20931166410446167,
          -0.3213246464729309,
          0.0822896957397461,
          0.033917441964149475,
          0.06434652954339981,
          0.01932774856686592,
          0.46023795008659363,
          0.4196648597717285,
          0.4745631814002991,
          -0.4779179096221924,
          -0.008866664953529835,
          0.19248859584331512,
          -0.11074809730052948,
          -0.3475566804409027,
          0.14509783685207367,
          0.1079660952091217,
          -0.031779494136571884,
          1.1979622840881348,
          1.1979622840881348,
          1.1979622840881348,
          -0.29625821113586426,
          -0.30653294920921326,
          0.9362234473228455,
          -0.41442808508872986,
          -0.545552134513855,
          -0.7213728427886963,
          0.33865395188331604,
          0.4101223945617676
         ],
         "yaxis": "y"
        }
       ],
       "layout": {
        "coloraxis": {
         "colorbar": {
          "title": {
           "text": "index"
          }
         },
         "colorscale": [
          [
           0,
           "#0d0887"
          ],
          [
           0.1111111111111111,
           "#46039f"
          ],
          [
           0.2222222222222222,
           "#7201a8"
          ],
          [
           0.3333333333333333,
           "#9c179e"
          ],
          [
           0.4444444444444444,
           "#bd3786"
          ],
          [
           0.5555555555555556,
           "#d8576b"
          ],
          [
           0.6666666666666666,
           "#ed7953"
          ],
          [
           0.7777777777777778,
           "#fb9f3a"
          ],
          [
           0.8888888888888888,
           "#fdca26"
          ],
          [
           1,
           "#f0f921"
          ]
         ]
        },
        "height": 600,
        "legend": {
         "tracegroupgap": 0
        },
        "margin": {
         "t": 60
        },
        "template": {
         "data": {
          "bar": [
           {
            "error_x": {
             "color": "#2a3f5f"
            },
            "error_y": {
             "color": "#2a3f5f"
            },
            "marker": {
             "line": {
              "color": "#E5ECF6",
              "width": 0.5
             },
             "pattern": {
              "fillmode": "overlay",
              "size": 10,
              "solidity": 0.2
             }
            },
            "type": "bar"
           }
          ],
          "barpolar": [
           {
            "marker": {
             "line": {
              "color": "#E5ECF6",
              "width": 0.5
             },
             "pattern": {
              "fillmode": "overlay",
              "size": 10,
              "solidity": 0.2
             }
            },
            "type": "barpolar"
           }
          ],
          "carpet": [
           {
            "aaxis": {
             "endlinecolor": "#2a3f5f",
             "gridcolor": "white",
             "linecolor": "white",
             "minorgridcolor": "white",
             "startlinecolor": "#2a3f5f"
            },
            "baxis": {
             "endlinecolor": "#2a3f5f",
             "gridcolor": "white",
             "linecolor": "white",
             "minorgridcolor": "white",
             "startlinecolor": "#2a3f5f"
            },
            "type": "carpet"
           }
          ],
          "choropleth": [
           {
            "colorbar": {
             "outlinewidth": 0,
             "ticks": ""
            },
            "type": "choropleth"
           }
          ],
          "contour": [
           {
            "colorbar": {
             "outlinewidth": 0,
             "ticks": ""
            },
            "colorscale": [
             [
              0,
              "#0d0887"
             ],
             [
              0.1111111111111111,
              "#46039f"
             ],
             [
              0.2222222222222222,
              "#7201a8"
             ],
             [
              0.3333333333333333,
              "#9c179e"
             ],
             [
              0.4444444444444444,
              "#bd3786"
             ],
             [
              0.5555555555555556,
              "#d8576b"
             ],
             [
              0.6666666666666666,
              "#ed7953"
             ],
             [
              0.7777777777777778,
              "#fb9f3a"
             ],
             [
              0.8888888888888888,
              "#fdca26"
             ],
             [
              1,
              "#f0f921"
             ]
            ],
            "type": "contour"
           }
          ],
          "contourcarpet": [
           {
            "colorbar": {
             "outlinewidth": 0,
             "ticks": ""
            },
            "type": "contourcarpet"
           }
          ],
          "heatmap": [
           {
            "colorbar": {
             "outlinewidth": 0,
             "ticks": ""
            },
            "colorscale": [
             [
              0,
              "#0d0887"
             ],
             [
              0.1111111111111111,
              "#46039f"
             ],
             [
              0.2222222222222222,
              "#7201a8"
             ],
             [
              0.3333333333333333,
              "#9c179e"
             ],
             [
              0.4444444444444444,
              "#bd3786"
             ],
             [
              0.5555555555555556,
              "#d8576b"
             ],
             [
              0.6666666666666666,
              "#ed7953"
             ],
             [
              0.7777777777777778,
              "#fb9f3a"
             ],
             [
              0.8888888888888888,
              "#fdca26"
             ],
             [
              1,
              "#f0f921"
             ]
            ],
            "type": "heatmap"
           }
          ],
          "heatmapgl": [
           {
            "colorbar": {
             "outlinewidth": 0,
             "ticks": ""
            },
            "colorscale": [
             [
              0,
              "#0d0887"
             ],
             [
              0.1111111111111111,
              "#46039f"
             ],
             [
              0.2222222222222222,
              "#7201a8"
             ],
             [
              0.3333333333333333,
              "#9c179e"
             ],
             [
              0.4444444444444444,
              "#bd3786"
             ],
             [
              0.5555555555555556,
              "#d8576b"
             ],
             [
              0.6666666666666666,
              "#ed7953"
             ],
             [
              0.7777777777777778,
              "#fb9f3a"
             ],
             [
              0.8888888888888888,
              "#fdca26"
             ],
             [
              1,
              "#f0f921"
             ]
            ],
            "type": "heatmapgl"
           }
          ],
          "histogram": [
           {
            "marker": {
             "pattern": {
              "fillmode": "overlay",
              "size": 10,
              "solidity": 0.2
             }
            },
            "type": "histogram"
           }
          ],
          "histogram2d": [
           {
            "colorbar": {
             "outlinewidth": 0,
             "ticks": ""
            },
            "colorscale": [
             [
              0,
              "#0d0887"
             ],
             [
              0.1111111111111111,
              "#46039f"
             ],
             [
              0.2222222222222222,
              "#7201a8"
             ],
             [
              0.3333333333333333,
              "#9c179e"
             ],
             [
              0.4444444444444444,
              "#bd3786"
             ],
             [
              0.5555555555555556,
              "#d8576b"
             ],
             [
              0.6666666666666666,
              "#ed7953"
             ],
             [
              0.7777777777777778,
              "#fb9f3a"
             ],
             [
              0.8888888888888888,
              "#fdca26"
             ],
             [
              1,
              "#f0f921"
             ]
            ],
            "type": "histogram2d"
           }
          ],
          "histogram2dcontour": [
           {
            "colorbar": {
             "outlinewidth": 0,
             "ticks": ""
            },
            "colorscale": [
             [
              0,
              "#0d0887"
             ],
             [
              0.1111111111111111,
              "#46039f"
             ],
             [
              0.2222222222222222,
              "#7201a8"
             ],
             [
              0.3333333333333333,
              "#9c179e"
             ],
             [
              0.4444444444444444,
              "#bd3786"
             ],
             [
              0.5555555555555556,
              "#d8576b"
             ],
             [
              0.6666666666666666,
              "#ed7953"
             ],
             [
              0.7777777777777778,
              "#fb9f3a"
             ],
             [
              0.8888888888888888,
              "#fdca26"
             ],
             [
              1,
              "#f0f921"
             ]
            ],
            "type": "histogram2dcontour"
           }
          ],
          "mesh3d": [
           {
            "colorbar": {
             "outlinewidth": 0,
             "ticks": ""
            },
            "type": "mesh3d"
           }
          ],
          "parcoords": [
           {
            "line": {
             "colorbar": {
              "outlinewidth": 0,
              "ticks": ""
             }
            },
            "type": "parcoords"
           }
          ],
          "pie": [
           {
            "automargin": true,
            "type": "pie"
           }
          ],
          "scatter": [
           {
            "marker": {
             "colorbar": {
              "outlinewidth": 0,
              "ticks": ""
             }
            },
            "type": "scatter"
           }
          ],
          "scatter3d": [
           {
            "line": {
             "colorbar": {
              "outlinewidth": 0,
              "ticks": ""
             }
            },
            "marker": {
             "colorbar": {
              "outlinewidth": 0,
              "ticks": ""
             }
            },
            "type": "scatter3d"
           }
          ],
          "scattercarpet": [
           {
            "marker": {
             "colorbar": {
              "outlinewidth": 0,
              "ticks": ""
             }
            },
            "type": "scattercarpet"
           }
          ],
          "scattergeo": [
           {
            "marker": {
             "colorbar": {
              "outlinewidth": 0,
              "ticks": ""
             }
            },
            "type": "scattergeo"
           }
          ],
          "scattergl": [
           {
            "marker": {
             "colorbar": {
              "outlinewidth": 0,
              "ticks": ""
             }
            },
            "type": "scattergl"
           }
          ],
          "scattermapbox": [
           {
            "marker": {
             "colorbar": {
              "outlinewidth": 0,
              "ticks": ""
             }
            },
            "type": "scattermapbox"
           }
          ],
          "scatterpolar": [
           {
            "marker": {
             "colorbar": {
              "outlinewidth": 0,
              "ticks": ""
             }
            },
            "type": "scatterpolar"
           }
          ],
          "scatterpolargl": [
           {
            "marker": {
             "colorbar": {
              "outlinewidth": 0,
              "ticks": ""
             }
            },
            "type": "scatterpolargl"
           }
          ],
          "scatterternary": [
           {
            "marker": {
             "colorbar": {
              "outlinewidth": 0,
              "ticks": ""
             }
            },
            "type": "scatterternary"
           }
          ],
          "surface": [
           {
            "colorbar": {
             "outlinewidth": 0,
             "ticks": ""
            },
            "colorscale": [
             [
              0,
              "#0d0887"
             ],
             [
              0.1111111111111111,
              "#46039f"
             ],
             [
              0.2222222222222222,
              "#7201a8"
             ],
             [
              0.3333333333333333,
              "#9c179e"
             ],
             [
              0.4444444444444444,
              "#bd3786"
             ],
             [
              0.5555555555555556,
              "#d8576b"
             ],
             [
              0.6666666666666666,
              "#ed7953"
             ],
             [
              0.7777777777777778,
              "#fb9f3a"
             ],
             [
              0.8888888888888888,
              "#fdca26"
             ],
             [
              1,
              "#f0f921"
             ]
            ],
            "type": "surface"
           }
          ],
          "table": [
           {
            "cells": {
             "fill": {
              "color": "#EBF0F8"
             },
             "line": {
              "color": "white"
             }
            },
            "header": {
             "fill": {
              "color": "#C8D4E3"
             },
             "line": {
              "color": "white"
             }
            },
            "type": "table"
           }
          ]
         },
         "layout": {
          "annotationdefaults": {
           "arrowcolor": "#2a3f5f",
           "arrowhead": 0,
           "arrowwidth": 1
          },
          "autotypenumbers": "strict",
          "coloraxis": {
           "colorbar": {
            "outlinewidth": 0,
            "ticks": ""
           }
          },
          "colorscale": {
           "diverging": [
            [
             0,
             "#8e0152"
            ],
            [
             0.1,
             "#c51b7d"
            ],
            [
             0.2,
             "#de77ae"
            ],
            [
             0.3,
             "#f1b6da"
            ],
            [
             0.4,
             "#fde0ef"
            ],
            [
             0.5,
             "#f7f7f7"
            ],
            [
             0.6,
             "#e6f5d0"
            ],
            [
             0.7,
             "#b8e186"
            ],
            [
             0.8,
             "#7fbc41"
            ],
            [
             0.9,
             "#4d9221"
            ],
            [
             1,
             "#276419"
            ]
           ],
           "sequential": [
            [
             0,
             "#0d0887"
            ],
            [
             0.1111111111111111,
             "#46039f"
            ],
            [
             0.2222222222222222,
             "#7201a8"
            ],
            [
             0.3333333333333333,
             "#9c179e"
            ],
            [
             0.4444444444444444,
             "#bd3786"
            ],
            [
             0.5555555555555556,
             "#d8576b"
            ],
            [
             0.6666666666666666,
             "#ed7953"
            ],
            [
             0.7777777777777778,
             "#fb9f3a"
            ],
            [
             0.8888888888888888,
             "#fdca26"
            ],
            [
             1,
             "#f0f921"
            ]
           ],
           "sequentialminus": [
            [
             0,
             "#0d0887"
            ],
            [
             0.1111111111111111,
             "#46039f"
            ],
            [
             0.2222222222222222,
             "#7201a8"
            ],
            [
             0.3333333333333333,
             "#9c179e"
            ],
            [
             0.4444444444444444,
             "#bd3786"
            ],
            [
             0.5555555555555556,
             "#d8576b"
            ],
            [
             0.6666666666666666,
             "#ed7953"
            ],
            [
             0.7777777777777778,
             "#fb9f3a"
            ],
            [
             0.8888888888888888,
             "#fdca26"
            ],
            [
             1,
             "#f0f921"
            ]
           ]
          },
          "colorway": [
           "#636efa",
           "#EF553B",
           "#00cc96",
           "#ab63fa",
           "#FFA15A",
           "#19d3f3",
           "#FF6692",
           "#B6E880",
           "#FF97FF",
           "#FECB52"
          ],
          "font": {
           "color": "#2a3f5f"
          },
          "geo": {
           "bgcolor": "white",
           "lakecolor": "white",
           "landcolor": "#E5ECF6",
           "showlakes": true,
           "showland": true,
           "subunitcolor": "white"
          },
          "hoverlabel": {
           "align": "left"
          },
          "hovermode": "closest",
          "mapbox": {
           "style": "light"
          },
          "paper_bgcolor": "white",
          "plot_bgcolor": "#E5ECF6",
          "polar": {
           "angularaxis": {
            "gridcolor": "white",
            "linecolor": "white",
            "ticks": ""
           },
           "bgcolor": "#E5ECF6",
           "radialaxis": {
            "gridcolor": "white",
            "linecolor": "white",
            "ticks": ""
           }
          },
          "scene": {
           "xaxis": {
            "backgroundcolor": "#E5ECF6",
            "gridcolor": "white",
            "gridwidth": 2,
            "linecolor": "white",
            "showbackground": true,
            "ticks": "",
            "zerolinecolor": "white"
           },
           "yaxis": {
            "backgroundcolor": "#E5ECF6",
            "gridcolor": "white",
            "gridwidth": 2,
            "linecolor": "white",
            "showbackground": true,
            "ticks": "",
            "zerolinecolor": "white"
           },
           "zaxis": {
            "backgroundcolor": "#E5ECF6",
            "gridcolor": "white",
            "gridwidth": 2,
            "linecolor": "white",
            "showbackground": true,
            "ticks": "",
            "zerolinecolor": "white"
           }
          },
          "shapedefaults": {
           "line": {
            "color": "#2a3f5f"
           }
          },
          "ternary": {
           "aaxis": {
            "gridcolor": "white",
            "linecolor": "white",
            "ticks": ""
           },
           "baxis": {
            "gridcolor": "white",
            "linecolor": "white",
            "ticks": ""
           },
           "bgcolor": "#E5ECF6",
           "caxis": {
            "gridcolor": "white",
            "linecolor": "white",
            "ticks": ""
           }
          },
          "title": {
           "x": 0.05
          },
          "xaxis": {
           "automargin": true,
           "gridcolor": "white",
           "linecolor": "white",
           "ticks": "",
           "title": {
            "standoff": 15
           },
           "zerolinecolor": "white",
           "zerolinewidth": 2
          },
          "yaxis": {
           "automargin": true,
           "gridcolor": "white",
           "linecolor": "white",
           "ticks": "",
           "title": {
            "standoff": 15
           },
           "zerolinecolor": "white",
           "zerolinewidth": 2
          }
         }
        },
        "width": 1200,
        "xaxis": {
         "anchor": "y",
         "autorange": true,
         "domain": [
          0,
          1
         ],
         "range": [
          -3.255104803443151,
          4.924509071707922
         ],
         "title": {
          "text": "0"
         },
         "type": "linear"
        },
        "yaxis": {
         "anchor": "x",
         "autorange": true,
         "domain": [
          0,
          1
         ],
         "range": [
          -2.2729514192097886,
          3.3037734578603013
         ],
         "title": {
          "text": "1"
         },
         "type": "linear"
        }
       }
      },
      "image/png": "[encoded data removed]",
      "text/html": [
       "<div>                            <div id=\"9519433c-2992-4a5d-b3f0-76ea3252dbd6\" class=\"plotly-graph-div\" style=\"height:600px; width:1200px;\"></div>            <script type=\"text/javascript\">                require([\"plotly\"], function(Plotly) {                    window.PLOTLYENV=window.PLOTLYENV || {};                                    if (document.getElementById(\"9519433c-2992-4a5d-b3f0-76ea3252dbd6\")) {                    Plotly.newPlot(                        \"9519433c-2992-4a5d-b3f0-76ea3252dbd6\",                        [{\"customdata\":[[0],[0],[-1],[-1],[-1],[0],[0],[0],[0],[0],[0],[0],[0],[0],[0],[0],[0],[0],[0],[-1],[0],[0],[0],[0],[0],[0],[1],[1],[1],[0],[0],[0],[0],[0],[0],[0],[0],[0],[0],[0],[0],[0],[0],[0],[0],[0],[0],[0],[0],[0],[0],[0],[0],[0],[0],[0],[0],[0],[-1],[-1],[-1],[0],[0],[0],[0],[0],[0],[0],[0],[0],[0],[0],[0],[0],[0],[0],[-1],[-1],[-1],[0],[0],[0],[0],[0],[0],[0],[0],[0],[0],[0],[0],[0],[0],[0],[0],[0],[0],[0],[0],[0],[0],[0],[0],[0],[0],[0],[-1],[-1],[0],[0],[0],[0],[0],[0],[0],[0],[-1],[0],[-1],[-1],[-1],[-1],[0],[0],[0],[0],[0],[0],[0],[0],[0],[-1],[-1],[-1],[-1],[-1],[0],[0],[0],[0],[2],[0],[0],[0],[0],[0],[0],[0],[0],[-1],[-1],[-1],[0],[0],[0],[-1],[0],[-1],[0],[0],[-1],[0],[0],[0],[0],[0],[0],[0],[0],[0],[0],[3],[3],[0],[0],[0],[0],[0],[0],[0],[0],[0],[0],[-1],[-1],[-1],[0],[0],[0],[0],[0],[0],[0],[0],[0],[0],[0],[0],[0],[0],[0],[0],[0],[0],[0],[0],[0],[-1],[-1],[-1],[-1],[0],[0],[0],[0],[0],[0],[0],[0],[0],[-1],[-1],[0],[0],[0],[0],[0],[0],[0],[0],[0],[0],[0],[0],[0],[-1],[-1],[-1],[-1],[-1],[-1],[-1],[-1],[-1],[0],[0],[0],[0],[0],[0],[-1],[0],[0],[0],[0],[0],[0],[0],[0],[0],[0],[0],[0],[0],[0],[0],[0],[0],[0],[-1],[-1],[-1],[0],[0],[0],[0],[0],[0],[0],[0],[0],[0],[0],[0],[0],[-1],[-1],[-1],[0],[0],[0],[-1],[-1],[0],[0],[0],[0],[0],[0],[0],[0],[0],[0],[0],[0],[0],[0],[0],[0],[0],[0],[0],[0],[0],[0],[0],[0],[0],[0],[0],[-1],[0],[0],[0],[0],[0],[0],[0],[0],[0],[0],[0],[0],[0],[-1],[0],[0],[0],[0],[0],[0],[-1],[-1],[-1],[-1],[0],[-1],[0],[0],[0],[0],[0],[0],[0],[-1],[-1],[-1],[0],[0],[0],[0],[0],[0],[0],[0],[0],[4],[4],[4],[0],[0],[0],[0],[0],[0],[0],[0],[0],[0],[0],[0],[0],[0],[-1],[0],[0],[0],[0],[0],[0],[0],[0],[0],[0],[0],[0],[0],[0],[0],[0],[0],[0],[0],[0],[0],[0],[0],[0],[0],[0],[0],[0],[0],[0],[0],[0],[0],[0],[0],[0],[0],[0],[0],[0],[0],[0],[0],[0],[0],[0],[0],[0],[0],[0],[0],[0],[0],[-1],[-1],[-1],[0],[0],[0],[0],[0],[0],[0],[0],[0],[0],[0],[5],[5],[5],[0],[0],[0],[0],[0],[0],[0],[0],[0],[11],[0],[0],[0],[0],[0],[0],[0],[0],[0],[0],[0],[0],[0],[0],[0],[0],[0],[0],[0],[0],[0],[0],[0],[0],[0],[0],[0],[0],[0],[0],[0],[0],[0],[0],[0],[0],[-1],[-1],[-1],[3],[3],[0],[-1],[-1],[-1],[0],[0],[0],[0],[0],[0],[0],[0],[0],[0],[4],[4],[4],[0],[0],[0],[-1],[0],[0],[0],[0],[0],[0],[0],[0],[0],[0],[0],[2],[0],[0],[0],[0],[0],[0],[0],[0],[0],[0],[0],[0],[0],[0],[0],[0],[0],[0],[0],[0],[0],[6],[6],[6],[0],[0],[0],[0],[0],[0],[0],[0],[0],[-1],[-1],[-1],[0],[0],[0],[0],[0],[0],[0],[-1],[-1],[0],[0],[0],[0],[0],[0],[0],[0],[0],[0],[0],[0],[0],[-1],[-1],[-1],[0],[0],[0],[0],[0],[0],[0],[0],[3],[-1],[-1],[-1],[-1],[-1],[-1],[-1],[-1],[-1],[-1],[0],[0],[0],[0],[0],[0],[7],[7],[7],[-1],[0],[0],[0],[0],[0],[0],[0],[-1],[-1],[-1],[-1],[0],[0],[0],[-1],[0],[0],[0],[0],[0],[0],[0],[0],[0],[0],[0],[0],[0],[0],[3],[3],[3],[0],[0],[0],[0],[0],[0],[0],[0],[0],[0],[0],[0],[0],[0],[0],[8],[8],[8],[0],[0],[0],[0],[0],[0],[4],[4],[4],[0],[0],[0],[-1],[-1],[-1],[0],[0],[0],[0],[0],[0],[0],[0],[0],[0],[0],[0],[0],[0],[0],[0],[0],[0],[0],[0],[0],[0],[0],[0],[0],[0],[0],[0],[0],[0],[0],[0],[0],[0],[0],[0],[0],[0],[0],[0],[0],[0],[0],[0],[0],[-1],[-1],[-1],[0],[0],[7],[7],[7],[0],[0],[0],[0],[0],[0],[-1],[-1],[-1],[0],[0],[0],[0],[0],[0],[0],[0],[0],[0],[0],[8],[8],[8],[0],[0],[0],[0],[0],[0],[0],[0],[0],[0],[0],[0],[-1],[-1],[-1],[0],[0],[0],[0],[0],[0],[-1],[-1],[-1],[4],[4],[4],[0],[0],[0],[0],[0],[0],[0],[0],[0],[0],[0],[0],[0],[0],[0],[0],[0],[0],[0],[0],[0],[0],[0],[0],[0],[0],[0],[0],[0],[-1],[-1],[-1],[0],[0],[0],[0],[0],[0],[0],[0],[0],[0],[0],[0],[0],[-1],[-1],[-1],[0],[0],[0],[0],[0],[0],[0],[0],[0],[0],[0],[0],[0],[0],[0],[-1],[0],[0],[0],[0],[0],[0],[0],[0],[0],[0],[0],[0],[0],[0],[0],[0],[0],[0],[0],[0],[0],[0],[0],[0],[0],[0],[0],[0],[0],[2],[0],[0],[0],[0],[0],[0],[0],[0],[0],[0],[0],[0],[0],[-1],[0],[-1],[-1],[-1],[0],[0],[0],[-1],[-1],[-1],[-1],[0],[0],[0],[0],[0],[0],[0],[0],[0],[0],[0],[0],[0],[0],[0],[0],[0],[0],[0],[2],[0],[-1],[0],[0],[0],[0],[0],[0],[0],[-1],[0],[0],[0],[0],[0],[0],[0],[0],[0],[0],[0],[0],[0],[0],[0],[-1],[-1],[0],[0],[0],[0],[0],[0],[0],[0],[0],[0],[0],[0],[-1],[-1],[0],[0],[-1],[-1],[-1],[0],[0],[0],[0],[0],[0],[0],[0],[0],[0],[0],[0],[0],[0],[0],[0],[0],[0],[0],[0],[0],[0],[0],[0],[0],[0],[0],[0],[0],[-1],[-1],[8],[-1],[-1],[0],[3],[0],[0],[0],[0],[-1],[-1],[-1],[-1],[-1],[0],[0],[0],[0],[0],[0],[0],[0],[0],[0],[0],[0],[0],[0],[0],[0],[0],[0],[0],[0],[0],[-1],[-1],[-1],[0],[0],[0],[0],[0],[0],[3],[3],[0],[0],[-1],[0],[0],[0],[0],[0],[0],[0],[-1],[-1],[-1],[-1],[-1],[0],[0],[0],[0],[0],[0],[-1],[0],[0],[0],[0],[0],[0],[0],[0],[0],[-1],[0],[0],[0],[8],[4],[-1],[-1],[0],[0],[0],[0],[0],[0],[0],[0],[0],[0],[-1],[-1],[0],[0],[0],[0],[0],[0],[0],[0],[0],[0],[0],[0],[0],[0],[0],[-1],[-1],[-1],[0],[0],[0],[-1],[-1],[-1],[3],[-1],[-1],[0],[0],[0],[0],[0],[0],[0],[0],[0],[0],[0],[0],[0],[0],[0],[0],[5],[5],[5],[0],[0],[0],[5],[5],[5],[0],[0],[0],[-1],[9],[9],[0],[0],[0],[0],[0],[-1],[-1],[-1],[8],[8],[8],[0],[0],[0],[0],[0],[0],[0],[0],[0],[0],[0],[0],[0],[0],[0],[0],[0],[-1],[-1],[-1],[-1],[0],[0],[0],[0],[0],[0],[0],[3],[-1],[-1],[0],[-1],[-1],[-1],[0],[0],[0],[0],[0],[0],[0],[0],[0],[0],[0],[10],[10],[10],[0],[0],[0],[8],[0],[0],[0],[5],[5],[5],[-1],[-1],[0],[-1],[0],[0],[0],[9],[0],[0],[0],[0],[0],[0],[0],[0],[0],[0],[0],[0],[10],[10],[10],[0],[0],[0],[0],[0],[0],[0],[0],[0],[0],[0],[-1],[0],[-1],[5],[5],[5],[-1],[-1],[-1],[-1],[-1],[-1],[0],[0],[0],[-1],[-1],[-1],[0],[0],[9],[9],[9],[9],[9],[9],[9],[9],[0],[0],[0],[0],[0],[0],[0],[0],[0],[0],[0],[0],[5],[5],[5],[0],[0],[0],[0],[0],[0],[0],[0],[0],[6],[6],[6],[5],[5],[5],[0],[-1],[-1],[0],[0],[0],[0],[0],[0],[-1],[-1],[-1],[0],[0],[0],[-1],[-1],[-1],[-1],[-1],[-1],[-1],[-1],[-1],[0],[0],[0],[0],[0],[0],[0],[0],[0],[0],[0],[0],[0],[0],[0],[0],[0],[0],[0],[0],[0],[0],[0],[0],[0],[0],[-1],[-1],[-1],[0],[0],[0],[0],[0],[0],[-1],[-1],[11],[0],[0],[0],[12],[12],[12],[0],[0],[0],[0],[-1],[-1],[-1],[0],[0],[0],[0],[0],[0],[0],[0],[0],[0],[0],[0],[0],[0],[0],[0],[0],[-1],[0],[0],[0],[-1],[0],[0],[0],[0],[0],[0],[0],[0],[0],[0],[0],[0],[0],[0],[0],[0],[0],[0],[0],[0],[0],[-1],[-1],[0],[-1],[0],[-1],[-1],[-1],[-1],[0],[0],[0],[0],[5],[5],[5],[-1],[0],[0],[0],[0],[0],[-1],[0],[-1],[-1],[-1],[9],[0],[0],[0],[0],[0],[0],[0],[0],[0],[0],[0],[0],[0],[-1],[-1],[-1],[0],[0],[-1],[-1],[-1],[0],[0],[0],[0],[0],[0],[0],[0],[0],[-1],[-1],[-1],[0],[0],[0],[-1],[-1],[-1],[0],[0],[0],[0],[0],[0],[-1],[-1],[0],[0],[0],[-1],[-1],[0],[0],[-1],[0],[0],[-1],[-1],[-1],[-1],[-1],[-1],[-1],[-1],[0],[0],[0],[-1],[0],[0],[0],[0],[0],[0],[0],[0],[0],[0],[0],[0],[0],[0],[0],[0],[0],[0],[0],[0],[0],[0],[0],[-1],[-1],[3],[-1],[-1],[0],[0],[-1],[-1],[-1],[-1],[-1],[-1],[0],[0],[0],[0],[0],[-1],[-1],[0],[0],[0],[0],[0],[-1],[0],[0],[12],[12],[12],[0],[0],[0],[0],[0],[0],[0],[0],[0],[-1],[-1],[-1],[-1],[-1],[-1],[0],[0],[0],[0],[0],[0],[0],[-1],[-1],[9],[-1],[0],[-1],[0],[0],[0],[0],[-1],[-1],[-1],[-1],[0],[0],[0],[0],[-1],[-1],[-1],[0],[0],[0],[0],[0],[0],[-1],[-1],[-1],[0],[-1],[-1],[0],[0],[0],[1],[1],[1],[0],[0],[0],[0],[-1],[-1],[0],[0],[0],[0],[0],[0],[-1],[-1],[-1],[-1],[-1],[-1],[-1],[-1],[-1],[-1],[-1],[0],[0],[0],[0],[0],[0],[0],[0],[0],[-1],[0],[0],[0],[9],[0],[0],[-1],[-1],[-1],[0],[0],[0],[0],[0],[0],[0],[0],[0],[0],[0],[0],[-1],[-1],[0],[0],[0],[-1],[0],[0],[0],[0],[-1],[0],[0],[-1],[-1],[0],[0],[0],[0],[0],[0],[0],[0],[0],[0],[0],[0],[0],[-1],[-1],[-1],[11],[11],[0],[0],[0],[0],[2],[2],[0],[0],[0],[0],[0],[0],[0],[0],[0],[0],[0],[0],[-1],[0],[0],[-1],[0],[0],[-1],[-1],[-1],[-1],[0],[0],[0],[0],[0],[0],[0],[0],[0],[0],[0],[0],[0],[0],[0],[0],[0],[0],[-1],[-1],[0],[0],[11],[11],[11],[0],[0],[0],[0],[0],[0],[-1],[-1],[-1],[0],[0],[0],[0],[-1],[-1],[0],[0],[0],[0],[0],[0],[0],[0],[9],[9],[0],[0],[0],[0],[0],[0],[0],[0],[-1],[-1],[-1],[0],[0],[0],[0],[0],[0],[0],[0],[0],[-1],[-1],[-1],[0],[0],[0],[0],[0],[0],[0],[0],[0],[0],[0],[-1],[0],[0],[0],[-1],[0],[0],[0],[0],[0],[0],[0],[0],[0],[0],[0],[0],[0],[0],[0],[0],[0],[0],[0],[0],[0],[0],[0],[0],[0],[0],[0],[0],[3],[0],[0],[0],[0],[3],[0],[0],[0],[0],[0],[0],[0],[0],[0],[0],[0],[0],[0],[0],[0],[0],[0],[0],[0],[2],[2],[0],[0],[0],[0],[-1],[0],[0],[0],[0],[0],[0],[0],[0],[0],[0],[0],[-1],[-1],[-1],[0],[0],[0],[-1],[-1],[0],[0],[-1],[-1],[0],[0],[0],[0],[0],[0],[0],[12],[12],[0],[0],[0],[0],[0],[0],[0],[-1],[-1],[0],[0],[0],[0],[0],[-1],[0],[0],[0],[0],[0],[0],[0],[0],[-1],[-1],[0],[0],[0],[-1],[0],[0],[0],[0],[-1],[-1],[3],[0],[0],[0],[0],[0],[0],[0],[0],[0],[0],[-1],[-1],[-1],[0],[0],[0],[0],[0],[0],[0],[0],[0],[0],[-1],[-1],[-1],[-1],[0],[0],[-1],[-1],[0],[0],[0],[0],[0],[0],[0],[-1],[-1],[-1],[-1],[-1],[0],[0],[0],[-1],[-1],[-1],[-1],[-1],[0],[0],[0],[0],[0],[0]],\"hovertemplate\":\"0=%{x}<br>1=%{y}<br>name=%{customdata[0]}<br>index=%{marker.color}<extra></extra>\",\"legendgroup\":\"\",\"marker\":{\"color\":[0,0,-1,-1,-1,0,0,0,0,0,0,0,0,0,0,0,0,0,0,-1,0,0,0,0,0,0,1,1,1,0,0,0,0,0,0,0,0,0,0,0,0,0,0,0,0,0,0,0,0,0,0,0,0,0,0,0,0,0,-1,-1,-1,0,0,0,0,0,0,0,0,0,0,0,0,0,0,0,-1,-1,-1,0,0,0,0,0,0,0,0,0,0,0,0,0,0,0,0,0,0,0,0,0,0,0,0,0,0,0,-1,-1,0,0,0,0,0,0,0,0,-1,0,-1,-1,-1,-1,0,0,0,0,0,0,0,0,0,-1,-1,-1,-1,-1,0,0,0,0,2,0,0,0,0,0,0,0,0,-1,-1,-1,0,0,0,-1,0,-1,0,0,-1,0,0,0,0,0,0,0,0,0,0,3,3,0,0,0,0,0,0,0,0,0,0,-1,-1,-1,0,0,0,0,0,0,0,0,0,0,0,0,0,0,0,0,0,0,0,0,0,-1,-1,-1,-1,0,0,0,0,0,0,0,0,0,-1,-1,0,0,0,0,0,0,0,0,0,0,0,0,0,-1,-1,-1,-1,-1,-1,-1,-1,-1,0,0,0,0,0,0,-1,0,0,0,0,0,0,0,0,0,0,0,0,0,0,0,0,0,0,-1,-1,-1,0,0,0,0,0,0,0,0,0,0,0,0,0,-1,-1,-1,0,0,0,-1,-1,0,0,0,0,0,0,0,0,0,0,0,0,0,0,0,0,0,0,0,0,0,0,0,0,0,0,0,-1,0,0,0,0,0,0,0,0,0,0,0,0,0,-1,0,0,0,0,0,0,-1,-1,-1,-1,0,-1,0,0,0,0,0,0,0,-1,-1,-1,0,0,0,0,0,0,0,0,0,4,4,4,0,0,0,0,0,0,0,0,0,0,0,0,0,0,-1,0,0,0,0,0,0,0,0,0,0,0,0,0,0,0,0,0,0,0,0,0,0,0,0,0,0,0,0,0,0,0,0,0,0,0,0,0,0,0,0,0,0,0,0,0,0,0,0,0,0,0,0,0,-1,-1,-1,0,0,0,0,0,0,0,0,0,0,0,5,5,5,0,0,0,0,0,0,0,0,0,11,0,0,0,0,0,0,0,0,0,0,0,0,0,0,0,0,0,0,0,0,0,0,0,0,0,0,0,0,0,0,0,0,0,0,0,0,-1,-1,-1,3,3,0,-1,-1,-1,0,0,0,0,0,0,0,0,0,0,4,4,4,0,0,0,-1,0,0,0,0,0,0,0,0,0,0,0,2,0,0,0,0,0,0,0,0,0,0,0,0,0,0,0,0,0,0,0,0,0,6,6,6,0,0,0,0,0,0,0,0,0,-1,-1,-1,0,0,0,0,0,0,0,-1,-1,0,0,0,0,0,0,0,0,0,0,0,0,0,-1,-1,-1,0,0,0,0,0,0,0,0,3,-1,-1,-1,-1,-1,-1,-1,-1,-1,-1,0,0,0,0,0,0,7,7,7,-1,0,0,0,0,0,0,0,-1,-1,-1,-1,0,0,0,-1,0,0,0,0,0,0,0,0,0,0,0,0,0,0,3,3,3,0,0,0,0,0,0,0,0,0,0,0,0,0,0,0,8,8,8,0,0,0,0,0,0,4,4,4,0,0,0,-1,-1,-1,0,0,0,0,0,0,0,0,0,0,0,0,0,0,0,0,0,0,0,0,0,0,0,0,0,0,0,0,0,0,0,0,0,0,0,0,0,0,0,0,0,0,0,0,0,-1,-1,-1,0,0,7,7,7,0,0,0,0,0,0,-1,-1,-1,0,0,0,0,0,0,0,0,0,0,0,8,8,8,0,0,0,0,0,0,0,0,0,0,0,0,-1,-1,-1,0,0,0,0,0,0,-1,-1,-1,4,4,4,0,0,0,0,0,0,0,0,0,0,0,0,0,0,0,0,0,0,0,0,0,0,0,0,0,0,0,0,0,-1,-1,-1,0,0,0,0,0,0,0,0,0,0,0,0,0,-1,-1,-1,0,0,0,0,0,0,0,0,0,0,0,0,0,0,0,-1,0,0,0,0,0,0,0,0,0,0,0,0,0,0,0,0,0,0,0,0,0,0,0,0,0,0,0,0,0,2,0,0,0,0,0,0,0,0,0,0,0,0,0,-1,0,-1,-1,-1,0,0,0,-1,-1,-1,-1,0,0,0,0,0,0,0,0,0,0,0,0,0,0,0,0,0,0,0,2,0,-1,0,0,0,0,0,0,0,-1,0,0,0,0,0,0,0,0,0,0,0,0,0,0,0,-1,-1,0,0,0,0,0,0,0,0,0,0,0,0,-1,-1,0,0,-1,-1,-1,0,0,0,0,0,0,0,0,0,0,0,0,0,0,0,0,0,0,0,0,0,0,0,0,0,0,0,0,0,-1,-1,8,-1,-1,0,3,0,0,0,0,-1,-1,-1,-1,-1,0,0,0,0,0,0,0,0,0,0,0,0,0,0,0,0,0,0,0,0,0,-1,-1,-1,0,0,0,0,0,0,3,3,0,0,-1,0,0,0,0,0,0,0,-1,-1,-1,-1,-1,0,0,0,0,0,0,-1,0,0,0,0,0,0,0,0,0,-1,0,0,0,8,4,-1,-1,0,0,0,0,0,0,0,0,0,0,-1,-1,0,0,0,0,0,0,0,0,0,0,0,0,0,0,0,-1,-1,-1,0,0,0,-1,-1,-1,3,-1,-1,0,0,0,0,0,0,0,0,0,0,0,0,0,0,0,0,5,5,5,0,0,0,5,5,5,0,0,0,-1,9,9,0,0,0,0,0,-1,-1,-1,8,8,8,0,0,0,0,0,0,0,0,0,0,0,0,0,0,0,0,0,-1,-1,-1,-1,0,0,0,0,0,0,0,3,-1,-1,0,-1,-1,-1,0,0,0,0,0,0,0,0,0,0,0,10,10,10,0,0,0,8,0,0,0,5,5,5,-1,-1,0,-1,0,0,0,9,0,0,0,0,0,0,0,0,0,0,0,0,10,10,10,0,0,0,0,0,0,0,0,0,0,0,-1,0,-1,5,5,5,-1,-1,-1,-1,-1,-1,0,0,0,-1,-1,-1,0,0,9,9,9,9,9,9,9,9,0,0,0,0,0,0,0,0,0,0,0,0,5,5,5,0,0,0,0,0,0,0,0,0,6,6,6,5,5,5,0,-1,-1,0,0,0,0,0,0,-1,-1,-1,0,0,0,-1,-1,-1,-1,-1,-1,-1,-1,-1,0,0,0,0,0,0,0,0,0,0,0,0,0,0,0,0,0,0,0,0,0,0,0,0,0,0,-1,-1,-1,0,0,0,0,0,0,-1,-1,11,0,0,0,12,12,12,0,0,0,0,-1,-1,-1,0,0,0,0,0,0,0,0,0,0,0,0,0,0,0,0,0,-1,0,0,0,-1,0,0,0,0,0,0,0,0,0,0,0,0,0,0,0,0,0,0,0,0,0,-1,-1,0,-1,0,-1,-1,-1,-1,0,0,0,0,5,5,5,-1,0,0,0,0,0,-1,0,-1,-1,-1,9,0,0,0,0,0,0,0,0,0,0,0,0,0,-1,-1,-1,0,0,-1,-1,-1,0,0,0,0,0,0,0,0,0,-1,-1,-1,0,0,0,-1,-1,-1,0,0,0,0,0,0,-1,-1,0,0,0,-1,-1,0,0,-1,0,0,-1,-1,-1,-1,-1,-1,-1,-1,0,0,0,-1,0,0,0,0,0,0,0,0,0,0,0,0,0,0,0,0,0,0,0,0,0,0,0,-1,-1,3,-1,-1,0,0,-1,-1,-1,-1,-1,-1,0,0,0,0,0,-1,-1,0,0,0,0,0,-1,0,0,12,12,12,0,0,0,0,0,0,0,0,0,-1,-1,-1,-1,-1,-1,0,0,0,0,0,0,0,-1,-1,9,-1,0,-1,0,0,0,0,-1,-1,-1,-1,0,0,0,0,-1,-1,-1,0,0,0,0,0,0,-1,-1,-1,0,-1,-1,0,0,0,1,1,1,0,0,0,0,-1,-1,0,0,0,0,0,0,-1,-1,-1,-1,-1,-1,-1,-1,-1,-1,-1,0,0,0,0,0,0,0,0,0,-1,0,0,0,9,0,0,-1,-1,-1,0,0,0,0,0,0,0,0,0,0,0,0,-1,-1,0,0,0,-1,0,0,0,0,-1,0,0,-1,-1,0,0,0,0,0,0,0,0,0,0,0,0,0,-1,-1,-1,11,11,0,0,0,0,2,2,0,0,0,0,0,0,0,0,0,0,0,0,-1,0,0,-1,0,0,-1,-1,-1,-1,0,0,0,0,0,0,0,0,0,0,0,0,0,0,0,0,0,0,-1,-1,0,0,11,11,11,0,0,0,0,0,0,-1,-1,-1,0,0,0,0,-1,-1,0,0,0,0,0,0,0,0,9,9,0,0,0,0,0,0,0,0,-1,-1,-1,0,0,0,0,0,0,0,0,0,-1,-1,-1,0,0,0,0,0,0,0,0,0,0,0,-1,0,0,0,-1,0,0,0,0,0,0,0,0,0,0,0,0,0,0,0,0,0,0,0,0,0,0,0,0,0,0,0,0,3,0,0,0,0,3,0,0,0,0,0,0,0,0,0,0,0,0,0,0,0,0,0,0,0,2,2,0,0,0,0,-1,0,0,0,0,0,0,0,0,0,0,0,-1,-1,-1,0,0,0,-1,-1,0,0,-1,-1,0,0,0,0,0,0,0,12,12,0,0,0,0,0,0,0,-1,-1,0,0,0,0,0,-1,0,0,0,0,0,0,0,0,-1,-1,0,0,0,-1,0,0,0,0,-1,-1,3,0,0,0,0,0,0,0,0,0,0,-1,-1,-1,0,0,0,0,0,0,0,0,0,0,-1,-1,-1,-1,0,0,-1,-1,0,0,0,0,0,0,0,-1,-1,-1,-1,-1,0,0,0,-1,-1,-1,-1,-1,0,0,0,0,0,0],\"coloraxis\":\"coloraxis\",\"symbol\":\"circle\"},\"mode\":\"markers\",\"name\":\"\",\"showlegend\":false,\"x\":[-0.4168430268764496,-0.09753024578094482,0.6253945231437683,0.3421950340270996,0.6958495378494263,-1.0610097646713257,-1.0089970827102661,-0.9944497346878052,-1.4979108572006226,-1.6547268629074097,-1.8014041185379028,-1.1803147792816162,-1.311904788017273,-0.9578768014907837,-1.6279760599136353,-1.6234482526779175,-1.6896166801452637,-1.5308881998062134,-1.6074131727218628,-0.49652040004730225,0.8618939518928528,0.816875159740448,0.8296448588371277,-1.0746060609817505,-1.2061270475387573,-1.1816766262054443,1.1944389343261719,0.9649865031242371,1.1418895721435547,-0.9672312140464783,-1.449406385421753,-1.5090068578720093,-1.4856719970703125,1.5659821033477783,1.5565727949142456,1.5341176986694336,-1.001221776008606,2.6959919929504395,2.7488532066345215,2.6801040172576904,-0.5107821226119995,-0.43940916657447815,-0.2712768614292145,-0.9495155215263367,-0.8769915699958801,-0.916078507900238,-1.8620551824569702,-1.71060049533844,-1.912802815437317,-0.7083894610404968,-0.6925106048583984,-0.6607586741447449,-1.086782693862915,-1.0900942087173462,-0.601691484451294,-1.8383795022964478,-1.8610841035842896,-1.775219440460205,1.4823570251464844,1.4383726119995117,1.430107831954956,-0.30129632353782654,-0.3004380464553833,-0.28003090620040894,-1.1609386205673218,-1.2087397575378418,-0.7345033288002014,-0.7450424432754517,-0.9104502201080322,0.18868517875671387,0.1809462308883667,0.21595709025859833,-0.45996522903442383,-0.22202365100383759,-0.09913034737110138,-0.4000714123249054,-0.7437658309936523,-0.3919278681278229,-0.3912123143672943,-0.9474007487297058,-1.1643662452697754,-1.2138947248458862,-1.6630589962005615,-1.8270189762115479,-1.9451429843902588,0.4039977192878723,-0.086440809071064,-0.13786284625530243,-0.6472927927970886,-0.8154593706130981,-0.29488232731819153,-1.4042588472366333,2.1052420139312744,2.1052420139312744,2.073399543762207,2.073399543762207,2.2051174640655518,2.2051174640655518,-1.3719161748886108,-1.2728471755981445,-1.2784730195999146,-1.3295421600341797,-1.5205696821212769,1.3202581405639648,1.2752459049224854,1.2328203916549683,-0.7887994050979614,-0.8547794222831726,-0.9114128947257996,-0.8701227903366089,-0.7504135370254517,-0.8320290446281433,-0.5446214079856873,-0.4615292251110077,-0.42679110169410706,-0.3393178880214691,1.622953176498413,1.8829543590545654,1.1810188293457031,3.5488431453704834,3.538388729095459,3.5729281902313232,0.6906669735908508,0.7336283326148987,0.756162703037262,-1.2787525653839111,-1.2814637422561646,-1.3501337766647339,-1.3017058372497559,-1.3065937757492065,-1.3470088243484497,-0.2072633057832718,-0.39170050621032715,-0.798201322555542,-0.7487990260124207,-0.7972497940063477,-0.029478980228304863,0.20853281021118164,-0.7790777683258057,-0.448884516954422,2.903700590133667,-0.45765987038612366,-1.5218342542648315,-1.5934780836105347,-1.455968976020813,-1.4236764907836914,-1.2989466190338135,-1.725254774093628,-1.683125615119934,-0.3964446485042572,-0.3759898245334625,0.08705688267946243,-1.909956455230713,-1.8791940212249756,-1.9864994287490845,2.212815046310425,1.5565646886825562,2.249171257019043,0.08975838124752045,-0.017814673483371735,-0.8610018491744995,-1.128756046295166,-1.0874321460723877,-1.2087148427963257,-1.0772643089294434,-1.0954755544662476,-1.1701940298080444,-1.2511509656906128,-1.8601304292678833,-1.2730969190597534,-1.8743435144424438,2.9149978160858154,2.8483667373657227,-0.15385888516902924,-0.8235572576522827,-1.4821791648864746,-1.5051628351211548,-0.47344398498535156,-0.22276367247104645,-0.41239088773727417,-0.7096729278564453,2.2063100337982178,-0.6426893472671509,2.8198654651641846,2.8198654651641846,2.934446334838867,-0.4975835382938385,-0.45836344361305237,-0.4820455014705658,-0.9326419234275818,-0.9286400079727173,-0.9460787177085876,2.0120885372161865,2.1139073371887207,2.087839126586914,0.6871166825294495,0.6862086653709412,0.9412811994552612,1.8655619621276855,2.0314524173736572,1.79915452003479,-1.1773402690887451,-1.245238184928894,-1.3100453615188599,-1.8345447778701782,-0.3988126814365387,-0.4073774814605713,0.06702448427677155,0.0183790884912014,-0.005685796029865742,-0.519288957118988,-1.229850172996521,-1.0869925022125244,-1.2873669862747192,-0.0989469662308693,-0.6725185513496399,-0.7382218241691589,-0.513555645942688,-0.5965142250061035,-0.4670531451702118,1.0921881198883057,2.095885753631592,-0.9363071322441101,-0.8249472975730896,-0.7495309710502625,-1.337654709815979,-1.4268854856491089,-1.4244438409805298,-1.6152507066726685,-1.589137077331543,-1.215318202972412,-1.7217128276824951,-0.3313661515712738,-0.22195206582546234,-0.3205394744873047,0.6227101683616638,0.648001492023468,0.5062140822410583,0.939288854598999,0.8909889459609985,0.9781597256660461,-1.3094115257263184,-1.2716692686080933,-1.3666861057281494,2.1912343502044678,2.2055399417877197,2.245554208755493,-0.6745489239692688,-0.7383991479873657,-0.6667152047157288,3.9827380180358887,-1.7477096319198608,-1.7742336988449097,-1.8462822437286377,-0.3361768424510956,-0.2001737654209137,-0.4856598973274231,-1.1778430938720703,-1.1939315795898438,-1.1724207401275635,-0.3838711678981781,-0.4206160604953766,-0.4719018340110779,-1.1801804304122925,-1.3644659519195557,-1.2009310722351074,-1.4410243034362793,0.3970735967159271,-1.5716091394424438,0.22008612751960754,0.1752309501171112,0.030558466911315918,-0.2078699916601181,-0.26607298851013184,-0.19862259924411774,-0.7980583906173706,-0.8066194653511047,-0.8536050915718079,-1.721860647201538,-1.6717811822891235,-1.5687605142593384,0.49604594707489014,0.6361663341522217,-0.7304506897926331,-0.7344481945037842,2.181013345718384,1.524590253829956,1.2363381385803223,-0.24031606316566467,-0.1983950287103653,-0.2554985284805298,-0.07114794105291367,0.4627043306827545,-1.2775911092758179,-0.8831419944763184,2.68776535987854,-1.0138630867004395,1.1553758382797241,1.1670145988464355,1.2193729877471924,-1.1360416412353516,-1.166846752166748,-1.1582653522491455,-1.6473102569580078,-1.6699930429458618,-1.6584972143173218,-0.5228153467178345,-0.4330615997314453,-0.4678202271461487,-1.1556872129440308,-0.9274664521217346,-1.0598657131195068,1.6059209108352661,1.6471729278564453,1.7244466543197632,-1.0445042848587036,-1.0347487926483154,-0.996579110622406,-1.4316679239273071,0.1319054663181305,0.3571193516254425,0.28508245944976807,1.7157306671142578,0.061209458857774734,-0.12907525897026062,-1.4673751592636108,-1.4532967805862427,-1.4557454586029053,-1.4955320358276367,-1.5031285285949707,-1.0682982206344604,0.8526185154914856,0.8411933779716492,0.8630431890487671,-0.3911376893520355,-2.0319221019744873,-2.0984790325164795,-2.1037533283233643,-0.6476851105690002,-0.6623459458351135,-0.7216125130653381,0.29470095038414,0.3909640610218048,0.2033141702413559,-0.7316884994506836,-0.7668819427490234,-0.7411909103393555,-1.5102936029434204,-1.4482799768447876,-1.5021398067474365,1.3999136686325073,1.2786372900009155,1.3028801679611206,-0.9746887683868408,0.37809884548187256,0.7116615176200867,0.4755328595638275,-1.6795130968093872,-1.7657334804534912,-1.7913897037506104,-2.0484073162078857,-1.786528468132019,-1.6571699380874634,1.939568042755127,1.9081183671951294,1.9802552461624146,0.15877826511859894,0.2697838246822357,0.1948436200618744,-1.618984580039978,-1.6919063329696655,-1.6615188121795654,2.4520785808563232,2.6707987785339355,3.0169501304626465,-0.04366591200232506,-1.3600945472717285,-1.5175964832305908,-0.7348482608795166,-0.7844143509864807,-0.7181993722915649,-1.5515763759613037,-1.6669840812683105,-1.2263953685760498,-0.8755507469177246,-0.8419803380966187,-0.8341712355613708,-0.4870299696922302,-0.5409085750579834,-0.5532117486000061,-1.2021429538726807,-1.1642577648162842,-1.3660962581634521,-1.48165762424469,-1.4743311405181885,-1.4359828233718872,1.7104501724243164,1.6945523023605347,1.6679115295410156,2.6099438667297363,2.535653591156006,2.3504278659820557,0.09535033255815506,0.11355432122945786,0.1969841867685318,-0.22681717574596405,-0.24665424227714539,-0.1142488494515419,-0.43241196870803833,-0.8547037243843079,-1.1106797456741333,2.498835563659668,2.498835563659668,2.498835563659668,-1.5882819890975952,-1.6257001161575317,0.3476400375366211,0.45362362265586853,0.480173259973526,-1.4175829887390137,-1.4897973537445068,-1.5017902851104736,2.171767234802246,2.3754093647003174,2.2892868518829346,-2.2413790225982666,-2.2511651515960693,-2.2261054515838623,-0.6054025888442993,-0.6803415417671204,-0.6575978994369507,-1.4248930215835571,-1.167121171951294,-1.2019448280334473,2.0386011600494385,2.015746593475342,2.092791795730591,0.4185028374195099,0.42494475841522217,0.5641438364982605,-1.6943360567092896,-1.6872844696044922,-1.6491725444793701,-1.1973594427108765,-1.2017192840576172,-1.198394775390625,0.5994954705238342,0.4485289454460144,-1.486625075340271,-1.5448249578475952,-1.556605577468872,0.14544889330863953,0.19064749777317047,0.34734347462654114,-1.1490683555603027,-1.310303807258606,-0.9773268699645996,2.777369260787964,2.777369260787964,2.815340757369995,-1.595700979232788,-1.5984913110733032,-1.5682085752487183,1.7683186531066895,-0.9376723170280457,-1.208408236503601,-1.2322121858596802,-1.8712551593780518,-0.966835618019104,-1.05861234664917,-1.076948642730713,-0.6372308731079102,-0.6881654858589172,-0.7341672778129578,2.4096553325653076,2.4096553325653076,2.4096553325653076,-1.079119086265564,-1.0518699884414673,-1.013837456703186,-0.06179140880703926,-0.014315390028059483,-0.10495582967996597,-2.3001363277435303,-1.964493989944458,-1.9960814714431763,-1.6223249435424805,-1.678316593170166,-1.5711749792099,-0.861957311630249,-0.17984074354171753,-0.25270846486091614,2.3144969940185547,2.3830013275146484,0.7152422666549683,0.7152422666549683,0.7163704037666321,-1.3713032007217407,-1.392667293548584,-1.5115137100219727,0.4714970290660858,0.4764598309993744,0.4657438397407532,3.6384096145629883,3.5267605781555176,1.0567188262939453,0.1901450902223587,0.19213555753231049,0.20177678763866425,-1.7059149742126465,-1.352245807647705,-1.3540611267089844,-1.4226303100585938,-1.420700192451477,-2.2780253887176514,-1.5904895067214966,-1.6884645223617554,-1.8191512823104858,-1.4448941946029663,0.3806164264678955,0.3104925751686096,0.399343878030777,0.1058441698551178,0.2764233648777008,0.14628612995147705,-0.4189012050628662,-0.4837840795516968,-1.6608450412750244,-0.7201910614967346,-0.4377003014087677,-0.36730244755744934,-2.0623950958251953,-1.9509295225143433,-1.951026439666748,-1.16048002243042,-1.1041326522827148,-1.2340970039367676,2.9873290061950684,2.1668269634246826,2.148465394973755,1.764893889427185,0.20197921991348267,0.165486142039299,0.3022805452346802,-0.6586980819702148,-0.31257590651512146,-0.6990467309951782,0.16761864721775055,0.10118270665407181,0.11725093424320221,-1.360356092453003,-1.333465337753296,-1.3139411211013794,-2.080109119415283,-2.111276865005493,-1.1199182271957397,-0.9052357077598572,-1.0036195516586304,-0.8925668001174927,-0.10631193965673447,-0.14283935725688934,-0.4312468469142914,-0.9281161427497864,-0.9133778214454651,-1.2216533422470093,-0.4563390910625458,-0.6156299710273743,-0.9506893754005432,-1.3685015439987183,-1.3794101476669312,-1.3956077098846436,-0.6178217530250549,-0.4783838093280792,-0.42246130108833313,0.061379265040159225,-1.4888808727264404,-1.4461339712142944,-0.33511829376220703,-0.018148060888051987,-0.5648723840713501,-0.6070351004600525,-0.8155895471572876,-0.8250887989997864,-0.5055911540985107,-0.3668188452720642,-0.38855114579200745,-0.8523963093757629,-0.23863163590431213,-0.11024212837219238,-0.9653636813163757,-1.0515233278274536,-1.1771266460418701,-1.1449472904205322,-1.0885149240493774,-1.2104918956756592,-1.1190556287765503,-0.2921735346317291,-0.09906437993049622,-0.08536704629659653,1.5515823364257812,1.039719581604004,1.070454716682434,3.300879716873169,1.794484257698059,-1.3769290447235107,-1.4017006158828735,-1.4683064222335815,2.7544431686401367,0.615263044834137,0.7574043869972229,0.7840860486030579,-0.04806948080658913,-0.2961884140968323,-0.6810166835784912,1.8325252532958984,-1.111931324005127,-1.078440546989441,-1.1603119373321533,-1.4817109107971191,-1.3184278011322021,-1.7209904193878174,-1.743374228477478,-1.777517318725586,-1.8679189682006836,1.720259428024292,1.883959174156189,1.883959174156189,-0.2335442155599594,1.6414217948913574,-1.0286891460418701,-1.0819662809371948,-1.0776749849319458,-0.13499878346920013,-0.6259663701057434,-0.029722701758146286,0.06651759147644043,-1.0403170585632324,-1.0464364290237427,-0.7558289766311646,-0.32122257351875305,-0.2593005895614624,-0.28137579560279846,-0.29591813683509827,-0.6867120265960693,-0.7621212005615234,-0.8600800037384033,-0.7557950615882874,-0.5913680791854858,-0.5778570175170898,-0.46023836731910706,-0.4172822833061218,-0.41660791635513306,0.6936801671981812,0.5786770582199097,0.21527624130249023,0.18189890682697296,-0.009154265746474266,3.6372342109680176,3.6372342109680176,3.6372342109680176,-0.1379249095916748,-0.1625625044107437,-0.7665337920188904,-0.9599072337150574,-0.9820423722267151,-1.7642799615859985,-1.8312584161758423,-1.4981988668441772,0.6891169548034668,0.5292201638221741,0.5404180884361267,-1.3401215076446533,-1.30141019821167,-1.5908737182617188,0.04120437055826187,2.300009250640869,2.3056483268737793,2.31937837600708,-0.5221527814865112,-1.5787025690078735,-1.5413264036178589,-1.125084400177002,-1.1699817180633545,-0.5757836103439331,0.02484993450343609,0.06544366478919983,0.09889305382966995,-0.08479130268096924,-0.02779717743396759,0.028655726462602615,3.197723865509033,3.197723865509033,3.197723865509033,-1.8180315494537354,-1.8583365678787231,-1.6946446895599365,-0.44895514845848083,-0.6165379881858826,-0.6184260249137878,-1.3966795206069946,-1.5384140014648438,-1.1886136531829834,-1.1207799911499023,-1.0856660604476929,-1.1857932806015015,-1.2390496730804443,-0.9828370213508606,-0.2669330835342407,-0.2761111259460449,-0.3068508505821228,-0.19745899736881256,-0.21037758886814117,-0.15680068731307983,-1.3573092222213745,-1.2704381942749023,-0.3815050423145294,-1.3538057804107666,-1.0739240646362305,-1.3164408206939697,-1.3685029745101929,-1.3839218616485596,-1.5427199602127075,-1.41287362575531,-1.5963411331176758,-1.6425399780273438,-1.4181731939315796,-1.6039756536483765,-1.5149589776992798,-0.23997068405151367,-0.37654706835746765,-0.9019784331321716,-0.9053023457527161,-0.7080949544906616,-1.209232211112976,-1.224973201751709,1.8528321981430054,2.923415422439575,1.9149059057235718,-1.5202819108963013,-1.5202819108963013,-1.3321406841278076,-1.4780892133712769,-1.088472843170166,1.6447924375534058,1.9711132049560547,1.9483187198638916,-2.4452812671661377,-2.401902675628662,-2.484724521636963,-1.2483547925949097,-1.3949522972106934,-1.356490135192871,-0.7438716292381287,-0.7438716292381287,-0.7438716292381287,-2.0606400966644287,-2.014878511428833,-0.6354432702064514,-0.8779345750808716,-0.8645449876785278,2.0965967178344727,2.216524600982666,2.222663402557373,-1.6481367349624634,-1.643998146057129,-1.4604415893554688,2.1688919067382812,2.156525135040283,2.1124842166900635,-1.2526841163635254,-1.3530325889587402,-1.3410451412200928,-0.8349926471710205,-0.7656276822090149,-0.5566856861114502,-1.2209426164627075,-1.2646560668945312,-1.321000099182129,-2.0628087520599365,-2.0672147274017334,-2.0368611812591553,-0.9916260838508606,-1.0301917791366577,-1.0540885925292969,-1.1110243797302246,-1.5344727039337158,-1.3428175449371338,-1.3734652996063232,-1.4240633249282837,-1.3783682584762573,-0.6250783205032349,-0.9819314479827881,0.20068760216236115,0.5591511726379395,0.5371571183204651,0.26267868280410767,2.3365819454193115,2.401968479156494,2.267225742340088,-1.2626152038574219,-1.2580714225769043,-1.3247138261795044,-1.6754114627838135,-1.6991790533065796,1.5215572118759155,2.294445514678955,0.6572262048721313,2.839489698410034,2.8634583950042725,2.8653314113616943,-1.0091701745986938,-1.0187606811523438,-0.9406400322914124,-1.7115932703018188,-1.6900203227996826,-1.673823356628418,-1.306491494178772,-1.0851439237594604,-0.9327412247657776,-1.0796308517456055,-1.0626018047332764,-1.0597450733184814,-1.7141069173812866,-1.9039182662963867,-1.89708411693573,-0.04600502923130989,-0.027656488120555878,0.26543110609054565,-1.9224774837493896,-1.824892282485962,-1.8738441467285156,2.601210832595825,2.5992586612701416,2.552297353744507,-0.4857514500617981,-0.49832579493522644,-0.689195454120636,0.9902480244636536,1.008961796760559,0.9417491555213928,-2.816110849380493,-0.8327133655548096,-0.9203425049781799,-0.9107229709625244,-1.4246406555175781,-1.428704023361206,-1.3454399108886719,0.9215840101242065,0.9946694374084473,1.1243034601211548,-1.543738603591919,-1.5213228464126587,-1.652392029762268,-1.8200470209121704,-1.647083044052124,-1.6924347877502441,-2.2866313457489014,-2.29628586769104,-2.0456740856170654,2.5903103351593018,-0.20544607937335968,-0.2309665083885193,-1.7780455350875854,-1.8233712911605835,-1.9039379358291626,-0.3919537663459778,-0.5348161458969116,-0.5560896396636963,-1.5869630575180054,-1.6136207580566406,-1.1896408796310425,-0.7744233012199402,-1.1260756254196167,-1.1079951524734497,-1.1078819036483765,-0.7191783785820007,-0.30897364020347595,-0.2745904326438904,-1.3346251249313354,-1.334121823310852,2.17366099357605,2.179547071456909,2.1650617122650146,-0.8714835047721863,-0.5755815505981445,-0.5340721011161804,-1.5545135736465454,-1.6569032669067383,-1.441776156425476,2.5834126472473145,2.8131537437438965,3.1203548908233643,2.2438127994537354,2.0365543365478516,2.026144504547119,-1.4203259944915771,-1.4880471229553223,-1.4778505563735962,-1.5393810272216797,-1.545121669769287,-0.9489871263504028,-0.32466384768486023,-0.48729485273361206,-0.16448728740215302,-0.9336114525794983,-1.0739188194274902,-1.0739188194274902,-1.0739188194274902,-1.0929087400436401,-1.3827483654022217,1.8188762664794922,0.695277750492096,1.1340105533599854,-1.1625266075134277,-1.2423086166381836,-1.4908829927444458,-1.551169514656067,-1.476470947265625,1.507771372795105,1.4378360509872437,1.4693315029144287,0.11484293639659882,0.022073710337281227,-1.9259873628616333,-2.2902145385742188,-2.160351514816284,1.190002202987671,1.190002202987671,0.9957318902015686,0.9957318902015686,0.804355263710022,0.804355263710022,1.305692195892334,1.2897042036056519,3.0495786666870117,-0.6882879137992859,-0.4524090886116028,-0.058472998440265656,-2.3313372135162354,-2.378065586090088,-2.3621389865875244,-1.419678807258606,-1.256052017211914,-1.2380588054656982,0.7570425271987915,-0.7359625697135925,-0.8172882199287415,-1.4497241973876953,-1.4074804782867432,2.823366641998291,2.270080804824829,2.3194048404693604,2.3066587448120117,-0.8582006692886353,-0.8692506551742554,-0.8952467441558838,0.7397425174713135,0.6040681600570679,0.46053802967071533,-1.9175302982330322,2.6534430980682373,2.586846113204956,-1.8550164699554443,-1.994303822517395,-2.0546042919158936,2.5346596240997314,2.4961652755737305,2.5223567485809326,2.2127199172973633,-1.5087358951568604,-1.4693201780319214,-1.880111813545227,-1.9721392393112183,-1.926591396331787,0.5526936650276184,0.5935580730438232,-1.3495898246765137,-1.3282943964004517,-0.999815046787262,-1.0505726337432861,-1.0732651948928833,-1.4868037700653076,0.8055830597877502,0.77475905418396,2.352323055267334,-1.3098963499069214,-1.2409296035766602,-1.3518097400665283,-0.7501782178878784,-0.5581079721450806,-1.7065622806549072,-1.5347254276275635,-1.545924186706543,1.9497872591018677,1.914262056350708,2.0211753845214844,3.1889750957489014,1.9107376337051392,-1.8546481132507324,1.6388262510299683,1.6357886791229248,2.087364912033081,2.8664391040802,2.8976597785949707,-0.9805063605308533,-0.9805063605308533,-1.057647943496704,-1.057647943496704,-0.7359244227409363,-0.8552379608154297,-0.07034691423177719,-0.19243361055850983,2.022629976272583,-1.4920787811279297,-1.4211621284484863,-0.5701132416725159,2.9922468662261963,1.1753602027893066,1.1409364938735962,1.248575210571289,-1.894335150718689,1.1533855199813843,1.1503392457962036,1.1518419981002808,-0.31432822346687317,-0.25613418221473694,-2.1157634258270264,-1.954169750213623,-1.9603395462036133,-0.7877615094184875,-0.8457304835319519,-0.8760613799095154,-1.2806352376937866,-1.0524710416793823,-1.0799243450164795,2.2164416313171387,2.2476680278778076,2.2337162494659424,-0.003215343691408634,-0.4037180542945862,-0.4930231273174286,-1.409914255142212,-1.464798092842102,-1.2933846712112427,-2.301802635192871,-2.3270797729492188,-1.7268638610839844,2.181013345718384,1.524590253829956,1.2363381385803223,-2.2965376377105713,-2.329949378967285,-1.9070032835006714,-0.8055869936943054,-0.8088332414627075,-0.8975866436958313,3.0946245193481445,3.0946245193481445,-1.2735389471054077,-0.37604132294654846,2.3924477100372314,-0.25062745809555054,-1.3488752841949463,-1.375373125076294,-1.5627893209457397,-1.7009036540985107,-1.6497552394866943,-1.6207714080810547,-0.4748819172382355,-0.4748819172382355,-0.4748819172382355,-0.7866111993789673,-0.787253201007843,-0.29477038979530334,-0.7034012675285339,-1.078134298324585,-0.6652548313140869,-0.8641664385795593,-1.0234938859939575,0.3628988564014435,-0.9949480295181274,-0.7134886980056763,-0.8233365416526794,-1.2311046123504639,-1.157256841659546,-1.1430511474609375,2.5147032737731934,2.2897531986236572,2.3514404296875,-0.0382186695933342,-1.526402473449707,-1.5539900064468384,-1.6165696382522583,1.9370063543319702,0.009070327505469322,-0.007892346009612083,-0.016907550394535065,-1.4355065822601318,-1.5170319080352783,-1.1818023920059204,-1.3434770107269287,-1.4904162883758545,-1.5621142387390137,0.8370555639266968,0.8693756461143494,0.8560555577278137,2.379770278930664,2.2105743885040283,2.2105743885040283,0.4127759039402008,-0.12348949164152145,0.022231293842196465,0.12328268587589264,-0.36931031942367554,-0.30630818009376526,0.4149950444698334,0.4940907657146454,-1.7210742235183716,-1.674499750137329,-1.700552225112915,-1.7357796430587769,-0.7619190216064453,-0.7336711287498474,-0.7290396690368652,1.931178331375122,2.0359303951263428,1.9235448837280273,1.330551266670227,1.2182881832122803,1.2111485004425049,-0.5580340623855591,-0.6202934384346008,-0.6261317133903503,2.917215585708618,0.8464828729629517,0.9427084922790527,1.1823465824127197,0.15153177082538605,0.34782132506370544,0.10052624344825745,-0.2868192195892334,-0.2467280924320221,-0.4329177141189575,-1.678952693939209,-1.6695135831832886,-1.8383277654647827,-1.637018084526062,-1.7126438617706299,-1.730466604232788,-0.2052735537290573,-0.1294693499803543,-0.1512647420167923,-0.05056336894631386,0.09360744804143906,0.1426563262939453,-0.6660239100456238,0.7019215822219849,-0.615566611289978,-0.053218577057123184,-0.05000275373458862,-0.04616006091237068,1.2189242839813232,1.2425447702407837,1.5651898384094238,2.596952438354492,2.6857495307922363,2.6647095680236816,-0.56610506772995,-0.29892173409461975,-0.3473981022834778,-0.7091199159622192,-0.8627239465713501,0.45446428656578064,0.4573970437049866,0.3959572911262512,2.2190134525299072,2.2176897525787354,2.2703697681427,-0.8956922292709351,-0.874790608882904,1.8808844089508057,1.870383858680725,1.8655279874801636,-0.8308555483818054,-0.8018864989280701,-0.8798125982284546,1.7573325634002686,1.7072914838790894,1.7770687341690063,-1.0885636806488037,-1.073275089263916,-1.0890694856643677,-0.195711150765419,-0.7622491121292114,-0.8796024918556213,0.02045944333076477,-0.7359582185745239,-0.9118300676345825,-0.7844030857086182,0.9836915135383606,1.124624490737915,1.120779275894165,-0.3750525116920471,-0.32665592432022095,-0.5211209058761597,2.04634165763855,3.2323169708251953,-0.13546204566955566,0.2929920256137848,0.4730255603790283,-0.9833179712295532,0.04945731908082962,0.18094195425510406,0.7439619302749634,0.6947745680809021,0.7743335366249084,1.8749200105667114,1.8794188499450684,2.6994757652282715,-0.5239824056625366,-0.4524398446083069,-0.4787572920322418,-0.2933446764945984,-2.0494909286499023,-0.7616587281227112,-0.7556390762329102,-0.7676889896392822,-1.0690277814865112,-1.2698129415512085,-1.3118094205856323,1.9939689636230469,-0.3196081519126892,-0.34268105030059814,-0.31719568371772766,-0.24492518603801727,-0.20264625549316406,-0.15115657448768616,0.3342497944831848,0.3487498164176941,-0.3962252736091614,-1.6774775981903076,-1.4922715425491333,-1.5042246580123901,-1.4069697856903076,3.4976885318756104,-1.182119607925415,-1.161867380142212,-1.151583194732666,-1.4624465703964233,-1.6570260524749756,-1.6740528345108032,0.48764768242836,0.3276170492172241,0.3847139775753021,2.591853618621826,2.5928163528442383,2.5655882358551025,-0.7634244561195374,-0.7466747760772705,-0.8907412886619568,-2.390254020690918,-2.30997896194458,-2.070420026779175,0.31847915053367615,0.32819104194641113,-0.5039079785346985,-0.6288881301879883,-0.5711348652839661,2.4061927795410156,2.666882038116455,2.3505375385284424,0.5459842681884766,0.39047321677207947,0.032927606254816055,-0.22138819098472595,-0.17414624989032745,-0.15249225497245789,-0.42113813757896423,-0.42113813757896423,-0.42113813757896423,2.1227195262908936,1.3184902667999268,-0.1257784068584442,-1.914931297302246,-1.9302383661270142,-1.9123129844665527,0.3864712417125702,0.5109747052192688,0.2960979640483856,2.9548110961914062,3.139033317565918,3.3486831188201904,3.440723419189453,3.362823486328125,3.4560728073120117,3.402893304824829,3.3707797527313232,3.399291515350342,3.3901009559631348,1.8173954486846924,1.758509635925293,1.920270323753357,-1.5329291820526123,-1.458320140838623,-1.4766912460327148,1.292106032371521,1.3746132850646973,1.8328564167022705,0.4985214173793793,0.5625419616699219,0.4678274989128113,-0.06040693074464798,-0.022786621004343033,-0.11627616733312607,-0.23968039453029633,-0.06855084747076035,-0.06977741420269012,-1.5986511707305908,-1.9833236932754517,-2.0358848571777344,-1.6654633283615112,-1.6666066646575928,-1.2302113771438599,-0.7810631990432739,-0.8182042241096497,-0.8189071416854858,0.07618371397256851,0.06500435620546341,0.12298572063446045,0.24716949462890625,0.7058987021446228,1.531469702720642,2.6035561561584473,2.60689377784729,2.867877721786499,-1.61725914478302,-1.6504709720611572,-1.5674816370010376,-0.4533984363079071,-0.021229691803455353,0.19922243058681488,0.8592646718025208,3.027960777282715,0.5453988313674927,-0.6788501739501953,-0.8002786040306091,-0.6310799717903137,-0.0046225241385400295,0.09089818596839905,0.07986646890640259,1.1614431142807007,1.0106585025787354,0.8712407946586609,2.8400533199310303,2.8834919929504395,2.8400847911834717,-1.850426197052002,-1.854803204536438,-1.8472845554351807,-1.4375572204589844,-1.3767598867416382,-1.54638671875,0.6269318461418152,0.6394128799438477,1.4632136821746826,1.5043773651123047,1.462681531906128,3.0130136013031006,1.4622100591659546,1.8423347473144531,-0.8441762328147888,-0.20885251462459564,-0.22781667113304138,2.273728609085083,2.3154187202453613,2.34466552734375,1.3755548000335693,1.430058240890503,1.4018722772598267,-0.9058948755264282,-0.8762911558151245,-0.918076753616333,-1.1721409559249878,-0.8232085704803467,-0.9262728095054626,-0.92782062292099,-0.5017972588539124,0.9992902278900146,0.8331139087677002,0.7197429537773132,2.4698503017425537,-1.677860140800476,-1.5124915838241577,-1.5601552724838257,0.9804141521453857,1.2062060832977295,1.1124051809310913,0.31879761815071106,0.40994173288345337,0.1035614013671875,0.13625602424144745,-1.0596903562545776,-1.063668131828308,-1.0922861099243164,-1.8580760955810547,-1.7986252307891846,-1.1648170948028564,-1.0456324815750122,-1.3868577480316162,0.9493840336799622,0.8538845181465149,0.9712974429130554,-0.7197346091270447,2.5317158699035645,2.742457389831543,2.755159854888916,1.0369343757629395,1.1095677614212036,1.2647411823272705,0.7973167896270752,2.3118271827697754,-1.0582542419433594,0.45953211188316345,0.6101839542388916,0.2720779776573181,0.43056249618530273,-0.16706103086471558,-0.22824110090732574,-0.15879254043102264,-0.3424360752105713,0.4010818898677826,-0.49822527170181274,-0.3956991136074066,-0.5425819754600525,0.869432806968689,0.9294226169586182,2.8216748237609863,2.8369174003601074,3.152087450027466,0.751859724521637,1.3418490886688232,0.7623420357704163,0.945302426815033,0.985035240650177,-1.2884485721588135,-1.3119465112686157,-1.3145800828933716,1.1297134160995483,1.0411591529846191,1.3277010917663574,1.3843789100646973,1.6267616748809814,1.5123637914657593,0.8551248908042908,0.8756718039512634,0.8756718039512634,1.519848108291626,0.9704813957214355,0.868372917175293,0.753522515296936,-0.20347009599208832,-0.10773780196905136,-0.09069543331861496,0.9919095635414124,3.3849616050720215,-0.2948068380355835,-0.10776427388191223,0.0634564533829689,1.1398991346359253,1.8445230722427368,0.8432879447937012,-0.23798352479934692,0.6120792627334595,-0.13374027609825134,3.4547905921936035,-1.2781260013580322,-1.3387551307678223,-1.201997995376587,2.388882875442505,2.3346102237701416,2.3328468799591064,3.1813650131225586,3.16925048828125,3.1821115016937256,2.090806245803833,1.5625700950622559,1.9560115337371826,2.199483633041382,0.07467150688171387,-0.11560145020484924,-0.1099836602807045,-0.46623966097831726,-0.7777997255325317,0.08478637784719467,0.15178555250167847,0.13680721819400787,-0.6743177771568298,-0.4488416612148285,-0.3830109238624573,1.8594272136688232,1.1085909605026245,0.37670353055000305,1.891822338104248,1.9698255062103271,2.442622184753418,-0.4517047703266144,-0.3068501055240631,-0.1271827071905136,2.1503591537475586,2.6721043586730957,3.108207941055298,-0.4019029438495636,-0.7679638266563416,-0.7819764018058777,2.7969720363616943,2.821521282196045,1.6224236488342285,2.7117514610290527,2.6955175399780273,2.6569950580596924,0.6767582297325134,0.7528403401374817,0.009098201058804989,0.23189862072467804,-0.0842767208814621,-0.2755858600139618,-0.27984845638275146,-0.8404917120933533,-1.2789784669876099,-1.1200388669967651,0.49037086963653564,1.4273847341537476,0.6366518139839172,1.6310582160949707,-0.40970465540885925,-0.38991692662239075,0.07374299317598343,-0.30512863397598267,-0.3802682161331177,1.1081538200378418,2.5752367973327637,2.575619697570801,2.6048762798309326,0.4713394343852997,-1.115410566329956,-1.0813360214233398,-0.34855109453201294,-1.2851718664169312,-1.3656902313232422,-1.416449785232544,1.287602424621582,3.058126449584961,-1.0852606296539307,1.8989646434783936,2.0356650352478027,2.0306808948516846,2.4023332595825195,2.4422285556793213,2.426860809326172,-1.6379307508468628,-1.6064817905426025,-1.4220483303070068,3.4216396808624268,2.7359063625335693,2.672903299331665,2.431546211242676,1.2274346351623535,-1.1927204132080078,-1.1927204132080078,3.3792788982391357,-0.6328732371330261,-0.38009414076805115,-0.8874474763870239,0.8062475323677063,0.6246392130851746,-0.8735753893852234,-1.0083914995193481,0.8626499772071838,1.9017870426177979,-0.6636592745780945,2.007070541381836,2.2279441356658936,-0.38935038447380066,-0.39825910329818726,-0.27409234642982483,-0.05767713114619255,0.18406929075717926,1.0744401216506958,1.0287587642669678,1.0369298458099365,-0.3413906395435333,0.7691827416419983,-0.5654335021972656,2.7555294036865234,3.4979727268218994,0.6225540637969971,0.7781369686126709,0.7370893955230713,-0.6394326686859131,-0.7161319255828857,-0.5464324355125427,1.2582087516784668,1.2666826248168945,1.2818660736083984,-0.7510202527046204,-0.7507343292236328,-0.7462302446365356,0.8187960386276245,0.7887080311775208,0.7887080311775208,-0.0495230108499527,-0.34465402364730835,-0.28399044275283813,0.18555618822574615,0.592261552810669,0.6581939458847046,0.7686485648155212,0.8917237520217896,-0.9342913627624512,-0.9901360869407654,2.831637144088745,2.5949997901916504,3.3784165382385254,-0.34920066595077515,-0.4027756452560425,0.6100993752479553,-0.6758017539978027,-1.9273816347122192,-1.9398982524871826,-2.0207908153533936,-0.11521024256944656,-0.13744279742240906,-0.5901167392730713,-0.579261064529419,2.863097906112671,-1.1695904731750488,-1.4961603879928589,-1.5190203189849854,-0.019204439595341682,0.05093816667795181,0.5307224988937378,-1.584054946899414,-1.606115460395813,-1.722226858139038,-0.29699257016181946,-0.3873041570186615,-0.24027661979198456,0.49535006284713745,-0.03647032380104065,-0.37427446246147156,-1.573764681816101,-0.6247162222862244,-0.8029151558876038,-1.889444351196289,-1.5008513927459717,-1.582108974456787,0.5912362337112427,0.5971772074699402,0.6049790978431702,1.5475457906723022,1.575631022453308,1.554103970527649,1.461846947669983,0.3426462411880493,-0.5840317010879517,-0.8932812213897705,-0.9013951420783997,-0.748380184173584,0.5279290080070496,0.6813830137252808,0.06376799196004868,-0.5678065419197083,-0.5318983793258667,-0.5318983793258667,-0.5848540663719177,-0.6707989573478699,0.013960443437099457,-0.09726791828870773,-0.052325643599033356,-1.0602335929870605,1.0956921577453613,1.7562475204467773,1.441136360168457,-0.6741286516189575,-0.3712958097457886,-0.7668121457099915,-1.0583631992340088,-0.9400399923324585,1.4491978883743286,1.4491978883743286,1.4491978883743286,0.4491085410118103,1.277064561843872,-0.3863977789878845,-0.3210535943508148,2.596597671508789,-1.2076215744018555,-1.415451169013977,-0.3436250388622284,-0.3179774880409241,0.03527064621448517,2.568286418914795,2.494926929473877,2.249833106994629,-1.3345924615859985,-1.3345924615859985,-1.0299861431121826,-1.0299861431121826,-0.9743120074272156,-0.9743120074272156,0.044468045234680176,0.0586915947496891,0.07990702986717224,0.2204248309135437,0.4085334837436676,2.6575849056243896,-1.635332465171814,-1.7307817935943604,1.3965370655059814,-0.4928336441516876,-0.5116576552391052,1.632918357849121,1.8703874349594116,-0.43355610966682434,-0.5342970490455627,-0.5342970490455627,-0.62601637840271,-0.62601637840271,0.6375479102134705,0.4906083643436432,1.896272897720337,2.197357177734375,2.1784932613372803,2.237689256668091,-0.07866334170103073,0.10331283509731293,1.288565993309021,1.3505241870880127,-0.6821868419647217,-0.5541126132011414,-0.3219578266143799,0.2818831503391266,0.26111286878585815,0.3134184777736664,2.77251935005188,2.77251935005188,1.5634387731552124,-0.4839199185371399,-0.4848473370075226,-0.7066894173622131,3.823920249938965,3.745516300201416,2.7126951217651367,1.7654801607131958,1.6315243244171143,2.09604549407959,1.3030614852905273,-1.0924227237701416,-1.3379168510437012,-0.9153741002082825,-0.8875316381454468,-0.6466639041900635,-1.2316697835922241,1.6993012428283691,0.7949926853179932,0.7860509753227234,0.7877272963523865,0.6258555054664612,-0.32168272137641907,-0.38664036989212036,2.9174365997314453,2.111163854598999,0.03451283648610115,0.0761006623506546,2.0735819339752197,1.8882900476455688,2.1602272987365723,2.5704829692840576,2.5670721530914307,2.5648322105407715,-1.0424870252609253,-0.8788822293281555,-1.037611961364746,-1.1416914463043213,-1.122817039489746,-1.3635486364364624,0.11085797846317291,0.11185313761234283,-0.1172824501991272,-0.05908125266432762,-0.05472493916749954,-0.05439893901348114,-0.0737777054309845,-0.053931236267089844,0.30247947573661804,0.02707480825483799,2.915148973464966,2.7564845085144043,2.729985475540161,2.7914047241210938,2.7914047241210938,3.2047648429870605,3.2047648429870605,3.1522376537323,3.1522376537323,-0.5277132391929626,-0.492554247379303,-0.40252766013145447,2.198373317718506,2.0809648036956787,1.9917470216751099,-0.7073469161987305,-0.7588447332382202,0.666106104850769,-0.0009641952929086983,0.057123977690935135,0.2026442289352417,0.2026442289352417,0.18898895382881165,0.18898895382881165,3.2864532470703125,3.2864532470703125,2.2488210201263428,2.287644147872925,-0.9210449457168579,-1.1069366931915283,-1.185962438583374,0.5784149169921875,-0.05206243693828583,0.002244632923975587,-0.7643271684646606,-0.9603055119514465,1.3586058616638184,1.2932994365692139,1.2964024543762207,-0.5938520431518555,-0.6083669066429138,-1.0694531202316284,1.2266484498977661,1.265564203262329,-0.5360316038131714,-0.19540850818157196,-0.18294748663902283,-1.5633317232131958,-0.21127022802829742,-0.15523198246955872,-0.12228512018918991,-1.1856955289840698,-1.5656886100769043,-1.5884993076324463,0.14254876971244812,-0.012791016139090061,-0.9692528247833252,-2.2010295391082764,-2.159114360809326,-2.15364933013916,-0.3104449510574341,-0.5117405652999878,0.08101026713848114,2.78001070022583,-1.0392192602157593,1.902164340019226,-0.18600937724113464,-0.34297695755958557,-0.9009540677070618,-0.2506324350833893,-0.24521666765213013,-0.2401159703731537,0.38560616970062256,0.770272970199585,0.3948761522769928,1.2870146036148071,-0.14043337106704712,-0.5966677665710449,-1.2387287616729736,-1.7173031568527222,-1.9027999639511108,0.7023227214813232,0.7739031910896301,-0.8814720511436462,1.3142799139022827,1.3157906532287598,2.7595882415771484,2.6934778690338135,2.732653856277466,-1.2213702201843262,2.167618989944458,2.1186745166778564,-1.011649250984192,-0.6136741638183594,-1.0962417125701904,2.8736894130706787,3.1654763221740723,-0.568522036075592,-0.5744312405586243,-0.5362029075622559,3.462588310241699,-2.0016770362854004,-1.9652349948883057,-1.9193767309188843,-1.4901103973388672,-1.4920786619186401,-1.5070875883102417,-0.08023001998662949,0.15414659678936005,-0.13231632113456726,0.20311878621578217,0.2795529365539551,0.40572965145111084,3.078343391418457,0.2639826238155365,0.1494867354631424,1.2543506622314453,0.5965164303779602,0.3781813383102417,-0.7066894173622131,3.823920249938965,3.745516300201416,-1.2504748106002808,1.0771313905715942,1.0820297002792358,-0.48851945996284485,0.9332667589187622,-0.6003165245056152,-0.48791274428367615,-0.11147601902484894,0.5261144042015076,0.4206521511077881,-0.5333797931671143,-0.5333797931671143,-0.6350324749946594,-0.040024083107709885,-0.022932885214686394,0.06007877364754677,1.0593527555465698,0.9698827266693115,0.9698827266693115,-0.790130078792572,-0.7394083142280579,-0.8432599306106567,0.3891582787036896,0.9008454084396362,1.4883114099502563,1.384184718132019,-0.3417929708957672,-0.287014365196228,-1.7433767318725586,-1.788021206855774,-1.5975624322891235,-0.5051480531692505,-0.540716290473938,0.022427750751376152,0.022427750751376152,1.0498648881912231,1.0498648881912231,2.692896604537964,-0.8766263723373413,-0.9824613928794861,-0.8063790202140808,-0.8900882005691528,2.5937819480895996,-1.4068328142166138,0.8204707503318787,-0.6653550863265991,4.097021579742432,3.636626958847046,0.23443076014518738,0.1372353732585907,-0.7346611022949219,0.33833733201026917,2.2624733448028564,2.2624733448028564,-0.49426376819610596,1.871195912361145,1.9599865674972534,0.7246404886245728,0.18562725186347961,0.06103414297103882,-0.055041104555130005,2.2633185386657715,-1.5853705406188965,-1.5992317199707031,-1.6709568500518799,2.09609055519104,-0.32637691497802734,1.9509005546569824,2.159428596496582,0.19506672024726868,-0.14626653492450714,0.452880859375,2.7955100536346436,-0.5583387017250061,0.42271336913108826,0.45571598410606384,-1.8058022260665894,-1.9389981031417847,-2.0007236003875732,-0.27618229389190674,2.043657064437866,2.6196165084838867,-1.1274077892303467,0.8397471904754639,-0.44239312410354614,0.4892578423023224,1.8894169330596924,1.8858429193496704,-0.47808095812797546,-0.47808095812797546,3.145235300064087,3.145235300064087,1.169832468032837,1.169832468032837,-0.8790773749351501,1.5113147497177124,0.3891933858394623,-0.5504379868507385,-0.11544190347194672,0.3537505269050598,0.3798120617866516,-0.41451358795166016,1.5560994148254395,1.0946934223175049,-1.9583543539047241,-2.0093233585357666,-2.037336587905884,-1.7816519737243652,-1.6369004249572754,-1.4403833150863647,-1.6232351064682007,-0.4843915104866028,-0.7995766997337341,0.08211841434240341,0.5924177765846252,1.3962123394012451,2.0178399085998535,2.055020570755005,0.12499652802944183,2.516793966293335,2.516793966293335,2.516793966293335,4.307009696960449,4.485515117645264,-1.0505634546279907,-1.1116230487823486,-0.9985315799713135,-1.277212381362915,-1.4685876369476318,-1.471559762954712],\"xaxis\":\"x\",\"y\":[0.02022424526512623,-0.11820156127214432,-0.2713043689727783,-0.16742289066314697,-0.3267621695995331,-0.6650086045265198,-0.6337792277336121,-0.5263087153434753,0.4598853588104248,0.4985206127166748,0.571503221988678,-1.3792665004730225,-1.5083496570587158,-1.5067020654678345,-0.1802120953798294,-0.19665218889713287,-0.293410986661911,-0.06737460941076279,-0.13495776057243347,-0.22407402098178864,-0.13075530529022217,-0.05890422314405441,-0.012404068373143673,-1.0606998205184937,-1.1496134996414185,-1.1678825616836548,-0.27211782336235046,-0.2032565027475357,-0.07659921795129776,-0.05642331764101982,-1.9109456539154053,-1.9002771377563477,-1.948652744293213,0.5528444051742554,0.6625913977622986,0.6521481871604919,0.8254125118255615,0.06391208618879318,0.04501600190997124,0.04714427515864372,-1.1504696607589722,-1.1628488302230835,-1.0436722040176392,-1.110883355140686,-1.1276930570602417,-1.1391185522079468,0.9384315013885498,0.8923672437667847,1.003340721130371,-0.2856213450431824,-0.21774961054325104,-0.1744236946105957,-0.560505747795105,-0.5609301924705505,-0.6660342812538147,0.12372812628746033,0.11561808735132217,0.1313207894563675,-1.069564938545227,-1.0657379627227783,-1.0708036422729492,-1.2223527431488037,-1.2336795330047607,-1.243782639503479,-1.1913518905639648,-1.2027283906936646,-0.19212481379508972,-0.23042023181915283,-0.23326392471790314,-0.41040053963661194,-0.4229848384857178,-0.4512013792991638,0.5060732960700989,0.45106494426727295,0.47398841381073,-0.2924521267414093,-1.5018377304077148,-1.3225929737091064,-1.387850284576416,0.868600606918335,0.8738955855369568,1.0272619724273682,0.25371283292770386,0.2922738790512085,0.2855188548564911,-0.26006317138671875,-0.29895082116127014,-0.3142278492450714,0.35003578662872314,0.4177241027355194,0.4630013704299927,-1.4613168239593506,-1.0888524055480957,-1.0888524055480957,-1.007231593132019,-1.007231593132019,-1.164033055305481,-1.164033055305481,-0.23384973406791687,-0.25468501448631287,0.02451329492032528,0.020709017291665077,-0.002140166237950325,-0.014315170235931873,-0.02853602170944214,0.07451429963111877,-0.7641905546188354,-0.6430310606956482,-1.0131170749664307,-1.4891836643218994,-1.4388262033462524,-1.2692430019378662,0.06257706135511398,0.1161426231265068,0.10743413865566254,0.11892599612474442,-0.9301145076751709,-0.9389013648033142,-0.8611982464790344,0.026702621951699257,0.04720237851142883,0.06128471717238426,1.4042119979858398,1.410146951675415,1.413701057434082,-0.1806919127702713,-0.20957666635513306,-0.1518464833498001,0.3486495614051819,0.3540416657924652,0.3775215148925781,-0.31469711661338806,0.2071494162082672,0.05395687744021416,0.09342346340417862,0.11743859201669693,0.9219265580177307,1.009403944015503,-0.338223934173584,-0.9105772376060486,0.10528365522623062,-1.007827877998352,0.3347530961036682,0.3866366446018219,0.2648219168186188,-0.36426451802253723,-0.4504152238368988,-0.3571544885635376,-0.12063045054674149,-1.1093252897262573,-1.173313856124878,-1.1376765966415405,-0.33792126178741455,-0.3685971796512604,-0.34829431772232056,0.642024040222168,0.7097864747047424,0.7514427304267883,-0.38961681723594666,-0.5510982871055603,0.3295693099498749,-0.39284342527389526,-0.42101845145225525,-0.39502695202827454,-0.21184879541397095,-1.5410176515579224,-1.501030445098877,-1.5154659748077393,0.48087868094444275,0.38423728942871094,0.5237475633621216,0.5611655712127686,0.6758679151535034,0.780835747718811,0.6807586550712585,0.28685322403907776,0.2716923952102661,-0.13546881079673767,-0.16332168877124786,-0.17209595441818237,0.5122632384300232,-0.07438650727272034,0.5055800676345825,-0.3824012577533722,-0.3824012577533722,-0.20626625418663025,0.13303223252296448,0.040944479405879974,0.0296635702252388,0.18711751699447632,0.18611951172351837,0.18382713198661804,-0.19200627505779266,-0.1272365301847458,-0.08217959105968475,0.8462367653846741,0.8955996632575989,0.30860385298728943,-0.9241640567779541,-1.1029715538024902,-0.980871319770813,0.24109044671058655,0.2193475067615509,0.2365746647119522,-0.2459198385477066,0.9145888686180115,0.8996254205703735,-0.48344406485557556,-0.5132150650024414,-0.5181407332420349,-0.9286274909973145,0.718996524810791,0.6792870759963989,0.7365357279777527,-0.7027531862258911,-0.9546851515769958,-0.8988792300224304,-1.134527564048767,-1.1130279302597046,-1.083840250968933,0.7914206385612488,0.19500865042209625,0.09577297419309616,0.07608293741941452,0.08004780858755112,-1.5943711996078491,-1.550551176071167,-1.5754544734954834,0.728534996509552,0.7273631691932678,0.7003074884414673,-1.6029720306396484,-0.28803980350494385,-0.13217614591121674,-0.17894360423088074,-0.4763365685939789,-0.46964168548583984,-0.42626503109931946,-1.7051713466644287,-1.7093448638916016,-1.6905571222305298,0.03760905936360359,0.08873286843299866,0.10768534243106842,-0.31004390120506287,-0.18794509768486023,-0.1647353619337082,-0.907215416431427,-0.860138475894928,-0.8591349720954895,-1.2238644361495972,-1.102962613105774,-1.1238070726394653,-1.0639984607696533,-1.6777430772781372,-1.4766974449157715,-1.6696504354476929,0.34938424825668335,0.32585451006889343,0.35687658190727234,-0.8135120868682861,-0.8073068261146545,-0.7523856163024902,0.35976117849349976,0.4523479640483856,0.4551324248313904,-0.11081115156412125,0.8330980539321899,-0.19417303800582886,-0.1749238222837448,-0.10513283312320709,-0.16424058377742767,-0.0023473468609154224,0.01834160089492798,0.024793574586510658,-0.3985317051410675,-0.3722921311855316,-0.36280080676078796,-1.3989713191986084,-1.3491700887680054,-1.2972124814987183,0.4751162827014923,0.6157107353210449,-1.9227970838546753,-1.8581923246383667,-0.7869707942008972,0.8485111594200134,0.9711100459098816,-0.1785140037536621,-0.14520502090454102,-0.12515084445476532,-0.5555543303489685,-0.5404860973358154,-0.42923226952552795,0.14779557287693024,-0.3728141188621521,0.17042773962020874,-0.11414526402950287,-0.054652176797389984,-0.018514230847358704,-1.7236318588256836,-1.7385787963867188,-1.8273967504501343,-0.9838712215423584,-0.990767776966095,-0.9819788932800293,1.076859951019287,1.0347715616226196,1.0365955829620361,1.1110625267028809,1.1617982387542725,1.2301303148269653,-0.40684524178504944,-0.4191136658191681,-0.3958663046360016,-0.06920205056667328,-0.0009312305483035743,0.019812876358628273,0.36892229318618774,1.0246472358703613,1.0027987957000732,1.1048849821090698,-0.38705340027809143,-1.521724820137024,-1.6368829011917114,-0.2385798990726471,-0.20298799872398376,-0.14781101047992706,1.266251802444458,1.3126193284988403,1.413001537322998,0.28950271010398865,0.3385336697101593,0.3212233781814575,-0.5573051571846008,0.1531001478433609,0.10844293981790543,0.1403818577528,1.8346059322357178,1.8320457935333252,1.8359073400497437,-0.47539690136909485,-0.38907110691070557,-0.33433547616004944,-0.3200531005859375,-0.3072827160358429,-0.2951330244541168,-0.4979024827480316,-0.4780323803424835,-0.45159459114074707,-0.6897618770599365,-0.6947476863861084,-0.7181515097618103,0.5132097005844116,-0.2159384936094284,-0.4162616431713104,-0.29153406620025635,-0.8011706471443176,-0.8431355953216553,-0.8028674125671387,0.11432886868715286,0.18098768591880798,0.2622421383857727,-0.17884793877601624,-0.17206072807312012,-0.14806027710437775,-0.37665048241615295,-0.3831425905227661,-0.41375574469566345,0.14207419753074646,0.1971268355846405,0.2083011269569397,-0.5008296370506287,-0.5828250050544739,-0.7347574830055237,1.0057642459869385,0.22447969019412994,0.47285395860671997,2.2741239070892334,2.2646536827087402,2.2301149368286133,-0.21049758791923523,-0.13084766268730164,0.7716952562332153,0.5129010677337646,0.516526460647583,0.5303076505661011,1.6178869009017944,1.6107510328292847,1.5876891613006592,0.14133359491825104,0.05967055261135101,0.24271410703659058,-1.3239449262619019,-1.3586483001708984,-1.2969582080841064,0.2253418266773224,0.2206471711397171,0.2327784299850464,-0.5230863690376282,-0.4235907196998596,-0.38566169142723083,1.4957481622695923,1.5020129680633545,1.61687171459198,-0.2587829530239105,-0.3461454212665558,-0.38557326793670654,0.10297740250825882,0.16627806425094604,0.18304167687892914,0.10550562292337418,0.10550562292337418,0.10550562292337418,0.8731442093849182,0.8199512958526611,2.639252185821533,2.62308406829834,2.600053310394287,0.7880139946937561,0.7871328592300415,0.7744730710983276,0.03871596232056618,-0.20959463715553284,-0.1667013019323349,0.7671165466308594,0.6802759170532227,0.6249229311943054,-1.4527748823165894,-1.436180591583252,-1.4200477600097656,-0.05435553938150406,-0.1327255815267563,0.09917798638343811,0.07007990032434464,0.08119653165340424,0.07892351597547531,0.22971588373184204,0.19365835189819336,0.2861367166042328,-0.19154788553714752,-0.211686372756958,-0.2384367138147354,0.12739473581314087,0.15077508985996246,0.12501907348632812,0.46109575033187866,0.527099609375,0.11093028634786606,0.14881418645381927,0.14617960155010223,0.01991446316242218,0.10484059900045395,0.2975190281867981,0.7254540324211121,0.7365529537200928,1.2690123319625854,-1.038209319114685,-1.038209319114685,-1.0091310739517212,-1.846238136291504,-1.8512626886367798,-1.8509951829910278,1.5462865829467773,0.22477690875530243,-0.39153140783309937,-0.41032350063323975,-0.5248609781265259,0.19255049526691437,0.25114279985427856,0.26046425104141235,-1.0485601425170898,-0.9502795338630676,-0.9618263244628906,0.10512417554855347,0.10512417554855347,0.10512417554855347,0.8391501307487488,0.824416995048523,0.8343308568000793,-1.232492208480835,-1.3010951280593872,-1.2552895545959473,0.07687417417764664,0.2004551887512207,0.2869342863559723,-0.6251116991043091,-0.5598498582839966,-0.5497738122940063,-0.3865898847579956,-0.47892633080482483,-0.4841970205307007,-0.49509644508361816,-0.5172356367111206,0.7656764388084412,0.7656764388084412,0.7882280349731445,-0.13049490749835968,-0.11611825972795486,-0.14907050132751465,-0.7499938011169434,-0.8620301485061646,-0.7357441782951355,0.46594586968421936,0.17423374950885773,0.06252673268318176,-0.20039813220500946,-0.18983083963394165,-0.23572315275669098,0.3550310432910919,-1.1038368940353394,-0.6812085509300232,-0.6262831091880798,-0.6378055214881897,0.1229090690612793,0.189703106880188,0.16818636655807495,0.19620324671268463,0.15846318006515503,-0.6867150664329529,-0.7008010745048523,-0.7377274632453918,-1.6298153400421143,-1.7910791635513306,-1.427200436592102,-0.8442396521568298,-0.8423514366149902,-0.5664755702018738,-1.6263288259506226,-1.5613837242126465,-1.5478951930999756,0.057544510811567307,0.044760920107364655,-0.1133304163813591,0.28810372948646545,0.19153857231140137,0.20419739186763763,0.28465867042541504,-0.3361446261405945,-0.4829442799091339,-0.7338789701461792,0.467742383480072,0.4521932005882263,0.45742127299308777,-1.0825423002243042,-1.1080639362335205,-1.0848438739776611,-0.6629067063331604,-0.62928706407547,-0.6593866944313049,0.11256640404462814,0.11306676268577576,0.07365403324365616,0.7214253544807434,0.44968047738075256,0.3723011314868927,-0.2788371443748474,-0.2835697829723358,-0.2757036089897156,0.5547732710838318,0.632198691368103,0.4731932580471039,0.31338462233543396,0.39624932408332825,0.49961379170417786,-1.2851184606552124,-1.0336955785751343,-1.0491721630096436,0.47056278586387634,0.4707828462123871,0.488586962223053,1.73841392993927,1.8431267738342285,1.7454830408096313,0.5388336777687073,-1.4919136762619019,-1.5252443552017212,1.5796066522598267,-0.2395896017551422,-0.09394416213035583,-0.1559179127216339,0.7348587512969971,0.7356334924697876,-0.48454371094703674,-0.5561959147453308,-0.6064971089363098,0.4384114742279053,0.7970747351646423,0.8338349461555481,0.35587912797927856,-0.604351282119751,-0.7276540994644165,-0.6923760175704956,0.9405301213264465,0.9080799221992493,0.8573440909385681,0.2343156635761261,0.09052211046218872,-0.19529536366462708,1.470520257949829,0.09150438010692596,0.05904668942093849,-0.684055745601654,0.5200005769729614,0.5108881592750549,0.561168372631073,0.5879961252212524,0.7768661379814148,0.35923531651496887,0.4201021194458008,0.42935705184936523,-0.06061388552188873,0.20254316926002502,0.5720734000205994,-0.4522046446800232,1.2505035400390625,1.105567455291748,1.074907660484314,-0.05586063116788864,-0.18752922117710114,-0.08495612442493439,0.19233742356300354,0.20219199359416962,0.25709447264671326,0.938265860080719,0.9376040697097778,0.9376040697097778,0.33484095335006714,0.21812428534030914,0.28505900502204895,0.3299953043460846,0.3335145115852356,0.7082177400588989,0.21972545981407166,-0.08805432915687561,0.953009843826294,-0.004641641862690449,-0.03556812182068825,-0.16821566224098206,1.5397050380706787,1.683576226234436,1.7377105951309204,0.013231447897851467,0.19837507605552673,0.2622282803058624,0.30461427569389343,0.2644631862640381,0.1690521091222763,0.14207234978675842,-0.1481853574514389,-0.1550959050655365,-0.15755337476730347,0.5580021142959595,0.6773563623428345,-0.7633532285690308,-0.9129220247268677,-0.9160890579223633,0.19495494663715363,0.19495494663715363,0.19495494663715363,0.5779417753219604,0.5555146336555481,0.6918157339096069,0.7477320432662964,0.7597776055335999,-0.19888615608215332,-0.1593296378850937,-0.1293381005525589,-0.4110569655895233,-0.3930908739566803,-0.5299032330513,-1.0861786603927612,-1.1385458707809448,-1.1719443798065186,2.032599449157715,-0.3824557065963745,-0.3653857111930847,-0.33448514342308044,0.9071824550628662,0.6391085386276245,0.6230396032333374,1.0447453260421753,1.0686824321746826,0.9537777304649353,-0.3791549503803253,-0.38133126497268677,-0.4276442229747772,2.1525003910064697,2.146101474761963,2.115387201309204,0.0999583974480629,0.0999583974480629,0.0999583974480629,-1.2154819965362549,-1.2150914669036865,-1.0046271085739136,0.2506142258644104,0.3489950895309448,0.2974337339401245,-1.4064836502075195,-1.3362265825271606,-0.18571683764457703,-0.17767919600009918,-0.13062061369419098,-1.7295187711715698,-1.6666016578674316,-1.600717544555664,-0.7743110060691833,-0.7809771299362183,-0.6682630181312561,-1.4659366607666016,-1.515586256980896,-1.4162708520889282,-1.654638648033142,-1.67313814163208,-1.452262282371521,-0.13248012959957123,-0.022134052589535713,0.18175353109836578,0.01969301700592041,0.029772117733955383,0.08143462240695953,-0.7512995004653931,-0.7446137070655823,-0.7531647682189941,0.025825034826993942,0.04735838249325752,-0.14887040853500366,-1.3336799144744873,-1.3574116230010986,0.30866187810897827,0.3113884925842285,0.4902634918689728,-1.518280029296875,-1.4716442823410034,-0.20470881462097168,-0.1192757785320282,-0.25567248463630676,0.6691706776618958,0.6691706776618958,0.7150644659996033,-1.4786107540130615,-1.3364934921264648,0.9563130736351013,1.0381885766983032,1.0457998514175415,0.5669541954994202,0.5288030505180359,0.6076233983039856,-0.002424241742119193,-0.17900028824806213,-0.19590243697166443,0.44612783193588257,0.44612783193588257,0.44612783193588257,-1.1546729803085327,-1.0796445608139038,0.11996699124574661,0.23440347611904144,0.32873544096946716,0.023986652493476868,0.025539694353938103,0.04857920482754707,-1.5541669130325317,-1.5136618614196777,-1.4682942628860474,-0.7746514081954956,-0.7559568285942078,-0.7479553818702698,-0.16836337745189667,-0.054936040192842484,-0.16711539030075073,-0.048828352242708206,0.0006655753822997212,-0.019886750727891922,-0.5219534039497375,-0.4636460542678833,-0.40892696380615234,0.11998090147972107,0.11462447792291641,0.12664568424224854,0.5444691181182861,0.5741493105888367,0.6049752235412598,-0.3851066827774048,-0.26265639066696167,-0.4342808723449707,-0.12631598114967346,-0.11430146545171738,-0.09015929698944092,-0.20464463531970978,0.07234663516283035,-0.3621657192707062,-0.5035287141799927,-0.5425572991371155,-0.5203278660774231,-0.05751008912920952,-0.11368556320667267,-0.7228904366493225,-0.8605690002441406,-0.8852027654647827,-0.9149464964866638,0.3743825852870941,0.3835054934024811,0.6765127778053284,0.7257198691368103,0.2987540066242218,-0.1096906065940857,-0.10444192588329315,-0.09670890122652054,0.4456268846988678,0.4471741020679474,0.5221161246299744,-0.22565409541130066,-0.28326714038848877,-0.2819198668003082,0.2496953308582306,0.10024774074554443,0.09061530232429504,1.6079949140548706,1.6236411333084106,1.6255253553390503,0.30022919178009033,0.3244131803512573,0.2885170876979828,-0.7865059971809387,-0.7459279298782349,-0.8493350148200989,-0.11394689977169037,-0.1691051721572876,-0.13926266133785248,-0.11284515261650085,-0.09267605096101761,-0.191523939371109,-0.6400941014289856,-0.636714518070221,-0.5779361128807068,-0.28298941254615784,-0.25259971618652344,-0.2945850193500519,0.3540312647819519,-1.3124901056289673,-1.324829339981079,-1.3226879835128784,0.5697171688079834,0.6863816380500793,0.6146801710128784,0.254427045583725,0.21807850897312164,0.29048505425453186,0.30688416957855225,0.3578398525714874,0.44940248131752014,0.4010508358478546,0.29949626326560974,0.3386770486831665,-0.19890157878398895,-0.2195139080286026,-0.21564792096614838,-0.2784300446510315,-0.4611751139163971,-0.4880867898464203,-0.4373510181903839,-0.45947328209877014,-0.43390968441963196,0.1240021288394928,0.07816830277442932,0.0761503130197525,0.1211649551987648,0.09342771023511887,0.38371092081069946,-0.850237250328064,1.502925157546997,1.4668196439743042,1.4753271341323853,1.5592151880264282,1.5639698505401611,1.5278874635696411,-0.9164864420890808,-0.9497866034507751,0.12161114811897278,0.13855665922164917,0.17685078084468842,0.2616179287433624,0.21251386404037476,0.2510126531124115,0.6019619703292847,0.6505966186523438,0.5869503021240234,-0.10135599970817566,-0.35121020674705505,-0.7154807448387146,-0.39941880106925964,-0.3971332907676697,-0.389873743057251,-0.051849137991666794,-0.10865725576877594,-0.12254788726568222,-1.2722917795181274,-1.192868947982788,-0.9126064777374268,-1.2571401596069336,-1.4247790575027466,-1.3726710081100464,-0.3288913369178772,0.8562832474708557,0.8562832474708557,0.8562832474708557,-0.42407989501953125,-0.2235376387834549,0.385022908449173,0.9112773537635803,1.0209732055664062,1.0152037143707275,1.0688369274139404,0.030873971059918404,0.08573034405708313,0.11043670028448105,-0.47218942642211914,-0.4631425738334656,-0.2492777407169342,-0.2906660735607147,-0.06864643841981888,0.32657164335250854,0.23696015775203705,0.17197401821613312,-0.6284863948822021,-0.6284863948822021,-0.5831925272941589,-0.5831925272941589,-0.5565060973167419,-0.5565060973167419,1.3982148170471191,1.4099857807159424,-0.16427472233772278,0.3767050504684448,1.6892080307006836,1.446865200996399,0.16610898077487946,0.2807893753051758,0.30421653389930725,-1.241774559020996,-1.1980780363082886,-1.2141445875167847,-1.3346662521362305,0.43764808773994446,0.4291174113750458,-0.43693026900291443,-0.3497201204299927,-1.1146692037582397,-0.07918453216552734,-0.1436668038368225,-0.1400139331817627,-1.0694504976272583,-1.0132825374603271,-0.9720188975334167,-0.4907170832157135,-0.5633520483970642,-0.404940664768219,-0.602896511554718,-0.1230127215385437,-1.3087712526321411,0.16048455238342285,0.2017780840396881,0.20595380663871765,-0.24893902242183685,-0.2164934128522873,-0.20353667438030243,-0.3483026325702667,-0.6321089267730713,-0.6397128105163574,0.04669586569070816,0.07579057663679123,0.06610973924398422,0.9083971977233887,0.9564884305000305,-1.3852344751358032,-1.3175954818725586,0.3111629784107208,0.3955848217010498,0.3687858283519745,0.1329870969057083,0.8635112047195435,0.9114646911621094,0.20246469974517822,-0.6828653216362,-0.6811018586158752,-0.6266475915908813,-0.587092399597168,-0.7027232050895691,-0.3192865252494812,-0.4302678406238556,-0.41993585228919983,-0.13399288058280945,-0.2197556346654892,-0.19593900442123413,-0.6987403035163879,-0.39520731568336487,0.9298340082168579,0.35288071632385254,0.35229843854904175,0.4546922445297241,-0.39738646149635315,-0.4910249710083008,1.703484296798706,1.703484296798706,1.6444324254989624,1.6444324254989624,-0.4760279059410095,-0.5624014139175415,0.9114858508110046,1.0579769611358643,-0.47320303320884705,-0.7105789184570312,-0.6739193797111511,-0.7729102969169617,0.5248991250991821,-0.3337364196777344,-0.30103799700737,-0.4520886242389679,-0.10317032784223557,-0.8433586359024048,-0.8420546650886536,-0.8435689806938171,0.8172222971916199,0.8160439133644104,0.06164056807756424,0.06965135782957077,0.06295271962881088,-0.492263525724411,-0.5124419331550598,-0.22924569249153137,0.07725268602371216,0.04174131527543068,0.07783526927232742,-0.5206209421157837,-0.5646914839744568,-0.5685564875602722,1.8093068599700928,1.9068089723587036,2.0304603576660156,-0.6826673150062561,-0.7216077446937561,-0.5459361672401428,0.8966249823570251,0.9023991823196411,0.7754431366920471,-0.7869707942008972,0.8485111594200134,0.9711100459098816,0.39722150564193726,0.4027145802974701,-0.2980974018573761,0.07889539748430252,0.014735261909663677,0.01360598299652338,0.6006856560707092,0.6006856560707092,0.946688175201416,-0.5209372639656067,0.3018142282962799,-0.529185950756073,-0.4995920956134796,-0.4740593731403351,-0.5272570848464966,0.4716237187385559,0.44153887033462524,0.44278451800346375,-0.26248976588249207,-0.26248976588249207,-0.26248976588249207,1.5486137866973877,1.5486979484558105,-0.265964537858963,-0.14249302446842194,-0.17322938144207,-0.49389830231666565,-0.5103873610496521,-0.43441668152809143,0.08249488472938538,0.4121890962123871,0.3195776641368866,0.34146663546562195,0.6804391145706177,0.6703323125839233,0.6978627443313599,-0.2402910441160202,-0.32576191425323486,-0.31893637776374817,0.40077513456344604,-1.3084408044815063,-1.2710083723068237,-1.283179521560669,-0.3544664680957794,-0.18949347734451294,-0.20495204627513885,-0.2219735085964203,-0.9236704111099243,-0.9676605463027954,-0.9834020137786865,0.27066951990127563,-0.0073158773593604565,0.008739955723285675,0.8258815407752991,0.6875662207603455,0.6694281697273254,0.23508380353450775,1.2388938665390015,1.2388938665390015,0.7239121198654175,1.3525216579437256,1.1731892824172974,-1.365035057067871,-1.5929774045944214,-1.5345463752746582,1.0485683679580688,1.0464777946472168,0.417531281709671,0.31511926651000977,0.31873995065689087,0.2753714621067047,-0.844678521156311,-0.7529486417770386,-0.7564389109611511,-0.020463159307837486,-0.13173548877239227,0.0616283118724823,0.4967975914478302,0.44764357805252075,0.4228532016277313,-0.6906908750534058,-0.722534716129303,-0.7330117225646973,0.8786376118659973,0.7222243547439575,0.6555949449539185,0.7683753967285156,-0.18704889714717865,-0.233238086104393,-0.18117663264274597,2.0995917320251465,2.1125526428222656,2.2302067279815674,-0.2855461537837982,-0.27401044964790344,-0.21118275821208954,-1.4176632165908813,-1.4097880125045776,-1.4208159446716309,2.2405354976654053,2.2017979621887207,2.2187564373016357,0.4357832968235016,0.43029341101646423,0.3630804717540741,-0.21792647242546082,-0.10622575879096985,-0.10440333932638168,0.6399827599525452,0.5901152491569519,0.5985330939292908,-0.1828383207321167,-0.2543181777000427,-0.39495348930358887,-0.3107498288154602,-0.42016902565956116,-0.40451985597610474,-0.7326173782348633,-0.5178821682929993,-0.5552545189857483,-0.2706432044506073,-0.2906021773815155,0.5940086841583252,0.6114574074745178,0.594453752040863,-0.3802555799484253,-0.43475937843322754,-0.3733861744403839,-0.573413074016571,-0.5930637121200562,-0.08168690651655197,-0.04233191907405853,-0.026376497000455856,0.7410925030708313,0.7427194714546204,-0.7028442025184631,0.12882032990455627,0.20342275500297546,0.17586618661880493,0.2163492888212204,0.22024103999137878,0.2558753490447998,-0.3070187568664551,-0.17862369120121002,-0.10698304325342178,0.5562865734100342,0.4630454480648041,0.6251626014709473,0.6124040484428406,-0.045824483036994934,-0.16791114211082458,-0.16801826655864716,0.6777005791664124,0.7466720938682556,0.6026077270507812,0.29653096199035645,0.11362150311470032,-0.416098415851593,-0.4149401783943176,-0.06157846748828888,-0.7824408411979675,-0.8122866153717041,-0.5974187254905701,0.7112208008766174,0.790557324886322,0.6739292740821838,0.4037766456604004,0.3980000615119934,0.09727393835783005,-0.4292292892932892,-0.4225541353225708,-0.4390386939048767,2.1671533584594727,-1.31221604347229,-0.5735470056533813,-0.5674613118171692,-0.5752851366996765,-1.7132176160812378,-1.6650805473327637,-1.5036418437957764,-0.5060795545578003,2.3319101333618164,2.334947347640991,2.4406628608703613,0.3407442271709442,0.30967873334884644,0.36482909321784973,0.16676034033298492,0.337445467710495,1.2088614702224731,-1.655447244644165,0.27027246356010437,0.2876605689525604,0.293540358543396,-0.8047589063644409,0.31193044781684875,0.35657671093940735,0.3440747559070587,0.6054078340530396,0.6565926671028137,0.6940794587135315,0.6760109066963196,0.6866466999053955,0.7342795729637146,-0.24630309641361237,-0.24052776396274567,-0.21786656975746155,-0.8827014565467834,-0.8450680375099182,-0.8772594332695007,0.02457233890891075,0.030625630170106888,-0.17399564385414124,1.6129677295684814,1.6024621725082397,1.4087198972702026,1.8219423294067383,1.721505880355835,-0.8761452436447144,-0.9706467986106873,-0.8148658871650696,0.36538392305374146,0.5431705117225647,0.8588913679122925,0.589927077293396,0.6244808435440063,0.5670118927955627,0.3281959295272827,0.3281959295272827,0.3281959295272827,-0.7678333520889282,-0.727241039276123,-0.4922527074813843,0.05542539432644844,0.06193450093269348,0.05093616992235184,0.595117449760437,0.4688190817832947,0.45733049511909485,-0.42806535959243774,-0.5172497034072876,-0.8121687173843384,-0.8699477910995483,-0.7836046814918518,-0.8489604592323303,-0.7943903803825378,-0.8006612658500671,-0.7503470182418823,-0.7739439010620117,0.45106685161590576,0.5441884398460388,0.2646905183792114,-0.30097055435180664,-0.3532228469848633,-0.33673903346061707,0.18304376304149628,-0.01777508854866028,-0.1212574914097786,0.5762130618095398,0.5164297819137573,0.5743258595466614,0.5737437605857849,0.4114803075790405,0.49579674005508423,0.5318374633789062,0.46274587512016296,0.4627947509288788,-0.9545698761940002,-1.18013334274292,-1.2669603824615479,0.6235013008117676,0.635758638381958,0.6267819404602051,0.27422797679901123,0.26550963521003723,0.2695341110229492,0.5863176584243774,0.594653308391571,0.6519870162010193,-0.8229349255561829,-0.9457197189331055,-0.8604278564453125,-0.252975195646286,-0.2429441660642624,-0.65594083070755,-0.9270907640457153,-0.9101287126541138,-0.8499428033828735,0.8068544864654541,0.8570828437805176,0.8759515285491943,1.4730987548828125,-0.45467373728752136,1.5881677865982056,0.6121717691421509,0.514395534992218,0.4170616567134857,0.7590314149856567,0.8135800361633301,0.8873440027236938,-0.36312317848205566,-0.33306899666786194,-0.2800680100917816,-0.25685736536979675,-0.2583356201648712,-0.2134505808353424,-0.36901727318763733,-0.38294851779937744,-0.2836052477359772,-0.6166307330131531,-0.6367239952087402,-0.6407429575920105,1.7811923027038574,1.7717103958129883,1.2726444005966187,1.2319140434265137,1.2884387969970703,-0.16970686614513397,0.28319329023361206,0.12116364389657974,-0.9397925734519958,-0.8020024299621582,-0.8384609818458557,-0.09126734733581543,-0.11375116556882858,-0.10532882064580917,0.1263350397348404,0.17786666750907898,0.18791867792606354,1.3041080236434937,1.3232816457748413,1.5730959177017212,1.0731987953186035,0.6921043992042542,0.5074430704116821,0.47339439392089844,0.5348340272903442,0.13955791294574738,-0.44891753792762756,-0.4129638075828552,1.5291295051574707,-1.18864905834198,-1.1547508239746094,-1.2104597091674805,-0.22688063979148865,-0.045173559337854385,-0.01572604663670063,-0.6121029257774353,-0.7279579639434814,1.1358795166015625,1.0412710905075073,0.6284152269363403,0.5870985388755798,0.6023339033126831,-1.0398749113082886,-1.039867639541626,0.7352402210235596,0.6827408075332642,0.7996839284896851,0.6477658152580261,0.819960355758667,0.758439302444458,2.2842495441436768,-1.0782541036605835,-1.1253299713134766,-1.0457249879837036,0.6787304282188416,0.29608047008514404,0.3458254039287567,1.6625926494598389,-0.8828136324882507,0.7137911915779114,0.7538679838180542,0.7052069902420044,0.6869630217552185,-0.6082520484924316,-0.4738613963127136,-0.4665467143058777,-0.46765264868736267,2.1405858993530273,2.050278902053833,1.7184677124023438,1.8026766777038574,1.8596936464309692,0.9642210602760315,0.9588173627853394,0.0877324566245079,0.09231980890035629,-0.19312776625156403,-0.4118714928627014,-0.6379837393760681,1.7094565629959106,1.565870761871338,1.3550182580947876,-0.29012563824653625,-0.2806639075279236,-0.27409449219703674,-0.5741275548934937,-0.6660799980163574,-0.7297937273979187,-0.577207624912262,-0.6832522749900818,-0.6932671070098877,-1.244494080543518,-1.3548645973205566,-1.3548645973205566,0.261519193649292,0.3431375026702881,0.33777952194213867,0.4102754294872284,0.6321007609367371,0.6668848991394043,0.6063327193260193,-0.004853568505495787,-1.3248223066329956,0.026571525260806084,0.12545166909694672,0.15907429158687592,0.553745448589325,0.20845746994018555,0.5817041993141174,-0.6040619015693665,-0.6686945557594299,-0.5313570499420166,-0.8402354121208191,0.49617019295692444,0.2611452043056488,0.12088645994663239,-0.044092580676078796,-0.04957643523812294,0.018541116267442703,-0.6254923939704895,-0.6190176010131836,-0.6240059733390808,-0.8003872036933899,-0.1659909337759018,-0.18625856935977936,-0.15085984766483307,-0.36634790897369385,-0.36312466859817505,-0.3677145540714264,2.135942220687866,2.316258668899536,0.545967698097229,0.5755448341369629,0.5839582681655884,2.40193510055542,2.323618173599243,2.1953301429748535,0.1496494561433792,1.4563857316970825,0.9152567982673645,-0.5058432221412659,-0.39215126633644104,-0.26751580834388733,-0.23110449314117432,-0.06726940721273422,-0.0918617695569992,0.24703535437583923,-0.34108495712280273,-0.6044044494628906,-0.4472869038581848,-0.6239929795265198,-0.7409169673919678,-0.08504517376422882,-0.0790366679430008,0.4522177278995514,0.29219213128089905,0.31959080696105957,0.3815361559391022,-0.6572880148887634,-0.7881052494049072,1.8297860622406006,1.8018198013305664,1.9161605834960938,-0.6727678179740906,-0.6685433387756348,-0.6588876247406006,1.0958136320114136,0.9302621483802795,0.6688973307609558,-0.44284242391586304,-0.19968484342098236,-0.47766515612602234,0.48263129591941833,0.48941314220428467,0.5566554665565491,-0.5983338356018066,-0.5966576933860779,-1.2213975191116333,-0.19549515843391418,-0.2072356790304184,-0.19104045629501343,-0.4731614291667938,-0.6512887477874756,-0.7556806802749634,-0.8046637773513794,-1.071433663368225,-1.1688553094863892,-1.2648324966430664,0.8913643956184387,0.05654282495379448,0.20731322467327118,-0.49302923679351807,-0.5103732347488403,-0.4850098788738251,-0.321343332529068,-0.3458915650844574,-0.2842971086502075,1.8352811336517334,1.9084398746490479,1.9849776029586792,-0.41085249185562134,-0.20722950994968414,-0.26717257499694824,-0.7680820822715759,-0.3091348111629486,-0.5648961067199707,-0.5648961067199707,0.9444055557250977,0.8601040244102478,0.8226257562637329,-0.4788784384727478,0.6403842568397522,-0.053517576307058334,2.9794747829437256,2.5296568870544434,-0.21775315701961517,0.506011426448822,1.0333696603775024,-0.6207939982414246,-0.6866859793663025,0.3832201063632965,0.34956228733062744,0.29379892349243164,0.45981332659721375,-0.035069238394498825,0.6065451502799988,0.5951189994812012,0.5940561890602112,1.88405442237854,1.6643760204315186,1.3497440814971924,-0.9206578135490417,-0.657529890537262,0.08440881222486496,-0.024883897975087166,0.10770467668771744,1.87155020236969,1.9326437711715698,1.8428257703781128,0.017772939056158066,0.013109543360769749,0.0035016313195228577,-0.20651984214782715,-0.2069455236196518,-0.20360428094863892,-0.04465493559837341,-0.03913060948252678,-0.03913060948252678,0.5276660919189453,1.0668070316314697,1.084486961364746,0.4919946491718292,0.4456186890602112,0.2192319631576538,0.0669245645403862,0.029964298009872437,0.9782013297080994,0.9843584299087524,-0.04602675512433052,-0.21987193822860718,-0.7097007036209106,0.4999817907810211,0.5132313966751099,-0.22103825211524963,-0.28619641065597534,-1.3283014297485352,-1.3560833930969238,-1.3586912155151367,-1.0064630508422852,-1.0255223512649536,-0.5213679075241089,-0.5182960629463196,-1.5440669059753418,-1.1828675270080566,-1.1482596397399902,-1.0893778800964355,-0.4986949861049652,-0.6011333465576172,-0.5883110761642456,-0.2751624286174774,-0.3314204514026642,-0.463224858045578,-0.6127713322639465,2.0700385570526123,2.0531013011932373,0.05071169510483742,0.08634281903505325,0.08989954739809036,-0.2548728585243225,0.01389383152127266,0.023443149402737617,-0.9734318852424622,-1.2188845872879028,-1.1959049701690674,0.10306242853403091,0.12369855493307114,0.13546299934387207,0.14991691708564758,0.1234203353524208,0.1357298493385315,0.41048142313957214,0.5104712247848511,0.4579750895500183,-0.6843590140342712,-0.7872769832611084,-0.7663245797157288,-0.20728980004787445,-0.21790555119514465,-0.041759192943573,-0.7699548006057739,-0.771436333656311,-0.771436333656311,0.689220666885376,0.8280766010284424,1.208306074142456,1.3001829385757446,1.3765099048614502,-0.09502054005861282,-0.19938823580741882,-0.6526607275009155,-0.06451428681612015,-0.5672916769981384,-0.5758023262023926,1.1715033054351807,1.3000096082687378,1.3606243133544922,0.5500447154045105,0.5500447154045105,0.5500447154045105,0.6026143431663513,0.045705318450927734,0.020512694492936134,-0.014487748965620995,-0.41667798161506653,-0.013218294829130173,-0.23634009063243866,-0.6655874848365784,-0.6156174540519714,-0.641650915145874,0.15611007809638977,0.13560377061367035,-0.4668337404727936,-0.4486890137195587,-0.4486890137195587,-0.45828089118003845,-0.45828089118003845,-0.17965808510780334,-0.17965808510780334,-0.10152072459459305,-0.09504713863134384,-0.11184744536876678,-0.3724139630794525,-0.38637036085128784,-0.6052356362342834,-0.0013361821183934808,-0.007001676131039858,-0.4124528467655182,1.5797901153564453,1.611491322517395,0.8569231033325195,0.7353613376617432,0.29414936900138855,0.8595657348632812,0.8595657348632812,0.5109390616416931,0.5109390616416931,0.6351286768913269,0.8005010485649109,-0.5145233273506165,-0.5246083736419678,-0.5482146143913269,-0.1760358214378357,-0.6155102252960205,-0.36520594358444214,0.6618630886077881,0.6412562131881714,0.05262584611773491,0.3254881203174591,0.2518303096294403,-0.174834206700325,-0.22923211753368378,-0.2159007340669632,0.7123270034790039,0.7123270034790039,0.3402726948261261,0.4681307077407837,0.4289461672306061,0.04684850201010704,0.1975911557674408,0.16955290734767914,-0.4431704878807068,-0.25920411944389343,-0.17411017417907715,-0.44873976707458496,-0.13511809706687927,0.1292375773191452,-0.016893047839403152,-0.8753837943077087,-0.8593811392784119,-0.8814651966094971,0.15942177176475525,0.17453961074352264,0.654924213886261,0.7527400255203247,0.7395428419113159,0.43123313784599304,1.0377602577209473,0.8096017241477966,1.1801210641860962,0.041016869246959686,0.5251770615577698,0.4937324821949005,-0.3123195767402649,-0.2297488898038864,-0.42109930515289307,-0.19743777811527252,-0.2077571451663971,-0.19256965816020966,-1.2382731437683105,-1.2173789739608765,-1.2109601497650146,-1.5402882099151611,-1.5331406593322754,-1.558899998664856,0.821548581123352,0.8237439393997192,0.22224700450897217,2.8626909255981445,2.773777961730957,2.7548882961273193,0.038306280970573425,0.09841690212488174,1.8976163864135742,-0.15162087976932526,0.9587532877922058,0.9480286240577698,0.9744702577590942,-0.2418239563703537,-0.2418239563703537,-0.5169867277145386,-0.5169867277145386,-0.40821659564971924,-0.40821659564971924,0.06043080613017082,0.05535902827978134,0.019778938964009285,0.12781259417533875,0.052513208240270615,0.029879210516810417,0.11242567002773285,0.09898419678211212,-0.0908324271440506,-0.5979574918746948,-0.58470618724823,0.07059743255376816,0.07059743255376816,0.050382886081933975,0.050382886081933975,-0.16948285698890686,-0.16948285698890686,-0.5709365010261536,-0.5614055395126343,-1.5497753620147705,-1.4752072095870972,-1.4545702934265137,1.0428582429885864,1.6091365814208984,1.4236737489700317,1.304036021232605,1.4428707361221313,0.7603814005851746,0.7620097994804382,0.8299784064292908,1.5296595096588135,1.5334478616714478,1.5570738315582275,0.4025919735431671,0.3881646990776062,0.2558692991733551,0.14937946200370789,0.14176316559314728,0.7922945618629456,0.3951820433139801,0.25799646973609924,0.22721515595912933,0.22664789855480194,0.37561190128326416,0.3827860355377197,0.29618117213249207,-0.017322000116109848,-0.40178391337394714,0.5559792518615723,0.5679605007171631,0.5952317118644714,-0.03920882195234299,0.07646232098340988,-0.5163038372993469,-1.103455662727356,-0.5536561012268066,-0.9234879016876221,-0.1946467012166977,1.2602235078811646,1.3557051420211792,0.5100454092025757,0.4777642786502838,0.43420636653900146,-0.1838284730911255,-0.20876803994178772,-0.09008000046014786,-0.14951731264591217,-0.31516289710998535,-0.27939674258232117,-1.5286861658096313,-1.5434634685516357,-1.5641790628433228,1.4912281036376953,1.4656645059585571,1.4800349473953247,0.25827667117118835,0.25054022669792175,-0.16166894137859344,-0.11877565085887909,0.04346261918544769,0.5947237014770508,-0.5568077564239502,-0.11596544086933136,-0.7875770926475525,-0.3369334042072296,-0.807004988193512,0.892665445804596,-0.8621010184288025,-0.2923627495765686,-0.3277962803840637,-0.33879998326301575,0.466877281665802,0.12120833992958069,0.10360217094421387,0.09858989715576172,0.08452137559652328,0.12843775749206543,0.12512393295764923,-0.3478877544403076,-0.37206465005874634,-0.3720581829547882,-0.05816758796572685,-0.08097675442695618,-0.08606875687837601,-0.13240556418895721,0.7083641290664673,0.7761350274085999,-0.027330905199050903,1.5076591968536377,1.2139053344726562,0.04684850201010704,0.1975911557674408,0.16955290734767914,-0.38922399282455444,0.08566849678754807,0.055166468024253845,0.00015148005331866443,0.1595730185508728,1.030021071434021,0.5578356385231018,0.2944315969944,0.7905246615409851,0.7202634811401367,0.13207125663757324,0.13207125663757324,0.11543727666139603,1.378983497619629,1.2966712713241577,0.6397905349731445,-0.5817413926124573,-0.8184680342674255,-0.8184680342674255,-0.45668190717697144,-0.4394661784172058,-0.3911330997943878,-0.49777644872665405,-0.6693215370178223,-0.7266274690628052,0.3080054223537445,-0.11897722631692886,-0.1256287544965744,-1.2192764282226562,-1.1922740936279297,-1.0565544366836548,0.044982172548770905,-0.17772439122200012,-0.09776313602924347,-0.09776313602924347,0.2908516824245453,0.2908516824245453,0.5348803400993347,-0.1485319286584854,-0.13266968727111816,-0.18310536444187164,-1.1178354024887085,-0.7569977045059204,-0.981525719165802,-0.4123641848564148,-0.30132296681404114,-0.8464704751968384,-1.0274163484573364,2.0097415447235107,2.0356533527374268,2.197089433670044,0.31286728382110596,0.0010489652631804347,0.0010489652631804347,-0.15849991142749786,0.2751273512840271,0.2261093705892563,-0.45424240827560425,-0.33556056022644043,-0.3890969455242157,-0.2822646498680115,-1.1929047107696533,-1.312591314315796,-1.283286213874817,-1.2370980978012085,-0.3007189631462097,1.7303377389907837,-0.37211596965789795,-0.6119639873504639,0.3263608515262604,0.7325180172920227,0.8509054183959961,0.13614530861377716,-0.5692693591117859,-0.7068467140197754,-0.6693539619445801,-1.1793296337127686,-1.1883326768875122,-1.3520010709762573,1.7088689804077148,0.1270103007555008,-0.15150417387485504,-0.24272242188453674,0.2227841019630432,-0.19809915125370026,-0.4295387268066406,0.7158078551292419,0.7146444320678711,-0.3529525399208069,-0.3529525399208069,-0.18316194415092468,-0.18316194415092468,0.8005884289741516,0.8005884289741516,-0.08168447017669678,0.3462626039981842,0.432959645986557,-0.08835003525018692,-0.05935484170913696,-0.23285311460494995,0.25537315011024475,0.04707998409867287,-0.20931166410446167,-0.3213246464729309,0.0822896957397461,0.033917441964149475,0.06434652954339981,0.01932774856686592,0.46023795008659363,0.4196648597717285,0.4745631814002991,-0.4779179096221924,-0.008866664953529835,0.19248859584331512,-0.11074809730052948,-0.3475566804409027,0.14509783685207367,0.1079660952091217,-0.031779494136571884,1.1979622840881348,1.1979622840881348,1.1979622840881348,-0.29625821113586426,-0.30653294920921326,0.9362234473228455,-0.41442808508872986,-0.545552134513855,-0.7213728427886963,0.33865395188331604,0.4101223945617676],\"yaxis\":\"y\",\"type\":\"scattergl\"}],                        {\"template\":{\"data\":{\"bar\":[{\"error_x\":{\"color\":\"#2a3f5f\"},\"error_y\":{\"color\":\"#2a3f5f\"},\"marker\":{\"line\":{\"color\":\"#E5ECF6\",\"width\":0.5},\"pattern\":{\"fillmode\":\"overlay\",\"size\":10,\"solidity\":0.2}},\"type\":\"bar\"}],\"barpolar\":[{\"marker\":{\"line\":{\"color\":\"#E5ECF6\",\"width\":0.5},\"pattern\":{\"fillmode\":\"overlay\",\"size\":10,\"solidity\":0.2}},\"type\":\"barpolar\"}],\"carpet\":[{\"aaxis\":{\"endlinecolor\":\"#2a3f5f\",\"gridcolor\":\"white\",\"linecolor\":\"white\",\"minorgridcolor\":\"white\",\"startlinecolor\":\"#2a3f5f\"},\"baxis\":{\"endlinecolor\":\"#2a3f5f\",\"gridcolor\":\"white\",\"linecolor\":\"white\",\"minorgridcolor\":\"white\",\"startlinecolor\":\"#2a3f5f\"},\"type\":\"carpet\"}],\"choropleth\":[{\"colorbar\":{\"outlinewidth\":0,\"ticks\":\"\"},\"type\":\"choropleth\"}],\"contour\":[{\"colorbar\":{\"outlinewidth\":0,\"ticks\":\"\"},\"colorscale\":[[0.0,\"#0d0887\"],[0.1111111111111111,\"#46039f\"],[0.2222222222222222,\"#7201a8\"],[0.3333333333333333,\"#9c179e\"],[0.4444444444444444,\"#bd3786\"],[0.5555555555555556,\"#d8576b\"],[0.6666666666666666,\"#ed7953\"],[0.7777777777777778,\"#fb9f3a\"],[0.8888888888888888,\"#fdca26\"],[1.0,\"#f0f921\"]],\"type\":\"contour\"}],\"contourcarpet\":[{\"colorbar\":{\"outlinewidth\":0,\"ticks\":\"\"},\"type\":\"contourcarpet\"}],\"heatmap\":[{\"colorbar\":{\"outlinewidth\":0,\"ticks\":\"\"},\"colorscale\":[[0.0,\"#0d0887\"],[0.1111111111111111,\"#46039f\"],[0.2222222222222222,\"#7201a8\"],[0.3333333333333333,\"#9c179e\"],[0.4444444444444444,\"#bd3786\"],[0.5555555555555556,\"#d8576b\"],[0.6666666666666666,\"#ed7953\"],[0.7777777777777778,\"#fb9f3a\"],[0.8888888888888888,\"#fdca26\"],[1.0,\"#f0f921\"]],\"type\":\"heatmap\"}],\"heatmapgl\":[{\"colorbar\":{\"outlinewidth\":0,\"ticks\":\"\"},\"colorscale\":[[0.0,\"#0d0887\"],[0.1111111111111111,\"#46039f\"],[0.2222222222222222,\"#7201a8\"],[0.3333333333333333,\"#9c179e\"],[0.4444444444444444,\"#bd3786\"],[0.5555555555555556,\"#d8576b\"],[0.6666666666666666,\"#ed7953\"],[0.7777777777777778,\"#fb9f3a\"],[0.8888888888888888,\"#fdca26\"],[1.0,\"#f0f921\"]],\"type\":\"heatmapgl\"}],\"histogram\":[{\"marker\":{\"pattern\":{\"fillmode\":\"overlay\",\"size\":10,\"solidity\":0.2}},\"type\":\"histogram\"}],\"histogram2d\":[{\"colorbar\":{\"outlinewidth\":0,\"ticks\":\"\"},\"colorscale\":[[0.0,\"#0d0887\"],[0.1111111111111111,\"#46039f\"],[0.2222222222222222,\"#7201a8\"],[0.3333333333333333,\"#9c179e\"],[0.4444444444444444,\"#bd3786\"],[0.5555555555555556,\"#d8576b\"],[0.6666666666666666,\"#ed7953\"],[0.7777777777777778,\"#fb9f3a\"],[0.8888888888888888,\"#fdca26\"],[1.0,\"#f0f921\"]],\"type\":\"histogram2d\"}],\"histogram2dcontour\":[{\"colorbar\":{\"outlinewidth\":0,\"ticks\":\"\"},\"colorscale\":[[0.0,\"#0d0887\"],[0.1111111111111111,\"#46039f\"],[0.2222222222222222,\"#7201a8\"],[0.3333333333333333,\"#9c179e\"],[0.4444444444444444,\"#bd3786\"],[0.5555555555555556,\"#d8576b\"],[0.6666666666666666,\"#ed7953\"],[0.7777777777777778,\"#fb9f3a\"],[0.8888888888888888,\"#fdca26\"],[1.0,\"#f0f921\"]],\"type\":\"histogram2dcontour\"}],\"mesh3d\":[{\"colorbar\":{\"outlinewidth\":0,\"ticks\":\"\"},\"type\":\"mesh3d\"}],\"parcoords\":[{\"line\":{\"colorbar\":{\"outlinewidth\":0,\"ticks\":\"\"}},\"type\":\"parcoords\"}],\"pie\":[{\"automargin\":true,\"type\":\"pie\"}],\"scatter\":[{\"marker\":{\"colorbar\":{\"outlinewidth\":0,\"ticks\":\"\"}},\"type\":\"scatter\"}],\"scatter3d\":[{\"line\":{\"colorbar\":{\"outlinewidth\":0,\"ticks\":\"\"}},\"marker\":{\"colorbar\":{\"outlinewidth\":0,\"ticks\":\"\"}},\"type\":\"scatter3d\"}],\"scattercarpet\":[{\"marker\":{\"colorbar\":{\"outlinewidth\":0,\"ticks\":\"\"}},\"type\":\"scattercarpet\"}],\"scattergeo\":[{\"marker\":{\"colorbar\":{\"outlinewidth\":0,\"ticks\":\"\"}},\"type\":\"scattergeo\"}],\"scattergl\":[{\"marker\":{\"colorbar\":{\"outlinewidth\":0,\"ticks\":\"\"}},\"type\":\"scattergl\"}],\"scattermapbox\":[{\"marker\":{\"colorbar\":{\"outlinewidth\":0,\"ticks\":\"\"}},\"type\":\"scattermapbox\"}],\"scatterpolar\":[{\"marker\":{\"colorbar\":{\"outlinewidth\":0,\"ticks\":\"\"}},\"type\":\"scatterpolar\"}],\"scatterpolargl\":[{\"marker\":{\"colorbar\":{\"outlinewidth\":0,\"ticks\":\"\"}},\"type\":\"scatterpolargl\"}],\"scatterternary\":[{\"marker\":{\"colorbar\":{\"outlinewidth\":0,\"ticks\":\"\"}},\"type\":\"scatterternary\"}],\"surface\":[{\"colorbar\":{\"outlinewidth\":0,\"ticks\":\"\"},\"colorscale\":[[0.0,\"#0d0887\"],[0.1111111111111111,\"#46039f\"],[0.2222222222222222,\"#7201a8\"],[0.3333333333333333,\"#9c179e\"],[0.4444444444444444,\"#bd3786\"],[0.5555555555555556,\"#d8576b\"],[0.6666666666666666,\"#ed7953\"],[0.7777777777777778,\"#fb9f3a\"],[0.8888888888888888,\"#fdca26\"],[1.0,\"#f0f921\"]],\"type\":\"surface\"}],\"table\":[{\"cells\":{\"fill\":{\"color\":\"#EBF0F8\"},\"line\":{\"color\":\"white\"}},\"header\":{\"fill\":{\"color\":\"#C8D4E3\"},\"line\":{\"color\":\"white\"}},\"type\":\"table\"}]},\"layout\":{\"annotationdefaults\":{\"arrowcolor\":\"#2a3f5f\",\"arrowhead\":0,\"arrowwidth\":1},\"autotypenumbers\":\"strict\",\"coloraxis\":{\"colorbar\":{\"outlinewidth\":0,\"ticks\":\"\"}},\"colorscale\":{\"diverging\":[[0,\"#8e0152\"],[0.1,\"#c51b7d\"],[0.2,\"#de77ae\"],[0.3,\"#f1b6da\"],[0.4,\"#fde0ef\"],[0.5,\"#f7f7f7\"],[0.6,\"#e6f5d0\"],[0.7,\"#b8e186\"],[0.8,\"#7fbc41\"],[0.9,\"#4d9221\"],[1,\"#276419\"]],\"sequential\":[[0.0,\"#0d0887\"],[0.1111111111111111,\"#46039f\"],[0.2222222222222222,\"#7201a8\"],[0.3333333333333333,\"#9c179e\"],[0.4444444444444444,\"#bd3786\"],[0.5555555555555556,\"#d8576b\"],[0.6666666666666666,\"#ed7953\"],[0.7777777777777778,\"#fb9f3a\"],[0.8888888888888888,\"#fdca26\"],[1.0,\"#f0f921\"]],\"sequentialminus\":[[0.0,\"#0d0887\"],[0.1111111111111111,\"#46039f\"],[0.2222222222222222,\"#7201a8\"],[0.3333333333333333,\"#9c179e\"],[0.4444444444444444,\"#bd3786\"],[0.5555555555555556,\"#d8576b\"],[0.6666666666666666,\"#ed7953\"],[0.7777777777777778,\"#fb9f3a\"],[0.8888888888888888,\"#fdca26\"],[1.0,\"#f0f921\"]]},\"colorway\":[\"#636efa\",\"#EF553B\",\"#00cc96\",\"#ab63fa\",\"#FFA15A\",\"#19d3f3\",\"#FF6692\",\"#B6E880\",\"#FF97FF\",\"#FECB52\"],\"font\":{\"color\":\"#2a3f5f\"},\"geo\":{\"bgcolor\":\"white\",\"lakecolor\":\"white\",\"landcolor\":\"#E5ECF6\",\"showlakes\":true,\"showland\":true,\"subunitcolor\":\"white\"},\"hoverlabel\":{\"align\":\"left\"},\"hovermode\":\"closest\",\"mapbox\":{\"style\":\"light\"},\"paper_bgcolor\":\"white\",\"plot_bgcolor\":\"#E5ECF6\",\"polar\":{\"angularaxis\":{\"gridcolor\":\"white\",\"linecolor\":\"white\",\"ticks\":\"\"},\"bgcolor\":\"#E5ECF6\",\"radialaxis\":{\"gridcolor\":\"white\",\"linecolor\":\"white\",\"ticks\":\"\"}},\"scene\":{\"xaxis\":{\"backgroundcolor\":\"#E5ECF6\",\"gridcolor\":\"white\",\"gridwidth\":2,\"linecolor\":\"white\",\"showbackground\":true,\"ticks\":\"\",\"zerolinecolor\":\"white\"},\"yaxis\":{\"backgroundcolor\":\"#E5ECF6\",\"gridcolor\":\"white\",\"gridwidth\":2,\"linecolor\":\"white\",\"showbackground\":true,\"ticks\":\"\",\"zerolinecolor\":\"white\"},\"zaxis\":{\"backgroundcolor\":\"#E5ECF6\",\"gridcolor\":\"white\",\"gridwidth\":2,\"linecolor\":\"white\",\"showbackground\":true,\"ticks\":\"\",\"zerolinecolor\":\"white\"}},\"shapedefaults\":{\"line\":{\"color\":\"#2a3f5f\"}},\"ternary\":{\"aaxis\":{\"gridcolor\":\"white\",\"linecolor\":\"white\",\"ticks\":\"\"},\"baxis\":{\"gridcolor\":\"white\",\"linecolor\":\"white\",\"ticks\":\"\"},\"bgcolor\":\"#E5ECF6\",\"caxis\":{\"gridcolor\":\"white\",\"linecolor\":\"white\",\"ticks\":\"\"}},\"title\":{\"x\":0.05},\"xaxis\":{\"automargin\":true,\"gridcolor\":\"white\",\"linecolor\":\"white\",\"ticks\":\"\",\"title\":{\"standoff\":15},\"zerolinecolor\":\"white\",\"zerolinewidth\":2},\"yaxis\":{\"automargin\":true,\"gridcolor\":\"white\",\"linecolor\":\"white\",\"ticks\":\"\",\"title\":{\"standoff\":15},\"zerolinecolor\":\"white\",\"zerolinewidth\":2}}},\"xaxis\":{\"anchor\":\"y\",\"domain\":[0.0,1.0],\"title\":{\"text\":\"0\"}},\"yaxis\":{\"anchor\":\"x\",\"domain\":[0.0,1.0],\"title\":{\"text\":\"1\"}},\"coloraxis\":{\"colorbar\":{\"title\":{\"text\":\"index\"}},\"colorscale\":[[0.0,\"#0d0887\"],[0.1111111111111111,\"#46039f\"],[0.2222222222222222,\"#7201a8\"],[0.3333333333333333,\"#9c179e\"],[0.4444444444444444,\"#bd3786\"],[0.5555555555555556,\"#d8576b\"],[0.6666666666666666,\"#ed7953\"],[0.7777777777777778,\"#fb9f3a\"],[0.8888888888888888,\"#fdca26\"],[1.0,\"#f0f921\"]]},\"legend\":{\"tracegroupgap\":0},\"margin\":{\"t\":60},\"height\":600,\"width\":1200},                        {\"responsive\": true}                    ).then(function(){\n",
       "                            \n",
       "var gd = document.getElementById('9519433c-2992-4a5d-b3f0-76ea3252dbd6');\n",
       "var x = new MutationObserver(function (mutations, observer) {{\n",
       "        var display = window.getComputedStyle(gd).display;\n",
       "        if (!display || display === 'none') {{\n",
       "            console.log([gd, 'removed!']);\n",
       "            Plotly.purge(gd);\n",
       "            observer.disconnect();\n",
       "        }}\n",
       "}});\n",
       "\n",
       "// Listen for the removal of the full notebook cells\n",
       "var notebookContainer = gd.closest('#notebook-container');\n",
       "if (notebookContainer) {{\n",
       "    x.observe(notebookContainer, {childList: true});\n",
       "}}\n",
       "\n",
       "// Listen for the clearing of the current output cell\n",
       "var outputEl = gd.closest('.output');\n",
       "if (outputEl) {{\n",
       "    x.observe(outputEl, {childList: true});\n",
       "}}\n",
       "\n",
       "                        })                };                });            </script>        </div>"
      ]
     },
     "metadata": {},
     "output_type": "display_data"
    },
    {
     "data": {
      "text/plain": [
       "[PCA(n_components=10),\n",
       "            0         1         2         3         4         5         6  \\\n",
       " 0                                                                          \n",
       "  0 -0.416843  0.020224 -0.134373 -0.422739  1.117425 -0.911315  0.164074   \n",
       "  0 -0.097530 -0.118202 -0.357187 -0.543527  1.255056 -0.805280  0.212085   \n",
       " -1  0.625395 -0.271304 -0.397123 -0.684761  0.961544 -0.177153 -0.100850   \n",
       " -1  0.342195 -0.167423 -0.531378 -0.752558  0.705333 -0.105400 -0.016465   \n",
       " -1  0.695850 -0.326762 -0.653742 -0.589246  0.565728 -0.154238 -0.030492   \n",
       " ..       ...       ...       ...       ...       ...       ...       ...   \n",
       "  0 -1.111623 -0.414428 -0.023643 -0.313664  0.410218 -0.070886  0.077881   \n",
       "  0 -0.998532 -0.545552  0.000383 -0.111610  0.517352 -0.168875  0.210913   \n",
       "  0 -1.277212 -0.721373 -0.091816 -0.079679  0.523651 -0.172907  0.196826   \n",
       "  0 -1.468588  0.338654  1.042100  0.610929 -1.223327 -0.314665 -0.240865   \n",
       "  0 -1.471560  0.410122  1.025410  0.720912 -1.259193 -0.345731 -0.318218   \n",
       " \n",
       "            7         8         9  \n",
       " 0                                 \n",
       "  0  0.082151  0.244675 -0.308098  \n",
       "  0  0.291285  0.215226 -0.268556  \n",
       " -1  0.401583  0.519107  0.405649  \n",
       " -1  0.572196  0.462941  0.435950  \n",
       " -1  0.362368  0.386930  0.306959  \n",
       " ..       ...       ...       ...  \n",
       "  0 -0.180406 -0.199236 -0.077605  \n",
       "  0 -0.084040  0.151553 -0.244621  \n",
       "  0  0.009412  0.067071 -0.247585  \n",
       "  0  0.252364 -0.443758  0.586660  \n",
       "  0  0.340688 -0.467749  0.621227  \n",
       " \n",
       " [2048 rows x 10 columns]]"
      ]
     },
     "execution_count": 150,
     "metadata": {},
     "output_type": "execute_result"
    }
   ],
   "source": [
    "std_func.pca_visualize_2d(doc_vec, pd.DataFrame(clustering.labels_))"
   ]
  },
  {
   "cell_type": "code",
   "execution_count": 23,
   "id": "50fe6bec-a279-4f0a-8883-d2abb6caef98",
   "metadata": {},
   "outputs": [
    {
     "data": {
      "text/plain": [
       "[('dell', 0.8513152003288269),\n",
       " ('microsoft', 0.8470609188079834),\n",
       " ('vmware', 0.8255583643913269),\n",
       " ('hpe', 0.8224751353263855),\n",
       " ('cisco', 0.8033583760261536),\n",
       " ('packard', 0.8021493554115295),\n",
       " ('hewlett', 0.8001822233200073),\n",
       " ('sap', 0.7618586421012878),\n",
       " ('northrop', 0.7528791427612305),\n",
       " ('grumman', 0.7433626651763916)]"
      ]
     },
     "execution_count": 23,
     "metadata": {},
     "output_type": "execute_result"
    }
   ],
   "source": [
    "model_w.wv.most_similar(positive =['ibm'])"
   ]
  },
  {
   "cell_type": "markdown",
   "id": "95cf9aa2-e7d4-48bd-a063-6e3317e0b459",
   "metadata": {},
   "source": [
    "The numer of features is actually the number of dimensions, so there are 300 \"topics\" in this space currently. We'll reduce that before moving forward."
   ]
  },
  {
   "cell_type": "code",
   "execution_count": 21,
   "id": "25508ece-3c3a-4072-b215-d043bdc82cec",
   "metadata": {},
   "outputs": [
    {
     "data": {
      "text/html": [
       "<div>\n",
       "<style scoped>\n",
       "    .dataframe tbody tr th:only-of-type {\n",
       "        vertical-align: middle;\n",
       "    }\n",
       "\n",
       "    .dataframe tbody tr th {\n",
       "        vertical-align: top;\n",
       "    }\n",
       "\n",
       "    .dataframe thead th {\n",
       "        text-align: right;\n",
       "    }\n",
       "</style>\n",
       "<table border=\"1\" class=\"dataframe\">\n",
       "  <thead>\n",
       "    <tr style=\"text-align: right;\">\n",
       "      <th></th>\n",
       "      <th>filingDate</th>\n",
       "      <th>CIK</th>\n",
       "      <th>name</th>\n",
       "      <th>0</th>\n",
       "      <th>1</th>\n",
       "      <th>2</th>\n",
       "      <th>3</th>\n",
       "      <th>4</th>\n",
       "      <th>5</th>\n",
       "      <th>6</th>\n",
       "      <th>7</th>\n",
       "      <th>8</th>\n",
       "      <th>9</th>\n",
       "    </tr>\n",
       "  </thead>\n",
       "  <tbody>\n",
       "    <tr>\n",
       "      <th>0</th>\n",
       "      <td>2016-11-21 18:23:28 UTC</td>\n",
       "      <td>2969</td>\n",
       "      <td>NaN</td>\n",
       "      <td>-0.416842</td>\n",
       "      <td>0.020224</td>\n",
       "      <td>-0.134374</td>\n",
       "      <td>-0.422729</td>\n",
       "      <td>1.117422</td>\n",
       "      <td>-0.911318</td>\n",
       "      <td>0.164078</td>\n",
       "      <td>0.082147</td>\n",
       "      <td>0.244678</td>\n",
       "      <td>-0.308087</td>\n",
       "    </tr>\n",
       "    <tr>\n",
       "      <th>1</th>\n",
       "      <td>2018-11-20 19:47:42 UTC</td>\n",
       "      <td>2969</td>\n",
       "      <td>NaN</td>\n",
       "      <td>-0.097531</td>\n",
       "      <td>-0.118204</td>\n",
       "      <td>-0.357185</td>\n",
       "      <td>-0.543530</td>\n",
       "      <td>1.255055</td>\n",
       "      <td>-0.805281</td>\n",
       "      <td>0.212094</td>\n",
       "      <td>0.291281</td>\n",
       "      <td>0.215228</td>\n",
       "      <td>-0.268553</td>\n",
       "    </tr>\n",
       "    <tr>\n",
       "      <th>2</th>\n",
       "      <td>2016-12-06 22:05:12 UTC</td>\n",
       "      <td>3545</td>\n",
       "      <td>NaN</td>\n",
       "      <td>0.625394</td>\n",
       "      <td>-0.271305</td>\n",
       "      <td>-0.397121</td>\n",
       "      <td>-0.684758</td>\n",
       "      <td>0.961543</td>\n",
       "      <td>-0.177152</td>\n",
       "      <td>-0.100845</td>\n",
       "      <td>0.401583</td>\n",
       "      <td>0.519135</td>\n",
       "      <td>0.405638</td>\n",
       "    </tr>\n",
       "    <tr>\n",
       "      <th>3</th>\n",
       "      <td>2017-12-11 22:13:06 UTC</td>\n",
       "      <td>3545</td>\n",
       "      <td>NaN</td>\n",
       "      <td>0.342194</td>\n",
       "      <td>-0.167424</td>\n",
       "      <td>-0.531378</td>\n",
       "      <td>-0.752558</td>\n",
       "      <td>0.705329</td>\n",
       "      <td>-0.105399</td>\n",
       "      <td>-0.016461</td>\n",
       "      <td>0.572199</td>\n",
       "      <td>0.462956</td>\n",
       "      <td>0.435949</td>\n",
       "    </tr>\n",
       "    <tr>\n",
       "      <th>4</th>\n",
       "      <td>2018-12-06 21:58:38 UTC</td>\n",
       "      <td>3545</td>\n",
       "      <td>NaN</td>\n",
       "      <td>0.695849</td>\n",
       "      <td>-0.326763</td>\n",
       "      <td>-0.653741</td>\n",
       "      <td>-0.589245</td>\n",
       "      <td>0.565730</td>\n",
       "      <td>-0.154236</td>\n",
       "      <td>-0.030489</td>\n",
       "      <td>0.362370</td>\n",
       "      <td>0.386933</td>\n",
       "      <td>0.306964</td>\n",
       "    </tr>\n",
       "    <tr>\n",
       "      <th>...</th>\n",
       "      <td>...</td>\n",
       "      <td>...</td>\n",
       "      <td>...</td>\n",
       "      <td>...</td>\n",
       "      <td>...</td>\n",
       "      <td>...</td>\n",
       "      <td>...</td>\n",
       "      <td>...</td>\n",
       "      <td>...</td>\n",
       "      <td>...</td>\n",
       "      <td>...</td>\n",
       "      <td>...</td>\n",
       "      <td>...</td>\n",
       "    </tr>\n",
       "    <tr>\n",
       "      <th>2043</th>\n",
       "      <td>2016-12-19 14:14:40 UTC</td>\n",
       "      <td>1674910</td>\n",
       "      <td>NaN</td>\n",
       "      <td>-1.111624</td>\n",
       "      <td>-0.414428</td>\n",
       "      <td>-0.023642</td>\n",
       "      <td>-0.313664</td>\n",
       "      <td>0.410218</td>\n",
       "      <td>-0.070885</td>\n",
       "      <td>0.077880</td>\n",
       "      <td>-0.180405</td>\n",
       "      <td>-0.199243</td>\n",
       "      <td>-0.077608</td>\n",
       "    </tr>\n",
       "    <tr>\n",
       "      <th>2044</th>\n",
       "      <td>2017-11-17 17:10:16 UTC</td>\n",
       "      <td>1674910</td>\n",
       "      <td>NaN</td>\n",
       "      <td>-0.998532</td>\n",
       "      <td>-0.545552</td>\n",
       "      <td>0.000384</td>\n",
       "      <td>-0.111609</td>\n",
       "      <td>0.517351</td>\n",
       "      <td>-0.168874</td>\n",
       "      <td>0.210910</td>\n",
       "      <td>-0.084041</td>\n",
       "      <td>0.151529</td>\n",
       "      <td>-0.244610</td>\n",
       "    </tr>\n",
       "    <tr>\n",
       "      <th>2045</th>\n",
       "      <td>2018-11-21 17:02:09 UTC</td>\n",
       "      <td>1674910</td>\n",
       "      <td>NaN</td>\n",
       "      <td>-1.277214</td>\n",
       "      <td>-0.721372</td>\n",
       "      <td>-0.091815</td>\n",
       "      <td>-0.079680</td>\n",
       "      <td>0.523651</td>\n",
       "      <td>-0.172906</td>\n",
       "      <td>0.196823</td>\n",
       "      <td>0.009411</td>\n",
       "      <td>0.067043</td>\n",
       "      <td>-0.247568</td>\n",
       "    </tr>\n",
       "    <tr>\n",
       "      <th>2046</th>\n",
       "      <td>2019-09-18T21:17:24Z</td>\n",
       "      <td>1713683</td>\n",
       "      <td>NaN</td>\n",
       "      <td>-1.468586</td>\n",
       "      <td>0.338656</td>\n",
       "      <td>1.042100</td>\n",
       "      <td>0.610932</td>\n",
       "      <td>-1.223326</td>\n",
       "      <td>-0.314667</td>\n",
       "      <td>-0.240860</td>\n",
       "      <td>0.252363</td>\n",
       "      <td>-0.443726</td>\n",
       "      <td>0.586616</td>\n",
       "    </tr>\n",
       "    <tr>\n",
       "      <th>2047</th>\n",
       "      <td>2020-09-17T20:23:12Z</td>\n",
       "      <td>1713683</td>\n",
       "      <td>NaN</td>\n",
       "      <td>-1.471559</td>\n",
       "      <td>0.410124</td>\n",
       "      <td>1.025409</td>\n",
       "      <td>0.720914</td>\n",
       "      <td>-1.259192</td>\n",
       "      <td>-0.345734</td>\n",
       "      <td>-0.318211</td>\n",
       "      <td>0.340688</td>\n",
       "      <td>-0.467719</td>\n",
       "      <td>0.621188</td>\n",
       "    </tr>\n",
       "  </tbody>\n",
       "</table>\n",
       "<p>2048 rows × 13 columns</p>\n",
       "</div>"
      ],
      "text/plain": [
       "                   filingDate      CIK name         0         1         2  \\\n",
       "0     2016-11-21 18:23:28 UTC     2969  NaN -0.416842  0.020224 -0.134374   \n",
       "1     2018-11-20 19:47:42 UTC     2969  NaN -0.097531 -0.118204 -0.357185   \n",
       "2     2016-12-06 22:05:12 UTC     3545  NaN  0.625394 -0.271305 -0.397121   \n",
       "3     2017-12-11 22:13:06 UTC     3545  NaN  0.342194 -0.167424 -0.531378   \n",
       "4     2018-12-06 21:58:38 UTC     3545  NaN  0.695849 -0.326763 -0.653741   \n",
       "...                       ...      ...  ...       ...       ...       ...   \n",
       "2043  2016-12-19 14:14:40 UTC  1674910  NaN -1.111624 -0.414428 -0.023642   \n",
       "2044  2017-11-17 17:10:16 UTC  1674910  NaN -0.998532 -0.545552  0.000384   \n",
       "2045  2018-11-21 17:02:09 UTC  1674910  NaN -1.277214 -0.721372 -0.091815   \n",
       "2046     2019-09-18T21:17:24Z  1713683  NaN -1.468586  0.338656  1.042100   \n",
       "2047     2020-09-17T20:23:12Z  1713683  NaN -1.471559  0.410124  1.025409   \n",
       "\n",
       "             3         4         5         6         7         8         9  \n",
       "0    -0.422729  1.117422 -0.911318  0.164078  0.082147  0.244678 -0.308087  \n",
       "1    -0.543530  1.255055 -0.805281  0.212094  0.291281  0.215228 -0.268553  \n",
       "2    -0.684758  0.961543 -0.177152 -0.100845  0.401583  0.519135  0.405638  \n",
       "3    -0.752558  0.705329 -0.105399 -0.016461  0.572199  0.462956  0.435949  \n",
       "4    -0.589245  0.565730 -0.154236 -0.030489  0.362370  0.386933  0.306964  \n",
       "...        ...       ...       ...       ...       ...       ...       ...  \n",
       "2043 -0.313664  0.410218 -0.070885  0.077880 -0.180405 -0.199243 -0.077608  \n",
       "2044 -0.111609  0.517351 -0.168874  0.210910 -0.084041  0.151529 -0.244610  \n",
       "2045 -0.079680  0.523651 -0.172906  0.196823  0.009411  0.067043 -0.247568  \n",
       "2046  0.610932 -1.223326 -0.314667 -0.240860  0.252363 -0.443726  0.586616  \n",
       "2047  0.720914 -1.259192 -0.345734 -0.318211  0.340688 -0.467719  0.621188  \n",
       "\n",
       "[2048 rows x 13 columns]"
      ]
     },
     "execution_count": 21,
     "metadata": {},
     "output_type": "execute_result"
    }
   ],
   "source": [
    "# Since its not sparse, PCA should work just fine\n",
    "multi_index = pd.MultiIndex.from_frame(final.loc[:,[\"filingDate\",\"CIK\", \"name\"]])\n",
    "    \n",
    "from sklearn.decomposition import PCA\n",
    "pca = PCA(n_components = 10)\n",
    "pca_embedding = pca.fit_transform(doc_vec)\n",
    "pca_embedding = pd.DataFrame(pca_embedding, index = multi_index).reset_index()\n",
    "pca_embedding"
   ]
  },
  {
   "cell_type": "code",
   "execution_count": null,
   "id": "691e571f-73da-45e6-af1e-8a84715a21a2",
   "metadata": {},
   "outputs": [],
   "source": [
    "data_word2vec = pd.concat([final.loc[:,[\"filingDate\",\"CIK\", \"name\"]],doc_vec], axis = 1)\n",
    "delta_word2vec = deltas(final, data_word2vec, model_w.wv.index_to_key)\n",
    "delta_word2vec"
   ]
  },
  {
   "cell_type": "code",
   "execution_count": 24,
   "id": "aaef5485-d03c-4b7a-932c-1ada89c9f52e",
   "metadata": {},
   "outputs": [
    {
     "data": {
      "text/html": [
       "<div>\n",
       "<style scoped>\n",
       "    .dataframe tbody tr th:only-of-type {\n",
       "        vertical-align: middle;\n",
       "    }\n",
       "\n",
       "    .dataframe tbody tr th {\n",
       "        vertical-align: top;\n",
       "    }\n",
       "\n",
       "    .dataframe thead th {\n",
       "        text-align: right;\n",
       "    }\n",
       "</style>\n",
       "<table border=\"1\" class=\"dataframe\">\n",
       "  <thead>\n",
       "    <tr style=\"text-align: right;\">\n",
       "      <th></th>\n",
       "      <th>filingDate</th>\n",
       "      <th>CIK</th>\n",
       "      <th>name</th>\n",
       "      <th>0</th>\n",
       "      <th>1</th>\n",
       "      <th>2</th>\n",
       "      <th>3</th>\n",
       "      <th>4</th>\n",
       "      <th>5</th>\n",
       "      <th>6</th>\n",
       "      <th>...</th>\n",
       "      <th>990</th>\n",
       "      <th>991</th>\n",
       "      <th>992</th>\n",
       "      <th>993</th>\n",
       "      <th>994</th>\n",
       "      <th>995</th>\n",
       "      <th>996</th>\n",
       "      <th>997</th>\n",
       "      <th>998</th>\n",
       "      <th>999</th>\n",
       "    </tr>\n",
       "  </thead>\n",
       "  <tbody>\n",
       "    <tr>\n",
       "      <th>0</th>\n",
       "      <td>2016-11-21 18:23:28 UTC</td>\n",
       "      <td>2969</td>\n",
       "      <td>NaN</td>\n",
       "      <td>0.023703</td>\n",
       "      <td>0.144850</td>\n",
       "      <td>-0.159633</td>\n",
       "      <td>-0.063674</td>\n",
       "      <td>0.110550</td>\n",
       "      <td>-0.067106</td>\n",
       "      <td>0.003101</td>\n",
       "      <td>...</td>\n",
       "      <td>-0.143594</td>\n",
       "      <td>0.096299</td>\n",
       "      <td>0.082070</td>\n",
       "      <td>-0.262010</td>\n",
       "      <td>0.017210</td>\n",
       "      <td>-0.111774</td>\n",
       "      <td>0.044098</td>\n",
       "      <td>0.069257</td>\n",
       "      <td>0.012540</td>\n",
       "      <td>0.006471</td>\n",
       "    </tr>\n",
       "    <tr>\n",
       "      <th>1</th>\n",
       "      <td>2018-11-20 19:47:42 UTC</td>\n",
       "      <td>2969</td>\n",
       "      <td>NaN</td>\n",
       "      <td>0.023353</td>\n",
       "      <td>0.123273</td>\n",
       "      <td>-0.161382</td>\n",
       "      <td>-0.065698</td>\n",
       "      <td>0.064582</td>\n",
       "      <td>-0.062078</td>\n",
       "      <td>-0.005891</td>\n",
       "      <td>...</td>\n",
       "      <td>-0.124681</td>\n",
       "      <td>0.096346</td>\n",
       "      <td>0.069708</td>\n",
       "      <td>-0.262474</td>\n",
       "      <td>0.053164</td>\n",
       "      <td>-0.100390</td>\n",
       "      <td>0.046597</td>\n",
       "      <td>0.093191</td>\n",
       "      <td>0.002270</td>\n",
       "      <td>-0.005885</td>\n",
       "    </tr>\n",
       "    <tr>\n",
       "      <th>2</th>\n",
       "      <td>2016-12-06 22:05:12 UTC</td>\n",
       "      <td>3545</td>\n",
       "      <td>NaN</td>\n",
       "      <td>0.005979</td>\n",
       "      <td>0.097758</td>\n",
       "      <td>-0.177626</td>\n",
       "      <td>-0.078089</td>\n",
       "      <td>0.025049</td>\n",
       "      <td>-0.089145</td>\n",
       "      <td>-0.030858</td>\n",
       "      <td>...</td>\n",
       "      <td>-0.084448</td>\n",
       "      <td>0.054754</td>\n",
       "      <td>0.018183</td>\n",
       "      <td>-0.290879</td>\n",
       "      <td>0.066061</td>\n",
       "      <td>-0.043679</td>\n",
       "      <td>0.013495</td>\n",
       "      <td>0.122585</td>\n",
       "      <td>0.006847</td>\n",
       "      <td>-0.002575</td>\n",
       "    </tr>\n",
       "    <tr>\n",
       "      <th>3</th>\n",
       "      <td>2017-12-11 22:13:06 UTC</td>\n",
       "      <td>3545</td>\n",
       "      <td>NaN</td>\n",
       "      <td>0.023022</td>\n",
       "      <td>0.096495</td>\n",
       "      <td>-0.158665</td>\n",
       "      <td>-0.080823</td>\n",
       "      <td>0.042373</td>\n",
       "      <td>-0.078653</td>\n",
       "      <td>-0.045246</td>\n",
       "      <td>...</td>\n",
       "      <td>-0.098387</td>\n",
       "      <td>0.050233</td>\n",
       "      <td>0.013050</td>\n",
       "      <td>-0.273518</td>\n",
       "      <td>0.108556</td>\n",
       "      <td>-0.053433</td>\n",
       "      <td>0.016131</td>\n",
       "      <td>0.142819</td>\n",
       "      <td>0.001853</td>\n",
       "      <td>0.019209</td>\n",
       "    </tr>\n",
       "    <tr>\n",
       "      <th>4</th>\n",
       "      <td>2018-12-06 21:58:38 UTC</td>\n",
       "      <td>3545</td>\n",
       "      <td>NaN</td>\n",
       "      <td>0.021777</td>\n",
       "      <td>0.091372</td>\n",
       "      <td>-0.185557</td>\n",
       "      <td>-0.054333</td>\n",
       "      <td>0.067185</td>\n",
       "      <td>-0.065556</td>\n",
       "      <td>-0.055892</td>\n",
       "      <td>...</td>\n",
       "      <td>-0.102267</td>\n",
       "      <td>0.050142</td>\n",
       "      <td>0.035674</td>\n",
       "      <td>-0.269403</td>\n",
       "      <td>0.120507</td>\n",
       "      <td>-0.067137</td>\n",
       "      <td>-0.016278</td>\n",
       "      <td>0.125620</td>\n",
       "      <td>0.008741</td>\n",
       "      <td>0.017835</td>\n",
       "    </tr>\n",
       "    <tr>\n",
       "      <th>...</th>\n",
       "      <td>...</td>\n",
       "      <td>...</td>\n",
       "      <td>...</td>\n",
       "      <td>...</td>\n",
       "      <td>...</td>\n",
       "      <td>...</td>\n",
       "      <td>...</td>\n",
       "      <td>...</td>\n",
       "      <td>...</td>\n",
       "      <td>...</td>\n",
       "      <td>...</td>\n",
       "      <td>...</td>\n",
       "      <td>...</td>\n",
       "      <td>...</td>\n",
       "      <td>...</td>\n",
       "      <td>...</td>\n",
       "      <td>...</td>\n",
       "      <td>...</td>\n",
       "      <td>...</td>\n",
       "      <td>...</td>\n",
       "      <td>...</td>\n",
       "    </tr>\n",
       "    <tr>\n",
       "      <th>2043</th>\n",
       "      <td>2016-12-19 14:14:40 UTC</td>\n",
       "      <td>1674910</td>\n",
       "      <td>NaN</td>\n",
       "      <td>0.076672</td>\n",
       "      <td>0.091424</td>\n",
       "      <td>-0.041851</td>\n",
       "      <td>-0.034433</td>\n",
       "      <td>0.104226</td>\n",
       "      <td>-0.121860</td>\n",
       "      <td>-0.021574</td>\n",
       "      <td>...</td>\n",
       "      <td>-0.129508</td>\n",
       "      <td>-0.002776</td>\n",
       "      <td>0.021277</td>\n",
       "      <td>-0.281418</td>\n",
       "      <td>0.087532</td>\n",
       "      <td>-0.096096</td>\n",
       "      <td>-0.005397</td>\n",
       "      <td>0.085088</td>\n",
       "      <td>-0.017917</td>\n",
       "      <td>-0.005212</td>\n",
       "    </tr>\n",
       "    <tr>\n",
       "      <th>2044</th>\n",
       "      <td>2017-11-17 17:10:16 UTC</td>\n",
       "      <td>1674910</td>\n",
       "      <td>NaN</td>\n",
       "      <td>0.068263</td>\n",
       "      <td>0.097216</td>\n",
       "      <td>-0.094650</td>\n",
       "      <td>-0.023004</td>\n",
       "      <td>0.077952</td>\n",
       "      <td>-0.107444</td>\n",
       "      <td>-0.010496</td>\n",
       "      <td>...</td>\n",
       "      <td>-0.106025</td>\n",
       "      <td>-0.000899</td>\n",
       "      <td>0.048366</td>\n",
       "      <td>-0.281222</td>\n",
       "      <td>0.057242</td>\n",
       "      <td>-0.081703</td>\n",
       "      <td>-0.010510</td>\n",
       "      <td>0.061374</td>\n",
       "      <td>0.015341</td>\n",
       "      <td>0.010517</td>\n",
       "    </tr>\n",
       "    <tr>\n",
       "      <th>2045</th>\n",
       "      <td>2018-11-21 17:02:09 UTC</td>\n",
       "      <td>1674910</td>\n",
       "      <td>NaN</td>\n",
       "      <td>0.077265</td>\n",
       "      <td>0.096097</td>\n",
       "      <td>-0.084789</td>\n",
       "      <td>0.002348</td>\n",
       "      <td>0.089179</td>\n",
       "      <td>-0.116914</td>\n",
       "      <td>-0.020680</td>\n",
       "      <td>...</td>\n",
       "      <td>-0.109730</td>\n",
       "      <td>-0.000387</td>\n",
       "      <td>0.043681</td>\n",
       "      <td>-0.268717</td>\n",
       "      <td>0.060265</td>\n",
       "      <td>-0.095206</td>\n",
       "      <td>0.009860</td>\n",
       "      <td>0.059700</td>\n",
       "      <td>0.016993</td>\n",
       "      <td>-0.000978</td>\n",
       "    </tr>\n",
       "    <tr>\n",
       "      <th>2046</th>\n",
       "      <td>2019-09-18T21:17:24Z</td>\n",
       "      <td>1713683</td>\n",
       "      <td>NaN</td>\n",
       "      <td>0.036018</td>\n",
       "      <td>0.159773</td>\n",
       "      <td>-0.060282</td>\n",
       "      <td>0.045059</td>\n",
       "      <td>0.189082</td>\n",
       "      <td>-0.247917</td>\n",
       "      <td>0.052228</td>\n",
       "      <td>...</td>\n",
       "      <td>-0.198900</td>\n",
       "      <td>0.006860</td>\n",
       "      <td>0.008129</td>\n",
       "      <td>-0.082448</td>\n",
       "      <td>0.103780</td>\n",
       "      <td>-0.091671</td>\n",
       "      <td>-0.021711</td>\n",
       "      <td>0.075506</td>\n",
       "      <td>-0.072542</td>\n",
       "      <td>0.009106</td>\n",
       "    </tr>\n",
       "    <tr>\n",
       "      <th>2047</th>\n",
       "      <td>2020-09-17T20:23:12Z</td>\n",
       "      <td>1713683</td>\n",
       "      <td>NaN</td>\n",
       "      <td>0.033636</td>\n",
       "      <td>0.163084</td>\n",
       "      <td>-0.051213</td>\n",
       "      <td>0.031467</td>\n",
       "      <td>0.173473</td>\n",
       "      <td>-0.238473</td>\n",
       "      <td>0.056183</td>\n",
       "      <td>...</td>\n",
       "      <td>-0.194293</td>\n",
       "      <td>-0.009133</td>\n",
       "      <td>0.000117</td>\n",
       "      <td>-0.067013</td>\n",
       "      <td>0.095379</td>\n",
       "      <td>-0.086369</td>\n",
       "      <td>-0.020790</td>\n",
       "      <td>0.070055</td>\n",
       "      <td>-0.073816</td>\n",
       "      <td>0.019002</td>\n",
       "    </tr>\n",
       "  </tbody>\n",
       "</table>\n",
       "<p>2048 rows × 1003 columns</p>\n",
       "</div>"
      ],
      "text/plain": [
       "                   filingDate      CIK name         0         1         2  \\\n",
       "0     2016-11-21 18:23:28 UTC     2969  NaN  0.023703  0.144850 -0.159633   \n",
       "1     2018-11-20 19:47:42 UTC     2969  NaN  0.023353  0.123273 -0.161382   \n",
       "2     2016-12-06 22:05:12 UTC     3545  NaN  0.005979  0.097758 -0.177626   \n",
       "3     2017-12-11 22:13:06 UTC     3545  NaN  0.023022  0.096495 -0.158665   \n",
       "4     2018-12-06 21:58:38 UTC     3545  NaN  0.021777  0.091372 -0.185557   \n",
       "...                       ...      ...  ...       ...       ...       ...   \n",
       "2043  2016-12-19 14:14:40 UTC  1674910  NaN  0.076672  0.091424 -0.041851   \n",
       "2044  2017-11-17 17:10:16 UTC  1674910  NaN  0.068263  0.097216 -0.094650   \n",
       "2045  2018-11-21 17:02:09 UTC  1674910  NaN  0.077265  0.096097 -0.084789   \n",
       "2046     2019-09-18T21:17:24Z  1713683  NaN  0.036018  0.159773 -0.060282   \n",
       "2047     2020-09-17T20:23:12Z  1713683  NaN  0.033636  0.163084 -0.051213   \n",
       "\n",
       "             3         4         5         6  ...       990       991  \\\n",
       "0    -0.063674  0.110550 -0.067106  0.003101  ... -0.143594  0.096299   \n",
       "1    -0.065698  0.064582 -0.062078 -0.005891  ... -0.124681  0.096346   \n",
       "2    -0.078089  0.025049 -0.089145 -0.030858  ... -0.084448  0.054754   \n",
       "3    -0.080823  0.042373 -0.078653 -0.045246  ... -0.098387  0.050233   \n",
       "4    -0.054333  0.067185 -0.065556 -0.055892  ... -0.102267  0.050142   \n",
       "...        ...       ...       ...       ...  ...       ...       ...   \n",
       "2043 -0.034433  0.104226 -0.121860 -0.021574  ... -0.129508 -0.002776   \n",
       "2044 -0.023004  0.077952 -0.107444 -0.010496  ... -0.106025 -0.000899   \n",
       "2045  0.002348  0.089179 -0.116914 -0.020680  ... -0.109730 -0.000387   \n",
       "2046  0.045059  0.189082 -0.247917  0.052228  ... -0.198900  0.006860   \n",
       "2047  0.031467  0.173473 -0.238473  0.056183  ... -0.194293 -0.009133   \n",
       "\n",
       "           992       993       994       995       996       997       998  \\\n",
       "0     0.082070 -0.262010  0.017210 -0.111774  0.044098  0.069257  0.012540   \n",
       "1     0.069708 -0.262474  0.053164 -0.100390  0.046597  0.093191  0.002270   \n",
       "2     0.018183 -0.290879  0.066061 -0.043679  0.013495  0.122585  0.006847   \n",
       "3     0.013050 -0.273518  0.108556 -0.053433  0.016131  0.142819  0.001853   \n",
       "4     0.035674 -0.269403  0.120507 -0.067137 -0.016278  0.125620  0.008741   \n",
       "...        ...       ...       ...       ...       ...       ...       ...   \n",
       "2043  0.021277 -0.281418  0.087532 -0.096096 -0.005397  0.085088 -0.017917   \n",
       "2044  0.048366 -0.281222  0.057242 -0.081703 -0.010510  0.061374  0.015341   \n",
       "2045  0.043681 -0.268717  0.060265 -0.095206  0.009860  0.059700  0.016993   \n",
       "2046  0.008129 -0.082448  0.103780 -0.091671 -0.021711  0.075506 -0.072542   \n",
       "2047  0.000117 -0.067013  0.095379 -0.086369 -0.020790  0.070055 -0.073816   \n",
       "\n",
       "           999  \n",
       "0     0.006471  \n",
       "1    -0.005885  \n",
       "2    -0.002575  \n",
       "3     0.019209  \n",
       "4     0.017835  \n",
       "...        ...  \n",
       "2043 -0.005212  \n",
       "2044  0.010517  \n",
       "2045 -0.000978  \n",
       "2046  0.009106  \n",
       "2047  0.019002  \n",
       "\n",
       "[2048 rows x 1003 columns]"
      ]
     },
     "execution_count": 24,
     "metadata": {},
     "output_type": "execute_result"
    }
   ],
   "source": [
    "data_word2vec"
   ]
  },
  {
   "cell_type": "markdown",
   "id": "ad4bb23a-0260-4ee0-9505-3a52e4886194",
   "metadata": {},
   "source": [
    "### doc2vec"
   ]
  },
  {
   "cell_type": "code",
   "execution_count": 30,
   "id": "ea3c9c81-d0ca-4a3c-999e-3a140ebc8c2e",
   "metadata": {},
   "outputs": [],
   "source": [
    "from gensim.models import doc2vec\n",
    "from collections import namedtuple\n",
    "\n",
    "docs = []\n",
    "analyzedDocument = namedtuple('AnalyzedDocument', 'words tags')\n",
    "for i, text in enumerate(final[\"coDescription_stopwords\"]):\n",
    "    words = text.lower().split()\n",
    "    tags = [i]\n",
    "    docs.append(analyzedDocument(words, tags))\n",
    "\n",
    "# Train model (set min_count = 1, if you want the model to work with the provided example data set)\n",
    "\n",
    "model = doc2vec.Doc2Vec(docs, vector_size = 100, window = 10, min_count = 1, workers = 4)"
   ]
  },
  {
   "cell_type": "code",
   "execution_count": 32,
   "id": "1cf9defd-1d88-48ad-a16e-018a0cb0852c",
   "metadata": {},
   "outputs": [
    {
     "data": {
      "text/html": [
       "<div>\n",
       "<style scoped>\n",
       "    .dataframe tbody tr th:only-of-type {\n",
       "        vertical-align: middle;\n",
       "    }\n",
       "\n",
       "    .dataframe tbody tr th {\n",
       "        vertical-align: top;\n",
       "    }\n",
       "\n",
       "    .dataframe thead th {\n",
       "        text-align: right;\n",
       "    }\n",
       "</style>\n",
       "<table border=\"1\" class=\"dataframe\">\n",
       "  <thead>\n",
       "    <tr style=\"text-align: right;\">\n",
       "      <th></th>\n",
       "      <th>0</th>\n",
       "      <th>1</th>\n",
       "      <th>2</th>\n",
       "      <th>3</th>\n",
       "      <th>4</th>\n",
       "      <th>5</th>\n",
       "      <th>6</th>\n",
       "      <th>7</th>\n",
       "      <th>8</th>\n",
       "      <th>9</th>\n",
       "      <th>...</th>\n",
       "      <th>90</th>\n",
       "      <th>91</th>\n",
       "      <th>92</th>\n",
       "      <th>93</th>\n",
       "      <th>94</th>\n",
       "      <th>95</th>\n",
       "      <th>96</th>\n",
       "      <th>97</th>\n",
       "      <th>98</th>\n",
       "      <th>99</th>\n",
       "    </tr>\n",
       "  </thead>\n",
       "  <tbody>\n",
       "    <tr>\n",
       "      <th>0</th>\n",
       "      <td>-3.051048</td>\n",
       "      <td>0.253475</td>\n",
       "      <td>-0.951298</td>\n",
       "      <td>3.518957</td>\n",
       "      <td>-0.751801</td>\n",
       "      <td>-2.387775</td>\n",
       "      <td>-0.370758</td>\n",
       "      <td>0.348537</td>\n",
       "      <td>0.718760</td>\n",
       "      <td>-1.764036</td>\n",
       "      <td>...</td>\n",
       "      <td>-1.764057</td>\n",
       "      <td>0.307324</td>\n",
       "      <td>0.166119</td>\n",
       "      <td>0.703162</td>\n",
       "      <td>-0.051421</td>\n",
       "      <td>0.269129</td>\n",
       "      <td>-0.586581</td>\n",
       "      <td>0.755735</td>\n",
       "      <td>0.708616</td>\n",
       "      <td>0.808425</td>\n",
       "    </tr>\n",
       "    <tr>\n",
       "      <th>1</th>\n",
       "      <td>-1.655112</td>\n",
       "      <td>0.694850</td>\n",
       "      <td>-1.001633</td>\n",
       "      <td>1.523340</td>\n",
       "      <td>-0.759324</td>\n",
       "      <td>-1.898958</td>\n",
       "      <td>-0.112997</td>\n",
       "      <td>1.212084</td>\n",
       "      <td>0.630468</td>\n",
       "      <td>-1.614710</td>\n",
       "      <td>...</td>\n",
       "      <td>-0.898622</td>\n",
       "      <td>0.787086</td>\n",
       "      <td>-0.119582</td>\n",
       "      <td>-0.013321</td>\n",
       "      <td>0.218807</td>\n",
       "      <td>0.570462</td>\n",
       "      <td>-0.174041</td>\n",
       "      <td>0.344321</td>\n",
       "      <td>0.813839</td>\n",
       "      <td>0.074351</td>\n",
       "    </tr>\n",
       "    <tr>\n",
       "      <th>2</th>\n",
       "      <td>-0.141264</td>\n",
       "      <td>-1.681212</td>\n",
       "      <td>0.391510</td>\n",
       "      <td>2.711329</td>\n",
       "      <td>0.527538</td>\n",
       "      <td>-0.961517</td>\n",
       "      <td>-1.062484</td>\n",
       "      <td>1.538146</td>\n",
       "      <td>-1.215151</td>\n",
       "      <td>0.497041</td>\n",
       "      <td>...</td>\n",
       "      <td>-1.231325</td>\n",
       "      <td>0.004381</td>\n",
       "      <td>-1.270467</td>\n",
       "      <td>-1.794680</td>\n",
       "      <td>-0.345118</td>\n",
       "      <td>0.133558</td>\n",
       "      <td>-3.775104</td>\n",
       "      <td>-0.050446</td>\n",
       "      <td>0.737989</td>\n",
       "      <td>1.577506</td>\n",
       "    </tr>\n",
       "    <tr>\n",
       "      <th>3</th>\n",
       "      <td>0.536905</td>\n",
       "      <td>-1.394027</td>\n",
       "      <td>0.288564</td>\n",
       "      <td>3.026688</td>\n",
       "      <td>0.048039</td>\n",
       "      <td>-0.415095</td>\n",
       "      <td>-0.684334</td>\n",
       "      <td>1.916261</td>\n",
       "      <td>-1.397017</td>\n",
       "      <td>0.243556</td>\n",
       "      <td>...</td>\n",
       "      <td>-0.213026</td>\n",
       "      <td>-0.006994</td>\n",
       "      <td>-1.649310</td>\n",
       "      <td>-1.658854</td>\n",
       "      <td>-0.347259</td>\n",
       "      <td>0.509019</td>\n",
       "      <td>-3.537075</td>\n",
       "      <td>-0.566232</td>\n",
       "      <td>1.507961</td>\n",
       "      <td>2.723496</td>\n",
       "    </tr>\n",
       "    <tr>\n",
       "      <th>4</th>\n",
       "      <td>0.662810</td>\n",
       "      <td>-1.337121</td>\n",
       "      <td>0.819483</td>\n",
       "      <td>3.603098</td>\n",
       "      <td>0.725177</td>\n",
       "      <td>-0.613836</td>\n",
       "      <td>-1.507574</td>\n",
       "      <td>1.555855</td>\n",
       "      <td>-1.503769</td>\n",
       "      <td>0.123721</td>\n",
       "      <td>...</td>\n",
       "      <td>-0.896086</td>\n",
       "      <td>-0.401410</td>\n",
       "      <td>-1.336095</td>\n",
       "      <td>-2.706908</td>\n",
       "      <td>-1.521248</td>\n",
       "      <td>0.130104</td>\n",
       "      <td>-3.949862</td>\n",
       "      <td>-0.156999</td>\n",
       "      <td>0.897526</td>\n",
       "      <td>2.664618</td>\n",
       "    </tr>\n",
       "    <tr>\n",
       "      <th>...</th>\n",
       "      <td>...</td>\n",
       "      <td>...</td>\n",
       "      <td>...</td>\n",
       "      <td>...</td>\n",
       "      <td>...</td>\n",
       "      <td>...</td>\n",
       "      <td>...</td>\n",
       "      <td>...</td>\n",
       "      <td>...</td>\n",
       "      <td>...</td>\n",
       "      <td>...</td>\n",
       "      <td>...</td>\n",
       "      <td>...</td>\n",
       "      <td>...</td>\n",
       "      <td>...</td>\n",
       "      <td>...</td>\n",
       "      <td>...</td>\n",
       "      <td>...</td>\n",
       "      <td>...</td>\n",
       "      <td>...</td>\n",
       "      <td>...</td>\n",
       "    </tr>\n",
       "    <tr>\n",
       "      <th>2043</th>\n",
       "      <td>-2.063368</td>\n",
       "      <td>-0.619451</td>\n",
       "      <td>-0.578013</td>\n",
       "      <td>0.905911</td>\n",
       "      <td>-1.311219</td>\n",
       "      <td>-1.389979</td>\n",
       "      <td>-0.920360</td>\n",
       "      <td>-0.665336</td>\n",
       "      <td>-0.270203</td>\n",
       "      <td>0.052091</td>\n",
       "      <td>...</td>\n",
       "      <td>-1.075685</td>\n",
       "      <td>0.794337</td>\n",
       "      <td>-0.369984</td>\n",
       "      <td>-1.490996</td>\n",
       "      <td>0.398029</td>\n",
       "      <td>0.390516</td>\n",
       "      <td>0.810768</td>\n",
       "      <td>0.878884</td>\n",
       "      <td>1.555373</td>\n",
       "      <td>0.944651</td>\n",
       "    </tr>\n",
       "    <tr>\n",
       "      <th>2044</th>\n",
       "      <td>-1.421092</td>\n",
       "      <td>0.290334</td>\n",
       "      <td>-0.262481</td>\n",
       "      <td>1.192366</td>\n",
       "      <td>-1.066384</td>\n",
       "      <td>-1.578804</td>\n",
       "      <td>0.174008</td>\n",
       "      <td>0.038281</td>\n",
       "      <td>0.310822</td>\n",
       "      <td>0.447060</td>\n",
       "      <td>...</td>\n",
       "      <td>-1.601981</td>\n",
       "      <td>1.468989</td>\n",
       "      <td>-0.023442</td>\n",
       "      <td>-0.882296</td>\n",
       "      <td>-0.111494</td>\n",
       "      <td>-0.194219</td>\n",
       "      <td>0.367654</td>\n",
       "      <td>0.348402</td>\n",
       "      <td>2.195239</td>\n",
       "      <td>0.500580</td>\n",
       "    </tr>\n",
       "    <tr>\n",
       "      <th>2045</th>\n",
       "      <td>-1.069337</td>\n",
       "      <td>-0.158165</td>\n",
       "      <td>-0.019502</td>\n",
       "      <td>1.433486</td>\n",
       "      <td>-0.677953</td>\n",
       "      <td>-2.510392</td>\n",
       "      <td>-0.014346</td>\n",
       "      <td>-0.231630</td>\n",
       "      <td>-0.285932</td>\n",
       "      <td>1.043552</td>\n",
       "      <td>...</td>\n",
       "      <td>-1.675631</td>\n",
       "      <td>0.833476</td>\n",
       "      <td>-0.360580</td>\n",
       "      <td>-0.499222</td>\n",
       "      <td>-0.652417</td>\n",
       "      <td>-0.279180</td>\n",
       "      <td>1.015080</td>\n",
       "      <td>-0.097226</td>\n",
       "      <td>1.868272</td>\n",
       "      <td>0.352241</td>\n",
       "    </tr>\n",
       "    <tr>\n",
       "      <th>2046</th>\n",
       "      <td>-1.436986</td>\n",
       "      <td>1.040861</td>\n",
       "      <td>-1.068703</td>\n",
       "      <td>-1.233667</td>\n",
       "      <td>-3.261262</td>\n",
       "      <td>-0.673878</td>\n",
       "      <td>-0.156417</td>\n",
       "      <td>1.493029</td>\n",
       "      <td>-1.027173</td>\n",
       "      <td>-1.885857</td>\n",
       "      <td>...</td>\n",
       "      <td>0.321441</td>\n",
       "      <td>1.922244</td>\n",
       "      <td>-0.862206</td>\n",
       "      <td>0.645308</td>\n",
       "      <td>0.497194</td>\n",
       "      <td>-0.194687</td>\n",
       "      <td>0.969496</td>\n",
       "      <td>0.178638</td>\n",
       "      <td>0.725196</td>\n",
       "      <td>-3.664975</td>\n",
       "    </tr>\n",
       "    <tr>\n",
       "      <th>2047</th>\n",
       "      <td>-1.647257</td>\n",
       "      <td>1.214259</td>\n",
       "      <td>-0.800049</td>\n",
       "      <td>-1.050368</td>\n",
       "      <td>-3.387856</td>\n",
       "      <td>0.112336</td>\n",
       "      <td>-0.375355</td>\n",
       "      <td>1.858664</td>\n",
       "      <td>-0.607842</td>\n",
       "      <td>-2.042090</td>\n",
       "      <td>...</td>\n",
       "      <td>0.642695</td>\n",
       "      <td>2.450063</td>\n",
       "      <td>-0.798839</td>\n",
       "      <td>0.043617</td>\n",
       "      <td>1.009588</td>\n",
       "      <td>1.358638</td>\n",
       "      <td>1.016502</td>\n",
       "      <td>0.169809</td>\n",
       "      <td>-1.079128</td>\n",
       "      <td>-4.313022</td>\n",
       "    </tr>\n",
       "  </tbody>\n",
       "</table>\n",
       "<p>2048 rows × 100 columns</p>\n",
       "</div>"
      ],
      "text/plain": [
       "            0         1         2         3         4         5         6   \\\n",
       "0    -3.051048  0.253475 -0.951298  3.518957 -0.751801 -2.387775 -0.370758   \n",
       "1    -1.655112  0.694850 -1.001633  1.523340 -0.759324 -1.898958 -0.112997   \n",
       "2    -0.141264 -1.681212  0.391510  2.711329  0.527538 -0.961517 -1.062484   \n",
       "3     0.536905 -1.394027  0.288564  3.026688  0.048039 -0.415095 -0.684334   \n",
       "4     0.662810 -1.337121  0.819483  3.603098  0.725177 -0.613836 -1.507574   \n",
       "...        ...       ...       ...       ...       ...       ...       ...   \n",
       "2043 -2.063368 -0.619451 -0.578013  0.905911 -1.311219 -1.389979 -0.920360   \n",
       "2044 -1.421092  0.290334 -0.262481  1.192366 -1.066384 -1.578804  0.174008   \n",
       "2045 -1.069337 -0.158165 -0.019502  1.433486 -0.677953 -2.510392 -0.014346   \n",
       "2046 -1.436986  1.040861 -1.068703 -1.233667 -3.261262 -0.673878 -0.156417   \n",
       "2047 -1.647257  1.214259 -0.800049 -1.050368 -3.387856  0.112336 -0.375355   \n",
       "\n",
       "            7         8         9   ...        90        91        92  \\\n",
       "0     0.348537  0.718760 -1.764036  ... -1.764057  0.307324  0.166119   \n",
       "1     1.212084  0.630468 -1.614710  ... -0.898622  0.787086 -0.119582   \n",
       "2     1.538146 -1.215151  0.497041  ... -1.231325  0.004381 -1.270467   \n",
       "3     1.916261 -1.397017  0.243556  ... -0.213026 -0.006994 -1.649310   \n",
       "4     1.555855 -1.503769  0.123721  ... -0.896086 -0.401410 -1.336095   \n",
       "...        ...       ...       ...  ...       ...       ...       ...   \n",
       "2043 -0.665336 -0.270203  0.052091  ... -1.075685  0.794337 -0.369984   \n",
       "2044  0.038281  0.310822  0.447060  ... -1.601981  1.468989 -0.023442   \n",
       "2045 -0.231630 -0.285932  1.043552  ... -1.675631  0.833476 -0.360580   \n",
       "2046  1.493029 -1.027173 -1.885857  ...  0.321441  1.922244 -0.862206   \n",
       "2047  1.858664 -0.607842 -2.042090  ...  0.642695  2.450063 -0.798839   \n",
       "\n",
       "            93        94        95        96        97        98        99  \n",
       "0     0.703162 -0.051421  0.269129 -0.586581  0.755735  0.708616  0.808425  \n",
       "1    -0.013321  0.218807  0.570462 -0.174041  0.344321  0.813839  0.074351  \n",
       "2    -1.794680 -0.345118  0.133558 -3.775104 -0.050446  0.737989  1.577506  \n",
       "3    -1.658854 -0.347259  0.509019 -3.537075 -0.566232  1.507961  2.723496  \n",
       "4    -2.706908 -1.521248  0.130104 -3.949862 -0.156999  0.897526  2.664618  \n",
       "...        ...       ...       ...       ...       ...       ...       ...  \n",
       "2043 -1.490996  0.398029  0.390516  0.810768  0.878884  1.555373  0.944651  \n",
       "2044 -0.882296 -0.111494 -0.194219  0.367654  0.348402  2.195239  0.500580  \n",
       "2045 -0.499222 -0.652417 -0.279180  1.015080 -0.097226  1.868272  0.352241  \n",
       "2046  0.645308  0.497194 -0.194687  0.969496  0.178638  0.725196 -3.664975  \n",
       "2047  0.043617  1.009588  1.358638  1.016502  0.169809 -1.079128 -4.313022  \n",
       "\n",
       "[2048 rows x 100 columns]"
      ]
     },
     "execution_count": 32,
     "metadata": {},
     "output_type": "execute_result"
    }
   ],
   "source": [
    "doc_vec_2 = pd.DataFrame([model.dv[doc] for doc in np.arange(0,len(docs))])\n",
    "doc_vec_2"
   ]
  },
  {
   "cell_type": "code",
   "execution_count": 38,
   "id": "25aae3fb-6759-4ad8-8d97-1e5fa3fee2b7",
   "metadata": {},
   "outputs": [
    {
     "data": {
      "text/plain": [
       "HDBSCAN()"
      ]
     },
     "execution_count": 38,
     "metadata": {},
     "output_type": "execute_result"
    }
   ],
   "source": [
    "import hdbscan\n",
    "clusterer = hdbscan.HDBSCAN()\n",
    "clusterer.fit(doc_vec_2)"
   ]
  },
  {
   "cell_type": "code",
   "execution_count": 40,
   "id": "7812f5b7-96ea-4a23-b19f-f81e9cafaaea",
   "metadata": {},
   "outputs": [
    {
     "data": {
      "text/plain": [
       "13"
      ]
     },
     "execution_count": 40,
     "metadata": {},
     "output_type": "execute_result"
    }
   ],
   "source": [
    "clusterer.labels_.max()"
   ]
  }
 ],
 "metadata": {
  "kernelspec": {
   "display_name": "Python 3 (ipykernel)",
   "language": "python",
   "name": "python3"
  },
  "language_info": {
   "codemirror_mode": {
    "name": "ipython",
    "version": 3
   },
   "file_extension": ".py",
   "mimetype": "text/x-python",
   "name": "python",
   "nbconvert_exporter": "python",
   "pygments_lexer": "ipython3",
   "version": "3.9.10"
  }
 },
 "nbformat": 4,
 "nbformat_minor": 5
}

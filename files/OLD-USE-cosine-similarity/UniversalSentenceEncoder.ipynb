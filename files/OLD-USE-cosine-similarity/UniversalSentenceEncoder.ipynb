{
 "cells": [
  {
   "cell_type": "markdown",
   "id": "f66530f4",
   "metadata": {},
   "source": [
    "# Universal Sentence Encoder\n",
    "The Universal Sentence Encoder encodes text into high-dimensional vectors that can be used for text classification, semantic similarity, clustering and other natural language tasks. It is trained on a variety of data sources to learn for a wide variety of tasks. The sources are Wikipedia, web news, web question-answer pages, and discussion forums. The input is a variable-length English text and the output is a 512-dimensional vector."
   ]
  },
  {
   "cell_type": "code",
   "execution_count": 90,
   "id": "d41bba75",
   "metadata": {
    "scrolled": true
   },
   "outputs": [],
   "source": [
    "from datetime import datetime\n",
    "import pandas as pd\n",
    "import numpy as np\n",
    "import json\n",
    "import re\n",
    "import string\n",
    "import nltk"
   ]
  },
  {
   "cell_type": "code",
   "execution_count": 25,
   "id": "e531cd6e",
   "metadata": {},
   "outputs": [],
   "source": [
    "data = pd.read_json('bq_2018_top5SIC.json', lines=True)"
   ]
  },
  {
   "cell_type": "code",
   "execution_count": 26,
   "id": "21f22b2d",
   "metadata": {},
   "outputs": [],
   "source": [
    "df = data[['reportingDate', 'name', 'coDescription', 'SIC', 'SIC_desc']]"
   ]
  },
  {
   "cell_type": "markdown",
   "id": "731e1e4d",
   "metadata": {},
   "source": [
    "## Data Cleaning\n",
    "#### - Normalization\n",
    "#### - Remove Stopwords\n",
    "#### - Lemmatization"
   ]
  },
  {
   "cell_type": "code",
   "execution_count": 27,
   "id": "08396f30",
   "metadata": {},
   "outputs": [
    {
     "data": {
      "text/html": [
       "<div>\n",
       "<style scoped>\n",
       "    .dataframe tbody tr th:only-of-type {\n",
       "        vertical-align: middle;\n",
       "    }\n",
       "\n",
       "    .dataframe tbody tr th {\n",
       "        vertical-align: top;\n",
       "    }\n",
       "\n",
       "    .dataframe thead th {\n",
       "        text-align: right;\n",
       "    }\n",
       "</style>\n",
       "<table border=\"1\" class=\"dataframe\">\n",
       "  <thead>\n",
       "    <tr style=\"text-align: right;\">\n",
       "      <th></th>\n",
       "      <th>reportingDate</th>\n",
       "      <th>name</th>\n",
       "      <th>coDescription</th>\n",
       "      <th>SIC</th>\n",
       "      <th>SIC_desc</th>\n",
       "    </tr>\n",
       "  </thead>\n",
       "  <tbody>\n",
       "    <tr>\n",
       "      <th>0</th>\n",
       "      <td>2018-02-01</td>\n",
       "      <td>MONGODB, INC.</td>\n",
       "      <td>overviewmongodb is the leading modern general ...</td>\n",
       "      <td>7372</td>\n",
       "      <td>Prepackaged Software (mass reproduction of sof...</td>\n",
       "    </tr>\n",
       "    <tr>\n",
       "      <th>1</th>\n",
       "      <td>2018-02-01</td>\n",
       "      <td>SALESFORCE COM INC</td>\n",
       "      <td>overviewsalesforce is a global leader in custo...</td>\n",
       "      <td>7372</td>\n",
       "      <td>Prepackaged Software (mass reproduction of sof...</td>\n",
       "    </tr>\n",
       "    <tr>\n",
       "      <th>2</th>\n",
       "      <td>2018-02-01</td>\n",
       "      <td>SPLUNK INC</td>\n",
       "      <td>overviewsplunk provides innovative software so...</td>\n",
       "      <td>7372</td>\n",
       "      <td>Prepackaged Software (mass reproduction of sof...</td>\n",
       "    </tr>\n",
       "    <tr>\n",
       "      <th>3</th>\n",
       "      <td>2018-02-01</td>\n",
       "      <td>OKTA, INC.</td>\n",
       "      <td>overview okta is the leading independent provi...</td>\n",
       "      <td>7372</td>\n",
       "      <td>Prepackaged Software (mass reproduction of sof...</td>\n",
       "    </tr>\n",
       "    <tr>\n",
       "      <th>4</th>\n",
       "      <td>2018-02-01</td>\n",
       "      <td>VEEVA SYSTEMS INC</td>\n",
       "      <td>overview veeva is a leading provider of indust...</td>\n",
       "      <td>7372</td>\n",
       "      <td>Prepackaged Software (mass reproduction of sof...</td>\n",
       "    </tr>\n",
       "    <tr>\n",
       "      <th>...</th>\n",
       "      <td>...</td>\n",
       "      <td>...</td>\n",
       "      <td>...</td>\n",
       "      <td>...</td>\n",
       "      <td>...</td>\n",
       "    </tr>\n",
       "    <tr>\n",
       "      <th>668</th>\n",
       "      <td>2019-01-01</td>\n",
       "      <td>AMERICAN REALTY CAPITAL NEW YORK CITY REIT, INC.</td>\n",
       "      <td>organizationwe were incorporated on december  ...</td>\n",
       "      <td>6798</td>\n",
       "      <td>Real Estate Investment Trusts</td>\n",
       "    </tr>\n",
       "    <tr>\n",
       "      <th>669</th>\n",
       "      <td>2019-01-01</td>\n",
       "      <td>CYCLACEL PHARMACEUTICALS, INC.</td>\n",
       "      <td>the following business section contains forwar...</td>\n",
       "      <td>2834</td>\n",
       "      <td>Pharmaceutical Preparations</td>\n",
       "    </tr>\n",
       "    <tr>\n",
       "      <th>670</th>\n",
       "      <td>2019-01-01</td>\n",
       "      <td>ZOETIS INC.</td>\n",
       "      <td>productscosts and expenses costs of sales cons...</td>\n",
       "      <td>2834</td>\n",
       "      <td>Pharmaceutical Preparations</td>\n",
       "    </tr>\n",
       "    <tr>\n",
       "      <th>671</th>\n",
       "      <td>2019-01-01</td>\n",
       "      <td>STAG INDUSTRIAL, INC.</td>\n",
       "      <td>certain definitionsin this reportwe define gaa...</td>\n",
       "      <td>6798</td>\n",
       "      <td>Real Estate Investment Trusts</td>\n",
       "    </tr>\n",
       "    <tr>\n",
       "      <th>672</th>\n",
       "      <td>2019-01-01</td>\n",
       "      <td>EQUINIX INC</td>\n",
       "      <td>the words equinix we our ours us and the compa...</td>\n",
       "      <td>6798</td>\n",
       "      <td>Real Estate Investment Trusts</td>\n",
       "    </tr>\n",
       "  </tbody>\n",
       "</table>\n",
       "<p>673 rows × 5 columns</p>\n",
       "</div>"
      ],
      "text/plain": [
       "    reportingDate                                              name  \\\n",
       "0      2018-02-01                                     MONGODB, INC.   \n",
       "1      2018-02-01                                SALESFORCE COM INC   \n",
       "2      2018-02-01                                        SPLUNK INC   \n",
       "3      2018-02-01                                        OKTA, INC.   \n",
       "4      2018-02-01                                 VEEVA SYSTEMS INC   \n",
       "..            ...                                               ...   \n",
       "668    2019-01-01  AMERICAN REALTY CAPITAL NEW YORK CITY REIT, INC.   \n",
       "669    2019-01-01                    CYCLACEL PHARMACEUTICALS, INC.   \n",
       "670    2019-01-01                                       ZOETIS INC.   \n",
       "671    2019-01-01                             STAG INDUSTRIAL, INC.   \n",
       "672    2019-01-01                                       EQUINIX INC   \n",
       "\n",
       "                                         coDescription   SIC  \\\n",
       "0    overviewmongodb is the leading modern general ...  7372   \n",
       "1    overviewsalesforce is a global leader in custo...  7372   \n",
       "2    overviewsplunk provides innovative software so...  7372   \n",
       "3    overview okta is the leading independent provi...  7372   \n",
       "4    overview veeva is a leading provider of indust...  7372   \n",
       "..                                                 ...   ...   \n",
       "668  organizationwe were incorporated on december  ...  6798   \n",
       "669  the following business section contains forwar...  2834   \n",
       "670  productscosts and expenses costs of sales cons...  2834   \n",
       "671  certain definitionsin this reportwe define gaa...  6798   \n",
       "672  the words equinix we our ours us and the compa...  6798   \n",
       "\n",
       "                                              SIC_desc  \n",
       "0    Prepackaged Software (mass reproduction of sof...  \n",
       "1    Prepackaged Software (mass reproduction of sof...  \n",
       "2    Prepackaged Software (mass reproduction of sof...  \n",
       "3    Prepackaged Software (mass reproduction of sof...  \n",
       "4    Prepackaged Software (mass reproduction of sof...  \n",
       "..                                                 ...  \n",
       "668                      Real Estate Investment Trusts  \n",
       "669                        Pharmaceutical Preparations  \n",
       "670                        Pharmaceutical Preparations  \n",
       "671                      Real Estate Investment Trusts  \n",
       "672                      Real Estate Investment Trusts  \n",
       "\n",
       "[673 rows x 5 columns]"
      ]
     },
     "execution_count": 27,
     "metadata": {},
     "output_type": "execute_result"
    }
   ],
   "source": [
    "#strip any left over html code\n",
    "def clean_data_fn(insrt_data):\n",
    "    \n",
    "    clean_data = []\n",
    "    \n",
    "    for idx, ele in insrt_data.iterrows():\n",
    "        if \"https://www.sec.gov/Archives/edgar/data/\" in ele[2]:\n",
    "            pass\n",
    "        else:\n",
    "            clean_txt = re.compile('<.*?>')\n",
    "            \n",
    "            pos = 0\n",
    "            \n",
    "            desc = re.sub(clean_txt,'',ele[\"coDescription\"]).replace(u'\\xa0', u' ').replace(\"   \", \"\").replace(\"'\", \"\").replace('\"','')\n",
    "            \n",
    "            desc = desc.lower()\n",
    "            \n",
    "            if re.search('<', desc):\n",
    "                pos = re.search('<', desc).start()\n",
    "            \n",
    "            desc = desc[:pos]\n",
    "            \n",
    "            if (desc.find(\"business\") == -1): # didnt find it then look for next\n",
    "                if(desc.find(\"business.\") == -1): # didnt find it then just remove anything after \"<\" if at all\n",
    "                    desc = desc[6 : ( desc.rfind(\"<\") )]\n",
    "\n",
    "                else: # found \"Business.\", remove everything before it\n",
    "                    desc =  desc[( desc.find(\"business.\") + 9 ) : ( desc.rfind(\"<\") ) ]\n",
    "            else:\n",
    "                desc = desc[( desc.find(\"business\") + 8 ) : ( desc.rfind(\"<\") ) ]\n",
    "            \n",
    "            # remove leading white space and punctuation\n",
    "            desc = re.sub(r'[\\.\\?\\!\\,\\:\\;\\\"]', '', desc).strip()\n",
    "            \n",
    "            # remove the non-letters\n",
    "            desc = ''.join([x for x in desc if x in string.ascii_letters + '\\'- '])\n",
    "                \n",
    "            new_data = pd.Series([ele[0], ele[1], desc, ele[3], ele[4]], index = insrt_data.columns)\n",
    "            \n",
    "            if len(desc)<250:\n",
    "                pass\n",
    "            else:\n",
    "                clean_data.append(new_data)\n",
    "    return(pd.DataFrame(clean_data))\n",
    "\n",
    "df = clean_data_fn(df)\n",
    "df"
   ]
  },
  {
   "cell_type": "code",
   "execution_count": null,
   "id": "bf891357",
   "metadata": {},
   "outputs": [
    {
     "name": "stderr",
     "output_type": "stream",
     "text": [
      "[nltk_data] Downloading package stopwords to\n",
      "[nltk_data]     C:\\Users\\maryx\\AppData\\Roaming\\nltk_data...\n",
      "[nltk_data]   Package stopwords is already up-to-date!\n"
     ]
    }
   ],
   "source": [
    "## Remove stop words\n",
    "from nltk.corpus import stopwords\n",
    "nltk.download('stopwords')\n",
    "from nltk.tokenize import word_tokenize\n",
    "\n",
    "def removeStopWords(description):\n",
    "    text_tokens = word_tokenize(description)\n",
    "    tokens_without_sw = [word for word in text_tokens if not word in stopwords.words()]\n",
    "    return (\" \").join(tokens_without_sw)\n",
    "\n",
    "df[\"coDescription\"] = df[\"coDescription\"].apply(removeStopWords)\n",
    "df[\"coDescription\"]"
   ]
  },
  {
   "cell_type": "code",
   "execution_count": 44,
   "id": "c471210b",
   "metadata": {},
   "outputs": [
    {
     "name": "stderr",
     "output_type": "stream",
     "text": [
      "[nltk_data] Downloading package wordnet to\n",
      "[nltk_data]     C:\\Users\\maryx\\AppData\\Roaming\\nltk_data...\n",
      "[nltk_data]   Package wordnet is already up-to-date!\n",
      "[nltk_data] Downloading package averaged_perceptron_tagger to\n",
      "[nltk_data]     C:\\Users\\maryx\\AppData\\Roaming\\nltk_data...\n",
      "[nltk_data]   Package averaged_perceptron_tagger is already up-to-\n",
      "[nltk_data]       date!\n",
      "[nltk_data] Downloading package punkt to\n",
      "[nltk_data]     C:\\Users\\maryx\\AppData\\Roaming\\nltk_data...\n",
      "[nltk_data]   Package punkt is already up-to-date!\n",
      "[nltk_data] Downloading package omw-1.4 to\n",
      "[nltk_data]     C:\\Users\\maryx\\AppData\\Roaming\\nltk_data...\n",
      "[nltk_data]   Package omw-1.4 is already up-to-date!\n"
     ]
    },
    {
     "data": {
      "text/plain": [
       "0      overviewmongodb be the lead modern general pur...\n",
       "1      overviewsalesforce be a global leader in custo...\n",
       "2      overviewsplunk provide innovative software sol...\n",
       "3      overview okta be the lead independent provider...\n",
       "4      overview veeva be a lead provider of industry ...\n",
       "                             ...                        \n",
       "668    organizationwe be incorporate on december as a...\n",
       "669    the following business section contain forward...\n",
       "670    productscosts and expense cost of sale consist...\n",
       "671    certain definitionsin this reportwe define gaa...\n",
       "672    the word equinix we our ours us and the compan...\n",
       "Name: coDescription_lemmatized, Length: 673, dtype: object"
      ]
     },
     "execution_count": 44,
     "metadata": {},
     "output_type": "execute_result"
    }
   ],
   "source": [
    "from nltk.corpus import wordnet\n",
    "from nltk.stem import WordNetLemmatizer \n",
    "# nltk.download('wordnet')\n",
    "# nltk.download('averaged_perceptron_tagger')\n",
    "# nltk.download('punkt')\n",
    "# nltk.download('omw-1.4')\n",
    "\n",
    "lemmatizer = WordNetLemmatizer()\n",
    "\n",
    "def nltk2wn_tag(nltk_tag):\n",
    "    if nltk_tag.startswith('J'):\n",
    "        return wordnet.ADJ\n",
    "    elif nltk_tag.startswith('V'):\n",
    "        return wordnet.VERB\n",
    "    elif nltk_tag.startswith('N'):\n",
    "        return wordnet.NOUN\n",
    "    elif nltk_tag.startswith('R'):\n",
    "        return wordnet.ADV\n",
    "    else:                    \n",
    "        return None\n",
    "    \n",
    "def lemmatize_sentence(sentence):\n",
    "    nltk_tagged = nltk.pos_tag(nltk.word_tokenize(sentence))    \n",
    "    wn_tagged = map(lambda x: (x[0], nltk2wn_tag(x[1])), nltk_tagged)\n",
    "    res_words = []\n",
    "    for word, tag in wn_tagged:\n",
    "        if tag is None:                        \n",
    "            res_words.append(word)\n",
    "        else:\n",
    "            res_words.append(lemmatizer.lemmatize(word, tag))\n",
    "    return \" \".join(res_words)\n",
    "\n",
    "lemma_desc = df[\"coDescription\"].apply(lemmatize_sentence)\n",
    "df[\"coDescription_lemmatized\"] = lemma_desc\n",
    "df[\"coDescription_lemmatized\"]"
   ]
  },
  {
   "cell_type": "code",
   "execution_count": null,
   "id": "134c8e12",
   "metadata": {},
   "outputs": [],
   "source": [
    "ADD LEMMATIZATION"
   ]
  },
  {
   "cell_type": "markdown",
   "id": "2c3da5e0",
   "metadata": {},
   "source": [
    "### Training"
   ]
  },
  {
   "cell_type": "code",
   "execution_count": 51,
   "id": "4e07e102",
   "metadata": {
    "scrolled": true
   },
   "outputs": [
    {
     "name": "stdout",
     "output_type": "stream",
     "text": [
      "Collecting seaborn\n",
      "  Downloading seaborn-0.11.2-py3-none-any.whl (292 kB)\n",
      "     ------------------------------------ 292.8/292.8 KB 157.2 kB/s eta 0:00:00\n",
      "Collecting matplotlib>=2.2\n",
      "  Downloading matplotlib-3.5.1-cp310-cp310-win_amd64.whl (7.2 MB)\n",
      "     ---------------------------------------- 7.2/7.2 MB 1.1 MB/s eta 0:00:00\n",
      "Collecting scipy>=1.0\n",
      "  Downloading scipy-1.8.0-cp310-cp310-win_amd64.whl (37.0 MB)\n",
      "     ---------------------------------------- 37.0/37.0 MB 1.3 MB/s eta 0:00:00\n",
      "Requirement already satisfied: pandas>=0.23 in c:\\users\\maryx\\appdata\\local\\programs\\python\\python310\\lib\\site-packages (from seaborn) (1.4.0)\n",
      "Requirement already satisfied: numpy>=1.15 in c:\\users\\maryx\\appdata\\local\\programs\\python\\python310\\lib\\site-packages (from seaborn) (1.22.2)\n",
      "Requirement already satisfied: pyparsing>=2.2.1 in c:\\users\\maryx\\appdata\\local\\programs\\python\\python310\\lib\\site-packages (from matplotlib>=2.2->seaborn) (3.0.7)\n",
      "Collecting fonttools>=4.22.0\n",
      "  Downloading fonttools-4.29.1-py3-none-any.whl (895 kB)\n",
      "     ------------------------------------ 895.5/895.5 KB 393.4 kB/s eta 0:00:00\n",
      "Collecting pillow>=6.2.0\n",
      "  Downloading Pillow-9.0.1-cp310-cp310-win_amd64.whl (3.2 MB)\n",
      "     ---------------------------------------- 3.2/3.2 MB 1.2 MB/s eta 0:00:00\n",
      "Collecting kiwisolver>=1.0.1\n",
      "  Downloading kiwisolver-1.3.2-cp310-cp310-win_amd64.whl (52 kB)\n",
      "     ---------------------------------------- 52.1/52.1 KB 1.4 MB/s eta 0:00:00\n",
      "Requirement already satisfied: python-dateutil>=2.7 in c:\\users\\maryx\\appdata\\local\\programs\\python\\python310\\lib\\site-packages (from matplotlib>=2.2->seaborn) (2.8.2)\n",
      "Collecting cycler>=0.10\n",
      "  Downloading cycler-0.11.0-py3-none-any.whl (6.4 kB)\n",
      "Requirement already satisfied: packaging>=20.0 in c:\\users\\maryx\\appdata\\local\\programs\\python\\python310\\lib\\site-packages (from matplotlib>=2.2->seaborn) (21.3)\n",
      "Requirement already satisfied: pytz>=2020.1 in c:\\users\\maryx\\appdata\\local\\programs\\python\\python310\\lib\\site-packages (from pandas>=0.23->seaborn) (2021.3)\n",
      "Requirement already satisfied: six>=1.5 in c:\\users\\maryx\\appdata\\local\\programs\\python\\python310\\lib\\site-packages (from python-dateutil>=2.7->matplotlib>=2.2->seaborn) (1.16.0)\n",
      "Installing collected packages: scipy, pillow, kiwisolver, fonttools, cycler, matplotlib, seaborn\n",
      "Successfully installed cycler-0.11.0 fonttools-4.29.1 kiwisolver-1.3.2 matplotlib-3.5.1 pillow-9.0.1 scipy-1.8.0 seaborn-0.11.2\n",
      "module %s loaded\n"
     ]
    }
   ],
   "source": [
    "import tensorflow_hub as hub\n",
    "!pip3 install seaborn\n",
    "import seaborn as sns\n",
    "embed = hub.load(\"https://tfhub.dev/google/universal-sentence-encoder/4\")"
   ]
  },
  {
   "cell_type": "code",
   "execution_count": 52,
   "id": "b7b1b4ff",
   "metadata": {},
   "outputs": [
    {
     "data": {
      "text/plain": [
       "<tf.Tensor: shape=(673, 512), dtype=float32, numpy=\n",
       "array([[-0.04806986, -0.04807194, -0.04713878, ...,  0.04806738,\n",
       "        -0.04807194, -0.03848716],\n",
       "       [-0.04852239, -0.04856564, -0.02313868, ...,  0.03850256,\n",
       "        -0.04856566, -0.04086569],\n",
       "       [-0.04603694, -0.04770311, -0.04761591, ...,  0.04770311,\n",
       "        -0.04770311, -0.04760274],\n",
       "       ...,\n",
       "       [-0.04546397, -0.04546409, -0.04546409, ..., -0.04521574,\n",
       "        -0.04546206,  0.03687175],\n",
       "       [-0.04769762, -0.05083709,  0.0207254 , ..., -0.00205691,\n",
       "         0.04269946,  0.05053872],\n",
       "       [-0.04710683, -0.04711295, -0.04701316, ...,  0.03848233,\n",
       "        -0.04711295, -0.04710338]], dtype=float32)>"
      ]
     },
     "execution_count": 52,
     "metadata": {},
     "output_type": "execute_result"
    }
   ],
   "source": [
    "embeddings = embed(df[\"coDescription_lemmatized\"])\n",
    "embeddings"
   ]
  },
  {
   "cell_type": "markdown",
   "id": "32404a18",
   "metadata": {},
   "source": [
    "## Plotting"
   ]
  },
  {
   "cell_type": "code",
   "execution_count": 59,
   "id": "753b59fb",
   "metadata": {},
   "outputs": [
    {
     "data": {
      "image/png": "[encoded data removed]",
      "text/plain": [
       "<Figure size 432x288 with 2 Axes>"
      ]
     },
     "metadata": {},
     "output_type": "display_data"
    }
   ],
   "source": [
    "def plot_similarity(labels, features, rotation):\n",
    "    corr = np.inner(features, features)\n",
    "    sns.set(font_scale=1.2)\n",
    "    g = sns.heatmap(\n",
    "      corr,\n",
    "      xticklabels=labels,\n",
    "      yticklabels=labels,\n",
    "      vmin=0,\n",
    "      vmax=1,\n",
    "      cmap=\"YlOrRd\")\n",
    "    g.set_xticklabels(labels, rotation=rotation)\n",
    "    g.set_title(\"Semantic Textual Similarity\")\n",
    "\n",
    "plot_similarity(df[\"name\"][:20],embeddings[:20], 90)"
   ]
  },
  {
   "cell_type": "code",
   "execution_count": 63,
   "id": "7ea53af7",
   "metadata": {
    "scrolled": true,
    "tags": []
   },
   "outputs": [
    {
     "data": {
      "application/vnd.plotly.v1+json": {
       "config": {
        "plotlyServerURL": "https://plot.ly"
       },
       "data": [
        {
         "customdata": [
          [
           "MONGODB, INC.",
           "Prepackaged Software (mass reproduction of software)"
          ],
          [
           "SALESFORCE COM INC",
           "Prepackaged Software (mass reproduction of software)"
          ],
          [
           "SPLUNK INC",
           "Prepackaged Software (mass reproduction of software)"
          ],
          [
           "OKTA, INC.",
           "Prepackaged Software (mass reproduction of software)"
          ],
          [
           "VEEVA SYSTEMS INC",
           "Prepackaged Software (mass reproduction of software)"
          ],
          [
           "AUTODESK INC",
           "Prepackaged Software (mass reproduction of software)"
          ],
          [
           "ETERNAL SPEECH, INC.",
           "Prepackaged Software (mass reproduction of software)"
          ],
          [
           "ETERNAL SPEECH, INC.",
           "Prepackaged Software (mass reproduction of software)"
          ],
          [
           "MAJESCO",
           "Prepackaged Software (mass reproduction of software)"
          ],
          [
           "DUO WORLD INC",
           "Prepackaged Software (mass reproduction of software)"
          ],
          [
           "COMMVAULT SYSTEMS INC",
           "Prepackaged Software (mass reproduction of software)"
          ],
          [
           "UPPERSOLUTION.COM",
           "Prepackaged Software (mass reproduction of software)"
          ],
          [
           "ORACLE CORP",
           "Prepackaged Software (mass reproduction of software)"
          ],
          [
           "SAVMOBI TECHNOLOGY INC.",
           "Prepackaged Software (mass reproduction of software)"
          ],
          [
           "ZEDGE, INC.",
           "Prepackaged Software (mass reproduction of software)"
          ],
          [
           "DESTINY MEDIA TECHNOLOGIES INC",
           "Prepackaged Software (mass reproduction of software)"
          ],
          [
           "TRAQER CORP",
           "Prepackaged Software (mass reproduction of software)"
          ],
          [
           "VISIBER57 CORP.",
           "Prepackaged Software (mass reproduction of software)"
          ],
          [
           "GH CAPITAL INC.",
           "Prepackaged Software (mass reproduction of software)"
          ],
          [
           "BRIDGELINE DIGITAL, INC.",
           "Prepackaged Software (mass reproduction of software)"
          ],
          [
           "NUANCE COMMUNICATIONS, INC.",
           "Prepackaged Software (mass reproduction of software)"
          ],
          [
           "DATAWATCH CORP",
           "Prepackaged Software (mass reproduction of software)"
          ],
          [
           "POLARITYTE, INC.",
           "Prepackaged Software (mass reproduction of software)"
          ],
          [
           "POLARITYTE, INC.",
           "Prepackaged Software (mass reproduction of software)"
          ],
          [
           "VGRAB COMMUNICATIONS INC.",
           "Prepackaged Software (mass reproduction of software)"
          ],
          [
           "VGRAB COMMUNICATIONS INC.",
           "Prepackaged Software (mass reproduction of software)"
          ],
          [
           "ADAIAH DISTRIBUTION INC",
           "Prepackaged Software (mass reproduction of software)"
          ],
          [
           "ADAIAH DISTRIBUTION INC",
           "Prepackaged Software (mass reproduction of software)"
          ],
          [
           "PROGRESS SOFTWARE CORP /MA",
           "Prepackaged Software (mass reproduction of software)"
          ],
          [
           "MEDICAL INFORMATION TECHNOLOGY, INC.",
           "Prepackaged Software (mass reproduction of software)"
          ],
          [
           "SPS COMMERCE INC",
           "Prepackaged Software (mass reproduction of software)"
          ],
          [
           "ALTERYX, INC.",
           "Prepackaged Software (mass reproduction of software)"
          ],
          [
           "INTELLIGENT SYSTEMS CORP",
           "Prepackaged Software (mass reproduction of software)"
          ],
          [
           "ALARM.COM HOLDINGS, INC.",
           "Prepackaged Software (mass reproduction of software)"
          ],
          [
           "LIGHTNING GAMING, INC.",
           "Prepackaged Software (mass reproduction of software)"
          ],
          [
           "ENDURANCE INTERNATIONAL GROUP HOLDINGS, INC.",
           "Prepackaged Software (mass reproduction of software)"
          ],
          [
           "2U, INC.",
           "Prepackaged Software (mass reproduction of software)"
          ],
          [
           "CISION LTD.",
           "Prepackaged Software (mass reproduction of software)"
          ],
          [
           "BTCS INC.",
           "Prepackaged Software (mass reproduction of software)"
          ],
          [
           "BTCS INC.",
           "Prepackaged Software (mass reproduction of software)"
          ],
          [
           "BTCS INC.",
           "Prepackaged Software (mass reproduction of software)"
          ],
          [
           "INTELLICHECK, INC.",
           "Prepackaged Software (mass reproduction of software)"
          ],
          [
           "REALPAGE INC",
           "Prepackaged Software (mass reproduction of software)"
          ],
          [
           "Q2 HOLDINGS, INC.",
           "Prepackaged Software (mass reproduction of software)"
          ],
          [
           "MCORPCX, INC.",
           "Prepackaged Software (mass reproduction of software)"
          ],
          [
           "QUALYS, INC.",
           "Prepackaged Software (mass reproduction of software)"
          ],
          [
           "MEDICAL TRANSCRIPTION BILLING, CORP",
           "Prepackaged Software (mass reproduction of software)"
          ],
          [
           "SMITH MICRO SOFTWARE INC",
           "Prepackaged Software (mass reproduction of software)"
          ],
          [
           "SHOTSPOTTER, INC",
           "Prepackaged Software (mass reproduction of software)"
          ],
          [
           "LONGWEN GROUP CORP.",
           "Prepackaged Software (mass reproduction of software)"
          ],
          [
           "ELLIE MAE INC",
           "Prepackaged Software (mass reproduction of software)"
          ],
          [
           "ROSETTA STONE INC",
           "Prepackaged Software (mass reproduction of software)"
          ],
          [
           "BLACK KNIGHT, INC.",
           "Prepackaged Software (mass reproduction of software)"
          ],
          [
           "MICROSTRATEGY INC",
           "Prepackaged Software (mass reproduction of software)"
          ],
          [
           "EMR TECHNOLOGY SOLUTIONS, INC.",
           "Prepackaged Software (mass reproduction of software)"
          ],
          [
           "PAYCOM SOFTWARE, INC.",
           "Prepackaged Software (mass reproduction of software)"
          ],
          [
           "3D SYSTEMS CORP",
           "Prepackaged Software (mass reproduction of software)"
          ],
          [
           "APPIAN CORP",
           "Prepackaged Software (mass reproduction of software)"
          ],
          [
           "UPLAND SOFTWARE, INC.",
           "Prepackaged Software (mass reproduction of software)"
          ],
          [
           "LIVEPERSON INC",
           "Prepackaged Software (mass reproduction of software)"
          ],
          [
           "AWARE INC /MA/",
           "Prepackaged Software (mass reproduction of software)"
          ],
          [
           "ULTIMATE SOFTWARE GROUP INC",
           "Prepackaged Software (mass reproduction of software)"
          ],
          [
           "ANSYS INC",
           "Prepackaged Software (mass reproduction of software)"
          ],
          [
           "AVID TECHNOLOGY, INC.",
           "Prepackaged Software (mass reproduction of software)"
          ],
          [
           "NATIONAL INSTRUMENTS CORP",
           "Prepackaged Software (mass reproduction of software)"
          ],
          [
           "INSPRO TECHNOLOGIES CORP",
           "Prepackaged Software (mass reproduction of software)"
          ],
          [
           "QUMU CORP",
           "Prepackaged Software (mass reproduction of software)"
          ],
          [
           "ACI WORLDWIDE, INC.",
           "Prepackaged Software (mass reproduction of software)"
          ],
          [
           "SQUARE, INC.",
           "Prepackaged Software (mass reproduction of software)"
          ],
          [
           "ALTAIR ENGINEERING INC.",
           "Prepackaged Software (mass reproduction of software)"
          ],
          [
           "TALEND SA",
           "Prepackaged Software (mass reproduction of software)"
          ],
          [
           "APPFOLIO INC",
           "Prepackaged Software (mass reproduction of software)"
          ],
          [
           "GSE SYSTEMS INC",
           "Prepackaged Software (mass reproduction of software)"
          ],
          [
           "IPSIDY INC.",
           "Prepackaged Software (mass reproduction of software)"
          ],
          [
           "INTELLINETICS, INC.",
           "Prepackaged Software (mass reproduction of software)"
          ],
          [
           "INTELLINETICS, INC.",
           "Prepackaged Software (mass reproduction of software)"
          ],
          [
           "IIOT-OXYS, INC.",
           "Prepackaged Software (mass reproduction of software)"
          ],
          [
           "NEWGIOCO GROUP, INC.",
           "Prepackaged Software (mass reproduction of software)"
          ],
          [
           "WORKIVA INC",
           "Prepackaged Software (mass reproduction of software)"
          ],
          [
           "TABLEAU SOFTWARE INC",
           "Prepackaged Software (mass reproduction of software)"
          ]
         ],
         "hovertemplate": "color=Prepackaged Software (mass reproduction of software)<br>0=%{x}<br>1=%{y}<br>name=%{customdata[0]}<br>industry=%{customdata[1]}<extra></extra>",
         "legendgroup": "Prepackaged Software (mass reproduction of software)",
         "marker": {
          "color": "#636efa",
          "symbol": "circle"
         },
         "mode": "markers",
         "name": "Prepackaged Software (mass reproduction of software)",
         "orientation": "v",
         "showlegend": true,
         "type": "scatter",
         "x": [
          0.08460614972808708,
          0.18326564839231255,
          0.17430082047165904,
          0.10542836280644179,
          -0.06953385242607145,
          0.15564119026280765,
          0.016561147862142012,
          0.016561147862142012,
          0.014056969114499955,
          0.15913361237785248,
          0.12332665454079597,
          0.11036876009133825,
          0.06727609105673428,
          0.002722174013741949,
          -0.056698625276192564,
          0.166611569847241,
          -0.0011362776543420404,
          -0.03506654681866371,
          -0.04932901687258833,
          0.17163564930377362,
          0.1798831090619503,
          0.18605310197476713,
          0.3473242458551161,
          0.3473242458551161,
          0.10274766196744478,
          0.10274766196744478,
          -0.1653257784118398,
          -0.1653257784118398,
          0.17145081749534674,
          0.22969025243943766,
          0.15145921060211198,
          0.17913032609582158,
          -0.0132081536285355,
          0.11287753017597382,
          0.08352923291476007,
          0.1798350677892277,
          0.07790536207590243,
          0.15263747237808994,
          -0.021465281602616796,
          -0.021465281602616796,
          -0.021465281602616796,
          -0.141859005919352,
          -0.016967513330228483,
          0.05713052523271522,
          0.010943608163000544,
          0.13793520567194134,
          0.1557712680106569,
          0.21898295375941348,
          0.10610084246680132,
          -0.10805415513871061,
          -0.10573795404630437,
          0.17137538596682916,
          -0.029895770005601684,
          0.18552668185553708,
          0.2102673433319365,
          0.08318103803531142,
          0.19185324553366453,
          0.17587938580367138,
          0.138679143996159,
          0.1895387654538949,
          0.22710701551122547,
          0.08097345200576095,
          -0.24435101169549595,
          0.18440885530530093,
          0.21512300129515224,
          0.07007620325189236,
          0.14969259130577156,
          0.04917313895852815,
          0.04330845873446464,
          0.1700060350978118,
          0.10552082567495978,
          0.03421126656904598,
          -0.1558275342830339,
          0.16657760711833572,
          0.13838140130357554,
          0.13838140130357554,
          0.1563683514913016,
          -0.0010285538286397844,
          0.10620769020999261,
          0.17345251180843282
         ],
         "xaxis": "x",
         "y": [
          -0.3282304051052628,
          -0.3011337856197528,
          -0.3050091322533639,
          -0.25919451902613533,
          -0.1974997504481534,
          -0.23972727537355906,
          -0.12577687006204216,
          -0.12577687006204216,
          -0.2587900542181471,
          -0.2766031301768651,
          -0.29143215637546915,
          -0.19222394177558735,
          -0.295403618847959,
          -0.2414392474216881,
          0.022136879034998714,
          -0.13429626316930554,
          -0.19115811443789152,
          -0.15200233306460328,
          -0.11548597148539297,
          -0.2539383774406288,
          -0.2735006644777575,
          -0.24981654652624266,
          -0.0007148034314663201,
          -0.0007148034314663201,
          -0.25845035536086125,
          -0.25845035536086125,
          -0.06145973328070247,
          -0.06145973328070247,
          -0.32593039933760337,
          -0.14090806825464025,
          -0.3154092758693075,
          -0.2944302784943476,
          -0.18962354695494157,
          -0.25223387710692396,
          -0.12912227188940828,
          -0.22674553054907012,
          -0.12918985175300282,
          -0.2629368445453953,
          0.042836357657541325,
          0.042836357657541325,
          0.042836357657541325,
          0.05213053451989586,
          -0.4007230007488098,
          -0.14118240459968492,
          -0.2413038204266284,
          -0.22453170544347045,
          -0.22737398573236836,
          -0.27721385573877877,
          -0.15661458337126116,
          -0.10417164656056362,
          -0.060049404008156136,
          -0.2747579616657994,
          -0.12155369638160946,
          -0.28875806809062,
          -0.10650263391015614,
          -0.2884196061206992,
          -0.2009949490136344,
          -0.26221472677241053,
          -0.262110526696987,
          -0.2390379590780305,
          -0.07179320481441426,
          -0.21786139429959978,
          0.12153892011973474,
          -0.25578353322194747,
          -0.18583488872179038,
          -0.184213097027671,
          -0.2801742489487688,
          -0.14155514162520555,
          -0.15847573721932037,
          -0.2506548528451569,
          -0.2924929881973799,
          -0.35675553388891895,
          -0.13870304767942082,
          -0.14696579104234914,
          -0.23838803776158657,
          -0.23838803776158657,
          -0.22334099999901763,
          -0.13321471728431034,
          -0.1668402907288884,
          -0.2622052676546489
         ],
         "yaxis": "y"
        },
        {
         "customdata": [
          [
           "INTERNATIONAL WESTERN PETROLEUM, INC.",
           "Crude Petroleum and Natural Gas"
          ],
          [
           "DAYBREAK OIL & GAS, INC.",
           "Crude Petroleum and Natural Gas"
          ],
          [
           "GB SCIENCES INC",
           "Crude Petroleum and Natural Gas"
          ],
          [
           "FREEDOM HOLDING CORP.",
           "Crude Petroleum and Natural Gas"
          ],
          [
           "MEXCO ENERGY CORP",
           "Crude Petroleum and Natural Gas"
          ],
          [
           "SUSTAINABLE PROJECTS GROUP INC.",
           "Crude Petroleum and Natural Gas"
          ],
          [
           "AMERICAN ENERGY GROUP LTD",
           "Crude Petroleum and Natural Gas"
          ],
          [
           "REDHAWK HOLDINGS CORP.",
           "Crude Petroleum and Natural Gas"
          ],
          [
           "TIANCI INTERNATIONAL, INC.",
           "Crude Petroleum and Natural Gas"
          ],
          [
           "AMAZING ENERGY OIL & GAS, CO.",
           "Crude Petroleum and Natural Gas"
          ],
          [
           "ALTEX INDUSTRIES INC",
           "Crude Petroleum and Natural Gas"
          ],
          [
           "BARNWELL INDUSTRIES INC",
           "Crude Petroleum and Natural Gas"
          ],
          [
           "PANHANDLE OIL & GAS INC",
           "Crude Petroleum and Natural Gas"
          ],
          [
           "ENERGY 11, L.P.",
           "Crude Petroleum and Natural Gas"
          ],
          [
           "ABRAXAS PETROLEUM CORP",
           "Crude Petroleum and Natural Gas"
          ],
          [
           "SEARS OIL & GAS",
           "Crude Petroleum and Natural Gas"
          ],
          [
           "APACHE CORP",
           "Crude Petroleum and Natural Gas"
          ],
          [
           "GULFPORT ENERGY CORP",
           "Crude Petroleum and Natural Gas"
          ],
          [
           "CONTINENTAL RESOURCES, INC",
           "Crude Petroleum and Natural Gas"
          ],
          [
           "ISRAMCO INC",
           "Crude Petroleum and Natural Gas"
          ],
          [
           "CHAPARRAL ENERGY, INC.",
           "Crude Petroleum and Natural Gas"
          ],
          [
           "WHITING PETROLEUM CORP",
           "Crude Petroleum and Natural Gas"
          ],
          [
           "CONTANGO OIL & GAS CO",
           "Crude Petroleum and Natural Gas"
          ],
          [
           "EARTHSTONE ENERGY INC",
           "Crude Petroleum and Natural Gas"
          ],
          [
           "CLEAN COAL TECHNOLOGIES INC.",
           "Crude Petroleum and Natural Gas"
          ],
          [
           "NORTHERN OIL & GAS, INC.",
           "Crude Petroleum and Natural Gas"
          ],
          [
           "SRC ENERGY INC.",
           "Crude Petroleum and Natural Gas"
          ],
          [
           "JONES ENERGY, INC.",
           "Crude Petroleum and Natural Gas"
          ],
          [
           "GOODRICH PETROLEUM CORP",
           "Crude Petroleum and Natural Gas"
          ],
          [
           "OCCIDENTAL PETROLEUM CORP /DE/",
           "Crude Petroleum and Natural Gas"
          ],
          [
           "LONESTAR RESOURCES US INC.",
           "Crude Petroleum and Natural Gas"
          ],
          [
           "NOBLE ENERGY INC",
           "Crude Petroleum and Natural Gas"
          ],
          [
           "PIONEER NATURAL RESOURCES CO",
           "Crude Petroleum and Natural Gas"
          ],
          [
           "BONANZA CREEK ENERGY, INC.",
           "Crude Petroleum and Natural Gas"
          ],
          [
           "DEVON ENERGY CORP/DE",
           "Crude Petroleum and Natural Gas"
          ],
          [
           "CALIFORNIA RESOURCES CORP",
           "Crude Petroleum and Natural Gas"
          ],
          [
           "PARK PLACE ENERGY INC.",
           "Crude Petroleum and Natural Gas"
          ],
          [
           "ANTERO RESOURCES CORP",
           "Crude Petroleum and Natural Gas"
          ],
          [
           "LAREDO PETROLEUM, INC.",
           "Crude Petroleum and Natural Gas"
          ],
          [
           "CIMAREX ENERGY CO",
           "Crude Petroleum and Natural Gas"
          ],
          [
           "ALTA MESA HOLDINGS, LP",
           "Crude Petroleum and Natural Gas"
          ],
          [
           "US ENERGY CORP",
           "Crude Petroleum and Natural Gas"
          ],
          [
           "VICTORY ENERGY CORP",
           "Crude Petroleum and Natural Gas"
          ],
          [
           "VICTORY ENERGY CORP",
           "Crude Petroleum and Natural Gas"
          ],
          [
           "GRAN TIERRA ENERGY INC.",
           "Crude Petroleum and Natural Gas"
          ],
          [
           "MIDSTATES PETROLEUM COMPANY, INC.",
           "Crude Petroleum and Natural Gas"
          ],
          [
           "WILDHORSE RESOURCE DEVELOPMENT CORP",
           "Crude Petroleum and Natural Gas"
          ],
          [
           "SM ENERGY CO",
           "Crude Petroleum and Natural Gas"
          ],
          [
           "SANDRIDGE ENERGY INC",
           "Crude Petroleum and Natural Gas"
          ],
          [
           "RING ENERGY, INC.",
           "Crude Petroleum and Natural Gas"
          ],
          [
           "SANCHEZ ENERGY CORP",
           "Crude Petroleum and Natural Gas"
          ],
          [
           "TETRA TECHNOLOGIES INC",
           "Crude Petroleum and Natural Gas"
          ],
          [
           "RESERVE PETROLEUM CO",
           "Crude Petroleum and Natural Gas"
          ],
          [
           "HESS MIDSTREAM PARTNERS LP",
           "Crude Petroleum and Natural Gas"
          ],
          [
           "TORCHLIGHT ENERGY RESOURCES INC",
           "Crude Petroleum and Natural Gas"
          ],
          [
           "LINN ENERGY, INC.",
           "Crude Petroleum and Natural Gas"
          ],
          [
           "KOSMOS ENERGY LTD.",
           "Crude Petroleum and Natural Gas"
          ],
          [
           "SILVERBOW RESOURCES, INC.",
           "Crude Petroleum and Natural Gas"
          ],
          [
           "TELLURIAN INC. /DE/",
           "Crude Petroleum and Natural Gas"
          ],
          [
           "DORCHESTER MINERALS, L.P.",
           "Crude Petroleum and Natural Gas"
          ],
          [
           "MATADOR RESOURCES CO",
           "Crude Petroleum and Natural Gas"
          ],
          [
           "PDC ENERGY, INC.",
           "Crude Petroleum and Natural Gas"
          ],
          [
           "TEXAS SOUTH ENERGY, INC.",
           "Crude Petroleum and Natural Gas"
          ],
          [
           "PEDEVCO CORP",
           "Crude Petroleum and Natural Gas"
          ],
          [
           "VIPER ENERGY PARTNERS LP",
           "Crude Petroleum and Natural Gas"
          ],
          [
           "ENERJEX RESOURCES, INC.",
           "Crude Petroleum and Natural Gas"
          ],
          [
           "TENGASCO INC",
           "Crude Petroleum and Natural Gas"
          ],
          [
           "KIMBELL ROYALTY PARTNERS, LP",
           "Crude Petroleum and Natural Gas"
          ],
          [
           "CONCHO RESOURCES INC",
           "Crude Petroleum and Natural Gas"
          ],
          [
           "APACHE OFFSHORE INVESTMENT PARTNERSHIP",
           "Crude Petroleum and Natural Gas"
          ],
          [
           "EVERFLOW EASTERN PARTNERS LP",
           "Crude Petroleum and Natural Gas"
          ],
          [
           "CHESAPEAKE ENERGY CORP",
           "Crude Petroleum and Natural Gas"
          ],
          [
           "CARRIZO OIL & GAS INC",
           "Crude Petroleum and Natural Gas"
          ],
          [
           "CALLON PETROLEUM CO",
           "Crude Petroleum and Natural Gas"
          ],
          [
           "PENN VIRGINIA CORP",
           "Crude Petroleum and Natural Gas"
          ],
          [
           "DIAMONDBACK ENERGY, INC.",
           "Crude Petroleum and Natural Gas"
          ],
          [
           "COMSTOCK RESOURCES INC",
           "Crude Petroleum and Natural Gas"
          ],
          [
           "DALA PETROLEUM CORP.",
           "Crude Petroleum and Natural Gas"
          ],
          [
           "WPX ENERGY, INC.",
           "Crude Petroleum and Natural Gas"
          ],
          [
           "LILIS ENERGY, INC.",
           "Crude Petroleum and Natural Gas"
          ]
         ],
         "hovertemplate": "color=Crude Petroleum and Natural Gas<br>0=%{x}<br>1=%{y}<br>name=%{customdata[0]}<br>industry=%{customdata[1]}<extra></extra>",
         "legendgroup": "Crude Petroleum and Natural Gas",
         "marker": {
          "color": "#EF553B",
          "symbol": "circle"
         },
         "mode": "markers",
         "name": "Crude Petroleum and Natural Gas",
         "orientation": "v",
         "showlegend": true,
         "type": "scatter",
         "x": [
          -0.06270861393672991,
          -0.0753778921446772,
          0.28816338016290827,
          -0.1467743352294819,
          -0.12863183097000624,
          0.00918534951412392,
          -0.055018069985015475,
          0.20829559232672232,
          -0.10901875413241692,
          0.037478216930817446,
          -0.10192474690147686,
          -0.11689331338216086,
          -0.1323812940057844,
          -0.020266644769312857,
          -0.007891776340506721,
          0.12724540086529307,
          -0.11083791275447656,
          -0.0421570544684839,
          -0.0749204714168375,
          -0.047931260722958495,
          -0.12887367663335828,
          0.01705917710419293,
          -0.07574305868984758,
          -0.19007362925918886,
          0.14784239840980823,
          -0.018216740324149716,
          -0.03823201721018969,
          -0.05634201838549922,
          -0.11268496369984918,
          -0.04798309404652291,
          -0.01838094029889333,
          -0.18634237616828878,
          -0.05284410939804896,
          -0.02489393230375045,
          -0.10163603449132551,
          -0.2030993293663025,
          -0.017806955095013354,
          -0.12094711300614061,
          -0.013503637242698234,
          -0.07088333464464572,
          0.007125422243044528,
          -0.13276110915156128,
          -0.07704729824620603,
          -0.07704729824620603,
          -0.12136450295659507,
          -0.010969016010873557,
          -0.12655733452927803,
          -0.08334423926928675,
          -0.028435100082563263,
          -0.06066777491175799,
          -0.05944276941267512,
          0.11759826001558184,
          -0.06638946072730934,
          -0.0830036528814886,
          0.0522048994169401,
          -0.09177427938897781,
          -0.030864899988814937,
          -0.08556046245341269,
          -0.002691389760777329,
          -0.09777145443984944,
          -0.08583054383080763,
          -0.17742750197296311,
          -0.04196061307398429,
          -0.09529208650315057,
          -0.06403008633437558,
          0.20577481854500473,
          -0.08786169442167109,
          -0.10135985086872586,
          -0.003916381963368363,
          -0.06946342908315488,
          -0.10757159629696311,
          -0.10081383244757575,
          -0.0723477133998596,
          -0.14368573014979263,
          0.05431680239290204,
          -0.1419491050405014,
          -0.10375157853793343,
          -0.031873931753291354,
          -0.05781809864760582,
          -0.11506087792018496
         ],
         "xaxis": "x",
         "y": [
          -0.2800218490421893,
          -0.20180131318344993,
          0.014399932087506381,
          0.007850385509569105,
          -0.2328292493472973,
          -0.14536028014530145,
          0.06092699573415764,
          -0.09392273769559699,
          -0.2113430276402154,
          -0.15311789526958655,
          -0.13924460681894818,
          -0.26083499677072813,
          -0.2074883170605841,
          -0.11901128426644478,
          -0.11647831689179725,
          -0.15545938984242813,
          -0.15716897871558683,
          -0.1738403483147179,
          -0.20222740205469958,
          -0.14286743502068355,
          -0.11865148334308638,
          -0.1112938818478833,
          -0.058493778380933545,
          -0.2121219275979485,
          -0.026813816698715742,
          -0.1682816128821301,
          -0.16866576334986771,
          -0.1762646521057451,
          -0.16241026455607807,
          -0.15422722642011427,
          -0.16249809707953666,
          -0.16080126514123733,
          -0.13702849533840072,
          -0.13070605471004543,
          -0.17522330158003233,
          -0.09243669530846703,
          -0.18340757343353517,
          -0.16358656519966347,
          -0.17064615434629454,
          -0.13775181895143118,
          -0.12619070985243291,
          -0.16348272611775105,
          -0.1119517507085487,
          -0.1119517507085487,
          -0.15343864938269366,
          -0.12021364554727434,
          -0.16305902279243858,
          -0.1557986883388299,
          -0.1434145524735411,
          -0.25322878906619406,
          -0.15484242342498183,
          -0.17816100054164116,
          -0.14799301108342464,
          -0.18195901668634168,
          -0.07199191659956054,
          -0.13682592891819076,
          -0.10193017295284612,
          -0.08190435196243967,
          -0.11324019161638156,
          -0.19622578952195474,
          -0.2087390007869486,
          -0.1299611347165159,
          -0.09275994169434507,
          0.0543767077668933,
          -0.20805236800816762,
          -0.24144336401199568,
          -0.1918125047425376,
          -0.1903893881625331,
          -0.12177496653107367,
          -0.21863957566691622,
          -0.1794845781017542,
          -0.24642520430268408,
          -0.15636473791796454,
          -0.14340196679157347,
          -0.05937811302898168,
          -0.16631297777756177,
          -0.17880982976907697,
          -0.13811775117952257,
          -0.13978051731380253,
          -0.16437453502387542
         ],
         "yaxis": "y"
        },
        {
         "customdata": [
          [
           "ULURU INC.",
           "Pharmaceutical Preparations"
          ],
          [
           "CHINA YCT INTERNATIONAL GROUP, INC.",
           "Pharmaceutical Preparations"
          ],
          [
           "AXOVANT SCIENCES LTD.",
           "Pharmaceutical Preparations"
          ],
          [
           "MYOVANT SCIENCES LTD.",
           "Pharmaceutical Preparations"
          ],
          [
           "PRESTIGE BRANDS HOLDINGS, INC.",
           "Pharmaceutical Preparations"
          ],
          [
           "HYPGEN INC",
           "Pharmaceutical Preparations"
          ],
          [
           "HYPGEN INC",
           "Pharmaceutical Preparations"
          ],
          [
           "DANDRIT BIOTECH USA, INC.",
           "Pharmaceutical Preparations"
          ],
          [
           "REZOLUTE, INC.",
           "Pharmaceutical Preparations"
          ],
          [
           "OPTEC INTERNATIONAL, INC.",
           "Pharmaceutical Preparations"
          ],
          [
           "OPTEC INTERNATIONAL, INC.",
           "Pharmaceutical Preparations"
          ],
          [
           "BIOVIE INC.",
           "Pharmaceutical Preparations"
          ],
          [
           "ONCOSEC MEDICAL INC",
           "Pharmaceutical Preparations"
          ],
          [
           "CANNABICS PHARMACEUTICALS INC.",
           "Pharmaceutical Preparations"
          ],
          [
           "ORAMED PHARMACEUTICALS INC.",
           "Pharmaceutical Preparations"
          ],
          [
           "ENTEST BIOMEDICAL, INC.",
           "Pharmaceutical Preparations"
          ],
          [
           "MY CLOUDZ, INC.",
           "Pharmaceutical Preparations"
          ],
          [
           "MY CLOUDZ, INC.",
           "Pharmaceutical Preparations"
          ],
          [
           "ENANTA PHARMACEUTICALS INC",
           "Pharmaceutical Preparations"
          ],
          [
           "CITIUS PHARMACEUTICALS, INC.",
           "Pharmaceutical Preparations"
          ],
          [
           "STELLAR BIOTECHNOLOGIES, INC.",
           "Pharmaceutical Preparations"
          ],
          [
           "REGEN BIOPHARMA INC",
           "Pharmaceutical Preparations"
          ],
          [
           "REGEN BIOPHARMA INC",
           "Pharmaceutical Preparations"
          ],
          [
           "ADVAXIS, INC.",
           "Pharmaceutical Preparations"
          ],
          [
           "ORGENESIS INC.",
           "Pharmaceutical Preparations"
          ],
          [
           "Q BIOMED INC.",
           "Pharmaceutical Preparations"
          ],
          [
           "JOHNSON & JOHNSON",
           "Pharmaceutical Preparations"
          ],
          [
           "BRISTOL MYERS SQUIBB CO",
           "Pharmaceutical Preparations"
          ],
          [
           "VBI VACCINES INC/BC",
           "Pharmaceutical Preparations"
          ],
          [
           "INTRA-CELLULAR THERAPIES, INC.",
           "Pharmaceutical Preparations"
          ],
          [
           "ROCKET PHARMACEUTICALS, INC.",
           "Pharmaceutical Preparations"
          ],
          [
           "ATLAS HOLDINGS, INC.",
           "Pharmaceutical Preparations"
          ],
          [
           "NEMUS BIOSCIENCE, INC.",
           "Pharmaceutical Preparations"
          ],
          [
           "NEMUS BIOSCIENCE, INC.",
           "Pharmaceutical Preparations"
          ],
          [
           "OVASCIENCE, INC.",
           "Pharmaceutical Preparations"
          ],
          [
           "CONCERT PHARMACEUTICALS, INC.",
           "Pharmaceutical Preparations"
          ],
          [
           "AKCEA THERAPEUTICS, INC.",
           "Pharmaceutical Preparations"
          ],
          [
           "AXIM BIOTECHNOLOGIES, INC.",
           "Pharmaceutical Preparations"
          ],
          [
           "GUARDION HEALTH SCIENCES, INC.",
           "Pharmaceutical Preparations"
          ],
          [
           "RETROPHIN, INC.",
           "Pharmaceutical Preparations"
          ],
          [
           "SYNDAX PHARMACEUTICALS INC",
           "Pharmaceutical Preparations"
          ],
          [
           "FIBROGEN INC",
           "Pharmaceutical Preparations"
          ],
          [
           "PROTOKINETIX, INC.",
           "Pharmaceutical Preparations"
          ],
          [
           "PROGENICS PHARMACEUTICALS INC",
           "Pharmaceutical Preparations"
          ],
          [
           "CHECKPOINT THERAPEUTICS, INC.",
           "Pharmaceutical Preparations"
          ],
          [
           "PFENEX INC.",
           "Pharmaceutical Preparations"
          ],
          [
           "PAIN THERAPEUTICS INC",
           "Pharmaceutical Preparations"
          ],
          [
           "ZOMEDICA PHARMACEUTICALS CORP.",
           "Pharmaceutical Preparations"
          ],
          [
           "ZOMEDICA PHARMACEUTICALS CORP.",
           "Pharmaceutical Preparations"
          ],
          [
           "MOLECULAR TEMPLATES, INC.",
           "Pharmaceutical Preparations"
          ],
          [
           "WAVE LIFE SCIENCES LTD.",
           "Pharmaceutical Preparations"
          ],
          [
           "CYMABAY THERAPEUTICS, INC.",
           "Pharmaceutical Preparations"
          ],
          [
           "AMICUS THERAPEUTICS INC",
           "Pharmaceutical Preparations"
          ],
          [
           "EVOKE PHARMA INC",
           "Pharmaceutical Preparations"
          ],
          [
           "CHEMBIO DIAGNOSTICS, INC.",
           "Pharmaceutical Preparations"
          ],
          [
           "CARA THERAPEUTICS, INC.",
           "Pharmaceutical Preparations"
          ],
          [
           "CYTOMX THERAPEUTICS, INC.",
           "Pharmaceutical Preparations"
          ],
          [
           "XENCOR INC",
           "Pharmaceutical Preparations"
          ],
          [
           "CATABASIS PHARMACEUTICALS INC",
           "Pharmaceutical Preparations"
          ],
          [
           "SERES THERAPEUTICS, INC.",
           "Pharmaceutical Preparations"
          ],
          [
           "EYEGATE PHARMACEUTICALS INC",
           "Pharmaceutical Preparations"
          ],
          [
           "ARENA PHARMACEUTICALS INC",
           "Pharmaceutical Preparations"
          ],
          [
           "ALEXION PHARMACEUTICALS INC",
           "Pharmaceutical Preparations"
          ],
          [
           "MELINTA THERAPEUTICS, INC. /NEW/",
           "Pharmaceutical Preparations"
          ],
          [
           "FIVE PRIME THERAPEUTICS INC",
           "Pharmaceutical Preparations"
          ],
          [
           "LIXTE BIOTECHNOLOGY HOLDINGS, INC.",
           "Pharmaceutical Preparations"
          ],
          [
           "ARATANA THERAPEUTICS, INC.",
           "Pharmaceutical Preparations"
          ],
          [
           "CHIASMA, INC",
           "Pharmaceutical Preparations"
          ],
          [
           "CELGENE CORP /DE/",
           "Pharmaceutical Preparations"
          ],
          [
           "NEWLINK GENETICS CORP",
           "Pharmaceutical Preparations"
          ],
          [
           "LIGAND PHARMACEUTICALS INC",
           "Pharmaceutical Preparations"
          ],
          [
           "PORTOLA PHARMACEUTICALS INC",
           "Pharmaceutical Preparations"
          ],
          [
           "PLX PHARMA INC.",
           "Pharmaceutical Preparations"
          ],
          [
           "ARDELYX, INC.",
           "Pharmaceutical Preparations"
          ],
          [
           "PROTAGONIST THERAPEUTICS, INC",
           "Pharmaceutical Preparations"
          ],
          [
           "MOLECULIN BIOTECH, INC.",
           "Pharmaceutical Preparations"
          ],
          [
           "IRONWOOD PHARMACEUTICALS INC",
           "Pharmaceutical Preparations"
          ],
          [
           "FORTRESS BIOTECH, INC.",
           "Pharmaceutical Preparations"
          ],
          [
           "SYNTHETIC BIOLOGICS, INC.",
           "Pharmaceutical Preparations"
          ],
          [
           "OPTINOSE, INC.",
           "Pharmaceutical Preparations"
          ],
          [
           "CORMEDIX INC.",
           "Pharmaceutical Preparations"
          ],
          [
           "HEAT BIOLOGICS, INC.",
           "Pharmaceutical Preparations"
          ],
          [
           "SUN BIOPHARMA, INC.",
           "Pharmaceutical Preparations"
          ],
          [
           "BELLEROPHON THERAPEUTICS, INC.",
           "Pharmaceutical Preparations"
          ],
          [
           "BIOSPECIFICS TECHNOLOGIES CORP",
           "Pharmaceutical Preparations"
          ],
          [
           "ZOSANO PHARMA CORP",
           "Pharmaceutical Preparations"
          ],
          [
           "CV SCIENCES, INC.",
           "Pharmaceutical Preparations"
          ],
          [
           "LILLY ELI & CO",
           "Pharmaceutical Preparations"
          ],
          [
           "SAREPTA THERAPEUTICS, INC.",
           "Pharmaceutical Preparations"
          ],
          [
           "EXICURE, INC.",
           "Pharmaceutical Preparations"
          ],
          [
           "OVID THERAPEUTICS INC.",
           "Pharmaceutical Preparations"
          ],
          [
           "IMPRIMIS PHARMACEUTICALS, INC.",
           "Pharmaceutical Preparations"
          ],
          [
           "IONIS PHARMACEUTICALS INC",
           "Pharmaceutical Preparations"
          ],
          [
           "ONCOMED PHARMACEUTICALS INC",
           "Pharmaceutical Preparations"
          ],
          [
           "TONIX PHARMACEUTICALS HOLDING CORP.",
           "Pharmaceutical Preparations"
          ],
          [
           "TEVA PHARMACEUTICAL INDUSTRIES LTD",
           "Pharmaceutical Preparations"
          ],
          [
           "RHYTHM PHARMACEUTICALS, INC.",
           "Pharmaceutical Preparations"
          ],
          [
           "COCRYSTAL PHARMA, INC.",
           "Pharmaceutical Preparations"
          ],
          [
           "REGENERON PHARMACEUTICALS INC",
           "Pharmaceutical Preparations"
          ],
          [
           "ANI PHARMACEUTICALS INC",
           "Pharmaceutical Preparations"
          ],
          [
           "CLEARSIDE BIOMEDICAL, INC.",
           "Pharmaceutical Preparations"
          ],
          [
           "LIPOCINE INC.",
           "Pharmaceutical Preparations"
          ],
          [
           "GALECTIN THERAPEUTICS INC",
           "Pharmaceutical Preparations"
          ],
          [
           "STEMLINE THERAPEUTICS INC",
           "Pharmaceutical Preparations"
          ],
          [
           "DOVA PHARMACEUTICALS, INC.",
           "Pharmaceutical Preparations"
          ],
          [
           "ABBVIE INC.",
           "Pharmaceutical Preparations"
          ],
          [
           "AKORN INC",
           "Pharmaceutical Preparations"
          ],
          [
           "VALEANT PHARMACEUTICALS INTERNATIONAL, INC.",
           "Pharmaceutical Preparations"
          ],
          [
           "INTELGENX TECHNOLOGIES CORP.",
           "Pharmaceutical Preparations"
          ],
          [
           "PFIZER INC",
           "Pharmaceutical Preparations"
          ],
          [
           "SKINVISIBLE INC",
           "Pharmaceutical Preparations"
          ],
          [
           "TAPIMMUNE INC.",
           "Pharmaceutical Preparations"
          ],
          [
           "THERAPEUTICSMD, INC.",
           "Pharmaceutical Preparations"
          ],
          [
           "AQUINOX PHARMACEUTICALS, INC",
           "Pharmaceutical Preparations"
          ],
          [
           "GLOBAL BLOOD THERAPEUTICS, INC.",
           "Pharmaceutical Preparations"
          ],
          [
           "RIGEL PHARMACEUTICALS INC",
           "Pharmaceutical Preparations"
          ],
          [
           "PARATEK PHARMACEUTICALS, INC.",
           "Pharmaceutical Preparations"
          ],
          [
           "PERRIGO CO PLC",
           "Pharmaceutical Preparations"
          ],
          [
           "ZAFGEN, INC.",
           "Pharmaceutical Preparations"
          ],
          [
           "OPHTHOTECH CORP.",
           "Pharmaceutical Preparations"
          ],
          [
           "ACHILLION PHARMACEUTICALS INC",
           "Pharmaceutical Preparations"
          ],
          [
           "KEMPHARM, INC",
           "Pharmaceutical Preparations"
          ],
          [
           "INTERCEPT PHARMACEUTICALS INC",
           "Pharmaceutical Preparations"
          ],
          [
           "ULTRAGENYX PHARMACEUTICAL INC.",
           "Pharmaceutical Preparations"
          ],
          [
           "EMERGENT BIOSOLUTIONS INC.",
           "Pharmaceutical Preparations"
          ],
          [
           "ACER THERAPEUTICS INC.",
           "Pharmaceutical Preparations"
          ],
          [
           "HERON THERAPEUTICS, INC. /DE/",
           "Pharmaceutical Preparations"
          ],
          [
           "ADAMIS PHARMACEUTICALS CORP",
           "Pharmaceutical Preparations"
          ],
          [
           "GT BIOPHARMA, INC.",
           "Pharmaceutical Preparations"
          ],
          [
           "GT BIOPHARMA, INC.",
           "Pharmaceutical Preparations"
          ],
          [
           "GT BIOPHARMA, INC.",
           "Pharmaceutical Preparations"
          ],
          [
           "GT BIOPHARMA, INC.",
           "Pharmaceutical Preparations"
          ],
          [
           "GT BIOPHARMA, INC.",
           "Pharmaceutical Preparations"
          ],
          [
           "GT BIOPHARMA, INC.",
           "Pharmaceutical Preparations"
          ],
          [
           "IMMUNOGEN INC",
           "Pharmaceutical Preparations"
          ],
          [
           "PTC THERAPEUTICS, INC.",
           "Pharmaceutical Preparations"
          ],
          [
           "MANNKIND CORP",
           "Pharmaceutical Preparations"
          ],
          [
           "CARDAX, INC.",
           "Pharmaceutical Preparations"
          ],
          [
           "SYROS PHARMACEUTICALS, INC.",
           "Pharmaceutical Preparations"
          ],
          [
           "ADURO BIOTECH, INC.",
           "Pharmaceutical Preparations"
          ],
          [
           "SIENNA BIOPHARMACEUTICALS, INC.",
           "Pharmaceutical Preparations"
          ],
          [
           "ACHAOGEN INC",
           "Pharmaceutical Preparations"
          ],
          [
           "UNITED CANNABIS CORP",
           "Pharmaceutical Preparations"
          ],
          [
           "UNITED CANNABIS CORP",
           "Pharmaceutical Preparations"
          ],
          [
           "RXI PHARMACEUTICALS CORP",
           "Pharmaceutical Preparations"
          ],
          [
           "RXI PHARMACEUTICALS CORP",
           "Pharmaceutical Preparations"
          ],
          [
           "RXI PHARMACEUTICALS CORP",
           "Pharmaceutical Preparations"
          ],
          [
           "RXI PHARMACEUTICALS CORP",
           "Pharmaceutical Preparations"
          ],
          [
           "SOLIGENIX, INC.",
           "Pharmaceutical Preparations"
          ],
          [
           "XOMA CORP",
           "Pharmaceutical Preparations"
          ],
          [
           "SIERRA ONCOLOGY, INC.",
           "Pharmaceutical Preparations"
          ],
          [
           "ACTINIUM PHARMACEUTICALS, INC.",
           "Pharmaceutical Preparations"
          ],
          [
           "ORAGENICS INC",
           "Pharmaceutical Preparations"
          ],
          [
           "ATHERSYS, INC / NEW",
           "Pharmaceutical Preparations"
          ],
          [
           "PULMATRIX, INC.",
           "Pharmaceutical Preparations"
          ],
          [
           "ACADIA PHARMACEUTICALS INC",
           "Pharmaceutical Preparations"
          ],
          [
           "TREVENA INC",
           "Pharmaceutical Preparations"
          ],
          [
           "NATURES SUNSHINE PRODUCTS INC",
           "Pharmaceutical Preparations"
          ],
          [
           "FLEXION THERAPEUTICS INC",
           "Pharmaceutical Preparations"
          ],
          [
           "VERASTEM, INC.",
           "Pharmaceutical Preparations"
          ],
          [
           "XENON PHARMACEUTICALS INC.",
           "Pharmaceutical Preparations"
          ],
          [
           "SUNESIS PHARMACEUTICALS INC",
           "Pharmaceutical Preparations"
          ],
          [
           "CORVUS PHARMACEUTICALS, INC.",
           "Pharmaceutical Preparations"
          ],
          [
           "MERCK & CO., INC.",
           "Pharmaceutical Preparations"
          ],
          [
           "STRONGBRIDGE BIOPHARMA PLC",
           "Pharmaceutical Preparations"
          ],
          [
           "CATALYST PHARMACEUTICALS, INC.",
           "Pharmaceutical Preparations"
          ],
          [
           "ASSEMBLY BIOSCIENCES, INC.",
           "Pharmaceutical Preparations"
          ],
          [
           "APRICUS BIOSCIENCES, INC.",
           "Pharmaceutical Preparations"
          ],
          [
           "CATALYST BIOSCIENCES, INC.",
           "Pharmaceutical Preparations"
          ],
          [
           "MIRATI THERAPEUTICS, INC.",
           "Pharmaceutical Preparations"
          ],
          [
           "MUSTANG BIO, INC.",
           "Pharmaceutical Preparations"
          ],
          [
           "ACELRX PHARMACEUTICALS INC",
           "Pharmaceutical Preparations"
          ],
          [
           "BLUEPRINT MEDICINES CORP",
           "Pharmaceutical Preparations"
          ],
          [
           "ATHENEX, INC.",
           "Pharmaceutical Preparations"
          ],
          [
           "ATHENEX, INC.",
           "Pharmaceutical Preparations"
          ],
          [
           "RECRO PHARMA, INC.",
           "Pharmaceutical Preparations"
          ],
          [
           "BIOHAVEN PHARMACEUTICAL HOLDING CO LTD.",
           "Pharmaceutical Preparations"
          ],
          [
           "PROTHENA CORP PLC",
           "Pharmaceutical Preparations"
          ],
          [
           "AVENUE THERAPEUTICS, INC.",
           "Pharmaceutical Preparations"
          ],
          [
           "VTV THERAPEUTICS INC.",
           "Pharmaceutical Preparations"
          ],
          [
           "ZYNERBA PHARMACEUTICALS, INC.",
           "Pharmaceutical Preparations"
          ],
          [
           "BIOMARIN PHARMACEUTICAL INC",
           "Pharmaceutical Preparations"
          ],
          [
           "KARYOPHARM THERAPEUTICS INC.",
           "Pharmaceutical Preparations"
          ],
          [
           "LEXICON PHARMACEUTICALS, INC.",
           "Pharmaceutical Preparations"
          ],
          [
           "ENDO INTERNATIONAL PLC",
           "Pharmaceutical Preparations"
          ],
          [
           "PROPHASE LABS, INC.",
           "Pharmaceutical Preparations"
          ],
          [
           "CELLECTAR BIOSCIENCES, INC.",
           "Pharmaceutical Preparations"
          ],
          [
           "RITTER PHARMACEUTICALS INC",
           "Pharmaceutical Preparations"
          ],
          [
           "MARINUS PHARMACEUTICALS INC",
           "Pharmaceutical Preparations"
          ],
          [
           "CORCEPT THERAPEUTICS INC",
           "Pharmaceutical Preparations"
          ],
          [
           "ALNYLAM PHARMACEUTICALS, INC.",
           "Pharmaceutical Preparations"
          ],
          [
           "DARE BIOSCIENCE, INC.",
           "Pharmaceutical Preparations"
          ],
          [
           "TELIGENT, INC.",
           "Pharmaceutical Preparations"
          ],
          [
           "TELIGENT, INC.",
           "Pharmaceutical Preparations"
          ],
          [
           "ACLARIS THERAPEUTICS, INC.",
           "Pharmaceutical Preparations"
          ],
          [
           "VITAL THERAPIES INC",
           "Pharmaceutical Preparations"
          ],
          [
           "DECIPHERA PHARMACEUTICALS, INC.",
           "Pharmaceutical Preparations"
          ],
          [
           "CAPSTONE THERAPEUTICS CORP.",
           "Pharmaceutical Preparations"
          ],
          [
           "PACIRA PHARMACEUTICALS, INC.",
           "Pharmaceutical Preparations"
          ],
          [
           "UROGEN PHARMA LTD.",
           "Pharmaceutical Preparations"
          ],
          [
           "FIBROCELL SCIENCE, INC.",
           "Pharmaceutical Preparations"
          ],
          [
           "FLEX PHARMA, INC.",
           "Pharmaceutical Preparations"
          ],
          [
           "BIODELIVERY SCIENCES INTERNATIONAL INC",
           "Pharmaceutical Preparations"
          ],
          [
           "HORIZON PHARMA PLC",
           "Pharmaceutical Preparations"
          ],
          [
           "MERRIMACK PHARMACEUTICALS INC",
           "Pharmaceutical Preparations"
          ],
          [
           "CYCLACEL PHARMACEUTICALS, INC.",
           "Pharmaceutical Preparations"
          ],
          [
           "ZOETIS INC.",
           "Pharmaceutical Preparations"
          ]
         ],
         "hovertemplate": "color=Pharmaceutical Preparations<br>0=%{x}<br>1=%{y}<br>name=%{customdata[0]}<br>industry=%{customdata[1]}<extra></extra>",
         "legendgroup": "Pharmaceutical Preparations",
         "marker": {
          "color": "#00cc96",
          "symbol": "circle"
         },
         "mode": "markers",
         "name": "Pharmaceutical Preparations",
         "orientation": "v",
         "showlegend": true,
         "type": "scatter",
         "x": [
          0.37501114950227843,
          0.2792580215148054,
          0.36630374275376587,
          0.28555225084016916,
          0.27206651073247207,
          0.19044628305697836,
          0.19044628305697836,
          0.4499590492273315,
          0.43279637693554485,
          0.13955154409902185,
          0.13955154409902185,
          0.5047647442167457,
          0.48111817342738966,
          0.3558366303469024,
          0.45632951722375326,
          -0.21190843606359067,
          0.03156109947627543,
          0.03156109947627543,
          0.48158065693686586,
          0.4134479111104228,
          0.34383540774284377,
          -0.15914611153862473,
          -0.15914611153862473,
          0.41229175197102125,
          0.40828171052191525,
          0.4180459044143161,
          0.3520522716431968,
          0.14263776903325254,
          0.4317362269416485,
          0.36505733190439627,
          0.3602513638016068,
          0.4061501688870231,
          0.39994122512446656,
          0.39994122512446656,
          0.45567349039261484,
          0.37764768737264526,
          0.46710019463196734,
          0.3721378853011733,
          0.06683903602309614,
          0.4386970839640839,
          0.44900449913415547,
          0.4333142317042237,
          0.382045934099079,
          -0.12833930025362114,
          0.4517131996508442,
          0.4106865590561653,
          0.3722982002747168,
          0.38490850151525985,
          0.38490850151525985,
          0.447616714506468,
          0.4791143652419565,
          0.4071475795253208,
          0.4895366438517602,
          0.4518263244262992,
          0.41954095590135676,
          0.3198918652617579,
          0.46634890541167595,
          -0.06891523634510473,
          0.43241183401180316,
          0.44089056568074836,
          0.2985780383849541,
          0.334771600787714,
          0.4236049158173561,
          0.387676980357044,
          -0.07713492975200874,
          0.4248313318557104,
          0.280323917067051,
          0.5028261291570107,
          0.44365602473145743,
          0.4552202651431999,
          0.41021096368373466,
          0.46716821902678696,
          0.4650841581406465,
          0.3798762551347882,
          0.46454583706927577,
          0.46233260166654333,
          0.4351906190700259,
          0.08795075638761367,
          0.43498703593210664,
          0.3588543027867479,
          0.47017024524043444,
          0.35596768751649843,
          0.395202402306953,
          0.463161612726435,
          0.41057264270030236,
          0.35581304219642423,
          0.2841337642697654,
          0.44288647654401464,
          0.4703060375476286,
          0.39424435368442945,
          0.3374842119430224,
          0.34010294575013444,
          0.4484806949569947,
          0.4561856304993072,
          0.4164096499401042,
          0.43160446048850293,
          0.4154449121165518,
          0.4113663262784971,
          0.40923771339286813,
          0.39370716906449044,
          0.47566186147819767,
          0.4119277029233612,
          0.4486923085995924,
          0.4551234593693412,
          0.40918628276559965,
          0.41396127602299687,
          0.31262179160072046,
          0.40413554750344516,
          0.4356616242564586,
          0.36327559332823844,
          0.3065679664268484,
          0.4581801899276965,
          0.43954428759310366,
          0.4077380152992733,
          0.41013165637792126,
          0.4524782104403991,
          0.36102263119989203,
          0.08296741804182682,
          -0.16405703739514368,
          0.4729828019922084,
          0.45148994487223343,
          0.43676510915544364,
          0.3878804222703001,
          0.4839335670733027,
          0.448641831775217,
          0.2698454360230046,
          0.397179923640621,
          0.4490044687601883,
          0.41611848331241225,
          0.41611848331241225,
          0.41611848331241225,
          0.41611848331241225,
          0.41611848331241225,
          0.41611848331241225,
          0.5142457034100845,
          0.47117968115409753,
          0.43626467394458385,
          0.3869990480945916,
          0.49210440492969126,
          0.4431822018409308,
          0.4122107791634758,
          0.4214733975490632,
          0.33409674067733247,
          0.33409674067733247,
          0.42345305166144415,
          0.42345305166144415,
          0.42345305166144415,
          0.42345305166144415,
          0.4160658721863705,
          0.14471059635265202,
          0.4190316738918325,
          0.47298500754293765,
          0.4447464568510342,
          0.4397066372087253,
          0.4900467688588761,
          0.4483810906667963,
          0.40039275014096753,
          0.15860123376194607,
          0.34650963056897943,
          0.39823260103803654,
          0.41519494446826427,
          0.4492366106206016,
          0.3955058859017068,
          0.4443488261152719,
          0.4860383102638223,
          0.49658463441670997,
          0.4359094952804123,
          0.42376425490000463,
          0.4524034951117858,
          0.47976480780233477,
          0.4402181468255763,
          0.41771362645518495,
          0.4527444559109659,
          0.4703216834303152,
          0.4703216834303152,
          0.3580466217995061,
          0.3274249943445465,
          0.3924986948980297,
          0.3898983994771315,
          0.48585516866003436,
          0.45279330435601417,
          0.44919478369476123,
          0.40071697155093733,
          0.5020454483550206,
          0.4101342310711802,
          0.2930363446436076,
          0.42960693225005686,
          0.48868401015579815,
          0.42034117092096707,
          0.4858269079240643,
          0.4599680791738148,
          0.4601612693318789,
          0.24175685619230897,
          0.24175685619230897,
          0.4284187719374331,
          0.28185570756143985,
          0.43685934632379986,
          0.3588867081689874,
          0.2472450966044656,
          0.4666373521007469,
          0.48877660434297826,
          0.31518275217479935,
          0.4286223271754506,
          0.4298296823944708,
          0.4928228935548836,
          0.468649899364767,
          -0.14262384222502833
         ],
         "xaxis": "x",
         "y": [
          0.12326811303287308,
          -0.033102127022514444,
          0.0921199900180445,
          0.02375192668845631,
          -0.10708382734717113,
          0.06651978508830651,
          0.06651978508830651,
          0.14490766609729538,
          0.1116330996995906,
          -0.14442944414050732,
          -0.14442944414050732,
          0.22073863283039277,
          0.1236514140198762,
          0.09437038442787601,
          0.1604422663392406,
          -0.11243593279479296,
          -0.0330602905858252,
          -0.0330602905858252,
          0.16326690941080874,
          0.07219220665339311,
          -0.040621689408764594,
          -0.024327474786391277,
          -0.024327474786391277,
          0.13045029694701654,
          0.04356931150354716,
          -0.001357649957936949,
          0.004319905931242989,
          -0.012116148420076587,
          0.11755469039370618,
          0.1085247568278741,
          0.12291612621499337,
          0.10144339762261344,
          0.17477473002975705,
          0.17477473002975705,
          0.20932615495014814,
          0.11394647477185695,
          0.02871234426071079,
          0.049390896759708876,
          -0.04710481457331035,
          0.15446487327052552,
          0.15805759269037417,
          0.15454405732838,
          0.07589992359745333,
          -0.09059629670220626,
          0.14187761958416442,
          0.1022950662213364,
          0.06834022103721676,
          0.018007110741437377,
          0.018007110741437377,
          0.19251124433749148,
          0.14515306964793845,
          0.18389251348881136,
          0.16439490600278892,
          0.13309271696082664,
          0.12922504218857173,
          -0.019974929820132103,
          0.10755504497380226,
          0.06582122103254466,
          0.1874249408888868,
          0.046262516801000596,
          0.0862792405481217,
          0.07767973030231606,
          0.11720908284922198,
          0.006677305591264258,
          0.049813280740444735,
          0.12822571725578005,
          -0.0324952326492457,
          0.16271277624884134,
          0.19496954120512527,
          0.12238771502321291,
          0.025347509068639352,
          0.08962006311798797,
          0.16484214491600577,
          0.10763498980165727,
          0.21725930861565593,
          0.14859179124412983,
          0.0824405253317559,
          -0.060483145650081165,
          0.09546049666634453,
          -0.015694163325698535,
          0.16009858789123327,
          0.1112425866425031,
          0.10765021785672746,
          0.018571162354095196,
          0.044791613088941556,
          0.02273394400186124,
          -0.06086913899072434,
          0.1026399820820781,
          0.13560376867784205,
          0.1075934983954176,
          0.09337704445787699,
          0.014729196466403882,
          0.07046902513544491,
          0.14514040961115018,
          0.09764343576775933,
          0.043950579953257574,
          0.09173600746139511,
          0.08919724477114759,
          0.09959750998899648,
          0.004450296099767825,
          0.17844410792654877,
          0.16409503723600932,
          0.10040718375207765,
          0.13054956161361403,
          0.15298765783756177,
          0.0808798975886012,
          -0.0054786288876925255,
          -0.0015866563879732764,
          0.07568145899428241,
          -0.07937899794704961,
          -0.034056450239283824,
          0.15871888373638138,
          0.04030986589101152,
          0.12584999131365757,
          0.1643651069308538,
          0.11287691338273016,
          0.1380479032415441,
          -0.15937262630987414,
          -0.08637664560181359,
          0.14406419964045836,
          0.1991969366675099,
          0.14867079375306078,
          0.09439381009781117,
          0.02714077993868043,
          0.08325516310988479,
          0.028675216873331775,
          0.13066042960770255,
          0.1481310409621865,
          0.08307623071935921,
          0.08307623071935921,
          0.08307623071935921,
          0.08307623071935921,
          0.08307623071935921,
          0.08307623071935921,
          0.13165593033062076,
          0.15661220725252223,
          0.08513788327850695,
          0.15671391528591544,
          0.1736119765025119,
          0.12591080907924485,
          -0.01219280693800472,
          0.12970336330927856,
          0.03915069535566248,
          0.03915069535566248,
          0.11331293911834213,
          0.11331293911834213,
          0.11331293911834213,
          0.11331293911834213,
          0.11326842999653136,
          -0.042183231090267385,
          0.13998361599050277,
          0.12175903232755532,
          0.14175177700328875,
          0.047962989278597726,
          0.14554545934335159,
          0.11010501028285602,
          0.11936447944838402,
          -0.09701536311881505,
          0.02579973171511286,
          0.10823654577401975,
          0.0985061762109482,
          0.19101242040931293,
          0.1339082130347289,
          0.11012301105621063,
          0.17829186073051229,
          0.17090344163477494,
          0.07032750775477357,
          0.11842501272676098,
          0.16356890084247752,
          0.16120377341493644,
          0.13456340136485126,
          0.085600537418357,
          0.1271414662107441,
          0.17733263847652905,
          0.17733263847652905,
          0.1305240946135372,
          0.07434618266530735,
          0.01119975613404393,
          0.21938473262887548,
          0.0939007783320212,
          0.08381258280889269,
          0.07355731560693829,
          0.13323332951676384,
          0.09668788747822132,
          0.03228925250546861,
          0.10027102128591354,
          0.1192483794043077,
          0.16891122070566864,
          0.14301404970945392,
          0.1561686917447851,
          0.16873286274508745,
          0.08206744895851906,
          -0.019137692805494915,
          -0.019137692805494915,
          -0.04560087981225794,
          0.08796677477133973,
          0.2213603949140575,
          0.027982129507754073,
          -0.061039684971615146,
          0.18784926882481406,
          0.15602402984112787,
          0.09008562986247225,
          0.06451322953156104,
          0.029118215812108893,
          0.19182683011534177,
          0.21925131620033939,
          -0.09782410975446391
         ],
         "yaxis": "y"
        },
        {
         "customdata": [
          [
           "INVESTORS REAL ESTATE TRUST",
           "Real Estate Investment Trusts"
          ],
          [
           "BRT APARTMENTS CORP.",
           "Real Estate Investment Trusts"
          ],
          [
           "MONMOUTH REAL ESTATE INVESTMENT CORP",
           "Real Estate Investment Trusts"
          ],
          [
           "FIRST REAL ESTATE INVESTMENT TRUST OF NEW JERSEY",
           "Real Estate Investment Trusts"
          ],
          [
           "FIRST REAL ESTATE INVESTMENT TRUST OF NEW JERSEY",
           "Real Estate Investment Trusts"
          ],
          [
           "URSTADT BIDDLE PROPERTIES INC",
           "Real Estate Investment Trusts"
          ],
          [
           "URSTADT BIDDLE PROPERTIES INC",
           "Real Estate Investment Trusts"
          ],
          [
           "PHILLIPS EDISON & COMPANY, INC.",
           "Real Estate Investment Trusts"
          ],
          [
           "SL GREEN REALTY CORP",
           "Real Estate Investment Trusts"
          ],
          [
           "CUBESMART",
           "Real Estate Investment Trusts"
          ],
          [
           "CIM COMMERCIAL TRUST CORP",
           "Real Estate Investment Trusts"
          ],
          [
           "CERES TACTICAL SYSTEMATIC L.P.",
           "Real Estate Investment Trusts"
          ],
          [
           "PS BUSINESS PARKS INC/CA",
           "Real Estate Investment Trusts"
          ],
          [
           "STEADFAST INCOME REIT, INC.",
           "Real Estate Investment Trusts"
          ],
          [
           "RETAIL OPPORTUNITY INVESTMENTS CORP",
           "Real Estate Investment Trusts"
          ],
          [
           "MORGAN STANLEY SMITH BARNEY SPECTRUM SELECT LP",
           "Real Estate Investment Trusts"
          ],
          [
           "NEW YORK MORTGAGE TRUST INC",
           "Real Estate Investment Trusts"
          ],
          [
           "CBL & ASSOCIATES PROPERTIES INC",
           "Real Estate Investment Trusts"
          ],
          [
           "LEXINGTON REALTY TRUST",
           "Real Estate Investment Trusts"
          ],
          [
           "BRANDYWINE REALTY TRUST",
           "Real Estate Investment Trusts"
          ],
          [
           "LAMAR ADVERTISING CO/NEW",
           "Real Estate Investment Trusts"
          ],
          [
           "JBG SMITH PROPERTIES",
           "Real Estate Investment Trusts"
          ],
          [
           "KBS REAL ESTATE INVESTMENT TRUST III, INC.",
           "Real Estate Investment Trusts"
          ],
          [
           "CAPSTEAD MORTGAGE CORP",
           "Real Estate Investment Trusts"
          ],
          [
           "GGP INC.",
           "Real Estate Investment Trusts"
          ],
          [
           "QTS REALTY TRUST, INC.",
           "Real Estate Investment Trusts"
          ],
          [
           "WELLS FARGO REAL ESTATE INVESTMENT CORP.",
           "Real Estate Investment Trusts"
          ],
          [
           "LIGHTSTONE VALUE PLUS REAL ESTATE INVESTMENT TRUST V, INC.",
           "Real Estate Investment Trusts"
          ],
          [
           "RESOURCE APARTMENT REIT III, INC.",
           "Real Estate Investment Trusts"
          ],
          [
           "CNL HEALTHCARE PROPERTIES, INC.",
           "Real Estate Investment Trusts"
          ],
          [
           "RETAIL PROPERTIES OF AMERICA, INC.",
           "Real Estate Investment Trusts"
          ],
          [
           "BOSTON PROPERTIES INC",
           "Real Estate Investment Trusts"
          ],
          [
           "REGENCY CENTERS CORP",
           "Real Estate Investment Trusts"
          ],
          [
           "NATIONAL HEALTH INVESTORS INC",
           "Real Estate Investment Trusts"
          ],
          [
           "DRIVE SHACK INC.",
           "Real Estate Investment Trusts"
          ],
          [
           "COLE CREDIT PROPERTY TRUST V, INC.",
           "Real Estate Investment Trusts"
          ],
          [
           "EQUITY RESIDENTIAL",
           "Real Estate Investment Trusts"
          ],
          [
           "KITE REALTY GROUP TRUST",
           "Real Estate Investment Trusts"
          ],
          [
           "OUTFRONT MEDIA INC.",
           "Real Estate Investment Trusts"
          ],
          [
           "PENNSYLVANIA REAL ESTATE INVESTMENT TRUST",
           "Real Estate Investment Trusts"
          ],
          [
           "COLE REAL ESTATE INCOME STRATEGY (DAILY NAV), INC.",
           "Real Estate Investment Trusts"
          ],
          [
           "REALTY INCOME CORP",
           "Real Estate Investment Trusts"
          ],
          [
           "GLOBAL MEDICAL REIT INC.",
           "Real Estate Investment Trusts"
          ],
          [
           "PILLARSTONE CAPITAL REIT",
           "Real Estate Investment Trusts"
          ],
          [
           "CLIPPER REALTY INC.",
           "Real Estate Investment Trusts"
          ],
          [
           "BLACK CREEK INDUSTRIAL REIT IV INC.",
           "Real Estate Investment Trusts"
          ],
          [
           "LIGHTSTONE VALUE PLUS REAL ESTATE INVESTMENT TRUST, INC.",
           "Real Estate Investment Trusts"
          ],
          [
           "KKR REAL ESTATE FINANCE TRUST INC.",
           "Real Estate Investment Trusts"
          ],
          [
           "GEO GROUP INC",
           "Real Estate Investment Trusts"
          ],
          [
           "AMERICAN ASSETS TRUST, INC.",
           "Real Estate Investment Trusts"
          ],
          [
           "IMPAC MORTGAGE HOLDINGS INC",
           "Real Estate Investment Trusts"
          ],
          [
           "CNL HEALTHCARE PROPERTIES II, INC.",
           "Real Estate Investment Trusts"
          ],
          [
           "ANWORTH MORTGAGE ASSET CORP",
           "Real Estate Investment Trusts"
          ],
          [
           "LIGHTSTONE VALUE PLUS REAL ESTATE INVESTMENT TRUST III, INC.",
           "Real Estate Investment Trusts"
          ],
          [
           "AMERICAN FINANCE TRUST, INC",
           "Real Estate Investment Trusts"
          ],
          [
           "EQUITY COMMONWEALTH",
           "Real Estate Investment Trusts"
          ],
          [
           "FOUR CORNERS PROPERTY TRUST, INC.",
           "Real Estate Investment Trusts"
          ],
          [
           "RAYONIER INC",
           "Real Estate Investment Trusts"
          ],
          [
           "HOST HOTELS & RESORTS, INC.",
           "Real Estate Investment Trusts"
          ],
          [
           "GAMING & LEISURE PROPERTIES, INC.",
           "Real Estate Investment Trusts"
          ],
          [
           "NATIONAL RETAIL PROPERTIES, INC.",
           "Real Estate Investment Trusts"
          ],
          [
           "SENIOR HOUSING PROPERTIES TRUST",
           "Real Estate Investment Trusts"
          ],
          [
           "SUTHERLAND ASSET MANAGEMENT CORP",
           "Real Estate Investment Trusts"
          ],
          [
           "TAUBMAN CENTERS INC",
           "Real Estate Investment Trusts"
          ],
          [
           "RESOURCE REAL ESTATE OPPORTUNITY REIT, INC.",
           "Real Estate Investment Trusts"
          ],
          [
           "TANGER FACTORY OUTLET CENTERS INC",
           "Real Estate Investment Trusts"
          ],
          [
           "MFA FINANCIAL, INC.",
           "Real Estate Investment Trusts"
          ],
          [
           "TERRA SECURED INCOME FUND 5, LLC",
           "Real Estate Investment Trusts"
          ],
          [
           "SBA COMMUNICATIONS CORP",
           "Real Estate Investment Trusts"
          ],
          [
           "LIGHTSTONE VALUE PLUS REAL ESTATE INVESTMENT TRUST II INC",
           "Real Estate Investment Trusts"
          ],
          [
           "JONES LANG LASALLE INCOME PROPERTY TRUST, INC.",
           "Real Estate Investment Trusts"
          ],
          [
           "AVALONBAY COMMUNITIES INC",
           "Real Estate Investment Trusts"
          ],
          [
           "ARES COMMERCIAL REAL ESTATE CORP",
           "Real Estate Investment Trusts"
          ],
          [
           "CARTER VALIDUS MISSION CRITICAL REIT II, INC.",
           "Real Estate Investment Trusts"
          ],
          [
           "PHYSICIANS REALTY TRUST",
           "Real Estate Investment Trusts"
          ],
          [
           "PROLOGIS, INC.",
           "Real Estate Investment Trusts"
          ],
          [
           "ARMOUR RESIDENTIAL REIT, INC.",
           "Real Estate Investment Trusts"
          ],
          [
           "CHERRY HILL MORTGAGE INVESTMENT CORP",
           "Real Estate Investment Trusts"
          ],
          [
           "EMPIRE STATE REALTY TRUST, INC.",
           "Real Estate Investment Trusts"
          ],
          [
           "PUBLIC STORAGE",
           "Real Estate Investment Trusts"
          ],
          [
           "APARTMENT INVESTMENT & MANAGEMENT CO",
           "Real Estate Investment Trusts"
          ],
          [
           "CEDAR REALTY TRUST, INC.",
           "Real Estate Investment Trusts"
          ],
          [
           "HIGHLANDS REIT, INC.",
           "Real Estate Investment Trusts"
          ],
          [
           "IRON MOUNTAIN INC",
           "Real Estate Investment Trusts"
          ],
          [
           "SOTHERLY HOTELS INC.",
           "Real Estate Investment Trusts"
          ],
          [
           "EMPIRE STATE REALTY OP, L.P.",
           "Real Estate Investment Trusts"
          ],
          [
           "ESSEX PROPERTY TRUST INC",
           "Real Estate Investment Trusts"
          ],
          [
           "WEINGARTEN REALTY INVESTORS /TX/",
           "Real Estate Investment Trusts"
          ],
          [
           "CONDOR HOSPITALITY TRUST, INC.",
           "Real Estate Investment Trusts"
          ],
          [
           "CITY OFFICE REIT, INC.",
           "Real Estate Investment Trusts"
          ],
          [
           "BENEFIT STREET PARTNERS REALTY TRUST, INC.",
           "Real Estate Investment Trusts"
          ],
          [
           "LIGHTSTONE REAL ESTATE INCOME TRUST INC.",
           "Real Estate Investment Trusts"
          ],
          [
           "AMERICAN CAMPUS COMMUNITIES INC",
           "Real Estate Investment Trusts"
          ],
          [
           "STARWOOD PROPERTY TRUST, INC.",
           "Real Estate Investment Trusts"
          ],
          [
           "CORESITE REALTY CORP",
           "Real Estate Investment Trusts"
          ],
          [
           "POTLATCH CORP",
           "Real Estate Investment Trusts"
          ],
          [
           "CORPORATE OFFICE PROPERTIES TRUST",
           "Real Estate Investment Trusts"
          ],
          [
           "RAMCO GERSHENSON PROPERTIES TRUST",
           "Real Estate Investment Trusts"
          ],
          [
           "NATIONAL STORAGE AFFILIATES TRUST",
           "Real Estate Investment Trusts"
          ],
          [
           "HERSHA HOSPITALITY TRUST",
           "Real Estate Investment Trusts"
          ],
          [
           "JERNIGAN CAPITAL, INC.",
           "Real Estate Investment Trusts"
          ],
          [
           "VORNADO REALTY TRUST",
           "Real Estate Investment Trusts"
          ],
          [
           "ISTAR INC.",
           "Real Estate Investment Trusts"
          ],
          [
           "ALEXANDER & BALDWIN, INC.",
           "Real Estate Investment Trusts"
          ],
          [
           "HOSPITALITY INVESTORS TRUST, INC.",
           "Real Estate Investment Trusts"
          ],
          [
           "SAUL CENTERS INC",
           "Real Estate Investment Trusts"
          ],
          [
           "KBS GROWTH & INCOME REIT, INC.",
           "Real Estate Investment Trusts"
          ],
          [
           "EXTRA SPACE STORAGE INC.",
           "Real Estate Investment Trusts"
          ],
          [
           "CHESAPEAKE LODGING TRUST",
           "Real Estate Investment Trusts"
          ],
          [
           "LTC PROPERTIES INC",
           "Real Estate Investment Trusts"
          ],
          [
           "EASTERLY GOVERNMENT PROPERTIES, INC.",
           "Real Estate Investment Trusts"
          ],
          [
           "PLYMOUTH INDUSTRIAL REIT INC.",
           "Real Estate Investment Trusts"
          ],
          [
           "FRANKLIN STREET PROPERTIES CORP /MA/",
           "Real Estate Investment Trusts"
          ],
          [
           "HEALTHCARE TRUST OF AMERICA, INC.",
           "Real Estate Investment Trusts"
          ],
          [
           "REALSOURCE RESIDENTIAL, INC",
           "Real Estate Investment Trusts"
          ],
          [
           "CARTER VALIDUS MISSION CRITICAL REIT, INC.",
           "Real Estate Investment Trusts"
          ],
          [
           "SUN COMMUNITIES INC",
           "Real Estate Investment Trusts"
          ],
          [
           "FIRST EQUITY PROPERTIES INC",
           "Real Estate Investment Trusts"
          ],
          [
           "MID AMERICA APARTMENT COMMUNITIES INC",
           "Real Estate Investment Trusts"
          ],
          [
           "BROOKFIELD DTLA FUND OFFICE TRUST INVESTOR INC.",
           "Real Estate Investment Trusts"
          ],
          [
           "ANNALY CAPITAL MANAGEMENT INC",
           "Real Estate Investment Trusts"
          ],
          [
           "WHEELER REAL ESTATE INVESTMENT TRUST, INC.",
           "Real Estate Investment Trusts"
          ],
          [
           "ALEXANDRIA REAL ESTATE EQUITIES INC",
           "Real Estate Investment Trusts"
          ],
          [
           "HIGHWOODS PROPERTIES INC",
           "Real Estate Investment Trusts"
          ],
          [
           "KIMCO REALTY CORP",
           "Real Estate Investment Trusts"
          ],
          [
           "INDEPENDENCE REALTY TRUST, INC.",
           "Real Estate Investment Trusts"
          ],
          [
           "PREFERRED APARTMENT COMMUNITIES INC",
           "Real Estate Investment Trusts"
          ],
          [
           "ELLINGTON RESIDENTIAL MORTGAGE REIT",
           "Real Estate Investment Trusts"
          ],
          [
           "CORECIVIC, INC.",
           "Real Estate Investment Trusts"
          ],
          [
           "ASHFORD HOSPITALITY PRIME, INC.",
           "Real Estate Investment Trusts"
          ],
          [
           "LIFE STORAGE, INC.",
           "Real Estate Investment Trusts"
          ],
          [
           "HEALTHCARE REALTY TRUST INC",
           "Real Estate Investment Trusts"
          ],
          [
           "WINTHROP REALTY LIQUIDATING TRUST",
           "Real Estate Investment Trusts"
          ],
          [
           "CORENERGY INFRASTRUCTURE TRUST, INC.",
           "Real Estate Investment Trusts"
          ],
          [
           "KBS STRATEGIC OPPORTUNITY REIT II, INC.",
           "Real Estate Investment Trusts"
          ],
          [
           "PEBBLEBROOK HOTEL TRUST",
           "Real Estate Investment Trusts"
          ],
          [
           "SABRA HEALTH CARE REIT, INC.",
           "Real Estate Investment Trusts"
          ],
          [
           "POWER REIT",
           "Real Estate Investment Trusts"
          ],
          [
           "DYNEX CAPITAL INC",
           "Real Estate Investment Trusts"
          ],
          [
           "DIGITAL REALTY TRUST, INC.",
           "Real Estate Investment Trusts"
          ],
          [
           "STRATEGIC REALTY TRUST, INC.",
           "Real Estate Investment Trusts"
          ],
          [
           "COLE OFFICE & INDUSTRIAL REIT (CCIT III), INC.",
           "Real Estate Investment Trusts"
          ],
          [
           "HEALTHCARE TRUST, INC.",
           "Real Estate Investment Trusts"
          ],
          [
           "LADDER CAPITAL CORP",
           "Real Estate Investment Trusts"
          ],
          [
           "CROWN CASTLE INTERNATIONAL CORP",
           "Real Estate Investment Trusts"
          ],
          [
           "HOWARD HUGHES CORP",
           "Real Estate Investment Trusts"
          ],
          [
           "ALEXANDERS INC",
           "Real Estate Investment Trusts"
          ],
          [
           "MANHATTAN BRIDGE CAPITAL, INC",
           "Real Estate Investment Trusts"
          ],
          [
           "INLAND REAL ESTATE INCOME TRUST, INC.",
           "Real Estate Investment Trusts"
          ],
          [
           "INLAND RESIDENTIAL PROPERTIES TRUST, INC.",
           "Real Estate Investment Trusts"
          ],
          [
           "INLAND RESIDENTIAL PROPERTIES TRUST, INC.",
           "Real Estate Investment Trusts"
          ],
          [
           "KBS REAL ESTATE INVESTMENT TRUST II, INC.",
           "Real Estate Investment Trusts"
          ],
          [
           "RESOURCE REAL ESTATE OPPORTUNITY REIT II, INC.",
           "Real Estate Investment Trusts"
          ],
          [
           "STEADFAST APARTMENT REIT III, INC.",
           "Real Estate Investment Trusts"
          ],
          [
           "ACADIA REALTY TRUST",
           "Real Estate Investment Trusts"
          ],
          [
           "HMG COURTLAND PROPERTIES INC",
           "Real Estate Investment Trusts"
          ],
          [
           "COLE CREDIT PROPERTY TRUST IV, INC.",
           "Real Estate Investment Trusts"
          ],
          [
           "FIVE OAKS INVESTMENT CORP.",
           "Real Estate Investment Trusts"
          ],
          [
           "NEXPOINT RESIDENTIAL TRUST, INC.",
           "Real Estate Investment Trusts"
          ],
          [
           "TWO HARBORS INVESTMENT CORP.",
           "Real Estate Investment Trusts"
          ],
          [
           "WASHINGTON PRIME GROUP INC.",
           "Real Estate Investment Trusts"
          ],
          [
           "TIER REIT INC",
           "Real Estate Investment Trusts"
          ],
          [
           "GRANITE POINT MORTGAGE TRUST INC.",
           "Real Estate Investment Trusts"
          ],
          [
           "GREAT AJAX CORP.",
           "Real Estate Investment Trusts"
          ],
          [
           "DUKE REALTY CORP",
           "Real Estate Investment Trusts"
          ],
          [
           "EASTGROUP PROPERTIES INC",
           "Real Estate Investment Trusts"
          ],
          [
           "STEADFAST APARTMENT REIT, INC.",
           "Real Estate Investment Trusts"
          ],
          [
           "RECKSON OPERATING PARTNERSHIP LP",
           "Real Estate Investment Trusts"
          ],
          [
           "GLOBAL NET LEASE, INC.",
           "Real Estate Investment Trusts"
          ],
          [
           "KBS STRATEGIC OPPORTUNITY REIT, INC.",
           "Real Estate Investment Trusts"
          ],
          [
           "WHITESTONE REIT",
           "Real Estate Investment Trusts"
          ],
          [
           "GRIFFIN CAPITAL ESSENTIAL ASSET REIT II, INC.",
           "Real Estate Investment Trusts"
          ],
          [
           "UDR, INC.",
           "Real Estate Investment Trusts"
          ],
          [
           "COMMUNITY HEALTHCARE TRUST INC",
           "Real Estate Investment Trusts"
          ],
          [
           "VENTAS INC",
           "Real Estate Investment Trusts"
          ],
          [
           "OWENS REALTY MORTGAGE, INC.",
           "Real Estate Investment Trusts"
          ],
          [
           "KILROY REALTY CORP",
           "Real Estate Investment Trusts"
          ],
          [
           "SUMMIT HOTEL PROPERTIES, INC.",
           "Real Estate Investment Trusts"
          ],
          [
           "CORPORATE PROPERTY ASSOCIATES 18 GLOBAL INC",
           "Real Estate Investment Trusts"
          ],
          [
           "CYRUSONE INC.",
           "Real Estate Investment Trusts"
          ],
          [
           "COLONY NORTHSTAR, INC.",
           "Real Estate Investment Trusts"
          ],
          [
           "FEDERAL REALTY INVESTMENT TRUST",
           "Real Estate Investment Trusts"
          ],
          [
           "NEW SENIOR INVESTMENT GROUP INC.",
           "Real Estate Investment Trusts"
          ],
          [
           "RYMAN HOSPITALITY PROPERTIES, INC.",
           "Real Estate Investment Trusts"
          ],
          [
           "BRIXMOR PROPERTY GROUP INC.",
           "Real Estate Investment Trusts"
          ],
          [
           "COLE OFFICE & INDUSTRIAL REIT (CCIT II), INC.",
           "Real Estate Investment Trusts"
          ],
          [
           "OMEGA HEALTHCARE INVESTORS INC",
           "Real Estate Investment Trusts"
          ],
          [
           "REVEN HOUSING REIT, INC.",
           "Real Estate Investment Trusts"
          ],
          [
           "AMERICAN REALTY CAPITAL NEW YORK CITY REIT, INC.",
           "Real Estate Investment Trusts"
          ],
          [
           "STAG INDUSTRIAL, INC.",
           "Real Estate Investment Trusts"
          ],
          [
           "EQUINIX INC",
           "Real Estate Investment Trusts"
          ]
         ],
         "hovertemplate": "color=Real Estate Investment Trusts<br>0=%{x}<br>1=%{y}<br>name=%{customdata[0]}<br>industry=%{customdata[1]}<extra></extra>",
         "legendgroup": "Real Estate Investment Trusts",
         "marker": {
          "color": "#ab63fa",
          "symbol": "circle"
         },
         "mode": "markers",
         "name": "Real Estate Investment Trusts",
         "orientation": "v",
         "showlegend": true,
         "type": "scatter",
         "x": [
          -0.30028044241387714,
          -0.25556955388075986,
          -0.27301939554517235,
          -0.32431244799311115,
          -0.32431244799311115,
          -0.2897982779482251,
          -0.2897982779482251,
          -0.25252554719311915,
          -0.31207074683855474,
          -0.15266634052977524,
          -0.21705875900357244,
          -0.16802015566343625,
          -0.2767108445021348,
          -0.29452702436254835,
          -0.2962012868307276,
          -0.13103032878608603,
          -0.30944439394645734,
          -0.3073831779176779,
          -0.3261567064303049,
          -0.31172880196396396,
          -0.00739207083274784,
          -0.21759054761374638,
          -0.32039350637686975,
          -0.2799815471565283,
          -0.2573512155298087,
          -0.012356540680317598,
          -0.3157042975849285,
          -0.2810168514339929,
          -0.19441930101438454,
          -0.23045444078755808,
          -0.24626866181529522,
          -0.10454057921852175,
          -0.3100837945857766,
          -0.21187877375609618,
          -0.201094671444786,
          -0.27927601160360443,
          -0.2102338880978394,
          -0.2798433822768522,
          0.007945982620539126,
          -0.26017632317148603,
          -0.25344283340414164,
          -0.3095041723849422,
          -0.10223149740454474,
          -0.3150623104985509,
          -0.3509437748102187,
          -0.2925359555097454,
          -0.1458526487276996,
          -0.2469953335197851,
          0.029811240681787504,
          -0.22280961478407402,
          -0.23774493290017845,
          -0.21898324626062574,
          -0.2640041544396352,
          -0.1458526487276996,
          -0.324042100899182,
          -0.2598062582302626,
          -0.28583434500531735,
          -0.2015325587785481,
          -0.3165360109314154,
          -0.2593297285661644,
          -0.3529794809933603,
          -0.18634900292646775,
          -0.2237756937680032,
          -0.09473603384321339,
          -0.25649436683753385,
          -0.10288342169968323,
          -0.22786909931150212,
          -0.2915025419856019,
          -0.22414691870598039,
          -0.1458526487276996,
          -0.292054184429855,
          -0.23642054226955306,
          -0.26993043769337827,
          -0.2458484816707359,
          -0.06272399688424496,
          -0.16350569448626787,
          -0.294253164959019,
          -0.260701264206975,
          -0.18250020424069918,
          -0.028020764522687543,
          -0.27203386837425514,
          -0.22393202696688774,
          -0.2843690927882152,
          -0.06399953791980798,
          -0.21957778357891758,
          -0.18845134319776616,
          -0.25282611081165907,
          -0.26278521919480075,
          -0.21277897520009686,
          -0.21786111048442555,
          -0.3035650413241956,
          -0.13694477074841419,
          -0.1717355105513297,
          -0.3239120243807501,
          -0.11093775722034142,
          -0.15795684618472194,
          -0.23641574321793463,
          -0.19328522033191614,
          -0.23258245438390107,
          -0.2567257242584721,
          -0.2660819572288382,
          -0.27487281088071175,
          -0.29687496568709587,
          -0.20008706709990834,
          -0.28114747727082123,
          -0.31353224797856216,
          -0.27559708995505006,
          -0.22187386329469014,
          -0.1390724752302852,
          -0.15731595061332548,
          -0.1847935179818072,
          -0.22203491641171222,
          -0.19216890995993824,
          -0.08241500677168792,
          -0.15469571127095244,
          -0.2572150281482258,
          -0.1121896560826402,
          -0.1766484089264727,
          -0.24843219508625033,
          -0.25906959952593706,
          -0.12537910328559332,
          -0.22475359657650498,
          -0.18423299020389397,
          -0.1647185845429848,
          -0.20921381885194193,
          -0.2504116199436387,
          -0.3156530425184572,
          -0.24270160522401119,
          -0.04967783252289736,
          -0.20481184194964602,
          -0.18891016818053588,
          -0.1324292700434794,
          -0.23642576873126428,
          -0.27752123835406056,
          -0.243145706939431,
          -0.23323652860719618,
          -0.1299929038637615,
          -0.2710841959788448,
          -0.22869534265161656,
          -0.014961654610269865,
          -0.2734988401652649,
          -0.26114377281270945,
          -0.10511045987662491,
          -0.2576051959000845,
          -0.22187942238151687,
          -0.2319247055119916,
          -0.22506953889219788,
          -0.2774082244568359,
          -0.24561367861429953,
          -0.2547453422005636,
          -0.2547453422005636,
          -0.27319680021020176,
          -0.2682062556642655,
          -0.25748109183580153,
          -0.23223966287003234,
          -0.18989256703155233,
          -0.2839751309080381,
          -0.29193376714767016,
          -0.26810382097047936,
          -0.2571306411669948,
          -0.2247544567675773,
          -0.18421396135708312,
          -0.2340935947847393,
          -0.2654429711959469,
          -0.16666485491570457,
          -0.20322682687214122,
          -0.3117466074707476,
          -0.18214385988546833,
          -0.27203291691883724,
          -0.26463047164285425,
          -0.24286622441326927,
          -0.2246707903427052,
          -0.2593061022249155,
          -0.11109146205552432,
          -0.24962048951059834,
          -0.29417372814673165,
          -0.17597339981817955,
          -0.21888186788536537,
          -0.2004699448929018,
          -0.10541513984265555,
          -0.21522311202632058,
          -0.2740455120455125,
          -0.12137571300904908,
          -0.07776583385657138,
          -0.22195634923148103,
          -0.2632588140748267,
          -0.15442463945500556,
          -0.2019632088375302,
          -0.31465913176383814,
          -0.25232563375274103,
          0.08322893997416013
         ],
         "xaxis": "x",
         "y": [
          -0.22432945796988008,
          -0.15230602673853919,
          -0.23485103153415873,
          0.01295578986095768,
          0.01295578986095768,
          -0.2770068698226513,
          -0.2770068698226513,
          -0.2805747177226514,
          -0.28709811766114535,
          -0.24978121737343173,
          -0.20723542428316882,
          -0.09382039135849256,
          -0.2862642403154138,
          -0.2813357900257001,
          -0.20396070118334828,
          -0.12520985351240502,
          -0.018127125051964853,
          -0.16481483828066723,
          -0.22498044461120761,
          -0.22929946366533957,
          -0.27120699338342125,
          -0.32399090201793995,
          -0.2365373972174001,
          0.13622169688581343,
          -0.2612045904936124,
          -0.29920223961842457,
          0.21028455446706062,
          -0.19246444316758754,
          -0.26896564164214004,
          -0.11946710628861065,
          -0.2382328755024673,
          -0.033776162379194015,
          -0.2533967090040549,
          -0.08077428211856223,
          -0.24204460847536866,
          -0.15503772214654873,
          -0.35782821012630756,
          -0.28684045640164124,
          -0.32730442442076707,
          -0.2913933030253951,
          -0.14520581950620237,
          -0.21651722119098984,
          -0.13319719516654543,
          -0.13194330456469444,
          -0.19708687489993854,
          -0.19897716952615774,
          0.08837718050830988,
          -0.07081460687800124,
          -0.10232911185795536,
          -0.2854404685804791,
          0.12334869643421983,
          -0.2342068705135837,
          0.01575748583851867,
          0.08837718050830988,
          -0.22261212364689156,
          -0.21548724916136655,
          -0.320039307674139,
          -0.06305088137838055,
          -0.1734268456449623,
          -0.12576789215201067,
          -0.1936796130095318,
          -0.09261498431239797,
          0.012039622200991595,
          -0.33624188011184475,
          -0.23324535564242513,
          -0.27169229132364314,
          0.06629080638178597,
          -0.07061713267037806,
          -0.17738007031045938,
          0.08837718050830988,
          -0.24644431560209787,
          -0.26661838362890533,
          -0.02685349244107829,
          -0.22320300677985427,
          -0.08445002478574895,
          -0.29016724636665897,
          -0.01425803971520442,
          -0.01881922391871078,
          -0.28126360772341286,
          0.010829033870459458,
          -0.3009008147718827,
          -0.16566388037494034,
          -0.21018756644033992,
          -0.33814757770163356,
          -0.310925070825435,
          -0.274256175123666,
          -0.21825293433948445,
          -0.32209920602362696,
          -0.31675434998141655,
          -0.12956058365664433,
          -0.025320804919820052,
          0.09020496983168089,
          -0.2568393078973097,
          -0.08279263881197194,
          -0.3649647038997125,
          -0.2654623152667243,
          -0.2979453549755405,
          -0.3198457302950279,
          -0.2894978063379225,
          -0.23935236002582996,
          -0.1781170719172989,
          -0.18779561094551292,
          -0.08960685098028737,
          -0.17609127459762855,
          -0.20832389886228986,
          -0.2708789181846038,
          -0.2500861863831989,
          -0.24702578610975165,
          -0.24377379554735912,
          -0.023600967714177273,
          -0.19547332018029207,
          -0.2789803413507421,
          -0.13874293883030042,
          -0.13785978005926375,
          -0.13935822656804006,
          -0.19013127052703374,
          -0.17274882581568723,
          -0.18672543049817072,
          -0.3388268354969895,
          -0.14010596193172015,
          0.09130835161875318,
          -0.17162444685082215,
          -0.26024769769076866,
          0.021546250832048565,
          -0.28745957432430214,
          -0.29428073144511685,
          -0.1822762757715804,
          -0.06096849051613779,
          -0.16722412558082056,
          -0.20063236918088384,
          -0.32909371935008364,
          -0.06690689482444316,
          -0.06581346712802773,
          -0.18289703645764008,
          -0.2010284286209192,
          -0.22803641476385436,
          -0.18146007902968692,
          -0.17531096998555004,
          0.05805083561019138,
          -0.3587988031711386,
          -0.189370164582305,
          -0.10705056970408032,
          -0.09786764226473088,
          0.02986139943297036,
          -0.12652233913644662,
          -0.3218318093151369,
          -0.22908843559363365,
          0.011806761486837567,
          -0.19197168799008127,
          -0.20907911703880383,
          -0.20907911703880383,
          -0.2577540081047384,
          -0.2056035725340775,
          -0.28615986670401466,
          -0.18967223063477598,
          -0.10078276022042927,
          -0.1439552087453557,
          -0.08185379468677485,
          -0.21125373544929094,
          0.04754969256061157,
          -0.1696802188135422,
          -0.1097622972005288,
          -0.07309992015506159,
          -0.07786455590368159,
          -0.17425089110067019,
          -0.08234707792876898,
          -0.28351404586078993,
          -0.17884226841984716,
          -0.13134055612949624,
          -0.17511022080443464,
          -0.3005806346962513,
          -0.1282352890670705,
          -0.2707795618700874,
          -0.12318443335993731,
          -0.20809345460393272,
          0.08643301680109813,
          -0.25174903555366923,
          -0.2470815806899498,
          -0.14801430274947414,
          -0.36827775852406136,
          -0.07518578960464808,
          -0.27375101975065264,
          -0.06523821554093008,
          -0.25637976542517993,
          -0.30585505524809536,
          -0.12935907887102835,
          -0.014117782213261529,
          -0.330634224368952,
          -0.24255297157947525,
          -0.21367143025328747,
          -0.26884761712612754
         ],
         "yaxis": "y"
        },
        {
         "customdata": [
          [
           "TOMPKINS FINANCIAL CORP",
           "State Commercial Banks (commercial banking)"
          ],
          [
           "TRIUMPH BANCORP, INC.",
           "State Commercial Banks (commercial banking)"
          ],
          [
           "GREAT SOUTHERN BANCORP, INC.",
           "State Commercial Banks (commercial banking)"
          ],
          [
           "SOUTH STATE CORP",
           "State Commercial Banks (commercial banking)"
          ],
          [
           "OLD LINE BANCSHARES INC",
           "State Commercial Banks (commercial banking)"
          ],
          [
           "SEACOAST BANKING CORP OF FLORIDA",
           "State Commercial Banks (commercial banking)"
          ],
          [
           "CITIZENS FINANCIAL GROUP INC/RI",
           "State Commercial Banks (commercial banking)"
          ],
          [
           "COMMUNITY WEST BANCSHARES /",
           "State Commercial Banks (commercial banking)"
          ],
          [
           "MACKINAC FINANCIAL CORP /MI/",
           "State Commercial Banks (commercial banking)"
          ],
          [
           "UNITY BANCORP INC /NJ/",
           "State Commercial Banks (commercial banking)"
          ],
          [
           "UNITY BANCORP INC /NJ/",
           "State Commercial Banks (commercial banking)"
          ],
          [
           "EAST WEST BANCORP INC",
           "State Commercial Banks (commercial banking)"
          ],
          [
           "HEARTLAND FINANCIAL USA INC",
           "State Commercial Banks (commercial banking)"
          ],
          [
           "COUNTY BANCORP, INC.",
           "State Commercial Banks (commercial banking)"
          ],
          [
           "CHEMUNG FINANCIAL CORP",
           "State Commercial Banks (commercial banking)"
          ],
          [
           "BRYN MAWR BANK CORP",
           "State Commercial Banks (commercial banking)"
          ],
          [
           "EAGLE BANCORP MONTANA, INC.",
           "State Commercial Banks (commercial banking)"
          ],
          [
           "1ST SOURCE CORP",
           "State Commercial Banks (commercial banking)"
          ],
          [
           "SERVISFIRST BANCSHARES, INC.",
           "State Commercial Banks (commercial banking)"
          ],
          [
           "SIERRA BANCORP",
           "State Commercial Banks (commercial banking)"
          ],
          [
           "HOPFED BANCORP INC",
           "State Commercial Banks (commercial banking)"
          ],
          [
           "HOPFED BANCORP INC",
           "State Commercial Banks (commercial banking)"
          ],
          [
           "FIRST FINANCIAL BANKSHARES INC",
           "State Commercial Banks (commercial banking)"
          ],
          [
           "CHEMICAL FINANCIAL CORP",
           "State Commercial Banks (commercial banking)"
          ],
          [
           "SECURITY FEDERAL CORP",
           "State Commercial Banks (commercial banking)"
          ],
          [
           "FIRST FINANCIAL CORP /IN/",
           "State Commercial Banks (commercial banking)"
          ],
          [
           "WESTERN ALLIANCE BANCORPORATION",
           "State Commercial Banks (commercial banking)"
          ],
          [
           "TRISTATE CAPITAL HOLDINGS, INC.",
           "State Commercial Banks (commercial banking)"
          ],
          [
           "UNION BANKSHARES CORP",
           "State Commercial Banks (commercial banking)"
          ],
          [
           "CAROLINA TRUST BANCSHARES, INC.",
           "State Commercial Banks (commercial banking)"
          ],
          [
           "COMMUNITY TRUST BANCORP INC /KY/",
           "State Commercial Banks (commercial banking)"
          ],
          [
           "HILLS BANCORPORATION",
           "State Commercial Banks (commercial banking)"
          ],
          [
           "MACATAWA BANK CORP",
           "State Commercial Banks (commercial banking)"
          ],
          [
           "PREMIER FINANCIAL BANCORP INC",
           "State Commercial Banks (commercial banking)"
          ],
          [
           "KENTUCKY BANCSHARES INC /KY/",
           "State Commercial Banks (commercial banking)"
          ],
          [
           "RIVER FINANCIAL CORP",
           "State Commercial Banks (commercial banking)"
          ],
          [
           "BAR HARBOR BANKSHARES",
           "State Commercial Banks (commercial banking)"
          ],
          [
           "PARKE BANCORP, INC.",
           "State Commercial Banks (commercial banking)"
          ],
          [
           "RANDOLPH BANCORP, INC.",
           "State Commercial Banks (commercial banking)"
          ],
          [
           "BANK OF HAWAII CORP",
           "State Commercial Banks (commercial banking)"
          ],
          [
           "BSB BANCORP, INC.",
           "State Commercial Banks (commercial banking)"
          ],
          [
           "INDEPENDENT BANK CORP /MI/",
           "State Commercial Banks (commercial banking)"
          ],
          [
           "PACIFIC PREMIER BANCORP INC",
           "State Commercial Banks (commercial banking)"
          ],
          [
           "OHIO VALLEY BANC CORP",
           "State Commercial Banks (commercial banking)"
          ],
          [
           "CVB FINANCIAL CORP",
           "State Commercial Banks (commercial banking)"
          ],
          [
           "BANK OF NEW YORK MELLON CORP",
           "State Commercial Banks (commercial banking)"
          ],
          [
           "TWO RIVER BANCORP",
           "State Commercial Banks (commercial banking)"
          ],
          [
           "STEWARDSHIP FINANCIAL CORP",
           "State Commercial Banks (commercial banking)"
          ],
          [
           "LAKELAND FINANCIAL CORP",
           "State Commercial Banks (commercial banking)"
          ],
          [
           "FAUQUIER BANKSHARES, INC.",
           "State Commercial Banks (commercial banking)"
          ],
          [
           "LIVE OAK BANCSHARES, INC.",
           "State Commercial Banks (commercial banking)"
          ],
          [
           "M&T BANK CORP",
           "State Commercial Banks (commercial banking)"
          ],
          [
           "INTERNATIONAL BANCSHARES CORP",
           "State Commercial Banks (commercial banking)"
          ],
          [
           "SUMMIT FINANCIAL GROUP INC",
           "State Commercial Banks (commercial banking)"
          ],
          [
           "SUSSEX BANCORP",
           "State Commercial Banks (commercial banking)"
          ],
          [
           "PRIME MERIDIAN HOLDING CO",
           "State Commercial Banks (commercial banking)"
          ],
          [
           "BANKWELL FINANCIAL GROUP, INC.",
           "State Commercial Banks (commercial banking)"
          ],
          [
           "SOUTHWEST GEORGIA FINANCIAL CORP",
           "State Commercial Banks (commercial banking)"
          ],
          [
           "BANK OF COMMERCE HOLDINGS",
           "State Commercial Banks (commercial banking)"
          ],
          [
           "BANK OF COMMERCE HOLDINGS",
           "State Commercial Banks (commercial banking)"
          ],
          [
           "UNITED BANCORP INC /OH/",
           "State Commercial Banks (commercial banking)"
          ],
          [
           "PARKWAY ACQUISITION CORP.",
           "State Commercial Banks (commercial banking)"
          ],
          [
           "INVESTAR HOLDING CORP",
           "State Commercial Banks (commercial banking)"
          ],
          [
           "RENASANT CORP",
           "State Commercial Banks (commercial banking)"
          ],
          [
           "RELIANT BANCORP, INC.",
           "State Commercial Banks (commercial banking)"
          ],
          [
           "FIRST COMMUNITY CORP /SC/",
           "State Commercial Banks (commercial banking)"
          ],
          [
           "FIRST FINANCIAL NORTHWEST, INC.",
           "State Commercial Banks (commercial banking)"
          ],
          [
           "COMMERCE BANCSHARES INC /MO/",
           "State Commercial Banks (commercial banking)"
          ],
          [
           "JUNIATA VALLEY FINANCIAL CORP",
           "State Commercial Banks (commercial banking)"
          ],
          [
           "HOWARD BANCORP INC",
           "State Commercial Banks (commercial banking)"
          ],
          [
           "EAGLE FINANCIAL SERVICES INC",
           "State Commercial Banks (commercial banking)"
          ],
          [
           "MVB FINANCIAL CORP",
           "State Commercial Banks (commercial banking)"
          ],
          [
           "INDEPENDENT BANK GROUP, INC.",
           "State Commercial Banks (commercial banking)"
          ],
          [
           "CONNECTONE BANCORP, INC.",
           "State Commercial Banks (commercial banking)"
          ],
          [
           "REPUBLIC BANCORP INC /KY/",
           "State Commercial Banks (commercial banking)"
          ],
          [
           "SOUTHSIDE BANCSHARES INC",
           "State Commercial Banks (commercial banking)"
          ],
          [
           "FIRST HAWAIIAN, INC.",
           "State Commercial Banks (commercial banking)"
          ],
          [
           "FIRST US BANCSHARES INC",
           "State Commercial Banks (commercial banking)"
          ],
          [
           "COMMUNITY FINANCIAL CORP /MD/",
           "State Commercial Banks (commercial banking)"
          ],
          [
           "SVB FINANCIAL GROUP",
           "State Commercial Banks (commercial banking)"
          ],
          [
           "CATHAY GENERAL BANCORP",
           "State Commercial Banks (commercial banking)"
          ],
          [
           "BANK OF THE JAMES FINANCIAL GROUP INC",
           "State Commercial Banks (commercial banking)"
          ],
          [
           "FLUSHING FINANCIAL CORP",
           "State Commercial Banks (commercial banking)"
          ],
          [
           "FRANKLIN FINANCIAL SERVICES CORP /PA/",
           "State Commercial Banks (commercial banking)"
          ],
          [
           "CENTRAL PACIFIC FINANCIAL CORP",
           "State Commercial Banks (commercial banking)"
          ],
          [
           "CENTRAL PACIFIC FINANCIAL CORP",
           "State Commercial Banks (commercial banking)"
          ],
          [
           "CENTRAL VALLEY COMMUNITY BANCORP",
           "State Commercial Banks (commercial banking)"
          ],
          [
           "F&M BANK CORP",
           "State Commercial Banks (commercial banking)"
          ],
          [
           "FARMERS NATIONAL BANC CORP /OH/",
           "State Commercial Banks (commercial banking)"
          ],
          [
           "CITIZENS & NORTHERN CORP",
           "State Commercial Banks (commercial banking)"
          ],
          [
           "GUARANTY FEDERAL BANCSHARES INC",
           "State Commercial Banks (commercial banking)"
          ],
          [
           "CAROLINA FINANCIAL CORP",
           "State Commercial Banks (commercial banking)"
          ],
          [
           "FIRST INTERNET BANCORP",
           "State Commercial Banks (commercial banking)"
          ],
          [
           "HARBORONE BANCORP, INC.",
           "State Commercial Banks (commercial banking)"
          ],
          [
           "UNITED BANKSHARES INC/WV",
           "State Commercial Banks (commercial banking)"
          ],
          [
           "INDEPENDENT BANK CORP",
           "State Commercial Banks (commercial banking)"
          ],
          [
           "CITIZENS FINANCIAL SERVICES INC",
           "State Commercial Banks (commercial banking)"
          ],
          [
           "NORWOOD FINANCIAL CORP",
           "State Commercial Banks (commercial banking)"
          ],
          [
           "WEST BANCORPORATION INC",
           "State Commercial Banks (commercial banking)"
          ],
          [
           "CUSTOMERS BANCORP, INC.",
           "State Commercial Banks (commercial banking)"
          ],
          [
           "WEST END INDIANA BANCSHARES, INC.",
           "State Commercial Banks (commercial banking)"
          ],
          [
           "ATLANTIC CAPITAL BANCSHARES, INC.",
           "State Commercial Banks (commercial banking)"
          ],
          [
           "IBERIABANK CORP",
           "State Commercial Banks (commercial banking)"
          ],
          [
           "MERCANTILE BANK CORP",
           "State Commercial Banks (commercial banking)"
          ],
          [
           "GERMAN AMERICAN BANCORP, INC.",
           "State Commercial Banks (commercial banking)"
          ],
          [
           "S&T BANCORP INC",
           "State Commercial Banks (commercial banking)"
          ],
          [
           "HILLTOP HOLDINGS INC.",
           "State Commercial Banks (commercial banking)"
          ],
          [
           "CB FINANCIAL SERVICES, INC.",
           "State Commercial Banks (commercial banking)"
          ],
          [
           "ENTERPRISE FINANCIAL SERVICES CORP",
           "State Commercial Banks (commercial banking)"
          ],
          [
           "AUBURN NATIONAL BANCORPORATION, INC",
           "State Commercial Banks (commercial banking)"
          ],
          [
           "FIRST KEYSTONE CORP",
           "State Commercial Banks (commercial banking)"
          ],
          [
           "TEXAS CAPITAL BANCSHARES INC/TX",
           "State Commercial Banks (commercial banking)"
          ],
          [
           "VILLAGE BANK & TRUST FINANCIAL CORP.",
           "State Commercial Banks (commercial banking)"
          ],
          [
           "STOCK YARDS BANCORP, INC.",
           "State Commercial Banks (commercial banking)"
          ],
          [
           "BUSINESS FIRST BANCSHARES, INC.",
           "State Commercial Banks (commercial banking)"
          ]
         ],
         "hovertemplate": "color=State Commercial Banks (commercial banking)<br>0=%{x}<br>1=%{y}<br>name=%{customdata[0]}<br>industry=%{customdata[1]}<extra></extra>",
         "legendgroup": "State Commercial Banks (commercial banking)",
         "marker": {
          "color": "#FFA15A",
          "symbol": "circle"
         },
         "mode": "markers",
         "name": "State Commercial Banks (commercial banking)",
         "orientation": "v",
         "showlegend": true,
         "type": "scatter",
         "x": [
          -0.3527189963467414,
          -0.2576294317253281,
          -0.37734699925657733,
          -0.3279958158723044,
          -0.34175420980719223,
          -0.335369660535421,
          -0.2677666566119347,
          -0.26178746298524314,
          -0.35071967310357766,
          -0.3793669369988853,
          -0.3793669369988853,
          -0.16947550925154226,
          -0.3337605333506839,
          -0.346988065172545,
          -0.3687015722397708,
          -0.31897488955494585,
          -0.38916236397638876,
          -0.305121662939784,
          -0.30653242631744265,
          -0.3350428668685362,
          -0.4110407349414177,
          -0.4110407349414177,
          -0.29181650365194595,
          -0.3255820658721652,
          -0.3959760694942658,
          -0.3704745013797735,
          -0.3629844087941579,
          -0.2730680964051133,
          -0.34571541780882425,
          -0.3570653572809753,
          -0.2930955466900034,
          -0.39665718855823423,
          -0.3581582464111813,
          -0.288338992466028,
          -0.3672283464050446,
          -0.36153893960639566,
          -0.38161657126691134,
          -0.40975480443220164,
          -0.37777760332375404,
          -0.2647224572290946,
          -0.36946186025149735,
          -0.2160713262226809,
          -0.3415199332115675,
          -0.34835411733219457,
          -0.3182333476499426,
          -0.18855024148577812,
          -0.34861488164697074,
          -0.3780247674108359,
          -0.3436344486755143,
          -0.38567411965337844,
          -0.35461258891081954,
          -0.3179699943761271,
          -0.33908014919059765,
          -0.3207478231657162,
          -0.33742243249367715,
          -0.32113414876645885,
          -0.30634765411124076,
          -0.3657068967530027,
          -0.31016593400904724,
          -0.31016593400904724,
          -0.3583620490229002,
          -0.3442967749819991,
          -0.34791973268749365,
          -0.37815910533432134,
          -0.3421084848858053,
          -0.33813302839323794,
          -0.3871780670340914,
          -0.2987384431446076,
          -0.35962954220753135,
          -0.24158695387842336,
          -0.35835538942133294,
          -0.33785920691476606,
          -0.3514799943134548,
          -0.356634643248307,
          -0.3436612546805811,
          -0.33994348933770185,
          -0.31325919966979315,
          -0.33108760371223084,
          -0.3855791575051577,
          -0.29983650785836424,
          -0.3464784894529359,
          -0.33693647875588384,
          -0.33523661972362206,
          -0.39287069582503203,
          -0.3155644796418519,
          -0.3155644796418519,
          -0.3458927620718642,
          0.006994846929503715,
          -0.36815047573600806,
          -0.27176270888811643,
          -0.3934073935049091,
          -0.3475093294986314,
          -0.3026158287468898,
          -0.3891600136656017,
          -0.3081384082416324,
          -0.3767394129176254,
          -0.3554436128599014,
          -0.411365487688632,
          -0.3485548635882078,
          -0.2634655354407573,
          -0.35058511774109724,
          -0.3008473396341831,
          -0.3264481088692939,
          -0.30704650490869306,
          -0.34526250497336947,
          -0.11317147919722902,
          -0.3592043704316756,
          -0.36436121560904855,
          -0.2423497464932019,
          -0.36519288526306004,
          -0.3598908353629097,
          -0.2773074447616302,
          -0.3157589679614178,
          -0.3211906640526999,
          -0.30704009116791287
         ],
         "xaxis": "x",
         "y": [
          0.3784991602894917,
          0.21562274945991242,
          0.15436083028784672,
          0.4513119305029222,
          0.2686507549627769,
          0.4629285672071441,
          0.3379305381132026,
          0.1754696110726685,
          0.3607129006217856,
          0.41855306600159276,
          0.41855306600159276,
          0.02085509671536209,
          0.3648499398730622,
          0.44297323326365967,
          0.4637629923773712,
          0.4073111008061258,
          0.28761379840829937,
          0.367573891059173,
          0.3609239606469495,
          0.4236096070441796,
          0.36324590186554373,
          0.36324590186554373,
          0.3981101779851865,
          0.4128527832312602,
          0.3396432243603032,
          0.45886084144303785,
          0.13397549354942495,
          0.2801541282217059,
          0.4680426468193012,
          0.46150613398958773,
          0.2781117650754766,
          0.40938028688555533,
          0.31887018742196116,
          0.303981904054354,
          0.4189479935784265,
          0.47223434582537555,
          0.4028219732444665,
          0.35303148813504326,
          0.3224306555837272,
          0.4561649003165381,
          0.27516868170597,
          0.060726304344950986,
          0.39777807828803724,
          0.4088281773970969,
          0.4405565946975175,
          0.1822058466447492,
          0.31477134152227076,
          0.4443024295399633,
          0.4661403678988891,
          0.4929934732910793,
          0.4737581653456285,
          0.41432878868362827,
          0.46656489626726644,
          0.41557219663250633,
          0.4273204409853628,
          0.33212896904252787,
          0.35987723518285786,
          0.36629507977185644,
          0.46043688882122485,
          0.46043688882122485,
          0.44086579655543245,
          0.46953800546908403,
          0.4282360113595375,
          0.35590298064933,
          0.4730463856091324,
          0.44164539092710675,
          0.23017223906798842,
          0.421335881402757,
          0.47423561024789423,
          0.07142973354394136,
          0.4908142585160544,
          0.47385003737459763,
          0.3989165690383052,
          0.43434674636288256,
          0.4546740083580477,
          0.4738608361444668,
          0.4486217534281296,
          0.4639337500005676,
          0.2647405311588735,
          0.42540270398397984,
          0.4493245593717598,
          0.48120162859699456,
          0.2594592028636883,
          0.45174990376268076,
          0.45327922367241114,
          0.45327922367241114,
          0.45877927570898125,
          -0.019051100738663382,
          0.4487133390894643,
          0.2298025141985767,
          0.32236500031126447,
          0.4440458887685668,
          0.39275286136600385,
          0.35229297232825735,
          0.3218662886107578,
          0.2280339906292188,
          0.47227853535240044,
          0.32456513939110243,
          0.41930312103913003,
          0.287037490046114,
          0.2416645838312814,
          0.40333947248879326,
          0.4250207259600601,
          0.27529171530814844,
          0.4359679147781519,
          0.13925059251075347,
          0.41679947663124667,
          0.24449764592804066,
          0.18684636763756504,
          0.47043305281144027,
          0.4301455959756355,
          0.39086253103244883,
          0.3839367009633335,
          0.45281608370915594,
          0.371959861660786
         ],
         "yaxis": "y"
        }
       ],
       "layout": {
        "height": 600,
        "legend": {
         "title": {
          "text": "color"
         },
         "tracegroupgap": 0
        },
        "margin": {
         "t": 60
        },
        "template": {
         "data": {
          "bar": [
           {
            "error_x": {
             "color": "#2a3f5f"
            },
            "error_y": {
             "color": "#2a3f5f"
            },
            "marker": {
             "line": {
              "color": "#E5ECF6",
              "width": 0.5
             },
             "pattern": {
              "fillmode": "overlay",
              "size": 10,
              "solidity": 0.2
             }
            },
            "type": "bar"
           }
          ],
          "barpolar": [
           {
            "marker": {
             "line": {
              "color": "#E5ECF6",
              "width": 0.5
             },
             "pattern": {
              "fillmode": "overlay",
              "size": 10,
              "solidity": 0.2
             }
            },
            "type": "barpolar"
           }
          ],
          "carpet": [
           {
            "aaxis": {
             "endlinecolor": "#2a3f5f",
             "gridcolor": "white",
             "linecolor": "white",
             "minorgridcolor": "white",
             "startlinecolor": "#2a3f5f"
            },
            "baxis": {
             "endlinecolor": "#2a3f5f",
             "gridcolor": "white",
             "linecolor": "white",
             "minorgridcolor": "white",
             "startlinecolor": "#2a3f5f"
            },
            "type": "carpet"
           }
          ],
          "choropleth": [
           {
            "colorbar": {
             "outlinewidth": 0,
             "ticks": ""
            },
            "type": "choropleth"
           }
          ],
          "contour": [
           {
            "colorbar": {
             "outlinewidth": 0,
             "ticks": ""
            },
            "colorscale": [
             [
              0,
              "#0d0887"
             ],
             [
              0.1111111111111111,
              "#46039f"
             ],
             [
              0.2222222222222222,
              "#7201a8"
             ],
             [
              0.3333333333333333,
              "#9c179e"
             ],
             [
              0.4444444444444444,
              "#bd3786"
             ],
             [
              0.5555555555555556,
              "#d8576b"
             ],
             [
              0.6666666666666666,
              "#ed7953"
             ],
             [
              0.7777777777777778,
              "#fb9f3a"
             ],
             [
              0.8888888888888888,
              "#fdca26"
             ],
             [
              1,
              "#f0f921"
             ]
            ],
            "type": "contour"
           }
          ],
          "contourcarpet": [
           {
            "colorbar": {
             "outlinewidth": 0,
             "ticks": ""
            },
            "type": "contourcarpet"
           }
          ],
          "heatmap": [
           {
            "colorbar": {
             "outlinewidth": 0,
             "ticks": ""
            },
            "colorscale": [
             [
              0,
              "#0d0887"
             ],
             [
              0.1111111111111111,
              "#46039f"
             ],
             [
              0.2222222222222222,
              "#7201a8"
             ],
             [
              0.3333333333333333,
              "#9c179e"
             ],
             [
              0.4444444444444444,
              "#bd3786"
             ],
             [
              0.5555555555555556,
              "#d8576b"
             ],
             [
              0.6666666666666666,
              "#ed7953"
             ],
             [
              0.7777777777777778,
              "#fb9f3a"
             ],
             [
              0.8888888888888888,
              "#fdca26"
             ],
             [
              1,
              "#f0f921"
             ]
            ],
            "type": "heatmap"
           }
          ],
          "heatmapgl": [
           {
            "colorbar": {
             "outlinewidth": 0,
             "ticks": ""
            },
            "colorscale": [
             [
              0,
              "#0d0887"
             ],
             [
              0.1111111111111111,
              "#46039f"
             ],
             [
              0.2222222222222222,
              "#7201a8"
             ],
             [
              0.3333333333333333,
              "#9c179e"
             ],
             [
              0.4444444444444444,
              "#bd3786"
             ],
             [
              0.5555555555555556,
              "#d8576b"
             ],
             [
              0.6666666666666666,
              "#ed7953"
             ],
             [
              0.7777777777777778,
              "#fb9f3a"
             ],
             [
              0.8888888888888888,
              "#fdca26"
             ],
             [
              1,
              "#f0f921"
             ]
            ],
            "type": "heatmapgl"
           }
          ],
          "histogram": [
           {
            "marker": {
             "pattern": {
              "fillmode": "overlay",
              "size": 10,
              "solidity": 0.2
             }
            },
            "type": "histogram"
           }
          ],
          "histogram2d": [
           {
            "colorbar": {
             "outlinewidth": 0,
             "ticks": ""
            },
            "colorscale": [
             [
              0,
              "#0d0887"
             ],
             [
              0.1111111111111111,
              "#46039f"
             ],
             [
              0.2222222222222222,
              "#7201a8"
             ],
             [
              0.3333333333333333,
              "#9c179e"
             ],
             [
              0.4444444444444444,
              "#bd3786"
             ],
             [
              0.5555555555555556,
              "#d8576b"
             ],
             [
              0.6666666666666666,
              "#ed7953"
             ],
             [
              0.7777777777777778,
              "#fb9f3a"
             ],
             [
              0.8888888888888888,
              "#fdca26"
             ],
             [
              1,
              "#f0f921"
             ]
            ],
            "type": "histogram2d"
           }
          ],
          "histogram2dcontour": [
           {
            "colorbar": {
             "outlinewidth": 0,
             "ticks": ""
            },
            "colorscale": [
             [
              0,
              "#0d0887"
             ],
             [
              0.1111111111111111,
              "#46039f"
             ],
             [
              0.2222222222222222,
              "#7201a8"
             ],
             [
              0.3333333333333333,
              "#9c179e"
             ],
             [
              0.4444444444444444,
              "#bd3786"
             ],
             [
              0.5555555555555556,
              "#d8576b"
             ],
             [
              0.6666666666666666,
              "#ed7953"
             ],
             [
              0.7777777777777778,
              "#fb9f3a"
             ],
             [
              0.8888888888888888,
              "#fdca26"
             ],
             [
              1,
              "#f0f921"
             ]
            ],
            "type": "histogram2dcontour"
           }
          ],
          "mesh3d": [
           {
            "colorbar": {
             "outlinewidth": 0,
             "ticks": ""
            },
            "type": "mesh3d"
           }
          ],
          "parcoords": [
           {
            "line": {
             "colorbar": {
              "outlinewidth": 0,
              "ticks": ""
             }
            },
            "type": "parcoords"
           }
          ],
          "pie": [
           {
            "automargin": true,
            "type": "pie"
           }
          ],
          "scatter": [
           {
            "marker": {
             "colorbar": {
              "outlinewidth": 0,
              "ticks": ""
             }
            },
            "type": "scatter"
           }
          ],
          "scatter3d": [
           {
            "line": {
             "colorbar": {
              "outlinewidth": 0,
              "ticks": ""
             }
            },
            "marker": {
             "colorbar": {
              "outlinewidth": 0,
              "ticks": ""
             }
            },
            "type": "scatter3d"
           }
          ],
          "scattercarpet": [
           {
            "marker": {
             "colorbar": {
              "outlinewidth": 0,
              "ticks": ""
             }
            },
            "type": "scattercarpet"
           }
          ],
          "scattergeo": [
           {
            "marker": {
             "colorbar": {
              "outlinewidth": 0,
              "ticks": ""
             }
            },
            "type": "scattergeo"
           }
          ],
          "scattergl": [
           {
            "marker": {
             "colorbar": {
              "outlinewidth": 0,
              "ticks": ""
             }
            },
            "type": "scattergl"
           }
          ],
          "scattermapbox": [
           {
            "marker": {
             "colorbar": {
              "outlinewidth": 0,
              "ticks": ""
             }
            },
            "type": "scattermapbox"
           }
          ],
          "scatterpolar": [
           {
            "marker": {
             "colorbar": {
              "outlinewidth": 0,
              "ticks": ""
             }
            },
            "type": "scatterpolar"
           }
          ],
          "scatterpolargl": [
           {
            "marker": {
             "colorbar": {
              "outlinewidth": 0,
              "ticks": ""
             }
            },
            "type": "scatterpolargl"
           }
          ],
          "scatterternary": [
           {
            "marker": {
             "colorbar": {
              "outlinewidth": 0,
              "ticks": ""
             }
            },
            "type": "scatterternary"
           }
          ],
          "surface": [
           {
            "colorbar": {
             "outlinewidth": 0,
             "ticks": ""
            },
            "colorscale": [
             [
              0,
              "#0d0887"
             ],
             [
              0.1111111111111111,
              "#46039f"
             ],
             [
              0.2222222222222222,
              "#7201a8"
             ],
             [
              0.3333333333333333,
              "#9c179e"
             ],
             [
              0.4444444444444444,
              "#bd3786"
             ],
             [
              0.5555555555555556,
              "#d8576b"
             ],
             [
              0.6666666666666666,
              "#ed7953"
             ],
             [
              0.7777777777777778,
              "#fb9f3a"
             ],
             [
              0.8888888888888888,
              "#fdca26"
             ],
             [
              1,
              "#f0f921"
             ]
            ],
            "type": "surface"
           }
          ],
          "table": [
           {
            "cells": {
             "fill": {
              "color": "#EBF0F8"
             },
             "line": {
              "color": "white"
             }
            },
            "header": {
             "fill": {
              "color": "#C8D4E3"
             },
             "line": {
              "color": "white"
             }
            },
            "type": "table"
           }
          ]
         },
         "layout": {
          "annotationdefaults": {
           "arrowcolor": "#2a3f5f",
           "arrowhead": 0,
           "arrowwidth": 1
          },
          "autotypenumbers": "strict",
          "coloraxis": {
           "colorbar": {
            "outlinewidth": 0,
            "ticks": ""
           }
          },
          "colorscale": {
           "diverging": [
            [
             0,
             "#8e0152"
            ],
            [
             0.1,
             "#c51b7d"
            ],
            [
             0.2,
             "#de77ae"
            ],
            [
             0.3,
             "#f1b6da"
            ],
            [
             0.4,
             "#fde0ef"
            ],
            [
             0.5,
             "#f7f7f7"
            ],
            [
             0.6,
             "#e6f5d0"
            ],
            [
             0.7,
             "#b8e186"
            ],
            [
             0.8,
             "#7fbc41"
            ],
            [
             0.9,
             "#4d9221"
            ],
            [
             1,
             "#276419"
            ]
           ],
           "sequential": [
            [
             0,
             "#0d0887"
            ],
            [
             0.1111111111111111,
             "#46039f"
            ],
            [
             0.2222222222222222,
             "#7201a8"
            ],
            [
             0.3333333333333333,
             "#9c179e"
            ],
            [
             0.4444444444444444,
             "#bd3786"
            ],
            [
             0.5555555555555556,
             "#d8576b"
            ],
            [
             0.6666666666666666,
             "#ed7953"
            ],
            [
             0.7777777777777778,
             "#fb9f3a"
            ],
            [
             0.8888888888888888,
             "#fdca26"
            ],
            [
             1,
             "#f0f921"
            ]
           ],
           "sequentialminus": [
            [
             0,
             "#0d0887"
            ],
            [
             0.1111111111111111,
             "#46039f"
            ],
            [
             0.2222222222222222,
             "#7201a8"
            ],
            [
             0.3333333333333333,
             "#9c179e"
            ],
            [
             0.4444444444444444,
             "#bd3786"
            ],
            [
             0.5555555555555556,
             "#d8576b"
            ],
            [
             0.6666666666666666,
             "#ed7953"
            ],
            [
             0.7777777777777778,
             "#fb9f3a"
            ],
            [
             0.8888888888888888,
             "#fdca26"
            ],
            [
             1,
             "#f0f921"
            ]
           ]
          },
          "colorway": [
           "#636efa",
           "#EF553B",
           "#00cc96",
           "#ab63fa",
           "#FFA15A",
           "#19d3f3",
           "#FF6692",
           "#B6E880",
           "#FF97FF",
           "#FECB52"
          ],
          "font": {
           "color": "#2a3f5f"
          },
          "geo": {
           "bgcolor": "white",
           "lakecolor": "white",
           "landcolor": "#E5ECF6",
           "showlakes": true,
           "showland": true,
           "subunitcolor": "white"
          },
          "hoverlabel": {
           "align": "left"
          },
          "hovermode": "closest",
          "mapbox": {
           "style": "light"
          },
          "paper_bgcolor": "white",
          "plot_bgcolor": "#E5ECF6",
          "polar": {
           "angularaxis": {
            "gridcolor": "white",
            "linecolor": "white",
            "ticks": ""
           },
           "bgcolor": "#E5ECF6",
           "radialaxis": {
            "gridcolor": "white",
            "linecolor": "white",
            "ticks": ""
           }
          },
          "scene": {
           "xaxis": {
            "backgroundcolor": "#E5ECF6",
            "gridcolor": "white",
            "gridwidth": 2,
            "linecolor": "white",
            "showbackground": true,
            "ticks": "",
            "zerolinecolor": "white"
           },
           "yaxis": {
            "backgroundcolor": "#E5ECF6",
            "gridcolor": "white",
            "gridwidth": 2,
            "linecolor": "white",
            "showbackground": true,
            "ticks": "",
            "zerolinecolor": "white"
           },
           "zaxis": {
            "backgroundcolor": "#E5ECF6",
            "gridcolor": "white",
            "gridwidth": 2,
            "linecolor": "white",
            "showbackground": true,
            "ticks": "",
            "zerolinecolor": "white"
           }
          },
          "shapedefaults": {
           "line": {
            "color": "#2a3f5f"
           }
          },
          "ternary": {
           "aaxis": {
            "gridcolor": "white",
            "linecolor": "white",
            "ticks": ""
           },
           "baxis": {
            "gridcolor": "white",
            "linecolor": "white",
            "ticks": ""
           },
           "bgcolor": "#E5ECF6",
           "caxis": {
            "gridcolor": "white",
            "linecolor": "white",
            "ticks": ""
           }
          },
          "title": {
           "x": 0.05
          },
          "xaxis": {
           "automargin": true,
           "gridcolor": "white",
           "linecolor": "white",
           "ticks": "",
           "title": {
            "standoff": 15
           },
           "zerolinecolor": "white",
           "zerolinewidth": 2
          },
          "yaxis": {
           "automargin": true,
           "gridcolor": "white",
           "linecolor": "white",
           "ticks": "",
           "title": {
            "standoff": 15
           },
           "zerolinecolor": "white",
           "zerolinewidth": 2
          }
         }
        },
        "width": 1200,
        "xaxis": {
         "anchor": "y",
         "autorange": true,
         "domain": [
          0,
          1
         ],
         "range": [
          -0.4688523462552976,
          0.57173256197675
         ],
         "title": {
          "text": "0"
         },
         "type": "linear"
        },
        "yaxis": {
         "anchor": "x",
         "autorange": true,
         "domain": [
          0,
          1
         ],
         "range": [
          -0.4595346014390116,
          0.5518050739812811
         ],
         "title": {
          "text": "1"
         },
         "type": "linear"
        }
       }
      },
      "image/png": "[encoded data removed]",
      "text/html": [
       "<div>                            <div id=\"a0156a82-e074-4d86-868e-9b214e82721a\" class=\"plotly-graph-div\" style=\"height:600px; width:1200px;\"></div>            <script type=\"text/javascript\">                require([\"plotly\"], function(Plotly) {                    window.PLOTLYENV=window.PLOTLYENV || {};                                    if (document.getElementById(\"a0156a82-e074-4d86-868e-9b214e82721a\")) {                    Plotly.newPlot(                        \"a0156a82-e074-4d86-868e-9b214e82721a\",                        [{\"customdata\":[[\"MONGODB, INC.\",\"Prepackaged Software (mass reproduction of software)\"],[\"SALESFORCE COM INC\",\"Prepackaged Software (mass reproduction of software)\"],[\"SPLUNK INC\",\"Prepackaged Software (mass reproduction of software)\"],[\"OKTA, INC.\",\"Prepackaged Software (mass reproduction of software)\"],[\"VEEVA SYSTEMS INC\",\"Prepackaged Software (mass reproduction of software)\"],[\"AUTODESK INC\",\"Prepackaged Software (mass reproduction of software)\"],[\"ETERNAL SPEECH, INC.\",\"Prepackaged Software (mass reproduction of software)\"],[\"ETERNAL SPEECH, INC.\",\"Prepackaged Software (mass reproduction of software)\"],[\"MAJESCO\",\"Prepackaged Software (mass reproduction of software)\"],[\"DUO WORLD INC\",\"Prepackaged Software (mass reproduction of software)\"],[\"COMMVAULT SYSTEMS INC\",\"Prepackaged Software (mass reproduction of software)\"],[\"UPPERSOLUTION.COM\",\"Prepackaged Software (mass reproduction of software)\"],[\"ORACLE CORP\",\"Prepackaged Software (mass reproduction of software)\"],[\"SAVMOBI TECHNOLOGY INC.\",\"Prepackaged Software (mass reproduction of software)\"],[\"ZEDGE, INC.\",\"Prepackaged Software (mass reproduction of software)\"],[\"DESTINY MEDIA TECHNOLOGIES INC\",\"Prepackaged Software (mass reproduction of software)\"],[\"TRAQER CORP\",\"Prepackaged Software (mass reproduction of software)\"],[\"VISIBER57 CORP.\",\"Prepackaged Software (mass reproduction of software)\"],[\"GH CAPITAL INC.\",\"Prepackaged Software (mass reproduction of software)\"],[\"BRIDGELINE DIGITAL, INC.\",\"Prepackaged Software (mass reproduction of software)\"],[\"NUANCE COMMUNICATIONS, INC.\",\"Prepackaged Software (mass reproduction of software)\"],[\"DATAWATCH CORP\",\"Prepackaged Software (mass reproduction of software)\"],[\"POLARITYTE, INC.\",\"Prepackaged Software (mass reproduction of software)\"],[\"POLARITYTE, INC.\",\"Prepackaged Software (mass reproduction of software)\"],[\"VGRAB COMMUNICATIONS INC.\",\"Prepackaged Software (mass reproduction of software)\"],[\"VGRAB COMMUNICATIONS INC.\",\"Prepackaged Software (mass reproduction of software)\"],[\"ADAIAH DISTRIBUTION INC\",\"Prepackaged Software (mass reproduction of software)\"],[\"ADAIAH DISTRIBUTION INC\",\"Prepackaged Software (mass reproduction of software)\"],[\"PROGRESS SOFTWARE CORP /MA\",\"Prepackaged Software (mass reproduction of software)\"],[\"MEDICAL INFORMATION TECHNOLOGY, INC.\",\"Prepackaged Software (mass reproduction of software)\"],[\"SPS COMMERCE INC\",\"Prepackaged Software (mass reproduction of software)\"],[\"ALTERYX, INC.\",\"Prepackaged Software (mass reproduction of software)\"],[\"INTELLIGENT SYSTEMS CORP\",\"Prepackaged Software (mass reproduction of software)\"],[\"ALARM.COM HOLDINGS, INC.\",\"Prepackaged Software (mass reproduction of software)\"],[\"LIGHTNING GAMING, INC.\",\"Prepackaged Software (mass reproduction of software)\"],[\"ENDURANCE INTERNATIONAL GROUP HOLDINGS, INC.\",\"Prepackaged Software (mass reproduction of software)\"],[\"2U, INC.\",\"Prepackaged Software (mass reproduction of software)\"],[\"CISION LTD.\",\"Prepackaged Software (mass reproduction of software)\"],[\"BTCS INC.\",\"Prepackaged Software (mass reproduction of software)\"],[\"BTCS INC.\",\"Prepackaged Software (mass reproduction of software)\"],[\"BTCS INC.\",\"Prepackaged Software (mass reproduction of software)\"],[\"INTELLICHECK, INC.\",\"Prepackaged Software (mass reproduction of software)\"],[\"REALPAGE INC\",\"Prepackaged Software (mass reproduction of software)\"],[\"Q2 HOLDINGS, INC.\",\"Prepackaged Software (mass reproduction of software)\"],[\"MCORPCX, INC.\",\"Prepackaged Software (mass reproduction of software)\"],[\"QUALYS, INC.\",\"Prepackaged Software (mass reproduction of software)\"],[\"MEDICAL TRANSCRIPTION BILLING, CORP\",\"Prepackaged Software (mass reproduction of software)\"],[\"SMITH MICRO SOFTWARE INC\",\"Prepackaged Software (mass reproduction of software)\"],[\"SHOTSPOTTER, INC\",\"Prepackaged Software (mass reproduction of software)\"],[\"LONGWEN GROUP CORP.\",\"Prepackaged Software (mass reproduction of software)\"],[\"ELLIE MAE INC\",\"Prepackaged Software (mass reproduction of software)\"],[\"ROSETTA STONE INC\",\"Prepackaged Software (mass reproduction of software)\"],[\"BLACK KNIGHT, INC.\",\"Prepackaged Software (mass reproduction of software)\"],[\"MICROSTRATEGY INC\",\"Prepackaged Software (mass reproduction of software)\"],[\"EMR TECHNOLOGY SOLUTIONS, INC.\",\"Prepackaged Software (mass reproduction of software)\"],[\"PAYCOM SOFTWARE, INC.\",\"Prepackaged Software (mass reproduction of software)\"],[\"3D SYSTEMS CORP\",\"Prepackaged Software (mass reproduction of software)\"],[\"APPIAN CORP\",\"Prepackaged Software (mass reproduction of software)\"],[\"UPLAND SOFTWARE, INC.\",\"Prepackaged Software (mass reproduction of software)\"],[\"LIVEPERSON INC\",\"Prepackaged Software (mass reproduction of software)\"],[\"AWARE INC /MA/\",\"Prepackaged Software (mass reproduction of software)\"],[\"ULTIMATE SOFTWARE GROUP INC\",\"Prepackaged Software (mass reproduction of software)\"],[\"ANSYS INC\",\"Prepackaged Software (mass reproduction of software)\"],[\"AVID TECHNOLOGY, INC.\",\"Prepackaged Software (mass reproduction of software)\"],[\"NATIONAL INSTRUMENTS CORP\",\"Prepackaged Software (mass reproduction of software)\"],[\"INSPRO TECHNOLOGIES CORP\",\"Prepackaged Software (mass reproduction of software)\"],[\"QUMU CORP\",\"Prepackaged Software (mass reproduction of software)\"],[\"ACI WORLDWIDE, INC.\",\"Prepackaged Software (mass reproduction of software)\"],[\"SQUARE, INC.\",\"Prepackaged Software (mass reproduction of software)\"],[\"ALTAIR ENGINEERING INC.\",\"Prepackaged Software (mass reproduction of software)\"],[\"TALEND SA\",\"Prepackaged Software (mass reproduction of software)\"],[\"APPFOLIO INC\",\"Prepackaged Software (mass reproduction of software)\"],[\"GSE SYSTEMS INC\",\"Prepackaged Software (mass reproduction of software)\"],[\"IPSIDY INC.\",\"Prepackaged Software (mass reproduction of software)\"],[\"INTELLINETICS, INC.\",\"Prepackaged Software (mass reproduction of software)\"],[\"INTELLINETICS, INC.\",\"Prepackaged Software (mass reproduction of software)\"],[\"IIOT-OXYS, INC.\",\"Prepackaged Software (mass reproduction of software)\"],[\"NEWGIOCO GROUP, INC.\",\"Prepackaged Software (mass reproduction of software)\"],[\"WORKIVA INC\",\"Prepackaged Software (mass reproduction of software)\"],[\"TABLEAU SOFTWARE INC\",\"Prepackaged Software (mass reproduction of software)\"]],\"hovertemplate\":\"color=Prepackaged Software (mass reproduction of software)<br>0=%{x}<br>1=%{y}<br>name=%{customdata[0]}<br>industry=%{customdata[1]}<extra></extra>\",\"legendgroup\":\"Prepackaged Software (mass reproduction of software)\",\"marker\":{\"color\":\"#636efa\",\"symbol\":\"circle\"},\"mode\":\"markers\",\"name\":\"Prepackaged Software (mass reproduction of software)\",\"orientation\":\"v\",\"showlegend\":true,\"x\":[0.08460614972808708,0.18326564839231255,0.17430082047165904,0.10542836280644179,-0.06953385242607145,0.15564119026280765,0.016561147862142012,0.016561147862142012,0.014056969114499955,0.15913361237785248,0.12332665454079597,0.11036876009133825,0.06727609105673428,0.002722174013741949,-0.056698625276192564,0.166611569847241,-0.0011362776543420404,-0.03506654681866371,-0.04932901687258833,0.17163564930377362,0.1798831090619503,0.18605310197476713,0.3473242458551161,0.3473242458551161,0.10274766196744478,0.10274766196744478,-0.1653257784118398,-0.1653257784118398,0.17145081749534674,0.22969025243943766,0.15145921060211198,0.17913032609582158,-0.0132081536285355,0.11287753017597382,0.08352923291476007,0.1798350677892277,0.07790536207590243,0.15263747237808994,-0.021465281602616796,-0.021465281602616796,-0.021465281602616796,-0.141859005919352,-0.016967513330228483,0.05713052523271522,0.010943608163000544,0.13793520567194134,0.1557712680106569,0.21898295375941348,0.10610084246680132,-0.10805415513871061,-0.10573795404630437,0.17137538596682916,-0.029895770005601684,0.18552668185553708,0.2102673433319365,0.08318103803531142,0.19185324553366453,0.17587938580367138,0.138679143996159,0.1895387654538949,0.22710701551122547,0.08097345200576095,-0.24435101169549595,0.18440885530530093,0.21512300129515224,0.07007620325189236,0.14969259130577156,0.04917313895852815,0.04330845873446464,0.1700060350978118,0.10552082567495978,0.03421126656904598,-0.1558275342830339,0.16657760711833572,0.13838140130357554,0.13838140130357554,0.1563683514913016,-0.0010285538286397844,0.10620769020999261,0.17345251180843282],\"xaxis\":\"x\",\"y\":[-0.3282304051052628,-0.3011337856197528,-0.3050091322533639,-0.25919451902613533,-0.1974997504481534,-0.23972727537355906,-0.12577687006204216,-0.12577687006204216,-0.2587900542181471,-0.2766031301768651,-0.29143215637546915,-0.19222394177558735,-0.295403618847959,-0.2414392474216881,0.022136879034998714,-0.13429626316930554,-0.19115811443789152,-0.15200233306460328,-0.11548597148539297,-0.2539383774406288,-0.2735006644777575,-0.24981654652624266,-0.0007148034314663201,-0.0007148034314663201,-0.25845035536086125,-0.25845035536086125,-0.06145973328070247,-0.06145973328070247,-0.32593039933760337,-0.14090806825464025,-0.3154092758693075,-0.2944302784943476,-0.18962354695494157,-0.25223387710692396,-0.12912227188940828,-0.22674553054907012,-0.12918985175300282,-0.2629368445453953,0.042836357657541325,0.042836357657541325,0.042836357657541325,0.05213053451989586,-0.4007230007488098,-0.14118240459968492,-0.2413038204266284,-0.22453170544347045,-0.22737398573236836,-0.27721385573877877,-0.15661458337126116,-0.10417164656056362,-0.060049404008156136,-0.2747579616657994,-0.12155369638160946,-0.28875806809062,-0.10650263391015614,-0.2884196061206992,-0.2009949490136344,-0.26221472677241053,-0.262110526696987,-0.2390379590780305,-0.07179320481441426,-0.21786139429959978,0.12153892011973474,-0.25578353322194747,-0.18583488872179038,-0.184213097027671,-0.2801742489487688,-0.14155514162520555,-0.15847573721932037,-0.2506548528451569,-0.2924929881973799,-0.35675553388891895,-0.13870304767942082,-0.14696579104234914,-0.23838803776158657,-0.23838803776158657,-0.22334099999901763,-0.13321471728431034,-0.1668402907288884,-0.2622052676546489],\"yaxis\":\"y\",\"type\":\"scatter\"},{\"customdata\":[[\"INTERNATIONAL WESTERN PETROLEUM, INC.\",\"Crude Petroleum and Natural Gas\"],[\"DAYBREAK OIL & GAS, INC.\",\"Crude Petroleum and Natural Gas\"],[\"GB SCIENCES INC\",\"Crude Petroleum and Natural Gas\"],[\"FREEDOM HOLDING CORP.\",\"Crude Petroleum and Natural Gas\"],[\"MEXCO ENERGY CORP\",\"Crude Petroleum and Natural Gas\"],[\"SUSTAINABLE PROJECTS GROUP INC.\",\"Crude Petroleum and Natural Gas\"],[\"AMERICAN ENERGY GROUP LTD\",\"Crude Petroleum and Natural Gas\"],[\"REDHAWK HOLDINGS CORP.\",\"Crude Petroleum and Natural Gas\"],[\"TIANCI INTERNATIONAL, INC.\",\"Crude Petroleum and Natural Gas\"],[\"AMAZING ENERGY OIL & GAS, CO.\",\"Crude Petroleum and Natural Gas\"],[\"ALTEX INDUSTRIES INC\",\"Crude Petroleum and Natural Gas\"],[\"BARNWELL INDUSTRIES INC\",\"Crude Petroleum and Natural Gas\"],[\"PANHANDLE OIL & GAS INC\",\"Crude Petroleum and Natural Gas\"],[\"ENERGY 11, L.P.\",\"Crude Petroleum and Natural Gas\"],[\"ABRAXAS PETROLEUM CORP\",\"Crude Petroleum and Natural Gas\"],[\"SEARS OIL & GAS\",\"Crude Petroleum and Natural Gas\"],[\"APACHE CORP\",\"Crude Petroleum and Natural Gas\"],[\"GULFPORT ENERGY CORP\",\"Crude Petroleum and Natural Gas\"],[\"CONTINENTAL RESOURCES, INC\",\"Crude Petroleum and Natural Gas\"],[\"ISRAMCO INC\",\"Crude Petroleum and Natural Gas\"],[\"CHAPARRAL ENERGY, INC.\",\"Crude Petroleum and Natural Gas\"],[\"WHITING PETROLEUM CORP\",\"Crude Petroleum and Natural Gas\"],[\"CONTANGO OIL & GAS CO\",\"Crude Petroleum and Natural Gas\"],[\"EARTHSTONE ENERGY INC\",\"Crude Petroleum and Natural Gas\"],[\"CLEAN COAL TECHNOLOGIES INC.\",\"Crude Petroleum and Natural Gas\"],[\"NORTHERN OIL & GAS, INC.\",\"Crude Petroleum and Natural Gas\"],[\"SRC ENERGY INC.\",\"Crude Petroleum and Natural Gas\"],[\"JONES ENERGY, INC.\",\"Crude Petroleum and Natural Gas\"],[\"GOODRICH PETROLEUM CORP\",\"Crude Petroleum and Natural Gas\"],[\"OCCIDENTAL PETROLEUM CORP /DE/\",\"Crude Petroleum and Natural Gas\"],[\"LONESTAR RESOURCES US INC.\",\"Crude Petroleum and Natural Gas\"],[\"NOBLE ENERGY INC\",\"Crude Petroleum and Natural Gas\"],[\"PIONEER NATURAL RESOURCES CO\",\"Crude Petroleum and Natural Gas\"],[\"BONANZA CREEK ENERGY, INC.\",\"Crude Petroleum and Natural Gas\"],[\"DEVON ENERGY CORP/DE\",\"Crude Petroleum and Natural Gas\"],[\"CALIFORNIA RESOURCES CORP\",\"Crude Petroleum and Natural Gas\"],[\"PARK PLACE ENERGY INC.\",\"Crude Petroleum and Natural Gas\"],[\"ANTERO RESOURCES CORP\",\"Crude Petroleum and Natural Gas\"],[\"LAREDO PETROLEUM, INC.\",\"Crude Petroleum and Natural Gas\"],[\"CIMAREX ENERGY CO\",\"Crude Petroleum and Natural Gas\"],[\"ALTA MESA HOLDINGS, LP\",\"Crude Petroleum and Natural Gas\"],[\"US ENERGY CORP\",\"Crude Petroleum and Natural Gas\"],[\"VICTORY ENERGY CORP\",\"Crude Petroleum and Natural Gas\"],[\"VICTORY ENERGY CORP\",\"Crude Petroleum and Natural Gas\"],[\"GRAN TIERRA ENERGY INC.\",\"Crude Petroleum and Natural Gas\"],[\"MIDSTATES PETROLEUM COMPANY, INC.\",\"Crude Petroleum and Natural Gas\"],[\"WILDHORSE RESOURCE DEVELOPMENT CORP\",\"Crude Petroleum and Natural Gas\"],[\"SM ENERGY CO\",\"Crude Petroleum and Natural Gas\"],[\"SANDRIDGE ENERGY INC\",\"Crude Petroleum and Natural Gas\"],[\"RING ENERGY, INC.\",\"Crude Petroleum and Natural Gas\"],[\"SANCHEZ ENERGY CORP\",\"Crude Petroleum and Natural Gas\"],[\"TETRA TECHNOLOGIES INC\",\"Crude Petroleum and Natural Gas\"],[\"RESERVE PETROLEUM CO\",\"Crude Petroleum and Natural Gas\"],[\"HESS MIDSTREAM PARTNERS LP\",\"Crude Petroleum and Natural Gas\"],[\"TORCHLIGHT ENERGY RESOURCES INC\",\"Crude Petroleum and Natural Gas\"],[\"LINN ENERGY, INC.\",\"Crude Petroleum and Natural Gas\"],[\"KOSMOS ENERGY LTD.\",\"Crude Petroleum and Natural Gas\"],[\"SILVERBOW RESOURCES, INC.\",\"Crude Petroleum and Natural Gas\"],[\"TELLURIAN INC. /DE/\",\"Crude Petroleum and Natural Gas\"],[\"DORCHESTER MINERALS, L.P.\",\"Crude Petroleum and Natural Gas\"],[\"MATADOR RESOURCES CO\",\"Crude Petroleum and Natural Gas\"],[\"PDC ENERGY, INC.\",\"Crude Petroleum and Natural Gas\"],[\"TEXAS SOUTH ENERGY, INC.\",\"Crude Petroleum and Natural Gas\"],[\"PEDEVCO CORP\",\"Crude Petroleum and Natural Gas\"],[\"VIPER ENERGY PARTNERS LP\",\"Crude Petroleum and Natural Gas\"],[\"ENERJEX RESOURCES, INC.\",\"Crude Petroleum and Natural Gas\"],[\"TENGASCO INC\",\"Crude Petroleum and Natural Gas\"],[\"KIMBELL ROYALTY PARTNERS, LP\",\"Crude Petroleum and Natural Gas\"],[\"CONCHO RESOURCES INC\",\"Crude Petroleum and Natural Gas\"],[\"APACHE OFFSHORE INVESTMENT PARTNERSHIP\",\"Crude Petroleum and Natural Gas\"],[\"EVERFLOW EASTERN PARTNERS LP\",\"Crude Petroleum and Natural Gas\"],[\"CHESAPEAKE ENERGY CORP\",\"Crude Petroleum and Natural Gas\"],[\"CARRIZO OIL & GAS INC\",\"Crude Petroleum and Natural Gas\"],[\"CALLON PETROLEUM CO\",\"Crude Petroleum and Natural Gas\"],[\"PENN VIRGINIA CORP\",\"Crude Petroleum and Natural Gas\"],[\"DIAMONDBACK ENERGY, INC.\",\"Crude Petroleum and Natural Gas\"],[\"COMSTOCK RESOURCES INC\",\"Crude Petroleum and Natural Gas\"],[\"DALA PETROLEUM CORP.\",\"Crude Petroleum and Natural Gas\"],[\"WPX ENERGY, INC.\",\"Crude Petroleum and Natural Gas\"],[\"LILIS ENERGY, INC.\",\"Crude Petroleum and Natural Gas\"]],\"hovertemplate\":\"color=Crude Petroleum and Natural Gas<br>0=%{x}<br>1=%{y}<br>name=%{customdata[0]}<br>industry=%{customdata[1]}<extra></extra>\",\"legendgroup\":\"Crude Petroleum and Natural Gas\",\"marker\":{\"color\":\"#EF553B\",\"symbol\":\"circle\"},\"mode\":\"markers\",\"name\":\"Crude Petroleum and Natural Gas\",\"orientation\":\"v\",\"showlegend\":true,\"x\":[-0.06270861393672991,-0.0753778921446772,0.28816338016290827,-0.1467743352294819,-0.12863183097000624,0.00918534951412392,-0.055018069985015475,0.20829559232672232,-0.10901875413241692,0.037478216930817446,-0.10192474690147686,-0.11689331338216086,-0.1323812940057844,-0.020266644769312857,-0.007891776340506721,0.12724540086529307,-0.11083791275447656,-0.0421570544684839,-0.0749204714168375,-0.047931260722958495,-0.12887367663335828,0.01705917710419293,-0.07574305868984758,-0.19007362925918886,0.14784239840980823,-0.018216740324149716,-0.03823201721018969,-0.05634201838549922,-0.11268496369984918,-0.04798309404652291,-0.01838094029889333,-0.18634237616828878,-0.05284410939804896,-0.02489393230375045,-0.10163603449132551,-0.2030993293663025,-0.017806955095013354,-0.12094711300614061,-0.013503637242698234,-0.07088333464464572,0.007125422243044528,-0.13276110915156128,-0.07704729824620603,-0.07704729824620603,-0.12136450295659507,-0.010969016010873557,-0.12655733452927803,-0.08334423926928675,-0.028435100082563263,-0.06066777491175799,-0.05944276941267512,0.11759826001558184,-0.06638946072730934,-0.0830036528814886,0.0522048994169401,-0.09177427938897781,-0.030864899988814937,-0.08556046245341269,-0.002691389760777329,-0.09777145443984944,-0.08583054383080763,-0.17742750197296311,-0.04196061307398429,-0.09529208650315057,-0.06403008633437558,0.20577481854500473,-0.08786169442167109,-0.10135985086872586,-0.003916381963368363,-0.06946342908315488,-0.10757159629696311,-0.10081383244757575,-0.0723477133998596,-0.14368573014979263,0.05431680239290204,-0.1419491050405014,-0.10375157853793343,-0.031873931753291354,-0.05781809864760582,-0.11506087792018496],\"xaxis\":\"x\",\"y\":[-0.2800218490421893,-0.20180131318344993,0.014399932087506381,0.007850385509569105,-0.2328292493472973,-0.14536028014530145,0.06092699573415764,-0.09392273769559699,-0.2113430276402154,-0.15311789526958655,-0.13924460681894818,-0.26083499677072813,-0.2074883170605841,-0.11901128426644478,-0.11647831689179725,-0.15545938984242813,-0.15716897871558683,-0.1738403483147179,-0.20222740205469958,-0.14286743502068355,-0.11865148334308638,-0.1112938818478833,-0.058493778380933545,-0.2121219275979485,-0.026813816698715742,-0.1682816128821301,-0.16866576334986771,-0.1762646521057451,-0.16241026455607807,-0.15422722642011427,-0.16249809707953666,-0.16080126514123733,-0.13702849533840072,-0.13070605471004543,-0.17522330158003233,-0.09243669530846703,-0.18340757343353517,-0.16358656519966347,-0.17064615434629454,-0.13775181895143118,-0.12619070985243291,-0.16348272611775105,-0.1119517507085487,-0.1119517507085487,-0.15343864938269366,-0.12021364554727434,-0.16305902279243858,-0.1557986883388299,-0.1434145524735411,-0.25322878906619406,-0.15484242342498183,-0.17816100054164116,-0.14799301108342464,-0.18195901668634168,-0.07199191659956054,-0.13682592891819076,-0.10193017295284612,-0.08190435196243967,-0.11324019161638156,-0.19622578952195474,-0.2087390007869486,-0.1299611347165159,-0.09275994169434507,0.0543767077668933,-0.20805236800816762,-0.24144336401199568,-0.1918125047425376,-0.1903893881625331,-0.12177496653107367,-0.21863957566691622,-0.1794845781017542,-0.24642520430268408,-0.15636473791796454,-0.14340196679157347,-0.05937811302898168,-0.16631297777756177,-0.17880982976907697,-0.13811775117952257,-0.13978051731380253,-0.16437453502387542],\"yaxis\":\"y\",\"type\":\"scatter\"},{\"customdata\":[[\"ULURU INC.\",\"Pharmaceutical Preparations\"],[\"CHINA YCT INTERNATIONAL GROUP, INC.\",\"Pharmaceutical Preparations\"],[\"AXOVANT SCIENCES LTD.\",\"Pharmaceutical Preparations\"],[\"MYOVANT SCIENCES LTD.\",\"Pharmaceutical Preparations\"],[\"PRESTIGE BRANDS HOLDINGS, INC.\",\"Pharmaceutical Preparations\"],[\"HYPGEN INC\",\"Pharmaceutical Preparations\"],[\"HYPGEN INC\",\"Pharmaceutical Preparations\"],[\"DANDRIT BIOTECH USA, INC.\",\"Pharmaceutical Preparations\"],[\"REZOLUTE, INC.\",\"Pharmaceutical Preparations\"],[\"OPTEC INTERNATIONAL, INC.\",\"Pharmaceutical Preparations\"],[\"OPTEC INTERNATIONAL, INC.\",\"Pharmaceutical Preparations\"],[\"BIOVIE INC.\",\"Pharmaceutical Preparations\"],[\"ONCOSEC MEDICAL INC\",\"Pharmaceutical Preparations\"],[\"CANNABICS PHARMACEUTICALS INC.\",\"Pharmaceutical Preparations\"],[\"ORAMED PHARMACEUTICALS INC.\",\"Pharmaceutical Preparations\"],[\"ENTEST BIOMEDICAL, INC.\",\"Pharmaceutical Preparations\"],[\"MY CLOUDZ, INC.\",\"Pharmaceutical Preparations\"],[\"MY CLOUDZ, INC.\",\"Pharmaceutical Preparations\"],[\"ENANTA PHARMACEUTICALS INC\",\"Pharmaceutical Preparations\"],[\"CITIUS PHARMACEUTICALS, INC.\",\"Pharmaceutical Preparations\"],[\"STELLAR BIOTECHNOLOGIES, INC.\",\"Pharmaceutical Preparations\"],[\"REGEN BIOPHARMA INC\",\"Pharmaceutical Preparations\"],[\"REGEN BIOPHARMA INC\",\"Pharmaceutical Preparations\"],[\"ADVAXIS, INC.\",\"Pharmaceutical Preparations\"],[\"ORGENESIS INC.\",\"Pharmaceutical Preparations\"],[\"Q BIOMED INC.\",\"Pharmaceutical Preparations\"],[\"JOHNSON & JOHNSON\",\"Pharmaceutical Preparations\"],[\"BRISTOL MYERS SQUIBB CO\",\"Pharmaceutical Preparations\"],[\"VBI VACCINES INC/BC\",\"Pharmaceutical Preparations\"],[\"INTRA-CELLULAR THERAPIES, INC.\",\"Pharmaceutical Preparations\"],[\"ROCKET PHARMACEUTICALS, INC.\",\"Pharmaceutical Preparations\"],[\"ATLAS HOLDINGS, INC.\",\"Pharmaceutical Preparations\"],[\"NEMUS BIOSCIENCE, INC.\",\"Pharmaceutical Preparations\"],[\"NEMUS BIOSCIENCE, INC.\",\"Pharmaceutical Preparations\"],[\"OVASCIENCE, INC.\",\"Pharmaceutical Preparations\"],[\"CONCERT PHARMACEUTICALS, INC.\",\"Pharmaceutical Preparations\"],[\"AKCEA THERAPEUTICS, INC.\",\"Pharmaceutical Preparations\"],[\"AXIM BIOTECHNOLOGIES, INC.\",\"Pharmaceutical Preparations\"],[\"GUARDION HEALTH SCIENCES, INC.\",\"Pharmaceutical Preparations\"],[\"RETROPHIN, INC.\",\"Pharmaceutical Preparations\"],[\"SYNDAX PHARMACEUTICALS INC\",\"Pharmaceutical Preparations\"],[\"FIBROGEN INC\",\"Pharmaceutical Preparations\"],[\"PROTOKINETIX, INC.\",\"Pharmaceutical Preparations\"],[\"PROGENICS PHARMACEUTICALS INC\",\"Pharmaceutical Preparations\"],[\"CHECKPOINT THERAPEUTICS, INC.\",\"Pharmaceutical Preparations\"],[\"PFENEX INC.\",\"Pharmaceutical Preparations\"],[\"PAIN THERAPEUTICS INC\",\"Pharmaceutical Preparations\"],[\"ZOMEDICA PHARMACEUTICALS CORP.\",\"Pharmaceutical Preparations\"],[\"ZOMEDICA PHARMACEUTICALS CORP.\",\"Pharmaceutical Preparations\"],[\"MOLECULAR TEMPLATES, INC.\",\"Pharmaceutical Preparations\"],[\"WAVE LIFE SCIENCES LTD.\",\"Pharmaceutical Preparations\"],[\"CYMABAY THERAPEUTICS, INC.\",\"Pharmaceutical Preparations\"],[\"AMICUS THERAPEUTICS INC\",\"Pharmaceutical Preparations\"],[\"EVOKE PHARMA INC\",\"Pharmaceutical Preparations\"],[\"CHEMBIO DIAGNOSTICS, INC.\",\"Pharmaceutical Preparations\"],[\"CARA THERAPEUTICS, INC.\",\"Pharmaceutical Preparations\"],[\"CYTOMX THERAPEUTICS, INC.\",\"Pharmaceutical Preparations\"],[\"XENCOR INC\",\"Pharmaceutical Preparations\"],[\"CATABASIS PHARMACEUTICALS INC\",\"Pharmaceutical Preparations\"],[\"SERES THERAPEUTICS, INC.\",\"Pharmaceutical Preparations\"],[\"EYEGATE PHARMACEUTICALS INC\",\"Pharmaceutical Preparations\"],[\"ARENA PHARMACEUTICALS INC\",\"Pharmaceutical Preparations\"],[\"ALEXION PHARMACEUTICALS INC\",\"Pharmaceutical Preparations\"],[\"MELINTA THERAPEUTICS, INC. /NEW/\",\"Pharmaceutical Preparations\"],[\"FIVE PRIME THERAPEUTICS INC\",\"Pharmaceutical Preparations\"],[\"LIXTE BIOTECHNOLOGY HOLDINGS, INC.\",\"Pharmaceutical Preparations\"],[\"ARATANA THERAPEUTICS, INC.\",\"Pharmaceutical Preparations\"],[\"CHIASMA, INC\",\"Pharmaceutical Preparations\"],[\"CELGENE CORP /DE/\",\"Pharmaceutical Preparations\"],[\"NEWLINK GENETICS CORP\",\"Pharmaceutical Preparations\"],[\"LIGAND PHARMACEUTICALS INC\",\"Pharmaceutical Preparations\"],[\"PORTOLA PHARMACEUTICALS INC\",\"Pharmaceutical Preparations\"],[\"PLX PHARMA INC.\",\"Pharmaceutical Preparations\"],[\"ARDELYX, INC.\",\"Pharmaceutical Preparations\"],[\"PROTAGONIST THERAPEUTICS, INC\",\"Pharmaceutical Preparations\"],[\"MOLECULIN BIOTECH, INC.\",\"Pharmaceutical Preparations\"],[\"IRONWOOD PHARMACEUTICALS INC\",\"Pharmaceutical Preparations\"],[\"FORTRESS BIOTECH, INC.\",\"Pharmaceutical Preparations\"],[\"SYNTHETIC BIOLOGICS, INC.\",\"Pharmaceutical Preparations\"],[\"OPTINOSE, INC.\",\"Pharmaceutical Preparations\"],[\"CORMEDIX INC.\",\"Pharmaceutical Preparations\"],[\"HEAT BIOLOGICS, INC.\",\"Pharmaceutical Preparations\"],[\"SUN BIOPHARMA, INC.\",\"Pharmaceutical Preparations\"],[\"BELLEROPHON THERAPEUTICS, INC.\",\"Pharmaceutical Preparations\"],[\"BIOSPECIFICS TECHNOLOGIES CORP\",\"Pharmaceutical Preparations\"],[\"ZOSANO PHARMA CORP\",\"Pharmaceutical Preparations\"],[\"CV SCIENCES, INC.\",\"Pharmaceutical Preparations\"],[\"LILLY ELI & CO\",\"Pharmaceutical Preparations\"],[\"SAREPTA THERAPEUTICS, INC.\",\"Pharmaceutical Preparations\"],[\"EXICURE, INC.\",\"Pharmaceutical Preparations\"],[\"OVID THERAPEUTICS INC.\",\"Pharmaceutical Preparations\"],[\"IMPRIMIS PHARMACEUTICALS, INC.\",\"Pharmaceutical Preparations\"],[\"IONIS PHARMACEUTICALS INC\",\"Pharmaceutical Preparations\"],[\"ONCOMED PHARMACEUTICALS INC\",\"Pharmaceutical Preparations\"],[\"TONIX PHARMACEUTICALS HOLDING CORP.\",\"Pharmaceutical Preparations\"],[\"TEVA PHARMACEUTICAL INDUSTRIES LTD\",\"Pharmaceutical Preparations\"],[\"RHYTHM PHARMACEUTICALS, INC.\",\"Pharmaceutical Preparations\"],[\"COCRYSTAL PHARMA, INC.\",\"Pharmaceutical Preparations\"],[\"REGENERON PHARMACEUTICALS INC\",\"Pharmaceutical Preparations\"],[\"ANI PHARMACEUTICALS INC\",\"Pharmaceutical Preparations\"],[\"CLEARSIDE BIOMEDICAL, INC.\",\"Pharmaceutical Preparations\"],[\"LIPOCINE INC.\",\"Pharmaceutical Preparations\"],[\"GALECTIN THERAPEUTICS INC\",\"Pharmaceutical Preparations\"],[\"STEMLINE THERAPEUTICS INC\",\"Pharmaceutical Preparations\"],[\"DOVA PHARMACEUTICALS, INC.\",\"Pharmaceutical Preparations\"],[\"ABBVIE INC.\",\"Pharmaceutical Preparations\"],[\"AKORN INC\",\"Pharmaceutical Preparations\"],[\"VALEANT PHARMACEUTICALS INTERNATIONAL, INC.\",\"Pharmaceutical Preparations\"],[\"INTELGENX TECHNOLOGIES CORP.\",\"Pharmaceutical Preparations\"],[\"PFIZER INC\",\"Pharmaceutical Preparations\"],[\"SKINVISIBLE INC\",\"Pharmaceutical Preparations\"],[\"TAPIMMUNE INC.\",\"Pharmaceutical Preparations\"],[\"THERAPEUTICSMD, INC.\",\"Pharmaceutical Preparations\"],[\"AQUINOX PHARMACEUTICALS, INC\",\"Pharmaceutical Preparations\"],[\"GLOBAL BLOOD THERAPEUTICS, INC.\",\"Pharmaceutical Preparations\"],[\"RIGEL PHARMACEUTICALS INC\",\"Pharmaceutical Preparations\"],[\"PARATEK PHARMACEUTICALS, INC.\",\"Pharmaceutical Preparations\"],[\"PERRIGO CO PLC\",\"Pharmaceutical Preparations\"],[\"ZAFGEN, INC.\",\"Pharmaceutical Preparations\"],[\"OPHTHOTECH CORP.\",\"Pharmaceutical Preparations\"],[\"ACHILLION PHARMACEUTICALS INC\",\"Pharmaceutical Preparations\"],[\"KEMPHARM, INC\",\"Pharmaceutical Preparations\"],[\"INTERCEPT PHARMACEUTICALS INC\",\"Pharmaceutical Preparations\"],[\"ULTRAGENYX PHARMACEUTICAL INC.\",\"Pharmaceutical Preparations\"],[\"EMERGENT BIOSOLUTIONS INC.\",\"Pharmaceutical Preparations\"],[\"ACER THERAPEUTICS INC.\",\"Pharmaceutical Preparations\"],[\"HERON THERAPEUTICS, INC. /DE/\",\"Pharmaceutical Preparations\"],[\"ADAMIS PHARMACEUTICALS CORP\",\"Pharmaceutical Preparations\"],[\"GT BIOPHARMA, INC.\",\"Pharmaceutical Preparations\"],[\"GT BIOPHARMA, INC.\",\"Pharmaceutical Preparations\"],[\"GT BIOPHARMA, INC.\",\"Pharmaceutical Preparations\"],[\"GT BIOPHARMA, INC.\",\"Pharmaceutical Preparations\"],[\"GT BIOPHARMA, INC.\",\"Pharmaceutical Preparations\"],[\"GT BIOPHARMA, INC.\",\"Pharmaceutical Preparations\"],[\"IMMUNOGEN INC\",\"Pharmaceutical Preparations\"],[\"PTC THERAPEUTICS, INC.\",\"Pharmaceutical Preparations\"],[\"MANNKIND CORP\",\"Pharmaceutical Preparations\"],[\"CARDAX, INC.\",\"Pharmaceutical Preparations\"],[\"SYROS PHARMACEUTICALS, INC.\",\"Pharmaceutical Preparations\"],[\"ADURO BIOTECH, INC.\",\"Pharmaceutical Preparations\"],[\"SIENNA BIOPHARMACEUTICALS, INC.\",\"Pharmaceutical Preparations\"],[\"ACHAOGEN INC\",\"Pharmaceutical Preparations\"],[\"UNITED CANNABIS CORP\",\"Pharmaceutical Preparations\"],[\"UNITED CANNABIS CORP\",\"Pharmaceutical Preparations\"],[\"RXI PHARMACEUTICALS CORP\",\"Pharmaceutical Preparations\"],[\"RXI PHARMACEUTICALS CORP\",\"Pharmaceutical Preparations\"],[\"RXI PHARMACEUTICALS CORP\",\"Pharmaceutical Preparations\"],[\"RXI PHARMACEUTICALS CORP\",\"Pharmaceutical Preparations\"],[\"SOLIGENIX, INC.\",\"Pharmaceutical Preparations\"],[\"XOMA CORP\",\"Pharmaceutical Preparations\"],[\"SIERRA ONCOLOGY, INC.\",\"Pharmaceutical Preparations\"],[\"ACTINIUM PHARMACEUTICALS, INC.\",\"Pharmaceutical Preparations\"],[\"ORAGENICS INC\",\"Pharmaceutical Preparations\"],[\"ATHERSYS, INC / NEW\",\"Pharmaceutical Preparations\"],[\"PULMATRIX, INC.\",\"Pharmaceutical Preparations\"],[\"ACADIA PHARMACEUTICALS INC\",\"Pharmaceutical Preparations\"],[\"TREVENA INC\",\"Pharmaceutical Preparations\"],[\"NATURES SUNSHINE PRODUCTS INC\",\"Pharmaceutical Preparations\"],[\"FLEXION THERAPEUTICS INC\",\"Pharmaceutical Preparations\"],[\"VERASTEM, INC.\",\"Pharmaceutical Preparations\"],[\"XENON PHARMACEUTICALS INC.\",\"Pharmaceutical Preparations\"],[\"SUNESIS PHARMACEUTICALS INC\",\"Pharmaceutical Preparations\"],[\"CORVUS PHARMACEUTICALS, INC.\",\"Pharmaceutical Preparations\"],[\"MERCK & CO., INC.\",\"Pharmaceutical Preparations\"],[\"STRONGBRIDGE BIOPHARMA PLC\",\"Pharmaceutical Preparations\"],[\"CATALYST PHARMACEUTICALS, INC.\",\"Pharmaceutical Preparations\"],[\"ASSEMBLY BIOSCIENCES, INC.\",\"Pharmaceutical Preparations\"],[\"APRICUS BIOSCIENCES, INC.\",\"Pharmaceutical Preparations\"],[\"CATALYST BIOSCIENCES, INC.\",\"Pharmaceutical Preparations\"],[\"MIRATI THERAPEUTICS, INC.\",\"Pharmaceutical Preparations\"],[\"MUSTANG BIO, INC.\",\"Pharmaceutical Preparations\"],[\"ACELRX PHARMACEUTICALS INC\",\"Pharmaceutical Preparations\"],[\"BLUEPRINT MEDICINES CORP\",\"Pharmaceutical Preparations\"],[\"ATHENEX, INC.\",\"Pharmaceutical Preparations\"],[\"ATHENEX, INC.\",\"Pharmaceutical Preparations\"],[\"RECRO PHARMA, INC.\",\"Pharmaceutical Preparations\"],[\"BIOHAVEN PHARMACEUTICAL HOLDING CO LTD.\",\"Pharmaceutical Preparations\"],[\"PROTHENA CORP PLC\",\"Pharmaceutical Preparations\"],[\"AVENUE THERAPEUTICS, INC.\",\"Pharmaceutical Preparations\"],[\"VTV THERAPEUTICS INC.\",\"Pharmaceutical Preparations\"],[\"ZYNERBA PHARMACEUTICALS, INC.\",\"Pharmaceutical Preparations\"],[\"BIOMARIN PHARMACEUTICAL INC\",\"Pharmaceutical Preparations\"],[\"KARYOPHARM THERAPEUTICS INC.\",\"Pharmaceutical Preparations\"],[\"LEXICON PHARMACEUTICALS, INC.\",\"Pharmaceutical Preparations\"],[\"ENDO INTERNATIONAL PLC\",\"Pharmaceutical Preparations\"],[\"PROPHASE LABS, INC.\",\"Pharmaceutical Preparations\"],[\"CELLECTAR BIOSCIENCES, INC.\",\"Pharmaceutical Preparations\"],[\"RITTER PHARMACEUTICALS INC\",\"Pharmaceutical Preparations\"],[\"MARINUS PHARMACEUTICALS INC\",\"Pharmaceutical Preparations\"],[\"CORCEPT THERAPEUTICS INC\",\"Pharmaceutical Preparations\"],[\"ALNYLAM PHARMACEUTICALS, INC.\",\"Pharmaceutical Preparations\"],[\"DARE BIOSCIENCE, INC.\",\"Pharmaceutical Preparations\"],[\"TELIGENT, INC.\",\"Pharmaceutical Preparations\"],[\"TELIGENT, INC.\",\"Pharmaceutical Preparations\"],[\"ACLARIS THERAPEUTICS, INC.\",\"Pharmaceutical Preparations\"],[\"VITAL THERAPIES INC\",\"Pharmaceutical Preparations\"],[\"DECIPHERA PHARMACEUTICALS, INC.\",\"Pharmaceutical Preparations\"],[\"CAPSTONE THERAPEUTICS CORP.\",\"Pharmaceutical Preparations\"],[\"PACIRA PHARMACEUTICALS, INC.\",\"Pharmaceutical Preparations\"],[\"UROGEN PHARMA LTD.\",\"Pharmaceutical Preparations\"],[\"FIBROCELL SCIENCE, INC.\",\"Pharmaceutical Preparations\"],[\"FLEX PHARMA, INC.\",\"Pharmaceutical Preparations\"],[\"BIODELIVERY SCIENCES INTERNATIONAL INC\",\"Pharmaceutical Preparations\"],[\"HORIZON PHARMA PLC\",\"Pharmaceutical Preparations\"],[\"MERRIMACK PHARMACEUTICALS INC\",\"Pharmaceutical Preparations\"],[\"CYCLACEL PHARMACEUTICALS, INC.\",\"Pharmaceutical Preparations\"],[\"ZOETIS INC.\",\"Pharmaceutical Preparations\"]],\"hovertemplate\":\"color=Pharmaceutical Preparations<br>0=%{x}<br>1=%{y}<br>name=%{customdata[0]}<br>industry=%{customdata[1]}<extra></extra>\",\"legendgroup\":\"Pharmaceutical Preparations\",\"marker\":{\"color\":\"#00cc96\",\"symbol\":\"circle\"},\"mode\":\"markers\",\"name\":\"Pharmaceutical Preparations\",\"orientation\":\"v\",\"showlegend\":true,\"x\":[0.37501114950227843,0.2792580215148054,0.36630374275376587,0.28555225084016916,0.27206651073247207,0.19044628305697836,0.19044628305697836,0.4499590492273315,0.43279637693554485,0.13955154409902185,0.13955154409902185,0.5047647442167457,0.48111817342738966,0.3558366303469024,0.45632951722375326,-0.21190843606359067,0.03156109947627543,0.03156109947627543,0.48158065693686586,0.4134479111104228,0.34383540774284377,-0.15914611153862473,-0.15914611153862473,0.41229175197102125,0.40828171052191525,0.4180459044143161,0.3520522716431968,0.14263776903325254,0.4317362269416485,0.36505733190439627,0.3602513638016068,0.4061501688870231,0.39994122512446656,0.39994122512446656,0.45567349039261484,0.37764768737264526,0.46710019463196734,0.3721378853011733,0.06683903602309614,0.4386970839640839,0.44900449913415547,0.4333142317042237,0.382045934099079,-0.12833930025362114,0.4517131996508442,0.4106865590561653,0.3722982002747168,0.38490850151525985,0.38490850151525985,0.447616714506468,0.4791143652419565,0.4071475795253208,0.4895366438517602,0.4518263244262992,0.41954095590135676,0.3198918652617579,0.46634890541167595,-0.06891523634510473,0.43241183401180316,0.44089056568074836,0.2985780383849541,0.334771600787714,0.4236049158173561,0.387676980357044,-0.07713492975200874,0.4248313318557104,0.280323917067051,0.5028261291570107,0.44365602473145743,0.4552202651431999,0.41021096368373466,0.46716821902678696,0.4650841581406465,0.3798762551347882,0.46454583706927577,0.46233260166654333,0.4351906190700259,0.08795075638761367,0.43498703593210664,0.3588543027867479,0.47017024524043444,0.35596768751649843,0.395202402306953,0.463161612726435,0.41057264270030236,0.35581304219642423,0.2841337642697654,0.44288647654401464,0.4703060375476286,0.39424435368442945,0.3374842119430224,0.34010294575013444,0.4484806949569947,0.4561856304993072,0.4164096499401042,0.43160446048850293,0.4154449121165518,0.4113663262784971,0.40923771339286813,0.39370716906449044,0.47566186147819767,0.4119277029233612,0.4486923085995924,0.4551234593693412,0.40918628276559965,0.41396127602299687,0.31262179160072046,0.40413554750344516,0.4356616242564586,0.36327559332823844,0.3065679664268484,0.4581801899276965,0.43954428759310366,0.4077380152992733,0.41013165637792126,0.4524782104403991,0.36102263119989203,0.08296741804182682,-0.16405703739514368,0.4729828019922084,0.45148994487223343,0.43676510915544364,0.3878804222703001,0.4839335670733027,0.448641831775217,0.2698454360230046,0.397179923640621,0.4490044687601883,0.41611848331241225,0.41611848331241225,0.41611848331241225,0.41611848331241225,0.41611848331241225,0.41611848331241225,0.5142457034100845,0.47117968115409753,0.43626467394458385,0.3869990480945916,0.49210440492969126,0.4431822018409308,0.4122107791634758,0.4214733975490632,0.33409674067733247,0.33409674067733247,0.42345305166144415,0.42345305166144415,0.42345305166144415,0.42345305166144415,0.4160658721863705,0.14471059635265202,0.4190316738918325,0.47298500754293765,0.4447464568510342,0.4397066372087253,0.4900467688588761,0.4483810906667963,0.40039275014096753,0.15860123376194607,0.34650963056897943,0.39823260103803654,0.41519494446826427,0.4492366106206016,0.3955058859017068,0.4443488261152719,0.4860383102638223,0.49658463441670997,0.4359094952804123,0.42376425490000463,0.4524034951117858,0.47976480780233477,0.4402181468255763,0.41771362645518495,0.4527444559109659,0.4703216834303152,0.4703216834303152,0.3580466217995061,0.3274249943445465,0.3924986948980297,0.3898983994771315,0.48585516866003436,0.45279330435601417,0.44919478369476123,0.40071697155093733,0.5020454483550206,0.4101342310711802,0.2930363446436076,0.42960693225005686,0.48868401015579815,0.42034117092096707,0.4858269079240643,0.4599680791738148,0.4601612693318789,0.24175685619230897,0.24175685619230897,0.4284187719374331,0.28185570756143985,0.43685934632379986,0.3588867081689874,0.2472450966044656,0.4666373521007469,0.48877660434297826,0.31518275217479935,0.4286223271754506,0.4298296823944708,0.4928228935548836,0.468649899364767,-0.14262384222502833],\"xaxis\":\"x\",\"y\":[0.12326811303287308,-0.033102127022514444,0.0921199900180445,0.02375192668845631,-0.10708382734717113,0.06651978508830651,0.06651978508830651,0.14490766609729538,0.1116330996995906,-0.14442944414050732,-0.14442944414050732,0.22073863283039277,0.1236514140198762,0.09437038442787601,0.1604422663392406,-0.11243593279479296,-0.0330602905858252,-0.0330602905858252,0.16326690941080874,0.07219220665339311,-0.040621689408764594,-0.024327474786391277,-0.024327474786391277,0.13045029694701654,0.04356931150354716,-0.001357649957936949,0.004319905931242989,-0.012116148420076587,0.11755469039370618,0.1085247568278741,0.12291612621499337,0.10144339762261344,0.17477473002975705,0.17477473002975705,0.20932615495014814,0.11394647477185695,0.02871234426071079,0.049390896759708876,-0.04710481457331035,0.15446487327052552,0.15805759269037417,0.15454405732838,0.07589992359745333,-0.09059629670220626,0.14187761958416442,0.1022950662213364,0.06834022103721676,0.018007110741437377,0.018007110741437377,0.19251124433749148,0.14515306964793845,0.18389251348881136,0.16439490600278892,0.13309271696082664,0.12922504218857173,-0.019974929820132103,0.10755504497380226,0.06582122103254466,0.1874249408888868,0.046262516801000596,0.0862792405481217,0.07767973030231606,0.11720908284922198,0.006677305591264258,0.049813280740444735,0.12822571725578005,-0.0324952326492457,0.16271277624884134,0.19496954120512527,0.12238771502321291,0.025347509068639352,0.08962006311798797,0.16484214491600577,0.10763498980165727,0.21725930861565593,0.14859179124412983,0.0824405253317559,-0.060483145650081165,0.09546049666634453,-0.015694163325698535,0.16009858789123327,0.1112425866425031,0.10765021785672746,0.018571162354095196,0.044791613088941556,0.02273394400186124,-0.06086913899072434,0.1026399820820781,0.13560376867784205,0.1075934983954176,0.09337704445787699,0.014729196466403882,0.07046902513544491,0.14514040961115018,0.09764343576775933,0.043950579953257574,0.09173600746139511,0.08919724477114759,0.09959750998899648,0.004450296099767825,0.17844410792654877,0.16409503723600932,0.10040718375207765,0.13054956161361403,0.15298765783756177,0.0808798975886012,-0.0054786288876925255,-0.0015866563879732764,0.07568145899428241,-0.07937899794704961,-0.034056450239283824,0.15871888373638138,0.04030986589101152,0.12584999131365757,0.1643651069308538,0.11287691338273016,0.1380479032415441,-0.15937262630987414,-0.08637664560181359,0.14406419964045836,0.1991969366675099,0.14867079375306078,0.09439381009781117,0.02714077993868043,0.08325516310988479,0.028675216873331775,0.13066042960770255,0.1481310409621865,0.08307623071935921,0.08307623071935921,0.08307623071935921,0.08307623071935921,0.08307623071935921,0.08307623071935921,0.13165593033062076,0.15661220725252223,0.08513788327850695,0.15671391528591544,0.1736119765025119,0.12591080907924485,-0.01219280693800472,0.12970336330927856,0.03915069535566248,0.03915069535566248,0.11331293911834213,0.11331293911834213,0.11331293911834213,0.11331293911834213,0.11326842999653136,-0.042183231090267385,0.13998361599050277,0.12175903232755532,0.14175177700328875,0.047962989278597726,0.14554545934335159,0.11010501028285602,0.11936447944838402,-0.09701536311881505,0.02579973171511286,0.10823654577401975,0.0985061762109482,0.19101242040931293,0.1339082130347289,0.11012301105621063,0.17829186073051229,0.17090344163477494,0.07032750775477357,0.11842501272676098,0.16356890084247752,0.16120377341493644,0.13456340136485126,0.085600537418357,0.1271414662107441,0.17733263847652905,0.17733263847652905,0.1305240946135372,0.07434618266530735,0.01119975613404393,0.21938473262887548,0.0939007783320212,0.08381258280889269,0.07355731560693829,0.13323332951676384,0.09668788747822132,0.03228925250546861,0.10027102128591354,0.1192483794043077,0.16891122070566864,0.14301404970945392,0.1561686917447851,0.16873286274508745,0.08206744895851906,-0.019137692805494915,-0.019137692805494915,-0.04560087981225794,0.08796677477133973,0.2213603949140575,0.027982129507754073,-0.061039684971615146,0.18784926882481406,0.15602402984112787,0.09008562986247225,0.06451322953156104,0.029118215812108893,0.19182683011534177,0.21925131620033939,-0.09782410975446391],\"yaxis\":\"y\",\"type\":\"scatter\"},{\"customdata\":[[\"INVESTORS REAL ESTATE TRUST\",\"Real Estate Investment Trusts\"],[\"BRT APARTMENTS CORP.\",\"Real Estate Investment Trusts\"],[\"MONMOUTH REAL ESTATE INVESTMENT CORP\",\"Real Estate Investment Trusts\"],[\"FIRST REAL ESTATE INVESTMENT TRUST OF NEW JERSEY\",\"Real Estate Investment Trusts\"],[\"FIRST REAL ESTATE INVESTMENT TRUST OF NEW JERSEY\",\"Real Estate Investment Trusts\"],[\"URSTADT BIDDLE PROPERTIES INC\",\"Real Estate Investment Trusts\"],[\"URSTADT BIDDLE PROPERTIES INC\",\"Real Estate Investment Trusts\"],[\"PHILLIPS EDISON & COMPANY, INC.\",\"Real Estate Investment Trusts\"],[\"SL GREEN REALTY CORP\",\"Real Estate Investment Trusts\"],[\"CUBESMART\",\"Real Estate Investment Trusts\"],[\"CIM COMMERCIAL TRUST CORP\",\"Real Estate Investment Trusts\"],[\"CERES TACTICAL SYSTEMATIC L.P.\",\"Real Estate Investment Trusts\"],[\"PS BUSINESS PARKS INC/CA\",\"Real Estate Investment Trusts\"],[\"STEADFAST INCOME REIT, INC.\",\"Real Estate Investment Trusts\"],[\"RETAIL OPPORTUNITY INVESTMENTS CORP\",\"Real Estate Investment Trusts\"],[\"MORGAN STANLEY SMITH BARNEY SPECTRUM SELECT LP\",\"Real Estate Investment Trusts\"],[\"NEW YORK MORTGAGE TRUST INC\",\"Real Estate Investment Trusts\"],[\"CBL & ASSOCIATES PROPERTIES INC\",\"Real Estate Investment Trusts\"],[\"LEXINGTON REALTY TRUST\",\"Real Estate Investment Trusts\"],[\"BRANDYWINE REALTY TRUST\",\"Real Estate Investment Trusts\"],[\"LAMAR ADVERTISING CO/NEW\",\"Real Estate Investment Trusts\"],[\"JBG SMITH PROPERTIES\",\"Real Estate Investment Trusts\"],[\"KBS REAL ESTATE INVESTMENT TRUST III, INC.\",\"Real Estate Investment Trusts\"],[\"CAPSTEAD MORTGAGE CORP\",\"Real Estate Investment Trusts\"],[\"GGP INC.\",\"Real Estate Investment Trusts\"],[\"QTS REALTY TRUST, INC.\",\"Real Estate Investment Trusts\"],[\"WELLS FARGO REAL ESTATE INVESTMENT CORP.\",\"Real Estate Investment Trusts\"],[\"LIGHTSTONE VALUE PLUS REAL ESTATE INVESTMENT TRUST V, INC.\",\"Real Estate Investment Trusts\"],[\"RESOURCE APARTMENT REIT III, INC.\",\"Real Estate Investment Trusts\"],[\"CNL HEALTHCARE PROPERTIES, INC.\",\"Real Estate Investment Trusts\"],[\"RETAIL PROPERTIES OF AMERICA, INC.\",\"Real Estate Investment Trusts\"],[\"BOSTON PROPERTIES INC\",\"Real Estate Investment Trusts\"],[\"REGENCY CENTERS CORP\",\"Real Estate Investment Trusts\"],[\"NATIONAL HEALTH INVESTORS INC\",\"Real Estate Investment Trusts\"],[\"DRIVE SHACK INC.\",\"Real Estate Investment Trusts\"],[\"COLE CREDIT PROPERTY TRUST V, INC.\",\"Real Estate Investment Trusts\"],[\"EQUITY RESIDENTIAL\",\"Real Estate Investment Trusts\"],[\"KITE REALTY GROUP TRUST\",\"Real Estate Investment Trusts\"],[\"OUTFRONT MEDIA INC.\",\"Real Estate Investment Trusts\"],[\"PENNSYLVANIA REAL ESTATE INVESTMENT TRUST\",\"Real Estate Investment Trusts\"],[\"COLE REAL ESTATE INCOME STRATEGY (DAILY NAV), INC.\",\"Real Estate Investment Trusts\"],[\"REALTY INCOME CORP\",\"Real Estate Investment Trusts\"],[\"GLOBAL MEDICAL REIT INC.\",\"Real Estate Investment Trusts\"],[\"PILLARSTONE CAPITAL REIT\",\"Real Estate Investment Trusts\"],[\"CLIPPER REALTY INC.\",\"Real Estate Investment Trusts\"],[\"BLACK CREEK INDUSTRIAL REIT IV INC.\",\"Real Estate Investment Trusts\"],[\"LIGHTSTONE VALUE PLUS REAL ESTATE INVESTMENT TRUST, INC.\",\"Real Estate Investment Trusts\"],[\"KKR REAL ESTATE FINANCE TRUST INC.\",\"Real Estate Investment Trusts\"],[\"GEO GROUP INC\",\"Real Estate Investment Trusts\"],[\"AMERICAN ASSETS TRUST, INC.\",\"Real Estate Investment Trusts\"],[\"IMPAC MORTGAGE HOLDINGS INC\",\"Real Estate Investment Trusts\"],[\"CNL HEALTHCARE PROPERTIES II, INC.\",\"Real Estate Investment Trusts\"],[\"ANWORTH MORTGAGE ASSET CORP\",\"Real Estate Investment Trusts\"],[\"LIGHTSTONE VALUE PLUS REAL ESTATE INVESTMENT TRUST III, INC.\",\"Real Estate Investment Trusts\"],[\"AMERICAN FINANCE TRUST, INC\",\"Real Estate Investment Trusts\"],[\"EQUITY COMMONWEALTH\",\"Real Estate Investment Trusts\"],[\"FOUR CORNERS PROPERTY TRUST, INC.\",\"Real Estate Investment Trusts\"],[\"RAYONIER INC\",\"Real Estate Investment Trusts\"],[\"HOST HOTELS & RESORTS, INC.\",\"Real Estate Investment Trusts\"],[\"GAMING & LEISURE PROPERTIES, INC.\",\"Real Estate Investment Trusts\"],[\"NATIONAL RETAIL PROPERTIES, INC.\",\"Real Estate Investment Trusts\"],[\"SENIOR HOUSING PROPERTIES TRUST\",\"Real Estate Investment Trusts\"],[\"SUTHERLAND ASSET MANAGEMENT CORP\",\"Real Estate Investment Trusts\"],[\"TAUBMAN CENTERS INC\",\"Real Estate Investment Trusts\"],[\"RESOURCE REAL ESTATE OPPORTUNITY REIT, INC.\",\"Real Estate Investment Trusts\"],[\"TANGER FACTORY OUTLET CENTERS INC\",\"Real Estate Investment Trusts\"],[\"MFA FINANCIAL, INC.\",\"Real Estate Investment Trusts\"],[\"TERRA SECURED INCOME FUND 5, LLC\",\"Real Estate Investment Trusts\"],[\"SBA COMMUNICATIONS CORP\",\"Real Estate Investment Trusts\"],[\"LIGHTSTONE VALUE PLUS REAL ESTATE INVESTMENT TRUST II INC\",\"Real Estate Investment Trusts\"],[\"JONES LANG LASALLE INCOME PROPERTY TRUST, INC.\",\"Real Estate Investment Trusts\"],[\"AVALONBAY COMMUNITIES INC\",\"Real Estate Investment Trusts\"],[\"ARES COMMERCIAL REAL ESTATE CORP\",\"Real Estate Investment Trusts\"],[\"CARTER VALIDUS MISSION CRITICAL REIT II, INC.\",\"Real Estate Investment Trusts\"],[\"PHYSICIANS REALTY TRUST\",\"Real Estate Investment Trusts\"],[\"PROLOGIS, INC.\",\"Real Estate Investment Trusts\"],[\"ARMOUR RESIDENTIAL REIT, INC.\",\"Real Estate Investment Trusts\"],[\"CHERRY HILL MORTGAGE INVESTMENT CORP\",\"Real Estate Investment Trusts\"],[\"EMPIRE STATE REALTY TRUST, INC.\",\"Real Estate Investment Trusts\"],[\"PUBLIC STORAGE\",\"Real Estate Investment Trusts\"],[\"APARTMENT INVESTMENT & MANAGEMENT CO\",\"Real Estate Investment Trusts\"],[\"CEDAR REALTY TRUST, INC.\",\"Real Estate Investment Trusts\"],[\"HIGHLANDS REIT, INC.\",\"Real Estate Investment Trusts\"],[\"IRON MOUNTAIN INC\",\"Real Estate Investment Trusts\"],[\"SOTHERLY HOTELS INC.\",\"Real Estate Investment Trusts\"],[\"EMPIRE STATE REALTY OP, L.P.\",\"Real Estate Investment Trusts\"],[\"ESSEX PROPERTY TRUST INC\",\"Real Estate Investment Trusts\"],[\"WEINGARTEN REALTY INVESTORS /TX/\",\"Real Estate Investment Trusts\"],[\"CONDOR HOSPITALITY TRUST, INC.\",\"Real Estate Investment Trusts\"],[\"CITY OFFICE REIT, INC.\",\"Real Estate Investment Trusts\"],[\"BENEFIT STREET PARTNERS REALTY TRUST, INC.\",\"Real Estate Investment Trusts\"],[\"LIGHTSTONE REAL ESTATE INCOME TRUST INC.\",\"Real Estate Investment Trusts\"],[\"AMERICAN CAMPUS COMMUNITIES INC\",\"Real Estate Investment Trusts\"],[\"STARWOOD PROPERTY TRUST, INC.\",\"Real Estate Investment Trusts\"],[\"CORESITE REALTY CORP\",\"Real Estate Investment Trusts\"],[\"POTLATCH CORP\",\"Real Estate Investment Trusts\"],[\"CORPORATE OFFICE PROPERTIES TRUST\",\"Real Estate Investment Trusts\"],[\"RAMCO GERSHENSON PROPERTIES TRUST\",\"Real Estate Investment Trusts\"],[\"NATIONAL STORAGE AFFILIATES TRUST\",\"Real Estate Investment Trusts\"],[\"HERSHA HOSPITALITY TRUST\",\"Real Estate Investment Trusts\"],[\"JERNIGAN CAPITAL, INC.\",\"Real Estate Investment Trusts\"],[\"VORNADO REALTY TRUST\",\"Real Estate Investment Trusts\"],[\"ISTAR INC.\",\"Real Estate Investment Trusts\"],[\"ALEXANDER & BALDWIN, INC.\",\"Real Estate Investment Trusts\"],[\"HOSPITALITY INVESTORS TRUST, INC.\",\"Real Estate Investment Trusts\"],[\"SAUL CENTERS INC\",\"Real Estate Investment Trusts\"],[\"KBS GROWTH & INCOME REIT, INC.\",\"Real Estate Investment Trusts\"],[\"EXTRA SPACE STORAGE INC.\",\"Real Estate Investment Trusts\"],[\"CHESAPEAKE LODGING TRUST\",\"Real Estate Investment Trusts\"],[\"LTC PROPERTIES INC\",\"Real Estate Investment Trusts\"],[\"EASTERLY GOVERNMENT PROPERTIES, INC.\",\"Real Estate Investment Trusts\"],[\"PLYMOUTH INDUSTRIAL REIT INC.\",\"Real Estate Investment Trusts\"],[\"FRANKLIN STREET PROPERTIES CORP /MA/\",\"Real Estate Investment Trusts\"],[\"HEALTHCARE TRUST OF AMERICA, INC.\",\"Real Estate Investment Trusts\"],[\"REALSOURCE RESIDENTIAL, INC\",\"Real Estate Investment Trusts\"],[\"CARTER VALIDUS MISSION CRITICAL REIT, INC.\",\"Real Estate Investment Trusts\"],[\"SUN COMMUNITIES INC\",\"Real Estate Investment Trusts\"],[\"FIRST EQUITY PROPERTIES INC\",\"Real Estate Investment Trusts\"],[\"MID AMERICA APARTMENT COMMUNITIES INC\",\"Real Estate Investment Trusts\"],[\"BROOKFIELD DTLA FUND OFFICE TRUST INVESTOR INC.\",\"Real Estate Investment Trusts\"],[\"ANNALY CAPITAL MANAGEMENT INC\",\"Real Estate Investment Trusts\"],[\"WHEELER REAL ESTATE INVESTMENT TRUST, INC.\",\"Real Estate Investment Trusts\"],[\"ALEXANDRIA REAL ESTATE EQUITIES INC\",\"Real Estate Investment Trusts\"],[\"HIGHWOODS PROPERTIES INC\",\"Real Estate Investment Trusts\"],[\"KIMCO REALTY CORP\",\"Real Estate Investment Trusts\"],[\"INDEPENDENCE REALTY TRUST, INC.\",\"Real Estate Investment Trusts\"],[\"PREFERRED APARTMENT COMMUNITIES INC\",\"Real Estate Investment Trusts\"],[\"ELLINGTON RESIDENTIAL MORTGAGE REIT\",\"Real Estate Investment Trusts\"],[\"CORECIVIC, INC.\",\"Real Estate Investment Trusts\"],[\"ASHFORD HOSPITALITY PRIME, INC.\",\"Real Estate Investment Trusts\"],[\"LIFE STORAGE, INC.\",\"Real Estate Investment Trusts\"],[\"HEALTHCARE REALTY TRUST INC\",\"Real Estate Investment Trusts\"],[\"WINTHROP REALTY LIQUIDATING TRUST\",\"Real Estate Investment Trusts\"],[\"CORENERGY INFRASTRUCTURE TRUST, INC.\",\"Real Estate Investment Trusts\"],[\"KBS STRATEGIC OPPORTUNITY REIT II, INC.\",\"Real Estate Investment Trusts\"],[\"PEBBLEBROOK HOTEL TRUST\",\"Real Estate Investment Trusts\"],[\"SABRA HEALTH CARE REIT, INC.\",\"Real Estate Investment Trusts\"],[\"POWER REIT\",\"Real Estate Investment Trusts\"],[\"DYNEX CAPITAL INC\",\"Real Estate Investment Trusts\"],[\"DIGITAL REALTY TRUST, INC.\",\"Real Estate Investment Trusts\"],[\"STRATEGIC REALTY TRUST, INC.\",\"Real Estate Investment Trusts\"],[\"COLE OFFICE & INDUSTRIAL REIT (CCIT III), INC.\",\"Real Estate Investment Trusts\"],[\"HEALTHCARE TRUST, INC.\",\"Real Estate Investment Trusts\"],[\"LADDER CAPITAL CORP\",\"Real Estate Investment Trusts\"],[\"CROWN CASTLE INTERNATIONAL CORP\",\"Real Estate Investment Trusts\"],[\"HOWARD HUGHES CORP\",\"Real Estate Investment Trusts\"],[\"ALEXANDERS INC\",\"Real Estate Investment Trusts\"],[\"MANHATTAN BRIDGE CAPITAL, INC\",\"Real Estate Investment Trusts\"],[\"INLAND REAL ESTATE INCOME TRUST, INC.\",\"Real Estate Investment Trusts\"],[\"INLAND RESIDENTIAL PROPERTIES TRUST, INC.\",\"Real Estate Investment Trusts\"],[\"INLAND RESIDENTIAL PROPERTIES TRUST, INC.\",\"Real Estate Investment Trusts\"],[\"KBS REAL ESTATE INVESTMENT TRUST II, INC.\",\"Real Estate Investment Trusts\"],[\"RESOURCE REAL ESTATE OPPORTUNITY REIT II, INC.\",\"Real Estate Investment Trusts\"],[\"STEADFAST APARTMENT REIT III, INC.\",\"Real Estate Investment Trusts\"],[\"ACADIA REALTY TRUST\",\"Real Estate Investment Trusts\"],[\"HMG COURTLAND PROPERTIES INC\",\"Real Estate Investment Trusts\"],[\"COLE CREDIT PROPERTY TRUST IV, INC.\",\"Real Estate Investment Trusts\"],[\"FIVE OAKS INVESTMENT CORP.\",\"Real Estate Investment Trusts\"],[\"NEXPOINT RESIDENTIAL TRUST, INC.\",\"Real Estate Investment Trusts\"],[\"TWO HARBORS INVESTMENT CORP.\",\"Real Estate Investment Trusts\"],[\"WASHINGTON PRIME GROUP INC.\",\"Real Estate Investment Trusts\"],[\"TIER REIT INC\",\"Real Estate Investment Trusts\"],[\"GRANITE POINT MORTGAGE TRUST INC.\",\"Real Estate Investment Trusts\"],[\"GREAT AJAX CORP.\",\"Real Estate Investment Trusts\"],[\"DUKE REALTY CORP\",\"Real Estate Investment Trusts\"],[\"EASTGROUP PROPERTIES INC\",\"Real Estate Investment Trusts\"],[\"STEADFAST APARTMENT REIT, INC.\",\"Real Estate Investment Trusts\"],[\"RECKSON OPERATING PARTNERSHIP LP\",\"Real Estate Investment Trusts\"],[\"GLOBAL NET LEASE, INC.\",\"Real Estate Investment Trusts\"],[\"KBS STRATEGIC OPPORTUNITY REIT, INC.\",\"Real Estate Investment Trusts\"],[\"WHITESTONE REIT\",\"Real Estate Investment Trusts\"],[\"GRIFFIN CAPITAL ESSENTIAL ASSET REIT II, INC.\",\"Real Estate Investment Trusts\"],[\"UDR, INC.\",\"Real Estate Investment Trusts\"],[\"COMMUNITY HEALTHCARE TRUST INC\",\"Real Estate Investment Trusts\"],[\"VENTAS INC\",\"Real Estate Investment Trusts\"],[\"OWENS REALTY MORTGAGE, INC.\",\"Real Estate Investment Trusts\"],[\"KILROY REALTY CORP\",\"Real Estate Investment Trusts\"],[\"SUMMIT HOTEL PROPERTIES, INC.\",\"Real Estate Investment Trusts\"],[\"CORPORATE PROPERTY ASSOCIATES 18 GLOBAL INC\",\"Real Estate Investment Trusts\"],[\"CYRUSONE INC.\",\"Real Estate Investment Trusts\"],[\"COLONY NORTHSTAR, INC.\",\"Real Estate Investment Trusts\"],[\"FEDERAL REALTY INVESTMENT TRUST\",\"Real Estate Investment Trusts\"],[\"NEW SENIOR INVESTMENT GROUP INC.\",\"Real Estate Investment Trusts\"],[\"RYMAN HOSPITALITY PROPERTIES, INC.\",\"Real Estate Investment Trusts\"],[\"BRIXMOR PROPERTY GROUP INC.\",\"Real Estate Investment Trusts\"],[\"COLE OFFICE & INDUSTRIAL REIT (CCIT II), INC.\",\"Real Estate Investment Trusts\"],[\"OMEGA HEALTHCARE INVESTORS INC\",\"Real Estate Investment Trusts\"],[\"REVEN HOUSING REIT, INC.\",\"Real Estate Investment Trusts\"],[\"AMERICAN REALTY CAPITAL NEW YORK CITY REIT, INC.\",\"Real Estate Investment Trusts\"],[\"STAG INDUSTRIAL, INC.\",\"Real Estate Investment Trusts\"],[\"EQUINIX INC\",\"Real Estate Investment Trusts\"]],\"hovertemplate\":\"color=Real Estate Investment Trusts<br>0=%{x}<br>1=%{y}<br>name=%{customdata[0]}<br>industry=%{customdata[1]}<extra></extra>\",\"legendgroup\":\"Real Estate Investment Trusts\",\"marker\":{\"color\":\"#ab63fa\",\"symbol\":\"circle\"},\"mode\":\"markers\",\"name\":\"Real Estate Investment Trusts\",\"orientation\":\"v\",\"showlegend\":true,\"x\":[-0.30028044241387714,-0.25556955388075986,-0.27301939554517235,-0.32431244799311115,-0.32431244799311115,-0.2897982779482251,-0.2897982779482251,-0.25252554719311915,-0.31207074683855474,-0.15266634052977524,-0.21705875900357244,-0.16802015566343625,-0.2767108445021348,-0.29452702436254835,-0.2962012868307276,-0.13103032878608603,-0.30944439394645734,-0.3073831779176779,-0.3261567064303049,-0.31172880196396396,-0.00739207083274784,-0.21759054761374638,-0.32039350637686975,-0.2799815471565283,-0.2573512155298087,-0.012356540680317598,-0.3157042975849285,-0.2810168514339929,-0.19441930101438454,-0.23045444078755808,-0.24626866181529522,-0.10454057921852175,-0.3100837945857766,-0.21187877375609618,-0.201094671444786,-0.27927601160360443,-0.2102338880978394,-0.2798433822768522,0.007945982620539126,-0.26017632317148603,-0.25344283340414164,-0.3095041723849422,-0.10223149740454474,-0.3150623104985509,-0.3509437748102187,-0.2925359555097454,-0.1458526487276996,-0.2469953335197851,0.029811240681787504,-0.22280961478407402,-0.23774493290017845,-0.21898324626062574,-0.2640041544396352,-0.1458526487276996,-0.324042100899182,-0.2598062582302626,-0.28583434500531735,-0.2015325587785481,-0.3165360109314154,-0.2593297285661644,-0.3529794809933603,-0.18634900292646775,-0.2237756937680032,-0.09473603384321339,-0.25649436683753385,-0.10288342169968323,-0.22786909931150212,-0.2915025419856019,-0.22414691870598039,-0.1458526487276996,-0.292054184429855,-0.23642054226955306,-0.26993043769337827,-0.2458484816707359,-0.06272399688424496,-0.16350569448626787,-0.294253164959019,-0.260701264206975,-0.18250020424069918,-0.028020764522687543,-0.27203386837425514,-0.22393202696688774,-0.2843690927882152,-0.06399953791980798,-0.21957778357891758,-0.18845134319776616,-0.25282611081165907,-0.26278521919480075,-0.21277897520009686,-0.21786111048442555,-0.3035650413241956,-0.13694477074841419,-0.1717355105513297,-0.3239120243807501,-0.11093775722034142,-0.15795684618472194,-0.23641574321793463,-0.19328522033191614,-0.23258245438390107,-0.2567257242584721,-0.2660819572288382,-0.27487281088071175,-0.29687496568709587,-0.20008706709990834,-0.28114747727082123,-0.31353224797856216,-0.27559708995505006,-0.22187386329469014,-0.1390724752302852,-0.15731595061332548,-0.1847935179818072,-0.22203491641171222,-0.19216890995993824,-0.08241500677168792,-0.15469571127095244,-0.2572150281482258,-0.1121896560826402,-0.1766484089264727,-0.24843219508625033,-0.25906959952593706,-0.12537910328559332,-0.22475359657650498,-0.18423299020389397,-0.1647185845429848,-0.20921381885194193,-0.2504116199436387,-0.3156530425184572,-0.24270160522401119,-0.04967783252289736,-0.20481184194964602,-0.18891016818053588,-0.1324292700434794,-0.23642576873126428,-0.27752123835406056,-0.243145706939431,-0.23323652860719618,-0.1299929038637615,-0.2710841959788448,-0.22869534265161656,-0.014961654610269865,-0.2734988401652649,-0.26114377281270945,-0.10511045987662491,-0.2576051959000845,-0.22187942238151687,-0.2319247055119916,-0.22506953889219788,-0.2774082244568359,-0.24561367861429953,-0.2547453422005636,-0.2547453422005636,-0.27319680021020176,-0.2682062556642655,-0.25748109183580153,-0.23223966287003234,-0.18989256703155233,-0.2839751309080381,-0.29193376714767016,-0.26810382097047936,-0.2571306411669948,-0.2247544567675773,-0.18421396135708312,-0.2340935947847393,-0.2654429711959469,-0.16666485491570457,-0.20322682687214122,-0.3117466074707476,-0.18214385988546833,-0.27203291691883724,-0.26463047164285425,-0.24286622441326927,-0.2246707903427052,-0.2593061022249155,-0.11109146205552432,-0.24962048951059834,-0.29417372814673165,-0.17597339981817955,-0.21888186788536537,-0.2004699448929018,-0.10541513984265555,-0.21522311202632058,-0.2740455120455125,-0.12137571300904908,-0.07776583385657138,-0.22195634923148103,-0.2632588140748267,-0.15442463945500556,-0.2019632088375302,-0.31465913176383814,-0.25232563375274103,0.08322893997416013],\"xaxis\":\"x\",\"y\":[-0.22432945796988008,-0.15230602673853919,-0.23485103153415873,0.01295578986095768,0.01295578986095768,-0.2770068698226513,-0.2770068698226513,-0.2805747177226514,-0.28709811766114535,-0.24978121737343173,-0.20723542428316882,-0.09382039135849256,-0.2862642403154138,-0.2813357900257001,-0.20396070118334828,-0.12520985351240502,-0.018127125051964853,-0.16481483828066723,-0.22498044461120761,-0.22929946366533957,-0.27120699338342125,-0.32399090201793995,-0.2365373972174001,0.13622169688581343,-0.2612045904936124,-0.29920223961842457,0.21028455446706062,-0.19246444316758754,-0.26896564164214004,-0.11946710628861065,-0.2382328755024673,-0.033776162379194015,-0.2533967090040549,-0.08077428211856223,-0.24204460847536866,-0.15503772214654873,-0.35782821012630756,-0.28684045640164124,-0.32730442442076707,-0.2913933030253951,-0.14520581950620237,-0.21651722119098984,-0.13319719516654543,-0.13194330456469444,-0.19708687489993854,-0.19897716952615774,0.08837718050830988,-0.07081460687800124,-0.10232911185795536,-0.2854404685804791,0.12334869643421983,-0.2342068705135837,0.01575748583851867,0.08837718050830988,-0.22261212364689156,-0.21548724916136655,-0.320039307674139,-0.06305088137838055,-0.1734268456449623,-0.12576789215201067,-0.1936796130095318,-0.09261498431239797,0.012039622200991595,-0.33624188011184475,-0.23324535564242513,-0.27169229132364314,0.06629080638178597,-0.07061713267037806,-0.17738007031045938,0.08837718050830988,-0.24644431560209787,-0.26661838362890533,-0.02685349244107829,-0.22320300677985427,-0.08445002478574895,-0.29016724636665897,-0.01425803971520442,-0.01881922391871078,-0.28126360772341286,0.010829033870459458,-0.3009008147718827,-0.16566388037494034,-0.21018756644033992,-0.33814757770163356,-0.310925070825435,-0.274256175123666,-0.21825293433948445,-0.32209920602362696,-0.31675434998141655,-0.12956058365664433,-0.025320804919820052,0.09020496983168089,-0.2568393078973097,-0.08279263881197194,-0.3649647038997125,-0.2654623152667243,-0.2979453549755405,-0.3198457302950279,-0.2894978063379225,-0.23935236002582996,-0.1781170719172989,-0.18779561094551292,-0.08960685098028737,-0.17609127459762855,-0.20832389886228986,-0.2708789181846038,-0.2500861863831989,-0.24702578610975165,-0.24377379554735912,-0.023600967714177273,-0.19547332018029207,-0.2789803413507421,-0.13874293883030042,-0.13785978005926375,-0.13935822656804006,-0.19013127052703374,-0.17274882581568723,-0.18672543049817072,-0.3388268354969895,-0.14010596193172015,0.09130835161875318,-0.17162444685082215,-0.26024769769076866,0.021546250832048565,-0.28745957432430214,-0.29428073144511685,-0.1822762757715804,-0.06096849051613779,-0.16722412558082056,-0.20063236918088384,-0.32909371935008364,-0.06690689482444316,-0.06581346712802773,-0.18289703645764008,-0.2010284286209192,-0.22803641476385436,-0.18146007902968692,-0.17531096998555004,0.05805083561019138,-0.3587988031711386,-0.189370164582305,-0.10705056970408032,-0.09786764226473088,0.02986139943297036,-0.12652233913644662,-0.3218318093151369,-0.22908843559363365,0.011806761486837567,-0.19197168799008127,-0.20907911703880383,-0.20907911703880383,-0.2577540081047384,-0.2056035725340775,-0.28615986670401466,-0.18967223063477598,-0.10078276022042927,-0.1439552087453557,-0.08185379468677485,-0.21125373544929094,0.04754969256061157,-0.1696802188135422,-0.1097622972005288,-0.07309992015506159,-0.07786455590368159,-0.17425089110067019,-0.08234707792876898,-0.28351404586078993,-0.17884226841984716,-0.13134055612949624,-0.17511022080443464,-0.3005806346962513,-0.1282352890670705,-0.2707795618700874,-0.12318443335993731,-0.20809345460393272,0.08643301680109813,-0.25174903555366923,-0.2470815806899498,-0.14801430274947414,-0.36827775852406136,-0.07518578960464808,-0.27375101975065264,-0.06523821554093008,-0.25637976542517993,-0.30585505524809536,-0.12935907887102835,-0.014117782213261529,-0.330634224368952,-0.24255297157947525,-0.21367143025328747,-0.26884761712612754],\"yaxis\":\"y\",\"type\":\"scatter\"},{\"customdata\":[[\"TOMPKINS FINANCIAL CORP\",\"State Commercial Banks (commercial banking)\"],[\"TRIUMPH BANCORP, INC.\",\"State Commercial Banks (commercial banking)\"],[\"GREAT SOUTHERN BANCORP, INC.\",\"State Commercial Banks (commercial banking)\"],[\"SOUTH STATE CORP\",\"State Commercial Banks (commercial banking)\"],[\"OLD LINE BANCSHARES INC\",\"State Commercial Banks (commercial banking)\"],[\"SEACOAST BANKING CORP OF FLORIDA\",\"State Commercial Banks (commercial banking)\"],[\"CITIZENS FINANCIAL GROUP INC/RI\",\"State Commercial Banks (commercial banking)\"],[\"COMMUNITY WEST BANCSHARES /\",\"State Commercial Banks (commercial banking)\"],[\"MACKINAC FINANCIAL CORP /MI/\",\"State Commercial Banks (commercial banking)\"],[\"UNITY BANCORP INC /NJ/\",\"State Commercial Banks (commercial banking)\"],[\"UNITY BANCORP INC /NJ/\",\"State Commercial Banks (commercial banking)\"],[\"EAST WEST BANCORP INC\",\"State Commercial Banks (commercial banking)\"],[\"HEARTLAND FINANCIAL USA INC\",\"State Commercial Banks (commercial banking)\"],[\"COUNTY BANCORP, INC.\",\"State Commercial Banks (commercial banking)\"],[\"CHEMUNG FINANCIAL CORP\",\"State Commercial Banks (commercial banking)\"],[\"BRYN MAWR BANK CORP\",\"State Commercial Banks (commercial banking)\"],[\"EAGLE BANCORP MONTANA, INC.\",\"State Commercial Banks (commercial banking)\"],[\"1ST SOURCE CORP\",\"State Commercial Banks (commercial banking)\"],[\"SERVISFIRST BANCSHARES, INC.\",\"State Commercial Banks (commercial banking)\"],[\"SIERRA BANCORP\",\"State Commercial Banks (commercial banking)\"],[\"HOPFED BANCORP INC\",\"State Commercial Banks (commercial banking)\"],[\"HOPFED BANCORP INC\",\"State Commercial Banks (commercial banking)\"],[\"FIRST FINANCIAL BANKSHARES INC\",\"State Commercial Banks (commercial banking)\"],[\"CHEMICAL FINANCIAL CORP\",\"State Commercial Banks (commercial banking)\"],[\"SECURITY FEDERAL CORP\",\"State Commercial Banks (commercial banking)\"],[\"FIRST FINANCIAL CORP /IN/\",\"State Commercial Banks (commercial banking)\"],[\"WESTERN ALLIANCE BANCORPORATION\",\"State Commercial Banks (commercial banking)\"],[\"TRISTATE CAPITAL HOLDINGS, INC.\",\"State Commercial Banks (commercial banking)\"],[\"UNION BANKSHARES CORP\",\"State Commercial Banks (commercial banking)\"],[\"CAROLINA TRUST BANCSHARES, INC.\",\"State Commercial Banks (commercial banking)\"],[\"COMMUNITY TRUST BANCORP INC /KY/\",\"State Commercial Banks (commercial banking)\"],[\"HILLS BANCORPORATION\",\"State Commercial Banks (commercial banking)\"],[\"MACATAWA BANK CORP\",\"State Commercial Banks (commercial banking)\"],[\"PREMIER FINANCIAL BANCORP INC\",\"State Commercial Banks (commercial banking)\"],[\"KENTUCKY BANCSHARES INC /KY/\",\"State Commercial Banks (commercial banking)\"],[\"RIVER FINANCIAL CORP\",\"State Commercial Banks (commercial banking)\"],[\"BAR HARBOR BANKSHARES\",\"State Commercial Banks (commercial banking)\"],[\"PARKE BANCORP, INC.\",\"State Commercial Banks (commercial banking)\"],[\"RANDOLPH BANCORP, INC.\",\"State Commercial Banks (commercial banking)\"],[\"BANK OF HAWAII CORP\",\"State Commercial Banks (commercial banking)\"],[\"BSB BANCORP, INC.\",\"State Commercial Banks (commercial banking)\"],[\"INDEPENDENT BANK CORP /MI/\",\"State Commercial Banks (commercial banking)\"],[\"PACIFIC PREMIER BANCORP INC\",\"State Commercial Banks (commercial banking)\"],[\"OHIO VALLEY BANC CORP\",\"State Commercial Banks (commercial banking)\"],[\"CVB FINANCIAL CORP\",\"State Commercial Banks (commercial banking)\"],[\"BANK OF NEW YORK MELLON CORP\",\"State Commercial Banks (commercial banking)\"],[\"TWO RIVER BANCORP\",\"State Commercial Banks (commercial banking)\"],[\"STEWARDSHIP FINANCIAL CORP\",\"State Commercial Banks (commercial banking)\"],[\"LAKELAND FINANCIAL CORP\",\"State Commercial Banks (commercial banking)\"],[\"FAUQUIER BANKSHARES, INC.\",\"State Commercial Banks (commercial banking)\"],[\"LIVE OAK BANCSHARES, INC.\",\"State Commercial Banks (commercial banking)\"],[\"M&T BANK CORP\",\"State Commercial Banks (commercial banking)\"],[\"INTERNATIONAL BANCSHARES CORP\",\"State Commercial Banks (commercial banking)\"],[\"SUMMIT FINANCIAL GROUP INC\",\"State Commercial Banks (commercial banking)\"],[\"SUSSEX BANCORP\",\"State Commercial Banks (commercial banking)\"],[\"PRIME MERIDIAN HOLDING CO\",\"State Commercial Banks (commercial banking)\"],[\"BANKWELL FINANCIAL GROUP, INC.\",\"State Commercial Banks (commercial banking)\"],[\"SOUTHWEST GEORGIA FINANCIAL CORP\",\"State Commercial Banks (commercial banking)\"],[\"BANK OF COMMERCE HOLDINGS\",\"State Commercial Banks (commercial banking)\"],[\"BANK OF COMMERCE HOLDINGS\",\"State Commercial Banks (commercial banking)\"],[\"UNITED BANCORP INC /OH/\",\"State Commercial Banks (commercial banking)\"],[\"PARKWAY ACQUISITION CORP.\",\"State Commercial Banks (commercial banking)\"],[\"INVESTAR HOLDING CORP\",\"State Commercial Banks (commercial banking)\"],[\"RENASANT CORP\",\"State Commercial Banks (commercial banking)\"],[\"RELIANT BANCORP, INC.\",\"State Commercial Banks (commercial banking)\"],[\"FIRST COMMUNITY CORP /SC/\",\"State Commercial Banks (commercial banking)\"],[\"FIRST FINANCIAL NORTHWEST, INC.\",\"State Commercial Banks (commercial banking)\"],[\"COMMERCE BANCSHARES INC /MO/\",\"State Commercial Banks (commercial banking)\"],[\"JUNIATA VALLEY FINANCIAL CORP\",\"State Commercial Banks (commercial banking)\"],[\"HOWARD BANCORP INC\",\"State Commercial Banks (commercial banking)\"],[\"EAGLE FINANCIAL SERVICES INC\",\"State Commercial Banks (commercial banking)\"],[\"MVB FINANCIAL CORP\",\"State Commercial Banks (commercial banking)\"],[\"INDEPENDENT BANK GROUP, INC.\",\"State Commercial Banks (commercial banking)\"],[\"CONNECTONE BANCORP, INC.\",\"State Commercial Banks (commercial banking)\"],[\"REPUBLIC BANCORP INC /KY/\",\"State Commercial Banks (commercial banking)\"],[\"SOUTHSIDE BANCSHARES INC\",\"State Commercial Banks (commercial banking)\"],[\"FIRST HAWAIIAN, INC.\",\"State Commercial Banks (commercial banking)\"],[\"FIRST US BANCSHARES INC\",\"State Commercial Banks (commercial banking)\"],[\"COMMUNITY FINANCIAL CORP /MD/\",\"State Commercial Banks (commercial banking)\"],[\"SVB FINANCIAL GROUP\",\"State Commercial Banks (commercial banking)\"],[\"CATHAY GENERAL BANCORP\",\"State Commercial Banks (commercial banking)\"],[\"BANK OF THE JAMES FINANCIAL GROUP INC\",\"State Commercial Banks (commercial banking)\"],[\"FLUSHING FINANCIAL CORP\",\"State Commercial Banks (commercial banking)\"],[\"FRANKLIN FINANCIAL SERVICES CORP /PA/\",\"State Commercial Banks (commercial banking)\"],[\"CENTRAL PACIFIC FINANCIAL CORP\",\"State Commercial Banks (commercial banking)\"],[\"CENTRAL PACIFIC FINANCIAL CORP\",\"State Commercial Banks (commercial banking)\"],[\"CENTRAL VALLEY COMMUNITY BANCORP\",\"State Commercial Banks (commercial banking)\"],[\"F&M BANK CORP\",\"State Commercial Banks (commercial banking)\"],[\"FARMERS NATIONAL BANC CORP /OH/\",\"State Commercial Banks (commercial banking)\"],[\"CITIZENS & NORTHERN CORP\",\"State Commercial Banks (commercial banking)\"],[\"GUARANTY FEDERAL BANCSHARES INC\",\"State Commercial Banks (commercial banking)\"],[\"CAROLINA FINANCIAL CORP\",\"State Commercial Banks (commercial banking)\"],[\"FIRST INTERNET BANCORP\",\"State Commercial Banks (commercial banking)\"],[\"HARBORONE BANCORP, INC.\",\"State Commercial Banks (commercial banking)\"],[\"UNITED BANKSHARES INC/WV\",\"State Commercial Banks (commercial banking)\"],[\"INDEPENDENT BANK CORP\",\"State Commercial Banks (commercial banking)\"],[\"CITIZENS FINANCIAL SERVICES INC\",\"State Commercial Banks (commercial banking)\"],[\"NORWOOD FINANCIAL CORP\",\"State Commercial Banks (commercial banking)\"],[\"WEST BANCORPORATION INC\",\"State Commercial Banks (commercial banking)\"],[\"CUSTOMERS BANCORP, INC.\",\"State Commercial Banks (commercial banking)\"],[\"WEST END INDIANA BANCSHARES, INC.\",\"State Commercial Banks (commercial banking)\"],[\"ATLANTIC CAPITAL BANCSHARES, INC.\",\"State Commercial Banks (commercial banking)\"],[\"IBERIABANK CORP\",\"State Commercial Banks (commercial banking)\"],[\"MERCANTILE BANK CORP\",\"State Commercial Banks (commercial banking)\"],[\"GERMAN AMERICAN BANCORP, INC.\",\"State Commercial Banks (commercial banking)\"],[\"S&T BANCORP INC\",\"State Commercial Banks (commercial banking)\"],[\"HILLTOP HOLDINGS INC.\",\"State Commercial Banks (commercial banking)\"],[\"CB FINANCIAL SERVICES, INC.\",\"State Commercial Banks (commercial banking)\"],[\"ENTERPRISE FINANCIAL SERVICES CORP\",\"State Commercial Banks (commercial banking)\"],[\"AUBURN NATIONAL BANCORPORATION, INC\",\"State Commercial Banks (commercial banking)\"],[\"FIRST KEYSTONE CORP\",\"State Commercial Banks (commercial banking)\"],[\"TEXAS CAPITAL BANCSHARES INC/TX\",\"State Commercial Banks (commercial banking)\"],[\"VILLAGE BANK & TRUST FINANCIAL CORP.\",\"State Commercial Banks (commercial banking)\"],[\"STOCK YARDS BANCORP, INC.\",\"State Commercial Banks (commercial banking)\"],[\"BUSINESS FIRST BANCSHARES, INC.\",\"State Commercial Banks (commercial banking)\"]],\"hovertemplate\":\"color=State Commercial Banks (commercial banking)<br>0=%{x}<br>1=%{y}<br>name=%{customdata[0]}<br>industry=%{customdata[1]}<extra></extra>\",\"legendgroup\":\"State Commercial Banks (commercial banking)\",\"marker\":{\"color\":\"#FFA15A\",\"symbol\":\"circle\"},\"mode\":\"markers\",\"name\":\"State Commercial Banks (commercial banking)\",\"orientation\":\"v\",\"showlegend\":true,\"x\":[-0.3527189963467414,-0.2576294317253281,-0.37734699925657733,-0.3279958158723044,-0.34175420980719223,-0.335369660535421,-0.2677666566119347,-0.26178746298524314,-0.35071967310357766,-0.3793669369988853,-0.3793669369988853,-0.16947550925154226,-0.3337605333506839,-0.346988065172545,-0.3687015722397708,-0.31897488955494585,-0.38916236397638876,-0.305121662939784,-0.30653242631744265,-0.3350428668685362,-0.4110407349414177,-0.4110407349414177,-0.29181650365194595,-0.3255820658721652,-0.3959760694942658,-0.3704745013797735,-0.3629844087941579,-0.2730680964051133,-0.34571541780882425,-0.3570653572809753,-0.2930955466900034,-0.39665718855823423,-0.3581582464111813,-0.288338992466028,-0.3672283464050446,-0.36153893960639566,-0.38161657126691134,-0.40975480443220164,-0.37777760332375404,-0.2647224572290946,-0.36946186025149735,-0.2160713262226809,-0.3415199332115675,-0.34835411733219457,-0.3182333476499426,-0.18855024148577812,-0.34861488164697074,-0.3780247674108359,-0.3436344486755143,-0.38567411965337844,-0.35461258891081954,-0.3179699943761271,-0.33908014919059765,-0.3207478231657162,-0.33742243249367715,-0.32113414876645885,-0.30634765411124076,-0.3657068967530027,-0.31016593400904724,-0.31016593400904724,-0.3583620490229002,-0.3442967749819991,-0.34791973268749365,-0.37815910533432134,-0.3421084848858053,-0.33813302839323794,-0.3871780670340914,-0.2987384431446076,-0.35962954220753135,-0.24158695387842336,-0.35835538942133294,-0.33785920691476606,-0.3514799943134548,-0.356634643248307,-0.3436612546805811,-0.33994348933770185,-0.31325919966979315,-0.33108760371223084,-0.3855791575051577,-0.29983650785836424,-0.3464784894529359,-0.33693647875588384,-0.33523661972362206,-0.39287069582503203,-0.3155644796418519,-0.3155644796418519,-0.3458927620718642,0.006994846929503715,-0.36815047573600806,-0.27176270888811643,-0.3934073935049091,-0.3475093294986314,-0.3026158287468898,-0.3891600136656017,-0.3081384082416324,-0.3767394129176254,-0.3554436128599014,-0.411365487688632,-0.3485548635882078,-0.2634655354407573,-0.35058511774109724,-0.3008473396341831,-0.3264481088692939,-0.30704650490869306,-0.34526250497336947,-0.11317147919722902,-0.3592043704316756,-0.36436121560904855,-0.2423497464932019,-0.36519288526306004,-0.3598908353629097,-0.2773074447616302,-0.3157589679614178,-0.3211906640526999,-0.30704009116791287],\"xaxis\":\"x\",\"y\":[0.3784991602894917,0.21562274945991242,0.15436083028784672,0.4513119305029222,0.2686507549627769,0.4629285672071441,0.3379305381132026,0.1754696110726685,0.3607129006217856,0.41855306600159276,0.41855306600159276,0.02085509671536209,0.3648499398730622,0.44297323326365967,0.4637629923773712,0.4073111008061258,0.28761379840829937,0.367573891059173,0.3609239606469495,0.4236096070441796,0.36324590186554373,0.36324590186554373,0.3981101779851865,0.4128527832312602,0.3396432243603032,0.45886084144303785,0.13397549354942495,0.2801541282217059,0.4680426468193012,0.46150613398958773,0.2781117650754766,0.40938028688555533,0.31887018742196116,0.303981904054354,0.4189479935784265,0.47223434582537555,0.4028219732444665,0.35303148813504326,0.3224306555837272,0.4561649003165381,0.27516868170597,0.060726304344950986,0.39777807828803724,0.4088281773970969,0.4405565946975175,0.1822058466447492,0.31477134152227076,0.4443024295399633,0.4661403678988891,0.4929934732910793,0.4737581653456285,0.41432878868362827,0.46656489626726644,0.41557219663250633,0.4273204409853628,0.33212896904252787,0.35987723518285786,0.36629507977185644,0.46043688882122485,0.46043688882122485,0.44086579655543245,0.46953800546908403,0.4282360113595375,0.35590298064933,0.4730463856091324,0.44164539092710675,0.23017223906798842,0.421335881402757,0.47423561024789423,0.07142973354394136,0.4908142585160544,0.47385003737459763,0.3989165690383052,0.43434674636288256,0.4546740083580477,0.4738608361444668,0.4486217534281296,0.4639337500005676,0.2647405311588735,0.42540270398397984,0.4493245593717598,0.48120162859699456,0.2594592028636883,0.45174990376268076,0.45327922367241114,0.45327922367241114,0.45877927570898125,-0.019051100738663382,0.4487133390894643,0.2298025141985767,0.32236500031126447,0.4440458887685668,0.39275286136600385,0.35229297232825735,0.3218662886107578,0.2280339906292188,0.47227853535240044,0.32456513939110243,0.41930312103913003,0.287037490046114,0.2416645838312814,0.40333947248879326,0.4250207259600601,0.27529171530814844,0.4359679147781519,0.13925059251075347,0.41679947663124667,0.24449764592804066,0.18684636763756504,0.47043305281144027,0.4301455959756355,0.39086253103244883,0.3839367009633335,0.45281608370915594,0.371959861660786],\"yaxis\":\"y\",\"type\":\"scatter\"}],                        {\"template\":{\"data\":{\"bar\":[{\"error_x\":{\"color\":\"#2a3f5f\"},\"error_y\":{\"color\":\"#2a3f5f\"},\"marker\":{\"line\":{\"color\":\"#E5ECF6\",\"width\":0.5},\"pattern\":{\"fillmode\":\"overlay\",\"size\":10,\"solidity\":0.2}},\"type\":\"bar\"}],\"barpolar\":[{\"marker\":{\"line\":{\"color\":\"#E5ECF6\",\"width\":0.5},\"pattern\":{\"fillmode\":\"overlay\",\"size\":10,\"solidity\":0.2}},\"type\":\"barpolar\"}],\"carpet\":[{\"aaxis\":{\"endlinecolor\":\"#2a3f5f\",\"gridcolor\":\"white\",\"linecolor\":\"white\",\"minorgridcolor\":\"white\",\"startlinecolor\":\"#2a3f5f\"},\"baxis\":{\"endlinecolor\":\"#2a3f5f\",\"gridcolor\":\"white\",\"linecolor\":\"white\",\"minorgridcolor\":\"white\",\"startlinecolor\":\"#2a3f5f\"},\"type\":\"carpet\"}],\"choropleth\":[{\"colorbar\":{\"outlinewidth\":0,\"ticks\":\"\"},\"type\":\"choropleth\"}],\"contour\":[{\"colorbar\":{\"outlinewidth\":0,\"ticks\":\"\"},\"colorscale\":[[0.0,\"#0d0887\"],[0.1111111111111111,\"#46039f\"],[0.2222222222222222,\"#7201a8\"],[0.3333333333333333,\"#9c179e\"],[0.4444444444444444,\"#bd3786\"],[0.5555555555555556,\"#d8576b\"],[0.6666666666666666,\"#ed7953\"],[0.7777777777777778,\"#fb9f3a\"],[0.8888888888888888,\"#fdca26\"],[1.0,\"#f0f921\"]],\"type\":\"contour\"}],\"contourcarpet\":[{\"colorbar\":{\"outlinewidth\":0,\"ticks\":\"\"},\"type\":\"contourcarpet\"}],\"heatmap\":[{\"colorbar\":{\"outlinewidth\":0,\"ticks\":\"\"},\"colorscale\":[[0.0,\"#0d0887\"],[0.1111111111111111,\"#46039f\"],[0.2222222222222222,\"#7201a8\"],[0.3333333333333333,\"#9c179e\"],[0.4444444444444444,\"#bd3786\"],[0.5555555555555556,\"#d8576b\"],[0.6666666666666666,\"#ed7953\"],[0.7777777777777778,\"#fb9f3a\"],[0.8888888888888888,\"#fdca26\"],[1.0,\"#f0f921\"]],\"type\":\"heatmap\"}],\"heatmapgl\":[{\"colorbar\":{\"outlinewidth\":0,\"ticks\":\"\"},\"colorscale\":[[0.0,\"#0d0887\"],[0.1111111111111111,\"#46039f\"],[0.2222222222222222,\"#7201a8\"],[0.3333333333333333,\"#9c179e\"],[0.4444444444444444,\"#bd3786\"],[0.5555555555555556,\"#d8576b\"],[0.6666666666666666,\"#ed7953\"],[0.7777777777777778,\"#fb9f3a\"],[0.8888888888888888,\"#fdca26\"],[1.0,\"#f0f921\"]],\"type\":\"heatmapgl\"}],\"histogram\":[{\"marker\":{\"pattern\":{\"fillmode\":\"overlay\",\"size\":10,\"solidity\":0.2}},\"type\":\"histogram\"}],\"histogram2d\":[{\"colorbar\":{\"outlinewidth\":0,\"ticks\":\"\"},\"colorscale\":[[0.0,\"#0d0887\"],[0.1111111111111111,\"#46039f\"],[0.2222222222222222,\"#7201a8\"],[0.3333333333333333,\"#9c179e\"],[0.4444444444444444,\"#bd3786\"],[0.5555555555555556,\"#d8576b\"],[0.6666666666666666,\"#ed7953\"],[0.7777777777777778,\"#fb9f3a\"],[0.8888888888888888,\"#fdca26\"],[1.0,\"#f0f921\"]],\"type\":\"histogram2d\"}],\"histogram2dcontour\":[{\"colorbar\":{\"outlinewidth\":0,\"ticks\":\"\"},\"colorscale\":[[0.0,\"#0d0887\"],[0.1111111111111111,\"#46039f\"],[0.2222222222222222,\"#7201a8\"],[0.3333333333333333,\"#9c179e\"],[0.4444444444444444,\"#bd3786\"],[0.5555555555555556,\"#d8576b\"],[0.6666666666666666,\"#ed7953\"],[0.7777777777777778,\"#fb9f3a\"],[0.8888888888888888,\"#fdca26\"],[1.0,\"#f0f921\"]],\"type\":\"histogram2dcontour\"}],\"mesh3d\":[{\"colorbar\":{\"outlinewidth\":0,\"ticks\":\"\"},\"type\":\"mesh3d\"}],\"parcoords\":[{\"line\":{\"colorbar\":{\"outlinewidth\":0,\"ticks\":\"\"}},\"type\":\"parcoords\"}],\"pie\":[{\"automargin\":true,\"type\":\"pie\"}],\"scatter\":[{\"marker\":{\"colorbar\":{\"outlinewidth\":0,\"ticks\":\"\"}},\"type\":\"scatter\"}],\"scatter3d\":[{\"line\":{\"colorbar\":{\"outlinewidth\":0,\"ticks\":\"\"}},\"marker\":{\"colorbar\":{\"outlinewidth\":0,\"ticks\":\"\"}},\"type\":\"scatter3d\"}],\"scattercarpet\":[{\"marker\":{\"colorbar\":{\"outlinewidth\":0,\"ticks\":\"\"}},\"type\":\"scattercarpet\"}],\"scattergeo\":[{\"marker\":{\"colorbar\":{\"outlinewidth\":0,\"ticks\":\"\"}},\"type\":\"scattergeo\"}],\"scattergl\":[{\"marker\":{\"colorbar\":{\"outlinewidth\":0,\"ticks\":\"\"}},\"type\":\"scattergl\"}],\"scattermapbox\":[{\"marker\":{\"colorbar\":{\"outlinewidth\":0,\"ticks\":\"\"}},\"type\":\"scattermapbox\"}],\"scatterpolar\":[{\"marker\":{\"colorbar\":{\"outlinewidth\":0,\"ticks\":\"\"}},\"type\":\"scatterpolar\"}],\"scatterpolargl\":[{\"marker\":{\"colorbar\":{\"outlinewidth\":0,\"ticks\":\"\"}},\"type\":\"scatterpolargl\"}],\"scatterternary\":[{\"marker\":{\"colorbar\":{\"outlinewidth\":0,\"ticks\":\"\"}},\"type\":\"scatterternary\"}],\"surface\":[{\"colorbar\":{\"outlinewidth\":0,\"ticks\":\"\"},\"colorscale\":[[0.0,\"#0d0887\"],[0.1111111111111111,\"#46039f\"],[0.2222222222222222,\"#7201a8\"],[0.3333333333333333,\"#9c179e\"],[0.4444444444444444,\"#bd3786\"],[0.5555555555555556,\"#d8576b\"],[0.6666666666666666,\"#ed7953\"],[0.7777777777777778,\"#fb9f3a\"],[0.8888888888888888,\"#fdca26\"],[1.0,\"#f0f921\"]],\"type\":\"surface\"}],\"table\":[{\"cells\":{\"fill\":{\"color\":\"#EBF0F8\"},\"line\":{\"color\":\"white\"}},\"header\":{\"fill\":{\"color\":\"#C8D4E3\"},\"line\":{\"color\":\"white\"}},\"type\":\"table\"}]},\"layout\":{\"annotationdefaults\":{\"arrowcolor\":\"#2a3f5f\",\"arrowhead\":0,\"arrowwidth\":1},\"autotypenumbers\":\"strict\",\"coloraxis\":{\"colorbar\":{\"outlinewidth\":0,\"ticks\":\"\"}},\"colorscale\":{\"diverging\":[[0,\"#8e0152\"],[0.1,\"#c51b7d\"],[0.2,\"#de77ae\"],[0.3,\"#f1b6da\"],[0.4,\"#fde0ef\"],[0.5,\"#f7f7f7\"],[0.6,\"#e6f5d0\"],[0.7,\"#b8e186\"],[0.8,\"#7fbc41\"],[0.9,\"#4d9221\"],[1,\"#276419\"]],\"sequential\":[[0.0,\"#0d0887\"],[0.1111111111111111,\"#46039f\"],[0.2222222222222222,\"#7201a8\"],[0.3333333333333333,\"#9c179e\"],[0.4444444444444444,\"#bd3786\"],[0.5555555555555556,\"#d8576b\"],[0.6666666666666666,\"#ed7953\"],[0.7777777777777778,\"#fb9f3a\"],[0.8888888888888888,\"#fdca26\"],[1.0,\"#f0f921\"]],\"sequentialminus\":[[0.0,\"#0d0887\"],[0.1111111111111111,\"#46039f\"],[0.2222222222222222,\"#7201a8\"],[0.3333333333333333,\"#9c179e\"],[0.4444444444444444,\"#bd3786\"],[0.5555555555555556,\"#d8576b\"],[0.6666666666666666,\"#ed7953\"],[0.7777777777777778,\"#fb9f3a\"],[0.8888888888888888,\"#fdca26\"],[1.0,\"#f0f921\"]]},\"colorway\":[\"#636efa\",\"#EF553B\",\"#00cc96\",\"#ab63fa\",\"#FFA15A\",\"#19d3f3\",\"#FF6692\",\"#B6E880\",\"#FF97FF\",\"#FECB52\"],\"font\":{\"color\":\"#2a3f5f\"},\"geo\":{\"bgcolor\":\"white\",\"lakecolor\":\"white\",\"landcolor\":\"#E5ECF6\",\"showlakes\":true,\"showland\":true,\"subunitcolor\":\"white\"},\"hoverlabel\":{\"align\":\"left\"},\"hovermode\":\"closest\",\"mapbox\":{\"style\":\"light\"},\"paper_bgcolor\":\"white\",\"plot_bgcolor\":\"#E5ECF6\",\"polar\":{\"angularaxis\":{\"gridcolor\":\"white\",\"linecolor\":\"white\",\"ticks\":\"\"},\"bgcolor\":\"#E5ECF6\",\"radialaxis\":{\"gridcolor\":\"white\",\"linecolor\":\"white\",\"ticks\":\"\"}},\"scene\":{\"xaxis\":{\"backgroundcolor\":\"#E5ECF6\",\"gridcolor\":\"white\",\"gridwidth\":2,\"linecolor\":\"white\",\"showbackground\":true,\"ticks\":\"\",\"zerolinecolor\":\"white\"},\"yaxis\":{\"backgroundcolor\":\"#E5ECF6\",\"gridcolor\":\"white\",\"gridwidth\":2,\"linecolor\":\"white\",\"showbackground\":true,\"ticks\":\"\",\"zerolinecolor\":\"white\"},\"zaxis\":{\"backgroundcolor\":\"#E5ECF6\",\"gridcolor\":\"white\",\"gridwidth\":2,\"linecolor\":\"white\",\"showbackground\":true,\"ticks\":\"\",\"zerolinecolor\":\"white\"}},\"shapedefaults\":{\"line\":{\"color\":\"#2a3f5f\"}},\"ternary\":{\"aaxis\":{\"gridcolor\":\"white\",\"linecolor\":\"white\",\"ticks\":\"\"},\"baxis\":{\"gridcolor\":\"white\",\"linecolor\":\"white\",\"ticks\":\"\"},\"bgcolor\":\"#E5ECF6\",\"caxis\":{\"gridcolor\":\"white\",\"linecolor\":\"white\",\"ticks\":\"\"}},\"title\":{\"x\":0.05},\"xaxis\":{\"automargin\":true,\"gridcolor\":\"white\",\"linecolor\":\"white\",\"ticks\":\"\",\"title\":{\"standoff\":15},\"zerolinecolor\":\"white\",\"zerolinewidth\":2},\"yaxis\":{\"automargin\":true,\"gridcolor\":\"white\",\"linecolor\":\"white\",\"ticks\":\"\",\"title\":{\"standoff\":15},\"zerolinecolor\":\"white\",\"zerolinewidth\":2}}},\"xaxis\":{\"anchor\":\"y\",\"domain\":[0.0,1.0],\"title\":{\"text\":\"0\"}},\"yaxis\":{\"anchor\":\"x\",\"domain\":[0.0,1.0],\"title\":{\"text\":\"1\"}},\"legend\":{\"title\":{\"text\":\"color\"},\"tracegroupgap\":0},\"margin\":{\"t\":60},\"height\":600,\"width\":1200},                        {\"responsive\": true}                    ).then(function(){\n",
       "                            \n",
       "var gd = document.getElementById('a0156a82-e074-4d86-868e-9b214e82721a');\n",
       "var x = new MutationObserver(function (mutations, observer) {{\n",
       "        var display = window.getComputedStyle(gd).display;\n",
       "        if (!display || display === 'none') {{\n",
       "            console.log([gd, 'removed!']);\n",
       "            Plotly.purge(gd);\n",
       "            observer.disconnect();\n",
       "        }}\n",
       "}});\n",
       "\n",
       "// Listen for the removal of the full notebook cells\n",
       "var notebookContainer = gd.closest('#notebook-container');\n",
       "if (notebookContainer) {{\n",
       "    x.observe(notebookContainer, {childList: true});\n",
       "}}\n",
       "\n",
       "// Listen for the clearing of the current output cell\n",
       "var outputEl = gd.closest('.output');\n",
       "if (outputEl) {{\n",
       "    x.observe(outputEl, {childList: true});\n",
       "}}\n",
       "\n",
       "                        })                };                });            </script>        </div>"
      ]
     },
     "metadata": {},
     "output_type": "display_data"
    }
   ],
   "source": [
    "from sklearn.decomposition import PCA\n",
    "from sklearn.cluster import KMeans\n",
    "import plotly.express as px\n",
    "\n",
    "# Referenced from my CSCD25 course\n",
    "def visualize_pca(vectors, index):\n",
    "    multi_index = pd.MultiIndex.from_frame(index, names=[\"name\", \"industry\"])\n",
    "    \n",
    "    pca = PCA(n_components = 50)\n",
    "    pca_embedding = pca.fit_transform(vectors)\n",
    "    pca_embedding = pd.DataFrame(pca_embedding, index = multi_index)\n",
    "    \n",
    "    fig = px.scatter(pca_embedding, x =0 , y = 1, hover_data={\"name\": pca_embedding.index.get_level_values(0),\n",
    "                                                              \"industry\": pca_embedding.index.get_level_values(1)},\n",
    "                     color = pca_embedding.index.get_level_values(1), width=1200, height=600)\n",
    "    fig.show()\n",
    "    \n",
    "    return [pca, pca_embedding]\n",
    "\n",
    "plot_pca = visualize_pca(embeddings, df.loc[:,[\"name\",\"SIC_desc\"]])"
   ]
  },
  {
   "cell_type": "code",
   "execution_count": 64,
   "id": "2250ecf8",
   "metadata": {},
   "outputs": [
    {
     "data": {
      "application/vnd.plotly.v1+json": {
       "config": {
        "plotlyServerURL": "https://plot.ly"
       },
       "data": [
        {
         "customdata": [
          [
           "MONGODB, INC.",
           "Prepackaged Software (mass reproduction of software)"
          ],
          [
           "SALESFORCE COM INC",
           "Prepackaged Software (mass reproduction of software)"
          ],
          [
           "SPLUNK INC",
           "Prepackaged Software (mass reproduction of software)"
          ],
          [
           "OKTA, INC.",
           "Prepackaged Software (mass reproduction of software)"
          ],
          [
           "VEEVA SYSTEMS INC",
           "Prepackaged Software (mass reproduction of software)"
          ],
          [
           "AUTODESK INC",
           "Prepackaged Software (mass reproduction of software)"
          ],
          [
           "ETERNAL SPEECH, INC.",
           "Prepackaged Software (mass reproduction of software)"
          ],
          [
           "ETERNAL SPEECH, INC.",
           "Prepackaged Software (mass reproduction of software)"
          ],
          [
           "MAJESCO",
           "Prepackaged Software (mass reproduction of software)"
          ],
          [
           "DUO WORLD INC",
           "Prepackaged Software (mass reproduction of software)"
          ],
          [
           "COMMVAULT SYSTEMS INC",
           "Prepackaged Software (mass reproduction of software)"
          ],
          [
           "UPPERSOLUTION.COM",
           "Prepackaged Software (mass reproduction of software)"
          ],
          [
           "ORACLE CORP",
           "Prepackaged Software (mass reproduction of software)"
          ],
          [
           "SAVMOBI TECHNOLOGY INC.",
           "Prepackaged Software (mass reproduction of software)"
          ],
          [
           "ZEDGE, INC.",
           "Prepackaged Software (mass reproduction of software)"
          ],
          [
           "DESTINY MEDIA TECHNOLOGIES INC",
           "Prepackaged Software (mass reproduction of software)"
          ],
          [
           "TRAQER CORP",
           "Prepackaged Software (mass reproduction of software)"
          ],
          [
           "VISIBER57 CORP.",
           "Prepackaged Software (mass reproduction of software)"
          ],
          [
           "GH CAPITAL INC.",
           "Prepackaged Software (mass reproduction of software)"
          ],
          [
           "BRIDGELINE DIGITAL, INC.",
           "Prepackaged Software (mass reproduction of software)"
          ],
          [
           "NUANCE COMMUNICATIONS, INC.",
           "Prepackaged Software (mass reproduction of software)"
          ],
          [
           "DATAWATCH CORP",
           "Prepackaged Software (mass reproduction of software)"
          ],
          [
           "POLARITYTE, INC.",
           "Prepackaged Software (mass reproduction of software)"
          ],
          [
           "POLARITYTE, INC.",
           "Prepackaged Software (mass reproduction of software)"
          ],
          [
           "VGRAB COMMUNICATIONS INC.",
           "Prepackaged Software (mass reproduction of software)"
          ],
          [
           "VGRAB COMMUNICATIONS INC.",
           "Prepackaged Software (mass reproduction of software)"
          ],
          [
           "ADAIAH DISTRIBUTION INC",
           "Prepackaged Software (mass reproduction of software)"
          ],
          [
           "ADAIAH DISTRIBUTION INC",
           "Prepackaged Software (mass reproduction of software)"
          ],
          [
           "PROGRESS SOFTWARE CORP /MA",
           "Prepackaged Software (mass reproduction of software)"
          ],
          [
           "MEDICAL INFORMATION TECHNOLOGY, INC.",
           "Prepackaged Software (mass reproduction of software)"
          ],
          [
           "SPS COMMERCE INC",
           "Prepackaged Software (mass reproduction of software)"
          ],
          [
           "ALTERYX, INC.",
           "Prepackaged Software (mass reproduction of software)"
          ],
          [
           "INTELLIGENT SYSTEMS CORP",
           "Prepackaged Software (mass reproduction of software)"
          ],
          [
           "ALARM.COM HOLDINGS, INC.",
           "Prepackaged Software (mass reproduction of software)"
          ],
          [
           "LIGHTNING GAMING, INC.",
           "Prepackaged Software (mass reproduction of software)"
          ],
          [
           "ENDURANCE INTERNATIONAL GROUP HOLDINGS, INC.",
           "Prepackaged Software (mass reproduction of software)"
          ],
          [
           "2U, INC.",
           "Prepackaged Software (mass reproduction of software)"
          ],
          [
           "CISION LTD.",
           "Prepackaged Software (mass reproduction of software)"
          ],
          [
           "BTCS INC.",
           "Prepackaged Software (mass reproduction of software)"
          ],
          [
           "BTCS INC.",
           "Prepackaged Software (mass reproduction of software)"
          ],
          [
           "BTCS INC.",
           "Prepackaged Software (mass reproduction of software)"
          ],
          [
           "INTELLICHECK, INC.",
           "Prepackaged Software (mass reproduction of software)"
          ],
          [
           "REALPAGE INC",
           "Prepackaged Software (mass reproduction of software)"
          ],
          [
           "Q2 HOLDINGS, INC.",
           "Prepackaged Software (mass reproduction of software)"
          ],
          [
           "MCORPCX, INC.",
           "Prepackaged Software (mass reproduction of software)"
          ],
          [
           "QUALYS, INC.",
           "Prepackaged Software (mass reproduction of software)"
          ],
          [
           "MEDICAL TRANSCRIPTION BILLING, CORP",
           "Prepackaged Software (mass reproduction of software)"
          ],
          [
           "SMITH MICRO SOFTWARE INC",
           "Prepackaged Software (mass reproduction of software)"
          ],
          [
           "SHOTSPOTTER, INC",
           "Prepackaged Software (mass reproduction of software)"
          ],
          [
           "LONGWEN GROUP CORP.",
           "Prepackaged Software (mass reproduction of software)"
          ],
          [
           "ELLIE MAE INC",
           "Prepackaged Software (mass reproduction of software)"
          ],
          [
           "ROSETTA STONE INC",
           "Prepackaged Software (mass reproduction of software)"
          ],
          [
           "BLACK KNIGHT, INC.",
           "Prepackaged Software (mass reproduction of software)"
          ],
          [
           "MICROSTRATEGY INC",
           "Prepackaged Software (mass reproduction of software)"
          ],
          [
           "EMR TECHNOLOGY SOLUTIONS, INC.",
           "Prepackaged Software (mass reproduction of software)"
          ],
          [
           "PAYCOM SOFTWARE, INC.",
           "Prepackaged Software (mass reproduction of software)"
          ],
          [
           "3D SYSTEMS CORP",
           "Prepackaged Software (mass reproduction of software)"
          ],
          [
           "APPIAN CORP",
           "Prepackaged Software (mass reproduction of software)"
          ],
          [
           "UPLAND SOFTWARE, INC.",
           "Prepackaged Software (mass reproduction of software)"
          ],
          [
           "LIVEPERSON INC",
           "Prepackaged Software (mass reproduction of software)"
          ],
          [
           "AWARE INC /MA/",
           "Prepackaged Software (mass reproduction of software)"
          ],
          [
           "ULTIMATE SOFTWARE GROUP INC",
           "Prepackaged Software (mass reproduction of software)"
          ],
          [
           "ANSYS INC",
           "Prepackaged Software (mass reproduction of software)"
          ],
          [
           "AVID TECHNOLOGY, INC.",
           "Prepackaged Software (mass reproduction of software)"
          ],
          [
           "NATIONAL INSTRUMENTS CORP",
           "Prepackaged Software (mass reproduction of software)"
          ],
          [
           "INSPRO TECHNOLOGIES CORP",
           "Prepackaged Software (mass reproduction of software)"
          ],
          [
           "QUMU CORP",
           "Prepackaged Software (mass reproduction of software)"
          ],
          [
           "ACI WORLDWIDE, INC.",
           "Prepackaged Software (mass reproduction of software)"
          ],
          [
           "SQUARE, INC.",
           "Prepackaged Software (mass reproduction of software)"
          ],
          [
           "ALTAIR ENGINEERING INC.",
           "Prepackaged Software (mass reproduction of software)"
          ],
          [
           "TALEND SA",
           "Prepackaged Software (mass reproduction of software)"
          ],
          [
           "APPFOLIO INC",
           "Prepackaged Software (mass reproduction of software)"
          ],
          [
           "GSE SYSTEMS INC",
           "Prepackaged Software (mass reproduction of software)"
          ],
          [
           "IPSIDY INC.",
           "Prepackaged Software (mass reproduction of software)"
          ],
          [
           "INTELLINETICS, INC.",
           "Prepackaged Software (mass reproduction of software)"
          ],
          [
           "INTELLINETICS, INC.",
           "Prepackaged Software (mass reproduction of software)"
          ],
          [
           "IIOT-OXYS, INC.",
           "Prepackaged Software (mass reproduction of software)"
          ],
          [
           "NEWGIOCO GROUP, INC.",
           "Prepackaged Software (mass reproduction of software)"
          ],
          [
           "WORKIVA INC",
           "Prepackaged Software (mass reproduction of software)"
          ],
          [
           "TABLEAU SOFTWARE INC",
           "Prepackaged Software (mass reproduction of software)"
          ]
         ],
         "hovertemplate": "color=Prepackaged Software (mass reproduction of software)<br>0=%{x}<br>1=%{y}<br>2=%{z}<br>name=%{customdata[0]}<br>industry=%{customdata[1]}<extra></extra>",
         "legendgroup": "Prepackaged Software (mass reproduction of software)",
         "marker": {
          "color": "#636efa",
          "symbol": "circle"
         },
         "mode": "markers",
         "name": "Prepackaged Software (mass reproduction of software)",
         "scene": "scene",
         "showlegend": true,
         "type": "scatter3d",
         "x": [
          0.08460614972808708,
          0.18326564839231255,
          0.17430082047165904,
          0.10542836280644179,
          -0.06953385242607145,
          0.15564119026280765,
          0.016561147862142012,
          0.016561147862142012,
          0.014056969114499955,
          0.15913361237785248,
          0.12332665454079597,
          0.11036876009133825,
          0.06727609105673428,
          0.002722174013741949,
          -0.056698625276192564,
          0.166611569847241,
          -0.0011362776543420404,
          -0.03506654681866371,
          -0.04932901687258833,
          0.17163564930377362,
          0.1798831090619503,
          0.18605310197476713,
          0.3473242458551161,
          0.3473242458551161,
          0.10274766196744478,
          0.10274766196744478,
          -0.1653257784118398,
          -0.1653257784118398,
          0.17145081749534674,
          0.22969025243943766,
          0.15145921060211198,
          0.17913032609582158,
          -0.0132081536285355,
          0.11287753017597382,
          0.08352923291476007,
          0.1798350677892277,
          0.07790536207590243,
          0.15263747237808994,
          -0.021465281602616796,
          -0.021465281602616796,
          -0.021465281602616796,
          -0.141859005919352,
          -0.016967513330228483,
          0.05713052523271522,
          0.010943608163000544,
          0.13793520567194134,
          0.1557712680106569,
          0.21898295375941348,
          0.10610084246680132,
          -0.10805415513871061,
          -0.10573795404630437,
          0.17137538596682916,
          -0.029895770005601684,
          0.18552668185553708,
          0.2102673433319365,
          0.08318103803531142,
          0.19185324553366453,
          0.17587938580367138,
          0.138679143996159,
          0.1895387654538949,
          0.22710701551122547,
          0.08097345200576095,
          -0.24435101169549595,
          0.18440885530530093,
          0.21512300129515224,
          0.07007620325189236,
          0.14969259130577156,
          0.04917313895852815,
          0.04330845873446464,
          0.1700060350978118,
          0.10552082567495978,
          0.03421126656904598,
          -0.1558275342830339,
          0.16657760711833572,
          0.13838140130357554,
          0.13838140130357554,
          0.1563683514913016,
          -0.0010285538286397844,
          0.10620769020999261,
          0.17345251180843282
         ],
         "y": [
          -0.3282304051052628,
          -0.3011337856197528,
          -0.3050091322533639,
          -0.25919451902613533,
          -0.1974997504481534,
          -0.23972727537355906,
          -0.12577687006204216,
          -0.12577687006204216,
          -0.2587900542181471,
          -0.2766031301768651,
          -0.29143215637546915,
          -0.19222394177558735,
          -0.295403618847959,
          -0.2414392474216881,
          0.022136879034998714,
          -0.13429626316930554,
          -0.19115811443789152,
          -0.15200233306460328,
          -0.11548597148539297,
          -0.2539383774406288,
          -0.2735006644777575,
          -0.24981654652624266,
          -0.0007148034314663201,
          -0.0007148034314663201,
          -0.25845035536086125,
          -0.25845035536086125,
          -0.06145973328070247,
          -0.06145973328070247,
          -0.32593039933760337,
          -0.14090806825464025,
          -0.3154092758693075,
          -0.2944302784943476,
          -0.18962354695494157,
          -0.25223387710692396,
          -0.12912227188940828,
          -0.22674553054907012,
          -0.12918985175300282,
          -0.2629368445453953,
          0.042836357657541325,
          0.042836357657541325,
          0.042836357657541325,
          0.05213053451989586,
          -0.4007230007488098,
          -0.14118240459968492,
          -0.2413038204266284,
          -0.22453170544347045,
          -0.22737398573236836,
          -0.27721385573877877,
          -0.15661458337126116,
          -0.10417164656056362,
          -0.060049404008156136,
          -0.2747579616657994,
          -0.12155369638160946,
          -0.28875806809062,
          -0.10650263391015614,
          -0.2884196061206992,
          -0.2009949490136344,
          -0.26221472677241053,
          -0.262110526696987,
          -0.2390379590780305,
          -0.07179320481441426,
          -0.21786139429959978,
          0.12153892011973474,
          -0.25578353322194747,
          -0.18583488872179038,
          -0.184213097027671,
          -0.2801742489487688,
          -0.14155514162520555,
          -0.15847573721932037,
          -0.2506548528451569,
          -0.2924929881973799,
          -0.35675553388891895,
          -0.13870304767942082,
          -0.14696579104234914,
          -0.23838803776158657,
          -0.23838803776158657,
          -0.22334099999901763,
          -0.13321471728431034,
          -0.1668402907288884,
          -0.2622052676546489
         ],
         "z": [
          0.49131313426241524,
          0.5315482893093469,
          0.4614255443539411,
          0.5698928827599515,
          -0.032174105585875135,
          0.34322952573282867,
          0.09590479998423966,
          0.09590479998423966,
          0.39835178264106447,
          0.43079678656289533,
          0.5156501662211248,
          0.14817553749005694,
          0.4568259421058469,
          0.3457745585592895,
          0.020809027507917133,
          0.276810811872333,
          0.03529439810606856,
          0.18717836440279684,
          0.2115864263825306,
          0.5088122499075214,
          0.43593405720091555,
          0.4315931186812603,
          -0.008177688022738697,
          -0.008177688022738697,
          0.4547870798841809,
          0.4547870798841809,
          -0.05153755068687857,
          -0.05153755068687857,
          0.41708853040172483,
          0.3837582940169051,
          0.4148998769262334,
          0.49802393118580723,
          0.23803705726323424,
          0.44642085614787125,
          -0.007031674411428384,
          0.4477329722338987,
          0.2014703556640841,
          0.3813343982495472,
          0.20094724486101073,
          0.20094724486101073,
          0.20094724486101073,
          0.06599332836550112,
          0.3660816374399784,
          0.5271516881694654,
          0.16994220162865822,
          0.4273692424072936,
          0.3343452938812371,
          0.47267760159207833,
          0.2558067192625398,
          0.057418862313940416,
          0.3236127195182921,
          0.42783588597405153,
          0.3651782617731384,
          0.5422709647145564,
          0.20914730366287282,
          0.4024201239603219,
          0.29652081088403653,
          0.5213830003153802,
          0.4640882088089654,
          0.38966746967076515,
          0.39256498442083737,
          0.37173120409651306,
          -0.001317022975422733,
          0.44461750118705723,
          0.4106273547625317,
          0.36960147165810964,
          0.4594554243838669,
          0.42656502999504287,
          0.41731573584259946,
          0.39709032710372444,
          0.485791444264685,
          0.42013206151012633,
          -0.05649798230418832,
          0.46392892127169066,
          0.3269367075952017,
          0.3269367075952017,
          0.2175602083211225,
          0.23920841960054812,
          0.360170286254885,
          0.4986944164260271
         ]
        },
        {
         "customdata": [
          [
           "INTERNATIONAL WESTERN PETROLEUM, INC.",
           "Crude Petroleum and Natural Gas"
          ],
          [
           "DAYBREAK OIL & GAS, INC.",
           "Crude Petroleum and Natural Gas"
          ],
          [
           "GB SCIENCES INC",
           "Crude Petroleum and Natural Gas"
          ],
          [
           "FREEDOM HOLDING CORP.",
           "Crude Petroleum and Natural Gas"
          ],
          [
           "MEXCO ENERGY CORP",
           "Crude Petroleum and Natural Gas"
          ],
          [
           "SUSTAINABLE PROJECTS GROUP INC.",
           "Crude Petroleum and Natural Gas"
          ],
          [
           "AMERICAN ENERGY GROUP LTD",
           "Crude Petroleum and Natural Gas"
          ],
          [
           "REDHAWK HOLDINGS CORP.",
           "Crude Petroleum and Natural Gas"
          ],
          [
           "TIANCI INTERNATIONAL, INC.",
           "Crude Petroleum and Natural Gas"
          ],
          [
           "AMAZING ENERGY OIL & GAS, CO.",
           "Crude Petroleum and Natural Gas"
          ],
          [
           "ALTEX INDUSTRIES INC",
           "Crude Petroleum and Natural Gas"
          ],
          [
           "BARNWELL INDUSTRIES INC",
           "Crude Petroleum and Natural Gas"
          ],
          [
           "PANHANDLE OIL & GAS INC",
           "Crude Petroleum and Natural Gas"
          ],
          [
           "ENERGY 11, L.P.",
           "Crude Petroleum and Natural Gas"
          ],
          [
           "ABRAXAS PETROLEUM CORP",
           "Crude Petroleum and Natural Gas"
          ],
          [
           "SEARS OIL & GAS",
           "Crude Petroleum and Natural Gas"
          ],
          [
           "APACHE CORP",
           "Crude Petroleum and Natural Gas"
          ],
          [
           "GULFPORT ENERGY CORP",
           "Crude Petroleum and Natural Gas"
          ],
          [
           "CONTINENTAL RESOURCES, INC",
           "Crude Petroleum and Natural Gas"
          ],
          [
           "ISRAMCO INC",
           "Crude Petroleum and Natural Gas"
          ],
          [
           "CHAPARRAL ENERGY, INC.",
           "Crude Petroleum and Natural Gas"
          ],
          [
           "WHITING PETROLEUM CORP",
           "Crude Petroleum and Natural Gas"
          ],
          [
           "CONTANGO OIL & GAS CO",
           "Crude Petroleum and Natural Gas"
          ],
          [
           "EARTHSTONE ENERGY INC",
           "Crude Petroleum and Natural Gas"
          ],
          [
           "CLEAN COAL TECHNOLOGIES INC.",
           "Crude Petroleum and Natural Gas"
          ],
          [
           "NORTHERN OIL & GAS, INC.",
           "Crude Petroleum and Natural Gas"
          ],
          [
           "SRC ENERGY INC.",
           "Crude Petroleum and Natural Gas"
          ],
          [
           "JONES ENERGY, INC.",
           "Crude Petroleum and Natural Gas"
          ],
          [
           "GOODRICH PETROLEUM CORP",
           "Crude Petroleum and Natural Gas"
          ],
          [
           "OCCIDENTAL PETROLEUM CORP /DE/",
           "Crude Petroleum and Natural Gas"
          ],
          [
           "LONESTAR RESOURCES US INC.",
           "Crude Petroleum and Natural Gas"
          ],
          [
           "NOBLE ENERGY INC",
           "Crude Petroleum and Natural Gas"
          ],
          [
           "PIONEER NATURAL RESOURCES CO",
           "Crude Petroleum and Natural Gas"
          ],
          [
           "BONANZA CREEK ENERGY, INC.",
           "Crude Petroleum and Natural Gas"
          ],
          [
           "DEVON ENERGY CORP/DE",
           "Crude Petroleum and Natural Gas"
          ],
          [
           "CALIFORNIA RESOURCES CORP",
           "Crude Petroleum and Natural Gas"
          ],
          [
           "PARK PLACE ENERGY INC.",
           "Crude Petroleum and Natural Gas"
          ],
          [
           "ANTERO RESOURCES CORP",
           "Crude Petroleum and Natural Gas"
          ],
          [
           "LAREDO PETROLEUM, INC.",
           "Crude Petroleum and Natural Gas"
          ],
          [
           "CIMAREX ENERGY CO",
           "Crude Petroleum and Natural Gas"
          ],
          [
           "ALTA MESA HOLDINGS, LP",
           "Crude Petroleum and Natural Gas"
          ],
          [
           "US ENERGY CORP",
           "Crude Petroleum and Natural Gas"
          ],
          [
           "VICTORY ENERGY CORP",
           "Crude Petroleum and Natural Gas"
          ],
          [
           "VICTORY ENERGY CORP",
           "Crude Petroleum and Natural Gas"
          ],
          [
           "GRAN TIERRA ENERGY INC.",
           "Crude Petroleum and Natural Gas"
          ],
          [
           "MIDSTATES PETROLEUM COMPANY, INC.",
           "Crude Petroleum and Natural Gas"
          ],
          [
           "WILDHORSE RESOURCE DEVELOPMENT CORP",
           "Crude Petroleum and Natural Gas"
          ],
          [
           "SM ENERGY CO",
           "Crude Petroleum and Natural Gas"
          ],
          [
           "SANDRIDGE ENERGY INC",
           "Crude Petroleum and Natural Gas"
          ],
          [
           "RING ENERGY, INC.",
           "Crude Petroleum and Natural Gas"
          ],
          [
           "SANCHEZ ENERGY CORP",
           "Crude Petroleum and Natural Gas"
          ],
          [
           "TETRA TECHNOLOGIES INC",
           "Crude Petroleum and Natural Gas"
          ],
          [
           "RESERVE PETROLEUM CO",
           "Crude Petroleum and Natural Gas"
          ],
          [
           "HESS MIDSTREAM PARTNERS LP",
           "Crude Petroleum and Natural Gas"
          ],
          [
           "TORCHLIGHT ENERGY RESOURCES INC",
           "Crude Petroleum and Natural Gas"
          ],
          [
           "LINN ENERGY, INC.",
           "Crude Petroleum and Natural Gas"
          ],
          [
           "KOSMOS ENERGY LTD.",
           "Crude Petroleum and Natural Gas"
          ],
          [
           "SILVERBOW RESOURCES, INC.",
           "Crude Petroleum and Natural Gas"
          ],
          [
           "TELLURIAN INC. /DE/",
           "Crude Petroleum and Natural Gas"
          ],
          [
           "DORCHESTER MINERALS, L.P.",
           "Crude Petroleum and Natural Gas"
          ],
          [
           "MATADOR RESOURCES CO",
           "Crude Petroleum and Natural Gas"
          ],
          [
           "PDC ENERGY, INC.",
           "Crude Petroleum and Natural Gas"
          ],
          [
           "TEXAS SOUTH ENERGY, INC.",
           "Crude Petroleum and Natural Gas"
          ],
          [
           "PEDEVCO CORP",
           "Crude Petroleum and Natural Gas"
          ],
          [
           "VIPER ENERGY PARTNERS LP",
           "Crude Petroleum and Natural Gas"
          ],
          [
           "ENERJEX RESOURCES, INC.",
           "Crude Petroleum and Natural Gas"
          ],
          [
           "TENGASCO INC",
           "Crude Petroleum and Natural Gas"
          ],
          [
           "KIMBELL ROYALTY PARTNERS, LP",
           "Crude Petroleum and Natural Gas"
          ],
          [
           "CONCHO RESOURCES INC",
           "Crude Petroleum and Natural Gas"
          ],
          [
           "APACHE OFFSHORE INVESTMENT PARTNERSHIP",
           "Crude Petroleum and Natural Gas"
          ],
          [
           "EVERFLOW EASTERN PARTNERS LP",
           "Crude Petroleum and Natural Gas"
          ],
          [
           "CHESAPEAKE ENERGY CORP",
           "Crude Petroleum and Natural Gas"
          ],
          [
           "CARRIZO OIL & GAS INC",
           "Crude Petroleum and Natural Gas"
          ],
          [
           "CALLON PETROLEUM CO",
           "Crude Petroleum and Natural Gas"
          ],
          [
           "PENN VIRGINIA CORP",
           "Crude Petroleum and Natural Gas"
          ],
          [
           "DIAMONDBACK ENERGY, INC.",
           "Crude Petroleum and Natural Gas"
          ],
          [
           "COMSTOCK RESOURCES INC",
           "Crude Petroleum and Natural Gas"
          ],
          [
           "DALA PETROLEUM CORP.",
           "Crude Petroleum and Natural Gas"
          ],
          [
           "WPX ENERGY, INC.",
           "Crude Petroleum and Natural Gas"
          ],
          [
           "LILIS ENERGY, INC.",
           "Crude Petroleum and Natural Gas"
          ]
         ],
         "hovertemplate": "color=Crude Petroleum and Natural Gas<br>0=%{x}<br>1=%{y}<br>2=%{z}<br>name=%{customdata[0]}<br>industry=%{customdata[1]}<extra></extra>",
         "legendgroup": "Crude Petroleum and Natural Gas",
         "marker": {
          "color": "#EF553B",
          "symbol": "circle"
         },
         "mode": "markers",
         "name": "Crude Petroleum and Natural Gas",
         "scene": "scene",
         "showlegend": true,
         "type": "scatter3d",
         "x": [
          -0.06270861393672991,
          -0.0753778921446772,
          0.28816338016290827,
          -0.1467743352294819,
          -0.12863183097000624,
          0.00918534951412392,
          -0.055018069985015475,
          0.20829559232672232,
          -0.10901875413241692,
          0.037478216930817446,
          -0.10192474690147686,
          -0.11689331338216086,
          -0.1323812940057844,
          -0.020266644769312857,
          -0.007891776340506721,
          0.12724540086529307,
          -0.11083791275447656,
          -0.0421570544684839,
          -0.0749204714168375,
          -0.047931260722958495,
          -0.12887367663335828,
          0.01705917710419293,
          -0.07574305868984758,
          -0.19007362925918886,
          0.14784239840980823,
          -0.018216740324149716,
          -0.03823201721018969,
          -0.05634201838549922,
          -0.11268496369984918,
          -0.04798309404652291,
          -0.01838094029889333,
          -0.18634237616828878,
          -0.05284410939804896,
          -0.02489393230375045,
          -0.10163603449132551,
          -0.2030993293663025,
          -0.017806955095013354,
          -0.12094711300614061,
          -0.013503637242698234,
          -0.07088333464464572,
          0.007125422243044528,
          -0.13276110915156128,
          -0.07704729824620603,
          -0.07704729824620603,
          -0.12136450295659507,
          -0.010969016010873557,
          -0.12655733452927803,
          -0.08334423926928675,
          -0.028435100082563263,
          -0.06066777491175799,
          -0.05944276941267512,
          0.11759826001558184,
          -0.06638946072730934,
          -0.0830036528814886,
          0.0522048994169401,
          -0.09177427938897781,
          -0.030864899988814937,
          -0.08556046245341269,
          -0.002691389760777329,
          -0.09777145443984944,
          -0.08583054383080763,
          -0.17742750197296311,
          -0.04196061307398429,
          -0.09529208650315057,
          -0.06403008633437558,
          0.20577481854500473,
          -0.08786169442167109,
          -0.10135985086872586,
          -0.003916381963368363,
          -0.06946342908315488,
          -0.10757159629696311,
          -0.10081383244757575,
          -0.0723477133998596,
          -0.14368573014979263,
          0.05431680239290204,
          -0.1419491050405014,
          -0.10375157853793343,
          -0.031873931753291354,
          -0.05781809864760582,
          -0.11506087792018496
         ],
         "y": [
          -0.2800218490421893,
          -0.20180131318344993,
          0.014399932087506381,
          0.007850385509569105,
          -0.2328292493472973,
          -0.14536028014530145,
          0.06092699573415764,
          -0.09392273769559699,
          -0.2113430276402154,
          -0.15311789526958655,
          -0.13924460681894818,
          -0.26083499677072813,
          -0.2074883170605841,
          -0.11901128426644478,
          -0.11647831689179725,
          -0.15545938984242813,
          -0.15716897871558683,
          -0.1738403483147179,
          -0.20222740205469958,
          -0.14286743502068355,
          -0.11865148334308638,
          -0.1112938818478833,
          -0.058493778380933545,
          -0.2121219275979485,
          -0.026813816698715742,
          -0.1682816128821301,
          -0.16866576334986771,
          -0.1762646521057451,
          -0.16241026455607807,
          -0.15422722642011427,
          -0.16249809707953666,
          -0.16080126514123733,
          -0.13702849533840072,
          -0.13070605471004543,
          -0.17522330158003233,
          -0.09243669530846703,
          -0.18340757343353517,
          -0.16358656519966347,
          -0.17064615434629454,
          -0.13775181895143118,
          -0.12619070985243291,
          -0.16348272611775105,
          -0.1119517507085487,
          -0.1119517507085487,
          -0.15343864938269366,
          -0.12021364554727434,
          -0.16305902279243858,
          -0.1557986883388299,
          -0.1434145524735411,
          -0.25322878906619406,
          -0.15484242342498183,
          -0.17816100054164116,
          -0.14799301108342464,
          -0.18195901668634168,
          -0.07199191659956054,
          -0.13682592891819076,
          -0.10193017295284612,
          -0.08190435196243967,
          -0.11324019161638156,
          -0.19622578952195474,
          -0.2087390007869486,
          -0.1299611347165159,
          -0.09275994169434507,
          0.0543767077668933,
          -0.20805236800816762,
          -0.24144336401199568,
          -0.1918125047425376,
          -0.1903893881625331,
          -0.12177496653107367,
          -0.21863957566691622,
          -0.1794845781017542,
          -0.24642520430268408,
          -0.15636473791796454,
          -0.14340196679157347,
          -0.05937811302898168,
          -0.16631297777756177,
          -0.17880982976907697,
          -0.13811775117952257,
          -0.13978051731380253,
          -0.16437453502387542
         ],
         "z": [
          -0.11463612918672424,
          -0.2634378052140388,
          -0.08558917290456977,
          0.13244933193434483,
          -0.3137008827033161,
          0.004485545321462546,
          0.09249404494174884,
          -0.028223748667307685,
          0.03113142934841898,
          -0.37252558156133214,
          -0.25901216056253407,
          -0.21117041391444655,
          -0.17654056003461108,
          -0.36360219783270104,
          -0.39036285020621936,
          0.09814204916419894,
          -0.3485993668939591,
          -0.2673491883154658,
          -0.281147693674233,
          -0.35150460002416,
          -0.36480993964766195,
          -0.37505185808922653,
          0.13767620781094744,
          -0.16177464343743297,
          -0.057567733066291274,
          -0.3650075136464074,
          -0.36481122585670744,
          -0.3740937865943824,
          -0.36967514685526476,
          -0.2880960139449197,
          -0.3626842273085395,
          -0.22886060262937336,
          -0.2873889447511672,
          -0.36671552207951524,
          -0.33657210416247413,
          -0.18917445326593374,
          -0.19820123598206388,
          -0.3379654122637248,
          -0.34523524621284385,
          -0.3548341868641726,
          -0.35975111429031187,
          -0.32522581240952886,
          -0.10529210670464469,
          -0.10529210670464469,
          -0.27653428014991766,
          -0.4107790457654649,
          -0.32416918535379524,
          -0.38231179359047546,
          -0.38158855255071256,
          -0.26576833041369624,
          -0.36386898430075054,
          -0.038153192906423376,
          -0.2646678096623986,
          -0.26946671579159526,
          -0.3721238687505338,
          -0.33197300705801613,
          -0.17664987824062256,
          -0.3991123314925763,
          -0.3331430358999745,
          -0.15984688281212064,
          -0.2601893710122326,
          -0.19931038983039623,
          -0.3580836127159975,
          -0.011858066399380194,
          -0.3107638501321071,
          0.12822161549868422,
          -0.1669063222755169,
          -0.3335146723009413,
          -0.3957291672252006,
          -0.01021390710882942,
          -0.22887560768239718,
          -0.2763832181670982,
          -0.37846358997639107,
          -0.3544404845695776,
          -0.39882998571696676,
          -0.3320012236390633,
          -0.3651422272102357,
          0.09303978092855855,
          -0.3932658930464465,
          -0.29820263908553585
         ]
        },
        {
         "customdata": [
          [
           "ULURU INC.",
           "Pharmaceutical Preparations"
          ],
          [
           "CHINA YCT INTERNATIONAL GROUP, INC.",
           "Pharmaceutical Preparations"
          ],
          [
           "AXOVANT SCIENCES LTD.",
           "Pharmaceutical Preparations"
          ],
          [
           "MYOVANT SCIENCES LTD.",
           "Pharmaceutical Preparations"
          ],
          [
           "PRESTIGE BRANDS HOLDINGS, INC.",
           "Pharmaceutical Preparations"
          ],
          [
           "HYPGEN INC",
           "Pharmaceutical Preparations"
          ],
          [
           "HYPGEN INC",
           "Pharmaceutical Preparations"
          ],
          [
           "DANDRIT BIOTECH USA, INC.",
           "Pharmaceutical Preparations"
          ],
          [
           "REZOLUTE, INC.",
           "Pharmaceutical Preparations"
          ],
          [
           "OPTEC INTERNATIONAL, INC.",
           "Pharmaceutical Preparations"
          ],
          [
           "OPTEC INTERNATIONAL, INC.",
           "Pharmaceutical Preparations"
          ],
          [
           "BIOVIE INC.",
           "Pharmaceutical Preparations"
          ],
          [
           "ONCOSEC MEDICAL INC",
           "Pharmaceutical Preparations"
          ],
          [
           "CANNABICS PHARMACEUTICALS INC.",
           "Pharmaceutical Preparations"
          ],
          [
           "ORAMED PHARMACEUTICALS INC.",
           "Pharmaceutical Preparations"
          ],
          [
           "ENTEST BIOMEDICAL, INC.",
           "Pharmaceutical Preparations"
          ],
          [
           "MY CLOUDZ, INC.",
           "Pharmaceutical Preparations"
          ],
          [
           "MY CLOUDZ, INC.",
           "Pharmaceutical Preparations"
          ],
          [
           "ENANTA PHARMACEUTICALS INC",
           "Pharmaceutical Preparations"
          ],
          [
           "CITIUS PHARMACEUTICALS, INC.",
           "Pharmaceutical Preparations"
          ],
          [
           "STELLAR BIOTECHNOLOGIES, INC.",
           "Pharmaceutical Preparations"
          ],
          [
           "REGEN BIOPHARMA INC",
           "Pharmaceutical Preparations"
          ],
          [
           "REGEN BIOPHARMA INC",
           "Pharmaceutical Preparations"
          ],
          [
           "ADVAXIS, INC.",
           "Pharmaceutical Preparations"
          ],
          [
           "ORGENESIS INC.",
           "Pharmaceutical Preparations"
          ],
          [
           "Q BIOMED INC.",
           "Pharmaceutical Preparations"
          ],
          [
           "JOHNSON & JOHNSON",
           "Pharmaceutical Preparations"
          ],
          [
           "BRISTOL MYERS SQUIBB CO",
           "Pharmaceutical Preparations"
          ],
          [
           "VBI VACCINES INC/BC",
           "Pharmaceutical Preparations"
          ],
          [
           "INTRA-CELLULAR THERAPIES, INC.",
           "Pharmaceutical Preparations"
          ],
          [
           "ROCKET PHARMACEUTICALS, INC.",
           "Pharmaceutical Preparations"
          ],
          [
           "ATLAS HOLDINGS, INC.",
           "Pharmaceutical Preparations"
          ],
          [
           "NEMUS BIOSCIENCE, INC.",
           "Pharmaceutical Preparations"
          ],
          [
           "NEMUS BIOSCIENCE, INC.",
           "Pharmaceutical Preparations"
          ],
          [
           "OVASCIENCE, INC.",
           "Pharmaceutical Preparations"
          ],
          [
           "CONCERT PHARMACEUTICALS, INC.",
           "Pharmaceutical Preparations"
          ],
          [
           "AKCEA THERAPEUTICS, INC.",
           "Pharmaceutical Preparations"
          ],
          [
           "AXIM BIOTECHNOLOGIES, INC.",
           "Pharmaceutical Preparations"
          ],
          [
           "GUARDION HEALTH SCIENCES, INC.",
           "Pharmaceutical Preparations"
          ],
          [
           "RETROPHIN, INC.",
           "Pharmaceutical Preparations"
          ],
          [
           "SYNDAX PHARMACEUTICALS INC",
           "Pharmaceutical Preparations"
          ],
          [
           "FIBROGEN INC",
           "Pharmaceutical Preparations"
          ],
          [
           "PROTOKINETIX, INC.",
           "Pharmaceutical Preparations"
          ],
          [
           "PROGENICS PHARMACEUTICALS INC",
           "Pharmaceutical Preparations"
          ],
          [
           "CHECKPOINT THERAPEUTICS, INC.",
           "Pharmaceutical Preparations"
          ],
          [
           "PFENEX INC.",
           "Pharmaceutical Preparations"
          ],
          [
           "PAIN THERAPEUTICS INC",
           "Pharmaceutical Preparations"
          ],
          [
           "ZOMEDICA PHARMACEUTICALS CORP.",
           "Pharmaceutical Preparations"
          ],
          [
           "ZOMEDICA PHARMACEUTICALS CORP.",
           "Pharmaceutical Preparations"
          ],
          [
           "MOLECULAR TEMPLATES, INC.",
           "Pharmaceutical Preparations"
          ],
          [
           "WAVE LIFE SCIENCES LTD.",
           "Pharmaceutical Preparations"
          ],
          [
           "CYMABAY THERAPEUTICS, INC.",
           "Pharmaceutical Preparations"
          ],
          [
           "AMICUS THERAPEUTICS INC",
           "Pharmaceutical Preparations"
          ],
          [
           "EVOKE PHARMA INC",
           "Pharmaceutical Preparations"
          ],
          [
           "CHEMBIO DIAGNOSTICS, INC.",
           "Pharmaceutical Preparations"
          ],
          [
           "CARA THERAPEUTICS, INC.",
           "Pharmaceutical Preparations"
          ],
          [
           "CYTOMX THERAPEUTICS, INC.",
           "Pharmaceutical Preparations"
          ],
          [
           "XENCOR INC",
           "Pharmaceutical Preparations"
          ],
          [
           "CATABASIS PHARMACEUTICALS INC",
           "Pharmaceutical Preparations"
          ],
          [
           "SERES THERAPEUTICS, INC.",
           "Pharmaceutical Preparations"
          ],
          [
           "EYEGATE PHARMACEUTICALS INC",
           "Pharmaceutical Preparations"
          ],
          [
           "ARENA PHARMACEUTICALS INC",
           "Pharmaceutical Preparations"
          ],
          [
           "ALEXION PHARMACEUTICALS INC",
           "Pharmaceutical Preparations"
          ],
          [
           "MELINTA THERAPEUTICS, INC. /NEW/",
           "Pharmaceutical Preparations"
          ],
          [
           "FIVE PRIME THERAPEUTICS INC",
           "Pharmaceutical Preparations"
          ],
          [
           "LIXTE BIOTECHNOLOGY HOLDINGS, INC.",
           "Pharmaceutical Preparations"
          ],
          [
           "ARATANA THERAPEUTICS, INC.",
           "Pharmaceutical Preparations"
          ],
          [
           "CHIASMA, INC",
           "Pharmaceutical Preparations"
          ],
          [
           "CELGENE CORP /DE/",
           "Pharmaceutical Preparations"
          ],
          [
           "NEWLINK GENETICS CORP",
           "Pharmaceutical Preparations"
          ],
          [
           "LIGAND PHARMACEUTICALS INC",
           "Pharmaceutical Preparations"
          ],
          [
           "PORTOLA PHARMACEUTICALS INC",
           "Pharmaceutical Preparations"
          ],
          [
           "PLX PHARMA INC.",
           "Pharmaceutical Preparations"
          ],
          [
           "ARDELYX, INC.",
           "Pharmaceutical Preparations"
          ],
          [
           "PROTAGONIST THERAPEUTICS, INC",
           "Pharmaceutical Preparations"
          ],
          [
           "MOLECULIN BIOTECH, INC.",
           "Pharmaceutical Preparations"
          ],
          [
           "IRONWOOD PHARMACEUTICALS INC",
           "Pharmaceutical Preparations"
          ],
          [
           "FORTRESS BIOTECH, INC.",
           "Pharmaceutical Preparations"
          ],
          [
           "SYNTHETIC BIOLOGICS, INC.",
           "Pharmaceutical Preparations"
          ],
          [
           "OPTINOSE, INC.",
           "Pharmaceutical Preparations"
          ],
          [
           "CORMEDIX INC.",
           "Pharmaceutical Preparations"
          ],
          [
           "HEAT BIOLOGICS, INC.",
           "Pharmaceutical Preparations"
          ],
          [
           "SUN BIOPHARMA, INC.",
           "Pharmaceutical Preparations"
          ],
          [
           "BELLEROPHON THERAPEUTICS, INC.",
           "Pharmaceutical Preparations"
          ],
          [
           "BIOSPECIFICS TECHNOLOGIES CORP",
           "Pharmaceutical Preparations"
          ],
          [
           "ZOSANO PHARMA CORP",
           "Pharmaceutical Preparations"
          ],
          [
           "CV SCIENCES, INC.",
           "Pharmaceutical Preparations"
          ],
          [
           "LILLY ELI & CO",
           "Pharmaceutical Preparations"
          ],
          [
           "SAREPTA THERAPEUTICS, INC.",
           "Pharmaceutical Preparations"
          ],
          [
           "EXICURE, INC.",
           "Pharmaceutical Preparations"
          ],
          [
           "OVID THERAPEUTICS INC.",
           "Pharmaceutical Preparations"
          ],
          [
           "IMPRIMIS PHARMACEUTICALS, INC.",
           "Pharmaceutical Preparations"
          ],
          [
           "IONIS PHARMACEUTICALS INC",
           "Pharmaceutical Preparations"
          ],
          [
           "ONCOMED PHARMACEUTICALS INC",
           "Pharmaceutical Preparations"
          ],
          [
           "TONIX PHARMACEUTICALS HOLDING CORP.",
           "Pharmaceutical Preparations"
          ],
          [
           "TEVA PHARMACEUTICAL INDUSTRIES LTD",
           "Pharmaceutical Preparations"
          ],
          [
           "RHYTHM PHARMACEUTICALS, INC.",
           "Pharmaceutical Preparations"
          ],
          [
           "COCRYSTAL PHARMA, INC.",
           "Pharmaceutical Preparations"
          ],
          [
           "REGENERON PHARMACEUTICALS INC",
           "Pharmaceutical Preparations"
          ],
          [
           "ANI PHARMACEUTICALS INC",
           "Pharmaceutical Preparations"
          ],
          [
           "CLEARSIDE BIOMEDICAL, INC.",
           "Pharmaceutical Preparations"
          ],
          [
           "LIPOCINE INC.",
           "Pharmaceutical Preparations"
          ],
          [
           "GALECTIN THERAPEUTICS INC",
           "Pharmaceutical Preparations"
          ],
          [
           "STEMLINE THERAPEUTICS INC",
           "Pharmaceutical Preparations"
          ],
          [
           "DOVA PHARMACEUTICALS, INC.",
           "Pharmaceutical Preparations"
          ],
          [
           "ABBVIE INC.",
           "Pharmaceutical Preparations"
          ],
          [
           "AKORN INC",
           "Pharmaceutical Preparations"
          ],
          [
           "VALEANT PHARMACEUTICALS INTERNATIONAL, INC.",
           "Pharmaceutical Preparations"
          ],
          [
           "INTELGENX TECHNOLOGIES CORP.",
           "Pharmaceutical Preparations"
          ],
          [
           "PFIZER INC",
           "Pharmaceutical Preparations"
          ],
          [
           "SKINVISIBLE INC",
           "Pharmaceutical Preparations"
          ],
          [
           "TAPIMMUNE INC.",
           "Pharmaceutical Preparations"
          ],
          [
           "THERAPEUTICSMD, INC.",
           "Pharmaceutical Preparations"
          ],
          [
           "AQUINOX PHARMACEUTICALS, INC",
           "Pharmaceutical Preparations"
          ],
          [
           "GLOBAL BLOOD THERAPEUTICS, INC.",
           "Pharmaceutical Preparations"
          ],
          [
           "RIGEL PHARMACEUTICALS INC",
           "Pharmaceutical Preparations"
          ],
          [
           "PARATEK PHARMACEUTICALS, INC.",
           "Pharmaceutical Preparations"
          ],
          [
           "PERRIGO CO PLC",
           "Pharmaceutical Preparations"
          ],
          [
           "ZAFGEN, INC.",
           "Pharmaceutical Preparations"
          ],
          [
           "OPHTHOTECH CORP.",
           "Pharmaceutical Preparations"
          ],
          [
           "ACHILLION PHARMACEUTICALS INC",
           "Pharmaceutical Preparations"
          ],
          [
           "KEMPHARM, INC",
           "Pharmaceutical Preparations"
          ],
          [
           "INTERCEPT PHARMACEUTICALS INC",
           "Pharmaceutical Preparations"
          ],
          [
           "ULTRAGENYX PHARMACEUTICAL INC.",
           "Pharmaceutical Preparations"
          ],
          [
           "EMERGENT BIOSOLUTIONS INC.",
           "Pharmaceutical Preparations"
          ],
          [
           "ACER THERAPEUTICS INC.",
           "Pharmaceutical Preparations"
          ],
          [
           "HERON THERAPEUTICS, INC. /DE/",
           "Pharmaceutical Preparations"
          ],
          [
           "ADAMIS PHARMACEUTICALS CORP",
           "Pharmaceutical Preparations"
          ],
          [
           "GT BIOPHARMA, INC.",
           "Pharmaceutical Preparations"
          ],
          [
           "GT BIOPHARMA, INC.",
           "Pharmaceutical Preparations"
          ],
          [
           "GT BIOPHARMA, INC.",
           "Pharmaceutical Preparations"
          ],
          [
           "GT BIOPHARMA, INC.",
           "Pharmaceutical Preparations"
          ],
          [
           "GT BIOPHARMA, INC.",
           "Pharmaceutical Preparations"
          ],
          [
           "GT BIOPHARMA, INC.",
           "Pharmaceutical Preparations"
          ],
          [
           "IMMUNOGEN INC",
           "Pharmaceutical Preparations"
          ],
          [
           "PTC THERAPEUTICS, INC.",
           "Pharmaceutical Preparations"
          ],
          [
           "MANNKIND CORP",
           "Pharmaceutical Preparations"
          ],
          [
           "CARDAX, INC.",
           "Pharmaceutical Preparations"
          ],
          [
           "SYROS PHARMACEUTICALS, INC.",
           "Pharmaceutical Preparations"
          ],
          [
           "ADURO BIOTECH, INC.",
           "Pharmaceutical Preparations"
          ],
          [
           "SIENNA BIOPHARMACEUTICALS, INC.",
           "Pharmaceutical Preparations"
          ],
          [
           "ACHAOGEN INC",
           "Pharmaceutical Preparations"
          ],
          [
           "UNITED CANNABIS CORP",
           "Pharmaceutical Preparations"
          ],
          [
           "UNITED CANNABIS CORP",
           "Pharmaceutical Preparations"
          ],
          [
           "RXI PHARMACEUTICALS CORP",
           "Pharmaceutical Preparations"
          ],
          [
           "RXI PHARMACEUTICALS CORP",
           "Pharmaceutical Preparations"
          ],
          [
           "RXI PHARMACEUTICALS CORP",
           "Pharmaceutical Preparations"
          ],
          [
           "RXI PHARMACEUTICALS CORP",
           "Pharmaceutical Preparations"
          ],
          [
           "SOLIGENIX, INC.",
           "Pharmaceutical Preparations"
          ],
          [
           "XOMA CORP",
           "Pharmaceutical Preparations"
          ],
          [
           "SIERRA ONCOLOGY, INC.",
           "Pharmaceutical Preparations"
          ],
          [
           "ACTINIUM PHARMACEUTICALS, INC.",
           "Pharmaceutical Preparations"
          ],
          [
           "ORAGENICS INC",
           "Pharmaceutical Preparations"
          ],
          [
           "ATHERSYS, INC / NEW",
           "Pharmaceutical Preparations"
          ],
          [
           "PULMATRIX, INC.",
           "Pharmaceutical Preparations"
          ],
          [
           "ACADIA PHARMACEUTICALS INC",
           "Pharmaceutical Preparations"
          ],
          [
           "TREVENA INC",
           "Pharmaceutical Preparations"
          ],
          [
           "NATURES SUNSHINE PRODUCTS INC",
           "Pharmaceutical Preparations"
          ],
          [
           "FLEXION THERAPEUTICS INC",
           "Pharmaceutical Preparations"
          ],
          [
           "VERASTEM, INC.",
           "Pharmaceutical Preparations"
          ],
          [
           "XENON PHARMACEUTICALS INC.",
           "Pharmaceutical Preparations"
          ],
          [
           "SUNESIS PHARMACEUTICALS INC",
           "Pharmaceutical Preparations"
          ],
          [
           "CORVUS PHARMACEUTICALS, INC.",
           "Pharmaceutical Preparations"
          ],
          [
           "MERCK & CO., INC.",
           "Pharmaceutical Preparations"
          ],
          [
           "STRONGBRIDGE BIOPHARMA PLC",
           "Pharmaceutical Preparations"
          ],
          [
           "CATALYST PHARMACEUTICALS, INC.",
           "Pharmaceutical Preparations"
          ],
          [
           "ASSEMBLY BIOSCIENCES, INC.",
           "Pharmaceutical Preparations"
          ],
          [
           "APRICUS BIOSCIENCES, INC.",
           "Pharmaceutical Preparations"
          ],
          [
           "CATALYST BIOSCIENCES, INC.",
           "Pharmaceutical Preparations"
          ],
          [
           "MIRATI THERAPEUTICS, INC.",
           "Pharmaceutical Preparations"
          ],
          [
           "MUSTANG BIO, INC.",
           "Pharmaceutical Preparations"
          ],
          [
           "ACELRX PHARMACEUTICALS INC",
           "Pharmaceutical Preparations"
          ],
          [
           "BLUEPRINT MEDICINES CORP",
           "Pharmaceutical Preparations"
          ],
          [
           "ATHENEX, INC.",
           "Pharmaceutical Preparations"
          ],
          [
           "ATHENEX, INC.",
           "Pharmaceutical Preparations"
          ],
          [
           "RECRO PHARMA, INC.",
           "Pharmaceutical Preparations"
          ],
          [
           "BIOHAVEN PHARMACEUTICAL HOLDING CO LTD.",
           "Pharmaceutical Preparations"
          ],
          [
           "PROTHENA CORP PLC",
           "Pharmaceutical Preparations"
          ],
          [
           "AVENUE THERAPEUTICS, INC.",
           "Pharmaceutical Preparations"
          ],
          [
           "VTV THERAPEUTICS INC.",
           "Pharmaceutical Preparations"
          ],
          [
           "ZYNERBA PHARMACEUTICALS, INC.",
           "Pharmaceutical Preparations"
          ],
          [
           "BIOMARIN PHARMACEUTICAL INC",
           "Pharmaceutical Preparations"
          ],
          [
           "KARYOPHARM THERAPEUTICS INC.",
           "Pharmaceutical Preparations"
          ],
          [
           "LEXICON PHARMACEUTICALS, INC.",
           "Pharmaceutical Preparations"
          ],
          [
           "ENDO INTERNATIONAL PLC",
           "Pharmaceutical Preparations"
          ],
          [
           "PROPHASE LABS, INC.",
           "Pharmaceutical Preparations"
          ],
          [
           "CELLECTAR BIOSCIENCES, INC.",
           "Pharmaceutical Preparations"
          ],
          [
           "RITTER PHARMACEUTICALS INC",
           "Pharmaceutical Preparations"
          ],
          [
           "MARINUS PHARMACEUTICALS INC",
           "Pharmaceutical Preparations"
          ],
          [
           "CORCEPT THERAPEUTICS INC",
           "Pharmaceutical Preparations"
          ],
          [
           "ALNYLAM PHARMACEUTICALS, INC.",
           "Pharmaceutical Preparations"
          ],
          [
           "DARE BIOSCIENCE, INC.",
           "Pharmaceutical Preparations"
          ],
          [
           "TELIGENT, INC.",
           "Pharmaceutical Preparations"
          ],
          [
           "TELIGENT, INC.",
           "Pharmaceutical Preparations"
          ],
          [
           "ACLARIS THERAPEUTICS, INC.",
           "Pharmaceutical Preparations"
          ],
          [
           "VITAL THERAPIES INC",
           "Pharmaceutical Preparations"
          ],
          [
           "DECIPHERA PHARMACEUTICALS, INC.",
           "Pharmaceutical Preparations"
          ],
          [
           "CAPSTONE THERAPEUTICS CORP.",
           "Pharmaceutical Preparations"
          ],
          [
           "PACIRA PHARMACEUTICALS, INC.",
           "Pharmaceutical Preparations"
          ],
          [
           "UROGEN PHARMA LTD.",
           "Pharmaceutical Preparations"
          ],
          [
           "FIBROCELL SCIENCE, INC.",
           "Pharmaceutical Preparations"
          ],
          [
           "FLEX PHARMA, INC.",
           "Pharmaceutical Preparations"
          ],
          [
           "BIODELIVERY SCIENCES INTERNATIONAL INC",
           "Pharmaceutical Preparations"
          ],
          [
           "HORIZON PHARMA PLC",
           "Pharmaceutical Preparations"
          ],
          [
           "MERRIMACK PHARMACEUTICALS INC",
           "Pharmaceutical Preparations"
          ],
          [
           "CYCLACEL PHARMACEUTICALS, INC.",
           "Pharmaceutical Preparations"
          ],
          [
           "ZOETIS INC.",
           "Pharmaceutical Preparations"
          ]
         ],
         "hovertemplate": "color=Pharmaceutical Preparations<br>0=%{x}<br>1=%{y}<br>2=%{z}<br>name=%{customdata[0]}<br>industry=%{customdata[1]}<extra></extra>",
         "legendgroup": "Pharmaceutical Preparations",
         "marker": {
          "color": "#00cc96",
          "symbol": "circle"
         },
         "mode": "markers",
         "name": "Pharmaceutical Preparations",
         "scene": "scene",
         "showlegend": true,
         "type": "scatter3d",
         "x": [
          0.37501114950227843,
          0.2792580215148054,
          0.36630374275376587,
          0.28555225084016916,
          0.27206651073247207,
          0.19044628305697836,
          0.19044628305697836,
          0.4499590492273315,
          0.43279637693554485,
          0.13955154409902185,
          0.13955154409902185,
          0.5047647442167457,
          0.48111817342738966,
          0.3558366303469024,
          0.45632951722375326,
          -0.21190843606359067,
          0.03156109947627543,
          0.03156109947627543,
          0.48158065693686586,
          0.4134479111104228,
          0.34383540774284377,
          -0.15914611153862473,
          -0.15914611153862473,
          0.41229175197102125,
          0.40828171052191525,
          0.4180459044143161,
          0.3520522716431968,
          0.14263776903325254,
          0.4317362269416485,
          0.36505733190439627,
          0.3602513638016068,
          0.4061501688870231,
          0.39994122512446656,
          0.39994122512446656,
          0.45567349039261484,
          0.37764768737264526,
          0.46710019463196734,
          0.3721378853011733,
          0.06683903602309614,
          0.4386970839640839,
          0.44900449913415547,
          0.4333142317042237,
          0.382045934099079,
          -0.12833930025362114,
          0.4517131996508442,
          0.4106865590561653,
          0.3722982002747168,
          0.38490850151525985,
          0.38490850151525985,
          0.447616714506468,
          0.4791143652419565,
          0.4071475795253208,
          0.4895366438517602,
          0.4518263244262992,
          0.41954095590135676,
          0.3198918652617579,
          0.46634890541167595,
          -0.06891523634510473,
          0.43241183401180316,
          0.44089056568074836,
          0.2985780383849541,
          0.334771600787714,
          0.4236049158173561,
          0.387676980357044,
          -0.07713492975200874,
          0.4248313318557104,
          0.280323917067051,
          0.5028261291570107,
          0.44365602473145743,
          0.4552202651431999,
          0.41021096368373466,
          0.46716821902678696,
          0.4650841581406465,
          0.3798762551347882,
          0.46454583706927577,
          0.46233260166654333,
          0.4351906190700259,
          0.08795075638761367,
          0.43498703593210664,
          0.3588543027867479,
          0.47017024524043444,
          0.35596768751649843,
          0.395202402306953,
          0.463161612726435,
          0.41057264270030236,
          0.35581304219642423,
          0.2841337642697654,
          0.44288647654401464,
          0.4703060375476286,
          0.39424435368442945,
          0.3374842119430224,
          0.34010294575013444,
          0.4484806949569947,
          0.4561856304993072,
          0.4164096499401042,
          0.43160446048850293,
          0.4154449121165518,
          0.4113663262784971,
          0.40923771339286813,
          0.39370716906449044,
          0.47566186147819767,
          0.4119277029233612,
          0.4486923085995924,
          0.4551234593693412,
          0.40918628276559965,
          0.41396127602299687,
          0.31262179160072046,
          0.40413554750344516,
          0.4356616242564586,
          0.36327559332823844,
          0.3065679664268484,
          0.4581801899276965,
          0.43954428759310366,
          0.4077380152992733,
          0.41013165637792126,
          0.4524782104403991,
          0.36102263119989203,
          0.08296741804182682,
          -0.16405703739514368,
          0.4729828019922084,
          0.45148994487223343,
          0.43676510915544364,
          0.3878804222703001,
          0.4839335670733027,
          0.448641831775217,
          0.2698454360230046,
          0.397179923640621,
          0.4490044687601883,
          0.41611848331241225,
          0.41611848331241225,
          0.41611848331241225,
          0.41611848331241225,
          0.41611848331241225,
          0.41611848331241225,
          0.5142457034100845,
          0.47117968115409753,
          0.43626467394458385,
          0.3869990480945916,
          0.49210440492969126,
          0.4431822018409308,
          0.4122107791634758,
          0.4214733975490632,
          0.33409674067733247,
          0.33409674067733247,
          0.42345305166144415,
          0.42345305166144415,
          0.42345305166144415,
          0.42345305166144415,
          0.4160658721863705,
          0.14471059635265202,
          0.4190316738918325,
          0.47298500754293765,
          0.4447464568510342,
          0.4397066372087253,
          0.4900467688588761,
          0.4483810906667963,
          0.40039275014096753,
          0.15860123376194607,
          0.34650963056897943,
          0.39823260103803654,
          0.41519494446826427,
          0.4492366106206016,
          0.3955058859017068,
          0.4443488261152719,
          0.4860383102638223,
          0.49658463441670997,
          0.4359094952804123,
          0.42376425490000463,
          0.4524034951117858,
          0.47976480780233477,
          0.4402181468255763,
          0.41771362645518495,
          0.4527444559109659,
          0.4703216834303152,
          0.4703216834303152,
          0.3580466217995061,
          0.3274249943445465,
          0.3924986948980297,
          0.3898983994771315,
          0.48585516866003436,
          0.45279330435601417,
          0.44919478369476123,
          0.40071697155093733,
          0.5020454483550206,
          0.4101342310711802,
          0.2930363446436076,
          0.42960693225005686,
          0.48868401015579815,
          0.42034117092096707,
          0.4858269079240643,
          0.4599680791738148,
          0.4601612693318789,
          0.24175685619230897,
          0.24175685619230897,
          0.4284187719374331,
          0.28185570756143985,
          0.43685934632379986,
          0.3588867081689874,
          0.2472450966044656,
          0.4666373521007469,
          0.48877660434297826,
          0.31518275217479935,
          0.4286223271754506,
          0.4298296823944708,
          0.4928228935548836,
          0.468649899364767,
          -0.14262384222502833
         ],
         "y": [
          0.12326811303287308,
          -0.033102127022514444,
          0.0921199900180445,
          0.02375192668845631,
          -0.10708382734717113,
          0.06651978508830651,
          0.06651978508830651,
          0.14490766609729538,
          0.1116330996995906,
          -0.14442944414050732,
          -0.14442944414050732,
          0.22073863283039277,
          0.1236514140198762,
          0.09437038442787601,
          0.1604422663392406,
          -0.11243593279479296,
          -0.0330602905858252,
          -0.0330602905858252,
          0.16326690941080874,
          0.07219220665339311,
          -0.040621689408764594,
          -0.024327474786391277,
          -0.024327474786391277,
          0.13045029694701654,
          0.04356931150354716,
          -0.001357649957936949,
          0.004319905931242989,
          -0.012116148420076587,
          0.11755469039370618,
          0.1085247568278741,
          0.12291612621499337,
          0.10144339762261344,
          0.17477473002975705,
          0.17477473002975705,
          0.20932615495014814,
          0.11394647477185695,
          0.02871234426071079,
          0.049390896759708876,
          -0.04710481457331035,
          0.15446487327052552,
          0.15805759269037417,
          0.15454405732838,
          0.07589992359745333,
          -0.09059629670220626,
          0.14187761958416442,
          0.1022950662213364,
          0.06834022103721676,
          0.018007110741437377,
          0.018007110741437377,
          0.19251124433749148,
          0.14515306964793845,
          0.18389251348881136,
          0.16439490600278892,
          0.13309271696082664,
          0.12922504218857173,
          -0.019974929820132103,
          0.10755504497380226,
          0.06582122103254466,
          0.1874249408888868,
          0.046262516801000596,
          0.0862792405481217,
          0.07767973030231606,
          0.11720908284922198,
          0.006677305591264258,
          0.049813280740444735,
          0.12822571725578005,
          -0.0324952326492457,
          0.16271277624884134,
          0.19496954120512527,
          0.12238771502321291,
          0.025347509068639352,
          0.08962006311798797,
          0.16484214491600577,
          0.10763498980165727,
          0.21725930861565593,
          0.14859179124412983,
          0.0824405253317559,
          -0.060483145650081165,
          0.09546049666634453,
          -0.015694163325698535,
          0.16009858789123327,
          0.1112425866425031,
          0.10765021785672746,
          0.018571162354095196,
          0.044791613088941556,
          0.02273394400186124,
          -0.06086913899072434,
          0.1026399820820781,
          0.13560376867784205,
          0.1075934983954176,
          0.09337704445787699,
          0.014729196466403882,
          0.07046902513544491,
          0.14514040961115018,
          0.09764343576775933,
          0.043950579953257574,
          0.09173600746139511,
          0.08919724477114759,
          0.09959750998899648,
          0.004450296099767825,
          0.17844410792654877,
          0.16409503723600932,
          0.10040718375207765,
          0.13054956161361403,
          0.15298765783756177,
          0.0808798975886012,
          -0.0054786288876925255,
          -0.0015866563879732764,
          0.07568145899428241,
          -0.07937899794704961,
          -0.034056450239283824,
          0.15871888373638138,
          0.04030986589101152,
          0.12584999131365757,
          0.1643651069308538,
          0.11287691338273016,
          0.1380479032415441,
          -0.15937262630987414,
          -0.08637664560181359,
          0.14406419964045836,
          0.1991969366675099,
          0.14867079375306078,
          0.09439381009781117,
          0.02714077993868043,
          0.08325516310988479,
          0.028675216873331775,
          0.13066042960770255,
          0.1481310409621865,
          0.08307623071935921,
          0.08307623071935921,
          0.08307623071935921,
          0.08307623071935921,
          0.08307623071935921,
          0.08307623071935921,
          0.13165593033062076,
          0.15661220725252223,
          0.08513788327850695,
          0.15671391528591544,
          0.1736119765025119,
          0.12591080907924485,
          -0.01219280693800472,
          0.12970336330927856,
          0.03915069535566248,
          0.03915069535566248,
          0.11331293911834213,
          0.11331293911834213,
          0.11331293911834213,
          0.11331293911834213,
          0.11326842999653136,
          -0.042183231090267385,
          0.13998361599050277,
          0.12175903232755532,
          0.14175177700328875,
          0.047962989278597726,
          0.14554545934335159,
          0.11010501028285602,
          0.11936447944838402,
          -0.09701536311881505,
          0.02579973171511286,
          0.10823654577401975,
          0.0985061762109482,
          0.19101242040931293,
          0.1339082130347289,
          0.11012301105621063,
          0.17829186073051229,
          0.17090344163477494,
          0.07032750775477357,
          0.11842501272676098,
          0.16356890084247752,
          0.16120377341493644,
          0.13456340136485126,
          0.085600537418357,
          0.1271414662107441,
          0.17733263847652905,
          0.17733263847652905,
          0.1305240946135372,
          0.07434618266530735,
          0.01119975613404393,
          0.21938473262887548,
          0.0939007783320212,
          0.08381258280889269,
          0.07355731560693829,
          0.13323332951676384,
          0.09668788747822132,
          0.03228925250546861,
          0.10027102128591354,
          0.1192483794043077,
          0.16891122070566864,
          0.14301404970945392,
          0.1561686917447851,
          0.16873286274508745,
          0.08206744895851906,
          -0.019137692805494915,
          -0.019137692805494915,
          -0.04560087981225794,
          0.08796677477133973,
          0.2213603949140575,
          0.027982129507754073,
          -0.061039684971615146,
          0.18784926882481406,
          0.15602402984112787,
          0.09008562986247225,
          0.06451322953156104,
          0.029118215812108893,
          0.19182683011534177,
          0.21925131620033939,
          -0.09782410975446391
         ],
         "z": [
          -0.1068290045415491,
          -0.03683068566403253,
          0.01635305450608417,
          0.02348148198537807,
          0.013718068486118394,
          -0.08542185591421893,
          -0.08542185591421893,
          -0.004283776833778864,
          -0.027896724991825574,
          0.01253871083711395,
          0.01253871083711395,
          -0.12582706301513227,
          -0.07112588593470455,
          0.09977336043134225,
          0.0395957166003545,
          -0.04877337861651907,
          -0.013745457921162345,
          -0.013745457921162345,
          -0.16239683691262843,
          0.09555354815208834,
          -0.013212979063317806,
          -0.024144871407672387,
          -0.024144871407672387,
          0.14272802715158572,
          -0.014395614711507186,
          -0.05946985681915811,
          -0.01611468619693438,
          0.10318503967921812,
          -0.10514984133249947,
          0.028175989728325263,
          0.11499790525348656,
          -0.04191076756220563,
          -0.19951771334973692,
          -0.19951771334973692,
          -0.14741868806265881,
          -0.011454133374892294,
          0.028674525410869043,
          -0.10081746343517049,
          -0.05127172528103766,
          -0.1867344887557555,
          -0.1488964714236941,
          0.0006949761066344595,
          -0.0655314588738792,
          -0.11626796681484526,
          -0.12344094479427398,
          -0.14397460149362526,
          0.033628307238636725,
          0.01801121947127568,
          0.01801121947127568,
          -0.14007453402629608,
          -0.08372409199601549,
          0.00756830119058041,
          -0.13328046137565905,
          0.07247629427220283,
          -0.0042768143237442826,
          0.021698000571573946,
          -0.08690734910440055,
          0.0954183528670803,
          0.025544645420507925,
          0.08565507942420929,
          0.005280197047828603,
          -0.19596542890752094,
          -0.15542728639704353,
          -0.10242472731620372,
          0.08813088806480815,
          0.01951721352471188,
          -0.0005944920318414092,
          -0.031397158347331484,
          -0.14183616482984,
          -0.16646923767870822,
          0.02802873669450714,
          -0.1151412826406968,
          -0.16133407381519668,
          -0.02818769847726004,
          -0.14180829834488295,
          -0.08281685539702892,
          -0.1178944742187467,
          -0.03308958744613816,
          0.03816951620894363,
          0.04590842191087145,
          -0.1454101159810325,
          0.142853859616019,
          0.15502331916887765,
          0.011143246142763985,
          -0.026137184637494384,
          0.11799956715646058,
          -0.017780613078289816,
          -0.07305745119479948,
          -0.12287939143258748,
          0.04716769745646323,
          0.07089372969933375,
          -0.12955318248000816,
          -0.06892758537815832,
          -0.14061346919109857,
          -0.02248618846742493,
          -0.04453124184106346,
          0.05568341332437915,
          0.0602773062540007,
          -0.101493061229413,
          -0.06396199403495495,
          -0.12579066492546664,
          -0.104859437576229,
          0.020616735434370523,
          -0.14797628391908568,
          -0.006890251940983912,
          -0.10151355011203649,
          -0.09304700170781609,
          -0.10940826170130395,
          -0.0031179346962391784,
          0.027226463599344806,
          -0.044042580919492785,
          -0.1299634991243373,
          -0.06161988531930895,
          -0.16763967200981936,
          0.025918846664126232,
          -0.14985084701238496,
          -0.007892952974875467,
          0.05303542067237041,
          -0.10102854320574993,
          -0.14645636712439783,
          -0.15193369072341428,
          -0.16803065685594648,
          -0.021107860851185687,
          0.04948116698439179,
          -0.07415122642948625,
          -0.17387304745432977,
          0.08786168938482401,
          -0.1379941014172593,
          0.1081319083483446,
          0.1081319083483446,
          0.1081319083483446,
          0.1081319083483446,
          0.1081319083483446,
          0.1081319083483446,
          -0.05442904422783313,
          -0.08009028084851239,
          -0.1344585105304365,
          -0.19422181415824158,
          -0.0961602087639019,
          -0.16944334283834536,
          0.016905332385709217,
          -0.17469134459997138,
          -0.07275691163623214,
          -0.07275691163623214,
          -0.08954163468842345,
          -0.08954163468842345,
          -0.08954163468842345,
          -0.08954163468842345,
          0.011039407227043834,
          -0.08892458391711958,
          -0.0053359875024379605,
          0.07481460133591195,
          -0.16413604357378983,
          -0.05461205908690497,
          -0.1349208815876568,
          -0.13196737239341508,
          0.04887128461812832,
          0.027208304998957603,
          0.04488200189206944,
          0.1222212402360601,
          -0.006612093398972501,
          -0.18609876466959396,
          0.09942563281941871,
          -0.022235341960346478,
          -0.16281166471798647,
          -0.11898664481110925,
          0.036927229519116374,
          -0.16397726430576207,
          -0.1931859796740425,
          -0.0973780978683895,
          -0.025960818853478465,
          0.009427288591405023,
          0.10108499316704486,
          0.11140213295108602,
          0.11140213295108602,
          0.05671022400308128,
          0.07849965568979433,
          0.04600610454059944,
          -0.11064243486101581,
          0.09233275658241065,
          0.028299655418294663,
          0.011059412706644813,
          0.03668084185792656,
          0.025487119266307666,
          0.03889473416338163,
          -0.11575156722351546,
          -0.005627041960227151,
          -0.13946056906398827,
          0.0879884742768262,
          -0.13364611293068504,
          -0.18349994425794944,
          -0.1477579720837894,
          -0.010921404573136896,
          -0.010921404573136896,
          -0.028788476918124906,
          -0.007695068034545829,
          -0.14658237356395867,
          -0.08010599422818643,
          0.06559182448878764,
          -0.15700901012626792,
          -0.13637123484651872,
          -0.1505511057875709,
          -0.09581082908276789,
          0.009963935295715034,
          -0.12152261023952993,
          -0.05969288450545509,
          -0.13145833589502115
         ]
        },
        {
         "customdata": [
          [
           "INVESTORS REAL ESTATE TRUST",
           "Real Estate Investment Trusts"
          ],
          [
           "BRT APARTMENTS CORP.",
           "Real Estate Investment Trusts"
          ],
          [
           "MONMOUTH REAL ESTATE INVESTMENT CORP",
           "Real Estate Investment Trusts"
          ],
          [
           "FIRST REAL ESTATE INVESTMENT TRUST OF NEW JERSEY",
           "Real Estate Investment Trusts"
          ],
          [
           "FIRST REAL ESTATE INVESTMENT TRUST OF NEW JERSEY",
           "Real Estate Investment Trusts"
          ],
          [
           "URSTADT BIDDLE PROPERTIES INC",
           "Real Estate Investment Trusts"
          ],
          [
           "URSTADT BIDDLE PROPERTIES INC",
           "Real Estate Investment Trusts"
          ],
          [
           "PHILLIPS EDISON & COMPANY, INC.",
           "Real Estate Investment Trusts"
          ],
          [
           "SL GREEN REALTY CORP",
           "Real Estate Investment Trusts"
          ],
          [
           "CUBESMART",
           "Real Estate Investment Trusts"
          ],
          [
           "CIM COMMERCIAL TRUST CORP",
           "Real Estate Investment Trusts"
          ],
          [
           "CERES TACTICAL SYSTEMATIC L.P.",
           "Real Estate Investment Trusts"
          ],
          [
           "PS BUSINESS PARKS INC/CA",
           "Real Estate Investment Trusts"
          ],
          [
           "STEADFAST INCOME REIT, INC.",
           "Real Estate Investment Trusts"
          ],
          [
           "RETAIL OPPORTUNITY INVESTMENTS CORP",
           "Real Estate Investment Trusts"
          ],
          [
           "MORGAN STANLEY SMITH BARNEY SPECTRUM SELECT LP",
           "Real Estate Investment Trusts"
          ],
          [
           "NEW YORK MORTGAGE TRUST INC",
           "Real Estate Investment Trusts"
          ],
          [
           "CBL & ASSOCIATES PROPERTIES INC",
           "Real Estate Investment Trusts"
          ],
          [
           "LEXINGTON REALTY TRUST",
           "Real Estate Investment Trusts"
          ],
          [
           "BRANDYWINE REALTY TRUST",
           "Real Estate Investment Trusts"
          ],
          [
           "LAMAR ADVERTISING CO/NEW",
           "Real Estate Investment Trusts"
          ],
          [
           "JBG SMITH PROPERTIES",
           "Real Estate Investment Trusts"
          ],
          [
           "KBS REAL ESTATE INVESTMENT TRUST III, INC.",
           "Real Estate Investment Trusts"
          ],
          [
           "CAPSTEAD MORTGAGE CORP",
           "Real Estate Investment Trusts"
          ],
          [
           "GGP INC.",
           "Real Estate Investment Trusts"
          ],
          [
           "QTS REALTY TRUST, INC.",
           "Real Estate Investment Trusts"
          ],
          [
           "WELLS FARGO REAL ESTATE INVESTMENT CORP.",
           "Real Estate Investment Trusts"
          ],
          [
           "LIGHTSTONE VALUE PLUS REAL ESTATE INVESTMENT TRUST V, INC.",
           "Real Estate Investment Trusts"
          ],
          [
           "RESOURCE APARTMENT REIT III, INC.",
           "Real Estate Investment Trusts"
          ],
          [
           "CNL HEALTHCARE PROPERTIES, INC.",
           "Real Estate Investment Trusts"
          ],
          [
           "RETAIL PROPERTIES OF AMERICA, INC.",
           "Real Estate Investment Trusts"
          ],
          [
           "BOSTON PROPERTIES INC",
           "Real Estate Investment Trusts"
          ],
          [
           "REGENCY CENTERS CORP",
           "Real Estate Investment Trusts"
          ],
          [
           "NATIONAL HEALTH INVESTORS INC",
           "Real Estate Investment Trusts"
          ],
          [
           "DRIVE SHACK INC.",
           "Real Estate Investment Trusts"
          ],
          [
           "COLE CREDIT PROPERTY TRUST V, INC.",
           "Real Estate Investment Trusts"
          ],
          [
           "EQUITY RESIDENTIAL",
           "Real Estate Investment Trusts"
          ],
          [
           "KITE REALTY GROUP TRUST",
           "Real Estate Investment Trusts"
          ],
          [
           "OUTFRONT MEDIA INC.",
           "Real Estate Investment Trusts"
          ],
          [
           "PENNSYLVANIA REAL ESTATE INVESTMENT TRUST",
           "Real Estate Investment Trusts"
          ],
          [
           "COLE REAL ESTATE INCOME STRATEGY (DAILY NAV), INC.",
           "Real Estate Investment Trusts"
          ],
          [
           "REALTY INCOME CORP",
           "Real Estate Investment Trusts"
          ],
          [
           "GLOBAL MEDICAL REIT INC.",
           "Real Estate Investment Trusts"
          ],
          [
           "PILLARSTONE CAPITAL REIT",
           "Real Estate Investment Trusts"
          ],
          [
           "CLIPPER REALTY INC.",
           "Real Estate Investment Trusts"
          ],
          [
           "BLACK CREEK INDUSTRIAL REIT IV INC.",
           "Real Estate Investment Trusts"
          ],
          [
           "LIGHTSTONE VALUE PLUS REAL ESTATE INVESTMENT TRUST, INC.",
           "Real Estate Investment Trusts"
          ],
          [
           "KKR REAL ESTATE FINANCE TRUST INC.",
           "Real Estate Investment Trusts"
          ],
          [
           "GEO GROUP INC",
           "Real Estate Investment Trusts"
          ],
          [
           "AMERICAN ASSETS TRUST, INC.",
           "Real Estate Investment Trusts"
          ],
          [
           "IMPAC MORTGAGE HOLDINGS INC",
           "Real Estate Investment Trusts"
          ],
          [
           "CNL HEALTHCARE PROPERTIES II, INC.",
           "Real Estate Investment Trusts"
          ],
          [
           "ANWORTH MORTGAGE ASSET CORP",
           "Real Estate Investment Trusts"
          ],
          [
           "LIGHTSTONE VALUE PLUS REAL ESTATE INVESTMENT TRUST III, INC.",
           "Real Estate Investment Trusts"
          ],
          [
           "AMERICAN FINANCE TRUST, INC",
           "Real Estate Investment Trusts"
          ],
          [
           "EQUITY COMMONWEALTH",
           "Real Estate Investment Trusts"
          ],
          [
           "FOUR CORNERS PROPERTY TRUST, INC.",
           "Real Estate Investment Trusts"
          ],
          [
           "RAYONIER INC",
           "Real Estate Investment Trusts"
          ],
          [
           "HOST HOTELS & RESORTS, INC.",
           "Real Estate Investment Trusts"
          ],
          [
           "GAMING & LEISURE PROPERTIES, INC.",
           "Real Estate Investment Trusts"
          ],
          [
           "NATIONAL RETAIL PROPERTIES, INC.",
           "Real Estate Investment Trusts"
          ],
          [
           "SENIOR HOUSING PROPERTIES TRUST",
           "Real Estate Investment Trusts"
          ],
          [
           "SUTHERLAND ASSET MANAGEMENT CORP",
           "Real Estate Investment Trusts"
          ],
          [
           "TAUBMAN CENTERS INC",
           "Real Estate Investment Trusts"
          ],
          [
           "RESOURCE REAL ESTATE OPPORTUNITY REIT, INC.",
           "Real Estate Investment Trusts"
          ],
          [
           "TANGER FACTORY OUTLET CENTERS INC",
           "Real Estate Investment Trusts"
          ],
          [
           "MFA FINANCIAL, INC.",
           "Real Estate Investment Trusts"
          ],
          [
           "TERRA SECURED INCOME FUND 5, LLC",
           "Real Estate Investment Trusts"
          ],
          [
           "SBA COMMUNICATIONS CORP",
           "Real Estate Investment Trusts"
          ],
          [
           "LIGHTSTONE VALUE PLUS REAL ESTATE INVESTMENT TRUST II INC",
           "Real Estate Investment Trusts"
          ],
          [
           "JONES LANG LASALLE INCOME PROPERTY TRUST, INC.",
           "Real Estate Investment Trusts"
          ],
          [
           "AVALONBAY COMMUNITIES INC",
           "Real Estate Investment Trusts"
          ],
          [
           "ARES COMMERCIAL REAL ESTATE CORP",
           "Real Estate Investment Trusts"
          ],
          [
           "CARTER VALIDUS MISSION CRITICAL REIT II, INC.",
           "Real Estate Investment Trusts"
          ],
          [
           "PHYSICIANS REALTY TRUST",
           "Real Estate Investment Trusts"
          ],
          [
           "PROLOGIS, INC.",
           "Real Estate Investment Trusts"
          ],
          [
           "ARMOUR RESIDENTIAL REIT, INC.",
           "Real Estate Investment Trusts"
          ],
          [
           "CHERRY HILL MORTGAGE INVESTMENT CORP",
           "Real Estate Investment Trusts"
          ],
          [
           "EMPIRE STATE REALTY TRUST, INC.",
           "Real Estate Investment Trusts"
          ],
          [
           "PUBLIC STORAGE",
           "Real Estate Investment Trusts"
          ],
          [
           "APARTMENT INVESTMENT & MANAGEMENT CO",
           "Real Estate Investment Trusts"
          ],
          [
           "CEDAR REALTY TRUST, INC.",
           "Real Estate Investment Trusts"
          ],
          [
           "HIGHLANDS REIT, INC.",
           "Real Estate Investment Trusts"
          ],
          [
           "IRON MOUNTAIN INC",
           "Real Estate Investment Trusts"
          ],
          [
           "SOTHERLY HOTELS INC.",
           "Real Estate Investment Trusts"
          ],
          [
           "EMPIRE STATE REALTY OP, L.P.",
           "Real Estate Investment Trusts"
          ],
          [
           "ESSEX PROPERTY TRUST INC",
           "Real Estate Investment Trusts"
          ],
          [
           "WEINGARTEN REALTY INVESTORS /TX/",
           "Real Estate Investment Trusts"
          ],
          [
           "CONDOR HOSPITALITY TRUST, INC.",
           "Real Estate Investment Trusts"
          ],
          [
           "CITY OFFICE REIT, INC.",
           "Real Estate Investment Trusts"
          ],
          [
           "BENEFIT STREET PARTNERS REALTY TRUST, INC.",
           "Real Estate Investment Trusts"
          ],
          [
           "LIGHTSTONE REAL ESTATE INCOME TRUST INC.",
           "Real Estate Investment Trusts"
          ],
          [
           "AMERICAN CAMPUS COMMUNITIES INC",
           "Real Estate Investment Trusts"
          ],
          [
           "STARWOOD PROPERTY TRUST, INC.",
           "Real Estate Investment Trusts"
          ],
          [
           "CORESITE REALTY CORP",
           "Real Estate Investment Trusts"
          ],
          [
           "POTLATCH CORP",
           "Real Estate Investment Trusts"
          ],
          [
           "CORPORATE OFFICE PROPERTIES TRUST",
           "Real Estate Investment Trusts"
          ],
          [
           "RAMCO GERSHENSON PROPERTIES TRUST",
           "Real Estate Investment Trusts"
          ],
          [
           "NATIONAL STORAGE AFFILIATES TRUST",
           "Real Estate Investment Trusts"
          ],
          [
           "HERSHA HOSPITALITY TRUST",
           "Real Estate Investment Trusts"
          ],
          [
           "JERNIGAN CAPITAL, INC.",
           "Real Estate Investment Trusts"
          ],
          [
           "VORNADO REALTY TRUST",
           "Real Estate Investment Trusts"
          ],
          [
           "ISTAR INC.",
           "Real Estate Investment Trusts"
          ],
          [
           "ALEXANDER & BALDWIN, INC.",
           "Real Estate Investment Trusts"
          ],
          [
           "HOSPITALITY INVESTORS TRUST, INC.",
           "Real Estate Investment Trusts"
          ],
          [
           "SAUL CENTERS INC",
           "Real Estate Investment Trusts"
          ],
          [
           "KBS GROWTH & INCOME REIT, INC.",
           "Real Estate Investment Trusts"
          ],
          [
           "EXTRA SPACE STORAGE INC.",
           "Real Estate Investment Trusts"
          ],
          [
           "CHESAPEAKE LODGING TRUST",
           "Real Estate Investment Trusts"
          ],
          [
           "LTC PROPERTIES INC",
           "Real Estate Investment Trusts"
          ],
          [
           "EASTERLY GOVERNMENT PROPERTIES, INC.",
           "Real Estate Investment Trusts"
          ],
          [
           "PLYMOUTH INDUSTRIAL REIT INC.",
           "Real Estate Investment Trusts"
          ],
          [
           "FRANKLIN STREET PROPERTIES CORP /MA/",
           "Real Estate Investment Trusts"
          ],
          [
           "HEALTHCARE TRUST OF AMERICA, INC.",
           "Real Estate Investment Trusts"
          ],
          [
           "REALSOURCE RESIDENTIAL, INC",
           "Real Estate Investment Trusts"
          ],
          [
           "CARTER VALIDUS MISSION CRITICAL REIT, INC.",
           "Real Estate Investment Trusts"
          ],
          [
           "SUN COMMUNITIES INC",
           "Real Estate Investment Trusts"
          ],
          [
           "FIRST EQUITY PROPERTIES INC",
           "Real Estate Investment Trusts"
          ],
          [
           "MID AMERICA APARTMENT COMMUNITIES INC",
           "Real Estate Investment Trusts"
          ],
          [
           "BROOKFIELD DTLA FUND OFFICE TRUST INVESTOR INC.",
           "Real Estate Investment Trusts"
          ],
          [
           "ANNALY CAPITAL MANAGEMENT INC",
           "Real Estate Investment Trusts"
          ],
          [
           "WHEELER REAL ESTATE INVESTMENT TRUST, INC.",
           "Real Estate Investment Trusts"
          ],
          [
           "ALEXANDRIA REAL ESTATE EQUITIES INC",
           "Real Estate Investment Trusts"
          ],
          [
           "HIGHWOODS PROPERTIES INC",
           "Real Estate Investment Trusts"
          ],
          [
           "KIMCO REALTY CORP",
           "Real Estate Investment Trusts"
          ],
          [
           "INDEPENDENCE REALTY TRUST, INC.",
           "Real Estate Investment Trusts"
          ],
          [
           "PREFERRED APARTMENT COMMUNITIES INC",
           "Real Estate Investment Trusts"
          ],
          [
           "ELLINGTON RESIDENTIAL MORTGAGE REIT",
           "Real Estate Investment Trusts"
          ],
          [
           "CORECIVIC, INC.",
           "Real Estate Investment Trusts"
          ],
          [
           "ASHFORD HOSPITALITY PRIME, INC.",
           "Real Estate Investment Trusts"
          ],
          [
           "LIFE STORAGE, INC.",
           "Real Estate Investment Trusts"
          ],
          [
           "HEALTHCARE REALTY TRUST INC",
           "Real Estate Investment Trusts"
          ],
          [
           "WINTHROP REALTY LIQUIDATING TRUST",
           "Real Estate Investment Trusts"
          ],
          [
           "CORENERGY INFRASTRUCTURE TRUST, INC.",
           "Real Estate Investment Trusts"
          ],
          [
           "KBS STRATEGIC OPPORTUNITY REIT II, INC.",
           "Real Estate Investment Trusts"
          ],
          [
           "PEBBLEBROOK HOTEL TRUST",
           "Real Estate Investment Trusts"
          ],
          [
           "SABRA HEALTH CARE REIT, INC.",
           "Real Estate Investment Trusts"
          ],
          [
           "POWER REIT",
           "Real Estate Investment Trusts"
          ],
          [
           "DYNEX CAPITAL INC",
           "Real Estate Investment Trusts"
          ],
          [
           "DIGITAL REALTY TRUST, INC.",
           "Real Estate Investment Trusts"
          ],
          [
           "STRATEGIC REALTY TRUST, INC.",
           "Real Estate Investment Trusts"
          ],
          [
           "COLE OFFICE & INDUSTRIAL REIT (CCIT III), INC.",
           "Real Estate Investment Trusts"
          ],
          [
           "HEALTHCARE TRUST, INC.",
           "Real Estate Investment Trusts"
          ],
          [
           "LADDER CAPITAL CORP",
           "Real Estate Investment Trusts"
          ],
          [
           "CROWN CASTLE INTERNATIONAL CORP",
           "Real Estate Investment Trusts"
          ],
          [
           "HOWARD HUGHES CORP",
           "Real Estate Investment Trusts"
          ],
          [
           "ALEXANDERS INC",
           "Real Estate Investment Trusts"
          ],
          [
           "MANHATTAN BRIDGE CAPITAL, INC",
           "Real Estate Investment Trusts"
          ],
          [
           "INLAND REAL ESTATE INCOME TRUST, INC.",
           "Real Estate Investment Trusts"
          ],
          [
           "INLAND RESIDENTIAL PROPERTIES TRUST, INC.",
           "Real Estate Investment Trusts"
          ],
          [
           "INLAND RESIDENTIAL PROPERTIES TRUST, INC.",
           "Real Estate Investment Trusts"
          ],
          [
           "KBS REAL ESTATE INVESTMENT TRUST II, INC.",
           "Real Estate Investment Trusts"
          ],
          [
           "RESOURCE REAL ESTATE OPPORTUNITY REIT II, INC.",
           "Real Estate Investment Trusts"
          ],
          [
           "STEADFAST APARTMENT REIT III, INC.",
           "Real Estate Investment Trusts"
          ],
          [
           "ACADIA REALTY TRUST",
           "Real Estate Investment Trusts"
          ],
          [
           "HMG COURTLAND PROPERTIES INC",
           "Real Estate Investment Trusts"
          ],
          [
           "COLE CREDIT PROPERTY TRUST IV, INC.",
           "Real Estate Investment Trusts"
          ],
          [
           "FIVE OAKS INVESTMENT CORP.",
           "Real Estate Investment Trusts"
          ],
          [
           "NEXPOINT RESIDENTIAL TRUST, INC.",
           "Real Estate Investment Trusts"
          ],
          [
           "TWO HARBORS INVESTMENT CORP.",
           "Real Estate Investment Trusts"
          ],
          [
           "WASHINGTON PRIME GROUP INC.",
           "Real Estate Investment Trusts"
          ],
          [
           "TIER REIT INC",
           "Real Estate Investment Trusts"
          ],
          [
           "GRANITE POINT MORTGAGE TRUST INC.",
           "Real Estate Investment Trusts"
          ],
          [
           "GREAT AJAX CORP.",
           "Real Estate Investment Trusts"
          ],
          [
           "DUKE REALTY CORP",
           "Real Estate Investment Trusts"
          ],
          [
           "EASTGROUP PROPERTIES INC",
           "Real Estate Investment Trusts"
          ],
          [
           "STEADFAST APARTMENT REIT, INC.",
           "Real Estate Investment Trusts"
          ],
          [
           "RECKSON OPERATING PARTNERSHIP LP",
           "Real Estate Investment Trusts"
          ],
          [
           "GLOBAL NET LEASE, INC.",
           "Real Estate Investment Trusts"
          ],
          [
           "KBS STRATEGIC OPPORTUNITY REIT, INC.",
           "Real Estate Investment Trusts"
          ],
          [
           "WHITESTONE REIT",
           "Real Estate Investment Trusts"
          ],
          [
           "GRIFFIN CAPITAL ESSENTIAL ASSET REIT II, INC.",
           "Real Estate Investment Trusts"
          ],
          [
           "UDR, INC.",
           "Real Estate Investment Trusts"
          ],
          [
           "COMMUNITY HEALTHCARE TRUST INC",
           "Real Estate Investment Trusts"
          ],
          [
           "VENTAS INC",
           "Real Estate Investment Trusts"
          ],
          [
           "OWENS REALTY MORTGAGE, INC.",
           "Real Estate Investment Trusts"
          ],
          [
           "KILROY REALTY CORP",
           "Real Estate Investment Trusts"
          ],
          [
           "SUMMIT HOTEL PROPERTIES, INC.",
           "Real Estate Investment Trusts"
          ],
          [
           "CORPORATE PROPERTY ASSOCIATES 18 GLOBAL INC",
           "Real Estate Investment Trusts"
          ],
          [
           "CYRUSONE INC.",
           "Real Estate Investment Trusts"
          ],
          [
           "COLONY NORTHSTAR, INC.",
           "Real Estate Investment Trusts"
          ],
          [
           "FEDERAL REALTY INVESTMENT TRUST",
           "Real Estate Investment Trusts"
          ],
          [
           "NEW SENIOR INVESTMENT GROUP INC.",
           "Real Estate Investment Trusts"
          ],
          [
           "RYMAN HOSPITALITY PROPERTIES, INC.",
           "Real Estate Investment Trusts"
          ],
          [
           "BRIXMOR PROPERTY GROUP INC.",
           "Real Estate Investment Trusts"
          ],
          [
           "COLE OFFICE & INDUSTRIAL REIT (CCIT II), INC.",
           "Real Estate Investment Trusts"
          ],
          [
           "OMEGA HEALTHCARE INVESTORS INC",
           "Real Estate Investment Trusts"
          ],
          [
           "REVEN HOUSING REIT, INC.",
           "Real Estate Investment Trusts"
          ],
          [
           "AMERICAN REALTY CAPITAL NEW YORK CITY REIT, INC.",
           "Real Estate Investment Trusts"
          ],
          [
           "STAG INDUSTRIAL, INC.",
           "Real Estate Investment Trusts"
          ],
          [
           "EQUINIX INC",
           "Real Estate Investment Trusts"
          ]
         ],
         "hovertemplate": "color=Real Estate Investment Trusts<br>0=%{x}<br>1=%{y}<br>2=%{z}<br>name=%{customdata[0]}<br>industry=%{customdata[1]}<extra></extra>",
         "legendgroup": "Real Estate Investment Trusts",
         "marker": {
          "color": "#ab63fa",
          "symbol": "circle"
         },
         "mode": "markers",
         "name": "Real Estate Investment Trusts",
         "scene": "scene",
         "showlegend": true,
         "type": "scatter3d",
         "x": [
          -0.30028044241387714,
          -0.25556955388075986,
          -0.27301939554517235,
          -0.32431244799311115,
          -0.32431244799311115,
          -0.2897982779482251,
          -0.2897982779482251,
          -0.25252554719311915,
          -0.31207074683855474,
          -0.15266634052977524,
          -0.21705875900357244,
          -0.16802015566343625,
          -0.2767108445021348,
          -0.29452702436254835,
          -0.2962012868307276,
          -0.13103032878608603,
          -0.30944439394645734,
          -0.3073831779176779,
          -0.3261567064303049,
          -0.31172880196396396,
          -0.00739207083274784,
          -0.21759054761374638,
          -0.32039350637686975,
          -0.2799815471565283,
          -0.2573512155298087,
          -0.012356540680317598,
          -0.3157042975849285,
          -0.2810168514339929,
          -0.19441930101438454,
          -0.23045444078755808,
          -0.24626866181529522,
          -0.10454057921852175,
          -0.3100837945857766,
          -0.21187877375609618,
          -0.201094671444786,
          -0.27927601160360443,
          -0.2102338880978394,
          -0.2798433822768522,
          0.007945982620539126,
          -0.26017632317148603,
          -0.25344283340414164,
          -0.3095041723849422,
          -0.10223149740454474,
          -0.3150623104985509,
          -0.3509437748102187,
          -0.2925359555097454,
          -0.1458526487276996,
          -0.2469953335197851,
          0.029811240681787504,
          -0.22280961478407402,
          -0.23774493290017845,
          -0.21898324626062574,
          -0.2640041544396352,
          -0.1458526487276996,
          -0.324042100899182,
          -0.2598062582302626,
          -0.28583434500531735,
          -0.2015325587785481,
          -0.3165360109314154,
          -0.2593297285661644,
          -0.3529794809933603,
          -0.18634900292646775,
          -0.2237756937680032,
          -0.09473603384321339,
          -0.25649436683753385,
          -0.10288342169968323,
          -0.22786909931150212,
          -0.2915025419856019,
          -0.22414691870598039,
          -0.1458526487276996,
          -0.292054184429855,
          -0.23642054226955306,
          -0.26993043769337827,
          -0.2458484816707359,
          -0.06272399688424496,
          -0.16350569448626787,
          -0.294253164959019,
          -0.260701264206975,
          -0.18250020424069918,
          -0.028020764522687543,
          -0.27203386837425514,
          -0.22393202696688774,
          -0.2843690927882152,
          -0.06399953791980798,
          -0.21957778357891758,
          -0.18845134319776616,
          -0.25282611081165907,
          -0.26278521919480075,
          -0.21277897520009686,
          -0.21786111048442555,
          -0.3035650413241956,
          -0.13694477074841419,
          -0.1717355105513297,
          -0.3239120243807501,
          -0.11093775722034142,
          -0.15795684618472194,
          -0.23641574321793463,
          -0.19328522033191614,
          -0.23258245438390107,
          -0.2567257242584721,
          -0.2660819572288382,
          -0.27487281088071175,
          -0.29687496568709587,
          -0.20008706709990834,
          -0.28114747727082123,
          -0.31353224797856216,
          -0.27559708995505006,
          -0.22187386329469014,
          -0.1390724752302852,
          -0.15731595061332548,
          -0.1847935179818072,
          -0.22203491641171222,
          -0.19216890995993824,
          -0.08241500677168792,
          -0.15469571127095244,
          -0.2572150281482258,
          -0.1121896560826402,
          -0.1766484089264727,
          -0.24843219508625033,
          -0.25906959952593706,
          -0.12537910328559332,
          -0.22475359657650498,
          -0.18423299020389397,
          -0.1647185845429848,
          -0.20921381885194193,
          -0.2504116199436387,
          -0.3156530425184572,
          -0.24270160522401119,
          -0.04967783252289736,
          -0.20481184194964602,
          -0.18891016818053588,
          -0.1324292700434794,
          -0.23642576873126428,
          -0.27752123835406056,
          -0.243145706939431,
          -0.23323652860719618,
          -0.1299929038637615,
          -0.2710841959788448,
          -0.22869534265161656,
          -0.014961654610269865,
          -0.2734988401652649,
          -0.26114377281270945,
          -0.10511045987662491,
          -0.2576051959000845,
          -0.22187942238151687,
          -0.2319247055119916,
          -0.22506953889219788,
          -0.2774082244568359,
          -0.24561367861429953,
          -0.2547453422005636,
          -0.2547453422005636,
          -0.27319680021020176,
          -0.2682062556642655,
          -0.25748109183580153,
          -0.23223966287003234,
          -0.18989256703155233,
          -0.2839751309080381,
          -0.29193376714767016,
          -0.26810382097047936,
          -0.2571306411669948,
          -0.2247544567675773,
          -0.18421396135708312,
          -0.2340935947847393,
          -0.2654429711959469,
          -0.16666485491570457,
          -0.20322682687214122,
          -0.3117466074707476,
          -0.18214385988546833,
          -0.27203291691883724,
          -0.26463047164285425,
          -0.24286622441326927,
          -0.2246707903427052,
          -0.2593061022249155,
          -0.11109146205552432,
          -0.24962048951059834,
          -0.29417372814673165,
          -0.17597339981817955,
          -0.21888186788536537,
          -0.2004699448929018,
          -0.10541513984265555,
          -0.21522311202632058,
          -0.2740455120455125,
          -0.12137571300904908,
          -0.07776583385657138,
          -0.22195634923148103,
          -0.2632588140748267,
          -0.15442463945500556,
          -0.2019632088375302,
          -0.31465913176383814,
          -0.25232563375274103,
          0.08322893997416013
         ],
         "y": [
          -0.22432945796988008,
          -0.15230602673853919,
          -0.23485103153415873,
          0.01295578986095768,
          0.01295578986095768,
          -0.2770068698226513,
          -0.2770068698226513,
          -0.2805747177226514,
          -0.28709811766114535,
          -0.24978121737343173,
          -0.20723542428316882,
          -0.09382039135849256,
          -0.2862642403154138,
          -0.2813357900257001,
          -0.20396070118334828,
          -0.12520985351240502,
          -0.018127125051964853,
          -0.16481483828066723,
          -0.22498044461120761,
          -0.22929946366533957,
          -0.27120699338342125,
          -0.32399090201793995,
          -0.2365373972174001,
          0.13622169688581343,
          -0.2612045904936124,
          -0.29920223961842457,
          0.21028455446706062,
          -0.19246444316758754,
          -0.26896564164214004,
          -0.11946710628861065,
          -0.2382328755024673,
          -0.033776162379194015,
          -0.2533967090040549,
          -0.08077428211856223,
          -0.24204460847536866,
          -0.15503772214654873,
          -0.35782821012630756,
          -0.28684045640164124,
          -0.32730442442076707,
          -0.2913933030253951,
          -0.14520581950620237,
          -0.21651722119098984,
          -0.13319719516654543,
          -0.13194330456469444,
          -0.19708687489993854,
          -0.19897716952615774,
          0.08837718050830988,
          -0.07081460687800124,
          -0.10232911185795536,
          -0.2854404685804791,
          0.12334869643421983,
          -0.2342068705135837,
          0.01575748583851867,
          0.08837718050830988,
          -0.22261212364689156,
          -0.21548724916136655,
          -0.320039307674139,
          -0.06305088137838055,
          -0.1734268456449623,
          -0.12576789215201067,
          -0.1936796130095318,
          -0.09261498431239797,
          0.012039622200991595,
          -0.33624188011184475,
          -0.23324535564242513,
          -0.27169229132364314,
          0.06629080638178597,
          -0.07061713267037806,
          -0.17738007031045938,
          0.08837718050830988,
          -0.24644431560209787,
          -0.26661838362890533,
          -0.02685349244107829,
          -0.22320300677985427,
          -0.08445002478574895,
          -0.29016724636665897,
          -0.01425803971520442,
          -0.01881922391871078,
          -0.28126360772341286,
          0.010829033870459458,
          -0.3009008147718827,
          -0.16566388037494034,
          -0.21018756644033992,
          -0.33814757770163356,
          -0.310925070825435,
          -0.274256175123666,
          -0.21825293433948445,
          -0.32209920602362696,
          -0.31675434998141655,
          -0.12956058365664433,
          -0.025320804919820052,
          0.09020496983168089,
          -0.2568393078973097,
          -0.08279263881197194,
          -0.3649647038997125,
          -0.2654623152667243,
          -0.2979453549755405,
          -0.3198457302950279,
          -0.2894978063379225,
          -0.23935236002582996,
          -0.1781170719172989,
          -0.18779561094551292,
          -0.08960685098028737,
          -0.17609127459762855,
          -0.20832389886228986,
          -0.2708789181846038,
          -0.2500861863831989,
          -0.24702578610975165,
          -0.24377379554735912,
          -0.023600967714177273,
          -0.19547332018029207,
          -0.2789803413507421,
          -0.13874293883030042,
          -0.13785978005926375,
          -0.13935822656804006,
          -0.19013127052703374,
          -0.17274882581568723,
          -0.18672543049817072,
          -0.3388268354969895,
          -0.14010596193172015,
          0.09130835161875318,
          -0.17162444685082215,
          -0.26024769769076866,
          0.021546250832048565,
          -0.28745957432430214,
          -0.29428073144511685,
          -0.1822762757715804,
          -0.06096849051613779,
          -0.16722412558082056,
          -0.20063236918088384,
          -0.32909371935008364,
          -0.06690689482444316,
          -0.06581346712802773,
          -0.18289703645764008,
          -0.2010284286209192,
          -0.22803641476385436,
          -0.18146007902968692,
          -0.17531096998555004,
          0.05805083561019138,
          -0.3587988031711386,
          -0.189370164582305,
          -0.10705056970408032,
          -0.09786764226473088,
          0.02986139943297036,
          -0.12652233913644662,
          -0.3218318093151369,
          -0.22908843559363365,
          0.011806761486837567,
          -0.19197168799008127,
          -0.20907911703880383,
          -0.20907911703880383,
          -0.2577540081047384,
          -0.2056035725340775,
          -0.28615986670401466,
          -0.18967223063477598,
          -0.10078276022042927,
          -0.1439552087453557,
          -0.08185379468677485,
          -0.21125373544929094,
          0.04754969256061157,
          -0.1696802188135422,
          -0.1097622972005288,
          -0.07309992015506159,
          -0.07786455590368159,
          -0.17425089110067019,
          -0.08234707792876898,
          -0.28351404586078993,
          -0.17884226841984716,
          -0.13134055612949624,
          -0.17511022080443464,
          -0.3005806346962513,
          -0.1282352890670705,
          -0.2707795618700874,
          -0.12318443335993731,
          -0.20809345460393272,
          0.08643301680109813,
          -0.25174903555366923,
          -0.2470815806899498,
          -0.14801430274947414,
          -0.36827775852406136,
          -0.07518578960464808,
          -0.27375101975065264,
          -0.06523821554093008,
          -0.25637976542517993,
          -0.30585505524809536,
          -0.12935907887102835,
          -0.014117782213261529,
          -0.330634224368952,
          -0.24255297157947525,
          -0.21367143025328747,
          -0.26884761712612754
         ],
         "z": [
          -0.06357798603994501,
          -0.13539760109178334,
          -0.12157893196898376,
          0.06443887657897977,
          0.06443887657897977,
          -0.0635640615260435,
          -0.0635640615260435,
          0.08202113436168001,
          0.06331933990463522,
          -0.033302330577309476,
          0.05675737441098864,
          0.1283827984689432,
          0.061770873714432524,
          -0.066227487715826,
          0.027600413213617572,
          0.15363450083688712,
          -0.005013913216574491,
          -0.05166481880009165,
          -0.07423692413742797,
          -0.028925821336361013,
          0.08887184894644874,
          -0.03414857182822705,
          -0.12266687582191022,
          -0.08543733622923218,
          -0.056385892762749676,
          0.13992777971950365,
          -0.0018840373400286225,
          -0.09439379460371797,
          -0.06656872362631035,
          -0.16921830428462742,
          -0.12893251691343574,
          0.10363331742237386,
          -0.03595840471984942,
          0.006183551675029865,
          -0.07739575719208278,
          -0.12385386601324526,
          0.07279675254094235,
          -0.04419114200378871,
          0.1464584139572148,
          0.007242214651636116,
          -0.11574947481621835,
          -0.05110811986248975,
          -0.13686490965570958,
          0.02819531358348661,
          -0.13418522356778703,
          -0.14784019014384278,
          0.09669689833745872,
          0.04300061608429812,
          0.020504866933567335,
          -0.15123501489485358,
          0.09569968880538078,
          -0.10578442297263851,
          -0.14220420579051324,
          0.09669689833745872,
          -0.1190991973285506,
          -0.18149694861211324,
          -0.05554521328711568,
          -0.09405003189794728,
          -0.0674534432088181,
          -0.15630674783765475,
          -0.11310767594862975,
          -0.19571433022370013,
          0.17489278444780929,
          0.1525139859636705,
          -0.028990528338002326,
          0.17079968099451442,
          -0.00892005704681252,
          0.06999784203426228,
          -0.07511244340441628,
          0.09669689833745872,
          -0.060421867847591446,
          -0.07498817348938895,
          0.006765787249566083,
          -0.10426893387205986,
          -0.10192512886312038,
          0.13105161074301594,
          -0.12005337444099382,
          -0.04810669106666304,
          -0.05056593980305136,
          -0.08426595148806909,
          0.01264470173473719,
          -0.21345013751970676,
          -0.050832387227435924,
          0.1992940690579881,
          0.06927997249474917,
          -0.05112967445365411,
          0.048965643458887737,
          0.028586888673201413,
          0.08757092205221952,
          -0.20835462681325712,
          0.011579334275486845,
          0.09714538463833661,
          -0.007056180159790846,
          0.05268306407946876,
          0.14093528621600285,
          -0.10734010184050305,
          0.02579703989580209,
          0.08865165713429518,
          0.009599719699760142,
          -0.030007862606592373,
          0.04040271345794121,
          0.07671870609057001,
          -0.046720465495912876,
          -0.24342185283104822,
          -0.04819248377589637,
          0.06506743655273788,
          -0.1104357487058449,
          0.015473461009172403,
          -0.0738552758193735,
          -0.06824256329578003,
          -0.1595820212066406,
          -0.07081557818675631,
          0.020052403045875387,
          -0.1397174820158564,
          -0.015128262197711096,
          -0.0945392550253903,
          0.018653596370189433,
          0.07682985861836923,
          -0.010578720896178345,
          -0.17147578499872923,
          0.019599054897742812,
          -0.14553127191028342,
          -0.04551261998748611,
          0.1387987353900203,
          0.10900054469038478,
          -0.10983898647628566,
          -0.10789569170422998,
          -0.03211282703592245,
          -0.04463931578076716,
          -0.045035914297311415,
          0.12867389320278136,
          -0.13523760599680468,
          -0.09196179856609522,
          -0.15099109045544326,
          -0.08034949818481991,
          -0.06650870077520805,
          -0.007352357579161487,
          -0.09447271123825539,
          -0.13154300873471086,
          0.3047071347624992,
          -0.16035088257190683,
          -0.11428406873032225,
          -0.12952139972156532,
          -0.009575556122473438,
          -0.07220070222504874,
          -0.023915562178287133,
          0.10603481746128077,
          0.017399924725473456,
          -0.09534093397220443,
          -0.07530358298058117,
          -0.07530358298058117,
          -0.13101363603083152,
          -0.028848093937828254,
          -0.06681624133380663,
          -0.09556654763590984,
          0.05135582814919699,
          -0.12917720763222826,
          -0.005998203137022772,
          -0.13603301757180478,
          -0.07884380320897855,
          -0.1882204625611225,
          -0.15438874646706488,
          -0.031226001391073527,
          -0.06065514285305588,
          0.043852962085015955,
          -0.14844911667068697,
          -0.0743102513132128,
          0.11849532317407728,
          -0.10795635801507522,
          -0.05491674224156027,
          -0.06055256935150347,
          -0.20022772232440544,
          -0.10152070539221156,
          -0.13831529206102675,
          0.054134908831283975,
          0.018891530877465416,
          -0.13365777784015115,
          -0.12008132467801767,
          -0.0543796472534727,
          0.19491055235086663,
          -0.14346660493692706,
          -0.15490403858893517,
          -0.11964731005185017,
          0.043519290601717574,
          0.02301922431741587,
          -0.12359861441277124,
          -0.22920042960831258,
          0.0237589223250573,
          -0.13026616045634315,
          -0.154626764284862,
          0.4563195363774015
         ]
        },
        {
         "customdata": [
          [
           "TOMPKINS FINANCIAL CORP",
           "State Commercial Banks (commercial banking)"
          ],
          [
           "TRIUMPH BANCORP, INC.",
           "State Commercial Banks (commercial banking)"
          ],
          [
           "GREAT SOUTHERN BANCORP, INC.",
           "State Commercial Banks (commercial banking)"
          ],
          [
           "SOUTH STATE CORP",
           "State Commercial Banks (commercial banking)"
          ],
          [
           "OLD LINE BANCSHARES INC",
           "State Commercial Banks (commercial banking)"
          ],
          [
           "SEACOAST BANKING CORP OF FLORIDA",
           "State Commercial Banks (commercial banking)"
          ],
          [
           "CITIZENS FINANCIAL GROUP INC/RI",
           "State Commercial Banks (commercial banking)"
          ],
          [
           "COMMUNITY WEST BANCSHARES /",
           "State Commercial Banks (commercial banking)"
          ],
          [
           "MACKINAC FINANCIAL CORP /MI/",
           "State Commercial Banks (commercial banking)"
          ],
          [
           "UNITY BANCORP INC /NJ/",
           "State Commercial Banks (commercial banking)"
          ],
          [
           "UNITY BANCORP INC /NJ/",
           "State Commercial Banks (commercial banking)"
          ],
          [
           "EAST WEST BANCORP INC",
           "State Commercial Banks (commercial banking)"
          ],
          [
           "HEARTLAND FINANCIAL USA INC",
           "State Commercial Banks (commercial banking)"
          ],
          [
           "COUNTY BANCORP, INC.",
           "State Commercial Banks (commercial banking)"
          ],
          [
           "CHEMUNG FINANCIAL CORP",
           "State Commercial Banks (commercial banking)"
          ],
          [
           "BRYN MAWR BANK CORP",
           "State Commercial Banks (commercial banking)"
          ],
          [
           "EAGLE BANCORP MONTANA, INC.",
           "State Commercial Banks (commercial banking)"
          ],
          [
           "1ST SOURCE CORP",
           "State Commercial Banks (commercial banking)"
          ],
          [
           "SERVISFIRST BANCSHARES, INC.",
           "State Commercial Banks (commercial banking)"
          ],
          [
           "SIERRA BANCORP",
           "State Commercial Banks (commercial banking)"
          ],
          [
           "HOPFED BANCORP INC",
           "State Commercial Banks (commercial banking)"
          ],
          [
           "HOPFED BANCORP INC",
           "State Commercial Banks (commercial banking)"
          ],
          [
           "FIRST FINANCIAL BANKSHARES INC",
           "State Commercial Banks (commercial banking)"
          ],
          [
           "CHEMICAL FINANCIAL CORP",
           "State Commercial Banks (commercial banking)"
          ],
          [
           "SECURITY FEDERAL CORP",
           "State Commercial Banks (commercial banking)"
          ],
          [
           "FIRST FINANCIAL CORP /IN/",
           "State Commercial Banks (commercial banking)"
          ],
          [
           "WESTERN ALLIANCE BANCORPORATION",
           "State Commercial Banks (commercial banking)"
          ],
          [
           "TRISTATE CAPITAL HOLDINGS, INC.",
           "State Commercial Banks (commercial banking)"
          ],
          [
           "UNION BANKSHARES CORP",
           "State Commercial Banks (commercial banking)"
          ],
          [
           "CAROLINA TRUST BANCSHARES, INC.",
           "State Commercial Banks (commercial banking)"
          ],
          [
           "COMMUNITY TRUST BANCORP INC /KY/",
           "State Commercial Banks (commercial banking)"
          ],
          [
           "HILLS BANCORPORATION",
           "State Commercial Banks (commercial banking)"
          ],
          [
           "MACATAWA BANK CORP",
           "State Commercial Banks (commercial banking)"
          ],
          [
           "PREMIER FINANCIAL BANCORP INC",
           "State Commercial Banks (commercial banking)"
          ],
          [
           "KENTUCKY BANCSHARES INC /KY/",
           "State Commercial Banks (commercial banking)"
          ],
          [
           "RIVER FINANCIAL CORP",
           "State Commercial Banks (commercial banking)"
          ],
          [
           "BAR HARBOR BANKSHARES",
           "State Commercial Banks (commercial banking)"
          ],
          [
           "PARKE BANCORP, INC.",
           "State Commercial Banks (commercial banking)"
          ],
          [
           "RANDOLPH BANCORP, INC.",
           "State Commercial Banks (commercial banking)"
          ],
          [
           "BANK OF HAWAII CORP",
           "State Commercial Banks (commercial banking)"
          ],
          [
           "BSB BANCORP, INC.",
           "State Commercial Banks (commercial banking)"
          ],
          [
           "INDEPENDENT BANK CORP /MI/",
           "State Commercial Banks (commercial banking)"
          ],
          [
           "PACIFIC PREMIER BANCORP INC",
           "State Commercial Banks (commercial banking)"
          ],
          [
           "OHIO VALLEY BANC CORP",
           "State Commercial Banks (commercial banking)"
          ],
          [
           "CVB FINANCIAL CORP",
           "State Commercial Banks (commercial banking)"
          ],
          [
           "BANK OF NEW YORK MELLON CORP",
           "State Commercial Banks (commercial banking)"
          ],
          [
           "TWO RIVER BANCORP",
           "State Commercial Banks (commercial banking)"
          ],
          [
           "STEWARDSHIP FINANCIAL CORP",
           "State Commercial Banks (commercial banking)"
          ],
          [
           "LAKELAND FINANCIAL CORP",
           "State Commercial Banks (commercial banking)"
          ],
          [
           "FAUQUIER BANKSHARES, INC.",
           "State Commercial Banks (commercial banking)"
          ],
          [
           "LIVE OAK BANCSHARES, INC.",
           "State Commercial Banks (commercial banking)"
          ],
          [
           "M&T BANK CORP",
           "State Commercial Banks (commercial banking)"
          ],
          [
           "INTERNATIONAL BANCSHARES CORP",
           "State Commercial Banks (commercial banking)"
          ],
          [
           "SUMMIT FINANCIAL GROUP INC",
           "State Commercial Banks (commercial banking)"
          ],
          [
           "SUSSEX BANCORP",
           "State Commercial Banks (commercial banking)"
          ],
          [
           "PRIME MERIDIAN HOLDING CO",
           "State Commercial Banks (commercial banking)"
          ],
          [
           "BANKWELL FINANCIAL GROUP, INC.",
           "State Commercial Banks (commercial banking)"
          ],
          [
           "SOUTHWEST GEORGIA FINANCIAL CORP",
           "State Commercial Banks (commercial banking)"
          ],
          [
           "BANK OF COMMERCE HOLDINGS",
           "State Commercial Banks (commercial banking)"
          ],
          [
           "BANK OF COMMERCE HOLDINGS",
           "State Commercial Banks (commercial banking)"
          ],
          [
           "UNITED BANCORP INC /OH/",
           "State Commercial Banks (commercial banking)"
          ],
          [
           "PARKWAY ACQUISITION CORP.",
           "State Commercial Banks (commercial banking)"
          ],
          [
           "INVESTAR HOLDING CORP",
           "State Commercial Banks (commercial banking)"
          ],
          [
           "RENASANT CORP",
           "State Commercial Banks (commercial banking)"
          ],
          [
           "RELIANT BANCORP, INC.",
           "State Commercial Banks (commercial banking)"
          ],
          [
           "FIRST COMMUNITY CORP /SC/",
           "State Commercial Banks (commercial banking)"
          ],
          [
           "FIRST FINANCIAL NORTHWEST, INC.",
           "State Commercial Banks (commercial banking)"
          ],
          [
           "COMMERCE BANCSHARES INC /MO/",
           "State Commercial Banks (commercial banking)"
          ],
          [
           "JUNIATA VALLEY FINANCIAL CORP",
           "State Commercial Banks (commercial banking)"
          ],
          [
           "HOWARD BANCORP INC",
           "State Commercial Banks (commercial banking)"
          ],
          [
           "EAGLE FINANCIAL SERVICES INC",
           "State Commercial Banks (commercial banking)"
          ],
          [
           "MVB FINANCIAL CORP",
           "State Commercial Banks (commercial banking)"
          ],
          [
           "INDEPENDENT BANK GROUP, INC.",
           "State Commercial Banks (commercial banking)"
          ],
          [
           "CONNECTONE BANCORP, INC.",
           "State Commercial Banks (commercial banking)"
          ],
          [
           "REPUBLIC BANCORP INC /KY/",
           "State Commercial Banks (commercial banking)"
          ],
          [
           "SOUTHSIDE BANCSHARES INC",
           "State Commercial Banks (commercial banking)"
          ],
          [
           "FIRST HAWAIIAN, INC.",
           "State Commercial Banks (commercial banking)"
          ],
          [
           "FIRST US BANCSHARES INC",
           "State Commercial Banks (commercial banking)"
          ],
          [
           "COMMUNITY FINANCIAL CORP /MD/",
           "State Commercial Banks (commercial banking)"
          ],
          [
           "SVB FINANCIAL GROUP",
           "State Commercial Banks (commercial banking)"
          ],
          [
           "CATHAY GENERAL BANCORP",
           "State Commercial Banks (commercial banking)"
          ],
          [
           "BANK OF THE JAMES FINANCIAL GROUP INC",
           "State Commercial Banks (commercial banking)"
          ],
          [
           "FLUSHING FINANCIAL CORP",
           "State Commercial Banks (commercial banking)"
          ],
          [
           "FRANKLIN FINANCIAL SERVICES CORP /PA/",
           "State Commercial Banks (commercial banking)"
          ],
          [
           "CENTRAL PACIFIC FINANCIAL CORP",
           "State Commercial Banks (commercial banking)"
          ],
          [
           "CENTRAL PACIFIC FINANCIAL CORP",
           "State Commercial Banks (commercial banking)"
          ],
          [
           "CENTRAL VALLEY COMMUNITY BANCORP",
           "State Commercial Banks (commercial banking)"
          ],
          [
           "F&M BANK CORP",
           "State Commercial Banks (commercial banking)"
          ],
          [
           "FARMERS NATIONAL BANC CORP /OH/",
           "State Commercial Banks (commercial banking)"
          ],
          [
           "CITIZENS & NORTHERN CORP",
           "State Commercial Banks (commercial banking)"
          ],
          [
           "GUARANTY FEDERAL BANCSHARES INC",
           "State Commercial Banks (commercial banking)"
          ],
          [
           "CAROLINA FINANCIAL CORP",
           "State Commercial Banks (commercial banking)"
          ],
          [
           "FIRST INTERNET BANCORP",
           "State Commercial Banks (commercial banking)"
          ],
          [
           "HARBORONE BANCORP, INC.",
           "State Commercial Banks (commercial banking)"
          ],
          [
           "UNITED BANKSHARES INC/WV",
           "State Commercial Banks (commercial banking)"
          ],
          [
           "INDEPENDENT BANK CORP",
           "State Commercial Banks (commercial banking)"
          ],
          [
           "CITIZENS FINANCIAL SERVICES INC",
           "State Commercial Banks (commercial banking)"
          ],
          [
           "NORWOOD FINANCIAL CORP",
           "State Commercial Banks (commercial banking)"
          ],
          [
           "WEST BANCORPORATION INC",
           "State Commercial Banks (commercial banking)"
          ],
          [
           "CUSTOMERS BANCORP, INC.",
           "State Commercial Banks (commercial banking)"
          ],
          [
           "WEST END INDIANA BANCSHARES, INC.",
           "State Commercial Banks (commercial banking)"
          ],
          [
           "ATLANTIC CAPITAL BANCSHARES, INC.",
           "State Commercial Banks (commercial banking)"
          ],
          [
           "IBERIABANK CORP",
           "State Commercial Banks (commercial banking)"
          ],
          [
           "MERCANTILE BANK CORP",
           "State Commercial Banks (commercial banking)"
          ],
          [
           "GERMAN AMERICAN BANCORP, INC.",
           "State Commercial Banks (commercial banking)"
          ],
          [
           "S&T BANCORP INC",
           "State Commercial Banks (commercial banking)"
          ],
          [
           "HILLTOP HOLDINGS INC.",
           "State Commercial Banks (commercial banking)"
          ],
          [
           "CB FINANCIAL SERVICES, INC.",
           "State Commercial Banks (commercial banking)"
          ],
          [
           "ENTERPRISE FINANCIAL SERVICES CORP",
           "State Commercial Banks (commercial banking)"
          ],
          [
           "AUBURN NATIONAL BANCORPORATION, INC",
           "State Commercial Banks (commercial banking)"
          ],
          [
           "FIRST KEYSTONE CORP",
           "State Commercial Banks (commercial banking)"
          ],
          [
           "TEXAS CAPITAL BANCSHARES INC/TX",
           "State Commercial Banks (commercial banking)"
          ],
          [
           "VILLAGE BANK & TRUST FINANCIAL CORP.",
           "State Commercial Banks (commercial banking)"
          ],
          [
           "STOCK YARDS BANCORP, INC.",
           "State Commercial Banks (commercial banking)"
          ],
          [
           "BUSINESS FIRST BANCSHARES, INC.",
           "State Commercial Banks (commercial banking)"
          ]
         ],
         "hovertemplate": "color=State Commercial Banks (commercial banking)<br>0=%{x}<br>1=%{y}<br>2=%{z}<br>name=%{customdata[0]}<br>industry=%{customdata[1]}<extra></extra>",
         "legendgroup": "State Commercial Banks (commercial banking)",
         "marker": {
          "color": "#FFA15A",
          "symbol": "circle"
         },
         "mode": "markers",
         "name": "State Commercial Banks (commercial banking)",
         "scene": "scene",
         "showlegend": true,
         "type": "scatter3d",
         "x": [
          -0.3527189963467414,
          -0.2576294317253281,
          -0.37734699925657733,
          -0.3279958158723044,
          -0.34175420980719223,
          -0.335369660535421,
          -0.2677666566119347,
          -0.26178746298524314,
          -0.35071967310357766,
          -0.3793669369988853,
          -0.3793669369988853,
          -0.16947550925154226,
          -0.3337605333506839,
          -0.346988065172545,
          -0.3687015722397708,
          -0.31897488955494585,
          -0.38916236397638876,
          -0.305121662939784,
          -0.30653242631744265,
          -0.3350428668685362,
          -0.4110407349414177,
          -0.4110407349414177,
          -0.29181650365194595,
          -0.3255820658721652,
          -0.3959760694942658,
          -0.3704745013797735,
          -0.3629844087941579,
          -0.2730680964051133,
          -0.34571541780882425,
          -0.3570653572809753,
          -0.2930955466900034,
          -0.39665718855823423,
          -0.3581582464111813,
          -0.288338992466028,
          -0.3672283464050446,
          -0.36153893960639566,
          -0.38161657126691134,
          -0.40975480443220164,
          -0.37777760332375404,
          -0.2647224572290946,
          -0.36946186025149735,
          -0.2160713262226809,
          -0.3415199332115675,
          -0.34835411733219457,
          -0.3182333476499426,
          -0.18855024148577812,
          -0.34861488164697074,
          -0.3780247674108359,
          -0.3436344486755143,
          -0.38567411965337844,
          -0.35461258891081954,
          -0.3179699943761271,
          -0.33908014919059765,
          -0.3207478231657162,
          -0.33742243249367715,
          -0.32113414876645885,
          -0.30634765411124076,
          -0.3657068967530027,
          -0.31016593400904724,
          -0.31016593400904724,
          -0.3583620490229002,
          -0.3442967749819991,
          -0.34791973268749365,
          -0.37815910533432134,
          -0.3421084848858053,
          -0.33813302839323794,
          -0.3871780670340914,
          -0.2987384431446076,
          -0.35962954220753135,
          -0.24158695387842336,
          -0.35835538942133294,
          -0.33785920691476606,
          -0.3514799943134548,
          -0.356634643248307,
          -0.3436612546805811,
          -0.33994348933770185,
          -0.31325919966979315,
          -0.33108760371223084,
          -0.3855791575051577,
          -0.29983650785836424,
          -0.3464784894529359,
          -0.33693647875588384,
          -0.33523661972362206,
          -0.39287069582503203,
          -0.3155644796418519,
          -0.3155644796418519,
          -0.3458927620718642,
          0.006994846929503715,
          -0.36815047573600806,
          -0.27176270888811643,
          -0.3934073935049091,
          -0.3475093294986314,
          -0.3026158287468898,
          -0.3891600136656017,
          -0.3081384082416324,
          -0.3767394129176254,
          -0.3554436128599014,
          -0.411365487688632,
          -0.3485548635882078,
          -0.2634655354407573,
          -0.35058511774109724,
          -0.3008473396341831,
          -0.3264481088692939,
          -0.30704650490869306,
          -0.34526250497336947,
          -0.11317147919722902,
          -0.3592043704316756,
          -0.36436121560904855,
          -0.2423497464932019,
          -0.36519288526306004,
          -0.3598908353629097,
          -0.2773074447616302,
          -0.3157589679614178,
          -0.3211906640526999,
          -0.30704009116791287
         ],
         "y": [
          0.3784991602894917,
          0.21562274945991242,
          0.15436083028784672,
          0.4513119305029222,
          0.2686507549627769,
          0.4629285672071441,
          0.3379305381132026,
          0.1754696110726685,
          0.3607129006217856,
          0.41855306600159276,
          0.41855306600159276,
          0.02085509671536209,
          0.3648499398730622,
          0.44297323326365967,
          0.4637629923773712,
          0.4073111008061258,
          0.28761379840829937,
          0.367573891059173,
          0.3609239606469495,
          0.4236096070441796,
          0.36324590186554373,
          0.36324590186554373,
          0.3981101779851865,
          0.4128527832312602,
          0.3396432243603032,
          0.45886084144303785,
          0.13397549354942495,
          0.2801541282217059,
          0.4680426468193012,
          0.46150613398958773,
          0.2781117650754766,
          0.40938028688555533,
          0.31887018742196116,
          0.303981904054354,
          0.4189479935784265,
          0.47223434582537555,
          0.4028219732444665,
          0.35303148813504326,
          0.3224306555837272,
          0.4561649003165381,
          0.27516868170597,
          0.060726304344950986,
          0.39777807828803724,
          0.4088281773970969,
          0.4405565946975175,
          0.1822058466447492,
          0.31477134152227076,
          0.4443024295399633,
          0.4661403678988891,
          0.4929934732910793,
          0.4737581653456285,
          0.41432878868362827,
          0.46656489626726644,
          0.41557219663250633,
          0.4273204409853628,
          0.33212896904252787,
          0.35987723518285786,
          0.36629507977185644,
          0.46043688882122485,
          0.46043688882122485,
          0.44086579655543245,
          0.46953800546908403,
          0.4282360113595375,
          0.35590298064933,
          0.4730463856091324,
          0.44164539092710675,
          0.23017223906798842,
          0.421335881402757,
          0.47423561024789423,
          0.07142973354394136,
          0.4908142585160544,
          0.47385003737459763,
          0.3989165690383052,
          0.43434674636288256,
          0.4546740083580477,
          0.4738608361444668,
          0.4486217534281296,
          0.4639337500005676,
          0.2647405311588735,
          0.42540270398397984,
          0.4493245593717598,
          0.48120162859699456,
          0.2594592028636883,
          0.45174990376268076,
          0.45327922367241114,
          0.45327922367241114,
          0.45877927570898125,
          -0.019051100738663382,
          0.4487133390894643,
          0.2298025141985767,
          0.32236500031126447,
          0.4440458887685668,
          0.39275286136600385,
          0.35229297232825735,
          0.3218662886107578,
          0.2280339906292188,
          0.47227853535240044,
          0.32456513939110243,
          0.41930312103913003,
          0.287037490046114,
          0.2416645838312814,
          0.40333947248879326,
          0.4250207259600601,
          0.27529171530814844,
          0.4359679147781519,
          0.13925059251075347,
          0.41679947663124667,
          0.24449764592804066,
          0.18684636763756504,
          0.47043305281144027,
          0.4301455959756355,
          0.39086253103244883,
          0.3839367009633335,
          0.45281608370915594,
          0.371959861660786
         ],
         "z": [
          0.08808017617213035,
          0.03264613074044433,
          0.061982485531957655,
          0.08710635453014363,
          0.05361637822751412,
          0.07705981932893426,
          0.051674242869653254,
          0.2166999393076272,
          0.0862777885727962,
          0.12041003151754182,
          0.12041003151754182,
          0.025427325225078085,
          0.08194654340934862,
          0.08576654350504595,
          0.10416765205026485,
          0.08728745789899786,
          0.07648347832035576,
          0.05775122736708756,
          0.07369280112624613,
          0.1109644370149829,
          0.09221387707786012,
          0.09221387707786012,
          0.027128475581818967,
          0.026672003660550673,
          0.061693144914248106,
          0.04348553637726839,
          0.13886544793565772,
          0.07860926843777485,
          0.08834241424515989,
          0.057228667399098106,
          0.03912635058748505,
          0.07080200769127667,
          0.04350966018925698,
          0.21637056999710816,
          0.07536565562579138,
          0.041095606792967074,
          0.0720801959740203,
          0.08875571225612881,
          0.072966270383381,
          0.04707971678828603,
          0.06819341158067876,
          0.1012748315158379,
          0.05958864417479715,
          0.08072363279575405,
          0.020451561794700562,
          0.14343917559117866,
          0.1300015902554753,
          0.1026086889306064,
          0.0699388427701681,
          0.1043931755879785,
          0.043786097482205785,
          0.004271755895328604,
          0.04190430758259125,
          0.09271195146517765,
          0.07433735889845698,
          0.12506405628201558,
          0.03809529988840187,
          0.050641298338553756,
          0.06265539711428546,
          0.06265539711428546,
          0.0655890034001993,
          0.038006451670145304,
          0.06673952555952266,
          0.07152016703386567,
          0.09290079525916073,
          0.04416205983986952,
          0.06096401831867989,
          0.10941383021378169,
          0.10031229476056135,
          -0.04596385587198266,
          0.04760249800379363,
          0.045751876923585795,
          0.07183072675782345,
          0.12230984892097684,
          0.10235332831418399,
          0.02078808256633719,
          0.014286795799064105,
          0.05257415286434316,
          0.09186289663009099,
          0.0685707901953706,
          0.07246770534504578,
          0.06740803999497814,
          0.042894340349902624,
          0.10127763222249886,
          0.033011129710302956,
          0.033011129710302956,
          0.07531419638669139,
          0.1393768589407516,
          0.01953498757702455,
          0.24776980934642107,
          0.09321801442126164,
          0.03834099282377402,
          0.12243248830279764,
          0.10290577639923126,
          0.0884854239404737,
          0.16741457966246412,
          0.05122447777470834,
          0.0931680478136233,
          0.055419473904072765,
          0.21641182766664752,
          0.05104108506507675,
          0.06987356553257985,
          0.0001968646686292455,
          0.08234579986642915,
          0.03258212274628557,
          0.37196961029209336,
          0.018678624773578026,
          0.0428363137065554,
          0.0011400748398248215,
          0.0949571802102597,
          0.07202923593407899,
          0.008321895091141746,
          0.08311639379122672,
          0.05946983833075398,
          0.0756920484580726
         ]
        }
       ],
       "layout": {
        "height": 700,
        "legend": {
         "title": {
          "text": "color"
         },
         "tracegroupgap": 0
        },
        "margin": {
         "t": 60
        },
        "scene": {
         "aspectmode": "auto",
         "aspectratio": {
          "x": 0.9924559248300949,
          "y": 0.9582578714571243,
          "z": 1.051492975818834
         },
         "domain": {
          "x": [
           0,
           1
          ],
          "y": [
           0,
           1
          ]
         },
         "xaxis": {
          "title": {
           "text": "0"
          },
          "type": "linear"
         },
         "yaxis": {
          "title": {
           "text": "1"
          },
          "type": "linear"
         },
         "zaxis": {
          "title": {
           "text": "2"
          },
          "type": "linear"
         }
        },
        "template": {
         "data": {
          "bar": [
           {
            "error_x": {
             "color": "#2a3f5f"
            },
            "error_y": {
             "color": "#2a3f5f"
            },
            "marker": {
             "line": {
              "color": "#E5ECF6",
              "width": 0.5
             },
             "pattern": {
              "fillmode": "overlay",
              "size": 10,
              "solidity": 0.2
             }
            },
            "type": "bar"
           }
          ],
          "barpolar": [
           {
            "marker": {
             "line": {
              "color": "#E5ECF6",
              "width": 0.5
             },
             "pattern": {
              "fillmode": "overlay",
              "size": 10,
              "solidity": 0.2
             }
            },
            "type": "barpolar"
           }
          ],
          "carpet": [
           {
            "aaxis": {
             "endlinecolor": "#2a3f5f",
             "gridcolor": "white",
             "linecolor": "white",
             "minorgridcolor": "white",
             "startlinecolor": "#2a3f5f"
            },
            "baxis": {
             "endlinecolor": "#2a3f5f",
             "gridcolor": "white",
             "linecolor": "white",
             "minorgridcolor": "white",
             "startlinecolor": "#2a3f5f"
            },
            "type": "carpet"
           }
          ],
          "choropleth": [
           {
            "colorbar": {
             "outlinewidth": 0,
             "ticks": ""
            },
            "type": "choropleth"
           }
          ],
          "contour": [
           {
            "colorbar": {
             "outlinewidth": 0,
             "ticks": ""
            },
            "colorscale": [
             [
              0,
              "#0d0887"
             ],
             [
              0.1111111111111111,
              "#46039f"
             ],
             [
              0.2222222222222222,
              "#7201a8"
             ],
             [
              0.3333333333333333,
              "#9c179e"
             ],
             [
              0.4444444444444444,
              "#bd3786"
             ],
             [
              0.5555555555555556,
              "#d8576b"
             ],
             [
              0.6666666666666666,
              "#ed7953"
             ],
             [
              0.7777777777777778,
              "#fb9f3a"
             ],
             [
              0.8888888888888888,
              "#fdca26"
             ],
             [
              1,
              "#f0f921"
             ]
            ],
            "type": "contour"
           }
          ],
          "contourcarpet": [
           {
            "colorbar": {
             "outlinewidth": 0,
             "ticks": ""
            },
            "type": "contourcarpet"
           }
          ],
          "heatmap": [
           {
            "colorbar": {
             "outlinewidth": 0,
             "ticks": ""
            },
            "colorscale": [
             [
              0,
              "#0d0887"
             ],
             [
              0.1111111111111111,
              "#46039f"
             ],
             [
              0.2222222222222222,
              "#7201a8"
             ],
             [
              0.3333333333333333,
              "#9c179e"
             ],
             [
              0.4444444444444444,
              "#bd3786"
             ],
             [
              0.5555555555555556,
              "#d8576b"
             ],
             [
              0.6666666666666666,
              "#ed7953"
             ],
             [
              0.7777777777777778,
              "#fb9f3a"
             ],
             [
              0.8888888888888888,
              "#fdca26"
             ],
             [
              1,
              "#f0f921"
             ]
            ],
            "type": "heatmap"
           }
          ],
          "heatmapgl": [
           {
            "colorbar": {
             "outlinewidth": 0,
             "ticks": ""
            },
            "colorscale": [
             [
              0,
              "#0d0887"
             ],
             [
              0.1111111111111111,
              "#46039f"
             ],
             [
              0.2222222222222222,
              "#7201a8"
             ],
             [
              0.3333333333333333,
              "#9c179e"
             ],
             [
              0.4444444444444444,
              "#bd3786"
             ],
             [
              0.5555555555555556,
              "#d8576b"
             ],
             [
              0.6666666666666666,
              "#ed7953"
             ],
             [
              0.7777777777777778,
              "#fb9f3a"
             ],
             [
              0.8888888888888888,
              "#fdca26"
             ],
             [
              1,
              "#f0f921"
             ]
            ],
            "type": "heatmapgl"
           }
          ],
          "histogram": [
           {
            "marker": {
             "pattern": {
              "fillmode": "overlay",
              "size": 10,
              "solidity": 0.2
             }
            },
            "type": "histogram"
           }
          ],
          "histogram2d": [
           {
            "colorbar": {
             "outlinewidth": 0,
             "ticks": ""
            },
            "colorscale": [
             [
              0,
              "#0d0887"
             ],
             [
              0.1111111111111111,
              "#46039f"
             ],
             [
              0.2222222222222222,
              "#7201a8"
             ],
             [
              0.3333333333333333,
              "#9c179e"
             ],
             [
              0.4444444444444444,
              "#bd3786"
             ],
             [
              0.5555555555555556,
              "#d8576b"
             ],
             [
              0.6666666666666666,
              "#ed7953"
             ],
             [
              0.7777777777777778,
              "#fb9f3a"
             ],
             [
              0.8888888888888888,
              "#fdca26"
             ],
             [
              1,
              "#f0f921"
             ]
            ],
            "type": "histogram2d"
           }
          ],
          "histogram2dcontour": [
           {
            "colorbar": {
             "outlinewidth": 0,
             "ticks": ""
            },
            "colorscale": [
             [
              0,
              "#0d0887"
             ],
             [
              0.1111111111111111,
              "#46039f"
             ],
             [
              0.2222222222222222,
              "#7201a8"
             ],
             [
              0.3333333333333333,
              "#9c179e"
             ],
             [
              0.4444444444444444,
              "#bd3786"
             ],
             [
              0.5555555555555556,
              "#d8576b"
             ],
             [
              0.6666666666666666,
              "#ed7953"
             ],
             [
              0.7777777777777778,
              "#fb9f3a"
             ],
             [
              0.8888888888888888,
              "#fdca26"
             ],
             [
              1,
              "#f0f921"
             ]
            ],
            "type": "histogram2dcontour"
           }
          ],
          "mesh3d": [
           {
            "colorbar": {
             "outlinewidth": 0,
             "ticks": ""
            },
            "type": "mesh3d"
           }
          ],
          "parcoords": [
           {
            "line": {
             "colorbar": {
              "outlinewidth": 0,
              "ticks": ""
             }
            },
            "type": "parcoords"
           }
          ],
          "pie": [
           {
            "automargin": true,
            "type": "pie"
           }
          ],
          "scatter": [
           {
            "marker": {
             "colorbar": {
              "outlinewidth": 0,
              "ticks": ""
             }
            },
            "type": "scatter"
           }
          ],
          "scatter3d": [
           {
            "line": {
             "colorbar": {
              "outlinewidth": 0,
              "ticks": ""
             }
            },
            "marker": {
             "colorbar": {
              "outlinewidth": 0,
              "ticks": ""
             }
            },
            "type": "scatter3d"
           }
          ],
          "scattercarpet": [
           {
            "marker": {
             "colorbar": {
              "outlinewidth": 0,
              "ticks": ""
             }
            },
            "type": "scattercarpet"
           }
          ],
          "scattergeo": [
           {
            "marker": {
             "colorbar": {
              "outlinewidth": 0,
              "ticks": ""
             }
            },
            "type": "scattergeo"
           }
          ],
          "scattergl": [
           {
            "marker": {
             "colorbar": {
              "outlinewidth": 0,
              "ticks": ""
             }
            },
            "type": "scattergl"
           }
          ],
          "scattermapbox": [
           {
            "marker": {
             "colorbar": {
              "outlinewidth": 0,
              "ticks": ""
             }
            },
            "type": "scattermapbox"
           }
          ],
          "scatterpolar": [
           {
            "marker": {
             "colorbar": {
              "outlinewidth": 0,
              "ticks": ""
             }
            },
            "type": "scatterpolar"
           }
          ],
          "scatterpolargl": [
           {
            "marker": {
             "colorbar": {
              "outlinewidth": 0,
              "ticks": ""
             }
            },
            "type": "scatterpolargl"
           }
          ],
          "scatterternary": [
           {
            "marker": {
             "colorbar": {
              "outlinewidth": 0,
              "ticks": ""
             }
            },
            "type": "scatterternary"
           }
          ],
          "surface": [
           {
            "colorbar": {
             "outlinewidth": 0,
             "ticks": ""
            },
            "colorscale": [
             [
              0,
              "#0d0887"
             ],
             [
              0.1111111111111111,
              "#46039f"
             ],
             [
              0.2222222222222222,
              "#7201a8"
             ],
             [
              0.3333333333333333,
              "#9c179e"
             ],
             [
              0.4444444444444444,
              "#bd3786"
             ],
             [
              0.5555555555555556,
              "#d8576b"
             ],
             [
              0.6666666666666666,
              "#ed7953"
             ],
             [
              0.7777777777777778,
              "#fb9f3a"
             ],
             [
              0.8888888888888888,
              "#fdca26"
             ],
             [
              1,
              "#f0f921"
             ]
            ],
            "type": "surface"
           }
          ],
          "table": [
           {
            "cells": {
             "fill": {
              "color": "#EBF0F8"
             },
             "line": {
              "color": "white"
             }
            },
            "header": {
             "fill": {
              "color": "#C8D4E3"
             },
             "line": {
              "color": "white"
             }
            },
            "type": "table"
           }
          ]
         },
         "layout": {
          "annotationdefaults": {
           "arrowcolor": "#2a3f5f",
           "arrowhead": 0,
           "arrowwidth": 1
          },
          "autotypenumbers": "strict",
          "coloraxis": {
           "colorbar": {
            "outlinewidth": 0,
            "ticks": ""
           }
          },
          "colorscale": {
           "diverging": [
            [
             0,
             "#8e0152"
            ],
            [
             0.1,
             "#c51b7d"
            ],
            [
             0.2,
             "#de77ae"
            ],
            [
             0.3,
             "#f1b6da"
            ],
            [
             0.4,
             "#fde0ef"
            ],
            [
             0.5,
             "#f7f7f7"
            ],
            [
             0.6,
             "#e6f5d0"
            ],
            [
             0.7,
             "#b8e186"
            ],
            [
             0.8,
             "#7fbc41"
            ],
            [
             0.9,
             "#4d9221"
            ],
            [
             1,
             "#276419"
            ]
           ],
           "sequential": [
            [
             0,
             "#0d0887"
            ],
            [
             0.1111111111111111,
             "#46039f"
            ],
            [
             0.2222222222222222,
             "#7201a8"
            ],
            [
             0.3333333333333333,
             "#9c179e"
            ],
            [
             0.4444444444444444,
             "#bd3786"
            ],
            [
             0.5555555555555556,
             "#d8576b"
            ],
            [
             0.6666666666666666,
             "#ed7953"
            ],
            [
             0.7777777777777778,
             "#fb9f3a"
            ],
            [
             0.8888888888888888,
             "#fdca26"
            ],
            [
             1,
             "#f0f921"
            ]
           ],
           "sequentialminus": [
            [
             0,
             "#0d0887"
            ],
            [
             0.1111111111111111,
             "#46039f"
            ],
            [
             0.2222222222222222,
             "#7201a8"
            ],
            [
             0.3333333333333333,
             "#9c179e"
            ],
            [
             0.4444444444444444,
             "#bd3786"
            ],
            [
             0.5555555555555556,
             "#d8576b"
            ],
            [
             0.6666666666666666,
             "#ed7953"
            ],
            [
             0.7777777777777778,
             "#fb9f3a"
            ],
            [
             0.8888888888888888,
             "#fdca26"
            ],
            [
             1,
             "#f0f921"
            ]
           ]
          },
          "colorway": [
           "#636efa",
           "#EF553B",
           "#00cc96",
           "#ab63fa",
           "#FFA15A",
           "#19d3f3",
           "#FF6692",
           "#B6E880",
           "#FF97FF",
           "#FECB52"
          ],
          "font": {
           "color": "#2a3f5f"
          },
          "geo": {
           "bgcolor": "white",
           "lakecolor": "white",
           "landcolor": "#E5ECF6",
           "showlakes": true,
           "showland": true,
           "subunitcolor": "white"
          },
          "hoverlabel": {
           "align": "left"
          },
          "hovermode": "closest",
          "mapbox": {
           "style": "light"
          },
          "paper_bgcolor": "white",
          "plot_bgcolor": "#E5ECF6",
          "polar": {
           "angularaxis": {
            "gridcolor": "white",
            "linecolor": "white",
            "ticks": ""
           },
           "bgcolor": "#E5ECF6",
           "radialaxis": {
            "gridcolor": "white",
            "linecolor": "white",
            "ticks": ""
           }
          },
          "scene": {
           "xaxis": {
            "backgroundcolor": "#E5ECF6",
            "gridcolor": "white",
            "gridwidth": 2,
            "linecolor": "white",
            "showbackground": true,
            "ticks": "",
            "zerolinecolor": "white"
           },
           "yaxis": {
            "backgroundcolor": "#E5ECF6",
            "gridcolor": "white",
            "gridwidth": 2,
            "linecolor": "white",
            "showbackground": true,
            "ticks": "",
            "zerolinecolor": "white"
           },
           "zaxis": {
            "backgroundcolor": "#E5ECF6",
            "gridcolor": "white",
            "gridwidth": 2,
            "linecolor": "white",
            "showbackground": true,
            "ticks": "",
            "zerolinecolor": "white"
           }
          },
          "shapedefaults": {
           "line": {
            "color": "#2a3f5f"
           }
          },
          "ternary": {
           "aaxis": {
            "gridcolor": "white",
            "linecolor": "white",
            "ticks": ""
           },
           "baxis": {
            "gridcolor": "white",
            "linecolor": "white",
            "ticks": ""
           },
           "bgcolor": "#E5ECF6",
           "caxis": {
            "gridcolor": "white",
            "linecolor": "white",
            "ticks": ""
           }
          },
          "title": {
           "x": 0.05
          },
          "xaxis": {
           "automargin": true,
           "gridcolor": "white",
           "linecolor": "white",
           "ticks": "",
           "title": {
            "standoff": 15
           },
           "zerolinecolor": "white",
           "zerolinewidth": 2
          },
          "yaxis": {
           "automargin": true,
           "gridcolor": "white",
           "linecolor": "white",
           "ticks": "",
           "title": {
            "standoff": 15
           },
           "zerolinecolor": "white",
           "zerolinewidth": 2
          }
         }
        },
        "width": 1200
       }
      },
      "image/png": "[encoded data removed]",
      "text/html": [
       "<div>                            <div id=\"0d4c9b58-7b84-4f96-86f9-1db68f135d8b\" class=\"plotly-graph-div\" style=\"height:700px; width:1200px;\"></div>            <script type=\"text/javascript\">                require([\"plotly\"], function(Plotly) {                    window.PLOTLYENV=window.PLOTLYENV || {};                                    if (document.getElementById(\"0d4c9b58-7b84-4f96-86f9-1db68f135d8b\")) {                    Plotly.newPlot(                        \"0d4c9b58-7b84-4f96-86f9-1db68f135d8b\",                        [{\"customdata\":[[\"MONGODB, INC.\",\"Prepackaged Software (mass reproduction of software)\"],[\"SALESFORCE COM INC\",\"Prepackaged Software (mass reproduction of software)\"],[\"SPLUNK INC\",\"Prepackaged Software (mass reproduction of software)\"],[\"OKTA, INC.\",\"Prepackaged Software (mass reproduction of software)\"],[\"VEEVA SYSTEMS INC\",\"Prepackaged Software (mass reproduction of software)\"],[\"AUTODESK INC\",\"Prepackaged Software (mass reproduction of software)\"],[\"ETERNAL SPEECH, INC.\",\"Prepackaged Software (mass reproduction of software)\"],[\"ETERNAL SPEECH, INC.\",\"Prepackaged Software (mass reproduction of software)\"],[\"MAJESCO\",\"Prepackaged Software (mass reproduction of software)\"],[\"DUO WORLD INC\",\"Prepackaged Software (mass reproduction of software)\"],[\"COMMVAULT SYSTEMS INC\",\"Prepackaged Software (mass reproduction of software)\"],[\"UPPERSOLUTION.COM\",\"Prepackaged Software (mass reproduction of software)\"],[\"ORACLE CORP\",\"Prepackaged Software (mass reproduction of software)\"],[\"SAVMOBI TECHNOLOGY INC.\",\"Prepackaged Software (mass reproduction of software)\"],[\"ZEDGE, INC.\",\"Prepackaged Software (mass reproduction of software)\"],[\"DESTINY MEDIA TECHNOLOGIES INC\",\"Prepackaged Software (mass reproduction of software)\"],[\"TRAQER CORP\",\"Prepackaged Software (mass reproduction of software)\"],[\"VISIBER57 CORP.\",\"Prepackaged Software (mass reproduction of software)\"],[\"GH CAPITAL INC.\",\"Prepackaged Software (mass reproduction of software)\"],[\"BRIDGELINE DIGITAL, INC.\",\"Prepackaged Software (mass reproduction of software)\"],[\"NUANCE COMMUNICATIONS, INC.\",\"Prepackaged Software (mass reproduction of software)\"],[\"DATAWATCH CORP\",\"Prepackaged Software (mass reproduction of software)\"],[\"POLARITYTE, INC.\",\"Prepackaged Software (mass reproduction of software)\"],[\"POLARITYTE, INC.\",\"Prepackaged Software (mass reproduction of software)\"],[\"VGRAB COMMUNICATIONS INC.\",\"Prepackaged Software (mass reproduction of software)\"],[\"VGRAB COMMUNICATIONS INC.\",\"Prepackaged Software (mass reproduction of software)\"],[\"ADAIAH DISTRIBUTION INC\",\"Prepackaged Software (mass reproduction of software)\"],[\"ADAIAH DISTRIBUTION INC\",\"Prepackaged Software (mass reproduction of software)\"],[\"PROGRESS SOFTWARE CORP /MA\",\"Prepackaged Software (mass reproduction of software)\"],[\"MEDICAL INFORMATION TECHNOLOGY, INC.\",\"Prepackaged Software (mass reproduction of software)\"],[\"SPS COMMERCE INC\",\"Prepackaged Software (mass reproduction of software)\"],[\"ALTERYX, INC.\",\"Prepackaged Software (mass reproduction of software)\"],[\"INTELLIGENT SYSTEMS CORP\",\"Prepackaged Software (mass reproduction of software)\"],[\"ALARM.COM HOLDINGS, INC.\",\"Prepackaged Software (mass reproduction of software)\"],[\"LIGHTNING GAMING, INC.\",\"Prepackaged Software (mass reproduction of software)\"],[\"ENDURANCE INTERNATIONAL GROUP HOLDINGS, INC.\",\"Prepackaged Software (mass reproduction of software)\"],[\"2U, INC.\",\"Prepackaged Software (mass reproduction of software)\"],[\"CISION LTD.\",\"Prepackaged Software (mass reproduction of software)\"],[\"BTCS INC.\",\"Prepackaged Software (mass reproduction of software)\"],[\"BTCS INC.\",\"Prepackaged Software (mass reproduction of software)\"],[\"BTCS INC.\",\"Prepackaged Software (mass reproduction of software)\"],[\"INTELLICHECK, INC.\",\"Prepackaged Software (mass reproduction of software)\"],[\"REALPAGE INC\",\"Prepackaged Software (mass reproduction of software)\"],[\"Q2 HOLDINGS, INC.\",\"Prepackaged Software (mass reproduction of software)\"],[\"MCORPCX, INC.\",\"Prepackaged Software (mass reproduction of software)\"],[\"QUALYS, INC.\",\"Prepackaged Software (mass reproduction of software)\"],[\"MEDICAL TRANSCRIPTION BILLING, CORP\",\"Prepackaged Software (mass reproduction of software)\"],[\"SMITH MICRO SOFTWARE INC\",\"Prepackaged Software (mass reproduction of software)\"],[\"SHOTSPOTTER, INC\",\"Prepackaged Software (mass reproduction of software)\"],[\"LONGWEN GROUP CORP.\",\"Prepackaged Software (mass reproduction of software)\"],[\"ELLIE MAE INC\",\"Prepackaged Software (mass reproduction of software)\"],[\"ROSETTA STONE INC\",\"Prepackaged Software (mass reproduction of software)\"],[\"BLACK KNIGHT, INC.\",\"Prepackaged Software (mass reproduction of software)\"],[\"MICROSTRATEGY INC\",\"Prepackaged Software (mass reproduction of software)\"],[\"EMR TECHNOLOGY SOLUTIONS, INC.\",\"Prepackaged Software (mass reproduction of software)\"],[\"PAYCOM SOFTWARE, INC.\",\"Prepackaged Software (mass reproduction of software)\"],[\"3D SYSTEMS CORP\",\"Prepackaged Software (mass reproduction of software)\"],[\"APPIAN CORP\",\"Prepackaged Software (mass reproduction of software)\"],[\"UPLAND SOFTWARE, INC.\",\"Prepackaged Software (mass reproduction of software)\"],[\"LIVEPERSON INC\",\"Prepackaged Software (mass reproduction of software)\"],[\"AWARE INC /MA/\",\"Prepackaged Software (mass reproduction of software)\"],[\"ULTIMATE SOFTWARE GROUP INC\",\"Prepackaged Software (mass reproduction of software)\"],[\"ANSYS INC\",\"Prepackaged Software (mass reproduction of software)\"],[\"AVID TECHNOLOGY, INC.\",\"Prepackaged Software (mass reproduction of software)\"],[\"NATIONAL INSTRUMENTS CORP\",\"Prepackaged Software (mass reproduction of software)\"],[\"INSPRO TECHNOLOGIES CORP\",\"Prepackaged Software (mass reproduction of software)\"],[\"QUMU CORP\",\"Prepackaged Software (mass reproduction of software)\"],[\"ACI WORLDWIDE, INC.\",\"Prepackaged Software (mass reproduction of software)\"],[\"SQUARE, INC.\",\"Prepackaged Software (mass reproduction of software)\"],[\"ALTAIR ENGINEERING INC.\",\"Prepackaged Software (mass reproduction of software)\"],[\"TALEND SA\",\"Prepackaged Software (mass reproduction of software)\"],[\"APPFOLIO INC\",\"Prepackaged Software (mass reproduction of software)\"],[\"GSE SYSTEMS INC\",\"Prepackaged Software (mass reproduction of software)\"],[\"IPSIDY INC.\",\"Prepackaged Software (mass reproduction of software)\"],[\"INTELLINETICS, INC.\",\"Prepackaged Software (mass reproduction of software)\"],[\"INTELLINETICS, INC.\",\"Prepackaged Software (mass reproduction of software)\"],[\"IIOT-OXYS, INC.\",\"Prepackaged Software (mass reproduction of software)\"],[\"NEWGIOCO GROUP, INC.\",\"Prepackaged Software (mass reproduction of software)\"],[\"WORKIVA INC\",\"Prepackaged Software (mass reproduction of software)\"],[\"TABLEAU SOFTWARE INC\",\"Prepackaged Software (mass reproduction of software)\"]],\"hovertemplate\":\"color=Prepackaged Software (mass reproduction of software)<br>0=%{x}<br>1=%{y}<br>2=%{z}<br>name=%{customdata[0]}<br>industry=%{customdata[1]}<extra></extra>\",\"legendgroup\":\"Prepackaged Software (mass reproduction of software)\",\"marker\":{\"color\":\"#636efa\",\"symbol\":\"circle\"},\"mode\":\"markers\",\"name\":\"Prepackaged Software (mass reproduction of software)\",\"scene\":\"scene\",\"showlegend\":true,\"x\":[0.08460614972808708,0.18326564839231255,0.17430082047165904,0.10542836280644179,-0.06953385242607145,0.15564119026280765,0.016561147862142012,0.016561147862142012,0.014056969114499955,0.15913361237785248,0.12332665454079597,0.11036876009133825,0.06727609105673428,0.002722174013741949,-0.056698625276192564,0.166611569847241,-0.0011362776543420404,-0.03506654681866371,-0.04932901687258833,0.17163564930377362,0.1798831090619503,0.18605310197476713,0.3473242458551161,0.3473242458551161,0.10274766196744478,0.10274766196744478,-0.1653257784118398,-0.1653257784118398,0.17145081749534674,0.22969025243943766,0.15145921060211198,0.17913032609582158,-0.0132081536285355,0.11287753017597382,0.08352923291476007,0.1798350677892277,0.07790536207590243,0.15263747237808994,-0.021465281602616796,-0.021465281602616796,-0.021465281602616796,-0.141859005919352,-0.016967513330228483,0.05713052523271522,0.010943608163000544,0.13793520567194134,0.1557712680106569,0.21898295375941348,0.10610084246680132,-0.10805415513871061,-0.10573795404630437,0.17137538596682916,-0.029895770005601684,0.18552668185553708,0.2102673433319365,0.08318103803531142,0.19185324553366453,0.17587938580367138,0.138679143996159,0.1895387654538949,0.22710701551122547,0.08097345200576095,-0.24435101169549595,0.18440885530530093,0.21512300129515224,0.07007620325189236,0.14969259130577156,0.04917313895852815,0.04330845873446464,0.1700060350978118,0.10552082567495978,0.03421126656904598,-0.1558275342830339,0.16657760711833572,0.13838140130357554,0.13838140130357554,0.1563683514913016,-0.0010285538286397844,0.10620769020999261,0.17345251180843282],\"y\":[-0.3282304051052628,-0.3011337856197528,-0.3050091322533639,-0.25919451902613533,-0.1974997504481534,-0.23972727537355906,-0.12577687006204216,-0.12577687006204216,-0.2587900542181471,-0.2766031301768651,-0.29143215637546915,-0.19222394177558735,-0.295403618847959,-0.2414392474216881,0.022136879034998714,-0.13429626316930554,-0.19115811443789152,-0.15200233306460328,-0.11548597148539297,-0.2539383774406288,-0.2735006644777575,-0.24981654652624266,-0.0007148034314663201,-0.0007148034314663201,-0.25845035536086125,-0.25845035536086125,-0.06145973328070247,-0.06145973328070247,-0.32593039933760337,-0.14090806825464025,-0.3154092758693075,-0.2944302784943476,-0.18962354695494157,-0.25223387710692396,-0.12912227188940828,-0.22674553054907012,-0.12918985175300282,-0.2629368445453953,0.042836357657541325,0.042836357657541325,0.042836357657541325,0.05213053451989586,-0.4007230007488098,-0.14118240459968492,-0.2413038204266284,-0.22453170544347045,-0.22737398573236836,-0.27721385573877877,-0.15661458337126116,-0.10417164656056362,-0.060049404008156136,-0.2747579616657994,-0.12155369638160946,-0.28875806809062,-0.10650263391015614,-0.2884196061206992,-0.2009949490136344,-0.26221472677241053,-0.262110526696987,-0.2390379590780305,-0.07179320481441426,-0.21786139429959978,0.12153892011973474,-0.25578353322194747,-0.18583488872179038,-0.184213097027671,-0.2801742489487688,-0.14155514162520555,-0.15847573721932037,-0.2506548528451569,-0.2924929881973799,-0.35675553388891895,-0.13870304767942082,-0.14696579104234914,-0.23838803776158657,-0.23838803776158657,-0.22334099999901763,-0.13321471728431034,-0.1668402907288884,-0.2622052676546489],\"z\":[0.49131313426241524,0.5315482893093469,0.4614255443539411,0.5698928827599515,-0.032174105585875135,0.34322952573282867,0.09590479998423966,0.09590479998423966,0.39835178264106447,0.43079678656289533,0.5156501662211248,0.14817553749005694,0.4568259421058469,0.3457745585592895,0.020809027507917133,0.276810811872333,0.03529439810606856,0.18717836440279684,0.2115864263825306,0.5088122499075214,0.43593405720091555,0.4315931186812603,-0.008177688022738697,-0.008177688022738697,0.4547870798841809,0.4547870798841809,-0.05153755068687857,-0.05153755068687857,0.41708853040172483,0.3837582940169051,0.4148998769262334,0.49802393118580723,0.23803705726323424,0.44642085614787125,-0.007031674411428384,0.4477329722338987,0.2014703556640841,0.3813343982495472,0.20094724486101073,0.20094724486101073,0.20094724486101073,0.06599332836550112,0.3660816374399784,0.5271516881694654,0.16994220162865822,0.4273692424072936,0.3343452938812371,0.47267760159207833,0.2558067192625398,0.057418862313940416,0.3236127195182921,0.42783588597405153,0.3651782617731384,0.5422709647145564,0.20914730366287282,0.4024201239603219,0.29652081088403653,0.5213830003153802,0.4640882088089654,0.38966746967076515,0.39256498442083737,0.37173120409651306,-0.001317022975422733,0.44461750118705723,0.4106273547625317,0.36960147165810964,0.4594554243838669,0.42656502999504287,0.41731573584259946,0.39709032710372444,0.485791444264685,0.42013206151012633,-0.05649798230418832,0.46392892127169066,0.3269367075952017,0.3269367075952017,0.2175602083211225,0.23920841960054812,0.360170286254885,0.4986944164260271],\"type\":\"scatter3d\"},{\"customdata\":[[\"INTERNATIONAL WESTERN PETROLEUM, INC.\",\"Crude Petroleum and Natural Gas\"],[\"DAYBREAK OIL & GAS, INC.\",\"Crude Petroleum and Natural Gas\"],[\"GB SCIENCES INC\",\"Crude Petroleum and Natural Gas\"],[\"FREEDOM HOLDING CORP.\",\"Crude Petroleum and Natural Gas\"],[\"MEXCO ENERGY CORP\",\"Crude Petroleum and Natural Gas\"],[\"SUSTAINABLE PROJECTS GROUP INC.\",\"Crude Petroleum and Natural Gas\"],[\"AMERICAN ENERGY GROUP LTD\",\"Crude Petroleum and Natural Gas\"],[\"REDHAWK HOLDINGS CORP.\",\"Crude Petroleum and Natural Gas\"],[\"TIANCI INTERNATIONAL, INC.\",\"Crude Petroleum and Natural Gas\"],[\"AMAZING ENERGY OIL & GAS, CO.\",\"Crude Petroleum and Natural Gas\"],[\"ALTEX INDUSTRIES INC\",\"Crude Petroleum and Natural Gas\"],[\"BARNWELL INDUSTRIES INC\",\"Crude Petroleum and Natural Gas\"],[\"PANHANDLE OIL & GAS INC\",\"Crude Petroleum and Natural Gas\"],[\"ENERGY 11, L.P.\",\"Crude Petroleum and Natural Gas\"],[\"ABRAXAS PETROLEUM CORP\",\"Crude Petroleum and Natural Gas\"],[\"SEARS OIL & GAS\",\"Crude Petroleum and Natural Gas\"],[\"APACHE CORP\",\"Crude Petroleum and Natural Gas\"],[\"GULFPORT ENERGY CORP\",\"Crude Petroleum and Natural Gas\"],[\"CONTINENTAL RESOURCES, INC\",\"Crude Petroleum and Natural Gas\"],[\"ISRAMCO INC\",\"Crude Petroleum and Natural Gas\"],[\"CHAPARRAL ENERGY, INC.\",\"Crude Petroleum and Natural Gas\"],[\"WHITING PETROLEUM CORP\",\"Crude Petroleum and Natural Gas\"],[\"CONTANGO OIL & GAS CO\",\"Crude Petroleum and Natural Gas\"],[\"EARTHSTONE ENERGY INC\",\"Crude Petroleum and Natural Gas\"],[\"CLEAN COAL TECHNOLOGIES INC.\",\"Crude Petroleum and Natural Gas\"],[\"NORTHERN OIL & GAS, INC.\",\"Crude Petroleum and Natural Gas\"],[\"SRC ENERGY INC.\",\"Crude Petroleum and Natural Gas\"],[\"JONES ENERGY, INC.\",\"Crude Petroleum and Natural Gas\"],[\"GOODRICH PETROLEUM CORP\",\"Crude Petroleum and Natural Gas\"],[\"OCCIDENTAL PETROLEUM CORP /DE/\",\"Crude Petroleum and Natural Gas\"],[\"LONESTAR RESOURCES US INC.\",\"Crude Petroleum and Natural Gas\"],[\"NOBLE ENERGY INC\",\"Crude Petroleum and Natural Gas\"],[\"PIONEER NATURAL RESOURCES CO\",\"Crude Petroleum and Natural Gas\"],[\"BONANZA CREEK ENERGY, INC.\",\"Crude Petroleum and Natural Gas\"],[\"DEVON ENERGY CORP/DE\",\"Crude Petroleum and Natural Gas\"],[\"CALIFORNIA RESOURCES CORP\",\"Crude Petroleum and Natural Gas\"],[\"PARK PLACE ENERGY INC.\",\"Crude Petroleum and Natural Gas\"],[\"ANTERO RESOURCES CORP\",\"Crude Petroleum and Natural Gas\"],[\"LAREDO PETROLEUM, INC.\",\"Crude Petroleum and Natural Gas\"],[\"CIMAREX ENERGY CO\",\"Crude Petroleum and Natural Gas\"],[\"ALTA MESA HOLDINGS, LP\",\"Crude Petroleum and Natural Gas\"],[\"US ENERGY CORP\",\"Crude Petroleum and Natural Gas\"],[\"VICTORY ENERGY CORP\",\"Crude Petroleum and Natural Gas\"],[\"VICTORY ENERGY CORP\",\"Crude Petroleum and Natural Gas\"],[\"GRAN TIERRA ENERGY INC.\",\"Crude Petroleum and Natural Gas\"],[\"MIDSTATES PETROLEUM COMPANY, INC.\",\"Crude Petroleum and Natural Gas\"],[\"WILDHORSE RESOURCE DEVELOPMENT CORP\",\"Crude Petroleum and Natural Gas\"],[\"SM ENERGY CO\",\"Crude Petroleum and Natural Gas\"],[\"SANDRIDGE ENERGY INC\",\"Crude Petroleum and Natural Gas\"],[\"RING ENERGY, INC.\",\"Crude Petroleum and Natural Gas\"],[\"SANCHEZ ENERGY CORP\",\"Crude Petroleum and Natural Gas\"],[\"TETRA TECHNOLOGIES INC\",\"Crude Petroleum and Natural Gas\"],[\"RESERVE PETROLEUM CO\",\"Crude Petroleum and Natural Gas\"],[\"HESS MIDSTREAM PARTNERS LP\",\"Crude Petroleum and Natural Gas\"],[\"TORCHLIGHT ENERGY RESOURCES INC\",\"Crude Petroleum and Natural Gas\"],[\"LINN ENERGY, INC.\",\"Crude Petroleum and Natural Gas\"],[\"KOSMOS ENERGY LTD.\",\"Crude Petroleum and Natural Gas\"],[\"SILVERBOW RESOURCES, INC.\",\"Crude Petroleum and Natural Gas\"],[\"TELLURIAN INC. /DE/\",\"Crude Petroleum and Natural Gas\"],[\"DORCHESTER MINERALS, L.P.\",\"Crude Petroleum and Natural Gas\"],[\"MATADOR RESOURCES CO\",\"Crude Petroleum and Natural Gas\"],[\"PDC ENERGY, INC.\",\"Crude Petroleum and Natural Gas\"],[\"TEXAS SOUTH ENERGY, INC.\",\"Crude Petroleum and Natural Gas\"],[\"PEDEVCO CORP\",\"Crude Petroleum and Natural Gas\"],[\"VIPER ENERGY PARTNERS LP\",\"Crude Petroleum and Natural Gas\"],[\"ENERJEX RESOURCES, INC.\",\"Crude Petroleum and Natural Gas\"],[\"TENGASCO INC\",\"Crude Petroleum and Natural Gas\"],[\"KIMBELL ROYALTY PARTNERS, LP\",\"Crude Petroleum and Natural Gas\"],[\"CONCHO RESOURCES INC\",\"Crude Petroleum and Natural Gas\"],[\"APACHE OFFSHORE INVESTMENT PARTNERSHIP\",\"Crude Petroleum and Natural Gas\"],[\"EVERFLOW EASTERN PARTNERS LP\",\"Crude Petroleum and Natural Gas\"],[\"CHESAPEAKE ENERGY CORP\",\"Crude Petroleum and Natural Gas\"],[\"CARRIZO OIL & GAS INC\",\"Crude Petroleum and Natural Gas\"],[\"CALLON PETROLEUM CO\",\"Crude Petroleum and Natural Gas\"],[\"PENN VIRGINIA CORP\",\"Crude Petroleum and Natural Gas\"],[\"DIAMONDBACK ENERGY, INC.\",\"Crude Petroleum and Natural Gas\"],[\"COMSTOCK RESOURCES INC\",\"Crude Petroleum and Natural Gas\"],[\"DALA PETROLEUM CORP.\",\"Crude Petroleum and Natural Gas\"],[\"WPX ENERGY, INC.\",\"Crude Petroleum and Natural Gas\"],[\"LILIS ENERGY, INC.\",\"Crude Petroleum and Natural Gas\"]],\"hovertemplate\":\"color=Crude Petroleum and Natural Gas<br>0=%{x}<br>1=%{y}<br>2=%{z}<br>name=%{customdata[0]}<br>industry=%{customdata[1]}<extra></extra>\",\"legendgroup\":\"Crude Petroleum and Natural Gas\",\"marker\":{\"color\":\"#EF553B\",\"symbol\":\"circle\"},\"mode\":\"markers\",\"name\":\"Crude Petroleum and Natural Gas\",\"scene\":\"scene\",\"showlegend\":true,\"x\":[-0.06270861393672991,-0.0753778921446772,0.28816338016290827,-0.1467743352294819,-0.12863183097000624,0.00918534951412392,-0.055018069985015475,0.20829559232672232,-0.10901875413241692,0.037478216930817446,-0.10192474690147686,-0.11689331338216086,-0.1323812940057844,-0.020266644769312857,-0.007891776340506721,0.12724540086529307,-0.11083791275447656,-0.0421570544684839,-0.0749204714168375,-0.047931260722958495,-0.12887367663335828,0.01705917710419293,-0.07574305868984758,-0.19007362925918886,0.14784239840980823,-0.018216740324149716,-0.03823201721018969,-0.05634201838549922,-0.11268496369984918,-0.04798309404652291,-0.01838094029889333,-0.18634237616828878,-0.05284410939804896,-0.02489393230375045,-0.10163603449132551,-0.2030993293663025,-0.017806955095013354,-0.12094711300614061,-0.013503637242698234,-0.07088333464464572,0.007125422243044528,-0.13276110915156128,-0.07704729824620603,-0.07704729824620603,-0.12136450295659507,-0.010969016010873557,-0.12655733452927803,-0.08334423926928675,-0.028435100082563263,-0.06066777491175799,-0.05944276941267512,0.11759826001558184,-0.06638946072730934,-0.0830036528814886,0.0522048994169401,-0.09177427938897781,-0.030864899988814937,-0.08556046245341269,-0.002691389760777329,-0.09777145443984944,-0.08583054383080763,-0.17742750197296311,-0.04196061307398429,-0.09529208650315057,-0.06403008633437558,0.20577481854500473,-0.08786169442167109,-0.10135985086872586,-0.003916381963368363,-0.06946342908315488,-0.10757159629696311,-0.10081383244757575,-0.0723477133998596,-0.14368573014979263,0.05431680239290204,-0.1419491050405014,-0.10375157853793343,-0.031873931753291354,-0.05781809864760582,-0.11506087792018496],\"y\":[-0.2800218490421893,-0.20180131318344993,0.014399932087506381,0.007850385509569105,-0.2328292493472973,-0.14536028014530145,0.06092699573415764,-0.09392273769559699,-0.2113430276402154,-0.15311789526958655,-0.13924460681894818,-0.26083499677072813,-0.2074883170605841,-0.11901128426644478,-0.11647831689179725,-0.15545938984242813,-0.15716897871558683,-0.1738403483147179,-0.20222740205469958,-0.14286743502068355,-0.11865148334308638,-0.1112938818478833,-0.058493778380933545,-0.2121219275979485,-0.026813816698715742,-0.1682816128821301,-0.16866576334986771,-0.1762646521057451,-0.16241026455607807,-0.15422722642011427,-0.16249809707953666,-0.16080126514123733,-0.13702849533840072,-0.13070605471004543,-0.17522330158003233,-0.09243669530846703,-0.18340757343353517,-0.16358656519966347,-0.17064615434629454,-0.13775181895143118,-0.12619070985243291,-0.16348272611775105,-0.1119517507085487,-0.1119517507085487,-0.15343864938269366,-0.12021364554727434,-0.16305902279243858,-0.1557986883388299,-0.1434145524735411,-0.25322878906619406,-0.15484242342498183,-0.17816100054164116,-0.14799301108342464,-0.18195901668634168,-0.07199191659956054,-0.13682592891819076,-0.10193017295284612,-0.08190435196243967,-0.11324019161638156,-0.19622578952195474,-0.2087390007869486,-0.1299611347165159,-0.09275994169434507,0.0543767077668933,-0.20805236800816762,-0.24144336401199568,-0.1918125047425376,-0.1903893881625331,-0.12177496653107367,-0.21863957566691622,-0.1794845781017542,-0.24642520430268408,-0.15636473791796454,-0.14340196679157347,-0.05937811302898168,-0.16631297777756177,-0.17880982976907697,-0.13811775117952257,-0.13978051731380253,-0.16437453502387542],\"z\":[-0.11463612918672424,-0.2634378052140388,-0.08558917290456977,0.13244933193434483,-0.3137008827033161,0.004485545321462546,0.09249404494174884,-0.028223748667307685,0.03113142934841898,-0.37252558156133214,-0.25901216056253407,-0.21117041391444655,-0.17654056003461108,-0.36360219783270104,-0.39036285020621936,0.09814204916419894,-0.3485993668939591,-0.2673491883154658,-0.281147693674233,-0.35150460002416,-0.36480993964766195,-0.37505185808922653,0.13767620781094744,-0.16177464343743297,-0.057567733066291274,-0.3650075136464074,-0.36481122585670744,-0.3740937865943824,-0.36967514685526476,-0.2880960139449197,-0.3626842273085395,-0.22886060262937336,-0.2873889447511672,-0.36671552207951524,-0.33657210416247413,-0.18917445326593374,-0.19820123598206388,-0.3379654122637248,-0.34523524621284385,-0.3548341868641726,-0.35975111429031187,-0.32522581240952886,-0.10529210670464469,-0.10529210670464469,-0.27653428014991766,-0.4107790457654649,-0.32416918535379524,-0.38231179359047546,-0.38158855255071256,-0.26576833041369624,-0.36386898430075054,-0.038153192906423376,-0.2646678096623986,-0.26946671579159526,-0.3721238687505338,-0.33197300705801613,-0.17664987824062256,-0.3991123314925763,-0.3331430358999745,-0.15984688281212064,-0.2601893710122326,-0.19931038983039623,-0.3580836127159975,-0.011858066399380194,-0.3107638501321071,0.12822161549868422,-0.1669063222755169,-0.3335146723009413,-0.3957291672252006,-0.01021390710882942,-0.22887560768239718,-0.2763832181670982,-0.37846358997639107,-0.3544404845695776,-0.39882998571696676,-0.3320012236390633,-0.3651422272102357,0.09303978092855855,-0.3932658930464465,-0.29820263908553585],\"type\":\"scatter3d\"},{\"customdata\":[[\"ULURU INC.\",\"Pharmaceutical Preparations\"],[\"CHINA YCT INTERNATIONAL GROUP, INC.\",\"Pharmaceutical Preparations\"],[\"AXOVANT SCIENCES LTD.\",\"Pharmaceutical Preparations\"],[\"MYOVANT SCIENCES LTD.\",\"Pharmaceutical Preparations\"],[\"PRESTIGE BRANDS HOLDINGS, INC.\",\"Pharmaceutical Preparations\"],[\"HYPGEN INC\",\"Pharmaceutical Preparations\"],[\"HYPGEN INC\",\"Pharmaceutical Preparations\"],[\"DANDRIT BIOTECH USA, INC.\",\"Pharmaceutical Preparations\"],[\"REZOLUTE, INC.\",\"Pharmaceutical Preparations\"],[\"OPTEC INTERNATIONAL, INC.\",\"Pharmaceutical Preparations\"],[\"OPTEC INTERNATIONAL, INC.\",\"Pharmaceutical Preparations\"],[\"BIOVIE INC.\",\"Pharmaceutical Preparations\"],[\"ONCOSEC MEDICAL INC\",\"Pharmaceutical Preparations\"],[\"CANNABICS PHARMACEUTICALS INC.\",\"Pharmaceutical Preparations\"],[\"ORAMED PHARMACEUTICALS INC.\",\"Pharmaceutical Preparations\"],[\"ENTEST BIOMEDICAL, INC.\",\"Pharmaceutical Preparations\"],[\"MY CLOUDZ, INC.\",\"Pharmaceutical Preparations\"],[\"MY CLOUDZ, INC.\",\"Pharmaceutical Preparations\"],[\"ENANTA PHARMACEUTICALS INC\",\"Pharmaceutical Preparations\"],[\"CITIUS PHARMACEUTICALS, INC.\",\"Pharmaceutical Preparations\"],[\"STELLAR BIOTECHNOLOGIES, INC.\",\"Pharmaceutical Preparations\"],[\"REGEN BIOPHARMA INC\",\"Pharmaceutical Preparations\"],[\"REGEN BIOPHARMA INC\",\"Pharmaceutical Preparations\"],[\"ADVAXIS, INC.\",\"Pharmaceutical Preparations\"],[\"ORGENESIS INC.\",\"Pharmaceutical Preparations\"],[\"Q BIOMED INC.\",\"Pharmaceutical Preparations\"],[\"JOHNSON & JOHNSON\",\"Pharmaceutical Preparations\"],[\"BRISTOL MYERS SQUIBB CO\",\"Pharmaceutical Preparations\"],[\"VBI VACCINES INC/BC\",\"Pharmaceutical Preparations\"],[\"INTRA-CELLULAR THERAPIES, INC.\",\"Pharmaceutical Preparations\"],[\"ROCKET PHARMACEUTICALS, INC.\",\"Pharmaceutical Preparations\"],[\"ATLAS HOLDINGS, INC.\",\"Pharmaceutical Preparations\"],[\"NEMUS BIOSCIENCE, INC.\",\"Pharmaceutical Preparations\"],[\"NEMUS BIOSCIENCE, INC.\",\"Pharmaceutical Preparations\"],[\"OVASCIENCE, INC.\",\"Pharmaceutical Preparations\"],[\"CONCERT PHARMACEUTICALS, INC.\",\"Pharmaceutical Preparations\"],[\"AKCEA THERAPEUTICS, INC.\",\"Pharmaceutical Preparations\"],[\"AXIM BIOTECHNOLOGIES, INC.\",\"Pharmaceutical Preparations\"],[\"GUARDION HEALTH SCIENCES, INC.\",\"Pharmaceutical Preparations\"],[\"RETROPHIN, INC.\",\"Pharmaceutical Preparations\"],[\"SYNDAX PHARMACEUTICALS INC\",\"Pharmaceutical Preparations\"],[\"FIBROGEN INC\",\"Pharmaceutical Preparations\"],[\"PROTOKINETIX, INC.\",\"Pharmaceutical Preparations\"],[\"PROGENICS PHARMACEUTICALS INC\",\"Pharmaceutical Preparations\"],[\"CHECKPOINT THERAPEUTICS, INC.\",\"Pharmaceutical Preparations\"],[\"PFENEX INC.\",\"Pharmaceutical Preparations\"],[\"PAIN THERAPEUTICS INC\",\"Pharmaceutical Preparations\"],[\"ZOMEDICA PHARMACEUTICALS CORP.\",\"Pharmaceutical Preparations\"],[\"ZOMEDICA PHARMACEUTICALS CORP.\",\"Pharmaceutical Preparations\"],[\"MOLECULAR TEMPLATES, INC.\",\"Pharmaceutical Preparations\"],[\"WAVE LIFE SCIENCES LTD.\",\"Pharmaceutical Preparations\"],[\"CYMABAY THERAPEUTICS, INC.\",\"Pharmaceutical Preparations\"],[\"AMICUS THERAPEUTICS INC\",\"Pharmaceutical Preparations\"],[\"EVOKE PHARMA INC\",\"Pharmaceutical Preparations\"],[\"CHEMBIO DIAGNOSTICS, INC.\",\"Pharmaceutical Preparations\"],[\"CARA THERAPEUTICS, INC.\",\"Pharmaceutical Preparations\"],[\"CYTOMX THERAPEUTICS, INC.\",\"Pharmaceutical Preparations\"],[\"XENCOR INC\",\"Pharmaceutical Preparations\"],[\"CATABASIS PHARMACEUTICALS INC\",\"Pharmaceutical Preparations\"],[\"SERES THERAPEUTICS, INC.\",\"Pharmaceutical Preparations\"],[\"EYEGATE PHARMACEUTICALS INC\",\"Pharmaceutical Preparations\"],[\"ARENA PHARMACEUTICALS INC\",\"Pharmaceutical Preparations\"],[\"ALEXION PHARMACEUTICALS INC\",\"Pharmaceutical Preparations\"],[\"MELINTA THERAPEUTICS, INC. /NEW/\",\"Pharmaceutical Preparations\"],[\"FIVE PRIME THERAPEUTICS INC\",\"Pharmaceutical Preparations\"],[\"LIXTE BIOTECHNOLOGY HOLDINGS, INC.\",\"Pharmaceutical Preparations\"],[\"ARATANA THERAPEUTICS, INC.\",\"Pharmaceutical Preparations\"],[\"CHIASMA, INC\",\"Pharmaceutical Preparations\"],[\"CELGENE CORP /DE/\",\"Pharmaceutical Preparations\"],[\"NEWLINK GENETICS CORP\",\"Pharmaceutical Preparations\"],[\"LIGAND PHARMACEUTICALS INC\",\"Pharmaceutical Preparations\"],[\"PORTOLA PHARMACEUTICALS INC\",\"Pharmaceutical Preparations\"],[\"PLX PHARMA INC.\",\"Pharmaceutical Preparations\"],[\"ARDELYX, INC.\",\"Pharmaceutical Preparations\"],[\"PROTAGONIST THERAPEUTICS, INC\",\"Pharmaceutical Preparations\"],[\"MOLECULIN BIOTECH, INC.\",\"Pharmaceutical Preparations\"],[\"IRONWOOD PHARMACEUTICALS INC\",\"Pharmaceutical Preparations\"],[\"FORTRESS BIOTECH, INC.\",\"Pharmaceutical Preparations\"],[\"SYNTHETIC BIOLOGICS, INC.\",\"Pharmaceutical Preparations\"],[\"OPTINOSE, INC.\",\"Pharmaceutical Preparations\"],[\"CORMEDIX INC.\",\"Pharmaceutical Preparations\"],[\"HEAT BIOLOGICS, INC.\",\"Pharmaceutical Preparations\"],[\"SUN BIOPHARMA, INC.\",\"Pharmaceutical Preparations\"],[\"BELLEROPHON THERAPEUTICS, INC.\",\"Pharmaceutical Preparations\"],[\"BIOSPECIFICS TECHNOLOGIES CORP\",\"Pharmaceutical Preparations\"],[\"ZOSANO PHARMA CORP\",\"Pharmaceutical Preparations\"],[\"CV SCIENCES, INC.\",\"Pharmaceutical Preparations\"],[\"LILLY ELI & CO\",\"Pharmaceutical Preparations\"],[\"SAREPTA THERAPEUTICS, INC.\",\"Pharmaceutical Preparations\"],[\"EXICURE, INC.\",\"Pharmaceutical Preparations\"],[\"OVID THERAPEUTICS INC.\",\"Pharmaceutical Preparations\"],[\"IMPRIMIS PHARMACEUTICALS, INC.\",\"Pharmaceutical Preparations\"],[\"IONIS PHARMACEUTICALS INC\",\"Pharmaceutical Preparations\"],[\"ONCOMED PHARMACEUTICALS INC\",\"Pharmaceutical Preparations\"],[\"TONIX PHARMACEUTICALS HOLDING CORP.\",\"Pharmaceutical Preparations\"],[\"TEVA PHARMACEUTICAL INDUSTRIES LTD\",\"Pharmaceutical Preparations\"],[\"RHYTHM PHARMACEUTICALS, INC.\",\"Pharmaceutical Preparations\"],[\"COCRYSTAL PHARMA, INC.\",\"Pharmaceutical Preparations\"],[\"REGENERON PHARMACEUTICALS INC\",\"Pharmaceutical Preparations\"],[\"ANI PHARMACEUTICALS INC\",\"Pharmaceutical Preparations\"],[\"CLEARSIDE BIOMEDICAL, INC.\",\"Pharmaceutical Preparations\"],[\"LIPOCINE INC.\",\"Pharmaceutical Preparations\"],[\"GALECTIN THERAPEUTICS INC\",\"Pharmaceutical Preparations\"],[\"STEMLINE THERAPEUTICS INC\",\"Pharmaceutical Preparations\"],[\"DOVA PHARMACEUTICALS, INC.\",\"Pharmaceutical Preparations\"],[\"ABBVIE INC.\",\"Pharmaceutical Preparations\"],[\"AKORN INC\",\"Pharmaceutical Preparations\"],[\"VALEANT PHARMACEUTICALS INTERNATIONAL, INC.\",\"Pharmaceutical Preparations\"],[\"INTELGENX TECHNOLOGIES CORP.\",\"Pharmaceutical Preparations\"],[\"PFIZER INC\",\"Pharmaceutical Preparations\"],[\"SKINVISIBLE INC\",\"Pharmaceutical Preparations\"],[\"TAPIMMUNE INC.\",\"Pharmaceutical Preparations\"],[\"THERAPEUTICSMD, INC.\",\"Pharmaceutical Preparations\"],[\"AQUINOX PHARMACEUTICALS, INC\",\"Pharmaceutical Preparations\"],[\"GLOBAL BLOOD THERAPEUTICS, INC.\",\"Pharmaceutical Preparations\"],[\"RIGEL PHARMACEUTICALS INC\",\"Pharmaceutical Preparations\"],[\"PARATEK PHARMACEUTICALS, INC.\",\"Pharmaceutical Preparations\"],[\"PERRIGO CO PLC\",\"Pharmaceutical Preparations\"],[\"ZAFGEN, INC.\",\"Pharmaceutical Preparations\"],[\"OPHTHOTECH CORP.\",\"Pharmaceutical Preparations\"],[\"ACHILLION PHARMACEUTICALS INC\",\"Pharmaceutical Preparations\"],[\"KEMPHARM, INC\",\"Pharmaceutical Preparations\"],[\"INTERCEPT PHARMACEUTICALS INC\",\"Pharmaceutical Preparations\"],[\"ULTRAGENYX PHARMACEUTICAL INC.\",\"Pharmaceutical Preparations\"],[\"EMERGENT BIOSOLUTIONS INC.\",\"Pharmaceutical Preparations\"],[\"ACER THERAPEUTICS INC.\",\"Pharmaceutical Preparations\"],[\"HERON THERAPEUTICS, INC. /DE/\",\"Pharmaceutical Preparations\"],[\"ADAMIS PHARMACEUTICALS CORP\",\"Pharmaceutical Preparations\"],[\"GT BIOPHARMA, INC.\",\"Pharmaceutical Preparations\"],[\"GT BIOPHARMA, INC.\",\"Pharmaceutical Preparations\"],[\"GT BIOPHARMA, INC.\",\"Pharmaceutical Preparations\"],[\"GT BIOPHARMA, INC.\",\"Pharmaceutical Preparations\"],[\"GT BIOPHARMA, INC.\",\"Pharmaceutical Preparations\"],[\"GT BIOPHARMA, INC.\",\"Pharmaceutical Preparations\"],[\"IMMUNOGEN INC\",\"Pharmaceutical Preparations\"],[\"PTC THERAPEUTICS, INC.\",\"Pharmaceutical Preparations\"],[\"MANNKIND CORP\",\"Pharmaceutical Preparations\"],[\"CARDAX, INC.\",\"Pharmaceutical Preparations\"],[\"SYROS PHARMACEUTICALS, INC.\",\"Pharmaceutical Preparations\"],[\"ADURO BIOTECH, INC.\",\"Pharmaceutical Preparations\"],[\"SIENNA BIOPHARMACEUTICALS, INC.\",\"Pharmaceutical Preparations\"],[\"ACHAOGEN INC\",\"Pharmaceutical Preparations\"],[\"UNITED CANNABIS CORP\",\"Pharmaceutical Preparations\"],[\"UNITED CANNABIS CORP\",\"Pharmaceutical Preparations\"],[\"RXI PHARMACEUTICALS CORP\",\"Pharmaceutical Preparations\"],[\"RXI PHARMACEUTICALS CORP\",\"Pharmaceutical Preparations\"],[\"RXI PHARMACEUTICALS CORP\",\"Pharmaceutical Preparations\"],[\"RXI PHARMACEUTICALS CORP\",\"Pharmaceutical Preparations\"],[\"SOLIGENIX, INC.\",\"Pharmaceutical Preparations\"],[\"XOMA CORP\",\"Pharmaceutical Preparations\"],[\"SIERRA ONCOLOGY, INC.\",\"Pharmaceutical Preparations\"],[\"ACTINIUM PHARMACEUTICALS, INC.\",\"Pharmaceutical Preparations\"],[\"ORAGENICS INC\",\"Pharmaceutical Preparations\"],[\"ATHERSYS, INC / NEW\",\"Pharmaceutical Preparations\"],[\"PULMATRIX, INC.\",\"Pharmaceutical Preparations\"],[\"ACADIA PHARMACEUTICALS INC\",\"Pharmaceutical Preparations\"],[\"TREVENA INC\",\"Pharmaceutical Preparations\"],[\"NATURES SUNSHINE PRODUCTS INC\",\"Pharmaceutical Preparations\"],[\"FLEXION THERAPEUTICS INC\",\"Pharmaceutical Preparations\"],[\"VERASTEM, INC.\",\"Pharmaceutical Preparations\"],[\"XENON PHARMACEUTICALS INC.\",\"Pharmaceutical Preparations\"],[\"SUNESIS PHARMACEUTICALS INC\",\"Pharmaceutical Preparations\"],[\"CORVUS PHARMACEUTICALS, INC.\",\"Pharmaceutical Preparations\"],[\"MERCK & CO., INC.\",\"Pharmaceutical Preparations\"],[\"STRONGBRIDGE BIOPHARMA PLC\",\"Pharmaceutical Preparations\"],[\"CATALYST PHARMACEUTICALS, INC.\",\"Pharmaceutical Preparations\"],[\"ASSEMBLY BIOSCIENCES, INC.\",\"Pharmaceutical Preparations\"],[\"APRICUS BIOSCIENCES, INC.\",\"Pharmaceutical Preparations\"],[\"CATALYST BIOSCIENCES, INC.\",\"Pharmaceutical Preparations\"],[\"MIRATI THERAPEUTICS, INC.\",\"Pharmaceutical Preparations\"],[\"MUSTANG BIO, INC.\",\"Pharmaceutical Preparations\"],[\"ACELRX PHARMACEUTICALS INC\",\"Pharmaceutical Preparations\"],[\"BLUEPRINT MEDICINES CORP\",\"Pharmaceutical Preparations\"],[\"ATHENEX, INC.\",\"Pharmaceutical Preparations\"],[\"ATHENEX, INC.\",\"Pharmaceutical Preparations\"],[\"RECRO PHARMA, INC.\",\"Pharmaceutical Preparations\"],[\"BIOHAVEN PHARMACEUTICAL HOLDING CO LTD.\",\"Pharmaceutical Preparations\"],[\"PROTHENA CORP PLC\",\"Pharmaceutical Preparations\"],[\"AVENUE THERAPEUTICS, INC.\",\"Pharmaceutical Preparations\"],[\"VTV THERAPEUTICS INC.\",\"Pharmaceutical Preparations\"],[\"ZYNERBA PHARMACEUTICALS, INC.\",\"Pharmaceutical Preparations\"],[\"BIOMARIN PHARMACEUTICAL INC\",\"Pharmaceutical Preparations\"],[\"KARYOPHARM THERAPEUTICS INC.\",\"Pharmaceutical Preparations\"],[\"LEXICON PHARMACEUTICALS, INC.\",\"Pharmaceutical Preparations\"],[\"ENDO INTERNATIONAL PLC\",\"Pharmaceutical Preparations\"],[\"PROPHASE LABS, INC.\",\"Pharmaceutical Preparations\"],[\"CELLECTAR BIOSCIENCES, INC.\",\"Pharmaceutical Preparations\"],[\"RITTER PHARMACEUTICALS INC\",\"Pharmaceutical Preparations\"],[\"MARINUS PHARMACEUTICALS INC\",\"Pharmaceutical Preparations\"],[\"CORCEPT THERAPEUTICS INC\",\"Pharmaceutical Preparations\"],[\"ALNYLAM PHARMACEUTICALS, INC.\",\"Pharmaceutical Preparations\"],[\"DARE BIOSCIENCE, INC.\",\"Pharmaceutical Preparations\"],[\"TELIGENT, INC.\",\"Pharmaceutical Preparations\"],[\"TELIGENT, INC.\",\"Pharmaceutical Preparations\"],[\"ACLARIS THERAPEUTICS, INC.\",\"Pharmaceutical Preparations\"],[\"VITAL THERAPIES INC\",\"Pharmaceutical Preparations\"],[\"DECIPHERA PHARMACEUTICALS, INC.\",\"Pharmaceutical Preparations\"],[\"CAPSTONE THERAPEUTICS CORP.\",\"Pharmaceutical Preparations\"],[\"PACIRA PHARMACEUTICALS, INC.\",\"Pharmaceutical Preparations\"],[\"UROGEN PHARMA LTD.\",\"Pharmaceutical Preparations\"],[\"FIBROCELL SCIENCE, INC.\",\"Pharmaceutical Preparations\"],[\"FLEX PHARMA, INC.\",\"Pharmaceutical Preparations\"],[\"BIODELIVERY SCIENCES INTERNATIONAL INC\",\"Pharmaceutical Preparations\"],[\"HORIZON PHARMA PLC\",\"Pharmaceutical Preparations\"],[\"MERRIMACK PHARMACEUTICALS INC\",\"Pharmaceutical Preparations\"],[\"CYCLACEL PHARMACEUTICALS, INC.\",\"Pharmaceutical Preparations\"],[\"ZOETIS INC.\",\"Pharmaceutical Preparations\"]],\"hovertemplate\":\"color=Pharmaceutical Preparations<br>0=%{x}<br>1=%{y}<br>2=%{z}<br>name=%{customdata[0]}<br>industry=%{customdata[1]}<extra></extra>\",\"legendgroup\":\"Pharmaceutical Preparations\",\"marker\":{\"color\":\"#00cc96\",\"symbol\":\"circle\"},\"mode\":\"markers\",\"name\":\"Pharmaceutical Preparations\",\"scene\":\"scene\",\"showlegend\":true,\"x\":[0.37501114950227843,0.2792580215148054,0.36630374275376587,0.28555225084016916,0.27206651073247207,0.19044628305697836,0.19044628305697836,0.4499590492273315,0.43279637693554485,0.13955154409902185,0.13955154409902185,0.5047647442167457,0.48111817342738966,0.3558366303469024,0.45632951722375326,-0.21190843606359067,0.03156109947627543,0.03156109947627543,0.48158065693686586,0.4134479111104228,0.34383540774284377,-0.15914611153862473,-0.15914611153862473,0.41229175197102125,0.40828171052191525,0.4180459044143161,0.3520522716431968,0.14263776903325254,0.4317362269416485,0.36505733190439627,0.3602513638016068,0.4061501688870231,0.39994122512446656,0.39994122512446656,0.45567349039261484,0.37764768737264526,0.46710019463196734,0.3721378853011733,0.06683903602309614,0.4386970839640839,0.44900449913415547,0.4333142317042237,0.382045934099079,-0.12833930025362114,0.4517131996508442,0.4106865590561653,0.3722982002747168,0.38490850151525985,0.38490850151525985,0.447616714506468,0.4791143652419565,0.4071475795253208,0.4895366438517602,0.4518263244262992,0.41954095590135676,0.3198918652617579,0.46634890541167595,-0.06891523634510473,0.43241183401180316,0.44089056568074836,0.2985780383849541,0.334771600787714,0.4236049158173561,0.387676980357044,-0.07713492975200874,0.4248313318557104,0.280323917067051,0.5028261291570107,0.44365602473145743,0.4552202651431999,0.41021096368373466,0.46716821902678696,0.4650841581406465,0.3798762551347882,0.46454583706927577,0.46233260166654333,0.4351906190700259,0.08795075638761367,0.43498703593210664,0.3588543027867479,0.47017024524043444,0.35596768751649843,0.395202402306953,0.463161612726435,0.41057264270030236,0.35581304219642423,0.2841337642697654,0.44288647654401464,0.4703060375476286,0.39424435368442945,0.3374842119430224,0.34010294575013444,0.4484806949569947,0.4561856304993072,0.4164096499401042,0.43160446048850293,0.4154449121165518,0.4113663262784971,0.40923771339286813,0.39370716906449044,0.47566186147819767,0.4119277029233612,0.4486923085995924,0.4551234593693412,0.40918628276559965,0.41396127602299687,0.31262179160072046,0.40413554750344516,0.4356616242564586,0.36327559332823844,0.3065679664268484,0.4581801899276965,0.43954428759310366,0.4077380152992733,0.41013165637792126,0.4524782104403991,0.36102263119989203,0.08296741804182682,-0.16405703739514368,0.4729828019922084,0.45148994487223343,0.43676510915544364,0.3878804222703001,0.4839335670733027,0.448641831775217,0.2698454360230046,0.397179923640621,0.4490044687601883,0.41611848331241225,0.41611848331241225,0.41611848331241225,0.41611848331241225,0.41611848331241225,0.41611848331241225,0.5142457034100845,0.47117968115409753,0.43626467394458385,0.3869990480945916,0.49210440492969126,0.4431822018409308,0.4122107791634758,0.4214733975490632,0.33409674067733247,0.33409674067733247,0.42345305166144415,0.42345305166144415,0.42345305166144415,0.42345305166144415,0.4160658721863705,0.14471059635265202,0.4190316738918325,0.47298500754293765,0.4447464568510342,0.4397066372087253,0.4900467688588761,0.4483810906667963,0.40039275014096753,0.15860123376194607,0.34650963056897943,0.39823260103803654,0.41519494446826427,0.4492366106206016,0.3955058859017068,0.4443488261152719,0.4860383102638223,0.49658463441670997,0.4359094952804123,0.42376425490000463,0.4524034951117858,0.47976480780233477,0.4402181468255763,0.41771362645518495,0.4527444559109659,0.4703216834303152,0.4703216834303152,0.3580466217995061,0.3274249943445465,0.3924986948980297,0.3898983994771315,0.48585516866003436,0.45279330435601417,0.44919478369476123,0.40071697155093733,0.5020454483550206,0.4101342310711802,0.2930363446436076,0.42960693225005686,0.48868401015579815,0.42034117092096707,0.4858269079240643,0.4599680791738148,0.4601612693318789,0.24175685619230897,0.24175685619230897,0.4284187719374331,0.28185570756143985,0.43685934632379986,0.3588867081689874,0.2472450966044656,0.4666373521007469,0.48877660434297826,0.31518275217479935,0.4286223271754506,0.4298296823944708,0.4928228935548836,0.468649899364767,-0.14262384222502833],\"y\":[0.12326811303287308,-0.033102127022514444,0.0921199900180445,0.02375192668845631,-0.10708382734717113,0.06651978508830651,0.06651978508830651,0.14490766609729538,0.1116330996995906,-0.14442944414050732,-0.14442944414050732,0.22073863283039277,0.1236514140198762,0.09437038442787601,0.1604422663392406,-0.11243593279479296,-0.0330602905858252,-0.0330602905858252,0.16326690941080874,0.07219220665339311,-0.040621689408764594,-0.024327474786391277,-0.024327474786391277,0.13045029694701654,0.04356931150354716,-0.001357649957936949,0.004319905931242989,-0.012116148420076587,0.11755469039370618,0.1085247568278741,0.12291612621499337,0.10144339762261344,0.17477473002975705,0.17477473002975705,0.20932615495014814,0.11394647477185695,0.02871234426071079,0.049390896759708876,-0.04710481457331035,0.15446487327052552,0.15805759269037417,0.15454405732838,0.07589992359745333,-0.09059629670220626,0.14187761958416442,0.1022950662213364,0.06834022103721676,0.018007110741437377,0.018007110741437377,0.19251124433749148,0.14515306964793845,0.18389251348881136,0.16439490600278892,0.13309271696082664,0.12922504218857173,-0.019974929820132103,0.10755504497380226,0.06582122103254466,0.1874249408888868,0.046262516801000596,0.0862792405481217,0.07767973030231606,0.11720908284922198,0.006677305591264258,0.049813280740444735,0.12822571725578005,-0.0324952326492457,0.16271277624884134,0.19496954120512527,0.12238771502321291,0.025347509068639352,0.08962006311798797,0.16484214491600577,0.10763498980165727,0.21725930861565593,0.14859179124412983,0.0824405253317559,-0.060483145650081165,0.09546049666634453,-0.015694163325698535,0.16009858789123327,0.1112425866425031,0.10765021785672746,0.018571162354095196,0.044791613088941556,0.02273394400186124,-0.06086913899072434,0.1026399820820781,0.13560376867784205,0.1075934983954176,0.09337704445787699,0.014729196466403882,0.07046902513544491,0.14514040961115018,0.09764343576775933,0.043950579953257574,0.09173600746139511,0.08919724477114759,0.09959750998899648,0.004450296099767825,0.17844410792654877,0.16409503723600932,0.10040718375207765,0.13054956161361403,0.15298765783756177,0.0808798975886012,-0.0054786288876925255,-0.0015866563879732764,0.07568145899428241,-0.07937899794704961,-0.034056450239283824,0.15871888373638138,0.04030986589101152,0.12584999131365757,0.1643651069308538,0.11287691338273016,0.1380479032415441,-0.15937262630987414,-0.08637664560181359,0.14406419964045836,0.1991969366675099,0.14867079375306078,0.09439381009781117,0.02714077993868043,0.08325516310988479,0.028675216873331775,0.13066042960770255,0.1481310409621865,0.08307623071935921,0.08307623071935921,0.08307623071935921,0.08307623071935921,0.08307623071935921,0.08307623071935921,0.13165593033062076,0.15661220725252223,0.08513788327850695,0.15671391528591544,0.1736119765025119,0.12591080907924485,-0.01219280693800472,0.12970336330927856,0.03915069535566248,0.03915069535566248,0.11331293911834213,0.11331293911834213,0.11331293911834213,0.11331293911834213,0.11326842999653136,-0.042183231090267385,0.13998361599050277,0.12175903232755532,0.14175177700328875,0.047962989278597726,0.14554545934335159,0.11010501028285602,0.11936447944838402,-0.09701536311881505,0.02579973171511286,0.10823654577401975,0.0985061762109482,0.19101242040931293,0.1339082130347289,0.11012301105621063,0.17829186073051229,0.17090344163477494,0.07032750775477357,0.11842501272676098,0.16356890084247752,0.16120377341493644,0.13456340136485126,0.085600537418357,0.1271414662107441,0.17733263847652905,0.17733263847652905,0.1305240946135372,0.07434618266530735,0.01119975613404393,0.21938473262887548,0.0939007783320212,0.08381258280889269,0.07355731560693829,0.13323332951676384,0.09668788747822132,0.03228925250546861,0.10027102128591354,0.1192483794043077,0.16891122070566864,0.14301404970945392,0.1561686917447851,0.16873286274508745,0.08206744895851906,-0.019137692805494915,-0.019137692805494915,-0.04560087981225794,0.08796677477133973,0.2213603949140575,0.027982129507754073,-0.061039684971615146,0.18784926882481406,0.15602402984112787,0.09008562986247225,0.06451322953156104,0.029118215812108893,0.19182683011534177,0.21925131620033939,-0.09782410975446391],\"z\":[-0.1068290045415491,-0.03683068566403253,0.01635305450608417,0.02348148198537807,0.013718068486118394,-0.08542185591421893,-0.08542185591421893,-0.004283776833778864,-0.027896724991825574,0.01253871083711395,0.01253871083711395,-0.12582706301513227,-0.07112588593470455,0.09977336043134225,0.0395957166003545,-0.04877337861651907,-0.013745457921162345,-0.013745457921162345,-0.16239683691262843,0.09555354815208834,-0.013212979063317806,-0.024144871407672387,-0.024144871407672387,0.14272802715158572,-0.014395614711507186,-0.05946985681915811,-0.01611468619693438,0.10318503967921812,-0.10514984133249947,0.028175989728325263,0.11499790525348656,-0.04191076756220563,-0.19951771334973692,-0.19951771334973692,-0.14741868806265881,-0.011454133374892294,0.028674525410869043,-0.10081746343517049,-0.05127172528103766,-0.1867344887557555,-0.1488964714236941,0.0006949761066344595,-0.0655314588738792,-0.11626796681484526,-0.12344094479427398,-0.14397460149362526,0.033628307238636725,0.01801121947127568,0.01801121947127568,-0.14007453402629608,-0.08372409199601549,0.00756830119058041,-0.13328046137565905,0.07247629427220283,-0.0042768143237442826,0.021698000571573946,-0.08690734910440055,0.0954183528670803,0.025544645420507925,0.08565507942420929,0.005280197047828603,-0.19596542890752094,-0.15542728639704353,-0.10242472731620372,0.08813088806480815,0.01951721352471188,-0.0005944920318414092,-0.031397158347331484,-0.14183616482984,-0.16646923767870822,0.02802873669450714,-0.1151412826406968,-0.16133407381519668,-0.02818769847726004,-0.14180829834488295,-0.08281685539702892,-0.1178944742187467,-0.03308958744613816,0.03816951620894363,0.04590842191087145,-0.1454101159810325,0.142853859616019,0.15502331916887765,0.011143246142763985,-0.026137184637494384,0.11799956715646058,-0.017780613078289816,-0.07305745119479948,-0.12287939143258748,0.04716769745646323,0.07089372969933375,-0.12955318248000816,-0.06892758537815832,-0.14061346919109857,-0.02248618846742493,-0.04453124184106346,0.05568341332437915,0.0602773062540007,-0.101493061229413,-0.06396199403495495,-0.12579066492546664,-0.104859437576229,0.020616735434370523,-0.14797628391908568,-0.006890251940983912,-0.10151355011203649,-0.09304700170781609,-0.10940826170130395,-0.0031179346962391784,0.027226463599344806,-0.044042580919492785,-0.1299634991243373,-0.06161988531930895,-0.16763967200981936,0.025918846664126232,-0.14985084701238496,-0.007892952974875467,0.05303542067237041,-0.10102854320574993,-0.14645636712439783,-0.15193369072341428,-0.16803065685594648,-0.021107860851185687,0.04948116698439179,-0.07415122642948625,-0.17387304745432977,0.08786168938482401,-0.1379941014172593,0.1081319083483446,0.1081319083483446,0.1081319083483446,0.1081319083483446,0.1081319083483446,0.1081319083483446,-0.05442904422783313,-0.08009028084851239,-0.1344585105304365,-0.19422181415824158,-0.0961602087639019,-0.16944334283834536,0.016905332385709217,-0.17469134459997138,-0.07275691163623214,-0.07275691163623214,-0.08954163468842345,-0.08954163468842345,-0.08954163468842345,-0.08954163468842345,0.011039407227043834,-0.08892458391711958,-0.0053359875024379605,0.07481460133591195,-0.16413604357378983,-0.05461205908690497,-0.1349208815876568,-0.13196737239341508,0.04887128461812832,0.027208304998957603,0.04488200189206944,0.1222212402360601,-0.006612093398972501,-0.18609876466959396,0.09942563281941871,-0.022235341960346478,-0.16281166471798647,-0.11898664481110925,0.036927229519116374,-0.16397726430576207,-0.1931859796740425,-0.0973780978683895,-0.025960818853478465,0.009427288591405023,0.10108499316704486,0.11140213295108602,0.11140213295108602,0.05671022400308128,0.07849965568979433,0.04600610454059944,-0.11064243486101581,0.09233275658241065,0.028299655418294663,0.011059412706644813,0.03668084185792656,0.025487119266307666,0.03889473416338163,-0.11575156722351546,-0.005627041960227151,-0.13946056906398827,0.0879884742768262,-0.13364611293068504,-0.18349994425794944,-0.1477579720837894,-0.010921404573136896,-0.010921404573136896,-0.028788476918124906,-0.007695068034545829,-0.14658237356395867,-0.08010599422818643,0.06559182448878764,-0.15700901012626792,-0.13637123484651872,-0.1505511057875709,-0.09581082908276789,0.009963935295715034,-0.12152261023952993,-0.05969288450545509,-0.13145833589502115],\"type\":\"scatter3d\"},{\"customdata\":[[\"INVESTORS REAL ESTATE TRUST\",\"Real Estate Investment Trusts\"],[\"BRT APARTMENTS CORP.\",\"Real Estate Investment Trusts\"],[\"MONMOUTH REAL ESTATE INVESTMENT CORP\",\"Real Estate Investment Trusts\"],[\"FIRST REAL ESTATE INVESTMENT TRUST OF NEW JERSEY\",\"Real Estate Investment Trusts\"],[\"FIRST REAL ESTATE INVESTMENT TRUST OF NEW JERSEY\",\"Real Estate Investment Trusts\"],[\"URSTADT BIDDLE PROPERTIES INC\",\"Real Estate Investment Trusts\"],[\"URSTADT BIDDLE PROPERTIES INC\",\"Real Estate Investment Trusts\"],[\"PHILLIPS EDISON & COMPANY, INC.\",\"Real Estate Investment Trusts\"],[\"SL GREEN REALTY CORP\",\"Real Estate Investment Trusts\"],[\"CUBESMART\",\"Real Estate Investment Trusts\"],[\"CIM COMMERCIAL TRUST CORP\",\"Real Estate Investment Trusts\"],[\"CERES TACTICAL SYSTEMATIC L.P.\",\"Real Estate Investment Trusts\"],[\"PS BUSINESS PARKS INC/CA\",\"Real Estate Investment Trusts\"],[\"STEADFAST INCOME REIT, INC.\",\"Real Estate Investment Trusts\"],[\"RETAIL OPPORTUNITY INVESTMENTS CORP\",\"Real Estate Investment Trusts\"],[\"MORGAN STANLEY SMITH BARNEY SPECTRUM SELECT LP\",\"Real Estate Investment Trusts\"],[\"NEW YORK MORTGAGE TRUST INC\",\"Real Estate Investment Trusts\"],[\"CBL & ASSOCIATES PROPERTIES INC\",\"Real Estate Investment Trusts\"],[\"LEXINGTON REALTY TRUST\",\"Real Estate Investment Trusts\"],[\"BRANDYWINE REALTY TRUST\",\"Real Estate Investment Trusts\"],[\"LAMAR ADVERTISING CO/NEW\",\"Real Estate Investment Trusts\"],[\"JBG SMITH PROPERTIES\",\"Real Estate Investment Trusts\"],[\"KBS REAL ESTATE INVESTMENT TRUST III, INC.\",\"Real Estate Investment Trusts\"],[\"CAPSTEAD MORTGAGE CORP\",\"Real Estate Investment Trusts\"],[\"GGP INC.\",\"Real Estate Investment Trusts\"],[\"QTS REALTY TRUST, INC.\",\"Real Estate Investment Trusts\"],[\"WELLS FARGO REAL ESTATE INVESTMENT CORP.\",\"Real Estate Investment Trusts\"],[\"LIGHTSTONE VALUE PLUS REAL ESTATE INVESTMENT TRUST V, INC.\",\"Real Estate Investment Trusts\"],[\"RESOURCE APARTMENT REIT III, INC.\",\"Real Estate Investment Trusts\"],[\"CNL HEALTHCARE PROPERTIES, INC.\",\"Real Estate Investment Trusts\"],[\"RETAIL PROPERTIES OF AMERICA, INC.\",\"Real Estate Investment Trusts\"],[\"BOSTON PROPERTIES INC\",\"Real Estate Investment Trusts\"],[\"REGENCY CENTERS CORP\",\"Real Estate Investment Trusts\"],[\"NATIONAL HEALTH INVESTORS INC\",\"Real Estate Investment Trusts\"],[\"DRIVE SHACK INC.\",\"Real Estate Investment Trusts\"],[\"COLE CREDIT PROPERTY TRUST V, INC.\",\"Real Estate Investment Trusts\"],[\"EQUITY RESIDENTIAL\",\"Real Estate Investment Trusts\"],[\"KITE REALTY GROUP TRUST\",\"Real Estate Investment Trusts\"],[\"OUTFRONT MEDIA INC.\",\"Real Estate Investment Trusts\"],[\"PENNSYLVANIA REAL ESTATE INVESTMENT TRUST\",\"Real Estate Investment Trusts\"],[\"COLE REAL ESTATE INCOME STRATEGY (DAILY NAV), INC.\",\"Real Estate Investment Trusts\"],[\"REALTY INCOME CORP\",\"Real Estate Investment Trusts\"],[\"GLOBAL MEDICAL REIT INC.\",\"Real Estate Investment Trusts\"],[\"PILLARSTONE CAPITAL REIT\",\"Real Estate Investment Trusts\"],[\"CLIPPER REALTY INC.\",\"Real Estate Investment Trusts\"],[\"BLACK CREEK INDUSTRIAL REIT IV INC.\",\"Real Estate Investment Trusts\"],[\"LIGHTSTONE VALUE PLUS REAL ESTATE INVESTMENT TRUST, INC.\",\"Real Estate Investment Trusts\"],[\"KKR REAL ESTATE FINANCE TRUST INC.\",\"Real Estate Investment Trusts\"],[\"GEO GROUP INC\",\"Real Estate Investment Trusts\"],[\"AMERICAN ASSETS TRUST, INC.\",\"Real Estate Investment Trusts\"],[\"IMPAC MORTGAGE HOLDINGS INC\",\"Real Estate Investment Trusts\"],[\"CNL HEALTHCARE PROPERTIES II, INC.\",\"Real Estate Investment Trusts\"],[\"ANWORTH MORTGAGE ASSET CORP\",\"Real Estate Investment Trusts\"],[\"LIGHTSTONE VALUE PLUS REAL ESTATE INVESTMENT TRUST III, INC.\",\"Real Estate Investment Trusts\"],[\"AMERICAN FINANCE TRUST, INC\",\"Real Estate Investment Trusts\"],[\"EQUITY COMMONWEALTH\",\"Real Estate Investment Trusts\"],[\"FOUR CORNERS PROPERTY TRUST, INC.\",\"Real Estate Investment Trusts\"],[\"RAYONIER INC\",\"Real Estate Investment Trusts\"],[\"HOST HOTELS & RESORTS, INC.\",\"Real Estate Investment Trusts\"],[\"GAMING & LEISURE PROPERTIES, INC.\",\"Real Estate Investment Trusts\"],[\"NATIONAL RETAIL PROPERTIES, INC.\",\"Real Estate Investment Trusts\"],[\"SENIOR HOUSING PROPERTIES TRUST\",\"Real Estate Investment Trusts\"],[\"SUTHERLAND ASSET MANAGEMENT CORP\",\"Real Estate Investment Trusts\"],[\"TAUBMAN CENTERS INC\",\"Real Estate Investment Trusts\"],[\"RESOURCE REAL ESTATE OPPORTUNITY REIT, INC.\",\"Real Estate Investment Trusts\"],[\"TANGER FACTORY OUTLET CENTERS INC\",\"Real Estate Investment Trusts\"],[\"MFA FINANCIAL, INC.\",\"Real Estate Investment Trusts\"],[\"TERRA SECURED INCOME FUND 5, LLC\",\"Real Estate Investment Trusts\"],[\"SBA COMMUNICATIONS CORP\",\"Real Estate Investment Trusts\"],[\"LIGHTSTONE VALUE PLUS REAL ESTATE INVESTMENT TRUST II INC\",\"Real Estate Investment Trusts\"],[\"JONES LANG LASALLE INCOME PROPERTY TRUST, INC.\",\"Real Estate Investment Trusts\"],[\"AVALONBAY COMMUNITIES INC\",\"Real Estate Investment Trusts\"],[\"ARES COMMERCIAL REAL ESTATE CORP\",\"Real Estate Investment Trusts\"],[\"CARTER VALIDUS MISSION CRITICAL REIT II, INC.\",\"Real Estate Investment Trusts\"],[\"PHYSICIANS REALTY TRUST\",\"Real Estate Investment Trusts\"],[\"PROLOGIS, INC.\",\"Real Estate Investment Trusts\"],[\"ARMOUR RESIDENTIAL REIT, INC.\",\"Real Estate Investment Trusts\"],[\"CHERRY HILL MORTGAGE INVESTMENT CORP\",\"Real Estate Investment Trusts\"],[\"EMPIRE STATE REALTY TRUST, INC.\",\"Real Estate Investment Trusts\"],[\"PUBLIC STORAGE\",\"Real Estate Investment Trusts\"],[\"APARTMENT INVESTMENT & MANAGEMENT CO\",\"Real Estate Investment Trusts\"],[\"CEDAR REALTY TRUST, INC.\",\"Real Estate Investment Trusts\"],[\"HIGHLANDS REIT, INC.\",\"Real Estate Investment Trusts\"],[\"IRON MOUNTAIN INC\",\"Real Estate Investment Trusts\"],[\"SOTHERLY HOTELS INC.\",\"Real Estate Investment Trusts\"],[\"EMPIRE STATE REALTY OP, L.P.\",\"Real Estate Investment Trusts\"],[\"ESSEX PROPERTY TRUST INC\",\"Real Estate Investment Trusts\"],[\"WEINGARTEN REALTY INVESTORS /TX/\",\"Real Estate Investment Trusts\"],[\"CONDOR HOSPITALITY TRUST, INC.\",\"Real Estate Investment Trusts\"],[\"CITY OFFICE REIT, INC.\",\"Real Estate Investment Trusts\"],[\"BENEFIT STREET PARTNERS REALTY TRUST, INC.\",\"Real Estate Investment Trusts\"],[\"LIGHTSTONE REAL ESTATE INCOME TRUST INC.\",\"Real Estate Investment Trusts\"],[\"AMERICAN CAMPUS COMMUNITIES INC\",\"Real Estate Investment Trusts\"],[\"STARWOOD PROPERTY TRUST, INC.\",\"Real Estate Investment Trusts\"],[\"CORESITE REALTY CORP\",\"Real Estate Investment Trusts\"],[\"POTLATCH CORP\",\"Real Estate Investment Trusts\"],[\"CORPORATE OFFICE PROPERTIES TRUST\",\"Real Estate Investment Trusts\"],[\"RAMCO GERSHENSON PROPERTIES TRUST\",\"Real Estate Investment Trusts\"],[\"NATIONAL STORAGE AFFILIATES TRUST\",\"Real Estate Investment Trusts\"],[\"HERSHA HOSPITALITY TRUST\",\"Real Estate Investment Trusts\"],[\"JERNIGAN CAPITAL, INC.\",\"Real Estate Investment Trusts\"],[\"VORNADO REALTY TRUST\",\"Real Estate Investment Trusts\"],[\"ISTAR INC.\",\"Real Estate Investment Trusts\"],[\"ALEXANDER & BALDWIN, INC.\",\"Real Estate Investment Trusts\"],[\"HOSPITALITY INVESTORS TRUST, INC.\",\"Real Estate Investment Trusts\"],[\"SAUL CENTERS INC\",\"Real Estate Investment Trusts\"],[\"KBS GROWTH & INCOME REIT, INC.\",\"Real Estate Investment Trusts\"],[\"EXTRA SPACE STORAGE INC.\",\"Real Estate Investment Trusts\"],[\"CHESAPEAKE LODGING TRUST\",\"Real Estate Investment Trusts\"],[\"LTC PROPERTIES INC\",\"Real Estate Investment Trusts\"],[\"EASTERLY GOVERNMENT PROPERTIES, INC.\",\"Real Estate Investment Trusts\"],[\"PLYMOUTH INDUSTRIAL REIT INC.\",\"Real Estate Investment Trusts\"],[\"FRANKLIN STREET PROPERTIES CORP /MA/\",\"Real Estate Investment Trusts\"],[\"HEALTHCARE TRUST OF AMERICA, INC.\",\"Real Estate Investment Trusts\"],[\"REALSOURCE RESIDENTIAL, INC\",\"Real Estate Investment Trusts\"],[\"CARTER VALIDUS MISSION CRITICAL REIT, INC.\",\"Real Estate Investment Trusts\"],[\"SUN COMMUNITIES INC\",\"Real Estate Investment Trusts\"],[\"FIRST EQUITY PROPERTIES INC\",\"Real Estate Investment Trusts\"],[\"MID AMERICA APARTMENT COMMUNITIES INC\",\"Real Estate Investment Trusts\"],[\"BROOKFIELD DTLA FUND OFFICE TRUST INVESTOR INC.\",\"Real Estate Investment Trusts\"],[\"ANNALY CAPITAL MANAGEMENT INC\",\"Real Estate Investment Trusts\"],[\"WHEELER REAL ESTATE INVESTMENT TRUST, INC.\",\"Real Estate Investment Trusts\"],[\"ALEXANDRIA REAL ESTATE EQUITIES INC\",\"Real Estate Investment Trusts\"],[\"HIGHWOODS PROPERTIES INC\",\"Real Estate Investment Trusts\"],[\"KIMCO REALTY CORP\",\"Real Estate Investment Trusts\"],[\"INDEPENDENCE REALTY TRUST, INC.\",\"Real Estate Investment Trusts\"],[\"PREFERRED APARTMENT COMMUNITIES INC\",\"Real Estate Investment Trusts\"],[\"ELLINGTON RESIDENTIAL MORTGAGE REIT\",\"Real Estate Investment Trusts\"],[\"CORECIVIC, INC.\",\"Real Estate Investment Trusts\"],[\"ASHFORD HOSPITALITY PRIME, INC.\",\"Real Estate Investment Trusts\"],[\"LIFE STORAGE, INC.\",\"Real Estate Investment Trusts\"],[\"HEALTHCARE REALTY TRUST INC\",\"Real Estate Investment Trusts\"],[\"WINTHROP REALTY LIQUIDATING TRUST\",\"Real Estate Investment Trusts\"],[\"CORENERGY INFRASTRUCTURE TRUST, INC.\",\"Real Estate Investment Trusts\"],[\"KBS STRATEGIC OPPORTUNITY REIT II, INC.\",\"Real Estate Investment Trusts\"],[\"PEBBLEBROOK HOTEL TRUST\",\"Real Estate Investment Trusts\"],[\"SABRA HEALTH CARE REIT, INC.\",\"Real Estate Investment Trusts\"],[\"POWER REIT\",\"Real Estate Investment Trusts\"],[\"DYNEX CAPITAL INC\",\"Real Estate Investment Trusts\"],[\"DIGITAL REALTY TRUST, INC.\",\"Real Estate Investment Trusts\"],[\"STRATEGIC REALTY TRUST, INC.\",\"Real Estate Investment Trusts\"],[\"COLE OFFICE & INDUSTRIAL REIT (CCIT III), INC.\",\"Real Estate Investment Trusts\"],[\"HEALTHCARE TRUST, INC.\",\"Real Estate Investment Trusts\"],[\"LADDER CAPITAL CORP\",\"Real Estate Investment Trusts\"],[\"CROWN CASTLE INTERNATIONAL CORP\",\"Real Estate Investment Trusts\"],[\"HOWARD HUGHES CORP\",\"Real Estate Investment Trusts\"],[\"ALEXANDERS INC\",\"Real Estate Investment Trusts\"],[\"MANHATTAN BRIDGE CAPITAL, INC\",\"Real Estate Investment Trusts\"],[\"INLAND REAL ESTATE INCOME TRUST, INC.\",\"Real Estate Investment Trusts\"],[\"INLAND RESIDENTIAL PROPERTIES TRUST, INC.\",\"Real Estate Investment Trusts\"],[\"INLAND RESIDENTIAL PROPERTIES TRUST, INC.\",\"Real Estate Investment Trusts\"],[\"KBS REAL ESTATE INVESTMENT TRUST II, INC.\",\"Real Estate Investment Trusts\"],[\"RESOURCE REAL ESTATE OPPORTUNITY REIT II, INC.\",\"Real Estate Investment Trusts\"],[\"STEADFAST APARTMENT REIT III, INC.\",\"Real Estate Investment Trusts\"],[\"ACADIA REALTY TRUST\",\"Real Estate Investment Trusts\"],[\"HMG COURTLAND PROPERTIES INC\",\"Real Estate Investment Trusts\"],[\"COLE CREDIT PROPERTY TRUST IV, INC.\",\"Real Estate Investment Trusts\"],[\"FIVE OAKS INVESTMENT CORP.\",\"Real Estate Investment Trusts\"],[\"NEXPOINT RESIDENTIAL TRUST, INC.\",\"Real Estate Investment Trusts\"],[\"TWO HARBORS INVESTMENT CORP.\",\"Real Estate Investment Trusts\"],[\"WASHINGTON PRIME GROUP INC.\",\"Real Estate Investment Trusts\"],[\"TIER REIT INC\",\"Real Estate Investment Trusts\"],[\"GRANITE POINT MORTGAGE TRUST INC.\",\"Real Estate Investment Trusts\"],[\"GREAT AJAX CORP.\",\"Real Estate Investment Trusts\"],[\"DUKE REALTY CORP\",\"Real Estate Investment Trusts\"],[\"EASTGROUP PROPERTIES INC\",\"Real Estate Investment Trusts\"],[\"STEADFAST APARTMENT REIT, INC.\",\"Real Estate Investment Trusts\"],[\"RECKSON OPERATING PARTNERSHIP LP\",\"Real Estate Investment Trusts\"],[\"GLOBAL NET LEASE, INC.\",\"Real Estate Investment Trusts\"],[\"KBS STRATEGIC OPPORTUNITY REIT, INC.\",\"Real Estate Investment Trusts\"],[\"WHITESTONE REIT\",\"Real Estate Investment Trusts\"],[\"GRIFFIN CAPITAL ESSENTIAL ASSET REIT II, INC.\",\"Real Estate Investment Trusts\"],[\"UDR, INC.\",\"Real Estate Investment Trusts\"],[\"COMMUNITY HEALTHCARE TRUST INC\",\"Real Estate Investment Trusts\"],[\"VENTAS INC\",\"Real Estate Investment Trusts\"],[\"OWENS REALTY MORTGAGE, INC.\",\"Real Estate Investment Trusts\"],[\"KILROY REALTY CORP\",\"Real Estate Investment Trusts\"],[\"SUMMIT HOTEL PROPERTIES, INC.\",\"Real Estate Investment Trusts\"],[\"CORPORATE PROPERTY ASSOCIATES 18 GLOBAL INC\",\"Real Estate Investment Trusts\"],[\"CYRUSONE INC.\",\"Real Estate Investment Trusts\"],[\"COLONY NORTHSTAR, INC.\",\"Real Estate Investment Trusts\"],[\"FEDERAL REALTY INVESTMENT TRUST\",\"Real Estate Investment Trusts\"],[\"NEW SENIOR INVESTMENT GROUP INC.\",\"Real Estate Investment Trusts\"],[\"RYMAN HOSPITALITY PROPERTIES, INC.\",\"Real Estate Investment Trusts\"],[\"BRIXMOR PROPERTY GROUP INC.\",\"Real Estate Investment Trusts\"],[\"COLE OFFICE & INDUSTRIAL REIT (CCIT II), INC.\",\"Real Estate Investment Trusts\"],[\"OMEGA HEALTHCARE INVESTORS INC\",\"Real Estate Investment Trusts\"],[\"REVEN HOUSING REIT, INC.\",\"Real Estate Investment Trusts\"],[\"AMERICAN REALTY CAPITAL NEW YORK CITY REIT, INC.\",\"Real Estate Investment Trusts\"],[\"STAG INDUSTRIAL, INC.\",\"Real Estate Investment Trusts\"],[\"EQUINIX INC\",\"Real Estate Investment Trusts\"]],\"hovertemplate\":\"color=Real Estate Investment Trusts<br>0=%{x}<br>1=%{y}<br>2=%{z}<br>name=%{customdata[0]}<br>industry=%{customdata[1]}<extra></extra>\",\"legendgroup\":\"Real Estate Investment Trusts\",\"marker\":{\"color\":\"#ab63fa\",\"symbol\":\"circle\"},\"mode\":\"markers\",\"name\":\"Real Estate Investment Trusts\",\"scene\":\"scene\",\"showlegend\":true,\"x\":[-0.30028044241387714,-0.25556955388075986,-0.27301939554517235,-0.32431244799311115,-0.32431244799311115,-0.2897982779482251,-0.2897982779482251,-0.25252554719311915,-0.31207074683855474,-0.15266634052977524,-0.21705875900357244,-0.16802015566343625,-0.2767108445021348,-0.29452702436254835,-0.2962012868307276,-0.13103032878608603,-0.30944439394645734,-0.3073831779176779,-0.3261567064303049,-0.31172880196396396,-0.00739207083274784,-0.21759054761374638,-0.32039350637686975,-0.2799815471565283,-0.2573512155298087,-0.012356540680317598,-0.3157042975849285,-0.2810168514339929,-0.19441930101438454,-0.23045444078755808,-0.24626866181529522,-0.10454057921852175,-0.3100837945857766,-0.21187877375609618,-0.201094671444786,-0.27927601160360443,-0.2102338880978394,-0.2798433822768522,0.007945982620539126,-0.26017632317148603,-0.25344283340414164,-0.3095041723849422,-0.10223149740454474,-0.3150623104985509,-0.3509437748102187,-0.2925359555097454,-0.1458526487276996,-0.2469953335197851,0.029811240681787504,-0.22280961478407402,-0.23774493290017845,-0.21898324626062574,-0.2640041544396352,-0.1458526487276996,-0.324042100899182,-0.2598062582302626,-0.28583434500531735,-0.2015325587785481,-0.3165360109314154,-0.2593297285661644,-0.3529794809933603,-0.18634900292646775,-0.2237756937680032,-0.09473603384321339,-0.25649436683753385,-0.10288342169968323,-0.22786909931150212,-0.2915025419856019,-0.22414691870598039,-0.1458526487276996,-0.292054184429855,-0.23642054226955306,-0.26993043769337827,-0.2458484816707359,-0.06272399688424496,-0.16350569448626787,-0.294253164959019,-0.260701264206975,-0.18250020424069918,-0.028020764522687543,-0.27203386837425514,-0.22393202696688774,-0.2843690927882152,-0.06399953791980798,-0.21957778357891758,-0.18845134319776616,-0.25282611081165907,-0.26278521919480075,-0.21277897520009686,-0.21786111048442555,-0.3035650413241956,-0.13694477074841419,-0.1717355105513297,-0.3239120243807501,-0.11093775722034142,-0.15795684618472194,-0.23641574321793463,-0.19328522033191614,-0.23258245438390107,-0.2567257242584721,-0.2660819572288382,-0.27487281088071175,-0.29687496568709587,-0.20008706709990834,-0.28114747727082123,-0.31353224797856216,-0.27559708995505006,-0.22187386329469014,-0.1390724752302852,-0.15731595061332548,-0.1847935179818072,-0.22203491641171222,-0.19216890995993824,-0.08241500677168792,-0.15469571127095244,-0.2572150281482258,-0.1121896560826402,-0.1766484089264727,-0.24843219508625033,-0.25906959952593706,-0.12537910328559332,-0.22475359657650498,-0.18423299020389397,-0.1647185845429848,-0.20921381885194193,-0.2504116199436387,-0.3156530425184572,-0.24270160522401119,-0.04967783252289736,-0.20481184194964602,-0.18891016818053588,-0.1324292700434794,-0.23642576873126428,-0.27752123835406056,-0.243145706939431,-0.23323652860719618,-0.1299929038637615,-0.2710841959788448,-0.22869534265161656,-0.014961654610269865,-0.2734988401652649,-0.26114377281270945,-0.10511045987662491,-0.2576051959000845,-0.22187942238151687,-0.2319247055119916,-0.22506953889219788,-0.2774082244568359,-0.24561367861429953,-0.2547453422005636,-0.2547453422005636,-0.27319680021020176,-0.2682062556642655,-0.25748109183580153,-0.23223966287003234,-0.18989256703155233,-0.2839751309080381,-0.29193376714767016,-0.26810382097047936,-0.2571306411669948,-0.2247544567675773,-0.18421396135708312,-0.2340935947847393,-0.2654429711959469,-0.16666485491570457,-0.20322682687214122,-0.3117466074707476,-0.18214385988546833,-0.27203291691883724,-0.26463047164285425,-0.24286622441326927,-0.2246707903427052,-0.2593061022249155,-0.11109146205552432,-0.24962048951059834,-0.29417372814673165,-0.17597339981817955,-0.21888186788536537,-0.2004699448929018,-0.10541513984265555,-0.21522311202632058,-0.2740455120455125,-0.12137571300904908,-0.07776583385657138,-0.22195634923148103,-0.2632588140748267,-0.15442463945500556,-0.2019632088375302,-0.31465913176383814,-0.25232563375274103,0.08322893997416013],\"y\":[-0.22432945796988008,-0.15230602673853919,-0.23485103153415873,0.01295578986095768,0.01295578986095768,-0.2770068698226513,-0.2770068698226513,-0.2805747177226514,-0.28709811766114535,-0.24978121737343173,-0.20723542428316882,-0.09382039135849256,-0.2862642403154138,-0.2813357900257001,-0.20396070118334828,-0.12520985351240502,-0.018127125051964853,-0.16481483828066723,-0.22498044461120761,-0.22929946366533957,-0.27120699338342125,-0.32399090201793995,-0.2365373972174001,0.13622169688581343,-0.2612045904936124,-0.29920223961842457,0.21028455446706062,-0.19246444316758754,-0.26896564164214004,-0.11946710628861065,-0.2382328755024673,-0.033776162379194015,-0.2533967090040549,-0.08077428211856223,-0.24204460847536866,-0.15503772214654873,-0.35782821012630756,-0.28684045640164124,-0.32730442442076707,-0.2913933030253951,-0.14520581950620237,-0.21651722119098984,-0.13319719516654543,-0.13194330456469444,-0.19708687489993854,-0.19897716952615774,0.08837718050830988,-0.07081460687800124,-0.10232911185795536,-0.2854404685804791,0.12334869643421983,-0.2342068705135837,0.01575748583851867,0.08837718050830988,-0.22261212364689156,-0.21548724916136655,-0.320039307674139,-0.06305088137838055,-0.1734268456449623,-0.12576789215201067,-0.1936796130095318,-0.09261498431239797,0.012039622200991595,-0.33624188011184475,-0.23324535564242513,-0.27169229132364314,0.06629080638178597,-0.07061713267037806,-0.17738007031045938,0.08837718050830988,-0.24644431560209787,-0.26661838362890533,-0.02685349244107829,-0.22320300677985427,-0.08445002478574895,-0.29016724636665897,-0.01425803971520442,-0.01881922391871078,-0.28126360772341286,0.010829033870459458,-0.3009008147718827,-0.16566388037494034,-0.21018756644033992,-0.33814757770163356,-0.310925070825435,-0.274256175123666,-0.21825293433948445,-0.32209920602362696,-0.31675434998141655,-0.12956058365664433,-0.025320804919820052,0.09020496983168089,-0.2568393078973097,-0.08279263881197194,-0.3649647038997125,-0.2654623152667243,-0.2979453549755405,-0.3198457302950279,-0.2894978063379225,-0.23935236002582996,-0.1781170719172989,-0.18779561094551292,-0.08960685098028737,-0.17609127459762855,-0.20832389886228986,-0.2708789181846038,-0.2500861863831989,-0.24702578610975165,-0.24377379554735912,-0.023600967714177273,-0.19547332018029207,-0.2789803413507421,-0.13874293883030042,-0.13785978005926375,-0.13935822656804006,-0.19013127052703374,-0.17274882581568723,-0.18672543049817072,-0.3388268354969895,-0.14010596193172015,0.09130835161875318,-0.17162444685082215,-0.26024769769076866,0.021546250832048565,-0.28745957432430214,-0.29428073144511685,-0.1822762757715804,-0.06096849051613779,-0.16722412558082056,-0.20063236918088384,-0.32909371935008364,-0.06690689482444316,-0.06581346712802773,-0.18289703645764008,-0.2010284286209192,-0.22803641476385436,-0.18146007902968692,-0.17531096998555004,0.05805083561019138,-0.3587988031711386,-0.189370164582305,-0.10705056970408032,-0.09786764226473088,0.02986139943297036,-0.12652233913644662,-0.3218318093151369,-0.22908843559363365,0.011806761486837567,-0.19197168799008127,-0.20907911703880383,-0.20907911703880383,-0.2577540081047384,-0.2056035725340775,-0.28615986670401466,-0.18967223063477598,-0.10078276022042927,-0.1439552087453557,-0.08185379468677485,-0.21125373544929094,0.04754969256061157,-0.1696802188135422,-0.1097622972005288,-0.07309992015506159,-0.07786455590368159,-0.17425089110067019,-0.08234707792876898,-0.28351404586078993,-0.17884226841984716,-0.13134055612949624,-0.17511022080443464,-0.3005806346962513,-0.1282352890670705,-0.2707795618700874,-0.12318443335993731,-0.20809345460393272,0.08643301680109813,-0.25174903555366923,-0.2470815806899498,-0.14801430274947414,-0.36827775852406136,-0.07518578960464808,-0.27375101975065264,-0.06523821554093008,-0.25637976542517993,-0.30585505524809536,-0.12935907887102835,-0.014117782213261529,-0.330634224368952,-0.24255297157947525,-0.21367143025328747,-0.26884761712612754],\"z\":[-0.06357798603994501,-0.13539760109178334,-0.12157893196898376,0.06443887657897977,0.06443887657897977,-0.0635640615260435,-0.0635640615260435,0.08202113436168001,0.06331933990463522,-0.033302330577309476,0.05675737441098864,0.1283827984689432,0.061770873714432524,-0.066227487715826,0.027600413213617572,0.15363450083688712,-0.005013913216574491,-0.05166481880009165,-0.07423692413742797,-0.028925821336361013,0.08887184894644874,-0.03414857182822705,-0.12266687582191022,-0.08543733622923218,-0.056385892762749676,0.13992777971950365,-0.0018840373400286225,-0.09439379460371797,-0.06656872362631035,-0.16921830428462742,-0.12893251691343574,0.10363331742237386,-0.03595840471984942,0.006183551675029865,-0.07739575719208278,-0.12385386601324526,0.07279675254094235,-0.04419114200378871,0.1464584139572148,0.007242214651636116,-0.11574947481621835,-0.05110811986248975,-0.13686490965570958,0.02819531358348661,-0.13418522356778703,-0.14784019014384278,0.09669689833745872,0.04300061608429812,0.020504866933567335,-0.15123501489485358,0.09569968880538078,-0.10578442297263851,-0.14220420579051324,0.09669689833745872,-0.1190991973285506,-0.18149694861211324,-0.05554521328711568,-0.09405003189794728,-0.0674534432088181,-0.15630674783765475,-0.11310767594862975,-0.19571433022370013,0.17489278444780929,0.1525139859636705,-0.028990528338002326,0.17079968099451442,-0.00892005704681252,0.06999784203426228,-0.07511244340441628,0.09669689833745872,-0.060421867847591446,-0.07498817348938895,0.006765787249566083,-0.10426893387205986,-0.10192512886312038,0.13105161074301594,-0.12005337444099382,-0.04810669106666304,-0.05056593980305136,-0.08426595148806909,0.01264470173473719,-0.21345013751970676,-0.050832387227435924,0.1992940690579881,0.06927997249474917,-0.05112967445365411,0.048965643458887737,0.028586888673201413,0.08757092205221952,-0.20835462681325712,0.011579334275486845,0.09714538463833661,-0.007056180159790846,0.05268306407946876,0.14093528621600285,-0.10734010184050305,0.02579703989580209,0.08865165713429518,0.009599719699760142,-0.030007862606592373,0.04040271345794121,0.07671870609057001,-0.046720465495912876,-0.24342185283104822,-0.04819248377589637,0.06506743655273788,-0.1104357487058449,0.015473461009172403,-0.0738552758193735,-0.06824256329578003,-0.1595820212066406,-0.07081557818675631,0.020052403045875387,-0.1397174820158564,-0.015128262197711096,-0.0945392550253903,0.018653596370189433,0.07682985861836923,-0.010578720896178345,-0.17147578499872923,0.019599054897742812,-0.14553127191028342,-0.04551261998748611,0.1387987353900203,0.10900054469038478,-0.10983898647628566,-0.10789569170422998,-0.03211282703592245,-0.04463931578076716,-0.045035914297311415,0.12867389320278136,-0.13523760599680468,-0.09196179856609522,-0.15099109045544326,-0.08034949818481991,-0.06650870077520805,-0.007352357579161487,-0.09447271123825539,-0.13154300873471086,0.3047071347624992,-0.16035088257190683,-0.11428406873032225,-0.12952139972156532,-0.009575556122473438,-0.07220070222504874,-0.023915562178287133,0.10603481746128077,0.017399924725473456,-0.09534093397220443,-0.07530358298058117,-0.07530358298058117,-0.13101363603083152,-0.028848093937828254,-0.06681624133380663,-0.09556654763590984,0.05135582814919699,-0.12917720763222826,-0.005998203137022772,-0.13603301757180478,-0.07884380320897855,-0.1882204625611225,-0.15438874646706488,-0.031226001391073527,-0.06065514285305588,0.043852962085015955,-0.14844911667068697,-0.0743102513132128,0.11849532317407728,-0.10795635801507522,-0.05491674224156027,-0.06055256935150347,-0.20022772232440544,-0.10152070539221156,-0.13831529206102675,0.054134908831283975,0.018891530877465416,-0.13365777784015115,-0.12008132467801767,-0.0543796472534727,0.19491055235086663,-0.14346660493692706,-0.15490403858893517,-0.11964731005185017,0.043519290601717574,0.02301922431741587,-0.12359861441277124,-0.22920042960831258,0.0237589223250573,-0.13026616045634315,-0.154626764284862,0.4563195363774015],\"type\":\"scatter3d\"},{\"customdata\":[[\"TOMPKINS FINANCIAL CORP\",\"State Commercial Banks (commercial banking)\"],[\"TRIUMPH BANCORP, INC.\",\"State Commercial Banks (commercial banking)\"],[\"GREAT SOUTHERN BANCORP, INC.\",\"State Commercial Banks (commercial banking)\"],[\"SOUTH STATE CORP\",\"State Commercial Banks (commercial banking)\"],[\"OLD LINE BANCSHARES INC\",\"State Commercial Banks (commercial banking)\"],[\"SEACOAST BANKING CORP OF FLORIDA\",\"State Commercial Banks (commercial banking)\"],[\"CITIZENS FINANCIAL GROUP INC/RI\",\"State Commercial Banks (commercial banking)\"],[\"COMMUNITY WEST BANCSHARES /\",\"State Commercial Banks (commercial banking)\"],[\"MACKINAC FINANCIAL CORP /MI/\",\"State Commercial Banks (commercial banking)\"],[\"UNITY BANCORP INC /NJ/\",\"State Commercial Banks (commercial banking)\"],[\"UNITY BANCORP INC /NJ/\",\"State Commercial Banks (commercial banking)\"],[\"EAST WEST BANCORP INC\",\"State Commercial Banks (commercial banking)\"],[\"HEARTLAND FINANCIAL USA INC\",\"State Commercial Banks (commercial banking)\"],[\"COUNTY BANCORP, INC.\",\"State Commercial Banks (commercial banking)\"],[\"CHEMUNG FINANCIAL CORP\",\"State Commercial Banks (commercial banking)\"],[\"BRYN MAWR BANK CORP\",\"State Commercial Banks (commercial banking)\"],[\"EAGLE BANCORP MONTANA, INC.\",\"State Commercial Banks (commercial banking)\"],[\"1ST SOURCE CORP\",\"State Commercial Banks (commercial banking)\"],[\"SERVISFIRST BANCSHARES, INC.\",\"State Commercial Banks (commercial banking)\"],[\"SIERRA BANCORP\",\"State Commercial Banks (commercial banking)\"],[\"HOPFED BANCORP INC\",\"State Commercial Banks (commercial banking)\"],[\"HOPFED BANCORP INC\",\"State Commercial Banks (commercial banking)\"],[\"FIRST FINANCIAL BANKSHARES INC\",\"State Commercial Banks (commercial banking)\"],[\"CHEMICAL FINANCIAL CORP\",\"State Commercial Banks (commercial banking)\"],[\"SECURITY FEDERAL CORP\",\"State Commercial Banks (commercial banking)\"],[\"FIRST FINANCIAL CORP /IN/\",\"State Commercial Banks (commercial banking)\"],[\"WESTERN ALLIANCE BANCORPORATION\",\"State Commercial Banks (commercial banking)\"],[\"TRISTATE CAPITAL HOLDINGS, INC.\",\"State Commercial Banks (commercial banking)\"],[\"UNION BANKSHARES CORP\",\"State Commercial Banks (commercial banking)\"],[\"CAROLINA TRUST BANCSHARES, INC.\",\"State Commercial Banks (commercial banking)\"],[\"COMMUNITY TRUST BANCORP INC /KY/\",\"State Commercial Banks (commercial banking)\"],[\"HILLS BANCORPORATION\",\"State Commercial Banks (commercial banking)\"],[\"MACATAWA BANK CORP\",\"State Commercial Banks (commercial banking)\"],[\"PREMIER FINANCIAL BANCORP INC\",\"State Commercial Banks (commercial banking)\"],[\"KENTUCKY BANCSHARES INC /KY/\",\"State Commercial Banks (commercial banking)\"],[\"RIVER FINANCIAL CORP\",\"State Commercial Banks (commercial banking)\"],[\"BAR HARBOR BANKSHARES\",\"State Commercial Banks (commercial banking)\"],[\"PARKE BANCORP, INC.\",\"State Commercial Banks (commercial banking)\"],[\"RANDOLPH BANCORP, INC.\",\"State Commercial Banks (commercial banking)\"],[\"BANK OF HAWAII CORP\",\"State Commercial Banks (commercial banking)\"],[\"BSB BANCORP, INC.\",\"State Commercial Banks (commercial banking)\"],[\"INDEPENDENT BANK CORP /MI/\",\"State Commercial Banks (commercial banking)\"],[\"PACIFIC PREMIER BANCORP INC\",\"State Commercial Banks (commercial banking)\"],[\"OHIO VALLEY BANC CORP\",\"State Commercial Banks (commercial banking)\"],[\"CVB FINANCIAL CORP\",\"State Commercial Banks (commercial banking)\"],[\"BANK OF NEW YORK MELLON CORP\",\"State Commercial Banks (commercial banking)\"],[\"TWO RIVER BANCORP\",\"State Commercial Banks (commercial banking)\"],[\"STEWARDSHIP FINANCIAL CORP\",\"State Commercial Banks (commercial banking)\"],[\"LAKELAND FINANCIAL CORP\",\"State Commercial Banks (commercial banking)\"],[\"FAUQUIER BANKSHARES, INC.\",\"State Commercial Banks (commercial banking)\"],[\"LIVE OAK BANCSHARES, INC.\",\"State Commercial Banks (commercial banking)\"],[\"M&T BANK CORP\",\"State Commercial Banks (commercial banking)\"],[\"INTERNATIONAL BANCSHARES CORP\",\"State Commercial Banks (commercial banking)\"],[\"SUMMIT FINANCIAL GROUP INC\",\"State Commercial Banks (commercial banking)\"],[\"SUSSEX BANCORP\",\"State Commercial Banks (commercial banking)\"],[\"PRIME MERIDIAN HOLDING CO\",\"State Commercial Banks (commercial banking)\"],[\"BANKWELL FINANCIAL GROUP, INC.\",\"State Commercial Banks (commercial banking)\"],[\"SOUTHWEST GEORGIA FINANCIAL CORP\",\"State Commercial Banks (commercial banking)\"],[\"BANK OF COMMERCE HOLDINGS\",\"State Commercial Banks (commercial banking)\"],[\"BANK OF COMMERCE HOLDINGS\",\"State Commercial Banks (commercial banking)\"],[\"UNITED BANCORP INC /OH/\",\"State Commercial Banks (commercial banking)\"],[\"PARKWAY ACQUISITION CORP.\",\"State Commercial Banks (commercial banking)\"],[\"INVESTAR HOLDING CORP\",\"State Commercial Banks (commercial banking)\"],[\"RENASANT CORP\",\"State Commercial Banks (commercial banking)\"],[\"RELIANT BANCORP, INC.\",\"State Commercial Banks (commercial banking)\"],[\"FIRST COMMUNITY CORP /SC/\",\"State Commercial Banks (commercial banking)\"],[\"FIRST FINANCIAL NORTHWEST, INC.\",\"State Commercial Banks (commercial banking)\"],[\"COMMERCE BANCSHARES INC /MO/\",\"State Commercial Banks (commercial banking)\"],[\"JUNIATA VALLEY FINANCIAL CORP\",\"State Commercial Banks (commercial banking)\"],[\"HOWARD BANCORP INC\",\"State Commercial Banks (commercial banking)\"],[\"EAGLE FINANCIAL SERVICES INC\",\"State Commercial Banks (commercial banking)\"],[\"MVB FINANCIAL CORP\",\"State Commercial Banks (commercial banking)\"],[\"INDEPENDENT BANK GROUP, INC.\",\"State Commercial Banks (commercial banking)\"],[\"CONNECTONE BANCORP, INC.\",\"State Commercial Banks (commercial banking)\"],[\"REPUBLIC BANCORP INC /KY/\",\"State Commercial Banks (commercial banking)\"],[\"SOUTHSIDE BANCSHARES INC\",\"State Commercial Banks (commercial banking)\"],[\"FIRST HAWAIIAN, INC.\",\"State Commercial Banks (commercial banking)\"],[\"FIRST US BANCSHARES INC\",\"State Commercial Banks (commercial banking)\"],[\"COMMUNITY FINANCIAL CORP /MD/\",\"State Commercial Banks (commercial banking)\"],[\"SVB FINANCIAL GROUP\",\"State Commercial Banks (commercial banking)\"],[\"CATHAY GENERAL BANCORP\",\"State Commercial Banks (commercial banking)\"],[\"BANK OF THE JAMES FINANCIAL GROUP INC\",\"State Commercial Banks (commercial banking)\"],[\"FLUSHING FINANCIAL CORP\",\"State Commercial Banks (commercial banking)\"],[\"FRANKLIN FINANCIAL SERVICES CORP /PA/\",\"State Commercial Banks (commercial banking)\"],[\"CENTRAL PACIFIC FINANCIAL CORP\",\"State Commercial Banks (commercial banking)\"],[\"CENTRAL PACIFIC FINANCIAL CORP\",\"State Commercial Banks (commercial banking)\"],[\"CENTRAL VALLEY COMMUNITY BANCORP\",\"State Commercial Banks (commercial banking)\"],[\"F&M BANK CORP\",\"State Commercial Banks (commercial banking)\"],[\"FARMERS NATIONAL BANC CORP /OH/\",\"State Commercial Banks (commercial banking)\"],[\"CITIZENS & NORTHERN CORP\",\"State Commercial Banks (commercial banking)\"],[\"GUARANTY FEDERAL BANCSHARES INC\",\"State Commercial Banks (commercial banking)\"],[\"CAROLINA FINANCIAL CORP\",\"State Commercial Banks (commercial banking)\"],[\"FIRST INTERNET BANCORP\",\"State Commercial Banks (commercial banking)\"],[\"HARBORONE BANCORP, INC.\",\"State Commercial Banks (commercial banking)\"],[\"UNITED BANKSHARES INC/WV\",\"State Commercial Banks (commercial banking)\"],[\"INDEPENDENT BANK CORP\",\"State Commercial Banks (commercial banking)\"],[\"CITIZENS FINANCIAL SERVICES INC\",\"State Commercial Banks (commercial banking)\"],[\"NORWOOD FINANCIAL CORP\",\"State Commercial Banks (commercial banking)\"],[\"WEST BANCORPORATION INC\",\"State Commercial Banks (commercial banking)\"],[\"CUSTOMERS BANCORP, INC.\",\"State Commercial Banks (commercial banking)\"],[\"WEST END INDIANA BANCSHARES, INC.\",\"State Commercial Banks (commercial banking)\"],[\"ATLANTIC CAPITAL BANCSHARES, INC.\",\"State Commercial Banks (commercial banking)\"],[\"IBERIABANK CORP\",\"State Commercial Banks (commercial banking)\"],[\"MERCANTILE BANK CORP\",\"State Commercial Banks (commercial banking)\"],[\"GERMAN AMERICAN BANCORP, INC.\",\"State Commercial Banks (commercial banking)\"],[\"S&T BANCORP INC\",\"State Commercial Banks (commercial banking)\"],[\"HILLTOP HOLDINGS INC.\",\"State Commercial Banks (commercial banking)\"],[\"CB FINANCIAL SERVICES, INC.\",\"State Commercial Banks (commercial banking)\"],[\"ENTERPRISE FINANCIAL SERVICES CORP\",\"State Commercial Banks (commercial banking)\"],[\"AUBURN NATIONAL BANCORPORATION, INC\",\"State Commercial Banks (commercial banking)\"],[\"FIRST KEYSTONE CORP\",\"State Commercial Banks (commercial banking)\"],[\"TEXAS CAPITAL BANCSHARES INC/TX\",\"State Commercial Banks (commercial banking)\"],[\"VILLAGE BANK & TRUST FINANCIAL CORP.\",\"State Commercial Banks (commercial banking)\"],[\"STOCK YARDS BANCORP, INC.\",\"State Commercial Banks (commercial banking)\"],[\"BUSINESS FIRST BANCSHARES, INC.\",\"State Commercial Banks (commercial banking)\"]],\"hovertemplate\":\"color=State Commercial Banks (commercial banking)<br>0=%{x}<br>1=%{y}<br>2=%{z}<br>name=%{customdata[0]}<br>industry=%{customdata[1]}<extra></extra>\",\"legendgroup\":\"State Commercial Banks (commercial banking)\",\"marker\":{\"color\":\"#FFA15A\",\"symbol\":\"circle\"},\"mode\":\"markers\",\"name\":\"State Commercial Banks (commercial banking)\",\"scene\":\"scene\",\"showlegend\":true,\"x\":[-0.3527189963467414,-0.2576294317253281,-0.37734699925657733,-0.3279958158723044,-0.34175420980719223,-0.335369660535421,-0.2677666566119347,-0.26178746298524314,-0.35071967310357766,-0.3793669369988853,-0.3793669369988853,-0.16947550925154226,-0.3337605333506839,-0.346988065172545,-0.3687015722397708,-0.31897488955494585,-0.38916236397638876,-0.305121662939784,-0.30653242631744265,-0.3350428668685362,-0.4110407349414177,-0.4110407349414177,-0.29181650365194595,-0.3255820658721652,-0.3959760694942658,-0.3704745013797735,-0.3629844087941579,-0.2730680964051133,-0.34571541780882425,-0.3570653572809753,-0.2930955466900034,-0.39665718855823423,-0.3581582464111813,-0.288338992466028,-0.3672283464050446,-0.36153893960639566,-0.38161657126691134,-0.40975480443220164,-0.37777760332375404,-0.2647224572290946,-0.36946186025149735,-0.2160713262226809,-0.3415199332115675,-0.34835411733219457,-0.3182333476499426,-0.18855024148577812,-0.34861488164697074,-0.3780247674108359,-0.3436344486755143,-0.38567411965337844,-0.35461258891081954,-0.3179699943761271,-0.33908014919059765,-0.3207478231657162,-0.33742243249367715,-0.32113414876645885,-0.30634765411124076,-0.3657068967530027,-0.31016593400904724,-0.31016593400904724,-0.3583620490229002,-0.3442967749819991,-0.34791973268749365,-0.37815910533432134,-0.3421084848858053,-0.33813302839323794,-0.3871780670340914,-0.2987384431446076,-0.35962954220753135,-0.24158695387842336,-0.35835538942133294,-0.33785920691476606,-0.3514799943134548,-0.356634643248307,-0.3436612546805811,-0.33994348933770185,-0.31325919966979315,-0.33108760371223084,-0.3855791575051577,-0.29983650785836424,-0.3464784894529359,-0.33693647875588384,-0.33523661972362206,-0.39287069582503203,-0.3155644796418519,-0.3155644796418519,-0.3458927620718642,0.006994846929503715,-0.36815047573600806,-0.27176270888811643,-0.3934073935049091,-0.3475093294986314,-0.3026158287468898,-0.3891600136656017,-0.3081384082416324,-0.3767394129176254,-0.3554436128599014,-0.411365487688632,-0.3485548635882078,-0.2634655354407573,-0.35058511774109724,-0.3008473396341831,-0.3264481088692939,-0.30704650490869306,-0.34526250497336947,-0.11317147919722902,-0.3592043704316756,-0.36436121560904855,-0.2423497464932019,-0.36519288526306004,-0.3598908353629097,-0.2773074447616302,-0.3157589679614178,-0.3211906640526999,-0.30704009116791287],\"y\":[0.3784991602894917,0.21562274945991242,0.15436083028784672,0.4513119305029222,0.2686507549627769,0.4629285672071441,0.3379305381132026,0.1754696110726685,0.3607129006217856,0.41855306600159276,0.41855306600159276,0.02085509671536209,0.3648499398730622,0.44297323326365967,0.4637629923773712,0.4073111008061258,0.28761379840829937,0.367573891059173,0.3609239606469495,0.4236096070441796,0.36324590186554373,0.36324590186554373,0.3981101779851865,0.4128527832312602,0.3396432243603032,0.45886084144303785,0.13397549354942495,0.2801541282217059,0.4680426468193012,0.46150613398958773,0.2781117650754766,0.40938028688555533,0.31887018742196116,0.303981904054354,0.4189479935784265,0.47223434582537555,0.4028219732444665,0.35303148813504326,0.3224306555837272,0.4561649003165381,0.27516868170597,0.060726304344950986,0.39777807828803724,0.4088281773970969,0.4405565946975175,0.1822058466447492,0.31477134152227076,0.4443024295399633,0.4661403678988891,0.4929934732910793,0.4737581653456285,0.41432878868362827,0.46656489626726644,0.41557219663250633,0.4273204409853628,0.33212896904252787,0.35987723518285786,0.36629507977185644,0.46043688882122485,0.46043688882122485,0.44086579655543245,0.46953800546908403,0.4282360113595375,0.35590298064933,0.4730463856091324,0.44164539092710675,0.23017223906798842,0.421335881402757,0.47423561024789423,0.07142973354394136,0.4908142585160544,0.47385003737459763,0.3989165690383052,0.43434674636288256,0.4546740083580477,0.4738608361444668,0.4486217534281296,0.4639337500005676,0.2647405311588735,0.42540270398397984,0.4493245593717598,0.48120162859699456,0.2594592028636883,0.45174990376268076,0.45327922367241114,0.45327922367241114,0.45877927570898125,-0.019051100738663382,0.4487133390894643,0.2298025141985767,0.32236500031126447,0.4440458887685668,0.39275286136600385,0.35229297232825735,0.3218662886107578,0.2280339906292188,0.47227853535240044,0.32456513939110243,0.41930312103913003,0.287037490046114,0.2416645838312814,0.40333947248879326,0.4250207259600601,0.27529171530814844,0.4359679147781519,0.13925059251075347,0.41679947663124667,0.24449764592804066,0.18684636763756504,0.47043305281144027,0.4301455959756355,0.39086253103244883,0.3839367009633335,0.45281608370915594,0.371959861660786],\"z\":[0.08808017617213035,0.03264613074044433,0.061982485531957655,0.08710635453014363,0.05361637822751412,0.07705981932893426,0.051674242869653254,0.2166999393076272,0.0862777885727962,0.12041003151754182,0.12041003151754182,0.025427325225078085,0.08194654340934862,0.08576654350504595,0.10416765205026485,0.08728745789899786,0.07648347832035576,0.05775122736708756,0.07369280112624613,0.1109644370149829,0.09221387707786012,0.09221387707786012,0.027128475581818967,0.026672003660550673,0.061693144914248106,0.04348553637726839,0.13886544793565772,0.07860926843777485,0.08834241424515989,0.057228667399098106,0.03912635058748505,0.07080200769127667,0.04350966018925698,0.21637056999710816,0.07536565562579138,0.041095606792967074,0.0720801959740203,0.08875571225612881,0.072966270383381,0.04707971678828603,0.06819341158067876,0.1012748315158379,0.05958864417479715,0.08072363279575405,0.020451561794700562,0.14343917559117866,0.1300015902554753,0.1026086889306064,0.0699388427701681,0.1043931755879785,0.043786097482205785,0.004271755895328604,0.04190430758259125,0.09271195146517765,0.07433735889845698,0.12506405628201558,0.03809529988840187,0.050641298338553756,0.06265539711428546,0.06265539711428546,0.0655890034001993,0.038006451670145304,0.06673952555952266,0.07152016703386567,0.09290079525916073,0.04416205983986952,0.06096401831867989,0.10941383021378169,0.10031229476056135,-0.04596385587198266,0.04760249800379363,0.045751876923585795,0.07183072675782345,0.12230984892097684,0.10235332831418399,0.02078808256633719,0.014286795799064105,0.05257415286434316,0.09186289663009099,0.0685707901953706,0.07246770534504578,0.06740803999497814,0.042894340349902624,0.10127763222249886,0.033011129710302956,0.033011129710302956,0.07531419638669139,0.1393768589407516,0.01953498757702455,0.24776980934642107,0.09321801442126164,0.03834099282377402,0.12243248830279764,0.10290577639923126,0.0884854239404737,0.16741457966246412,0.05122447777470834,0.0931680478136233,0.055419473904072765,0.21641182766664752,0.05104108506507675,0.06987356553257985,0.0001968646686292455,0.08234579986642915,0.03258212274628557,0.37196961029209336,0.018678624773578026,0.0428363137065554,0.0011400748398248215,0.0949571802102597,0.07202923593407899,0.008321895091141746,0.08311639379122672,0.05946983833075398,0.0756920484580726],\"type\":\"scatter3d\"}],                        {\"template\":{\"data\":{\"bar\":[{\"error_x\":{\"color\":\"#2a3f5f\"},\"error_y\":{\"color\":\"#2a3f5f\"},\"marker\":{\"line\":{\"color\":\"#E5ECF6\",\"width\":0.5},\"pattern\":{\"fillmode\":\"overlay\",\"size\":10,\"solidity\":0.2}},\"type\":\"bar\"}],\"barpolar\":[{\"marker\":{\"line\":{\"color\":\"#E5ECF6\",\"width\":0.5},\"pattern\":{\"fillmode\":\"overlay\",\"size\":10,\"solidity\":0.2}},\"type\":\"barpolar\"}],\"carpet\":[{\"aaxis\":{\"endlinecolor\":\"#2a3f5f\",\"gridcolor\":\"white\",\"linecolor\":\"white\",\"minorgridcolor\":\"white\",\"startlinecolor\":\"#2a3f5f\"},\"baxis\":{\"endlinecolor\":\"#2a3f5f\",\"gridcolor\":\"white\",\"linecolor\":\"white\",\"minorgridcolor\":\"white\",\"startlinecolor\":\"#2a3f5f\"},\"type\":\"carpet\"}],\"choropleth\":[{\"colorbar\":{\"outlinewidth\":0,\"ticks\":\"\"},\"type\":\"choropleth\"}],\"contour\":[{\"colorbar\":{\"outlinewidth\":0,\"ticks\":\"\"},\"colorscale\":[[0.0,\"#0d0887\"],[0.1111111111111111,\"#46039f\"],[0.2222222222222222,\"#7201a8\"],[0.3333333333333333,\"#9c179e\"],[0.4444444444444444,\"#bd3786\"],[0.5555555555555556,\"#d8576b\"],[0.6666666666666666,\"#ed7953\"],[0.7777777777777778,\"#fb9f3a\"],[0.8888888888888888,\"#fdca26\"],[1.0,\"#f0f921\"]],\"type\":\"contour\"}],\"contourcarpet\":[{\"colorbar\":{\"outlinewidth\":0,\"ticks\":\"\"},\"type\":\"contourcarpet\"}],\"heatmap\":[{\"colorbar\":{\"outlinewidth\":0,\"ticks\":\"\"},\"colorscale\":[[0.0,\"#0d0887\"],[0.1111111111111111,\"#46039f\"],[0.2222222222222222,\"#7201a8\"],[0.3333333333333333,\"#9c179e\"],[0.4444444444444444,\"#bd3786\"],[0.5555555555555556,\"#d8576b\"],[0.6666666666666666,\"#ed7953\"],[0.7777777777777778,\"#fb9f3a\"],[0.8888888888888888,\"#fdca26\"],[1.0,\"#f0f921\"]],\"type\":\"heatmap\"}],\"heatmapgl\":[{\"colorbar\":{\"outlinewidth\":0,\"ticks\":\"\"},\"colorscale\":[[0.0,\"#0d0887\"],[0.1111111111111111,\"#46039f\"],[0.2222222222222222,\"#7201a8\"],[0.3333333333333333,\"#9c179e\"],[0.4444444444444444,\"#bd3786\"],[0.5555555555555556,\"#d8576b\"],[0.6666666666666666,\"#ed7953\"],[0.7777777777777778,\"#fb9f3a\"],[0.8888888888888888,\"#fdca26\"],[1.0,\"#f0f921\"]],\"type\":\"heatmapgl\"}],\"histogram\":[{\"marker\":{\"pattern\":{\"fillmode\":\"overlay\",\"size\":10,\"solidity\":0.2}},\"type\":\"histogram\"}],\"histogram2d\":[{\"colorbar\":{\"outlinewidth\":0,\"ticks\":\"\"},\"colorscale\":[[0.0,\"#0d0887\"],[0.1111111111111111,\"#46039f\"],[0.2222222222222222,\"#7201a8\"],[0.3333333333333333,\"#9c179e\"],[0.4444444444444444,\"#bd3786\"],[0.5555555555555556,\"#d8576b\"],[0.6666666666666666,\"#ed7953\"],[0.7777777777777778,\"#fb9f3a\"],[0.8888888888888888,\"#fdca26\"],[1.0,\"#f0f921\"]],\"type\":\"histogram2d\"}],\"histogram2dcontour\":[{\"colorbar\":{\"outlinewidth\":0,\"ticks\":\"\"},\"colorscale\":[[0.0,\"#0d0887\"],[0.1111111111111111,\"#46039f\"],[0.2222222222222222,\"#7201a8\"],[0.3333333333333333,\"#9c179e\"],[0.4444444444444444,\"#bd3786\"],[0.5555555555555556,\"#d8576b\"],[0.6666666666666666,\"#ed7953\"],[0.7777777777777778,\"#fb9f3a\"],[0.8888888888888888,\"#fdca26\"],[1.0,\"#f0f921\"]],\"type\":\"histogram2dcontour\"}],\"mesh3d\":[{\"colorbar\":{\"outlinewidth\":0,\"ticks\":\"\"},\"type\":\"mesh3d\"}],\"parcoords\":[{\"line\":{\"colorbar\":{\"outlinewidth\":0,\"ticks\":\"\"}},\"type\":\"parcoords\"}],\"pie\":[{\"automargin\":true,\"type\":\"pie\"}],\"scatter\":[{\"marker\":{\"colorbar\":{\"outlinewidth\":0,\"ticks\":\"\"}},\"type\":\"scatter\"}],\"scatter3d\":[{\"line\":{\"colorbar\":{\"outlinewidth\":0,\"ticks\":\"\"}},\"marker\":{\"colorbar\":{\"outlinewidth\":0,\"ticks\":\"\"}},\"type\":\"scatter3d\"}],\"scattercarpet\":[{\"marker\":{\"colorbar\":{\"outlinewidth\":0,\"ticks\":\"\"}},\"type\":\"scattercarpet\"}],\"scattergeo\":[{\"marker\":{\"colorbar\":{\"outlinewidth\":0,\"ticks\":\"\"}},\"type\":\"scattergeo\"}],\"scattergl\":[{\"marker\":{\"colorbar\":{\"outlinewidth\":0,\"ticks\":\"\"}},\"type\":\"scattergl\"}],\"scattermapbox\":[{\"marker\":{\"colorbar\":{\"outlinewidth\":0,\"ticks\":\"\"}},\"type\":\"scattermapbox\"}],\"scatterpolar\":[{\"marker\":{\"colorbar\":{\"outlinewidth\":0,\"ticks\":\"\"}},\"type\":\"scatterpolar\"}],\"scatterpolargl\":[{\"marker\":{\"colorbar\":{\"outlinewidth\":0,\"ticks\":\"\"}},\"type\":\"scatterpolargl\"}],\"scatterternary\":[{\"marker\":{\"colorbar\":{\"outlinewidth\":0,\"ticks\":\"\"}},\"type\":\"scatterternary\"}],\"surface\":[{\"colorbar\":{\"outlinewidth\":0,\"ticks\":\"\"},\"colorscale\":[[0.0,\"#0d0887\"],[0.1111111111111111,\"#46039f\"],[0.2222222222222222,\"#7201a8\"],[0.3333333333333333,\"#9c179e\"],[0.4444444444444444,\"#bd3786\"],[0.5555555555555556,\"#d8576b\"],[0.6666666666666666,\"#ed7953\"],[0.7777777777777778,\"#fb9f3a\"],[0.8888888888888888,\"#fdca26\"],[1.0,\"#f0f921\"]],\"type\":\"surface\"}],\"table\":[{\"cells\":{\"fill\":{\"color\":\"#EBF0F8\"},\"line\":{\"color\":\"white\"}},\"header\":{\"fill\":{\"color\":\"#C8D4E3\"},\"line\":{\"color\":\"white\"}},\"type\":\"table\"}]},\"layout\":{\"annotationdefaults\":{\"arrowcolor\":\"#2a3f5f\",\"arrowhead\":0,\"arrowwidth\":1},\"autotypenumbers\":\"strict\",\"coloraxis\":{\"colorbar\":{\"outlinewidth\":0,\"ticks\":\"\"}},\"colorscale\":{\"diverging\":[[0,\"#8e0152\"],[0.1,\"#c51b7d\"],[0.2,\"#de77ae\"],[0.3,\"#f1b6da\"],[0.4,\"#fde0ef\"],[0.5,\"#f7f7f7\"],[0.6,\"#e6f5d0\"],[0.7,\"#b8e186\"],[0.8,\"#7fbc41\"],[0.9,\"#4d9221\"],[1,\"#276419\"]],\"sequential\":[[0.0,\"#0d0887\"],[0.1111111111111111,\"#46039f\"],[0.2222222222222222,\"#7201a8\"],[0.3333333333333333,\"#9c179e\"],[0.4444444444444444,\"#bd3786\"],[0.5555555555555556,\"#d8576b\"],[0.6666666666666666,\"#ed7953\"],[0.7777777777777778,\"#fb9f3a\"],[0.8888888888888888,\"#fdca26\"],[1.0,\"#f0f921\"]],\"sequentialminus\":[[0.0,\"#0d0887\"],[0.1111111111111111,\"#46039f\"],[0.2222222222222222,\"#7201a8\"],[0.3333333333333333,\"#9c179e\"],[0.4444444444444444,\"#bd3786\"],[0.5555555555555556,\"#d8576b\"],[0.6666666666666666,\"#ed7953\"],[0.7777777777777778,\"#fb9f3a\"],[0.8888888888888888,\"#fdca26\"],[1.0,\"#f0f921\"]]},\"colorway\":[\"#636efa\",\"#EF553B\",\"#00cc96\",\"#ab63fa\",\"#FFA15A\",\"#19d3f3\",\"#FF6692\",\"#B6E880\",\"#FF97FF\",\"#FECB52\"],\"font\":{\"color\":\"#2a3f5f\"},\"geo\":{\"bgcolor\":\"white\",\"lakecolor\":\"white\",\"landcolor\":\"#E5ECF6\",\"showlakes\":true,\"showland\":true,\"subunitcolor\":\"white\"},\"hoverlabel\":{\"align\":\"left\"},\"hovermode\":\"closest\",\"mapbox\":{\"style\":\"light\"},\"paper_bgcolor\":\"white\",\"plot_bgcolor\":\"#E5ECF6\",\"polar\":{\"angularaxis\":{\"gridcolor\":\"white\",\"linecolor\":\"white\",\"ticks\":\"\"},\"bgcolor\":\"#E5ECF6\",\"radialaxis\":{\"gridcolor\":\"white\",\"linecolor\":\"white\",\"ticks\":\"\"}},\"scene\":{\"xaxis\":{\"backgroundcolor\":\"#E5ECF6\",\"gridcolor\":\"white\",\"gridwidth\":2,\"linecolor\":\"white\",\"showbackground\":true,\"ticks\":\"\",\"zerolinecolor\":\"white\"},\"yaxis\":{\"backgroundcolor\":\"#E5ECF6\",\"gridcolor\":\"white\",\"gridwidth\":2,\"linecolor\":\"white\",\"showbackground\":true,\"ticks\":\"\",\"zerolinecolor\":\"white\"},\"zaxis\":{\"backgroundcolor\":\"#E5ECF6\",\"gridcolor\":\"white\",\"gridwidth\":2,\"linecolor\":\"white\",\"showbackground\":true,\"ticks\":\"\",\"zerolinecolor\":\"white\"}},\"shapedefaults\":{\"line\":{\"color\":\"#2a3f5f\"}},\"ternary\":{\"aaxis\":{\"gridcolor\":\"white\",\"linecolor\":\"white\",\"ticks\":\"\"},\"baxis\":{\"gridcolor\":\"white\",\"linecolor\":\"white\",\"ticks\":\"\"},\"bgcolor\":\"#E5ECF6\",\"caxis\":{\"gridcolor\":\"white\",\"linecolor\":\"white\",\"ticks\":\"\"}},\"title\":{\"x\":0.05},\"xaxis\":{\"automargin\":true,\"gridcolor\":\"white\",\"linecolor\":\"white\",\"ticks\":\"\",\"title\":{\"standoff\":15},\"zerolinecolor\":\"white\",\"zerolinewidth\":2},\"yaxis\":{\"automargin\":true,\"gridcolor\":\"white\",\"linecolor\":\"white\",\"ticks\":\"\",\"title\":{\"standoff\":15},\"zerolinecolor\":\"white\",\"zerolinewidth\":2}}},\"scene\":{\"domain\":{\"x\":[0.0,1.0],\"y\":[0.0,1.0]},\"xaxis\":{\"title\":{\"text\":\"0\"}},\"yaxis\":{\"title\":{\"text\":\"1\"}},\"zaxis\":{\"title\":{\"text\":\"2\"}}},\"legend\":{\"title\":{\"text\":\"color\"},\"tracegroupgap\":0},\"margin\":{\"t\":60},\"height\":700,\"width\":1200},                        {\"responsive\": true}                    ).then(function(){\n",
       "                            \n",
       "var gd = document.getElementById('0d4c9b58-7b84-4f96-86f9-1db68f135d8b');\n",
       "var x = new MutationObserver(function (mutations, observer) {{\n",
       "        var display = window.getComputedStyle(gd).display;\n",
       "        if (!display || display === 'none') {{\n",
       "            console.log([gd, 'removed!']);\n",
       "            Plotly.purge(gd);\n",
       "            observer.disconnect();\n",
       "        }}\n",
       "}});\n",
       "\n",
       "// Listen for the removal of the full notebook cells\n",
       "var notebookContainer = gd.closest('#notebook-container');\n",
       "if (notebookContainer) {{\n",
       "    x.observe(notebookContainer, {childList: true});\n",
       "}}\n",
       "\n",
       "// Listen for the clearing of the current output cell\n",
       "var outputEl = gd.closest('.output');\n",
       "if (outputEl) {{\n",
       "    x.observe(outputEl, {childList: true});\n",
       "}}\n",
       "\n",
       "                        })                };                });            </script>        </div>"
      ]
     },
     "metadata": {},
     "output_type": "display_data"
    }
   ],
   "source": [
    "fig = px.scatter_3d(plot_pca[1], x =0 , y = 1, z = 2, hover_data={\"name\": plot_pca[1].index.get_level_values(0),\n",
    "                                                              \"industry\": plot_pca[1].index.get_level_values(1)},\n",
    "                    color = plot_pca[1].index.get_level_values(1), width=1200, height=700)\n",
    "fig.show()"
   ]
  },
  {
   "cell_type": "code",
   "execution_count": 66,
   "id": "4abb0382",
   "metadata": {},
   "outputs": [
    {
     "data": {
      "text/plain": [
       "673"
      ]
     },
     "execution_count": 66,
     "metadata": {},
     "output_type": "execute_result"
    }
   ],
   "source": [
    "for i in range(len(embeddings)):\n",
    "    \n",
    "corr = np.inner(embeddings, embeddings)\n",
    "len(corr)"
   ]
  },
  {
   "cell_type": "code",
   "execution_count": 70,
   "id": "c1746a28",
   "metadata": {},
   "outputs": [
    {
     "data": {
      "text/html": [
       "<div>\n",
       "<style scoped>\n",
       "    .dataframe tbody tr th:only-of-type {\n",
       "        vertical-align: middle;\n",
       "    }\n",
       "\n",
       "    .dataframe tbody tr th {\n",
       "        vertical-align: top;\n",
       "    }\n",
       "\n",
       "    .dataframe thead th {\n",
       "        text-align: right;\n",
       "    }\n",
       "</style>\n",
       "<table border=\"1\" class=\"dataframe\">\n",
       "  <thead>\n",
       "    <tr style=\"text-align: right;\">\n",
       "      <th></th>\n",
       "      <th>0</th>\n",
       "      <th>1</th>\n",
       "      <th>2</th>\n",
       "      <th>3</th>\n",
       "      <th>4</th>\n",
       "      <th>5</th>\n",
       "      <th>6</th>\n",
       "      <th>7</th>\n",
       "      <th>8</th>\n",
       "      <th>9</th>\n",
       "      <th>...</th>\n",
       "      <th>502</th>\n",
       "      <th>503</th>\n",
       "      <th>504</th>\n",
       "      <th>505</th>\n",
       "      <th>506</th>\n",
       "      <th>507</th>\n",
       "      <th>508</th>\n",
       "      <th>509</th>\n",
       "      <th>510</th>\n",
       "      <th>511</th>\n",
       "    </tr>\n",
       "    <tr>\n",
       "      <th>name</th>\n",
       "      <th></th>\n",
       "      <th></th>\n",
       "      <th></th>\n",
       "      <th></th>\n",
       "      <th></th>\n",
       "      <th></th>\n",
       "      <th></th>\n",
       "      <th></th>\n",
       "      <th></th>\n",
       "      <th></th>\n",
       "      <th></th>\n",
       "      <th></th>\n",
       "      <th></th>\n",
       "      <th></th>\n",
       "      <th></th>\n",
       "      <th></th>\n",
       "      <th></th>\n",
       "      <th></th>\n",
       "      <th></th>\n",
       "      <th></th>\n",
       "      <th></th>\n",
       "    </tr>\n",
       "  </thead>\n",
       "  <tbody>\n",
       "    <tr>\n",
       "      <th>MONGODB, INC.</th>\n",
       "      <td>-0.048070</td>\n",
       "      <td>-0.048072</td>\n",
       "      <td>-0.047139</td>\n",
       "      <td>0.048072</td>\n",
       "      <td>-0.032919</td>\n",
       "      <td>0.035513</td>\n",
       "      <td>-0.034954</td>\n",
       "      <td>-0.048064</td>\n",
       "      <td>0.048072</td>\n",
       "      <td>-0.048072</td>\n",
       "      <td>...</td>\n",
       "      <td>-0.048049</td>\n",
       "      <td>-0.048072</td>\n",
       "      <td>-0.048072</td>\n",
       "      <td>0.019604</td>\n",
       "      <td>0.047635</td>\n",
       "      <td>-0.047770</td>\n",
       "      <td>0.047052</td>\n",
       "      <td>0.048067</td>\n",
       "      <td>-0.048072</td>\n",
       "      <td>-0.038487</td>\n",
       "    </tr>\n",
       "    <tr>\n",
       "      <th>SALESFORCE COM INC</th>\n",
       "      <td>-0.048522</td>\n",
       "      <td>-0.048566</td>\n",
       "      <td>-0.023139</td>\n",
       "      <td>0.048566</td>\n",
       "      <td>-0.048445</td>\n",
       "      <td>-0.000439</td>\n",
       "      <td>0.006797</td>\n",
       "      <td>-0.048563</td>\n",
       "      <td>0.047790</td>\n",
       "      <td>-0.048566</td>\n",
       "      <td>...</td>\n",
       "      <td>-0.047556</td>\n",
       "      <td>-0.048566</td>\n",
       "      <td>-0.048566</td>\n",
       "      <td>0.008412</td>\n",
       "      <td>0.048369</td>\n",
       "      <td>-0.041014</td>\n",
       "      <td>0.047619</td>\n",
       "      <td>0.038503</td>\n",
       "      <td>-0.048566</td>\n",
       "      <td>-0.040866</td>\n",
       "    </tr>\n",
       "    <tr>\n",
       "      <th>SPLUNK INC</th>\n",
       "      <td>-0.046037</td>\n",
       "      <td>-0.047703</td>\n",
       "      <td>-0.047616</td>\n",
       "      <td>0.047703</td>\n",
       "      <td>-0.047692</td>\n",
       "      <td>-0.047606</td>\n",
       "      <td>-0.047695</td>\n",
       "      <td>-0.047622</td>\n",
       "      <td>0.047693</td>\n",
       "      <td>-0.047610</td>\n",
       "      <td>...</td>\n",
       "      <td>-0.045693</td>\n",
       "      <td>-0.047703</td>\n",
       "      <td>-0.047703</td>\n",
       "      <td>-0.047339</td>\n",
       "      <td>0.047684</td>\n",
       "      <td>-0.047685</td>\n",
       "      <td>0.047702</td>\n",
       "      <td>0.047703</td>\n",
       "      <td>-0.047703</td>\n",
       "      <td>-0.047603</td>\n",
       "    </tr>\n",
       "    <tr>\n",
       "      <th>OKTA, INC.</th>\n",
       "      <td>-0.047953</td>\n",
       "      <td>-0.048515</td>\n",
       "      <td>-0.020171</td>\n",
       "      <td>0.048526</td>\n",
       "      <td>-0.047487</td>\n",
       "      <td>0.048520</td>\n",
       "      <td>-0.014416</td>\n",
       "      <td>-0.045803</td>\n",
       "      <td>0.048011</td>\n",
       "      <td>-0.048473</td>\n",
       "      <td>...</td>\n",
       "      <td>-0.048522</td>\n",
       "      <td>-0.048526</td>\n",
       "      <td>-0.048526</td>\n",
       "      <td>0.005329</td>\n",
       "      <td>0.048335</td>\n",
       "      <td>-0.047663</td>\n",
       "      <td>0.047916</td>\n",
       "      <td>0.048500</td>\n",
       "      <td>-0.048526</td>\n",
       "      <td>-0.047204</td>\n",
       "    </tr>\n",
       "    <tr>\n",
       "      <th>VEEVA SYSTEMS INC</th>\n",
       "      <td>-0.045744</td>\n",
       "      <td>-0.045744</td>\n",
       "      <td>-0.045744</td>\n",
       "      <td>0.045744</td>\n",
       "      <td>-0.043273</td>\n",
       "      <td>0.045744</td>\n",
       "      <td>-0.045744</td>\n",
       "      <td>-0.045744</td>\n",
       "      <td>0.045744</td>\n",
       "      <td>-0.045744</td>\n",
       "      <td>...</td>\n",
       "      <td>-0.045744</td>\n",
       "      <td>-0.045744</td>\n",
       "      <td>-0.045744</td>\n",
       "      <td>-0.045134</td>\n",
       "      <td>-0.045744</td>\n",
       "      <td>0.041242</td>\n",
       "      <td>0.045744</td>\n",
       "      <td>0.045143</td>\n",
       "      <td>-0.045744</td>\n",
       "      <td>-0.030963</td>\n",
       "    </tr>\n",
       "    <tr>\n",
       "      <th>...</th>\n",
       "      <td>...</td>\n",
       "      <td>...</td>\n",
       "      <td>...</td>\n",
       "      <td>...</td>\n",
       "      <td>...</td>\n",
       "      <td>...</td>\n",
       "      <td>...</td>\n",
       "      <td>...</td>\n",
       "      <td>...</td>\n",
       "      <td>...</td>\n",
       "      <td>...</td>\n",
       "      <td>...</td>\n",
       "      <td>...</td>\n",
       "      <td>...</td>\n",
       "      <td>...</td>\n",
       "      <td>...</td>\n",
       "      <td>...</td>\n",
       "      <td>...</td>\n",
       "      <td>...</td>\n",
       "      <td>...</td>\n",
       "      <td>...</td>\n",
       "    </tr>\n",
       "    <tr>\n",
       "      <th>AMERICAN REALTY CAPITAL NEW YORK CITY REIT, INC.</th>\n",
       "      <td>-0.031146</td>\n",
       "      <td>-0.051230</td>\n",
       "      <td>0.014364</td>\n",
       "      <td>0.050921</td>\n",
       "      <td>0.050742</td>\n",
       "      <td>0.050692</td>\n",
       "      <td>0.036193</td>\n",
       "      <td>-0.051215</td>\n",
       "      <td>0.051228</td>\n",
       "      <td>-0.051230</td>\n",
       "      <td>...</td>\n",
       "      <td>-0.035835</td>\n",
       "      <td>-0.051230</td>\n",
       "      <td>-0.050045</td>\n",
       "      <td>0.035423</td>\n",
       "      <td>-0.047332</td>\n",
       "      <td>0.051230</td>\n",
       "      <td>0.036582</td>\n",
       "      <td>0.042016</td>\n",
       "      <td>0.030432</td>\n",
       "      <td>0.036613</td>\n",
       "    </tr>\n",
       "    <tr>\n",
       "      <th>CYCLACEL PHARMACEUTICALS, INC.</th>\n",
       "      <td>-0.046823</td>\n",
       "      <td>-0.046826</td>\n",
       "      <td>-0.008361</td>\n",
       "      <td>0.040487</td>\n",
       "      <td>-0.046825</td>\n",
       "      <td>-0.046810</td>\n",
       "      <td>0.046397</td>\n",
       "      <td>-0.046826</td>\n",
       "      <td>0.046826</td>\n",
       "      <td>-0.046825</td>\n",
       "      <td>...</td>\n",
       "      <td>-0.046826</td>\n",
       "      <td>-0.046826</td>\n",
       "      <td>-0.045864</td>\n",
       "      <td>-0.046826</td>\n",
       "      <td>0.024175</td>\n",
       "      <td>-0.046804</td>\n",
       "      <td>-0.046161</td>\n",
       "      <td>0.046749</td>\n",
       "      <td>-0.046826</td>\n",
       "      <td>-0.046826</td>\n",
       "    </tr>\n",
       "    <tr>\n",
       "      <th>ZOETIS INC.</th>\n",
       "      <td>-0.045464</td>\n",
       "      <td>-0.045464</td>\n",
       "      <td>-0.045464</td>\n",
       "      <td>-0.029985</td>\n",
       "      <td>0.045464</td>\n",
       "      <td>0.045116</td>\n",
       "      <td>-0.045464</td>\n",
       "      <td>-0.045464</td>\n",
       "      <td>0.045464</td>\n",
       "      <td>-0.045464</td>\n",
       "      <td>...</td>\n",
       "      <td>-0.023494</td>\n",
       "      <td>-0.045464</td>\n",
       "      <td>0.002982</td>\n",
       "      <td>-0.045463</td>\n",
       "      <td>-0.045464</td>\n",
       "      <td>0.045460</td>\n",
       "      <td>0.045464</td>\n",
       "      <td>-0.045216</td>\n",
       "      <td>-0.045462</td>\n",
       "      <td>0.036872</td>\n",
       "    </tr>\n",
       "    <tr>\n",
       "      <th>STAG INDUSTRIAL, INC.</th>\n",
       "      <td>-0.047698</td>\n",
       "      <td>-0.050837</td>\n",
       "      <td>0.020725</td>\n",
       "      <td>0.050141</td>\n",
       "      <td>0.046197</td>\n",
       "      <td>0.036875</td>\n",
       "      <td>0.010658</td>\n",
       "      <td>-0.050769</td>\n",
       "      <td>0.050837</td>\n",
       "      <td>-0.050837</td>\n",
       "      <td>...</td>\n",
       "      <td>-0.049243</td>\n",
       "      <td>-0.050837</td>\n",
       "      <td>-0.011554</td>\n",
       "      <td>-0.022626</td>\n",
       "      <td>-0.050741</td>\n",
       "      <td>0.050339</td>\n",
       "      <td>0.045683</td>\n",
       "      <td>-0.002057</td>\n",
       "      <td>0.042699</td>\n",
       "      <td>0.050539</td>\n",
       "    </tr>\n",
       "    <tr>\n",
       "      <th>EQUINIX INC</th>\n",
       "      <td>-0.047107</td>\n",
       "      <td>-0.047113</td>\n",
       "      <td>-0.047013</td>\n",
       "      <td>0.047113</td>\n",
       "      <td>0.018928</td>\n",
       "      <td>-0.047096</td>\n",
       "      <td>0.003976</td>\n",
       "      <td>-0.047113</td>\n",
       "      <td>0.039050</td>\n",
       "      <td>-0.047113</td>\n",
       "      <td>...</td>\n",
       "      <td>0.046732</td>\n",
       "      <td>-0.047113</td>\n",
       "      <td>-0.047113</td>\n",
       "      <td>0.045519</td>\n",
       "      <td>0.047113</td>\n",
       "      <td>-0.047111</td>\n",
       "      <td>0.047066</td>\n",
       "      <td>0.038482</td>\n",
       "      <td>-0.047113</td>\n",
       "      <td>-0.047103</td>\n",
       "    </tr>\n",
       "  </tbody>\n",
       "</table>\n",
       "<p>673 rows × 512 columns</p>\n",
       "</div>"
      ],
      "text/plain": [
       "                                                       0         1    \\\n",
       "name                                                                   \n",
       "MONGODB, INC.                                    -0.048070 -0.048072   \n",
       "SALESFORCE COM INC                               -0.048522 -0.048566   \n",
       "SPLUNK INC                                       -0.046037 -0.047703   \n",
       "OKTA, INC.                                       -0.047953 -0.048515   \n",
       "VEEVA SYSTEMS INC                                -0.045744 -0.045744   \n",
       "...                                                    ...       ...   \n",
       "AMERICAN REALTY CAPITAL NEW YORK CITY REIT, INC. -0.031146 -0.051230   \n",
       "CYCLACEL PHARMACEUTICALS, INC.                   -0.046823 -0.046826   \n",
       "ZOETIS INC.                                      -0.045464 -0.045464   \n",
       "STAG INDUSTRIAL, INC.                            -0.047698 -0.050837   \n",
       "EQUINIX INC                                      -0.047107 -0.047113   \n",
       "\n",
       "                                                       2         3    \\\n",
       "name                                                                   \n",
       "MONGODB, INC.                                    -0.047139  0.048072   \n",
       "SALESFORCE COM INC                               -0.023139  0.048566   \n",
       "SPLUNK INC                                       -0.047616  0.047703   \n",
       "OKTA, INC.                                       -0.020171  0.048526   \n",
       "VEEVA SYSTEMS INC                                -0.045744  0.045744   \n",
       "...                                                    ...       ...   \n",
       "AMERICAN REALTY CAPITAL NEW YORK CITY REIT, INC.  0.014364  0.050921   \n",
       "CYCLACEL PHARMACEUTICALS, INC.                   -0.008361  0.040487   \n",
       "ZOETIS INC.                                      -0.045464 -0.029985   \n",
       "STAG INDUSTRIAL, INC.                             0.020725  0.050141   \n",
       "EQUINIX INC                                      -0.047013  0.047113   \n",
       "\n",
       "                                                       4         5    \\\n",
       "name                                                                   \n",
       "MONGODB, INC.                                    -0.032919  0.035513   \n",
       "SALESFORCE COM INC                               -0.048445 -0.000439   \n",
       "SPLUNK INC                                       -0.047692 -0.047606   \n",
       "OKTA, INC.                                       -0.047487  0.048520   \n",
       "VEEVA SYSTEMS INC                                -0.043273  0.045744   \n",
       "...                                                    ...       ...   \n",
       "AMERICAN REALTY CAPITAL NEW YORK CITY REIT, INC.  0.050742  0.050692   \n",
       "CYCLACEL PHARMACEUTICALS, INC.                   -0.046825 -0.046810   \n",
       "ZOETIS INC.                                       0.045464  0.045116   \n",
       "STAG INDUSTRIAL, INC.                             0.046197  0.036875   \n",
       "EQUINIX INC                                       0.018928 -0.047096   \n",
       "\n",
       "                                                       6         7    \\\n",
       "name                                                                   \n",
       "MONGODB, INC.                                    -0.034954 -0.048064   \n",
       "SALESFORCE COM INC                                0.006797 -0.048563   \n",
       "SPLUNK INC                                       -0.047695 -0.047622   \n",
       "OKTA, INC.                                       -0.014416 -0.045803   \n",
       "VEEVA SYSTEMS INC                                -0.045744 -0.045744   \n",
       "...                                                    ...       ...   \n",
       "AMERICAN REALTY CAPITAL NEW YORK CITY REIT, INC.  0.036193 -0.051215   \n",
       "CYCLACEL PHARMACEUTICALS, INC.                    0.046397 -0.046826   \n",
       "ZOETIS INC.                                      -0.045464 -0.045464   \n",
       "STAG INDUSTRIAL, INC.                             0.010658 -0.050769   \n",
       "EQUINIX INC                                       0.003976 -0.047113   \n",
       "\n",
       "                                                       8         9    ...  \\\n",
       "name                                                                  ...   \n",
       "MONGODB, INC.                                     0.048072 -0.048072  ...   \n",
       "SALESFORCE COM INC                                0.047790 -0.048566  ...   \n",
       "SPLUNK INC                                        0.047693 -0.047610  ...   \n",
       "OKTA, INC.                                        0.048011 -0.048473  ...   \n",
       "VEEVA SYSTEMS INC                                 0.045744 -0.045744  ...   \n",
       "...                                                    ...       ...  ...   \n",
       "AMERICAN REALTY CAPITAL NEW YORK CITY REIT, INC.  0.051228 -0.051230  ...   \n",
       "CYCLACEL PHARMACEUTICALS, INC.                    0.046826 -0.046825  ...   \n",
       "ZOETIS INC.                                       0.045464 -0.045464  ...   \n",
       "STAG INDUSTRIAL, INC.                             0.050837 -0.050837  ...   \n",
       "EQUINIX INC                                       0.039050 -0.047113  ...   \n",
       "\n",
       "                                                       502       503  \\\n",
       "name                                                                   \n",
       "MONGODB, INC.                                    -0.048049 -0.048072   \n",
       "SALESFORCE COM INC                               -0.047556 -0.048566   \n",
       "SPLUNK INC                                       -0.045693 -0.047703   \n",
       "OKTA, INC.                                       -0.048522 -0.048526   \n",
       "VEEVA SYSTEMS INC                                -0.045744 -0.045744   \n",
       "...                                                    ...       ...   \n",
       "AMERICAN REALTY CAPITAL NEW YORK CITY REIT, INC. -0.035835 -0.051230   \n",
       "CYCLACEL PHARMACEUTICALS, INC.                   -0.046826 -0.046826   \n",
       "ZOETIS INC.                                      -0.023494 -0.045464   \n",
       "STAG INDUSTRIAL, INC.                            -0.049243 -0.050837   \n",
       "EQUINIX INC                                       0.046732 -0.047113   \n",
       "\n",
       "                                                       504       505  \\\n",
       "name                                                                   \n",
       "MONGODB, INC.                                    -0.048072  0.019604   \n",
       "SALESFORCE COM INC                               -0.048566  0.008412   \n",
       "SPLUNK INC                                       -0.047703 -0.047339   \n",
       "OKTA, INC.                                       -0.048526  0.005329   \n",
       "VEEVA SYSTEMS INC                                -0.045744 -0.045134   \n",
       "...                                                    ...       ...   \n",
       "AMERICAN REALTY CAPITAL NEW YORK CITY REIT, INC. -0.050045  0.035423   \n",
       "CYCLACEL PHARMACEUTICALS, INC.                   -0.045864 -0.046826   \n",
       "ZOETIS INC.                                       0.002982 -0.045463   \n",
       "STAG INDUSTRIAL, INC.                            -0.011554 -0.022626   \n",
       "EQUINIX INC                                      -0.047113  0.045519   \n",
       "\n",
       "                                                       506       507  \\\n",
       "name                                                                   \n",
       "MONGODB, INC.                                     0.047635 -0.047770   \n",
       "SALESFORCE COM INC                                0.048369 -0.041014   \n",
       "SPLUNK INC                                        0.047684 -0.047685   \n",
       "OKTA, INC.                                        0.048335 -0.047663   \n",
       "VEEVA SYSTEMS INC                                -0.045744  0.041242   \n",
       "...                                                    ...       ...   \n",
       "AMERICAN REALTY CAPITAL NEW YORK CITY REIT, INC. -0.047332  0.051230   \n",
       "CYCLACEL PHARMACEUTICALS, INC.                    0.024175 -0.046804   \n",
       "ZOETIS INC.                                      -0.045464  0.045460   \n",
       "STAG INDUSTRIAL, INC.                            -0.050741  0.050339   \n",
       "EQUINIX INC                                       0.047113 -0.047111   \n",
       "\n",
       "                                                       508       509  \\\n",
       "name                                                                   \n",
       "MONGODB, INC.                                     0.047052  0.048067   \n",
       "SALESFORCE COM INC                                0.047619  0.038503   \n",
       "SPLUNK INC                                        0.047702  0.047703   \n",
       "OKTA, INC.                                        0.047916  0.048500   \n",
       "VEEVA SYSTEMS INC                                 0.045744  0.045143   \n",
       "...                                                    ...       ...   \n",
       "AMERICAN REALTY CAPITAL NEW YORK CITY REIT, INC.  0.036582  0.042016   \n",
       "CYCLACEL PHARMACEUTICALS, INC.                   -0.046161  0.046749   \n",
       "ZOETIS INC.                                       0.045464 -0.045216   \n",
       "STAG INDUSTRIAL, INC.                             0.045683 -0.002057   \n",
       "EQUINIX INC                                       0.047066  0.038482   \n",
       "\n",
       "                                                       510       511  \n",
       "name                                                                  \n",
       "MONGODB, INC.                                    -0.048072 -0.038487  \n",
       "SALESFORCE COM INC                               -0.048566 -0.040866  \n",
       "SPLUNK INC                                       -0.047703 -0.047603  \n",
       "OKTA, INC.                                       -0.048526 -0.047204  \n",
       "VEEVA SYSTEMS INC                                -0.045744 -0.030963  \n",
       "...                                                    ...       ...  \n",
       "AMERICAN REALTY CAPITAL NEW YORK CITY REIT, INC.  0.030432  0.036613  \n",
       "CYCLACEL PHARMACEUTICALS, INC.                   -0.046826 -0.046826  \n",
       "ZOETIS INC.                                      -0.045462  0.036872  \n",
       "STAG INDUSTRIAL, INC.                             0.042699  0.050539  \n",
       "EQUINIX INC                                      -0.047113 -0.047103  \n",
       "\n",
       "[673 rows x 512 columns]"
      ]
     },
     "execution_count": 70,
     "metadata": {},
     "output_type": "execute_result"
    }
   ],
   "source": [
    "embedding_matrix = pd.DataFrame(embeddings)\n",
    "embedding_matrix.index = df[\"name\"]\n",
    "embedding_matrix"
   ]
  },
  {
   "cell_type": "markdown",
   "id": "d5614dad",
   "metadata": {},
   "source": [
    "## Similarity Matrix\n",
    "USE gives normalized embeddings, so the inner product of encodings can be treated as a similarity matrix."
   ]
  },
  {
   "cell_type": "code",
   "execution_count": 87,
   "id": "905d018a",
   "metadata": {},
   "outputs": [
    {
     "name": "stderr",
     "output_type": "stream",
     "text": [
      "C:\\Users\\maryx\\AppData\\Local\\Temp\\ipykernel_17396\\1286590676.py:1: FutureWarning:\n",
      "\n",
      "Calling a ufunc on non-aligned DataFrames (or DataFrame/Series combination). Currently, the indices are ignored and the result takes the index/columns of the first DataFrame. In the future , the DataFrames/Series will be aligned before applying the ufunc.\n",
      "Convert one of the arguments to a NumPy array (eg 'ufunc(df1, np.asarray(df2)') to keep the current behaviour, or align manually (eg 'df1, df2 = df1.align(df2)') before passing to the ufunc to obtain the future behaviour and silence this warning.\n",
      "\n"
     ]
    }
   ],
   "source": [
    "dot_product = np.matmul(embedding_matrix, embedding_matrix.T)\n",
    "np.fill_diagonal(dot_product.values, 0)"
   ]
  },
  {
   "cell_type": "code",
   "execution_count": 88,
   "id": "dbcab5c7",
   "metadata": {},
   "outputs": [
    {
     "data": {
      "text/html": [
       "<div>\n",
       "<style scoped>\n",
       "    .dataframe tbody tr th:only-of-type {\n",
       "        vertical-align: middle;\n",
       "    }\n",
       "\n",
       "    .dataframe tbody tr th {\n",
       "        vertical-align: top;\n",
       "    }\n",
       "\n",
       "    .dataframe thead th {\n",
       "        text-align: right;\n",
       "    }\n",
       "</style>\n",
       "<table border=\"1\" class=\"dataframe\">\n",
       "  <thead>\n",
       "    <tr style=\"text-align: right;\">\n",
       "      <th></th>\n",
       "      <th>desc1</th>\n",
       "      <th>desc2</th>\n",
       "    </tr>\n",
       "  </thead>\n",
       "  <tbody>\n",
       "    <tr>\n",
       "      <th>0</th>\n",
       "      <td>Prepackaged Software (mass reproduction of sof...</td>\n",
       "      <td>Prepackaged Software (mass reproduction of sof...</td>\n",
       "    </tr>\n",
       "    <tr>\n",
       "      <th>1</th>\n",
       "      <td>Prepackaged Software (mass reproduction of sof...</td>\n",
       "      <td>Prepackaged Software (mass reproduction of sof...</td>\n",
       "    </tr>\n",
       "    <tr>\n",
       "      <th>2</th>\n",
       "      <td>Prepackaged Software (mass reproduction of sof...</td>\n",
       "      <td>Prepackaged Software (mass reproduction of sof...</td>\n",
       "    </tr>\n",
       "    <tr>\n",
       "      <th>3</th>\n",
       "      <td>Prepackaged Software (mass reproduction of sof...</td>\n",
       "      <td>Prepackaged Software (mass reproduction of sof...</td>\n",
       "    </tr>\n",
       "    <tr>\n",
       "      <th>4</th>\n",
       "      <td>Prepackaged Software (mass reproduction of sof...</td>\n",
       "      <td>Pharmaceutical Preparations</td>\n",
       "    </tr>\n",
       "    <tr>\n",
       "      <th>...</th>\n",
       "      <td>...</td>\n",
       "      <td>...</td>\n",
       "    </tr>\n",
       "    <tr>\n",
       "      <th>668</th>\n",
       "      <td>Real Estate Investment Trusts</td>\n",
       "      <td>Real Estate Investment Trusts</td>\n",
       "    </tr>\n",
       "    <tr>\n",
       "      <th>669</th>\n",
       "      <td>Pharmaceutical Preparations</td>\n",
       "      <td>Pharmaceutical Preparations</td>\n",
       "    </tr>\n",
       "    <tr>\n",
       "      <th>670</th>\n",
       "      <td>Pharmaceutical Preparations</td>\n",
       "      <td>Crude Petroleum and Natural Gas</td>\n",
       "    </tr>\n",
       "    <tr>\n",
       "      <th>671</th>\n",
       "      <td>Real Estate Investment Trusts</td>\n",
       "      <td>Real Estate Investment Trusts</td>\n",
       "    </tr>\n",
       "    <tr>\n",
       "      <th>672</th>\n",
       "      <td>Real Estate Investment Trusts</td>\n",
       "      <td>Real Estate Investment Trusts</td>\n",
       "    </tr>\n",
       "  </tbody>\n",
       "</table>\n",
       "<p>673 rows × 2 columns</p>\n",
       "</div>"
      ],
      "text/plain": [
       "                                                 desc1  \\\n",
       "0    Prepackaged Software (mass reproduction of sof...   \n",
       "1    Prepackaged Software (mass reproduction of sof...   \n",
       "2    Prepackaged Software (mass reproduction of sof...   \n",
       "3    Prepackaged Software (mass reproduction of sof...   \n",
       "4    Prepackaged Software (mass reproduction of sof...   \n",
       "..                                                 ...   \n",
       "668                      Real Estate Investment Trusts   \n",
       "669                        Pharmaceutical Preparations   \n",
       "670                        Pharmaceutical Preparations   \n",
       "671                      Real Estate Investment Trusts   \n",
       "672                      Real Estate Investment Trusts   \n",
       "\n",
       "                                                 desc2  \n",
       "0    Prepackaged Software (mass reproduction of sof...  \n",
       "1    Prepackaged Software (mass reproduction of sof...  \n",
       "2    Prepackaged Software (mass reproduction of sof...  \n",
       "3    Prepackaged Software (mass reproduction of sof...  \n",
       "4                          Pharmaceutical Preparations  \n",
       "..                                                 ...  \n",
       "668                      Real Estate Investment Trusts  \n",
       "669                        Pharmaceutical Preparations  \n",
       "670                    Crude Petroleum and Natural Gas  \n",
       "671                      Real Estate Investment Trusts  \n",
       "672                      Real Estate Investment Trusts  \n",
       "\n",
       "[673 rows x 2 columns]"
      ]
     },
     "execution_count": 88,
     "metadata": {},
     "output_type": "execute_result"
    }
   ],
   "source": [
    "dot_product.index = df[\"SIC_desc\"]\n",
    "dot_product.columns = df[\"SIC_desc\"]\n",
    "dot_product_df = pd.DataFrame(dot_product.idxmax(axis=1))\n",
    "dot_product_df.reset_index(level=0, inplace=True)\n",
    "dot_product_df.columns = [\"desc1\",\"desc2\"]\n",
    "dot_product_df"
   ]
  },
  {
   "cell_type": "code",
   "execution_count": null,
   "id": "9e323a29",
   "metadata": {},
   "outputs": [],
   "source": [
    "print(\"Percentage of correct category predictions: \")\n",
    "print(np.sum(np.where(dot_product_df.iloc[:,1] == dot_product_df.iloc[:,0], 1, 0))/len(embeddings))"
   ]
  },
  {
   "cell_type": "code",
   "execution_count": null,
   "id": "cc287c24",
   "metadata": {},
   "outputs": [],
   "source": []
  }
 ],
 "metadata": {
  "kernelspec": {
   "display_name": "Python 3 (ipykernel)",
   "language": "python",
   "name": "python3"
  },
  "language_info": {
   "codemirror_mode": {
    "name": "ipython",
    "version": 3
   },
   "file_extension": ".py",
   "mimetype": "text/x-python",
   "name": "python",
   "nbconvert_exporter": "python",
   "pygments_lexer": "ipython3",
   "version": "3.8.2"
  }
 },
 "nbformat": 4,
 "nbformat_minor": 5
}

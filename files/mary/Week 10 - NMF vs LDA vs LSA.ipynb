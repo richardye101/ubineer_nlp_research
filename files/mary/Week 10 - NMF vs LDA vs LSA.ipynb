{
 "cells": [
  {
   "attachments": {},
   "cell_type": "markdown",
   "id": "47af8a13",
   "metadata": {},
   "source": [
    "## Dynamic Topic Modelling\n",
    "\n",
    "NMF vs. LDA vs. LSA\n",
    "\n",
    "LDA is based on probabilistic graphical modeling while NMF and LSA rely on linear algebra.\n",
    "\n",
    "The aim of LDA and NMF algorithm is then to produce 2 smaller matrices; a document to topic matrix and a word to topic matrix that when multiplied together reproduce the bag of words/tfidf matrix with the lowest error. LSA has an extra topic to topic diagonal matrix. \n"
   ]
  },
  {
   "cell_type": "code",
   "execution_count": 17,
   "id": "8fc31c46",
   "metadata": {},
   "outputs": [],
   "source": [
    "from datetime import datetime\n",
    "import pandas as pd\n",
    "import numpy as np\n",
    "import json\n",
    "import re\n",
    "import string\n",
    "import nltk\n",
    "import matplotlib.pyplot as plt"
   ]
  },
  {
   "cell_type": "code",
   "execution_count": 18,
   "id": "302114f4",
   "metadata": {
    "scrolled": true
   },
   "outputs": [
    {
     "data": {
      "text/html": [
       "<div>\n",
       "<style scoped>\n",
       "    .dataframe tbody tr th:only-of-type {\n",
       "        vertical-align: middle;\n",
       "    }\n",
       "\n",
       "    .dataframe tbody tr th {\n",
       "        vertical-align: top;\n",
       "    }\n",
       "\n",
       "    .dataframe thead th {\n",
       "        text-align: right;\n",
       "    }\n",
       "</style>\n",
       "<table border=\"1\" class=\"dataframe\">\n",
       "  <thead>\n",
       "    <tr style=\"text-align: right;\">\n",
       "      <th></th>\n",
       "      <th>Unnamed: 0</th>\n",
       "      <th>filingDate</th>\n",
       "      <th>reportingDate</th>\n",
       "      <th>financialEntity</th>\n",
       "      <th>coDescription</th>\n",
       "      <th>CIK</th>\n",
       "      <th>coDescription_lemmatized</th>\n",
       "      <th>coDescription_stopwords</th>\n",
       "      <th>reports</th>\n",
       "    </tr>\n",
       "  </thead>\n",
       "  <tbody>\n",
       "    <tr>\n",
       "      <th>0</th>\n",
       "      <td>0</td>\n",
       "      <td>2017-06-29 20:05:22 UTC</td>\n",
       "      <td>2017-04-01</td>\n",
       "      <td>financialEntities/params;cik=1164888</td>\n",
       "      <td>m2.properties  4 item3.legalproceedings  4 ite...</td>\n",
       "      <td>1164888</td>\n",
       "      <td>m2.properties 4 item3.legalproceedings 4 item4...</td>\n",
       "      <td>disclosure part iiitem marketfor registrant co...</td>\n",
       "      <td>3</td>\n",
       "    </tr>\n",
       "    <tr>\n",
       "      <th>1</th>\n",
       "      <td>1</td>\n",
       "      <td>2016-03-03 17:53:54 UTC</td>\n",
       "      <td>2016-02-01</td>\n",
       "      <td>financialEntities/params;cik=1637459</td>\n",
       "      <td>l kraft heinz is one of the largest food and b...</td>\n",
       "      <td>1637459</td>\n",
       "      <td>l kraft heinz is one of the largest food and b...</td>\n",
       "      <td>l kraft heinz one largest food beverage compan...</td>\n",
       "      <td>3</td>\n",
       "    </tr>\n",
       "    <tr>\n",
       "      <th>2</th>\n",
       "      <td>2</td>\n",
       "      <td>2018-05-25 01:55:42 UTC</td>\n",
       "      <td>2018-04-01</td>\n",
       "      <td>financialEntities/params;cik=1302215</td>\n",
       "      <td>established in 1972, houlihan lokey, inc., is ...</td>\n",
       "      <td>1302215</td>\n",
       "      <td>established in 1972 , houlihan lokey , inc. , ...</td>\n",
       "      <td>established houlihan lokey leading global inde...</td>\n",
       "      <td>3</td>\n",
       "    </tr>\n",
       "    <tr>\n",
       "      <th>3</th>\n",
       "      <td>3</td>\n",
       "      <td>2018-12-19 22:01:54 UTC</td>\n",
       "      <td>2018-10-01</td>\n",
       "      <td>financialEntities/params;cik=725363</td>\n",
       "      <td>solved seccomments none item2.properties cel-s...</td>\n",
       "      <td>725363</td>\n",
       "      <td>solved seccomments none item2.properties cel-s...</td>\n",
       "      <td>solved seccomments none office space boone blv...</td>\n",
       "      <td>3</td>\n",
       "    </tr>\n",
       "    <tr>\n",
       "      <th>4</th>\n",
       "      <td>4</td>\n",
       "      <td>2018-02-28 18:47:50 UTC</td>\n",
       "      <td>2018-01-01</td>\n",
       "      <td>financialEntities/params;cik=103379</td>\n",
       "      <td>orporation, organized in 1899, is a global lea...</td>\n",
       "      <td>103379</td>\n",
       "      <td>orporation , organized in 1899 , is a global l...</td>\n",
       "      <td>orporation organized global leader design prod...</td>\n",
       "      <td>3</td>\n",
       "    </tr>\n",
       "  </tbody>\n",
       "</table>\n",
       "</div>"
      ],
      "text/plain": [
       "   Unnamed: 0               filingDate reportingDate  \\\n",
       "0           0  2017-06-29 20:05:22 UTC    2017-04-01   \n",
       "1           1  2016-03-03 17:53:54 UTC    2016-02-01   \n",
       "2           2  2018-05-25 01:55:42 UTC    2018-04-01   \n",
       "3           3  2018-12-19 22:01:54 UTC    2018-10-01   \n",
       "4           4  2018-02-28 18:47:50 UTC    2018-01-01   \n",
       "\n",
       "                        financialEntity  \\\n",
       "0  financialEntities/params;cik=1164888   \n",
       "1  financialEntities/params;cik=1637459   \n",
       "2  financialEntities/params;cik=1302215   \n",
       "3   financialEntities/params;cik=725363   \n",
       "4   financialEntities/params;cik=103379   \n",
       "\n",
       "                                       coDescription      CIK  \\\n",
       "0  m2.properties  4 item3.legalproceedings  4 ite...  1164888   \n",
       "1  l kraft heinz is one of the largest food and b...  1637459   \n",
       "2  established in 1972, houlihan lokey, inc., is ...  1302215   \n",
       "3  solved seccomments none item2.properties cel-s...   725363   \n",
       "4  orporation, organized in 1899, is a global lea...   103379   \n",
       "\n",
       "                            coDescription_lemmatized  \\\n",
       "0  m2.properties 4 item3.legalproceedings 4 item4...   \n",
       "1  l kraft heinz is one of the largest food and b...   \n",
       "2  established in 1972 , houlihan lokey , inc. , ...   \n",
       "3  solved seccomments none item2.properties cel-s...   \n",
       "4  orporation , organized in 1899 , is a global l...   \n",
       "\n",
       "                             coDescription_stopwords  reports  \n",
       "0  disclosure part iiitem marketfor registrant co...        3  \n",
       "1  l kraft heinz one largest food beverage compan...        3  \n",
       "2  established houlihan lokey leading global inde...        3  \n",
       "3  solved seccomments none office space boone blv...        3  \n",
       "4  orporation organized global leader design prod...        3  "
      ]
     },
     "execution_count": 18,
     "metadata": {},
     "output_type": "execute_result"
    }
   ],
   "source": [
    "df = pd.read_csv(\"timeseries_data.csv\")\n",
    "df.head()"
   ]
  },
  {
   "cell_type": "code",
   "execution_count": 102,
   "id": "3f5fa96d",
   "metadata": {
    "scrolled": true
   },
   "outputs": [
    {
     "data": {
      "text/html": [
       "<div>\n",
       "<style scoped>\n",
       "    .dataframe tbody tr th:only-of-type {\n",
       "        vertical-align: middle;\n",
       "    }\n",
       "\n",
       "    .dataframe tbody tr th {\n",
       "        vertical-align: top;\n",
       "    }\n",
       "\n",
       "    .dataframe thead th {\n",
       "        text-align: right;\n",
       "    }\n",
       "</style>\n",
       "<table border=\"1\" class=\"dataframe\">\n",
       "  <thead>\n",
       "    <tr style=\"text-align: right;\">\n",
       "      <th></th>\n",
       "      <th>Unnamed: 0</th>\n",
       "      <th>filingDate</th>\n",
       "      <th>reportingDate</th>\n",
       "      <th>financialEntity</th>\n",
       "      <th>coDescription</th>\n",
       "      <th>CIK</th>\n",
       "      <th>coDescription_lemmatized</th>\n",
       "      <th>coDescription_stopwords</th>\n",
       "      <th>reports</th>\n",
       "    </tr>\n",
       "  </thead>\n",
       "  <tbody>\n",
       "    <tr>\n",
       "      <th>1948</th>\n",
       "      <td>1948</td>\n",
       "      <td>2016-12-06 22:05:12 UTC</td>\n",
       "      <td>2016-10-01</td>\n",
       "      <td>financialEntities/params;cik=3545</td>\n",
       "      <td>alico, inc. (“alico”), was incorporated under ...</td>\n",
       "      <td>3545</td>\n",
       "      <td>alico , inc. ( “ alico ” ) , wa incorporated u...</td>\n",
       "      <td>alico alico wa incorporated law state florida ...</td>\n",
       "      <td>3</td>\n",
       "    </tr>\n",
       "    <tr>\n",
       "      <th>1456</th>\n",
       "      <td>1456</td>\n",
       "      <td>2017-12-11 22:13:06 UTC</td>\n",
       "      <td>2017-10-01</td>\n",
       "      <td>financialEntities/params;cik=3545</td>\n",
       "      <td>alico, inc. (“alico”) was incorporated under t...</td>\n",
       "      <td>3545</td>\n",
       "      <td>alico , inc. ( “ alico ” ) wa incorporated und...</td>\n",
       "      <td>alico alico wa incorporated law state florida ...</td>\n",
       "      <td>3</td>\n",
       "    </tr>\n",
       "    <tr>\n",
       "      <th>83</th>\n",
       "      <td>83</td>\n",
       "      <td>2018-12-06 21:58:38 UTC</td>\n",
       "      <td>2018-10-01</td>\n",
       "      <td>financialEntities/params;cik=3545</td>\n",
       "      <td>alico, inc. (“alico”) was incorporated under t...</td>\n",
       "      <td>3545</td>\n",
       "      <td>alico , inc. ( “ alico ” ) wa incorporated und...</td>\n",
       "      <td>alico alico wa incorporated law state florida ...</td>\n",
       "      <td>3</td>\n",
       "    </tr>\n",
       "    <tr>\n",
       "      <th>832</th>\n",
       "      <td>832</td>\n",
       "      <td>2016-05-25 20:19:47 UTC</td>\n",
       "      <td>2016-04-01</td>\n",
       "      <td>financialEntities/params;cik=4457</td>\n",
       "      <td>we are north america’s largest “do-it-yourself...</td>\n",
       "      <td>4457</td>\n",
       "      <td>we are north america ’ s largest “ do-it-yours...</td>\n",
       "      <td>north america largest moving storage operator ...</td>\n",
       "      <td>3</td>\n",
       "    </tr>\n",
       "    <tr>\n",
       "      <th>1242</th>\n",
       "      <td>1242</td>\n",
       "      <td>2017-05-24 20:07:02 UTC</td>\n",
       "      <td>2017-04-01</td>\n",
       "      <td>financialEntities/params;cik=4457</td>\n",
       "      <td>we are north america’s largest “do-it-yourself...</td>\n",
       "      <td>4457</td>\n",
       "      <td>we are north america ’ s largest “ do-it-yours...</td>\n",
       "      <td>north america largest moving storage operator ...</td>\n",
       "      <td>3</td>\n",
       "    </tr>\n",
       "    <tr>\n",
       "      <th>...</th>\n",
       "      <td>...</td>\n",
       "      <td>...</td>\n",
       "      <td>...</td>\n",
       "      <td>...</td>\n",
       "      <td>...</td>\n",
       "      <td>...</td>\n",
       "      <td>...</td>\n",
       "      <td>...</td>\n",
       "      <td>...</td>\n",
       "    </tr>\n",
       "    <tr>\n",
       "      <th>1531</th>\n",
       "      <td>1531</td>\n",
       "      <td>2017-11-29 02:25:15 UTC</td>\n",
       "      <td>2017-10-01</td>\n",
       "      <td>financialEntities/params;cik=1666138</td>\n",
       "      <td>llowing discussion of our business contains fo...</td>\n",
       "      <td>1666138</td>\n",
       "      <td>llowing discussion of our business contains fo...</td>\n",
       "      <td>llowing discussion business contains statement...</td>\n",
       "      <td>3</td>\n",
       "    </tr>\n",
       "    <tr>\n",
       "      <th>481</th>\n",
       "      <td>481</td>\n",
       "      <td>2018-11-28 01:38:36 UTC</td>\n",
       "      <td>2018-10-01</td>\n",
       "      <td>financialEntities/params;cik=1666138</td>\n",
       "      <td>llowing discussion of our business contains fo...</td>\n",
       "      <td>1666138</td>\n",
       "      <td>llowing discussion of our business contains fo...</td>\n",
       "      <td>llowing discussion business contains statement...</td>\n",
       "      <td>3</td>\n",
       "    </tr>\n",
       "    <tr>\n",
       "      <th>963</th>\n",
       "      <td>963</td>\n",
       "      <td>2016-12-19 14:14:40 UTC</td>\n",
       "      <td>2016-10-01</td>\n",
       "      <td>financialEntities/params;cik=1674910</td>\n",
       "      <td>generalvalvoline inc. is a kentucky corporatio...</td>\n",
       "      <td>1674910</td>\n",
       "      <td>generalvalvoline inc. is a kentucky corporatio...</td>\n",
       "      <td>generalvalvoline kentucky corporation principa...</td>\n",
       "      <td>3</td>\n",
       "    </tr>\n",
       "    <tr>\n",
       "      <th>1760</th>\n",
       "      <td>1760</td>\n",
       "      <td>2017-11-17 17:10:16 UTC</td>\n",
       "      <td>2017-10-01</td>\n",
       "      <td>financialEntities/params;cik=1674910</td>\n",
       "      <td>generalvalvoline inc., a kentucky corporation,...</td>\n",
       "      <td>1674910</td>\n",
       "      <td>generalvalvoline inc. , a kentucky corporation...</td>\n",
       "      <td>generalvalvoline kentucky corporation worldwid...</td>\n",
       "      <td>3</td>\n",
       "    </tr>\n",
       "    <tr>\n",
       "      <th>444</th>\n",
       "      <td>444</td>\n",
       "      <td>2018-11-21 17:02:09 UTC</td>\n",
       "      <td>2018-10-01</td>\n",
       "      <td>financialEntities/params;cik=1674910</td>\n",
       "      <td>valvoline inc., a kentucky corporation, is a w...</td>\n",
       "      <td>1674910</td>\n",
       "      <td>valvoline inc. , a kentucky corporation , is a...</td>\n",
       "      <td>valvoline kentucky corporation worldwide marke...</td>\n",
       "      <td>3</td>\n",
       "    </tr>\n",
       "  </tbody>\n",
       "</table>\n",
       "<p>1692 rows × 9 columns</p>\n",
       "</div>"
      ],
      "text/plain": [
       "      Unnamed: 0               filingDate reportingDate  \\\n",
       "1948        1948  2016-12-06 22:05:12 UTC    2016-10-01   \n",
       "1456        1456  2017-12-11 22:13:06 UTC    2017-10-01   \n",
       "83            83  2018-12-06 21:58:38 UTC    2018-10-01   \n",
       "832          832  2016-05-25 20:19:47 UTC    2016-04-01   \n",
       "1242        1242  2017-05-24 20:07:02 UTC    2017-04-01   \n",
       "...          ...                      ...           ...   \n",
       "1531        1531  2017-11-29 02:25:15 UTC    2017-10-01   \n",
       "481          481  2018-11-28 01:38:36 UTC    2018-10-01   \n",
       "963          963  2016-12-19 14:14:40 UTC    2016-10-01   \n",
       "1760        1760  2017-11-17 17:10:16 UTC    2017-10-01   \n",
       "444          444  2018-11-21 17:02:09 UTC    2018-10-01   \n",
       "\n",
       "                           financialEntity  \\\n",
       "1948     financialEntities/params;cik=3545   \n",
       "1456     financialEntities/params;cik=3545   \n",
       "83       financialEntities/params;cik=3545   \n",
       "832      financialEntities/params;cik=4457   \n",
       "1242     financialEntities/params;cik=4457   \n",
       "...                                    ...   \n",
       "1531  financialEntities/params;cik=1666138   \n",
       "481   financialEntities/params;cik=1666138   \n",
       "963   financialEntities/params;cik=1674910   \n",
       "1760  financialEntities/params;cik=1674910   \n",
       "444   financialEntities/params;cik=1674910   \n",
       "\n",
       "                                          coDescription      CIK  \\\n",
       "1948  alico, inc. (“alico”), was incorporated under ...     3545   \n",
       "1456  alico, inc. (“alico”) was incorporated under t...     3545   \n",
       "83    alico, inc. (“alico”) was incorporated under t...     3545   \n",
       "832   we are north america’s largest “do-it-yourself...     4457   \n",
       "1242  we are north america’s largest “do-it-yourself...     4457   \n",
       "...                                                 ...      ...   \n",
       "1531  llowing discussion of our business contains fo...  1666138   \n",
       "481   llowing discussion of our business contains fo...  1666138   \n",
       "963   generalvalvoline inc. is a kentucky corporatio...  1674910   \n",
       "1760  generalvalvoline inc., a kentucky corporation,...  1674910   \n",
       "444   valvoline inc., a kentucky corporation, is a w...  1674910   \n",
       "\n",
       "                               coDescription_lemmatized  \\\n",
       "1948  alico , inc. ( “ alico ” ) , wa incorporated u...   \n",
       "1456  alico , inc. ( “ alico ” ) wa incorporated und...   \n",
       "83    alico , inc. ( “ alico ” ) wa incorporated und...   \n",
       "832   we are north america ’ s largest “ do-it-yours...   \n",
       "1242  we are north america ’ s largest “ do-it-yours...   \n",
       "...                                                 ...   \n",
       "1531  llowing discussion of our business contains fo...   \n",
       "481   llowing discussion of our business contains fo...   \n",
       "963   generalvalvoline inc. is a kentucky corporatio...   \n",
       "1760  generalvalvoline inc. , a kentucky corporation...   \n",
       "444   valvoline inc. , a kentucky corporation , is a...   \n",
       "\n",
       "                                coDescription_stopwords  reports  \n",
       "1948  alico alico wa incorporated law state florida ...        3  \n",
       "1456  alico alico wa incorporated law state florida ...        3  \n",
       "83    alico alico wa incorporated law state florida ...        3  \n",
       "832   north america largest moving storage operator ...        3  \n",
       "1242  north america largest moving storage operator ...        3  \n",
       "...                                                 ...      ...  \n",
       "1531  llowing discussion business contains statement...        3  \n",
       "481   llowing discussion business contains statement...        3  \n",
       "963   generalvalvoline kentucky corporation principa...        3  \n",
       "1760  generalvalvoline kentucky corporation worldwid...        3  \n",
       "444   valvoline kentucky corporation worldwide marke...        3  \n",
       "\n",
       "[1692 rows x 9 columns]"
      ]
     },
     "execution_count": 102,
     "metadata": {},
     "output_type": "execute_result"
    }
   ],
   "source": [
    "filtered = df[df[\"reports\"] == 3].sort_values([\"CIK\",\"filingDate\"])\n",
    "filtered"
   ]
  },
  {
   "cell_type": "code",
   "execution_count": 107,
   "id": "7793932d",
   "metadata": {},
   "outputs": [],
   "source": [
    "ticker = pd.read_csv(\"cik_ticker.csv\")\n",
    "sic = pd.read_csv(\"sic_naics.csv\")\n",
    "filtered = filtered.join(ticker.set_index(\"CIK\"), on = \"CIK\", how = \"left\").join(sic.set_index(\"SIC\"), on = \"SIC\", how=\"left\")\n",
    "filtered[\"SIC_Descrip\"] = filtered[\"SIC_Descrip\"].fillna(\"\")\n",
    "filtered[\"SIC\"] = (filtered[\"SIC\"]//100)*100"
   ]
  },
  {
   "cell_type": "code",
   "execution_count": 108,
   "id": "6f63c097",
   "metadata": {},
   "outputs": [],
   "source": [
    "data = filtered.loc[:,\"coDescription_stopwords\"].to_list()\n",
    "dates = filtered[\"filingDate\"].to_list()"
   ]
  },
  {
   "cell_type": "code",
   "execution_count": 121,
   "id": "b8710a28",
   "metadata": {},
   "outputs": [],
   "source": [
    "## Dynamic Topic Modelling with Netflix, GE\n",
    "targetComp = pd.read_csv(\"dynamic_companies.csv\")\n",
    "netflix = targetComp[targetComp[\"financialEntity\"] == \"financialEntities/params;cik=1065280\"].sort_values([\"filingDate\"])\n",
    "ge = targetComp[targetComp[\"financialEntity\"] == \"financialEntities/params;cik=40545\"].sort_values([\"filingDate\"])"
   ]
  },
  {
   "cell_type": "markdown",
   "id": "7dc4ed55",
   "metadata": {},
   "source": [
    "## NMF"
   ]
  },
  {
   "cell_type": "markdown",
   "id": "5d1d0233",
   "metadata": {},
   "source": [
    "### Evaluate Best Number of Topics - Coherence Score\n",
    "\n",
    "Coherence score measures the relative distance between words within a topic.  \n",
    "- CV coherence score creates content vectors of words using their co-occurrences (ie. co-occurence of \"Las\" and \"Vegas\" would be very high) and, after that, calculates the score using normalized pointwise mutual information (NPMI). NPMI is the likelihood of the co-occurrence of two words, taking into account the fact that it might be caused by the frequency of the single words. \n",
    "\n",
    "$NPMI(a,b) = \\frac{log\\frac{P(a,b)+\\epsilon}{P(a)P(b)}}{-log(P(a,b)+\\epsilon)}$\n",
    "\n",
    "Probabilities of single words p(a) or the joint probability of two words p(a,b) can be estimated by Boolean document calculation, that is, the number of documents in which (a) or (a,b) occurs, divided by the total number of documents.\n",
    "\n",
    "We calculate the global coherence of the topic as the average pairwise coherence scores on the top N words which describe the topic."
   ]
  },
  {
   "cell_type": "code",
   "execution_count": 119,
   "id": "79333b85",
   "metadata": {},
   "outputs": [],
   "source": [
    "from gensim.corpora import Dictionary\n",
    "from gensim.models import CoherenceModel, LdaModel, TfidfModel\n",
    "from gensim.models.basemodel import BaseTopicModel\n",
    "from gensim.models.nmf import Nmf \n",
    "\n",
    "dictionary = Dictionary(doc.split() for doc in data)\n",
    " # filter out too in/frequent tokens\n",
    "dictionary.filter_extremes(no_below=0.01, no_above=0.85, keep_n = 5000)\n",
    "\n",
    "corpus = [dictionary.doc2bow(doc.split()) for doc in data]\n",
    "# create list of topic number we want to try \n",
    "topic_nums = list(np.arange(3, 40,3))\n",
    "\n",
    "coherence_scores = []\n",
    "for num in topic_nums:\n",
    "    nmf = Nmf(corpus=corpus,\n",
    "    num_topics=num,\n",
    "    id2word=dictionary,\n",
    "    passes=5,\n",
    "    eval_every=10,\n",
    "    minimum_probability=0.01,\n",
    "    random_state=0,\n",
    "    kappa=.1,\n",
    "    normalize=True)\n",
    "    \n",
    "    \n",
    "    cm = CoherenceModel(\n",
    "    model=nmf,\n",
    "    texts=[doc.split() for doc in data],\n",
    "    dictionary=dictionary,\n",
    "    coherence=\"c_v\")\n",
    "\n",
    "    coherence_scores.append(round(cm.get_coherence(),5))"
   ]
  },
  {
   "cell_type": "code",
   "execution_count": 118,
   "id": "391977f3",
   "metadata": {},
   "outputs": [
    {
     "data": {
      "image/png": "[encoded data removed]",
      "text/plain": [
       "<Figure size 432x288 with 1 Axes>"
      ]
     },
     "metadata": {
      "needs_background": "light"
     },
     "output_type": "display_data"
    }
   ],
   "source": [
    "import matplotlib.pyplot as plt\n",
    "scores = list(zip(topic_nums, coherence_scores))\n",
    "plt.plot(topic_nums, coherence_scores)\n",
    "plt.xticks(np.arange(3, 40,2))\n",
    "plt.ylabel('Coherence Score')\n",
    "plt.xlabel('Topic Num')\n",
    "plt.title(\"Coherence Score by Topic Number\")\n",
    "plt.show()"
   ]
  },
  {
   "cell_type": "code",
   "execution_count": 161,
   "id": "db27ba43",
   "metadata": {},
   "outputs": [],
   "source": [
    "def get_topics(model, num_topics):\n",
    "    \n",
    "    #the word ids obtained need to be reverse-mapped to the words so we can print the topic names.\n",
    "    feat_names = vectorizer.get_feature_names()\n",
    "    \n",
    "    word_dict = {};\n",
    "    for i in range(num_topics):\n",
    "        \n",
    "        #for each topic, obtain the largest values, and add the words they map to into the dictionary.\n",
    "        words_ids = model.components_[i].argsort()[:-20 - 1:-1]\n",
    "        words = [feat_names[key] for key in words_ids]\n",
    "        word_dict['Topic # ' + '{:02d}'.format(i+1)] = words;\n",
    "    \n",
    "    return pd.DataFrame(word_dict);"
   ]
  },
  {
   "cell_type": "code",
   "execution_count": 135,
   "id": "9ce11da6",
   "metadata": {},
   "outputs": [
    {
     "name": "stderr",
     "output_type": "stream",
     "text": [
      "C:\\Users\\maryx\\AppData\\Local\\Programs\\Python\\Python310\\lib\\site-packages\\sklearn\\utils\\deprecation.py:87: FutureWarning:\n",
      "\n",
      "Function get_feature_names is deprecated; get_feature_names is deprecated in 1.0 and will be removed in 1.2. Please use get_feature_names_out instead.\n",
      "\n"
     ]
    },
    {
     "data": {
      "text/html": [
       "<div>\n",
       "<style scoped>\n",
       "    .dataframe tbody tr th:only-of-type {\n",
       "        vertical-align: middle;\n",
       "    }\n",
       "\n",
       "    .dataframe tbody tr th {\n",
       "        vertical-align: top;\n",
       "    }\n",
       "\n",
       "    .dataframe thead th {\n",
       "        text-align: right;\n",
       "    }\n",
       "</style>\n",
       "<table border=\"1\" class=\"dataframe\">\n",
       "  <thead>\n",
       "    <tr style=\"text-align: right;\">\n",
       "      <th></th>\n",
       "      <th>Topic # 01</th>\n",
       "      <th>Topic # 02</th>\n",
       "      <th>Topic # 03</th>\n",
       "      <th>Topic # 04</th>\n",
       "      <th>Topic # 05</th>\n",
       "      <th>Topic # 06</th>\n",
       "      <th>Topic # 07</th>\n",
       "      <th>Topic # 08</th>\n",
       "      <th>Topic # 09</th>\n",
       "      <th>Topic # 10</th>\n",
       "      <th>Topic # 11</th>\n",
       "      <th>Topic # 12</th>\n",
       "      <th>Topic # 13</th>\n",
       "      <th>Topic # 14</th>\n",
       "      <th>Topic # 15</th>\n",
       "      <th>Topic # 16</th>\n",
       "      <th>Topic # 17</th>\n",
       "      <th>Topic # 18</th>\n",
       "      <th>Topic # 19</th>\n",
       "    </tr>\n",
       "  </thead>\n",
       "  <tbody>\n",
       "    <tr>\n",
       "      <th>0</th>\n",
       "      <td>customer</td>\n",
       "      <td>store</td>\n",
       "      <td>share</td>\n",
       "      <td>patient</td>\n",
       "      <td>loan</td>\n",
       "      <td>gas</td>\n",
       "      <td>ethanol</td>\n",
       "      <td>software</td>\n",
       "      <td>president</td>\n",
       "      <td>tax</td>\n",
       "      <td>brand</td>\n",
       "      <td>mineral</td>\n",
       "      <td>investment</td>\n",
       "      <td>could</td>\n",
       "      <td>home</td>\n",
       "      <td>item</td>\n",
       "      <td>client</td>\n",
       "      <td>aircraft</td>\n",
       "      <td>cannabis</td>\n",
       "    </tr>\n",
       "    <tr>\n",
       "      <th>1</th>\n",
       "      <td>manufacturing</td>\n",
       "      <td>merchandise</td>\n",
       "      <td>stock</td>\n",
       "      <td>clinical</td>\n",
       "      <td>bank</td>\n",
       "      <td>oil</td>\n",
       "      <td>corn</td>\n",
       "      <td>customer</td>\n",
       "      <td>vice</td>\n",
       "      <td>income</td>\n",
       "      <td>food</td>\n",
       "      <td>exploration</td>\n",
       "      <td>fund</td>\n",
       "      <td>customer</td>\n",
       "      <td>land</td>\n",
       "      <td>statement</td>\n",
       "      <td>solution</td>\n",
       "      <td>system</td>\n",
       "      <td>medical</td>\n",
       "    </tr>\n",
       "    <tr>\n",
       "      <th>2</th>\n",
       "      <td>technology</td>\n",
       "      <td>customer</td>\n",
       "      <td>common</td>\n",
       "      <td>fda</td>\n",
       "      <td>credit</td>\n",
       "      <td>natural</td>\n",
       "      <td>grain</td>\n",
       "      <td>application</td>\n",
       "      <td>officer</td>\n",
       "      <td>cash</td>\n",
       "      <td>consumer</td>\n",
       "      <td>mining</td>\n",
       "      <td>adviser</td>\n",
       "      <td>adversely</td>\n",
       "      <td>community</td>\n",
       "      <td>registrant</td>\n",
       "      <td>care</td>\n",
       "      <td>aviation</td>\n",
       "      <td>lease</td>\n",
       "    </tr>\n",
       "    <tr>\n",
       "      <th>3</th>\n",
       "      <td>material</td>\n",
       "      <td>brand</td>\n",
       "      <td>agreement</td>\n",
       "      <td>trial</td>\n",
       "      <td>institution</td>\n",
       "      <td>drilling</td>\n",
       "      <td>distiller</td>\n",
       "      <td>data</td>\n",
       "      <td>chief</td>\n",
       "      <td>note</td>\n",
       "      <td>segment</td>\n",
       "      <td>gold</td>\n",
       "      <td>portfolio</td>\n",
       "      <td>regulation</td>\n",
       "      <td>construction</td>\n",
       "      <td>part</td>\n",
       "      <td>healthcare</td>\n",
       "      <td>flight</td>\n",
       "      <td>property</td>\n",
       "    </tr>\n",
       "    <tr>\n",
       "      <th>4</th>\n",
       "      <td>system</td>\n",
       "      <td>apparel</td>\n",
       "      <td>merger</td>\n",
       "      <td>drug</td>\n",
       "      <td>mortgage</td>\n",
       "      <td>well</td>\n",
       "      <td>fuel</td>\n",
       "      <td>solution</td>\n",
       "      <td>served</td>\n",
       "      <td>net</td>\n",
       "      <td>retail</td>\n",
       "      <td>claim</td>\n",
       "      <td>income</td>\n",
       "      <td>affect</td>\n",
       "      <td>property</td>\n",
       "      <td>stockholder</td>\n",
       "      <td>health</td>\n",
       "      <td>military</td>\n",
       "      <td>colorado</td>\n",
       "    </tr>\n",
       "    <tr>\n",
       "      <th>5</th>\n",
       "      <td>semiconductor</td>\n",
       "      <td>retail</td>\n",
       "      <td>shareholder</td>\n",
       "      <td>cancer</td>\n",
       "      <td>borrower</td>\n",
       "      <td>pipeline</td>\n",
       "      <td>gallon</td>\n",
       "      <td>platform</td>\n",
       "      <td>executive</td>\n",
       "      <td>asset</td>\n",
       "      <td>beverage</td>\n",
       "      <td>project</td>\n",
       "      <td>capital</td>\n",
       "      <td>law</td>\n",
       "      <td>mortgage</td>\n",
       "      <td>equity</td>\n",
       "      <td>provider</td>\n",
       "      <td>defense</td>\n",
       "      <td>pharmaceutical</td>\n",
       "    </tr>\n",
       "    <tr>\n",
       "      <th>6</th>\n",
       "      <td>segment</td>\n",
       "      <td>fiscal</td>\n",
       "      <td>director</td>\n",
       "      <td>device</td>\n",
       "      <td>deposit</td>\n",
       "      <td>production</td>\n",
       "      <td>plant</td>\n",
       "      <td>user</td>\n",
       "      <td>senior</td>\n",
       "      <td>ended</td>\n",
       "      <td>restaurant</td>\n",
       "      <td>mine</td>\n",
       "      <td>advisor</td>\n",
       "      <td>cost</td>\n",
       "      <td>estate</td>\n",
       "      <td>supplementary</td>\n",
       "      <td>segment</td>\n",
       "      <td>engine</td>\n",
       "      <td>facility</td>\n",
       "    </tr>\n",
       "    <tr>\n",
       "      <th>7</th>\n",
       "      <td>equipment</td>\n",
       "      <td>assortment</td>\n",
       "      <td>issued</td>\n",
       "      <td>treatment</td>\n",
       "      <td>lending</td>\n",
       "      <td>reserve</td>\n",
       "      <td>gasoline</td>\n",
       "      <td>cloud</td>\n",
       "      <td>since</td>\n",
       "      <td>loss</td>\n",
       "      <td>ingredient</td>\n",
       "      <td>property</td>\n",
       "      <td>fee</td>\n",
       "      <td>credit</td>\n",
       "      <td>real</td>\n",
       "      <td>discussion</td>\n",
       "      <td>provide</td>\n",
       "      <td>contract</td>\n",
       "      <td>growing</td>\n",
       "    </tr>\n",
       "    <tr>\n",
       "      <th>8</th>\n",
       "      <td>industrial</td>\n",
       "      <td>retailer</td>\n",
       "      <td>outstanding</td>\n",
       "      <td>study</td>\n",
       "      <td>estate</td>\n",
       "      <td>crude</td>\n",
       "      <td>renewable</td>\n",
       "      <td>network</td>\n",
       "      <td>director</td>\n",
       "      <td>statement</td>\n",
       "      <td>agreement</td>\n",
       "      <td>permit</td>\n",
       "      <td>security</td>\n",
       "      <td>future</td>\n",
       "      <td>building</td>\n",
       "      <td>disclosure</td>\n",
       "      <td>revenue</td>\n",
       "      <td>government</td>\n",
       "      <td>plant</td>\n",
       "    </tr>\n",
       "    <tr>\n",
       "      <th>9</th>\n",
       "      <td>solution</td>\n",
       "      <td>footwear</td>\n",
       "      <td>exchange</td>\n",
       "      <td>therapy</td>\n",
       "      <td>federal</td>\n",
       "      <td>water</td>\n",
       "      <td>energy</td>\n",
       "      <td>mobile</td>\n",
       "      <td>joining</td>\n",
       "      <td>liability</td>\n",
       "      <td>distribution</td>\n",
       "      <td>environmental</td>\n",
       "      <td>equity</td>\n",
       "      <td>change</td>\n",
       "      <td>residential</td>\n",
       "      <td>ii</td>\n",
       "      <td>data</td>\n",
       "      <td>aerospace</td>\n",
       "      <td>warrant</td>\n",
       "    </tr>\n",
       "    <tr>\n",
       "      <th>10</th>\n",
       "      <td>component</td>\n",
       "      <td>fashion</td>\n",
       "      <td>split</td>\n",
       "      <td>approval</td>\n",
       "      <td>rate</td>\n",
       "      <td>energy</td>\n",
       "      <td>oil</td>\n",
       "      <td>technology</td>\n",
       "      <td>care</td>\n",
       "      <td>control</td>\n",
       "      <td>distributor</td>\n",
       "      <td>nevada</td>\n",
       "      <td>debt</td>\n",
       "      <td>condition</td>\n",
       "      <td>project</td>\n",
       "      <td>analysis</td>\n",
       "      <td>marketing</td>\n",
       "      <td>commercial</td>\n",
       "      <td>controlled</td>\n",
       "    </tr>\n",
       "    <tr>\n",
       "      <th>11</th>\n",
       "      <td>fiscal</td>\n",
       "      <td>center</td>\n",
       "      <td>officer</td>\n",
       "      <td>disease</td>\n",
       "      <td>real</td>\n",
       "      <td>texas</td>\n",
       "      <td>epa</td>\n",
       "      <td>system</td>\n",
       "      <td>prior</td>\n",
       "      <td>accounting</td>\n",
       "      <td>trademark</td>\n",
       "      <td>resource</td>\n",
       "      <td>partnership</td>\n",
       "      <td>ability</td>\n",
       "      <td>venture</td>\n",
       "      <td>accounting</td>\n",
       "      <td>consulting</td>\n",
       "      <td>air</td>\n",
       "      <td>substance</td>\n",
       "    </tr>\n",
       "    <tr>\n",
       "      <th>12</th>\n",
       "      <td>design</td>\n",
       "      <td>accessory</td>\n",
       "      <td>acquisition</td>\n",
       "      <td>medical</td>\n",
       "      <td>saving</td>\n",
       "      <td>interest</td>\n",
       "      <td>lincolnway</td>\n",
       "      <td>video</td>\n",
       "      <td>counsel</td>\n",
       "      <td>share</td>\n",
       "      <td>pet</td>\n",
       "      <td>drilling</td>\n",
       "      <td>asset</td>\n",
       "      <td>subject</td>\n",
       "      <td>fiscal</td>\n",
       "      <td>condition</td>\n",
       "      <td>security</td>\n",
       "      <td>equipment</td>\n",
       "      <td>federal</td>\n",
       "    </tr>\n",
       "    <tr>\n",
       "      <th>13</th>\n",
       "      <td>power</td>\n",
       "      <td>merchandising</td>\n",
       "      <td>transaction</td>\n",
       "      <td>pharmaceutical</td>\n",
       "      <td>interest</td>\n",
       "      <td>propane</td>\n",
       "      <td>rf</td>\n",
       "      <td>online</td>\n",
       "      <td>joined</td>\n",
       "      <td>fair</td>\n",
       "      <td>category</td>\n",
       "      <td>water</td>\n",
       "      <td>tax</td>\n",
       "      <td>risk</td>\n",
       "      <td>lot</td>\n",
       "      <td>proxy</td>\n",
       "      <td>patient</td>\n",
       "      <td>vehicle</td>\n",
       "      <td>use</td>\n",
       "    </tr>\n",
       "    <tr>\n",
       "      <th>14</th>\n",
       "      <td>process</td>\n",
       "      <td>shopping</td>\n",
       "      <td>reverse</td>\n",
       "      <td>blood</td>\n",
       "      <td>ratio</td>\n",
       "      <td>property</td>\n",
       "      <td>production</td>\n",
       "      <td>enterprise</td>\n",
       "      <td>february</td>\n",
       "      <td>september</td>\n",
       "      <td>coffee</td>\n",
       "      <td>production</td>\n",
       "      <td>trust</td>\n",
       "      <td>adverse</td>\n",
       "      <td>contract</td>\n",
       "      <td>form</td>\n",
       "      <td>account</td>\n",
       "      <td>display</td>\n",
       "      <td>industry</td>\n",
       "    </tr>\n",
       "    <tr>\n",
       "      <th>15</th>\n",
       "      <td>device</td>\n",
       "      <td>believe</td>\n",
       "      <td>nevada</td>\n",
       "      <td>patent</td>\n",
       "      <td>million</td>\n",
       "      <td>waste</td>\n",
       "      <td>producer</td>\n",
       "      <td>content</td>\n",
       "      <td>global</td>\n",
       "      <td>reporting</td>\n",
       "      <td>material</td>\n",
       "      <td>royalty</td>\n",
       "      <td>sbic</td>\n",
       "      <td>impact</td>\n",
       "      <td>buyer</td>\n",
       "      <td>matter</td>\n",
       "      <td>professional</td>\n",
       "      <td>power</td>\n",
       "      <td>venture</td>\n",
       "    </tr>\n",
       "    <tr>\n",
       "      <th>16</th>\n",
       "      <td>application</td>\n",
       "      <td>online</td>\n",
       "      <td>entered</td>\n",
       "      <td>care</td>\n",
       "      <td>september</td>\n",
       "      <td>operator</td>\n",
       "      <td>price</td>\n",
       "      <td>app</td>\n",
       "      <td>january</td>\n",
       "      <td>payable</td>\n",
       "      <td>wholesale</td>\n",
       "      <td>metal</td>\n",
       "      <td>property</td>\n",
       "      <td>act</td>\n",
       "      <td>local</td>\n",
       "      <td>officer</td>\n",
       "      <td>group</td>\n",
       "      <td>support</td>\n",
       "      <td>restaurant</td>\n",
       "    </tr>\n",
       "    <tr>\n",
       "      <th>17</th>\n",
       "      <td>assembly</td>\n",
       "      <td>vendor</td>\n",
       "      <td>security</td>\n",
       "      <td>phase</td>\n",
       "      <td>reserve</td>\n",
       "      <td>regulation</td>\n",
       "      <td>blend</td>\n",
       "      <td>digital</td>\n",
       "      <td>role</td>\n",
       "      <td>expense</td>\n",
       "      <td>united</td>\n",
       "      <td>land</td>\n",
       "      <td>incentive</td>\n",
       "      <td>certain</td>\n",
       "      <td>approximately</td>\n",
       "      <td>related</td>\n",
       "      <td>engineering</td>\n",
       "      <td>training</td>\n",
       "      <td>estate</td>\n",
       "    </tr>\n",
       "    <tr>\n",
       "      <th>18</th>\n",
       "      <td>automotive</td>\n",
       "      <td>approximately</td>\n",
       "      <td>name</td>\n",
       "      <td>health</td>\n",
       "      <td>fdic</td>\n",
       "      <td>price</td>\n",
       "      <td>feed</td>\n",
       "      <td>device</td>\n",
       "      <td>general</td>\n",
       "      <td>deferred</td>\n",
       "      <td>fiscal</td>\n",
       "      <td>river</td>\n",
       "      <td>estate</td>\n",
       "      <td>significant</td>\n",
       "      <td>joint</td>\n",
       "      <td>herein</td>\n",
       "      <td>organization</td>\n",
       "      <td>fuel</td>\n",
       "      <td>agreement</td>\n",
       "    </tr>\n",
       "    <tr>\n",
       "      <th>19</th>\n",
       "      <td>supplier</td>\n",
       "      <td>distribution</td>\n",
       "      <td>purchase</td>\n",
       "      <td>candidate</td>\n",
       "      <td>capital</td>\n",
       "      <td>emission</td>\n",
       "      <td>billion</td>\n",
       "      <td>apps</td>\n",
       "      <td>position</td>\n",
       "      <td>stock</td>\n",
       "      <td>marketing</td>\n",
       "      <td>work</td>\n",
       "      <td>partner</td>\n",
       "      <td>requirement</td>\n",
       "      <td>million</td>\n",
       "      <td>annual</td>\n",
       "      <td>system</td>\n",
       "      <td>component</td>\n",
       "      <td>research</td>\n",
       "    </tr>\n",
       "  </tbody>\n",
       "</table>\n",
       "</div>"
      ],
      "text/plain": [
       "       Topic # 01     Topic # 02   Topic # 03      Topic # 04   Topic # 05  \\\n",
       "0        customer          store        share         patient         loan   \n",
       "1   manufacturing    merchandise        stock        clinical         bank   \n",
       "2      technology       customer       common             fda       credit   \n",
       "3        material          brand    agreement           trial  institution   \n",
       "4          system        apparel       merger            drug     mortgage   \n",
       "5   semiconductor         retail  shareholder          cancer     borrower   \n",
       "6         segment         fiscal     director          device      deposit   \n",
       "7       equipment     assortment       issued       treatment      lending   \n",
       "8      industrial       retailer  outstanding           study       estate   \n",
       "9        solution       footwear     exchange         therapy      federal   \n",
       "10      component        fashion        split        approval         rate   \n",
       "11         fiscal         center      officer         disease         real   \n",
       "12         design      accessory  acquisition         medical       saving   \n",
       "13          power  merchandising  transaction  pharmaceutical     interest   \n",
       "14        process       shopping      reverse           blood        ratio   \n",
       "15         device        believe       nevada          patent      million   \n",
       "16    application         online      entered            care    september   \n",
       "17       assembly         vendor     security           phase      reserve   \n",
       "18     automotive  approximately         name          health         fdic   \n",
       "19       supplier   distribution     purchase       candidate      capital   \n",
       "\n",
       "    Topic # 06  Topic # 07   Topic # 08 Topic # 09  Topic # 10    Topic # 11  \\\n",
       "0          gas     ethanol     software  president         tax         brand   \n",
       "1          oil        corn     customer       vice      income          food   \n",
       "2      natural       grain  application    officer        cash      consumer   \n",
       "3     drilling   distiller         data      chief        note       segment   \n",
       "4         well        fuel     solution     served         net        retail   \n",
       "5     pipeline      gallon     platform  executive       asset      beverage   \n",
       "6   production       plant         user     senior       ended    restaurant   \n",
       "7      reserve    gasoline        cloud      since        loss    ingredient   \n",
       "8        crude   renewable      network   director   statement     agreement   \n",
       "9        water      energy       mobile    joining   liability  distribution   \n",
       "10      energy         oil   technology       care     control   distributor   \n",
       "11       texas         epa       system      prior  accounting     trademark   \n",
       "12    interest  lincolnway        video    counsel       share           pet   \n",
       "13     propane          rf       online     joined        fair      category   \n",
       "14    property  production   enterprise   february   september        coffee   \n",
       "15       waste    producer      content     global   reporting      material   \n",
       "16    operator       price          app    january     payable     wholesale   \n",
       "17  regulation       blend      digital       role     expense        united   \n",
       "18       price        feed       device    general    deferred        fiscal   \n",
       "19    emission     billion         apps   position       stock     marketing   \n",
       "\n",
       "       Topic # 12   Topic # 13   Topic # 14     Topic # 15     Topic # 16  \\\n",
       "0         mineral   investment        could           home           item   \n",
       "1     exploration         fund     customer           land      statement   \n",
       "2          mining      adviser    adversely      community     registrant   \n",
       "3            gold    portfolio   regulation   construction           part   \n",
       "4           claim       income       affect       property    stockholder   \n",
       "5         project      capital          law       mortgage         equity   \n",
       "6            mine      advisor         cost         estate  supplementary   \n",
       "7        property          fee       credit           real     discussion   \n",
       "8          permit     security       future       building     disclosure   \n",
       "9   environmental       equity       change    residential             ii   \n",
       "10         nevada         debt    condition        project       analysis   \n",
       "11       resource  partnership      ability        venture     accounting   \n",
       "12       drilling        asset      subject         fiscal      condition   \n",
       "13          water          tax         risk            lot          proxy   \n",
       "14     production        trust      adverse       contract           form   \n",
       "15        royalty         sbic       impact          buyer         matter   \n",
       "16          metal     property          act          local        officer   \n",
       "17           land    incentive      certain  approximately        related   \n",
       "18          river       estate  significant          joint         herein   \n",
       "19           work      partner  requirement        million         annual   \n",
       "\n",
       "      Topic # 17  Topic # 18      Topic # 19  \n",
       "0         client    aircraft        cannabis  \n",
       "1       solution      system         medical  \n",
       "2           care    aviation           lease  \n",
       "3     healthcare      flight        property  \n",
       "4         health    military        colorado  \n",
       "5       provider     defense  pharmaceutical  \n",
       "6        segment      engine        facility  \n",
       "7        provide    contract         growing  \n",
       "8        revenue  government           plant  \n",
       "9           data   aerospace         warrant  \n",
       "10     marketing  commercial      controlled  \n",
       "11    consulting         air       substance  \n",
       "12      security   equipment         federal  \n",
       "13       patient     vehicle             use  \n",
       "14       account     display        industry  \n",
       "15  professional       power         venture  \n",
       "16         group     support      restaurant  \n",
       "17   engineering    training          estate  \n",
       "18  organization        fuel       agreement  \n",
       "19        system   component        research  "
      ]
     },
     "execution_count": 135,
     "metadata": {},
     "output_type": "execute_result"
    }
   ],
   "source": [
    "from sklearn.feature_extraction.text import TfidfVectorizer\n",
    "from sklearn.decomposition import NMF\n",
    "        \n",
    "vectorizer = TfidfVectorizer(max_df=0.85, max_features=2000) \n",
    "X = vectorizer.fit_transform(data)\n",
    "\n",
    "nmf_model = NMF(n_components=19, init='nndsvd', random_state=0)\n",
    "nmf_feature = nmf_model.fit_transform(X)\n",
    "nmf_component =nmf_model.components_\n",
    "\n",
    "get_topics(nmf_model,19)"
   ]
  },
  {
   "cell_type": "markdown",
   "id": "923be227",
   "metadata": {},
   "source": [
    "### Clustering"
   ]
  },
  {
   "cell_type": "code",
   "execution_count": 143,
   "id": "eeb5262b",
   "metadata": {
    "scrolled": true
   },
   "outputs": [],
   "source": [
    "from sklearn.decomposition import PCA\n",
    "from sklearn.cluster import KMeans\n",
    "import plotly.express as px\n",
    "\n",
    "def visualize_pca(vectors, index):\n",
    "    multi_index = pd.MultiIndex.from_frame(index, names=[\"name\", \"industry\"])\n",
    "    \n",
    "    pca = PCA(n_components = 20)\n",
    "    pca_embedding = pca.fit_transform(vectors)\n",
    "    pca_embedding = pd.DataFrame(pca_embedding, index = multi_index)\n",
    "    \n",
    "    fig = px.scatter(pca_embedding, x =0 , y = 1, hover_data={\"name\": pca_embedding.index.get_level_values(0),\n",
    "                                                              \"industry\": pca_embedding.index.get_level_values(1)}, width=1200, height=600)\n",
    "    fig.show()\n",
    "    \n",
    "    return [pca, pca_embedding]"
   ]
  },
  {
   "cell_type": "code",
   "execution_count": 68,
   "id": "82bf20e4",
   "metadata": {},
   "outputs": [
    {
     "data": {
      "application/vnd.plotly.v1+json": {
       "config": {
        "plotlyServerURL": "https://plot.ly"
       },
       "data": [
        {
         "customdata": [
          [
           3545,
           "Agrigultural Production - Crops"
          ],
          [
           3545,
           "Agrigultural Production - Crops"
          ],
          [
           3545,
           "Agrigultural Production - Crops"
          ],
          [
           4457,
           "Automotive Rentals, No Drivers"
          ],
          [
           4457,
           "Automotive Rentals, No Drivers"
          ],
          [
           4457,
           "Automotive Rentals, No Drivers"
          ],
          [
           6281,
           "Semiconductors and Related Devices"
          ],
          [
           6281,
           "Semiconductors and Related Devices"
          ],
          [
           6281,
           "Semiconductors and Related Devices"
          ],
          [
           6885,
           "Family Clothing Stores"
          ],
          [
           6885,
           "Family Clothing Stores"
          ],
          [
           6885,
           "Family Clothing Stores"
          ],
          [
           7623,
           "Farm Machinery and Equipment (hand hair clippers for animals)"
          ],
          [
           7623,
           "Farm Machinery and Equipment (hand hair clippers for animals)"
          ],
          [
           7623,
           "Farm Machinery and Equipment (hand hair clippers for animals)"
          ],
          [
           10048,
           "Crude Petroleum and Natural Gas"
          ],
          [
           10048,
           "Crude Petroleum and Natural Gas"
          ],
          [
           10048,
           "Crude Petroleum and Natural Gas"
          ],
          [
           10329,
           "Wood Household Furniture, Except Upholstered (except wood box spring frames)"
          ],
          [
           10329,
           "Wood Household Furniture, Except Upholstered (except wood box spring frames)"
          ],
          [
           10329,
           "Wood Household Furniture, Except Upholstered (except wood box spring frames)"
          ],
          [
           12659,
           "Personal Services"
          ],
          [
           12659,
           "Personal Services"
          ],
          [
           12659,
           "Personal Services"
          ],
          [
           14707,
           "Footwear, except Rubber"
          ],
          [
           14707,
           "Footwear, except Rubber"
          ],
          [
           14707,
           "Footwear, except Rubber"
          ],
          [
           14846,
           "Real Estate Investment Trusts"
          ],
          [
           14846,
           "Real Estate Investment Trusts"
          ],
          [
           14846,
           "Real Estate Investment Trusts"
          ],
          [
           17313,
           ""
          ],
          [
           17313,
           ""
          ],
          [
           17313,
           ""
          ],
          [
           18255,
           "Women's Clothing Stores (except dress shops and bridal shops)"
          ],
          [
           18255,
           "Women's Clothing Stores (except dress shops and bridal shops)"
          ],
          [
           18255,
           "Women's Clothing Stores (except dress shops and bridal shops)"
          ],
          [
           20629,
           "Greeting Cards (lithographic printing of greeting cards)"
          ],
          [
           20629,
           "Greeting Cards (lithographic printing of greeting cards)"
          ],
          [
           20629,
           "Greeting Cards (lithographic printing of greeting cards)"
          ],
          [
           21510,
           "Laboratory Analytical Instruments"
          ],
          [
           21510,
           "Laboratory Analytical Instruments"
          ],
          [
           21510,
           "Laboratory Analytical Instruments"
          ],
          [
           24104,
           "Concrete, Gypsum and Plaster Products"
          ],
          [
           24104,
           "Concrete, Gypsum and Plaster Products"
          ],
          [
           24104,
           "Concrete, Gypsum and Plaster Products"
          ],
          [
           25895,
           "Broadwoven Fabric Mills, Cotton"
          ],
          [
           25895,
           "Broadwoven Fabric Mills, Cotton"
          ],
          [
           25895,
           "Broadwoven Fabric Mills, Cotton"
          ],
          [
           26076,
           "Measuring and Controlling Devices, NEC (motor vehicle gauges)"
          ],
          [
           26076,
           "Measuring and Controlling Devices, NEC (motor vehicle gauges)"
          ],
          [
           26076,
           "Measuring and Controlling Devices, NEC (motor vehicle gauges)"
          ],
          [
           27673,
           ""
          ],
          [
           27673,
           ""
          ],
          [
           27673,
           ""
          ],
          [
           28917,
           "Department Stores (except discount department stores and supercenters-general merchandise and groceries)"
          ],
          [
           28917,
           "Department Stores (except discount department stores and supercenters-general merchandise and groceries)"
          ],
          [
           28917,
           "Department Stores (except discount department stores and supercenters-general merchandise and groceries)"
          ],
          [
           29644,
           "Industrial and Commercial Fans and Blowers and Air Purification Equipment (air purification equipment)"
          ],
          [
           29644,
           "Industrial and Commercial Fans and Blowers and Air Purification Equipment (air purification equipment)"
          ],
          [
           29644,
           "Industrial and Commercial Fans and Blowers and Air Purification Equipment (air purification equipment)"
          ],
          [
           30697,
           ""
          ],
          [
           30697,
           ""
          ],
          [
           30697,
           ""
          ],
          [
           30831,
           "Glass and Glassware, Pressed or Blown"
          ],
          [
           30831,
           "Glass and Glassware, Pressed or Blown"
          ],
          [
           30831,
           "Glass and Glassware, Pressed or Blown"
          ],
          [
           31667,
           "Misc. Nondurable Goods"
          ],
          [
           31667,
           "Misc. Nondurable Goods"
          ],
          [
           31667,
           "Misc. Nondurable Goods"
          ],
          [
           31791,
           "Laboratory Analytical Instruments"
          ],
          [
           31791,
           "Laboratory Analytical Instruments"
          ],
          [
           31791,
           "Laboratory Analytical Instruments"
          ],
          [
           32604,
           "Electronic & Other Electric Equipment"
          ],
          [
           32604,
           "Electronic & Other Electric Equipment"
          ],
          [
           32604,
           "Electronic & Other Electric Equipment"
          ],
          [
           32621,
           "Household Audio and Video Equipment"
          ],
          [
           32621,
           "Household Audio and Video Equipment"
          ],
          [
           32621,
           "Household Audio and Video Equipment"
          ],
          [
           33619,
           "Industrial Instruments for Measurement, Display, and Control of Process Variables; and Related Products"
          ],
          [
           33619,
           "Industrial Instruments for Measurement, Display, and Control of Process Variables; and Related Products"
          ],
          [
           33619,
           "Industrial Instruments for Measurement, Display, and Control of Process Variables; and Related Products"
          ],
          [
           36840,
           "Real Estate Investment Trusts"
          ],
          [
           36840,
           "Real Estate Investment Trusts"
          ],
          [
           36840,
           "Real Estate Investment Trusts"
          ],
          [
           38725,
           "Motors and Generators"
          ],
          [
           38725,
           "Motors and Generators"
          ],
          [
           38725,
           "Motors and Generators"
          ],
          [
           38777,
           "Investment Advice (portfolio managers)"
          ],
          [
           38777,
           "Investment Advice (portfolio managers)"
          ],
          [
           38777,
           "Investment Advice (portfolio managers)"
          ],
          [
           39092,
           "Blast Furnace and Basic Steel Products"
          ],
          [
           39092,
           "Blast Furnace and Basic Steel Products"
          ],
          [
           39092,
           "Blast Furnace and Basic Steel Products"
          ],
          [
           39911,
           "Family Clothing Stores"
          ],
          [
           39911,
           "Family Clothing Stores"
          ],
          [
           39911,
           "Family Clothing Stores"
          ],
          [
           40570,
           "Employment Agencies (executive placement services)"
          ],
          [
           40570,
           "Employment Agencies (executive placement services)"
          ],
          [
           40570,
           "Employment Agencies (executive placement services)"
          ],
          [
           40730,
           "Motor Vehicles and Passenger Car Bodies (automobiles)"
          ],
          [
           40730,
           "Motor Vehicles and Passenger Car Bodies (automobiles)"
          ],
          [
           40730,
           "Motor Vehicles and Passenger Car Bodies (automobiles)"
          ],
          [
           43920,
           "Paperboard Containers and Boxes"
          ],
          [
           43920,
           "Paperboard Containers and Boxes"
          ],
          [
           43920,
           "Paperboard Containers and Boxes"
          ],
          [
           46250,
           "Chemicals and Allied Products"
          ],
          [
           46250,
           "Chemicals and Allied Products"
          ],
          [
           46250,
           "Chemicals and Allied Products"
          ],
          [
           46619,
           "Aircraft Engines and Engine Parts (except research and development not producing prototypes)"
          ],
          [
           46619,
           "Aircraft Engines and Engine Parts (except research and development not producing prototypes)"
          ],
          [
           46619,
           "Aircraft Engines and Engine Parts (except research and development not producing prototypes)"
          ],
          [
           47518,
           "Surgical and Medical Instruments and Apparatus (tranquilizer guns)"
          ],
          [
           47518,
           "Surgical and Medical Instruments and Apparatus (tranquilizer guns)"
          ],
          [
           47518,
           "Surgical and Medical Instruments and Apparatus (tranquilizer guns)"
          ],
          [
           48287,
           "Office Furniture, Except Wood"
          ],
          [
           48287,
           "Office Furniture, Except Wood"
          ],
          [
           48287,
           "Office Furniture, Except Wood"
          ],
          [
           48465,
           "Meat Packing Plants"
          ],
          [
           48465,
           "Meat Packing Plants"
          ],
          [
           48465,
           "Meat Packing Plants"
          ],
          [
           49728,
           "Printed Circuit Boards"
          ],
          [
           49728,
           "Printed Circuit Boards"
          ],
          [
           49728,
           "Printed Circuit Boards"
          ],
          [
           50725,
           "Metal Doors, Sash, Frames, Molding, and Trim"
          ],
          [
           50725,
           "Metal Doors, Sash, Frames, Molding, and Trim"
          ],
          [
           50725,
           "Metal Doors, Sash, Frames, Molding, and Trim"
          ],
          [
           51548,
           "Racing, Including Track Operations (track operations)"
          ],
          [
           51548,
           "Racing, Including Track Operations (track operations)"
          ],
          [
           51548,
           "Racing, Including Track Operations (track operations)"
          ],
          [
           52795,
           "Electrical Apparatus and Equipment, Wiring Supplies and Construction Materials (merchant wholesalers except those selling electrical supplies, equipment, and apparatus via retail method)"
          ],
          [
           52795,
           "Electrical Apparatus and Equipment, Wiring Supplies and Construction Materials (merchant wholesalers except those selling electrical supplies, equipment, and apparatus via retail method)"
          ],
          [
           52795,
           "Electrical Apparatus and Equipment, Wiring Supplies and Construction Materials (merchant wholesalers except those selling electrical supplies, equipment, and apparatus via retail method)"
          ],
          [
           54187,
           "Operators of Nonresidential Buildings (except stadium and arena owners)"
          ],
          [
           54187,
           "Operators of Nonresidential Buildings (except stadium and arena owners)"
          ],
          [
           54187,
           "Operators of Nonresidential Buildings (except stadium and arena owners)"
          ],
          [
           55067,
           "Grain Mill Products"
          ],
          [
           55067,
           "Grain Mill Products"
          ],
          [
           55067,
           "Grain Mill Products"
          ],
          [
           55135,
           "Help Supply Services (temporary help services)"
          ],
          [
           55135,
           "Help Supply Services (temporary help services)"
          ],
          [
           55135,
           "Help Supply Services (temporary help services)"
          ],
          [
           56873,
           "Grocery Stores (except convenience stores, freezer plans, and grocery stores with substantial general merchandise)"
          ],
          [
           56873,
           "Grocery Stores (except convenience stores, freezer plans, and grocery stores with substantial general merchandise)"
          ],
          [
           56873,
           "Grocery Stores (except convenience stores, freezer plans, and grocery stores with substantial general merchandise)"
          ],
          [
           56978,
           "Semiconductors and Related Devices"
          ],
          [
           56978,
           "Semiconductors and Related Devices"
          ],
          [
           56978,
           "Semiconductors and Related Devices"
          ],
          [
           57131,
           "Household Furniture"
          ],
          [
           57131,
           "Household Furniture"
          ],
          [
           57131,
           "Household Furniture"
          ],
          [
           63296,
           "Nonferrous Foundries (castings)"
          ],
          [
           63296,
           "Nonferrous Foundries (castings)"
          ],
          [
           63296,
           "Nonferrous Foundries (castings)"
          ],
          [
           63754,
           "Misc. Food and Kindred Products"
          ],
          [
           63754,
           "Misc. Food and Kindred Products"
          ],
          [
           63754,
           "Misc. Food and Kindred Products"
          ],
          [
           64472,
           "Construction Machinery and Equipment (except railway track maintenance equipment; winches, aerial work platforms; and automotive wrecker hoists)"
          ],
          [
           64472,
           "Construction Machinery and Equipment (except railway track maintenance equipment; winches, aerial work platforms; and automotive wrecker hoists)"
          ],
          [
           64472,
           "Construction Machinery and Equipment (except railway track maintenance equipment; winches, aerial work platforms; and automotive wrecker hoists)"
          ],
          [
           65172,
           ""
          ],
          [
           65172,
           ""
          ],
          [
           65172,
           ""
          ],
          [
           65270,
           "Electronic Connectors"
          ],
          [
           65270,
           "Electronic Connectors"
          ],
          [
           65270,
           "Electronic Connectors"
          ],
          [
           65759,
           "Semiconductors and Related Devices"
          ],
          [
           65759,
           "Semiconductors and Related Devices"
          ],
          [
           65759,
           "Semiconductors and Related Devices"
          ],
          [
           66388,
           "Operators of Nonresidential Buildings (except stadium and arena owners)"
          ],
          [
           66388,
           "Operators of Nonresidential Buildings (except stadium and arena owners)"
          ],
          [
           66388,
           "Operators of Nonresidential Buildings (except stadium and arena owners)"
          ],
          [
           66418,
           "Crude Petroleum and Natural Gas"
          ],
          [
           66418,
           "Crude Petroleum and Natural Gas"
          ],
          [
           66418,
           "Crude Petroleum and Natural Gas"
          ],
          [
           67625,
           "Real Estate Investment Trusts"
          ],
          [
           67625,
           "Real Estate Investment Trusts"
          ],
          [
           67625,
           "Real Estate Investment Trusts"
          ],
          [
           68709,
           "Measuring and Controlling Devices, NEC (motor vehicle gauges)"
          ],
          [
           68709,
           "Measuring and Controlling Devices, NEC (motor vehicle gauges)"
          ],
          [
           68709,
           "Measuring and Controlling Devices, NEC (motor vehicle gauges)"
          ],
          [
           69891,
           "Bottled and Canned Soft Drinks and Carbonated Water (except bottled water)"
          ],
          [
           69891,
           "Bottled and Canned Soft Drinks and Carbonated Water (except bottled water)"
          ],
          [
           69891,
           "Bottled and Canned Soft Drinks and Carbonated Water (except bottled water)"
          ],
          [
           70145,
           "Natural Gas Distribution"
          ],
          [
           70145,
           "Natural Gas Distribution"
          ],
          [
           70145,
           "Natural Gas Distribution"
          ],
          [
           72331,
           "General Industrial Machinery and Equipment, NEC (textile fire hose)"
          ],
          [
           72331,
           "General Industrial Machinery and Equipment, NEC (textile fire hose)"
          ],
          [
           72331,
           "General Industrial Machinery and Equipment, NEC (textile fire hose)"
          ],
          [
           72333,
           "Family Clothing Stores"
          ],
          [
           72333,
           "Family Clothing Stores"
          ],
          [
           72333,
           "Family Clothing Stores"
          ],
          [
           72573,
           "Watches, Clocks, Clockwork Operated Devices, and Parts"
          ],
          [
           72573,
           "Watches, Clocks, Clockwork Operated Devices, and Parts"
          ],
          [
           72573,
           "Watches, Clocks, Clockwork Operated Devices, and Parts"
          ],
          [
           74046,
           "Miscellaneous Manufactures"
          ],
          [
           74046,
           "Miscellaneous Manufactures"
          ],
          [
           74046,
           "Miscellaneous Manufactures"
          ],
          [
           75288,
           "Men's and Boys' Furnishings"
          ],
          [
           75288,
           "Men's and Boys' Furnishings"
          ],
          [
           75288,
           "Men's and Boys' Furnishings"
          ],
          [
           76267,
           "Printed Circuit Boards"
          ],
          [
           76267,
           "Printed Circuit Boards"
          ],
          [
           76267,
           "Printed Circuit Boards"
          ],
          [
           82166,
           "Unsupported Plastics Film and Sheet"
          ],
          [
           82166,
           "Unsupported Plastics Film and Sheet"
          ],
          [
           82166,
           "Unsupported Plastics Film and Sheet"
          ],
          [
           82473,
           "Real Estate Investment Trusts"
          ],
          [
           82473,
           "Real Estate Investment Trusts"
          ],
          [
           82473,
           "Real Estate Investment Trusts"
          ],
          [
           88572,
           ""
          ],
          [
           88572,
           ""
          ],
          [
           88572,
           ""
          ],
          [
           89439,
           "Nonferrous Rolling and Drawing"
          ],
          [
           89439,
           "Nonferrous Rolling and Drawing"
          ],
          [
           89439,
           "Nonferrous Rolling and Drawing"
          ],
          [
           90168,
           "Aircraft Engines and Engine Parts (except research and development not producing prototypes)"
          ],
          [
           90168,
           "Aircraft Engines and Engine Parts (except research and development not producing prototypes)"
          ],
          [
           90168,
           "Aircraft Engines and Engine Parts (except research and development not producing prototypes)"
          ],
          [
           91419,
           "Canned Fruits, Vegetables, Preserves, Jams, and Jellies"
          ],
          [
           91419,
           "Canned Fruits, Vegetables, Preserves, Jams, and Jellies"
          ],
          [
           91419,
           "Canned Fruits, Vegetables, Preserves, Jams, and Jellies"
          ],
          [
           94845,
           ""
          ],
          [
           94845,
           ""
          ],
          [
           94845,
           ""
          ],
          [
           95521,
           "Grocery Stores (except convenience stores, freezer plans, and grocery stores with substantial general merchandise)"
          ],
          [
           95521,
           "Grocery Stores (except convenience stores, freezer plans, and grocery stores with substantial general merchandise)"
          ],
          [
           95521,
           "Grocery Stores (except convenience stores, freezer plans, and grocery stores with substantial general merchandise)"
          ],
          [
           96699,
           "Radio and Television Broadcasting and Communications Equipment"
          ],
          [
           96699,
           "Radio and Television Broadcasting and Communications Equipment"
          ],
          [
           96699,
           "Radio and Television Broadcasting and Communications Equipment"
          ],
          [
           98246,
           "Jewelry Stores"
          ],
          [
           98246,
           "Jewelry Stores"
          ],
          [
           98246,
           "Jewelry Stores"
          ],
          [
           98752,
           "Electronic Coils, Transformers, and Other Inductors"
          ],
          [
           98752,
           "Electronic Coils, Transformers, and Other Inductors"
          ],
          [
           98752,
           "Electronic Coils, Transformers, and Other Inductors"
          ],
          [
           99302,
           "Instruments for Measuring and Testing of Electricity and Electrical Signals (automotive ammeters and voltmeters)"
          ],
          [
           99302,
           "Instruments for Measuring and Testing of Electricity and Electrical Signals (automotive ammeters and voltmeters)"
          ],
          [
           99302,
           "Instruments for Measuring and Testing of Electricity and Electrical Signals (automotive ammeters and voltmeters)"
          ],
          [
           100591,
           "Special Trade Contractors"
          ],
          [
           100591,
           "Special Trade Contractors"
          ],
          [
           100591,
           "Special Trade Contractors"
          ],
          [
           101830,
           "Telephone Communications, Except Radiotelephone (except resellers)"
          ],
          [
           101830,
           "Telephone Communications, Except Radiotelephone (except resellers)"
          ],
          [
           101830,
           "Telephone Communications, Except Radiotelephone (except resellers)"
          ],
          [
           102037,
           "Farm-product Raw Materials"
          ],
          [
           102037,
           "Farm-product Raw Materials"
          ],
          [
           102037,
           "Farm-product Raw Materials"
          ],
          [
           103379,
           "Men's and Boys' Furnishings"
          ],
          [
           103379,
           "Men's and Boys' Furnishings"
          ],
          [
           103379,
           "Men's and Boys' Furnishings"
          ],
          [
           104819,
           ""
          ],
          [
           104819,
           ""
          ],
          [
           104819,
           ""
          ],
          [
           105319,
           "Personal Services"
          ],
          [
           105319,
           "Personal Services"
          ],
          [
           105319,
           "Personal Services"
          ],
          [
           107140,
           "Books: Publishing, or Publishing and Printing (except music books and Internet book publishing)"
          ],
          [
           107140,
           "Books: Publishing, or Publishing and Printing (except music books and Internet book publishing)"
          ],
          [
           107140,
           "Books: Publishing, or Publishing and Printing (except music books and Internet book publishing)"
          ],
          [
           108312,
           "Electrical Industrial Apparatus"
          ],
          [
           108312,
           "Electrical Industrial Apparatus"
          ],
          [
           108312,
           "Electrical Industrial Apparatus"
          ],
          [
           108385,
           "Personal Credit Institutions (credit card issuing)"
          ],
          [
           108385,
           "Personal Credit Institutions (credit card issuing)"
          ],
          [
           108385,
           "Personal Credit Institutions (credit card issuing)"
          ],
          [
           109198,
           "Family Clothing Stores"
          ],
          [
           109198,
           "Family Clothing Stores"
          ],
          [
           109198,
           "Family Clothing Stores"
          ],
          [
           110471,
           "Footwear, except Rubber"
          ],
          [
           110471,
           "Footwear, except Rubber"
          ],
          [
           110471,
           "Footwear, except Rubber"
          ],
          [
           200406,
           "Pharmaceutical Preparations"
          ],
          [
           200406,
           "Pharmaceutical Preparations"
          ],
          [
           200406,
           "Pharmaceutical Preparations"
          ],
          [
           203527,
           "Electromedical and Electrotherapeutic Apparatus (except CT and CAT scanners)"
          ],
          [
           203527,
           "Electromedical and Electrotherapeutic Apparatus (except CT and CAT scanners)"
          ],
          [
           203527,
           "Electromedical and Electrotherapeutic Apparatus (except CT and CAT scanners)"
          ],
          [
           216877,
           ""
          ],
          [
           216877,
           ""
          ],
          [
           216877,
           ""
          ],
          [
           217346,
           "Aircraft and Parts"
          ],
          [
           217346,
           "Aircraft and Parts"
          ],
          [
           217346,
           "Aircraft and Parts"
          ],
          [
           276720,
           "Water Supply"
          ],
          [
           276720,
           "Water Supply"
          ],
          [
           276720,
           "Water Supply"
          ],
          [
           310056,
           "Communications Equipment, NEC"
          ],
          [
           310056,
           "Communications Equipment, NEC"
          ],
          [
           310056,
           "Communications Equipment, NEC"
          ],
          [
           313143,
           "Surgical and Medical Instruments and Apparatus (tranquilizer guns)"
          ],
          [
           313143,
           "Surgical and Medical Instruments and Apparatus (tranquilizer guns)"
          ],
          [
           313143,
           "Surgical and Medical Instruments and Apparatus (tranquilizer guns)"
          ],
          [
           315131,
           "Crude Petroleum and Natural Gas"
          ],
          [
           315131,
           "Crude Petroleum and Natural Gas"
          ],
          [
           315131,
           "Crude Petroleum and Natural Gas"
          ],
          [
           315374,
           "Industrial Instruments for Measurement, Display, and Control of Process Variables; and Related Products"
          ],
          [
           315374,
           "Industrial Instruments for Measurement, Display, and Control of Process Variables; and Related Products"
          ],
          [
           315374,
           "Industrial Instruments for Measurement, Display, and Control of Process Variables; and Related Products"
          ],
          [
           316253,
           "Medical Laboratories (except diagnostic imaging centers)"
          ],
          [
           316253,
           "Medical Laboratories (except diagnostic imaging centers)"
          ],
          [
           316253,
           "Medical Laboratories (except diagnostic imaging centers)"
          ],
          [
           317540,
           "Bottled and Canned Soft Drinks and Carbonated Water (except bottled water)"
          ],
          [
           317540,
           "Bottled and Canned Soft Drinks and Carbonated Water (except bottled water)"
          ],
          [
           317540,
           "Bottled and Canned Soft Drinks and Carbonated Water (except bottled water)"
          ],
          [
           318299,
           "Business Services, NEC (tobacco sheeting service)"
          ],
          [
           318299,
           "Business Services, NEC (tobacco sheeting service)"
          ],
          [
           318299,
           "Business Services, NEC (tobacco sheeting service)"
          ],
          [
           320193,
           "Electronic Computers"
          ],
          [
           320193,
           "Electronic Computers"
          ],
          [
           320193,
           "Electronic Computers"
          ],
          [
           350797,
           "Investment Advice (portfolio managers)"
          ],
          [
           350797,
           "Investment Advice (portfolio managers)"
          ],
          [
           350797,
           "Investment Advice (portfolio managers)"
          ],
          [
           353184,
           "Air Courier Services"
          ],
          [
           353184,
           "Air Courier Services"
          ],
          [
           353184,
           "Air Courier Services"
          ],
          [
           354950,
           "Lumber and Other Building Materials Dealers (home center stores)"
          ],
          [
           354950,
           "Lumber and Other Building Materials Dealers (home center stores)"
          ],
          [
           354950,
           "Lumber and Other Building Materials Dealers (home center stores)"
          ],
          [
           356037,
           "Computer Integrated Systems Design"
          ],
          [
           356037,
           "Computer Integrated Systems Design"
          ],
          [
           356037,
           "Computer Integrated Systems Design"
          ],
          [
           356309,
           "Natural Gas Distribution"
          ],
          [
           356309,
           "Natural Gas Distribution"
          ],
          [
           356309,
           "Natural Gas Distribution"
          ],
          [
           357294,
           "Operative Builders (residential operative builders)"
          ],
          [
           357294,
           "Operative Builders (residential operative builders)"
          ],
          [
           357294,
           "Operative Builders (residential operative builders)"
          ],
          [
           703361,
           "Semiconductors and Related Devices"
          ],
          [
           703361,
           "Semiconductors and Related Devices"
          ],
          [
           703361,
           "Semiconductors and Related Devices"
          ],
          [
           704172,
           "Management Services (single-family housing construction management)"
          ],
          [
           704172,
           "Management Services (single-family housing construction management)"
          ],
          [
           704172,
           "Management Services (single-family housing construction management)"
          ],
          [
           708818,
           "Computer Integrated Systems Design"
          ],
          [
           708818,
           "Computer Integrated Systems Design"
          ],
          [
           708818,
           "Computer Integrated Systems Design"
          ],
          [
           715446,
           "Patent Owners and Lessors"
          ],
          [
           715446,
           "Patent Owners and Lessors"
          ],
          [
           715446,
           "Patent Owners and Lessors"
          ],
          [
           716688,
           "Electronic Components, NEC (antennas)"
          ],
          [
           716688,
           "Electronic Components, NEC (antennas)"
          ],
          [
           716688,
           "Electronic Components, NEC (antennas)"
          ],
          [
           718937,
           "Ophthalmic Goods (intraoccular lenses, i.e., surgical implants)"
          ],
          [
           718937,
           "Ophthalmic Goods (intraoccular lenses, i.e., surgical implants)"
          ],
          [
           718937,
           "Ophthalmic Goods (intraoccular lenses, i.e., surgical implants)"
          ],
          [
           719274,
           "Instruments for Measuring and Testing of Electricity and Electrical Signals (automotive ammeters and voltmeters)"
          ],
          [
           719274,
           "Instruments for Measuring and Testing of Electricity and Electrical Signals (automotive ammeters and voltmeters)"
          ],
          [
           719274,
           "Instruments for Measuring and Testing of Electricity and Electrical Signals (automotive ammeters and voltmeters)"
          ],
          [
           719955,
           ""
          ],
          [
           719955,
           ""
          ],
          [
           719955,
           ""
          ],
          [
           720005,
           "Security Brokers, Dealers, and Flotation Companies (security dealers and underwriters)"
          ],
          [
           720005,
           "Security Brokers, Dealers, and Flotation Companies (security dealers and underwriters)"
          ],
          [
           720005,
           "Security Brokers, Dealers, and Flotation Companies (security dealers and underwriters)"
          ],
          [
           720500,
           "Special Industry Machinery, NEC (nuclear control rod drive mechanisms)"
          ],
          [
           720500,
           "Special Industry Machinery, NEC (nuclear control rod drive mechanisms)"
          ],
          [
           720500,
           "Special Industry Machinery, NEC (nuclear control rod drive mechanisms)"
          ],
          [
           720762,
           "Electromedical and Electrotherapeutic Apparatus (except CT and CAT scanners)"
          ],
          [
           720762,
           "Electromedical and Electrotherapeutic Apparatus (except CT and CAT scanners)"
          ],
          [
           720762,
           "Electromedical and Electrotherapeutic Apparatus (except CT and CAT scanners)"
          ],
          [
           721447,
           "Perfumes, Cosmetics, and Other Toilet Preparations (toothpaste, gel, and dentifrice powders)"
          ],
          [
           721447,
           "Perfumes, Cosmetics, and Other Toilet Preparations (toothpaste, gel, and dentifrice powders)"
          ],
          [
           721447,
           "Perfumes, Cosmetics, and Other Toilet Preparations (toothpaste, gel, and dentifrice powders)"
          ],
          [
           723125,
           "Semiconductors and Related Devices"
          ],
          [
           723125,
           "Semiconductors and Related Devices"
          ],
          [
           723125,
           "Semiconductors and Related Devices"
          ],
          [
           723733,
           ""
          ],
          [
           723733,
           ""
          ],
          [
           723733,
           ""
          ],
          [
           724445,
           "In Vitro and In Vivo Diagnostic Substances (except in-vitro diagnostic substances)"
          ],
          [
           724445,
           "In Vitro and In Vivo Diagnostic Substances (except in-vitro diagnostic substances)"
          ],
          [
           724445,
           "In Vitro and In Vivo Diagnostic Substances (except in-vitro diagnostic substances)"
          ],
          [
           724910,
           "Semiconductors and Related Devices"
          ],
          [
           724910,
           "Semiconductors and Related Devices"
          ],
          [
           724910,
           "Semiconductors and Related Devices"
          ],
          [
           725363,
           "Biological Products, Except Diagnostic Substances"
          ],
          [
           725363,
           "Biological Products, Except Diagnostic Substances"
          ],
          [
           725363,
           "Biological Products, Except Diagnostic Substances"
          ],
          [
           726514,
           "Misc. Electrical Equipment & Supplies"
          ],
          [
           726514,
           "Misc. Electrical Equipment & Supplies"
          ],
          [
           726514,
           "Misc. Electrical Equipment & Supplies"
          ],
          [
           726958,
           ""
          ],
          [
           726958,
           ""
          ],
          [
           726958,
           ""
          ],
          [
           730669,
           ""
          ],
          [
           730669,
           ""
          ],
          [
           730669,
           ""
          ],
          [
           731802,
           "Natural Gas Distribution"
          ],
          [
           731802,
           "Natural Gas Distribution"
          ],
          [
           731802,
           "Natural Gas Distribution"
          ],
          [
           733269,
           "Computer Processing and Data Preparation and Processing Services"
          ],
          [
           733269,
           "Computer Processing and Data Preparation and Processing Services"
          ],
          [
           733269,
           "Computer Processing and Data Preparation and Processing Services"
          ],
          [
           737758,
           "Lawn and Garden Tractors and Home Lawn and Garden Equipment (nonpowered lawnmowers)"
          ],
          [
           737758,
           "Lawn and Garden Tractors and Home Lawn and Garden Equipment (nonpowered lawnmowers)"
          ],
          [
           737758,
           "Lawn and Garden Tractors and Home Lawn and Garden Equipment (nonpowered lawnmowers)"
          ],
          [
           743988,
           "Semiconductors and Related Devices"
          ],
          [
           743988,
           "Semiconductors and Related Devices"
          ],
          [
           743988,
           "Semiconductors and Related Devices"
          ],
          [
           744187,
           "Industrial Organic Chemicals"
          ],
          [
           744187,
           "Industrial Organic Chemicals"
          ],
          [
           744187,
           "Industrial Organic Chemicals"
          ],
          [
           744452,
           "Industrial Organic Chemicals"
          ],
          [
           744452,
           "Industrial Organic Chemicals"
          ],
          [
           744452,
           "Industrial Organic Chemicals"
          ],
          [
           745543,
           "Pharmaceutical Preparations"
          ],
          [
           745543,
           "Pharmaceutical Preparations"
          ],
          [
           745543,
           "Pharmaceutical Preparations"
          ],
          [
           745732,
           "Family Clothing Stores"
          ],
          [
           745732,
           "Family Clothing Stores"
          ],
          [
           745732,
           "Family Clothing Stores"
          ],
          [
           751365,
           "Public Building and Related Furniture (seats for motor vehicles)"
          ],
          [
           751365,
           "Public Building and Related Furniture (seats for motor vehicles)"
          ],
          [
           751365,
           "Public Building and Related Furniture (seats for motor vehicles)"
          ],
          [
           764401,
           "Blast Furnace and Basic Steel Products"
          ],
          [
           764401,
           "Blast Furnace and Basic Steel Products"
          ],
          [
           764401,
           "Blast Furnace and Basic Steel Products"
          ],
          [
           764478,
           "Radio, Television, and Consumer Electronics Stores (automobile radios)"
          ],
          [
           764478,
           "Radio, Television, and Consumer Electronics Stores (automobile radios)"
          ],
          [
           764478,
           "Radio, Television, and Consumer Electronics Stores (automobile radios)"
          ],
          [
           766404,
           ""
          ],
          [
           766404,
           ""
          ],
          [
           766404,
           ""
          ],
          [
           768408,
           "Medicinal Chemicals and Botanical Products"
          ],
          [
           768408,
           "Medicinal Chemicals and Botanical Products"
          ],
          [
           768408,
           "Medicinal Chemicals and Botanical Products"
          ],
          [
           768835,
           "Variety Stores"
          ],
          [
           768835,
           "Variety Stores"
          ],
          [
           768835,
           "Variety Stores"
          ],
          [
           769397,
           "Prepackaged Software (mass reproduction of software)"
          ],
          [
           769397,
           "Prepackaged Software (mass reproduction of software)"
          ],
          [
           769397,
           "Prepackaged Software (mass reproduction of software)"
          ],
          [
           769520,
           "Refrigeration and Service Machinery"
          ],
          [
           769520,
           "Refrigeration and Service Machinery"
          ],
          [
           769520,
           "Refrigeration and Service Machinery"
          ],
          [
           771497,
           "Services to Buildings"
          ],
          [
           771497,
           "Services to Buildings"
          ],
          [
           771497,
           "Services to Buildings"
          ],
          [
           775057,
           ""
          ],
          [
           775057,
           ""
          ],
          [
           775057,
           ""
          ],
          [
           775158,
           "Motor Vehicles and Passenger Car Bodies (automobiles)"
          ],
          [
           775158,
           "Motor Vehicles and Passenger Car Bodies (automobiles)"
          ],
          [
           775158,
           "Motor Vehicles and Passenger Car Bodies (automobiles)"
          ],
          [
           779544,
           "Eating Places (dinner theaters)"
          ],
          [
           779544,
           "Eating Places (dinner theaters)"
          ],
          [
           779544,
           "Eating Places (dinner theaters)"
          ],
          [
           781902,
           "General Industrial Machinery and Equipment, NEC (textile fire hose)"
          ],
          [
           781902,
           "General Industrial Machinery and Equipment, NEC (textile fire hose)"
          ],
          [
           781902,
           "General Industrial Machinery and Equipment, NEC (textile fire hose)"
          ],
          [
           783412,
           "Newspapers: Publishing, or Publishing and Printing (except Internet newspaper publishing)"
          ],
          [
           783412,
           "Newspapers: Publishing, or Publishing and Printing (except Internet newspaper publishing)"
          ],
          [
           783412,
           "Newspapers: Publishing, or Publishing and Printing (except Internet newspaper publishing)"
          ],
          [
           788329,
           "Sporting and Athletic Goods, NEC"
          ],
          [
           788329,
           "Sporting and Athletic Goods, NEC"
          ],
          [
           788329,
           "Sporting and Athletic Goods, NEC"
          ],
          [
           792130,
           "Prepackaged Software (mass reproduction of software)"
          ],
          [
           792130,
           "Prepackaged Software (mass reproduction of software)"
          ],
          [
           792130,
           "Prepackaged Software (mass reproduction of software)"
          ],
          [
           794170,
           "Operative Builders (residential operative builders)"
          ],
          [
           794170,
           "Operative Builders (residential operative builders)"
          ],
          [
           794170,
           "Operative Builders (residential operative builders)"
          ],
          [
           794367,
           "Department Stores (except discount department stores and supercenters-general merchandise and groceries)"
          ],
          [
           794367,
           "Department Stores (except discount department stores and supercenters-general merchandise and groceries)"
          ],
          [
           794367,
           "Department Stores (except discount department stores and supercenters-general merchandise and groceries)"
          ],
          [
           794619,
           "Millwork, Plywood & Structural Members"
          ],
          [
           794619,
           "Millwork, Plywood & Structural Members"
          ],
          [
           794619,
           "Millwork, Plywood & Structural Members"
          ],
          [
           795212,
           "Record and Prerecorded Tape Stores"
          ],
          [
           795212,
           "Record and Prerecorded Tape Stores"
          ],
          [
           795212,
           "Record and Prerecorded Tape Stores"
          ],
          [
           796505,
           "Telephone and Telegraph Apparatus (except consumer external modems)"
          ],
          [
           796505,
           "Telephone and Telegraph Apparatus (except consumer external modems)"
          ],
          [
           796505,
           "Telephone and Telegraph Apparatus (except consumer external modems)"
          ],
          [
           797721,
           "Radio and Television Broadcasting and Communications Equipment"
          ],
          [
           797721,
           "Radio and Television Broadcasting and Communications Equipment"
          ],
          [
           797721,
           "Radio and Television Broadcasting and Communications Equipment"
          ],
          [
           798359,
           "Real Estate Investment Trusts"
          ],
          [
           798359,
           "Real Estate Investment Trusts"
          ],
          [
           798359,
           "Real Estate Investment Trusts"
          ],
          [
           799231,
           "Social Services"
          ],
          [
           799231,
           "Social Services"
          ],
          [
           799231,
           "Social Services"
          ],
          [
           799288,
           ""
          ],
          [
           799288,
           ""
          ],
          [
           799288,
           ""
          ],
          [
           799850,
           ""
          ],
          [
           799850,
           ""
          ],
          [
           799850,
           ""
          ],
          [
           804753,
           "Computer Integrated Systems Design"
          ],
          [
           804753,
           "Computer Integrated Systems Design"
          ],
          [
           804753,
           "Computer Integrated Systems Design"
          ],
          [
           808450,
           "Motor Vehicles and Passenger Car Bodies (automobiles)"
          ],
          [
           808450,
           "Motor Vehicles and Passenger Car Bodies (automobiles)"
          ],
          [
           808450,
           "Motor Vehicles and Passenger Car Bodies (automobiles)"
          ],
          [
           809933,
           "Engineering Services"
          ],
          [
           809933,
           "Engineering Services"
          ],
          [
           809933,
           "Engineering Services"
          ],
          [
           810136,
           "Semiconductors and Related Devices"
          ],
          [
           810136,
           "Semiconductors and Related Devices"
          ],
          [
           810136,
           "Semiconductors and Related Devices"
          ],
          [
           813920,
           "Eating Places (dinner theaters)"
          ],
          [
           813920,
           "Eating Places (dinner theaters)"
          ],
          [
           813920,
           "Eating Places (dinner theaters)"
          ],
          [
           814547,
           "Business Services, NEC (tobacco sheeting service)"
          ],
          [
           814547,
           "Business Services, NEC (tobacco sheeting service)"
          ],
          [
           814547,
           "Business Services, NEC (tobacco sheeting service)"
          ],
          [
           815094,
           "Surgical and Medical Instruments and Apparatus (tranquilizer guns)"
          ],
          [
           815094,
           "Surgical and Medical Instruments and Apparatus (tranquilizer guns)"
          ],
          [
           815094,
           "Surgical and Medical Instruments and Apparatus (tranquilizer guns)"
          ],
          [
           821002,
           "Apparel and Other Textile Products"
          ],
          [
           821002,
           "Apparel and Other Textile Products"
          ],
          [
           821002,
           "Apparel and Other Textile Products"
          ],
          [
           823277,
           "Farm-product Raw Materials"
          ],
          [
           823277,
           "Farm-product Raw Materials"
          ],
          [
           823277,
           "Farm-product Raw Materials"
          ],
          [
           825542,
           "Agricultural Chemicals"
          ],
          [
           825542,
           "Agricultural Chemicals"
          ],
          [
           825542,
           "Agricultural Chemicals"
          ],
          [
           827054,
           "Semiconductors and Related Devices"
          ],
          [
           827054,
           "Semiconductors and Related Devices"
          ],
          [
           827054,
           "Semiconductors and Related Devices"
          ],
          [
           827187,
           "Household Furniture"
          ],
          [
           827187,
           "Household Furniture"
          ],
          [
           827187,
           "Household Furniture"
          ],
          [
           827876,
           ""
          ],
          [
           827876,
           ""
          ],
          [
           827876,
           ""
          ],
          [
           831641,
           "Engineering Services"
          ],
          [
           831641,
           "Engineering Services"
          ],
          [
           831641,
           "Engineering Services"
          ],
          [
           834071,
           ""
          ],
          [
           834071,
           ""
          ],
          [
           834071,
           ""
          ],
          [
           836690,
           "Computer Programming Services"
          ],
          [
           836690,
           "Computer Programming Services"
          ],
          [
           836690,
           "Computer Programming Services"
          ],
          [
           844538,
           ""
          ],
          [
           844538,
           ""
          ],
          [
           844538,
           ""
          ],
          [
           847464,
           "Pharmaceutical Preparations"
          ],
          [
           847464,
           "Pharmaceutical Preparations"
          ],
          [
           847464,
           "Pharmaceutical Preparations"
          ],
          [
           851520,
           "Management Consulting Services (administrative management and general management consulting)"
          ],
          [
           851520,
           "Management Consulting Services (administrative management and general management consulting)"
          ],
          [
           851520,
           "Management Consulting Services (administrative management and general management consulting)"
          ],
          [
           854775,
           ""
          ],
          [
           854775,
           ""
          ],
          [
           854775,
           ""
          ],
          [
           855658,
           "Semiconductors and Related Devices"
          ],
          [
           855658,
           "Semiconductors and Related Devices"
          ],
          [
           855658,
           "Semiconductors and Related Devices"
          ],
          [
           856135,
           "Operators of Apartment Buildings"
          ],
          [
           856135,
           "Operators of Apartment Buildings"
          ],
          [
           856135,
           "Operators of Apartment Buildings"
          ],
          [
           858655,
           "Blast Furnace and Basic Steel Products"
          ],
          [
           858655,
           "Blast Furnace and Basic Steel Products"
          ],
          [
           858655,
           "Blast Furnace and Basic Steel Products"
          ],
          [
           862861,
           ""
          ],
          [
           862861,
           ""
          ],
          [
           862861,
           ""
          ],
          [
           863894,
           "Fabricated Rubber Products, NEC"
          ],
          [
           863894,
           "Fabricated Rubber Products, NEC"
          ],
          [
           863894,
           "Fabricated Rubber Products, NEC"
          ],
          [
           866706,
           "Communications Equipment, NEC"
          ],
          [
           866706,
           "Communications Equipment, NEC"
          ],
          [
           866706,
           "Communications Equipment, NEC"
          ],
          [
           867773,
           "Semiconductors and Related Devices"
          ],
          [
           867773,
           "Semiconductors and Related Devices"
          ],
          [
           867773,
           "Semiconductors and Related Devices"
          ],
          [
           868611,
           "Eating Places (dinner theaters)"
          ],
          [
           868611,
           "Eating Places (dinner theaters)"
          ],
          [
           868611,
           "Eating Places (dinner theaters)"
          ],
          [
           870826,
           "Catalog and Mail-Order Houses (electronic shopping web sites)"
          ],
          [
           870826,
           "Catalog and Mail-Order Houses (electronic shopping web sites)"
          ],
          [
           870826,
           "Catalog and Mail-Order Houses (electronic shopping web sites)"
          ],
          [
           874292,
           "Wholesale Trade--Durable Goods"
          ],
          [
           874292,
           "Wholesale Trade--Durable Goods"
          ],
          [
           874292,
           "Wholesale Trade--Durable Goods"
          ],
          [
           875582,
           "Metal Services, Nec"
          ],
          [
           875582,
           "Metal Services, Nec"
          ],
          [
           875582,
           "Metal Services, Nec"
          ],
          [
           876167,
           "Prepackaged Software (mass reproduction of software)"
          ],
          [
           876167,
           "Prepackaged Software (mass reproduction of software)"
          ],
          [
           876167,
           "Prepackaged Software (mass reproduction of software)"
          ],
          [
           876523,
           ""
          ],
          [
           876523,
           ""
          ],
          [
           876523,
           ""
          ],
          [
           877422,
           "Groceries, General Line (merchant wholesalers except those selling general line groceries via retail method)"
          ],
          [
           877422,
           "Groceries, General Line (merchant wholesalers except those selling general line groceries via retail method)"
          ],
          [
           877422,
           "Groceries, General Line (merchant wholesalers except those selling general line groceries via retail method)"
          ],
          [
           879555,
           ""
          ],
          [
           879555,
           ""
          ],
          [
           879555,
           ""
          ],
          [
           880807,
           "Motors and Generators"
          ],
          [
           880807,
           "Motors and Generators"
          ],
          [
           880807,
           "Motors and Generators"
          ],
          [
           881890,
           "Measuring and Controlling Devices, NEC (motor vehicle gauges)"
          ],
          [
           881890,
           "Measuring and Controlling Devices, NEC (motor vehicle gauges)"
          ],
          [
           881890,
           "Measuring and Controlling Devices, NEC (motor vehicle gauges)"
          ],
          [
           882184,
           "Operative Builders (residential operative builders)"
          ],
          [
           882184,
           "Operative Builders (residential operative builders)"
          ],
          [
           882184,
           "Operative Builders (residential operative builders)"
          ],
          [
           882291,
           "Laboratory Analytical Instruments"
          ],
          [
           882291,
           "Laboratory Analytical Instruments"
          ],
          [
           882291,
           "Laboratory Analytical Instruments"
          ],
          [
           882508,
           "Semiconductors and Related Devices"
          ],
          [
           882508,
           "Semiconductors and Related Devices"
          ],
          [
           882508,
           "Semiconductors and Related Devices"
          ],
          [
           883569,
           "Watches, Clocks, Clockwork Operated Devices, and Parts"
          ],
          [
           883569,
           "Watches, Clocks, Clockwork Operated Devices, and Parts"
          ],
          [
           883569,
           "Watches, Clocks, Clockwork Operated Devices, and Parts"
          ],
          [
           883902,
           "Prefabricated Metal Buildings and Components"
          ],
          [
           883902,
           "Prefabricated Metal Buildings and Components"
          ],
          [
           883902,
           "Prefabricated Metal Buildings and Components"
          ],
          [
           884713,
           "Bottled and Canned Soft Drinks and Carbonated Water (except bottled water)"
          ],
          [
           884713,
           "Bottled and Canned Soft Drinks and Carbonated Water (except bottled water)"
          ],
          [
           884713,
           "Bottled and Canned Soft Drinks and Carbonated Water (except bottled water)"
          ],
          [
           884940,
           "Family Clothing Stores"
          ],
          [
           884940,
           "Family Clothing Stores"
          ],
          [
           884940,
           "Family Clothing Stores"
          ],
          [
           885307,
           "Lumber and Other Building Materials Dealers (home center stores)"
          ],
          [
           885307,
           "Lumber and Other Building Materials Dealers (home center stores)"
          ],
          [
           885307,
           "Lumber and Other Building Materials Dealers (home center stores)"
          ],
          [
           885639,
           "Department Stores (except discount department stores and supercenters-general merchandise and groceries)"
          ],
          [
           885639,
           "Department Stores (except discount department stores and supercenters-general merchandise and groceries)"
          ],
          [
           885639,
           "Department Stores (except discount department stores and supercenters-general merchandise and groceries)"
          ],
          [
           886137,
           "Shoe Stores"
          ],
          [
           886137,
           "Shoe Stores"
          ],
          [
           886137,
           "Shoe Stores"
          ],
          [
           887730,
           "Electronic Components and Accessories"
          ],
          [
           887730,
           "Electronic Components and Accessories"
          ],
          [
           887730,
           "Electronic Components and Accessories"
          ],
          [
           887733,
           "Misc. Nondurable Goods"
          ],
          [
           887733,
           "Misc. Nondurable Goods"
          ],
          [
           887733,
           "Misc. Nondurable Goods"
          ],
          [
           889331,
           "Switchgear and Switchboard Apparatus"
          ],
          [
           889331,
           "Switchgear and Switchboard Apparatus"
          ],
          [
           889331,
           "Switchgear and Switchboard Apparatus"
          ],
          [
           891024,
           "Medical, Dental and Hospital Equipment and Supplies (merchant wholesalers except those selling medical, dental, and hospital equipment and supplies via retail method)"
          ],
          [
           891024,
           "Medical, Dental and Hospital Equipment and Supplies (merchant wholesalers except those selling medical, dental, and hospital equipment and supplies via retail method)"
          ],
          [
           891024,
           "Medical, Dental and Hospital Equipment and Supplies (merchant wholesalers except those selling medical, dental, and hospital equipment and supplies via retail method)"
          ],
          [
           895464,
           "Electromedical and Electrotherapeutic Apparatus (except CT and CAT scanners)"
          ],
          [
           895464,
           "Electromedical and Electrotherapeutic Apparatus (except CT and CAT scanners)"
          ],
          [
           895464,
           "Electromedical and Electrotherapeutic Apparatus (except CT and CAT scanners)"
          ],
          [
           896264,
           "Medicinal Chemicals and Botanical Products"
          ],
          [
           896264,
           "Medicinal Chemicals and Botanical Products"
          ],
          [
           896264,
           "Medicinal Chemicals and Botanical Products"
          ],
          [
           897315,
           "Operators of Apartment Buildings"
          ],
          [
           897315,
           "Operators of Apartment Buildings"
          ],
          [
           897315,
           "Operators of Apartment Buildings"
          ],
          [
           897723,
           "Printed Circuit Boards"
          ],
          [
           897723,
           "Printed Circuit Boards"
          ],
          [
           897723,
           "Printed Circuit Boards"
          ],
          [
           898293,
           "Printed Circuit Boards"
          ],
          [
           898293,
           "Printed Circuit Boards"
          ],
          [
           898293,
           "Printed Circuit Boards"
          ],
          [
           900075,
           ""
          ],
          [
           900075,
           ""
          ],
          [
           900075,
           ""
          ],
          [
           904979,
           "Metal Forgings and Stampings"
          ],
          [
           904979,
           "Metal Forgings and Stampings"
          ],
          [
           904979,
           "Metal Forgings and Stampings"
          ],
          [
           907471,
           "Savings Institutions, Federally Chartered"
          ],
          [
           907471,
           "Savings Institutions, Federally Chartered"
          ],
          [
           907471,
           "Savings Institutions, Federally Chartered"
          ],
          [
           912463,
           "Women's and Children's Undergarments"
          ],
          [
           912463,
           "Women's and Children's Undergarments"
          ],
          [
           912463,
           "Women's and Children's Undergarments"
          ],
          [
           913778,
           ""
          ],
          [
           913778,
           ""
          ],
          [
           913778,
           ""
          ],
          [
           914025,
           "Telephone and Telegraph Apparatus (except consumer external modems)"
          ],
          [
           914025,
           "Telephone and Telegraph Apparatus (except consumer external modems)"
          ],
          [
           914025,
           "Telephone and Telegraph Apparatus (except consumer external modems)"
          ],
          [
           914122,
           "Industrial and Commercial Fans and Blowers and Air Purification Equipment (air purification equipment)"
          ],
          [
           914122,
           "Industrial and Commercial Fans and Blowers and Air Purification Equipment (air purification equipment)"
          ],
          [
           914122,
           "Industrial and Commercial Fans and Blowers and Air Purification Equipment (air purification equipment)"
          ],
          [
           914712,
           "Business Services, NEC (tobacco sheeting service)"
          ],
          [
           914712,
           "Business Services, NEC (tobacco sheeting service)"
          ],
          [
           914712,
           "Business Services, NEC (tobacco sheeting service)"
          ],
          [
           915779,
           "Miscellaneous Manufactures"
          ],
          [
           915779,
           "Miscellaneous Manufactures"
          ],
          [
           915779,
           "Miscellaneous Manufactures"
          ],
          [
           916540,
           "Fats and Oils"
          ],
          [
           916540,
           "Fats and Oils"
          ],
          [
           916540,
           "Fats and Oils"
          ],
          [
           916789,
           "Electric Housewares and Fans (wall and baseboard heating units for permanent installation)"
          ],
          [
           916789,
           "Electric Housewares and Fans (wall and baseboard heating units for permanent installation)"
          ],
          [
           916789,
           "Electric Housewares and Fans (wall and baseboard heating units for permanent installation)"
          ],
          [
           918251,
           "Motor Vehicle Parts and Accessories (dump truck lifting mechanisms and fifth wheels)"
          ],
          [
           918251,
           "Motor Vehicle Parts and Accessories (dump truck lifting mechanisms and fifth wheels)"
          ],
          [
           918251,
           "Motor Vehicle Parts and Accessories (dump truck lifting mechanisms and fifth wheels)"
          ],
          [
           919175,
           "Paper and Paper Products"
          ],
          [
           919175,
           "Paper and Paper Products"
          ],
          [
           919175,
           "Paper and Paper Products"
          ],
          [
           920760,
           "Residential Building Construction"
          ],
          [
           920760,
           "Residential Building Construction"
          ],
          [
           920760,
           "Residential Building Construction"
          ],
          [
           921560,
           ""
          ],
          [
           921560,
           ""
          ],
          [
           921560,
           ""
          ],
          [
           923601,
           "Phonograph Records and Prerecorded Audio Tapes and Disks (reproduction of all other media except video)"
          ],
          [
           923601,
           "Phonograph Records and Prerecorded Audio Tapes and Disks (reproduction of all other media except video)"
          ],
          [
           923601,
           "Phonograph Records and Prerecorded Audio Tapes and Disks (reproduction of all other media except video)"
          ],
          [
           924805,
           "Crude Petroleum and Natural Gas"
          ],
          [
           924805,
           "Crude Petroleum and Natural Gas"
          ],
          [
           924805,
           "Crude Petroleum and Natural Gas"
          ],
          [
           925661,
           "Miscellaneous Durable Goods"
          ],
          [
           925661,
           "Miscellaneous Durable Goods"
          ],
          [
           925661,
           "Miscellaneous Durable Goods"
          ],
          [
           926423,
           "Equipment Rental and Leasing, NEC (appliances; TVs, VCRs, and other consumer electronic equipment rental)"
          ],
          [
           926423,
           "Equipment Rental and Leasing, NEC (appliances; TVs, VCRs, and other consumer electronic equipment rental)"
          ],
          [
           926423,
           "Equipment Rental and Leasing, NEC (appliances; TVs, VCRs, and other consumer electronic equipment rental)"
          ],
          [
           927355,
           "Electronic Parts and Equipment, NEC (merchant wholesalers except those selling electronic parts and equipment via retail method)"
          ],
          [
           927355,
           "Electronic Parts and Equipment, NEC (merchant wholesalers except those selling electronic parts and equipment via retail method)"
          ],
          [
           927355,
           "Electronic Parts and Equipment, NEC (merchant wholesalers except those selling electronic parts and equipment via retail method)"
          ],
          [
           927653,
           "Drugs, Drug Proprietaries, and Druggists’ Sundries (merchant wholesalers except those selling drugs and sundries via retail method)"
          ],
          [
           927653,
           "Drugs, Drug Proprietaries, and Druggists’ Sundries (merchant wholesalers except those selling drugs and sundries via retail method)"
          ],
          [
           927653,
           "Drugs, Drug Proprietaries, and Druggists’ Sundries (merchant wholesalers except those selling drugs and sundries via retail method)"
          ],
          [
           930775,
           "Surgical and Medical Instruments and Apparatus (tranquilizer guns)"
          ],
          [
           930775,
           "Surgical and Medical Instruments and Apparatus (tranquilizer guns)"
          ],
          [
           930775,
           "Surgical and Medical Instruments and Apparatus (tranquilizer guns)"
          ],
          [
           933974,
           "Special Industry Machinery, NEC (nuclear control rod drive mechanisms)"
          ],
          [
           933974,
           "Special Industry Machinery, NEC (nuclear control rod drive mechanisms)"
          ],
          [
           933974,
           "Special Industry Machinery, NEC (nuclear control rod drive mechanisms)"
          ],
          [
           935419,
           ""
          ],
          [
           935419,
           ""
          ],
          [
           935419,
           ""
          ],
          [
           936395,
           "Telephone and Telegraph Apparatus (except consumer external modems)"
          ],
          [
           936395,
           "Telephone and Telegraph Apparatus (except consumer external modems)"
          ],
          [
           936395,
           "Telephone and Telegraph Apparatus (except consumer external modems)"
          ],
          [
           936528,
           "Savings Institutions, Federally Chartered"
          ],
          [
           936528,
           "Savings Institutions, Federally Chartered"
          ],
          [
           936528,
           "Savings Institutions, Federally Chartered"
          ],
          [
           939930,
           "Farm-product Raw Materials"
          ],
          [
           939930,
           "Farm-product Raw Materials"
          ],
          [
           939930,
           "Farm-product Raw Materials"
          ],
          [
           1000045,
           "Short-Term Business Credit Institutions, Except Agricultural (credit card issuing)"
          ],
          [
           1000045,
           "Short-Term Business Credit Institutions, Except Agricultural (credit card issuing)"
          ],
          [
           1000045,
           "Short-Term Business Credit Institutions, Except Agricultural (credit card issuing)"
          ],
          [
           1001039,
           "Cable and Other Pay Television Services (cable networks)"
          ],
          [
           1001039,
           "Cable and Other Pay Television Services (cable networks)"
          ],
          [
           1001039,
           "Cable and Other Pay Television Services (cable networks)"
          ],
          [
           1001115,
           "Measuring and Controlling Devices, NEC (motor vehicle gauges)"
          ],
          [
           1001115,
           "Measuring and Controlling Devices, NEC (motor vehicle gauges)"
          ],
          [
           1001115,
           "Measuring and Controlling Devices, NEC (motor vehicle gauges)"
          ],
          [
           1001258,
           "Short-Term Business Credit Institutions, Except Agricultural (credit card issuing)"
          ],
          [
           1001258,
           "Short-Term Business Credit Institutions, Except Agricultural (credit card issuing)"
          ],
          [
           1001258,
           "Short-Term Business Credit Institutions, Except Agricultural (credit card issuing)"
          ],
          [
           1001902,
           "Special Industry Machinery, NEC (nuclear control rod drive mechanisms)"
          ],
          [
           1001902,
           "Special Industry Machinery, NEC (nuclear control rod drive mechanisms)"
          ],
          [
           1001902,
           "Special Industry Machinery, NEC (nuclear control rod drive mechanisms)"
          ],
          [
           1002135,
           "Telephone and Telegraph Apparatus (except consumer external modems)"
          ],
          [
           1002135,
           "Telephone and Telegraph Apparatus (except consumer external modems)"
          ],
          [
           1002135,
           "Telephone and Telegraph Apparatus (except consumer external modems)"
          ],
          [
           1002517,
           "Prepackaged Software (mass reproduction of software)"
          ],
          [
           1002517,
           "Prepackaged Software (mass reproduction of software)"
          ],
          [
           1002517,
           "Prepackaged Software (mass reproduction of software)"
          ],
          [
           1002590,
           ""
          ],
          [
           1002590,
           ""
          ],
          [
           1002590,
           ""
          ],
          [
           1003078,
           "Industrial Machinery and Equipment (merchant wholesalers)"
          ],
          [
           1003078,
           "Industrial Machinery and Equipment (merchant wholesalers)"
          ],
          [
           1003078,
           "Industrial Machinery and Equipment (merchant wholesalers)"
          ],
          [
           1005210,
           ""
          ],
          [
           1005210,
           ""
          ],
          [
           1005210,
           ""
          ],
          [
           1005229,
           "Construction Machinery and Equipment (except railway track maintenance equipment; winches, aerial work platforms; and automotive wrecker hoists)"
          ],
          [
           1005229,
           "Construction Machinery and Equipment (except railway track maintenance equipment; winches, aerial work platforms; and automotive wrecker hoists)"
          ],
          [
           1005229,
           "Construction Machinery and Equipment (except railway track maintenance equipment; winches, aerial work platforms; and automotive wrecker hoists)"
          ],
          [
           1006028,
           "Miscellaneous Chemical Products"
          ],
          [
           1006028,
           "Miscellaneous Chemical Products"
          ],
          [
           1006028,
           "Miscellaneous Chemical Products"
          ],
          [
           1006045,
           "Electromedical and Electrotherapeutic Apparatus (except CT and CAT scanners)"
          ],
          [
           1006045,
           "Electromedical and Electrotherapeutic Apparatus (except CT and CAT scanners)"
          ],
          [
           1006045,
           "Electromedical and Electrotherapeutic Apparatus (except CT and CAT scanners)"
          ],
          [
           1008579,
           ""
          ],
          [
           1008579,
           ""
          ],
          [
           1008579,
           ""
          ],
          [
           1008586,
           "Computer Integrated Systems Design"
          ],
          [
           1008586,
           "Computer Integrated Systems Design"
          ],
          [
           1008586,
           "Computer Integrated Systems Design"
          ],
          [
           1009759,
           "Engines and Turbines"
          ],
          [
           1009759,
           "Engines and Turbines"
          ],
          [
           1009759,
           "Engines and Turbines"
          ],
          [
           1016178,
           "Savings Institutions, Federally Chartered"
          ],
          [
           1016178,
           "Savings Institutions, Federally Chartered"
          ],
          [
           1016178,
           "Savings Institutions, Federally Chartered"
          ],
          [
           1017303,
           "Computer Peripheral Equipment, NEC (except plotter controllers and magnetic tape head cleaners)"
          ],
          [
           1017303,
           "Computer Peripheral Equipment, NEC (except plotter controllers and magnetic tape head cleaners)"
          ],
          [
           1017303,
           "Computer Peripheral Equipment, NEC (except plotter controllers and magnetic tape head cleaners)"
          ],
          [
           1017480,
           ""
          ],
          [
           1017480,
           ""
          ],
          [
           1017480,
           ""
          ],
          [
           1018840,
           "Family Clothing Stores"
          ],
          [
           1018840,
           "Family Clothing Stores"
          ],
          [
           1018840,
           "Family Clothing Stores"
          ],
          [
           1021162,
           "Aircraft and Parts"
          ],
          [
           1021162,
           "Aircraft and Parts"
          ],
          [
           1021162,
           "Aircraft and Parts"
          ],
          [
           1022505,
           "Semiconductors and Related Devices"
          ],
          [
           1022505,
           "Semiconductors and Related Devices"
          ],
          [
           1022505,
           "Semiconductors and Related Devices"
          ],
          [
           1023731,
           "Telephone Communications, Except Radiotelephone (except resellers)"
          ],
          [
           1023731,
           "Telephone Communications, Except Radiotelephone (except resellers)"
          ],
          [
           1023731,
           "Telephone Communications, Except Radiotelephone (except resellers)"
          ],
          [
           1023844,
           "Security And Commodity Brokers"
          ],
          [
           1023844,
           "Security And Commodity Brokers"
          ],
          [
           1023844,
           "Security And Commodity Brokers"
          ],
          [
           1024795,
           "Misc. Fabricated Metal Products"
          ],
          [
           1024795,
           "Misc. Fabricated Metal Products"
          ],
          [
           1024795,
           "Misc. Fabricated Metal Products"
          ],
          [
           1029800,
           "Real Estate Investment Trusts"
          ],
          [
           1029800,
           "Real Estate Investment Trusts"
          ],
          [
           1029800,
           "Real Estate Investment Trusts"
          ],
          [
           1031093,
           "Metal Mining"
          ],
          [
           1031093,
           "Metal Mining"
          ],
          [
           1031093,
           "Metal Mining"
          ],
          [
           1036188,
           "Prepackaged Software (mass reproduction of software)"
          ],
          [
           1036188,
           "Prepackaged Software (mass reproduction of software)"
          ],
          [
           1036188,
           "Prepackaged Software (mass reproduction of software)"
          ],
          [
           1037038,
           "Men's and Boys' Furnishings"
          ],
          [
           1037038,
           "Men's and Boys' Furnishings"
          ],
          [
           1037038,
           "Men's and Boys' Furnishings"
          ],
          [
           1041368,
           "Savings Institutions, Federally Chartered"
          ],
          [
           1041368,
           "Savings Institutions, Federally Chartered"
          ],
          [
           1041368,
           "Savings Institutions, Federally Chartered"
          ],
          [
           1041859,
           "Family Clothing Stores"
          ],
          [
           1041859,
           "Family Clothing Stores"
          ],
          [
           1041859,
           "Family Clothing Stores"
          ],
          [
           1043156,
           "Eating Places (dinner theaters)"
          ],
          [
           1043156,
           "Eating Places (dinner theaters)"
          ],
          [
           1043156,
           "Eating Places (dinner theaters)"
          ],
          [
           1045742,
           "Computer Programming Services"
          ],
          [
           1045742,
           "Computer Programming Services"
          ],
          [
           1045742,
           "Computer Programming Services"
          ],
          [
           1045810,
           "Semiconductors and Related Devices"
          ],
          [
           1045810,
           "Semiconductors and Related Devices"
          ],
          [
           1045810,
           "Semiconductors and Related Devices"
          ],
          [
           1046050,
           "Savings Institutions, Not Federally Chartered"
          ],
          [
           1046050,
           "Savings Institutions, Not Federally Chartered"
          ],
          [
           1046050,
           "Savings Institutions, Not Federally Chartered"
          ],
          [
           1047340,
           "Agrigultural Production - Crops"
          ],
          [
           1047340,
           "Agrigultural Production - Crops"
          ],
          [
           1047340,
           "Agrigultural Production - Crops"
          ],
          [
           1048695,
           ""
          ],
          [
           1048695,
           ""
          ],
          [
           1048695,
           ""
          ],
          [
           1056757,
           "Refrigeration and Service Machinery"
          ],
          [
           1056757,
           "Refrigeration and Service Machinery"
          ],
          [
           1056757,
           "Refrigeration and Service Machinery"
          ],
          [
           1061164,
           "General Industrial Machinery and Equipment, NEC (textile fire hose)"
          ],
          [
           1061164,
           "General Industrial Machinery and Equipment, NEC (textile fire hose)"
          ],
          [
           1061164,
           "General Industrial Machinery and Equipment, NEC (textile fire hose)"
          ],
          [
           1065598,
           "Computer and Office Equipment"
          ],
          [
           1065598,
           "Computer and Office Equipment"
          ],
          [
           1065598,
           "Computer and Office Equipment"
          ],
          [
           1067873,
           "Aircraft Parts and Auxiliary Equipment, NEC (fluid power aircraft subassemblies)"
          ],
          [
           1067873,
           "Aircraft Parts and Auxiliary Equipment, NEC (fluid power aircraft subassemblies)"
          ],
          [
           1067873,
           "Aircraft Parts and Auxiliary Equipment, NEC (fluid power aircraft subassemblies)"
          ],
          [
           1071840,
           "Industrial Organic Chemicals"
          ],
          [
           1071840,
           "Industrial Organic Chemicals"
          ],
          [
           1071840,
           "Industrial Organic Chemicals"
          ],
          [
           1074871,
           ""
          ],
          [
           1074871,
           ""
          ],
          [
           1074871,
           ""
          ],
          [
           1084332,
           "Advertising"
          ],
          [
           1084332,
           "Advertising"
          ],
          [
           1084332,
           "Advertising"
          ],
          [
           1084580,
           "Security Brokers, Dealers, and Flotation Companies (security dealers and underwriters)"
          ],
          [
           1084580,
           "Security Brokers, Dealers, and Flotation Companies (security dealers and underwriters)"
          ],
          [
           1084580,
           "Security Brokers, Dealers, and Flotation Companies (security dealers and underwriters)"
          ],
          [
           1088005,
           "Business Services, NEC (tobacco sheeting service)"
          ],
          [
           1088005,
           "Business Services, NEC (tobacco sheeting service)"
          ],
          [
           1088005,
           "Business Services, NEC (tobacco sheeting service)"
          ],
          [
           1090061,
           "Fabricated Rubber Products, NEC"
          ],
          [
           1090061,
           "Fabricated Rubber Products, NEC"
          ],
          [
           1090061,
           "Fabricated Rubber Products, NEC"
          ],
          [
           1096752,
           "Misc. Electrical Equipment & Supplies"
          ],
          [
           1096752,
           "Misc. Electrical Equipment & Supplies"
          ],
          [
           1096752,
           "Misc. Electrical Equipment & Supplies"
          ],
          [
           1099369,
           "Prepackaged Software (mass reproduction of software)"
          ],
          [
           1099369,
           "Prepackaged Software (mass reproduction of software)"
          ],
          [
           1099369,
           "Prepackaged Software (mass reproduction of software)"
          ],
          [
           1099941,
           ""
          ],
          [
           1099941,
           ""
          ],
          [
           1099941,
           ""
          ],
          [
           1100397,
           "Pharmaceutical Preparations"
          ],
          [
           1100397,
           "Pharmaceutical Preparations"
          ],
          [
           1100397,
           "Pharmaceutical Preparations"
          ],
          [
           1101396,
           "Apparel, Piece Goods, and Notions"
          ],
          [
           1101396,
           "Apparel, Piece Goods, and Notions"
          ],
          [
           1101396,
           "Apparel, Piece Goods, and Notions"
          ],
          [
           1102934,
           "Semiconductors and Related Devices"
          ],
          [
           1102934,
           "Semiconductors and Related Devices"
          ],
          [
           1102934,
           "Semiconductors and Related Devices"
          ],
          [
           1103601,
           "Natural Gas Distribution"
          ],
          [
           1103601,
           "Natural Gas Distribution"
          ],
          [
           1103601,
           "Natural Gas Distribution"
          ],
          [
           1113256,
           "Motor Vehicle Parts and Accessories (dump truck lifting mechanisms and fifth wheels)"
          ],
          [
           1113256,
           "Motor Vehicle Parts and Accessories (dump truck lifting mechanisms and fifth wheels)"
          ],
          [
           1113256,
           "Motor Vehicle Parts and Accessories (dump truck lifting mechanisms and fifth wheels)"
          ],
          [
           1123596,
           "Bakery Products"
          ],
          [
           1123596,
           "Bakery Products"
          ],
          [
           1123596,
           "Bakery Products"
          ],
          [
           1124941,
           "Lumber and Construction Materials"
          ],
          [
           1124941,
           "Lumber and Construction Materials"
          ],
          [
           1124941,
           "Lumber and Construction Materials"
          ],
          [
           1126741,
           "Semiconductors and Related Devices"
          ],
          [
           1126741,
           "Semiconductors and Related Devices"
          ],
          [
           1126741,
           "Semiconductors and Related Devices"
          ],
          [
           1128383,
           ""
          ],
          [
           1128383,
           ""
          ],
          [
           1128383,
           ""
          ],
          [
           1133062,
           "Business Services, NEC (tobacco sheeting service)"
          ],
          [
           1133062,
           "Business Services, NEC (tobacco sheeting service)"
          ],
          [
           1133062,
           "Business Services, NEC (tobacco sheeting service)"
          ],
          [
           1133470,
           "Agricultural Services"
          ],
          [
           1133470,
           "Agricultural Services"
          ],
          [
           1133470,
           "Agricultural Services"
          ],
          [
           1137411,
           "Aircraft Parts and Auxiliary Equipment, NEC (fluid power aircraft subassemblies)"
          ],
          [
           1137411,
           "Aircraft Parts and Auxiliary Equipment, NEC (fluid power aircraft subassemblies)"
          ],
          [
           1137411,
           "Aircraft Parts and Auxiliary Equipment, NEC (fluid power aircraft subassemblies)"
          ],
          [
           1140859,
           "Drugs, Drug Proprietaries, and Druggists’ Sundries (merchant wholesalers except those selling drugs and sundries via retail method)"
          ],
          [
           1140859,
           "Drugs, Drug Proprietaries, and Druggists’ Sundries (merchant wholesalers except those selling drugs and sundries via retail method)"
          ],
          [
           1140859,
           "Drugs, Drug Proprietaries, and Druggists’ Sundries (merchant wholesalers except those selling drugs and sundries via retail method)"
          ],
          [
           1142790,
           ""
          ],
          [
           1142790,
           ""
          ],
          [
           1142790,
           ""
          ],
          [
           1156388,
           ""
          ],
          [
           1156388,
           ""
          ],
          [
           1156388,
           ""
          ],
          [
           1158420,
           ""
          ],
          [
           1158420,
           ""
          ],
          [
           1158420,
           ""
          ],
          [
           1158449,
           "Auto and Home Supply Stores (auto supply stores)"
          ],
          [
           1158449,
           "Auto and Home Supply Stores (auto supply stores)"
          ],
          [
           1158449,
           "Auto and Home Supply Stores (auto supply stores)"
          ],
          [
           1159167,
           "Household Appliances"
          ],
          [
           1159167,
           "Household Appliances"
          ],
          [
           1159167,
           "Household Appliances"
          ],
          [
           1164256,
           "Crude Petroleum and Natural Gas"
          ],
          [
           1164256,
           "Crude Petroleum and Natural Gas"
          ],
          [
           1164256,
           "Crude Petroleum and Natural Gas"
          ],
          [
           1164888,
           "Pharmaceutical Preparations"
          ],
          [
           1164888,
           "Pharmaceutical Preparations"
          ],
          [
           1164888,
           "Pharmaceutical Preparations"
          ],
          [
           1165320,
           ""
          ],
          [
           1165320,
           ""
          ],
          [
           1165320,
           ""
          ],
          [
           1166126,
           "Department Stores (except discount department stores and supercenters-general merchandise and groceries)"
          ],
          [
           1166126,
           "Department Stores (except discount department stores and supercenters-general merchandise and groceries)"
          ],
          [
           1166126,
           "Department Stores (except discount department stores and supercenters-general merchandise and groceries)"
          ],
          [
           1166388,
           "Computer Integrated Systems Design"
          ],
          [
           1166388,
           "Computer Integrated Systems Design"
          ],
          [
           1166388,
           "Computer Integrated Systems Design"
          ],
          [
           1169561,
           "Prepackaged Software (mass reproduction of software)"
          ],
          [
           1169561,
           "Prepackaged Software (mass reproduction of software)"
          ],
          [
           1169561,
           "Prepackaged Software (mass reproduction of software)"
          ],
          [
           1170010,
           ""
          ],
          [
           1170010,
           ""
          ],
          [
           1170010,
           ""
          ],
          [
           1171838,
           ""
          ],
          [
           1171838,
           ""
          ],
          [
           1171838,
           ""
          ],
          [
           1172178,
           "Metal Mining"
          ],
          [
           1172178,
           "Metal Mining"
          ],
          [
           1172178,
           "Metal Mining"
          ],
          [
           1173204,
           "Business Services, NEC (tobacco sheeting service)"
          ],
          [
           1173204,
           "Business Services, NEC (tobacco sheeting service)"
          ],
          [
           1173204,
           "Business Services, NEC (tobacco sheeting service)"
          ],
          [
           1173420,
           "Gold and Silver Ores"
          ],
          [
           1173420,
           "Gold and Silver Ores"
          ],
          [
           1173420,
           "Gold and Silver Ores"
          ],
          [
           1173431,
           "Security Brokers, Dealers, and Flotation Companies (security dealers and underwriters)"
          ],
          [
           1173431,
           "Security Brokers, Dealers, and Flotation Companies (security dealers and underwriters)"
          ],
          [
           1173431,
           "Security Brokers, Dealers, and Flotation Companies (security dealers and underwriters)"
          ],
          [
           1176309,
           "Pharmaceutical Preparations"
          ],
          [
           1176309,
           "Pharmaceutical Preparations"
          ],
          [
           1176309,
           "Pharmaceutical Preparations"
          ],
          [
           1177394,
           "Computers and Computer Peripheral Equipment and Software (merchant wholesalers except those selling computers, equipment, and software via retail method)"
          ],
          [
           1177394,
           "Computers and Computer Peripheral Equipment and Software (merchant wholesalers except those selling computers, equipment, and software via retail method)"
          ],
          [
           1177394,
           "Computers and Computer Peripheral Equipment and Software (merchant wholesalers except those selling computers, equipment, and software via retail method)"
          ],
          [
           1177609,
           "Variety Stores"
          ],
          [
           1177609,
           "Variety Stores"
          ],
          [
           1177609,
           "Variety Stores"
          ],
          [
           1177648,
           "Pharmaceutical Preparations"
          ],
          [
           1177648,
           "Pharmaceutical Preparations"
          ],
          [
           1177648,
           "Pharmaceutical Preparations"
          ],
          [
           1181749,
           ""
          ],
          [
           1181749,
           ""
          ],
          [
           1181749,
           ""
          ],
          [
           1190370,
           "Misc. Fabricated Textile Products"
          ],
          [
           1190370,
           "Misc. Fabricated Textile Products"
          ],
          [
           1190370,
           "Misc. Fabricated Textile Products"
          ],
          [
           1206942,
           ""
          ],
          [
           1206942,
           ""
          ],
          [
           1206942,
           ""
          ],
          [
           1216752,
           ""
          ],
          [
           1216752,
           ""
          ],
          [
           1216752,
           ""
          ],
          [
           1222333,
           ""
          ],
          [
           1222333,
           ""
          ],
          [
           1222333,
           ""
          ],
          [
           1223389,
           "Radio, Television, and Consumer Electronics Stores (automobile radios)"
          ],
          [
           1223389,
           "Radio, Television, and Consumer Electronics Stores (automobile radios)"
          ],
          [
           1223389,
           "Radio, Television, and Consumer Electronics Stores (automobile radios)"
          ],
          [
           1261654,
           "Educational Services"
          ],
          [
           1261654,
           "Educational Services"
          ],
          [
           1261654,
           "Educational Services"
          ],
          [
           1267425,
           ""
          ],
          [
           1267425,
           ""
          ],
          [
           1267425,
           ""
          ],
          [
           1278752,
           ""
          ],
          [
           1278752,
           ""
          ],
          [
           1278752,
           ""
          ],
          [
           1288750,
           "Gold and Silver Ores"
          ],
          [
           1288750,
           "Gold and Silver Ores"
          ],
          [
           1288750,
           "Gold and Silver Ores"
          ],
          [
           1289308,
           "Electrical Apparatus and Equipment, Wiring Supplies and Construction Materials (merchant wholesalers except those selling electrical supplies, equipment, and apparatus via retail method)"
          ],
          [
           1289308,
           "Electrical Apparatus and Equipment, Wiring Supplies and Construction Materials (merchant wholesalers except those selling electrical supplies, equipment, and apparatus via retail method)"
          ],
          [
           1289308,
           "Electrical Apparatus and Equipment, Wiring Supplies and Construction Materials (merchant wholesalers except those selling electrical supplies, equipment, and apparatus via retail method)"
          ],
          [
           1295947,
           "Pharmaceutical Preparations"
          ],
          [
           1295947,
           "Pharmaceutical Preparations"
          ],
          [
           1295947,
           "Pharmaceutical Preparations"
          ],
          [
           1301991,
           ""
          ],
          [
           1301991,
           ""
          ],
          [
           1301991,
           ""
          ],
          [
           1302215,
           ""
          ],
          [
           1302215,
           ""
          ],
          [
           1302215,
           ""
          ],
          [
           1304280,
           "Nonferrous Rolling and Drawing"
          ],
          [
           1304280,
           "Nonferrous Rolling and Drawing"
          ],
          [
           1304280,
           "Nonferrous Rolling and Drawing"
          ],
          [
           1304730,
           "Metal Mining"
          ],
          [
           1304730,
           "Metal Mining"
          ],
          [
           1304730,
           "Metal Mining"
          ],
          [
           1308569,
           ""
          ],
          [
           1308569,
           ""
          ],
          [
           1308569,
           ""
          ],
          [
           1310067,
           "Department Stores (except discount department stores and supercenters-general merchandise and groceries)"
          ],
          [
           1310067,
           "Department Stores (except discount department stores and supercenters-general merchandise and groceries)"
          ],
          [
           1310067,
           "Department Stores (except discount department stores and supercenters-general merchandise and groceries)"
          ],
          [
           1310630,
           ""
          ],
          [
           1310630,
           ""
          ],
          [
           1310630,
           ""
          ],
          [
           1311538,
           "Beverages"
          ],
          [
           1311538,
           "Beverages"
          ],
          [
           1311538,
           "Beverages"
          ],
          [
           1319161,
           "Amusement & Recreation Services"
          ],
          [
           1319161,
           "Amusement & Recreation Services"
          ],
          [
           1319161,
           "Amusement & Recreation Services"
          ],
          [
           1319947,
           "Shoe Stores"
          ],
          [
           1319947,
           "Shoe Stores"
          ],
          [
           1319947,
           "Shoe Stores"
          ],
          [
           1322505,
           "Pharmaceutical Preparations"
          ],
          [
           1322505,
           "Pharmaceutical Preparations"
          ],
          [
           1322505,
           "Pharmaceutical Preparations"
          ],
          [
           1325740,
           ""
          ],
          [
           1325740,
           ""
          ],
          [
           1325740,
           ""
          ],
          [
           1326205,
           "Metal Mining"
          ],
          [
           1326205,
           "Metal Mining"
          ],
          [
           1326205,
           "Metal Mining"
          ],
          [
           1327811,
           "Computer Processing and Data Preparation and Processing Services"
          ],
          [
           1327811,
           "Computer Processing and Data Preparation and Processing Services"
          ],
          [
           1327811,
           "Computer Processing and Data Preparation and Processing Services"
          ],
          [
           1328792,
           ""
          ],
          [
           1328792,
           ""
          ],
          [
           1328792,
           ""
          ],
          [
           1333822,
           "Semiconductors and Related Devices"
          ],
          [
           1333822,
           "Semiconductors and Related Devices"
          ],
          [
           1333822,
           "Semiconductors and Related Devices"
          ],
          [
           1334933,
           "Miscellaneous Metal Ores"
          ],
          [
           1334933,
           "Miscellaneous Metal Ores"
          ],
          [
           1334933,
           "Miscellaneous Metal Ores"
          ],
          [
           1337068,
           "Savings Institutions, Federally Chartered"
          ],
          [
           1337068,
           "Savings Institutions, Federally Chartered"
          ],
          [
           1337068,
           "Savings Institutions, Federally Chartered"
          ],
          [
           1339947,
           "Cable and Other Pay Television Services (cable networks)"
          ],
          [
           1339947,
           "Cable and Other Pay Television Services (cable networks)"
          ],
          [
           1339947,
           "Cable and Other Pay Television Services (cable networks)"
          ],
          [
           1341439,
           "Prepackaged Software (mass reproduction of software)"
          ],
          [
           1341439,
           "Prepackaged Software (mass reproduction of software)"
          ],
          [
           1341439,
           "Prepackaged Software (mass reproduction of software)"
          ],
          [
           1343009,
           "Metal Mining"
          ],
          [
           1343009,
           "Metal Mining"
          ],
          [
           1343009,
           "Metal Mining"
          ],
          [
           1346022,
           "Metal Mining"
          ],
          [
           1346022,
           "Metal Mining"
          ],
          [
           1346022,
           "Metal Mining"
          ],
          [
           1348362,
           "Metal Mining"
          ],
          [
           1348362,
           "Metal Mining"
          ],
          [
           1348362,
           "Metal Mining"
          ],
          [
           1350420,
           ""
          ],
          [
           1350420,
           ""
          ],
          [
           1350420,
           ""
          ],
          [
           1350593,
           "Misc. Fabricated Metal Products"
          ],
          [
           1350593,
           "Misc. Fabricated Metal Products"
          ],
          [
           1350593,
           "Misc. Fabricated Metal Products"
          ],
          [
           1352081,
           ""
          ],
          [
           1352081,
           ""
          ],
          [
           1352081,
           ""
          ],
          [
           1353283,
           "Prepackaged Software (mass reproduction of software)"
          ],
          [
           1353283,
           "Prepackaged Software (mass reproduction of software)"
          ],
          [
           1353283,
           "Prepackaged Software (mass reproduction of software)"
          ],
          [
           1353406,
           "Crude Petroleum and Natural Gas"
          ],
          [
           1353406,
           "Crude Petroleum and Natural Gas"
          ],
          [
           1353406,
           "Crude Petroleum and Natural Gas"
          ],
          [
           1353633,
           ""
          ],
          [
           1353633,
           ""
          ],
          [
           1353633,
           ""
          ],
          [
           1354327,
           "Metal Doors, Sash, Frames, Molding, and Trim"
          ],
          [
           1354327,
           "Metal Doors, Sash, Frames, Molding, and Trim"
          ],
          [
           1354327,
           "Metal Doors, Sash, Frames, Molding, and Trim"
          ],
          [
           1354866,
           ""
          ],
          [
           1354866,
           ""
          ],
          [
           1354866,
           ""
          ],
          [
           1358654,
           "Metal Mining"
          ],
          [
           1358654,
           "Metal Mining"
          ],
          [
           1358654,
           "Metal Mining"
          ],
          [
           1359687,
           ""
          ],
          [
           1359687,
           ""
          ],
          [
           1359687,
           ""
          ],
          [
           1362516,
           ""
          ],
          [
           1362516,
           ""
          ],
          [
           1362516,
           ""
          ],
          [
           1368458,
           ""
          ],
          [
           1368458,
           ""
          ],
          [
           1368458,
           ""
          ],
          [
           1368622,
           "Aircraft (except research and development not producing prototypes)"
          ],
          [
           1368622,
           "Aircraft (except research and development not producing prototypes)"
          ],
          [
           1368622,
           "Aircraft (except research and development not producing prototypes)"
          ],
          [
           1370450,
           "Engineering Services"
          ],
          [
           1370450,
           "Engineering Services"
          ],
          [
           1370450,
           "Engineering Services"
          ],
          [
           1371451,
           ""
          ],
          [
           1371451,
           ""
          ],
          [
           1371451,
           ""
          ],
          [
           1372183,
           "Advertising"
          ],
          [
           1372183,
           "Advertising"
          ],
          [
           1372183,
           "Advertising"
          ],
          [
           1373690,
           ""
          ],
          [
           1373690,
           ""
          ],
          [
           1373690,
           ""
          ],
          [
           1374567,
           "Household Furniture"
          ],
          [
           1374567,
           "Household Furniture"
          ],
          [
           1374567,
           "Household Furniture"
          ],
          [
           1375063,
           ""
          ],
          [
           1375063,
           ""
          ],
          [
           1375063,
           ""
          ],
          [
           1375618,
           "Gold and Silver Ores"
          ],
          [
           1375618,
           "Gold and Silver Ores"
          ],
          [
           1375618,
           "Gold and Silver Ores"
          ],
          [
           1376793,
           ""
          ],
          [
           1376793,
           ""
          ],
          [
           1376793,
           ""
          ],
          [
           1376986,
           ""
          ],
          [
           1376986,
           ""
          ],
          [
           1376986,
           ""
          ],
          [
           1377167,
           ""
          ],
          [
           1377167,
           ""
          ],
          [
           1377167,
           ""
          ],
          [
           1377936,
           ""
          ],
          [
           1377936,
           ""
          ],
          [
           1377936,
           ""
          ],
          [
           1378590,
           "Prepackaged Software (mass reproduction of software)"
          ],
          [
           1378590,
           "Prepackaged Software (mass reproduction of software)"
          ],
          [
           1378590,
           "Prepackaged Software (mass reproduction of software)"
          ],
          [
           1378950,
           "Auto and Home Supply Stores (auto supply stores)"
          ],
          [
           1378950,
           "Auto and Home Supply Stores (auto supply stores)"
          ],
          [
           1378950,
           "Auto and Home Supply Stores (auto supply stores)"
          ],
          [
           1381668,
           "Savings Institutions, Federally Chartered"
          ],
          [
           1381668,
           "Savings Institutions, Federally Chartered"
          ],
          [
           1381668,
           "Savings Institutions, Federally Chartered"
          ],
          [
           1382231,
           "Dolls and Stuffed Toys"
          ],
          [
           1382231,
           "Dolls and Stuffed Toys"
          ],
          [
           1382231,
           "Dolls and Stuffed Toys"
          ],
          [
           1383097,
           ""
          ],
          [
           1383097,
           ""
          ],
          [
           1383097,
           ""
          ],
          [
           1383414,
           ""
          ],
          [
           1383414,
           ""
          ],
          [
           1383414,
           ""
          ],
          [
           1385329,
           "Metal Mining"
          ],
          [
           1385329,
           "Metal Mining"
          ],
          [
           1385329,
           "Metal Mining"
          ],
          [
           1385799,
           "Orthopedic, Prosthetic, and Surgical Appliances and Supplies (incontinent pads and bed pads)"
          ],
          [
           1385799,
           "Orthopedic, Prosthetic, and Surgical Appliances and Supplies (incontinent pads and bed pads)"
          ],
          [
           1385799,
           "Orthopedic, Prosthetic, and Surgical Appliances and Supplies (incontinent pads and bed pads)"
          ],
          [
           1392363,
           "Special Trade Contractors"
          ],
          [
           1392363,
           "Special Trade Contractors"
          ],
          [
           1392363,
           "Special Trade Contractors"
          ],
          [
           1397187,
           "Apparel and Other Textile Products"
          ],
          [
           1397187,
           "Apparel and Other Textile Products"
          ],
          [
           1397187,
           "Apparel and Other Textile Products"
          ],
          [
           1400683,
           ""
          ],
          [
           1400683,
           ""
          ],
          [
           1400683,
           ""
          ],
          [
           1403431,
           "Sanitary Services"
          ],
          [
           1403431,
           "Sanitary Services"
          ],
          [
           1403431,
           "Sanitary Services"
          ],
          [
           1403570,
           "Metal Mining"
          ],
          [
           1403570,
           "Metal Mining"
          ],
          [
           1403570,
           "Metal Mining"
          ],
          [
           1404079,
           "Drilling Oil and Gas Wells"
          ],
          [
           1404079,
           "Drilling Oil and Gas Wells"
          ],
          [
           1404079,
           "Drilling Oil and Gas Wells"
          ],
          [
           1405660,
           "Telephone Communications, Except Radiotelephone (except resellers)"
          ],
          [
           1405660,
           "Telephone Communications, Except Radiotelephone (except resellers)"
          ],
          [
           1405660,
           "Telephone Communications, Except Radiotelephone (except resellers)"
          ],
          [
           1407583,
           "Metal Mining"
          ],
          [
           1407583,
           "Metal Mining"
          ],
          [
           1407583,
           "Metal Mining"
          ],
          [
           1409446,
           ""
          ],
          [
           1409446,
           ""
          ],
          [
           1409446,
           ""
          ],
          [
           1411488,
           ""
          ],
          [
           1411488,
           ""
          ],
          [
           1411488,
           ""
          ],
          [
           1412659,
           ""
          ],
          [
           1412659,
           ""
          ],
          [
           1412659,
           ""
          ],
          [
           1413488,
           "Biological Products, Except Diagnostic Substances"
          ],
          [
           1413488,
           "Biological Products, Except Diagnostic Substances"
          ],
          [
           1413488,
           "Biological Products, Except Diagnostic Substances"
          ],
          [
           1415744,
           ""
          ],
          [
           1415744,
           ""
          ],
          [
           1415744,
           ""
          ],
          [
           1417398,
           "Miscellaneous Manufactures"
          ],
          [
           1417398,
           "Miscellaneous Manufactures"
          ],
          [
           1417398,
           "Miscellaneous Manufactures"
          ],
          [
           1421907,
           "Metal Mining"
          ],
          [
           1421907,
           "Metal Mining"
          ],
          [
           1421907,
           "Metal Mining"
          ],
          [
           1422768,
           ""
          ],
          [
           1422768,
           ""
          ],
          [
           1422768,
           ""
          ],
          [
           1423579,
           ""
          ],
          [
           1423579,
           ""
          ],
          [
           1423579,
           ""
          ],
          [
           1424404,
           "Metal Mining"
          ],
          [
           1424404,
           "Metal Mining"
          ],
          [
           1424404,
           "Metal Mining"
          ],
          [
           1424844,
           ""
          ],
          [
           1424844,
           ""
          ],
          [
           1424844,
           ""
          ],
          [
           1428336,
           ""
          ],
          [
           1428336,
           ""
          ],
          [
           1428336,
           ""
          ],
          [
           1428389,
           "Metal Mining"
          ],
          [
           1428389,
           "Metal Mining"
          ],
          [
           1428389,
           "Metal Mining"
          ],
          [
           1430523,
           "Real Estate Agents and Managers (operating housing authorities)"
          ],
          [
           1430523,
           "Real Estate Agents and Managers (operating housing authorities)"
          ],
          [
           1430523,
           "Real Estate Agents and Managers (operating housing authorities)"
          ],
          [
           1435064,
           "Measuring and Controlling Devices, NEC (motor vehicle gauges)"
          ],
          [
           1435064,
           "Measuring and Controlling Devices, NEC (motor vehicle gauges)"
          ],
          [
           1435064,
           "Measuring and Controlling Devices, NEC (motor vehicle gauges)"
          ],
          [
           1435508,
           "Savings Institutions, Federally Chartered"
          ],
          [
           1435508,
           "Savings Institutions, Federally Chartered"
          ],
          [
           1435508,
           "Savings Institutions, Federally Chartered"
          ],
          [
           1437750,
           "Business Services, NEC (tobacco sheeting service)"
          ],
          [
           1437750,
           "Business Services, NEC (tobacco sheeting service)"
          ],
          [
           1437750,
           "Business Services, NEC (tobacco sheeting service)"
          ],
          [
           1438461,
           "Miscellaneous Metal Ores"
          ],
          [
           1438461,
           "Miscellaneous Metal Ores"
          ],
          [
           1438461,
           "Miscellaneous Metal Ores"
          ],
          [
           1438901,
           ""
          ],
          [
           1438901,
           ""
          ],
          [
           1438901,
           ""
          ],
          [
           1443388,
           "Metal Mining"
          ],
          [
           1443388,
           "Metal Mining"
          ],
          [
           1443388,
           "Metal Mining"
          ],
          [
           1444307,
           "Business Services, NEC (tobacco sheeting service)"
          ],
          [
           1444307,
           "Business Services, NEC (tobacco sheeting service)"
          ],
          [
           1444307,
           "Business Services, NEC (tobacco sheeting service)"
          ],
          [
           1446687,
           ""
          ],
          [
           1446687,
           ""
          ],
          [
           1446687,
           ""
          ],
          [
           1448558,
           "Communications Equipment, NEC"
          ],
          [
           1448558,
           "Communications Equipment, NEC"
          ],
          [
           1448558,
           "Communications Equipment, NEC"
          ],
          [
           1449447,
           ""
          ],
          [
           1449447,
           ""
          ],
          [
           1449447,
           ""
          ],
          [
           1451448,
           "Household Audio and Video Equipment"
          ],
          [
           1451448,
           "Household Audio and Video Equipment"
          ],
          [
           1451448,
           "Household Audio and Video Equipment"
          ],
          [
           1456802,
           "Real Estate"
          ],
          [
           1456802,
           "Real Estate"
          ],
          [
           1456802,
           "Real Estate"
          ],
          [
           1458023,
           ""
          ],
          [
           1458023,
           ""
          ],
          [
           1458023,
           ""
          ],
          [
           1464165,
           "Pharmaceutical Preparations"
          ],
          [
           1464165,
           "Pharmaceutical Preparations"
          ],
          [
           1464165,
           "Pharmaceutical Preparations"
          ],
          [
           1467373,
           "Business Services, NEC (tobacco sheeting service)"
          ],
          [
           1467373,
           "Business Services, NEC (tobacco sheeting service)"
          ],
          [
           1467373,
           "Business Services, NEC (tobacco sheeting service)"
          ],
          [
           1471727,
           ""
          ],
          [
           1471727,
           ""
          ],
          [
           1471727,
           ""
          ],
          [
           1472468,
           "Transportation Services"
          ],
          [
           1472468,
           "Transportation Services"
          ],
          [
           1472468,
           "Transportation Services"
          ],
          [
           1473490,
           ""
          ],
          [
           1473490,
           ""
          ],
          [
           1473490,
           ""
          ],
          [
           1476765,
           ""
          ],
          [
           1476765,
           ""
          ],
          [
           1476765,
           ""
          ],
          [
           1479000,
           ""
          ],
          [
           1479000,
           ""
          ],
          [
           1479000,
           ""
          ],
          [
           1483510,
           ""
          ],
          [
           1483510,
           ""
          ],
          [
           1483510,
           ""
          ],
          [
           1490349,
           ""
          ],
          [
           1490349,
           ""
          ],
          [
           1490349,
           ""
          ],
          [
           1490906,
           "Savings Institutions, Federally Chartered"
          ],
          [
           1490906,
           "Savings Institutions, Federally Chartered"
          ],
          [
           1490906,
           "Savings Institutions, Federally Chartered"
          ],
          [
           1497253,
           "Biological Products, Except Diagnostic Substances"
          ],
          [
           1497253,
           "Biological Products, Except Diagnostic Substances"
          ],
          [
           1497253,
           "Biological Products, Except Diagnostic Substances"
          ],
          [
           1497649,
           "Drilling Oil and Gas Wells"
          ],
          [
           1497649,
           "Drilling Oil and Gas Wells"
          ],
          [
           1497649,
           "Drilling Oil and Gas Wells"
          ],
          [
           1500242,
           ""
          ],
          [
           1500242,
           ""
          ],
          [
           1500242,
           ""
          ],
          [
           1500305,
           ""
          ],
          [
           1500305,
           ""
          ],
          [
           1500305,
           ""
          ],
          [
           1504461,
           ""
          ],
          [
           1504461,
           ""
          ],
          [
           1504461,
           ""
          ],
          [
           1505367,
           ""
          ],
          [
           1505367,
           ""
          ],
          [
           1505367,
           ""
          ],
          [
           1506251,
           ""
          ],
          [
           1506251,
           ""
          ],
          [
           1506251,
           ""
          ],
          [
           1508348,
           ""
          ],
          [
           1508348,
           ""
          ],
          [
           1508348,
           ""
          ],
          [
           1509261,
           ""
          ],
          [
           1509261,
           ""
          ],
          [
           1509261,
           ""
          ],
          [
           1509786,
           "Residential Building Construction"
          ],
          [
           1509786,
           "Residential Building Construction"
          ],
          [
           1509786,
           "Residential Building Construction"
          ],
          [
           1511820,
           ""
          ],
          [
           1511820,
           ""
          ],
          [
           1511820,
           ""
          ],
          [
           1512886,
           ""
          ],
          [
           1512886,
           ""
          ],
          [
           1512886,
           ""
          ],
          [
           1513403,
           ""
          ],
          [
           1513403,
           ""
          ],
          [
           1513403,
           ""
          ],
          [
           1516079,
           ""
          ],
          [
           1516079,
           ""
          ],
          [
           1516079,
           ""
          ],
          [
           1520118,
           ""
          ],
          [
           1520118,
           ""
          ],
          [
           1520118,
           ""
          ],
          [
           1524025,
           ""
          ],
          [
           1524025,
           ""
          ],
          [
           1524025,
           ""
          ],
          [
           1524829,
           ""
          ],
          [
           1524829,
           ""
          ],
          [
           1524829,
           ""
          ],
          [
           1525769,
           ""
          ],
          [
           1525769,
           ""
          ],
          [
           1525769,
           ""
          ],
          [
           1526689,
           "Refrigeration and Service Machinery"
          ],
          [
           1526689,
           "Refrigeration and Service Machinery"
          ],
          [
           1526689,
           "Refrigeration and Service Machinery"
          ],
          [
           1527613,
           ""
          ],
          [
           1527613,
           ""
          ],
          [
           1527613,
           ""
          ],
          [
           1528308,
           ""
          ],
          [
           1528308,
           ""
          ],
          [
           1528308,
           ""
          ],
          [
           1528697,
           ""
          ],
          [
           1528697,
           ""
          ],
          [
           1528697,
           ""
          ],
          [
           1528849,
           "Furniture Stores (custom wood cabinets)"
          ],
          [
           1528849,
           "Furniture Stores (custom wood cabinets)"
          ],
          [
           1528849,
           "Furniture Stores (custom wood cabinets)"
          ],
          [
           1528930,
           "Personal Services"
          ],
          [
           1528930,
           "Personal Services"
          ],
          [
           1528930,
           "Personal Services"
          ],
          [
           1530163,
           ""
          ],
          [
           1530163,
           ""
          ],
          [
           1530163,
           ""
          ],
          [
           1530185,
           ""
          ],
          [
           1530185,
           ""
          ],
          [
           1530185,
           ""
          ],
          [
           1530950,
           "Grain Mill Products"
          ],
          [
           1530950,
           "Grain Mill Products"
          ],
          [
           1530950,
           "Grain Mill Products"
          ],
          [
           1532390,
           "Groceries and Related Products"
          ],
          [
           1532390,
           "Groceries and Related Products"
          ],
          [
           1532390,
           "Groceries and Related Products"
          ],
          [
           1535635,
           ""
          ],
          [
           1535635,
           ""
          ],
          [
           1535635,
           ""
          ],
          [
           1537561,
           "Auto and Home Supply Stores (auto supply stores)"
          ],
          [
           1537561,
           "Auto and Home Supply Stores (auto supply stores)"
          ],
          [
           1537561,
           "Auto and Home Supply Stores (auto supply stores)"
          ],
          [
           1539680,
           ""
          ],
          [
           1539680,
           ""
          ],
          [
           1539680,
           ""
          ],
          [
           1539778,
           ""
          ],
          [
           1539778,
           ""
          ],
          [
           1539778,
           ""
          ],
          [
           1540159,
           ""
          ],
          [
           1540159,
           ""
          ],
          [
           1540159,
           ""
          ],
          [
           1543066,
           ""
          ],
          [
           1543066,
           ""
          ],
          [
           1543066,
           ""
          ],
          [
           1550053,
           ""
          ],
          [
           1550053,
           ""
          ],
          [
           1550053,
           ""
          ],
          [
           1551887,
           "Metal Mining"
          ],
          [
           1551887,
           "Metal Mining"
          ],
          [
           1551887,
           "Metal Mining"
          ],
          [
           1552164,
           ""
          ],
          [
           1552164,
           ""
          ],
          [
           1552164,
           ""
          ],
          [
           1552358,
           ""
          ],
          [
           1552358,
           ""
          ],
          [
           1552358,
           ""
          ],
          [
           1556416,
           ""
          ],
          [
           1556416,
           ""
          ],
          [
           1556416,
           ""
          ],
          [
           1556801,
           ""
          ],
          [
           1556801,
           ""
          ],
          [
           1556801,
           ""
          ],
          [
           1557798,
           "Crude Petroleum and Natural Gas"
          ],
          [
           1557798,
           "Crude Petroleum and Natural Gas"
          ],
          [
           1557798,
           "Crude Petroleum and Natural Gas"
          ],
          [
           1568969,
           ""
          ],
          [
           1568969,
           ""
          ],
          [
           1568969,
           ""
          ],
          [
           1569568,
           ""
          ],
          [
           1569568,
           ""
          ],
          [
           1569568,
           ""
          ],
          [
           1570132,
           ""
          ],
          [
           1570132,
           ""
          ],
          [
           1570132,
           ""
          ],
          [
           1571371,
           ""
          ],
          [
           1571371,
           ""
          ],
          [
           1571371,
           ""
          ],
          [
           1572384,
           ""
          ],
          [
           1572384,
           ""
          ],
          [
           1572384,
           ""
          ],
          [
           1574863,
           ""
          ],
          [
           1574863,
           ""
          ],
          [
           1574863,
           ""
          ],
          [
           1575295,
           ""
          ],
          [
           1575295,
           ""
          ],
          [
           1575295,
           ""
          ],
          [
           1575420,
           ""
          ],
          [
           1575420,
           ""
          ],
          [
           1575420,
           ""
          ],
          [
           1575659,
           ""
          ],
          [
           1575659,
           ""
          ],
          [
           1575659,
           ""
          ],
          [
           1575858,
           ""
          ],
          [
           1575858,
           ""
          ],
          [
           1575858,
           ""
          ],
          [
           1576873,
           ""
          ],
          [
           1576873,
           ""
          ],
          [
           1576873,
           ""
          ],
          [
           1577134,
           ""
          ],
          [
           1577134,
           ""
          ],
          [
           1577134,
           ""
          ],
          [
           1578776,
           "Savings Institutions, Not Federally Chartered"
          ],
          [
           1578776,
           "Savings Institutions, Not Federally Chartered"
          ],
          [
           1578776,
           "Savings Institutions, Not Federally Chartered"
          ],
          [
           1579157,
           ""
          ],
          [
           1579157,
           ""
          ],
          [
           1579157,
           ""
          ],
          [
           1579298,
           "Department Stores (except discount department stores and supercenters-general merchandise and groceries)"
          ],
          [
           1579298,
           "Department Stores (except discount department stores and supercenters-general merchandise and groceries)"
          ],
          [
           1579298,
           "Department Stores (except discount department stores and supercenters-general merchandise and groceries)"
          ],
          [
           1580095,
           ""
          ],
          [
           1580095,
           ""
          ],
          [
           1580095,
           ""
          ],
          [
           1580149,
           ""
          ],
          [
           1580149,
           ""
          ],
          [
           1580149,
           ""
          ],
          [
           1586452,
           ""
          ],
          [
           1586452,
           ""
          ],
          [
           1586452,
           ""
          ],
          [
           1589150,
           ""
          ],
          [
           1589150,
           ""
          ],
          [
           1589150,
           ""
          ],
          [
           1589526,
           ""
          ],
          [
           1589526,
           ""
          ],
          [
           1589526,
           ""
          ],
          [
           1591565,
           ""
          ],
          [
           1591565,
           ""
          ],
          [
           1591565,
           ""
          ],
          [
           1591615,
           ""
          ],
          [
           1591615,
           ""
          ],
          [
           1591615,
           ""
          ],
          [
           1593204,
           ""
          ],
          [
           1593204,
           ""
          ],
          [
           1593204,
           ""
          ],
          [
           1593936,
           ""
          ],
          [
           1593936,
           ""
          ],
          [
           1593936,
           ""
          ],
          [
           1596946,
           ""
          ],
          [
           1596946,
           ""
          ],
          [
           1596946,
           ""
          ],
          [
           1596993,
           ""
          ],
          [
           1596993,
           ""
          ],
          [
           1596993,
           ""
          ],
          [
           1602078,
           ""
          ],
          [
           1602078,
           ""
          ],
          [
           1602078,
           ""
          ],
          [
           1602813,
           ""
          ],
          [
           1602813,
           ""
          ],
          [
           1602813,
           ""
          ],
          [
           1603793,
           ""
          ],
          [
           1603793,
           ""
          ],
          [
           1603793,
           ""
          ],
          [
           1604028,
           ""
          ],
          [
           1604028,
           ""
          ],
          [
           1604028,
           ""
          ],
          [
           1604627,
           ""
          ],
          [
           1604627,
           ""
          ],
          [
           1604627,
           ""
          ],
          [
           1604778,
           ""
          ],
          [
           1604778,
           ""
          ],
          [
           1604778,
           ""
          ],
          [
           1607549,
           ""
          ],
          [
           1607549,
           ""
          ],
          [
           1607549,
           ""
          ],
          [
           1608638,
           ""
          ],
          [
           1608638,
           ""
          ],
          [
           1608638,
           ""
          ],
          [
           1609472,
           ""
          ],
          [
           1609472,
           ""
          ],
          [
           1609472,
           ""
          ],
          [
           1609988,
           ""
          ],
          [
           1609988,
           ""
          ],
          [
           1609988,
           ""
          ],
          [
           1610250,
           ""
          ],
          [
           1610250,
           ""
          ],
          [
           1610250,
           ""
          ],
          [
           1613103,
           ""
          ],
          [
           1613103,
           ""
          ],
          [
           1613103,
           ""
          ],
          [
           1613685,
           ""
          ],
          [
           1613685,
           ""
          ],
          [
           1613685,
           ""
          ],
          [
           1614556,
           ""
          ],
          [
           1614556,
           ""
          ],
          [
           1614556,
           ""
          ],
          [
           1616262,
           ""
          ],
          [
           1616262,
           ""
          ],
          [
           1616262,
           ""
          ],
          [
           1617227,
           ""
          ],
          [
           1617227,
           ""
          ],
          [
           1617227,
           ""
          ],
          [
           1617669,
           ""
          ],
          [
           1617669,
           ""
          ],
          [
           1617669,
           ""
          ],
          [
           1617898,
           ""
          ],
          [
           1617898,
           ""
          ],
          [
           1617898,
           ""
          ],
          [
           1618921,
           ""
          ],
          [
           1618921,
           ""
          ],
          [
           1618921,
           ""
          ],
          [
           1619096,
           ""
          ],
          [
           1619096,
           ""
          ],
          [
           1619096,
           ""
          ],
          [
           1620749,
           ""
          ],
          [
           1620749,
           ""
          ],
          [
           1620749,
           ""
          ],
          [
           1621221,
           ""
          ],
          [
           1621221,
           ""
          ],
          [
           1621221,
           ""
          ],
          [
           1621563,
           ""
          ],
          [
           1621563,
           ""
          ],
          [
           1621563,
           ""
          ],
          [
           1622408,
           ""
          ],
          [
           1622408,
           ""
          ],
          [
           1622408,
           ""
          ],
          [
           1622996,
           ""
          ],
          [
           1622996,
           ""
          ],
          [
           1622996,
           ""
          ],
          [
           1623360,
           ""
          ],
          [
           1623360,
           ""
          ],
          [
           1623360,
           ""
          ],
          [
           1625376,
           ""
          ],
          [
           1625376,
           ""
          ],
          [
           1625376,
           ""
          ],
          [
           1626644,
           ""
          ],
          [
           1626644,
           ""
          ],
          [
           1626644,
           ""
          ],
          [
           1626696,
           ""
          ],
          [
           1626696,
           ""
          ],
          [
           1626696,
           ""
          ],
          [
           1626853,
           ""
          ],
          [
           1626853,
           ""
          ],
          [
           1626853,
           ""
          ],
          [
           1627041,
           ""
          ],
          [
           1627041,
           ""
          ],
          [
           1627041,
           ""
          ],
          [
           1627606,
           ""
          ],
          [
           1627606,
           ""
          ],
          [
           1627606,
           ""
          ],
          [
           1632790,
           ""
          ],
          [
           1632790,
           ""
          ],
          [
           1632790,
           ""
          ],
          [
           1634117,
           ""
          ],
          [
           1634117,
           ""
          ],
          [
           1634117,
           ""
          ],
          [
           1635748,
           ""
          ],
          [
           1635748,
           ""
          ],
          [
           1635748,
           ""
          ],
          [
           1636050,
           ""
          ],
          [
           1636050,
           ""
          ],
          [
           1636050,
           ""
          ],
          [
           1636051,
           ""
          ],
          [
           1636051,
           ""
          ],
          [
           1636051,
           ""
          ],
          [
           1637197,
           ""
          ],
          [
           1637197,
           ""
          ],
          [
           1637197,
           ""
          ],
          [
           1637459,
           ""
          ],
          [
           1637459,
           ""
          ],
          [
           1637459,
           ""
          ],
          [
           1639300,
           ""
          ],
          [
           1639300,
           ""
          ],
          [
           1639300,
           ""
          ],
          [
           1643301,
           ""
          ],
          [
           1643301,
           ""
          ],
          [
           1643301,
           ""
          ],
          [
           1647822,
           ""
          ],
          [
           1647822,
           ""
          ],
          [
           1647822,
           ""
          ],
          [
           1649744,
           ""
          ],
          [
           1649744,
           ""
          ],
          [
           1649744,
           ""
          ],
          [
           1650575,
           ""
          ],
          [
           1650575,
           ""
          ],
          [
           1650575,
           ""
          ],
          [
           1650739,
           ""
          ],
          [
           1650739,
           ""
          ],
          [
           1650739,
           ""
          ],
          [
           1653629,
           ""
          ],
          [
           1653629,
           ""
          ],
          [
           1653629,
           ""
          ],
          [
           1656053,
           ""
          ],
          [
           1656053,
           ""
          ],
          [
           1656053,
           ""
          ],
          [
           1658304,
           ""
          ],
          [
           1658304,
           ""
          ],
          [
           1658304,
           ""
          ],
          [
           1659207,
           ""
          ],
          [
           1659207,
           ""
          ],
          [
           1659207,
           ""
          ],
          [
           1660690,
           ""
          ],
          [
           1660690,
           ""
          ],
          [
           1660690,
           ""
          ],
          [
           1663641,
           ""
          ],
          [
           1663641,
           ""
          ],
          [
           1663641,
           ""
          ],
          [
           1665300,
           ""
          ],
          [
           1665300,
           ""
          ],
          [
           1665300,
           ""
          ],
          [
           1666138,
           ""
          ],
          [
           1666138,
           ""
          ],
          [
           1666138,
           ""
          ],
          [
           1674910,
           ""
          ],
          [
           1674910,
           ""
          ],
          [
           1674910,
           ""
          ]
         ],
         "hovertemplate": "0=%{x}<br>1=%{y}<br>2=%{z}<br>name=%{customdata[0]}<br>industry=%{customdata[1]}<extra></extra>",
         "legendgroup": "",
         "marker": {
          "color": "#636efa",
          "symbol": "circle"
         },
         "mode": "markers",
         "name": "",
         "scene": "scene",
         "showlegend": false,
         "type": "scatter3d",
         "x": [
          -0.02105135893028597,
          -0.02311810886217876,
          -0.02446326670100786,
          0.004326988917357008,
          0.0047602911072982534,
          0.0037631327765702016,
          -0.019066473367126056,
          -0.017725642803464055,
          -0.01884093689446865,
          0.25680075528404117,
          0.2637699517993253,
          0.2578122115958379,
          0.00478399959524327,
          0.005187704178049165,
          0.007717567515753798,
          -0.04276908947290661,
          -0.04137862493051426,
          -0.041650280231688784,
          0.14357868820941339,
          0.15065479191348383,
          0.14414846527350053,
          -0.0207364460580815,
          -0.02400341718675673,
          -0.02740346822493173,
          0.15757039208831145,
          0.15429494311225855,
          0.15429082164229746,
          -0.04547187415780374,
          -0.04547505725973109,
          -0.04455685143571497,
          -0.06232211636979189,
          -0.06153786169256484,
          -0.062301612477308414,
          0.23826873204024437,
          0.2355677100660442,
          0.2312567125119788,
          0.06172004007281558,
          0.0553614542981837,
          0.05364018760817001,
          -0.02058919069993805,
          -0.021118204467182853,
          -0.02006632565885082,
          -0.012096442683467377,
          -0.012753072738043535,
          -0.013038169713024902,
          0.10614385967393127,
          0.10615274579859435,
          0.08874942635586501,
          -0.024718242295143134,
          -0.024917296683327688,
          -0.02726331265912174,
          -0.01788375766648039,
          -0.017257314905518878,
          -0.017914699773550254,
          0.18626447923126901,
          0.18660792913238336,
          0.18640836301783043,
          -0.014060112900565365,
          -0.014078464321447272,
          -0.011388601710811073,
          -0.000729214592138937,
          -0.00027426819723760736,
          9.528330228010563e-06,
          -0.03348368665702494,
          -0.03594019241623729,
          -0.037703509652029066,
          0.017887386134447396,
          0.016014817856959088,
          0.014420759095174644,
          -0.024426540229124518,
          -0.023204620225100694,
          -0.02099675095867609,
          -0.019238114499280392,
          -0.019767295586215976,
          -0.019516301450626692,
          0.0061963219822299895,
          0.015278285668664461,
          0.015208594724511255,
          -0.017555792613148748,
          -0.016729448613540684,
          -0.02003407218008537,
          -0.05084078578259453,
          -0.04805580122233246,
          -0.04766857900950577,
          -0.019317208467900124,
          -0.01838921423165779,
          -0.017081058886949652,
          -0.053292990381708746,
          -0.05296438532967941,
          -0.05227805209044186,
          0.005737080608348417,
          0.006433196319590427,
          0.007680694876873752,
          0.16337284482731398,
          0.17200260575941453,
          0.16968300762800473,
          -0.03293380155715368,
          -0.038583534008147284,
          -0.03724396875169845,
          -0.023781605279754262,
          -0.023981174366269165,
          -0.024311251162697087,
          -0.03947456015410978,
          -0.04075038156421782,
          -0.040908845305298876,
          0.006343791921976327,
          0.008052894834593247,
          0.008597129363612246,
          -0.031672039648821405,
          -0.032486905553040964,
          -0.03308563814917703,
          -0.001529929703193911,
          0.0030894220158502257,
          0.005128356165486912,
          -0.030189954197441082,
          -0.03076520298135981,
          -0.004888718701193161,
          0.05891314353602078,
          -0.012881729463479574,
          0.060993925072795815,
          -0.013620653801761409,
          -0.01455673248053873,
          -0.0090460107464593,
          0.009946085377860044,
          0.013352676317481875,
          0.011995308663467907,
          -0.00204821814280615,
          -0.003403217945300062,
          -0.00691369389681922,
          -0.009721375188503247,
          -0.009528609127969696,
          -0.007257031399070243,
          -0.029323079688788382,
          -0.03150348398206556,
          -0.030456374846484998,
          0.05146818271624078,
          0.054866409903657244,
          0.03665014187251975,
          -0.005538548975853471,
          -0.005720085796442229,
          -0.007582101986920975,
          0.2148916217548385,
          0.20640748099284592,
          0.20944109294833715,
          -0.02175154620217353,
          -0.025603756473538606,
          -0.022220886476542145,
          -0.02304225968017454,
          -0.023259081124001574,
          0.0296826564980366,
          -0.005286480217266801,
          -0.003186449105036521,
          -0.0030103792421950115,
          0.06111297128620356,
          0.05343846430134649,
          0.05673724251526309,
          -0.01839017215704854,
          -0.058570227736086104,
          -0.018199831041638272,
          -0.021887632556397463,
          -0.021887632556397463,
          -0.023206007509754708,
          -0.014714015836029819,
          -0.014051925665468255,
          -0.01276744717385227,
          -0.024675523401433922,
          -0.023412334451023715,
          -0.02421711015610609,
          -0.050767339069021235,
          -0.05201994990959056,
          -0.050385251400637,
          -0.04193113598293071,
          -0.04155635801576309,
          -0.03816020571484926,
          -0.04032054463848034,
          -0.036210080828972264,
          -0.0359080269807906,
          -0.021986163502003823,
          -0.021527148059759308,
          -0.022111282663023948,
          0.0612584672569384,
          -0.00441711400988034,
          -0.00438010343460861,
          -0.016232914579112242,
          -0.01474087106320656,
          -0.015010885086003543,
          -0.010828463045474076,
          -0.012646383518057427,
          -0.010297837971061622,
          0.1936692073967435,
          0.20015706413045814,
          0.19181788615449286,
          0.029002204978854213,
          0.031303044563832476,
          0.03910080668828433,
          0.01992772145879512,
          0.01920460790980581,
          0.018072978838159847,
          0.16214192452130718,
          0.17092260753087182,
          0.1681967671983976,
          -0.01782858799579106,
          -0.01838345406179148,
          -0.0218810411945347,
          0.001578215446161474,
          -0.004349617156657,
          -0.0026559212301260886,
          -0.017014684448388516,
          -0.017005773190785556,
          -0.017406480816014164,
          -0.023776159993649744,
          -0.02311037063191804,
          -0.022876037111933954,
          -0.009843189434339804,
          -0.011240377323934844,
          -0.0128730877947942,
          -0.05602168025593277,
          -0.055522586278821014,
          -0.05678801947838785,
          0.098753561582301,
          0.09964866155908278,
          0.09425217220348349,
          0.18304388411614086,
          0.1871213012987769,
          0.1806728384457804,
          0.16963921310548427,
          0.13262641376810255,
          0.1394523853932191,
          -0.02546068096035499,
          -0.025266914311979527,
          -0.03035544822551331,
          0.11916904017815594,
          0.1106260659889938,
          0.10853067830025522,
          -0.024273473661439587,
          -0.02110224944180893,
          -0.020228095154654267,
          0.00047061435613901965,
          -0.037226318260326186,
          0.007985458945104901,
          -0.042028159734646485,
          -0.04206577718752489,
          -0.039922391422083425,
          -0.006608823478661821,
          -0.007209536376794985,
          -0.007045981326656418,
          -0.0073172899107077465,
          -0.007723103601772749,
          -0.008233553979002,
          0.2031604964862054,
          0.20532271386237205,
          0.19609073888431638,
          -0.014208771465127687,
          -0.02446870298612702,
          -0.027502512177816116,
          0.010444667848365194,
          0.007967499662909855,
          0.007671623128300932,
          -0.009297279829427204,
          -0.007826802935816665,
          -0.007228452783502825,
          -0.02167611974318052,
          -0.03894775389211104,
          -0.023250482179866347,
          -0.03396143461354684,
          -0.03182665599647167,
          -0.035116661865014824,
          0.23213620745638971,
          0.23819473257273027,
          0.2389963086775675,
          0.08537591214999725,
          0.08668948648964638,
          0.0815653638531193,
          -0.017989778960634424,
          -0.01607551145138017,
          -0.017322410585869304,
          -0.04178269396798101,
          -0.04597823121066914,
          -0.04497535782694815,
          -0.03262343186712886,
          -0.03354904225788411,
          -0.03715151403128124,
          -0.0270940510108853,
          -0.030669868123607422,
          -0.031229729171822256,
          -0.027975616689971648,
          -0.029245416590963674,
          -0.041306760567116727,
          -0.01551169973926228,
          -0.015952615255898445,
          -0.018509817587731736,
          -0.03429378823692504,
          -0.0349968931623342,
          -0.0411830241197923,
          -0.0433475046678932,
          -0.043379652347304655,
          -0.04354870426763837,
          -0.016550167281566906,
          -0.015526286709030328,
          -0.014964292026309538,
          -0.058247769307254685,
          -0.05750744689839924,
          -0.057226225720554726,
          0.014767560157071662,
          0.015022168392007014,
          0.014840303007328567,
          -0.006653536220663804,
          -0.002407692446121917,
          -0.007620796640783504,
          0.05660948846545369,
          0.06087558993417708,
          0.061603520350114765,
          -0.04806567647476714,
          -0.046065979826277116,
          -0.04701750199128249,
          -0.044557391269900576,
          -0.0439236820770294,
          -0.034195979673868615,
          0.14332299851388164,
          0.14114785898345666,
          0.12981810361304266,
          -0.026419254545280903,
          -0.028389162737264256,
          -0.030156785672786193,
          -0.03934229332804391,
          -0.042777397885286665,
          -0.04633682135695487,
          -0.02973424889586644,
          -0.030425101637419193,
          -0.02967999136564335,
          -0.012557532678984004,
          -0.012836756439424982,
          -0.01251598039389552,
          -0.06423385829575391,
          -0.05842875302238919,
          -0.0506421911904183,
          -0.047242403545343425,
          -0.03986839789901727,
          -0.04511533550652836,
          -0.0380278785479138,
          -0.04179866783727406,
          -0.04261591558379297,
          -0.024632573978771104,
          -0.024339107494488955,
          -0.024320992399328764,
          -0.05104526533710628,
          -0.0516431419879882,
          -0.05122806693560137,
          -0.024447655682292874,
          -0.022642379306245512,
          -0.029743102539231524,
          0.15637694845130165,
          0.1622038161236325,
          0.16482361632159254,
          -0.05606096415085994,
          -0.054811990773956785,
          -0.05295470578200292,
          -0.05885186196695995,
          -0.060104309695704745,
          -0.0593929529662849,
          -0.049475317635556494,
          -0.04942089132650609,
          -0.0499092022495444,
          0.025202222536852767,
          0.03237111190785953,
          0.04132517568372496,
          -0.01372656681642658,
          -0.0038686161817508237,
          -0.005462366950249247,
          -0.042530262027240785,
          -0.042530262027240785,
          -0.042530262027240785,
          -0.06454532303605347,
          -0.06444034646723418,
          -0.06478145693055688,
          -0.017273742352699357,
          -0.016233227490417473,
          -0.015401598290436152,
          -0.060321093092801314,
          -0.05496523803333037,
          -0.055738067418660865,
          -0.02116888454657807,
          -0.019492706341668053,
          -0.01986525745925541,
          0.19991528760255448,
          0.20193320067115134,
          0.20249942652471814,
          -0.03643675175711304,
          -0.03624780697863299,
          -0.03671960810389893,
          -0.02958671892380123,
          -0.03014208213283189,
          -0.03182404181388227,
          -0.002262220085273369,
          -0.0018524966476798292,
          -0.0022426316519430223,
          -0.00035164758751594834,
          -0.0024076190548222125,
          -0.002075950659907439,
          0.00480145487073994,
          0.0025876815212743276,
          0.003952315994579155,
          -0.026837190311646303,
          -0.03250075733909369,
          -0.03295724342147412,
          -0.0057012720324536624,
          -0.002721631625944128,
          -0.0298704073456342,
          -0.0358129053516397,
          -0.0358129053516397,
          -0.035820180879012876,
          0.23342958236065614,
          0.2334817048339048,
          0.23391451981762915,
          0.007935239480184951,
          0.009789704896545052,
          0.0017090639100670437,
          -0.01345962876873411,
          -0.0130685801890021,
          -0.013006428946194299,
          0.14304599618747965,
          0.1505178666330431,
          0.15331578043114855,
          -0.04175770631942855,
          -0.04175770631942855,
          -0.04175770631942855,
          0.009859968325676151,
          0.010382605736706598,
          0.010218300135142968,
          0.17911574430924895,
          0.17793224110111314,
          0.16521272252476762,
          -0.018404092643598907,
          -0.01975420049419518,
          -0.02112552836783803,
          0.024664851745759032,
          0.02460865402666317,
          0.024193191577293435,
          -0.003340324679890952,
          0.004730481630633433,
          0.005138020810490555,
          -0.036157556912414415,
          -0.036157556912414415,
          -0.036157556912414415,
          -0.011898430529972717,
          -0.011838728870624924,
          -0.01144803466725352,
          0.0025462065329034,
          0.0030790948685461977,
          0.005398333246386308,
          -0.02319732342376815,
          -0.02317896814028613,
          -0.029980309925460396,
          -0.017310257639040993,
          -0.017291439966095286,
          -0.016384479258969742,
          0.07149953715755428,
          0.07342177386375186,
          0.07232438396266992,
          -0.021049592502335915,
          -0.02321837659968416,
          -0.024962027799581055,
          -0.02932426128339461,
          -0.028931827370185084,
          -0.028964972181316266,
          0.1554026483406207,
          0.1254885648429387,
          0.14256527631412913,
          -0.000980765953250987,
          0.0034536112130877238,
          0.012347216843253421,
          0.1295046068554466,
          0.1167849494241459,
          0.11651082868632667,
          -0.015251708704452551,
          -0.015135508016894186,
          -0.014003039252550064,
          -0.01297595840509001,
          -0.011991492336145024,
          -0.00847387582316702,
          -0.04654494775064323,
          -0.04660542214223462,
          -0.04708816776007893,
          -0.035913822119304266,
          -0.03582930202563463,
          -0.03617204278171907,
          0.07797768997900285,
          0.06789183833704986,
          0.09133480880192502,
          -0.0098003073522665,
          -0.00946165080291347,
          -0.008562622980717858,
          -0.016144612025827187,
          -0.01627302529082157,
          -0.014997025734953649,
          0.0036901632214020675,
          0.0015514936444075672,
          0.005538500667325915,
          -0.04328968844619797,
          -0.045494856631026176,
          -0.046604638818291196,
          -0.01940127837602237,
          -0.0155704183107918,
          -0.021240044214313993,
          0.16866866806906763,
          0.03128336350163773,
          0.035114496169151445,
          -0.024360581871582406,
          -0.024900210423636875,
          -0.024895469504151262,
          -0.04612584150497927,
          -0.049893325692048116,
          -0.04460778319696541,
          0.0696254549802784,
          0.1671493767080362,
          0.16125440019437087,
          -6.183294817259342e-05,
          0.005607131017710001,
          -0.005301392338325244,
          0.062314568827411085,
          0.05173940883865262,
          0.04823340534859782,
          -0.02752740451407051,
          -0.029990715723887344,
          -0.01311549255339138,
          0.056556065252526364,
          0.057237100573636034,
          0.04208992721317424,
          -0.04149758148048378,
          -0.04084894212794339,
          -0.03860180936864126,
          -0.022411409486502862,
          -0.019975219183250598,
          -0.017388694774609494,
          -0.03207894107874151,
          -0.0288307014255048,
          -0.03025417960972859,
          -0.03791568913895839,
          -0.03961484260720042,
          -0.039499876398501964,
          -0.03740079143032041,
          -0.039412406059743395,
          -0.040950843778338845,
          -0.01803522320127223,
          -0.014726617528550269,
          -0.017401076594695978,
          -0.023195494788157623,
          -0.02001773161901936,
          -0.019450189654660454,
          -0.003986088786996059,
          -0.004102729323414895,
          -0.005185048870001094,
          -0.012202505952794084,
          -0.012313988723580941,
          -0.014043261050873248,
          -0.028871976567338555,
          -0.024206347607973293,
          -0.024206347607973293,
          -0.013322344343412786,
          -0.014374245040433642,
          -0.013493822876980128,
          0.007848914050853497,
          0.01055862620656694,
          0.007548783313996704,
          -0.04898141864510619,
          -0.05097631427876905,
          -0.05142427492059783,
          -0.012434623960497548,
          -0.015578741657444047,
          -0.01566073616937335,
          -0.029245776476665573,
          -0.0310506157399007,
          -0.030881057682941943,
          0.028980738393410633,
          0.02995945357364103,
          0.029571071162378407,
          0.05794623959269834,
          0.05881152393965819,
          0.07044534176243625,
          -0.023452589280698728,
          -0.023452589280698728,
          -0.023452589280698728,
          -0.013942730744146174,
          -0.013492732647830063,
          -0.013802286686624624,
          -0.019268094415554455,
          -0.022004402756299016,
          -0.024479475285266644,
          0.09715366327875244,
          0.11760743678969139,
          0.1323251938084672,
          0.15638450658029587,
          0.15402768767623798,
          0.16362888419652702,
          -0.040916668322644505,
          -0.04099769187645355,
          -0.04080284456454691,
          -0.03273991498173238,
          -0.02448832871892045,
          -0.024425207061251956,
          -0.03228792626823514,
          -0.03299865899392382,
          -0.03550226261080334,
          -0.028233615986860066,
          -0.02848502739568357,
          -0.028399974142403844,
          -0.06710113488858431,
          -0.06600745242259054,
          -0.06409726784531154,
          -0.01898744020010554,
          -0.01898744020010554,
          -0.01898744020010554,
          0.16489184548718586,
          0.1646076494071079,
          0.13270713672430162,
          -0.028012854821677445,
          -0.026539882985578134,
          -0.024816691796029244,
          0.03047556077712026,
          0.02289780407802964,
          0.011465872032833712,
          0.23175152151709252,
          0.23526385977222025,
          0.20251338958639348,
          0.005570720625524119,
          0.008347147149033724,
          0.009127088869655804,
          0.18611965430804794,
          0.1908676196177101,
          0.2025215505774637,
          0.20084483163682554,
          0.19512016084804357,
          0.1611312455390454,
          -0.009449573360128131,
          -0.011130858445857978,
          -0.01330677578337556,
          0.05645339011639708,
          0.0522934106800353,
          0.05084297475763519,
          -0.01640028366829127,
          -0.01817713798643184,
          -0.019254253022384493,
          -0.0005009916630841932,
          0.0010566954709072425,
          -0.004747298387973715,
          -0.03736648914943302,
          -0.05328404964789566,
          -0.03802956582169106,
          -0.011442255089002287,
          -0.011442255089002287,
          -0.011442255089002287,
          -0.0287458079377268,
          -0.02446831811744162,
          -0.02446831811744162,
          -0.01250122948093746,
          -0.01051982442148267,
          -0.013821069285571226,
          0.014496453072749297,
          0.013946583997037914,
          0.014192568165028788,
          -0.019342299054777187,
          -0.019342299054777187,
          -0.019342299054777187,
          -0.007944704557856093,
          -0.006382704932684102,
          -0.005511755057988702,
          -0.0633966861844627,
          -0.06565372878278464,
          -0.06600764142113243,
          0.2337719095612251,
          0.2414881002663984,
          0.22161541799750634,
          -0.03111294113024287,
          -0.030710446751568938,
          -0.030484808109975253,
          0.020273555325896874,
          0.012121538485359446,
          0.0163194039399761,
          -0.004627358670416464,
          -0.008774854934375506,
          0.002870034852109669,
          -0.0103714956147836,
          -0.01572029632140025,
          -0.008812007056635296,
          -0.015286970133387385,
          -0.01556965586366495,
          -0.01570368923994698,
          0.031459288223135186,
          0.030669703532526533,
          0.03056491685010335,
          0.057650483537590475,
          0.06487104474248881,
          0.07123633946263394,
          0.010659393939068642,
          0.010802511588599571,
          0.009293153469592145,
          0.01095007835626914,
          -0.01770877462952311,
          -0.015046349701095424,
          -0.043482121147636846,
          -0.042010713052243215,
          -0.03538175936273929,
          -0.04360155067187928,
          -0.04490917404313979,
          -0.04129840754729699,
          0.029282423069867367,
          0.024398877251222008,
          0.023034594998842747,
          -0.04992828927755385,
          -0.03731002891922816,
          -0.04827022313664465,
          -0.054288770460715584,
          -0.05459148426154943,
          -0.05440002394652598,
          -0.02522940000116146,
          -0.025637286359401375,
          -0.026799075745406065,
          0.011316790525782989,
          0.01791147807293819,
          0.018454034981886427,
          -0.015287095830221743,
          -0.009879395381019087,
          -0.007332675412318262,
          -0.04403936575729614,
          -0.04451683000464577,
          -0.044933040017945,
          -0.017573232931694723,
          -0.017914615382512065,
          -0.01600144191179352,
          0.010069744196965455,
          0.016285112672631046,
          0.011484954122028908,
          -0.00945315078261692,
          -0.006399658818004661,
          -0.005716734815901766,
          -0.06771235355253172,
          -0.06764435122148363,
          -0.06620031997071542,
          -0.0038132529917216224,
          -0.003687836441090479,
          -0.009143269075765159,
          -0.03376919803901702,
          -0.035416271027698426,
          -0.03501030036978093,
          0.01109375614426993,
          0.01151582755564873,
          0.011559017385613466,
          -0.02378642070261328,
          -0.023732128808059656,
          -0.028894364096550103,
          -0.0218451318893621,
          -0.021047850866443684,
          -0.02164078685665061,
          -0.010404066727846916,
          -0.010965892921809854,
          -0.012108239245547735,
          -0.026282407693111118,
          -0.024030717342475118,
          -0.02589248179858717,
          -0.022649147601372918,
          -0.022236506407103524,
          -0.023255952239116345,
          -0.026921033493854756,
          -0.016137395881173924,
          -0.016838954425553946,
          0.026810747834453766,
          0.026738410407677295,
          0.02414469071560829,
          -0.018428800638907415,
          -0.017219973758463583,
          -0.017118373328863113,
          -0.010390535842246106,
          -0.009756386055010962,
          -0.013958815432248568,
          0.020163591041826284,
          0.02074035402296583,
          0.02098224186271106,
          -0.04739963984319945,
          -0.05176337902932011,
          -0.051667108904873554,
          -0.058023738777439354,
          -0.057818855494094615,
          -0.057897482375805054,
          -0.042900183963061195,
          -0.04055658922941298,
          -0.03908714659693259,
          -0.03398437016565554,
          -0.03368666505608256,
          -0.03364274890818967,
          -0.06294050212785453,
          -0.06177851913312221,
          -0.061779654352170914,
          -0.00033663215708699224,
          0.00025670886083574684,
          0.0012529337406621491,
          0.24424986758701397,
          0.24058499020688923,
          0.23663700962835285,
          0.20494937535033098,
          0.2038493911540439,
          0.1169585384030374,
          -0.00908876479931587,
          -0.00908876479931587,
          -0.00908876479931587,
          -0.044353637525219335,
          -0.02809329772422329,
          -0.027908148245724497,
          -0.017141759028245176,
          -0.009708381685543006,
          -0.008663741792208602,
          -0.057499350225591855,
          -0.056324835430818766,
          -0.05614519000806377,
          -0.018595393444277835,
          -0.015068029951824824,
          -0.01509132879866797,
          -0.026373015584284083,
          -0.025797098022168972,
          -0.023718089009473777,
          -0.05670013432361175,
          -0.05648816844582275,
          -0.006209307755052609,
          -0.016825892780910654,
          -0.016278767504496965,
          -0.016191774772110555,
          0.07934228607385158,
          0.08401281003630835,
          0.08442252604116467,
          -0.06083578856656881,
          -0.06049178444686577,
          -0.05970642874253222,
          0.22477607882088183,
          0.21676679989227807,
          0.21254231237179463,
          0.015634597986338754,
          0.012841975948301115,
          0.0063272076833338076,
          0.014405619480596722,
          -0.010696276490347772,
          -0.024314148092959634,
          -0.004077975462217744,
          -0.009298381953098683,
          -0.01000380825581437,
          -0.06108968647385758,
          -0.06134494750766747,
          -0.061748707079704375,
          -0.039900203888661764,
          0.04774824528115519,
          0.04712949626651308,
          -0.007356051916760335,
          -0.010908802365311767,
          -0.008316152652207266,
          -0.008767193567012431,
          -0.011037833829951578,
          -0.010945101437030957,
          -0.030687563249104655,
          -0.030578210540061334,
          -0.02289075824459459,
          -0.0032278408481392433,
          -0.013760556446958085,
          -0.013488359301541226,
          -0.05730647565492851,
          -0.057183913861988206,
          -0.0592664816141924,
          -0.056093473854472053,
          -0.0534960457324457,
          -0.02855905430143139,
          -0.046375083655751284,
          -0.03295515593751068,
          -0.03259832069382591,
          -0.000859002693828713,
          -0.0035114914557442976,
          -0.006151135245914169,
          -0.04732878702495347,
          -0.04775656227032967,
          -0.057591383441879744,
          -0.018015534671906565,
          -0.017863535401041186,
          -0.017863535401041186,
          0.008750020863542086,
          0.005146835739729931,
          0.0047452110746866285,
          0.049371039510816825,
          0.05201690405335977,
          0.048197855074119056,
          -0.012984652761398196,
          -0.012020330425632617,
          -0.012383330360431443,
          -0.06040468210707506,
          -0.061261685113173245,
          -0.061095220371423224,
          -0.06283143975289453,
          -0.05949420945453414,
          -0.052604969156632785,
          0.12121897065256634,
          0.12125876794246258,
          0.11101701228962282,
          -0.01903123718427201,
          -0.019811935616963667,
          -0.023616441678259877,
          -0.014208771465127687,
          -0.02446870298612702,
          -0.027502512177816116,
          -0.013254431063276562,
          -0.011898891847978644,
          -0.011039327116158314,
          0.09449565630151756,
          -0.02401782003500893,
          0.10032590223779116,
          -0.0071525010231475485,
          -0.005276792430240094,
          0.0009626503378472614,
          -0.012344821958745113,
          -0.012443678742007398,
          -0.011501424017983215,
          -0.018313173561270133,
          -0.018313173561270133,
          -0.018313173561270133,
          -0.0036078711795816893,
          -0.0007879611305681493,
          -0.0024530259273410353,
          0.037456323937648646,
          0.04683006053617172,
          0.05717147849187199,
          -0.043063078518217716,
          -0.04633512324362231,
          -0.04615674851677393,
          -0.022341786040574185,
          -0.0226868366556554,
          -0.022947767400952147,
          -0.047292284504103804,
          -0.0426237979312313,
          -0.043887941200040095,
          0.2212277311179406,
          0.2236828383203449,
          0.22957250277921223,
          -0.03279514865262612,
          -0.03272150580575763,
          -0.03176253532509732,
          0.17942472635413842,
          0.17630254807385864,
          0.16172161384133005,
          -0.0016889972228687927,
          0.012617293451706701,
          0.011185805455752639,
          -0.042810644730841084,
          -0.03707371116025024,
          -0.036255202306206415,
          -0.048862994934947675,
          -0.0215631763509303,
          -0.0215631763509303,
          -0.05599832417569336,
          -0.05786875858034714,
          -0.054426651774188914,
          0.12323632567283174,
          0.10777153772558572,
          0.10842297606834266,
          -0.0449088424703489,
          -0.04619341540179823,
          -0.01663445308089113,
          -0.02103235836634532,
          -0.02106351315382586,
          -0.02170256893705292,
          0.026528026984896744,
          0.0248001238073783,
          0.02376444601875778,
          -0.035941239568579565,
          -0.03847121296119725,
          -0.03264141519104866,
          -0.05176954865207587,
          -0.04964584378823756,
          -0.050003362410157653,
          -0.011885214764045516,
          -0.011596738905759428,
          -0.011305004423055974,
          -0.039995295678574225,
          -0.03896185811742975,
          -0.04645950054400892,
          -0.04141052893092103,
          -0.042864466851189796,
          -0.04141949403246879,
          -0.05375271017639691,
          -0.05392361146349111,
          -0.05679910720570074,
          -0.006914587110847647,
          -0.007191425378940635,
          -0.011778173280804334,
          0.2497758933030044,
          0.2492220570665031,
          0.249678313953422,
          -0.06531145111947356,
          -0.06421693906500549,
          -0.06428840532392552,
          -0.03360467274274128,
          -0.033436459492223305,
          -0.03377691198491187,
          0.030780158642028824,
          -0.006531760639742248,
          0.02729964854629716,
          -0.0331602075286651,
          -0.03314726041911279,
          -0.03302566455690339,
          -0.04407795667769185,
          -0.04244998262759452,
          -0.04570184544631242,
          -0.02803953009495379,
          -0.03738551390406331,
          -0.0374200763835958,
          0.10731444616683526,
          0.08884368540356496,
          0.08867096864783741,
          -0.024856941799267628,
          -0.024186716126769436,
          -0.023946383776343488,
          -0.041687726768382456,
          -0.041810530658150616,
          -0.04208210689186443,
          -0.05798268898986225,
          -0.058395637456484996,
          -0.05816278290056532,
          -0.057976016365498505,
          -0.060517599830754255,
          -0.06105720363845075,
          -0.013291319997986701,
          -0.00932803976713686,
          -0.013222232215377277,
          0.05797008074402524,
          0.07447842029248145,
          0.07703570835385751,
          -0.005053012399477831,
          -0.004246538469183725,
          -0.004190513534502827,
          -0.04390672986626807,
          -0.044052360285497076,
          -0.04396966703033291,
          -0.018588385254100705,
          -0.020087784077172724,
          -0.017032925457184978,
          -0.062741989438141,
          -0.020989757289165172,
          -0.01987921410027792,
          0.02341091508239253,
          0.011445554543626594,
          -0.0049112136186331805,
          0.031496605702768354,
          0.02891937796765889,
          0.02714888523948125,
          -0.047615217586628567,
          -0.04787117744907766,
          -0.05782814827227436,
          0.07233106066764411,
          0.07075483619812709,
          0.06977059299702706,
          -0.002246945138724635,
          -0.002683701504175512,
          -0.002315876922838815,
          0.24005426318166628,
          0.2388186954424932,
          0.2307142492919809,
          -0.043668785730832216,
          -0.04429933666203122,
          -0.046465663186940884,
          -0.03310483236837851,
          -0.032866638355954214,
          -0.033211036428318706,
          -0.04880725060723338,
          -0.05596142098774691,
          -0.0520283780888289,
          -0.02082777001590853,
          -0.020863933000145513,
          -0.02083243297068524,
          -0.012523879776015042,
          -0.011795957682359103,
          -0.012342472928766597,
          -0.01878883300584183,
          -0.017722711648291378,
          -0.01786173652018086,
          -0.048650711357961736,
          -0.0473262931676418,
          -0.04932273536972679,
          -0.06830633549365189,
          -0.0683443578582257,
          -0.06796082002103218,
          0.013942459377668864,
          0.01608036589399377,
          0.013434776166321443,
          -0.017696431808138225,
          -0.017704451729629256,
          -0.014481117061242908,
          -0.058181714826019464,
          -0.059597942025728136,
          -0.05693914144142764,
          -0.04546611943468901,
          -0.0430180605195672,
          -0.04240963712629818,
          -0.029055694578307343,
          -0.02329907723010913,
          -0.02079318162463079,
          -0.030322069659533817,
          -0.030761549312188302,
          -0.030426874088738697,
          -0.003945747511209549,
          -0.003945747511209549,
          -0.003945747511209549,
          -0.045006898809930695,
          -0.035134253259830515,
          -0.03085827086816763,
          -0.009453466545641862,
          -0.01218499650907217,
          -0.010354899184905923,
          -0.0457249943609243,
          -0.04467849303974982,
          -0.043916974140891095,
          -0.05022329828552758,
          -0.04681216117906679,
          -0.03678896194635532,
          -0.009059559664777245,
          -0.007516508550187958,
          -0.007204561576152348,
          -0.041635242959069625,
          -0.045526113093209156,
          -0.04939155762840751,
          -0.0451119543219303,
          -0.04607171550101043,
          -0.04564457031888043,
          -0.033297297452565384,
          -0.034033465555654376,
          -0.03381029598453863,
          -0.028125336782662092,
          -0.027929025297777646,
          -0.027836471927461408,
          0.12062246152081235,
          0.1768397120666985,
          0.14721686840905845,
          -0.03483633396108524,
          -0.03459599337712493,
          -0.03810668998197159,
          -0.03821113663814633,
          -0.037061306426539264,
          -0.0358557568586064,
          -0.03454348619429328,
          -0.03425774220123446,
          -0.034722318097167186,
          -0.022073294653297607,
          -0.02817460152771581,
          -0.03354327837401958,
          -0.049939053813980526,
          -0.05004277594647108,
          -0.03999205996428162,
          0.10861699038390023,
          0.11091133950630877,
          0.10589358769130212,
          -0.03877786618808758,
          -0.0424128578586241,
          -0.04404520990397937,
          -0.04752309746291425,
          -0.06266984246965218,
          -0.04267618915318389,
          -0.027621797751435823,
          -0.02612795586315742,
          -0.02684861057431321,
          -0.02198940157106316,
          -0.02218245392499898,
          -0.02253050482699252,
          -0.037161389050125455,
          -0.038157102967452984,
          -0.042996273951445486,
          -0.053492373650536565,
          -0.04793725585780745,
          -0.049365948658603234,
          0.020861262869818365,
          0.02027320559138914,
          0.014550458278126047,
          0.035198159723906386,
          0.03500742615939297,
          0.038743791115709775,
          -0.04471868779676079,
          -0.0448735401630064,
          -0.04553066916393899,
          -0.058071671097400086,
          -0.052537386691249494,
          -0.05248927922604736,
          0.11139166498925689,
          0.10570628443392971,
          0.0990887916756407,
          -0.062005840875219057,
          -0.06179228415552067,
          -0.06217788461231982,
          -0.04133161380007826,
          -0.04165795196107269,
          -0.04198443442586897,
          -0.04322186210114371,
          -0.04410906593511218,
          -0.045018846641019974,
          -0.019888432754859544,
          -0.019390553476767644,
          -0.020225844535345157,
          0.17167851634613707,
          0.1741344863446607,
          0.18791799964040043,
          -0.024953584976940106,
          -0.020206088108513407,
          -0.023144662682716664,
          -0.01501540149679596,
          -0.013636613668809177,
          -0.01459947324311861,
          -0.02901705235267566,
          -0.028273471400576063,
          -0.028881199225981948,
          -0.047253205027755804,
          -0.04817046041979943,
          -0.049308117320665534,
          -0.0384689631404755,
          -0.03855080738330749,
          -0.0366511443169176,
          -0.05179969408287117,
          -0.04659608470931593,
          -0.04165694431817359,
          0.016618617359443293,
          0.014491328967355275,
          0.023370220791259652,
          0.014409534312685997,
          0.010078310215253655,
          0.009001775768943693,
          -0.05318662011477788,
          -0.05048871705149087,
          -0.05083480684538833,
          -0.055615639079517214,
          -0.05524072541787117,
          -0.054530560746140246,
          -0.05294884446955674,
          -0.053986757274987605,
          -0.055588014950252715,
          0.023773497645491286,
          0.024630755519696637,
          0.02270388414911526,
          0.016331265807681832,
          0.017741375354909283,
          0.007960416401352394,
          -0.023462130468937296,
          -0.026107605129777174,
          -0.024394716154843312,
          -0.018774711565550387,
          -0.019690535426335285,
          -0.019690535426335285,
          -0.04505757536458692,
          -0.04190580385276847,
          -0.038449579329940364,
          -0.03322345974365751,
          -0.0334000722906402,
          -0.0329216997033381,
          -0.03488461075184693,
          -0.03973093920395237,
          -0.04363643304171353,
          -0.05444202975426181,
          -0.051695356749863766,
          -0.058384671247555475,
          -0.01608133273095219,
          0.021596492678059867,
          0.03214852984878396,
          -0.024786192775076373,
          -0.021018048079584357,
          -0.021666697745606103,
          -0.06421111674513173,
          -0.06419851072986232,
          -0.06438189564214919,
          -0.041089280432931606,
          -0.041143884235242505,
          -0.041089942236577894,
          -0.03815367660536924,
          -0.04147686369733966,
          -0.043257640088824496,
          -0.022432013524392534,
          -0.01981282462185969,
          -0.02003992145148081,
          -0.049344260002181256,
          -0.04882861043622844,
          -0.04913079353095871,
          -0.06433436367333452,
          -0.06641882703009111,
          -0.06402272787876588,
          -0.04450187798303023,
          -0.049878279424332046,
          -0.04596878140176644,
          -0.04411554919612638,
          -0.039076685712663685,
          -0.03933920214311743,
          -0.05060490354251249,
          -0.038301552946521225,
          -0.04636253689570395,
          -0.010541325340983477,
          -0.006649704425862715,
          -0.0046497387811181585,
          -0.04341626556187279,
          -0.04320832594973379,
          -0.05787996871066875,
          -0.052391114757412795,
          -0.05231406111770837,
          -0.05105393313978837,
          -0.05385742806331739,
          -0.05425007481554823,
          -0.0563648376999451,
          -0.020134172096237166,
          -0.020069968690143745,
          -0.02030665567165795,
          -0.02501637381731711,
          -0.01418945834511249,
          -0.016411574063432775,
          -0.03119511747670675,
          -0.03134032921322601,
          -0.03952014244940302,
          -0.01848446424360939,
          -0.01877467792367094,
          -0.022168404745024448,
          -0.06518960140809725,
          -0.06515311436177514,
          -0.06541286522515426,
          -0.017067751939661542,
          -0.006699491312100568,
          -0.005659328428023437,
          0.219949759873592,
          0.21981630519887949,
          0.23240242763678862,
          -0.06117777592922244,
          -0.06218349058673798,
          -0.06220467372258208,
          -0.063608016920179,
          -0.0629276623124492,
          -0.06299261356487067,
          -0.029672225966555738,
          -0.029679999604232517,
          -0.032218145144423074,
          -0.05812717058873502,
          -0.05889594160364265,
          -0.056966842790702486,
          -0.024182257653241113,
          -0.018431568905502,
          -0.020326731407021705,
          0.1054637681570814,
          -0.048096284410580815,
          -0.0341132166259643,
          -0.0252713759439799,
          -0.02522741419700154,
          -0.02541417214594847,
          -0.036666151207240594,
          -0.03680357815581625,
          -0.03681638182502399,
          -0.06718943047266585,
          -0.06137226058583856,
          -0.04944268442153247,
          -0.05075013468298207,
          -0.05154143964784817,
          -0.048870227485545197,
          -0.04578584888731043,
          -0.04862475156157951,
          -0.051763863082628,
          -0.035998562043544104,
          -0.035998562043544104,
          -0.0372615761187304,
          -0.00872877022986388,
          -0.008821392524715624,
          -0.008565668414870562,
          -0.040607075791487146,
          -0.040607075791487146,
          -0.040607075791487146,
          -0.028095514138136705,
          -0.03456364845831951,
          -0.03702130845530096,
          -0.028017626473445946,
          -0.031100915667522912,
          -0.04208352109400655,
          -0.038027570431433864,
          -0.04221637975147408,
          -0.0352493979692386,
          0.2636708833206423,
          0.2633143662114311,
          0.2627825200920824,
          -0.00912594592868412,
          -0.009160230116206595,
          -0.022577885461439715,
          0.18145026288164387,
          0.18206789292282693,
          0.18701417324635874,
          0.007631326658239396,
          0.006748901346024492,
          -0.0015131925065798837,
          0.025082157331408932,
          0.025259531509506078,
          0.01797656380037491,
          -0.026213686562706118,
          -0.03075925475853181,
          -0.02876184372415137,
          -0.018665182436890207,
          0.01032541935327681,
          0.009905632216882438,
          0.15789851014066264,
          0.16230381046843576,
          0.15759922772633442,
          -0.01797253511540602,
          -0.01655540751370547,
          -0.01655638230528505,
          -0.034518570655314634,
          -0.03452365757205706,
          -0.03406223212550221,
          -0.0412761648642863,
          -0.02216552211052777,
          -0.020654352374437475,
          0.09672367675298217,
          0.10353951354167848,
          0.10115783067286888,
          0.04363896860413558,
          0.03683787092647449,
          0.056701025173312054,
          -0.016994620351564398,
          -0.01703171635880245,
          -0.01703171635880245,
          -0.04508965554379631,
          -0.04619024315723246,
          -0.05055470975227868,
          -0.022733540627787957,
          -0.0341282328584227,
          -0.03587226456944225,
          -0.04717050530191217,
          -8.78183341450785e-06,
          -0.003436903834783765,
          -0.03737805390525485,
          -0.03631823841762822,
          -0.040400559974855366,
          -0.04226800911599128,
          -0.04226800911599128,
          -0.04226800911599128,
          -0.007187506067825077,
          -0.008705843137508449,
          -0.011597651872835287,
          -0.007213797806455977,
          -0.0014967189720688453,
          -0.011308789266113714,
          -0.0197948544844375,
          -0.020523279568008923,
          -0.02013518022079678,
          -0.006971378162689567,
          -0.004234843289113338,
          -0.01931439982366398,
          -0.013089435121638652,
          -0.04194258139841487,
          -0.041825662382136794,
          -0.05621083446961885,
          -0.050754092156600684,
          -0.028209794126761483,
          -0.03209820403631237,
          -0.03673705586595403,
          -0.03512224612561481,
          -0.0021211839962104527,
          -0.01253670593780932,
          -0.010979095486845222,
          -0.03281906754729365,
          -0.03173568933844506,
          -0.02549256120168308,
          -0.029980902269696706,
          -0.029980902269696706,
          -0.02955463944177242,
          -0.01822289492796909,
          -0.013406910164824912,
          -0.013248371570636299,
          -0.041644036701983,
          -0.039866725891694606,
          -0.040692267895306625,
          -0.031597557939043106,
          -0.008383736868936294,
          -0.00650967324969519,
          0.02933635166238105,
          0.02904418654355102,
          0.027754721981738756,
          -0.011211145616978519,
          -0.042368099112336445,
          -0.04537102166386132,
          -0.045813906405666946,
          -0.04574395048918669,
          -0.037058834089628505,
          -0.04146372294202867,
          -0.04014378623661756,
          -0.02112484593358298,
          -0.04646107577775077,
          -0.04247616281140806,
          -0.042407418397794036,
          -0.06870732093105243,
          -0.06719591054184691,
          -0.06822854042228702,
          -0.06680118317800364,
          -0.06753293347688946,
          -0.0673007149354647,
          0.14321070980828618,
          0.1312073670261235,
          0.13124247972854336,
          0.2650122034344353,
          0.26064277072214354,
          0.2716431148178896,
          -0.040397298813495026,
          -0.04044809700975767,
          -0.03420710634275341,
          -0.06052325347809615,
          -0.06004267314588172,
          -0.06104658216124278,
          -0.026531483946604005,
          -0.02560444600868114,
          -0.026464665716624817,
          -0.05180347203694282,
          -0.04857070441117591,
          -0.04903456001409668,
          -0.014997502327735375,
          -0.015383420774690577,
          -0.016198553808022327,
          -0.031274667006409275,
          -0.024013423848818823,
          -0.034320392318392456,
          -0.009877380289730212,
          -0.013035991719277409,
          -0.022005541046062914,
          -0.019869819491204383,
          -0.020066876794085527,
          -0.056850387922005606,
          0.2515959336935443,
          0.25667097541007255,
          0.25583994672274046,
          -0.048908652843500204,
          -0.03691824717084774,
          -0.034971743190450245,
          -0.0380087565880231,
          -0.03680591691299371,
          -0.0378420498415527,
          -0.05030401459852568,
          -0.047943219149406614,
          -0.04905465209895976,
          -0.012885612704324678,
          -0.02069398202891222,
          -0.02071924050616049,
          -0.03861798873478353,
          -0.03815453671529233,
          -0.0390963580671006,
          -0.012364852472884024,
          -0.012711143343014278,
          -0.012632109862053605,
          -0.017152973166578774,
          -0.019580906526280764,
          -0.008950634216514555,
          -0.024501508552324115,
          -0.025556773664684368,
          -0.026095293704487172,
          0.011826267371275897,
          -0.03779640253237937,
          -0.005692997154090837,
          -0.030320695551094307,
          -0.024348870105247066,
          -0.023737312434639782,
          -0.021590180195686502,
          -0.02590830334318518,
          -0.03306068128126819,
          -0.02681886502262091,
          -0.005605836547625942,
          0.0002697857378253986,
          0.23982182028208315,
          0.2469634713936031,
          0.25297563508628107,
          -0.05613261676385997,
          -0.05623868829469137,
          -0.05233389803671671,
          -0.05417505688130338,
          -0.05437246854085683,
          -0.05345529439316874,
          -0.01085625116468702,
          -0.030174515837467893,
          -0.033625714459771826,
          0.1568981788289496,
          0.14849270648207913,
          0.16430575146286305,
          0.019444232194707024,
          0.020008228703574774,
          0.019830224230156086,
          -0.010792094615574184,
          -0.010776964606411983,
          -0.011022915639284541,
          -0.028913680609030868,
          -0.02868373375952754,
          -0.027497993169053356,
          0.02620138149981451,
          0.03078838907657965,
          0.029597813405218464,
          -0.0063194947861181655,
          -0.006840260949356465,
          -0.006928868475574373,
          -0.05677326854973387,
          -0.037274872634431286,
          -0.035375042930094566,
          -0.027754715253504675,
          -0.05522907341409163,
          -0.053599820664830385,
          -0.01822289492796909,
          -0.013406910164824912,
          -0.013248371570636299,
          -0.04562430371733839,
          -0.044933951598925666,
          0.00014659049113358407,
          0.004517148108068557,
          0.002568198122384425,
          0.007675140326980316,
          -0.024342902035825335,
          -0.029453536608822016,
          -0.028819946160336802,
          -0.0005453328775827567,
          -0.0005453328775827567,
          0.001012928267381498,
          -0.003977299097692735,
          -0.0032316195643316836,
          -0.025493349707377606,
          -0.02615140173591236,
          -0.02640148678152356,
          -0.02640148678152356,
          -0.026511007908725296,
          -0.02727694323576394,
          -0.027266103946328966,
          -0.018861309886665737,
          -0.02034128021766379,
          -0.020036451688790036,
          0.08029088245164892,
          0.07178006680012904,
          0.06292683030187107,
          0.034949349638835864,
          0.03872039050174308,
          0.036008345683604684,
          0.07093344289870082,
          -0.04110951939914686,
          0.04054872612957371,
          -0.009555448679633677,
          -0.034469164273635236,
          -0.0339453331235931,
          -0.0688054646329339,
          -0.06891307641214775,
          -0.044998188224554425,
          -0.013794493542470724,
          -0.0389781314494844,
          -0.0389781314494844,
          -0.01002856213793728,
          -0.03983867598846016,
          -0.0418502571353152,
          0.038015845383866834,
          0.05029449238755227,
          0.05177040569404125,
          0.24435037528328835,
          0.24308106622800474,
          0.24036807247433506,
          -0.01057792097845478,
          -0.03540428888128869,
          -0.043044626954642964,
          -0.002117533404761937,
          -0.02148286083159353,
          -0.020637785707268083,
          0.17812920254081713,
          0.18121193917075282,
          0.1927093057908995,
          -0.0374646239791116,
          -0.04320423701308856,
          -0.024241965079538307,
          -0.021669955631116043,
          -0.007869638695855115,
          -0.005539957372067508,
          0.0007795803835653707,
          -0.0614850460831561,
          -0.046741721144791026,
          -0.01918750036481523,
          -0.0374199472576744,
          -0.028979624100308157,
          -0.020842942411643625,
          -0.02690643236249914,
          -0.023352001358551894,
          -0.012009925267800205,
          -0.03550015311980934,
          -0.018153682788728205,
          -0.017377873738082292,
          -0.013976527534812037,
          -0.014358099010177455,
          -0.007776816630113635,
          -0.009255148308014327,
          -0.015150406906374583,
          -0.0385198534289008,
          -0.03841180404482085,
          -0.028005974780212967,
          -0.020294118910594468,
          -0.020294118910594468,
          -0.020294118910594468,
          -0.004910144632158267,
          0.0010376274277713253,
          0.00706155813050316
         ],
         "y": [
          0.018002020405513606,
          0.012907193113111663,
          0.013760343290956746,
          -0.02765721482136885,
          -0.027250280040304255,
          -0.027281258829966723,
          -0.041041554402795014,
          -0.04303862255888332,
          -0.04270233891921919,
          0.06847171653392682,
          0.06374559886878689,
          0.0680114578921373,
          -0.06977451211069462,
          -0.07095704609778945,
          -0.0687283115632723,
          0.0066818519235398955,
          0.0016455331041290752,
          0.0003296556355652629,
          0.03881322362314841,
          0.04066678559790251,
          0.034726010773262594,
          0.0356279231290849,
          0.040848075810009626,
          0.03623254876467786,
          0.009899011450238483,
          0.008378866762150489,
          0.006601531370594297,
          0.08217442896305574,
          0.0762925189970976,
          0.07724718285054992,
          0.10568187385763946,
          0.10113670585904726,
          0.1043787111399405,
          0.0762109382931263,
          0.07656675805691643,
          0.07816255685238664,
          -0.013886351160718638,
          -0.015499428417681952,
          -0.01497696351705394,
          -0.009452748379644682,
          -0.007105435259723474,
          -0.010248456725703412,
          -0.04183637542727049,
          -0.04054989614518241,
          -0.04032684694900358,
          -0.036129634244130966,
          -0.03610026379893215,
          -0.03347777734662926,
          -0.1008210428473642,
          -0.10084849151225532,
          -0.10229356142226806,
          0.03345196459717659,
          0.030671676737990154,
          0.030159256640137553,
          0.052983701934723994,
          0.053048620922381176,
          0.05270798005641076,
          -0.0919604723254464,
          -0.08902747761586832,
          -0.09415510477145016,
          -0.003670905998073102,
          -0.003805027370116984,
          -0.003934787189408766,
          -0.029033052567671958,
          -0.018855397364447295,
          -0.009458292949192839,
          0.010966360989877856,
          0.007803466766190906,
          0.006718169604610695,
          -0.03900894555319084,
          -0.04105812795526631,
          -0.04137006944695855,
          -0.07692271570727845,
          -0.07216544150238313,
          -0.06771025229068103,
          -0.03402752702675868,
          -0.047089666843270685,
          -0.04471045587056573,
          -0.1385426113637234,
          -0.14179693413857736,
          -0.11813043500460546,
          0.17897476855937125,
          0.1933327023178204,
          0.17802121414385358,
          -0.08412944352989031,
          -0.08229352338503923,
          -0.08782287091510597,
          0.09181610584460542,
          0.09142693537113881,
          0.09039355642692964,
          -0.05305414278460995,
          -0.05014970497555663,
          -0.059367770434332966,
          -0.01207622917053462,
          -0.011509129793530106,
          -0.012013998885065219,
          0.013643242997823877,
          0.0288261571386508,
          0.015509306134010224,
          0.02419220456425074,
          0.025217114676008213,
          0.025910020100534486,
          0.005877133625750321,
          0.008432673124781489,
          0.009729304119145866,
          -0.07281205928814304,
          -0.07299519989092326,
          -0.07394696988472702,
          -0.14266877078840745,
          -0.1438228258834526,
          -0.14421972794139248,
          -0.07471960359936823,
          -0.07372714883799174,
          -0.07349383470580806,
          -0.013787400497670568,
          -0.007159619720676752,
          -0.028909678838393828,
          -0.06797608959553447,
          0.007132406037267699,
          -0.07112683003695806,
          -0.0897635018256015,
          -0.08886859967339913,
          -0.07580196995256636,
          -0.078023029955915,
          -0.07113618314376588,
          -0.09313677231393361,
          0.0009848118326293831,
          0.00865205797385238,
          0.014673434376988669,
          -0.09665476096234905,
          -0.09843585762818166,
          -0.10023506883322576,
          0.030627260166240795,
          0.0310346849394439,
          0.030445644449817226,
          -0.05695359110439876,
          -0.06086792411603657,
          -0.034043999876743385,
          -0.07560785373954383,
          -0.0742569075921668,
          -0.07325964498996158,
          0.03431140068326846,
          0.031904397843050825,
          0.03637180611476005,
          -0.033389778426867564,
          -0.026076638629490483,
          -0.03328800415454627,
          0.014801288743559363,
          0.015146120464686911,
          0.01067749322716443,
          -0.06475556102066611,
          -0.06674993897829286,
          -0.06759591999990314,
          -0.06147215745160541,
          -0.052145361856120814,
          -0.05863176820053103,
          -0.06717614011351666,
          0.05731923859627865,
          -0.06504102763171637,
          0.024182112009293655,
          0.024182112009293655,
          0.02661140147217622,
          -0.06568960546878104,
          -0.06709526779394827,
          -0.06652672932461587,
          -0.08662790589559607,
          -0.08536036398578534,
          -0.08643908892546952,
          0.1000993947202504,
          0.10206831601390937,
          0.0890118007465807,
          -0.013335799875999511,
          -0.014295239858382505,
          -0.009214238165465152,
          0.08609947449309917,
          0.08523235250928184,
          0.0988813234182877,
          -0.0830252600342787,
          -0.0839893891482644,
          -0.0868024697551455,
          -0.043509552491669455,
          -0.007254943856052699,
          -0.006374568081551047,
          -0.039466003848608336,
          -0.04045300643215213,
          -0.04135000708744615,
          -0.06358115906990028,
          -0.061139328298021975,
          -0.06338239530424725,
          0.05148268691924466,
          0.04595510484925825,
          0.03725623272471194,
          -0.009660351641103144,
          -0.0100067500037522,
          -0.00957446367343879,
          -0.04972770851680827,
          -0.04565871334552935,
          -0.044824101292338804,
          0.023953733876028904,
          0.024264596619239395,
          0.023490006666819444,
          -0.05375595121168357,
          -0.057114299676076744,
          -0.07054927830179453,
          -0.0527413463920879,
          -0.04066200733323944,
          -0.03469307678885623,
          0.019348133810838105,
          0.019460998462126868,
          0.019133094007469917,
          0.041735533817161524,
          0.042269228369963566,
          0.04141804163090732,
          -0.039567864367456726,
          -0.04874925479376195,
          -0.04806804693079555,
          0.0675936997964312,
          0.06297523049255094,
          0.06537180131591923,
          -0.03850719380557303,
          -0.0381476580891221,
          -0.038212602866241945,
          -0.004056445371609227,
          -0.0025197937549484217,
          -0.003070373237847767,
          -0.015282459108623192,
          -0.030489396022336062,
          -0.020398302993027268,
          -0.07702412309850061,
          -0.07432494258727318,
          -0.0762660241321389,
          0.013512549398437304,
          0.014824412085434092,
          0.010653448374927686,
          -0.11738797615049046,
          -0.10857624333403852,
          -0.11050534203989483,
          -0.08342587102938043,
          -4.544254476599435e-05,
          -0.08605215763424731,
          -0.01605973922046844,
          -0.019526884584303527,
          -0.026312490301529615,
          -0.018546594764305743,
          -0.01795277731261467,
          -0.015852733307606434,
          -0.024301188318929773,
          -0.024958444185994962,
          -0.024541139993760674,
          0.007562223691041854,
          0.005230087029935498,
          -0.0009162011635108077,
          -0.006399852116082763,
          -0.0039921049068412555,
          -0.0017848111264615397,
          -0.009907774041810478,
          -0.009465989709280106,
          -0.012161773405498191,
          -0.01772269406914271,
          -0.014917324197016022,
          -0.012217398284027814,
          -0.14384059514023953,
          0.03658512179134133,
          -0.14529079571896786,
          0.13844451624151335,
          0.13130835185235804,
          0.1401570450754066,
          0.04193866283985258,
          0.0462536468574175,
          0.04282386926031461,
          -0.00865248893333413,
          -0.00792813166001251,
          -0.009159775034941158,
          -0.03741972755110653,
          -0.036431300359513925,
          -0.03507889471968255,
          -0.05659770469703576,
          -0.04420081730827069,
          -0.05275169035676278,
          0.06570589477554989,
          0.06546996229475927,
          0.07227928836219252,
          -0.1447762079197911,
          -0.14573636723131533,
          -0.14513827741677687,
          -0.0020224038272133073,
          -0.0015746314669349336,
          0.03638109827425675,
          -0.05183299513918971,
          -0.05175477685833489,
          -0.051318378578995176,
          -0.027467667822303306,
          -0.02698005275428928,
          -0.025795930614318587,
          -0.011975587188709969,
          -0.011979332103055842,
          -0.011827194129455312,
          -0.041602941569770444,
          -0.04101828498954714,
          -0.04244258788053981,
          -0.02754607412630854,
          -0.027393251580857775,
          -0.028571078579285127,
          -0.011394068124952646,
          -0.013516610127382301,
          -0.02245177720728381,
          -0.01735124083109017,
          -0.015745044639184688,
          -0.018434848448765192,
          -0.001942400328291682,
          -0.0009310228489390703,
          0.0004664306942516427,
          0.10293453010776805,
          0.09798063540696726,
          0.09870639585787597,
          -0.10169025704067831,
          -0.08376685354565512,
          -0.08110015757502861,
          0.0015876493042198568,
          0.0016903359258982,
          0.00560768891021306,
          -0.08873538842453224,
          -0.06860879378822049,
          -0.06271062099327704,
          0.0394695940173725,
          0.04189529590053414,
          0.04630811867858796,
          0.07978399140428326,
          0.07930530882221745,
          0.07933346574594136,
          -0.03629524919457136,
          -0.03680372359619482,
          -0.0316691842018583,
          0.07857930641866988,
          0.06559693219223159,
          0.0485884227310259,
          -0.0045253045351812664,
          -0.03221478901536025,
          -0.027282041857776582,
          -0.013408382003614012,
          -0.016569430833972325,
          -0.016856911379167387,
          -0.058876884192312066,
          -0.05849765996226703,
          -0.05841103644654914,
          -0.027947410240738664,
          -0.029446678324882434,
          -0.02992228078986288,
          -0.10049630069853087,
          -0.09287913756995633,
          -0.09738184277089001,
          0.030675854960576603,
          0.03387489123211406,
          0.03228475089522068,
          0.1387997908411238,
          0.13541429408068467,
          0.13110168486227428,
          0.0675886330723834,
          0.0698031608858673,
          0.06856667626474958,
          -0.016069924371230965,
          -0.01626393432930911,
          -0.01333015023847605,
          -0.03231218044843208,
          -0.03915234142567387,
          -0.034714776148708944,
          -0.006150024294621183,
          -0.03748389851882912,
          -0.04275400279591651,
          0.032475241116180865,
          0.032475241116180865,
          0.032475241116180865,
          -0.03209426593396431,
          -0.03212747524717584,
          -0.032310553981434405,
          -0.01540654625081123,
          -0.016529189675259154,
          -0.016108883588863598,
          0.03852598601354421,
          0.036492165308822024,
          0.0369508838961121,
          -0.02486793028360134,
          -0.02760568587486084,
          -0.02996356994345647,
          0.04715541670566471,
          0.04869699413465796,
          0.0475412506520075,
          0.033200643925574265,
          0.03332674447798684,
          0.03384645407916412,
          -0.0007279376459221275,
          -0.0016571986709808053,
          0.005546375502389006,
          -0.03294513688935733,
          -0.03346125100728315,
          -0.03371987669574852,
          -0.06424288116757083,
          -0.06277564330899545,
          -0.06340912633761976,
          -0.05776329811904562,
          -0.05672975714151327,
          -0.05928686632348715,
          0.011872633925977667,
          0.01041915349274803,
          0.012130047575151508,
          -0.027524905799414454,
          -0.03448585145185168,
          -0.035847049467193956,
          0.05542802484303397,
          0.05542802484303397,
          0.05357354780673182,
          0.06449132927732175,
          0.06446221764690625,
          0.06417609831244271,
          -0.04819567067802035,
          -0.04935502497278265,
          -0.03759946254038624,
          -0.03153232500223651,
          -0.03192279367441644,
          -0.03201846275507639,
          0.03151614519767309,
          0.03128791284231545,
          0.03408248476752932,
          0.02553597525025353,
          0.02553597525025353,
          0.02553597525025353,
          -0.05185055717904273,
          -0.049269129612907935,
          -0.05152024468641347,
          0.05159093158171119,
          0.05202416185339176,
          0.049090681152554064,
          -0.03687325772473742,
          -0.03517882277668608,
          -0.030533550933155258,
          -0.07646558012175084,
          -0.07830132736935516,
          -0.08004784020176742,
          -0.06658302333119773,
          -0.05863656827370401,
          -0.056204159743868706,
          -0.0008948210304432316,
          -0.0008948210304432316,
          -0.0008948210304432316,
          -0.1049004732639462,
          -0.10562325799310827,
          -0.10620962862178547,
          0.006275406762716181,
          0.00721607781854226,
          0.003008223892647677,
          0.015500636778736882,
          0.015478529847550418,
          0.0038656345675379014,
          0.008617328176435235,
          0.00842430495214992,
          0.008477784735020586,
          -0.05699446044482259,
          -0.058749801318327945,
          -0.05873087538137622,
          -0.04107579603800228,
          -0.03772079749799198,
          -0.03468699988947075,
          0.0884032891814555,
          0.08716260337719521,
          0.08711126322422116,
          -0.0027202620953212012,
          -0.01949143584066133,
          0.0012733036166096927,
          -0.016736739580056104,
          -0.017408022623351345,
          -0.01665038025136287,
          0.036268425067068004,
          0.04610303816688959,
          0.03859763553170369,
          -0.03462434470116441,
          -0.03752357878614746,
          -0.037199372899845276,
          -0.06522508180644723,
          -0.0692277483657693,
          -0.07587964019974054,
          0.10733203154075771,
          0.07808831605486669,
          0.10018117282239579,
          0.009234224316601945,
          0.01284683929531962,
          0.012692163557298838,
          -0.00798517379479966,
          -0.004673040148103241,
          -0.016204933123559754,
          -0.013537310033086405,
          -0.015488952564406107,
          -0.015114405523949744,
          -0.04761022878779761,
          -0.04838412231138808,
          -0.049962415707131634,
          -0.07901968221099726,
          -0.07869596585344289,
          -0.07706199507172744,
          -0.014968600095875792,
          -0.015499724360760306,
          -0.012023419105376631,
          -0.04370971418230252,
          -0.044625199431156545,
          -0.04058538973820799,
          0.0594085157777937,
          0.005936276908450091,
          -0.009073598759693293,
          -0.01901585830727734,
          -0.020057888360449156,
          -0.019131959095956906,
          -0.024918731325762968,
          -0.02690361851423145,
          -0.02176105480960483,
          0.016690471675576198,
          0.002148064421873389,
          0.00038951760661184163,
          -0.01649057101764218,
          -0.027517804531704482,
          -0.018776004914726183,
          -0.002436604825192595,
          -0.008687522456502662,
          -0.009311874788241897,
          -0.027876091490668185,
          -0.02429641001388918,
          -0.027740058814518815,
          -0.017115956717098903,
          -0.012699224932013286,
          -0.011677022957098748,
          -0.06900830066488454,
          -0.06368099008681369,
          -0.0654702979318024,
          -0.0060154439879055695,
          -0.0029811636242836393,
          -0.0032082584072332956,
          0.026825683749670204,
          0.02662284358809353,
          0.025879150564165045,
          -0.13654636046863297,
          -0.13809868457486046,
          -0.13690827580204584,
          -0.0002965746311219779,
          -0.002432242373844062,
          -0.0020681607421585025,
          -0.010465764762050458,
          -0.022517779173214812,
          -0.0213342527178968,
          -0.04037801401221056,
          -0.04524112853197769,
          -0.047786514077239994,
          -0.03974596698527857,
          -0.04502270775269448,
          -0.06145754219195681,
          -0.042963635705876246,
          -0.04152737539066362,
          -0.0404737714080065,
          0.03360393481102068,
          0.02861362380629535,
          0.02861362380629535,
          -0.036294140457659524,
          -0.03474137811450628,
          -0.03529180468674692,
          -0.015370528028470403,
          -0.015079831771496065,
          -0.01423654384188477,
          -0.02922081452154684,
          -0.02903144689619458,
          -0.030963201922223342,
          -0.10524635498544059,
          -0.11453437959807194,
          -0.11801731576802404,
          -0.039645574513350795,
          -0.039042677194108644,
          -0.03665638145019906,
          -0.028848629863443564,
          -0.030009876595441486,
          -0.028814324771316218,
          0.007872882793670112,
          0.006093079961975557,
          0.0023481995857950514,
          0.015808076581502257,
          0.015808076581502257,
          0.015808076581502257,
          -0.004090676451513424,
          -0.00543721384750792,
          -0.005180440813350775,
          -0.03994781623793575,
          -0.03863109916713563,
          -0.03374242533380782,
          0.14847743709838584,
          0.14678067311840934,
          0.1526758365252523,
          -0.022640937462733202,
          -0.025770641435924647,
          -0.02216864498024317,
          0.061546591678722964,
          0.061696849240093096,
          0.06112679454192316,
          -0.05263114176607322,
          -0.06488049919967266,
          -0.06434478750532384,
          -0.04439597006034392,
          -0.04608784150700533,
          -0.038177278231071546,
          0.0849600600572201,
          0.08570087634585713,
          0.08519747787551242,
          -0.03232263624592161,
          -0.03082752727399807,
          -0.02851569131692865,
          0.01217566516247108,
          0.01217566516247108,
          0.01217566516247108,
          0.010598459717826313,
          0.01107424576867783,
          -0.0033200755121092743,
          -0.03250449828487011,
          -0.04216126964562941,
          -0.041067988762013063,
          -0.07380921183367015,
          -0.06222865642639801,
          -0.0431824437543436,
          0.06529595257412274,
          0.06611560545386944,
          0.05108328677744558,
          -0.03589326331662551,
          -0.03604255895196694,
          -0.03915497190133903,
          0.025427451545692988,
          0.026234747460008645,
          0.0417203036973404,
          0.029391032628331686,
          0.02910917897786759,
          0.039164816174432106,
          -0.07606014435096599,
          -0.0728991484124134,
          -0.07483515950241405,
          -0.032771712641581116,
          -0.03746389853953695,
          -0.033560345096340295,
          -0.07003993289544486,
          -0.06690441367266262,
          -0.055097089068847804,
          -0.06957134549234195,
          -0.07145681125103351,
          -0.06750240987729267,
          0.016613125861852936,
          0.05799396804995186,
          0.018687420999601512,
          -0.010587620715456684,
          -0.010587620715456684,
          -0.010587620715456684,
          0.0328919896710292,
          0.028935381364793955,
          0.028935381364793955,
          -0.08756248511306114,
          -0.08859090778325572,
          -0.08722587958220974,
          -0.0941210869523185,
          -0.09587371146509115,
          -0.09129865872295073,
          0.014685652657109773,
          0.014685652657109773,
          0.014685652657109773,
          -0.07659711959835,
          -0.07668820613925899,
          -0.08139706547555606,
          0.24017339176548788,
          0.24264028778890717,
          0.23536414208469442,
          0.034034937043035444,
          0.03999728673653531,
          0.03372689574818447,
          0.041023939053805754,
          0.04021587622277428,
          0.03963969295155588,
          -0.06140526719911289,
          -0.05719936216557544,
          -0.06497090633888242,
          -0.08477243112408665,
          -0.08647267235873148,
          -0.09781199552458444,
          -0.024203587665443484,
          -0.019941719470450706,
          -0.0286643924387586,
          -0.05692225962978588,
          -0.05566831028640955,
          -0.05731812680400712,
          -0.04595357582283294,
          -0.04566867593054748,
          -0.046212910677621434,
          -0.04272203694207229,
          -0.043885463375572954,
          -0.03533863861633039,
          -0.08788351785866394,
          -0.08858794659143335,
          -0.08739445491301341,
          -0.01748545537056506,
          -0.012542826872383492,
          -0.005015896363599214,
          0.1371195859028949,
          0.13773240806937734,
          0.11486903510782676,
          0.037558262550578016,
          0.04041307702275451,
          0.0544668584116226,
          -0.014721965580141248,
          -0.01824977359981704,
          -0.018519595945462965,
          0.056712185964911316,
          0.025445039804348268,
          0.07156869949748282,
          0.0624378180731333,
          0.06338331740353302,
          0.06289218499203098,
          -0.04150092930448833,
          -0.04529720328502007,
          -0.04356189266940659,
          -0.08084472977389778,
          -0.09133993612519986,
          -0.08814470855110423,
          -0.04602584721964287,
          -0.040376846322361826,
          -0.04357024719370471,
          -0.027374989673355526,
          -0.02782926939703882,
          -0.027811909316828844,
          -0.03261758939562146,
          -0.03241018742013342,
          -0.02817226716668333,
          -0.0005568154922909036,
          -0.00469717192764349,
          0.001662172932965905,
          -0.0551234283100279,
          -0.055570842660432704,
          -0.055001649333023574,
          0.24982237044094494,
          0.2497740782684247,
          0.2501577721721992,
          -0.025744785076119287,
          -0.026035911209927477,
          -0.02026509807273686,
          0.06842322346804025,
          0.07538510958554967,
          0.07615671620966345,
          0.010666573918090224,
          0.01161539343265383,
          0.010418626066584868,
          -0.03814809514617135,
          -0.032477995882116154,
          -0.039029830423078726,
          0.03849519155790055,
          0.03598515709745642,
          0.03677371193797703,
          -0.02373674154992726,
          -0.022878737640836637,
          -0.0199358721536321,
          -0.06829791961982949,
          -0.07938869875689619,
          -0.0779198664409977,
          -0.05805547450319913,
          -0.05868957128932779,
          -0.06125316057152236,
          0.029502584744068708,
          -0.01548300880550866,
          -0.018481848896518056,
          -0.095036862725471,
          -0.09374278237651272,
          -0.0967131847383648,
          -0.03354070927967794,
          -0.03762911925877496,
          -0.03791239460444782,
          -0.09040573142559613,
          -0.09029333244877577,
          -0.0815045415848221,
          -0.04064525556432019,
          -0.040936561071567366,
          -0.04092141601437856,
          -0.02118804845493124,
          -0.015540452811129854,
          -0.015273969395683396,
          0.21145483484801042,
          0.21184733136160722,
          0.21122171689073643,
          -0.024631096868343944,
          -0.020790331967869783,
          -0.019539126877528654,
          -0.07757178230939721,
          -0.07910561457419318,
          -0.07814922431307963,
          0.24678075750428174,
          0.2477014492391787,
          0.247717155789145,
          -0.05585409270595461,
          -0.05598438122812559,
          -0.05634393200509736,
          0.041565954648492734,
          0.03931651152254167,
          0.05048289865920618,
          0.008254088297151168,
          -0.00196267239407618,
          0.004115391471159924,
          -0.03416639396452025,
          -0.03416639396452025,
          -0.03416639396452025,
          0.03070784227363608,
          0.0008891476628230978,
          0.0026285410609025645,
          -0.046012038447998775,
          -0.055293185495797814,
          -0.057716115305512884,
          0.07160077253969381,
          0.07070721011244624,
          0.06411907014400736,
          -0.08718718715231441,
          -0.1023101394004302,
          -0.1026261938690698,
          0.07947357856064687,
          0.07866348580526629,
          0.07818330258110157,
          0.02322076151929987,
          0.02292768537379281,
          -0.0025064025259391434,
          -0.03372533205856709,
          -0.027951716221393638,
          -0.026936730480552493,
          0.011620817295029876,
          0.011813362511385414,
          0.01077663136195764,
          0.24334650482340164,
          0.24254687170341757,
          0.24208379935488017,
          0.05281807303778107,
          0.048641474067869485,
          0.04728054261351563,
          -0.013795531057404286,
          -0.016277841847437705,
          -0.004679026901778513,
          -0.024973433083301553,
          0.004039772806987028,
          0.024046208874455806,
          -0.048437528662107106,
          -0.04482507713848697,
          -0.04630678551354574,
          0.2498769949941303,
          0.2511890010763863,
          0.2512967068973471,
          0.058470234548040685,
          -0.04137101534500573,
          -0.04034522897422035,
          -0.059125133561885146,
          -0.056523079973325126,
          -0.05796729504903726,
          -0.036190165603687416,
          -0.03888482101482665,
          -0.039037640488289845,
          0.019826539374975097,
          0.01880807919799003,
          0.012777558275141019,
          0.009426964071978697,
          0.0055156212356992935,
          0.004883889381527127,
          0.02148274240921205,
          0.0163172063727277,
          0.026162925634832492,
          0.0849341225498208,
          0.06262860264957805,
          -0.026658414558473866,
          0.03756254408671959,
          0.023163965184273536,
          0.02200629761252058,
          0.00023119715144119464,
          0.00015373178747404796,
          0.008182111215911147,
          0.08933426290254104,
          0.09377736902496017,
          0.144625356237145,
          0.053459689479830305,
          0.05317288074687405,
          0.05317288074687405,
          -0.045816119519789034,
          -0.04153265267849853,
          -0.04100575851893104,
          -0.05894822265071961,
          -0.059057270929813256,
          -0.04951248200868148,
          -0.02473639009871287,
          -0.014507011208099174,
          -0.017562195818026684,
          0.11085896312382189,
          0.11396185224018435,
          0.11236010386834745,
          -0.026277841563530153,
          -0.027284311740468324,
          -0.023801652972072183,
          -0.02777111812655431,
          -0.023546066515352956,
          -0.028509001669664857,
          -0.03335174445935647,
          -0.03266876261545601,
          -0.0239484840389448,
          -0.006399852116082763,
          -0.0039921049068412555,
          -0.0017848111264615397,
          -0.08489428767197536,
          -0.08591688592596274,
          -0.08670404799444925,
          0.00689841307757842,
          0.019821064228819435,
          0.012125671972302073,
          -0.037757295252120605,
          -0.03889493227425883,
          -0.0547294952865895,
          -0.02708857346148228,
          -0.03229777562088721,
          -0.032552733574479076,
          -0.01141584854606636,
          -0.01141584854606636,
          -0.01141584854606636,
          -0.047067017737351266,
          -0.06365296755571674,
          -0.06814011730913162,
          -0.02810746773872367,
          -0.03915527235356438,
          -0.03981347016459114,
          -0.1389355456656821,
          -0.13644396535918166,
          -0.1388451639114357,
          -0.040038154754631905,
          -0.03860943414114746,
          -0.03889588934274515,
          0.033330653058901274,
          0.028320642719118643,
          0.03472376720052808,
          0.04874202599510667,
          0.050810536262427056,
          0.05017690773663571,
          0.06583347348710725,
          0.06544838585415176,
          0.06285907171504009,
          0.011059299032189385,
          0.008957592306571525,
          0.01585951419883753,
          -0.030179355478365547,
          -0.014472231948636822,
          -0.019097508326249027,
          -0.012036499019880516,
          -0.005859219762683201,
          -0.003834570044735833,
          0.03884902956497627,
          0.007035770033249337,
          0.007035770033249337,
          0.010600942045468548,
          -0.005253430571355847,
          0.0007467666543138688,
          -0.021285698808750305,
          -0.03229311746014314,
          -0.02990467405376966,
          0.01185542461944535,
          0.012717116528440394,
          -0.05594035740213895,
          -0.053856827876370146,
          -0.053827676332869466,
          -0.05338588482186907,
          -0.024252337465563514,
          -0.027234320146325274,
          -0.027979606661389732,
          0.06203585375974416,
          0.07924779849177886,
          0.05139919200623249,
          0.02111560931271477,
          0.02246223726232069,
          0.02177970856559623,
          -0.01631056428544862,
          -0.017067825904179854,
          -0.01663228232387559,
          0.009235620300735877,
          0.009463002172185177,
          0.01489249983970226,
          0.051120914028442675,
          0.052967591155868264,
          0.051337667876274265,
          -0.023789053353005678,
          -0.023444670303236454,
          -0.025314802465654856,
          -0.0853307868110525,
          -0.0857145314182873,
          -0.08201611250035588,
          0.06488048117087014,
          0.06281775204291502,
          0.0637985314892781,
          -0.02727651002818987,
          -0.02761879168676871,
          -0.028383644686484903,
          0.0057719171309144075,
          0.006273414204858561,
          0.006786316408535117,
          -0.02676636541411236,
          0.027245104639765944,
          -0.03169505093902891,
          0.006659587993456419,
          0.0066685137467271385,
          0.006611700772600923,
          0.17081414972899064,
          0.1569554408377272,
          0.16753895223647713,
          0.025765179956124696,
          0.0372989375878926,
          0.03718558963152699,
          0.042147035669822384,
          0.05491923709369901,
          0.0564195792216765,
          0.02793429321758508,
          0.02683375593076353,
          0.025348548934660126,
          0.06230484910712824,
          0.06368022072504267,
          0.06284239054869098,
          0.11585151244802948,
          0.11380294643448179,
          0.11202449070325649,
          0.023947804936501796,
          0.026904298317938106,
          0.0277562200204301,
          -0.0791500770229233,
          -0.08130066751063798,
          -0.0799329948503798,
          0.02502609355514496,
          -0.030974495800998127,
          -0.03216405554569048,
          0.014554968399974725,
          0.011113861223592198,
          0.010148934192677306,
          0.05454875385397446,
          0.050587868350539425,
          0.04845986915170614,
          -0.02533400753685513,
          -0.025127087206948555,
          -0.02892448653082231,
          0.0486353057282202,
          0.01278987175230066,
          0.01639354372742461,
          0.005568670202180608,
          0.022195252162138482,
          0.03244093627958061,
          0.051709128515683066,
          0.048704989659769694,
          0.0638490961033647,
          0.047267853463337506,
          0.047986748850379964,
          0.0716585374441695,
          -0.028862706002711905,
          -0.025125406543525162,
          -0.02566931590637376,
          0.004327272422896105,
          0.004766134412519982,
          0.004593919075948946,
          0.06030274106296577,
          0.055074897074028906,
          0.04800263750810673,
          -0.016650094920385487,
          -0.017259940900879508,
          -0.018914661547775855,
          0.003568641931741334,
          0.0038873482945140873,
          0.003409786507268797,
          0.0059115021250105764,
          0.004047292451226538,
          -0.02053142470066538,
          -0.04393276554439527,
          -0.04127675217208738,
          -0.04480785214629537,
          -0.10117815325340455,
          -0.10659295093301531,
          -0.10658554551270856,
          -0.01598427765691866,
          -0.01776060097137985,
          -0.01773498595430403,
          0.00043271424063650877,
          -0.0009141857792486891,
          -0.0005840159022245806,
          0.2566566899629984,
          0.2566524439338061,
          0.2568221545289132,
          -0.009021505025621825,
          -0.011252445344389702,
          -0.006244801234989863,
          -0.02313177064634436,
          -0.022467404747411795,
          -0.030338786054019344,
          -0.007385451365204458,
          -0.015717818748172754,
          -0.016302270900883497,
          0.033011837266925616,
          0.03184047173422992,
          0.031334702247251704,
          0.0026838062916769764,
          -0.008848866858013643,
          -0.015067187006863736,
          0.0018573427601253133,
          0.0016946440136205495,
          0.0021158352427209258,
          -0.018462378360207483,
          -0.018462378360207483,
          -0.018462378360207483,
          0.0958237529982202,
          0.038677420244993876,
          0.005776335098630534,
          -0.03634440210378745,
          -0.0388143464289877,
          -0.0389459346230432,
          0.003034703580975376,
          0.006127603070664654,
          0.007485748458616717,
          0.0220304863562726,
          0.020339180405498536,
          0.020455211966412756,
          -0.019851838631269318,
          -0.017570773380556806,
          -0.018924459881722,
          0.024055152662693452,
          0.02455954656511312,
          0.0407784059702476,
          0.013918906760976206,
          0.015222823754161273,
          0.014242558387021797,
          0.006544764377570934,
          0.011764994033800883,
          0.011019135653018758,
          -0.02552498550921951,
          -0.024033226285163384,
          -0.02425591911178313,
          0.020613554572085763,
          0.02925180916464477,
          0.014216268540137595,
          -0.12186974411911775,
          -0.12283346152480701,
          -0.11782455262643382,
          -0.01820281703187794,
          -0.020878902647404565,
          -0.02155603277282816,
          0.007377699937780848,
          0.006225345051309546,
          0.005888424657151744,
          0.03461188401865338,
          0.03114124623910395,
          0.032141149946209056,
          0.024792917627358316,
          0.02491914987623777,
          0.024405419999045278,
          -0.03605855647048312,
          -0.038643706883306234,
          -0.035605566925593427,
          -0.009536539095466166,
          -0.003808449219776869,
          -0.0037659122316035082,
          -0.009359255217670817,
          0.051977915405316856,
          -0.014031591813084512,
          -0.03815513246309697,
          -0.04698222920735349,
          -0.03874837221805626,
          -0.010116845506042246,
          -0.009679586124053945,
          -0.0093187683259026,
          0.02649108407545738,
          0.025420168951256945,
          0.02930481375705719,
          0.10283279448204473,
          0.08944304819103073,
          0.09354839661819135,
          -0.023272328008775205,
          -0.022872346249437906,
          -0.026358394976070783,
          -0.044876081019938535,
          -0.04416184837892258,
          -0.044255438425447796,
          0.09605584882092591,
          0.09732582313776389,
          0.09617754159863612,
          0.05484710475563506,
          0.017324211659913838,
          0.024095414636067954,
          0.009675714647557431,
          0.01510234815334004,
          0.013378017725226444,
          0.11527071704393188,
          0.11595451453679592,
          0.11654083823609271,
          0.018832083914347635,
          0.02446657039912881,
          0.022051025909330394,
          -0.022078887605218964,
          -0.02261095276857794,
          -0.023410839390956086,
          -0.011578985313529033,
          -0.011349573703464769,
          -0.008536101965326434,
          0.017633269154770835,
          0.016947420425085426,
          0.024255709107927976,
          0.042634569337073304,
          0.03081407220578052,
          0.03712977953637457,
          -0.05866239591036256,
          -0.06012550807744319,
          -0.059304220753516226,
          -0.028281293826730197,
          -0.024837950228629998,
          -0.02460684908501369,
          0.006727916349947051,
          0.004034186326611134,
          0.008763028130973533,
          0.03711450705818472,
          0.03685742515414579,
          0.03439787174518875,
          0.016504961941764318,
          0.013810594032482734,
          0.01110122014151893,
          -0.023062611836639817,
          -0.02084623228031885,
          -0.03030418112877236,
          0.03468487388902715,
          0.030885396821065673,
          0.029214452205449354,
          -0.02343849280420833,
          -0.01791768116609392,
          -0.021877125381291086,
          0.06854423539573876,
          0.06817767485565644,
          0.06564941315483824,
          -0.0017946674036365365,
          0.00021777649562448252,
          0.0034679312778347926,
          -0.10428171701250145,
          -0.1048731158374412,
          -0.10255969122696056,
          -0.0038040954887483005,
          -0.003420674639790297,
          0.004905862907507213,
          0.013879921533038382,
          0.0217877799310064,
          0.01911302301323688,
          0.011876508360835892,
          0.012689781628538704,
          0.012689781628538704,
          0.023637681168204125,
          0.02332168032107433,
          0.023299143751580757,
          0.005054897271250915,
          0.005559894858030797,
          0.005695676097877045,
          0.02824045940855294,
          0.035050745437419824,
          0.038391049124413296,
          0.019738151699627064,
          0.025465527127835123,
          0.015044103161127684,
          0.03806389008314209,
          0.004369856259947822,
          -0.008535873207869759,
          -0.08316129783159794,
          -0.08133045477048875,
          -0.07961625797457725,
          0.24490005933132242,
          0.24746507323432348,
          0.24693311417942698,
          0.030174391685143662,
          0.030026352049062975,
          0.0301689368816175,
          0.04734653089446638,
          0.04650254345911097,
          0.03724971288372462,
          0.007362023179463253,
          0.0076498835448989755,
          0.007583443032178546,
          -0.014165544839395923,
          -0.01991498128626462,
          -0.0218746290015066,
          -0.03296856418234396,
          -0.03232129855107286,
          -0.03173769557987549,
          0.07933619106530071,
          0.08225811701575345,
          0.0655489682478876,
          0.01889928348970403,
          0.02313639902283731,
          0.025219064152316773,
          0.03451512172222107,
          0.03179293063440854,
          0.05003269833084714,
          0.010752020033084675,
          0.00663200201952133,
          0.008062298298432337,
          0.029488871817252214,
          0.02911378280467572,
          0.024999992530096937,
          0.06138378288176781,
          0.06109928914568064,
          0.05942123158595917,
          -0.01692426811924398,
          -0.016385903065241878,
          -0.02487446723871444,
          0.0027894734412245246,
          0.0029215565867097095,
          0.0001026800309502869,
          0.03826529217758112,
          -0.003436391486097242,
          0.01656434640601738,
          -0.047311563516072255,
          -0.0490541139635135,
          -0.038712649283950226,
          0.013872261428896231,
          0.012874630917506387,
          0.015093374236600012,
          0.13939094068095464,
          0.13898101338533259,
          0.13858536816350883,
          0.006304072493998325,
          -0.006377360794680731,
          -0.007873885975846977,
          0.04353173290979287,
          0.04012755581241167,
          0.042440370084300315,
          0.13671733394153915,
          0.13973711742762476,
          0.1370865167762546,
          0.2521323416329382,
          0.2513802525465791,
          0.2505203742810809,
          -0.010188854665460293,
          -0.009868252353155988,
          -0.01292651336861287,
          0.07070280204069351,
          0.06533757932512185,
          0.061366758429983286,
          0.013087807606753902,
          -0.020488778039506408,
          -0.015735649983332333,
          -0.00711837892390358,
          0.014933259893458933,
          0.026661812942733582,
          -0.041177164327105616,
          -0.04134362310998878,
          -0.03827659440097252,
          0.03172500136937423,
          0.031231498218351722,
          0.031217283094991916,
          -0.033810247640695644,
          -0.0035394614198857003,
          -0.021797757559054394,
          0.027069010806224644,
          0.03515656888064314,
          0.019541359089306844,
          -0.025374304156661552,
          -0.02790357917021631,
          -0.022729329689519663,
          0.05729628264695702,
          0.05729628264695702,
          0.05987211305854282,
          0.0009390012372315583,
          0.0008490006858543825,
          0.0010094933068203378,
          0.01422381613401657,
          0.01422381613401657,
          0.01422381613401657,
          -0.0014593862695853332,
          -0.009777857138571221,
          -0.006593309924146625,
          -0.010402931059421737,
          -0.0037796806528830468,
          -0.002901964897516488,
          -0.00944798745119995,
          -0.005664634866656185,
          0.015944104885673462,
          0.059048770402511885,
          0.05620188414574515,
          0.055471663881982186,
          0.012864194435301993,
          0.012879422975206882,
          0.011132364264435014,
          0.04031838234362084,
          0.03676654473431566,
          0.04152495084061796,
          -0.007708146009311423,
          -0.004635860626130583,
          0.008405498817498481,
          -0.02328650428031921,
          -0.02358461031191927,
          -0.01808207917528111,
          -0.02077839857418952,
          -0.016341622972676054,
          -0.024220815723750084,
          -0.013956055988400533,
          -0.013707194614439405,
          -0.014224614027709406,
          0.017973289458266796,
          0.027628874856284378,
          0.02747567112621295,
          0.035771149585661785,
          0.03602047079079313,
          0.03644222707816003,
          0.0466977010046038,
          0.04708291033898066,
          0.04676910440940621,
          0.037066666427761186,
          0.0059784914583125084,
          -0.0016193507130397304,
          -0.06669307194465789,
          -0.06524624953278257,
          -0.05573932360732058,
          0.018418674911868622,
          0.01976679903256983,
          0.010914407865580495,
          -0.02451037299091512,
          -0.024432666285089492,
          -0.024432666285089492,
          -0.0052391014119647665,
          -0.007584838018005375,
          -0.011819354403430092,
          -0.007741931754686226,
          0.006988098817870477,
          0.011638014983073387,
          0.043532334642487694,
          -0.013066606607397818,
          -0.008141002120355586,
          -0.04573453585667422,
          -0.0529671321397851,
          -0.05151648021404162,
          0.03912996458218383,
          0.03912996458218383,
          0.03912996458218383,
          -0.0027533742409986276,
          -0.0014454751796519347,
          -0.005285603329096184,
          -0.010262941763352965,
          -0.017571061943542524,
          -0.04412592851703923,
          0.025720737499187955,
          0.025715902180140474,
          0.026400602273760884,
          -0.007634580005806131,
          -0.00972466062188699,
          0.008177214336069912,
          0.009534238069555681,
          -0.012417721387006222,
          -0.012040814379524548,
          0.041356153754313646,
          0.025663371003348732,
          -0.006451555823869448,
          0.027284359843653246,
          0.022301852326333582,
          0.021307184869151036,
          0.0016031552942786299,
          -0.0049110157923950536,
          -0.0029733518894678396,
          0.037331666853164205,
          0.03568608080313511,
          0.027496575201927578,
          0.02134226066371855,
          0.02134226066371855,
          0.008660441270823403,
          -0.0226219561006702,
          0.0038783958274245123,
          0.004573158008456465,
          0.022362845352907054,
          0.019486135738767712,
          0.01579616074498348,
          0.039008139214624836,
          0.00027391948717994457,
          -0.006748919592352075,
          -0.010443428530693627,
          -0.010703814566224813,
          -0.010931223361676902,
          -0.005231967768434556,
          0.027314606324217092,
          -0.015759050639513893,
          0.02116107853291181,
          0.021365562291298094,
          0.00877747437663121,
          -0.0045429169450981735,
          -0.000490593829472589,
          0.01232068387820314,
          0.02297442399131194,
          0.007754055801090313,
          0.004984493295924846,
          0.187065774418436,
          0.19553272274610783,
          0.1867737397394342,
          0.2563251776947636,
          0.257160139855545,
          0.25708521560306097,
          -0.0040071137561636695,
          -0.008786471609140457,
          -0.013068147488530666,
          0.07310005633794714,
          0.07279290517908883,
          0.07116835339576075,
          -0.023533895014771936,
          -0.02322545438590275,
          -0.029106475423967677,
          -0.028839616193367473,
          -0.02819052536739059,
          -0.029179642705360987,
          0.01835815487500372,
          0.016823134277873446,
          0.018065826063909357,
          0.034928044141720876,
          0.04303638286147966,
          0.043635315505185936,
          -0.019576474558055668,
          -0.018473172495131713,
          -0.020808796464375064,
          0.027508088601644824,
          0.018204421998061618,
          0.0360760494939786,
          -0.002181635784180738,
          -0.0034977214139169516,
          0.012652423280552398,
          -0.010122892596831818,
          -0.010665449956131659,
          0.0658386422036377,
          0.06828738803406147,
          0.06769733357261236,
          0.0665940887880018,
          -0.012916538540700673,
          -0.02071046338644028,
          -0.02515985975219191,
          0.021504565101215147,
          0.018806842730326297,
          0.019642236505223634,
          -0.026789803407703334,
          -0.025494860038711382,
          -0.023938550491112525,
          -0.0055359406508611615,
          0.004693352577593936,
          0.004713478690008483,
          -0.014831214297622594,
          -0.011709703493861665,
          -0.009450358368834474,
          -0.037466677547099,
          -0.038043067180921444,
          -0.03860029388104637,
          -0.03401755798127583,
          -0.011900729589205426,
          -0.041789141959714116,
          -0.0555853825528265,
          -0.05118037361450405,
          -0.049516010973578474,
          -0.00011281022571436595,
          0.021194617871756354,
          -0.014491687798794702,
          0.016072548695871148,
          0.009999787408801798,
          0.01150921094099775,
          0.024510077172494957,
          0.02931338351251423,
          0.036903403746888115,
          0.030536432270330954,
          -0.01804420160525496,
          -0.0254754496225458,
          0.06976387033591507,
          0.058125050043474735,
          0.05883858279687698,
          0.018014741020639283,
          0.019750194779450683,
          -0.047105000463339534,
          0.06581023780619652,
          0.06468436342741819,
          0.06260488373730333,
          -0.027576433725709643,
          0.024830125676044316,
          0.015388112148474326,
          0.043358117006573736,
          0.04291879792114914,
          0.042617469651061585,
          -0.010888638419208336,
          -0.0114956225397121,
          -0.012217652723625967,
          -0.07702599910814166,
          -0.07937600746713515,
          -0.07875830672645749,
          -0.13025013497705662,
          -0.12824816951954196,
          -0.13146503787498237,
          -0.0019315605699094327,
          0.00386343467971227,
          -0.0036765615603822953,
          -0.016760409710449127,
          -0.015373583284496142,
          -0.012636214200144512,
          0.07205676379410926,
          0.009013222338998742,
          0.007236169802130472,
          0.02416113330824933,
          -0.017898281895241678,
          -0.0182527103997997,
          -0.0226219561006702,
          0.0038783958274245123,
          0.004573158008456465,
          0.09486071897909817,
          0.09523672903211995,
          -0.017794733925114405,
          0.01534217086403208,
          -0.022607332089205616,
          -0.031842837814123906,
          0.0015808463574346764,
          -0.005198636473604026,
          -0.0070176288766813245,
          0.003064336069944584,
          0.003064336069944584,
          0.0035807222814972723,
          -0.022628661323282877,
          -0.023083145550044017,
          -0.008401407703271782,
          0.013046694728038202,
          0.010446037856024689,
          0.010446037856024689,
          -0.04159426971548242,
          -0.0357087263396232,
          -0.033523613126400044,
          -0.011888220556316782,
          0.0014191629707913558,
          0.00600225036058644,
          0.016286215599432035,
          0.012189628084294819,
          0.010871147971425292,
          -0.024619291660308882,
          -0.029420667936583707,
          -0.027062934775181458,
          0.00531248433174527,
          0.06187980933430218,
          -0.008438277503793638,
          0.0032768870507639335,
          0.023958370836198308,
          0.024319181252197574,
          -0.023701235895930362,
          -0.025863968791079252,
          -0.01816673090377905,
          0.005906665554991504,
          0.024470768102478096,
          0.024470768102478096,
          -0.04129530115963081,
          0.04010111511304444,
          0.04178086221790117,
          -0.045335817279751216,
          -0.06069399332495949,
          -0.056865986013058964,
          0.06951952388057236,
          0.063009479733747,
          0.06322422760243039,
          0.00014234088012094406,
          -0.00899431381031908,
          -0.004023796395422423,
          0.005396908155409631,
          0.00865619802140099,
          0.012165118555456711,
          -0.0041362552135820125,
          -0.0051529992101524485,
          0.0032496995465080064,
          0.03965062623419528,
          0.04443216922041772,
          -0.02868891714242544,
          0.0099830307765637,
          -0.009761595746987902,
          -0.015061913554385907,
          -0.026198420281530452,
          0.06490833305046793,
          -0.003530042370641248,
          -0.018729819288041624,
          0.02444184947636974,
          0.009862203756516126,
          0.013272584113488103,
          0.018606219643093603,
          0.03633542469151119,
          -0.020365346266229524,
          0.031102733462825147,
          0.025555682557367874,
          -0.05520339823960012,
          -0.055534331239859167,
          -0.05798856507483689,
          0.015457407481967361,
          0.009924597878910688,
          0.009206879977156837,
          0.03660337918083929,
          0.03685732972779412,
          -0.0038855820347688404,
          0.011044548543955104,
          0.011044548543955104,
          0.011044548543955104,
          -0.009647003322930616,
          -0.012398767241213762,
          -0.010833160505652036
         ],
         "z": [
          -0.021000837657502804,
          -0.025446695699943667,
          -0.02017077729803495,
          -0.049786389345170615,
          -0.048059537046220874,
          -0.04657456244244676,
          -0.019929214622807168,
          -0.02817774931368394,
          -0.025827198185181463,
          0.0258648768694369,
          0.02411390759698869,
          0.028301205911907656,
          -0.05576952351923702,
          -0.05695507786772196,
          -0.05444683235234836,
          -0.02540218924405703,
          -0.022746671787193005,
          -0.022448425692088006,
          -0.010097953275531429,
          -0.008267197063313303,
          -0.007525449910006538,
          -0.019647356786714622,
          -0.01828680865720849,
          -0.009479253408712736,
          0.0175572706794314,
          0.016781933050080276,
          0.015564468699897442,
          -0.014412853915989366,
          -0.009892249505677594,
          -0.011197583133350397,
          -0.011452473772399389,
          -0.00903964541390501,
          -0.010529271150852254,
          0.025115914230489467,
          0.024739739561939728,
          0.02470033733800147,
          -0.009339770361758572,
          -0.008539783569390171,
          -0.005680186828958262,
          0.001875357850903485,
          0.0017681510347232416,
          0.0032125723098211027,
          -0.03796954404186194,
          -0.0347083961288709,
          -0.0343638354694215,
          -0.014574003200807243,
          -0.0145762478918154,
          -0.014425685841907886,
          -0.08743925051759512,
          -0.08633188232016341,
          -0.08783040131720118,
          -0.02477120060592297,
          -0.025024859805582986,
          -0.025352317446344683,
          0.008432923384418207,
          0.008184937292402751,
          0.007806450330696108,
          -0.07957577867137497,
          -0.07811020415741422,
          -0.07972002946127021,
          0.01557769359557363,
          0.015620609875143077,
          0.015646174642121122,
          0.01315182419253154,
          0.01898593172100595,
          0.021443264873723524,
          -0.0006881797609207479,
          -0.002023655568100359,
          -0.0012650409425074636,
          0.03428391320176242,
          0.029636406503799832,
          0.029213077970254308,
          -0.05562002203841315,
          -0.05092281925261343,
          -0.043988439600432444,
          -0.018494666901005246,
          -0.03008690579665639,
          -0.029100244792443015,
          -0.12307090430923127,
          -0.12238445964778699,
          -0.09813384046033893,
          -0.06977630165124991,
          -0.07866819649784863,
          -0.0681546188636839,
          -0.06650118271966246,
          -0.06521522578449844,
          -0.0674197474100012,
          -0.008473738225332202,
          -0.009110845290263464,
          -0.007539071418812948,
          -0.04506396652487179,
          -0.04091145383706644,
          -0.05150868830355375,
          -0.005545811238685579,
          -0.004159274387686762,
          -0.00424103325453184,
          0.016507436709967353,
          0.0019460620287996165,
          -0.005433186977906746,
          0.0031783473895672177,
          0.0026258702291953916,
          0.002619122473914799,
          0.010900011310808939,
          0.01068856526781067,
          0.01117243016586135,
          -0.034049653173518074,
          -0.029955971414521852,
          -0.030051549551411632,
          -0.12576501776091742,
          -0.1268623150536801,
          -0.12719068837977843,
          0.047804276363435975,
          0.0423084601234579,
          0.04467989128989753,
          -0.006528524055743239,
          -0.002439082686387734,
          -0.02626863105173204,
          -0.010997004951956138,
          0.002225801015715291,
          -0.01768952557312238,
          -0.07659573483005877,
          -0.07457339289779234,
          -0.07517204814778487,
          -0.06693933265757608,
          -0.06549331242776738,
          -0.08110203455498706,
          -0.0006443293190771785,
          -0.0019712805130924853,
          0.0016224114587545966,
          -0.0805897943751355,
          -0.0802053187576848,
          -0.08163379832636178,
          0.004849745556329084,
          0.007846891351603527,
          0.00618106732153974,
          -0.004958023802022381,
          -0.010094590884116385,
          0.025687157965170893,
          -0.06529181285606055,
          -0.06459309082395549,
          -0.06629661634617266,
          0.03276491363281286,
          0.031912531082079844,
          0.03018970513060811,
          -0.012029101480128913,
          -0.012969902144525505,
          -0.0122546889381461,
          0.008835048958373498,
          0.008878806351124454,
          0.016230559944141902,
          -0.034568127876250944,
          -0.0349888474024744,
          -0.03547864647165407,
          -0.001680186119763646,
          0.003239960569319053,
          0.008417442522510183,
          -0.043998131518085716,
          -0.01989873186304815,
          -0.04154532969651082,
          -5.225792667308139e-05,
          -5.225792667308139e-05,
          -0.0006165027319448704,
          -0.033553450073499164,
          -0.03981572897642901,
          -0.04012097676341263,
          -0.07211017053944584,
          -0.07100089512780927,
          -0.07230086036526084,
          -0.042187946523629866,
          -0.037230544734476116,
          -0.03160651556794089,
          -0.019398830241032297,
          -0.019281174391187726,
          -0.02221585353423706,
          -0.02261380926862231,
          -0.013610393108811205,
          -0.018781000212839103,
          -0.0760811993806339,
          -0.0759617055287727,
          -0.07912795703747648,
          0.016711376274763174,
          0.016266793137437265,
          0.016625843228132035,
          -0.03182311855847746,
          -0.031493778050759945,
          -0.032219212958152416,
          -0.03541931679241906,
          -0.028420555129695813,
          -0.03608562569826905,
          0.01083683352191542,
          0.006950063189292815,
          -0.0017759120019717719,
          0.017123357739302226,
          0.01787313689377778,
          0.020325991821643425,
          -0.018130240599666458,
          -0.018161580028614854,
          -0.017488712495867646,
          0.03056259262449222,
          0.03189650724555569,
          0.03164861035381429,
          -0.04086005408840039,
          -0.044029642080389154,
          -0.05643621869740904,
          -0.04678028241662849,
          -0.04278509740214295,
          -0.03733618216346544,
          0.002980514389915386,
          0.0028565170481663696,
          0.0022834310468585087,
          -0.0019517626825678912,
          -0.002232383095900092,
          -0.0021882353385277503,
          -0.02890853730579862,
          -0.03685633497215726,
          -0.03687828074701098,
          -0.039163613881580656,
          -0.03422089421725771,
          -0.03383086309528636,
          0.04190688656315604,
          0.04161279136598292,
          0.0407655720883365,
          0.03867880982195121,
          0.03798322099735743,
          0.03268584204167219,
          0.004011119657535178,
          0.0015553764555193026,
          0.007727534748346638,
          -0.06218586207675438,
          -0.060265957166309246,
          -0.060708679910968094,
          0.025654789350121863,
          0.025012325868829764,
          0.02630529193024715,
          -0.10557559398676414,
          -0.09891002821493018,
          -0.10032047406224293,
          -0.07421377939376168,
          0.0028565103486393913,
          -0.08055597897839484,
          -0.0668224936251676,
          -0.06976304957537548,
          -0.06615983254943407,
          -0.00305911761275151,
          -0.0022543617756910616,
          -0.0003523396979795763,
          -0.022444678715628965,
          -0.024261556692095475,
          -0.023615424221962743,
          0.028644561141571427,
          0.02524356656645238,
          0.023031546532627543,
          -0.0009508644121622395,
          0.002128365629081078,
          -0.0029038842873799695,
          0.018645591487686127,
          0.01939524754427446,
          0.021982399373328004,
          -0.007080966942683909,
          -0.0002075594125729542,
          -0.001064721338017801,
          -0.1294351916130139,
          -0.011789387431210321,
          -0.12901052475294905,
          -0.09194267414682034,
          -0.09072322598595119,
          -0.09052424963468643,
          0.008914178129616035,
          0.010354372275278445,
          0.009042191841375313,
          0.019478573970486725,
          0.01957471311248394,
          0.019587167046305295,
          0.1399046763777497,
          0.13477888356758125,
          0.1331743575853089,
          0.09225637009271083,
          0.11472032225672754,
          0.12089029054151088,
          -0.009502530119900047,
          -0.008904121657471672,
          -0.008533247867969386,
          -0.1315364620787201,
          -0.1310675958999298,
          -0.13095956261731256,
          -0.007022196110230917,
          -0.009181578867157049,
          -0.021349375872444832,
          -0.04927200950240011,
          -0.05078456835190449,
          -0.05039852162686549,
          0.0798871133544836,
          0.0830508432086611,
          0.10058598487242547,
          -0.015255199512877876,
          -0.015268315624535365,
          -0.015112345404838431,
          -0.031187091008752606,
          -0.031101366800939466,
          -0.032006032593874786,
          0.17787383406072063,
          0.17731940965776424,
          0.17716070176620663,
          0.023336122145491037,
          0.023562729097614653,
          0.013480509448909082,
          -0.050181149368535606,
          -0.051870467017480514,
          -0.052791214344158115,
          -0.0041434370877560375,
          -0.0031457387405024154,
          -0.001824354358458244,
          -0.017440963142881502,
          -0.017490112594813714,
          -0.017533410752152995,
          -0.10154875563289079,
          -0.09958508465630768,
          -0.09920616389931869,
          -0.04408969338153022,
          -0.044467128439691035,
          -0.04326034804997853,
          -0.0701250312463592,
          -0.05385928954466018,
          -0.0470210284238328,
          -0.023739232254968306,
          -0.027511795497584698,
          -0.026995487710045285,
          -0.05332252370832532,
          -0.052476865392657085,
          -0.05336554312398107,
          -0.009293318026518527,
          -0.011073473794829763,
          -0.007744767137113744,
          -0.0009574598657249794,
          0.0021523549578466774,
          0.010929746508979534,
          0.03726128609610995,
          0.04601634772318615,
          0.07263104254774931,
          0.11772560234713443,
          0.13410593946307992,
          0.13784118624397595,
          -0.051678425672930746,
          -0.051601256989749746,
          -0.05149876580979894,
          0.16785495068132666,
          0.17532504973363414,
          0.17615253895943075,
          -0.09674230516671975,
          -0.09208106662681763,
          -0.0892849159143396,
          0.011883243413530786,
          0.011502048964061201,
          0.012067709721490348,
          -0.04815987183790476,
          -0.04764737844945927,
          -0.04779317221109448,
          -0.01974642177505346,
          -0.02041316001078043,
          -0.022723778135861544,
          0.14456359778299843,
          0.14394752233406494,
          0.13963802875765585,
          0.02358240416676821,
          0.02542712234449226,
          0.03415439357423128,
          -0.019297933826933174,
          -0.013941455560116984,
          -0.015708123142549327,
          0.029669207141006668,
          0.029669207141006668,
          0.029669207141006668,
          0.2406287500994054,
          0.24039441560081204,
          0.2418246441294988,
          0.008146082837715672,
          0.003579108863476966,
          0.003455701063227231,
          0.0847248003501198,
          0.06683770707350925,
          0.06533245847759228,
          -0.0006117798548313587,
          -0.0036015567811175557,
          -0.005226101923409393,
          0.02096183380440406,
          0.02120678123629902,
          0.021509833297065295,
          0.01787882672290263,
          0.017500019953889393,
          0.01779330303863525,
          -0.02646699384682811,
          -0.02677966816060208,
          -0.023014152187682806,
          -0.014122222353951556,
          -0.012476491762100316,
          -0.01168380429677431,
          -0.05918748647791482,
          -0.05913732273073699,
          -0.06320805503016609,
          -0.023009432296168458,
          -0.02227559926543487,
          -0.02375685330855626,
          0.01066838221845344,
          0.010509974200384839,
          0.00955327505174731,
          0.02520784230634604,
          0.0308069872334024,
          0.11080374463826531,
          0.005464240510453403,
          0.005464240510453403,
          0.007867658786164295,
          0.025404424419714293,
          0.025409981047939973,
          0.025761483027797454,
          -0.051006954426619386,
          -0.05241569134063897,
          -0.042950057104745275,
          -0.03894375949473429,
          -0.0391528433007682,
          -0.03910707983620667,
          0.010882472966778306,
          0.010791784862808403,
          0.009703758993158076,
          0.028129565960491463,
          0.028129565960491463,
          0.028129565960491463,
          0.04599017894903006,
          0.044515489479859366,
          0.04167763935472434,
          0.009160333113626403,
          0.009916721010279057,
          0.007155328267999475,
          -0.03031482437453053,
          -0.03302245162513646,
          -0.03114035543370351,
          -0.03657147379800619,
          -0.035819166428889125,
          -0.03725760192516337,
          -0.059310445866048236,
          -0.05182097908896293,
          -0.0498278526957082,
          -0.011593497344563001,
          -0.011593497344563001,
          -0.011593497344563001,
          -0.10100451284153034,
          -0.10142914964016629,
          -0.10177795950346373,
          0.018647024987827335,
          0.017461503472680107,
          0.020069716521173713,
          0.008878718086864109,
          0.008875207421545898,
          -0.038139002670876436,
          -0.008484928030724957,
          -0.00849370206888186,
          -0.009291147540585812,
          -0.01749073168650359,
          -0.016056648707652502,
          -0.016364979153043954,
          -0.01363518480547312,
          -0.011660451400016576,
          -0.009610897763594913,
          -0.040481826330309265,
          -0.04005321864192008,
          -0.039958749320916524,
          -0.011598758194900373,
          -0.018945806123836232,
          -0.011985870994074251,
          -0.034750041319867565,
          -0.03614151186841517,
          -0.06822826319696404,
          0.004310036746727355,
          0.002761721178377487,
          0.0001345296140589939,
          -0.03182832133276782,
          -0.0357308012551165,
          -0.039786278721117556,
          -0.048092368160301706,
          -0.05238698349964457,
          -0.055299681006232775,
          -0.02977912698183059,
          -0.010192906186566722,
          -0.023983347557481376,
          0.06829790774510786,
          0.0658049038470505,
          0.06669726211315956,
          -0.04141863022472708,
          -0.04400452666211889,
          -0.04616259712254078,
          -0.033744507037787884,
          -0.03349880559124387,
          -0.03354769055533333,
          0.04456872169079142,
          0.04149587143338497,
          0.04133486799889911,
          -0.06956412294636759,
          -0.07173256742808908,
          -0.06710882436047903,
          -0.03252704631696573,
          -0.03154035115825658,
          -0.042774033706170236,
          -0.031300616864354876,
          -0.03161949997916141,
          -0.0267547182139727,
          0.017344602686591708,
          0.001972815358579806,
          0.0044533116589944195,
          -0.025688756830051663,
          -0.026160209769899863,
          -0.025172372900572358,
          0.1573092446939586,
          0.16600568864283446,
          0.14444278966260188,
          0.022732416934788002,
          0.033167709585911864,
          0.03362645845597923,
          -0.003542768250036635,
          -0.0034472308302972298,
          -0.008286048970976633,
          0.013977402744817713,
          0.01365326030487517,
          0.01231854275004872,
          -0.016779832739938657,
          -0.01392386919415735,
          -0.020960759974213285,
          -0.01460337495091104,
          -0.01196002399978457,
          -0.007168985766854506,
          -0.05647817340939759,
          -0.051064208307646575,
          -0.053660801248645036,
          -0.01756289586386859,
          -0.01464425133191748,
          -0.014113315938294435,
          0.010700687075683068,
          -0.048768115050324495,
          -0.05122772170978734,
          -0.12075168239763695,
          -0.12248909110586453,
          -0.12144699467174282,
          0.055776441136477936,
          0.05811945474669562,
          0.05858507928229798,
          0.05700068740193112,
          0.05966752910719401,
          0.046731569993860134,
          -0.004980257162673124,
          -0.01017136069870813,
          -0.010487403710864786,
          -0.014875529532501514,
          -0.022564344314348908,
          -0.030677648525734163,
          -0.023013850949574654,
          -0.022242485064575306,
          -0.020588438095853194,
          0.002744601284261769,
          0.0038270813385069095,
          0.0038270813385069095,
          -0.02913581751195457,
          -0.027930419444541072,
          -0.028852503320682222,
          -0.0167653463007673,
          -0.017967732214610198,
          -0.015280689966870823,
          0.2178733038620192,
          0.22370876095197473,
          0.22565547239894615,
          -0.0793988162141632,
          -0.08821282700040997,
          -0.08502857932373252,
          -0.046093120469516954,
          -0.04871753023907617,
          -0.04768714866231826,
          0.012960042774827674,
          0.012614583649462534,
          0.012899489483197371,
          -0.013956952359435776,
          -0.013474012763956928,
          -0.01612376171654575,
          0.00892754070470736,
          0.00892754070470736,
          0.00892754070470736,
          0.004778745894478647,
          0.004734552962970932,
          0.004541584365776766,
          -0.01194418304403659,
          -0.014559693390371652,
          -0.014772855526526185,
          -0.05037322744683752,
          -0.04298689481078673,
          -0.03535694254984661,
          0.005569023609836047,
          0.007671193052004706,
          0.012812101072145504,
          -0.0026236027838413846,
          -0.0026164269799618684,
          -0.0026113369222093836,
          -0.035974723032071186,
          -0.04703335686495249,
          -0.046556929691644516,
          0.10109527521058065,
          0.10316672084890895,
          0.0976808317677599,
          -0.05044784140234174,
          -0.05209305264337261,
          -0.0517484770420405,
          0.2319765886548745,
          0.22849175611097824,
          0.2202516725608112,
          0.00820209148255756,
          0.00820209148255756,
          0.00820209148255756,
          0.024875706527340332,
          0.02556374570854815,
          0.014734544805659059,
          -0.0638397783548611,
          -0.06258600249508037,
          -0.0600202565320386,
          -0.03282558216177674,
          -0.018975458412202172,
          -0.008291159502712812,
          0.0203899522992706,
          0.02025310020410386,
          0.006371858184534402,
          -0.028274257136195545,
          -0.025774263821422238,
          -0.02763322160273783,
          0.03160866013351123,
          0.032171989958073535,
          0.030439611872879368,
          0.0027286113756230775,
          0.0007299633955167172,
          0.005247264276312817,
          -0.06467724636875669,
          -0.059808593890617136,
          -0.056460404252731876,
          0.012297721700981444,
          0.011322632432599797,
          0.012694046503777772,
          -0.049570702150964395,
          -0.04663822399409114,
          -0.0391098566988323,
          0.023081025641212977,
          0.022527025235759612,
          0.021799338905201467,
          0.047178251964171365,
          0.012032355166373254,
          0.045634545771426165,
          -0.012658499472593175,
          -0.012658499472593175,
          -0.012658499472593175,
          0.002482937288758432,
          0.0031436079607594183,
          0.0031436079607594183,
          -0.06474651544668657,
          -0.0650999151529206,
          -0.06437758647876209,
          -0.07187230502072865,
          -0.07505670515908211,
          -0.07185531690793653,
          0.003659833707152383,
          0.003659833707152383,
          0.003659833707152383,
          -0.06623977202473011,
          -0.06611238856633968,
          -0.064982052213592,
          -0.09900406633342441,
          -0.09989665638905144,
          -0.09526481734717186,
          0.029166288208410735,
          0.029457288105329448,
          0.028289427236077736,
          0.00047439966187236033,
          0.0006886871168383099,
          0.0008840964075738399,
          -0.029783356938281325,
          -0.02594452162221786,
          -0.030639451142186507,
          -0.06709526197076311,
          -0.06947427685068475,
          -0.07589242492274809,
          -0.015255444440523984,
          -0.01564200584461645,
          -0.02527323083839739,
          -0.04755576515879471,
          -0.04644915209197383,
          -0.04836010350118187,
          0.027448445006937258,
          0.028483142586669397,
          0.028200053922073937,
          0.013607678187598756,
          0.02531226103130515,
          0.003199533100396934,
          -0.08797573025136153,
          -0.08750317750439449,
          -0.08305209912450943,
          0.019153074397366545,
          0.0626753498259273,
          0.05466359605965971,
          -0.06521740628612907,
          -0.0662208305989386,
          -0.06469435725376127,
          0.027105860896156107,
          0.027338839383080044,
          0.014718635037650344,
          -0.02254841825762961,
          -0.025488791393478264,
          -0.025176139473029217,
          -0.026240402301792462,
          0.00718634323963334,
          -0.025511800442232804,
          -0.005168644550634563,
          -0.005128978867083283,
          -0.005207342286997904,
          -0.0377587441500885,
          -0.042174809679657865,
          -0.04120172576567936,
          -0.0673217959553299,
          -0.07686748686627316,
          -0.07412777926133685,
          0.07157309046657881,
          0.062087327891715116,
          0.06686816079066062,
          0.09536645927994639,
          0.09771672518140799,
          0.10000877515478167,
          -0.01589295780201003,
          -0.013191620005131804,
          -0.01019506490989042,
          0.010897622174264423,
          0.014737259231871,
          0.011974366462125016,
          -0.02636396749030407,
          -0.026227556282898995,
          -0.025145837067983314,
          -0.10647762732222486,
          -0.1064573232982181,
          -0.10813031184264728,
          -0.0214732019741605,
          -0.02180879484003228,
          -0.015555231769601179,
          -0.09016871220445905,
          -0.08867583352847593,
          -0.09230603461083892,
          -0.008035555708827847,
          -0.008036008112530475,
          -0.006991346656636232,
          -0.034239131070854203,
          -0.027755164220348467,
          -0.03225404068068377,
          -0.00215518274528152,
          -0.003013036935581674,
          -0.0007821693782023632,
          -0.014202635984719453,
          -0.013756243459208539,
          -0.010553995752741914,
          -0.04887758408201328,
          -0.058936485630928334,
          -0.05845042931980409,
          0.0025912787845009896,
          0.001596552186719618,
          0.0012621406772821294,
          0.0013197701924272697,
          -0.05081980231995967,
          -0.0542029978398509,
          -0.09296355290554147,
          -0.09148057146136403,
          -0.09349554863217506,
          -0.037622581595556245,
          -0.04116052154970778,
          -0.04152894078895602,
          -0.07007090699567967,
          -0.0721078837220992,
          -0.0604348713367484,
          0.07462735679578154,
          0.07319140424351564,
          0.07341514164377268,
          0.10629812928629091,
          0.1152782030908325,
          0.11391731093075363,
          -0.08817863647871478,
          -0.08865723841531237,
          -0.08783981378864789,
          0.053228160497954397,
          0.028487540392283985,
          0.01806696910353812,
          -0.06585035224574148,
          -0.06520170859732691,
          -0.06621227559618477,
          -0.1063925852681712,
          -0.10906793389564245,
          -0.10908573820861367,
          -0.027489231888714452,
          -0.025154914398784634,
          -0.02515348645110222,
          0.011193770941425334,
          0.01024324016559851,
          0.01561105267358057,
          0.002595584395588873,
          0.0035794115078078047,
          0.022947426359946843,
          -0.01573272315541606,
          -0.01573272315541606,
          -0.01573272315541606,
          0.028685459087719432,
          0.0070340676300635775,
          0.005513873625130019,
          -0.01890249905702431,
          -0.027560807658299182,
          -0.02852512300853566,
          -0.01949460622961762,
          -0.023382312726815704,
          -0.023806859521279207,
          -0.07553955278784975,
          -0.08097409058286612,
          -0.07972552230473613,
          -0.01464730195602234,
          -0.014135705646087534,
          -0.014087847215348488,
          0.018920364073885417,
          0.018920367809776347,
          0.0009661138994660519,
          -0.02043359348328462,
          -0.015412775617988579,
          -0.014162072527103348,
          0.015241251943174739,
          0.015825424451435387,
          0.014783676856627884,
          -0.10971831095772006,
          -0.10923194396617801,
          -0.10990107802421213,
          0.01892780623358604,
          0.019508385516667264,
          0.020804995644694135,
          0.013741059200728684,
          0.014469774832629782,
          0.02266116203593623,
          -0.032785743541900496,
          0.006540354828055238,
          0.004113442303973784,
          -0.018967809457995147,
          -0.01658426585510971,
          -0.017717966743687242,
          -0.1123360553417335,
          -0.1129402720737117,
          -0.11275841690749863,
          -0.004058762616827597,
          0.012788049647131403,
          0.01336579104679576,
          -0.02625186517766016,
          -0.02347918488155677,
          -0.025101586865278292,
          -0.018278139898594645,
          -0.017198139628830007,
          -0.018408152043590597,
          0.021961407354508793,
          0.021555625498157784,
          0.011562526518389826,
          -0.010086567525026706,
          -0.01336351021983864,
          -0.012910976063313434,
          -0.027450866633696905,
          -0.03249985177424399,
          -0.03734064518014949,
          -0.002459665091070286,
          -0.00280880352277816,
          -0.008889788032655804,
          0.024335302173540452,
          0.020123773665581126,
          0.02026708213031642,
          -0.010345929112334944,
          -0.01023568221600434,
          -0.008003870430615933,
          -0.02767203696981682,
          -0.028115738383666516,
          -0.0510390725084625,
          -0.006396520255256097,
          -0.006229085815984045,
          -0.006229085815984045,
          -0.022226633880418498,
          -0.017500663503582297,
          -0.01655734920294523,
          0.014489195002768199,
          0.015442448249783093,
          0.0290076140279988,
          -0.01762619756038356,
          -0.004366981004574118,
          -0.004570821757787696,
          -0.01574371820795839,
          -0.016782756860410572,
          -0.01585629710981151,
          0.22145631026289964,
          0.2158899048838595,
          0.18797245954444824,
          0.009359184903218713,
          0.0031897062493853345,
          -0.00518560415802832,
          -0.009287260988628414,
          -0.007630510310084083,
          -0.006115777158519594,
          -0.0009508644121622395,
          0.002128365629081078,
          -0.0029038842873799695,
          -0.08568594430680306,
          -0.08548615932977094,
          -0.08511125054968662,
          0.030457092349366124,
          0.00329815375478867,
          0.02952411312981725,
          -0.0774389132556853,
          -0.07886767120362924,
          -0.08456674131558947,
          -0.006005571470978453,
          -0.008026298820726585,
          -0.008004552711258934,
          -0.0025956748389123862,
          -0.0025956748389123862,
          -0.0025956748389123862,
          -0.04070898454854903,
          -0.05133602608386241,
          -0.05210238294232005,
          -0.011503895401134329,
          -0.0025063038862819633,
          0.004643451148563665,
          -0.12245219209937919,
          -0.1192286513546836,
          -0.12088430399367292,
          0.07698879851168128,
          0.0740993069613224,
          0.07493700424607476,
          0.022798315621488013,
          0.028527139352191692,
          0.02268459309449808,
          0.0147733842472842,
          0.017921804666861295,
          0.021392091711501113,
          -0.04407753591601092,
          -0.044285735932426566,
          -0.044699339138883847,
          -0.017347941961874717,
          -0.01677219969264831,
          -0.009231324442560722,
          -0.016964681246730607,
          -0.00257326158019194,
          -0.003730378346190229,
          -0.016090776456169253,
          -0.012694135384696305,
          -0.012886386458243129,
          0.01318977385550504,
          0.005964181111347146,
          0.005964181111347146,
          0.12654692799583553,
          0.15758473187644434,
          0.1337141551823716,
          -0.021489102749610276,
          -0.024027517523945496,
          -0.02564963941676542,
          0.008473472408426072,
          0.0068503255258195485,
          -0.035887000293126234,
          -0.020439697351369232,
          -0.020490792112049263,
          -0.020290482815485563,
          -0.06820410747451035,
          -0.06775866129471554,
          -0.06829953217216225,
          -0.007975023896861038,
          -0.0166527323521399,
          -0.006202392817634923,
          0.010834889156099148,
          0.009073255911521267,
          0.009706683121863886,
          -0.005725683915697173,
          -0.006726846747049643,
          -0.006386500295870329,
          0.012616376844554099,
          0.010999818102070603,
          0.010717111721410984,
          -0.011858522213071229,
          -0.01156516813147717,
          -0.014136234406983236,
          0.1855954612438207,
          0.18926280136641935,
          0.20218102653770775,
          -0.07350243890184666,
          -0.07290790884133896,
          -0.07041893492549316,
          0.018464942691579236,
          0.016235725194256145,
          0.01649813585893484,
          0.2358221786357238,
          0.23521578983604746,
          0.23627155315221368,
          0.01143104971243293,
          0.011999744769621115,
          0.011659881075718172,
          0.0009454021964839019,
          -0.007459514347936113,
          0.0008669195850660481,
          0.012398259724509801,
          0.012409117691794137,
          0.012318297169432202,
          -0.09817257048312347,
          -0.09346926792908448,
          -0.09127464345912531,
          0.0039827995948535045,
          0.004963118954219664,
          0.004946380375448437,
          -0.038095650187336995,
          -0.04737409515340729,
          -0.04791723606512721,
          -0.013183925986838813,
          -0.012012747269103974,
          -0.012901195903461548,
          -0.002712999064712809,
          -0.004070052554238141,
          -0.0026437260195557475,
          -0.025510153448014022,
          -0.025625106754915996,
          -0.025751581082707274,
          0.016151201404282355,
          0.017342646504139976,
          0.017820445918714872,
          -0.05780245693476079,
          -0.059974892748402626,
          -0.05793628972933792,
          0.03491601552219249,
          0.06769497531735907,
          0.06446380683587666,
          0.0014279802297279488,
          0.0015734528565783555,
          0.0031925479941095356,
          -0.004480886207073018,
          -0.0005325515146938216,
          -0.0014126659489771122,
          -0.014594135422565954,
          -0.01476168604242976,
          -0.020038453543234074,
          0.006397747700301358,
          0.00836895274784234,
          0.01194028437480893,
          0.0003645896602270227,
          -0.0059860074113433975,
          0.0051548410694983475,
          0.01716076873963175,
          0.023125068757956578,
          0.014399697517066688,
          0.005967532318067629,
          0.005926031916258048,
          -0.00012284745854464853,
          0.04138507942167791,
          0.039903664817387934,
          0.03965057698446473,
          0.00032795305713375917,
          0.0004337054518904918,
          0.000569908642723929,
          0.022482999480936218,
          0.014945893612593377,
          0.013170859475046199,
          0.14760960030859574,
          0.1499196313121137,
          0.15689546526693426,
          0.009021216144478332,
          0.008789074959264676,
          0.008678523033953165,
          0.06691628551202393,
          0.10225441615635365,
          0.15105782713375998,
          -0.020190325513569033,
          -0.0180743931946355,
          -0.02237194582760069,
          -0.09295255001536636,
          -0.09893527770115498,
          -0.09819740165631778,
          -0.0020087744431576075,
          -0.002206818439536704,
          -0.0022886116005968403,
          -0.0005516735199621707,
          -0.0008340207263476633,
          0.0005404129312451944,
          -0.10925081746871547,
          -0.10918041977053276,
          -0.10978054153500952,
          -0.015050838478419237,
          -0.01365886784729148,
          -0.010425764901761241,
          -0.005869601858064946,
          -0.005542821608069443,
          -0.011667616448468912,
          0.16344986378493723,
          0.18741582906288534,
          0.18120857074233615,
          0.028279872074411398,
          0.029927121056888672,
          0.02953074713200669,
          0.08106170783640676,
          0.08905307728518494,
          0.09204849421051536,
          0.007277955615467848,
          0.007237362132809653,
          0.007700482974906574,
          0.006069634409321189,
          0.006069634409321189,
          0.006069634409321189,
          -0.027972200276250726,
          -0.002998087174572357,
          0.0112181630776729,
          -0.015934693062702662,
          -0.017465476773769945,
          -0.018029847339165808,
          0.10224948884910293,
          0.09437190371146366,
          0.09182690481441456,
          0.022255875960024415,
          0.020836327547274363,
          0.023601814065685185,
          -0.030598710657166683,
          -0.02440409692170168,
          -0.024215852831264637,
          0.008057278482348874,
          0.012272238821506583,
          0.018310341410590122,
          0.015919629211044267,
          0.015085158760680886,
          0.015451868445012545,
          0.01205597885177209,
          0.009887962539048572,
          0.010149483400427805,
          0.004780899874711701,
          0.009379097208698893,
          0.009312905376612305,
          0.012851179114726566,
          0.01306861030727035,
          0.014584298145424272,
          -0.108447334398616,
          -0.10831963369939766,
          -0.10710310107067157,
          -0.03952277570887711,
          -0.04589251141869304,
          -0.04674659961481816,
          0.01183281140113062,
          0.012162309515924896,
          0.011580864889254474,
          -0.007189264246294222,
          0.00736565011074894,
          0.016292170971569653,
          0.025232253050988664,
          0.02532154287891705,
          0.026707778109677515,
          -0.016097628354724756,
          -0.017843581551309568,
          -0.015041561704469067,
          -0.01938793953242088,
          -0.01912758207744638,
          -0.014371673662475893,
          -0.011386394766409865,
          -0.0076963179205693675,
          -0.01529136095303429,
          -0.0006641674337778129,
          -0.006403094672952046,
          -0.005631783076933362,
          -0.011363902676433526,
          -0.01074426417952831,
          -0.010491323802851296,
          0.003130042271134012,
          0.0021658293273130757,
          -0.002115919775960634,
          -0.01719428540284221,
          -0.014089252531341573,
          -0.015370160125719226,
          -0.017250191996355555,
          -0.016593819235499574,
          -0.01935380575604567,
          -0.047037989219274406,
          -0.04678869774891601,
          -0.0462588709496973,
          -0.02124913666008885,
          -0.022078266050723064,
          -0.020736870986829727,
          -0.004182191257812816,
          -0.004822765208716727,
          0.0016499029006974808,
          0.03200499290806869,
          0.034670498562205554,
          0.03417914210171211,
          -0.01776552889300974,
          -0.018278259766130393,
          -0.018299891715342086,
          -0.0038432147422903335,
          -0.006461882455781201,
          -0.0057079457850185925,
          0.11654695239474094,
          0.1164833251341159,
          0.11716911492754857,
          -0.01578158292449474,
          -0.01492899513953032,
          -0.01317896041788531,
          0.024732699375078347,
          0.02642194121822633,
          0.029203240679635704,
          0.04747596421774078,
          0.049021738038187664,
          0.04937796257702064,
          -0.05368195149827949,
          -0.05504781057791619,
          -0.05387793622609734,
          0.00606314144703965,
          0.0056337566017438815,
          0.003065343130207544,
          -0.016376837809072228,
          -0.014992993388896269,
          -0.01602333753898736,
          0.02103791095276052,
          0.021255403968733492,
          0.021989058059980256,
          0.01214391684923793,
          0.01385888536714445,
          0.013271638150273156,
          0.07375328857523898,
          0.07406472244802906,
          0.07765133269761121,
          -0.003879580986026292,
          -0.0035140839899640086,
          -0.0031466474204169714,
          0.17123402071794602,
          0.16546343281726683,
          0.16771426813688095,
          -0.0019559180588400705,
          -0.002284455741579562,
          0.0026650817751139367,
          -0.0005984706957387488,
          -0.0013053260316247103,
          -0.002323440861988698,
          -0.07021833655052859,
          -0.07223741754293311,
          -0.0700465937405686,
          0.03457156884966367,
          0.03394107444818582,
          0.03177058506838828,
          0.012513267312507903,
          0.009516153234950036,
          0.009515064891115444,
          0.012040779713744686,
          0.012960824445038065,
          0.012960824445038065,
          0.010325353344172495,
          0.007952448983357065,
          0.006773934873499453,
          0.012541252945870728,
          0.012232579595904921,
          0.012187953950813958,
          0.015640098514232217,
          0.013579750755427127,
          0.012523607356244592,
          0.011968499687593847,
          0.020066731747602037,
          0.014531114422802494,
          -0.014521712028582025,
          0.02171778273731708,
          0.019742692665790394,
          -0.08676336692964944,
          -0.08649237890063145,
          -0.06531852351038579,
          -0.10498608775370187,
          -0.10633805373653206,
          -0.1055218199979452,
          0.030259915823458012,
          0.030076530758125292,
          0.030201406188229748,
          0.005626988033387616,
          0.012574375493632032,
          0.017458779451169464,
          0.005334423403364267,
          0.004778701544435737,
          0.00472575797909786,
          0.05999224280376797,
          0.04965110715494938,
          0.04644108577563774,
          0.23837615073566784,
          0.24332953584765174,
          0.2422767498848724,
          -0.005645634963447406,
          -0.006950139364569718,
          0.004304032624620521,
          0.07698057692755715,
          0.07658435150099706,
          0.07531109509718961,
          0.05886375040713616,
          0.02335389572025851,
          0.010104390967658139,
          -0.001493153507219809,
          -0.004980559148038832,
          -0.0033940488323349178,
          0.02738670935754474,
          0.027360341001211343,
          0.022211406920170488,
          0.0024662729506440143,
          0.002626437380006907,
          0.0020728639007038916,
          0.17738518433926218,
          0.17642669316267248,
          0.20578738213849304,
          0.004055150908071843,
          0.004134180241577931,
          0.0024291415098156998,
          -0.013213208449024452,
          -0.012621122303473795,
          0.013689478752896922,
          -0.04200435559939689,
          -0.04396792174710014,
          -0.044500690274653365,
          0.00077580144708647,
          0.001056173753016598,
          0.00378346443235997,
          -0.030840239158030178,
          -0.03053897083153903,
          -0.030140262300695914,
          -0.002425813590984526,
          -0.008098041836904978,
          -0.009296900156035601,
          0.016283190629283316,
          0.008387032888216031,
          0.00869584787321836,
          -0.039112110043809344,
          -0.03908455058247438,
          -0.036648429569317485,
          -0.11177174793311447,
          -0.11177351360912474,
          -0.1113187529766776,
          0.0649521031269983,
          0.06608327752838762,
          0.0829232044590342,
          -0.004543368039953861,
          -0.0012017601963098367,
          -0.003956282972045513,
          0.008888605139234592,
          0.0526785602875068,
          0.04633067732128695,
          0.05361953064420252,
          0.013598589517976194,
          0.0036725159919351927,
          -0.0424153588852898,
          -0.04304885902860406,
          -0.041581291712155834,
          0.02304405514526876,
          0.02344810025462614,
          0.02347509380621531,
          0.2439123926031631,
          0.16151954141746522,
          0.16126235495072297,
          0.08225753511539016,
          0.07232319080926668,
          0.08387367834998008,
          0.1495325297510312,
          0.16441478932268305,
          0.16504582050968628,
          -0.002296742316188532,
          -0.002296742316188532,
          -0.002372911673730179,
          -0.010971852470364035,
          -0.010911186976360485,
          -0.011101549418197488,
          0.04392896241688441,
          0.04392896241688441,
          0.04392896241688441,
          0.05674836289739045,
          0.08386721952682075,
          0.07572436696832828,
          0.011207067347522482,
          0.013296553870063607,
          0.0761644181997528,
          0.09504211914363887,
          0.08904105426650409,
          0.005871264632384435,
          0.022611277194498774,
          0.01949907169040159,
          0.018894306597665455,
          -0.00033732565032485584,
          -0.0003892211231057743,
          0.01624350390706639,
          0.01350855123707878,
          0.011165155966252345,
          0.01453046253834433,
          0.02142884267089164,
          0.022183416924321603,
          0.015250931311684519,
          0.0289151402848847,
          0.027745907826121612,
          0.01877092351817929,
          -0.0015522372748977466,
          -0.004063605599879184,
          -0.01670764594514314,
          -0.013123507360707961,
          0.0219962067860031,
          0.020023780352156774,
          -0.014598119505773647,
          -0.006481400005488973,
          -0.011251031103352868,
          -0.01009411036791248,
          -0.008815291726133953,
          -0.008225551105317775,
          0.0036798689993356544,
          0.003469609181525923,
          0.002953625703088992,
          0.016021583128440816,
          0.0037982276701923516,
          0.0020261774593507164,
          0.028918130839362025,
          0.027412307871180278,
          0.025955770528754078,
          0.03443048850909251,
          0.03349383994179127,
          0.030917825336287758,
          -0.025665946639018666,
          -0.02552310588211002,
          -0.02552310588211002,
          0.10096367539376246,
          0.1100351240890349,
          0.13712425624895402,
          -0.0006816162728295705,
          0.010099118014488845,
          0.017775848132769004,
          -0.004119391639979491,
          -0.015320698969930227,
          -0.010781152877006938,
          0.09567032491383635,
          0.09472776169649778,
          0.10243089265994412,
          0.021010003585812488,
          0.021010003585812488,
          0.021010003585812488,
          -0.009407182887687032,
          -0.007735925407785739,
          -0.011919821344633917,
          -0.008290890315327431,
          -0.01125354799653278,
          -0.01952161269656877,
          -0.0008703112046092959,
          -0.0008980189988566141,
          -0.0005703504102542156,
          -0.0036330717375978702,
          -0.005038344604898369,
          0.019504334961219595,
          0.012777767142023274,
          0.12688781067312307,
          0.12595023785526557,
          0.005851585374454838,
          0.010004049214922468,
          -0.005357370621092795,
          0.026089006576936205,
          0.026545312191844098,
          0.02602324103265893,
          -0.0012461899923508592,
          0.02756299699699415,
          0.024375938379291435,
          -0.006772329243534817,
          -0.006707369840066012,
          -0.002422914391911199,
          0.011950090701975955,
          0.011950090701975955,
          -0.008349950783548655,
          -0.0372623180246628,
          0.004126515097126274,
          0.0036647960562958696,
          0.012050034747335733,
          0.010363114867295837,
          0.011282172645772788,
          -0.0028236395830737522,
          -0.021441049240045862,
          -0.026200084664480306,
          -0.01977513474513936,
          -0.01983493414369841,
          -0.018666232868207025,
          0.0010297451221212444,
          0.015035664194618121,
          0.06267298064889971,
          0.031753113214116564,
          0.03236927816413266,
          0.0017371458017679232,
          0.004105064528740788,
          0.00333584569129366,
          0.010290194608895431,
          0.014568413692401801,
          0.00806858628654967,
          0.005328418770780013,
          -0.0580398191441642,
          -0.06614450326389783,
          -0.05842182862197049,
          -0.11018657621307947,
          -0.11021764141048042,
          -0.11032005064809366,
          0.016509126695367825,
          0.011526541612328226,
          0.009649895488146806,
          0.026493710697018932,
          0.025893203664293755,
          0.028049992320736218,
          -0.025827188963793032,
          -0.025551043247756793,
          -0.032124921565801545,
          0.2209933452636906,
          0.2179255903377348,
          0.223259374576495,
          0.010502003855531326,
          0.011072940429214315,
          0.010524519417775305,
          0.05776023879571756,
          0.030967112403805848,
          0.03140934878354144,
          -0.01629808501942901,
          -0.01644314567358292,
          -0.01913655670303027,
          0.013264332151491382,
          0.010047356612243988,
          0.013092336846716087,
          -0.0030226300780165495,
          -0.004948451016268584,
          2.969391148831918e-06,
          -0.007576935740751091,
          -0.008698747723827465,
          0.00880307790417783,
          0.02426184392033834,
          0.023670052343051154,
          0.021955616042175025,
          0.10346780085120069,
          0.0900774998310214,
          0.09312767043082562,
          0.001585122365898348,
          0.0017000793264541384,
          0.0025037372394847,
          0.15099687679036464,
          0.13657071765920875,
          0.15605605992999172,
          -0.005315844851085705,
          -0.008373566020489664,
          -0.008281410504433291,
          -0.015035842401217123,
          -0.015982987224469676,
          -0.015786271874891004,
          -0.0327971812234397,
          -0.032608932274219994,
          -0.03299395824667879,
          0.008793652725663528,
          -0.002216881067496064,
          0.002124192882633329,
          -0.03291995789094734,
          -0.02787801091552676,
          -0.026400481166364086,
          -0.03307548996018279,
          0.06660110596490178,
          0.038320836442124515,
          0.03560255506664527,
          0.03265612854018182,
          0.03031319625137601,
          -0.014533109095546747,
          -0.010947317394406556,
          -0.01279285762762587,
          -3.733583172006696e-05,
          -0.018802997770962684,
          -0.024362839193214306,
          0.022384078330317844,
          0.023803813969649944,
          0.02274669966438051,
          0.07438463913723785,
          0.07456240647079049,
          0.12451312825754637,
          0.0012665575234194113,
          0.003357024863850736,
          0.0032747753907288505,
          -0.01903235110223123,
          0.010184696869261557,
          0.010245753093836811,
          0.02149520201141675,
          0.026908293458275598,
          0.022427634008071,
          0.019675876486161394,
          0.01971903692040409,
          0.019082462116808065,
          -0.07286612057776282,
          -0.07323599613145401,
          -0.07420645830326764,
          -0.12156199114698914,
          -0.12013607309714175,
          -0.12315716378832299,
          0.06844848075194944,
          0.06745807456182222,
          0.06273307705733377,
          -0.016786118036365972,
          -0.015216704216178408,
          -0.00939155749851221,
          -0.0014824524525429781,
          0.0381058714848572,
          0.038342683407634706,
          -0.0057736062743221185,
          0.1820802816099444,
          0.1746306108449397,
          -0.0372623180246628,
          0.004126515097126274,
          0.0036647960562958696,
          -0.024850886691403694,
          -0.025347923818082044,
          -0.022652161870242875,
          0.019333909578501236,
          0.07385630480878719,
          0.05026541519638457,
          -0.009083164365077204,
          -0.004377653073022522,
          -0.005692277912996471,
          -0.0017482513849324927,
          -0.0017482513849324927,
          -0.0019313782775809555,
          0.09422444357299273,
          0.09186432552802778,
          0.06256403832758818,
          0.0151949894092764,
          0.012154619937076656,
          0.012154619937076656,
          -0.035865370006326315,
          -0.032899249060901636,
          -0.03174829103322474,
          -0.007189042452216387,
          0.008048470317964103,
          0.009392701614767183,
          0.013998122939209929,
          0.013270754819696707,
          0.013707754488944544,
          0.017849391280591317,
          0.01570516863034139,
          0.01599241113082875,
          -0.0036305073539859723,
          0.0002825383367856704,
          -0.0067698913890538,
          -0.0056628118895043844,
          0.02622910353425762,
          0.027025935276208633,
          0.2363389960582004,
          0.2423493118288115,
          0.15042090840044028,
          -0.007285720264318918,
          0.020008860129669993,
          0.020008860129669993,
          -0.04144688756629091,
          0.012701543732844826,
          0.015407544671502238,
          0.0012468131408215522,
          -0.004822199990723219,
          -0.0036423734691700934,
          0.022387606168566297,
          0.02026549603742082,
          0.022520568767813453,
          0.007813154672096595,
          0.11308940277582451,
          0.12497389582442488,
          0.0006828175904055347,
          0.00895786341880357,
          0.010694230101388646,
          -0.013663091769040396,
          -0.013978102857525482,
          -0.008697086191781571,
          0.02130200155041633,
          0.020860348255628894,
          -0.001307707521762487,
          0.0038984971837392355,
          -0.0088513723382011,
          -0.010359618229435251,
          -0.025749504676767877,
          0.025953028209607192,
          0.14810483005294614,
          -0.013466386107404344,
          0.017972103656601044,
          -0.012607955802186889,
          -0.004208342951784052,
          0.002196229365809383,
          -0.00791855102932528,
          -0.018605361179800196,
          0.01562412600638625,
          -0.0011742718487701195,
          -0.037448205291942344,
          -0.03688153797077991,
          -0.038688559739824664,
          0.004676103609393141,
          0.004051399727277765,
          0.007893135680109825,
          0.019165204098163365,
          0.018920448534852384,
          -0.0020983897411940705,
          0.00866957217074989,
          0.00866957217074989,
          0.00866957217074989,
          -0.003080666170147398,
          -0.005458194314148987,
          -0.005180216552670803
         ]
        }
       ],
       "layout": {
        "height": 700,
        "legend": {
         "tracegroupgap": 0
        },
        "margin": {
         "t": 60
        },
        "scene": {
         "domain": {
          "x": [
           0,
           1
          ],
          "y": [
           0,
           1
          ]
         },
         "xaxis": {
          "title": {
           "text": "0"
          }
         },
         "yaxis": {
          "title": {
           "text": "1"
          }
         },
         "zaxis": {
          "title": {
           "text": "2"
          }
         }
        },
        "template": {
         "data": {
          "bar": [
           {
            "error_x": {
             "color": "#2a3f5f"
            },
            "error_y": {
             "color": "#2a3f5f"
            },
            "marker": {
             "line": {
              "color": "#E5ECF6",
              "width": 0.5
             },
             "pattern": {
              "fillmode": "overlay",
              "size": 10,
              "solidity": 0.2
             }
            },
            "type": "bar"
           }
          ],
          "barpolar": [
           {
            "marker": {
             "line": {
              "color": "#E5ECF6",
              "width": 0.5
             },
             "pattern": {
              "fillmode": "overlay",
              "size": 10,
              "solidity": 0.2
             }
            },
            "type": "barpolar"
           }
          ],
          "carpet": [
           {
            "aaxis": {
             "endlinecolor": "#2a3f5f",
             "gridcolor": "white",
             "linecolor": "white",
             "minorgridcolor": "white",
             "startlinecolor": "#2a3f5f"
            },
            "baxis": {
             "endlinecolor": "#2a3f5f",
             "gridcolor": "white",
             "linecolor": "white",
             "minorgridcolor": "white",
             "startlinecolor": "#2a3f5f"
            },
            "type": "carpet"
           }
          ],
          "choropleth": [
           {
            "colorbar": {
             "outlinewidth": 0,
             "ticks": ""
            },
            "type": "choropleth"
           }
          ],
          "contour": [
           {
            "colorbar": {
             "outlinewidth": 0,
             "ticks": ""
            },
            "colorscale": [
             [
              0,
              "#0d0887"
             ],
             [
              0.1111111111111111,
              "#46039f"
             ],
             [
              0.2222222222222222,
              "#7201a8"
             ],
             [
              0.3333333333333333,
              "#9c179e"
             ],
             [
              0.4444444444444444,
              "#bd3786"
             ],
             [
              0.5555555555555556,
              "#d8576b"
             ],
             [
              0.6666666666666666,
              "#ed7953"
             ],
             [
              0.7777777777777778,
              "#fb9f3a"
             ],
             [
              0.8888888888888888,
              "#fdca26"
             ],
             [
              1,
              "#f0f921"
             ]
            ],
            "type": "contour"
           }
          ],
          "contourcarpet": [
           {
            "colorbar": {
             "outlinewidth": 0,
             "ticks": ""
            },
            "type": "contourcarpet"
           }
          ],
          "heatmap": [
           {
            "colorbar": {
             "outlinewidth": 0,
             "ticks": ""
            },
            "colorscale": [
             [
              0,
              "#0d0887"
             ],
             [
              0.1111111111111111,
              "#46039f"
             ],
             [
              0.2222222222222222,
              "#7201a8"
             ],
             [
              0.3333333333333333,
              "#9c179e"
             ],
             [
              0.4444444444444444,
              "#bd3786"
             ],
             [
              0.5555555555555556,
              "#d8576b"
             ],
             [
              0.6666666666666666,
              "#ed7953"
             ],
             [
              0.7777777777777778,
              "#fb9f3a"
             ],
             [
              0.8888888888888888,
              "#fdca26"
             ],
             [
              1,
              "#f0f921"
             ]
            ],
            "type": "heatmap"
           }
          ],
          "heatmapgl": [
           {
            "colorbar": {
             "outlinewidth": 0,
             "ticks": ""
            },
            "colorscale": [
             [
              0,
              "#0d0887"
             ],
             [
              0.1111111111111111,
              "#46039f"
             ],
             [
              0.2222222222222222,
              "#7201a8"
             ],
             [
              0.3333333333333333,
              "#9c179e"
             ],
             [
              0.4444444444444444,
              "#bd3786"
             ],
             [
              0.5555555555555556,
              "#d8576b"
             ],
             [
              0.6666666666666666,
              "#ed7953"
             ],
             [
              0.7777777777777778,
              "#fb9f3a"
             ],
             [
              0.8888888888888888,
              "#fdca26"
             ],
             [
              1,
              "#f0f921"
             ]
            ],
            "type": "heatmapgl"
           }
          ],
          "histogram": [
           {
            "marker": {
             "pattern": {
              "fillmode": "overlay",
              "size": 10,
              "solidity": 0.2
             }
            },
            "type": "histogram"
           }
          ],
          "histogram2d": [
           {
            "colorbar": {
             "outlinewidth": 0,
             "ticks": ""
            },
            "colorscale": [
             [
              0,
              "#0d0887"
             ],
             [
              0.1111111111111111,
              "#46039f"
             ],
             [
              0.2222222222222222,
              "#7201a8"
             ],
             [
              0.3333333333333333,
              "#9c179e"
             ],
             [
              0.4444444444444444,
              "#bd3786"
             ],
             [
              0.5555555555555556,
              "#d8576b"
             ],
             [
              0.6666666666666666,
              "#ed7953"
             ],
             [
              0.7777777777777778,
              "#fb9f3a"
             ],
             [
              0.8888888888888888,
              "#fdca26"
             ],
             [
              1,
              "#f0f921"
             ]
            ],
            "type": "histogram2d"
           }
          ],
          "histogram2dcontour": [
           {
            "colorbar": {
             "outlinewidth": 0,
             "ticks": ""
            },
            "colorscale": [
             [
              0,
              "#0d0887"
             ],
             [
              0.1111111111111111,
              "#46039f"
             ],
             [
              0.2222222222222222,
              "#7201a8"
             ],
             [
              0.3333333333333333,
              "#9c179e"
             ],
             [
              0.4444444444444444,
              "#bd3786"
             ],
             [
              0.5555555555555556,
              "#d8576b"
             ],
             [
              0.6666666666666666,
              "#ed7953"
             ],
             [
              0.7777777777777778,
              "#fb9f3a"
             ],
             [
              0.8888888888888888,
              "#fdca26"
             ],
             [
              1,
              "#f0f921"
             ]
            ],
            "type": "histogram2dcontour"
           }
          ],
          "mesh3d": [
           {
            "colorbar": {
             "outlinewidth": 0,
             "ticks": ""
            },
            "type": "mesh3d"
           }
          ],
          "parcoords": [
           {
            "line": {
             "colorbar": {
              "outlinewidth": 0,
              "ticks": ""
             }
            },
            "type": "parcoords"
           }
          ],
          "pie": [
           {
            "automargin": true,
            "type": "pie"
           }
          ],
          "scatter": [
           {
            "marker": {
             "colorbar": {
              "outlinewidth": 0,
              "ticks": ""
             }
            },
            "type": "scatter"
           }
          ],
          "scatter3d": [
           {
            "line": {
             "colorbar": {
              "outlinewidth": 0,
              "ticks": ""
             }
            },
            "marker": {
             "colorbar": {
              "outlinewidth": 0,
              "ticks": ""
             }
            },
            "type": "scatter3d"
           }
          ],
          "scattercarpet": [
           {
            "marker": {
             "colorbar": {
              "outlinewidth": 0,
              "ticks": ""
             }
            },
            "type": "scattercarpet"
           }
          ],
          "scattergeo": [
           {
            "marker": {
             "colorbar": {
              "outlinewidth": 0,
              "ticks": ""
             }
            },
            "type": "scattergeo"
           }
          ],
          "scattergl": [
           {
            "marker": {
             "colorbar": {
              "outlinewidth": 0,
              "ticks": ""
             }
            },
            "type": "scattergl"
           }
          ],
          "scattermapbox": [
           {
            "marker": {
             "colorbar": {
              "outlinewidth": 0,
              "ticks": ""
             }
            },
            "type": "scattermapbox"
           }
          ],
          "scatterpolar": [
           {
            "marker": {
             "colorbar": {
              "outlinewidth": 0,
              "ticks": ""
             }
            },
            "type": "scatterpolar"
           }
          ],
          "scatterpolargl": [
           {
            "marker": {
             "colorbar": {
              "outlinewidth": 0,
              "ticks": ""
             }
            },
            "type": "scatterpolargl"
           }
          ],
          "scatterternary": [
           {
            "marker": {
             "colorbar": {
              "outlinewidth": 0,
              "ticks": ""
             }
            },
            "type": "scatterternary"
           }
          ],
          "surface": [
           {
            "colorbar": {
             "outlinewidth": 0,
             "ticks": ""
            },
            "colorscale": [
             [
              0,
              "#0d0887"
             ],
             [
              0.1111111111111111,
              "#46039f"
             ],
             [
              0.2222222222222222,
              "#7201a8"
             ],
             [
              0.3333333333333333,
              "#9c179e"
             ],
             [
              0.4444444444444444,
              "#bd3786"
             ],
             [
              0.5555555555555556,
              "#d8576b"
             ],
             [
              0.6666666666666666,
              "#ed7953"
             ],
             [
              0.7777777777777778,
              "#fb9f3a"
             ],
             [
              0.8888888888888888,
              "#fdca26"
             ],
             [
              1,
              "#f0f921"
             ]
            ],
            "type": "surface"
           }
          ],
          "table": [
           {
            "cells": {
             "fill": {
              "color": "#EBF0F8"
             },
             "line": {
              "color": "white"
             }
            },
            "header": {
             "fill": {
              "color": "#C8D4E3"
             },
             "line": {
              "color": "white"
             }
            },
            "type": "table"
           }
          ]
         },
         "layout": {
          "annotationdefaults": {
           "arrowcolor": "#2a3f5f",
           "arrowhead": 0,
           "arrowwidth": 1
          },
          "autotypenumbers": "strict",
          "coloraxis": {
           "colorbar": {
            "outlinewidth": 0,
            "ticks": ""
           }
          },
          "colorscale": {
           "diverging": [
            [
             0,
             "#8e0152"
            ],
            [
             0.1,
             "#c51b7d"
            ],
            [
             0.2,
             "#de77ae"
            ],
            [
             0.3,
             "#f1b6da"
            ],
            [
             0.4,
             "#fde0ef"
            ],
            [
             0.5,
             "#f7f7f7"
            ],
            [
             0.6,
             "#e6f5d0"
            ],
            [
             0.7,
             "#b8e186"
            ],
            [
             0.8,
             "#7fbc41"
            ],
            [
             0.9,
             "#4d9221"
            ],
            [
             1,
             "#276419"
            ]
           ],
           "sequential": [
            [
             0,
             "#0d0887"
            ],
            [
             0.1111111111111111,
             "#46039f"
            ],
            [
             0.2222222222222222,
             "#7201a8"
            ],
            [
             0.3333333333333333,
             "#9c179e"
            ],
            [
             0.4444444444444444,
             "#bd3786"
            ],
            [
             0.5555555555555556,
             "#d8576b"
            ],
            [
             0.6666666666666666,
             "#ed7953"
            ],
            [
             0.7777777777777778,
             "#fb9f3a"
            ],
            [
             0.8888888888888888,
             "#fdca26"
            ],
            [
             1,
             "#f0f921"
            ]
           ],
           "sequentialminus": [
            [
             0,
             "#0d0887"
            ],
            [
             0.1111111111111111,
             "#46039f"
            ],
            [
             0.2222222222222222,
             "#7201a8"
            ],
            [
             0.3333333333333333,
             "#9c179e"
            ],
            [
             0.4444444444444444,
             "#bd3786"
            ],
            [
             0.5555555555555556,
             "#d8576b"
            ],
            [
             0.6666666666666666,
             "#ed7953"
            ],
            [
             0.7777777777777778,
             "#fb9f3a"
            ],
            [
             0.8888888888888888,
             "#fdca26"
            ],
            [
             1,
             "#f0f921"
            ]
           ]
          },
          "colorway": [
           "#636efa",
           "#EF553B",
           "#00cc96",
           "#ab63fa",
           "#FFA15A",
           "#19d3f3",
           "#FF6692",
           "#B6E880",
           "#FF97FF",
           "#FECB52"
          ],
          "font": {
           "color": "#2a3f5f"
          },
          "geo": {
           "bgcolor": "white",
           "lakecolor": "white",
           "landcolor": "#E5ECF6",
           "showlakes": true,
           "showland": true,
           "subunitcolor": "white"
          },
          "hoverlabel": {
           "align": "left"
          },
          "hovermode": "closest",
          "mapbox": {
           "style": "light"
          },
          "paper_bgcolor": "white",
          "plot_bgcolor": "#E5ECF6",
          "polar": {
           "angularaxis": {
            "gridcolor": "white",
            "linecolor": "white",
            "ticks": ""
           },
           "bgcolor": "#E5ECF6",
           "radialaxis": {
            "gridcolor": "white",
            "linecolor": "white",
            "ticks": ""
           }
          },
          "scene": {
           "xaxis": {
            "backgroundcolor": "#E5ECF6",
            "gridcolor": "white",
            "gridwidth": 2,
            "linecolor": "white",
            "showbackground": true,
            "ticks": "",
            "zerolinecolor": "white"
           },
           "yaxis": {
            "backgroundcolor": "#E5ECF6",
            "gridcolor": "white",
            "gridwidth": 2,
            "linecolor": "white",
            "showbackground": true,
            "ticks": "",
            "zerolinecolor": "white"
           },
           "zaxis": {
            "backgroundcolor": "#E5ECF6",
            "gridcolor": "white",
            "gridwidth": 2,
            "linecolor": "white",
            "showbackground": true,
            "ticks": "",
            "zerolinecolor": "white"
           }
          },
          "shapedefaults": {
           "line": {
            "color": "#2a3f5f"
           }
          },
          "ternary": {
           "aaxis": {
            "gridcolor": "white",
            "linecolor": "white",
            "ticks": ""
           },
           "baxis": {
            "gridcolor": "white",
            "linecolor": "white",
            "ticks": ""
           },
           "bgcolor": "#E5ECF6",
           "caxis": {
            "gridcolor": "white",
            "linecolor": "white",
            "ticks": ""
           }
          },
          "title": {
           "x": 0.05
          },
          "xaxis": {
           "automargin": true,
           "gridcolor": "white",
           "linecolor": "white",
           "ticks": "",
           "title": {
            "standoff": 15
           },
           "zerolinecolor": "white",
           "zerolinewidth": 2
          },
          "yaxis": {
           "automargin": true,
           "gridcolor": "white",
           "linecolor": "white",
           "ticks": "",
           "title": {
            "standoff": 15
           },
           "zerolinecolor": "white",
           "zerolinewidth": 2
          }
         }
        },
        "width": 1200
       }
      },
      "text/html": [
       "<div>                            <div id=\"d6409f90-e396-4ff4-8918-8b25e60b5413\" class=\"plotly-graph-div\" style=\"height:700px; width:1200px;\"></div>            <script type=\"text/javascript\">                require([\"plotly\"], function(Plotly) {                    window.PLOTLYENV=window.PLOTLYENV || {};                                    if (document.getElementById(\"d6409f90-e396-4ff4-8918-8b25e60b5413\")) {                    Plotly.newPlot(                        \"d6409f90-e396-4ff4-8918-8b25e60b5413\",                        [{\"customdata\":[[3545,\"Agrigultural Production - Crops\"],[3545,\"Agrigultural Production - Crops\"],[3545,\"Agrigultural Production - Crops\"],[4457,\"Automotive Rentals, No Drivers\"],[4457,\"Automotive Rentals, No Drivers\"],[4457,\"Automotive Rentals, No Drivers\"],[6281,\"Semiconductors and Related Devices\"],[6281,\"Semiconductors and Related Devices\"],[6281,\"Semiconductors and Related Devices\"],[6885,\"Family Clothing Stores\"],[6885,\"Family Clothing Stores\"],[6885,\"Family Clothing Stores\"],[7623,\"Farm Machinery and Equipment (hand hair clippers for animals)\"],[7623,\"Farm Machinery and Equipment (hand hair clippers for animals)\"],[7623,\"Farm Machinery and Equipment (hand hair clippers for animals)\"],[10048,\"Crude Petroleum and Natural Gas\"],[10048,\"Crude Petroleum and Natural Gas\"],[10048,\"Crude Petroleum and Natural Gas\"],[10329,\"Wood Household Furniture, Except Upholstered (except wood box spring frames)\"],[10329,\"Wood Household Furniture, Except Upholstered (except wood box spring frames)\"],[10329,\"Wood Household Furniture, Except Upholstered (except wood box spring frames)\"],[12659,\"Personal Services\"],[12659,\"Personal Services\"],[12659,\"Personal Services\"],[14707,\"Footwear, except Rubber\"],[14707,\"Footwear, except Rubber\"],[14707,\"Footwear, except Rubber\"],[14846,\"Real Estate Investment Trusts\"],[14846,\"Real Estate Investment Trusts\"],[14846,\"Real Estate Investment Trusts\"],[17313,\"\"],[17313,\"\"],[17313,\"\"],[18255,\"Women's Clothing Stores (except dress shops and bridal shops)\"],[18255,\"Women's Clothing Stores (except dress shops and bridal shops)\"],[18255,\"Women's Clothing Stores (except dress shops and bridal shops)\"],[20629,\"Greeting Cards (lithographic printing of greeting cards)\"],[20629,\"Greeting Cards (lithographic printing of greeting cards)\"],[20629,\"Greeting Cards (lithographic printing of greeting cards)\"],[21510,\"Laboratory Analytical Instruments\"],[21510,\"Laboratory Analytical Instruments\"],[21510,\"Laboratory Analytical Instruments\"],[24104,\"Concrete, Gypsum and Plaster Products\"],[24104,\"Concrete, Gypsum and Plaster Products\"],[24104,\"Concrete, Gypsum and Plaster Products\"],[25895,\"Broadwoven Fabric Mills, Cotton\"],[25895,\"Broadwoven Fabric Mills, Cotton\"],[25895,\"Broadwoven Fabric Mills, Cotton\"],[26076,\"Measuring and Controlling Devices, NEC (motor vehicle gauges)\"],[26076,\"Measuring and Controlling Devices, NEC (motor vehicle gauges)\"],[26076,\"Measuring and Controlling Devices, NEC (motor vehicle gauges)\"],[27673,\"\"],[27673,\"\"],[27673,\"\"],[28917,\"Department Stores (except discount department stores and supercenters-general merchandise and groceries)\"],[28917,\"Department Stores (except discount department stores and supercenters-general merchandise and groceries)\"],[28917,\"Department Stores (except discount department stores and supercenters-general merchandise and groceries)\"],[29644,\"Industrial and Commercial Fans and Blowers and Air Purification Equipment (air purification equipment)\"],[29644,\"Industrial and Commercial Fans and Blowers and Air Purification Equipment (air purification equipment)\"],[29644,\"Industrial and Commercial Fans and Blowers and Air Purification Equipment (air purification equipment)\"],[30697,\"\"],[30697,\"\"],[30697,\"\"],[30831,\"Glass and Glassware, Pressed or Blown\"],[30831,\"Glass and Glassware, Pressed or Blown\"],[30831,\"Glass and Glassware, Pressed or Blown\"],[31667,\"Misc. Nondurable Goods\"],[31667,\"Misc. Nondurable Goods\"],[31667,\"Misc. Nondurable Goods\"],[31791,\"Laboratory Analytical Instruments\"],[31791,\"Laboratory Analytical Instruments\"],[31791,\"Laboratory Analytical Instruments\"],[32604,\"Electronic & Other Electric Equipment\"],[32604,\"Electronic & Other Electric Equipment\"],[32604,\"Electronic & Other Electric Equipment\"],[32621,\"Household Audio and Video Equipment\"],[32621,\"Household Audio and Video Equipment\"],[32621,\"Household Audio and Video Equipment\"],[33619,\"Industrial Instruments for Measurement, Display, and Control of Process Variables; and Related Products\"],[33619,\"Industrial Instruments for Measurement, Display, and Control of Process Variables; and Related Products\"],[33619,\"Industrial Instruments for Measurement, Display, and Control of Process Variables; and Related Products\"],[36840,\"Real Estate Investment Trusts\"],[36840,\"Real Estate Investment Trusts\"],[36840,\"Real Estate Investment Trusts\"],[38725,\"Motors and Generators\"],[38725,\"Motors and Generators\"],[38725,\"Motors and Generators\"],[38777,\"Investment Advice (portfolio managers)\"],[38777,\"Investment Advice (portfolio managers)\"],[38777,\"Investment Advice (portfolio managers)\"],[39092,\"Blast Furnace and Basic Steel Products\"],[39092,\"Blast Furnace and Basic Steel Products\"],[39092,\"Blast Furnace and Basic Steel Products\"],[39911,\"Family Clothing Stores\"],[39911,\"Family Clothing Stores\"],[39911,\"Family Clothing Stores\"],[40570,\"Employment Agencies (executive placement services)\"],[40570,\"Employment Agencies (executive placement services)\"],[40570,\"Employment Agencies (executive placement services)\"],[40730,\"Motor Vehicles and Passenger Car Bodies (automobiles)\"],[40730,\"Motor Vehicles and Passenger Car Bodies (automobiles)\"],[40730,\"Motor Vehicles and Passenger Car Bodies (automobiles)\"],[43920,\"Paperboard Containers and Boxes\"],[43920,\"Paperboard Containers and Boxes\"],[43920,\"Paperboard Containers and Boxes\"],[46250,\"Chemicals and Allied Products\"],[46250,\"Chemicals and Allied Products\"],[46250,\"Chemicals and Allied Products\"],[46619,\"Aircraft Engines and Engine Parts (except research and development not producing prototypes)\"],[46619,\"Aircraft Engines and Engine Parts (except research and development not producing prototypes)\"],[46619,\"Aircraft Engines and Engine Parts (except research and development not producing prototypes)\"],[47518,\"Surgical and Medical Instruments and Apparatus (tranquilizer guns)\"],[47518,\"Surgical and Medical Instruments and Apparatus (tranquilizer guns)\"],[47518,\"Surgical and Medical Instruments and Apparatus (tranquilizer guns)\"],[48287,\"Office Furniture, Except Wood\"],[48287,\"Office Furniture, Except Wood\"],[48287,\"Office Furniture, Except Wood\"],[48465,\"Meat Packing Plants\"],[48465,\"Meat Packing Plants\"],[48465,\"Meat Packing Plants\"],[49728,\"Printed Circuit Boards\"],[49728,\"Printed Circuit Boards\"],[49728,\"Printed Circuit Boards\"],[50725,\"Metal Doors, Sash, Frames, Molding, and Trim\"],[50725,\"Metal Doors, Sash, Frames, Molding, and Trim\"],[50725,\"Metal Doors, Sash, Frames, Molding, and Trim\"],[51548,\"Racing, Including Track Operations (track operations)\"],[51548,\"Racing, Including Track Operations (track operations)\"],[51548,\"Racing, Including Track Operations (track operations)\"],[52795,\"Electrical Apparatus and Equipment, Wiring Supplies and Construction Materials (merchant wholesalers except those selling electrical supplies, equipment, and apparatus via retail method)\"],[52795,\"Electrical Apparatus and Equipment, Wiring Supplies and Construction Materials (merchant wholesalers except those selling electrical supplies, equipment, and apparatus via retail method)\"],[52795,\"Electrical Apparatus and Equipment, Wiring Supplies and Construction Materials (merchant wholesalers except those selling electrical supplies, equipment, and apparatus via retail method)\"],[54187,\"Operators of Nonresidential Buildings (except stadium and arena owners)\"],[54187,\"Operators of Nonresidential Buildings (except stadium and arena owners)\"],[54187,\"Operators of Nonresidential Buildings (except stadium and arena owners)\"],[55067,\"Grain Mill Products\"],[55067,\"Grain Mill Products\"],[55067,\"Grain Mill Products\"],[55135,\"Help Supply Services (temporary help services)\"],[55135,\"Help Supply Services (temporary help services)\"],[55135,\"Help Supply Services (temporary help services)\"],[56873,\"Grocery Stores (except convenience stores, freezer plans, and grocery stores with substantial general merchandise)\"],[56873,\"Grocery Stores (except convenience stores, freezer plans, and grocery stores with substantial general merchandise)\"],[56873,\"Grocery Stores (except convenience stores, freezer plans, and grocery stores with substantial general merchandise)\"],[56978,\"Semiconductors and Related Devices\"],[56978,\"Semiconductors and Related Devices\"],[56978,\"Semiconductors and Related Devices\"],[57131,\"Household Furniture\"],[57131,\"Household Furniture\"],[57131,\"Household Furniture\"],[63296,\"Nonferrous Foundries (castings)\"],[63296,\"Nonferrous Foundries (castings)\"],[63296,\"Nonferrous Foundries (castings)\"],[63754,\"Misc. Food and Kindred Products\"],[63754,\"Misc. Food and Kindred Products\"],[63754,\"Misc. Food and Kindred Products\"],[64472,\"Construction Machinery and Equipment (except railway track maintenance equipment; winches, aerial work platforms; and automotive wrecker hoists)\"],[64472,\"Construction Machinery and Equipment (except railway track maintenance equipment; winches, aerial work platforms; and automotive wrecker hoists)\"],[64472,\"Construction Machinery and Equipment (except railway track maintenance equipment; winches, aerial work platforms; and automotive wrecker hoists)\"],[65172,\"\"],[65172,\"\"],[65172,\"\"],[65270,\"Electronic Connectors\"],[65270,\"Electronic Connectors\"],[65270,\"Electronic Connectors\"],[65759,\"Semiconductors and Related Devices\"],[65759,\"Semiconductors and Related Devices\"],[65759,\"Semiconductors and Related Devices\"],[66388,\"Operators of Nonresidential Buildings (except stadium and arena owners)\"],[66388,\"Operators of Nonresidential Buildings (except stadium and arena owners)\"],[66388,\"Operators of Nonresidential Buildings (except stadium and arena owners)\"],[66418,\"Crude Petroleum and Natural Gas\"],[66418,\"Crude Petroleum and Natural Gas\"],[66418,\"Crude Petroleum and Natural Gas\"],[67625,\"Real Estate Investment Trusts\"],[67625,\"Real Estate Investment Trusts\"],[67625,\"Real Estate Investment Trusts\"],[68709,\"Measuring and Controlling Devices, NEC (motor vehicle gauges)\"],[68709,\"Measuring and Controlling Devices, NEC (motor vehicle gauges)\"],[68709,\"Measuring and Controlling Devices, NEC (motor vehicle gauges)\"],[69891,\"Bottled and Canned Soft Drinks and Carbonated Water (except bottled water)\"],[69891,\"Bottled and Canned Soft Drinks and Carbonated Water (except bottled water)\"],[69891,\"Bottled and Canned Soft Drinks and Carbonated Water (except bottled water)\"],[70145,\"Natural Gas Distribution\"],[70145,\"Natural Gas Distribution\"],[70145,\"Natural Gas Distribution\"],[72331,\"General Industrial Machinery and Equipment, NEC (textile fire hose)\"],[72331,\"General Industrial Machinery and Equipment, NEC (textile fire hose)\"],[72331,\"General Industrial Machinery and Equipment, NEC (textile fire hose)\"],[72333,\"Family Clothing Stores\"],[72333,\"Family Clothing Stores\"],[72333,\"Family Clothing Stores\"],[72573,\"Watches, Clocks, Clockwork Operated Devices, and Parts\"],[72573,\"Watches, Clocks, Clockwork Operated Devices, and Parts\"],[72573,\"Watches, Clocks, Clockwork Operated Devices, and Parts\"],[74046,\"Miscellaneous Manufactures\"],[74046,\"Miscellaneous Manufactures\"],[74046,\"Miscellaneous Manufactures\"],[75288,\"Men's and Boys' Furnishings\"],[75288,\"Men's and Boys' Furnishings\"],[75288,\"Men's and Boys' Furnishings\"],[76267,\"Printed Circuit Boards\"],[76267,\"Printed Circuit Boards\"],[76267,\"Printed Circuit Boards\"],[82166,\"Unsupported Plastics Film and Sheet\"],[82166,\"Unsupported Plastics Film and Sheet\"],[82166,\"Unsupported Plastics Film and Sheet\"],[82473,\"Real Estate Investment Trusts\"],[82473,\"Real Estate Investment Trusts\"],[82473,\"Real Estate Investment Trusts\"],[88572,\"\"],[88572,\"\"],[88572,\"\"],[89439,\"Nonferrous Rolling and Drawing\"],[89439,\"Nonferrous Rolling and Drawing\"],[89439,\"Nonferrous Rolling and Drawing\"],[90168,\"Aircraft Engines and Engine Parts (except research and development not producing prototypes)\"],[90168,\"Aircraft Engines and Engine Parts (except research and development not producing prototypes)\"],[90168,\"Aircraft Engines and Engine Parts (except research and development not producing prototypes)\"],[91419,\"Canned Fruits, Vegetables, Preserves, Jams, and Jellies\"],[91419,\"Canned Fruits, Vegetables, Preserves, Jams, and Jellies\"],[91419,\"Canned Fruits, Vegetables, Preserves, Jams, and Jellies\"],[94845,\"\"],[94845,\"\"],[94845,\"\"],[95521,\"Grocery Stores (except convenience stores, freezer plans, and grocery stores with substantial general merchandise)\"],[95521,\"Grocery Stores (except convenience stores, freezer plans, and grocery stores with substantial general merchandise)\"],[95521,\"Grocery Stores (except convenience stores, freezer plans, and grocery stores with substantial general merchandise)\"],[96699,\"Radio and Television Broadcasting and Communications Equipment\"],[96699,\"Radio and Television Broadcasting and Communications Equipment\"],[96699,\"Radio and Television Broadcasting and Communications Equipment\"],[98246,\"Jewelry Stores\"],[98246,\"Jewelry Stores\"],[98246,\"Jewelry Stores\"],[98752,\"Electronic Coils, Transformers, and Other Inductors\"],[98752,\"Electronic Coils, Transformers, and Other Inductors\"],[98752,\"Electronic Coils, Transformers, and Other Inductors\"],[99302,\"Instruments for Measuring and Testing of Electricity and Electrical Signals (automotive ammeters and voltmeters)\"],[99302,\"Instruments for Measuring and Testing of Electricity and Electrical Signals (automotive ammeters and voltmeters)\"],[99302,\"Instruments for Measuring and Testing of Electricity and Electrical Signals (automotive ammeters and voltmeters)\"],[100591,\"Special Trade Contractors\"],[100591,\"Special Trade Contractors\"],[100591,\"Special Trade Contractors\"],[101830,\"Telephone Communications, Except Radiotelephone (except resellers)\"],[101830,\"Telephone Communications, Except Radiotelephone (except resellers)\"],[101830,\"Telephone Communications, Except Radiotelephone (except resellers)\"],[102037,\"Farm-product Raw Materials\"],[102037,\"Farm-product Raw Materials\"],[102037,\"Farm-product Raw Materials\"],[103379,\"Men's and Boys' Furnishings\"],[103379,\"Men's and Boys' Furnishings\"],[103379,\"Men's and Boys' Furnishings\"],[104819,\"\"],[104819,\"\"],[104819,\"\"],[105319,\"Personal Services\"],[105319,\"Personal Services\"],[105319,\"Personal Services\"],[107140,\"Books: Publishing, or Publishing and Printing (except music books and Internet book publishing)\"],[107140,\"Books: Publishing, or Publishing and Printing (except music books and Internet book publishing)\"],[107140,\"Books: Publishing, or Publishing and Printing (except music books and Internet book publishing)\"],[108312,\"Electrical Industrial Apparatus\"],[108312,\"Electrical Industrial Apparatus\"],[108312,\"Electrical Industrial Apparatus\"],[108385,\"Personal Credit Institutions (credit card issuing)\"],[108385,\"Personal Credit Institutions (credit card issuing)\"],[108385,\"Personal Credit Institutions (credit card issuing)\"],[109198,\"Family Clothing Stores\"],[109198,\"Family Clothing Stores\"],[109198,\"Family Clothing Stores\"],[110471,\"Footwear, except Rubber\"],[110471,\"Footwear, except Rubber\"],[110471,\"Footwear, except Rubber\"],[200406,\"Pharmaceutical Preparations\"],[200406,\"Pharmaceutical Preparations\"],[200406,\"Pharmaceutical Preparations\"],[203527,\"Electromedical and Electrotherapeutic Apparatus (except CT and CAT scanners)\"],[203527,\"Electromedical and Electrotherapeutic Apparatus (except CT and CAT scanners)\"],[203527,\"Electromedical and Electrotherapeutic Apparatus (except CT and CAT scanners)\"],[216877,\"\"],[216877,\"\"],[216877,\"\"],[217346,\"Aircraft and Parts\"],[217346,\"Aircraft and Parts\"],[217346,\"Aircraft and Parts\"],[276720,\"Water Supply\"],[276720,\"Water Supply\"],[276720,\"Water Supply\"],[310056,\"Communications Equipment, NEC\"],[310056,\"Communications Equipment, NEC\"],[310056,\"Communications Equipment, NEC\"],[313143,\"Surgical and Medical Instruments and Apparatus (tranquilizer guns)\"],[313143,\"Surgical and Medical Instruments and Apparatus (tranquilizer guns)\"],[313143,\"Surgical and Medical Instruments and Apparatus (tranquilizer guns)\"],[315131,\"Crude Petroleum and Natural Gas\"],[315131,\"Crude Petroleum and Natural Gas\"],[315131,\"Crude Petroleum and Natural Gas\"],[315374,\"Industrial Instruments for Measurement, Display, and Control of Process Variables; and Related Products\"],[315374,\"Industrial Instruments for Measurement, Display, and Control of Process Variables; and Related Products\"],[315374,\"Industrial Instruments for Measurement, Display, and Control of Process Variables; and Related Products\"],[316253,\"Medical Laboratories (except diagnostic imaging centers)\"],[316253,\"Medical Laboratories (except diagnostic imaging centers)\"],[316253,\"Medical Laboratories (except diagnostic imaging centers)\"],[317540,\"Bottled and Canned Soft Drinks and Carbonated Water (except bottled water)\"],[317540,\"Bottled and Canned Soft Drinks and Carbonated Water (except bottled water)\"],[317540,\"Bottled and Canned Soft Drinks and Carbonated Water (except bottled water)\"],[318299,\"Business Services, NEC (tobacco sheeting service)\"],[318299,\"Business Services, NEC (tobacco sheeting service)\"],[318299,\"Business Services, NEC (tobacco sheeting service)\"],[320193,\"Electronic Computers\"],[320193,\"Electronic Computers\"],[320193,\"Electronic Computers\"],[350797,\"Investment Advice (portfolio managers)\"],[350797,\"Investment Advice (portfolio managers)\"],[350797,\"Investment Advice (portfolio managers)\"],[353184,\"Air Courier Services\"],[353184,\"Air Courier Services\"],[353184,\"Air Courier Services\"],[354950,\"Lumber and Other Building Materials Dealers (home center stores)\"],[354950,\"Lumber and Other Building Materials Dealers (home center stores)\"],[354950,\"Lumber and Other Building Materials Dealers (home center stores)\"],[356037,\"Computer Integrated Systems Design\"],[356037,\"Computer Integrated Systems Design\"],[356037,\"Computer Integrated Systems Design\"],[356309,\"Natural Gas Distribution\"],[356309,\"Natural Gas Distribution\"],[356309,\"Natural Gas Distribution\"],[357294,\"Operative Builders (residential operative builders)\"],[357294,\"Operative Builders (residential operative builders)\"],[357294,\"Operative Builders (residential operative builders)\"],[703361,\"Semiconductors and Related Devices\"],[703361,\"Semiconductors and Related Devices\"],[703361,\"Semiconductors and Related Devices\"],[704172,\"Management Services (single-family housing construction management)\"],[704172,\"Management Services (single-family housing construction management)\"],[704172,\"Management Services (single-family housing construction management)\"],[708818,\"Computer Integrated Systems Design\"],[708818,\"Computer Integrated Systems Design\"],[708818,\"Computer Integrated Systems Design\"],[715446,\"Patent Owners and Lessors\"],[715446,\"Patent Owners and Lessors\"],[715446,\"Patent Owners and Lessors\"],[716688,\"Electronic Components, NEC (antennas)\"],[716688,\"Electronic Components, NEC (antennas)\"],[716688,\"Electronic Components, NEC (antennas)\"],[718937,\"Ophthalmic Goods (intraoccular lenses, i.e., surgical implants)\"],[718937,\"Ophthalmic Goods (intraoccular lenses, i.e., surgical implants)\"],[718937,\"Ophthalmic Goods (intraoccular lenses, i.e., surgical implants)\"],[719274,\"Instruments for Measuring and Testing of Electricity and Electrical Signals (automotive ammeters and voltmeters)\"],[719274,\"Instruments for Measuring and Testing of Electricity and Electrical Signals (automotive ammeters and voltmeters)\"],[719274,\"Instruments for Measuring and Testing of Electricity and Electrical Signals (automotive ammeters and voltmeters)\"],[719955,\"\"],[719955,\"\"],[719955,\"\"],[720005,\"Security Brokers, Dealers, and Flotation Companies (security dealers and underwriters)\"],[720005,\"Security Brokers, Dealers, and Flotation Companies (security dealers and underwriters)\"],[720005,\"Security Brokers, Dealers, and Flotation Companies (security dealers and underwriters)\"],[720500,\"Special Industry Machinery, NEC (nuclear control rod drive mechanisms)\"],[720500,\"Special Industry Machinery, NEC (nuclear control rod drive mechanisms)\"],[720500,\"Special Industry Machinery, NEC (nuclear control rod drive mechanisms)\"],[720762,\"Electromedical and Electrotherapeutic Apparatus (except CT and CAT scanners)\"],[720762,\"Electromedical and Electrotherapeutic Apparatus (except CT and CAT scanners)\"],[720762,\"Electromedical and Electrotherapeutic Apparatus (except CT and CAT scanners)\"],[721447,\"Perfumes, Cosmetics, and Other Toilet Preparations (toothpaste, gel, and dentifrice powders)\"],[721447,\"Perfumes, Cosmetics, and Other Toilet Preparations (toothpaste, gel, and dentifrice powders)\"],[721447,\"Perfumes, Cosmetics, and Other Toilet Preparations (toothpaste, gel, and dentifrice powders)\"],[723125,\"Semiconductors and Related Devices\"],[723125,\"Semiconductors and Related Devices\"],[723125,\"Semiconductors and Related Devices\"],[723733,\"\"],[723733,\"\"],[723733,\"\"],[724445,\"In Vitro and In Vivo Diagnostic Substances (except in-vitro diagnostic substances)\"],[724445,\"In Vitro and In Vivo Diagnostic Substances (except in-vitro diagnostic substances)\"],[724445,\"In Vitro and In Vivo Diagnostic Substances (except in-vitro diagnostic substances)\"],[724910,\"Semiconductors and Related Devices\"],[724910,\"Semiconductors and Related Devices\"],[724910,\"Semiconductors and Related Devices\"],[725363,\"Biological Products, Except Diagnostic Substances\"],[725363,\"Biological Products, Except Diagnostic Substances\"],[725363,\"Biological Products, Except Diagnostic Substances\"],[726514,\"Misc. Electrical Equipment & Supplies\"],[726514,\"Misc. Electrical Equipment & Supplies\"],[726514,\"Misc. Electrical Equipment & Supplies\"],[726958,\"\"],[726958,\"\"],[726958,\"\"],[730669,\"\"],[730669,\"\"],[730669,\"\"],[731802,\"Natural Gas Distribution\"],[731802,\"Natural Gas Distribution\"],[731802,\"Natural Gas Distribution\"],[733269,\"Computer Processing and Data Preparation and Processing Services\"],[733269,\"Computer Processing and Data Preparation and Processing Services\"],[733269,\"Computer Processing and Data Preparation and Processing Services\"],[737758,\"Lawn and Garden Tractors and Home Lawn and Garden Equipment (nonpowered lawnmowers)\"],[737758,\"Lawn and Garden Tractors and Home Lawn and Garden Equipment (nonpowered lawnmowers)\"],[737758,\"Lawn and Garden Tractors and Home Lawn and Garden Equipment (nonpowered lawnmowers)\"],[743988,\"Semiconductors and Related Devices\"],[743988,\"Semiconductors and Related Devices\"],[743988,\"Semiconductors and Related Devices\"],[744187,\"Industrial Organic Chemicals\"],[744187,\"Industrial Organic Chemicals\"],[744187,\"Industrial Organic Chemicals\"],[744452,\"Industrial Organic Chemicals\"],[744452,\"Industrial Organic Chemicals\"],[744452,\"Industrial Organic Chemicals\"],[745543,\"Pharmaceutical Preparations\"],[745543,\"Pharmaceutical Preparations\"],[745543,\"Pharmaceutical Preparations\"],[745732,\"Family Clothing Stores\"],[745732,\"Family Clothing Stores\"],[745732,\"Family Clothing Stores\"],[751365,\"Public Building and Related Furniture (seats for motor vehicles)\"],[751365,\"Public Building and Related Furniture (seats for motor vehicles)\"],[751365,\"Public Building and Related Furniture (seats for motor vehicles)\"],[764401,\"Blast Furnace and Basic Steel Products\"],[764401,\"Blast Furnace and Basic Steel Products\"],[764401,\"Blast Furnace and Basic Steel Products\"],[764478,\"Radio, Television, and Consumer Electronics Stores (automobile radios)\"],[764478,\"Radio, Television, and Consumer Electronics Stores (automobile radios)\"],[764478,\"Radio, Television, and Consumer Electronics Stores (automobile radios)\"],[766404,\"\"],[766404,\"\"],[766404,\"\"],[768408,\"Medicinal Chemicals and Botanical Products\"],[768408,\"Medicinal Chemicals and Botanical Products\"],[768408,\"Medicinal Chemicals and Botanical Products\"],[768835,\"Variety Stores\"],[768835,\"Variety Stores\"],[768835,\"Variety Stores\"],[769397,\"Prepackaged Software (mass reproduction of software)\"],[769397,\"Prepackaged Software (mass reproduction of software)\"],[769397,\"Prepackaged Software (mass reproduction of software)\"],[769520,\"Refrigeration and Service Machinery\"],[769520,\"Refrigeration and Service Machinery\"],[769520,\"Refrigeration and Service Machinery\"],[771497,\"Services to Buildings\"],[771497,\"Services to Buildings\"],[771497,\"Services to Buildings\"],[775057,\"\"],[775057,\"\"],[775057,\"\"],[775158,\"Motor Vehicles and Passenger Car Bodies (automobiles)\"],[775158,\"Motor Vehicles and Passenger Car Bodies (automobiles)\"],[775158,\"Motor Vehicles and Passenger Car Bodies (automobiles)\"],[779544,\"Eating Places (dinner theaters)\"],[779544,\"Eating Places (dinner theaters)\"],[779544,\"Eating Places (dinner theaters)\"],[781902,\"General Industrial Machinery and Equipment, NEC (textile fire hose)\"],[781902,\"General Industrial Machinery and Equipment, NEC (textile fire hose)\"],[781902,\"General Industrial Machinery and Equipment, NEC (textile fire hose)\"],[783412,\"Newspapers: Publishing, or Publishing and Printing (except Internet newspaper publishing)\"],[783412,\"Newspapers: Publishing, or Publishing and Printing (except Internet newspaper publishing)\"],[783412,\"Newspapers: Publishing, or Publishing and Printing (except Internet newspaper publishing)\"],[788329,\"Sporting and Athletic Goods, NEC\"],[788329,\"Sporting and Athletic Goods, NEC\"],[788329,\"Sporting and Athletic Goods, NEC\"],[792130,\"Prepackaged Software (mass reproduction of software)\"],[792130,\"Prepackaged Software (mass reproduction of software)\"],[792130,\"Prepackaged Software (mass reproduction of software)\"],[794170,\"Operative Builders (residential operative builders)\"],[794170,\"Operative Builders (residential operative builders)\"],[794170,\"Operative Builders (residential operative builders)\"],[794367,\"Department Stores (except discount department stores and supercenters-general merchandise and groceries)\"],[794367,\"Department Stores (except discount department stores and supercenters-general merchandise and groceries)\"],[794367,\"Department Stores (except discount department stores and supercenters-general merchandise and groceries)\"],[794619,\"Millwork, Plywood & Structural Members\"],[794619,\"Millwork, Plywood & Structural Members\"],[794619,\"Millwork, Plywood & Structural Members\"],[795212,\"Record and Prerecorded Tape Stores\"],[795212,\"Record and Prerecorded Tape Stores\"],[795212,\"Record and Prerecorded Tape Stores\"],[796505,\"Telephone and Telegraph Apparatus (except consumer external modems)\"],[796505,\"Telephone and Telegraph Apparatus (except consumer external modems)\"],[796505,\"Telephone and Telegraph Apparatus (except consumer external modems)\"],[797721,\"Radio and Television Broadcasting and Communications Equipment\"],[797721,\"Radio and Television Broadcasting and Communications Equipment\"],[797721,\"Radio and Television Broadcasting and Communications Equipment\"],[798359,\"Real Estate Investment Trusts\"],[798359,\"Real Estate Investment Trusts\"],[798359,\"Real Estate Investment Trusts\"],[799231,\"Social Services\"],[799231,\"Social Services\"],[799231,\"Social Services\"],[799288,\"\"],[799288,\"\"],[799288,\"\"],[799850,\"\"],[799850,\"\"],[799850,\"\"],[804753,\"Computer Integrated Systems Design\"],[804753,\"Computer Integrated Systems Design\"],[804753,\"Computer Integrated Systems Design\"],[808450,\"Motor Vehicles and Passenger Car Bodies (automobiles)\"],[808450,\"Motor Vehicles and Passenger Car Bodies (automobiles)\"],[808450,\"Motor Vehicles and Passenger Car Bodies (automobiles)\"],[809933,\"Engineering Services\"],[809933,\"Engineering Services\"],[809933,\"Engineering Services\"],[810136,\"Semiconductors and Related Devices\"],[810136,\"Semiconductors and Related Devices\"],[810136,\"Semiconductors and Related Devices\"],[813920,\"Eating Places (dinner theaters)\"],[813920,\"Eating Places (dinner theaters)\"],[813920,\"Eating Places (dinner theaters)\"],[814547,\"Business Services, NEC (tobacco sheeting service)\"],[814547,\"Business Services, NEC (tobacco sheeting service)\"],[814547,\"Business Services, NEC (tobacco sheeting service)\"],[815094,\"Surgical and Medical Instruments and Apparatus (tranquilizer guns)\"],[815094,\"Surgical and Medical Instruments and Apparatus (tranquilizer guns)\"],[815094,\"Surgical and Medical Instruments and Apparatus (tranquilizer guns)\"],[821002,\"Apparel and Other Textile Products\"],[821002,\"Apparel and Other Textile Products\"],[821002,\"Apparel and Other Textile Products\"],[823277,\"Farm-product Raw Materials\"],[823277,\"Farm-product Raw Materials\"],[823277,\"Farm-product Raw Materials\"],[825542,\"Agricultural Chemicals\"],[825542,\"Agricultural Chemicals\"],[825542,\"Agricultural Chemicals\"],[827054,\"Semiconductors and Related Devices\"],[827054,\"Semiconductors and Related Devices\"],[827054,\"Semiconductors and Related Devices\"],[827187,\"Household Furniture\"],[827187,\"Household Furniture\"],[827187,\"Household Furniture\"],[827876,\"\"],[827876,\"\"],[827876,\"\"],[831641,\"Engineering Services\"],[831641,\"Engineering Services\"],[831641,\"Engineering Services\"],[834071,\"\"],[834071,\"\"],[834071,\"\"],[836690,\"Computer Programming Services\"],[836690,\"Computer Programming Services\"],[836690,\"Computer Programming Services\"],[844538,\"\"],[844538,\"\"],[844538,\"\"],[847464,\"Pharmaceutical Preparations\"],[847464,\"Pharmaceutical Preparations\"],[847464,\"Pharmaceutical Preparations\"],[851520,\"Management Consulting Services (administrative management and general management consulting)\"],[851520,\"Management Consulting Services (administrative management and general management consulting)\"],[851520,\"Management Consulting Services (administrative management and general management consulting)\"],[854775,\"\"],[854775,\"\"],[854775,\"\"],[855658,\"Semiconductors and Related Devices\"],[855658,\"Semiconductors and Related Devices\"],[855658,\"Semiconductors and Related Devices\"],[856135,\"Operators of Apartment Buildings\"],[856135,\"Operators of Apartment Buildings\"],[856135,\"Operators of Apartment Buildings\"],[858655,\"Blast Furnace and Basic Steel Products\"],[858655,\"Blast Furnace and Basic Steel Products\"],[858655,\"Blast Furnace and Basic Steel Products\"],[862861,\"\"],[862861,\"\"],[862861,\"\"],[863894,\"Fabricated Rubber Products, NEC\"],[863894,\"Fabricated Rubber Products, NEC\"],[863894,\"Fabricated Rubber Products, NEC\"],[866706,\"Communications Equipment, NEC\"],[866706,\"Communications Equipment, NEC\"],[866706,\"Communications Equipment, NEC\"],[867773,\"Semiconductors and Related Devices\"],[867773,\"Semiconductors and Related Devices\"],[867773,\"Semiconductors and Related Devices\"],[868611,\"Eating Places (dinner theaters)\"],[868611,\"Eating Places (dinner theaters)\"],[868611,\"Eating Places (dinner theaters)\"],[870826,\"Catalog and Mail-Order Houses (electronic shopping web sites)\"],[870826,\"Catalog and Mail-Order Houses (electronic shopping web sites)\"],[870826,\"Catalog and Mail-Order Houses (electronic shopping web sites)\"],[874292,\"Wholesale Trade--Durable Goods\"],[874292,\"Wholesale Trade--Durable Goods\"],[874292,\"Wholesale Trade--Durable Goods\"],[875582,\"Metal Services, Nec\"],[875582,\"Metal Services, Nec\"],[875582,\"Metal Services, Nec\"],[876167,\"Prepackaged Software (mass reproduction of software)\"],[876167,\"Prepackaged Software (mass reproduction of software)\"],[876167,\"Prepackaged Software (mass reproduction of software)\"],[876523,\"\"],[876523,\"\"],[876523,\"\"],[877422,\"Groceries, General Line (merchant wholesalers except those selling general line groceries via retail method)\"],[877422,\"Groceries, General Line (merchant wholesalers except those selling general line groceries via retail method)\"],[877422,\"Groceries, General Line (merchant wholesalers except those selling general line groceries via retail method)\"],[879555,\"\"],[879555,\"\"],[879555,\"\"],[880807,\"Motors and Generators\"],[880807,\"Motors and Generators\"],[880807,\"Motors and Generators\"],[881890,\"Measuring and Controlling Devices, NEC (motor vehicle gauges)\"],[881890,\"Measuring and Controlling Devices, NEC (motor vehicle gauges)\"],[881890,\"Measuring and Controlling Devices, NEC (motor vehicle gauges)\"],[882184,\"Operative Builders (residential operative builders)\"],[882184,\"Operative Builders (residential operative builders)\"],[882184,\"Operative Builders (residential operative builders)\"],[882291,\"Laboratory Analytical Instruments\"],[882291,\"Laboratory Analytical Instruments\"],[882291,\"Laboratory Analytical Instruments\"],[882508,\"Semiconductors and Related Devices\"],[882508,\"Semiconductors and Related Devices\"],[882508,\"Semiconductors and Related Devices\"],[883569,\"Watches, Clocks, Clockwork Operated Devices, and Parts\"],[883569,\"Watches, Clocks, Clockwork Operated Devices, and Parts\"],[883569,\"Watches, Clocks, Clockwork Operated Devices, and Parts\"],[883902,\"Prefabricated Metal Buildings and Components\"],[883902,\"Prefabricated Metal Buildings and Components\"],[883902,\"Prefabricated Metal Buildings and Components\"],[884713,\"Bottled and Canned Soft Drinks and Carbonated Water (except bottled water)\"],[884713,\"Bottled and Canned Soft Drinks and Carbonated Water (except bottled water)\"],[884713,\"Bottled and Canned Soft Drinks and Carbonated Water (except bottled water)\"],[884940,\"Family Clothing Stores\"],[884940,\"Family Clothing Stores\"],[884940,\"Family Clothing Stores\"],[885307,\"Lumber and Other Building Materials Dealers (home center stores)\"],[885307,\"Lumber and Other Building Materials Dealers (home center stores)\"],[885307,\"Lumber and Other Building Materials Dealers (home center stores)\"],[885639,\"Department Stores (except discount department stores and supercenters-general merchandise and groceries)\"],[885639,\"Department Stores (except discount department stores and supercenters-general merchandise and groceries)\"],[885639,\"Department Stores (except discount department stores and supercenters-general merchandise and groceries)\"],[886137,\"Shoe Stores\"],[886137,\"Shoe Stores\"],[886137,\"Shoe Stores\"],[887730,\"Electronic Components and Accessories\"],[887730,\"Electronic Components and Accessories\"],[887730,\"Electronic Components and Accessories\"],[887733,\"Misc. Nondurable Goods\"],[887733,\"Misc. Nondurable Goods\"],[887733,\"Misc. Nondurable Goods\"],[889331,\"Switchgear and Switchboard Apparatus\"],[889331,\"Switchgear and Switchboard Apparatus\"],[889331,\"Switchgear and Switchboard Apparatus\"],[891024,\"Medical, Dental and Hospital Equipment and Supplies (merchant wholesalers except those selling medical, dental, and hospital equipment and supplies via retail method)\"],[891024,\"Medical, Dental and Hospital Equipment and Supplies (merchant wholesalers except those selling medical, dental, and hospital equipment and supplies via retail method)\"],[891024,\"Medical, Dental and Hospital Equipment and Supplies (merchant wholesalers except those selling medical, dental, and hospital equipment and supplies via retail method)\"],[895464,\"Electromedical and Electrotherapeutic Apparatus (except CT and CAT scanners)\"],[895464,\"Electromedical and Electrotherapeutic Apparatus (except CT and CAT scanners)\"],[895464,\"Electromedical and Electrotherapeutic Apparatus (except CT and CAT scanners)\"],[896264,\"Medicinal Chemicals and Botanical Products\"],[896264,\"Medicinal Chemicals and Botanical Products\"],[896264,\"Medicinal Chemicals and Botanical Products\"],[897315,\"Operators of Apartment Buildings\"],[897315,\"Operators of Apartment Buildings\"],[897315,\"Operators of Apartment Buildings\"],[897723,\"Printed Circuit Boards\"],[897723,\"Printed Circuit Boards\"],[897723,\"Printed Circuit Boards\"],[898293,\"Printed Circuit Boards\"],[898293,\"Printed Circuit Boards\"],[898293,\"Printed Circuit Boards\"],[900075,\"\"],[900075,\"\"],[900075,\"\"],[904979,\"Metal Forgings and Stampings\"],[904979,\"Metal Forgings and Stampings\"],[904979,\"Metal Forgings and Stampings\"],[907471,\"Savings Institutions, Federally Chartered\"],[907471,\"Savings Institutions, Federally Chartered\"],[907471,\"Savings Institutions, Federally Chartered\"],[912463,\"Women's and Children's Undergarments\"],[912463,\"Women's and Children's Undergarments\"],[912463,\"Women's and Children's Undergarments\"],[913778,\"\"],[913778,\"\"],[913778,\"\"],[914025,\"Telephone and Telegraph Apparatus (except consumer external modems)\"],[914025,\"Telephone and Telegraph Apparatus (except consumer external modems)\"],[914025,\"Telephone and Telegraph Apparatus (except consumer external modems)\"],[914122,\"Industrial and Commercial Fans and Blowers and Air Purification Equipment (air purification equipment)\"],[914122,\"Industrial and Commercial Fans and Blowers and Air Purification Equipment (air purification equipment)\"],[914122,\"Industrial and Commercial Fans and Blowers and Air Purification Equipment (air purification equipment)\"],[914712,\"Business Services, NEC (tobacco sheeting service)\"],[914712,\"Business Services, NEC (tobacco sheeting service)\"],[914712,\"Business Services, NEC (tobacco sheeting service)\"],[915779,\"Miscellaneous Manufactures\"],[915779,\"Miscellaneous Manufactures\"],[915779,\"Miscellaneous Manufactures\"],[916540,\"Fats and Oils\"],[916540,\"Fats and Oils\"],[916540,\"Fats and Oils\"],[916789,\"Electric Housewares and Fans (wall and baseboard heating units for permanent installation)\"],[916789,\"Electric Housewares and Fans (wall and baseboard heating units for permanent installation)\"],[916789,\"Electric Housewares and Fans (wall and baseboard heating units for permanent installation)\"],[918251,\"Motor Vehicle Parts and Accessories (dump truck lifting mechanisms and fifth wheels)\"],[918251,\"Motor Vehicle Parts and Accessories (dump truck lifting mechanisms and fifth wheels)\"],[918251,\"Motor Vehicle Parts and Accessories (dump truck lifting mechanisms and fifth wheels)\"],[919175,\"Paper and Paper Products\"],[919175,\"Paper and Paper Products\"],[919175,\"Paper and Paper Products\"],[920760,\"Residential Building Construction\"],[920760,\"Residential Building Construction\"],[920760,\"Residential Building Construction\"],[921560,\"\"],[921560,\"\"],[921560,\"\"],[923601,\"Phonograph Records and Prerecorded Audio Tapes and Disks (reproduction of all other media except video)\"],[923601,\"Phonograph Records and Prerecorded Audio Tapes and Disks (reproduction of all other media except video)\"],[923601,\"Phonograph Records and Prerecorded Audio Tapes and Disks (reproduction of all other media except video)\"],[924805,\"Crude Petroleum and Natural Gas\"],[924805,\"Crude Petroleum and Natural Gas\"],[924805,\"Crude Petroleum and Natural Gas\"],[925661,\"Miscellaneous Durable Goods\"],[925661,\"Miscellaneous Durable Goods\"],[925661,\"Miscellaneous Durable Goods\"],[926423,\"Equipment Rental and Leasing, NEC (appliances; TVs, VCRs, and other consumer electronic equipment rental)\"],[926423,\"Equipment Rental and Leasing, NEC (appliances; TVs, VCRs, and other consumer electronic equipment rental)\"],[926423,\"Equipment Rental and Leasing, NEC (appliances; TVs, VCRs, and other consumer electronic equipment rental)\"],[927355,\"Electronic Parts and Equipment, NEC (merchant wholesalers except those selling electronic parts and equipment via retail method)\"],[927355,\"Electronic Parts and Equipment, NEC (merchant wholesalers except those selling electronic parts and equipment via retail method)\"],[927355,\"Electronic Parts and Equipment, NEC (merchant wholesalers except those selling electronic parts and equipment via retail method)\"],[927653,\"Drugs, Drug Proprietaries, and Druggists\\u2019 Sundries (merchant wholesalers except those selling drugs and sundries via retail method)\"],[927653,\"Drugs, Drug Proprietaries, and Druggists\\u2019 Sundries (merchant wholesalers except those selling drugs and sundries via retail method)\"],[927653,\"Drugs, Drug Proprietaries, and Druggists\\u2019 Sundries (merchant wholesalers except those selling drugs and sundries via retail method)\"],[930775,\"Surgical and Medical Instruments and Apparatus (tranquilizer guns)\"],[930775,\"Surgical and Medical Instruments and Apparatus (tranquilizer guns)\"],[930775,\"Surgical and Medical Instruments and Apparatus (tranquilizer guns)\"],[933974,\"Special Industry Machinery, NEC (nuclear control rod drive mechanisms)\"],[933974,\"Special Industry Machinery, NEC (nuclear control rod drive mechanisms)\"],[933974,\"Special Industry Machinery, NEC (nuclear control rod drive mechanisms)\"],[935419,\"\"],[935419,\"\"],[935419,\"\"],[936395,\"Telephone and Telegraph Apparatus (except consumer external modems)\"],[936395,\"Telephone and Telegraph Apparatus (except consumer external modems)\"],[936395,\"Telephone and Telegraph Apparatus (except consumer external modems)\"],[936528,\"Savings Institutions, Federally Chartered\"],[936528,\"Savings Institutions, Federally Chartered\"],[936528,\"Savings Institutions, Federally Chartered\"],[939930,\"Farm-product Raw Materials\"],[939930,\"Farm-product Raw Materials\"],[939930,\"Farm-product Raw Materials\"],[1000045,\"Short-Term Business Credit Institutions, Except Agricultural (credit card issuing)\"],[1000045,\"Short-Term Business Credit Institutions, Except Agricultural (credit card issuing)\"],[1000045,\"Short-Term Business Credit Institutions, Except Agricultural (credit card issuing)\"],[1001039,\"Cable and Other Pay Television Services (cable networks)\"],[1001039,\"Cable and Other Pay Television Services (cable networks)\"],[1001039,\"Cable and Other Pay Television Services (cable networks)\"],[1001115,\"Measuring and Controlling Devices, NEC (motor vehicle gauges)\"],[1001115,\"Measuring and Controlling Devices, NEC (motor vehicle gauges)\"],[1001115,\"Measuring and Controlling Devices, NEC (motor vehicle gauges)\"],[1001258,\"Short-Term Business Credit Institutions, Except Agricultural (credit card issuing)\"],[1001258,\"Short-Term Business Credit Institutions, Except Agricultural (credit card issuing)\"],[1001258,\"Short-Term Business Credit Institutions, Except Agricultural (credit card issuing)\"],[1001902,\"Special Industry Machinery, NEC (nuclear control rod drive mechanisms)\"],[1001902,\"Special Industry Machinery, NEC (nuclear control rod drive mechanisms)\"],[1001902,\"Special Industry Machinery, NEC (nuclear control rod drive mechanisms)\"],[1002135,\"Telephone and Telegraph Apparatus (except consumer external modems)\"],[1002135,\"Telephone and Telegraph Apparatus (except consumer external modems)\"],[1002135,\"Telephone and Telegraph Apparatus (except consumer external modems)\"],[1002517,\"Prepackaged Software (mass reproduction of software)\"],[1002517,\"Prepackaged Software (mass reproduction of software)\"],[1002517,\"Prepackaged Software (mass reproduction of software)\"],[1002590,\"\"],[1002590,\"\"],[1002590,\"\"],[1003078,\"Industrial Machinery and Equipment (merchant wholesalers)\"],[1003078,\"Industrial Machinery and Equipment (merchant wholesalers)\"],[1003078,\"Industrial Machinery and Equipment (merchant wholesalers)\"],[1005210,\"\"],[1005210,\"\"],[1005210,\"\"],[1005229,\"Construction Machinery and Equipment (except railway track maintenance equipment; winches, aerial work platforms; and automotive wrecker hoists)\"],[1005229,\"Construction Machinery and Equipment (except railway track maintenance equipment; winches, aerial work platforms; and automotive wrecker hoists)\"],[1005229,\"Construction Machinery and Equipment (except railway track maintenance equipment; winches, aerial work platforms; and automotive wrecker hoists)\"],[1006028,\"Miscellaneous Chemical Products\"],[1006028,\"Miscellaneous Chemical Products\"],[1006028,\"Miscellaneous Chemical Products\"],[1006045,\"Electromedical and Electrotherapeutic Apparatus (except CT and CAT scanners)\"],[1006045,\"Electromedical and Electrotherapeutic Apparatus (except CT and CAT scanners)\"],[1006045,\"Electromedical and Electrotherapeutic Apparatus (except CT and CAT scanners)\"],[1008579,\"\"],[1008579,\"\"],[1008579,\"\"],[1008586,\"Computer Integrated Systems Design\"],[1008586,\"Computer Integrated Systems Design\"],[1008586,\"Computer Integrated Systems Design\"],[1009759,\"Engines and Turbines\"],[1009759,\"Engines and Turbines\"],[1009759,\"Engines and Turbines\"],[1016178,\"Savings Institutions, Federally Chartered\"],[1016178,\"Savings Institutions, Federally Chartered\"],[1016178,\"Savings Institutions, Federally Chartered\"],[1017303,\"Computer Peripheral Equipment, NEC (except plotter controllers and magnetic tape head cleaners)\"],[1017303,\"Computer Peripheral Equipment, NEC (except plotter controllers and magnetic tape head cleaners)\"],[1017303,\"Computer Peripheral Equipment, NEC (except plotter controllers and magnetic tape head cleaners)\"],[1017480,\"\"],[1017480,\"\"],[1017480,\"\"],[1018840,\"Family Clothing Stores\"],[1018840,\"Family Clothing Stores\"],[1018840,\"Family Clothing Stores\"],[1021162,\"Aircraft and Parts\"],[1021162,\"Aircraft and Parts\"],[1021162,\"Aircraft and Parts\"],[1022505,\"Semiconductors and Related Devices\"],[1022505,\"Semiconductors and Related Devices\"],[1022505,\"Semiconductors and Related Devices\"],[1023731,\"Telephone Communications, Except Radiotelephone (except resellers)\"],[1023731,\"Telephone Communications, Except Radiotelephone (except resellers)\"],[1023731,\"Telephone Communications, Except Radiotelephone (except resellers)\"],[1023844,\"Security And Commodity Brokers\"],[1023844,\"Security And Commodity Brokers\"],[1023844,\"Security And Commodity Brokers\"],[1024795,\"Misc. Fabricated Metal Products\"],[1024795,\"Misc. Fabricated Metal Products\"],[1024795,\"Misc. Fabricated Metal Products\"],[1029800,\"Real Estate Investment Trusts\"],[1029800,\"Real Estate Investment Trusts\"],[1029800,\"Real Estate Investment Trusts\"],[1031093,\"Metal Mining\"],[1031093,\"Metal Mining\"],[1031093,\"Metal Mining\"],[1036188,\"Prepackaged Software (mass reproduction of software)\"],[1036188,\"Prepackaged Software (mass reproduction of software)\"],[1036188,\"Prepackaged Software (mass reproduction of software)\"],[1037038,\"Men's and Boys' Furnishings\"],[1037038,\"Men's and Boys' Furnishings\"],[1037038,\"Men's and Boys' Furnishings\"],[1041368,\"Savings Institutions, Federally Chartered\"],[1041368,\"Savings Institutions, Federally Chartered\"],[1041368,\"Savings Institutions, Federally Chartered\"],[1041859,\"Family Clothing Stores\"],[1041859,\"Family Clothing Stores\"],[1041859,\"Family Clothing Stores\"],[1043156,\"Eating Places (dinner theaters)\"],[1043156,\"Eating Places (dinner theaters)\"],[1043156,\"Eating Places (dinner theaters)\"],[1045742,\"Computer Programming Services\"],[1045742,\"Computer Programming Services\"],[1045742,\"Computer Programming Services\"],[1045810,\"Semiconductors and Related Devices\"],[1045810,\"Semiconductors and Related Devices\"],[1045810,\"Semiconductors and Related Devices\"],[1046050,\"Savings Institutions, Not Federally Chartered\"],[1046050,\"Savings Institutions, Not Federally Chartered\"],[1046050,\"Savings Institutions, Not Federally Chartered\"],[1047340,\"Agrigultural Production - Crops\"],[1047340,\"Agrigultural Production - Crops\"],[1047340,\"Agrigultural Production - Crops\"],[1048695,\"\"],[1048695,\"\"],[1048695,\"\"],[1056757,\"Refrigeration and Service Machinery\"],[1056757,\"Refrigeration and Service Machinery\"],[1056757,\"Refrigeration and Service Machinery\"],[1061164,\"General Industrial Machinery and Equipment, NEC (textile fire hose)\"],[1061164,\"General Industrial Machinery and Equipment, NEC (textile fire hose)\"],[1061164,\"General Industrial Machinery and Equipment, NEC (textile fire hose)\"],[1065598,\"Computer and Office Equipment\"],[1065598,\"Computer and Office Equipment\"],[1065598,\"Computer and Office Equipment\"],[1067873,\"Aircraft Parts and Auxiliary Equipment, NEC (fluid power aircraft subassemblies)\"],[1067873,\"Aircraft Parts and Auxiliary Equipment, NEC (fluid power aircraft subassemblies)\"],[1067873,\"Aircraft Parts and Auxiliary Equipment, NEC (fluid power aircraft subassemblies)\"],[1071840,\"Industrial Organic Chemicals\"],[1071840,\"Industrial Organic Chemicals\"],[1071840,\"Industrial Organic Chemicals\"],[1074871,\"\"],[1074871,\"\"],[1074871,\"\"],[1084332,\"Advertising\"],[1084332,\"Advertising\"],[1084332,\"Advertising\"],[1084580,\"Security Brokers, Dealers, and Flotation Companies (security dealers and underwriters)\"],[1084580,\"Security Brokers, Dealers, and Flotation Companies (security dealers and underwriters)\"],[1084580,\"Security Brokers, Dealers, and Flotation Companies (security dealers and underwriters)\"],[1088005,\"Business Services, NEC (tobacco sheeting service)\"],[1088005,\"Business Services, NEC (tobacco sheeting service)\"],[1088005,\"Business Services, NEC (tobacco sheeting service)\"],[1090061,\"Fabricated Rubber Products, NEC\"],[1090061,\"Fabricated Rubber Products, NEC\"],[1090061,\"Fabricated Rubber Products, NEC\"],[1096752,\"Misc. Electrical Equipment & Supplies\"],[1096752,\"Misc. Electrical Equipment & Supplies\"],[1096752,\"Misc. Electrical Equipment & Supplies\"],[1099369,\"Prepackaged Software (mass reproduction of software)\"],[1099369,\"Prepackaged Software (mass reproduction of software)\"],[1099369,\"Prepackaged Software (mass reproduction of software)\"],[1099941,\"\"],[1099941,\"\"],[1099941,\"\"],[1100397,\"Pharmaceutical Preparations\"],[1100397,\"Pharmaceutical Preparations\"],[1100397,\"Pharmaceutical Preparations\"],[1101396,\"Apparel, Piece Goods, and Notions\"],[1101396,\"Apparel, Piece Goods, and Notions\"],[1101396,\"Apparel, Piece Goods, and Notions\"],[1102934,\"Semiconductors and Related Devices\"],[1102934,\"Semiconductors and Related Devices\"],[1102934,\"Semiconductors and Related Devices\"],[1103601,\"Natural Gas Distribution\"],[1103601,\"Natural Gas Distribution\"],[1103601,\"Natural Gas Distribution\"],[1113256,\"Motor Vehicle Parts and Accessories (dump truck lifting mechanisms and fifth wheels)\"],[1113256,\"Motor Vehicle Parts and Accessories (dump truck lifting mechanisms and fifth wheels)\"],[1113256,\"Motor Vehicle Parts and Accessories (dump truck lifting mechanisms and fifth wheels)\"],[1123596,\"Bakery Products\"],[1123596,\"Bakery Products\"],[1123596,\"Bakery Products\"],[1124941,\"Lumber and Construction Materials\"],[1124941,\"Lumber and Construction Materials\"],[1124941,\"Lumber and Construction Materials\"],[1126741,\"Semiconductors and Related Devices\"],[1126741,\"Semiconductors and Related Devices\"],[1126741,\"Semiconductors and Related Devices\"],[1128383,\"\"],[1128383,\"\"],[1128383,\"\"],[1133062,\"Business Services, NEC (tobacco sheeting service)\"],[1133062,\"Business Services, NEC (tobacco sheeting service)\"],[1133062,\"Business Services, NEC (tobacco sheeting service)\"],[1133470,\"Agricultural Services\"],[1133470,\"Agricultural Services\"],[1133470,\"Agricultural Services\"],[1137411,\"Aircraft Parts and Auxiliary Equipment, NEC (fluid power aircraft subassemblies)\"],[1137411,\"Aircraft Parts and Auxiliary Equipment, NEC (fluid power aircraft subassemblies)\"],[1137411,\"Aircraft Parts and Auxiliary Equipment, NEC (fluid power aircraft subassemblies)\"],[1140859,\"Drugs, Drug Proprietaries, and Druggists\\u2019 Sundries (merchant wholesalers except those selling drugs and sundries via retail method)\"],[1140859,\"Drugs, Drug Proprietaries, and Druggists\\u2019 Sundries (merchant wholesalers except those selling drugs and sundries via retail method)\"],[1140859,\"Drugs, Drug Proprietaries, and Druggists\\u2019 Sundries (merchant wholesalers except those selling drugs and sundries via retail method)\"],[1142790,\"\"],[1142790,\"\"],[1142790,\"\"],[1156388,\"\"],[1156388,\"\"],[1156388,\"\"],[1158420,\"\"],[1158420,\"\"],[1158420,\"\"],[1158449,\"Auto and Home Supply Stores (auto supply stores)\"],[1158449,\"Auto and Home Supply Stores (auto supply stores)\"],[1158449,\"Auto and Home Supply Stores (auto supply stores)\"],[1159167,\"Household Appliances\"],[1159167,\"Household Appliances\"],[1159167,\"Household Appliances\"],[1164256,\"Crude Petroleum and Natural Gas\"],[1164256,\"Crude Petroleum and Natural Gas\"],[1164256,\"Crude Petroleum and Natural Gas\"],[1164888,\"Pharmaceutical Preparations\"],[1164888,\"Pharmaceutical Preparations\"],[1164888,\"Pharmaceutical Preparations\"],[1165320,\"\"],[1165320,\"\"],[1165320,\"\"],[1166126,\"Department Stores (except discount department stores and supercenters-general merchandise and groceries)\"],[1166126,\"Department Stores (except discount department stores and supercenters-general merchandise and groceries)\"],[1166126,\"Department Stores (except discount department stores and supercenters-general merchandise and groceries)\"],[1166388,\"Computer Integrated Systems Design\"],[1166388,\"Computer Integrated Systems Design\"],[1166388,\"Computer Integrated Systems Design\"],[1169561,\"Prepackaged Software (mass reproduction of software)\"],[1169561,\"Prepackaged Software (mass reproduction of software)\"],[1169561,\"Prepackaged Software (mass reproduction of software)\"],[1170010,\"\"],[1170010,\"\"],[1170010,\"\"],[1171838,\"\"],[1171838,\"\"],[1171838,\"\"],[1172178,\"Metal Mining\"],[1172178,\"Metal Mining\"],[1172178,\"Metal Mining\"],[1173204,\"Business Services, NEC (tobacco sheeting service)\"],[1173204,\"Business Services, NEC (tobacco sheeting service)\"],[1173204,\"Business Services, NEC (tobacco sheeting service)\"],[1173420,\"Gold and Silver Ores\"],[1173420,\"Gold and Silver Ores\"],[1173420,\"Gold and Silver Ores\"],[1173431,\"Security Brokers, Dealers, and Flotation Companies (security dealers and underwriters)\"],[1173431,\"Security Brokers, Dealers, and Flotation Companies (security dealers and underwriters)\"],[1173431,\"Security Brokers, Dealers, and Flotation Companies (security dealers and underwriters)\"],[1176309,\"Pharmaceutical Preparations\"],[1176309,\"Pharmaceutical Preparations\"],[1176309,\"Pharmaceutical Preparations\"],[1177394,\"Computers and Computer Peripheral Equipment and Software (merchant wholesalers except those selling computers, equipment, and software via retail method)\"],[1177394,\"Computers and Computer Peripheral Equipment and Software (merchant wholesalers except those selling computers, equipment, and software via retail method)\"],[1177394,\"Computers and Computer Peripheral Equipment and Software (merchant wholesalers except those selling computers, equipment, and software via retail method)\"],[1177609,\"Variety Stores\"],[1177609,\"Variety Stores\"],[1177609,\"Variety Stores\"],[1177648,\"Pharmaceutical Preparations\"],[1177648,\"Pharmaceutical Preparations\"],[1177648,\"Pharmaceutical Preparations\"],[1181749,\"\"],[1181749,\"\"],[1181749,\"\"],[1190370,\"Misc. Fabricated Textile Products\"],[1190370,\"Misc. Fabricated Textile Products\"],[1190370,\"Misc. Fabricated Textile Products\"],[1206942,\"\"],[1206942,\"\"],[1206942,\"\"],[1216752,\"\"],[1216752,\"\"],[1216752,\"\"],[1222333,\"\"],[1222333,\"\"],[1222333,\"\"],[1223389,\"Radio, Television, and Consumer Electronics Stores (automobile radios)\"],[1223389,\"Radio, Television, and Consumer Electronics Stores (automobile radios)\"],[1223389,\"Radio, Television, and Consumer Electronics Stores (automobile radios)\"],[1261654,\"Educational Services\"],[1261654,\"Educational Services\"],[1261654,\"Educational Services\"],[1267425,\"\"],[1267425,\"\"],[1267425,\"\"],[1278752,\"\"],[1278752,\"\"],[1278752,\"\"],[1288750,\"Gold and Silver Ores\"],[1288750,\"Gold and Silver Ores\"],[1288750,\"Gold and Silver Ores\"],[1289308,\"Electrical Apparatus and Equipment, Wiring Supplies and Construction Materials (merchant wholesalers except those selling electrical supplies, equipment, and apparatus via retail method)\"],[1289308,\"Electrical Apparatus and Equipment, Wiring Supplies and Construction Materials (merchant wholesalers except those selling electrical supplies, equipment, and apparatus via retail method)\"],[1289308,\"Electrical Apparatus and Equipment, Wiring Supplies and Construction Materials (merchant wholesalers except those selling electrical supplies, equipment, and apparatus via retail method)\"],[1295947,\"Pharmaceutical Preparations\"],[1295947,\"Pharmaceutical Preparations\"],[1295947,\"Pharmaceutical Preparations\"],[1301991,\"\"],[1301991,\"\"],[1301991,\"\"],[1302215,\"\"],[1302215,\"\"],[1302215,\"\"],[1304280,\"Nonferrous Rolling and Drawing\"],[1304280,\"Nonferrous Rolling and Drawing\"],[1304280,\"Nonferrous Rolling and Drawing\"],[1304730,\"Metal Mining\"],[1304730,\"Metal Mining\"],[1304730,\"Metal Mining\"],[1308569,\"\"],[1308569,\"\"],[1308569,\"\"],[1310067,\"Department Stores (except discount department stores and supercenters-general merchandise and groceries)\"],[1310067,\"Department Stores (except discount department stores and supercenters-general merchandise and groceries)\"],[1310067,\"Department Stores (except discount department stores and supercenters-general merchandise and groceries)\"],[1310630,\"\"],[1310630,\"\"],[1310630,\"\"],[1311538,\"Beverages\"],[1311538,\"Beverages\"],[1311538,\"Beverages\"],[1319161,\"Amusement & Recreation Services\"],[1319161,\"Amusement & Recreation Services\"],[1319161,\"Amusement & Recreation Services\"],[1319947,\"Shoe Stores\"],[1319947,\"Shoe Stores\"],[1319947,\"Shoe Stores\"],[1322505,\"Pharmaceutical Preparations\"],[1322505,\"Pharmaceutical Preparations\"],[1322505,\"Pharmaceutical Preparations\"],[1325740,\"\"],[1325740,\"\"],[1325740,\"\"],[1326205,\"Metal Mining\"],[1326205,\"Metal Mining\"],[1326205,\"Metal Mining\"],[1327811,\"Computer Processing and Data Preparation and Processing Services\"],[1327811,\"Computer Processing and Data Preparation and Processing Services\"],[1327811,\"Computer Processing and Data Preparation and Processing Services\"],[1328792,\"\"],[1328792,\"\"],[1328792,\"\"],[1333822,\"Semiconductors and Related Devices\"],[1333822,\"Semiconductors and Related Devices\"],[1333822,\"Semiconductors and Related Devices\"],[1334933,\"Miscellaneous Metal Ores\"],[1334933,\"Miscellaneous Metal Ores\"],[1334933,\"Miscellaneous Metal Ores\"],[1337068,\"Savings Institutions, Federally Chartered\"],[1337068,\"Savings Institutions, Federally Chartered\"],[1337068,\"Savings Institutions, Federally Chartered\"],[1339947,\"Cable and Other Pay Television Services (cable networks)\"],[1339947,\"Cable and Other Pay Television Services (cable networks)\"],[1339947,\"Cable and Other Pay Television Services (cable networks)\"],[1341439,\"Prepackaged Software (mass reproduction of software)\"],[1341439,\"Prepackaged Software (mass reproduction of software)\"],[1341439,\"Prepackaged Software (mass reproduction of software)\"],[1343009,\"Metal Mining\"],[1343009,\"Metal Mining\"],[1343009,\"Metal Mining\"],[1346022,\"Metal Mining\"],[1346022,\"Metal Mining\"],[1346022,\"Metal Mining\"],[1348362,\"Metal Mining\"],[1348362,\"Metal Mining\"],[1348362,\"Metal Mining\"],[1350420,\"\"],[1350420,\"\"],[1350420,\"\"],[1350593,\"Misc. Fabricated Metal Products\"],[1350593,\"Misc. Fabricated Metal Products\"],[1350593,\"Misc. Fabricated Metal Products\"],[1352081,\"\"],[1352081,\"\"],[1352081,\"\"],[1353283,\"Prepackaged Software (mass reproduction of software)\"],[1353283,\"Prepackaged Software (mass reproduction of software)\"],[1353283,\"Prepackaged Software (mass reproduction of software)\"],[1353406,\"Crude Petroleum and Natural Gas\"],[1353406,\"Crude Petroleum and Natural Gas\"],[1353406,\"Crude Petroleum and Natural Gas\"],[1353633,\"\"],[1353633,\"\"],[1353633,\"\"],[1354327,\"Metal Doors, Sash, Frames, Molding, and Trim\"],[1354327,\"Metal Doors, Sash, Frames, Molding, and Trim\"],[1354327,\"Metal Doors, Sash, Frames, Molding, and Trim\"],[1354866,\"\"],[1354866,\"\"],[1354866,\"\"],[1358654,\"Metal Mining\"],[1358654,\"Metal Mining\"],[1358654,\"Metal Mining\"],[1359687,\"\"],[1359687,\"\"],[1359687,\"\"],[1362516,\"\"],[1362516,\"\"],[1362516,\"\"],[1368458,\"\"],[1368458,\"\"],[1368458,\"\"],[1368622,\"Aircraft (except research and development not producing prototypes)\"],[1368622,\"Aircraft (except research and development not producing prototypes)\"],[1368622,\"Aircraft (except research and development not producing prototypes)\"],[1370450,\"Engineering Services\"],[1370450,\"Engineering Services\"],[1370450,\"Engineering Services\"],[1371451,\"\"],[1371451,\"\"],[1371451,\"\"],[1372183,\"Advertising\"],[1372183,\"Advertising\"],[1372183,\"Advertising\"],[1373690,\"\"],[1373690,\"\"],[1373690,\"\"],[1374567,\"Household Furniture\"],[1374567,\"Household Furniture\"],[1374567,\"Household Furniture\"],[1375063,\"\"],[1375063,\"\"],[1375063,\"\"],[1375618,\"Gold and Silver Ores\"],[1375618,\"Gold and Silver Ores\"],[1375618,\"Gold and Silver Ores\"],[1376793,\"\"],[1376793,\"\"],[1376793,\"\"],[1376986,\"\"],[1376986,\"\"],[1376986,\"\"],[1377167,\"\"],[1377167,\"\"],[1377167,\"\"],[1377936,\"\"],[1377936,\"\"],[1377936,\"\"],[1378590,\"Prepackaged Software (mass reproduction of software)\"],[1378590,\"Prepackaged Software (mass reproduction of software)\"],[1378590,\"Prepackaged Software (mass reproduction of software)\"],[1378950,\"Auto and Home Supply Stores (auto supply stores)\"],[1378950,\"Auto and Home Supply Stores (auto supply stores)\"],[1378950,\"Auto and Home Supply Stores (auto supply stores)\"],[1381668,\"Savings Institutions, Federally Chartered\"],[1381668,\"Savings Institutions, Federally Chartered\"],[1381668,\"Savings Institutions, Federally Chartered\"],[1382231,\"Dolls and Stuffed Toys\"],[1382231,\"Dolls and Stuffed Toys\"],[1382231,\"Dolls and Stuffed Toys\"],[1383097,\"\"],[1383097,\"\"],[1383097,\"\"],[1383414,\"\"],[1383414,\"\"],[1383414,\"\"],[1385329,\"Metal Mining\"],[1385329,\"Metal Mining\"],[1385329,\"Metal Mining\"],[1385799,\"Orthopedic, Prosthetic, and Surgical Appliances and Supplies (incontinent pads and bed pads)\"],[1385799,\"Orthopedic, Prosthetic, and Surgical Appliances and Supplies (incontinent pads and bed pads)\"],[1385799,\"Orthopedic, Prosthetic, and Surgical Appliances and Supplies (incontinent pads and bed pads)\"],[1392363,\"Special Trade Contractors\"],[1392363,\"Special Trade Contractors\"],[1392363,\"Special Trade Contractors\"],[1397187,\"Apparel and Other Textile Products\"],[1397187,\"Apparel and Other Textile Products\"],[1397187,\"Apparel and Other Textile Products\"],[1400683,\"\"],[1400683,\"\"],[1400683,\"\"],[1403431,\"Sanitary Services\"],[1403431,\"Sanitary Services\"],[1403431,\"Sanitary Services\"],[1403570,\"Metal Mining\"],[1403570,\"Metal Mining\"],[1403570,\"Metal Mining\"],[1404079,\"Drilling Oil and Gas Wells\"],[1404079,\"Drilling Oil and Gas Wells\"],[1404079,\"Drilling Oil and Gas Wells\"],[1405660,\"Telephone Communications, Except Radiotelephone (except resellers)\"],[1405660,\"Telephone Communications, Except Radiotelephone (except resellers)\"],[1405660,\"Telephone Communications, Except Radiotelephone (except resellers)\"],[1407583,\"Metal Mining\"],[1407583,\"Metal Mining\"],[1407583,\"Metal Mining\"],[1409446,\"\"],[1409446,\"\"],[1409446,\"\"],[1411488,\"\"],[1411488,\"\"],[1411488,\"\"],[1412659,\"\"],[1412659,\"\"],[1412659,\"\"],[1413488,\"Biological Products, Except Diagnostic Substances\"],[1413488,\"Biological Products, Except Diagnostic Substances\"],[1413488,\"Biological Products, Except Diagnostic Substances\"],[1415744,\"\"],[1415744,\"\"],[1415744,\"\"],[1417398,\"Miscellaneous Manufactures\"],[1417398,\"Miscellaneous Manufactures\"],[1417398,\"Miscellaneous Manufactures\"],[1421907,\"Metal Mining\"],[1421907,\"Metal Mining\"],[1421907,\"Metal Mining\"],[1422768,\"\"],[1422768,\"\"],[1422768,\"\"],[1423579,\"\"],[1423579,\"\"],[1423579,\"\"],[1424404,\"Metal Mining\"],[1424404,\"Metal Mining\"],[1424404,\"Metal Mining\"],[1424844,\"\"],[1424844,\"\"],[1424844,\"\"],[1428336,\"\"],[1428336,\"\"],[1428336,\"\"],[1428389,\"Metal Mining\"],[1428389,\"Metal Mining\"],[1428389,\"Metal Mining\"],[1430523,\"Real Estate Agents and Managers (operating housing authorities)\"],[1430523,\"Real Estate Agents and Managers (operating housing authorities)\"],[1430523,\"Real Estate Agents and Managers (operating housing authorities)\"],[1435064,\"Measuring and Controlling Devices, NEC (motor vehicle gauges)\"],[1435064,\"Measuring and Controlling Devices, NEC (motor vehicle gauges)\"],[1435064,\"Measuring and Controlling Devices, NEC (motor vehicle gauges)\"],[1435508,\"Savings Institutions, Federally Chartered\"],[1435508,\"Savings Institutions, Federally Chartered\"],[1435508,\"Savings Institutions, Federally Chartered\"],[1437750,\"Business Services, NEC (tobacco sheeting service)\"],[1437750,\"Business Services, NEC (tobacco sheeting service)\"],[1437750,\"Business Services, NEC (tobacco sheeting service)\"],[1438461,\"Miscellaneous Metal Ores\"],[1438461,\"Miscellaneous Metal Ores\"],[1438461,\"Miscellaneous Metal Ores\"],[1438901,\"\"],[1438901,\"\"],[1438901,\"\"],[1443388,\"Metal Mining\"],[1443388,\"Metal Mining\"],[1443388,\"Metal Mining\"],[1444307,\"Business Services, NEC (tobacco sheeting service)\"],[1444307,\"Business Services, NEC (tobacco sheeting service)\"],[1444307,\"Business Services, NEC (tobacco sheeting service)\"],[1446687,\"\"],[1446687,\"\"],[1446687,\"\"],[1448558,\"Communications Equipment, NEC\"],[1448558,\"Communications Equipment, NEC\"],[1448558,\"Communications Equipment, NEC\"],[1449447,\"\"],[1449447,\"\"],[1449447,\"\"],[1451448,\"Household Audio and Video Equipment\"],[1451448,\"Household Audio and Video Equipment\"],[1451448,\"Household Audio and Video Equipment\"],[1456802,\"Real Estate\"],[1456802,\"Real Estate\"],[1456802,\"Real Estate\"],[1458023,\"\"],[1458023,\"\"],[1458023,\"\"],[1464165,\"Pharmaceutical Preparations\"],[1464165,\"Pharmaceutical Preparations\"],[1464165,\"Pharmaceutical Preparations\"],[1467373,\"Business Services, NEC (tobacco sheeting service)\"],[1467373,\"Business Services, NEC (tobacco sheeting service)\"],[1467373,\"Business Services, NEC (tobacco sheeting service)\"],[1471727,\"\"],[1471727,\"\"],[1471727,\"\"],[1472468,\"Transportation Services\"],[1472468,\"Transportation Services\"],[1472468,\"Transportation Services\"],[1473490,\"\"],[1473490,\"\"],[1473490,\"\"],[1476765,\"\"],[1476765,\"\"],[1476765,\"\"],[1479000,\"\"],[1479000,\"\"],[1479000,\"\"],[1483510,\"\"],[1483510,\"\"],[1483510,\"\"],[1490349,\"\"],[1490349,\"\"],[1490349,\"\"],[1490906,\"Savings Institutions, Federally Chartered\"],[1490906,\"Savings Institutions, Federally Chartered\"],[1490906,\"Savings Institutions, Federally Chartered\"],[1497253,\"Biological Products, Except Diagnostic Substances\"],[1497253,\"Biological Products, Except Diagnostic Substances\"],[1497253,\"Biological Products, Except Diagnostic Substances\"],[1497649,\"Drilling Oil and Gas Wells\"],[1497649,\"Drilling Oil and Gas Wells\"],[1497649,\"Drilling Oil and Gas Wells\"],[1500242,\"\"],[1500242,\"\"],[1500242,\"\"],[1500305,\"\"],[1500305,\"\"],[1500305,\"\"],[1504461,\"\"],[1504461,\"\"],[1504461,\"\"],[1505367,\"\"],[1505367,\"\"],[1505367,\"\"],[1506251,\"\"],[1506251,\"\"],[1506251,\"\"],[1508348,\"\"],[1508348,\"\"],[1508348,\"\"],[1509261,\"\"],[1509261,\"\"],[1509261,\"\"],[1509786,\"Residential Building Construction\"],[1509786,\"Residential Building Construction\"],[1509786,\"Residential Building Construction\"],[1511820,\"\"],[1511820,\"\"],[1511820,\"\"],[1512886,\"\"],[1512886,\"\"],[1512886,\"\"],[1513403,\"\"],[1513403,\"\"],[1513403,\"\"],[1516079,\"\"],[1516079,\"\"],[1516079,\"\"],[1520118,\"\"],[1520118,\"\"],[1520118,\"\"],[1524025,\"\"],[1524025,\"\"],[1524025,\"\"],[1524829,\"\"],[1524829,\"\"],[1524829,\"\"],[1525769,\"\"],[1525769,\"\"],[1525769,\"\"],[1526689,\"Refrigeration and Service Machinery\"],[1526689,\"Refrigeration and Service Machinery\"],[1526689,\"Refrigeration and Service Machinery\"],[1527613,\"\"],[1527613,\"\"],[1527613,\"\"],[1528308,\"\"],[1528308,\"\"],[1528308,\"\"],[1528697,\"\"],[1528697,\"\"],[1528697,\"\"],[1528849,\"Furniture Stores (custom wood cabinets)\"],[1528849,\"Furniture Stores (custom wood cabinets)\"],[1528849,\"Furniture Stores (custom wood cabinets)\"],[1528930,\"Personal Services\"],[1528930,\"Personal Services\"],[1528930,\"Personal Services\"],[1530163,\"\"],[1530163,\"\"],[1530163,\"\"],[1530185,\"\"],[1530185,\"\"],[1530185,\"\"],[1530950,\"Grain Mill Products\"],[1530950,\"Grain Mill Products\"],[1530950,\"Grain Mill Products\"],[1532390,\"Groceries and Related Products\"],[1532390,\"Groceries and Related Products\"],[1532390,\"Groceries and Related Products\"],[1535635,\"\"],[1535635,\"\"],[1535635,\"\"],[1537561,\"Auto and Home Supply Stores (auto supply stores)\"],[1537561,\"Auto and Home Supply Stores (auto supply stores)\"],[1537561,\"Auto and Home Supply Stores (auto supply stores)\"],[1539680,\"\"],[1539680,\"\"],[1539680,\"\"],[1539778,\"\"],[1539778,\"\"],[1539778,\"\"],[1540159,\"\"],[1540159,\"\"],[1540159,\"\"],[1543066,\"\"],[1543066,\"\"],[1543066,\"\"],[1550053,\"\"],[1550053,\"\"],[1550053,\"\"],[1551887,\"Metal Mining\"],[1551887,\"Metal Mining\"],[1551887,\"Metal Mining\"],[1552164,\"\"],[1552164,\"\"],[1552164,\"\"],[1552358,\"\"],[1552358,\"\"],[1552358,\"\"],[1556416,\"\"],[1556416,\"\"],[1556416,\"\"],[1556801,\"\"],[1556801,\"\"],[1556801,\"\"],[1557798,\"Crude Petroleum and Natural Gas\"],[1557798,\"Crude Petroleum and Natural Gas\"],[1557798,\"Crude Petroleum and Natural Gas\"],[1568969,\"\"],[1568969,\"\"],[1568969,\"\"],[1569568,\"\"],[1569568,\"\"],[1569568,\"\"],[1570132,\"\"],[1570132,\"\"],[1570132,\"\"],[1571371,\"\"],[1571371,\"\"],[1571371,\"\"],[1572384,\"\"],[1572384,\"\"],[1572384,\"\"],[1574863,\"\"],[1574863,\"\"],[1574863,\"\"],[1575295,\"\"],[1575295,\"\"],[1575295,\"\"],[1575420,\"\"],[1575420,\"\"],[1575420,\"\"],[1575659,\"\"],[1575659,\"\"],[1575659,\"\"],[1575858,\"\"],[1575858,\"\"],[1575858,\"\"],[1576873,\"\"],[1576873,\"\"],[1576873,\"\"],[1577134,\"\"],[1577134,\"\"],[1577134,\"\"],[1578776,\"Savings Institutions, Not Federally Chartered\"],[1578776,\"Savings Institutions, Not Federally Chartered\"],[1578776,\"Savings Institutions, Not Federally Chartered\"],[1579157,\"\"],[1579157,\"\"],[1579157,\"\"],[1579298,\"Department Stores (except discount department stores and supercenters-general merchandise and groceries)\"],[1579298,\"Department Stores (except discount department stores and supercenters-general merchandise and groceries)\"],[1579298,\"Department Stores (except discount department stores and supercenters-general merchandise and groceries)\"],[1580095,\"\"],[1580095,\"\"],[1580095,\"\"],[1580149,\"\"],[1580149,\"\"],[1580149,\"\"],[1586452,\"\"],[1586452,\"\"],[1586452,\"\"],[1589150,\"\"],[1589150,\"\"],[1589150,\"\"],[1589526,\"\"],[1589526,\"\"],[1589526,\"\"],[1591565,\"\"],[1591565,\"\"],[1591565,\"\"],[1591615,\"\"],[1591615,\"\"],[1591615,\"\"],[1593204,\"\"],[1593204,\"\"],[1593204,\"\"],[1593936,\"\"],[1593936,\"\"],[1593936,\"\"],[1596946,\"\"],[1596946,\"\"],[1596946,\"\"],[1596993,\"\"],[1596993,\"\"],[1596993,\"\"],[1602078,\"\"],[1602078,\"\"],[1602078,\"\"],[1602813,\"\"],[1602813,\"\"],[1602813,\"\"],[1603793,\"\"],[1603793,\"\"],[1603793,\"\"],[1604028,\"\"],[1604028,\"\"],[1604028,\"\"],[1604627,\"\"],[1604627,\"\"],[1604627,\"\"],[1604778,\"\"],[1604778,\"\"],[1604778,\"\"],[1607549,\"\"],[1607549,\"\"],[1607549,\"\"],[1608638,\"\"],[1608638,\"\"],[1608638,\"\"],[1609472,\"\"],[1609472,\"\"],[1609472,\"\"],[1609988,\"\"],[1609988,\"\"],[1609988,\"\"],[1610250,\"\"],[1610250,\"\"],[1610250,\"\"],[1613103,\"\"],[1613103,\"\"],[1613103,\"\"],[1613685,\"\"],[1613685,\"\"],[1613685,\"\"],[1614556,\"\"],[1614556,\"\"],[1614556,\"\"],[1616262,\"\"],[1616262,\"\"],[1616262,\"\"],[1617227,\"\"],[1617227,\"\"],[1617227,\"\"],[1617669,\"\"],[1617669,\"\"],[1617669,\"\"],[1617898,\"\"],[1617898,\"\"],[1617898,\"\"],[1618921,\"\"],[1618921,\"\"],[1618921,\"\"],[1619096,\"\"],[1619096,\"\"],[1619096,\"\"],[1620749,\"\"],[1620749,\"\"],[1620749,\"\"],[1621221,\"\"],[1621221,\"\"],[1621221,\"\"],[1621563,\"\"],[1621563,\"\"],[1621563,\"\"],[1622408,\"\"],[1622408,\"\"],[1622408,\"\"],[1622996,\"\"],[1622996,\"\"],[1622996,\"\"],[1623360,\"\"],[1623360,\"\"],[1623360,\"\"],[1625376,\"\"],[1625376,\"\"],[1625376,\"\"],[1626644,\"\"],[1626644,\"\"],[1626644,\"\"],[1626696,\"\"],[1626696,\"\"],[1626696,\"\"],[1626853,\"\"],[1626853,\"\"],[1626853,\"\"],[1627041,\"\"],[1627041,\"\"],[1627041,\"\"],[1627606,\"\"],[1627606,\"\"],[1627606,\"\"],[1632790,\"\"],[1632790,\"\"],[1632790,\"\"],[1634117,\"\"],[1634117,\"\"],[1634117,\"\"],[1635748,\"\"],[1635748,\"\"],[1635748,\"\"],[1636050,\"\"],[1636050,\"\"],[1636050,\"\"],[1636051,\"\"],[1636051,\"\"],[1636051,\"\"],[1637197,\"\"],[1637197,\"\"],[1637197,\"\"],[1637459,\"\"],[1637459,\"\"],[1637459,\"\"],[1639300,\"\"],[1639300,\"\"],[1639300,\"\"],[1643301,\"\"],[1643301,\"\"],[1643301,\"\"],[1647822,\"\"],[1647822,\"\"],[1647822,\"\"],[1649744,\"\"],[1649744,\"\"],[1649744,\"\"],[1650575,\"\"],[1650575,\"\"],[1650575,\"\"],[1650739,\"\"],[1650739,\"\"],[1650739,\"\"],[1653629,\"\"],[1653629,\"\"],[1653629,\"\"],[1656053,\"\"],[1656053,\"\"],[1656053,\"\"],[1658304,\"\"],[1658304,\"\"],[1658304,\"\"],[1659207,\"\"],[1659207,\"\"],[1659207,\"\"],[1660690,\"\"],[1660690,\"\"],[1660690,\"\"],[1663641,\"\"],[1663641,\"\"],[1663641,\"\"],[1665300,\"\"],[1665300,\"\"],[1665300,\"\"],[1666138,\"\"],[1666138,\"\"],[1666138,\"\"],[1674910,\"\"],[1674910,\"\"],[1674910,\"\"]],\"hovertemplate\":\"0=%{x}<br>1=%{y}<br>2=%{z}<br>name=%{customdata[0]}<br>industry=%{customdata[1]}<extra></extra>\",\"legendgroup\":\"\",\"marker\":{\"color\":\"#636efa\",\"symbol\":\"circle\"},\"mode\":\"markers\",\"name\":\"\",\"scene\":\"scene\",\"showlegend\":false,\"x\":[-0.02105135893028597,-0.02311810886217876,-0.02446326670100786,0.004326988917357008,0.0047602911072982534,0.0037631327765702016,-0.019066473367126056,-0.017725642803464055,-0.01884093689446865,0.25680075528404117,0.2637699517993253,0.2578122115958379,0.00478399959524327,0.005187704178049165,0.007717567515753798,-0.04276908947290661,-0.04137862493051426,-0.041650280231688784,0.14357868820941339,0.15065479191348383,0.14414846527350053,-0.0207364460580815,-0.02400341718675673,-0.02740346822493173,0.15757039208831145,0.15429494311225855,0.15429082164229746,-0.04547187415780374,-0.04547505725973109,-0.04455685143571497,-0.06232211636979189,-0.06153786169256484,-0.062301612477308414,0.23826873204024437,0.2355677100660442,0.2312567125119788,0.06172004007281558,0.0553614542981837,0.05364018760817001,-0.02058919069993805,-0.021118204467182853,-0.02006632565885082,-0.012096442683467377,-0.012753072738043535,-0.013038169713024902,0.10614385967393127,0.10615274579859435,0.08874942635586501,-0.024718242295143134,-0.024917296683327688,-0.02726331265912174,-0.01788375766648039,-0.017257314905518878,-0.017914699773550254,0.18626447923126901,0.18660792913238336,0.18640836301783043,-0.014060112900565365,-0.014078464321447272,-0.011388601710811073,-0.000729214592138937,-0.00027426819723760736,9.528330228010563e-06,-0.03348368665702494,-0.03594019241623729,-0.037703509652029066,0.017887386134447396,0.016014817856959088,0.014420759095174644,-0.024426540229124518,-0.023204620225100694,-0.02099675095867609,-0.019238114499280392,-0.019767295586215976,-0.019516301450626692,0.0061963219822299895,0.015278285668664461,0.015208594724511255,-0.017555792613148748,-0.016729448613540684,-0.02003407218008537,-0.05084078578259453,-0.04805580122233246,-0.04766857900950577,-0.019317208467900124,-0.01838921423165779,-0.017081058886949652,-0.053292990381708746,-0.05296438532967941,-0.05227805209044186,0.005737080608348417,0.006433196319590427,0.007680694876873752,0.16337284482731398,0.17200260575941453,0.16968300762800473,-0.03293380155715368,-0.038583534008147284,-0.03724396875169845,-0.023781605279754262,-0.023981174366269165,-0.024311251162697087,-0.03947456015410978,-0.04075038156421782,-0.040908845305298876,0.006343791921976327,0.008052894834593247,0.008597129363612246,-0.031672039648821405,-0.032486905553040964,-0.03308563814917703,-0.001529929703193911,0.0030894220158502257,0.005128356165486912,-0.030189954197441082,-0.03076520298135981,-0.004888718701193161,0.05891314353602078,-0.012881729463479574,0.060993925072795815,-0.013620653801761409,-0.01455673248053873,-0.0090460107464593,0.009946085377860044,0.013352676317481875,0.011995308663467907,-0.00204821814280615,-0.003403217945300062,-0.00691369389681922,-0.009721375188503247,-0.009528609127969696,-0.007257031399070243,-0.029323079688788382,-0.03150348398206556,-0.030456374846484998,0.05146818271624078,0.054866409903657244,0.03665014187251975,-0.005538548975853471,-0.005720085796442229,-0.007582101986920975,0.2148916217548385,0.20640748099284592,0.20944109294833715,-0.02175154620217353,-0.025603756473538606,-0.022220886476542145,-0.02304225968017454,-0.023259081124001574,0.0296826564980366,-0.005286480217266801,-0.003186449105036521,-0.0030103792421950115,0.06111297128620356,0.05343846430134649,0.05673724251526309,-0.01839017215704854,-0.058570227736086104,-0.018199831041638272,-0.021887632556397463,-0.021887632556397463,-0.023206007509754708,-0.014714015836029819,-0.014051925665468255,-0.01276744717385227,-0.024675523401433922,-0.023412334451023715,-0.02421711015610609,-0.050767339069021235,-0.05201994990959056,-0.050385251400637,-0.04193113598293071,-0.04155635801576309,-0.03816020571484926,-0.04032054463848034,-0.036210080828972264,-0.0359080269807906,-0.021986163502003823,-0.021527148059759308,-0.022111282663023948,0.0612584672569384,-0.00441711400988034,-0.00438010343460861,-0.016232914579112242,-0.01474087106320656,-0.015010885086003543,-0.010828463045474076,-0.012646383518057427,-0.010297837971061622,0.1936692073967435,0.20015706413045814,0.19181788615449286,0.029002204978854213,0.031303044563832476,0.03910080668828433,0.01992772145879512,0.01920460790980581,0.018072978838159847,0.16214192452130718,0.17092260753087182,0.1681967671983976,-0.01782858799579106,-0.01838345406179148,-0.0218810411945347,0.001578215446161474,-0.004349617156657,-0.0026559212301260886,-0.017014684448388516,-0.017005773190785556,-0.017406480816014164,-0.023776159993649744,-0.02311037063191804,-0.022876037111933954,-0.009843189434339804,-0.011240377323934844,-0.0128730877947942,-0.05602168025593277,-0.055522586278821014,-0.05678801947838785,0.098753561582301,0.09964866155908278,0.09425217220348349,0.18304388411614086,0.1871213012987769,0.1806728384457804,0.16963921310548427,0.13262641376810255,0.1394523853932191,-0.02546068096035499,-0.025266914311979527,-0.03035544822551331,0.11916904017815594,0.1106260659889938,0.10853067830025522,-0.024273473661439587,-0.02110224944180893,-0.020228095154654267,0.00047061435613901965,-0.037226318260326186,0.007985458945104901,-0.042028159734646485,-0.04206577718752489,-0.039922391422083425,-0.006608823478661821,-0.007209536376794985,-0.007045981326656418,-0.0073172899107077465,-0.007723103601772749,-0.008233553979002,0.2031604964862054,0.20532271386237205,0.19609073888431638,-0.014208771465127687,-0.02446870298612702,-0.027502512177816116,0.010444667848365194,0.007967499662909855,0.007671623128300932,-0.009297279829427204,-0.007826802935816665,-0.007228452783502825,-0.02167611974318052,-0.03894775389211104,-0.023250482179866347,-0.03396143461354684,-0.03182665599647167,-0.035116661865014824,0.23213620745638971,0.23819473257273027,0.2389963086775675,0.08537591214999725,0.08668948648964638,0.0815653638531193,-0.017989778960634424,-0.01607551145138017,-0.017322410585869304,-0.04178269396798101,-0.04597823121066914,-0.04497535782694815,-0.03262343186712886,-0.03354904225788411,-0.03715151403128124,-0.0270940510108853,-0.030669868123607422,-0.031229729171822256,-0.027975616689971648,-0.029245416590963674,-0.041306760567116727,-0.01551169973926228,-0.015952615255898445,-0.018509817587731736,-0.03429378823692504,-0.0349968931623342,-0.0411830241197923,-0.0433475046678932,-0.043379652347304655,-0.04354870426763837,-0.016550167281566906,-0.015526286709030328,-0.014964292026309538,-0.058247769307254685,-0.05750744689839924,-0.057226225720554726,0.014767560157071662,0.015022168392007014,0.014840303007328567,-0.006653536220663804,-0.002407692446121917,-0.007620796640783504,0.05660948846545369,0.06087558993417708,0.061603520350114765,-0.04806567647476714,-0.046065979826277116,-0.04701750199128249,-0.044557391269900576,-0.0439236820770294,-0.034195979673868615,0.14332299851388164,0.14114785898345666,0.12981810361304266,-0.026419254545280903,-0.028389162737264256,-0.030156785672786193,-0.03934229332804391,-0.042777397885286665,-0.04633682135695487,-0.02973424889586644,-0.030425101637419193,-0.02967999136564335,-0.012557532678984004,-0.012836756439424982,-0.01251598039389552,-0.06423385829575391,-0.05842875302238919,-0.0506421911904183,-0.047242403545343425,-0.03986839789901727,-0.04511533550652836,-0.0380278785479138,-0.04179866783727406,-0.04261591558379297,-0.024632573978771104,-0.024339107494488955,-0.024320992399328764,-0.05104526533710628,-0.0516431419879882,-0.05122806693560137,-0.024447655682292874,-0.022642379306245512,-0.029743102539231524,0.15637694845130165,0.1622038161236325,0.16482361632159254,-0.05606096415085994,-0.054811990773956785,-0.05295470578200292,-0.05885186196695995,-0.060104309695704745,-0.0593929529662849,-0.049475317635556494,-0.04942089132650609,-0.0499092022495444,0.025202222536852767,0.03237111190785953,0.04132517568372496,-0.01372656681642658,-0.0038686161817508237,-0.005462366950249247,-0.042530262027240785,-0.042530262027240785,-0.042530262027240785,-0.06454532303605347,-0.06444034646723418,-0.06478145693055688,-0.017273742352699357,-0.016233227490417473,-0.015401598290436152,-0.060321093092801314,-0.05496523803333037,-0.055738067418660865,-0.02116888454657807,-0.019492706341668053,-0.01986525745925541,0.19991528760255448,0.20193320067115134,0.20249942652471814,-0.03643675175711304,-0.03624780697863299,-0.03671960810389893,-0.02958671892380123,-0.03014208213283189,-0.03182404181388227,-0.002262220085273369,-0.0018524966476798292,-0.0022426316519430223,-0.00035164758751594834,-0.0024076190548222125,-0.002075950659907439,0.00480145487073994,0.0025876815212743276,0.003952315994579155,-0.026837190311646303,-0.03250075733909369,-0.03295724342147412,-0.0057012720324536624,-0.002721631625944128,-0.0298704073456342,-0.0358129053516397,-0.0358129053516397,-0.035820180879012876,0.23342958236065614,0.2334817048339048,0.23391451981762915,0.007935239480184951,0.009789704896545052,0.0017090639100670437,-0.01345962876873411,-0.0130685801890021,-0.013006428946194299,0.14304599618747965,0.1505178666330431,0.15331578043114855,-0.04175770631942855,-0.04175770631942855,-0.04175770631942855,0.009859968325676151,0.010382605736706598,0.010218300135142968,0.17911574430924895,0.17793224110111314,0.16521272252476762,-0.018404092643598907,-0.01975420049419518,-0.02112552836783803,0.024664851745759032,0.02460865402666317,0.024193191577293435,-0.003340324679890952,0.004730481630633433,0.005138020810490555,-0.036157556912414415,-0.036157556912414415,-0.036157556912414415,-0.011898430529972717,-0.011838728870624924,-0.01144803466725352,0.0025462065329034,0.0030790948685461977,0.005398333246386308,-0.02319732342376815,-0.02317896814028613,-0.029980309925460396,-0.017310257639040993,-0.017291439966095286,-0.016384479258969742,0.07149953715755428,0.07342177386375186,0.07232438396266992,-0.021049592502335915,-0.02321837659968416,-0.024962027799581055,-0.02932426128339461,-0.028931827370185084,-0.028964972181316266,0.1554026483406207,0.1254885648429387,0.14256527631412913,-0.000980765953250987,0.0034536112130877238,0.012347216843253421,0.1295046068554466,0.1167849494241459,0.11651082868632667,-0.015251708704452551,-0.015135508016894186,-0.014003039252550064,-0.01297595840509001,-0.011991492336145024,-0.00847387582316702,-0.04654494775064323,-0.04660542214223462,-0.04708816776007893,-0.035913822119304266,-0.03582930202563463,-0.03617204278171907,0.07797768997900285,0.06789183833704986,0.09133480880192502,-0.0098003073522665,-0.00946165080291347,-0.008562622980717858,-0.016144612025827187,-0.01627302529082157,-0.014997025734953649,0.0036901632214020675,0.0015514936444075672,0.005538500667325915,-0.04328968844619797,-0.045494856631026176,-0.046604638818291196,-0.01940127837602237,-0.0155704183107918,-0.021240044214313993,0.16866866806906763,0.03128336350163773,0.035114496169151445,-0.024360581871582406,-0.024900210423636875,-0.024895469504151262,-0.04612584150497927,-0.049893325692048116,-0.04460778319696541,0.0696254549802784,0.1671493767080362,0.16125440019437087,-6.183294817259342e-05,0.005607131017710001,-0.005301392338325244,0.062314568827411085,0.05173940883865262,0.04823340534859782,-0.02752740451407051,-0.029990715723887344,-0.01311549255339138,0.056556065252526364,0.057237100573636034,0.04208992721317424,-0.04149758148048378,-0.04084894212794339,-0.03860180936864126,-0.022411409486502862,-0.019975219183250598,-0.017388694774609494,-0.03207894107874151,-0.0288307014255048,-0.03025417960972859,-0.03791568913895839,-0.03961484260720042,-0.039499876398501964,-0.03740079143032041,-0.039412406059743395,-0.040950843778338845,-0.01803522320127223,-0.014726617528550269,-0.017401076594695978,-0.023195494788157623,-0.02001773161901936,-0.019450189654660454,-0.003986088786996059,-0.004102729323414895,-0.005185048870001094,-0.012202505952794084,-0.012313988723580941,-0.014043261050873248,-0.028871976567338555,-0.024206347607973293,-0.024206347607973293,-0.013322344343412786,-0.014374245040433642,-0.013493822876980128,0.007848914050853497,0.01055862620656694,0.007548783313996704,-0.04898141864510619,-0.05097631427876905,-0.05142427492059783,-0.012434623960497548,-0.015578741657444047,-0.01566073616937335,-0.029245776476665573,-0.0310506157399007,-0.030881057682941943,0.028980738393410633,0.02995945357364103,0.029571071162378407,0.05794623959269834,0.05881152393965819,0.07044534176243625,-0.023452589280698728,-0.023452589280698728,-0.023452589280698728,-0.013942730744146174,-0.013492732647830063,-0.013802286686624624,-0.019268094415554455,-0.022004402756299016,-0.024479475285266644,0.09715366327875244,0.11760743678969139,0.1323251938084672,0.15638450658029587,0.15402768767623798,0.16362888419652702,-0.040916668322644505,-0.04099769187645355,-0.04080284456454691,-0.03273991498173238,-0.02448832871892045,-0.024425207061251956,-0.03228792626823514,-0.03299865899392382,-0.03550226261080334,-0.028233615986860066,-0.02848502739568357,-0.028399974142403844,-0.06710113488858431,-0.06600745242259054,-0.06409726784531154,-0.01898744020010554,-0.01898744020010554,-0.01898744020010554,0.16489184548718586,0.1646076494071079,0.13270713672430162,-0.028012854821677445,-0.026539882985578134,-0.024816691796029244,0.03047556077712026,0.02289780407802964,0.011465872032833712,0.23175152151709252,0.23526385977222025,0.20251338958639348,0.005570720625524119,0.008347147149033724,0.009127088869655804,0.18611965430804794,0.1908676196177101,0.2025215505774637,0.20084483163682554,0.19512016084804357,0.1611312455390454,-0.009449573360128131,-0.011130858445857978,-0.01330677578337556,0.05645339011639708,0.0522934106800353,0.05084297475763519,-0.01640028366829127,-0.01817713798643184,-0.019254253022384493,-0.0005009916630841932,0.0010566954709072425,-0.004747298387973715,-0.03736648914943302,-0.05328404964789566,-0.03802956582169106,-0.011442255089002287,-0.011442255089002287,-0.011442255089002287,-0.0287458079377268,-0.02446831811744162,-0.02446831811744162,-0.01250122948093746,-0.01051982442148267,-0.013821069285571226,0.014496453072749297,0.013946583997037914,0.014192568165028788,-0.019342299054777187,-0.019342299054777187,-0.019342299054777187,-0.007944704557856093,-0.006382704932684102,-0.005511755057988702,-0.0633966861844627,-0.06565372878278464,-0.06600764142113243,0.2337719095612251,0.2414881002663984,0.22161541799750634,-0.03111294113024287,-0.030710446751568938,-0.030484808109975253,0.020273555325896874,0.012121538485359446,0.0163194039399761,-0.004627358670416464,-0.008774854934375506,0.002870034852109669,-0.0103714956147836,-0.01572029632140025,-0.008812007056635296,-0.015286970133387385,-0.01556965586366495,-0.01570368923994698,0.031459288223135186,0.030669703532526533,0.03056491685010335,0.057650483537590475,0.06487104474248881,0.07123633946263394,0.010659393939068642,0.010802511588599571,0.009293153469592145,0.01095007835626914,-0.01770877462952311,-0.015046349701095424,-0.043482121147636846,-0.042010713052243215,-0.03538175936273929,-0.04360155067187928,-0.04490917404313979,-0.04129840754729699,0.029282423069867367,0.024398877251222008,0.023034594998842747,-0.04992828927755385,-0.03731002891922816,-0.04827022313664465,-0.054288770460715584,-0.05459148426154943,-0.05440002394652598,-0.02522940000116146,-0.025637286359401375,-0.026799075745406065,0.011316790525782989,0.01791147807293819,0.018454034981886427,-0.015287095830221743,-0.009879395381019087,-0.007332675412318262,-0.04403936575729614,-0.04451683000464577,-0.044933040017945,-0.017573232931694723,-0.017914615382512065,-0.01600144191179352,0.010069744196965455,0.016285112672631046,0.011484954122028908,-0.00945315078261692,-0.006399658818004661,-0.005716734815901766,-0.06771235355253172,-0.06764435122148363,-0.06620031997071542,-0.0038132529917216224,-0.003687836441090479,-0.009143269075765159,-0.03376919803901702,-0.035416271027698426,-0.03501030036978093,0.01109375614426993,0.01151582755564873,0.011559017385613466,-0.02378642070261328,-0.023732128808059656,-0.028894364096550103,-0.0218451318893621,-0.021047850866443684,-0.02164078685665061,-0.010404066727846916,-0.010965892921809854,-0.012108239245547735,-0.026282407693111118,-0.024030717342475118,-0.02589248179858717,-0.022649147601372918,-0.022236506407103524,-0.023255952239116345,-0.026921033493854756,-0.016137395881173924,-0.016838954425553946,0.026810747834453766,0.026738410407677295,0.02414469071560829,-0.018428800638907415,-0.017219973758463583,-0.017118373328863113,-0.010390535842246106,-0.009756386055010962,-0.013958815432248568,0.020163591041826284,0.02074035402296583,0.02098224186271106,-0.04739963984319945,-0.05176337902932011,-0.051667108904873554,-0.058023738777439354,-0.057818855494094615,-0.057897482375805054,-0.042900183963061195,-0.04055658922941298,-0.03908714659693259,-0.03398437016565554,-0.03368666505608256,-0.03364274890818967,-0.06294050212785453,-0.06177851913312221,-0.061779654352170914,-0.00033663215708699224,0.00025670886083574684,0.0012529337406621491,0.24424986758701397,0.24058499020688923,0.23663700962835285,0.20494937535033098,0.2038493911540439,0.1169585384030374,-0.00908876479931587,-0.00908876479931587,-0.00908876479931587,-0.044353637525219335,-0.02809329772422329,-0.027908148245724497,-0.017141759028245176,-0.009708381685543006,-0.008663741792208602,-0.057499350225591855,-0.056324835430818766,-0.05614519000806377,-0.018595393444277835,-0.015068029951824824,-0.01509132879866797,-0.026373015584284083,-0.025797098022168972,-0.023718089009473777,-0.05670013432361175,-0.05648816844582275,-0.006209307755052609,-0.016825892780910654,-0.016278767504496965,-0.016191774772110555,0.07934228607385158,0.08401281003630835,0.08442252604116467,-0.06083578856656881,-0.06049178444686577,-0.05970642874253222,0.22477607882088183,0.21676679989227807,0.21254231237179463,0.015634597986338754,0.012841975948301115,0.0063272076833338076,0.014405619480596722,-0.010696276490347772,-0.024314148092959634,-0.004077975462217744,-0.009298381953098683,-0.01000380825581437,-0.06108968647385758,-0.06134494750766747,-0.061748707079704375,-0.039900203888661764,0.04774824528115519,0.04712949626651308,-0.007356051916760335,-0.010908802365311767,-0.008316152652207266,-0.008767193567012431,-0.011037833829951578,-0.010945101437030957,-0.030687563249104655,-0.030578210540061334,-0.02289075824459459,-0.0032278408481392433,-0.013760556446958085,-0.013488359301541226,-0.05730647565492851,-0.057183913861988206,-0.0592664816141924,-0.056093473854472053,-0.0534960457324457,-0.02855905430143139,-0.046375083655751284,-0.03295515593751068,-0.03259832069382591,-0.000859002693828713,-0.0035114914557442976,-0.006151135245914169,-0.04732878702495347,-0.04775656227032967,-0.057591383441879744,-0.018015534671906565,-0.017863535401041186,-0.017863535401041186,0.008750020863542086,0.005146835739729931,0.0047452110746866285,0.049371039510816825,0.05201690405335977,0.048197855074119056,-0.012984652761398196,-0.012020330425632617,-0.012383330360431443,-0.06040468210707506,-0.061261685113173245,-0.061095220371423224,-0.06283143975289453,-0.05949420945453414,-0.052604969156632785,0.12121897065256634,0.12125876794246258,0.11101701228962282,-0.01903123718427201,-0.019811935616963667,-0.023616441678259877,-0.014208771465127687,-0.02446870298612702,-0.027502512177816116,-0.013254431063276562,-0.011898891847978644,-0.011039327116158314,0.09449565630151756,-0.02401782003500893,0.10032590223779116,-0.0071525010231475485,-0.005276792430240094,0.0009626503378472614,-0.012344821958745113,-0.012443678742007398,-0.011501424017983215,-0.018313173561270133,-0.018313173561270133,-0.018313173561270133,-0.0036078711795816893,-0.0007879611305681493,-0.0024530259273410353,0.037456323937648646,0.04683006053617172,0.05717147849187199,-0.043063078518217716,-0.04633512324362231,-0.04615674851677393,-0.022341786040574185,-0.0226868366556554,-0.022947767400952147,-0.047292284504103804,-0.0426237979312313,-0.043887941200040095,0.2212277311179406,0.2236828383203449,0.22957250277921223,-0.03279514865262612,-0.03272150580575763,-0.03176253532509732,0.17942472635413842,0.17630254807385864,0.16172161384133005,-0.0016889972228687927,0.012617293451706701,0.011185805455752639,-0.042810644730841084,-0.03707371116025024,-0.036255202306206415,-0.048862994934947675,-0.0215631763509303,-0.0215631763509303,-0.05599832417569336,-0.05786875858034714,-0.054426651774188914,0.12323632567283174,0.10777153772558572,0.10842297606834266,-0.0449088424703489,-0.04619341540179823,-0.01663445308089113,-0.02103235836634532,-0.02106351315382586,-0.02170256893705292,0.026528026984896744,0.0248001238073783,0.02376444601875778,-0.035941239568579565,-0.03847121296119725,-0.03264141519104866,-0.05176954865207587,-0.04964584378823756,-0.050003362410157653,-0.011885214764045516,-0.011596738905759428,-0.011305004423055974,-0.039995295678574225,-0.03896185811742975,-0.04645950054400892,-0.04141052893092103,-0.042864466851189796,-0.04141949403246879,-0.05375271017639691,-0.05392361146349111,-0.05679910720570074,-0.006914587110847647,-0.007191425378940635,-0.011778173280804334,0.2497758933030044,0.2492220570665031,0.249678313953422,-0.06531145111947356,-0.06421693906500549,-0.06428840532392552,-0.03360467274274128,-0.033436459492223305,-0.03377691198491187,0.030780158642028824,-0.006531760639742248,0.02729964854629716,-0.0331602075286651,-0.03314726041911279,-0.03302566455690339,-0.04407795667769185,-0.04244998262759452,-0.04570184544631242,-0.02803953009495379,-0.03738551390406331,-0.0374200763835958,0.10731444616683526,0.08884368540356496,0.08867096864783741,-0.024856941799267628,-0.024186716126769436,-0.023946383776343488,-0.041687726768382456,-0.041810530658150616,-0.04208210689186443,-0.05798268898986225,-0.058395637456484996,-0.05816278290056532,-0.057976016365498505,-0.060517599830754255,-0.06105720363845075,-0.013291319997986701,-0.00932803976713686,-0.013222232215377277,0.05797008074402524,0.07447842029248145,0.07703570835385751,-0.005053012399477831,-0.004246538469183725,-0.004190513534502827,-0.04390672986626807,-0.044052360285497076,-0.04396966703033291,-0.018588385254100705,-0.020087784077172724,-0.017032925457184978,-0.062741989438141,-0.020989757289165172,-0.01987921410027792,0.02341091508239253,0.011445554543626594,-0.0049112136186331805,0.031496605702768354,0.02891937796765889,0.02714888523948125,-0.047615217586628567,-0.04787117744907766,-0.05782814827227436,0.07233106066764411,0.07075483619812709,0.06977059299702706,-0.002246945138724635,-0.002683701504175512,-0.002315876922838815,0.24005426318166628,0.2388186954424932,0.2307142492919809,-0.043668785730832216,-0.04429933666203122,-0.046465663186940884,-0.03310483236837851,-0.032866638355954214,-0.033211036428318706,-0.04880725060723338,-0.05596142098774691,-0.0520283780888289,-0.02082777001590853,-0.020863933000145513,-0.02083243297068524,-0.012523879776015042,-0.011795957682359103,-0.012342472928766597,-0.01878883300584183,-0.017722711648291378,-0.01786173652018086,-0.048650711357961736,-0.0473262931676418,-0.04932273536972679,-0.06830633549365189,-0.0683443578582257,-0.06796082002103218,0.013942459377668864,0.01608036589399377,0.013434776166321443,-0.017696431808138225,-0.017704451729629256,-0.014481117061242908,-0.058181714826019464,-0.059597942025728136,-0.05693914144142764,-0.04546611943468901,-0.0430180605195672,-0.04240963712629818,-0.029055694578307343,-0.02329907723010913,-0.02079318162463079,-0.030322069659533817,-0.030761549312188302,-0.030426874088738697,-0.003945747511209549,-0.003945747511209549,-0.003945747511209549,-0.045006898809930695,-0.035134253259830515,-0.03085827086816763,-0.009453466545641862,-0.01218499650907217,-0.010354899184905923,-0.0457249943609243,-0.04467849303974982,-0.043916974140891095,-0.05022329828552758,-0.04681216117906679,-0.03678896194635532,-0.009059559664777245,-0.007516508550187958,-0.007204561576152348,-0.041635242959069625,-0.045526113093209156,-0.04939155762840751,-0.0451119543219303,-0.04607171550101043,-0.04564457031888043,-0.033297297452565384,-0.034033465555654376,-0.03381029598453863,-0.028125336782662092,-0.027929025297777646,-0.027836471927461408,0.12062246152081235,0.1768397120666985,0.14721686840905845,-0.03483633396108524,-0.03459599337712493,-0.03810668998197159,-0.03821113663814633,-0.037061306426539264,-0.0358557568586064,-0.03454348619429328,-0.03425774220123446,-0.034722318097167186,-0.022073294653297607,-0.02817460152771581,-0.03354327837401958,-0.049939053813980526,-0.05004277594647108,-0.03999205996428162,0.10861699038390023,0.11091133950630877,0.10589358769130212,-0.03877786618808758,-0.0424128578586241,-0.04404520990397937,-0.04752309746291425,-0.06266984246965218,-0.04267618915318389,-0.027621797751435823,-0.02612795586315742,-0.02684861057431321,-0.02198940157106316,-0.02218245392499898,-0.02253050482699252,-0.037161389050125455,-0.038157102967452984,-0.042996273951445486,-0.053492373650536565,-0.04793725585780745,-0.049365948658603234,0.020861262869818365,0.02027320559138914,0.014550458278126047,0.035198159723906386,0.03500742615939297,0.038743791115709775,-0.04471868779676079,-0.0448735401630064,-0.04553066916393899,-0.058071671097400086,-0.052537386691249494,-0.05248927922604736,0.11139166498925689,0.10570628443392971,0.0990887916756407,-0.062005840875219057,-0.06179228415552067,-0.06217788461231982,-0.04133161380007826,-0.04165795196107269,-0.04198443442586897,-0.04322186210114371,-0.04410906593511218,-0.045018846641019974,-0.019888432754859544,-0.019390553476767644,-0.020225844535345157,0.17167851634613707,0.1741344863446607,0.18791799964040043,-0.024953584976940106,-0.020206088108513407,-0.023144662682716664,-0.01501540149679596,-0.013636613668809177,-0.01459947324311861,-0.02901705235267566,-0.028273471400576063,-0.028881199225981948,-0.047253205027755804,-0.04817046041979943,-0.049308117320665534,-0.0384689631404755,-0.03855080738330749,-0.0366511443169176,-0.05179969408287117,-0.04659608470931593,-0.04165694431817359,0.016618617359443293,0.014491328967355275,0.023370220791259652,0.014409534312685997,0.010078310215253655,0.009001775768943693,-0.05318662011477788,-0.05048871705149087,-0.05083480684538833,-0.055615639079517214,-0.05524072541787117,-0.054530560746140246,-0.05294884446955674,-0.053986757274987605,-0.055588014950252715,0.023773497645491286,0.024630755519696637,0.02270388414911526,0.016331265807681832,0.017741375354909283,0.007960416401352394,-0.023462130468937296,-0.026107605129777174,-0.024394716154843312,-0.018774711565550387,-0.019690535426335285,-0.019690535426335285,-0.04505757536458692,-0.04190580385276847,-0.038449579329940364,-0.03322345974365751,-0.0334000722906402,-0.0329216997033381,-0.03488461075184693,-0.03973093920395237,-0.04363643304171353,-0.05444202975426181,-0.051695356749863766,-0.058384671247555475,-0.01608133273095219,0.021596492678059867,0.03214852984878396,-0.024786192775076373,-0.021018048079584357,-0.021666697745606103,-0.06421111674513173,-0.06419851072986232,-0.06438189564214919,-0.041089280432931606,-0.041143884235242505,-0.041089942236577894,-0.03815367660536924,-0.04147686369733966,-0.043257640088824496,-0.022432013524392534,-0.01981282462185969,-0.02003992145148081,-0.049344260002181256,-0.04882861043622844,-0.04913079353095871,-0.06433436367333452,-0.06641882703009111,-0.06402272787876588,-0.04450187798303023,-0.049878279424332046,-0.04596878140176644,-0.04411554919612638,-0.039076685712663685,-0.03933920214311743,-0.05060490354251249,-0.038301552946521225,-0.04636253689570395,-0.010541325340983477,-0.006649704425862715,-0.0046497387811181585,-0.04341626556187279,-0.04320832594973379,-0.05787996871066875,-0.052391114757412795,-0.05231406111770837,-0.05105393313978837,-0.05385742806331739,-0.05425007481554823,-0.0563648376999451,-0.020134172096237166,-0.020069968690143745,-0.02030665567165795,-0.02501637381731711,-0.01418945834511249,-0.016411574063432775,-0.03119511747670675,-0.03134032921322601,-0.03952014244940302,-0.01848446424360939,-0.01877467792367094,-0.022168404745024448,-0.06518960140809725,-0.06515311436177514,-0.06541286522515426,-0.017067751939661542,-0.006699491312100568,-0.005659328428023437,0.219949759873592,0.21981630519887949,0.23240242763678862,-0.06117777592922244,-0.06218349058673798,-0.06220467372258208,-0.063608016920179,-0.0629276623124492,-0.06299261356487067,-0.029672225966555738,-0.029679999604232517,-0.032218145144423074,-0.05812717058873502,-0.05889594160364265,-0.056966842790702486,-0.024182257653241113,-0.018431568905502,-0.020326731407021705,0.1054637681570814,-0.048096284410580815,-0.0341132166259643,-0.0252713759439799,-0.02522741419700154,-0.02541417214594847,-0.036666151207240594,-0.03680357815581625,-0.03681638182502399,-0.06718943047266585,-0.06137226058583856,-0.04944268442153247,-0.05075013468298207,-0.05154143964784817,-0.048870227485545197,-0.04578584888731043,-0.04862475156157951,-0.051763863082628,-0.035998562043544104,-0.035998562043544104,-0.0372615761187304,-0.00872877022986388,-0.008821392524715624,-0.008565668414870562,-0.040607075791487146,-0.040607075791487146,-0.040607075791487146,-0.028095514138136705,-0.03456364845831951,-0.03702130845530096,-0.028017626473445946,-0.031100915667522912,-0.04208352109400655,-0.038027570431433864,-0.04221637975147408,-0.0352493979692386,0.2636708833206423,0.2633143662114311,0.2627825200920824,-0.00912594592868412,-0.009160230116206595,-0.022577885461439715,0.18145026288164387,0.18206789292282693,0.18701417324635874,0.007631326658239396,0.006748901346024492,-0.0015131925065798837,0.025082157331408932,0.025259531509506078,0.01797656380037491,-0.026213686562706118,-0.03075925475853181,-0.02876184372415137,-0.018665182436890207,0.01032541935327681,0.009905632216882438,0.15789851014066264,0.16230381046843576,0.15759922772633442,-0.01797253511540602,-0.01655540751370547,-0.01655638230528505,-0.034518570655314634,-0.03452365757205706,-0.03406223212550221,-0.0412761648642863,-0.02216552211052777,-0.020654352374437475,0.09672367675298217,0.10353951354167848,0.10115783067286888,0.04363896860413558,0.03683787092647449,0.056701025173312054,-0.016994620351564398,-0.01703171635880245,-0.01703171635880245,-0.04508965554379631,-0.04619024315723246,-0.05055470975227868,-0.022733540627787957,-0.0341282328584227,-0.03587226456944225,-0.04717050530191217,-8.78183341450785e-06,-0.003436903834783765,-0.03737805390525485,-0.03631823841762822,-0.040400559974855366,-0.04226800911599128,-0.04226800911599128,-0.04226800911599128,-0.007187506067825077,-0.008705843137508449,-0.011597651872835287,-0.007213797806455977,-0.0014967189720688453,-0.011308789266113714,-0.0197948544844375,-0.020523279568008923,-0.02013518022079678,-0.006971378162689567,-0.004234843289113338,-0.01931439982366398,-0.013089435121638652,-0.04194258139841487,-0.041825662382136794,-0.05621083446961885,-0.050754092156600684,-0.028209794126761483,-0.03209820403631237,-0.03673705586595403,-0.03512224612561481,-0.0021211839962104527,-0.01253670593780932,-0.010979095486845222,-0.03281906754729365,-0.03173568933844506,-0.02549256120168308,-0.029980902269696706,-0.029980902269696706,-0.02955463944177242,-0.01822289492796909,-0.013406910164824912,-0.013248371570636299,-0.041644036701983,-0.039866725891694606,-0.040692267895306625,-0.031597557939043106,-0.008383736868936294,-0.00650967324969519,0.02933635166238105,0.02904418654355102,0.027754721981738756,-0.011211145616978519,-0.042368099112336445,-0.04537102166386132,-0.045813906405666946,-0.04574395048918669,-0.037058834089628505,-0.04146372294202867,-0.04014378623661756,-0.02112484593358298,-0.04646107577775077,-0.04247616281140806,-0.042407418397794036,-0.06870732093105243,-0.06719591054184691,-0.06822854042228702,-0.06680118317800364,-0.06753293347688946,-0.0673007149354647,0.14321070980828618,0.1312073670261235,0.13124247972854336,0.2650122034344353,0.26064277072214354,0.2716431148178896,-0.040397298813495026,-0.04044809700975767,-0.03420710634275341,-0.06052325347809615,-0.06004267314588172,-0.06104658216124278,-0.026531483946604005,-0.02560444600868114,-0.026464665716624817,-0.05180347203694282,-0.04857070441117591,-0.04903456001409668,-0.014997502327735375,-0.015383420774690577,-0.016198553808022327,-0.031274667006409275,-0.024013423848818823,-0.034320392318392456,-0.009877380289730212,-0.013035991719277409,-0.022005541046062914,-0.019869819491204383,-0.020066876794085527,-0.056850387922005606,0.2515959336935443,0.25667097541007255,0.25583994672274046,-0.048908652843500204,-0.03691824717084774,-0.034971743190450245,-0.0380087565880231,-0.03680591691299371,-0.0378420498415527,-0.05030401459852568,-0.047943219149406614,-0.04905465209895976,-0.012885612704324678,-0.02069398202891222,-0.02071924050616049,-0.03861798873478353,-0.03815453671529233,-0.0390963580671006,-0.012364852472884024,-0.012711143343014278,-0.012632109862053605,-0.017152973166578774,-0.019580906526280764,-0.008950634216514555,-0.024501508552324115,-0.025556773664684368,-0.026095293704487172,0.011826267371275897,-0.03779640253237937,-0.005692997154090837,-0.030320695551094307,-0.024348870105247066,-0.023737312434639782,-0.021590180195686502,-0.02590830334318518,-0.03306068128126819,-0.02681886502262091,-0.005605836547625942,0.0002697857378253986,0.23982182028208315,0.2469634713936031,0.25297563508628107,-0.05613261676385997,-0.05623868829469137,-0.05233389803671671,-0.05417505688130338,-0.05437246854085683,-0.05345529439316874,-0.01085625116468702,-0.030174515837467893,-0.033625714459771826,0.1568981788289496,0.14849270648207913,0.16430575146286305,0.019444232194707024,0.020008228703574774,0.019830224230156086,-0.010792094615574184,-0.010776964606411983,-0.011022915639284541,-0.028913680609030868,-0.02868373375952754,-0.027497993169053356,0.02620138149981451,0.03078838907657965,0.029597813405218464,-0.0063194947861181655,-0.006840260949356465,-0.006928868475574373,-0.05677326854973387,-0.037274872634431286,-0.035375042930094566,-0.027754715253504675,-0.05522907341409163,-0.053599820664830385,-0.01822289492796909,-0.013406910164824912,-0.013248371570636299,-0.04562430371733839,-0.044933951598925666,0.00014659049113358407,0.004517148108068557,0.002568198122384425,0.007675140326980316,-0.024342902035825335,-0.029453536608822016,-0.028819946160336802,-0.0005453328775827567,-0.0005453328775827567,0.001012928267381498,-0.003977299097692735,-0.0032316195643316836,-0.025493349707377606,-0.02615140173591236,-0.02640148678152356,-0.02640148678152356,-0.026511007908725296,-0.02727694323576394,-0.027266103946328966,-0.018861309886665737,-0.02034128021766379,-0.020036451688790036,0.08029088245164892,0.07178006680012904,0.06292683030187107,0.034949349638835864,0.03872039050174308,0.036008345683604684,0.07093344289870082,-0.04110951939914686,0.04054872612957371,-0.009555448679633677,-0.034469164273635236,-0.0339453331235931,-0.0688054646329339,-0.06891307641214775,-0.044998188224554425,-0.013794493542470724,-0.0389781314494844,-0.0389781314494844,-0.01002856213793728,-0.03983867598846016,-0.0418502571353152,0.038015845383866834,0.05029449238755227,0.05177040569404125,0.24435037528328835,0.24308106622800474,0.24036807247433506,-0.01057792097845478,-0.03540428888128869,-0.043044626954642964,-0.002117533404761937,-0.02148286083159353,-0.020637785707268083,0.17812920254081713,0.18121193917075282,0.1927093057908995,-0.0374646239791116,-0.04320423701308856,-0.024241965079538307,-0.021669955631116043,-0.007869638695855115,-0.005539957372067508,0.0007795803835653707,-0.0614850460831561,-0.046741721144791026,-0.01918750036481523,-0.0374199472576744,-0.028979624100308157,-0.020842942411643625,-0.02690643236249914,-0.023352001358551894,-0.012009925267800205,-0.03550015311980934,-0.018153682788728205,-0.017377873738082292,-0.013976527534812037,-0.014358099010177455,-0.007776816630113635,-0.009255148308014327,-0.015150406906374583,-0.0385198534289008,-0.03841180404482085,-0.028005974780212967,-0.020294118910594468,-0.020294118910594468,-0.020294118910594468,-0.004910144632158267,0.0010376274277713253,0.00706155813050316],\"y\":[0.018002020405513606,0.012907193113111663,0.013760343290956746,-0.02765721482136885,-0.027250280040304255,-0.027281258829966723,-0.041041554402795014,-0.04303862255888332,-0.04270233891921919,0.06847171653392682,0.06374559886878689,0.0680114578921373,-0.06977451211069462,-0.07095704609778945,-0.0687283115632723,0.0066818519235398955,0.0016455331041290752,0.0003296556355652629,0.03881322362314841,0.04066678559790251,0.034726010773262594,0.0356279231290849,0.040848075810009626,0.03623254876467786,0.009899011450238483,0.008378866762150489,0.006601531370594297,0.08217442896305574,0.0762925189970976,0.07724718285054992,0.10568187385763946,0.10113670585904726,0.1043787111399405,0.0762109382931263,0.07656675805691643,0.07816255685238664,-0.013886351160718638,-0.015499428417681952,-0.01497696351705394,-0.009452748379644682,-0.007105435259723474,-0.010248456725703412,-0.04183637542727049,-0.04054989614518241,-0.04032684694900358,-0.036129634244130966,-0.03610026379893215,-0.03347777734662926,-0.1008210428473642,-0.10084849151225532,-0.10229356142226806,0.03345196459717659,0.030671676737990154,0.030159256640137553,0.052983701934723994,0.053048620922381176,0.05270798005641076,-0.0919604723254464,-0.08902747761586832,-0.09415510477145016,-0.003670905998073102,-0.003805027370116984,-0.003934787189408766,-0.029033052567671958,-0.018855397364447295,-0.009458292949192839,0.010966360989877856,0.007803466766190906,0.006718169604610695,-0.03900894555319084,-0.04105812795526631,-0.04137006944695855,-0.07692271570727845,-0.07216544150238313,-0.06771025229068103,-0.03402752702675868,-0.047089666843270685,-0.04471045587056573,-0.1385426113637234,-0.14179693413857736,-0.11813043500460546,0.17897476855937125,0.1933327023178204,0.17802121414385358,-0.08412944352989031,-0.08229352338503923,-0.08782287091510597,0.09181610584460542,0.09142693537113881,0.09039355642692964,-0.05305414278460995,-0.05014970497555663,-0.059367770434332966,-0.01207622917053462,-0.011509129793530106,-0.012013998885065219,0.013643242997823877,0.0288261571386508,0.015509306134010224,0.02419220456425074,0.025217114676008213,0.025910020100534486,0.005877133625750321,0.008432673124781489,0.009729304119145866,-0.07281205928814304,-0.07299519989092326,-0.07394696988472702,-0.14266877078840745,-0.1438228258834526,-0.14421972794139248,-0.07471960359936823,-0.07372714883799174,-0.07349383470580806,-0.013787400497670568,-0.007159619720676752,-0.028909678838393828,-0.06797608959553447,0.007132406037267699,-0.07112683003695806,-0.0897635018256015,-0.08886859967339913,-0.07580196995256636,-0.078023029955915,-0.07113618314376588,-0.09313677231393361,0.0009848118326293831,0.00865205797385238,0.014673434376988669,-0.09665476096234905,-0.09843585762818166,-0.10023506883322576,0.030627260166240795,0.0310346849394439,0.030445644449817226,-0.05695359110439876,-0.06086792411603657,-0.034043999876743385,-0.07560785373954383,-0.0742569075921668,-0.07325964498996158,0.03431140068326846,0.031904397843050825,0.03637180611476005,-0.033389778426867564,-0.026076638629490483,-0.03328800415454627,0.014801288743559363,0.015146120464686911,0.01067749322716443,-0.06475556102066611,-0.06674993897829286,-0.06759591999990314,-0.06147215745160541,-0.052145361856120814,-0.05863176820053103,-0.06717614011351666,0.05731923859627865,-0.06504102763171637,0.024182112009293655,0.024182112009293655,0.02661140147217622,-0.06568960546878104,-0.06709526779394827,-0.06652672932461587,-0.08662790589559607,-0.08536036398578534,-0.08643908892546952,0.1000993947202504,0.10206831601390937,0.0890118007465807,-0.013335799875999511,-0.014295239858382505,-0.009214238165465152,0.08609947449309917,0.08523235250928184,0.0988813234182877,-0.0830252600342787,-0.0839893891482644,-0.0868024697551455,-0.043509552491669455,-0.007254943856052699,-0.006374568081551047,-0.039466003848608336,-0.04045300643215213,-0.04135000708744615,-0.06358115906990028,-0.061139328298021975,-0.06338239530424725,0.05148268691924466,0.04595510484925825,0.03725623272471194,-0.009660351641103144,-0.0100067500037522,-0.00957446367343879,-0.04972770851680827,-0.04565871334552935,-0.044824101292338804,0.023953733876028904,0.024264596619239395,0.023490006666819444,-0.05375595121168357,-0.057114299676076744,-0.07054927830179453,-0.0527413463920879,-0.04066200733323944,-0.03469307678885623,0.019348133810838105,0.019460998462126868,0.019133094007469917,0.041735533817161524,0.042269228369963566,0.04141804163090732,-0.039567864367456726,-0.04874925479376195,-0.04806804693079555,0.0675936997964312,0.06297523049255094,0.06537180131591923,-0.03850719380557303,-0.0381476580891221,-0.038212602866241945,-0.004056445371609227,-0.0025197937549484217,-0.003070373237847767,-0.015282459108623192,-0.030489396022336062,-0.020398302993027268,-0.07702412309850061,-0.07432494258727318,-0.0762660241321389,0.013512549398437304,0.014824412085434092,0.010653448374927686,-0.11738797615049046,-0.10857624333403852,-0.11050534203989483,-0.08342587102938043,-4.544254476599435e-05,-0.08605215763424731,-0.01605973922046844,-0.019526884584303527,-0.026312490301529615,-0.018546594764305743,-0.01795277731261467,-0.015852733307606434,-0.024301188318929773,-0.024958444185994962,-0.024541139993760674,0.007562223691041854,0.005230087029935498,-0.0009162011635108077,-0.006399852116082763,-0.0039921049068412555,-0.0017848111264615397,-0.009907774041810478,-0.009465989709280106,-0.012161773405498191,-0.01772269406914271,-0.014917324197016022,-0.012217398284027814,-0.14384059514023953,0.03658512179134133,-0.14529079571896786,0.13844451624151335,0.13130835185235804,0.1401570450754066,0.04193866283985258,0.0462536468574175,0.04282386926031461,-0.00865248893333413,-0.00792813166001251,-0.009159775034941158,-0.03741972755110653,-0.036431300359513925,-0.03507889471968255,-0.05659770469703576,-0.04420081730827069,-0.05275169035676278,0.06570589477554989,0.06546996229475927,0.07227928836219252,-0.1447762079197911,-0.14573636723131533,-0.14513827741677687,-0.0020224038272133073,-0.0015746314669349336,0.03638109827425675,-0.05183299513918971,-0.05175477685833489,-0.051318378578995176,-0.027467667822303306,-0.02698005275428928,-0.025795930614318587,-0.011975587188709969,-0.011979332103055842,-0.011827194129455312,-0.041602941569770444,-0.04101828498954714,-0.04244258788053981,-0.02754607412630854,-0.027393251580857775,-0.028571078579285127,-0.011394068124952646,-0.013516610127382301,-0.02245177720728381,-0.01735124083109017,-0.015745044639184688,-0.018434848448765192,-0.001942400328291682,-0.0009310228489390703,0.0004664306942516427,0.10293453010776805,0.09798063540696726,0.09870639585787597,-0.10169025704067831,-0.08376685354565512,-0.08110015757502861,0.0015876493042198568,0.0016903359258982,0.00560768891021306,-0.08873538842453224,-0.06860879378822049,-0.06271062099327704,0.0394695940173725,0.04189529590053414,0.04630811867858796,0.07978399140428326,0.07930530882221745,0.07933346574594136,-0.03629524919457136,-0.03680372359619482,-0.0316691842018583,0.07857930641866988,0.06559693219223159,0.0485884227310259,-0.0045253045351812664,-0.03221478901536025,-0.027282041857776582,-0.013408382003614012,-0.016569430833972325,-0.016856911379167387,-0.058876884192312066,-0.05849765996226703,-0.05841103644654914,-0.027947410240738664,-0.029446678324882434,-0.02992228078986288,-0.10049630069853087,-0.09287913756995633,-0.09738184277089001,0.030675854960576603,0.03387489123211406,0.03228475089522068,0.1387997908411238,0.13541429408068467,0.13110168486227428,0.0675886330723834,0.0698031608858673,0.06856667626474958,-0.016069924371230965,-0.01626393432930911,-0.01333015023847605,-0.03231218044843208,-0.03915234142567387,-0.034714776148708944,-0.006150024294621183,-0.03748389851882912,-0.04275400279591651,0.032475241116180865,0.032475241116180865,0.032475241116180865,-0.03209426593396431,-0.03212747524717584,-0.032310553981434405,-0.01540654625081123,-0.016529189675259154,-0.016108883588863598,0.03852598601354421,0.036492165308822024,0.0369508838961121,-0.02486793028360134,-0.02760568587486084,-0.02996356994345647,0.04715541670566471,0.04869699413465796,0.0475412506520075,0.033200643925574265,0.03332674447798684,0.03384645407916412,-0.0007279376459221275,-0.0016571986709808053,0.005546375502389006,-0.03294513688935733,-0.03346125100728315,-0.03371987669574852,-0.06424288116757083,-0.06277564330899545,-0.06340912633761976,-0.05776329811904562,-0.05672975714151327,-0.05928686632348715,0.011872633925977667,0.01041915349274803,0.012130047575151508,-0.027524905799414454,-0.03448585145185168,-0.035847049467193956,0.05542802484303397,0.05542802484303397,0.05357354780673182,0.06449132927732175,0.06446221764690625,0.06417609831244271,-0.04819567067802035,-0.04935502497278265,-0.03759946254038624,-0.03153232500223651,-0.03192279367441644,-0.03201846275507639,0.03151614519767309,0.03128791284231545,0.03408248476752932,0.02553597525025353,0.02553597525025353,0.02553597525025353,-0.05185055717904273,-0.049269129612907935,-0.05152024468641347,0.05159093158171119,0.05202416185339176,0.049090681152554064,-0.03687325772473742,-0.03517882277668608,-0.030533550933155258,-0.07646558012175084,-0.07830132736935516,-0.08004784020176742,-0.06658302333119773,-0.05863656827370401,-0.056204159743868706,-0.0008948210304432316,-0.0008948210304432316,-0.0008948210304432316,-0.1049004732639462,-0.10562325799310827,-0.10620962862178547,0.006275406762716181,0.00721607781854226,0.003008223892647677,0.015500636778736882,0.015478529847550418,0.0038656345675379014,0.008617328176435235,0.00842430495214992,0.008477784735020586,-0.05699446044482259,-0.058749801318327945,-0.05873087538137622,-0.04107579603800228,-0.03772079749799198,-0.03468699988947075,0.0884032891814555,0.08716260337719521,0.08711126322422116,-0.0027202620953212012,-0.01949143584066133,0.0012733036166096927,-0.016736739580056104,-0.017408022623351345,-0.01665038025136287,0.036268425067068004,0.04610303816688959,0.03859763553170369,-0.03462434470116441,-0.03752357878614746,-0.037199372899845276,-0.06522508180644723,-0.0692277483657693,-0.07587964019974054,0.10733203154075771,0.07808831605486669,0.10018117282239579,0.009234224316601945,0.01284683929531962,0.012692163557298838,-0.00798517379479966,-0.004673040148103241,-0.016204933123559754,-0.013537310033086405,-0.015488952564406107,-0.015114405523949744,-0.04761022878779761,-0.04838412231138808,-0.049962415707131634,-0.07901968221099726,-0.07869596585344289,-0.07706199507172744,-0.014968600095875792,-0.015499724360760306,-0.012023419105376631,-0.04370971418230252,-0.044625199431156545,-0.04058538973820799,0.0594085157777937,0.005936276908450091,-0.009073598759693293,-0.01901585830727734,-0.020057888360449156,-0.019131959095956906,-0.024918731325762968,-0.02690361851423145,-0.02176105480960483,0.016690471675576198,0.002148064421873389,0.00038951760661184163,-0.01649057101764218,-0.027517804531704482,-0.018776004914726183,-0.002436604825192595,-0.008687522456502662,-0.009311874788241897,-0.027876091490668185,-0.02429641001388918,-0.027740058814518815,-0.017115956717098903,-0.012699224932013286,-0.011677022957098748,-0.06900830066488454,-0.06368099008681369,-0.0654702979318024,-0.0060154439879055695,-0.0029811636242836393,-0.0032082584072332956,0.026825683749670204,0.02662284358809353,0.025879150564165045,-0.13654636046863297,-0.13809868457486046,-0.13690827580204584,-0.0002965746311219779,-0.002432242373844062,-0.0020681607421585025,-0.010465764762050458,-0.022517779173214812,-0.0213342527178968,-0.04037801401221056,-0.04524112853197769,-0.047786514077239994,-0.03974596698527857,-0.04502270775269448,-0.06145754219195681,-0.042963635705876246,-0.04152737539066362,-0.0404737714080065,0.03360393481102068,0.02861362380629535,0.02861362380629535,-0.036294140457659524,-0.03474137811450628,-0.03529180468674692,-0.015370528028470403,-0.015079831771496065,-0.01423654384188477,-0.02922081452154684,-0.02903144689619458,-0.030963201922223342,-0.10524635498544059,-0.11453437959807194,-0.11801731576802404,-0.039645574513350795,-0.039042677194108644,-0.03665638145019906,-0.028848629863443564,-0.030009876595441486,-0.028814324771316218,0.007872882793670112,0.006093079961975557,0.0023481995857950514,0.015808076581502257,0.015808076581502257,0.015808076581502257,-0.004090676451513424,-0.00543721384750792,-0.005180440813350775,-0.03994781623793575,-0.03863109916713563,-0.03374242533380782,0.14847743709838584,0.14678067311840934,0.1526758365252523,-0.022640937462733202,-0.025770641435924647,-0.02216864498024317,0.061546591678722964,0.061696849240093096,0.06112679454192316,-0.05263114176607322,-0.06488049919967266,-0.06434478750532384,-0.04439597006034392,-0.04608784150700533,-0.038177278231071546,0.0849600600572201,0.08570087634585713,0.08519747787551242,-0.03232263624592161,-0.03082752727399807,-0.02851569131692865,0.01217566516247108,0.01217566516247108,0.01217566516247108,0.010598459717826313,0.01107424576867783,-0.0033200755121092743,-0.03250449828487011,-0.04216126964562941,-0.041067988762013063,-0.07380921183367015,-0.06222865642639801,-0.0431824437543436,0.06529595257412274,0.06611560545386944,0.05108328677744558,-0.03589326331662551,-0.03604255895196694,-0.03915497190133903,0.025427451545692988,0.026234747460008645,0.0417203036973404,0.029391032628331686,0.02910917897786759,0.039164816174432106,-0.07606014435096599,-0.0728991484124134,-0.07483515950241405,-0.032771712641581116,-0.03746389853953695,-0.033560345096340295,-0.07003993289544486,-0.06690441367266262,-0.055097089068847804,-0.06957134549234195,-0.07145681125103351,-0.06750240987729267,0.016613125861852936,0.05799396804995186,0.018687420999601512,-0.010587620715456684,-0.010587620715456684,-0.010587620715456684,0.0328919896710292,0.028935381364793955,0.028935381364793955,-0.08756248511306114,-0.08859090778325572,-0.08722587958220974,-0.0941210869523185,-0.09587371146509115,-0.09129865872295073,0.014685652657109773,0.014685652657109773,0.014685652657109773,-0.07659711959835,-0.07668820613925899,-0.08139706547555606,0.24017339176548788,0.24264028778890717,0.23536414208469442,0.034034937043035444,0.03999728673653531,0.03372689574818447,0.041023939053805754,0.04021587622277428,0.03963969295155588,-0.06140526719911289,-0.05719936216557544,-0.06497090633888242,-0.08477243112408665,-0.08647267235873148,-0.09781199552458444,-0.024203587665443484,-0.019941719470450706,-0.0286643924387586,-0.05692225962978588,-0.05566831028640955,-0.05731812680400712,-0.04595357582283294,-0.04566867593054748,-0.046212910677621434,-0.04272203694207229,-0.043885463375572954,-0.03533863861633039,-0.08788351785866394,-0.08858794659143335,-0.08739445491301341,-0.01748545537056506,-0.012542826872383492,-0.005015896363599214,0.1371195859028949,0.13773240806937734,0.11486903510782676,0.037558262550578016,0.04041307702275451,0.0544668584116226,-0.014721965580141248,-0.01824977359981704,-0.018519595945462965,0.056712185964911316,0.025445039804348268,0.07156869949748282,0.0624378180731333,0.06338331740353302,0.06289218499203098,-0.04150092930448833,-0.04529720328502007,-0.04356189266940659,-0.08084472977389778,-0.09133993612519986,-0.08814470855110423,-0.04602584721964287,-0.040376846322361826,-0.04357024719370471,-0.027374989673355526,-0.02782926939703882,-0.027811909316828844,-0.03261758939562146,-0.03241018742013342,-0.02817226716668333,-0.0005568154922909036,-0.00469717192764349,0.001662172932965905,-0.0551234283100279,-0.055570842660432704,-0.055001649333023574,0.24982237044094494,0.2497740782684247,0.2501577721721992,-0.025744785076119287,-0.026035911209927477,-0.02026509807273686,0.06842322346804025,0.07538510958554967,0.07615671620966345,0.010666573918090224,0.01161539343265383,0.010418626066584868,-0.03814809514617135,-0.032477995882116154,-0.039029830423078726,0.03849519155790055,0.03598515709745642,0.03677371193797703,-0.02373674154992726,-0.022878737640836637,-0.0199358721536321,-0.06829791961982949,-0.07938869875689619,-0.0779198664409977,-0.05805547450319913,-0.05868957128932779,-0.06125316057152236,0.029502584744068708,-0.01548300880550866,-0.018481848896518056,-0.095036862725471,-0.09374278237651272,-0.0967131847383648,-0.03354070927967794,-0.03762911925877496,-0.03791239460444782,-0.09040573142559613,-0.09029333244877577,-0.0815045415848221,-0.04064525556432019,-0.040936561071567366,-0.04092141601437856,-0.02118804845493124,-0.015540452811129854,-0.015273969395683396,0.21145483484801042,0.21184733136160722,0.21122171689073643,-0.024631096868343944,-0.020790331967869783,-0.019539126877528654,-0.07757178230939721,-0.07910561457419318,-0.07814922431307963,0.24678075750428174,0.2477014492391787,0.247717155789145,-0.05585409270595461,-0.05598438122812559,-0.05634393200509736,0.041565954648492734,0.03931651152254167,0.05048289865920618,0.008254088297151168,-0.00196267239407618,0.004115391471159924,-0.03416639396452025,-0.03416639396452025,-0.03416639396452025,0.03070784227363608,0.0008891476628230978,0.0026285410609025645,-0.046012038447998775,-0.055293185495797814,-0.057716115305512884,0.07160077253969381,0.07070721011244624,0.06411907014400736,-0.08718718715231441,-0.1023101394004302,-0.1026261938690698,0.07947357856064687,0.07866348580526629,0.07818330258110157,0.02322076151929987,0.02292768537379281,-0.0025064025259391434,-0.03372533205856709,-0.027951716221393638,-0.026936730480552493,0.011620817295029876,0.011813362511385414,0.01077663136195764,0.24334650482340164,0.24254687170341757,0.24208379935488017,0.05281807303778107,0.048641474067869485,0.04728054261351563,-0.013795531057404286,-0.016277841847437705,-0.004679026901778513,-0.024973433083301553,0.004039772806987028,0.024046208874455806,-0.048437528662107106,-0.04482507713848697,-0.04630678551354574,0.2498769949941303,0.2511890010763863,0.2512967068973471,0.058470234548040685,-0.04137101534500573,-0.04034522897422035,-0.059125133561885146,-0.056523079973325126,-0.05796729504903726,-0.036190165603687416,-0.03888482101482665,-0.039037640488289845,0.019826539374975097,0.01880807919799003,0.012777558275141019,0.009426964071978697,0.0055156212356992935,0.004883889381527127,0.02148274240921205,0.0163172063727277,0.026162925634832492,0.0849341225498208,0.06262860264957805,-0.026658414558473866,0.03756254408671959,0.023163965184273536,0.02200629761252058,0.00023119715144119464,0.00015373178747404796,0.008182111215911147,0.08933426290254104,0.09377736902496017,0.144625356237145,0.053459689479830305,0.05317288074687405,0.05317288074687405,-0.045816119519789034,-0.04153265267849853,-0.04100575851893104,-0.05894822265071961,-0.059057270929813256,-0.04951248200868148,-0.02473639009871287,-0.014507011208099174,-0.017562195818026684,0.11085896312382189,0.11396185224018435,0.11236010386834745,-0.026277841563530153,-0.027284311740468324,-0.023801652972072183,-0.02777111812655431,-0.023546066515352956,-0.028509001669664857,-0.03335174445935647,-0.03266876261545601,-0.0239484840389448,-0.006399852116082763,-0.0039921049068412555,-0.0017848111264615397,-0.08489428767197536,-0.08591688592596274,-0.08670404799444925,0.00689841307757842,0.019821064228819435,0.012125671972302073,-0.037757295252120605,-0.03889493227425883,-0.0547294952865895,-0.02708857346148228,-0.03229777562088721,-0.032552733574479076,-0.01141584854606636,-0.01141584854606636,-0.01141584854606636,-0.047067017737351266,-0.06365296755571674,-0.06814011730913162,-0.02810746773872367,-0.03915527235356438,-0.03981347016459114,-0.1389355456656821,-0.13644396535918166,-0.1388451639114357,-0.040038154754631905,-0.03860943414114746,-0.03889588934274515,0.033330653058901274,0.028320642719118643,0.03472376720052808,0.04874202599510667,0.050810536262427056,0.05017690773663571,0.06583347348710725,0.06544838585415176,0.06285907171504009,0.011059299032189385,0.008957592306571525,0.01585951419883753,-0.030179355478365547,-0.014472231948636822,-0.019097508326249027,-0.012036499019880516,-0.005859219762683201,-0.003834570044735833,0.03884902956497627,0.007035770033249337,0.007035770033249337,0.010600942045468548,-0.005253430571355847,0.0007467666543138688,-0.021285698808750305,-0.03229311746014314,-0.02990467405376966,0.01185542461944535,0.012717116528440394,-0.05594035740213895,-0.053856827876370146,-0.053827676332869466,-0.05338588482186907,-0.024252337465563514,-0.027234320146325274,-0.027979606661389732,0.06203585375974416,0.07924779849177886,0.05139919200623249,0.02111560931271477,0.02246223726232069,0.02177970856559623,-0.01631056428544862,-0.017067825904179854,-0.01663228232387559,0.009235620300735877,0.009463002172185177,0.01489249983970226,0.051120914028442675,0.052967591155868264,0.051337667876274265,-0.023789053353005678,-0.023444670303236454,-0.025314802465654856,-0.0853307868110525,-0.0857145314182873,-0.08201611250035588,0.06488048117087014,0.06281775204291502,0.0637985314892781,-0.02727651002818987,-0.02761879168676871,-0.028383644686484903,0.0057719171309144075,0.006273414204858561,0.006786316408535117,-0.02676636541411236,0.027245104639765944,-0.03169505093902891,0.006659587993456419,0.0066685137467271385,0.006611700772600923,0.17081414972899064,0.1569554408377272,0.16753895223647713,0.025765179956124696,0.0372989375878926,0.03718558963152699,0.042147035669822384,0.05491923709369901,0.0564195792216765,0.02793429321758508,0.02683375593076353,0.025348548934660126,0.06230484910712824,0.06368022072504267,0.06284239054869098,0.11585151244802948,0.11380294643448179,0.11202449070325649,0.023947804936501796,0.026904298317938106,0.0277562200204301,-0.0791500770229233,-0.08130066751063798,-0.0799329948503798,0.02502609355514496,-0.030974495800998127,-0.03216405554569048,0.014554968399974725,0.011113861223592198,0.010148934192677306,0.05454875385397446,0.050587868350539425,0.04845986915170614,-0.02533400753685513,-0.025127087206948555,-0.02892448653082231,0.0486353057282202,0.01278987175230066,0.01639354372742461,0.005568670202180608,0.022195252162138482,0.03244093627958061,0.051709128515683066,0.048704989659769694,0.0638490961033647,0.047267853463337506,0.047986748850379964,0.0716585374441695,-0.028862706002711905,-0.025125406543525162,-0.02566931590637376,0.004327272422896105,0.004766134412519982,0.004593919075948946,0.06030274106296577,0.055074897074028906,0.04800263750810673,-0.016650094920385487,-0.017259940900879508,-0.018914661547775855,0.003568641931741334,0.0038873482945140873,0.003409786507268797,0.0059115021250105764,0.004047292451226538,-0.02053142470066538,-0.04393276554439527,-0.04127675217208738,-0.04480785214629537,-0.10117815325340455,-0.10659295093301531,-0.10658554551270856,-0.01598427765691866,-0.01776060097137985,-0.01773498595430403,0.00043271424063650877,-0.0009141857792486891,-0.0005840159022245806,0.2566566899629984,0.2566524439338061,0.2568221545289132,-0.009021505025621825,-0.011252445344389702,-0.006244801234989863,-0.02313177064634436,-0.022467404747411795,-0.030338786054019344,-0.007385451365204458,-0.015717818748172754,-0.016302270900883497,0.033011837266925616,0.03184047173422992,0.031334702247251704,0.0026838062916769764,-0.008848866858013643,-0.015067187006863736,0.0018573427601253133,0.0016946440136205495,0.0021158352427209258,-0.018462378360207483,-0.018462378360207483,-0.018462378360207483,0.0958237529982202,0.038677420244993876,0.005776335098630534,-0.03634440210378745,-0.0388143464289877,-0.0389459346230432,0.003034703580975376,0.006127603070664654,0.007485748458616717,0.0220304863562726,0.020339180405498536,0.020455211966412756,-0.019851838631269318,-0.017570773380556806,-0.018924459881722,0.024055152662693452,0.02455954656511312,0.0407784059702476,0.013918906760976206,0.015222823754161273,0.014242558387021797,0.006544764377570934,0.011764994033800883,0.011019135653018758,-0.02552498550921951,-0.024033226285163384,-0.02425591911178313,0.020613554572085763,0.02925180916464477,0.014216268540137595,-0.12186974411911775,-0.12283346152480701,-0.11782455262643382,-0.01820281703187794,-0.020878902647404565,-0.02155603277282816,0.007377699937780848,0.006225345051309546,0.005888424657151744,0.03461188401865338,0.03114124623910395,0.032141149946209056,0.024792917627358316,0.02491914987623777,0.024405419999045278,-0.03605855647048312,-0.038643706883306234,-0.035605566925593427,-0.009536539095466166,-0.003808449219776869,-0.0037659122316035082,-0.009359255217670817,0.051977915405316856,-0.014031591813084512,-0.03815513246309697,-0.04698222920735349,-0.03874837221805626,-0.010116845506042246,-0.009679586124053945,-0.0093187683259026,0.02649108407545738,0.025420168951256945,0.02930481375705719,0.10283279448204473,0.08944304819103073,0.09354839661819135,-0.023272328008775205,-0.022872346249437906,-0.026358394976070783,-0.044876081019938535,-0.04416184837892258,-0.044255438425447796,0.09605584882092591,0.09732582313776389,0.09617754159863612,0.05484710475563506,0.017324211659913838,0.024095414636067954,0.009675714647557431,0.01510234815334004,0.013378017725226444,0.11527071704393188,0.11595451453679592,0.11654083823609271,0.018832083914347635,0.02446657039912881,0.022051025909330394,-0.022078887605218964,-0.02261095276857794,-0.023410839390956086,-0.011578985313529033,-0.011349573703464769,-0.008536101965326434,0.017633269154770835,0.016947420425085426,0.024255709107927976,0.042634569337073304,0.03081407220578052,0.03712977953637457,-0.05866239591036256,-0.06012550807744319,-0.059304220753516226,-0.028281293826730197,-0.024837950228629998,-0.02460684908501369,0.006727916349947051,0.004034186326611134,0.008763028130973533,0.03711450705818472,0.03685742515414579,0.03439787174518875,0.016504961941764318,0.013810594032482734,0.01110122014151893,-0.023062611836639817,-0.02084623228031885,-0.03030418112877236,0.03468487388902715,0.030885396821065673,0.029214452205449354,-0.02343849280420833,-0.01791768116609392,-0.021877125381291086,0.06854423539573876,0.06817767485565644,0.06564941315483824,-0.0017946674036365365,0.00021777649562448252,0.0034679312778347926,-0.10428171701250145,-0.1048731158374412,-0.10255969122696056,-0.0038040954887483005,-0.003420674639790297,0.004905862907507213,0.013879921533038382,0.0217877799310064,0.01911302301323688,0.011876508360835892,0.012689781628538704,0.012689781628538704,0.023637681168204125,0.02332168032107433,0.023299143751580757,0.005054897271250915,0.005559894858030797,0.005695676097877045,0.02824045940855294,0.035050745437419824,0.038391049124413296,0.019738151699627064,0.025465527127835123,0.015044103161127684,0.03806389008314209,0.004369856259947822,-0.008535873207869759,-0.08316129783159794,-0.08133045477048875,-0.07961625797457725,0.24490005933132242,0.24746507323432348,0.24693311417942698,0.030174391685143662,0.030026352049062975,0.0301689368816175,0.04734653089446638,0.04650254345911097,0.03724971288372462,0.007362023179463253,0.0076498835448989755,0.007583443032178546,-0.014165544839395923,-0.01991498128626462,-0.0218746290015066,-0.03296856418234396,-0.03232129855107286,-0.03173769557987549,0.07933619106530071,0.08225811701575345,0.0655489682478876,0.01889928348970403,0.02313639902283731,0.025219064152316773,0.03451512172222107,0.03179293063440854,0.05003269833084714,0.010752020033084675,0.00663200201952133,0.008062298298432337,0.029488871817252214,0.02911378280467572,0.024999992530096937,0.06138378288176781,0.06109928914568064,0.05942123158595917,-0.01692426811924398,-0.016385903065241878,-0.02487446723871444,0.0027894734412245246,0.0029215565867097095,0.0001026800309502869,0.03826529217758112,-0.003436391486097242,0.01656434640601738,-0.047311563516072255,-0.0490541139635135,-0.038712649283950226,0.013872261428896231,0.012874630917506387,0.015093374236600012,0.13939094068095464,0.13898101338533259,0.13858536816350883,0.006304072493998325,-0.006377360794680731,-0.007873885975846977,0.04353173290979287,0.04012755581241167,0.042440370084300315,0.13671733394153915,0.13973711742762476,0.1370865167762546,0.2521323416329382,0.2513802525465791,0.2505203742810809,-0.010188854665460293,-0.009868252353155988,-0.01292651336861287,0.07070280204069351,0.06533757932512185,0.061366758429983286,0.013087807606753902,-0.020488778039506408,-0.015735649983332333,-0.00711837892390358,0.014933259893458933,0.026661812942733582,-0.041177164327105616,-0.04134362310998878,-0.03827659440097252,0.03172500136937423,0.031231498218351722,0.031217283094991916,-0.033810247640695644,-0.0035394614198857003,-0.021797757559054394,0.027069010806224644,0.03515656888064314,0.019541359089306844,-0.025374304156661552,-0.02790357917021631,-0.022729329689519663,0.05729628264695702,0.05729628264695702,0.05987211305854282,0.0009390012372315583,0.0008490006858543825,0.0010094933068203378,0.01422381613401657,0.01422381613401657,0.01422381613401657,-0.0014593862695853332,-0.009777857138571221,-0.006593309924146625,-0.010402931059421737,-0.0037796806528830468,-0.002901964897516488,-0.00944798745119995,-0.005664634866656185,0.015944104885673462,0.059048770402511885,0.05620188414574515,0.055471663881982186,0.012864194435301993,0.012879422975206882,0.011132364264435014,0.04031838234362084,0.03676654473431566,0.04152495084061796,-0.007708146009311423,-0.004635860626130583,0.008405498817498481,-0.02328650428031921,-0.02358461031191927,-0.01808207917528111,-0.02077839857418952,-0.016341622972676054,-0.024220815723750084,-0.013956055988400533,-0.013707194614439405,-0.014224614027709406,0.017973289458266796,0.027628874856284378,0.02747567112621295,0.035771149585661785,0.03602047079079313,0.03644222707816003,0.0466977010046038,0.04708291033898066,0.04676910440940621,0.037066666427761186,0.0059784914583125084,-0.0016193507130397304,-0.06669307194465789,-0.06524624953278257,-0.05573932360732058,0.018418674911868622,0.01976679903256983,0.010914407865580495,-0.02451037299091512,-0.024432666285089492,-0.024432666285089492,-0.0052391014119647665,-0.007584838018005375,-0.011819354403430092,-0.007741931754686226,0.006988098817870477,0.011638014983073387,0.043532334642487694,-0.013066606607397818,-0.008141002120355586,-0.04573453585667422,-0.0529671321397851,-0.05151648021404162,0.03912996458218383,0.03912996458218383,0.03912996458218383,-0.0027533742409986276,-0.0014454751796519347,-0.005285603329096184,-0.010262941763352965,-0.017571061943542524,-0.04412592851703923,0.025720737499187955,0.025715902180140474,0.026400602273760884,-0.007634580005806131,-0.00972466062188699,0.008177214336069912,0.009534238069555681,-0.012417721387006222,-0.012040814379524548,0.041356153754313646,0.025663371003348732,-0.006451555823869448,0.027284359843653246,0.022301852326333582,0.021307184869151036,0.0016031552942786299,-0.0049110157923950536,-0.0029733518894678396,0.037331666853164205,0.03568608080313511,0.027496575201927578,0.02134226066371855,0.02134226066371855,0.008660441270823403,-0.0226219561006702,0.0038783958274245123,0.004573158008456465,0.022362845352907054,0.019486135738767712,0.01579616074498348,0.039008139214624836,0.00027391948717994457,-0.006748919592352075,-0.010443428530693627,-0.010703814566224813,-0.010931223361676902,-0.005231967768434556,0.027314606324217092,-0.015759050639513893,0.02116107853291181,0.021365562291298094,0.00877747437663121,-0.0045429169450981735,-0.000490593829472589,0.01232068387820314,0.02297442399131194,0.007754055801090313,0.004984493295924846,0.187065774418436,0.19553272274610783,0.1867737397394342,0.2563251776947636,0.257160139855545,0.25708521560306097,-0.0040071137561636695,-0.008786471609140457,-0.013068147488530666,0.07310005633794714,0.07279290517908883,0.07116835339576075,-0.023533895014771936,-0.02322545438590275,-0.029106475423967677,-0.028839616193367473,-0.02819052536739059,-0.029179642705360987,0.01835815487500372,0.016823134277873446,0.018065826063909357,0.034928044141720876,0.04303638286147966,0.043635315505185936,-0.019576474558055668,-0.018473172495131713,-0.020808796464375064,0.027508088601644824,0.018204421998061618,0.0360760494939786,-0.002181635784180738,-0.0034977214139169516,0.012652423280552398,-0.010122892596831818,-0.010665449956131659,0.0658386422036377,0.06828738803406147,0.06769733357261236,0.0665940887880018,-0.012916538540700673,-0.02071046338644028,-0.02515985975219191,0.021504565101215147,0.018806842730326297,0.019642236505223634,-0.026789803407703334,-0.025494860038711382,-0.023938550491112525,-0.0055359406508611615,0.004693352577593936,0.004713478690008483,-0.014831214297622594,-0.011709703493861665,-0.009450358368834474,-0.037466677547099,-0.038043067180921444,-0.03860029388104637,-0.03401755798127583,-0.011900729589205426,-0.041789141959714116,-0.0555853825528265,-0.05118037361450405,-0.049516010973578474,-0.00011281022571436595,0.021194617871756354,-0.014491687798794702,0.016072548695871148,0.009999787408801798,0.01150921094099775,0.024510077172494957,0.02931338351251423,0.036903403746888115,0.030536432270330954,-0.01804420160525496,-0.0254754496225458,0.06976387033591507,0.058125050043474735,0.05883858279687698,0.018014741020639283,0.019750194779450683,-0.047105000463339534,0.06581023780619652,0.06468436342741819,0.06260488373730333,-0.027576433725709643,0.024830125676044316,0.015388112148474326,0.043358117006573736,0.04291879792114914,0.042617469651061585,-0.010888638419208336,-0.0114956225397121,-0.012217652723625967,-0.07702599910814166,-0.07937600746713515,-0.07875830672645749,-0.13025013497705662,-0.12824816951954196,-0.13146503787498237,-0.0019315605699094327,0.00386343467971227,-0.0036765615603822953,-0.016760409710449127,-0.015373583284496142,-0.012636214200144512,0.07205676379410926,0.009013222338998742,0.007236169802130472,0.02416113330824933,-0.017898281895241678,-0.0182527103997997,-0.0226219561006702,0.0038783958274245123,0.004573158008456465,0.09486071897909817,0.09523672903211995,-0.017794733925114405,0.01534217086403208,-0.022607332089205616,-0.031842837814123906,0.0015808463574346764,-0.005198636473604026,-0.0070176288766813245,0.003064336069944584,0.003064336069944584,0.0035807222814972723,-0.022628661323282877,-0.023083145550044017,-0.008401407703271782,0.013046694728038202,0.010446037856024689,0.010446037856024689,-0.04159426971548242,-0.0357087263396232,-0.033523613126400044,-0.011888220556316782,0.0014191629707913558,0.00600225036058644,0.016286215599432035,0.012189628084294819,0.010871147971425292,-0.024619291660308882,-0.029420667936583707,-0.027062934775181458,0.00531248433174527,0.06187980933430218,-0.008438277503793638,0.0032768870507639335,0.023958370836198308,0.024319181252197574,-0.023701235895930362,-0.025863968791079252,-0.01816673090377905,0.005906665554991504,0.024470768102478096,0.024470768102478096,-0.04129530115963081,0.04010111511304444,0.04178086221790117,-0.045335817279751216,-0.06069399332495949,-0.056865986013058964,0.06951952388057236,0.063009479733747,0.06322422760243039,0.00014234088012094406,-0.00899431381031908,-0.004023796395422423,0.005396908155409631,0.00865619802140099,0.012165118555456711,-0.0041362552135820125,-0.0051529992101524485,0.0032496995465080064,0.03965062623419528,0.04443216922041772,-0.02868891714242544,0.0099830307765637,-0.009761595746987902,-0.015061913554385907,-0.026198420281530452,0.06490833305046793,-0.003530042370641248,-0.018729819288041624,0.02444184947636974,0.009862203756516126,0.013272584113488103,0.018606219643093603,0.03633542469151119,-0.020365346266229524,0.031102733462825147,0.025555682557367874,-0.05520339823960012,-0.055534331239859167,-0.05798856507483689,0.015457407481967361,0.009924597878910688,0.009206879977156837,0.03660337918083929,0.03685732972779412,-0.0038855820347688404,0.011044548543955104,0.011044548543955104,0.011044548543955104,-0.009647003322930616,-0.012398767241213762,-0.010833160505652036],\"z\":[-0.021000837657502804,-0.025446695699943667,-0.02017077729803495,-0.049786389345170615,-0.048059537046220874,-0.04657456244244676,-0.019929214622807168,-0.02817774931368394,-0.025827198185181463,0.0258648768694369,0.02411390759698869,0.028301205911907656,-0.05576952351923702,-0.05695507786772196,-0.05444683235234836,-0.02540218924405703,-0.022746671787193005,-0.022448425692088006,-0.010097953275531429,-0.008267197063313303,-0.007525449910006538,-0.019647356786714622,-0.01828680865720849,-0.009479253408712736,0.0175572706794314,0.016781933050080276,0.015564468699897442,-0.014412853915989366,-0.009892249505677594,-0.011197583133350397,-0.011452473772399389,-0.00903964541390501,-0.010529271150852254,0.025115914230489467,0.024739739561939728,0.02470033733800147,-0.009339770361758572,-0.008539783569390171,-0.005680186828958262,0.001875357850903485,0.0017681510347232416,0.0032125723098211027,-0.03796954404186194,-0.0347083961288709,-0.0343638354694215,-0.014574003200807243,-0.0145762478918154,-0.014425685841907886,-0.08743925051759512,-0.08633188232016341,-0.08783040131720118,-0.02477120060592297,-0.025024859805582986,-0.025352317446344683,0.008432923384418207,0.008184937292402751,0.007806450330696108,-0.07957577867137497,-0.07811020415741422,-0.07972002946127021,0.01557769359557363,0.015620609875143077,0.015646174642121122,0.01315182419253154,0.01898593172100595,0.021443264873723524,-0.0006881797609207479,-0.002023655568100359,-0.0012650409425074636,0.03428391320176242,0.029636406503799832,0.029213077970254308,-0.05562002203841315,-0.05092281925261343,-0.043988439600432444,-0.018494666901005246,-0.03008690579665639,-0.029100244792443015,-0.12307090430923127,-0.12238445964778699,-0.09813384046033893,-0.06977630165124991,-0.07866819649784863,-0.0681546188636839,-0.06650118271966246,-0.06521522578449844,-0.0674197474100012,-0.008473738225332202,-0.009110845290263464,-0.007539071418812948,-0.04506396652487179,-0.04091145383706644,-0.05150868830355375,-0.005545811238685579,-0.004159274387686762,-0.00424103325453184,0.016507436709967353,0.0019460620287996165,-0.005433186977906746,0.0031783473895672177,0.0026258702291953916,0.002619122473914799,0.010900011310808939,0.01068856526781067,0.01117243016586135,-0.034049653173518074,-0.029955971414521852,-0.030051549551411632,-0.12576501776091742,-0.1268623150536801,-0.12719068837977843,0.047804276363435975,0.0423084601234579,0.04467989128989753,-0.006528524055743239,-0.002439082686387734,-0.02626863105173204,-0.010997004951956138,0.002225801015715291,-0.01768952557312238,-0.07659573483005877,-0.07457339289779234,-0.07517204814778487,-0.06693933265757608,-0.06549331242776738,-0.08110203455498706,-0.0006443293190771785,-0.0019712805130924853,0.0016224114587545966,-0.0805897943751355,-0.0802053187576848,-0.08163379832636178,0.004849745556329084,0.007846891351603527,0.00618106732153974,-0.004958023802022381,-0.010094590884116385,0.025687157965170893,-0.06529181285606055,-0.06459309082395549,-0.06629661634617266,0.03276491363281286,0.031912531082079844,0.03018970513060811,-0.012029101480128913,-0.012969902144525505,-0.0122546889381461,0.008835048958373498,0.008878806351124454,0.016230559944141902,-0.034568127876250944,-0.0349888474024744,-0.03547864647165407,-0.001680186119763646,0.003239960569319053,0.008417442522510183,-0.043998131518085716,-0.01989873186304815,-0.04154532969651082,-5.225792667308139e-05,-5.225792667308139e-05,-0.0006165027319448704,-0.033553450073499164,-0.03981572897642901,-0.04012097676341263,-0.07211017053944584,-0.07100089512780927,-0.07230086036526084,-0.042187946523629866,-0.037230544734476116,-0.03160651556794089,-0.019398830241032297,-0.019281174391187726,-0.02221585353423706,-0.02261380926862231,-0.013610393108811205,-0.018781000212839103,-0.0760811993806339,-0.0759617055287727,-0.07912795703747648,0.016711376274763174,0.016266793137437265,0.016625843228132035,-0.03182311855847746,-0.031493778050759945,-0.032219212958152416,-0.03541931679241906,-0.028420555129695813,-0.03608562569826905,0.01083683352191542,0.006950063189292815,-0.0017759120019717719,0.017123357739302226,0.01787313689377778,0.020325991821643425,-0.018130240599666458,-0.018161580028614854,-0.017488712495867646,0.03056259262449222,0.03189650724555569,0.03164861035381429,-0.04086005408840039,-0.044029642080389154,-0.05643621869740904,-0.04678028241662849,-0.04278509740214295,-0.03733618216346544,0.002980514389915386,0.0028565170481663696,0.0022834310468585087,-0.0019517626825678912,-0.002232383095900092,-0.0021882353385277503,-0.02890853730579862,-0.03685633497215726,-0.03687828074701098,-0.039163613881580656,-0.03422089421725771,-0.03383086309528636,0.04190688656315604,0.04161279136598292,0.0407655720883365,0.03867880982195121,0.03798322099735743,0.03268584204167219,0.004011119657535178,0.0015553764555193026,0.007727534748346638,-0.06218586207675438,-0.060265957166309246,-0.060708679910968094,0.025654789350121863,0.025012325868829764,0.02630529193024715,-0.10557559398676414,-0.09891002821493018,-0.10032047406224293,-0.07421377939376168,0.0028565103486393913,-0.08055597897839484,-0.0668224936251676,-0.06976304957537548,-0.06615983254943407,-0.00305911761275151,-0.0022543617756910616,-0.0003523396979795763,-0.022444678715628965,-0.024261556692095475,-0.023615424221962743,0.028644561141571427,0.02524356656645238,0.023031546532627543,-0.0009508644121622395,0.002128365629081078,-0.0029038842873799695,0.018645591487686127,0.01939524754427446,0.021982399373328004,-0.007080966942683909,-0.0002075594125729542,-0.001064721338017801,-0.1294351916130139,-0.011789387431210321,-0.12901052475294905,-0.09194267414682034,-0.09072322598595119,-0.09052424963468643,0.008914178129616035,0.010354372275278445,0.009042191841375313,0.019478573970486725,0.01957471311248394,0.019587167046305295,0.1399046763777497,0.13477888356758125,0.1331743575853089,0.09225637009271083,0.11472032225672754,0.12089029054151088,-0.009502530119900047,-0.008904121657471672,-0.008533247867969386,-0.1315364620787201,-0.1310675958999298,-0.13095956261731256,-0.007022196110230917,-0.009181578867157049,-0.021349375872444832,-0.04927200950240011,-0.05078456835190449,-0.05039852162686549,0.0798871133544836,0.0830508432086611,0.10058598487242547,-0.015255199512877876,-0.015268315624535365,-0.015112345404838431,-0.031187091008752606,-0.031101366800939466,-0.032006032593874786,0.17787383406072063,0.17731940965776424,0.17716070176620663,0.023336122145491037,0.023562729097614653,0.013480509448909082,-0.050181149368535606,-0.051870467017480514,-0.052791214344158115,-0.0041434370877560375,-0.0031457387405024154,-0.001824354358458244,-0.017440963142881502,-0.017490112594813714,-0.017533410752152995,-0.10154875563289079,-0.09958508465630768,-0.09920616389931869,-0.04408969338153022,-0.044467128439691035,-0.04326034804997853,-0.0701250312463592,-0.05385928954466018,-0.0470210284238328,-0.023739232254968306,-0.027511795497584698,-0.026995487710045285,-0.05332252370832532,-0.052476865392657085,-0.05336554312398107,-0.009293318026518527,-0.011073473794829763,-0.007744767137113744,-0.0009574598657249794,0.0021523549578466774,0.010929746508979534,0.03726128609610995,0.04601634772318615,0.07263104254774931,0.11772560234713443,0.13410593946307992,0.13784118624397595,-0.051678425672930746,-0.051601256989749746,-0.05149876580979894,0.16785495068132666,0.17532504973363414,0.17615253895943075,-0.09674230516671975,-0.09208106662681763,-0.0892849159143396,0.011883243413530786,0.011502048964061201,0.012067709721490348,-0.04815987183790476,-0.04764737844945927,-0.04779317221109448,-0.01974642177505346,-0.02041316001078043,-0.022723778135861544,0.14456359778299843,0.14394752233406494,0.13963802875765585,0.02358240416676821,0.02542712234449226,0.03415439357423128,-0.019297933826933174,-0.013941455560116984,-0.015708123142549327,0.029669207141006668,0.029669207141006668,0.029669207141006668,0.2406287500994054,0.24039441560081204,0.2418246441294988,0.008146082837715672,0.003579108863476966,0.003455701063227231,0.0847248003501198,0.06683770707350925,0.06533245847759228,-0.0006117798548313587,-0.0036015567811175557,-0.005226101923409393,0.02096183380440406,0.02120678123629902,0.021509833297065295,0.01787882672290263,0.017500019953889393,0.01779330303863525,-0.02646699384682811,-0.02677966816060208,-0.023014152187682806,-0.014122222353951556,-0.012476491762100316,-0.01168380429677431,-0.05918748647791482,-0.05913732273073699,-0.06320805503016609,-0.023009432296168458,-0.02227559926543487,-0.02375685330855626,0.01066838221845344,0.010509974200384839,0.00955327505174731,0.02520784230634604,0.0308069872334024,0.11080374463826531,0.005464240510453403,0.005464240510453403,0.007867658786164295,0.025404424419714293,0.025409981047939973,0.025761483027797454,-0.051006954426619386,-0.05241569134063897,-0.042950057104745275,-0.03894375949473429,-0.0391528433007682,-0.03910707983620667,0.010882472966778306,0.010791784862808403,0.009703758993158076,0.028129565960491463,0.028129565960491463,0.028129565960491463,0.04599017894903006,0.044515489479859366,0.04167763935472434,0.009160333113626403,0.009916721010279057,0.007155328267999475,-0.03031482437453053,-0.03302245162513646,-0.03114035543370351,-0.03657147379800619,-0.035819166428889125,-0.03725760192516337,-0.059310445866048236,-0.05182097908896293,-0.0498278526957082,-0.011593497344563001,-0.011593497344563001,-0.011593497344563001,-0.10100451284153034,-0.10142914964016629,-0.10177795950346373,0.018647024987827335,0.017461503472680107,0.020069716521173713,0.008878718086864109,0.008875207421545898,-0.038139002670876436,-0.008484928030724957,-0.00849370206888186,-0.009291147540585812,-0.01749073168650359,-0.016056648707652502,-0.016364979153043954,-0.01363518480547312,-0.011660451400016576,-0.009610897763594913,-0.040481826330309265,-0.04005321864192008,-0.039958749320916524,-0.011598758194900373,-0.018945806123836232,-0.011985870994074251,-0.034750041319867565,-0.03614151186841517,-0.06822826319696404,0.004310036746727355,0.002761721178377487,0.0001345296140589939,-0.03182832133276782,-0.0357308012551165,-0.039786278721117556,-0.048092368160301706,-0.05238698349964457,-0.055299681006232775,-0.02977912698183059,-0.010192906186566722,-0.023983347557481376,0.06829790774510786,0.0658049038470505,0.06669726211315956,-0.04141863022472708,-0.04400452666211889,-0.04616259712254078,-0.033744507037787884,-0.03349880559124387,-0.03354769055533333,0.04456872169079142,0.04149587143338497,0.04133486799889911,-0.06956412294636759,-0.07173256742808908,-0.06710882436047903,-0.03252704631696573,-0.03154035115825658,-0.042774033706170236,-0.031300616864354876,-0.03161949997916141,-0.0267547182139727,0.017344602686591708,0.001972815358579806,0.0044533116589944195,-0.025688756830051663,-0.026160209769899863,-0.025172372900572358,0.1573092446939586,0.16600568864283446,0.14444278966260188,0.022732416934788002,0.033167709585911864,0.03362645845597923,-0.003542768250036635,-0.0034472308302972298,-0.008286048970976633,0.013977402744817713,0.01365326030487517,0.01231854275004872,-0.016779832739938657,-0.01392386919415735,-0.020960759974213285,-0.01460337495091104,-0.01196002399978457,-0.007168985766854506,-0.05647817340939759,-0.051064208307646575,-0.053660801248645036,-0.01756289586386859,-0.01464425133191748,-0.014113315938294435,0.010700687075683068,-0.048768115050324495,-0.05122772170978734,-0.12075168239763695,-0.12248909110586453,-0.12144699467174282,0.055776441136477936,0.05811945474669562,0.05858507928229798,0.05700068740193112,0.05966752910719401,0.046731569993860134,-0.004980257162673124,-0.01017136069870813,-0.010487403710864786,-0.014875529532501514,-0.022564344314348908,-0.030677648525734163,-0.023013850949574654,-0.022242485064575306,-0.020588438095853194,0.002744601284261769,0.0038270813385069095,0.0038270813385069095,-0.02913581751195457,-0.027930419444541072,-0.028852503320682222,-0.0167653463007673,-0.017967732214610198,-0.015280689966870823,0.2178733038620192,0.22370876095197473,0.22565547239894615,-0.0793988162141632,-0.08821282700040997,-0.08502857932373252,-0.046093120469516954,-0.04871753023907617,-0.04768714866231826,0.012960042774827674,0.012614583649462534,0.012899489483197371,-0.013956952359435776,-0.013474012763956928,-0.01612376171654575,0.00892754070470736,0.00892754070470736,0.00892754070470736,0.004778745894478647,0.004734552962970932,0.004541584365776766,-0.01194418304403659,-0.014559693390371652,-0.014772855526526185,-0.05037322744683752,-0.04298689481078673,-0.03535694254984661,0.005569023609836047,0.007671193052004706,0.012812101072145504,-0.0026236027838413846,-0.0026164269799618684,-0.0026113369222093836,-0.035974723032071186,-0.04703335686495249,-0.046556929691644516,0.10109527521058065,0.10316672084890895,0.0976808317677599,-0.05044784140234174,-0.05209305264337261,-0.0517484770420405,0.2319765886548745,0.22849175611097824,0.2202516725608112,0.00820209148255756,0.00820209148255756,0.00820209148255756,0.024875706527340332,0.02556374570854815,0.014734544805659059,-0.0638397783548611,-0.06258600249508037,-0.0600202565320386,-0.03282558216177674,-0.018975458412202172,-0.008291159502712812,0.0203899522992706,0.02025310020410386,0.006371858184534402,-0.028274257136195545,-0.025774263821422238,-0.02763322160273783,0.03160866013351123,0.032171989958073535,0.030439611872879368,0.0027286113756230775,0.0007299633955167172,0.005247264276312817,-0.06467724636875669,-0.059808593890617136,-0.056460404252731876,0.012297721700981444,0.011322632432599797,0.012694046503777772,-0.049570702150964395,-0.04663822399409114,-0.0391098566988323,0.023081025641212977,0.022527025235759612,0.021799338905201467,0.047178251964171365,0.012032355166373254,0.045634545771426165,-0.012658499472593175,-0.012658499472593175,-0.012658499472593175,0.002482937288758432,0.0031436079607594183,0.0031436079607594183,-0.06474651544668657,-0.0650999151529206,-0.06437758647876209,-0.07187230502072865,-0.07505670515908211,-0.07185531690793653,0.003659833707152383,0.003659833707152383,0.003659833707152383,-0.06623977202473011,-0.06611238856633968,-0.064982052213592,-0.09900406633342441,-0.09989665638905144,-0.09526481734717186,0.029166288208410735,0.029457288105329448,0.028289427236077736,0.00047439966187236033,0.0006886871168383099,0.0008840964075738399,-0.029783356938281325,-0.02594452162221786,-0.030639451142186507,-0.06709526197076311,-0.06947427685068475,-0.07589242492274809,-0.015255444440523984,-0.01564200584461645,-0.02527323083839739,-0.04755576515879471,-0.04644915209197383,-0.04836010350118187,0.027448445006937258,0.028483142586669397,0.028200053922073937,0.013607678187598756,0.02531226103130515,0.003199533100396934,-0.08797573025136153,-0.08750317750439449,-0.08305209912450943,0.019153074397366545,0.0626753498259273,0.05466359605965971,-0.06521740628612907,-0.0662208305989386,-0.06469435725376127,0.027105860896156107,0.027338839383080044,0.014718635037650344,-0.02254841825762961,-0.025488791393478264,-0.025176139473029217,-0.026240402301792462,0.00718634323963334,-0.025511800442232804,-0.005168644550634563,-0.005128978867083283,-0.005207342286997904,-0.0377587441500885,-0.042174809679657865,-0.04120172576567936,-0.0673217959553299,-0.07686748686627316,-0.07412777926133685,0.07157309046657881,0.062087327891715116,0.06686816079066062,0.09536645927994639,0.09771672518140799,0.10000877515478167,-0.01589295780201003,-0.013191620005131804,-0.01019506490989042,0.010897622174264423,0.014737259231871,0.011974366462125016,-0.02636396749030407,-0.026227556282898995,-0.025145837067983314,-0.10647762732222486,-0.1064573232982181,-0.10813031184264728,-0.0214732019741605,-0.02180879484003228,-0.015555231769601179,-0.09016871220445905,-0.08867583352847593,-0.09230603461083892,-0.008035555708827847,-0.008036008112530475,-0.006991346656636232,-0.034239131070854203,-0.027755164220348467,-0.03225404068068377,-0.00215518274528152,-0.003013036935581674,-0.0007821693782023632,-0.014202635984719453,-0.013756243459208539,-0.010553995752741914,-0.04887758408201328,-0.058936485630928334,-0.05845042931980409,0.0025912787845009896,0.001596552186719618,0.0012621406772821294,0.0013197701924272697,-0.05081980231995967,-0.0542029978398509,-0.09296355290554147,-0.09148057146136403,-0.09349554863217506,-0.037622581595556245,-0.04116052154970778,-0.04152894078895602,-0.07007090699567967,-0.0721078837220992,-0.0604348713367484,0.07462735679578154,0.07319140424351564,0.07341514164377268,0.10629812928629091,0.1152782030908325,0.11391731093075363,-0.08817863647871478,-0.08865723841531237,-0.08783981378864789,0.053228160497954397,0.028487540392283985,0.01806696910353812,-0.06585035224574148,-0.06520170859732691,-0.06621227559618477,-0.1063925852681712,-0.10906793389564245,-0.10908573820861367,-0.027489231888714452,-0.025154914398784634,-0.02515348645110222,0.011193770941425334,0.01024324016559851,0.01561105267358057,0.002595584395588873,0.0035794115078078047,0.022947426359946843,-0.01573272315541606,-0.01573272315541606,-0.01573272315541606,0.028685459087719432,0.0070340676300635775,0.005513873625130019,-0.01890249905702431,-0.027560807658299182,-0.02852512300853566,-0.01949460622961762,-0.023382312726815704,-0.023806859521279207,-0.07553955278784975,-0.08097409058286612,-0.07972552230473613,-0.01464730195602234,-0.014135705646087534,-0.014087847215348488,0.018920364073885417,0.018920367809776347,0.0009661138994660519,-0.02043359348328462,-0.015412775617988579,-0.014162072527103348,0.015241251943174739,0.015825424451435387,0.014783676856627884,-0.10971831095772006,-0.10923194396617801,-0.10990107802421213,0.01892780623358604,0.019508385516667264,0.020804995644694135,0.013741059200728684,0.014469774832629782,0.02266116203593623,-0.032785743541900496,0.006540354828055238,0.004113442303973784,-0.018967809457995147,-0.01658426585510971,-0.017717966743687242,-0.1123360553417335,-0.1129402720737117,-0.11275841690749863,-0.004058762616827597,0.012788049647131403,0.01336579104679576,-0.02625186517766016,-0.02347918488155677,-0.025101586865278292,-0.018278139898594645,-0.017198139628830007,-0.018408152043590597,0.021961407354508793,0.021555625498157784,0.011562526518389826,-0.010086567525026706,-0.01336351021983864,-0.012910976063313434,-0.027450866633696905,-0.03249985177424399,-0.03734064518014949,-0.002459665091070286,-0.00280880352277816,-0.008889788032655804,0.024335302173540452,0.020123773665581126,0.02026708213031642,-0.010345929112334944,-0.01023568221600434,-0.008003870430615933,-0.02767203696981682,-0.028115738383666516,-0.0510390725084625,-0.006396520255256097,-0.006229085815984045,-0.006229085815984045,-0.022226633880418498,-0.017500663503582297,-0.01655734920294523,0.014489195002768199,0.015442448249783093,0.0290076140279988,-0.01762619756038356,-0.004366981004574118,-0.004570821757787696,-0.01574371820795839,-0.016782756860410572,-0.01585629710981151,0.22145631026289964,0.2158899048838595,0.18797245954444824,0.009359184903218713,0.0031897062493853345,-0.00518560415802832,-0.009287260988628414,-0.007630510310084083,-0.006115777158519594,-0.0009508644121622395,0.002128365629081078,-0.0029038842873799695,-0.08568594430680306,-0.08548615932977094,-0.08511125054968662,0.030457092349366124,0.00329815375478867,0.02952411312981725,-0.0774389132556853,-0.07886767120362924,-0.08456674131558947,-0.006005571470978453,-0.008026298820726585,-0.008004552711258934,-0.0025956748389123862,-0.0025956748389123862,-0.0025956748389123862,-0.04070898454854903,-0.05133602608386241,-0.05210238294232005,-0.011503895401134329,-0.0025063038862819633,0.004643451148563665,-0.12245219209937919,-0.1192286513546836,-0.12088430399367292,0.07698879851168128,0.0740993069613224,0.07493700424607476,0.022798315621488013,0.028527139352191692,0.02268459309449808,0.0147733842472842,0.017921804666861295,0.021392091711501113,-0.04407753591601092,-0.044285735932426566,-0.044699339138883847,-0.017347941961874717,-0.01677219969264831,-0.009231324442560722,-0.016964681246730607,-0.00257326158019194,-0.003730378346190229,-0.016090776456169253,-0.012694135384696305,-0.012886386458243129,0.01318977385550504,0.005964181111347146,0.005964181111347146,0.12654692799583553,0.15758473187644434,0.1337141551823716,-0.021489102749610276,-0.024027517523945496,-0.02564963941676542,0.008473472408426072,0.0068503255258195485,-0.035887000293126234,-0.020439697351369232,-0.020490792112049263,-0.020290482815485563,-0.06820410747451035,-0.06775866129471554,-0.06829953217216225,-0.007975023896861038,-0.0166527323521399,-0.006202392817634923,0.010834889156099148,0.009073255911521267,0.009706683121863886,-0.005725683915697173,-0.006726846747049643,-0.006386500295870329,0.012616376844554099,0.010999818102070603,0.010717111721410984,-0.011858522213071229,-0.01156516813147717,-0.014136234406983236,0.1855954612438207,0.18926280136641935,0.20218102653770775,-0.07350243890184666,-0.07290790884133896,-0.07041893492549316,0.018464942691579236,0.016235725194256145,0.01649813585893484,0.2358221786357238,0.23521578983604746,0.23627155315221368,0.01143104971243293,0.011999744769621115,0.011659881075718172,0.0009454021964839019,-0.007459514347936113,0.0008669195850660481,0.012398259724509801,0.012409117691794137,0.012318297169432202,-0.09817257048312347,-0.09346926792908448,-0.09127464345912531,0.0039827995948535045,0.004963118954219664,0.004946380375448437,-0.038095650187336995,-0.04737409515340729,-0.04791723606512721,-0.013183925986838813,-0.012012747269103974,-0.012901195903461548,-0.002712999064712809,-0.004070052554238141,-0.0026437260195557475,-0.025510153448014022,-0.025625106754915996,-0.025751581082707274,0.016151201404282355,0.017342646504139976,0.017820445918714872,-0.05780245693476079,-0.059974892748402626,-0.05793628972933792,0.03491601552219249,0.06769497531735907,0.06446380683587666,0.0014279802297279488,0.0015734528565783555,0.0031925479941095356,-0.004480886207073018,-0.0005325515146938216,-0.0014126659489771122,-0.014594135422565954,-0.01476168604242976,-0.020038453543234074,0.006397747700301358,0.00836895274784234,0.01194028437480893,0.0003645896602270227,-0.0059860074113433975,0.0051548410694983475,0.01716076873963175,0.023125068757956578,0.014399697517066688,0.005967532318067629,0.005926031916258048,-0.00012284745854464853,0.04138507942167791,0.039903664817387934,0.03965057698446473,0.00032795305713375917,0.0004337054518904918,0.000569908642723929,0.022482999480936218,0.014945893612593377,0.013170859475046199,0.14760960030859574,0.1499196313121137,0.15689546526693426,0.009021216144478332,0.008789074959264676,0.008678523033953165,0.06691628551202393,0.10225441615635365,0.15105782713375998,-0.020190325513569033,-0.0180743931946355,-0.02237194582760069,-0.09295255001536636,-0.09893527770115498,-0.09819740165631778,-0.0020087744431576075,-0.002206818439536704,-0.0022886116005968403,-0.0005516735199621707,-0.0008340207263476633,0.0005404129312451944,-0.10925081746871547,-0.10918041977053276,-0.10978054153500952,-0.015050838478419237,-0.01365886784729148,-0.010425764901761241,-0.005869601858064946,-0.005542821608069443,-0.011667616448468912,0.16344986378493723,0.18741582906288534,0.18120857074233615,0.028279872074411398,0.029927121056888672,0.02953074713200669,0.08106170783640676,0.08905307728518494,0.09204849421051536,0.007277955615467848,0.007237362132809653,0.007700482974906574,0.006069634409321189,0.006069634409321189,0.006069634409321189,-0.027972200276250726,-0.002998087174572357,0.0112181630776729,-0.015934693062702662,-0.017465476773769945,-0.018029847339165808,0.10224948884910293,0.09437190371146366,0.09182690481441456,0.022255875960024415,0.020836327547274363,0.023601814065685185,-0.030598710657166683,-0.02440409692170168,-0.024215852831264637,0.008057278482348874,0.012272238821506583,0.018310341410590122,0.015919629211044267,0.015085158760680886,0.015451868445012545,0.01205597885177209,0.009887962539048572,0.010149483400427805,0.004780899874711701,0.009379097208698893,0.009312905376612305,0.012851179114726566,0.01306861030727035,0.014584298145424272,-0.108447334398616,-0.10831963369939766,-0.10710310107067157,-0.03952277570887711,-0.04589251141869304,-0.04674659961481816,0.01183281140113062,0.012162309515924896,0.011580864889254474,-0.007189264246294222,0.00736565011074894,0.016292170971569653,0.025232253050988664,0.02532154287891705,0.026707778109677515,-0.016097628354724756,-0.017843581551309568,-0.015041561704469067,-0.01938793953242088,-0.01912758207744638,-0.014371673662475893,-0.011386394766409865,-0.0076963179205693675,-0.01529136095303429,-0.0006641674337778129,-0.006403094672952046,-0.005631783076933362,-0.011363902676433526,-0.01074426417952831,-0.010491323802851296,0.003130042271134012,0.0021658293273130757,-0.002115919775960634,-0.01719428540284221,-0.014089252531341573,-0.015370160125719226,-0.017250191996355555,-0.016593819235499574,-0.01935380575604567,-0.047037989219274406,-0.04678869774891601,-0.0462588709496973,-0.02124913666008885,-0.022078266050723064,-0.020736870986829727,-0.004182191257812816,-0.004822765208716727,0.0016499029006974808,0.03200499290806869,0.034670498562205554,0.03417914210171211,-0.01776552889300974,-0.018278259766130393,-0.018299891715342086,-0.0038432147422903335,-0.006461882455781201,-0.0057079457850185925,0.11654695239474094,0.1164833251341159,0.11716911492754857,-0.01578158292449474,-0.01492899513953032,-0.01317896041788531,0.024732699375078347,0.02642194121822633,0.029203240679635704,0.04747596421774078,0.049021738038187664,0.04937796257702064,-0.05368195149827949,-0.05504781057791619,-0.05387793622609734,0.00606314144703965,0.0056337566017438815,0.003065343130207544,-0.016376837809072228,-0.014992993388896269,-0.01602333753898736,0.02103791095276052,0.021255403968733492,0.021989058059980256,0.01214391684923793,0.01385888536714445,0.013271638150273156,0.07375328857523898,0.07406472244802906,0.07765133269761121,-0.003879580986026292,-0.0035140839899640086,-0.0031466474204169714,0.17123402071794602,0.16546343281726683,0.16771426813688095,-0.0019559180588400705,-0.002284455741579562,0.0026650817751139367,-0.0005984706957387488,-0.0013053260316247103,-0.002323440861988698,-0.07021833655052859,-0.07223741754293311,-0.0700465937405686,0.03457156884966367,0.03394107444818582,0.03177058506838828,0.012513267312507903,0.009516153234950036,0.009515064891115444,0.012040779713744686,0.012960824445038065,0.012960824445038065,0.010325353344172495,0.007952448983357065,0.006773934873499453,0.012541252945870728,0.012232579595904921,0.012187953950813958,0.015640098514232217,0.013579750755427127,0.012523607356244592,0.011968499687593847,0.020066731747602037,0.014531114422802494,-0.014521712028582025,0.02171778273731708,0.019742692665790394,-0.08676336692964944,-0.08649237890063145,-0.06531852351038579,-0.10498608775370187,-0.10633805373653206,-0.1055218199979452,0.030259915823458012,0.030076530758125292,0.030201406188229748,0.005626988033387616,0.012574375493632032,0.017458779451169464,0.005334423403364267,0.004778701544435737,0.00472575797909786,0.05999224280376797,0.04965110715494938,0.04644108577563774,0.23837615073566784,0.24332953584765174,0.2422767498848724,-0.005645634963447406,-0.006950139364569718,0.004304032624620521,0.07698057692755715,0.07658435150099706,0.07531109509718961,0.05886375040713616,0.02335389572025851,0.010104390967658139,-0.001493153507219809,-0.004980559148038832,-0.0033940488323349178,0.02738670935754474,0.027360341001211343,0.022211406920170488,0.0024662729506440143,0.002626437380006907,0.0020728639007038916,0.17738518433926218,0.17642669316267248,0.20578738213849304,0.004055150908071843,0.004134180241577931,0.0024291415098156998,-0.013213208449024452,-0.012621122303473795,0.013689478752896922,-0.04200435559939689,-0.04396792174710014,-0.044500690274653365,0.00077580144708647,0.001056173753016598,0.00378346443235997,-0.030840239158030178,-0.03053897083153903,-0.030140262300695914,-0.002425813590984526,-0.008098041836904978,-0.009296900156035601,0.016283190629283316,0.008387032888216031,0.00869584787321836,-0.039112110043809344,-0.03908455058247438,-0.036648429569317485,-0.11177174793311447,-0.11177351360912474,-0.1113187529766776,0.0649521031269983,0.06608327752838762,0.0829232044590342,-0.004543368039953861,-0.0012017601963098367,-0.003956282972045513,0.008888605139234592,0.0526785602875068,0.04633067732128695,0.05361953064420252,0.013598589517976194,0.0036725159919351927,-0.0424153588852898,-0.04304885902860406,-0.041581291712155834,0.02304405514526876,0.02344810025462614,0.02347509380621531,0.2439123926031631,0.16151954141746522,0.16126235495072297,0.08225753511539016,0.07232319080926668,0.08387367834998008,0.1495325297510312,0.16441478932268305,0.16504582050968628,-0.002296742316188532,-0.002296742316188532,-0.002372911673730179,-0.010971852470364035,-0.010911186976360485,-0.011101549418197488,0.04392896241688441,0.04392896241688441,0.04392896241688441,0.05674836289739045,0.08386721952682075,0.07572436696832828,0.011207067347522482,0.013296553870063607,0.0761644181997528,0.09504211914363887,0.08904105426650409,0.005871264632384435,0.022611277194498774,0.01949907169040159,0.018894306597665455,-0.00033732565032485584,-0.0003892211231057743,0.01624350390706639,0.01350855123707878,0.011165155966252345,0.01453046253834433,0.02142884267089164,0.022183416924321603,0.015250931311684519,0.0289151402848847,0.027745907826121612,0.01877092351817929,-0.0015522372748977466,-0.004063605599879184,-0.01670764594514314,-0.013123507360707961,0.0219962067860031,0.020023780352156774,-0.014598119505773647,-0.006481400005488973,-0.011251031103352868,-0.01009411036791248,-0.008815291726133953,-0.008225551105317775,0.0036798689993356544,0.003469609181525923,0.002953625703088992,0.016021583128440816,0.0037982276701923516,0.0020261774593507164,0.028918130839362025,0.027412307871180278,0.025955770528754078,0.03443048850909251,0.03349383994179127,0.030917825336287758,-0.025665946639018666,-0.02552310588211002,-0.02552310588211002,0.10096367539376246,0.1100351240890349,0.13712425624895402,-0.0006816162728295705,0.010099118014488845,0.017775848132769004,-0.004119391639979491,-0.015320698969930227,-0.010781152877006938,0.09567032491383635,0.09472776169649778,0.10243089265994412,0.021010003585812488,0.021010003585812488,0.021010003585812488,-0.009407182887687032,-0.007735925407785739,-0.011919821344633917,-0.008290890315327431,-0.01125354799653278,-0.01952161269656877,-0.0008703112046092959,-0.0008980189988566141,-0.0005703504102542156,-0.0036330717375978702,-0.005038344604898369,0.019504334961219595,0.012777767142023274,0.12688781067312307,0.12595023785526557,0.005851585374454838,0.010004049214922468,-0.005357370621092795,0.026089006576936205,0.026545312191844098,0.02602324103265893,-0.0012461899923508592,0.02756299699699415,0.024375938379291435,-0.006772329243534817,-0.006707369840066012,-0.002422914391911199,0.011950090701975955,0.011950090701975955,-0.008349950783548655,-0.0372623180246628,0.004126515097126274,0.0036647960562958696,0.012050034747335733,0.010363114867295837,0.011282172645772788,-0.0028236395830737522,-0.021441049240045862,-0.026200084664480306,-0.01977513474513936,-0.01983493414369841,-0.018666232868207025,0.0010297451221212444,0.015035664194618121,0.06267298064889971,0.031753113214116564,0.03236927816413266,0.0017371458017679232,0.004105064528740788,0.00333584569129366,0.010290194608895431,0.014568413692401801,0.00806858628654967,0.005328418770780013,-0.0580398191441642,-0.06614450326389783,-0.05842182862197049,-0.11018657621307947,-0.11021764141048042,-0.11032005064809366,0.016509126695367825,0.011526541612328226,0.009649895488146806,0.026493710697018932,0.025893203664293755,0.028049992320736218,-0.025827188963793032,-0.025551043247756793,-0.032124921565801545,0.2209933452636906,0.2179255903377348,0.223259374576495,0.010502003855531326,0.011072940429214315,0.010524519417775305,0.05776023879571756,0.030967112403805848,0.03140934878354144,-0.01629808501942901,-0.01644314567358292,-0.01913655670303027,0.013264332151491382,0.010047356612243988,0.013092336846716087,-0.0030226300780165495,-0.004948451016268584,2.969391148831918e-06,-0.007576935740751091,-0.008698747723827465,0.00880307790417783,0.02426184392033834,0.023670052343051154,0.021955616042175025,0.10346780085120069,0.0900774998310214,0.09312767043082562,0.001585122365898348,0.0017000793264541384,0.0025037372394847,0.15099687679036464,0.13657071765920875,0.15605605992999172,-0.005315844851085705,-0.008373566020489664,-0.008281410504433291,-0.015035842401217123,-0.015982987224469676,-0.015786271874891004,-0.0327971812234397,-0.032608932274219994,-0.03299395824667879,0.008793652725663528,-0.002216881067496064,0.002124192882633329,-0.03291995789094734,-0.02787801091552676,-0.026400481166364086,-0.03307548996018279,0.06660110596490178,0.038320836442124515,0.03560255506664527,0.03265612854018182,0.03031319625137601,-0.014533109095546747,-0.010947317394406556,-0.01279285762762587,-3.733583172006696e-05,-0.018802997770962684,-0.024362839193214306,0.022384078330317844,0.023803813969649944,0.02274669966438051,0.07438463913723785,0.07456240647079049,0.12451312825754637,0.0012665575234194113,0.003357024863850736,0.0032747753907288505,-0.01903235110223123,0.010184696869261557,0.010245753093836811,0.02149520201141675,0.026908293458275598,0.022427634008071,0.019675876486161394,0.01971903692040409,0.019082462116808065,-0.07286612057776282,-0.07323599613145401,-0.07420645830326764,-0.12156199114698914,-0.12013607309714175,-0.12315716378832299,0.06844848075194944,0.06745807456182222,0.06273307705733377,-0.016786118036365972,-0.015216704216178408,-0.00939155749851221,-0.0014824524525429781,0.0381058714848572,0.038342683407634706,-0.0057736062743221185,0.1820802816099444,0.1746306108449397,-0.0372623180246628,0.004126515097126274,0.0036647960562958696,-0.024850886691403694,-0.025347923818082044,-0.022652161870242875,0.019333909578501236,0.07385630480878719,0.05026541519638457,-0.009083164365077204,-0.004377653073022522,-0.005692277912996471,-0.0017482513849324927,-0.0017482513849324927,-0.0019313782775809555,0.09422444357299273,0.09186432552802778,0.06256403832758818,0.0151949894092764,0.012154619937076656,0.012154619937076656,-0.035865370006326315,-0.032899249060901636,-0.03174829103322474,-0.007189042452216387,0.008048470317964103,0.009392701614767183,0.013998122939209929,0.013270754819696707,0.013707754488944544,0.017849391280591317,0.01570516863034139,0.01599241113082875,-0.0036305073539859723,0.0002825383367856704,-0.0067698913890538,-0.0056628118895043844,0.02622910353425762,0.027025935276208633,0.2363389960582004,0.2423493118288115,0.15042090840044028,-0.007285720264318918,0.020008860129669993,0.020008860129669993,-0.04144688756629091,0.012701543732844826,0.015407544671502238,0.0012468131408215522,-0.004822199990723219,-0.0036423734691700934,0.022387606168566297,0.02026549603742082,0.022520568767813453,0.007813154672096595,0.11308940277582451,0.12497389582442488,0.0006828175904055347,0.00895786341880357,0.010694230101388646,-0.013663091769040396,-0.013978102857525482,-0.008697086191781571,0.02130200155041633,0.020860348255628894,-0.001307707521762487,0.0038984971837392355,-0.0088513723382011,-0.010359618229435251,-0.025749504676767877,0.025953028209607192,0.14810483005294614,-0.013466386107404344,0.017972103656601044,-0.012607955802186889,-0.004208342951784052,0.002196229365809383,-0.00791855102932528,-0.018605361179800196,0.01562412600638625,-0.0011742718487701195,-0.037448205291942344,-0.03688153797077991,-0.038688559739824664,0.004676103609393141,0.004051399727277765,0.007893135680109825,0.019165204098163365,0.018920448534852384,-0.0020983897411940705,0.00866957217074989,0.00866957217074989,0.00866957217074989,-0.003080666170147398,-0.005458194314148987,-0.005180216552670803],\"type\":\"scatter3d\"}],                        {\"template\":{\"data\":{\"bar\":[{\"error_x\":{\"color\":\"#2a3f5f\"},\"error_y\":{\"color\":\"#2a3f5f\"},\"marker\":{\"line\":{\"color\":\"#E5ECF6\",\"width\":0.5},\"pattern\":{\"fillmode\":\"overlay\",\"size\":10,\"solidity\":0.2}},\"type\":\"bar\"}],\"barpolar\":[{\"marker\":{\"line\":{\"color\":\"#E5ECF6\",\"width\":0.5},\"pattern\":{\"fillmode\":\"overlay\",\"size\":10,\"solidity\":0.2}},\"type\":\"barpolar\"}],\"carpet\":[{\"aaxis\":{\"endlinecolor\":\"#2a3f5f\",\"gridcolor\":\"white\",\"linecolor\":\"white\",\"minorgridcolor\":\"white\",\"startlinecolor\":\"#2a3f5f\"},\"baxis\":{\"endlinecolor\":\"#2a3f5f\",\"gridcolor\":\"white\",\"linecolor\":\"white\",\"minorgridcolor\":\"white\",\"startlinecolor\":\"#2a3f5f\"},\"type\":\"carpet\"}],\"choropleth\":[{\"colorbar\":{\"outlinewidth\":0,\"ticks\":\"\"},\"type\":\"choropleth\"}],\"contour\":[{\"colorbar\":{\"outlinewidth\":0,\"ticks\":\"\"},\"colorscale\":[[0.0,\"#0d0887\"],[0.1111111111111111,\"#46039f\"],[0.2222222222222222,\"#7201a8\"],[0.3333333333333333,\"#9c179e\"],[0.4444444444444444,\"#bd3786\"],[0.5555555555555556,\"#d8576b\"],[0.6666666666666666,\"#ed7953\"],[0.7777777777777778,\"#fb9f3a\"],[0.8888888888888888,\"#fdca26\"],[1.0,\"#f0f921\"]],\"type\":\"contour\"}],\"contourcarpet\":[{\"colorbar\":{\"outlinewidth\":0,\"ticks\":\"\"},\"type\":\"contourcarpet\"}],\"heatmap\":[{\"colorbar\":{\"outlinewidth\":0,\"ticks\":\"\"},\"colorscale\":[[0.0,\"#0d0887\"],[0.1111111111111111,\"#46039f\"],[0.2222222222222222,\"#7201a8\"],[0.3333333333333333,\"#9c179e\"],[0.4444444444444444,\"#bd3786\"],[0.5555555555555556,\"#d8576b\"],[0.6666666666666666,\"#ed7953\"],[0.7777777777777778,\"#fb9f3a\"],[0.8888888888888888,\"#fdca26\"],[1.0,\"#f0f921\"]],\"type\":\"heatmap\"}],\"heatmapgl\":[{\"colorbar\":{\"outlinewidth\":0,\"ticks\":\"\"},\"colorscale\":[[0.0,\"#0d0887\"],[0.1111111111111111,\"#46039f\"],[0.2222222222222222,\"#7201a8\"],[0.3333333333333333,\"#9c179e\"],[0.4444444444444444,\"#bd3786\"],[0.5555555555555556,\"#d8576b\"],[0.6666666666666666,\"#ed7953\"],[0.7777777777777778,\"#fb9f3a\"],[0.8888888888888888,\"#fdca26\"],[1.0,\"#f0f921\"]],\"type\":\"heatmapgl\"}],\"histogram\":[{\"marker\":{\"pattern\":{\"fillmode\":\"overlay\",\"size\":10,\"solidity\":0.2}},\"type\":\"histogram\"}],\"histogram2d\":[{\"colorbar\":{\"outlinewidth\":0,\"ticks\":\"\"},\"colorscale\":[[0.0,\"#0d0887\"],[0.1111111111111111,\"#46039f\"],[0.2222222222222222,\"#7201a8\"],[0.3333333333333333,\"#9c179e\"],[0.4444444444444444,\"#bd3786\"],[0.5555555555555556,\"#d8576b\"],[0.6666666666666666,\"#ed7953\"],[0.7777777777777778,\"#fb9f3a\"],[0.8888888888888888,\"#fdca26\"],[1.0,\"#f0f921\"]],\"type\":\"histogram2d\"}],\"histogram2dcontour\":[{\"colorbar\":{\"outlinewidth\":0,\"ticks\":\"\"},\"colorscale\":[[0.0,\"#0d0887\"],[0.1111111111111111,\"#46039f\"],[0.2222222222222222,\"#7201a8\"],[0.3333333333333333,\"#9c179e\"],[0.4444444444444444,\"#bd3786\"],[0.5555555555555556,\"#d8576b\"],[0.6666666666666666,\"#ed7953\"],[0.7777777777777778,\"#fb9f3a\"],[0.8888888888888888,\"#fdca26\"],[1.0,\"#f0f921\"]],\"type\":\"histogram2dcontour\"}],\"mesh3d\":[{\"colorbar\":{\"outlinewidth\":0,\"ticks\":\"\"},\"type\":\"mesh3d\"}],\"parcoords\":[{\"line\":{\"colorbar\":{\"outlinewidth\":0,\"ticks\":\"\"}},\"type\":\"parcoords\"}],\"pie\":[{\"automargin\":true,\"type\":\"pie\"}],\"scatter\":[{\"marker\":{\"colorbar\":{\"outlinewidth\":0,\"ticks\":\"\"}},\"type\":\"scatter\"}],\"scatter3d\":[{\"line\":{\"colorbar\":{\"outlinewidth\":0,\"ticks\":\"\"}},\"marker\":{\"colorbar\":{\"outlinewidth\":0,\"ticks\":\"\"}},\"type\":\"scatter3d\"}],\"scattercarpet\":[{\"marker\":{\"colorbar\":{\"outlinewidth\":0,\"ticks\":\"\"}},\"type\":\"scattercarpet\"}],\"scattergeo\":[{\"marker\":{\"colorbar\":{\"outlinewidth\":0,\"ticks\":\"\"}},\"type\":\"scattergeo\"}],\"scattergl\":[{\"marker\":{\"colorbar\":{\"outlinewidth\":0,\"ticks\":\"\"}},\"type\":\"scattergl\"}],\"scattermapbox\":[{\"marker\":{\"colorbar\":{\"outlinewidth\":0,\"ticks\":\"\"}},\"type\":\"scattermapbox\"}],\"scatterpolar\":[{\"marker\":{\"colorbar\":{\"outlinewidth\":0,\"ticks\":\"\"}},\"type\":\"scatterpolar\"}],\"scatterpolargl\":[{\"marker\":{\"colorbar\":{\"outlinewidth\":0,\"ticks\":\"\"}},\"type\":\"scatterpolargl\"}],\"scatterternary\":[{\"marker\":{\"colorbar\":{\"outlinewidth\":0,\"ticks\":\"\"}},\"type\":\"scatterternary\"}],\"surface\":[{\"colorbar\":{\"outlinewidth\":0,\"ticks\":\"\"},\"colorscale\":[[0.0,\"#0d0887\"],[0.1111111111111111,\"#46039f\"],[0.2222222222222222,\"#7201a8\"],[0.3333333333333333,\"#9c179e\"],[0.4444444444444444,\"#bd3786\"],[0.5555555555555556,\"#d8576b\"],[0.6666666666666666,\"#ed7953\"],[0.7777777777777778,\"#fb9f3a\"],[0.8888888888888888,\"#fdca26\"],[1.0,\"#f0f921\"]],\"type\":\"surface\"}],\"table\":[{\"cells\":{\"fill\":{\"color\":\"#EBF0F8\"},\"line\":{\"color\":\"white\"}},\"header\":{\"fill\":{\"color\":\"#C8D4E3\"},\"line\":{\"color\":\"white\"}},\"type\":\"table\"}]},\"layout\":{\"annotationdefaults\":{\"arrowcolor\":\"#2a3f5f\",\"arrowhead\":0,\"arrowwidth\":1},\"autotypenumbers\":\"strict\",\"coloraxis\":{\"colorbar\":{\"outlinewidth\":0,\"ticks\":\"\"}},\"colorscale\":{\"diverging\":[[0,\"#8e0152\"],[0.1,\"#c51b7d\"],[0.2,\"#de77ae\"],[0.3,\"#f1b6da\"],[0.4,\"#fde0ef\"],[0.5,\"#f7f7f7\"],[0.6,\"#e6f5d0\"],[0.7,\"#b8e186\"],[0.8,\"#7fbc41\"],[0.9,\"#4d9221\"],[1,\"#276419\"]],\"sequential\":[[0.0,\"#0d0887\"],[0.1111111111111111,\"#46039f\"],[0.2222222222222222,\"#7201a8\"],[0.3333333333333333,\"#9c179e\"],[0.4444444444444444,\"#bd3786\"],[0.5555555555555556,\"#d8576b\"],[0.6666666666666666,\"#ed7953\"],[0.7777777777777778,\"#fb9f3a\"],[0.8888888888888888,\"#fdca26\"],[1.0,\"#f0f921\"]],\"sequentialminus\":[[0.0,\"#0d0887\"],[0.1111111111111111,\"#46039f\"],[0.2222222222222222,\"#7201a8\"],[0.3333333333333333,\"#9c179e\"],[0.4444444444444444,\"#bd3786\"],[0.5555555555555556,\"#d8576b\"],[0.6666666666666666,\"#ed7953\"],[0.7777777777777778,\"#fb9f3a\"],[0.8888888888888888,\"#fdca26\"],[1.0,\"#f0f921\"]]},\"colorway\":[\"#636efa\",\"#EF553B\",\"#00cc96\",\"#ab63fa\",\"#FFA15A\",\"#19d3f3\",\"#FF6692\",\"#B6E880\",\"#FF97FF\",\"#FECB52\"],\"font\":{\"color\":\"#2a3f5f\"},\"geo\":{\"bgcolor\":\"white\",\"lakecolor\":\"white\",\"landcolor\":\"#E5ECF6\",\"showlakes\":true,\"showland\":true,\"subunitcolor\":\"white\"},\"hoverlabel\":{\"align\":\"left\"},\"hovermode\":\"closest\",\"mapbox\":{\"style\":\"light\"},\"paper_bgcolor\":\"white\",\"plot_bgcolor\":\"#E5ECF6\",\"polar\":{\"angularaxis\":{\"gridcolor\":\"white\",\"linecolor\":\"white\",\"ticks\":\"\"},\"bgcolor\":\"#E5ECF6\",\"radialaxis\":{\"gridcolor\":\"white\",\"linecolor\":\"white\",\"ticks\":\"\"}},\"scene\":{\"xaxis\":{\"backgroundcolor\":\"#E5ECF6\",\"gridcolor\":\"white\",\"gridwidth\":2,\"linecolor\":\"white\",\"showbackground\":true,\"ticks\":\"\",\"zerolinecolor\":\"white\"},\"yaxis\":{\"backgroundcolor\":\"#E5ECF6\",\"gridcolor\":\"white\",\"gridwidth\":2,\"linecolor\":\"white\",\"showbackground\":true,\"ticks\":\"\",\"zerolinecolor\":\"white\"},\"zaxis\":{\"backgroundcolor\":\"#E5ECF6\",\"gridcolor\":\"white\",\"gridwidth\":2,\"linecolor\":\"white\",\"showbackground\":true,\"ticks\":\"\",\"zerolinecolor\":\"white\"}},\"shapedefaults\":{\"line\":{\"color\":\"#2a3f5f\"}},\"ternary\":{\"aaxis\":{\"gridcolor\":\"white\",\"linecolor\":\"white\",\"ticks\":\"\"},\"baxis\":{\"gridcolor\":\"white\",\"linecolor\":\"white\",\"ticks\":\"\"},\"bgcolor\":\"#E5ECF6\",\"caxis\":{\"gridcolor\":\"white\",\"linecolor\":\"white\",\"ticks\":\"\"}},\"title\":{\"x\":0.05},\"xaxis\":{\"automargin\":true,\"gridcolor\":\"white\",\"linecolor\":\"white\",\"ticks\":\"\",\"title\":{\"standoff\":15},\"zerolinecolor\":\"white\",\"zerolinewidth\":2},\"yaxis\":{\"automargin\":true,\"gridcolor\":\"white\",\"linecolor\":\"white\",\"ticks\":\"\",\"title\":{\"standoff\":15},\"zerolinecolor\":\"white\",\"zerolinewidth\":2}}},\"scene\":{\"domain\":{\"x\":[0.0,1.0],\"y\":[0.0,1.0]},\"xaxis\":{\"title\":{\"text\":\"0\"}},\"yaxis\":{\"title\":{\"text\":\"1\"}},\"zaxis\":{\"title\":{\"text\":\"2\"}}},\"legend\":{\"tracegroupgap\":0},\"margin\":{\"t\":60},\"height\":700,\"width\":1200},                        {\"responsive\": true}                    ).then(function(){\n",
       "                            \n",
       "var gd = document.getElementById('d6409f90-e396-4ff4-8918-8b25e60b5413');\n",
       "var x = new MutationObserver(function (mutations, observer) {{\n",
       "        var display = window.getComputedStyle(gd).display;\n",
       "        if (!display || display === 'none') {{\n",
       "            console.log([gd, 'removed!']);\n",
       "            Plotly.purge(gd);\n",
       "            observer.disconnect();\n",
       "        }}\n",
       "}});\n",
       "\n",
       "// Listen for the removal of the full notebook cells\n",
       "var notebookContainer = gd.closest('#notebook-container');\n",
       "if (notebookContainer) {{\n",
       "    x.observe(notebookContainer, {childList: true});\n",
       "}}\n",
       "\n",
       "// Listen for the clearing of the current output cell\n",
       "var outputEl = gd.closest('.output');\n",
       "if (outputEl) {{\n",
       "    x.observe(outputEl, {childList: true});\n",
       "}}\n",
       "\n",
       "                        })                };                });            </script>        </div>"
      ]
     },
     "metadata": {},
     "output_type": "display_data"
    }
   ],
   "source": [
    "fig = px.scatter_3d(plot_pca[1], x =0 , y = 1, z = 2, hover_data={\"name\": plot_pca[1].index.get_level_values(0),\n",
    "                                                              \"industry\": plot_pca[1].index.get_level_values(1)},\n",
    "                     width=1200, height=700)\n",
    "fig.show()"
   ]
  },
  {
   "cell_type": "markdown",
   "id": "477168f5",
   "metadata": {},
   "source": [
    "### Difference in document-topic vectors"
   ]
  },
  {
   "cell_type": "code",
   "execution_count": 224,
   "id": "26f8ab8e",
   "metadata": {},
   "outputs": [
    {
     "data": {
      "text/html": [
       "<div>\n",
       "<style scoped>\n",
       "    .dataframe tbody tr th:only-of-type {\n",
       "        vertical-align: middle;\n",
       "    }\n",
       "\n",
       "    .dataframe tbody tr th {\n",
       "        vertical-align: top;\n",
       "    }\n",
       "\n",
       "    .dataframe thead th {\n",
       "        text-align: right;\n",
       "    }\n",
       "</style>\n",
       "<table border=\"1\" class=\"dataframe\">\n",
       "  <thead>\n",
       "    <tr style=\"text-align: right;\">\n",
       "      <th></th>\n",
       "      <th>0</th>\n",
       "      <th>1</th>\n",
       "      <th>2</th>\n",
       "      <th>3</th>\n",
       "      <th>4</th>\n",
       "      <th>5</th>\n",
       "      <th>6</th>\n",
       "      <th>7</th>\n",
       "      <th>8</th>\n",
       "      <th>9</th>\n",
       "      <th>10</th>\n",
       "      <th>11</th>\n",
       "      <th>12</th>\n",
       "      <th>13</th>\n",
       "      <th>14</th>\n",
       "      <th>15</th>\n",
       "      <th>16</th>\n",
       "      <th>17</th>\n",
       "      <th>18</th>\n",
       "    </tr>\n",
       "    <tr>\n",
       "      <th>filingDate</th>\n",
       "      <th></th>\n",
       "      <th></th>\n",
       "      <th></th>\n",
       "      <th></th>\n",
       "      <th></th>\n",
       "      <th></th>\n",
       "      <th></th>\n",
       "      <th></th>\n",
       "      <th></th>\n",
       "      <th></th>\n",
       "      <th></th>\n",
       "      <th></th>\n",
       "      <th></th>\n",
       "      <th></th>\n",
       "      <th></th>\n",
       "      <th></th>\n",
       "      <th></th>\n",
       "      <th></th>\n",
       "      <th></th>\n",
       "    </tr>\n",
       "  </thead>\n",
       "  <tbody>\n",
       "    <tr>\n",
       "      <th>2008-02-28T00:42:30Z</th>\n",
       "      <td>0.0</td>\n",
       "      <td>0.032646</td>\n",
       "      <td>0.008761</td>\n",
       "      <td>0.003169</td>\n",
       "      <td>0.0</td>\n",
       "      <td>0.000000</td>\n",
       "      <td>0.001068</td>\n",
       "      <td>0.104448</td>\n",
       "      <td>0.000000</td>\n",
       "      <td>0.002305</td>\n",
       "      <td>0.014386</td>\n",
       "      <td>0.000000</td>\n",
       "      <td>0.000886</td>\n",
       "      <td>0.007970</td>\n",
       "      <td>0.089590</td>\n",
       "      <td>0.000656</td>\n",
       "      <td>0.0</td>\n",
       "      <td>0.0</td>\n",
       "      <td>0.003515</td>\n",
       "    </tr>\n",
       "    <tr>\n",
       "      <th>2009-02-25T21:22:45Z</th>\n",
       "      <td>0.0</td>\n",
       "      <td>0.020550</td>\n",
       "      <td>0.011477</td>\n",
       "      <td>0.003090</td>\n",
       "      <td>0.0</td>\n",
       "      <td>0.000000</td>\n",
       "      <td>0.000966</td>\n",
       "      <td>0.098338</td>\n",
       "      <td>0.000000</td>\n",
       "      <td>0.003344</td>\n",
       "      <td>0.023978</td>\n",
       "      <td>0.000473</td>\n",
       "      <td>0.000000</td>\n",
       "      <td>0.004525</td>\n",
       "      <td>0.075930</td>\n",
       "      <td>0.006283</td>\n",
       "      <td>0.0</td>\n",
       "      <td>0.0</td>\n",
       "      <td>0.005248</td>\n",
       "    </tr>\n",
       "    <tr>\n",
       "      <th>2010-02-22T19:09:32Z</th>\n",
       "      <td>0.0</td>\n",
       "      <td>0.019790</td>\n",
       "      <td>0.005168</td>\n",
       "      <td>0.002333</td>\n",
       "      <td>0.0</td>\n",
       "      <td>0.000000</td>\n",
       "      <td>0.001297</td>\n",
       "      <td>0.105150</td>\n",
       "      <td>0.000000</td>\n",
       "      <td>0.005486</td>\n",
       "      <td>0.036143</td>\n",
       "      <td>0.000000</td>\n",
       "      <td>0.001576</td>\n",
       "      <td>0.008300</td>\n",
       "      <td>0.058254</td>\n",
       "      <td>0.004281</td>\n",
       "      <td>0.0</td>\n",
       "      <td>0.0</td>\n",
       "      <td>0.007246</td>\n",
       "    </tr>\n",
       "    <tr>\n",
       "      <th>2011-02-18T19:42:40Z</th>\n",
       "      <td>0.0</td>\n",
       "      <td>0.000000</td>\n",
       "      <td>0.008842</td>\n",
       "      <td>0.002162</td>\n",
       "      <td>0.0</td>\n",
       "      <td>0.000628</td>\n",
       "      <td>0.000218</td>\n",
       "      <td>0.076972</td>\n",
       "      <td>0.005155</td>\n",
       "      <td>0.000000</td>\n",
       "      <td>0.032321</td>\n",
       "      <td>0.006933</td>\n",
       "      <td>0.005011</td>\n",
       "      <td>0.016106</td>\n",
       "      <td>0.035069</td>\n",
       "      <td>0.009916</td>\n",
       "      <td>0.0</td>\n",
       "      <td>0.0</td>\n",
       "      <td>0.002295</td>\n",
       "    </tr>\n",
       "    <tr>\n",
       "      <th>2012-02-10T22:29:24Z</th>\n",
       "      <td>0.0</td>\n",
       "      <td>0.000000</td>\n",
       "      <td>0.003774</td>\n",
       "      <td>0.000000</td>\n",
       "      <td>0.0</td>\n",
       "      <td>0.002275</td>\n",
       "      <td>0.001660</td>\n",
       "      <td>0.089243</td>\n",
       "      <td>0.006299</td>\n",
       "      <td>0.016682</td>\n",
       "      <td>0.043401</td>\n",
       "      <td>0.007165</td>\n",
       "      <td>0.000000</td>\n",
       "      <td>0.021560</td>\n",
       "      <td>0.041876</td>\n",
       "      <td>0.029198</td>\n",
       "      <td>0.0</td>\n",
       "      <td>0.0</td>\n",
       "      <td>0.002826</td>\n",
       "    </tr>\n",
       "  </tbody>\n",
       "</table>\n",
       "</div>"
      ],
      "text/plain": [
       "                       0         1         2         3    4         5   \\\n",
       "filingDate                                                               \n",
       "2008-02-28T00:42:30Z  0.0  0.032646  0.008761  0.003169  0.0  0.000000   \n",
       "2009-02-25T21:22:45Z  0.0  0.020550  0.011477  0.003090  0.0  0.000000   \n",
       "2010-02-22T19:09:32Z  0.0  0.019790  0.005168  0.002333  0.0  0.000000   \n",
       "2011-02-18T19:42:40Z  0.0  0.000000  0.008842  0.002162  0.0  0.000628   \n",
       "2012-02-10T22:29:24Z  0.0  0.000000  0.003774  0.000000  0.0  0.002275   \n",
       "\n",
       "                            6         7         8         9         10  \\\n",
       "filingDate                                                               \n",
       "2008-02-28T00:42:30Z  0.001068  0.104448  0.000000  0.002305  0.014386   \n",
       "2009-02-25T21:22:45Z  0.000966  0.098338  0.000000  0.003344  0.023978   \n",
       "2010-02-22T19:09:32Z  0.001297  0.105150  0.000000  0.005486  0.036143   \n",
       "2011-02-18T19:42:40Z  0.000218  0.076972  0.005155  0.000000  0.032321   \n",
       "2012-02-10T22:29:24Z  0.001660  0.089243  0.006299  0.016682  0.043401   \n",
       "\n",
       "                            11        12        13        14        15   16  \\\n",
       "filingDate                                                                    \n",
       "2008-02-28T00:42:30Z  0.000000  0.000886  0.007970  0.089590  0.000656  0.0   \n",
       "2009-02-25T21:22:45Z  0.000473  0.000000  0.004525  0.075930  0.006283  0.0   \n",
       "2010-02-22T19:09:32Z  0.000000  0.001576  0.008300  0.058254  0.004281  0.0   \n",
       "2011-02-18T19:42:40Z  0.006933  0.005011  0.016106  0.035069  0.009916  0.0   \n",
       "2012-02-10T22:29:24Z  0.007165  0.000000  0.021560  0.041876  0.029198  0.0   \n",
       "\n",
       "                       17        18  \n",
       "filingDate                           \n",
       "2008-02-28T00:42:30Z  0.0  0.003515  \n",
       "2009-02-25T21:22:45Z  0.0  0.005248  \n",
       "2010-02-22T19:09:32Z  0.0  0.007246  \n",
       "2011-02-18T19:42:40Z  0.0  0.002295  \n",
       "2012-02-10T22:29:24Z  0.0  0.002826  "
      ]
     },
     "execution_count": 224,
     "metadata": {},
     "output_type": "execute_result"
    }
   ],
   "source": [
    "X = vectorizer.transform(netflix[\"coDescription\"].tolist())\n",
    "netflix_top = nmf_model.transform(X)\n",
    "netflix_top_df = pd.DataFrame(netflix_top).set_index(netflix[\"filingDate\"])\n",
    "netflix_top_df"
   ]
  },
  {
   "cell_type": "code",
   "execution_count": 149,
   "id": "507f22c2",
   "metadata": {},
   "outputs": [
    {
     "data": {
      "text/plain": [
       "0     0.000000\n",
       "1    -0.032646\n",
       "2    -0.004987\n",
       "3    -0.003169\n",
       "4     0.000000\n",
       "5     0.002275\n",
       "6     0.000592\n",
       "7    -0.015204\n",
       "8     0.006299\n",
       "9     0.014377\n",
       "10    0.029015\n",
       "11    0.007165\n",
       "12   -0.000886\n",
       "13    0.013589\n",
       "14   -0.047714\n",
       "15    0.028541\n",
       "16    0.000000\n",
       "17    0.000000\n",
       "18   -0.000689\n",
       "dtype: float64"
      ]
     },
     "execution_count": 149,
     "metadata": {},
     "output_type": "execute_result"
    }
   ],
   "source": [
    "#compare 2012 with 2008 \n",
    "netflix_top_df.iloc[-1] - netflix_top_df.iloc[0]"
   ]
  },
  {
   "cell_type": "code",
   "execution_count": 211,
   "id": "6935a6e6",
   "metadata": {},
   "outputs": [
    {
     "data": {
      "text/html": [
       "<div>\n",
       "<style scoped>\n",
       "    .dataframe tbody tr th:only-of-type {\n",
       "        vertical-align: middle;\n",
       "    }\n",
       "\n",
       "    .dataframe tbody tr th {\n",
       "        vertical-align: top;\n",
       "    }\n",
       "\n",
       "    .dataframe thead th {\n",
       "        text-align: right;\n",
       "    }\n",
       "</style>\n",
       "<table border=\"1\" class=\"dataframe\">\n",
       "  <thead>\n",
       "    <tr style=\"text-align: right;\">\n",
       "      <th></th>\n",
       "      <th>0</th>\n",
       "      <th>1</th>\n",
       "      <th>2</th>\n",
       "      <th>3</th>\n",
       "      <th>4</th>\n",
       "      <th>5</th>\n",
       "      <th>6</th>\n",
       "      <th>7</th>\n",
       "      <th>8</th>\n",
       "      <th>9</th>\n",
       "      <th>10</th>\n",
       "      <th>11</th>\n",
       "      <th>12</th>\n",
       "      <th>13</th>\n",
       "      <th>14</th>\n",
       "      <th>15</th>\n",
       "      <th>16</th>\n",
       "      <th>17</th>\n",
       "      <th>18</th>\n",
       "      <th>19</th>\n",
       "    </tr>\n",
       "    <tr>\n",
       "      <th>filingDate</th>\n",
       "      <th></th>\n",
       "      <th></th>\n",
       "      <th></th>\n",
       "      <th></th>\n",
       "      <th></th>\n",
       "      <th></th>\n",
       "      <th></th>\n",
       "      <th></th>\n",
       "      <th></th>\n",
       "      <th></th>\n",
       "      <th></th>\n",
       "      <th></th>\n",
       "      <th></th>\n",
       "      <th></th>\n",
       "      <th></th>\n",
       "      <th></th>\n",
       "      <th></th>\n",
       "      <th></th>\n",
       "      <th></th>\n",
       "      <th></th>\n",
       "    </tr>\n",
       "  </thead>\n",
       "  <tbody>\n",
       "    <tr>\n",
       "      <th>2008-02-28T00:42:30Z</th>\n",
       "      <td>0.320044</td>\n",
       "      <td>0.086204</td>\n",
       "      <td>-0.012440</td>\n",
       "      <td>-0.003216</td>\n",
       "      <td>-0.026677</td>\n",
       "      <td>-0.089333</td>\n",
       "      <td>0.096739</td>\n",
       "      <td>0.159221</td>\n",
       "      <td>-0.004736</td>\n",
       "      <td>0.071193</td>\n",
       "      <td>0.044994</td>\n",
       "      <td>-0.012463</td>\n",
       "      <td>-0.074672</td>\n",
       "      <td>-0.118126</td>\n",
       "      <td>0.054081</td>\n",
       "      <td>0.111513</td>\n",
       "      <td>-0.084884</td>\n",
       "      <td>0.018566</td>\n",
       "      <td>-0.083206</td>\n",
       "      <td>-0.026132</td>\n",
       "    </tr>\n",
       "    <tr>\n",
       "      <th>2009-02-25T21:22:45Z</th>\n",
       "      <td>0.298948</td>\n",
       "      <td>0.057729</td>\n",
       "      <td>-0.011823</td>\n",
       "      <td>0.004651</td>\n",
       "      <td>-0.036582</td>\n",
       "      <td>-0.081763</td>\n",
       "      <td>0.092373</td>\n",
       "      <td>0.143640</td>\n",
       "      <td>0.000248</td>\n",
       "      <td>0.073183</td>\n",
       "      <td>0.056701</td>\n",
       "      <td>-0.020148</td>\n",
       "      <td>-0.086579</td>\n",
       "      <td>-0.124094</td>\n",
       "      <td>0.051609</td>\n",
       "      <td>0.127711</td>\n",
       "      <td>-0.076010</td>\n",
       "      <td>0.050323</td>\n",
       "      <td>-0.103739</td>\n",
       "      <td>-0.025288</td>\n",
       "    </tr>\n",
       "    <tr>\n",
       "      <th>2010-02-22T19:09:32Z</th>\n",
       "      <td>0.311064</td>\n",
       "      <td>0.075021</td>\n",
       "      <td>-0.032046</td>\n",
       "      <td>-0.002118</td>\n",
       "      <td>-0.028246</td>\n",
       "      <td>-0.084266</td>\n",
       "      <td>0.093036</td>\n",
       "      <td>0.134595</td>\n",
       "      <td>-0.001380</td>\n",
       "      <td>0.065354</td>\n",
       "      <td>0.065963</td>\n",
       "      <td>-0.032756</td>\n",
       "      <td>-0.090979</td>\n",
       "      <td>-0.121018</td>\n",
       "      <td>0.026939</td>\n",
       "      <td>0.108635</td>\n",
       "      <td>-0.055247</td>\n",
       "      <td>0.042715</td>\n",
       "      <td>-0.098052</td>\n",
       "      <td>-0.016218</td>\n",
       "    </tr>\n",
       "    <tr>\n",
       "      <th>2011-02-18T19:42:40Z</th>\n",
       "      <td>0.235158</td>\n",
       "      <td>0.009781</td>\n",
       "      <td>-0.028781</td>\n",
       "      <td>0.007047</td>\n",
       "      <td>-0.037482</td>\n",
       "      <td>-0.057171</td>\n",
       "      <td>0.063465</td>\n",
       "      <td>0.094612</td>\n",
       "      <td>0.028675</td>\n",
       "      <td>0.047091</td>\n",
       "      <td>0.070260</td>\n",
       "      <td>-0.003777</td>\n",
       "      <td>-0.080929</td>\n",
       "      <td>-0.097285</td>\n",
       "      <td>0.004142</td>\n",
       "      <td>0.129168</td>\n",
       "      <td>-0.046366</td>\n",
       "      <td>0.050336</td>\n",
       "      <td>-0.093099</td>\n",
       "      <td>-0.012742</td>\n",
       "    </tr>\n",
       "    <tr>\n",
       "      <th>2012-02-10T22:29:24Z</th>\n",
       "      <td>0.298476</td>\n",
       "      <td>0.011272</td>\n",
       "      <td>-0.029652</td>\n",
       "      <td>-0.010918</td>\n",
       "      <td>-0.043767</td>\n",
       "      <td>-0.058476</td>\n",
       "      <td>0.064649</td>\n",
       "      <td>0.094965</td>\n",
       "      <td>0.017139</td>\n",
       "      <td>0.023829</td>\n",
       "      <td>0.076288</td>\n",
       "      <td>0.002456</td>\n",
       "      <td>-0.122445</td>\n",
       "      <td>-0.125573</td>\n",
       "      <td>0.020715</td>\n",
       "      <td>0.137674</td>\n",
       "      <td>-0.034547</td>\n",
       "      <td>0.038780</td>\n",
       "      <td>-0.104771</td>\n",
       "      <td>0.000587</td>\n",
       "    </tr>\n",
       "  </tbody>\n",
       "</table>\n",
       "</div>"
      ],
      "text/plain": [
       "                            0         1         2         3         4   \\\n",
       "filingDate                                                               \n",
       "2008-02-28T00:42:30Z  0.320044  0.086204 -0.012440 -0.003216 -0.026677   \n",
       "2009-02-25T21:22:45Z  0.298948  0.057729 -0.011823  0.004651 -0.036582   \n",
       "2010-02-22T19:09:32Z  0.311064  0.075021 -0.032046 -0.002118 -0.028246   \n",
       "2011-02-18T19:42:40Z  0.235158  0.009781 -0.028781  0.007047 -0.037482   \n",
       "2012-02-10T22:29:24Z  0.298476  0.011272 -0.029652 -0.010918 -0.043767   \n",
       "\n",
       "                            5         6         7         8         9   \\\n",
       "filingDate                                                               \n",
       "2008-02-28T00:42:30Z -0.089333  0.096739  0.159221 -0.004736  0.071193   \n",
       "2009-02-25T21:22:45Z -0.081763  0.092373  0.143640  0.000248  0.073183   \n",
       "2010-02-22T19:09:32Z -0.084266  0.093036  0.134595 -0.001380  0.065354   \n",
       "2011-02-18T19:42:40Z -0.057171  0.063465  0.094612  0.028675  0.047091   \n",
       "2012-02-10T22:29:24Z -0.058476  0.064649  0.094965  0.017139  0.023829   \n",
       "\n",
       "                            10        11        12        13        14  \\\n",
       "filingDate                                                               \n",
       "2008-02-28T00:42:30Z  0.044994 -0.012463 -0.074672 -0.118126  0.054081   \n",
       "2009-02-25T21:22:45Z  0.056701 -0.020148 -0.086579 -0.124094  0.051609   \n",
       "2010-02-22T19:09:32Z  0.065963 -0.032756 -0.090979 -0.121018  0.026939   \n",
       "2011-02-18T19:42:40Z  0.070260 -0.003777 -0.080929 -0.097285  0.004142   \n",
       "2012-02-10T22:29:24Z  0.076288  0.002456 -0.122445 -0.125573  0.020715   \n",
       "\n",
       "                            15        16        17        18        19  \n",
       "filingDate                                                              \n",
       "2008-02-28T00:42:30Z  0.111513 -0.084884  0.018566 -0.083206 -0.026132  \n",
       "2009-02-25T21:22:45Z  0.127711 -0.076010  0.050323 -0.103739 -0.025288  \n",
       "2010-02-22T19:09:32Z  0.108635 -0.055247  0.042715 -0.098052 -0.016218  \n",
       "2011-02-18T19:42:40Z  0.129168 -0.046366  0.050336 -0.093099 -0.012742  \n",
       "2012-02-10T22:29:24Z  0.137674 -0.034547  0.038780 -0.104771  0.000587  "
      ]
     },
     "execution_count": 211,
     "metadata": {},
     "output_type": "execute_result"
    }
   ],
   "source": [
    "netflix_top_df"
   ]
  },
  {
   "cell_type": "code",
   "execution_count": 226,
   "id": "bded58f5",
   "metadata": {},
   "outputs": [
    {
     "data": {
      "text/plain": [
       "0.020378707908341814"
      ]
     },
     "execution_count": 226,
     "metadata": {},
     "output_type": "execute_result"
    }
   ],
   "source": [
    "np.sum(netflix_top_df.iloc[0]**2)"
   ]
  },
  {
   "cell_type": "markdown",
   "id": "f152956d",
   "metadata": {},
   "source": [
    "- decrease in topic 2(retail/store), 15(real estate/land)\n",
    "- increase in topic 10 (finances), 11 (branding?)\n",
    "- interesting decrease in topic 8(software)"
   ]
  },
  {
   "cell_type": "code",
   "execution_count": 150,
   "id": "564d066f",
   "metadata": {},
   "outputs": [
    {
     "data": {
      "text/html": [
       "<div>\n",
       "<style scoped>\n",
       "    .dataframe tbody tr th:only-of-type {\n",
       "        vertical-align: middle;\n",
       "    }\n",
       "\n",
       "    .dataframe tbody tr th {\n",
       "        vertical-align: top;\n",
       "    }\n",
       "\n",
       "    .dataframe thead th {\n",
       "        text-align: right;\n",
       "    }\n",
       "</style>\n",
       "<table border=\"1\" class=\"dataframe\">\n",
       "  <thead>\n",
       "    <tr style=\"text-align: right;\">\n",
       "      <th></th>\n",
       "      <th>0</th>\n",
       "      <th>1</th>\n",
       "      <th>2</th>\n",
       "      <th>3</th>\n",
       "      <th>4</th>\n",
       "      <th>5</th>\n",
       "      <th>6</th>\n",
       "      <th>7</th>\n",
       "      <th>8</th>\n",
       "      <th>9</th>\n",
       "      <th>10</th>\n",
       "      <th>11</th>\n",
       "      <th>12</th>\n",
       "      <th>13</th>\n",
       "      <th>14</th>\n",
       "      <th>15</th>\n",
       "      <th>16</th>\n",
       "      <th>17</th>\n",
       "      <th>18</th>\n",
       "    </tr>\n",
       "    <tr>\n",
       "      <th>filingDate</th>\n",
       "      <th></th>\n",
       "      <th></th>\n",
       "      <th></th>\n",
       "      <th></th>\n",
       "      <th></th>\n",
       "      <th></th>\n",
       "      <th></th>\n",
       "      <th></th>\n",
       "      <th></th>\n",
       "      <th></th>\n",
       "      <th></th>\n",
       "      <th></th>\n",
       "      <th></th>\n",
       "      <th></th>\n",
       "      <th></th>\n",
       "      <th></th>\n",
       "      <th></th>\n",
       "      <th></th>\n",
       "      <th></th>\n",
       "    </tr>\n",
       "  </thead>\n",
       "  <tbody>\n",
       "    <tr>\n",
       "      <th>2011-02-25T21:33:50Z</th>\n",
       "      <td>0.017648</td>\n",
       "      <td>0.0</td>\n",
       "      <td>0.000000</td>\n",
       "      <td>0.020960</td>\n",
       "      <td>0.033407</td>\n",
       "      <td>0.069689</td>\n",
       "      <td>0.005367</td>\n",
       "      <td>0.008763</td>\n",
       "      <td>0.003041</td>\n",
       "      <td>0.0</td>\n",
       "      <td>0.031270</td>\n",
       "      <td>0.00292</td>\n",
       "      <td>0.044842</td>\n",
       "      <td>0.000000</td>\n",
       "      <td>0.069361</td>\n",
       "      <td>0.044335</td>\n",
       "      <td>0.012148</td>\n",
       "      <td>0.184788</td>\n",
       "      <td>0.006936</td>\n",
       "    </tr>\n",
       "    <tr>\n",
       "      <th>2012-02-24T21:29:18Z</th>\n",
       "      <td>0.022081</td>\n",
       "      <td>0.0</td>\n",
       "      <td>0.001496</td>\n",
       "      <td>0.019734</td>\n",
       "      <td>0.038563</td>\n",
       "      <td>0.094123</td>\n",
       "      <td>0.002172</td>\n",
       "      <td>0.000000</td>\n",
       "      <td>0.001420</td>\n",
       "      <td>0.0</td>\n",
       "      <td>0.025274</td>\n",
       "      <td>0.00000</td>\n",
       "      <td>0.044054</td>\n",
       "      <td>0.000000</td>\n",
       "      <td>0.056504</td>\n",
       "      <td>0.053033</td>\n",
       "      <td>0.017329</td>\n",
       "      <td>0.182349</td>\n",
       "      <td>0.003661</td>\n",
       "    </tr>\n",
       "    <tr>\n",
       "      <th>2013-02-26T22:17:59Z</th>\n",
       "      <td>0.022308</td>\n",
       "      <td>0.0</td>\n",
       "      <td>0.006230</td>\n",
       "      <td>0.013948</td>\n",
       "      <td>0.036938</td>\n",
       "      <td>0.097881</td>\n",
       "      <td>0.000000</td>\n",
       "      <td>0.000000</td>\n",
       "      <td>0.000000</td>\n",
       "      <td>0.0</td>\n",
       "      <td>0.026266</td>\n",
       "      <td>0.00000</td>\n",
       "      <td>0.036589</td>\n",
       "      <td>0.000000</td>\n",
       "      <td>0.051409</td>\n",
       "      <td>0.068041</td>\n",
       "      <td>0.015313</td>\n",
       "      <td>0.179075</td>\n",
       "      <td>0.004380</td>\n",
       "    </tr>\n",
       "    <tr>\n",
       "      <th>2014-02-27T21:55:58Z</th>\n",
       "      <td>0.026679</td>\n",
       "      <td>0.0</td>\n",
       "      <td>0.001352</td>\n",
       "      <td>0.014102</td>\n",
       "      <td>0.054518</td>\n",
       "      <td>0.089410</td>\n",
       "      <td>0.000000</td>\n",
       "      <td>0.000000</td>\n",
       "      <td>0.001166</td>\n",
       "      <td>0.0</td>\n",
       "      <td>0.033373</td>\n",
       "      <td>0.00000</td>\n",
       "      <td>0.042842</td>\n",
       "      <td>0.000254</td>\n",
       "      <td>0.044664</td>\n",
       "      <td>0.073127</td>\n",
       "      <td>0.017807</td>\n",
       "      <td>0.145104</td>\n",
       "      <td>0.010401</td>\n",
       "    </tr>\n",
       "  </tbody>\n",
       "</table>\n",
       "</div>"
      ],
      "text/plain": [
       "                            0    1         2         3         4         5   \\\n",
       "filingDate                                                                    \n",
       "2011-02-25T21:33:50Z  0.017648  0.0  0.000000  0.020960  0.033407  0.069689   \n",
       "2012-02-24T21:29:18Z  0.022081  0.0  0.001496  0.019734  0.038563  0.094123   \n",
       "2013-02-26T22:17:59Z  0.022308  0.0  0.006230  0.013948  0.036938  0.097881   \n",
       "2014-02-27T21:55:58Z  0.026679  0.0  0.001352  0.014102  0.054518  0.089410   \n",
       "\n",
       "                            6         7         8    9         10       11  \\\n",
       "filingDate                                                                   \n",
       "2011-02-25T21:33:50Z  0.005367  0.008763  0.003041  0.0  0.031270  0.00292   \n",
       "2012-02-24T21:29:18Z  0.002172  0.000000  0.001420  0.0  0.025274  0.00000   \n",
       "2013-02-26T22:17:59Z  0.000000  0.000000  0.000000  0.0  0.026266  0.00000   \n",
       "2014-02-27T21:55:58Z  0.000000  0.000000  0.001166  0.0  0.033373  0.00000   \n",
       "\n",
       "                            12        13        14        15        16  \\\n",
       "filingDate                                                               \n",
       "2011-02-25T21:33:50Z  0.044842  0.000000  0.069361  0.044335  0.012148   \n",
       "2012-02-24T21:29:18Z  0.044054  0.000000  0.056504  0.053033  0.017329   \n",
       "2013-02-26T22:17:59Z  0.036589  0.000000  0.051409  0.068041  0.015313   \n",
       "2014-02-27T21:55:58Z  0.042842  0.000254  0.044664  0.073127  0.017807   \n",
       "\n",
       "                            17        18  \n",
       "filingDate                                \n",
       "2011-02-25T21:33:50Z  0.184788  0.006936  \n",
       "2012-02-24T21:29:18Z  0.182349  0.003661  \n",
       "2013-02-26T22:17:59Z  0.179075  0.004380  \n",
       "2014-02-27T21:55:58Z  0.145104  0.010401  "
      ]
     },
     "execution_count": 150,
     "metadata": {},
     "output_type": "execute_result"
    }
   ],
   "source": [
    "X = vectorizer.transform(ge[\"coDescription\"].tolist())\n",
    "ge_top = nmf_model.transform(X)\n",
    "ge_top_df = pd.DataFrame(ge_top).set_index(ge[\"filingDate\"])\n",
    "ge_top_df"
   ]
  },
  {
   "cell_type": "code",
   "execution_count": 151,
   "id": "717049ee",
   "metadata": {},
   "outputs": [
    {
     "data": {
      "text/plain": [
       "0     0.009031\n",
       "1     0.000000\n",
       "2     0.001352\n",
       "3    -0.006858\n",
       "4     0.021111\n",
       "5     0.019722\n",
       "6    -0.005367\n",
       "7    -0.008763\n",
       "8    -0.001874\n",
       "9     0.000000\n",
       "10    0.002103\n",
       "11   -0.002920\n",
       "12   -0.002000\n",
       "13    0.000254\n",
       "14   -0.024697\n",
       "15    0.028791\n",
       "16    0.005660\n",
       "17   -0.039684\n",
       "18    0.003465\n",
       "dtype: float64"
      ]
     },
     "execution_count": 151,
     "metadata": {},
     "output_type": "execute_result"
    }
   ],
   "source": [
    "# #compare 2014 to 2011 \n",
    "ge_top_df.iloc[-1] - ge_top_df.iloc[0]"
   ]
  },
  {
   "cell_type": "markdown",
   "id": "389ac093",
   "metadata": {},
   "source": [
    "- decrease in topic 15(real estate/land), 18(aerospace, vehicles)\n",
    "- increase in topic 5(loan/bank), 6(energy/gas), 16 (financial/analysis)"
   ]
  },
  {
   "cell_type": "markdown",
   "id": "605dc2ed",
   "metadata": {},
   "source": [
    "## LDA"
   ]
  },
  {
   "cell_type": "code",
   "execution_count": 210,
   "id": "15c825ef",
   "metadata": {},
   "outputs": [],
   "source": [
    "from gensim.corpora import Dictionary\n",
    "from gensim.models import CoherenceModel, LdaModel, TfidfModel\n",
    "from gensim.models.basemodel import BaseTopicModel\n",
    "from gensim.models.nmf import Nmf \n",
    "\n",
    "dictionary = Dictionary(doc.split() for doc in data)\n",
    " # filter out too in/frequent tokens\n",
    "dictionary.filter_extremes(no_below=0.01, no_above=0.85, keep_n = 5000)\n",
    "\n",
    "corpus = [dictionary.doc2bow(doc.split()) for doc in data]\n",
    "# create list of topic number we want to try \n",
    "topic_nums = list(np.arange(3, 40,3))\n",
    "\n",
    "coherence_scores = []\n",
    "for num in topic_nums:\n",
    "    lda = LdaModel(corpus=corpus,\n",
    "    num_topics=num,\n",
    "    id2word=dictionary,\n",
    "    passes=5,\n",
    "    eval_every=10,\n",
    "    minimum_probability=0.01,\n",
    "    random_state=0)\n",
    "    print(num)\n",
    "    \n",
    "    cm = CoherenceModel(\n",
    "    model=lda,\n",
    "    texts=[doc.split() for doc in data],\n",
    "    dictionary=dictionary,\n",
    "    coherence=\"c_v\")\n",
    "\n",
    "    coherence_scores.append(round(cm.get_coherence(),5))"
   ]
  },
  {
   "cell_type": "code",
   "execution_count": 169,
   "id": "3e6927c8",
   "metadata": {},
   "outputs": [
    {
     "data": {
      "image/png": "[encoded data removed]",
      "text/plain": [
       "<Figure size 432x288 with 1 Axes>"
      ]
     },
     "metadata": {
      "needs_background": "light"
     },
     "output_type": "display_data"
    }
   ],
   "source": [
    "import matplotlib.pyplot as plt\n",
    "scores = list(zip(topic_nums, coherence_scores))\n",
    "plt.plot(topic_nums, coherence_scores)\n",
    "plt.xticks(np.arange(3, 40,2))\n",
    "plt.ylabel('Coherence Score')\n",
    "plt.xlabel('Topic Num')\n",
    "plt.title(\"Coherence Score by Topic Number\")\n",
    "plt.show()"
   ]
  },
  {
   "cell_type": "code",
   "execution_count": 214,
   "id": "fc271cfd",
   "metadata": {},
   "outputs": [
    {
     "name": "stderr",
     "output_type": "stream",
     "text": [
      "C:\\Users\\maryx\\AppData\\Local\\Programs\\Python\\Python310\\lib\\site-packages\\sklearn\\utils\\deprecation.py:87: FutureWarning:\n",
      "\n",
      "Function get_feature_names is deprecated; get_feature_names is deprecated in 1.0 and will be removed in 1.2. Please use get_feature_names_out instead.\n",
      "\n"
     ]
    }
   ],
   "source": [
    "from sklearn.feature_extraction.text import CountVectorizer\n",
    "from sklearn.decomposition import LatentDirichletAllocation\n",
    "\n",
    "# LDA can only use raw term counts for LDA because it is a probabilistic graphical model\n",
    "tf_vectorizer = CountVectorizer(max_df=0.85, min_df=2, max_features=2000)\n",
    "tf = tf_vectorizer.fit_transform(data)\n",
    "tf_feature_names = tf_vectorizer.get_feature_names()\n",
    "lda = LatentDirichletAllocation(n_components=9,random_state=0).fit(tf)"
   ]
  },
  {
   "cell_type": "code",
   "execution_count": 171,
   "id": "4804ca5c",
   "metadata": {
    "scrolled": true
   },
   "outputs": [
    {
     "data": {
      "text/html": [
       "<div>\n",
       "<style scoped>\n",
       "    .dataframe tbody tr th:only-of-type {\n",
       "        vertical-align: middle;\n",
       "    }\n",
       "\n",
       "    .dataframe tbody tr th {\n",
       "        vertical-align: top;\n",
       "    }\n",
       "\n",
       "    .dataframe thead th {\n",
       "        text-align: right;\n",
       "    }\n",
       "</style>\n",
       "<table border=\"1\" class=\"dataframe\">\n",
       "  <thead>\n",
       "    <tr style=\"text-align: right;\">\n",
       "      <th></th>\n",
       "      <th>Topic # 01</th>\n",
       "      <th>Topic # 02</th>\n",
       "      <th>Topic # 03</th>\n",
       "      <th>Topic # 04</th>\n",
       "      <th>Topic # 05</th>\n",
       "      <th>Topic # 06</th>\n",
       "      <th>Topic # 07</th>\n",
       "      <th>Topic # 08</th>\n",
       "      <th>Topic # 09</th>\n",
       "    </tr>\n",
       "  </thead>\n",
       "  <tbody>\n",
       "    <tr>\n",
       "      <th>0</th>\n",
       "      <td>shall</td>\n",
       "      <td>customer</td>\n",
       "      <td>investing</td>\n",
       "      <td>patented</td>\n",
       "      <td>customer</td>\n",
       "      <td>asset</td>\n",
       "      <td>store</td>\n",
       "      <td>llc</td>\n",
       "      <td>propane</td>\n",
       "    </tr>\n",
       "    <tr>\n",
       "      <th>1</th>\n",
       "      <td>stock</td>\n",
       "      <td>master</td>\n",
       "      <td>securing</td>\n",
       "      <td>fda</td>\n",
       "      <td>solution</td>\n",
       "      <td>cash</td>\n",
       "      <td>customer</td>\n",
       "      <td>bank</td>\n",
       "      <td>presented</td>\n",
       "    </tr>\n",
       "    <tr>\n",
       "      <th>2</th>\n",
       "      <td>agreement</td>\n",
       "      <td>system</td>\n",
       "      <td>tax</td>\n",
       "      <td>clinical</td>\n",
       "      <td>system</td>\n",
       "      <td>north</td>\n",
       "      <td>brand</td>\n",
       "      <td>federal</td>\n",
       "      <td>profitability</td>\n",
       "    </tr>\n",
       "    <tr>\n",
       "      <th>3</th>\n",
       "      <td>common</td>\n",
       "      <td>energy</td>\n",
       "      <td>capital</td>\n",
       "      <td>drug</td>\n",
       "      <td>technology</td>\n",
       "      <td>tax</td>\n",
       "      <td>resulting</td>\n",
       "      <td>institute</td>\n",
       "      <td>vice</td>\n",
       "    </tr>\n",
       "    <tr>\n",
       "      <th>4</th>\n",
       "      <td>issue</td>\n",
       "      <td>producing</td>\n",
       "      <td>includes</td>\n",
       "      <td>headquarters</td>\n",
       "      <td>application</td>\n",
       "      <td>first</td>\n",
       "      <td>first</td>\n",
       "      <td>capital</td>\n",
       "      <td>office</td>\n",
       "    </tr>\n",
       "    <tr>\n",
       "      <th>5</th>\n",
       "      <td>date</td>\n",
       "      <td>ohio</td>\n",
       "      <td>could</td>\n",
       "      <td>past</td>\n",
       "      <td>data</td>\n",
       "      <td>statement</td>\n",
       "      <td>distribution</td>\n",
       "      <td>credit</td>\n",
       "      <td>holiday</td>\n",
       "    </tr>\n",
       "    <tr>\n",
       "      <th>6</th>\n",
       "      <td>people</td>\n",
       "      <td>equipment</td>\n",
       "      <td>functionality</td>\n",
       "      <td>medicaid</td>\n",
       "      <td>software</td>\n",
       "      <td>negatively</td>\n",
       "      <td>believe</td>\n",
       "      <td>rapidly</td>\n",
       "      <td>return</td>\n",
       "    </tr>\n",
       "    <tr>\n",
       "      <th>7</th>\n",
       "      <td>previously</td>\n",
       "      <td>cost</td>\n",
       "      <td>fee</td>\n",
       "      <td>device</td>\n",
       "      <td>support</td>\n",
       "      <td>separate</td>\n",
       "      <td>consumer</td>\n",
       "      <td>separate</td>\n",
       "      <td>approximately</td>\n",
       "    </tr>\n",
       "    <tr>\n",
       "      <th>8</th>\n",
       "      <td>director</td>\n",
       "      <td>facility</td>\n",
       "      <td>subject</td>\n",
       "      <td>treatment</td>\n",
       "      <td>proven</td>\n",
       "      <td>value</td>\n",
       "      <td>approximately</td>\n",
       "      <td>read</td>\n",
       "      <td>chief</td>\n",
       "    </tr>\n",
       "    <tr>\n",
       "      <th>9</th>\n",
       "      <td>exchange</td>\n",
       "      <td>garden</td>\n",
       "      <td>act</td>\n",
       "      <td>approval</td>\n",
       "      <td>net</td>\n",
       "      <td>includes</td>\n",
       "      <td>marketer</td>\n",
       "      <td>military</td>\n",
       "      <td>regulated</td>\n",
       "    </tr>\n",
       "    <tr>\n",
       "      <th>10</th>\n",
       "      <td>pump</td>\n",
       "      <td>ethanol</td>\n",
       "      <td>asset</td>\n",
       "      <td>trial</td>\n",
       "      <td>plastic</td>\n",
       "      <td>military</td>\n",
       "      <td>follows</td>\n",
       "      <td>estate</td>\n",
       "      <td>progress</td>\n",
       "    </tr>\n",
       "    <tr>\n",
       "      <th>11</th>\n",
       "      <td>rf</td>\n",
       "      <td>used</td>\n",
       "      <td>regulated</td>\n",
       "      <td>care</td>\n",
       "      <td>return</td>\n",
       "      <td>cost</td>\n",
       "      <td>men</td>\n",
       "      <td>total</td>\n",
       "      <td>executive</td>\n",
       "    </tr>\n",
       "    <tr>\n",
       "      <th>12</th>\n",
       "      <td>intends</td>\n",
       "      <td>potentially</td>\n",
       "      <td>certain</td>\n",
       "      <td>cancer</td>\n",
       "      <td>industrial</td>\n",
       "      <td>shall</td>\n",
       "      <td>retail</td>\n",
       "      <td>intends</td>\n",
       "      <td>claim</td>\n",
       "    </tr>\n",
       "    <tr>\n",
       "      <th>13</th>\n",
       "      <td>outside</td>\n",
       "      <td>industrial</td>\n",
       "      <td>population</td>\n",
       "      <td>technology</td>\n",
       "      <td>device</td>\n",
       "      <td>longer</td>\n",
       "      <td>website</td>\n",
       "      <td>asset</td>\n",
       "      <td>lack</td>\n",
       "    </tr>\n",
       "    <tr>\n",
       "      <th>14</th>\n",
       "      <td>merchant</td>\n",
       "      <td>previously</td>\n",
       "      <td>intends</td>\n",
       "      <td>study</td>\n",
       "      <td>oems</td>\n",
       "      <td>ended</td>\n",
       "      <td>seeking</td>\n",
       "      <td>commercial</td>\n",
       "      <td>loan</td>\n",
       "    </tr>\n",
       "    <tr>\n",
       "      <th>15</th>\n",
       "      <td>securing</td>\n",
       "      <td>manufacturer</td>\n",
       "      <td>required</td>\n",
       "      <td>requiring</td>\n",
       "      <td>design</td>\n",
       "      <td>amount</td>\n",
       "      <td>negatively</td>\n",
       "      <td>securing</td>\n",
       "      <td>restated</td>\n",
       "    </tr>\n",
       "    <tr>\n",
       "      <th>16</th>\n",
       "      <td>statement</td>\n",
       "      <td>first</td>\n",
       "      <td>negatively</td>\n",
       "      <td>regulated</td>\n",
       "      <td>inception</td>\n",
       "      <td>stock</td>\n",
       "      <td>trademark</td>\n",
       "      <td>regulated</td>\n",
       "      <td>content</td>\n",
       "    </tr>\n",
       "    <tr>\n",
       "      <th>17</th>\n",
       "      <td>entered</td>\n",
       "      <td>water</td>\n",
       "      <td>agreement</td>\n",
       "      <td>use</td>\n",
       "      <td>offered</td>\n",
       "      <td>expense</td>\n",
       "      <td>located</td>\n",
       "      <td>deposit</td>\n",
       "      <td>lauren</td>\n",
       "    </tr>\n",
       "    <tr>\n",
       "      <th>18</th>\n",
       "      <td>purpose</td>\n",
       "      <td>technology</td>\n",
       "      <td>would</td>\n",
       "      <td>petroleum</td>\n",
       "      <td>user</td>\n",
       "      <td>leverage</td>\n",
       "      <td>pump</td>\n",
       "      <td>monthly</td>\n",
       "      <td>cost</td>\n",
       "    </tr>\n",
       "    <tr>\n",
       "      <th>19</th>\n",
       "      <td>term</td>\n",
       "      <td>approximately</td>\n",
       "      <td>shall</td>\n",
       "      <td>subject</td>\n",
       "      <td>believe</td>\n",
       "      <td>rapidly</td>\n",
       "      <td>qualify</td>\n",
       "      <td>amount</td>\n",
       "      <td>contract</td>\n",
       "    </tr>\n",
       "  </tbody>\n",
       "</table>\n",
       "</div>"
      ],
      "text/plain": [
       "    Topic # 01     Topic # 02     Topic # 03    Topic # 04   Topic # 05  \\\n",
       "0        shall       customer      investing      patented     customer   \n",
       "1        stock         master       securing           fda     solution   \n",
       "2    agreement         system            tax      clinical       system   \n",
       "3       common         energy        capital          drug   technology   \n",
       "4        issue      producing       includes  headquarters  application   \n",
       "5         date           ohio          could          past         data   \n",
       "6       people      equipment  functionality      medicaid     software   \n",
       "7   previously           cost            fee        device      support   \n",
       "8     director       facility        subject     treatment       proven   \n",
       "9     exchange         garden            act      approval          net   \n",
       "10        pump        ethanol          asset         trial      plastic   \n",
       "11          rf           used      regulated          care       return   \n",
       "12     intends    potentially        certain        cancer   industrial   \n",
       "13     outside     industrial     population    technology       device   \n",
       "14    merchant     previously        intends         study         oems   \n",
       "15    securing   manufacturer       required     requiring       design   \n",
       "16   statement          first     negatively     regulated    inception   \n",
       "17     entered          water      agreement           use      offered   \n",
       "18     purpose     technology          would     petroleum         user   \n",
       "19        term  approximately          shall       subject      believe   \n",
       "\n",
       "    Topic # 06     Topic # 07  Topic # 08     Topic # 09  \n",
       "0        asset          store         llc        propane  \n",
       "1         cash       customer        bank      presented  \n",
       "2        north          brand     federal  profitability  \n",
       "3          tax      resulting   institute           vice  \n",
       "4        first          first     capital         office  \n",
       "5    statement   distribution      credit        holiday  \n",
       "6   negatively        believe     rapidly         return  \n",
       "7     separate       consumer    separate  approximately  \n",
       "8        value  approximately        read          chief  \n",
       "9     includes       marketer    military      regulated  \n",
       "10    military        follows      estate       progress  \n",
       "11        cost            men       total      executive  \n",
       "12       shall         retail     intends          claim  \n",
       "13      longer        website       asset           lack  \n",
       "14       ended        seeking  commercial           loan  \n",
       "15      amount     negatively    securing       restated  \n",
       "16       stock      trademark   regulated        content  \n",
       "17     expense        located     deposit         lauren  \n",
       "18    leverage           pump     monthly           cost  \n",
       "19     rapidly        qualify      amount       contract  "
      ]
     },
     "execution_count": 171,
     "metadata": {},
     "output_type": "execute_result"
    }
   ],
   "source": [
    "get_topics(lda,9)"
   ]
  },
  {
   "cell_type": "markdown",
   "id": "7a884ece",
   "metadata": {},
   "source": [
    "### Difference in document-topic vectors"
   ]
  },
  {
   "cell_type": "code",
   "execution_count": 215,
   "id": "27dd2aeb",
   "metadata": {},
   "outputs": [],
   "source": [
    "X = tf_vectorizer.transform(netflix[\"coDescription\"].tolist())\n",
    "netflix_top = lda.transform(X)\n",
    "netflix_top_df = pd.DataFrame(netflix_top).set_index(netflix[\"filingDate\"])"
   ]
  },
  {
   "cell_type": "code",
   "execution_count": 213,
   "id": "06ae8d44",
   "metadata": {},
   "outputs": [
    {
     "data": {
      "text/plain": [
       "0     0.320044\n",
       "1     0.086204\n",
       "2    -0.012440\n",
       "3    -0.003216\n",
       "4    -0.026677\n",
       "5    -0.089333\n",
       "6     0.096739\n",
       "7     0.159221\n",
       "8    -0.004736\n",
       "9     0.071193\n",
       "10    0.044994\n",
       "11   -0.012463\n",
       "12   -0.074672\n",
       "13   -0.118126\n",
       "14    0.054081\n",
       "15    0.111513\n",
       "16   -0.084884\n",
       "17    0.018566\n",
       "18   -0.083206\n",
       "19   -0.026132\n",
       "Name: 2008-02-28T00:42:30Z, dtype: float64"
      ]
     },
     "execution_count": 213,
     "metadata": {},
     "output_type": "execute_result"
    }
   ],
   "source": []
  },
  {
   "cell_type": "code",
   "execution_count": 184,
   "id": "98a939fa",
   "metadata": {},
   "outputs": [
    {
     "data": {
      "text/plain": [
       "0   -0.013953\n",
       "1    0.000202\n",
       "2    0.000202\n",
       "3   -0.001993\n",
       "4   -0.090778\n",
       "5    0.023481\n",
       "6    0.032062\n",
       "7    0.000202\n",
       "8    0.050576\n",
       "dtype: float64"
      ]
     },
     "execution_count": 184,
     "metadata": {},
     "output_type": "execute_result"
    }
   ],
   "source": [
    "#compare 2012 with 2008 \n",
    "netflix_top_df.iloc[-1] - netflix_top_df.iloc[0]"
   ]
  },
  {
   "cell_type": "markdown",
   "id": "a260f39a",
   "metadata": {},
   "source": [
    "- decrease in topic 1(?) ,5(software)\n",
    "- increase in topic 6(finance), 7(retail), 9(legal?)"
   ]
  },
  {
   "cell_type": "code",
   "execution_count": 185,
   "id": "0ddd6af6",
   "metadata": {},
   "outputs": [
    {
     "data": {
      "text/html": [
       "<div>\n",
       "<style scoped>\n",
       "    .dataframe tbody tr th:only-of-type {\n",
       "        vertical-align: middle;\n",
       "    }\n",
       "\n",
       "    .dataframe tbody tr th {\n",
       "        vertical-align: top;\n",
       "    }\n",
       "\n",
       "    .dataframe thead th {\n",
       "        text-align: right;\n",
       "    }\n",
       "</style>\n",
       "<table border=\"1\" class=\"dataframe\">\n",
       "  <thead>\n",
       "    <tr style=\"text-align: right;\">\n",
       "      <th></th>\n",
       "      <th>0</th>\n",
       "      <th>1</th>\n",
       "      <th>2</th>\n",
       "      <th>3</th>\n",
       "      <th>4</th>\n",
       "      <th>5</th>\n",
       "      <th>6</th>\n",
       "      <th>7</th>\n",
       "      <th>8</th>\n",
       "    </tr>\n",
       "    <tr>\n",
       "      <th>filingDate</th>\n",
       "      <th></th>\n",
       "      <th></th>\n",
       "      <th></th>\n",
       "      <th></th>\n",
       "      <th></th>\n",
       "      <th></th>\n",
       "      <th></th>\n",
       "      <th></th>\n",
       "      <th></th>\n",
       "    </tr>\n",
       "  </thead>\n",
       "  <tbody>\n",
       "    <tr>\n",
       "      <th>2011-02-25T21:33:50Z</th>\n",
       "      <td>0.000047</td>\n",
       "      <td>0.498023</td>\n",
       "      <td>0.036266</td>\n",
       "      <td>0.070316</td>\n",
       "      <td>0.114108</td>\n",
       "      <td>0.007328</td>\n",
       "      <td>0.000047</td>\n",
       "      <td>0.112384</td>\n",
       "      <td>0.161482</td>\n",
       "    </tr>\n",
       "    <tr>\n",
       "      <th>2012-02-24T21:29:18Z</th>\n",
       "      <td>0.011215</td>\n",
       "      <td>0.533556</td>\n",
       "      <td>0.030604</td>\n",
       "      <td>0.075787</td>\n",
       "      <td>0.104087</td>\n",
       "      <td>0.015506</td>\n",
       "      <td>0.012698</td>\n",
       "      <td>0.135751</td>\n",
       "      <td>0.080796</td>\n",
       "    </tr>\n",
       "    <tr>\n",
       "      <th>2013-02-26T22:17:59Z</th>\n",
       "      <td>0.034429</td>\n",
       "      <td>0.550539</td>\n",
       "      <td>0.026982</td>\n",
       "      <td>0.065935</td>\n",
       "      <td>0.115461</td>\n",
       "      <td>0.016585</td>\n",
       "      <td>0.027572</td>\n",
       "      <td>0.141499</td>\n",
       "      <td>0.020998</td>\n",
       "    </tr>\n",
       "    <tr>\n",
       "      <th>2014-02-27T21:55:58Z</th>\n",
       "      <td>0.016560</td>\n",
       "      <td>0.508674</td>\n",
       "      <td>0.034713</td>\n",
       "      <td>0.068372</td>\n",
       "      <td>0.111263</td>\n",
       "      <td>0.022444</td>\n",
       "      <td>0.067732</td>\n",
       "      <td>0.169345</td>\n",
       "      <td>0.000897</td>\n",
       "    </tr>\n",
       "  </tbody>\n",
       "</table>\n",
       "</div>"
      ],
      "text/plain": [
       "                             0         1         2         3         4  \\\n",
       "filingDate                                                               \n",
       "2011-02-25T21:33:50Z  0.000047  0.498023  0.036266  0.070316  0.114108   \n",
       "2012-02-24T21:29:18Z  0.011215  0.533556  0.030604  0.075787  0.104087   \n",
       "2013-02-26T22:17:59Z  0.034429  0.550539  0.026982  0.065935  0.115461   \n",
       "2014-02-27T21:55:58Z  0.016560  0.508674  0.034713  0.068372  0.111263   \n",
       "\n",
       "                             5         6         7         8  \n",
       "filingDate                                                    \n",
       "2011-02-25T21:33:50Z  0.007328  0.000047  0.112384  0.161482  \n",
       "2012-02-24T21:29:18Z  0.015506  0.012698  0.135751  0.080796  \n",
       "2013-02-26T22:17:59Z  0.016585  0.027572  0.141499  0.020998  \n",
       "2014-02-27T21:55:58Z  0.022444  0.067732  0.169345  0.000897  "
      ]
     },
     "execution_count": 185,
     "metadata": {},
     "output_type": "execute_result"
    }
   ],
   "source": [
    "X = tf_vectorizer.transform(ge[\"coDescription\"].tolist())\n",
    "ge_top = lda.transform(X)\n",
    "ge_top_df = pd.DataFrame(ge_top).set_index(ge[\"filingDate\"])\n",
    "ge_top_df"
   ]
  },
  {
   "cell_type": "code",
   "execution_count": 186,
   "id": "428ff2dc",
   "metadata": {},
   "outputs": [
    {
     "data": {
      "text/plain": [
       "0    0.016514\n",
       "1    0.010651\n",
       "2   -0.001553\n",
       "3   -0.001944\n",
       "4   -0.002845\n",
       "5    0.015117\n",
       "6    0.067685\n",
       "7    0.056961\n",
       "8   -0.160586\n",
       "dtype: float64"
      ]
     },
     "execution_count": 186,
     "metadata": {},
     "output_type": "execute_result"
    }
   ],
   "source": [
    "# compare 2014 to 2011 \n",
    "ge_top_df.iloc[-1] - ge_top_df.iloc[0]"
   ]
  },
  {
   "cell_type": "markdown",
   "id": "a3fb99fb",
   "metadata": {},
   "source": [
    "- decrease in topic 9(legal?)\n",
    "- increase in topic 7(retail), 8(finance,banking)"
   ]
  },
  {
   "cell_type": "markdown",
   "id": "49cb89d7",
   "metadata": {},
   "source": [
    "### LSA"
   ]
  },
  {
   "cell_type": "code",
   "execution_count": 188,
   "id": "f106a5e5",
   "metadata": {},
   "outputs": [],
   "source": [
    "from sklearn.decomposition import TruncatedSVD\n",
    "vectorizer = TfidfVectorizer(max_df=0.85, max_features=2000) \n",
    "X = vectorizer.fit_transform(data)\n",
    "svd = TruncatedSVD(n_components=20)\n",
    "svd_model = pd.DataFrame(svd.fit_transform(X))"
   ]
  },
  {
   "cell_type": "code",
   "execution_count": 204,
   "id": "b3b1e09a",
   "metadata": {},
   "outputs": [
    {
     "data": {
      "text/html": [
       "<div>\n",
       "<style scoped>\n",
       "    .dataframe tbody tr th:only-of-type {\n",
       "        vertical-align: middle;\n",
       "    }\n",
       "\n",
       "    .dataframe tbody tr th {\n",
       "        vertical-align: top;\n",
       "    }\n",
       "\n",
       "    .dataframe thead th {\n",
       "        text-align: right;\n",
       "    }\n",
       "</style>\n",
       "<table border=\"1\" class=\"dataframe\">\n",
       "  <thead>\n",
       "    <tr style=\"text-align: right;\">\n",
       "      <th></th>\n",
       "      <th>Topic # 01</th>\n",
       "      <th>Topic # 02</th>\n",
       "      <th>Topic # 03</th>\n",
       "      <th>Topic # 04</th>\n",
       "      <th>Topic # 05</th>\n",
       "      <th>Topic # 06</th>\n",
       "      <th>Topic # 07</th>\n",
       "      <th>Topic # 08</th>\n",
       "      <th>Topic # 09</th>\n",
       "      <th>Topic # 10</th>\n",
       "      <th>Topic # 11</th>\n",
       "      <th>Topic # 12</th>\n",
       "      <th>Topic # 13</th>\n",
       "      <th>Topic # 14</th>\n",
       "      <th>Topic # 15</th>\n",
       "      <th>Topic # 16</th>\n",
       "      <th>Topic # 17</th>\n",
       "      <th>Topic # 18</th>\n",
       "      <th>Topic # 19</th>\n",
       "      <th>Topic # 20</th>\n",
       "    </tr>\n",
       "  </thead>\n",
       "  <tbody>\n",
       "    <tr>\n",
       "      <th>0</th>\n",
       "      <td>customer</td>\n",
       "      <td>store</td>\n",
       "      <td>store</td>\n",
       "      <td>patient</td>\n",
       "      <td>loan</td>\n",
       "      <td>oil</td>\n",
       "      <td>ethanol</td>\n",
       "      <td>gas</td>\n",
       "      <td>president</td>\n",
       "      <td>loan</td>\n",
       "      <td>food</td>\n",
       "      <td>mineral</td>\n",
       "      <td>investment</td>\n",
       "      <td>customer</td>\n",
       "      <td>home</td>\n",
       "      <td>item</td>\n",
       "      <td>item</td>\n",
       "      <td>aircraft</td>\n",
       "      <td>food</td>\n",
       "      <td>customer</td>\n",
       "    </tr>\n",
       "    <tr>\n",
       "      <th>1</th>\n",
       "      <td>store</td>\n",
       "      <td>customer</td>\n",
       "      <td>merchandise</td>\n",
       "      <td>clinical</td>\n",
       "      <td>bank</td>\n",
       "      <td>gas</td>\n",
       "      <td>corn</td>\n",
       "      <td>oil</td>\n",
       "      <td>vice</td>\n",
       "      <td>share</td>\n",
       "      <td>brand</td>\n",
       "      <td>mining</td>\n",
       "      <td>fund</td>\n",
       "      <td>merger</td>\n",
       "      <td>cannabis</td>\n",
       "      <td>registrant</td>\n",
       "      <td>client</td>\n",
       "      <td>system</td>\n",
       "      <td>cannabis</td>\n",
       "      <td>aircraft</td>\n",
       "    </tr>\n",
       "    <tr>\n",
       "      <th>2</th>\n",
       "      <td>system</td>\n",
       "      <td>merchandise</td>\n",
       "      <td>loan</td>\n",
       "      <td>fda</td>\n",
       "      <td>patient</td>\n",
       "      <td>ethanol</td>\n",
       "      <td>grain</td>\n",
       "      <td>software</td>\n",
       "      <td>officer</td>\n",
       "      <td>mineral</td>\n",
       "      <td>client</td>\n",
       "      <td>exploration</td>\n",
       "      <td>adviser</td>\n",
       "      <td>client</td>\n",
       "      <td>aircraft</td>\n",
       "      <td>estate</td>\n",
       "      <td>segment</td>\n",
       "      <td>franchise</td>\n",
       "      <td>restaurant</td>\n",
       "      <td>vehicle</td>\n",
       "    </tr>\n",
       "    <tr>\n",
       "      <th>3</th>\n",
       "      <td>fiscal</td>\n",
       "      <td>brand</td>\n",
       "      <td>share</td>\n",
       "      <td>drug</td>\n",
       "      <td>fda</td>\n",
       "      <td>natural</td>\n",
       "      <td>distiller</td>\n",
       "      <td>exploration</td>\n",
       "      <td>chief</td>\n",
       "      <td>cannabis</td>\n",
       "      <td>investment</td>\n",
       "      <td>project</td>\n",
       "      <td>client</td>\n",
       "      <td>target</td>\n",
       "      <td>client</td>\n",
       "      <td>investment</td>\n",
       "      <td>solution</td>\n",
       "      <td>restaurant</td>\n",
       "      <td>store</td>\n",
       "      <td>partnership</td>\n",
       "    </tr>\n",
       "    <tr>\n",
       "      <th>4</th>\n",
       "      <td>share</td>\n",
       "      <td>apparel</td>\n",
       "      <td>stock</td>\n",
       "      <td>trial</td>\n",
       "      <td>clinical</td>\n",
       "      <td>production</td>\n",
       "      <td>software</td>\n",
       "      <td>client</td>\n",
       "      <td>served</td>\n",
       "      <td>bank</td>\n",
       "      <td>consumer</td>\n",
       "      <td>claim</td>\n",
       "      <td>portfolio</td>\n",
       "      <td>transaction</td>\n",
       "      <td>construction</td>\n",
       "      <td>property</td>\n",
       "      <td>brand</td>\n",
       "      <td>food</td>\n",
       "      <td>solution</td>\n",
       "      <td>property</td>\n",
       "    </tr>\n",
       "    <tr>\n",
       "      <th>5</th>\n",
       "      <td>brand</td>\n",
       "      <td>retail</td>\n",
       "      <td>brand</td>\n",
       "      <td>cancer</td>\n",
       "      <td>mortgage</td>\n",
       "      <td>exploration</td>\n",
       "      <td>client</td>\n",
       "      <td>property</td>\n",
       "      <td>executive</td>\n",
       "      <td>agreement</td>\n",
       "      <td>restaurant</td>\n",
       "      <td>property</td>\n",
       "      <td>advisor</td>\n",
       "      <td>opportunity</td>\n",
       "      <td>item</td>\n",
       "      <td>real</td>\n",
       "      <td>statement</td>\n",
       "      <td>aviation</td>\n",
       "      <td>franchise</td>\n",
       "      <td>cancer</td>\n",
       "    </tr>\n",
       "    <tr>\n",
       "      <th>6</th>\n",
       "      <td>technology</td>\n",
       "      <td>retailer</td>\n",
       "      <td>common</td>\n",
       "      <td>store</td>\n",
       "      <td>credit</td>\n",
       "      <td>water</td>\n",
       "      <td>gallon</td>\n",
       "      <td>natural</td>\n",
       "      <td>client</td>\n",
       "      <td>exploration</td>\n",
       "      <td>beverage</td>\n",
       "      <td>mine</td>\n",
       "      <td>cannabis</td>\n",
       "      <td>loan</td>\n",
       "      <td>segment</td>\n",
       "      <td>restaurant</td>\n",
       "      <td>registrant</td>\n",
       "      <td>entertainment</td>\n",
       "      <td>franchisees</td>\n",
       "      <td>investment</td>\n",
       "    </tr>\n",
       "    <tr>\n",
       "      <th>7</th>\n",
       "      <td>agreement</td>\n",
       "      <td>fiscal</td>\n",
       "      <td>investment</td>\n",
       "      <td>study</td>\n",
       "      <td>trial</td>\n",
       "      <td>drilling</td>\n",
       "      <td>data</td>\n",
       "      <td>mineral</td>\n",
       "      <td>care</td>\n",
       "      <td>mining</td>\n",
       "      <td>fund</td>\n",
       "      <td>gold</td>\n",
       "      <td>store</td>\n",
       "      <td>vehicle</td>\n",
       "      <td>land</td>\n",
       "      <td>statement</td>\n",
       "      <td>loan</td>\n",
       "      <td>flight</td>\n",
       "      <td>beverage</td>\n",
       "      <td>exploration</td>\n",
       "    </tr>\n",
       "    <tr>\n",
       "      <th>8</th>\n",
       "      <td>stock</td>\n",
       "      <td>footwear</td>\n",
       "      <td>apparel</td>\n",
       "      <td>treatment</td>\n",
       "      <td>drug</td>\n",
       "      <td>grain</td>\n",
       "      <td>solution</td>\n",
       "      <td>data</td>\n",
       "      <td>senior</td>\n",
       "      <td>stock</td>\n",
       "      <td>ingredient</td>\n",
       "      <td>ethanol</td>\n",
       "      <td>capital</td>\n",
       "      <td>security</td>\n",
       "      <td>contract</td>\n",
       "      <td>entertainment</td>\n",
       "      <td>mineral</td>\n",
       "      <td>franchisees</td>\n",
       "      <td>coffee</td>\n",
       "      <td>drug</td>\n",
       "    </tr>\n",
       "    <tr>\n",
       "      <th>9</th>\n",
       "      <td>segment</td>\n",
       "      <td>assortment</td>\n",
       "      <td>retail</td>\n",
       "      <td>medical</td>\n",
       "      <td>estate</td>\n",
       "      <td>mineral</td>\n",
       "      <td>fuel</td>\n",
       "      <td>drilling</td>\n",
       "      <td>food</td>\n",
       "      <td>home</td>\n",
       "      <td>segment</td>\n",
       "      <td>statement</td>\n",
       "      <td>power</td>\n",
       "      <td>registrant</td>\n",
       "      <td>building</td>\n",
       "      <td>device</td>\n",
       "      <td>mining</td>\n",
       "      <td>client</td>\n",
       "      <td>ingredient</td>\n",
       "      <td>partner</td>\n",
       "    </tr>\n",
       "    <tr>\n",
       "      <th>10</th>\n",
       "      <td>solution</td>\n",
       "      <td>accessory</td>\n",
       "      <td>bank</td>\n",
       "      <td>pharmaceutical</td>\n",
       "      <td>federal</td>\n",
       "      <td>corn</td>\n",
       "      <td>platform</td>\n",
       "      <td>platform</td>\n",
       "      <td>oil</td>\n",
       "      <td>property</td>\n",
       "      <td>coffee</td>\n",
       "      <td>item</td>\n",
       "      <td>semiconductor</td>\n",
       "      <td>could</td>\n",
       "      <td>system</td>\n",
       "      <td>semiconductor</td>\n",
       "      <td>exploration</td>\n",
       "      <td>energy</td>\n",
       "      <td>tax</td>\n",
       "      <td>mineral</td>\n",
       "    </tr>\n",
       "    <tr>\n",
       "      <th>11</th>\n",
       "      <td>material</td>\n",
       "      <td>center</td>\n",
       "      <td>income</td>\n",
       "      <td>device</td>\n",
       "      <td>investment</td>\n",
       "      <td>fuel</td>\n",
       "      <td>gasoline</td>\n",
       "      <td>solution</td>\n",
       "      <td>loan</td>\n",
       "      <td>nevada</td>\n",
       "      <td>distribution</td>\n",
       "      <td>could</td>\n",
       "      <td>energy</td>\n",
       "      <td>acquisition</td>\n",
       "      <td>vehicle</td>\n",
       "      <td>equity</td>\n",
       "      <td>equity</td>\n",
       "      <td>power</td>\n",
       "      <td>technology</td>\n",
       "      <td>part</td>\n",
       "    </tr>\n",
       "    <tr>\n",
       "      <th>12</th>\n",
       "      <td>cost</td>\n",
       "      <td>segment</td>\n",
       "      <td>tax</td>\n",
       "      <td>therapy</td>\n",
       "      <td>rate</td>\n",
       "      <td>energy</td>\n",
       "      <td>renewable</td>\n",
       "      <td>project</td>\n",
       "      <td>gas</td>\n",
       "      <td>project</td>\n",
       "      <td>retail</td>\n",
       "      <td>registrant</td>\n",
       "      <td>estate</td>\n",
       "      <td>combination</td>\n",
       "      <td>community</td>\n",
       "      <td>video</td>\n",
       "      <td>bank</td>\n",
       "      <td>military</td>\n",
       "      <td>fresh</td>\n",
       "      <td>registrant</td>\n",
       "    </tr>\n",
       "    <tr>\n",
       "      <th>13</th>\n",
       "      <td>application</td>\n",
       "      <td>fashion</td>\n",
       "      <td>estate</td>\n",
       "      <td>disease</td>\n",
       "      <td>institution</td>\n",
       "      <td>distiller</td>\n",
       "      <td>user</td>\n",
       "      <td>user</td>\n",
       "      <td>since</td>\n",
       "      <td>land</td>\n",
       "      <td>regulation</td>\n",
       "      <td>vice</td>\n",
       "      <td>merchandise</td>\n",
       "      <td>act</td>\n",
       "      <td>registrant</td>\n",
       "      <td>part</td>\n",
       "      <td>stockholder</td>\n",
       "      <td>store</td>\n",
       "      <td>medical</td>\n",
       "      <td>credit</td>\n",
       "    </tr>\n",
       "    <tr>\n",
       "      <th>14</th>\n",
       "      <td>approximately</td>\n",
       "      <td>merchandising</td>\n",
       "      <td>interest</td>\n",
       "      <td>approval</td>\n",
       "      <td>real</td>\n",
       "      <td>food</td>\n",
       "      <td>plant</td>\n",
       "      <td>mining</td>\n",
       "      <td>director</td>\n",
       "      <td>construction</td>\n",
       "      <td>marketing</td>\n",
       "      <td>store</td>\n",
       "      <td>trust</td>\n",
       "      <td>sec</td>\n",
       "      <td>patient</td>\n",
       "      <td>partnership</td>\n",
       "      <td>supplementary</td>\n",
       "      <td>engine</td>\n",
       "      <td>health</td>\n",
       "      <td>cannabis</td>\n",
       "    </tr>\n",
       "    <tr>\n",
       "      <th>15</th>\n",
       "      <td>believe</td>\n",
       "      <td>believe</td>\n",
       "      <td>asset</td>\n",
       "      <td>care</td>\n",
       "      <td>cancer</td>\n",
       "      <td>plant</td>\n",
       "      <td>mobile</td>\n",
       "      <td>store</td>\n",
       "      <td>bank</td>\n",
       "      <td>gold</td>\n",
       "      <td>pet</td>\n",
       "      <td>president</td>\n",
       "      <td>property</td>\n",
       "      <td>shareholder</td>\n",
       "      <td>project</td>\n",
       "      <td>stockholder</td>\n",
       "      <td>mine</td>\n",
       "      <td>video</td>\n",
       "      <td>processing</td>\n",
       "      <td>lease</td>\n",
       "    </tr>\n",
       "    <tr>\n",
       "      <th>16</th>\n",
       "      <td>regulation</td>\n",
       "      <td>vice</td>\n",
       "      <td>real</td>\n",
       "      <td>share</td>\n",
       "      <td>borrower</td>\n",
       "      <td>property</td>\n",
       "      <td>cloud</td>\n",
       "      <td>online</td>\n",
       "      <td>joining</td>\n",
       "      <td>common</td>\n",
       "      <td>water</td>\n",
       "      <td>merchandise</td>\n",
       "      <td>income</td>\n",
       "      <td>regulation</td>\n",
       "      <td>aviation</td>\n",
       "      <td>food</td>\n",
       "      <td>part</td>\n",
       "      <td>display</td>\n",
       "      <td>customer</td>\n",
       "      <td>item</td>\n",
       "    </tr>\n",
       "    <tr>\n",
       "      <th>17</th>\n",
       "      <td>industry</td>\n",
       "      <td>wholesale</td>\n",
       "      <td>fund</td>\n",
       "      <td>blood</td>\n",
       "      <td>home</td>\n",
       "      <td>pipeline</td>\n",
       "      <td>online</td>\n",
       "      <td>mobile</td>\n",
       "      <td>brand</td>\n",
       "      <td>estate</td>\n",
       "      <td>adviser</td>\n",
       "      <td>condition</td>\n",
       "      <td>partnership</td>\n",
       "      <td>stock</td>\n",
       "      <td>part</td>\n",
       "      <td>supplementary</td>\n",
       "      <td>data</td>\n",
       "      <td>fee</td>\n",
       "      <td>semiconductor</td>\n",
       "      <td>series</td>\n",
       "    </tr>\n",
       "    <tr>\n",
       "      <th>18</th>\n",
       "      <td>common</td>\n",
       "      <td>online</td>\n",
       "      <td>shareholder</td>\n",
       "      <td>health</td>\n",
       "      <td>treatment</td>\n",
       "      <td>environmental</td>\n",
       "      <td>lincolnway</td>\n",
       "      <td>cloud</td>\n",
       "      <td>natural</td>\n",
       "      <td>real</td>\n",
       "      <td>health</td>\n",
       "      <td>risk</td>\n",
       "      <td>share</td>\n",
       "      <td>bank</td>\n",
       "      <td>residential</td>\n",
       "      <td>apps</td>\n",
       "      <td>gold</td>\n",
       "      <td>defense</td>\n",
       "      <td>property</td>\n",
       "      <td>pharmaceutical</td>\n",
       "    </tr>\n",
       "    <tr>\n",
       "      <th>19</th>\n",
       "      <td>manufacturing</td>\n",
       "      <td>distribution</td>\n",
       "      <td>credit</td>\n",
       "      <td>candidate</td>\n",
       "      <td>deposit</td>\n",
       "      <td>price</td>\n",
       "      <td>rf</td>\n",
       "      <td>claim</td>\n",
       "      <td>health</td>\n",
       "      <td>mortgage</td>\n",
       "      <td>franchise</td>\n",
       "      <td>land</td>\n",
       "      <td>industrial</td>\n",
       "      <td>director</td>\n",
       "      <td>cancer</td>\n",
       "      <td>event</td>\n",
       "      <td>project</td>\n",
       "      <td>card</td>\n",
       "      <td>merchandise</td>\n",
       "      <td>trust</td>\n",
       "    </tr>\n",
       "  </tbody>\n",
       "</table>\n",
       "</div>"
      ],
      "text/plain": [
       "       Topic # 01     Topic # 02   Topic # 03      Topic # 04   Topic # 05  \\\n",
       "0        customer          store        store         patient         loan   \n",
       "1           store       customer  merchandise        clinical         bank   \n",
       "2          system    merchandise         loan             fda      patient   \n",
       "3          fiscal          brand        share            drug          fda   \n",
       "4           share        apparel        stock           trial     clinical   \n",
       "5           brand         retail        brand          cancer     mortgage   \n",
       "6      technology       retailer       common           store       credit   \n",
       "7       agreement         fiscal   investment           study        trial   \n",
       "8           stock       footwear      apparel       treatment         drug   \n",
       "9         segment     assortment       retail         medical       estate   \n",
       "10       solution      accessory         bank  pharmaceutical      federal   \n",
       "11       material         center       income          device   investment   \n",
       "12           cost        segment          tax         therapy         rate   \n",
       "13    application        fashion       estate         disease  institution   \n",
       "14  approximately  merchandising     interest        approval         real   \n",
       "15        believe        believe        asset            care       cancer   \n",
       "16     regulation           vice         real           share     borrower   \n",
       "17       industry      wholesale         fund           blood         home   \n",
       "18         common         online  shareholder          health    treatment   \n",
       "19  manufacturing   distribution       credit       candidate      deposit   \n",
       "\n",
       "       Topic # 06  Topic # 07   Topic # 08 Topic # 09    Topic # 10  \\\n",
       "0             oil     ethanol          gas  president          loan   \n",
       "1             gas        corn          oil       vice         share   \n",
       "2         ethanol       grain     software    officer       mineral   \n",
       "3         natural   distiller  exploration      chief      cannabis   \n",
       "4      production    software       client     served          bank   \n",
       "5     exploration      client     property  executive     agreement   \n",
       "6           water      gallon      natural     client   exploration   \n",
       "7        drilling        data      mineral       care        mining   \n",
       "8           grain    solution         data     senior         stock   \n",
       "9         mineral        fuel     drilling       food          home   \n",
       "10           corn    platform     platform        oil      property   \n",
       "11           fuel    gasoline     solution       loan        nevada   \n",
       "12         energy   renewable      project        gas       project   \n",
       "13      distiller        user         user      since          land   \n",
       "14           food       plant       mining   director  construction   \n",
       "15          plant      mobile        store       bank          gold   \n",
       "16       property       cloud       online    joining        common   \n",
       "17       pipeline      online       mobile      brand        estate   \n",
       "18  environmental  lincolnway        cloud    natural          real   \n",
       "19          price          rf        claim     health      mortgage   \n",
       "\n",
       "      Topic # 11   Topic # 12     Topic # 13   Topic # 14    Topic # 15  \\\n",
       "0           food      mineral     investment     customer          home   \n",
       "1          brand       mining           fund       merger      cannabis   \n",
       "2         client  exploration        adviser       client      aircraft   \n",
       "3     investment      project         client       target        client   \n",
       "4       consumer        claim      portfolio  transaction  construction   \n",
       "5     restaurant     property        advisor  opportunity          item   \n",
       "6       beverage         mine       cannabis         loan       segment   \n",
       "7           fund         gold          store      vehicle          land   \n",
       "8     ingredient      ethanol        capital     security      contract   \n",
       "9        segment    statement          power   registrant      building   \n",
       "10        coffee         item  semiconductor        could        system   \n",
       "11  distribution        could         energy  acquisition       vehicle   \n",
       "12        retail   registrant         estate  combination     community   \n",
       "13    regulation         vice    merchandise          act    registrant   \n",
       "14     marketing        store          trust          sec       patient   \n",
       "15           pet    president       property  shareholder       project   \n",
       "16         water  merchandise         income   regulation      aviation   \n",
       "17       adviser    condition    partnership        stock          part   \n",
       "18        health         risk          share         bank   residential   \n",
       "19     franchise         land     industrial     director        cancer   \n",
       "\n",
       "       Topic # 16     Topic # 17     Topic # 18     Topic # 19      Topic # 20  \n",
       "0            item           item       aircraft           food        customer  \n",
       "1      registrant         client         system       cannabis        aircraft  \n",
       "2          estate        segment      franchise     restaurant         vehicle  \n",
       "3      investment       solution     restaurant          store     partnership  \n",
       "4        property          brand           food       solution        property  \n",
       "5            real      statement       aviation      franchise          cancer  \n",
       "6      restaurant     registrant  entertainment    franchisees      investment  \n",
       "7       statement           loan         flight       beverage     exploration  \n",
       "8   entertainment        mineral    franchisees         coffee            drug  \n",
       "9          device         mining         client     ingredient         partner  \n",
       "10  semiconductor    exploration         energy            tax         mineral  \n",
       "11         equity         equity          power     technology            part  \n",
       "12          video           bank       military          fresh      registrant  \n",
       "13           part    stockholder          store        medical          credit  \n",
       "14    partnership  supplementary         engine         health        cannabis  \n",
       "15    stockholder           mine          video     processing           lease  \n",
       "16           food           part        display       customer            item  \n",
       "17  supplementary           data            fee  semiconductor          series  \n",
       "18           apps           gold        defense       property  pharmaceutical  \n",
       "19          event        project           card    merchandise           trust  "
      ]
     },
     "execution_count": 204,
     "metadata": {},
     "output_type": "execute_result"
    }
   ],
   "source": [
    "get_topics(svd,20)"
   ]
  },
  {
   "cell_type": "markdown",
   "id": "fa11ed0c",
   "metadata": {},
   "source": [
    "### Difference in document-topic vectors"
   ]
  },
  {
   "cell_type": "code",
   "execution_count": 205,
   "id": "31466ce9",
   "metadata": {},
   "outputs": [
    {
     "data": {
      "text/html": [
       "<div>\n",
       "<style scoped>\n",
       "    .dataframe tbody tr th:only-of-type {\n",
       "        vertical-align: middle;\n",
       "    }\n",
       "\n",
       "    .dataframe tbody tr th {\n",
       "        vertical-align: top;\n",
       "    }\n",
       "\n",
       "    .dataframe thead th {\n",
       "        text-align: right;\n",
       "    }\n",
       "</style>\n",
       "<table border=\"1\" class=\"dataframe\">\n",
       "  <thead>\n",
       "    <tr style=\"text-align: right;\">\n",
       "      <th></th>\n",
       "      <th>0</th>\n",
       "      <th>1</th>\n",
       "      <th>2</th>\n",
       "      <th>3</th>\n",
       "      <th>4</th>\n",
       "      <th>5</th>\n",
       "      <th>6</th>\n",
       "      <th>7</th>\n",
       "      <th>8</th>\n",
       "      <th>9</th>\n",
       "      <th>10</th>\n",
       "      <th>11</th>\n",
       "      <th>12</th>\n",
       "      <th>13</th>\n",
       "      <th>14</th>\n",
       "      <th>15</th>\n",
       "      <th>16</th>\n",
       "      <th>17</th>\n",
       "      <th>18</th>\n",
       "      <th>19</th>\n",
       "    </tr>\n",
       "    <tr>\n",
       "      <th>filingDate</th>\n",
       "      <th></th>\n",
       "      <th></th>\n",
       "      <th></th>\n",
       "      <th></th>\n",
       "      <th></th>\n",
       "      <th></th>\n",
       "      <th></th>\n",
       "      <th></th>\n",
       "      <th></th>\n",
       "      <th></th>\n",
       "      <th></th>\n",
       "      <th></th>\n",
       "      <th></th>\n",
       "      <th></th>\n",
       "      <th></th>\n",
       "      <th></th>\n",
       "      <th></th>\n",
       "      <th></th>\n",
       "      <th></th>\n",
       "      <th></th>\n",
       "    </tr>\n",
       "  </thead>\n",
       "  <tbody>\n",
       "    <tr>\n",
       "      <th>2008-02-28T00:42:30Z</th>\n",
       "      <td>0.320044</td>\n",
       "      <td>0.086204</td>\n",
       "      <td>-0.012440</td>\n",
       "      <td>-0.003216</td>\n",
       "      <td>-0.026677</td>\n",
       "      <td>-0.089333</td>\n",
       "      <td>0.096739</td>\n",
       "      <td>0.159221</td>\n",
       "      <td>-0.004736</td>\n",
       "      <td>0.071193</td>\n",
       "      <td>0.044994</td>\n",
       "      <td>-0.012463</td>\n",
       "      <td>-0.074672</td>\n",
       "      <td>-0.118126</td>\n",
       "      <td>0.054081</td>\n",
       "      <td>0.111513</td>\n",
       "      <td>-0.084884</td>\n",
       "      <td>0.018566</td>\n",
       "      <td>-0.083206</td>\n",
       "      <td>-0.026132</td>\n",
       "    </tr>\n",
       "    <tr>\n",
       "      <th>2009-02-25T21:22:45Z</th>\n",
       "      <td>0.298948</td>\n",
       "      <td>0.057729</td>\n",
       "      <td>-0.011823</td>\n",
       "      <td>0.004651</td>\n",
       "      <td>-0.036582</td>\n",
       "      <td>-0.081763</td>\n",
       "      <td>0.092373</td>\n",
       "      <td>0.143640</td>\n",
       "      <td>0.000248</td>\n",
       "      <td>0.073183</td>\n",
       "      <td>0.056701</td>\n",
       "      <td>-0.020148</td>\n",
       "      <td>-0.086579</td>\n",
       "      <td>-0.124094</td>\n",
       "      <td>0.051609</td>\n",
       "      <td>0.127711</td>\n",
       "      <td>-0.076010</td>\n",
       "      <td>0.050323</td>\n",
       "      <td>-0.103739</td>\n",
       "      <td>-0.025288</td>\n",
       "    </tr>\n",
       "    <tr>\n",
       "      <th>2010-02-22T19:09:32Z</th>\n",
       "      <td>0.311064</td>\n",
       "      <td>0.075021</td>\n",
       "      <td>-0.032046</td>\n",
       "      <td>-0.002118</td>\n",
       "      <td>-0.028246</td>\n",
       "      <td>-0.084266</td>\n",
       "      <td>0.093036</td>\n",
       "      <td>0.134595</td>\n",
       "      <td>-0.001380</td>\n",
       "      <td>0.065354</td>\n",
       "      <td>0.065963</td>\n",
       "      <td>-0.032756</td>\n",
       "      <td>-0.090979</td>\n",
       "      <td>-0.121018</td>\n",
       "      <td>0.026939</td>\n",
       "      <td>0.108635</td>\n",
       "      <td>-0.055247</td>\n",
       "      <td>0.042715</td>\n",
       "      <td>-0.098052</td>\n",
       "      <td>-0.016218</td>\n",
       "    </tr>\n",
       "    <tr>\n",
       "      <th>2011-02-18T19:42:40Z</th>\n",
       "      <td>0.235158</td>\n",
       "      <td>0.009781</td>\n",
       "      <td>-0.028781</td>\n",
       "      <td>0.007047</td>\n",
       "      <td>-0.037482</td>\n",
       "      <td>-0.057171</td>\n",
       "      <td>0.063465</td>\n",
       "      <td>0.094612</td>\n",
       "      <td>0.028675</td>\n",
       "      <td>0.047091</td>\n",
       "      <td>0.070260</td>\n",
       "      <td>-0.003777</td>\n",
       "      <td>-0.080929</td>\n",
       "      <td>-0.097285</td>\n",
       "      <td>0.004142</td>\n",
       "      <td>0.129168</td>\n",
       "      <td>-0.046366</td>\n",
       "      <td>0.050336</td>\n",
       "      <td>-0.093099</td>\n",
       "      <td>-0.012742</td>\n",
       "    </tr>\n",
       "    <tr>\n",
       "      <th>2012-02-10T22:29:24Z</th>\n",
       "      <td>0.298476</td>\n",
       "      <td>0.011272</td>\n",
       "      <td>-0.029652</td>\n",
       "      <td>-0.010918</td>\n",
       "      <td>-0.043767</td>\n",
       "      <td>-0.058476</td>\n",
       "      <td>0.064649</td>\n",
       "      <td>0.094965</td>\n",
       "      <td>0.017139</td>\n",
       "      <td>0.023829</td>\n",
       "      <td>0.076288</td>\n",
       "      <td>0.002456</td>\n",
       "      <td>-0.122445</td>\n",
       "      <td>-0.125573</td>\n",
       "      <td>0.020715</td>\n",
       "      <td>0.137674</td>\n",
       "      <td>-0.034547</td>\n",
       "      <td>0.038780</td>\n",
       "      <td>-0.104771</td>\n",
       "      <td>0.000587</td>\n",
       "    </tr>\n",
       "  </tbody>\n",
       "</table>\n",
       "</div>"
      ],
      "text/plain": [
       "                            0         1         2         3         4   \\\n",
       "filingDate                                                               \n",
       "2008-02-28T00:42:30Z  0.320044  0.086204 -0.012440 -0.003216 -0.026677   \n",
       "2009-02-25T21:22:45Z  0.298948  0.057729 -0.011823  0.004651 -0.036582   \n",
       "2010-02-22T19:09:32Z  0.311064  0.075021 -0.032046 -0.002118 -0.028246   \n",
       "2011-02-18T19:42:40Z  0.235158  0.009781 -0.028781  0.007047 -0.037482   \n",
       "2012-02-10T22:29:24Z  0.298476  0.011272 -0.029652 -0.010918 -0.043767   \n",
       "\n",
       "                            5         6         7         8         9   \\\n",
       "filingDate                                                               \n",
       "2008-02-28T00:42:30Z -0.089333  0.096739  0.159221 -0.004736  0.071193   \n",
       "2009-02-25T21:22:45Z -0.081763  0.092373  0.143640  0.000248  0.073183   \n",
       "2010-02-22T19:09:32Z -0.084266  0.093036  0.134595 -0.001380  0.065354   \n",
       "2011-02-18T19:42:40Z -0.057171  0.063465  0.094612  0.028675  0.047091   \n",
       "2012-02-10T22:29:24Z -0.058476  0.064649  0.094965  0.017139  0.023829   \n",
       "\n",
       "                            10        11        12        13        14  \\\n",
       "filingDate                                                               \n",
       "2008-02-28T00:42:30Z  0.044994 -0.012463 -0.074672 -0.118126  0.054081   \n",
       "2009-02-25T21:22:45Z  0.056701 -0.020148 -0.086579 -0.124094  0.051609   \n",
       "2010-02-22T19:09:32Z  0.065963 -0.032756 -0.090979 -0.121018  0.026939   \n",
       "2011-02-18T19:42:40Z  0.070260 -0.003777 -0.080929 -0.097285  0.004142   \n",
       "2012-02-10T22:29:24Z  0.076288  0.002456 -0.122445 -0.125573  0.020715   \n",
       "\n",
       "                            15        16        17        18        19  \n",
       "filingDate                                                              \n",
       "2008-02-28T00:42:30Z  0.111513 -0.084884  0.018566 -0.083206 -0.026132  \n",
       "2009-02-25T21:22:45Z  0.127711 -0.076010  0.050323 -0.103739 -0.025288  \n",
       "2010-02-22T19:09:32Z  0.108635 -0.055247  0.042715 -0.098052 -0.016218  \n",
       "2011-02-18T19:42:40Z  0.129168 -0.046366  0.050336 -0.093099 -0.012742  \n",
       "2012-02-10T22:29:24Z  0.137674 -0.034547  0.038780 -0.104771  0.000587  "
      ]
     },
     "execution_count": 205,
     "metadata": {},
     "output_type": "execute_result"
    }
   ],
   "source": [
    "X = vectorizer.transform(netflix[\"coDescription\"].tolist())\n",
    "netflix_top = svd.transform(X)\n",
    "netflix_top_df = pd.DataFrame(netflix_top).set_index(netflix[\"filingDate\"])\n",
    "netflix_top_df"
   ]
  },
  {
   "cell_type": "code",
   "execution_count": 206,
   "id": "e85c4c49",
   "metadata": {},
   "outputs": [
    {
     "data": {
      "text/plain": [
       "0    -0.021567\n",
       "1    -0.074932\n",
       "2    -0.017211\n",
       "3    -0.007703\n",
       "4    -0.017090\n",
       "5     0.030857\n",
       "6    -0.032090\n",
       "7    -0.064255\n",
       "8     0.021875\n",
       "9    -0.047364\n",
       "10    0.031294\n",
       "11    0.014919\n",
       "12   -0.047773\n",
       "13   -0.007448\n",
       "14   -0.033366\n",
       "15    0.026161\n",
       "16    0.050337\n",
       "17    0.020214\n",
       "18   -0.021565\n",
       "19    0.026719\n",
       "dtype: float64"
      ]
     },
     "execution_count": 206,
     "metadata": {},
     "output_type": "execute_result"
    }
   ],
   "source": [
    "#compare 2012 with 2008 \n",
    "netflix_top_df.iloc[-1] - netflix_top_df.iloc[0]"
   ]
  },
  {
   "cell_type": "markdown",
   "id": "7937d018",
   "metadata": {},
   "source": [
    "- decrease in topic 2(retail/distribution) ,8(software, mining), 13(investment), 10(loan, real estate, commodities)\n",
    "- increase in topic 6(natural resources/exploration), 11(food, marketing), 17(?)"
   ]
  },
  {
   "cell_type": "code",
   "execution_count": 207,
   "id": "a5f1d310",
   "metadata": {},
   "outputs": [
    {
     "data": {
      "text/html": [
       "<div>\n",
       "<style scoped>\n",
       "    .dataframe tbody tr th:only-of-type {\n",
       "        vertical-align: middle;\n",
       "    }\n",
       "\n",
       "    .dataframe tbody tr th {\n",
       "        vertical-align: top;\n",
       "    }\n",
       "\n",
       "    .dataframe thead th {\n",
       "        text-align: right;\n",
       "    }\n",
       "</style>\n",
       "<table border=\"1\" class=\"dataframe\">\n",
       "  <thead>\n",
       "    <tr style=\"text-align: right;\">\n",
       "      <th></th>\n",
       "      <th>0</th>\n",
       "      <th>1</th>\n",
       "      <th>2</th>\n",
       "      <th>3</th>\n",
       "      <th>4</th>\n",
       "      <th>5</th>\n",
       "      <th>6</th>\n",
       "      <th>7</th>\n",
       "      <th>8</th>\n",
       "      <th>9</th>\n",
       "      <th>10</th>\n",
       "      <th>11</th>\n",
       "      <th>12</th>\n",
       "      <th>13</th>\n",
       "      <th>14</th>\n",
       "      <th>15</th>\n",
       "      <th>16</th>\n",
       "      <th>17</th>\n",
       "      <th>18</th>\n",
       "      <th>19</th>\n",
       "    </tr>\n",
       "    <tr>\n",
       "      <th>filingDate</th>\n",
       "      <th></th>\n",
       "      <th></th>\n",
       "      <th></th>\n",
       "      <th></th>\n",
       "      <th></th>\n",
       "      <th></th>\n",
       "      <th></th>\n",
       "      <th></th>\n",
       "      <th></th>\n",
       "      <th></th>\n",
       "      <th></th>\n",
       "      <th></th>\n",
       "      <th></th>\n",
       "      <th></th>\n",
       "      <th></th>\n",
       "      <th></th>\n",
       "      <th></th>\n",
       "      <th></th>\n",
       "      <th></th>\n",
       "      <th></th>\n",
       "    </tr>\n",
       "  </thead>\n",
       "  <tbody>\n",
       "    <tr>\n",
       "      <th>2011-02-25T21:33:50Z</th>\n",
       "      <td>0.481511</td>\n",
       "      <td>-0.076468</td>\n",
       "      <td>-0.115548</td>\n",
       "      <td>-0.131421</td>\n",
       "      <td>0.092017</td>\n",
       "      <td>0.121786</td>\n",
       "      <td>-0.050700</td>\n",
       "      <td>0.006487</td>\n",
       "      <td>0.017142</td>\n",
       "      <td>-0.038494</td>\n",
       "      <td>-0.029542</td>\n",
       "      <td>-0.007060</td>\n",
       "      <td>0.067528</td>\n",
       "      <td>-0.045134</td>\n",
       "      <td>0.165391</td>\n",
       "      <td>0.109140</td>\n",
       "      <td>0.056954</td>\n",
       "      <td>0.147321</td>\n",
       "      <td>-0.091883</td>\n",
       "      <td>0.030465</td>\n",
       "    </tr>\n",
       "    <tr>\n",
       "      <th>2012-02-24T21:29:18Z</th>\n",
       "      <td>0.486454</td>\n",
       "      <td>-0.092141</td>\n",
       "      <td>-0.116039</td>\n",
       "      <td>-0.148235</td>\n",
       "      <td>0.097716</td>\n",
       "      <td>0.161368</td>\n",
       "      <td>-0.072456</td>\n",
       "      <td>0.010697</td>\n",
       "      <td>0.022214</td>\n",
       "      <td>-0.066274</td>\n",
       "      <td>-0.057195</td>\n",
       "      <td>-0.039949</td>\n",
       "      <td>0.078188</td>\n",
       "      <td>0.002967</td>\n",
       "      <td>0.170599</td>\n",
       "      <td>0.089286</td>\n",
       "      <td>0.100887</td>\n",
       "      <td>0.111349</td>\n",
       "      <td>-0.077397</td>\n",
       "      <td>0.033640</td>\n",
       "    </tr>\n",
       "    <tr>\n",
       "      <th>2013-02-26T22:17:59Z</th>\n",
       "      <td>0.482642</td>\n",
       "      <td>-0.097719</td>\n",
       "      <td>-0.111440</td>\n",
       "      <td>-0.152740</td>\n",
       "      <td>0.077203</td>\n",
       "      <td>0.167533</td>\n",
       "      <td>-0.082711</td>\n",
       "      <td>0.002903</td>\n",
       "      <td>0.017465</td>\n",
       "      <td>-0.070464</td>\n",
       "      <td>-0.061800</td>\n",
       "      <td>-0.048341</td>\n",
       "      <td>0.061807</td>\n",
       "      <td>0.022016</td>\n",
       "      <td>0.178503</td>\n",
       "      <td>0.087291</td>\n",
       "      <td>0.126216</td>\n",
       "      <td>0.086923</td>\n",
       "      <td>-0.066592</td>\n",
       "      <td>0.032776</td>\n",
       "    </tr>\n",
       "    <tr>\n",
       "      <th>2014-02-27T21:55:58Z</th>\n",
       "      <td>0.490679</td>\n",
       "      <td>-0.096178</td>\n",
       "      <td>-0.083033</td>\n",
       "      <td>-0.154771</td>\n",
       "      <td>0.116424</td>\n",
       "      <td>0.146756</td>\n",
       "      <td>-0.079415</td>\n",
       "      <td>-0.001103</td>\n",
       "      <td>0.018648</td>\n",
       "      <td>-0.069932</td>\n",
       "      <td>-0.041976</td>\n",
       "      <td>-0.036546</td>\n",
       "      <td>0.045302</td>\n",
       "      <td>0.024818</td>\n",
       "      <td>0.146687</td>\n",
       "      <td>0.087582</td>\n",
       "      <td>0.124961</td>\n",
       "      <td>0.053977</td>\n",
       "      <td>-0.055363</td>\n",
       "      <td>0.040454</td>\n",
       "    </tr>\n",
       "  </tbody>\n",
       "</table>\n",
       "</div>"
      ],
      "text/plain": [
       "                            0         1         2         3         4   \\\n",
       "filingDate                                                               \n",
       "2011-02-25T21:33:50Z  0.481511 -0.076468 -0.115548 -0.131421  0.092017   \n",
       "2012-02-24T21:29:18Z  0.486454 -0.092141 -0.116039 -0.148235  0.097716   \n",
       "2013-02-26T22:17:59Z  0.482642 -0.097719 -0.111440 -0.152740  0.077203   \n",
       "2014-02-27T21:55:58Z  0.490679 -0.096178 -0.083033 -0.154771  0.116424   \n",
       "\n",
       "                            5         6         7         8         9   \\\n",
       "filingDate                                                               \n",
       "2011-02-25T21:33:50Z  0.121786 -0.050700  0.006487  0.017142 -0.038494   \n",
       "2012-02-24T21:29:18Z  0.161368 -0.072456  0.010697  0.022214 -0.066274   \n",
       "2013-02-26T22:17:59Z  0.167533 -0.082711  0.002903  0.017465 -0.070464   \n",
       "2014-02-27T21:55:58Z  0.146756 -0.079415 -0.001103  0.018648 -0.069932   \n",
       "\n",
       "                            10        11        12        13        14  \\\n",
       "filingDate                                                               \n",
       "2011-02-25T21:33:50Z -0.029542 -0.007060  0.067528 -0.045134  0.165391   \n",
       "2012-02-24T21:29:18Z -0.057195 -0.039949  0.078188  0.002967  0.170599   \n",
       "2013-02-26T22:17:59Z -0.061800 -0.048341  0.061807  0.022016  0.178503   \n",
       "2014-02-27T21:55:58Z -0.041976 -0.036546  0.045302  0.024818  0.146687   \n",
       "\n",
       "                            15        16        17        18        19  \n",
       "filingDate                                                              \n",
       "2011-02-25T21:33:50Z  0.109140  0.056954  0.147321 -0.091883  0.030465  \n",
       "2012-02-24T21:29:18Z  0.089286  0.100887  0.111349 -0.077397  0.033640  \n",
       "2013-02-26T22:17:59Z  0.087291  0.126216  0.086923 -0.066592  0.032776  \n",
       "2014-02-27T21:55:58Z  0.087582  0.124961  0.053977 -0.055363  0.040454  "
      ]
     },
     "execution_count": 207,
     "metadata": {},
     "output_type": "execute_result"
    }
   ],
   "source": [
    "X = vectorizer.transform(ge[\"coDescription\"].tolist())\n",
    "ge_top = svd.transform(X)\n",
    "ge_top_df = pd.DataFrame(ge_top).set_index(ge[\"filingDate\"])\n",
    "ge_top_df"
   ]
  },
  {
   "cell_type": "code",
   "execution_count": 208,
   "id": "00af355b",
   "metadata": {},
   "outputs": [
    {
     "data": {
      "text/plain": [
       "0     0.009168\n",
       "1    -0.019710\n",
       "2     0.032514\n",
       "3    -0.023350\n",
       "4     0.024407\n",
       "5     0.024970\n",
       "6    -0.028716\n",
       "7    -0.007591\n",
       "8     0.001506\n",
       "9    -0.031439\n",
       "10   -0.012434\n",
       "11   -0.029486\n",
       "12   -0.022226\n",
       "13    0.069952\n",
       "14   -0.018704\n",
       "15   -0.021558\n",
       "16    0.068007\n",
       "17   -0.093344\n",
       "18    0.036520\n",
       "19    0.009989\n",
       "dtype: float64"
      ]
     },
     "execution_count": 208,
     "metadata": {},
     "output_type": "execute_result"
    }
   ],
   "source": [
    "# compare 2014 to 2011 \n",
    "ge_top_df.iloc[-1] - ge_top_df.iloc[0]"
   ]
  },
  {
   "cell_type": "markdown",
   "id": "c1e34601",
   "metadata": {},
   "source": [
    "- decrease in topic 10(loan, real estate, commodities), 12(comodities?),18(aerospace)\n",
    "- increase in topic 3(loan/banking), 14(acquisition), 17(?)"
   ]
  },
  {
   "cell_type": "markdown",
   "id": "42ab792e",
   "metadata": {},
   "source": [
    "## Summary\n",
    "#### NMD Results\n",
    "\n",
    "__Netflix__\n",
    "- decrease in topic 2(retail/store), 15(real estate/land)\n",
    "- increase in topic 10 (finances), 11 (branding?)\n",
    "\n",
    "Note : interesting slight decrease in topic 8(software)\n",
    "\n",
    "__GE__\n",
    "- decrease in topic 15(real estate/land), 18(aerospace, vehicles)\n",
    "- increase in topic 5(loan/bank), 6(energy/gas), 16 (financial/analysis)\n",
    "\n",
    "#### LDA Results\n",
    "\n",
    "__Netflix__\n",
    "- decrease in topic 1(?) ,5(software)\n",
    "- increase in topic 6(finance), 7(retail), 9(legal?)\n",
    "\n",
    "__GE__\n",
    "- decrease in topic 9(legal?)\n",
    "- increase in topic 7(retail), 8(finance,banking)\n",
    "\n",
    "#### LSA Results\n",
    "\n",
    "__Netflix__\n",
    "- decrease in topic 2(retail/distribution) ,8(software, mining), 13(investment), 10(loan, real estate, commodities)\n",
    "- increase in topic 6(natural resources/exploration), 11(food, marketing), 17(?)\n",
    "\n",
    "__GE__\n",
    "- decrease in topic 10(loan, real estate, commodities), 12(comodities?),18(aerospace)\n",
    "- increase in topic 3(loan/banking), 14(acquisition), 17(?)"
   ]
  },
  {
   "cell_type": "markdown",
   "id": "f925fb7c",
   "metadata": {},
   "source": [
    "##### LSA and NMF are similar but LSA's topics are easier to interpret"
   ]
  },
  {
   "cell_type": "code",
   "execution_count": null,
   "id": "2cb36913",
   "metadata": {},
   "outputs": [],
   "source": []
  }
 ],
 "metadata": {
  "kernelspec": {
   "display_name": "Python 3 (ipykernel)",
   "language": "python",
   "name": "python3"
  },
  "language_info": {
   "codemirror_mode": {
    "name": "ipython",
    "version": 3
   },
   "file_extension": ".py",
   "mimetype": "text/x-python",
   "name": "python",
   "nbconvert_exporter": "python",
   "pygments_lexer": "ipython3",
   "version": "3.10.2"
  }
 },
 "nbformat": 4,
 "nbformat_minor": 5
}

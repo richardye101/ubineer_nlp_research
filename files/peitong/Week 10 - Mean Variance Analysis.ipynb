{
 "cells": [
  {
   "cell_type": "code",
   "execution_count": 1,
   "id": "ac5e5cb6",
   "metadata": {},
   "outputs": [],
   "source": [
    "import pandas as pd\n",
    "import numpy as np\n",
    "import matplotlib.pyplot as plt\n",
    "import seaborn as sns\n",
    "#import bertopic"
   ]
  },
  {
   "cell_type": "markdown",
   "id": "d9148826",
   "metadata": {},
   "source": [
    "## Mean-Variance Analysis"
   ]
  },
  {
   "cell_type": "markdown",
   "id": "26343f60",
   "metadata": {},
   "source": [
    "### Monthly Returns"
   ]
  },
  {
   "cell_type": "code",
   "execution_count": 2,
   "id": "66f11a5d",
   "metadata": {},
   "outputs": [],
   "source": [
    "returns_data = pd.read_csv('returns_2018_top5_SIC.csv', \n",
    "                      parse_dates = ['DATE'], \n",
    "                      usecols = [\"trt1m\", \"CIK\", \"name\", \"DATE\"])\n",
    "#returns_data.info()"
   ]
  },
  {
   "cell_type": "code",
   "execution_count": 3,
   "id": "d054cea0",
   "metadata": {},
   "outputs": [],
   "source": [
    "# TAKE OUT THE DATA before 2019 and reset index\n",
    "end_date = pd.to_datetime('2019-01-01')\n",
    "returns = returns_data.loc[(returns_data['DATE'] < end_date)]\n",
    "# drop the missing value\n",
    "returns = returns.dropna()"
   ]
  },
  {
   "cell_type": "code",
   "execution_count": 4,
   "id": "5ae8f967",
   "metadata": {},
   "outputs": [],
   "source": [
    "#returns"
   ]
  },
  {
   "cell_type": "code",
   "execution_count": 5,
   "id": "0bbe63e8",
   "metadata": {},
   "outputs": [],
   "source": [
    "date = pd.DataFrame(returns.DATE.unique())"
   ]
  },
  {
   "cell_type": "code",
   "execution_count": 6,
   "id": "f1b8bf9e",
   "metadata": {},
   "outputs": [],
   "source": [
    "group_returns = returns.groupby(['CIK', 'DATE'])\n",
    "#group_returns.first()"
   ]
  },
  {
   "cell_type": "code",
   "execution_count": 7,
   "id": "c04db1c3",
   "metadata": {},
   "outputs": [],
   "source": [
    "# calculate the percentage return\n",
    "group_returns_pct = group_returns.agg({\"trt1m\": (lambda x:  x/100)})\n",
    "#group_returns_pct"
   ]
  },
  {
   "cell_type": "code",
   "execution_count": 8,
   "id": "61b30c2d",
   "metadata": {},
   "outputs": [],
   "source": [
    "# unstack the dataframe and get the product of each month's return to generate annual return\n",
    "r_selected = group_returns_pct.unstack()\n",
    "# drop the first index\n",
    "r_selected.columns = r_selected.columns.droplevel(0)"
   ]
  },
  {
   "cell_type": "code",
   "execution_count": 10,
   "id": "233c60c5",
   "metadata": {},
   "outputs": [],
   "source": [
    "# there are some rows containing more than one float number (array of multiple returns)\n",
    "for i in range(len(r_selected)):\n",
    "    if type(r_selected.iloc[i,1]) == np.ndarray:\n",
    "        r_selected = r_selected.drop(index = r_selected.index[i])\n",
    "# convert object to float\n",
    "r_selected = r_selected.astype(float)\n",
    "# drop missing values rows\n",
    "r_selected = r_selected.dropna()"
   ]
  },
  {
   "cell_type": "code",
   "execution_count": 11,
   "id": "83898463",
   "metadata": {
    "scrolled": true
   },
   "outputs": [],
   "source": [
    "#r_selected"
   ]
  },
  {
   "cell_type": "code",
   "execution_count": 13,
   "id": "76754554",
   "metadata": {
    "scrolled": true
   },
   "outputs": [],
   "source": [
    "# get the mean of all \n",
    "mu = r_selected.mean(axis = 1)\n",
    "#mu"
   ]
  },
  {
   "cell_type": "code",
   "execution_count": 14,
   "id": "081e51bd",
   "metadata": {},
   "outputs": [],
   "source": [
    "# compute the covariance matrix \n",
    "cov = r_selected.T.cov()\n",
    "#cov"
   ]
  },
  {
   "cell_type": "markdown",
   "id": "a9ab40b6",
   "metadata": {},
   "source": [
    "### Cosine Similarity Distances"
   ]
  },
  {
   "cell_type": "code",
   "execution_count": 15,
   "id": "12637e4f",
   "metadata": {},
   "outputs": [],
   "source": [
    "df = pd.read_csv('preprocessed.csv',\n",
    "                 usecols = ['reportingDate', 'name', 'CIK',\n",
    "                           'coDescription_stopwords', 'SIC', 'SIC_desc'])\n",
    "df = df.set_index(df.CIK)\n",
    "#df"
   ]
  },
  {
   "cell_type": "markdown",
   "id": "53b30eba",
   "metadata": {},
   "source": [
    "#### Words Count"
   ]
  },
  {
   "cell_type": "code",
   "execution_count": 16,
   "id": "dac58bb7",
   "metadata": {},
   "outputs": [
    {
     "name": "stderr",
     "output_type": "stream",
     "text": [
      "/Users/lulu/opt/anaconda3/lib/python3.9/site-packages/sklearn/utils/deprecation.py:87: FutureWarning: Function get_feature_names is deprecated; get_feature_names is deprecated in 1.0 and will be removed in 1.2. Please use get_feature_names_out instead.\n",
      "  warnings.warn(msg, category=FutureWarning)\n"
     ]
    }
   ],
   "source": [
    "from sklearn.feature_extraction.text import CountVectorizer\n",
    "\n",
    "Vectorizer = CountVectorizer(ngram_range = (2,4), \n",
    "                             max_features = 1000)\n",
    "\n",
    "count_data = Vectorizer.fit_transform(df['coDescription_stopwords'])\n",
    "wordsCount = pd.DataFrame(count_data.toarray(),columns=Vectorizer.get_feature_names())\n",
    "wordsCount = wordsCount.set_index(df['CIK'])\n",
    "#wordsCount"
   ]
  },
  {
   "cell_type": "code",
   "execution_count": 109,
   "id": "d993e48d",
   "metadata": {},
   "outputs": [],
   "source": [
    "# Compute Cosine Similarity\n",
    "from sklearn.metrics.pairwise import cosine_similarity\n",
    "cosine_sim = pd.DataFrame(cosine_similarity(wordsCount, wordsCount))\n",
    "cosine_sim = cosine_sim.set_index(df['CIK'])\n",
    "cosine_sim.columns = df['CIK']\n",
    "#cosine_sim"
   ]
  },
  {
   "cell_type": "markdown",
   "id": "70db3425",
   "metadata": {},
   "source": [
    "### Perform Mean-Variance Analysis"
   ]
  },
  {
   "cell_type": "code",
   "execution_count": 18,
   "id": "f245cf2e",
   "metadata": {},
   "outputs": [],
   "source": [
    "from pypfopt import EfficientFrontier\n",
    "from pypfopt import risk_models\n",
    "from pypfopt import expected_returns\n",
    "from pypfopt import objective_functions\n",
    "from pypfopt import plotting"
   ]
  },
  {
   "cell_type": "code",
   "execution_count": 19,
   "id": "b9f6cdc4",
   "metadata": {},
   "outputs": [],
   "source": [
    "# get the names of the companies in the pharmaceutical preparations industry\n",
    "Pharm = df[df.SIC == 2834]\n",
    "Pharm_list = Pharm.index"
   ]
  },
  {
   "cell_type": "code",
   "execution_count": 20,
   "id": "98c532c4",
   "metadata": {
    "scrolled": false
   },
   "outputs": [],
   "source": [
    "# get the companies name that match return data and business description data\n",
    "SET = (set(Pharm_list) & set(r_selected.index))\n",
    "#type(SET)"
   ]
  },
  {
   "cell_type": "code",
   "execution_count": 21,
   "id": "3e1ed221",
   "metadata": {},
   "outputs": [
    {
     "data": {
      "text/plain": [
       "124"
      ]
     },
     "execution_count": 21,
     "metadata": {},
     "output_type": "execute_result"
    }
   ],
   "source": [
    "LIST = [*SET, ]\n",
    "len(LIST)"
   ]
  },
  {
   "cell_type": "markdown",
   "id": "270561f4",
   "metadata": {},
   "source": [
    "#### Mean and Covariance for Returns in the Pharmaceutical Preparations Industry"
   ]
  },
  {
   "cell_type": "code",
   "execution_count": 22,
   "id": "7b6da842",
   "metadata": {},
   "outputs": [],
   "source": [
    "mu_Pharm = mu[LIST]\n",
    "#mu_Pharm"
   ]
  },
  {
   "cell_type": "code",
   "execution_count": 23,
   "id": "8e72a50e",
   "metadata": {},
   "outputs": [],
   "source": [
    "tmp = cov[LIST].T\n",
    "cov_Pharm = tmp[LIST]"
   ]
  },
  {
   "cell_type": "code",
   "execution_count": 108,
   "id": "0da5a388",
   "metadata": {},
   "outputs": [],
   "source": [
    "#cov_Pharm"
   ]
  },
  {
   "cell_type": "markdown",
   "id": "33da382f",
   "metadata": {},
   "source": [
    "#### Cosine Similarity Distances in the Pharmaceutical Preparations Industry"
   ]
  },
  {
   "cell_type": "code",
   "execution_count": 25,
   "id": "0b815891",
   "metadata": {
    "scrolled": true
   },
   "outputs": [],
   "source": [
    "tmp = cosine_sim[LIST].drop_duplicates().T\n",
    "Pharm_cos_sim = tmp[LIST].drop_duplicates()\n",
    "#Pharm_cos_sim"
   ]
  },
  {
   "cell_type": "markdown",
   "id": "352a1a21",
   "metadata": {},
   "source": [
    "#### Covariance for Cosine Similarity"
   ]
  },
  {
   "cell_type": "code",
   "execution_count": 94,
   "id": "3f704079",
   "metadata": {},
   "outputs": [],
   "source": [
    "cos_sim_sd = pd.DataFrame(np.sqrt(np.diag(np.diagonal(cov_Pharm))))\n",
    "cos_sim_sd = cos_sim_sd.set_index(cov_Pharm.index)\n",
    "cos_sim_sd.columns = cov_Pharm.index\n",
    "#cos_sim_sd"
   ]
  },
  {
   "cell_type": "code",
   "execution_count": 107,
   "id": "82b2dc8a",
   "metadata": {},
   "outputs": [],
   "source": [
    "cos_sim_cov = pd.DataFrame((np.dot(np.dot(cos_sim_sd, Pharm_cos_sim),cos_sim_sd)))\n",
    "#cos_sim_cov"
   ]
  },
  {
   "cell_type": "markdown",
   "id": "db23e564",
   "metadata": {},
   "source": [
    "### Portfolio Weights on Different Extremes"
   ]
  },
  {
   "cell_type": "markdown",
   "id": "fc1b6a4c",
   "metadata": {},
   "source": [
    "#### Comparing return mean and covariance"
   ]
  },
  {
   "cell_type": "code",
   "execution_count": 98,
   "id": "7429ef48",
   "metadata": {},
   "outputs": [
    {
     "data": {
      "image/png": "[encoded data removed]",
      "text/plain": [
       "<Figure size 432x288 with 1 Axes>"
      ]
     },
     "metadata": {
      "needs_background": "light"
     },
     "output_type": "display_data"
    }
   ],
   "source": [
    "ef1 = EfficientFrontier(mu_Pharm, cov_Pharm, weight_bounds=(0, 0.2))\n",
    "\n",
    "fig, ax = plt.subplots()\n",
    "plotting.plot_efficient_frontier(ef1, ax=ax, show_assets=True)\n",
    "\n",
    "# Find and plot the tangency portfolio\n",
    "ef2 = EfficientFrontier(mu_Pharm, cov_Pharm, weight_bounds=(0, 0.2))\n",
    "# max sharpe ratio\n",
    "ef2.max_sharpe()\n",
    "ret_tangent, std_tangent, _ = ef2.portfolio_performance()\n",
    "ax.scatter(std_tangent, ret_tangent, marker=\"*\", s=100, c=\"r\", label=\"Max Sharpe\")\n",
    "\n",
    "ef3 = EfficientFrontier(mu_Pharm, cov_Pharm, weight_bounds=(0, 0.2))\n",
    "# min volatility\n",
    "ef3.min_volatility()\n",
    "ret_tangent, std_tangent, _ = ef3.portfolio_performance()\n",
    "ax.scatter(std_tangent, ret_tangent, marker=\"*\", s=100, c=\"y\", label=\"Min Volatility\")\n",
    "\n",
    "ef4 = EfficientFrontier(mu_Pharm, cov_Pharm, weight_bounds=(0, 0.2))\n",
    "#max utility\n",
    "ef4.max_quadratic_utility()\n",
    "ret_tangent, std_tangent, _ = ef4.portfolio_performance()\n",
    "ax.scatter(std_tangent, ret_tangent, marker=\"*\", s=100, c=\"b\", label=\"Max Utility\")\n",
    "\n",
    "# Plot random portfolios\n",
    "#ax.scatter(stds, rets, marker=\".\", c=sharpes, cmap=\"viridis_r\")\n",
    "\n",
    "# Format\n",
    "ax.set_title(\"Efficient Frontier\")\n",
    "ax.legend()\n",
    "plt.tight_layout()\n",
    "plt.show()"
   ]
  },
  {
   "cell_type": "markdown",
   "id": "b2903943",
   "metadata": {},
   "source": [
    "##### max sharpe ratio"
   ]
  },
  {
   "cell_type": "code",
   "execution_count": 32,
   "id": "ea3713c6",
   "metadata": {
    "scrolled": true
   },
   "outputs": [
    {
     "name": "stdout",
     "output_type": "stream",
     "text": [
      "Expected annual return: 4.4%\n",
      "Annual volatility: 4.4%\n",
      "Sharpe Ratio: 0.54\n"
     ]
    }
   ],
   "source": [
    "ef2.portfolio_performance(verbose=True);"
   ]
  },
  {
   "cell_type": "code",
   "execution_count": 33,
   "id": "5c5139aa",
   "metadata": {},
   "outputs": [
    {
     "name": "stdout",
     "output_type": "stream",
     "text": [
      "1070081 0.08381\n",
      "1641489 0.02599\n",
      "874015 0.09513\n",
      "1177648 0.02332\n",
      "1600132 0.02205\n",
      "1326732 0.02668\n",
      "1103021 0.15005\n",
      "1582313 0.05674\n",
      "1588972 0.02686\n",
      "1360214 0.12169\n",
      "1526119 0.00106\n",
      "1133416 0.02079\n",
      "1426800 0.2\n",
      "899460 0.03184\n",
      "868278 0.11385\n",
      "1369568 0.00014\n"
     ]
    }
   ],
   "source": [
    "company_list = []\n",
    "for company, weight in ef2.clean_weights().items():\n",
    "    if weight != 0:\n",
    "        company_list.append(int(company))\n",
    "        print(company, weight)"
   ]
  },
  {
   "cell_type": "markdown",
   "id": "342e7542",
   "metadata": {},
   "source": [
    "##### min volatility"
   ]
  },
  {
   "cell_type": "code",
   "execution_count": 34,
   "id": "b34e4df3",
   "metadata": {},
   "outputs": [
    {
     "name": "stdout",
     "output_type": "stream",
     "text": [
      "Expected annual return: 1.2%\n",
      "Annual volatility: 2.1%\n",
      "Sharpe Ratio: -0.35\n"
     ]
    }
   ],
   "source": [
    "ef3.portfolio_performance(verbose=True);"
   ]
  },
  {
   "cell_type": "code",
   "execution_count": 35,
   "id": "2251dc5e",
   "metadata": {},
   "outputs": [
    {
     "name": "stdout",
     "output_type": "stream",
     "text": [
      "1641489 0.02372\n",
      "1092662 0.02843\n",
      "1103021 0.0368\n",
      "200406 0.17878\n",
      "1582313 0.0135\n",
      "1588972 0.0201\n",
      "1176309 0.04982\n",
      "1501989 0.0052\n",
      "1509190 0.03678\n",
      "1555280 0.01195\n",
      "1360214 0.04181\n",
      "1476963 0.00297\n",
      "1426800 0.05775\n",
      "899460 0.02048\n",
      "310158 0.2\n",
      "868278 0.0512\n",
      "14272 0.12824\n",
      "1264587 0.04273\n",
      "1535955 0.00683\n",
      "1478121 0.03777\n",
      "1301501 0.00515\n"
     ]
    }
   ],
   "source": [
    "for company, weight in ef3.clean_weights().items():\n",
    "    if weight != 0:\n",
    "        print(company, weight)"
   ]
  },
  {
   "cell_type": "markdown",
   "id": "f7ecae49",
   "metadata": {},
   "source": [
    "##### maximize utility"
   ]
  },
  {
   "cell_type": "code",
   "execution_count": 36,
   "id": "2752112f",
   "metadata": {},
   "outputs": [
    {
     "name": "stdout",
     "output_type": "stream",
     "text": [
      "Expected annual return: 7.3%\n",
      "Annual volatility: 12.8%\n",
      "Sharpe Ratio: 0.41\n"
     ]
    }
   ],
   "source": [
    "ef4.portfolio_performance(verbose=True);"
   ]
  },
  {
   "cell_type": "code",
   "execution_count": 37,
   "id": "75aacd75",
   "metadata": {
    "scrolled": false
   },
   "outputs": [
    {
     "name": "stdout",
     "output_type": "stream",
     "text": [
      "1070081 0.2\n",
      "1641489 0.03969\n",
      "1042074 0.07716\n",
      "1576263 0.08242\n",
      "873303 0.2\n",
      "1133416 0.11323\n",
      "1426800 0.2\n",
      "1369568 0.0875\n"
     ]
    }
   ],
   "source": [
    "for company, weight in ef.clean_weights().items():\n",
    "    if weight != 0:\n",
    "        print(company, weight)"
   ]
  },
  {
   "cell_type": "markdown",
   "id": "507498d3",
   "metadata": {},
   "source": [
    "#### Comparing return mean and covariance from cosine similarity"
   ]
  },
  {
   "cell_type": "code",
   "execution_count": 99,
   "id": "7ffb63bb",
   "metadata": {},
   "outputs": [
    {
     "data": {
      "image/png": "[encoded data removed]",
      "text/plain": [
       "<Figure size 432x288 with 1 Axes>"
      ]
     },
     "metadata": {
      "needs_background": "light"
     },
     "output_type": "display_data"
    }
   ],
   "source": [
    "ef1 = EfficientFrontier(mu_Pharm, cos_sim_cov, weight_bounds=(0, 0.2))\n",
    "\n",
    "fig, ax = plt.subplots()\n",
    "plotting.plot_efficient_frontier(ef1, ax=ax, show_assets=True)\n",
    "\n",
    "# Find and plot the tangency portfolio\n",
    "ef2 = EfficientFrontier(mu_Pharm, cos_sim_cov, weight_bounds=(0, 0.2))\n",
    "# max sharpe ratio\n",
    "ef2.max_sharpe()\n",
    "ret_tangent, std_tangent, _ = ef2.portfolio_performance()\n",
    "ax.scatter(std_tangent, ret_tangent, marker=\"*\", s=100, c=\"r\", label=\"Max Sharpe\")\n",
    "\n",
    "ef3 = EfficientFrontier(mu_Pharm, cos_sim_cov, weight_bounds=(0, 0.2))\n",
    "# min volatility\n",
    "ef3.min_volatility()\n",
    "ret_tangent, std_tangent, _ = ef3.portfolio_performance()\n",
    "ax.scatter(std_tangent, ret_tangent, marker=\"*\", s=100, c=\"y\", label=\"Min Volatility\")\n",
    "\n",
    "ef4 = EfficientFrontier(mu_Pharm, cos_sim_cov, weight_bounds=(0, 0.2))\n",
    "#max utility\n",
    "ef4.max_quadratic_utility()\n",
    "ret_tangent, std_tangent, _ = ef4.portfolio_performance()\n",
    "ax.scatter(std_tangent, ret_tangent, marker=\"*\", s=100, c=\"b\", label=\"Max Utility\")\n",
    "\n",
    "# Plot random portfolios\n",
    "#ax.scatter(stds, rets, marker=\".\", c=sharpes, cmap=\"viridis_r\")\n",
    "\n",
    "# Format\n",
    "ax.set_title(\"Efficient Frontier\")\n",
    "ax.legend()\n",
    "plt.tight_layout()\n",
    "plt.show()"
   ]
  },
  {
   "cell_type": "markdown",
   "id": "83e2d4ae",
   "metadata": {},
   "source": [
    "##### max sharpe ratio"
   ]
  },
  {
   "cell_type": "code",
   "execution_count": 100,
   "id": "7476116d",
   "metadata": {},
   "outputs": [
    {
     "name": "stdout",
     "output_type": "stream",
     "text": [
      "Expected annual return: 5.2%\n",
      "Annual volatility: 9.2%\n",
      "Sharpe Ratio: 0.35\n"
     ]
    }
   ],
   "source": [
    "ef2.portfolio_performance(verbose=True);"
   ]
  },
  {
   "cell_type": "code",
   "execution_count": 101,
   "id": "c1c54606",
   "metadata": {},
   "outputs": [
    {
     "name": "stdout",
     "output_type": "stream",
     "text": [
      "1070081 0.11478\n",
      "1326732 0.2\n",
      "1042074 0.09287\n",
      "1019695 0.0312\n",
      "1597264 0.08623\n",
      "1555280 0.09839\n",
      "873303 0.06223\n",
      "1426800 0.1143\n",
      "868278 0.2\n"
     ]
    }
   ],
   "source": [
    "for company, weight in ef2.clean_weights().items():\n",
    "    if weight != 0:\n",
    "        print(company, weight)"
   ]
  },
  {
   "cell_type": "markdown",
   "id": "24fbd1b0",
   "metadata": {},
   "source": [
    "##### min volatility"
   ]
  },
  {
   "cell_type": "code",
   "execution_count": 102,
   "id": "a83d9978",
   "metadata": {},
   "outputs": [
    {
     "name": "stdout",
     "output_type": "stream",
     "text": [
      "Expected annual return: 1.2%\n",
      "Annual volatility: 2.5%\n",
      "Sharpe Ratio: -0.33\n"
     ]
    }
   ],
   "source": [
    "ef3.portfolio_performance(verbose=True);"
   ]
  },
  {
   "cell_type": "code",
   "execution_count": 104,
   "id": "47e07deb",
   "metadata": {},
   "outputs": [
    {
     "name": "stdout",
     "output_type": "stream",
     "text": [
      "1396814 0.01634\n",
      "59478 0.03622\n",
      "875622 0.07181\n",
      "1326732 0.02068\n",
      "78003 0.2\n",
      "1585364 0.01781\n",
      "200406 0.19015\n",
      "1019695 0.00325\n",
      "1555280 0.2\n",
      "818033 0.00572\n",
      "310158 0.13299\n",
      "1048477 0.04223\n",
      "14272 0.04703\n",
      "1175505 0.01577\n"
     ]
    }
   ],
   "source": [
    "for company, weight in ef3.clean_weights().items():\n",
    "    if weight != 0:\n",
    "        print(company, weight)"
   ]
  },
  {
   "cell_type": "markdown",
   "id": "c99f9558",
   "metadata": {},
   "source": [
    "##### max utility"
   ]
  },
  {
   "cell_type": "code",
   "execution_count": 105,
   "id": "52bbbd37",
   "metadata": {},
   "outputs": [
    {
     "name": "stdout",
     "output_type": "stream",
     "text": [
      "Expected annual return: 7.3%\n",
      "Annual volatility: 17.0%\n",
      "Sharpe Ratio: 0.31\n"
     ]
    }
   ],
   "source": [
    "ef4.portfolio_performance(verbose=True);"
   ]
  },
  {
   "cell_type": "code",
   "execution_count": 106,
   "id": "aa8c596d",
   "metadata": {},
   "outputs": [
    {
     "name": "stdout",
     "output_type": "stream",
     "text": [
      "1070081 0.2\n",
      "1326732 0.08098\n",
      "1042074 0.2\n",
      "1576263 0.11902\n",
      "873303 0.2\n",
      "1426800 0.2\n"
     ]
    }
   ],
   "source": [
    "for company, weight in ef4.clean_weights().items():\n",
    "    if weight != 0:\n",
    "        print(company, weight)"
   ]
  },
  {
   "cell_type": "markdown",
   "id": "c71d2403",
   "metadata": {},
   "source": [
    "### Try the differences between 2017 and 2018"
   ]
  },
  {
   "cell_type": "code",
   "execution_count": 45,
   "id": "8f4175b9",
   "metadata": {},
   "outputs": [],
   "source": [
    "data = pd.read_csv(\"timeseries_data.csv\")\n",
    "filtered = data[data[\"reports\"] > 2].sort_values([\"CIK\",\"filingDate\"])\n",
    "#filtered"
   ]
  },
  {
   "cell_type": "code",
   "execution_count": 46,
   "id": "ffb3b4a4",
   "metadata": {},
   "outputs": [],
   "source": [
    "# Referenced from Richard's Week 8 Work\n",
    "from sklearn.feature_extraction.text import CountVectorizer\n",
    "company = filtered.sort_values([\"CIK\",\"filingDate\"]) \n",
    "# print(company)\n",
    "vectorizer = CountVectorizer(ngram_range=(1,3), max_features=1000)\n",
    "X = vectorizer.fit_transform(company.loc[:, \"coDescription_stopwords\"]).toarray().astype(int)\n",
    "diff = pd.DataFrame(X[1:,:] - X[:-1,:],\n",
    "                    columns = vectorizer.get_feature_names_out()) \n",
    "\n",
    "#diff"
   ]
  },
  {
   "cell_type": "code",
   "execution_count": 47,
   "id": "88c18fa6",
   "metadata": {},
   "outputs": [
    {
     "data": {
      "text/html": [
       "<div>\n",
       "<style scoped>\n",
       "    .dataframe tbody tr th:only-of-type {\n",
       "        vertical-align: middle;\n",
       "    }\n",
       "\n",
       "    .dataframe tbody tr th {\n",
       "        vertical-align: top;\n",
       "    }\n",
       "\n",
       "    .dataframe thead th {\n",
       "        text-align: right;\n",
       "    }\n",
       "</style>\n",
       "<table border=\"1\" class=\"dataframe\">\n",
       "  <thead>\n",
       "    <tr style=\"text-align: right;\">\n",
       "      <th></th>\n",
       "      <th>ability</th>\n",
       "      <th>able</th>\n",
       "      <th>access</th>\n",
       "      <th>accessory</th>\n",
       "      <th>accordance</th>\n",
       "      <th>according</th>\n",
       "      <th>account</th>\n",
       "      <th>accounted</th>\n",
       "      <th>accounting</th>\n",
       "      <th>accrued</th>\n",
       "      <th>...</th>\n",
       "      <th>work</th>\n",
       "      <th>working</th>\n",
       "      <th>world</th>\n",
       "      <th>worldwide</th>\n",
       "      <th>would</th>\n",
       "      <th>written</th>\n",
       "      <th>year</th>\n",
       "      <th>year ended</th>\n",
       "      <th>year ended september</th>\n",
       "      <th>york</th>\n",
       "    </tr>\n",
       "  </thead>\n",
       "  <tbody>\n",
       "    <tr>\n",
       "      <th>1</th>\n",
       "      <td>0</td>\n",
       "      <td>0</td>\n",
       "      <td>0</td>\n",
       "      <td>0</td>\n",
       "      <td>0</td>\n",
       "      <td>0</td>\n",
       "      <td>0</td>\n",
       "      <td>0</td>\n",
       "      <td>0</td>\n",
       "      <td>0</td>\n",
       "      <td>...</td>\n",
       "      <td>0</td>\n",
       "      <td>-1</td>\n",
       "      <td>0</td>\n",
       "      <td>0</td>\n",
       "      <td>0</td>\n",
       "      <td>0</td>\n",
       "      <td>8</td>\n",
       "      <td>1</td>\n",
       "      <td>1</td>\n",
       "      <td>0</td>\n",
       "    </tr>\n",
       "    <tr>\n",
       "      <th>4</th>\n",
       "      <td>0</td>\n",
       "      <td>0</td>\n",
       "      <td>0</td>\n",
       "      <td>0</td>\n",
       "      <td>0</td>\n",
       "      <td>0</td>\n",
       "      <td>0</td>\n",
       "      <td>0</td>\n",
       "      <td>0</td>\n",
       "      <td>0</td>\n",
       "      <td>...</td>\n",
       "      <td>0</td>\n",
       "      <td>0</td>\n",
       "      <td>0</td>\n",
       "      <td>0</td>\n",
       "      <td>0</td>\n",
       "      <td>0</td>\n",
       "      <td>0</td>\n",
       "      <td>0</td>\n",
       "      <td>0</td>\n",
       "      <td>0</td>\n",
       "    </tr>\n",
       "    <tr>\n",
       "      <th>7</th>\n",
       "      <td>0</td>\n",
       "      <td>0</td>\n",
       "      <td>0</td>\n",
       "      <td>0</td>\n",
       "      <td>0</td>\n",
       "      <td>0</td>\n",
       "      <td>0</td>\n",
       "      <td>1</td>\n",
       "      <td>0</td>\n",
       "      <td>0</td>\n",
       "      <td>...</td>\n",
       "      <td>0</td>\n",
       "      <td>0</td>\n",
       "      <td>0</td>\n",
       "      <td>-1</td>\n",
       "      <td>0</td>\n",
       "      <td>0</td>\n",
       "      <td>-2</td>\n",
       "      <td>0</td>\n",
       "      <td>0</td>\n",
       "      <td>0</td>\n",
       "    </tr>\n",
       "    <tr>\n",
       "      <th>10</th>\n",
       "      <td>0</td>\n",
       "      <td>0</td>\n",
       "      <td>2</td>\n",
       "      <td>-1</td>\n",
       "      <td>0</td>\n",
       "      <td>0</td>\n",
       "      <td>-1</td>\n",
       "      <td>0</td>\n",
       "      <td>-1</td>\n",
       "      <td>0</td>\n",
       "      <td>...</td>\n",
       "      <td>0</td>\n",
       "      <td>0</td>\n",
       "      <td>0</td>\n",
       "      <td>0</td>\n",
       "      <td>0</td>\n",
       "      <td>0</td>\n",
       "      <td>1</td>\n",
       "      <td>0</td>\n",
       "      <td>0</td>\n",
       "      <td>0</td>\n",
       "    </tr>\n",
       "    <tr>\n",
       "      <th>13</th>\n",
       "      <td>0</td>\n",
       "      <td>0</td>\n",
       "      <td>0</td>\n",
       "      <td>0</td>\n",
       "      <td>-2</td>\n",
       "      <td>0</td>\n",
       "      <td>0</td>\n",
       "      <td>0</td>\n",
       "      <td>0</td>\n",
       "      <td>0</td>\n",
       "      <td>...</td>\n",
       "      <td>0</td>\n",
       "      <td>0</td>\n",
       "      <td>0</td>\n",
       "      <td>0</td>\n",
       "      <td>-1</td>\n",
       "      <td>0</td>\n",
       "      <td>-3</td>\n",
       "      <td>-2</td>\n",
       "      <td>0</td>\n",
       "      <td>0</td>\n",
       "    </tr>\n",
       "    <tr>\n",
       "      <th>...</th>\n",
       "      <td>...</td>\n",
       "      <td>...</td>\n",
       "      <td>...</td>\n",
       "      <td>...</td>\n",
       "      <td>...</td>\n",
       "      <td>...</td>\n",
       "      <td>...</td>\n",
       "      <td>...</td>\n",
       "      <td>...</td>\n",
       "      <td>...</td>\n",
       "      <td>...</td>\n",
       "      <td>...</td>\n",
       "      <td>...</td>\n",
       "      <td>...</td>\n",
       "      <td>...</td>\n",
       "      <td>...</td>\n",
       "      <td>...</td>\n",
       "      <td>...</td>\n",
       "      <td>...</td>\n",
       "      <td>...</td>\n",
       "      <td>...</td>\n",
       "    </tr>\n",
       "    <tr>\n",
       "      <th>1678</th>\n",
       "      <td>0</td>\n",
       "      <td>0</td>\n",
       "      <td>0</td>\n",
       "      <td>0</td>\n",
       "      <td>0</td>\n",
       "      <td>0</td>\n",
       "      <td>0</td>\n",
       "      <td>0</td>\n",
       "      <td>0</td>\n",
       "      <td>0</td>\n",
       "      <td>...</td>\n",
       "      <td>0</td>\n",
       "      <td>0</td>\n",
       "      <td>0</td>\n",
       "      <td>0</td>\n",
       "      <td>0</td>\n",
       "      <td>0</td>\n",
       "      <td>-4</td>\n",
       "      <td>0</td>\n",
       "      <td>0</td>\n",
       "      <td>0</td>\n",
       "    </tr>\n",
       "    <tr>\n",
       "      <th>1681</th>\n",
       "      <td>0</td>\n",
       "      <td>0</td>\n",
       "      <td>0</td>\n",
       "      <td>0</td>\n",
       "      <td>0</td>\n",
       "      <td>0</td>\n",
       "      <td>0</td>\n",
       "      <td>0</td>\n",
       "      <td>0</td>\n",
       "      <td>0</td>\n",
       "      <td>...</td>\n",
       "      <td>0</td>\n",
       "      <td>0</td>\n",
       "      <td>0</td>\n",
       "      <td>0</td>\n",
       "      <td>0</td>\n",
       "      <td>0</td>\n",
       "      <td>0</td>\n",
       "      <td>0</td>\n",
       "      <td>0</td>\n",
       "      <td>0</td>\n",
       "    </tr>\n",
       "    <tr>\n",
       "      <th>1684</th>\n",
       "      <td>-10</td>\n",
       "      <td>-8</td>\n",
       "      <td>1</td>\n",
       "      <td>0</td>\n",
       "      <td>-6</td>\n",
       "      <td>4</td>\n",
       "      <td>-34</td>\n",
       "      <td>3</td>\n",
       "      <td>-2</td>\n",
       "      <td>-4</td>\n",
       "      <td>...</td>\n",
       "      <td>2</td>\n",
       "      <td>-11</td>\n",
       "      <td>-2</td>\n",
       "      <td>6</td>\n",
       "      <td>-46</td>\n",
       "      <td>-3</td>\n",
       "      <td>0</td>\n",
       "      <td>2</td>\n",
       "      <td>0</td>\n",
       "      <td>0</td>\n",
       "    </tr>\n",
       "    <tr>\n",
       "      <th>1687</th>\n",
       "      <td>0</td>\n",
       "      <td>0</td>\n",
       "      <td>0</td>\n",
       "      <td>0</td>\n",
       "      <td>0</td>\n",
       "      <td>0</td>\n",
       "      <td>0</td>\n",
       "      <td>0</td>\n",
       "      <td>0</td>\n",
       "      <td>0</td>\n",
       "      <td>...</td>\n",
       "      <td>0</td>\n",
       "      <td>0</td>\n",
       "      <td>0</td>\n",
       "      <td>0</td>\n",
       "      <td>0</td>\n",
       "      <td>0</td>\n",
       "      <td>0</td>\n",
       "      <td>0</td>\n",
       "      <td>0</td>\n",
       "      <td>0</td>\n",
       "    </tr>\n",
       "    <tr>\n",
       "      <th>1690</th>\n",
       "      <td>0</td>\n",
       "      <td>0</td>\n",
       "      <td>0</td>\n",
       "      <td>0</td>\n",
       "      <td>0</td>\n",
       "      <td>0</td>\n",
       "      <td>1</td>\n",
       "      <td>-1</td>\n",
       "      <td>0</td>\n",
       "      <td>-1</td>\n",
       "      <td>...</td>\n",
       "      <td>1</td>\n",
       "      <td>-1</td>\n",
       "      <td>1</td>\n",
       "      <td>0</td>\n",
       "      <td>0</td>\n",
       "      <td>0</td>\n",
       "      <td>-1</td>\n",
       "      <td>-1</td>\n",
       "      <td>-1</td>\n",
       "      <td>0</td>\n",
       "    </tr>\n",
       "  </tbody>\n",
       "</table>\n",
       "<p>564 rows × 1000 columns</p>\n",
       "</div>"
      ],
      "text/plain": [
       "      ability  able  access  accessory  accordance  according  account  \\\n",
       "1           0     0       0          0           0          0        0   \n",
       "4           0     0       0          0           0          0        0   \n",
       "7           0     0       0          0           0          0        0   \n",
       "10          0     0       2         -1           0          0       -1   \n",
       "13          0     0       0          0          -2          0        0   \n",
       "...       ...   ...     ...        ...         ...        ...      ...   \n",
       "1678        0     0       0          0           0          0        0   \n",
       "1681        0     0       0          0           0          0        0   \n",
       "1684      -10    -8       1          0          -6          4      -34   \n",
       "1687        0     0       0          0           0          0        0   \n",
       "1690        0     0       0          0           0          0        1   \n",
       "\n",
       "      accounted  accounting  accrued  ...  work  working  world  worldwide  \\\n",
       "1             0           0        0  ...     0       -1      0          0   \n",
       "4             0           0        0  ...     0        0      0          0   \n",
       "7             1           0        0  ...     0        0      0         -1   \n",
       "10            0          -1        0  ...     0        0      0          0   \n",
       "13            0           0        0  ...     0        0      0          0   \n",
       "...         ...         ...      ...  ...   ...      ...    ...        ...   \n",
       "1678          0           0        0  ...     0        0      0          0   \n",
       "1681          0           0        0  ...     0        0      0          0   \n",
       "1684          3          -2       -4  ...     2      -11     -2          6   \n",
       "1687          0           0        0  ...     0        0      0          0   \n",
       "1690         -1           0       -1  ...     1       -1      1          0   \n",
       "\n",
       "      would  written  year  year ended  year ended september  york  \n",
       "1         0        0     8           1                     1     0  \n",
       "4         0        0     0           0                     0     0  \n",
       "7         0        0    -2           0                     0     0  \n",
       "10        0        0     1           0                     0     0  \n",
       "13       -1        0    -3          -2                     0     0  \n",
       "...     ...      ...   ...         ...                   ...   ...  \n",
       "1678      0        0    -4           0                     0     0  \n",
       "1681      0        0     0           0                     0     0  \n",
       "1684    -46       -3     0           2                     0     0  \n",
       "1687      0        0     0           0                     0     0  \n",
       "1690      0        0    -1          -1                    -1     0  \n",
       "\n",
       "[564 rows x 1000 columns]"
      ]
     },
     "execution_count": 47,
     "metadata": {},
     "output_type": "execute_result"
    }
   ],
   "source": [
    "total_diff = diff[(diff.reset_index().index+1) % 3 != 0]\n",
    "total_diff\n",
    "y2_to_y3 = total_diff.iloc[1::2, :]\n",
    "y2_to_y3"
   ]
  },
  {
   "cell_type": "code",
   "execution_count": 48,
   "id": "fa123a5f",
   "metadata": {},
   "outputs": [],
   "source": [
    "y2_to_y3 = y2_to_y3.set_index(filtered[\"CIK\"].unique())"
   ]
  },
  {
   "cell_type": "code",
   "execution_count": 49,
   "id": "f0a9de0a",
   "metadata": {},
   "outputs": [
    {
     "data": {
      "text/plain": [
       "22"
      ]
     },
     "execution_count": 49,
     "metadata": {},
     "output_type": "execute_result"
    }
   ],
   "source": [
    "SET = (set(filtered[\"CIK\"].unique()) & set(mu.index))\n",
    "LIST = [*SET, ]\n",
    "len(LIST)"
   ]
  },
  {
   "cell_type": "code",
   "execution_count": 50,
   "id": "a6148da0",
   "metadata": {},
   "outputs": [],
   "source": [
    "tmp = y2_to_y3.T[LIST]\n",
    "y2_to_y3_select = tmp.T"
   ]
  },
  {
   "cell_type": "code",
   "execution_count": 51,
   "id": "7fc76d1a",
   "metadata": {
    "scrolled": true
   },
   "outputs": [
    {
     "data": {
      "text/html": [
       "<div>\n",
       "<style scoped>\n",
       "    .dataframe tbody tr th:only-of-type {\n",
       "        vertical-align: middle;\n",
       "    }\n",
       "\n",
       "    .dataframe tbody tr th {\n",
       "        vertical-align: top;\n",
       "    }\n",
       "\n",
       "    .dataframe thead th {\n",
       "        text-align: right;\n",
       "    }\n",
       "</style>\n",
       "<table border=\"1\" class=\"dataframe\">\n",
       "  <thead>\n",
       "    <tr style=\"text-align: right;\">\n",
       "      <th></th>\n",
       "      <th>ability</th>\n",
       "      <th>able</th>\n",
       "      <th>access</th>\n",
       "      <th>accessory</th>\n",
       "      <th>accordance</th>\n",
       "      <th>according</th>\n",
       "      <th>account</th>\n",
       "      <th>accounted</th>\n",
       "      <th>accounting</th>\n",
       "      <th>accrued</th>\n",
       "      <th>...</th>\n",
       "      <th>work</th>\n",
       "      <th>working</th>\n",
       "      <th>world</th>\n",
       "      <th>worldwide</th>\n",
       "      <th>would</th>\n",
       "      <th>written</th>\n",
       "      <th>year</th>\n",
       "      <th>year ended</th>\n",
       "      <th>year ended september</th>\n",
       "      <th>york</th>\n",
       "    </tr>\n",
       "  </thead>\n",
       "  <tbody>\n",
       "    <tr>\n",
       "      <th>876167</th>\n",
       "      <td>0</td>\n",
       "      <td>0</td>\n",
       "      <td>-1</td>\n",
       "      <td>0</td>\n",
       "      <td>0</td>\n",
       "      <td>0</td>\n",
       "      <td>0</td>\n",
       "      <td>0</td>\n",
       "      <td>0</td>\n",
       "      <td>0</td>\n",
       "      <td>...</td>\n",
       "      <td>0</td>\n",
       "      <td>0</td>\n",
       "      <td>0</td>\n",
       "      <td>0</td>\n",
       "      <td>0</td>\n",
       "      <td>0</td>\n",
       "      <td>-1</td>\n",
       "      <td>-1</td>\n",
       "      <td>0</td>\n",
       "      <td>0</td>\n",
       "    </tr>\n",
       "    <tr>\n",
       "      <th>1002517</th>\n",
       "      <td>0</td>\n",
       "      <td>-1</td>\n",
       "      <td>-1</td>\n",
       "      <td>0</td>\n",
       "      <td>0</td>\n",
       "      <td>0</td>\n",
       "      <td>0</td>\n",
       "      <td>0</td>\n",
       "      <td>0</td>\n",
       "      <td>0</td>\n",
       "      <td>...</td>\n",
       "      <td>-1</td>\n",
       "      <td>0</td>\n",
       "      <td>1</td>\n",
       "      <td>0</td>\n",
       "      <td>0</td>\n",
       "      <td>0</td>\n",
       "      <td>5</td>\n",
       "      <td>0</td>\n",
       "      <td>0</td>\n",
       "      <td>0</td>\n",
       "    </tr>\n",
       "    <tr>\n",
       "      <th>798359</th>\n",
       "      <td>0</td>\n",
       "      <td>0</td>\n",
       "      <td>-2</td>\n",
       "      <td>0</td>\n",
       "      <td>0</td>\n",
       "      <td>0</td>\n",
       "      <td>0</td>\n",
       "      <td>-2</td>\n",
       "      <td>-4</td>\n",
       "      <td>-1</td>\n",
       "      <td>...</td>\n",
       "      <td>0</td>\n",
       "      <td>-1</td>\n",
       "      <td>0</td>\n",
       "      <td>0</td>\n",
       "      <td>0</td>\n",
       "      <td>-1</td>\n",
       "      <td>1</td>\n",
       "      <td>0</td>\n",
       "      <td>0</td>\n",
       "      <td>-1</td>\n",
       "    </tr>\n",
       "    <tr>\n",
       "      <th>1169561</th>\n",
       "      <td>0</td>\n",
       "      <td>0</td>\n",
       "      <td>1</td>\n",
       "      <td>0</td>\n",
       "      <td>0</td>\n",
       "      <td>0</td>\n",
       "      <td>0</td>\n",
       "      <td>0</td>\n",
       "      <td>0</td>\n",
       "      <td>0</td>\n",
       "      <td>...</td>\n",
       "      <td>0</td>\n",
       "      <td>0</td>\n",
       "      <td>0</td>\n",
       "      <td>0</td>\n",
       "      <td>0</td>\n",
       "      <td>0</td>\n",
       "      <td>1</td>\n",
       "      <td>0</td>\n",
       "      <td>0</td>\n",
       "      <td>0</td>\n",
       "    </tr>\n",
       "    <tr>\n",
       "      <th>1378590</th>\n",
       "      <td>0</td>\n",
       "      <td>0</td>\n",
       "      <td>0</td>\n",
       "      <td>0</td>\n",
       "      <td>0</td>\n",
       "      <td>0</td>\n",
       "      <td>0</td>\n",
       "      <td>0</td>\n",
       "      <td>0</td>\n",
       "      <td>0</td>\n",
       "      <td>...</td>\n",
       "      <td>0</td>\n",
       "      <td>0</td>\n",
       "      <td>0</td>\n",
       "      <td>0</td>\n",
       "      <td>0</td>\n",
       "      <td>0</td>\n",
       "      <td>-2</td>\n",
       "      <td>0</td>\n",
       "      <td>0</td>\n",
       "      <td>1</td>\n",
       "    </tr>\n",
       "    <tr>\n",
       "      <th>67625</th>\n",
       "      <td>0</td>\n",
       "      <td>0</td>\n",
       "      <td>0</td>\n",
       "      <td>0</td>\n",
       "      <td>0</td>\n",
       "      <td>0</td>\n",
       "      <td>0</td>\n",
       "      <td>0</td>\n",
       "      <td>0</td>\n",
       "      <td>-1</td>\n",
       "      <td>...</td>\n",
       "      <td>0</td>\n",
       "      <td>0</td>\n",
       "      <td>1</td>\n",
       "      <td>0</td>\n",
       "      <td>0</td>\n",
       "      <td>0</td>\n",
       "      <td>8</td>\n",
       "      <td>-1</td>\n",
       "      <td>-2</td>\n",
       "      <td>-1</td>\n",
       "    </tr>\n",
       "    <tr>\n",
       "      <th>1177648</th>\n",
       "      <td>-1</td>\n",
       "      <td>0</td>\n",
       "      <td>0</td>\n",
       "      <td>0</td>\n",
       "      <td>0</td>\n",
       "      <td>0</td>\n",
       "      <td>1</td>\n",
       "      <td>0</td>\n",
       "      <td>0</td>\n",
       "      <td>0</td>\n",
       "      <td>...</td>\n",
       "      <td>0</td>\n",
       "      <td>0</td>\n",
       "      <td>1</td>\n",
       "      <td>0</td>\n",
       "      <td>2</td>\n",
       "      <td>0</td>\n",
       "      <td>0</td>\n",
       "      <td>1</td>\n",
       "      <td>1</td>\n",
       "      <td>0</td>\n",
       "    </tr>\n",
       "    <tr>\n",
       "      <th>10048</th>\n",
       "      <td>0</td>\n",
       "      <td>1</td>\n",
       "      <td>-1</td>\n",
       "      <td>0</td>\n",
       "      <td>0</td>\n",
       "      <td>0</td>\n",
       "      <td>1</td>\n",
       "      <td>0</td>\n",
       "      <td>-1</td>\n",
       "      <td>0</td>\n",
       "      <td>...</td>\n",
       "      <td>0</td>\n",
       "      <td>1</td>\n",
       "      <td>-1</td>\n",
       "      <td>0</td>\n",
       "      <td>0</td>\n",
       "      <td>0</td>\n",
       "      <td>-1</td>\n",
       "      <td>-1</td>\n",
       "      <td>-1</td>\n",
       "      <td>0</td>\n",
       "    </tr>\n",
       "    <tr>\n",
       "      <th>792130</th>\n",
       "      <td>-1</td>\n",
       "      <td>0</td>\n",
       "      <td>0</td>\n",
       "      <td>0</td>\n",
       "      <td>2</td>\n",
       "      <td>-1</td>\n",
       "      <td>0</td>\n",
       "      <td>0</td>\n",
       "      <td>0</td>\n",
       "      <td>0</td>\n",
       "      <td>...</td>\n",
       "      <td>0</td>\n",
       "      <td>0</td>\n",
       "      <td>0</td>\n",
       "      <td>-1</td>\n",
       "      <td>1</td>\n",
       "      <td>0</td>\n",
       "      <td>-1</td>\n",
       "      <td>0</td>\n",
       "      <td>0</td>\n",
       "      <td>0</td>\n",
       "    </tr>\n",
       "    <tr>\n",
       "      <th>1353283</th>\n",
       "      <td>0</td>\n",
       "      <td>0</td>\n",
       "      <td>-2</td>\n",
       "      <td>0</td>\n",
       "      <td>0</td>\n",
       "      <td>0</td>\n",
       "      <td>1</td>\n",
       "      <td>0</td>\n",
       "      <td>0</td>\n",
       "      <td>0</td>\n",
       "      <td>...</td>\n",
       "      <td>0</td>\n",
       "      <td>0</td>\n",
       "      <td>0</td>\n",
       "      <td>-1</td>\n",
       "      <td>0</td>\n",
       "      <td>0</td>\n",
       "      <td>0</td>\n",
       "      <td>0</td>\n",
       "      <td>0</td>\n",
       "      <td>0</td>\n",
       "    </tr>\n",
       "    <tr>\n",
       "      <th>1295947</th>\n",
       "      <td>0</td>\n",
       "      <td>1</td>\n",
       "      <td>0</td>\n",
       "      <td>0</td>\n",
       "      <td>-4</td>\n",
       "      <td>-1</td>\n",
       "      <td>0</td>\n",
       "      <td>-4</td>\n",
       "      <td>-2</td>\n",
       "      <td>0</td>\n",
       "      <td>...</td>\n",
       "      <td>0</td>\n",
       "      <td>0</td>\n",
       "      <td>1</td>\n",
       "      <td>0</td>\n",
       "      <td>1</td>\n",
       "      <td>0</td>\n",
       "      <td>0</td>\n",
       "      <td>0</td>\n",
       "      <td>0</td>\n",
       "      <td>0</td>\n",
       "    </tr>\n",
       "    <tr>\n",
       "      <th>1636050</th>\n",
       "      <td>-8</td>\n",
       "      <td>-1</td>\n",
       "      <td>-1</td>\n",
       "      <td>0</td>\n",
       "      <td>-5</td>\n",
       "      <td>-1</td>\n",
       "      <td>-1</td>\n",
       "      <td>0</td>\n",
       "      <td>0</td>\n",
       "      <td>0</td>\n",
       "      <td>...</td>\n",
       "      <td>-4</td>\n",
       "      <td>0</td>\n",
       "      <td>0</td>\n",
       "      <td>-1</td>\n",
       "      <td>-12</td>\n",
       "      <td>-2</td>\n",
       "      <td>-30</td>\n",
       "      <td>-1</td>\n",
       "      <td>0</td>\n",
       "      <td>-1</td>\n",
       "    </tr>\n",
       "    <tr>\n",
       "      <th>1444307</th>\n",
       "      <td>0</td>\n",
       "      <td>1</td>\n",
       "      <td>0</td>\n",
       "      <td>0</td>\n",
       "      <td>0</td>\n",
       "      <td>2</td>\n",
       "      <td>-1</td>\n",
       "      <td>0</td>\n",
       "      <td>0</td>\n",
       "      <td>0</td>\n",
       "      <td>...</td>\n",
       "      <td>0</td>\n",
       "      <td>0</td>\n",
       "      <td>0</td>\n",
       "      <td>0</td>\n",
       "      <td>-1</td>\n",
       "      <td>0</td>\n",
       "      <td>-1</td>\n",
       "      <td>-1</td>\n",
       "      <td>0</td>\n",
       "      <td>0</td>\n",
       "    </tr>\n",
       "    <tr>\n",
       "      <th>200406</th>\n",
       "      <td>0</td>\n",
       "      <td>0</td>\n",
       "      <td>0</td>\n",
       "      <td>0</td>\n",
       "      <td>0</td>\n",
       "      <td>0</td>\n",
       "      <td>0</td>\n",
       "      <td>0</td>\n",
       "      <td>0</td>\n",
       "      <td>0</td>\n",
       "      <td>...</td>\n",
       "      <td>0</td>\n",
       "      <td>0</td>\n",
       "      <td>0</td>\n",
       "      <td>0</td>\n",
       "      <td>0</td>\n",
       "      <td>0</td>\n",
       "      <td>0</td>\n",
       "      <td>0</td>\n",
       "      <td>0</td>\n",
       "      <td>0</td>\n",
       "    </tr>\n",
       "    <tr>\n",
       "      <th>1626853</th>\n",
       "      <td>2</td>\n",
       "      <td>0</td>\n",
       "      <td>0</td>\n",
       "      <td>0</td>\n",
       "      <td>-1</td>\n",
       "      <td>0</td>\n",
       "      <td>0</td>\n",
       "      <td>0</td>\n",
       "      <td>0</td>\n",
       "      <td>0</td>\n",
       "      <td>...</td>\n",
       "      <td>0</td>\n",
       "      <td>2</td>\n",
       "      <td>0</td>\n",
       "      <td>0</td>\n",
       "      <td>0</td>\n",
       "      <td>0</td>\n",
       "      <td>2</td>\n",
       "      <td>1</td>\n",
       "      <td>0</td>\n",
       "      <td>0</td>\n",
       "    </tr>\n",
       "    <tr>\n",
       "      <th>1100397</th>\n",
       "      <td>-2</td>\n",
       "      <td>-2</td>\n",
       "      <td>-1</td>\n",
       "      <td>0</td>\n",
       "      <td>-2</td>\n",
       "      <td>-4</td>\n",
       "      <td>0</td>\n",
       "      <td>0</td>\n",
       "      <td>0</td>\n",
       "      <td>0</td>\n",
       "      <td>...</td>\n",
       "      <td>-2</td>\n",
       "      <td>-1</td>\n",
       "      <td>-1</td>\n",
       "      <td>-3</td>\n",
       "      <td>-3</td>\n",
       "      <td>1</td>\n",
       "      <td>-7</td>\n",
       "      <td>0</td>\n",
       "      <td>0</td>\n",
       "      <td>0</td>\n",
       "    </tr>\n",
       "    <tr>\n",
       "      <th>66418</th>\n",
       "      <td>0</td>\n",
       "      <td>-2</td>\n",
       "      <td>-4</td>\n",
       "      <td>0</td>\n",
       "      <td>-1</td>\n",
       "      <td>0</td>\n",
       "      <td>1</td>\n",
       "      <td>0</td>\n",
       "      <td>0</td>\n",
       "      <td>0</td>\n",
       "      <td>...</td>\n",
       "      <td>0</td>\n",
       "      <td>4</td>\n",
       "      <td>0</td>\n",
       "      <td>0</td>\n",
       "      <td>-1</td>\n",
       "      <td>0</td>\n",
       "      <td>-2</td>\n",
       "      <td>0</td>\n",
       "      <td>0</td>\n",
       "      <td>0</td>\n",
       "    </tr>\n",
       "    <tr>\n",
       "      <th>1176309</th>\n",
       "      <td>0</td>\n",
       "      <td>0</td>\n",
       "      <td>0</td>\n",
       "      <td>0</td>\n",
       "      <td>0</td>\n",
       "      <td>0</td>\n",
       "      <td>0</td>\n",
       "      <td>0</td>\n",
       "      <td>0</td>\n",
       "      <td>0</td>\n",
       "      <td>...</td>\n",
       "      <td>0</td>\n",
       "      <td>0</td>\n",
       "      <td>0</td>\n",
       "      <td>0</td>\n",
       "      <td>2</td>\n",
       "      <td>0</td>\n",
       "      <td>-2</td>\n",
       "      <td>0</td>\n",
       "      <td>0</td>\n",
       "      <td>0</td>\n",
       "    </tr>\n",
       "    <tr>\n",
       "      <th>769397</th>\n",
       "      <td>0</td>\n",
       "      <td>0</td>\n",
       "      <td>0</td>\n",
       "      <td>0</td>\n",
       "      <td>0</td>\n",
       "      <td>0</td>\n",
       "      <td>0</td>\n",
       "      <td>0</td>\n",
       "      <td>0</td>\n",
       "      <td>0</td>\n",
       "      <td>...</td>\n",
       "      <td>0</td>\n",
       "      <td>-1</td>\n",
       "      <td>0</td>\n",
       "      <td>0</td>\n",
       "      <td>0</td>\n",
       "      <td>0</td>\n",
       "      <td>0</td>\n",
       "      <td>0</td>\n",
       "      <td>0</td>\n",
       "      <td>0</td>\n",
       "    </tr>\n",
       "    <tr>\n",
       "      <th>315131</th>\n",
       "      <td>0</td>\n",
       "      <td>0</td>\n",
       "      <td>0</td>\n",
       "      <td>0</td>\n",
       "      <td>0</td>\n",
       "      <td>0</td>\n",
       "      <td>0</td>\n",
       "      <td>0</td>\n",
       "      <td>0</td>\n",
       "      <td>0</td>\n",
       "      <td>...</td>\n",
       "      <td>0</td>\n",
       "      <td>0</td>\n",
       "      <td>0</td>\n",
       "      <td>0</td>\n",
       "      <td>0</td>\n",
       "      <td>0</td>\n",
       "      <td>0</td>\n",
       "      <td>0</td>\n",
       "      <td>0</td>\n",
       "      <td>0</td>\n",
       "    </tr>\n",
       "    <tr>\n",
       "      <th>14846</th>\n",
       "      <td>0</td>\n",
       "      <td>0</td>\n",
       "      <td>0</td>\n",
       "      <td>0</td>\n",
       "      <td>0</td>\n",
       "      <td>0</td>\n",
       "      <td>0</td>\n",
       "      <td>0</td>\n",
       "      <td>0</td>\n",
       "      <td>0</td>\n",
       "      <td>...</td>\n",
       "      <td>0</td>\n",
       "      <td>0</td>\n",
       "      <td>0</td>\n",
       "      <td>0</td>\n",
       "      <td>0</td>\n",
       "      <td>0</td>\n",
       "      <td>-1</td>\n",
       "      <td>0</td>\n",
       "      <td>0</td>\n",
       "      <td>0</td>\n",
       "    </tr>\n",
       "    <tr>\n",
       "      <th>1341439</th>\n",
       "      <td>-3</td>\n",
       "      <td>0</td>\n",
       "      <td>-18</td>\n",
       "      <td>0</td>\n",
       "      <td>0</td>\n",
       "      <td>0</td>\n",
       "      <td>-2</td>\n",
       "      <td>0</td>\n",
       "      <td>0</td>\n",
       "      <td>0</td>\n",
       "      <td>...</td>\n",
       "      <td>-7</td>\n",
       "      <td>0</td>\n",
       "      <td>-1</td>\n",
       "      <td>-2</td>\n",
       "      <td>0</td>\n",
       "      <td>0</td>\n",
       "      <td>-2</td>\n",
       "      <td>0</td>\n",
       "      <td>0</td>\n",
       "      <td>0</td>\n",
       "    </tr>\n",
       "  </tbody>\n",
       "</table>\n",
       "<p>22 rows × 1000 columns</p>\n",
       "</div>"
      ],
      "text/plain": [
       "         ability  able  access  accessory  accordance  according  account  \\\n",
       "876167         0     0      -1          0           0          0        0   \n",
       "1002517        0    -1      -1          0           0          0        0   \n",
       "798359         0     0      -2          0           0          0        0   \n",
       "1169561        0     0       1          0           0          0        0   \n",
       "1378590        0     0       0          0           0          0        0   \n",
       "67625          0     0       0          0           0          0        0   \n",
       "1177648       -1     0       0          0           0          0        1   \n",
       "10048          0     1      -1          0           0          0        1   \n",
       "792130        -1     0       0          0           2         -1        0   \n",
       "1353283        0     0      -2          0           0          0        1   \n",
       "1295947        0     1       0          0          -4         -1        0   \n",
       "1636050       -8    -1      -1          0          -5         -1       -1   \n",
       "1444307        0     1       0          0           0          2       -1   \n",
       "200406         0     0       0          0           0          0        0   \n",
       "1626853        2     0       0          0          -1          0        0   \n",
       "1100397       -2    -2      -1          0          -2         -4        0   \n",
       "66418          0    -2      -4          0          -1          0        1   \n",
       "1176309        0     0       0          0           0          0        0   \n",
       "769397         0     0       0          0           0          0        0   \n",
       "315131         0     0       0          0           0          0        0   \n",
       "14846          0     0       0          0           0          0        0   \n",
       "1341439       -3     0     -18          0           0          0       -2   \n",
       "\n",
       "         accounted  accounting  accrued  ...  work  working  world  worldwide  \\\n",
       "876167           0           0        0  ...     0        0      0          0   \n",
       "1002517          0           0        0  ...    -1        0      1          0   \n",
       "798359          -2          -4       -1  ...     0       -1      0          0   \n",
       "1169561          0           0        0  ...     0        0      0          0   \n",
       "1378590          0           0        0  ...     0        0      0          0   \n",
       "67625            0           0       -1  ...     0        0      1          0   \n",
       "1177648          0           0        0  ...     0        0      1          0   \n",
       "10048            0          -1        0  ...     0        1     -1          0   \n",
       "792130           0           0        0  ...     0        0      0         -1   \n",
       "1353283          0           0        0  ...     0        0      0         -1   \n",
       "1295947         -4          -2        0  ...     0        0      1          0   \n",
       "1636050          0           0        0  ...    -4        0      0         -1   \n",
       "1444307          0           0        0  ...     0        0      0          0   \n",
       "200406           0           0        0  ...     0        0      0          0   \n",
       "1626853          0           0        0  ...     0        2      0          0   \n",
       "1100397          0           0        0  ...    -2       -1     -1         -3   \n",
       "66418            0           0        0  ...     0        4      0          0   \n",
       "1176309          0           0        0  ...     0        0      0          0   \n",
       "769397           0           0        0  ...     0       -1      0          0   \n",
       "315131           0           0        0  ...     0        0      0          0   \n",
       "14846            0           0        0  ...     0        0      0          0   \n",
       "1341439          0           0        0  ...    -7        0     -1         -2   \n",
       "\n",
       "         would  written  year  year ended  year ended september  york  \n",
       "876167       0        0    -1          -1                     0     0  \n",
       "1002517      0        0     5           0                     0     0  \n",
       "798359       0       -1     1           0                     0    -1  \n",
       "1169561      0        0     1           0                     0     0  \n",
       "1378590      0        0    -2           0                     0     1  \n",
       "67625        0        0     8          -1                    -2    -1  \n",
       "1177648      2        0     0           1                     1     0  \n",
       "10048        0        0    -1          -1                    -1     0  \n",
       "792130       1        0    -1           0                     0     0  \n",
       "1353283      0        0     0           0                     0     0  \n",
       "1295947      1        0     0           0                     0     0  \n",
       "1636050    -12       -2   -30          -1                     0    -1  \n",
       "1444307     -1        0    -1          -1                     0     0  \n",
       "200406       0        0     0           0                     0     0  \n",
       "1626853      0        0     2           1                     0     0  \n",
       "1100397     -3        1    -7           0                     0     0  \n",
       "66418       -1        0    -2           0                     0     0  \n",
       "1176309      2        0    -2           0                     0     0  \n",
       "769397       0        0     0           0                     0     0  \n",
       "315131       0        0     0           0                     0     0  \n",
       "14846        0        0    -1           0                     0     0  \n",
       "1341439      0        0    -2           0                     0     0  \n",
       "\n",
       "[22 rows x 1000 columns]"
      ]
     },
     "execution_count": 51,
     "metadata": {},
     "output_type": "execute_result"
    }
   ],
   "source": [
    "y2_to_y3_select"
   ]
  },
  {
   "cell_type": "code",
   "execution_count": 52,
   "id": "004730da",
   "metadata": {},
   "outputs": [],
   "source": [
    "cov_select = (y2_to_y3_select.T.cov()/100)"
   ]
  },
  {
   "cell_type": "code",
   "execution_count": 53,
   "id": "3772e93b",
   "metadata": {},
   "outputs": [],
   "source": [
    "mu_select = mu[LIST]\n",
    "#mu_select"
   ]
  },
  {
   "cell_type": "code",
   "execution_count": 54,
   "id": "cbe12a86",
   "metadata": {},
   "outputs": [],
   "source": [
    "tmp = cov[LIST].T\n",
    "S_select = tmp[LIST]\n",
    "#S_select"
   ]
  },
  {
   "cell_type": "markdown",
   "id": "0b79913c",
   "metadata": {},
   "source": [
    "#### Comparing return mean and covariance"
   ]
  },
  {
   "cell_type": "code",
   "execution_count": 55,
   "id": "c79f5d76",
   "metadata": {},
   "outputs": [
    {
     "data": {
      "image/png": "[encoded data removed]",
      "text/plain": [
       "<Figure size 432x288 with 1 Axes>"
      ]
     },
     "metadata": {
      "needs_background": "light"
     },
     "output_type": "display_data"
    }
   ],
   "source": [
    "ef1 = EfficientFrontier(mu_select, S_select, weight_bounds=(0, 0.2))\n",
    "\n",
    "fig, ax = plt.subplots()\n",
    "plotting.plot_efficient_frontier(ef1, ax=ax, show_assets=True)\n",
    "\n",
    "# Find and plot the tangency portfolio\n",
    "ef2 = EfficientFrontier(mu_select, S_select, weight_bounds=(0, 0.2))\n",
    "# max sharpe ratio\n",
    "ef2.max_sharpe()\n",
    "ret_tangent, std_tangent, _ = ef2.portfolio_performance()\n",
    "ax.scatter(std_tangent, ret_tangent, marker=\"*\", s=100, c=\"r\", label=\"Max Sharpe\")\n",
    "\n",
    "ef3 = EfficientFrontier(mu_select, S_select, weight_bounds=(0, 0.2))\n",
    "# min volatility\n",
    "ef3.min_volatility()\n",
    "ret_tangent, std_tangent, _ = ef3.portfolio_performance()\n",
    "ax.scatter(std_tangent, ret_tangent, marker=\"*\", s=100, c=\"y\", label=\"Min Volatility\")\n",
    "\n",
    "ef4 = EfficientFrontier(mu_select, S_select, weight_bounds=(0, 0.2))\n",
    "#max utility\n",
    "ef4.max_quadratic_utility()\n",
    "ret_tangent, std_tangent, _ = ef4.portfolio_performance()\n",
    "ax.scatter(std_tangent, ret_tangent, marker=\"*\", s=100, c=\"b\", label=\"Max Utility\")\n",
    "\n",
    "# Plot random portfolios\n",
    "#ax.scatter(stds, rets, marker=\".\", c=sharpes, cmap=\"viridis_r\")\n",
    "\n",
    "# Format\n",
    "ax.set_title(\"Efficient Frontier\")\n",
    "ax.legend()\n",
    "plt.tight_layout()\n",
    "plt.show()"
   ]
  },
  {
   "cell_type": "markdown",
   "id": "dce8316b",
   "metadata": {},
   "source": [
    "##### max sharpe ratio"
   ]
  },
  {
   "cell_type": "code",
   "execution_count": 56,
   "id": "337f761b",
   "metadata": {
    "scrolled": true
   },
   "outputs": [
    {
     "name": "stdout",
     "output_type": "stream",
     "text": [
      "Expected annual return: 3.2%\n",
      "Annual volatility: 6.9%\n",
      "Sharpe Ratio: 0.18\n"
     ]
    }
   ],
   "source": [
    "ef2.portfolio_performance(verbose=True);"
   ]
  },
  {
   "cell_type": "code",
   "execution_count": 57,
   "id": "61f07a34",
   "metadata": {},
   "outputs": [
    {
     "name": "stdout",
     "output_type": "stream",
     "text": [
      "1177648 0.2\n",
      "792130 0.2\n",
      "1353283 0.2\n",
      "769397 0.2\n",
      "14846 0.2\n"
     ]
    }
   ],
   "source": [
    "for company, weight in ef2.clean_weights().items():\n",
    "    if weight != 0:\n",
    "        print(company, weight)"
   ]
  },
  {
   "cell_type": "markdown",
   "id": "d745f393",
   "metadata": {},
   "source": [
    "##### min volatility"
   ]
  },
  {
   "cell_type": "code",
   "execution_count": 58,
   "id": "c643cc5f",
   "metadata": {},
   "outputs": [
    {
     "name": "stdout",
     "output_type": "stream",
     "text": [
      "Expected annual return: 0.8%\n",
      "Annual volatility: 3.1%\n",
      "Sharpe Ratio: -0.40\n"
     ]
    }
   ],
   "source": [
    "ef3.portfolio_performance(verbose=True);"
   ]
  },
  {
   "cell_type": "code",
   "execution_count": 59,
   "id": "da45553b",
   "metadata": {},
   "outputs": [
    {
     "name": "stdout",
     "output_type": "stream",
     "text": [
      "876167 0.04065\n",
      "1002517 0.01295\n",
      "798359 0.01142\n",
      "1169561 0.19093\n",
      "1295947 0.05332\n",
      "1444307 0.02755\n",
      "200406 0.2\n",
      "1626853 0.06562\n",
      "1176309 0.03243\n",
      "769397 0.04164\n",
      "315131 0.03988\n",
      "14846 0.08361\n",
      "1341439 0.2\n"
     ]
    }
   ],
   "source": [
    "for company, weight in ef3.clean_weights().items():\n",
    "    if weight != 0:\n",
    "        print(company, weight)"
   ]
  },
  {
   "cell_type": "markdown",
   "id": "ca25f1b4",
   "metadata": {},
   "source": [
    "##### max utility"
   ]
  },
  {
   "cell_type": "code",
   "execution_count": 60,
   "id": "016bbed8",
   "metadata": {},
   "outputs": [
    {
     "name": "stdout",
     "output_type": "stream",
     "text": [
      "Expected annual return: 3.2%\n",
      "Annual volatility: 6.9%\n",
      "Sharpe Ratio: 0.18\n"
     ]
    }
   ],
   "source": [
    "ef4.portfolio_performance(verbose=True);"
   ]
  },
  {
   "cell_type": "code",
   "execution_count": 61,
   "id": "ef5353b2",
   "metadata": {},
   "outputs": [
    {
     "name": "stdout",
     "output_type": "stream",
     "text": [
      "1177648 0.2\n",
      "792130 0.2\n",
      "1353283 0.2\n",
      "769397 0.2\n",
      "14846 0.2\n"
     ]
    }
   ],
   "source": [
    "for company, weight in ef4.clean_weights().items():\n",
    "    if weight != 0:\n",
    "        print(company, weight)"
   ]
  }
 ],
 "metadata": {
  "kernelspec": {
   "display_name": "Python 3 (ipykernel)",
   "language": "python",
   "name": "python3"
  },
  "language_info": {
   "codemirror_mode": {
    "name": "ipython",
    "version": 3
   },
   "file_extension": ".py",
   "mimetype": "text/x-python",
   "name": "python",
   "nbconvert_exporter": "python",
   "pygments_lexer": "ipython3",
   "version": "3.9.7"
  }
 },
 "nbformat": 4,
 "nbformat_minor": 5
}
